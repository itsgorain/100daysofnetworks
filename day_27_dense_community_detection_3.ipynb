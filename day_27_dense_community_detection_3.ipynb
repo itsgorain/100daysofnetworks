{
 "cells": [
  {
   "cell_type": "code",
   "execution_count": 1,
   "id": "7423be59",
   "metadata": {},
   "outputs": [],
   "source": [
    "import networkx as nx\n",
    "import numpy as np\n",
    "import pandas as pd\n",
    "\n",
    "# for the explode statement; convert string to list\n",
    "from ast import literal_eval\n",
    "\n",
    "# for visualization\n",
    "from IPython.display import SVG \n",
    "from sknetwork.visualization import svg_graph \n",
    "from sknetwork.data import Bunch \n",
    "from sknetwork.ranking import PageRank "
   ]
  },
  {
   "cell_type": "code",
   "execution_count": 2,
   "id": "102626ff",
   "metadata": {},
   "outputs": [],
   "source": [
    "def draw_graph(G, show_names=False, node_size=1, font_size=10, edge_width=0.5): \n",
    "\n",
    "    adjacency = nx.to_scipy_sparse_matrix(G, nodelist=None, dtype=None, weight='weight', format='csr') \n",
    "\n",
    "    names = np.array(list(G.nodes())) \n",
    "\n",
    "    graph = Bunch() \n",
    "    graph.adjacency = adjacency \n",
    "    graph.names = np.array(names) \n",
    "\n",
    "    pagerank = PageRank() \n",
    "\n",
    "    scores = pagerank.fit_transform(adjacency) \n",
    "\n",
    "    if show_names: \n",
    "        \n",
    "        image = svg_graph(graph.adjacency, font_size=font_size, node_size=node_size, names=graph.names, width=700, height=500, scores=scores, edge_width=edge_width) \n",
    "\n",
    "    else: \n",
    "\n",
    "        image = svg_graph(graph.adjacency, node_size=node_size, width=700, height=500, scores = scores, edge_width=edge_width) \n",
    "\n",
    "    return SVG(image) "
   ]
  },
  {
   "cell_type": "markdown",
   "id": "77a12aec",
   "metadata": {},
   "source": [
    "# Create Graph using Bipartite Projection on Arxiv Dataset"
   ]
  },
  {
   "cell_type": "code",
   "execution_count": 3,
   "id": "443c3cd4",
   "metadata": {},
   "outputs": [
    {
     "data": {
      "text/html": [
       "<div>\n",
       "<style scoped>\n",
       "    .dataframe tbody tr th:only-of-type {\n",
       "        vertical-align: middle;\n",
       "    }\n",
       "\n",
       "    .dataframe tbody tr th {\n",
       "        vertical-align: top;\n",
       "    }\n",
       "\n",
       "    .dataframe thead th {\n",
       "        text-align: right;\n",
       "    }\n",
       "</style>\n",
       "<table border=\"1\" class=\"dataframe\">\n",
       "  <thead>\n",
       "    <tr style=\"text-align: right;\">\n",
       "      <th></th>\n",
       "      <th>authors</th>\n",
       "      <th>title</th>\n",
       "    </tr>\n",
       "  </thead>\n",
       "  <tbody>\n",
       "    <tr>\n",
       "      <th>0</th>\n",
       "      <td>Kiarash Sedghighadikolaei</td>\n",
       "      <td>A Comprehensive Survey of Threshold Digital Si...</td>\n",
       "    </tr>\n",
       "    <tr>\n",
       "      <th>1</th>\n",
       "      <td>Attila Altay Yavuz</td>\n",
       "      <td>A Comprehensive Survey of Threshold Digital Si...</td>\n",
       "    </tr>\n",
       "    <tr>\n",
       "      <th>2</th>\n",
       "      <td>Alenka {Č}opi{č}</td>\n",
       "      <td>Phosphatidylserine transport in cell life and ...</td>\n",
       "    </tr>\n",
       "    <tr>\n",
       "      <th>3</th>\n",
       "      <td>Thibaud Dieudonné</td>\n",
       "      <td>Phosphatidylserine transport in cell life and ...</td>\n",
       "    </tr>\n",
       "    <tr>\n",
       "      <th>4</th>\n",
       "      <td>Guillaume Lenoir</td>\n",
       "      <td>Phosphatidylserine transport in cell life and ...</td>\n",
       "    </tr>\n",
       "  </tbody>\n",
       "</table>\n",
       "</div>"
      ],
      "text/plain": [
       "                     authors  \\\n",
       "0  Kiarash Sedghighadikolaei   \n",
       "1         Attila Altay Yavuz   \n",
       "2           Alenka {Č}opi{č}   \n",
       "3          Thibaud Dieudonné   \n",
       "4           Guillaume Lenoir   \n",
       "\n",
       "                                               title  \n",
       "0  A Comprehensive Survey of Threshold Digital Si...  \n",
       "1  A Comprehensive Survey of Threshold Digital Si...  \n",
       "2  Phosphatidylserine transport in cell life and ...  \n",
       "3  Phosphatidylserine transport in cell life and ...  \n",
       "4  Phosphatidylserine transport in cell life and ...  "
      ]
     },
     "execution_count": 3,
     "metadata": {},
     "output_type": "execute_result"
    }
   ],
   "source": [
    "data = r'C:\\Users\\groov\\PythonCode\\100daysofnetworks\\data\\arxiv_artificial_life.csv'\n",
    "\n",
    "df = pd.read_csv(data)\n",
    "df['authors'] = df['authors'].apply(literal_eval)\n",
    "\n",
    "df = df[['authors', 'title']]\n",
    "df = df.explode('authors')\n",
    "df.reset_index(drop=True, inplace=True)\n",
    "\n",
    "# fix the & so that scikit-network stops crashing\n",
    "df['authors'] = df['authors'].str.replace('&', 'and')\n",
    "df['title'] = df['title'].str.replace('&', 'and')\n",
    "\n",
    "df.head()"
   ]
  },
  {
   "cell_type": "code",
   "execution_count": 4,
   "id": "e5726918",
   "metadata": {},
   "outputs": [],
   "source": [
    "from networkx.algorithms import bipartite\n",
    "\n",
    "B = nx.from_pandas_edgelist(df, source='authors', target='title')\n",
    "G = bipartite.projected_graph(B, df['authors'])\n",
    "\n",
    "G = nx.k_core(G, 2) # no isolates or two-node groups"
   ]
  },
  {
   "cell_type": "code",
   "execution_count": 5,
   "id": "fbee3229",
   "metadata": {},
   "outputs": [
    {
     "name": "stdout",
     "output_type": "stream",
     "text": [
      "Graph with 48753 nodes and 273061 edges\n"
     ]
    }
   ],
   "source": [
    "print(nx.info(G))"
   ]
  },
  {
   "cell_type": "markdown",
   "id": "f9952d45",
   "metadata": {},
   "source": [
    "# Community Detection + Community Analysis\n",
    "\n",
    "There's two parts to what I am attempting today.\n",
    "- I need to use community detection to identify communities in the network.\n",
    "- I can then use network science and data science to identify interesting communities\n",
    "\n",
    "By interesting, I mean not stars. I am looking for complex ecosystems. So, I will identify communities, then attempt to detect more complex ecosystems by using triangles and density."
   ]
  },
  {
   "cell_type": "markdown",
   "id": "19d07b3a",
   "metadata": {},
   "source": [
    "## Community Detection"
   ]
  },
  {
   "cell_type": "code",
   "execution_count": 6,
   "id": "46f88f22",
   "metadata": {},
   "outputs": [],
   "source": [
    "import community as community_louvain\n",
    "\n",
    "partition = community_louvain.best_partition(G, resolution=0.01, random_state=1337) # 10 was good for this network"
   ]
  },
  {
   "cell_type": "code",
   "execution_count": 7,
   "id": "9b81c14c",
   "metadata": {},
   "outputs": [
    {
     "data": {
      "text/plain": [
       "93      90\n",
       "636     73\n",
       "843     73\n",
       "557     68\n",
       "1038    67\n",
       "4128    67\n",
       "2549    65\n",
       "534     64\n",
       "20      63\n",
       "577     63\n",
       "1282    63\n",
       "990     63\n",
       "940     62\n",
       "89      62\n",
       "5004    61\n",
       "246     61\n",
       "48      60\n",
       "229     60\n",
       "3854    59\n",
       "5132    59\n",
       "Name: community, dtype: int64"
      ]
     },
     "execution_count": 7,
     "metadata": {},
     "output_type": "execute_result"
    }
   ],
   "source": [
    "community_df = pd.DataFrame().from_dict(partition, orient='index')\n",
    "community_df.reset_index(inplace=True)\n",
    "community_df.columns = ['node', 'community']\n",
    "\n",
    "community_df['community'].value_counts()[0:20]"
   ]
  },
  {
   "cell_type": "code",
   "execution_count": 8,
   "id": "5ed70761",
   "metadata": {},
   "outputs": [
    {
     "data": {
      "text/html": [
       "<div>\n",
       "<style scoped>\n",
       "    .dataframe tbody tr th:only-of-type {\n",
       "        vertical-align: middle;\n",
       "    }\n",
       "\n",
       "    .dataframe tbody tr th {\n",
       "        vertical-align: top;\n",
       "    }\n",
       "\n",
       "    .dataframe thead th {\n",
       "        text-align: right;\n",
       "    }\n",
       "</style>\n",
       "<table border=\"1\" class=\"dataframe\">\n",
       "  <thead>\n",
       "    <tr style=\"text-align: right;\">\n",
       "      <th></th>\n",
       "      <th>community</th>\n",
       "      <th>node_count</th>\n",
       "    </tr>\n",
       "  </thead>\n",
       "  <tbody>\n",
       "    <tr>\n",
       "      <th>0</th>\n",
       "      <td>93</td>\n",
       "      <td>90</td>\n",
       "    </tr>\n",
       "    <tr>\n",
       "      <th>1</th>\n",
       "      <td>636</td>\n",
       "      <td>73</td>\n",
       "    </tr>\n",
       "    <tr>\n",
       "      <th>2</th>\n",
       "      <td>843</td>\n",
       "      <td>73</td>\n",
       "    </tr>\n",
       "    <tr>\n",
       "      <th>3</th>\n",
       "      <td>557</td>\n",
       "      <td>68</td>\n",
       "    </tr>\n",
       "    <tr>\n",
       "      <th>4</th>\n",
       "      <td>1038</td>\n",
       "      <td>67</td>\n",
       "    </tr>\n",
       "  </tbody>\n",
       "</table>\n",
       "</div>"
      ],
      "text/plain": [
       "   community  node_count\n",
       "0         93          90\n",
       "1        636          73\n",
       "2        843          73\n",
       "3        557          68\n",
       "4       1038          67"
      ]
     },
     "execution_count": 8,
     "metadata": {},
     "output_type": "execute_result"
    }
   ],
   "source": [
    "community_node_counts = community_df['community'].value_counts()\n",
    "\n",
    "community_size_df = pd.DataFrame(community_node_counts).reset_index()\n",
    "community_size_df.columns = ['community', 'node_count']\n",
    "\n",
    "# just to speed up this experiment\n",
    "community_size_df = community_size_df[community_size_df['node_count'] > 10]\n",
    "\n",
    "community_size_df.head()"
   ]
  },
  {
   "cell_type": "code",
   "execution_count": 9,
   "id": "77719ff7",
   "metadata": {},
   "outputs": [
    {
     "data": {
      "text/plain": [
       "(956, 2)"
      ]
     },
     "execution_count": 9,
     "metadata": {},
     "output_type": "execute_result"
    }
   ],
   "source": [
    "community_size_df.shape"
   ]
  },
  {
   "cell_type": "markdown",
   "id": "65a4daaa",
   "metadata": {},
   "source": [
    "## Capture Community Context"
   ]
  },
  {
   "cell_type": "code",
   "execution_count": 10,
   "id": "88142c5f",
   "metadata": {},
   "outputs": [
    {
     "data": {
      "text/html": [
       "<div>\n",
       "<style scoped>\n",
       "    .dataframe tbody tr th:only-of-type {\n",
       "        vertical-align: middle;\n",
       "    }\n",
       "\n",
       "    .dataframe tbody tr th {\n",
       "        vertical-align: top;\n",
       "    }\n",
       "\n",
       "    .dataframe thead th {\n",
       "        text-align: right;\n",
       "    }\n",
       "</style>\n",
       "<table border=\"1\" class=\"dataframe\">\n",
       "  <thead>\n",
       "    <tr style=\"text-align: right;\">\n",
       "      <th></th>\n",
       "      <th>node</th>\n",
       "      <th>community</th>\n",
       "    </tr>\n",
       "  </thead>\n",
       "  <tbody>\n",
       "    <tr>\n",
       "      <th>0</th>\n",
       "      <td>Alenka {Č}opi{č}</td>\n",
       "      <td>0</td>\n",
       "    </tr>\n",
       "    <tr>\n",
       "      <th>1</th>\n",
       "      <td>Thibaud Dieudonné</td>\n",
       "      <td>0</td>\n",
       "    </tr>\n",
       "    <tr>\n",
       "      <th>2</th>\n",
       "      <td>Guillaume Lenoir</td>\n",
       "      <td>0</td>\n",
       "    </tr>\n",
       "    <tr>\n",
       "      <th>3</th>\n",
       "      <td>Michele Ambrosino</td>\n",
       "      <td>1</td>\n",
       "    </tr>\n",
       "    <tr>\n",
       "      <th>4</th>\n",
       "      <td>Manar Mahmalji</td>\n",
       "      <td>1</td>\n",
       "    </tr>\n",
       "  </tbody>\n",
       "</table>\n",
       "</div>"
      ],
      "text/plain": [
       "                node  community\n",
       "0   Alenka {Č}opi{č}          0\n",
       "1  Thibaud Dieudonné          0\n",
       "2   Guillaume Lenoir          0\n",
       "3  Michele Ambrosino          1\n",
       "4     Manar Mahmalji          1"
      ]
     },
     "execution_count": 10,
     "metadata": {},
     "output_type": "execute_result"
    }
   ],
   "source": [
    "community_df.head()"
   ]
  },
  {
   "cell_type": "code",
   "execution_count": 11,
   "id": "024410cd",
   "metadata": {},
   "outputs": [
    {
     "data": {
      "text/html": [
       "<div>\n",
       "<style scoped>\n",
       "    .dataframe tbody tr th:only-of-type {\n",
       "        vertical-align: middle;\n",
       "    }\n",
       "\n",
       "    .dataframe tbody tr th {\n",
       "        vertical-align: top;\n",
       "    }\n",
       "\n",
       "    .dataframe thead th {\n",
       "        text-align: right;\n",
       "    }\n",
       "</style>\n",
       "<table border=\"1\" class=\"dataframe\">\n",
       "  <thead>\n",
       "    <tr style=\"text-align: right;\">\n",
       "      <th></th>\n",
       "      <th>community</th>\n",
       "      <th>node_count</th>\n",
       "    </tr>\n",
       "  </thead>\n",
       "  <tbody>\n",
       "    <tr>\n",
       "      <th>0</th>\n",
       "      <td>93</td>\n",
       "      <td>90</td>\n",
       "    </tr>\n",
       "  </tbody>\n",
       "</table>\n",
       "</div>"
      ],
      "text/plain": [
       "   community  node_count\n",
       "0         93          90"
      ]
     },
     "execution_count": 11,
     "metadata": {},
     "output_type": "execute_result"
    }
   ],
   "source": [
    "community_size_df.head(1)"
   ]
  },
  {
   "cell_type": "code",
   "execution_count": 12,
   "id": "0e3ebd1c",
   "metadata": {},
   "outputs": [],
   "source": [
    "def get_community_nodes(community_df, community):\n",
    "\n",
    "    return sorted(community_df[community_df['community']==community]['node'].values)"
   ]
  },
  {
   "cell_type": "code",
   "execution_count": 13,
   "id": "c8edef19",
   "metadata": {},
   "outputs": [],
   "source": [
    "def get_community_context(community_size_df, community_df, G):\n",
    "\n",
    "    G = G.copy()\n",
    "\n",
    "    communities = {}\n",
    "\n",
    "    for row in community_size_df.iterrows():\n",
    "\n",
    "        data = row[1]\n",
    "        community = data['community']\n",
    "        node_count = data['node_count']\n",
    "        \n",
    "        nodes = get_community_nodes(community_df, community)\n",
    "        G_sub = G.subgraph(nodes)\n",
    "\n",
    "        # starting with density today; will add on more context later\n",
    "        density = nx.density(G_sub)\n",
    "        \n",
    "        communities[community] = {}\n",
    "\n",
    "        communities[community]['G'] = G_sub\n",
    "        communities[community]['density'] = density\n",
    "        communities[community]['node_count'] = len(G_sub.nodes)\n",
    "        \n",
    "    return communities"
   ]
  },
  {
   "cell_type": "code",
   "execution_count": 14,
   "id": "82447ce7",
   "metadata": {},
   "outputs": [],
   "source": [
    "community_context_dict = get_community_context(community_size_df, community_df, G)"
   ]
  },
  {
   "cell_type": "code",
   "execution_count": 15,
   "id": "fb8dc673",
   "metadata": {},
   "outputs": [
    {
     "data": {
      "text/html": [
       "<div>\n",
       "<style scoped>\n",
       "    .dataframe tbody tr th:only-of-type {\n",
       "        vertical-align: middle;\n",
       "    }\n",
       "\n",
       "    .dataframe tbody tr th {\n",
       "        vertical-align: top;\n",
       "    }\n",
       "\n",
       "    .dataframe thead th {\n",
       "        text-align: right;\n",
       "    }\n",
       "</style>\n",
       "<table border=\"1\" class=\"dataframe\">\n",
       "  <thead>\n",
       "    <tr style=\"text-align: right;\">\n",
       "      <th></th>\n",
       "      <th>community</th>\n",
       "      <th>G</th>\n",
       "      <th>density</th>\n",
       "      <th>node_count</th>\n",
       "    </tr>\n",
       "  </thead>\n",
       "  <tbody>\n",
       "    <tr>\n",
       "      <th>0</th>\n",
       "      <td>93</td>\n",
       "      <td>(Kristian Reale, Yinfeng Yu, Fabio Aurelio D'A...</td>\n",
       "      <td>0.073908</td>\n",
       "      <td>90</td>\n",
       "    </tr>\n",
       "    <tr>\n",
       "      <th>1</th>\n",
       "      <td>636</td>\n",
       "      <td>(Manuel Camargo, Fabrizio M. Maggi, Volodymyr ...</td>\n",
       "      <td>0.085997</td>\n",
       "      <td>73</td>\n",
       "    </tr>\n",
       "    <tr>\n",
       "      <th>2</th>\n",
       "      <td>843</td>\n",
       "      <td>(Jia Zhu, Hanadi Salman, Xiaohui Lin, Ali Fati...</td>\n",
       "      <td>0.080289</td>\n",
       "      <td>73</td>\n",
       "    </tr>\n",
       "    <tr>\n",
       "      <th>3</th>\n",
       "      <td>557</td>\n",
       "      <td>(Pingyi Luo, Yueji Yang, Chenglei Yang, H. V. ...</td>\n",
       "      <td>0.107112</td>\n",
       "      <td>68</td>\n",
       "    </tr>\n",
       "    <tr>\n",
       "      <th>4</th>\n",
       "      <td>1038</td>\n",
       "      <td>(James M. Cordes, Cherry Ng, Julia DeMarines, ...</td>\n",
       "      <td>0.383085</td>\n",
       "      <td>67</td>\n",
       "    </tr>\n",
       "  </tbody>\n",
       "</table>\n",
       "</div>"
      ],
      "text/plain": [
       "   community                                                  G   density  \\\n",
       "0         93  (Kristian Reale, Yinfeng Yu, Fabio Aurelio D'A...  0.073908   \n",
       "1        636  (Manuel Camargo, Fabrizio M. Maggi, Volodymyr ...  0.085997   \n",
       "2        843  (Jia Zhu, Hanadi Salman, Xiaohui Lin, Ali Fati...  0.080289   \n",
       "3        557  (Pingyi Luo, Yueji Yang, Chenglei Yang, H. V. ...  0.107112   \n",
       "4       1038  (James M. Cordes, Cherry Ng, Julia DeMarines, ...  0.383085   \n",
       "\n",
       "  node_count  \n",
       "0         90  \n",
       "1         73  \n",
       "2         73  \n",
       "3         68  \n",
       "4         67  "
      ]
     },
     "execution_count": 15,
     "metadata": {},
     "output_type": "execute_result"
    }
   ],
   "source": [
    "community_context_df = pd.DataFrame(community_context_dict).T.reset_index()\n",
    "community_context_df.columns = ['community', 'G', 'density', 'node_count']\n",
    "\n",
    "community_context_df.head()"
   ]
  },
  {
   "cell_type": "code",
   "execution_count": 16,
   "id": "386bcb66",
   "metadata": {},
   "outputs": [
    {
     "data": {
      "text/plain": [
       "<AxesSubplot:ylabel='Frequency'>"
      ]
     },
     "execution_count": 16,
     "metadata": {},
     "output_type": "execute_result"
    },
    {
     "data": {
      "image/png": "[encoded data removed]",
      "text/plain": [
       "<Figure size 864x576 with 1 Axes>"
      ]
     },
     "metadata": {
      "needs_background": "light"
     },
     "output_type": "display_data"
    }
   ],
   "source": [
    "community_context_df['density'].plot.hist(bins=50, figsize=(12,8))"
   ]
  },
  {
   "cell_type": "markdown",
   "id": "bcb83c40",
   "metadata": {},
   "source": [
    "#### Investigate Communities"
   ]
  },
  {
   "cell_type": "code",
   "execution_count": 17,
   "id": "05e65d6a",
   "metadata": {},
   "outputs": [],
   "source": [
    "def draw_graph(G, show_names=False, node_size=1, font_size=10, edge_width=0.5): \n",
    "\n",
    "    adjacency = nx.to_scipy_sparse_matrix(G, nodelist=None, dtype=None, weight='weight', format='csr') \n",
    "\n",
    "    names = np.array(list(G.nodes())) \n",
    "\n",
    "    graph = Bunch() \n",
    "    graph.adjacency = adjacency \n",
    "    graph.names = np.array(names) \n",
    "\n",
    "    pagerank = PageRank() \n",
    "\n",
    "    scores = pagerank.fit_transform(adjacency) \n",
    "\n",
    "    if show_names: \n",
    "        \n",
    "        image = svg_graph(graph.adjacency, font_size=font_size, node_size=node_size, names=graph.names, width=700, height=500, scores=scores, edge_width=edge_width) \n",
    "\n",
    "    else: \n",
    "\n",
    "        image = svg_graph(graph.adjacency, node_size=node_size, width=700, height=500, scores = scores, edge_width=edge_width) \n",
    "\n",
    "    return SVG(image) "
   ]
  },
  {
   "cell_type": "code",
   "execution_count": 18,
   "id": "960ade35",
   "metadata": {},
   "outputs": [],
   "source": [
    "def show_author_papers(df, G):\n",
    "    \n",
    "    G = G.copy()\n",
    "    \n",
    "    check_nodes = G.nodes\n",
    "\n",
    "    return sorted(df[df['authors'].isin(check_nodes)]['title'].unique())"
   ]
  },
  {
   "cell_type": "code",
   "execution_count": 19,
   "id": "6b5ec685",
   "metadata": {},
   "outputs": [],
   "source": [
    "def fetch_communities(community_context_df, min_density, max_density, max_nodes=None, n_communities=10):\n",
    "    \n",
    "    if max_nodes==None:\n",
    "        community_context_df['node_count'].sum()\n",
    "    \n",
    "    community_context_df = community_context_df.copy()\n",
    "\n",
    "    mask = (community_context_df['density']>min_density) \\\n",
    "        & (community_context_df['density']<max_density)  \\\n",
    "        & (community_context_df['node_count']<max_nodes)\n",
    "    \n",
    "    community_context_df = community_context_df[mask].copy()\n",
    "    community_context_df = community_context_df.sample(n_communities) # grabbing ten to see the ranges\n",
    "\n",
    "    community_context_df.sort_values('density', inplace=True)\n",
    "    communities = community_context_df['community'].values[0:n_communities]\n",
    "    \n",
    "    return communities"
   ]
  },
  {
   "cell_type": "code",
   "execution_count": 20,
   "id": "37cedc99",
   "metadata": {},
   "outputs": [],
   "source": [
    "def draw_community(G_check):\n",
    "\n",
    "    print('Density: {}'.format(nx.density(G_check)))\n",
    "    print('Node Count: {}'.format(len(G_check.nodes)))\n",
    "    return draw_graph(G_check, show_names=True, node_size=3, edge_width=0.2)"
   ]
  },
  {
   "cell_type": "code",
   "execution_count": 21,
   "id": "4cd8b228",
   "metadata": {},
   "outputs": [
    {
     "data": {
      "text/plain": [
       "array([ 765, 2863, 1751,  802, 5034, 3132, 2001,   99, 1396, 2074, 4130,\n",
       "       4668,  510,  172,  798,  684, 2308, 4035,  880,  553], dtype=int64)"
      ]
     },
     "execution_count": 21,
     "metadata": {},
     "output_type": "execute_result"
    }
   ],
   "source": [
    "min_density = 0.1\n",
    "max_density = 0.3\n",
    "max_nodes = 100\n",
    "\n",
    "# .1 to .3 has more papers and more variation\n",
    "# .3 to .6 is very cool\n",
    "# .6 to .8 is cool to describe smaller more densely connected groups\n",
    "\n",
    "# i did several iterations to find titles; sparse communities seem to have more and more interesting papers (opinion)\n",
    "\n",
    "communities = fetch_communities(community_context_df, min_density=min_density, max_density=max_density, max_nodes=max_nodes, n_communities=20)\n",
    "communities"
   ]
  },
  {
   "cell_type": "code",
   "execution_count": 22,
   "id": "b86e905b",
   "metadata": {},
   "outputs": [
    {
     "name": "stdout",
     "output_type": "stream",
     "text": [
      "Density: 0.12280701754385964\n",
      "Node Count: 39\n"
     ]
    },
    {
     "data": {
      "image/svg+xml": [
       "<svg height=\"540\" width=\"840.0\" xmlns=\"http://www.w3.org/2000/svg\"><path d=\"M 238 133 200 137\" stroke=\"gray\" stroke-width=\"0.2\"/><path d=\"M 238 133 221 285\" stroke=\"gray\" stroke-width=\"0.2\"/><path d=\"M 380 520 397 483\" stroke=\"gray\" stroke-width=\"0.2\"/><path d=\"M 380 520 398 343\" stroke=\"gray\" stroke-width=\"0.2\"/><path d=\"M 380 520 428 509\" stroke=\"gray\" stroke-width=\"0.2\"/><path d=\"M 119 270 89 235\" stroke=\"gray\" stroke-width=\"0.2\"/><path d=\"M 119 270 116 210\" stroke=\"gray\" stroke-width=\"0.2\"/><path d=\"M 119 270 91 271\" stroke=\"gray\" stroke-width=\"0.2\"/><path d=\"M 119 270 135 234\" stroke=\"gray\" stroke-width=\"0.2\"/><path d=\"M 119 270 94 164\" stroke=\"gray\" stroke-width=\"0.2\"/><path d=\"M 119 270 221 285\" stroke=\"gray\" stroke-width=\"0.2\"/><path d=\"M 89 235 119 270\" stroke=\"gray\" stroke-width=\"0.2\"/><path d=\"M 89 235 116 210\" stroke=\"gray\" stroke-width=\"0.2\"/><path d=\"M 89 235 91 271\" stroke=\"gray\" stroke-width=\"0.2\"/><path d=\"M 89 235 135 234\" stroke=\"gray\" stroke-width=\"0.2\"/><path d=\"M 89 235 94 164\" stroke=\"gray\" stroke-width=\"0.2\"/><path d=\"M 89 235 221 285\" stroke=\"gray\" stroke-width=\"0.2\"/><path d=\"M 529 313 420 265\" stroke=\"gray\" stroke-width=\"0.2\"/><path d=\"M 529 313 603 273\" stroke=\"gray\" stroke-width=\"0.2\"/><path d=\"M 529 313 548 282\" stroke=\"gray\" stroke-width=\"0.2\"/><path d=\"M 397 483 380 520\" stroke=\"gray\" stroke-width=\"0.2\"/><path d=\"M 397 483 398 343\" stroke=\"gray\" stroke-width=\"0.2\"/><path d=\"M 397 483 428 509\" stroke=\"gray\" stroke-width=\"0.2\"/><path d=\"M 455 220 398 343\" stroke=\"gray\" stroke-width=\"0.2\"/><path d=\"M 455 220 437 180\" stroke=\"gray\" stroke-width=\"0.2\"/><path d=\"M 455 220 502 188\" stroke=\"gray\" stroke-width=\"0.2\"/><path d=\"M 497 380 398 343\" stroke=\"gray\" stroke-width=\"0.2\"/><path d=\"M 497 380 526 373\" stroke=\"gray\" stroke-width=\"0.2\"/><path d=\"M 497 380 523 250\" stroke=\"gray\" stroke-width=\"0.2\"/><path d=\"M 113 392 221 285\" stroke=\"gray\" stroke-width=\"0.2\"/><path d=\"M 315 380 283 352\" stroke=\"gray\" stroke-width=\"0.2\"/><path d=\"M 315 380 398 343\" stroke=\"gray\" stroke-width=\"0.2\"/><path d=\"M 315 380 321 340\" stroke=\"gray\" stroke-width=\"0.2\"/><path d=\"M 315 380 288 391\" stroke=\"gray\" stroke-width=\"0.2\"/><path d=\"M 315 380 221 285\" stroke=\"gray\" stroke-width=\"0.2\"/><path d=\"M 315 380 300 316\" stroke=\"gray\" stroke-width=\"0.2\"/><path d=\"M 150 430 183 451\" stroke=\"gray\" stroke-width=\"0.2\"/><path d=\"M 150 430 221 285\" stroke=\"gray\" stroke-width=\"0.2\"/><path d=\"M 420 265 529 313\" stroke=\"gray\" stroke-width=\"0.2\"/><path d=\"M 420 265 603 273\" stroke=\"gray\" stroke-width=\"0.2\"/><path d=\"M 420 265 305 231\" stroke=\"gray\" stroke-width=\"0.2\"/><path d=\"M 420 265 548 282\" stroke=\"gray\" stroke-width=\"0.2\"/><path d=\"M 420 265 320 198\" stroke=\"gray\" stroke-width=\"0.2\"/><path d=\"M 420 265 221 285\" stroke=\"gray\" stroke-width=\"0.2\"/><path d=\"M 603 273 529 313\" stroke=\"gray\" stroke-width=\"0.2\"/><path d=\"M 603 273 420 265\" stroke=\"gray\" stroke-width=\"0.2\"/><path d=\"M 603 273 548 282\" stroke=\"gray\" stroke-width=\"0.2\"/><path d=\"M 603 273 714 232\" stroke=\"gray\" stroke-width=\"0.2\"/><path d=\"M 603 273 720 290\" stroke=\"gray\" stroke-width=\"0.2\"/><path d=\"M 283 352 315 380\" stroke=\"gray\" stroke-width=\"0.2\"/><path d=\"M 283 352 398 343\" stroke=\"gray\" stroke-width=\"0.2\"/><path d=\"M 283 352 321 340\" stroke=\"gray\" stroke-width=\"0.2\"/><path d=\"M 283 352 288 391\" stroke=\"gray\" stroke-width=\"0.2\"/><path d=\"M 283 352 221 285\" stroke=\"gray\" stroke-width=\"0.2\"/><path d=\"M 283 352 300 316\" stroke=\"gray\" stroke-width=\"0.2\"/><path d=\"M 398 343 380 520\" stroke=\"gray\" stroke-width=\"0.2\"/><path d=\"M 398 343 397 483\" stroke=\"gray\" stroke-width=\"0.2\"/><path d=\"M 398 343 455 220\" stroke=\"gray\" stroke-width=\"0.2\"/><path d=\"M 398 343 497 380\" stroke=\"gray\" stroke-width=\"0.2\"/><path d=\"M 398 343 315 380\" stroke=\"gray\" stroke-width=\"0.2\"/><path d=\"M 398 343 283 352\" stroke=\"gray\" stroke-width=\"0.2\"/><path d=\"M 398 343 321 340\" stroke=\"gray\" stroke-width=\"0.2\"/><path d=\"M 398 343 526 373\" stroke=\"gray\" stroke-width=\"0.2\"/><path d=\"M 398 343 437 180\" stroke=\"gray\" stroke-width=\"0.2\"/><path d=\"M 398 343 523 250\" stroke=\"gray\" stroke-width=\"0.2\"/><path d=\"M 398 343 502 188\" stroke=\"gray\" stroke-width=\"0.2\"/><path d=\"M 398 343 288 391\" stroke=\"gray\" stroke-width=\"0.2\"/><path d=\"M 398 343 221 285\" stroke=\"gray\" stroke-width=\"0.2\"/><path d=\"M 398 343 300 316\" stroke=\"gray\" stroke-width=\"0.2\"/><path d=\"M 398 343 428 509\" stroke=\"gray\" stroke-width=\"0.2\"/><path d=\"M 321 340 315 380\" stroke=\"gray\" stroke-width=\"0.2\"/><path d=\"M 321 340 283 352\" stroke=\"gray\" stroke-width=\"0.2\"/><path d=\"M 321 340 398 343\" stroke=\"gray\" stroke-width=\"0.2\"/><path d=\"M 321 340 288 391\" stroke=\"gray\" stroke-width=\"0.2\"/><path d=\"M 321 340 221 285\" stroke=\"gray\" stroke-width=\"0.2\"/><path d=\"M 321 340 300 316\" stroke=\"gray\" stroke-width=\"0.2\"/><path d=\"M 589 144 561 113\" stroke=\"gray\" stroke-width=\"0.2\"/><path d=\"M 589 144 523 250\" stroke=\"gray\" stroke-width=\"0.2\"/><path d=\"M 589 144 502 188\" stroke=\"gray\" stroke-width=\"0.2\"/><path d=\"M 526 373 497 380\" stroke=\"gray\" stroke-width=\"0.2\"/><path d=\"M 526 373 398 343\" stroke=\"gray\" stroke-width=\"0.2\"/><path d=\"M 526 373 523 250\" stroke=\"gray\" stroke-width=\"0.2\"/><path d=\"M 116 210 119 270\" stroke=\"gray\" stroke-width=\"0.2\"/><path d=\"M 116 210 89 235\" stroke=\"gray\" stroke-width=\"0.2\"/><path d=\"M 116 210 91 271\" stroke=\"gray\" stroke-width=\"0.2\"/><path d=\"M 116 210 135 234\" stroke=\"gray\" stroke-width=\"0.2\"/><path d=\"M 116 210 94 164\" stroke=\"gray\" stroke-width=\"0.2\"/><path d=\"M 116 210 221 285\" stroke=\"gray\" stroke-width=\"0.2\"/><path d=\"M 91 271 119 270\" stroke=\"gray\" stroke-width=\"0.2\"/><path d=\"M 91 271 89 235\" stroke=\"gray\" stroke-width=\"0.2\"/><path d=\"M 91 271 116 210\" stroke=\"gray\" stroke-width=\"0.2\"/><path d=\"M 91 271 135 234\" stroke=\"gray\" stroke-width=\"0.2\"/><path d=\"M 91 271 94 164\" stroke=\"gray\" stroke-width=\"0.2\"/><path d=\"M 91 271 221 285\" stroke=\"gray\" stroke-width=\"0.2\"/><path d=\"M 305 231 420 265\" stroke=\"gray\" stroke-width=\"0.2\"/><path d=\"M 305 231 320 198\" stroke=\"gray\" stroke-width=\"0.2\"/><path d=\"M 305 231 221 285\" stroke=\"gray\" stroke-width=\"0.2\"/><path d=\"M 561 113 589 144\" stroke=\"gray\" stroke-width=\"0.2\"/><path d=\"M 561 113 523 250\" stroke=\"gray\" stroke-width=\"0.2\"/><path d=\"M 561 113 502 188\" stroke=\"gray\" stroke-width=\"0.2\"/><path d=\"M 437 180 455 220\" stroke=\"gray\" stroke-width=\"0.2\"/><path d=\"M 437 180 398 343\" stroke=\"gray\" stroke-width=\"0.2\"/><path d=\"M 437 180 502 188\" stroke=\"gray\" stroke-width=\"0.2\"/><path d=\"M 548 282 529 313\" stroke=\"gray\" stroke-width=\"0.2\"/><path d=\"M 548 282 420 265\" stroke=\"gray\" stroke-width=\"0.2\"/><path d=\"M 548 282 603 273\" stroke=\"gray\" stroke-width=\"0.2\"/><path d=\"M 523 250 497 380\" stroke=\"gray\" stroke-width=\"0.2\"/><path d=\"M 523 250 398 343\" stroke=\"gray\" stroke-width=\"0.2\"/><path d=\"M 523 250 589 144\" stroke=\"gray\" stroke-width=\"0.2\"/><path d=\"M 523 250 526 373\" stroke=\"gray\" stroke-width=\"0.2\"/><path d=\"M 523 250 561 113\" stroke=\"gray\" stroke-width=\"0.2\"/><path d=\"M 523 250 502 188\" stroke=\"gray\" stroke-width=\"0.2\"/><path d=\"M 200 137 238 133\" stroke=\"gray\" stroke-width=\"0.2\"/><path d=\"M 200 137 221 285\" stroke=\"gray\" stroke-width=\"0.2\"/><path d=\"M 183 451 150 430\" stroke=\"gray\" stroke-width=\"0.2\"/><path d=\"M 183 451 221 285\" stroke=\"gray\" stroke-width=\"0.2\"/><path d=\"M 502 188 455 220\" stroke=\"gray\" stroke-width=\"0.2\"/><path d=\"M 502 188 398 343\" stroke=\"gray\" stroke-width=\"0.2\"/><path d=\"M 502 188 589 144\" stroke=\"gray\" stroke-width=\"0.2\"/><path d=\"M 502 188 561 113\" stroke=\"gray\" stroke-width=\"0.2\"/><path d=\"M 502 188 437 180\" stroke=\"gray\" stroke-width=\"0.2\"/><path d=\"M 502 188 523 250\" stroke=\"gray\" stroke-width=\"0.2\"/><path d=\"M 288 391 315 380\" stroke=\"gray\" stroke-width=\"0.2\"/><path d=\"M 288 391 283 352\" stroke=\"gray\" stroke-width=\"0.2\"/><path d=\"M 288 391 398 343\" stroke=\"gray\" stroke-width=\"0.2\"/><path d=\"M 288 391 321 340\" stroke=\"gray\" stroke-width=\"0.2\"/><path d=\"M 288 391 221 285\" stroke=\"gray\" stroke-width=\"0.2\"/><path d=\"M 288 391 300 316\" stroke=\"gray\" stroke-width=\"0.2\"/><path d=\"M 135 234 119 270\" stroke=\"gray\" stroke-width=\"0.2\"/><path d=\"M 135 234 89 235\" stroke=\"gray\" stroke-width=\"0.2\"/><path d=\"M 135 234 116 210\" stroke=\"gray\" stroke-width=\"0.2\"/><path d=\"M 135 234 91 271\" stroke=\"gray\" stroke-width=\"0.2\"/><path d=\"M 135 234 94 164\" stroke=\"gray\" stroke-width=\"0.2\"/><path d=\"M 135 234 221 285\" stroke=\"gray\" stroke-width=\"0.2\"/><path d=\"M 714 232 603 273\" stroke=\"gray\" stroke-width=\"0.2\"/><path d=\"M 714 232 720 290\" stroke=\"gray\" stroke-width=\"0.2\"/><path d=\"M 20 48 94 164\" stroke=\"gray\" stroke-width=\"0.2\"/><path d=\"M 20 48 58 20\" stroke=\"gray\" stroke-width=\"0.2\"/><path d=\"M 94 164 119 270\" stroke=\"gray\" stroke-width=\"0.2\"/><path d=\"M 94 164 89 235\" stroke=\"gray\" stroke-width=\"0.2\"/><path d=\"M 94 164 116 210\" stroke=\"gray\" stroke-width=\"0.2\"/><path d=\"M 94 164 91 271\" stroke=\"gray\" stroke-width=\"0.2\"/><path d=\"M 94 164 135 234\" stroke=\"gray\" stroke-width=\"0.2\"/><path d=\"M 94 164 20 48\" stroke=\"gray\" stroke-width=\"0.2\"/><path d=\"M 94 164 58 20\" stroke=\"gray\" stroke-width=\"0.2\"/><path d=\"M 94 164 221 285\" stroke=\"gray\" stroke-width=\"0.2\"/><path d=\"M 320 198 420 265\" stroke=\"gray\" stroke-width=\"0.2\"/><path d=\"M 320 198 305 231\" stroke=\"gray\" stroke-width=\"0.2\"/><path d=\"M 320 198 221 285\" stroke=\"gray\" stroke-width=\"0.2\"/><path d=\"M 58 20 20 48\" stroke=\"gray\" stroke-width=\"0.2\"/><path d=\"M 58 20 94 164\" stroke=\"gray\" stroke-width=\"0.2\"/><path d=\"M 221 285 238 133\" stroke=\"gray\" stroke-width=\"0.2\"/><path d=\"M 221 285 119 270\" stroke=\"gray\" stroke-width=\"0.2\"/><path d=\"M 221 285 89 235\" stroke=\"gray\" stroke-width=\"0.2\"/><path d=\"M 221 285 113 392\" stroke=\"gray\" stroke-width=\"0.2\"/><path d=\"M 221 285 315 380\" stroke=\"gray\" stroke-width=\"0.2\"/><path d=\"M 221 285 150 430\" stroke=\"gray\" stroke-width=\"0.2\"/><path d=\"M 221 285 420 265\" stroke=\"gray\" stroke-width=\"0.2\"/><path d=\"M 221 285 283 352\" stroke=\"gray\" stroke-width=\"0.2\"/><path d=\"M 221 285 398 343\" stroke=\"gray\" stroke-width=\"0.2\"/><path d=\"M 221 285 321 340\" stroke=\"gray\" stroke-width=\"0.2\"/><path d=\"M 221 285 116 210\" stroke=\"gray\" stroke-width=\"0.2\"/><path d=\"M 221 285 91 271\" stroke=\"gray\" stroke-width=\"0.2\"/><path d=\"M 221 285 305 231\" stroke=\"gray\" stroke-width=\"0.2\"/><path d=\"M 221 285 200 137\" stroke=\"gray\" stroke-width=\"0.2\"/><path d=\"M 221 285 183 451\" stroke=\"gray\" stroke-width=\"0.2\"/><path d=\"M 221 285 288 391\" stroke=\"gray\" stroke-width=\"0.2\"/><path d=\"M 221 285 135 234\" stroke=\"gray\" stroke-width=\"0.2\"/><path d=\"M 221 285 94 164\" stroke=\"gray\" stroke-width=\"0.2\"/><path d=\"M 221 285 320 198\" stroke=\"gray\" stroke-width=\"0.2\"/><path d=\"M 221 285 300 316\" stroke=\"gray\" stroke-width=\"0.2\"/><path d=\"M 720 290 603 273\" stroke=\"gray\" stroke-width=\"0.2\"/><path d=\"M 720 290 714 232\" stroke=\"gray\" stroke-width=\"0.2\"/><path d=\"M 300 316 315 380\" stroke=\"gray\" stroke-width=\"0.2\"/><path d=\"M 300 316 283 352\" stroke=\"gray\" stroke-width=\"0.2\"/><path d=\"M 300 316 398 343\" stroke=\"gray\" stroke-width=\"0.2\"/><path d=\"M 300 316 321 340\" stroke=\"gray\" stroke-width=\"0.2\"/><path d=\"M 300 316 288 391\" stroke=\"gray\" stroke-width=\"0.2\"/><path d=\"M 300 316 221 285\" stroke=\"gray\" stroke-width=\"0.2\"/><path d=\"M 428 509 380 520\" stroke=\"gray\" stroke-width=\"0.2\"/><path d=\"M 428 509 397 483\" stroke=\"gray\" stroke-width=\"0.2\"/><path d=\"M 428 509 398 343\" stroke=\"gray\" stroke-width=\"0.2\"/><circle cx=\"238\" cy=\"133\" r=\"3.0\" style=\"fill:rgb(76, 102, 214);stroke:black;stroke-width:1.0\"/><circle cx=\"380\" cy=\"520\" r=\"3.0\" style=\"fill:rgb(92, 123, 229);stroke:black;stroke-width:1.0\"/><circle cx=\"119\" cy=\"270\" r=\"3.0\" style=\"fill:rgb(130, 165, 251);stroke:black;stroke-width:1.0\"/><circle cx=\"89\" cy=\"235\" r=\"3.0\" style=\"fill:rgb(130, 165, 251);stroke:black;stroke-width:1.0\"/><circle cx=\"529\" cy=\"313\" r=\"3.0\" style=\"fill:rgb(103, 136, 237);stroke:black;stroke-width:1.0\"/><circle cx=\"397\" cy=\"483\" r=\"3.0\" style=\"fill:rgb(92, 123, 229);stroke:black;stroke-width:1.0\"/><circle cx=\"455\" cy=\"220\" r=\"3.0\" style=\"fill:rgb(88, 118, 226);stroke:black;stroke-width:1.0\"/><circle cx=\"497\" cy=\"380\" r=\"3.0\" style=\"fill:rgb(88, 118, 226);stroke:black;stroke-width:1.0\"/><circle cx=\"113\" cy=\"392\" r=\"3.0\" style=\"fill:rgb(58, 76, 192);stroke:black;stroke-width:1.0\"/><circle cx=\"315\" cy=\"380\" r=\"3.0\" style=\"fill:rgb(127, 162, 250);stroke:black;stroke-width:1.0\"/><circle cx=\"150\" cy=\"430\" r=\"3.0\" style=\"fill:rgb(76, 102, 214);stroke:black;stroke-width:1.0\"/><circle cx=\"420\" cy=\"265\" r=\"3.0\" style=\"fill:rgb(163, 193, 254);stroke:black;stroke-width:1.0\"/><circle cx=\"603\" cy=\"273\" r=\"3.0\" style=\"fill:rgb(159, 190, 254);stroke:black;stroke-width:1.0\"/><circle cx=\"283\" cy=\"352\" r=\"3.0\" style=\"fill:rgb(127, 162, 250);stroke:black;stroke-width:1.0\"/><circle cx=\"398\" cy=\"343\" r=\"3.0\" style=\"fill:rgb(246, 166, 135);stroke:black;stroke-width:1.0\"/><circle cx=\"321\" cy=\"340\" r=\"3.0\" style=\"fill:rgb(127, 162, 250);stroke:black;stroke-width:1.0\"/><circle cx=\"589\" cy=\"144\" r=\"3.0\" style=\"fill:rgb(92, 123, 229);stroke:black;stroke-width:1.0\"/><circle cx=\"526\" cy=\"373\" r=\"3.0\" style=\"fill:rgb(88, 118, 226);stroke:black;stroke-width:1.0\"/><circle cx=\"116\" cy=\"210\" r=\"3.0\" style=\"fill:rgb(130, 165, 251);stroke:black;stroke-width:1.0\"/><circle cx=\"91\" cy=\"271\" r=\"3.0\" style=\"fill:rgb(130, 165, 251);stroke:black;stroke-width:1.0\"/><circle cx=\"305\" cy=\"231\" r=\"3.0\" style=\"fill:rgb(92, 123, 229);stroke:black;stroke-width:1.0\"/><circle cx=\"561\" cy=\"113\" r=\"3.0\" style=\"fill:rgb(92, 123, 229);stroke:black;stroke-width:1.0\"/><circle cx=\"437\" cy=\"180\" r=\"3.0\" style=\"fill:rgb(88, 118, 226);stroke:black;stroke-width:1.0\"/><circle cx=\"548\" cy=\"282\" r=\"3.0\" style=\"fill:rgb(103, 136, 237);stroke:black;stroke-width:1.0\"/><circle cx=\"523\" cy=\"250\" r=\"3.0\" style=\"fill:rgb(148, 181, 254);stroke:black;stroke-width:1.0\"/><circle cx=\"200\" cy=\"137\" r=\"3.0\" style=\"fill:rgb(76, 102, 214);stroke:black;stroke-width:1.0\"/><circle cx=\"183\" cy=\"451\" r=\"3.0\" style=\"fill:rgb(76, 102, 214);stroke:black;stroke-width:1.0\"/><circle cx=\"502\" cy=\"188\" r=\"3.0\" style=\"fill:rgb(148, 181, 254);stroke:black;stroke-width:1.0\"/><circle cx=\"288\" cy=\"391\" r=\"3.0\" style=\"fill:rgb(127, 162, 250);stroke:black;stroke-width:1.0\"/><circle cx=\"135\" cy=\"234\" r=\"3.0\" style=\"fill:rgb(130, 165, 251);stroke:black;stroke-width:1.0\"/><circle cx=\"714\" cy=\"232\" r=\"3.0\" style=\"fill:rgb(88, 118, 226);stroke:black;stroke-width:1.0\"/><circle cx=\"20\" cy=\"48\" r=\"3.0\" style=\"fill:rgb(76, 102, 214);stroke:black;stroke-width:1.0\"/><circle cx=\"94\" cy=\"164\" r=\"3.0\" style=\"fill:rgb(176, 203, 251);stroke:black;stroke-width:1.0\"/><circle cx=\"320\" cy=\"198\" r=\"3.0\" style=\"fill:rgb(92, 123, 229);stroke:black;stroke-width:1.0\"/><circle cx=\"58\" cy=\"20\" r=\"3.0\" style=\"fill:rgb(76, 102, 214);stroke:black;stroke-width:1.0\"/><circle cx=\"221\" cy=\"285\" r=\"3.0\" style=\"fill:rgb(179, 3, 38);stroke:black;stroke-width:1.0\"/><circle cx=\"720\" cy=\"290\" r=\"3.0\" style=\"fill:rgb(88, 118, 226);stroke:black;stroke-width:1.0\"/><circle cx=\"300\" cy=\"316\" r=\"3.0\" style=\"fill:rgb(127, 162, 250);stroke:black;stroke-width:1.0\"/><circle cx=\"428\" cy=\"509\" r=\"3.0\" style=\"fill:rgb(92, 123, 229);stroke:black;stroke-width:1.0\"/><text font-size=\"10\" x=\"244\" y=\"136\">David Kadish</text><text font-size=\"10\" x=\"386\" y=\"523\">Marwan Mattar</text><text font-size=\"10\" x=\"125\" y=\"273\">Claire Glanois</text><text font-size=\"10\" x=\"95\" y=\"238\">Djordje Grbic</text><text font-size=\"10\" x=\"535\" y=\"316\">Florian Laws</text><text font-size=\"10\" x=\"403\" y=\"486\">Roozbeh Mottaghi</text><text font-size=\"10\" x=\"461\" y=\"223\">M Charity</text><text font-size=\"10\" x=\"503\" y=\"383\">Aaron Dharna</text><text font-size=\"10\" x=\"119\" y=\"395\">Andrea Soltoggio</text><text font-size=\"10\" x=\"321\" y=\"383\">Jinhong Zhang</text><text font-size=\"10\" x=\"156\" y=\"433\">Don Fussell</text><text font-size=\"10\" x=\"426\" y=\"268\">Rasmus Berg Palm</text><text font-size=\"10\" x=\"609\" y=\"276\">Ole Winther</text><text font-size=\"10\" x=\"289\" y=\"355\">Jan Piskur</text><text font-size=\"10\" x=\"404\" y=\"346\">Julian Togelius</text><text font-size=\"10\" x=\"327\" y=\"343\">Peter Greve</text><text font-size=\"10\" x=\"595\" y=\"147\">Rachel Ombok</text><text font-size=\"10\" x=\"532\" y=\"376\">Amy K Hoover</text><text font-size=\"10\" x=\"122\" y=\"213\">Elias Najarro</text><text font-size=\"10\" x=\"97\" y=\"274\">Siyan Li</text><text font-size=\"10\" x=\"311\" y=\"234\">Thor V. A. N. Olesen</text><text font-size=\"10\" x=\"567\" y=\"116\">Megan Charity</text><text font-size=\"10\" x=\"443\" y=\"183\">Sam Earle</text><text font-size=\"10\" x=\"554\" y=\"285\">Dirk Hovy</text><text font-size=\"10\" x=\"529\" y=\"253\">L. B. Soros</text><text font-size=\"10\" x=\"206\" y=\"140\">Laura Beloff</text><text font-size=\"10\" x=\"189\" y=\"454\">Dan Lessin</text><text font-size=\"10\" x=\"508\" y=\"191\">Dipika Rajesh</text><text font-size=\"10\" x=\"294\" y=\"394\">Antonios Liapis</text><text font-size=\"10\" x=\"141\" y=\"237\">Shyam Sudhakaran</text><text font-size=\"10\" x=\"720\" y=\"235\">Marco Fraccaro</text><text font-size=\"10\" x=\"26\" y=\"51\">Daniel W. Franks</text><text font-size=\"10\" x=\"100\" y=\"167\">Adam Katona</text><text font-size=\"10\" x=\"326\" y=\"201\">Dennis T. T. Nguyen</text><text font-size=\"10\" x=\"64\" y=\"23\">James Alfred Walker</text><text font-size=\"10\" x=\"227\" y=\"288\">Sebastian Risi</text><text font-size=\"10\" x=\"726\" y=\"293\">Lars Maaløe</text><text font-size=\"10\" x=\"306\" y=\"319\">Rasmus Taarnby</text><text font-size=\"10\" x=\"434\" y=\"512\">Danny Lange</text></svg>"
      ],
      "text/plain": [
       "<IPython.core.display.SVG object>"
      ]
     },
     "execution_count": 22,
     "metadata": {},
     "output_type": "execute_result"
    }
   ],
   "source": [
    "G_check = community_context_dict[communities[0]]['G']\n",
    "draw_community(G_check)"
   ]
  },
  {
   "cell_type": "code",
   "execution_count": 24,
   "id": "17a5d5fd",
   "metadata": {},
   "outputs": [
    {
     "data": {
      "text/plain": [
       "['AAAI-2019 Workshop on Games and Simulations for Artificial Intelligence',\n",
       " 'AI Researchers, Video Games Are Your Friends!',\n",
       " 'Amorphous Fortress: Observing Emergent Behavior in Multi-Agent FSMs',\n",
       " 'An artifcial life approach to studying niche differentiation in soundscape ecology',\n",
       " 'Attend, Copy, Parse -- End-to-end information extraction from documents',\n",
       " 'Born to Learn: the Inspiration, Progress, and Future of Evolved Plastic Artificial Neural Networks',\n",
       " 'Co-generation of game levels and game-playing agents',\n",
       " 'Collaborative Agent Gameplay in the Pandemic Board Game',\n",
       " 'End-to-End Information Extraction without Token-Level Supervision',\n",
       " 'Evolutionary Planning in Latent Space',\n",
       " 'Growing 3D Artefacts and Functional Machines with Neural Cellular Automata',\n",
       " 'HyperNCA: Growing Developmental Networks with Neural Cellular Automata',\n",
       " 'Increasing Behavioral Complexity for Evolved Virtual Creatures with the ESP Method',\n",
       " 'Keke AI Competition: Solving puzzle levels in a dynamically changing mechanic space',\n",
       " 'Measuring Intelligence through Games',\n",
       " 'Minimal Neural Network Models for Permutation Invariant Agents',\n",
       " 'Playing Against the Board: Rolling Horizon Evolutionary Algorithms Against Pandemic',\n",
       " 'Quality Evolvability ES: Evolving Individuals With a Distribution of Well Performing and Diverse Offspring',\n",
       " 'Say \"Sul Sul!\" to SimSim, A Sims-Inspired Platform for Sandbox Game AI',\n",
       " 'Semi-Supervised Generation with Cluster-aware Generative Models',\n",
       " 'SuSketch: Surrogate Models of Gameplay as a Design Assistant',\n",
       " 'The Case for a Mixed-Initiative Collaborative Neuroevolution Approach',\n",
       " 'Towards Self-Assembling Artificial Neural Networks through Neural Developmental Programs',\n",
       " 'Transfer Dynamics in Emergent Evolutionary Curricula',\n",
       " \"Using Fractal Neural Networks to Play SimCity 1 and Conway's Game of Life at Variable Scales\"]"
      ]
     },
     "execution_count": 24,
     "metadata": {},
     "output_type": "execute_result"
    }
   ],
   "source": [
    "show_author_papers(df, G_check)\n",
    "\n",
    "#Efficient Top-k Ego-Betweenness Search\n",
    "#Fast Algorithms for Intimate-Core Group Search in Weighted Graphs\n",
    "#Fine-Grained Emotion Classification of Chinese Microblogs Based on Graph Convolution Networks\n",
    "#Mining Bursting Communities in Temporal Graphs"
   ]
  },
  {
   "cell_type": "code",
   "execution_count": 102,
   "id": "91953657",
   "metadata": {},
   "outputs": [
    {
     "name": "stdout",
     "output_type": "stream",
     "text": [
      "Density: 0.12727272727272726\n",
      "Node Count: 45\n"
     ]
    },
    {
     "data": {
      "image/svg+xml": [
       "<svg height=\"540\" width=\"835.0\" xmlns=\"http://www.w3.org/2000/svg\"><path d=\"M 270 226 352 204\" stroke=\"gray\" stroke-width=\"0.2\"/><path d=\"M 270 226 262 250\" stroke=\"gray\" stroke-width=\"0.2\"/><path d=\"M 270 226 337 318\" stroke=\"gray\" stroke-width=\"0.2\"/><path d=\"M 282 511 245 520\" stroke=\"gray\" stroke-width=\"0.2\"/><path d=\"M 282 511 226 427\" stroke=\"gray\" stroke-width=\"0.2\"/><path d=\"M 29 457 54 471\" stroke=\"gray\" stroke-width=\"0.2\"/><path d=\"M 29 457 20 434\" stroke=\"gray\" stroke-width=\"0.2\"/><path d=\"M 29 457 44 425\" stroke=\"gray\" stroke-width=\"0.2\"/><path d=\"M 29 457 133 408\" stroke=\"gray\" stroke-width=\"0.2\"/><path d=\"M 29 457 64 450\" stroke=\"gray\" stroke-width=\"0.2\"/><path d=\"M 345 252 439 265\" stroke=\"gray\" stroke-width=\"0.2\"/><path d=\"M 345 252 380 255\" stroke=\"gray\" stroke-width=\"0.2\"/><path d=\"M 345 252 352 204\" stroke=\"gray\" stroke-width=\"0.2\"/><path d=\"M 345 252 279 320\" stroke=\"gray\" stroke-width=\"0.2\"/><path d=\"M 345 252 299 238\" stroke=\"gray\" stroke-width=\"0.2\"/><path d=\"M 345 252 295 260\" stroke=\"gray\" stroke-width=\"0.2\"/><path d=\"M 345 252 370 280\" stroke=\"gray\" stroke-width=\"0.2\"/><path d=\"M 345 252 342 269\" stroke=\"gray\" stroke-width=\"0.2\"/><path d=\"M 439 265 345 252\" stroke=\"gray\" stroke-width=\"0.2\"/><path d=\"M 439 265 380 255\" stroke=\"gray\" stroke-width=\"0.2\"/><path d=\"M 439 265 352 204\" stroke=\"gray\" stroke-width=\"0.2\"/><path d=\"M 439 265 279 320\" stroke=\"gray\" stroke-width=\"0.2\"/><path d=\"M 439 265 609 249\" stroke=\"gray\" stroke-width=\"0.2\"/><path d=\"M 439 265 555 277\" stroke=\"gray\" stroke-width=\"0.2\"/><path d=\"M 439 265 432 190\" stroke=\"gray\" stroke-width=\"0.2\"/><path d=\"M 439 265 370 280\" stroke=\"gray\" stroke-width=\"0.2\"/><path d=\"M 439 265 342 269\" stroke=\"gray\" stroke-width=\"0.2\"/><path d=\"M 439 265 549 299\" stroke=\"gray\" stroke-width=\"0.2\"/><path d=\"M 693 214 690 250\" stroke=\"gray\" stroke-width=\"0.2\"/><path d=\"M 693 214 657 191\" stroke=\"gray\" stroke-width=\"0.2\"/><path d=\"M 693 214 720 244\" stroke=\"gray\" stroke-width=\"0.2\"/><path d=\"M 693 214 609 249\" stroke=\"gray\" stroke-width=\"0.2\"/><path d=\"M 245 520 282 511\" stroke=\"gray\" stroke-width=\"0.2\"/><path d=\"M 245 520 226 427\" stroke=\"gray\" stroke-width=\"0.2\"/><path d=\"M 380 255 345 252\" stroke=\"gray\" stroke-width=\"0.2\"/><path d=\"M 380 255 439 265\" stroke=\"gray\" stroke-width=\"0.2\"/><path d=\"M 380 255 352 204\" stroke=\"gray\" stroke-width=\"0.2\"/><path d=\"M 380 255 279 320\" stroke=\"gray\" stroke-width=\"0.2\"/><path d=\"M 380 255 438 212\" stroke=\"gray\" stroke-width=\"0.2\"/><path d=\"M 380 255 370 280\" stroke=\"gray\" stroke-width=\"0.2\"/><path d=\"M 380 255 342 269\" stroke=\"gray\" stroke-width=\"0.2\"/><path d=\"M 352 204 270 226\" stroke=\"gray\" stroke-width=\"0.2\"/><path d=\"M 352 204 345 252\" stroke=\"gray\" stroke-width=\"0.2\"/><path d=\"M 352 204 439 265\" stroke=\"gray\" stroke-width=\"0.2\"/><path d=\"M 352 204 380 255\" stroke=\"gray\" stroke-width=\"0.2\"/><path d=\"M 352 204 358 106\" stroke=\"gray\" stroke-width=\"0.2\"/><path d=\"M 352 204 279 320\" stroke=\"gray\" stroke-width=\"0.2\"/><path d=\"M 352 204 262 250\" stroke=\"gray\" stroke-width=\"0.2\"/><path d=\"M 352 204 337 318\" stroke=\"gray\" stroke-width=\"0.2\"/><path d=\"M 352 204 432 190\" stroke=\"gray\" stroke-width=\"0.2\"/><path d=\"M 352 204 405 92\" stroke=\"gray\" stroke-width=\"0.2\"/><path d=\"M 352 204 438 212\" stroke=\"gray\" stroke-width=\"0.2\"/><path d=\"M 352 204 299 238\" stroke=\"gray\" stroke-width=\"0.2\"/><path d=\"M 352 204 335 110\" stroke=\"gray\" stroke-width=\"0.2\"/><path d=\"M 352 204 295 260\" stroke=\"gray\" stroke-width=\"0.2\"/><path d=\"M 352 204 370 280\" stroke=\"gray\" stroke-width=\"0.2\"/><path d=\"M 352 204 342 269\" stroke=\"gray\" stroke-width=\"0.2\"/><path d=\"M 352 204 385 82\" stroke=\"gray\" stroke-width=\"0.2\"/><path d=\"M 352 204 378 123\" stroke=\"gray\" stroke-width=\"0.2\"/><path d=\"M 401 391 352 405\" stroke=\"gray\" stroke-width=\"0.2\"/><path d=\"M 401 391 337 318\" stroke=\"gray\" stroke-width=\"0.2\"/><path d=\"M 401 391 382 410\" stroke=\"gray\" stroke-width=\"0.2\"/><path d=\"M 358 106 352 204\" stroke=\"gray\" stroke-width=\"0.2\"/><path d=\"M 358 106 405 92\" stroke=\"gray\" stroke-width=\"0.2\"/><path d=\"M 358 106 335 110\" stroke=\"gray\" stroke-width=\"0.2\"/><path d=\"M 358 106 385 82\" stroke=\"gray\" stroke-width=\"0.2\"/><path d=\"M 358 106 378 123\" stroke=\"gray\" stroke-width=\"0.2\"/><path d=\"M 690 250 693 214\" stroke=\"gray\" stroke-width=\"0.2\"/><path d=\"M 690 250 720 244\" stroke=\"gray\" stroke-width=\"0.2\"/><path d=\"M 690 250 609 249\" stroke=\"gray\" stroke-width=\"0.2\"/><path d=\"M 352 405 401 391\" stroke=\"gray\" stroke-width=\"0.2\"/><path d=\"M 352 405 337 318\" stroke=\"gray\" stroke-width=\"0.2\"/><path d=\"M 352 405 382 410\" stroke=\"gray\" stroke-width=\"0.2\"/><path d=\"M 54 471 29 457\" stroke=\"gray\" stroke-width=\"0.2\"/><path d=\"M 54 471 20 434\" stroke=\"gray\" stroke-width=\"0.2\"/><path d=\"M 54 471 44 425\" stroke=\"gray\" stroke-width=\"0.2\"/><path d=\"M 54 471 133 408\" stroke=\"gray\" stroke-width=\"0.2\"/><path d=\"M 54 471 64 450\" stroke=\"gray\" stroke-width=\"0.2\"/><path d=\"M 279 320 345 252\" stroke=\"gray\" stroke-width=\"0.2\"/><path d=\"M 279 320 439 265\" stroke=\"gray\" stroke-width=\"0.2\"/><path d=\"M 279 320 380 255\" stroke=\"gray\" stroke-width=\"0.2\"/><path d=\"M 279 320 352 204\" stroke=\"gray\" stroke-width=\"0.2\"/><path d=\"M 279 320 184 384\" stroke=\"gray\" stroke-width=\"0.2\"/><path d=\"M 279 320 205 368\" stroke=\"gray\" stroke-width=\"0.2\"/><path d=\"M 279 320 133 408\" stroke=\"gray\" stroke-width=\"0.2\"/><path d=\"M 279 320 180 365\" stroke=\"gray\" stroke-width=\"0.2\"/><path d=\"M 279 320 226 427\" stroke=\"gray\" stroke-width=\"0.2\"/><path d=\"M 279 320 202 398\" stroke=\"gray\" stroke-width=\"0.2\"/><path d=\"M 279 320 299 238\" stroke=\"gray\" stroke-width=\"0.2\"/><path d=\"M 279 320 295 260\" stroke=\"gray\" stroke-width=\"0.2\"/><path d=\"M 279 320 370 280\" stroke=\"gray\" stroke-width=\"0.2\"/><path d=\"M 279 320 222 386\" stroke=\"gray\" stroke-width=\"0.2\"/><path d=\"M 279 320 342 269\" stroke=\"gray\" stroke-width=\"0.2\"/><path d=\"M 657 191 693 214\" stroke=\"gray\" stroke-width=\"0.2\"/><path d=\"M 657 191 609 249\" stroke=\"gray\" stroke-width=\"0.2\"/><path d=\"M 720 244 693 214\" stroke=\"gray\" stroke-width=\"0.2\"/><path d=\"M 720 244 690 250\" stroke=\"gray\" stroke-width=\"0.2\"/><path d=\"M 720 244 609 249\" stroke=\"gray\" stroke-width=\"0.2\"/><path d=\"M 184 384 279 320\" stroke=\"gray\" stroke-width=\"0.2\"/><path d=\"M 184 384 205 368\" stroke=\"gray\" stroke-width=\"0.2\"/><path d=\"M 184 384 133 408\" stroke=\"gray\" stroke-width=\"0.2\"/><path d=\"M 184 384 180 365\" stroke=\"gray\" stroke-width=\"0.2\"/><path d=\"M 184 384 226 427\" stroke=\"gray\" stroke-width=\"0.2\"/><path d=\"M 184 384 202 398\" stroke=\"gray\" stroke-width=\"0.2\"/><path d=\"M 184 384 222 386\" stroke=\"gray\" stroke-width=\"0.2\"/><path d=\"M 20 434 29 457\" stroke=\"gray\" stroke-width=\"0.2\"/><path d=\"M 20 434 54 471\" stroke=\"gray\" stroke-width=\"0.2\"/><path d=\"M 20 434 44 425\" stroke=\"gray\" stroke-width=\"0.2\"/><path d=\"M 20 434 133 408\" stroke=\"gray\" stroke-width=\"0.2\"/><path d=\"M 20 434 64 450\" stroke=\"gray\" stroke-width=\"0.2\"/><path d=\"M 44 425 29 457\" stroke=\"gray\" stroke-width=\"0.2\"/><path d=\"M 44 425 54 471\" stroke=\"gray\" stroke-width=\"0.2\"/><path d=\"M 44 425 20 434\" stroke=\"gray\" stroke-width=\"0.2\"/><path d=\"M 44 425 133 408\" stroke=\"gray\" stroke-width=\"0.2\"/><path d=\"M 44 425 64 450\" stroke=\"gray\" stroke-width=\"0.2\"/><path d=\"M 609 249 439 265\" stroke=\"gray\" stroke-width=\"0.2\"/><path d=\"M 609 249 693 214\" stroke=\"gray\" stroke-width=\"0.2\"/><path d=\"M 609 249 690 250\" stroke=\"gray\" stroke-width=\"0.2\"/><path d=\"M 609 249 657 191\" stroke=\"gray\" stroke-width=\"0.2\"/><path d=\"M 609 249 720 244\" stroke=\"gray\" stroke-width=\"0.2\"/><path d=\"M 609 249 555 277\" stroke=\"gray\" stroke-width=\"0.2\"/><path d=\"M 609 249 549 299\" stroke=\"gray\" stroke-width=\"0.2\"/><path d=\"M 262 250 270 226\" stroke=\"gray\" stroke-width=\"0.2\"/><path d=\"M 262 250 352 204\" stroke=\"gray\" stroke-width=\"0.2\"/><path d=\"M 262 250 337 318\" stroke=\"gray\" stroke-width=\"0.2\"/><path d=\"M 205 368 279 320\" stroke=\"gray\" stroke-width=\"0.2\"/><path d=\"M 205 368 184 384\" stroke=\"gray\" stroke-width=\"0.2\"/><path d=\"M 205 368 133 408\" stroke=\"gray\" stroke-width=\"0.2\"/><path d=\"M 205 368 180 365\" stroke=\"gray\" stroke-width=\"0.2\"/><path d=\"M 205 368 226 427\" stroke=\"gray\" stroke-width=\"0.2\"/><path d=\"M 205 368 202 398\" stroke=\"gray\" stroke-width=\"0.2\"/><path d=\"M 205 368 222 386\" stroke=\"gray\" stroke-width=\"0.2\"/><path d=\"M 337 318 270 226\" stroke=\"gray\" stroke-width=\"0.2\"/><path d=\"M 337 318 352 204\" stroke=\"gray\" stroke-width=\"0.2\"/><path d=\"M 337 318 401 391\" stroke=\"gray\" stroke-width=\"0.2\"/><path d=\"M 337 318 352 405\" stroke=\"gray\" stroke-width=\"0.2\"/><path d=\"M 337 318 262 250\" stroke=\"gray\" stroke-width=\"0.2\"/><path d=\"M 337 318 382 410\" stroke=\"gray\" stroke-width=\"0.2\"/><path d=\"M 451 33 405 92\" stroke=\"gray\" stroke-width=\"0.2\"/><path d=\"M 451 33 419 20\" stroke=\"gray\" stroke-width=\"0.2\"/><path d=\"M 451 33 385 82\" stroke=\"gray\" stroke-width=\"0.2\"/><path d=\"M 133 408 29 457\" stroke=\"gray\" stroke-width=\"0.2\"/><path d=\"M 133 408 54 471\" stroke=\"gray\" stroke-width=\"0.2\"/><path d=\"M 133 408 279 320\" stroke=\"gray\" stroke-width=\"0.2\"/><path d=\"M 133 408 184 384\" stroke=\"gray\" stroke-width=\"0.2\"/><path d=\"M 133 408 20 434\" stroke=\"gray\" stroke-width=\"0.2\"/><path d=\"M 133 408 44 425\" stroke=\"gray\" stroke-width=\"0.2\"/><path d=\"M 133 408 205 368\" stroke=\"gray\" stroke-width=\"0.2\"/><path d=\"M 133 408 180 365\" stroke=\"gray\" stroke-width=\"0.2\"/><path d=\"M 133 408 226 427\" stroke=\"gray\" stroke-width=\"0.2\"/><path d=\"M 133 408 202 398\" stroke=\"gray\" stroke-width=\"0.2\"/><path d=\"M 133 408 64 450\" stroke=\"gray\" stroke-width=\"0.2\"/><path d=\"M 133 408 222 386\" stroke=\"gray\" stroke-width=\"0.2\"/><path d=\"M 180 365 279 320\" stroke=\"gray\" stroke-width=\"0.2\"/><path d=\"M 180 365 184 384\" stroke=\"gray\" stroke-width=\"0.2\"/><path d=\"M 180 365 205 368\" stroke=\"gray\" stroke-width=\"0.2\"/><path d=\"M 180 365 133 408\" stroke=\"gray\" stroke-width=\"0.2\"/><path d=\"M 180 365 226 427\" stroke=\"gray\" stroke-width=\"0.2\"/><path d=\"M 180 365 202 398\" stroke=\"gray\" stroke-width=\"0.2\"/><path d=\"M 180 365 222 386\" stroke=\"gray\" stroke-width=\"0.2\"/><path d=\"M 555 277 439 265\" stroke=\"gray\" stroke-width=\"0.2\"/><path d=\"M 555 277 609 249\" stroke=\"gray\" stroke-width=\"0.2\"/><path d=\"M 555 277 549 299\" stroke=\"gray\" stroke-width=\"0.2\"/><path d=\"M 432 190 439 265\" stroke=\"gray\" stroke-width=\"0.2\"/><path d=\"M 432 190 352 204\" stroke=\"gray\" stroke-width=\"0.2\"/><path d=\"M 226 427 282 511\" stroke=\"gray\" stroke-width=\"0.2\"/><path d=\"M 226 427 245 520\" stroke=\"gray\" stroke-width=\"0.2\"/><path d=\"M 226 427 279 320\" stroke=\"gray\" stroke-width=\"0.2\"/><path d=\"M 226 427 184 384\" stroke=\"gray\" stroke-width=\"0.2\"/><path d=\"M 226 427 205 368\" stroke=\"gray\" stroke-width=\"0.2\"/><path d=\"M 226 427 133 408\" stroke=\"gray\" stroke-width=\"0.2\"/><path d=\"M 226 427 180 365\" stroke=\"gray\" stroke-width=\"0.2\"/><path d=\"M 226 427 202 398\" stroke=\"gray\" stroke-width=\"0.2\"/><path d=\"M 226 427 222 386\" stroke=\"gray\" stroke-width=\"0.2\"/><path d=\"M 382 410 401 391\" stroke=\"gray\" stroke-width=\"0.2\"/><path d=\"M 382 410 352 405\" stroke=\"gray\" stroke-width=\"0.2\"/><path d=\"M 382 410 337 318\" stroke=\"gray\" stroke-width=\"0.2\"/><path d=\"M 202 398 279 320\" stroke=\"gray\" stroke-width=\"0.2\"/><path d=\"M 202 398 184 384\" stroke=\"gray\" stroke-width=\"0.2\"/><path d=\"M 202 398 205 368\" stroke=\"gray\" stroke-width=\"0.2\"/><path d=\"M 202 398 133 408\" stroke=\"gray\" stroke-width=\"0.2\"/><path d=\"M 202 398 180 365\" stroke=\"gray\" stroke-width=\"0.2\"/><path d=\"M 202 398 226 427\" stroke=\"gray\" stroke-width=\"0.2\"/><path d=\"M 202 398 222 386\" stroke=\"gray\" stroke-width=\"0.2\"/><path d=\"M 405 92 352 204\" stroke=\"gray\" stroke-width=\"0.2\"/><path d=\"M 405 92 358 106\" stroke=\"gray\" stroke-width=\"0.2\"/><path d=\"M 405 92 451 33\" stroke=\"gray\" stroke-width=\"0.2\"/><path d=\"M 405 92 419 20\" stroke=\"gray\" stroke-width=\"0.2\"/><path d=\"M 405 92 335 110\" stroke=\"gray\" stroke-width=\"0.2\"/><path d=\"M 405 92 385 82\" stroke=\"gray\" stroke-width=\"0.2\"/><path d=\"M 405 92 378 123\" stroke=\"gray\" stroke-width=\"0.2\"/><path d=\"M 419 20 451 33\" stroke=\"gray\" stroke-width=\"0.2\"/><path d=\"M 419 20 405 92\" stroke=\"gray\" stroke-width=\"0.2\"/><path d=\"M 419 20 385 82\" stroke=\"gray\" stroke-width=\"0.2\"/><path d=\"M 438 212 380 255\" stroke=\"gray\" stroke-width=\"0.2\"/><path d=\"M 438 212 352 204\" stroke=\"gray\" stroke-width=\"0.2\"/><path d=\"M 299 238 345 252\" stroke=\"gray\" stroke-width=\"0.2\"/><path d=\"M 299 238 352 204\" stroke=\"gray\" stroke-width=\"0.2\"/><path d=\"M 299 238 279 320\" stroke=\"gray\" stroke-width=\"0.2\"/><path d=\"M 299 238 295 260\" stroke=\"gray\" stroke-width=\"0.2\"/><path d=\"M 299 238 342 269\" stroke=\"gray\" stroke-width=\"0.2\"/><path d=\"M 335 110 352 204\" stroke=\"gray\" stroke-width=\"0.2\"/><path d=\"M 335 110 358 106\" stroke=\"gray\" stroke-width=\"0.2\"/><path d=\"M 335 110 405 92\" stroke=\"gray\" stroke-width=\"0.2\"/><path d=\"M 335 110 385 82\" stroke=\"gray\" stroke-width=\"0.2\"/><path d=\"M 335 110 378 123\" stroke=\"gray\" stroke-width=\"0.2\"/><path d=\"M 295 260 345 252\" stroke=\"gray\" stroke-width=\"0.2\"/><path d=\"M 295 260 352 204\" stroke=\"gray\" stroke-width=\"0.2\"/><path d=\"M 295 260 279 320\" stroke=\"gray\" stroke-width=\"0.2\"/><path d=\"M 295 260 299 238\" stroke=\"gray\" stroke-width=\"0.2\"/><path d=\"M 295 260 342 269\" stroke=\"gray\" stroke-width=\"0.2\"/><path d=\"M 370 280 345 252\" stroke=\"gray\" stroke-width=\"0.2\"/><path d=\"M 370 280 439 265\" stroke=\"gray\" stroke-width=\"0.2\"/><path d=\"M 370 280 380 255\" stroke=\"gray\" stroke-width=\"0.2\"/><path d=\"M 370 280 352 204\" stroke=\"gray\" stroke-width=\"0.2\"/><path d=\"M 370 280 279 320\" stroke=\"gray\" stroke-width=\"0.2\"/><path d=\"M 370 280 342 269\" stroke=\"gray\" stroke-width=\"0.2\"/><path d=\"M 64 450 29 457\" stroke=\"gray\" stroke-width=\"0.2\"/><path d=\"M 64 450 54 471\" stroke=\"gray\" stroke-width=\"0.2\"/><path d=\"M 64 450 20 434\" stroke=\"gray\" stroke-width=\"0.2\"/><path d=\"M 64 450 44 425\" stroke=\"gray\" stroke-width=\"0.2\"/><path d=\"M 64 450 133 408\" stroke=\"gray\" stroke-width=\"0.2\"/><path d=\"M 222 386 279 320\" stroke=\"gray\" stroke-width=\"0.2\"/><path d=\"M 222 386 184 384\" stroke=\"gray\" stroke-width=\"0.2\"/><path d=\"M 222 386 205 368\" stroke=\"gray\" stroke-width=\"0.2\"/><path d=\"M 222 386 133 408\" stroke=\"gray\" stroke-width=\"0.2\"/><path d=\"M 222 386 180 365\" stroke=\"gray\" stroke-width=\"0.2\"/><path d=\"M 222 386 226 427\" stroke=\"gray\" stroke-width=\"0.2\"/><path d=\"M 222 386 202 398\" stroke=\"gray\" stroke-width=\"0.2\"/><path d=\"M 342 269 345 252\" stroke=\"gray\" stroke-width=\"0.2\"/><path d=\"M 342 269 439 265\" stroke=\"gray\" stroke-width=\"0.2\"/><path d=\"M 342 269 380 255\" stroke=\"gray\" stroke-width=\"0.2\"/><path d=\"M 342 269 352 204\" stroke=\"gray\" stroke-width=\"0.2\"/><path d=\"M 342 269 279 320\" stroke=\"gray\" stroke-width=\"0.2\"/><path d=\"M 342 269 299 238\" stroke=\"gray\" stroke-width=\"0.2\"/><path d=\"M 342 269 295 260\" stroke=\"gray\" stroke-width=\"0.2\"/><path d=\"M 342 269 370 280\" stroke=\"gray\" stroke-width=\"0.2\"/><path d=\"M 385 82 352 204\" stroke=\"gray\" stroke-width=\"0.2\"/><path d=\"M 385 82 358 106\" stroke=\"gray\" stroke-width=\"0.2\"/><path d=\"M 385 82 451 33\" stroke=\"gray\" stroke-width=\"0.2\"/><path d=\"M 385 82 405 92\" stroke=\"gray\" stroke-width=\"0.2\"/><path d=\"M 385 82 419 20\" stroke=\"gray\" stroke-width=\"0.2\"/><path d=\"M 385 82 335 110\" stroke=\"gray\" stroke-width=\"0.2\"/><path d=\"M 385 82 378 123\" stroke=\"gray\" stroke-width=\"0.2\"/><path d=\"M 378 123 352 204\" stroke=\"gray\" stroke-width=\"0.2\"/><path d=\"M 378 123 358 106\" stroke=\"gray\" stroke-width=\"0.2\"/><path d=\"M 378 123 405 92\" stroke=\"gray\" stroke-width=\"0.2\"/><path d=\"M 378 123 335 110\" stroke=\"gray\" stroke-width=\"0.2\"/><path d=\"M 378 123 385 82\" stroke=\"gray\" stroke-width=\"0.2\"/><path d=\"M 549 299 439 265\" stroke=\"gray\" stroke-width=\"0.2\"/><path d=\"M 549 299 609 249\" stroke=\"gray\" stroke-width=\"0.2\"/><path d=\"M 549 299 555 277\" stroke=\"gray\" stroke-width=\"0.2\"/><circle cx=\"270\" cy=\"226\" r=\"3.0\" style=\"fill:rgb(86, 115, 224);stroke:black;stroke-width:1.0\"/><circle cx=\"282\" cy=\"511\" r=\"3.0\" style=\"fill:rgb(64, 84, 199);stroke:black;stroke-width:1.0\"/><circle cx=\"29\" cy=\"457\" r=\"3.0\" style=\"fill:rgb(112, 147, 243);stroke:black;stroke-width:1.0\"/><circle cx=\"345\" cy=\"252\" r=\"3.0\" style=\"fill:rgb(163, 193, 254);stroke:black;stroke-width:1.0\"/><circle cx=\"439\" cy=\"265\" r=\"3.0\" style=\"fill:rgb(222, 219, 218);stroke:black;stroke-width:1.0\"/><circle cx=\"693\" cy=\"214\" r=\"3.0\" style=\"fill:rgb(138, 173, 253);stroke:black;stroke-width:1.0\"/><circle cx=\"245\" cy=\"520\" r=\"3.0\" style=\"fill:rgb(64, 84, 199);stroke:black;stroke-width:1.0\"/><circle cx=\"380\" cy=\"255\" r=\"3.0\" style=\"fill:rgb(148, 181, 254);stroke:black;stroke-width:1.0\"/><circle cx=\"352\" cy=\"204\" r=\"3.0\" style=\"fill:rgb(179, 3, 38);stroke:black;stroke-width:1.0\"/><circle cx=\"401\" cy=\"391\" r=\"3.0\" style=\"fill:rgb(103, 136, 237);stroke:black;stroke-width:1.0\"/><circle cx=\"358\" cy=\"106\" r=\"3.0\" style=\"fill:rgb(116, 151, 245);stroke:black;stroke-width:1.0\"/><circle cx=\"690\" cy=\"250\" r=\"3.0\" style=\"fill:rgb(103, 136, 237);stroke:black;stroke-width:1.0\"/><circle cx=\"352\" cy=\"405\" r=\"3.0\" style=\"fill:rgb(103, 136, 237);stroke:black;stroke-width:1.0\"/><circle cx=\"54\" cy=\"471\" r=\"3.0\" style=\"fill:rgb(112, 147, 243);stroke:black;stroke-width:1.0\"/><circle cx=\"279\" cy=\"320\" r=\"3.0\" style=\"fill:rgb(247, 179, 151);stroke:black;stroke-width:1.0\"/><circle cx=\"657\" cy=\"191\" r=\"3.0\" style=\"fill:rgb(72, 96, 209);stroke:black;stroke-width:1.0\"/><circle cx=\"720\" cy=\"244\" r=\"3.0\" style=\"fill:rgb(103, 136, 237);stroke:black;stroke-width:1.0\"/><circle cx=\"184\" cy=\"384\" r=\"3.0\" style=\"fill:rgb(138, 173, 253);stroke:black;stroke-width:1.0\"/><circle cx=\"20\" cy=\"434\" r=\"3.0\" style=\"fill:rgb(112, 147, 243);stroke:black;stroke-width:1.0\"/><circle cx=\"44\" cy=\"425\" r=\"3.0\" style=\"fill:rgb(112, 147, 243);stroke:black;stroke-width:1.0\"/><circle cx=\"609\" cy=\"249\" r=\"3.0\" style=\"fill:rgb(210, 218, 231);stroke:black;stroke-width:1.0\"/><circle cx=\"262\" cy=\"250\" r=\"3.0\" style=\"fill:rgb(86, 115, 224);stroke:black;stroke-width:1.0\"/><circle cx=\"205\" cy=\"368\" r=\"3.0\" style=\"fill:rgb(138, 173, 253);stroke:black;stroke-width:1.0\"/><circle cx=\"337\" cy=\"318\" r=\"3.0\" style=\"fill:rgb(180, 205, 250);stroke:black;stroke-width:1.0\"/><circle cx=\"451\" cy=\"33\" r=\"3.0\" style=\"fill:rgb(82, 110, 220);stroke:black;stroke-width:1.0\"/><circle cx=\"133\" cy=\"408\" r=\"3.0\" style=\"fill:rgb(230, 215, 207);stroke:black;stroke-width:1.0\"/><circle cx=\"180\" cy=\"365\" r=\"3.0\" style=\"fill:rgb(138, 173, 253);stroke:black;stroke-width:1.0\"/><circle cx=\"555\" cy=\"277\" r=\"3.0\" style=\"fill:rgb(88, 118, 226);stroke:black;stroke-width:1.0\"/><circle cx=\"432\" cy=\"190\" r=\"3.0\" style=\"fill:rgb(58, 76, 192);stroke:black;stroke-width:1.0\"/><circle cx=\"226\" cy=\"427\" r=\"3.0\" style=\"fill:rgb(193, 212, 244);stroke:black;stroke-width:1.0\"/><circle cx=\"382\" cy=\"410\" r=\"3.0\" style=\"fill:rgb(103, 136, 237);stroke:black;stroke-width:1.0\"/><circle cx=\"202\" cy=\"398\" r=\"3.0\" style=\"fill:rgb(138, 173, 253);stroke:black;stroke-width:1.0\"/><circle cx=\"405\" cy=\"92\" r=\"3.0\" style=\"fill:rgb(170, 198, 253);stroke:black;stroke-width:1.0\"/><circle cx=\"419\" cy=\"20\" r=\"3.0\" style=\"fill:rgb(82, 110, 220);stroke:black;stroke-width:1.0\"/><circle cx=\"438\" cy=\"212\" r=\"3.0\" style=\"fill:rgb(58, 76, 192);stroke:black;stroke-width:1.0\"/><circle cx=\"299\" cy=\"238\" r=\"3.0\" style=\"fill:rgb(105, 139, 239);stroke:black;stroke-width:1.0\"/><circle cx=\"335\" cy=\"110\" r=\"3.0\" style=\"fill:rgb(116, 151, 245);stroke:black;stroke-width:1.0\"/><circle cx=\"295\" cy=\"260\" r=\"3.0\" style=\"fill:rgb(105, 139, 239);stroke:black;stroke-width:1.0\"/><circle cx=\"370\" cy=\"280\" r=\"3.0\" style=\"fill:rgb(123, 158, 248);stroke:black;stroke-width:1.0\"/><circle cx=\"64\" cy=\"450\" r=\"3.0\" style=\"fill:rgb(112, 147, 243);stroke:black;stroke-width:1.0\"/><circle cx=\"222\" cy=\"386\" r=\"3.0\" style=\"fill:rgb(138, 173, 253);stroke:black;stroke-width:1.0\"/><circle cx=\"342\" cy=\"269\" r=\"3.0\" style=\"fill:rgb(163, 193, 254);stroke:black;stroke-width:1.0\"/><circle cx=\"385\" cy=\"82\" r=\"3.0\" style=\"fill:rgb(170, 198, 253);stroke:black;stroke-width:1.0\"/><circle cx=\"378\" cy=\"123\" r=\"3.0\" style=\"fill:rgb(116, 151, 245);stroke:black;stroke-width:1.0\"/><circle cx=\"549\" cy=\"299\" r=\"3.0\" style=\"fill:rgb(88, 118, 226);stroke:black;stroke-width:1.0\"/><text font-size=\"10\" x=\"276\" y=\"229\">Cornelius Weber</text><text font-size=\"10\" x=\"288\" y=\"514\">Philip M. Lubin</text><text font-size=\"10\" x=\"35\" y=\"460\">Kun Tang</text><text font-size=\"10\" x=\"351\" y=\"255\">Haiyan Wu</text><text font-size=\"10\" x=\"445\" y=\"268\">Pablo Barros</text><text font-size=\"10\" x=\"699\" y=\"217\">Francesco Rea</text><text font-size=\"10\" x=\"251\" y=\"523\">Gary B. Hughes</text><text font-size=\"10\" x=\"386\" y=\"258\">Sven Magg</text><text font-size=\"10\" x=\"358\" y=\"207\">Stefan Wermter</text><text font-size=\"10\" x=\"407\" y=\"394\">Ghalib Ahmed Tahir</text><text font-size=\"10\" x=\"364\" y=\"109\">Matthias Kerzel</text><text font-size=\"10\" x=\"696\" y=\"253\">Giulia Belgiovine</text><text font-size=\"10\" x=\"358\" y=\"408\">Nadine Kong</text><text font-size=\"10\" x=\"60\" y=\"474\">Zhengyou Liu</text><text font-size=\"10\" x=\"285\" y=\"323\">Xun Liu</text><text font-size=\"10\" x=\"663\" y=\"194\">Marco Matarese</text><text font-size=\"10\" x=\"726\" y=\"247\">Jacopo Zenzeri</text><text font-size=\"10\" x=\"190\" y=\"387\">Xiling Feng</text><text font-size=\"10\" x=\"26\" y=\"437\">Manzhu Ke</text><text font-size=\"10\" x=\"50\" y=\"428\">Jiuyang Lu</text><text font-size=\"10\" x=\"615\" y=\"252\">Alessandra Sciutti</text><text font-size=\"10\" x=\"268\" y=\"253\">Vadym Gryshchuk</text><text font-size=\"10\" x=\"211\" y=\"371\">Xiying Fan</text><text font-size=\"10\" x=\"343\" y=\"321\">Chu Kiong Loo</text><text font-size=\"10\" x=\"457\" y=\"36\">Sebastian Otte</text><text font-size=\"10\" x=\"139\" y=\"411\">Chunyin Qiu</text><text font-size=\"10\" x=\"186\" y=\"368\">Huanfa Sun</text><text font-size=\"10\" x=\"561\" y=\"280\">Ozge Nilay Yalcın</text><text font-size=\"10\" x=\"438\" y=\"193\">Emilia Barakova</text><text font-size=\"10\" x=\"232\" y=\"430\">Qicheng Zhang</text><text font-size=\"10\" x=\"388\" y=\"413\">Foong Ming Moy</text><text font-size=\"10\" x=\"208\" y=\"401\">Yitong Li</text><text font-size=\"10\" x=\"411\" y=\"95\">Christian Gumbsch</text><text font-size=\"10\" x=\"425\" y=\"23\">Fedor Scholz</text><text font-size=\"10\" x=\"444\" y=\"215\">Yukie Nagai</text><text font-size=\"10\" x=\"305\" y=\"241\">Siqi Cao</text><text font-size=\"10\" x=\"341\" y=\"113\">Phuong D. H. Nguyen</text><text font-size=\"10\" x=\"301\" y=\"263\">Xu Yang</text><text font-size=\"10\" x=\"376\" y=\"283\">German I. Parisi</text><text font-size=\"10\" x=\"70\" y=\"453\">Yangtao Ye</text><text font-size=\"10\" x=\"228\" y=\"389\">Luekai Zhao</text><text font-size=\"10\" x=\"348\" y=\"272\">Di Fu</text><text font-size=\"10\" x=\"391\" y=\"85\">Martin V. Butz</text><text font-size=\"10\" x=\"384\" y=\"126\">Manfred Eppe</text><text font-size=\"10\" x=\"555\" y=\"302\">Ana Tanevska</text></svg>"
      ],
      "text/plain": [
       "<IPython.core.display.SVG object>"
      ]
     },
     "execution_count": 102,
     "metadata": {},
     "output_type": "execute_result"
    }
   ],
   "source": [
    "G_check = community_context_dict[communities[1]]['G']\n",
    "draw_community(G_check)"
   ]
  },
  {
   "cell_type": "code",
   "execution_count": 26,
   "id": "b6a3082a",
   "metadata": {},
   "outputs": [
    {
     "data": {
      "text/plain": [
       "['A Deep Neural Model Of Emotion Appraisal',\n",
       " 'A Humanoid Social Agent Embodying Physical Assistance Enhances Motor Training Experience',\n",
       " 'A Review of Critical Features and General Issues of Freely Available mHealth Apps For Dietary Assessment',\n",
       " 'A User-Centred Framework for Explainable Artificial Intelligence in Human-Robot Interaction',\n",
       " 'Assessing the Contribution of Semantic Congruency to Multisensory Integration and Conflict Resolution',\n",
       " 'Can AI detect pain and express pain empathy? A review from emotion recognition and a human-centered AI perspective',\n",
       " 'Focusing and directional beaming effects of airborne sound through a planar lens with zigzag slits',\n",
       " 'Hierarchical principles of embodied reinforcement learning: A review',\n",
       " 'Highly efficient anomalous refraction of airborne sound through ultrathin metasurfaces',\n",
       " 'Improving interactive reinforcement learning: What makes a good teacher?',\n",
       " 'Incorporating Rivalry in Reinforcement Learning for a Competitive Game',\n",
       " 'Inference of Affordances and Active Motor Control in Simulated Agents',\n",
       " 'Intelligent behavior depends on the ecological niche: Scaling up AI to human-like intelligence in socio-cultural environments',\n",
       " 'Intelligent problem-solving as integrated hierarchical reinforcement learning',\n",
       " 'Lifelong Learning from Event-based Data',\n",
       " 'Observation of Acoustic Non-Hermitian Bloch Braids and Associated Topological Phase Transitions',\n",
       " 'Orbital Deflection of Comets by Directed Energy',\n",
       " 'Rethinking Continual Learning for Autonomous Agents and Robots',\n",
       " 'Sequential Attention GAN for Interactive Image Editing']"
      ]
     },
     "execution_count": 26,
     "metadata": {},
     "output_type": "execute_result"
    }
   ],
   "source": [
    "show_author_papers(df, G_check)\n",
    "\n",
    "#A Deep Learning Approach for Multimodal Deception Detection\n",
    "#GraphTMT: Unsupervised Graph-based Topic Modeling from Video Transcripts\n",
    "#RP-DNN: A Tweet level propagation context based deep neural networks for early rumor detection in Social Media\n",
    "#Capturing Topology in Graph Pattern Matching\n",
    "#Graph Pattern Matching for Dynamic Team Formation\n",
    "#SceneRec: Scene-Based Graph Neural Networks for Recommender Systems"
   ]
  },
  {
   "cell_type": "code",
   "execution_count": 101,
   "id": "359b8f0e",
   "metadata": {},
   "outputs": [
    {
     "name": "stdout",
     "output_type": "stream",
     "text": [
      "Density: 0.1746031746031746\n",
      "Node Count: 36\n"
     ]
    },
    {
     "data": {
      "image/svg+xml": [
       "<svg height=\"540\" width=\"840.0\" xmlns=\"http://www.w3.org/2000/svg\"><path d=\"M 440 129 511 248\" stroke=\"gray\" stroke-width=\"0.2\"/><path d=\"M 440 129 503 83\" stroke=\"gray\" stroke-width=\"0.2\"/><path d=\"M 440 129 454 67\" stroke=\"gray\" stroke-width=\"0.2\"/><path d=\"M 344 155 375 123\" stroke=\"gray\" stroke-width=\"0.2\"/><path d=\"M 344 155 511 248\" stroke=\"gray\" stroke-width=\"0.2\"/><path d=\"M 344 155 317 308\" stroke=\"gray\" stroke-width=\"0.2\"/><path d=\"M 694 213 708 311\" stroke=\"gray\" stroke-width=\"0.2\"/><path d=\"M 694 213 511 248\" stroke=\"gray\" stroke-width=\"0.2\"/><path d=\"M 694 213 667 314\" stroke=\"gray\" stroke-width=\"0.2\"/><path d=\"M 694 213 664 254\" stroke=\"gray\" stroke-width=\"0.2\"/><path d=\"M 694 213 720 257\" stroke=\"gray\" stroke-width=\"0.2\"/><path d=\"M 596 457 511 248\" stroke=\"gray\" stroke-width=\"0.2\"/><path d=\"M 596 457 542 485\" stroke=\"gray\" stroke-width=\"0.2\"/><path d=\"M 606 20 511 248\" stroke=\"gray\" stroke-width=\"0.2\"/><path d=\"M 606 20 647 61\" stroke=\"gray\" stroke-width=\"0.2\"/><path d=\"M 606 20 612 92\" stroke=\"gray\" stroke-width=\"0.2\"/><path d=\"M 606 20 566 35\" stroke=\"gray\" stroke-width=\"0.2\"/><path d=\"M 708 311 694 213\" stroke=\"gray\" stroke-width=\"0.2\"/><path d=\"M 708 311 511 248\" stroke=\"gray\" stroke-width=\"0.2\"/><path d=\"M 708 311 667 314\" stroke=\"gray\" stroke-width=\"0.2\"/><path d=\"M 708 311 664 254\" stroke=\"gray\" stroke-width=\"0.2\"/><path d=\"M 708 311 720 257\" stroke=\"gray\" stroke-width=\"0.2\"/><path d=\"M 375 123 344 155\" stroke=\"gray\" stroke-width=\"0.2\"/><path d=\"M 375 123 511 248\" stroke=\"gray\" stroke-width=\"0.2\"/><path d=\"M 375 123 317 308\" stroke=\"gray\" stroke-width=\"0.2\"/><path d=\"M 368 365 511 248\" stroke=\"gray\" stroke-width=\"0.2\"/><path d=\"M 368 365 412 393\" stroke=\"gray\" stroke-width=\"0.2\"/><path d=\"M 368 365 460 349\" stroke=\"gray\" stroke-width=\"0.2\"/><path d=\"M 368 365 210 341\" stroke=\"gray\" stroke-width=\"0.2\"/><path d=\"M 368 365 445 387\" stroke=\"gray\" stroke-width=\"0.2\"/><path d=\"M 368 365 446 308\" stroke=\"gray\" stroke-width=\"0.2\"/><path d=\"M 368 365 368 322\" stroke=\"gray\" stroke-width=\"0.2\"/><path d=\"M 368 365 411 290\" stroke=\"gray\" stroke-width=\"0.2\"/><path d=\"M 368 365 317 308\" stroke=\"gray\" stroke-width=\"0.2\"/><path d=\"M 368 365 417 343\" stroke=\"gray\" stroke-width=\"0.2\"/><path d=\"M 511 248 440 129\" stroke=\"gray\" stroke-width=\"0.2\"/><path d=\"M 511 248 344 155\" stroke=\"gray\" stroke-width=\"0.2\"/><path d=\"M 511 248 694 213\" stroke=\"gray\" stroke-width=\"0.2\"/><path d=\"M 511 248 596 457\" stroke=\"gray\" stroke-width=\"0.2\"/><path d=\"M 511 248 606 20\" stroke=\"gray\" stroke-width=\"0.2\"/><path d=\"M 511 248 708 311\" stroke=\"gray\" stroke-width=\"0.2\"/><path d=\"M 511 248 375 123\" stroke=\"gray\" stroke-width=\"0.2\"/><path d=\"M 511 248 368 365\" stroke=\"gray\" stroke-width=\"0.2\"/><path d=\"M 511 248 412 393\" stroke=\"gray\" stroke-width=\"0.2\"/><path d=\"M 511 248 460 349\" stroke=\"gray\" stroke-width=\"0.2\"/><path d=\"M 511 248 503 83\" stroke=\"gray\" stroke-width=\"0.2\"/><path d=\"M 511 248 210 341\" stroke=\"gray\" stroke-width=\"0.2\"/><path d=\"M 511 248 647 61\" stroke=\"gray\" stroke-width=\"0.2\"/><path d=\"M 511 248 454 67\" stroke=\"gray\" stroke-width=\"0.2\"/><path d=\"M 511 248 445 387\" stroke=\"gray\" stroke-width=\"0.2\"/><path d=\"M 511 248 446 308\" stroke=\"gray\" stroke-width=\"0.2\"/><path d=\"M 511 248 368 322\" stroke=\"gray\" stroke-width=\"0.2\"/><path d=\"M 511 248 411 290\" stroke=\"gray\" stroke-width=\"0.2\"/><path d=\"M 511 248 667 314\" stroke=\"gray\" stroke-width=\"0.2\"/><path d=\"M 511 248 664 254\" stroke=\"gray\" stroke-width=\"0.2\"/><path d=\"M 511 248 542 485\" stroke=\"gray\" stroke-width=\"0.2\"/><path d=\"M 511 248 720 257\" stroke=\"gray\" stroke-width=\"0.2\"/><path d=\"M 511 248 612 92\" stroke=\"gray\" stroke-width=\"0.2\"/><path d=\"M 511 248 317 308\" stroke=\"gray\" stroke-width=\"0.2\"/><path d=\"M 511 248 566 35\" stroke=\"gray\" stroke-width=\"0.2\"/><path d=\"M 511 248 417 343\" stroke=\"gray\" stroke-width=\"0.2\"/><path d=\"M 153 222 196 208\" stroke=\"gray\" stroke-width=\"0.2\"/><path d=\"M 153 222 210 341\" stroke=\"gray\" stroke-width=\"0.2\"/><path d=\"M 153 222 162 274\" stroke=\"gray\" stroke-width=\"0.2\"/><path d=\"M 153 222 317 308\" stroke=\"gray\" stroke-width=\"0.2\"/><path d=\"M 412 393 368 365\" stroke=\"gray\" stroke-width=\"0.2\"/><path d=\"M 412 393 511 248\" stroke=\"gray\" stroke-width=\"0.2\"/><path d=\"M 412 393 460 349\" stroke=\"gray\" stroke-width=\"0.2\"/><path d=\"M 412 393 445 387\" stroke=\"gray\" stroke-width=\"0.2\"/><path d=\"M 412 393 446 308\" stroke=\"gray\" stroke-width=\"0.2\"/><path d=\"M 412 393 368 322\" stroke=\"gray\" stroke-width=\"0.2\"/><path d=\"M 412 393 411 290\" stroke=\"gray\" stroke-width=\"0.2\"/><path d=\"M 412 393 317 308\" stroke=\"gray\" stroke-width=\"0.2\"/><path d=\"M 412 393 417 343\" stroke=\"gray\" stroke-width=\"0.2\"/><path d=\"M 79 453 210 341\" stroke=\"gray\" stroke-width=\"0.2\"/><path d=\"M 79 453 20 401\" stroke=\"gray\" stroke-width=\"0.2\"/><path d=\"M 79 453 38 452\" stroke=\"gray\" stroke-width=\"0.2\"/><path d=\"M 79 453 46 363\" stroke=\"gray\" stroke-width=\"0.2\"/><path d=\"M 460 349 368 365\" stroke=\"gray\" stroke-width=\"0.2\"/><path d=\"M 460 349 511 248\" stroke=\"gray\" stroke-width=\"0.2\"/><path d=\"M 460 349 412 393\" stroke=\"gray\" stroke-width=\"0.2\"/><path d=\"M 460 349 445 387\" stroke=\"gray\" stroke-width=\"0.2\"/><path d=\"M 460 349 446 308\" stroke=\"gray\" stroke-width=\"0.2\"/><path d=\"M 460 349 368 322\" stroke=\"gray\" stroke-width=\"0.2\"/><path d=\"M 460 349 411 290\" stroke=\"gray\" stroke-width=\"0.2\"/><path d=\"M 460 349 317 308\" stroke=\"gray\" stroke-width=\"0.2\"/><path d=\"M 460 349 417 343\" stroke=\"gray\" stroke-width=\"0.2\"/><path d=\"M 196 208 153 222\" stroke=\"gray\" stroke-width=\"0.2\"/><path d=\"M 196 208 210 341\" stroke=\"gray\" stroke-width=\"0.2\"/><path d=\"M 196 208 162 274\" stroke=\"gray\" stroke-width=\"0.2\"/><path d=\"M 196 208 317 308\" stroke=\"gray\" stroke-width=\"0.2\"/><path d=\"M 503 83 440 129\" stroke=\"gray\" stroke-width=\"0.2\"/><path d=\"M 503 83 511 248\" stroke=\"gray\" stroke-width=\"0.2\"/><path d=\"M 503 83 454 67\" stroke=\"gray\" stroke-width=\"0.2\"/><path d=\"M 210 341 368 365\" stroke=\"gray\" stroke-width=\"0.2\"/><path d=\"M 210 341 511 248\" stroke=\"gray\" stroke-width=\"0.2\"/><path d=\"M 210 341 153 222\" stroke=\"gray\" stroke-width=\"0.2\"/><path d=\"M 210 341 79 453\" stroke=\"gray\" stroke-width=\"0.2\"/><path d=\"M 210 341 196 208\" stroke=\"gray\" stroke-width=\"0.2\"/><path d=\"M 210 341 368 322\" stroke=\"gray\" stroke-width=\"0.2\"/><path d=\"M 210 341 162 274\" stroke=\"gray\" stroke-width=\"0.2\"/><path d=\"M 210 341 20 401\" stroke=\"gray\" stroke-width=\"0.2\"/><path d=\"M 210 341 38 452\" stroke=\"gray\" stroke-width=\"0.2\"/><path d=\"M 210 341 46 363\" stroke=\"gray\" stroke-width=\"0.2\"/><path d=\"M 210 341 317 308\" stroke=\"gray\" stroke-width=\"0.2\"/><path d=\"M 647 61 606 20\" stroke=\"gray\" stroke-width=\"0.2\"/><path d=\"M 647 61 511 248\" stroke=\"gray\" stroke-width=\"0.2\"/><path d=\"M 647 61 612 92\" stroke=\"gray\" stroke-width=\"0.2\"/><path d=\"M 647 61 566 35\" stroke=\"gray\" stroke-width=\"0.2\"/><path d=\"M 454 67 440 129\" stroke=\"gray\" stroke-width=\"0.2\"/><path d=\"M 454 67 511 248\" stroke=\"gray\" stroke-width=\"0.2\"/><path d=\"M 454 67 503 83\" stroke=\"gray\" stroke-width=\"0.2\"/><path d=\"M 445 387 368 365\" stroke=\"gray\" stroke-width=\"0.2\"/><path d=\"M 445 387 511 248\" stroke=\"gray\" stroke-width=\"0.2\"/><path d=\"M 445 387 412 393\" stroke=\"gray\" stroke-width=\"0.2\"/><path d=\"M 445 387 460 349\" stroke=\"gray\" stroke-width=\"0.2\"/><path d=\"M 445 387 446 308\" stroke=\"gray\" stroke-width=\"0.2\"/><path d=\"M 445 387 368 322\" stroke=\"gray\" stroke-width=\"0.2\"/><path d=\"M 445 387 411 290\" stroke=\"gray\" stroke-width=\"0.2\"/><path d=\"M 445 387 317 308\" stroke=\"gray\" stroke-width=\"0.2\"/><path d=\"M 445 387 417 343\" stroke=\"gray\" stroke-width=\"0.2\"/><path d=\"M 446 308 368 365\" stroke=\"gray\" stroke-width=\"0.2\"/><path d=\"M 446 308 511 248\" stroke=\"gray\" stroke-width=\"0.2\"/><path d=\"M 446 308 412 393\" stroke=\"gray\" stroke-width=\"0.2\"/><path d=\"M 446 308 460 349\" stroke=\"gray\" stroke-width=\"0.2\"/><path d=\"M 446 308 445 387\" stroke=\"gray\" stroke-width=\"0.2\"/><path d=\"M 446 308 368 322\" stroke=\"gray\" stroke-width=\"0.2\"/><path d=\"M 446 308 411 290\" stroke=\"gray\" stroke-width=\"0.2\"/><path d=\"M 446 308 317 308\" stroke=\"gray\" stroke-width=\"0.2\"/><path d=\"M 446 308 417 343\" stroke=\"gray\" stroke-width=\"0.2\"/><path d=\"M 368 322 368 365\" stroke=\"gray\" stroke-width=\"0.2\"/><path d=\"M 368 322 511 248\" stroke=\"gray\" stroke-width=\"0.2\"/><path d=\"M 368 322 412 393\" stroke=\"gray\" stroke-width=\"0.2\"/><path d=\"M 368 322 460 349\" stroke=\"gray\" stroke-width=\"0.2\"/><path d=\"M 368 322 210 341\" stroke=\"gray\" stroke-width=\"0.2\"/><path d=\"M 368 322 445 387\" stroke=\"gray\" stroke-width=\"0.2\"/><path d=\"M 368 322 446 308\" stroke=\"gray\" stroke-width=\"0.2\"/><path d=\"M 368 322 411 290\" stroke=\"gray\" stroke-width=\"0.2\"/><path d=\"M 368 322 317 308\" stroke=\"gray\" stroke-width=\"0.2\"/><path d=\"M 368 322 417 343\" stroke=\"gray\" stroke-width=\"0.2\"/><path d=\"M 162 274 153 222\" stroke=\"gray\" stroke-width=\"0.2\"/><path d=\"M 162 274 196 208\" stroke=\"gray\" stroke-width=\"0.2\"/><path d=\"M 162 274 210 341\" stroke=\"gray\" stroke-width=\"0.2\"/><path d=\"M 162 274 317 308\" stroke=\"gray\" stroke-width=\"0.2\"/><path d=\"M 411 290 368 365\" stroke=\"gray\" stroke-width=\"0.2\"/><path d=\"M 411 290 511 248\" stroke=\"gray\" stroke-width=\"0.2\"/><path d=\"M 411 290 412 393\" stroke=\"gray\" stroke-width=\"0.2\"/><path d=\"M 411 290 460 349\" stroke=\"gray\" stroke-width=\"0.2\"/><path d=\"M 411 290 445 387\" stroke=\"gray\" stroke-width=\"0.2\"/><path d=\"M 411 290 446 308\" stroke=\"gray\" stroke-width=\"0.2\"/><path d=\"M 411 290 368 322\" stroke=\"gray\" stroke-width=\"0.2\"/><path d=\"M 411 290 317 308\" stroke=\"gray\" stroke-width=\"0.2\"/><path d=\"M 411 290 417 343\" stroke=\"gray\" stroke-width=\"0.2\"/><path d=\"M 667 314 694 213\" stroke=\"gray\" stroke-width=\"0.2\"/><path d=\"M 667 314 708 311\" stroke=\"gray\" stroke-width=\"0.2\"/><path d=\"M 667 314 511 248\" stroke=\"gray\" stroke-width=\"0.2\"/><path d=\"M 667 314 664 254\" stroke=\"gray\" stroke-width=\"0.2\"/><path d=\"M 667 314 720 257\" stroke=\"gray\" stroke-width=\"0.2\"/><path d=\"M 20 401 79 453\" stroke=\"gray\" stroke-width=\"0.2\"/><path d=\"M 20 401 210 341\" stroke=\"gray\" stroke-width=\"0.2\"/><path d=\"M 20 401 38 452\" stroke=\"gray\" stroke-width=\"0.2\"/><path d=\"M 20 401 46 363\" stroke=\"gray\" stroke-width=\"0.2\"/><path d=\"M 267 520 220 476\" stroke=\"gray\" stroke-width=\"0.2\"/><path d=\"M 267 520 317 308\" stroke=\"gray\" stroke-width=\"0.2\"/><path d=\"M 664 254 694 213\" stroke=\"gray\" stroke-width=\"0.2\"/><path d=\"M 664 254 708 311\" stroke=\"gray\" stroke-width=\"0.2\"/><path d=\"M 664 254 511 248\" stroke=\"gray\" stroke-width=\"0.2\"/><path d=\"M 664 254 667 314\" stroke=\"gray\" stroke-width=\"0.2\"/><path d=\"M 664 254 720 257\" stroke=\"gray\" stroke-width=\"0.2\"/><path d=\"M 542 485 596 457\" stroke=\"gray\" stroke-width=\"0.2\"/><path d=\"M 542 485 511 248\" stroke=\"gray\" stroke-width=\"0.2\"/><path d=\"M 38 452 79 453\" stroke=\"gray\" stroke-width=\"0.2\"/><path d=\"M 38 452 210 341\" stroke=\"gray\" stroke-width=\"0.2\"/><path d=\"M 38 452 20 401\" stroke=\"gray\" stroke-width=\"0.2\"/><path d=\"M 38 452 46 363\" stroke=\"gray\" stroke-width=\"0.2\"/><path d=\"M 220 476 267 520\" stroke=\"gray\" stroke-width=\"0.2\"/><path d=\"M 220 476 317 308\" stroke=\"gray\" stroke-width=\"0.2\"/><path d=\"M 720 257 694 213\" stroke=\"gray\" stroke-width=\"0.2\"/><path d=\"M 720 257 708 311\" stroke=\"gray\" stroke-width=\"0.2\"/><path d=\"M 720 257 511 248\" stroke=\"gray\" stroke-width=\"0.2\"/><path d=\"M 720 257 667 314\" stroke=\"gray\" stroke-width=\"0.2\"/><path d=\"M 720 257 664 254\" stroke=\"gray\" stroke-width=\"0.2\"/><path d=\"M 46 363 79 453\" stroke=\"gray\" stroke-width=\"0.2\"/><path d=\"M 46 363 210 341\" stroke=\"gray\" stroke-width=\"0.2\"/><path d=\"M 46 363 20 401\" stroke=\"gray\" stroke-width=\"0.2\"/><path d=\"M 46 363 38 452\" stroke=\"gray\" stroke-width=\"0.2\"/><path d=\"M 612 92 606 20\" stroke=\"gray\" stroke-width=\"0.2\"/><path d=\"M 612 92 511 248\" stroke=\"gray\" stroke-width=\"0.2\"/><path d=\"M 612 92 647 61\" stroke=\"gray\" stroke-width=\"0.2\"/><path d=\"M 612 92 566 35\" stroke=\"gray\" stroke-width=\"0.2\"/><path d=\"M 317 308 344 155\" stroke=\"gray\" stroke-width=\"0.2\"/><path d=\"M 317 308 375 123\" stroke=\"gray\" stroke-width=\"0.2\"/><path d=\"M 317 308 368 365\" stroke=\"gray\" stroke-width=\"0.2\"/><path d=\"M 317 308 511 248\" stroke=\"gray\" stroke-width=\"0.2\"/><path d=\"M 317 308 153 222\" stroke=\"gray\" stroke-width=\"0.2\"/><path d=\"M 317 308 412 393\" stroke=\"gray\" stroke-width=\"0.2\"/><path d=\"M 317 308 460 349\" stroke=\"gray\" stroke-width=\"0.2\"/><path d=\"M 317 308 196 208\" stroke=\"gray\" stroke-width=\"0.2\"/><path d=\"M 317 308 210 341\" stroke=\"gray\" stroke-width=\"0.2\"/><path d=\"M 317 308 445 387\" stroke=\"gray\" stroke-width=\"0.2\"/><path d=\"M 317 308 446 308\" stroke=\"gray\" stroke-width=\"0.2\"/><path d=\"M 317 308 368 322\" stroke=\"gray\" stroke-width=\"0.2\"/><path d=\"M 317 308 162 274\" stroke=\"gray\" stroke-width=\"0.2\"/><path d=\"M 317 308 411 290\" stroke=\"gray\" stroke-width=\"0.2\"/><path d=\"M 317 308 267 520\" stroke=\"gray\" stroke-width=\"0.2\"/><path d=\"M 317 308 220 476\" stroke=\"gray\" stroke-width=\"0.2\"/><path d=\"M 317 308 417 343\" stroke=\"gray\" stroke-width=\"0.2\"/><path d=\"M 566 35 606 20\" stroke=\"gray\" stroke-width=\"0.2\"/><path d=\"M 566 35 511 248\" stroke=\"gray\" stroke-width=\"0.2\"/><path d=\"M 566 35 647 61\" stroke=\"gray\" stroke-width=\"0.2\"/><path d=\"M 566 35 612 92\" stroke=\"gray\" stroke-width=\"0.2\"/><path d=\"M 417 343 368 365\" stroke=\"gray\" stroke-width=\"0.2\"/><path d=\"M 417 343 511 248\" stroke=\"gray\" stroke-width=\"0.2\"/><path d=\"M 417 343 412 393\" stroke=\"gray\" stroke-width=\"0.2\"/><path d=\"M 417 343 460 349\" stroke=\"gray\" stroke-width=\"0.2\"/><path d=\"M 417 343 445 387\" stroke=\"gray\" stroke-width=\"0.2\"/><path d=\"M 417 343 446 308\" stroke=\"gray\" stroke-width=\"0.2\"/><path d=\"M 417 343 368 322\" stroke=\"gray\" stroke-width=\"0.2\"/><path d=\"M 417 343 411 290\" stroke=\"gray\" stroke-width=\"0.2\"/><path d=\"M 417 343 317 308\" stroke=\"gray\" stroke-width=\"0.2\"/><circle cx=\"440\" cy=\"129\" r=\"3.0\" style=\"fill:rgb(70, 93, 207);stroke:black;stroke-width:1.0\"/><circle cx=\"344\" cy=\"155\" r=\"3.0\" style=\"fill:rgb(64, 84, 199);stroke:black;stroke-width:1.0\"/><circle cx=\"694\" cy=\"213\" r=\"3.0\" style=\"fill:rgb(92, 123, 229);stroke:black;stroke-width:1.0\"/><circle cx=\"596\" cy=\"457\" r=\"3.0\" style=\"fill:rgb(58, 76, 192);stroke:black;stroke-width:1.0\"/><circle cx=\"606\" cy=\"20\" r=\"3.0\" style=\"fill:rgb(82, 110, 220);stroke:black;stroke-width:1.0\"/><circle cx=\"708\" cy=\"311\" r=\"3.0\" style=\"fill:rgb(92, 123, 229);stroke:black;stroke-width:1.0\"/><circle cx=\"375\" cy=\"123\" r=\"3.0\" style=\"fill:rgb(64, 84, 199);stroke:black;stroke-width:1.0\"/><circle cx=\"368\" cy=\"365\" r=\"3.0\" style=\"fill:rgb(134, 169, 252);stroke:black;stroke-width:1.0\"/><circle cx=\"511\" cy=\"248\" r=\"3.0\" style=\"fill:rgb(179, 3, 38);stroke:black;stroke-width:1.0\"/><circle cx=\"153\" cy=\"222\" r=\"3.0\" style=\"fill:rgb(76, 102, 214);stroke:black;stroke-width:1.0\"/><circle cx=\"412\" cy=\"393\" r=\"3.0\" style=\"fill:rgb(123, 158, 248);stroke:black;stroke-width:1.0\"/><circle cx=\"79\" cy=\"453\" r=\"3.0\" style=\"fill:rgb(82, 110, 220);stroke:black;stroke-width:1.0\"/><circle cx=\"460\" cy=\"349\" r=\"3.0\" style=\"fill:rgb(123, 158, 248);stroke:black;stroke-width:1.0\"/><circle cx=\"196\" cy=\"208\" r=\"3.0\" style=\"fill:rgb(76, 102, 214);stroke:black;stroke-width:1.0\"/><circle cx=\"503\" cy=\"83\" r=\"3.0\" style=\"fill:rgb(70, 93, 207);stroke:black;stroke-width:1.0\"/><circle cx=\"210\" cy=\"341\" r=\"3.0\" style=\"fill:rgb(176, 203, 251);stroke:black;stroke-width:1.0\"/><circle cx=\"647\" cy=\"61\" r=\"3.0\" style=\"fill:rgb(82, 110, 220);stroke:black;stroke-width:1.0\"/><circle cx=\"454\" cy=\"67\" r=\"3.0\" style=\"fill:rgb(70, 93, 207);stroke:black;stroke-width:1.0\"/><circle cx=\"445\" cy=\"387\" r=\"3.0\" style=\"fill:rgb(123, 158, 248);stroke:black;stroke-width:1.0\"/><circle cx=\"446\" cy=\"308\" r=\"3.0\" style=\"fill:rgb(123, 158, 248);stroke:black;stroke-width:1.0\"/><circle cx=\"368\" cy=\"322\" r=\"3.0\" style=\"fill:rgb(134, 169, 252);stroke:black;stroke-width:1.0\"/><circle cx=\"162\" cy=\"274\" r=\"3.0\" style=\"fill:rgb(76, 102, 214);stroke:black;stroke-width:1.0\"/><circle cx=\"411\" cy=\"290\" r=\"3.0\" style=\"fill:rgb(123, 158, 248);stroke:black;stroke-width:1.0\"/><circle cx=\"667\" cy=\"314\" r=\"3.0\" style=\"fill:rgb(92, 123, 229);stroke:black;stroke-width:1.0\"/><circle cx=\"20\" cy=\"401\" r=\"3.0\" style=\"fill:rgb(82, 110, 220);stroke:black;stroke-width:1.0\"/><circle cx=\"267\" cy=\"520\" r=\"3.0\" style=\"fill:rgb(58, 76, 192);stroke:black;stroke-width:1.0\"/><circle cx=\"664\" cy=\"254\" r=\"3.0\" style=\"fill:rgb(92, 123, 229);stroke:black;stroke-width:1.0\"/><circle cx=\"542\" cy=\"485\" r=\"3.0\" style=\"fill:rgb(58, 76, 192);stroke:black;stroke-width:1.0\"/><circle cx=\"38\" cy=\"452\" r=\"3.0\" style=\"fill:rgb(82, 110, 220);stroke:black;stroke-width:1.0\"/><circle cx=\"220\" cy=\"476\" r=\"3.0\" style=\"fill:rgb(58, 76, 192);stroke:black;stroke-width:1.0\"/><circle cx=\"720\" cy=\"257\" r=\"3.0\" style=\"fill:rgb(92, 123, 229);stroke:black;stroke-width:1.0\"/><circle cx=\"46\" cy=\"363\" r=\"3.0\" style=\"fill:rgb(82, 110, 220);stroke:black;stroke-width:1.0\"/><circle cx=\"612\" cy=\"92\" r=\"3.0\" style=\"fill:rgb(82, 110, 220);stroke:black;stroke-width:1.0\"/><circle cx=\"317\" cy=\"308\" r=\"3.0\" style=\"fill:rgb(236, 210, 196);stroke:black;stroke-width:1.0\"/><circle cx=\"566\" cy=\"35\" r=\"3.0\" style=\"fill:rgb(82, 110, 220);stroke:black;stroke-width:1.0\"/><circle cx=\"417\" cy=\"343\" r=\"3.0\" style=\"fill:rgb(123, 158, 248);stroke:black;stroke-width:1.0\"/><text font-size=\"10\" x=\"446\" y=\"132\">Hyunseung Kang</text><text font-size=\"10\" x=\"350\" y=\"158\">Timothy G. Gaulton</text><text font-size=\"10\" x=\"700\" y=\"216\">Ruth Heller</text><text font-size=\"10\" x=\"602\" y=\"460\">Dean P. Foster</text><text font-size=\"10\" x=\"612\" y=\"23\">Jeffrey H. Silber</text><text font-size=\"10\" x=\"714\" y=\"314\">Tishra Beeson</text><text font-size=\"10\" x=\"381\" y=\"126\">Mark D. Neuman</text><text font-size=\"10\" x=\"374\" y=\"368\">Raiden B. Hasegawa</text><text font-size=\"10\" x=\"517\" y=\"251\">Dylan S. Small</text><text font-size=\"10\" x=\"159\" y=\"225\">Jennifer E. Starling</text><text font-size=\"10\" x=\"418\" y=\"396\">Michael Baiocchi</text><text font-size=\"10\" x=\"85\" y=\"456\">Aric A. Prather</text><text font-size=\"10\" x=\"466\" y=\"352\">Jason H. Karlawish</text><text font-size=\"10\" x=\"202\" y=\"211\">Cecilia Balocchi</text><text font-size=\"10\" x=\"509\" y=\"86\">Anru Zhang</text><text font-size=\"10\" x=\"216\" y=\"344\">Jordan Weiss</text><text font-size=\"10\" x=\"653\" y=\"64\">Kwonsang Lee</text><text font-size=\"10\" x=\"460\" y=\"70\">T. Tony Cai</text><text font-size=\"10\" x=\"451\" y=\"390\">Andrew Tabatabaei</text><text font-size=\"10\" x=\"452\" y=\"311\">John Whyte</text><text font-size=\"10\" x=\"374\" y=\"325\">Amanda R. Rabinowitz</text><text font-size=\"10\" x=\"168\" y=\"277\">Ray Bai</text><text font-size=\"10\" x=\"417\" y=\"293\">Christina L. Master</text><text font-size=\"10\" x=\"673\" y=\"317\">Samrat Roy</text><text font-size=\"10\" x=\"26\" y=\"404\">Eli Puterman</text><text font-size=\"10\" x=\"273\" y=\"523\">Edward I. George</text><text font-size=\"10\" x=\"670\" y=\"257\">Marina Bogomolov</text><text font-size=\"10\" x=\"548\" y=\"488\">Vishal Patel</text><text font-size=\"10\" x=\"44\" y=\"455\">David H. Rehkopf</text><text font-size=\"10\" x=\"226\" y=\"479\">Veronika Rockova</text><text font-size=\"10\" x=\"726\" y=\"260\">Amy M. Claridge</text><text font-size=\"10\" x=\"52\" y=\"366\">Erin B. Ware</text><text font-size=\"10\" x=\"618\" y=\"95\">Jesse Y. Hsu</text><text font-size=\"10\" x=\"323\" y=\"311\">Sameer K. Deshpande</text><text font-size=\"10\" x=\"572\" y=\"38\">Paul R. Rosenbaum</text><text font-size=\"10\" x=\"423\" y=\"346\">Carol L. Roan</text></svg>"
      ],
      "text/plain": [
       "<IPython.core.display.SVG object>"
      ]
     },
     "execution_count": 101,
     "metadata": {},
     "output_type": "execute_result"
    }
   ],
   "source": [
    "G_check = community_context_dict[communities[2]]['G']\n",
    "draw_community(G_check)"
   ]
  },
  {
   "cell_type": "code",
   "execution_count": 28,
   "id": "f677b9c8",
   "metadata": {},
   "outputs": [
    {
     "data": {
      "text/plain": [
       "['A data-driven prospective study of incident dementia among older adults in the United States',\n",
       " 'Comment: The Place of Death in the Quality of Life',\n",
       " 'Discovering Effect Modification in an Observational Study of Surgical Mortality at Hospitals with Superior Nursing',\n",
       " 'Ideal Bayesian Spatial Adaptation',\n",
       " 'Instrumental Variables Estimation with Some Invalid Instruments and its Application to Mendelian Randomization',\n",
       " 'Protocol for an Observational Study of the Association of High School Football Participation on Health in Late Adulthood',\n",
       " 'Protocol for an Observational Study on the Effects of Early-Life Participation in Contact Sports on Later-Life Cognition in a Sample of Monozygotic and Dizygotic Swedish Twins Reared Together and Twins Reared Apart',\n",
       " 'Protocol for an Observational Study on the Effects of Giving Births from Unintended Pregnancies on Later Life Physical and Mental Health',\n",
       " 'Protocol for an Observational Study on the Effects of Playing High School Football on Later Life Cognitive Functioning and Mental Health',\n",
       " 'Protocol for an observational study on the effects of playing football in adolescence on mental health in early adulthood',\n",
       " 'Simultaneous Variable and Covariance Selection with the Multivariate Spike-and-Slab Lasso',\n",
       " 'The effect of winning an Oscar Award on survival: Correcting for healthy performer survivor bias with a rank preserving structural accelerated failure time model',\n",
       " 'VCBART: Bayesian trees for varying coefficients']"
      ]
     },
     "execution_count": 28,
     "metadata": {},
     "output_type": "execute_result"
    }
   ],
   "source": [
    "show_author_papers(df, G_check)\n",
    "\n",
    "#A Survey of Neural Trojan Attacks and Defenses in Deep Learning\n",
    "#Physical world assistive signals for deep neural network classifiers -- neither defense nor attack\n",
    "#PRAT: PRofiling Adversarial aTtacks\n",
    "#Four hot DOGs in the microwave\n",
    "#Outlyingness: why do outliers lie out?"
   ]
  },
  {
   "cell_type": "code",
   "execution_count": 98,
   "id": "9ca31eed",
   "metadata": {},
   "outputs": [
    {
     "name": "stdout",
     "output_type": "stream",
     "text": [
      "Density: 0.19047619047619047\n",
      "Node Count: 21\n"
     ]
    },
    {
     "data": {
      "image/svg+xml": [
       "<svg height=\"540\" width=\"850.0\" xmlns=\"http://www.w3.org/2000/svg\"><path d=\"M 379 520 332 489\" stroke=\"gray\" stroke-width=\"0.2\"/><path d=\"M 379 520 368 360\" stroke=\"gray\" stroke-width=\"0.2\"/><path d=\"M 379 520 403 472\" stroke=\"gray\" stroke-width=\"0.2\"/><path d=\"M 453 30 472 161\" stroke=\"gray\" stroke-width=\"0.2\"/><path d=\"M 453 30 392 72\" stroke=\"gray\" stroke-width=\"0.2\"/><path d=\"M 453 30 398 20\" stroke=\"gray\" stroke-width=\"0.2\"/><path d=\"M 20 394 157 365\" stroke=\"gray\" stroke-width=\"0.2\"/><path d=\"M 20 394 24 329\" stroke=\"gray\" stroke-width=\"0.2\"/><path d=\"M 472 161 453 30\" stroke=\"gray\" stroke-width=\"0.2\"/><path d=\"M 472 161 392 72\" stroke=\"gray\" stroke-width=\"0.2\"/><path d=\"M 472 161 398 20\" stroke=\"gray\" stroke-width=\"0.2\"/><path d=\"M 472 161 554 35\" stroke=\"gray\" stroke-width=\"0.2\"/><path d=\"M 472 161 570 325\" stroke=\"gray\" stroke-width=\"0.2\"/><path d=\"M 472 161 467 280\" stroke=\"gray\" stroke-width=\"0.2\"/><path d=\"M 472 161 368 360\" stroke=\"gray\" stroke-width=\"0.2\"/><path d=\"M 472 161 591 82\" stroke=\"gray\" stroke-width=\"0.2\"/><path d=\"M 240 344 157 365\" stroke=\"gray\" stroke-width=\"0.2\"/><path d=\"M 240 344 368 360\" stroke=\"gray\" stroke-width=\"0.2\"/><path d=\"M 240 344 235 406\" stroke=\"gray\" stroke-width=\"0.2\"/><path d=\"M 720 341 663 411\" stroke=\"gray\" stroke-width=\"0.2\"/><path d=\"M 720 341 672 348\" stroke=\"gray\" stroke-width=\"0.2\"/><path d=\"M 720 341 570 325\" stroke=\"gray\" stroke-width=\"0.2\"/><path d=\"M 720 341 712 399\" stroke=\"gray\" stroke-width=\"0.2\"/><path d=\"M 392 72 453 30\" stroke=\"gray\" stroke-width=\"0.2\"/><path d=\"M 392 72 472 161\" stroke=\"gray\" stroke-width=\"0.2\"/><path d=\"M 392 72 398 20\" stroke=\"gray\" stroke-width=\"0.2\"/><path d=\"M 332 489 379 520\" stroke=\"gray\" stroke-width=\"0.2\"/><path d=\"M 332 489 368 360\" stroke=\"gray\" stroke-width=\"0.2\"/><path d=\"M 332 489 403 472\" stroke=\"gray\" stroke-width=\"0.2\"/><path d=\"M 663 411 720 341\" stroke=\"gray\" stroke-width=\"0.2\"/><path d=\"M 663 411 672 348\" stroke=\"gray\" stroke-width=\"0.2\"/><path d=\"M 663 411 570 325\" stroke=\"gray\" stroke-width=\"0.2\"/><path d=\"M 663 411 712 399\" stroke=\"gray\" stroke-width=\"0.2\"/><path d=\"M 398 20 453 30\" stroke=\"gray\" stroke-width=\"0.2\"/><path d=\"M 398 20 472 161\" stroke=\"gray\" stroke-width=\"0.2\"/><path d=\"M 398 20 392 72\" stroke=\"gray\" stroke-width=\"0.2\"/><path d=\"M 672 348 720 341\" stroke=\"gray\" stroke-width=\"0.2\"/><path d=\"M 672 348 663 411\" stroke=\"gray\" stroke-width=\"0.2\"/><path d=\"M 672 348 570 325\" stroke=\"gray\" stroke-width=\"0.2\"/><path d=\"M 672 348 712 399\" stroke=\"gray\" stroke-width=\"0.2\"/><path d=\"M 554 35 472 161\" stroke=\"gray\" stroke-width=\"0.2\"/><path d=\"M 554 35 591 82\" stroke=\"gray\" stroke-width=\"0.2\"/><path d=\"M 570 325 472 161\" stroke=\"gray\" stroke-width=\"0.2\"/><path d=\"M 570 325 720 341\" stroke=\"gray\" stroke-width=\"0.2\"/><path d=\"M 570 325 663 411\" stroke=\"gray\" stroke-width=\"0.2\"/><path d=\"M 570 325 672 348\" stroke=\"gray\" stroke-width=\"0.2\"/><path d=\"M 570 325 467 280\" stroke=\"gray\" stroke-width=\"0.2\"/><path d=\"M 570 325 368 360\" stroke=\"gray\" stroke-width=\"0.2\"/><path d=\"M 570 325 712 399\" stroke=\"gray\" stroke-width=\"0.2\"/><path d=\"M 467 280 472 161\" stroke=\"gray\" stroke-width=\"0.2\"/><path d=\"M 467 280 570 325\" stroke=\"gray\" stroke-width=\"0.2\"/><path d=\"M 467 280 368 360\" stroke=\"gray\" stroke-width=\"0.2\"/><path d=\"M 157 365 20 394\" stroke=\"gray\" stroke-width=\"0.2\"/><path d=\"M 157 365 240 344\" stroke=\"gray\" stroke-width=\"0.2\"/><path d=\"M 157 365 368 360\" stroke=\"gray\" stroke-width=\"0.2\"/><path d=\"M 157 365 235 406\" stroke=\"gray\" stroke-width=\"0.2\"/><path d=\"M 157 365 24 329\" stroke=\"gray\" stroke-width=\"0.2\"/><path d=\"M 368 360 379 520\" stroke=\"gray\" stroke-width=\"0.2\"/><path d=\"M 368 360 472 161\" stroke=\"gray\" stroke-width=\"0.2\"/><path d=\"M 368 360 240 344\" stroke=\"gray\" stroke-width=\"0.2\"/><path d=\"M 368 360 332 489\" stroke=\"gray\" stroke-width=\"0.2\"/><path d=\"M 368 360 570 325\" stroke=\"gray\" stroke-width=\"0.2\"/><path d=\"M 368 360 467 280\" stroke=\"gray\" stroke-width=\"0.2\"/><path d=\"M 368 360 157 365\" stroke=\"gray\" stroke-width=\"0.2\"/><path d=\"M 368 360 403 472\" stroke=\"gray\" stroke-width=\"0.2\"/><path d=\"M 368 360 235 406\" stroke=\"gray\" stroke-width=\"0.2\"/><path d=\"M 403 472 379 520\" stroke=\"gray\" stroke-width=\"0.2\"/><path d=\"M 403 472 332 489\" stroke=\"gray\" stroke-width=\"0.2\"/><path d=\"M 403 472 368 360\" stroke=\"gray\" stroke-width=\"0.2\"/><path d=\"M 235 406 240 344\" stroke=\"gray\" stroke-width=\"0.2\"/><path d=\"M 235 406 157 365\" stroke=\"gray\" stroke-width=\"0.2\"/><path d=\"M 235 406 368 360\" stroke=\"gray\" stroke-width=\"0.2\"/><path d=\"M 591 82 472 161\" stroke=\"gray\" stroke-width=\"0.2\"/><path d=\"M 591 82 554 35\" stroke=\"gray\" stroke-width=\"0.2\"/><path d=\"M 24 329 20 394\" stroke=\"gray\" stroke-width=\"0.2\"/><path d=\"M 24 329 157 365\" stroke=\"gray\" stroke-width=\"0.2\"/><path d=\"M 712 399 720 341\" stroke=\"gray\" stroke-width=\"0.2\"/><path d=\"M 712 399 663 411\" stroke=\"gray\" stroke-width=\"0.2\"/><path d=\"M 712 399 672 348\" stroke=\"gray\" stroke-width=\"0.2\"/><path d=\"M 712 399 570 325\" stroke=\"gray\" stroke-width=\"0.2\"/><circle cx=\"379\" cy=\"520\" r=\"3.0\" style=\"fill:rgb(92, 123, 229);stroke:black;stroke-width:1.0\"/><circle cx=\"453\" cy=\"30\" r=\"3.0\" style=\"fill:rgb(99, 131, 234);stroke:black;stroke-width:1.0\"/><circle cx=\"20\" cy=\"394\" r=\"3.0\" style=\"fill:rgb(64, 84, 199);stroke:black;stroke-width:1.0\"/><circle cx=\"472\" cy=\"161\" r=\"3.0\" style=\"fill:rgb(217, 88, 71);stroke:black;stroke-width:1.0\"/><circle cx=\"240\" cy=\"344\" r=\"3.0\" style=\"fill:rgb(96, 128, 232);stroke:black;stroke-width:1.0\"/><circle cx=\"720\" cy=\"341\" r=\"3.0\" style=\"fill:rgb(120, 155, 247);stroke:black;stroke-width:1.0\"/><circle cx=\"392\" cy=\"72\" r=\"3.0\" style=\"fill:rgb(99, 131, 234);stroke:black;stroke-width:1.0\"/><circle cx=\"332\" cy=\"489\" r=\"3.0\" style=\"fill:rgb(92, 123, 229);stroke:black;stroke-width:1.0\"/><circle cx=\"663\" cy=\"411\" r=\"3.0\" style=\"fill:rgb(120, 155, 247);stroke:black;stroke-width:1.0\"/><circle cx=\"398\" cy=\"20\" r=\"3.0\" style=\"fill:rgb(99, 131, 234);stroke:black;stroke-width:1.0\"/><circle cx=\"672\" cy=\"348\" r=\"3.0\" style=\"fill:rgb(120, 155, 247);stroke:black;stroke-width:1.0\"/><circle cx=\"554\" cy=\"35\" r=\"3.0\" style=\"fill:rgb(58, 76, 192);stroke:black;stroke-width:1.0\"/><circle cx=\"570\" cy=\"325\" r=\"3.0\" style=\"fill:rgb(242, 200, 179);stroke:black;stroke-width:1.0\"/><circle cx=\"467\" cy=\"280\" r=\"3.0\" style=\"fill:rgb(82, 110, 220);stroke:black;stroke-width:1.0\"/><circle cx=\"157\" cy=\"365\" r=\"3.0\" style=\"fill:rgb(219, 220, 222);stroke:black;stroke-width:1.0\"/><circle cx=\"368\" cy=\"360\" r=\"3.0\" style=\"fill:rgb(179, 3, 38);stroke:black;stroke-width:1.0\"/><circle cx=\"403\" cy=\"472\" r=\"3.0\" style=\"fill:rgb(92, 123, 229);stroke:black;stroke-width:1.0\"/><circle cx=\"235\" cy=\"406\" r=\"3.0\" style=\"fill:rgb(96, 128, 232);stroke:black;stroke-width:1.0\"/><circle cx=\"591\" cy=\"82\" r=\"3.0\" style=\"fill:rgb(58, 76, 192);stroke:black;stroke-width:1.0\"/><circle cx=\"24\" cy=\"329\" r=\"3.0\" style=\"fill:rgb(64, 84, 199);stroke:black;stroke-width:1.0\"/><circle cx=\"712\" cy=\"399\" r=\"3.0\" style=\"fill:rgb(120, 155, 247);stroke:black;stroke-width:1.0\"/><text font-size=\"10\" x=\"385\" y=\"523\">Charles Jeurgens</text><text font-size=\"10\" x=\"459\" y=\"33\">Chad Peters</text><text font-size=\"10\" x=\"26\" y=\"397\">Anthony F. J. van Raan</text><text font-size=\"10\" x=\"478\" y=\"164\">Robert West</text><text font-size=\"10\" x=\"246\" y=\"347\">Kevin W. Boyack</text><text font-size=\"10\" x=\"726\" y=\"344\">Pushkal Agarwal</text><text font-size=\"10\" x=\"398\" y=\"75\">Mohamad Zalat</text><text font-size=\"10\" x=\"338\" y=\"492\">Tobias Blanke</text><text font-size=\"10\" x=\"669\" y=\"414\">Nishanth Sastry</text><text font-size=\"10\" x=\"404\" y=\"23\">Babak Esfandiari</text><text font-size=\"10\" x=\"678\" y=\"351\">Andrew Blick</text><text font-size=\"10\" x=\"560\" y=\"38\">Manoel Horta Ribeiro</text><text font-size=\"10\" x=\"576\" y=\"328\">Miriam Redi</text><text font-size=\"10\" x=\"473\" y=\"283\">Tiziano Piccardi</text><text font-size=\"10\" x=\"163\" y=\"368\">Ludo Waltman</text><text font-size=\"10\" x=\"374\" y=\"363\">Giovanni Colavizza</text><text font-size=\"10\" x=\"409\" y=\"475\">Julia Noordegraaf</text><text font-size=\"10\" x=\"241\" y=\"409\">Nees Jan van Eck</text><text font-size=\"10\" x=\"597\" y=\"85\">Veniamin Veselovsky</text><text font-size=\"10\" x=\"30\" y=\"332\">Sue Smart</text><text font-size=\"10\" x=\"718\" y=\"402\">Edward Wood</text></svg>"
      ],
      "text/plain": [
       "<IPython.core.display.SVG object>"
      ]
     },
     "execution_count": 98,
     "metadata": {},
     "output_type": "execute_result"
    }
   ],
   "source": [
    "G_check = community_context_dict[communities[3]]['G']\n",
    "draw_community(G_check)"
   ]
  },
  {
   "cell_type": "code",
   "execution_count": 30,
   "id": "7a9b992e",
   "metadata": {},
   "outputs": [
    {
     "data": {
      "text/plain": [
       "['Archives and AI: An Overview of Current Debates and Future Perspectives',\n",
       " 'Artificial Artificial Artificial Intelligence: Crowd Workers Widely Use Large Language Models for Text Production Tasks',\n",
       " 'Behavior Cloning in OpenAI using Case Based Reasoning',\n",
       " 'Characterizing in-text citations in scientific articles: A large-scale analysis',\n",
       " 'Comparison of the Hirsch-index with standard bibliometric indicators and with peer judgment for 147 chemistry research groups',\n",
       " 'Exploring the relationship between the Engineering and Physical Sciences and the Health and Life Sciences by advanced bibliometric methods',\n",
       " 'Quantifying Engagement with Citations on Wikipedia',\n",
       " 'Wikipedia and Westminster: Quality and Dynamics of Wikipedia Pages about UK Politicians']"
      ]
     },
     "execution_count": 30,
     "metadata": {},
     "output_type": "execute_result"
    }
   ],
   "source": [
    "show_author_papers(df, G_check)\n",
    "\n",
    "#Natural Backdoor Attack on Text Data"
   ]
  },
  {
   "cell_type": "code",
   "execution_count": 93,
   "id": "2b37f91e",
   "metadata": {},
   "outputs": [
    {
     "name": "stdout",
     "output_type": "stream",
     "text": [
      "Density: 0.1996996996996997\n",
      "Node Count: 37\n"
     ]
    },
    {
     "data": {
      "image/svg+xml": [
       "<svg height=\"540\" width=\"835.0\" xmlns=\"http://www.w3.org/2000/svg\"><path d=\"M 448 446 353 435\" stroke=\"gray\" stroke-width=\"0.2\"/><path d=\"M 448 446 508 371\" stroke=\"gray\" stroke-width=\"0.2\"/><path d=\"M 448 446 465 491\" stroke=\"gray\" stroke-width=\"0.2\"/><path d=\"M 448 446 433 475\" stroke=\"gray\" stroke-width=\"0.2\"/><path d=\"M 448 446 490 448\" stroke=\"gray\" stroke-width=\"0.2\"/><path d=\"M 448 446 498 476\" stroke=\"gray\" stroke-width=\"0.2\"/><path d=\"M 270 421 353 435\" stroke=\"gray\" stroke-width=\"0.2\"/><path d=\"M 270 421 183 445\" stroke=\"gray\" stroke-width=\"0.2\"/><path d=\"M 270 421 230 424\" stroke=\"gray\" stroke-width=\"0.2\"/><path d=\"M 270 421 258 448\" stroke=\"gray\" stroke-width=\"0.2\"/><path d=\"M 270 421 345 349\" stroke=\"gray\" stroke-width=\"0.2\"/><path d=\"M 270 421 217 395\" stroke=\"gray\" stroke-width=\"0.2\"/><path d=\"M 270 421 251 392\" stroke=\"gray\" stroke-width=\"0.2\"/><path d=\"M 655 423 690 368\" stroke=\"gray\" stroke-width=\"0.2\"/><path d=\"M 655 423 508 371\" stroke=\"gray\" stroke-width=\"0.2\"/><path d=\"M 655 423 694 407\" stroke=\"gray\" stroke-width=\"0.2\"/><path d=\"M 655 423 649 380\" stroke=\"gray\" stroke-width=\"0.2\"/><path d=\"M 405 288 478 299\" stroke=\"gray\" stroke-width=\"0.2\"/><path d=\"M 405 288 508 371\" stroke=\"gray\" stroke-width=\"0.2\"/><path d=\"M 405 288 423 268\" stroke=\"gray\" stroke-width=\"0.2\"/><path d=\"M 405 288 507 200\" stroke=\"gray\" stroke-width=\"0.2\"/><path d=\"M 405 288 460 277\" stroke=\"gray\" stroke-width=\"0.2\"/><path d=\"M 405 288 438 305\" stroke=\"gray\" stroke-width=\"0.2\"/><path d=\"M 405 288 345 349\" stroke=\"gray\" stroke-width=\"0.2\"/><path d=\"M 48 520 183 445\" stroke=\"gray\" stroke-width=\"0.2\"/><path d=\"M 48 520 20 480\" stroke=\"gray\" stroke-width=\"0.2\"/><path d=\"M 353 435 448 446\" stroke=\"gray\" stroke-width=\"0.2\"/><path d=\"M 353 435 270 421\" stroke=\"gray\" stroke-width=\"0.2\"/><path d=\"M 353 435 508 371\" stroke=\"gray\" stroke-width=\"0.2\"/><path d=\"M 353 435 183 445\" stroke=\"gray\" stroke-width=\"0.2\"/><path d=\"M 353 435 230 424\" stroke=\"gray\" stroke-width=\"0.2\"/><path d=\"M 353 435 465 491\" stroke=\"gray\" stroke-width=\"0.2\"/><path d=\"M 353 435 433 475\" stroke=\"gray\" stroke-width=\"0.2\"/><path d=\"M 353 435 258 448\" stroke=\"gray\" stroke-width=\"0.2\"/><path d=\"M 353 435 345 349\" stroke=\"gray\" stroke-width=\"0.2\"/><path d=\"M 353 435 217 395\" stroke=\"gray\" stroke-width=\"0.2\"/><path d=\"M 353 435 251 392\" stroke=\"gray\" stroke-width=\"0.2\"/><path d=\"M 353 435 490 448\" stroke=\"gray\" stroke-width=\"0.2\"/><path d=\"M 353 435 498 476\" stroke=\"gray\" stroke-width=\"0.2\"/><path d=\"M 528 103 611 102\" stroke=\"gray\" stroke-width=\"0.2\"/><path d=\"M 528 103 562 101\" stroke=\"gray\" stroke-width=\"0.2\"/><path d=\"M 528 103 556 129\" stroke=\"gray\" stroke-width=\"0.2\"/><path d=\"M 528 103 498 84\" stroke=\"gray\" stroke-width=\"0.2\"/><path d=\"M 528 103 507 200\" stroke=\"gray\" stroke-width=\"0.2\"/><path d=\"M 528 103 594 76\" stroke=\"gray\" stroke-width=\"0.2\"/><path d=\"M 528 103 500 115\" stroke=\"gray\" stroke-width=\"0.2\"/><path d=\"M 528 103 534 72\" stroke=\"gray\" stroke-width=\"0.2\"/><path d=\"M 611 102 528 103\" stroke=\"gray\" stroke-width=\"0.2\"/><path d=\"M 611 102 562 101\" stroke=\"gray\" stroke-width=\"0.2\"/><path d=\"M 611 102 685 20\" stroke=\"gray\" stroke-width=\"0.2\"/><path d=\"M 611 102 556 129\" stroke=\"gray\" stroke-width=\"0.2\"/><path d=\"M 611 102 498 84\" stroke=\"gray\" stroke-width=\"0.2\"/><path d=\"M 611 102 507 200\" stroke=\"gray\" stroke-width=\"0.2\"/><path d=\"M 611 102 594 76\" stroke=\"gray\" stroke-width=\"0.2\"/><path d=\"M 611 102 500 115\" stroke=\"gray\" stroke-width=\"0.2\"/><path d=\"M 611 102 654 176\" stroke=\"gray\" stroke-width=\"0.2\"/><path d=\"M 611 102 720 53\" stroke=\"gray\" stroke-width=\"0.2\"/><path d=\"M 611 102 534 72\" stroke=\"gray\" stroke-width=\"0.2\"/><path d=\"M 562 101 528 103\" stroke=\"gray\" stroke-width=\"0.2\"/><path d=\"M 562 101 611 102\" stroke=\"gray\" stroke-width=\"0.2\"/><path d=\"M 562 101 556 129\" stroke=\"gray\" stroke-width=\"0.2\"/><path d=\"M 562 101 498 84\" stroke=\"gray\" stroke-width=\"0.2\"/><path d=\"M 562 101 507 200\" stroke=\"gray\" stroke-width=\"0.2\"/><path d=\"M 562 101 594 76\" stroke=\"gray\" stroke-width=\"0.2\"/><path d=\"M 562 101 500 115\" stroke=\"gray\" stroke-width=\"0.2\"/><path d=\"M 562 101 534 72\" stroke=\"gray\" stroke-width=\"0.2\"/><path d=\"M 685 20 611 102\" stroke=\"gray\" stroke-width=\"0.2\"/><path d=\"M 685 20 594 76\" stroke=\"gray\" stroke-width=\"0.2\"/><path d=\"M 685 20 720 53\" stroke=\"gray\" stroke-width=\"0.2\"/><path d=\"M 690 368 655 423\" stroke=\"gray\" stroke-width=\"0.2\"/><path d=\"M 690 368 508 371\" stroke=\"gray\" stroke-width=\"0.2\"/><path d=\"M 690 368 694 407\" stroke=\"gray\" stroke-width=\"0.2\"/><path d=\"M 690 368 649 380\" stroke=\"gray\" stroke-width=\"0.2\"/><path d=\"M 478 299 405 288\" stroke=\"gray\" stroke-width=\"0.2\"/><path d=\"M 478 299 508 371\" stroke=\"gray\" stroke-width=\"0.2\"/><path d=\"M 478 299 423 268\" stroke=\"gray\" stroke-width=\"0.2\"/><path d=\"M 478 299 507 200\" stroke=\"gray\" stroke-width=\"0.2\"/><path d=\"M 478 299 460 277\" stroke=\"gray\" stroke-width=\"0.2\"/><path d=\"M 478 299 438 305\" stroke=\"gray\" stroke-width=\"0.2\"/><path d=\"M 478 299 345 349\" stroke=\"gray\" stroke-width=\"0.2\"/><path d=\"M 508 371 448 446\" stroke=\"gray\" stroke-width=\"0.2\"/><path d=\"M 508 371 655 423\" stroke=\"gray\" stroke-width=\"0.2\"/><path d=\"M 508 371 405 288\" stroke=\"gray\" stroke-width=\"0.2\"/><path d=\"M 508 371 353 435\" stroke=\"gray\" stroke-width=\"0.2\"/><path d=\"M 508 371 690 368\" stroke=\"gray\" stroke-width=\"0.2\"/><path d=\"M 508 371 478 299\" stroke=\"gray\" stroke-width=\"0.2\"/><path d=\"M 508 371 423 268\" stroke=\"gray\" stroke-width=\"0.2\"/><path d=\"M 508 371 507 200\" stroke=\"gray\" stroke-width=\"0.2\"/><path d=\"M 508 371 465 491\" stroke=\"gray\" stroke-width=\"0.2\"/><path d=\"M 508 371 433 475\" stroke=\"gray\" stroke-width=\"0.2\"/><path d=\"M 508 371 460 277\" stroke=\"gray\" stroke-width=\"0.2\"/><path d=\"M 508 371 438 305\" stroke=\"gray\" stroke-width=\"0.2\"/><path d=\"M 508 371 345 349\" stroke=\"gray\" stroke-width=\"0.2\"/><path d=\"M 508 371 694 407\" stroke=\"gray\" stroke-width=\"0.2\"/><path d=\"M 508 371 649 380\" stroke=\"gray\" stroke-width=\"0.2\"/><path d=\"M 508 371 490 448\" stroke=\"gray\" stroke-width=\"0.2\"/><path d=\"M 508 371 498 476\" stroke=\"gray\" stroke-width=\"0.2\"/><path d=\"M 556 129 528 103\" stroke=\"gray\" stroke-width=\"0.2\"/><path d=\"M 556 129 611 102\" stroke=\"gray\" stroke-width=\"0.2\"/><path d=\"M 556 129 562 101\" stroke=\"gray\" stroke-width=\"0.2\"/><path d=\"M 556 129 498 84\" stroke=\"gray\" stroke-width=\"0.2\"/><path d=\"M 556 129 507 200\" stroke=\"gray\" stroke-width=\"0.2\"/><path d=\"M 556 129 594 76\" stroke=\"gray\" stroke-width=\"0.2\"/><path d=\"M 556 129 500 115\" stroke=\"gray\" stroke-width=\"0.2\"/><path d=\"M 556 129 534 72\" stroke=\"gray\" stroke-width=\"0.2\"/><path d=\"M 498 84 528 103\" stroke=\"gray\" stroke-width=\"0.2\"/><path d=\"M 498 84 611 102\" stroke=\"gray\" stroke-width=\"0.2\"/><path d=\"M 498 84 562 101\" stroke=\"gray\" stroke-width=\"0.2\"/><path d=\"M 498 84 556 129\" stroke=\"gray\" stroke-width=\"0.2\"/><path d=\"M 498 84 507 200\" stroke=\"gray\" stroke-width=\"0.2\"/><path d=\"M 498 84 594 76\" stroke=\"gray\" stroke-width=\"0.2\"/><path d=\"M 498 84 500 115\" stroke=\"gray\" stroke-width=\"0.2\"/><path d=\"M 498 84 534 72\" stroke=\"gray\" stroke-width=\"0.2\"/><path d=\"M 423 268 405 288\" stroke=\"gray\" stroke-width=\"0.2\"/><path d=\"M 423 268 478 299\" stroke=\"gray\" stroke-width=\"0.2\"/><path d=\"M 423 268 508 371\" stroke=\"gray\" stroke-width=\"0.2\"/><path d=\"M 423 268 507 200\" stroke=\"gray\" stroke-width=\"0.2\"/><path d=\"M 423 268 460 277\" stroke=\"gray\" stroke-width=\"0.2\"/><path d=\"M 423 268 438 305\" stroke=\"gray\" stroke-width=\"0.2\"/><path d=\"M 423 268 345 349\" stroke=\"gray\" stroke-width=\"0.2\"/><path d=\"M 183 445 270 421\" stroke=\"gray\" stroke-width=\"0.2\"/><path d=\"M 183 445 48 520\" stroke=\"gray\" stroke-width=\"0.2\"/><path d=\"M 183 445 353 435\" stroke=\"gray\" stroke-width=\"0.2\"/><path d=\"M 183 445 230 424\" stroke=\"gray\" stroke-width=\"0.2\"/><path d=\"M 183 445 20 480\" stroke=\"gray\" stroke-width=\"0.2\"/><path d=\"M 183 445 258 448\" stroke=\"gray\" stroke-width=\"0.2\"/><path d=\"M 183 445 345 349\" stroke=\"gray\" stroke-width=\"0.2\"/><path d=\"M 183 445 217 395\" stroke=\"gray\" stroke-width=\"0.2\"/><path d=\"M 183 445 251 392\" stroke=\"gray\" stroke-width=\"0.2\"/><path d=\"M 507 200 405 288\" stroke=\"gray\" stroke-width=\"0.2\"/><path d=\"M 507 200 528 103\" stroke=\"gray\" stroke-width=\"0.2\"/><path d=\"M 507 200 611 102\" stroke=\"gray\" stroke-width=\"0.2\"/><path d=\"M 507 200 562 101\" stroke=\"gray\" stroke-width=\"0.2\"/><path d=\"M 507 200 478 299\" stroke=\"gray\" stroke-width=\"0.2\"/><path d=\"M 507 200 508 371\" stroke=\"gray\" stroke-width=\"0.2\"/><path d=\"M 507 200 556 129\" stroke=\"gray\" stroke-width=\"0.2\"/><path d=\"M 507 200 498 84\" stroke=\"gray\" stroke-width=\"0.2\"/><path d=\"M 507 200 423 268\" stroke=\"gray\" stroke-width=\"0.2\"/><path d=\"M 507 200 594 76\" stroke=\"gray\" stroke-width=\"0.2\"/><path d=\"M 507 200 460 277\" stroke=\"gray\" stroke-width=\"0.2\"/><path d=\"M 507 200 500 115\" stroke=\"gray\" stroke-width=\"0.2\"/><path d=\"M 507 200 438 305\" stroke=\"gray\" stroke-width=\"0.2\"/><path d=\"M 507 200 345 349\" stroke=\"gray\" stroke-width=\"0.2\"/><path d=\"M 507 200 654 176\" stroke=\"gray\" stroke-width=\"0.2\"/><path d=\"M 507 200 534 72\" stroke=\"gray\" stroke-width=\"0.2\"/><path d=\"M 230 424 270 421\" stroke=\"gray\" stroke-width=\"0.2\"/><path d=\"M 230 424 353 435\" stroke=\"gray\" stroke-width=\"0.2\"/><path d=\"M 230 424 183 445\" stroke=\"gray\" stroke-width=\"0.2\"/><path d=\"M 230 424 258 448\" stroke=\"gray\" stroke-width=\"0.2\"/><path d=\"M 230 424 345 349\" stroke=\"gray\" stroke-width=\"0.2\"/><path d=\"M 230 424 217 395\" stroke=\"gray\" stroke-width=\"0.2\"/><path d=\"M 230 424 251 392\" stroke=\"gray\" stroke-width=\"0.2\"/><path d=\"M 20 480 48 520\" stroke=\"gray\" stroke-width=\"0.2\"/><path d=\"M 20 480 183 445\" stroke=\"gray\" stroke-width=\"0.2\"/><path d=\"M 594 76 528 103\" stroke=\"gray\" stroke-width=\"0.2\"/><path d=\"M 594 76 611 102\" stroke=\"gray\" stroke-width=\"0.2\"/><path d=\"M 594 76 562 101\" stroke=\"gray\" stroke-width=\"0.2\"/><path d=\"M 594 76 685 20\" stroke=\"gray\" stroke-width=\"0.2\"/><path d=\"M 594 76 556 129\" stroke=\"gray\" stroke-width=\"0.2\"/><path d=\"M 594 76 498 84\" stroke=\"gray\" stroke-width=\"0.2\"/><path d=\"M 594 76 507 200\" stroke=\"gray\" stroke-width=\"0.2\"/><path d=\"M 594 76 500 115\" stroke=\"gray\" stroke-width=\"0.2\"/><path d=\"M 594 76 720 53\" stroke=\"gray\" stroke-width=\"0.2\"/><path d=\"M 594 76 534 72\" stroke=\"gray\" stroke-width=\"0.2\"/><path d=\"M 465 491 448 446\" stroke=\"gray\" stroke-width=\"0.2\"/><path d=\"M 465 491 353 435\" stroke=\"gray\" stroke-width=\"0.2\"/><path d=\"M 465 491 508 371\" stroke=\"gray\" stroke-width=\"0.2\"/><path d=\"M 465 491 433 475\" stroke=\"gray\" stroke-width=\"0.2\"/><path d=\"M 465 491 490 448\" stroke=\"gray\" stroke-width=\"0.2\"/><path d=\"M 465 491 498 476\" stroke=\"gray\" stroke-width=\"0.2\"/><path d=\"M 433 475 448 446\" stroke=\"gray\" stroke-width=\"0.2\"/><path d=\"M 433 475 353 435\" stroke=\"gray\" stroke-width=\"0.2\"/><path d=\"M 433 475 508 371\" stroke=\"gray\" stroke-width=\"0.2\"/><path d=\"M 433 475 465 491\" stroke=\"gray\" stroke-width=\"0.2\"/><path d=\"M 433 475 490 448\" stroke=\"gray\" stroke-width=\"0.2\"/><path d=\"M 433 475 498 476\" stroke=\"gray\" stroke-width=\"0.2\"/><path d=\"M 460 277 405 288\" stroke=\"gray\" stroke-width=\"0.2\"/><path d=\"M 460 277 478 299\" stroke=\"gray\" stroke-width=\"0.2\"/><path d=\"M 460 277 508 371\" stroke=\"gray\" stroke-width=\"0.2\"/><path d=\"M 460 277 423 268\" stroke=\"gray\" stroke-width=\"0.2\"/><path d=\"M 460 277 507 200\" stroke=\"gray\" stroke-width=\"0.2\"/><path d=\"M 460 277 438 305\" stroke=\"gray\" stroke-width=\"0.2\"/><path d=\"M 460 277 345 349\" stroke=\"gray\" stroke-width=\"0.2\"/><path d=\"M 500 115 528 103\" stroke=\"gray\" stroke-width=\"0.2\"/><path d=\"M 500 115 611 102\" stroke=\"gray\" stroke-width=\"0.2\"/><path d=\"M 500 115 562 101\" stroke=\"gray\" stroke-width=\"0.2\"/><path d=\"M 500 115 556 129\" stroke=\"gray\" stroke-width=\"0.2\"/><path d=\"M 500 115 498 84\" stroke=\"gray\" stroke-width=\"0.2\"/><path d=\"M 500 115 507 200\" stroke=\"gray\" stroke-width=\"0.2\"/><path d=\"M 500 115 594 76\" stroke=\"gray\" stroke-width=\"0.2\"/><path d=\"M 500 115 534 72\" stroke=\"gray\" stroke-width=\"0.2\"/><path d=\"M 258 448 270 421\" stroke=\"gray\" stroke-width=\"0.2\"/><path d=\"M 258 448 353 435\" stroke=\"gray\" stroke-width=\"0.2\"/><path d=\"M 258 448 183 445\" stroke=\"gray\" stroke-width=\"0.2\"/><path d=\"M 258 448 230 424\" stroke=\"gray\" stroke-width=\"0.2\"/><path d=\"M 258 448 345 349\" stroke=\"gray\" stroke-width=\"0.2\"/><path d=\"M 258 448 217 395\" stroke=\"gray\" stroke-width=\"0.2\"/><path d=\"M 258 448 251 392\" stroke=\"gray\" stroke-width=\"0.2\"/><path d=\"M 438 305 405 288\" stroke=\"gray\" stroke-width=\"0.2\"/><path d=\"M 438 305 478 299\" stroke=\"gray\" stroke-width=\"0.2\"/><path d=\"M 438 305 508 371\" stroke=\"gray\" stroke-width=\"0.2\"/><path d=\"M 438 305 423 268\" stroke=\"gray\" stroke-width=\"0.2\"/><path d=\"M 438 305 507 200\" stroke=\"gray\" stroke-width=\"0.2\"/><path d=\"M 438 305 460 277\" stroke=\"gray\" stroke-width=\"0.2\"/><path d=\"M 438 305 345 349\" stroke=\"gray\" stroke-width=\"0.2\"/><path d=\"M 345 349 270 421\" stroke=\"gray\" stroke-width=\"0.2\"/><path d=\"M 345 349 405 288\" stroke=\"gray\" stroke-width=\"0.2\"/><path d=\"M 345 349 353 435\" stroke=\"gray\" stroke-width=\"0.2\"/><path d=\"M 345 349 478 299\" stroke=\"gray\" stroke-width=\"0.2\"/><path d=\"M 345 349 508 371\" stroke=\"gray\" stroke-width=\"0.2\"/><path d=\"M 345 349 423 268\" stroke=\"gray\" stroke-width=\"0.2\"/><path d=\"M 345 349 183 445\" stroke=\"gray\" stroke-width=\"0.2\"/><path d=\"M 345 349 507 200\" stroke=\"gray\" stroke-width=\"0.2\"/><path d=\"M 345 349 230 424\" stroke=\"gray\" stroke-width=\"0.2\"/><path d=\"M 345 349 460 277\" stroke=\"gray\" stroke-width=\"0.2\"/><path d=\"M 345 349 258 448\" stroke=\"gray\" stroke-width=\"0.2\"/><path d=\"M 345 349 438 305\" stroke=\"gray\" stroke-width=\"0.2\"/><path d=\"M 345 349 217 395\" stroke=\"gray\" stroke-width=\"0.2\"/><path d=\"M 345 349 251 392\" stroke=\"gray\" stroke-width=\"0.2\"/><path d=\"M 217 395 270 421\" stroke=\"gray\" stroke-width=\"0.2\"/><path d=\"M 217 395 353 435\" stroke=\"gray\" stroke-width=\"0.2\"/><path d=\"M 217 395 183 445\" stroke=\"gray\" stroke-width=\"0.2\"/><path d=\"M 217 395 230 424\" stroke=\"gray\" stroke-width=\"0.2\"/><path d=\"M 217 395 258 448\" stroke=\"gray\" stroke-width=\"0.2\"/><path d=\"M 217 395 345 349\" stroke=\"gray\" stroke-width=\"0.2\"/><path d=\"M 217 395 251 392\" stroke=\"gray\" stroke-width=\"0.2\"/><path d=\"M 694 407 655 423\" stroke=\"gray\" stroke-width=\"0.2\"/><path d=\"M 694 407 690 368\" stroke=\"gray\" stroke-width=\"0.2\"/><path d=\"M 694 407 508 371\" stroke=\"gray\" stroke-width=\"0.2\"/><path d=\"M 694 407 649 380\" stroke=\"gray\" stroke-width=\"0.2\"/><path d=\"M 649 380 655 423\" stroke=\"gray\" stroke-width=\"0.2\"/><path d=\"M 649 380 690 368\" stroke=\"gray\" stroke-width=\"0.2\"/><path d=\"M 649 380 508 371\" stroke=\"gray\" stroke-width=\"0.2\"/><path d=\"M 649 380 694 407\" stroke=\"gray\" stroke-width=\"0.2\"/><path d=\"M 251 392 270 421\" stroke=\"gray\" stroke-width=\"0.2\"/><path d=\"M 251 392 353 435\" stroke=\"gray\" stroke-width=\"0.2\"/><path d=\"M 251 392 183 445\" stroke=\"gray\" stroke-width=\"0.2\"/><path d=\"M 251 392 230 424\" stroke=\"gray\" stroke-width=\"0.2\"/><path d=\"M 251 392 258 448\" stroke=\"gray\" stroke-width=\"0.2\"/><path d=\"M 251 392 345 349\" stroke=\"gray\" stroke-width=\"0.2\"/><path d=\"M 251 392 217 395\" stroke=\"gray\" stroke-width=\"0.2\"/><path d=\"M 654 176 611 102\" stroke=\"gray\" stroke-width=\"0.2\"/><path d=\"M 654 176 507 200\" stroke=\"gray\" stroke-width=\"0.2\"/><path d=\"M 720 53 611 102\" stroke=\"gray\" stroke-width=\"0.2\"/><path d=\"M 720 53 685 20\" stroke=\"gray\" stroke-width=\"0.2\"/><path d=\"M 720 53 594 76\" stroke=\"gray\" stroke-width=\"0.2\"/><path d=\"M 490 448 448 446\" stroke=\"gray\" stroke-width=\"0.2\"/><path d=\"M 490 448 353 435\" stroke=\"gray\" stroke-width=\"0.2\"/><path d=\"M 490 448 508 371\" stroke=\"gray\" stroke-width=\"0.2\"/><path d=\"M 490 448 465 491\" stroke=\"gray\" stroke-width=\"0.2\"/><path d=\"M 490 448 433 475\" stroke=\"gray\" stroke-width=\"0.2\"/><path d=\"M 490 448 498 476\" stroke=\"gray\" stroke-width=\"0.2\"/><path d=\"M 498 476 448 446\" stroke=\"gray\" stroke-width=\"0.2\"/><path d=\"M 498 476 353 435\" stroke=\"gray\" stroke-width=\"0.2\"/><path d=\"M 498 476 508 371\" stroke=\"gray\" stroke-width=\"0.2\"/><path d=\"M 498 476 465 491\" stroke=\"gray\" stroke-width=\"0.2\"/><path d=\"M 498 476 433 475\" stroke=\"gray\" stroke-width=\"0.2\"/><path d=\"M 498 476 490 448\" stroke=\"gray\" stroke-width=\"0.2\"/><path d=\"M 534 72 528 103\" stroke=\"gray\" stroke-width=\"0.2\"/><path d=\"M 534 72 611 102\" stroke=\"gray\" stroke-width=\"0.2\"/><path d=\"M 534 72 562 101\" stroke=\"gray\" stroke-width=\"0.2\"/><path d=\"M 534 72 556 129\" stroke=\"gray\" stroke-width=\"0.2\"/><path d=\"M 534 72 498 84\" stroke=\"gray\" stroke-width=\"0.2\"/><path d=\"M 534 72 507 200\" stroke=\"gray\" stroke-width=\"0.2\"/><path d=\"M 534 72 594 76\" stroke=\"gray\" stroke-width=\"0.2\"/><path d=\"M 534 72 500 115\" stroke=\"gray\" stroke-width=\"0.2\"/><circle cx=\"448\" cy=\"446\" r=\"3.0\" style=\"fill:rgb(141, 175, 253);stroke:black;stroke-width:1.0\"/><circle cx=\"270\" cy=\"421\" r=\"3.0\" style=\"fill:rgb(163, 193, 254);stroke:black;stroke-width:1.0\"/><circle cx=\"655\" cy=\"423\" r=\"3.0\" style=\"fill:rgb(116, 151, 245);stroke:black;stroke-width:1.0\"/><circle cx=\"405\" cy=\"288\" r=\"3.0\" style=\"fill:rgb(152, 185, 254);stroke:black;stroke-width:1.0\"/><circle cx=\"48\" cy=\"520\" r=\"3.0\" style=\"fill:rgb(76, 102, 214);stroke:black;stroke-width:1.0\"/><circle cx=\"353\" cy=\"435\" r=\"3.0\" style=\"fill:rgb(247, 173, 143);stroke:black;stroke-width:1.0\"/><circle cx=\"528\" cy=\"103\" r=\"3.0\" style=\"fill:rgb(172, 200, 252);stroke:black;stroke-width:1.0\"/><circle cx=\"611\" cy=\"102\" r=\"3.0\" style=\"fill:rgb(237, 207, 192);stroke:black;stroke-width:1.0\"/><circle cx=\"562\" cy=\"101\" r=\"3.0\" style=\"fill:rgb(172, 200, 252);stroke:black;stroke-width:1.0\"/><circle cx=\"685\" cy=\"20\" r=\"3.0\" style=\"fill:rgb(82, 110, 220);stroke:black;stroke-width:1.0\"/><circle cx=\"690\" cy=\"368\" r=\"3.0\" style=\"fill:rgb(116, 151, 245);stroke:black;stroke-width:1.0\"/><circle cx=\"478\" cy=\"299\" r=\"3.0\" style=\"fill:rgb(152, 185, 254);stroke:black;stroke-width:1.0\"/><circle cx=\"508\" cy=\"371\" r=\"3.0\" style=\"fill:rgb(179, 3, 38);stroke:black;stroke-width:1.0\"/><circle cx=\"556\" cy=\"129\" r=\"3.0\" style=\"fill:rgb(172, 200, 252);stroke:black;stroke-width:1.0\"/><circle cx=\"498\" cy=\"84\" r=\"3.0\" style=\"fill:rgb(172, 200, 252);stroke:black;stroke-width:1.0\"/><circle cx=\"423\" cy=\"268\" r=\"3.0\" style=\"fill:rgb(152, 185, 254);stroke:black;stroke-width:1.0\"/><circle cx=\"183\" cy=\"445\" r=\"3.0\" style=\"fill:rgb(227, 217, 211);stroke:black;stroke-width:1.0\"/><circle cx=\"507\" cy=\"200\" r=\"3.0\" style=\"fill:rgb(230, 114, 89);stroke:black;stroke-width:1.0\"/><circle cx=\"230\" cy=\"424\" r=\"3.0\" style=\"fill:rgb(163, 193, 254);stroke:black;stroke-width:1.0\"/><circle cx=\"20\" cy=\"480\" r=\"3.0\" style=\"fill:rgb(76, 102, 214);stroke:black;stroke-width:1.0\"/><circle cx=\"594\" cy=\"76\" r=\"3.0\" style=\"fill:rgb(219, 220, 222);stroke:black;stroke-width:1.0\"/><circle cx=\"465\" cy=\"491\" r=\"3.0\" style=\"fill:rgb(141, 175, 253);stroke:black;stroke-width:1.0\"/><circle cx=\"433\" cy=\"475\" r=\"3.0\" style=\"fill:rgb(141, 175, 253);stroke:black;stroke-width:1.0\"/><circle cx=\"460\" cy=\"277\" r=\"3.0\" style=\"fill:rgb(152, 185, 254);stroke:black;stroke-width:1.0\"/><circle cx=\"500\" cy=\"115\" r=\"3.0\" style=\"fill:rgb(172, 200, 252);stroke:black;stroke-width:1.0\"/><circle cx=\"258\" cy=\"448\" r=\"3.0\" style=\"fill:rgb(163, 193, 254);stroke:black;stroke-width:1.0\"/><circle cx=\"438\" cy=\"305\" r=\"3.0\" style=\"fill:rgb(152, 185, 254);stroke:black;stroke-width:1.0\"/><circle cx=\"345\" cy=\"349\" r=\"3.0\" style=\"fill:rgb(245, 161, 130);stroke:black;stroke-width:1.0\"/><circle cx=\"217\" cy=\"395\" r=\"3.0\" style=\"fill:rgb(163, 193, 254);stroke:black;stroke-width:1.0\"/><circle cx=\"694\" cy=\"407\" r=\"3.0\" style=\"fill:rgb(116, 151, 245);stroke:black;stroke-width:1.0\"/><circle cx=\"649\" cy=\"380\" r=\"3.0\" style=\"fill:rgb(116, 151, 245);stroke:black;stroke-width:1.0\"/><circle cx=\"251\" cy=\"392\" r=\"3.0\" style=\"fill:rgb(163, 193, 254);stroke:black;stroke-width:1.0\"/><circle cx=\"654\" cy=\"176\" r=\"3.0\" style=\"fill:rgb(58, 76, 192);stroke:black;stroke-width:1.0\"/><circle cx=\"720\" cy=\"53\" r=\"3.0\" style=\"fill:rgb(82, 110, 220);stroke:black;stroke-width:1.0\"/><circle cx=\"490\" cy=\"448\" r=\"3.0\" style=\"fill:rgb(141, 175, 253);stroke:black;stroke-width:1.0\"/><circle cx=\"498\" cy=\"476\" r=\"3.0\" style=\"fill:rgb(141, 175, 253);stroke:black;stroke-width:1.0\"/><circle cx=\"534\" cy=\"72\" r=\"3.0\" style=\"fill:rgb(172, 200, 252);stroke:black;stroke-width:1.0\"/><text font-size=\"10\" x=\"454\" y=\"449\">D. A. Hanes</text><text font-size=\"10\" x=\"276\" y=\"424\">D. V. Shulyak</text><text font-size=\"10\" x=\"661\" y=\"426\">F. Lignières</text><text font-size=\"10\" x=\"411\" y=\"291\">Z. Keszthelyi</text><text font-size=\"10\" x=\"54\" y=\"523\">C. Cordoba-Jabonero</text><text font-size=\"10\" x=\"359\" y=\"438\">S. Bagnulo</text><text font-size=\"10\" x=\"534\" y=\"106\">A. Postel</text><text font-size=\"10\" x=\"617\" y=\"105\">G. Meynet</text><text font-size=\"10\" x=\"568\" y=\"104\">L. Haemmerlé</text><text font-size=\"10\" x=\"691\" y=\"23\">A. Maeder</text><text font-size=\"10\" x=\"696\" y=\"371\">P. Petit</text><text font-size=\"10\" x=\"484\" y=\"302\">M. E. Oksala</text><text font-size=\"10\" x=\"514\" y=\"374\">G. A. Wade</text><text font-size=\"10\" x=\"562\" y=\"132\">M. Audard</text><text font-size=\"10\" x=\"504\" y=\"87\">T. Fragos</text><text font-size=\"10\" x=\"429\" y=\"271\">S. Mathis</text><text font-size=\"10\" x=\"189\" y=\"448\">M. R. Patel</text><text font-size=\"10\" x=\"513\" y=\"203\">C. Georgy</text><text font-size=\"10\" x=\"236\" y=\"427\">R. Busuttil</text><text font-size=\"10\" x=\"26\" y=\"483\">M. -P. Zorzano</text><text font-size=\"10\" x=\"600\" y=\"79\">S. Ekström</text><text font-size=\"10\" x=\"471\" y=\"494\">O. Kochukhov</text><text font-size=\"10\" x=\"439\" y=\"478\">E. Alecian</text><text font-size=\"10\" x=\"466\" y=\"280\">W. Marcolino</text><text font-size=\"10\" x=\"506\" y=\"118\">P. Eggenberger</text><text font-size=\"10\" x=\"264\" y=\"451\">C. A. Haswell</text><text font-size=\"10\" x=\"444\" y=\"308\">A. J. Martin</text><text font-size=\"10\" x=\"351\" y=\"352\">L. Fossati</text><text font-size=\"10\" x=\"223\" y=\"398\">P. M. Kowalski</text><text font-size=\"10\" x=\"700\" y=\"410\">M. Aurière</text><text font-size=\"10\" x=\"655\" y=\"383\">T. Böhm</text><text font-size=\"10\" x=\"257\" y=\"395\">M. F. Sterzik</text><text font-size=\"10\" x=\"660\" y=\"179\">H. Saio</text><text font-size=\"10\" x=\"726\" y=\"56\">R. Hirschi</text><text font-size=\"10\" x=\"496\" y=\"451\">J. D. Landstreet</text><text font-size=\"10\" x=\"504\" y=\"479\">C. P. Folsom</text><text font-size=\"10\" x=\"540\" y=\"75\">M. Sørensen</text></svg>"
      ],
      "text/plain": [
       "<IPython.core.display.SVG object>"
      ]
     },
     "execution_count": 93,
     "metadata": {},
     "output_type": "execute_result"
    }
   ],
   "source": [
    "G_check = community_context_dict[communities[4]]['G']\n",
    "draw_community(G_check)"
   ]
  },
  {
   "cell_type": "code",
   "execution_count": 32,
   "id": "9c4528ab",
   "metadata": {},
   "outputs": [
    {
     "data": {
      "text/plain": [
       "['Blue supergiants as descendants of magnetic main sequence stars',\n",
       " 'Combining observational techniques to constrain convection in evolved massive star models',\n",
       " 'Evolution of the Solar Activity over Time and Effects on Planetary Atmospheres: I. High-energy Irradiances (1-1700 A)',\n",
       " 'First results from the LIFE project: discovery of two magnetic hot evolved stars',\n",
       " 'Magnetic, Chemical and Rotational Properties of the Herbig Ae/Be Binary System HD 72106',\n",
       " 'Powerful explosions at Z=0 ?',\n",
       " 'Radiative Habitable Zones in Martian Polar Environments',\n",
       " 'Reconstructing Extreme Space Weather from Planet Hosting Stars',\n",
       " 'Stellar evolution with rotation XIII: Predicted GRB rates at various Z',\n",
       " 'Stellar models and isochrones from low-mass to massive stars including pre-main sequence phase with accretion',\n",
       " 'The dichotomy between strong and ultra-weak magnetic fields among intermediate-mass stars',\n",
       " 'The evolution of magnetic fields from the main-sequence to very late stages',\n",
       " 'The habitability and detection of Earth-like planets orbiting cool white dwarfs',\n",
       " 'The spectrum of the recycled PSR J0437-4715 and its white dwarf companion']"
      ]
     },
     "execution_count": 32,
     "metadata": {},
     "output_type": "execute_result"
    }
   ],
   "source": [
    "show_author_papers(df, G_check)\n",
    "\n",
    "#Entropy and the Predictability of Online Life"
   ]
  },
  {
   "cell_type": "code",
   "execution_count": 92,
   "id": "4b8c31db",
   "metadata": {},
   "outputs": [
    {
     "name": "stdout",
     "output_type": "stream",
     "text": [
      "Density: 0.2028985507246377\n",
      "Node Count: 24\n"
     ]
    },
    {
     "data": {
      "image/svg+xml": [
       "<svg height=\"540\" width=\"840.0\" xmlns=\"http://www.w3.org/2000/svg\"><path d=\"M 650 297 664 368\" stroke=\"gray\" stroke-width=\"0.2\"/><path d=\"M 650 297 720 350\" stroke=\"gray\" stroke-width=\"0.2\"/><path d=\"M 650 297 552 353\" stroke=\"gray\" stroke-width=\"0.2\"/><path d=\"M 650 297 704 298\" stroke=\"gray\" stroke-width=\"0.2\"/><path d=\"M 650 297 672 337\" stroke=\"gray\" stroke-width=\"0.2\"/><path d=\"M 321 302 287 416\" stroke=\"gray\" stroke-width=\"0.2\"/><path d=\"M 321 302 234 236\" stroke=\"gray\" stroke-width=\"0.2\"/><path d=\"M 321 302 426 370\" stroke=\"gray\" stroke-width=\"0.2\"/><path d=\"M 321 302 354 421\" stroke=\"gray\" stroke-width=\"0.2\"/><path d=\"M 321 302 181 132\" stroke=\"gray\" stroke-width=\"0.2\"/><path d=\"M 321 302 183 244\" stroke=\"gray\" stroke-width=\"0.2\"/><path d=\"M 321 302 552 353\" stroke=\"gray\" stroke-width=\"0.2\"/><path d=\"M 250 520 208 479\" stroke=\"gray\" stroke-width=\"0.2\"/><path d=\"M 250 520 354 421\" stroke=\"gray\" stroke-width=\"0.2\"/><path d=\"M 287 416 321 302\" stroke=\"gray\" stroke-width=\"0.2\"/><path d=\"M 287 416 354 421\" stroke=\"gray\" stroke-width=\"0.2\"/><path d=\"M 664 368 650 297\" stroke=\"gray\" stroke-width=\"0.2\"/><path d=\"M 664 368 720 350\" stroke=\"gray\" stroke-width=\"0.2\"/><path d=\"M 664 368 552 353\" stroke=\"gray\" stroke-width=\"0.2\"/><path d=\"M 664 368 704 298\" stroke=\"gray\" stroke-width=\"0.2\"/><path d=\"M 664 368 688 410\" stroke=\"gray\" stroke-width=\"0.2\"/><path d=\"M 664 368 672 337\" stroke=\"gray\" stroke-width=\"0.2\"/><path d=\"M 224 58 295 43\" stroke=\"gray\" stroke-width=\"0.2\"/><path d=\"M 224 58 181 132\" stroke=\"gray\" stroke-width=\"0.2\"/><path d=\"M 224 58 240 20\" stroke=\"gray\" stroke-width=\"0.2\"/><path d=\"M 224 58 282 84\" stroke=\"gray\" stroke-width=\"0.2\"/><path d=\"M 78 49 181 132\" stroke=\"gray\" stroke-width=\"0.2\"/><path d=\"M 78 49 26 61\" stroke=\"gray\" stroke-width=\"0.2\"/><path d=\"M 78 49 20 110\" stroke=\"gray\" stroke-width=\"0.2\"/><path d=\"M 78 49 69 99\" stroke=\"gray\" stroke-width=\"0.2\"/><path d=\"M 208 479 250 520\" stroke=\"gray\" stroke-width=\"0.2\"/><path d=\"M 208 479 354 421\" stroke=\"gray\" stroke-width=\"0.2\"/><path d=\"M 234 236 321 302\" stroke=\"gray\" stroke-width=\"0.2\"/><path d=\"M 234 236 181 132\" stroke=\"gray\" stroke-width=\"0.2\"/><path d=\"M 234 236 183 244\" stroke=\"gray\" stroke-width=\"0.2\"/><path d=\"M 426 370 321 302\" stroke=\"gray\" stroke-width=\"0.2\"/><path d=\"M 426 370 354 421\" stroke=\"gray\" stroke-width=\"0.2\"/><path d=\"M 426 370 552 353\" stroke=\"gray\" stroke-width=\"0.2\"/><path d=\"M 354 421 321 302\" stroke=\"gray\" stroke-width=\"0.2\"/><path d=\"M 354 421 250 520\" stroke=\"gray\" stroke-width=\"0.2\"/><path d=\"M 354 421 287 416\" stroke=\"gray\" stroke-width=\"0.2\"/><path d=\"M 354 421 208 479\" stroke=\"gray\" stroke-width=\"0.2\"/><path d=\"M 354 421 426 370\" stroke=\"gray\" stroke-width=\"0.2\"/><path d=\"M 354 421 552 353\" stroke=\"gray\" stroke-width=\"0.2\"/><path d=\"M 295 43 224 58\" stroke=\"gray\" stroke-width=\"0.2\"/><path d=\"M 295 43 181 132\" stroke=\"gray\" stroke-width=\"0.2\"/><path d=\"M 295 43 240 20\" stroke=\"gray\" stroke-width=\"0.2\"/><path d=\"M 295 43 282 84\" stroke=\"gray\" stroke-width=\"0.2\"/><path d=\"M 181 132 321 302\" stroke=\"gray\" stroke-width=\"0.2\"/><path d=\"M 181 132 224 58\" stroke=\"gray\" stroke-width=\"0.2\"/><path d=\"M 181 132 78 49\" stroke=\"gray\" stroke-width=\"0.2\"/><path d=\"M 181 132 234 236\" stroke=\"gray\" stroke-width=\"0.2\"/><path d=\"M 181 132 295 43\" stroke=\"gray\" stroke-width=\"0.2\"/><path d=\"M 181 132 183 244\" stroke=\"gray\" stroke-width=\"0.2\"/><path d=\"M 181 132 26 61\" stroke=\"gray\" stroke-width=\"0.2\"/><path d=\"M 181 132 240 20\" stroke=\"gray\" stroke-width=\"0.2\"/><path d=\"M 181 132 20 110\" stroke=\"gray\" stroke-width=\"0.2\"/><path d=\"M 181 132 282 84\" stroke=\"gray\" stroke-width=\"0.2\"/><path d=\"M 181 132 69 99\" stroke=\"gray\" stroke-width=\"0.2\"/><path d=\"M 183 244 321 302\" stroke=\"gray\" stroke-width=\"0.2\"/><path d=\"M 183 244 234 236\" stroke=\"gray\" stroke-width=\"0.2\"/><path d=\"M 183 244 181 132\" stroke=\"gray\" stroke-width=\"0.2\"/><path d=\"M 720 350 650 297\" stroke=\"gray\" stroke-width=\"0.2\"/><path d=\"M 720 350 664 368\" stroke=\"gray\" stroke-width=\"0.2\"/><path d=\"M 720 350 552 353\" stroke=\"gray\" stroke-width=\"0.2\"/><path d=\"M 720 350 704 298\" stroke=\"gray\" stroke-width=\"0.2\"/><path d=\"M 720 350 688 410\" stroke=\"gray\" stroke-width=\"0.2\"/><path d=\"M 720 350 672 337\" stroke=\"gray\" stroke-width=\"0.2\"/><path d=\"M 552 353 650 297\" stroke=\"gray\" stroke-width=\"0.2\"/><path d=\"M 552 353 321 302\" stroke=\"gray\" stroke-width=\"0.2\"/><path d=\"M 552 353 664 368\" stroke=\"gray\" stroke-width=\"0.2\"/><path d=\"M 552 353 426 370\" stroke=\"gray\" stroke-width=\"0.2\"/><path d=\"M 552 353 354 421\" stroke=\"gray\" stroke-width=\"0.2\"/><path d=\"M 552 353 720 350\" stroke=\"gray\" stroke-width=\"0.2\"/><path d=\"M 552 353 704 298\" stroke=\"gray\" stroke-width=\"0.2\"/><path d=\"M 552 353 688 410\" stroke=\"gray\" stroke-width=\"0.2\"/><path d=\"M 552 353 672 337\" stroke=\"gray\" stroke-width=\"0.2\"/><path d=\"M 704 298 650 297\" stroke=\"gray\" stroke-width=\"0.2\"/><path d=\"M 704 298 664 368\" stroke=\"gray\" stroke-width=\"0.2\"/><path d=\"M 704 298 720 350\" stroke=\"gray\" stroke-width=\"0.2\"/><path d=\"M 704 298 552 353\" stroke=\"gray\" stroke-width=\"0.2\"/><path d=\"M 704 298 672 337\" stroke=\"gray\" stroke-width=\"0.2\"/><path d=\"M 688 410 664 368\" stroke=\"gray\" stroke-width=\"0.2\"/><path d=\"M 688 410 720 350\" stroke=\"gray\" stroke-width=\"0.2\"/><path d=\"M 688 410 552 353\" stroke=\"gray\" stroke-width=\"0.2\"/><path d=\"M 688 410 672 337\" stroke=\"gray\" stroke-width=\"0.2\"/><path d=\"M 672 337 650 297\" stroke=\"gray\" stroke-width=\"0.2\"/><path d=\"M 672 337 664 368\" stroke=\"gray\" stroke-width=\"0.2\"/><path d=\"M 672 337 720 350\" stroke=\"gray\" stroke-width=\"0.2\"/><path d=\"M 672 337 552 353\" stroke=\"gray\" stroke-width=\"0.2\"/><path d=\"M 672 337 704 298\" stroke=\"gray\" stroke-width=\"0.2\"/><path d=\"M 672 337 688 410\" stroke=\"gray\" stroke-width=\"0.2\"/><path d=\"M 26 61 78 49\" stroke=\"gray\" stroke-width=\"0.2\"/><path d=\"M 26 61 181 132\" stroke=\"gray\" stroke-width=\"0.2\"/><path d=\"M 26 61 20 110\" stroke=\"gray\" stroke-width=\"0.2\"/><path d=\"M 26 61 69 99\" stroke=\"gray\" stroke-width=\"0.2\"/><path d=\"M 240 20 224 58\" stroke=\"gray\" stroke-width=\"0.2\"/><path d=\"M 240 20 295 43\" stroke=\"gray\" stroke-width=\"0.2\"/><path d=\"M 240 20 181 132\" stroke=\"gray\" stroke-width=\"0.2\"/><path d=\"M 240 20 282 84\" stroke=\"gray\" stroke-width=\"0.2\"/><path d=\"M 20 110 78 49\" stroke=\"gray\" stroke-width=\"0.2\"/><path d=\"M 20 110 181 132\" stroke=\"gray\" stroke-width=\"0.2\"/><path d=\"M 20 110 26 61\" stroke=\"gray\" stroke-width=\"0.2\"/><path d=\"M 20 110 69 99\" stroke=\"gray\" stroke-width=\"0.2\"/><path d=\"M 282 84 224 58\" stroke=\"gray\" stroke-width=\"0.2\"/><path d=\"M 282 84 295 43\" stroke=\"gray\" stroke-width=\"0.2\"/><path d=\"M 282 84 181 132\" stroke=\"gray\" stroke-width=\"0.2\"/><path d=\"M 282 84 240 20\" stroke=\"gray\" stroke-width=\"0.2\"/><path d=\"M 69 99 78 49\" stroke=\"gray\" stroke-width=\"0.2\"/><path d=\"M 69 99 181 132\" stroke=\"gray\" stroke-width=\"0.2\"/><path d=\"M 69 99 26 61\" stroke=\"gray\" stroke-width=\"0.2\"/><path d=\"M 69 99 20 110\" stroke=\"gray\" stroke-width=\"0.2\"/><circle cx=\"650\" cy=\"297\" r=\"3.0\" style=\"fill:rgb(130, 165, 251);stroke:black;stroke-width:1.0\"/><circle cx=\"321\" cy=\"302\" r=\"3.0\" style=\"fill:rgb(236, 210, 196);stroke:black;stroke-width:1.0\"/><circle cx=\"250\" cy=\"520\" r=\"3.0\" style=\"fill:rgb(70, 93, 207);stroke:black;stroke-width:1.0\"/><circle cx=\"287\" cy=\"416\" r=\"3.0\" style=\"fill:rgb(58, 76, 192);stroke:black;stroke-width:1.0\"/><circle cx=\"664\" cy=\"368\" r=\"3.0\" style=\"fill:rgb(166, 195, 253);stroke:black;stroke-width:1.0\"/><circle cx=\"224\" cy=\"58\" r=\"3.0\" style=\"fill:rgb(123, 158, 248);stroke:black;stroke-width:1.0\"/><circle cx=\"78\" cy=\"49\" r=\"3.0\" style=\"fill:rgb(123, 158, 248);stroke:black;stroke-width:1.0\"/><circle cx=\"208\" cy=\"479\" r=\"3.0\" style=\"fill:rgb(70, 93, 207);stroke:black;stroke-width:1.0\"/><circle cx=\"234\" cy=\"236\" r=\"3.0\" style=\"fill:rgb(86, 115, 224);stroke:black;stroke-width:1.0\"/><circle cx=\"426\" cy=\"370\" r=\"3.0\" style=\"fill:rgb(86, 115, 224);stroke:black;stroke-width:1.0\"/><circle cx=\"354\" cy=\"421\" r=\"3.0\" style=\"fill:rgb(227, 217, 211);stroke:black;stroke-width:1.0\"/><circle cx=\"295\" cy=\"43\" r=\"3.0\" style=\"fill:rgb(123, 158, 248);stroke:black;stroke-width:1.0\"/><circle cx=\"181\" cy=\"132\" r=\"3.0\" style=\"fill:rgb(179, 3, 38);stroke:black;stroke-width:1.0\"/><circle cx=\"183\" cy=\"244\" r=\"3.0\" style=\"fill:rgb(86, 115, 224);stroke:black;stroke-width:1.0\"/><circle cx=\"720\" cy=\"350\" r=\"3.0\" style=\"fill:rgb(166, 195, 253);stroke:black;stroke-width:1.0\"/><circle cx=\"552\" cy=\"353\" r=\"3.0\" style=\"fill:rgb(246, 183, 156);stroke:black;stroke-width:1.0\"/><circle cx=\"704\" cy=\"298\" r=\"3.0\" style=\"fill:rgb(130, 165, 251);stroke:black;stroke-width:1.0\"/><circle cx=\"688\" cy=\"410\" r=\"3.0\" style=\"fill:rgb(99, 131, 234);stroke:black;stroke-width:1.0\"/><circle cx=\"672\" cy=\"337\" r=\"3.0\" style=\"fill:rgb(166, 195, 253);stroke:black;stroke-width:1.0\"/><circle cx=\"26\" cy=\"61\" r=\"3.0\" style=\"fill:rgb(123, 158, 248);stroke:black;stroke-width:1.0\"/><circle cx=\"240\" cy=\"20\" r=\"3.0\" style=\"fill:rgb(123, 158, 248);stroke:black;stroke-width:1.0\"/><circle cx=\"20\" cy=\"110\" r=\"3.0\" style=\"fill:rgb(123, 158, 248);stroke:black;stroke-width:1.0\"/><circle cx=\"282\" cy=\"84\" r=\"3.0\" style=\"fill:rgb(123, 158, 248);stroke:black;stroke-width:1.0\"/><circle cx=\"69\" cy=\"99\" r=\"3.0\" style=\"fill:rgb(123, 158, 248);stroke:black;stroke-width:1.0\"/><text font-size=\"10\" x=\"656\" y=\"300\">Yuchen Xiao</text><text font-size=\"10\" x=\"327\" y=\"305\">Shlomo Shamai</text><text font-size=\"10\" x=\"256\" y=\"523\">Hyeryung Jang</text><text font-size=\"10\" x=\"293\" y=\"419\">Seok-Hwan Park</text><text font-size=\"10\" x=\"670\" y=\"371\">Joel Stein</text><text font-size=\"10\" x=\"230\" y=\"61\">Marco Romanelli</text><text font-size=\"10\" x=\"84\" y=\"52\">Pierre Colombo</text><text font-size=\"10\" x=\"214\" y=\"482\">Nicolas Skatchkovsky</text><text font-size=\"10\" x=\"240\" y=\"239\">Sheng Yang</text><text font-size=\"10\" x=\"432\" y=\"373\">Kfir M. Cohen</text><text font-size=\"10\" x=\"360\" y=\"424\">Osvaldo Simeone</text><text font-size=\"10\" x=\"301\" y=\"46\">Marine Picot</text><text font-size=\"10\" x=\"187\" y=\"135\">Pablo Piantanida</text><text font-size=\"10\" x=\"189\" y=\"247\">Mari Kobayashi</text><text font-size=\"10\" x=\"726\" y=\"353\">Lauri Bishop</text><text font-size=\"10\" x=\"558\" y=\"356\">Sangwoo Park</text><text font-size=\"10\" x=\"710\" y=\"301\">Tara Post</text><text font-size=\"10\" x=\"694\" y=\"413\">Cassie Meeker</text><text font-size=\"10\" x=\"678\" y=\"340\">Matei Ciocarlie</text><text font-size=\"10\" x=\"32\" y=\"64\">Nathan Noiry</text><text font-size=\"10\" x=\"246\" y=\"23\">Francisco Messina</text><text font-size=\"10\" x=\"26\" y=\"113\">Guillaume Staerman</text><text font-size=\"10\" x=\"288\" y=\"87\">Federica Granese</text><text font-size=\"10\" x=\"75\" y=\"102\">Eduardo D. C. Gomes</text></svg>"
      ],
      "text/plain": [
       "<IPython.core.display.SVG object>"
      ]
     },
     "execution_count": 92,
     "metadata": {},
     "output_type": "execute_result"
    }
   ],
   "source": [
    "G_check = community_context_dict[communities[5]]['G']\n",
    "draw_community(G_check)"
   ]
  },
  {
   "cell_type": "code",
   "execution_count": 34,
   "id": "202cd434",
   "metadata": {},
   "outputs": [
    {
     "data": {
      "text/plain": [
       "['Bayesian Active Meta-Learning for Few Pilot Demodulation and Equalization',\n",
       " 'Beyond Mahalanobis-Based Scores for Textual OOD Detection',\n",
       " 'EMG Pattern Classification to Control a Hand Orthosis for Functional Grasp Assistance after Stroke',\n",
       " 'Fronthaul Quantization as Artificial Noise for Enhanced Secret Communication in C-RAN',\n",
       " 'Learning to Time-Decode in Spiking Neural Networks Through the Information Bottleneck',\n",
       " 'MEAD: A Multi-Armed Approach for Evaluation of Adversarial Examples Detectors',\n",
       " 'On the Feasibility of Wearable Exotendon Networks for Whole-Hand Movement Patterns in Stroke Patients',\n",
       " 'Secrecy Degrees of Freedom of MIMO Broadcast Channels with Delayed CSIT']"
      ]
     },
     "execution_count": 34,
     "metadata": {},
     "output_type": "execute_result"
    }
   ],
   "source": [
    "show_author_papers(df, G_check)\n",
    "\n",
    "#XENON1T Anomaly and its Implication for Decaying Warm Dark Matter\n",
    "#Wandering in Color-Space -- why the life of pentaquark is so long ? --\n",
    "#What can we learn from universal Turing machines?"
   ]
  },
  {
   "cell_type": "code",
   "execution_count": 90,
   "id": "1dc8c070",
   "metadata": {},
   "outputs": [
    {
     "name": "stdout",
     "output_type": "stream",
     "text": [
      "Density: 0.20910384068278806\n",
      "Node Count: 38\n"
     ]
    },
    {
     "data": {
      "image/svg+xml": [
       "<svg height=\"540\" width=\"825.0\" xmlns=\"http://www.w3.org/2000/svg\"><path d=\"M 720 508 631 423\" stroke=\"gray\" stroke-width=\"0.2\"/><path d=\"M 720 508 670 495\" stroke=\"gray\" stroke-width=\"0.2\"/><path d=\"M 720 508 634 520\" stroke=\"gray\" stroke-width=\"0.2\"/><path d=\"M 135 344 64 301\" stroke=\"gray\" stroke-width=\"0.2\"/><path d=\"M 135 344 29 309\" stroke=\"gray\" stroke-width=\"0.2\"/><path d=\"M 135 344 69 355\" stroke=\"gray\" stroke-width=\"0.2\"/><path d=\"M 135 344 102 308\" stroke=\"gray\" stroke-width=\"0.2\"/><path d=\"M 135 344 97 333\" stroke=\"gray\" stroke-width=\"0.2\"/><path d=\"M 135 344 171 260\" stroke=\"gray\" stroke-width=\"0.2\"/><path d=\"M 135 344 105 356\" stroke=\"gray\" stroke-width=\"0.2\"/><path d=\"M 135 344 20 328\" stroke=\"gray\" stroke-width=\"0.2\"/><path d=\"M 135 344 38 346\" stroke=\"gray\" stroke-width=\"0.2\"/><path d=\"M 135 344 134 323\" stroke=\"gray\" stroke-width=\"0.2\"/><path d=\"M 135 344 60 325\" stroke=\"gray\" stroke-width=\"0.2\"/><path d=\"M 64 301 135 344\" stroke=\"gray\" stroke-width=\"0.2\"/><path d=\"M 64 301 29 309\" stroke=\"gray\" stroke-width=\"0.2\"/><path d=\"M 64 301 69 355\" stroke=\"gray\" stroke-width=\"0.2\"/><path d=\"M 64 301 102 308\" stroke=\"gray\" stroke-width=\"0.2\"/><path d=\"M 64 301 97 333\" stroke=\"gray\" stroke-width=\"0.2\"/><path d=\"M 64 301 171 260\" stroke=\"gray\" stroke-width=\"0.2\"/><path d=\"M 64 301 105 356\" stroke=\"gray\" stroke-width=\"0.2\"/><path d=\"M 64 301 20 328\" stroke=\"gray\" stroke-width=\"0.2\"/><path d=\"M 64 301 38 346\" stroke=\"gray\" stroke-width=\"0.2\"/><path d=\"M 64 301 134 323\" stroke=\"gray\" stroke-width=\"0.2\"/><path d=\"M 64 301 60 325\" stroke=\"gray\" stroke-width=\"0.2\"/><path d=\"M 286 20 230 53\" stroke=\"gray\" stroke-width=\"0.2\"/><path d=\"M 286 20 231 20\" stroke=\"gray\" stroke-width=\"0.2\"/><path d=\"M 286 20 288 43\" stroke=\"gray\" stroke-width=\"0.2\"/><path d=\"M 286 20 190 39\" stroke=\"gray\" stroke-width=\"0.2\"/><path d=\"M 286 20 310 140\" stroke=\"gray\" stroke-width=\"0.2\"/><path d=\"M 230 53 286 20\" stroke=\"gray\" stroke-width=\"0.2\"/><path d=\"M 230 53 231 20\" stroke=\"gray\" stroke-width=\"0.2\"/><path d=\"M 230 53 288 43\" stroke=\"gray\" stroke-width=\"0.2\"/><path d=\"M 230 53 190 39\" stroke=\"gray\" stroke-width=\"0.2\"/><path d=\"M 230 53 310 140\" stroke=\"gray\" stroke-width=\"0.2\"/><path d=\"M 517 278 490 194\" stroke=\"gray\" stroke-width=\"0.2\"/><path d=\"M 517 278 631 423\" stroke=\"gray\" stroke-width=\"0.2\"/><path d=\"M 517 278 459 215\" stroke=\"gray\" stroke-width=\"0.2\"/><path d=\"M 517 278 633 356\" stroke=\"gray\" stroke-width=\"0.2\"/><path d=\"M 517 278 310 140\" stroke=\"gray\" stroke-width=\"0.2\"/><path d=\"M 29 309 135 344\" stroke=\"gray\" stroke-width=\"0.2\"/><path d=\"M 29 309 64 301\" stroke=\"gray\" stroke-width=\"0.2\"/><path d=\"M 29 309 69 355\" stroke=\"gray\" stroke-width=\"0.2\"/><path d=\"M 29 309 102 308\" stroke=\"gray\" stroke-width=\"0.2\"/><path d=\"M 29 309 97 333\" stroke=\"gray\" stroke-width=\"0.2\"/><path d=\"M 29 309 171 260\" stroke=\"gray\" stroke-width=\"0.2\"/><path d=\"M 29 309 105 356\" stroke=\"gray\" stroke-width=\"0.2\"/><path d=\"M 29 309 20 328\" stroke=\"gray\" stroke-width=\"0.2\"/><path d=\"M 29 309 38 346\" stroke=\"gray\" stroke-width=\"0.2\"/><path d=\"M 29 309 134 323\" stroke=\"gray\" stroke-width=\"0.2\"/><path d=\"M 29 309 60 325\" stroke=\"gray\" stroke-width=\"0.2\"/><path d=\"M 291 203 171 260\" stroke=\"gray\" stroke-width=\"0.2\"/><path d=\"M 291 203 390 153\" stroke=\"gray\" stroke-width=\"0.2\"/><path d=\"M 291 203 212 184\" stroke=\"gray\" stroke-width=\"0.2\"/><path d=\"M 291 203 245 198\" stroke=\"gray\" stroke-width=\"0.2\"/><path d=\"M 291 203 283 183\" stroke=\"gray\" stroke-width=\"0.2\"/><path d=\"M 291 203 214 163\" stroke=\"gray\" stroke-width=\"0.2\"/><path d=\"M 291 203 310 140\" stroke=\"gray\" stroke-width=\"0.2\"/><path d=\"M 291 203 254 167\" stroke=\"gray\" stroke-width=\"0.2\"/><path d=\"M 490 194 517 278\" stroke=\"gray\" stroke-width=\"0.2\"/><path d=\"M 490 194 459 215\" stroke=\"gray\" stroke-width=\"0.2\"/><path d=\"M 490 194 310 140\" stroke=\"gray\" stroke-width=\"0.2\"/><path d=\"M 69 355 135 344\" stroke=\"gray\" stroke-width=\"0.2\"/><path d=\"M 69 355 64 301\" stroke=\"gray\" stroke-width=\"0.2\"/><path d=\"M 69 355 29 309\" stroke=\"gray\" stroke-width=\"0.2\"/><path d=\"M 69 355 102 308\" stroke=\"gray\" stroke-width=\"0.2\"/><path d=\"M 69 355 97 333\" stroke=\"gray\" stroke-width=\"0.2\"/><path d=\"M 69 355 171 260\" stroke=\"gray\" stroke-width=\"0.2\"/><path d=\"M 69 355 105 356\" stroke=\"gray\" stroke-width=\"0.2\"/><path d=\"M 69 355 20 328\" stroke=\"gray\" stroke-width=\"0.2\"/><path d=\"M 69 355 38 346\" stroke=\"gray\" stroke-width=\"0.2\"/><path d=\"M 69 355 134 323\" stroke=\"gray\" stroke-width=\"0.2\"/><path d=\"M 69 355 60 325\" stroke=\"gray\" stroke-width=\"0.2\"/><path d=\"M 102 308 135 344\" stroke=\"gray\" stroke-width=\"0.2\"/><path d=\"M 102 308 64 301\" stroke=\"gray\" stroke-width=\"0.2\"/><path d=\"M 102 308 29 309\" stroke=\"gray\" stroke-width=\"0.2\"/><path d=\"M 102 308 69 355\" stroke=\"gray\" stroke-width=\"0.2\"/><path d=\"M 102 308 97 333\" stroke=\"gray\" stroke-width=\"0.2\"/><path d=\"M 102 308 171 260\" stroke=\"gray\" stroke-width=\"0.2\"/><path d=\"M 102 308 105 356\" stroke=\"gray\" stroke-width=\"0.2\"/><path d=\"M 102 308 20 328\" stroke=\"gray\" stroke-width=\"0.2\"/><path d=\"M 102 308 38 346\" stroke=\"gray\" stroke-width=\"0.2\"/><path d=\"M 102 308 134 323\" stroke=\"gray\" stroke-width=\"0.2\"/><path d=\"M 102 308 60 325\" stroke=\"gray\" stroke-width=\"0.2\"/><path d=\"M 631 423 720 508\" stroke=\"gray\" stroke-width=\"0.2\"/><path d=\"M 631 423 517 278\" stroke=\"gray\" stroke-width=\"0.2\"/><path d=\"M 631 423 670 495\" stroke=\"gray\" stroke-width=\"0.2\"/><path d=\"M 631 423 634 520\" stroke=\"gray\" stroke-width=\"0.2\"/><path d=\"M 631 423 633 356\" stroke=\"gray\" stroke-width=\"0.2\"/><path d=\"M 607 116 390 153\" stroke=\"gray\" stroke-width=\"0.2\"/><path d=\"M 607 116 572 133\" stroke=\"gray\" stroke-width=\"0.2\"/><path d=\"M 607 116 587 89\" stroke=\"gray\" stroke-width=\"0.2\"/><path d=\"M 607 116 534 82\" stroke=\"gray\" stroke-width=\"0.2\"/><path d=\"M 607 116 538 109\" stroke=\"gray\" stroke-width=\"0.2\"/><path d=\"M 97 333 135 344\" stroke=\"gray\" stroke-width=\"0.2\"/><path d=\"M 97 333 64 301\" stroke=\"gray\" stroke-width=\"0.2\"/><path d=\"M 97 333 29 309\" stroke=\"gray\" stroke-width=\"0.2\"/><path d=\"M 97 333 69 355\" stroke=\"gray\" stroke-width=\"0.2\"/><path d=\"M 97 333 102 308\" stroke=\"gray\" stroke-width=\"0.2\"/><path d=\"M 97 333 171 260\" stroke=\"gray\" stroke-width=\"0.2\"/><path d=\"M 97 333 105 356\" stroke=\"gray\" stroke-width=\"0.2\"/><path d=\"M 97 333 20 328\" stroke=\"gray\" stroke-width=\"0.2\"/><path d=\"M 97 333 38 346\" stroke=\"gray\" stroke-width=\"0.2\"/><path d=\"M 97 333 134 323\" stroke=\"gray\" stroke-width=\"0.2\"/><path d=\"M 97 333 60 325\" stroke=\"gray\" stroke-width=\"0.2\"/><path d=\"M 171 260 135 344\" stroke=\"gray\" stroke-width=\"0.2\"/><path d=\"M 171 260 64 301\" stroke=\"gray\" stroke-width=\"0.2\"/><path d=\"M 171 260 29 309\" stroke=\"gray\" stroke-width=\"0.2\"/><path d=\"M 171 260 291 203\" stroke=\"gray\" stroke-width=\"0.2\"/><path d=\"M 171 260 69 355\" stroke=\"gray\" stroke-width=\"0.2\"/><path d=\"M 171 260 102 308\" stroke=\"gray\" stroke-width=\"0.2\"/><path d=\"M 171 260 97 333\" stroke=\"gray\" stroke-width=\"0.2\"/><path d=\"M 171 260 390 153\" stroke=\"gray\" stroke-width=\"0.2\"/><path d=\"M 171 260 105 356\" stroke=\"gray\" stroke-width=\"0.2\"/><path d=\"M 171 260 212 184\" stroke=\"gray\" stroke-width=\"0.2\"/><path d=\"M 171 260 245 198\" stroke=\"gray\" stroke-width=\"0.2\"/><path d=\"M 171 260 283 183\" stroke=\"gray\" stroke-width=\"0.2\"/><path d=\"M 171 260 20 328\" stroke=\"gray\" stroke-width=\"0.2\"/><path d=\"M 171 260 214 163\" stroke=\"gray\" stroke-width=\"0.2\"/><path d=\"M 171 260 38 346\" stroke=\"gray\" stroke-width=\"0.2\"/><path d=\"M 171 260 134 323\" stroke=\"gray\" stroke-width=\"0.2\"/><path d=\"M 171 260 60 325\" stroke=\"gray\" stroke-width=\"0.2\"/><path d=\"M 171 260 310 140\" stroke=\"gray\" stroke-width=\"0.2\"/><path d=\"M 171 260 254 167\" stroke=\"gray\" stroke-width=\"0.2\"/><path d=\"M 390 153 291 203\" stroke=\"gray\" stroke-width=\"0.2\"/><path d=\"M 390 153 607 116\" stroke=\"gray\" stroke-width=\"0.2\"/><path d=\"M 390 153 171 260\" stroke=\"gray\" stroke-width=\"0.2\"/><path d=\"M 390 153 572 133\" stroke=\"gray\" stroke-width=\"0.2\"/><path d=\"M 390 153 212 184\" stroke=\"gray\" stroke-width=\"0.2\"/><path d=\"M 390 153 245 198\" stroke=\"gray\" stroke-width=\"0.2\"/><path d=\"M 390 153 283 183\" stroke=\"gray\" stroke-width=\"0.2\"/><path d=\"M 390 153 587 89\" stroke=\"gray\" stroke-width=\"0.2\"/><path d=\"M 390 153 214 163\" stroke=\"gray\" stroke-width=\"0.2\"/><path d=\"M 390 153 534 82\" stroke=\"gray\" stroke-width=\"0.2\"/><path d=\"M 390 153 310 140\" stroke=\"gray\" stroke-width=\"0.2\"/><path d=\"M 390 153 254 167\" stroke=\"gray\" stroke-width=\"0.2\"/><path d=\"M 390 153 538 109\" stroke=\"gray\" stroke-width=\"0.2\"/><path d=\"M 231 20 286 20\" stroke=\"gray\" stroke-width=\"0.2\"/><path d=\"M 231 20 230 53\" stroke=\"gray\" stroke-width=\"0.2\"/><path d=\"M 231 20 288 43\" stroke=\"gray\" stroke-width=\"0.2\"/><path d=\"M 231 20 190 39\" stroke=\"gray\" stroke-width=\"0.2\"/><path d=\"M 231 20 310 140\" stroke=\"gray\" stroke-width=\"0.2\"/><path d=\"M 105 356 135 344\" stroke=\"gray\" stroke-width=\"0.2\"/><path d=\"M 105 356 64 301\" stroke=\"gray\" stroke-width=\"0.2\"/><path d=\"M 105 356 29 309\" stroke=\"gray\" stroke-width=\"0.2\"/><path d=\"M 105 356 69 355\" stroke=\"gray\" stroke-width=\"0.2\"/><path d=\"M 105 356 102 308\" stroke=\"gray\" stroke-width=\"0.2\"/><path d=\"M 105 356 97 333\" stroke=\"gray\" stroke-width=\"0.2\"/><path d=\"M 105 356 171 260\" stroke=\"gray\" stroke-width=\"0.2\"/><path d=\"M 105 356 20 328\" stroke=\"gray\" stroke-width=\"0.2\"/><path d=\"M 105 356 38 346\" stroke=\"gray\" stroke-width=\"0.2\"/><path d=\"M 105 356 134 323\" stroke=\"gray\" stroke-width=\"0.2\"/><path d=\"M 105 356 60 325\" stroke=\"gray\" stroke-width=\"0.2\"/><path d=\"M 459 215 517 278\" stroke=\"gray\" stroke-width=\"0.2\"/><path d=\"M 459 215 490 194\" stroke=\"gray\" stroke-width=\"0.2\"/><path d=\"M 459 215 310 140\" stroke=\"gray\" stroke-width=\"0.2\"/><path d=\"M 572 133 607 116\" stroke=\"gray\" stroke-width=\"0.2\"/><path d=\"M 572 133 390 153\" stroke=\"gray\" stroke-width=\"0.2\"/><path d=\"M 572 133 587 89\" stroke=\"gray\" stroke-width=\"0.2\"/><path d=\"M 572 133 534 82\" stroke=\"gray\" stroke-width=\"0.2\"/><path d=\"M 572 133 538 109\" stroke=\"gray\" stroke-width=\"0.2\"/><path d=\"M 670 495 720 508\" stroke=\"gray\" stroke-width=\"0.2\"/><path d=\"M 670 495 631 423\" stroke=\"gray\" stroke-width=\"0.2\"/><path d=\"M 670 495 634 520\" stroke=\"gray\" stroke-width=\"0.2\"/><path d=\"M 212 184 291 203\" stroke=\"gray\" stroke-width=\"0.2\"/><path d=\"M 212 184 171 260\" stroke=\"gray\" stroke-width=\"0.2\"/><path d=\"M 212 184 390 153\" stroke=\"gray\" stroke-width=\"0.2\"/><path d=\"M 212 184 245 198\" stroke=\"gray\" stroke-width=\"0.2\"/><path d=\"M 212 184 283 183\" stroke=\"gray\" stroke-width=\"0.2\"/><path d=\"M 212 184 214 163\" stroke=\"gray\" stroke-width=\"0.2\"/><path d=\"M 212 184 310 140\" stroke=\"gray\" stroke-width=\"0.2\"/><path d=\"M 212 184 254 167\" stroke=\"gray\" stroke-width=\"0.2\"/><path d=\"M 245 198 291 203\" stroke=\"gray\" stroke-width=\"0.2\"/><path d=\"M 245 198 171 260\" stroke=\"gray\" stroke-width=\"0.2\"/><path d=\"M 245 198 390 153\" stroke=\"gray\" stroke-width=\"0.2\"/><path d=\"M 245 198 212 184\" stroke=\"gray\" stroke-width=\"0.2\"/><path d=\"M 245 198 283 183\" stroke=\"gray\" stroke-width=\"0.2\"/><path d=\"M 245 198 214 163\" stroke=\"gray\" stroke-width=\"0.2\"/><path d=\"M 245 198 310 140\" stroke=\"gray\" stroke-width=\"0.2\"/><path d=\"M 245 198 254 167\" stroke=\"gray\" stroke-width=\"0.2\"/><path d=\"M 634 520 720 508\" stroke=\"gray\" stroke-width=\"0.2\"/><path d=\"M 634 520 631 423\" stroke=\"gray\" stroke-width=\"0.2\"/><path d=\"M 634 520 670 495\" stroke=\"gray\" stroke-width=\"0.2\"/><path d=\"M 288 43 286 20\" stroke=\"gray\" stroke-width=\"0.2\"/><path d=\"M 288 43 230 53\" stroke=\"gray\" stroke-width=\"0.2\"/><path d=\"M 288 43 231 20\" stroke=\"gray\" stroke-width=\"0.2\"/><path d=\"M 288 43 190 39\" stroke=\"gray\" stroke-width=\"0.2\"/><path d=\"M 288 43 310 140\" stroke=\"gray\" stroke-width=\"0.2\"/><path d=\"M 283 183 291 203\" stroke=\"gray\" stroke-width=\"0.2\"/><path d=\"M 283 183 171 260\" stroke=\"gray\" stroke-width=\"0.2\"/><path d=\"M 283 183 390 153\" stroke=\"gray\" stroke-width=\"0.2\"/><path d=\"M 283 183 212 184\" stroke=\"gray\" stroke-width=\"0.2\"/><path d=\"M 283 183 245 198\" stroke=\"gray\" stroke-width=\"0.2\"/><path d=\"M 283 183 214 163\" stroke=\"gray\" stroke-width=\"0.2\"/><path d=\"M 283 183 310 140\" stroke=\"gray\" stroke-width=\"0.2\"/><path d=\"M 283 183 254 167\" stroke=\"gray\" stroke-width=\"0.2\"/><path d=\"M 20 328 135 344\" stroke=\"gray\" stroke-width=\"0.2\"/><path d=\"M 20 328 64 301\" stroke=\"gray\" stroke-width=\"0.2\"/><path d=\"M 20 328 29 309\" stroke=\"gray\" stroke-width=\"0.2\"/><path d=\"M 20 328 69 355\" stroke=\"gray\" stroke-width=\"0.2\"/><path d=\"M 20 328 102 308\" stroke=\"gray\" stroke-width=\"0.2\"/><path d=\"M 20 328 97 333\" stroke=\"gray\" stroke-width=\"0.2\"/><path d=\"M 20 328 171 260\" stroke=\"gray\" stroke-width=\"0.2\"/><path d=\"M 20 328 105 356\" stroke=\"gray\" stroke-width=\"0.2\"/><path d=\"M 20 328 38 346\" stroke=\"gray\" stroke-width=\"0.2\"/><path d=\"M 20 328 134 323\" stroke=\"gray\" stroke-width=\"0.2\"/><path d=\"M 20 328 60 325\" stroke=\"gray\" stroke-width=\"0.2\"/><path d=\"M 633 356 517 278\" stroke=\"gray\" stroke-width=\"0.2\"/><path d=\"M 633 356 631 423\" stroke=\"gray\" stroke-width=\"0.2\"/><path d=\"M 587 89 607 116\" stroke=\"gray\" stroke-width=\"0.2\"/><path d=\"M 587 89 390 153\" stroke=\"gray\" stroke-width=\"0.2\"/><path d=\"M 587 89 572 133\" stroke=\"gray\" stroke-width=\"0.2\"/><path d=\"M 587 89 534 82\" stroke=\"gray\" stroke-width=\"0.2\"/><path d=\"M 587 89 538 109\" stroke=\"gray\" stroke-width=\"0.2\"/><path d=\"M 214 163 291 203\" stroke=\"gray\" stroke-width=\"0.2\"/><path d=\"M 214 163 171 260\" stroke=\"gray\" stroke-width=\"0.2\"/><path d=\"M 214 163 390 153\" stroke=\"gray\" stroke-width=\"0.2\"/><path d=\"M 214 163 212 184\" stroke=\"gray\" stroke-width=\"0.2\"/><path d=\"M 214 163 245 198\" stroke=\"gray\" stroke-width=\"0.2\"/><path d=\"M 214 163 283 183\" stroke=\"gray\" stroke-width=\"0.2\"/><path d=\"M 214 163 310 140\" stroke=\"gray\" stroke-width=\"0.2\"/><path d=\"M 214 163 254 167\" stroke=\"gray\" stroke-width=\"0.2\"/><path d=\"M 38 346 135 344\" stroke=\"gray\" stroke-width=\"0.2\"/><path d=\"M 38 346 64 301\" stroke=\"gray\" stroke-width=\"0.2\"/><path d=\"M 38 346 29 309\" stroke=\"gray\" stroke-width=\"0.2\"/><path d=\"M 38 346 69 355\" stroke=\"gray\" stroke-width=\"0.2\"/><path d=\"M 38 346 102 308\" stroke=\"gray\" stroke-width=\"0.2\"/><path d=\"M 38 346 97 333\" stroke=\"gray\" stroke-width=\"0.2\"/><path d=\"M 38 346 171 260\" stroke=\"gray\" stroke-width=\"0.2\"/><path d=\"M 38 346 105 356\" stroke=\"gray\" stroke-width=\"0.2\"/><path d=\"M 38 346 20 328\" stroke=\"gray\" stroke-width=\"0.2\"/><path d=\"M 38 346 134 323\" stroke=\"gray\" stroke-width=\"0.2\"/><path d=\"M 38 346 60 325\" stroke=\"gray\" stroke-width=\"0.2\"/><path d=\"M 134 323 135 344\" stroke=\"gray\" stroke-width=\"0.2\"/><path d=\"M 134 323 64 301\" stroke=\"gray\" stroke-width=\"0.2\"/><path d=\"M 134 323 29 309\" stroke=\"gray\" stroke-width=\"0.2\"/><path d=\"M 134 323 69 355\" stroke=\"gray\" stroke-width=\"0.2\"/><path d=\"M 134 323 102 308\" stroke=\"gray\" stroke-width=\"0.2\"/><path d=\"M 134 323 97 333\" stroke=\"gray\" stroke-width=\"0.2\"/><path d=\"M 134 323 171 260\" stroke=\"gray\" stroke-width=\"0.2\"/><path d=\"M 134 323 105 356\" stroke=\"gray\" stroke-width=\"0.2\"/><path d=\"M 134 323 20 328\" stroke=\"gray\" stroke-width=\"0.2\"/><path d=\"M 134 323 38 346\" stroke=\"gray\" stroke-width=\"0.2\"/><path d=\"M 134 323 60 325\" stroke=\"gray\" stroke-width=\"0.2\"/><path d=\"M 534 82 607 116\" stroke=\"gray\" stroke-width=\"0.2\"/><path d=\"M 534 82 390 153\" stroke=\"gray\" stroke-width=\"0.2\"/><path d=\"M 534 82 572 133\" stroke=\"gray\" stroke-width=\"0.2\"/><path d=\"M 534 82 587 89\" stroke=\"gray\" stroke-width=\"0.2\"/><path d=\"M 534 82 538 109\" stroke=\"gray\" stroke-width=\"0.2\"/><path d=\"M 190 39 286 20\" stroke=\"gray\" stroke-width=\"0.2\"/><path d=\"M 190 39 230 53\" stroke=\"gray\" stroke-width=\"0.2\"/><path d=\"M 190 39 231 20\" stroke=\"gray\" stroke-width=\"0.2\"/><path d=\"M 190 39 288 43\" stroke=\"gray\" stroke-width=\"0.2\"/><path d=\"M 190 39 310 140\" stroke=\"gray\" stroke-width=\"0.2\"/><path d=\"M 60 325 135 344\" stroke=\"gray\" stroke-width=\"0.2\"/><path d=\"M 60 325 64 301\" stroke=\"gray\" stroke-width=\"0.2\"/><path d=\"M 60 325 29 309\" stroke=\"gray\" stroke-width=\"0.2\"/><path d=\"M 60 325 69 355\" stroke=\"gray\" stroke-width=\"0.2\"/><path d=\"M 60 325 102 308\" stroke=\"gray\" stroke-width=\"0.2\"/><path d=\"M 60 325 97 333\" stroke=\"gray\" stroke-width=\"0.2\"/><path d=\"M 60 325 171 260\" stroke=\"gray\" stroke-width=\"0.2\"/><path d=\"M 60 325 105 356\" stroke=\"gray\" stroke-width=\"0.2\"/><path d=\"M 60 325 20 328\" stroke=\"gray\" stroke-width=\"0.2\"/><path d=\"M 60 325 38 346\" stroke=\"gray\" stroke-width=\"0.2\"/><path d=\"M 60 325 134 323\" stroke=\"gray\" stroke-width=\"0.2\"/><path d=\"M 310 140 286 20\" stroke=\"gray\" stroke-width=\"0.2\"/><path d=\"M 310 140 230 53\" stroke=\"gray\" stroke-width=\"0.2\"/><path d=\"M 310 140 517 278\" stroke=\"gray\" stroke-width=\"0.2\"/><path d=\"M 310 140 291 203\" stroke=\"gray\" stroke-width=\"0.2\"/><path d=\"M 310 140 490 194\" stroke=\"gray\" stroke-width=\"0.2\"/><path d=\"M 310 140 171 260\" stroke=\"gray\" stroke-width=\"0.2\"/><path d=\"M 310 140 390 153\" stroke=\"gray\" stroke-width=\"0.2\"/><path d=\"M 310 140 231 20\" stroke=\"gray\" stroke-width=\"0.2\"/><path d=\"M 310 140 459 215\" stroke=\"gray\" stroke-width=\"0.2\"/><path d=\"M 310 140 212 184\" stroke=\"gray\" stroke-width=\"0.2\"/><path d=\"M 310 140 245 198\" stroke=\"gray\" stroke-width=\"0.2\"/><path d=\"M 310 140 288 43\" stroke=\"gray\" stroke-width=\"0.2\"/><path d=\"M 310 140 283 183\" stroke=\"gray\" stroke-width=\"0.2\"/><path d=\"M 310 140 214 163\" stroke=\"gray\" stroke-width=\"0.2\"/><path d=\"M 310 140 190 39\" stroke=\"gray\" stroke-width=\"0.2\"/><path d=\"M 310 140 254 167\" stroke=\"gray\" stroke-width=\"0.2\"/><path d=\"M 254 167 291 203\" stroke=\"gray\" stroke-width=\"0.2\"/><path d=\"M 254 167 171 260\" stroke=\"gray\" stroke-width=\"0.2\"/><path d=\"M 254 167 390 153\" stroke=\"gray\" stroke-width=\"0.2\"/><path d=\"M 254 167 212 184\" stroke=\"gray\" stroke-width=\"0.2\"/><path d=\"M 254 167 245 198\" stroke=\"gray\" stroke-width=\"0.2\"/><path d=\"M 254 167 283 183\" stroke=\"gray\" stroke-width=\"0.2\"/><path d=\"M 254 167 214 163\" stroke=\"gray\" stroke-width=\"0.2\"/><path d=\"M 254 167 310 140\" stroke=\"gray\" stroke-width=\"0.2\"/><path d=\"M 538 109 607 116\" stroke=\"gray\" stroke-width=\"0.2\"/><path d=\"M 538 109 390 153\" stroke=\"gray\" stroke-width=\"0.2\"/><path d=\"M 538 109 572 133\" stroke=\"gray\" stroke-width=\"0.2\"/><path d=\"M 538 109 587 89\" stroke=\"gray\" stroke-width=\"0.2\"/><path d=\"M 538 109 534 82\" stroke=\"gray\" stroke-width=\"0.2\"/><circle cx=\"720\" cy=\"508\" r=\"3.0\" style=\"fill:rgb(116, 151, 245);stroke:black;stroke-width:1.0\"/><circle cx=\"135\" cy=\"344\" r=\"3.0\" style=\"fill:rgb(145, 179, 254);stroke:black;stroke-width:1.0\"/><circle cx=\"64\" cy=\"301\" r=\"3.0\" style=\"fill:rgb(145, 179, 254);stroke:black;stroke-width:1.0\"/><circle cx=\"286\" cy=\"20\" r=\"3.0\" style=\"fill:rgb(109, 144, 241);stroke:black;stroke-width:1.0\"/><circle cx=\"230\" cy=\"53\" r=\"3.0\" style=\"fill:rgb(109, 144, 241);stroke:black;stroke-width:1.0\"/><circle cx=\"517\" cy=\"278\" r=\"3.0\" style=\"fill:rgb(163, 193, 254);stroke:black;stroke-width:1.0\"/><circle cx=\"29\" cy=\"309\" r=\"3.0\" style=\"fill:rgb(145, 179, 254);stroke:black;stroke-width:1.0\"/><circle cx=\"291\" cy=\"203\" r=\"3.0\" style=\"fill:rgb(141, 175, 253);stroke:black;stroke-width:1.0\"/><circle cx=\"490\" cy=\"194\" r=\"3.0\" style=\"fill:rgb(70, 93, 207);stroke:black;stroke-width:1.0\"/><circle cx=\"69\" cy=\"355\" r=\"3.0\" style=\"fill:rgb(145, 179, 254);stroke:black;stroke-width:1.0\"/><circle cx=\"102\" cy=\"308\" r=\"3.0\" style=\"fill:rgb(145, 179, 254);stroke:black;stroke-width:1.0\"/><circle cx=\"631\" cy=\"423\" r=\"3.0\" style=\"fill:rgb(205, 217, 236);stroke:black;stroke-width:1.0\"/><circle cx=\"607\" cy=\"116\" r=\"3.0\" style=\"fill:rgb(103, 136, 237);stroke:black;stroke-width:1.0\"/><circle cx=\"97\" cy=\"333\" r=\"3.0\" style=\"fill:rgb(145, 179, 254);stroke:black;stroke-width:1.0\"/><circle cx=\"171\" cy=\"260\" r=\"3.0\" style=\"fill:rgb(240, 141, 111);stroke:black;stroke-width:1.0\"/><circle cx=\"390\" cy=\"153\" r=\"3.0\" style=\"fill:rgb(246, 186, 159);stroke:black;stroke-width:1.0\"/><circle cx=\"231\" cy=\"20\" r=\"3.0\" style=\"fill:rgb(109, 144, 241);stroke:black;stroke-width:1.0\"/><circle cx=\"105\" cy=\"356\" r=\"3.0\" style=\"fill:rgb(145, 179, 254);stroke:black;stroke-width:1.0\"/><circle cx=\"459\" cy=\"215\" r=\"3.0\" style=\"fill:rgb(70, 93, 207);stroke:black;stroke-width:1.0\"/><circle cx=\"572\" cy=\"133\" r=\"3.0\" style=\"fill:rgb(103, 136, 237);stroke:black;stroke-width:1.0\"/><circle cx=\"670\" cy=\"495\" r=\"3.0\" style=\"fill:rgb(116, 151, 245);stroke:black;stroke-width:1.0\"/><circle cx=\"212\" cy=\"184\" r=\"3.0\" style=\"fill:rgb(141, 175, 253);stroke:black;stroke-width:1.0\"/><circle cx=\"245\" cy=\"198\" r=\"3.0\" style=\"fill:rgb(141, 175, 253);stroke:black;stroke-width:1.0\"/><circle cx=\"634\" cy=\"520\" r=\"3.0\" style=\"fill:rgb(116, 151, 245);stroke:black;stroke-width:1.0\"/><circle cx=\"288\" cy=\"43\" r=\"3.0\" style=\"fill:rgb(109, 144, 241);stroke:black;stroke-width:1.0\"/><circle cx=\"283\" cy=\"183\" r=\"3.0\" style=\"fill:rgb(141, 175, 253);stroke:black;stroke-width:1.0\"/><circle cx=\"20\" cy=\"328\" r=\"3.0\" style=\"fill:rgb(145, 179, 254);stroke:black;stroke-width:1.0\"/><circle cx=\"633\" cy=\"356\" r=\"3.0\" style=\"fill:rgb(58, 76, 192);stroke:black;stroke-width:1.0\"/><circle cx=\"587\" cy=\"89\" r=\"3.0\" style=\"fill:rgb(103, 136, 237);stroke:black;stroke-width:1.0\"/><circle cx=\"214\" cy=\"163\" r=\"3.0\" style=\"fill:rgb(141, 175, 253);stroke:black;stroke-width:1.0\"/><circle cx=\"38\" cy=\"346\" r=\"3.0\" style=\"fill:rgb(145, 179, 254);stroke:black;stroke-width:1.0\"/><circle cx=\"134\" cy=\"323\" r=\"3.0\" style=\"fill:rgb(145, 179, 254);stroke:black;stroke-width:1.0\"/><circle cx=\"534\" cy=\"82\" r=\"3.0\" style=\"fill:rgb(103, 136, 237);stroke:black;stroke-width:1.0\"/><circle cx=\"190\" cy=\"39\" r=\"3.0\" style=\"fill:rgb(109, 144, 241);stroke:black;stroke-width:1.0\"/><circle cx=\"60\" cy=\"325\" r=\"3.0\" style=\"fill:rgb(145, 179, 254);stroke:black;stroke-width:1.0\"/><circle cx=\"310\" cy=\"140\" r=\"3.0\" style=\"fill:rgb(179, 3, 38);stroke:black;stroke-width:1.0\"/><circle cx=\"254\" cy=\"167\" r=\"3.0\" style=\"fill:rgb(141, 175, 253);stroke:black;stroke-width:1.0\"/><circle cx=\"538\" cy=\"109\" r=\"3.0\" style=\"fill:rgb(103, 136, 237);stroke:black;stroke-width:1.0\"/><text font-size=\"10\" x=\"726\" y=\"511\">Xiaojun Bao</text><text font-size=\"10\" x=\"141\" y=\"347\">E. Iacocca</text><text font-size=\"10\" x=\"70\" y=\"304\">J. E. Pearson</text><text font-size=\"10\" x=\"292\" y=\"23\">X. Zhu</text><text font-size=\"10\" x=\"236\" y=\"56\">Y. Bai</text><text font-size=\"10\" x=\"523\" y=\"281\">J. M. Dong</text><text font-size=\"10\" x=\"35\" y=\"312\">M. B. Jungfleisch</text><text font-size=\"10\" x=\"297\" y=\"206\">Q. D. Wang</text><text font-size=\"10\" x=\"496\" y=\"197\">Q. Zhao</text><text font-size=\"10\" x=\"75\" y=\"358\">S. Zhang</text><text font-size=\"10\" x=\"108\" y=\"311\">O. Heinonen</text><text font-size=\"10\" x=\"637\" y=\"426\">G. Royer</text><text font-size=\"10\" x=\"613\" y=\"119\">M. L. McCollough</text><text font-size=\"10\" x=\"103\" y=\"336\">A. Hoffmann</text><text font-size=\"10\" x=\"177\" y=\"263\">W. Zhang</text><text font-size=\"10\" x=\"396\" y=\"156\">S. N. Zhang</text><text font-size=\"10\" x=\"237\" y=\"23\">J. W. Dong</text><text font-size=\"10\" x=\"111\" y=\"359\">J. Ding</text><text font-size=\"10\" x=\"465\" y=\"218\">J. Z. Gu</text><text font-size=\"10\" x=\"578\" y=\"136\">W. Paciesas</text><text font-size=\"10\" x=\"676\" y=\"498\">Hongfei Zhang</text><text font-size=\"10\" x=\"218\" y=\"187\">M. Y. Ge</text><text font-size=\"10\" x=\"251\" y=\"201\">F. J. Lu</text><text font-size=\"10\" x=\"640\" y=\"523\">Junqing Li</text><text font-size=\"10\" x=\"294\" y=\"46\">C. Gao</text><text font-size=\"10\" x=\"289\" y=\"186\">L. L. Yan</text><text font-size=\"10\" x=\"26\" y=\"331\">J. Sklenar</text><text font-size=\"10\" x=\"639\" y=\"359\">H. F. Zhang</text><text font-size=\"10\" x=\"593\" y=\"92\">C. R. Robinson</text><text font-size=\"10\" x=\"220\" y=\"166\">S. S. Weng</text><text font-size=\"10\" x=\"44\" y=\"349\">J. B. Ketterson</text><text font-size=\"10\" x=\"140\" y=\"326\">W. Jiang</text><text font-size=\"10\" x=\"540\" y=\"85\">C. A. Wilson</text><text font-size=\"10\" x=\"196\" y=\"42\">B. Wang</text><text font-size=\"10\" x=\"66\" y=\"328\">V. Novosad</text><text font-size=\"10\" x=\"316\" y=\"143\">L. J. Wang</text><text font-size=\"10\" x=\"260\" y=\"170\">Z. J. Li</text><text font-size=\"10\" x=\"544\" y=\"112\">B. A. Harmon</text></svg>"
      ],
      "text/plain": [
       "<IPython.core.display.SVG object>"
      ]
     },
     "execution_count": 90,
     "metadata": {},
     "output_type": "execute_result"
    }
   ],
   "source": [
    "G_check = community_context_dict[communities[6]]['G']\n",
    "draw_community(G_check)"
   ]
  },
  {
   "cell_type": "code",
   "execution_count": 36,
   "id": "97e20914",
   "metadata": {},
   "outputs": [
    {
     "data": {
      "text/plain": [
       "['$α$ particle preformation in heavy nuclei and penetration probability',\n",
       " 'Alpha-Cluster formation in heavy alpha-emitters within a multistep model',\n",
       " 'Ar-39 Detection at the 10^-16 Isotopic Abundance Level with Atom Trap Trace Analysis',\n",
       " 'Collective ferromagnetism of artificial square spin ice',\n",
       " 'Dynamic response of an artificial square spin ice',\n",
       " 'Five Years in the Life of Cygnus X-1: BATSE Long-Term Monitoring',\n",
       " 'Proton radioactivity within a generalized liquid drop model',\n",
       " 'Restricted Value Iteration: Theory and Algorithms',\n",
       " 'Speeding Up the Convergence of Value Iteration in Partially Observable Markov Decision Processes',\n",
       " 'Spontaneous fission half-lives of heavy and superheavy nuclei within a generalized liquid drop model',\n",
       " 'Square Kilometer Array Telescope - Precision Reference Frequency Synchronisation via 1f-2f Dissemination',\n",
       " 'The brightening of the pulsar wind nebula of PSR B0540--69 after its spin-down rate transition',\n",
       " 'Tuning of the Quantum-Confined Stark Effect in Wurtzite $[000\\\\bar{1}]$ Group-III-Nitride Nanostructures by the Internal-Field-Guarded-Active-Region Design']"
      ]
     },
     "execution_count": 36,
     "metadata": {},
     "output_type": "execute_result"
    }
   ],
   "source": [
    "show_author_papers(df, G_check)\n",
    "\n",
    "#Causal Explanation Analysis on Social Media\n",
    "#Overcoming Catastrophic Forgetting in Massively Multilingual Continual Learnin\n",
    "#The Remarkable Benefit of User-Level Aggregation for Lexical-based Population-Level Predictions\n",
    "#G-networks and the optimization of supply chains\n",
    "#Lady and the Tramp Nextdoor: Online Manifestations of Economic Inequalities in the Nextdoor Social Network"
   ]
  },
  {
   "cell_type": "code",
   "execution_count": 89,
   "id": "d9f6d485",
   "metadata": {},
   "outputs": [
    {
     "name": "stdout",
     "output_type": "stream",
     "text": [
      "Density: 0.2134387351778656\n",
      "Node Count: 23\n"
     ]
    },
    {
     "data": {
      "image/svg+xml": [
       "<svg height=\"540\" width=\"845.0\" xmlns=\"http://www.w3.org/2000/svg\"><path d=\"M 145 20 197 101\" stroke=\"gray\" stroke-width=\"0.2\"/><path d=\"M 145 20 81 21\" stroke=\"gray\" stroke-width=\"0.2\"/><path d=\"M 145 20 66 53\" stroke=\"gray\" stroke-width=\"0.2\"/><path d=\"M 294 153 256 127\" stroke=\"gray\" stroke-width=\"0.2\"/><path d=\"M 294 153 241 157\" stroke=\"gray\" stroke-width=\"0.2\"/><path d=\"M 294 153 197 101\" stroke=\"gray\" stroke-width=\"0.2\"/><path d=\"M 294 153 182 174\" stroke=\"gray\" stroke-width=\"0.2\"/><path d=\"M 294 153 307 125\" stroke=\"gray\" stroke-width=\"0.2\"/><path d=\"M 294 153 338 194\" stroke=\"gray\" stroke-width=\"0.2\"/><path d=\"M 400 501 468 520\" stroke=\"gray\" stroke-width=\"0.2\"/><path d=\"M 400 501 506 429\" stroke=\"gray\" stroke-width=\"0.2\"/><path d=\"M 256 127 294 153\" stroke=\"gray\" stroke-width=\"0.2\"/><path d=\"M 256 127 241 157\" stroke=\"gray\" stroke-width=\"0.2\"/><path d=\"M 256 127 197 101\" stroke=\"gray\" stroke-width=\"0.2\"/><path d=\"M 256 127 182 174\" stroke=\"gray\" stroke-width=\"0.2\"/><path d=\"M 256 127 307 125\" stroke=\"gray\" stroke-width=\"0.2\"/><path d=\"M 256 127 338 194\" stroke=\"gray\" stroke-width=\"0.2\"/><path d=\"M 241 157 294 153\" stroke=\"gray\" stroke-width=\"0.2\"/><path d=\"M 241 157 256 127\" stroke=\"gray\" stroke-width=\"0.2\"/><path d=\"M 241 157 197 101\" stroke=\"gray\" stroke-width=\"0.2\"/><path d=\"M 241 157 182 174\" stroke=\"gray\" stroke-width=\"0.2\"/><path d=\"M 241 157 307 125\" stroke=\"gray\" stroke-width=\"0.2\"/><path d=\"M 241 157 338 194\" stroke=\"gray\" stroke-width=\"0.2\"/><path d=\"M 468 520 400 501\" stroke=\"gray\" stroke-width=\"0.2\"/><path d=\"M 468 520 506 429\" stroke=\"gray\" stroke-width=\"0.2\"/><path d=\"M 720 337 655 386\" stroke=\"gray\" stroke-width=\"0.2\"/><path d=\"M 720 337 545 332\" stroke=\"gray\" stroke-width=\"0.2\"/><path d=\"M 64 238 182 174\" stroke=\"gray\" stroke-width=\"0.2\"/><path d=\"M 64 238 20 206\" stroke=\"gray\" stroke-width=\"0.2\"/><path d=\"M 197 101 145 20\" stroke=\"gray\" stroke-width=\"0.2\"/><path d=\"M 197 101 294 153\" stroke=\"gray\" stroke-width=\"0.2\"/><path d=\"M 197 101 256 127\" stroke=\"gray\" stroke-width=\"0.2\"/><path d=\"M 197 101 241 157\" stroke=\"gray\" stroke-width=\"0.2\"/><path d=\"M 197 101 81 21\" stroke=\"gray\" stroke-width=\"0.2\"/><path d=\"M 197 101 66 53\" stroke=\"gray\" stroke-width=\"0.2\"/><path d=\"M 197 101 182 174\" stroke=\"gray\" stroke-width=\"0.2\"/><path d=\"M 197 101 307 125\" stroke=\"gray\" stroke-width=\"0.2\"/><path d=\"M 197 101 338 194\" stroke=\"gray\" stroke-width=\"0.2\"/><path d=\"M 574 400 602 376\" stroke=\"gray\" stroke-width=\"0.2\"/><path d=\"M 574 400 622 418\" stroke=\"gray\" stroke-width=\"0.2\"/><path d=\"M 574 400 506 429\" stroke=\"gray\" stroke-width=\"0.2\"/><path d=\"M 574 400 655 386\" stroke=\"gray\" stroke-width=\"0.2\"/><path d=\"M 574 400 545 332\" stroke=\"gray\" stroke-width=\"0.2\"/><path d=\"M 81 21 145 20\" stroke=\"gray\" stroke-width=\"0.2\"/><path d=\"M 81 21 197 101\" stroke=\"gray\" stroke-width=\"0.2\"/><path d=\"M 81 21 66 53\" stroke=\"gray\" stroke-width=\"0.2\"/><path d=\"M 66 53 145 20\" stroke=\"gray\" stroke-width=\"0.2\"/><path d=\"M 66 53 197 101\" stroke=\"gray\" stroke-width=\"0.2\"/><path d=\"M 66 53 81 21\" stroke=\"gray\" stroke-width=\"0.2\"/><path d=\"M 182 174 294 153\" stroke=\"gray\" stroke-width=\"0.2\"/><path d=\"M 182 174 256 127\" stroke=\"gray\" stroke-width=\"0.2\"/><path d=\"M 182 174 241 157\" stroke=\"gray\" stroke-width=\"0.2\"/><path d=\"M 182 174 64 238\" stroke=\"gray\" stroke-width=\"0.2\"/><path d=\"M 182 174 197 101\" stroke=\"gray\" stroke-width=\"0.2\"/><path d=\"M 182 174 307 125\" stroke=\"gray\" stroke-width=\"0.2\"/><path d=\"M 182 174 20 206\" stroke=\"gray\" stroke-width=\"0.2\"/><path d=\"M 182 174 338 194\" stroke=\"gray\" stroke-width=\"0.2\"/><path d=\"M 602 376 574 400\" stroke=\"gray\" stroke-width=\"0.2\"/><path d=\"M 602 376 622 418\" stroke=\"gray\" stroke-width=\"0.2\"/><path d=\"M 602 376 506 429\" stroke=\"gray\" stroke-width=\"0.2\"/><path d=\"M 602 376 655 386\" stroke=\"gray\" stroke-width=\"0.2\"/><path d=\"M 602 376 545 332\" stroke=\"gray\" stroke-width=\"0.2\"/><path d=\"M 622 418 574 400\" stroke=\"gray\" stroke-width=\"0.2\"/><path d=\"M 622 418 602 376\" stroke=\"gray\" stroke-width=\"0.2\"/><path d=\"M 622 418 506 429\" stroke=\"gray\" stroke-width=\"0.2\"/><path d=\"M 622 418 655 386\" stroke=\"gray\" stroke-width=\"0.2\"/><path d=\"M 622 418 545 332\" stroke=\"gray\" stroke-width=\"0.2\"/><path d=\"M 360 441 506 429\" stroke=\"gray\" stroke-width=\"0.2\"/><path d=\"M 360 441 389 403\" stroke=\"gray\" stroke-width=\"0.2\"/><path d=\"M 506 429 400 501\" stroke=\"gray\" stroke-width=\"0.2\"/><path d=\"M 506 429 468 520\" stroke=\"gray\" stroke-width=\"0.2\"/><path d=\"M 506 429 574 400\" stroke=\"gray\" stroke-width=\"0.2\"/><path d=\"M 506 429 602 376\" stroke=\"gray\" stroke-width=\"0.2\"/><path d=\"M 506 429 622 418\" stroke=\"gray\" stroke-width=\"0.2\"/><path d=\"M 506 429 360 441\" stroke=\"gray\" stroke-width=\"0.2\"/><path d=\"M 506 429 655 386\" stroke=\"gray\" stroke-width=\"0.2\"/><path d=\"M 506 429 389 403\" stroke=\"gray\" stroke-width=\"0.2\"/><path d=\"M 506 429 545 332\" stroke=\"gray\" stroke-width=\"0.2\"/><path d=\"M 307 125 294 153\" stroke=\"gray\" stroke-width=\"0.2\"/><path d=\"M 307 125 256 127\" stroke=\"gray\" stroke-width=\"0.2\"/><path d=\"M 307 125 241 157\" stroke=\"gray\" stroke-width=\"0.2\"/><path d=\"M 307 125 197 101\" stroke=\"gray\" stroke-width=\"0.2\"/><path d=\"M 307 125 182 174\" stroke=\"gray\" stroke-width=\"0.2\"/><path d=\"M 307 125 338 194\" stroke=\"gray\" stroke-width=\"0.2\"/><path d=\"M 20 206 64 238\" stroke=\"gray\" stroke-width=\"0.2\"/><path d=\"M 20 206 182 174\" stroke=\"gray\" stroke-width=\"0.2\"/><path d=\"M 655 386 720 337\" stroke=\"gray\" stroke-width=\"0.2\"/><path d=\"M 655 386 574 400\" stroke=\"gray\" stroke-width=\"0.2\"/><path d=\"M 655 386 602 376\" stroke=\"gray\" stroke-width=\"0.2\"/><path d=\"M 655 386 622 418\" stroke=\"gray\" stroke-width=\"0.2\"/><path d=\"M 655 386 506 429\" stroke=\"gray\" stroke-width=\"0.2\"/><path d=\"M 655 386 545 332\" stroke=\"gray\" stroke-width=\"0.2\"/><path d=\"M 389 403 360 441\" stroke=\"gray\" stroke-width=\"0.2\"/><path d=\"M 389 403 506 429\" stroke=\"gray\" stroke-width=\"0.2\"/><path d=\"M 338 194 294 153\" stroke=\"gray\" stroke-width=\"0.2\"/><path d=\"M 338 194 256 127\" stroke=\"gray\" stroke-width=\"0.2\"/><path d=\"M 338 194 241 157\" stroke=\"gray\" stroke-width=\"0.2\"/><path d=\"M 338 194 197 101\" stroke=\"gray\" stroke-width=\"0.2\"/><path d=\"M 338 194 182 174\" stroke=\"gray\" stroke-width=\"0.2\"/><path d=\"M 338 194 307 125\" stroke=\"gray\" stroke-width=\"0.2\"/><path d=\"M 338 194 545 332\" stroke=\"gray\" stroke-width=\"0.2\"/><path d=\"M 545 332 720 337\" stroke=\"gray\" stroke-width=\"0.2\"/><path d=\"M 545 332 574 400\" stroke=\"gray\" stroke-width=\"0.2\"/><path d=\"M 545 332 602 376\" stroke=\"gray\" stroke-width=\"0.2\"/><path d=\"M 545 332 622 418\" stroke=\"gray\" stroke-width=\"0.2\"/><path d=\"M 545 332 506 429\" stroke=\"gray\" stroke-width=\"0.2\"/><path d=\"M 545 332 655 386\" stroke=\"gray\" stroke-width=\"0.2\"/><path d=\"M 545 332 338 194\" stroke=\"gray\" stroke-width=\"0.2\"/><circle cx=\"145\" cy=\"20\" r=\"3.0\" style=\"fill:rgb(99, 131, 234);stroke:black;stroke-width:1.0\"/><circle cx=\"294\" cy=\"153\" r=\"3.0\" style=\"fill:rgb(183, 207, 249);stroke:black;stroke-width:1.0\"/><circle cx=\"400\" cy=\"501\" r=\"3.0\" style=\"fill:rgb(76, 102, 214);stroke:black;stroke-width:1.0\"/><circle cx=\"256\" cy=\"127\" r=\"3.0\" style=\"fill:rgb(183, 207, 249);stroke:black;stroke-width:1.0\"/><circle cx=\"241\" cy=\"157\" r=\"3.0\" style=\"fill:rgb(183, 207, 249);stroke:black;stroke-width:1.0\"/><circle cx=\"468\" cy=\"520\" r=\"3.0\" style=\"fill:rgb(76, 102, 214);stroke:black;stroke-width:1.0\"/><circle cx=\"720\" cy=\"337\" r=\"3.0\" style=\"fill:rgb(58, 76, 192);stroke:black;stroke-width:1.0\"/><circle cx=\"64\" cy=\"238\" r=\"3.0\" style=\"fill:rgb(64, 84, 199);stroke:black;stroke-width:1.0\"/><circle cx=\"197\" cy=\"101\" r=\"3.0\" style=\"fill:rgb(243, 150, 120);stroke:black;stroke-width:1.0\"/><circle cx=\"574\" cy=\"400\" r=\"3.0\" style=\"fill:rgb(176, 203, 251);stroke:black;stroke-width:1.0\"/><circle cx=\"81\" cy=\"21\" r=\"3.0\" style=\"fill:rgb(99, 131, 234);stroke:black;stroke-width:1.0\"/><circle cx=\"66\" cy=\"53\" r=\"3.0\" style=\"fill:rgb(99, 131, 234);stroke:black;stroke-width:1.0\"/><circle cx=\"182\" cy=\"174\" r=\"3.0\" style=\"fill:rgb(246, 186, 159);stroke:black;stroke-width:1.0\"/><circle cx=\"602\" cy=\"376\" r=\"3.0\" style=\"fill:rgb(176, 203, 251);stroke:black;stroke-width:1.0\"/><circle cx=\"622\" cy=\"418\" r=\"3.0\" style=\"fill:rgb(176, 203, 251);stroke:black;stroke-width:1.0\"/><circle cx=\"360\" cy=\"441\" r=\"3.0\" style=\"fill:rgb(76, 102, 214);stroke:black;stroke-width:1.0\"/><circle cx=\"506\" cy=\"429\" r=\"3.0\" style=\"fill:rgb(179, 3, 38);stroke:black;stroke-width:1.0\"/><circle cx=\"307\" cy=\"125\" r=\"3.0\" style=\"fill:rgb(183, 207, 249);stroke:black;stroke-width:1.0\"/><circle cx=\"20\" cy=\"206\" r=\"3.0\" style=\"fill:rgb(64, 84, 199);stroke:black;stroke-width:1.0\"/><circle cx=\"655\" cy=\"386\" r=\"3.0\" style=\"fill:rgb(217, 220, 224);stroke:black;stroke-width:1.0\"/><circle cx=\"389\" cy=\"403\" r=\"3.0\" style=\"fill:rgb(76, 102, 214);stroke:black;stroke-width:1.0\"/><circle cx=\"338\" cy=\"194\" r=\"3.0\" style=\"fill:rgb(217, 220, 224);stroke:black;stroke-width:1.0\"/><circle cx=\"545\" cy=\"332\" r=\"3.0\" style=\"fill:rgb(239, 206, 188);stroke:black;stroke-width:1.0\"/><text font-size=\"10\" x=\"151\" y=\"23\">Louis D'hendecourt</text><text font-size=\"10\" x=\"300\" y=\"156\">Gustavo A. Garcia</text><text font-size=\"10\" x=\"406\" y=\"504\">Andrew S. Tupper</text><text font-size=\"10\" x=\"262\" y=\"130\">Cornelia Jäger</text><text font-size=\"10\" x=\"247\" y=\"160\">Xiao-Feng Tang</text><text font-size=\"10\" x=\"474\" y=\"523\">Paul G. Higgs</text><text font-size=\"10\" x=\"726\" y=\"340\">Mijin Lee</text><text font-size=\"10\" x=\"70\" y=\"241\">Sandor Gobi</text><text font-size=\"10\" x=\"203\" y=\"104\">Laurent Nahon</text><text font-size=\"10\" x=\"580\" y=\"403\">Kai Kohler</text><text font-size=\"10\" x=\"87\" y=\"24\">Paola Modica</text><text font-size=\"10\" x=\"72\" y=\"56\">Uwe Meierhenrich</text><text font-size=\"10\" x=\"188\" y=\"177\">Daniele Fulvio</text><text font-size=\"10\" x=\"608\" y=\"379\">Oliver Trapp</text><text font-size=\"10\" x=\"628\" y=\"421\">Kevin Lange</text><text font-size=\"10\" x=\"366\" y=\"444\">Kaitlin E. Cerrillo</text><text font-size=\"10\" x=\"512\" y=\"432\">Ralph E. Pudritz</text><text font-size=\"10\" x=\"313\" y=\"128\">Gaël Rouillé</text><text font-size=\"10\" x=\"26\" y=\"209\">Cornelia Jaeger</text><text font-size=\"10\" x=\"661\" y=\"389\">Dmitry A. Semenov</text><text font-size=\"10\" x=\"395\" y=\"406\">Karan Molaverdikhani</text><text font-size=\"10\" x=\"344\" y=\"197\">Serge A. Krasnokutski</text><text font-size=\"10\" x=\"551\" y=\"335\">Thomas K. Henning</text></svg>"
      ],
      "text/plain": [
       "<IPython.core.display.SVG object>"
      ]
     },
     "execution_count": 89,
     "metadata": {},
     "output_type": "execute_result"
    }
   ],
   "source": [
    "G_check = community_context_dict[communities[7]]['G']\n",
    "draw_community(G_check)"
   ]
  },
  {
   "cell_type": "code",
   "execution_count": 38,
   "id": "5b1ef366",
   "metadata": {},
   "outputs": [
    {
     "data": {
      "text/plain": [
       "['Constraining the Time Interval for the Origin of Life on Earth',\n",
       " 'Did life originate from low-temperature areas of the Universe?',\n",
       " 'Dissociative photoionization of polycyclic aromatic hydrocarbon molecules carrying an ethynyl group',\n",
       " 'Experimental Characterization of the Energetics of Low-temperature Surface Reactions',\n",
       " \"HCN production in Titan's Atmosphere: Coupling quantum chemistry and disequilibrium atmospheric modeling\",\n",
       " 'Interstellar ices: a possible scenario for symmetry breaking of extraterrestrial chiral organic molecules of prebiotic interest',\n",
       " 'Laboratory experiments on the low temperature formation of carbonaceous grains in the ISM',\n",
       " 'Possible Ribose Synthesis in Carbonaceous Planetesimals',\n",
       " 'Prebiotic Vitamin B$_3$ Synthesis in Carbonaceous Planetesimals',\n",
       " 'Towards RNA life on Early Earth: From atmospheric HCN to biomolecule production in warm little ponds']"
      ]
     },
     "execution_count": 38,
     "metadata": {},
     "output_type": "execute_result"
    }
   ],
   "source": [
    "show_author_papers(df, G_check)\n",
    "\n",
    "#Real-Time Bidding by Reinforcement Learning in Display Advertising\n",
    "#Ease-of-Teaching and Language Structure from Emergent Communication\n",
    "#The Hanabi Challenge: A New Frontier for AI Research"
   ]
  },
  {
   "cell_type": "code",
   "execution_count": 87,
   "id": "1712913d",
   "metadata": {},
   "outputs": [
    {
     "name": "stdout",
     "output_type": "stream",
     "text": [
      "Density: 0.22666666666666666\n",
      "Node Count: 25\n"
     ]
    },
    {
     "data": {
      "image/svg+xml": [
       "<svg height=\"540\" width=\"845.0\" xmlns=\"http://www.w3.org/2000/svg\"><path d=\"M 529 220 480 173\" stroke=\"gray\" stroke-width=\"0.2\"/><path d=\"M 529 220 537 180\" stroke=\"gray\" stroke-width=\"0.2\"/><path d=\"M 529 220 580 265\" stroke=\"gray\" stroke-width=\"0.2\"/><path d=\"M 529 220 396 130\" stroke=\"gray\" stroke-width=\"0.2\"/><path d=\"M 529 220 378 180\" stroke=\"gray\" stroke-width=\"0.2\"/><path d=\"M 529 220 709 177\" stroke=\"gray\" stroke-width=\"0.2\"/><path d=\"M 529 220 720 239\" stroke=\"gray\" stroke-width=\"0.2\"/><path d=\"M 529 220 287 308\" stroke=\"gray\" stroke-width=\"0.2\"/><path d=\"M 396 255 480 173\" stroke=\"gray\" stroke-width=\"0.2\"/><path d=\"M 396 255 537 180\" stroke=\"gray\" stroke-width=\"0.2\"/><path d=\"M 396 255 287 308\" stroke=\"gray\" stroke-width=\"0.2\"/><path d=\"M 480 173 529 220\" stroke=\"gray\" stroke-width=\"0.2\"/><path d=\"M 480 173 396 255\" stroke=\"gray\" stroke-width=\"0.2\"/><path d=\"M 480 173 537 180\" stroke=\"gray\" stroke-width=\"0.2\"/><path d=\"M 480 173 580 265\" stroke=\"gray\" stroke-width=\"0.2\"/><path d=\"M 480 173 471 297\" stroke=\"gray\" stroke-width=\"0.2\"/><path d=\"M 480 173 558 20\" stroke=\"gray\" stroke-width=\"0.2\"/><path d=\"M 480 173 396 130\" stroke=\"gray\" stroke-width=\"0.2\"/><path d=\"M 480 173 378 180\" stroke=\"gray\" stroke-width=\"0.2\"/><path d=\"M 480 173 638 50\" stroke=\"gray\" stroke-width=\"0.2\"/><path d=\"M 480 173 287 308\" stroke=\"gray\" stroke-width=\"0.2\"/><path d=\"M 480 173 525 320\" stroke=\"gray\" stroke-width=\"0.2\"/><path d=\"M 45 220 123 216\" stroke=\"gray\" stroke-width=\"0.2\"/><path d=\"M 45 220 68 157\" stroke=\"gray\" stroke-width=\"0.2\"/><path d=\"M 45 220 287 308\" stroke=\"gray\" stroke-width=\"0.2\"/><path d=\"M 45 220 142 145\" stroke=\"gray\" stroke-width=\"0.2\"/><path d=\"M 537 180 529 220\" stroke=\"gray\" stroke-width=\"0.2\"/><path d=\"M 537 180 396 255\" stroke=\"gray\" stroke-width=\"0.2\"/><path d=\"M 537 180 480 173\" stroke=\"gray\" stroke-width=\"0.2\"/><path d=\"M 537 180 580 265\" stroke=\"gray\" stroke-width=\"0.2\"/><path d=\"M 537 180 471 297\" stroke=\"gray\" stroke-width=\"0.2\"/><path d=\"M 537 180 558 20\" stroke=\"gray\" stroke-width=\"0.2\"/><path d=\"M 537 180 396 130\" stroke=\"gray\" stroke-width=\"0.2\"/><path d=\"M 537 180 378 180\" stroke=\"gray\" stroke-width=\"0.2\"/><path d=\"M 537 180 709 177\" stroke=\"gray\" stroke-width=\"0.2\"/><path d=\"M 537 180 720 239\" stroke=\"gray\" stroke-width=\"0.2\"/><path d=\"M 537 180 638 50\" stroke=\"gray\" stroke-width=\"0.2\"/><path d=\"M 537 180 287 308\" stroke=\"gray\" stroke-width=\"0.2\"/><path d=\"M 537 180 525 320\" stroke=\"gray\" stroke-width=\"0.2\"/><path d=\"M 580 265 529 220\" stroke=\"gray\" stroke-width=\"0.2\"/><path d=\"M 580 265 480 173\" stroke=\"gray\" stroke-width=\"0.2\"/><path d=\"M 580 265 537 180\" stroke=\"gray\" stroke-width=\"0.2\"/><path d=\"M 580 265 471 297\" stroke=\"gray\" stroke-width=\"0.2\"/><path d=\"M 580 265 709 177\" stroke=\"gray\" stroke-width=\"0.2\"/><path d=\"M 580 265 720 239\" stroke=\"gray\" stroke-width=\"0.2\"/><path d=\"M 580 265 287 308\" stroke=\"gray\" stroke-width=\"0.2\"/><path d=\"M 580 265 525 320\" stroke=\"gray\" stroke-width=\"0.2\"/><path d=\"M 124 493 98 402\" stroke=\"gray\" stroke-width=\"0.2\"/><path d=\"M 124 493 64 452\" stroke=\"gray\" stroke-width=\"0.2\"/><path d=\"M 124 493 181 461\" stroke=\"gray\" stroke-width=\"0.2\"/><path d=\"M 124 493 287 308\" stroke=\"gray\" stroke-width=\"0.2\"/><path d=\"M 123 216 45 220\" stroke=\"gray\" stroke-width=\"0.2\"/><path d=\"M 123 216 68 157\" stroke=\"gray\" stroke-width=\"0.2\"/><path d=\"M 123 216 287 308\" stroke=\"gray\" stroke-width=\"0.2\"/><path d=\"M 123 216 142 145\" stroke=\"gray\" stroke-width=\"0.2\"/><path d=\"M 98 402 124 493\" stroke=\"gray\" stroke-width=\"0.2\"/><path d=\"M 98 402 20 341\" stroke=\"gray\" stroke-width=\"0.2\"/><path d=\"M 98 402 64 452\" stroke=\"gray\" stroke-width=\"0.2\"/><path d=\"M 98 402 181 461\" stroke=\"gray\" stroke-width=\"0.2\"/><path d=\"M 98 402 287 308\" stroke=\"gray\" stroke-width=\"0.2\"/><path d=\"M 471 297 480 173\" stroke=\"gray\" stroke-width=\"0.2\"/><path d=\"M 471 297 537 180\" stroke=\"gray\" stroke-width=\"0.2\"/><path d=\"M 471 297 580 265\" stroke=\"gray\" stroke-width=\"0.2\"/><path d=\"M 471 297 287 308\" stroke=\"gray\" stroke-width=\"0.2\"/><path d=\"M 471 297 525 320\" stroke=\"gray\" stroke-width=\"0.2\"/><path d=\"M 20 341 98 402\" stroke=\"gray\" stroke-width=\"0.2\"/><path d=\"M 20 341 287 308\" stroke=\"gray\" stroke-width=\"0.2\"/><path d=\"M 558 20 480 173\" stroke=\"gray\" stroke-width=\"0.2\"/><path d=\"M 558 20 537 180\" stroke=\"gray\" stroke-width=\"0.2\"/><path d=\"M 558 20 638 50\" stroke=\"gray\" stroke-width=\"0.2\"/><path d=\"M 64 452 124 493\" stroke=\"gray\" stroke-width=\"0.2\"/><path d=\"M 64 452 98 402\" stroke=\"gray\" stroke-width=\"0.2\"/><path d=\"M 64 452 181 461\" stroke=\"gray\" stroke-width=\"0.2\"/><path d=\"M 64 452 287 308\" stroke=\"gray\" stroke-width=\"0.2\"/><path d=\"M 396 130 529 220\" stroke=\"gray\" stroke-width=\"0.2\"/><path d=\"M 396 130 480 173\" stroke=\"gray\" stroke-width=\"0.2\"/><path d=\"M 396 130 537 180\" stroke=\"gray\" stroke-width=\"0.2\"/><path d=\"M 396 130 378 180\" stroke=\"gray\" stroke-width=\"0.2\"/><path d=\"M 396 130 287 308\" stroke=\"gray\" stroke-width=\"0.2\"/><path d=\"M 427 499 342 520\" stroke=\"gray\" stroke-width=\"0.2\"/><path d=\"M 427 499 287 308\" stroke=\"gray\" stroke-width=\"0.2\"/><path d=\"M 378 180 529 220\" stroke=\"gray\" stroke-width=\"0.2\"/><path d=\"M 378 180 480 173\" stroke=\"gray\" stroke-width=\"0.2\"/><path d=\"M 378 180 537 180\" stroke=\"gray\" stroke-width=\"0.2\"/><path d=\"M 378 180 396 130\" stroke=\"gray\" stroke-width=\"0.2\"/><path d=\"M 378 180 287 308\" stroke=\"gray\" stroke-width=\"0.2\"/><path d=\"M 68 157 45 220\" stroke=\"gray\" stroke-width=\"0.2\"/><path d=\"M 68 157 123 216\" stroke=\"gray\" stroke-width=\"0.2\"/><path d=\"M 68 157 287 308\" stroke=\"gray\" stroke-width=\"0.2\"/><path d=\"M 68 157 142 145\" stroke=\"gray\" stroke-width=\"0.2\"/><path d=\"M 342 520 427 499\" stroke=\"gray\" stroke-width=\"0.2\"/><path d=\"M 342 520 287 308\" stroke=\"gray\" stroke-width=\"0.2\"/><path d=\"M 709 177 529 220\" stroke=\"gray\" stroke-width=\"0.2\"/><path d=\"M 709 177 537 180\" stroke=\"gray\" stroke-width=\"0.2\"/><path d=\"M 709 177 580 265\" stroke=\"gray\" stroke-width=\"0.2\"/><path d=\"M 709 177 720 239\" stroke=\"gray\" stroke-width=\"0.2\"/><path d=\"M 720 239 529 220\" stroke=\"gray\" stroke-width=\"0.2\"/><path d=\"M 720 239 537 180\" stroke=\"gray\" stroke-width=\"0.2\"/><path d=\"M 720 239 580 265\" stroke=\"gray\" stroke-width=\"0.2\"/><path d=\"M 720 239 709 177\" stroke=\"gray\" stroke-width=\"0.2\"/><path d=\"M 638 50 480 173\" stroke=\"gray\" stroke-width=\"0.2\"/><path d=\"M 638 50 537 180\" stroke=\"gray\" stroke-width=\"0.2\"/><path d=\"M 638 50 558 20\" stroke=\"gray\" stroke-width=\"0.2\"/><path d=\"M 181 461 124 493\" stroke=\"gray\" stroke-width=\"0.2\"/><path d=\"M 181 461 98 402\" stroke=\"gray\" stroke-width=\"0.2\"/><path d=\"M 181 461 64 452\" stroke=\"gray\" stroke-width=\"0.2\"/><path d=\"M 181 461 287 308\" stroke=\"gray\" stroke-width=\"0.2\"/><path d=\"M 287 308 529 220\" stroke=\"gray\" stroke-width=\"0.2\"/><path d=\"M 287 308 396 255\" stroke=\"gray\" stroke-width=\"0.2\"/><path d=\"M 287 308 480 173\" stroke=\"gray\" stroke-width=\"0.2\"/><path d=\"M 287 308 45 220\" stroke=\"gray\" stroke-width=\"0.2\"/><path d=\"M 287 308 537 180\" stroke=\"gray\" stroke-width=\"0.2\"/><path d=\"M 287 308 580 265\" stroke=\"gray\" stroke-width=\"0.2\"/><path d=\"M 287 308 124 493\" stroke=\"gray\" stroke-width=\"0.2\"/><path d=\"M 287 308 123 216\" stroke=\"gray\" stroke-width=\"0.2\"/><path d=\"M 287 308 98 402\" stroke=\"gray\" stroke-width=\"0.2\"/><path d=\"M 287 308 471 297\" stroke=\"gray\" stroke-width=\"0.2\"/><path d=\"M 287 308 20 341\" stroke=\"gray\" stroke-width=\"0.2\"/><path d=\"M 287 308 64 452\" stroke=\"gray\" stroke-width=\"0.2\"/><path d=\"M 287 308 396 130\" stroke=\"gray\" stroke-width=\"0.2\"/><path d=\"M 287 308 427 499\" stroke=\"gray\" stroke-width=\"0.2\"/><path d=\"M 287 308 378 180\" stroke=\"gray\" stroke-width=\"0.2\"/><path d=\"M 287 308 68 157\" stroke=\"gray\" stroke-width=\"0.2\"/><path d=\"M 287 308 342 520\" stroke=\"gray\" stroke-width=\"0.2\"/><path d=\"M 287 308 181 461\" stroke=\"gray\" stroke-width=\"0.2\"/><path d=\"M 287 308 142 145\" stroke=\"gray\" stroke-width=\"0.2\"/><path d=\"M 287 308 525 320\" stroke=\"gray\" stroke-width=\"0.2\"/><path d=\"M 142 145 45 220\" stroke=\"gray\" stroke-width=\"0.2\"/><path d=\"M 142 145 123 216\" stroke=\"gray\" stroke-width=\"0.2\"/><path d=\"M 142 145 68 157\" stroke=\"gray\" stroke-width=\"0.2\"/><path d=\"M 142 145 287 308\" stroke=\"gray\" stroke-width=\"0.2\"/><path d=\"M 525 320 480 173\" stroke=\"gray\" stroke-width=\"0.2\"/><path d=\"M 525 320 537 180\" stroke=\"gray\" stroke-width=\"0.2\"/><path d=\"M 525 320 580 265\" stroke=\"gray\" stroke-width=\"0.2\"/><path d=\"M 525 320 471 297\" stroke=\"gray\" stroke-width=\"0.2\"/><path d=\"M 525 320 287 308\" stroke=\"gray\" stroke-width=\"0.2\"/><circle cx=\"529\" cy=\"220\" r=\"3.0\" style=\"fill:rgb(148, 181, 254);stroke:black;stroke-width:1.0\"/><circle cx=\"396\" cy=\"255\" r=\"3.0\" style=\"fill:rgb(66, 88, 202);stroke:black;stroke-width:1.0\"/><circle cx=\"480\" cy=\"173\" r=\"3.0\" style=\"fill:rgb(202, 216, 238);stroke:black;stroke-width:1.0\"/><circle cx=\"45\" cy=\"220\" r=\"3.0\" style=\"fill:rgb(92, 123, 229);stroke:black;stroke-width:1.0\"/><circle cx=\"537\" cy=\"180\" r=\"3.0\" style=\"fill:rgb(230, 215, 207);stroke:black;stroke-width:1.0\"/><circle cx=\"580\" cy=\"265\" r=\"3.0\" style=\"fill:rgb(148, 181, 254);stroke:black;stroke-width:1.0\"/><circle cx=\"124\" cy=\"493\" r=\"3.0\" style=\"fill:rgb(92, 123, 229);stroke:black;stroke-width:1.0\"/><circle cx=\"123\" cy=\"216\" r=\"3.0\" style=\"fill:rgb(92, 123, 229);stroke:black;stroke-width:1.0\"/><circle cx=\"98\" cy=\"402\" r=\"3.0\" style=\"fill:rgb(116, 151, 245);stroke:black;stroke-width:1.0\"/><circle cx=\"471\" cy=\"297\" r=\"3.0\" style=\"fill:rgb(96, 128, 232);stroke:black;stroke-width:1.0\"/><circle cx=\"20\" cy=\"341\" r=\"3.0\" style=\"fill:rgb(58, 76, 192);stroke:black;stroke-width:1.0\"/><circle cx=\"558\" cy=\"20\" r=\"3.0\" style=\"fill:rgb(66, 88, 202);stroke:black;stroke-width:1.0\"/><circle cx=\"64\" cy=\"452\" r=\"3.0\" style=\"fill:rgb(92, 123, 229);stroke:black;stroke-width:1.0\"/><circle cx=\"396\" cy=\"130\" r=\"3.0\" style=\"fill:rgb(96, 128, 232);stroke:black;stroke-width:1.0\"/><circle cx=\"427\" cy=\"499\" r=\"3.0\" style=\"fill:rgb(60, 79, 195);stroke:black;stroke-width:1.0\"/><circle cx=\"378\" cy=\"180\" r=\"3.0\" style=\"fill:rgb(96, 128, 232);stroke:black;stroke-width:1.0\"/><circle cx=\"68\" cy=\"157\" r=\"3.0\" style=\"fill:rgb(92, 123, 229);stroke:black;stroke-width:1.0\"/><circle cx=\"342\" cy=\"520\" r=\"3.0\" style=\"fill:rgb(60, 79, 195);stroke:black;stroke-width:1.0\"/><circle cx=\"709\" cy=\"177\" r=\"3.0\" style=\"fill:rgb(82, 110, 220);stroke:black;stroke-width:1.0\"/><circle cx=\"720\" cy=\"239\" r=\"3.0\" style=\"fill:rgb(82, 110, 220);stroke:black;stroke-width:1.0\"/><circle cx=\"638\" cy=\"50\" r=\"3.0\" style=\"fill:rgb(66, 88, 202);stroke:black;stroke-width:1.0\"/><circle cx=\"181\" cy=\"461\" r=\"3.0\" style=\"fill:rgb(92, 123, 229);stroke:black;stroke-width:1.0\"/><circle cx=\"287\" cy=\"308\" r=\"3.0\" style=\"fill:rgb(179, 3, 38);stroke:black;stroke-width:1.0\"/><circle cx=\"142\" cy=\"145\" r=\"3.0\" style=\"fill:rgb(92, 123, 229);stroke:black;stroke-width:1.0\"/><circle cx=\"525\" cy=\"320\" r=\"3.0\" style=\"fill:rgb(96, 128, 232);stroke:black;stroke-width:1.0\"/><text font-size=\"10\" x=\"535\" y=\"223\">Fadi Farha</text><text font-size=\"10\" x=\"402\" y=\"258\">Chris Nugent</text><text font-size=\"10\" x=\"486\" y=\"176\">Sahraoui Dhelim</text><text font-size=\"10\" x=\"51\" y=\"223\">Zhongzhe Xiao</text><text font-size=\"10\" x=\"543\" y=\"183\">Huansheng Ning</text><text font-size=\"10\" x=\"586\" y=\"268\">Wenxi Wang</text><text font-size=\"10\" x=\"130\" y=\"496\">Gilles Hénaff</text><text font-size=\"10\" x=\"129\" y=\"219\">Zhi Tao</text><text font-size=\"10\" x=\"104\" y=\"405\">Emmanuel Dellandréa</text><text font-size=\"10\" x=\"477\" y=\"300\">Weishan Zhang</text><text font-size=\"10\" x=\"26\" y=\"344\">Amaury Depierre</text><text font-size=\"10\" x=\"564\" y=\"23\">Nyothiri Aung</text><text font-size=\"10\" x=\"70\" y=\"455\">Corentin Abgrall</text><text font-size=\"10\" x=\"402\" y=\"133\">Luigi Atzori</text><text font-size=\"10\" x=\"433\" y=\"502\">Hugues Moreau</text><text font-size=\"10\" x=\"384\" y=\"183\">Mahmoud Daneshmand</text><text font-size=\"10\" x=\"74\" y=\"160\">Weibei Dou</text><text font-size=\"10\" x=\"348\" y=\"523\">Andréa Vassilev</text><text font-size=\"10\" x=\"715\" y=\"180\">Zhangfeng Pi</text><text font-size=\"10\" x=\"726\" y=\"242\">Shunkun Yang</text><text font-size=\"10\" x=\"644\" y=\"53\">Mohammed Amine Bouras</text><text font-size=\"10\" x=\"187\" y=\"464\">Thomas Duboudin</text><text font-size=\"10\" x=\"293\" y=\"311\">Liming Chen</text><text font-size=\"10\" x=\"148\" y=\"148\">Ying Chen</text><text font-size=\"10\" x=\"531\" y=\"323\">Feifei Shi</text></svg>"
      ],
      "text/plain": [
       "<IPython.core.display.SVG object>"
      ]
     },
     "execution_count": 87,
     "metadata": {},
     "output_type": "execute_result"
    }
   ],
   "source": [
    "G_check = community_context_dict[communities[8]]['G']\n",
    "draw_community(G_check)"
   ]
  },
  {
   "cell_type": "code",
   "execution_count": 40,
   "id": "e980d956",
   "metadata": {},
   "outputs": [
    {
     "data": {
      "text/plain": [
       "['A Review on Serious Games for Disaster Relief',\n",
       " 'A Survey of Hybrid Human-Artificial Intelligence for Social Computing',\n",
       " 'A Survey on Personality-Aware Recommendation Systems',\n",
       " 'Artificial Intelligence for Suicide Assessment using Audiovisual Cues: A Review',\n",
       " 'Data Fusion for Deep Learning on Transport Mode Detection: A Case Study',\n",
       " 'Encouraging Intra-Class Diversity Through a Reverse Contrastive Loss for Better Single-Source Domain Generalization',\n",
       " 'IoT-Enabled Social Relationships Meet Artificial Social Intelligence',\n",
       " 'Jacquard: A Large Scale Dataset for Robotic Grasp Detection',\n",
       " 'Look Beyond Bias with Entropic Adversarial Data Augmentation',\n",
       " 'MES-P: an Emotional Tonal Speech Dataset in Mandarin Chinese with Distal and Proximal Labels']"
      ]
     },
     "execution_count": 40,
     "metadata": {},
     "output_type": "execute_result"
    }
   ],
   "source": [
    "show_author_papers(df, G_check)\n",
    "\n",
    "#Large Graph Models: A Perspective"
   ]
  },
  {
   "cell_type": "code",
   "execution_count": 104,
   "id": "0a2d6caa",
   "metadata": {},
   "outputs": [
    {
     "name": "stdout",
     "output_type": "stream",
     "text": [
      "Density: 0.23723723723723725\n",
      "Node Count: 37\n"
     ]
    },
    {
     "data": {
      "image/svg+xml": [
       "<svg height=\"540\" width=\"855.0\" xmlns=\"http://www.w3.org/2000/svg\"><path d=\"M 577 520 588 426\" stroke=\"gray\" stroke-width=\"0.2\"/><path d=\"M 577 520 461 449\" stroke=\"gray\" stroke-width=\"0.2\"/><path d=\"M 577 520 632 503\" stroke=\"gray\" stroke-width=\"0.2\"/><path d=\"M 577 520 555 500\" stroke=\"gray\" stroke-width=\"0.2\"/><path d=\"M 577 520 612 473\" stroke=\"gray\" stroke-width=\"0.2\"/><path d=\"M 577 520 609 494\" stroke=\"gray\" stroke-width=\"0.2\"/><path d=\"M 407 410 295 394\" stroke=\"gray\" stroke-width=\"0.2\"/><path d=\"M 407 410 461 449\" stroke=\"gray\" stroke-width=\"0.2\"/><path d=\"M 407 410 358 453\" stroke=\"gray\" stroke-width=\"0.2\"/><path d=\"M 407 410 338 438\" stroke=\"gray\" stroke-width=\"0.2\"/><path d=\"M 407 410 369 385\" stroke=\"gray\" stroke-width=\"0.2\"/><path d=\"M 407 410 377 411\" stroke=\"gray\" stroke-width=\"0.2\"/><path d=\"M 407 410 403 433\" stroke=\"gray\" stroke-width=\"0.2\"/><path d=\"M 407 410 341 418\" stroke=\"gray\" stroke-width=\"0.2\"/><path d=\"M 407 410 349 398\" stroke=\"gray\" stroke-width=\"0.2\"/><path d=\"M 407 410 395 389\" stroke=\"gray\" stroke-width=\"0.2\"/><path d=\"M 407 410 387 451\" stroke=\"gray\" stroke-width=\"0.2\"/><path d=\"M 407 410 466 394\" stroke=\"gray\" stroke-width=\"0.2\"/><path d=\"M 407 410 370 433\" stroke=\"gray\" stroke-width=\"0.2\"/><path d=\"M 102 155 20 226\" stroke=\"gray\" stroke-width=\"0.2\"/><path d=\"M 102 155 90 71\" stroke=\"gray\" stroke-width=\"0.2\"/><path d=\"M 102 155 135 68\" stroke=\"gray\" stroke-width=\"0.2\"/><path d=\"M 102 155 121 294\" stroke=\"gray\" stroke-width=\"0.2\"/><path d=\"M 102 155 203 72\" stroke=\"gray\" stroke-width=\"0.2\"/><path d=\"M 102 155 119 100\" stroke=\"gray\" stroke-width=\"0.2\"/><path d=\"M 720 502 632 503\" stroke=\"gray\" stroke-width=\"0.2\"/><path d=\"M 720 502 612 473\" stroke=\"gray\" stroke-width=\"0.2\"/><path d=\"M 720 502 609 494\" stroke=\"gray\" stroke-width=\"0.2\"/><path d=\"M 588 426 577 520\" stroke=\"gray\" stroke-width=\"0.2\"/><path d=\"M 588 426 461 449\" stroke=\"gray\" stroke-width=\"0.2\"/><path d=\"M 588 426 632 503\" stroke=\"gray\" stroke-width=\"0.2\"/><path d=\"M 588 426 639 357\" stroke=\"gray\" stroke-width=\"0.2\"/><path d=\"M 588 426 555 500\" stroke=\"gray\" stroke-width=\"0.2\"/><path d=\"M 588 426 614 336\" stroke=\"gray\" stroke-width=\"0.2\"/><path d=\"M 588 426 588 364\" stroke=\"gray\" stroke-width=\"0.2\"/><path d=\"M 588 426 612 473\" stroke=\"gray\" stroke-width=\"0.2\"/><path d=\"M 588 426 625 381\" stroke=\"gray\" stroke-width=\"0.2\"/><path d=\"M 588 426 577 337\" stroke=\"gray\" stroke-width=\"0.2\"/><path d=\"M 588 426 466 394\" stroke=\"gray\" stroke-width=\"0.2\"/><path d=\"M 588 426 609 494\" stroke=\"gray\" stroke-width=\"0.2\"/><path d=\"M 295 394 407 410\" stroke=\"gray\" stroke-width=\"0.2\"/><path d=\"M 295 394 461 449\" stroke=\"gray\" stroke-width=\"0.2\"/><path d=\"M 295 394 358 453\" stroke=\"gray\" stroke-width=\"0.2\"/><path d=\"M 295 394 338 438\" stroke=\"gray\" stroke-width=\"0.2\"/><path d=\"M 295 394 369 385\" stroke=\"gray\" stroke-width=\"0.2\"/><path d=\"M 295 394 377 411\" stroke=\"gray\" stroke-width=\"0.2\"/><path d=\"M 295 394 403 433\" stroke=\"gray\" stroke-width=\"0.2\"/><path d=\"M 295 394 121 387\" stroke=\"gray\" stroke-width=\"0.2\"/><path d=\"M 295 394 341 418\" stroke=\"gray\" stroke-width=\"0.2\"/><path d=\"M 295 394 121 294\" stroke=\"gray\" stroke-width=\"0.2\"/><path d=\"M 295 394 349 398\" stroke=\"gray\" stroke-width=\"0.2\"/><path d=\"M 295 394 395 389\" stroke=\"gray\" stroke-width=\"0.2\"/><path d=\"M 295 394 387 451\" stroke=\"gray\" stroke-width=\"0.2\"/><path d=\"M 295 394 466 394\" stroke=\"gray\" stroke-width=\"0.2\"/><path d=\"M 295 394 135 359\" stroke=\"gray\" stroke-width=\"0.2\"/><path d=\"M 295 394 370 433\" stroke=\"gray\" stroke-width=\"0.2\"/><path d=\"M 461 449 577 520\" stroke=\"gray\" stroke-width=\"0.2\"/><path d=\"M 461 449 407 410\" stroke=\"gray\" stroke-width=\"0.2\"/><path d=\"M 461 449 588 426\" stroke=\"gray\" stroke-width=\"0.2\"/><path d=\"M 461 449 295 394\" stroke=\"gray\" stroke-width=\"0.2\"/><path d=\"M 461 449 358 453\" stroke=\"gray\" stroke-width=\"0.2\"/><path d=\"M 461 449 632 503\" stroke=\"gray\" stroke-width=\"0.2\"/><path d=\"M 461 449 338 438\" stroke=\"gray\" stroke-width=\"0.2\"/><path d=\"M 461 449 369 385\" stroke=\"gray\" stroke-width=\"0.2\"/><path d=\"M 461 449 377 411\" stroke=\"gray\" stroke-width=\"0.2\"/><path d=\"M 461 449 403 433\" stroke=\"gray\" stroke-width=\"0.2\"/><path d=\"M 461 449 341 418\" stroke=\"gray\" stroke-width=\"0.2\"/><path d=\"M 461 449 555 500\" stroke=\"gray\" stroke-width=\"0.2\"/><path d=\"M 461 449 349 398\" stroke=\"gray\" stroke-width=\"0.2\"/><path d=\"M 461 449 395 389\" stroke=\"gray\" stroke-width=\"0.2\"/><path d=\"M 461 449 612 473\" stroke=\"gray\" stroke-width=\"0.2\"/><path d=\"M 461 449 387 451\" stroke=\"gray\" stroke-width=\"0.2\"/><path d=\"M 461 449 466 394\" stroke=\"gray\" stroke-width=\"0.2\"/><path d=\"M 461 449 370 433\" stroke=\"gray\" stroke-width=\"0.2\"/><path d=\"M 461 449 609 494\" stroke=\"gray\" stroke-width=\"0.2\"/><path d=\"M 358 453 407 410\" stroke=\"gray\" stroke-width=\"0.2\"/><path d=\"M 358 453 295 394\" stroke=\"gray\" stroke-width=\"0.2\"/><path d=\"M 358 453 461 449\" stroke=\"gray\" stroke-width=\"0.2\"/><path d=\"M 358 453 338 438\" stroke=\"gray\" stroke-width=\"0.2\"/><path d=\"M 358 453 369 385\" stroke=\"gray\" stroke-width=\"0.2\"/><path d=\"M 358 453 377 411\" stroke=\"gray\" stroke-width=\"0.2\"/><path d=\"M 358 453 403 433\" stroke=\"gray\" stroke-width=\"0.2\"/><path d=\"M 358 453 341 418\" stroke=\"gray\" stroke-width=\"0.2\"/><path d=\"M 358 453 349 398\" stroke=\"gray\" stroke-width=\"0.2\"/><path d=\"M 358 453 395 389\" stroke=\"gray\" stroke-width=\"0.2\"/><path d=\"M 358 453 387 451\" stroke=\"gray\" stroke-width=\"0.2\"/><path d=\"M 358 453 466 394\" stroke=\"gray\" stroke-width=\"0.2\"/><path d=\"M 358 453 370 433\" stroke=\"gray\" stroke-width=\"0.2\"/><path d=\"M 632 503 577 520\" stroke=\"gray\" stroke-width=\"0.2\"/><path d=\"M 632 503 720 502\" stroke=\"gray\" stroke-width=\"0.2\"/><path d=\"M 632 503 588 426\" stroke=\"gray\" stroke-width=\"0.2\"/><path d=\"M 632 503 461 449\" stroke=\"gray\" stroke-width=\"0.2\"/><path d=\"M 632 503 555 500\" stroke=\"gray\" stroke-width=\"0.2\"/><path d=\"M 632 503 612 473\" stroke=\"gray\" stroke-width=\"0.2\"/><path d=\"M 632 503 609 494\" stroke=\"gray\" stroke-width=\"0.2\"/><path d=\"M 338 438 407 410\" stroke=\"gray\" stroke-width=\"0.2\"/><path d=\"M 338 438 295 394\" stroke=\"gray\" stroke-width=\"0.2\"/><path d=\"M 338 438 461 449\" stroke=\"gray\" stroke-width=\"0.2\"/><path d=\"M 338 438 358 453\" stroke=\"gray\" stroke-width=\"0.2\"/><path d=\"M 338 438 369 385\" stroke=\"gray\" stroke-width=\"0.2\"/><path d=\"M 338 438 377 411\" stroke=\"gray\" stroke-width=\"0.2\"/><path d=\"M 338 438 403 433\" stroke=\"gray\" stroke-width=\"0.2\"/><path d=\"M 338 438 341 418\" stroke=\"gray\" stroke-width=\"0.2\"/><path d=\"M 338 438 349 398\" stroke=\"gray\" stroke-width=\"0.2\"/><path d=\"M 338 438 395 389\" stroke=\"gray\" stroke-width=\"0.2\"/><path d=\"M 338 438 387 451\" stroke=\"gray\" stroke-width=\"0.2\"/><path d=\"M 338 438 466 394\" stroke=\"gray\" stroke-width=\"0.2\"/><path d=\"M 338 438 370 433\" stroke=\"gray\" stroke-width=\"0.2\"/><path d=\"M 639 357 588 426\" stroke=\"gray\" stroke-width=\"0.2\"/><path d=\"M 639 357 614 336\" stroke=\"gray\" stroke-width=\"0.2\"/><path d=\"M 639 357 588 364\" stroke=\"gray\" stroke-width=\"0.2\"/><path d=\"M 639 357 625 381\" stroke=\"gray\" stroke-width=\"0.2\"/><path d=\"M 639 357 577 337\" stroke=\"gray\" stroke-width=\"0.2\"/><path d=\"M 639 357 466 394\" stroke=\"gray\" stroke-width=\"0.2\"/><path d=\"M 369 385 407 410\" stroke=\"gray\" stroke-width=\"0.2\"/><path d=\"M 369 385 295 394\" stroke=\"gray\" stroke-width=\"0.2\"/><path d=\"M 369 385 461 449\" stroke=\"gray\" stroke-width=\"0.2\"/><path d=\"M 369 385 358 453\" stroke=\"gray\" stroke-width=\"0.2\"/><path d=\"M 369 385 338 438\" stroke=\"gray\" stroke-width=\"0.2\"/><path d=\"M 369 385 377 411\" stroke=\"gray\" stroke-width=\"0.2\"/><path d=\"M 369 385 403 433\" stroke=\"gray\" stroke-width=\"0.2\"/><path d=\"M 369 385 341 418\" stroke=\"gray\" stroke-width=\"0.2\"/><path d=\"M 369 385 349 398\" stroke=\"gray\" stroke-width=\"0.2\"/><path d=\"M 369 385 395 389\" stroke=\"gray\" stroke-width=\"0.2\"/><path d=\"M 369 385 387 451\" stroke=\"gray\" stroke-width=\"0.2\"/><path d=\"M 369 385 466 394\" stroke=\"gray\" stroke-width=\"0.2\"/><path d=\"M 369 385 370 433\" stroke=\"gray\" stroke-width=\"0.2\"/><path d=\"M 317 20 326 58\" stroke=\"gray\" stroke-width=\"0.2\"/><path d=\"M 317 20 203 72\" stroke=\"gray\" stroke-width=\"0.2\"/><path d=\"M 377 411 407 410\" stroke=\"gray\" stroke-width=\"0.2\"/><path d=\"M 377 411 295 394\" stroke=\"gray\" stroke-width=\"0.2\"/><path d=\"M 377 411 461 449\" stroke=\"gray\" stroke-width=\"0.2\"/><path d=\"M 377 411 358 453\" stroke=\"gray\" stroke-width=\"0.2\"/><path d=\"M 377 411 338 438\" stroke=\"gray\" stroke-width=\"0.2\"/><path d=\"M 377 411 369 385\" stroke=\"gray\" stroke-width=\"0.2\"/><path d=\"M 377 411 403 433\" stroke=\"gray\" stroke-width=\"0.2\"/><path d=\"M 377 411 341 418\" stroke=\"gray\" stroke-width=\"0.2\"/><path d=\"M 377 411 349 398\" stroke=\"gray\" stroke-width=\"0.2\"/><path d=\"M 377 411 395 389\" stroke=\"gray\" stroke-width=\"0.2\"/><path d=\"M 377 411 387 451\" stroke=\"gray\" stroke-width=\"0.2\"/><path d=\"M 377 411 466 394\" stroke=\"gray\" stroke-width=\"0.2\"/><path d=\"M 377 411 370 433\" stroke=\"gray\" stroke-width=\"0.2\"/><path d=\"M 403 433 407 410\" stroke=\"gray\" stroke-width=\"0.2\"/><path d=\"M 403 433 295 394\" stroke=\"gray\" stroke-width=\"0.2\"/><path d=\"M 403 433 461 449\" stroke=\"gray\" stroke-width=\"0.2\"/><path d=\"M 403 433 358 453\" stroke=\"gray\" stroke-width=\"0.2\"/><path d=\"M 403 433 338 438\" stroke=\"gray\" stroke-width=\"0.2\"/><path d=\"M 403 433 369 385\" stroke=\"gray\" stroke-width=\"0.2\"/><path d=\"M 403 433 377 411\" stroke=\"gray\" stroke-width=\"0.2\"/><path d=\"M 403 433 341 418\" stroke=\"gray\" stroke-width=\"0.2\"/><path d=\"M 403 433 349 398\" stroke=\"gray\" stroke-width=\"0.2\"/><path d=\"M 403 433 395 389\" stroke=\"gray\" stroke-width=\"0.2\"/><path d=\"M 403 433 387 451\" stroke=\"gray\" stroke-width=\"0.2\"/><path d=\"M 403 433 466 394\" stroke=\"gray\" stroke-width=\"0.2\"/><path d=\"M 403 433 370 433\" stroke=\"gray\" stroke-width=\"0.2\"/><path d=\"M 121 387 295 394\" stroke=\"gray\" stroke-width=\"0.2\"/><path d=\"M 121 387 121 294\" stroke=\"gray\" stroke-width=\"0.2\"/><path d=\"M 121 387 135 359\" stroke=\"gray\" stroke-width=\"0.2\"/><path d=\"M 341 418 407 410\" stroke=\"gray\" stroke-width=\"0.2\"/><path d=\"M 341 418 295 394\" stroke=\"gray\" stroke-width=\"0.2\"/><path d=\"M 341 418 461 449\" stroke=\"gray\" stroke-width=\"0.2\"/><path d=\"M 341 418 358 453\" stroke=\"gray\" stroke-width=\"0.2\"/><path d=\"M 341 418 338 438\" stroke=\"gray\" stroke-width=\"0.2\"/><path d=\"M 341 418 369 385\" stroke=\"gray\" stroke-width=\"0.2\"/><path d=\"M 341 418 377 411\" stroke=\"gray\" stroke-width=\"0.2\"/><path d=\"M 341 418 403 433\" stroke=\"gray\" stroke-width=\"0.2\"/><path d=\"M 341 418 349 398\" stroke=\"gray\" stroke-width=\"0.2\"/><path d=\"M 341 418 395 389\" stroke=\"gray\" stroke-width=\"0.2\"/><path d=\"M 341 418 387 451\" stroke=\"gray\" stroke-width=\"0.2\"/><path d=\"M 341 418 466 394\" stroke=\"gray\" stroke-width=\"0.2\"/><path d=\"M 341 418 370 433\" stroke=\"gray\" stroke-width=\"0.2\"/><path d=\"M 20 226 102 155\" stroke=\"gray\" stroke-width=\"0.2\"/><path d=\"M 20 226 121 294\" stroke=\"gray\" stroke-width=\"0.2\"/><path d=\"M 326 58 317 20\" stroke=\"gray\" stroke-width=\"0.2\"/><path d=\"M 326 58 203 72\" stroke=\"gray\" stroke-width=\"0.2\"/><path d=\"M 555 500 577 520\" stroke=\"gray\" stroke-width=\"0.2\"/><path d=\"M 555 500 588 426\" stroke=\"gray\" stroke-width=\"0.2\"/><path d=\"M 555 500 461 449\" stroke=\"gray\" stroke-width=\"0.2\"/><path d=\"M 555 500 632 503\" stroke=\"gray\" stroke-width=\"0.2\"/><path d=\"M 555 500 612 473\" stroke=\"gray\" stroke-width=\"0.2\"/><path d=\"M 555 500 609 494\" stroke=\"gray\" stroke-width=\"0.2\"/><path d=\"M 90 71 102 155\" stroke=\"gray\" stroke-width=\"0.2\"/><path d=\"M 90 71 135 68\" stroke=\"gray\" stroke-width=\"0.2\"/><path d=\"M 90 71 203 72\" stroke=\"gray\" stroke-width=\"0.2\"/><path d=\"M 90 71 119 100\" stroke=\"gray\" stroke-width=\"0.2\"/><path d=\"M 135 68 102 155\" stroke=\"gray\" stroke-width=\"0.2\"/><path d=\"M 135 68 90 71\" stroke=\"gray\" stroke-width=\"0.2\"/><path d=\"M 135 68 203 72\" stroke=\"gray\" stroke-width=\"0.2\"/><path d=\"M 135 68 119 100\" stroke=\"gray\" stroke-width=\"0.2\"/><path d=\"M 121 294 102 155\" stroke=\"gray\" stroke-width=\"0.2\"/><path d=\"M 121 294 295 394\" stroke=\"gray\" stroke-width=\"0.2\"/><path d=\"M 121 294 121 387\" stroke=\"gray\" stroke-width=\"0.2\"/><path d=\"M 121 294 20 226\" stroke=\"gray\" stroke-width=\"0.2\"/><path d=\"M 121 294 135 359\" stroke=\"gray\" stroke-width=\"0.2\"/><path d=\"M 349 398 407 410\" stroke=\"gray\" stroke-width=\"0.2\"/><path d=\"M 349 398 295 394\" stroke=\"gray\" stroke-width=\"0.2\"/><path d=\"M 349 398 461 449\" stroke=\"gray\" stroke-width=\"0.2\"/><path d=\"M 349 398 358 453\" stroke=\"gray\" stroke-width=\"0.2\"/><path d=\"M 349 398 338 438\" stroke=\"gray\" stroke-width=\"0.2\"/><path d=\"M 349 398 369 385\" stroke=\"gray\" stroke-width=\"0.2\"/><path d=\"M 349 398 377 411\" stroke=\"gray\" stroke-width=\"0.2\"/><path d=\"M 349 398 403 433\" stroke=\"gray\" stroke-width=\"0.2\"/><path d=\"M 349 398 341 418\" stroke=\"gray\" stroke-width=\"0.2\"/><path d=\"M 349 398 395 389\" stroke=\"gray\" stroke-width=\"0.2\"/><path d=\"M 349 398 387 451\" stroke=\"gray\" stroke-width=\"0.2\"/><path d=\"M 349 398 466 394\" stroke=\"gray\" stroke-width=\"0.2\"/><path d=\"M 349 398 370 433\" stroke=\"gray\" stroke-width=\"0.2\"/><path d=\"M 614 336 588 426\" stroke=\"gray\" stroke-width=\"0.2\"/><path d=\"M 614 336 639 357\" stroke=\"gray\" stroke-width=\"0.2\"/><path d=\"M 614 336 588 364\" stroke=\"gray\" stroke-width=\"0.2\"/><path d=\"M 614 336 625 381\" stroke=\"gray\" stroke-width=\"0.2\"/><path d=\"M 614 336 577 337\" stroke=\"gray\" stroke-width=\"0.2\"/><path d=\"M 614 336 466 394\" stroke=\"gray\" stroke-width=\"0.2\"/><path d=\"M 203 72 102 155\" stroke=\"gray\" stroke-width=\"0.2\"/><path d=\"M 203 72 317 20\" stroke=\"gray\" stroke-width=\"0.2\"/><path d=\"M 203 72 326 58\" stroke=\"gray\" stroke-width=\"0.2\"/><path d=\"M 203 72 90 71\" stroke=\"gray\" stroke-width=\"0.2\"/><path d=\"M 203 72 135 68\" stroke=\"gray\" stroke-width=\"0.2\"/><path d=\"M 203 72 119 100\" stroke=\"gray\" stroke-width=\"0.2\"/><path d=\"M 588 364 588 426\" stroke=\"gray\" stroke-width=\"0.2\"/><path d=\"M 588 364 639 357\" stroke=\"gray\" stroke-width=\"0.2\"/><path d=\"M 588 364 614 336\" stroke=\"gray\" stroke-width=\"0.2\"/><path d=\"M 588 364 625 381\" stroke=\"gray\" stroke-width=\"0.2\"/><path d=\"M 588 364 577 337\" stroke=\"gray\" stroke-width=\"0.2\"/><path d=\"M 588 364 466 394\" stroke=\"gray\" stroke-width=\"0.2\"/><path d=\"M 119 100 102 155\" stroke=\"gray\" stroke-width=\"0.2\"/><path d=\"M 119 100 90 71\" stroke=\"gray\" stroke-width=\"0.2\"/><path d=\"M 119 100 135 68\" stroke=\"gray\" stroke-width=\"0.2\"/><path d=\"M 119 100 203 72\" stroke=\"gray\" stroke-width=\"0.2\"/><path d=\"M 395 389 407 410\" stroke=\"gray\" stroke-width=\"0.2\"/><path d=\"M 395 389 295 394\" stroke=\"gray\" stroke-width=\"0.2\"/><path d=\"M 395 389 461 449\" stroke=\"gray\" stroke-width=\"0.2\"/><path d=\"M 395 389 358 453\" stroke=\"gray\" stroke-width=\"0.2\"/><path d=\"M 395 389 338 438\" stroke=\"gray\" stroke-width=\"0.2\"/><path d=\"M 395 389 369 385\" stroke=\"gray\" stroke-width=\"0.2\"/><path d=\"M 395 389 377 411\" stroke=\"gray\" stroke-width=\"0.2\"/><path d=\"M 395 389 403 433\" stroke=\"gray\" stroke-width=\"0.2\"/><path d=\"M 395 389 341 418\" stroke=\"gray\" stroke-width=\"0.2\"/><path d=\"M 395 389 349 398\" stroke=\"gray\" stroke-width=\"0.2\"/><path d=\"M 395 389 387 451\" stroke=\"gray\" stroke-width=\"0.2\"/><path d=\"M 395 389 466 394\" stroke=\"gray\" stroke-width=\"0.2\"/><path d=\"M 395 389 370 433\" stroke=\"gray\" stroke-width=\"0.2\"/><path d=\"M 612 473 577 520\" stroke=\"gray\" stroke-width=\"0.2\"/><path d=\"M 612 473 720 502\" stroke=\"gray\" stroke-width=\"0.2\"/><path d=\"M 612 473 588 426\" stroke=\"gray\" stroke-width=\"0.2\"/><path d=\"M 612 473 461 449\" stroke=\"gray\" stroke-width=\"0.2\"/><path d=\"M 612 473 632 503\" stroke=\"gray\" stroke-width=\"0.2\"/><path d=\"M 612 473 555 500\" stroke=\"gray\" stroke-width=\"0.2\"/><path d=\"M 612 473 609 494\" stroke=\"gray\" stroke-width=\"0.2\"/><path d=\"M 625 381 588 426\" stroke=\"gray\" stroke-width=\"0.2\"/><path d=\"M 625 381 639 357\" stroke=\"gray\" stroke-width=\"0.2\"/><path d=\"M 625 381 614 336\" stroke=\"gray\" stroke-width=\"0.2\"/><path d=\"M 625 381 588 364\" stroke=\"gray\" stroke-width=\"0.2\"/><path d=\"M 625 381 577 337\" stroke=\"gray\" stroke-width=\"0.2\"/><path d=\"M 625 381 466 394\" stroke=\"gray\" stroke-width=\"0.2\"/><path d=\"M 577 337 588 426\" stroke=\"gray\" stroke-width=\"0.2\"/><path d=\"M 577 337 639 357\" stroke=\"gray\" stroke-width=\"0.2\"/><path d=\"M 577 337 614 336\" stroke=\"gray\" stroke-width=\"0.2\"/><path d=\"M 577 337 588 364\" stroke=\"gray\" stroke-width=\"0.2\"/><path d=\"M 577 337 625 381\" stroke=\"gray\" stroke-width=\"0.2\"/><path d=\"M 577 337 466 394\" stroke=\"gray\" stroke-width=\"0.2\"/><path d=\"M 387 451 407 410\" stroke=\"gray\" stroke-width=\"0.2\"/><path d=\"M 387 451 295 394\" stroke=\"gray\" stroke-width=\"0.2\"/><path d=\"M 387 451 461 449\" stroke=\"gray\" stroke-width=\"0.2\"/><path d=\"M 387 451 358 453\" stroke=\"gray\" stroke-width=\"0.2\"/><path d=\"M 387 451 338 438\" stroke=\"gray\" stroke-width=\"0.2\"/><path d=\"M 387 451 369 385\" stroke=\"gray\" stroke-width=\"0.2\"/><path d=\"M 387 451 377 411\" stroke=\"gray\" stroke-width=\"0.2\"/><path d=\"M 387 451 403 433\" stroke=\"gray\" stroke-width=\"0.2\"/><path d=\"M 387 451 341 418\" stroke=\"gray\" stroke-width=\"0.2\"/><path d=\"M 387 451 349 398\" stroke=\"gray\" stroke-width=\"0.2\"/><path d=\"M 387 451 395 389\" stroke=\"gray\" stroke-width=\"0.2\"/><path d=\"M 387 451 466 394\" stroke=\"gray\" stroke-width=\"0.2\"/><path d=\"M 387 451 370 433\" stroke=\"gray\" stroke-width=\"0.2\"/><path d=\"M 466 394 407 410\" stroke=\"gray\" stroke-width=\"0.2\"/><path d=\"M 466 394 588 426\" stroke=\"gray\" stroke-width=\"0.2\"/><path d=\"M 466 394 295 394\" stroke=\"gray\" stroke-width=\"0.2\"/><path d=\"M 466 394 461 449\" stroke=\"gray\" stroke-width=\"0.2\"/><path d=\"M 466 394 358 453\" stroke=\"gray\" stroke-width=\"0.2\"/><path d=\"M 466 394 338 438\" stroke=\"gray\" stroke-width=\"0.2\"/><path d=\"M 466 394 639 357\" stroke=\"gray\" stroke-width=\"0.2\"/><path d=\"M 466 394 369 385\" stroke=\"gray\" stroke-width=\"0.2\"/><path d=\"M 466 394 377 411\" stroke=\"gray\" stroke-width=\"0.2\"/><path d=\"M 466 394 403 433\" stroke=\"gray\" stroke-width=\"0.2\"/><path d=\"M 466 394 341 418\" stroke=\"gray\" stroke-width=\"0.2\"/><path d=\"M 466 394 349 398\" stroke=\"gray\" stroke-width=\"0.2\"/><path d=\"M 466 394 614 336\" stroke=\"gray\" stroke-width=\"0.2\"/><path d=\"M 466 394 588 364\" stroke=\"gray\" stroke-width=\"0.2\"/><path d=\"M 466 394 395 389\" stroke=\"gray\" stroke-width=\"0.2\"/><path d=\"M 466 394 625 381\" stroke=\"gray\" stroke-width=\"0.2\"/><path d=\"M 466 394 577 337\" stroke=\"gray\" stroke-width=\"0.2\"/><path d=\"M 466 394 387 451\" stroke=\"gray\" stroke-width=\"0.2\"/><path d=\"M 466 394 370 433\" stroke=\"gray\" stroke-width=\"0.2\"/><path d=\"M 135 359 295 394\" stroke=\"gray\" stroke-width=\"0.2\"/><path d=\"M 135 359 121 387\" stroke=\"gray\" stroke-width=\"0.2\"/><path d=\"M 135 359 121 294\" stroke=\"gray\" stroke-width=\"0.2\"/><path d=\"M 370 433 407 410\" stroke=\"gray\" stroke-width=\"0.2\"/><path d=\"M 370 433 295 394\" stroke=\"gray\" stroke-width=\"0.2\"/><path d=\"M 370 433 461 449\" stroke=\"gray\" stroke-width=\"0.2\"/><path d=\"M 370 433 358 453\" stroke=\"gray\" stroke-width=\"0.2\"/><path d=\"M 370 433 338 438\" stroke=\"gray\" stroke-width=\"0.2\"/><path d=\"M 370 433 369 385\" stroke=\"gray\" stroke-width=\"0.2\"/><path d=\"M 370 433 377 411\" stroke=\"gray\" stroke-width=\"0.2\"/><path d=\"M 370 433 403 433\" stroke=\"gray\" stroke-width=\"0.2\"/><path d=\"M 370 433 341 418\" stroke=\"gray\" stroke-width=\"0.2\"/><path d=\"M 370 433 349 398\" stroke=\"gray\" stroke-width=\"0.2\"/><path d=\"M 370 433 395 389\" stroke=\"gray\" stroke-width=\"0.2\"/><path d=\"M 370 433 387 451\" stroke=\"gray\" stroke-width=\"0.2\"/><path d=\"M 370 433 466 394\" stroke=\"gray\" stroke-width=\"0.2\"/><path d=\"M 609 494 577 520\" stroke=\"gray\" stroke-width=\"0.2\"/><path d=\"M 609 494 720 502\" stroke=\"gray\" stroke-width=\"0.2\"/><path d=\"M 609 494 588 426\" stroke=\"gray\" stroke-width=\"0.2\"/><path d=\"M 609 494 461 449\" stroke=\"gray\" stroke-width=\"0.2\"/><path d=\"M 609 494 632 503\" stroke=\"gray\" stroke-width=\"0.2\"/><path d=\"M 609 494 555 500\" stroke=\"gray\" stroke-width=\"0.2\"/><path d=\"M 609 494 612 473\" stroke=\"gray\" stroke-width=\"0.2\"/><circle cx=\"577\" cy=\"520\" r=\"3.0\" style=\"fill:rgb(130, 165, 251);stroke:black;stroke-width:1.0\"/><circle cx=\"407\" cy=\"410\" r=\"3.0\" style=\"fill:rgb(219, 220, 222);stroke:black;stroke-width:1.0\"/><circle cx=\"102\" cy=\"155\" r=\"3.0\" style=\"fill:rgb(247, 177, 148);stroke:black;stroke-width:1.0\"/><circle cx=\"720\" cy=\"502\" r=\"3.0\" style=\"fill:rgb(58, 76, 192);stroke:black;stroke-width:1.0\"/><circle cx=\"588\" cy=\"426\" r=\"3.0\" style=\"fill:rgb(246, 169, 138);stroke:black;stroke-width:1.0\"/><circle cx=\"295\" cy=\"394\" r=\"3.0\" style=\"fill:rgb(225, 104, 82);stroke:black;stroke-width:1.0\"/><circle cx=\"461\" cy=\"449\" r=\"3.0\" style=\"fill:rgb(179, 3, 38);stroke:black;stroke-width:1.0\"/><circle cx=\"358\" cy=\"453\" r=\"3.0\" style=\"fill:rgb(219, 220, 222);stroke:black;stroke-width:1.0\"/><circle cx=\"632\" cy=\"503\" r=\"3.0\" style=\"fill:rgb(166, 195, 253);stroke:black;stroke-width:1.0\"/><circle cx=\"338\" cy=\"438\" r=\"3.0\" style=\"fill:rgb(219, 220, 222);stroke:black;stroke-width:1.0\"/><circle cx=\"639\" cy=\"357\" r=\"3.0\" style=\"fill:rgb(127, 162, 250);stroke:black;stroke-width:1.0\"/><circle cx=\"369\" cy=\"385\" r=\"3.0\" style=\"fill:rgb(219, 220, 222);stroke:black;stroke-width:1.0\"/><circle cx=\"317\" cy=\"20\" r=\"3.0\" style=\"fill:rgb(92, 123, 229);stroke:black;stroke-width:1.0\"/><circle cx=\"377\" cy=\"411\" r=\"3.0\" style=\"fill:rgb(219, 220, 222);stroke:black;stroke-width:1.0\"/><circle cx=\"403\" cy=\"433\" r=\"3.0\" style=\"fill:rgb(219, 220, 222);stroke:black;stroke-width:1.0\"/><circle cx=\"121\" cy=\"387\" r=\"3.0\" style=\"fill:rgb(72, 96, 209);stroke:black;stroke-width:1.0\"/><circle cx=\"341\" cy=\"418\" r=\"3.0\" style=\"fill:rgb(219, 220, 222);stroke:black;stroke-width:1.0\"/><circle cx=\"20\" cy=\"226\" r=\"3.0\" style=\"fill:rgb(64, 84, 199);stroke:black;stroke-width:1.0\"/><circle cx=\"326\" cy=\"58\" r=\"3.0\" style=\"fill:rgb(92, 123, 229);stroke:black;stroke-width:1.0\"/><circle cx=\"555\" cy=\"500\" r=\"3.0\" style=\"fill:rgb(130, 165, 251);stroke:black;stroke-width:1.0\"/><circle cx=\"90\" cy=\"71\" r=\"3.0\" style=\"fill:rgb(183, 207, 249);stroke:black;stroke-width:1.0\"/><circle cx=\"135\" cy=\"68\" r=\"3.0\" style=\"fill:rgb(183, 207, 249);stroke:black;stroke-width:1.0\"/><circle cx=\"121\" cy=\"294\" r=\"3.0\" style=\"fill:rgb(183, 207, 249);stroke:black;stroke-width:1.0\"/><circle cx=\"349\" cy=\"398\" r=\"3.0\" style=\"fill:rgb(219, 220, 222);stroke:black;stroke-width:1.0\"/><circle cx=\"614\" cy=\"336\" r=\"3.0\" style=\"fill:rgb(127, 162, 250);stroke:black;stroke-width:1.0\"/><circle cx=\"203\" cy=\"72\" r=\"3.0\" style=\"fill:rgb(239, 137, 108);stroke:black;stroke-width:1.0\"/><circle cx=\"588\" cy=\"364\" r=\"3.0\" style=\"fill:rgb(127, 162, 250);stroke:black;stroke-width:1.0\"/><circle cx=\"119\" cy=\"100\" r=\"3.0\" style=\"fill:rgb(183, 207, 249);stroke:black;stroke-width:1.0\"/><circle cx=\"395\" cy=\"389\" r=\"3.0\" style=\"fill:rgb(219, 220, 222);stroke:black;stroke-width:1.0\"/><circle cx=\"612\" cy=\"473\" r=\"3.0\" style=\"fill:rgb(166, 195, 253);stroke:black;stroke-width:1.0\"/><circle cx=\"625\" cy=\"381\" r=\"3.0\" style=\"fill:rgb(127, 162, 250);stroke:black;stroke-width:1.0\"/><circle cx=\"577\" cy=\"337\" r=\"3.0\" style=\"fill:rgb(127, 162, 250);stroke:black;stroke-width:1.0\"/><circle cx=\"387\" cy=\"451\" r=\"3.0\" style=\"fill:rgb(219, 220, 222);stroke:black;stroke-width:1.0\"/><circle cx=\"466\" cy=\"394\" r=\"3.0\" style=\"fill:rgb(182, 13, 40);stroke:black;stroke-width:1.0\"/><circle cx=\"135\" cy=\"359\" r=\"3.0\" style=\"fill:rgb(72, 96, 209);stroke:black;stroke-width:1.0\"/><circle cx=\"370\" cy=\"433\" r=\"3.0\" style=\"fill:rgb(219, 220, 222);stroke:black;stroke-width:1.0\"/><circle cx=\"609\" cy=\"494\" r=\"3.0\" style=\"fill:rgb(166, 195, 253);stroke:black;stroke-width:1.0\"/><text font-size=\"10\" x=\"583\" y=\"523\">Andreas Thurnherr</text><text font-size=\"10\" x=\"413\" y=\"413\">Anton I. Ermakov</text><text font-size=\"10\" x=\"108\" y=\"158\">Rosalba Perna</text><text font-size=\"10\" x=\"726\" y=\"505\">Tushar Mittal</text><text font-size=\"10\" x=\"594\" y=\"429\">Christopher German</text><text font-size=\"10\" x=\"301\" y=\"397\">Javier Roa</text><text font-size=\"10\" x=\"467\" y=\"452\">Christophe Sotin</text><text font-size=\"10\" x=\"364\" y=\"456\">Ryan S. Park</text><text font-size=\"10\" x=\"638\" y=\"506\">Suyash Bire</text><text font-size=\"10\" x=\"344\" y=\"441\">Douglas J. Hemingway</text><text font-size=\"10\" x=\"645\" y=\"360\">Kate Craft</text><text font-size=\"10\" x=\"375\" y=\"388\">Valery Lainey</text><text font-size=\"10\" x=\"323\" y=\"23\">Aaron M. Geller</text><text font-size=\"10\" x=\"383\" y=\"414\">James T. Keane</text><text font-size=\"10\" x=\"409\" y=\"436\">Bruce G. Bills</text><text font-size=\"10\" x=\"127\" y=\"390\">Maxwell X. Cai</text><text font-size=\"10\" x=\"347\" y=\"421\">Vishnu Viswanathan</text><text font-size=\"10\" x=\"26\" y=\"229\">Giacomo Fragione</text><text font-size=\"10\" x=\"332\" y=\"61\">Michael M. Shara</text><text font-size=\"10\" x=\"561\" y=\"503\">Jean-Michel Campin</text><text font-size=\"10\" x=\"96\" y=\"74\">Taeho Ryu</text><text font-size=\"10\" x=\"141\" y=\"71\">Teresa Panurach</text><text font-size=\"10\" x=\"127\" y=\"297\">Nathan Leigh</text><text font-size=\"10\" x=\"355\" y=\"401\">Gabriel Tobie</text><text font-size=\"10\" x=\"620\" y=\"339\">Alison Murray</text><text font-size=\"10\" x=\"209\" y=\"75\">Nathan W. C. Leigh</text><text font-size=\"10\" x=\"594\" y=\"367\">Alyssa Rhoden</text><text font-size=\"10\" x=\"125\" y=\"103\">Timur Ibragimov</text><text font-size=\"10\" x=\"401\" y=\"392\">Francis Nimmo</text><text font-size=\"10\" x=\"618\" y=\"476\">John Marshall</text><text font-size=\"10\" x=\"631\" y=\"384\">William C. Stone</text><text font-size=\"10\" x=\"583\" y=\"340\">Kevin Arrigo</text><text font-size=\"10\" x=\"393\" y=\"454\">Gregor Steinbrügge</text><text font-size=\"10\" x=\"472\" y=\"397\">Samuel M. Howell</text><text font-size=\"10\" x=\"141\" y=\"362\">Adrian S. Hamers</text><text font-size=\"10\" x=\"376\" y=\"436\">Julie C. Castillo-Rogez</text><text font-size=\"10\" x=\"615\" y=\"497\">Wanying Kang</text></svg>"
      ],
      "text/plain": [
       "<IPython.core.display.SVG object>"
      ]
     },
     "execution_count": 104,
     "metadata": {},
     "output_type": "execute_result"
    }
   ],
   "source": [
    "G_check = community_context_dict[communities[9]]['G']\n",
    "draw_community(G_check)"
   ]
  },
  {
   "cell_type": "code",
   "execution_count": 42,
   "id": "ea542ad2",
   "metadata": {},
   "outputs": [
    {
     "data": {
      "text/plain": [
       "['A Recipe for Geophysical Exploration of Enceladus',\n",
       " 'Black hole and neutron star mergers in Galactic Nuclei: the role of triples',\n",
       " 'Differing Enceladean ocean circulation and ice shell geometries driven by tidal heating in the ice versus the core',\n",
       " 'Dynamics or Geysers and tracer transport over the south pole of Enceladus',\n",
       " 'Ocean Worlds Exploration and the Search for Life',\n",
       " 'Stability of exomoons around the Kepler transiting circumbinary planets',\n",
       " 'When do star clusters become multiple star systems? II. Toward a half-life formalism with four bodies',\n",
       " 'When does a star cluster become a multiple star system? I. Lifetimes of equal-mass small-N systems']"
      ]
     },
     "execution_count": 42,
     "metadata": {},
     "output_type": "execute_result"
    }
   ],
   "source": [
    "show_author_papers(df, G_check)\n",
    "\n",
    "#Does the evolution of complex life depend on the stellar spectral energy distribution?\n",
    "#Funding the Search for Extraterrestrial Intelligence with a Lottery Bond\n",
    "#Why do we find ourselves around a yellow star instead of a red star?\n",
    "#Find the Conversation Killers: a Predictive Study of Thread-ending Posts -- HELL YES"
   ]
  },
  {
   "cell_type": "code",
   "execution_count": 43,
   "id": "8109eef9",
   "metadata": {},
   "outputs": [
    {
     "name": "stdout",
     "output_type": "stream",
     "text": [
      "Density: 0.2450638792102207\n",
      "Node Count: 42\n"
     ]
    },
    {
     "data": {
      "image/svg+xml": [
       "<svg height=\"540\" width=\"835.0\" xmlns=\"http://www.w3.org/2000/svg\"><path d=\"M 164 110 104 29\" stroke=\"gray\" stroke-width=\"0.2\"/><path d=\"M 164 110 212 160\" stroke=\"gray\" stroke-width=\"0.2\"/><path d=\"M 164 110 224 44\" stroke=\"gray\" stroke-width=\"0.2\"/><path d=\"M 164 110 235 20\" stroke=\"gray\" stroke-width=\"0.2\"/><path d=\"M 164 110 126 156\" stroke=\"gray\" stroke-width=\"0.2\"/><path d=\"M 164 110 174 250\" stroke=\"gray\" stroke-width=\"0.2\"/><path d=\"M 164 110 46 162\" stroke=\"gray\" stroke-width=\"0.2\"/><path d=\"M 104 29 164 110\" stroke=\"gray\" stroke-width=\"0.2\"/><path d=\"M 104 29 224 44\" stroke=\"gray\" stroke-width=\"0.2\"/><path d=\"M 104 29 235 20\" stroke=\"gray\" stroke-width=\"0.2\"/><path d=\"M 212 160 164 110\" stroke=\"gray\" stroke-width=\"0.2\"/><path d=\"M 212 160 126 156\" stroke=\"gray\" stroke-width=\"0.2\"/><path d=\"M 212 160 174 250\" stroke=\"gray\" stroke-width=\"0.2\"/><path d=\"M 212 160 46 162\" stroke=\"gray\" stroke-width=\"0.2\"/><path d=\"M 719 375 623 368\" stroke=\"gray\" stroke-width=\"0.2\"/><path d=\"M 719 375 458 380\" stroke=\"gray\" stroke-width=\"0.2\"/><path d=\"M 719 375 567 378\" stroke=\"gray\" stroke-width=\"0.2\"/><path d=\"M 719 375 720 391\" stroke=\"gray\" stroke-width=\"0.2\"/><path d=\"M 719 375 684 404\" stroke=\"gray\" stroke-width=\"0.2\"/><path d=\"M 719 375 628 408\" stroke=\"gray\" stroke-width=\"0.2\"/><path d=\"M 719 375 645 351\" stroke=\"gray\" stroke-width=\"0.2\"/><path d=\"M 719 375 695 360\" stroke=\"gray\" stroke-width=\"0.2\"/><path d=\"M 719 375 365 403\" stroke=\"gray\" stroke-width=\"0.2\"/><path d=\"M 719 375 652 385\" stroke=\"gray\" stroke-width=\"0.2\"/><path d=\"M 719 375 580 355\" stroke=\"gray\" stroke-width=\"0.2\"/><path d=\"M 719 375 586 396\" stroke=\"gray\" stroke-width=\"0.2\"/><path d=\"M 623 368 719 375\" stroke=\"gray\" stroke-width=\"0.2\"/><path d=\"M 623 368 458 380\" stroke=\"gray\" stroke-width=\"0.2\"/><path d=\"M 623 368 567 378\" stroke=\"gray\" stroke-width=\"0.2\"/><path d=\"M 623 368 720 391\" stroke=\"gray\" stroke-width=\"0.2\"/><path d=\"M 623 368 684 404\" stroke=\"gray\" stroke-width=\"0.2\"/><path d=\"M 623 368 628 408\" stroke=\"gray\" stroke-width=\"0.2\"/><path d=\"M 623 368 645 351\" stroke=\"gray\" stroke-width=\"0.2\"/><path d=\"M 623 368 695 360\" stroke=\"gray\" stroke-width=\"0.2\"/><path d=\"M 623 368 365 403\" stroke=\"gray\" stroke-width=\"0.2\"/><path d=\"M 623 368 652 385\" stroke=\"gray\" stroke-width=\"0.2\"/><path d=\"M 623 368 580 355\" stroke=\"gray\" stroke-width=\"0.2\"/><path d=\"M 623 368 586 396\" stroke=\"gray\" stroke-width=\"0.2\"/><path d=\"M 20 377 458 380\" stroke=\"gray\" stroke-width=\"0.2\"/><path d=\"M 20 377 46 403\" stroke=\"gray\" stroke-width=\"0.2\"/><path d=\"M 458 380 719 375\" stroke=\"gray\" stroke-width=\"0.2\"/><path d=\"M 458 380 623 368\" stroke=\"gray\" stroke-width=\"0.2\"/><path d=\"M 458 380 20 377\" stroke=\"gray\" stroke-width=\"0.2\"/><path d=\"M 458 380 567 378\" stroke=\"gray\" stroke-width=\"0.2\"/><path d=\"M 458 380 720 391\" stroke=\"gray\" stroke-width=\"0.2\"/><path d=\"M 458 380 684 404\" stroke=\"gray\" stroke-width=\"0.2\"/><path d=\"M 458 380 628 408\" stroke=\"gray\" stroke-width=\"0.2\"/><path d=\"M 458 380 645 351\" stroke=\"gray\" stroke-width=\"0.2\"/><path d=\"M 458 380 695 360\" stroke=\"gray\" stroke-width=\"0.2\"/><path d=\"M 458 380 365 403\" stroke=\"gray\" stroke-width=\"0.2\"/><path d=\"M 458 380 46 403\" stroke=\"gray\" stroke-width=\"0.2\"/><path d=\"M 458 380 652 385\" stroke=\"gray\" stroke-width=\"0.2\"/><path d=\"M 458 380 580 355\" stroke=\"gray\" stroke-width=\"0.2\"/><path d=\"M 458 380 586 396\" stroke=\"gray\" stroke-width=\"0.2\"/><path d=\"M 223 494 359 509\" stroke=\"gray\" stroke-width=\"0.2\"/><path d=\"M 223 494 168 502\" stroke=\"gray\" stroke-width=\"0.2\"/><path d=\"M 223 494 303 520\" stroke=\"gray\" stroke-width=\"0.2\"/><path d=\"M 223 494 269 470\" stroke=\"gray\" stroke-width=\"0.2\"/><path d=\"M 223 494 268 506\" stroke=\"gray\" stroke-width=\"0.2\"/><path d=\"M 223 494 164 482\" stroke=\"gray\" stroke-width=\"0.2\"/><path d=\"M 223 494 313 494\" stroke=\"gray\" stroke-width=\"0.2\"/><path d=\"M 223 494 365 403\" stroke=\"gray\" stroke-width=\"0.2\"/><path d=\"M 223 494 326 477\" stroke=\"gray\" stroke-width=\"0.2\"/><path d=\"M 223 494 375 491\" stroke=\"gray\" stroke-width=\"0.2\"/><path d=\"M 223 494 218 516\" stroke=\"gray\" stroke-width=\"0.2\"/><path d=\"M 223 494 215 475\" stroke=\"gray\" stroke-width=\"0.2\"/><path d=\"M 224 44 164 110\" stroke=\"gray\" stroke-width=\"0.2\"/><path d=\"M 224 44 104 29\" stroke=\"gray\" stroke-width=\"0.2\"/><path d=\"M 224 44 235 20\" stroke=\"gray\" stroke-width=\"0.2\"/><path d=\"M 235 20 164 110\" stroke=\"gray\" stroke-width=\"0.2\"/><path d=\"M 235 20 104 29\" stroke=\"gray\" stroke-width=\"0.2\"/><path d=\"M 235 20 224 44\" stroke=\"gray\" stroke-width=\"0.2\"/><path d=\"M 359 509 223 494\" stroke=\"gray\" stroke-width=\"0.2\"/><path d=\"M 359 509 168 502\" stroke=\"gray\" stroke-width=\"0.2\"/><path d=\"M 359 509 303 520\" stroke=\"gray\" stroke-width=\"0.2\"/><path d=\"M 359 509 269 470\" stroke=\"gray\" stroke-width=\"0.2\"/><path d=\"M 359 509 268 506\" stroke=\"gray\" stroke-width=\"0.2\"/><path d=\"M 359 509 164 482\" stroke=\"gray\" stroke-width=\"0.2\"/><path d=\"M 359 509 313 494\" stroke=\"gray\" stroke-width=\"0.2\"/><path d=\"M 359 509 365 403\" stroke=\"gray\" stroke-width=\"0.2\"/><path d=\"M 359 509 326 477\" stroke=\"gray\" stroke-width=\"0.2\"/><path d=\"M 359 509 375 491\" stroke=\"gray\" stroke-width=\"0.2\"/><path d=\"M 359 509 218 516\" stroke=\"gray\" stroke-width=\"0.2\"/><path d=\"M 359 509 215 475\" stroke=\"gray\" stroke-width=\"0.2\"/><path d=\"M 567 378 719 375\" stroke=\"gray\" stroke-width=\"0.2\"/><path d=\"M 567 378 623 368\" stroke=\"gray\" stroke-width=\"0.2\"/><path d=\"M 567 378 458 380\" stroke=\"gray\" stroke-width=\"0.2\"/><path d=\"M 567 378 720 391\" stroke=\"gray\" stroke-width=\"0.2\"/><path d=\"M 567 378 684 404\" stroke=\"gray\" stroke-width=\"0.2\"/><path d=\"M 567 378 628 408\" stroke=\"gray\" stroke-width=\"0.2\"/><path d=\"M 567 378 645 351\" stroke=\"gray\" stroke-width=\"0.2\"/><path d=\"M 567 378 695 360\" stroke=\"gray\" stroke-width=\"0.2\"/><path d=\"M 567 378 365 403\" stroke=\"gray\" stroke-width=\"0.2\"/><path d=\"M 567 378 652 385\" stroke=\"gray\" stroke-width=\"0.2\"/><path d=\"M 567 378 580 355\" stroke=\"gray\" stroke-width=\"0.2\"/><path d=\"M 567 378 586 396\" stroke=\"gray\" stroke-width=\"0.2\"/><path d=\"M 720 391 719 375\" stroke=\"gray\" stroke-width=\"0.2\"/><path d=\"M 720 391 623 368\" stroke=\"gray\" stroke-width=\"0.2\"/><path d=\"M 720 391 458 380\" stroke=\"gray\" stroke-width=\"0.2\"/><path d=\"M 720 391 567 378\" stroke=\"gray\" stroke-width=\"0.2\"/><path d=\"M 720 391 684 404\" stroke=\"gray\" stroke-width=\"0.2\"/><path d=\"M 720 391 628 408\" stroke=\"gray\" stroke-width=\"0.2\"/><path d=\"M 720 391 645 351\" stroke=\"gray\" stroke-width=\"0.2\"/><path d=\"M 720 391 695 360\" stroke=\"gray\" stroke-width=\"0.2\"/><path d=\"M 720 391 365 403\" stroke=\"gray\" stroke-width=\"0.2\"/><path d=\"M 720 391 652 385\" stroke=\"gray\" stroke-width=\"0.2\"/><path d=\"M 720 391 580 355\" stroke=\"gray\" stroke-width=\"0.2\"/><path d=\"M 720 391 586 396\" stroke=\"gray\" stroke-width=\"0.2\"/><path d=\"M 189 315 245 297\" stroke=\"gray\" stroke-width=\"0.2\"/><path d=\"M 189 315 365 403\" stroke=\"gray\" stroke-width=\"0.2\"/><path d=\"M 189 315 174 250\" stroke=\"gray\" stroke-width=\"0.2\"/><path d=\"M 189 315 151 298\" stroke=\"gray\" stroke-width=\"0.2\"/><path d=\"M 189 315 171 333\" stroke=\"gray\" stroke-width=\"0.2\"/><path d=\"M 189 315 87 310\" stroke=\"gray\" stroke-width=\"0.2\"/><path d=\"M 189 315 262 316\" stroke=\"gray\" stroke-width=\"0.2\"/><path d=\"M 189 315 97 328\" stroke=\"gray\" stroke-width=\"0.2\"/><path d=\"M 684 404 719 375\" stroke=\"gray\" stroke-width=\"0.2\"/><path d=\"M 684 404 623 368\" stroke=\"gray\" stroke-width=\"0.2\"/><path d=\"M 684 404 458 380\" stroke=\"gray\" stroke-width=\"0.2\"/><path d=\"M 684 404 567 378\" stroke=\"gray\" stroke-width=\"0.2\"/><path d=\"M 684 404 720 391\" stroke=\"gray\" stroke-width=\"0.2\"/><path d=\"M 684 404 628 408\" stroke=\"gray\" stroke-width=\"0.2\"/><path d=\"M 684 404 645 351\" stroke=\"gray\" stroke-width=\"0.2\"/><path d=\"M 684 404 695 360\" stroke=\"gray\" stroke-width=\"0.2\"/><path d=\"M 684 404 365 403\" stroke=\"gray\" stroke-width=\"0.2\"/><path d=\"M 684 404 652 385\" stroke=\"gray\" stroke-width=\"0.2\"/><path d=\"M 684 404 580 355\" stroke=\"gray\" stroke-width=\"0.2\"/><path d=\"M 684 404 586 396\" stroke=\"gray\" stroke-width=\"0.2\"/><path d=\"M 628 408 719 375\" stroke=\"gray\" stroke-width=\"0.2\"/><path d=\"M 628 408 623 368\" stroke=\"gray\" stroke-width=\"0.2\"/><path d=\"M 628 408 458 380\" stroke=\"gray\" stroke-width=\"0.2\"/><path d=\"M 628 408 567 378\" stroke=\"gray\" stroke-width=\"0.2\"/><path d=\"M 628 408 720 391\" stroke=\"gray\" stroke-width=\"0.2\"/><path d=\"M 628 408 684 404\" stroke=\"gray\" stroke-width=\"0.2\"/><path d=\"M 628 408 645 351\" stroke=\"gray\" stroke-width=\"0.2\"/><path d=\"M 628 408 695 360\" stroke=\"gray\" stroke-width=\"0.2\"/><path d=\"M 628 408 365 403\" stroke=\"gray\" stroke-width=\"0.2\"/><path d=\"M 628 408 652 385\" stroke=\"gray\" stroke-width=\"0.2\"/><path d=\"M 628 408 580 355\" stroke=\"gray\" stroke-width=\"0.2\"/><path d=\"M 628 408 586 396\" stroke=\"gray\" stroke-width=\"0.2\"/><path d=\"M 168 502 223 494\" stroke=\"gray\" stroke-width=\"0.2\"/><path d=\"M 168 502 359 509\" stroke=\"gray\" stroke-width=\"0.2\"/><path d=\"M 168 502 303 520\" stroke=\"gray\" stroke-width=\"0.2\"/><path d=\"M 168 502 269 470\" stroke=\"gray\" stroke-width=\"0.2\"/><path d=\"M 168 502 268 506\" stroke=\"gray\" stroke-width=\"0.2\"/><path d=\"M 168 502 164 482\" stroke=\"gray\" stroke-width=\"0.2\"/><path d=\"M 168 502 313 494\" stroke=\"gray\" stroke-width=\"0.2\"/><path d=\"M 168 502 365 403\" stroke=\"gray\" stroke-width=\"0.2\"/><path d=\"M 168 502 326 477\" stroke=\"gray\" stroke-width=\"0.2\"/><path d=\"M 168 502 375 491\" stroke=\"gray\" stroke-width=\"0.2\"/><path d=\"M 168 502 218 516\" stroke=\"gray\" stroke-width=\"0.2\"/><path d=\"M 168 502 215 475\" stroke=\"gray\" stroke-width=\"0.2\"/><path d=\"M 303 520 223 494\" stroke=\"gray\" stroke-width=\"0.2\"/><path d=\"M 303 520 359 509\" stroke=\"gray\" stroke-width=\"0.2\"/><path d=\"M 303 520 168 502\" stroke=\"gray\" stroke-width=\"0.2\"/><path d=\"M 303 520 269 470\" stroke=\"gray\" stroke-width=\"0.2\"/><path d=\"M 303 520 268 506\" stroke=\"gray\" stroke-width=\"0.2\"/><path d=\"M 303 520 164 482\" stroke=\"gray\" stroke-width=\"0.2\"/><path d=\"M 303 520 313 494\" stroke=\"gray\" stroke-width=\"0.2\"/><path d=\"M 303 520 365 403\" stroke=\"gray\" stroke-width=\"0.2\"/><path d=\"M 303 520 326 477\" stroke=\"gray\" stroke-width=\"0.2\"/><path d=\"M 303 520 375 491\" stroke=\"gray\" stroke-width=\"0.2\"/><path d=\"M 303 520 218 516\" stroke=\"gray\" stroke-width=\"0.2\"/><path d=\"M 303 520 215 475\" stroke=\"gray\" stroke-width=\"0.2\"/><path d=\"M 126 156 164 110\" stroke=\"gray\" stroke-width=\"0.2\"/><path d=\"M 126 156 212 160\" stroke=\"gray\" stroke-width=\"0.2\"/><path d=\"M 126 156 174 250\" stroke=\"gray\" stroke-width=\"0.2\"/><path d=\"M 126 156 46 162\" stroke=\"gray\" stroke-width=\"0.2\"/><path d=\"M 645 351 719 375\" stroke=\"gray\" stroke-width=\"0.2\"/><path d=\"M 645 351 623 368\" stroke=\"gray\" stroke-width=\"0.2\"/><path d=\"M 645 351 458 380\" stroke=\"gray\" stroke-width=\"0.2\"/><path d=\"M 645 351 567 378\" stroke=\"gray\" stroke-width=\"0.2\"/><path d=\"M 645 351 720 391\" stroke=\"gray\" stroke-width=\"0.2\"/><path d=\"M 645 351 684 404\" stroke=\"gray\" stroke-width=\"0.2\"/><path d=\"M 645 351 628 408\" stroke=\"gray\" stroke-width=\"0.2\"/><path d=\"M 645 351 695 360\" stroke=\"gray\" stroke-width=\"0.2\"/><path d=\"M 645 351 365 403\" stroke=\"gray\" stroke-width=\"0.2\"/><path d=\"M 645 351 652 385\" stroke=\"gray\" stroke-width=\"0.2\"/><path d=\"M 645 351 580 355\" stroke=\"gray\" stroke-width=\"0.2\"/><path d=\"M 645 351 586 396\" stroke=\"gray\" stroke-width=\"0.2\"/><path d=\"M 269 470 223 494\" stroke=\"gray\" stroke-width=\"0.2\"/><path d=\"M 269 470 359 509\" stroke=\"gray\" stroke-width=\"0.2\"/><path d=\"M 269 470 168 502\" stroke=\"gray\" stroke-width=\"0.2\"/><path d=\"M 269 470 303 520\" stroke=\"gray\" stroke-width=\"0.2\"/><path d=\"M 269 470 268 506\" stroke=\"gray\" stroke-width=\"0.2\"/><path d=\"M 269 470 164 482\" stroke=\"gray\" stroke-width=\"0.2\"/><path d=\"M 269 470 313 494\" stroke=\"gray\" stroke-width=\"0.2\"/><path d=\"M 269 470 365 403\" stroke=\"gray\" stroke-width=\"0.2\"/><path d=\"M 269 470 326 477\" stroke=\"gray\" stroke-width=\"0.2\"/><path d=\"M 269 470 375 491\" stroke=\"gray\" stroke-width=\"0.2\"/><path d=\"M 269 470 218 516\" stroke=\"gray\" stroke-width=\"0.2\"/><path d=\"M 269 470 215 475\" stroke=\"gray\" stroke-width=\"0.2\"/><path d=\"M 268 506 223 494\" stroke=\"gray\" stroke-width=\"0.2\"/><path d=\"M 268 506 359 509\" stroke=\"gray\" stroke-width=\"0.2\"/><path d=\"M 268 506 168 502\" stroke=\"gray\" stroke-width=\"0.2\"/><path d=\"M 268 506 303 520\" stroke=\"gray\" stroke-width=\"0.2\"/><path d=\"M 268 506 269 470\" stroke=\"gray\" stroke-width=\"0.2\"/><path d=\"M 268 506 164 482\" stroke=\"gray\" stroke-width=\"0.2\"/><path d=\"M 268 506 313 494\" stroke=\"gray\" stroke-width=\"0.2\"/><path d=\"M 268 506 365 403\" stroke=\"gray\" stroke-width=\"0.2\"/><path d=\"M 268 506 326 477\" stroke=\"gray\" stroke-width=\"0.2\"/><path d=\"M 268 506 375 491\" stroke=\"gray\" stroke-width=\"0.2\"/><path d=\"M 268 506 218 516\" stroke=\"gray\" stroke-width=\"0.2\"/><path d=\"M 268 506 215 475\" stroke=\"gray\" stroke-width=\"0.2\"/><path d=\"M 695 360 719 375\" stroke=\"gray\" stroke-width=\"0.2\"/><path d=\"M 695 360 623 368\" stroke=\"gray\" stroke-width=\"0.2\"/><path d=\"M 695 360 458 380\" stroke=\"gray\" stroke-width=\"0.2\"/><path d=\"M 695 360 567 378\" stroke=\"gray\" stroke-width=\"0.2\"/><path d=\"M 695 360 720 391\" stroke=\"gray\" stroke-width=\"0.2\"/><path d=\"M 695 360 684 404\" stroke=\"gray\" stroke-width=\"0.2\"/><path d=\"M 695 360 628 408\" stroke=\"gray\" stroke-width=\"0.2\"/><path d=\"M 695 360 645 351\" stroke=\"gray\" stroke-width=\"0.2\"/><path d=\"M 695 360 365 403\" stroke=\"gray\" stroke-width=\"0.2\"/><path d=\"M 695 360 652 385\" stroke=\"gray\" stroke-width=\"0.2\"/><path d=\"M 695 360 580 355\" stroke=\"gray\" stroke-width=\"0.2\"/><path d=\"M 695 360 586 396\" stroke=\"gray\" stroke-width=\"0.2\"/><path d=\"M 245 297 189 315\" stroke=\"gray\" stroke-width=\"0.2\"/><path d=\"M 245 297 365 403\" stroke=\"gray\" stroke-width=\"0.2\"/><path d=\"M 245 297 174 250\" stroke=\"gray\" stroke-width=\"0.2\"/><path d=\"M 245 297 151 298\" stroke=\"gray\" stroke-width=\"0.2\"/><path d=\"M 245 297 171 333\" stroke=\"gray\" stroke-width=\"0.2\"/><path d=\"M 245 297 87 310\" stroke=\"gray\" stroke-width=\"0.2\"/><path d=\"M 245 297 262 316\" stroke=\"gray\" stroke-width=\"0.2\"/><path d=\"M 245 297 97 328\" stroke=\"gray\" stroke-width=\"0.2\"/><path d=\"M 164 482 223 494\" stroke=\"gray\" stroke-width=\"0.2\"/><path d=\"M 164 482 359 509\" stroke=\"gray\" stroke-width=\"0.2\"/><path d=\"M 164 482 168 502\" stroke=\"gray\" stroke-width=\"0.2\"/><path d=\"M 164 482 303 520\" stroke=\"gray\" stroke-width=\"0.2\"/><path d=\"M 164 482 269 470\" stroke=\"gray\" stroke-width=\"0.2\"/><path d=\"M 164 482 268 506\" stroke=\"gray\" stroke-width=\"0.2\"/><path d=\"M 164 482 313 494\" stroke=\"gray\" stroke-width=\"0.2\"/><path d=\"M 164 482 365 403\" stroke=\"gray\" stroke-width=\"0.2\"/><path d=\"M 164 482 326 477\" stroke=\"gray\" stroke-width=\"0.2\"/><path d=\"M 164 482 375 491\" stroke=\"gray\" stroke-width=\"0.2\"/><path d=\"M 164 482 218 516\" stroke=\"gray\" stroke-width=\"0.2\"/><path d=\"M 164 482 215 475\" stroke=\"gray\" stroke-width=\"0.2\"/><path d=\"M 313 494 223 494\" stroke=\"gray\" stroke-width=\"0.2\"/><path d=\"M 313 494 359 509\" stroke=\"gray\" stroke-width=\"0.2\"/><path d=\"M 313 494 168 502\" stroke=\"gray\" stroke-width=\"0.2\"/><path d=\"M 313 494 303 520\" stroke=\"gray\" stroke-width=\"0.2\"/><path d=\"M 313 494 269 470\" stroke=\"gray\" stroke-width=\"0.2\"/><path d=\"M 313 494 268 506\" stroke=\"gray\" stroke-width=\"0.2\"/><path d=\"M 313 494 164 482\" stroke=\"gray\" stroke-width=\"0.2\"/><path d=\"M 313 494 365 403\" stroke=\"gray\" stroke-width=\"0.2\"/><path d=\"M 313 494 326 477\" stroke=\"gray\" stroke-width=\"0.2\"/><path d=\"M 313 494 375 491\" stroke=\"gray\" stroke-width=\"0.2\"/><path d=\"M 313 494 218 516\" stroke=\"gray\" stroke-width=\"0.2\"/><path d=\"M 313 494 215 475\" stroke=\"gray\" stroke-width=\"0.2\"/><path d=\"M 365 403 719 375\" stroke=\"gray\" stroke-width=\"0.2\"/><path d=\"M 365 403 623 368\" stroke=\"gray\" stroke-width=\"0.2\"/><path d=\"M 365 403 458 380\" stroke=\"gray\" stroke-width=\"0.2\"/><path d=\"M 365 403 223 494\" stroke=\"gray\" stroke-width=\"0.2\"/><path d=\"M 365 403 359 509\" stroke=\"gray\" stroke-width=\"0.2\"/><path d=\"M 365 403 567 378\" stroke=\"gray\" stroke-width=\"0.2\"/><path d=\"M 365 403 720 391\" stroke=\"gray\" stroke-width=\"0.2\"/><path d=\"M 365 403 189 315\" stroke=\"gray\" stroke-width=\"0.2\"/><path d=\"M 365 403 684 404\" stroke=\"gray\" stroke-width=\"0.2\"/><path d=\"M 365 403 628 408\" stroke=\"gray\" stroke-width=\"0.2\"/><path d=\"M 365 403 168 502\" stroke=\"gray\" stroke-width=\"0.2\"/><path d=\"M 365 403 303 520\" stroke=\"gray\" stroke-width=\"0.2\"/><path d=\"M 365 403 645 351\" stroke=\"gray\" stroke-width=\"0.2\"/><path d=\"M 365 403 269 470\" stroke=\"gray\" stroke-width=\"0.2\"/><path d=\"M 365 403 268 506\" stroke=\"gray\" stroke-width=\"0.2\"/><path d=\"M 365 403 695 360\" stroke=\"gray\" stroke-width=\"0.2\"/><path d=\"M 365 403 245 297\" stroke=\"gray\" stroke-width=\"0.2\"/><path d=\"M 365 403 164 482\" stroke=\"gray\" stroke-width=\"0.2\"/><path d=\"M 365 403 313 494\" stroke=\"gray\" stroke-width=\"0.2\"/><path d=\"M 365 403 174 250\" stroke=\"gray\" stroke-width=\"0.2\"/><path d=\"M 365 403 326 477\" stroke=\"gray\" stroke-width=\"0.2\"/><path d=\"M 365 403 151 298\" stroke=\"gray\" stroke-width=\"0.2\"/><path d=\"M 365 403 652 385\" stroke=\"gray\" stroke-width=\"0.2\"/><path d=\"M 365 403 580 355\" stroke=\"gray\" stroke-width=\"0.2\"/><path d=\"M 365 403 171 333\" stroke=\"gray\" stroke-width=\"0.2\"/><path d=\"M 365 403 87 310\" stroke=\"gray\" stroke-width=\"0.2\"/><path d=\"M 365 403 375 491\" stroke=\"gray\" stroke-width=\"0.2\"/><path d=\"M 365 403 586 396\" stroke=\"gray\" stroke-width=\"0.2\"/><path d=\"M 365 403 218 516\" stroke=\"gray\" stroke-width=\"0.2\"/><path d=\"M 365 403 215 475\" stroke=\"gray\" stroke-width=\"0.2\"/><path d=\"M 365 403 262 316\" stroke=\"gray\" stroke-width=\"0.2\"/><path d=\"M 365 403 97 328\" stroke=\"gray\" stroke-width=\"0.2\"/><path d=\"M 174 250 164 110\" stroke=\"gray\" stroke-width=\"0.2\"/><path d=\"M 174 250 212 160\" stroke=\"gray\" stroke-width=\"0.2\"/><path d=\"M 174 250 189 315\" stroke=\"gray\" stroke-width=\"0.2\"/><path d=\"M 174 250 126 156\" stroke=\"gray\" stroke-width=\"0.2\"/><path d=\"M 174 250 245 297\" stroke=\"gray\" stroke-width=\"0.2\"/><path d=\"M 174 250 365 403\" stroke=\"gray\" stroke-width=\"0.2\"/><path d=\"M 174 250 46 162\" stroke=\"gray\" stroke-width=\"0.2\"/><path d=\"M 174 250 151 298\" stroke=\"gray\" stroke-width=\"0.2\"/><path d=\"M 174 250 171 333\" stroke=\"gray\" stroke-width=\"0.2\"/><path d=\"M 174 250 87 310\" stroke=\"gray\" stroke-width=\"0.2\"/><path d=\"M 174 250 262 316\" stroke=\"gray\" stroke-width=\"0.2\"/><path d=\"M 174 250 97 328\" stroke=\"gray\" stroke-width=\"0.2\"/><path d=\"M 46 162 164 110\" stroke=\"gray\" stroke-width=\"0.2\"/><path d=\"M 46 162 212 160\" stroke=\"gray\" stroke-width=\"0.2\"/><path d=\"M 46 162 126 156\" stroke=\"gray\" stroke-width=\"0.2\"/><path d=\"M 46 162 174 250\" stroke=\"gray\" stroke-width=\"0.2\"/><path d=\"M 326 477 223 494\" stroke=\"gray\" stroke-width=\"0.2\"/><path d=\"M 326 477 359 509\" stroke=\"gray\" stroke-width=\"0.2\"/><path d=\"M 326 477 168 502\" stroke=\"gray\" stroke-width=\"0.2\"/><path d=\"M 326 477 303 520\" stroke=\"gray\" stroke-width=\"0.2\"/><path d=\"M 326 477 269 470\" stroke=\"gray\" stroke-width=\"0.2\"/><path d=\"M 326 477 268 506\" stroke=\"gray\" stroke-width=\"0.2\"/><path d=\"M 326 477 164 482\" stroke=\"gray\" stroke-width=\"0.2\"/><path d=\"M 326 477 313 494\" stroke=\"gray\" stroke-width=\"0.2\"/><path d=\"M 326 477 365 403\" stroke=\"gray\" stroke-width=\"0.2\"/><path d=\"M 326 477 375 491\" stroke=\"gray\" stroke-width=\"0.2\"/><path d=\"M 326 477 218 516\" stroke=\"gray\" stroke-width=\"0.2\"/><path d=\"M 326 477 215 475\" stroke=\"gray\" stroke-width=\"0.2\"/><path d=\"M 151 298 189 315\" stroke=\"gray\" stroke-width=\"0.2\"/><path d=\"M 151 298 245 297\" stroke=\"gray\" stroke-width=\"0.2\"/><path d=\"M 151 298 365 403\" stroke=\"gray\" stroke-width=\"0.2\"/><path d=\"M 151 298 174 250\" stroke=\"gray\" stroke-width=\"0.2\"/><path d=\"M 151 298 171 333\" stroke=\"gray\" stroke-width=\"0.2\"/><path d=\"M 151 298 87 310\" stroke=\"gray\" stroke-width=\"0.2\"/><path d=\"M 151 298 262 316\" stroke=\"gray\" stroke-width=\"0.2\"/><path d=\"M 151 298 97 328\" stroke=\"gray\" stroke-width=\"0.2\"/><path d=\"M 46 403 20 377\" stroke=\"gray\" stroke-width=\"0.2\"/><path d=\"M 46 403 458 380\" stroke=\"gray\" stroke-width=\"0.2\"/><path d=\"M 652 385 719 375\" stroke=\"gray\" stroke-width=\"0.2\"/><path d=\"M 652 385 623 368\" stroke=\"gray\" stroke-width=\"0.2\"/><path d=\"M 652 385 458 380\" stroke=\"gray\" stroke-width=\"0.2\"/><path d=\"M 652 385 567 378\" stroke=\"gray\" stroke-width=\"0.2\"/><path d=\"M 652 385 720 391\" stroke=\"gray\" stroke-width=\"0.2\"/><path d=\"M 652 385 684 404\" stroke=\"gray\" stroke-width=\"0.2\"/><path d=\"M 652 385 628 408\" stroke=\"gray\" stroke-width=\"0.2\"/><path d=\"M 652 385 645 351\" stroke=\"gray\" stroke-width=\"0.2\"/><path d=\"M 652 385 695 360\" stroke=\"gray\" stroke-width=\"0.2\"/><path d=\"M 652 385 365 403\" stroke=\"gray\" stroke-width=\"0.2\"/><path d=\"M 652 385 580 355\" stroke=\"gray\" stroke-width=\"0.2\"/><path d=\"M 652 385 586 396\" stroke=\"gray\" stroke-width=\"0.2\"/><path d=\"M 580 355 719 375\" stroke=\"gray\" stroke-width=\"0.2\"/><path d=\"M 580 355 623 368\" stroke=\"gray\" stroke-width=\"0.2\"/><path d=\"M 580 355 458 380\" stroke=\"gray\" stroke-width=\"0.2\"/><path d=\"M 580 355 567 378\" stroke=\"gray\" stroke-width=\"0.2\"/><path d=\"M 580 355 720 391\" stroke=\"gray\" stroke-width=\"0.2\"/><path d=\"M 580 355 684 404\" stroke=\"gray\" stroke-width=\"0.2\"/><path d=\"M 580 355 628 408\" stroke=\"gray\" stroke-width=\"0.2\"/><path d=\"M 580 355 645 351\" stroke=\"gray\" stroke-width=\"0.2\"/><path d=\"M 580 355 695 360\" stroke=\"gray\" stroke-width=\"0.2\"/><path d=\"M 580 355 365 403\" stroke=\"gray\" stroke-width=\"0.2\"/><path d=\"M 580 355 652 385\" stroke=\"gray\" stroke-width=\"0.2\"/><path d=\"M 580 355 586 396\" stroke=\"gray\" stroke-width=\"0.2\"/><path d=\"M 171 333 189 315\" stroke=\"gray\" stroke-width=\"0.2\"/><path d=\"M 171 333 245 297\" stroke=\"gray\" stroke-width=\"0.2\"/><path d=\"M 171 333 365 403\" stroke=\"gray\" stroke-width=\"0.2\"/><path d=\"M 171 333 174 250\" stroke=\"gray\" stroke-width=\"0.2\"/><path d=\"M 171 333 151 298\" stroke=\"gray\" stroke-width=\"0.2\"/><path d=\"M 171 333 87 310\" stroke=\"gray\" stroke-width=\"0.2\"/><path d=\"M 171 333 262 316\" stroke=\"gray\" stroke-width=\"0.2\"/><path d=\"M 171 333 97 328\" stroke=\"gray\" stroke-width=\"0.2\"/><path d=\"M 87 310 189 315\" stroke=\"gray\" stroke-width=\"0.2\"/><path d=\"M 87 310 245 297\" stroke=\"gray\" stroke-width=\"0.2\"/><path d=\"M 87 310 365 403\" stroke=\"gray\" stroke-width=\"0.2\"/><path d=\"M 87 310 174 250\" stroke=\"gray\" stroke-width=\"0.2\"/><path d=\"M 87 310 151 298\" stroke=\"gray\" stroke-width=\"0.2\"/><path d=\"M 87 310 171 333\" stroke=\"gray\" stroke-width=\"0.2\"/><path d=\"M 87 310 262 316\" stroke=\"gray\" stroke-width=\"0.2\"/><path d=\"M 87 310 97 328\" stroke=\"gray\" stroke-width=\"0.2\"/><path d=\"M 375 491 223 494\" stroke=\"gray\" stroke-width=\"0.2\"/><path d=\"M 375 491 359 509\" stroke=\"gray\" stroke-width=\"0.2\"/><path d=\"M 375 491 168 502\" stroke=\"gray\" stroke-width=\"0.2\"/><path d=\"M 375 491 303 520\" stroke=\"gray\" stroke-width=\"0.2\"/><path d=\"M 375 491 269 470\" stroke=\"gray\" stroke-width=\"0.2\"/><path d=\"M 375 491 268 506\" stroke=\"gray\" stroke-width=\"0.2\"/><path d=\"M 375 491 164 482\" stroke=\"gray\" stroke-width=\"0.2\"/><path d=\"M 375 491 313 494\" stroke=\"gray\" stroke-width=\"0.2\"/><path d=\"M 375 491 365 403\" stroke=\"gray\" stroke-width=\"0.2\"/><path d=\"M 375 491 326 477\" stroke=\"gray\" stroke-width=\"0.2\"/><path d=\"M 375 491 218 516\" stroke=\"gray\" stroke-width=\"0.2\"/><path d=\"M 375 491 215 475\" stroke=\"gray\" stroke-width=\"0.2\"/><path d=\"M 586 396 719 375\" stroke=\"gray\" stroke-width=\"0.2\"/><path d=\"M 586 396 623 368\" stroke=\"gray\" stroke-width=\"0.2\"/><path d=\"M 586 396 458 380\" stroke=\"gray\" stroke-width=\"0.2\"/><path d=\"M 586 396 567 378\" stroke=\"gray\" stroke-width=\"0.2\"/><path d=\"M 586 396 720 391\" stroke=\"gray\" stroke-width=\"0.2\"/><path d=\"M 586 396 684 404\" stroke=\"gray\" stroke-width=\"0.2\"/><path d=\"M 586 396 628 408\" stroke=\"gray\" stroke-width=\"0.2\"/><path d=\"M 586 396 645 351\" stroke=\"gray\" stroke-width=\"0.2\"/><path d=\"M 586 396 695 360\" stroke=\"gray\" stroke-width=\"0.2\"/><path d=\"M 586 396 365 403\" stroke=\"gray\" stroke-width=\"0.2\"/><path d=\"M 586 396 652 385\" stroke=\"gray\" stroke-width=\"0.2\"/><path d=\"M 586 396 580 355\" stroke=\"gray\" stroke-width=\"0.2\"/><path d=\"M 218 516 223 494\" stroke=\"gray\" stroke-width=\"0.2\"/><path d=\"M 218 516 359 509\" stroke=\"gray\" stroke-width=\"0.2\"/><path d=\"M 218 516 168 502\" stroke=\"gray\" stroke-width=\"0.2\"/><path d=\"M 218 516 303 520\" stroke=\"gray\" stroke-width=\"0.2\"/><path d=\"M 218 516 269 470\" stroke=\"gray\" stroke-width=\"0.2\"/><path d=\"M 218 516 268 506\" stroke=\"gray\" stroke-width=\"0.2\"/><path d=\"M 218 516 164 482\" stroke=\"gray\" stroke-width=\"0.2\"/><path d=\"M 218 516 313 494\" stroke=\"gray\" stroke-width=\"0.2\"/><path d=\"M 218 516 365 403\" stroke=\"gray\" stroke-width=\"0.2\"/><path d=\"M 218 516 326 477\" stroke=\"gray\" stroke-width=\"0.2\"/><path d=\"M 218 516 375 491\" stroke=\"gray\" stroke-width=\"0.2\"/><path d=\"M 218 516 215 475\" stroke=\"gray\" stroke-width=\"0.2\"/><path d=\"M 215 475 223 494\" stroke=\"gray\" stroke-width=\"0.2\"/><path d=\"M 215 475 359 509\" stroke=\"gray\" stroke-width=\"0.2\"/><path d=\"M 215 475 168 502\" stroke=\"gray\" stroke-width=\"0.2\"/><path d=\"M 215 475 303 520\" stroke=\"gray\" stroke-width=\"0.2\"/><path d=\"M 215 475 269 470\" stroke=\"gray\" stroke-width=\"0.2\"/><path d=\"M 215 475 268 506\" stroke=\"gray\" stroke-width=\"0.2\"/><path d=\"M 215 475 164 482\" stroke=\"gray\" stroke-width=\"0.2\"/><path d=\"M 215 475 313 494\" stroke=\"gray\" stroke-width=\"0.2\"/><path d=\"M 215 475 365 403\" stroke=\"gray\" stroke-width=\"0.2\"/><path d=\"M 215 475 326 477\" stroke=\"gray\" stroke-width=\"0.2\"/><path d=\"M 215 475 375 491\" stroke=\"gray\" stroke-width=\"0.2\"/><path d=\"M 215 475 218 516\" stroke=\"gray\" stroke-width=\"0.2\"/><path d=\"M 262 316 189 315\" stroke=\"gray\" stroke-width=\"0.2\"/><path d=\"M 262 316 245 297\" stroke=\"gray\" stroke-width=\"0.2\"/><path d=\"M 262 316 365 403\" stroke=\"gray\" stroke-width=\"0.2\"/><path d=\"M 262 316 174 250\" stroke=\"gray\" stroke-width=\"0.2\"/><path d=\"M 262 316 151 298\" stroke=\"gray\" stroke-width=\"0.2\"/><path d=\"M 262 316 171 333\" stroke=\"gray\" stroke-width=\"0.2\"/><path d=\"M 262 316 87 310\" stroke=\"gray\" stroke-width=\"0.2\"/><path d=\"M 262 316 97 328\" stroke=\"gray\" stroke-width=\"0.2\"/><path d=\"M 97 328 189 315\" stroke=\"gray\" stroke-width=\"0.2\"/><path d=\"M 97 328 245 297\" stroke=\"gray\" stroke-width=\"0.2\"/><path d=\"M 97 328 365 403\" stroke=\"gray\" stroke-width=\"0.2\"/><path d=\"M 97 328 174 250\" stroke=\"gray\" stroke-width=\"0.2\"/><path d=\"M 97 328 151 298\" stroke=\"gray\" stroke-width=\"0.2\"/><path d=\"M 97 328 171 333\" stroke=\"gray\" stroke-width=\"0.2\"/><path d=\"M 97 328 87 310\" stroke=\"gray\" stroke-width=\"0.2\"/><path d=\"M 97 328 262 316\" stroke=\"gray\" stroke-width=\"0.2\"/><circle cx=\"164\" cy=\"110\" r=\"3.0\" style=\"fill:rgb(197, 213, 242);stroke:black;stroke-width:1.0\"/><circle cx=\"104\" cy=\"29\" r=\"3.0\" style=\"fill:rgb(103, 136, 237);stroke:black;stroke-width:1.0\"/><circle cx=\"212\" cy=\"160\" r=\"3.0\" style=\"fill:rgb(103, 136, 237);stroke:black;stroke-width:1.0\"/><circle cx=\"719\" cy=\"375\" r=\"3.0\" style=\"fill:rgb(148, 181, 254);stroke:black;stroke-width:1.0\"/><circle cx=\"623\" cy=\"368\" r=\"3.0\" style=\"fill:rgb(148, 181, 254);stroke:black;stroke-width:1.0\"/><circle cx=\"20\" cy=\"377\" r=\"3.0\" style=\"fill:rgb(58, 76, 192);stroke:black;stroke-width:1.0\"/><circle cx=\"458\" cy=\"380\" r=\"3.0\" style=\"fill:rgb(199, 214, 240);stroke:black;stroke-width:1.0\"/><circle cx=\"223\" cy=\"494\" r=\"3.0\" style=\"fill:rgb(141, 175, 253);stroke:black;stroke-width:1.0\"/><circle cx=\"224\" cy=\"44\" r=\"3.0\" style=\"fill:rgb(103, 136, 237);stroke:black;stroke-width:1.0\"/><circle cx=\"235\" cy=\"20\" r=\"3.0\" style=\"fill:rgb(103, 136, 237);stroke:black;stroke-width:1.0\"/><circle cx=\"359\" cy=\"509\" r=\"3.0\" style=\"fill:rgb(141, 175, 253);stroke:black;stroke-width:1.0\"/><circle cx=\"567\" cy=\"378\" r=\"3.0\" style=\"fill:rgb(148, 181, 254);stroke:black;stroke-width:1.0\"/><circle cx=\"720\" cy=\"391\" r=\"3.0\" style=\"fill:rgb(148, 181, 254);stroke:black;stroke-width:1.0\"/><circle cx=\"189\" cy=\"315\" r=\"3.0\" style=\"fill:rgb(130, 165, 251);stroke:black;stroke-width:1.0\"/><circle cx=\"684\" cy=\"404\" r=\"3.0\" style=\"fill:rgb(148, 181, 254);stroke:black;stroke-width:1.0\"/><circle cx=\"628\" cy=\"408\" r=\"3.0\" style=\"fill:rgb(148, 181, 254);stroke:black;stroke-width:1.0\"/><circle cx=\"168\" cy=\"502\" r=\"3.0\" style=\"fill:rgb(141, 175, 253);stroke:black;stroke-width:1.0\"/><circle cx=\"303\" cy=\"520\" r=\"3.0\" style=\"fill:rgb(141, 175, 253);stroke:black;stroke-width:1.0\"/><circle cx=\"126\" cy=\"156\" r=\"3.0\" style=\"fill:rgb(103, 136, 237);stroke:black;stroke-width:1.0\"/><circle cx=\"645\" cy=\"351\" r=\"3.0\" style=\"fill:rgb(148, 181, 254);stroke:black;stroke-width:1.0\"/><circle cx=\"269\" cy=\"470\" r=\"3.0\" style=\"fill:rgb(141, 175, 253);stroke:black;stroke-width:1.0\"/><circle cx=\"268\" cy=\"506\" r=\"3.0\" style=\"fill:rgb(141, 175, 253);stroke:black;stroke-width:1.0\"/><circle cx=\"695\" cy=\"360\" r=\"3.0\" style=\"fill:rgb(148, 181, 254);stroke:black;stroke-width:1.0\"/><circle cx=\"245\" cy=\"297\" r=\"3.0\" style=\"fill:rgb(130, 165, 251);stroke:black;stroke-width:1.0\"/><circle cx=\"164\" cy=\"482\" r=\"3.0\" style=\"fill:rgb(141, 175, 253);stroke:black;stroke-width:1.0\"/><circle cx=\"313\" cy=\"494\" r=\"3.0\" style=\"fill:rgb(141, 175, 253);stroke:black;stroke-width:1.0\"/><circle cx=\"365\" cy=\"403\" r=\"3.0\" style=\"fill:rgb(179, 3, 38);stroke:black;stroke-width:1.0\"/><circle cx=\"174\" cy=\"250\" r=\"3.0\" style=\"fill:rgb(219, 220, 222);stroke:black;stroke-width:1.0\"/><circle cx=\"46\" cy=\"162\" r=\"3.0\" style=\"fill:rgb(103, 136, 237);stroke:black;stroke-width:1.0\"/><circle cx=\"326\" cy=\"477\" r=\"3.0\" style=\"fill:rgb(141, 175, 253);stroke:black;stroke-width:1.0\"/><circle cx=\"151\" cy=\"298\" r=\"3.0\" style=\"fill:rgb(130, 165, 251);stroke:black;stroke-width:1.0\"/><circle cx=\"46\" cy=\"403\" r=\"3.0\" style=\"fill:rgb(58, 76, 192);stroke:black;stroke-width:1.0\"/><circle cx=\"652\" cy=\"385\" r=\"3.0\" style=\"fill:rgb(148, 181, 254);stroke:black;stroke-width:1.0\"/><circle cx=\"580\" cy=\"355\" r=\"3.0\" style=\"fill:rgb(148, 181, 254);stroke:black;stroke-width:1.0\"/><circle cx=\"171\" cy=\"333\" r=\"3.0\" style=\"fill:rgb(130, 165, 251);stroke:black;stroke-width:1.0\"/><circle cx=\"87\" cy=\"310\" r=\"3.0\" style=\"fill:rgb(130, 165, 251);stroke:black;stroke-width:1.0\"/><circle cx=\"375\" cy=\"491\" r=\"3.0\" style=\"fill:rgb(141, 175, 253);stroke:black;stroke-width:1.0\"/><circle cx=\"586\" cy=\"396\" r=\"3.0\" style=\"fill:rgb(148, 181, 254);stroke:black;stroke-width:1.0\"/><circle cx=\"218\" cy=\"516\" r=\"3.0\" style=\"fill:rgb(141, 175, 253);stroke:black;stroke-width:1.0\"/><circle cx=\"215\" cy=\"475\" r=\"3.0\" style=\"fill:rgb(141, 175, 253);stroke:black;stroke-width:1.0\"/><circle cx=\"262\" cy=\"316\" r=\"3.0\" style=\"fill:rgb(130, 165, 251);stroke:black;stroke-width:1.0\"/><circle cx=\"97\" cy=\"328\" r=\"3.0\" style=\"fill:rgb(130, 165, 251);stroke:black;stroke-width:1.0\"/><text font-size=\"10\" x=\"170\" y=\"113\">J. F. F. Mendes</text><text font-size=\"10\" x=\"110\" y=\"32\">S. N. Dorogovtsev</text><text font-size=\"10\" x=\"218\" y=\"163\">J. G. Oliveira</text><text font-size=\"10\" x=\"725\" y=\"378\">W. Cha</text><text font-size=\"10\" x=\"629\" y=\"371\">Y. Sh. Meng</text><text font-size=\"10\" x=\"26\" y=\"380\">D. Holcman</text><text font-size=\"10\" x=\"464\" y=\"383\">A. Singer</text><text font-size=\"10\" x=\"229\" y=\"497\">C. Liu</text><text font-size=\"10\" x=\"230\" y=\"47\">F. L. Forgerini</text><text font-size=\"10\" x=\"241\" y=\"23\">N. Crokidakis</text><text font-size=\"10\" x=\"365\" y=\"512\">T. Heuermann</text><text font-size=\"10\" x=\"573\" y=\"381\">M. Zhang</text><text font-size=\"10\" x=\"726\" y=\"394\">D. Weinstock</text><text font-size=\"10\" x=\"195\" y=\"318\">P. Manshour</text><text font-size=\"10\" x=\"690\" y=\"407\">R. Harder</text><text font-size=\"10\" x=\"634\" y=\"411\">O. Yu. Gorobtsov</text><text font-size=\"10\" x=\"174\" y=\"505\">M. Lenski</text><text font-size=\"10\" x=\"309\" y=\"523\">J. Limpert</text><text font-size=\"10\" x=\"132\" y=\"159\">L. López</text><text font-size=\"10\" x=\"651\" y=\"354\">R. Bouck</text><text font-size=\"10\" x=\"275\" y=\"473\">M. Gebhardt</text><text font-size=\"10\" x=\"274\" y=\"509\">J. Rothhardt</text><text font-size=\"10\" x=\"701\" y=\"363\">D. Sheyfer</text><text font-size=\"10\" x=\"251\" y=\"300\">M. Jusup</text><text font-size=\"10\" x=\"170\" y=\"485\">A. Schülzgen</text><text font-size=\"10\" x=\"319\" y=\"497\">R. Klas</text><text font-size=\"10\" x=\"371\" y=\"406\">Z. Wang</text><text font-size=\"10\" x=\"180\" y=\"253\">J. A. Almendral</text><text font-size=\"10\" x=\"52\" y=\"165\">M. A. F. Sanjuán</text><text font-size=\"10\" x=\"332\" y=\"480\">A. Kirsche</text><text font-size=\"10\" x=\"157\" y=\"301\">I. Sendiña-Nadal</text><text font-size=\"10\" x=\"52\" y=\"406\">Z. Schuss</text><text font-size=\"10\" x=\"658\" y=\"388\">H. Hirsh</text><text font-size=\"10\" x=\"586\" y=\"358\">S. D. Matson</text><text font-size=\"10\" x=\"177\" y=\"336\">D. Papo</text><text font-size=\"10\" x=\"93\" y=\"313\">I. Leyva</text><text font-size=\"10\" x=\"381\" y=\"494\">R. Amezcua-Correa</text><text font-size=\"10\" x=\"592\" y=\"399\">J. Maser</text><text font-size=\"10\" x=\"224\" y=\"519\">J. E. Antonio-Lopez</text><text font-size=\"10\" x=\"221\" y=\"478\">C. Gaida</text><text font-size=\"10\" x=\"268\" y=\"319\">M. Perc</text><text font-size=\"10\" x=\"103\" y=\"331\">S. Boccaletti</text></svg>"
      ],
      "text/plain": [
       "<IPython.core.display.SVG object>"
      ]
     },
     "execution_count": 43,
     "metadata": {},
     "output_type": "execute_result"
    }
   ],
   "source": [
    "G_check = community_context_dict[communities[10]]['G']\n",
    "draw_community(G_check)"
   ]
  },
  {
   "cell_type": "code",
   "execution_count": 44,
   "id": "9b4740e5",
   "metadata": {},
   "outputs": [
    {
     "data": {
      "text/plain": [
       "['Bright, high-repetition-rate water window soft X-ray source enabled by nonlinear pulse self-compression in an antiresonant hollow-core fibre',\n",
       " 'Diverse strategic identities induce dynamical states in evolutionary games',\n",
       " 'Evolution of spatially embedded branching trees with interacting nodes',\n",
       " 'Interaction and transformation of metastable defects in intercalation materials',\n",
       " 'Multiple peaks patterns of epidemic spreading in multi-layer networks',\n",
       " 'Narrow Escape, Part II: The circular disk',\n",
       " 'Narrow Escape, Part III: Riemann surfaces and non-smooth domains',\n",
       " 'Spin-Fluctuation-Induced Non-Fermi-Liquid Behavior with suppressed superconductivity in LiFe$_{1-x}$Co$_{x}$As',\n",
       " 'The interplay of university and industry through the FP5 network']"
      ]
     },
     "execution_count": 44,
     "metadata": {},
     "output_type": "execute_result"
    }
   ],
   "source": [
    "show_author_papers(df, G_check)\n",
    "\n",
    "#SCB-dataset: A Dataset for Detecting Student Classroom Behavior\n",
    "#SCB-Dataset3: A Benchmark for Detecting Student Classroom Behavior\n",
    "#Did life originate from low-temperature areas of the Universe?"
   ]
  },
  {
   "cell_type": "code",
   "execution_count": 45,
   "id": "8ec4b18f",
   "metadata": {},
   "outputs": [
    {
     "name": "stdout",
     "output_type": "stream",
     "text": [
      "Density: 0.24615384615384617\n",
      "Node Count: 26\n"
     ]
    },
    {
     "data": {
      "image/svg+xml": [
       "<svg height=\"540\" width=\"830.0\" xmlns=\"http://www.w3.org/2000/svg\"><path d=\"M 70 20 140 109\" stroke=\"gray\" stroke-width=\"0.2\"/><path d=\"M 70 20 83 122\" stroke=\"gray\" stroke-width=\"0.2\"/><path d=\"M 70 20 20 53\" stroke=\"gray\" stroke-width=\"0.2\"/><path d=\"M 70 20 136 31\" stroke=\"gray\" stroke-width=\"0.2\"/><path d=\"M 140 109 70 20\" stroke=\"gray\" stroke-width=\"0.2\"/><path d=\"M 140 109 83 122\" stroke=\"gray\" stroke-width=\"0.2\"/><path d=\"M 140 109 217 259\" stroke=\"gray\" stroke-width=\"0.2\"/><path d=\"M 140 109 20 53\" stroke=\"gray\" stroke-width=\"0.2\"/><path d=\"M 140 109 137 178\" stroke=\"gray\" stroke-width=\"0.2\"/><path d=\"M 140 109 136 31\" stroke=\"gray\" stroke-width=\"0.2\"/><path d=\"M 574 216 617 227\" stroke=\"gray\" stroke-width=\"0.2\"/><path d=\"M 574 216 562 277\" stroke=\"gray\" stroke-width=\"0.2\"/><path d=\"M 574 216 720 158\" stroke=\"gray\" stroke-width=\"0.2\"/><path d=\"M 574 216 654 136\" stroke=\"gray\" stroke-width=\"0.2\"/><path d=\"M 574 216 635 295\" stroke=\"gray\" stroke-width=\"0.2\"/><path d=\"M 574 216 661 241\" stroke=\"gray\" stroke-width=\"0.2\"/><path d=\"M 574 216 462 366\" stroke=\"gray\" stroke-width=\"0.2\"/><path d=\"M 83 122 70 20\" stroke=\"gray\" stroke-width=\"0.2\"/><path d=\"M 83 122 140 109\" stroke=\"gray\" stroke-width=\"0.2\"/><path d=\"M 83 122 217 259\" stroke=\"gray\" stroke-width=\"0.2\"/><path d=\"M 83 122 20 53\" stroke=\"gray\" stroke-width=\"0.2\"/><path d=\"M 83 122 137 178\" stroke=\"gray\" stroke-width=\"0.2\"/><path d=\"M 83 122 136 31\" stroke=\"gray\" stroke-width=\"0.2\"/><path d=\"M 217 259 140 109\" stroke=\"gray\" stroke-width=\"0.2\"/><path d=\"M 217 259 83 122\" stroke=\"gray\" stroke-width=\"0.2\"/><path d=\"M 217 259 225 381\" stroke=\"gray\" stroke-width=\"0.2\"/><path d=\"M 217 259 137 178\" stroke=\"gray\" stroke-width=\"0.2\"/><path d=\"M 217 259 283 325\" stroke=\"gray\" stroke-width=\"0.2\"/><path d=\"M 217 259 462 366\" stroke=\"gray\" stroke-width=\"0.2\"/><path d=\"M 217 259 284 367\" stroke=\"gray\" stroke-width=\"0.2\"/><path d=\"M 217 259 214 342\" stroke=\"gray\" stroke-width=\"0.2\"/><path d=\"M 617 227 574 216\" stroke=\"gray\" stroke-width=\"0.2\"/><path d=\"M 617 227 562 277\" stroke=\"gray\" stroke-width=\"0.2\"/><path d=\"M 617 227 720 158\" stroke=\"gray\" stroke-width=\"0.2\"/><path d=\"M 617 227 654 136\" stroke=\"gray\" stroke-width=\"0.2\"/><path d=\"M 617 227 635 295\" stroke=\"gray\" stroke-width=\"0.2\"/><path d=\"M 617 227 661 241\" stroke=\"gray\" stroke-width=\"0.2\"/><path d=\"M 617 227 462 366\" stroke=\"gray\" stroke-width=\"0.2\"/><path d=\"M 562 277 574 216\" stroke=\"gray\" stroke-width=\"0.2\"/><path d=\"M 562 277 617 227\" stroke=\"gray\" stroke-width=\"0.2\"/><path d=\"M 562 277 635 295\" stroke=\"gray\" stroke-width=\"0.2\"/><path d=\"M 562 277 661 241\" stroke=\"gray\" stroke-width=\"0.2\"/><path d=\"M 562 277 462 366\" stroke=\"gray\" stroke-width=\"0.2\"/><path d=\"M 225 381 217 259\" stroke=\"gray\" stroke-width=\"0.2\"/><path d=\"M 225 381 283 325\" stroke=\"gray\" stroke-width=\"0.2\"/><path d=\"M 225 381 462 366\" stroke=\"gray\" stroke-width=\"0.2\"/><path d=\"M 225 381 284 367\" stroke=\"gray\" stroke-width=\"0.2\"/><path d=\"M 225 381 214 342\" stroke=\"gray\" stroke-width=\"0.2\"/><path d=\"M 720 158 574 216\" stroke=\"gray\" stroke-width=\"0.2\"/><path d=\"M 720 158 617 227\" stroke=\"gray\" stroke-width=\"0.2\"/><path d=\"M 720 158 654 136\" stroke=\"gray\" stroke-width=\"0.2\"/><path d=\"M 720 158 661 241\" stroke=\"gray\" stroke-width=\"0.2\"/><path d=\"M 588 479 444 494\" stroke=\"gray\" stroke-width=\"0.2\"/><path d=\"M 588 479 520 484\" stroke=\"gray\" stroke-width=\"0.2\"/><path d=\"M 588 479 473 460\" stroke=\"gray\" stroke-width=\"0.2\"/><path d=\"M 588 479 462 366\" stroke=\"gray\" stroke-width=\"0.2\"/><path d=\"M 588 479 553 514\" stroke=\"gray\" stroke-width=\"0.2\"/><path d=\"M 588 479 551 450\" stroke=\"gray\" stroke-width=\"0.2\"/><path d=\"M 588 479 487 520\" stroke=\"gray\" stroke-width=\"0.2\"/><path d=\"M 654 136 574 216\" stroke=\"gray\" stroke-width=\"0.2\"/><path d=\"M 654 136 617 227\" stroke=\"gray\" stroke-width=\"0.2\"/><path d=\"M 654 136 720 158\" stroke=\"gray\" stroke-width=\"0.2\"/><path d=\"M 654 136 661 241\" stroke=\"gray\" stroke-width=\"0.2\"/><path d=\"M 20 53 70 20\" stroke=\"gray\" stroke-width=\"0.2\"/><path d=\"M 20 53 140 109\" stroke=\"gray\" stroke-width=\"0.2\"/><path d=\"M 20 53 83 122\" stroke=\"gray\" stroke-width=\"0.2\"/><path d=\"M 20 53 136 31\" stroke=\"gray\" stroke-width=\"0.2\"/><path d=\"M 444 494 588 479\" stroke=\"gray\" stroke-width=\"0.2\"/><path d=\"M 444 494 520 484\" stroke=\"gray\" stroke-width=\"0.2\"/><path d=\"M 444 494 473 460\" stroke=\"gray\" stroke-width=\"0.2\"/><path d=\"M 444 494 462 366\" stroke=\"gray\" stroke-width=\"0.2\"/><path d=\"M 444 494 553 514\" stroke=\"gray\" stroke-width=\"0.2\"/><path d=\"M 444 494 551 450\" stroke=\"gray\" stroke-width=\"0.2\"/><path d=\"M 444 494 487 520\" stroke=\"gray\" stroke-width=\"0.2\"/><path d=\"M 137 178 140 109\" stroke=\"gray\" stroke-width=\"0.2\"/><path d=\"M 137 178 83 122\" stroke=\"gray\" stroke-width=\"0.2\"/><path d=\"M 137 178 217 259\" stroke=\"gray\" stroke-width=\"0.2\"/><path d=\"M 635 295 574 216\" stroke=\"gray\" stroke-width=\"0.2\"/><path d=\"M 635 295 617 227\" stroke=\"gray\" stroke-width=\"0.2\"/><path d=\"M 635 295 562 277\" stroke=\"gray\" stroke-width=\"0.2\"/><path d=\"M 635 295 661 241\" stroke=\"gray\" stroke-width=\"0.2\"/><path d=\"M 635 295 462 366\" stroke=\"gray\" stroke-width=\"0.2\"/><path d=\"M 661 241 574 216\" stroke=\"gray\" stroke-width=\"0.2\"/><path d=\"M 661 241 617 227\" stroke=\"gray\" stroke-width=\"0.2\"/><path d=\"M 661 241 562 277\" stroke=\"gray\" stroke-width=\"0.2\"/><path d=\"M 661 241 720 158\" stroke=\"gray\" stroke-width=\"0.2\"/><path d=\"M 661 241 654 136\" stroke=\"gray\" stroke-width=\"0.2\"/><path d=\"M 661 241 635 295\" stroke=\"gray\" stroke-width=\"0.2\"/><path d=\"M 661 241 462 366\" stroke=\"gray\" stroke-width=\"0.2\"/><path d=\"M 520 484 588 479\" stroke=\"gray\" stroke-width=\"0.2\"/><path d=\"M 520 484 444 494\" stroke=\"gray\" stroke-width=\"0.2\"/><path d=\"M 520 484 473 460\" stroke=\"gray\" stroke-width=\"0.2\"/><path d=\"M 520 484 462 366\" stroke=\"gray\" stroke-width=\"0.2\"/><path d=\"M 520 484 553 514\" stroke=\"gray\" stroke-width=\"0.2\"/><path d=\"M 520 484 551 450\" stroke=\"gray\" stroke-width=\"0.2\"/><path d=\"M 520 484 487 520\" stroke=\"gray\" stroke-width=\"0.2\"/><path d=\"M 283 325 217 259\" stroke=\"gray\" stroke-width=\"0.2\"/><path d=\"M 283 325 225 381\" stroke=\"gray\" stroke-width=\"0.2\"/><path d=\"M 283 325 462 366\" stroke=\"gray\" stroke-width=\"0.2\"/><path d=\"M 283 325 284 367\" stroke=\"gray\" stroke-width=\"0.2\"/><path d=\"M 283 325 214 342\" stroke=\"gray\" stroke-width=\"0.2\"/><path d=\"M 136 31 70 20\" stroke=\"gray\" stroke-width=\"0.2\"/><path d=\"M 136 31 140 109\" stroke=\"gray\" stroke-width=\"0.2\"/><path d=\"M 136 31 83 122\" stroke=\"gray\" stroke-width=\"0.2\"/><path d=\"M 136 31 20 53\" stroke=\"gray\" stroke-width=\"0.2\"/><path d=\"M 473 460 588 479\" stroke=\"gray\" stroke-width=\"0.2\"/><path d=\"M 473 460 444 494\" stroke=\"gray\" stroke-width=\"0.2\"/><path d=\"M 473 460 520 484\" stroke=\"gray\" stroke-width=\"0.2\"/><path d=\"M 473 460 462 366\" stroke=\"gray\" stroke-width=\"0.2\"/><path d=\"M 473 460 553 514\" stroke=\"gray\" stroke-width=\"0.2\"/><path d=\"M 473 460 551 450\" stroke=\"gray\" stroke-width=\"0.2\"/><path d=\"M 473 460 487 520\" stroke=\"gray\" stroke-width=\"0.2\"/><path d=\"M 462 366 574 216\" stroke=\"gray\" stroke-width=\"0.2\"/><path d=\"M 462 366 217 259\" stroke=\"gray\" stroke-width=\"0.2\"/><path d=\"M 462 366 617 227\" stroke=\"gray\" stroke-width=\"0.2\"/><path d=\"M 462 366 562 277\" stroke=\"gray\" stroke-width=\"0.2\"/><path d=\"M 462 366 225 381\" stroke=\"gray\" stroke-width=\"0.2\"/><path d=\"M 462 366 588 479\" stroke=\"gray\" stroke-width=\"0.2\"/><path d=\"M 462 366 444 494\" stroke=\"gray\" stroke-width=\"0.2\"/><path d=\"M 462 366 635 295\" stroke=\"gray\" stroke-width=\"0.2\"/><path d=\"M 462 366 661 241\" stroke=\"gray\" stroke-width=\"0.2\"/><path d=\"M 462 366 520 484\" stroke=\"gray\" stroke-width=\"0.2\"/><path d=\"M 462 366 283 325\" stroke=\"gray\" stroke-width=\"0.2\"/><path d=\"M 462 366 473 460\" stroke=\"gray\" stroke-width=\"0.2\"/><path d=\"M 462 366 553 514\" stroke=\"gray\" stroke-width=\"0.2\"/><path d=\"M 462 366 551 450\" stroke=\"gray\" stroke-width=\"0.2\"/><path d=\"M 462 366 284 367\" stroke=\"gray\" stroke-width=\"0.2\"/><path d=\"M 462 366 487 520\" stroke=\"gray\" stroke-width=\"0.2\"/><path d=\"M 462 366 214 342\" stroke=\"gray\" stroke-width=\"0.2\"/><path d=\"M 553 514 588 479\" stroke=\"gray\" stroke-width=\"0.2\"/><path d=\"M 553 514 444 494\" stroke=\"gray\" stroke-width=\"0.2\"/><path d=\"M 553 514 520 484\" stroke=\"gray\" stroke-width=\"0.2\"/><path d=\"M 553 514 473 460\" stroke=\"gray\" stroke-width=\"0.2\"/><path d=\"M 553 514 462 366\" stroke=\"gray\" stroke-width=\"0.2\"/><path d=\"M 553 514 551 450\" stroke=\"gray\" stroke-width=\"0.2\"/><path d=\"M 553 514 487 520\" stroke=\"gray\" stroke-width=\"0.2\"/><path d=\"M 551 450 588 479\" stroke=\"gray\" stroke-width=\"0.2\"/><path d=\"M 551 450 444 494\" stroke=\"gray\" stroke-width=\"0.2\"/><path d=\"M 551 450 520 484\" stroke=\"gray\" stroke-width=\"0.2\"/><path d=\"M 551 450 473 460\" stroke=\"gray\" stroke-width=\"0.2\"/><path d=\"M 551 450 462 366\" stroke=\"gray\" stroke-width=\"0.2\"/><path d=\"M 551 450 553 514\" stroke=\"gray\" stroke-width=\"0.2\"/><path d=\"M 551 450 487 520\" stroke=\"gray\" stroke-width=\"0.2\"/><path d=\"M 284 367 217 259\" stroke=\"gray\" stroke-width=\"0.2\"/><path d=\"M 284 367 225 381\" stroke=\"gray\" stroke-width=\"0.2\"/><path d=\"M 284 367 283 325\" stroke=\"gray\" stroke-width=\"0.2\"/><path d=\"M 284 367 462 366\" stroke=\"gray\" stroke-width=\"0.2\"/><path d=\"M 284 367 214 342\" stroke=\"gray\" stroke-width=\"0.2\"/><path d=\"M 487 520 588 479\" stroke=\"gray\" stroke-width=\"0.2\"/><path d=\"M 487 520 444 494\" stroke=\"gray\" stroke-width=\"0.2\"/><path d=\"M 487 520 520 484\" stroke=\"gray\" stroke-width=\"0.2\"/><path d=\"M 487 520 473 460\" stroke=\"gray\" stroke-width=\"0.2\"/><path d=\"M 487 520 462 366\" stroke=\"gray\" stroke-width=\"0.2\"/><path d=\"M 487 520 553 514\" stroke=\"gray\" stroke-width=\"0.2\"/><path d=\"M 487 520 551 450\" stroke=\"gray\" stroke-width=\"0.2\"/><path d=\"M 214 342 217 259\" stroke=\"gray\" stroke-width=\"0.2\"/><path d=\"M 214 342 225 381\" stroke=\"gray\" stroke-width=\"0.2\"/><path d=\"M 214 342 283 325\" stroke=\"gray\" stroke-width=\"0.2\"/><path d=\"M 214 342 462 366\" stroke=\"gray\" stroke-width=\"0.2\"/><path d=\"M 214 342 284 367\" stroke=\"gray\" stroke-width=\"0.2\"/><circle cx=\"70\" cy=\"20\" r=\"3.0\" style=\"fill:rgb(96, 128, 232);stroke:black;stroke-width:1.0\"/><circle cx=\"140\" cy=\"109\" r=\"3.0\" style=\"fill:rgb(159, 190, 254);stroke:black;stroke-width:1.0\"/><circle cx=\"574\" cy=\"216\" r=\"3.0\" style=\"fill:rgb(148, 181, 254);stroke:black;stroke-width:1.0\"/><circle cx=\"83\" cy=\"122\" r=\"3.0\" style=\"fill:rgb(159, 190, 254);stroke:black;stroke-width:1.0\"/><circle cx=\"217\" cy=\"259\" r=\"3.0\" style=\"fill:rgb(193, 212, 244);stroke:black;stroke-width:1.0\"/><circle cx=\"617\" cy=\"227\" r=\"3.0\" style=\"fill:rgb(148, 181, 254);stroke:black;stroke-width:1.0\"/><circle cx=\"562\" cy=\"277\" r=\"3.0\" style=\"fill:rgb(88, 118, 226);stroke:black;stroke-width:1.0\"/><circle cx=\"225\" cy=\"381\" r=\"3.0\" style=\"fill:rgb(96, 128, 232);stroke:black;stroke-width:1.0\"/><circle cx=\"720\" cy=\"158\" r=\"3.0\" style=\"fill:rgb(70, 93, 207);stroke:black;stroke-width:1.0\"/><circle cx=\"588\" cy=\"479\" r=\"3.0\" style=\"fill:rgb(123, 158, 248);stroke:black;stroke-width:1.0\"/><circle cx=\"654\" cy=\"136\" r=\"3.0\" style=\"fill:rgb(70, 93, 207);stroke:black;stroke-width:1.0\"/><circle cx=\"20\" cy=\"53\" r=\"3.0\" style=\"fill:rgb(96, 128, 232);stroke:black;stroke-width:1.0\"/><circle cx=\"444\" cy=\"494\" r=\"3.0\" style=\"fill:rgb(123, 158, 248);stroke:black;stroke-width:1.0\"/><circle cx=\"137\" cy=\"178\" r=\"3.0\" style=\"fill:rgb(58, 76, 192);stroke:black;stroke-width:1.0\"/><circle cx=\"635\" cy=\"295\" r=\"3.0\" style=\"fill:rgb(88, 118, 226);stroke:black;stroke-width:1.0\"/><circle cx=\"661\" cy=\"241\" r=\"3.0\" style=\"fill:rgb(148, 181, 254);stroke:black;stroke-width:1.0\"/><circle cx=\"520\" cy=\"484\" r=\"3.0\" style=\"fill:rgb(123, 158, 248);stroke:black;stroke-width:1.0\"/><circle cx=\"283\" cy=\"325\" r=\"3.0\" style=\"fill:rgb(96, 128, 232);stroke:black;stroke-width:1.0\"/><circle cx=\"136\" cy=\"31\" r=\"3.0\" style=\"fill:rgb(96, 128, 232);stroke:black;stroke-width:1.0\"/><circle cx=\"473\" cy=\"460\" r=\"3.0\" style=\"fill:rgb(123, 158, 248);stroke:black;stroke-width:1.0\"/><circle cx=\"462\" cy=\"366\" r=\"3.0\" style=\"fill:rgb(179, 3, 38);stroke:black;stroke-width:1.0\"/><circle cx=\"553\" cy=\"514\" r=\"3.0\" style=\"fill:rgb(123, 158, 248);stroke:black;stroke-width:1.0\"/><circle cx=\"551\" cy=\"450\" r=\"3.0\" style=\"fill:rgb(123, 158, 248);stroke:black;stroke-width:1.0\"/><circle cx=\"284\" cy=\"367\" r=\"3.0\" style=\"fill:rgb(96, 128, 232);stroke:black;stroke-width:1.0\"/><circle cx=\"487\" cy=\"520\" r=\"3.0\" style=\"fill:rgb(123, 158, 248);stroke:black;stroke-width:1.0\"/><circle cx=\"214\" cy=\"342\" r=\"3.0\" style=\"fill:rgb(96, 128, 232);stroke:black;stroke-width:1.0\"/><text font-size=\"10\" x=\"76\" y=\"23\">D. Semikoz</text><text font-size=\"10\" x=\"146\" y=\"112\">S. Ostapchenko</text><text font-size=\"10\" x=\"580\" y=\"219\">B. Vukotić</text><text font-size=\"10\" x=\"89\" y=\"125\">M. Kachelriess</text><text font-size=\"10\" x=\"223\" y=\"262\">K. Dolag</text><text font-size=\"10\" x=\"623\" y=\"230\">M. Micic</text><text font-size=\"10\" x=\"568\" y=\"280\">G. Martinez-Aviles</text><text font-size=\"10\" x=\"231\" y=\"384\">D. Fabjan</text><text font-size=\"10\" x=\"726\" y=\"161\">N. Martinović</text><text font-size=\"10\" x=\"594\" y=\"482\">F. Pfeiffer</text><text font-size=\"10\" x=\"660\" y=\"139\">N. Stojković</text><text font-size=\"10\" x=\"26\" y=\"56\">A. Elyiv</text><text font-size=\"10\" x=\"450\" y=\"497\">M. Gilljohann</text><text font-size=\"10\" x=\"143\" y=\"181\">R. Tomas</text><text font-size=\"10\" x=\"641\" y=\"298\">D. Steinhauser</text><text font-size=\"10\" x=\"667\" y=\"244\">M. M. Ćirković</text><text font-size=\"10\" x=\"526\" y=\"487\">A. Döpp</text><text font-size=\"10\" x=\"289\" y=\"328\">L. Tornatore</text><text font-size=\"10\" x=\"142\" y=\"34\">A. Neronov</text><text font-size=\"10\" x=\"479\" y=\"463\">J. Goetzfried</text><text font-size=\"10\" x=\"468\" y=\"369\">S. Schindler</text><text font-size=\"10\" x=\"559\" y=\"517\">J. Wenz</text><text font-size=\"10\" x=\"557\" y=\"453\">L. Hehn</text><text font-size=\"10\" x=\"290\" y=\"370\">S. Borgani</text><text font-size=\"10\" x=\"493\" y=\"523\">S. Karsch</text><text font-size=\"10\" x=\"220\" y=\"345\">A. Diaferio</text></svg>"
      ],
      "text/plain": [
       "<IPython.core.display.SVG object>"
      ]
     },
     "execution_count": 45,
     "metadata": {},
     "output_type": "execute_result"
    }
   ],
   "source": [
    "G_check = community_context_dict[communities[11]]['G']\n",
    "draw_community(G_check)"
   ]
  },
  {
   "cell_type": "code",
   "execution_count": 46,
   "id": "0f605aca",
   "metadata": {},
   "outputs": [
    {
     "data": {
      "text/plain": [
       "['\"Grandeur in this view of life\": N-body simulation models of the Galactic habitable zone',\n",
       " 'Astrobiological Complexity with Probabilistic Cellular Automata',\n",
       " 'Degree-scale GeV \"jets\" from active and dead TeV blazars',\n",
       " 'Galactic Habitability Re-Examined: Indications of Bimodality',\n",
       " 'Lower limit on the strength and filling factor of extragalactic magnetic fields',\n",
       " 'Quick X-ray microtomography using a laser-driven betatron source',\n",
       " 'Search for Tri-Nucleon Decay in the Majorana Demonstrator',\n",
       " 'The chemical enrichment of the ICM from hydrodynamical simulations']"
      ]
     },
     "execution_count": 46,
     "metadata": {},
     "output_type": "execute_result"
    }
   ],
   "source": [
    "show_author_papers(df, G_check)\n",
    "\n",
    "#BEAMERS: Brain-Engaged, Active Music-based Emotion Regulation System\n",
    "#Human-Like Intuitive Behavior and Reasoning Biases Emerged in Language Models -- and Disappeared in GPT-4\n",
    "#Local Causal Structure Learning and its Discovery Between Type 2 Diabetes and Bone Mineral Density\n",
    "#Machine Psychology: Investigating Emergent Capabilities and Behavior in Large Language Models Using Psychological Methods\n",
    "#SINGA-Easy: An Easy-to-Use Framework for MultiModal Analysis\n",
    "#Secure Artificial Intelligence of Things for Implicit Group Recommendations\n",
    "#Thinking Fast and Slow in Large Language Models\n",
    "#Cultures in Community Question Answering\n",
    "#On the Behaviour of Deviant Communities in Online Social Networks\n",
    "#Uncovering Bias in Personal Informatics"
   ]
  },
  {
   "cell_type": "code",
   "execution_count": 47,
   "id": "49c137f3",
   "metadata": {},
   "outputs": [
    {
     "name": "stdout",
     "output_type": "stream",
     "text": [
      "Density: 0.26842105263157895\n",
      "Node Count: 20\n"
     ]
    },
    {
     "data": {
      "image/svg+xml": [
       "<svg height=\"540\" width=\"860.0\" xmlns=\"http://www.w3.org/2000/svg\"><path d=\"M 20 266 94 303\" stroke=\"gray\" stroke-width=\"0.2\"/><path d=\"M 20 266 139 265\" stroke=\"gray\" stroke-width=\"0.2\"/><path d=\"M 20 266 188 157\" stroke=\"gray\" stroke-width=\"0.2\"/><path d=\"M 687 473 544 393\" stroke=\"gray\" stroke-width=\"0.2\"/><path d=\"M 687 473 610 476\" stroke=\"gray\" stroke-width=\"0.2\"/><path d=\"M 687 473 589 520\" stroke=\"gray\" stroke-width=\"0.2\"/><path d=\"M 94 303 20 266\" stroke=\"gray\" stroke-width=\"0.2\"/><path d=\"M 94 303 139 265\" stroke=\"gray\" stroke-width=\"0.2\"/><path d=\"M 94 303 188 157\" stroke=\"gray\" stroke-width=\"0.2\"/><path d=\"M 720 334 544 393\" stroke=\"gray\" stroke-width=\"0.2\"/><path d=\"M 720 334 643 314\" stroke=\"gray\" stroke-width=\"0.2\"/><path d=\"M 310 50 209 20\" stroke=\"gray\" stroke-width=\"0.2\"/><path d=\"M 310 50 301 87\" stroke=\"gray\" stroke-width=\"0.2\"/><path d=\"M 310 50 270 23\" stroke=\"gray\" stroke-width=\"0.2\"/><path d=\"M 310 50 221 60\" stroke=\"gray\" stroke-width=\"0.2\"/><path d=\"M 310 50 240 95\" stroke=\"gray\" stroke-width=\"0.2\"/><path d=\"M 310 50 166 55\" stroke=\"gray\" stroke-width=\"0.2\"/><path d=\"M 310 50 188 157\" stroke=\"gray\" stroke-width=\"0.2\"/><path d=\"M 209 20 310 50\" stroke=\"gray\" stroke-width=\"0.2\"/><path d=\"M 209 20 301 87\" stroke=\"gray\" stroke-width=\"0.2\"/><path d=\"M 209 20 270 23\" stroke=\"gray\" stroke-width=\"0.2\"/><path d=\"M 209 20 221 60\" stroke=\"gray\" stroke-width=\"0.2\"/><path d=\"M 209 20 240 95\" stroke=\"gray\" stroke-width=\"0.2\"/><path d=\"M 209 20 166 55\" stroke=\"gray\" stroke-width=\"0.2\"/><path d=\"M 209 20 188 157\" stroke=\"gray\" stroke-width=\"0.2\"/><path d=\"M 301 87 310 50\" stroke=\"gray\" stroke-width=\"0.2\"/><path d=\"M 301 87 209 20\" stroke=\"gray\" stroke-width=\"0.2\"/><path d=\"M 301 87 270 23\" stroke=\"gray\" stroke-width=\"0.2\"/><path d=\"M 301 87 221 60\" stroke=\"gray\" stroke-width=\"0.2\"/><path d=\"M 301 87 240 95\" stroke=\"gray\" stroke-width=\"0.2\"/><path d=\"M 301 87 166 55\" stroke=\"gray\" stroke-width=\"0.2\"/><path d=\"M 301 87 188 157\" stroke=\"gray\" stroke-width=\"0.2\"/><path d=\"M 544 393 687 473\" stroke=\"gray\" stroke-width=\"0.2\"/><path d=\"M 544 393 720 334\" stroke=\"gray\" stroke-width=\"0.2\"/><path d=\"M 544 393 397 372\" stroke=\"gray\" stroke-width=\"0.2\"/><path d=\"M 544 393 643 314\" stroke=\"gray\" stroke-width=\"0.2\"/><path d=\"M 544 393 293 295\" stroke=\"gray\" stroke-width=\"0.2\"/><path d=\"M 544 393 610 476\" stroke=\"gray\" stroke-width=\"0.2\"/><path d=\"M 544 393 589 520\" stroke=\"gray\" stroke-width=\"0.2\"/><path d=\"M 270 23 310 50\" stroke=\"gray\" stroke-width=\"0.2\"/><path d=\"M 270 23 209 20\" stroke=\"gray\" stroke-width=\"0.2\"/><path d=\"M 270 23 301 87\" stroke=\"gray\" stroke-width=\"0.2\"/><path d=\"M 270 23 221 60\" stroke=\"gray\" stroke-width=\"0.2\"/><path d=\"M 270 23 240 95\" stroke=\"gray\" stroke-width=\"0.2\"/><path d=\"M 270 23 166 55\" stroke=\"gray\" stroke-width=\"0.2\"/><path d=\"M 270 23 188 157\" stroke=\"gray\" stroke-width=\"0.2\"/><path d=\"M 221 60 310 50\" stroke=\"gray\" stroke-width=\"0.2\"/><path d=\"M 221 60 209 20\" stroke=\"gray\" stroke-width=\"0.2\"/><path d=\"M 221 60 301 87\" stroke=\"gray\" stroke-width=\"0.2\"/><path d=\"M 221 60 270 23\" stroke=\"gray\" stroke-width=\"0.2\"/><path d=\"M 221 60 240 95\" stroke=\"gray\" stroke-width=\"0.2\"/><path d=\"M 221 60 166 55\" stroke=\"gray\" stroke-width=\"0.2\"/><path d=\"M 221 60 188 157\" stroke=\"gray\" stroke-width=\"0.2\"/><path d=\"M 397 372 544 393\" stroke=\"gray\" stroke-width=\"0.2\"/><path d=\"M 397 372 293 295\" stroke=\"gray\" stroke-width=\"0.2\"/><path d=\"M 139 265 20 266\" stroke=\"gray\" stroke-width=\"0.2\"/><path d=\"M 139 265 94 303\" stroke=\"gray\" stroke-width=\"0.2\"/><path d=\"M 139 265 188 157\" stroke=\"gray\" stroke-width=\"0.2\"/><path d=\"M 139 265 293 295\" stroke=\"gray\" stroke-width=\"0.2\"/><path d=\"M 139 265 110 223\" stroke=\"gray\" stroke-width=\"0.2\"/><path d=\"M 240 95 310 50\" stroke=\"gray\" stroke-width=\"0.2\"/><path d=\"M 240 95 209 20\" stroke=\"gray\" stroke-width=\"0.2\"/><path d=\"M 240 95 301 87\" stroke=\"gray\" stroke-width=\"0.2\"/><path d=\"M 240 95 270 23\" stroke=\"gray\" stroke-width=\"0.2\"/><path d=\"M 240 95 221 60\" stroke=\"gray\" stroke-width=\"0.2\"/><path d=\"M 240 95 166 55\" stroke=\"gray\" stroke-width=\"0.2\"/><path d=\"M 240 95 188 157\" stroke=\"gray\" stroke-width=\"0.2\"/><path d=\"M 166 55 310 50\" stroke=\"gray\" stroke-width=\"0.2\"/><path d=\"M 166 55 209 20\" stroke=\"gray\" stroke-width=\"0.2\"/><path d=\"M 166 55 301 87\" stroke=\"gray\" stroke-width=\"0.2\"/><path d=\"M 166 55 270 23\" stroke=\"gray\" stroke-width=\"0.2\"/><path d=\"M 166 55 221 60\" stroke=\"gray\" stroke-width=\"0.2\"/><path d=\"M 166 55 240 95\" stroke=\"gray\" stroke-width=\"0.2\"/><path d=\"M 166 55 188 157\" stroke=\"gray\" stroke-width=\"0.2\"/><path d=\"M 643 314 720 334\" stroke=\"gray\" stroke-width=\"0.2\"/><path d=\"M 643 314 544 393\" stroke=\"gray\" stroke-width=\"0.2\"/><path d=\"M 188 157 20 266\" stroke=\"gray\" stroke-width=\"0.2\"/><path d=\"M 188 157 94 303\" stroke=\"gray\" stroke-width=\"0.2\"/><path d=\"M 188 157 310 50\" stroke=\"gray\" stroke-width=\"0.2\"/><path d=\"M 188 157 209 20\" stroke=\"gray\" stroke-width=\"0.2\"/><path d=\"M 188 157 301 87\" stroke=\"gray\" stroke-width=\"0.2\"/><path d=\"M 188 157 270 23\" stroke=\"gray\" stroke-width=\"0.2\"/><path d=\"M 188 157 221 60\" stroke=\"gray\" stroke-width=\"0.2\"/><path d=\"M 188 157 139 265\" stroke=\"gray\" stroke-width=\"0.2\"/><path d=\"M 188 157 240 95\" stroke=\"gray\" stroke-width=\"0.2\"/><path d=\"M 188 157 166 55\" stroke=\"gray\" stroke-width=\"0.2\"/><path d=\"M 188 157 293 295\" stroke=\"gray\" stroke-width=\"0.2\"/><path d=\"M 188 157 110 223\" stroke=\"gray\" stroke-width=\"0.2\"/><path d=\"M 293 295 544 393\" stroke=\"gray\" stroke-width=\"0.2\"/><path d=\"M 293 295 397 372\" stroke=\"gray\" stroke-width=\"0.2\"/><path d=\"M 293 295 139 265\" stroke=\"gray\" stroke-width=\"0.2\"/><path d=\"M 293 295 188 157\" stroke=\"gray\" stroke-width=\"0.2\"/><path d=\"M 293 295 110 223\" stroke=\"gray\" stroke-width=\"0.2\"/><path d=\"M 610 476 687 473\" stroke=\"gray\" stroke-width=\"0.2\"/><path d=\"M 610 476 544 393\" stroke=\"gray\" stroke-width=\"0.2\"/><path d=\"M 610 476 589 520\" stroke=\"gray\" stroke-width=\"0.2\"/><path d=\"M 110 223 139 265\" stroke=\"gray\" stroke-width=\"0.2\"/><path d=\"M 110 223 188 157\" stroke=\"gray\" stroke-width=\"0.2\"/><path d=\"M 110 223 293 295\" stroke=\"gray\" stroke-width=\"0.2\"/><path d=\"M 589 520 687 473\" stroke=\"gray\" stroke-width=\"0.2\"/><path d=\"M 589 520 544 393\" stroke=\"gray\" stroke-width=\"0.2\"/><path d=\"M 589 520 610 476\" stroke=\"gray\" stroke-width=\"0.2\"/><circle cx=\"20\" cy=\"266\" r=\"3.0\" style=\"fill:rgb(72, 96, 209);stroke:black;stroke-width:1.0\"/><circle cx=\"687\" cy=\"473\" r=\"3.0\" style=\"fill:rgb(127, 162, 250);stroke:black;stroke-width:1.0\"/><circle cx=\"94\" cy=\"303\" r=\"3.0\" style=\"fill:rgb(72, 96, 209);stroke:black;stroke-width:1.0\"/><circle cx=\"720\" cy=\"334\" r=\"3.0\" style=\"fill:rgb(76, 102, 214);stroke:black;stroke-width:1.0\"/><circle cx=\"310\" cy=\"50\" r=\"3.0\" style=\"fill:rgb(172, 200, 252);stroke:black;stroke-width:1.0\"/><circle cx=\"209\" cy=\"20\" r=\"3.0\" style=\"fill:rgb(172, 200, 252);stroke:black;stroke-width:1.0\"/><circle cx=\"301\" cy=\"87\" r=\"3.0\" style=\"fill:rgb(172, 200, 252);stroke:black;stroke-width:1.0\"/><circle cx=\"544\" cy=\"393\" r=\"3.0\" style=\"fill:rgb(197, 50, 51);stroke:black;stroke-width:1.0\"/><circle cx=\"270\" cy=\"23\" r=\"3.0\" style=\"fill:rgb(172, 200, 252);stroke:black;stroke-width:1.0\"/><circle cx=\"221\" cy=\"60\" r=\"3.0\" style=\"fill:rgb(172, 200, 252);stroke:black;stroke-width:1.0\"/><circle cx=\"397\" cy=\"372\" r=\"3.0\" style=\"fill:rgb(58, 76, 192);stroke:black;stroke-width:1.0\"/><circle cx=\"139\" cy=\"265\" r=\"3.0\" style=\"fill:rgb(166, 195, 253);stroke:black;stroke-width:1.0\"/><circle cx=\"240\" cy=\"95\" r=\"3.0\" style=\"fill:rgb(172, 200, 252);stroke:black;stroke-width:1.0\"/><circle cx=\"166\" cy=\"55\" r=\"3.0\" style=\"fill:rgb(172, 200, 252);stroke:black;stroke-width:1.0\"/><circle cx=\"643\" cy=\"314\" r=\"3.0\" style=\"fill:rgb(76, 102, 214);stroke:black;stroke-width:1.0\"/><circle cx=\"188\" cy=\"157\" r=\"3.0\" style=\"fill:rgb(179, 3, 38);stroke:black;stroke-width:1.0\"/><circle cx=\"293\" cy=\"295\" r=\"3.0\" style=\"fill:rgb(189, 210, 246);stroke:black;stroke-width:1.0\"/><circle cx=\"610\" cy=\"476\" r=\"3.0\" style=\"fill:rgb(127, 162, 250);stroke:black;stroke-width:1.0\"/><circle cx=\"110\" cy=\"223\" r=\"3.0\" style=\"fill:rgb(72, 96, 209);stroke:black;stroke-width:1.0\"/><circle cx=\"589\" cy=\"520\" r=\"3.0\" style=\"fill:rgb(127, 162, 250);stroke:black;stroke-width:1.0\"/><text font-size=\"10\" x=\"26\" y=\"269\">Timothy M. Hospedales</text><text font-size=\"10\" x=\"693\" y=\"476\">Hrishikesh Gupta</text><text font-size=\"10\" x=\"100\" y=\"306\">Leonardo Iurada</text><text font-size=\"10\" x=\"726\" y=\"337\">Jean-Baptiste Weibel</text><text font-size=\"10\" x=\"316\" y=\"53\">Giovanni Maria Farinella</text><text font-size=\"10\" x=\"215\" y=\"23\">Dima Damen</text><text font-size=\"10\" x=\"307\" y=\"90\">Siddhant Bansal</text><text font-size=\"10\" x=\"550\" y=\"396\">Markus Vincze</text><text font-size=\"10\" x=\"276\" y=\"26\">Gabriele Goletto</text><text font-size=\"10\" x=\"227\" y=\"63\">Antonino Furnari</text><text font-size=\"10\" x=\"403\" y=\"375\">Mohammad Reza Loghmani</text><text font-size=\"10\" x=\"145\" y=\"268\">Silvia Bucci</text><text font-size=\"10\" x=\"246\" y=\"98\">Francesco Ragusa</text><text font-size=\"10\" x=\"172\" y=\"58\">Chiara Plizzari</text><text font-size=\"10\" x=\"649\" y=\"317\">Timothy Patten</text><text font-size=\"10\" x=\"194\" y=\"160\">Tatiana Tommasi</text><text font-size=\"10\" x=\"299\" y=\"298\">Barbara Caputo</text><text font-size=\"10\" x=\"616\" y=\"479\">Stefan Thalhammer</text><text font-size=\"10\" x=\"116\" y=\"226\">Pietro Asinari</text><text font-size=\"10\" x=\"595\" y=\"523\">Markus Leitner</text></svg>"
      ],
      "text/plain": [
       "<IPython.core.display.SVG object>"
      ]
     },
     "execution_count": 47,
     "metadata": {},
     "output_type": "execute_result"
    }
   ],
   "source": [
    "G_check = community_context_dict[communities[12]]['G']\n",
    "draw_community(G_check)"
   ]
  },
  {
   "cell_type": "code",
   "execution_count": 48,
   "id": "a0cdf340",
   "metadata": {},
   "outputs": [
    {
     "data": {
      "text/plain": [
       "['An Outlook into the Future of Egocentric Vision',\n",
       " 'Ego4D: Around the World in 3,000 Hours of Egocentric Video',\n",
       " 'Fairness meets Cross-Domain Learning: a new perspective on Models and Metrics',\n",
       " 'Grasping the Inconspicuous',\n",
       " \"Making AI 'Smart': Bridging AI and Cognitive Science\",\n",
       " 'Recognizing Objects In-the-wild: Where Do We Stand?',\n",
       " 'Sim2Real 3D Object Classification using Spherical Kernel Point Convolution and a Deep Center Voting Scheme',\n",
       " 'Towards Fairness Certification in Artificial Intelligence']"
      ]
     },
     "execution_count": 48,
     "metadata": {},
     "output_type": "execute_result"
    }
   ],
   "source": [
    "show_author_papers(df, G_check)\n",
    "\n",
    "#Computational Metacognition\n",
    "#Large Language Models for User Interest Journeys"
   ]
  },
  {
   "cell_type": "code",
   "execution_count": 49,
   "id": "edbac5d1",
   "metadata": {},
   "outputs": [
    {
     "name": "stdout",
     "output_type": "stream",
     "text": [
      "Density: 0.27058823529411763\n",
      "Node Count: 35\n"
     ]
    },
    {
     "data": {
      "image/svg+xml": [
       "<svg height=\"540\" width=\"860.0\" xmlns=\"http://www.w3.org/2000/svg\"><path d=\"M 670 439 594 302\" stroke=\"gray\" stroke-width=\"0.2\"/><path d=\"M 670 439 666 364\" stroke=\"gray\" stroke-width=\"0.2\"/><path d=\"M 670 439 691 379\" stroke=\"gray\" stroke-width=\"0.2\"/><path d=\"M 670 439 720 356\" stroke=\"gray\" stroke-width=\"0.2\"/><path d=\"M 670 439 694 432\" stroke=\"gray\" stroke-width=\"0.2\"/><path d=\"M 670 439 685 322\" stroke=\"gray\" stroke-width=\"0.2\"/><path d=\"M 670 439 654 408\" stroke=\"gray\" stroke-width=\"0.2\"/><path d=\"M 670 439 710 316\" stroke=\"gray\" stroke-width=\"0.2\"/><path d=\"M 670 439 617 283\" stroke=\"gray\" stroke-width=\"0.2\"/><path d=\"M 670 439 715 402\" stroke=\"gray\" stroke-width=\"0.2\"/><path d=\"M 527 143 576 223\" stroke=\"gray\" stroke-width=\"0.2\"/><path d=\"M 527 143 530 210\" stroke=\"gray\" stroke-width=\"0.2\"/><path d=\"M 527 143 539 256\" stroke=\"gray\" stroke-width=\"0.2\"/><path d=\"M 527 143 552 157\" stroke=\"gray\" stroke-width=\"0.2\"/><path d=\"M 527 143 554 219\" stroke=\"gray\" stroke-width=\"0.2\"/><path d=\"M 527 143 572 143\" stroke=\"gray\" stroke-width=\"0.2\"/><path d=\"M 527 143 485 318\" stroke=\"gray\" stroke-width=\"0.2\"/><path d=\"M 527 143 584 173\" stroke=\"gray\" stroke-width=\"0.2\"/><path d=\"M 527 143 505 184\" stroke=\"gray\" stroke-width=\"0.2\"/><path d=\"M 527 143 617 283\" stroke=\"gray\" stroke-width=\"0.2\"/><path d=\"M 435 501 385 491\" stroke=\"gray\" stroke-width=\"0.2\"/><path d=\"M 435 501 428 454\" stroke=\"gray\" stroke-width=\"0.2\"/><path d=\"M 435 501 369 452\" stroke=\"gray\" stroke-width=\"0.2\"/><path d=\"M 435 501 409 414\" stroke=\"gray\" stroke-width=\"0.2\"/><path d=\"M 435 501 485 318\" stroke=\"gray\" stroke-width=\"0.2\"/><path d=\"M 435 501 380 404\" stroke=\"gray\" stroke-width=\"0.2\"/><path d=\"M 435 501 407 520\" stroke=\"gray\" stroke-width=\"0.2\"/><path d=\"M 576 223 527 143\" stroke=\"gray\" stroke-width=\"0.2\"/><path d=\"M 576 223 530 210\" stroke=\"gray\" stroke-width=\"0.2\"/><path d=\"M 576 223 594 302\" stroke=\"gray\" stroke-width=\"0.2\"/><path d=\"M 576 223 539 256\" stroke=\"gray\" stroke-width=\"0.2\"/><path d=\"M 576 223 552 157\" stroke=\"gray\" stroke-width=\"0.2\"/><path d=\"M 576 223 554 219\" stroke=\"gray\" stroke-width=\"0.2\"/><path d=\"M 576 223 572 143\" stroke=\"gray\" stroke-width=\"0.2\"/><path d=\"M 576 223 485 318\" stroke=\"gray\" stroke-width=\"0.2\"/><path d=\"M 576 223 584 173\" stroke=\"gray\" stroke-width=\"0.2\"/><path d=\"M 576 223 505 184\" stroke=\"gray\" stroke-width=\"0.2\"/><path d=\"M 576 223 617 283\" stroke=\"gray\" stroke-width=\"0.2\"/><path d=\"M 530 210 527 143\" stroke=\"gray\" stroke-width=\"0.2\"/><path d=\"M 530 210 576 223\" stroke=\"gray\" stroke-width=\"0.2\"/><path d=\"M 530 210 594 302\" stroke=\"gray\" stroke-width=\"0.2\"/><path d=\"M 530 210 539 256\" stroke=\"gray\" stroke-width=\"0.2\"/><path d=\"M 530 210 552 157\" stroke=\"gray\" stroke-width=\"0.2\"/><path d=\"M 530 210 554 219\" stroke=\"gray\" stroke-width=\"0.2\"/><path d=\"M 530 210 572 143\" stroke=\"gray\" stroke-width=\"0.2\"/><path d=\"M 530 210 485 318\" stroke=\"gray\" stroke-width=\"0.2\"/><path d=\"M 530 210 584 173\" stroke=\"gray\" stroke-width=\"0.2\"/><path d=\"M 530 210 505 184\" stroke=\"gray\" stroke-width=\"0.2\"/><path d=\"M 530 210 617 283\" stroke=\"gray\" stroke-width=\"0.2\"/><path d=\"M 594 302 670 439\" stroke=\"gray\" stroke-width=\"0.2\"/><path d=\"M 594 302 576 223\" stroke=\"gray\" stroke-width=\"0.2\"/><path d=\"M 594 302 530 210\" stroke=\"gray\" stroke-width=\"0.2\"/><path d=\"M 594 302 343 217\" stroke=\"gray\" stroke-width=\"0.2\"/><path d=\"M 594 302 666 364\" stroke=\"gray\" stroke-width=\"0.2\"/><path d=\"M 594 302 539 256\" stroke=\"gray\" stroke-width=\"0.2\"/><path d=\"M 594 302 552 157\" stroke=\"gray\" stroke-width=\"0.2\"/><path d=\"M 594 302 691 379\" stroke=\"gray\" stroke-width=\"0.2\"/><path d=\"M 594 302 554 219\" stroke=\"gray\" stroke-width=\"0.2\"/><path d=\"M 594 302 720 356\" stroke=\"gray\" stroke-width=\"0.2\"/><path d=\"M 594 302 694 432\" stroke=\"gray\" stroke-width=\"0.2\"/><path d=\"M 594 302 572 143\" stroke=\"gray\" stroke-width=\"0.2\"/><path d=\"M 594 302 685 322\" stroke=\"gray\" stroke-width=\"0.2\"/><path d=\"M 594 302 654 408\" stroke=\"gray\" stroke-width=\"0.2\"/><path d=\"M 594 302 584 173\" stroke=\"gray\" stroke-width=\"0.2\"/><path d=\"M 594 302 710 316\" stroke=\"gray\" stroke-width=\"0.2\"/><path d=\"M 594 302 505 184\" stroke=\"gray\" stroke-width=\"0.2\"/><path d=\"M 594 302 617 283\" stroke=\"gray\" stroke-width=\"0.2\"/><path d=\"M 594 302 715 402\" stroke=\"gray\" stroke-width=\"0.2\"/><path d=\"M 385 491 435 501\" stroke=\"gray\" stroke-width=\"0.2\"/><path d=\"M 385 491 428 454\" stroke=\"gray\" stroke-width=\"0.2\"/><path d=\"M 385 491 369 452\" stroke=\"gray\" stroke-width=\"0.2\"/><path d=\"M 385 491 409 414\" stroke=\"gray\" stroke-width=\"0.2\"/><path d=\"M 385 491 485 318\" stroke=\"gray\" stroke-width=\"0.2\"/><path d=\"M 385 491 380 404\" stroke=\"gray\" stroke-width=\"0.2\"/><path d=\"M 385 491 407 520\" stroke=\"gray\" stroke-width=\"0.2\"/><path d=\"M 194 225 343 217\" stroke=\"gray\" stroke-width=\"0.2\"/><path d=\"M 194 225 221 230\" stroke=\"gray\" stroke-width=\"0.2\"/><path d=\"M 194 225 147 182\" stroke=\"gray\" stroke-width=\"0.2\"/><path d=\"M 428 454 435 501\" stroke=\"gray\" stroke-width=\"0.2\"/><path d=\"M 428 454 385 491\" stroke=\"gray\" stroke-width=\"0.2\"/><path d=\"M 428 454 369 452\" stroke=\"gray\" stroke-width=\"0.2\"/><path d=\"M 428 454 409 414\" stroke=\"gray\" stroke-width=\"0.2\"/><path d=\"M 428 454 485 318\" stroke=\"gray\" stroke-width=\"0.2\"/><path d=\"M 428 454 380 404\" stroke=\"gray\" stroke-width=\"0.2\"/><path d=\"M 428 454 407 520\" stroke=\"gray\" stroke-width=\"0.2\"/><path d=\"M 369 452 435 501\" stroke=\"gray\" stroke-width=\"0.2\"/><path d=\"M 369 452 385 491\" stroke=\"gray\" stroke-width=\"0.2\"/><path d=\"M 369 452 428 454\" stroke=\"gray\" stroke-width=\"0.2\"/><path d=\"M 369 452 409 414\" stroke=\"gray\" stroke-width=\"0.2\"/><path d=\"M 369 452 485 318\" stroke=\"gray\" stroke-width=\"0.2\"/><path d=\"M 369 452 380 404\" stroke=\"gray\" stroke-width=\"0.2\"/><path d=\"M 369 452 407 520\" stroke=\"gray\" stroke-width=\"0.2\"/><path d=\"M 343 217 594 302\" stroke=\"gray\" stroke-width=\"0.2\"/><path d=\"M 343 217 194 225\" stroke=\"gray\" stroke-width=\"0.2\"/><path d=\"M 343 217 221 230\" stroke=\"gray\" stroke-width=\"0.2\"/><path d=\"M 343 217 147 182\" stroke=\"gray\" stroke-width=\"0.2\"/><path d=\"M 343 217 505 184\" stroke=\"gray\" stroke-width=\"0.2\"/><path d=\"M 666 364 670 439\" stroke=\"gray\" stroke-width=\"0.2\"/><path d=\"M 666 364 594 302\" stroke=\"gray\" stroke-width=\"0.2\"/><path d=\"M 666 364 691 379\" stroke=\"gray\" stroke-width=\"0.2\"/><path d=\"M 666 364 720 356\" stroke=\"gray\" stroke-width=\"0.2\"/><path d=\"M 666 364 694 432\" stroke=\"gray\" stroke-width=\"0.2\"/><path d=\"M 666 364 685 322\" stroke=\"gray\" stroke-width=\"0.2\"/><path d=\"M 666 364 654 408\" stroke=\"gray\" stroke-width=\"0.2\"/><path d=\"M 666 364 710 316\" stroke=\"gray\" stroke-width=\"0.2\"/><path d=\"M 666 364 617 283\" stroke=\"gray\" stroke-width=\"0.2\"/><path d=\"M 666 364 715 402\" stroke=\"gray\" stroke-width=\"0.2\"/><path d=\"M 539 256 527 143\" stroke=\"gray\" stroke-width=\"0.2\"/><path d=\"M 539 256 576 223\" stroke=\"gray\" stroke-width=\"0.2\"/><path d=\"M 539 256 530 210\" stroke=\"gray\" stroke-width=\"0.2\"/><path d=\"M 539 256 594 302\" stroke=\"gray\" stroke-width=\"0.2\"/><path d=\"M 539 256 552 157\" stroke=\"gray\" stroke-width=\"0.2\"/><path d=\"M 539 256 554 219\" stroke=\"gray\" stroke-width=\"0.2\"/><path d=\"M 539 256 572 143\" stroke=\"gray\" stroke-width=\"0.2\"/><path d=\"M 539 256 485 318\" stroke=\"gray\" stroke-width=\"0.2\"/><path d=\"M 539 256 584 173\" stroke=\"gray\" stroke-width=\"0.2\"/><path d=\"M 539 256 505 184\" stroke=\"gray\" stroke-width=\"0.2\"/><path d=\"M 539 256 617 283\" stroke=\"gray\" stroke-width=\"0.2\"/><path d=\"M 552 157 527 143\" stroke=\"gray\" stroke-width=\"0.2\"/><path d=\"M 552 157 576 223\" stroke=\"gray\" stroke-width=\"0.2\"/><path d=\"M 552 157 530 210\" stroke=\"gray\" stroke-width=\"0.2\"/><path d=\"M 552 157 594 302\" stroke=\"gray\" stroke-width=\"0.2\"/><path d=\"M 552 157 539 256\" stroke=\"gray\" stroke-width=\"0.2\"/><path d=\"M 552 157 554 219\" stroke=\"gray\" stroke-width=\"0.2\"/><path d=\"M 552 157 572 143\" stroke=\"gray\" stroke-width=\"0.2\"/><path d=\"M 552 157 485 318\" stroke=\"gray\" stroke-width=\"0.2\"/><path d=\"M 552 157 571 20\" stroke=\"gray\" stroke-width=\"0.2\"/><path d=\"M 552 157 584 173\" stroke=\"gray\" stroke-width=\"0.2\"/><path d=\"M 552 157 505 184\" stroke=\"gray\" stroke-width=\"0.2\"/><path d=\"M 552 157 617 283\" stroke=\"gray\" stroke-width=\"0.2\"/><path d=\"M 691 379 670 439\" stroke=\"gray\" stroke-width=\"0.2\"/><path d=\"M 691 379 594 302\" stroke=\"gray\" stroke-width=\"0.2\"/><path d=\"M 691 379 666 364\" stroke=\"gray\" stroke-width=\"0.2\"/><path d=\"M 691 379 720 356\" stroke=\"gray\" stroke-width=\"0.2\"/><path d=\"M 691 379 694 432\" stroke=\"gray\" stroke-width=\"0.2\"/><path d=\"M 691 379 685 322\" stroke=\"gray\" stroke-width=\"0.2\"/><path d=\"M 691 379 654 408\" stroke=\"gray\" stroke-width=\"0.2\"/><path d=\"M 691 379 710 316\" stroke=\"gray\" stroke-width=\"0.2\"/><path d=\"M 691 379 617 283\" stroke=\"gray\" stroke-width=\"0.2\"/><path d=\"M 691 379 715 402\" stroke=\"gray\" stroke-width=\"0.2\"/><path d=\"M 554 219 527 143\" stroke=\"gray\" stroke-width=\"0.2\"/><path d=\"M 554 219 576 223\" stroke=\"gray\" stroke-width=\"0.2\"/><path d=\"M 554 219 530 210\" stroke=\"gray\" stroke-width=\"0.2\"/><path d=\"M 554 219 594 302\" stroke=\"gray\" stroke-width=\"0.2\"/><path d=\"M 554 219 539 256\" stroke=\"gray\" stroke-width=\"0.2\"/><path d=\"M 554 219 552 157\" stroke=\"gray\" stroke-width=\"0.2\"/><path d=\"M 554 219 572 143\" stroke=\"gray\" stroke-width=\"0.2\"/><path d=\"M 554 219 485 318\" stroke=\"gray\" stroke-width=\"0.2\"/><path d=\"M 554 219 584 173\" stroke=\"gray\" stroke-width=\"0.2\"/><path d=\"M 554 219 505 184\" stroke=\"gray\" stroke-width=\"0.2\"/><path d=\"M 554 219 617 283\" stroke=\"gray\" stroke-width=\"0.2\"/><path d=\"M 720 356 670 439\" stroke=\"gray\" stroke-width=\"0.2\"/><path d=\"M 720 356 594 302\" stroke=\"gray\" stroke-width=\"0.2\"/><path d=\"M 720 356 666 364\" stroke=\"gray\" stroke-width=\"0.2\"/><path d=\"M 720 356 691 379\" stroke=\"gray\" stroke-width=\"0.2\"/><path d=\"M 720 356 694 432\" stroke=\"gray\" stroke-width=\"0.2\"/><path d=\"M 720 356 685 322\" stroke=\"gray\" stroke-width=\"0.2\"/><path d=\"M 720 356 654 408\" stroke=\"gray\" stroke-width=\"0.2\"/><path d=\"M 720 356 710 316\" stroke=\"gray\" stroke-width=\"0.2\"/><path d=\"M 720 356 617 283\" stroke=\"gray\" stroke-width=\"0.2\"/><path d=\"M 720 356 715 402\" stroke=\"gray\" stroke-width=\"0.2\"/><path d=\"M 694 432 670 439\" stroke=\"gray\" stroke-width=\"0.2\"/><path d=\"M 694 432 594 302\" stroke=\"gray\" stroke-width=\"0.2\"/><path d=\"M 694 432 666 364\" stroke=\"gray\" stroke-width=\"0.2\"/><path d=\"M 694 432 691 379\" stroke=\"gray\" stroke-width=\"0.2\"/><path d=\"M 694 432 720 356\" stroke=\"gray\" stroke-width=\"0.2\"/><path d=\"M 694 432 685 322\" stroke=\"gray\" stroke-width=\"0.2\"/><path d=\"M 694 432 654 408\" stroke=\"gray\" stroke-width=\"0.2\"/><path d=\"M 694 432 710 316\" stroke=\"gray\" stroke-width=\"0.2\"/><path d=\"M 694 432 617 283\" stroke=\"gray\" stroke-width=\"0.2\"/><path d=\"M 694 432 715 402\" stroke=\"gray\" stroke-width=\"0.2\"/><path d=\"M 20 190 147 182\" stroke=\"gray\" stroke-width=\"0.2\"/><path d=\"M 20 190 35 114\" stroke=\"gray\" stroke-width=\"0.2\"/><path d=\"M 409 414 435 501\" stroke=\"gray\" stroke-width=\"0.2\"/><path d=\"M 409 414 385 491\" stroke=\"gray\" stroke-width=\"0.2\"/><path d=\"M 409 414 428 454\" stroke=\"gray\" stroke-width=\"0.2\"/><path d=\"M 409 414 369 452\" stroke=\"gray\" stroke-width=\"0.2\"/><path d=\"M 409 414 485 318\" stroke=\"gray\" stroke-width=\"0.2\"/><path d=\"M 409 414 380 404\" stroke=\"gray\" stroke-width=\"0.2\"/><path d=\"M 409 414 407 520\" stroke=\"gray\" stroke-width=\"0.2\"/><path d=\"M 572 143 527 143\" stroke=\"gray\" stroke-width=\"0.2\"/><path d=\"M 572 143 576 223\" stroke=\"gray\" stroke-width=\"0.2\"/><path d=\"M 572 143 530 210\" stroke=\"gray\" stroke-width=\"0.2\"/><path d=\"M 572 143 594 302\" stroke=\"gray\" stroke-width=\"0.2\"/><path d=\"M 572 143 539 256\" stroke=\"gray\" stroke-width=\"0.2\"/><path d=\"M 572 143 552 157\" stroke=\"gray\" stroke-width=\"0.2\"/><path d=\"M 572 143 554 219\" stroke=\"gray\" stroke-width=\"0.2\"/><path d=\"M 572 143 485 318\" stroke=\"gray\" stroke-width=\"0.2\"/><path d=\"M 572 143 571 20\" stroke=\"gray\" stroke-width=\"0.2\"/><path d=\"M 572 143 584 173\" stroke=\"gray\" stroke-width=\"0.2\"/><path d=\"M 572 143 505 184\" stroke=\"gray\" stroke-width=\"0.2\"/><path d=\"M 572 143 617 283\" stroke=\"gray\" stroke-width=\"0.2\"/><path d=\"M 685 322 670 439\" stroke=\"gray\" stroke-width=\"0.2\"/><path d=\"M 685 322 594 302\" stroke=\"gray\" stroke-width=\"0.2\"/><path d=\"M 685 322 666 364\" stroke=\"gray\" stroke-width=\"0.2\"/><path d=\"M 685 322 691 379\" stroke=\"gray\" stroke-width=\"0.2\"/><path d=\"M 685 322 720 356\" stroke=\"gray\" stroke-width=\"0.2\"/><path d=\"M 685 322 694 432\" stroke=\"gray\" stroke-width=\"0.2\"/><path d=\"M 685 322 654 408\" stroke=\"gray\" stroke-width=\"0.2\"/><path d=\"M 685 322 710 316\" stroke=\"gray\" stroke-width=\"0.2\"/><path d=\"M 685 322 617 283\" stroke=\"gray\" stroke-width=\"0.2\"/><path d=\"M 685 322 715 402\" stroke=\"gray\" stroke-width=\"0.2\"/><path d=\"M 485 318 527 143\" stroke=\"gray\" stroke-width=\"0.2\"/><path d=\"M 485 318 435 501\" stroke=\"gray\" stroke-width=\"0.2\"/><path d=\"M 485 318 576 223\" stroke=\"gray\" stroke-width=\"0.2\"/><path d=\"M 485 318 530 210\" stroke=\"gray\" stroke-width=\"0.2\"/><path d=\"M 485 318 385 491\" stroke=\"gray\" stroke-width=\"0.2\"/><path d=\"M 485 318 428 454\" stroke=\"gray\" stroke-width=\"0.2\"/><path d=\"M 485 318 369 452\" stroke=\"gray\" stroke-width=\"0.2\"/><path d=\"M 485 318 539 256\" stroke=\"gray\" stroke-width=\"0.2\"/><path d=\"M 485 318 552 157\" stroke=\"gray\" stroke-width=\"0.2\"/><path d=\"M 485 318 554 219\" stroke=\"gray\" stroke-width=\"0.2\"/><path d=\"M 485 318 409 414\" stroke=\"gray\" stroke-width=\"0.2\"/><path d=\"M 485 318 572 143\" stroke=\"gray\" stroke-width=\"0.2\"/><path d=\"M 485 318 380 404\" stroke=\"gray\" stroke-width=\"0.2\"/><path d=\"M 485 318 584 173\" stroke=\"gray\" stroke-width=\"0.2\"/><path d=\"M 485 318 505 184\" stroke=\"gray\" stroke-width=\"0.2\"/><path d=\"M 485 318 617 283\" stroke=\"gray\" stroke-width=\"0.2\"/><path d=\"M 485 318 407 520\" stroke=\"gray\" stroke-width=\"0.2\"/><path d=\"M 654 408 670 439\" stroke=\"gray\" stroke-width=\"0.2\"/><path d=\"M 654 408 594 302\" stroke=\"gray\" stroke-width=\"0.2\"/><path d=\"M 654 408 666 364\" stroke=\"gray\" stroke-width=\"0.2\"/><path d=\"M 654 408 691 379\" stroke=\"gray\" stroke-width=\"0.2\"/><path d=\"M 654 408 720 356\" stroke=\"gray\" stroke-width=\"0.2\"/><path d=\"M 654 408 694 432\" stroke=\"gray\" stroke-width=\"0.2\"/><path d=\"M 654 408 685 322\" stroke=\"gray\" stroke-width=\"0.2\"/><path d=\"M 654 408 710 316\" stroke=\"gray\" stroke-width=\"0.2\"/><path d=\"M 654 408 617 283\" stroke=\"gray\" stroke-width=\"0.2\"/><path d=\"M 654 408 715 402\" stroke=\"gray\" stroke-width=\"0.2\"/><path d=\"M 221 230 194 225\" stroke=\"gray\" stroke-width=\"0.2\"/><path d=\"M 221 230 343 217\" stroke=\"gray\" stroke-width=\"0.2\"/><path d=\"M 221 230 147 182\" stroke=\"gray\" stroke-width=\"0.2\"/><path d=\"M 147 182 194 225\" stroke=\"gray\" stroke-width=\"0.2\"/><path d=\"M 147 182 343 217\" stroke=\"gray\" stroke-width=\"0.2\"/><path d=\"M 147 182 20 190\" stroke=\"gray\" stroke-width=\"0.2\"/><path d=\"M 147 182 221 230\" stroke=\"gray\" stroke-width=\"0.2\"/><path d=\"M 147 182 35 114\" stroke=\"gray\" stroke-width=\"0.2\"/><path d=\"M 571 20 552 157\" stroke=\"gray\" stroke-width=\"0.2\"/><path d=\"M 571 20 572 143\" stroke=\"gray\" stroke-width=\"0.2\"/><path d=\"M 571 20 584 173\" stroke=\"gray\" stroke-width=\"0.2\"/><path d=\"M 571 20 505 184\" stroke=\"gray\" stroke-width=\"0.2\"/><path d=\"M 380 404 435 501\" stroke=\"gray\" stroke-width=\"0.2\"/><path d=\"M 380 404 385 491\" stroke=\"gray\" stroke-width=\"0.2\"/><path d=\"M 380 404 428 454\" stroke=\"gray\" stroke-width=\"0.2\"/><path d=\"M 380 404 369 452\" stroke=\"gray\" stroke-width=\"0.2\"/><path d=\"M 380 404 409 414\" stroke=\"gray\" stroke-width=\"0.2\"/><path d=\"M 380 404 485 318\" stroke=\"gray\" stroke-width=\"0.2\"/><path d=\"M 380 404 407 520\" stroke=\"gray\" stroke-width=\"0.2\"/><path d=\"M 35 114 20 190\" stroke=\"gray\" stroke-width=\"0.2\"/><path d=\"M 35 114 147 182\" stroke=\"gray\" stroke-width=\"0.2\"/><path d=\"M 584 173 527 143\" stroke=\"gray\" stroke-width=\"0.2\"/><path d=\"M 584 173 576 223\" stroke=\"gray\" stroke-width=\"0.2\"/><path d=\"M 584 173 530 210\" stroke=\"gray\" stroke-width=\"0.2\"/><path d=\"M 584 173 594 302\" stroke=\"gray\" stroke-width=\"0.2\"/><path d=\"M 584 173 539 256\" stroke=\"gray\" stroke-width=\"0.2\"/><path d=\"M 584 173 552 157\" stroke=\"gray\" stroke-width=\"0.2\"/><path d=\"M 584 173 554 219\" stroke=\"gray\" stroke-width=\"0.2\"/><path d=\"M 584 173 572 143\" stroke=\"gray\" stroke-width=\"0.2\"/><path d=\"M 584 173 485 318\" stroke=\"gray\" stroke-width=\"0.2\"/><path d=\"M 584 173 571 20\" stroke=\"gray\" stroke-width=\"0.2\"/><path d=\"M 584 173 505 184\" stroke=\"gray\" stroke-width=\"0.2\"/><path d=\"M 584 173 617 283\" stroke=\"gray\" stroke-width=\"0.2\"/><path d=\"M 710 316 670 439\" stroke=\"gray\" stroke-width=\"0.2\"/><path d=\"M 710 316 594 302\" stroke=\"gray\" stroke-width=\"0.2\"/><path d=\"M 710 316 666 364\" stroke=\"gray\" stroke-width=\"0.2\"/><path d=\"M 710 316 691 379\" stroke=\"gray\" stroke-width=\"0.2\"/><path d=\"M 710 316 720 356\" stroke=\"gray\" stroke-width=\"0.2\"/><path d=\"M 710 316 694 432\" stroke=\"gray\" stroke-width=\"0.2\"/><path d=\"M 710 316 685 322\" stroke=\"gray\" stroke-width=\"0.2\"/><path d=\"M 710 316 654 408\" stroke=\"gray\" stroke-width=\"0.2\"/><path d=\"M 710 316 617 283\" stroke=\"gray\" stroke-width=\"0.2\"/><path d=\"M 710 316 715 402\" stroke=\"gray\" stroke-width=\"0.2\"/><path d=\"M 505 184 527 143\" stroke=\"gray\" stroke-width=\"0.2\"/><path d=\"M 505 184 576 223\" stroke=\"gray\" stroke-width=\"0.2\"/><path d=\"M 505 184 530 210\" stroke=\"gray\" stroke-width=\"0.2\"/><path d=\"M 505 184 594 302\" stroke=\"gray\" stroke-width=\"0.2\"/><path d=\"M 505 184 343 217\" stroke=\"gray\" stroke-width=\"0.2\"/><path d=\"M 505 184 539 256\" stroke=\"gray\" stroke-width=\"0.2\"/><path d=\"M 505 184 552 157\" stroke=\"gray\" stroke-width=\"0.2\"/><path d=\"M 505 184 554 219\" stroke=\"gray\" stroke-width=\"0.2\"/><path d=\"M 505 184 572 143\" stroke=\"gray\" stroke-width=\"0.2\"/><path d=\"M 505 184 485 318\" stroke=\"gray\" stroke-width=\"0.2\"/><path d=\"M 505 184 571 20\" stroke=\"gray\" stroke-width=\"0.2\"/><path d=\"M 505 184 584 173\" stroke=\"gray\" stroke-width=\"0.2\"/><path d=\"M 505 184 617 283\" stroke=\"gray\" stroke-width=\"0.2\"/><path d=\"M 617 283 670 439\" stroke=\"gray\" stroke-width=\"0.2\"/><path d=\"M 617 283 527 143\" stroke=\"gray\" stroke-width=\"0.2\"/><path d=\"M 617 283 576 223\" stroke=\"gray\" stroke-width=\"0.2\"/><path d=\"M 617 283 530 210\" stroke=\"gray\" stroke-width=\"0.2\"/><path d=\"M 617 283 594 302\" stroke=\"gray\" stroke-width=\"0.2\"/><path d=\"M 617 283 666 364\" stroke=\"gray\" stroke-width=\"0.2\"/><path d=\"M 617 283 539 256\" stroke=\"gray\" stroke-width=\"0.2\"/><path d=\"M 617 283 552 157\" stroke=\"gray\" stroke-width=\"0.2\"/><path d=\"M 617 283 691 379\" stroke=\"gray\" stroke-width=\"0.2\"/><path d=\"M 617 283 554 219\" stroke=\"gray\" stroke-width=\"0.2\"/><path d=\"M 617 283 720 356\" stroke=\"gray\" stroke-width=\"0.2\"/><path d=\"M 617 283 694 432\" stroke=\"gray\" stroke-width=\"0.2\"/><path d=\"M 617 283 572 143\" stroke=\"gray\" stroke-width=\"0.2\"/><path d=\"M 617 283 685 322\" stroke=\"gray\" stroke-width=\"0.2\"/><path d=\"M 617 283 485 318\" stroke=\"gray\" stroke-width=\"0.2\"/><path d=\"M 617 283 654 408\" stroke=\"gray\" stroke-width=\"0.2\"/><path d=\"M 617 283 584 173\" stroke=\"gray\" stroke-width=\"0.2\"/><path d=\"M 617 283 710 316\" stroke=\"gray\" stroke-width=\"0.2\"/><path d=\"M 617 283 505 184\" stroke=\"gray\" stroke-width=\"0.2\"/><path d=\"M 617 283 715 402\" stroke=\"gray\" stroke-width=\"0.2\"/><path d=\"M 715 402 670 439\" stroke=\"gray\" stroke-width=\"0.2\"/><path d=\"M 715 402 594 302\" stroke=\"gray\" stroke-width=\"0.2\"/><path d=\"M 715 402 666 364\" stroke=\"gray\" stroke-width=\"0.2\"/><path d=\"M 715 402 691 379\" stroke=\"gray\" stroke-width=\"0.2\"/><path d=\"M 715 402 720 356\" stroke=\"gray\" stroke-width=\"0.2\"/><path d=\"M 715 402 694 432\" stroke=\"gray\" stroke-width=\"0.2\"/><path d=\"M 715 402 685 322\" stroke=\"gray\" stroke-width=\"0.2\"/><path d=\"M 715 402 654 408\" stroke=\"gray\" stroke-width=\"0.2\"/><path d=\"M 715 402 710 316\" stroke=\"gray\" stroke-width=\"0.2\"/><path d=\"M 715 402 617 283\" stroke=\"gray\" stroke-width=\"0.2\"/><path d=\"M 407 520 435 501\" stroke=\"gray\" stroke-width=\"0.2\"/><path d=\"M 407 520 385 491\" stroke=\"gray\" stroke-width=\"0.2\"/><path d=\"M 407 520 428 454\" stroke=\"gray\" stroke-width=\"0.2\"/><path d=\"M 407 520 369 452\" stroke=\"gray\" stroke-width=\"0.2\"/><path d=\"M 407 520 409 414\" stroke=\"gray\" stroke-width=\"0.2\"/><path d=\"M 407 520 485 318\" stroke=\"gray\" stroke-width=\"0.2\"/><path d=\"M 407 520 380 404\" stroke=\"gray\" stroke-width=\"0.2\"/><circle cx=\"670\" cy=\"439\" r=\"3.0\" style=\"fill:rgb(180, 205, 250);stroke:black;stroke-width:1.0\"/><circle cx=\"527\" cy=\"143\" r=\"3.0\" style=\"fill:rgb(180, 205, 250);stroke:black;stroke-width:1.0\"/><circle cx=\"435\" cy=\"501\" r=\"3.0\" style=\"fill:rgb(159, 190, 254);stroke:black;stroke-width:1.0\"/><circle cx=\"576\" cy=\"223\" r=\"3.0\" style=\"fill:rgb(199, 214, 240);stroke:black;stroke-width:1.0\"/><circle cx=\"530\" cy=\"210\" r=\"3.0\" style=\"fill:rgb(199, 214, 240);stroke:black;stroke-width:1.0\"/><circle cx=\"594\" cy=\"302\" r=\"3.0\" style=\"fill:rgb(182, 13, 40);stroke:black;stroke-width:1.0\"/><circle cx=\"385\" cy=\"491\" r=\"3.0\" style=\"fill:rgb(159, 190, 254);stroke:black;stroke-width:1.0\"/><circle cx=\"194\" cy=\"225\" r=\"3.0\" style=\"fill:rgb(127, 162, 250);stroke:black;stroke-width:1.0\"/><circle cx=\"428\" cy=\"454\" r=\"3.0\" style=\"fill:rgb(159, 190, 254);stroke:black;stroke-width:1.0\"/><circle cx=\"369\" cy=\"452\" r=\"3.0\" style=\"fill:rgb(159, 190, 254);stroke:black;stroke-width:1.0\"/><circle cx=\"343\" cy=\"217\" r=\"3.0\" style=\"fill:rgb(183, 207, 249);stroke:black;stroke-width:1.0\"/><circle cx=\"666\" cy=\"364\" r=\"3.0\" style=\"fill:rgb(180, 205, 250);stroke:black;stroke-width:1.0\"/><circle cx=\"539\" cy=\"256\" r=\"3.0\" style=\"fill:rgb(199, 214, 240);stroke:black;stroke-width:1.0\"/><circle cx=\"552\" cy=\"157\" r=\"3.0\" style=\"fill:rgb(222, 219, 218);stroke:black;stroke-width:1.0\"/><circle cx=\"691\" cy=\"379\" r=\"3.0\" style=\"fill:rgb(180, 205, 250);stroke:black;stroke-width:1.0\"/><circle cx=\"554\" cy=\"219\" r=\"3.0\" style=\"fill:rgb(199, 214, 240);stroke:black;stroke-width:1.0\"/><circle cx=\"720\" cy=\"356\" r=\"3.0\" style=\"fill:rgb(180, 205, 250);stroke:black;stroke-width:1.0\"/><circle cx=\"694\" cy=\"432\" r=\"3.0\" style=\"fill:rgb(180, 205, 250);stroke:black;stroke-width:1.0\"/><circle cx=\"20\" cy=\"190\" r=\"3.0\" style=\"fill:rgb(99, 131, 234);stroke:black;stroke-width:1.0\"/><circle cx=\"409\" cy=\"414\" r=\"3.0\" style=\"fill:rgb(159, 190, 254);stroke:black;stroke-width:1.0\"/><circle cx=\"572\" cy=\"143\" r=\"3.0\" style=\"fill:rgb(222, 219, 218);stroke:black;stroke-width:1.0\"/><circle cx=\"685\" cy=\"322\" r=\"3.0\" style=\"fill:rgb(180, 205, 250);stroke:black;stroke-width:1.0\"/><circle cx=\"485\" cy=\"318\" r=\"3.0\" style=\"fill:rgb(201, 59, 55);stroke:black;stroke-width:1.0\"/><circle cx=\"654\" cy=\"408\" r=\"3.0\" style=\"fill:rgb(180, 205, 250);stroke:black;stroke-width:1.0\"/><circle cx=\"221\" cy=\"230\" r=\"3.0\" style=\"fill:rgb(127, 162, 250);stroke:black;stroke-width:1.0\"/><circle cx=\"147\" cy=\"182\" r=\"3.0\" style=\"fill:rgb(245, 193, 168);stroke:black;stroke-width:1.0\"/><circle cx=\"571\" cy=\"20\" r=\"3.0\" style=\"fill:rgb(58, 76, 192);stroke:black;stroke-width:1.0\"/><circle cx=\"380\" cy=\"404\" r=\"3.0\" style=\"fill:rgb(159, 190, 254);stroke:black;stroke-width:1.0\"/><circle cx=\"35\" cy=\"114\" r=\"3.0\" style=\"fill:rgb(99, 131, 234);stroke:black;stroke-width:1.0\"/><circle cx=\"584\" cy=\"173\" r=\"3.0\" style=\"fill:rgb(222, 219, 218);stroke:black;stroke-width:1.0\"/><circle cx=\"710\" cy=\"316\" r=\"3.0\" style=\"fill:rgb(180, 205, 250);stroke:black;stroke-width:1.0\"/><circle cx=\"505\" cy=\"184\" r=\"3.0\" style=\"fill:rgb(245, 193, 168);stroke:black;stroke-width:1.0\"/><circle cx=\"617\" cy=\"283\" r=\"3.0\" style=\"fill:rgb(179, 3, 38);stroke:black;stroke-width:1.0\"/><circle cx=\"715\" cy=\"402\" r=\"3.0\" style=\"fill:rgb(180, 205, 250);stroke:black;stroke-width:1.0\"/><circle cx=\"407\" cy=\"520\" r=\"3.0\" style=\"fill:rgb(159, 190, 254);stroke:black;stroke-width:1.0\"/><text font-size=\"10\" x=\"676\" y=\"442\">Jian Chen</text><text font-size=\"10\" x=\"533\" y=\"146\">Xinju Zhao</text><text font-size=\"10\" x=\"441\" y=\"504\">Ruibo Fu</text><text font-size=\"10\" x=\"582\" y=\"226\">Zhihao Yu</text><text font-size=\"10\" x=\"536\" y=\"213\">Xinyu Ma</text><text font-size=\"10\" x=\"600\" y=\"305\">Jiangtao Wang</text><text font-size=\"10\" x=\"391\" y=\"494\">Jianhua Tao</text><text font-size=\"10\" x=\"200\" y=\"228\">Brian C. Keegan</text><text font-size=\"10\" x=\"434\" y=\"457\">Haoxin Ma</text><text font-size=\"10\" x=\"375\" y=\"455\">Jiangyan Yi</text><text font-size=\"10\" x=\"349\" y=\"220\">Qin Lv</text><text font-size=\"10\" x=\"672\" y=\"367\">Kunwei Li</text><text font-size=\"10\" x=\"545\" y=\"259\">Chaohe Zhang</text><text font-size=\"10\" x=\"558\" y=\"160\">Liantao Ma</text><text font-size=\"10\" x=\"697\" y=\"382\">Han Wu</text><text font-size=\"10\" x=\"560\" y=\"222\">Xianfeng Jiao</text><text font-size=\"10\" x=\"726\" y=\"359\">Xiangfei Chai</text><text font-size=\"10\" x=\"700\" y=\"435\">Sumi Helal</text><text font-size=\"10\" x=\"26\" y=\"193\">Kumar Bhargav Srinivasan</text><text font-size=\"10\" x=\"415\" y=\"417\">Shiming Wang</text><text font-size=\"10\" x=\"578\" y=\"146\">Junyi Gao</text><text font-size=\"10\" x=\"691\" y=\"325\">Shaolin Li</text><text font-size=\"10\" x=\"491\" y=\"321\">Tao Wang</text><text font-size=\"10\" x=\"660\" y=\"411\">Yayuan Gen</text><text font-size=\"10\" x=\"227\" y=\"233\">Jason Shuo Zhang</text><text font-size=\"10\" x=\"153\" y=\"185\">Chenhao Tan</text><text font-size=\"10\" x=\"577\" y=\"23\">Weihao Tan</text><text font-size=\"10\" x=\"386\" y=\"407\">Chenglong Wang</text><text font-size=\"10\" x=\"41\" y=\"117\">David Atkinson</text><text font-size=\"10\" x=\"590\" y=\"176\">Wen Tang</text><text font-size=\"10\" x=\"716\" y=\"319\">Bei Liu</text><text font-size=\"10\" x=\"511\" y=\"187\">Yasha Wang</text><text font-size=\"10\" x=\"623\" y=\"286\">Wenjie Ruan</text><text font-size=\"10\" x=\"721\" y=\"405\">Dingchang Zheng</text><text font-size=\"10\" x=\"413\" y=\"523\">Xinrui Yan</text></svg>"
      ],
      "text/plain": [
       "<IPython.core.display.SVG object>"
      ]
     },
     "execution_count": 49,
     "metadata": {},
     "output_type": "execute_result"
    }
   ],
   "source": [
    "G_check = community_context_dict[communities[13]]['G']\n",
    "draw_community(G_check)"
   ]
  },
  {
   "cell_type": "code",
   "execution_count": 50,
   "id": "abe647d9",
   "metadata": {},
   "outputs": [
    {
     "data": {
      "text/plain": [
       "['All Who Wander: On the Prevalence and Characteristics of Multi-community Engagement',\n",
       " 'Ask Not What AI Can Do, But What AI Should Do: Towards a Framework of Task Delegability',\n",
       " 'Autocorrect in the Process of Translation -- Multi-task Learning Improves Dialogue Machine Translation',\n",
       " 'CFAD: A Chinese Dataset for Fake Audio Detection',\n",
       " 'Cell Selection with Deep Reinforcement Learning in Sparse Mobile Crowdsensing',\n",
       " 'CovidCare: Transferring Knowledge from Existing EMR to Emerging Epidemic for Interpretable Prognosis',\n",
       " 'Crowd-Powered Sensing and Actuation in Smart Cities: Current Issues and Future Directions',\n",
       " 'Grasp stability prediction with time series data based on STFT and LSTM',\n",
       " 'Interpretable Machine Learning for COVID-19: An Empirical Study on Severity Prediction Task',\n",
       " 'MUSEFood: Multi-sensor-based Food Volume Estimation on Smartphones',\n",
       " 'Mortality Prediction with Adaptive Feature Importance Recalibration for Peritoneal Dialysis Patients: a deep-learning-based study on a real-world longitudinal follow-up dataset',\n",
       " 'SCB-Dataset3: A Benchmark for Detecting Student Classroom Behavior',\n",
       " 'Understanding the Diverging User Trajectories in Highly-related Online Communities during the COVID-19 Pandemic',\n",
       " 'VCSUM: A Versatile Chinese Meeting Summarization Dataset',\n",
       " 'Wave breaking in the unidirectional non-local wave model',\n",
       " 'What Gets Echoed? Understanding the \"Pointers\" in Explanations of Persuasive Arguments']"
      ]
     },
     "execution_count": 50,
     "metadata": {},
     "output_type": "execute_result"
    }
   ],
   "source": [
    "show_author_papers(df, G_check)\n",
    "\n",
    "#A Survey on Personality-Aware Recommendation Systems\n",
    "#MES-P: an Emotional Tonal Speech Dataset in Mandarin Chinese with Distal and Proximal Labels"
   ]
  },
  {
   "cell_type": "code",
   "execution_count": 84,
   "id": "d878291b",
   "metadata": {},
   "outputs": [
    {
     "name": "stdout",
     "output_type": "stream",
     "text": [
      "Density: 0.27816091954022987\n",
      "Node Count: 30\n"
     ]
    },
    {
     "data": {
      "image/svg+xml": [
       "<svg height=\"540\" width=\"845.0\" xmlns=\"http://www.w3.org/2000/svg\"><path d=\"M 287 280 456 274\" stroke=\"gray\" stroke-width=\"0.2\"/><path d=\"M 287 280 203 349\" stroke=\"gray\" stroke-width=\"0.2\"/><path d=\"M 287 280 171 315\" stroke=\"gray\" stroke-width=\"0.2\"/><path d=\"M 287 280 228 217\" stroke=\"gray\" stroke-width=\"0.2\"/><path d=\"M 287 280 229 285\" stroke=\"gray\" stroke-width=\"0.2\"/><path d=\"M 287 280 268 328\" stroke=\"gray\" stroke-width=\"0.2\"/><path d=\"M 287 280 273 233\" stroke=\"gray\" stroke-width=\"0.2\"/><path d=\"M 287 280 191 247\" stroke=\"gray\" stroke-width=\"0.2\"/><path d=\"M 720 205 623 219\" stroke=\"gray\" stroke-width=\"0.2\"/><path d=\"M 720 205 456 274\" stroke=\"gray\" stroke-width=\"0.2\"/><path d=\"M 720 205 698 142\" stroke=\"gray\" stroke-width=\"0.2\"/><path d=\"M 720 205 681 243\" stroke=\"gray\" stroke-width=\"0.2\"/><path d=\"M 720 205 641 123\" stroke=\"gray\" stroke-width=\"0.2\"/><path d=\"M 720 205 603 161\" stroke=\"gray\" stroke-width=\"0.2\"/><path d=\"M 720 205 666 182\" stroke=\"gray\" stroke-width=\"0.2\"/><path d=\"M 487 462 534 514\" stroke=\"gray\" stroke-width=\"0.2\"/><path d=\"M 487 462 456 274\" stroke=\"gray\" stroke-width=\"0.2\"/><path d=\"M 487 462 562 468\" stroke=\"gray\" stroke-width=\"0.2\"/><path d=\"M 487 462 581 520\" stroke=\"gray\" stroke-width=\"0.2\"/><path d=\"M 487 462 521 430\" stroke=\"gray\" stroke-width=\"0.2\"/><path d=\"M 487 462 617 483\" stroke=\"gray\" stroke-width=\"0.2\"/><path d=\"M 487 462 492 506\" stroke=\"gray\" stroke-width=\"0.2\"/><path d=\"M 487 462 617 438\" stroke=\"gray\" stroke-width=\"0.2\"/><path d=\"M 487 462 572 416\" stroke=\"gray\" stroke-width=\"0.2\"/><path d=\"M 534 514 487 462\" stroke=\"gray\" stroke-width=\"0.2\"/><path d=\"M 534 514 456 274\" stroke=\"gray\" stroke-width=\"0.2\"/><path d=\"M 534 514 562 468\" stroke=\"gray\" stroke-width=\"0.2\"/><path d=\"M 534 514 581 520\" stroke=\"gray\" stroke-width=\"0.2\"/><path d=\"M 534 514 521 430\" stroke=\"gray\" stroke-width=\"0.2\"/><path d=\"M 534 514 617 483\" stroke=\"gray\" stroke-width=\"0.2\"/><path d=\"M 534 514 492 506\" stroke=\"gray\" stroke-width=\"0.2\"/><path d=\"M 534 514 617 438\" stroke=\"gray\" stroke-width=\"0.2\"/><path d=\"M 534 514 572 416\" stroke=\"gray\" stroke-width=\"0.2\"/><path d=\"M 20 415 203 349\" stroke=\"gray\" stroke-width=\"0.2\"/><path d=\"M 20 415 171 315\" stroke=\"gray\" stroke-width=\"0.2\"/><path d=\"M 623 219 720 205\" stroke=\"gray\" stroke-width=\"0.2\"/><path d=\"M 623 219 456 274\" stroke=\"gray\" stroke-width=\"0.2\"/><path d=\"M 623 219 698 142\" stroke=\"gray\" stroke-width=\"0.2\"/><path d=\"M 623 219 681 243\" stroke=\"gray\" stroke-width=\"0.2\"/><path d=\"M 623 219 641 123\" stroke=\"gray\" stroke-width=\"0.2\"/><path d=\"M 623 219 603 161\" stroke=\"gray\" stroke-width=\"0.2\"/><path d=\"M 623 219 666 182\" stroke=\"gray\" stroke-width=\"0.2\"/><path d=\"M 456 274 287 280\" stroke=\"gray\" stroke-width=\"0.2\"/><path d=\"M 456 274 720 205\" stroke=\"gray\" stroke-width=\"0.2\"/><path d=\"M 456 274 487 462\" stroke=\"gray\" stroke-width=\"0.2\"/><path d=\"M 456 274 534 514\" stroke=\"gray\" stroke-width=\"0.2\"/><path d=\"M 456 274 623 219\" stroke=\"gray\" stroke-width=\"0.2\"/><path d=\"M 456 274 203 349\" stroke=\"gray\" stroke-width=\"0.2\"/><path d=\"M 456 274 360 57\" stroke=\"gray\" stroke-width=\"0.2\"/><path d=\"M 456 274 698 142\" stroke=\"gray\" stroke-width=\"0.2\"/><path d=\"M 456 274 562 468\" stroke=\"gray\" stroke-width=\"0.2\"/><path d=\"M 456 274 581 520\" stroke=\"gray\" stroke-width=\"0.2\"/><path d=\"M 456 274 171 315\" stroke=\"gray\" stroke-width=\"0.2\"/><path d=\"M 456 274 681 243\" stroke=\"gray\" stroke-width=\"0.2\"/><path d=\"M 456 274 228 217\" stroke=\"gray\" stroke-width=\"0.2\"/><path d=\"M 456 274 229 285\" stroke=\"gray\" stroke-width=\"0.2\"/><path d=\"M 456 274 268 328\" stroke=\"gray\" stroke-width=\"0.2\"/><path d=\"M 456 274 521 430\" stroke=\"gray\" stroke-width=\"0.2\"/><path d=\"M 456 274 641 123\" stroke=\"gray\" stroke-width=\"0.2\"/><path d=\"M 456 274 476 47\" stroke=\"gray\" stroke-width=\"0.2\"/><path d=\"M 456 274 617 483\" stroke=\"gray\" stroke-width=\"0.2\"/><path d=\"M 456 274 603 161\" stroke=\"gray\" stroke-width=\"0.2\"/><path d=\"M 456 274 417 92\" stroke=\"gray\" stroke-width=\"0.2\"/><path d=\"M 456 274 273 233\" stroke=\"gray\" stroke-width=\"0.2\"/><path d=\"M 456 274 191 247\" stroke=\"gray\" stroke-width=\"0.2\"/><path d=\"M 456 274 492 506\" stroke=\"gray\" stroke-width=\"0.2\"/><path d=\"M 456 274 617 438\" stroke=\"gray\" stroke-width=\"0.2\"/><path d=\"M 456 274 666 182\" stroke=\"gray\" stroke-width=\"0.2\"/><path d=\"M 456 274 572 416\" stroke=\"gray\" stroke-width=\"0.2\"/><path d=\"M 456 274 419 20\" stroke=\"gray\" stroke-width=\"0.2\"/><path d=\"M 203 349 287 280\" stroke=\"gray\" stroke-width=\"0.2\"/><path d=\"M 203 349 20 415\" stroke=\"gray\" stroke-width=\"0.2\"/><path d=\"M 203 349 456 274\" stroke=\"gray\" stroke-width=\"0.2\"/><path d=\"M 203 349 171 315\" stroke=\"gray\" stroke-width=\"0.2\"/><path d=\"M 203 349 228 217\" stroke=\"gray\" stroke-width=\"0.2\"/><path d=\"M 203 349 229 285\" stroke=\"gray\" stroke-width=\"0.2\"/><path d=\"M 203 349 268 328\" stroke=\"gray\" stroke-width=\"0.2\"/><path d=\"M 203 349 273 233\" stroke=\"gray\" stroke-width=\"0.2\"/><path d=\"M 203 349 191 247\" stroke=\"gray\" stroke-width=\"0.2\"/><path d=\"M 360 57 456 274\" stroke=\"gray\" stroke-width=\"0.2\"/><path d=\"M 360 57 476 47\" stroke=\"gray\" stroke-width=\"0.2\"/><path d=\"M 360 57 417 92\" stroke=\"gray\" stroke-width=\"0.2\"/><path d=\"M 360 57 419 20\" stroke=\"gray\" stroke-width=\"0.2\"/><path d=\"M 698 142 720 205\" stroke=\"gray\" stroke-width=\"0.2\"/><path d=\"M 698 142 623 219\" stroke=\"gray\" stroke-width=\"0.2\"/><path d=\"M 698 142 456 274\" stroke=\"gray\" stroke-width=\"0.2\"/><path d=\"M 698 142 681 243\" stroke=\"gray\" stroke-width=\"0.2\"/><path d=\"M 698 142 641 123\" stroke=\"gray\" stroke-width=\"0.2\"/><path d=\"M 698 142 603 161\" stroke=\"gray\" stroke-width=\"0.2\"/><path d=\"M 698 142 666 182\" stroke=\"gray\" stroke-width=\"0.2\"/><path d=\"M 562 468 487 462\" stroke=\"gray\" stroke-width=\"0.2\"/><path d=\"M 562 468 534 514\" stroke=\"gray\" stroke-width=\"0.2\"/><path d=\"M 562 468 456 274\" stroke=\"gray\" stroke-width=\"0.2\"/><path d=\"M 562 468 581 520\" stroke=\"gray\" stroke-width=\"0.2\"/><path d=\"M 562 468 521 430\" stroke=\"gray\" stroke-width=\"0.2\"/><path d=\"M 562 468 617 483\" stroke=\"gray\" stroke-width=\"0.2\"/><path d=\"M 562 468 492 506\" stroke=\"gray\" stroke-width=\"0.2\"/><path d=\"M 562 468 617 438\" stroke=\"gray\" stroke-width=\"0.2\"/><path d=\"M 562 468 572 416\" stroke=\"gray\" stroke-width=\"0.2\"/><path d=\"M 581 520 487 462\" stroke=\"gray\" stroke-width=\"0.2\"/><path d=\"M 581 520 534 514\" stroke=\"gray\" stroke-width=\"0.2\"/><path d=\"M 581 520 456 274\" stroke=\"gray\" stroke-width=\"0.2\"/><path d=\"M 581 520 562 468\" stroke=\"gray\" stroke-width=\"0.2\"/><path d=\"M 581 520 521 430\" stroke=\"gray\" stroke-width=\"0.2\"/><path d=\"M 581 520 617 483\" stroke=\"gray\" stroke-width=\"0.2\"/><path d=\"M 581 520 492 506\" stroke=\"gray\" stroke-width=\"0.2\"/><path d=\"M 581 520 617 438\" stroke=\"gray\" stroke-width=\"0.2\"/><path d=\"M 581 520 572 416\" stroke=\"gray\" stroke-width=\"0.2\"/><path d=\"M 171 315 287 280\" stroke=\"gray\" stroke-width=\"0.2\"/><path d=\"M 171 315 20 415\" stroke=\"gray\" stroke-width=\"0.2\"/><path d=\"M 171 315 456 274\" stroke=\"gray\" stroke-width=\"0.2\"/><path d=\"M 171 315 203 349\" stroke=\"gray\" stroke-width=\"0.2\"/><path d=\"M 171 315 228 217\" stroke=\"gray\" stroke-width=\"0.2\"/><path d=\"M 171 315 229 285\" stroke=\"gray\" stroke-width=\"0.2\"/><path d=\"M 171 315 268 328\" stroke=\"gray\" stroke-width=\"0.2\"/><path d=\"M 171 315 273 233\" stroke=\"gray\" stroke-width=\"0.2\"/><path d=\"M 171 315 191 247\" stroke=\"gray\" stroke-width=\"0.2\"/><path d=\"M 681 243 720 205\" stroke=\"gray\" stroke-width=\"0.2\"/><path d=\"M 681 243 623 219\" stroke=\"gray\" stroke-width=\"0.2\"/><path d=\"M 681 243 456 274\" stroke=\"gray\" stroke-width=\"0.2\"/><path d=\"M 681 243 698 142\" stroke=\"gray\" stroke-width=\"0.2\"/><path d=\"M 681 243 641 123\" stroke=\"gray\" stroke-width=\"0.2\"/><path d=\"M 681 243 603 161\" stroke=\"gray\" stroke-width=\"0.2\"/><path d=\"M 681 243 666 182\" stroke=\"gray\" stroke-width=\"0.2\"/><path d=\"M 228 217 287 280\" stroke=\"gray\" stroke-width=\"0.2\"/><path d=\"M 228 217 456 274\" stroke=\"gray\" stroke-width=\"0.2\"/><path d=\"M 228 217 203 349\" stroke=\"gray\" stroke-width=\"0.2\"/><path d=\"M 228 217 171 315\" stroke=\"gray\" stroke-width=\"0.2\"/><path d=\"M 228 217 229 285\" stroke=\"gray\" stroke-width=\"0.2\"/><path d=\"M 228 217 268 328\" stroke=\"gray\" stroke-width=\"0.2\"/><path d=\"M 228 217 273 233\" stroke=\"gray\" stroke-width=\"0.2\"/><path d=\"M 228 217 191 247\" stroke=\"gray\" stroke-width=\"0.2\"/><path d=\"M 229 285 287 280\" stroke=\"gray\" stroke-width=\"0.2\"/><path d=\"M 229 285 456 274\" stroke=\"gray\" stroke-width=\"0.2\"/><path d=\"M 229 285 203 349\" stroke=\"gray\" stroke-width=\"0.2\"/><path d=\"M 229 285 171 315\" stroke=\"gray\" stroke-width=\"0.2\"/><path d=\"M 229 285 228 217\" stroke=\"gray\" stroke-width=\"0.2\"/><path d=\"M 229 285 268 328\" stroke=\"gray\" stroke-width=\"0.2\"/><path d=\"M 229 285 273 233\" stroke=\"gray\" stroke-width=\"0.2\"/><path d=\"M 229 285 191 247\" stroke=\"gray\" stroke-width=\"0.2\"/><path d=\"M 268 328 287 280\" stroke=\"gray\" stroke-width=\"0.2\"/><path d=\"M 268 328 456 274\" stroke=\"gray\" stroke-width=\"0.2\"/><path d=\"M 268 328 203 349\" stroke=\"gray\" stroke-width=\"0.2\"/><path d=\"M 268 328 171 315\" stroke=\"gray\" stroke-width=\"0.2\"/><path d=\"M 268 328 228 217\" stroke=\"gray\" stroke-width=\"0.2\"/><path d=\"M 268 328 229 285\" stroke=\"gray\" stroke-width=\"0.2\"/><path d=\"M 268 328 273 233\" stroke=\"gray\" stroke-width=\"0.2\"/><path d=\"M 268 328 191 247\" stroke=\"gray\" stroke-width=\"0.2\"/><path d=\"M 521 430 487 462\" stroke=\"gray\" stroke-width=\"0.2\"/><path d=\"M 521 430 534 514\" stroke=\"gray\" stroke-width=\"0.2\"/><path d=\"M 521 430 456 274\" stroke=\"gray\" stroke-width=\"0.2\"/><path d=\"M 521 430 562 468\" stroke=\"gray\" stroke-width=\"0.2\"/><path d=\"M 521 430 581 520\" stroke=\"gray\" stroke-width=\"0.2\"/><path d=\"M 521 430 617 483\" stroke=\"gray\" stroke-width=\"0.2\"/><path d=\"M 521 430 492 506\" stroke=\"gray\" stroke-width=\"0.2\"/><path d=\"M 521 430 617 438\" stroke=\"gray\" stroke-width=\"0.2\"/><path d=\"M 521 430 572 416\" stroke=\"gray\" stroke-width=\"0.2\"/><path d=\"M 641 123 720 205\" stroke=\"gray\" stroke-width=\"0.2\"/><path d=\"M 641 123 623 219\" stroke=\"gray\" stroke-width=\"0.2\"/><path d=\"M 641 123 456 274\" stroke=\"gray\" stroke-width=\"0.2\"/><path d=\"M 641 123 698 142\" stroke=\"gray\" stroke-width=\"0.2\"/><path d=\"M 641 123 681 243\" stroke=\"gray\" stroke-width=\"0.2\"/><path d=\"M 641 123 603 161\" stroke=\"gray\" stroke-width=\"0.2\"/><path d=\"M 641 123 666 182\" stroke=\"gray\" stroke-width=\"0.2\"/><path d=\"M 476 47 456 274\" stroke=\"gray\" stroke-width=\"0.2\"/><path d=\"M 476 47 360 57\" stroke=\"gray\" stroke-width=\"0.2\"/><path d=\"M 476 47 417 92\" stroke=\"gray\" stroke-width=\"0.2\"/><path d=\"M 476 47 419 20\" stroke=\"gray\" stroke-width=\"0.2\"/><path d=\"M 617 483 487 462\" stroke=\"gray\" stroke-width=\"0.2\"/><path d=\"M 617 483 534 514\" stroke=\"gray\" stroke-width=\"0.2\"/><path d=\"M 617 483 456 274\" stroke=\"gray\" stroke-width=\"0.2\"/><path d=\"M 617 483 562 468\" stroke=\"gray\" stroke-width=\"0.2\"/><path d=\"M 617 483 581 520\" stroke=\"gray\" stroke-width=\"0.2\"/><path d=\"M 617 483 521 430\" stroke=\"gray\" stroke-width=\"0.2\"/><path d=\"M 617 483 492 506\" stroke=\"gray\" stroke-width=\"0.2\"/><path d=\"M 617 483 617 438\" stroke=\"gray\" stroke-width=\"0.2\"/><path d=\"M 617 483 572 416\" stroke=\"gray\" stroke-width=\"0.2\"/><path d=\"M 603 161 720 205\" stroke=\"gray\" stroke-width=\"0.2\"/><path d=\"M 603 161 623 219\" stroke=\"gray\" stroke-width=\"0.2\"/><path d=\"M 603 161 456 274\" stroke=\"gray\" stroke-width=\"0.2\"/><path d=\"M 603 161 698 142\" stroke=\"gray\" stroke-width=\"0.2\"/><path d=\"M 603 161 681 243\" stroke=\"gray\" stroke-width=\"0.2\"/><path d=\"M 603 161 641 123\" stroke=\"gray\" stroke-width=\"0.2\"/><path d=\"M 603 161 666 182\" stroke=\"gray\" stroke-width=\"0.2\"/><path d=\"M 417 92 456 274\" stroke=\"gray\" stroke-width=\"0.2\"/><path d=\"M 417 92 360 57\" stroke=\"gray\" stroke-width=\"0.2\"/><path d=\"M 417 92 476 47\" stroke=\"gray\" stroke-width=\"0.2\"/><path d=\"M 417 92 419 20\" stroke=\"gray\" stroke-width=\"0.2\"/><path d=\"M 273 233 287 280\" stroke=\"gray\" stroke-width=\"0.2\"/><path d=\"M 273 233 456 274\" stroke=\"gray\" stroke-width=\"0.2\"/><path d=\"M 273 233 203 349\" stroke=\"gray\" stroke-width=\"0.2\"/><path d=\"M 273 233 171 315\" stroke=\"gray\" stroke-width=\"0.2\"/><path d=\"M 273 233 228 217\" stroke=\"gray\" stroke-width=\"0.2\"/><path d=\"M 273 233 229 285\" stroke=\"gray\" stroke-width=\"0.2\"/><path d=\"M 273 233 268 328\" stroke=\"gray\" stroke-width=\"0.2\"/><path d=\"M 273 233 191 247\" stroke=\"gray\" stroke-width=\"0.2\"/><path d=\"M 191 247 287 280\" stroke=\"gray\" stroke-width=\"0.2\"/><path d=\"M 191 247 456 274\" stroke=\"gray\" stroke-width=\"0.2\"/><path d=\"M 191 247 203 349\" stroke=\"gray\" stroke-width=\"0.2\"/><path d=\"M 191 247 171 315\" stroke=\"gray\" stroke-width=\"0.2\"/><path d=\"M 191 247 228 217\" stroke=\"gray\" stroke-width=\"0.2\"/><path d=\"M 191 247 229 285\" stroke=\"gray\" stroke-width=\"0.2\"/><path d=\"M 191 247 268 328\" stroke=\"gray\" stroke-width=\"0.2\"/><path d=\"M 191 247 273 233\" stroke=\"gray\" stroke-width=\"0.2\"/><path d=\"M 492 506 487 462\" stroke=\"gray\" stroke-width=\"0.2\"/><path d=\"M 492 506 534 514\" stroke=\"gray\" stroke-width=\"0.2\"/><path d=\"M 492 506 456 274\" stroke=\"gray\" stroke-width=\"0.2\"/><path d=\"M 492 506 562 468\" stroke=\"gray\" stroke-width=\"0.2\"/><path d=\"M 492 506 581 520\" stroke=\"gray\" stroke-width=\"0.2\"/><path d=\"M 492 506 521 430\" stroke=\"gray\" stroke-width=\"0.2\"/><path d=\"M 492 506 617 483\" stroke=\"gray\" stroke-width=\"0.2\"/><path d=\"M 492 506 617 438\" stroke=\"gray\" stroke-width=\"0.2\"/><path d=\"M 492 506 572 416\" stroke=\"gray\" stroke-width=\"0.2\"/><path d=\"M 617 438 487 462\" stroke=\"gray\" stroke-width=\"0.2\"/><path d=\"M 617 438 534 514\" stroke=\"gray\" stroke-width=\"0.2\"/><path d=\"M 617 438 456 274\" stroke=\"gray\" stroke-width=\"0.2\"/><path d=\"M 617 438 562 468\" stroke=\"gray\" stroke-width=\"0.2\"/><path d=\"M 617 438 581 520\" stroke=\"gray\" stroke-width=\"0.2\"/><path d=\"M 617 438 521 430\" stroke=\"gray\" stroke-width=\"0.2\"/><path d=\"M 617 438 617 483\" stroke=\"gray\" stroke-width=\"0.2\"/><path d=\"M 617 438 492 506\" stroke=\"gray\" stroke-width=\"0.2\"/><path d=\"M 617 438 572 416\" stroke=\"gray\" stroke-width=\"0.2\"/><path d=\"M 666 182 720 205\" stroke=\"gray\" stroke-width=\"0.2\"/><path d=\"M 666 182 623 219\" stroke=\"gray\" stroke-width=\"0.2\"/><path d=\"M 666 182 456 274\" stroke=\"gray\" stroke-width=\"0.2\"/><path d=\"M 666 182 698 142\" stroke=\"gray\" stroke-width=\"0.2\"/><path d=\"M 666 182 681 243\" stroke=\"gray\" stroke-width=\"0.2\"/><path d=\"M 666 182 641 123\" stroke=\"gray\" stroke-width=\"0.2\"/><path d=\"M 666 182 603 161\" stroke=\"gray\" stroke-width=\"0.2\"/><path d=\"M 572 416 487 462\" stroke=\"gray\" stroke-width=\"0.2\"/><path d=\"M 572 416 534 514\" stroke=\"gray\" stroke-width=\"0.2\"/><path d=\"M 572 416 456 274\" stroke=\"gray\" stroke-width=\"0.2\"/><path d=\"M 572 416 562 468\" stroke=\"gray\" stroke-width=\"0.2\"/><path d=\"M 572 416 581 520\" stroke=\"gray\" stroke-width=\"0.2\"/><path d=\"M 572 416 521 430\" stroke=\"gray\" stroke-width=\"0.2\"/><path d=\"M 572 416 617 483\" stroke=\"gray\" stroke-width=\"0.2\"/><path d=\"M 572 416 492 506\" stroke=\"gray\" stroke-width=\"0.2\"/><path d=\"M 572 416 617 438\" stroke=\"gray\" stroke-width=\"0.2\"/><path d=\"M 419 20 456 274\" stroke=\"gray\" stroke-width=\"0.2\"/><path d=\"M 419 20 360 57\" stroke=\"gray\" stroke-width=\"0.2\"/><path d=\"M 419 20 476 47\" stroke=\"gray\" stroke-width=\"0.2\"/><path d=\"M 419 20 417 92\" stroke=\"gray\" stroke-width=\"0.2\"/><circle cx=\"287\" cy=\"280\" r=\"3.0\" style=\"fill:rgb(127, 162, 250);stroke:black;stroke-width:1.0\"/><circle cx=\"720\" cy=\"205\" r=\"3.0\" style=\"fill:rgb(120, 155, 247);stroke:black;stroke-width:1.0\"/><circle cx=\"487\" cy=\"462\" r=\"3.0\" style=\"fill:rgb(130, 165, 251);stroke:black;stroke-width:1.0\"/><circle cx=\"534\" cy=\"514\" r=\"3.0\" style=\"fill:rgb(130, 165, 251);stroke:black;stroke-width:1.0\"/><circle cx=\"20\" cy=\"415\" r=\"3.0\" style=\"fill:rgb(58, 76, 192);stroke:black;stroke-width:1.0\"/><circle cx=\"623\" cy=\"219\" r=\"3.0\" style=\"fill:rgb(120, 155, 247);stroke:black;stroke-width:1.0\"/><circle cx=\"456\" cy=\"274\" r=\"3.0\" style=\"fill:rgb(179, 3, 38);stroke:black;stroke-width:1.0\"/><circle cx=\"203\" cy=\"349\" r=\"3.0\" style=\"fill:rgb(145, 179, 254);stroke:black;stroke-width:1.0\"/><circle cx=\"360\" cy=\"57\" r=\"3.0\" style=\"fill:rgb(92, 123, 229);stroke:black;stroke-width:1.0\"/><circle cx=\"698\" cy=\"142\" r=\"3.0\" style=\"fill:rgb(120, 155, 247);stroke:black;stroke-width:1.0\"/><circle cx=\"562\" cy=\"468\" r=\"3.0\" style=\"fill:rgb(130, 165, 251);stroke:black;stroke-width:1.0\"/><circle cx=\"581\" cy=\"520\" r=\"3.0\" style=\"fill:rgb(130, 165, 251);stroke:black;stroke-width:1.0\"/><circle cx=\"171\" cy=\"315\" r=\"3.0\" style=\"fill:rgb(145, 179, 254);stroke:black;stroke-width:1.0\"/><circle cx=\"681\" cy=\"243\" r=\"3.0\" style=\"fill:rgb(120, 155, 247);stroke:black;stroke-width:1.0\"/><circle cx=\"228\" cy=\"217\" r=\"3.0\" style=\"fill:rgb(127, 162, 250);stroke:black;stroke-width:1.0\"/><circle cx=\"229\" cy=\"285\" r=\"3.0\" style=\"fill:rgb(127, 162, 250);stroke:black;stroke-width:1.0\"/><circle cx=\"268\" cy=\"328\" r=\"3.0\" style=\"fill:rgb(127, 162, 250);stroke:black;stroke-width:1.0\"/><circle cx=\"521\" cy=\"430\" r=\"3.0\" style=\"fill:rgb(130, 165, 251);stroke:black;stroke-width:1.0\"/><circle cx=\"641\" cy=\"123\" r=\"3.0\" style=\"fill:rgb(120, 155, 247);stroke:black;stroke-width:1.0\"/><circle cx=\"476\" cy=\"47\" r=\"3.0\" style=\"fill:rgb(92, 123, 229);stroke:black;stroke-width:1.0\"/><circle cx=\"617\" cy=\"483\" r=\"3.0\" style=\"fill:rgb(130, 165, 251);stroke:black;stroke-width:1.0\"/><circle cx=\"603\" cy=\"161\" r=\"3.0\" style=\"fill:rgb(120, 155, 247);stroke:black;stroke-width:1.0\"/><circle cx=\"417\" cy=\"92\" r=\"3.0\" style=\"fill:rgb(92, 123, 229);stroke:black;stroke-width:1.0\"/><circle cx=\"273\" cy=\"233\" r=\"3.0\" style=\"fill:rgb(127, 162, 250);stroke:black;stroke-width:1.0\"/><circle cx=\"191\" cy=\"247\" r=\"3.0\" style=\"fill:rgb(127, 162, 250);stroke:black;stroke-width:1.0\"/><circle cx=\"492\" cy=\"506\" r=\"3.0\" style=\"fill:rgb(130, 165, 251);stroke:black;stroke-width:1.0\"/><circle cx=\"617\" cy=\"438\" r=\"3.0\" style=\"fill:rgb(130, 165, 251);stroke:black;stroke-width:1.0\"/><circle cx=\"666\" cy=\"182\" r=\"3.0\" style=\"fill:rgb(120, 155, 247);stroke:black;stroke-width:1.0\"/><circle cx=\"572\" cy=\"416\" r=\"3.0\" style=\"fill:rgb(130, 165, 251);stroke:black;stroke-width:1.0\"/><circle cx=\"419\" cy=\"20\" r=\"3.0\" style=\"fill:rgb(92, 123, 229);stroke:black;stroke-width:1.0\"/><text font-size=\"10\" x=\"293\" y=\"283\">Manfeng Dou</text><text font-size=\"10\" x=\"726\" y=\"208\">Xianfeng Chen</text><text font-size=\"10\" x=\"493\" y=\"465\">Aidan Horne</text><text font-size=\"10\" x=\"540\" y=\"517\">Weiyang Zhang</text><text font-size=\"10\" x=\"26\" y=\"418\">Liang Guo</text><text font-size=\"10\" x=\"629\" y=\"222\">Yuanlin Zheng</text><text font-size=\"10\" x=\"462\" y=\"277\">Peng Wang</text><text font-size=\"10\" x=\"209\" y=\"352\">Rachid Outbib</text><text font-size=\"10\" x=\"366\" y=\"60\">Alex D. Stivala</text><text font-size=\"10\" x=\"704\" y=\"145\">Fangwei Ye</text><text font-size=\"10\" x=\"568\" y=\"471\">Wei Mao</text><text font-size=\"10\" x=\"587\" y=\"523\">Si Gao</text><text font-size=\"10\" x=\"177\" y=\"318\">Zhongliang Li</text><text font-size=\"10\" x=\"687\" y=\"246\">Changming Huang</text><text font-size=\"10\" x=\"234\" y=\"220\">Dongdong Zhao</text><text font-size=\"10\" x=\"235\" y=\"288\">Bin Liang</text><text font-size=\"10\" x=\"274\" y=\"331\">Yuanlin Wang</text><text font-size=\"10\" x=\"527\" y=\"433\">Xudong Pei</text><text font-size=\"10\" x=\"647\" y=\"126\">Vladimir V. Konotop</text><text font-size=\"10\" x=\"482\" y=\"50\">Garry L. Robins</text><text font-size=\"10\" x=\"623\" y=\"486\">Xiaopeng Wu</text><text font-size=\"10\" x=\"609\" y=\"164\">Lluis Torner</text><text font-size=\"10\" x=\"423\" y=\"95\">David A. Rolls</text><text font-size=\"10\" x=\"279\" y=\"236\">Jian Zuo</text><text font-size=\"10\" x=\"197\" y=\"250\">Chu Wang</text><text font-size=\"10\" x=\"498\" y=\"509\">Yiming Hu</text><text font-size=\"10\" x=\"623\" y=\"441\">Zhengbin Gu</text><text font-size=\"10\" x=\"672\" y=\"185\">Yaroslav V. Kartashov</text><text font-size=\"10\" x=\"578\" y=\"419\">Futao Huang</text><text font-size=\"10\" x=\"425\" y=\"23\">H. Colin Gallagher</text></svg>"
      ],
      "text/plain": [
       "<IPython.core.display.SVG object>"
      ]
     },
     "execution_count": 84,
     "metadata": {},
     "output_type": "execute_result"
    }
   ],
   "source": [
    "G_check = community_context_dict[communities[14]]['G']\n",
    "draw_community(G_check)"
   ]
  },
  {
   "cell_type": "code",
   "execution_count": 52,
   "id": "7863175d",
   "metadata": {},
   "outputs": [
    {
     "data": {
      "text/plain": [
       "['4D-Explorer: A visual software for 4D-STEM data processing and image reconstruction',\n",
       " 'A Lifetime Extended Energy Management Strategy for Fuel Cell Hybrid Electric Vehicles via Self-Learning Fuzzy Reinforcement Learning',\n",
       " 'A Wearable ECG Monitor for Deep Learning Based Real-Time Cardiovascular Disease Detection',\n",
       " 'Data-driven prognostics based on time-frequency analysis and symbolic recurrent neural network for fuel cells under dynamic load',\n",
       " 'Localization and delocalization of light in photonic moire lattices',\n",
       " 'Negative-ResNet: Noisy Ambulatory Electrocardiogram Signal Classification Scheme',\n",
       " 'Using Sampled Network Data With The Autologistic Actor Attribute Model']"
      ]
     },
     "execution_count": 52,
     "metadata": {},
     "output_type": "execute_result"
    }
   ],
   "source": [
    "show_author_papers(df, G_check)\n",
    "\n",
    "#Can Requirements Engineering Support Explainable Artificial Intelligence? Towards a User-Centric Approach for Explainability Requirements\n"
   ]
  },
  {
   "cell_type": "code",
   "execution_count": 82,
   "id": "d2ee5893",
   "metadata": {},
   "outputs": [
    {
     "name": "stdout",
     "output_type": "stream",
     "text": [
      "Density: 0.2782258064516129\n",
      "Node Count: 32\n"
     ]
    },
    {
     "data": {
      "image/svg+xml": [
       "<svg height=\"540\" width=\"825.0\" xmlns=\"http://www.w3.org/2000/svg\"><path d=\"M 488 294 360 238\" stroke=\"gray\" stroke-width=\"0.2\"/><path d=\"M 488 294 595 273\" stroke=\"gray\" stroke-width=\"0.2\"/><path d=\"M 488 294 265 296\" stroke=\"gray\" stroke-width=\"0.2\"/><path d=\"M 488 294 505 267\" stroke=\"gray\" stroke-width=\"0.2\"/><path d=\"M 488 294 416 207\" stroke=\"gray\" stroke-width=\"0.2\"/><path d=\"M 488 294 503 190\" stroke=\"gray\" stroke-width=\"0.2\"/><path d=\"M 488 294 502 237\" stroke=\"gray\" stroke-width=\"0.2\"/><path d=\"M 488 294 593 354\" stroke=\"gray\" stroke-width=\"0.2\"/><path d=\"M 488 294 456 279\" stroke=\"gray\" stroke-width=\"0.2\"/><path d=\"M 488 294 465 248\" stroke=\"gray\" stroke-width=\"0.2\"/><path d=\"M 488 294 596 240\" stroke=\"gray\" stroke-width=\"0.2\"/><path d=\"M 139 370 265 296\" stroke=\"gray\" stroke-width=\"0.2\"/><path d=\"M 139 370 216 381\" stroke=\"gray\" stroke-width=\"0.2\"/><path d=\"M 139 370 152 411\" stroke=\"gray\" stroke-width=\"0.2\"/><path d=\"M 139 370 90 374\" stroke=\"gray\" stroke-width=\"0.2\"/><path d=\"M 139 370 187 359\" stroke=\"gray\" stroke-width=\"0.2\"/><path d=\"M 139 370 91 336\" stroke=\"gray\" stroke-width=\"0.2\"/><path d=\"M 139 370 192 406\" stroke=\"gray\" stroke-width=\"0.2\"/><path d=\"M 139 370 112 402\" stroke=\"gray\" stroke-width=\"0.2\"/><path d=\"M 139 370 156 327\" stroke=\"gray\" stroke-width=\"0.2\"/><path d=\"M 139 370 153 301\" stroke=\"gray\" stroke-width=\"0.2\"/><path d=\"M 360 238 488 294\" stroke=\"gray\" stroke-width=\"0.2\"/><path d=\"M 360 238 265 296\" stroke=\"gray\" stroke-width=\"0.2\"/><path d=\"M 360 238 505 267\" stroke=\"gray\" stroke-width=\"0.2\"/><path d=\"M 360 238 416 207\" stroke=\"gray\" stroke-width=\"0.2\"/><path d=\"M 360 238 503 190\" stroke=\"gray\" stroke-width=\"0.2\"/><path d=\"M 360 238 207 196\" stroke=\"gray\" stroke-width=\"0.2\"/><path d=\"M 360 238 502 237\" stroke=\"gray\" stroke-width=\"0.2\"/><path d=\"M 360 238 153 301\" stroke=\"gray\" stroke-width=\"0.2\"/><path d=\"M 360 238 456 279\" stroke=\"gray\" stroke-width=\"0.2\"/><path d=\"M 360 238 465 248\" stroke=\"gray\" stroke-width=\"0.2\"/><path d=\"M 595 273 488 294\" stroke=\"gray\" stroke-width=\"0.2\"/><path d=\"M 595 273 505 267\" stroke=\"gray\" stroke-width=\"0.2\"/><path d=\"M 595 273 503 190\" stroke=\"gray\" stroke-width=\"0.2\"/><path d=\"M 595 273 502 237\" stroke=\"gray\" stroke-width=\"0.2\"/><path d=\"M 595 273 593 354\" stroke=\"gray\" stroke-width=\"0.2\"/><path d=\"M 595 273 456 279\" stroke=\"gray\" stroke-width=\"0.2\"/><path d=\"M 595 273 465 248\" stroke=\"gray\" stroke-width=\"0.2\"/><path d=\"M 595 273 596 240\" stroke=\"gray\" stroke-width=\"0.2\"/><path d=\"M 265 296 488 294\" stroke=\"gray\" stroke-width=\"0.2\"/><path d=\"M 265 296 139 370\" stroke=\"gray\" stroke-width=\"0.2\"/><path d=\"M 265 296 360 238\" stroke=\"gray\" stroke-width=\"0.2\"/><path d=\"M 265 296 505 267\" stroke=\"gray\" stroke-width=\"0.2\"/><path d=\"M 265 296 416 207\" stroke=\"gray\" stroke-width=\"0.2\"/><path d=\"M 265 296 216 381\" stroke=\"gray\" stroke-width=\"0.2\"/><path d=\"M 265 296 152 411\" stroke=\"gray\" stroke-width=\"0.2\"/><path d=\"M 265 296 90 374\" stroke=\"gray\" stroke-width=\"0.2\"/><path d=\"M 265 296 503 190\" stroke=\"gray\" stroke-width=\"0.2\"/><path d=\"M 265 296 187 359\" stroke=\"gray\" stroke-width=\"0.2\"/><path d=\"M 265 296 91 336\" stroke=\"gray\" stroke-width=\"0.2\"/><path d=\"M 265 296 52 245\" stroke=\"gray\" stroke-width=\"0.2\"/><path d=\"M 265 296 192 406\" stroke=\"gray\" stroke-width=\"0.2\"/><path d=\"M 265 296 207 196\" stroke=\"gray\" stroke-width=\"0.2\"/><path d=\"M 265 296 502 237\" stroke=\"gray\" stroke-width=\"0.2\"/><path d=\"M 265 296 112 402\" stroke=\"gray\" stroke-width=\"0.2\"/><path d=\"M 265 296 156 327\" stroke=\"gray\" stroke-width=\"0.2\"/><path d=\"M 265 296 131 188\" stroke=\"gray\" stroke-width=\"0.2\"/><path d=\"M 265 296 153 301\" stroke=\"gray\" stroke-width=\"0.2\"/><path d=\"M 265 296 456 279\" stroke=\"gray\" stroke-width=\"0.2\"/><path d=\"M 265 296 20 283\" stroke=\"gray\" stroke-width=\"0.2\"/><path d=\"M 265 296 465 248\" stroke=\"gray\" stroke-width=\"0.2\"/><path d=\"M 505 267 488 294\" stroke=\"gray\" stroke-width=\"0.2\"/><path d=\"M 505 267 360 238\" stroke=\"gray\" stroke-width=\"0.2\"/><path d=\"M 505 267 595 273\" stroke=\"gray\" stroke-width=\"0.2\"/><path d=\"M 505 267 265 296\" stroke=\"gray\" stroke-width=\"0.2\"/><path d=\"M 505 267 416 207\" stroke=\"gray\" stroke-width=\"0.2\"/><path d=\"M 505 267 503 190\" stroke=\"gray\" stroke-width=\"0.2\"/><path d=\"M 505 267 502 237\" stroke=\"gray\" stroke-width=\"0.2\"/><path d=\"M 505 267 593 354\" stroke=\"gray\" stroke-width=\"0.2\"/><path d=\"M 505 267 456 279\" stroke=\"gray\" stroke-width=\"0.2\"/><path d=\"M 505 267 465 248\" stroke=\"gray\" stroke-width=\"0.2\"/><path d=\"M 505 267 596 240\" stroke=\"gray\" stroke-width=\"0.2\"/><path d=\"M 416 207 488 294\" stroke=\"gray\" stroke-width=\"0.2\"/><path d=\"M 416 207 360 238\" stroke=\"gray\" stroke-width=\"0.2\"/><path d=\"M 416 207 265 296\" stroke=\"gray\" stroke-width=\"0.2\"/><path d=\"M 416 207 505 267\" stroke=\"gray\" stroke-width=\"0.2\"/><path d=\"M 416 207 503 190\" stroke=\"gray\" stroke-width=\"0.2\"/><path d=\"M 416 207 502 237\" stroke=\"gray\" stroke-width=\"0.2\"/><path d=\"M 416 207 456 279\" stroke=\"gray\" stroke-width=\"0.2\"/><path d=\"M 416 207 465 248\" stroke=\"gray\" stroke-width=\"0.2\"/><path d=\"M 594 34 503 190\" stroke=\"gray\" stroke-width=\"0.2\"/><path d=\"M 594 34 514 20\" stroke=\"gray\" stroke-width=\"0.2\"/><path d=\"M 216 381 139 370\" stroke=\"gray\" stroke-width=\"0.2\"/><path d=\"M 216 381 265 296\" stroke=\"gray\" stroke-width=\"0.2\"/><path d=\"M 216 381 152 411\" stroke=\"gray\" stroke-width=\"0.2\"/><path d=\"M 216 381 90 374\" stroke=\"gray\" stroke-width=\"0.2\"/><path d=\"M 216 381 187 359\" stroke=\"gray\" stroke-width=\"0.2\"/><path d=\"M 216 381 91 336\" stroke=\"gray\" stroke-width=\"0.2\"/><path d=\"M 216 381 192 406\" stroke=\"gray\" stroke-width=\"0.2\"/><path d=\"M 216 381 112 402\" stroke=\"gray\" stroke-width=\"0.2\"/><path d=\"M 216 381 156 327\" stroke=\"gray\" stroke-width=\"0.2\"/><path d=\"M 216 381 153 301\" stroke=\"gray\" stroke-width=\"0.2\"/><path d=\"M 152 411 139 370\" stroke=\"gray\" stroke-width=\"0.2\"/><path d=\"M 152 411 265 296\" stroke=\"gray\" stroke-width=\"0.2\"/><path d=\"M 152 411 216 381\" stroke=\"gray\" stroke-width=\"0.2\"/><path d=\"M 152 411 90 374\" stroke=\"gray\" stroke-width=\"0.2\"/><path d=\"M 152 411 187 359\" stroke=\"gray\" stroke-width=\"0.2\"/><path d=\"M 152 411 91 336\" stroke=\"gray\" stroke-width=\"0.2\"/><path d=\"M 152 411 192 406\" stroke=\"gray\" stroke-width=\"0.2\"/><path d=\"M 152 411 112 402\" stroke=\"gray\" stroke-width=\"0.2\"/><path d=\"M 152 411 156 327\" stroke=\"gray\" stroke-width=\"0.2\"/><path d=\"M 152 411 153 301\" stroke=\"gray\" stroke-width=\"0.2\"/><path d=\"M 90 374 139 370\" stroke=\"gray\" stroke-width=\"0.2\"/><path d=\"M 90 374 265 296\" stroke=\"gray\" stroke-width=\"0.2\"/><path d=\"M 90 374 216 381\" stroke=\"gray\" stroke-width=\"0.2\"/><path d=\"M 90 374 152 411\" stroke=\"gray\" stroke-width=\"0.2\"/><path d=\"M 90 374 187 359\" stroke=\"gray\" stroke-width=\"0.2\"/><path d=\"M 90 374 91 336\" stroke=\"gray\" stroke-width=\"0.2\"/><path d=\"M 90 374 192 406\" stroke=\"gray\" stroke-width=\"0.2\"/><path d=\"M 90 374 112 402\" stroke=\"gray\" stroke-width=\"0.2\"/><path d=\"M 90 374 156 327\" stroke=\"gray\" stroke-width=\"0.2\"/><path d=\"M 90 374 153 301\" stroke=\"gray\" stroke-width=\"0.2\"/><path d=\"M 720 459 648 520\" stroke=\"gray\" stroke-width=\"0.2\"/><path d=\"M 720 459 628 482\" stroke=\"gray\" stroke-width=\"0.2\"/><path d=\"M 720 459 593 354\" stroke=\"gray\" stroke-width=\"0.2\"/><path d=\"M 720 459 711 500\" stroke=\"gray\" stroke-width=\"0.2\"/><path d=\"M 503 190 488 294\" stroke=\"gray\" stroke-width=\"0.2\"/><path d=\"M 503 190 360 238\" stroke=\"gray\" stroke-width=\"0.2\"/><path d=\"M 503 190 595 273\" stroke=\"gray\" stroke-width=\"0.2\"/><path d=\"M 503 190 265 296\" stroke=\"gray\" stroke-width=\"0.2\"/><path d=\"M 503 190 505 267\" stroke=\"gray\" stroke-width=\"0.2\"/><path d=\"M 503 190 416 207\" stroke=\"gray\" stroke-width=\"0.2\"/><path d=\"M 503 190 594 34\" stroke=\"gray\" stroke-width=\"0.2\"/><path d=\"M 503 190 514 20\" stroke=\"gray\" stroke-width=\"0.2\"/><path d=\"M 503 190 502 237\" stroke=\"gray\" stroke-width=\"0.2\"/><path d=\"M 503 190 593 354\" stroke=\"gray\" stroke-width=\"0.2\"/><path d=\"M 503 190 456 279\" stroke=\"gray\" stroke-width=\"0.2\"/><path d=\"M 503 190 465 248\" stroke=\"gray\" stroke-width=\"0.2\"/><path d=\"M 503 190 596 240\" stroke=\"gray\" stroke-width=\"0.2\"/><path d=\"M 187 359 139 370\" stroke=\"gray\" stroke-width=\"0.2\"/><path d=\"M 187 359 265 296\" stroke=\"gray\" stroke-width=\"0.2\"/><path d=\"M 187 359 216 381\" stroke=\"gray\" stroke-width=\"0.2\"/><path d=\"M 187 359 152 411\" stroke=\"gray\" stroke-width=\"0.2\"/><path d=\"M 187 359 90 374\" stroke=\"gray\" stroke-width=\"0.2\"/><path d=\"M 187 359 91 336\" stroke=\"gray\" stroke-width=\"0.2\"/><path d=\"M 187 359 192 406\" stroke=\"gray\" stroke-width=\"0.2\"/><path d=\"M 187 359 112 402\" stroke=\"gray\" stroke-width=\"0.2\"/><path d=\"M 187 359 156 327\" stroke=\"gray\" stroke-width=\"0.2\"/><path d=\"M 187 359 153 301\" stroke=\"gray\" stroke-width=\"0.2\"/><path d=\"M 91 336 139 370\" stroke=\"gray\" stroke-width=\"0.2\"/><path d=\"M 91 336 265 296\" stroke=\"gray\" stroke-width=\"0.2\"/><path d=\"M 91 336 216 381\" stroke=\"gray\" stroke-width=\"0.2\"/><path d=\"M 91 336 152 411\" stroke=\"gray\" stroke-width=\"0.2\"/><path d=\"M 91 336 90 374\" stroke=\"gray\" stroke-width=\"0.2\"/><path d=\"M 91 336 187 359\" stroke=\"gray\" stroke-width=\"0.2\"/><path d=\"M 91 336 52 245\" stroke=\"gray\" stroke-width=\"0.2\"/><path d=\"M 91 336 192 406\" stroke=\"gray\" stroke-width=\"0.2\"/><path d=\"M 91 336 112 402\" stroke=\"gray\" stroke-width=\"0.2\"/><path d=\"M 91 336 156 327\" stroke=\"gray\" stroke-width=\"0.2\"/><path d=\"M 91 336 153 301\" stroke=\"gray\" stroke-width=\"0.2\"/><path d=\"M 91 336 20 283\" stroke=\"gray\" stroke-width=\"0.2\"/><path d=\"M 52 245 265 296\" stroke=\"gray\" stroke-width=\"0.2\"/><path d=\"M 52 245 91 336\" stroke=\"gray\" stroke-width=\"0.2\"/><path d=\"M 52 245 153 301\" stroke=\"gray\" stroke-width=\"0.2\"/><path d=\"M 52 245 20 283\" stroke=\"gray\" stroke-width=\"0.2\"/><path d=\"M 514 20 594 34\" stroke=\"gray\" stroke-width=\"0.2\"/><path d=\"M 514 20 503 190\" stroke=\"gray\" stroke-width=\"0.2\"/><path d=\"M 648 520 720 459\" stroke=\"gray\" stroke-width=\"0.2\"/><path d=\"M 648 520 628 482\" stroke=\"gray\" stroke-width=\"0.2\"/><path d=\"M 648 520 593 354\" stroke=\"gray\" stroke-width=\"0.2\"/><path d=\"M 648 520 711 500\" stroke=\"gray\" stroke-width=\"0.2\"/><path d=\"M 628 482 720 459\" stroke=\"gray\" stroke-width=\"0.2\"/><path d=\"M 628 482 648 520\" stroke=\"gray\" stroke-width=\"0.2\"/><path d=\"M 628 482 593 354\" stroke=\"gray\" stroke-width=\"0.2\"/><path d=\"M 628 482 711 500\" stroke=\"gray\" stroke-width=\"0.2\"/><path d=\"M 192 406 139 370\" stroke=\"gray\" stroke-width=\"0.2\"/><path d=\"M 192 406 265 296\" stroke=\"gray\" stroke-width=\"0.2\"/><path d=\"M 192 406 216 381\" stroke=\"gray\" stroke-width=\"0.2\"/><path d=\"M 192 406 152 411\" stroke=\"gray\" stroke-width=\"0.2\"/><path d=\"M 192 406 90 374\" stroke=\"gray\" stroke-width=\"0.2\"/><path d=\"M 192 406 187 359\" stroke=\"gray\" stroke-width=\"0.2\"/><path d=\"M 192 406 91 336\" stroke=\"gray\" stroke-width=\"0.2\"/><path d=\"M 192 406 112 402\" stroke=\"gray\" stroke-width=\"0.2\"/><path d=\"M 192 406 156 327\" stroke=\"gray\" stroke-width=\"0.2\"/><path d=\"M 192 406 153 301\" stroke=\"gray\" stroke-width=\"0.2\"/><path d=\"M 207 196 360 238\" stroke=\"gray\" stroke-width=\"0.2\"/><path d=\"M 207 196 265 296\" stroke=\"gray\" stroke-width=\"0.2\"/><path d=\"M 207 196 153 301\" stroke=\"gray\" stroke-width=\"0.2\"/><path d=\"M 502 237 488 294\" stroke=\"gray\" stroke-width=\"0.2\"/><path d=\"M 502 237 360 238\" stroke=\"gray\" stroke-width=\"0.2\"/><path d=\"M 502 237 595 273\" stroke=\"gray\" stroke-width=\"0.2\"/><path d=\"M 502 237 265 296\" stroke=\"gray\" stroke-width=\"0.2\"/><path d=\"M 502 237 505 267\" stroke=\"gray\" stroke-width=\"0.2\"/><path d=\"M 502 237 416 207\" stroke=\"gray\" stroke-width=\"0.2\"/><path d=\"M 502 237 503 190\" stroke=\"gray\" stroke-width=\"0.2\"/><path d=\"M 502 237 593 354\" stroke=\"gray\" stroke-width=\"0.2\"/><path d=\"M 502 237 456 279\" stroke=\"gray\" stroke-width=\"0.2\"/><path d=\"M 502 237 465 248\" stroke=\"gray\" stroke-width=\"0.2\"/><path d=\"M 502 237 596 240\" stroke=\"gray\" stroke-width=\"0.2\"/><path d=\"M 112 402 139 370\" stroke=\"gray\" stroke-width=\"0.2\"/><path d=\"M 112 402 265 296\" stroke=\"gray\" stroke-width=\"0.2\"/><path d=\"M 112 402 216 381\" stroke=\"gray\" stroke-width=\"0.2\"/><path d=\"M 112 402 152 411\" stroke=\"gray\" stroke-width=\"0.2\"/><path d=\"M 112 402 90 374\" stroke=\"gray\" stroke-width=\"0.2\"/><path d=\"M 112 402 187 359\" stroke=\"gray\" stroke-width=\"0.2\"/><path d=\"M 112 402 91 336\" stroke=\"gray\" stroke-width=\"0.2\"/><path d=\"M 112 402 192 406\" stroke=\"gray\" stroke-width=\"0.2\"/><path d=\"M 112 402 156 327\" stroke=\"gray\" stroke-width=\"0.2\"/><path d=\"M 112 402 153 301\" stroke=\"gray\" stroke-width=\"0.2\"/><path d=\"M 156 327 139 370\" stroke=\"gray\" stroke-width=\"0.2\"/><path d=\"M 156 327 265 296\" stroke=\"gray\" stroke-width=\"0.2\"/><path d=\"M 156 327 216 381\" stroke=\"gray\" stroke-width=\"0.2\"/><path d=\"M 156 327 152 411\" stroke=\"gray\" stroke-width=\"0.2\"/><path d=\"M 156 327 90 374\" stroke=\"gray\" stroke-width=\"0.2\"/><path d=\"M 156 327 187 359\" stroke=\"gray\" stroke-width=\"0.2\"/><path d=\"M 156 327 91 336\" stroke=\"gray\" stroke-width=\"0.2\"/><path d=\"M 156 327 192 406\" stroke=\"gray\" stroke-width=\"0.2\"/><path d=\"M 156 327 112 402\" stroke=\"gray\" stroke-width=\"0.2\"/><path d=\"M 156 327 131 188\" stroke=\"gray\" stroke-width=\"0.2\"/><path d=\"M 156 327 153 301\" stroke=\"gray\" stroke-width=\"0.2\"/><path d=\"M 131 188 265 296\" stroke=\"gray\" stroke-width=\"0.2\"/><path d=\"M 131 188 156 327\" stroke=\"gray\" stroke-width=\"0.2\"/><path d=\"M 153 301 139 370\" stroke=\"gray\" stroke-width=\"0.2\"/><path d=\"M 153 301 360 238\" stroke=\"gray\" stroke-width=\"0.2\"/><path d=\"M 153 301 265 296\" stroke=\"gray\" stroke-width=\"0.2\"/><path d=\"M 153 301 216 381\" stroke=\"gray\" stroke-width=\"0.2\"/><path d=\"M 153 301 152 411\" stroke=\"gray\" stroke-width=\"0.2\"/><path d=\"M 153 301 90 374\" stroke=\"gray\" stroke-width=\"0.2\"/><path d=\"M 153 301 187 359\" stroke=\"gray\" stroke-width=\"0.2\"/><path d=\"M 153 301 91 336\" stroke=\"gray\" stroke-width=\"0.2\"/><path d=\"M 153 301 52 245\" stroke=\"gray\" stroke-width=\"0.2\"/><path d=\"M 153 301 192 406\" stroke=\"gray\" stroke-width=\"0.2\"/><path d=\"M 153 301 207 196\" stroke=\"gray\" stroke-width=\"0.2\"/><path d=\"M 153 301 112 402\" stroke=\"gray\" stroke-width=\"0.2\"/><path d=\"M 153 301 156 327\" stroke=\"gray\" stroke-width=\"0.2\"/><path d=\"M 153 301 20 283\" stroke=\"gray\" stroke-width=\"0.2\"/><path d=\"M 593 354 488 294\" stroke=\"gray\" stroke-width=\"0.2\"/><path d=\"M 593 354 595 273\" stroke=\"gray\" stroke-width=\"0.2\"/><path d=\"M 593 354 505 267\" stroke=\"gray\" stroke-width=\"0.2\"/><path d=\"M 593 354 720 459\" stroke=\"gray\" stroke-width=\"0.2\"/><path d=\"M 593 354 503 190\" stroke=\"gray\" stroke-width=\"0.2\"/><path d=\"M 593 354 648 520\" stroke=\"gray\" stroke-width=\"0.2\"/><path d=\"M 593 354 628 482\" stroke=\"gray\" stroke-width=\"0.2\"/><path d=\"M 593 354 502 237\" stroke=\"gray\" stroke-width=\"0.2\"/><path d=\"M 593 354 456 279\" stroke=\"gray\" stroke-width=\"0.2\"/><path d=\"M 593 354 465 248\" stroke=\"gray\" stroke-width=\"0.2\"/><path d=\"M 593 354 711 500\" stroke=\"gray\" stroke-width=\"0.2\"/><path d=\"M 593 354 596 240\" stroke=\"gray\" stroke-width=\"0.2\"/><path d=\"M 456 279 488 294\" stroke=\"gray\" stroke-width=\"0.2\"/><path d=\"M 456 279 360 238\" stroke=\"gray\" stroke-width=\"0.2\"/><path d=\"M 456 279 595 273\" stroke=\"gray\" stroke-width=\"0.2\"/><path d=\"M 456 279 265 296\" stroke=\"gray\" stroke-width=\"0.2\"/><path d=\"M 456 279 505 267\" stroke=\"gray\" stroke-width=\"0.2\"/><path d=\"M 456 279 416 207\" stroke=\"gray\" stroke-width=\"0.2\"/><path d=\"M 456 279 503 190\" stroke=\"gray\" stroke-width=\"0.2\"/><path d=\"M 456 279 502 237\" stroke=\"gray\" stroke-width=\"0.2\"/><path d=\"M 456 279 593 354\" stroke=\"gray\" stroke-width=\"0.2\"/><path d=\"M 456 279 465 248\" stroke=\"gray\" stroke-width=\"0.2\"/><path d=\"M 456 279 596 240\" stroke=\"gray\" stroke-width=\"0.2\"/><path d=\"M 20 283 265 296\" stroke=\"gray\" stroke-width=\"0.2\"/><path d=\"M 20 283 91 336\" stroke=\"gray\" stroke-width=\"0.2\"/><path d=\"M 20 283 52 245\" stroke=\"gray\" stroke-width=\"0.2\"/><path d=\"M 20 283 153 301\" stroke=\"gray\" stroke-width=\"0.2\"/><path d=\"M 465 248 488 294\" stroke=\"gray\" stroke-width=\"0.2\"/><path d=\"M 465 248 360 238\" stroke=\"gray\" stroke-width=\"0.2\"/><path d=\"M 465 248 595 273\" stroke=\"gray\" stroke-width=\"0.2\"/><path d=\"M 465 248 265 296\" stroke=\"gray\" stroke-width=\"0.2\"/><path d=\"M 465 248 505 267\" stroke=\"gray\" stroke-width=\"0.2\"/><path d=\"M 465 248 416 207\" stroke=\"gray\" stroke-width=\"0.2\"/><path d=\"M 465 248 503 190\" stroke=\"gray\" stroke-width=\"0.2\"/><path d=\"M 465 248 502 237\" stroke=\"gray\" stroke-width=\"0.2\"/><path d=\"M 465 248 593 354\" stroke=\"gray\" stroke-width=\"0.2\"/><path d=\"M 465 248 456 279\" stroke=\"gray\" stroke-width=\"0.2\"/><path d=\"M 465 248 596 240\" stroke=\"gray\" stroke-width=\"0.2\"/><path d=\"M 711 500 720 459\" stroke=\"gray\" stroke-width=\"0.2\"/><path d=\"M 711 500 648 520\" stroke=\"gray\" stroke-width=\"0.2\"/><path d=\"M 711 500 628 482\" stroke=\"gray\" stroke-width=\"0.2\"/><path d=\"M 711 500 593 354\" stroke=\"gray\" stroke-width=\"0.2\"/><path d=\"M 596 240 488 294\" stroke=\"gray\" stroke-width=\"0.2\"/><path d=\"M 596 240 595 273\" stroke=\"gray\" stroke-width=\"0.2\"/><path d=\"M 596 240 505 267\" stroke=\"gray\" stroke-width=\"0.2\"/><path d=\"M 596 240 503 190\" stroke=\"gray\" stroke-width=\"0.2\"/><path d=\"M 596 240 502 237\" stroke=\"gray\" stroke-width=\"0.2\"/><path d=\"M 596 240 593 354\" stroke=\"gray\" stroke-width=\"0.2\"/><path d=\"M 596 240 456 279\" stroke=\"gray\" stroke-width=\"0.2\"/><path d=\"M 596 240 465 248\" stroke=\"gray\" stroke-width=\"0.2\"/><circle cx=\"488\" cy=\"294\" r=\"3.0\" style=\"fill:rgb(205, 217, 236);stroke:black;stroke-width:1.0\"/><circle cx=\"139\" cy=\"370\" r=\"3.0\" style=\"fill:rgb(176, 203, 251);stroke:black;stroke-width:1.0\"/><circle cx=\"360\" cy=\"238\" r=\"3.0\" style=\"fill:rgb(189, 210, 246);stroke:black;stroke-width:1.0\"/><circle cx=\"595\" cy=\"273\" r=\"3.0\" style=\"fill:rgb(159, 190, 254);stroke:black;stroke-width:1.0\"/><circle cx=\"265\" cy=\"296\" r=\"3.0\" style=\"fill:rgb(179, 3, 38);stroke:black;stroke-width:1.0\"/><circle cx=\"505\" cy=\"267\" r=\"3.0\" style=\"fill:rgb(205, 217, 236);stroke:black;stroke-width:1.0\"/><circle cx=\"416\" cy=\"207\" r=\"3.0\" style=\"fill:rgb(155, 187, 254);stroke:black;stroke-width:1.0\"/><circle cx=\"594\" cy=\"34\" r=\"3.0\" style=\"fill:rgb(72, 96, 209);stroke:black;stroke-width:1.0\"/><circle cx=\"216\" cy=\"381\" r=\"3.0\" style=\"fill:rgb(176, 203, 251);stroke:black;stroke-width:1.0\"/><circle cx=\"152\" cy=\"411\" r=\"3.0\" style=\"fill:rgb(176, 203, 251);stroke:black;stroke-width:1.0\"/><circle cx=\"90\" cy=\"374\" r=\"3.0\" style=\"fill:rgb(176, 203, 251);stroke:black;stroke-width:1.0\"/><circle cx=\"720\" cy=\"459\" r=\"3.0\" style=\"fill:rgb(120, 155, 247);stroke:black;stroke-width:1.0\"/><circle cx=\"503\" cy=\"190\" r=\"3.0\" style=\"fill:rgb(245, 193, 168);stroke:black;stroke-width:1.0\"/><circle cx=\"187\" cy=\"359\" r=\"3.0\" style=\"fill:rgb(176, 203, 251);stroke:black;stroke-width:1.0\"/><circle cx=\"91\" cy=\"336\" r=\"3.0\" style=\"fill:rgb(214, 219, 228);stroke:black;stroke-width:1.0\"/><circle cx=\"52\" cy=\"245\" r=\"3.0\" style=\"fill:rgb(88, 118, 226);stroke:black;stroke-width:1.0\"/><circle cx=\"514\" cy=\"20\" r=\"3.0\" style=\"fill:rgb(72, 96, 209);stroke:black;stroke-width:1.0\"/><circle cx=\"648\" cy=\"520\" r=\"3.0\" style=\"fill:rgb(120, 155, 247);stroke:black;stroke-width:1.0\"/><circle cx=\"628\" cy=\"482\" r=\"3.0\" style=\"fill:rgb(120, 155, 247);stroke:black;stroke-width:1.0\"/><circle cx=\"192\" cy=\"406\" r=\"3.0\" style=\"fill:rgb(176, 203, 251);stroke:black;stroke-width:1.0\"/><circle cx=\"207\" cy=\"196\" r=\"3.0\" style=\"fill:rgb(70, 93, 207);stroke:black;stroke-width:1.0\"/><circle cx=\"502\" cy=\"237\" r=\"3.0\" style=\"fill:rgb(205, 217, 236);stroke:black;stroke-width:1.0\"/><circle cx=\"112\" cy=\"402\" r=\"3.0\" style=\"fill:rgb(176, 203, 251);stroke:black;stroke-width:1.0\"/><circle cx=\"156\" cy=\"327\" r=\"3.0\" style=\"fill:rgb(199, 214, 240);stroke:black;stroke-width:1.0\"/><circle cx=\"131\" cy=\"188\" r=\"3.0\" style=\"fill:rgb(58, 76, 192);stroke:black;stroke-width:1.0\"/><circle cx=\"153\" cy=\"301\" r=\"3.0\" style=\"fill:rgb(237, 207, 192);stroke:black;stroke-width:1.0\"/><circle cx=\"593\" cy=\"354\" r=\"3.0\" style=\"fill:rgb(243, 198, 176);stroke:black;stroke-width:1.0\"/><circle cx=\"456\" cy=\"279\" r=\"3.0\" style=\"fill:rgb(205, 217, 236);stroke:black;stroke-width:1.0\"/><circle cx=\"20\" cy=\"283\" r=\"3.0\" style=\"fill:rgb(88, 118, 226);stroke:black;stroke-width:1.0\"/><circle cx=\"465\" cy=\"248\" r=\"3.0\" style=\"fill:rgb(205, 217, 236);stroke:black;stroke-width:1.0\"/><circle cx=\"711\" cy=\"500\" r=\"3.0\" style=\"fill:rgb(120, 155, 247);stroke:black;stroke-width:1.0\"/><circle cx=\"596\" cy=\"240\" r=\"3.0\" style=\"fill:rgb(159, 190, 254);stroke:black;stroke-width:1.0\"/><text font-size=\"10\" x=\"494\" y=\"297\">Siteng Fan</text><text font-size=\"10\" x=\"145\" y=\"373\">Hanjie Li</text><text font-size=\"10\" x=\"366\" y=\"241\">Yuk L. Yung</text><text font-size=\"10\" x=\"601\" y=\"276\">Yuk Yung</text><text font-size=\"10\" x=\"271\" y=\"299\">Jonathan H. Jiang</text><text font-size=\"10\" x=\"511\" y=\"270\">Lixiang Gu</text><text font-size=\"10\" x=\"422\" y=\"210\">Yongyun Hu</text><text font-size=\"10\" x=\"600\" y=\"37\">Yuk L Yung</text><text font-size=\"10\" x=\"222\" y=\"384\">Zhihui Kong</text><text font-size=\"10\" x=\"158\" y=\"414\">Xiaoming Jiang</text><text font-size=\"10\" x=\"96\" y=\"377\">Matthew Chong</text><text font-size=\"10\" x=\"726\" y=\"462\">Olaf Witkowski</text><text font-size=\"10\" x=\"509\" y=\"193\">Stuart Bartlett</text><text font-size=\"10\" x=\"193\" y=\"362\">Jamilah Hah</text><text font-size=\"10\" x=\"97\" y=\"339\">Philip E. Rosen</text><text font-size=\"10\" x=\"58\" y=\"248\">Piotr Obacz</text><text font-size=\"10\" x=\"520\" y=\"23\">Andrew K Gao</text><text font-size=\"10\" x=\"654\" y=\"523\">Keisuke Suzuki</text><text font-size=\"10\" x=\"634\" y=\"485\">Hiroyuki Iizuka</text><text font-size=\"10\" x=\"198\" y=\"409\">Zong-Hong Zhu</text><text font-size=\"10\" x=\"213\" y=\"199\">Xiang Cai</text><text font-size=\"10\" x=\"508\" y=\"240\">Vijay Natraj</text><text font-size=\"10\" x=\"118\" y=\"405\">Qitian Jin</text><text font-size=\"10\" x=\"162\" y=\"330\">Stuart F. Taylor</text><text font-size=\"10\" x=\"137\" y=\"191\">Avery M. Minion</text><text font-size=\"10\" x=\"159\" y=\"304\">Kristen A. Fahy</text><text font-size=\"10\" x=\"599\" y=\"357\">Lana Sinapayen</text><text font-size=\"10\" x=\"462\" y=\"282\">David Crisp</text><text font-size=\"10\" x=\"26\" y=\"286\">Kelly Lu</text><text font-size=\"10\" x=\"471\" y=\"251\">Jiazheng Li</text><text font-size=\"10\" x=\"717\" y=\"503\">Manuel Baltieri</text><text font-size=\"10\" x=\"602\" y=\"243\">Jonathan Jiang</text></svg>"
      ],
      "text/plain": [
       "<IPython.core.display.SVG object>"
      ]
     },
     "execution_count": 82,
     "metadata": {},
     "output_type": "execute_result"
    }
   ],
   "source": [
    "G_check = community_context_dict[communities[15]]['G']\n",
    "draw_community(G_check)"
   ]
  },
  {
   "cell_type": "code",
   "execution_count": 54,
   "id": "5a623810",
   "metadata": {},
   "outputs": [
    {
     "data": {
      "text/plain": [
       "['A Beacon in the Galaxy: Updated Arecibo Message for Potential FAST and SETI Projects',\n",
       " 'A Statistical Estimation of the Occurrence of Extraterrestrial Intelligence in the Milky Way Galaxy',\n",
       " 'An active inference implementation of phototaxis',\n",
       " 'Assessing Planetary Complexity and Potential Agnostic Biosignatures using Epsilon Machines',\n",
       " 'Avoiding the \"Great Filter\": Extraterrestrial Life and Humanity\\'s Future in the Universe',\n",
       " 'Biosignatures from Earth-Like Planets Around M Dwarfs',\n",
       " 'Chemical Heredity as Group Selection at the Molecular Level',\n",
       " 'Computation by Convective Logic Gates and Thermal Communication',\n",
       " \"DNN Architecture for High Performance Prediction on Natural Videos Loses Submodule's Ability to Learn Discrete-World Dataset\",\n",
       " 'Earth as a Proxy Exoplanet: Deconstructing and Reconstructing Spectrophotometric Light Curves',\n",
       " \"Emergence, Construction, or Unlikely? Navigating the Space of Questions regarding Life's Origins\",\n",
       " 'Evolutionary Generation of Visual Motion Illusions',\n",
       " 'Exoplanet Biosignatures: A Framework for Their Assessment',\n",
       " 'Hybrid Life: Integrating Biological, Artificial, and Cognitive Systems',\n",
       " 'Hypotheses for near-surface exchange of methane on Mars',\n",
       " 'Life in the Cosmos: Paradox of Silence and Self-Awareness',\n",
       " 'Linearized Flux Evolution (LiFE): A Technique for Rapidly Adapting Fluxes from Full-Physics Radiative Transfer Models',\n",
       " 'Perspective: Purposeful Failure in Artificial Life and Artificial Intelligence',\n",
       " 'Provenance of Lyfe: Chemical Autonomous Agents Surviving through Associative Learning',\n",
       " 'Small flow rate can supply inwardly migrating shortest-period planets',\n",
       " 'Spectral signatures of photosynthesis II: coevolution with other stars and the atmosphere on extrasolar worlds',\n",
       " 'The modularity of action and perception revisited using control theory and active inference',\n",
       " 'Venus as a Nearby Exoplanetary Laboratory',\n",
       " 'Venus: The Making of an Uninhabitable World']"
      ]
     },
     "execution_count": 54,
     "metadata": {},
     "output_type": "execute_result"
    }
   ],
   "source": [
    "show_author_papers(df, G_check)\n",
    "\n",
    "#AutoHEnsGNN: Winning Solution to AutoGraph Challenge for KDD Cup 2020\n",
    "#Malware Detection using Artificial Bee Colony Algorithm\n",
    "##Bigbirds Never Die: Understanding Social Dynamics of Emergent Hashtag\n",
    "#The Systemic Impact of Deplatforming on Social Media\n",
    "#The Twitter of Babel: Mapping World Languages through Microblogging Platforms"
   ]
  },
  {
   "cell_type": "code",
   "execution_count": 76,
   "id": "3284ba87",
   "metadata": {},
   "outputs": [
    {
     "name": "stdout",
     "output_type": "stream",
     "text": [
      "Density: 0.2807017543859649\n",
      "Node Count: 19\n"
     ]
    },
    {
     "data": {
      "image/svg+xml": [
       "<svg height=\"540\" width=\"835.0\" xmlns=\"http://www.w3.org/2000/svg\"><path d=\"M 293 212 187 271\" stroke=\"gray\" stroke-width=\"0.2\"/><path d=\"M 293 212 309 376\" stroke=\"gray\" stroke-width=\"0.2\"/><path d=\"M 293 212 161 165\" stroke=\"gray\" stroke-width=\"0.2\"/><path d=\"M 293 212 230 218\" stroke=\"gray\" stroke-width=\"0.2\"/><path d=\"M 293 212 256 264\" stroke=\"gray\" stroke-width=\"0.2\"/><path d=\"M 717 409 533 445\" stroke=\"gray\" stroke-width=\"0.2\"/><path d=\"M 717 409 720 485\" stroke=\"gray\" stroke-width=\"0.2\"/><path d=\"M 387 460 309 376\" stroke=\"gray\" stroke-width=\"0.2\"/><path d=\"M 387 460 453 448\" stroke=\"gray\" stroke-width=\"0.2\"/><path d=\"M 387 460 533 445\" stroke=\"gray\" stroke-width=\"0.2\"/><path d=\"M 387 460 457 499\" stroke=\"gray\" stroke-width=\"0.2\"/><path d=\"M 387 460 439 405\" stroke=\"gray\" stroke-width=\"0.2\"/><path d=\"M 387 460 402 509\" stroke=\"gray\" stroke-width=\"0.2\"/><path d=\"M 105 20 20 83\" stroke=\"gray\" stroke-width=\"0.2\"/><path d=\"M 105 20 161 165\" stroke=\"gray\" stroke-width=\"0.2\"/><path d=\"M 105 20 35 24\" stroke=\"gray\" stroke-width=\"0.2\"/><path d=\"M 20 83 105 20\" stroke=\"gray\" stroke-width=\"0.2\"/><path d=\"M 20 83 161 165\" stroke=\"gray\" stroke-width=\"0.2\"/><path d=\"M 20 83 35 24\" stroke=\"gray\" stroke-width=\"0.2\"/><path d=\"M 187 271 293 212\" stroke=\"gray\" stroke-width=\"0.2\"/><path d=\"M 187 271 309 376\" stroke=\"gray\" stroke-width=\"0.2\"/><path d=\"M 187 271 161 165\" stroke=\"gray\" stroke-width=\"0.2\"/><path d=\"M 187 271 230 218\" stroke=\"gray\" stroke-width=\"0.2\"/><path d=\"M 187 271 256 264\" stroke=\"gray\" stroke-width=\"0.2\"/><path d=\"M 184 520 309 376\" stroke=\"gray\" stroke-width=\"0.2\"/><path d=\"M 184 520 134 464\" stroke=\"gray\" stroke-width=\"0.2\"/><path d=\"M 309 376 293 212\" stroke=\"gray\" stroke-width=\"0.2\"/><path d=\"M 309 376 387 460\" stroke=\"gray\" stroke-width=\"0.2\"/><path d=\"M 309 376 187 271\" stroke=\"gray\" stroke-width=\"0.2\"/><path d=\"M 309 376 184 520\" stroke=\"gray\" stroke-width=\"0.2\"/><path d=\"M 309 376 161 165\" stroke=\"gray\" stroke-width=\"0.2\"/><path d=\"M 309 376 230 218\" stroke=\"gray\" stroke-width=\"0.2\"/><path d=\"M 309 376 453 448\" stroke=\"gray\" stroke-width=\"0.2\"/><path d=\"M 309 376 533 445\" stroke=\"gray\" stroke-width=\"0.2\"/><path d=\"M 309 376 457 499\" stroke=\"gray\" stroke-width=\"0.2\"/><path d=\"M 309 376 256 264\" stroke=\"gray\" stroke-width=\"0.2\"/><path d=\"M 309 376 439 405\" stroke=\"gray\" stroke-width=\"0.2\"/><path d=\"M 309 376 402 509\" stroke=\"gray\" stroke-width=\"0.2\"/><path d=\"M 309 376 134 464\" stroke=\"gray\" stroke-width=\"0.2\"/><path d=\"M 161 165 293 212\" stroke=\"gray\" stroke-width=\"0.2\"/><path d=\"M 161 165 105 20\" stroke=\"gray\" stroke-width=\"0.2\"/><path d=\"M 161 165 20 83\" stroke=\"gray\" stroke-width=\"0.2\"/><path d=\"M 161 165 187 271\" stroke=\"gray\" stroke-width=\"0.2\"/><path d=\"M 161 165 309 376\" stroke=\"gray\" stroke-width=\"0.2\"/><path d=\"M 161 165 230 218\" stroke=\"gray\" stroke-width=\"0.2\"/><path d=\"M 161 165 35 24\" stroke=\"gray\" stroke-width=\"0.2\"/><path d=\"M 161 165 256 264\" stroke=\"gray\" stroke-width=\"0.2\"/><path d=\"M 230 218 293 212\" stroke=\"gray\" stroke-width=\"0.2\"/><path d=\"M 230 218 187 271\" stroke=\"gray\" stroke-width=\"0.2\"/><path d=\"M 230 218 309 376\" stroke=\"gray\" stroke-width=\"0.2\"/><path d=\"M 230 218 161 165\" stroke=\"gray\" stroke-width=\"0.2\"/><path d=\"M 230 218 256 264\" stroke=\"gray\" stroke-width=\"0.2\"/><path d=\"M 453 448 387 460\" stroke=\"gray\" stroke-width=\"0.2\"/><path d=\"M 453 448 309 376\" stroke=\"gray\" stroke-width=\"0.2\"/><path d=\"M 453 448 533 445\" stroke=\"gray\" stroke-width=\"0.2\"/><path d=\"M 453 448 457 499\" stroke=\"gray\" stroke-width=\"0.2\"/><path d=\"M 453 448 439 405\" stroke=\"gray\" stroke-width=\"0.2\"/><path d=\"M 453 448 402 509\" stroke=\"gray\" stroke-width=\"0.2\"/><path d=\"M 533 445 717 409\" stroke=\"gray\" stroke-width=\"0.2\"/><path d=\"M 533 445 387 460\" stroke=\"gray\" stroke-width=\"0.2\"/><path d=\"M 533 445 309 376\" stroke=\"gray\" stroke-width=\"0.2\"/><path d=\"M 533 445 453 448\" stroke=\"gray\" stroke-width=\"0.2\"/><path d=\"M 533 445 720 485\" stroke=\"gray\" stroke-width=\"0.2\"/><path d=\"M 533 445 457 499\" stroke=\"gray\" stroke-width=\"0.2\"/><path d=\"M 533 445 439 405\" stroke=\"gray\" stroke-width=\"0.2\"/><path d=\"M 533 445 402 509\" stroke=\"gray\" stroke-width=\"0.2\"/><path d=\"M 35 24 105 20\" stroke=\"gray\" stroke-width=\"0.2\"/><path d=\"M 35 24 20 83\" stroke=\"gray\" stroke-width=\"0.2\"/><path d=\"M 35 24 161 165\" stroke=\"gray\" stroke-width=\"0.2\"/><path d=\"M 720 485 717 409\" stroke=\"gray\" stroke-width=\"0.2\"/><path d=\"M 720 485 533 445\" stroke=\"gray\" stroke-width=\"0.2\"/><path d=\"M 457 499 387 460\" stroke=\"gray\" stroke-width=\"0.2\"/><path d=\"M 457 499 309 376\" stroke=\"gray\" stroke-width=\"0.2\"/><path d=\"M 457 499 453 448\" stroke=\"gray\" stroke-width=\"0.2\"/><path d=\"M 457 499 533 445\" stroke=\"gray\" stroke-width=\"0.2\"/><path d=\"M 457 499 439 405\" stroke=\"gray\" stroke-width=\"0.2\"/><path d=\"M 457 499 402 509\" stroke=\"gray\" stroke-width=\"0.2\"/><path d=\"M 256 264 293 212\" stroke=\"gray\" stroke-width=\"0.2\"/><path d=\"M 256 264 187 271\" stroke=\"gray\" stroke-width=\"0.2\"/><path d=\"M 256 264 309 376\" stroke=\"gray\" stroke-width=\"0.2\"/><path d=\"M 256 264 161 165\" stroke=\"gray\" stroke-width=\"0.2\"/><path d=\"M 256 264 230 218\" stroke=\"gray\" stroke-width=\"0.2\"/><path d=\"M 439 405 387 460\" stroke=\"gray\" stroke-width=\"0.2\"/><path d=\"M 439 405 309 376\" stroke=\"gray\" stroke-width=\"0.2\"/><path d=\"M 439 405 453 448\" stroke=\"gray\" stroke-width=\"0.2\"/><path d=\"M 439 405 533 445\" stroke=\"gray\" stroke-width=\"0.2\"/><path d=\"M 439 405 457 499\" stroke=\"gray\" stroke-width=\"0.2\"/><path d=\"M 439 405 402 509\" stroke=\"gray\" stroke-width=\"0.2\"/><path d=\"M 402 509 387 460\" stroke=\"gray\" stroke-width=\"0.2\"/><path d=\"M 402 509 309 376\" stroke=\"gray\" stroke-width=\"0.2\"/><path d=\"M 402 509 453 448\" stroke=\"gray\" stroke-width=\"0.2\"/><path d=\"M 402 509 533 445\" stroke=\"gray\" stroke-width=\"0.2\"/><path d=\"M 402 509 457 499\" stroke=\"gray\" stroke-width=\"0.2\"/><path d=\"M 402 509 439 405\" stroke=\"gray\" stroke-width=\"0.2\"/><path d=\"M 134 464 184 520\" stroke=\"gray\" stroke-width=\"0.2\"/><path d=\"M 134 464 309 376\" stroke=\"gray\" stroke-width=\"0.2\"/><circle cx=\"293\" cy=\"212\" r=\"3.0\" style=\"fill:rgb(134, 169, 252);stroke:black;stroke-width:1.0\"/><circle cx=\"717\" cy=\"409\" r=\"3.0\" style=\"fill:rgb(58, 76, 192);stroke:black;stroke-width:1.0\"/><circle cx=\"387\" cy=\"460\" r=\"3.0\" style=\"fill:rgb(155, 187, 254);stroke:black;stroke-width:1.0\"/><circle cx=\"105\" cy=\"20\" r=\"3.0\" style=\"fill:rgb(92, 123, 229);stroke:black;stroke-width:1.0\"/><circle cx=\"20\" cy=\"83\" r=\"3.0\" style=\"fill:rgb(92, 123, 229);stroke:black;stroke-width:1.0\"/><circle cx=\"187\" cy=\"271\" r=\"3.0\" style=\"fill:rgb(134, 169, 252);stroke:black;stroke-width:1.0\"/><circle cx=\"184\" cy=\"520\" r=\"3.0\" style=\"fill:rgb(58, 76, 192);stroke:black;stroke-width:1.0\"/><circle cx=\"309\" cy=\"376\" r=\"3.0\" style=\"fill:rgb(179, 3, 38);stroke:black;stroke-width:1.0\"/><circle cx=\"161\" cy=\"165\" r=\"3.0\" style=\"fill:rgb(237, 207, 192);stroke:black;stroke-width:1.0\"/><circle cx=\"230\" cy=\"218\" r=\"3.0\" style=\"fill:rgb(134, 169, 252);stroke:black;stroke-width:1.0\"/><circle cx=\"453\" cy=\"448\" r=\"3.0\" style=\"fill:rgb(155, 187, 254);stroke:black;stroke-width:1.0\"/><circle cx=\"533\" cy=\"445\" r=\"3.0\" style=\"fill:rgb(231, 214, 204);stroke:black;stroke-width:1.0\"/><circle cx=\"35\" cy=\"24\" r=\"3.0\" style=\"fill:rgb(92, 123, 229);stroke:black;stroke-width:1.0\"/><circle cx=\"720\" cy=\"485\" r=\"3.0\" style=\"fill:rgb(58, 76, 192);stroke:black;stroke-width:1.0\"/><circle cx=\"457\" cy=\"499\" r=\"3.0\" style=\"fill:rgb(155, 187, 254);stroke:black;stroke-width:1.0\"/><circle cx=\"256\" cy=\"264\" r=\"3.0\" style=\"fill:rgb(134, 169, 252);stroke:black;stroke-width:1.0\"/><circle cx=\"439\" cy=\"405\" r=\"3.0\" style=\"fill:rgb(155, 187, 254);stroke:black;stroke-width:1.0\"/><circle cx=\"402\" cy=\"509\" r=\"3.0\" style=\"fill:rgb(155, 187, 254);stroke:black;stroke-width:1.0\"/><circle cx=\"134\" cy=\"464\" r=\"3.0\" style=\"fill:rgb(58, 76, 192);stroke:black;stroke-width:1.0\"/><text font-size=\"10\" x=\"299\" y=\"215\">Yang Long</text><text font-size=\"10\" x=\"723\" y=\"412\">Evana Gizzi</text><text font-size=\"10\" x=\"393\" y=\"463\">Yasutaka Nishimura</text><text font-size=\"10\" x=\"111\" y=\"23\">Wan-Fai Ng</text><text font-size=\"10\" x=\"26\" y=\"86\">Yang Bai</text><text font-size=\"10\" x=\"193\" y=\"274\">Jessica Baggaley</text><text font-size=\"10\" x=\"190\" y=\"523\">Irfan Essa</text><text font-size=\"10\" x=\"315\" y=\"379\">Thomas Ploetz</text><text font-size=\"10\" x=\"167\" y=\"168\">Yu Guan</text><text font-size=\"10\" x=\"236\" y=\"221\">Yan Gao</text><text font-size=\"10\" x=\"459\" y=\"451\">Sean T. Fish</text><text font-size=\"10\" x=\"539\" y=\"448\">Sonia Chernova</text><text font-size=\"10\" x=\"41\" y=\"27\">Jian Qing Shi</text><text font-size=\"10\" x=\"726\" y=\"488\">Lakshmi Nair</text><text font-size=\"10\" x=\"463\" y=\"502\">Naoto Takeda</text><text font-size=\"10\" x=\"262\" y=\"267\">Anna Basu</text><text font-size=\"10\" x=\"445\" y=\"408\">Devleena Das</text><text font-size=\"10\" x=\"408\" y=\"512\">Rajan P. Vivek</text><text font-size=\"10\" x=\"140\" y=\"467\">Harish Haresamudram</text></svg>"
      ],
      "text/plain": [
       "<IPython.core.display.SVG object>"
      ]
     },
     "execution_count": 76,
     "metadata": {},
     "output_type": "execute_result"
    }
   ],
   "source": [
    "G_check = community_context_dict[communities[16]]['G']\n",
    "draw_community(G_check)"
   ]
  },
  {
   "cell_type": "code",
   "execution_count": 56,
   "id": "b4c4122f",
   "metadata": {},
   "outputs": [
    {
     "data": {
      "text/plain": [
       "['Contrastive Predictive Coding for Human Activity Recognition',\n",
       " 'Creative Problem Solving in Artificially Intelligent Agents: A Survey and Framework',\n",
       " 'Ensembles of Deep LSTM Learners for Activity Recognition using Wearables',\n",
       " 'Explainable AI for Robot Failures: Generating Explanations that Improve User Assistance in Fault Recovery',\n",
       " 'Explainable AI for System Failures: Generating Explanations that Improve Human Assistance in Fault Recovery',\n",
       " 'Explainable Activity Recognition for Smart Home Systems',\n",
       " 'Fatigue Assessment using ECG and Actigraphy Sensors',\n",
       " 'Towards Automated Fatigue Assessment using Wearable Sensing and Mixed-Effects Models',\n",
       " 'Towards Reliable, Automated General Movement Assessment for Perinatal Stroke Screening in Infants Using Wearable Accelerometers']"
      ]
     },
     "execution_count": 56,
     "metadata": {},
     "output_type": "execute_result"
    }
   ],
   "source": [
    "show_author_papers(df, G_check)"
   ]
  },
  {
   "cell_type": "code",
   "execution_count": 71,
   "id": "eaf43053",
   "metadata": {},
   "outputs": [
    {
     "name": "stdout",
     "output_type": "stream",
     "text": [
      "Density: 0.29004329004329005\n",
      "Node Count: 22\n"
     ]
    },
    {
     "data": {
      "image/svg+xml": [
       "<svg height=\"540\" width=\"840.0\" xmlns=\"http://www.w3.org/2000/svg\"><path d=\"M 620 278 588 242\" stroke=\"gray\" stroke-width=\"0.2\"/><path d=\"M 620 278 442 311\" stroke=\"gray\" stroke-width=\"0.2\"/><path d=\"M 620 278 567 285\" stroke=\"gray\" stroke-width=\"0.2\"/><path d=\"M 620 278 611 154\" stroke=\"gray\" stroke-width=\"0.2\"/><path d=\"M 620 278 530 238\" stroke=\"gray\" stroke-width=\"0.2\"/><path d=\"M 107 483 44 508\" stroke=\"gray\" stroke-width=\"0.2\"/><path d=\"M 107 483 20 474\" stroke=\"gray\" stroke-width=\"0.2\"/><path d=\"M 107 483 96 520\" stroke=\"gray\" stroke-width=\"0.2\"/><path d=\"M 107 483 199 426\" stroke=\"gray\" stroke-width=\"0.2\"/><path d=\"M 107 483 84 444\" stroke=\"gray\" stroke-width=\"0.2\"/><path d=\"M 107 483 35 436\" stroke=\"gray\" stroke-width=\"0.2\"/><path d=\"M 44 508 107 483\" stroke=\"gray\" stroke-width=\"0.2\"/><path d=\"M 44 508 20 474\" stroke=\"gray\" stroke-width=\"0.2\"/><path d=\"M 44 508 96 520\" stroke=\"gray\" stroke-width=\"0.2\"/><path d=\"M 44 508 199 426\" stroke=\"gray\" stroke-width=\"0.2\"/><path d=\"M 44 508 84 444\" stroke=\"gray\" stroke-width=\"0.2\"/><path d=\"M 44 508 35 436\" stroke=\"gray\" stroke-width=\"0.2\"/><path d=\"M 588 242 620 278\" stroke=\"gray\" stroke-width=\"0.2\"/><path d=\"M 588 242 442 311\" stroke=\"gray\" stroke-width=\"0.2\"/><path d=\"M 588 242 567 285\" stroke=\"gray\" stroke-width=\"0.2\"/><path d=\"M 588 242 611 154\" stroke=\"gray\" stroke-width=\"0.2\"/><path d=\"M 588 242 530 238\" stroke=\"gray\" stroke-width=\"0.2\"/><path d=\"M 611 56 720 41\" stroke=\"gray\" stroke-width=\"0.2\"/><path d=\"M 611 56 662 76\" stroke=\"gray\" stroke-width=\"0.2\"/><path d=\"M 611 56 626 20\" stroke=\"gray\" stroke-width=\"0.2\"/><path d=\"M 611 56 716 81\" stroke=\"gray\" stroke-width=\"0.2\"/><path d=\"M 611 56 677 20\" stroke=\"gray\" stroke-width=\"0.2\"/><path d=\"M 611 56 611 154\" stroke=\"gray\" stroke-width=\"0.2\"/><path d=\"M 720 41 611 56\" stroke=\"gray\" stroke-width=\"0.2\"/><path d=\"M 720 41 662 76\" stroke=\"gray\" stroke-width=\"0.2\"/><path d=\"M 720 41 626 20\" stroke=\"gray\" stroke-width=\"0.2\"/><path d=\"M 720 41 716 81\" stroke=\"gray\" stroke-width=\"0.2\"/><path d=\"M 720 41 677 20\" stroke=\"gray\" stroke-width=\"0.2\"/><path d=\"M 720 41 611 154\" stroke=\"gray\" stroke-width=\"0.2\"/><path d=\"M 20 474 107 483\" stroke=\"gray\" stroke-width=\"0.2\"/><path d=\"M 20 474 44 508\" stroke=\"gray\" stroke-width=\"0.2\"/><path d=\"M 20 474 96 520\" stroke=\"gray\" stroke-width=\"0.2\"/><path d=\"M 20 474 199 426\" stroke=\"gray\" stroke-width=\"0.2\"/><path d=\"M 20 474 84 444\" stroke=\"gray\" stroke-width=\"0.2\"/><path d=\"M 20 474 35 436\" stroke=\"gray\" stroke-width=\"0.2\"/><path d=\"M 662 76 611 56\" stroke=\"gray\" stroke-width=\"0.2\"/><path d=\"M 662 76 720 41\" stroke=\"gray\" stroke-width=\"0.2\"/><path d=\"M 662 76 626 20\" stroke=\"gray\" stroke-width=\"0.2\"/><path d=\"M 662 76 716 81\" stroke=\"gray\" stroke-width=\"0.2\"/><path d=\"M 662 76 677 20\" stroke=\"gray\" stroke-width=\"0.2\"/><path d=\"M 662 76 611 154\" stroke=\"gray\" stroke-width=\"0.2\"/><path d=\"M 626 20 611 56\" stroke=\"gray\" stroke-width=\"0.2\"/><path d=\"M 626 20 720 41\" stroke=\"gray\" stroke-width=\"0.2\"/><path d=\"M 626 20 662 76\" stroke=\"gray\" stroke-width=\"0.2\"/><path d=\"M 626 20 716 81\" stroke=\"gray\" stroke-width=\"0.2\"/><path d=\"M 626 20 677 20\" stroke=\"gray\" stroke-width=\"0.2\"/><path d=\"M 626 20 611 154\" stroke=\"gray\" stroke-width=\"0.2\"/><path d=\"M 442 311 620 278\" stroke=\"gray\" stroke-width=\"0.2\"/><path d=\"M 442 311 588 242\" stroke=\"gray\" stroke-width=\"0.2\"/><path d=\"M 442 311 199 426\" stroke=\"gray\" stroke-width=\"0.2\"/><path d=\"M 442 311 329 382\" stroke=\"gray\" stroke-width=\"0.2\"/><path d=\"M 442 311 354 417\" stroke=\"gray\" stroke-width=\"0.2\"/><path d=\"M 442 311 567 285\" stroke=\"gray\" stroke-width=\"0.2\"/><path d=\"M 442 311 611 154\" stroke=\"gray\" stroke-width=\"0.2\"/><path d=\"M 442 311 530 238\" stroke=\"gray\" stroke-width=\"0.2\"/><path d=\"M 442 311 298 348\" stroke=\"gray\" stroke-width=\"0.2\"/><path d=\"M 96 520 107 483\" stroke=\"gray\" stroke-width=\"0.2\"/><path d=\"M 96 520 44 508\" stroke=\"gray\" stroke-width=\"0.2\"/><path d=\"M 96 520 20 474\" stroke=\"gray\" stroke-width=\"0.2\"/><path d=\"M 96 520 199 426\" stroke=\"gray\" stroke-width=\"0.2\"/><path d=\"M 96 520 84 444\" stroke=\"gray\" stroke-width=\"0.2\"/><path d=\"M 96 520 35 436\" stroke=\"gray\" stroke-width=\"0.2\"/><path d=\"M 716 81 611 56\" stroke=\"gray\" stroke-width=\"0.2\"/><path d=\"M 716 81 720 41\" stroke=\"gray\" stroke-width=\"0.2\"/><path d=\"M 716 81 662 76\" stroke=\"gray\" stroke-width=\"0.2\"/><path d=\"M 716 81 626 20\" stroke=\"gray\" stroke-width=\"0.2\"/><path d=\"M 716 81 677 20\" stroke=\"gray\" stroke-width=\"0.2\"/><path d=\"M 716 81 611 154\" stroke=\"gray\" stroke-width=\"0.2\"/><path d=\"M 199 426 107 483\" stroke=\"gray\" stroke-width=\"0.2\"/><path d=\"M 199 426 44 508\" stroke=\"gray\" stroke-width=\"0.2\"/><path d=\"M 199 426 20 474\" stroke=\"gray\" stroke-width=\"0.2\"/><path d=\"M 199 426 442 311\" stroke=\"gray\" stroke-width=\"0.2\"/><path d=\"M 199 426 96 520\" stroke=\"gray\" stroke-width=\"0.2\"/><path d=\"M 199 426 84 444\" stroke=\"gray\" stroke-width=\"0.2\"/><path d=\"M 199 426 35 436\" stroke=\"gray\" stroke-width=\"0.2\"/><path d=\"M 199 426 329 382\" stroke=\"gray\" stroke-width=\"0.2\"/><path d=\"M 199 426 354 417\" stroke=\"gray\" stroke-width=\"0.2\"/><path d=\"M 199 426 298 348\" stroke=\"gray\" stroke-width=\"0.2\"/><path d=\"M 677 20 611 56\" stroke=\"gray\" stroke-width=\"0.2\"/><path d=\"M 677 20 720 41\" stroke=\"gray\" stroke-width=\"0.2\"/><path d=\"M 677 20 662 76\" stroke=\"gray\" stroke-width=\"0.2\"/><path d=\"M 677 20 626 20\" stroke=\"gray\" stroke-width=\"0.2\"/><path d=\"M 677 20 716 81\" stroke=\"gray\" stroke-width=\"0.2\"/><path d=\"M 677 20 611 154\" stroke=\"gray\" stroke-width=\"0.2\"/><path d=\"M 84 444 107 483\" stroke=\"gray\" stroke-width=\"0.2\"/><path d=\"M 84 444 44 508\" stroke=\"gray\" stroke-width=\"0.2\"/><path d=\"M 84 444 20 474\" stroke=\"gray\" stroke-width=\"0.2\"/><path d=\"M 84 444 96 520\" stroke=\"gray\" stroke-width=\"0.2\"/><path d=\"M 84 444 199 426\" stroke=\"gray\" stroke-width=\"0.2\"/><path d=\"M 84 444 35 436\" stroke=\"gray\" stroke-width=\"0.2\"/><path d=\"M 35 436 107 483\" stroke=\"gray\" stroke-width=\"0.2\"/><path d=\"M 35 436 44 508\" stroke=\"gray\" stroke-width=\"0.2\"/><path d=\"M 35 436 20 474\" stroke=\"gray\" stroke-width=\"0.2\"/><path d=\"M 35 436 96 520\" stroke=\"gray\" stroke-width=\"0.2\"/><path d=\"M 35 436 199 426\" stroke=\"gray\" stroke-width=\"0.2\"/><path d=\"M 35 436 84 444\" stroke=\"gray\" stroke-width=\"0.2\"/><path d=\"M 329 382 442 311\" stroke=\"gray\" stroke-width=\"0.2\"/><path d=\"M 329 382 199 426\" stroke=\"gray\" stroke-width=\"0.2\"/><path d=\"M 329 382 354 417\" stroke=\"gray\" stroke-width=\"0.2\"/><path d=\"M 329 382 298 348\" stroke=\"gray\" stroke-width=\"0.2\"/><path d=\"M 354 417 442 311\" stroke=\"gray\" stroke-width=\"0.2\"/><path d=\"M 354 417 199 426\" stroke=\"gray\" stroke-width=\"0.2\"/><path d=\"M 354 417 329 382\" stroke=\"gray\" stroke-width=\"0.2\"/><path d=\"M 354 417 298 348\" stroke=\"gray\" stroke-width=\"0.2\"/><path d=\"M 567 285 620 278\" stroke=\"gray\" stroke-width=\"0.2\"/><path d=\"M 567 285 588 242\" stroke=\"gray\" stroke-width=\"0.2\"/><path d=\"M 567 285 442 311\" stroke=\"gray\" stroke-width=\"0.2\"/><path d=\"M 567 285 611 154\" stroke=\"gray\" stroke-width=\"0.2\"/><path d=\"M 567 285 530 238\" stroke=\"gray\" stroke-width=\"0.2\"/><path d=\"M 611 154 620 278\" stroke=\"gray\" stroke-width=\"0.2\"/><path d=\"M 611 154 588 242\" stroke=\"gray\" stroke-width=\"0.2\"/><path d=\"M 611 154 611 56\" stroke=\"gray\" stroke-width=\"0.2\"/><path d=\"M 611 154 720 41\" stroke=\"gray\" stroke-width=\"0.2\"/><path d=\"M 611 154 662 76\" stroke=\"gray\" stroke-width=\"0.2\"/><path d=\"M 611 154 626 20\" stroke=\"gray\" stroke-width=\"0.2\"/><path d=\"M 611 154 442 311\" stroke=\"gray\" stroke-width=\"0.2\"/><path d=\"M 611 154 716 81\" stroke=\"gray\" stroke-width=\"0.2\"/><path d=\"M 611 154 677 20\" stroke=\"gray\" stroke-width=\"0.2\"/><path d=\"M 611 154 567 285\" stroke=\"gray\" stroke-width=\"0.2\"/><path d=\"M 611 154 530 238\" stroke=\"gray\" stroke-width=\"0.2\"/><path d=\"M 530 238 620 278\" stroke=\"gray\" stroke-width=\"0.2\"/><path d=\"M 530 238 588 242\" stroke=\"gray\" stroke-width=\"0.2\"/><path d=\"M 530 238 442 311\" stroke=\"gray\" stroke-width=\"0.2\"/><path d=\"M 530 238 567 285\" stroke=\"gray\" stroke-width=\"0.2\"/><path d=\"M 530 238 611 154\" stroke=\"gray\" stroke-width=\"0.2\"/><path d=\"M 298 348 442 311\" stroke=\"gray\" stroke-width=\"0.2\"/><path d=\"M 298 348 199 426\" stroke=\"gray\" stroke-width=\"0.2\"/><path d=\"M 298 348 329 382\" stroke=\"gray\" stroke-width=\"0.2\"/><path d=\"M 298 348 354 417\" stroke=\"gray\" stroke-width=\"0.2\"/><circle cx=\"620\" cy=\"278\" r=\"3.0\" style=\"fill:rgb(96, 128, 232);stroke:black;stroke-width:1.0\"/><circle cx=\"107\" cy=\"483\" r=\"3.0\" style=\"fill:rgb(141, 175, 253);stroke:black;stroke-width:1.0\"/><circle cx=\"44\" cy=\"508\" r=\"3.0\" style=\"fill:rgb(141, 175, 253);stroke:black;stroke-width:1.0\"/><circle cx=\"588\" cy=\"242\" r=\"3.0\" style=\"fill:rgb(96, 128, 232);stroke:black;stroke-width:1.0\"/><circle cx=\"611\" cy=\"56\" r=\"3.0\" style=\"fill:rgb(134, 169, 252);stroke:black;stroke-width:1.0\"/><circle cx=\"720\" cy=\"41\" r=\"3.0\" style=\"fill:rgb(134, 169, 252);stroke:black;stroke-width:1.0\"/><circle cx=\"20\" cy=\"474\" r=\"3.0\" style=\"fill:rgb(141, 175, 253);stroke:black;stroke-width:1.0\"/><circle cx=\"662\" cy=\"76\" r=\"3.0\" style=\"fill:rgb(134, 169, 252);stroke:black;stroke-width:1.0\"/><circle cx=\"626\" cy=\"20\" r=\"3.0\" style=\"fill:rgb(134, 169, 252);stroke:black;stroke-width:1.0\"/><circle cx=\"442\" cy=\"311\" r=\"3.0\" style=\"fill:rgb(242, 145, 115);stroke:black;stroke-width:1.0\"/><circle cx=\"96\" cy=\"520\" r=\"3.0\" style=\"fill:rgb(141, 175, 253);stroke:black;stroke-width:1.0\"/><circle cx=\"716\" cy=\"81\" r=\"3.0\" style=\"fill:rgb(134, 169, 252);stroke:black;stroke-width:1.0\"/><circle cx=\"199\" cy=\"426\" r=\"3.0\" style=\"fill:rgb(217, 88, 71);stroke:black;stroke-width:1.0\"/><circle cx=\"677\" cy=\"20\" r=\"3.0\" style=\"fill:rgb(134, 169, 252);stroke:black;stroke-width:1.0\"/><circle cx=\"84\" cy=\"444\" r=\"3.0\" style=\"fill:rgb(141, 175, 253);stroke:black;stroke-width:1.0\"/><circle cx=\"35\" cy=\"436\" r=\"3.0\" style=\"fill:rgb(141, 175, 253);stroke:black;stroke-width:1.0\"/><circle cx=\"329\" cy=\"382\" r=\"3.0\" style=\"fill:rgb(58, 76, 192);stroke:black;stroke-width:1.0\"/><circle cx=\"354\" cy=\"417\" r=\"3.0\" style=\"fill:rgb(58, 76, 192);stroke:black;stroke-width:1.0\"/><circle cx=\"567\" cy=\"285\" r=\"3.0\" style=\"fill:rgb(96, 128, 232);stroke:black;stroke-width:1.0\"/><circle cx=\"611\" cy=\"154\" r=\"3.0\" style=\"fill:rgb(179, 3, 38);stroke:black;stroke-width:1.0\"/><circle cx=\"530\" cy=\"238\" r=\"3.0\" style=\"fill:rgb(96, 128, 232);stroke:black;stroke-width:1.0\"/><circle cx=\"298\" cy=\"348\" r=\"3.0\" style=\"fill:rgb(58, 76, 192);stroke:black;stroke-width:1.0\"/><text font-size=\"10\" x=\"626\" y=\"281\">Yuting Jia</text><text font-size=\"10\" x=\"113\" y=\"486\">Yuelyu Ji</text><text font-size=\"10\" x=\"50\" y=\"511\">Yuhe Gao</text><text font-size=\"10\" x=\"594\" y=\"245\">Changfeng Liu</text><text font-size=\"10\" x=\"617\" y=\"59\">Jiajun Shen</text><text font-size=\"10\" x=\"726\" y=\"44\">Michael Auli</text><text font-size=\"10\" x=\"26\" y=\"477\">Runxue Bao</text><text font-size=\"10\" x=\"668\" y=\"79\">Jiatao Gu</text><text font-size=\"10\" x=\"632\" y=\"23\">Marc'Aurelio Ranzato</text><text font-size=\"10\" x=\"448\" y=\"314\">Xinbing Wang</text><text font-size=\"10\" x=\"102\" y=\"523\">Ye Ye</text><text font-size=\"10\" x=\"722\" y=\"84\">Matt Le</text><text font-size=\"10\" x=\"205\" y=\"429\">Qi Li</text><text font-size=\"10\" x=\"683\" y=\"23\">Peng-Jen Chen</text><text font-size=\"10\" x=\"90\" y=\"447\">Yiming Sun</text><text font-size=\"10\" x=\"41\" y=\"439\">Disheng Liu</text><text font-size=\"10\" x=\"335\" y=\"385\">Dongrui Lu</text><text font-size=\"10\" x=\"360\" y=\"420\">Luoyi Fu</text><text font-size=\"10\" x=\"573\" y=\"288\">Jiaming Shen</text><text font-size=\"10\" x=\"617\" y=\"157\">Junxian He</text><text font-size=\"10\" x=\"536\" y=\"241\">Ying Huang</text><text font-size=\"10\" x=\"304\" y=\"351\">Chenghu Zhou</text></svg>"
      ],
      "text/plain": [
       "<IPython.core.display.SVG object>"
      ]
     },
     "execution_count": 71,
     "metadata": {},
     "output_type": "execute_result"
    }
   ],
   "source": [
    "G_check = community_context_dict[communities[17]]['G']\n",
    "draw_community(G_check)"
   ]
  },
  {
   "cell_type": "code",
   "execution_count": 58,
   "id": "f16d3b3f",
   "metadata": {},
   "outputs": [
    {
     "data": {
      "text/plain": [
       "[\"Can We `Feel' the Temperature of Knowledge? Modelling Scientific Popularity Dynamics via Thermodynamics\",\n",
       " \"Prediction of COVID-19 Patients' Emergency Room Revisit using Multi-Source Transfer Learning\",\n",
       " 'Text Network Exploration via Heterogeneous Web of Topics',\n",
       " 'The Source-Target Domain Mismatch Problem in Machine Translation']"
      ]
     },
     "execution_count": 58,
     "metadata": {},
     "output_type": "execute_result"
    }
   ],
   "source": [
    "show_author_papers(df, G_check)\n",
    "\n",
    "#Mining the Social Media Data for a Bottom-Up Evaluation of Walkability"
   ]
  },
  {
   "cell_type": "code",
   "execution_count": 69,
   "id": "b694875e",
   "metadata": {},
   "outputs": [
    {
     "name": "stdout",
     "output_type": "stream",
     "text": [
      "Density: 0.29347826086956524\n",
      "Node Count: 24\n"
     ]
    },
    {
     "data": {
      "image/svg+xml": [
       "<svg height=\"540\" width=\"850.0\" xmlns=\"http://www.w3.org/2000/svg\"><path d=\"M 337 210 418 351\" stroke=\"gray\" stroke-width=\"0.2\"/><path d=\"M 337 210 240 197\" stroke=\"gray\" stroke-width=\"0.2\"/><path d=\"M 337 210 313 248\" stroke=\"gray\" stroke-width=\"0.2\"/><path d=\"M 337 210 299 297\" stroke=\"gray\" stroke-width=\"0.2\"/><path d=\"M 504 371 573 441\" stroke=\"gray\" stroke-width=\"0.2\"/><path d=\"M 504 371 418 351\" stroke=\"gray\" stroke-width=\"0.2\"/><path d=\"M 504 371 517 411\" stroke=\"gray\" stroke-width=\"0.2\"/><path d=\"M 504 371 487 436\" stroke=\"gray\" stroke-width=\"0.2\"/><path d=\"M 504 371 511 465\" stroke=\"gray\" stroke-width=\"0.2\"/><path d=\"M 504 371 486 492\" stroke=\"gray\" stroke-width=\"0.2\"/><path d=\"M 504 371 455 430\" stroke=\"gray\" stroke-width=\"0.2\"/><path d=\"M 504 371 476 388\" stroke=\"gray\" stroke-width=\"0.2\"/><path d=\"M 504 371 460 475\" stroke=\"gray\" stroke-width=\"0.2\"/><path d=\"M 573 441 504 371\" stroke=\"gray\" stroke-width=\"0.2\"/><path d=\"M 573 441 418 351\" stroke=\"gray\" stroke-width=\"0.2\"/><path d=\"M 573 441 517 411\" stroke=\"gray\" stroke-width=\"0.2\"/><path d=\"M 573 441 678 520\" stroke=\"gray\" stroke-width=\"0.2\"/><path d=\"M 573 441 487 436\" stroke=\"gray\" stroke-width=\"0.2\"/><path d=\"M 573 441 511 465\" stroke=\"gray\" stroke-width=\"0.2\"/><path d=\"M 573 441 486 492\" stroke=\"gray\" stroke-width=\"0.2\"/><path d=\"M 573 441 455 430\" stroke=\"gray\" stroke-width=\"0.2\"/><path d=\"M 573 441 476 388\" stroke=\"gray\" stroke-width=\"0.2\"/><path d=\"M 573 441 712 499\" stroke=\"gray\" stroke-width=\"0.2\"/><path d=\"M 573 441 674 456\" stroke=\"gray\" stroke-width=\"0.2\"/><path d=\"M 573 441 460 475\" stroke=\"gray\" stroke-width=\"0.2\"/><path d=\"M 573 441 720 442\" stroke=\"gray\" stroke-width=\"0.2\"/><path d=\"M 573 441 692 403\" stroke=\"gray\" stroke-width=\"0.2\"/><path d=\"M 418 351 337 210\" stroke=\"gray\" stroke-width=\"0.2\"/><path d=\"M 418 351 504 371\" stroke=\"gray\" stroke-width=\"0.2\"/><path d=\"M 418 351 573 441\" stroke=\"gray\" stroke-width=\"0.2\"/><path d=\"M 418 351 240 197\" stroke=\"gray\" stroke-width=\"0.2\"/><path d=\"M 418 351 517 411\" stroke=\"gray\" stroke-width=\"0.2\"/><path d=\"M 418 351 313 248\" stroke=\"gray\" stroke-width=\"0.2\"/><path d=\"M 418 351 487 436\" stroke=\"gray\" stroke-width=\"0.2\"/><path d=\"M 418 351 511 465\" stroke=\"gray\" stroke-width=\"0.2\"/><path d=\"M 418 351 486 492\" stroke=\"gray\" stroke-width=\"0.2\"/><path d=\"M 418 351 455 430\" stroke=\"gray\" stroke-width=\"0.2\"/><path d=\"M 418 351 476 388\" stroke=\"gray\" stroke-width=\"0.2\"/><path d=\"M 418 351 299 297\" stroke=\"gray\" stroke-width=\"0.2\"/><path d=\"M 418 351 460 475\" stroke=\"gray\" stroke-width=\"0.2\"/><path d=\"M 240 197 337 210\" stroke=\"gray\" stroke-width=\"0.2\"/><path d=\"M 240 197 418 351\" stroke=\"gray\" stroke-width=\"0.2\"/><path d=\"M 240 197 167 97\" stroke=\"gray\" stroke-width=\"0.2\"/><path d=\"M 240 197 313 248\" stroke=\"gray\" stroke-width=\"0.2\"/><path d=\"M 240 197 113 75\" stroke=\"gray\" stroke-width=\"0.2\"/><path d=\"M 240 197 102 127\" stroke=\"gray\" stroke-width=\"0.2\"/><path d=\"M 240 197 299 297\" stroke=\"gray\" stroke-width=\"0.2\"/><path d=\"M 517 411 504 371\" stroke=\"gray\" stroke-width=\"0.2\"/><path d=\"M 517 411 573 441\" stroke=\"gray\" stroke-width=\"0.2\"/><path d=\"M 517 411 418 351\" stroke=\"gray\" stroke-width=\"0.2\"/><path d=\"M 517 411 487 436\" stroke=\"gray\" stroke-width=\"0.2\"/><path d=\"M 517 411 511 465\" stroke=\"gray\" stroke-width=\"0.2\"/><path d=\"M 517 411 486 492\" stroke=\"gray\" stroke-width=\"0.2\"/><path d=\"M 517 411 455 430\" stroke=\"gray\" stroke-width=\"0.2\"/><path d=\"M 517 411 476 388\" stroke=\"gray\" stroke-width=\"0.2\"/><path d=\"M 517 411 460 475\" stroke=\"gray\" stroke-width=\"0.2\"/><path d=\"M 678 520 573 441\" stroke=\"gray\" stroke-width=\"0.2\"/><path d=\"M 678 520 712 499\" stroke=\"gray\" stroke-width=\"0.2\"/><path d=\"M 678 520 674 456\" stroke=\"gray\" stroke-width=\"0.2\"/><path d=\"M 678 520 720 442\" stroke=\"gray\" stroke-width=\"0.2\"/><path d=\"M 678 520 692 403\" stroke=\"gray\" stroke-width=\"0.2\"/><path d=\"M 20 86 113 75\" stroke=\"gray\" stroke-width=\"0.2\"/><path d=\"M 20 86 102 127\" stroke=\"gray\" stroke-width=\"0.2\"/><path d=\"M 20 86 38 20\" stroke=\"gray\" stroke-width=\"0.2\"/><path d=\"M 167 97 240 197\" stroke=\"gray\" stroke-width=\"0.2\"/><path d=\"M 167 97 113 75\" stroke=\"gray\" stroke-width=\"0.2\"/><path d=\"M 167 97 102 127\" stroke=\"gray\" stroke-width=\"0.2\"/><path d=\"M 313 248 337 210\" stroke=\"gray\" stroke-width=\"0.2\"/><path d=\"M 313 248 418 351\" stroke=\"gray\" stroke-width=\"0.2\"/><path d=\"M 313 248 240 197\" stroke=\"gray\" stroke-width=\"0.2\"/><path d=\"M 313 248 299 297\" stroke=\"gray\" stroke-width=\"0.2\"/><path d=\"M 113 75 240 197\" stroke=\"gray\" stroke-width=\"0.2\"/><path d=\"M 113 75 20 86\" stroke=\"gray\" stroke-width=\"0.2\"/><path d=\"M 113 75 167 97\" stroke=\"gray\" stroke-width=\"0.2\"/><path d=\"M 113 75 102 127\" stroke=\"gray\" stroke-width=\"0.2\"/><path d=\"M 113 75 38 20\" stroke=\"gray\" stroke-width=\"0.2\"/><path d=\"M 487 436 504 371\" stroke=\"gray\" stroke-width=\"0.2\"/><path d=\"M 487 436 573 441\" stroke=\"gray\" stroke-width=\"0.2\"/><path d=\"M 487 436 418 351\" stroke=\"gray\" stroke-width=\"0.2\"/><path d=\"M 487 436 517 411\" stroke=\"gray\" stroke-width=\"0.2\"/><path d=\"M 487 436 511 465\" stroke=\"gray\" stroke-width=\"0.2\"/><path d=\"M 487 436 486 492\" stroke=\"gray\" stroke-width=\"0.2\"/><path d=\"M 487 436 455 430\" stroke=\"gray\" stroke-width=\"0.2\"/><path d=\"M 487 436 476 388\" stroke=\"gray\" stroke-width=\"0.2\"/><path d=\"M 487 436 460 475\" stroke=\"gray\" stroke-width=\"0.2\"/><path d=\"M 102 127 240 197\" stroke=\"gray\" stroke-width=\"0.2\"/><path d=\"M 102 127 20 86\" stroke=\"gray\" stroke-width=\"0.2\"/><path d=\"M 102 127 167 97\" stroke=\"gray\" stroke-width=\"0.2\"/><path d=\"M 102 127 113 75\" stroke=\"gray\" stroke-width=\"0.2\"/><path d=\"M 102 127 38 20\" stroke=\"gray\" stroke-width=\"0.2\"/><path d=\"M 511 465 504 371\" stroke=\"gray\" stroke-width=\"0.2\"/><path d=\"M 511 465 573 441\" stroke=\"gray\" stroke-width=\"0.2\"/><path d=\"M 511 465 418 351\" stroke=\"gray\" stroke-width=\"0.2\"/><path d=\"M 511 465 517 411\" stroke=\"gray\" stroke-width=\"0.2\"/><path d=\"M 511 465 487 436\" stroke=\"gray\" stroke-width=\"0.2\"/><path d=\"M 511 465 486 492\" stroke=\"gray\" stroke-width=\"0.2\"/><path d=\"M 511 465 455 430\" stroke=\"gray\" stroke-width=\"0.2\"/><path d=\"M 511 465 476 388\" stroke=\"gray\" stroke-width=\"0.2\"/><path d=\"M 511 465 460 475\" stroke=\"gray\" stroke-width=\"0.2\"/><path d=\"M 486 492 504 371\" stroke=\"gray\" stroke-width=\"0.2\"/><path d=\"M 486 492 573 441\" stroke=\"gray\" stroke-width=\"0.2\"/><path d=\"M 486 492 418 351\" stroke=\"gray\" stroke-width=\"0.2\"/><path d=\"M 486 492 517 411\" stroke=\"gray\" stroke-width=\"0.2\"/><path d=\"M 486 492 487 436\" stroke=\"gray\" stroke-width=\"0.2\"/><path d=\"M 486 492 511 465\" stroke=\"gray\" stroke-width=\"0.2\"/><path d=\"M 486 492 455 430\" stroke=\"gray\" stroke-width=\"0.2\"/><path d=\"M 486 492 476 388\" stroke=\"gray\" stroke-width=\"0.2\"/><path d=\"M 486 492 460 475\" stroke=\"gray\" stroke-width=\"0.2\"/><path d=\"M 455 430 504 371\" stroke=\"gray\" stroke-width=\"0.2\"/><path d=\"M 455 430 573 441\" stroke=\"gray\" stroke-width=\"0.2\"/><path d=\"M 455 430 418 351\" stroke=\"gray\" stroke-width=\"0.2\"/><path d=\"M 455 430 517 411\" stroke=\"gray\" stroke-width=\"0.2\"/><path d=\"M 455 430 487 436\" stroke=\"gray\" stroke-width=\"0.2\"/><path d=\"M 455 430 511 465\" stroke=\"gray\" stroke-width=\"0.2\"/><path d=\"M 455 430 486 492\" stroke=\"gray\" stroke-width=\"0.2\"/><path d=\"M 455 430 476 388\" stroke=\"gray\" stroke-width=\"0.2\"/><path d=\"M 455 430 460 475\" stroke=\"gray\" stroke-width=\"0.2\"/><path d=\"M 476 388 504 371\" stroke=\"gray\" stroke-width=\"0.2\"/><path d=\"M 476 388 573 441\" stroke=\"gray\" stroke-width=\"0.2\"/><path d=\"M 476 388 418 351\" stroke=\"gray\" stroke-width=\"0.2\"/><path d=\"M 476 388 517 411\" stroke=\"gray\" stroke-width=\"0.2\"/><path d=\"M 476 388 487 436\" stroke=\"gray\" stroke-width=\"0.2\"/><path d=\"M 476 388 511 465\" stroke=\"gray\" stroke-width=\"0.2\"/><path d=\"M 476 388 486 492\" stroke=\"gray\" stroke-width=\"0.2\"/><path d=\"M 476 388 455 430\" stroke=\"gray\" stroke-width=\"0.2\"/><path d=\"M 476 388 460 475\" stroke=\"gray\" stroke-width=\"0.2\"/><path d=\"M 38 20 20 86\" stroke=\"gray\" stroke-width=\"0.2\"/><path d=\"M 38 20 113 75\" stroke=\"gray\" stroke-width=\"0.2\"/><path d=\"M 38 20 102 127\" stroke=\"gray\" stroke-width=\"0.2\"/><path d=\"M 712 499 573 441\" stroke=\"gray\" stroke-width=\"0.2\"/><path d=\"M 712 499 678 520\" stroke=\"gray\" stroke-width=\"0.2\"/><path d=\"M 712 499 674 456\" stroke=\"gray\" stroke-width=\"0.2\"/><path d=\"M 712 499 720 442\" stroke=\"gray\" stroke-width=\"0.2\"/><path d=\"M 712 499 692 403\" stroke=\"gray\" stroke-width=\"0.2\"/><path d=\"M 299 297 337 210\" stroke=\"gray\" stroke-width=\"0.2\"/><path d=\"M 299 297 418 351\" stroke=\"gray\" stroke-width=\"0.2\"/><path d=\"M 299 297 240 197\" stroke=\"gray\" stroke-width=\"0.2\"/><path d=\"M 299 297 313 248\" stroke=\"gray\" stroke-width=\"0.2\"/><path d=\"M 674 456 573 441\" stroke=\"gray\" stroke-width=\"0.2\"/><path d=\"M 674 456 678 520\" stroke=\"gray\" stroke-width=\"0.2\"/><path d=\"M 674 456 712 499\" stroke=\"gray\" stroke-width=\"0.2\"/><path d=\"M 674 456 720 442\" stroke=\"gray\" stroke-width=\"0.2\"/><path d=\"M 674 456 692 403\" stroke=\"gray\" stroke-width=\"0.2\"/><path d=\"M 460 475 504 371\" stroke=\"gray\" stroke-width=\"0.2\"/><path d=\"M 460 475 573 441\" stroke=\"gray\" stroke-width=\"0.2\"/><path d=\"M 460 475 418 351\" stroke=\"gray\" stroke-width=\"0.2\"/><path d=\"M 460 475 517 411\" stroke=\"gray\" stroke-width=\"0.2\"/><path d=\"M 460 475 487 436\" stroke=\"gray\" stroke-width=\"0.2\"/><path d=\"M 460 475 511 465\" stroke=\"gray\" stroke-width=\"0.2\"/><path d=\"M 460 475 486 492\" stroke=\"gray\" stroke-width=\"0.2\"/><path d=\"M 460 475 455 430\" stroke=\"gray\" stroke-width=\"0.2\"/><path d=\"M 460 475 476 388\" stroke=\"gray\" stroke-width=\"0.2\"/><path d=\"M 720 442 573 441\" stroke=\"gray\" stroke-width=\"0.2\"/><path d=\"M 720 442 678 520\" stroke=\"gray\" stroke-width=\"0.2\"/><path d=\"M 720 442 712 499\" stroke=\"gray\" stroke-width=\"0.2\"/><path d=\"M 720 442 674 456\" stroke=\"gray\" stroke-width=\"0.2\"/><path d=\"M 720 442 692 403\" stroke=\"gray\" stroke-width=\"0.2\"/><path d=\"M 692 403 573 441\" stroke=\"gray\" stroke-width=\"0.2\"/><path d=\"M 692 403 678 520\" stroke=\"gray\" stroke-width=\"0.2\"/><path d=\"M 692 403 712 499\" stroke=\"gray\" stroke-width=\"0.2\"/><path d=\"M 692 403 674 456\" stroke=\"gray\" stroke-width=\"0.2\"/><path d=\"M 692 403 720 442\" stroke=\"gray\" stroke-width=\"0.2\"/><circle cx=\"337\" cy=\"210\" r=\"3.0\" style=\"fill:rgb(66, 88, 202);stroke:black;stroke-width:1.0\"/><circle cx=\"504\" cy=\"371\" r=\"3.0\" style=\"fill:rgb(180, 205, 250);stroke:black;stroke-width:1.0\"/><circle cx=\"573\" cy=\"441\" r=\"3.0\" style=\"fill:rgb(179, 3, 38);stroke:black;stroke-width:1.0\"/><circle cx=\"418\" cy=\"351\" r=\"3.0\" style=\"fill:rgb(201, 59, 55);stroke:black;stroke-width:1.0\"/><circle cx=\"240\" cy=\"197\" r=\"3.0\" style=\"fill:rgb(236, 210, 196);stroke:black;stroke-width:1.0\"/><circle cx=\"517\" cy=\"411\" r=\"3.0\" style=\"fill:rgb(180, 205, 250);stroke:black;stroke-width:1.0\"/><circle cx=\"678\" cy=\"520\" r=\"3.0\" style=\"fill:rgb(88, 118, 226);stroke:black;stroke-width:1.0\"/><circle cx=\"20\" cy=\"86\" r=\"3.0\" style=\"fill:rgb(70, 93, 207);stroke:black;stroke-width:1.0\"/><circle cx=\"167\" cy=\"97\" r=\"3.0\" style=\"fill:rgb(58, 76, 192);stroke:black;stroke-width:1.0\"/><circle cx=\"313\" cy=\"248\" r=\"3.0\" style=\"fill:rgb(66, 88, 202);stroke:black;stroke-width:1.0\"/><circle cx=\"113\" cy=\"75\" r=\"3.0\" style=\"fill:rgb(189, 210, 246);stroke:black;stroke-width:1.0\"/><circle cx=\"487\" cy=\"436\" r=\"3.0\" style=\"fill:rgb(180, 205, 250);stroke:black;stroke-width:1.0\"/><circle cx=\"102\" cy=\"127\" r=\"3.0\" style=\"fill:rgb(189, 210, 246);stroke:black;stroke-width:1.0\"/><circle cx=\"511\" cy=\"465\" r=\"3.0\" style=\"fill:rgb(180, 205, 250);stroke:black;stroke-width:1.0\"/><circle cx=\"486\" cy=\"492\" r=\"3.0\" style=\"fill:rgb(180, 205, 250);stroke:black;stroke-width:1.0\"/><circle cx=\"455\" cy=\"430\" r=\"3.0\" style=\"fill:rgb(180, 205, 250);stroke:black;stroke-width:1.0\"/><circle cx=\"476\" cy=\"388\" r=\"3.0\" style=\"fill:rgb(180, 205, 250);stroke:black;stroke-width:1.0\"/><circle cx=\"38\" cy=\"20\" r=\"3.0\" style=\"fill:rgb(70, 93, 207);stroke:black;stroke-width:1.0\"/><circle cx=\"712\" cy=\"499\" r=\"3.0\" style=\"fill:rgb(88, 118, 226);stroke:black;stroke-width:1.0\"/><circle cx=\"299\" cy=\"297\" r=\"3.0\" style=\"fill:rgb(66, 88, 202);stroke:black;stroke-width:1.0\"/><circle cx=\"674\" cy=\"456\" r=\"3.0\" style=\"fill:rgb(88, 118, 226);stroke:black;stroke-width:1.0\"/><circle cx=\"460\" cy=\"475\" r=\"3.0\" style=\"fill:rgb(180, 205, 250);stroke:black;stroke-width:1.0\"/><circle cx=\"720\" cy=\"442\" r=\"3.0\" style=\"fill:rgb(88, 118, 226);stroke:black;stroke-width:1.0\"/><circle cx=\"692\" cy=\"403\" r=\"3.0\" style=\"fill:rgb(88, 118, 226);stroke:black;stroke-width:1.0\"/><text font-size=\"10\" x=\"343\" y=\"213\">Chenhao Yang</text><text font-size=\"10\" x=\"510\" y=\"374\">Allison E. Hainline</text><text font-size=\"10\" x=\"579\" y=\"444\">Bennett A. Landman</text><text font-size=\"10\" x=\"424\" y=\"354\">Rui Li</text><text font-size=\"10\" x=\"246\" y=\"200\">Alois Knoll</text><text font-size=\"10\" x=\"523\" y=\"414\">Robert Shults</text><text font-size=\"10\" x=\"684\" y=\"523\">Annika Reinke</text><text font-size=\"10\" x=\"26\" y=\"89\">Marcus Knüpfer</text><text font-size=\"10\" x=\"173\" y=\"100\">Habtom Kahsay Gidey</text><text font-size=\"10\" x=\"319\" y=\"251\">Giovanni Beltrame</text><text font-size=\"10\" x=\"119\" y=\"78\">Andreas Karcher</text><text font-size=\"10\" x=\"493\" y=\"439\">Camilo Bermudez</text><text font-size=\"10\" x=\"108\" y=\"130\">Peter Hillmann</text><text font-size=\"10\" x=\"517\" y=\"468\">Yuankai Huo</text><text font-size=\"10\" x=\"492\" y=\"495\">Benoit M. Dawant</text><text font-size=\"10\" x=\"461\" y=\"433\">Pierre D. DHaese</text><text font-size=\"10\" x=\"482\" y=\"391\">William Rodriguez</text><text font-size=\"10\" x=\"44\" y=\"23\">Erik Heiland</text><text font-size=\"10\" x=\"718\" y=\"502\">Manuel Wiesenfarth</text><text font-size=\"10\" x=\"305\" y=\"300\">Yanjun Cao</text><text font-size=\"10\" x=\"680\" y=\"459\">Lena Maier-Hein</text><text font-size=\"10\" x=\"466\" y=\"478\">Peter E. Konrad</text><text font-size=\"10\" x=\"726\" y=\"445\">Manuel Jorge Cardoso</text><text font-size=\"10\" x=\"698\" y=\"406\">Annette Kopp-Schneider</text></svg>"
      ],
      "text/plain": [
       "<IPython.core.display.SVG object>"
      ]
     },
     "execution_count": 69,
     "metadata": {},
     "output_type": "execute_result"
    }
   ],
   "source": [
    "G_check = community_context_dict[communities[18]]['G']\n",
    "draw_community(G_check)"
   ]
  },
  {
   "cell_type": "code",
   "execution_count": 60,
   "id": "f5f1a057",
   "metadata": {},
   "outputs": [
    {
     "data": {
      "text/plain": [
       "['A Large-scale Friend Suggestion Architecture',\n",
       " 'Accurate position tracking with a single UWB anchor',\n",
       " 'Methods and open-source toolkit for analyzing and visualizing challenge results',\n",
       " 'Selective Deletion in a Blockchain',\n",
       " 'Towards Cognitive Bots: Architectural Research Challenges',\n",
       " 'Towards Machine Learning Prediction of Deep Brain Stimulation (DBS) Intra-operative Efficacy Maps']"
      ]
     },
     "execution_count": 60,
     "metadata": {},
     "output_type": "execute_result"
    }
   ],
   "source": [
    "show_author_papers(df, G_check)\n",
    "\n",
    "#A Large-scale Friend Suggestion Architecture\n",
    "#Towards Cognitive Bots: Architectural Research Challenges"
   ]
  },
  {
   "cell_type": "code",
   "execution_count": 61,
   "id": "18809bb9",
   "metadata": {},
   "outputs": [
    {
     "name": "stdout",
     "output_type": "stream",
     "text": [
      "Density: 0.2964426877470356\n",
      "Node Count: 23\n"
     ]
    },
    {
     "data": {
      "image/svg+xml": [
       "<svg height=\"540\" width=\"845.0\" xmlns=\"http://www.w3.org/2000/svg\"><path d=\"M 330 219 380 246\" stroke=\"gray\" stroke-width=\"0.2\"/><path d=\"M 330 219 307 152\" stroke=\"gray\" stroke-width=\"0.2\"/><path d=\"M 330 219 309 285\" stroke=\"gray\" stroke-width=\"0.2\"/><path d=\"M 330 219 492 239\" stroke=\"gray\" stroke-width=\"0.2\"/><path d=\"M 330 219 407 223\" stroke=\"gray\" stroke-width=\"0.2\"/><path d=\"M 330 219 283 270\" stroke=\"gray\" stroke-width=\"0.2\"/><path d=\"M 330 219 400 192\" stroke=\"gray\" stroke-width=\"0.2\"/><path d=\"M 330 219 353 194\" stroke=\"gray\" stroke-width=\"0.2\"/><path d=\"M 195 20 307 152\" stroke=\"gray\" stroke-width=\"0.2\"/><path d=\"M 195 20 168 58\" stroke=\"gray\" stroke-width=\"0.2\"/><path d=\"M 195 20 262 23\" stroke=\"gray\" stroke-width=\"0.2\"/><path d=\"M 720 235 657 294\" stroke=\"gray\" stroke-width=\"0.2\"/><path d=\"M 720 235 712 282\" stroke=\"gray\" stroke-width=\"0.2\"/><path d=\"M 720 235 492 239\" stroke=\"gray\" stroke-width=\"0.2\"/><path d=\"M 720 235 664 233\" stroke=\"gray\" stroke-width=\"0.2\"/><path d=\"M 380 246 330 219\" stroke=\"gray\" stroke-width=\"0.2\"/><path d=\"M 380 246 307 152\" stroke=\"gray\" stroke-width=\"0.2\"/><path d=\"M 380 246 309 285\" stroke=\"gray\" stroke-width=\"0.2\"/><path d=\"M 380 246 492 239\" stroke=\"gray\" stroke-width=\"0.2\"/><path d=\"M 380 246 407 223\" stroke=\"gray\" stroke-width=\"0.2\"/><path d=\"M 380 246 283 270\" stroke=\"gray\" stroke-width=\"0.2\"/><path d=\"M 380 246 400 192\" stroke=\"gray\" stroke-width=\"0.2\"/><path d=\"M 380 246 353 194\" stroke=\"gray\" stroke-width=\"0.2\"/><path d=\"M 307 152 330 219\" stroke=\"gray\" stroke-width=\"0.2\"/><path d=\"M 307 152 195 20\" stroke=\"gray\" stroke-width=\"0.2\"/><path d=\"M 307 152 380 246\" stroke=\"gray\" stroke-width=\"0.2\"/><path d=\"M 307 152 168 58\" stroke=\"gray\" stroke-width=\"0.2\"/><path d=\"M 307 152 309 285\" stroke=\"gray\" stroke-width=\"0.2\"/><path d=\"M 307 152 492 239\" stroke=\"gray\" stroke-width=\"0.2\"/><path d=\"M 307 152 262 23\" stroke=\"gray\" stroke-width=\"0.2\"/><path d=\"M 307 152 407 223\" stroke=\"gray\" stroke-width=\"0.2\"/><path d=\"M 307 152 283 270\" stroke=\"gray\" stroke-width=\"0.2\"/><path d=\"M 307 152 400 192\" stroke=\"gray\" stroke-width=\"0.2\"/><path d=\"M 307 152 353 194\" stroke=\"gray\" stroke-width=\"0.2\"/><path d=\"M 168 58 195 20\" stroke=\"gray\" stroke-width=\"0.2\"/><path d=\"M 168 58 307 152\" stroke=\"gray\" stroke-width=\"0.2\"/><path d=\"M 168 58 262 23\" stroke=\"gray\" stroke-width=\"0.2\"/><path d=\"M 657 294 720 235\" stroke=\"gray\" stroke-width=\"0.2\"/><path d=\"M 657 294 712 282\" stroke=\"gray\" stroke-width=\"0.2\"/><path d=\"M 657 294 492 239\" stroke=\"gray\" stroke-width=\"0.2\"/><path d=\"M 657 294 664 233\" stroke=\"gray\" stroke-width=\"0.2\"/><path d=\"M 309 285 330 219\" stroke=\"gray\" stroke-width=\"0.2\"/><path d=\"M 309 285 380 246\" stroke=\"gray\" stroke-width=\"0.2\"/><path d=\"M 309 285 307 152\" stroke=\"gray\" stroke-width=\"0.2\"/><path d=\"M 309 285 168 311\" stroke=\"gray\" stroke-width=\"0.2\"/><path d=\"M 309 285 492 239\" stroke=\"gray\" stroke-width=\"0.2\"/><path d=\"M 309 285 254 370\" stroke=\"gray\" stroke-width=\"0.2\"/><path d=\"M 309 285 220 345\" stroke=\"gray\" stroke-width=\"0.2\"/><path d=\"M 309 285 163 343\" stroke=\"gray\" stroke-width=\"0.2\"/><path d=\"M 309 285 407 223\" stroke=\"gray\" stroke-width=\"0.2\"/><path d=\"M 309 285 283 270\" stroke=\"gray\" stroke-width=\"0.2\"/><path d=\"M 309 285 400 192\" stroke=\"gray\" stroke-width=\"0.2\"/><path d=\"M 309 285 162 396\" stroke=\"gray\" stroke-width=\"0.2\"/><path d=\"M 309 285 353 194\" stroke=\"gray\" stroke-width=\"0.2\"/><path d=\"M 168 311 309 285\" stroke=\"gray\" stroke-width=\"0.2\"/><path d=\"M 168 311 254 370\" stroke=\"gray\" stroke-width=\"0.2\"/><path d=\"M 168 311 220 345\" stroke=\"gray\" stroke-width=\"0.2\"/><path d=\"M 168 311 163 343\" stroke=\"gray\" stroke-width=\"0.2\"/><path d=\"M 168 311 283 270\" stroke=\"gray\" stroke-width=\"0.2\"/><path d=\"M 168 311 162 396\" stroke=\"gray\" stroke-width=\"0.2\"/><path d=\"M 712 282 720 235\" stroke=\"gray\" stroke-width=\"0.2\"/><path d=\"M 712 282 657 294\" stroke=\"gray\" stroke-width=\"0.2\"/><path d=\"M 712 282 492 239\" stroke=\"gray\" stroke-width=\"0.2\"/><path d=\"M 712 282 664 233\" stroke=\"gray\" stroke-width=\"0.2\"/><path d=\"M 492 239 330 219\" stroke=\"gray\" stroke-width=\"0.2\"/><path d=\"M 492 239 720 235\" stroke=\"gray\" stroke-width=\"0.2\"/><path d=\"M 492 239 380 246\" stroke=\"gray\" stroke-width=\"0.2\"/><path d=\"M 492 239 307 152\" stroke=\"gray\" stroke-width=\"0.2\"/><path d=\"M 492 239 657 294\" stroke=\"gray\" stroke-width=\"0.2\"/><path d=\"M 492 239 309 285\" stroke=\"gray\" stroke-width=\"0.2\"/><path d=\"M 492 239 712 282\" stroke=\"gray\" stroke-width=\"0.2\"/><path d=\"M 492 239 407 223\" stroke=\"gray\" stroke-width=\"0.2\"/><path d=\"M 492 239 664 233\" stroke=\"gray\" stroke-width=\"0.2\"/><path d=\"M 492 239 283 270\" stroke=\"gray\" stroke-width=\"0.2\"/><path d=\"M 492 239 400 192\" stroke=\"gray\" stroke-width=\"0.2\"/><path d=\"M 492 239 353 194\" stroke=\"gray\" stroke-width=\"0.2\"/><path d=\"M 254 370 309 285\" stroke=\"gray\" stroke-width=\"0.2\"/><path d=\"M 254 370 168 311\" stroke=\"gray\" stroke-width=\"0.2\"/><path d=\"M 254 370 220 345\" stroke=\"gray\" stroke-width=\"0.2\"/><path d=\"M 254 370 163 343\" stroke=\"gray\" stroke-width=\"0.2\"/><path d=\"M 254 370 283 270\" stroke=\"gray\" stroke-width=\"0.2\"/><path d=\"M 254 370 162 396\" stroke=\"gray\" stroke-width=\"0.2\"/><path d=\"M 20 489 91 520\" stroke=\"gray\" stroke-width=\"0.2\"/><path d=\"M 20 489 162 396\" stroke=\"gray\" stroke-width=\"0.2\"/><path d=\"M 220 345 309 285\" stroke=\"gray\" stroke-width=\"0.2\"/><path d=\"M 220 345 168 311\" stroke=\"gray\" stroke-width=\"0.2\"/><path d=\"M 220 345 254 370\" stroke=\"gray\" stroke-width=\"0.2\"/><path d=\"M 220 345 163 343\" stroke=\"gray\" stroke-width=\"0.2\"/><path d=\"M 220 345 283 270\" stroke=\"gray\" stroke-width=\"0.2\"/><path d=\"M 220 345 162 396\" stroke=\"gray\" stroke-width=\"0.2\"/><path d=\"M 163 343 309 285\" stroke=\"gray\" stroke-width=\"0.2\"/><path d=\"M 163 343 168 311\" stroke=\"gray\" stroke-width=\"0.2\"/><path d=\"M 163 343 254 370\" stroke=\"gray\" stroke-width=\"0.2\"/><path d=\"M 163 343 220 345\" stroke=\"gray\" stroke-width=\"0.2\"/><path d=\"M 163 343 283 270\" stroke=\"gray\" stroke-width=\"0.2\"/><path d=\"M 163 343 162 396\" stroke=\"gray\" stroke-width=\"0.2\"/><path d=\"M 262 23 195 20\" stroke=\"gray\" stroke-width=\"0.2\"/><path d=\"M 262 23 307 152\" stroke=\"gray\" stroke-width=\"0.2\"/><path d=\"M 262 23 168 58\" stroke=\"gray\" stroke-width=\"0.2\"/><path d=\"M 407 223 330 219\" stroke=\"gray\" stroke-width=\"0.2\"/><path d=\"M 407 223 380 246\" stroke=\"gray\" stroke-width=\"0.2\"/><path d=\"M 407 223 307 152\" stroke=\"gray\" stroke-width=\"0.2\"/><path d=\"M 407 223 309 285\" stroke=\"gray\" stroke-width=\"0.2\"/><path d=\"M 407 223 492 239\" stroke=\"gray\" stroke-width=\"0.2\"/><path d=\"M 407 223 283 270\" stroke=\"gray\" stroke-width=\"0.2\"/><path d=\"M 407 223 400 192\" stroke=\"gray\" stroke-width=\"0.2\"/><path d=\"M 407 223 353 194\" stroke=\"gray\" stroke-width=\"0.2\"/><path d=\"M 664 233 720 235\" stroke=\"gray\" stroke-width=\"0.2\"/><path d=\"M 664 233 657 294\" stroke=\"gray\" stroke-width=\"0.2\"/><path d=\"M 664 233 712 282\" stroke=\"gray\" stroke-width=\"0.2\"/><path d=\"M 664 233 492 239\" stroke=\"gray\" stroke-width=\"0.2\"/><path d=\"M 91 520 20 489\" stroke=\"gray\" stroke-width=\"0.2\"/><path d=\"M 91 520 162 396\" stroke=\"gray\" stroke-width=\"0.2\"/><path d=\"M 283 270 330 219\" stroke=\"gray\" stroke-width=\"0.2\"/><path d=\"M 283 270 380 246\" stroke=\"gray\" stroke-width=\"0.2\"/><path d=\"M 283 270 307 152\" stroke=\"gray\" stroke-width=\"0.2\"/><path d=\"M 283 270 309 285\" stroke=\"gray\" stroke-width=\"0.2\"/><path d=\"M 283 270 168 311\" stroke=\"gray\" stroke-width=\"0.2\"/><path d=\"M 283 270 492 239\" stroke=\"gray\" stroke-width=\"0.2\"/><path d=\"M 283 270 254 370\" stroke=\"gray\" stroke-width=\"0.2\"/><path d=\"M 283 270 220 345\" stroke=\"gray\" stroke-width=\"0.2\"/><path d=\"M 283 270 163 343\" stroke=\"gray\" stroke-width=\"0.2\"/><path d=\"M 283 270 407 223\" stroke=\"gray\" stroke-width=\"0.2\"/><path d=\"M 283 270 400 192\" stroke=\"gray\" stroke-width=\"0.2\"/><path d=\"M 283 270 162 396\" stroke=\"gray\" stroke-width=\"0.2\"/><path d=\"M 283 270 353 194\" stroke=\"gray\" stroke-width=\"0.2\"/><path d=\"M 400 192 330 219\" stroke=\"gray\" stroke-width=\"0.2\"/><path d=\"M 400 192 380 246\" stroke=\"gray\" stroke-width=\"0.2\"/><path d=\"M 400 192 307 152\" stroke=\"gray\" stroke-width=\"0.2\"/><path d=\"M 400 192 309 285\" stroke=\"gray\" stroke-width=\"0.2\"/><path d=\"M 400 192 492 239\" stroke=\"gray\" stroke-width=\"0.2\"/><path d=\"M 400 192 407 223\" stroke=\"gray\" stroke-width=\"0.2\"/><path d=\"M 400 192 283 270\" stroke=\"gray\" stroke-width=\"0.2\"/><path d=\"M 400 192 353 194\" stroke=\"gray\" stroke-width=\"0.2\"/><path d=\"M 162 396 309 285\" stroke=\"gray\" stroke-width=\"0.2\"/><path d=\"M 162 396 168 311\" stroke=\"gray\" stroke-width=\"0.2\"/><path d=\"M 162 396 254 370\" stroke=\"gray\" stroke-width=\"0.2\"/><path d=\"M 162 396 20 489\" stroke=\"gray\" stroke-width=\"0.2\"/><path d=\"M 162 396 220 345\" stroke=\"gray\" stroke-width=\"0.2\"/><path d=\"M 162 396 163 343\" stroke=\"gray\" stroke-width=\"0.2\"/><path d=\"M 162 396 91 520\" stroke=\"gray\" stroke-width=\"0.2\"/><path d=\"M 162 396 283 270\" stroke=\"gray\" stroke-width=\"0.2\"/><path d=\"M 353 194 330 219\" stroke=\"gray\" stroke-width=\"0.2\"/><path d=\"M 353 194 380 246\" stroke=\"gray\" stroke-width=\"0.2\"/><path d=\"M 353 194 307 152\" stroke=\"gray\" stroke-width=\"0.2\"/><path d=\"M 353 194 309 285\" stroke=\"gray\" stroke-width=\"0.2\"/><path d=\"M 353 194 492 239\" stroke=\"gray\" stroke-width=\"0.2\"/><path d=\"M 353 194 407 223\" stroke=\"gray\" stroke-width=\"0.2\"/><path d=\"M 353 194 283 270\" stroke=\"gray\" stroke-width=\"0.2\"/><path d=\"M 353 194 400 192\" stroke=\"gray\" stroke-width=\"0.2\"/><circle cx=\"330\" cy=\"219\" r=\"3.0\" style=\"fill:rgb(210, 218, 231);stroke:black;stroke-width:1.0\"/><circle cx=\"195\" cy=\"20\" r=\"3.0\" style=\"fill:rgb(88, 118, 226);stroke:black;stroke-width:1.0\"/><circle cx=\"720\" cy=\"235\" r=\"3.0\" style=\"fill:rgb(120, 155, 247);stroke:black;stroke-width:1.0\"/><circle cx=\"380\" cy=\"246\" r=\"3.0\" style=\"fill:rgb(210, 218, 231);stroke:black;stroke-width:1.0\"/><circle cx=\"307\" cy=\"152\" r=\"3.0\" style=\"fill:rgb(214, 82, 67);stroke:black;stroke-width:1.0\"/><circle cx=\"168\" cy=\"58\" r=\"3.0\" style=\"fill:rgb(88, 118, 226);stroke:black;stroke-width:1.0\"/><circle cx=\"657\" cy=\"294\" r=\"3.0\" style=\"fill:rgb(120, 155, 247);stroke:black;stroke-width:1.0\"/><circle cx=\"309\" cy=\"285\" r=\"3.0\" style=\"fill:rgb(179, 3, 38);stroke:black;stroke-width:1.0\"/><circle cx=\"168\" cy=\"311\" r=\"3.0\" style=\"fill:rgb(163, 193, 254);stroke:black;stroke-width:1.0\"/><circle cx=\"712\" cy=\"282\" r=\"3.0\" style=\"fill:rgb(120, 155, 247);stroke:black;stroke-width:1.0\"/><circle cx=\"492\" cy=\"239\" r=\"3.0\" style=\"fill:rgb(187, 26, 43);stroke:black;stroke-width:1.0\"/><circle cx=\"254\" cy=\"370\" r=\"3.0\" style=\"fill:rgb(163, 193, 254);stroke:black;stroke-width:1.0\"/><circle cx=\"20\" cy=\"489\" r=\"3.0\" style=\"fill:rgb(58, 76, 192);stroke:black;stroke-width:1.0\"/><circle cx=\"220\" cy=\"345\" r=\"3.0\" style=\"fill:rgb(163, 193, 254);stroke:black;stroke-width:1.0\"/><circle cx=\"163\" cy=\"343\" r=\"3.0\" style=\"fill:rgb(163, 193, 254);stroke:black;stroke-width:1.0\"/><circle cx=\"262\" cy=\"23\" r=\"3.0\" style=\"fill:rgb(88, 118, 226);stroke:black;stroke-width:1.0\"/><circle cx=\"407\" cy=\"223\" r=\"3.0\" style=\"fill:rgb(210, 218, 231);stroke:black;stroke-width:1.0\"/><circle cx=\"664\" cy=\"233\" r=\"3.0\" style=\"fill:rgb(120, 155, 247);stroke:black;stroke-width:1.0\"/><circle cx=\"91\" cy=\"520\" r=\"3.0\" style=\"fill:rgb(58, 76, 192);stroke:black;stroke-width:1.0\"/><circle cx=\"283\" cy=\"270\" r=\"3.0\" style=\"fill:rgb(182, 13, 40);stroke:black;stroke-width:1.0\"/><circle cx=\"400\" cy=\"192\" r=\"3.0\" style=\"fill:rgb(210, 218, 231);stroke:black;stroke-width:1.0\"/><circle cx=\"162\" cy=\"396\" r=\"3.0\" style=\"fill:rgb(246, 186, 159);stroke:black;stroke-width:1.0\"/><circle cx=\"353\" cy=\"194\" r=\"3.0\" style=\"fill:rgb(210, 218, 231);stroke:black;stroke-width:1.0\"/><text font-size=\"10\" x=\"336\" y=\"222\">Chen Zeng</text><text font-size=\"10\" x=\"201\" y=\"23\">Jonathan Bachman</text><text font-size=\"10\" x=\"726\" y=\"238\">Ahmet Okutan</text><text font-size=\"10\" x=\"386\" y=\"249\">Peter-Patel Schneider</text><text font-size=\"10\" x=\"313\" y=\"155\">Shantanu Rane</text><text font-size=\"10\" x=\"174\" y=\"61\">Sujit Chakravorti</text><text font-size=\"10\" x=\"663\" y=\"297\">Mehdi Mirakhorli</text><text font-size=\"10\" x=\"315\" y=\"288\">Ion Matei</text><text font-size=\"10\" x=\"174\" y=\"314\">Jorge Tierno</text><text font-size=\"10\" x=\"718\" y=\"285\">Viktoria Koscinski</text><text font-size=\"10\" x=\"498\" y=\"242\">Ali Shokri</text><text font-size=\"10\" x=\"260\" y=\"373\">Wiktor Piotrowski</text><text font-size=\"10\" x=\"26\" y=\"492\">John Maxwell III</text><text font-size=\"10\" x=\"226\" y=\"348\">Wendy Mungovan</text><text font-size=\"10\" x=\"169\" y=\"346\">Vance Turnewitsch</text><text font-size=\"10\" x=\"268\" y=\"26\">Krishnan Thyagarajan</text><text font-size=\"10\" x=\"413\" y=\"226\">Gerald Kaloor</text><text font-size=\"10\" x=\"670\" y=\"236\">Mohamad Fazelinia</text><text font-size=\"10\" x=\"97\" y=\"523\">Morad Behandish</text><text font-size=\"10\" x=\"289\" y=\"273\">Alexandre Perez</text><text font-size=\"10\" x=\"406\" y=\"195\">Souma Chowdhury</text><text font-size=\"10\" x=\"168\" y=\"399\">Johan de Kleer</text><text font-size=\"10\" x=\"359\" y=\"197\">Akshith Gunasekaran</text></svg>"
      ],
      "text/plain": [
       "<IPython.core.display.SVG object>"
      ]
     },
     "execution_count": 61,
     "metadata": {},
     "output_type": "execute_result"
    }
   ],
   "source": [
    "G_check = community_context_dict[communities[19]]['G']\n",
    "draw_community(G_check)"
   ]
  },
  {
   "cell_type": "code",
   "execution_count": 62,
   "id": "3411cf69",
   "metadata": {},
   "outputs": [
    {
     "data": {
      "text/plain": [
       "['A Novel Approach to Identify Security Controls in Source Code',\n",
       " 'AI Research Associate for Early-Stage Scientific Discovery',\n",
       " 'CONSTRUCT: A Program Synthesis Approach for Reconstructing Control Algorithms from Embedded System Binaries in Cyber-Physical Systems',\n",
       " 'Incentivizing Gigaton-Scale Carbon Dioxide Removal via a Climate-Positive Blockchain',\n",
       " 'Surrogate Modeling for Physical Systems with Preserved Properties and Adjustable Tradeoffs',\n",
       " 'System Resilience through Health Monitoring and Reconfiguration']"
      ]
     },
     "execution_count": 62,
     "metadata": {},
     "output_type": "execute_result"
    }
   ],
   "source": [
    "show_author_papers(df, G_check)"
   ]
  },
  {
   "cell_type": "markdown",
   "id": "73a3146f",
   "metadata": {},
   "source": [
    "# Get Papers of Interest\n",
    "\n",
    "In a separate text file, I add the papers I am interested in reading. I can then copy and paste them here, and do a quick 'split' to convert it into a useful list, which I can use to get URLs from the original DataFrame. "
   ]
  },
  {
   "cell_type": "code",
   "execution_count": 63,
   "id": "ebf963a4",
   "metadata": {},
   "outputs": [],
   "source": [
    "papers = \"\"\"\n",
    "Efficient Top-k Ego-Betweenness Search\n",
    "Fast Algorithms for Intimate-Core Group Search in Weighted Graphs\n",
    "Fine-Grained Emotion Classification of Chinese Microblogs Based on Graph Convolution Networks\n",
    "Mining Bursting Communities in Temporal Graphs\n",
    "A Deep Learning Approach for Multimodal Deception Detection\n",
    "GraphTMT: Unsupervised Graph-based Topic Modeling from Video Transcripts\n",
    "RP-DNN: A Tweet level propagation context based deep neural networks for early rumor detection in Social Media\n",
    "Capturing Topology in Graph Pattern Matching\n",
    "Graph Pattern Matching for Dynamic Team Formation\n",
    "SceneRec: Scene-Based Graph Neural Networks for Recommender Systems\n",
    "A Survey of Neural Trojan Attacks and Defenses in Deep Learning\n",
    "Physical world assistive signals for deep neural network classifiers -- neither defense nor attack\n",
    "PRAT: PRofiling Adversarial aTtacks\n",
    "Four hot DOGs in the microwave\n",
    "Outlyingness: why do outliers lie out?\n",
    "Natural Backdoor Attack on Text Data\n",
    "Entropy and the Predictability of Online Life\n",
    "XENON1T Anomaly and its Implication for Decaying Warm Dark Matter\n",
    "Wandering in Color-Space -- why the life of pentaquark is so long ? --\n",
    "What can we learn from universal Turing machines?\n",
    "Causal Explanation Analysis on Social Media\n",
    "Overcoming Catastrophic Forgetting in Massively Multilingual Continual Learnin\n",
    "The Remarkable Benefit of User-Level Aggregation for Lexical-based Population-Level Predictions\n",
    "G-networks and the optimization of supply chains\n",
    "Lady and the Tramp Nextdoor: Online Manifestations of Economic Inequalities in the Nextdoor Social Network\n",
    "Real-Time Bidding by Reinforcement Learning in Display Advertising\n",
    "Ease-of-Teaching and Language Structure from Emergent Communication\n",
    "The Hanabi Challenge: A New Frontier for AI Research\n",
    "Large Graph Models: A Perspective\n",
    "Does the evolution of complex life depend on the stellar spectral energy distribution?\n",
    "Funding the Search for Extraterrestrial Intelligence with a Lottery Bond\n",
    "Why do we find ourselves around a yellow star instead of a red star?\n",
    "Find the Conversation Killers: a Predictive Study of Thread-ending Posts\n",
    "SCB-dataset: A Dataset for Detecting Student Classroom Behavior\n",
    "SCB-Dataset3: A Benchmark for Detecting Student Classroom Behavior\n",
    "Did life originate from low-temperature areas of the Universe?\n",
    "BEAMERS: Brain-Engaged, Active Music-based Emotion Regulation System\n",
    "Human-Like Intuitive Behavior and Reasoning Biases Emerged in Language Models -- and Disappeared in GPT-4\n",
    "Local Causal Structure Learning and its Discovery Between Type 2 Diabetes and Bone Mineral Density\n",
    "Machine Psychology: Investigating Emergent Capabilities and Behavior in Large Language Models Using Psychological Methods\n",
    "SINGA-Easy: An Easy-to-Use Framework for MultiModal Analysis\n",
    "Secure Artificial Intelligence of Things for Implicit Group Recommendations\n",
    "Thinking Fast and Slow in Large Language Models\n",
    "Cultures in Community Question Answering\n",
    "On the Behaviour of Deviant Communities in Online Social Networks\n",
    "Uncovering Bias in Personal Informatics\n",
    "Computational Metacognition\n",
    "Large Language Models for User Interest Journeys\n",
    "A Survey on Personality-Aware Recommendation Systems\n",
    "MES-P: an Emotional Tonal Speech Dataset in Mandarin Chinese with Distal and Proximal Labels\n",
    "Can Requirements Engineering Support Explainable Artificial Intelligence? Towards a User-Centric Approach for Explainability Requirements\n",
    "AutoHEnsGNN: Winning Solution to AutoGraph Challenge for KDD Cup 2020\n",
    "Malware Detection using Artificial Bee Colony Algorithm\n",
    "Bigbirds Never Die: Understanding Social Dynamics of Emergent Hashtag\n",
    "The Systemic Impact of Deplatforming on Social Media\n",
    "The Twitter of Babel: Mapping World Languages through Microblogging Platforms\n",
    "Mining the Social Media Data for a Bottom-Up Evaluation of Walkability\n",
    "A Large-scale Friend Suggestion Architecture\n",
    "Towards Cognitive Bots: Architectural Research Challenges\n",
    "\"\"\""
   ]
  },
  {
   "cell_type": "code",
   "execution_count": 64,
   "id": "7eae7f8a",
   "metadata": {},
   "outputs": [
    {
     "data": {
      "text/plain": [
       "['Efficient Top-k Ego-Betweenness Search',\n",
       " 'Fast Algorithms for Intimate-Core Group Search in Weighted Graphs',\n",
       " 'Fine-Grained Emotion Classification of Chinese Microblogs Based on Graph Convolution Networks',\n",
       " 'Mining Bursting Communities in Temporal Graphs',\n",
       " 'A Deep Learning Approach for Multimodal Deception Detection']"
      ]
     },
     "execution_count": 64,
     "metadata": {},
     "output_type": "execute_result"
    }
   ],
   "source": [
    "papers_of_interest = [p for p in papers.split('\\n') if len(p)>0]\n",
    "papers_of_interest[0:5] # preview of first five"
   ]
  },
  {
   "cell_type": "code",
   "execution_count": 65,
   "id": "7a23cbeb",
   "metadata": {},
   "outputs": [
    {
     "data": {
      "text/html": [
       "<div>\n",
       "<style scoped>\n",
       "    .dataframe tbody tr th:only-of-type {\n",
       "        vertical-align: middle;\n",
       "    }\n",
       "\n",
       "    .dataframe tbody tr th {\n",
       "        vertical-align: top;\n",
       "    }\n",
       "\n",
       "    .dataframe thead th {\n",
       "        text-align: right;\n",
       "    }\n",
       "</style>\n",
       "<table border=\"1\" class=\"dataframe\">\n",
       "  <thead>\n",
       "    <tr style=\"text-align: right;\">\n",
       "      <th></th>\n",
       "      <th>date_published</th>\n",
       "      <th>title</th>\n",
       "      <th>authors</th>\n",
       "      <th>summary</th>\n",
       "      <th>url</th>\n",
       "      <th>category</th>\n",
       "    </tr>\n",
       "  </thead>\n",
       "  <tbody>\n",
       "    <tr>\n",
       "      <th>0</th>\n",
       "      <td>2004-08-04 13:29:07+00:00</td>\n",
       "      <td>Wandering in Color-Space -- why the life of pe...</td>\n",
       "      <td>['Yuu Maezawa', 'Toshiki Maruyama', 'Naoyuki I...</td>\n",
       "      <td>The problem of the long life time of the penta...</td>\n",
       "      <td>http://arxiv.org/pdf/hep-ph/0408056v4</td>\n",
       "      <td>hep-ph</td>\n",
       "    </tr>\n",
       "    <tr>\n",
       "      <th>1</th>\n",
       "      <td>2011-12-31 05:34:57+00:00</td>\n",
       "      <td>Capturing Topology in Graph Pattern Matching</td>\n",
       "      <td>['Shuai Ma', 'Yang Cao', 'Wenfei Fan', 'Jinpen...</td>\n",
       "      <td>Graph pattern matching is often defined in ter...</td>\n",
       "      <td>http://arxiv.org/pdf/1201.0229v1</td>\n",
       "      <td>cs.DB</td>\n",
       "    </tr>\n",
       "    <tr>\n",
       "      <th>2</th>\n",
       "      <td>2012-12-20 20:43:12+00:00</td>\n",
       "      <td>The Twitter of Babel: Mapping World Languages ...</td>\n",
       "      <td>['Delia Mocanu', 'Andrea Baronchelli', 'Bruno ...</td>\n",
       "      <td>Large scale analysis and statistics of socio-t...</td>\n",
       "      <td>http://arxiv.org/pdf/1212.5238v1</td>\n",
       "      <td>physics.soc-ph</td>\n",
       "    </tr>\n",
       "    <tr>\n",
       "      <th>3</th>\n",
       "      <td>2013-11-11 15:40:35+00:00</td>\n",
       "      <td>Funding the Search for Extraterrestrial Intell...</td>\n",
       "      <td>['Jacob Haqq-Misra']</td>\n",
       "      <td>I propose the establishment of a SETI Lottery ...</td>\n",
       "      <td>http://arxiv.org/pdf/1311.2467v2</td>\n",
       "      <td>physics.pop-ph</td>\n",
       "    </tr>\n",
       "    <tr>\n",
       "      <th>4</th>\n",
       "      <td>2013-12-01 01:34:09+00:00</td>\n",
       "      <td>Entropy and the Predictability of Online Life</td>\n",
       "      <td>['Roberta Sinatra', 'Michael Szell']</td>\n",
       "      <td>Using mobile phone records and information the...</td>\n",
       "      <td>http://arxiv.org/pdf/1312.0169v2</td>\n",
       "      <td>physics.soc-ph</td>\n",
       "    </tr>\n",
       "  </tbody>\n",
       "</table>\n",
       "</div>"
      ],
      "text/plain": [
       "              date_published  \\\n",
       "0  2004-08-04 13:29:07+00:00   \n",
       "1  2011-12-31 05:34:57+00:00   \n",
       "2  2012-12-20 20:43:12+00:00   \n",
       "3  2013-11-11 15:40:35+00:00   \n",
       "4  2013-12-01 01:34:09+00:00   \n",
       "\n",
       "                                               title  \\\n",
       "0  Wandering in Color-Space -- why the life of pe...   \n",
       "1       Capturing Topology in Graph Pattern Matching   \n",
       "2  The Twitter of Babel: Mapping World Languages ...   \n",
       "3  Funding the Search for Extraterrestrial Intell...   \n",
       "4      Entropy and the Predictability of Online Life   \n",
       "\n",
       "                                             authors  \\\n",
       "0  ['Yuu Maezawa', 'Toshiki Maruyama', 'Naoyuki I...   \n",
       "1  ['Shuai Ma', 'Yang Cao', 'Wenfei Fan', 'Jinpen...   \n",
       "2  ['Delia Mocanu', 'Andrea Baronchelli', 'Bruno ...   \n",
       "3                               ['Jacob Haqq-Misra']   \n",
       "4               ['Roberta Sinatra', 'Michael Szell']   \n",
       "\n",
       "                                             summary  \\\n",
       "0  The problem of the long life time of the penta...   \n",
       "1  Graph pattern matching is often defined in ter...   \n",
       "2  Large scale analysis and statistics of socio-t...   \n",
       "3  I propose the establishment of a SETI Lottery ...   \n",
       "4  Using mobile phone records and information the...   \n",
       "\n",
       "                                     url        category  \n",
       "0  http://arxiv.org/pdf/hep-ph/0408056v4          hep-ph  \n",
       "1       http://arxiv.org/pdf/1201.0229v1           cs.DB  \n",
       "2       http://arxiv.org/pdf/1212.5238v1  physics.soc-ph  \n",
       "3       http://arxiv.org/pdf/1311.2467v2  physics.pop-ph  \n",
       "4       http://arxiv.org/pdf/1312.0169v2  physics.soc-ph  "
      ]
     },
     "execution_count": 65,
     "metadata": {},
     "output_type": "execute_result"
    }
   ],
   "source": [
    "# get the papers; reload data to get original format\n",
    "\n",
    "data = r'C:\\Users\\groov\\PythonCode\\100daysofnetworks\\data\\arxiv_artificial_life.csv'\n",
    "\n",
    "df = pd.read_csv(data)\n",
    "\n",
    "df = df[df['title'].isin(papers_of_interest)]\n",
    "df.sort_values('date_published', inplace=True)\n",
    "df.reset_index(drop=True, inplace=True)\n",
    "\n",
    "df.head()"
   ]
  },
  {
   "cell_type": "code",
   "execution_count": 66,
   "id": "1a03cb48",
   "metadata": {},
   "outputs": [
    {
     "data": {
      "text/plain": [
       "array(['cs.CL', 'cs.SI', 'cs.LG', 'cs.CV', 'cs.AI', 'cs.DB', 'hep-ph',\n",
       "       'cs.CR', 'physics.soc-ph', 'physics.pop-ph', 'cs.CY',\n",
       "       'astro-ph.EP', 'cs.IR', 'cs.SE', 'cs.FL', 'cs.SD', 'q-bio.QM',\n",
       "       'math.OC', 'stat.ME', 'astro-ph.GA', 'cs.HC'], dtype=object)"
      ]
     },
     "execution_count": 66,
     "metadata": {},
     "output_type": "execute_result"
    }
   ],
   "source": [
    "categories_by_size = df['category'].value_counts().index.values\n",
    "categories_by_size"
   ]
  },
  {
   "cell_type": "code",
   "execution_count": 67,
   "id": "389ab02e",
   "metadata": {},
   "outputs": [
    {
     "name": "stdout",
     "output_type": "stream",
     "text": [
      "Category: cs.CL\n",
      "\n",
      "Title: Find the Conversation Killers: a Predictive Study of Thread-ending Posts\n",
      "Date Published: 2017-12-22 19:58:01+00:00\n",
      "URL: http://arxiv.org/pdf/1712.08636v1\n",
      "\n",
      "Title: A Deep Learning Approach for Multimodal Deception Detection\n",
      "Date Published: 2018-03-01 12:38:13+00:00\n",
      "URL: http://arxiv.org/pdf/1803.00344v1\n",
      "\n",
      "Title: Causal Explanation Analysis on Social Media\n",
      "Date Published: 2018-09-04 19:06:34+00:00\n",
      "URL: http://arxiv.org/pdf/1809.01202v2\n",
      "\n",
      "Title: Fine-Grained Emotion Classification of Chinese Microblogs Based on Graph Convolution Networks\n",
      "Date Published: 2019-12-05 12:56:28+00:00\n",
      "URL: http://arxiv.org/pdf/1912.02545v1\n",
      "\n",
      "Title: Natural Backdoor Attack on Text Data\n",
      "Date Published: 2020-06-29 16:40:14+00:00\n",
      "URL: http://arxiv.org/pdf/2006.16176v4\n",
      "\n",
      "Title: GraphTMT: Unsupervised Graph-based Topic Modeling from Video Transcripts\n",
      "Date Published: 2021-05-04 12:48:17+00:00\n",
      "URL: http://arxiv.org/pdf/2105.01466v4\n",
      "\n",
      "Title: Thinking Fast and Slow in Large Language Models\n",
      "Date Published: 2022-12-10 05:07:30+00:00\n",
      "URL: http://arxiv.org/pdf/2212.05206v2\n",
      "\n",
      "Title: Machine Psychology: Investigating Emergent Capabilities and Behavior in Large Language Models Using Psychological Methods\n",
      "Date Published: 2023-03-24 13:24:41+00:00\n",
      "URL: http://arxiv.org/pdf/2303.13988v4\n",
      "\n",
      "Title: Large Language Models for User Interest Journeys\n",
      "Date Published: 2023-05-24 18:40:43+00:00\n",
      "URL: http://arxiv.org/pdf/2305.15498v1\n",
      "\n",
      "Title: Human-Like Intuitive Behavior and Reasoning Biases Emerged in Language Models -- and Disappeared in GPT-4\n",
      "Date Published: 2023-06-13 08:43:13+00:00\n",
      "URL: http://arxiv.org/pdf/2306.07622v2\n",
      "\n",
      "Category: cs.SI\n",
      "\n",
      "Title: Cultures in Community Question Answering\n",
      "Date Published: 2015-08-20 16:55:42+00:00\n",
      "URL: http://arxiv.org/pdf/1508.05044v1\n",
      "\n",
      "Title: On the Behaviour of Deviant Communities in Online Social Networks\n",
      "Date Published: 2016-10-26 15:13:35+00:00\n",
      "URL: http://arxiv.org/pdf/1610.08372v1\n",
      "\n",
      "Title: The Remarkable Benefit of User-Level Aggregation for Lexical-based Population-Level Predictions\n",
      "Date Published: 2018-08-29 01:33:21+00:00\n",
      "URL: http://arxiv.org/pdf/1808.09600v1\n",
      "\n",
      "Title: Fast Algorithms for Intimate-Core Group Search in Weighted Graphs\n",
      "Date Published: 2019-08-30 15:28:54+00:00\n",
      "URL: http://arxiv.org/pdf/1908.11788v1\n",
      "\n",
      "Title: Mining Bursting Communities in Temporal Graphs\n",
      "Date Published: 2019-11-07 07:25:13+00:00\n",
      "URL: http://arxiv.org/pdf/1911.02780v1\n",
      "\n",
      "Title: RP-DNN: A Tweet level propagation context based deep neural networks for early rumor detection in Social Media\n",
      "Date Published: 2020-02-28 12:44:34+00:00\n",
      "URL: http://arxiv.org/pdf/2002.12683v2\n",
      "\n",
      "Title: A Large-scale Friend Suggestion Architecture\n",
      "Date Published: 2022-12-24 16:42:11+00:00\n",
      "URL: http://arxiv.org/pdf/2212.12773v1\n",
      "\n",
      "Title: The Systemic Impact of Deplatforming on Social Media\n",
      "Date Published: 2023-03-20 14:30:52+00:00\n",
      "URL: http://arxiv.org/pdf/2303.11147v1\n",
      "\n",
      "Title: Lady and the Tramp Nextdoor: Online Manifestations of Economic Inequalities in the Nextdoor Social Network\n",
      "Date Published: 2023-04-11 14:05:05+00:00\n",
      "URL: http://arxiv.org/pdf/2304.05232v2\n",
      "\n",
      "Category: cs.LG\n",
      "\n",
      "Title: Real-Time Bidding by Reinforcement Learning in Display Advertising\n",
      "Date Published: 2017-01-10 09:30:29+00:00\n",
      "URL: http://arxiv.org/pdf/1701.02490v2\n",
      "\n",
      "Title: The Hanabi Challenge: A New Frontier for AI Research\n",
      "Date Published: 2019-02-01 18:59:07+00:00\n",
      "URL: http://arxiv.org/pdf/1902.00506v2\n",
      "\n",
      "Title: SINGA-Easy: An Easy-to-Use Framework for MultiModal Analysis\n",
      "Date Published: 2021-08-03 08:39:54+00:00\n",
      "URL: http://arxiv.org/pdf/2108.02572v1\n",
      "\n",
      "Title: AutoHEnsGNN: Winning Solution to AutoGraph Challenge for KDD Cup 2020\n",
      "Date Published: 2021-11-25 07:23:44+00:00\n",
      "URL: http://arxiv.org/pdf/2111.12952v1\n",
      "\n",
      "Title: Large Graph Models: A Perspective\n",
      "Date Published: 2023-08-28 12:17:51+00:00\n",
      "URL: http://arxiv.org/pdf/2308.14522v1\n",
      "\n",
      "Category: cs.CV\n",
      "\n",
      "Title: Physical world assistive signals for deep neural network classifiers -- neither defense nor attack\n",
      "Date Published: 2021-05-03 04:02:48+00:00\n",
      "URL: http://arxiv.org/pdf/2105.00622v1\n",
      "\n",
      "Title: SCB-dataset: A Dataset for Detecting Student Classroom Behavior\n",
      "Date Published: 2023-04-05 15:02:30+00:00\n",
      "URL: http://arxiv.org/pdf/2304.02488v1\n",
      "\n",
      "Title: PRAT: PRofiling Adversarial aTtacks\n",
      "Date Published: 2023-09-20 07:42:51+00:00\n",
      "URL: http://arxiv.org/pdf/2309.11111v1\n",
      "\n",
      "Title: SCB-Dataset3: A Benchmark for Detecting Student Classroom Behavior\n",
      "Date Published: 2023-10-04 01:43:46+00:00\n",
      "URL: http://arxiv.org/pdf/2310.02522v1\n",
      "\n",
      "Category: cs.AI\n",
      "\n",
      "Title: Ease-of-Teaching and Language Structure from Emergent Communication\n",
      "Date Published: 2019-06-06 03:59:37+00:00\n",
      "URL: http://arxiv.org/pdf/1906.02403v2\n",
      "\n",
      "Title: Secure Artificial Intelligence of Things for Implicit Group Recommendations\n",
      "Date Published: 2021-04-23 16:38:26+00:00\n",
      "URL: http://arxiv.org/pdf/2104.11699v1\n",
      "\n",
      "Title: Computational Metacognition\n",
      "Date Published: 2022-01-30 17:34:53+00:00\n",
      "URL: http://arxiv.org/pdf/2201.12885v1\n",
      "\n",
      "Title: Towards Cognitive Bots: Architectural Research Challenges\n",
      "Date Published: 2023-05-26 23:51:49+00:00\n",
      "URL: http://arxiv.org/pdf/2305.17308v1\n",
      "\n",
      "Category: cs.DB\n",
      "\n",
      "Title: Capturing Topology in Graph Pattern Matching\n",
      "Date Published: 2011-12-31 05:34:57+00:00\n",
      "URL: http://arxiv.org/pdf/1201.0229v1\n",
      "\n",
      "Title: Graph Pattern Matching for Dynamic Team Formation\n",
      "Date Published: 2018-01-03 14:24:08+00:00\n",
      "URL: http://arxiv.org/pdf/1801.01012v1\n",
      "\n",
      "Title: Efficient Top-k Ego-Betweenness Search\n",
      "Date Published: 2021-07-21 12:46:52+00:00\n",
      "URL: http://arxiv.org/pdf/2107.10052v1\n",
      "\n",
      "Category: hep-ph\n",
      "\n",
      "Title: Wandering in Color-Space -- why the life of pentaquark is so long ? --\n",
      "Date Published: 2004-08-04 13:29:07+00:00\n",
      "URL: http://arxiv.org/pdf/hep-ph/0408056v4\n",
      "\n",
      "Title: XENON1T Anomaly and its Implication for Decaying Warm Dark Matter\n",
      "Date Published: 2020-06-22 15:46:01+00:00\n",
      "URL: http://arxiv.org/pdf/2006.12348v1\n",
      "\n",
      "Category: cs.CR\n",
      "\n",
      "Title: Malware Detection using Artificial Bee Colony Algorithm\n",
      "Date Published: 2020-12-01 21:32:09+00:00\n",
      "URL: http://arxiv.org/pdf/2012.00845v1\n",
      "\n",
      "Title: A Survey of Neural Trojan Attacks and Defenses in Deep Learning\n",
      "Date Published: 2022-02-15 04:26:44+00:00\n",
      "URL: http://arxiv.org/pdf/2202.07183v1\n",
      "\n",
      "Category: physics.soc-ph\n",
      "\n",
      "Title: The Twitter of Babel: Mapping World Languages through Microblogging Platforms\n",
      "Date Published: 2012-12-20 20:43:12+00:00\n",
      "URL: http://arxiv.org/pdf/1212.5238v1\n",
      "\n",
      "Title: Entropy and the Predictability of Online Life\n",
      "Date Published: 2013-12-01 01:34:09+00:00\n",
      "URL: http://arxiv.org/pdf/1312.0169v2\n",
      "\n",
      "Category: physics.pop-ph\n",
      "\n",
      "Title: Funding the Search for Extraterrestrial Intelligence with a Lottery Bond\n",
      "Date Published: 2013-11-11 15:40:35+00:00\n",
      "URL: http://arxiv.org/pdf/1311.2467v2\n",
      "\n",
      "Title: Why do we find ourselves around a yellow star instead of a red star?\n",
      "Date Published: 2017-05-22 15:48:36+00:00\n",
      "URL: http://arxiv.org/pdf/1705.07813v1\n",
      "\n",
      "Category: cs.CY\n",
      "\n",
      "Title: Mining the Social Media Data for a Bottom-Up Evaluation of Walkability\n",
      "Date Published: 2017-12-12 14:31:13+00:00\n",
      "URL: http://arxiv.org/pdf/1712.04309v1\n",
      "\n",
      "Title: Uncovering Bias in Personal Informatics\n",
      "Date Published: 2023-03-27 20:49:42+00:00\n",
      "URL: http://arxiv.org/pdf/2303.15592v2\n",
      "\n",
      "Category: astro-ph.EP\n",
      "\n",
      "Title: Does the evolution of complex life depend on the stellar spectral energy distribution?\n",
      "Date Published: 2019-05-17 15:58:07+00:00\n",
      "URL: http://arxiv.org/pdf/1905.07343v1\n",
      "\n",
      "Title: Did life originate from low-temperature areas of the Universe?\n",
      "Date Published: 2020-10-21 11:26:17+00:00\n",
      "URL: http://arxiv.org/pdf/2010.10905v2\n",
      "\n",
      "Category: cs.IR\n",
      "\n",
      "Title: A Survey on Personality-Aware Recommendation Systems\n",
      "Date Published: 2021-01-28 18:03:23+00:00\n",
      "URL: http://arxiv.org/pdf/2101.12153v2\n",
      "\n",
      "Title: SceneRec: Scene-Based Graph Neural Networks for Recommender Systems\n",
      "Date Published: 2021-02-12 09:06:12+00:00\n",
      "URL: http://arxiv.org/pdf/2102.06401v1\n",
      "\n",
      "Category: cs.SE\n",
      "\n",
      "Title: Can Requirements Engineering Support Explainable Artificial Intelligence? Towards a User-Centric Approach for Explainability Requirements\n",
      "Date Published: 2022-06-03 11:17:41+00:00\n",
      "URL: http://arxiv.org/pdf/2206.01507v1\n",
      "\n",
      "Category: cs.FL\n",
      "\n",
      "Title: What can we learn from universal Turing machines?\n",
      "Date Published: 2021-10-16 08:43:29+00:00\n",
      "URL: http://arxiv.org/pdf/2110.08511v1\n",
      "\n",
      "Category: cs.SD\n",
      "\n",
      "Title: MES-P: an Emotional Tonal Speech Dataset in Mandarin Chinese with Distal and Proximal Labels\n",
      "Date Published: 2018-08-30 03:02:46+00:00\n",
      "URL: http://arxiv.org/pdf/1808.10095v2\n",
      "\n",
      "Category: q-bio.QM\n",
      "\n",
      "Title: Local Causal Structure Learning and its Discovery Between Type 2 Diabetes and Bone Mineral Density\n",
      "Date Published: 2020-06-27 08:27:00+00:00\n",
      "URL: http://arxiv.org/pdf/2006.16791v1\n",
      "\n",
      "Category: math.OC\n",
      "\n",
      "Title: G-networks and the optimization of supply chains\n",
      "Date Published: 2019-03-17 22:57:22+00:00\n",
      "URL: http://arxiv.org/pdf/1903.10691v1\n",
      "\n",
      "Category: stat.ME\n",
      "\n",
      "Title: Outlyingness: why do outliers lie out?\n",
      "Date Published: 2017-08-12 10:48:58+00:00\n",
      "URL: http://arxiv.org/pdf/1708.03761v1\n",
      "\n",
      "Category: astro-ph.GA\n",
      "\n",
      "Title: Four hot DOGs in the microwave\n",
      "Date Published: 2015-10-14 16:02:10+00:00\n",
      "URL: http://arxiv.org/pdf/1510.04179v1\n",
      "\n",
      "Category: cs.HC\n",
      "\n",
      "Title: BEAMERS: Brain-Engaged, Active Music-based Emotion Regulation System\n",
      "Date Published: 2022-11-26 16:37:13+00:00\n",
      "URL: http://arxiv.org/pdf/2211.14609v1\n",
      "\n"
     ]
    }
   ],
   "source": [
    "for category in categories_by_size:\n",
    "    \n",
    "    print('Category: {}'.format(category))\n",
    "    print()\n",
    "\n",
    "    category_df = df[df['category']==category][['title', 'url', 'date_published']].copy()\n",
    "    \n",
    "    for row in category_df.iterrows():\n",
    "        \n",
    "        data = row[1]\n",
    "        title = data['title']\n",
    "        url = data['url']\n",
    "        date_published = data['date_published']\n",
    "        \n",
    "        print('Title: {}\\nDate Published: {}\\nURL: {}'.format(title, date_published, url))\n",
    "        print()\n",
    "    "
   ]
  },
  {
   "cell_type": "markdown",
   "id": "22b86262",
   "metadata": {},
   "source": [
    "This last box proved very useful in seeing papers by category and date, to quickly skip papers that looked a bit too old. Use this to skim your papers of interest.  \n",
    "\n",
    "I also noticed that arXiv returns the same paper duplicated by category, so that is something to deduplicated on another day."
   ]
  },
  {
   "cell_type": "code",
   "execution_count": null,
   "id": "2bb364aa",
   "metadata": {},
   "outputs": [],
   "source": []
  }
 ],
 "metadata": {
  "kernelspec": {
   "display_name": "Python 3",
   "language": "python",
   "name": "python3"
  },
  "language_info": {
   "codemirror_mode": {
    "name": "ipython",
    "version": 3
   },
   "file_extension": ".py",
   "mimetype": "text/x-python",
   "name": "python",
   "nbconvert_exporter": "python",
   "pygments_lexer": "ipython3",
   "version": "3.7.16"
  }
 },
 "nbformat": 4,
 "nbformat_minor": 5
}
