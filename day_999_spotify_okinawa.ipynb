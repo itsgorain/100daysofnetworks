{
 "cells": [
  {
   "cell_type": "code",
   "execution_count": 1,
   "id": "7d18c815",
   "metadata": {},
   "outputs": [],
   "source": [
    "import networkx as nx\n",
    "import numpy as np\n",
    "import pandas as pd\n",
    "\n",
    "from IPython.display import SVG \n",
    "from sknetwork.visualization import svg_graph \n",
    "from sknetwork.data import Bunch \n",
    "from sknetwork.ranking import PageRank "
   ]
  },
  {
   "cell_type": "code",
   "execution_count": 2,
   "id": "0e8c36c4",
   "metadata": {},
   "outputs": [],
   "source": [
    "def draw_graph(G, show_names=False, node_size=1, font_size=10, edge_width=0.5): \n",
    "\n",
    "    adjacency = nx.to_scipy_sparse_matrix(G, nodelist=None, dtype=None, weight='weight', format='csr') \n",
    "\n",
    "    names = np.array(list(G.nodes())) \n",
    "\n",
    "    graph = Bunch() \n",
    "    graph.adjacency = adjacency \n",
    "    graph.names = np.array(names) \n",
    "\n",
    "    pagerank = PageRank() \n",
    "\n",
    "    scores = pagerank.fit_transform(adjacency) \n",
    "\n",
    "    if show_names: \n",
    "        \n",
    "        image = svg_graph(graph.adjacency, font_size=font_size, node_size=node_size, names=graph.names, width=700, height=500, scores=scores, edge_width=edge_width) \n",
    "\n",
    "    else: \n",
    "\n",
    "        image = svg_graph(graph.adjacency, node_size=node_size, width=700, height=500, scores = scores, edge_width=edge_width) \n",
    "\n",
    "    return SVG(image) "
   ]
  },
  {
   "cell_type": "code",
   "execution_count": 3,
   "id": "5e7e69f4",
   "metadata": {},
   "outputs": [
    {
     "data": {
      "text/html": [
       "<div>\n",
       "<style scoped>\n",
       "    .dataframe tbody tr th:only-of-type {\n",
       "        vertical-align: middle;\n",
       "    }\n",
       "\n",
       "    .dataframe tbody tr th {\n",
       "        vertical-align: top;\n",
       "    }\n",
       "\n",
       "    .dataframe thead th {\n",
       "        text-align: right;\n",
       "    }\n",
       "</style>\n",
       "<table border=\"1\" class=\"dataframe\">\n",
       "  <thead>\n",
       "    <tr style=\"text-align: right;\">\n",
       "      <th></th>\n",
       "      <th>source</th>\n",
       "      <th>target</th>\n",
       "    </tr>\n",
       "  </thead>\n",
       "  <tbody>\n",
       "    <tr>\n",
       "      <th>0</th>\n",
       "      <td>Namie Amuro</td>\n",
       "      <td>Jolin Tsai</td>\n",
       "    </tr>\n",
       "    <tr>\n",
       "      <th>1</th>\n",
       "      <td>Orange Range</td>\n",
       "      <td>Rockit Music</td>\n",
       "    </tr>\n",
       "    <tr>\n",
       "      <th>2</th>\n",
       "      <td>Orange Range</td>\n",
       "      <td>ORANGE RANGE</td>\n",
       "    </tr>\n",
       "    <tr>\n",
       "      <th>3</th>\n",
       "      <td>Orange Range</td>\n",
       "      <td>Benny Dayal</td>\n",
       "    </tr>\n",
       "    <tr>\n",
       "      <th>4</th>\n",
       "      <td>Southern Allstars</td>\n",
       "      <td>Louis Armstrong</td>\n",
       "    </tr>\n",
       "  </tbody>\n",
       "</table>\n",
       "</div>"
      ],
      "text/plain": [
       "              source           target\n",
       "0        Namie Amuro       Jolin Tsai\n",
       "1       Orange Range     Rockit Music\n",
       "2       Orange Range     ORANGE RANGE\n",
       "3       Orange Range      Benny Dayal\n",
       "4  Southern Allstars  Louis Armstrong"
      ]
     },
     "execution_count": 3,
     "metadata": {},
     "output_type": "execute_result"
    }
   ],
   "source": [
    "data = r'data/spotify_okinawa_edgelist.csv'\n",
    "\n",
    "df = pd.read_csv(data)\n",
    "df.head()"
   ]
  },
  {
   "cell_type": "code",
   "execution_count": 4,
   "id": "5296a3e1",
   "metadata": {},
   "outputs": [],
   "source": [
    "G = nx.from_pandas_edgelist(df)\n",
    "\n",
    "# drop the seed nodes; we will have proper names from pages found\n",
    "seed_nodes = ['network science', 'social network analysis', 'graph theory', 'causal inference']\n",
    "G.remove_nodes_from(seed_nodes)"
   ]
  },
  {
   "cell_type": "code",
   "execution_count": 5,
   "id": "e7936819",
   "metadata": {},
   "outputs": [
    {
     "name": "stdout",
     "output_type": "stream",
     "text": [
      "Graph with 226 nodes and 234 edges\n"
     ]
    }
   ],
   "source": [
    "print(nx.info(G))"
   ]
  },
  {
   "cell_type": "code",
   "execution_count": 6,
   "id": "c3b2b9ba",
   "metadata": {},
   "outputs": [
    {
     "data": {
      "image/svg+xml": [
       "<svg height=\"540\" width=\"980.0\" xmlns=\"http://www.w3.org/2000/svg\"><path d=\"M 371 325 366 284\" stroke=\"gray\" stroke-width=\"0.3\"/><path d=\"M 366 284 371 325\" stroke=\"gray\" stroke-width=\"0.3\"/><path d=\"M 232 332 234 301\" stroke=\"gray\" stroke-width=\"0.3\"/><path d=\"M 232 332 263 336\" stroke=\"gray\" stroke-width=\"0.3\"/><path d=\"M 232 332 177 342\" stroke=\"gray\" stroke-width=\"0.3\"/><path d=\"M 234 301 232 332\" stroke=\"gray\" stroke-width=\"0.3\"/><path d=\"M 234 301 263 336\" stroke=\"gray\" stroke-width=\"0.3\"/><path d=\"M 234 301 245 350\" stroke=\"gray\" stroke-width=\"0.3\"/><path d=\"M 234 301 203 233\" stroke=\"gray\" stroke-width=\"0.3\"/><path d=\"M 263 336 232 332\" stroke=\"gray\" stroke-width=\"0.3\"/><path d=\"M 263 336 234 301\" stroke=\"gray\" stroke-width=\"0.3\"/><path d=\"M 177 342 232 332\" stroke=\"gray\" stroke-width=\"0.3\"/><path d=\"M 177 342 204 439\" stroke=\"gray\" stroke-width=\"0.3\"/><path d=\"M 177 342 145 288\" stroke=\"gray\" stroke-width=\"0.3\"/><path d=\"M 177 342 184 362\" stroke=\"gray\" stroke-width=\"0.3\"/><path d=\"M 177 342 90 298\" stroke=\"gray\" stroke-width=\"0.3\"/><path d=\"M 177 342 226 291\" stroke=\"gray\" stroke-width=\"0.3\"/><path d=\"M 365 344 392 416\" stroke=\"gray\" stroke-width=\"0.3\"/><path d=\"M 365 344 465 373\" stroke=\"gray\" stroke-width=\"0.3\"/><path d=\"M 365 344 317 289\" stroke=\"gray\" stroke-width=\"0.3\"/><path d=\"M 365 344 430 301\" stroke=\"gray\" stroke-width=\"0.3\"/><path d=\"M 365 344 362 430\" stroke=\"gray\" stroke-width=\"0.3\"/><path d=\"M 365 344 278 246\" stroke=\"gray\" stroke-width=\"0.3\"/><path d=\"M 365 344 354 331\" stroke=\"gray\" stroke-width=\"0.3\"/><path d=\"M 392 416 365 344\" stroke=\"gray\" stroke-width=\"0.3\"/><path d=\"M 465 373 365 344\" stroke=\"gray\" stroke-width=\"0.3\"/><path d=\"M 465 373 534 368\" stroke=\"gray\" stroke-width=\"0.3\"/><path d=\"M 465 373 504 359\" stroke=\"gray\" stroke-width=\"0.3\"/><path d=\"M 465 373 494 336\" stroke=\"gray\" stroke-width=\"0.3\"/><path d=\"M 465 373 473 437\" stroke=\"gray\" stroke-width=\"0.3\"/><path d=\"M 465 373 491 350\" stroke=\"gray\" stroke-width=\"0.3\"/><path d=\"M 317 289 365 344\" stroke=\"gray\" stroke-width=\"0.3\"/><path d=\"M 317 289 278 246\" stroke=\"gray\" stroke-width=\"0.3\"/><path d=\"M 430 301 365 344\" stroke=\"gray\" stroke-width=\"0.3\"/><path d=\"M 430 301 521 270\" stroke=\"gray\" stroke-width=\"0.3\"/><path d=\"M 430 301 523 295\" stroke=\"gray\" stroke-width=\"0.3\"/><path d=\"M 430 301 443 250\" stroke=\"gray\" stroke-width=\"0.3\"/><path d=\"M 430 301 328 365\" stroke=\"gray\" stroke-width=\"0.3\"/><path d=\"M 430 301 452 252\" stroke=\"gray\" stroke-width=\"0.3\"/><path d=\"M 362 430 365 344\" stroke=\"gray\" stroke-width=\"0.3\"/><path d=\"M 278 246 365 344\" stroke=\"gray\" stroke-width=\"0.3\"/><path d=\"M 278 246 317 289\" stroke=\"gray\" stroke-width=\"0.3\"/><path d=\"M 278 246 273 155\" stroke=\"gray\" stroke-width=\"0.3\"/><path d=\"M 278 246 250 323\" stroke=\"gray\" stroke-width=\"0.3\"/><path d=\"M 278 246 217 193\" stroke=\"gray\" stroke-width=\"0.3\"/><path d=\"M 278 246 229 180\" stroke=\"gray\" stroke-width=\"0.3\"/><path d=\"M 354 331 365 344\" stroke=\"gray\" stroke-width=\"0.3\"/><path d=\"M 354 331 352 357\" stroke=\"gray\" stroke-width=\"0.3\"/><path d=\"M 310 267 263 342\" stroke=\"gray\" stroke-width=\"0.3\"/><path d=\"M 310 267 173 278\" stroke=\"gray\" stroke-width=\"0.3\"/><path d=\"M 310 267 473 256\" stroke=\"gray\" stroke-width=\"0.3\"/><path d=\"M 310 267 252 217\" stroke=\"gray\" stroke-width=\"0.3\"/><path d=\"M 310 267 375 227\" stroke=\"gray\" stroke-width=\"0.3\"/><path d=\"M 263 342 310 267\" stroke=\"gray\" stroke-width=\"0.3\"/><path d=\"M 263 342 323 295\" stroke=\"gray\" stroke-width=\"0.3\"/><path d=\"M 263 342 305 418\" stroke=\"gray\" stroke-width=\"0.3\"/><path d=\"M 263 342 219 369\" stroke=\"gray\" stroke-width=\"0.3\"/><path d=\"M 263 342 213 381\" stroke=\"gray\" stroke-width=\"0.3\"/><path d=\"M 263 342 185 317\" stroke=\"gray\" stroke-width=\"0.3\"/><path d=\"M 263 342 164 349\" stroke=\"gray\" stroke-width=\"0.3\"/><path d=\"M 263 342 353 321\" stroke=\"gray\" stroke-width=\"0.3\"/><path d=\"M 173 278 310 267\" stroke=\"gray\" stroke-width=\"0.3\"/><path d=\"M 173 278 71 296\" stroke=\"gray\" stroke-width=\"0.3\"/><path d=\"M 473 256 310 267\" stroke=\"gray\" stroke-width=\"0.3\"/><path d=\"M 473 256 492 158\" stroke=\"gray\" stroke-width=\"0.3\"/><path d=\"M 473 256 425 184\" stroke=\"gray\" stroke-width=\"0.3\"/><path d=\"M 473 256 522 326\" stroke=\"gray\" stroke-width=\"0.3\"/><path d=\"M 473 256 612 317\" stroke=\"gray\" stroke-width=\"0.3\"/><path d=\"M 252 217 310 267\" stroke=\"gray\" stroke-width=\"0.3\"/><path d=\"M 252 217 228 280\" stroke=\"gray\" stroke-width=\"0.3\"/><path d=\"M 252 217 117 249\" stroke=\"gray\" stroke-width=\"0.3\"/><path d=\"M 252 217 294 233\" stroke=\"gray\" stroke-width=\"0.3\"/><path d=\"M 252 217 391 207\" stroke=\"gray\" stroke-width=\"0.3\"/><path d=\"M 252 217 213 105\" stroke=\"gray\" stroke-width=\"0.3\"/><path d=\"M 252 217 281 273\" stroke=\"gray\" stroke-width=\"0.3\"/><path d=\"M 375 227 310 267\" stroke=\"gray\" stroke-width=\"0.3\"/><path d=\"M 375 227 439 278\" stroke=\"gray\" stroke-width=\"0.3\"/><path d=\"M 375 227 266 235\" stroke=\"gray\" stroke-width=\"0.3\"/><path d=\"M 375 227 252 206\" stroke=\"gray\" stroke-width=\"0.3\"/><path d=\"M 375 227 578 214\" stroke=\"gray\" stroke-width=\"0.3\"/><path d=\"M 375 227 493 178\" stroke=\"gray\" stroke-width=\"0.3\"/><path d=\"M 375 227 207 246\" stroke=\"gray\" stroke-width=\"0.3\"/><path d=\"M 550 360 509 433\" stroke=\"gray\" stroke-width=\"0.3\"/><path d=\"M 550 360 583 404\" stroke=\"gray\" stroke-width=\"0.3\"/><path d=\"M 550 360 542 301\" stroke=\"gray\" stroke-width=\"0.3\"/><path d=\"M 550 360 572 243\" stroke=\"gray\" stroke-width=\"0.3\"/><path d=\"M 550 360 523 433\" stroke=\"gray\" stroke-width=\"0.3\"/><path d=\"M 550 360 588 355\" stroke=\"gray\" stroke-width=\"0.3\"/><path d=\"M 509 433 550 360\" stroke=\"gray\" stroke-width=\"0.3\"/><path d=\"M 583 404 550 360\" stroke=\"gray\" stroke-width=\"0.3\"/><path d=\"M 542 301 550 360\" stroke=\"gray\" stroke-width=\"0.3\"/><path d=\"M 542 301 605 240\" stroke=\"gray\" stroke-width=\"0.3\"/><path d=\"M 542 301 445 358\" stroke=\"gray\" stroke-width=\"0.3\"/><path d=\"M 542 301 581 231\" stroke=\"gray\" stroke-width=\"0.3\"/><path d=\"M 572 243 550 360\" stroke=\"gray\" stroke-width=\"0.3\"/><path d=\"M 572 243 515 117\" stroke=\"gray\" stroke-width=\"0.3\"/><path d=\"M 572 243 564 197\" stroke=\"gray\" stroke-width=\"0.3\"/><path d=\"M 572 243 520 206\" stroke=\"gray\" stroke-width=\"0.3\"/><path d=\"M 572 243 644 174\" stroke=\"gray\" stroke-width=\"0.3\"/><path d=\"M 572 243 509 283\" stroke=\"gray\" stroke-width=\"0.3\"/><path d=\"M 572 243 601 170\" stroke=\"gray\" stroke-width=\"0.3\"/><path d=\"M 572 243 672 340\" stroke=\"gray\" stroke-width=\"0.3\"/><path d=\"M 572 243 513 299\" stroke=\"gray\" stroke-width=\"0.3\"/><path d=\"M 523 433 550 360\" stroke=\"gray\" stroke-width=\"0.3\"/><path d=\"M 588 355 550 360\" stroke=\"gray\" stroke-width=\"0.3\"/><path d=\"M 352 357 354 331\" stroke=\"gray\" stroke-width=\"0.3\"/><path d=\"M 204 439 177 342\" stroke=\"gray\" stroke-width=\"0.3\"/><path d=\"M 204 439 216 413\" stroke=\"gray\" stroke-width=\"0.3\"/><path d=\"M 204 439 195 424\" stroke=\"gray\" stroke-width=\"0.3\"/><path d=\"M 204 439 224 520\" stroke=\"gray\" stroke-width=\"0.3\"/><path d=\"M 145 288 177 342\" stroke=\"gray\" stroke-width=\"0.3\"/><path d=\"M 145 288 184 362\" stroke=\"gray\" stroke-width=\"0.3\"/><path d=\"M 145 288 90 298\" stroke=\"gray\" stroke-width=\"0.3\"/><path d=\"M 145 288 183 295\" stroke=\"gray\" stroke-width=\"0.3\"/><path d=\"M 145 288 140 204\" stroke=\"gray\" stroke-width=\"0.3\"/><path d=\"M 145 288 87 283\" stroke=\"gray\" stroke-width=\"0.3\"/><path d=\"M 184 362 177 342\" stroke=\"gray\" stroke-width=\"0.3\"/><path d=\"M 184 362 145 288\" stroke=\"gray\" stroke-width=\"0.3\"/><path d=\"M 184 362 224 425\" stroke=\"gray\" stroke-width=\"0.3\"/><path d=\"M 90 298 177 342\" stroke=\"gray\" stroke-width=\"0.3\"/><path d=\"M 90 298 145 288\" stroke=\"gray\" stroke-width=\"0.3\"/><path d=\"M 90 298 34 256\" stroke=\"gray\" stroke-width=\"0.3\"/><path d=\"M 90 298 20 300\" stroke=\"gray\" stroke-width=\"0.3\"/><path d=\"M 226 291 177 342\" stroke=\"gray\" stroke-width=\"0.3\"/><path d=\"M 492 158 473 256\" stroke=\"gray\" stroke-width=\"0.3\"/><path d=\"M 492 158 549 156\" stroke=\"gray\" stroke-width=\"0.3\"/><path d=\"M 492 158 479 82\" stroke=\"gray\" stroke-width=\"0.3\"/><path d=\"M 425 184 473 256\" stroke=\"gray\" stroke-width=\"0.3\"/><path d=\"M 425 184 427 236\" stroke=\"gray\" stroke-width=\"0.3\"/><path d=\"M 425 184 422 109\" stroke=\"gray\" stroke-width=\"0.3\"/><path d=\"M 425 184 370 193\" stroke=\"gray\" stroke-width=\"0.3\"/><path d=\"M 425 184 408 223\" stroke=\"gray\" stroke-width=\"0.3\"/><path d=\"M 425 184 383 185\" stroke=\"gray\" stroke-width=\"0.3\"/><path d=\"M 425 184 479 199\" stroke=\"gray\" stroke-width=\"0.3\"/><path d=\"M 425 184 405 124\" stroke=\"gray\" stroke-width=\"0.3\"/><path d=\"M 522 326 473 256\" stroke=\"gray\" stroke-width=\"0.3\"/><path d=\"M 612 317 473 256\" stroke=\"gray\" stroke-width=\"0.3\"/><path d=\"M 612 317 663 386\" stroke=\"gray\" stroke-width=\"0.3\"/><path d=\"M 612 317 679 285\" stroke=\"gray\" stroke-width=\"0.3\"/><path d=\"M 612 317 681 321\" stroke=\"gray\" stroke-width=\"0.3\"/><path d=\"M 439 278 375 227\" stroke=\"gray\" stroke-width=\"0.3\"/><path d=\"M 439 278 467 216\" stroke=\"gray\" stroke-width=\"0.3\"/><path d=\"M 439 278 448 205\" stroke=\"gray\" stroke-width=\"0.3\"/><path d=\"M 439 278 419 313\" stroke=\"gray\" stroke-width=\"0.3\"/><path d=\"M 439 278 440 334\" stroke=\"gray\" stroke-width=\"0.3\"/><path d=\"M 439 278 499 316\" stroke=\"gray\" stroke-width=\"0.3\"/><path d=\"M 439 278 446 343\" stroke=\"gray\" stroke-width=\"0.3\"/><path d=\"M 439 278 426 346\" stroke=\"gray\" stroke-width=\"0.3\"/><path d=\"M 439 278 423 221\" stroke=\"gray\" stroke-width=\"0.3\"/><path d=\"M 266 235 375 227\" stroke=\"gray\" stroke-width=\"0.3\"/><path d=\"M 266 235 183 222\" stroke=\"gray\" stroke-width=\"0.3\"/><path d=\"M 252 206 375 227\" stroke=\"gray\" stroke-width=\"0.3\"/><path d=\"M 252 206 216 178\" stroke=\"gray\" stroke-width=\"0.3\"/><path d=\"M 252 206 277 193\" stroke=\"gray\" stroke-width=\"0.3\"/><path d=\"M 252 206 260 157\" stroke=\"gray\" stroke-width=\"0.3\"/><path d=\"M 252 206 209 158\" stroke=\"gray\" stroke-width=\"0.3\"/><path d=\"M 252 206 176 226\" stroke=\"gray\" stroke-width=\"0.3\"/><path d=\"M 252 206 214 264\" stroke=\"gray\" stroke-width=\"0.3\"/><path d=\"M 578 214 375 227\" stroke=\"gray\" stroke-width=\"0.3\"/><path d=\"M 578 214 556 239\" stroke=\"gray\" stroke-width=\"0.3\"/><path d=\"M 578 214 591 141\" stroke=\"gray\" stroke-width=\"0.3\"/><path d=\"M 578 214 637 166\" stroke=\"gray\" stroke-width=\"0.3\"/><path d=\"M 578 214 640 264\" stroke=\"gray\" stroke-width=\"0.3\"/><path d=\"M 578 214 609 151\" stroke=\"gray\" stroke-width=\"0.3\"/><path d=\"M 578 214 624 281\" stroke=\"gray\" stroke-width=\"0.3\"/><path d=\"M 578 214 655 216\" stroke=\"gray\" stroke-width=\"0.3\"/><path d=\"M 578 214 632 273\" stroke=\"gray\" stroke-width=\"0.3\"/><path d=\"M 578 214 582 192\" stroke=\"gray\" stroke-width=\"0.3\"/><path d=\"M 578 214 650 169\" stroke=\"gray\" stroke-width=\"0.3\"/><path d=\"M 493 178 375 227\" stroke=\"gray\" stroke-width=\"0.3\"/><path d=\"M 493 178 578 199\" stroke=\"gray\" stroke-width=\"0.3\"/><path d=\"M 493 178 538 116\" stroke=\"gray\" stroke-width=\"0.3\"/><path d=\"M 493 178 538 211\" stroke=\"gray\" stroke-width=\"0.3\"/><path d=\"M 493 178 480 141\" stroke=\"gray\" stroke-width=\"0.3\"/><path d=\"M 207 246 375 227\" stroke=\"gray\" stroke-width=\"0.3\"/><path d=\"M 207 246 150 313\" stroke=\"gray\" stroke-width=\"0.3\"/><path d=\"M 207 246 171 176\" stroke=\"gray\" stroke-width=\"0.3\"/><path d=\"M 207 246 154 301\" stroke=\"gray\" stroke-width=\"0.3\"/><path d=\"M 207 246 121 225\" stroke=\"gray\" stroke-width=\"0.3\"/><path d=\"M 71 296 173 278\" stroke=\"gray\" stroke-width=\"0.3\"/><path d=\"M 521 270 430 301\" stroke=\"gray\" stroke-width=\"0.3\"/><path d=\"M 521 270 526 193\" stroke=\"gray\" stroke-width=\"0.3\"/><path d=\"M 521 270 558 222\" stroke=\"gray\" stroke-width=\"0.3\"/><path d=\"M 521 270 490 317\" stroke=\"gray\" stroke-width=\"0.3\"/><path d=\"M 521 270 548 323\" stroke=\"gray\" stroke-width=\"0.3\"/><path d=\"M 521 270 575 304\" stroke=\"gray\" stroke-width=\"0.3\"/><path d=\"M 523 295 430 301\" stroke=\"gray\" stroke-width=\"0.3\"/><path d=\"M 523 295 595 285\" stroke=\"gray\" stroke-width=\"0.3\"/><path d=\"M 443 250 430 301\" stroke=\"gray\" stroke-width=\"0.3\"/><path d=\"M 443 250 452 252\" stroke=\"gray\" stroke-width=\"0.3\"/><path d=\"M 443 250 483 250\" stroke=\"gray\" stroke-width=\"0.3\"/><path d=\"M 328 365 430 301\" stroke=\"gray\" stroke-width=\"0.3\"/><path d=\"M 328 365 252 416\" stroke=\"gray\" stroke-width=\"0.3\"/><path d=\"M 452 252 430 301\" stroke=\"gray\" stroke-width=\"0.3\"/><path d=\"M 452 252 443 250\" stroke=\"gray\" stroke-width=\"0.3\"/><path d=\"M 534 368 465 373\" stroke=\"gray\" stroke-width=\"0.3\"/><path d=\"M 534 368 491 350\" stroke=\"gray\" stroke-width=\"0.3\"/><path d=\"M 534 368 594 381\" stroke=\"gray\" stroke-width=\"0.3\"/><path d=\"M 504 359 465 373\" stroke=\"gray\" stroke-width=\"0.3\"/><path d=\"M 504 359 491 350\" stroke=\"gray\" stroke-width=\"0.3\"/><path d=\"M 494 336 465 373\" stroke=\"gray\" stroke-width=\"0.3\"/><path d=\"M 494 336 491 350\" stroke=\"gray\" stroke-width=\"0.3\"/><path d=\"M 473 437 465 373\" stroke=\"gray\" stroke-width=\"0.3\"/><path d=\"M 473 437 518 477\" stroke=\"gray\" stroke-width=\"0.3\"/><path d=\"M 473 437 438 482\" stroke=\"gray\" stroke-width=\"0.3\"/><path d=\"M 473 437 463 399\" stroke=\"gray\" stroke-width=\"0.3\"/><path d=\"M 491 350 465 373\" stroke=\"gray\" stroke-width=\"0.3\"/><path d=\"M 491 350 534 368\" stroke=\"gray\" stroke-width=\"0.3\"/><path d=\"M 491 350 504 359\" stroke=\"gray\" stroke-width=\"0.3\"/><path d=\"M 491 350 494 336\" stroke=\"gray\" stroke-width=\"0.3\"/><path d=\"M 491 350 456 331\" stroke=\"gray\" stroke-width=\"0.3\"/><path d=\"M 605 240 542 301\" stroke=\"gray\" stroke-width=\"0.3\"/><path d=\"M 605 240 630 296\" stroke=\"gray\" stroke-width=\"0.3\"/><path d=\"M 605 240 623 309\" stroke=\"gray\" stroke-width=\"0.3\"/><path d=\"M 605 240 582 174\" stroke=\"gray\" stroke-width=\"0.3\"/><path d=\"M 605 240 590 168\" stroke=\"gray\" stroke-width=\"0.3\"/><path d=\"M 605 240 657 196\" stroke=\"gray\" stroke-width=\"0.3\"/><path d=\"M 445 358 542 301\" stroke=\"gray\" stroke-width=\"0.3\"/><path d=\"M 445 358 411 318\" stroke=\"gray\" stroke-width=\"0.3\"/><path d=\"M 445 358 431 427\" stroke=\"gray\" stroke-width=\"0.3\"/><path d=\"M 445 358 374 346\" stroke=\"gray\" stroke-width=\"0.3\"/><path d=\"M 581 231 542 301\" stroke=\"gray\" stroke-width=\"0.3\"/><path d=\"M 581 231 496 215\" stroke=\"gray\" stroke-width=\"0.3\"/><path d=\"M 581 231 529 233\" stroke=\"gray\" stroke-width=\"0.3\"/><path d=\"M 581 231 607 171\" stroke=\"gray\" stroke-width=\"0.3\"/><path d=\"M 581 231 587 306\" stroke=\"gray\" stroke-width=\"0.3\"/><path d=\"M 581 231 591 160\" stroke=\"gray\" stroke-width=\"0.3\"/><path d=\"M 581 231 595 299\" stroke=\"gray\" stroke-width=\"0.3\"/><path d=\"M 581 231 617 169\" stroke=\"gray\" stroke-width=\"0.3\"/><path d=\"M 581 231 621 189\" stroke=\"gray\" stroke-width=\"0.3\"/><path d=\"M 245 350 234 301\" stroke=\"gray\" stroke-width=\"0.3\"/><path d=\"M 203 233 234 301\" stroke=\"gray\" stroke-width=\"0.3\"/><path d=\"M 203 233 227 174\" stroke=\"gray\" stroke-width=\"0.3\"/><path d=\"M 203 233 143 245\" stroke=\"gray\" stroke-width=\"0.3\"/><path d=\"M 273 155 278 246\" stroke=\"gray\" stroke-width=\"0.3\"/><path d=\"M 250 323 278 246\" stroke=\"gray\" stroke-width=\"0.3\"/><path d=\"M 250 323 282 356\" stroke=\"gray\" stroke-width=\"0.3\"/><path d=\"M 250 323 240 395\" stroke=\"gray\" stroke-width=\"0.3\"/><path d=\"M 250 323 245 383\" stroke=\"gray\" stroke-width=\"0.3\"/><path d=\"M 250 323 231 258\" stroke=\"gray\" stroke-width=\"0.3\"/><path d=\"M 217 193 278 246\" stroke=\"gray\" stroke-width=\"0.3\"/><path d=\"M 229 180 278 246\" stroke=\"gray\" stroke-width=\"0.3\"/><path d=\"M 515 117 572 243\" stroke=\"gray\" stroke-width=\"0.3\"/><path d=\"M 515 117 520 206\" stroke=\"gray\" stroke-width=\"0.3\"/><path d=\"M 515 117 485 49\" stroke=\"gray\" stroke-width=\"0.3\"/><path d=\"M 515 117 487 37\" stroke=\"gray\" stroke-width=\"0.3\"/><path d=\"M 515 117 499 29\" stroke=\"gray\" stroke-width=\"0.3\"/><path d=\"M 564 197 572 243\" stroke=\"gray\" stroke-width=\"0.3\"/><path d=\"M 564 197 591 209\" stroke=\"gray\" stroke-width=\"0.3\"/><path d=\"M 520 206 572 243\" stroke=\"gray\" stroke-width=\"0.3\"/><path d=\"M 520 206 515 117\" stroke=\"gray\" stroke-width=\"0.3\"/><path d=\"M 520 206 513 299\" stroke=\"gray\" stroke-width=\"0.3\"/><path d=\"M 644 174 572 243\" stroke=\"gray\" stroke-width=\"0.3\"/><path d=\"M 644 174 716 174\" stroke=\"gray\" stroke-width=\"0.3\"/><path d=\"M 644 174 646 109\" stroke=\"gray\" stroke-width=\"0.3\"/><path d=\"M 509 283 572 243\" stroke=\"gray\" stroke-width=\"0.3\"/><path d=\"M 509 283 497 355\" stroke=\"gray\" stroke-width=\"0.3\"/><path d=\"M 509 283 480 226\" stroke=\"gray\" stroke-width=\"0.3\"/><path d=\"M 601 170 572 243\" stroke=\"gray\" stroke-width=\"0.3\"/><path d=\"M 601 170 626 211\" stroke=\"gray\" stroke-width=\"0.3\"/><path d=\"M 601 170 620 112\" stroke=\"gray\" stroke-width=\"0.3\"/><path d=\"M 601 170 671 154\" stroke=\"gray\" stroke-width=\"0.3\"/><path d=\"M 601 170 544 134\" stroke=\"gray\" stroke-width=\"0.3\"/><path d=\"M 672 340 572 243\" stroke=\"gray\" stroke-width=\"0.3\"/><path d=\"M 672 340 720 295\" stroke=\"gray\" stroke-width=\"0.3\"/><path d=\"M 672 340 674 412\" stroke=\"gray\" stroke-width=\"0.3\"/><path d=\"M 672 340 714 286\" stroke=\"gray\" stroke-width=\"0.3\"/><path d=\"M 672 340 692 297\" stroke=\"gray\" stroke-width=\"0.3\"/><path d=\"M 672 340 662 416\" stroke=\"gray\" stroke-width=\"0.3\"/><path d=\"M 672 340 712 391\" stroke=\"gray\" stroke-width=\"0.3\"/><path d=\"M 672 340 700 284\" stroke=\"gray\" stroke-width=\"0.3\"/><path d=\"M 672 340 681 418\" stroke=\"gray\" stroke-width=\"0.3\"/><path d=\"M 513 299 572 243\" stroke=\"gray\" stroke-width=\"0.3\"/><path d=\"M 513 299 520 206\" stroke=\"gray\" stroke-width=\"0.3\"/><path d=\"M 513 299 523 357\" stroke=\"gray\" stroke-width=\"0.3\"/><path d=\"M 513 299 561 320\" stroke=\"gray\" stroke-width=\"0.3\"/><path d=\"M 513 299 484 375\" stroke=\"gray\" stroke-width=\"0.3\"/><path d=\"M 513 299 476 245\" stroke=\"gray\" stroke-width=\"0.3\"/><path d=\"M 513 299 508 383\" stroke=\"gray\" stroke-width=\"0.3\"/><path d=\"M 513 299 498 247\" stroke=\"gray\" stroke-width=\"0.3\"/><path d=\"M 323 295 263 342\" stroke=\"gray\" stroke-width=\"0.3\"/><path d=\"M 323 295 363 247\" stroke=\"gray\" stroke-width=\"0.3\"/><path d=\"M 305 418 263 342\" stroke=\"gray\" stroke-width=\"0.3\"/><path d=\"M 305 418 358 455\" stroke=\"gray\" stroke-width=\"0.3\"/><path d=\"M 219 369 263 342\" stroke=\"gray\" stroke-width=\"0.3\"/><path d=\"M 219 369 213 381\" stroke=\"gray\" stroke-width=\"0.3\"/><path d=\"M 219 369 185 317\" stroke=\"gray\" stroke-width=\"0.3\"/><path d=\"M 219 369 192 332\" stroke=\"gray\" stroke-width=\"0.3\"/><path d=\"M 219 369 255 429\" stroke=\"gray\" stroke-width=\"0.3\"/><path d=\"M 213 381 263 342\" stroke=\"gray\" stroke-width=\"0.3\"/><path d=\"M 213 381 219 369\" stroke=\"gray\" stroke-width=\"0.3\"/><path d=\"M 185 317 263 342\" stroke=\"gray\" stroke-width=\"0.3\"/><path d=\"M 185 317 219 369\" stroke=\"gray\" stroke-width=\"0.3\"/><path d=\"M 185 317 130 262\" stroke=\"gray\" stroke-width=\"0.3\"/><path d=\"M 164 349 263 342\" stroke=\"gray\" stroke-width=\"0.3\"/><path d=\"M 164 349 97 329\" stroke=\"gray\" stroke-width=\"0.3\"/><path d=\"M 353 321 263 342\" stroke=\"gray\" stroke-width=\"0.3\"/><path d=\"M 353 321 375 246\" stroke=\"gray\" stroke-width=\"0.3\"/><path d=\"M 353 321 310 313\" stroke=\"gray\" stroke-width=\"0.3\"/><path d=\"M 353 321 358 242\" stroke=\"gray\" stroke-width=\"0.3\"/><path d=\"M 353 321 365 388\" stroke=\"gray\" stroke-width=\"0.3\"/><path d=\"M 353 321 333 321\" stroke=\"gray\" stroke-width=\"0.3\"/><path d=\"M 353 321 428 315\" stroke=\"gray\" stroke-width=\"0.3\"/><path d=\"M 353 321 335 353\" stroke=\"gray\" stroke-width=\"0.3\"/><path d=\"M 353 321 348 382\" stroke=\"gray\" stroke-width=\"0.3\"/><path d=\"M 353 321 371 380\" stroke=\"gray\" stroke-width=\"0.3\"/><path d=\"M 228 280 252 217\" stroke=\"gray\" stroke-width=\"0.3\"/><path d=\"M 117 249 252 217\" stroke=\"gray\" stroke-width=\"0.3\"/><path d=\"M 117 249 54 220\" stroke=\"gray\" stroke-width=\"0.3\"/><path d=\"M 117 249 66 212\" stroke=\"gray\" stroke-width=\"0.3\"/><path d=\"M 117 249 81 209\" stroke=\"gray\" stroke-width=\"0.3\"/><path d=\"M 117 249 89 332\" stroke=\"gray\" stroke-width=\"0.3\"/><path d=\"M 294 233 252 217\" stroke=\"gray\" stroke-width=\"0.3\"/><path d=\"M 294 233 341 272\" stroke=\"gray\" stroke-width=\"0.3\"/><path d=\"M 294 233 239 207\" stroke=\"gray\" stroke-width=\"0.3\"/><path d=\"M 294 233 328 219\" stroke=\"gray\" stroke-width=\"0.3\"/><path d=\"M 391 207 252 217\" stroke=\"gray\" stroke-width=\"0.3\"/><path d=\"M 391 207 468 190\" stroke=\"gray\" stroke-width=\"0.3\"/><path d=\"M 391 207 496 215\" stroke=\"gray\" stroke-width=\"0.3\"/><path d=\"M 213 105 252 217\" stroke=\"gray\" stroke-width=\"0.3\"/><path d=\"M 213 105 185 20\" stroke=\"gray\" stroke-width=\"0.3\"/><path d=\"M 281 273 252 217\" stroke=\"gray\" stroke-width=\"0.3\"/><path d=\"M 281 273 251 306\" stroke=\"gray\" stroke-width=\"0.3\"/><path d=\"M 281 273 299 206\" stroke=\"gray\" stroke-width=\"0.3\"/><path d=\"M 281 273 300 350\" stroke=\"gray\" stroke-width=\"0.3\"/><path d=\"M 185 20 213 105\" stroke=\"gray\" stroke-width=\"0.3\"/><path d=\"M 375 246 353 321\" stroke=\"gray\" stroke-width=\"0.3\"/><path d=\"M 310 313 353 321\" stroke=\"gray\" stroke-width=\"0.3\"/><path d=\"M 358 242 353 321\" stroke=\"gray\" stroke-width=\"0.3\"/><path d=\"M 365 388 353 321\" stroke=\"gray\" stroke-width=\"0.3\"/><path d=\"M 333 321 353 321\" stroke=\"gray\" stroke-width=\"0.3\"/><path d=\"M 428 315 353 321\" stroke=\"gray\" stroke-width=\"0.3\"/><path d=\"M 335 353 353 321\" stroke=\"gray\" stroke-width=\"0.3\"/><path d=\"M 348 382 353 321\" stroke=\"gray\" stroke-width=\"0.3\"/><path d=\"M 371 380 353 321\" stroke=\"gray\" stroke-width=\"0.3\"/><path d=\"M 183 295 145 288\" stroke=\"gray\" stroke-width=\"0.3\"/><path d=\"M 140 204 145 288\" stroke=\"gray\" stroke-width=\"0.3\"/><path d=\"M 87 283 145 288\" stroke=\"gray\" stroke-width=\"0.3\"/><path d=\"M 224 425 184 362\" stroke=\"gray\" stroke-width=\"0.3\"/><path d=\"M 34 256 90 298\" stroke=\"gray\" stroke-width=\"0.3\"/><path d=\"M 20 300 90 298\" stroke=\"gray\" stroke-width=\"0.3\"/><path d=\"M 483 250 443 250\" stroke=\"gray\" stroke-width=\"0.3\"/><path d=\"M 497 355 509 283\" stroke=\"gray\" stroke-width=\"0.3\"/><path d=\"M 480 226 509 283\" stroke=\"gray\" stroke-width=\"0.3\"/><path d=\"M 578 199 493 178\" stroke=\"gray\" stroke-width=\"0.3\"/><path d=\"M 538 116 493 178\" stroke=\"gray\" stroke-width=\"0.3\"/><path d=\"M 538 211 493 178\" stroke=\"gray\" stroke-width=\"0.3\"/><path d=\"M 480 141 493 178\" stroke=\"gray\" stroke-width=\"0.3\"/><path d=\"M 363 247 323 295\" stroke=\"gray\" stroke-width=\"0.3\"/><path d=\"M 183 222 266 235\" stroke=\"gray\" stroke-width=\"0.3\"/><path d=\"M 467 216 439 278\" stroke=\"gray\" stroke-width=\"0.3\"/><path d=\"M 448 205 439 278\" stroke=\"gray\" stroke-width=\"0.3\"/><path d=\"M 419 313 439 278\" stroke=\"gray\" stroke-width=\"0.3\"/><path d=\"M 440 334 439 278\" stroke=\"gray\" stroke-width=\"0.3\"/><path d=\"M 499 316 439 278\" stroke=\"gray\" stroke-width=\"0.3\"/><path d=\"M 446 343 439 278\" stroke=\"gray\" stroke-width=\"0.3\"/><path d=\"M 426 346 439 278\" stroke=\"gray\" stroke-width=\"0.3\"/><path d=\"M 423 221 439 278\" stroke=\"gray\" stroke-width=\"0.3\"/><path d=\"M 663 386 612 317\" stroke=\"gray\" stroke-width=\"0.3\"/><path d=\"M 679 285 612 317\" stroke=\"gray\" stroke-width=\"0.3\"/><path d=\"M 681 321 612 317\" stroke=\"gray\" stroke-width=\"0.3\"/><path d=\"M 549 156 492 158\" stroke=\"gray\" stroke-width=\"0.3\"/><path d=\"M 479 82 492 158\" stroke=\"gray\" stroke-width=\"0.3\"/><path d=\"M 97 329 164 349\" stroke=\"gray\" stroke-width=\"0.3\"/><path d=\"M 411 318 445 358\" stroke=\"gray\" stroke-width=\"0.3\"/><path d=\"M 431 427 445 358\" stroke=\"gray\" stroke-width=\"0.3\"/><path d=\"M 374 346 445 358\" stroke=\"gray\" stroke-width=\"0.3\"/><path d=\"M 427 236 425 184\" stroke=\"gray\" stroke-width=\"0.3\"/><path d=\"M 422 109 425 184\" stroke=\"gray\" stroke-width=\"0.3\"/><path d=\"M 370 193 425 184\" stroke=\"gray\" stroke-width=\"0.3\"/><path d=\"M 408 223 425 184\" stroke=\"gray\" stroke-width=\"0.3\"/><path d=\"M 383 185 425 184\" stroke=\"gray\" stroke-width=\"0.3\"/><path d=\"M 479 199 425 184\" stroke=\"gray\" stroke-width=\"0.3\"/><path d=\"M 405 124 425 184\" stroke=\"gray\" stroke-width=\"0.3\"/><path d=\"M 468 190 391 207\" stroke=\"gray\" stroke-width=\"0.3\"/><path d=\"M 496 215 581 231\" stroke=\"gray\" stroke-width=\"0.3\"/><path d=\"M 496 215 391 207\" stroke=\"gray\" stroke-width=\"0.3\"/><path d=\"M 594 381 534 368\" stroke=\"gray\" stroke-width=\"0.3\"/><path d=\"M 341 272 294 233\" stroke=\"gray\" stroke-width=\"0.3\"/><path d=\"M 239 207 294 233\" stroke=\"gray\" stroke-width=\"0.3\"/><path d=\"M 328 219 294 233\" stroke=\"gray\" stroke-width=\"0.3\"/><path d=\"M 526 193 521 270\" stroke=\"gray\" stroke-width=\"0.3\"/><path d=\"M 558 222 521 270\" stroke=\"gray\" stroke-width=\"0.3\"/><path d=\"M 490 317 521 270\" stroke=\"gray\" stroke-width=\"0.3\"/><path d=\"M 548 323 521 270\" stroke=\"gray\" stroke-width=\"0.3\"/><path d=\"M 575 304 521 270\" stroke=\"gray\" stroke-width=\"0.3\"/><path d=\"M 595 285 523 295\" stroke=\"gray\" stroke-width=\"0.3\"/><path d=\"M 518 477 473 437\" stroke=\"gray\" stroke-width=\"0.3\"/><path d=\"M 438 482 473 437\" stroke=\"gray\" stroke-width=\"0.3\"/><path d=\"M 463 399 473 437\" stroke=\"gray\" stroke-width=\"0.3\"/><path d=\"M 150 313 207 246\" stroke=\"gray\" stroke-width=\"0.3\"/><path d=\"M 171 176 207 246\" stroke=\"gray\" stroke-width=\"0.3\"/><path d=\"M 154 301 207 246\" stroke=\"gray\" stroke-width=\"0.3\"/><path d=\"M 121 225 207 246\" stroke=\"gray\" stroke-width=\"0.3\"/><path d=\"M 529 233 581 231\" stroke=\"gray\" stroke-width=\"0.3\"/><path d=\"M 607 171 581 231\" stroke=\"gray\" stroke-width=\"0.3\"/><path d=\"M 587 306 581 231\" stroke=\"gray\" stroke-width=\"0.3\"/><path d=\"M 591 160 581 231\" stroke=\"gray\" stroke-width=\"0.3\"/><path d=\"M 595 299 581 231\" stroke=\"gray\" stroke-width=\"0.3\"/><path d=\"M 617 169 581 231\" stroke=\"gray\" stroke-width=\"0.3\"/><path d=\"M 621 189 581 231\" stroke=\"gray\" stroke-width=\"0.3\"/><path d=\"M 252 416 328 365\" stroke=\"gray\" stroke-width=\"0.3\"/><path d=\"M 556 239 578 214\" stroke=\"gray\" stroke-width=\"0.3\"/><path d=\"M 591 141 578 214\" stroke=\"gray\" stroke-width=\"0.3\"/><path d=\"M 637 166 578 214\" stroke=\"gray\" stroke-width=\"0.3\"/><path d=\"M 640 264 578 214\" stroke=\"gray\" stroke-width=\"0.3\"/><path d=\"M 609 151 578 214\" stroke=\"gray\" stroke-width=\"0.3\"/><path d=\"M 624 281 578 214\" stroke=\"gray\" stroke-width=\"0.3\"/><path d=\"M 655 216 578 214\" stroke=\"gray\" stroke-width=\"0.3\"/><path d=\"M 632 273 578 214\" stroke=\"gray\" stroke-width=\"0.3\"/><path d=\"M 582 192 578 214\" stroke=\"gray\" stroke-width=\"0.3\"/><path d=\"M 650 169 578 214\" stroke=\"gray\" stroke-width=\"0.3\"/><path d=\"M 216 413 204 439\" stroke=\"gray\" stroke-width=\"0.3\"/><path d=\"M 195 424 204 439\" stroke=\"gray\" stroke-width=\"0.3\"/><path d=\"M 224 520 204 439\" stroke=\"gray\" stroke-width=\"0.3\"/><path d=\"M 523 357 513 299\" stroke=\"gray\" stroke-width=\"0.3\"/><path d=\"M 561 320 513 299\" stroke=\"gray\" stroke-width=\"0.3\"/><path d=\"M 484 375 513 299\" stroke=\"gray\" stroke-width=\"0.3\"/><path d=\"M 476 245 513 299\" stroke=\"gray\" stroke-width=\"0.3\"/><path d=\"M 508 383 513 299\" stroke=\"gray\" stroke-width=\"0.3\"/><path d=\"M 498 247 513 299\" stroke=\"gray\" stroke-width=\"0.3\"/><path d=\"M 720 295 672 340\" stroke=\"gray\" stroke-width=\"0.3\"/><path d=\"M 674 412 672 340\" stroke=\"gray\" stroke-width=\"0.3\"/><path d=\"M 714 286 672 340\" stroke=\"gray\" stroke-width=\"0.3\"/><path d=\"M 692 297 672 340\" stroke=\"gray\" stroke-width=\"0.3\"/><path d=\"M 662 416 672 340\" stroke=\"gray\" stroke-width=\"0.3\"/><path d=\"M 712 391 672 340\" stroke=\"gray\" stroke-width=\"0.3\"/><path d=\"M 700 284 672 340\" stroke=\"gray\" stroke-width=\"0.3\"/><path d=\"M 681 418 672 340\" stroke=\"gray\" stroke-width=\"0.3\"/><path d=\"M 716 174 644 174\" stroke=\"gray\" stroke-width=\"0.3\"/><path d=\"M 646 109 644 174\" stroke=\"gray\" stroke-width=\"0.3\"/><path d=\"M 485 49 515 117\" stroke=\"gray\" stroke-width=\"0.3\"/><path d=\"M 487 37 515 117\" stroke=\"gray\" stroke-width=\"0.3\"/><path d=\"M 499 29 515 117\" stroke=\"gray\" stroke-width=\"0.3\"/><path d=\"M 216 178 252 206\" stroke=\"gray\" stroke-width=\"0.3\"/><path d=\"M 277 193 252 206\" stroke=\"gray\" stroke-width=\"0.3\"/><path d=\"M 260 157 252 206\" stroke=\"gray\" stroke-width=\"0.3\"/><path d=\"M 209 158 252 206\" stroke=\"gray\" stroke-width=\"0.3\"/><path d=\"M 176 226 252 206\" stroke=\"gray\" stroke-width=\"0.3\"/><path d=\"M 214 264 252 206\" stroke=\"gray\" stroke-width=\"0.3\"/><path d=\"M 282 356 250 323\" stroke=\"gray\" stroke-width=\"0.3\"/><path d=\"M 240 395 250 323\" stroke=\"gray\" stroke-width=\"0.3\"/><path d=\"M 245 383 250 323\" stroke=\"gray\" stroke-width=\"0.3\"/><path d=\"M 231 258 250 323\" stroke=\"gray\" stroke-width=\"0.3\"/><path d=\"M 358 455 305 418\" stroke=\"gray\" stroke-width=\"0.3\"/><path d=\"M 227 174 203 233\" stroke=\"gray\" stroke-width=\"0.3\"/><path d=\"M 143 245 203 233\" stroke=\"gray\" stroke-width=\"0.3\"/><path d=\"M 251 306 281 273\" stroke=\"gray\" stroke-width=\"0.3\"/><path d=\"M 299 206 281 273\" stroke=\"gray\" stroke-width=\"0.3\"/><path d=\"M 300 350 281 273\" stroke=\"gray\" stroke-width=\"0.3\"/><path d=\"M 54 220 117 249\" stroke=\"gray\" stroke-width=\"0.3\"/><path d=\"M 66 212 117 249\" stroke=\"gray\" stroke-width=\"0.3\"/><path d=\"M 81 209 117 249\" stroke=\"gray\" stroke-width=\"0.3\"/><path d=\"M 89 332 117 249\" stroke=\"gray\" stroke-width=\"0.3\"/><path d=\"M 130 262 185 317\" stroke=\"gray\" stroke-width=\"0.3\"/><path d=\"M 456 331 491 350\" stroke=\"gray\" stroke-width=\"0.3\"/><path d=\"M 626 211 601 170\" stroke=\"gray\" stroke-width=\"0.3\"/><path d=\"M 620 112 601 170\" stroke=\"gray\" stroke-width=\"0.3\"/><path d=\"M 671 154 601 170\" stroke=\"gray\" stroke-width=\"0.3\"/><path d=\"M 544 134 601 170\" stroke=\"gray\" stroke-width=\"0.3\"/><path d=\"M 630 296 605 240\" stroke=\"gray\" stroke-width=\"0.3\"/><path d=\"M 623 309 605 240\" stroke=\"gray\" stroke-width=\"0.3\"/><path d=\"M 582 174 605 240\" stroke=\"gray\" stroke-width=\"0.3\"/><path d=\"M 590 168 605 240\" stroke=\"gray\" stroke-width=\"0.3\"/><path d=\"M 657 196 605 240\" stroke=\"gray\" stroke-width=\"0.3\"/><path d=\"M 192 332 219 369\" stroke=\"gray\" stroke-width=\"0.3\"/><path d=\"M 255 429 219 369\" stroke=\"gray\" stroke-width=\"0.3\"/><path d=\"M 591 209 564 197\" stroke=\"gray\" stroke-width=\"0.3\"/><circle cx=\"371\" cy=\"325\" r=\"3.0\" style=\"fill:rgb(99, 131, 234);stroke:black;stroke-width:1.0\"/><circle cx=\"366\" cy=\"284\" r=\"3.0\" style=\"fill:rgb(99, 131, 234);stroke:black;stroke-width:1.0\"/><circle cx=\"232\" cy=\"332\" r=\"3.0\" style=\"fill:rgb(116, 151, 245);stroke:black;stroke-width:1.0\"/><circle cx=\"234\" cy=\"301\" r=\"3.0\" style=\"fill:rgb(163, 193, 254);stroke:black;stroke-width:1.0\"/><circle cx=\"263\" cy=\"336\" r=\"3.0\" style=\"fill:rgb(86, 115, 224);stroke:black;stroke-width:1.0\"/><circle cx=\"177\" cy=\"342\" r=\"3.0\" style=\"fill:rgb(219, 220, 222);stroke:black;stroke-width:1.0\"/><circle cx=\"365\" cy=\"344\" r=\"3.0\" style=\"fill:rgb(234, 211, 199);stroke:black;stroke-width:1.0\"/><circle cx=\"392\" cy=\"416\" r=\"3.0\" style=\"fill:rgb(58, 76, 192);stroke:black;stroke-width:1.0\"/><circle cx=\"465\" cy=\"373\" r=\"3.0\" style=\"fill:rgb(202, 216, 238);stroke:black;stroke-width:1.0\"/><circle cx=\"317\" cy=\"289\" r=\"3.0\" style=\"fill:rgb(86, 115, 224);stroke:black;stroke-width:1.0\"/><circle cx=\"430\" cy=\"301\" r=\"3.0\" style=\"fill:rgb(224, 218, 215);stroke:black;stroke-width:1.0\"/><circle cx=\"362\" cy=\"430\" r=\"3.0\" style=\"fill:rgb(58, 76, 192);stroke:black;stroke-width:1.0\"/><circle cx=\"278\" cy=\"246\" r=\"3.0\" style=\"fill:rgb(230, 215, 207);stroke:black;stroke-width:1.0\"/><circle cx=\"354\" cy=\"331\" r=\"3.0\" style=\"fill:rgb(96, 128, 232);stroke:black;stroke-width:1.0\"/><circle cx=\"310\" cy=\"267\" r=\"3.0\" style=\"fill:rgb(170, 198, 253);stroke:black;stroke-width:1.0\"/><circle cx=\"263\" cy=\"342\" r=\"3.0\" style=\"fill:rgb(246, 169, 138);stroke:black;stroke-width:1.0\"/><circle cx=\"173\" cy=\"278\" r=\"3.0\" style=\"fill:rgb(99, 131, 234);stroke:black;stroke-width:1.0\"/><circle cx=\"473\" cy=\"256\" r=\"3.0\" style=\"fill:rgb(214, 219, 228);stroke:black;stroke-width:1.0\"/><circle cx=\"252\" cy=\"217\" r=\"3.0\" style=\"fill:rgb(247, 177, 148);stroke:black;stroke-width:1.0\"/><circle cx=\"375\" cy=\"227\" r=\"3.0\" style=\"fill:rgb(246, 169, 138);stroke:black;stroke-width:1.0\"/><circle cx=\"550\" cy=\"360\" r=\"3.0\" style=\"fill:rgb(214, 219, 228);stroke:black;stroke-width:1.0\"/><circle cx=\"509\" cy=\"433\" r=\"3.0\" style=\"fill:rgb(64, 84, 199);stroke:black;stroke-width:1.0\"/><circle cx=\"583\" cy=\"404\" r=\"3.0\" style=\"fill:rgb(64, 84, 199);stroke:black;stroke-width:1.0\"/><circle cx=\"542\" cy=\"301\" r=\"3.0\" style=\"fill:rgb(183, 207, 249);stroke:black;stroke-width:1.0\"/><circle cx=\"572\" cy=\"243\" r=\"3.0\" style=\"fill:rgb(222, 98, 78);stroke:black;stroke-width:1.0\"/><circle cx=\"523\" cy=\"433\" r=\"3.0\" style=\"fill:rgb(64, 84, 199);stroke:black;stroke-width:1.0\"/><circle cx=\"588\" cy=\"355\" r=\"3.0\" style=\"fill:rgb(64, 84, 199);stroke:black;stroke-width:1.0\"/><circle cx=\"352\" cy=\"357\" r=\"3.0\" style=\"fill:rgb(64, 84, 199);stroke:black;stroke-width:1.0\"/><circle cx=\"204\" cy=\"439\" r=\"3.0\" style=\"fill:rgb(170, 198, 253);stroke:black;stroke-width:1.0\"/><circle cx=\"145\" cy=\"288\" r=\"3.0\" style=\"fill:rgb(222, 219, 218);stroke:black;stroke-width:1.0\"/><circle cx=\"184\" cy=\"362\" r=\"3.0\" style=\"fill:rgb(123, 158, 248);stroke:black;stroke-width:1.0\"/><circle cx=\"90\" cy=\"298\" r=\"3.0\" style=\"fill:rgb(159, 190, 254);stroke:black;stroke-width:1.0\"/><circle cx=\"226\" cy=\"291\" r=\"3.0\" style=\"fill:rgb(58, 76, 192);stroke:black;stroke-width:1.0\"/><circle cx=\"492\" cy=\"158\" r=\"3.0\" style=\"fill:rgb(130, 165, 251);stroke:black;stroke-width:1.0\"/><circle cx=\"425\" cy=\"184\" r=\"3.0\" style=\"fill:rgb(245, 158, 127);stroke:black;stroke-width:1.0\"/><circle cx=\"522\" cy=\"326\" r=\"3.0\" style=\"fill:rgb(58, 76, 192);stroke:black;stroke-width:1.0\"/><circle cx=\"612\" cy=\"317\" r=\"3.0\" style=\"fill:rgb(170, 198, 253);stroke:black;stroke-width:1.0\"/><circle cx=\"439\" cy=\"278\" r=\"3.0\" style=\"fill:rgb(236, 128, 100);stroke:black;stroke-width:1.0\"/><circle cx=\"266\" cy=\"235\" r=\"3.0\" style=\"fill:rgb(88, 118, 226);stroke:black;stroke-width:1.0\"/><circle cx=\"252\" cy=\"206\" r=\"3.0\" style=\"fill:rgb(243, 198, 176);stroke:black;stroke-width:1.0\"/><circle cx=\"578\" cy=\"214\" r=\"3.0\" style=\"fill:rgb(179, 3, 38);stroke:black;stroke-width:1.0\"/><circle cx=\"493\" cy=\"178\" r=\"3.0\" style=\"fill:rgb(197, 213, 242);stroke:black;stroke-width:1.0\"/><circle cx=\"207\" cy=\"246\" r=\"3.0\" style=\"fill:rgb(197, 213, 242);stroke:black;stroke-width:1.0\"/><circle cx=\"71\" cy=\"296\" r=\"3.0\" style=\"fill:rgb(60, 79, 195);stroke:black;stroke-width:1.0\"/><circle cx=\"521\" cy=\"270\" r=\"3.0\" style=\"fill:rgb(231, 214, 204);stroke:black;stroke-width:1.0\"/><circle cx=\"523\" cy=\"295\" r=\"3.0\" style=\"fill:rgb(96, 128, 232);stroke:black;stroke-width:1.0\"/><circle cx=\"443\" cy=\"250\" r=\"3.0\" style=\"fill:rgb(123, 158, 248);stroke:black;stroke-width:1.0\"/><circle cx=\"328\" cy=\"365\" r=\"3.0\" style=\"fill:rgb(96, 128, 232);stroke:black;stroke-width:1.0\"/><circle cx=\"452\" cy=\"252\" r=\"3.0\" style=\"fill:rgb(86, 115, 224);stroke:black;stroke-width:1.0\"/><circle cx=\"534\" cy=\"368\" r=\"3.0\" style=\"fill:rgb(112, 147, 243);stroke:black;stroke-width:1.0\"/><circle cx=\"504\" cy=\"359\" r=\"3.0\" style=\"fill:rgb(80, 107, 218);stroke:black;stroke-width:1.0\"/><circle cx=\"494\" cy=\"336\" r=\"3.0\" style=\"fill:rgb(80, 107, 218);stroke:black;stroke-width:1.0\"/><circle cx=\"473\" cy=\"437\" r=\"3.0\" style=\"fill:rgb(166, 195, 253);stroke:black;stroke-width:1.0\"/><circle cx=\"491\" cy=\"350\" r=\"3.0\" style=\"fill:rgb(172, 200, 252);stroke:black;stroke-width:1.0\"/><circle cx=\"605\" cy=\"240\" r=\"3.0\" style=\"fill:rgb(224, 218, 215);stroke:black;stroke-width:1.0\"/><circle cx=\"445\" cy=\"358\" r=\"3.0\" style=\"fill:rgb(166, 195, 253);stroke:black;stroke-width:1.0\"/><circle cx=\"581\" cy=\"231\" r=\"3.0\" style=\"fill:rgb(239, 137, 108);stroke:black;stroke-width:1.0\"/><circle cx=\"245\" cy=\"350\" r=\"3.0\" style=\"fill:rgb(60, 79, 195);stroke:black;stroke-width:1.0\"/><circle cx=\"203\" cy=\"233\" r=\"3.0\" style=\"fill:rgb(138, 173, 253);stroke:black;stroke-width:1.0\"/><circle cx=\"273\" cy=\"155\" r=\"3.0\" style=\"fill:rgb(60, 79, 195);stroke:black;stroke-width:1.0\"/><circle cx=\"250\" cy=\"323\" r=\"3.0\" style=\"fill:rgb(210, 218, 231);stroke:black;stroke-width:1.0\"/><circle cx=\"217\" cy=\"193\" r=\"3.0\" style=\"fill:rgb(60, 79, 195);stroke:black;stroke-width:1.0\"/><circle cx=\"229\" cy=\"180\" r=\"3.0\" style=\"fill:rgb(60, 79, 195);stroke:black;stroke-width:1.0\"/><circle cx=\"515\" cy=\"117\" r=\"3.0\" style=\"fill:rgb(187, 209, 247);stroke:black;stroke-width:1.0\"/><circle cx=\"564\" cy=\"197\" r=\"3.0\" style=\"fill:rgb(88, 118, 226);stroke:black;stroke-width:1.0\"/><circle cx=\"520\" cy=\"206\" r=\"3.0\" style=\"fill:rgb(120, 155, 247);stroke:black;stroke-width:1.0\"/><circle cx=\"644\" cy=\"174\" r=\"3.0\" style=\"fill:rgb(127, 162, 250);stroke:black;stroke-width:1.0\"/><circle cx=\"509\" cy=\"283\" r=\"3.0\" style=\"fill:rgb(127, 162, 250);stroke:black;stroke-width:1.0\"/><circle cx=\"601\" cy=\"170\" r=\"3.0\" style=\"fill:rgb(199, 214, 240);stroke:black;stroke-width:1.0\"/><circle cx=\"672\" cy=\"340\" r=\"3.0\" style=\"fill:rgb(234, 123, 96);stroke:black;stroke-width:1.0\"/><circle cx=\"513\" cy=\"299\" r=\"3.0\" style=\"fill:rgb(247, 177, 148);stroke:black;stroke-width:1.0\"/><circle cx=\"323\" cy=\"295\" r=\"3.0\" style=\"fill:rgb(92, 123, 229);stroke:black;stroke-width:1.0\"/><circle cx=\"305\" cy=\"418\" r=\"3.0\" style=\"fill:rgb(92, 123, 229);stroke:black;stroke-width:1.0\"/><circle cx=\"219\" cy=\"369\" r=\"3.0\" style=\"fill:rgb(187, 209, 247);stroke:black;stroke-width:1.0\"/><circle cx=\"213\" cy=\"381\" r=\"3.0\" style=\"fill:rgb(82, 110, 220);stroke:black;stroke-width:1.0\"/><circle cx=\"185\" cy=\"317\" r=\"3.0\" style=\"fill:rgb(120, 155, 247);stroke:black;stroke-width:1.0\"/><circle cx=\"164\" cy=\"349\" r=\"3.0\" style=\"fill:rgb(92, 123, 229);stroke:black;stroke-width:1.0\"/><circle cx=\"353\" cy=\"321\" r=\"3.0\" style=\"fill:rgb(207, 70, 61);stroke:black;stroke-width:1.0\"/><circle cx=\"228\" cy=\"280\" r=\"3.0\" style=\"fill:rgb(58, 76, 192);stroke:black;stroke-width:1.0\"/><circle cx=\"117\" cy=\"249\" r=\"3.0\" style=\"fill:rgb(202, 216, 238);stroke:black;stroke-width:1.0\"/><circle cx=\"294\" cy=\"233\" r=\"3.0\" style=\"fill:rgb(170, 198, 253);stroke:black;stroke-width:1.0\"/><circle cx=\"391\" cy=\"207\" r=\"3.0\" style=\"fill:rgb(120, 155, 247);stroke:black;stroke-width:1.0\"/><circle cx=\"213\" cy=\"105\" r=\"3.0\" style=\"fill:rgb(92, 123, 229);stroke:black;stroke-width:1.0\"/><circle cx=\"281\" cy=\"273\" r=\"3.0\" style=\"fill:rgb(170, 198, 253);stroke:black;stroke-width:1.0\"/><circle cx=\"185\" cy=\"20\" r=\"3.0\" style=\"fill:rgb(66, 88, 202);stroke:black;stroke-width:1.0\"/><circle cx=\"375\" cy=\"246\" r=\"3.0\" style=\"fill:rgb(66, 88, 202);stroke:black;stroke-width:1.0\"/><circle cx=\"310\" cy=\"313\" r=\"3.0\" style=\"fill:rgb(66, 88, 202);stroke:black;stroke-width:1.0\"/><circle cx=\"358\" cy=\"242\" r=\"3.0\" style=\"fill:rgb(66, 88, 202);stroke:black;stroke-width:1.0\"/><circle cx=\"365\" cy=\"388\" r=\"3.0\" style=\"fill:rgb(66, 88, 202);stroke:black;stroke-width:1.0\"/><circle cx=\"333\" cy=\"321\" r=\"3.0\" style=\"fill:rgb(66, 88, 202);stroke:black;stroke-width:1.0\"/><circle cx=\"428\" cy=\"315\" r=\"3.0\" style=\"fill:rgb(66, 88, 202);stroke:black;stroke-width:1.0\"/><circle cx=\"335\" cy=\"353\" r=\"3.0\" style=\"fill:rgb(66, 88, 202);stroke:black;stroke-width:1.0\"/><circle cx=\"348\" cy=\"382\" r=\"3.0\" style=\"fill:rgb(66, 88, 202);stroke:black;stroke-width:1.0\"/><circle cx=\"371\" cy=\"380\" r=\"3.0\" style=\"fill:rgb(66, 88, 202);stroke:black;stroke-width:1.0\"/><circle cx=\"183\" cy=\"295\" r=\"3.0\" style=\"fill:rgb(60, 79, 195);stroke:black;stroke-width:1.0\"/><circle cx=\"140\" cy=\"204\" r=\"3.0\" style=\"fill:rgb(60, 79, 195);stroke:black;stroke-width:1.0\"/><circle cx=\"87\" cy=\"283\" r=\"3.0\" style=\"fill:rgb(60, 79, 195);stroke:black;stroke-width:1.0\"/><circle cx=\"224\" cy=\"425\" r=\"3.0\" style=\"fill:rgb(60, 79, 195);stroke:black;stroke-width:1.0\"/><circle cx=\"34\" cy=\"256\" r=\"3.0\" style=\"fill:rgb(60, 79, 195);stroke:black;stroke-width:1.0\"/><circle cx=\"20\" cy=\"300\" r=\"3.0\" style=\"fill:rgb(60, 79, 195);stroke:black;stroke-width:1.0\"/><circle cx=\"483\" cy=\"250\" r=\"3.0\" style=\"fill:rgb(60, 79, 195);stroke:black;stroke-width:1.0\"/><circle cx=\"497\" cy=\"355\" r=\"3.0\" style=\"fill:rgb(66, 88, 202);stroke:black;stroke-width:1.0\"/><circle cx=\"480\" cy=\"226\" r=\"3.0\" style=\"fill:rgb(66, 88, 202);stroke:black;stroke-width:1.0\"/><circle cx=\"578\" cy=\"199\" r=\"3.0\" style=\"fill:rgb(66, 88, 202);stroke:black;stroke-width:1.0\"/><circle cx=\"538\" cy=\"116\" r=\"3.0\" style=\"fill:rgb(66, 88, 202);stroke:black;stroke-width:1.0\"/><circle cx=\"538\" cy=\"211\" r=\"3.0\" style=\"fill:rgb(66, 88, 202);stroke:black;stroke-width:1.0\"/><circle cx=\"480\" cy=\"141\" r=\"3.0\" style=\"fill:rgb(66, 88, 202);stroke:black;stroke-width:1.0\"/><circle cx=\"363\" cy=\"247\" r=\"3.0\" style=\"fill:rgb(64, 84, 199);stroke:black;stroke-width:1.0\"/><circle cx=\"183\" cy=\"222\" r=\"3.0\" style=\"fill:rgb(66, 88, 202);stroke:black;stroke-width:1.0\"/><circle cx=\"467\" cy=\"216\" r=\"3.0\" style=\"fill:rgb(66, 88, 202);stroke:black;stroke-width:1.0\"/><circle cx=\"448\" cy=\"205\" r=\"3.0\" style=\"fill:rgb(66, 88, 202);stroke:black;stroke-width:1.0\"/><circle cx=\"419\" cy=\"313\" r=\"3.0\" style=\"fill:rgb(66, 88, 202);stroke:black;stroke-width:1.0\"/><circle cx=\"440\" cy=\"334\" r=\"3.0\" style=\"fill:rgb(66, 88, 202);stroke:black;stroke-width:1.0\"/><circle cx=\"499\" cy=\"316\" r=\"3.0\" style=\"fill:rgb(66, 88, 202);stroke:black;stroke-width:1.0\"/><circle cx=\"446\" cy=\"343\" r=\"3.0\" style=\"fill:rgb(66, 88, 202);stroke:black;stroke-width:1.0\"/><circle cx=\"426\" cy=\"346\" r=\"3.0\" style=\"fill:rgb(66, 88, 202);stroke:black;stroke-width:1.0\"/><circle cx=\"423\" cy=\"221\" r=\"3.0\" style=\"fill:rgb(66, 88, 202);stroke:black;stroke-width:1.0\"/><circle cx=\"663\" cy=\"386\" r=\"3.0\" style=\"fill:rgb(66, 88, 202);stroke:black;stroke-width:1.0\"/><circle cx=\"679\" cy=\"285\" r=\"3.0\" style=\"fill:rgb(66, 88, 202);stroke:black;stroke-width:1.0\"/><circle cx=\"681\" cy=\"321\" r=\"3.0\" style=\"fill:rgb(66, 88, 202);stroke:black;stroke-width:1.0\"/><circle cx=\"549\" cy=\"156\" r=\"3.0\" style=\"fill:rgb(66, 88, 202);stroke:black;stroke-width:1.0\"/><circle cx=\"479\" cy=\"82\" r=\"3.0\" style=\"fill:rgb(66, 88, 202);stroke:black;stroke-width:1.0\"/><circle cx=\"97\" cy=\"329\" r=\"3.0\" style=\"fill:rgb(64, 84, 199);stroke:black;stroke-width:1.0\"/><circle cx=\"411\" cy=\"318\" r=\"3.0\" style=\"fill:rgb(70, 93, 207);stroke:black;stroke-width:1.0\"/><circle cx=\"431\" cy=\"427\" r=\"3.0\" style=\"fill:rgb(70, 93, 207);stroke:black;stroke-width:1.0\"/><circle cx=\"374\" cy=\"346\" r=\"3.0\" style=\"fill:rgb(70, 93, 207);stroke:black;stroke-width:1.0\"/><circle cx=\"427\" cy=\"236\" r=\"3.0\" style=\"fill:rgb(66, 88, 202);stroke:black;stroke-width:1.0\"/><circle cx=\"422\" cy=\"109\" r=\"3.0\" style=\"fill:rgb(66, 88, 202);stroke:black;stroke-width:1.0\"/><circle cx=\"370\" cy=\"193\" r=\"3.0\" style=\"fill:rgb(66, 88, 202);stroke:black;stroke-width:1.0\"/><circle cx=\"408\" cy=\"223\" r=\"3.0\" style=\"fill:rgb(66, 88, 202);stroke:black;stroke-width:1.0\"/><circle cx=\"383\" cy=\"185\" r=\"3.0\" style=\"fill:rgb(66, 88, 202);stroke:black;stroke-width:1.0\"/><circle cx=\"479\" cy=\"199\" r=\"3.0\" style=\"fill:rgb(66, 88, 202);stroke:black;stroke-width:1.0\"/><circle cx=\"405\" cy=\"124\" r=\"3.0\" style=\"fill:rgb(66, 88, 202);stroke:black;stroke-width:1.0\"/><circle cx=\"468\" cy=\"190\" r=\"3.0\" style=\"fill:rgb(64, 84, 199);stroke:black;stroke-width:1.0\"/><circle cx=\"496\" cy=\"215\" r=\"3.0\" style=\"fill:rgb(99, 131, 234);stroke:black;stroke-width:1.0\"/><circle cx=\"594\" cy=\"381\" r=\"3.0\" style=\"fill:rgb(58, 76, 192);stroke:black;stroke-width:1.0\"/><circle cx=\"341\" cy=\"272\" r=\"3.0\" style=\"fill:rgb(66, 88, 202);stroke:black;stroke-width:1.0\"/><circle cx=\"239\" cy=\"207\" r=\"3.0\" style=\"fill:rgb(66, 88, 202);stroke:black;stroke-width:1.0\"/><circle cx=\"328\" cy=\"219\" r=\"3.0\" style=\"fill:rgb(66, 88, 202);stroke:black;stroke-width:1.0\"/><circle cx=\"526\" cy=\"193\" r=\"3.0\" style=\"fill:rgb(66, 88, 202);stroke:black;stroke-width:1.0\"/><circle cx=\"558\" cy=\"222\" r=\"3.0\" style=\"fill:rgb(66, 88, 202);stroke:black;stroke-width:1.0\"/><circle cx=\"490\" cy=\"317\" r=\"3.0\" style=\"fill:rgb(66, 88, 202);stroke:black;stroke-width:1.0\"/><circle cx=\"548\" cy=\"323\" r=\"3.0\" style=\"fill:rgb(66, 88, 202);stroke:black;stroke-width:1.0\"/><circle cx=\"575\" cy=\"304\" r=\"3.0\" style=\"fill:rgb(66, 88, 202);stroke:black;stroke-width:1.0\"/><circle cx=\"595\" cy=\"285\" r=\"3.0\" style=\"fill:rgb(66, 88, 202);stroke:black;stroke-width:1.0\"/><circle cx=\"518\" cy=\"477\" r=\"3.0\" style=\"fill:rgb(64, 84, 199);stroke:black;stroke-width:1.0\"/><circle cx=\"438\" cy=\"482\" r=\"3.0\" style=\"fill:rgb(64, 84, 199);stroke:black;stroke-width:1.0\"/><circle cx=\"463\" cy=\"399\" r=\"3.0\" style=\"fill:rgb(64, 84, 199);stroke:black;stroke-width:1.0\"/><circle cx=\"150\" cy=\"313\" r=\"3.0\" style=\"fill:rgb(66, 88, 202);stroke:black;stroke-width:1.0\"/><circle cx=\"171\" cy=\"176\" r=\"3.0\" style=\"fill:rgb(66, 88, 202);stroke:black;stroke-width:1.0\"/><circle cx=\"154\" cy=\"301\" r=\"3.0\" style=\"fill:rgb(66, 88, 202);stroke:black;stroke-width:1.0\"/><circle cx=\"121\" cy=\"225\" r=\"3.0\" style=\"fill:rgb(66, 88, 202);stroke:black;stroke-width:1.0\"/><circle cx=\"529\" cy=\"233\" r=\"3.0\" style=\"fill:rgb(66, 88, 202);stroke:black;stroke-width:1.0\"/><circle cx=\"607\" cy=\"171\" r=\"3.0\" style=\"fill:rgb(66, 88, 202);stroke:black;stroke-width:1.0\"/><circle cx=\"587\" cy=\"306\" r=\"3.0\" style=\"fill:rgb(66, 88, 202);stroke:black;stroke-width:1.0\"/><circle cx=\"591\" cy=\"160\" r=\"3.0\" style=\"fill:rgb(66, 88, 202);stroke:black;stroke-width:1.0\"/><circle cx=\"595\" cy=\"299\" r=\"3.0\" style=\"fill:rgb(66, 88, 202);stroke:black;stroke-width:1.0\"/><circle cx=\"617\" cy=\"169\" r=\"3.0\" style=\"fill:rgb(66, 88, 202);stroke:black;stroke-width:1.0\"/><circle cx=\"621\" cy=\"189\" r=\"3.0\" style=\"fill:rgb(66, 88, 202);stroke:black;stroke-width:1.0\"/><circle cx=\"252\" cy=\"416\" r=\"3.0\" style=\"fill:rgb(66, 88, 202);stroke:black;stroke-width:1.0\"/><circle cx=\"556\" cy=\"239\" r=\"3.0\" style=\"fill:rgb(66, 88, 202);stroke:black;stroke-width:1.0\"/><circle cx=\"591\" cy=\"141\" r=\"3.0\" style=\"fill:rgb(66, 88, 202);stroke:black;stroke-width:1.0\"/><circle cx=\"637\" cy=\"166\" r=\"3.0\" style=\"fill:rgb(66, 88, 202);stroke:black;stroke-width:1.0\"/><circle cx=\"640\" cy=\"264\" r=\"3.0\" style=\"fill:rgb(66, 88, 202);stroke:black;stroke-width:1.0\"/><circle cx=\"609\" cy=\"151\" r=\"3.0\" style=\"fill:rgb(66, 88, 202);stroke:black;stroke-width:1.0\"/><circle cx=\"624\" cy=\"281\" r=\"3.0\" style=\"fill:rgb(66, 88, 202);stroke:black;stroke-width:1.0\"/><circle cx=\"655\" cy=\"216\" r=\"3.0\" style=\"fill:rgb(66, 88, 202);stroke:black;stroke-width:1.0\"/><circle cx=\"632\" cy=\"273\" r=\"3.0\" style=\"fill:rgb(66, 88, 202);stroke:black;stroke-width:1.0\"/><circle cx=\"582\" cy=\"192\" r=\"3.0\" style=\"fill:rgb(66, 88, 202);stroke:black;stroke-width:1.0\"/><circle cx=\"650\" cy=\"169\" r=\"3.0\" style=\"fill:rgb(66, 88, 202);stroke:black;stroke-width:1.0\"/><circle cx=\"216\" cy=\"413\" r=\"3.0\" style=\"fill:rgb(64, 84, 199);stroke:black;stroke-width:1.0\"/><circle cx=\"195\" cy=\"424\" r=\"3.0\" style=\"fill:rgb(64, 84, 199);stroke:black;stroke-width:1.0\"/><circle cx=\"224\" cy=\"520\" r=\"3.0\" style=\"fill:rgb(64, 84, 199);stroke:black;stroke-width:1.0\"/><circle cx=\"523\" cy=\"357\" r=\"3.0\" style=\"fill:rgb(64, 84, 199);stroke:black;stroke-width:1.0\"/><circle cx=\"561\" cy=\"320\" r=\"3.0\" style=\"fill:rgb(64, 84, 199);stroke:black;stroke-width:1.0\"/><circle cx=\"484\" cy=\"375\" r=\"3.0\" style=\"fill:rgb(64, 84, 199);stroke:black;stroke-width:1.0\"/><circle cx=\"476\" cy=\"245\" r=\"3.0\" style=\"fill:rgb(64, 84, 199);stroke:black;stroke-width:1.0\"/><circle cx=\"508\" cy=\"383\" r=\"3.0\" style=\"fill:rgb(64, 84, 199);stroke:black;stroke-width:1.0\"/><circle cx=\"498\" cy=\"247\" r=\"3.0\" style=\"fill:rgb(64, 84, 199);stroke:black;stroke-width:1.0\"/><circle cx=\"720\" cy=\"295\" r=\"3.0\" style=\"fill:rgb(66, 88, 202);stroke:black;stroke-width:1.0\"/><circle cx=\"674\" cy=\"412\" r=\"3.0\" style=\"fill:rgb(66, 88, 202);stroke:black;stroke-width:1.0\"/><circle cx=\"714\" cy=\"286\" r=\"3.0\" style=\"fill:rgb(66, 88, 202);stroke:black;stroke-width:1.0\"/><circle cx=\"692\" cy=\"297\" r=\"3.0\" style=\"fill:rgb(66, 88, 202);stroke:black;stroke-width:1.0\"/><circle cx=\"662\" cy=\"416\" r=\"3.0\" style=\"fill:rgb(66, 88, 202);stroke:black;stroke-width:1.0\"/><circle cx=\"712\" cy=\"391\" r=\"3.0\" style=\"fill:rgb(66, 88, 202);stroke:black;stroke-width:1.0\"/><circle cx=\"700\" cy=\"284\" r=\"3.0\" style=\"fill:rgb(66, 88, 202);stroke:black;stroke-width:1.0\"/><circle cx=\"681\" cy=\"418\" r=\"3.0\" style=\"fill:rgb(66, 88, 202);stroke:black;stroke-width:1.0\"/><circle cx=\"716\" cy=\"174\" r=\"3.0\" style=\"fill:rgb(66, 88, 202);stroke:black;stroke-width:1.0\"/><circle cx=\"646\" cy=\"109\" r=\"3.0\" style=\"fill:rgb(66, 88, 202);stroke:black;stroke-width:1.0\"/><circle cx=\"485\" cy=\"49\" r=\"3.0\" style=\"fill:rgb(64, 84, 199);stroke:black;stroke-width:1.0\"/><circle cx=\"487\" cy=\"37\" r=\"3.0\" style=\"fill:rgb(64, 84, 199);stroke:black;stroke-width:1.0\"/><circle cx=\"499\" cy=\"29\" r=\"3.0\" style=\"fill:rgb(64, 84, 199);stroke:black;stroke-width:1.0\"/><circle cx=\"216\" cy=\"178\" r=\"3.0\" style=\"fill:rgb(66, 88, 202);stroke:black;stroke-width:1.0\"/><circle cx=\"277\" cy=\"193\" r=\"3.0\" style=\"fill:rgb(66, 88, 202);stroke:black;stroke-width:1.0\"/><circle cx=\"260\" cy=\"157\" r=\"3.0\" style=\"fill:rgb(66, 88, 202);stroke:black;stroke-width:1.0\"/><circle cx=\"209\" cy=\"158\" r=\"3.0\" style=\"fill:rgb(66, 88, 202);stroke:black;stroke-width:1.0\"/><circle cx=\"176\" cy=\"226\" r=\"3.0\" style=\"fill:rgb(66, 88, 202);stroke:black;stroke-width:1.0\"/><circle cx=\"214\" cy=\"264\" r=\"3.0\" style=\"fill:rgb(66, 88, 202);stroke:black;stroke-width:1.0\"/><circle cx=\"282\" cy=\"356\" r=\"3.0\" style=\"fill:rgb(66, 88, 202);stroke:black;stroke-width:1.0\"/><circle cx=\"240\" cy=\"395\" r=\"3.0\" style=\"fill:rgb(66, 88, 202);stroke:black;stroke-width:1.0\"/><circle cx=\"245\" cy=\"383\" r=\"3.0\" style=\"fill:rgb(66, 88, 202);stroke:black;stroke-width:1.0\"/><circle cx=\"231\" cy=\"258\" r=\"3.0\" style=\"fill:rgb(66, 88, 202);stroke:black;stroke-width:1.0\"/><circle cx=\"358\" cy=\"455\" r=\"3.0\" style=\"fill:rgb(64, 84, 199);stroke:black;stroke-width:1.0\"/><circle cx=\"227\" cy=\"174\" r=\"3.0\" style=\"fill:rgb(64, 84, 199);stroke:black;stroke-width:1.0\"/><circle cx=\"143\" cy=\"245\" r=\"3.0\" style=\"fill:rgb(64, 84, 199);stroke:black;stroke-width:1.0\"/><circle cx=\"251\" cy=\"306\" r=\"3.0\" style=\"fill:rgb(66, 88, 202);stroke:black;stroke-width:1.0\"/><circle cx=\"299\" cy=\"206\" r=\"3.0\" style=\"fill:rgb(66, 88, 202);stroke:black;stroke-width:1.0\"/><circle cx=\"300\" cy=\"350\" r=\"3.0\" style=\"fill:rgb(66, 88, 202);stroke:black;stroke-width:1.0\"/><circle cx=\"54\" cy=\"220\" r=\"3.0\" style=\"fill:rgb(66, 88, 202);stroke:black;stroke-width:1.0\"/><circle cx=\"66\" cy=\"212\" r=\"3.0\" style=\"fill:rgb(66, 88, 202);stroke:black;stroke-width:1.0\"/><circle cx=\"81\" cy=\"209\" r=\"3.0\" style=\"fill:rgb(66, 88, 202);stroke:black;stroke-width:1.0\"/><circle cx=\"89\" cy=\"332\" r=\"3.0\" style=\"fill:rgb(66, 88, 202);stroke:black;stroke-width:1.0\"/><circle cx=\"130\" cy=\"262\" r=\"3.0\" style=\"fill:rgb(60, 79, 195);stroke:black;stroke-width:1.0\"/><circle cx=\"456\" cy=\"331\" r=\"3.0\" style=\"fill:rgb(58, 76, 192);stroke:black;stroke-width:1.0\"/><circle cx=\"626\" cy=\"211\" r=\"3.0\" style=\"fill:rgb(66, 88, 202);stroke:black;stroke-width:1.0\"/><circle cx=\"620\" cy=\"112\" r=\"3.0\" style=\"fill:rgb(66, 88, 202);stroke:black;stroke-width:1.0\"/><circle cx=\"671\" cy=\"154\" r=\"3.0\" style=\"fill:rgb(66, 88, 202);stroke:black;stroke-width:1.0\"/><circle cx=\"544\" cy=\"134\" r=\"3.0\" style=\"fill:rgb(66, 88, 202);stroke:black;stroke-width:1.0\"/><circle cx=\"630\" cy=\"296\" r=\"3.0\" style=\"fill:rgb(70, 93, 207);stroke:black;stroke-width:1.0\"/><circle cx=\"623\" cy=\"309\" r=\"3.0\" style=\"fill:rgb(70, 93, 207);stroke:black;stroke-width:1.0\"/><circle cx=\"582\" cy=\"174\" r=\"3.0\" style=\"fill:rgb(70, 93, 207);stroke:black;stroke-width:1.0\"/><circle cx=\"590\" cy=\"168\" r=\"3.0\" style=\"fill:rgb(70, 93, 207);stroke:black;stroke-width:1.0\"/><circle cx=\"657\" cy=\"196\" r=\"3.0\" style=\"fill:rgb(70, 93, 207);stroke:black;stroke-width:1.0\"/><circle cx=\"192\" cy=\"332\" r=\"3.0\" style=\"fill:rgb(58, 76, 192);stroke:black;stroke-width:1.0\"/><circle cx=\"255\" cy=\"429\" r=\"3.0\" style=\"fill:rgb(58, 76, 192);stroke:black;stroke-width:1.0\"/><circle cx=\"591\" cy=\"209\" r=\"3.0\" style=\"fill:rgb(66, 88, 202);stroke:black;stroke-width:1.0\"/><text font-size=\"10\" x=\"377\" y=\"328\">Namie Amuro</text><text font-size=\"10\" x=\"372\" y=\"287\">Jolin Tsai</text><text font-size=\"10\" x=\"238\" y=\"335\">Orange Range</text><text font-size=\"10\" x=\"240\" y=\"304\">Rockit Music</text><text font-size=\"10\" x=\"269\" y=\"339\">ORANGE RANGE</text><text font-size=\"10\" x=\"183\" y=\"345\">Benny Dayal</text><text font-size=\"10\" x=\"371\" y=\"347\">Southern Allstars</text><text font-size=\"10\" x=\"398\" y=\"419\">Louis Armstrong</text><text font-size=\"10\" x=\"471\" y=\"376\">MIKE</text><text font-size=\"10\" x=\"323\" y=\"292\">Brent Cobb</text><text font-size=\"10\" x=\"436\" y=\"304\">Lilrb</text><text font-size=\"10\" x=\"368\" y=\"433\">Henry Smith</text><text font-size=\"10\" x=\"284\" y=\"249\">SOUTHERN ALL STARS</text><text font-size=\"10\" x=\"360\" y=\"334\">Alex G</text><text font-size=\"10\" x=\"316\" y=\"270\">ayaka</text><text font-size=\"10\" x=\"269\" y=\"345\">angela</text><text font-size=\"10\" x=\"179\" y=\"281\">HOYO-MiX</text><text font-size=\"10\" x=\"479\" y=\"259\">Beside Bed</text><text font-size=\"10\" x=\"258\" y=\"220\">xMEIYIN</text><text font-size=\"10\" x=\"381\" y=\"230\">Chimuanya</text><text font-size=\"10\" x=\"556\" y=\"363\">Seibun Tokuhara</text><text font-size=\"10\" x=\"515\" y=\"436\">Hideaki Tokunaga</text><text font-size=\"10\" x=\"589\" y=\"407\">WagakkiBand</text><text font-size=\"10\" x=\"548\" y=\"304\">Osamuraisan</text><text font-size=\"10\" x=\"578\" y=\"246\">Sadao China</text><text font-size=\"10\" x=\"529\" y=\"436\">Taeko Onuki</text><text font-size=\"10\" x=\"594\" y=\"358\">Vivid BAD SQUAD</text><text font-size=\"10\" x=\"358\" y=\"360\">alex_g_offline</text><text font-size=\"10\" x=\"210\" y=\"442\">Pritam</text><text font-size=\"10\" x=\"151\" y=\"291\">Benny Dawn</text><text font-size=\"10\" x=\"190\" y=\"365\">Benny Friedman</text><text font-size=\"10\" x=\"96\" y=\"301\">Benny Sings</text><text font-size=\"10\" x=\"232\" y=\"294\">Christopher Jackson</text><text font-size=\"10\" x=\"498\" y=\"161\">Jordy Chandra</text><text font-size=\"10\" x=\"431\" y=\"187\">Matoma</text><text font-size=\"10\" x=\"528\" y=\"329\">5 Seconds of Summer</text><text font-size=\"10\" x=\"618\" y=\"320\">James Blunt</text><text font-size=\"10\" x=\"445\" y=\"281\">Ifeoma</text><text font-size=\"10\" x=\"272\" y=\"238\">Freeman HKD</text><text font-size=\"10\" x=\"258\" y=\"209\">Soul Armoniko</text><text font-size=\"10\" x=\"584\" y=\"217\">Perfeccion</text><text font-size=\"10\" x=\"499\" y=\"181\">Emmasings</text><text font-size=\"10\" x=\"213\" y=\"249\">Onolyriks</text><text font-size=\"10\" x=\"77\" y=\"299\">Yu-Peng Chen</text><text font-size=\"10\" x=\"527\" y=\"273\">Myaap</text><text font-size=\"10\" x=\"529\" y=\"298\">Nelly</text><text font-size=\"10\" x=\"449\" y=\"253\">Drake</text><text font-size=\"10\" x=\"334\" y=\"368\">Paul Russell</text><text font-size=\"10\" x=\"458\" y=\"255\">Lil Baby</text><text font-size=\"10\" x=\"540\" y=\"371\">Mike Posner</text><text font-size=\"10\" x=\"510\" y=\"362\">Hotel Ugly</text><text font-size=\"10\" x=\"500\" y=\"339\">Mike Sherm</text><text font-size=\"10\" x=\"479\" y=\"440\">Niontay</text><text font-size=\"10\" x=\"497\" y=\"353\">mike.</text><text font-size=\"10\" x=\"611\" y=\"243\">pedrolina.</text><text font-size=\"10\" x=\"451\" y=\"361\">Marlon Guild</text><text font-size=\"10\" x=\"587\" y=\"234\">OsMan</text><text font-size=\"10\" x=\"251\" y=\"353\">Herbie Hancock</text><text font-size=\"10\" x=\"209\" y=\"236\">Tokyo Machine</text><text font-size=\"10\" x=\"279\" y=\"158\">Devilish Trio</text><text font-size=\"10\" x=\"256\" y=\"326\">Southall</text><text font-size=\"10\" x=\"223\" y=\"196\">Gregory Alan Isakov</text><text font-size=\"10\" x=\"235\" y=\"183\">サザンオールスターズ</text><text font-size=\"10\" x=\"521\" y=\"120\">Seijin Noborikawa</text><text font-size=\"10\" x=\"570\" y=\"200\">泰葉</text><text font-size=\"10\" x=\"526\" y=\"209\">知名定男</text><text font-size=\"10\" x=\"650\" y=\"177\">Sadao Watanabe</text><text font-size=\"10\" x=\"515\" y=\"286\">EVADE FROM 宇宙</text><text font-size=\"10\" x=\"607\" y=\"173\">mimiel</text><text font-size=\"10\" x=\"678\" y=\"343\">SIM-CEE</text><text font-size=\"10\" x=\"519\" y=\"302\">Rinsho Kadekaru</text><text font-size=\"10\" x=\"329\" y=\"298\">Flower Face</text><text font-size=\"10\" x=\"311\" y=\"421\">The Lumineers</text><text font-size=\"10\" x=\"225\" y=\"372\">Ángela Aguilar</text><text font-size=\"10\" x=\"219\" y=\"384\">Becky G</text><text font-size=\"10\" x=\"191\" y=\"320\">Yuridia</text><text font-size=\"10\" x=\"170\" y=\"352\">Los Caminantes</text><text font-size=\"10\" x=\"359\" y=\"324\">Achichiba</text><text font-size=\"10\" x=\"234\" y=\"283\">Nstens1117</text><text font-size=\"10\" x=\"123\" y=\"252\">Vector U</text><text font-size=\"10\" x=\"300\" y=\"236\">Miriamy</text><text font-size=\"10\" x=\"397\" y=\"210\">Meychan</text><text font-size=\"10\" x=\"219\" y=\"108\">A-Mei Chang</text><text font-size=\"10\" x=\"287\" y=\"276\">Torby Brand</text><text font-size=\"10\" x=\"191\" y=\"23\">Jay Chou</text><text font-size=\"10\" x=\"381\" y=\"249\">Khaled</text><text font-size=\"10\" x=\"316\" y=\"316\">Didi B</text><text font-size=\"10\" x=\"364\" y=\"245\">Tamrat Desta</text><text font-size=\"10\" x=\"371\" y=\"391\">MD DJ</text><text font-size=\"10\" x=\"339\" y=\"324\">Ahmed Alshaiba</text><text font-size=\"10\" x=\"434\" y=\"318\">Lone Tusker</text><text font-size=\"10\" x=\"341\" y=\"356\">Wael Jassar</text><text font-size=\"10\" x=\"354\" y=\"385\">Rassim Touffah</text><text font-size=\"10\" x=\"377\" y=\"383\">Udit Narayan</text><text font-size=\"10\" x=\"189\" y=\"298\">Benny Goodman Sextet</text><text font-size=\"10\" x=\"146\" y=\"207\">Benny L</text><text font-size=\"10\" x=\"93\" y=\"286\">Chris Brown</text><text font-size=\"10\" x=\"230\" y=\"428\">Matt Dubb</text><text font-size=\"10\" x=\"40\" y=\"259\">Free Nationals</text><text font-size=\"10\" x=\"26\" y=\"303\">Rex Orange County</text><text font-size=\"10\" x=\"489\" y=\"253\">Travis Scott</text><text font-size=\"10\" x=\"503\" y=\"358\">removeface</text><text font-size=\"10\" x=\"486\" y=\"229\">Eve</text><text font-size=\"10\" x=\"584\" y=\"202\">Isobel Waller-Bridge</text><text font-size=\"10\" x=\"544\" y=\"119\">Steven Price</text><text font-size=\"10\" x=\"544\" y=\"214\">Samuel Sim</text><text font-size=\"10\" x=\"486\" y=\"144\">Jimmy D Psalmist</text><text font-size=\"10\" x=\"369\" y=\"250\">eevee</text><text font-size=\"10\" x=\"189\" y=\"225\">ExQ</text><text font-size=\"10\" x=\"473\" y=\"219\">DJ Sean K</text><text font-size=\"10\" x=\"454\" y=\"208\">Umu Obiligbo</text><text font-size=\"10\" x=\"425\" y=\"316\">Jephy Jay</text><text font-size=\"10\" x=\"446\" y=\"337\">Tzarboy</text><text font-size=\"10\" x=\"505\" y=\"319\">P-Square</text><text font-size=\"10\" x=\"452\" y=\"346\">Marcy WTF</text><text font-size=\"10\" x=\"432\" y=\"349\">Sheddy Rhmx</text><text font-size=\"10\" x=\"429\" y=\"224\">Apolosi B</text><text font-size=\"10\" x=\"669\" y=\"389\">Robin Schulz</text><text font-size=\"10\" x=\"685\" y=\"288\">Iam Tongi</text><text font-size=\"10\" x=\"687\" y=\"324\">Lost Frequencies</text><text font-size=\"10\" x=\"555\" y=\"159\">Jordy Searcy</text><text font-size=\"10\" x=\"485\" y=\"85\">Jordi</text><text font-size=\"10\" x=\"103\" y=\"332\">Los Yonic's</text><text font-size=\"10\" x=\"417\" y=\"321\">Marlon Heins</text><text font-size=\"10\" x=\"437\" y=\"430\">Marlon Funaki</text><text font-size=\"10\" x=\"380\" y=\"349\">Marlon Williams</text><text font-size=\"10\" x=\"433\" y=\"239\">Idan Balas</text><text font-size=\"10\" x=\"428\" y=\"112\">HRVY</text><text font-size=\"10\" x=\"376\" y=\"196\">Felix Jaehn</text><text font-size=\"10\" x=\"414\" y=\"226\">Coldplay</text><text font-size=\"10\" x=\"389\" y=\"188\">Mato</text><text font-size=\"10\" x=\"485\" y=\"202\">Matooma</text><text font-size=\"10\" x=\"411\" y=\"127\">The Vamps</text><text font-size=\"10\" x=\"474\" y=\"193\">Megadeth</text><text font-size=\"10\" x=\"502\" y=\"218\">whaledontsleep</text><text font-size=\"10\" x=\"600\" y=\"384\">Rittz</text><text font-size=\"10\" x=\"347\" y=\"275\">Sleeping At Last</text><text font-size=\"10\" x=\"245\" y=\"210\">Miriam Modest</text><text font-size=\"10\" x=\"334\" y=\"222\">Myriam Hernandez</text><text font-size=\"10\" x=\"532\" y=\"196\">Arch Enemy</text><text font-size=\"10\" x=\"564\" y=\"225\">Falling In Reverse</text><text font-size=\"10\" x=\"496\" y=\"320\">Metallica</text><text font-size=\"10\" x=\"554\" y=\"326\">Donell Jones</text><text font-size=\"10\" x=\"581\" y=\"307\">Escape the Fate</text><text font-size=\"10\" x=\"601\" y=\"288\">The Toy Dolls</text><text font-size=\"10\" x=\"524\" y=\"480\">jon-YAKITORY</text><text font-size=\"10\" x=\"444\" y=\"485\">Noony</text><text font-size=\"10\" x=\"469\" y=\"402\">NONT TANONT</text><text font-size=\"10\" x=\"156\" y=\"316\">Nicki Minaj</text><text font-size=\"10\" x=\"177\" y=\"179\">RY X</text><text font-size=\"10\" x=\"160\" y=\"304\">Onlery</text><text font-size=\"10\" x=\"127\" y=\"228\">LeeHi</text><text font-size=\"10\" x=\"535\" y=\"236\">Shreya Ghoshal</text><text font-size=\"10\" x=\"613\" y=\"174\">Passenger 10</text><text font-size=\"10\" x=\"593\" y=\"309\">Osmani Garcia &quot;La Voz&quot;</text><text font-size=\"10\" x=\"597\" y=\"163\">Üst Perde</text><text font-size=\"10\" x=\"601\" y=\"302\">natori</text><text font-size=\"10\" x=\"623\" y=\"172\">MEL GRANDA</text><text font-size=\"10\" x=\"627\" y=\"192\">Amit Trivedi</text><text font-size=\"10\" x=\"258\" y=\"419\">Dray</text><text font-size=\"10\" x=\"562\" y=\"242\">Baltorino Beats</text><text font-size=\"10\" x=\"597\" y=\"144\">Juli Savioli</text><text font-size=\"10\" x=\"643\" y=\"169\">mario.da.man</text><text font-size=\"10\" x=\"646\" y=\"267\">Alameños de la Sierra</text><text font-size=\"10\" x=\"615\" y=\"154\">Calibre 50</text><text font-size=\"10\" x=\"630\" y=\"284\">4x3</text><text font-size=\"10\" x=\"661\" y=\"219\">Nivel</text><text font-size=\"10\" x=\"638\" y=\"276\">Edicion Especial</text><text font-size=\"10\" x=\"588\" y=\"195\">Ezra Martinez</text><text font-size=\"10\" x=\"656\" y=\"172\">Mundo Suave</text><text font-size=\"10\" x=\"222\" y=\"416\">Marshmello</text><text font-size=\"10\" x=\"201\" y=\"427\">Sanam Marvi</text><text font-size=\"10\" x=\"230\" y=\"523\">Priya Saraiya</text><text font-size=\"10\" x=\"529\" y=\"360\">EXOTIC SKATES</text><text font-size=\"10\" x=\"567\" y=\"323\">Yuuri</text><text font-size=\"10\" x=\"490\" y=\"378\">iwamizu</text><text font-size=\"10\" x=\"482\" y=\"248\">Kaoru Wada</text><text font-size=\"10\" x=\"514\" y=\"386\">Kina Shouei Group</text><text font-size=\"10\" x=\"504\" y=\"250\">Rinshou Kadekaru</text><text font-size=\"10\" x=\"726\" y=\"298\">Eduardo XD</text><text font-size=\"10\" x=\"680\" y=\"415\">Kewin Cosmos</text><text font-size=\"10\" x=\"720\" y=\"289\">La Mar-K De Tierra Caliente</text><text font-size=\"10\" x=\"698\" y=\"300\">SiM</text><text font-size=\"10\" x=\"668\" y=\"419\">Jay Wheeler</text><text font-size=\"10\" x=\"718\" y=\"394\">Santa Fe Klan</text><text font-size=\"10\" x=\"706\" y=\"287\">Los Chavalos De La Perla</text><text font-size=\"10\" x=\"687\" y=\"421\">FINANCE</text><text font-size=\"10\" x=\"722\" y=\"177\">Twinuzis archive</text><text font-size=\"10\" x=\"652\" y=\"112\">KLIM</text><text font-size=\"10\" x=\"491\" y=\"52\">Hiroyuki Sawano</text><text font-size=\"10\" x=\"493\" y=\"40\">Ichiko Aoba</text><text font-size=\"10\" x=\"505\" y=\"32\">SEKAI NO OWARI</text><text font-size=\"10\" x=\"222\" y=\"181\">Soul Asylum</text><text font-size=\"10\" x=\"283\" y=\"196\">Omarion</text><text font-size=\"10\" x=\"266\" y=\"160\">Drmartinezvzla</text><text font-size=\"10\" x=\"215\" y=\"161\">Soul A</text><text font-size=\"10\" x=\"182\" y=\"229\">Cameo</text><text font-size=\"10\" x=\"220\" y=\"267\">Soul ASMR</text><text font-size=\"10\" x=\"288\" y=\"359\">Desifx</text><text font-size=\"10\" x=\"246\" y=\"398\">Guru</text><text font-size=\"10\" x=\"251\" y=\"386\">Leon Paul-Phillips</text><text font-size=\"10\" x=\"237\" y=\"261\">Happy Rattan</text><text font-size=\"10\" x=\"364\" y=\"458\">Zach Bryan</text><text font-size=\"10\" x=\"233\" y=\"177\">LiSA</text><text font-size=\"10\" x=\"149\" y=\"248\">Slushii</text><text font-size=\"10\" x=\"257\" y=\"309\">Toni Braxton</text><text font-size=\"10\" x=\"305\" y=\"209\">Babyface</text><text font-size=\"10\" x=\"306\" y=\"353\">$NOT</text><text font-size=\"10\" x=\"60\" y=\"223\">Vektor</text><text font-size=\"10\" x=\"72\" y=\"215\">Vector of Underground</text><text font-size=\"10\" x=\"87\" y=\"212\">Vector</text><text font-size=\"10\" x=\"95\" y=\"335\">Yoko Shimomura</text><text font-size=\"10\" x=\"136\" y=\"265\">Yahritza Y Su Esencia</text><text font-size=\"10\" x=\"462\" y=\"334\">Mike WiLL Made-It</text><text font-size=\"10\" x=\"632\" y=\"214\">LaTorre</text><text font-size=\"10\" x=\"626\" y=\"115\">Mikel Ovalle</text><text font-size=\"10\" x=\"677\" y=\"157\">MIEL</text><text font-size=\"10\" x=\"550\" y=\"137\">Mikel Erentxun</text><text font-size=\"10\" x=\"636\" y=\"299\">Vargas de Tecalitlan</text><text font-size=\"10\" x=\"629\" y=\"312\">Pedro Infante y la Rondalla del Amor de Saltillo</text><text font-size=\"10\" x=\"588\" y=\"177\">PEDRO SAMPAIO</text><text font-size=\"10\" x=\"596\" y=\"171\">Pedrina</text><text font-size=\"10\" x=\"663\" y=\"199\">Mc Livinho</text><text font-size=\"10\" x=\"198\" y=\"335\">Christian Nodal</text><text font-size=\"10\" x=\"261\" y=\"432\">Carin Leon</text><text font-size=\"10\" x=\"597\" y=\"212\">Night Tempo</text></svg>"
      ],
      "text/plain": [
       "<IPython.core.display.SVG object>"
      ]
     },
     "execution_count": 6,
     "metadata": {},
     "output_type": "execute_result"
    }
   ],
   "source": [
    "# this is network analysis network without labels\n",
    "\n",
    "draw_graph(G, node_size=3, show_names=True, edge_width=0.3)"
   ]
  },
  {
   "cell_type": "markdown",
   "id": "10aa2232",
   "metadata": {},
   "source": [
    "# Egocentric Network Analysis\n",
    "\n",
    "As the above visualization shows, this is a complex network. For knowledge discovery, we should use Egocentric Network Analysis to \"zoom in\" on nodes of interest. Any node can be looked at, but I am going to programmatically do this, in this notebook, showing only the top twenty nodes, according to page rank."
   ]
  },
  {
   "cell_type": "markdown",
   "id": "0dcf1d59",
   "metadata": {},
   "source": [
    "# PageRank - Identify Nodes of Interest"
   ]
  },
  {
   "cell_type": "code",
   "execution_count": 7,
   "id": "42fbb411",
   "metadata": {},
   "outputs": [
    {
     "data": {
      "text/html": [
       "<div>\n",
       "<style scoped>\n",
       "    .dataframe tbody tr th:only-of-type {\n",
       "        vertical-align: middle;\n",
       "    }\n",
       "\n",
       "    .dataframe tbody tr th {\n",
       "        vertical-align: top;\n",
       "    }\n",
       "\n",
       "    .dataframe thead th {\n",
       "        text-align: right;\n",
       "    }\n",
       "</style>\n",
       "<table border=\"1\" class=\"dataframe\">\n",
       "  <thead>\n",
       "    <tr style=\"text-align: right;\">\n",
       "      <th></th>\n",
       "      <th>page_rank</th>\n",
       "    </tr>\n",
       "  </thead>\n",
       "  <tbody>\n",
       "    <tr>\n",
       "      <th>Perfeccion</th>\n",
       "      <td>0.022979</td>\n",
       "    </tr>\n",
       "    <tr>\n",
       "      <th>Achichiba</th>\n",
       "      <td>0.020685</td>\n",
       "    </tr>\n",
       "    <tr>\n",
       "      <th>Ifeoma</th>\n",
       "      <td>0.018887</td>\n",
       "    </tr>\n",
       "    <tr>\n",
       "      <th>SIM-CEE</th>\n",
       "      <td>0.018747</td>\n",
       "    </tr>\n",
       "    <tr>\n",
       "      <th>OsMan</th>\n",
       "      <td>0.018253</td>\n",
       "    </tr>\n",
       "    <tr>\n",
       "      <th>Matoma</th>\n",
       "      <td>0.017006</td>\n",
       "    </tr>\n",
       "    <tr>\n",
       "      <th>Sadao China</th>\n",
       "      <td>0.016195</td>\n",
       "    </tr>\n",
       "    <tr>\n",
       "      <th>Rinsho Kadekaru</th>\n",
       "      <td>0.015566</td>\n",
       "    </tr>\n",
       "    <tr>\n",
       "      <th>Soul Armoniko</th>\n",
       "      <td>0.014785</td>\n",
       "    </tr>\n",
       "    <tr>\n",
       "      <th>angela</th>\n",
       "      <td>0.014048</td>\n",
       "    </tr>\n",
       "  </tbody>\n",
       "</table>\n",
       "</div>"
      ],
      "text/plain": [
       "                 page_rank\n",
       "Perfeccion        0.022979\n",
       "Achichiba         0.020685\n",
       "Ifeoma            0.018887\n",
       "SIM-CEE           0.018747\n",
       "OsMan             0.018253\n",
       "Matoma            0.017006\n",
       "Sadao China       0.016195\n",
       "Rinsho Kadekaru   0.015566\n",
       "Soul Armoniko     0.014785\n",
       "angela            0.014048"
      ]
     },
     "execution_count": 7,
     "metadata": {},
     "output_type": "execute_result"
    }
   ],
   "source": [
    "page_rank = nx.pagerank(G)\n",
    "\n",
    "pr_df = pd.DataFrame().from_dict(page_rank, orient='index')\n",
    "pr_df.columns = ['page_rank']\n",
    "pr_df.sort_values('page_rank', ascending=False, inplace=True)\n",
    "pr_df.head(10)"
   ]
  },
  {
   "cell_type": "code",
   "execution_count": 8,
   "id": "71a59549",
   "metadata": {},
   "outputs": [
    {
     "data": {
      "image/png": "[encoded data removed]",
      "text/plain": [
       "<Figure size 864x576 with 1 Axes>"
      ]
     },
     "metadata": {
      "needs_background": "light"
     },
     "output_type": "display_data"
    }
   ],
   "source": [
    "title = 'Important Artists by PageRank'\n",
    "\n",
    "pr_df.head(20).plot.barh(figsize=(12,8), title=title).invert_yaxis()"
   ]
  },
  {
   "cell_type": "markdown",
   "id": "3565f936",
   "metadata": {},
   "source": [
    "# Egocentric Network Analysis\n",
    "Next, let's look at the Ego Graphs for each of the top ten characters found by PageRank. Before visualizing and inspecting the Ego Graphs, let's create a Python list so that we can more easily look through them without explicitely typing their names."
   ]
  },
  {
   "cell_type": "code",
   "execution_count": 9,
   "id": "9d823af1",
   "metadata": {},
   "outputs": [],
   "source": [
    "top_nodes = pr_df.head(20).index.values"
   ]
  },
  {
   "cell_type": "code",
   "execution_count": 10,
   "id": "662a98f3",
   "metadata": {},
   "outputs": [
    {
     "data": {
      "text/plain": [
       "'Perfeccion'"
      ]
     },
     "execution_count": 10,
     "metadata": {},
     "output_type": "execute_result"
    }
   ],
   "source": [
    "top_nodes[0]"
   ]
  },
  {
   "cell_type": "markdown",
   "id": "6ecf99c7",
   "metadata": {},
   "source": [
    "Now we are all set to start looking through them, in order of importance."
   ]
  },
  {
   "cell_type": "markdown",
   "id": "290bcf1a",
   "metadata": {},
   "source": [
    "## Top Node Ego Networks\n",
    "Unlike last time, I am not going to drop the center node or write about findings. This is purely discovery. Remember two things:\n",
    "- The center node is known as the 'ego' node. It is the node being looked up.\n",
    "- The other nodes are known as 'alter' nodes. They are connected to the ego node, and sometimes with each other.\n",
    "\n",
    "Pay close attention to the alter nodes that link to other alter nodes. These are interesting relationships, and you can see subcommunities in the ego network. Think about what you are seeing. What does this tell you?"
   ]
  },
  {
   "cell_type": "code",
   "execution_count": 11,
   "id": "863ca7a1",
   "metadata": {},
   "outputs": [
    {
     "data": {
      "image/svg+xml": [
       "<svg height=\"540\" width=\"845.0\" xmlns=\"http://www.w3.org/2000/svg\"><path d=\"M 357 423 515 342\" stroke=\"gray\" stroke-width=\"0.3\"/><path d=\"M 583 208 515 342\" stroke=\"gray\" stroke-width=\"0.3\"/><path d=\"M 446 444 515 342\" stroke=\"gray\" stroke-width=\"0.3\"/><path d=\"M 515 342 357 423\" stroke=\"gray\" stroke-width=\"0.3\"/><path d=\"M 515 342 583 208\" stroke=\"gray\" stroke-width=\"0.3\"/><path d=\"M 515 342 446 444\" stroke=\"gray\" stroke-width=\"0.3\"/><path d=\"M 515 342 497 520\" stroke=\"gray\" stroke-width=\"0.3\"/><path d=\"M 515 342 677 246\" stroke=\"gray\" stroke-width=\"0.3\"/><path d=\"M 515 342 573 473\" stroke=\"gray\" stroke-width=\"0.3\"/><path d=\"M 515 342 432 269\" stroke=\"gray\" stroke-width=\"0.3\"/><path d=\"M 515 342 697 394\" stroke=\"gray\" stroke-width=\"0.3\"/><path d=\"M 515 342 664 471\" stroke=\"gray\" stroke-width=\"0.3\"/><path d=\"M 515 342 212 170\" stroke=\"gray\" stroke-width=\"0.3\"/><path d=\"M 515 342 720 319\" stroke=\"gray\" stroke-width=\"0.3\"/><path d=\"M 497 520 515 342\" stroke=\"gray\" stroke-width=\"0.3\"/><path d=\"M 95 40 212 170\" stroke=\"gray\" stroke-width=\"0.3\"/><path d=\"M 677 246 515 342\" stroke=\"gray\" stroke-width=\"0.3\"/><path d=\"M 77 263 212 170\" stroke=\"gray\" stroke-width=\"0.3\"/><path d=\"M 573 473 515 342\" stroke=\"gray\" stroke-width=\"0.3\"/><path d=\"M 432 269 515 342\" stroke=\"gray\" stroke-width=\"0.3\"/><path d=\"M 697 394 515 342\" stroke=\"gray\" stroke-width=\"0.3\"/><path d=\"M 193 20 212 170\" stroke=\"gray\" stroke-width=\"0.3\"/><path d=\"M 664 471 515 342\" stroke=\"gray\" stroke-width=\"0.3\"/><path d=\"M 20 188 212 170\" stroke=\"gray\" stroke-width=\"0.3\"/><path d=\"M 212 170 515 342\" stroke=\"gray\" stroke-width=\"0.3\"/><path d=\"M 212 170 95 40\" stroke=\"gray\" stroke-width=\"0.3\"/><path d=\"M 212 170 77 263\" stroke=\"gray\" stroke-width=\"0.3\"/><path d=\"M 212 170 193 20\" stroke=\"gray\" stroke-width=\"0.3\"/><path d=\"M 212 170 20 188\" stroke=\"gray\" stroke-width=\"0.3\"/><path d=\"M 212 170 37 106\" stroke=\"gray\" stroke-width=\"0.3\"/><path d=\"M 212 170 290 51\" stroke=\"gray\" stroke-width=\"0.3\"/><path d=\"M 37 106 212 170\" stroke=\"gray\" stroke-width=\"0.3\"/><path d=\"M 290 51 212 170\" stroke=\"gray\" stroke-width=\"0.3\"/><path d=\"M 720 319 515 342\" stroke=\"gray\" stroke-width=\"0.3\"/><circle cx=\"357\" cy=\"423\" r=\"3.0\" style=\"fill:rgb(58, 76, 192);stroke:black;stroke-width:1.0\"/><circle cx=\"583\" cy=\"208\" r=\"3.0\" style=\"fill:rgb(58, 76, 192);stroke:black;stroke-width:1.0\"/><circle cx=\"446\" cy=\"444\" r=\"3.0\" style=\"fill:rgb(58, 76, 192);stroke:black;stroke-width:1.0\"/><circle cx=\"515\" cy=\"342\" r=\"3.0\" style=\"fill:rgb(179, 3, 38);stroke:black;stroke-width:1.0\"/><circle cx=\"497\" cy=\"520\" r=\"3.0\" style=\"fill:rgb(58, 76, 192);stroke:black;stroke-width:1.0\"/><circle cx=\"95\" cy=\"40\" r=\"3.0\" style=\"fill:rgb(58, 76, 192);stroke:black;stroke-width:1.0\"/><circle cx=\"677\" cy=\"246\" r=\"3.0\" style=\"fill:rgb(58, 76, 192);stroke:black;stroke-width:1.0\"/><circle cx=\"77\" cy=\"263\" r=\"3.0\" style=\"fill:rgb(58, 76, 192);stroke:black;stroke-width:1.0\"/><circle cx=\"573\" cy=\"473\" r=\"3.0\" style=\"fill:rgb(58, 76, 192);stroke:black;stroke-width:1.0\"/><circle cx=\"432\" cy=\"269\" r=\"3.0\" style=\"fill:rgb(58, 76, 192);stroke:black;stroke-width:1.0\"/><circle cx=\"697\" cy=\"394\" r=\"3.0\" style=\"fill:rgb(58, 76, 192);stroke:black;stroke-width:1.0\"/><circle cx=\"193\" cy=\"20\" r=\"3.0\" style=\"fill:rgb(58, 76, 192);stroke:black;stroke-width:1.0\"/><circle cx=\"664\" cy=\"471\" r=\"3.0\" style=\"fill:rgb(58, 76, 192);stroke:black;stroke-width:1.0\"/><circle cx=\"20\" cy=\"188\" r=\"3.0\" style=\"fill:rgb(58, 76, 192);stroke:black;stroke-width:1.0\"/><circle cx=\"212\" cy=\"170\" r=\"3.0\" style=\"fill:rgb(246, 189, 164);stroke:black;stroke-width:1.0\"/><circle cx=\"37\" cy=\"106\" r=\"3.0\" style=\"fill:rgb(58, 76, 192);stroke:black;stroke-width:1.0\"/><circle cx=\"290\" cy=\"51\" r=\"3.0\" style=\"fill:rgb(58, 76, 192);stroke:black;stroke-width:1.0\"/><circle cx=\"720\" cy=\"319\" r=\"3.0\" style=\"fill:rgb(58, 76, 192);stroke:black;stroke-width:1.0\"/><text font-size=\"10\" x=\"363\" y=\"426\">mario.da.man</text><text font-size=\"10\" x=\"589\" y=\"211\">Baltorino Beats</text><text font-size=\"10\" x=\"452\" y=\"447\">Juli Savioli</text><text font-size=\"10\" x=\"521\" y=\"345\">Perfeccion</text><text font-size=\"10\" x=\"503\" y=\"523\">Alameños de la Sierra</text><text font-size=\"10\" x=\"101\" y=\"43\">Freeman HKD</text><text font-size=\"10\" x=\"683\" y=\"249\">Edicion Especial</text><text font-size=\"10\" x=\"83\" y=\"266\">Onolyriks</text><text font-size=\"10\" x=\"579\" y=\"476\">Ezra Martinez</text><text font-size=\"10\" x=\"438\" y=\"272\">Calibre 50</text><text font-size=\"10\" x=\"703\" y=\"397\">4x3</text><text font-size=\"10\" x=\"199\" y=\"23\">ayaka</text><text font-size=\"10\" x=\"670\" y=\"474\">Nivel</text><text font-size=\"10\" x=\"26\" y=\"191\">Soul Armoniko</text><text font-size=\"10\" x=\"218\" y=\"173\">Chimuanya</text><text font-size=\"10\" x=\"43\" y=\"109\">Emmasings</text><text font-size=\"10\" x=\"296\" y=\"54\">Ifeoma</text><text font-size=\"10\" x=\"726\" y=\"322\">Mundo Suave</text></svg>"
      ],
      "text/plain": [
       "<IPython.core.display.SVG object>"
      ]
     },
     "execution_count": 11,
     "metadata": {},
     "output_type": "execute_result"
    }
   ],
   "source": [
    "ego = top_nodes[0]\n",
    "\n",
    "G_ego = nx.ego_graph(G, ego, radius=2)\n",
    "\n",
    "draw_graph(G_ego, show_names=True, node_size=3, edge_width=0.3)"
   ]
  },
  {
   "cell_type": "code",
   "execution_count": 12,
   "id": "32fcd7b3",
   "metadata": {},
   "outputs": [
    {
     "data": {
      "text/plain": [
       "['4x3',\n",
       " 'Alameños de la Sierra',\n",
       " 'Baltorino Beats',\n",
       " 'Calibre 50',\n",
       " 'Chimuanya',\n",
       " 'Edicion Especial',\n",
       " 'Emmasings',\n",
       " 'Ezra Martinez',\n",
       " 'Freeman HKD',\n",
       " 'Ifeoma',\n",
       " 'Juli Savioli',\n",
       " 'Mundo Suave',\n",
       " 'Nivel',\n",
       " 'Onolyriks',\n",
       " 'Perfeccion',\n",
       " 'Soul Armoniko',\n",
       " 'ayaka',\n",
       " 'mario.da.man']"
      ]
     },
     "execution_count": 12,
     "metadata": {},
     "output_type": "execute_result"
    }
   ],
   "source": [
    "# you can look at the nodes in the ego network this way, to find interesting topics\n",
    "\n",
    "nodes = sorted(G_ego.nodes)\n",
    "nodes"
   ]
  },
  {
   "cell_type": "code",
   "execution_count": 13,
   "id": "025314b1",
   "metadata": {},
   "outputs": [
    {
     "data": {
      "image/svg+xml": [
       "<svg height=\"540\" width=\"810.0\" xmlns=\"http://www.w3.org/2000/svg\"><path d=\"M 283 520 381 267\" stroke=\"gray\" stroke-width=\"0.3\"/><path d=\"M 503 512 381 267\" stroke=\"gray\" stroke-width=\"0.3\"/><path d=\"M 243 39 381 267\" stroke=\"gray\" stroke-width=\"0.3\"/><path d=\"M 381 267 283 520\" stroke=\"gray\" stroke-width=\"0.3\"/><path d=\"M 381 267 503 512\" stroke=\"gray\" stroke-width=\"0.3\"/><path d=\"M 381 267 243 39\" stroke=\"gray\" stroke-width=\"0.3\"/><path d=\"M 381 267 720 253\" stroke=\"gray\" stroke-width=\"0.3\"/><path d=\"M 381 267 672 409\" stroke=\"gray\" stroke-width=\"0.3\"/><path d=\"M 381 267 637 106\" stroke=\"gray\" stroke-width=\"0.3\"/><path d=\"M 381 267 98 434\" stroke=\"gray\" stroke-width=\"0.3\"/><path d=\"M 381 267 20 287\" stroke=\"gray\" stroke-width=\"0.3\"/><path d=\"M 381 267 455 20\" stroke=\"gray\" stroke-width=\"0.3\"/><path d=\"M 381 267 77 136\" stroke=\"gray\" stroke-width=\"0.3\"/><path d=\"M 720 253 381 267\" stroke=\"gray\" stroke-width=\"0.3\"/><path d=\"M 672 409 381 267\" stroke=\"gray\" stroke-width=\"0.3\"/><path d=\"M 637 106 381 267\" stroke=\"gray\" stroke-width=\"0.3\"/><path d=\"M 98 434 381 267\" stroke=\"gray\" stroke-width=\"0.3\"/><path d=\"M 20 287 381 267\" stroke=\"gray\" stroke-width=\"0.3\"/><path d=\"M 455 20 381 267\" stroke=\"gray\" stroke-width=\"0.3\"/><path d=\"M 77 136 381 267\" stroke=\"gray\" stroke-width=\"0.3\"/><circle cx=\"283\" cy=\"520\" r=\"3.0\" style=\"fill:rgb(58, 76, 192);stroke:black;stroke-width:1.0\"/><circle cx=\"503\" cy=\"512\" r=\"3.0\" style=\"fill:rgb(58, 76, 192);stroke:black;stroke-width:1.0\"/><circle cx=\"243\" cy=\"39\" r=\"3.0\" style=\"fill:rgb(58, 76, 192);stroke:black;stroke-width:1.0\"/><circle cx=\"381\" cy=\"267\" r=\"3.0\" style=\"fill:rgb(179, 3, 38);stroke:black;stroke-width:1.0\"/><circle cx=\"720\" cy=\"253\" r=\"3.0\" style=\"fill:rgb(58, 76, 192);stroke:black;stroke-width:1.0\"/><circle cx=\"672\" cy=\"409\" r=\"3.0\" style=\"fill:rgb(58, 76, 192);stroke:black;stroke-width:1.0\"/><circle cx=\"637\" cy=\"106\" r=\"3.0\" style=\"fill:rgb(58, 76, 192);stroke:black;stroke-width:1.0\"/><circle cx=\"98\" cy=\"434\" r=\"3.0\" style=\"fill:rgb(58, 76, 192);stroke:black;stroke-width:1.0\"/><circle cx=\"20\" cy=\"287\" r=\"3.0\" style=\"fill:rgb(58, 76, 192);stroke:black;stroke-width:1.0\"/><circle cx=\"455\" cy=\"20\" r=\"3.0\" style=\"fill:rgb(58, 76, 192);stroke:black;stroke-width:1.0\"/><circle cx=\"77\" cy=\"136\" r=\"3.0\" style=\"fill:rgb(58, 76, 192);stroke:black;stroke-width:1.0\"/><text font-size=\"10\" x=\"289\" y=\"523\">Udit Narayan</text><text font-size=\"10\" x=\"509\" y=\"515\">Khaled</text><text font-size=\"10\" x=\"249\" y=\"42\">Lone Tusker</text><text font-size=\"10\" x=\"387\" y=\"270\">Achichiba</text><text font-size=\"10\" x=\"726\" y=\"256\">Ahmed Alshaiba</text><text font-size=\"10\" x=\"678\" y=\"412\">Wael Jassar</text><text font-size=\"10\" x=\"643\" y=\"109\">Rassim Touffah</text><text font-size=\"10\" x=\"104\" y=\"437\">MD DJ</text><text font-size=\"10\" x=\"26\" y=\"290\">Tamrat Desta</text><text font-size=\"10\" x=\"461\" y=\"23\">Didi B</text><text font-size=\"10\" x=\"83\" y=\"139\">angela</text></svg>"
      ],
      "text/plain": [
       "<IPython.core.display.SVG object>"
      ]
     },
     "execution_count": 13,
     "metadata": {},
     "output_type": "execute_result"
    }
   ],
   "source": [
    "ego = top_nodes[1]\n",
    "\n",
    "G_ego = nx.ego_graph(G, ego)\n",
    "\n",
    "draw_graph(G_ego, show_names=True, node_size=3, edge_width=0.3)"
   ]
  },
  {
   "cell_type": "code",
   "execution_count": 14,
   "id": "62f53797",
   "metadata": {},
   "outputs": [
    {
     "data": {
      "image/svg+xml": [
       "<svg height=\"540\" width=\"800.0\" xmlns=\"http://www.w3.org/2000/svg\"><path d=\"M 543 494 378 277\" stroke=\"gray\" stroke-width=\"0.3\"/><path d=\"M 570 64 378 277\" stroke=\"gray\" stroke-width=\"0.3\"/><path d=\"M 87 426 378 277\" stroke=\"gray\" stroke-width=\"0.3\"/><path d=\"M 720 199 378 277\" stroke=\"gray\" stroke-width=\"0.3\"/><path d=\"M 20 257 378 277\" stroke=\"gray\" stroke-width=\"0.3\"/><path d=\"M 119 96 378 277\" stroke=\"gray\" stroke-width=\"0.3\"/><path d=\"M 338 20 378 277\" stroke=\"gray\" stroke-width=\"0.3\"/><path d=\"M 297 520 378 277\" stroke=\"gray\" stroke-width=\"0.3\"/><path d=\"M 710 369 378 277\" stroke=\"gray\" stroke-width=\"0.3\"/><path d=\"M 378 277 543 494\" stroke=\"gray\" stroke-width=\"0.3\"/><path d=\"M 378 277 570 64\" stroke=\"gray\" stroke-width=\"0.3\"/><path d=\"M 378 277 87 426\" stroke=\"gray\" stroke-width=\"0.3\"/><path d=\"M 378 277 720 199\" stroke=\"gray\" stroke-width=\"0.3\"/><path d=\"M 378 277 20 257\" stroke=\"gray\" stroke-width=\"0.3\"/><path d=\"M 378 277 119 96\" stroke=\"gray\" stroke-width=\"0.3\"/><path d=\"M 378 277 338 20\" stroke=\"gray\" stroke-width=\"0.3\"/><path d=\"M 378 277 297 520\" stroke=\"gray\" stroke-width=\"0.3\"/><path d=\"M 378 277 710 369\" stroke=\"gray\" stroke-width=\"0.3\"/><circle cx=\"543\" cy=\"494\" r=\"3.0\" style=\"fill:rgb(58, 76, 192);stroke:black;stroke-width:1.0\"/><circle cx=\"570\" cy=\"64\" r=\"3.0\" style=\"fill:rgb(58, 76, 192);stroke:black;stroke-width:1.0\"/><circle cx=\"87\" cy=\"426\" r=\"3.0\" style=\"fill:rgb(58, 76, 192);stroke:black;stroke-width:1.0\"/><circle cx=\"720\" cy=\"199\" r=\"3.0\" style=\"fill:rgb(58, 76, 192);stroke:black;stroke-width:1.0\"/><circle cx=\"20\" cy=\"257\" r=\"3.0\" style=\"fill:rgb(58, 76, 192);stroke:black;stroke-width:1.0\"/><circle cx=\"119\" cy=\"96\" r=\"3.0\" style=\"fill:rgb(58, 76, 192);stroke:black;stroke-width:1.0\"/><circle cx=\"338\" cy=\"20\" r=\"3.0\" style=\"fill:rgb(58, 76, 192);stroke:black;stroke-width:1.0\"/><circle cx=\"297\" cy=\"520\" r=\"3.0\" style=\"fill:rgb(58, 76, 192);stroke:black;stroke-width:1.0\"/><circle cx=\"710\" cy=\"369\" r=\"3.0\" style=\"fill:rgb(58, 76, 192);stroke:black;stroke-width:1.0\"/><circle cx=\"378\" cy=\"277\" r=\"3.0\" style=\"fill:rgb(179, 3, 38);stroke:black;stroke-width:1.0\"/><text font-size=\"10\" x=\"549\" y=\"497\">Sheddy Rhmx</text><text font-size=\"10\" x=\"576\" y=\"67\">DJ Sean K</text><text font-size=\"10\" x=\"93\" y=\"429\">Jephy Jay</text><text font-size=\"10\" x=\"726\" y=\"202\">Marcy WTF</text><text font-size=\"10\" x=\"26\" y=\"260\">Tzarboy</text><text font-size=\"10\" x=\"125\" y=\"99\">Apolosi B</text><text font-size=\"10\" x=\"344\" y=\"23\">Umu Obiligbo</text><text font-size=\"10\" x=\"303\" y=\"523\">Chimuanya</text><text font-size=\"10\" x=\"716\" y=\"372\">P-Square</text><text font-size=\"10\" x=\"384\" y=\"280\">Ifeoma</text></svg>"
      ],
      "text/plain": [
       "<IPython.core.display.SVG object>"
      ]
     },
     "execution_count": 14,
     "metadata": {},
     "output_type": "execute_result"
    }
   ],
   "source": [
    "ego = top_nodes[2]\n",
    "\n",
    "G_ego = nx.ego_graph(G, ego)\n",
    "\n",
    "draw_graph(G_ego, show_names=True, node_size=3, edge_width=0.3)"
   ]
  },
  {
   "cell_type": "code",
   "execution_count": 15,
   "id": "4c56a973",
   "metadata": {},
   "outputs": [
    {
     "data": {
      "image/svg+xml": [
       "<svg height=\"540\" width=\"875.0\" xmlns=\"http://www.w3.org/2000/svg\"><path d=\"M 672 411 366 278\" stroke=\"gray\" stroke-width=\"0.3\"/><path d=\"M 231 512 366 278\" stroke=\"gray\" stroke-width=\"0.3\"/><path d=\"M 373 20 366 278\" stroke=\"gray\" stroke-width=\"0.3\"/><path d=\"M 602 82 366 278\" stroke=\"gray\" stroke-width=\"0.3\"/><path d=\"M 720 238 366 278\" stroke=\"gray\" stroke-width=\"0.3\"/><path d=\"M 478 520 366 278\" stroke=\"gray\" stroke-width=\"0.3\"/><path d=\"M 366 278 672 411\" stroke=\"gray\" stroke-width=\"0.3\"/><path d=\"M 366 278 231 512\" stroke=\"gray\" stroke-width=\"0.3\"/><path d=\"M 366 278 373 20\" stroke=\"gray\" stroke-width=\"0.3\"/><path d=\"M 366 278 602 82\" stroke=\"gray\" stroke-width=\"0.3\"/><path d=\"M 366 278 720 238\" stroke=\"gray\" stroke-width=\"0.3\"/><path d=\"M 366 278 478 520\" stroke=\"gray\" stroke-width=\"0.3\"/><path d=\"M 366 278 20 224\" stroke=\"gray\" stroke-width=\"0.3\"/><path d=\"M 366 278 142 75\" stroke=\"gray\" stroke-width=\"0.3\"/><path d=\"M 366 278 45 396\" stroke=\"gray\" stroke-width=\"0.3\"/><path d=\"M 20 224 366 278\" stroke=\"gray\" stroke-width=\"0.3\"/><path d=\"M 142 75 366 278\" stroke=\"gray\" stroke-width=\"0.3\"/><path d=\"M 45 396 366 278\" stroke=\"gray\" stroke-width=\"0.3\"/><circle cx=\"672\" cy=\"411\" r=\"3.0\" style=\"fill:rgb(58, 76, 192);stroke:black;stroke-width:1.0\"/><circle cx=\"231\" cy=\"512\" r=\"3.0\" style=\"fill:rgb(58, 76, 192);stroke:black;stroke-width:1.0\"/><circle cx=\"373\" cy=\"20\" r=\"3.0\" style=\"fill:rgb(58, 76, 192);stroke:black;stroke-width:1.0\"/><circle cx=\"602\" cy=\"82\" r=\"3.0\" style=\"fill:rgb(58, 76, 192);stroke:black;stroke-width:1.0\"/><circle cx=\"720\" cy=\"238\" r=\"3.0\" style=\"fill:rgb(58, 76, 192);stroke:black;stroke-width:1.0\"/><circle cx=\"478\" cy=\"520\" r=\"3.0\" style=\"fill:rgb(58, 76, 192);stroke:black;stroke-width:1.0\"/><circle cx=\"366\" cy=\"278\" r=\"3.0\" style=\"fill:rgb(179, 3, 38);stroke:black;stroke-width:1.0\"/><circle cx=\"20\" cy=\"224\" r=\"3.0\" style=\"fill:rgb(58, 76, 192);stroke:black;stroke-width:1.0\"/><circle cx=\"142\" cy=\"75\" r=\"3.0\" style=\"fill:rgb(58, 76, 192);stroke:black;stroke-width:1.0\"/><circle cx=\"45\" cy=\"396\" r=\"3.0\" style=\"fill:rgb(58, 76, 192);stroke:black;stroke-width:1.0\"/><text font-size=\"10\" x=\"678\" y=\"414\">Eduardo XD</text><text font-size=\"10\" x=\"237\" y=\"515\">Jay Wheeler</text><text font-size=\"10\" x=\"379\" y=\"23\">Los Chavalos De La Perla</text><text font-size=\"10\" x=\"608\" y=\"85\">Kewin Cosmos</text><text font-size=\"10\" x=\"726\" y=\"241\">SiM</text><text font-size=\"10\" x=\"484\" y=\"523\">La Mar-K De Tierra Caliente</text><text font-size=\"10\" x=\"372\" y=\"281\">SIM-CEE</text><text font-size=\"10\" x=\"26\" y=\"227\">FINANCE</text><text font-size=\"10\" x=\"148\" y=\"78\">Sadao China</text><text font-size=\"10\" x=\"51\" y=\"399\">Santa Fe Klan</text></svg>"
      ],
      "text/plain": [
       "<IPython.core.display.SVG object>"
      ]
     },
     "execution_count": 15,
     "metadata": {},
     "output_type": "execute_result"
    }
   ],
   "source": [
    "ego = top_nodes[3]\n",
    "\n",
    "G_ego = nx.ego_graph(G, ego)\n",
    "\n",
    "draw_graph(G_ego, show_names=True, node_size=3, edge_width=0.3)"
   ]
  },
  {
   "cell_type": "code",
   "execution_count": 16,
   "id": "7230b1b1",
   "metadata": {},
   "outputs": [
    {
     "data": {
      "image/svg+xml": [
       "<svg height=\"540\" width=\"850.0\" xmlns=\"http://www.w3.org/2000/svg\"><path d=\"M 355 257 391 520\" stroke=\"gray\" stroke-width=\"0.3\"/><path d=\"M 355 257 460 20\" stroke=\"gray\" stroke-width=\"0.3\"/><path d=\"M 355 257 720 290\" stroke=\"gray\" stroke-width=\"0.3\"/><path d=\"M 355 257 20 328\" stroke=\"gray\" stroke-width=\"0.3\"/><path d=\"M 355 257 659 120\" stroke=\"gray\" stroke-width=\"0.3\"/><path d=\"M 355 257 43 155\" stroke=\"gray\" stroke-width=\"0.3\"/><path d=\"M 355 257 613 448\" stroke=\"gray\" stroke-width=\"0.3\"/><path d=\"M 355 257 157 471\" stroke=\"gray\" stroke-width=\"0.3\"/><path d=\"M 355 257 217 34\" stroke=\"gray\" stroke-width=\"0.3\"/><path d=\"M 391 520 355 257\" stroke=\"gray\" stroke-width=\"0.3\"/><path d=\"M 460 20 355 257\" stroke=\"gray\" stroke-width=\"0.3\"/><path d=\"M 720 290 355 257\" stroke=\"gray\" stroke-width=\"0.3\"/><path d=\"M 20 328 355 257\" stroke=\"gray\" stroke-width=\"0.3\"/><path d=\"M 659 120 355 257\" stroke=\"gray\" stroke-width=\"0.3\"/><path d=\"M 43 155 355 257\" stroke=\"gray\" stroke-width=\"0.3\"/><path d=\"M 613 448 355 257\" stroke=\"gray\" stroke-width=\"0.3\"/><path d=\"M 157 471 355 257\" stroke=\"gray\" stroke-width=\"0.3\"/><path d=\"M 217 34 355 257\" stroke=\"gray\" stroke-width=\"0.3\"/><circle cx=\"355\" cy=\"257\" r=\"3.0\" style=\"fill:rgb(179, 3, 38);stroke:black;stroke-width:1.0\"/><circle cx=\"391\" cy=\"520\" r=\"3.0\" style=\"fill:rgb(58, 76, 192);stroke:black;stroke-width:1.0\"/><circle cx=\"460\" cy=\"20\" r=\"3.0\" style=\"fill:rgb(58, 76, 192);stroke:black;stroke-width:1.0\"/><circle cx=\"720\" cy=\"290\" r=\"3.0\" style=\"fill:rgb(58, 76, 192);stroke:black;stroke-width:1.0\"/><circle cx=\"20\" cy=\"328\" r=\"3.0\" style=\"fill:rgb(58, 76, 192);stroke:black;stroke-width:1.0\"/><circle cx=\"659\" cy=\"120\" r=\"3.0\" style=\"fill:rgb(58, 76, 192);stroke:black;stroke-width:1.0\"/><circle cx=\"43\" cy=\"155\" r=\"3.0\" style=\"fill:rgb(58, 76, 192);stroke:black;stroke-width:1.0\"/><circle cx=\"613\" cy=\"448\" r=\"3.0\" style=\"fill:rgb(58, 76, 192);stroke:black;stroke-width:1.0\"/><circle cx=\"157\" cy=\"471\" r=\"3.0\" style=\"fill:rgb(58, 76, 192);stroke:black;stroke-width:1.0\"/><circle cx=\"217\" cy=\"34\" r=\"3.0\" style=\"fill:rgb(58, 76, 192);stroke:black;stroke-width:1.0\"/><text font-size=\"10\" x=\"361\" y=\"260\">OsMan</text><text font-size=\"10\" x=\"397\" y=\"523\">natori</text><text font-size=\"10\" x=\"466\" y=\"23\">Amit Trivedi</text><text font-size=\"10\" x=\"726\" y=\"293\">Üst Perde</text><text font-size=\"10\" x=\"26\" y=\"331\">Shreya Ghoshal</text><text font-size=\"10\" x=\"665\" y=\"123\">Passenger 10</text><text font-size=\"10\" x=\"49\" y=\"158\">Osamuraisan</text><text font-size=\"10\" x=\"619\" y=\"451\">whaledontsleep</text><text font-size=\"10\" x=\"163\" y=\"474\">Osmani Garcia &quot;La Voz&quot;</text><text font-size=\"10\" x=\"223\" y=\"37\">MEL GRANDA</text></svg>"
      ],
      "text/plain": [
       "<IPython.core.display.SVG object>"
      ]
     },
     "execution_count": 16,
     "metadata": {},
     "output_type": "execute_result"
    }
   ],
   "source": [
    "ego = top_nodes[4]\n",
    "\n",
    "G_ego = nx.ego_graph(G, ego)\n",
    "\n",
    "draw_graph(G_ego, show_names=True, node_size=3, edge_width=0.3)"
   ]
  },
  {
   "cell_type": "code",
   "execution_count": 17,
   "id": "a0260ff0",
   "metadata": {},
   "outputs": [
    {
     "data": {
      "image/svg+xml": [
       "<svg height=\"540\" width=\"795.0\" xmlns=\"http://www.w3.org/2000/svg\"><path d=\"M 242 20 373 268\" stroke=\"gray\" stroke-width=\"0.3\"/><path d=\"M 506 520 373 268\" stroke=\"gray\" stroke-width=\"0.3\"/><path d=\"M 373 268 242 20\" stroke=\"gray\" stroke-width=\"0.3\"/><path d=\"M 373 268 506 520\" stroke=\"gray\" stroke-width=\"0.3\"/><path d=\"M 373 268 714 378\" stroke=\"gray\" stroke-width=\"0.3\"/><path d=\"M 373 268 524 28\" stroke=\"gray\" stroke-width=\"0.3\"/><path d=\"M 373 268 33 158\" stroke=\"gray\" stroke-width=\"0.3\"/><path d=\"M 373 268 20 364\" stroke=\"gray\" stroke-width=\"0.3\"/><path d=\"M 373 268 720 176\" stroke=\"gray\" stroke-width=\"0.3\"/><path d=\"M 373 268 216 515\" stroke=\"gray\" stroke-width=\"0.3\"/><path d=\"M 714 378 373 268\" stroke=\"gray\" stroke-width=\"0.3\"/><path d=\"M 524 28 373 268\" stroke=\"gray\" stroke-width=\"0.3\"/><path d=\"M 33 158 373 268\" stroke=\"gray\" stroke-width=\"0.3\"/><path d=\"M 20 364 373 268\" stroke=\"gray\" stroke-width=\"0.3\"/><path d=\"M 720 176 373 268\" stroke=\"gray\" stroke-width=\"0.3\"/><path d=\"M 216 515 373 268\" stroke=\"gray\" stroke-width=\"0.3\"/><circle cx=\"242\" cy=\"20\" r=\"3.0\" style=\"fill:rgb(58, 76, 192);stroke:black;stroke-width:1.0\"/><circle cx=\"506\" cy=\"520\" r=\"3.0\" style=\"fill:rgb(58, 76, 192);stroke:black;stroke-width:1.0\"/><circle cx=\"373\" cy=\"268\" r=\"3.0\" style=\"fill:rgb(179, 3, 38);stroke:black;stroke-width:1.0\"/><circle cx=\"714\" cy=\"378\" r=\"3.0\" style=\"fill:rgb(58, 76, 192);stroke:black;stroke-width:1.0\"/><circle cx=\"524\" cy=\"28\" r=\"3.0\" style=\"fill:rgb(58, 76, 192);stroke:black;stroke-width:1.0\"/><circle cx=\"33\" cy=\"158\" r=\"3.0\" style=\"fill:rgb(58, 76, 192);stroke:black;stroke-width:1.0\"/><circle cx=\"20\" cy=\"364\" r=\"3.0\" style=\"fill:rgb(58, 76, 192);stroke:black;stroke-width:1.0\"/><circle cx=\"720\" cy=\"176\" r=\"3.0\" style=\"fill:rgb(58, 76, 192);stroke:black;stroke-width:1.0\"/><circle cx=\"216\" cy=\"515\" r=\"3.0\" style=\"fill:rgb(58, 76, 192);stroke:black;stroke-width:1.0\"/><text font-size=\"10\" x=\"248\" y=\"23\">Beside Bed</text><text font-size=\"10\" x=\"512\" y=\"523\">Felix Jaehn</text><text font-size=\"10\" x=\"379\" y=\"271\">Matoma</text><text font-size=\"10\" x=\"720\" y=\"381\">Idan Balas</text><text font-size=\"10\" x=\"530\" y=\"31\">Coldplay</text><text font-size=\"10\" x=\"39\" y=\"161\">HRVY</text><text font-size=\"10\" x=\"26\" y=\"367\">Matooma</text><text font-size=\"10\" x=\"726\" y=\"179\">The Vamps</text><text font-size=\"10\" x=\"222\" y=\"518\">Mato</text></svg>"
      ],
      "text/plain": [
       "<IPython.core.display.SVG object>"
      ]
     },
     "execution_count": 17,
     "metadata": {},
     "output_type": "execute_result"
    }
   ],
   "source": [
    "ego = top_nodes[5]\n",
    "\n",
    "G_ego = nx.ego_graph(G, ego)\n",
    "\n",
    "draw_graph(G_ego, show_names=True, node_size=3, edge_width=0.3)"
   ]
  },
  {
   "cell_type": "code",
   "execution_count": 18,
   "id": "90dda4ba",
   "metadata": {},
   "outputs": [
    {
     "data": {
      "image/svg+xml": [
       "<svg height=\"540\" width=\"875.0\" xmlns=\"http://www.w3.org/2000/svg\"><path d=\"M 194 65 150 116\" stroke=\"gray\" stroke-width=\"0.3\"/><path d=\"M 258 520 260 423\" stroke=\"gray\" stroke-width=\"0.3\"/><path d=\"M 20 129 150 116\" stroke=\"gray\" stroke-width=\"0.3\"/><path d=\"M 372 395 367 276\" stroke=\"gray\" stroke-width=\"0.3\"/><path d=\"M 372 395 371 496\" stroke=\"gray\" stroke-width=\"0.3\"/><path d=\"M 599 396 513 415\" stroke=\"gray\" stroke-width=\"0.3\"/><path d=\"M 582 273 720 293\" stroke=\"gray\" stroke-width=\"0.3\"/><path d=\"M 582 273 367 276\" stroke=\"gray\" stroke-width=\"0.3\"/><path d=\"M 582 273 719 250\" stroke=\"gray\" stroke-width=\"0.3\"/><path d=\"M 720 293 582 273\" stroke=\"gray\" stroke-width=\"0.3\"/><path d=\"M 504 499 513 415\" stroke=\"gray\" stroke-width=\"0.3\"/><path d=\"M 44 402 190 351\" stroke=\"gray\" stroke-width=\"0.3\"/><path d=\"M 513 415 599 396\" stroke=\"gray\" stroke-width=\"0.3\"/><path d=\"M 513 415 504 499\" stroke=\"gray\" stroke-width=\"0.3\"/><path d=\"M 513 415 367 276\" stroke=\"gray\" stroke-width=\"0.3\"/><path d=\"M 513 415 358 354\" stroke=\"gray\" stroke-width=\"0.3\"/><path d=\"M 513 415 557 513\" stroke=\"gray\" stroke-width=\"0.3\"/><path d=\"M 513 415 648 425\" stroke=\"gray\" stroke-width=\"0.3\"/><path d=\"M 513 415 603 492\" stroke=\"gray\" stroke-width=\"0.3\"/><path d=\"M 513 415 640 465\" stroke=\"gray\" stroke-width=\"0.3\"/><path d=\"M 72 34 150 116\" stroke=\"gray\" stroke-width=\"0.3\"/><path d=\"M 367 276 372 395\" stroke=\"gray\" stroke-width=\"0.3\"/><path d=\"M 367 276 582 273\" stroke=\"gray\" stroke-width=\"0.3\"/><path d=\"M 367 276 513 415\" stroke=\"gray\" stroke-width=\"0.3\"/><path d=\"M 367 276 358 354\" stroke=\"gray\" stroke-width=\"0.3\"/><path d=\"M 367 276 260 423\" stroke=\"gray\" stroke-width=\"0.3\"/><path d=\"M 367 276 150 116\" stroke=\"gray\" stroke-width=\"0.3\"/><path d=\"M 367 276 370 126\" stroke=\"gray\" stroke-width=\"0.3\"/><path d=\"M 367 276 545 150\" stroke=\"gray\" stroke-width=\"0.3\"/><path d=\"M 367 276 190 351\" stroke=\"gray\" stroke-width=\"0.3\"/><path d=\"M 358 354 513 415\" stroke=\"gray\" stroke-width=\"0.3\"/><path d=\"M 358 354 367 276\" stroke=\"gray\" stroke-width=\"0.3\"/><path d=\"M 358 354 190 351\" stroke=\"gray\" stroke-width=\"0.3\"/><path d=\"M 20 91 150 116\" stroke=\"gray\" stroke-width=\"0.3\"/><path d=\"M 260 423 258 520\" stroke=\"gray\" stroke-width=\"0.3\"/><path d=\"M 260 423 367 276\" stroke=\"gray\" stroke-width=\"0.3\"/><path d=\"M 260 423 203 445\" stroke=\"gray\" stroke-width=\"0.3\"/><path d=\"M 260 423 152 459\" stroke=\"gray\" stroke-width=\"0.3\"/><path d=\"M 260 423 194 514\" stroke=\"gray\" stroke-width=\"0.3\"/><path d=\"M 52 350 190 351\" stroke=\"gray\" stroke-width=\"0.3\"/><path d=\"M 78 154 150 116\" stroke=\"gray\" stroke-width=\"0.3\"/><path d=\"M 35 58 150 116\" stroke=\"gray\" stroke-width=\"0.3\"/><path d=\"M 150 116 194 65\" stroke=\"gray\" stroke-width=\"0.3\"/><path d=\"M 150 116 20 129\" stroke=\"gray\" stroke-width=\"0.3\"/><path d=\"M 150 116 72 34\" stroke=\"gray\" stroke-width=\"0.3\"/><path d=\"M 150 116 367 276\" stroke=\"gray\" stroke-width=\"0.3\"/><path d=\"M 150 116 20 91\" stroke=\"gray\" stroke-width=\"0.3\"/><path d=\"M 150 116 78 154\" stroke=\"gray\" stroke-width=\"0.3\"/><path d=\"M 150 116 35 58\" stroke=\"gray\" stroke-width=\"0.3\"/><path d=\"M 150 116 121 20\" stroke=\"gray\" stroke-width=\"0.3\"/><path d=\"M 150 116 178 27\" stroke=\"gray\" stroke-width=\"0.3\"/><path d=\"M 203 445 260 423\" stroke=\"gray\" stroke-width=\"0.3\"/><path d=\"M 121 20 150 116\" stroke=\"gray\" stroke-width=\"0.3\"/><path d=\"M 557 513 513 415\" stroke=\"gray\" stroke-width=\"0.3\"/><path d=\"M 620 73 545 150\" stroke=\"gray\" stroke-width=\"0.3\"/><path d=\"M 559 66 545 150\" stroke=\"gray\" stroke-width=\"0.3\"/><path d=\"M 719 250 582 273\" stroke=\"gray\" stroke-width=\"0.3\"/><path d=\"M 92 407 190 351\" stroke=\"gray\" stroke-width=\"0.3\"/><path d=\"M 152 459 260 423\" stroke=\"gray\" stroke-width=\"0.3\"/><path d=\"M 194 514 260 423\" stroke=\"gray\" stroke-width=\"0.3\"/><path d=\"M 648 425 513 415\" stroke=\"gray\" stroke-width=\"0.3\"/><path d=\"M 347 32 370 126\" stroke=\"gray\" stroke-width=\"0.3\"/><path d=\"M 370 126 367 276\" stroke=\"gray\" stroke-width=\"0.3\"/><path d=\"M 370 126 347 32\" stroke=\"gray\" stroke-width=\"0.3\"/><path d=\"M 370 126 404 31\" stroke=\"gray\" stroke-width=\"0.3\"/><path d=\"M 603 492 513 415\" stroke=\"gray\" stroke-width=\"0.3\"/><path d=\"M 371 496 372 395\" stroke=\"gray\" stroke-width=\"0.3\"/><path d=\"M 545 150 367 276\" stroke=\"gray\" stroke-width=\"0.3\"/><path d=\"M 545 150 620 73\" stroke=\"gray\" stroke-width=\"0.3\"/><path d=\"M 545 150 559 66\" stroke=\"gray\" stroke-width=\"0.3\"/><path d=\"M 545 150 585 180\" stroke=\"gray\" stroke-width=\"0.3\"/><path d=\"M 545 150 668 142\" stroke=\"gray\" stroke-width=\"0.3\"/><path d=\"M 545 150 667 99\" stroke=\"gray\" stroke-width=\"0.3\"/><path d=\"M 178 27 150 116\" stroke=\"gray\" stroke-width=\"0.3\"/><path d=\"M 585 180 545 150\" stroke=\"gray\" stroke-width=\"0.3\"/><path d=\"M 668 142 545 150\" stroke=\"gray\" stroke-width=\"0.3\"/><path d=\"M 640 465 513 415\" stroke=\"gray\" stroke-width=\"0.3\"/><path d=\"M 404 31 370 126\" stroke=\"gray\" stroke-width=\"0.3\"/><path d=\"M 667 99 545 150\" stroke=\"gray\" stroke-width=\"0.3\"/><path d=\"M 190 351 44 402\" stroke=\"gray\" stroke-width=\"0.3\"/><path d=\"M 190 351 367 276\" stroke=\"gray\" stroke-width=\"0.3\"/><path d=\"M 190 351 358 354\" stroke=\"gray\" stroke-width=\"0.3\"/><path d=\"M 190 351 52 350\" stroke=\"gray\" stroke-width=\"0.3\"/><path d=\"M 190 351 92 407\" stroke=\"gray\" stroke-width=\"0.3\"/><circle cx=\"194\" cy=\"65\" r=\"3.0\" style=\"fill:rgb(60, 79, 195);stroke:black;stroke-width:1.0\"/><circle cx=\"258\" cy=\"520\" r=\"3.0\" style=\"fill:rgb(60, 79, 195);stroke:black;stroke-width:1.0\"/><circle cx=\"20\" cy=\"129\" r=\"3.0\" style=\"fill:rgb(60, 79, 195);stroke:black;stroke-width:1.0\"/><circle cx=\"372\" cy=\"395\" r=\"3.0\" style=\"fill:rgb(88, 118, 226);stroke:black;stroke-width:1.0\"/><circle cx=\"599\" cy=\"396\" r=\"3.0\" style=\"fill:rgb(58, 76, 192);stroke:black;stroke-width:1.0\"/><circle cx=\"582\" cy=\"273\" r=\"3.0\" style=\"fill:rgb(130, 165, 251);stroke:black;stroke-width:1.0\"/><circle cx=\"720\" cy=\"293\" r=\"3.0\" style=\"fill:rgb(60, 79, 195);stroke:black;stroke-width:1.0\"/><circle cx=\"504\" cy=\"499\" r=\"3.0\" style=\"fill:rgb(58, 76, 192);stroke:black;stroke-width:1.0\"/><circle cx=\"44\" cy=\"402\" r=\"3.0\" style=\"fill:rgb(58, 76, 192);stroke:black;stroke-width:1.0\"/><circle cx=\"513\" cy=\"415\" r=\"3.0\" style=\"fill:rgb(242, 145, 115);stroke:black;stroke-width:1.0\"/><circle cx=\"72\" cy=\"34\" r=\"3.0\" style=\"fill:rgb(60, 79, 195);stroke:black;stroke-width:1.0\"/><circle cx=\"367\" cy=\"276\" r=\"3.0\" style=\"fill:rgb(179, 3, 38);stroke:black;stroke-width:1.0\"/><circle cx=\"358\" cy=\"354\" r=\"3.0\" style=\"fill:rgb(123, 158, 248);stroke:black;stroke-width:1.0\"/><circle cx=\"20\" cy=\"91\" r=\"3.0\" style=\"fill:rgb(60, 79, 195);stroke:black;stroke-width:1.0\"/><circle cx=\"260\" cy=\"423\" r=\"3.0\" style=\"fill:rgb(210, 218, 231);stroke:black;stroke-width:1.0\"/><circle cx=\"52\" cy=\"350\" r=\"3.0\" style=\"fill:rgb(58, 76, 192);stroke:black;stroke-width:1.0\"/><circle cx=\"78\" cy=\"154\" r=\"3.0\" style=\"fill:rgb(60, 79, 195);stroke:black;stroke-width:1.0\"/><circle cx=\"35\" cy=\"58\" r=\"3.0\" style=\"fill:rgb(60, 79, 195);stroke:black;stroke-width:1.0\"/><circle cx=\"150\" cy=\"116\" r=\"3.0\" style=\"fill:rgb(207, 70, 61);stroke:black;stroke-width:1.0\"/><circle cx=\"203\" cy=\"445\" r=\"3.0\" style=\"fill:rgb(60, 79, 195);stroke:black;stroke-width:1.0\"/><circle cx=\"121\" cy=\"20\" r=\"3.0\" style=\"fill:rgb(60, 79, 195);stroke:black;stroke-width:1.0\"/><circle cx=\"557\" cy=\"513\" r=\"3.0\" style=\"fill:rgb(58, 76, 192);stroke:black;stroke-width:1.0\"/><circle cx=\"620\" cy=\"73\" r=\"3.0\" style=\"fill:rgb(60, 79, 195);stroke:black;stroke-width:1.0\"/><circle cx=\"559\" cy=\"66\" r=\"3.0\" style=\"fill:rgb(60, 79, 195);stroke:black;stroke-width:1.0\"/><circle cx=\"719\" cy=\"250\" r=\"3.0\" style=\"fill:rgb(60, 79, 195);stroke:black;stroke-width:1.0\"/><circle cx=\"92\" cy=\"407\" r=\"3.0\" style=\"fill:rgb(58, 76, 192);stroke:black;stroke-width:1.0\"/><circle cx=\"152\" cy=\"459\" r=\"3.0\" style=\"fill:rgb(60, 79, 195);stroke:black;stroke-width:1.0\"/><circle cx=\"194\" cy=\"514\" r=\"3.0\" style=\"fill:rgb(60, 79, 195);stroke:black;stroke-width:1.0\"/><circle cx=\"648\" cy=\"425\" r=\"3.0\" style=\"fill:rgb(58, 76, 192);stroke:black;stroke-width:1.0\"/><circle cx=\"347\" cy=\"32\" r=\"3.0\" style=\"fill:rgb(60, 79, 195);stroke:black;stroke-width:1.0\"/><circle cx=\"370\" cy=\"126\" r=\"3.0\" style=\"fill:rgb(130, 165, 251);stroke:black;stroke-width:1.0\"/><circle cx=\"603\" cy=\"492\" r=\"3.0\" style=\"fill:rgb(58, 76, 192);stroke:black;stroke-width:1.0\"/><circle cx=\"371\" cy=\"496\" r=\"3.0\" style=\"fill:rgb(60, 79, 195);stroke:black;stroke-width:1.0\"/><circle cx=\"545\" cy=\"150\" r=\"3.0\" style=\"fill:rgb(237, 207, 192);stroke:black;stroke-width:1.0\"/><circle cx=\"178\" cy=\"27\" r=\"3.0\" style=\"fill:rgb(60, 79, 195);stroke:black;stroke-width:1.0\"/><circle cx=\"585\" cy=\"180\" r=\"3.0\" style=\"fill:rgb(60, 79, 195);stroke:black;stroke-width:1.0\"/><circle cx=\"668\" cy=\"142\" r=\"3.0\" style=\"fill:rgb(60, 79, 195);stroke:black;stroke-width:1.0\"/><circle cx=\"640\" cy=\"465\" r=\"3.0\" style=\"fill:rgb(58, 76, 192);stroke:black;stroke-width:1.0\"/><circle cx=\"404\" cy=\"31\" r=\"3.0\" style=\"fill:rgb(60, 79, 195);stroke:black;stroke-width:1.0\"/><circle cx=\"667\" cy=\"99\" r=\"3.0\" style=\"fill:rgb(60, 79, 195);stroke:black;stroke-width:1.0\"/><circle cx=\"190\" cy=\"351\" r=\"3.0\" style=\"fill:rgb(199, 214, 240);stroke:black;stroke-width:1.0\"/><text font-size=\"10\" x=\"200\" y=\"68\">Eduardo XD</text><text font-size=\"10\" x=\"264\" y=\"523\">Mikel Ovalle</text><text font-size=\"10\" x=\"26\" y=\"132\">Los Chavalos De La Perla</text><text font-size=\"10\" x=\"378\" y=\"398\">泰葉</text><text font-size=\"10\" x=\"605\" y=\"399\">Kina Shouei Group</text><text font-size=\"10\" x=\"588\" y=\"276\">Sadao Watanabe</text><text font-size=\"10\" x=\"726\" y=\"296\">KLIM</text><text font-size=\"10\" x=\"510\" y=\"502\">Rinshou Kadekaru</text><text font-size=\"10\" x=\"50\" y=\"405\">Ichiko Aoba</text><text font-size=\"10\" x=\"519\" y=\"418\">Rinsho Kadekaru</text><text font-size=\"10\" x=\"78\" y=\"37\">FINANCE</text><text font-size=\"10\" x=\"373\" y=\"279\">Sadao China</text><text font-size=\"10\" x=\"364\" y=\"357\">知名定男</text><text font-size=\"10\" x=\"26\" y=\"94\">Santa Fe Klan</text><text font-size=\"10\" x=\"266\" y=\"426\">mimiel</text><text font-size=\"10\" x=\"58\" y=\"353\">Hiroyuki Sawano</text><text font-size=\"10\" x=\"84\" y=\"157\">Kewin Cosmos</text><text font-size=\"10\" x=\"41\" y=\"61\">La Mar-K De Tierra Caliente</text><text font-size=\"10\" x=\"156\" y=\"119\">SIM-CEE</text><text font-size=\"10\" x=\"209\" y=\"448\">LaTorre</text><text font-size=\"10\" x=\"127\" y=\"23\">Jay Wheeler</text><text font-size=\"10\" x=\"563\" y=\"516\">Kaoru Wada</text><text font-size=\"10\" x=\"626\" y=\"76\">WagakkiBand</text><text font-size=\"10\" x=\"565\" y=\"69\">Vivid BAD SQUAD</text><text font-size=\"10\" x=\"725\" y=\"253\">Twinuzis archive</text><text font-size=\"10\" x=\"98\" y=\"410\">SEKAI NO OWARI</text><text font-size=\"10\" x=\"158\" y=\"462\">Mikel Erentxun</text><text font-size=\"10\" x=\"200\" y=\"517\">MIEL</text><text font-size=\"10\" x=\"654\" y=\"428\">Yuuri</text><text font-size=\"10\" x=\"353\" y=\"35\">Eve</text><text font-size=\"10\" x=\"376\" y=\"129\">EVADE FROM 宇宙</text><text font-size=\"10\" x=\"609\" y=\"495\">EXOTIC SKATES</text><text font-size=\"10\" x=\"377\" y=\"499\">Night Tempo</text><text font-size=\"10\" x=\"551\" y=\"153\">Seibun Tokuhara</text><text font-size=\"10\" x=\"184\" y=\"30\">SiM</text><text font-size=\"10\" x=\"591\" y=\"183\">Taeko Onuki</text><text font-size=\"10\" x=\"674\" y=\"145\">Osamuraisan</text><text font-size=\"10\" x=\"646\" y=\"468\">iwamizu</text><text font-size=\"10\" x=\"410\" y=\"34\">removeface</text><text font-size=\"10\" x=\"673\" y=\"102\">Hideaki Tokunaga</text><text font-size=\"10\" x=\"196\" y=\"354\">Seijin Noborikawa</text></svg>"
      ],
      "text/plain": [
       "<IPython.core.display.SVG object>"
      ]
     },
     "execution_count": 18,
     "metadata": {},
     "output_type": "execute_result"
    }
   ],
   "source": [
    "ego = top_nodes[6]\n",
    "\n",
    "G_ego = nx.ego_graph(G, ego, radius=2)\n",
    "\n",
    "draw_graph(G_ego, show_names=True, node_size=3, edge_width=0.3)"
   ]
  },
  {
   "cell_type": "code",
   "execution_count": 19,
   "id": "1322b19e",
   "metadata": {},
   "outputs": [
    {
     "data": {
      "image/svg+xml": [
       "<svg height=\"540\" width=\"825.0\" xmlns=\"http://www.w3.org/2000/svg\"><path d=\"M 340 520 385 270\" stroke=\"gray\" stroke-width=\"0.3\"/><path d=\"M 436 20 385 270\" stroke=\"gray\" stroke-width=\"0.3\"/><path d=\"M 20 235 385 270\" stroke=\"gray\" stroke-width=\"0.3\"/><path d=\"M 93 422 385 270\" stroke=\"gray\" stroke-width=\"0.3\"/><path d=\"M 679 122 385 270\" stroke=\"gray\" stroke-width=\"0.3\"/><path d=\"M 385 270 340 520\" stroke=\"gray\" stroke-width=\"0.3\"/><path d=\"M 385 270 436 20\" stroke=\"gray\" stroke-width=\"0.3\"/><path d=\"M 385 270 20 235\" stroke=\"gray\" stroke-width=\"0.3\"/><path d=\"M 385 270 93 422\" stroke=\"gray\" stroke-width=\"0.3\"/><path d=\"M 385 270 679 122\" stroke=\"gray\" stroke-width=\"0.3\"/><path d=\"M 385 270 162 67\" stroke=\"gray\" stroke-width=\"0.3\"/><path d=\"M 385 270 720 334\" stroke=\"gray\" stroke-width=\"0.3\"/><path d=\"M 385 270 627 441\" stroke=\"gray\" stroke-width=\"0.3\"/><path d=\"M 162 67 385 270\" stroke=\"gray\" stroke-width=\"0.3\"/><path d=\"M 720 334 385 270\" stroke=\"gray\" stroke-width=\"0.3\"/><path d=\"M 720 334 627 441\" stroke=\"gray\" stroke-width=\"0.3\"/><path d=\"M 627 441 385 270\" stroke=\"gray\" stroke-width=\"0.3\"/><path d=\"M 627 441 720 334\" stroke=\"gray\" stroke-width=\"0.3\"/><circle cx=\"340\" cy=\"520\" r=\"3.0\" style=\"fill:rgb(58, 76, 192);stroke:black;stroke-width:1.0\"/><circle cx=\"436\" cy=\"20\" r=\"3.0\" style=\"fill:rgb(58, 76, 192);stroke:black;stroke-width:1.0\"/><circle cx=\"20\" cy=\"235\" r=\"3.0\" style=\"fill:rgb(58, 76, 192);stroke:black;stroke-width:1.0\"/><circle cx=\"93\" cy=\"422\" r=\"3.0\" style=\"fill:rgb(58, 76, 192);stroke:black;stroke-width:1.0\"/><circle cx=\"679\" cy=\"122\" r=\"3.0\" style=\"fill:rgb(58, 76, 192);stroke:black;stroke-width:1.0\"/><circle cx=\"385\" cy=\"270\" r=\"3.0\" style=\"fill:rgb(179, 3, 38);stroke:black;stroke-width:1.0\"/><circle cx=\"162\" cy=\"67\" r=\"3.0\" style=\"fill:rgb(58, 76, 192);stroke:black;stroke-width:1.0\"/><circle cx=\"720\" cy=\"334\" r=\"3.0\" style=\"fill:rgb(99, 131, 234);stroke:black;stroke-width:1.0\"/><circle cx=\"627\" cy=\"441\" r=\"3.0\" style=\"fill:rgb(99, 131, 234);stroke:black;stroke-width:1.0\"/><text font-size=\"10\" x=\"346\" y=\"523\">Yuuri</text><text font-size=\"10\" x=\"442\" y=\"23\">EXOTIC SKATES</text><text font-size=\"10\" x=\"26\" y=\"238\">Kina Shouei Group</text><text font-size=\"10\" x=\"99\" y=\"425\">Rinshou Kadekaru</text><text font-size=\"10\" x=\"685\" y=\"125\">Kaoru Wada</text><text font-size=\"10\" x=\"391\" y=\"273\">Rinsho Kadekaru</text><text font-size=\"10\" x=\"168\" y=\"70\">iwamizu</text><text font-size=\"10\" x=\"726\" y=\"337\">Sadao China</text><text font-size=\"10\" x=\"633\" y=\"444\">知名定男</text></svg>"
      ],
      "text/plain": [
       "<IPython.core.display.SVG object>"
      ]
     },
     "execution_count": 19,
     "metadata": {},
     "output_type": "execute_result"
    }
   ],
   "source": [
    "ego = top_nodes[7]\n",
    "\n",
    "G_ego = nx.ego_graph(G, ego)\n",
    "\n",
    "draw_graph(G_ego, show_names=True, node_size=3, edge_width=0.3)"
   ]
  },
  {
   "cell_type": "code",
   "execution_count": 20,
   "id": "dd7963b3",
   "metadata": {},
   "outputs": [
    {
     "data": {
      "image/svg+xml": [
       "<svg height=\"540\" width=\"810.0\" xmlns=\"http://www.w3.org/2000/svg\"><path d=\"M 720 251 350 266\" stroke=\"gray\" stroke-width=\"0.3\"/><path d=\"M 602 454 350 266\" stroke=\"gray\" stroke-width=\"0.3\"/><path d=\"M 566 61 350 266\" stroke=\"gray\" stroke-width=\"0.3\"/><path d=\"M 256 20 350 266\" stroke=\"gray\" stroke-width=\"0.3\"/><path d=\"M 350 266 720 251\" stroke=\"gray\" stroke-width=\"0.3\"/><path d=\"M 350 266 602 454\" stroke=\"gray\" stroke-width=\"0.3\"/><path d=\"M 350 266 566 61\" stroke=\"gray\" stroke-width=\"0.3\"/><path d=\"M 350 266 256 20\" stroke=\"gray\" stroke-width=\"0.3\"/><path d=\"M 350 266 20 166\" stroke=\"gray\" stroke-width=\"0.3\"/><path d=\"M 350 266 36 393\" stroke=\"gray\" stroke-width=\"0.3\"/><path d=\"M 350 266 298 520\" stroke=\"gray\" stroke-width=\"0.3\"/><path d=\"M 20 166 350 266\" stroke=\"gray\" stroke-width=\"0.3\"/><path d=\"M 36 393 350 266\" stroke=\"gray\" stroke-width=\"0.3\"/><path d=\"M 298 520 350 266\" stroke=\"gray\" stroke-width=\"0.3\"/><circle cx=\"720\" cy=\"251\" r=\"3.0\" style=\"fill:rgb(58, 76, 192);stroke:black;stroke-width:1.0\"/><circle cx=\"602\" cy=\"454\" r=\"3.0\" style=\"fill:rgb(58, 76, 192);stroke:black;stroke-width:1.0\"/><circle cx=\"566\" cy=\"61\" r=\"3.0\" style=\"fill:rgb(58, 76, 192);stroke:black;stroke-width:1.0\"/><circle cx=\"256\" cy=\"20\" r=\"3.0\" style=\"fill:rgb(58, 76, 192);stroke:black;stroke-width:1.0\"/><circle cx=\"350\" cy=\"266\" r=\"3.0\" style=\"fill:rgb(179, 3, 38);stroke:black;stroke-width:1.0\"/><circle cx=\"20\" cy=\"166\" r=\"3.0\" style=\"fill:rgb(58, 76, 192);stroke:black;stroke-width:1.0\"/><circle cx=\"36\" cy=\"393\" r=\"3.0\" style=\"fill:rgb(58, 76, 192);stroke:black;stroke-width:1.0\"/><circle cx=\"298\" cy=\"520\" r=\"3.0\" style=\"fill:rgb(58, 76, 192);stroke:black;stroke-width:1.0\"/><text font-size=\"10\" x=\"726\" y=\"254\">Soul ASMR</text><text font-size=\"10\" x=\"608\" y=\"457\">Drmartinezvzla</text><text font-size=\"10\" x=\"572\" y=\"64\">Soul Asylum</text><text font-size=\"10\" x=\"262\" y=\"23\">Cameo</text><text font-size=\"10\" x=\"356\" y=\"269\">Soul Armoniko</text><text font-size=\"10\" x=\"26\" y=\"169\">Soul A</text><text font-size=\"10\" x=\"42\" y=\"396\">Chimuanya</text><text font-size=\"10\" x=\"304\" y=\"523\">Omarion</text></svg>"
      ],
      "text/plain": [
       "<IPython.core.display.SVG object>"
      ]
     },
     "execution_count": 20,
     "metadata": {},
     "output_type": "execute_result"
    }
   ],
   "source": [
    "ego = top_nodes[8]\n",
    "\n",
    "G_ego = nx.ego_graph(G, ego)\n",
    "\n",
    "draw_graph(G_ego, show_names=True, node_size=3, edge_width=0.3)"
   ]
  },
  {
   "cell_type": "code",
   "execution_count": 21,
   "id": "6cf977b9",
   "metadata": {},
   "outputs": [
    {
     "data": {
      "image/svg+xml": [
       "<svg height=\"540\" width=\"810.0\" xmlns=\"http://www.w3.org/2000/svg\"><path d=\"M 89 435 20 305\" stroke=\"gray\" stroke-width=\"0.3\"/><path d=\"M 89 435 364 267\" stroke=\"gray\" stroke-width=\"0.3\"/><path d=\"M 400 520 364 267\" stroke=\"gray\" stroke-width=\"0.3\"/><path d=\"M 20 305 89 435\" stroke=\"gray\" stroke-width=\"0.3\"/><path d=\"M 20 305 35 167\" stroke=\"gray\" stroke-width=\"0.3\"/><path d=\"M 20 305 364 267\" stroke=\"gray\" stroke-width=\"0.3\"/><path d=\"M 35 167 20 305\" stroke=\"gray\" stroke-width=\"0.3\"/><path d=\"M 35 167 364 267\" stroke=\"gray\" stroke-width=\"0.3\"/><path d=\"M 282 20 364 267\" stroke=\"gray\" stroke-width=\"0.3\"/><path d=\"M 563 65 364 267\" stroke=\"gray\" stroke-width=\"0.3\"/><path d=\"M 658 415 364 267\" stroke=\"gray\" stroke-width=\"0.3\"/><path d=\"M 364 267 89 435\" stroke=\"gray\" stroke-width=\"0.3\"/><path d=\"M 364 267 400 520\" stroke=\"gray\" stroke-width=\"0.3\"/><path d=\"M 364 267 20 305\" stroke=\"gray\" stroke-width=\"0.3\"/><path d=\"M 364 267 35 167\" stroke=\"gray\" stroke-width=\"0.3\"/><path d=\"M 364 267 282 20\" stroke=\"gray\" stroke-width=\"0.3\"/><path d=\"M 364 267 563 65\" stroke=\"gray\" stroke-width=\"0.3\"/><path d=\"M 364 267 658 415\" stroke=\"gray\" stroke-width=\"0.3\"/><path d=\"M 364 267 720 227\" stroke=\"gray\" stroke-width=\"0.3\"/><path d=\"M 720 227 364 267\" stroke=\"gray\" stroke-width=\"0.3\"/><circle cx=\"89\" cy=\"435\" r=\"3.0\" style=\"fill:rgb(96, 128, 232);stroke:black;stroke-width:1.0\"/><circle cx=\"400\" cy=\"520\" r=\"3.0\" style=\"fill:rgb(58, 76, 192);stroke:black;stroke-width:1.0\"/><circle cx=\"20\" cy=\"305\" r=\"3.0\" style=\"fill:rgb(141, 175, 253);stroke:black;stroke-width:1.0\"/><circle cx=\"35\" cy=\"167\" r=\"3.0\" style=\"fill:rgb(96, 128, 232);stroke:black;stroke-width:1.0\"/><circle cx=\"282\" cy=\"20\" r=\"3.0\" style=\"fill:rgb(58, 76, 192);stroke:black;stroke-width:1.0\"/><circle cx=\"563\" cy=\"65\" r=\"3.0\" style=\"fill:rgb(58, 76, 192);stroke:black;stroke-width:1.0\"/><circle cx=\"658\" cy=\"415\" r=\"3.0\" style=\"fill:rgb(58, 76, 192);stroke:black;stroke-width:1.0\"/><circle cx=\"364\" cy=\"267\" r=\"3.0\" style=\"fill:rgb(179, 3, 38);stroke:black;stroke-width:1.0\"/><circle cx=\"720\" cy=\"227\" r=\"3.0\" style=\"fill:rgb(58, 76, 192);stroke:black;stroke-width:1.0\"/><text font-size=\"10\" x=\"95\" y=\"438\">Becky G</text><text font-size=\"10\" x=\"406\" y=\"523\">Los Caminantes</text><text font-size=\"10\" x=\"26\" y=\"308\">Ángela Aguilar</text><text font-size=\"10\" x=\"41\" y=\"170\">Yuridia</text><text font-size=\"10\" x=\"288\" y=\"23\">Achichiba</text><text font-size=\"10\" x=\"569\" y=\"68\">ayaka</text><text font-size=\"10\" x=\"664\" y=\"418\">Flower Face</text><text font-size=\"10\" x=\"370\" y=\"270\">angela</text><text font-size=\"10\" x=\"726\" y=\"230\">The Lumineers</text></svg>"
      ],
      "text/plain": [
       "<IPython.core.display.SVG object>"
      ]
     },
     "execution_count": 21,
     "metadata": {},
     "output_type": "execute_result"
    }
   ],
   "source": [
    "ego = top_nodes[9]\n",
    "\n",
    "G_ego = nx.ego_graph(G, ego)\n",
    "\n",
    "draw_graph(G_ego, show_names=True, node_size=3, edge_width=0.3)"
   ]
  },
  {
   "cell_type": "code",
   "execution_count": 22,
   "id": "ef7164d7",
   "metadata": {},
   "outputs": [
    {
     "data": {
      "image/svg+xml": [
       "<svg height=\"540\" width=\"795.0\" xmlns=\"http://www.w3.org/2000/svg\"><path d=\"M 20 340 371 285\" stroke=\"gray\" stroke-width=\"0.3\"/><path d=\"M 215 520 371 285\" stroke=\"gray\" stroke-width=\"0.3\"/><path d=\"M 655 121 371 285\" stroke=\"gray\" stroke-width=\"0.3\"/><path d=\"M 720 341 371 285\" stroke=\"gray\" stroke-width=\"0.3\"/><path d=\"M 525 518 371 285\" stroke=\"gray\" stroke-width=\"0.3\"/><path d=\"M 90 116 371 285\" stroke=\"gray\" stroke-width=\"0.3\"/><path d=\"M 374 20 371 285\" stroke=\"gray\" stroke-width=\"0.3\"/><path d=\"M 371 285 20 340\" stroke=\"gray\" stroke-width=\"0.3\"/><path d=\"M 371 285 215 520\" stroke=\"gray\" stroke-width=\"0.3\"/><path d=\"M 371 285 655 121\" stroke=\"gray\" stroke-width=\"0.3\"/><path d=\"M 371 285 720 341\" stroke=\"gray\" stroke-width=\"0.3\"/><path d=\"M 371 285 525 518\" stroke=\"gray\" stroke-width=\"0.3\"/><path d=\"M 371 285 90 116\" stroke=\"gray\" stroke-width=\"0.3\"/><path d=\"M 371 285 374 20\" stroke=\"gray\" stroke-width=\"0.3\"/><circle cx=\"20\" cy=\"340\" r=\"3.0\" style=\"fill:rgb(58, 76, 192);stroke:black;stroke-width:1.0\"/><circle cx=\"215\" cy=\"520\" r=\"3.0\" style=\"fill:rgb(58, 76, 192);stroke:black;stroke-width:1.0\"/><circle cx=\"655\" cy=\"121\" r=\"3.0\" style=\"fill:rgb(58, 76, 192);stroke:black;stroke-width:1.0\"/><circle cx=\"720\" cy=\"341\" r=\"3.0\" style=\"fill:rgb(58, 76, 192);stroke:black;stroke-width:1.0\"/><circle cx=\"525\" cy=\"518\" r=\"3.0\" style=\"fill:rgb(58, 76, 192);stroke:black;stroke-width:1.0\"/><circle cx=\"90\" cy=\"116\" r=\"3.0\" style=\"fill:rgb(58, 76, 192);stroke:black;stroke-width:1.0\"/><circle cx=\"374\" cy=\"20\" r=\"3.0\" style=\"fill:rgb(58, 76, 192);stroke:black;stroke-width:1.0\"/><circle cx=\"371\" cy=\"285\" r=\"3.0\" style=\"fill:rgb(179, 3, 38);stroke:black;stroke-width:1.0\"/><text font-size=\"10\" x=\"26\" y=\"343\">Torby Brand</text><text font-size=\"10\" x=\"221\" y=\"523\">Nstens1117</text><text font-size=\"10\" x=\"661\" y=\"124\">Miriamy</text><text font-size=\"10\" x=\"726\" y=\"344\">Vector U</text><text font-size=\"10\" x=\"531\" y=\"521\">ayaka</text><text font-size=\"10\" x=\"96\" y=\"119\">A-Mei Chang</text><text font-size=\"10\" x=\"380\" y=\"23\">Meychan</text><text font-size=\"10\" x=\"377\" y=\"288\">xMEIYIN</text></svg>"
      ],
      "text/plain": [
       "<IPython.core.display.SVG object>"
      ]
     },
     "execution_count": 22,
     "metadata": {},
     "output_type": "execute_result"
    }
   ],
   "source": [
    "ego = top_nodes[10]\n",
    "\n",
    "G_ego = nx.ego_graph(G, ego)\n",
    "\n",
    "draw_graph(G_ego, show_names=True, node_size=3, edge_width=0.3)"
   ]
  },
  {
   "cell_type": "code",
   "execution_count": 23,
   "id": "4eb13cf1",
   "metadata": {},
   "outputs": [
    {
     "data": {
      "image/svg+xml": [
       "<svg height=\"540\" width=\"805.0\" xmlns=\"http://www.w3.org/2000/svg\"><path d=\"M 607 461 365 265\" stroke=\"gray\" stroke-width=\"0.3\"/><path d=\"M 30 386 365 265\" stroke=\"gray\" stroke-width=\"0.3\"/><path d=\"M 558 47 365 265\" stroke=\"gray\" stroke-width=\"0.3\"/><path d=\"M 293 520 365 265\" stroke=\"gray\" stroke-width=\"0.3\"/><path d=\"M 254 20 365 265\" stroke=\"gray\" stroke-width=\"0.3\"/><path d=\"M 720 245 365 265\" stroke=\"gray\" stroke-width=\"0.3\"/><path d=\"M 365 265 607 461\" stroke=\"gray\" stroke-width=\"0.3\"/><path d=\"M 365 265 30 386\" stroke=\"gray\" stroke-width=\"0.3\"/><path d=\"M 365 265 558 47\" stroke=\"gray\" stroke-width=\"0.3\"/><path d=\"M 365 265 293 520\" stroke=\"gray\" stroke-width=\"0.3\"/><path d=\"M 365 265 254 20\" stroke=\"gray\" stroke-width=\"0.3\"/><path d=\"M 365 265 720 245\" stroke=\"gray\" stroke-width=\"0.3\"/><path d=\"M 365 265 20 169\" stroke=\"gray\" stroke-width=\"0.3\"/><path d=\"M 20 169 365 265\" stroke=\"gray\" stroke-width=\"0.3\"/><circle cx=\"607\" cy=\"461\" r=\"3.0\" style=\"fill:rgb(58, 76, 192);stroke:black;stroke-width:1.0\"/><circle cx=\"30\" cy=\"386\" r=\"3.0\" style=\"fill:rgb(58, 76, 192);stroke:black;stroke-width:1.0\"/><circle cx=\"558\" cy=\"47\" r=\"3.0\" style=\"fill:rgb(58, 76, 192);stroke:black;stroke-width:1.0\"/><circle cx=\"293\" cy=\"520\" r=\"3.0\" style=\"fill:rgb(58, 76, 192);stroke:black;stroke-width:1.0\"/><circle cx=\"254\" cy=\"20\" r=\"3.0\" style=\"fill:rgb(58, 76, 192);stroke:black;stroke-width:1.0\"/><circle cx=\"720\" cy=\"245\" r=\"3.0\" style=\"fill:rgb(58, 76, 192);stroke:black;stroke-width:1.0\"/><circle cx=\"365\" cy=\"265\" r=\"3.0\" style=\"fill:rgb(179, 3, 38);stroke:black;stroke-width:1.0\"/><circle cx=\"20\" cy=\"169\" r=\"3.0\" style=\"fill:rgb(58, 76, 192);stroke:black;stroke-width:1.0\"/><text font-size=\"10\" x=\"613\" y=\"464\">Perfeccion</text><text font-size=\"10\" x=\"36\" y=\"389\">Freeman HKD</text><text font-size=\"10\" x=\"564\" y=\"50\">Onolyriks</text><text font-size=\"10\" x=\"299\" y=\"523\">ayaka</text><text font-size=\"10\" x=\"260\" y=\"23\">Soul Armoniko</text><text font-size=\"10\" x=\"726\" y=\"248\">Emmasings</text><text font-size=\"10\" x=\"371\" y=\"268\">Chimuanya</text><text font-size=\"10\" x=\"26\" y=\"172\">Ifeoma</text></svg>"
      ],
      "text/plain": [
       "<IPython.core.display.SVG object>"
      ]
     },
     "execution_count": 23,
     "metadata": {},
     "output_type": "execute_result"
    }
   ],
   "source": [
    "ego = top_nodes[11]\n",
    "\n",
    "G_ego = nx.ego_graph(G, ego)\n",
    "\n",
    "draw_graph(G_ego, show_names=True, node_size=3, edge_width=0.3)"
   ]
  },
  {
   "cell_type": "code",
   "execution_count": 24,
   "id": "ee577df8",
   "metadata": {},
   "outputs": [
    {
     "data": {
      "image/svg+xml": [
       "<svg height=\"540\" width=\"980.0\" xmlns=\"http://www.w3.org/2000/svg\"><path d=\"M 149 486 361 269\" stroke=\"gray\" stroke-width=\"0.3\"/><path d=\"M 361 269 149 486\" stroke=\"gray\" stroke-width=\"0.3\"/><path d=\"M 361 269 20 233\" stroke=\"gray\" stroke-width=\"0.3\"/><path d=\"M 361 269 238 20\" stroke=\"gray\" stroke-width=\"0.3\"/><path d=\"M 361 269 581 58\" stroke=\"gray\" stroke-width=\"0.3\"/><path d=\"M 361 269 720 304\" stroke=\"gray\" stroke-width=\"0.3\"/><path d=\"M 361 269 507 520\" stroke=\"gray\" stroke-width=\"0.3\"/><path d=\"M 20 233 361 269\" stroke=\"gray\" stroke-width=\"0.3\"/><path d=\"M 238 20 361 269\" stroke=\"gray\" stroke-width=\"0.3\"/><path d=\"M 581 58 361 269\" stroke=\"gray\" stroke-width=\"0.3\"/><path d=\"M 720 304 361 269\" stroke=\"gray\" stroke-width=\"0.3\"/><path d=\"M 507 520 361 269\" stroke=\"gray\" stroke-width=\"0.3\"/><circle cx=\"149\" cy=\"486\" r=\"3.0\" style=\"fill:rgb(58, 76, 192);stroke:black;stroke-width:1.0\"/><circle cx=\"361\" cy=\"269\" r=\"3.0\" style=\"fill:rgb(179, 3, 38);stroke:black;stroke-width:1.0\"/><circle cx=\"20\" cy=\"233\" r=\"3.0\" style=\"fill:rgb(58, 76, 192);stroke:black;stroke-width:1.0\"/><circle cx=\"238\" cy=\"20\" r=\"3.0\" style=\"fill:rgb(58, 76, 192);stroke:black;stroke-width:1.0\"/><circle cx=\"581\" cy=\"58\" r=\"3.0\" style=\"fill:rgb(58, 76, 192);stroke:black;stroke-width:1.0\"/><circle cx=\"720\" cy=\"304\" r=\"3.0\" style=\"fill:rgb(58, 76, 192);stroke:black;stroke-width:1.0\"/><circle cx=\"507\" cy=\"520\" r=\"3.0\" style=\"fill:rgb(58, 76, 192);stroke:black;stroke-width:1.0\"/><text font-size=\"10\" x=\"155\" y=\"489\">PEDRO SAMPAIO</text><text font-size=\"10\" x=\"367\" y=\"272\">pedrolina.</text><text font-size=\"10\" x=\"26\" y=\"236\">Pedrina</text><text font-size=\"10\" x=\"244\" y=\"23\">Pedro Infante y la Rondalla del Amor de Saltillo</text><text font-size=\"10\" x=\"587\" y=\"61\">Vargas de Tecalitlan</text><text font-size=\"10\" x=\"726\" y=\"307\">Osamuraisan</text><text font-size=\"10\" x=\"513\" y=\"523\">Mc Livinho</text></svg>"
      ],
      "text/plain": [
       "<IPython.core.display.SVG object>"
      ]
     },
     "execution_count": 24,
     "metadata": {},
     "output_type": "execute_result"
    }
   ],
   "source": [
    "ego = top_nodes[12]\n",
    "\n",
    "G_ego = nx.ego_graph(G, ego)\n",
    "\n",
    "draw_graph(G_ego, show_names=True, node_size=3, edge_width=0.3)"
   ]
  },
  {
   "cell_type": "code",
   "execution_count": 25,
   "id": "ac1d528b",
   "metadata": {},
   "outputs": [
    {
     "data": {
      "image/svg+xml": [
       "<svg height=\"540\" width=\"830.0\" xmlns=\"http://www.w3.org/2000/svg\"><path d=\"M 407 20 370 269\" stroke=\"gray\" stroke-width=\"0.3\"/><path d=\"M 370 269 407 20\" stroke=\"gray\" stroke-width=\"0.3\"/><path d=\"M 370 269 720 164\" stroke=\"gray\" stroke-width=\"0.3\"/><path d=\"M 370 269 331 520\" stroke=\"gray\" stroke-width=\"0.3\"/><path d=\"M 370 269 683 416\" stroke=\"gray\" stroke-width=\"0.3\"/><path d=\"M 370 269 20 372\" stroke=\"gray\" stroke-width=\"0.3\"/><path d=\"M 370 269 58 124\" stroke=\"gray\" stroke-width=\"0.3\"/><path d=\"M 720 164 370 269\" stroke=\"gray\" stroke-width=\"0.3\"/><path d=\"M 331 520 370 269\" stroke=\"gray\" stroke-width=\"0.3\"/><path d=\"M 683 416 370 269\" stroke=\"gray\" stroke-width=\"0.3\"/><path d=\"M 20 372 370 269\" stroke=\"gray\" stroke-width=\"0.3\"/><path d=\"M 58 124 370 269\" stroke=\"gray\" stroke-width=\"0.3\"/><circle cx=\"407\" cy=\"20\" r=\"3.0\" style=\"fill:rgb(58, 76, 192);stroke:black;stroke-width:1.0\"/><circle cx=\"370\" cy=\"269\" r=\"3.0\" style=\"fill:rgb(179, 3, 38);stroke:black;stroke-width:1.0\"/><circle cx=\"720\" cy=\"164\" r=\"3.0\" style=\"fill:rgb(58, 76, 192);stroke:black;stroke-width:1.0\"/><circle cx=\"331\" cy=\"520\" r=\"3.0\" style=\"fill:rgb(58, 76, 192);stroke:black;stroke-width:1.0\"/><circle cx=\"683\" cy=\"416\" r=\"3.0\" style=\"fill:rgb(58, 76, 192);stroke:black;stroke-width:1.0\"/><circle cx=\"20\" cy=\"372\" r=\"3.0\" style=\"fill:rgb(58, 76, 192);stroke:black;stroke-width:1.0\"/><circle cx=\"58\" cy=\"124\" r=\"3.0\" style=\"fill:rgb(58, 76, 192);stroke:black;stroke-width:1.0\"/><text font-size=\"10\" x=\"413\" y=\"23\">Lilrb</text><text font-size=\"10\" x=\"376\" y=\"272\">Myaap</text><text font-size=\"10\" x=\"726\" y=\"167\">Falling In Reverse</text><text font-size=\"10\" x=\"337\" y=\"523\">Metallica</text><text font-size=\"10\" x=\"689\" y=\"419\">Escape the Fate</text><text font-size=\"10\" x=\"26\" y=\"375\">Arch Enemy</text><text font-size=\"10\" x=\"64\" y=\"127\">Donell Jones</text></svg>"
      ],
      "text/plain": [
       "<IPython.core.display.SVG object>"
      ]
     },
     "execution_count": 25,
     "metadata": {},
     "output_type": "execute_result"
    }
   ],
   "source": [
    "ego = top_nodes[13]\n",
    "\n",
    "G_ego = nx.ego_graph(G, ego)\n",
    "\n",
    "draw_graph(G_ego, show_names=True, node_size=3, edge_width=0.3)"
   ]
  },
  {
   "cell_type": "code",
   "execution_count": 26,
   "id": "e670aa2c",
   "metadata": {},
   "outputs": [
    {
     "data": {
      "image/svg+xml": [
       "<svg height=\"540\" width=\"835.0\" xmlns=\"http://www.w3.org/2000/svg\"><path d=\"M 442 378 353 359\" stroke=\"gray\" stroke-width=\"0.3\"/><path d=\"M 442 378 512 365\" stroke=\"gray\" stroke-width=\"0.3\"/><path d=\"M 610 149 551 213\" stroke=\"gray\" stroke-width=\"0.3\"/><path d=\"M 353 359 442 378\" stroke=\"gray\" stroke-width=\"0.3\"/><path d=\"M 353 359 213 245\" stroke=\"gray\" stroke-width=\"0.3\"/><path d=\"M 353 359 318 421\" stroke=\"gray\" stroke-width=\"0.3\"/><path d=\"M 353 359 276 450\" stroke=\"gray\" stroke-width=\"0.3\"/><path d=\"M 353 359 512 365\" stroke=\"gray\" stroke-width=\"0.3\"/><path d=\"M 353 359 364 431\" stroke=\"gray\" stroke-width=\"0.3\"/><path d=\"M 353 359 450 330\" stroke=\"gray\" stroke-width=\"0.3\"/><path d=\"M 639 358 687 307\" stroke=\"gray\" stroke-width=\"0.3\"/><path d=\"M 639 358 512 365\" stroke=\"gray\" stroke-width=\"0.3\"/><path d=\"M 639 358 675 419\" stroke=\"gray\" stroke-width=\"0.3\"/><path d=\"M 639 358 720 356\" stroke=\"gray\" stroke-width=\"0.3\"/><path d=\"M 639 358 624 310\" stroke=\"gray\" stroke-width=\"0.3\"/><path d=\"M 687 307 639 358\" stroke=\"gray\" stroke-width=\"0.3\"/><path d=\"M 157 277 213 245\" stroke=\"gray\" stroke-width=\"0.3\"/><path d=\"M 157 277 132 308\" stroke=\"gray\" stroke-width=\"0.3\"/><path d=\"M 390 336 409 402\" stroke=\"gray\" stroke-width=\"0.3\"/><path d=\"M 390 336 450 330\" stroke=\"gray\" stroke-width=\"0.3\"/><path d=\"M 632 179 551 213\" stroke=\"gray\" stroke-width=\"0.3\"/><path d=\"M 373 483 409 402\" stroke=\"gray\" stroke-width=\"0.3\"/><path d=\"M 86 134 142 182\" stroke=\"gray\" stroke-width=\"0.3\"/><path d=\"M 462 432 409 402\" stroke=\"gray\" stroke-width=\"0.3\"/><path d=\"M 462 432 487 512\" stroke=\"gray\" stroke-width=\"0.3\"/><path d=\"M 462 432 450 330\" stroke=\"gray\" stroke-width=\"0.3\"/><path d=\"M 213 245 353 359\" stroke=\"gray\" stroke-width=\"0.3\"/><path d=\"M 213 245 157 277\" stroke=\"gray\" stroke-width=\"0.3\"/><path d=\"M 213 245 249 102\" stroke=\"gray\" stroke-width=\"0.3\"/><path d=\"M 213 245 102 240\" stroke=\"gray\" stroke-width=\"0.3\"/><path d=\"M 213 245 142 182\" stroke=\"gray\" stroke-width=\"0.3\"/><path d=\"M 213 245 132 308\" stroke=\"gray\" stroke-width=\"0.3\"/><path d=\"M 249 102 213 245\" stroke=\"gray\" stroke-width=\"0.3\"/><path d=\"M 249 102 313 80\" stroke=\"gray\" stroke-width=\"0.3\"/><path d=\"M 249 102 301 37\" stroke=\"gray\" stroke-width=\"0.3\"/><path d=\"M 249 102 251 20\" stroke=\"gray\" stroke-width=\"0.3\"/><path d=\"M 249 102 205 43\" stroke=\"gray\" stroke-width=\"0.3\"/><path d=\"M 249 102 259 53\" stroke=\"gray\" stroke-width=\"0.3\"/><path d=\"M 318 421 353 359\" stroke=\"gray\" stroke-width=\"0.3\"/><path d=\"M 313 80 249 102\" stroke=\"gray\" stroke-width=\"0.3\"/><path d=\"M 276 450 353 359\" stroke=\"gray\" stroke-width=\"0.3\"/><path d=\"M 276 450 230 520\" stroke=\"gray\" stroke-width=\"0.3\"/><path d=\"M 409 402 390 336\" stroke=\"gray\" stroke-width=\"0.3\"/><path d=\"M 409 402 373 483\" stroke=\"gray\" stroke-width=\"0.3\"/><path d=\"M 409 402 462 432\" stroke=\"gray\" stroke-width=\"0.3\"/><path d=\"M 409 402 412 356\" stroke=\"gray\" stroke-width=\"0.3\"/><path d=\"M 409 402 450 330\" stroke=\"gray\" stroke-width=\"0.3\"/><path d=\"M 487 512 462 432\" stroke=\"gray\" stroke-width=\"0.3\"/><path d=\"M 512 365 442 378\" stroke=\"gray\" stroke-width=\"0.3\"/><path d=\"M 512 365 353 359\" stroke=\"gray\" stroke-width=\"0.3\"/><path d=\"M 512 365 639 358\" stroke=\"gray\" stroke-width=\"0.3\"/><path d=\"M 512 365 576 414\" stroke=\"gray\" stroke-width=\"0.3\"/><path d=\"M 512 365 522 304\" stroke=\"gray\" stroke-width=\"0.3\"/><path d=\"M 512 365 578 358\" stroke=\"gray\" stroke-width=\"0.3\"/><path d=\"M 71 359 132 308\" stroke=\"gray\" stroke-width=\"0.3\"/><path d=\"M 576 414 512 365\" stroke=\"gray\" stroke-width=\"0.3\"/><path d=\"M 551 213 610 149\" stroke=\"gray\" stroke-width=\"0.3\"/><path d=\"M 551 213 632 179\" stroke=\"gray\" stroke-width=\"0.3\"/><path d=\"M 551 213 571 137\" stroke=\"gray\" stroke-width=\"0.3\"/><path d=\"M 551 213 450 330\" stroke=\"gray\" stroke-width=\"0.3\"/><path d=\"M 230 520 276 450\" stroke=\"gray\" stroke-width=\"0.3\"/><path d=\"M 412 356 409 402\" stroke=\"gray\" stroke-width=\"0.3\"/><path d=\"M 412 356 450 330\" stroke=\"gray\" stroke-width=\"0.3\"/><path d=\"M 102 240 213 245\" stroke=\"gray\" stroke-width=\"0.3\"/><path d=\"M 102 240 20 238\" stroke=\"gray\" stroke-width=\"0.3\"/><path d=\"M 20 238 102 240\" stroke=\"gray\" stroke-width=\"0.3\"/><path d=\"M 522 304 512 365\" stroke=\"gray\" stroke-width=\"0.3\"/><path d=\"M 301 37 249 102\" stroke=\"gray\" stroke-width=\"0.3\"/><path d=\"M 142 182 86 134\" stroke=\"gray\" stroke-width=\"0.3\"/><path d=\"M 142 182 213 245\" stroke=\"gray\" stroke-width=\"0.3\"/><path d=\"M 571 137 551 213\" stroke=\"gray\" stroke-width=\"0.3\"/><path d=\"M 675 419 639 358\" stroke=\"gray\" stroke-width=\"0.3\"/><path d=\"M 132 308 157 277\" stroke=\"gray\" stroke-width=\"0.3\"/><path d=\"M 132 308 213 245\" stroke=\"gray\" stroke-width=\"0.3\"/><path d=\"M 132 308 71 359\" stroke=\"gray\" stroke-width=\"0.3\"/><path d=\"M 251 20 249 102\" stroke=\"gray\" stroke-width=\"0.3\"/><path d=\"M 364 431 353 359\" stroke=\"gray\" stroke-width=\"0.3\"/><path d=\"M 205 43 249 102\" stroke=\"gray\" stroke-width=\"0.3\"/><path d=\"M 720 356 639 358\" stroke=\"gray\" stroke-width=\"0.3\"/><path d=\"M 450 330 353 359\" stroke=\"gray\" stroke-width=\"0.3\"/><path d=\"M 450 330 390 336\" stroke=\"gray\" stroke-width=\"0.3\"/><path d=\"M 450 330 462 432\" stroke=\"gray\" stroke-width=\"0.3\"/><path d=\"M 450 330 409 402\" stroke=\"gray\" stroke-width=\"0.3\"/><path d=\"M 450 330 551 213\" stroke=\"gray\" stroke-width=\"0.3\"/><path d=\"M 450 330 412 356\" stroke=\"gray\" stroke-width=\"0.3\"/><path d=\"M 624 310 639 358\" stroke=\"gray\" stroke-width=\"0.3\"/><path d=\"M 578 358 512 365\" stroke=\"gray\" stroke-width=\"0.3\"/><path d=\"M 259 53 249 102\" stroke=\"gray\" stroke-width=\"0.3\"/><circle cx=\"442\" cy=\"378\" r=\"3.0\" style=\"fill:rgb(112, 147, 243);stroke:black;stroke-width:1.0\"/><circle cx=\"610\" cy=\"149\" r=\"3.0\" style=\"fill:rgb(70, 93, 207);stroke:black;stroke-width:1.0\"/><circle cx=\"353\" cy=\"359\" r=\"3.0\" style=\"fill:rgb(179, 3, 38);stroke:black;stroke-width:1.0\"/><circle cx=\"639\" cy=\"358\" r=\"3.0\" style=\"fill:rgb(231, 117, 92);stroke:black;stroke-width:1.0\"/><circle cx=\"687\" cy=\"307\" r=\"3.0\" style=\"fill:rgb(72, 96, 209);stroke:black;stroke-width:1.0\"/><circle cx=\"157\" cy=\"277\" r=\"3.0\" style=\"fill:rgb(112, 147, 243);stroke:black;stroke-width:1.0\"/><circle cx=\"390\" cy=\"336\" r=\"3.0\" style=\"fill:rgb(99, 131, 234);stroke:black;stroke-width:1.0\"/><circle cx=\"632\" cy=\"179\" r=\"3.0\" style=\"fill:rgb(70, 93, 207);stroke:black;stroke-width:1.0\"/><circle cx=\"373\" cy=\"483\" r=\"3.0\" style=\"fill:rgb(58, 76, 192);stroke:black;stroke-width:1.0\"/><circle cx=\"86\" cy=\"134\" r=\"3.0\" style=\"fill:rgb(72, 96, 209);stroke:black;stroke-width:1.0\"/><circle cx=\"462\" cy=\"432\" r=\"3.0\" style=\"fill:rgb(163, 193, 254);stroke:black;stroke-width:1.0\"/><circle cx=\"213\" cy=\"245\" r=\"3.0\" style=\"fill:rgb(205, 66, 58);stroke:black;stroke-width:1.0\"/><circle cx=\"249\" cy=\"102\" r=\"3.0\" style=\"fill:rgb(190, 35, 45);stroke:black;stroke-width:1.0\"/><circle cx=\"318\" cy=\"421\" r=\"3.0\" style=\"fill:rgb(60, 79, 195);stroke:black;stroke-width:1.0\"/><circle cx=\"313\" cy=\"80\" r=\"3.0\" style=\"fill:rgb(72, 96, 209);stroke:black;stroke-width:1.0\"/><circle cx=\"276\" cy=\"450\" r=\"3.0\" style=\"fill:rgb(130, 165, 251);stroke:black;stroke-width:1.0\"/><circle cx=\"409\" cy=\"402\" r=\"3.0\" style=\"fill:rgb(242, 200, 179);stroke:black;stroke-width:1.0\"/><circle cx=\"487\" cy=\"512\" r=\"3.0\" style=\"fill:rgb(60, 79, 195);stroke:black;stroke-width:1.0\"/><circle cx=\"512\" cy=\"365\" r=\"3.0\" style=\"fill:rgb(197, 50, 51);stroke:black;stroke-width:1.0\"/><circle cx=\"71\" cy=\"359\" r=\"3.0\" style=\"fill:rgb(64, 84, 199);stroke:black;stroke-width:1.0\"/><circle cx=\"576\" cy=\"414\" r=\"3.0\" style=\"fill:rgb(64, 84, 199);stroke:black;stroke-width:1.0\"/><circle cx=\"551\" cy=\"213\" r=\"3.0\" style=\"fill:rgb(237, 207, 192);stroke:black;stroke-width:1.0\"/><circle cx=\"230\" cy=\"520\" r=\"3.0\" style=\"fill:rgb(66, 88, 202);stroke:black;stroke-width:1.0\"/><circle cx=\"412\" cy=\"356\" r=\"3.0\" style=\"fill:rgb(99, 131, 234);stroke:black;stroke-width:1.0\"/><circle cx=\"102\" cy=\"240\" r=\"3.0\" style=\"fill:rgb(127, 162, 250);stroke:black;stroke-width:1.0\"/><circle cx=\"20\" cy=\"238\" r=\"3.0\" style=\"fill:rgb(72, 96, 209);stroke:black;stroke-width:1.0\"/><circle cx=\"522\" cy=\"304\" r=\"3.0\" style=\"fill:rgb(64, 84, 199);stroke:black;stroke-width:1.0\"/><circle cx=\"301\" cy=\"37\" r=\"3.0\" style=\"fill:rgb(72, 96, 209);stroke:black;stroke-width:1.0\"/><circle cx=\"142\" cy=\"182\" r=\"3.0\" style=\"fill:rgb(127, 162, 250);stroke:black;stroke-width:1.0\"/><circle cx=\"571\" cy=\"137\" r=\"3.0\" style=\"fill:rgb(70, 93, 207);stroke:black;stroke-width:1.0\"/><circle cx=\"675\" cy=\"419\" r=\"3.0\" style=\"fill:rgb(72, 96, 209);stroke:black;stroke-width:1.0\"/><circle cx=\"132\" cy=\"308\" r=\"3.0\" style=\"fill:rgb(180, 205, 250);stroke:black;stroke-width:1.0\"/><circle cx=\"251\" cy=\"20\" r=\"3.0\" style=\"fill:rgb(72, 96, 209);stroke:black;stroke-width:1.0\"/><circle cx=\"364\" cy=\"431\" r=\"3.0\" style=\"fill:rgb(60, 79, 195);stroke:black;stroke-width:1.0\"/><circle cx=\"205\" cy=\"43\" r=\"3.0\" style=\"fill:rgb(72, 96, 209);stroke:black;stroke-width:1.0\"/><circle cx=\"720\" cy=\"356\" r=\"3.0\" style=\"fill:rgb(72, 96, 209);stroke:black;stroke-width:1.0\"/><circle cx=\"450\" cy=\"330\" r=\"3.0\" style=\"fill:rgb(240, 141, 111);stroke:black;stroke-width:1.0\"/><circle cx=\"624\" cy=\"310\" r=\"3.0\" style=\"fill:rgb(72, 96, 209);stroke:black;stroke-width:1.0\"/><circle cx=\"578\" cy=\"358\" r=\"3.0\" style=\"fill:rgb(64, 84, 199);stroke:black;stroke-width:1.0\"/><circle cx=\"259\" cy=\"53\" r=\"3.0\" style=\"fill:rgb(72, 96, 209);stroke:black;stroke-width:1.0\"/><text font-size=\"10\" x=\"448\" y=\"381\">Brent Cobb</text><text font-size=\"10\" x=\"616\" y=\"152\">Noony</text><text font-size=\"10\" x=\"359\" y=\"362\">Southern Allstars</text><text font-size=\"10\" x=\"645\" y=\"361\">Southall</text><text font-size=\"10\" x=\"693\" y=\"310\">Desifx</text><text font-size=\"10\" x=\"163\" y=\"280\">Lil Baby</text><text font-size=\"10\" x=\"396\" y=\"339\">Mike Sherm</text><text font-size=\"10\" x=\"638\" y=\"182\">NONT TANONT</text><text font-size=\"10\" x=\"379\" y=\"486\">Mike WiLL Made-It</text><text font-size=\"10\" x=\"92\" y=\"137\">Dray</text><text font-size=\"10\" x=\"468\" y=\"435\">Mike Posner</text><text font-size=\"10\" x=\"219\" y=\"248\">Lilrb</text><text font-size=\"10\" x=\"255\" y=\"105\">Myaap</text><text font-size=\"10\" x=\"324\" y=\"424\">Louis Armstrong</text><text font-size=\"10\" x=\"319\" y=\"83\">Escape the Fate</text><text font-size=\"10\" x=\"282\" y=\"453\">Alex G</text><text font-size=\"10\" x=\"415\" y=\"405\">mike.</text><text font-size=\"10\" x=\"493\" y=\"515\">Rittz</text><text font-size=\"10\" x=\"518\" y=\"368\">SOUTHERN ALL STARS</text><text font-size=\"10\" x=\"77\" y=\"362\">Travis Scott</text><text font-size=\"10\" x=\"582\" y=\"417\">Gregory Alan Isakov</text><text font-size=\"10\" x=\"557\" y=\"216\">Niontay</text><text font-size=\"10\" x=\"236\" y=\"523\">alex_g_offline</text><text font-size=\"10\" x=\"418\" y=\"359\">Hotel Ugly</text><text font-size=\"10\" x=\"108\" y=\"243\">Nelly</text><text font-size=\"10\" x=\"26\" y=\"241\">The Toy Dolls</text><text font-size=\"10\" x=\"528\" y=\"307\">サザンオールスターズ</text><text font-size=\"10\" x=\"307\" y=\"40\">Arch Enemy</text><text font-size=\"10\" x=\"148\" y=\"185\">Paul Russell</text><text font-size=\"10\" x=\"577\" y=\"140\">jon-YAKITORY</text><text font-size=\"10\" x=\"681\" y=\"422\">Leon Paul-Phillips</text><text font-size=\"10\" x=\"138\" y=\"311\">Drake</text><text font-size=\"10\" x=\"257\" y=\"23\">Falling In Reverse</text><text font-size=\"10\" x=\"370\" y=\"434\">Henry Smith</text><text font-size=\"10\" x=\"211\" y=\"46\">Metallica</text><text font-size=\"10\" x=\"726\" y=\"359\">Happy Rattan</text><text font-size=\"10\" x=\"456\" y=\"333\">MIKE</text><text font-size=\"10\" x=\"630\" y=\"313\">Guru</text><text font-size=\"10\" x=\"584\" y=\"361\">Devilish Trio</text><text font-size=\"10\" x=\"265\" y=\"56\">Donell Jones</text></svg>"
      ],
      "text/plain": [
       "<IPython.core.display.SVG object>"
      ]
     },
     "execution_count": 26,
     "metadata": {},
     "output_type": "execute_result"
    }
   ],
   "source": [
    "ego = top_nodes[14]\n",
    "\n",
    "G_ego = nx.ego_graph(G, ego, radius=3)\n",
    "\n",
    "draw_graph(G_ego, show_names=True, node_size=3, edge_width=0.3)"
   ]
  },
  {
   "cell_type": "code",
   "execution_count": 27,
   "id": "646511f2",
   "metadata": {},
   "outputs": [
    {
     "data": {
      "image/svg+xml": [
       "<svg height=\"540\" width=\"820.0\" xmlns=\"http://www.w3.org/2000/svg\"><path d=\"M 369 265 20 263\" stroke=\"gray\" stroke-width=\"0.3\"/><path d=\"M 369 265 190 20\" stroke=\"gray\" stroke-width=\"0.3\"/><path d=\"M 369 265 531 520\" stroke=\"gray\" stroke-width=\"0.3\"/><path d=\"M 369 265 193 509\" stroke=\"gray\" stroke-width=\"0.3\"/><path d=\"M 369 265 554 20\" stroke=\"gray\" stroke-width=\"0.3\"/><path d=\"M 369 265 720 274\" stroke=\"gray\" stroke-width=\"0.3\"/><path d=\"M 20 263 369 265\" stroke=\"gray\" stroke-width=\"0.3\"/><path d=\"M 190 20 369 265\" stroke=\"gray\" stroke-width=\"0.3\"/><path d=\"M 531 520 369 265\" stroke=\"gray\" stroke-width=\"0.3\"/><path d=\"M 193 509 369 265\" stroke=\"gray\" stroke-width=\"0.3\"/><path d=\"M 554 20 369 265\" stroke=\"gray\" stroke-width=\"0.3\"/><path d=\"M 720 274 369 265\" stroke=\"gray\" stroke-width=\"0.3\"/><circle cx=\"369\" cy=\"265\" r=\"3.0\" style=\"fill:rgb(179, 3, 38);stroke:black;stroke-width:1.0\"/><circle cx=\"20\" cy=\"263\" r=\"3.0\" style=\"fill:rgb(58, 76, 192);stroke:black;stroke-width:1.0\"/><circle cx=\"190\" cy=\"20\" r=\"3.0\" style=\"fill:rgb(58, 76, 192);stroke:black;stroke-width:1.0\"/><circle cx=\"531\" cy=\"520\" r=\"3.0\" style=\"fill:rgb(58, 76, 192);stroke:black;stroke-width:1.0\"/><circle cx=\"193\" cy=\"509\" r=\"3.0\" style=\"fill:rgb(58, 76, 192);stroke:black;stroke-width:1.0\"/><circle cx=\"554\" cy=\"20\" r=\"3.0\" style=\"fill:rgb(58, 76, 192);stroke:black;stroke-width:1.0\"/><circle cx=\"720\" cy=\"274\" r=\"3.0\" style=\"fill:rgb(58, 76, 192);stroke:black;stroke-width:1.0\"/><text font-size=\"10\" x=\"375\" y=\"268\">Seibun Tokuhara</text><text font-size=\"10\" x=\"26\" y=\"266\">Taeko Onuki</text><text font-size=\"10\" x=\"196\" y=\"23\">Osamuraisan</text><text font-size=\"10\" x=\"537\" y=\"523\">WagakkiBand</text><text font-size=\"10\" x=\"199\" y=\"512\">Sadao China</text><text font-size=\"10\" x=\"560\" y=\"23\">Vivid BAD SQUAD</text><text font-size=\"10\" x=\"726\" y=\"277\">Hideaki Tokunaga</text></svg>"
      ],
      "text/plain": [
       "<IPython.core.display.SVG object>"
      ]
     },
     "execution_count": 27,
     "metadata": {},
     "output_type": "execute_result"
    }
   ],
   "source": [
    "ego = top_nodes[15]\n",
    "\n",
    "G_ego = nx.ego_graph(G, ego)\n",
    "\n",
    "draw_graph(G_ego, show_names=True, node_size=3, edge_width=0.3)"
   ]
  },
  {
   "cell_type": "code",
   "execution_count": 28,
   "id": "aca75f02",
   "metadata": {},
   "outputs": [
    {
     "data": {
      "image/svg+xml": [
       "<svg height=\"540\" width=\"835.0\" xmlns=\"http://www.w3.org/2000/svg\"><path d=\"M 612 468 720 328\" stroke=\"gray\" stroke-width=\"0.3\"/><path d=\"M 612 468 388 271\" stroke=\"gray\" stroke-width=\"0.3\"/><path d=\"M 720 328 612 468\" stroke=\"gray\" stroke-width=\"0.3\"/><path d=\"M 720 328 388 271\" stroke=\"gray\" stroke-width=\"0.3\"/><path d=\"M 207 20 388 271\" stroke=\"gray\" stroke-width=\"0.3\"/><path d=\"M 388 271 612 468\" stroke=\"gray\" stroke-width=\"0.3\"/><path d=\"M 388 271 720 328\" stroke=\"gray\" stroke-width=\"0.3\"/><path d=\"M 388 271 207 20\" stroke=\"gray\" stroke-width=\"0.3\"/><path d=\"M 388 271 214 520\" stroke=\"gray\" stroke-width=\"0.3\"/><path d=\"M 388 271 20 268\" stroke=\"gray\" stroke-width=\"0.3\"/><path d=\"M 388 271 584 32\" stroke=\"gray\" stroke-width=\"0.3\"/><path d=\"M 214 520 388 271\" stroke=\"gray\" stroke-width=\"0.3\"/><path d=\"M 20 268 388 271\" stroke=\"gray\" stroke-width=\"0.3\"/><path d=\"M 584 32 388 271\" stroke=\"gray\" stroke-width=\"0.3\"/><circle cx=\"612\" cy=\"468\" r=\"3.0\" style=\"fill:rgb(116, 151, 245);stroke:black;stroke-width:1.0\"/><circle cx=\"720\" cy=\"328\" r=\"3.0\" style=\"fill:rgb(116, 151, 245);stroke:black;stroke-width:1.0\"/><circle cx=\"207\" cy=\"20\" r=\"3.0\" style=\"fill:rgb(58, 76, 192);stroke:black;stroke-width:1.0\"/><circle cx=\"388\" cy=\"271\" r=\"3.0\" style=\"fill:rgb(179, 3, 38);stroke:black;stroke-width:1.0\"/><circle cx=\"214\" cy=\"520\" r=\"3.0\" style=\"fill:rgb(58, 76, 192);stroke:black;stroke-width:1.0\"/><circle cx=\"20\" cy=\"268\" r=\"3.0\" style=\"fill:rgb(58, 76, 192);stroke:black;stroke-width:1.0\"/><circle cx=\"584\" cy=\"32\" r=\"3.0\" style=\"fill:rgb(58, 76, 192);stroke:black;stroke-width:1.0\"/><text font-size=\"10\" x=\"618\" y=\"471\">Brent Cobb</text><text font-size=\"10\" x=\"726\" y=\"331\">Southern Allstars</text><text font-size=\"10\" x=\"213\" y=\"23\">Southall</text><text font-size=\"10\" x=\"394\" y=\"274\">SOUTHERN ALL STARS</text><text font-size=\"10\" x=\"220\" y=\"523\">サザンオールスターズ</text><text font-size=\"10\" x=\"26\" y=\"271\">Devilish Trio</text><text font-size=\"10\" x=\"590\" y=\"35\">Gregory Alan Isakov</text></svg>"
      ],
      "text/plain": [
       "<IPython.core.display.SVG object>"
      ]
     },
     "execution_count": 28,
     "metadata": {},
     "output_type": "execute_result"
    }
   ],
   "source": [
    "ego = top_nodes[16]\n",
    "\n",
    "G_ego = nx.ego_graph(G, ego)\n",
    "\n",
    "draw_graph(G_ego, show_names=True, node_size=3, edge_width=0.3)"
   ]
  },
  {
   "cell_type": "code",
   "execution_count": 29,
   "id": "563015ea",
   "metadata": {},
   "outputs": [
    {
     "data": {
      "image/svg+xml": [
       "<svg height=\"540\" width=\"840.0\" xmlns=\"http://www.w3.org/2000/svg\"><path d=\"M 667 220 432 54\" stroke=\"gray\" stroke-width=\"0.3\"/><path d=\"M 667 220 717 405\" stroke=\"gray\" stroke-width=\"0.3\"/><path d=\"M 667 220 418 258\" stroke=\"gray\" stroke-width=\"0.3\"/><path d=\"M 432 54 667 220\" stroke=\"gray\" stroke-width=\"0.3\"/><path d=\"M 432 54 418 258\" stroke=\"gray\" stroke-width=\"0.3\"/><path d=\"M 717 405 667 220\" stroke=\"gray\" stroke-width=\"0.3\"/><path d=\"M 717 405 418 258\" stroke=\"gray\" stroke-width=\"0.3\"/><path d=\"M 418 258 667 220\" stroke=\"gray\" stroke-width=\"0.3\"/><path d=\"M 418 258 432 54\" stroke=\"gray\" stroke-width=\"0.3\"/><path d=\"M 418 258 717 405\" stroke=\"gray\" stroke-width=\"0.3\"/><path d=\"M 418 258 20 224\" stroke=\"gray\" stroke-width=\"0.3\"/><path d=\"M 418 258 720 20\" stroke=\"gray\" stroke-width=\"0.3\"/><path d=\"M 418 258 251 520\" stroke=\"gray\" stroke-width=\"0.3\"/><path d=\"M 20 224 418 258\" stroke=\"gray\" stroke-width=\"0.3\"/><path d=\"M 720 20 418 258\" stroke=\"gray\" stroke-width=\"0.3\"/><path d=\"M 251 520 418 258\" stroke=\"gray\" stroke-width=\"0.3\"/><circle cx=\"667\" cy=\"220\" r=\"3.0\" style=\"fill:rgb(180, 205, 250);stroke:black;stroke-width:1.0\"/><circle cx=\"432\" cy=\"54\" r=\"3.0\" style=\"fill:rgb(112, 147, 243);stroke:black;stroke-width:1.0\"/><circle cx=\"717\" cy=\"405\" r=\"3.0\" style=\"fill:rgb(112, 147, 243);stroke:black;stroke-width:1.0\"/><circle cx=\"418\" cy=\"258\" r=\"3.0\" style=\"fill:rgb(179, 3, 38);stroke:black;stroke-width:1.0\"/><circle cx=\"20\" cy=\"224\" r=\"3.0\" style=\"fill:rgb(58, 76, 192);stroke:black;stroke-width:1.0\"/><circle cx=\"720\" cy=\"20\" r=\"3.0\" style=\"fill:rgb(58, 76, 192);stroke:black;stroke-width:1.0\"/><circle cx=\"251\" cy=\"520\" r=\"3.0\" style=\"fill:rgb(58, 76, 192);stroke:black;stroke-width:1.0\"/><text font-size=\"10\" x=\"673\" y=\"223\">Benny Dayal</text><text font-size=\"10\" x=\"438\" y=\"57\">Benny Sings</text><text font-size=\"10\" x=\"723\" y=\"408\">Benny Friedman</text><text font-size=\"10\" x=\"424\" y=\"261\">Benny Dawn</text><text font-size=\"10\" x=\"26\" y=\"227\">Benny L</text><text font-size=\"10\" x=\"726\" y=\"23\">Chris Brown</text><text font-size=\"10\" x=\"257\" y=\"523\">Benny Goodman Sextet</text></svg>"
      ],
      "text/plain": [
       "<IPython.core.display.SVG object>"
      ]
     },
     "execution_count": 29,
     "metadata": {},
     "output_type": "execute_result"
    }
   ],
   "source": [
    "ego = top_nodes[17]\n",
    "\n",
    "G_ego = nx.ego_graph(G, ego)\n",
    "\n",
    "draw_graph(G_ego, show_names=True, node_size=3, edge_width=0.3)"
   ]
  },
  {
   "cell_type": "code",
   "execution_count": 30,
   "id": "f2254f91",
   "metadata": {},
   "outputs": [
    {
     "data": {
      "image/svg+xml": [
       "<svg height=\"540\" width=\"825.0\" xmlns=\"http://www.w3.org/2000/svg\"><path d=\"M 20 345 375 269\" stroke=\"gray\" stroke-width=\"0.3\"/><path d=\"M 375 269 20 345\" stroke=\"gray\" stroke-width=\"0.3\"/><path d=\"M 375 269 101 91\" stroke=\"gray\" stroke-width=\"0.3\"/><path d=\"M 375 269 720 252\" stroke=\"gray\" stroke-width=\"0.3\"/><path d=\"M 375 269 471 20\" stroke=\"gray\" stroke-width=\"0.3\"/><path d=\"M 375 269 666 395\" stroke=\"gray\" stroke-width=\"0.3\"/><path d=\"M 375 269 300 520\" stroke=\"gray\" stroke-width=\"0.3\"/><path d=\"M 101 91 375 269\" stroke=\"gray\" stroke-width=\"0.3\"/><path d=\"M 720 252 375 269\" stroke=\"gray\" stroke-width=\"0.3\"/><path d=\"M 720 252 666 395\" stroke=\"gray\" stroke-width=\"0.3\"/><path d=\"M 471 20 375 269\" stroke=\"gray\" stroke-width=\"0.3\"/><path d=\"M 666 395 375 269\" stroke=\"gray\" stroke-width=\"0.3\"/><path d=\"M 666 395 720 252\" stroke=\"gray\" stroke-width=\"0.3\"/><path d=\"M 300 520 375 269\" stroke=\"gray\" stroke-width=\"0.3\"/><circle cx=\"20\" cy=\"345\" r=\"3.0\" style=\"fill:rgb(58, 76, 192);stroke:black;stroke-width:1.0\"/><circle cx=\"375\" cy=\"269\" r=\"3.0\" style=\"fill:rgb(179, 3, 38);stroke:black;stroke-width:1.0\"/><circle cx=\"101\" cy=\"91\" r=\"3.0\" style=\"fill:rgb(58, 76, 192);stroke:black;stroke-width:1.0\"/><circle cx=\"720\" cy=\"252\" r=\"3.0\" style=\"fill:rgb(116, 151, 245);stroke:black;stroke-width:1.0\"/><circle cx=\"471\" cy=\"20\" r=\"3.0\" style=\"fill:rgb(58, 76, 192);stroke:black;stroke-width:1.0\"/><circle cx=\"666\" cy=\"395\" r=\"3.0\" style=\"fill:rgb(116, 151, 245);stroke:black;stroke-width:1.0\"/><circle cx=\"300\" cy=\"520\" r=\"3.0\" style=\"fill:rgb(58, 76, 192);stroke:black;stroke-width:1.0\"/><text font-size=\"10\" x=\"26\" y=\"348\">Paul Russell</text><text font-size=\"10\" x=\"381\" y=\"272\">Lilrb</text><text font-size=\"10\" x=\"107\" y=\"94\">Southern Allstars</text><text font-size=\"10\" x=\"726\" y=\"255\">Drake</text><text font-size=\"10\" x=\"477\" y=\"23\">Myaap</text><text font-size=\"10\" x=\"672\" y=\"398\">Lil Baby</text><text font-size=\"10\" x=\"306\" y=\"523\">Nelly</text></svg>"
      ],
      "text/plain": [
       "<IPython.core.display.SVG object>"
      ]
     },
     "execution_count": 30,
     "metadata": {},
     "output_type": "execute_result"
    }
   ],
   "source": [
    "ego = top_nodes[18]\n",
    "\n",
    "G_ego = nx.ego_graph(G, ego)\n",
    "\n",
    "draw_graph(G_ego, show_names=True, node_size=3, edge_width=0.3)"
   ]
  },
  {
   "cell_type": "code",
   "execution_count": 31,
   "id": "26365521",
   "metadata": {},
   "outputs": [
    {
     "data": {
      "image/svg+xml": [
       "<svg height=\"540\" width=\"830.0\" xmlns=\"http://www.w3.org/2000/svg\"><path d=\"M 639 486 381 282\" stroke=\"gray\" stroke-width=\"0.3\"/><path d=\"M 381 282 639 486\" stroke=\"gray\" stroke-width=\"0.3\"/><path d=\"M 381 282 339 20\" stroke=\"gray\" stroke-width=\"0.3\"/><path d=\"M 381 282 199 520\" stroke=\"gray\" stroke-width=\"0.3\"/><path d=\"M 381 282 720 169\" stroke=\"gray\" stroke-width=\"0.3\"/><path d=\"M 381 282 20 235\" stroke=\"gray\" stroke-width=\"0.3\"/><path d=\"M 339 20 381 282\" stroke=\"gray\" stroke-width=\"0.3\"/><path d=\"M 199 520 381 282\" stroke=\"gray\" stroke-width=\"0.3\"/><path d=\"M 720 169 381 282\" stroke=\"gray\" stroke-width=\"0.3\"/><path d=\"M 20 235 381 282\" stroke=\"gray\" stroke-width=\"0.3\"/><circle cx=\"639\" cy=\"486\" r=\"3.0\" style=\"fill:rgb(58, 76, 192);stroke:black;stroke-width:1.0\"/><circle cx=\"381\" cy=\"282\" r=\"3.0\" style=\"fill:rgb(179, 3, 38);stroke:black;stroke-width:1.0\"/><circle cx=\"339\" cy=\"20\" r=\"3.0\" style=\"fill:rgb(58, 76, 192);stroke:black;stroke-width:1.0\"/><circle cx=\"199\" cy=\"520\" r=\"3.0\" style=\"fill:rgb(58, 76, 192);stroke:black;stroke-width:1.0\"/><circle cx=\"720\" cy=\"169\" r=\"3.0\" style=\"fill:rgb(58, 76, 192);stroke:black;stroke-width:1.0\"/><circle cx=\"20\" cy=\"235\" r=\"3.0\" style=\"fill:rgb(58, 76, 192);stroke:black;stroke-width:1.0\"/><text font-size=\"10\" x=\"645\" y=\"489\">Leon Paul-Phillips</text><text font-size=\"10\" x=\"387\" y=\"285\">Southall</text><text font-size=\"10\" x=\"345\" y=\"23\">Desifx</text><text font-size=\"10\" x=\"205\" y=\"523\">Happy Rattan</text><text font-size=\"10\" x=\"726\" y=\"172\">SOUTHERN ALL STARS</text><text font-size=\"10\" x=\"26\" y=\"238\">Guru</text></svg>"
      ],
      "text/plain": [
       "<IPython.core.display.SVG object>"
      ]
     },
     "execution_count": 31,
     "metadata": {},
     "output_type": "execute_result"
    }
   ],
   "source": [
    "ego = top_nodes[19]\n",
    "\n",
    "G_ego = nx.ego_graph(G, ego)\n",
    "\n",
    "draw_graph(G_ego, show_names=True, node_size=3, edge_width=0.3)"
   ]
  },
  {
   "cell_type": "markdown",
   "id": "c41a5cc6",
   "metadata": {},
   "source": [
    "# Shortest Paths\n",
    "\n",
    "In a collaboration network, shortest paths can be interesting, to know how to get from one person to another, or one artist to another.\n",
    "\n",
    "What in the world did Lil Wayne do with B.B. King? "
   ]
  },
  {
   "cell_type": "code",
   "execution_count": 39,
   "id": "47ba1a04",
   "metadata": {},
   "outputs": [
    {
     "data": {
      "text/plain": [
       "['B.B. King', 'Lil Wayne']"
      ]
     },
     "execution_count": 39,
     "metadata": {},
     "output_type": "execute_result"
    }
   ],
   "source": [
    "nx.shortest_path(G, 'B.B. King', 'Lil Wayne')"
   ]
  },
  {
   "cell_type": "code",
   "execution_count": 42,
   "id": "10c41904",
   "metadata": {},
   "outputs": [
    {
     "data": {
      "image/svg+xml": [
       "<svg height=\"540\" width=\"830.0\" xmlns=\"http://www.w3.org/2000/svg\"><path d=\"M 20 168 173 165\" stroke=\"gray\" stroke-width=\"0.3\"/><path d=\"M 42 131 173 165\" stroke=\"gray\" stroke-width=\"0.3\"/><path d=\"M 151 426 272 432\" stroke=\"gray\" stroke-width=\"0.3\"/><path d=\"M 303 520 272 432\" stroke=\"gray\" stroke-width=\"0.3\"/><path d=\"M 360 497 272 432\" stroke=\"gray\" stroke-width=\"0.3\"/><path d=\"M 263 182 173 165\" stroke=\"gray\" stroke-width=\"0.3\"/><path d=\"M 176 501 272 432\" stroke=\"gray\" stroke-width=\"0.3\"/><path d=\"M 603 20 566 110\" stroke=\"gray\" stroke-width=\"0.3\"/><path d=\"M 493 436 468 365\" stroke=\"gray\" stroke-width=\"0.3\"/><path d=\"M 665 41 566 110\" stroke=\"gray\" stroke-width=\"0.3\"/><path d=\"M 570 413 468 365\" stroke=\"gray\" stroke-width=\"0.3\"/><path d=\"M 704 74 566 110\" stroke=\"gray\" stroke-width=\"0.3\"/><path d=\"M 262 121 173 165\" stroke=\"gray\" stroke-width=\"0.3\"/><path d=\"M 58 207 173 165\" stroke=\"gray\" stroke-width=\"0.3\"/><path d=\"M 398 265 272 432\" stroke=\"gray\" stroke-width=\"0.3\"/><path d=\"M 398 265 173 165\" stroke=\"gray\" stroke-width=\"0.3\"/><path d=\"M 398 265 579 278\" stroke=\"gray\" stroke-width=\"0.3\"/><path d=\"M 398 265 566 110\" stroke=\"gray\" stroke-width=\"0.3\"/><path d=\"M 398 265 468 365\" stroke=\"gray\" stroke-width=\"0.3\"/><path d=\"M 177 75 173 165\" stroke=\"gray\" stroke-width=\"0.3\"/><path d=\"M 697 117 566 110\" stroke=\"gray\" stroke-width=\"0.3\"/><path d=\"M 272 432 151 426\" stroke=\"gray\" stroke-width=\"0.3\"/><path d=\"M 272 432 303 520\" stroke=\"gray\" stroke-width=\"0.3\"/><path d=\"M 272 432 360 497\" stroke=\"gray\" stroke-width=\"0.3\"/><path d=\"M 272 432 176 501\" stroke=\"gray\" stroke-width=\"0.3\"/><path d=\"M 272 432 398 265\" stroke=\"gray\" stroke-width=\"0.3\"/><path d=\"M 272 432 236 519\" stroke=\"gray\" stroke-width=\"0.3\"/><path d=\"M 272 432 137 468\" stroke=\"gray\" stroke-width=\"0.3\"/><path d=\"M 154 224 173 165\" stroke=\"gray\" stroke-width=\"0.3\"/><path d=\"M 74 92 173 165\" stroke=\"gray\" stroke-width=\"0.3\"/><path d=\"M 720 291 579 278\" stroke=\"gray\" stroke-width=\"0.3\"/><path d=\"M 146 108 173 165\" stroke=\"gray\" stroke-width=\"0.3\"/><path d=\"M 173 165 20 168\" stroke=\"gray\" stroke-width=\"0.3\"/><path d=\"M 173 165 42 131\" stroke=\"gray\" stroke-width=\"0.3\"/><path d=\"M 173 165 263 182\" stroke=\"gray\" stroke-width=\"0.3\"/><path d=\"M 173 165 262 121\" stroke=\"gray\" stroke-width=\"0.3\"/><path d=\"M 173 165 58 207\" stroke=\"gray\" stroke-width=\"0.3\"/><path d=\"M 173 165 398 265\" stroke=\"gray\" stroke-width=\"0.3\"/><path d=\"M 173 165 177 75\" stroke=\"gray\" stroke-width=\"0.3\"/><path d=\"M 173 165 154 224\" stroke=\"gray\" stroke-width=\"0.3\"/><path d=\"M 173 165 74 92\" stroke=\"gray\" stroke-width=\"0.3\"/><path d=\"M 173 165 146 108\" stroke=\"gray\" stroke-width=\"0.3\"/><path d=\"M 579 278 398 265\" stroke=\"gray\" stroke-width=\"0.3\"/><path d=\"M 579 278 720 291\" stroke=\"gray\" stroke-width=\"0.3\"/><path d=\"M 512 27 566 110\" stroke=\"gray\" stroke-width=\"0.3\"/><path d=\"M 557 56 566 110\" stroke=\"gray\" stroke-width=\"0.3\"/><path d=\"M 566 110 603 20\" stroke=\"gray\" stroke-width=\"0.3\"/><path d=\"M 566 110 665 41\" stroke=\"gray\" stroke-width=\"0.3\"/><path d=\"M 566 110 704 74\" stroke=\"gray\" stroke-width=\"0.3\"/><path d=\"M 566 110 398 265\" stroke=\"gray\" stroke-width=\"0.3\"/><path d=\"M 566 110 697 117\" stroke=\"gray\" stroke-width=\"0.3\"/><path d=\"M 566 110 512 27\" stroke=\"gray\" stroke-width=\"0.3\"/><path d=\"M 566 110 557 56\" stroke=\"gray\" stroke-width=\"0.3\"/><path d=\"M 468 365 493 436\" stroke=\"gray\" stroke-width=\"0.3\"/><path d=\"M 468 365 570 413\" stroke=\"gray\" stroke-width=\"0.3\"/><path d=\"M 468 365 398 265\" stroke=\"gray\" stroke-width=\"0.3\"/><path d=\"M 468 365 382 388\" stroke=\"gray\" stroke-width=\"0.3\"/><path d=\"M 382 388 468 365\" stroke=\"gray\" stroke-width=\"0.3\"/><path d=\"M 236 519 272 432\" stroke=\"gray\" stroke-width=\"0.3\"/><path d=\"M 137 468 272 432\" stroke=\"gray\" stroke-width=\"0.3\"/><circle cx=\"20\" cy=\"168\" r=\"4.0\" style=\"fill:rgb(58, 76, 192);stroke:black;stroke-width:1.0\"/><circle cx=\"42\" cy=\"131\" r=\"4.0\" style=\"fill:rgb(58, 76, 192);stroke:black;stroke-width:1.0\"/><circle cx=\"151\" cy=\"426\" r=\"4.0\" style=\"fill:rgb(58, 76, 192);stroke:black;stroke-width:1.0\"/><circle cx=\"303\" cy=\"520\" r=\"4.0\" style=\"fill:rgb(58, 76, 192);stroke:black;stroke-width:1.0\"/><circle cx=\"360\" cy=\"497\" r=\"4.0\" style=\"fill:rgb(58, 76, 192);stroke:black;stroke-width:1.0\"/><circle cx=\"263\" cy=\"182\" r=\"4.0\" style=\"fill:rgb(58, 76, 192);stroke:black;stroke-width:1.0\"/><circle cx=\"176\" cy=\"501\" r=\"4.0\" style=\"fill:rgb(58, 76, 192);stroke:black;stroke-width:1.0\"/><circle cx=\"603\" cy=\"20\" r=\"4.0\" style=\"fill:rgb(58, 76, 192);stroke:black;stroke-width:1.0\"/><circle cx=\"493\" cy=\"436\" r=\"4.0\" style=\"fill:rgb(58, 76, 192);stroke:black;stroke-width:1.0\"/><circle cx=\"665\" cy=\"41\" r=\"4.0\" style=\"fill:rgb(58, 76, 192);stroke:black;stroke-width:1.0\"/><circle cx=\"570\" cy=\"413\" r=\"4.0\" style=\"fill:rgb(58, 76, 192);stroke:black;stroke-width:1.0\"/><circle cx=\"704\" cy=\"74\" r=\"4.0\" style=\"fill:rgb(58, 76, 192);stroke:black;stroke-width:1.0\"/><circle cx=\"262\" cy=\"121\" r=\"4.0\" style=\"fill:rgb(58, 76, 192);stroke:black;stroke-width:1.0\"/><circle cx=\"58\" cy=\"207\" r=\"4.0\" style=\"fill:rgb(58, 76, 192);stroke:black;stroke-width:1.0\"/><circle cx=\"398\" cy=\"265\" r=\"4.0\" style=\"fill:rgb(231, 214, 204);stroke:black;stroke-width:1.0\"/><circle cx=\"177\" cy=\"75\" r=\"4.0\" style=\"fill:rgb(58, 76, 192);stroke:black;stroke-width:1.0\"/><circle cx=\"697\" cy=\"117\" r=\"4.0\" style=\"fill:rgb(58, 76, 192);stroke:black;stroke-width:1.0\"/><circle cx=\"272\" cy=\"432\" r=\"4.0\" style=\"fill:rgb(246, 183, 156);stroke:black;stroke-width:1.0\"/><circle cx=\"154\" cy=\"224\" r=\"4.0\" style=\"fill:rgb(58, 76, 192);stroke:black;stroke-width:1.0\"/><circle cx=\"74\" cy=\"92\" r=\"4.0\" style=\"fill:rgb(58, 76, 192);stroke:black;stroke-width:1.0\"/><circle cx=\"720\" cy=\"291\" r=\"4.0\" style=\"fill:rgb(58, 76, 192);stroke:black;stroke-width:1.0\"/><circle cx=\"146\" cy=\"108\" r=\"4.0\" style=\"fill:rgb(58, 76, 192);stroke:black;stroke-width:1.0\"/><circle cx=\"173\" cy=\"165\" r=\"4.0\" style=\"fill:rgb(179, 3, 38);stroke:black;stroke-width:1.0\"/><circle cx=\"579\" cy=\"278\" r=\"4.0\" style=\"fill:rgb(82, 110, 220);stroke:black;stroke-width:1.0\"/><circle cx=\"512\" cy=\"27\" r=\"4.0\" style=\"fill:rgb(58, 76, 192);stroke:black;stroke-width:1.0\"/><circle cx=\"557\" cy=\"56\" r=\"4.0\" style=\"fill:rgb(58, 76, 192);stroke:black;stroke-width:1.0\"/><circle cx=\"566\" cy=\"110\" r=\"4.0\" style=\"fill:rgb(246, 183, 156);stroke:black;stroke-width:1.0\"/><circle cx=\"468\" cy=\"365\" r=\"4.0\" style=\"fill:rgb(166, 195, 253);stroke:black;stroke-width:1.0\"/><circle cx=\"382\" cy=\"388\" r=\"4.0\" style=\"fill:rgb(58, 76, 192);stroke:black;stroke-width:1.0\"/><circle cx=\"236\" cy=\"519\" r=\"4.0\" style=\"fill:rgb(58, 76, 192);stroke:black;stroke-width:1.0\"/><circle cx=\"137\" cy=\"468\" r=\"4.0\" style=\"fill:rgb(58, 76, 192);stroke:black;stroke-width:1.0\"/><text font-size=\"10\" x=\"27\" y=\"172\">kelseyi</text><text font-size=\"10\" x=\"49\" y=\"135\">Jason Aldean</text><text font-size=\"10\" x=\"158\" y=\"430\">Big Sean</text><text font-size=\"10\" x=\"310\" y=\"524\">Nirvana</text><text font-size=\"10\" x=\"367\" y=\"501\">AzChike</text><text font-size=\"10\" x=\"270\" y=\"186\">Baye Mass</text><text font-size=\"10\" x=\"183\" y=\"505\">Degree</text><text font-size=\"10\" x=\"610\" y=\"24\">tephe</text><text font-size=\"10\" x=\"500\" y=\"440\">Tyga</text><text font-size=\"10\" x=\"672\" y=\"45\">Nelyoti</text><text font-size=\"10\" x=\"577\" y=\"417\">Drake</text><text font-size=\"10\" x=\"711\" y=\"78\">Mons</text><text font-size=\"10\" x=\"269\" y=\"125\">ShittyBoyz</text><text font-size=\"10\" x=\"65\" y=\"211\">Webbie</text><text font-size=\"10\" x=\"405\" y=\"269\">B.B. King</text><text font-size=\"10\" x=\"184\" y=\"79\">Duzzy Funlop</text><text font-size=\"10\" x=\"704\" y=\"121\">Conton Candy</text><text font-size=\"10\" x=\"279\" y=\"436\">Big Choze</text><text font-size=\"10\" x=\"161\" y=\"228\">Ace Hood</text><text font-size=\"10\" x=\"81\" y=\"96\">Edot Babyy</text><text font-size=\"10\" x=\"727\" y=\"295\">Kendrick Lamar</text><text font-size=\"10\" x=\"153\" y=\"112\">Alexnocap</text><text font-size=\"10\" x=\"180\" y=\"169\">WeeBay</text><text font-size=\"10\" x=\"586\" y=\"282\">U2</text><text font-size=\"10\" x=\"519\" y=\"31\">Abdeelgha4</text><text font-size=\"10\" x=\"564\" y=\"60\">Animals As Leaders</text><text font-size=\"10\" x=\"573\" y=\"114\">NEGAPHONE</text><text font-size=\"10\" x=\"475\" y=\"369\">Lil Wayne</text><text font-size=\"10\" x=\"389\" y=\"392\">Jay Sean</text><text font-size=\"10\" x=\"243\" y=\"523\">BigChiiffa</text><text font-size=\"10\" x=\"144\" y=\"472\">Young Iggz</text></svg>"
      ],
      "text/plain": [
       "<IPython.core.display.SVG object>"
      ]
     },
     "execution_count": 42,
     "metadata": {},
     "output_type": "execute_result"
    }
   ],
   "source": [
    "ego = 'B.B. King'\n",
    "\n",
    "G_ego = nx.ego_graph(G, ego, 2)\n",
    "\n",
    "draw_graph(G_ego, show_names=True, node_size=4, edge_width=0.3)"
   ]
  },
  {
   "cell_type": "markdown",
   "id": "87c48f30",
   "metadata": {},
   "source": [
    "# Next Steps\n",
    "\n",
    "This is a very useful tool for looking at collaboration networks in music. Some musicians do not collaborate with other musicians, so the spotify crawler returns smaller networks than the wikipedia crawler. But these are direct relationships from differerent musical collaborations, searched via the Spotify API.\n",
    "\n",
    "Next steps are to troubleshoot this crawler. There are likely bugs, in the current state. "
   ]
  },
  {
   "cell_type": "code",
   "execution_count": null,
   "id": "9c1f8b70",
   "metadata": {},
   "outputs": [],
   "source": []
  }
 ],
 "metadata": {
  "kernelspec": {
   "display_name": "Python 3",
   "language": "python",
   "name": "python3"
  },
  "language_info": {
   "codemirror_mode": {
    "name": "ipython",
    "version": 3
   },
   "file_extension": ".py",
   "mimetype": "text/x-python",
   "name": "python",
   "nbconvert_exporter": "python",
   "pygments_lexer": "ipython3",
   "version": "3.7.16"
  }
 },
 "nbformat": 4,
 "nbformat_minor": 5
}
