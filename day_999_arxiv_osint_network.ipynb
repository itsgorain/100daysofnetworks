{
 "cells": [
  {
   "cell_type": "code",
   "execution_count": 1,
   "id": "7d18c815",
   "metadata": {},
   "outputs": [],
   "source": [
    "import networkx as nx\n",
    "import numpy as np\n",
    "import pandas as pd\n",
    "\n",
    "# for the explode statement; convert string to list\n",
    "from ast import literal_eval\n",
    "\n",
    "from IPython.display import SVG \n",
    "from sknetwork.visualization import svg_graph \n",
    "from sknetwork.data import Bunch \n",
    "from sknetwork.ranking import PageRank "
   ]
  },
  {
   "cell_type": "code",
   "execution_count": 2,
   "id": "0e8c36c4",
   "metadata": {},
   "outputs": [],
   "source": [
    "def draw_graph(G, show_names=False, node_size=1, font_size=10, edge_width=0.5): \n",
    "\n",
    "    adjacency = nx.to_scipy_sparse_matrix(G, nodelist=None, dtype=None, weight='weight', format='csr') \n",
    "\n",
    "    names = np.array(list(G.nodes())) \n",
    "\n",
    "    graph = Bunch() \n",
    "    graph.adjacency = adjacency \n",
    "    graph.names = np.array(names) \n",
    "\n",
    "    pagerank = PageRank() \n",
    "\n",
    "    scores = pagerank.fit_transform(adjacency) \n",
    "\n",
    "    if show_names: \n",
    "        \n",
    "        image = svg_graph(graph.adjacency, font_size=font_size, node_size=node_size, names=graph.names, width=700, height=500, scores=scores, edge_width=edge_width) \n",
    "\n",
    "    else: \n",
    "\n",
    "        image = svg_graph(graph.adjacency, node_size=node_size, width=700, height=500, scores = scores, edge_width=edge_width) \n",
    "\n",
    "    return SVG(image) "
   ]
  },
  {
   "cell_type": "code",
   "execution_count": 4,
   "id": "5e7e69f4",
   "metadata": {},
   "outputs": [
    {
     "data": {
      "text/html": [
       "<div>\n",
       "<style scoped>\n",
       "    .dataframe tbody tr th:only-of-type {\n",
       "        vertical-align: middle;\n",
       "    }\n",
       "\n",
       "    .dataframe tbody tr th {\n",
       "        vertical-align: top;\n",
       "    }\n",
       "\n",
       "    .dataframe thead th {\n",
       "        text-align: right;\n",
       "    }\n",
       "</style>\n",
       "<table border=\"1\" class=\"dataframe\">\n",
       "  <thead>\n",
       "    <tr style=\"text-align: right;\">\n",
       "      <th></th>\n",
       "      <th>authors</th>\n",
       "      <th>title</th>\n",
       "    </tr>\n",
       "  </thead>\n",
       "  <tbody>\n",
       "    <tr>\n",
       "      <th>0</th>\n",
       "      <td>Sohail Ahmed Khan</td>\n",
       "      <td>Online Multimedia Verification with Computatio...</td>\n",
       "    </tr>\n",
       "    <tr>\n",
       "      <th>1</th>\n",
       "      <td>Jan Gunnar Furuly</td>\n",
       "      <td>Online Multimedia Verification with Computatio...</td>\n",
       "    </tr>\n",
       "    <tr>\n",
       "      <th>2</th>\n",
       "      <td>Henrik Brattli Vold</td>\n",
       "      <td>Online Multimedia Verification with Computatio...</td>\n",
       "    </tr>\n",
       "    <tr>\n",
       "      <th>3</th>\n",
       "      <td>Rano Tahseen</td>\n",
       "      <td>Online Multimedia Verification with Computatio...</td>\n",
       "    </tr>\n",
       "    <tr>\n",
       "      <th>4</th>\n",
       "      <td>Duc-Tien Dang-Nguyen</td>\n",
       "      <td>Online Multimedia Verification with Computatio...</td>\n",
       "    </tr>\n",
       "  </tbody>\n",
       "</table>\n",
       "</div>"
      ],
      "text/plain": [
       "                authors                                              title\n",
       "0     Sohail Ahmed Khan  Online Multimedia Verification with Computatio...\n",
       "1     Jan Gunnar Furuly  Online Multimedia Verification with Computatio...\n",
       "2   Henrik Brattli Vold  Online Multimedia Verification with Computatio...\n",
       "3          Rano Tahseen  Online Multimedia Verification with Computatio...\n",
       "4  Duc-Tien Dang-Nguyen  Online Multimedia Verification with Computatio..."
      ]
     },
     "execution_count": 4,
     "metadata": {},
     "output_type": "execute_result"
    }
   ],
   "source": [
    "data = r'data/arxiv_osint.csv'\n",
    "\n",
    "df = pd.read_csv(data)\n",
    "df['authors'] = df['authors'].apply(literal_eval)\n",
    "\n",
    "df = df[['authors', 'title']]\n",
    "df = df.explode('authors')\n",
    "df.reset_index(drop=True, inplace=True)\n",
    "\n",
    "# fix the & so that scikit-network stops crashing\n",
    "df['authors'] = df['authors'].str.replace('&', 'and')\n",
    "df['title'] = df['title'].str.replace('&', 'and')\n",
    "\n",
    "df.head()"
   ]
  },
  {
   "cell_type": "code",
   "execution_count": 5,
   "id": "f375441f",
   "metadata": {},
   "outputs": [],
   "source": [
    "from networkx.algorithms import bipartite\n",
    "\n",
    "B = nx.from_pandas_edgelist(df, source='authors', target='title')\n",
    "G = bipartite.projected_graph(B, df['authors'])"
   ]
  },
  {
   "cell_type": "code",
   "execution_count": 6,
   "id": "e7936819",
   "metadata": {},
   "outputs": [
    {
     "name": "stdout",
     "output_type": "stream",
     "text": [
      "Graph with 66 nodes and 132 edges\n"
     ]
    }
   ],
   "source": [
    "print(nx.info(G))"
   ]
  },
  {
   "cell_type": "code",
   "execution_count": 7,
   "id": "c3b2b9ba",
   "metadata": {},
   "outputs": [
    {
     "data": {
      "image/svg+xml": [
       "<svg height=\"540\" width=\"740\" xmlns=\"http://www.w3.org/2000/svg\"><path d=\"M 605 158 632 156\" stroke=\"black\" stroke-width=\"0.3\"/><path d=\"M 605 158 629 166\" stroke=\"black\" stroke-width=\"0.3\"/><path d=\"M 605 158 612 167\" stroke=\"black\" stroke-width=\"0.3\"/><path d=\"M 605 158 617 152\" stroke=\"black\" stroke-width=\"0.3\"/><path d=\"M 632 156 605 158\" stroke=\"black\" stroke-width=\"0.3\"/><path d=\"M 632 156 629 166\" stroke=\"black\" stroke-width=\"0.3\"/><path d=\"M 632 156 612 167\" stroke=\"black\" stroke-width=\"0.3\"/><path d=\"M 632 156 617 152\" stroke=\"black\" stroke-width=\"0.3\"/><path d=\"M 629 166 605 158\" stroke=\"black\" stroke-width=\"0.3\"/><path d=\"M 629 166 632 156\" stroke=\"black\" stroke-width=\"0.3\"/><path d=\"M 629 166 612 167\" stroke=\"black\" stroke-width=\"0.3\"/><path d=\"M 629 166 617 152\" stroke=\"black\" stroke-width=\"0.3\"/><path d=\"M 612 167 605 158\" stroke=\"black\" stroke-width=\"0.3\"/><path d=\"M 612 167 632 156\" stroke=\"black\" stroke-width=\"0.3\"/><path d=\"M 612 167 629 166\" stroke=\"black\" stroke-width=\"0.3\"/><path d=\"M 612 167 617 152\" stroke=\"black\" stroke-width=\"0.3\"/><path d=\"M 617 152 605 158\" stroke=\"black\" stroke-width=\"0.3\"/><path d=\"M 617 152 632 156\" stroke=\"black\" stroke-width=\"0.3\"/><path d=\"M 617 152 629 166\" stroke=\"black\" stroke-width=\"0.3\"/><path d=\"M 617 152 612 167\" stroke=\"black\" stroke-width=\"0.3\"/><path d=\"M 394 260 370 259\" stroke=\"black\" stroke-width=\"0.3\"/><path d=\"M 370 259 394 260\" stroke=\"black\" stroke-width=\"0.3\"/><path d=\"M 190 249 207 253\" stroke=\"black\" stroke-width=\"0.3\"/><path d=\"M 190 249 190 258\" stroke=\"black\" stroke-width=\"0.3\"/><path d=\"M 190 249 204 242\" stroke=\"black\" stroke-width=\"0.3\"/><path d=\"M 190 249 174 240\" stroke=\"black\" stroke-width=\"0.3\"/><path d=\"M 207 253 190 249\" stroke=\"black\" stroke-width=\"0.3\"/><path d=\"M 207 253 190 258\" stroke=\"black\" stroke-width=\"0.3\"/><path d=\"M 207 253 204 242\" stroke=\"black\" stroke-width=\"0.3\"/><path d=\"M 207 253 174 240\" stroke=\"black\" stroke-width=\"0.3\"/><path d=\"M 190 258 190 249\" stroke=\"black\" stroke-width=\"0.3\"/><path d=\"M 190 258 207 253\" stroke=\"black\" stroke-width=\"0.3\"/><path d=\"M 190 258 204 242\" stroke=\"black\" stroke-width=\"0.3\"/><path d=\"M 190 258 174 240\" stroke=\"black\" stroke-width=\"0.3\"/><path d=\"M 204 242 190 249\" stroke=\"black\" stroke-width=\"0.3\"/><path d=\"M 204 242 207 253\" stroke=\"black\" stroke-width=\"0.3\"/><path d=\"M 204 242 190 258\" stroke=\"black\" stroke-width=\"0.3\"/><path d=\"M 204 242 174 240\" stroke=\"black\" stroke-width=\"0.3\"/><path d=\"M 174 240 190 249\" stroke=\"black\" stroke-width=\"0.3\"/><path d=\"M 174 240 207 253\" stroke=\"black\" stroke-width=\"0.3\"/><path d=\"M 174 240 190 258\" stroke=\"black\" stroke-width=\"0.3\"/><path d=\"M 174 240 204 242\" stroke=\"black\" stroke-width=\"0.3\"/><path d=\"M 174 240 158 223\" stroke=\"black\" stroke-width=\"0.3\"/><path d=\"M 174 240 143 236\" stroke=\"black\" stroke-width=\"0.3\"/><path d=\"M 174 240 142 226\" stroke=\"black\" stroke-width=\"0.3\"/><path d=\"M 20 380 41 385\" stroke=\"black\" stroke-width=\"0.3\"/><path d=\"M 20 380 36 371\" stroke=\"black\" stroke-width=\"0.3\"/><path d=\"M 41 385 20 380\" stroke=\"black\" stroke-width=\"0.3\"/><path d=\"M 41 385 36 371\" stroke=\"black\" stroke-width=\"0.3\"/><path d=\"M 36 371 20 380\" stroke=\"black\" stroke-width=\"0.3\"/><path d=\"M 36 371 41 385\" stroke=\"black\" stroke-width=\"0.3\"/><path d=\"M 556 437 574 449\" stroke=\"black\" stroke-width=\"0.3\"/><path d=\"M 556 437 575 438\" stroke=\"black\" stroke-width=\"0.3\"/><path d=\"M 556 437 554 449\" stroke=\"black\" stroke-width=\"0.3\"/><path d=\"M 574 449 556 437\" stroke=\"black\" stroke-width=\"0.3\"/><path d=\"M 574 449 575 438\" stroke=\"black\" stroke-width=\"0.3\"/><path d=\"M 574 449 554 449\" stroke=\"black\" stroke-width=\"0.3\"/><path d=\"M 575 438 556 437\" stroke=\"black\" stroke-width=\"0.3\"/><path d=\"M 575 438 574 449\" stroke=\"black\" stroke-width=\"0.3\"/><path d=\"M 575 438 554 449\" stroke=\"black\" stroke-width=\"0.3\"/><path d=\"M 554 449 556 437\" stroke=\"black\" stroke-width=\"0.3\"/><path d=\"M 554 449 574 449\" stroke=\"black\" stroke-width=\"0.3\"/><path d=\"M 554 449 575 438\" stroke=\"black\" stroke-width=\"0.3\"/><path d=\"M 340 382 368 378\" stroke=\"black\" stroke-width=\"0.3\"/><path d=\"M 340 382 351 385\" stroke=\"black\" stroke-width=\"0.3\"/><path d=\"M 340 382 347 374\" stroke=\"black\" stroke-width=\"0.3\"/><path d=\"M 340 382 360 392\" stroke=\"black\" stroke-width=\"0.3\"/><path d=\"M 340 382 323 383\" stroke=\"black\" stroke-width=\"0.3\"/><path d=\"M 368 378 340 382\" stroke=\"black\" stroke-width=\"0.3\"/><path d=\"M 368 378 351 385\" stroke=\"black\" stroke-width=\"0.3\"/><path d=\"M 368 378 347 374\" stroke=\"black\" stroke-width=\"0.3\"/><path d=\"M 368 378 360 392\" stroke=\"black\" stroke-width=\"0.3\"/><path d=\"M 351 385 340 382\" stroke=\"black\" stroke-width=\"0.3\"/><path d=\"M 351 385 368 378\" stroke=\"black\" stroke-width=\"0.3\"/><path d=\"M 351 385 347 374\" stroke=\"black\" stroke-width=\"0.3\"/><path d=\"M 351 385 360 392\" stroke=\"black\" stroke-width=\"0.3\"/><path d=\"M 351 385 323 383\" stroke=\"black\" stroke-width=\"0.3\"/><path d=\"M 347 374 340 382\" stroke=\"black\" stroke-width=\"0.3\"/><path d=\"M 347 374 368 378\" stroke=\"black\" stroke-width=\"0.3\"/><path d=\"M 347 374 351 385\" stroke=\"black\" stroke-width=\"0.3\"/><path d=\"M 347 374 360 392\" stroke=\"black\" stroke-width=\"0.3\"/><path d=\"M 347 374 323 383\" stroke=\"black\" stroke-width=\"0.3\"/><path d=\"M 360 392 340 382\" stroke=\"black\" stroke-width=\"0.3\"/><path d=\"M 360 392 368 378\" stroke=\"black\" stroke-width=\"0.3\"/><path d=\"M 360 392 351 385\" stroke=\"black\" stroke-width=\"0.3\"/><path d=\"M 360 392 347 374\" stroke=\"black\" stroke-width=\"0.3\"/><path d=\"M 698 380 716 389\" stroke=\"black\" stroke-width=\"0.3\"/><path d=\"M 698 380 720 375\" stroke=\"black\" stroke-width=\"0.3\"/><path d=\"M 716 389 698 380\" stroke=\"black\" stroke-width=\"0.3\"/><path d=\"M 716 389 720 375\" stroke=\"black\" stroke-width=\"0.3\"/><path d=\"M 720 375 698 380\" stroke=\"black\" stroke-width=\"0.3\"/><path d=\"M 720 375 716 389\" stroke=\"black\" stroke-width=\"0.3\"/><path d=\"M 503 364 487 367\" stroke=\"black\" stroke-width=\"0.3\"/><path d=\"M 503 364 488 351\" stroke=\"black\" stroke-width=\"0.3\"/><path d=\"M 503 364 478 359\" stroke=\"black\" stroke-width=\"0.3\"/><path d=\"M 503 364 504 354\" stroke=\"black\" stroke-width=\"0.3\"/><path d=\"M 487 367 503 364\" stroke=\"black\" stroke-width=\"0.3\"/><path d=\"M 487 367 488 351\" stroke=\"black\" stroke-width=\"0.3\"/><path d=\"M 487 367 478 359\" stroke=\"black\" stroke-width=\"0.3\"/><path d=\"M 487 367 504 354\" stroke=\"black\" stroke-width=\"0.3\"/><path d=\"M 488 351 503 364\" stroke=\"black\" stroke-width=\"0.3\"/><path d=\"M 488 351 487 367\" stroke=\"black\" stroke-width=\"0.3\"/><path d=\"M 488 351 478 359\" stroke=\"black\" stroke-width=\"0.3\"/><path d=\"M 488 351 504 354\" stroke=\"black\" stroke-width=\"0.3\"/><path d=\"M 478 359 503 364\" stroke=\"black\" stroke-width=\"0.3\"/><path d=\"M 478 359 487 367\" stroke=\"black\" stroke-width=\"0.3\"/><path d=\"M 478 359 488 351\" stroke=\"black\" stroke-width=\"0.3\"/><path d=\"M 478 359 504 354\" stroke=\"black\" stroke-width=\"0.3\"/><path d=\"M 504 354 503 364\" stroke=\"black\" stroke-width=\"0.3\"/><path d=\"M 504 354 487 367\" stroke=\"black\" stroke-width=\"0.3\"/><path d=\"M 504 354 488 351\" stroke=\"black\" stroke-width=\"0.3\"/><path d=\"M 504 354 478 359\" stroke=\"black\" stroke-width=\"0.3\"/><path d=\"M 383 169 393 164\" stroke=\"black\" stroke-width=\"0.3\"/><path d=\"M 383 169 412 173\" stroke=\"black\" stroke-width=\"0.3\"/><path d=\"M 383 169 383 177\" stroke=\"black\" stroke-width=\"0.3\"/><path d=\"M 383 169 397 173\" stroke=\"black\" stroke-width=\"0.3\"/><path d=\"M 383 169 394 182\" stroke=\"black\" stroke-width=\"0.3\"/><path d=\"M 383 169 406 165\" stroke=\"black\" stroke-width=\"0.3\"/><path d=\"M 383 169 407 180\" stroke=\"black\" stroke-width=\"0.3\"/><path d=\"M 393 164 383 169\" stroke=\"black\" stroke-width=\"0.3\"/><path d=\"M 393 164 412 173\" stroke=\"black\" stroke-width=\"0.3\"/><path d=\"M 393 164 383 177\" stroke=\"black\" stroke-width=\"0.3\"/><path d=\"M 393 164 397 173\" stroke=\"black\" stroke-width=\"0.3\"/><path d=\"M 393 164 394 182\" stroke=\"black\" stroke-width=\"0.3\"/><path d=\"M 393 164 406 165\" stroke=\"black\" stroke-width=\"0.3\"/><path d=\"M 393 164 407 180\" stroke=\"black\" stroke-width=\"0.3\"/><path d=\"M 412 173 383 169\" stroke=\"black\" stroke-width=\"0.3\"/><path d=\"M 412 173 393 164\" stroke=\"black\" stroke-width=\"0.3\"/><path d=\"M 412 173 383 177\" stroke=\"black\" stroke-width=\"0.3\"/><path d=\"M 412 173 397 173\" stroke=\"black\" stroke-width=\"0.3\"/><path d=\"M 412 173 394 182\" stroke=\"black\" stroke-width=\"0.3\"/><path d=\"M 412 173 406 165\" stroke=\"black\" stroke-width=\"0.3\"/><path d=\"M 412 173 407 180\" stroke=\"black\" stroke-width=\"0.3\"/><path d=\"M 383 177 383 169\" stroke=\"black\" stroke-width=\"0.3\"/><path d=\"M 383 177 393 164\" stroke=\"black\" stroke-width=\"0.3\"/><path d=\"M 383 177 412 173\" stroke=\"black\" stroke-width=\"0.3\"/><path d=\"M 383 177 397 173\" stroke=\"black\" stroke-width=\"0.3\"/><path d=\"M 383 177 394 182\" stroke=\"black\" stroke-width=\"0.3\"/><path d=\"M 383 177 406 165\" stroke=\"black\" stroke-width=\"0.3\"/><path d=\"M 383 177 407 180\" stroke=\"black\" stroke-width=\"0.3\"/><path d=\"M 397 173 383 169\" stroke=\"black\" stroke-width=\"0.3\"/><path d=\"M 397 173 393 164\" stroke=\"black\" stroke-width=\"0.3\"/><path d=\"M 397 173 412 173\" stroke=\"black\" stroke-width=\"0.3\"/><path d=\"M 397 173 383 177\" stroke=\"black\" stroke-width=\"0.3\"/><path d=\"M 397 173 394 182\" stroke=\"black\" stroke-width=\"0.3\"/><path d=\"M 397 173 406 165\" stroke=\"black\" stroke-width=\"0.3\"/><path d=\"M 397 173 407 180\" stroke=\"black\" stroke-width=\"0.3\"/><path d=\"M 394 182 383 169\" stroke=\"black\" stroke-width=\"0.3\"/><path d=\"M 394 182 393 164\" stroke=\"black\" stroke-width=\"0.3\"/><path d=\"M 394 182 412 173\" stroke=\"black\" stroke-width=\"0.3\"/><path d=\"M 394 182 383 177\" stroke=\"black\" stroke-width=\"0.3\"/><path d=\"M 394 182 397 173\" stroke=\"black\" stroke-width=\"0.3\"/><path d=\"M 394 182 406 165\" stroke=\"black\" stroke-width=\"0.3\"/><path d=\"M 394 182 407 180\" stroke=\"black\" stroke-width=\"0.3\"/><path d=\"M 406 165 383 169\" stroke=\"black\" stroke-width=\"0.3\"/><path d=\"M 406 165 393 164\" stroke=\"black\" stroke-width=\"0.3\"/><path d=\"M 406 165 412 173\" stroke=\"black\" stroke-width=\"0.3\"/><path d=\"M 406 165 383 177\" stroke=\"black\" stroke-width=\"0.3\"/><path d=\"M 406 165 397 173\" stroke=\"black\" stroke-width=\"0.3\"/><path d=\"M 406 165 394 182\" stroke=\"black\" stroke-width=\"0.3\"/><path d=\"M 406 165 407 180\" stroke=\"black\" stroke-width=\"0.3\"/><path d=\"M 407 180 383 169\" stroke=\"black\" stroke-width=\"0.3\"/><path d=\"M 407 180 393 164\" stroke=\"black\" stroke-width=\"0.3\"/><path d=\"M 407 180 412 173\" stroke=\"black\" stroke-width=\"0.3\"/><path d=\"M 407 180 383 177\" stroke=\"black\" stroke-width=\"0.3\"/><path d=\"M 407 180 397 173\" stroke=\"black\" stroke-width=\"0.3\"/><path d=\"M 407 180 394 182\" stroke=\"black\" stroke-width=\"0.3\"/><path d=\"M 407 180 406 165\" stroke=\"black\" stroke-width=\"0.3\"/><path d=\"M 158 223 174 240\" stroke=\"black\" stroke-width=\"0.3\"/><path d=\"M 158 223 143 236\" stroke=\"black\" stroke-width=\"0.3\"/><path d=\"M 158 223 142 226\" stroke=\"black\" stroke-width=\"0.3\"/><path d=\"M 143 236 174 240\" stroke=\"black\" stroke-width=\"0.3\"/><path d=\"M 143 236 158 223\" stroke=\"black\" stroke-width=\"0.3\"/><path d=\"M 143 236 142 226\" stroke=\"black\" stroke-width=\"0.3\"/><path d=\"M 142 226 174 240\" stroke=\"black\" stroke-width=\"0.3\"/><path d=\"M 142 226 158 223\" stroke=\"black\" stroke-width=\"0.3\"/><path d=\"M 142 226 143 236\" stroke=\"black\" stroke-width=\"0.3\"/><path d=\"M 432 511 418 503\" stroke=\"black\" stroke-width=\"0.3\"/><path d=\"M 432 511 419 520\" stroke=\"black\" stroke-width=\"0.3\"/><path d=\"M 432 511 404 512\" stroke=\"black\" stroke-width=\"0.3\"/><path d=\"M 418 503 432 511\" stroke=\"black\" stroke-width=\"0.3\"/><path d=\"M 418 503 419 520\" stroke=\"black\" stroke-width=\"0.3\"/><path d=\"M 418 503 404 512\" stroke=\"black\" stroke-width=\"0.3\"/><path d=\"M 419 520 432 511\" stroke=\"black\" stroke-width=\"0.3\"/><path d=\"M 419 520 418 503\" stroke=\"black\" stroke-width=\"0.3\"/><path d=\"M 419 520 404 512\" stroke=\"black\" stroke-width=\"0.3\"/><path d=\"M 404 512 432 511\" stroke=\"black\" stroke-width=\"0.3\"/><path d=\"M 404 512 418 503\" stroke=\"black\" stroke-width=\"0.3\"/><path d=\"M 404 512 419 520\" stroke=\"black\" stroke-width=\"0.3\"/><path d=\"M 195 405 195 396\" stroke=\"black\" stroke-width=\"0.3\"/><path d=\"M 195 405 182 391\" stroke=\"black\" stroke-width=\"0.3\"/><path d=\"M 195 405 171 405\" stroke=\"black\" stroke-width=\"0.3\"/><path d=\"M 195 405 183 409\" stroke=\"black\" stroke-width=\"0.3\"/><path d=\"M 195 405 170 396\" stroke=\"black\" stroke-width=\"0.3\"/><path d=\"M 195 396 195 405\" stroke=\"black\" stroke-width=\"0.3\"/><path d=\"M 195 396 182 391\" stroke=\"black\" stroke-width=\"0.3\"/><path d=\"M 195 396 171 405\" stroke=\"black\" stroke-width=\"0.3\"/><path d=\"M 195 396 183 409\" stroke=\"black\" stroke-width=\"0.3\"/><path d=\"M 195 396 170 396\" stroke=\"black\" stroke-width=\"0.3\"/><path d=\"M 182 391 195 405\" stroke=\"black\" stroke-width=\"0.3\"/><path d=\"M 182 391 195 396\" stroke=\"black\" stroke-width=\"0.3\"/><path d=\"M 182 391 171 405\" stroke=\"black\" stroke-width=\"0.3\"/><path d=\"M 182 391 183 409\" stroke=\"black\" stroke-width=\"0.3\"/><path d=\"M 182 391 170 396\" stroke=\"black\" stroke-width=\"0.3\"/><path d=\"M 171 405 195 405\" stroke=\"black\" stroke-width=\"0.3\"/><path d=\"M 171 405 195 396\" stroke=\"black\" stroke-width=\"0.3\"/><path d=\"M 171 405 182 391\" stroke=\"black\" stroke-width=\"0.3\"/><path d=\"M 171 405 183 409\" stroke=\"black\" stroke-width=\"0.3\"/><path d=\"M 171 405 170 396\" stroke=\"black\" stroke-width=\"0.3\"/><path d=\"M 183 409 195 405\" stroke=\"black\" stroke-width=\"0.3\"/><path d=\"M 183 409 195 396\" stroke=\"black\" stroke-width=\"0.3\"/><path d=\"M 183 409 182 391\" stroke=\"black\" stroke-width=\"0.3\"/><path d=\"M 183 409 171 405\" stroke=\"black\" stroke-width=\"0.3\"/><path d=\"M 183 409 170 396\" stroke=\"black\" stroke-width=\"0.3\"/><path d=\"M 170 396 195 405\" stroke=\"black\" stroke-width=\"0.3\"/><path d=\"M 170 396 195 396\" stroke=\"black\" stroke-width=\"0.3\"/><path d=\"M 170 396 182 391\" stroke=\"black\" stroke-width=\"0.3\"/><path d=\"M 170 396 171 405\" stroke=\"black\" stroke-width=\"0.3\"/><path d=\"M 170 396 183 409\" stroke=\"black\" stroke-width=\"0.3\"/><path d=\"M 544 20 561 29\" stroke=\"black\" stroke-width=\"0.3\"/><path d=\"M 561 29 544 20\" stroke=\"black\" stroke-width=\"0.3\"/><path d=\"M 323 383 340 382\" stroke=\"black\" stroke-width=\"0.3\"/><path d=\"M 323 383 351 385\" stroke=\"black\" stroke-width=\"0.3\"/><path d=\"M 323 383 347 374\" stroke=\"black\" stroke-width=\"0.3\"/><path d=\"M 249 110 255 101\" stroke=\"black\" stroke-width=\"0.3\"/><path d=\"M 249 110 232 110\" stroke=\"black\" stroke-width=\"0.3\"/><path d=\"M 249 110 228 100\" stroke=\"black\" stroke-width=\"0.3\"/><path d=\"M 249 110 242 95\" stroke=\"black\" stroke-width=\"0.3\"/><path d=\"M 255 101 249 110\" stroke=\"black\" stroke-width=\"0.3\"/><path d=\"M 255 101 232 110\" stroke=\"black\" stroke-width=\"0.3\"/><path d=\"M 255 101 228 100\" stroke=\"black\" stroke-width=\"0.3\"/><path d=\"M 255 101 242 95\" stroke=\"black\" stroke-width=\"0.3\"/><path d=\"M 232 110 249 110\" stroke=\"black\" stroke-width=\"0.3\"/><path d=\"M 232 110 255 101\" stroke=\"black\" stroke-width=\"0.3\"/><path d=\"M 232 110 228 100\" stroke=\"black\" stroke-width=\"0.3\"/><path d=\"M 232 110 242 95\" stroke=\"black\" stroke-width=\"0.3\"/><path d=\"M 228 100 249 110\" stroke=\"black\" stroke-width=\"0.3\"/><path d=\"M 228 100 255 101\" stroke=\"black\" stroke-width=\"0.3\"/><path d=\"M 228 100 232 110\" stroke=\"black\" stroke-width=\"0.3\"/><path d=\"M 228 100 242 95\" stroke=\"black\" stroke-width=\"0.3\"/><path d=\"M 242 95 249 110\" stroke=\"black\" stroke-width=\"0.3\"/><path d=\"M 242 95 255 101\" stroke=\"black\" stroke-width=\"0.3\"/><path d=\"M 242 95 232 110\" stroke=\"black\" stroke-width=\"0.3\"/><path d=\"M 242 95 228 100\" stroke=\"black\" stroke-width=\"0.3\"/><path d=\"M 686 268 662 275\" stroke=\"black\" stroke-width=\"0.3\"/><path d=\"M 686 268 689 278\" stroke=\"black\" stroke-width=\"0.3\"/><path d=\"M 686 268 674 282\" stroke=\"black\" stroke-width=\"0.3\"/><path d=\"M 686 268 670 266\" stroke=\"black\" stroke-width=\"0.3\"/><path d=\"M 662 275 686 268\" stroke=\"black\" stroke-width=\"0.3\"/><path d=\"M 662 275 689 278\" stroke=\"black\" stroke-width=\"0.3\"/><path d=\"M 662 275 674 282\" stroke=\"black\" stroke-width=\"0.3\"/><path d=\"M 662 275 670 266\" stroke=\"black\" stroke-width=\"0.3\"/><path d=\"M 689 278 686 268\" stroke=\"black\" stroke-width=\"0.3\"/><path d=\"M 689 278 662 275\" stroke=\"black\" stroke-width=\"0.3\"/><path d=\"M 689 278 674 282\" stroke=\"black\" stroke-width=\"0.3\"/><path d=\"M 689 278 670 266\" stroke=\"black\" stroke-width=\"0.3\"/><path d=\"M 674 282 686 268\" stroke=\"black\" stroke-width=\"0.3\"/><path d=\"M 674 282 662 275\" stroke=\"black\" stroke-width=\"0.3\"/><path d=\"M 674 282 689 278\" stroke=\"black\" stroke-width=\"0.3\"/><path d=\"M 674 282 670 266\" stroke=\"black\" stroke-width=\"0.3\"/><path d=\"M 670 266 686 268\" stroke=\"black\" stroke-width=\"0.3\"/><path d=\"M 670 266 662 275\" stroke=\"black\" stroke-width=\"0.3\"/><path d=\"M 670 266 689 278\" stroke=\"black\" stroke-width=\"0.3\"/><path d=\"M 670 266 674 282\" stroke=\"black\" stroke-width=\"0.3\"/><circle cx=\"605\" cy=\"158\" r=\"2.0\" style=\"fill:rgb(152, 185, 254);stroke:black;stroke-width:1.0\"/><circle cx=\"632\" cy=\"156\" r=\"2.0\" style=\"fill:rgb(152, 185, 254);stroke:black;stroke-width:1.0\"/><circle cx=\"629\" cy=\"166\" r=\"2.0\" style=\"fill:rgb(152, 185, 254);stroke:black;stroke-width:1.0\"/><circle cx=\"612\" cy=\"167\" r=\"2.0\" style=\"fill:rgb(152, 185, 254);stroke:black;stroke-width:1.0\"/><circle cx=\"617\" cy=\"152\" r=\"2.0\" style=\"fill:rgb(152, 185, 254);stroke:black;stroke-width:1.0\"/><circle cx=\"394\" cy=\"260\" r=\"2.0\" style=\"fill:rgb(152, 185, 254);stroke:black;stroke-width:1.0\"/><circle cx=\"370\" cy=\"259\" r=\"2.0\" style=\"fill:rgb(152, 185, 254);stroke:black;stroke-width:1.0\"/><circle cx=\"190\" cy=\"249\" r=\"2.0\" style=\"fill:rgb(141, 175, 253);stroke:black;stroke-width:1.0\"/><circle cx=\"207\" cy=\"253\" r=\"2.0\" style=\"fill:rgb(141, 175, 253);stroke:black;stroke-width:1.0\"/><circle cx=\"190\" cy=\"258\" r=\"2.0\" style=\"fill:rgb(141, 175, 253);stroke:black;stroke-width:1.0\"/><circle cx=\"204\" cy=\"242\" r=\"2.0\" style=\"fill:rgb(141, 175, 253);stroke:black;stroke-width:1.0\"/><circle cx=\"174\" cy=\"240\" r=\"2.0\" style=\"fill:rgb(179, 3, 38);stroke:black;stroke-width:1.0\"/><circle cx=\"20\" cy=\"380\" r=\"2.0\" style=\"fill:rgb(152, 185, 254);stroke:black;stroke-width:1.0\"/><circle cx=\"41\" cy=\"385\" r=\"2.0\" style=\"fill:rgb(152, 185, 254);stroke:black;stroke-width:1.0\"/><circle cx=\"36\" cy=\"371\" r=\"2.0\" style=\"fill:rgb(152, 185, 254);stroke:black;stroke-width:1.0\"/><circle cx=\"556\" cy=\"437\" r=\"2.0\" style=\"fill:rgb(152, 185, 254);stroke:black;stroke-width:1.0\"/><circle cx=\"574\" cy=\"449\" r=\"2.0\" style=\"fill:rgb(152, 185, 254);stroke:black;stroke-width:1.0\"/><circle cx=\"575\" cy=\"438\" r=\"2.0\" style=\"fill:rgb(152, 185, 254);stroke:black;stroke-width:1.0\"/><circle cx=\"554\" cy=\"449\" r=\"2.0\" style=\"fill:rgb(152, 185, 254);stroke:black;stroke-width:1.0\"/><circle cx=\"340\" cy=\"382\" r=\"2.0\" style=\"fill:rgb(202, 216, 238);stroke:black;stroke-width:1.0\"/><circle cx=\"368\" cy=\"378\" r=\"2.0\" style=\"fill:rgb(123, 158, 248);stroke:black;stroke-width:1.0\"/><circle cx=\"351\" cy=\"385\" r=\"2.0\" style=\"fill:rgb(202, 216, 238);stroke:black;stroke-width:1.0\"/><circle cx=\"347\" cy=\"374\" r=\"2.0\" style=\"fill:rgb(202, 216, 238);stroke:black;stroke-width:1.0\"/><circle cx=\"360\" cy=\"392\" r=\"2.0\" style=\"fill:rgb(123, 158, 248);stroke:black;stroke-width:1.0\"/><circle cx=\"698\" cy=\"380\" r=\"2.0\" style=\"fill:rgb(152, 185, 254);stroke:black;stroke-width:1.0\"/><circle cx=\"716\" cy=\"389\" r=\"2.0\" style=\"fill:rgb(152, 185, 254);stroke:black;stroke-width:1.0\"/><circle cx=\"720\" cy=\"375\" r=\"2.0\" style=\"fill:rgb(152, 185, 254);stroke:black;stroke-width:1.0\"/><circle cx=\"503\" cy=\"364\" r=\"2.0\" style=\"fill:rgb(152, 185, 254);stroke:black;stroke-width:1.0\"/><circle cx=\"487\" cy=\"367\" r=\"2.0\" style=\"fill:rgb(152, 185, 254);stroke:black;stroke-width:1.0\"/><circle cx=\"488\" cy=\"351\" r=\"2.0\" style=\"fill:rgb(152, 185, 254);stroke:black;stroke-width:1.0\"/><circle cx=\"478\" cy=\"359\" r=\"2.0\" style=\"fill:rgb(152, 185, 254);stroke:black;stroke-width:1.0\"/><circle cx=\"504\" cy=\"354\" r=\"2.0\" style=\"fill:rgb(152, 185, 254);stroke:black;stroke-width:1.0\"/><circle cx=\"383\" cy=\"169\" r=\"2.0\" style=\"fill:rgb(152, 185, 254);stroke:black;stroke-width:1.0\"/><circle cx=\"393\" cy=\"164\" r=\"2.0\" style=\"fill:rgb(152, 185, 254);stroke:black;stroke-width:1.0\"/><circle cx=\"412\" cy=\"173\" r=\"2.0\" style=\"fill:rgb(152, 185, 254);stroke:black;stroke-width:1.0\"/><circle cx=\"383\" cy=\"177\" r=\"2.0\" style=\"fill:rgb(152, 185, 254);stroke:black;stroke-width:1.0\"/><circle cx=\"397\" cy=\"173\" r=\"2.0\" style=\"fill:rgb(152, 185, 254);stroke:black;stroke-width:1.0\"/><circle cx=\"394\" cy=\"182\" r=\"2.0\" style=\"fill:rgb(152, 185, 254);stroke:black;stroke-width:1.0\"/><circle cx=\"406\" cy=\"165\" r=\"2.0\" style=\"fill:rgb(152, 185, 254);stroke:black;stroke-width:1.0\"/><circle cx=\"407\" cy=\"180\" r=\"2.0\" style=\"fill:rgb(152, 185, 254);stroke:black;stroke-width:1.0\"/><circle cx=\"158\" cy=\"223\" r=\"2.0\" style=\"fill:rgb(82, 110, 220);stroke:black;stroke-width:1.0\"/><circle cx=\"143\" cy=\"236\" r=\"2.0\" style=\"fill:rgb(82, 110, 220);stroke:black;stroke-width:1.0\"/><circle cx=\"142\" cy=\"226\" r=\"2.0\" style=\"fill:rgb(82, 110, 220);stroke:black;stroke-width:1.0\"/><circle cx=\"432\" cy=\"511\" r=\"2.0\" style=\"fill:rgb(152, 185, 254);stroke:black;stroke-width:1.0\"/><circle cx=\"418\" cy=\"503\" r=\"2.0\" style=\"fill:rgb(152, 185, 254);stroke:black;stroke-width:1.0\"/><circle cx=\"419\" cy=\"520\" r=\"2.0\" style=\"fill:rgb(152, 185, 254);stroke:black;stroke-width:1.0\"/><circle cx=\"404\" cy=\"512\" r=\"2.0\" style=\"fill:rgb(152, 185, 254);stroke:black;stroke-width:1.0\"/><circle cx=\"195\" cy=\"405\" r=\"2.0\" style=\"fill:rgb(152, 185, 254);stroke:black;stroke-width:1.0\"/><circle cx=\"195\" cy=\"396\" r=\"2.0\" style=\"fill:rgb(152, 185, 254);stroke:black;stroke-width:1.0\"/><circle cx=\"182\" cy=\"391\" r=\"2.0\" style=\"fill:rgb(152, 185, 254);stroke:black;stroke-width:1.0\"/><circle cx=\"171\" cy=\"405\" r=\"2.0\" style=\"fill:rgb(152, 185, 254);stroke:black;stroke-width:1.0\"/><circle cx=\"183\" cy=\"409\" r=\"2.0\" style=\"fill:rgb(152, 185, 254);stroke:black;stroke-width:1.0\"/><circle cx=\"170\" cy=\"396\" r=\"2.0\" style=\"fill:rgb(152, 185, 254);stroke:black;stroke-width:1.0\"/><circle cx=\"544\" cy=\"20\" r=\"2.0\" style=\"fill:rgb(152, 185, 254);stroke:black;stroke-width:1.0\"/><circle cx=\"561\" cy=\"29\" r=\"2.0\" style=\"fill:rgb(152, 185, 254);stroke:black;stroke-width:1.0\"/><circle cx=\"323\" cy=\"383\" r=\"2.0\" style=\"fill:rgb(58, 76, 192);stroke:black;stroke-width:1.0\"/><circle cx=\"249\" cy=\"110\" r=\"2.0\" style=\"fill:rgb(152, 185, 254);stroke:black;stroke-width:1.0\"/><circle cx=\"255\" cy=\"101\" r=\"2.0\" style=\"fill:rgb(152, 185, 254);stroke:black;stroke-width:1.0\"/><circle cx=\"232\" cy=\"110\" r=\"2.0\" style=\"fill:rgb(152, 185, 254);stroke:black;stroke-width:1.0\"/><circle cx=\"228\" cy=\"100\" r=\"2.0\" style=\"fill:rgb(152, 185, 254);stroke:black;stroke-width:1.0\"/><circle cx=\"242\" cy=\"95\" r=\"2.0\" style=\"fill:rgb(152, 185, 254);stroke:black;stroke-width:1.0\"/><circle cx=\"686\" cy=\"268\" r=\"2.0\" style=\"fill:rgb(152, 185, 254);stroke:black;stroke-width:1.0\"/><circle cx=\"662\" cy=\"275\" r=\"2.0\" style=\"fill:rgb(152, 185, 254);stroke:black;stroke-width:1.0\"/><circle cx=\"689\" cy=\"278\" r=\"2.0\" style=\"fill:rgb(152, 185, 254);stroke:black;stroke-width:1.0\"/><circle cx=\"674\" cy=\"282\" r=\"2.0\" style=\"fill:rgb(152, 185, 254);stroke:black;stroke-width:1.0\"/><circle cx=\"670\" cy=\"266\" r=\"2.0\" style=\"fill:rgb(152, 185, 254);stroke:black;stroke-width:1.0\"/></svg>"
      ],
      "text/plain": [
       "<IPython.core.display.SVG object>"
      ]
     },
     "execution_count": 7,
     "metadata": {},
     "output_type": "execute_result"
    }
   ],
   "source": [
    "# this is artificial life without labels; it runs fast because this is a small network\n",
    "\n",
    "draw_graph(G, node_size=2, show_names=False, edge_width=0.3)"
   ]
  },
  {
   "cell_type": "code",
   "execution_count": 8,
   "id": "22b91ea6",
   "metadata": {},
   "outputs": [],
   "source": [
    "# this is the core of the network science network with labels; the largest cluster in the bipartite projection\n",
    "\n",
    "#draw_graph(nx.k_core(G, 10), node_size=2, font_size=12, show_names=True, edge_width=0.1)"
   ]
  },
  {
   "cell_type": "code",
   "execution_count": 9,
   "id": "d5525369",
   "metadata": {},
   "outputs": [],
   "source": [
    "# nodes = list(nx.k_core(G, 10).nodes)\n",
    "# df[df['authors'].isin(nodes)]['title'].value_counts()[0:20]"
   ]
  },
  {
   "cell_type": "markdown",
   "id": "10aa2232",
   "metadata": {},
   "source": [
    "# Egocentric Network Analysis\n",
    "\n",
    "As the above visualization shows, this is a complex network. For knowledge discovery, we should use Egocentric Network Analysis to \"zoom in\" on nodes of interest. Any node can be looked at, but I am going to programmatically do this, in this notebook, showing only the top twenty nodes, according to page rank."
   ]
  },
  {
   "cell_type": "markdown",
   "id": "0dcf1d59",
   "metadata": {},
   "source": [
    "# PageRank - Identify Nodes of Interest"
   ]
  },
  {
   "cell_type": "code",
   "execution_count": 10,
   "id": "42fbb411",
   "metadata": {},
   "outputs": [
    {
     "data": {
      "text/html": [
       "<div>\n",
       "<style scoped>\n",
       "    .dataframe tbody tr th:only-of-type {\n",
       "        vertical-align: middle;\n",
       "    }\n",
       "\n",
       "    .dataframe tbody tr th {\n",
       "        vertical-align: top;\n",
       "    }\n",
       "\n",
       "    .dataframe thead th {\n",
       "        text-align: right;\n",
       "    }\n",
       "</style>\n",
       "<table border=\"1\" class=\"dataframe\">\n",
       "  <thead>\n",
       "    <tr style=\"text-align: right;\">\n",
       "      <th></th>\n",
       "      <th>page_rank</th>\n",
       "    </tr>\n",
       "  </thead>\n",
       "  <tbody>\n",
       "    <tr>\n",
       "      <th>Murat Ozer</th>\n",
       "      <td>0.025282</td>\n",
       "    </tr>\n",
       "    <tr>\n",
       "      <th>Anupam Joshi</th>\n",
       "      <td>0.017245</td>\n",
       "    </tr>\n",
       "    <tr>\n",
       "      <th>Sudip Mittal</th>\n",
       "      <td>0.017245</td>\n",
       "    </tr>\n",
       "    <tr>\n",
       "      <th>Priyanka Ranade</th>\n",
       "      <td>0.017245</td>\n",
       "    </tr>\n",
       "    <tr>\n",
       "      <th>Anastasia N. Graivoronskaya</th>\n",
       "      <td>0.015152</td>\n",
       "    </tr>\n",
       "    <tr>\n",
       "      <th>Aleksandr G. Dodonov</th>\n",
       "      <td>0.015152</td>\n",
       "    </tr>\n",
       "    <tr>\n",
       "      <th>Dmitry V. Lande</th>\n",
       "      <td>0.015152</td>\n",
       "    </tr>\n",
       "    <tr>\n",
       "      <th>Vitaliy V. Tsyganok</th>\n",
       "      <td>0.015152</td>\n",
       "    </tr>\n",
       "    <tr>\n",
       "      <th>Oleh V. Andriichuk</th>\n",
       "      <td>0.015152</td>\n",
       "    </tr>\n",
       "    <tr>\n",
       "      <th>Sergii V. Kadenko</th>\n",
       "      <td>0.015152</td>\n",
       "    </tr>\n",
       "  </tbody>\n",
       "</table>\n",
       "</div>"
      ],
      "text/plain": [
       "                             page_rank\n",
       "Murat Ozer                    0.025282\n",
       "Anupam Joshi                  0.017245\n",
       "Sudip Mittal                  0.017245\n",
       "Priyanka Ranade               0.017245\n",
       "Anastasia N. Graivoronskaya   0.015152\n",
       "Aleksandr G. Dodonov          0.015152\n",
       "Dmitry V. Lande               0.015152\n",
       "Vitaliy V. Tsyganok           0.015152\n",
       "Oleh V. Andriichuk            0.015152\n",
       "Sergii V. Kadenko             0.015152"
      ]
     },
     "execution_count": 10,
     "metadata": {},
     "output_type": "execute_result"
    }
   ],
   "source": [
    "page_rank = nx.pagerank(G)\n",
    "\n",
    "pr_df = pd.DataFrame().from_dict(page_rank, orient='index')\n",
    "pr_df.columns = ['page_rank']\n",
    "pr_df.sort_values('page_rank', ascending=False, inplace=True)\n",
    "pr_df.head(10)"
   ]
  },
  {
   "cell_type": "code",
   "execution_count": 11,
   "id": "71a59549",
   "metadata": {},
   "outputs": [
    {
     "data": {
      "image/png": "[encoded data removed]",
      "text/plain": [
       "<Figure size 864x576 with 1 Axes>"
      ]
     },
     "metadata": {
      "needs_background": "light"
     },
     "output_type": "display_data"
    }
   ],
   "source": [
    "title = 'Important Authors by PageRank'\n",
    "\n",
    "pr_df.head(20).plot.barh(figsize=(12,8), title=title).invert_yaxis()"
   ]
  },
  {
   "cell_type": "markdown",
   "id": "3565f936",
   "metadata": {},
   "source": [
    "# Egocentric Network Analysis\n",
    "Next, let's look at the Ego Graphs for each of the top ten characters found by PageRank. Before visualizing and inspecting the Ego Graphs, let's create a Python list so that we can more easily look through them without explicitely typing their names."
   ]
  },
  {
   "cell_type": "code",
   "execution_count": 12,
   "id": "9d823af1",
   "metadata": {},
   "outputs": [],
   "source": [
    "top_nodes = pr_df.head(20).index.values"
   ]
  },
  {
   "cell_type": "code",
   "execution_count": 13,
   "id": "662a98f3",
   "metadata": {},
   "outputs": [
    {
     "data": {
      "text/plain": [
       "'Murat Ozer'"
      ]
     },
     "execution_count": 13,
     "metadata": {},
     "output_type": "execute_result"
    }
   ],
   "source": [
    "top_nodes[0]"
   ]
  },
  {
   "cell_type": "markdown",
   "id": "6ecf99c7",
   "metadata": {},
   "source": [
    "Now we are all set to start looking through them, in order of importance."
   ]
  },
  {
   "cell_type": "markdown",
   "id": "290bcf1a",
   "metadata": {},
   "source": [
    "## Top Node Ego Networks\n",
    "Unlike last time, I am not going to drop the center node or write about findings. This is purely discovery. Remember two things:\n",
    "- The center node is known as the 'ego' node. It is the node being looked up.\n",
    "- The other nodes are known as 'alter' nodes. They are connected to the ego node, and sometimes with each other.\n",
    "\n",
    "Pay close attention to the alter nodes that link to other alter nodes. These are interesting relationships, and you can see subcommunities in the ego network. Think about what you are seeing. What does this tell you?"
   ]
  },
  {
   "cell_type": "code",
   "execution_count": 14,
   "id": "863ca7a1",
   "metadata": {},
   "outputs": [
    {
     "data": {
      "image/svg+xml": [
       "<svg height=\"540\" width=\"845.0\" xmlns=\"http://www.w3.org/2000/svg\"><path d=\"M 720 137 651 319\" stroke=\"gray\" stroke-width=\"0.3\"/><path d=\"M 720 137 584 20\" stroke=\"gray\" stroke-width=\"0.3\"/><path d=\"M 720 137 363 273\" stroke=\"gray\" stroke-width=\"0.3\"/><path d=\"M 651 319 720 137\" stroke=\"gray\" stroke-width=\"0.3\"/><path d=\"M 651 319 584 20\" stroke=\"gray\" stroke-width=\"0.3\"/><path d=\"M 651 319 363 273\" stroke=\"gray\" stroke-width=\"0.3\"/><path d=\"M 20 335 211 479\" stroke=\"gray\" stroke-width=\"0.3\"/><path d=\"M 20 335 79 520\" stroke=\"gray\" stroke-width=\"0.3\"/><path d=\"M 20 335 363 273\" stroke=\"gray\" stroke-width=\"0.3\"/><path d=\"M 20 335 122 214\" stroke=\"gray\" stroke-width=\"0.3\"/><path d=\"M 211 479 20 335\" stroke=\"gray\" stroke-width=\"0.3\"/><path d=\"M 211 479 79 520\" stroke=\"gray\" stroke-width=\"0.3\"/><path d=\"M 211 479 363 273\" stroke=\"gray\" stroke-width=\"0.3\"/><path d=\"M 211 479 122 214\" stroke=\"gray\" stroke-width=\"0.3\"/><path d=\"M 79 520 20 335\" stroke=\"gray\" stroke-width=\"0.3\"/><path d=\"M 79 520 211 479\" stroke=\"gray\" stroke-width=\"0.3\"/><path d=\"M 79 520 363 273\" stroke=\"gray\" stroke-width=\"0.3\"/><path d=\"M 79 520 122 214\" stroke=\"gray\" stroke-width=\"0.3\"/><path d=\"M 584 20 720 137\" stroke=\"gray\" stroke-width=\"0.3\"/><path d=\"M 584 20 651 319\" stroke=\"gray\" stroke-width=\"0.3\"/><path d=\"M 584 20 363 273\" stroke=\"gray\" stroke-width=\"0.3\"/><path d=\"M 363 273 720 137\" stroke=\"gray\" stroke-width=\"0.3\"/><path d=\"M 363 273 651 319\" stroke=\"gray\" stroke-width=\"0.3\"/><path d=\"M 363 273 20 335\" stroke=\"gray\" stroke-width=\"0.3\"/><path d=\"M 363 273 211 479\" stroke=\"gray\" stroke-width=\"0.3\"/><path d=\"M 363 273 79 520\" stroke=\"gray\" stroke-width=\"0.3\"/><path d=\"M 363 273 584 20\" stroke=\"gray\" stroke-width=\"0.3\"/><path d=\"M 363 273 122 214\" stroke=\"gray\" stroke-width=\"0.3\"/><path d=\"M 122 214 20 335\" stroke=\"gray\" stroke-width=\"0.3\"/><path d=\"M 122 214 211 479\" stroke=\"gray\" stroke-width=\"0.3\"/><path d=\"M 122 214 79 520\" stroke=\"gray\" stroke-width=\"0.3\"/><path d=\"M 122 214 363 273\" stroke=\"gray\" stroke-width=\"0.3\"/><circle cx=\"720\" cy=\"137\" r=\"3.0\" style=\"fill:rgb(58, 76, 192);stroke:black;stroke-width:1.0\"/><circle cx=\"651\" cy=\"319\" r=\"3.0\" style=\"fill:rgb(58, 76, 192);stroke:black;stroke-width:1.0\"/><circle cx=\"20\" cy=\"335\" r=\"3.0\" style=\"fill:rgb(116, 151, 245);stroke:black;stroke-width:1.0\"/><circle cx=\"211\" cy=\"479\" r=\"3.0\" style=\"fill:rgb(116, 151, 245);stroke:black;stroke-width:1.0\"/><circle cx=\"79\" cy=\"520\" r=\"3.0\" style=\"fill:rgb(116, 151, 245);stroke:black;stroke-width:1.0\"/><circle cx=\"584\" cy=\"20\" r=\"3.0\" style=\"fill:rgb(58, 76, 192);stroke:black;stroke-width:1.0\"/><circle cx=\"363\" cy=\"273\" r=\"3.0\" style=\"fill:rgb(179, 3, 38);stroke:black;stroke-width:1.0\"/><circle cx=\"122\" cy=\"214\" r=\"3.0\" style=\"fill:rgb(116, 151, 245);stroke:black;stroke-width:1.0\"/><text font-size=\"10\" x=\"726\" y=\"140\">Said Varlioglu</text><text font-size=\"10\" x=\"657\" y=\"322\">Mehmet F. Bastug</text><text font-size=\"10\" x=\"26\" y=\"338\">Victor Adewopo</text><text font-size=\"10\" x=\"217\" y=\"482\">Sylvia Worlali Azumah</text><text font-size=\"10\" x=\"85\" y=\"523\">Zag ElSayed</text><text font-size=\"10\" x=\"590\" y=\"23\">Bilal Gonen</text><text font-size=\"10\" x=\"369\" y=\"276\">Murat Ozer</text><text font-size=\"10\" x=\"128\" y=\"217\">Nelly Elsayed</text></svg>"
      ],
      "text/plain": [
       "<IPython.core.display.SVG object>"
      ]
     },
     "execution_count": 14,
     "metadata": {},
     "output_type": "execute_result"
    }
   ],
   "source": [
    "ego = top_nodes[0]\n",
    "\n",
    "G_ego = nx.ego_graph(G, ego)\n",
    "\n",
    "draw_graph(G_ego, show_names=True, node_size=3, edge_width=0.3)"
   ]
  },
  {
   "cell_type": "code",
   "execution_count": 15,
   "id": "1ae77008",
   "metadata": {},
   "outputs": [
    {
     "data": {
      "image/svg+xml": [
       "<svg height=\"540\" width=\"845.0\" xmlns=\"http://www.w3.org/2000/svg\"><path d=\"M 575 46 720 66\" stroke=\"gray\" stroke-width=\"0.3\"/><path d=\"M 575 46 703 20\" stroke=\"gray\" stroke-width=\"0.3\"/><path d=\"M 720 66 575 46\" stroke=\"gray\" stroke-width=\"0.3\"/><path d=\"M 720 66 703 20\" stroke=\"gray\" stroke-width=\"0.3\"/><path d=\"M 208 495 126 464\" stroke=\"gray\" stroke-width=\"0.3\"/><path d=\"M 208 495 101 520\" stroke=\"gray\" stroke-width=\"0.3\"/><path d=\"M 208 495 20 488\" stroke=\"gray\" stroke-width=\"0.3\"/><path d=\"M 126 464 208 495\" stroke=\"gray\" stroke-width=\"0.3\"/><path d=\"M 126 464 101 520\" stroke=\"gray\" stroke-width=\"0.3\"/><path d=\"M 126 464 20 488\" stroke=\"gray\" stroke-width=\"0.3\"/><path d=\"M 101 520 208 495\" stroke=\"gray\" stroke-width=\"0.3\"/><path d=\"M 101 520 126 464\" stroke=\"gray\" stroke-width=\"0.3\"/><path d=\"M 101 520 20 488\" stroke=\"gray\" stroke-width=\"0.3\"/><path d=\"M 703 20 575 46\" stroke=\"gray\" stroke-width=\"0.3\"/><path d=\"M 703 20 720 66\" stroke=\"gray\" stroke-width=\"0.3\"/><path d=\"M 20 488 208 495\" stroke=\"gray\" stroke-width=\"0.3\"/><path d=\"M 20 488 126 464\" stroke=\"gray\" stroke-width=\"0.3\"/><path d=\"M 20 488 101 520\" stroke=\"gray\" stroke-width=\"0.3\"/><circle cx=\"575\" cy=\"46\" r=\"3.0\" style=\"fill:rgb(219, 220, 222);stroke:black;stroke-width:1.0\"/><circle cx=\"720\" cy=\"66\" r=\"3.0\" style=\"fill:rgb(219, 220, 222);stroke:black;stroke-width:1.0\"/><circle cx=\"208\" cy=\"495\" r=\"3.0\" style=\"fill:rgb(219, 220, 222);stroke:black;stroke-width:1.0\"/><circle cx=\"126\" cy=\"464\" r=\"3.0\" style=\"fill:rgb(219, 220, 222);stroke:black;stroke-width:1.0\"/><circle cx=\"101\" cy=\"520\" r=\"3.0\" style=\"fill:rgb(219, 220, 222);stroke:black;stroke-width:1.0\"/><circle cx=\"703\" cy=\"20\" r=\"3.0\" style=\"fill:rgb(219, 220, 222);stroke:black;stroke-width:1.0\"/><circle cx=\"20\" cy=\"488\" r=\"3.0\" style=\"fill:rgb(219, 220, 222);stroke:black;stroke-width:1.0\"/><text font-size=\"10\" x=\"581\" y=\"49\">Said Varlioglu</text><text font-size=\"10\" x=\"726\" y=\"69\">Mehmet F. Bastug</text><text font-size=\"10\" x=\"214\" y=\"498\">Victor Adewopo</text><text font-size=\"10\" x=\"132\" y=\"467\">Sylvia Worlali Azumah</text><text font-size=\"10\" x=\"107\" y=\"523\">Zag ElSayed</text><text font-size=\"10\" x=\"709\" y=\"23\">Bilal Gonen</text><text font-size=\"10\" x=\"26\" y=\"491\">Nelly Elsayed</text></svg>"
      ],
      "text/plain": [
       "<IPython.core.display.SVG object>"
      ]
     },
     "execution_count": 15,
     "metadata": {},
     "output_type": "execute_result"
    }
   ],
   "source": [
    "ego = top_nodes[0]\n",
    "\n",
    "G_ego = nx.ego_graph(G, ego, center=False)\n",
    "\n",
    "draw_graph(G_ego, show_names=True, node_size=3, edge_width=0.3)"
   ]
  },
  {
   "cell_type": "code",
   "execution_count": 16,
   "id": "442798e9",
   "metadata": {},
   "outputs": [
    {
     "data": {
      "text/plain": [
       "['A Secure Open-Source Intelligence Framework For Cyberbullying Investigation',\n",
       " 'Is Cryptojacking Dead after Coinhive Shutdown?']"
      ]
     },
     "execution_count": 16,
     "metadata": {},
     "output_type": "execute_result"
    }
   ],
   "source": [
    "# you can look at what articles the author was part of this way, going from networks to NLP\n",
    "\n",
    "sorted(df[df['authors']==ego]['title'])"
   ]
  },
  {
   "cell_type": "code",
   "execution_count": 17,
   "id": "025314b1",
   "metadata": {},
   "outputs": [
    {
     "data": {
      "image/svg+xml": [
       "<svg height=\"540\" width=\"815.0\" xmlns=\"http://www.w3.org/2000/svg\"><path d=\"M 480 508 270 132\" stroke=\"gray\" stroke-width=\"0.3\"/><path d=\"M 480 508 337 344\" stroke=\"gray\" stroke-width=\"0.3\"/><path d=\"M 480 508 20 520\" stroke=\"gray\" stroke-width=\"0.3\"/><path d=\"M 480 508 720 272\" stroke=\"gray\" stroke-width=\"0.3\"/><path d=\"M 480 508 575 20\" stroke=\"gray\" stroke-width=\"0.3\"/><path d=\"M 270 132 480 508\" stroke=\"gray\" stroke-width=\"0.3\"/><path d=\"M 270 132 337 344\" stroke=\"gray\" stroke-width=\"0.3\"/><path d=\"M 270 132 20 520\" stroke=\"gray\" stroke-width=\"0.3\"/><path d=\"M 270 132 720 272\" stroke=\"gray\" stroke-width=\"0.3\"/><path d=\"M 270 132 575 20\" stroke=\"gray\" stroke-width=\"0.3\"/><path d=\"M 337 344 480 508\" stroke=\"gray\" stroke-width=\"0.3\"/><path d=\"M 337 344 270 132\" stroke=\"gray\" stroke-width=\"0.3\"/><path d=\"M 337 344 20 520\" stroke=\"gray\" stroke-width=\"0.3\"/><path d=\"M 337 344 720 272\" stroke=\"gray\" stroke-width=\"0.3\"/><path d=\"M 337 344 575 20\" stroke=\"gray\" stroke-width=\"0.3\"/><path d=\"M 20 520 480 508\" stroke=\"gray\" stroke-width=\"0.3\"/><path d=\"M 20 520 270 132\" stroke=\"gray\" stroke-width=\"0.3\"/><path d=\"M 20 520 337 344\" stroke=\"gray\" stroke-width=\"0.3\"/><path d=\"M 720 272 480 508\" stroke=\"gray\" stroke-width=\"0.3\"/><path d=\"M 720 272 270 132\" stroke=\"gray\" stroke-width=\"0.3\"/><path d=\"M 720 272 337 344\" stroke=\"gray\" stroke-width=\"0.3\"/><path d=\"M 720 272 575 20\" stroke=\"gray\" stroke-width=\"0.3\"/><path d=\"M 575 20 480 508\" stroke=\"gray\" stroke-width=\"0.3\"/><path d=\"M 575 20 270 132\" stroke=\"gray\" stroke-width=\"0.3\"/><path d=\"M 575 20 337 344\" stroke=\"gray\" stroke-width=\"0.3\"/><path d=\"M 575 20 720 272\" stroke=\"gray\" stroke-width=\"0.3\"/><circle cx=\"480\" cy=\"508\" r=\"3.0\" style=\"fill:rgb(179, 3, 38);stroke:black;stroke-width:1.0\"/><circle cx=\"270\" cy=\"132\" r=\"3.0\" style=\"fill:rgb(179, 3, 38);stroke:black;stroke-width:1.0\"/><circle cx=\"337\" cy=\"344\" r=\"3.0\" style=\"fill:rgb(179, 3, 38);stroke:black;stroke-width:1.0\"/><circle cx=\"20\" cy=\"520\" r=\"3.0\" style=\"fill:rgb(58, 76, 192);stroke:black;stroke-width:1.0\"/><circle cx=\"720\" cy=\"272\" r=\"3.0\" style=\"fill:rgb(214, 219, 228);stroke:black;stroke-width:1.0\"/><circle cx=\"575\" cy=\"20\" r=\"3.0\" style=\"fill:rgb(214, 219, 228);stroke:black;stroke-width:1.0\"/><text font-size=\"10\" x=\"486\" y=\"511\">Sudip Mittal</text><text font-size=\"10\" x=\"276\" y=\"135\">Anupam Joshi</text><text font-size=\"10\" x=\"343\" y=\"347\">Priyanka Ranade</text><text font-size=\"10\" x=\"26\" y=\"523\">Karuna Joshi</text><text font-size=\"10\" x=\"726\" y=\"275\">Aritran Piplai</text><text font-size=\"10\" x=\"581\" y=\"23\">Tim Finin</text></svg>"
      ],
      "text/plain": [
       "<IPython.core.display.SVG object>"
      ]
     },
     "execution_count": 17,
     "metadata": {},
     "output_type": "execute_result"
    }
   ],
   "source": [
    "ego = top_nodes[1]\n",
    "\n",
    "G_ego = nx.ego_graph(G, ego)\n",
    "\n",
    "draw_graph(G_ego, show_names=True, node_size=3, edge_width=0.3)"
   ]
  },
  {
   "cell_type": "code",
   "execution_count": 18,
   "id": "0893bb64",
   "metadata": {},
   "outputs": [
    {
     "data": {
      "image/svg+xml": [
       "<svg height=\"540\" width=\"815.0\" xmlns=\"http://www.w3.org/2000/svg\"><path d=\"M 448 345 158 230\" stroke=\"gray\" stroke-width=\"0.3\"/><path d=\"M 448 345 20 520\" stroke=\"gray\" stroke-width=\"0.3\"/><path d=\"M 448 345 720 150\" stroke=\"gray\" stroke-width=\"0.3\"/><path d=\"M 448 345 397 20\" stroke=\"gray\" stroke-width=\"0.3\"/><path d=\"M 158 230 448 345\" stroke=\"gray\" stroke-width=\"0.3\"/><path d=\"M 158 230 20 520\" stroke=\"gray\" stroke-width=\"0.3\"/><path d=\"M 158 230 720 150\" stroke=\"gray\" stroke-width=\"0.3\"/><path d=\"M 158 230 397 20\" stroke=\"gray\" stroke-width=\"0.3\"/><path d=\"M 20 520 448 345\" stroke=\"gray\" stroke-width=\"0.3\"/><path d=\"M 20 520 158 230\" stroke=\"gray\" stroke-width=\"0.3\"/><path d=\"M 720 150 448 345\" stroke=\"gray\" stroke-width=\"0.3\"/><path d=\"M 720 150 158 230\" stroke=\"gray\" stroke-width=\"0.3\"/><path d=\"M 720 150 397 20\" stroke=\"gray\" stroke-width=\"0.3\"/><path d=\"M 397 20 448 345\" stroke=\"gray\" stroke-width=\"0.3\"/><path d=\"M 397 20 158 230\" stroke=\"gray\" stroke-width=\"0.3\"/><path d=\"M 397 20 720 150\" stroke=\"gray\" stroke-width=\"0.3\"/><circle cx=\"448\" cy=\"345\" r=\"3.0\" style=\"fill:rgb(179, 3, 38);stroke:black;stroke-width:1.0\"/><circle cx=\"158\" cy=\"230\" r=\"3.0\" style=\"fill:rgb(179, 3, 38);stroke:black;stroke-width:1.0\"/><circle cx=\"20\" cy=\"520\" r=\"3.0\" style=\"fill:rgb(58, 76, 192);stroke:black;stroke-width:1.0\"/><circle cx=\"720\" cy=\"150\" r=\"3.0\" style=\"fill:rgb(214, 219, 228);stroke:black;stroke-width:1.0\"/><circle cx=\"397\" cy=\"20\" r=\"3.0\" style=\"fill:rgb(214, 219, 228);stroke:black;stroke-width:1.0\"/><text font-size=\"10\" x=\"454\" y=\"348\">Sudip Mittal</text><text font-size=\"10\" x=\"164\" y=\"233\">Priyanka Ranade</text><text font-size=\"10\" x=\"26\" y=\"523\">Karuna Joshi</text><text font-size=\"10\" x=\"726\" y=\"153\">Aritran Piplai</text><text font-size=\"10\" x=\"403\" y=\"23\">Tim Finin</text></svg>"
      ],
      "text/plain": [
       "<IPython.core.display.SVG object>"
      ]
     },
     "execution_count": 18,
     "metadata": {},
     "output_type": "execute_result"
    }
   ],
   "source": [
    "ego = top_nodes[1]\n",
    "\n",
    "G_ego = nx.ego_graph(G, ego, center=False)\n",
    "\n",
    "draw_graph(G_ego, show_names=True, node_size=3, edge_width=0.3)"
   ]
  },
  {
   "cell_type": "code",
   "execution_count": 19,
   "id": "8f5547b0",
   "metadata": {},
   "outputs": [
    {
     "data": {
      "text/plain": [
       "['Generating Fake Cyber Threat Intelligence Using Transformer-Based Models',\n",
       " 'Using Deep Neural Networks to Translate Multi-lingual Threat Intelligence']"
      ]
     },
     "execution_count": 19,
     "metadata": {},
     "output_type": "execute_result"
    }
   ],
   "source": [
    "# you can look at what articles the author was part of this way, going from networks to NLP\n",
    "\n",
    "sorted(df[df['authors']==ego]['title'])"
   ]
  },
  {
   "cell_type": "code",
   "execution_count": 20,
   "id": "62f53797",
   "metadata": {},
   "outputs": [
    {
     "data": {
      "image/svg+xml": [
       "<svg height=\"540\" width=\"815.0\" xmlns=\"http://www.w3.org/2000/svg\"><path d=\"M 314 520 406 276\" stroke=\"gray\" stroke-width=\"0.3\"/><path d=\"M 314 520 359 20\" stroke=\"gray\" stroke-width=\"0.3\"/><path d=\"M 314 520 720 339\" stroke=\"gray\" stroke-width=\"0.3\"/><path d=\"M 314 520 48 58\" stroke=\"gray\" stroke-width=\"0.3\"/><path d=\"M 314 520 20 398\" stroke=\"gray\" stroke-width=\"0.3\"/><path d=\"M 406 276 314 520\" stroke=\"gray\" stroke-width=\"0.3\"/><path d=\"M 406 276 359 20\" stroke=\"gray\" stroke-width=\"0.3\"/><path d=\"M 406 276 720 339\" stroke=\"gray\" stroke-width=\"0.3\"/><path d=\"M 406 276 48 58\" stroke=\"gray\" stroke-width=\"0.3\"/><path d=\"M 406 276 20 398\" stroke=\"gray\" stroke-width=\"0.3\"/><path d=\"M 359 20 314 520\" stroke=\"gray\" stroke-width=\"0.3\"/><path d=\"M 359 20 406 276\" stroke=\"gray\" stroke-width=\"0.3\"/><path d=\"M 359 20 720 339\" stroke=\"gray\" stroke-width=\"0.3\"/><path d=\"M 359 20 48 58\" stroke=\"gray\" stroke-width=\"0.3\"/><path d=\"M 359 20 20 398\" stroke=\"gray\" stroke-width=\"0.3\"/><path d=\"M 720 339 314 520\" stroke=\"gray\" stroke-width=\"0.3\"/><path d=\"M 720 339 406 276\" stroke=\"gray\" stroke-width=\"0.3\"/><path d=\"M 720 339 359 20\" stroke=\"gray\" stroke-width=\"0.3\"/><path d=\"M 48 58 314 520\" stroke=\"gray\" stroke-width=\"0.3\"/><path d=\"M 48 58 406 276\" stroke=\"gray\" stroke-width=\"0.3\"/><path d=\"M 48 58 359 20\" stroke=\"gray\" stroke-width=\"0.3\"/><path d=\"M 48 58 20 398\" stroke=\"gray\" stroke-width=\"0.3\"/><path d=\"M 20 398 314 520\" stroke=\"gray\" stroke-width=\"0.3\"/><path d=\"M 20 398 406 276\" stroke=\"gray\" stroke-width=\"0.3\"/><path d=\"M 20 398 359 20\" stroke=\"gray\" stroke-width=\"0.3\"/><path d=\"M 20 398 48 58\" stroke=\"gray\" stroke-width=\"0.3\"/><circle cx=\"314\" cy=\"520\" r=\"3.0\" style=\"fill:rgb(179, 3, 38);stroke:black;stroke-width:1.0\"/><circle cx=\"406\" cy=\"276\" r=\"3.0\" style=\"fill:rgb(179, 3, 38);stroke:black;stroke-width:1.0\"/><circle cx=\"359\" cy=\"20\" r=\"3.0\" style=\"fill:rgb(179, 3, 38);stroke:black;stroke-width:1.0\"/><circle cx=\"720\" cy=\"339\" r=\"3.0\" style=\"fill:rgb(58, 76, 192);stroke:black;stroke-width:1.0\"/><circle cx=\"48\" cy=\"58\" r=\"3.0\" style=\"fill:rgb(214, 219, 228);stroke:black;stroke-width:1.0\"/><circle cx=\"20\" cy=\"398\" r=\"3.0\" style=\"fill:rgb(214, 219, 228);stroke:black;stroke-width:1.0\"/><text font-size=\"10\" x=\"320\" y=\"523\">Sudip Mittal</text><text font-size=\"10\" x=\"412\" y=\"279\">Anupam Joshi</text><text font-size=\"10\" x=\"365\" y=\"23\">Priyanka Ranade</text><text font-size=\"10\" x=\"726\" y=\"342\">Karuna Joshi</text><text font-size=\"10\" x=\"54\" y=\"61\">Aritran Piplai</text><text font-size=\"10\" x=\"26\" y=\"401\">Tim Finin</text></svg>"
      ],
      "text/plain": [
       "<IPython.core.display.SVG object>"
      ]
     },
     "execution_count": 20,
     "metadata": {},
     "output_type": "execute_result"
    }
   ],
   "source": [
    "ego = top_nodes[2]\n",
    "\n",
    "G_ego = nx.ego_graph(G, ego)\n",
    "\n",
    "draw_graph(G_ego, show_names=True, node_size=3, edge_width=0.3)"
   ]
  },
  {
   "cell_type": "code",
   "execution_count": 21,
   "id": "0682c27d",
   "metadata": {},
   "outputs": [
    {
     "data": {
      "text/plain": [
       "['Generating Fake Cyber Threat Intelligence Using Transformer-Based Models',\n",
       " 'Using Deep Neural Networks to Translate Multi-lingual Threat Intelligence']"
      ]
     },
     "execution_count": 21,
     "metadata": {},
     "output_type": "execute_result"
    }
   ],
   "source": [
    "# you can look at what articles the author was part of this way, going from networks to NLP\n",
    "\n",
    "sorted(df[df['authors']==ego]['title'])"
   ]
  },
  {
   "cell_type": "code",
   "execution_count": 22,
   "id": "4c56a973",
   "metadata": {},
   "outputs": [
    {
     "data": {
      "image/svg+xml": [
       "<svg height=\"540\" width=\"815.0\" xmlns=\"http://www.w3.org/2000/svg\"><path d=\"M 303 520 407 294\" stroke=\"gray\" stroke-width=\"0.3\"/><path d=\"M 303 520 406 42\" stroke=\"gray\" stroke-width=\"0.3\"/><path d=\"M 303 520 720 398\" stroke=\"gray\" stroke-width=\"0.3\"/><path d=\"M 303 520 20 345\" stroke=\"gray\" stroke-width=\"0.3\"/><path d=\"M 303 520 89 20\" stroke=\"gray\" stroke-width=\"0.3\"/><path d=\"M 407 294 303 520\" stroke=\"gray\" stroke-width=\"0.3\"/><path d=\"M 407 294 406 42\" stroke=\"gray\" stroke-width=\"0.3\"/><path d=\"M 407 294 720 398\" stroke=\"gray\" stroke-width=\"0.3\"/><path d=\"M 407 294 20 345\" stroke=\"gray\" stroke-width=\"0.3\"/><path d=\"M 407 294 89 20\" stroke=\"gray\" stroke-width=\"0.3\"/><path d=\"M 406 42 303 520\" stroke=\"gray\" stroke-width=\"0.3\"/><path d=\"M 406 42 407 294\" stroke=\"gray\" stroke-width=\"0.3\"/><path d=\"M 406 42 720 398\" stroke=\"gray\" stroke-width=\"0.3\"/><path d=\"M 406 42 20 345\" stroke=\"gray\" stroke-width=\"0.3\"/><path d=\"M 406 42 89 20\" stroke=\"gray\" stroke-width=\"0.3\"/><path d=\"M 720 398 303 520\" stroke=\"gray\" stroke-width=\"0.3\"/><path d=\"M 720 398 407 294\" stroke=\"gray\" stroke-width=\"0.3\"/><path d=\"M 720 398 406 42\" stroke=\"gray\" stroke-width=\"0.3\"/><path d=\"M 20 345 303 520\" stroke=\"gray\" stroke-width=\"0.3\"/><path d=\"M 20 345 407 294\" stroke=\"gray\" stroke-width=\"0.3\"/><path d=\"M 20 345 406 42\" stroke=\"gray\" stroke-width=\"0.3\"/><path d=\"M 20 345 89 20\" stroke=\"gray\" stroke-width=\"0.3\"/><path d=\"M 89 20 303 520\" stroke=\"gray\" stroke-width=\"0.3\"/><path d=\"M 89 20 407 294\" stroke=\"gray\" stroke-width=\"0.3\"/><path d=\"M 89 20 406 42\" stroke=\"gray\" stroke-width=\"0.3\"/><path d=\"M 89 20 20 345\" stroke=\"gray\" stroke-width=\"0.3\"/><circle cx=\"303\" cy=\"520\" r=\"3.0\" style=\"fill:rgb(179, 3, 38);stroke:black;stroke-width:1.0\"/><circle cx=\"407\" cy=\"294\" r=\"3.0\" style=\"fill:rgb(179, 3, 38);stroke:black;stroke-width:1.0\"/><circle cx=\"406\" cy=\"42\" r=\"3.0\" style=\"fill:rgb(179, 3, 38);stroke:black;stroke-width:1.0\"/><circle cx=\"720\" cy=\"398\" r=\"3.0\" style=\"fill:rgb(58, 76, 192);stroke:black;stroke-width:1.0\"/><circle cx=\"20\" cy=\"345\" r=\"3.0\" style=\"fill:rgb(214, 219, 228);stroke:black;stroke-width:1.0\"/><circle cx=\"89\" cy=\"20\" r=\"3.0\" style=\"fill:rgb(214, 219, 228);stroke:black;stroke-width:1.0\"/><text font-size=\"10\" x=\"309\" y=\"523\">Sudip Mittal</text><text font-size=\"10\" x=\"413\" y=\"297\">Anupam Joshi</text><text font-size=\"10\" x=\"412\" y=\"45\">Priyanka Ranade</text><text font-size=\"10\" x=\"726\" y=\"401\">Karuna Joshi</text><text font-size=\"10\" x=\"26\" y=\"348\">Aritran Piplai</text><text font-size=\"10\" x=\"95\" y=\"23\">Tim Finin</text></svg>"
      ],
      "text/plain": [
       "<IPython.core.display.SVG object>"
      ]
     },
     "execution_count": 22,
     "metadata": {},
     "output_type": "execute_result"
    }
   ],
   "source": [
    "ego = top_nodes[3]\n",
    "\n",
    "G_ego = nx.ego_graph(G, ego)\n",
    "\n",
    "draw_graph(G_ego, show_names=True, node_size=3, edge_width=0.3)"
   ]
  },
  {
   "cell_type": "code",
   "execution_count": 23,
   "id": "1c8194f0",
   "metadata": {},
   "outputs": [
    {
     "data": {
      "text/plain": [
       "['Generating Fake Cyber Threat Intelligence Using Transformer-Based Models',\n",
       " 'Using Deep Neural Networks to Translate Multi-lingual Threat Intelligence']"
      ]
     },
     "execution_count": 23,
     "metadata": {},
     "output_type": "execute_result"
    }
   ],
   "source": [
    "# you can look at what articles the author was part of this way, going from networks to NLP\n",
    "\n",
    "sorted(df[df['authors']==ego]['title'])"
   ]
  },
  {
   "cell_type": "code",
   "execution_count": 24,
   "id": "7230b1b1",
   "metadata": {},
   "outputs": [
    {
     "data": {
      "image/svg+xml": [
       "<svg height=\"540\" width=\"875.0\" xmlns=\"http://www.w3.org/2000/svg\"><path d=\"M 223 20 720 294\" stroke=\"gray\" stroke-width=\"0.3\"/><path d=\"M 223 20 570 44\" stroke=\"gray\" stroke-width=\"0.3\"/><path d=\"M 223 20 20 245\" stroke=\"gray\" stroke-width=\"0.3\"/><path d=\"M 223 20 169 495\" stroke=\"gray\" stroke-width=\"0.3\"/><path d=\"M 223 20 516 520\" stroke=\"gray\" stroke-width=\"0.3\"/><path d=\"M 720 294 223 20\" stroke=\"gray\" stroke-width=\"0.3\"/><path d=\"M 720 294 570 44\" stroke=\"gray\" stroke-width=\"0.3\"/><path d=\"M 720 294 20 245\" stroke=\"gray\" stroke-width=\"0.3\"/><path d=\"M 720 294 169 495\" stroke=\"gray\" stroke-width=\"0.3\"/><path d=\"M 720 294 516 520\" stroke=\"gray\" stroke-width=\"0.3\"/><path d=\"M 570 44 223 20\" stroke=\"gray\" stroke-width=\"0.3\"/><path d=\"M 570 44 720 294\" stroke=\"gray\" stroke-width=\"0.3\"/><path d=\"M 570 44 20 245\" stroke=\"gray\" stroke-width=\"0.3\"/><path d=\"M 570 44 169 495\" stroke=\"gray\" stroke-width=\"0.3\"/><path d=\"M 570 44 516 520\" stroke=\"gray\" stroke-width=\"0.3\"/><path d=\"M 20 245 223 20\" stroke=\"gray\" stroke-width=\"0.3\"/><path d=\"M 20 245 720 294\" stroke=\"gray\" stroke-width=\"0.3\"/><path d=\"M 20 245 570 44\" stroke=\"gray\" stroke-width=\"0.3\"/><path d=\"M 20 245 169 495\" stroke=\"gray\" stroke-width=\"0.3\"/><path d=\"M 20 245 516 520\" stroke=\"gray\" stroke-width=\"0.3\"/><path d=\"M 169 495 223 20\" stroke=\"gray\" stroke-width=\"0.3\"/><path d=\"M 169 495 720 294\" stroke=\"gray\" stroke-width=\"0.3\"/><path d=\"M 169 495 570 44\" stroke=\"gray\" stroke-width=\"0.3\"/><path d=\"M 169 495 20 245\" stroke=\"gray\" stroke-width=\"0.3\"/><path d=\"M 169 495 516 520\" stroke=\"gray\" stroke-width=\"0.3\"/><path d=\"M 516 520 223 20\" stroke=\"gray\" stroke-width=\"0.3\"/><path d=\"M 516 520 720 294\" stroke=\"gray\" stroke-width=\"0.3\"/><path d=\"M 516 520 570 44\" stroke=\"gray\" stroke-width=\"0.3\"/><path d=\"M 516 520 20 245\" stroke=\"gray\" stroke-width=\"0.3\"/><path d=\"M 516 520 169 495\" stroke=\"gray\" stroke-width=\"0.3\"/><circle cx=\"223\" cy=\"20\" r=\"3.0\" style=\"fill:rgb(219, 220, 222);stroke:black;stroke-width:1.0\"/><circle cx=\"720\" cy=\"294\" r=\"3.0\" style=\"fill:rgb(219, 220, 222);stroke:black;stroke-width:1.0\"/><circle cx=\"570\" cy=\"44\" r=\"3.0\" style=\"fill:rgb(219, 220, 222);stroke:black;stroke-width:1.0\"/><circle cx=\"20\" cy=\"245\" r=\"3.0\" style=\"fill:rgb(219, 220, 222);stroke:black;stroke-width:1.0\"/><circle cx=\"169\" cy=\"495\" r=\"3.0\" style=\"fill:rgb(219, 220, 222);stroke:black;stroke-width:1.0\"/><circle cx=\"516\" cy=\"520\" r=\"3.0\" style=\"fill:rgb(219, 220, 222);stroke:black;stroke-width:1.0\"/><text font-size=\"10\" x=\"229\" y=\"23\">Sergii V. Kadenko</text><text font-size=\"10\" x=\"726\" y=\"297\">Vitaliy V. Tsyganok</text><text font-size=\"10\" x=\"576\" y=\"47\">Dmitry V. Lande</text><text font-size=\"10\" x=\"26\" y=\"248\">Anastasia N. Graivoronskaya</text><text font-size=\"10\" x=\"175\" y=\"498\">Aleksandr G. Dodonov</text><text font-size=\"10\" x=\"522\" y=\"523\">Oleh V. Andriichuk</text></svg>"
      ],
      "text/plain": [
       "<IPython.core.display.SVG object>"
      ]
     },
     "execution_count": 24,
     "metadata": {},
     "output_type": "execute_result"
    }
   ],
   "source": [
    "ego = top_nodes[4]\n",
    "\n",
    "G_ego = nx.ego_graph(G, ego)\n",
    "\n",
    "draw_graph(G_ego, show_names=True, node_size=3, edge_width=0.3)"
   ]
  },
  {
   "cell_type": "code",
   "execution_count": 25,
   "id": "418f0491",
   "metadata": {},
   "outputs": [
    {
     "data": {
      "text/plain": [
       "['Information Operations Recognition: from Nonlinear Analysis to Decision-making']"
      ]
     },
     "execution_count": 25,
     "metadata": {},
     "output_type": "execute_result"
    }
   ],
   "source": [
    "# you can look at what articles the author was part of this way, going from networks to NLP\n",
    "\n",
    "sorted(df[df['authors']==ego]['title'])"
   ]
  },
  {
   "cell_type": "code",
   "execution_count": 26,
   "id": "a0260ff0",
   "metadata": {},
   "outputs": [
    {
     "data": {
      "image/svg+xml": [
       "<svg height=\"540\" width=\"875.0\" xmlns=\"http://www.w3.org/2000/svg\"><path d=\"M 720 391 20 288\" stroke=\"gray\" stroke-width=\"0.3\"/><path d=\"M 720 391 393 263\" stroke=\"gray\" stroke-width=\"0.3\"/><path d=\"M 720 391 241 20\" stroke=\"gray\" stroke-width=\"0.3\"/><path d=\"M 720 391 317 520\" stroke=\"gray\" stroke-width=\"0.3\"/><path d=\"M 720 391 669 82\" stroke=\"gray\" stroke-width=\"0.3\"/><path d=\"M 20 288 720 391\" stroke=\"gray\" stroke-width=\"0.3\"/><path d=\"M 20 288 393 263\" stroke=\"gray\" stroke-width=\"0.3\"/><path d=\"M 20 288 241 20\" stroke=\"gray\" stroke-width=\"0.3\"/><path d=\"M 20 288 317 520\" stroke=\"gray\" stroke-width=\"0.3\"/><path d=\"M 20 288 669 82\" stroke=\"gray\" stroke-width=\"0.3\"/><path d=\"M 393 263 720 391\" stroke=\"gray\" stroke-width=\"0.3\"/><path d=\"M 393 263 20 288\" stroke=\"gray\" stroke-width=\"0.3\"/><path d=\"M 393 263 241 20\" stroke=\"gray\" stroke-width=\"0.3\"/><path d=\"M 393 263 317 520\" stroke=\"gray\" stroke-width=\"0.3\"/><path d=\"M 393 263 669 82\" stroke=\"gray\" stroke-width=\"0.3\"/><path d=\"M 241 20 720 391\" stroke=\"gray\" stroke-width=\"0.3\"/><path d=\"M 241 20 20 288\" stroke=\"gray\" stroke-width=\"0.3\"/><path d=\"M 241 20 393 263\" stroke=\"gray\" stroke-width=\"0.3\"/><path d=\"M 241 20 317 520\" stroke=\"gray\" stroke-width=\"0.3\"/><path d=\"M 241 20 669 82\" stroke=\"gray\" stroke-width=\"0.3\"/><path d=\"M 317 520 720 391\" stroke=\"gray\" stroke-width=\"0.3\"/><path d=\"M 317 520 20 288\" stroke=\"gray\" stroke-width=\"0.3\"/><path d=\"M 317 520 393 263\" stroke=\"gray\" stroke-width=\"0.3\"/><path d=\"M 317 520 241 20\" stroke=\"gray\" stroke-width=\"0.3\"/><path d=\"M 317 520 669 82\" stroke=\"gray\" stroke-width=\"0.3\"/><path d=\"M 669 82 720 391\" stroke=\"gray\" stroke-width=\"0.3\"/><path d=\"M 669 82 20 288\" stroke=\"gray\" stroke-width=\"0.3\"/><path d=\"M 669 82 393 263\" stroke=\"gray\" stroke-width=\"0.3\"/><path d=\"M 669 82 241 20\" stroke=\"gray\" stroke-width=\"0.3\"/><path d=\"M 669 82 317 520\" stroke=\"gray\" stroke-width=\"0.3\"/><circle cx=\"720\" cy=\"391\" r=\"3.0\" style=\"fill:rgb(219, 220, 222);stroke:black;stroke-width:1.0\"/><circle cx=\"20\" cy=\"288\" r=\"3.0\" style=\"fill:rgb(219, 220, 222);stroke:black;stroke-width:1.0\"/><circle cx=\"393\" cy=\"263\" r=\"3.0\" style=\"fill:rgb(219, 220, 222);stroke:black;stroke-width:1.0\"/><circle cx=\"241\" cy=\"20\" r=\"3.0\" style=\"fill:rgb(219, 220, 222);stroke:black;stroke-width:1.0\"/><circle cx=\"317\" cy=\"520\" r=\"3.0\" style=\"fill:rgb(219, 220, 222);stroke:black;stroke-width:1.0\"/><circle cx=\"669\" cy=\"82\" r=\"3.0\" style=\"fill:rgb(219, 220, 222);stroke:black;stroke-width:1.0\"/><text font-size=\"10\" x=\"726\" y=\"394\">Sergii V. Kadenko</text><text font-size=\"10\" x=\"26\" y=\"291\">Vitaliy V. Tsyganok</text><text font-size=\"10\" x=\"399\" y=\"266\">Dmitry V. Lande</text><text font-size=\"10\" x=\"247\" y=\"23\">Anastasia N. Graivoronskaya</text><text font-size=\"10\" x=\"323\" y=\"523\">Aleksandr G. Dodonov</text><text font-size=\"10\" x=\"675\" y=\"85\">Oleh V. Andriichuk</text></svg>"
      ],
      "text/plain": [
       "<IPython.core.display.SVG object>"
      ]
     },
     "execution_count": 26,
     "metadata": {},
     "output_type": "execute_result"
    }
   ],
   "source": [
    "ego = top_nodes[5]\n",
    "\n",
    "G_ego = nx.ego_graph(G, ego)\n",
    "\n",
    "draw_graph(G_ego, show_names=True, node_size=3, edge_width=0.3)"
   ]
  },
  {
   "cell_type": "code",
   "execution_count": 27,
   "id": "90dda4ba",
   "metadata": {},
   "outputs": [
    {
     "data": {
      "image/svg+xml": [
       "<svg height=\"540\" width=\"875.0\" xmlns=\"http://www.w3.org/2000/svg\"><path d=\"M 20 397 720 292\" stroke=\"gray\" stroke-width=\"0.3\"/><path d=\"M 20 397 80 62\" stroke=\"gray\" stroke-width=\"0.3\"/><path d=\"M 20 397 315 254\" stroke=\"gray\" stroke-width=\"0.3\"/><path d=\"M 20 397 436 520\" stroke=\"gray\" stroke-width=\"0.3\"/><path d=\"M 20 397 527 20\" stroke=\"gray\" stroke-width=\"0.3\"/><path d=\"M 720 292 20 397\" stroke=\"gray\" stroke-width=\"0.3\"/><path d=\"M 720 292 80 62\" stroke=\"gray\" stroke-width=\"0.3\"/><path d=\"M 720 292 315 254\" stroke=\"gray\" stroke-width=\"0.3\"/><path d=\"M 720 292 436 520\" stroke=\"gray\" stroke-width=\"0.3\"/><path d=\"M 720 292 527 20\" stroke=\"gray\" stroke-width=\"0.3\"/><path d=\"M 80 62 20 397\" stroke=\"gray\" stroke-width=\"0.3\"/><path d=\"M 80 62 720 292\" stroke=\"gray\" stroke-width=\"0.3\"/><path d=\"M 80 62 315 254\" stroke=\"gray\" stroke-width=\"0.3\"/><path d=\"M 80 62 436 520\" stroke=\"gray\" stroke-width=\"0.3\"/><path d=\"M 80 62 527 20\" stroke=\"gray\" stroke-width=\"0.3\"/><path d=\"M 315 254 20 397\" stroke=\"gray\" stroke-width=\"0.3\"/><path d=\"M 315 254 720 292\" stroke=\"gray\" stroke-width=\"0.3\"/><path d=\"M 315 254 80 62\" stroke=\"gray\" stroke-width=\"0.3\"/><path d=\"M 315 254 436 520\" stroke=\"gray\" stroke-width=\"0.3\"/><path d=\"M 315 254 527 20\" stroke=\"gray\" stroke-width=\"0.3\"/><path d=\"M 436 520 20 397\" stroke=\"gray\" stroke-width=\"0.3\"/><path d=\"M 436 520 720 292\" stroke=\"gray\" stroke-width=\"0.3\"/><path d=\"M 436 520 80 62\" stroke=\"gray\" stroke-width=\"0.3\"/><path d=\"M 436 520 315 254\" stroke=\"gray\" stroke-width=\"0.3\"/><path d=\"M 436 520 527 20\" stroke=\"gray\" stroke-width=\"0.3\"/><path d=\"M 527 20 20 397\" stroke=\"gray\" stroke-width=\"0.3\"/><path d=\"M 527 20 720 292\" stroke=\"gray\" stroke-width=\"0.3\"/><path d=\"M 527 20 80 62\" stroke=\"gray\" stroke-width=\"0.3\"/><path d=\"M 527 20 315 254\" stroke=\"gray\" stroke-width=\"0.3\"/><path d=\"M 527 20 436 520\" stroke=\"gray\" stroke-width=\"0.3\"/><circle cx=\"20\" cy=\"397\" r=\"3.0\" style=\"fill:rgb(219, 220, 222);stroke:black;stroke-width:1.0\"/><circle cx=\"720\" cy=\"292\" r=\"3.0\" style=\"fill:rgb(219, 220, 222);stroke:black;stroke-width:1.0\"/><circle cx=\"80\" cy=\"62\" r=\"3.0\" style=\"fill:rgb(219, 220, 222);stroke:black;stroke-width:1.0\"/><circle cx=\"315\" cy=\"254\" r=\"3.0\" style=\"fill:rgb(219, 220, 222);stroke:black;stroke-width:1.0\"/><circle cx=\"436\" cy=\"520\" r=\"3.0\" style=\"fill:rgb(219, 220, 222);stroke:black;stroke-width:1.0\"/><circle cx=\"527\" cy=\"20\" r=\"3.0\" style=\"fill:rgb(219, 220, 222);stroke:black;stroke-width:1.0\"/><text font-size=\"10\" x=\"26\" y=\"400\">Sergii V. Kadenko</text><text font-size=\"10\" x=\"726\" y=\"295\">Vitaliy V. Tsyganok</text><text font-size=\"10\" x=\"86\" y=\"65\">Dmitry V. Lande</text><text font-size=\"10\" x=\"321\" y=\"257\">Anastasia N. Graivoronskaya</text><text font-size=\"10\" x=\"442\" y=\"523\">Aleksandr G. Dodonov</text><text font-size=\"10\" x=\"533\" y=\"23\">Oleh V. Andriichuk</text></svg>"
      ],
      "text/plain": [
       "<IPython.core.display.SVG object>"
      ]
     },
     "execution_count": 27,
     "metadata": {},
     "output_type": "execute_result"
    }
   ],
   "source": [
    "ego = top_nodes[6]\n",
    "\n",
    "G_ego = nx.ego_graph(G, ego)\n",
    "\n",
    "draw_graph(G_ego, show_names=True, node_size=3, edge_width=0.3)"
   ]
  },
  {
   "cell_type": "code",
   "execution_count": 28,
   "id": "1322b19e",
   "metadata": {},
   "outputs": [
    {
     "data": {
      "image/svg+xml": [
       "<svg height=\"540\" width=\"875.0\" xmlns=\"http://www.w3.org/2000/svg\"><path d=\"M 695 126 44 413\" stroke=\"gray\" stroke-width=\"0.3\"/><path d=\"M 695 126 347 20\" stroke=\"gray\" stroke-width=\"0.3\"/><path d=\"M 695 126 720 388\" stroke=\"gray\" stroke-width=\"0.3\"/><path d=\"M 695 126 20 151\" stroke=\"gray\" stroke-width=\"0.3\"/><path d=\"M 695 126 392 520\" stroke=\"gray\" stroke-width=\"0.3\"/><path d=\"M 44 413 695 126\" stroke=\"gray\" stroke-width=\"0.3\"/><path d=\"M 44 413 347 20\" stroke=\"gray\" stroke-width=\"0.3\"/><path d=\"M 44 413 720 388\" stroke=\"gray\" stroke-width=\"0.3\"/><path d=\"M 44 413 20 151\" stroke=\"gray\" stroke-width=\"0.3\"/><path d=\"M 44 413 392 520\" stroke=\"gray\" stroke-width=\"0.3\"/><path d=\"M 347 20 695 126\" stroke=\"gray\" stroke-width=\"0.3\"/><path d=\"M 347 20 44 413\" stroke=\"gray\" stroke-width=\"0.3\"/><path d=\"M 347 20 720 388\" stroke=\"gray\" stroke-width=\"0.3\"/><path d=\"M 347 20 20 151\" stroke=\"gray\" stroke-width=\"0.3\"/><path d=\"M 347 20 392 520\" stroke=\"gray\" stroke-width=\"0.3\"/><path d=\"M 720 388 695 126\" stroke=\"gray\" stroke-width=\"0.3\"/><path d=\"M 720 388 44 413\" stroke=\"gray\" stroke-width=\"0.3\"/><path d=\"M 720 388 347 20\" stroke=\"gray\" stroke-width=\"0.3\"/><path d=\"M 720 388 20 151\" stroke=\"gray\" stroke-width=\"0.3\"/><path d=\"M 720 388 392 520\" stroke=\"gray\" stroke-width=\"0.3\"/><path d=\"M 20 151 695 126\" stroke=\"gray\" stroke-width=\"0.3\"/><path d=\"M 20 151 44 413\" stroke=\"gray\" stroke-width=\"0.3\"/><path d=\"M 20 151 347 20\" stroke=\"gray\" stroke-width=\"0.3\"/><path d=\"M 20 151 720 388\" stroke=\"gray\" stroke-width=\"0.3\"/><path d=\"M 20 151 392 520\" stroke=\"gray\" stroke-width=\"0.3\"/><path d=\"M 392 520 695 126\" stroke=\"gray\" stroke-width=\"0.3\"/><path d=\"M 392 520 44 413\" stroke=\"gray\" stroke-width=\"0.3\"/><path d=\"M 392 520 347 20\" stroke=\"gray\" stroke-width=\"0.3\"/><path d=\"M 392 520 720 388\" stroke=\"gray\" stroke-width=\"0.3\"/><path d=\"M 392 520 20 151\" stroke=\"gray\" stroke-width=\"0.3\"/><circle cx=\"695\" cy=\"126\" r=\"3.0\" style=\"fill:rgb(219, 220, 222);stroke:black;stroke-width:1.0\"/><circle cx=\"44\" cy=\"413\" r=\"3.0\" style=\"fill:rgb(219, 220, 222);stroke:black;stroke-width:1.0\"/><circle cx=\"347\" cy=\"20\" r=\"3.0\" style=\"fill:rgb(219, 220, 222);stroke:black;stroke-width:1.0\"/><circle cx=\"720\" cy=\"388\" r=\"3.0\" style=\"fill:rgb(219, 220, 222);stroke:black;stroke-width:1.0\"/><circle cx=\"20\" cy=\"151\" r=\"3.0\" style=\"fill:rgb(219, 220, 222);stroke:black;stroke-width:1.0\"/><circle cx=\"392\" cy=\"520\" r=\"3.0\" style=\"fill:rgb(219, 220, 222);stroke:black;stroke-width:1.0\"/><text font-size=\"10\" x=\"701\" y=\"129\">Sergii V. Kadenko</text><text font-size=\"10\" x=\"50\" y=\"416\">Vitaliy V. Tsyganok</text><text font-size=\"10\" x=\"353\" y=\"23\">Dmitry V. Lande</text><text font-size=\"10\" x=\"726\" y=\"391\">Anastasia N. Graivoronskaya</text><text font-size=\"10\" x=\"26\" y=\"154\">Aleksandr G. Dodonov</text><text font-size=\"10\" x=\"398\" y=\"523\">Oleh V. Andriichuk</text></svg>"
      ],
      "text/plain": [
       "<IPython.core.display.SVG object>"
      ]
     },
     "execution_count": 28,
     "metadata": {},
     "output_type": "execute_result"
    }
   ],
   "source": [
    "ego = top_nodes[7]\n",
    "\n",
    "G_ego = nx.ego_graph(G, ego)\n",
    "\n",
    "draw_graph(G_ego, show_names=True, node_size=3, edge_width=0.3)"
   ]
  },
  {
   "cell_type": "code",
   "execution_count": 29,
   "id": "dd7963b3",
   "metadata": {},
   "outputs": [
    {
     "data": {
      "image/svg+xml": [
       "<svg height=\"540\" width=\"875.0\" xmlns=\"http://www.w3.org/2000/svg\"><path d=\"M 621 457 118 82\" stroke=\"gray\" stroke-width=\"0.3\"/><path d=\"M 621 457 720 209\" stroke=\"gray\" stroke-width=\"0.3\"/><path d=\"M 621 457 267 520\" stroke=\"gray\" stroke-width=\"0.3\"/><path d=\"M 621 457 472 20\" stroke=\"gray\" stroke-width=\"0.3\"/><path d=\"M 621 457 20 330\" stroke=\"gray\" stroke-width=\"0.3\"/><path d=\"M 118 82 621 457\" stroke=\"gray\" stroke-width=\"0.3\"/><path d=\"M 118 82 720 209\" stroke=\"gray\" stroke-width=\"0.3\"/><path d=\"M 118 82 267 520\" stroke=\"gray\" stroke-width=\"0.3\"/><path d=\"M 118 82 472 20\" stroke=\"gray\" stroke-width=\"0.3\"/><path d=\"M 118 82 20 330\" stroke=\"gray\" stroke-width=\"0.3\"/><path d=\"M 720 209 621 457\" stroke=\"gray\" stroke-width=\"0.3\"/><path d=\"M 720 209 118 82\" stroke=\"gray\" stroke-width=\"0.3\"/><path d=\"M 720 209 267 520\" stroke=\"gray\" stroke-width=\"0.3\"/><path d=\"M 720 209 472 20\" stroke=\"gray\" stroke-width=\"0.3\"/><path d=\"M 720 209 20 330\" stroke=\"gray\" stroke-width=\"0.3\"/><path d=\"M 267 520 621 457\" stroke=\"gray\" stroke-width=\"0.3\"/><path d=\"M 267 520 118 82\" stroke=\"gray\" stroke-width=\"0.3\"/><path d=\"M 267 520 720 209\" stroke=\"gray\" stroke-width=\"0.3\"/><path d=\"M 267 520 472 20\" stroke=\"gray\" stroke-width=\"0.3\"/><path d=\"M 267 520 20 330\" stroke=\"gray\" stroke-width=\"0.3\"/><path d=\"M 472 20 621 457\" stroke=\"gray\" stroke-width=\"0.3\"/><path d=\"M 472 20 118 82\" stroke=\"gray\" stroke-width=\"0.3\"/><path d=\"M 472 20 720 209\" stroke=\"gray\" stroke-width=\"0.3\"/><path d=\"M 472 20 267 520\" stroke=\"gray\" stroke-width=\"0.3\"/><path d=\"M 472 20 20 330\" stroke=\"gray\" stroke-width=\"0.3\"/><path d=\"M 20 330 621 457\" stroke=\"gray\" stroke-width=\"0.3\"/><path d=\"M 20 330 118 82\" stroke=\"gray\" stroke-width=\"0.3\"/><path d=\"M 20 330 720 209\" stroke=\"gray\" stroke-width=\"0.3\"/><path d=\"M 20 330 267 520\" stroke=\"gray\" stroke-width=\"0.3\"/><path d=\"M 20 330 472 20\" stroke=\"gray\" stroke-width=\"0.3\"/><circle cx=\"621\" cy=\"457\" r=\"3.0\" style=\"fill:rgb(219, 220, 222);stroke:black;stroke-width:1.0\"/><circle cx=\"118\" cy=\"82\" r=\"3.0\" style=\"fill:rgb(219, 220, 222);stroke:black;stroke-width:1.0\"/><circle cx=\"720\" cy=\"209\" r=\"3.0\" style=\"fill:rgb(219, 220, 222);stroke:black;stroke-width:1.0\"/><circle cx=\"267\" cy=\"520\" r=\"3.0\" style=\"fill:rgb(219, 220, 222);stroke:black;stroke-width:1.0\"/><circle cx=\"472\" cy=\"20\" r=\"3.0\" style=\"fill:rgb(219, 220, 222);stroke:black;stroke-width:1.0\"/><circle cx=\"20\" cy=\"330\" r=\"3.0\" style=\"fill:rgb(219, 220, 222);stroke:black;stroke-width:1.0\"/><text font-size=\"10\" x=\"627\" y=\"460\">Sergii V. Kadenko</text><text font-size=\"10\" x=\"124\" y=\"85\">Vitaliy V. Tsyganok</text><text font-size=\"10\" x=\"726\" y=\"212\">Dmitry V. Lande</text><text font-size=\"10\" x=\"273\" y=\"523\">Anastasia N. Graivoronskaya</text><text font-size=\"10\" x=\"478\" y=\"23\">Aleksandr G. Dodonov</text><text font-size=\"10\" x=\"26\" y=\"333\">Oleh V. Andriichuk</text></svg>"
      ],
      "text/plain": [
       "<IPython.core.display.SVG object>"
      ]
     },
     "execution_count": 29,
     "metadata": {},
     "output_type": "execute_result"
    }
   ],
   "source": [
    "ego = top_nodes[8]\n",
    "\n",
    "G_ego = nx.ego_graph(G, ego)\n",
    "\n",
    "draw_graph(G_ego, show_names=True, node_size=3, edge_width=0.3)"
   ]
  },
  {
   "cell_type": "code",
   "execution_count": 30,
   "id": "6cf977b9",
   "metadata": {},
   "outputs": [
    {
     "data": {
      "image/svg+xml": [
       "<svg height=\"540\" width=\"875.0\" xmlns=\"http://www.w3.org/2000/svg\"><path d=\"M 389 20 720 157\" stroke=\"gray\" stroke-width=\"0.3\"/><path d=\"M 389 20 697 406\" stroke=\"gray\" stroke-width=\"0.3\"/><path d=\"M 389 20 350 520\" stroke=\"gray\" stroke-width=\"0.3\"/><path d=\"M 389 20 20 382\" stroke=\"gray\" stroke-width=\"0.3\"/><path d=\"M 389 20 42 133\" stroke=\"gray\" stroke-width=\"0.3\"/><path d=\"M 720 157 389 20\" stroke=\"gray\" stroke-width=\"0.3\"/><path d=\"M 720 157 697 406\" stroke=\"gray\" stroke-width=\"0.3\"/><path d=\"M 720 157 350 520\" stroke=\"gray\" stroke-width=\"0.3\"/><path d=\"M 720 157 20 382\" stroke=\"gray\" stroke-width=\"0.3\"/><path d=\"M 720 157 42 133\" stroke=\"gray\" stroke-width=\"0.3\"/><path d=\"M 697 406 389 20\" stroke=\"gray\" stroke-width=\"0.3\"/><path d=\"M 697 406 720 157\" stroke=\"gray\" stroke-width=\"0.3\"/><path d=\"M 697 406 350 520\" stroke=\"gray\" stroke-width=\"0.3\"/><path d=\"M 697 406 20 382\" stroke=\"gray\" stroke-width=\"0.3\"/><path d=\"M 697 406 42 133\" stroke=\"gray\" stroke-width=\"0.3\"/><path d=\"M 350 520 389 20\" stroke=\"gray\" stroke-width=\"0.3\"/><path d=\"M 350 520 720 157\" stroke=\"gray\" stroke-width=\"0.3\"/><path d=\"M 350 520 697 406\" stroke=\"gray\" stroke-width=\"0.3\"/><path d=\"M 350 520 20 382\" stroke=\"gray\" stroke-width=\"0.3\"/><path d=\"M 350 520 42 133\" stroke=\"gray\" stroke-width=\"0.3\"/><path d=\"M 20 382 389 20\" stroke=\"gray\" stroke-width=\"0.3\"/><path d=\"M 20 382 720 157\" stroke=\"gray\" stroke-width=\"0.3\"/><path d=\"M 20 382 697 406\" stroke=\"gray\" stroke-width=\"0.3\"/><path d=\"M 20 382 350 520\" stroke=\"gray\" stroke-width=\"0.3\"/><path d=\"M 20 382 42 133\" stroke=\"gray\" stroke-width=\"0.3\"/><path d=\"M 42 133 389 20\" stroke=\"gray\" stroke-width=\"0.3\"/><path d=\"M 42 133 720 157\" stroke=\"gray\" stroke-width=\"0.3\"/><path d=\"M 42 133 697 406\" stroke=\"gray\" stroke-width=\"0.3\"/><path d=\"M 42 133 350 520\" stroke=\"gray\" stroke-width=\"0.3\"/><path d=\"M 42 133 20 382\" stroke=\"gray\" stroke-width=\"0.3\"/><circle cx=\"389\" cy=\"20\" r=\"3.0\" style=\"fill:rgb(219, 220, 222);stroke:black;stroke-width:1.0\"/><circle cx=\"720\" cy=\"157\" r=\"3.0\" style=\"fill:rgb(219, 220, 222);stroke:black;stroke-width:1.0\"/><circle cx=\"697\" cy=\"406\" r=\"3.0\" style=\"fill:rgb(219, 220, 222);stroke:black;stroke-width:1.0\"/><circle cx=\"350\" cy=\"520\" r=\"3.0\" style=\"fill:rgb(219, 220, 222);stroke:black;stroke-width:1.0\"/><circle cx=\"20\" cy=\"382\" r=\"3.0\" style=\"fill:rgb(219, 220, 222);stroke:black;stroke-width:1.0\"/><circle cx=\"42\" cy=\"133\" r=\"3.0\" style=\"fill:rgb(219, 220, 222);stroke:black;stroke-width:1.0\"/><text font-size=\"10\" x=\"395\" y=\"23\">Sergii V. Kadenko</text><text font-size=\"10\" x=\"726\" y=\"160\">Vitaliy V. Tsyganok</text><text font-size=\"10\" x=\"703\" y=\"409\">Dmitry V. Lande</text><text font-size=\"10\" x=\"356\" y=\"523\">Anastasia N. Graivoronskaya</text><text font-size=\"10\" x=\"26\" y=\"385\">Aleksandr G. Dodonov</text><text font-size=\"10\" x=\"48\" y=\"136\">Oleh V. Andriichuk</text></svg>"
      ],
      "text/plain": [
       "<IPython.core.display.SVG object>"
      ]
     },
     "execution_count": 30,
     "metadata": {},
     "output_type": "execute_result"
    }
   ],
   "source": [
    "ego = top_nodes[9]\n",
    "\n",
    "G_ego = nx.ego_graph(G, ego)\n",
    "\n",
    "draw_graph(G_ego, show_names=True, node_size=3, edge_width=0.3)"
   ]
  },
  {
   "cell_type": "code",
   "execution_count": 31,
   "id": "ef7164d7",
   "metadata": {},
   "outputs": [
    {
     "data": {
      "image/svg+xml": [
       "<svg height=\"540\" width=\"840.0\" xmlns=\"http://www.w3.org/2000/svg\"><path d=\"M 374 20 720 216\" stroke=\"gray\" stroke-width=\"0.3\"/><path d=\"M 374 20 144 514\" stroke=\"gray\" stroke-width=\"0.3\"/><path d=\"M 374 20 20 206\" stroke=\"gray\" stroke-width=\"0.3\"/><path d=\"M 374 20 580 520\" stroke=\"gray\" stroke-width=\"0.3\"/><path d=\"M 720 216 374 20\" stroke=\"gray\" stroke-width=\"0.3\"/><path d=\"M 720 216 144 514\" stroke=\"gray\" stroke-width=\"0.3\"/><path d=\"M 720 216 20 206\" stroke=\"gray\" stroke-width=\"0.3\"/><path d=\"M 720 216 580 520\" stroke=\"gray\" stroke-width=\"0.3\"/><path d=\"M 144 514 374 20\" stroke=\"gray\" stroke-width=\"0.3\"/><path d=\"M 144 514 720 216\" stroke=\"gray\" stroke-width=\"0.3\"/><path d=\"M 144 514 20 206\" stroke=\"gray\" stroke-width=\"0.3\"/><path d=\"M 144 514 580 520\" stroke=\"gray\" stroke-width=\"0.3\"/><path d=\"M 20 206 374 20\" stroke=\"gray\" stroke-width=\"0.3\"/><path d=\"M 20 206 720 216\" stroke=\"gray\" stroke-width=\"0.3\"/><path d=\"M 20 206 144 514\" stroke=\"gray\" stroke-width=\"0.3\"/><path d=\"M 20 206 580 520\" stroke=\"gray\" stroke-width=\"0.3\"/><path d=\"M 580 520 374 20\" stroke=\"gray\" stroke-width=\"0.3\"/><path d=\"M 580 520 720 216\" stroke=\"gray\" stroke-width=\"0.3\"/><path d=\"M 580 520 144 514\" stroke=\"gray\" stroke-width=\"0.3\"/><path d=\"M 580 520 20 206\" stroke=\"gray\" stroke-width=\"0.3\"/><circle cx=\"374\" cy=\"20\" r=\"3.0\" style=\"fill:rgb(219, 220, 222);stroke:black;stroke-width:1.0\"/><circle cx=\"720\" cy=\"216\" r=\"3.0\" style=\"fill:rgb(219, 220, 222);stroke:black;stroke-width:1.0\"/><circle cx=\"144\" cy=\"514\" r=\"3.0\" style=\"fill:rgb(219, 220, 222);stroke:black;stroke-width:1.0\"/><circle cx=\"20\" cy=\"206\" r=\"3.0\" style=\"fill:rgb(219, 220, 222);stroke:black;stroke-width:1.0\"/><circle cx=\"580\" cy=\"520\" r=\"3.0\" style=\"fill:rgb(219, 220, 222);stroke:black;stroke-width:1.0\"/><text font-size=\"10\" x=\"380\" y=\"23\">Henrik Brattli Vold</text><text font-size=\"10\" x=\"726\" y=\"219\">Duc-Tien Dang-Nguyen</text><text font-size=\"10\" x=\"150\" y=\"517\">Rano Tahseen</text><text font-size=\"10\" x=\"26\" y=\"209\">Sohail Ahmed Khan</text><text font-size=\"10\" x=\"586\" y=\"523\">Jan Gunnar Furuly</text></svg>"
      ],
      "text/plain": [
       "<IPython.core.display.SVG object>"
      ]
     },
     "execution_count": 31,
     "metadata": {},
     "output_type": "execute_result"
    }
   ],
   "source": [
    "ego = top_nodes[10]\n",
    "\n",
    "G_ego = nx.ego_graph(G, ego)\n",
    "\n",
    "draw_graph(G_ego, show_names=True, node_size=3, edge_width=0.3)"
   ]
  },
  {
   "cell_type": "code",
   "execution_count": 32,
   "id": "4eb13cf1",
   "metadata": {},
   "outputs": [
    {
     "data": {
      "image/svg+xml": [
       "<svg height=\"540\" width=\"825.0\" xmlns=\"http://www.w3.org/2000/svg\"><path d=\"M 720 404 248 20\" stroke=\"gray\" stroke-width=\"0.3\"/><path d=\"M 720 404 20 286\" stroke=\"gray\" stroke-width=\"0.3\"/><path d=\"M 720 404 682 86\" stroke=\"gray\" stroke-width=\"0.3\"/><path d=\"M 720 404 310 520\" stroke=\"gray\" stroke-width=\"0.3\"/><path d=\"M 248 20 720 404\" stroke=\"gray\" stroke-width=\"0.3\"/><path d=\"M 248 20 20 286\" stroke=\"gray\" stroke-width=\"0.3\"/><path d=\"M 248 20 682 86\" stroke=\"gray\" stroke-width=\"0.3\"/><path d=\"M 248 20 310 520\" stroke=\"gray\" stroke-width=\"0.3\"/><path d=\"M 20 286 720 404\" stroke=\"gray\" stroke-width=\"0.3\"/><path d=\"M 20 286 248 20\" stroke=\"gray\" stroke-width=\"0.3\"/><path d=\"M 20 286 682 86\" stroke=\"gray\" stroke-width=\"0.3\"/><path d=\"M 20 286 310 520\" stroke=\"gray\" stroke-width=\"0.3\"/><path d=\"M 682 86 720 404\" stroke=\"gray\" stroke-width=\"0.3\"/><path d=\"M 682 86 248 20\" stroke=\"gray\" stroke-width=\"0.3\"/><path d=\"M 682 86 20 286\" stroke=\"gray\" stroke-width=\"0.3\"/><path d=\"M 682 86 310 520\" stroke=\"gray\" stroke-width=\"0.3\"/><path d=\"M 310 520 720 404\" stroke=\"gray\" stroke-width=\"0.3\"/><path d=\"M 310 520 248 20\" stroke=\"gray\" stroke-width=\"0.3\"/><path d=\"M 310 520 20 286\" stroke=\"gray\" stroke-width=\"0.3\"/><path d=\"M 310 520 682 86\" stroke=\"gray\" stroke-width=\"0.3\"/><circle cx=\"720\" cy=\"404\" r=\"3.0\" style=\"fill:rgb(219, 220, 222);stroke:black;stroke-width:1.0\"/><circle cx=\"248\" cy=\"20\" r=\"3.0\" style=\"fill:rgb(219, 220, 222);stroke:black;stroke-width:1.0\"/><circle cx=\"20\" cy=\"286\" r=\"3.0\" style=\"fill:rgb(219, 220, 222);stroke:black;stroke-width:1.0\"/><circle cx=\"682\" cy=\"86\" r=\"3.0\" style=\"fill:rgb(219, 220, 222);stroke:black;stroke-width:1.0\"/><circle cx=\"310\" cy=\"520\" r=\"3.0\" style=\"fill:rgb(219, 220, 222);stroke:black;stroke-width:1.0\"/><text font-size=\"10\" x=\"726\" y=\"407\">Ashok Kumar Mohan</text><text font-size=\"10\" x=\"254\" y=\"23\">Meenakshi R</text><text font-size=\"10\" x=\"26\" y=\"289\">Arjun Anand V</text><text font-size=\"10\" x=\"688\" y=\"89\">Buvanasri A K</text><text font-size=\"10\" x=\"316\" y=\"523\">Dr. Karthika S</text></svg>"
      ],
      "text/plain": [
       "<IPython.core.display.SVG object>"
      ]
     },
     "execution_count": 32,
     "metadata": {},
     "output_type": "execute_result"
    }
   ],
   "source": [
    "ego = top_nodes[11]\n",
    "\n",
    "G_ego = nx.ego_graph(G, ego)\n",
    "\n",
    "draw_graph(G_ego, show_names=True, node_size=3, edge_width=0.3)"
   ]
  },
  {
   "cell_type": "code",
   "execution_count": 33,
   "id": "ee577df8",
   "metadata": {},
   "outputs": [
    {
     "data": {
      "image/svg+xml": [
       "<svg height=\"540\" width=\"825.0\" xmlns=\"http://www.w3.org/2000/svg\"><path d=\"M 657 467 327 20\" stroke=\"gray\" stroke-width=\"0.3\"/><path d=\"M 657 467 223 520\" stroke=\"gray\" stroke-width=\"0.3\"/><path d=\"M 657 467 720 151\" stroke=\"gray\" stroke-width=\"0.3\"/><path d=\"M 657 467 20 238\" stroke=\"gray\" stroke-width=\"0.3\"/><path d=\"M 327 20 657 467\" stroke=\"gray\" stroke-width=\"0.3\"/><path d=\"M 327 20 223 520\" stroke=\"gray\" stroke-width=\"0.3\"/><path d=\"M 327 20 720 151\" stroke=\"gray\" stroke-width=\"0.3\"/><path d=\"M 327 20 20 238\" stroke=\"gray\" stroke-width=\"0.3\"/><path d=\"M 223 520 657 467\" stroke=\"gray\" stroke-width=\"0.3\"/><path d=\"M 223 520 327 20\" stroke=\"gray\" stroke-width=\"0.3\"/><path d=\"M 223 520 720 151\" stroke=\"gray\" stroke-width=\"0.3\"/><path d=\"M 223 520 20 238\" stroke=\"gray\" stroke-width=\"0.3\"/><path d=\"M 720 151 657 467\" stroke=\"gray\" stroke-width=\"0.3\"/><path d=\"M 720 151 327 20\" stroke=\"gray\" stroke-width=\"0.3\"/><path d=\"M 720 151 223 520\" stroke=\"gray\" stroke-width=\"0.3\"/><path d=\"M 720 151 20 238\" stroke=\"gray\" stroke-width=\"0.3\"/><path d=\"M 20 238 657 467\" stroke=\"gray\" stroke-width=\"0.3\"/><path d=\"M 20 238 327 20\" stroke=\"gray\" stroke-width=\"0.3\"/><path d=\"M 20 238 223 520\" stroke=\"gray\" stroke-width=\"0.3\"/><path d=\"M 20 238 720 151\" stroke=\"gray\" stroke-width=\"0.3\"/><circle cx=\"657\" cy=\"467\" r=\"3.0\" style=\"fill:rgb(219, 220, 222);stroke:black;stroke-width:1.0\"/><circle cx=\"327\" cy=\"20\" r=\"3.0\" style=\"fill:rgb(219, 220, 222);stroke:black;stroke-width:1.0\"/><circle cx=\"223\" cy=\"520\" r=\"3.0\" style=\"fill:rgb(219, 220, 222);stroke:black;stroke-width:1.0\"/><circle cx=\"720\" cy=\"151\" r=\"3.0\" style=\"fill:rgb(219, 220, 222);stroke:black;stroke-width:1.0\"/><circle cx=\"20\" cy=\"238\" r=\"3.0\" style=\"fill:rgb(219, 220, 222);stroke:black;stroke-width:1.0\"/><text font-size=\"10\" x=\"663\" y=\"470\">Ashok Kumar Mohan</text><text font-size=\"10\" x=\"333\" y=\"23\">Meenakshi R</text><text font-size=\"10\" x=\"229\" y=\"523\">Arjun Anand V</text><text font-size=\"10\" x=\"726\" y=\"154\">Buvanasri A K</text><text font-size=\"10\" x=\"26\" y=\"241\">Dr. Karthika S</text></svg>"
      ],
      "text/plain": [
       "<IPython.core.display.SVG object>"
      ]
     },
     "execution_count": 33,
     "metadata": {},
     "output_type": "execute_result"
    }
   ],
   "source": [
    "ego = top_nodes[12]\n",
    "\n",
    "G_ego = nx.ego_graph(G, ego)\n",
    "\n",
    "draw_graph(G_ego, show_names=True, node_size=3, edge_width=0.3)"
   ]
  },
  {
   "cell_type": "code",
   "execution_count": 34,
   "id": "ac1d528b",
   "metadata": {},
   "outputs": [
    {
     "data": {
      "image/svg+xml": [
       "<svg height=\"540\" width=\"840.0\" xmlns=\"http://www.w3.org/2000/svg\"><path d=\"M 674 455 720 144\" stroke=\"gray\" stroke-width=\"0.3\"/><path d=\"M 674 455 242 520\" stroke=\"gray\" stroke-width=\"0.3\"/><path d=\"M 674 455 316 20\" stroke=\"gray\" stroke-width=\"0.3\"/><path d=\"M 674 455 20 250\" stroke=\"gray\" stroke-width=\"0.3\"/><path d=\"M 720 144 674 455\" stroke=\"gray\" stroke-width=\"0.3\"/><path d=\"M 720 144 242 520\" stroke=\"gray\" stroke-width=\"0.3\"/><path d=\"M 720 144 316 20\" stroke=\"gray\" stroke-width=\"0.3\"/><path d=\"M 720 144 20 250\" stroke=\"gray\" stroke-width=\"0.3\"/><path d=\"M 242 520 674 455\" stroke=\"gray\" stroke-width=\"0.3\"/><path d=\"M 242 520 720 144\" stroke=\"gray\" stroke-width=\"0.3\"/><path d=\"M 242 520 316 20\" stroke=\"gray\" stroke-width=\"0.3\"/><path d=\"M 242 520 20 250\" stroke=\"gray\" stroke-width=\"0.3\"/><path d=\"M 316 20 674 455\" stroke=\"gray\" stroke-width=\"0.3\"/><path d=\"M 316 20 720 144\" stroke=\"gray\" stroke-width=\"0.3\"/><path d=\"M 316 20 242 520\" stroke=\"gray\" stroke-width=\"0.3\"/><path d=\"M 316 20 20 250\" stroke=\"gray\" stroke-width=\"0.3\"/><path d=\"M 20 250 674 455\" stroke=\"gray\" stroke-width=\"0.3\"/><path d=\"M 20 250 720 144\" stroke=\"gray\" stroke-width=\"0.3\"/><path d=\"M 20 250 242 520\" stroke=\"gray\" stroke-width=\"0.3\"/><path d=\"M 20 250 316 20\" stroke=\"gray\" stroke-width=\"0.3\"/><circle cx=\"674\" cy=\"455\" r=\"3.0\" style=\"fill:rgb(219, 220, 222);stroke:black;stroke-width:1.0\"/><circle cx=\"720\" cy=\"144\" r=\"3.0\" style=\"fill:rgb(219, 220, 222);stroke:black;stroke-width:1.0\"/><circle cx=\"242\" cy=\"520\" r=\"3.0\" style=\"fill:rgb(219, 220, 222);stroke:black;stroke-width:1.0\"/><circle cx=\"316\" cy=\"20\" r=\"3.0\" style=\"fill:rgb(219, 220, 222);stroke:black;stroke-width:1.0\"/><circle cx=\"20\" cy=\"250\" r=\"3.0\" style=\"fill:rgb(219, 220, 222);stroke:black;stroke-width:1.0\"/><text font-size=\"10\" x=\"680\" y=\"458\">Henrik Brattli Vold</text><text font-size=\"10\" x=\"726\" y=\"147\">Duc-Tien Dang-Nguyen</text><text font-size=\"10\" x=\"248\" y=\"523\">Rano Tahseen</text><text font-size=\"10\" x=\"322\" y=\"23\">Sohail Ahmed Khan</text><text font-size=\"10\" x=\"26\" y=\"253\">Jan Gunnar Furuly</text></svg>"
      ],
      "text/plain": [
       "<IPython.core.display.SVG object>"
      ]
     },
     "execution_count": 34,
     "metadata": {},
     "output_type": "execute_result"
    }
   ],
   "source": [
    "ego = top_nodes[13]\n",
    "\n",
    "G_ego = nx.ego_graph(G, ego)\n",
    "\n",
    "draw_graph(G_ego, show_names=True, node_size=3, edge_width=0.3)"
   ]
  },
  {
   "cell_type": "code",
   "execution_count": 35,
   "id": "e670aa2c",
   "metadata": {},
   "outputs": [
    {
     "data": {
      "image/svg+xml": [
       "<svg height=\"540\" width=\"855.0\" xmlns=\"http://www.w3.org/2000/svg\"><path d=\"M 720 520 20 20\" stroke=\"gray\" stroke-width=\"0.3\"/><path d=\"M 20 20 720 520\" stroke=\"gray\" stroke-width=\"0.3\"/><circle cx=\"720\" cy=\"520\" r=\"3.0\" style=\"fill:rgb(219, 220, 222);stroke:black;stroke-width:1.0\"/><circle cx=\"20\" cy=\"20\" r=\"3.0\" style=\"fill:rgb(219, 220, 222);stroke:black;stroke-width:1.0\"/><text font-size=\"10\" x=\"726\" y=\"523\">Sergio Pastrana</text><text font-size=\"10\" x=\"26\" y=\"23\">Guillermo Suarez-Tangil</text></svg>"
      ],
      "text/plain": [
       "<IPython.core.display.SVG object>"
      ]
     },
     "execution_count": 35,
     "metadata": {},
     "output_type": "execute_result"
    }
   ],
   "source": [
    "ego = top_nodes[14]\n",
    "\n",
    "G_ego = nx.ego_graph(G, ego)\n",
    "\n",
    "draw_graph(G_ego, show_names=True, node_size=3, edge_width=0.3)"
   ]
  },
  {
   "cell_type": "code",
   "execution_count": 36,
   "id": "646511f2",
   "metadata": {},
   "outputs": [
    {
     "data": {
      "image/svg+xml": [
       "<svg height=\"540\" width=\"825.0\" xmlns=\"http://www.w3.org/2000/svg\"><path d=\"M 543 20 115 50\" stroke=\"gray\" stroke-width=\"0.3\"/><path d=\"M 543 20 20 361\" stroke=\"gray\" stroke-width=\"0.3\"/><path d=\"M 543 20 393 520\" stroke=\"gray\" stroke-width=\"0.3\"/><path d=\"M 543 20 720 311\" stroke=\"gray\" stroke-width=\"0.3\"/><path d=\"M 115 50 543 20\" stroke=\"gray\" stroke-width=\"0.3\"/><path d=\"M 115 50 20 361\" stroke=\"gray\" stroke-width=\"0.3\"/><path d=\"M 115 50 393 520\" stroke=\"gray\" stroke-width=\"0.3\"/><path d=\"M 115 50 720 311\" stroke=\"gray\" stroke-width=\"0.3\"/><path d=\"M 20 361 543 20\" stroke=\"gray\" stroke-width=\"0.3\"/><path d=\"M 20 361 115 50\" stroke=\"gray\" stroke-width=\"0.3\"/><path d=\"M 20 361 393 520\" stroke=\"gray\" stroke-width=\"0.3\"/><path d=\"M 20 361 720 311\" stroke=\"gray\" stroke-width=\"0.3\"/><path d=\"M 393 520 543 20\" stroke=\"gray\" stroke-width=\"0.3\"/><path d=\"M 393 520 115 50\" stroke=\"gray\" stroke-width=\"0.3\"/><path d=\"M 393 520 20 361\" stroke=\"gray\" stroke-width=\"0.3\"/><path d=\"M 393 520 720 311\" stroke=\"gray\" stroke-width=\"0.3\"/><path d=\"M 720 311 543 20\" stroke=\"gray\" stroke-width=\"0.3\"/><path d=\"M 720 311 115 50\" stroke=\"gray\" stroke-width=\"0.3\"/><path d=\"M 720 311 20 361\" stroke=\"gray\" stroke-width=\"0.3\"/><path d=\"M 720 311 393 520\" stroke=\"gray\" stroke-width=\"0.3\"/><circle cx=\"543\" cy=\"20\" r=\"3.0\" style=\"fill:rgb(219, 220, 222);stroke:black;stroke-width:1.0\"/><circle cx=\"115\" cy=\"50\" r=\"3.0\" style=\"fill:rgb(219, 220, 222);stroke:black;stroke-width:1.0\"/><circle cx=\"20\" cy=\"361\" r=\"3.0\" style=\"fill:rgb(219, 220, 222);stroke:black;stroke-width:1.0\"/><circle cx=\"393\" cy=\"520\" r=\"3.0\" style=\"fill:rgb(219, 220, 222);stroke:black;stroke-width:1.0\"/><circle cx=\"720\" cy=\"311\" r=\"3.0\" style=\"fill:rgb(219, 220, 222);stroke:black;stroke-width:1.0\"/><text font-size=\"10\" x=\"549\" y=\"23\">Ashok Kumar Mohan</text><text font-size=\"10\" x=\"121\" y=\"53\">Meenakshi R</text><text font-size=\"10\" x=\"26\" y=\"364\">Arjun Anand V</text><text font-size=\"10\" x=\"399\" y=\"523\">Buvanasri A K</text><text font-size=\"10\" x=\"726\" y=\"314\">Dr. Karthika S</text></svg>"
      ],
      "text/plain": [
       "<IPython.core.display.SVG object>"
      ]
     },
     "execution_count": 36,
     "metadata": {},
     "output_type": "execute_result"
    }
   ],
   "source": [
    "ego = top_nodes[15]\n",
    "\n",
    "G_ego = nx.ego_graph(G, ego)\n",
    "\n",
    "draw_graph(G_ego, show_names=True, node_size=3, edge_width=0.3)"
   ]
  },
  {
   "cell_type": "code",
   "execution_count": 37,
   "id": "aca75f02",
   "metadata": {},
   "outputs": [
    {
     "data": {
      "image/svg+xml": [
       "<svg height=\"540\" width=\"855.0\" xmlns=\"http://www.w3.org/2000/svg\"><path d=\"M 720 20 20 520\" stroke=\"gray\" stroke-width=\"0.3\"/><path d=\"M 20 520 720 20\" stroke=\"gray\" stroke-width=\"0.3\"/><circle cx=\"720\" cy=\"20\" r=\"3.0\" style=\"fill:rgb(219, 220, 222);stroke:black;stroke-width:1.0\"/><circle cx=\"20\" cy=\"520\" r=\"3.0\" style=\"fill:rgb(219, 220, 222);stroke:black;stroke-width:1.0\"/><text font-size=\"10\" x=\"726\" y=\"23\">Sergio Pastrana</text><text font-size=\"10\" x=\"26\" y=\"523\">Guillermo Suarez-Tangil</text></svg>"
      ],
      "text/plain": [
       "<IPython.core.display.SVG object>"
      ]
     },
     "execution_count": 37,
     "metadata": {},
     "output_type": "execute_result"
    }
   ],
   "source": [
    "ego = top_nodes[16]\n",
    "\n",
    "G_ego = nx.ego_graph(G, ego)\n",
    "\n",
    "draw_graph(G_ego, show_names=True, node_size=3, edge_width=0.3)"
   ]
  },
  {
   "cell_type": "code",
   "execution_count": 38,
   "id": "563015ea",
   "metadata": {},
   "outputs": [
    {
     "data": {
      "image/svg+xml": [
       "<svg height=\"540\" width=\"810.0\" xmlns=\"http://www.w3.org/2000/svg\"><path d=\"M 20 265 720 122\" stroke=\"gray\" stroke-width=\"0.3\"/><path d=\"M 20 265 707 433\" stroke=\"gray\" stroke-width=\"0.3\"/><path d=\"M 20 265 276 520\" stroke=\"gray\" stroke-width=\"0.3\"/><path d=\"M 20 265 295 20\" stroke=\"gray\" stroke-width=\"0.3\"/><path d=\"M 720 122 20 265\" stroke=\"gray\" stroke-width=\"0.3\"/><path d=\"M 720 122 707 433\" stroke=\"gray\" stroke-width=\"0.3\"/><path d=\"M 720 122 276 520\" stroke=\"gray\" stroke-width=\"0.3\"/><path d=\"M 720 122 295 20\" stroke=\"gray\" stroke-width=\"0.3\"/><path d=\"M 707 433 20 265\" stroke=\"gray\" stroke-width=\"0.3\"/><path d=\"M 707 433 720 122\" stroke=\"gray\" stroke-width=\"0.3\"/><path d=\"M 707 433 276 520\" stroke=\"gray\" stroke-width=\"0.3\"/><path d=\"M 707 433 295 20\" stroke=\"gray\" stroke-width=\"0.3\"/><path d=\"M 276 520 20 265\" stroke=\"gray\" stroke-width=\"0.3\"/><path d=\"M 276 520 720 122\" stroke=\"gray\" stroke-width=\"0.3\"/><path d=\"M 276 520 707 433\" stroke=\"gray\" stroke-width=\"0.3\"/><path d=\"M 276 520 295 20\" stroke=\"gray\" stroke-width=\"0.3\"/><path d=\"M 295 20 20 265\" stroke=\"gray\" stroke-width=\"0.3\"/><path d=\"M 295 20 720 122\" stroke=\"gray\" stroke-width=\"0.3\"/><path d=\"M 295 20 707 433\" stroke=\"gray\" stroke-width=\"0.3\"/><path d=\"M 295 20 276 520\" stroke=\"gray\" stroke-width=\"0.3\"/><circle cx=\"20\" cy=\"265\" r=\"3.0\" style=\"fill:rgb(219, 220, 222);stroke:black;stroke-width:1.0\"/><circle cx=\"720\" cy=\"122\" r=\"3.0\" style=\"fill:rgb(219, 220, 222);stroke:black;stroke-width:1.0\"/><circle cx=\"707\" cy=\"433\" r=\"3.0\" style=\"fill:rgb(219, 220, 222);stroke:black;stroke-width:1.0\"/><circle cx=\"276\" cy=\"520\" r=\"3.0\" style=\"fill:rgb(219, 220, 222);stroke:black;stroke-width:1.0\"/><circle cx=\"295\" cy=\"20\" r=\"3.0\" style=\"fill:rgb(219, 220, 222);stroke:black;stroke-width:1.0\"/><text font-size=\"10\" x=\"26\" y=\"268\">Eric Filiol</text><text font-size=\"10\" x=\"726\" y=\"125\">Maxence Delong</text><text font-size=\"10\" x=\"713\" y=\"436\">Clément Suhard</text><text font-size=\"10\" x=\"282\" y=\"523\">Clément Coddet</text><text font-size=\"10\" x=\"301\" y=\"23\">Olivier Fatou</text></svg>"
      ],
      "text/plain": [
       "<IPython.core.display.SVG object>"
      ]
     },
     "execution_count": 38,
     "metadata": {},
     "output_type": "execute_result"
    }
   ],
   "source": [
    "ego = top_nodes[17]\n",
    "\n",
    "G_ego = nx.ego_graph(G, ego)\n",
    "\n",
    "draw_graph(G_ego, show_names=True, node_size=3, edge_width=0.3)"
   ]
  },
  {
   "cell_type": "code",
   "execution_count": 39,
   "id": "f2254f91",
   "metadata": {},
   "outputs": [
    {
     "data": {
      "image/svg+xml": [
       "<svg height=\"540\" width=\"810.0\" xmlns=\"http://www.w3.org/2000/svg\"><path d=\"M 20 106 371 260\" stroke=\"gray\" stroke-width=\"0.3\"/><path d=\"M 20 106 611 20\" stroke=\"gray\" stroke-width=\"0.3\"/><path d=\"M 20 106 720 434\" stroke=\"gray\" stroke-width=\"0.3\"/><path d=\"M 20 106 151 520\" stroke=\"gray\" stroke-width=\"0.3\"/><path d=\"M 371 260 20 106\" stroke=\"gray\" stroke-width=\"0.3\"/><path d=\"M 371 260 611 20\" stroke=\"gray\" stroke-width=\"0.3\"/><path d=\"M 371 260 720 434\" stroke=\"gray\" stroke-width=\"0.3\"/><path d=\"M 371 260 151 520\" stroke=\"gray\" stroke-width=\"0.3\"/><path d=\"M 611 20 20 106\" stroke=\"gray\" stroke-width=\"0.3\"/><path d=\"M 611 20 371 260\" stroke=\"gray\" stroke-width=\"0.3\"/><path d=\"M 611 20 720 434\" stroke=\"gray\" stroke-width=\"0.3\"/><path d=\"M 611 20 151 520\" stroke=\"gray\" stroke-width=\"0.3\"/><path d=\"M 720 434 20 106\" stroke=\"gray\" stroke-width=\"0.3\"/><path d=\"M 720 434 371 260\" stroke=\"gray\" stroke-width=\"0.3\"/><path d=\"M 720 434 611 20\" stroke=\"gray\" stroke-width=\"0.3\"/><path d=\"M 720 434 151 520\" stroke=\"gray\" stroke-width=\"0.3\"/><path d=\"M 151 520 20 106\" stroke=\"gray\" stroke-width=\"0.3\"/><path d=\"M 151 520 371 260\" stroke=\"gray\" stroke-width=\"0.3\"/><path d=\"M 151 520 611 20\" stroke=\"gray\" stroke-width=\"0.3\"/><path d=\"M 151 520 720 434\" stroke=\"gray\" stroke-width=\"0.3\"/><circle cx=\"20\" cy=\"106\" r=\"3.0\" style=\"fill:rgb(219, 220, 222);stroke:black;stroke-width:1.0\"/><circle cx=\"371\" cy=\"260\" r=\"3.0\" style=\"fill:rgb(219, 220, 222);stroke:black;stroke-width:1.0\"/><circle cx=\"611\" cy=\"20\" r=\"3.0\" style=\"fill:rgb(219, 220, 222);stroke:black;stroke-width:1.0\"/><circle cx=\"720\" cy=\"434\" r=\"3.0\" style=\"fill:rgb(219, 220, 222);stroke:black;stroke-width:1.0\"/><circle cx=\"151\" cy=\"520\" r=\"3.0\" style=\"fill:rgb(219, 220, 222);stroke:black;stroke-width:1.0\"/><text font-size=\"10\" x=\"26\" y=\"109\">Eric Filiol</text><text font-size=\"10\" x=\"377\" y=\"263\">Maxence Delong</text><text font-size=\"10\" x=\"617\" y=\"23\">Clément Suhard</text><text font-size=\"10\" x=\"726\" y=\"437\">Clément Coddet</text><text font-size=\"10\" x=\"157\" y=\"523\">Olivier Fatou</text></svg>"
      ],
      "text/plain": [
       "<IPython.core.display.SVG object>"
      ]
     },
     "execution_count": 39,
     "metadata": {},
     "output_type": "execute_result"
    }
   ],
   "source": [
    "ego = top_nodes[18]\n",
    "\n",
    "G_ego = nx.ego_graph(G, ego)\n",
    "\n",
    "draw_graph(G_ego, show_names=True, node_size=3, edge_width=0.3)"
   ]
  },
  {
   "cell_type": "code",
   "execution_count": 40,
   "id": "26365521",
   "metadata": {},
   "outputs": [
    {
     "data": {
      "image/svg+xml": [
       "<svg height=\"540\" width=\"810.0\" xmlns=\"http://www.w3.org/2000/svg\"><path d=\"M 456 520 20 118\" stroke=\"gray\" stroke-width=\"0.3\"/><path d=\"M 456 520 720 268\" stroke=\"gray\" stroke-width=\"0.3\"/><path d=\"M 456 520 449 20\" stroke=\"gray\" stroke-width=\"0.3\"/><path d=\"M 456 520 24 427\" stroke=\"gray\" stroke-width=\"0.3\"/><path d=\"M 20 118 456 520\" stroke=\"gray\" stroke-width=\"0.3\"/><path d=\"M 20 118 720 268\" stroke=\"gray\" stroke-width=\"0.3\"/><path d=\"M 20 118 449 20\" stroke=\"gray\" stroke-width=\"0.3\"/><path d=\"M 20 118 24 427\" stroke=\"gray\" stroke-width=\"0.3\"/><path d=\"M 720 268 456 520\" stroke=\"gray\" stroke-width=\"0.3\"/><path d=\"M 720 268 20 118\" stroke=\"gray\" stroke-width=\"0.3\"/><path d=\"M 720 268 449 20\" stroke=\"gray\" stroke-width=\"0.3\"/><path d=\"M 720 268 24 427\" stroke=\"gray\" stroke-width=\"0.3\"/><path d=\"M 449 20 456 520\" stroke=\"gray\" stroke-width=\"0.3\"/><path d=\"M 449 20 20 118\" stroke=\"gray\" stroke-width=\"0.3\"/><path d=\"M 449 20 720 268\" stroke=\"gray\" stroke-width=\"0.3\"/><path d=\"M 449 20 24 427\" stroke=\"gray\" stroke-width=\"0.3\"/><path d=\"M 24 427 456 520\" stroke=\"gray\" stroke-width=\"0.3\"/><path d=\"M 24 427 20 118\" stroke=\"gray\" stroke-width=\"0.3\"/><path d=\"M 24 427 720 268\" stroke=\"gray\" stroke-width=\"0.3\"/><path d=\"M 24 427 449 20\" stroke=\"gray\" stroke-width=\"0.3\"/><circle cx=\"456\" cy=\"520\" r=\"3.0\" style=\"fill:rgb(219, 220, 222);stroke:black;stroke-width:1.0\"/><circle cx=\"20\" cy=\"118\" r=\"3.0\" style=\"fill:rgb(219, 220, 222);stroke:black;stroke-width:1.0\"/><circle cx=\"720\" cy=\"268\" r=\"3.0\" style=\"fill:rgb(219, 220, 222);stroke:black;stroke-width:1.0\"/><circle cx=\"449\" cy=\"20\" r=\"3.0\" style=\"fill:rgb(219, 220, 222);stroke:black;stroke-width:1.0\"/><circle cx=\"24\" cy=\"427\" r=\"3.0\" style=\"fill:rgb(219, 220, 222);stroke:black;stroke-width:1.0\"/><text font-size=\"10\" x=\"462\" y=\"523\">Eric Filiol</text><text font-size=\"10\" x=\"26\" y=\"121\">Maxence Delong</text><text font-size=\"10\" x=\"726\" y=\"271\">Clément Suhard</text><text font-size=\"10\" x=\"455\" y=\"23\">Clément Coddet</text><text font-size=\"10\" x=\"30\" y=\"430\">Olivier Fatou</text></svg>"
      ],
      "text/plain": [
       "<IPython.core.display.SVG object>"
      ]
     },
     "execution_count": 40,
     "metadata": {},
     "output_type": "execute_result"
    }
   ],
   "source": [
    "ego = top_nodes[19]\n",
    "\n",
    "G_ego = nx.ego_graph(G, ego)\n",
    "\n",
    "draw_graph(G_ego, show_names=True, node_size=3, edge_width=0.3)"
   ]
  },
  {
   "cell_type": "markdown",
   "id": "97e228f0",
   "metadata": {},
   "source": [
    "# This is the Beginning\n",
    "\n",
    "This is just the beginning of this network exploration. There are communities and connected components that should be explored. There are articles to read and authors to learn about and follow. We will certainly do more with these networks."
   ]
  },
  {
   "cell_type": "code",
   "execution_count": null,
   "id": "12d026f2",
   "metadata": {},
   "outputs": [],
   "source": []
  },
  {
   "cell_type": "code",
   "execution_count": null,
   "id": "40823f25",
   "metadata": {},
   "outputs": [],
   "source": []
  }
 ],
 "metadata": {
  "kernelspec": {
   "display_name": "Python 3",
   "language": "python",
   "name": "python3"
  },
  "language_info": {
   "codemirror_mode": {
    "name": "ipython",
    "version": 3
   },
   "file_extension": ".py",
   "mimetype": "text/x-python",
   "name": "python",
   "nbconvert_exporter": "python",
   "pygments_lexer": "ipython3",
   "version": "3.7.16"
  }
 },
 "nbformat": 4,
 "nbformat_minor": 5
}
