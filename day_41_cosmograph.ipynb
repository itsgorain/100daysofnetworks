{
 "cells": [
  {
   "cell_type": "code",
   "execution_count": null,
   "id": "51e3b05c",
   "metadata": {},
   "outputs": [],
   "source": [
    "# today's notebook is on google colab. it is public, and you may run the notebook\n",
    "# click \"Runtime\" and then \"Run all\"\n",
    "\n",
    "# https://colab.research.google.com/drive/1Y7-P-3LiD6py67kSnO5y592cEEW1aRNt?usp=sharing"
   ]
  }
 ],
 "metadata": {
  "kernelspec": {
   "display_name": "Python 3 (ipykernel)",
   "language": "python",
   "name": "python3"
  },
  "language_info": {
   "codemirror_mode": {
    "name": "ipython",
    "version": 3
   },
   "file_extension": ".py",
   "mimetype": "text/x-python",
   "name": "python",
   "nbconvert_exporter": "python",
   "pygments_lexer": "ipython3",
   "version": "3.11.5"
  }
 },
 "nbformat": 4,
 "nbformat_minor": 5
}
