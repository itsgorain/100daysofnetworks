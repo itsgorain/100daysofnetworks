{
 "cells": [
  {
   "cell_type": "code",
   "execution_count": 5,
   "id": "bfacb0ba",
   "metadata": {},
   "outputs": [],
   "source": [
    "#!pip install arxiv --user"
   ]
  },
  {
   "cell_type": "code",
   "execution_count": 58,
   "id": "5ad512df",
   "metadata": {},
   "outputs": [],
   "source": [
    "import pandas as pd\n",
    "import arxiv"
   ]
  },
  {
   "cell_type": "code",
   "execution_count": 74,
   "id": "81141bbc",
   "metadata": {},
   "outputs": [],
   "source": [
    "# i only use these if I want to remove annoying deprecation warnings from my analysis\n",
    "import warnings\n",
    "warnings.filterwarnings('ignore')"
   ]
  },
  {
   "cell_type": "code",
   "execution_count": 103,
   "id": "4d25a4b2",
   "metadata": {},
   "outputs": [],
   "source": [
    "def search_arxiv(query, max_results=10):\n",
    "\n",
    "    data = {}\n",
    "    i = 0\n",
    "\n",
    "    search = arxiv.Search(query=query, max_results=max_results)\n",
    "\n",
    "    for result in search.results():\n",
    "        \n",
    "        try:\n",
    "\n",
    "            data[i] = {}\n",
    "\n",
    "            data[i]['title'] = result.title\n",
    "            data[i]['date_published'] = result.published\n",
    "            data[i]['authors'] = [a.name for a in result.authors]\n",
    "            data[i]['summary'] = result.summary\n",
    "            data[i]['url'] = result.pdf_url\n",
    "            data[i]['category'] = result.primary_category\n",
    "        \n",
    "        except:\n",
    "            \n",
    "            print('weird arxiv error')\n",
    "        \n",
    "        # there are more fields that can be added; add as many as you need\n",
    "\n",
    "        i += 1\n",
    "\n",
    "    df = pd.DataFrame(data).T\n",
    "    df = df[['date_published', 'title', 'authors', 'summary', 'url', 'category']]\n",
    "    df['date_published'] = pd.to_datetime(df['date_published'])\n",
    "    df.sort_values('date_published', ascending=False, inplace=True)\n",
    "    df.reset_index(drop=True, inplace=True)\n",
    "    return df"
   ]
  },
  {
   "cell_type": "code",
   "execution_count": 108,
   "id": "92615d2a",
   "metadata": {},
   "outputs": [
    {
     "data": {
      "text/html": [
       "<div>\n",
       "<style scoped>\n",
       "    .dataframe tbody tr th:only-of-type {\n",
       "        vertical-align: middle;\n",
       "    }\n",
       "\n",
       "    .dataframe tbody tr th {\n",
       "        vertical-align: top;\n",
       "    }\n",
       "\n",
       "    .dataframe thead th {\n",
       "        text-align: right;\n",
       "    }\n",
       "</style>\n",
       "<table border=\"1\" class=\"dataframe\">\n",
       "  <thead>\n",
       "    <tr style=\"text-align: right;\">\n",
       "      <th></th>\n",
       "      <th>date_published</th>\n",
       "      <th>title</th>\n",
       "      <th>authors</th>\n",
       "      <th>summary</th>\n",
       "      <th>url</th>\n",
       "      <th>category</th>\n",
       "    </tr>\n",
       "  </thead>\n",
       "  <tbody>\n",
       "    <tr>\n",
       "      <th>0</th>\n",
       "      <td>2023-11-01 05:04:55+00:00</td>\n",
       "      <td>Entity Alignment Method of Science and Technol...</td>\n",
       "      <td>[Runze Fang, Yawen Li, Yingxia Shao, Zeli Guan...</td>\n",
       "      <td>The entity alignment of science and technology...</td>\n",
       "      <td>http://arxiv.org/pdf/2311.00300v1</td>\n",
       "      <td>cs.CL</td>\n",
       "    </tr>\n",
       "    <tr>\n",
       "      <th>1</th>\n",
       "      <td>2023-10-31 19:51:24+00:00</td>\n",
       "      <td>Statistical Network Analysis: Past, Present, a...</td>\n",
       "      <td>[Srijan Sengupta]</td>\n",
       "      <td>This article provides a brief overview of stat...</td>\n",
       "      <td>http://arxiv.org/pdf/2311.00122v1</td>\n",
       "      <td>stat.ME</td>\n",
       "    </tr>\n",
       "    <tr>\n",
       "      <th>2</th>\n",
       "      <td>2023-10-31 09:33:03+00:00</td>\n",
       "      <td>A physics-informed GAN Framework based on Mode...</td>\n",
       "      <td>[Kerem Ciftci, Klaus Hackl]</td>\n",
       "      <td>Model-free data-driven computational mechanics...</td>\n",
       "      <td>http://arxiv.org/pdf/2310.20308v1</td>\n",
       "      <td>cs.CE</td>\n",
       "    </tr>\n",
       "    <tr>\n",
       "      <th>3</th>\n",
       "      <td>2023-10-31 09:11:12+00:00</td>\n",
       "      <td>Verification of Neural Networks Local Differen...</td>\n",
       "      <td>[Roie Reshef, Anan Kabaha, Olga Seleznova, Dan...</td>\n",
       "      <td>Neural networks are susceptible to privacy att...</td>\n",
       "      <td>http://arxiv.org/pdf/2310.20299v1</td>\n",
       "      <td>cs.LG</td>\n",
       "    </tr>\n",
       "    <tr>\n",
       "      <th>4</th>\n",
       "      <td>2023-10-30 17:58:01+00:00</td>\n",
       "      <td>iGEM: a model system for team science and inno...</td>\n",
       "      <td>[Marc Santolini, Leo Blondel, Megan J. Palmer,...</td>\n",
       "      <td>Teams are a primary source of innovation in sc...</td>\n",
       "      <td>http://arxiv.org/pdf/2310.19858v1</td>\n",
       "      <td>cs.SI</td>\n",
       "    </tr>\n",
       "  </tbody>\n",
       "</table>\n",
       "</div>"
      ],
      "text/plain": [
       "             date_published  \\\n",
       "0 2023-11-01 05:04:55+00:00   \n",
       "1 2023-10-31 19:51:24+00:00   \n",
       "2 2023-10-31 09:33:03+00:00   \n",
       "3 2023-10-31 09:11:12+00:00   \n",
       "4 2023-10-30 17:58:01+00:00   \n",
       "\n",
       "                                               title  \\\n",
       "0  Entity Alignment Method of Science and Technol...   \n",
       "1  Statistical Network Analysis: Past, Present, a...   \n",
       "2  A physics-informed GAN Framework based on Mode...   \n",
       "3  Verification of Neural Networks Local Differen...   \n",
       "4  iGEM: a model system for team science and inno...   \n",
       "\n",
       "                                             authors  \\\n",
       "0  [Runze Fang, Yawen Li, Yingxia Shao, Zeli Guan...   \n",
       "1                                  [Srijan Sengupta]   \n",
       "2                        [Kerem Ciftci, Klaus Hackl]   \n",
       "3  [Roie Reshef, Anan Kabaha, Olga Seleznova, Dan...   \n",
       "4  [Marc Santolini, Leo Blondel, Megan J. Palmer,...   \n",
       "\n",
       "                                             summary  \\\n",
       "0  The entity alignment of science and technology...   \n",
       "1  This article provides a brief overview of stat...   \n",
       "2  Model-free data-driven computational mechanics...   \n",
       "3  Neural networks are susceptible to privacy att...   \n",
       "4  Teams are a primary source of innovation in sc...   \n",
       "\n",
       "                                 url category  \n",
       "0  http://arxiv.org/pdf/2311.00300v1    cs.CL  \n",
       "1  http://arxiv.org/pdf/2311.00122v1  stat.ME  \n",
       "2  http://arxiv.org/pdf/2310.20308v1    cs.CE  \n",
       "3  http://arxiv.org/pdf/2310.20299v1    cs.LG  \n",
       "4  http://arxiv.org/pdf/2310.19858v1    cs.SI  "
      ]
     },
     "execution_count": 108,
     "metadata": {},
     "output_type": "execute_result"
    }
   ],
   "source": [
    "# at 1000 articles, it takes about 30 seconds\n",
    "# at 10000 articles, it takes a while; put laptop down and walk away\n",
    "# i haven't tried beyond 10000 yet\n",
    "\n",
    "# at the moment, this is finicky beyond 10000; needs debugged or something\n",
    "# could also be a problem with the arxiv library as it seems to be inside the search\n",
    "\n",
    "# so far, i haven't noticed obvious throttling, but possibly throttling is causing the issue\n",
    "\n",
    "query = 'Network Science'\n",
    "\n",
    "max_results = 5000\n",
    "    \n",
    "df = search_arxiv(query, max_results) \n",
    "df.head()"
   ]
  },
  {
   "cell_type": "code",
   "execution_count": 111,
   "id": "26b9e534",
   "metadata": {},
   "outputs": [
    {
     "data": {
      "text/plain": [
       "(5000, 6)"
      ]
     },
     "execution_count": 111,
     "metadata": {},
     "output_type": "execute_result"
    }
   ],
   "source": [
    "df.shape"
   ]
  },
  {
   "cell_type": "code",
   "execution_count": 112,
   "id": "46b3d673",
   "metadata": {},
   "outputs": [],
   "source": [
    "outfile = 'data/arxiv_network_science_data.csv'\n",
    "\n",
    "df.to_csv(outfile, index=False)"
   ]
  },
  {
   "cell_type": "code",
   "execution_count": null,
   "id": "a87a58e4",
   "metadata": {},
   "outputs": [],
   "source": [
    "# occasionally randomly crashes; need to find a fix; maybe others can help"
   ]
  }
 ],
 "metadata": {
  "kernelspec": {
   "display_name": "Python 3",
   "language": "python",
   "name": "python3"
  },
  "language_info": {
   "codemirror_mode": {
    "name": "ipython",
    "version": 3
   },
   "file_extension": ".py",
   "mimetype": "text/x-python",
   "name": "python",
   "nbconvert_exporter": "python",
   "pygments_lexer": "ipython3",
   "version": "3.7.16"
  }
 },
 "nbformat": 4,
 "nbformat_minor": 5
}
