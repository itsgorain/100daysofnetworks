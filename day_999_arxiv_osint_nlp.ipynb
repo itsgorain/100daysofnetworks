{
 "cells": [
  {
   "cell_type": "code",
   "execution_count": 1,
   "id": "7d18c815",
   "metadata": {},
   "outputs": [],
   "source": [
    "import networkx as nx\n",
    "import numpy as np\n",
    "import pandas as pd\n",
    "\n",
    "# for the explode statement; convert string to list\n",
    "from ast import literal_eval\n",
    "\n",
    "from IPython.display import SVG \n",
    "from sknetwork.visualization import svg_graph \n",
    "from sknetwork.data import Bunch \n",
    "from sknetwork.ranking import PageRank "
   ]
  },
  {
   "cell_type": "code",
   "execution_count": 2,
   "id": "0e8c36c4",
   "metadata": {},
   "outputs": [],
   "source": [
    "def draw_graph(G, show_names=False, node_size=1, font_size=10, edge_width=0.5): \n",
    "\n",
    "    adjacency = nx.to_scipy_sparse_matrix(G, nodelist=None, dtype=None, weight='weight', format='csr') \n",
    "\n",
    "    names = np.array(list(G.nodes())) \n",
    "\n",
    "    graph = Bunch() \n",
    "    graph.adjacency = adjacency \n",
    "    graph.names = np.array(names) \n",
    "\n",
    "    pagerank = PageRank() \n",
    "\n",
    "    scores = pagerank.fit_transform(adjacency) \n",
    "\n",
    "    if show_names: \n",
    "        \n",
    "        image = svg_graph(graph.adjacency, font_size=font_size, node_size=node_size, names=graph.names, width=700, height=500, scores=scores, edge_width=edge_width) \n",
    "\n",
    "    else: \n",
    "\n",
    "        image = svg_graph(graph.adjacency, node_size=node_size, width=700, height=500, scores = scores, edge_width=edge_width) \n",
    "\n",
    "    return SVG(image) "
   ]
  },
  {
   "cell_type": "code",
   "execution_count": 4,
   "id": "5e7e69f4",
   "metadata": {},
   "outputs": [
    {
     "data": {
      "text/html": [
       "<div>\n",
       "<style scoped>\n",
       "    .dataframe tbody tr th:only-of-type {\n",
       "        vertical-align: middle;\n",
       "    }\n",
       "\n",
       "    .dataframe tbody tr th {\n",
       "        vertical-align: top;\n",
       "    }\n",
       "\n",
       "    .dataframe thead th {\n",
       "        text-align: right;\n",
       "    }\n",
       "</style>\n",
       "<table border=\"1\" class=\"dataframe\">\n",
       "  <thead>\n",
       "    <tr style=\"text-align: right;\">\n",
       "      <th></th>\n",
       "      <th>date_published</th>\n",
       "      <th>title</th>\n",
       "      <th>authors</th>\n",
       "      <th>summary</th>\n",
       "      <th>url</th>\n",
       "      <th>category</th>\n",
       "    </tr>\n",
       "  </thead>\n",
       "  <tbody>\n",
       "    <tr>\n",
       "      <th>0</th>\n",
       "      <td>2023-10-03 11:42:29+00:00</td>\n",
       "      <td>Online Multimedia Verification with Computatio...</td>\n",
       "      <td>[Sohail Ahmed Khan, Jan Gunnar Furuly, Henrik ...</td>\n",
       "      <td>This paper investigates the use of computation...</td>\n",
       "      <td>http://arxiv.org/pdf/2310.01978v1</td>\n",
       "      <td>cs.MM</td>\n",
       "    </tr>\n",
       "    <tr>\n",
       "      <th>1</th>\n",
       "      <td>2023-09-06 19:03:49+00:00</td>\n",
       "      <td>C-CLIP: Contrastive Image-Text Encoders to Clo...</td>\n",
       "      <td>[William Theisen, Walter Scheirer]</td>\n",
       "      <td>The interplay between the image and comment on...</td>\n",
       "      <td>http://arxiv.org/pdf/2309.03921v1</td>\n",
       "      <td>cs.CV</td>\n",
       "    </tr>\n",
       "    <tr>\n",
       "      <th>2</th>\n",
       "      <td>2023-07-27 23:03:57+00:00</td>\n",
       "      <td>A Secure Open-Source Intelligence Framework Fo...</td>\n",
       "      <td>[Sylvia Worlali Azumah, Victor Adewopo, Zag El...</td>\n",
       "      <td>Cyberbullying has become a pervasive issue bas...</td>\n",
       "      <td>http://arxiv.org/pdf/2307.15225v2</td>\n",
       "      <td>cs.CY</td>\n",
       "    </tr>\n",
       "    <tr>\n",
       "      <th>3</th>\n",
       "      <td>2023-06-09 18:18:58+00:00</td>\n",
       "      <td>The Use of Public Data and Free Tools in Natio...</td>\n",
       "      <td>[Sharifah Roziah Binti Mohd Kassim, Shujun Li,...</td>\n",
       "      <td>Many CSIRTs, including national CSIRTs, routin...</td>\n",
       "      <td>http://arxiv.org/pdf/2306.07988v1</td>\n",
       "      <td>cs.DL</td>\n",
       "    </tr>\n",
       "    <tr>\n",
       "      <th>4</th>\n",
       "      <td>2023-04-24 09:53:33+00:00</td>\n",
       "      <td>ThreatCrawl: A BERT-based Focused Crawler for ...</td>\n",
       "      <td>[Philipp Kuehn, Mike Schmidt, Markus Bayer, Ch...</td>\n",
       "      <td>Publicly available information contains valuab...</td>\n",
       "      <td>http://arxiv.org/pdf/2304.11960v2</td>\n",
       "      <td>cs.CR</td>\n",
       "    </tr>\n",
       "  </tbody>\n",
       "</table>\n",
       "</div>"
      ],
      "text/plain": [
       "             date_published  \\\n",
       "0 2023-10-03 11:42:29+00:00   \n",
       "1 2023-09-06 19:03:49+00:00   \n",
       "2 2023-07-27 23:03:57+00:00   \n",
       "3 2023-06-09 18:18:58+00:00   \n",
       "4 2023-04-24 09:53:33+00:00   \n",
       "\n",
       "                                               title  \\\n",
       "0  Online Multimedia Verification with Computatio...   \n",
       "1  C-CLIP: Contrastive Image-Text Encoders to Clo...   \n",
       "2  A Secure Open-Source Intelligence Framework Fo...   \n",
       "3  The Use of Public Data and Free Tools in Natio...   \n",
       "4  ThreatCrawl: A BERT-based Focused Crawler for ...   \n",
       "\n",
       "                                             authors  \\\n",
       "0  [Sohail Ahmed Khan, Jan Gunnar Furuly, Henrik ...   \n",
       "1                 [William Theisen, Walter Scheirer]   \n",
       "2  [Sylvia Worlali Azumah, Victor Adewopo, Zag El...   \n",
       "3  [Sharifah Roziah Binti Mohd Kassim, Shujun Li,...   \n",
       "4  [Philipp Kuehn, Mike Schmidt, Markus Bayer, Ch...   \n",
       "\n",
       "                                             summary  \\\n",
       "0  This paper investigates the use of computation...   \n",
       "1  The interplay between the image and comment on...   \n",
       "2  Cyberbullying has become a pervasive issue bas...   \n",
       "3  Many CSIRTs, including national CSIRTs, routin...   \n",
       "4  Publicly available information contains valuab...   \n",
       "\n",
       "                                 url category  \n",
       "0  http://arxiv.org/pdf/2310.01978v1    cs.MM  \n",
       "1  http://arxiv.org/pdf/2309.03921v1    cs.CV  \n",
       "2  http://arxiv.org/pdf/2307.15225v2    cs.CY  \n",
       "3  http://arxiv.org/pdf/2306.07988v1    cs.DL  \n",
       "4  http://arxiv.org/pdf/2304.11960v2    cs.CR  "
      ]
     },
     "execution_count": 4,
     "metadata": {},
     "output_type": "execute_result"
    }
   ],
   "source": [
    "data = r'data/arxiv_osint.csv'\n",
    "\n",
    "df = pd.read_csv(data)\n",
    "\n",
    "df['date_published'] = pd.to_datetime(df['date_published'])\n",
    "df['authors'] = df['authors'].apply(literal_eval)\n",
    "\n",
    "df.head()"
   ]
  },
  {
   "cell_type": "code",
   "execution_count": 5,
   "id": "e398fe0f",
   "metadata": {},
   "outputs": [
    {
     "data": {
      "text/plain": [
       "(16, 6)"
      ]
     },
     "execution_count": 5,
     "metadata": {},
     "output_type": "execute_result"
    }
   ],
   "source": [
    "df.shape"
   ]
  },
  {
   "cell_type": "markdown",
   "id": "261d438e",
   "metadata": {},
   "source": [
    "# Dates"
   ]
  },
  {
   "cell_type": "code",
   "execution_count": 6,
   "id": "40823f25",
   "metadata": {},
   "outputs": [
    {
     "data": {
      "text/html": [
       "<div>\n",
       "<style scoped>\n",
       "    .dataframe tbody tr th:only-of-type {\n",
       "        vertical-align: middle;\n",
       "    }\n",
       "\n",
       "    .dataframe tbody tr th {\n",
       "        vertical-align: top;\n",
       "    }\n",
       "\n",
       "    .dataframe thead th {\n",
       "        text-align: right;\n",
       "    }\n",
       "</style>\n",
       "<table border=\"1\" class=\"dataframe\">\n",
       "  <thead>\n",
       "    <tr style=\"text-align: right;\">\n",
       "      <th></th>\n",
       "      <th>date_published</th>\n",
       "      <th>title</th>\n",
       "      <th>authors</th>\n",
       "      <th>summary</th>\n",
       "      <th>url</th>\n",
       "      <th>category</th>\n",
       "      <th>date_ym</th>\n",
       "    </tr>\n",
       "  </thead>\n",
       "  <tbody>\n",
       "    <tr>\n",
       "      <th>0</th>\n",
       "      <td>2023-10-03 11:42:29+00:00</td>\n",
       "      <td>Online Multimedia Verification with Computatio...</td>\n",
       "      <td>[Sohail Ahmed Khan, Jan Gunnar Furuly, Henrik ...</td>\n",
       "      <td>This paper investigates the use of computation...</td>\n",
       "      <td>http://arxiv.org/pdf/2310.01978v1</td>\n",
       "      <td>cs.MM</td>\n",
       "      <td>2023-10</td>\n",
       "    </tr>\n",
       "    <tr>\n",
       "      <th>1</th>\n",
       "      <td>2023-09-06 19:03:49+00:00</td>\n",
       "      <td>C-CLIP: Contrastive Image-Text Encoders to Clo...</td>\n",
       "      <td>[William Theisen, Walter Scheirer]</td>\n",
       "      <td>The interplay between the image and comment on...</td>\n",
       "      <td>http://arxiv.org/pdf/2309.03921v1</td>\n",
       "      <td>cs.CV</td>\n",
       "      <td>2023-09</td>\n",
       "    </tr>\n",
       "    <tr>\n",
       "      <th>2</th>\n",
       "      <td>2023-07-27 23:03:57+00:00</td>\n",
       "      <td>A Secure Open-Source Intelligence Framework Fo...</td>\n",
       "      <td>[Sylvia Worlali Azumah, Victor Adewopo, Zag El...</td>\n",
       "      <td>Cyberbullying has become a pervasive issue bas...</td>\n",
       "      <td>http://arxiv.org/pdf/2307.15225v2</td>\n",
       "      <td>cs.CY</td>\n",
       "      <td>2023-07</td>\n",
       "    </tr>\n",
       "    <tr>\n",
       "      <th>3</th>\n",
       "      <td>2023-06-09 18:18:58+00:00</td>\n",
       "      <td>The Use of Public Data and Free Tools in Natio...</td>\n",
       "      <td>[Sharifah Roziah Binti Mohd Kassim, Shujun Li,...</td>\n",
       "      <td>Many CSIRTs, including national CSIRTs, routin...</td>\n",
       "      <td>http://arxiv.org/pdf/2306.07988v1</td>\n",
       "      <td>cs.DL</td>\n",
       "      <td>2023-06</td>\n",
       "    </tr>\n",
       "    <tr>\n",
       "      <th>4</th>\n",
       "      <td>2023-04-24 09:53:33+00:00</td>\n",
       "      <td>ThreatCrawl: A BERT-based Focused Crawler for ...</td>\n",
       "      <td>[Philipp Kuehn, Mike Schmidt, Markus Bayer, Ch...</td>\n",
       "      <td>Publicly available information contains valuab...</td>\n",
       "      <td>http://arxiv.org/pdf/2304.11960v2</td>\n",
       "      <td>cs.CR</td>\n",
       "      <td>2023-04</td>\n",
       "    </tr>\n",
       "  </tbody>\n",
       "</table>\n",
       "</div>"
      ],
      "text/plain": [
       "             date_published  \\\n",
       "0 2023-10-03 11:42:29+00:00   \n",
       "1 2023-09-06 19:03:49+00:00   \n",
       "2 2023-07-27 23:03:57+00:00   \n",
       "3 2023-06-09 18:18:58+00:00   \n",
       "4 2023-04-24 09:53:33+00:00   \n",
       "\n",
       "                                               title  \\\n",
       "0  Online Multimedia Verification with Computatio...   \n",
       "1  C-CLIP: Contrastive Image-Text Encoders to Clo...   \n",
       "2  A Secure Open-Source Intelligence Framework Fo...   \n",
       "3  The Use of Public Data and Free Tools in Natio...   \n",
       "4  ThreatCrawl: A BERT-based Focused Crawler for ...   \n",
       "\n",
       "                                             authors  \\\n",
       "0  [Sohail Ahmed Khan, Jan Gunnar Furuly, Henrik ...   \n",
       "1                 [William Theisen, Walter Scheirer]   \n",
       "2  [Sylvia Worlali Azumah, Victor Adewopo, Zag El...   \n",
       "3  [Sharifah Roziah Binti Mohd Kassim, Shujun Li,...   \n",
       "4  [Philipp Kuehn, Mike Schmidt, Markus Bayer, Ch...   \n",
       "\n",
       "                                             summary  \\\n",
       "0  This paper investigates the use of computation...   \n",
       "1  The interplay between the image and comment on...   \n",
       "2  Cyberbullying has become a pervasive issue bas...   \n",
       "3  Many CSIRTs, including national CSIRTs, routin...   \n",
       "4  Publicly available information contains valuab...   \n",
       "\n",
       "                                 url category  date_ym  \n",
       "0  http://arxiv.org/pdf/2310.01978v1    cs.MM  2023-10  \n",
       "1  http://arxiv.org/pdf/2309.03921v1    cs.CV  2023-09  \n",
       "2  http://arxiv.org/pdf/2307.15225v2    cs.CY  2023-07  \n",
       "3  http://arxiv.org/pdf/2306.07988v1    cs.DL  2023-06  \n",
       "4  http://arxiv.org/pdf/2304.11960v2    cs.CR  2023-04  "
      ]
     },
     "execution_count": 6,
     "metadata": {},
     "output_type": "execute_result"
    }
   ],
   "source": [
    "df['date_ym'] = df['date_published'].dt.strftime('%Y-%m')\n",
    "\n",
    "df.head()"
   ]
  },
  {
   "cell_type": "code",
   "execution_count": 7,
   "id": "dbe9cad5",
   "metadata": {},
   "outputs": [
    {
     "data": {
      "text/html": [
       "<div>\n",
       "<style scoped>\n",
       "    .dataframe tbody tr th:only-of-type {\n",
       "        vertical-align: middle;\n",
       "    }\n",
       "\n",
       "    .dataframe tbody tr th {\n",
       "        vertical-align: top;\n",
       "    }\n",
       "\n",
       "    .dataframe thead th {\n",
       "        text-align: right;\n",
       "    }\n",
       "</style>\n",
       "<table border=\"1\" class=\"dataframe\">\n",
       "  <thead>\n",
       "    <tr style=\"text-align: right;\">\n",
       "      <th></th>\n",
       "      <th>paper_count</th>\n",
       "    </tr>\n",
       "    <tr>\n",
       "      <th>date_ym</th>\n",
       "      <th></th>\n",
       "    </tr>\n",
       "  </thead>\n",
       "  <tbody>\n",
       "    <tr>\n",
       "      <th>2016-08</th>\n",
       "      <td>1</td>\n",
       "    </tr>\n",
       "    <tr>\n",
       "      <th>2018-03</th>\n",
       "      <td>1</td>\n",
       "    </tr>\n",
       "    <tr>\n",
       "      <th>2018-07</th>\n",
       "      <td>1</td>\n",
       "    </tr>\n",
       "    <tr>\n",
       "      <th>2019-01</th>\n",
       "      <td>2</td>\n",
       "    </tr>\n",
       "    <tr>\n",
       "      <th>2019-10</th>\n",
       "      <td>1</td>\n",
       "    </tr>\n",
       "  </tbody>\n",
       "</table>\n",
       "</div>"
      ],
      "text/plain": [
       "         paper_count\n",
       "date_ym             \n",
       "2016-08            1\n",
       "2018-03            1\n",
       "2018-07            1\n",
       "2019-01            2\n",
       "2019-10            1"
      ]
     },
     "execution_count": 7,
     "metadata": {},
     "output_type": "execute_result"
    }
   ],
   "source": [
    "agg_df = df[['date_ym', 'title']].groupby('date_ym').count()\n",
    "\n",
    "agg_df.columns = ['paper_count']\n",
    "\n",
    "agg_df.head()"
   ]
  },
  {
   "cell_type": "code",
   "execution_count": 8,
   "id": "40c57349",
   "metadata": {},
   "outputs": [
    {
     "data": {
      "text/html": [
       "<div>\n",
       "<style scoped>\n",
       "    .dataframe tbody tr th:only-of-type {\n",
       "        vertical-align: middle;\n",
       "    }\n",
       "\n",
       "    .dataframe tbody tr th {\n",
       "        vertical-align: top;\n",
       "    }\n",
       "\n",
       "    .dataframe thead th {\n",
       "        text-align: right;\n",
       "    }\n",
       "</style>\n",
       "<table border=\"1\" class=\"dataframe\">\n",
       "  <thead>\n",
       "    <tr style=\"text-align: right;\">\n",
       "      <th></th>\n",
       "      <th>paper_count</th>\n",
       "    </tr>\n",
       "    <tr>\n",
       "      <th>date_ym</th>\n",
       "      <th></th>\n",
       "    </tr>\n",
       "  </thead>\n",
       "  <tbody>\n",
       "    <tr>\n",
       "      <th>2023-04</th>\n",
       "      <td>1</td>\n",
       "    </tr>\n",
       "    <tr>\n",
       "      <th>2023-06</th>\n",
       "      <td>1</td>\n",
       "    </tr>\n",
       "    <tr>\n",
       "      <th>2023-07</th>\n",
       "      <td>1</td>\n",
       "    </tr>\n",
       "    <tr>\n",
       "      <th>2023-09</th>\n",
       "      <td>1</td>\n",
       "    </tr>\n",
       "    <tr>\n",
       "      <th>2023-10</th>\n",
       "      <td>1</td>\n",
       "    </tr>\n",
       "  </tbody>\n",
       "</table>\n",
       "</div>"
      ],
      "text/plain": [
       "         paper_count\n",
       "date_ym             \n",
       "2023-04            1\n",
       "2023-06            1\n",
       "2023-07            1\n",
       "2023-09            1\n",
       "2023-10            1"
      ]
     },
     "execution_count": 8,
     "metadata": {},
     "output_type": "execute_result"
    }
   ],
   "source": [
    "agg_df.tail()"
   ]
  },
  {
   "cell_type": "code",
   "execution_count": 9,
   "id": "9f81962c",
   "metadata": {},
   "outputs": [
    {
     "data": {
      "image/png": "[encoded data removed]",
      "text/plain": [
       "<Figure size 1440x576 with 1 Axes>"
      ]
     },
     "metadata": {
      "needs_background": "light"
     },
     "output_type": "display_data"
    }
   ],
   "source": [
    "_= agg_df.plot(figsize=(20,8))"
   ]
  },
  {
   "cell_type": "code",
   "execution_count": 10,
   "id": "9ce273cb",
   "metadata": {},
   "outputs": [
    {
     "data": {
      "image/png": "[encoded data removed]",
      "text/plain": [
       "<Figure size 864x576 with 1 Axes>"
      ]
     },
     "metadata": {
      "needs_background": "light"
     },
     "output_type": "display_data"
    }
   ],
   "source": [
    "df['category'].value_counts()[0:20].plot.barh(figsize=(12,8)).invert_yaxis()"
   ]
  },
  {
   "cell_type": "code",
   "execution_count": 11,
   "id": "85870668",
   "metadata": {},
   "outputs": [],
   "source": [
    "def show_category_titles(df):\n",
    "    \n",
    "    df = df.copy()\n",
    "    \n",
    "    categories = list(df['category'].value_counts().index)\n",
    "\n",
    "    for category in categories:\n",
    "\n",
    "        print('Category: {}'.format(category))\n",
    "        print()\n",
    "\n",
    "        titles = sorted(df[df['category']==category]['title'])\n",
    "        \n",
    "        for title in titles:\n",
    "            print(title)\n",
    "\n",
    "        print()\n",
    "        print('-------------------')\n",
    "        print()"
   ]
  },
  {
   "cell_type": "code",
   "execution_count": 12,
   "id": "093e563e",
   "metadata": {
    "scrolled": true
   },
   "outputs": [
    {
     "name": "stdout",
     "output_type": "stream",
     "text": [
      "Category: cs.CR\n",
      "\n",
      "A First Look at the Crypto-Mining Malware Ecosystem: A Decade of Unrestricted Wealth\n",
      "A machine-learning approach to Detect users' suspicious behaviour through the Facebook wall\n",
      "Generating Fake Cyber Threat Intelligence Using Transformer-Based Models\n",
      "Is Cryptojacking Dead after Coinhive Shutdown?\n",
      "OSINT Analysis of the TOR Foundation\n",
      "Smarter Password Guessing Techniques Leveraging Contextual Information and OSINT\n",
      "ThreatCrawl: A BERT-based Focused Crawler for the Cybersecurity Domain\n",
      "\n",
      "-------------------\n",
      "\n",
      "Category: cs.MM\n",
      "\n",
      "Online Multimedia Verification with Computational Tools and OSINT: Russia-Ukraine Conflict Case Studies\n",
      "PicHunt: Social Media Image Retrieval for Improved Law Enforcement\n",
      "\n",
      "-------------------\n",
      "\n",
      "Category: cs.CV\n",
      "\n",
      "C-CLIP: Contrastive Image-Text Encoders to Close the Descriptive-Commentative Gap\n",
      "Objects of violence: synthetic data for practical ML in human rights investigations\n",
      "\n",
      "-------------------\n",
      "\n",
      "Category: cs.CY\n",
      "\n",
      "A Secure Open-Source Intelligence Framework For Cyberbullying Investigation\n",
      "PeopleXploit -- A hybrid tool to collect public data\n",
      "\n",
      "-------------------\n",
      "\n",
      "Category: cs.DL\n",
      "\n",
      "The Use of Public Data and Free Tools in National CSIRTs' Operational Practices: A Systematic Literature Review\n",
      "\n",
      "-------------------\n",
      "\n",
      "Category: cs.OH\n",
      "\n",
      "Information Operations Recognition: from Nonlinear Analysis to Decision-making\n",
      "\n",
      "-------------------\n",
      "\n",
      "Category: cs.CL\n",
      "\n",
      "Using Deep Neural Networks to Translate Multi-lingual Threat Intelligence\n",
      "\n",
      "-------------------\n",
      "\n"
     ]
    }
   ],
   "source": [
    "# you can read about the categories here: https://arxiv.org/category_taxonomy\n",
    "# cs.NE Computer Science: (Neural and Evolutionary Computing)\n",
    "# cs.AI Computer Science: (Artificial Intelligence)\n",
    "# nlin.AO Nonlinear Sciences: (Adaptation and Self-Organizing Systems)\n",
    "\n",
    "# Artificial Life is approached from different sciences\n",
    "# But nlin.AO could be cool to zoom in on and explore\n",
    "\n",
    "show_category_titles(df)"
   ]
  },
  {
   "cell_type": "code",
   "execution_count": 14,
   "id": "06208cb6",
   "metadata": {},
   "outputs": [
    {
     "name": "stdout",
     "output_type": "stream",
     "text": [
      "http://arxiv.org/pdf/2310.01978v1\n"
     ]
    }
   ],
   "source": [
    "search_title = 'Online Multimedia Verification with Computational Tools and OSINT: Russia-Ukraine Conflict Case Studies'\n",
    "\n",
    "url = df[df['title']==search_title]['url'].values[0]\n",
    "print(url)"
   ]
  },
  {
   "cell_type": "code",
   "execution_count": null,
   "id": "dcbe6ae8",
   "metadata": {},
   "outputs": [],
   "source": [
    "# Today's Goal will be to find the signal that I want; Artificial Life, not Artificial Intelligence"
   ]
  }
 ],
 "metadata": {
  "kernelspec": {
   "display_name": "Python 3",
   "language": "python",
   "name": "python3"
  },
  "language_info": {
   "codemirror_mode": {
    "name": "ipython",
    "version": 3
   },
   "file_extension": ".py",
   "mimetype": "text/x-python",
   "name": "python",
   "nbconvert_exporter": "python",
   "pygments_lexer": "ipython3",
   "version": "3.7.16"
  }
 },
 "nbformat": 4,
 "nbformat_minor": 5
}
