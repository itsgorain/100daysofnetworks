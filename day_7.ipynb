{
 "cells": [
  {
   "cell_type": "code",
   "execution_count": 39,
   "id": "c3a22200",
   "metadata": {},
   "outputs": [],
   "source": [
    "import networkx as nx\n",
    "import numpy as np\n",
    "import pandas as pd\n",
    "\n",
    "from IPython.display import SVG \n",
    "from sknetwork.visualization import svg_graph, svg_digraph \n",
    "from sknetwork.data import Bunch \n",
    "from sknetwork.ranking import PageRank "
   ]
  },
  {
   "cell_type": "code",
   "execution_count": 40,
   "id": "40f1ecbe",
   "metadata": {},
   "outputs": [],
   "source": [
    "def draw_graph(G, show_names=False, node_size=1, font_size=10, edge_width=0.5): \n",
    "\n",
    "    adjacency = nx.to_scipy_sparse_matrix(G, nodelist=None, dtype=None, weight='weight', format='csr') \n",
    "\n",
    "    names = np.array(list(G.nodes())) \n",
    "\n",
    "    graph = Bunch() \n",
    "    graph.adjacency = adjacency \n",
    "    graph.names = np.array(names) \n",
    "\n",
    "    pagerank = PageRank() \n",
    "\n",
    "    scores = pagerank.fit_transform(adjacency) \n",
    "\n",
    "    if show_names: \n",
    "        \n",
    "        image = svg_digraph(graph.adjacency, font_size=font_size, node_size=node_size, names=graph.names, width=700, height=500, scores=scores, edge_width=edge_width) \n",
    "\n",
    "    else: \n",
    "\n",
    "        image = svg_digraph(graph.adjacency, node_size=node_size, width=700, height=500, scores = scores, edge_width=edge_width) \n",
    "\n",
    "    return SVG(image) "
   ]
  },
  {
   "cell_type": "markdown",
   "id": "de4ff106",
   "metadata": {},
   "source": [
    "# Types of Graphs: Part 1\n",
    "\n",
    "Yesterday, we were able to use the Network Analysis network to create a learning curriculum. We will likely do that again, during this #100daysofnetworks adventures, to learn more and more to learn about. Basically, we can use that to identify gaps in our knowledge, and then we can learn those concepts. Today, we are going to learn about five different types of graphs, and look at some of their characteristics. \n",
    "\n",
    "We will look at:\n",
    "- Cycle graphs\n",
    "- Dense graphs\n",
    "- Sparse graphs\n",
    "- Regular graphs\n",
    "- Wheel graphs\n",
    "\n",
    "In practice, I tend to not think of these names when I am doing network analysis, as I am jumping between sections, excploring commmunities, looking at ego networks, identifying important nodes, etc. But this is useful to understand because THERE ARE different types of graphs, and they have unique characteristics. \n",
    "\n",
    "Often, in practice, I will see these types of graphs in subgraphs, or in cores, or in communities, but it is extremely rare that a network I analyze will be wheel graph, for instance. \n",
    "\n",
    "But this is useful knowledge, and it is good to have a common vocabulary.\n",
    "\n",
    "I am using ChatGPT to make short work of summarization. As always, if you use a LLM, you should verify that it has given you the correct answer. You can see what I did here: https://chat.openai.com/share/04278943-07d5-4568-ad78-2f23c3e18c3e\n",
    "\n",
    "We could build some of these with NetworkX graph generators, but I am doing this manually so that you can understand more easily.\n",
    "\n",
    "I am using an older version of scikit-network. In newer versions, you can indicate whether a graph is directed or undirected, and it will render as such. In this version, I'd have to create two separate functions, so just note that in an undirected network, the arrows go both ways (and they do), and in a directed network, edges are often in a single direction, like a one-way street"
   ]
  },
  {
   "cell_type": "markdown",
   "id": "d410ed54",
   "metadata": {},
   "source": [
    "## Cycle Graphs\n",
    "\n",
    "A cycle graph is a type of graph in network science that forms a simple cycle, which is a closed path where each node is connected to exactly two neighbors except for the first and last nodes, which are connected to each other. Cycle graphs are fundamental structures in graph theory and are often used to model cyclic processes, circuits, and other scenarios with repeating patterns.\n",
    "\n",
    "Example: A -> B -> C -> D -> A\n",
    "\n",
    "You can learn more at https://en.wikipedia.org/wiki/Cycle_graph"
   ]
  },
  {
   "cell_type": "code",
   "execution_count": 41,
   "id": "2a3a2057",
   "metadata": {},
   "outputs": [
    {
     "data": {
      "image/svg+xml": [
       "<svg height=\"540\" width=\"746.0\" xmlns=\"http://www.w3.org/2000/svg\"><defs><marker id=\"arrow\" markerHeight=\"10\" markerWidth=\"10\" orient=\"auto\" refX=\"9\" refY=\"3\"><path d=\"M0,0 L0,6 L9,3 z\" fill=\"gray\"/></marker></defs><path d=\"M 720 299 609 97\" marker-end=\"url(#arrow)\" stroke=\"gray\" stroke-width=\"1\"/><path d=\"M 606 90 312 21\" marker-end=\"url(#arrow)\" stroke=\"gray\" stroke-width=\"1\"/><path d=\"M 305 20 49 139\" marker-end=\"url(#arrow)\" stroke=\"gray\" stroke-width=\"1\"/><path d=\"M 42 142 20 359\" marker-end=\"url(#arrow)\" stroke=\"gray\" stroke-width=\"1\"/><path d=\"M 20 366 241 516\" marker-end=\"url(#arrow)\" stroke=\"gray\" stroke-width=\"1\"/><path d=\"M 247 520 555 491\" marker-end=\"url(#arrow)\" stroke=\"gray\" stroke-width=\"1\"/><path d=\"M 562 491 715 305\" marker-end=\"url(#arrow)\" stroke=\"gray\" stroke-width=\"1\"/><circle cx=\"720\" cy=\"299\" r=\"8.0\" style=\"fill:rgb(219, 220, 222);stroke:black;stroke-width:1.0\"/><circle cx=\"606\" cy=\"90\" r=\"8.0\" style=\"fill:rgb(219, 220, 222);stroke:black;stroke-width:1.0\"/><circle cx=\"305\" cy=\"20\" r=\"8.0\" style=\"fill:rgb(219, 220, 222);stroke:black;stroke-width:1.0\"/><circle cx=\"42\" cy=\"142\" r=\"8.0\" style=\"fill:rgb(219, 220, 222);stroke:black;stroke-width:1.0\"/><circle cx=\"20\" cy=\"366\" r=\"8.0\" style=\"fill:rgb(219, 220, 222);stroke:black;stroke-width:1.0\"/><circle cx=\"247\" cy=\"520\" r=\"8.0\" style=\"fill:rgb(219, 220, 222);stroke:black;stroke-width:1.0\"/><circle cx=\"562\" cy=\"491\" r=\"8.0\" style=\"fill:rgb(219, 220, 222);stroke:black;stroke-width:1.0\"/><text font-size=\"12\" x=\"738\" y=\"307\">A</text><text font-size=\"12\" x=\"624\" y=\"98\">B</text><text font-size=\"12\" x=\"323\" y=\"28\">C</text><text font-size=\"12\" x=\"60\" y=\"150\">D</text><text font-size=\"12\" x=\"38\" y=\"374\">E</text><text font-size=\"12\" x=\"265\" y=\"528\">F</text><text font-size=\"12\" x=\"580\" y=\"499\">G</text></svg>"
      ],
      "text/plain": [
       "<IPython.core.display.SVG object>"
      ]
     },
     "execution_count": 41,
     "metadata": {},
     "output_type": "execute_result"
    }
   ],
   "source": [
    "edges = ['AB', 'BC', 'CD', 'DE', 'EF', 'FG', 'GA']\n",
    "\n",
    "edgelist = [(e[0],e[1]) for e in edges]\n",
    "\n",
    "G = nx.from_edgelist(edgelist, create_using=nx.DiGraph)\n",
    "\n",
    "draw_graph(G, show_names=True, node_size=8, font_size=12, edge_width=1)"
   ]
  },
  {
   "cell_type": "markdown",
   "id": "56c8bd1d",
   "metadata": {},
   "source": [
    "### Density\n",
    "A maximum density of 1.0 would indicate that every single node has an edge (is connected to) with every single other node in the network. In this graph, nodes are only connected with the node in front of them. It is a one-way street. So, the density score will be low, but it will not be 0.0. A minimal density of 0.0 would indicate that no nodes are connected with any other nodes in the network. "
   ]
  },
  {
   "cell_type": "code",
   "execution_count": 42,
   "id": "237f9950",
   "metadata": {},
   "outputs": [
    {
     "data": {
      "text/plain": [
       "0.16666666666666666"
      ]
     },
     "execution_count": 42,
     "metadata": {},
     "output_type": "execute_result"
    }
   ],
   "source": [
    "nx.density(G)"
   ]
  },
  {
   "cell_type": "markdown",
   "id": "190273aa",
   "metadata": {},
   "source": [
    "### Betweenness Centrality\n",
    "Betweenness Centrality shows which nodes sit between other nodes. Nodes with higher betweenness centrality values sit on the shortest path of more nodes than nodes with low betweenenness centrality values."
   ]
  },
  {
   "cell_type": "code",
   "execution_count": 43,
   "id": "ade28ac6",
   "metadata": {},
   "outputs": [
    {
     "data": {
      "text/plain": [
       "{'A': 0.5, 'B': 0.5, 'C': 0.5, 'D': 0.5, 'E': 0.5, 'F': 0.5, 'G': 0.5}"
      ]
     },
     "execution_count": 43,
     "metadata": {},
     "output_type": "execute_result"
    }
   ],
   "source": [
    "nx.betweenness_centrality(G)"
   ]
  },
  {
   "cell_type": "markdown",
   "id": "6e8344a8",
   "metadata": {},
   "source": [
    "There's no point even visualizing this. Every single node has an identical betweenenss centrality value, because every single node sits between one node and another node."
   ]
  },
  {
   "cell_type": "markdown",
   "id": "d2ccd774",
   "metadata": {},
   "source": [
    "### Degree Centrality\n",
    "Degree Centrality has to do with the number of edges a node has. It is a simple measure and has nothing to do with whether a node sits on a shortest path. It only cares about the degrees (edges) a node has. In this case, every node has the same number of edges, so their degree centrality will be identical."
   ]
  },
  {
   "cell_type": "code",
   "execution_count": 44,
   "id": "ef75717c",
   "metadata": {},
   "outputs": [
    {
     "data": {
      "text/plain": [
       "{'A': 0.3333333333333333,\n",
       " 'B': 0.3333333333333333,\n",
       " 'C': 0.3333333333333333,\n",
       " 'D': 0.3333333333333333,\n",
       " 'E': 0.3333333333333333,\n",
       " 'F': 0.3333333333333333,\n",
       " 'G': 0.3333333333333333}"
      ]
     },
     "execution_count": 44,
     "metadata": {},
     "output_type": "execute_result"
    }
   ],
   "source": [
    "nx.degree_centrality(G)"
   ]
  },
  {
   "cell_type": "markdown",
   "id": "b959fb05",
   "metadata": {},
   "source": [
    "We can also see this by looking at the degrees of a Graph. You can use either of these two approaches."
   ]
  },
  {
   "cell_type": "code",
   "execution_count": 45,
   "id": "00049e80",
   "metadata": {},
   "outputs": [
    {
     "data": {
      "text/plain": [
       "DiDegreeView({'A': 2, 'B': 2, 'C': 2, 'D': 2, 'E': 2, 'F': 2, 'G': 2})"
      ]
     },
     "execution_count": 45,
     "metadata": {},
     "output_type": "execute_result"
    }
   ],
   "source": [
    "G.degree"
   ]
  },
  {
   "cell_type": "code",
   "execution_count": 46,
   "id": "604bf9a4",
   "metadata": {},
   "outputs": [
    {
     "data": {
      "text/plain": [
       "DiDegreeView({'A': 2, 'B': 2, 'C': 2, 'D': 2, 'E': 2, 'F': 2, 'G': 2})"
      ]
     },
     "execution_count": 46,
     "metadata": {},
     "output_type": "execute_result"
    }
   ],
   "source": [
    "nx.degree(G)"
   ]
  },
  {
   "cell_type": "markdown",
   "id": "69e2ecbf",
   "metadata": {},
   "source": [
    "### Shortest Paths\n",
    "Because of the cyclic nature of the graph, the shortest path from A to C will be much shorter than from E to C. Think about this and it will become intuitive."
   ]
  },
  {
   "cell_type": "code",
   "execution_count": 47,
   "id": "2c9ead36",
   "metadata": {},
   "outputs": [
    {
     "data": {
      "text/plain": [
       "['A', 'B', 'C']"
      ]
     },
     "execution_count": 47,
     "metadata": {},
     "output_type": "execute_result"
    }
   ],
   "source": [
    "nx.shortest_path(G, 'A', 'C')"
   ]
  },
  {
   "cell_type": "code",
   "execution_count": 48,
   "id": "3caae2bc",
   "metadata": {},
   "outputs": [
    {
     "data": {
      "text/plain": [
       "['E', 'F', 'G', 'A', 'B', 'C']"
      ]
     },
     "execution_count": 48,
     "metadata": {},
     "output_type": "execute_result"
    }
   ],
   "source": [
    "nx.shortest_path(G, 'E', 'C')"
   ]
  },
  {
   "cell_type": "markdown",
   "id": "57e5bbd3",
   "metadata": {},
   "source": [
    "## Dense Graphs\n",
    "\n",
    "A dense graph is a type of graph in network science where most of the possible edges are present, resulting in a high density of connections between nodes. In a dense graph, the number of edges is close to the maximum possible for the given number of nodes. Dense graphs are often used to model scenarios where interactions or relationships between entities are widespread and frequent.\n",
    "\n",
    "You can learn more at https://en.wikipedia.org/wiki/Dense_graph"
   ]
  },
  {
   "cell_type": "code",
   "execution_count": 49,
   "id": "9625109f",
   "metadata": {},
   "outputs": [
    {
     "data": {
      "image/svg+xml": [
       "<svg height=\"540\" width=\"746.0\" xmlns=\"http://www.w3.org/2000/svg\"><defs><marker id=\"arrow\" markerHeight=\"10\" markerWidth=\"10\" orient=\"auto\" refX=\"9\" refY=\"3\"><path d=\"M0,0 L0,6 L9,3 z\" fill=\"gray\"/></marker></defs><path d=\"M 150 57 713 232\" marker-end=\"url(#arrow)\" stroke=\"gray\" stroke-width=\"1\"/><path d=\"M 150 57 499 20\" marker-end=\"url(#arrow)\" stroke=\"gray\" stroke-width=\"1\"/><path d=\"M 150 57 584 477\" marker-end=\"url(#arrow)\" stroke=\"gray\" stroke-width=\"1\"/><path d=\"M 150 57 23 298\" marker-end=\"url(#arrow)\" stroke=\"gray\" stroke-width=\"1\"/><path d=\"M 150 57 232 513\" marker-end=\"url(#arrow)\" stroke=\"gray\" stroke-width=\"1\"/><path d=\"M 720 234 157 59\" marker-end=\"url(#arrow)\" stroke=\"gray\" stroke-width=\"1\"/><path d=\"M 720 234 511 25\" marker-end=\"url(#arrow)\" stroke=\"gray\" stroke-width=\"1\"/><path d=\"M 720 234 592 475\" marker-end=\"url(#arrow)\" stroke=\"gray\" stroke-width=\"1\"/><path d=\"M 720 234 27 305\" marker-end=\"url(#arrow)\" stroke=\"gray\" stroke-width=\"1\"/><path d=\"M 720 234 239 516\" marker-end=\"url(#arrow)\" stroke=\"gray\" stroke-width=\"1\"/><path d=\"M 506 20 157 57\" marker-end=\"url(#arrow)\" stroke=\"gray\" stroke-width=\"1\"/><path d=\"M 506 20 715 229\" marker-end=\"url(#arrow)\" stroke=\"gray\" stroke-width=\"1\"/><path d=\"M 506 20 588 475\" marker-end=\"url(#arrow)\" stroke=\"gray\" stroke-width=\"1\"/><path d=\"M 506 20 26 301\" marker-end=\"url(#arrow)\" stroke=\"gray\" stroke-width=\"1\"/><path d=\"M 506 20 236 513\" marker-end=\"url(#arrow)\" stroke=\"gray\" stroke-width=\"1\"/><path d=\"M 589 482 155 62\" marker-end=\"url(#arrow)\" stroke=\"gray\" stroke-width=\"1\"/><path d=\"M 589 482 717 241\" marker-end=\"url(#arrow)\" stroke=\"gray\" stroke-width=\"1\"/><path d=\"M 589 482 507 27\" marker-end=\"url(#arrow)\" stroke=\"gray\" stroke-width=\"1\"/><path d=\"M 589 482 27 307\" marker-end=\"url(#arrow)\" stroke=\"gray\" stroke-width=\"1\"/><path d=\"M 589 482 240 520\" marker-end=\"url(#arrow)\" stroke=\"gray\" stroke-width=\"1\"/><path d=\"M 20 305 147 64\" marker-end=\"url(#arrow)\" stroke=\"gray\" stroke-width=\"1\"/><path d=\"M 20 305 713 234\" marker-end=\"url(#arrow)\" stroke=\"gray\" stroke-width=\"1\"/><path d=\"M 20 305 500 24\" marker-end=\"url(#arrow)\" stroke=\"gray\" stroke-width=\"1\"/><path d=\"M 20 305 582 480\" marker-end=\"url(#arrow)\" stroke=\"gray\" stroke-width=\"1\"/><path d=\"M 20 305 228 515\" marker-end=\"url(#arrow)\" stroke=\"gray\" stroke-width=\"1\"/><path d=\"M 233 520 151 64\" marker-end=\"url(#arrow)\" stroke=\"gray\" stroke-width=\"1\"/><path d=\"M 233 520 714 238\" marker-end=\"url(#arrow)\" stroke=\"gray\" stroke-width=\"1\"/><path d=\"M 233 520 503 27\" marker-end=\"url(#arrow)\" stroke=\"gray\" stroke-width=\"1\"/><path d=\"M 233 520 582 482\" marker-end=\"url(#arrow)\" stroke=\"gray\" stroke-width=\"1\"/><path d=\"M 233 520 25 310\" marker-end=\"url(#arrow)\" stroke=\"gray\" stroke-width=\"1\"/><circle cx=\"150\" cy=\"57\" r=\"8.0\" style=\"fill:rgb(219, 220, 222);stroke:black;stroke-width:1.0\"/><circle cx=\"720\" cy=\"234\" r=\"8.0\" style=\"fill:rgb(219, 220, 222);stroke:black;stroke-width:1.0\"/><circle cx=\"506\" cy=\"20\" r=\"8.0\" style=\"fill:rgb(219, 220, 222);stroke:black;stroke-width:1.0\"/><circle cx=\"589\" cy=\"482\" r=\"8.0\" style=\"fill:rgb(219, 220, 222);stroke:black;stroke-width:1.0\"/><circle cx=\"20\" cy=\"305\" r=\"8.0\" style=\"fill:rgb(219, 220, 222);stroke:black;stroke-width:1.0\"/><circle cx=\"233\" cy=\"520\" r=\"8.0\" style=\"fill:rgb(219, 220, 222);stroke:black;stroke-width:1.0\"/><text font-size=\"12\" x=\"168\" y=\"65\">A</text><text font-size=\"12\" x=\"738\" y=\"242\">B</text><text font-size=\"12\" x=\"524\" y=\"28\">C</text><text font-size=\"12\" x=\"607\" y=\"490\">D</text><text font-size=\"12\" x=\"38\" y=\"313\">E</text><text font-size=\"12\" x=\"251\" y=\"528\">F</text></svg>"
      ],
      "text/plain": [
       "<IPython.core.display.SVG object>"
      ]
     },
     "execution_count": 49,
     "metadata": {},
     "output_type": "execute_result"
    }
   ],
   "source": [
    "edges = ['AB', 'AC', 'AD', 'AE', 'AF', 'BC', 'BD', 'BE', 'BF', 'CD', 'CE', 'CF', 'DE', 'DF', 'EF']\n",
    "\n",
    "edgelist = [(e[0],e[1]) for e in edges]\n",
    "\n",
    "G = nx.from_edgelist(edgelist, create_using=nx.Graph)\n",
    "\n",
    "draw_graph(G, show_names=True, node_size=8, font_size=12, edge_width=1)"
   ]
  },
  {
   "cell_type": "markdown",
   "id": "2b773e07",
   "metadata": {},
   "source": [
    "### Density\n",
    "Unlike the cycle graph, in a dense graph, most nodes are linked to most other nodes. In this case, ALL nodes are linked to other nodes. If we wanted to experiment with density values, we could drop one of the edges and see how that affects density. Please experiment!\n",
    "\n",
    "A density of 1.0 indicates that all nodes have edges (links) to all other nodes."
   ]
  },
  {
   "cell_type": "code",
   "execution_count": 50,
   "id": "aab664d7",
   "metadata": {},
   "outputs": [
    {
     "data": {
      "text/plain": [
       "1.0"
      ]
     },
     "execution_count": 50,
     "metadata": {},
     "output_type": "execute_result"
    }
   ],
   "source": [
    "nx.density(G)"
   ]
  },
  {
   "cell_type": "markdown",
   "id": "66ec6b4f",
   "metadata": {},
   "source": [
    "### Betweenness Centrality\n",
    "As with the cycle graph, all nodes have an identical betweenness centrality. However, unlike the cycle graph, the betweenness centrality value is 0.0 instead of 0.5."
   ]
  },
  {
   "cell_type": "code",
   "execution_count": 51,
   "id": "be7ebad6",
   "metadata": {},
   "outputs": [
    {
     "data": {
      "text/plain": [
       "{'A': 0.0, 'B': 0.0, 'C': 0.0, 'D': 0.0, 'E': 0.0, 'F': 0.0}"
      ]
     },
     "execution_count": 51,
     "metadata": {},
     "output_type": "execute_result"
    }
   ],
   "source": [
    "nx.betweenness_centrality(G)"
   ]
  },
  {
   "cell_type": "markdown",
   "id": "01a9d9df",
   "metadata": {},
   "source": [
    "### Degree Centrality\n",
    "Each node has five edges, and each node has an identical degree centrality. Even though this is a very different kind of graph than a cycle graph, the degree centrality is uniform across nodes in the graph, as it was in a cycle graph."
   ]
  },
  {
   "cell_type": "code",
   "execution_count": 52,
   "id": "550f2b88",
   "metadata": {},
   "outputs": [
    {
     "data": {
      "text/plain": [
       "{'A': 1.0, 'B': 1.0, 'C': 1.0, 'D': 1.0, 'E': 1.0, 'F': 1.0}"
      ]
     },
     "execution_count": 52,
     "metadata": {},
     "output_type": "execute_result"
    }
   ],
   "source": [
    "nx.degree_centrality(G)"
   ]
  },
  {
   "cell_type": "code",
   "execution_count": 53,
   "id": "4e81e37e",
   "metadata": {},
   "outputs": [
    {
     "data": {
      "text/plain": [
       "DegreeView({'A': 5, 'B': 5, 'C': 5, 'D': 5, 'E': 5, 'F': 5})"
      ]
     },
     "execution_count": 53,
     "metadata": {},
     "output_type": "execute_result"
    }
   ],
   "source": [
    "G.degree"
   ]
  },
  {
   "cell_type": "markdown",
   "id": "a7056d1f",
   "metadata": {},
   "source": [
    "### Shortest Paths\n",
    "Take note that the shortest paths are very different in this kind of graph vs a cycle graph. In a cycle graph, it takes much longer to go from node E to node C. In this dense graph, node C is an equal distance from nodes A and E.\n",
    "\n",
    "This has implications in communications and in network resiliency. You can bolster your network by making it more dense."
   ]
  },
  {
   "cell_type": "code",
   "execution_count": 54,
   "id": "8630821e",
   "metadata": {},
   "outputs": [
    {
     "data": {
      "text/plain": [
       "['A', 'C']"
      ]
     },
     "execution_count": 54,
     "metadata": {},
     "output_type": "execute_result"
    }
   ],
   "source": [
    "nx.shortest_path(G, 'A', 'C')"
   ]
  },
  {
   "cell_type": "code",
   "execution_count": 55,
   "id": "ca38aa2a",
   "metadata": {},
   "outputs": [
    {
     "data": {
      "text/plain": [
       "['E', 'C']"
      ]
     },
     "execution_count": 55,
     "metadata": {},
     "output_type": "execute_result"
    }
   ],
   "source": [
    "nx.shortest_path(G, 'E', 'C')"
   ]
  },
  {
   "cell_type": "markdown",
   "id": "ab419541",
   "metadata": {},
   "source": [
    "## Sparse Graphs\n",
    "You can learn more on the Dense graph page, but a sparse graph is just a graph where nodes have very few edges."
   ]
  },
  {
   "cell_type": "code",
   "execution_count": 56,
   "id": "4553687b",
   "metadata": {},
   "outputs": [
    {
     "data": {
      "image/svg+xml": [
       "<svg height=\"540\" width=\"746.0\" xmlns=\"http://www.w3.org/2000/svg\"><defs><marker id=\"arrow\" markerHeight=\"10\" markerWidth=\"10\" orient=\"auto\" refX=\"9\" refY=\"3\"><path d=\"M0,0 L0,6 L9,3 z\" fill=\"gray\"/></marker></defs><path d=\"M 364 220 343 234\" marker-end=\"url(#arrow)\" stroke=\"gray\" stroke-width=\"1\"/><path d=\"M 337 238 340 261\" marker-end=\"url(#arrow)\" stroke=\"gray\" stroke-width=\"1\"/><path d=\"M 337 238 312 229\" marker-end=\"url(#arrow)\" stroke=\"gray\" stroke-width=\"1\"/><circle cx=\"364\" cy=\"220\" r=\"8.0\" style=\"fill:rgb(58, 76, 192);stroke:black;stroke-width:1.0\"/><circle cx=\"337\" cy=\"238\" r=\"8.0\" style=\"fill:rgb(103, 136, 237);stroke:black;stroke-width:1.0\"/><circle cx=\"341\" cy=\"268\" r=\"8.0\" style=\"fill:rgb(179, 3, 38);stroke:black;stroke-width:1.0\"/><circle cx=\"305\" cy=\"227\" r=\"8.0\" style=\"fill:rgb(179, 3, 38);stroke:black;stroke-width:1.0\"/><circle cx=\"595\" cy=\"496\" r=\"8.0\" style=\"fill:rgb(227, 108, 84);stroke:black;stroke-width:1.0\"/><circle cx=\"720\" cy=\"160\" r=\"8.0\" style=\"fill:rgb(227, 108, 84);stroke:black;stroke-width:1.0\"/><circle cx=\"362\" cy=\"520\" r=\"8.0\" style=\"fill:rgb(227, 108, 84);stroke:black;stroke-width:1.0\"/><circle cx=\"570\" cy=\"40\" r=\"8.0\" style=\"fill:rgb(227, 108, 84);stroke:black;stroke-width:1.0\"/><circle cx=\"199\" cy=\"20\" r=\"8.0\" style=\"fill:rgb(227, 108, 84);stroke:black;stroke-width:1.0\"/><circle cx=\"20\" cy=\"83\" r=\"8.0\" style=\"fill:rgb(227, 108, 84);stroke:black;stroke-width:1.0\"/><circle cx=\"87\" cy=\"446\" r=\"8.0\" style=\"fill:rgb(227, 108, 84);stroke:black;stroke-width:1.0\"/><text font-size=\"12\" x=\"382\" y=\"228\">A</text><text font-size=\"12\" x=\"355\" y=\"246\">B</text><text font-size=\"12\" x=\"359\" y=\"276\">C</text><text font-size=\"12\" x=\"323\" y=\"235\">D</text><text font-size=\"12\" x=\"613\" y=\"504\">E</text><text font-size=\"12\" x=\"738\" y=\"168\">F</text><text font-size=\"12\" x=\"380\" y=\"528\">G</text><text font-size=\"12\" x=\"588\" y=\"48\">H</text><text font-size=\"12\" x=\"217\" y=\"28\">I</text><text font-size=\"12\" x=\"38\" y=\"91\">J</text><text font-size=\"12\" x=\"105\" y=\"454\">K</text></svg>"
      ],
      "text/plain": [
       "<IPython.core.display.SVG object>"
      ]
     },
     "execution_count": 56,
     "metadata": {},
     "output_type": "execute_result"
    }
   ],
   "source": [
    "G = nx.DiGraph()\n",
    "\n",
    "G.add_nodes_from(['A', 'B', 'C', 'D', 'E', 'F', 'G', 'H', 'I', 'J', 'K'])\n",
    "G.add_edges_from([('A', 'B'), ('B', 'C'), ('B', 'D')])\n",
    "\n",
    "draw_graph(G, show_names=True, node_size=8, font_size=12, edge_width=1)"
   ]
  },
  {
   "cell_type": "markdown",
   "id": "463c6539",
   "metadata": {},
   "source": [
    "### Density\n",
    "\n",
    "Look at the density score of this graph. 0.027, where the fully connected graph had a density of 1.0. I made this sparse graph look closer to what I often see in real-world datasets, allowing a few connections to exist, making this a bit more interesting than completely isolated dots."
   ]
  },
  {
   "cell_type": "code",
   "execution_count": 57,
   "id": "c0ba7777",
   "metadata": {},
   "outputs": [
    {
     "data": {
      "text/plain": [
       "0.02727272727272727"
      ]
     },
     "execution_count": 57,
     "metadata": {},
     "output_type": "execute_result"
    }
   ],
   "source": [
    "nx.density(G)"
   ]
  },
  {
   "cell_type": "markdown",
   "id": "24321520",
   "metadata": {},
   "source": [
    "### Betweenness Centrality\n",
    "Pay close attention to the code and arrows on the visualization and you'll realize that this is a directed graph. In this graph, only one node sits between other nodes, and that is node B. A has an edge with B, and B has edges with C and D. So, only one of these nodes will have a betweenness centrality value, and the rest will be zero. You can use betweenness centrality to identify important nodes, and it did just that."
   ]
  },
  {
   "cell_type": "code",
   "execution_count": 58,
   "id": "9af573ad",
   "metadata": {},
   "outputs": [
    {
     "data": {
      "text/plain": [
       "{'A': 0.0,\n",
       " 'B': 0.022222222222222223,\n",
       " 'C': 0.0,\n",
       " 'D': 0.0,\n",
       " 'E': 0.0,\n",
       " 'F': 0.0,\n",
       " 'G': 0.0,\n",
       " 'H': 0.0,\n",
       " 'I': 0.0,\n",
       " 'J': 0.0,\n",
       " 'K': 0.0}"
      ]
     },
     "execution_count": 58,
     "metadata": {},
     "output_type": "execute_result"
    }
   ],
   "source": [
    "nx.betweenness_centrality(G)"
   ]
  },
  {
   "cell_type": "markdown",
   "id": "930a2a21",
   "metadata": {},
   "source": [
    "### Degree Centrality\n",
    "In this graph, degree centrality actually showed to be a bit more informative than betweenness centrality, which is why it is useful to know about several different centralities and where they can be useful and how they differ. Degree centrality gave the highest value to B (just like betweenness centrality), but it also identified nodes A, C, and D as having some importance, as they are connected."
   ]
  },
  {
   "cell_type": "code",
   "execution_count": 59,
   "id": "69ac8608",
   "metadata": {},
   "outputs": [
    {
     "data": {
      "text/plain": [
       "{'A': 0.1,\n",
       " 'B': 0.30000000000000004,\n",
       " 'C': 0.1,\n",
       " 'D': 0.1,\n",
       " 'E': 0.0,\n",
       " 'F': 0.0,\n",
       " 'G': 0.0,\n",
       " 'H': 0.0,\n",
       " 'I': 0.0,\n",
       " 'J': 0.0,\n",
       " 'K': 0.0}"
      ]
     },
     "execution_count": 59,
     "metadata": {},
     "output_type": "execute_result"
    }
   ],
   "source": [
    "nx.degree_centrality(G)"
   ]
  },
  {
   "cell_type": "markdown",
   "id": "ee083028",
   "metadata": {},
   "source": [
    "### Shortest Paths\n",
    "Shortest paths identified another key difference between the other graphs. This is a directed network, and it is sparsely connected. As it is sparsely connected, information cannot flow from certain nodes to other nodes. Look below and you will see that there is a shortest path between nodes A and C, but there is no path whatsoever between nodes E and C. You can see that in the visualization as well!"
   ]
  },
  {
   "cell_type": "code",
   "execution_count": 60,
   "id": "1df729d6",
   "metadata": {},
   "outputs": [
    {
     "data": {
      "text/plain": [
       "['A', 'B', 'C']"
      ]
     },
     "execution_count": 60,
     "metadata": {},
     "output_type": "execute_result"
    }
   ],
   "source": [
    "nx.shortest_path(G, 'A', 'C')"
   ]
  },
  {
   "cell_type": "code",
   "execution_count": 61,
   "id": "200da32a",
   "metadata": {},
   "outputs": [
    {
     "ename": "NetworkXNoPath",
     "evalue": "No path between E and C.",
     "output_type": "error",
     "traceback": [
      "\u001b[1;31m---------------------------------------------------------------------------\u001b[0m",
      "\u001b[1;31mNetworkXNoPath\u001b[0m                            Traceback (most recent call last)",
      "\u001b[1;32m<ipython-input-61-4fcbdf828684>\u001b[0m in \u001b[0;36m<module>\u001b[1;34m\u001b[0m\n\u001b[1;32m----> 1\u001b[1;33m \u001b[0mnx\u001b[0m\u001b[1;33m.\u001b[0m\u001b[0mshortest_path\u001b[0m\u001b[1;33m(\u001b[0m\u001b[0mG\u001b[0m\u001b[1;33m,\u001b[0m \u001b[1;34m'E'\u001b[0m\u001b[1;33m,\u001b[0m \u001b[1;34m'C'\u001b[0m\u001b[1;33m)\u001b[0m\u001b[1;33m\u001b[0m\u001b[1;33m\u001b[0m\u001b[0m\n\u001b[0m",
      "\u001b[1;32m~\\AppData\\Roaming\\Python\\Python37\\site-packages\\networkx\\algorithms\\shortest_paths\\generic.py\u001b[0m in \u001b[0;36mshortest_path\u001b[1;34m(G, source, target, weight, method)\u001b[0m\n\u001b[0;32m    158\u001b[0m             \u001b[1;31m# Find shortest source-target path.\u001b[0m\u001b[1;33m\u001b[0m\u001b[1;33m\u001b[0m\u001b[1;33m\u001b[0m\u001b[0m\n\u001b[0;32m    159\u001b[0m             \u001b[1;32mif\u001b[0m \u001b[0mmethod\u001b[0m \u001b[1;33m==\u001b[0m \u001b[1;34m\"unweighted\"\u001b[0m\u001b[1;33m:\u001b[0m\u001b[1;33m\u001b[0m\u001b[1;33m\u001b[0m\u001b[0m\n\u001b[1;32m--> 160\u001b[1;33m                 \u001b[0mpaths\u001b[0m \u001b[1;33m=\u001b[0m \u001b[0mnx\u001b[0m\u001b[1;33m.\u001b[0m\u001b[0mbidirectional_shortest_path\u001b[0m\u001b[1;33m(\u001b[0m\u001b[0mG\u001b[0m\u001b[1;33m,\u001b[0m \u001b[0msource\u001b[0m\u001b[1;33m,\u001b[0m \u001b[0mtarget\u001b[0m\u001b[1;33m)\u001b[0m\u001b[1;33m\u001b[0m\u001b[1;33m\u001b[0m\u001b[0m\n\u001b[0m\u001b[0;32m    161\u001b[0m             \u001b[1;32melif\u001b[0m \u001b[0mmethod\u001b[0m \u001b[1;33m==\u001b[0m \u001b[1;34m\"dijkstra\"\u001b[0m\u001b[1;33m:\u001b[0m\u001b[1;33m\u001b[0m\u001b[1;33m\u001b[0m\u001b[0m\n\u001b[0;32m    162\u001b[0m                 \u001b[0m_\u001b[0m\u001b[1;33m,\u001b[0m \u001b[0mpaths\u001b[0m \u001b[1;33m=\u001b[0m \u001b[0mnx\u001b[0m\u001b[1;33m.\u001b[0m\u001b[0mbidirectional_dijkstra\u001b[0m\u001b[1;33m(\u001b[0m\u001b[0mG\u001b[0m\u001b[1;33m,\u001b[0m \u001b[0msource\u001b[0m\u001b[1;33m,\u001b[0m \u001b[0mtarget\u001b[0m\u001b[1;33m,\u001b[0m \u001b[0mweight\u001b[0m\u001b[1;33m)\u001b[0m\u001b[1;33m\u001b[0m\u001b[1;33m\u001b[0m\u001b[0m\n",
      "\u001b[1;32m~\\AppData\\Roaming\\Python\\Python37\\site-packages\\networkx\\algorithms\\shortest_paths\\unweighted.py\u001b[0m in \u001b[0;36mbidirectional_shortest_path\u001b[1;34m(G, source, target)\u001b[0m\n\u001b[0;32m    222\u001b[0m \u001b[1;33m\u001b[0m\u001b[0m\n\u001b[0;32m    223\u001b[0m     \u001b[1;31m# call helper to do the real work\u001b[0m\u001b[1;33m\u001b[0m\u001b[1;33m\u001b[0m\u001b[1;33m\u001b[0m\u001b[0m\n\u001b[1;32m--> 224\u001b[1;33m     \u001b[0mresults\u001b[0m \u001b[1;33m=\u001b[0m \u001b[0m_bidirectional_pred_succ\u001b[0m\u001b[1;33m(\u001b[0m\u001b[0mG\u001b[0m\u001b[1;33m,\u001b[0m \u001b[0msource\u001b[0m\u001b[1;33m,\u001b[0m \u001b[0mtarget\u001b[0m\u001b[1;33m)\u001b[0m\u001b[1;33m\u001b[0m\u001b[1;33m\u001b[0m\u001b[0m\n\u001b[0m\u001b[0;32m    225\u001b[0m     \u001b[0mpred\u001b[0m\u001b[1;33m,\u001b[0m \u001b[0msucc\u001b[0m\u001b[1;33m,\u001b[0m \u001b[0mw\u001b[0m \u001b[1;33m=\u001b[0m \u001b[0mresults\u001b[0m\u001b[1;33m\u001b[0m\u001b[1;33m\u001b[0m\u001b[0m\n\u001b[0;32m    226\u001b[0m \u001b[1;33m\u001b[0m\u001b[0m\n",
      "\u001b[1;32m~\\AppData\\Roaming\\Python\\Python37\\site-packages\\networkx\\algorithms\\shortest_paths\\unweighted.py\u001b[0m in \u001b[0;36m_bidirectional_pred_succ\u001b[1;34m(G, source, target)\u001b[0m\n\u001b[0;32m    290\u001b[0m                         \u001b[1;32mreturn\u001b[0m \u001b[0mpred\u001b[0m\u001b[1;33m,\u001b[0m \u001b[0msucc\u001b[0m\u001b[1;33m,\u001b[0m \u001b[0mw\u001b[0m\u001b[1;33m\u001b[0m\u001b[1;33m\u001b[0m\u001b[0m\n\u001b[0;32m    291\u001b[0m \u001b[1;33m\u001b[0m\u001b[0m\n\u001b[1;32m--> 292\u001b[1;33m     \u001b[1;32mraise\u001b[0m \u001b[0mnx\u001b[0m\u001b[1;33m.\u001b[0m\u001b[0mNetworkXNoPath\u001b[0m\u001b[1;33m(\u001b[0m\u001b[1;34mf\"No path between {source} and {target}.\"\u001b[0m\u001b[1;33m)\u001b[0m\u001b[1;33m\u001b[0m\u001b[1;33m\u001b[0m\u001b[0m\n\u001b[0m\u001b[0;32m    293\u001b[0m \u001b[1;33m\u001b[0m\u001b[0m\n\u001b[0;32m    294\u001b[0m \u001b[1;33m\u001b[0m\u001b[0m\n",
      "\u001b[1;31mNetworkXNoPath\u001b[0m: No path between E and C."
     ]
    }
   ],
   "source": [
    "nx.shortest_path(G, 'E', 'C')"
   ]
  },
  {
   "cell_type": "markdown",
   "id": "c190accb",
   "metadata": {},
   "source": [
    "## Regular Graphs\n",
    "\n",
    "A regular graph is a type of graph in network science where each node has the same number of connections or edges. In other words, all nodes in a regular graph have the same degree. Regular graphs are often studied for their uniform connectivity patterns and symmetry.\n",
    "\n",
    "You can learn more at https://en.wikipedia.org/wiki/Regular_graph\n",
    "\n",
    "Our Dense Graph was an example of a regular graph, but I will make another one for this demonstration. No harm in seeing something twice. You'll see a lot of familiar shapes the more network analysis you do.\n",
    "\n",
    "Forget everything you know about dense graphs and pretend you just learned about regular graphs. Try to anticipate density, betweenness centrality, and shortest paths."
   ]
  },
  {
   "cell_type": "code",
   "execution_count": 62,
   "id": "b700f80e",
   "metadata": {},
   "outputs": [
    {
     "data": {
      "image/svg+xml": [
       "<svg height=\"540\" width=\"746.0\" xmlns=\"http://www.w3.org/2000/svg\"><defs><marker id=\"arrow\" markerHeight=\"10\" markerWidth=\"10\" orient=\"auto\" refX=\"9\" refY=\"3\"><path d=\"M0,0 L0,6 L9,3 z\" fill=\"gray\"/></marker></defs><path d=\"M 420 520 715 238\" marker-end=\"url(#arrow)\" stroke=\"gray\" stroke-width=\"1\"/><path d=\"M 420 520 27 309\" marker-end=\"url(#arrow)\" stroke=\"gray\" stroke-width=\"1\"/><path d=\"M 420 520 320 27\" marker-end=\"url(#arrow)\" stroke=\"gray\" stroke-width=\"1\"/><path d=\"M 720 233 425 515\" marker-end=\"url(#arrow)\" stroke=\"gray\" stroke-width=\"1\"/><path d=\"M 720 233 27 306\" marker-end=\"url(#arrow)\" stroke=\"gray\" stroke-width=\"1\"/><path d=\"M 720 233 326 23\" marker-end=\"url(#arrow)\" stroke=\"gray\" stroke-width=\"1\"/><path d=\"M 20 306 413 517\" marker-end=\"url(#arrow)\" stroke=\"gray\" stroke-width=\"1\"/><path d=\"M 20 306 713 233\" marker-end=\"url(#arrow)\" stroke=\"gray\" stroke-width=\"1\"/><path d=\"M 20 306 314 25\" marker-end=\"url(#arrow)\" stroke=\"gray\" stroke-width=\"1\"/><path d=\"M 319 20 419 513\" marker-end=\"url(#arrow)\" stroke=\"gray\" stroke-width=\"1\"/><path d=\"M 319 20 713 230\" marker-end=\"url(#arrow)\" stroke=\"gray\" stroke-width=\"1\"/><path d=\"M 319 20 25 301\" marker-end=\"url(#arrow)\" stroke=\"gray\" stroke-width=\"1\"/><circle cx=\"420\" cy=\"520\" r=\"8.0\" style=\"fill:rgb(219, 220, 222);stroke:black;stroke-width:1.0\"/><circle cx=\"720\" cy=\"233\" r=\"8.0\" style=\"fill:rgb(219, 220, 222);stroke:black;stroke-width:1.0\"/><circle cx=\"20\" cy=\"306\" r=\"8.0\" style=\"fill:rgb(219, 220, 222);stroke:black;stroke-width:1.0\"/><circle cx=\"319\" cy=\"20\" r=\"8.0\" style=\"fill:rgb(219, 220, 222);stroke:black;stroke-width:1.0\"/><text font-size=\"12\" x=\"438\" y=\"528\">A</text><text font-size=\"12\" x=\"738\" y=\"241\">B</text><text font-size=\"12\" x=\"38\" y=\"314\">C</text><text font-size=\"12\" x=\"337\" y=\"28\">D</text></svg>"
      ],
      "text/plain": [
       "<IPython.core.display.SVG object>"
      ]
     },
     "execution_count": 62,
     "metadata": {},
     "output_type": "execute_result"
    }
   ],
   "source": [
    "edges = ['AB', 'AC', 'AD', 'BC', 'BD', 'CD']\n",
    "\n",
    "edgelist = [(e[0],e[1]) for e in edges]\n",
    "\n",
    "G = nx.from_edgelist(edgelist, create_using=nx.Graph)\n",
    "\n",
    "draw_graph(G, show_names=True, node_size=8, font_size=12, edge_width=1)"
   ]
  },
  {
   "cell_type": "markdown",
   "id": "b76350c5",
   "metadata": {},
   "source": [
    "### Density"
   ]
  },
  {
   "cell_type": "code",
   "execution_count": 63,
   "id": "aa77c242",
   "metadata": {},
   "outputs": [
    {
     "data": {
      "text/plain": [
       "1.0"
      ]
     },
     "execution_count": 63,
     "metadata": {},
     "output_type": "execute_result"
    }
   ],
   "source": [
    "nx.density(G)"
   ]
  },
  {
   "cell_type": "markdown",
   "id": "ff6b8570",
   "metadata": {},
   "source": [
    "### Betweenness Centrality"
   ]
  },
  {
   "cell_type": "code",
   "execution_count": 64,
   "id": "8ecc3580",
   "metadata": {},
   "outputs": [
    {
     "data": {
      "text/plain": [
       "{'A': 0.0, 'B': 0.0, 'C': 0.0, 'D': 0.0}"
      ]
     },
     "execution_count": 64,
     "metadata": {},
     "output_type": "execute_result"
    }
   ],
   "source": [
    "nx.betweenness_centrality(G)"
   ]
  },
  {
   "cell_type": "markdown",
   "id": "06f25512",
   "metadata": {},
   "source": [
    "### Degree Centrality"
   ]
  },
  {
   "cell_type": "code",
   "execution_count": 65,
   "id": "3e7028e1",
   "metadata": {},
   "outputs": [
    {
     "data": {
      "text/plain": [
       "{'A': 1.0, 'B': 1.0, 'C': 1.0, 'D': 1.0}"
      ]
     },
     "execution_count": 65,
     "metadata": {},
     "output_type": "execute_result"
    }
   ],
   "source": [
    "nx.degree_centrality(G)"
   ]
  },
  {
   "cell_type": "code",
   "execution_count": 66,
   "id": "7bc9b3c5",
   "metadata": {},
   "outputs": [
    {
     "data": {
      "text/plain": [
       "DegreeView({'A': 3, 'B': 3, 'C': 3, 'D': 3})"
      ]
     },
     "execution_count": 66,
     "metadata": {},
     "output_type": "execute_result"
    }
   ],
   "source": [
    "G.degree"
   ]
  },
  {
   "cell_type": "markdown",
   "id": "7af8a696",
   "metadata": {},
   "source": [
    "### Shortest Paths"
   ]
  },
  {
   "cell_type": "code",
   "execution_count": 67,
   "id": "88a299ce",
   "metadata": {},
   "outputs": [
    {
     "data": {
      "text/plain": [
       "['A', 'D']"
      ]
     },
     "execution_count": 67,
     "metadata": {},
     "output_type": "execute_result"
    }
   ],
   "source": [
    "nx.shortest_path(G, 'A', 'D')"
   ]
  },
  {
   "cell_type": "code",
   "execution_count": 68,
   "id": "166f8343",
   "metadata": {},
   "outputs": [
    {
     "data": {
      "text/plain": [
       "['B', 'D']"
      ]
     },
     "execution_count": 68,
     "metadata": {},
     "output_type": "execute_result"
    }
   ],
   "source": [
    "nx.shortest_path(G, 'B', 'D')"
   ]
  },
  {
   "cell_type": "markdown",
   "id": "31e0861b",
   "metadata": {},
   "source": [
    "## Wheel Graphs\n",
    "\n",
    "A wheel graph is identical to a cycle graph, but each of the outer nodes links to an inner node, creating what looks like a wheel.\n",
    "\n",
    "You can learn more at https://en.wikipedia.org/wiki/Wheel_graph"
   ]
  },
  {
   "cell_type": "code",
   "execution_count": 69,
   "id": "d32eea52",
   "metadata": {},
   "outputs": [
    {
     "data": {
      "image/svg+xml": [
       "<svg height=\"540\" width=\"746.0\" xmlns=\"http://www.w3.org/2000/svg\"><defs><marker id=\"arrow\" markerHeight=\"10\" markerWidth=\"10\" orient=\"auto\" refX=\"9\" refY=\"3\"><path d=\"M0,0 L0,6 L9,3 z\" fill=\"gray\"/></marker></defs><path d=\"M 20 183 60 397\" marker-end=\"url(#arrow)\" stroke=\"gray\" stroke-width=\"1\"/><path d=\"M 20 183 230 24\" marker-end=\"url(#arrow)\" stroke=\"gray\" stroke-width=\"1\"/><path d=\"M 20 183 344 269\" marker-end=\"url(#arrow)\" stroke=\"gray\" stroke-width=\"1\"/><path d=\"M 61 404 21 190\" marker-end=\"url(#arrow)\" stroke=\"gray\" stroke-width=\"1\"/><path d=\"M 61 404 318 517\" marker-end=\"url(#arrow)\" stroke=\"gray\" stroke-width=\"1\"/><path d=\"M 61 404 344 274\" marker-end=\"url(#arrow)\" stroke=\"gray\" stroke-width=\"1\"/><path d=\"M 325 520 68 407\" marker-end=\"url(#arrow)\" stroke=\"gray\" stroke-width=\"1\"/><path d=\"M 325 520 612 445\" marker-end=\"url(#arrow)\" stroke=\"gray\" stroke-width=\"1\"/><path d=\"M 325 520 351 278\" marker-end=\"url(#arrow)\" stroke=\"gray\" stroke-width=\"1\"/><path d=\"M 619 444 332 519\" marker-end=\"url(#arrow)\" stroke=\"gray\" stroke-width=\"1\"/><path d=\"M 619 444 717 237\" marker-end=\"url(#arrow)\" stroke=\"gray\" stroke-width=\"1\"/><path d=\"M 619 444 357 275\" marker-end=\"url(#arrow)\" stroke=\"gray\" stroke-width=\"1\"/><path d=\"M 720 230 622 437\" marker-end=\"url(#arrow)\" stroke=\"gray\" stroke-width=\"1\"/><path d=\"M 720 230 553 45\" marker-end=\"url(#arrow)\" stroke=\"gray\" stroke-width=\"1\"/><path d=\"M 720 230 358 271\" marker-end=\"url(#arrow)\" stroke=\"gray\" stroke-width=\"1\"/><path d=\"M 548 40 715 225\" marker-end=\"url(#arrow)\" stroke=\"gray\" stroke-width=\"1\"/><path d=\"M 548 40 243 20\" marker-end=\"url(#arrow)\" stroke=\"gray\" stroke-width=\"1\"/><path d=\"M 548 40 356 265\" marker-end=\"url(#arrow)\" stroke=\"gray\" stroke-width=\"1\"/><path d=\"M 236 20 26 179\" marker-end=\"url(#arrow)\" stroke=\"gray\" stroke-width=\"1\"/><path d=\"M 236 20 541 40\" marker-end=\"url(#arrow)\" stroke=\"gray\" stroke-width=\"1\"/><path d=\"M 236 20 348 264\" marker-end=\"url(#arrow)\" stroke=\"gray\" stroke-width=\"1\"/><path d=\"M 351 271 27 185\" marker-end=\"url(#arrow)\" stroke=\"gray\" stroke-width=\"1\"/><path d=\"M 351 271 68 401\" marker-end=\"url(#arrow)\" stroke=\"gray\" stroke-width=\"1\"/><path d=\"M 351 271 325 513\" marker-end=\"url(#arrow)\" stroke=\"gray\" stroke-width=\"1\"/><path d=\"M 351 271 613 440\" marker-end=\"url(#arrow)\" stroke=\"gray\" stroke-width=\"1\"/><path d=\"M 351 271 713 230\" marker-end=\"url(#arrow)\" stroke=\"gray\" stroke-width=\"1\"/><path d=\"M 351 271 543 46\" marker-end=\"url(#arrow)\" stroke=\"gray\" stroke-width=\"1\"/><path d=\"M 351 271 239 27\" marker-end=\"url(#arrow)\" stroke=\"gray\" stroke-width=\"1\"/><circle cx=\"20\" cy=\"183\" r=\"8.0\" style=\"fill:rgb(58, 76, 192);stroke:black;stroke-width:1.0\"/><circle cx=\"61\" cy=\"404\" r=\"8.0\" style=\"fill:rgb(58, 76, 192);stroke:black;stroke-width:1.0\"/><circle cx=\"325\" cy=\"520\" r=\"8.0\" style=\"fill:rgb(58, 76, 192);stroke:black;stroke-width:1.0\"/><circle cx=\"619\" cy=\"444\" r=\"8.0\" style=\"fill:rgb(58, 76, 192);stroke:black;stroke-width:1.0\"/><circle cx=\"720\" cy=\"230\" r=\"8.0\" style=\"fill:rgb(58, 76, 192);stroke:black;stroke-width:1.0\"/><circle cx=\"548\" cy=\"40\" r=\"8.0\" style=\"fill:rgb(58, 76, 192);stroke:black;stroke-width:1.0\"/><circle cx=\"236\" cy=\"20\" r=\"8.0\" style=\"fill:rgb(58, 76, 192);stroke:black;stroke-width:1.0\"/><circle cx=\"351\" cy=\"271\" r=\"8.0\" style=\"fill:rgb(179, 3, 38);stroke:black;stroke-width:1.0\"/><text font-size=\"12\" x=\"38\" y=\"191\">A</text><text font-size=\"12\" x=\"79\" y=\"412\">B</text><text font-size=\"12\" x=\"343\" y=\"528\">C</text><text font-size=\"12\" x=\"637\" y=\"452\">D</text><text font-size=\"12\" x=\"738\" y=\"238\">E</text><text font-size=\"12\" x=\"566\" y=\"48\">F</text><text font-size=\"12\" x=\"254\" y=\"28\">G</text><text font-size=\"12\" x=\"369\" y=\"279\">H</text></svg>"
      ],
      "text/plain": [
       "<IPython.core.display.SVG object>"
      ]
     },
     "execution_count": 69,
     "metadata": {},
     "output_type": "execute_result"
    }
   ],
   "source": [
    "edges = ['AB', 'BC', 'CD', 'DE', 'EF', 'FG', 'GA', 'AH', 'BH', 'CH', 'DH', 'EH', 'FH', 'GH']\n",
    "\n",
    "edgelist = [(e[0],e[1]) for e in edges]\n",
    "\n",
    "G = nx.from_edgelist(edgelist, create_using=nx.Graph)\n",
    "\n",
    "draw_graph(G, show_names=True, node_size=8, font_size=12, edge_width=1)"
   ]
  },
  {
   "cell_type": "markdown",
   "id": "83b053c0",
   "metadata": {},
   "source": [
    "### Density\n",
    "Take note of the difference in density between this graph and other graphs! It's not a 1.0, because all nodes are NOT connected. All nodes are connected to a single node, but all nodes are not connected with each other. This is not a dense graph, but it is also not a sparse graph."
   ]
  },
  {
   "cell_type": "code",
   "execution_count": 70,
   "id": "0badfc96",
   "metadata": {},
   "outputs": [
    {
     "data": {
      "text/plain": [
       "0.5"
      ]
     },
     "execution_count": 70,
     "metadata": {},
     "output_type": "execute_result"
    }
   ],
   "source": [
    "nx.density(G)"
   ]
  },
  {
   "cell_type": "markdown",
   "id": "c7817bc7",
   "metadata": {},
   "source": [
    "### Betweenness Centrality\n",
    "In this graph, one single node sits between every other node in the network, but other nodes also sit between other nodes. So, the one VISIBLY CENTRAL node has a 25x higher betweenness centrality score, roughly. You could say that it is 25x more important than the other nodes, by positioning alone."
   ]
  },
  {
   "cell_type": "code",
   "execution_count": 71,
   "id": "7ae1ccc9",
   "metadata": {},
   "outputs": [
    {
     "data": {
      "text/plain": [
       "{'A': 0.023809523809523808,\n",
       " 'B': 0.023809523809523808,\n",
       " 'C': 0.023809523809523808,\n",
       " 'D': 0.023809523809523808,\n",
       " 'E': 0.023809523809523808,\n",
       " 'F': 0.023809523809523808,\n",
       " 'G': 0.023809523809523808,\n",
       " 'H': 0.5}"
      ]
     },
     "execution_count": 71,
     "metadata": {},
     "output_type": "execute_result"
    }
   ],
   "source": [
    "nx.betweenness_centrality(G)"
   ]
  },
  {
   "cell_type": "markdown",
   "id": "e5704e24",
   "metadata": {},
   "source": [
    "### Degree Centrality\n",
    "Degree centrality found node H to be most important, with a value more than twice as high as other nodes. If this were a communication network, I would say that betweenness centrality paints a better picture, because the middle node allows communication between every node, where that was not the case in a cycle graph (scroll to top to see). This will affect shortest paths as well!"
   ]
  },
  {
   "cell_type": "code",
   "execution_count": 72,
   "id": "5712adab",
   "metadata": {},
   "outputs": [
    {
     "data": {
      "text/plain": [
       "{'A': 0.42857142857142855,\n",
       " 'B': 0.42857142857142855,\n",
       " 'C': 0.42857142857142855,\n",
       " 'D': 0.42857142857142855,\n",
       " 'E': 0.42857142857142855,\n",
       " 'F': 0.42857142857142855,\n",
       " 'G': 0.42857142857142855,\n",
       " 'H': 1.0}"
      ]
     },
     "execution_count": 72,
     "metadata": {},
     "output_type": "execute_result"
    }
   ],
   "source": [
    "nx.degree_centrality(G)"
   ]
  },
  {
   "cell_type": "markdown",
   "id": "2acad641",
   "metadata": {},
   "source": [
    "### Shortest Paths\n",
    "The shortest path will have to do with where nodes are positioned in the graph, but the central node allows quick communication from nodes on one side of a graph to nodes on the other side. Look at the visualization and look at noces A and E. Notice how far apart they are, and how far they'd have to go if node H had not been placed in the middle. Node H's placement is an optimization for this network, in terms of information flow."
   ]
  },
  {
   "cell_type": "code",
   "execution_count": 73,
   "id": "a4968304",
   "metadata": {},
   "outputs": [
    {
     "data": {
      "text/plain": [
       "['A', 'H', 'E']"
      ]
     },
     "execution_count": 73,
     "metadata": {},
     "output_type": "execute_result"
    }
   ],
   "source": [
    "nx.shortest_path(G, 'A', 'E')"
   ]
  },
  {
   "cell_type": "code",
   "execution_count": 74,
   "id": "4bcd5322",
   "metadata": {},
   "outputs": [
    {
     "data": {
      "text/plain": [
       "['B', 'H', 'F']"
      ]
     },
     "execution_count": 74,
     "metadata": {},
     "output_type": "execute_result"
    }
   ],
   "source": [
    "nx.shortest_path(G, 'B', 'F')"
   ]
  },
  {
   "cell_type": "code",
   "execution_count": 75,
   "id": "13a61d74",
   "metadata": {},
   "outputs": [
    {
     "data": {
      "text/plain": [
       "['A', 'B']"
      ]
     },
     "execution_count": 75,
     "metadata": {},
     "output_type": "execute_result"
    }
   ],
   "source": [
    "nx.shortest_path(G, 'A', 'B')"
   ]
  },
  {
   "cell_type": "code",
   "execution_count": 76,
   "id": "e415997a",
   "metadata": {},
   "outputs": [
    {
     "data": {
      "text/plain": [
       "['A', 'B', 'C']"
      ]
     },
     "execution_count": 76,
     "metadata": {},
     "output_type": "execute_result"
    }
   ],
   "source": [
    "nx.shortest_path(G, 'A', 'C')"
   ]
  },
  {
   "cell_type": "markdown",
   "id": "d935e023",
   "metadata": {},
   "source": [
    "# That's all for today!\n",
    "Yesterday, we used a graph to create a learning path for us to learn more about network science, and today we created and analyzed five different kinds of graphs! I hope you enjoyed this. We will do more!\n",
    "\n",
    "It might be cool, one day, to make some neat learning visualizations of different graph types!"
   ]
  }
 ],
 "metadata": {
  "kernelspec": {
   "display_name": "Python 3",
   "language": "python",
   "name": "python3"
  },
  "language_info": {
   "codemirror_mode": {
    "name": "ipython",
    "version": 3
   },
   "file_extension": ".py",
   "mimetype": "text/x-python",
   "name": "python",
   "nbconvert_exporter": "python",
   "pygments_lexer": "ipython3",
   "version": "3.7.16"
  }
 },
 "nbformat": 4,
 "nbformat_minor": 5
}
