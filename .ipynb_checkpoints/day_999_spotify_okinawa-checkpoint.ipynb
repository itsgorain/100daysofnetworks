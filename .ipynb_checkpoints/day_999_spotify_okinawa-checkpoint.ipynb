{
 "cells": [
  {
   "cell_type": "code",
   "execution_count": 1,
   "id": "7d18c815",
   "metadata": {},
   "outputs": [],
   "source": [
    "import networkx as nx\n",
    "import numpy as np\n",
    "import pandas as pd\n",
    "\n",
    "from IPython.display import SVG \n",
    "from sknetwork.visualization import svg_graph \n",
    "from sknetwork.data import Bunch \n",
    "from sknetwork.ranking import PageRank "
   ]
  },
  {
   "cell_type": "code",
   "execution_count": 2,
   "id": "0e8c36c4",
   "metadata": {},
   "outputs": [],
   "source": [
    "def draw_graph(G, show_names=False, node_size=1, font_size=10, edge_width=0.5): \n",
    "\n",
    "    adjacency = nx.to_scipy_sparse_matrix(G, nodelist=None, dtype=None, weight='weight', format='csr') \n",
    "\n",
    "    names = np.array(list(G.nodes())) \n",
    "\n",
    "    graph = Bunch() \n",
    "    graph.adjacency = adjacency \n",
    "    graph.names = np.array(names) \n",
    "\n",
    "    pagerank = PageRank() \n",
    "\n",
    "    scores = pagerank.fit_transform(adjacency) \n",
    "\n",
    "    if show_names: \n",
    "        \n",
    "        image = svg_graph(graph.adjacency, font_size=font_size, node_size=node_size, names=graph.names, width=700, height=500, scores=scores, edge_width=edge_width) \n",
    "\n",
    "    else: \n",
    "\n",
    "        image = svg_graph(graph.adjacency, node_size=node_size, width=700, height=500, scores = scores, edge_width=edge_width) \n",
    "\n",
    "    return SVG(image) "
   ]
  },
  {
   "cell_type": "code",
   "execution_count": 3,
   "id": "5e7e69f4",
   "metadata": {},
   "outputs": [
    {
     "data": {
      "text/html": [
       "<div>\n",
       "<style scoped>\n",
       "    .dataframe tbody tr th:only-of-type {\n",
       "        vertical-align: middle;\n",
       "    }\n",
       "\n",
       "    .dataframe tbody tr th {\n",
       "        vertical-align: top;\n",
       "    }\n",
       "\n",
       "    .dataframe thead th {\n",
       "        text-align: right;\n",
       "    }\n",
       "</style>\n",
       "<table border=\"1\" class=\"dataframe\">\n",
       "  <thead>\n",
       "    <tr style=\"text-align: right;\">\n",
       "      <th></th>\n",
       "      <th>source</th>\n",
       "      <th>target</th>\n",
       "    </tr>\n",
       "  </thead>\n",
       "  <tbody>\n",
       "    <tr>\n",
       "      <th>0</th>\n",
       "      <td>Namie Amuro</td>\n",
       "      <td>Jolin Tsai</td>\n",
       "    </tr>\n",
       "    <tr>\n",
       "      <th>1</th>\n",
       "      <td>Orange Range</td>\n",
       "      <td>Rockit Music</td>\n",
       "    </tr>\n",
       "    <tr>\n",
       "      <th>2</th>\n",
       "      <td>Orange Range</td>\n",
       "      <td>ORANGE RANGE</td>\n",
       "    </tr>\n",
       "    <tr>\n",
       "      <th>3</th>\n",
       "      <td>Orange Range</td>\n",
       "      <td>Benny Dayal</td>\n",
       "    </tr>\n",
       "    <tr>\n",
       "      <th>4</th>\n",
       "      <td>Southern Allstars</td>\n",
       "      <td>Louis Armstrong</td>\n",
       "    </tr>\n",
       "  </tbody>\n",
       "</table>\n",
       "</div>"
      ],
      "text/plain": [
       "              source           target\n",
       "0        Namie Amuro       Jolin Tsai\n",
       "1       Orange Range     Rockit Music\n",
       "2       Orange Range     ORANGE RANGE\n",
       "3       Orange Range      Benny Dayal\n",
       "4  Southern Allstars  Louis Armstrong"
      ]
     },
     "execution_count": 3,
     "metadata": {},
     "output_type": "execute_result"
    }
   ],
   "source": [
    "data = r'data/spotify_okinawa_edgelist.csv'\n",
    "\n",
    "df = pd.read_csv(data)\n",
    "df.head()"
   ]
  },
  {
   "cell_type": "code",
   "execution_count": 4,
   "id": "5296a3e1",
   "metadata": {},
   "outputs": [],
   "source": [
    "G = nx.from_pandas_edgelist(df)\n",
    "\n",
    "# drop the seed nodes; we will have proper names from pages found\n",
    "seed_nodes = ['network science', 'social network analysis', 'graph theory', 'causal inference']\n",
    "G.remove_nodes_from(seed_nodes)"
   ]
  },
  {
   "cell_type": "code",
   "execution_count": 5,
   "id": "e7936819",
   "metadata": {},
   "outputs": [
    {
     "name": "stdout",
     "output_type": "stream",
     "text": [
      "Graph with 226 nodes and 234 edges\n"
     ]
    }
   ],
   "source": [
    "print(nx.info(G))"
   ]
  },
  {
   "cell_type": "code",
   "execution_count": 6,
   "id": "c3b2b9ba",
   "metadata": {},
   "outputs": [
    {
     "data": {
      "image/svg+xml": [
       "<svg height=\"540\" width=\"980.0\" xmlns=\"http://www.w3.org/2000/svg\"><path d=\"M 330 245 395 250\" stroke=\"gray\" stroke-width=\"0.3\"/><path d=\"M 395 250 330 245\" stroke=\"gray\" stroke-width=\"0.3\"/><path d=\"M 358 162 356 140\" stroke=\"gray\" stroke-width=\"0.3\"/><path d=\"M 358 162 405 149\" stroke=\"gray\" stroke-width=\"0.3\"/><path d=\"M 358 162 321 209\" stroke=\"gray\" stroke-width=\"0.3\"/><path d=\"M 356 140 358 162\" stroke=\"gray\" stroke-width=\"0.3\"/><path d=\"M 356 140 405 149\" stroke=\"gray\" stroke-width=\"0.3\"/><path d=\"M 356 140 393 196\" stroke=\"gray\" stroke-width=\"0.3\"/><path d=\"M 356 140 301 75\" stroke=\"gray\" stroke-width=\"0.3\"/><path d=\"M 405 149 358 162\" stroke=\"gray\" stroke-width=\"0.3\"/><path d=\"M 405 149 356 140\" stroke=\"gray\" stroke-width=\"0.3\"/><path d=\"M 321 209 358 162\" stroke=\"gray\" stroke-width=\"0.3\"/><path d=\"M 321 209 157 196\" stroke=\"gray\" stroke-width=\"0.3\"/><path d=\"M 321 209 467 233\" stroke=\"gray\" stroke-width=\"0.3\"/><path d=\"M 321 209 384 226\" stroke=\"gray\" stroke-width=\"0.3\"/><path d=\"M 321 209 432 254\" stroke=\"gray\" stroke-width=\"0.3\"/><path d=\"M 321 209 202 189\" stroke=\"gray\" stroke-width=\"0.3\"/><path d=\"M 363 262 457 230\" stroke=\"gray\" stroke-width=\"0.3\"/><path d=\"M 363 262 410 292\" stroke=\"gray\" stroke-width=\"0.3\"/><path d=\"M 363 262 361 202\" stroke=\"gray\" stroke-width=\"0.3\"/><path d=\"M 363 262 268 347\" stroke=\"gray\" stroke-width=\"0.3\"/><path d=\"M 363 262 473 263\" stroke=\"gray\" stroke-width=\"0.3\"/><path d=\"M 363 262 329 228\" stroke=\"gray\" stroke-width=\"0.3\"/><path d=\"M 363 262 268 251\" stroke=\"gray\" stroke-width=\"0.3\"/><path d=\"M 457 230 363 262\" stroke=\"gray\" stroke-width=\"0.3\"/><path d=\"M 410 292 363 262\" stroke=\"gray\" stroke-width=\"0.3\"/><path d=\"M 410 292 539 307\" stroke=\"gray\" stroke-width=\"0.3\"/><path d=\"M 410 292 430 337\" stroke=\"gray\" stroke-width=\"0.3\"/><path d=\"M 410 292 414 350\" stroke=\"gray\" stroke-width=\"0.3\"/><path d=\"M 410 292 288 199\" stroke=\"gray\" stroke-width=\"0.3\"/><path d=\"M 410 292 478 353\" stroke=\"gray\" stroke-width=\"0.3\"/><path d=\"M 361 202 363 262\" stroke=\"gray\" stroke-width=\"0.3\"/><path d=\"M 361 202 329 228\" stroke=\"gray\" stroke-width=\"0.3\"/><path d=\"M 268 347 363 262\" stroke=\"gray\" stroke-width=\"0.3\"/><path d=\"M 268 347 175 384\" stroke=\"gray\" stroke-width=\"0.3\"/><path d=\"M 268 347 196 395\" stroke=\"gray\" stroke-width=\"0.3\"/><path d=\"M 268 347 328 384\" stroke=\"gray\" stroke-width=\"0.3\"/><path d=\"M 268 347 242 388\" stroke=\"gray\" stroke-width=\"0.3\"/><path d=\"M 268 347 279 341\" stroke=\"gray\" stroke-width=\"0.3\"/><path d=\"M 473 263 363 262\" stroke=\"gray\" stroke-width=\"0.3\"/><path d=\"M 329 228 363 262\" stroke=\"gray\" stroke-width=\"0.3\"/><path d=\"M 329 228 361 202\" stroke=\"gray\" stroke-width=\"0.3\"/><path d=\"M 329 228 319 250\" stroke=\"gray\" stroke-width=\"0.3\"/><path d=\"M 329 228 328 318\" stroke=\"gray\" stroke-width=\"0.3\"/><path d=\"M 329 228 236 187\" stroke=\"gray\" stroke-width=\"0.3\"/><path d=\"M 329 228 399 176\" stroke=\"gray\" stroke-width=\"0.3\"/><path d=\"M 268 251 363 262\" stroke=\"gray\" stroke-width=\"0.3\"/><path d=\"M 268 251 199 273\" stroke=\"gray\" stroke-width=\"0.3\"/><path d=\"M 383 212 395 275\" stroke=\"gray\" stroke-width=\"0.3\"/><path d=\"M 383 212 428 109\" stroke=\"gray\" stroke-width=\"0.3\"/><path d=\"M 383 212 308 260\" stroke=\"gray\" stroke-width=\"0.3\"/><path d=\"M 383 212 384 267\" stroke=\"gray\" stroke-width=\"0.3\"/><path d=\"M 383 212 333 269\" stroke=\"gray\" stroke-width=\"0.3\"/><path d=\"M 395 275 383 212\" stroke=\"gray\" stroke-width=\"0.3\"/><path d=\"M 395 275 485 221\" stroke=\"gray\" stroke-width=\"0.3\"/><path d=\"M 395 275 581 239\" stroke=\"gray\" stroke-width=\"0.3\"/><path d=\"M 395 275 375 274\" stroke=\"gray\" stroke-width=\"0.3\"/><path d=\"M 395 275 390 244\" stroke=\"gray\" stroke-width=\"0.3\"/><path d=\"M 395 275 276 306\" stroke=\"gray\" stroke-width=\"0.3\"/><path d=\"M 395 275 235 328\" stroke=\"gray\" stroke-width=\"0.3\"/><path d=\"M 395 275 369 349\" stroke=\"gray\" stroke-width=\"0.3\"/><path d=\"M 428 109 383 212\" stroke=\"gray\" stroke-width=\"0.3\"/><path d=\"M 428 109 452 32\" stroke=\"gray\" stroke-width=\"0.3\"/><path d=\"M 308 260 383 212\" stroke=\"gray\" stroke-width=\"0.3\"/><path d=\"M 308 260 246 232\" stroke=\"gray\" stroke-width=\"0.3\"/><path d=\"M 308 260 317 376\" stroke=\"gray\" stroke-width=\"0.3\"/><path d=\"M 308 260 349 306\" stroke=\"gray\" stroke-width=\"0.3\"/><path d=\"M 308 260 267 156\" stroke=\"gray\" stroke-width=\"0.3\"/><path d=\"M 384 267 383 212\" stroke=\"gray\" stroke-width=\"0.3\"/><path d=\"M 384 267 389 329\" stroke=\"gray\" stroke-width=\"0.3\"/><path d=\"M 384 267 563 343\" stroke=\"gray\" stroke-width=\"0.3\"/><path d=\"M 384 267 240 204\" stroke=\"gray\" stroke-width=\"0.3\"/><path d=\"M 384 267 424 354\" stroke=\"gray\" stroke-width=\"0.3\"/><path d=\"M 384 267 325 239\" stroke=\"gray\" stroke-width=\"0.3\"/><path d=\"M 384 267 290 172\" stroke=\"gray\" stroke-width=\"0.3\"/><path d=\"M 333 269 383 212\" stroke=\"gray\" stroke-width=\"0.3\"/><path d=\"M 333 269 176 295\" stroke=\"gray\" stroke-width=\"0.3\"/><path d=\"M 333 269 222 198\" stroke=\"gray\" stroke-width=\"0.3\"/><path d=\"M 333 269 345 237\" stroke=\"gray\" stroke-width=\"0.3\"/><path d=\"M 333 269 174 272\" stroke=\"gray\" stroke-width=\"0.3\"/><path d=\"M 333 269 468 362\" stroke=\"gray\" stroke-width=\"0.3\"/><path d=\"M 333 269 514 251\" stroke=\"gray\" stroke-width=\"0.3\"/><path d=\"M 246 445 239 497\" stroke=\"gray\" stroke-width=\"0.3\"/><path d=\"M 246 445 171 490\" stroke=\"gray\" stroke-width=\"0.3\"/><path d=\"M 246 445 329 408\" stroke=\"gray\" stroke-width=\"0.3\"/><path d=\"M 246 445 246 363\" stroke=\"gray\" stroke-width=\"0.3\"/><path d=\"M 246 445 207 406\" stroke=\"gray\" stroke-width=\"0.3\"/><path d=\"M 246 445 293 499\" stroke=\"gray\" stroke-width=\"0.3\"/><path d=\"M 239 497 246 445\" stroke=\"gray\" stroke-width=\"0.3\"/><path d=\"M 171 490 246 445\" stroke=\"gray\" stroke-width=\"0.3\"/><path d=\"M 329 408 246 445\" stroke=\"gray\" stroke-width=\"0.3\"/><path d=\"M 329 408 434 428\" stroke=\"gray\" stroke-width=\"0.3\"/><path d=\"M 329 408 197 433\" stroke=\"gray\" stroke-width=\"0.3\"/><path d=\"M 329 408 424 334\" stroke=\"gray\" stroke-width=\"0.3\"/><path d=\"M 246 363 246 445\" stroke=\"gray\" stroke-width=\"0.3\"/><path d=\"M 246 363 261 361\" stroke=\"gray\" stroke-width=\"0.3\"/><path d=\"M 246 363 236 378\" stroke=\"gray\" stroke-width=\"0.3\"/><path d=\"M 246 363 310 372\" stroke=\"gray\" stroke-width=\"0.3\"/><path d=\"M 246 363 141 267\" stroke=\"gray\" stroke-width=\"0.3\"/><path d=\"M 246 363 237 456\" stroke=\"gray\" stroke-width=\"0.3\"/><path d=\"M 246 363 91 333\" stroke=\"gray\" stroke-width=\"0.3\"/><path d=\"M 246 363 420 310\" stroke=\"gray\" stroke-width=\"0.3\"/><path d=\"M 246 363 353 411\" stroke=\"gray\" stroke-width=\"0.3\"/><path d=\"M 207 406 246 445\" stroke=\"gray\" stroke-width=\"0.3\"/><path d=\"M 293 499 246 445\" stroke=\"gray\" stroke-width=\"0.3\"/><path d=\"M 199 273 268 251\" stroke=\"gray\" stroke-width=\"0.3\"/><path d=\"M 157 196 321 209\" stroke=\"gray\" stroke-width=\"0.3\"/><path d=\"M 157 196 114 153\" stroke=\"gray\" stroke-width=\"0.3\"/><path d=\"M 157 196 42 228\" stroke=\"gray\" stroke-width=\"0.3\"/><path d=\"M 157 196 157 160\" stroke=\"gray\" stroke-width=\"0.3\"/><path d=\"M 467 233 321 209\" stroke=\"gray\" stroke-width=\"0.3\"/><path d=\"M 467 233 384 226\" stroke=\"gray\" stroke-width=\"0.3\"/><path d=\"M 467 233 432 254\" stroke=\"gray\" stroke-width=\"0.3\"/><path d=\"M 467 233 590 220\" stroke=\"gray\" stroke-width=\"0.3\"/><path d=\"M 467 233 486 217\" stroke=\"gray\" stroke-width=\"0.3\"/><path d=\"M 467 233 532 282\" stroke=\"gray\" stroke-width=\"0.3\"/><path d=\"M 384 226 321 209\" stroke=\"gray\" stroke-width=\"0.3\"/><path d=\"M 384 226 467 233\" stroke=\"gray\" stroke-width=\"0.3\"/><path d=\"M 384 226 339 260\" stroke=\"gray\" stroke-width=\"0.3\"/><path d=\"M 432 254 321 209\" stroke=\"gray\" stroke-width=\"0.3\"/><path d=\"M 432 254 467 233\" stroke=\"gray\" stroke-width=\"0.3\"/><path d=\"M 432 254 546 284\" stroke=\"gray\" stroke-width=\"0.3\"/><path d=\"M 432 254 354 279\" stroke=\"gray\" stroke-width=\"0.3\"/><path d=\"M 202 189 321 209\" stroke=\"gray\" stroke-width=\"0.3\"/><path d=\"M 246 232 308 260\" stroke=\"gray\" stroke-width=\"0.3\"/><path d=\"M 246 232 154 214\" stroke=\"gray\" stroke-width=\"0.3\"/><path d=\"M 246 232 327 236\" stroke=\"gray\" stroke-width=\"0.3\"/><path d=\"M 317 376 308 260\" stroke=\"gray\" stroke-width=\"0.3\"/><path d=\"M 317 376 362 348\" stroke=\"gray\" stroke-width=\"0.3\"/><path d=\"M 317 376 360 441\" stroke=\"gray\" stroke-width=\"0.3\"/><path d=\"M 317 376 252 408\" stroke=\"gray\" stroke-width=\"0.3\"/><path d=\"M 317 376 436 388\" stroke=\"gray\" stroke-width=\"0.3\"/><path d=\"M 317 376 234 397\" stroke=\"gray\" stroke-width=\"0.3\"/><path d=\"M 317 376 222 405\" stroke=\"gray\" stroke-width=\"0.3\"/><path d=\"M 317 376 322 435\" stroke=\"gray\" stroke-width=\"0.3\"/><path d=\"M 349 306 308 260\" stroke=\"gray\" stroke-width=\"0.3\"/><path d=\"M 267 156 308 260\" stroke=\"gray\" stroke-width=\"0.3\"/><path d=\"M 267 156 242 98\" stroke=\"gray\" stroke-width=\"0.3\"/><path d=\"M 267 156 230 157\" stroke=\"gray\" stroke-width=\"0.3\"/><path d=\"M 267 156 244 90\" stroke=\"gray\" stroke-width=\"0.3\"/><path d=\"M 176 295 333 269\" stroke=\"gray\" stroke-width=\"0.3\"/><path d=\"M 176 295 120 349\" stroke=\"gray\" stroke-width=\"0.3\"/><path d=\"M 176 295 116 338\" stroke=\"gray\" stroke-width=\"0.3\"/><path d=\"M 176 295 223 333\" stroke=\"gray\" stroke-width=\"0.3\"/><path d=\"M 176 295 203 240\" stroke=\"gray\" stroke-width=\"0.3\"/><path d=\"M 176 295 75 276\" stroke=\"gray\" stroke-width=\"0.3\"/><path d=\"M 176 295 88 270\" stroke=\"gray\" stroke-width=\"0.3\"/><path d=\"M 176 295 251 262\" stroke=\"gray\" stroke-width=\"0.3\"/><path d=\"M 176 295 132 339\" stroke=\"gray\" stroke-width=\"0.3\"/><path d=\"M 222 198 333 269\" stroke=\"gray\" stroke-width=\"0.3\"/><path d=\"M 222 198 125 149\" stroke=\"gray\" stroke-width=\"0.3\"/><path d=\"M 345 237 333 269\" stroke=\"gray\" stroke-width=\"0.3\"/><path d=\"M 345 237 417 192\" stroke=\"gray\" stroke-width=\"0.3\"/><path d=\"M 345 237 426 269\" stroke=\"gray\" stroke-width=\"0.3\"/><path d=\"M 345 237 411 269\" stroke=\"gray\" stroke-width=\"0.3\"/><path d=\"M 345 237 262 211\" stroke=\"gray\" stroke-width=\"0.3\"/><path d=\"M 345 237 242 210\" stroke=\"gray\" stroke-width=\"0.3\"/><path d=\"M 345 237 315 286\" stroke=\"gray\" stroke-width=\"0.3\"/><path d=\"M 174 272 333 269\" stroke=\"gray\" stroke-width=\"0.3\"/><path d=\"M 174 272 89 240\" stroke=\"gray\" stroke-width=\"0.3\"/><path d=\"M 174 272 213 254\" stroke=\"gray\" stroke-width=\"0.3\"/><path d=\"M 174 272 157 329\" stroke=\"gray\" stroke-width=\"0.3\"/><path d=\"M 174 272 196 230\" stroke=\"gray\" stroke-width=\"0.3\"/><path d=\"M 174 272 217 235\" stroke=\"gray\" stroke-width=\"0.3\"/><path d=\"M 174 272 182 318\" stroke=\"gray\" stroke-width=\"0.3\"/><path d=\"M 174 272 191 326\" stroke=\"gray\" stroke-width=\"0.3\"/><path d=\"M 174 272 78 248\" stroke=\"gray\" stroke-width=\"0.3\"/><path d=\"M 174 272 95 230\" stroke=\"gray\" stroke-width=\"0.3\"/><path d=\"M 174 272 166 318\" stroke=\"gray\" stroke-width=\"0.3\"/><path d=\"M 468 362 333 269\" stroke=\"gray\" stroke-width=\"0.3\"/><path d=\"M 468 362 416 415\" stroke=\"gray\" stroke-width=\"0.3\"/><path d=\"M 468 362 424 349\" stroke=\"gray\" stroke-width=\"0.3\"/><path d=\"M 468 362 568 410\" stroke=\"gray\" stroke-width=\"0.3\"/><path d=\"M 468 362 577 396\" stroke=\"gray\" stroke-width=\"0.3\"/><path d=\"M 514 251 333 269\" stroke=\"gray\" stroke-width=\"0.3\"/><path d=\"M 514 251 609 293\" stroke=\"gray\" stroke-width=\"0.3\"/><path d=\"M 514 251 486 244\" stroke=\"gray\" stroke-width=\"0.3\"/><path d=\"M 514 251 584 216\" stroke=\"gray\" stroke-width=\"0.3\"/><path d=\"M 514 251 568 207\" stroke=\"gray\" stroke-width=\"0.3\"/><path d=\"M 452 32 428 109\" stroke=\"gray\" stroke-width=\"0.3\"/><path d=\"M 175 384 268 347\" stroke=\"gray\" stroke-width=\"0.3\"/><path d=\"M 175 384 125 421\" stroke=\"gray\" stroke-width=\"0.3\"/><path d=\"M 175 384 141 426\" stroke=\"gray\" stroke-width=\"0.3\"/><path d=\"M 175 384 262 378\" stroke=\"gray\" stroke-width=\"0.3\"/><path d=\"M 175 384 156 320\" stroke=\"gray\" stroke-width=\"0.3\"/><path d=\"M 175 384 126 433\" stroke=\"gray\" stroke-width=\"0.3\"/><path d=\"M 196 395 268 347\" stroke=\"gray\" stroke-width=\"0.3\"/><path d=\"M 196 395 174 445\" stroke=\"gray\" stroke-width=\"0.3\"/><path d=\"M 328 384 268 347\" stroke=\"gray\" stroke-width=\"0.3\"/><path d=\"M 328 384 279 341\" stroke=\"gray\" stroke-width=\"0.3\"/><path d=\"M 328 384 384 434\" stroke=\"gray\" stroke-width=\"0.3\"/><path d=\"M 242 388 268 347\" stroke=\"gray\" stroke-width=\"0.3\"/><path d=\"M 242 388 205 422\" stroke=\"gray\" stroke-width=\"0.3\"/><path d=\"M 279 341 268 347\" stroke=\"gray\" stroke-width=\"0.3\"/><path d=\"M 279 341 328 384\" stroke=\"gray\" stroke-width=\"0.3\"/><path d=\"M 539 307 410 292\" stroke=\"gray\" stroke-width=\"0.3\"/><path d=\"M 539 307 478 353\" stroke=\"gray\" stroke-width=\"0.3\"/><path d=\"M 539 307 649 281\" stroke=\"gray\" stroke-width=\"0.3\"/><path d=\"M 430 337 410 292\" stroke=\"gray\" stroke-width=\"0.3\"/><path d=\"M 430 337 478 353\" stroke=\"gray\" stroke-width=\"0.3\"/><path d=\"M 414 350 410 292\" stroke=\"gray\" stroke-width=\"0.3\"/><path d=\"M 414 350 478 353\" stroke=\"gray\" stroke-width=\"0.3\"/><path d=\"M 288 199 410 292\" stroke=\"gray\" stroke-width=\"0.3\"/><path d=\"M 288 199 213 142\" stroke=\"gray\" stroke-width=\"0.3\"/><path d=\"M 288 199 299 172\" stroke=\"gray\" stroke-width=\"0.3\"/><path d=\"M 288 199 203 149\" stroke=\"gray\" stroke-width=\"0.3\"/><path d=\"M 478 353 410 292\" stroke=\"gray\" stroke-width=\"0.3\"/><path d=\"M 478 353 539 307\" stroke=\"gray\" stroke-width=\"0.3\"/><path d=\"M 478 353 430 337\" stroke=\"gray\" stroke-width=\"0.3\"/><path d=\"M 478 353 414 350\" stroke=\"gray\" stroke-width=\"0.3\"/><path d=\"M 478 353 506 423\" stroke=\"gray\" stroke-width=\"0.3\"/><path d=\"M 434 428 329 408\" stroke=\"gray\" stroke-width=\"0.3\"/><path d=\"M 434 428 356 440\" stroke=\"gray\" stroke-width=\"0.3\"/><path d=\"M 434 428 514 390\" stroke=\"gray\" stroke-width=\"0.3\"/><path d=\"M 434 428 431 483\" stroke=\"gray\" stroke-width=\"0.3\"/><path d=\"M 434 428 483 466\" stroke=\"gray\" stroke-width=\"0.3\"/><path d=\"M 434 428 465 379\" stroke=\"gray\" stroke-width=\"0.3\"/><path d=\"M 197 433 329 408\" stroke=\"gray\" stroke-width=\"0.3\"/><path d=\"M 197 433 97 423\" stroke=\"gray\" stroke-width=\"0.3\"/><path d=\"M 197 433 129 477\" stroke=\"gray\" stroke-width=\"0.3\"/><path d=\"M 197 433 250 402\" stroke=\"gray\" stroke-width=\"0.3\"/><path d=\"M 424 334 329 408\" stroke=\"gray\" stroke-width=\"0.3\"/><path d=\"M 424 334 439 326\" stroke=\"gray\" stroke-width=\"0.3\"/><path d=\"M 424 334 343 306\" stroke=\"gray\" stroke-width=\"0.3\"/><path d=\"M 424 334 512 296\" stroke=\"gray\" stroke-width=\"0.3\"/><path d=\"M 424 334 422 385\" stroke=\"gray\" stroke-width=\"0.3\"/><path d=\"M 424 334 527 340\" stroke=\"gray\" stroke-width=\"0.3\"/><path d=\"M 424 334 433 268\" stroke=\"gray\" stroke-width=\"0.3\"/><path d=\"M 424 334 343 355\" stroke=\"gray\" stroke-width=\"0.3\"/><path d=\"M 424 334 506 308\" stroke=\"gray\" stroke-width=\"0.3\"/><path d=\"M 393 196 356 140\" stroke=\"gray\" stroke-width=\"0.3\"/><path d=\"M 301 75 356 140\" stroke=\"gray\" stroke-width=\"0.3\"/><path d=\"M 301 75 344 93\" stroke=\"gray\" stroke-width=\"0.3\"/><path d=\"M 301 75 241 20\" stroke=\"gray\" stroke-width=\"0.3\"/><path d=\"M 319 250 329 228\" stroke=\"gray\" stroke-width=\"0.3\"/><path d=\"M 328 318 329 228\" stroke=\"gray\" stroke-width=\"0.3\"/><path d=\"M 328 318 287 288\" stroke=\"gray\" stroke-width=\"0.3\"/><path d=\"M 328 318 291 353\" stroke=\"gray\" stroke-width=\"0.3\"/><path d=\"M 328 318 286 384\" stroke=\"gray\" stroke-width=\"0.3\"/><path d=\"M 328 318 431 344\" stroke=\"gray\" stroke-width=\"0.3\"/><path d=\"M 236 187 329 228\" stroke=\"gray\" stroke-width=\"0.3\"/><path d=\"M 399 176 329 228\" stroke=\"gray\" stroke-width=\"0.3\"/><path d=\"M 261 361 246 363\" stroke=\"gray\" stroke-width=\"0.3\"/><path d=\"M 261 361 310 372\" stroke=\"gray\" stroke-width=\"0.3\"/><path d=\"M 261 361 278 344\" stroke=\"gray\" stroke-width=\"0.3\"/><path d=\"M 261 361 260 417\" stroke=\"gray\" stroke-width=\"0.3\"/><path d=\"M 261 361 245 307\" stroke=\"gray\" stroke-width=\"0.3\"/><path d=\"M 236 378 246 363\" stroke=\"gray\" stroke-width=\"0.3\"/><path d=\"M 236 378 295 393\" stroke=\"gray\" stroke-width=\"0.3\"/><path d=\"M 310 372 246 363\" stroke=\"gray\" stroke-width=\"0.3\"/><path d=\"M 310 372 261 361\" stroke=\"gray\" stroke-width=\"0.3\"/><path d=\"M 310 372 353 411\" stroke=\"gray\" stroke-width=\"0.3\"/><path d=\"M 141 267 246 363\" stroke=\"gray\" stroke-width=\"0.3\"/><path d=\"M 141 267 30 227\" stroke=\"gray\" stroke-width=\"0.3\"/><path d=\"M 141 267 149 195\" stroke=\"gray\" stroke-width=\"0.3\"/><path d=\"M 237 456 246 363\" stroke=\"gray\" stroke-width=\"0.3\"/><path d=\"M 237 456 272 520\" stroke=\"gray\" stroke-width=\"0.3\"/><path d=\"M 237 456 177 485\" stroke=\"gray\" stroke-width=\"0.3\"/><path d=\"M 91 333 246 363\" stroke=\"gray\" stroke-width=\"0.3\"/><path d=\"M 91 333 20 279\" stroke=\"gray\" stroke-width=\"0.3\"/><path d=\"M 91 333 34 348\" stroke=\"gray\" stroke-width=\"0.3\"/><path d=\"M 91 333 64 351\" stroke=\"gray\" stroke-width=\"0.3\"/><path d=\"M 91 333 33 363\" stroke=\"gray\" stroke-width=\"0.3\"/><path d=\"M 420 310 246 363\" stroke=\"gray\" stroke-width=\"0.3\"/><path d=\"M 420 310 393 284\" stroke=\"gray\" stroke-width=\"0.3\"/><path d=\"M 420 310 445 338\" stroke=\"gray\" stroke-width=\"0.3\"/><path d=\"M 420 310 441 239\" stroke=\"gray\" stroke-width=\"0.3\"/><path d=\"M 420 310 419 360\" stroke=\"gray\" stroke-width=\"0.3\"/><path d=\"M 420 310 532 319\" stroke=\"gray\" stroke-width=\"0.3\"/><path d=\"M 420 310 486 330\" stroke=\"gray\" stroke-width=\"0.3\"/><path d=\"M 420 310 420 285\" stroke=\"gray\" stroke-width=\"0.3\"/><path d=\"M 420 310 502 264\" stroke=\"gray\" stroke-width=\"0.3\"/><path d=\"M 353 411 246 363\" stroke=\"gray\" stroke-width=\"0.3\"/><path d=\"M 353 411 310 372\" stroke=\"gray\" stroke-width=\"0.3\"/><path d=\"M 353 411 431 393\" stroke=\"gray\" stroke-width=\"0.3\"/><path d=\"M 353 411 305 441\" stroke=\"gray\" stroke-width=\"0.3\"/><path d=\"M 353 411 458 407\" stroke=\"gray\" stroke-width=\"0.3\"/><path d=\"M 353 411 283 453\" stroke=\"gray\" stroke-width=\"0.3\"/><path d=\"M 353 411 436 457\" stroke=\"gray\" stroke-width=\"0.3\"/><path d=\"M 353 411 337 380\" stroke=\"gray\" stroke-width=\"0.3\"/><path d=\"M 485 221 395 275\" stroke=\"gray\" stroke-width=\"0.3\"/><path d=\"M 485 221 510 176\" stroke=\"gray\" stroke-width=\"0.3\"/><path d=\"M 581 239 395 275\" stroke=\"gray\" stroke-width=\"0.3\"/><path d=\"M 581 239 720 210\" stroke=\"gray\" stroke-width=\"0.3\"/><path d=\"M 375 274 395 275\" stroke=\"gray\" stroke-width=\"0.3\"/><path d=\"M 375 274 390 244\" stroke=\"gray\" stroke-width=\"0.3\"/><path d=\"M 375 274 276 306\" stroke=\"gray\" stroke-width=\"0.3\"/><path d=\"M 375 274 469 258\" stroke=\"gray\" stroke-width=\"0.3\"/><path d=\"M 375 274 406 245\" stroke=\"gray\" stroke-width=\"0.3\"/><path d=\"M 390 244 395 275\" stroke=\"gray\" stroke-width=\"0.3\"/><path d=\"M 390 244 375 274\" stroke=\"gray\" stroke-width=\"0.3\"/><path d=\"M 276 306 395 275\" stroke=\"gray\" stroke-width=\"0.3\"/><path d=\"M 276 306 375 274\" stroke=\"gray\" stroke-width=\"0.3\"/><path d=\"M 276 306 152 343\" stroke=\"gray\" stroke-width=\"0.3\"/><path d=\"M 235 328 395 275\" stroke=\"gray\" stroke-width=\"0.3\"/><path d=\"M 235 328 109 374\" stroke=\"gray\" stroke-width=\"0.3\"/><path d=\"M 369 349 395 275\" stroke=\"gray\" stroke-width=\"0.3\"/><path d=\"M 369 349 421 302\" stroke=\"gray\" stroke-width=\"0.3\"/><path d=\"M 369 349 449 373\" stroke=\"gray\" stroke-width=\"0.3\"/><path d=\"M 369 349 376 415\" stroke=\"gray\" stroke-width=\"0.3\"/><path d=\"M 369 349 297 386\" stroke=\"gray\" stroke-width=\"0.3\"/><path d=\"M 369 349 313 301\" stroke=\"gray\" stroke-width=\"0.3\"/><path d=\"M 369 349 276 389\" stroke=\"gray\" stroke-width=\"0.3\"/><path d=\"M 369 349 295 306\" stroke=\"gray\" stroke-width=\"0.3\"/><path d=\"M 369 349 466 330\" stroke=\"gray\" stroke-width=\"0.3\"/><path d=\"M 369 349 413 405\" stroke=\"gray\" stroke-width=\"0.3\"/><path d=\"M 389 329 384 267\" stroke=\"gray\" stroke-width=\"0.3\"/><path d=\"M 563 343 384 267\" stroke=\"gray\" stroke-width=\"0.3\"/><path d=\"M 563 343 684 358\" stroke=\"gray\" stroke-width=\"0.3\"/><path d=\"M 563 343 614 386\" stroke=\"gray\" stroke-width=\"0.3\"/><path d=\"M 563 343 637 400\" stroke=\"gray\" stroke-width=\"0.3\"/><path d=\"M 563 343 566 333\" stroke=\"gray\" stroke-width=\"0.3\"/><path d=\"M 240 204 384 267\" stroke=\"gray\" stroke-width=\"0.3\"/><path d=\"M 240 204 138 195\" stroke=\"gray\" stroke-width=\"0.3\"/><path d=\"M 240 204 127 196\" stroke=\"gray\" stroke-width=\"0.3\"/><path d=\"M 240 204 254 145\" stroke=\"gray\" stroke-width=\"0.3\"/><path d=\"M 424 354 384 267\" stroke=\"gray\" stroke-width=\"0.3\"/><path d=\"M 424 354 441 428\" stroke=\"gray\" stroke-width=\"0.3\"/><path d=\"M 424 354 439 326\" stroke=\"gray\" stroke-width=\"0.3\"/><path d=\"M 325 239 384 267\" stroke=\"gray\" stroke-width=\"0.3\"/><path d=\"M 325 239 292 260\" stroke=\"gray\" stroke-width=\"0.3\"/><path d=\"M 290 172 384 267\" stroke=\"gray\" stroke-width=\"0.3\"/><path d=\"M 290 172 319 125\" stroke=\"gray\" stroke-width=\"0.3\"/><path d=\"M 290 172 174 155\" stroke=\"gray\" stroke-width=\"0.3\"/><path d=\"M 290 172 274 108\" stroke=\"gray\" stroke-width=\"0.3\"/><path d=\"M 292 260 325 239\" stroke=\"gray\" stroke-width=\"0.3\"/><path d=\"M 421 302 369 349\" stroke=\"gray\" stroke-width=\"0.3\"/><path d=\"M 449 373 369 349\" stroke=\"gray\" stroke-width=\"0.3\"/><path d=\"M 376 415 369 349\" stroke=\"gray\" stroke-width=\"0.3\"/><path d=\"M 297 386 369 349\" stroke=\"gray\" stroke-width=\"0.3\"/><path d=\"M 313 301 369 349\" stroke=\"gray\" stroke-width=\"0.3\"/><path d=\"M 276 389 369 349\" stroke=\"gray\" stroke-width=\"0.3\"/><path d=\"M 295 306 369 349\" stroke=\"gray\" stroke-width=\"0.3\"/><path d=\"M 466 330 369 349\" stroke=\"gray\" stroke-width=\"0.3\"/><path d=\"M 413 405 369 349\" stroke=\"gray\" stroke-width=\"0.3\"/><path d=\"M 590 220 467 233\" stroke=\"gray\" stroke-width=\"0.3\"/><path d=\"M 486 217 467 233\" stroke=\"gray\" stroke-width=\"0.3\"/><path d=\"M 532 282 467 233\" stroke=\"gray\" stroke-width=\"0.3\"/><path d=\"M 339 260 384 226\" stroke=\"gray\" stroke-width=\"0.3\"/><path d=\"M 546 284 432 254\" stroke=\"gray\" stroke-width=\"0.3\"/><path d=\"M 354 279 432 254\" stroke=\"gray\" stroke-width=\"0.3\"/><path d=\"M 384 434 328 384\" stroke=\"gray\" stroke-width=\"0.3\"/><path d=\"M 272 520 237 456\" stroke=\"gray\" stroke-width=\"0.3\"/><path d=\"M 177 485 237 456\" stroke=\"gray\" stroke-width=\"0.3\"/><path d=\"M 416 415 468 362\" stroke=\"gray\" stroke-width=\"0.3\"/><path d=\"M 424 349 468 362\" stroke=\"gray\" stroke-width=\"0.3\"/><path d=\"M 568 410 468 362\" stroke=\"gray\" stroke-width=\"0.3\"/><path d=\"M 577 396 468 362\" stroke=\"gray\" stroke-width=\"0.3\"/><path d=\"M 510 176 485 221\" stroke=\"gray\" stroke-width=\"0.3\"/><path d=\"M 125 149 222 198\" stroke=\"gray\" stroke-width=\"0.3\"/><path d=\"M 120 349 176 295\" stroke=\"gray\" stroke-width=\"0.3\"/><path d=\"M 116 338 176 295\" stroke=\"gray\" stroke-width=\"0.3\"/><path d=\"M 223 333 176 295\" stroke=\"gray\" stroke-width=\"0.3\"/><path d=\"M 203 240 176 295\" stroke=\"gray\" stroke-width=\"0.3\"/><path d=\"M 75 276 176 295\" stroke=\"gray\" stroke-width=\"0.3\"/><path d=\"M 88 270 176 295\" stroke=\"gray\" stroke-width=\"0.3\"/><path d=\"M 251 262 176 295\" stroke=\"gray\" stroke-width=\"0.3\"/><path d=\"M 132 339 176 295\" stroke=\"gray\" stroke-width=\"0.3\"/><path d=\"M 242 98 267 156\" stroke=\"gray\" stroke-width=\"0.3\"/><path d=\"M 230 157 267 156\" stroke=\"gray\" stroke-width=\"0.3\"/><path d=\"M 244 90 267 156\" stroke=\"gray\" stroke-width=\"0.3\"/><path d=\"M 154 214 246 232\" stroke=\"gray\" stroke-width=\"0.3\"/><path d=\"M 327 236 246 232\" stroke=\"gray\" stroke-width=\"0.3\"/><path d=\"M 109 374 235 328\" stroke=\"gray\" stroke-width=\"0.3\"/><path d=\"M 97 423 197 433\" stroke=\"gray\" stroke-width=\"0.3\"/><path d=\"M 129 477 197 433\" stroke=\"gray\" stroke-width=\"0.3\"/><path d=\"M 250 402 197 433\" stroke=\"gray\" stroke-width=\"0.3\"/><path d=\"M 362 348 317 376\" stroke=\"gray\" stroke-width=\"0.3\"/><path d=\"M 360 441 317 376\" stroke=\"gray\" stroke-width=\"0.3\"/><path d=\"M 252 408 317 376\" stroke=\"gray\" stroke-width=\"0.3\"/><path d=\"M 436 388 317 376\" stroke=\"gray\" stroke-width=\"0.3\"/><path d=\"M 234 397 317 376\" stroke=\"gray\" stroke-width=\"0.3\"/><path d=\"M 222 405 317 376\" stroke=\"gray\" stroke-width=\"0.3\"/><path d=\"M 322 435 317 376\" stroke=\"gray\" stroke-width=\"0.3\"/><path d=\"M 441 428 424 354\" stroke=\"gray\" stroke-width=\"0.3\"/><path d=\"M 439 326 424 334\" stroke=\"gray\" stroke-width=\"0.3\"/><path d=\"M 439 326 424 354\" stroke=\"gray\" stroke-width=\"0.3\"/><path d=\"M 649 281 539 307\" stroke=\"gray\" stroke-width=\"0.3\"/><path d=\"M 138 195 240 204\" stroke=\"gray\" stroke-width=\"0.3\"/><path d=\"M 127 196 240 204\" stroke=\"gray\" stroke-width=\"0.3\"/><path d=\"M 254 145 240 204\" stroke=\"gray\" stroke-width=\"0.3\"/><path d=\"M 125 421 175 384\" stroke=\"gray\" stroke-width=\"0.3\"/><path d=\"M 141 426 175 384\" stroke=\"gray\" stroke-width=\"0.3\"/><path d=\"M 262 378 175 384\" stroke=\"gray\" stroke-width=\"0.3\"/><path d=\"M 156 320 175 384\" stroke=\"gray\" stroke-width=\"0.3\"/><path d=\"M 126 433 175 384\" stroke=\"gray\" stroke-width=\"0.3\"/><path d=\"M 174 445 196 395\" stroke=\"gray\" stroke-width=\"0.3\"/><path d=\"M 213 142 288 199\" stroke=\"gray\" stroke-width=\"0.3\"/><path d=\"M 299 172 288 199\" stroke=\"gray\" stroke-width=\"0.3\"/><path d=\"M 203 149 288 199\" stroke=\"gray\" stroke-width=\"0.3\"/><path d=\"M 609 293 514 251\" stroke=\"gray\" stroke-width=\"0.3\"/><path d=\"M 486 244 514 251\" stroke=\"gray\" stroke-width=\"0.3\"/><path d=\"M 584 216 514 251\" stroke=\"gray\" stroke-width=\"0.3\"/><path d=\"M 568 207 514 251\" stroke=\"gray\" stroke-width=\"0.3\"/><path d=\"M 343 306 424 334\" stroke=\"gray\" stroke-width=\"0.3\"/><path d=\"M 512 296 424 334\" stroke=\"gray\" stroke-width=\"0.3\"/><path d=\"M 422 385 424 334\" stroke=\"gray\" stroke-width=\"0.3\"/><path d=\"M 527 340 424 334\" stroke=\"gray\" stroke-width=\"0.3\"/><path d=\"M 433 268 424 334\" stroke=\"gray\" stroke-width=\"0.3\"/><path d=\"M 343 355 424 334\" stroke=\"gray\" stroke-width=\"0.3\"/><path d=\"M 506 308 424 334\" stroke=\"gray\" stroke-width=\"0.3\"/><path d=\"M 205 422 242 388\" stroke=\"gray\" stroke-width=\"0.3\"/><path d=\"M 89 240 174 272\" stroke=\"gray\" stroke-width=\"0.3\"/><path d=\"M 213 254 174 272\" stroke=\"gray\" stroke-width=\"0.3\"/><path d=\"M 157 329 174 272\" stroke=\"gray\" stroke-width=\"0.3\"/><path d=\"M 196 230 174 272\" stroke=\"gray\" stroke-width=\"0.3\"/><path d=\"M 217 235 174 272\" stroke=\"gray\" stroke-width=\"0.3\"/><path d=\"M 182 318 174 272\" stroke=\"gray\" stroke-width=\"0.3\"/><path d=\"M 191 326 174 272\" stroke=\"gray\" stroke-width=\"0.3\"/><path d=\"M 78 248 174 272\" stroke=\"gray\" stroke-width=\"0.3\"/><path d=\"M 95 230 174 272\" stroke=\"gray\" stroke-width=\"0.3\"/><path d=\"M 166 318 174 272\" stroke=\"gray\" stroke-width=\"0.3\"/><path d=\"M 114 153 157 196\" stroke=\"gray\" stroke-width=\"0.3\"/><path d=\"M 42 228 157 196\" stroke=\"gray\" stroke-width=\"0.3\"/><path d=\"M 157 160 157 196\" stroke=\"gray\" stroke-width=\"0.3\"/><path d=\"M 431 393 353 411\" stroke=\"gray\" stroke-width=\"0.3\"/><path d=\"M 305 441 353 411\" stroke=\"gray\" stroke-width=\"0.3\"/><path d=\"M 458 407 353 411\" stroke=\"gray\" stroke-width=\"0.3\"/><path d=\"M 283 453 353 411\" stroke=\"gray\" stroke-width=\"0.3\"/><path d=\"M 436 457 353 411\" stroke=\"gray\" stroke-width=\"0.3\"/><path d=\"M 337 380 353 411\" stroke=\"gray\" stroke-width=\"0.3\"/><path d=\"M 393 284 420 310\" stroke=\"gray\" stroke-width=\"0.3\"/><path d=\"M 445 338 420 310\" stroke=\"gray\" stroke-width=\"0.3\"/><path d=\"M 441 239 420 310\" stroke=\"gray\" stroke-width=\"0.3\"/><path d=\"M 419 360 420 310\" stroke=\"gray\" stroke-width=\"0.3\"/><path d=\"M 532 319 420 310\" stroke=\"gray\" stroke-width=\"0.3\"/><path d=\"M 486 330 420 310\" stroke=\"gray\" stroke-width=\"0.3\"/><path d=\"M 420 285 420 310\" stroke=\"gray\" stroke-width=\"0.3\"/><path d=\"M 502 264 420 310\" stroke=\"gray\" stroke-width=\"0.3\"/><path d=\"M 30 227 141 267\" stroke=\"gray\" stroke-width=\"0.3\"/><path d=\"M 149 195 141 267\" stroke=\"gray\" stroke-width=\"0.3\"/><path d=\"M 278 344 261 361\" stroke=\"gray\" stroke-width=\"0.3\"/><path d=\"M 260 417 261 361\" stroke=\"gray\" stroke-width=\"0.3\"/><path d=\"M 245 307 261 361\" stroke=\"gray\" stroke-width=\"0.3\"/><path d=\"M 417 192 345 237\" stroke=\"gray\" stroke-width=\"0.3\"/><path d=\"M 426 269 345 237\" stroke=\"gray\" stroke-width=\"0.3\"/><path d=\"M 411 269 345 237\" stroke=\"gray\" stroke-width=\"0.3\"/><path d=\"M 262 211 345 237\" stroke=\"gray\" stroke-width=\"0.3\"/><path d=\"M 242 210 345 237\" stroke=\"gray\" stroke-width=\"0.3\"/><path d=\"M 315 286 345 237\" stroke=\"gray\" stroke-width=\"0.3\"/><path d=\"M 287 288 328 318\" stroke=\"gray\" stroke-width=\"0.3\"/><path d=\"M 291 353 328 318\" stroke=\"gray\" stroke-width=\"0.3\"/><path d=\"M 286 384 328 318\" stroke=\"gray\" stroke-width=\"0.3\"/><path d=\"M 431 344 328 318\" stroke=\"gray\" stroke-width=\"0.3\"/><path d=\"M 720 210 581 239\" stroke=\"gray\" stroke-width=\"0.3\"/><path d=\"M 344 93 301 75\" stroke=\"gray\" stroke-width=\"0.3\"/><path d=\"M 241 20 301 75\" stroke=\"gray\" stroke-width=\"0.3\"/><path d=\"M 319 125 290 172\" stroke=\"gray\" stroke-width=\"0.3\"/><path d=\"M 174 155 290 172\" stroke=\"gray\" stroke-width=\"0.3\"/><path d=\"M 274 108 290 172\" stroke=\"gray\" stroke-width=\"0.3\"/><path d=\"M 684 358 563 343\" stroke=\"gray\" stroke-width=\"0.3\"/><path d=\"M 614 386 563 343\" stroke=\"gray\" stroke-width=\"0.3\"/><path d=\"M 637 400 563 343\" stroke=\"gray\" stroke-width=\"0.3\"/><path d=\"M 566 333 563 343\" stroke=\"gray\" stroke-width=\"0.3\"/><path d=\"M 152 343 276 306\" stroke=\"gray\" stroke-width=\"0.3\"/><path d=\"M 506 423 478 353\" stroke=\"gray\" stroke-width=\"0.3\"/><path d=\"M 20 279 91 333\" stroke=\"gray\" stroke-width=\"0.3\"/><path d=\"M 34 348 91 333\" stroke=\"gray\" stroke-width=\"0.3\"/><path d=\"M 64 351 91 333\" stroke=\"gray\" stroke-width=\"0.3\"/><path d=\"M 33 363 91 333\" stroke=\"gray\" stroke-width=\"0.3\"/><path d=\"M 356 440 434 428\" stroke=\"gray\" stroke-width=\"0.3\"/><path d=\"M 514 390 434 428\" stroke=\"gray\" stroke-width=\"0.3\"/><path d=\"M 431 483 434 428\" stroke=\"gray\" stroke-width=\"0.3\"/><path d=\"M 483 466 434 428\" stroke=\"gray\" stroke-width=\"0.3\"/><path d=\"M 465 379 434 428\" stroke=\"gray\" stroke-width=\"0.3\"/><path d=\"M 469 258 375 274\" stroke=\"gray\" stroke-width=\"0.3\"/><path d=\"M 406 245 375 274\" stroke=\"gray\" stroke-width=\"0.3\"/><path d=\"M 295 393 236 378\" stroke=\"gray\" stroke-width=\"0.3\"/><circle cx=\"330\" cy=\"245\" r=\"3.0\" style=\"fill:rgb(99, 131, 234);stroke:black;stroke-width:1.0\"/><circle cx=\"395\" cy=\"250\" r=\"3.0\" style=\"fill:rgb(99, 131, 234);stroke:black;stroke-width:1.0\"/><circle cx=\"358\" cy=\"162\" r=\"3.0\" style=\"fill:rgb(116, 151, 245);stroke:black;stroke-width:1.0\"/><circle cx=\"356\" cy=\"140\" r=\"3.0\" style=\"fill:rgb(163, 193, 254);stroke:black;stroke-width:1.0\"/><circle cx=\"405\" cy=\"149\" r=\"3.0\" style=\"fill:rgb(86, 115, 224);stroke:black;stroke-width:1.0\"/><circle cx=\"321\" cy=\"209\" r=\"3.0\" style=\"fill:rgb(219, 220, 222);stroke:black;stroke-width:1.0\"/><circle cx=\"363\" cy=\"262\" r=\"3.0\" style=\"fill:rgb(234, 211, 199);stroke:black;stroke-width:1.0\"/><circle cx=\"457\" cy=\"230\" r=\"3.0\" style=\"fill:rgb(58, 76, 192);stroke:black;stroke-width:1.0\"/><circle cx=\"410\" cy=\"292\" r=\"3.0\" style=\"fill:rgb(202, 216, 238);stroke:black;stroke-width:1.0\"/><circle cx=\"361\" cy=\"202\" r=\"3.0\" style=\"fill:rgb(86, 115, 224);stroke:black;stroke-width:1.0\"/><circle cx=\"268\" cy=\"347\" r=\"3.0\" style=\"fill:rgb(224, 218, 215);stroke:black;stroke-width:1.0\"/><circle cx=\"473\" cy=\"263\" r=\"3.0\" style=\"fill:rgb(58, 76, 192);stroke:black;stroke-width:1.0\"/><circle cx=\"329\" cy=\"228\" r=\"3.0\" style=\"fill:rgb(230, 215, 207);stroke:black;stroke-width:1.0\"/><circle cx=\"268\" cy=\"251\" r=\"3.0\" style=\"fill:rgb(96, 128, 232);stroke:black;stroke-width:1.0\"/><circle cx=\"383\" cy=\"212\" r=\"3.0\" style=\"fill:rgb(170, 198, 253);stroke:black;stroke-width:1.0\"/><circle cx=\"395\" cy=\"275\" r=\"3.0\" style=\"fill:rgb(246, 169, 138);stroke:black;stroke-width:1.0\"/><circle cx=\"428\" cy=\"109\" r=\"3.0\" style=\"fill:rgb(99, 131, 234);stroke:black;stroke-width:1.0\"/><circle cx=\"308\" cy=\"260\" r=\"3.0\" style=\"fill:rgb(214, 219, 228);stroke:black;stroke-width:1.0\"/><circle cx=\"384\" cy=\"267\" r=\"3.0\" style=\"fill:rgb(247, 177, 148);stroke:black;stroke-width:1.0\"/><circle cx=\"333\" cy=\"269\" r=\"3.0\" style=\"fill:rgb(246, 169, 138);stroke:black;stroke-width:1.0\"/><circle cx=\"246\" cy=\"445\" r=\"3.0\" style=\"fill:rgb(214, 219, 228);stroke:black;stroke-width:1.0\"/><circle cx=\"239\" cy=\"497\" r=\"3.0\" style=\"fill:rgb(64, 84, 199);stroke:black;stroke-width:1.0\"/><circle cx=\"171\" cy=\"490\" r=\"3.0\" style=\"fill:rgb(64, 84, 199);stroke:black;stroke-width:1.0\"/><circle cx=\"329\" cy=\"408\" r=\"3.0\" style=\"fill:rgb(183, 207, 249);stroke:black;stroke-width:1.0\"/><circle cx=\"246\" cy=\"363\" r=\"3.0\" style=\"fill:rgb(222, 98, 78);stroke:black;stroke-width:1.0\"/><circle cx=\"207\" cy=\"406\" r=\"3.0\" style=\"fill:rgb(64, 84, 199);stroke:black;stroke-width:1.0\"/><circle cx=\"293\" cy=\"499\" r=\"3.0\" style=\"fill:rgb(64, 84, 199);stroke:black;stroke-width:1.0\"/><circle cx=\"199\" cy=\"273\" r=\"3.0\" style=\"fill:rgb(64, 84, 199);stroke:black;stroke-width:1.0\"/><circle cx=\"157\" cy=\"196\" r=\"3.0\" style=\"fill:rgb(170, 198, 253);stroke:black;stroke-width:1.0\"/><circle cx=\"467\" cy=\"233\" r=\"3.0\" style=\"fill:rgb(222, 219, 218);stroke:black;stroke-width:1.0\"/><circle cx=\"384\" cy=\"226\" r=\"3.0\" style=\"fill:rgb(123, 158, 248);stroke:black;stroke-width:1.0\"/><circle cx=\"432\" cy=\"254\" r=\"3.0\" style=\"fill:rgb(159, 190, 254);stroke:black;stroke-width:1.0\"/><circle cx=\"202\" cy=\"189\" r=\"3.0\" style=\"fill:rgb(58, 76, 192);stroke:black;stroke-width:1.0\"/><circle cx=\"246\" cy=\"232\" r=\"3.0\" style=\"fill:rgb(130, 165, 251);stroke:black;stroke-width:1.0\"/><circle cx=\"317\" cy=\"376\" r=\"3.0\" style=\"fill:rgb(245, 158, 127);stroke:black;stroke-width:1.0\"/><circle cx=\"349\" cy=\"306\" r=\"3.0\" style=\"fill:rgb(58, 76, 192);stroke:black;stroke-width:1.0\"/><circle cx=\"267\" cy=\"156\" r=\"3.0\" style=\"fill:rgb(170, 198, 253);stroke:black;stroke-width:1.0\"/><circle cx=\"176\" cy=\"295\" r=\"3.0\" style=\"fill:rgb(236, 128, 100);stroke:black;stroke-width:1.0\"/><circle cx=\"222\" cy=\"198\" r=\"3.0\" style=\"fill:rgb(88, 118, 226);stroke:black;stroke-width:1.0\"/><circle cx=\"345\" cy=\"237\" r=\"3.0\" style=\"fill:rgb(243, 198, 176);stroke:black;stroke-width:1.0\"/><circle cx=\"174\" cy=\"272\" r=\"3.0\" style=\"fill:rgb(179, 3, 38);stroke:black;stroke-width:1.0\"/><circle cx=\"468\" cy=\"362\" r=\"3.0\" style=\"fill:rgb(197, 213, 242);stroke:black;stroke-width:1.0\"/><circle cx=\"514\" cy=\"251\" r=\"3.0\" style=\"fill:rgb(197, 213, 242);stroke:black;stroke-width:1.0\"/><circle cx=\"452\" cy=\"32\" r=\"3.0\" style=\"fill:rgb(60, 79, 195);stroke:black;stroke-width:1.0\"/><circle cx=\"175\" cy=\"384\" r=\"3.0\" style=\"fill:rgb(231, 214, 204);stroke:black;stroke-width:1.0\"/><circle cx=\"196\" cy=\"395\" r=\"3.0\" style=\"fill:rgb(96, 128, 232);stroke:black;stroke-width:1.0\"/><circle cx=\"328\" cy=\"384\" r=\"3.0\" style=\"fill:rgb(123, 158, 248);stroke:black;stroke-width:1.0\"/><circle cx=\"242\" cy=\"388\" r=\"3.0\" style=\"fill:rgb(96, 128, 232);stroke:black;stroke-width:1.0\"/><circle cx=\"279\" cy=\"341\" r=\"3.0\" style=\"fill:rgb(86, 115, 224);stroke:black;stroke-width:1.0\"/><circle cx=\"539\" cy=\"307\" r=\"3.0\" style=\"fill:rgb(112, 147, 243);stroke:black;stroke-width:1.0\"/><circle cx=\"430\" cy=\"337\" r=\"3.0\" style=\"fill:rgb(80, 107, 218);stroke:black;stroke-width:1.0\"/><circle cx=\"414\" cy=\"350\" r=\"3.0\" style=\"fill:rgb(80, 107, 218);stroke:black;stroke-width:1.0\"/><circle cx=\"288\" cy=\"199\" r=\"3.0\" style=\"fill:rgb(166, 195, 253);stroke:black;stroke-width:1.0\"/><circle cx=\"478\" cy=\"353\" r=\"3.0\" style=\"fill:rgb(172, 200, 252);stroke:black;stroke-width:1.0\"/><circle cx=\"434\" cy=\"428\" r=\"3.0\" style=\"fill:rgb(224, 218, 215);stroke:black;stroke-width:1.0\"/><circle cx=\"197\" cy=\"433\" r=\"3.0\" style=\"fill:rgb(166, 195, 253);stroke:black;stroke-width:1.0\"/><circle cx=\"424\" cy=\"334\" r=\"3.0\" style=\"fill:rgb(239, 137, 108);stroke:black;stroke-width:1.0\"/><circle cx=\"393\" cy=\"196\" r=\"3.0\" style=\"fill:rgb(60, 79, 195);stroke:black;stroke-width:1.0\"/><circle cx=\"301\" cy=\"75\" r=\"3.0\" style=\"fill:rgb(138, 173, 253);stroke:black;stroke-width:1.0\"/><circle cx=\"319\" cy=\"250\" r=\"3.0\" style=\"fill:rgb(60, 79, 195);stroke:black;stroke-width:1.0\"/><circle cx=\"328\" cy=\"318\" r=\"3.0\" style=\"fill:rgb(210, 218, 231);stroke:black;stroke-width:1.0\"/><circle cx=\"236\" cy=\"187\" r=\"3.0\" style=\"fill:rgb(60, 79, 195);stroke:black;stroke-width:1.0\"/><circle cx=\"399\" cy=\"176\" r=\"3.0\" style=\"fill:rgb(60, 79, 195);stroke:black;stroke-width:1.0\"/><circle cx=\"261\" cy=\"361\" r=\"3.0\" style=\"fill:rgb(187, 209, 247);stroke:black;stroke-width:1.0\"/><circle cx=\"236\" cy=\"378\" r=\"3.0\" style=\"fill:rgb(88, 118, 226);stroke:black;stroke-width:1.0\"/><circle cx=\"310\" cy=\"372\" r=\"3.0\" style=\"fill:rgb(120, 155, 247);stroke:black;stroke-width:1.0\"/><circle cx=\"141\" cy=\"267\" r=\"3.0\" style=\"fill:rgb(127, 162, 250);stroke:black;stroke-width:1.0\"/><circle cx=\"237\" cy=\"456\" r=\"3.0\" style=\"fill:rgb(127, 162, 250);stroke:black;stroke-width:1.0\"/><circle cx=\"91\" cy=\"333\" r=\"3.0\" style=\"fill:rgb(199, 214, 240);stroke:black;stroke-width:1.0\"/><circle cx=\"420\" cy=\"310\" r=\"3.0\" style=\"fill:rgb(234, 123, 96);stroke:black;stroke-width:1.0\"/><circle cx=\"353\" cy=\"411\" r=\"3.0\" style=\"fill:rgb(247, 177, 148);stroke:black;stroke-width:1.0\"/><circle cx=\"485\" cy=\"221\" r=\"3.0\" style=\"fill:rgb(92, 123, 229);stroke:black;stroke-width:1.0\"/><circle cx=\"581\" cy=\"239\" r=\"3.0\" style=\"fill:rgb(92, 123, 229);stroke:black;stroke-width:1.0\"/><circle cx=\"375\" cy=\"274\" r=\"3.0\" style=\"fill:rgb(187, 209, 247);stroke:black;stroke-width:1.0\"/><circle cx=\"390\" cy=\"244\" r=\"3.0\" style=\"fill:rgb(82, 110, 220);stroke:black;stroke-width:1.0\"/><circle cx=\"276\" cy=\"306\" r=\"3.0\" style=\"fill:rgb(120, 155, 247);stroke:black;stroke-width:1.0\"/><circle cx=\"235\" cy=\"328\" r=\"3.0\" style=\"fill:rgb(92, 123, 229);stroke:black;stroke-width:1.0\"/><circle cx=\"369\" cy=\"349\" r=\"3.0\" style=\"fill:rgb(207, 70, 61);stroke:black;stroke-width:1.0\"/><circle cx=\"389\" cy=\"329\" r=\"3.0\" style=\"fill:rgb(58, 76, 192);stroke:black;stroke-width:1.0\"/><circle cx=\"563\" cy=\"343\" r=\"3.0\" style=\"fill:rgb(202, 216, 238);stroke:black;stroke-width:1.0\"/><circle cx=\"240\" cy=\"204\" r=\"3.0\" style=\"fill:rgb(170, 198, 253);stroke:black;stroke-width:1.0\"/><circle cx=\"424\" cy=\"354\" r=\"3.0\" style=\"fill:rgb(120, 155, 247);stroke:black;stroke-width:1.0\"/><circle cx=\"325\" cy=\"239\" r=\"3.0\" style=\"fill:rgb(92, 123, 229);stroke:black;stroke-width:1.0\"/><circle cx=\"290\" cy=\"172\" r=\"3.0\" style=\"fill:rgb(170, 198, 253);stroke:black;stroke-width:1.0\"/><circle cx=\"292\" cy=\"260\" r=\"3.0\" style=\"fill:rgb(66, 88, 202);stroke:black;stroke-width:1.0\"/><circle cx=\"421\" cy=\"302\" r=\"3.0\" style=\"fill:rgb(66, 88, 202);stroke:black;stroke-width:1.0\"/><circle cx=\"449\" cy=\"373\" r=\"3.0\" style=\"fill:rgb(66, 88, 202);stroke:black;stroke-width:1.0\"/><circle cx=\"376\" cy=\"415\" r=\"3.0\" style=\"fill:rgb(66, 88, 202);stroke:black;stroke-width:1.0\"/><circle cx=\"297\" cy=\"386\" r=\"3.0\" style=\"fill:rgb(66, 88, 202);stroke:black;stroke-width:1.0\"/><circle cx=\"313\" cy=\"301\" r=\"3.0\" style=\"fill:rgb(66, 88, 202);stroke:black;stroke-width:1.0\"/><circle cx=\"276\" cy=\"389\" r=\"3.0\" style=\"fill:rgb(66, 88, 202);stroke:black;stroke-width:1.0\"/><circle cx=\"295\" cy=\"306\" r=\"3.0\" style=\"fill:rgb(66, 88, 202);stroke:black;stroke-width:1.0\"/><circle cx=\"466\" cy=\"330\" r=\"3.0\" style=\"fill:rgb(66, 88, 202);stroke:black;stroke-width:1.0\"/><circle cx=\"413\" cy=\"405\" r=\"3.0\" style=\"fill:rgb(66, 88, 202);stroke:black;stroke-width:1.0\"/><circle cx=\"590\" cy=\"220\" r=\"3.0\" style=\"fill:rgb(60, 79, 195);stroke:black;stroke-width:1.0\"/><circle cx=\"486\" cy=\"217\" r=\"3.0\" style=\"fill:rgb(60, 79, 195);stroke:black;stroke-width:1.0\"/><circle cx=\"532\" cy=\"282\" r=\"3.0\" style=\"fill:rgb(60, 79, 195);stroke:black;stroke-width:1.0\"/><circle cx=\"339\" cy=\"260\" r=\"3.0\" style=\"fill:rgb(60, 79, 195);stroke:black;stroke-width:1.0\"/><circle cx=\"546\" cy=\"284\" r=\"3.0\" style=\"fill:rgb(60, 79, 195);stroke:black;stroke-width:1.0\"/><circle cx=\"354\" cy=\"279\" r=\"3.0\" style=\"fill:rgb(60, 79, 195);stroke:black;stroke-width:1.0\"/><circle cx=\"384\" cy=\"434\" r=\"3.0\" style=\"fill:rgb(60, 79, 195);stroke:black;stroke-width:1.0\"/><circle cx=\"272\" cy=\"520\" r=\"3.0\" style=\"fill:rgb(66, 88, 202);stroke:black;stroke-width:1.0\"/><circle cx=\"177\" cy=\"485\" r=\"3.0\" style=\"fill:rgb(66, 88, 202);stroke:black;stroke-width:1.0\"/><circle cx=\"416\" cy=\"415\" r=\"3.0\" style=\"fill:rgb(66, 88, 202);stroke:black;stroke-width:1.0\"/><circle cx=\"424\" cy=\"349\" r=\"3.0\" style=\"fill:rgb(66, 88, 202);stroke:black;stroke-width:1.0\"/><circle cx=\"568\" cy=\"410\" r=\"3.0\" style=\"fill:rgb(66, 88, 202);stroke:black;stroke-width:1.0\"/><circle cx=\"577\" cy=\"396\" r=\"3.0\" style=\"fill:rgb(66, 88, 202);stroke:black;stroke-width:1.0\"/><circle cx=\"510\" cy=\"176\" r=\"3.0\" style=\"fill:rgb(64, 84, 199);stroke:black;stroke-width:1.0\"/><circle cx=\"125\" cy=\"149\" r=\"3.0\" style=\"fill:rgb(66, 88, 202);stroke:black;stroke-width:1.0\"/><circle cx=\"120\" cy=\"349\" r=\"3.0\" style=\"fill:rgb(66, 88, 202);stroke:black;stroke-width:1.0\"/><circle cx=\"116\" cy=\"338\" r=\"3.0\" style=\"fill:rgb(66, 88, 202);stroke:black;stroke-width:1.0\"/><circle cx=\"223\" cy=\"333\" r=\"3.0\" style=\"fill:rgb(66, 88, 202);stroke:black;stroke-width:1.0\"/><circle cx=\"203\" cy=\"240\" r=\"3.0\" style=\"fill:rgb(66, 88, 202);stroke:black;stroke-width:1.0\"/><circle cx=\"75\" cy=\"276\" r=\"3.0\" style=\"fill:rgb(66, 88, 202);stroke:black;stroke-width:1.0\"/><circle cx=\"88\" cy=\"270\" r=\"3.0\" style=\"fill:rgb(66, 88, 202);stroke:black;stroke-width:1.0\"/><circle cx=\"251\" cy=\"262\" r=\"3.0\" style=\"fill:rgb(66, 88, 202);stroke:black;stroke-width:1.0\"/><circle cx=\"132\" cy=\"339\" r=\"3.0\" style=\"fill:rgb(66, 88, 202);stroke:black;stroke-width:1.0\"/><circle cx=\"242\" cy=\"98\" r=\"3.0\" style=\"fill:rgb(66, 88, 202);stroke:black;stroke-width:1.0\"/><circle cx=\"230\" cy=\"157\" r=\"3.0\" style=\"fill:rgb(66, 88, 202);stroke:black;stroke-width:1.0\"/><circle cx=\"244\" cy=\"90\" r=\"3.0\" style=\"fill:rgb(66, 88, 202);stroke:black;stroke-width:1.0\"/><circle cx=\"154\" cy=\"214\" r=\"3.0\" style=\"fill:rgb(66, 88, 202);stroke:black;stroke-width:1.0\"/><circle cx=\"327\" cy=\"236\" r=\"3.0\" style=\"fill:rgb(66, 88, 202);stroke:black;stroke-width:1.0\"/><circle cx=\"109\" cy=\"374\" r=\"3.0\" style=\"fill:rgb(64, 84, 199);stroke:black;stroke-width:1.0\"/><circle cx=\"97\" cy=\"423\" r=\"3.0\" style=\"fill:rgb(70, 93, 207);stroke:black;stroke-width:1.0\"/><circle cx=\"129\" cy=\"477\" r=\"3.0\" style=\"fill:rgb(70, 93, 207);stroke:black;stroke-width:1.0\"/><circle cx=\"250\" cy=\"402\" r=\"3.0\" style=\"fill:rgb(70, 93, 207);stroke:black;stroke-width:1.0\"/><circle cx=\"362\" cy=\"348\" r=\"3.0\" style=\"fill:rgb(66, 88, 202);stroke:black;stroke-width:1.0\"/><circle cx=\"360\" cy=\"441\" r=\"3.0\" style=\"fill:rgb(66, 88, 202);stroke:black;stroke-width:1.0\"/><circle cx=\"252\" cy=\"408\" r=\"3.0\" style=\"fill:rgb(66, 88, 202);stroke:black;stroke-width:1.0\"/><circle cx=\"436\" cy=\"388\" r=\"3.0\" style=\"fill:rgb(66, 88, 202);stroke:black;stroke-width:1.0\"/><circle cx=\"234\" cy=\"397\" r=\"3.0\" style=\"fill:rgb(66, 88, 202);stroke:black;stroke-width:1.0\"/><circle cx=\"222\" cy=\"405\" r=\"3.0\" style=\"fill:rgb(66, 88, 202);stroke:black;stroke-width:1.0\"/><circle cx=\"322\" cy=\"435\" r=\"3.0\" style=\"fill:rgb(66, 88, 202);stroke:black;stroke-width:1.0\"/><circle cx=\"441\" cy=\"428\" r=\"3.0\" style=\"fill:rgb(64, 84, 199);stroke:black;stroke-width:1.0\"/><circle cx=\"439\" cy=\"326\" r=\"3.0\" style=\"fill:rgb(99, 131, 234);stroke:black;stroke-width:1.0\"/><circle cx=\"649\" cy=\"281\" r=\"3.0\" style=\"fill:rgb(58, 76, 192);stroke:black;stroke-width:1.0\"/><circle cx=\"138\" cy=\"195\" r=\"3.0\" style=\"fill:rgb(66, 88, 202);stroke:black;stroke-width:1.0\"/><circle cx=\"127\" cy=\"196\" r=\"3.0\" style=\"fill:rgb(66, 88, 202);stroke:black;stroke-width:1.0\"/><circle cx=\"254\" cy=\"145\" r=\"3.0\" style=\"fill:rgb(66, 88, 202);stroke:black;stroke-width:1.0\"/><circle cx=\"125\" cy=\"421\" r=\"3.0\" style=\"fill:rgb(66, 88, 202);stroke:black;stroke-width:1.0\"/><circle cx=\"141\" cy=\"426\" r=\"3.0\" style=\"fill:rgb(66, 88, 202);stroke:black;stroke-width:1.0\"/><circle cx=\"262\" cy=\"378\" r=\"3.0\" style=\"fill:rgb(66, 88, 202);stroke:black;stroke-width:1.0\"/><circle cx=\"156\" cy=\"320\" r=\"3.0\" style=\"fill:rgb(66, 88, 202);stroke:black;stroke-width:1.0\"/><circle cx=\"126\" cy=\"433\" r=\"3.0\" style=\"fill:rgb(66, 88, 202);stroke:black;stroke-width:1.0\"/><circle cx=\"174\" cy=\"445\" r=\"3.0\" style=\"fill:rgb(66, 88, 202);stroke:black;stroke-width:1.0\"/><circle cx=\"213\" cy=\"142\" r=\"3.0\" style=\"fill:rgb(64, 84, 199);stroke:black;stroke-width:1.0\"/><circle cx=\"299\" cy=\"172\" r=\"3.0\" style=\"fill:rgb(64, 84, 199);stroke:black;stroke-width:1.0\"/><circle cx=\"203\" cy=\"149\" r=\"3.0\" style=\"fill:rgb(64, 84, 199);stroke:black;stroke-width:1.0\"/><circle cx=\"609\" cy=\"293\" r=\"3.0\" style=\"fill:rgb(66, 88, 202);stroke:black;stroke-width:1.0\"/><circle cx=\"486\" cy=\"244\" r=\"3.0\" style=\"fill:rgb(66, 88, 202);stroke:black;stroke-width:1.0\"/><circle cx=\"584\" cy=\"216\" r=\"3.0\" style=\"fill:rgb(66, 88, 202);stroke:black;stroke-width:1.0\"/><circle cx=\"568\" cy=\"207\" r=\"3.0\" style=\"fill:rgb(66, 88, 202);stroke:black;stroke-width:1.0\"/><circle cx=\"343\" cy=\"306\" r=\"3.0\" style=\"fill:rgb(66, 88, 202);stroke:black;stroke-width:1.0\"/><circle cx=\"512\" cy=\"296\" r=\"3.0\" style=\"fill:rgb(66, 88, 202);stroke:black;stroke-width:1.0\"/><circle cx=\"422\" cy=\"385\" r=\"3.0\" style=\"fill:rgb(66, 88, 202);stroke:black;stroke-width:1.0\"/><circle cx=\"527\" cy=\"340\" r=\"3.0\" style=\"fill:rgb(66, 88, 202);stroke:black;stroke-width:1.0\"/><circle cx=\"433\" cy=\"268\" r=\"3.0\" style=\"fill:rgb(66, 88, 202);stroke:black;stroke-width:1.0\"/><circle cx=\"343\" cy=\"355\" r=\"3.0\" style=\"fill:rgb(66, 88, 202);stroke:black;stroke-width:1.0\"/><circle cx=\"506\" cy=\"308\" r=\"3.0\" style=\"fill:rgb(66, 88, 202);stroke:black;stroke-width:1.0\"/><circle cx=\"205\" cy=\"422\" r=\"3.0\" style=\"fill:rgb(66, 88, 202);stroke:black;stroke-width:1.0\"/><circle cx=\"89\" cy=\"240\" r=\"3.0\" style=\"fill:rgb(66, 88, 202);stroke:black;stroke-width:1.0\"/><circle cx=\"213\" cy=\"254\" r=\"3.0\" style=\"fill:rgb(66, 88, 202);stroke:black;stroke-width:1.0\"/><circle cx=\"157\" cy=\"329\" r=\"3.0\" style=\"fill:rgb(66, 88, 202);stroke:black;stroke-width:1.0\"/><circle cx=\"196\" cy=\"230\" r=\"3.0\" style=\"fill:rgb(66, 88, 202);stroke:black;stroke-width:1.0\"/><circle cx=\"217\" cy=\"235\" r=\"3.0\" style=\"fill:rgb(66, 88, 202);stroke:black;stroke-width:1.0\"/><circle cx=\"182\" cy=\"318\" r=\"3.0\" style=\"fill:rgb(66, 88, 202);stroke:black;stroke-width:1.0\"/><circle cx=\"191\" cy=\"326\" r=\"3.0\" style=\"fill:rgb(66, 88, 202);stroke:black;stroke-width:1.0\"/><circle cx=\"78\" cy=\"248\" r=\"3.0\" style=\"fill:rgb(66, 88, 202);stroke:black;stroke-width:1.0\"/><circle cx=\"95\" cy=\"230\" r=\"3.0\" style=\"fill:rgb(66, 88, 202);stroke:black;stroke-width:1.0\"/><circle cx=\"166\" cy=\"318\" r=\"3.0\" style=\"fill:rgb(66, 88, 202);stroke:black;stroke-width:1.0\"/><circle cx=\"114\" cy=\"153\" r=\"3.0\" style=\"fill:rgb(64, 84, 199);stroke:black;stroke-width:1.0\"/><circle cx=\"42\" cy=\"228\" r=\"3.0\" style=\"fill:rgb(64, 84, 199);stroke:black;stroke-width:1.0\"/><circle cx=\"157\" cy=\"160\" r=\"3.0\" style=\"fill:rgb(64, 84, 199);stroke:black;stroke-width:1.0\"/><circle cx=\"431\" cy=\"393\" r=\"3.0\" style=\"fill:rgb(64, 84, 199);stroke:black;stroke-width:1.0\"/><circle cx=\"305\" cy=\"441\" r=\"3.0\" style=\"fill:rgb(64, 84, 199);stroke:black;stroke-width:1.0\"/><circle cx=\"458\" cy=\"407\" r=\"3.0\" style=\"fill:rgb(64, 84, 199);stroke:black;stroke-width:1.0\"/><circle cx=\"283\" cy=\"453\" r=\"3.0\" style=\"fill:rgb(64, 84, 199);stroke:black;stroke-width:1.0\"/><circle cx=\"436\" cy=\"457\" r=\"3.0\" style=\"fill:rgb(64, 84, 199);stroke:black;stroke-width:1.0\"/><circle cx=\"337\" cy=\"380\" r=\"3.0\" style=\"fill:rgb(64, 84, 199);stroke:black;stroke-width:1.0\"/><circle cx=\"393\" cy=\"284\" r=\"3.0\" style=\"fill:rgb(66, 88, 202);stroke:black;stroke-width:1.0\"/><circle cx=\"445\" cy=\"338\" r=\"3.0\" style=\"fill:rgb(66, 88, 202);stroke:black;stroke-width:1.0\"/><circle cx=\"441\" cy=\"239\" r=\"3.0\" style=\"fill:rgb(66, 88, 202);stroke:black;stroke-width:1.0\"/><circle cx=\"419\" cy=\"360\" r=\"3.0\" style=\"fill:rgb(66, 88, 202);stroke:black;stroke-width:1.0\"/><circle cx=\"532\" cy=\"319\" r=\"3.0\" style=\"fill:rgb(66, 88, 202);stroke:black;stroke-width:1.0\"/><circle cx=\"486\" cy=\"330\" r=\"3.0\" style=\"fill:rgb(66, 88, 202);stroke:black;stroke-width:1.0\"/><circle cx=\"420\" cy=\"285\" r=\"3.0\" style=\"fill:rgb(66, 88, 202);stroke:black;stroke-width:1.0\"/><circle cx=\"502\" cy=\"264\" r=\"3.0\" style=\"fill:rgb(66, 88, 202);stroke:black;stroke-width:1.0\"/><circle cx=\"30\" cy=\"227\" r=\"3.0\" style=\"fill:rgb(66, 88, 202);stroke:black;stroke-width:1.0\"/><circle cx=\"149\" cy=\"195\" r=\"3.0\" style=\"fill:rgb(66, 88, 202);stroke:black;stroke-width:1.0\"/><circle cx=\"278\" cy=\"344\" r=\"3.0\" style=\"fill:rgb(64, 84, 199);stroke:black;stroke-width:1.0\"/><circle cx=\"260\" cy=\"417\" r=\"3.0\" style=\"fill:rgb(64, 84, 199);stroke:black;stroke-width:1.0\"/><circle cx=\"245\" cy=\"307\" r=\"3.0\" style=\"fill:rgb(64, 84, 199);stroke:black;stroke-width:1.0\"/><circle cx=\"417\" cy=\"192\" r=\"3.0\" style=\"fill:rgb(66, 88, 202);stroke:black;stroke-width:1.0\"/><circle cx=\"426\" cy=\"269\" r=\"3.0\" style=\"fill:rgb(66, 88, 202);stroke:black;stroke-width:1.0\"/><circle cx=\"411\" cy=\"269\" r=\"3.0\" style=\"fill:rgb(66, 88, 202);stroke:black;stroke-width:1.0\"/><circle cx=\"262\" cy=\"211\" r=\"3.0\" style=\"fill:rgb(66, 88, 202);stroke:black;stroke-width:1.0\"/><circle cx=\"242\" cy=\"210\" r=\"3.0\" style=\"fill:rgb(66, 88, 202);stroke:black;stroke-width:1.0\"/><circle cx=\"315\" cy=\"286\" r=\"3.0\" style=\"fill:rgb(66, 88, 202);stroke:black;stroke-width:1.0\"/><circle cx=\"287\" cy=\"288\" r=\"3.0\" style=\"fill:rgb(66, 88, 202);stroke:black;stroke-width:1.0\"/><circle cx=\"291\" cy=\"353\" r=\"3.0\" style=\"fill:rgb(66, 88, 202);stroke:black;stroke-width:1.0\"/><circle cx=\"286\" cy=\"384\" r=\"3.0\" style=\"fill:rgb(66, 88, 202);stroke:black;stroke-width:1.0\"/><circle cx=\"431\" cy=\"344\" r=\"3.0\" style=\"fill:rgb(66, 88, 202);stroke:black;stroke-width:1.0\"/><circle cx=\"720\" cy=\"210\" r=\"3.0\" style=\"fill:rgb(64, 84, 199);stroke:black;stroke-width:1.0\"/><circle cx=\"344\" cy=\"93\" r=\"3.0\" style=\"fill:rgb(64, 84, 199);stroke:black;stroke-width:1.0\"/><circle cx=\"241\" cy=\"20\" r=\"3.0\" style=\"fill:rgb(64, 84, 199);stroke:black;stroke-width:1.0\"/><circle cx=\"319\" cy=\"125\" r=\"3.0\" style=\"fill:rgb(66, 88, 202);stroke:black;stroke-width:1.0\"/><circle cx=\"174\" cy=\"155\" r=\"3.0\" style=\"fill:rgb(66, 88, 202);stroke:black;stroke-width:1.0\"/><circle cx=\"274\" cy=\"108\" r=\"3.0\" style=\"fill:rgb(66, 88, 202);stroke:black;stroke-width:1.0\"/><circle cx=\"684\" cy=\"358\" r=\"3.0\" style=\"fill:rgb(66, 88, 202);stroke:black;stroke-width:1.0\"/><circle cx=\"614\" cy=\"386\" r=\"3.0\" style=\"fill:rgb(66, 88, 202);stroke:black;stroke-width:1.0\"/><circle cx=\"637\" cy=\"400\" r=\"3.0\" style=\"fill:rgb(66, 88, 202);stroke:black;stroke-width:1.0\"/><circle cx=\"566\" cy=\"333\" r=\"3.0\" style=\"fill:rgb(66, 88, 202);stroke:black;stroke-width:1.0\"/><circle cx=\"152\" cy=\"343\" r=\"3.0\" style=\"fill:rgb(60, 79, 195);stroke:black;stroke-width:1.0\"/><circle cx=\"506\" cy=\"423\" r=\"3.0\" style=\"fill:rgb(58, 76, 192);stroke:black;stroke-width:1.0\"/><circle cx=\"20\" cy=\"279\" r=\"3.0\" style=\"fill:rgb(66, 88, 202);stroke:black;stroke-width:1.0\"/><circle cx=\"34\" cy=\"348\" r=\"3.0\" style=\"fill:rgb(66, 88, 202);stroke:black;stroke-width:1.0\"/><circle cx=\"64\" cy=\"351\" r=\"3.0\" style=\"fill:rgb(66, 88, 202);stroke:black;stroke-width:1.0\"/><circle cx=\"33\" cy=\"363\" r=\"3.0\" style=\"fill:rgb(66, 88, 202);stroke:black;stroke-width:1.0\"/><circle cx=\"356\" cy=\"440\" r=\"3.0\" style=\"fill:rgb(70, 93, 207);stroke:black;stroke-width:1.0\"/><circle cx=\"514\" cy=\"390\" r=\"3.0\" style=\"fill:rgb(70, 93, 207);stroke:black;stroke-width:1.0\"/><circle cx=\"431\" cy=\"483\" r=\"3.0\" style=\"fill:rgb(70, 93, 207);stroke:black;stroke-width:1.0\"/><circle cx=\"483\" cy=\"466\" r=\"3.0\" style=\"fill:rgb(70, 93, 207);stroke:black;stroke-width:1.0\"/><circle cx=\"465\" cy=\"379\" r=\"3.0\" style=\"fill:rgb(70, 93, 207);stroke:black;stroke-width:1.0\"/><circle cx=\"469\" cy=\"258\" r=\"3.0\" style=\"fill:rgb(58, 76, 192);stroke:black;stroke-width:1.0\"/><circle cx=\"406\" cy=\"245\" r=\"3.0\" style=\"fill:rgb(58, 76, 192);stroke:black;stroke-width:1.0\"/><circle cx=\"295\" cy=\"393\" r=\"3.0\" style=\"fill:rgb(66, 88, 202);stroke:black;stroke-width:1.0\"/><text font-size=\"10\" x=\"336\" y=\"248\">Namie Amuro</text><text font-size=\"10\" x=\"401\" y=\"253\">Jolin Tsai</text><text font-size=\"10\" x=\"364\" y=\"165\">Orange Range</text><text font-size=\"10\" x=\"362\" y=\"143\">Rockit Music</text><text font-size=\"10\" x=\"411\" y=\"152\">ORANGE RANGE</text><text font-size=\"10\" x=\"327\" y=\"212\">Benny Dayal</text><text font-size=\"10\" x=\"369\" y=\"265\">Southern Allstars</text><text font-size=\"10\" x=\"463\" y=\"233\">Louis Armstrong</text><text font-size=\"10\" x=\"416\" y=\"295\">MIKE</text><text font-size=\"10\" x=\"367\" y=\"205\">Brent Cobb</text><text font-size=\"10\" x=\"274\" y=\"350\">Lilrb</text><text font-size=\"10\" x=\"479\" y=\"266\">Henry Smith</text><text font-size=\"10\" x=\"335\" y=\"231\">SOUTHERN ALL STARS</text><text font-size=\"10\" x=\"274\" y=\"254\">Alex G</text><text font-size=\"10\" x=\"389\" y=\"215\">ayaka</text><text font-size=\"10\" x=\"401\" y=\"278\">angela</text><text font-size=\"10\" x=\"434\" y=\"112\">HOYO-MiX</text><text font-size=\"10\" x=\"314\" y=\"263\">Beside Bed</text><text font-size=\"10\" x=\"390\" y=\"270\">xMEIYIN</text><text font-size=\"10\" x=\"339\" y=\"272\">Chimuanya</text><text font-size=\"10\" x=\"252\" y=\"448\">Seibun Tokuhara</text><text font-size=\"10\" x=\"245\" y=\"500\">Hideaki Tokunaga</text><text font-size=\"10\" x=\"177\" y=\"493\">WagakkiBand</text><text font-size=\"10\" x=\"335\" y=\"411\">Osamuraisan</text><text font-size=\"10\" x=\"252\" y=\"366\">Sadao China</text><text font-size=\"10\" x=\"213\" y=\"409\">Taeko Onuki</text><text font-size=\"10\" x=\"299\" y=\"502\">Vivid BAD SQUAD</text><text font-size=\"10\" x=\"205\" y=\"276\">alex_g_offline</text><text font-size=\"10\" x=\"163\" y=\"199\">Pritam</text><text font-size=\"10\" x=\"473\" y=\"236\">Benny Dawn</text><text font-size=\"10\" x=\"390\" y=\"229\">Benny Friedman</text><text font-size=\"10\" x=\"438\" y=\"257\">Benny Sings</text><text font-size=\"10\" x=\"208\" y=\"192\">Christopher Jackson</text><text font-size=\"10\" x=\"252\" y=\"235\">Jordy Chandra</text><text font-size=\"10\" x=\"323\" y=\"379\">Matoma</text><text font-size=\"10\" x=\"355\" y=\"309\">5 Seconds of Summer</text><text font-size=\"10\" x=\"273\" y=\"159\">James Blunt</text><text font-size=\"10\" x=\"182\" y=\"298\">Ifeoma</text><text font-size=\"10\" x=\"228\" y=\"201\">Freeman HKD</text><text font-size=\"10\" x=\"351\" y=\"240\">Soul Armoniko</text><text font-size=\"10\" x=\"180\" y=\"275\">Perfeccion</text><text font-size=\"10\" x=\"474\" y=\"365\">Emmasings</text><text font-size=\"10\" x=\"520\" y=\"254\">Onolyriks</text><text font-size=\"10\" x=\"458\" y=\"35\">Yu-Peng Chen</text><text font-size=\"10\" x=\"181\" y=\"387\">Myaap</text><text font-size=\"10\" x=\"202\" y=\"398\">Nelly</text><text font-size=\"10\" x=\"334\" y=\"387\">Drake</text><text font-size=\"10\" x=\"248\" y=\"391\">Paul Russell</text><text font-size=\"10\" x=\"285\" y=\"344\">Lil Baby</text><text font-size=\"10\" x=\"545\" y=\"310\">Mike Posner</text><text font-size=\"10\" x=\"436\" y=\"340\">Hotel Ugly</text><text font-size=\"10\" x=\"420\" y=\"353\">Mike Sherm</text><text font-size=\"10\" x=\"294\" y=\"202\">Niontay</text><text font-size=\"10\" x=\"484\" y=\"356\">mike.</text><text font-size=\"10\" x=\"440\" y=\"431\">pedrolina.</text><text font-size=\"10\" x=\"203\" y=\"436\">Marlon Guild</text><text font-size=\"10\" x=\"430\" y=\"337\">OsMan</text><text font-size=\"10\" x=\"399\" y=\"199\">Herbie Hancock</text><text font-size=\"10\" x=\"307\" y=\"78\">Tokyo Machine</text><text font-size=\"10\" x=\"325\" y=\"253\">Devilish Trio</text><text font-size=\"10\" x=\"334\" y=\"321\">Southall</text><text font-size=\"10\" x=\"242\" y=\"190\">Gregory Alan Isakov</text><text font-size=\"10\" x=\"405\" y=\"179\">サザンオールスターズ</text><text font-size=\"10\" x=\"267\" y=\"364\">Seijin Noborikawa</text><text font-size=\"10\" x=\"242\" y=\"381\">泰葉</text><text font-size=\"10\" x=\"316\" y=\"375\">知名定男</text><text font-size=\"10\" x=\"147\" y=\"270\">Sadao Watanabe</text><text font-size=\"10\" x=\"243\" y=\"459\">EVADE FROM 宇宙</text><text font-size=\"10\" x=\"97\" y=\"336\">mimiel</text><text font-size=\"10\" x=\"426\" y=\"313\">SIM-CEE</text><text font-size=\"10\" x=\"359\" y=\"414\">Rinsho Kadekaru</text><text font-size=\"10\" x=\"491\" y=\"224\">Flower Face</text><text font-size=\"10\" x=\"587\" y=\"242\">The Lumineers</text><text font-size=\"10\" x=\"381\" y=\"277\">Ángela Aguilar</text><text font-size=\"10\" x=\"396\" y=\"247\">Becky G</text><text font-size=\"10\" x=\"282\" y=\"309\">Yuridia</text><text font-size=\"10\" x=\"241\" y=\"331\">Los Caminantes</text><text font-size=\"10\" x=\"375\" y=\"352\">Achichiba</text><text font-size=\"10\" x=\"395\" y=\"332\">Nstens1117</text><text font-size=\"10\" x=\"569\" y=\"346\">Vector U</text><text font-size=\"10\" x=\"246\" y=\"207\">Miriamy</text><text font-size=\"10\" x=\"430\" y=\"357\">Meychan</text><text font-size=\"10\" x=\"331\" y=\"242\">A-Mei Chang</text><text font-size=\"10\" x=\"296\" y=\"175\">Torby Brand</text><text font-size=\"10\" x=\"298\" y=\"263\">Jay Chou</text><text font-size=\"10\" x=\"427\" y=\"305\">Khaled</text><text font-size=\"10\" x=\"455\" y=\"376\">Didi B</text><text font-size=\"10\" x=\"382\" y=\"418\">Tamrat Desta</text><text font-size=\"10\" x=\"303\" y=\"389\">MD DJ</text><text font-size=\"10\" x=\"319\" y=\"304\">Ahmed Alshaiba</text><text font-size=\"10\" x=\"282\" y=\"392\">Lone Tusker</text><text font-size=\"10\" x=\"301\" y=\"309\">Wael Jassar</text><text font-size=\"10\" x=\"472\" y=\"333\">Rassim Touffah</text><text font-size=\"10\" x=\"419\" y=\"408\">Udit Narayan</text><text font-size=\"10\" x=\"596\" y=\"223\">Benny Goodman Sextet</text><text font-size=\"10\" x=\"492\" y=\"220\">Benny L</text><text font-size=\"10\" x=\"538\" y=\"285\">Chris Brown</text><text font-size=\"10\" x=\"345\" y=\"263\">Matt Dubb</text><text font-size=\"10\" x=\"552\" y=\"287\">Free Nationals</text><text font-size=\"10\" x=\"360\" y=\"282\">Rex Orange County</text><text font-size=\"10\" x=\"390\" y=\"437\">Travis Scott</text><text font-size=\"10\" x=\"278\" y=\"523\">removeface</text><text font-size=\"10\" x=\"183\" y=\"488\">Eve</text><text font-size=\"10\" x=\"422\" y=\"418\">Isobel Waller-Bridge</text><text font-size=\"10\" x=\"430\" y=\"352\">Steven Price</text><text font-size=\"10\" x=\"574\" y=\"413\">Samuel Sim</text><text font-size=\"10\" x=\"583\" y=\"399\">Jimmy D Psalmist</text><text font-size=\"10\" x=\"516\" y=\"179\">eevee</text><text font-size=\"10\" x=\"131\" y=\"152\">ExQ</text><text font-size=\"10\" x=\"126\" y=\"352\">DJ Sean K</text><text font-size=\"10\" x=\"122\" y=\"341\">Umu Obiligbo</text><text font-size=\"10\" x=\"229\" y=\"336\">Jephy Jay</text><text font-size=\"10\" x=\"209\" y=\"243\">Tzarboy</text><text font-size=\"10\" x=\"81\" y=\"279\">P-Square</text><text font-size=\"10\" x=\"94\" y=\"273\">Marcy WTF</text><text font-size=\"10\" x=\"257\" y=\"265\">Sheddy Rhmx</text><text font-size=\"10\" x=\"138\" y=\"342\">Apolosi B</text><text font-size=\"10\" x=\"248\" y=\"101\">Robin Schulz</text><text font-size=\"10\" x=\"236\" y=\"160\">Iam Tongi</text><text font-size=\"10\" x=\"250\" y=\"93\">Lost Frequencies</text><text font-size=\"10\" x=\"160\" y=\"217\">Jordy Searcy</text><text font-size=\"10\" x=\"333\" y=\"239\">Jordi</text><text font-size=\"10\" x=\"115\" y=\"377\">Los Yonic's</text><text font-size=\"10\" x=\"103\" y=\"426\">Marlon Heins</text><text font-size=\"10\" x=\"135\" y=\"480\">Marlon Funaki</text><text font-size=\"10\" x=\"256\" y=\"405\">Marlon Williams</text><text font-size=\"10\" x=\"368\" y=\"351\">Idan Balas</text><text font-size=\"10\" x=\"366\" y=\"444\">HRVY</text><text font-size=\"10\" x=\"258\" y=\"411\">Felix Jaehn</text><text font-size=\"10\" x=\"442\" y=\"391\">Coldplay</text><text font-size=\"10\" x=\"240\" y=\"400\">Mato</text><text font-size=\"10\" x=\"228\" y=\"408\">Matooma</text><text font-size=\"10\" x=\"328\" y=\"438\">The Vamps</text><text font-size=\"10\" x=\"447\" y=\"431\">Megadeth</text><text font-size=\"10\" x=\"445\" y=\"329\">whaledontsleep</text><text font-size=\"10\" x=\"655\" y=\"284\">Rittz</text><text font-size=\"10\" x=\"144\" y=\"198\">Sleeping At Last</text><text font-size=\"10\" x=\"133\" y=\"199\">Miriam Modest</text><text font-size=\"10\" x=\"260\" y=\"148\">Myriam Hernandez</text><text font-size=\"10\" x=\"131\" y=\"424\">Arch Enemy</text><text font-size=\"10\" x=\"147\" y=\"429\">Falling In Reverse</text><text font-size=\"10\" x=\"268\" y=\"381\">Metallica</text><text font-size=\"10\" x=\"162\" y=\"323\">Donell Jones</text><text font-size=\"10\" x=\"132\" y=\"436\">Escape the Fate</text><text font-size=\"10\" x=\"180\" y=\"448\">The Toy Dolls</text><text font-size=\"10\" x=\"219\" y=\"145\">jon-YAKITORY</text><text font-size=\"10\" x=\"305\" y=\"175\">Noony</text><text font-size=\"10\" x=\"209\" y=\"152\">NONT TANONT</text><text font-size=\"10\" x=\"615\" y=\"296\">Nicki Minaj</text><text font-size=\"10\" x=\"492\" y=\"247\">RY X</text><text font-size=\"10\" x=\"590\" y=\"219\">Onlery</text><text font-size=\"10\" x=\"574\" y=\"210\">LeeHi</text><text font-size=\"10\" x=\"349\" y=\"309\">Shreya Ghoshal</text><text font-size=\"10\" x=\"518\" y=\"299\">Passenger 10</text><text font-size=\"10\" x=\"428\" y=\"388\">Osmani Garcia &quot;La Voz&quot;</text><text font-size=\"10\" x=\"533\" y=\"343\">Üst Perde</text><text font-size=\"10\" x=\"439\" y=\"271\">natori</text><text font-size=\"10\" x=\"349\" y=\"358\">MEL GRANDA</text><text font-size=\"10\" x=\"512\" y=\"311\">Amit Trivedi</text><text font-size=\"10\" x=\"211\" y=\"425\">Dray</text><text font-size=\"10\" x=\"95\" y=\"243\">Baltorino Beats</text><text font-size=\"10\" x=\"219\" y=\"257\">Juli Savioli</text><text font-size=\"10\" x=\"163\" y=\"332\">mario.da.man</text><text font-size=\"10\" x=\"202\" y=\"233\">Alameños de la Sierra</text><text font-size=\"10\" x=\"223\" y=\"238\">Calibre 50</text><text font-size=\"10\" x=\"188\" y=\"321\">4x3</text><text font-size=\"10\" x=\"197\" y=\"329\">Nivel</text><text font-size=\"10\" x=\"84\" y=\"251\">Edicion Especial</text><text font-size=\"10\" x=\"101\" y=\"233\">Ezra Martinez</text><text font-size=\"10\" x=\"172\" y=\"321\">Mundo Suave</text><text font-size=\"10\" x=\"120\" y=\"156\">Marshmello</text><text font-size=\"10\" x=\"48\" y=\"231\">Sanam Marvi</text><text font-size=\"10\" x=\"163\" y=\"163\">Priya Saraiya</text><text font-size=\"10\" x=\"437\" y=\"396\">EXOTIC SKATES</text><text font-size=\"10\" x=\"311\" y=\"444\">Yuuri</text><text font-size=\"10\" x=\"464\" y=\"410\">iwamizu</text><text font-size=\"10\" x=\"289\" y=\"456\">Kaoru Wada</text><text font-size=\"10\" x=\"442\" y=\"460\">Kina Shouei Group</text><text font-size=\"10\" x=\"343\" y=\"383\">Rinshou Kadekaru</text><text font-size=\"10\" x=\"399\" y=\"287\">Eduardo XD</text><text font-size=\"10\" x=\"451\" y=\"341\">Kewin Cosmos</text><text font-size=\"10\" x=\"447\" y=\"242\">La Mar-K De Tierra Caliente</text><text font-size=\"10\" x=\"425\" y=\"363\">SiM</text><text font-size=\"10\" x=\"538\" y=\"322\">Jay Wheeler</text><text font-size=\"10\" x=\"492\" y=\"333\">Santa Fe Klan</text><text font-size=\"10\" x=\"426\" y=\"288\">Los Chavalos De La Perla</text><text font-size=\"10\" x=\"508\" y=\"267\">FINANCE</text><text font-size=\"10\" x=\"36\" y=\"230\">Twinuzis archive</text><text font-size=\"10\" x=\"155\" y=\"198\">KLIM</text><text font-size=\"10\" x=\"284\" y=\"347\">Hiroyuki Sawano</text><text font-size=\"10\" x=\"266\" y=\"420\">Ichiko Aoba</text><text font-size=\"10\" x=\"251\" y=\"310\">SEKAI NO OWARI</text><text font-size=\"10\" x=\"423\" y=\"195\">Soul Asylum</text><text font-size=\"10\" x=\"432\" y=\"272\">Omarion</text><text font-size=\"10\" x=\"417\" y=\"272\">Drmartinezvzla</text><text font-size=\"10\" x=\"268\" y=\"214\">Soul A</text><text font-size=\"10\" x=\"248\" y=\"213\">Cameo</text><text font-size=\"10\" x=\"321\" y=\"289\">Soul ASMR</text><text font-size=\"10\" x=\"293\" y=\"291\">Desifx</text><text font-size=\"10\" x=\"297\" y=\"356\">Guru</text><text font-size=\"10\" x=\"292\" y=\"387\">Leon Paul-Phillips</text><text font-size=\"10\" x=\"437\" y=\"347\">Happy Rattan</text><text font-size=\"10\" x=\"726\" y=\"213\">Zach Bryan</text><text font-size=\"10\" x=\"350\" y=\"96\">LiSA</text><text font-size=\"10\" x=\"247\" y=\"23\">Slushii</text><text font-size=\"10\" x=\"325\" y=\"128\">Toni Braxton</text><text font-size=\"10\" x=\"180\" y=\"158\">Babyface</text><text font-size=\"10\" x=\"280\" y=\"111\">$NOT</text><text font-size=\"10\" x=\"690\" y=\"361\">Vektor</text><text font-size=\"10\" x=\"620\" y=\"389\">Vector of Underground</text><text font-size=\"10\" x=\"643\" y=\"403\">Vector</text><text font-size=\"10\" x=\"572\" y=\"336\">Yoko Shimomura</text><text font-size=\"10\" x=\"158\" y=\"346\">Yahritza Y Su Esencia</text><text font-size=\"10\" x=\"512\" y=\"426\">Mike WiLL Made-It</text><text font-size=\"10\" x=\"26\" y=\"282\">LaTorre</text><text font-size=\"10\" x=\"40\" y=\"351\">Mikel Ovalle</text><text font-size=\"10\" x=\"70\" y=\"354\">MIEL</text><text font-size=\"10\" x=\"39\" y=\"366\">Mikel Erentxun</text><text font-size=\"10\" x=\"362\" y=\"443\">Vargas de Tecalitlan</text><text font-size=\"10\" x=\"520\" y=\"393\">Pedro Infante y la Rondalla del Amor de Saltillo</text><text font-size=\"10\" x=\"437\" y=\"486\">PEDRO SAMPAIO</text><text font-size=\"10\" x=\"489\" y=\"469\">Pedrina</text><text font-size=\"10\" x=\"471\" y=\"382\">Mc Livinho</text><text font-size=\"10\" x=\"475\" y=\"261\">Christian Nodal</text><text font-size=\"10\" x=\"412\" y=\"248\">Carin Leon</text><text font-size=\"10\" x=\"301\" y=\"396\">Night Tempo</text></svg>"
      ],
      "text/plain": [
       "<IPython.core.display.SVG object>"
      ]
     },
     "execution_count": 6,
     "metadata": {},
     "output_type": "execute_result"
    }
   ],
   "source": [
    "# this is network analysis network without labels\n",
    "\n",
    "draw_graph(G, node_size=3, show_names=True, edge_width=0.3)"
   ]
  },
  {
   "cell_type": "markdown",
   "id": "10aa2232",
   "metadata": {},
   "source": [
    "# Egocentric Network Analysis\n",
    "\n",
    "As the above visualization shows, this is a complex network. For knowledge discovery, we should use Egocentric Network Analysis to \"zoom in\" on nodes of interest. Any node can be looked at, but I am going to programmatically do this, in this notebook, showing only the top twenty nodes, according to page rank."
   ]
  },
  {
   "cell_type": "markdown",
   "id": "0dcf1d59",
   "metadata": {},
   "source": [
    "# PageRank - Identify Nodes of Interest"
   ]
  },
  {
   "cell_type": "code",
   "execution_count": 7,
   "id": "42fbb411",
   "metadata": {},
   "outputs": [
    {
     "data": {
      "text/html": [
       "<div>\n",
       "<style scoped>\n",
       "    .dataframe tbody tr th:only-of-type {\n",
       "        vertical-align: middle;\n",
       "    }\n",
       "\n",
       "    .dataframe tbody tr th {\n",
       "        vertical-align: top;\n",
       "    }\n",
       "\n",
       "    .dataframe thead th {\n",
       "        text-align: right;\n",
       "    }\n",
       "</style>\n",
       "<table border=\"1\" class=\"dataframe\">\n",
       "  <thead>\n",
       "    <tr style=\"text-align: right;\">\n",
       "      <th></th>\n",
       "      <th>page_rank</th>\n",
       "    </tr>\n",
       "  </thead>\n",
       "  <tbody>\n",
       "    <tr>\n",
       "      <th>Perfeccion</th>\n",
       "      <td>0.022979</td>\n",
       "    </tr>\n",
       "    <tr>\n",
       "      <th>Achichiba</th>\n",
       "      <td>0.020685</td>\n",
       "    </tr>\n",
       "    <tr>\n",
       "      <th>Ifeoma</th>\n",
       "      <td>0.018887</td>\n",
       "    </tr>\n",
       "    <tr>\n",
       "      <th>SIM-CEE</th>\n",
       "      <td>0.018747</td>\n",
       "    </tr>\n",
       "    <tr>\n",
       "      <th>OsMan</th>\n",
       "      <td>0.018253</td>\n",
       "    </tr>\n",
       "    <tr>\n",
       "      <th>Matoma</th>\n",
       "      <td>0.017006</td>\n",
       "    </tr>\n",
       "    <tr>\n",
       "      <th>Sadao China</th>\n",
       "      <td>0.016195</td>\n",
       "    </tr>\n",
       "    <tr>\n",
       "      <th>Rinsho Kadekaru</th>\n",
       "      <td>0.015566</td>\n",
       "    </tr>\n",
       "    <tr>\n",
       "      <th>Soul Armoniko</th>\n",
       "      <td>0.014785</td>\n",
       "    </tr>\n",
       "    <tr>\n",
       "      <th>angela</th>\n",
       "      <td>0.014048</td>\n",
       "    </tr>\n",
       "  </tbody>\n",
       "</table>\n",
       "</div>"
      ],
      "text/plain": [
       "                 page_rank\n",
       "Perfeccion        0.022979\n",
       "Achichiba         0.020685\n",
       "Ifeoma            0.018887\n",
       "SIM-CEE           0.018747\n",
       "OsMan             0.018253\n",
       "Matoma            0.017006\n",
       "Sadao China       0.016195\n",
       "Rinsho Kadekaru   0.015566\n",
       "Soul Armoniko     0.014785\n",
       "angela            0.014048"
      ]
     },
     "execution_count": 7,
     "metadata": {},
     "output_type": "execute_result"
    }
   ],
   "source": [
    "page_rank = nx.pagerank(G)\n",
    "\n",
    "pr_df = pd.DataFrame().from_dict(page_rank, orient='index')\n",
    "pr_df.columns = ['page_rank']\n",
    "pr_df.sort_values('page_rank', ascending=False, inplace=True)\n",
    "pr_df.head(10)"
   ]
  },
  {
   "cell_type": "code",
   "execution_count": 8,
   "id": "71a59549",
   "metadata": {},
   "outputs": [
    {
     "data": {
      "image/png": "[encoded data removed]",
      "text/plain": [
       "<Figure size 864x576 with 1 Axes>"
      ]
     },
     "metadata": {
      "needs_background": "light"
     },
     "output_type": "display_data"
    }
   ],
   "source": [
    "title = 'Important Artists by PageRank'\n",
    "\n",
    "pr_df.head(20).plot.barh(figsize=(12,8), title=title).invert_yaxis()"
   ]
  },
  {
   "cell_type": "markdown",
   "id": "3565f936",
   "metadata": {},
   "source": [
    "# Egocentric Network Analysis\n",
    "Next, let's look at the Ego Graphs for each of the top ten characters found by PageRank. Before visualizing and inspecting the Ego Graphs, let's create a Python list so that we can more easily look through them without explicitely typing their names."
   ]
  },
  {
   "cell_type": "code",
   "execution_count": 9,
   "id": "9d823af1",
   "metadata": {},
   "outputs": [],
   "source": [
    "top_nodes = pr_df.head(20).index.values"
   ]
  },
  {
   "cell_type": "code",
   "execution_count": 10,
   "id": "662a98f3",
   "metadata": {},
   "outputs": [
    {
     "data": {
      "text/plain": [
       "'Perfeccion'"
      ]
     },
     "execution_count": 10,
     "metadata": {},
     "output_type": "execute_result"
    }
   ],
   "source": [
    "top_nodes[0]"
   ]
  },
  {
   "cell_type": "markdown",
   "id": "6ecf99c7",
   "metadata": {},
   "source": [
    "Now we are all set to start looking through them, in order of importance."
   ]
  },
  {
   "cell_type": "markdown",
   "id": "290bcf1a",
   "metadata": {},
   "source": [
    "## Top Node Ego Networks\n",
    "Unlike last time, I am not going to drop the center node or write about findings. This is purely discovery. Remember two things:\n",
    "- The center node is known as the 'ego' node. It is the node being looked up.\n",
    "- The other nodes are known as 'alter' nodes. They are connected to the ego node, and sometimes with each other.\n",
    "\n",
    "Pay close attention to the alter nodes that link to other alter nodes. These are interesting relationships, and you can see subcommunities in the ego network. Think about what you are seeing. What does this tell you?"
   ]
  },
  {
   "cell_type": "code",
   "execution_count": 36,
   "id": "863ca7a1",
   "metadata": {},
   "outputs": [
    {
     "data": {
      "image/svg+xml": [
       "<svg height=\"540\" width=\"845.0\" xmlns=\"http://www.w3.org/2000/svg\"><path d=\"M 316 99 488 170\" stroke=\"gray\" stroke-width=\"0.3\"/><path d=\"M 401 42 488 170\" stroke=\"gray\" stroke-width=\"0.3\"/><path d=\"M 336 188 488 170\" stroke=\"gray\" stroke-width=\"0.3\"/><path d=\"M 651 56 488 170\" stroke=\"gray\" stroke-width=\"0.3\"/><path d=\"M 540 288 488 170\" stroke=\"gray\" stroke-width=\"0.3\"/><path d=\"M 667 264 488 170\" stroke=\"gray\" stroke-width=\"0.3\"/><path d=\"M 54 466 229 381\" stroke=\"gray\" stroke-width=\"0.3\"/><path d=\"M 58 320 229 381\" stroke=\"gray\" stroke-width=\"0.3\"/><path d=\"M 523 20 488 170\" stroke=\"gray\" stroke-width=\"0.3\"/><path d=\"M 146 510 229 381\" stroke=\"gray\" stroke-width=\"0.3\"/><path d=\"M 262 520 229 381\" stroke=\"gray\" stroke-width=\"0.3\"/><path d=\"M 229 381 54 466\" stroke=\"gray\" stroke-width=\"0.3\"/><path d=\"M 229 381 58 320\" stroke=\"gray\" stroke-width=\"0.3\"/><path d=\"M 229 381 146 510\" stroke=\"gray\" stroke-width=\"0.3\"/><path d=\"M 229 381 262 520\" stroke=\"gray\" stroke-width=\"0.3\"/><path d=\"M 229 381 20 394\" stroke=\"gray\" stroke-width=\"0.3\"/><path d=\"M 229 381 488 170\" stroke=\"gray\" stroke-width=\"0.3\"/><path d=\"M 229 381 348 467\" stroke=\"gray\" stroke-width=\"0.3\"/><path d=\"M 20 394 229 381\" stroke=\"gray\" stroke-width=\"0.3\"/><path d=\"M 684 193 488 170\" stroke=\"gray\" stroke-width=\"0.3\"/><path d=\"M 720 127 488 170\" stroke=\"gray\" stroke-width=\"0.3\"/><path d=\"M 488 170 316 99\" stroke=\"gray\" stroke-width=\"0.3\"/><path d=\"M 488 170 401 42\" stroke=\"gray\" stroke-width=\"0.3\"/><path d=\"M 488 170 336 188\" stroke=\"gray\" stroke-width=\"0.3\"/><path d=\"M 488 170 651 56\" stroke=\"gray\" stroke-width=\"0.3\"/><path d=\"M 488 170 540 288\" stroke=\"gray\" stroke-width=\"0.3\"/><path d=\"M 488 170 667 264\" stroke=\"gray\" stroke-width=\"0.3\"/><path d=\"M 488 170 523 20\" stroke=\"gray\" stroke-width=\"0.3\"/><path d=\"M 488 170 229 381\" stroke=\"gray\" stroke-width=\"0.3\"/><path d=\"M 488 170 684 193\" stroke=\"gray\" stroke-width=\"0.3\"/><path d=\"M 488 170 720 127\" stroke=\"gray\" stroke-width=\"0.3\"/><path d=\"M 488 170 554 93\" stroke=\"gray\" stroke-width=\"0.3\"/><path d=\"M 348 467 229 381\" stroke=\"gray\" stroke-width=\"0.3\"/><path d=\"M 554 93 488 170\" stroke=\"gray\" stroke-width=\"0.3\"/><circle cx=\"316\" cy=\"99\" r=\"3.0\" style=\"fill:rgb(58, 76, 192);stroke:black;stroke-width:1.0\"/><circle cx=\"401\" cy=\"42\" r=\"3.0\" style=\"fill:rgb(58, 76, 192);stroke:black;stroke-width:1.0\"/><circle cx=\"336\" cy=\"188\" r=\"3.0\" style=\"fill:rgb(58, 76, 192);stroke:black;stroke-width:1.0\"/><circle cx=\"651\" cy=\"56\" r=\"3.0\" style=\"fill:rgb(58, 76, 192);stroke:black;stroke-width:1.0\"/><circle cx=\"540\" cy=\"288\" r=\"3.0\" style=\"fill:rgb(58, 76, 192);stroke:black;stroke-width:1.0\"/><circle cx=\"667\" cy=\"264\" r=\"3.0\" style=\"fill:rgb(58, 76, 192);stroke:black;stroke-width:1.0\"/><circle cx=\"54\" cy=\"466\" r=\"3.0\" style=\"fill:rgb(58, 76, 192);stroke:black;stroke-width:1.0\"/><circle cx=\"58\" cy=\"320\" r=\"3.0\" style=\"fill:rgb(58, 76, 192);stroke:black;stroke-width:1.0\"/><circle cx=\"523\" cy=\"20\" r=\"3.0\" style=\"fill:rgb(58, 76, 192);stroke:black;stroke-width:1.0\"/><circle cx=\"146\" cy=\"510\" r=\"3.0\" style=\"fill:rgb(58, 76, 192);stroke:black;stroke-width:1.0\"/><circle cx=\"262\" cy=\"520\" r=\"3.0\" style=\"fill:rgb(58, 76, 192);stroke:black;stroke-width:1.0\"/><circle cx=\"229\" cy=\"381\" r=\"3.0\" style=\"fill:rgb(246, 189, 164);stroke:black;stroke-width:1.0\"/><circle cx=\"20\" cy=\"394\" r=\"3.0\" style=\"fill:rgb(58, 76, 192);stroke:black;stroke-width:1.0\"/><circle cx=\"684\" cy=\"193\" r=\"3.0\" style=\"fill:rgb(58, 76, 192);stroke:black;stroke-width:1.0\"/><circle cx=\"720\" cy=\"127\" r=\"3.0\" style=\"fill:rgb(58, 76, 192);stroke:black;stroke-width:1.0\"/><circle cx=\"488\" cy=\"170\" r=\"3.0\" style=\"fill:rgb(179, 3, 38);stroke:black;stroke-width:1.0\"/><circle cx=\"348\" cy=\"467\" r=\"3.0\" style=\"fill:rgb(58, 76, 192);stroke:black;stroke-width:1.0\"/><circle cx=\"554\" cy=\"93\" r=\"3.0\" style=\"fill:rgb(58, 76, 192);stroke:black;stroke-width:1.0\"/><text font-size=\"10\" x=\"322\" y=\"102\">Juli Savioli</text><text font-size=\"10\" x=\"407\" y=\"45\">Alameños de la Sierra</text><text font-size=\"10\" x=\"342\" y=\"191\">Mundo Suave</text><text font-size=\"10\" x=\"657\" y=\"59\">Edicion Especial</text><text font-size=\"10\" x=\"546\" y=\"291\">Nivel</text><text font-size=\"10\" x=\"673\" y=\"267\">Calibre 50</text><text font-size=\"10\" x=\"60\" y=\"469\">Soul Armoniko</text><text font-size=\"10\" x=\"64\" y=\"323\">ayaka</text><text font-size=\"10\" x=\"529\" y=\"23\">Baltorino Beats</text><text font-size=\"10\" x=\"152\" y=\"513\">Freeman HKD</text><text font-size=\"10\" x=\"268\" y=\"523\">Emmasings</text><text font-size=\"10\" x=\"235\" y=\"384\">Chimuanya</text><text font-size=\"10\" x=\"26\" y=\"397\">Ifeoma</text><text font-size=\"10\" x=\"690\" y=\"196\">mario.da.man</text><text font-size=\"10\" x=\"726\" y=\"130\">Ezra Martinez</text><text font-size=\"10\" x=\"494\" y=\"173\">Perfeccion</text><text font-size=\"10\" x=\"354\" y=\"470\">Onolyriks</text><text font-size=\"10\" x=\"560\" y=\"96\">4x3</text></svg>"
      ],
      "text/plain": [
       "<IPython.core.display.SVG object>"
      ]
     },
     "execution_count": 36,
     "metadata": {},
     "output_type": "execute_result"
    }
   ],
   "source": [
    "ego = top_nodes[0]\n",
    "\n",
    "G_ego = nx.ego_graph(G, ego, radius=2)\n",
    "\n",
    "draw_graph(G_ego, show_names=True, node_size=3, edge_width=0.3)"
   ]
  },
  {
   "cell_type": "code",
   "execution_count": 12,
   "id": "32fcd7b3",
   "metadata": {},
   "outputs": [
    {
     "data": {
      "text/plain": [
       "['4x3',\n",
       " 'Alameños de la Sierra',\n",
       " 'Baltorino Beats',\n",
       " 'Calibre 50',\n",
       " 'Chimuanya',\n",
       " 'Edicion Especial',\n",
       " 'Ezra Martinez',\n",
       " 'Juli Savioli',\n",
       " 'Mundo Suave',\n",
       " 'Nivel',\n",
       " 'Perfeccion',\n",
       " 'mario.da.man']"
      ]
     },
     "execution_count": 12,
     "metadata": {},
     "output_type": "execute_result"
    }
   ],
   "source": [
    "# you can look at the nodes in the ego network this way, to find interesting topics\n",
    "\n",
    "nodes = sorted(G_ego.nodes)\n",
    "nodes"
   ]
  },
  {
   "cell_type": "code",
   "execution_count": 13,
   "id": "025314b1",
   "metadata": {},
   "outputs": [
    {
     "data": {
      "image/svg+xml": [
       "<svg height=\"540\" width=\"810.0\" xmlns=\"http://www.w3.org/2000/svg\"><path d=\"M 20 287 361 264\" stroke=\"gray\" stroke-width=\"0.3\"/><path d=\"M 637 103 361 264\" stroke=\"gray\" stroke-width=\"0.3\"/><path d=\"M 284 520 361 264\" stroke=\"gray\" stroke-width=\"0.3\"/><path d=\"M 720 250 361 264\" stroke=\"gray\" stroke-width=\"0.3\"/><path d=\"M 453 20 361 264\" stroke=\"gray\" stroke-width=\"0.3\"/><path d=\"M 73 132 361 264\" stroke=\"gray\" stroke-width=\"0.3\"/><path d=\"M 502 507 361 264\" stroke=\"gray\" stroke-width=\"0.3\"/><path d=\"M 238 30 361 264\" stroke=\"gray\" stroke-width=\"0.3\"/><path d=\"M 668 405 361 264\" stroke=\"gray\" stroke-width=\"0.3\"/><path d=\"M 100 435 361 264\" stroke=\"gray\" stroke-width=\"0.3\"/><path d=\"M 361 264 20 287\" stroke=\"gray\" stroke-width=\"0.3\"/><path d=\"M 361 264 637 103\" stroke=\"gray\" stroke-width=\"0.3\"/><path d=\"M 361 264 284 520\" stroke=\"gray\" stroke-width=\"0.3\"/><path d=\"M 361 264 720 250\" stroke=\"gray\" stroke-width=\"0.3\"/><path d=\"M 361 264 453 20\" stroke=\"gray\" stroke-width=\"0.3\"/><path d=\"M 361 264 73 132\" stroke=\"gray\" stroke-width=\"0.3\"/><path d=\"M 361 264 502 507\" stroke=\"gray\" stroke-width=\"0.3\"/><path d=\"M 361 264 238 30\" stroke=\"gray\" stroke-width=\"0.3\"/><path d=\"M 361 264 668 405\" stroke=\"gray\" stroke-width=\"0.3\"/><path d=\"M 361 264 100 435\" stroke=\"gray\" stroke-width=\"0.3\"/><circle cx=\"20\" cy=\"287\" r=\"3.0\" style=\"fill:rgb(58, 76, 192);stroke:black;stroke-width:1.0\"/><circle cx=\"637\" cy=\"103\" r=\"3.0\" style=\"fill:rgb(58, 76, 192);stroke:black;stroke-width:1.0\"/><circle cx=\"284\" cy=\"520\" r=\"3.0\" style=\"fill:rgb(58, 76, 192);stroke:black;stroke-width:1.0\"/><circle cx=\"720\" cy=\"250\" r=\"3.0\" style=\"fill:rgb(58, 76, 192);stroke:black;stroke-width:1.0\"/><circle cx=\"453\" cy=\"20\" r=\"3.0\" style=\"fill:rgb(58, 76, 192);stroke:black;stroke-width:1.0\"/><circle cx=\"73\" cy=\"132\" r=\"3.0\" style=\"fill:rgb(58, 76, 192);stroke:black;stroke-width:1.0\"/><circle cx=\"502\" cy=\"507\" r=\"3.0\" style=\"fill:rgb(58, 76, 192);stroke:black;stroke-width:1.0\"/><circle cx=\"238\" cy=\"30\" r=\"3.0\" style=\"fill:rgb(58, 76, 192);stroke:black;stroke-width:1.0\"/><circle cx=\"668\" cy=\"405\" r=\"3.0\" style=\"fill:rgb(58, 76, 192);stroke:black;stroke-width:1.0\"/><circle cx=\"100\" cy=\"435\" r=\"3.0\" style=\"fill:rgb(58, 76, 192);stroke:black;stroke-width:1.0\"/><circle cx=\"361\" cy=\"264\" r=\"3.0\" style=\"fill:rgb(179, 3, 38);stroke:black;stroke-width:1.0\"/><text font-size=\"10\" x=\"26\" y=\"290\">Udit Narayan</text><text font-size=\"10\" x=\"643\" y=\"106\">Lone Tusker</text><text font-size=\"10\" x=\"290\" y=\"523\">Wael Jassar</text><text font-size=\"10\" x=\"726\" y=\"253\">Tamrat Desta</text><text font-size=\"10\" x=\"459\" y=\"23\">Ahmed Alshaiba</text><text font-size=\"10\" x=\"79\" y=\"135\">Didi B</text><text font-size=\"10\" x=\"508\" y=\"510\">Khaled</text><text font-size=\"10\" x=\"244\" y=\"33\">angela</text><text font-size=\"10\" x=\"674\" y=\"408\">MD DJ</text><text font-size=\"10\" x=\"106\" y=\"438\">Rassim Touffah</text><text font-size=\"10\" x=\"367\" y=\"267\">Achichiba</text></svg>"
      ],
      "text/plain": [
       "<IPython.core.display.SVG object>"
      ]
     },
     "execution_count": 13,
     "metadata": {},
     "output_type": "execute_result"
    }
   ],
   "source": [
    "ego = top_nodes[1]\n",
    "\n",
    "G_ego = nx.ego_graph(G, ego)\n",
    "\n",
    "draw_graph(G_ego, show_names=True, node_size=3, edge_width=0.3)"
   ]
  },
  {
   "cell_type": "code",
   "execution_count": 14,
   "id": "62f53797",
   "metadata": {},
   "outputs": [
    {
     "data": {
      "image/svg+xml": [
       "<svg height=\"540\" width=\"800.0\" xmlns=\"http://www.w3.org/2000/svg\"><path d=\"M 276 20 375 265\" stroke=\"gray\" stroke-width=\"0.3\"/><path d=\"M 694 155 375 265\" stroke=\"gray\" stroke-width=\"0.3\"/><path d=\"M 519 34 375 265\" stroke=\"gray\" stroke-width=\"0.3\"/><path d=\"M 126 451 375 265\" stroke=\"gray\" stroke-width=\"0.3\"/><path d=\"M 584 468 375 265\" stroke=\"gray\" stroke-width=\"0.3\"/><path d=\"M 77 121 375 265\" stroke=\"gray\" stroke-width=\"0.3\"/><path d=\"M 720 326 375 265\" stroke=\"gray\" stroke-width=\"0.3\"/><path d=\"M 375 265 276 20\" stroke=\"gray\" stroke-width=\"0.3\"/><path d=\"M 375 265 694 155\" stroke=\"gray\" stroke-width=\"0.3\"/><path d=\"M 375 265 519 34\" stroke=\"gray\" stroke-width=\"0.3\"/><path d=\"M 375 265 126 451\" stroke=\"gray\" stroke-width=\"0.3\"/><path d=\"M 375 265 584 468\" stroke=\"gray\" stroke-width=\"0.3\"/><path d=\"M 375 265 77 121\" stroke=\"gray\" stroke-width=\"0.3\"/><path d=\"M 375 265 720 326\" stroke=\"gray\" stroke-width=\"0.3\"/><path d=\"M 375 265 20 293\" stroke=\"gray\" stroke-width=\"0.3\"/><path d=\"M 375 265 350 520\" stroke=\"gray\" stroke-width=\"0.3\"/><path d=\"M 20 293 375 265\" stroke=\"gray\" stroke-width=\"0.3\"/><path d=\"M 350 520 375 265\" stroke=\"gray\" stroke-width=\"0.3\"/><circle cx=\"276\" cy=\"20\" r=\"3.0\" style=\"fill:rgb(58, 76, 192);stroke:black;stroke-width:1.0\"/><circle cx=\"694\" cy=\"155\" r=\"3.0\" style=\"fill:rgb(58, 76, 192);stroke:black;stroke-width:1.0\"/><circle cx=\"519\" cy=\"34\" r=\"3.0\" style=\"fill:rgb(58, 76, 192);stroke:black;stroke-width:1.0\"/><circle cx=\"126\" cy=\"451\" r=\"3.0\" style=\"fill:rgb(58, 76, 192);stroke:black;stroke-width:1.0\"/><circle cx=\"584\" cy=\"468\" r=\"3.0\" style=\"fill:rgb(58, 76, 192);stroke:black;stroke-width:1.0\"/><circle cx=\"77\" cy=\"121\" r=\"3.0\" style=\"fill:rgb(58, 76, 192);stroke:black;stroke-width:1.0\"/><circle cx=\"720\" cy=\"326\" r=\"3.0\" style=\"fill:rgb(58, 76, 192);stroke:black;stroke-width:1.0\"/><circle cx=\"375\" cy=\"265\" r=\"3.0\" style=\"fill:rgb(179, 3, 38);stroke:black;stroke-width:1.0\"/><circle cx=\"20\" cy=\"293\" r=\"3.0\" style=\"fill:rgb(58, 76, 192);stroke:black;stroke-width:1.0\"/><circle cx=\"350\" cy=\"520\" r=\"3.0\" style=\"fill:rgb(58, 76, 192);stroke:black;stroke-width:1.0\"/><text font-size=\"10\" x=\"282\" y=\"23\">Jephy Jay</text><text font-size=\"10\" x=\"700\" y=\"158\">Sheddy Rhmx</text><text font-size=\"10\" x=\"525\" y=\"37\">Umu Obiligbo</text><text font-size=\"10\" x=\"132\" y=\"454\">Marcy WTF</text><text font-size=\"10\" x=\"590\" y=\"471\">Apolosi B</text><text font-size=\"10\" x=\"83\" y=\"124\">Chimuanya</text><text font-size=\"10\" x=\"726\" y=\"329\">DJ Sean K</text><text font-size=\"10\" x=\"381\" y=\"268\">Ifeoma</text><text font-size=\"10\" x=\"26\" y=\"296\">P-Square</text><text font-size=\"10\" x=\"356\" y=\"523\">Tzarboy</text></svg>"
      ],
      "text/plain": [
       "<IPython.core.display.SVG object>"
      ]
     },
     "execution_count": 14,
     "metadata": {},
     "output_type": "execute_result"
    }
   ],
   "source": [
    "ego = top_nodes[2]\n",
    "\n",
    "G_ego = nx.ego_graph(G, ego)\n",
    "\n",
    "draw_graph(G_ego, show_names=True, node_size=3, edge_width=0.3)"
   ]
  },
  {
   "cell_type": "code",
   "execution_count": 15,
   "id": "4c56a973",
   "metadata": {},
   "outputs": [
    {
     "data": {
      "image/svg+xml": [
       "<svg height=\"540\" width=\"875.0\" xmlns=\"http://www.w3.org/2000/svg\"><path d=\"M 20 303 365 261\" stroke=\"gray\" stroke-width=\"0.3\"/><path d=\"M 136 457 365 261\" stroke=\"gray\" stroke-width=\"0.3\"/><path d=\"M 66 128 365 261\" stroke=\"gray\" stroke-width=\"0.3\"/><path d=\"M 365 261 20 303\" stroke=\"gray\" stroke-width=\"0.3\"/><path d=\"M 365 261 136 457\" stroke=\"gray\" stroke-width=\"0.3\"/><path d=\"M 365 261 66 128\" stroke=\"gray\" stroke-width=\"0.3\"/><path d=\"M 365 261 260 20\" stroke=\"gray\" stroke-width=\"0.3\"/><path d=\"M 365 261 362 520\" stroke=\"gray\" stroke-width=\"0.3\"/><path d=\"M 365 261 506 28\" stroke=\"gray\" stroke-width=\"0.3\"/><path d=\"M 365 261 588 459\" stroke=\"gray\" stroke-width=\"0.3\"/><path d=\"M 365 261 720 316\" stroke=\"gray\" stroke-width=\"0.3\"/><path d=\"M 365 261 682 148\" stroke=\"gray\" stroke-width=\"0.3\"/><path d=\"M 260 20 365 261\" stroke=\"gray\" stroke-width=\"0.3\"/><path d=\"M 362 520 365 261\" stroke=\"gray\" stroke-width=\"0.3\"/><path d=\"M 506 28 365 261\" stroke=\"gray\" stroke-width=\"0.3\"/><path d=\"M 588 459 365 261\" stroke=\"gray\" stroke-width=\"0.3\"/><path d=\"M 720 316 365 261\" stroke=\"gray\" stroke-width=\"0.3\"/><path d=\"M 682 148 365 261\" stroke=\"gray\" stroke-width=\"0.3\"/><circle cx=\"20\" cy=\"303\" r=\"3.0\" style=\"fill:rgb(58, 76, 192);stroke:black;stroke-width:1.0\"/><circle cx=\"136\" cy=\"457\" r=\"3.0\" style=\"fill:rgb(58, 76, 192);stroke:black;stroke-width:1.0\"/><circle cx=\"66\" cy=\"128\" r=\"3.0\" style=\"fill:rgb(58, 76, 192);stroke:black;stroke-width:1.0\"/><circle cx=\"365\" cy=\"261\" r=\"3.0\" style=\"fill:rgb(179, 3, 38);stroke:black;stroke-width:1.0\"/><circle cx=\"260\" cy=\"20\" r=\"3.0\" style=\"fill:rgb(58, 76, 192);stroke:black;stroke-width:1.0\"/><circle cx=\"362\" cy=\"520\" r=\"3.0\" style=\"fill:rgb(58, 76, 192);stroke:black;stroke-width:1.0\"/><circle cx=\"506\" cy=\"28\" r=\"3.0\" style=\"fill:rgb(58, 76, 192);stroke:black;stroke-width:1.0\"/><circle cx=\"588\" cy=\"459\" r=\"3.0\" style=\"fill:rgb(58, 76, 192);stroke:black;stroke-width:1.0\"/><circle cx=\"720\" cy=\"316\" r=\"3.0\" style=\"fill:rgb(58, 76, 192);stroke:black;stroke-width:1.0\"/><circle cx=\"682\" cy=\"148\" r=\"3.0\" style=\"fill:rgb(58, 76, 192);stroke:black;stroke-width:1.0\"/><text font-size=\"10\" x=\"26\" y=\"306\">Kewin Cosmos</text><text font-size=\"10\" x=\"142\" y=\"460\">La Mar-K De Tierra Caliente</text><text font-size=\"10\" x=\"72\" y=\"131\">Eduardo XD</text><text font-size=\"10\" x=\"371\" y=\"264\">SIM-CEE</text><text font-size=\"10\" x=\"266\" y=\"23\">Sadao China</text><text font-size=\"10\" x=\"368\" y=\"523\">SiM</text><text font-size=\"10\" x=\"512\" y=\"31\">FINANCE</text><text font-size=\"10\" x=\"594\" y=\"462\">Santa Fe Klan</text><text font-size=\"10\" x=\"726\" y=\"319\">Jay Wheeler</text><text font-size=\"10\" x=\"688\" y=\"151\">Los Chavalos De La Perla</text></svg>"
      ],
      "text/plain": [
       "<IPython.core.display.SVG object>"
      ]
     },
     "execution_count": 15,
     "metadata": {},
     "output_type": "execute_result"
    }
   ],
   "source": [
    "ego = top_nodes[3]\n",
    "\n",
    "G_ego = nx.ego_graph(G, ego)\n",
    "\n",
    "draw_graph(G_ego, show_names=True, node_size=3, edge_width=0.3)"
   ]
  },
  {
   "cell_type": "code",
   "execution_count": 16,
   "id": "7230b1b1",
   "metadata": {},
   "outputs": [
    {
     "data": {
      "image/svg+xml": [
       "<svg height=\"540\" width=\"850.0\" xmlns=\"http://www.w3.org/2000/svg\"><path d=\"M 502 26 373 265\" stroke=\"gray\" stroke-width=\"0.3\"/><path d=\"M 591 466 373 265\" stroke=\"gray\" stroke-width=\"0.3\"/><path d=\"M 266 20 373 265\" stroke=\"gray\" stroke-width=\"0.3\"/><path d=\"M 20 299 373 265\" stroke=\"gray\" stroke-width=\"0.3\"/><path d=\"M 691 143 373 265\" stroke=\"gray\" stroke-width=\"0.3\"/><path d=\"M 361 520 373 265\" stroke=\"gray\" stroke-width=\"0.3\"/><path d=\"M 132 454 373 265\" stroke=\"gray\" stroke-width=\"0.3\"/><path d=\"M 373 265 502 26\" stroke=\"gray\" stroke-width=\"0.3\"/><path d=\"M 373 265 591 466\" stroke=\"gray\" stroke-width=\"0.3\"/><path d=\"M 373 265 266 20\" stroke=\"gray\" stroke-width=\"0.3\"/><path d=\"M 373 265 20 299\" stroke=\"gray\" stroke-width=\"0.3\"/><path d=\"M 373 265 691 143\" stroke=\"gray\" stroke-width=\"0.3\"/><path d=\"M 373 265 361 520\" stroke=\"gray\" stroke-width=\"0.3\"/><path d=\"M 373 265 132 454\" stroke=\"gray\" stroke-width=\"0.3\"/><path d=\"M 373 265 720 317\" stroke=\"gray\" stroke-width=\"0.3\"/><path d=\"M 373 265 70 128\" stroke=\"gray\" stroke-width=\"0.3\"/><path d=\"M 720 317 373 265\" stroke=\"gray\" stroke-width=\"0.3\"/><path d=\"M 70 128 373 265\" stroke=\"gray\" stroke-width=\"0.3\"/><circle cx=\"502\" cy=\"26\" r=\"3.0\" style=\"fill:rgb(58, 76, 192);stroke:black;stroke-width:1.0\"/><circle cx=\"591\" cy=\"466\" r=\"3.0\" style=\"fill:rgb(58, 76, 192);stroke:black;stroke-width:1.0\"/><circle cx=\"266\" cy=\"20\" r=\"3.0\" style=\"fill:rgb(58, 76, 192);stroke:black;stroke-width:1.0\"/><circle cx=\"20\" cy=\"299\" r=\"3.0\" style=\"fill:rgb(58, 76, 192);stroke:black;stroke-width:1.0\"/><circle cx=\"691\" cy=\"143\" r=\"3.0\" style=\"fill:rgb(58, 76, 192);stroke:black;stroke-width:1.0\"/><circle cx=\"361\" cy=\"520\" r=\"3.0\" style=\"fill:rgb(58, 76, 192);stroke:black;stroke-width:1.0\"/><circle cx=\"132\" cy=\"454\" r=\"3.0\" style=\"fill:rgb(58, 76, 192);stroke:black;stroke-width:1.0\"/><circle cx=\"373\" cy=\"265\" r=\"3.0\" style=\"fill:rgb(179, 3, 38);stroke:black;stroke-width:1.0\"/><circle cx=\"720\" cy=\"317\" r=\"3.0\" style=\"fill:rgb(58, 76, 192);stroke:black;stroke-width:1.0\"/><circle cx=\"70\" cy=\"128\" r=\"3.0\" style=\"fill:rgb(58, 76, 192);stroke:black;stroke-width:1.0\"/><text font-size=\"10\" x=\"508\" y=\"29\">Shreya Ghoshal</text><text font-size=\"10\" x=\"597\" y=\"469\">Passenger 10</text><text font-size=\"10\" x=\"272\" y=\"23\">Üst Perde</text><text font-size=\"10\" x=\"26\" y=\"302\">MEL GRANDA</text><text font-size=\"10\" x=\"697\" y=\"146\">natori</text><text font-size=\"10\" x=\"367\" y=\"523\">Amit Trivedi</text><text font-size=\"10\" x=\"138\" y=\"457\">Osmani Garcia &quot;La Voz&quot;</text><text font-size=\"10\" x=\"379\" y=\"268\">OsMan</text><text font-size=\"10\" x=\"726\" y=\"320\">whaledontsleep</text><text font-size=\"10\" x=\"76\" y=\"131\">Osamuraisan</text></svg>"
      ],
      "text/plain": [
       "<IPython.core.display.SVG object>"
      ]
     },
     "execution_count": 16,
     "metadata": {},
     "output_type": "execute_result"
    }
   ],
   "source": [
    "ego = top_nodes[4]\n",
    "\n",
    "G_ego = nx.ego_graph(G, ego)\n",
    "\n",
    "draw_graph(G_ego, show_names=True, node_size=3, edge_width=0.3)"
   ]
  },
  {
   "cell_type": "code",
   "execution_count": 17,
   "id": "a0260ff0",
   "metadata": {},
   "outputs": [
    {
     "data": {
      "image/svg+xml": [
       "<svg height=\"540\" width=\"795.0\" xmlns=\"http://www.w3.org/2000/svg\"><path d=\"M 720 269 365 273\" stroke=\"gray\" stroke-width=\"0.3\"/><path d=\"M 123 447 365 273\" stroke=\"gray\" stroke-width=\"0.3\"/><path d=\"M 371 520 365 273\" stroke=\"gray\" stroke-width=\"0.3\"/><path d=\"M 121 94 365 273\" stroke=\"gray\" stroke-width=\"0.3\"/><path d=\"M 618 446 365 273\" stroke=\"gray\" stroke-width=\"0.3\"/><path d=\"M 368 20 365 273\" stroke=\"gray\" stroke-width=\"0.3\"/><path d=\"M 616 92 365 273\" stroke=\"gray\" stroke-width=\"0.3\"/><path d=\"M 365 273 720 269\" stroke=\"gray\" stroke-width=\"0.3\"/><path d=\"M 365 273 123 447\" stroke=\"gray\" stroke-width=\"0.3\"/><path d=\"M 365 273 371 520\" stroke=\"gray\" stroke-width=\"0.3\"/><path d=\"M 365 273 121 94\" stroke=\"gray\" stroke-width=\"0.3\"/><path d=\"M 365 273 618 446\" stroke=\"gray\" stroke-width=\"0.3\"/><path d=\"M 365 273 368 20\" stroke=\"gray\" stroke-width=\"0.3\"/><path d=\"M 365 273 616 92\" stroke=\"gray\" stroke-width=\"0.3\"/><path d=\"M 365 273 20 271\" stroke=\"gray\" stroke-width=\"0.3\"/><path d=\"M 20 271 365 273\" stroke=\"gray\" stroke-width=\"0.3\"/><circle cx=\"720\" cy=\"269\" r=\"3.0\" style=\"fill:rgb(58, 76, 192);stroke:black;stroke-width:1.0\"/><circle cx=\"123\" cy=\"447\" r=\"3.0\" style=\"fill:rgb(58, 76, 192);stroke:black;stroke-width:1.0\"/><circle cx=\"371\" cy=\"520\" r=\"3.0\" style=\"fill:rgb(58, 76, 192);stroke:black;stroke-width:1.0\"/><circle cx=\"121\" cy=\"94\" r=\"3.0\" style=\"fill:rgb(58, 76, 192);stroke:black;stroke-width:1.0\"/><circle cx=\"618\" cy=\"446\" r=\"3.0\" style=\"fill:rgb(58, 76, 192);stroke:black;stroke-width:1.0\"/><circle cx=\"368\" cy=\"20\" r=\"3.0\" style=\"fill:rgb(58, 76, 192);stroke:black;stroke-width:1.0\"/><circle cx=\"616\" cy=\"92\" r=\"3.0\" style=\"fill:rgb(58, 76, 192);stroke:black;stroke-width:1.0\"/><circle cx=\"365\" cy=\"273\" r=\"3.0\" style=\"fill:rgb(179, 3, 38);stroke:black;stroke-width:1.0\"/><circle cx=\"20\" cy=\"271\" r=\"3.0\" style=\"fill:rgb(58, 76, 192);stroke:black;stroke-width:1.0\"/><text font-size=\"10\" x=\"726\" y=\"272\">Coldplay</text><text font-size=\"10\" x=\"129\" y=\"450\">Matooma</text><text font-size=\"10\" x=\"377\" y=\"523\">Mato</text><text font-size=\"10\" x=\"127\" y=\"97\">Beside Bed</text><text font-size=\"10\" x=\"624\" y=\"449\">HRVY</text><text font-size=\"10\" x=\"374\" y=\"23\">Felix Jaehn</text><text font-size=\"10\" x=\"622\" y=\"95\">Idan Balas</text><text font-size=\"10\" x=\"371\" y=\"276\">Matoma</text><text font-size=\"10\" x=\"26\" y=\"274\">The Vamps</text></svg>"
      ],
      "text/plain": [
       "<IPython.core.display.SVG object>"
      ]
     },
     "execution_count": 17,
     "metadata": {},
     "output_type": "execute_result"
    }
   ],
   "source": [
    "ego = top_nodes[5]\n",
    "\n",
    "G_ego = nx.ego_graph(G, ego)\n",
    "\n",
    "draw_graph(G_ego, show_names=True, node_size=3, edge_width=0.3)"
   ]
  },
  {
   "cell_type": "code",
   "execution_count": 35,
   "id": "90dda4ba",
   "metadata": {},
   "outputs": [
    {
     "data": {
      "image/svg+xml": [
       "<svg height=\"540\" width=\"875.0\" xmlns=\"http://www.w3.org/2000/svg\"><path d=\"M 517 107 525 179\" stroke=\"gray\" stroke-width=\"0.3\"/><path d=\"M 192 330 86 396\" stroke=\"gray\" stroke-width=\"0.3\"/><path d=\"M 192 330 56 359\" stroke=\"gray\" stroke-width=\"0.3\"/><path d=\"M 192 330 387 252\" stroke=\"gray\" stroke-width=\"0.3\"/><path d=\"M 377 209 569 260\" stroke=\"gray\" stroke-width=\"0.3\"/><path d=\"M 377 209 387 252\" stroke=\"gray\" stroke-width=\"0.3\"/><path d=\"M 377 209 172 170\" stroke=\"gray\" stroke-width=\"0.3\"/><path d=\"M 188 469 311 435\" stroke=\"gray\" stroke-width=\"0.3\"/><path d=\"M 225 213 307 247\" stroke=\"gray\" stroke-width=\"0.3\"/><path d=\"M 561 104 506 35\" stroke=\"gray\" stroke-width=\"0.3\"/><path d=\"M 561 104 572 20\" stroke=\"gray\" stroke-width=\"0.3\"/><path d=\"M 561 104 694 93\" stroke=\"gray\" stroke-width=\"0.3\"/><path d=\"M 561 104 387 252\" stroke=\"gray\" stroke-width=\"0.3\"/><path d=\"M 561 104 635 31\" stroke=\"gray\" stroke-width=\"0.3\"/><path d=\"M 561 104 682 56\" stroke=\"gray\" stroke-width=\"0.3\"/><path d=\"M 718 244 569 260\" stroke=\"gray\" stroke-width=\"0.3\"/><path d=\"M 569 260 377 209\" stroke=\"gray\" stroke-width=\"0.3\"/><path d=\"M 569 260 718 244\" stroke=\"gray\" stroke-width=\"0.3\"/><path d=\"M 569 260 720 288\" stroke=\"gray\" stroke-width=\"0.3\"/><path d=\"M 569 260 673 325\" stroke=\"gray\" stroke-width=\"0.3\"/><path d=\"M 569 260 387 252\" stroke=\"gray\" stroke-width=\"0.3\"/><path d=\"M 307 247 225 213\" stroke=\"gray\" stroke-width=\"0.3\"/><path d=\"M 307 247 290 179\" stroke=\"gray\" stroke-width=\"0.3\"/><path d=\"M 307 247 383 295\" stroke=\"gray\" stroke-width=\"0.3\"/><path d=\"M 307 247 387 252\" stroke=\"gray\" stroke-width=\"0.3\"/><path d=\"M 307 247 308 306\" stroke=\"gray\" stroke-width=\"0.3\"/><path d=\"M 26 147 172 170\" stroke=\"gray\" stroke-width=\"0.3\"/><path d=\"M 289 411 311 435\" stroke=\"gray\" stroke-width=\"0.3\"/><path d=\"M 51 118 172 170\" stroke=\"gray\" stroke-width=\"0.3\"/><path d=\"M 290 179 307 247\" stroke=\"gray\" stroke-width=\"0.3\"/><path d=\"M 215 499 311 435\" stroke=\"gray\" stroke-width=\"0.3\"/><path d=\"M 525 179 517 107\" stroke=\"gray\" stroke-width=\"0.3\"/><path d=\"M 525 179 661 170\" stroke=\"gray\" stroke-width=\"0.3\"/><path d=\"M 525 179 387 252\" stroke=\"gray\" stroke-width=\"0.3\"/><path d=\"M 260 520 311 435\" stroke=\"gray\" stroke-width=\"0.3\"/><path d=\"M 86 396 192 330\" stroke=\"gray\" stroke-width=\"0.3\"/><path d=\"M 197 431 311 435\" stroke=\"gray\" stroke-width=\"0.3\"/><path d=\"M 506 35 561 104\" stroke=\"gray\" stroke-width=\"0.3\"/><path d=\"M 411 480 311 435\" stroke=\"gray\" stroke-width=\"0.3\"/><path d=\"M 20 181 172 170\" stroke=\"gray\" stroke-width=\"0.3\"/><path d=\"M 311 435 188 469\" stroke=\"gray\" stroke-width=\"0.3\"/><path d=\"M 311 435 289 411\" stroke=\"gray\" stroke-width=\"0.3\"/><path d=\"M 311 435 215 499\" stroke=\"gray\" stroke-width=\"0.3\"/><path d=\"M 311 435 260 520\" stroke=\"gray\" stroke-width=\"0.3\"/><path d=\"M 311 435 197 431\" stroke=\"gray\" stroke-width=\"0.3\"/><path d=\"M 311 435 411 480\" stroke=\"gray\" stroke-width=\"0.3\"/><path d=\"M 311 435 374 513\" stroke=\"gray\" stroke-width=\"0.3\"/><path d=\"M 311 435 387 252\" stroke=\"gray\" stroke-width=\"0.3\"/><path d=\"M 311 435 317 514\" stroke=\"gray\" stroke-width=\"0.3\"/><path d=\"M 572 20 561 104\" stroke=\"gray\" stroke-width=\"0.3\"/><path d=\"M 661 170 525 179\" stroke=\"gray\" stroke-width=\"0.3\"/><path d=\"M 720 288 569 260\" stroke=\"gray\" stroke-width=\"0.3\"/><path d=\"M 158 95 172 170\" stroke=\"gray\" stroke-width=\"0.3\"/><path d=\"M 56 359 192 330\" stroke=\"gray\" stroke-width=\"0.3\"/><path d=\"M 694 93 561 104\" stroke=\"gray\" stroke-width=\"0.3\"/><path d=\"M 525 284 387 252\" stroke=\"gray\" stroke-width=\"0.3\"/><path d=\"M 525 284 643 288\" stroke=\"gray\" stroke-width=\"0.3\"/><path d=\"M 374 513 311 435\" stroke=\"gray\" stroke-width=\"0.3\"/><path d=\"M 383 295 307 247\" stroke=\"gray\" stroke-width=\"0.3\"/><path d=\"M 673 325 569 260\" stroke=\"gray\" stroke-width=\"0.3\"/><path d=\"M 387 252 192 330\" stroke=\"gray\" stroke-width=\"0.3\"/><path d=\"M 387 252 377 209\" stroke=\"gray\" stroke-width=\"0.3\"/><path d=\"M 387 252 561 104\" stroke=\"gray\" stroke-width=\"0.3\"/><path d=\"M 387 252 569 260\" stroke=\"gray\" stroke-width=\"0.3\"/><path d=\"M 387 252 307 247\" stroke=\"gray\" stroke-width=\"0.3\"/><path d=\"M 387 252 525 179\" stroke=\"gray\" stroke-width=\"0.3\"/><path d=\"M 387 252 311 435\" stroke=\"gray\" stroke-width=\"0.3\"/><path d=\"M 387 252 525 284\" stroke=\"gray\" stroke-width=\"0.3\"/><path d=\"M 387 252 172 170\" stroke=\"gray\" stroke-width=\"0.3\"/><path d=\"M 308 306 307 247\" stroke=\"gray\" stroke-width=\"0.3\"/><path d=\"M 317 514 311 435\" stroke=\"gray\" stroke-width=\"0.3\"/><path d=\"M 96 96 172 170\" stroke=\"gray\" stroke-width=\"0.3\"/><path d=\"M 635 31 561 104\" stroke=\"gray\" stroke-width=\"0.3\"/><path d=\"M 172 170 377 209\" stroke=\"gray\" stroke-width=\"0.3\"/><path d=\"M 172 170 26 147\" stroke=\"gray\" stroke-width=\"0.3\"/><path d=\"M 172 170 51 118\" stroke=\"gray\" stroke-width=\"0.3\"/><path d=\"M 172 170 20 181\" stroke=\"gray\" stroke-width=\"0.3\"/><path d=\"M 172 170 158 95\" stroke=\"gray\" stroke-width=\"0.3\"/><path d=\"M 172 170 387 252\" stroke=\"gray\" stroke-width=\"0.3\"/><path d=\"M 172 170 96 96\" stroke=\"gray\" stroke-width=\"0.3\"/><path d=\"M 172 170 57 207\" stroke=\"gray\" stroke-width=\"0.3\"/><path d=\"M 57 207 172 170\" stroke=\"gray\" stroke-width=\"0.3\"/><path d=\"M 643 288 525 284\" stroke=\"gray\" stroke-width=\"0.3\"/><path d=\"M 682 56 561 104\" stroke=\"gray\" stroke-width=\"0.3\"/><circle cx=\"517\" cy=\"107\" r=\"3.0\" style=\"fill:rgb(60, 79, 195);stroke:black;stroke-width:1.0\"/><circle cx=\"192\" cy=\"330\" r=\"3.0\" style=\"fill:rgb(130, 165, 251);stroke:black;stroke-width:1.0\"/><circle cx=\"377\" cy=\"209\" r=\"3.0\" style=\"fill:rgb(123, 158, 248);stroke:black;stroke-width:1.0\"/><circle cx=\"188\" cy=\"469\" r=\"3.0\" style=\"fill:rgb(60, 79, 195);stroke:black;stroke-width:1.0\"/><circle cx=\"225\" cy=\"213\" r=\"3.0\" style=\"fill:rgb(60, 79, 195);stroke:black;stroke-width:1.0\"/><circle cx=\"561\" cy=\"104\" r=\"3.0\" style=\"fill:rgb(237, 207, 192);stroke:black;stroke-width:1.0\"/><circle cx=\"718\" cy=\"244\" r=\"3.0\" style=\"fill:rgb(58, 76, 192);stroke:black;stroke-width:1.0\"/><circle cx=\"569\" cy=\"260\" r=\"3.0\" style=\"fill:rgb(199, 214, 240);stroke:black;stroke-width:1.0\"/><circle cx=\"307\" cy=\"247\" r=\"3.0\" style=\"fill:rgb(210, 218, 231);stroke:black;stroke-width:1.0\"/><circle cx=\"26\" cy=\"147\" r=\"3.0\" style=\"fill:rgb(58, 76, 192);stroke:black;stroke-width:1.0\"/><circle cx=\"289\" cy=\"411\" r=\"3.0\" style=\"fill:rgb(60, 79, 195);stroke:black;stroke-width:1.0\"/><circle cx=\"51\" cy=\"118\" r=\"3.0\" style=\"fill:rgb(58, 76, 192);stroke:black;stroke-width:1.0\"/><circle cx=\"290\" cy=\"179\" r=\"3.0\" style=\"fill:rgb(60, 79, 195);stroke:black;stroke-width:1.0\"/><circle cx=\"215\" cy=\"499\" r=\"3.0\" style=\"fill:rgb(60, 79, 195);stroke:black;stroke-width:1.0\"/><circle cx=\"525\" cy=\"179\" r=\"3.0\" style=\"fill:rgb(130, 165, 251);stroke:black;stroke-width:1.0\"/><circle cx=\"260\" cy=\"520\" r=\"3.0\" style=\"fill:rgb(60, 79, 195);stroke:black;stroke-width:1.0\"/><circle cx=\"86\" cy=\"396\" r=\"3.0\" style=\"fill:rgb(60, 79, 195);stroke:black;stroke-width:1.0\"/><circle cx=\"197\" cy=\"431\" r=\"3.0\" style=\"fill:rgb(60, 79, 195);stroke:black;stroke-width:1.0\"/><circle cx=\"506\" cy=\"35\" r=\"3.0\" style=\"fill:rgb(60, 79, 195);stroke:black;stroke-width:1.0\"/><circle cx=\"411\" cy=\"480\" r=\"3.0\" style=\"fill:rgb(60, 79, 195);stroke:black;stroke-width:1.0\"/><circle cx=\"20\" cy=\"181\" r=\"3.0\" style=\"fill:rgb(58, 76, 192);stroke:black;stroke-width:1.0\"/><circle cx=\"311\" cy=\"435\" r=\"3.0\" style=\"fill:rgb(207, 70, 61);stroke:black;stroke-width:1.0\"/><circle cx=\"572\" cy=\"20\" r=\"3.0\" style=\"fill:rgb(60, 79, 195);stroke:black;stroke-width:1.0\"/><circle cx=\"661\" cy=\"170\" r=\"3.0\" style=\"fill:rgb(60, 79, 195);stroke:black;stroke-width:1.0\"/><circle cx=\"720\" cy=\"288\" r=\"3.0\" style=\"fill:rgb(58, 76, 192);stroke:black;stroke-width:1.0\"/><circle cx=\"158\" cy=\"95\" r=\"3.0\" style=\"fill:rgb(58, 76, 192);stroke:black;stroke-width:1.0\"/><circle cx=\"56\" cy=\"359\" r=\"3.0\" style=\"fill:rgb(60, 79, 195);stroke:black;stroke-width:1.0\"/><circle cx=\"694\" cy=\"93\" r=\"3.0\" style=\"fill:rgb(60, 79, 195);stroke:black;stroke-width:1.0\"/><circle cx=\"525\" cy=\"284\" r=\"3.0\" style=\"fill:rgb(88, 118, 226);stroke:black;stroke-width:1.0\"/><circle cx=\"374\" cy=\"513\" r=\"3.0\" style=\"fill:rgb(60, 79, 195);stroke:black;stroke-width:1.0\"/><circle cx=\"383\" cy=\"295\" r=\"3.0\" style=\"fill:rgb(60, 79, 195);stroke:black;stroke-width:1.0\"/><circle cx=\"673\" cy=\"325\" r=\"3.0\" style=\"fill:rgb(58, 76, 192);stroke:black;stroke-width:1.0\"/><circle cx=\"387\" cy=\"252\" r=\"3.0\" style=\"fill:rgb(179, 3, 38);stroke:black;stroke-width:1.0\"/><circle cx=\"308\" cy=\"306\" r=\"3.0\" style=\"fill:rgb(60, 79, 195);stroke:black;stroke-width:1.0\"/><circle cx=\"317\" cy=\"514\" r=\"3.0\" style=\"fill:rgb(60, 79, 195);stroke:black;stroke-width:1.0\"/><circle cx=\"96\" cy=\"96\" r=\"3.0\" style=\"fill:rgb(58, 76, 192);stroke:black;stroke-width:1.0\"/><circle cx=\"635\" cy=\"31\" r=\"3.0\" style=\"fill:rgb(60, 79, 195);stroke:black;stroke-width:1.0\"/><circle cx=\"172\" cy=\"170\" r=\"3.0\" style=\"fill:rgb(242, 145, 115);stroke:black;stroke-width:1.0\"/><circle cx=\"57\" cy=\"207\" r=\"3.0\" style=\"fill:rgb(58, 76, 192);stroke:black;stroke-width:1.0\"/><circle cx=\"643\" cy=\"288\" r=\"3.0\" style=\"fill:rgb(60, 79, 195);stroke:black;stroke-width:1.0\"/><circle cx=\"682\" cy=\"56\" r=\"3.0\" style=\"fill:rgb(60, 79, 195);stroke:black;stroke-width:1.0\"/><text font-size=\"10\" x=\"523\" y=\"110\">Eve</text><text font-size=\"10\" x=\"198\" y=\"333\">Sadao Watanabe</text><text font-size=\"10\" x=\"383\" y=\"212\">知名定男</text><text font-size=\"10\" x=\"194\" y=\"472\">Santa Fe Klan</text><text font-size=\"10\" x=\"231\" y=\"216\">Mikel Erentxun</text><text font-size=\"10\" x=\"567\" y=\"107\">Seibun Tokuhara</text><text font-size=\"10\" x=\"724\" y=\"247\">SEKAI NO OWARI</text><text font-size=\"10\" x=\"575\" y=\"263\">Seijin Noborikawa</text><text font-size=\"10\" x=\"313\" y=\"250\">mimiel</text><text font-size=\"10\" x=\"32\" y=\"150\">Kaoru Wada</text><text font-size=\"10\" x=\"295\" y=\"414\">Kewin Cosmos</text><text font-size=\"10\" x=\"57\" y=\"121\">iwamizu</text><text font-size=\"10\" x=\"296\" y=\"182\">LaTorre</text><text font-size=\"10\" x=\"221\" y=\"502\">SiM</text><text font-size=\"10\" x=\"531\" y=\"182\">EVADE FROM 宇宙</text><text font-size=\"10\" x=\"266\" y=\"523\">Jay Wheeler</text><text font-size=\"10\" x=\"92\" y=\"399\">KLIM</text><text font-size=\"10\" x=\"203\" y=\"434\">Los Chavalos De La Perla</text><text font-size=\"10\" x=\"512\" y=\"38\">Taeko Onuki</text><text font-size=\"10\" x=\"417\" y=\"483\">Eduardo XD</text><text font-size=\"10\" x=\"26\" y=\"184\">EXOTIC SKATES</text><text font-size=\"10\" x=\"317\" y=\"438\">SIM-CEE</text><text font-size=\"10\" x=\"578\" y=\"23\">Hideaki Tokunaga</text><text font-size=\"10\" x=\"667\" y=\"173\">removeface</text><text font-size=\"10\" x=\"726\" y=\"291\">Ichiko Aoba</text><text font-size=\"10\" x=\"164\" y=\"98\">Yuuri</text><text font-size=\"10\" x=\"62\" y=\"362\">Twinuzis archive</text><text font-size=\"10\" x=\"700\" y=\"96\">Osamuraisan</text><text font-size=\"10\" x=\"531\" y=\"287\">泰葉</text><text font-size=\"10\" x=\"380\" y=\"516\">La Mar-K De Tierra Caliente</text><text font-size=\"10\" x=\"389\" y=\"298\">MIEL</text><text font-size=\"10\" x=\"679\" y=\"328\">Hiroyuki Sawano</text><text font-size=\"10\" x=\"393\" y=\"255\">Sadao China</text><text font-size=\"10\" x=\"314\" y=\"309\">Mikel Ovalle</text><text font-size=\"10\" x=\"323\" y=\"517\">FINANCE</text><text font-size=\"10\" x=\"102\" y=\"99\">Rinshou Kadekaru</text><text font-size=\"10\" x=\"641\" y=\"34\">WagakkiBand</text><text font-size=\"10\" x=\"178\" y=\"173\">Rinsho Kadekaru</text><text font-size=\"10\" x=\"63\" y=\"210\">Kina Shouei Group</text><text font-size=\"10\" x=\"649\" y=\"291\">Night Tempo</text><text font-size=\"10\" x=\"688\" y=\"59\">Vivid BAD SQUAD</text></svg>"
      ],
      "text/plain": [
       "<IPython.core.display.SVG object>"
      ]
     },
     "execution_count": 35,
     "metadata": {},
     "output_type": "execute_result"
    }
   ],
   "source": [
    "ego = top_nodes[6]\n",
    "\n",
    "G_ego = nx.ego_graph(G, ego, radius=2)\n",
    "\n",
    "draw_graph(G_ego, show_names=True, node_size=3, edge_width=0.3)"
   ]
  },
  {
   "cell_type": "code",
   "execution_count": 19,
   "id": "1322b19e",
   "metadata": {},
   "outputs": [
    {
     "data": {
      "image/svg+xml": [
       "<svg height=\"540\" width=\"825.0\" xmlns=\"http://www.w3.org/2000/svg\"><path d=\"M 522 20 389 265\" stroke=\"gray\" stroke-width=\"0.3\"/><path d=\"M 720 177 389 265\" stroke=\"gray\" stroke-width=\"0.3\"/><path d=\"M 153 247 232 91\" stroke=\"gray\" stroke-width=\"0.3\"/><path d=\"M 153 247 389 265\" stroke=\"gray\" stroke-width=\"0.3\"/><path d=\"M 197 490 389 265\" stroke=\"gray\" stroke-width=\"0.3\"/><path d=\"M 232 91 153 247\" stroke=\"gray\" stroke-width=\"0.3\"/><path d=\"M 232 91 389 265\" stroke=\"gray\" stroke-width=\"0.3\"/><path d=\"M 389 265 522 20\" stroke=\"gray\" stroke-width=\"0.3\"/><path d=\"M 389 265 720 177\" stroke=\"gray\" stroke-width=\"0.3\"/><path d=\"M 389 265 153 247\" stroke=\"gray\" stroke-width=\"0.3\"/><path d=\"M 389 265 197 490\" stroke=\"gray\" stroke-width=\"0.3\"/><path d=\"M 389 265 232 91\" stroke=\"gray\" stroke-width=\"0.3\"/><path d=\"M 389 265 486 520\" stroke=\"gray\" stroke-width=\"0.3\"/><path d=\"M 389 265 20 158\" stroke=\"gray\" stroke-width=\"0.3\"/><path d=\"M 389 265 704 387\" stroke=\"gray\" stroke-width=\"0.3\"/><path d=\"M 486 520 389 265\" stroke=\"gray\" stroke-width=\"0.3\"/><path d=\"M 20 158 389 265\" stroke=\"gray\" stroke-width=\"0.3\"/><path d=\"M 704 387 389 265\" stroke=\"gray\" stroke-width=\"0.3\"/><circle cx=\"522\" cy=\"20\" r=\"3.0\" style=\"fill:rgb(58, 76, 192);stroke:black;stroke-width:1.0\"/><circle cx=\"720\" cy=\"177\" r=\"3.0\" style=\"fill:rgb(58, 76, 192);stroke:black;stroke-width:1.0\"/><circle cx=\"153\" cy=\"247\" r=\"3.0\" style=\"fill:rgb(99, 131, 234);stroke:black;stroke-width:1.0\"/><circle cx=\"197\" cy=\"490\" r=\"3.0\" style=\"fill:rgb(58, 76, 192);stroke:black;stroke-width:1.0\"/><circle cx=\"232\" cy=\"91\" r=\"3.0\" style=\"fill:rgb(99, 131, 234);stroke:black;stroke-width:1.0\"/><circle cx=\"389\" cy=\"265\" r=\"3.0\" style=\"fill:rgb(179, 3, 38);stroke:black;stroke-width:1.0\"/><circle cx=\"486\" cy=\"520\" r=\"3.0\" style=\"fill:rgb(58, 76, 192);stroke:black;stroke-width:1.0\"/><circle cx=\"20\" cy=\"158\" r=\"3.0\" style=\"fill:rgb(58, 76, 192);stroke:black;stroke-width:1.0\"/><circle cx=\"704\" cy=\"387\" r=\"3.0\" style=\"fill:rgb(58, 76, 192);stroke:black;stroke-width:1.0\"/><text font-size=\"10\" x=\"528\" y=\"23\">iwamizu</text><text font-size=\"10\" x=\"726\" y=\"180\">EXOTIC SKATES</text><text font-size=\"10\" x=\"159\" y=\"250\">Sadao China</text><text font-size=\"10\" x=\"203\" y=\"493\">Rinshou Kadekaru</text><text font-size=\"10\" x=\"238\" y=\"94\">知名定男</text><text font-size=\"10\" x=\"395\" y=\"268\">Rinsho Kadekaru</text><text font-size=\"10\" x=\"492\" y=\"523\">Kina Shouei Group</text><text font-size=\"10\" x=\"26\" y=\"161\">Yuuri</text><text font-size=\"10\" x=\"710\" y=\"390\">Kaoru Wada</text></svg>"
      ],
      "text/plain": [
       "<IPython.core.display.SVG object>"
      ]
     },
     "execution_count": 19,
     "metadata": {},
     "output_type": "execute_result"
    }
   ],
   "source": [
    "ego = top_nodes[7]\n",
    "\n",
    "G_ego = nx.ego_graph(G, ego)\n",
    "\n",
    "draw_graph(G_ego, show_names=True, node_size=3, edge_width=0.3)"
   ]
  },
  {
   "cell_type": "code",
   "execution_count": 20,
   "id": "dd7963b3",
   "metadata": {},
   "outputs": [
    {
     "data": {
      "image/svg+xml": [
       "<svg height=\"540\" width=\"810.0\" xmlns=\"http://www.w3.org/2000/svg\"><path d=\"M 379 20 374 288\" stroke=\"gray\" stroke-width=\"0.3\"/><path d=\"M 526 519 374 288\" stroke=\"gray\" stroke-width=\"0.3\"/><path d=\"M 651 123 374 288\" stroke=\"gray\" stroke-width=\"0.3\"/><path d=\"M 374 288 379 20\" stroke=\"gray\" stroke-width=\"0.3\"/><path d=\"M 374 288 526 519\" stroke=\"gray\" stroke-width=\"0.3\"/><path d=\"M 374 288 651 123\" stroke=\"gray\" stroke-width=\"0.3\"/><path d=\"M 374 288 720 343\" stroke=\"gray\" stroke-width=\"0.3\"/><path d=\"M 374 288 20 338\" stroke=\"gray\" stroke-width=\"0.3\"/><path d=\"M 374 288 97 113\" stroke=\"gray\" stroke-width=\"0.3\"/><path d=\"M 374 288 211 520\" stroke=\"gray\" stroke-width=\"0.3\"/><path d=\"M 720 343 374 288\" stroke=\"gray\" stroke-width=\"0.3\"/><path d=\"M 20 338 374 288\" stroke=\"gray\" stroke-width=\"0.3\"/><path d=\"M 97 113 374 288\" stroke=\"gray\" stroke-width=\"0.3\"/><path d=\"M 211 520 374 288\" stroke=\"gray\" stroke-width=\"0.3\"/><circle cx=\"379\" cy=\"20\" r=\"3.0\" style=\"fill:rgb(58, 76, 192);stroke:black;stroke-width:1.0\"/><circle cx=\"526\" cy=\"519\" r=\"3.0\" style=\"fill:rgb(58, 76, 192);stroke:black;stroke-width:1.0\"/><circle cx=\"651\" cy=\"123\" r=\"3.0\" style=\"fill:rgb(58, 76, 192);stroke:black;stroke-width:1.0\"/><circle cx=\"374\" cy=\"288\" r=\"3.0\" style=\"fill:rgb(179, 3, 38);stroke:black;stroke-width:1.0\"/><circle cx=\"720\" cy=\"343\" r=\"3.0\" style=\"fill:rgb(58, 76, 192);stroke:black;stroke-width:1.0\"/><circle cx=\"20\" cy=\"338\" r=\"3.0\" style=\"fill:rgb(58, 76, 192);stroke:black;stroke-width:1.0\"/><circle cx=\"97\" cy=\"113\" r=\"3.0\" style=\"fill:rgb(58, 76, 192);stroke:black;stroke-width:1.0\"/><circle cx=\"211\" cy=\"520\" r=\"3.0\" style=\"fill:rgb(58, 76, 192);stroke:black;stroke-width:1.0\"/><text font-size=\"10\" x=\"385\" y=\"23\">Cameo</text><text font-size=\"10\" x=\"532\" y=\"522\">Soul Asylum</text><text font-size=\"10\" x=\"657\" y=\"126\">Soul ASMR</text><text font-size=\"10\" x=\"380\" y=\"291\">Soul Armoniko</text><text font-size=\"10\" x=\"726\" y=\"346\">Omarion</text><text font-size=\"10\" x=\"26\" y=\"341\">Drmartinezvzla</text><text font-size=\"10\" x=\"103\" y=\"116\">Chimuanya</text><text font-size=\"10\" x=\"217\" y=\"523\">Soul A</text></svg>"
      ],
      "text/plain": [
       "<IPython.core.display.SVG object>"
      ]
     },
     "execution_count": 20,
     "metadata": {},
     "output_type": "execute_result"
    }
   ],
   "source": [
    "ego = top_nodes[8]\n",
    "\n",
    "G_ego = nx.ego_graph(G, ego)\n",
    "\n",
    "draw_graph(G_ego, show_names=True, node_size=3, edge_width=0.3)"
   ]
  },
  {
   "cell_type": "code",
   "execution_count": 21,
   "id": "6cf977b9",
   "metadata": {},
   "outputs": [
    {
     "data": {
      "image/svg+xml": [
       "<svg height=\"540\" width=\"810.0\" xmlns=\"http://www.w3.org/2000/svg\"><path d=\"M 544 48 349 268\" stroke=\"gray\" stroke-width=\"0.3\"/><path d=\"M 349 268 544 48\" stroke=\"gray\" stroke-width=\"0.3\"/><path d=\"M 349 268 670 414\" stroke=\"gray\" stroke-width=\"0.3\"/><path d=\"M 349 268 720 212\" stroke=\"gray\" stroke-width=\"0.3\"/><path d=\"M 349 268 367 520\" stroke=\"gray\" stroke-width=\"0.3\"/><path d=\"M 349 268 23 379\" stroke=\"gray\" stroke-width=\"0.3\"/><path d=\"M 349 268 254 20\" stroke=\"gray\" stroke-width=\"0.3\"/><path d=\"M 349 268 173 475\" stroke=\"gray\" stroke-width=\"0.3\"/><path d=\"M 349 268 20 147\" stroke=\"gray\" stroke-width=\"0.3\"/><path d=\"M 670 414 349 268\" stroke=\"gray\" stroke-width=\"0.3\"/><path d=\"M 720 212 349 268\" stroke=\"gray\" stroke-width=\"0.3\"/><path d=\"M 367 520 349 268\" stroke=\"gray\" stroke-width=\"0.3\"/><path d=\"M 367 520 173 475\" stroke=\"gray\" stroke-width=\"0.3\"/><path d=\"M 23 379 349 268\" stroke=\"gray\" stroke-width=\"0.3\"/><path d=\"M 23 379 173 475\" stroke=\"gray\" stroke-width=\"0.3\"/><path d=\"M 254 20 349 268\" stroke=\"gray\" stroke-width=\"0.3\"/><path d=\"M 173 475 349 268\" stroke=\"gray\" stroke-width=\"0.3\"/><path d=\"M 173 475 367 520\" stroke=\"gray\" stroke-width=\"0.3\"/><path d=\"M 173 475 23 379\" stroke=\"gray\" stroke-width=\"0.3\"/><path d=\"M 20 147 349 268\" stroke=\"gray\" stroke-width=\"0.3\"/><circle cx=\"544\" cy=\"48\" r=\"3.0\" style=\"fill:rgb(58, 76, 192);stroke:black;stroke-width:1.0\"/><circle cx=\"349\" cy=\"268\" r=\"3.0\" style=\"fill:rgb(179, 3, 38);stroke:black;stroke-width:1.0\"/><circle cx=\"670\" cy=\"414\" r=\"3.0\" style=\"fill:rgb(58, 76, 192);stroke:black;stroke-width:1.0\"/><circle cx=\"720\" cy=\"212\" r=\"3.0\" style=\"fill:rgb(58, 76, 192);stroke:black;stroke-width:1.0\"/><circle cx=\"367\" cy=\"520\" r=\"3.0\" style=\"fill:rgb(96, 128, 232);stroke:black;stroke-width:1.0\"/><circle cx=\"23\" cy=\"379\" r=\"3.0\" style=\"fill:rgb(96, 128, 232);stroke:black;stroke-width:1.0\"/><circle cx=\"254\" cy=\"20\" r=\"3.0\" style=\"fill:rgb(58, 76, 192);stroke:black;stroke-width:1.0\"/><circle cx=\"173\" cy=\"475\" r=\"3.0\" style=\"fill:rgb(141, 175, 253);stroke:black;stroke-width:1.0\"/><circle cx=\"20\" cy=\"147\" r=\"3.0\" style=\"fill:rgb(58, 76, 192);stroke:black;stroke-width:1.0\"/><text font-size=\"10\" x=\"550\" y=\"51\">ayaka</text><text font-size=\"10\" x=\"355\" y=\"271\">angela</text><text font-size=\"10\" x=\"676\" y=\"417\">The Lumineers</text><text font-size=\"10\" x=\"726\" y=\"215\">Los Caminantes</text><text font-size=\"10\" x=\"373\" y=\"523\">Becky G</text><text font-size=\"10\" x=\"29\" y=\"382\">Yuridia</text><text font-size=\"10\" x=\"260\" y=\"23\">Flower Face</text><text font-size=\"10\" x=\"179\" y=\"478\">Ángela Aguilar</text><text font-size=\"10\" x=\"26\" y=\"150\">Achichiba</text></svg>"
      ],
      "text/plain": [
       "<IPython.core.display.SVG object>"
      ]
     },
     "execution_count": 21,
     "metadata": {},
     "output_type": "execute_result"
    }
   ],
   "source": [
    "ego = top_nodes[9]\n",
    "\n",
    "G_ego = nx.ego_graph(G, ego)\n",
    "\n",
    "draw_graph(G_ego, show_names=True, node_size=3, edge_width=0.3)"
   ]
  },
  {
   "cell_type": "code",
   "execution_count": 22,
   "id": "ef7164d7",
   "metadata": {},
   "outputs": [
    {
     "data": {
      "image/svg+xml": [
       "<svg height=\"540\" width=\"795.0\" xmlns=\"http://www.w3.org/2000/svg\"><path d=\"M 358 20 361 283\" stroke=\"gray\" stroke-width=\"0.3\"/><path d=\"M 20 347 361 283\" stroke=\"gray\" stroke-width=\"0.3\"/><path d=\"M 361 283 358 20\" stroke=\"gray\" stroke-width=\"0.3\"/><path d=\"M 361 283 20 347\" stroke=\"gray\" stroke-width=\"0.3\"/><path d=\"M 361 283 218 520\" stroke=\"gray\" stroke-width=\"0.3\"/><path d=\"M 361 283 720 326\" stroke=\"gray\" stroke-width=\"0.3\"/><path d=\"M 361 283 537 506\" stroke=\"gray\" stroke-width=\"0.3\"/><path d=\"M 361 283 633 114\" stroke=\"gray\" stroke-width=\"0.3\"/><path d=\"M 361 283 86 119\" stroke=\"gray\" stroke-width=\"0.3\"/><path d=\"M 218 520 361 283\" stroke=\"gray\" stroke-width=\"0.3\"/><path d=\"M 720 326 361 283\" stroke=\"gray\" stroke-width=\"0.3\"/><path d=\"M 537 506 361 283\" stroke=\"gray\" stroke-width=\"0.3\"/><path d=\"M 633 114 361 283\" stroke=\"gray\" stroke-width=\"0.3\"/><path d=\"M 86 119 361 283\" stroke=\"gray\" stroke-width=\"0.3\"/><circle cx=\"358\" cy=\"20\" r=\"3.0\" style=\"fill:rgb(58, 76, 192);stroke:black;stroke-width:1.0\"/><circle cx=\"20\" cy=\"347\" r=\"3.0\" style=\"fill:rgb(58, 76, 192);stroke:black;stroke-width:1.0\"/><circle cx=\"361\" cy=\"283\" r=\"3.0\" style=\"fill:rgb(179, 3, 38);stroke:black;stroke-width:1.0\"/><circle cx=\"218\" cy=\"520\" r=\"3.0\" style=\"fill:rgb(58, 76, 192);stroke:black;stroke-width:1.0\"/><circle cx=\"720\" cy=\"326\" r=\"3.0\" style=\"fill:rgb(58, 76, 192);stroke:black;stroke-width:1.0\"/><circle cx=\"537\" cy=\"506\" r=\"3.0\" style=\"fill:rgb(58, 76, 192);stroke:black;stroke-width:1.0\"/><circle cx=\"633\" cy=\"114\" r=\"3.0\" style=\"fill:rgb(58, 76, 192);stroke:black;stroke-width:1.0\"/><circle cx=\"86\" cy=\"119\" r=\"3.0\" style=\"fill:rgb(58, 76, 192);stroke:black;stroke-width:1.0\"/><text font-size=\"10\" x=\"364\" y=\"23\">Torby Brand</text><text font-size=\"10\" x=\"26\" y=\"350\">Nstens1117</text><text font-size=\"10\" x=\"367\" y=\"286\">xMEIYIN</text><text font-size=\"10\" x=\"224\" y=\"523\">A-Mei Chang</text><text font-size=\"10\" x=\"726\" y=\"329\">Meychan</text><text font-size=\"10\" x=\"543\" y=\"509\">ayaka</text><text font-size=\"10\" x=\"639\" y=\"117\">Vector U</text><text font-size=\"10\" x=\"92\" y=\"122\">Miriamy</text></svg>"
      ],
      "text/plain": [
       "<IPython.core.display.SVG object>"
      ]
     },
     "execution_count": 22,
     "metadata": {},
     "output_type": "execute_result"
    }
   ],
   "source": [
    "ego = top_nodes[10]\n",
    "\n",
    "G_ego = nx.ego_graph(G, ego)\n",
    "\n",
    "draw_graph(G_ego, show_names=True, node_size=3, edge_width=0.3)"
   ]
  },
  {
   "cell_type": "code",
   "execution_count": 23,
   "id": "4eb13cf1",
   "metadata": {},
   "outputs": [
    {
     "data": {
      "image/svg+xml": [
       "<svg height=\"540\" width=\"805.0\" xmlns=\"http://www.w3.org/2000/svg\"><path d=\"M 137 83 388 271\" stroke=\"gray\" stroke-width=\"0.3\"/><path d=\"M 491 520 388 271\" stroke=\"gray\" stroke-width=\"0.3\"/><path d=\"M 720 365 388 271\" stroke=\"gray\" stroke-width=\"0.3\"/><path d=\"M 20 292 388 271\" stroke=\"gray\" stroke-width=\"0.3\"/><path d=\"M 388 271 137 83\" stroke=\"gray\" stroke-width=\"0.3\"/><path d=\"M 388 271 491 520\" stroke=\"gray\" stroke-width=\"0.3\"/><path d=\"M 388 271 720 365\" stroke=\"gray\" stroke-width=\"0.3\"/><path d=\"M 388 271 20 292\" stroke=\"gray\" stroke-width=\"0.3\"/><path d=\"M 388 271 436 20\" stroke=\"gray\" stroke-width=\"0.3\"/><path d=\"M 388 271 177 488\" stroke=\"gray\" stroke-width=\"0.3\"/><path d=\"M 388 271 694 145\" stroke=\"gray\" stroke-width=\"0.3\"/><path d=\"M 436 20 388 271\" stroke=\"gray\" stroke-width=\"0.3\"/><path d=\"M 177 488 388 271\" stroke=\"gray\" stroke-width=\"0.3\"/><path d=\"M 694 145 388 271\" stroke=\"gray\" stroke-width=\"0.3\"/><circle cx=\"137\" cy=\"83\" r=\"3.0\" style=\"fill:rgb(58, 76, 192);stroke:black;stroke-width:1.0\"/><circle cx=\"491\" cy=\"520\" r=\"3.0\" style=\"fill:rgb(58, 76, 192);stroke:black;stroke-width:1.0\"/><circle cx=\"720\" cy=\"365\" r=\"3.0\" style=\"fill:rgb(58, 76, 192);stroke:black;stroke-width:1.0\"/><circle cx=\"20\" cy=\"292\" r=\"3.0\" style=\"fill:rgb(58, 76, 192);stroke:black;stroke-width:1.0\"/><circle cx=\"388\" cy=\"271\" r=\"3.0\" style=\"fill:rgb(179, 3, 38);stroke:black;stroke-width:1.0\"/><circle cx=\"436\" cy=\"20\" r=\"3.0\" style=\"fill:rgb(58, 76, 192);stroke:black;stroke-width:1.0\"/><circle cx=\"177\" cy=\"488\" r=\"3.0\" style=\"fill:rgb(58, 76, 192);stroke:black;stroke-width:1.0\"/><circle cx=\"694\" cy=\"145\" r=\"3.0\" style=\"fill:rgb(58, 76, 192);stroke:black;stroke-width:1.0\"/><text font-size=\"10\" x=\"143\" y=\"86\">Soul Armoniko</text><text font-size=\"10\" x=\"497\" y=\"523\">ayaka</text><text font-size=\"10\" x=\"726\" y=\"368\">Freeman HKD</text><text font-size=\"10\" x=\"26\" y=\"295\">Emmasings</text><text font-size=\"10\" x=\"394\" y=\"274\">Chimuanya</text><text font-size=\"10\" x=\"442\" y=\"23\">Ifeoma</text><text font-size=\"10\" x=\"183\" y=\"491\">Perfeccion</text><text font-size=\"10\" x=\"700\" y=\"148\">Onolyriks</text></svg>"
      ],
      "text/plain": [
       "<IPython.core.display.SVG object>"
      ]
     },
     "execution_count": 23,
     "metadata": {},
     "output_type": "execute_result"
    }
   ],
   "source": [
    "ego = top_nodes[11]\n",
    "\n",
    "G_ego = nx.ego_graph(G, ego)\n",
    "\n",
    "draw_graph(G_ego, show_names=True, node_size=3, edge_width=0.3)"
   ]
  },
  {
   "cell_type": "code",
   "execution_count": 24,
   "id": "ee577df8",
   "metadata": {},
   "outputs": [
    {
     "data": {
      "image/svg+xml": [
       "<svg height=\"540\" width=\"980.0\" xmlns=\"http://www.w3.org/2000/svg\"><path d=\"M 720 196 369 270\" stroke=\"gray\" stroke-width=\"0.3\"/><path d=\"M 454 20 369 270\" stroke=\"gray\" stroke-width=\"0.3\"/><path d=\"M 20 342 369 270\" stroke=\"gray\" stroke-width=\"0.3\"/><path d=\"M 285 520 369 270\" stroke=\"gray\" stroke-width=\"0.3\"/><path d=\"M 369 270 720 196\" stroke=\"gray\" stroke-width=\"0.3\"/><path d=\"M 369 270 454 20\" stroke=\"gray\" stroke-width=\"0.3\"/><path d=\"M 369 270 20 342\" stroke=\"gray\" stroke-width=\"0.3\"/><path d=\"M 369 270 285 520\" stroke=\"gray\" stroke-width=\"0.3\"/><path d=\"M 369 270 635 446\" stroke=\"gray\" stroke-width=\"0.3\"/><path d=\"M 369 270 105 93\" stroke=\"gray\" stroke-width=\"0.3\"/><path d=\"M 635 446 369 270\" stroke=\"gray\" stroke-width=\"0.3\"/><path d=\"M 105 93 369 270\" stroke=\"gray\" stroke-width=\"0.3\"/><circle cx=\"720\" cy=\"196\" r=\"3.0\" style=\"fill:rgb(58, 76, 192);stroke:black;stroke-width:1.0\"/><circle cx=\"454\" cy=\"20\" r=\"3.0\" style=\"fill:rgb(58, 76, 192);stroke:black;stroke-width:1.0\"/><circle cx=\"20\" cy=\"342\" r=\"3.0\" style=\"fill:rgb(58, 76, 192);stroke:black;stroke-width:1.0\"/><circle cx=\"285\" cy=\"520\" r=\"3.0\" style=\"fill:rgb(58, 76, 192);stroke:black;stroke-width:1.0\"/><circle cx=\"369\" cy=\"270\" r=\"3.0\" style=\"fill:rgb(179, 3, 38);stroke:black;stroke-width:1.0\"/><circle cx=\"635\" cy=\"446\" r=\"3.0\" style=\"fill:rgb(58, 76, 192);stroke:black;stroke-width:1.0\"/><circle cx=\"105\" cy=\"93\" r=\"3.0\" style=\"fill:rgb(58, 76, 192);stroke:black;stroke-width:1.0\"/><text font-size=\"10\" x=\"726\" y=\"199\">Pedro Infante y la Rondalla del Amor de Saltillo</text><text font-size=\"10\" x=\"460\" y=\"23\">Vargas de Tecalitlan</text><text font-size=\"10\" x=\"26\" y=\"345\">PEDRO SAMPAIO</text><text font-size=\"10\" x=\"291\" y=\"523\">Pedrina</text><text font-size=\"10\" x=\"375\" y=\"273\">pedrolina.</text><text font-size=\"10\" x=\"641\" y=\"449\">Mc Livinho</text><text font-size=\"10\" x=\"111\" y=\"96\">Osamuraisan</text></svg>"
      ],
      "text/plain": [
       "<IPython.core.display.SVG object>"
      ]
     },
     "execution_count": 24,
     "metadata": {},
     "output_type": "execute_result"
    }
   ],
   "source": [
    "ego = top_nodes[12]\n",
    "\n",
    "G_ego = nx.ego_graph(G, ego)\n",
    "\n",
    "draw_graph(G_ego, show_names=True, node_size=3, edge_width=0.3)"
   ]
  },
  {
   "cell_type": "code",
   "execution_count": 25,
   "id": "ac1d528b",
   "metadata": {},
   "outputs": [
    {
     "data": {
      "image/svg+xml": [
       "<svg height=\"540\" width=\"830.0\" xmlns=\"http://www.w3.org/2000/svg\"><path d=\"M 433 520 372 268\" stroke=\"gray\" stroke-width=\"0.3\"/><path d=\"M 20 180 372 268\" stroke=\"gray\" stroke-width=\"0.3\"/><path d=\"M 720 357 372 268\" stroke=\"gray\" stroke-width=\"0.3\"/><path d=\"M 88 431 372 268\" stroke=\"gray\" stroke-width=\"0.3\"/><path d=\"M 310 20 372 268\" stroke=\"gray\" stroke-width=\"0.3\"/><path d=\"M 372 268 433 520\" stroke=\"gray\" stroke-width=\"0.3\"/><path d=\"M 372 268 20 180\" stroke=\"gray\" stroke-width=\"0.3\"/><path d=\"M 372 268 720 357\" stroke=\"gray\" stroke-width=\"0.3\"/><path d=\"M 372 268 88 431\" stroke=\"gray\" stroke-width=\"0.3\"/><path d=\"M 372 268 310 20\" stroke=\"gray\" stroke-width=\"0.3\"/><path d=\"M 372 268 665 108\" stroke=\"gray\" stroke-width=\"0.3\"/><path d=\"M 665 108 372 268\" stroke=\"gray\" stroke-width=\"0.3\"/><circle cx=\"433\" cy=\"520\" r=\"3.0\" style=\"fill:rgb(58, 76, 192);stroke:black;stroke-width:1.0\"/><circle cx=\"20\" cy=\"180\" r=\"3.0\" style=\"fill:rgb(58, 76, 192);stroke:black;stroke-width:1.0\"/><circle cx=\"720\" cy=\"357\" r=\"3.0\" style=\"fill:rgb(58, 76, 192);stroke:black;stroke-width:1.0\"/><circle cx=\"88\" cy=\"431\" r=\"3.0\" style=\"fill:rgb(58, 76, 192);stroke:black;stroke-width:1.0\"/><circle cx=\"310\" cy=\"20\" r=\"3.0\" style=\"fill:rgb(58, 76, 192);stroke:black;stroke-width:1.0\"/><circle cx=\"372\" cy=\"268\" r=\"3.0\" style=\"fill:rgb(179, 3, 38);stroke:black;stroke-width:1.0\"/><circle cx=\"665\" cy=\"108\" r=\"3.0\" style=\"fill:rgb(58, 76, 192);stroke:black;stroke-width:1.0\"/><text font-size=\"10\" x=\"439\" y=\"523\">Falling In Reverse</text><text font-size=\"10\" x=\"26\" y=\"183\">Escape the Fate</text><text font-size=\"10\" x=\"726\" y=\"360\">Metallica</text><text font-size=\"10\" x=\"94\" y=\"434\">Arch Enemy</text><text font-size=\"10\" x=\"316\" y=\"23\">Lilrb</text><text font-size=\"10\" x=\"378\" y=\"271\">Myaap</text><text font-size=\"10\" x=\"671\" y=\"111\">Donell Jones</text></svg>"
      ],
      "text/plain": [
       "<IPython.core.display.SVG object>"
      ]
     },
     "execution_count": 25,
     "metadata": {},
     "output_type": "execute_result"
    }
   ],
   "source": [
    "ego = top_nodes[13]\n",
    "\n",
    "G_ego = nx.ego_graph(G, ego)\n",
    "\n",
    "draw_graph(G_ego, show_names=True, node_size=3, edge_width=0.3)"
   ]
  },
  {
   "cell_type": "code",
   "execution_count": 34,
   "id": "e670aa2c",
   "metadata": {},
   "outputs": [
    {
     "data": {
      "image/svg+xml": [
       "<svg height=\"540\" width=\"835.0\" xmlns=\"http://www.w3.org/2000/svg\"><path d=\"M 319 264 372 306\" stroke=\"gray\" stroke-width=\"0.3\"/><path d=\"M 646 494 598 427\" stroke=\"gray\" stroke-width=\"0.3\"/><path d=\"M 40 344 92 296\" stroke=\"gray\" stroke-width=\"0.3\"/><path d=\"M 155 376 217 331\" stroke=\"gray\" stroke-width=\"0.3\"/><path d=\"M 318 368 274 417\" stroke=\"gray\" stroke-width=\"0.3\"/><path d=\"M 318 368 372 306\" stroke=\"gray\" stroke-width=\"0.3\"/><path d=\"M 34 250 92 296\" stroke=\"gray\" stroke-width=\"0.3\"/><path d=\"M 495 520 539 450\" stroke=\"gray\" stroke-width=\"0.3\"/><path d=\"M 75 229 92 296\" stroke=\"gray\" stroke-width=\"0.3\"/><path d=\"M 546 304 495 345\" stroke=\"gray\" stroke-width=\"0.3\"/><path d=\"M 358 247 372 306\" stroke=\"gray\" stroke-width=\"0.3\"/><path d=\"M 484 101 504 20\" stroke=\"gray\" stroke-width=\"0.3\"/><path d=\"M 484 101 459 210\" stroke=\"gray\" stroke-width=\"0.3\"/><path d=\"M 484 101 468 137\" stroke=\"gray\" stroke-width=\"0.3\"/><path d=\"M 544 414 495 345\" stroke=\"gray\" stroke-width=\"0.3\"/><path d=\"M 706 188 648 247\" stroke=\"gray\" stroke-width=\"0.3\"/><path d=\"M 598 427 646 494\" stroke=\"gray\" stroke-width=\"0.3\"/><path d=\"M 598 427 539 450\" stroke=\"gray\" stroke-width=\"0.3\"/><path d=\"M 598 427 543 348\" stroke=\"gray\" stroke-width=\"0.3\"/><path d=\"M 598 427 591 387\" stroke=\"gray\" stroke-width=\"0.3\"/><path d=\"M 598 427 618 376\" stroke=\"gray\" stroke-width=\"0.3\"/><path d=\"M 395 132 459 210\" stroke=\"gray\" stroke-width=\"0.3\"/><path d=\"M 395 132 342 78\" stroke=\"gray\" stroke-width=\"0.3\"/><path d=\"M 161 326 217 331\" stroke=\"gray\" stroke-width=\"0.3\"/><path d=\"M 478 309 495 345\" stroke=\"gray\" stroke-width=\"0.3\"/><path d=\"M 504 20 484 101\" stroke=\"gray\" stroke-width=\"0.3\"/><path d=\"M 459 210 484 101\" stroke=\"gray\" stroke-width=\"0.3\"/><path d=\"M 459 210 395 132\" stroke=\"gray\" stroke-width=\"0.3\"/><path d=\"M 459 210 372 306\" stroke=\"gray\" stroke-width=\"0.3\"/><path d=\"M 459 210 495 345\" stroke=\"gray\" stroke-width=\"0.3\"/><path d=\"M 459 210 548 174\" stroke=\"gray\" stroke-width=\"0.3\"/><path d=\"M 459 210 468 137\" stroke=\"gray\" stroke-width=\"0.3\"/><path d=\"M 648 247 706 188\" stroke=\"gray\" stroke-width=\"0.3\"/><path d=\"M 648 247 672 164\" stroke=\"gray\" stroke-width=\"0.3\"/><path d=\"M 648 247 543 348\" stroke=\"gray\" stroke-width=\"0.3\"/><path d=\"M 648 247 720 243\" stroke=\"gray\" stroke-width=\"0.3\"/><path d=\"M 217 331 155 376\" stroke=\"gray\" stroke-width=\"0.3\"/><path d=\"M 217 331 161 326\" stroke=\"gray\" stroke-width=\"0.3\"/><path d=\"M 217 331 185 407\" stroke=\"gray\" stroke-width=\"0.3\"/><path d=\"M 217 331 372 306\" stroke=\"gray\" stroke-width=\"0.3\"/><path d=\"M 217 331 92 296\" stroke=\"gray\" stroke-width=\"0.3\"/><path d=\"M 217 331 286 322\" stroke=\"gray\" stroke-width=\"0.3\"/><path d=\"M 274 417 318 368\" stroke=\"gray\" stroke-width=\"0.3\"/><path d=\"M 539 450 495 520\" stroke=\"gray\" stroke-width=\"0.3\"/><path d=\"M 539 450 598 427\" stroke=\"gray\" stroke-width=\"0.3\"/><path d=\"M 539 450 543 348\" stroke=\"gray\" stroke-width=\"0.3\"/><path d=\"M 672 164 648 247\" stroke=\"gray\" stroke-width=\"0.3\"/><path d=\"M 463 415 495 345\" stroke=\"gray\" stroke-width=\"0.3\"/><path d=\"M 543 348 598 427\" stroke=\"gray\" stroke-width=\"0.3\"/><path d=\"M 543 348 648 247\" stroke=\"gray\" stroke-width=\"0.3\"/><path d=\"M 543 348 539 450\" stroke=\"gray\" stroke-width=\"0.3\"/><path d=\"M 543 348 591 387\" stroke=\"gray\" stroke-width=\"0.3\"/><path d=\"M 543 348 372 306\" stroke=\"gray\" stroke-width=\"0.3\"/><path d=\"M 543 348 618 376\" stroke=\"gray\" stroke-width=\"0.3\"/><path d=\"M 185 407 217 331\" stroke=\"gray\" stroke-width=\"0.3\"/><path d=\"M 591 387 598 427\" stroke=\"gray\" stroke-width=\"0.3\"/><path d=\"M 591 387 543 348\" stroke=\"gray\" stroke-width=\"0.3\"/><path d=\"M 720 243 648 247\" stroke=\"gray\" stroke-width=\"0.3\"/><path d=\"M 372 306 319 264\" stroke=\"gray\" stroke-width=\"0.3\"/><path d=\"M 372 306 318 368\" stroke=\"gray\" stroke-width=\"0.3\"/><path d=\"M 372 306 358 247\" stroke=\"gray\" stroke-width=\"0.3\"/><path d=\"M 372 306 459 210\" stroke=\"gray\" stroke-width=\"0.3\"/><path d=\"M 372 306 217 331\" stroke=\"gray\" stroke-width=\"0.3\"/><path d=\"M 372 306 543 348\" stroke=\"gray\" stroke-width=\"0.3\"/><path d=\"M 372 306 286 322\" stroke=\"gray\" stroke-width=\"0.3\"/><path d=\"M 495 345 546 304\" stroke=\"gray\" stroke-width=\"0.3\"/><path d=\"M 495 345 544 414\" stroke=\"gray\" stroke-width=\"0.3\"/><path d=\"M 495 345 478 309\" stroke=\"gray\" stroke-width=\"0.3\"/><path d=\"M 495 345 459 210\" stroke=\"gray\" stroke-width=\"0.3\"/><path d=\"M 495 345 463 415\" stroke=\"gray\" stroke-width=\"0.3\"/><path d=\"M 495 345 497 438\" stroke=\"gray\" stroke-width=\"0.3\"/><path d=\"M 20 300 92 296\" stroke=\"gray\" stroke-width=\"0.3\"/><path d=\"M 497 438 495 345\" stroke=\"gray\" stroke-width=\"0.3\"/><path d=\"M 618 376 598 427\" stroke=\"gray\" stroke-width=\"0.3\"/><path d=\"M 618 376 543 348\" stroke=\"gray\" stroke-width=\"0.3\"/><path d=\"M 618 155 548 174\" stroke=\"gray\" stroke-width=\"0.3\"/><path d=\"M 548 174 459 210\" stroke=\"gray\" stroke-width=\"0.3\"/><path d=\"M 548 174 618 155\" stroke=\"gray\" stroke-width=\"0.3\"/><path d=\"M 468 137 484 101\" stroke=\"gray\" stroke-width=\"0.3\"/><path d=\"M 468 137 459 210\" stroke=\"gray\" stroke-width=\"0.3\"/><path d=\"M 92 296 40 344\" stroke=\"gray\" stroke-width=\"0.3\"/><path d=\"M 92 296 34 250\" stroke=\"gray\" stroke-width=\"0.3\"/><path d=\"M 92 296 75 229\" stroke=\"gray\" stroke-width=\"0.3\"/><path d=\"M 92 296 217 331\" stroke=\"gray\" stroke-width=\"0.3\"/><path d=\"M 92 296 20 300\" stroke=\"gray\" stroke-width=\"0.3\"/><path d=\"M 286 322 217 331\" stroke=\"gray\" stroke-width=\"0.3\"/><path d=\"M 286 322 372 306\" stroke=\"gray\" stroke-width=\"0.3\"/><path d=\"M 342 78 395 132\" stroke=\"gray\" stroke-width=\"0.3\"/><circle cx=\"319\" cy=\"264\" r=\"3.0\" style=\"fill:rgb(60, 79, 195);stroke:black;stroke-width:1.0\"/><circle cx=\"646\" cy=\"494\" r=\"3.0\" style=\"fill:rgb(58, 76, 192);stroke:black;stroke-width:1.0\"/><circle cx=\"40\" cy=\"344\" r=\"3.0\" style=\"fill:rgb(72, 96, 209);stroke:black;stroke-width:1.0\"/><circle cx=\"155\" cy=\"376\" r=\"3.0\" style=\"fill:rgb(64, 84, 199);stroke:black;stroke-width:1.0\"/><circle cx=\"318\" cy=\"368\" r=\"3.0\" style=\"fill:rgb(130, 165, 251);stroke:black;stroke-width:1.0\"/><circle cx=\"34\" cy=\"250\" r=\"3.0\" style=\"fill:rgb(72, 96, 209);stroke:black;stroke-width:1.0\"/><circle cx=\"495\" cy=\"520\" r=\"3.0\" style=\"fill:rgb(60, 79, 195);stroke:black;stroke-width:1.0\"/><circle cx=\"75\" cy=\"229\" r=\"3.0\" style=\"fill:rgb(72, 96, 209);stroke:black;stroke-width:1.0\"/><circle cx=\"546\" cy=\"304\" r=\"3.0\" style=\"fill:rgb(72, 96, 209);stroke:black;stroke-width:1.0\"/><circle cx=\"358\" cy=\"247\" r=\"3.0\" style=\"fill:rgb(60, 79, 195);stroke:black;stroke-width:1.0\"/><circle cx=\"484\" cy=\"101\" r=\"3.0\" style=\"fill:rgb(180, 205, 250);stroke:black;stroke-width:1.0\"/><circle cx=\"544\" cy=\"414\" r=\"3.0\" style=\"fill:rgb(72, 96, 209);stroke:black;stroke-width:1.0\"/><circle cx=\"706\" cy=\"188\" r=\"3.0\" style=\"fill:rgb(70, 93, 207);stroke:black;stroke-width:1.0\"/><circle cx=\"598\" cy=\"427\" r=\"3.0\" style=\"fill:rgb(242, 200, 179);stroke:black;stroke-width:1.0\"/><circle cx=\"395\" cy=\"132\" r=\"3.0\" style=\"fill:rgb(127, 162, 250);stroke:black;stroke-width:1.0\"/><circle cx=\"161\" cy=\"326\" r=\"3.0\" style=\"fill:rgb(64, 84, 199);stroke:black;stroke-width:1.0\"/><circle cx=\"478\" cy=\"309\" r=\"3.0\" style=\"fill:rgb(72, 96, 209);stroke:black;stroke-width:1.0\"/><circle cx=\"504\" cy=\"20\" r=\"3.0\" style=\"fill:rgb(64, 84, 199);stroke:black;stroke-width:1.0\"/><circle cx=\"459\" cy=\"210\" r=\"3.0\" style=\"fill:rgb(205, 66, 58);stroke:black;stroke-width:1.0\"/><circle cx=\"648\" cy=\"247\" r=\"3.0\" style=\"fill:rgb(237, 207, 192);stroke:black;stroke-width:1.0\"/><circle cx=\"217\" cy=\"331\" r=\"3.0\" style=\"fill:rgb(197, 50, 51);stroke:black;stroke-width:1.0\"/><circle cx=\"274\" cy=\"417\" r=\"3.0\" style=\"fill:rgb(66, 88, 202);stroke:black;stroke-width:1.0\"/><circle cx=\"539\" cy=\"450\" r=\"3.0\" style=\"fill:rgb(163, 193, 254);stroke:black;stroke-width:1.0\"/><circle cx=\"672\" cy=\"164\" r=\"3.0\" style=\"fill:rgb(70, 93, 207);stroke:black;stroke-width:1.0\"/><circle cx=\"463\" cy=\"415\" r=\"3.0\" style=\"fill:rgb(72, 96, 209);stroke:black;stroke-width:1.0\"/><circle cx=\"543\" cy=\"348\" r=\"3.0\" style=\"fill:rgb(240, 141, 111);stroke:black;stroke-width:1.0\"/><circle cx=\"185\" cy=\"407\" r=\"3.0\" style=\"fill:rgb(64, 84, 199);stroke:black;stroke-width:1.0\"/><circle cx=\"591\" cy=\"387\" r=\"3.0\" style=\"fill:rgb(99, 131, 234);stroke:black;stroke-width:1.0\"/><circle cx=\"720\" cy=\"243\" r=\"3.0\" style=\"fill:rgb(70, 93, 207);stroke:black;stroke-width:1.0\"/><circle cx=\"372\" cy=\"306\" r=\"3.0\" style=\"fill:rgb(179, 3, 38);stroke:black;stroke-width:1.0\"/><circle cx=\"495\" cy=\"345\" r=\"3.0\" style=\"fill:rgb(190, 35, 45);stroke:black;stroke-width:1.0\"/><circle cx=\"20\" cy=\"300\" r=\"3.0\" style=\"fill:rgb(72, 96, 209);stroke:black;stroke-width:1.0\"/><circle cx=\"497\" cy=\"438\" r=\"3.0\" style=\"fill:rgb(72, 96, 209);stroke:black;stroke-width:1.0\"/><circle cx=\"618\" cy=\"376\" r=\"3.0\" style=\"fill:rgb(99, 131, 234);stroke:black;stroke-width:1.0\"/><circle cx=\"618\" cy=\"155\" r=\"3.0\" style=\"fill:rgb(72, 96, 209);stroke:black;stroke-width:1.0\"/><circle cx=\"548\" cy=\"174\" r=\"3.0\" style=\"fill:rgb(127, 162, 250);stroke:black;stroke-width:1.0\"/><circle cx=\"468\" cy=\"137\" r=\"3.0\" style=\"fill:rgb(112, 147, 243);stroke:black;stroke-width:1.0\"/><circle cx=\"92\" cy=\"296\" r=\"3.0\" style=\"fill:rgb(231, 117, 92);stroke:black;stroke-width:1.0\"/><circle cx=\"286\" cy=\"322\" r=\"3.0\" style=\"fill:rgb(112, 147, 243);stroke:black;stroke-width:1.0\"/><circle cx=\"342\" cy=\"78\" r=\"3.0\" style=\"fill:rgb(72, 96, 209);stroke:black;stroke-width:1.0\"/><text font-size=\"10\" x=\"325\" y=\"267\">Louis Armstrong</text><text font-size=\"10\" x=\"652\" y=\"497\">Mike WiLL Made-It</text><text font-size=\"10\" x=\"46\" y=\"347\">Happy Rattan</text><text font-size=\"10\" x=\"161\" y=\"379\">Devilish Trio</text><text font-size=\"10\" x=\"324\" y=\"371\">Alex G</text><text font-size=\"10\" x=\"40\" y=\"253\">Leon Paul-Phillips</text><text font-size=\"10\" x=\"501\" y=\"523\">Rittz</text><text font-size=\"10\" x=\"81\" y=\"232\">Guru</text><text font-size=\"10\" x=\"552\" y=\"307\">Arch Enemy</text><text font-size=\"10\" x=\"364\" y=\"250\">Henry Smith</text><text font-size=\"10\" x=\"490\" y=\"104\">Drake</text><text font-size=\"10\" x=\"550\" y=\"417\">Falling In Reverse</text><text font-size=\"10\" x=\"712\" y=\"191\">NONT TANONT</text><text font-size=\"10\" x=\"604\" y=\"430\">mike.</text><text font-size=\"10\" x=\"401\" y=\"135\">Nelly</text><text font-size=\"10\" x=\"167\" y=\"329\">サザンオールスターズ</text><text font-size=\"10\" x=\"484\" y=\"312\">Metallica</text><text font-size=\"10\" x=\"510\" y=\"23\">Travis Scott</text><text font-size=\"10\" x=\"465\" y=\"213\">Lilrb</text><text font-size=\"10\" x=\"654\" y=\"250\">Niontay</text><text font-size=\"10\" x=\"223\" y=\"334\">SOUTHERN ALL STARS</text><text font-size=\"10\" x=\"280\" y=\"420\">alex_g_offline</text><text font-size=\"10\" x=\"545\" y=\"453\">Mike Posner</text><text font-size=\"10\" x=\"678\" y=\"167\">Noony</text><text font-size=\"10\" x=\"469\" y=\"418\">Escape the Fate</text><text font-size=\"10\" x=\"549\" y=\"351\">MIKE</text><text font-size=\"10\" x=\"191\" y=\"410\">Gregory Alan Isakov</text><text font-size=\"10\" x=\"597\" y=\"390\">Hotel Ugly</text><text font-size=\"10\" x=\"726\" y=\"246\">jon-YAKITORY</text><text font-size=\"10\" x=\"378\" y=\"309\">Southern Allstars</text><text font-size=\"10\" x=\"501\" y=\"348\">Myaap</text><text font-size=\"10\" x=\"26\" y=\"303\">Desifx</text><text font-size=\"10\" x=\"503\" y=\"441\">Donell Jones</text><text font-size=\"10\" x=\"624\" y=\"379\">Mike Sherm</text><text font-size=\"10\" x=\"624\" y=\"158\">Dray</text><text font-size=\"10\" x=\"554\" y=\"177\">Paul Russell</text><text font-size=\"10\" x=\"474\" y=\"140\">Lil Baby</text><text font-size=\"10\" x=\"98\" y=\"299\">Southall</text><text font-size=\"10\" x=\"292\" y=\"325\">Brent Cobb</text><text font-size=\"10\" x=\"348\" y=\"81\">The Toy Dolls</text></svg>"
      ],
      "text/plain": [
       "<IPython.core.display.SVG object>"
      ]
     },
     "execution_count": 34,
     "metadata": {},
     "output_type": "execute_result"
    }
   ],
   "source": [
    "ego = top_nodes[14]\n",
    "\n",
    "G_ego = nx.ego_graph(G, ego, radius=3)\n",
    "\n",
    "draw_graph(G_ego, show_names=True, node_size=3, edge_width=0.3)"
   ]
  },
  {
   "cell_type": "code",
   "execution_count": 27,
   "id": "646511f2",
   "metadata": {},
   "outputs": [
    {
     "data": {
      "image/svg+xml": [
       "<svg height=\"540\" width=\"820.0\" xmlns=\"http://www.w3.org/2000/svg\"><path d=\"M 412 520 379 268\" stroke=\"gray\" stroke-width=\"0.3\"/><path d=\"M 69 415 379 268\" stroke=\"gray\" stroke-width=\"0.3\"/><path d=\"M 720 374 379 268\" stroke=\"gray\" stroke-width=\"0.3\"/><path d=\"M 379 268 412 520\" stroke=\"gray\" stroke-width=\"0.3\"/><path d=\"M 379 268 69 415\" stroke=\"gray\" stroke-width=\"0.3\"/><path d=\"M 379 268 720 374\" stroke=\"gray\" stroke-width=\"0.3\"/><path d=\"M 379 268 329 20\" stroke=\"gray\" stroke-width=\"0.3\"/><path d=\"M 379 268 20 171\" stroke=\"gray\" stroke-width=\"0.3\"/><path d=\"M 379 268 686 118\" stroke=\"gray\" stroke-width=\"0.3\"/><path d=\"M 329 20 379 268\" stroke=\"gray\" stroke-width=\"0.3\"/><path d=\"M 20 171 379 268\" stroke=\"gray\" stroke-width=\"0.3\"/><path d=\"M 686 118 379 268\" stroke=\"gray\" stroke-width=\"0.3\"/><circle cx=\"412\" cy=\"520\" r=\"3.0\" style=\"fill:rgb(58, 76, 192);stroke:black;stroke-width:1.0\"/><circle cx=\"69\" cy=\"415\" r=\"3.0\" style=\"fill:rgb(58, 76, 192);stroke:black;stroke-width:1.0\"/><circle cx=\"720\" cy=\"374\" r=\"3.0\" style=\"fill:rgb(58, 76, 192);stroke:black;stroke-width:1.0\"/><circle cx=\"379\" cy=\"268\" r=\"3.0\" style=\"fill:rgb(179, 3, 38);stroke:black;stroke-width:1.0\"/><circle cx=\"329\" cy=\"20\" r=\"3.0\" style=\"fill:rgb(58, 76, 192);stroke:black;stroke-width:1.0\"/><circle cx=\"20\" cy=\"171\" r=\"3.0\" style=\"fill:rgb(58, 76, 192);stroke:black;stroke-width:1.0\"/><circle cx=\"686\" cy=\"118\" r=\"3.0\" style=\"fill:rgb(58, 76, 192);stroke:black;stroke-width:1.0\"/><text font-size=\"10\" x=\"418\" y=\"523\">Taeko Onuki</text><text font-size=\"10\" x=\"75\" y=\"418\">Sadao China</text><text font-size=\"10\" x=\"726\" y=\"377\">WagakkiBand</text><text font-size=\"10\" x=\"385\" y=\"271\">Seibun Tokuhara</text><text font-size=\"10\" x=\"335\" y=\"23\">Hideaki Tokunaga</text><text font-size=\"10\" x=\"26\" y=\"174\">Osamuraisan</text><text font-size=\"10\" x=\"692\" y=\"121\">Vivid BAD SQUAD</text></svg>"
      ],
      "text/plain": [
       "<IPython.core.display.SVG object>"
      ]
     },
     "execution_count": 27,
     "metadata": {},
     "output_type": "execute_result"
    }
   ],
   "source": [
    "ego = top_nodes[15]\n",
    "\n",
    "G_ego = nx.ego_graph(G, ego)\n",
    "\n",
    "draw_graph(G_ego, show_names=True, node_size=3, edge_width=0.3)"
   ]
  },
  {
   "cell_type": "code",
   "execution_count": 28,
   "id": "aca75f02",
   "metadata": {},
   "outputs": [
    {
     "data": {
      "image/svg+xml": [
       "<svg height=\"540\" width=\"835.0\" xmlns=\"http://www.w3.org/2000/svg\"><path d=\"M 446 20 359 277\" stroke=\"gray\" stroke-width=\"0.3\"/><path d=\"M 720 202 359 277\" stroke=\"gray\" stroke-width=\"0.3\"/><path d=\"M 259 520 359 277\" stroke=\"gray\" stroke-width=\"0.3\"/><path d=\"M 20 290 67 144\" stroke=\"gray\" stroke-width=\"0.3\"/><path d=\"M 20 290 359 277\" stroke=\"gray\" stroke-width=\"0.3\"/><path d=\"M 613 463 359 277\" stroke=\"gray\" stroke-width=\"0.3\"/><path d=\"M 67 144 20 290\" stroke=\"gray\" stroke-width=\"0.3\"/><path d=\"M 67 144 359 277\" stroke=\"gray\" stroke-width=\"0.3\"/><path d=\"M 359 277 446 20\" stroke=\"gray\" stroke-width=\"0.3\"/><path d=\"M 359 277 720 202\" stroke=\"gray\" stroke-width=\"0.3\"/><path d=\"M 359 277 259 520\" stroke=\"gray\" stroke-width=\"0.3\"/><path d=\"M 359 277 20 290\" stroke=\"gray\" stroke-width=\"0.3\"/><path d=\"M 359 277 613 463\" stroke=\"gray\" stroke-width=\"0.3\"/><path d=\"M 359 277 67 144\" stroke=\"gray\" stroke-width=\"0.3\"/><circle cx=\"446\" cy=\"20\" r=\"3.0\" style=\"fill:rgb(58, 76, 192);stroke:black;stroke-width:1.0\"/><circle cx=\"720\" cy=\"202\" r=\"3.0\" style=\"fill:rgb(58, 76, 192);stroke:black;stroke-width:1.0\"/><circle cx=\"259\" cy=\"520\" r=\"3.0\" style=\"fill:rgb(58, 76, 192);stroke:black;stroke-width:1.0\"/><circle cx=\"20\" cy=\"290\" r=\"3.0\" style=\"fill:rgb(116, 151, 245);stroke:black;stroke-width:1.0\"/><circle cx=\"613\" cy=\"463\" r=\"3.0\" style=\"fill:rgb(58, 76, 192);stroke:black;stroke-width:1.0\"/><circle cx=\"67\" cy=\"144\" r=\"3.0\" style=\"fill:rgb(116, 151, 245);stroke:black;stroke-width:1.0\"/><circle cx=\"359\" cy=\"277\" r=\"3.0\" style=\"fill:rgb(179, 3, 38);stroke:black;stroke-width:1.0\"/><text font-size=\"10\" x=\"452\" y=\"23\">Devilish Trio</text><text font-size=\"10\" x=\"726\" y=\"205\">サザンオールスターズ</text><text font-size=\"10\" x=\"265\" y=\"523\">Gregory Alan Isakov</text><text font-size=\"10\" x=\"26\" y=\"293\">Southern Allstars</text><text font-size=\"10\" x=\"619\" y=\"466\">Southall</text><text font-size=\"10\" x=\"73\" y=\"147\">Brent Cobb</text><text font-size=\"10\" x=\"365\" y=\"280\">SOUTHERN ALL STARS</text></svg>"
      ],
      "text/plain": [
       "<IPython.core.display.SVG object>"
      ]
     },
     "execution_count": 28,
     "metadata": {},
     "output_type": "execute_result"
    }
   ],
   "source": [
    "ego = top_nodes[16]\n",
    "\n",
    "G_ego = nx.ego_graph(G, ego)\n",
    "\n",
    "draw_graph(G_ego, show_names=True, node_size=3, edge_width=0.3)"
   ]
  },
  {
   "cell_type": "code",
   "execution_count": 29,
   "id": "563015ea",
   "metadata": {},
   "outputs": [
    {
     "data": {
      "image/svg+xml": [
       "<svg height=\"540\" width=\"840.0\" xmlns=\"http://www.w3.org/2000/svg\"><path d=\"M 20 411 353 279\" stroke=\"gray\" stroke-width=\"0.3\"/><path d=\"M 353 279 20 411\" stroke=\"gray\" stroke-width=\"0.3\"/><path d=\"M 353 279 424 20\" stroke=\"gray\" stroke-width=\"0.3\"/><path d=\"M 353 279 636 413\" stroke=\"gray\" stroke-width=\"0.3\"/><path d=\"M 353 279 45 126\" stroke=\"gray\" stroke-width=\"0.3\"/><path d=\"M 353 279 720 257\" stroke=\"gray\" stroke-width=\"0.3\"/><path d=\"M 353 279 447 520\" stroke=\"gray\" stroke-width=\"0.3\"/><path d=\"M 424 20 353 279\" stroke=\"gray\" stroke-width=\"0.3\"/><path d=\"M 636 413 353 279\" stroke=\"gray\" stroke-width=\"0.3\"/><path d=\"M 636 413 720 257\" stroke=\"gray\" stroke-width=\"0.3\"/><path d=\"M 636 413 447 520\" stroke=\"gray\" stroke-width=\"0.3\"/><path d=\"M 45 126 353 279\" stroke=\"gray\" stroke-width=\"0.3\"/><path d=\"M 720 257 353 279\" stroke=\"gray\" stroke-width=\"0.3\"/><path d=\"M 720 257 636 413\" stroke=\"gray\" stroke-width=\"0.3\"/><path d=\"M 447 520 353 279\" stroke=\"gray\" stroke-width=\"0.3\"/><path d=\"M 447 520 636 413\" stroke=\"gray\" stroke-width=\"0.3\"/><circle cx=\"20\" cy=\"411\" r=\"3.0\" style=\"fill:rgb(58, 76, 192);stroke:black;stroke-width:1.0\"/><circle cx=\"353\" cy=\"279\" r=\"3.0\" style=\"fill:rgb(179, 3, 38);stroke:black;stroke-width:1.0\"/><circle cx=\"424\" cy=\"20\" r=\"3.0\" style=\"fill:rgb(58, 76, 192);stroke:black;stroke-width:1.0\"/><circle cx=\"636\" cy=\"413\" r=\"3.0\" style=\"fill:rgb(180, 205, 250);stroke:black;stroke-width:1.0\"/><circle cx=\"45\" cy=\"126\" r=\"3.0\" style=\"fill:rgb(58, 76, 192);stroke:black;stroke-width:1.0\"/><circle cx=\"720\" cy=\"257\" r=\"3.0\" style=\"fill:rgb(112, 147, 243);stroke:black;stroke-width:1.0\"/><circle cx=\"447\" cy=\"520\" r=\"3.0\" style=\"fill:rgb(112, 147, 243);stroke:black;stroke-width:1.0\"/><text font-size=\"10\" x=\"26\" y=\"414\">Benny Goodman Sextet</text><text font-size=\"10\" x=\"359\" y=\"282\">Benny Dawn</text><text font-size=\"10\" x=\"430\" y=\"23\">Chris Brown</text><text font-size=\"10\" x=\"642\" y=\"416\">Benny Dayal</text><text font-size=\"10\" x=\"51\" y=\"129\">Benny L</text><text font-size=\"10\" x=\"726\" y=\"260\">Benny Sings</text><text font-size=\"10\" x=\"453\" y=\"523\">Benny Friedman</text></svg>"
      ],
      "text/plain": [
       "<IPython.core.display.SVG object>"
      ]
     },
     "execution_count": 29,
     "metadata": {},
     "output_type": "execute_result"
    }
   ],
   "source": [
    "ego = top_nodes[17]\n",
    "\n",
    "G_ego = nx.ego_graph(G, ego)\n",
    "\n",
    "draw_graph(G_ego, show_names=True, node_size=3, edge_width=0.3)"
   ]
  },
  {
   "cell_type": "code",
   "execution_count": 30,
   "id": "f2254f91",
   "metadata": {},
   "outputs": [
    {
     "data": {
      "image/svg+xml": [
       "<svg height=\"540\" width=\"825.0\" xmlns=\"http://www.w3.org/2000/svg\"><path d=\"M 20 313 119 459\" stroke=\"gray\" stroke-width=\"0.3\"/><path d=\"M 20 313 357 265\" stroke=\"gray\" stroke-width=\"0.3\"/><path d=\"M 545 21 357 265\" stroke=\"gray\" stroke-width=\"0.3\"/><path d=\"M 518 520 357 265\" stroke=\"gray\" stroke-width=\"0.3\"/><path d=\"M 119 459 20 313\" stroke=\"gray\" stroke-width=\"0.3\"/><path d=\"M 119 459 357 265\" stroke=\"gray\" stroke-width=\"0.3\"/><path d=\"M 174 20 357 265\" stroke=\"gray\" stroke-width=\"0.3\"/><path d=\"M 357 265 20 313\" stroke=\"gray\" stroke-width=\"0.3\"/><path d=\"M 357 265 545 21\" stroke=\"gray\" stroke-width=\"0.3\"/><path d=\"M 357 265 518 520\" stroke=\"gray\" stroke-width=\"0.3\"/><path d=\"M 357 265 119 459\" stroke=\"gray\" stroke-width=\"0.3\"/><path d=\"M 357 265 174 20\" stroke=\"gray\" stroke-width=\"0.3\"/><path d=\"M 357 265 720 275\" stroke=\"gray\" stroke-width=\"0.3\"/><path d=\"M 720 275 357 265\" stroke=\"gray\" stroke-width=\"0.3\"/><circle cx=\"20\" cy=\"313\" r=\"3.0\" style=\"fill:rgb(116, 151, 245);stroke:black;stroke-width:1.0\"/><circle cx=\"545\" cy=\"21\" r=\"3.0\" style=\"fill:rgb(58, 76, 192);stroke:black;stroke-width:1.0\"/><circle cx=\"518\" cy=\"520\" r=\"3.0\" style=\"fill:rgb(58, 76, 192);stroke:black;stroke-width:1.0\"/><circle cx=\"119\" cy=\"459\" r=\"3.0\" style=\"fill:rgb(116, 151, 245);stroke:black;stroke-width:1.0\"/><circle cx=\"174\" cy=\"20\" r=\"3.0\" style=\"fill:rgb(58, 76, 192);stroke:black;stroke-width:1.0\"/><circle cx=\"357\" cy=\"265\" r=\"3.0\" style=\"fill:rgb(179, 3, 38);stroke:black;stroke-width:1.0\"/><circle cx=\"720\" cy=\"275\" r=\"3.0\" style=\"fill:rgb(58, 76, 192);stroke:black;stroke-width:1.0\"/><text font-size=\"10\" x=\"26\" y=\"316\">Drake</text><text font-size=\"10\" x=\"551\" y=\"24\">Nelly</text><text font-size=\"10\" x=\"524\" y=\"523\">Paul Russell</text><text font-size=\"10\" x=\"125\" y=\"462\">Lil Baby</text><text font-size=\"10\" x=\"180\" y=\"23\">Southern Allstars</text><text font-size=\"10\" x=\"363\" y=\"268\">Lilrb</text><text font-size=\"10\" x=\"726\" y=\"278\">Myaap</text></svg>"
      ],
      "text/plain": [
       "<IPython.core.display.SVG object>"
      ]
     },
     "execution_count": 30,
     "metadata": {},
     "output_type": "execute_result"
    }
   ],
   "source": [
    "ego = top_nodes[18]\n",
    "\n",
    "G_ego = nx.ego_graph(G, ego)\n",
    "\n",
    "draw_graph(G_ego, show_names=True, node_size=3, edge_width=0.3)"
   ]
  },
  {
   "cell_type": "code",
   "execution_count": 31,
   "id": "26365521",
   "metadata": {},
   "outputs": [
    {
     "data": {
      "image/svg+xml": [
       "<svg height=\"540\" width=\"830.0\" xmlns=\"http://www.w3.org/2000/svg\"><path d=\"M 258 20 391 266\" stroke=\"gray\" stroke-width=\"0.3\"/><path d=\"M 679 96 391 266\" stroke=\"gray\" stroke-width=\"0.3\"/><path d=\"M 720 398 391 266\" stroke=\"gray\" stroke-width=\"0.3\"/><path d=\"M 391 266 258 20\" stroke=\"gray\" stroke-width=\"0.3\"/><path d=\"M 391 266 679 96\" stroke=\"gray\" stroke-width=\"0.3\"/><path d=\"M 391 266 720 398\" stroke=\"gray\" stroke-width=\"0.3\"/><path d=\"M 391 266 302 520\" stroke=\"gray\" stroke-width=\"0.3\"/><path d=\"M 391 266 20 283\" stroke=\"gray\" stroke-width=\"0.3\"/><path d=\"M 302 520 391 266\" stroke=\"gray\" stroke-width=\"0.3\"/><path d=\"M 20 283 391 266\" stroke=\"gray\" stroke-width=\"0.3\"/><circle cx=\"258\" cy=\"20\" r=\"3.0\" style=\"fill:rgb(58, 76, 192);stroke:black;stroke-width:1.0\"/><circle cx=\"679\" cy=\"96\" r=\"3.0\" style=\"fill:rgb(58, 76, 192);stroke:black;stroke-width:1.0\"/><circle cx=\"720\" cy=\"398\" r=\"3.0\" style=\"fill:rgb(58, 76, 192);stroke:black;stroke-width:1.0\"/><circle cx=\"391\" cy=\"266\" r=\"3.0\" style=\"fill:rgb(179, 3, 38);stroke:black;stroke-width:1.0\"/><circle cx=\"302\" cy=\"520\" r=\"3.0\" style=\"fill:rgb(58, 76, 192);stroke:black;stroke-width:1.0\"/><circle cx=\"20\" cy=\"283\" r=\"3.0\" style=\"fill:rgb(58, 76, 192);stroke:black;stroke-width:1.0\"/><text font-size=\"10\" x=\"264\" y=\"23\">Happy Rattan</text><text font-size=\"10\" x=\"685\" y=\"99\">Leon Paul-Phillips</text><text font-size=\"10\" x=\"726\" y=\"401\">Guru</text><text font-size=\"10\" x=\"397\" y=\"269\">Southall</text><text font-size=\"10\" x=\"308\" y=\"523\">Desifx</text><text font-size=\"10\" x=\"26\" y=\"286\">SOUTHERN ALL STARS</text></svg>"
      ],
      "text/plain": [
       "<IPython.core.display.SVG object>"
      ]
     },
     "execution_count": 31,
     "metadata": {},
     "output_type": "execute_result"
    }
   ],
   "source": [
    "ego = top_nodes[19]\n",
    "\n",
    "G_ego = nx.ego_graph(G, ego)\n",
    "\n",
    "draw_graph(G_ego, show_names=True, node_size=3, edge_width=0.3)"
   ]
  },
  {
   "cell_type": "markdown",
   "id": "c41a5cc6",
   "metadata": {},
   "source": [
    "# Shortest Paths\n",
    "\n",
    "In a collaboration network, shortest paths can be interesting, to know how to get from one person to another, or one artist to another.\n",
    "\n",
    "What in the world did Lil Wayne do with B.B. King? "
   ]
  },
  {
   "cell_type": "code",
   "execution_count": 39,
   "id": "47ba1a04",
   "metadata": {},
   "outputs": [
    {
     "data": {
      "text/plain": [
       "['B.B. King', 'Lil Wayne']"
      ]
     },
     "execution_count": 39,
     "metadata": {},
     "output_type": "execute_result"
    }
   ],
   "source": [
    "nx.shortest_path(G, 'B.B. King', 'Lil Wayne')"
   ]
  },
  {
   "cell_type": "code",
   "execution_count": 42,
   "id": "10c41904",
   "metadata": {},
   "outputs": [
    {
     "data": {
      "image/svg+xml": [
       "<svg height=\"540\" width=\"830.0\" xmlns=\"http://www.w3.org/2000/svg\"><path d=\"M 20 168 173 165\" stroke=\"gray\" stroke-width=\"0.3\"/><path d=\"M 42 131 173 165\" stroke=\"gray\" stroke-width=\"0.3\"/><path d=\"M 151 426 272 432\" stroke=\"gray\" stroke-width=\"0.3\"/><path d=\"M 303 520 272 432\" stroke=\"gray\" stroke-width=\"0.3\"/><path d=\"M 360 497 272 432\" stroke=\"gray\" stroke-width=\"0.3\"/><path d=\"M 263 182 173 165\" stroke=\"gray\" stroke-width=\"0.3\"/><path d=\"M 176 501 272 432\" stroke=\"gray\" stroke-width=\"0.3\"/><path d=\"M 603 20 566 110\" stroke=\"gray\" stroke-width=\"0.3\"/><path d=\"M 493 436 468 365\" stroke=\"gray\" stroke-width=\"0.3\"/><path d=\"M 665 41 566 110\" stroke=\"gray\" stroke-width=\"0.3\"/><path d=\"M 570 413 468 365\" stroke=\"gray\" stroke-width=\"0.3\"/><path d=\"M 704 74 566 110\" stroke=\"gray\" stroke-width=\"0.3\"/><path d=\"M 262 121 173 165\" stroke=\"gray\" stroke-width=\"0.3\"/><path d=\"M 58 207 173 165\" stroke=\"gray\" stroke-width=\"0.3\"/><path d=\"M 398 265 272 432\" stroke=\"gray\" stroke-width=\"0.3\"/><path d=\"M 398 265 173 165\" stroke=\"gray\" stroke-width=\"0.3\"/><path d=\"M 398 265 579 278\" stroke=\"gray\" stroke-width=\"0.3\"/><path d=\"M 398 265 566 110\" stroke=\"gray\" stroke-width=\"0.3\"/><path d=\"M 398 265 468 365\" stroke=\"gray\" stroke-width=\"0.3\"/><path d=\"M 177 75 173 165\" stroke=\"gray\" stroke-width=\"0.3\"/><path d=\"M 697 117 566 110\" stroke=\"gray\" stroke-width=\"0.3\"/><path d=\"M 272 432 151 426\" stroke=\"gray\" stroke-width=\"0.3\"/><path d=\"M 272 432 303 520\" stroke=\"gray\" stroke-width=\"0.3\"/><path d=\"M 272 432 360 497\" stroke=\"gray\" stroke-width=\"0.3\"/><path d=\"M 272 432 176 501\" stroke=\"gray\" stroke-width=\"0.3\"/><path d=\"M 272 432 398 265\" stroke=\"gray\" stroke-width=\"0.3\"/><path d=\"M 272 432 236 519\" stroke=\"gray\" stroke-width=\"0.3\"/><path d=\"M 272 432 137 468\" stroke=\"gray\" stroke-width=\"0.3\"/><path d=\"M 154 224 173 165\" stroke=\"gray\" stroke-width=\"0.3\"/><path d=\"M 74 92 173 165\" stroke=\"gray\" stroke-width=\"0.3\"/><path d=\"M 720 291 579 278\" stroke=\"gray\" stroke-width=\"0.3\"/><path d=\"M 146 108 173 165\" stroke=\"gray\" stroke-width=\"0.3\"/><path d=\"M 173 165 20 168\" stroke=\"gray\" stroke-width=\"0.3\"/><path d=\"M 173 165 42 131\" stroke=\"gray\" stroke-width=\"0.3\"/><path d=\"M 173 165 263 182\" stroke=\"gray\" stroke-width=\"0.3\"/><path d=\"M 173 165 262 121\" stroke=\"gray\" stroke-width=\"0.3\"/><path d=\"M 173 165 58 207\" stroke=\"gray\" stroke-width=\"0.3\"/><path d=\"M 173 165 398 265\" stroke=\"gray\" stroke-width=\"0.3\"/><path d=\"M 173 165 177 75\" stroke=\"gray\" stroke-width=\"0.3\"/><path d=\"M 173 165 154 224\" stroke=\"gray\" stroke-width=\"0.3\"/><path d=\"M 173 165 74 92\" stroke=\"gray\" stroke-width=\"0.3\"/><path d=\"M 173 165 146 108\" stroke=\"gray\" stroke-width=\"0.3\"/><path d=\"M 579 278 398 265\" stroke=\"gray\" stroke-width=\"0.3\"/><path d=\"M 579 278 720 291\" stroke=\"gray\" stroke-width=\"0.3\"/><path d=\"M 512 27 566 110\" stroke=\"gray\" stroke-width=\"0.3\"/><path d=\"M 557 56 566 110\" stroke=\"gray\" stroke-width=\"0.3\"/><path d=\"M 566 110 603 20\" stroke=\"gray\" stroke-width=\"0.3\"/><path d=\"M 566 110 665 41\" stroke=\"gray\" stroke-width=\"0.3\"/><path d=\"M 566 110 704 74\" stroke=\"gray\" stroke-width=\"0.3\"/><path d=\"M 566 110 398 265\" stroke=\"gray\" stroke-width=\"0.3\"/><path d=\"M 566 110 697 117\" stroke=\"gray\" stroke-width=\"0.3\"/><path d=\"M 566 110 512 27\" stroke=\"gray\" stroke-width=\"0.3\"/><path d=\"M 566 110 557 56\" stroke=\"gray\" stroke-width=\"0.3\"/><path d=\"M 468 365 493 436\" stroke=\"gray\" stroke-width=\"0.3\"/><path d=\"M 468 365 570 413\" stroke=\"gray\" stroke-width=\"0.3\"/><path d=\"M 468 365 398 265\" stroke=\"gray\" stroke-width=\"0.3\"/><path d=\"M 468 365 382 388\" stroke=\"gray\" stroke-width=\"0.3\"/><path d=\"M 382 388 468 365\" stroke=\"gray\" stroke-width=\"0.3\"/><path d=\"M 236 519 272 432\" stroke=\"gray\" stroke-width=\"0.3\"/><path d=\"M 137 468 272 432\" stroke=\"gray\" stroke-width=\"0.3\"/><circle cx=\"20\" cy=\"168\" r=\"4.0\" style=\"fill:rgb(58, 76, 192);stroke:black;stroke-width:1.0\"/><circle cx=\"42\" cy=\"131\" r=\"4.0\" style=\"fill:rgb(58, 76, 192);stroke:black;stroke-width:1.0\"/><circle cx=\"151\" cy=\"426\" r=\"4.0\" style=\"fill:rgb(58, 76, 192);stroke:black;stroke-width:1.0\"/><circle cx=\"303\" cy=\"520\" r=\"4.0\" style=\"fill:rgb(58, 76, 192);stroke:black;stroke-width:1.0\"/><circle cx=\"360\" cy=\"497\" r=\"4.0\" style=\"fill:rgb(58, 76, 192);stroke:black;stroke-width:1.0\"/><circle cx=\"263\" cy=\"182\" r=\"4.0\" style=\"fill:rgb(58, 76, 192);stroke:black;stroke-width:1.0\"/><circle cx=\"176\" cy=\"501\" r=\"4.0\" style=\"fill:rgb(58, 76, 192);stroke:black;stroke-width:1.0\"/><circle cx=\"603\" cy=\"20\" r=\"4.0\" style=\"fill:rgb(58, 76, 192);stroke:black;stroke-width:1.0\"/><circle cx=\"493\" cy=\"436\" r=\"4.0\" style=\"fill:rgb(58, 76, 192);stroke:black;stroke-width:1.0\"/><circle cx=\"665\" cy=\"41\" r=\"4.0\" style=\"fill:rgb(58, 76, 192);stroke:black;stroke-width:1.0\"/><circle cx=\"570\" cy=\"413\" r=\"4.0\" style=\"fill:rgb(58, 76, 192);stroke:black;stroke-width:1.0\"/><circle cx=\"704\" cy=\"74\" r=\"4.0\" style=\"fill:rgb(58, 76, 192);stroke:black;stroke-width:1.0\"/><circle cx=\"262\" cy=\"121\" r=\"4.0\" style=\"fill:rgb(58, 76, 192);stroke:black;stroke-width:1.0\"/><circle cx=\"58\" cy=\"207\" r=\"4.0\" style=\"fill:rgb(58, 76, 192);stroke:black;stroke-width:1.0\"/><circle cx=\"398\" cy=\"265\" r=\"4.0\" style=\"fill:rgb(231, 214, 204);stroke:black;stroke-width:1.0\"/><circle cx=\"177\" cy=\"75\" r=\"4.0\" style=\"fill:rgb(58, 76, 192);stroke:black;stroke-width:1.0\"/><circle cx=\"697\" cy=\"117\" r=\"4.0\" style=\"fill:rgb(58, 76, 192);stroke:black;stroke-width:1.0\"/><circle cx=\"272\" cy=\"432\" r=\"4.0\" style=\"fill:rgb(246, 183, 156);stroke:black;stroke-width:1.0\"/><circle cx=\"154\" cy=\"224\" r=\"4.0\" style=\"fill:rgb(58, 76, 192);stroke:black;stroke-width:1.0\"/><circle cx=\"74\" cy=\"92\" r=\"4.0\" style=\"fill:rgb(58, 76, 192);stroke:black;stroke-width:1.0\"/><circle cx=\"720\" cy=\"291\" r=\"4.0\" style=\"fill:rgb(58, 76, 192);stroke:black;stroke-width:1.0\"/><circle cx=\"146\" cy=\"108\" r=\"4.0\" style=\"fill:rgb(58, 76, 192);stroke:black;stroke-width:1.0\"/><circle cx=\"173\" cy=\"165\" r=\"4.0\" style=\"fill:rgb(179, 3, 38);stroke:black;stroke-width:1.0\"/><circle cx=\"579\" cy=\"278\" r=\"4.0\" style=\"fill:rgb(82, 110, 220);stroke:black;stroke-width:1.0\"/><circle cx=\"512\" cy=\"27\" r=\"4.0\" style=\"fill:rgb(58, 76, 192);stroke:black;stroke-width:1.0\"/><circle cx=\"557\" cy=\"56\" r=\"4.0\" style=\"fill:rgb(58, 76, 192);stroke:black;stroke-width:1.0\"/><circle cx=\"566\" cy=\"110\" r=\"4.0\" style=\"fill:rgb(246, 183, 156);stroke:black;stroke-width:1.0\"/><circle cx=\"468\" cy=\"365\" r=\"4.0\" style=\"fill:rgb(166, 195, 253);stroke:black;stroke-width:1.0\"/><circle cx=\"382\" cy=\"388\" r=\"4.0\" style=\"fill:rgb(58, 76, 192);stroke:black;stroke-width:1.0\"/><circle cx=\"236\" cy=\"519\" r=\"4.0\" style=\"fill:rgb(58, 76, 192);stroke:black;stroke-width:1.0\"/><circle cx=\"137\" cy=\"468\" r=\"4.0\" style=\"fill:rgb(58, 76, 192);stroke:black;stroke-width:1.0\"/><text font-size=\"10\" x=\"27\" y=\"172\">kelseyi</text><text font-size=\"10\" x=\"49\" y=\"135\">Jason Aldean</text><text font-size=\"10\" x=\"158\" y=\"430\">Big Sean</text><text font-size=\"10\" x=\"310\" y=\"524\">Nirvana</text><text font-size=\"10\" x=\"367\" y=\"501\">AzChike</text><text font-size=\"10\" x=\"270\" y=\"186\">Baye Mass</text><text font-size=\"10\" x=\"183\" y=\"505\">Degree</text><text font-size=\"10\" x=\"610\" y=\"24\">tephe</text><text font-size=\"10\" x=\"500\" y=\"440\">Tyga</text><text font-size=\"10\" x=\"672\" y=\"45\">Nelyoti</text><text font-size=\"10\" x=\"577\" y=\"417\">Drake</text><text font-size=\"10\" x=\"711\" y=\"78\">Mons</text><text font-size=\"10\" x=\"269\" y=\"125\">ShittyBoyz</text><text font-size=\"10\" x=\"65\" y=\"211\">Webbie</text><text font-size=\"10\" x=\"405\" y=\"269\">B.B. King</text><text font-size=\"10\" x=\"184\" y=\"79\">Duzzy Funlop</text><text font-size=\"10\" x=\"704\" y=\"121\">Conton Candy</text><text font-size=\"10\" x=\"279\" y=\"436\">Big Choze</text><text font-size=\"10\" x=\"161\" y=\"228\">Ace Hood</text><text font-size=\"10\" x=\"81\" y=\"96\">Edot Babyy</text><text font-size=\"10\" x=\"727\" y=\"295\">Kendrick Lamar</text><text font-size=\"10\" x=\"153\" y=\"112\">Alexnocap</text><text font-size=\"10\" x=\"180\" y=\"169\">WeeBay</text><text font-size=\"10\" x=\"586\" y=\"282\">U2</text><text font-size=\"10\" x=\"519\" y=\"31\">Abdeelgha4</text><text font-size=\"10\" x=\"564\" y=\"60\">Animals As Leaders</text><text font-size=\"10\" x=\"573\" y=\"114\">NEGAPHONE</text><text font-size=\"10\" x=\"475\" y=\"369\">Lil Wayne</text><text font-size=\"10\" x=\"389\" y=\"392\">Jay Sean</text><text font-size=\"10\" x=\"243\" y=\"523\">BigChiiffa</text><text font-size=\"10\" x=\"144\" y=\"472\">Young Iggz</text></svg>"
      ],
      "text/plain": [
       "<IPython.core.display.SVG object>"
      ]
     },
     "execution_count": 42,
     "metadata": {},
     "output_type": "execute_result"
    }
   ],
   "source": [
    "ego = 'B.B. King'\n",
    "\n",
    "G_ego = nx.ego_graph(G, ego, 2)\n",
    "\n",
    "draw_graph(G_ego, show_names=True, node_size=4, edge_width=0.3)"
   ]
  },
  {
   "cell_type": "markdown",
   "id": "87c48f30",
   "metadata": {},
   "source": [
    "# Next Steps\n",
    "\n",
    "This is a very useful tool for looking at collaboration networks in music. Some musicians do not collaborate with other musicians, so the spotify crawler returns smaller networks than the wikipedia crawler. But these are direct relationships from differerent musical collaborations, searched via the Spotify API.\n",
    "\n",
    "Next steps are to troubleshoot this crawler. There are likely bugs, in the current state. "
   ]
  },
  {
   "cell_type": "code",
   "execution_count": null,
   "id": "9c1f8b70",
   "metadata": {},
   "outputs": [],
   "source": []
  }
 ],
 "metadata": {
  "kernelspec": {
   "display_name": "Python 3",
   "language": "python",
   "name": "python3"
  },
  "language_info": {
   "codemirror_mode": {
    "name": "ipython",
    "version": 3
   },
   "file_extension": ".py",
   "mimetype": "text/x-python",
   "name": "python",
   "nbconvert_exporter": "python",
   "pygments_lexer": "ipython3",
   "version": "3.7.16"
  }
 },
 "nbformat": 4,
 "nbformat_minor": 5
}
