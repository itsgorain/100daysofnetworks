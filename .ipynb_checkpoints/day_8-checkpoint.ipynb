{
 "cells": [
  {
   "cell_type": "code",
   "execution_count": 1,
   "id": "7d18c815",
   "metadata": {},
   "outputs": [],
   "source": [
    "import networkx as nx\n",
    "import numpy as np\n",
    "import pandas as pd\n",
    "\n",
    "from IPython.display import SVG \n",
    "from sknetwork.visualization import svg_graph \n",
    "from sknetwork.data import Bunch \n",
    "from sknetwork.ranking import PageRank \n",
    "\n",
    "import community as community_louvain"
   ]
  },
  {
   "cell_type": "code",
   "execution_count": 2,
   "id": "0e8c36c4",
   "metadata": {},
   "outputs": [],
   "source": [
    "def draw_graph(G, show_names=False, node_size=1, font_size=10, edge_width=0.5): \n",
    "\n",
    "    adjacency = nx.to_scipy_sparse_matrix(G, nodelist=None, dtype=None, weight='weight', format='csr') \n",
    "\n",
    "    names = np.array(list(G.nodes())) \n",
    "\n",
    "    graph = Bunch() \n",
    "    graph.adjacency = adjacency \n",
    "    graph.names = np.array(names) \n",
    "\n",
    "    pagerank = PageRank() \n",
    "\n",
    "    scores = pagerank.fit_transform(adjacency) \n",
    "\n",
    "    if show_names: \n",
    "        \n",
    "        image = svg_graph(graph.adjacency, font_size=font_size, node_size=node_size, names=graph.names, width=700, height=500, scores=scores, edge_width=edge_width) \n",
    "\n",
    "    else: \n",
    "\n",
    "        image = svg_graph(graph.adjacency, node_size=node_size, width=700, height=500, scores = scores, edge_width=edge_width) \n",
    "\n",
    "    return SVG(image) "
   ]
  },
  {
   "cell_type": "code",
   "execution_count": 3,
   "id": "5e7e69f4",
   "metadata": {},
   "outputs": [
    {
     "data": {
      "text/html": [
       "<div>\n",
       "<style scoped>\n",
       "    .dataframe tbody tr th:only-of-type {\n",
       "        vertical-align: middle;\n",
       "    }\n",
       "\n",
       "    .dataframe tbody tr th {\n",
       "        vertical-align: top;\n",
       "    }\n",
       "\n",
       "    .dataframe thead th {\n",
       "        text-align: right;\n",
       "    }\n",
       "</style>\n",
       "<table border=\"1\" class=\"dataframe\">\n",
       "  <thead>\n",
       "    <tr style=\"text-align: right;\">\n",
       "      <th></th>\n",
       "      <th>source</th>\n",
       "      <th>target</th>\n",
       "    </tr>\n",
       "  </thead>\n",
       "  <tbody>\n",
       "    <tr>\n",
       "      <th>0</th>\n",
       "      <td>Network science</td>\n",
       "      <td>Network science</td>\n",
       "    </tr>\n",
       "    <tr>\n",
       "      <th>1</th>\n",
       "      <td>Network science</td>\n",
       "      <td>Hub (network science)</td>\n",
       "    </tr>\n",
       "    <tr>\n",
       "      <th>2</th>\n",
       "      <td>Network science</td>\n",
       "      <td>Network theory</td>\n",
       "    </tr>\n",
       "    <tr>\n",
       "      <th>3</th>\n",
       "      <td>Network science</td>\n",
       "      <td>National Science Foundation Network</td>\n",
       "    </tr>\n",
       "    <tr>\n",
       "      <th>4</th>\n",
       "      <td>Network science</td>\n",
       "      <td>Efficiency (network science)</td>\n",
       "    </tr>\n",
       "  </tbody>\n",
       "</table>\n",
       "</div>"
      ],
      "text/plain": [
       "            source                               target\n",
       "0  Network science                      Network science\n",
       "1  Network science                Hub (network science)\n",
       "2  Network science                       Network theory\n",
       "3  Network science  National Science Foundation Network\n",
       "4  Network science         Efficiency (network science)"
      ]
     },
     "execution_count": 3,
     "metadata": {},
     "output_type": "execute_result"
    }
   ],
   "source": [
    "data = r'data/network_analysis_edgelist.csv'\n",
    "\n",
    "df = pd.read_csv(data)\n",
    "df.head()"
   ]
  },
  {
   "cell_type": "code",
   "execution_count": 4,
   "id": "5296a3e1",
   "metadata": {},
   "outputs": [],
   "source": [
    "G = nx.from_pandas_edgelist(df)\n",
    "\n",
    "G.remove_edges_from(nx.selfloop_edges(G))"
   ]
  },
  {
   "cell_type": "code",
   "execution_count": 5,
   "id": "e7936819",
   "metadata": {},
   "outputs": [
    {
     "name": "stdout",
     "output_type": "stream",
     "text": [
      "Graph with 51268 nodes and 76211 edges\n"
     ]
    }
   ],
   "source": [
    "print(nx.info(G))"
   ]
  },
  {
   "cell_type": "code",
   "execution_count": 6,
   "id": "c3b2b9ba",
   "metadata": {},
   "outputs": [],
   "source": [
    "# this is network analysis network without labels; uncomment out to draw it; takes a minute\n",
    "\n",
    "# draw_graph(G, node_size=1, show_names=False, edge_width=0.1)"
   ]
  },
  {
   "cell_type": "markdown",
   "id": "10aa2232",
   "metadata": {},
   "source": [
    "# Parts of Networks (Components and Communities)\n",
    "\n",
    "This Jupyter notebook is about clusters and larger parts of the network. We're going to look at two things:\n",
    "- Connected Components: connected parts of the network\n",
    "- Communities: smaller subsets of the network that share edges\n",
    "\n",
    "I may need to shatter this network to create a few components, so I will leave in Page Rank."
   ]
  },
  {
   "cell_type": "markdown",
   "id": "0dcf1d59",
   "metadata": {},
   "source": [
    "# PageRank - Identify Nodes of Interest"
   ]
  },
  {
   "cell_type": "code",
   "execution_count": 7,
   "id": "42fbb411",
   "metadata": {},
   "outputs": [
    {
     "data": {
      "text/html": [
       "<div>\n",
       "<style scoped>\n",
       "    .dataframe tbody tr th:only-of-type {\n",
       "        vertical-align: middle;\n",
       "    }\n",
       "\n",
       "    .dataframe tbody tr th {\n",
       "        vertical-align: top;\n",
       "    }\n",
       "\n",
       "    .dataframe thead th {\n",
       "        text-align: right;\n",
       "    }\n",
       "</style>\n",
       "<table border=\"1\" class=\"dataframe\">\n",
       "  <thead>\n",
       "    <tr style=\"text-align: right;\">\n",
       "      <th></th>\n",
       "      <th>page_rank</th>\n",
       "    </tr>\n",
       "  </thead>\n",
       "  <tbody>\n",
       "    <tr>\n",
       "      <th>Glossary of graph theory</th>\n",
       "      <td>0.000341</td>\n",
       "    </tr>\n",
       "    <tr>\n",
       "      <th>List of statistics articles</th>\n",
       "      <td>0.000238</td>\n",
       "    </tr>\n",
       "    <tr>\n",
       "      <th>Internet</th>\n",
       "      <td>0.000206</td>\n",
       "    </tr>\n",
       "    <tr>\n",
       "      <th>Lists of mathematics topics</th>\n",
       "      <td>0.000188</td>\n",
       "    </tr>\n",
       "    <tr>\n",
       "      <th>Artificial intelligence</th>\n",
       "      <td>0.000187</td>\n",
       "    </tr>\n",
       "    <tr>\n",
       "      <th>Computer network</th>\n",
       "      <td>0.000185</td>\n",
       "    </tr>\n",
       "    <tr>\n",
       "      <th>Graph theory</th>\n",
       "      <td>0.000185</td>\n",
       "    </tr>\n",
       "    <tr>\n",
       "      <th>Machine learning</th>\n",
       "      <td>0.000180</td>\n",
       "    </tr>\n",
       "    <tr>\n",
       "      <th>List of unsolved problems in mathematics</th>\n",
       "      <td>0.000178</td>\n",
       "    </tr>\n",
       "    <tr>\n",
       "      <th>List of graph theory topics</th>\n",
       "      <td>0.000171</td>\n",
       "    </tr>\n",
       "  </tbody>\n",
       "</table>\n",
       "</div>"
      ],
      "text/plain": [
       "                                          page_rank\n",
       "Glossary of graph theory                   0.000341\n",
       "List of statistics articles                0.000238\n",
       "Internet                                   0.000206\n",
       "Lists of mathematics topics                0.000188\n",
       "Artificial intelligence                    0.000187\n",
       "Computer network                           0.000185\n",
       "Graph theory                               0.000185\n",
       "Machine learning                           0.000180\n",
       "List of unsolved problems in mathematics   0.000178\n",
       "List of graph theory topics                0.000171"
      ]
     },
     "execution_count": 7,
     "metadata": {},
     "output_type": "execute_result"
    }
   ],
   "source": [
    "page_rank = nx.pagerank(G)\n",
    "\n",
    "pr_df = pd.DataFrame().from_dict(page_rank, orient='index')\n",
    "pr_df.columns = ['page_rank']\n",
    "pr_df.sort_values('page_rank', ascending=False, inplace=True)\n",
    "pr_df.head(10)"
   ]
  },
  {
   "cell_type": "code",
   "execution_count": 8,
   "id": "71a59549",
   "metadata": {},
   "outputs": [
    {
     "data": {
      "image/png": "[encoded data removed]",
      "text/plain": [
       "<Figure size 864x576 with 1 Axes>"
      ]
     },
     "metadata": {
      "needs_background": "light"
     },
     "output_type": "display_data"
    }
   ],
   "source": [
    "title = 'Important Pages by PageRank'\n",
    "\n",
    "pr_df.head(20).plot.barh(figsize=(12,8), title=title).invert_yaxis()"
   ]
  },
  {
   "cell_type": "code",
   "execution_count": 9,
   "id": "d3942fbb",
   "metadata": {},
   "outputs": [],
   "source": [
    "drop_nodes = pr_df.head(20).index.values\n",
    "\n",
    "G.remove_nodes_from(drop_nodes) \n",
    "\n",
    "# only doing this to shatter the network for connected components\n",
    "# this is only for demonstration. don't do this in practice. these are important nodes."
   ]
  },
  {
   "cell_type": "code",
   "execution_count": null,
   "id": "ba442e20",
   "metadata": {},
   "outputs": [],
   "source": []
  },
  {
   "cell_type": "markdown",
   "id": "45dc3639",
   "metadata": {},
   "source": [
    "# Connected Components\n",
    "\n",
    "I think of connected components as islands or continents in the network, but their definition is not so loose. "
   ]
  },
  {
   "cell_type": "code",
   "execution_count": 10,
   "id": "7cfe924f",
   "metadata": {},
   "outputs": [],
   "source": [
    "def show_component_sizes(components):\n",
    "\n",
    "    i = 0\n",
    "\n",
    "    for c in components:\n",
    "        \n",
    "        if len(c) > 1:\n",
    "            print(\"{}: {}\".format(i, len(c)))\n",
    "            \n",
    "        i += 1"
   ]
  },
  {
   "cell_type": "code",
   "execution_count": 11,
   "id": "f637f5b0",
   "metadata": {},
   "outputs": [],
   "source": [
    "components = list(nx.connected_components(G))"
   ]
  },
  {
   "cell_type": "code",
   "execution_count": 12,
   "id": "e93e8c30",
   "metadata": {},
   "outputs": [
    {
     "data": {
      "text/plain": [
       "7"
      ]
     },
     "execution_count": 12,
     "metadata": {},
     "output_type": "execute_result"
    }
   ],
   "source": [
    "len(components)"
   ]
  },
  {
   "cell_type": "code",
   "execution_count": 13,
   "id": "31fb2b7d",
   "metadata": {},
   "outputs": [
    {
     "name": "stdout",
     "output_type": "stream",
     "text": [
      "0: 51207\n",
      "1: 10\n",
      "2: 10\n",
      "3: 10\n",
      "4: 9\n"
     ]
    }
   ],
   "source": [
    "show_component_sizes(components)"
   ]
  },
  {
   "cell_type": "code",
   "execution_count": 14,
   "id": "849f8827",
   "metadata": {},
   "outputs": [
    {
     "data": {
      "image/svg+xml": [
       "<svg height=\"540\" width=\"1000.0\" xmlns=\"http://www.w3.org/2000/svg\"><path d=\"M 211 34 361 261\" stroke=\"gray\" stroke-width=\"0.5\"/><path d=\"M 653 117 361 261\" stroke=\"gray\" stroke-width=\"0.5\"/><path d=\"M 20 331 361 261\" stroke=\"gray\" stroke-width=\"0.5\"/><path d=\"M 453 20 361 261\" stroke=\"gray\" stroke-width=\"0.5\"/><path d=\"M 55 163 361 261\" stroke=\"gray\" stroke-width=\"0.5\"/><path d=\"M 361 261 211 34\" stroke=\"gray\" stroke-width=\"0.5\"/><path d=\"M 361 261 653 117\" stroke=\"gray\" stroke-width=\"0.5\"/><path d=\"M 361 261 20 331\" stroke=\"gray\" stroke-width=\"0.5\"/><path d=\"M 361 261 453 20\" stroke=\"gray\" stroke-width=\"0.5\"/><path d=\"M 361 261 55 163\" stroke=\"gray\" stroke-width=\"0.5\"/><path d=\"M 361 261 397 520\" stroke=\"gray\" stroke-width=\"0.5\"/><path d=\"M 361 261 163 473\" stroke=\"gray\" stroke-width=\"0.5\"/><path d=\"M 361 261 619 444\" stroke=\"gray\" stroke-width=\"0.5\"/><path d=\"M 361 261 720 284\" stroke=\"gray\" stroke-width=\"0.5\"/><path d=\"M 397 520 361 261\" stroke=\"gray\" stroke-width=\"0.5\"/><path d=\"M 163 473 361 261\" stroke=\"gray\" stroke-width=\"0.5\"/><path d=\"M 619 444 361 261\" stroke=\"gray\" stroke-width=\"0.5\"/><path d=\"M 720 284 361 261\" stroke=\"gray\" stroke-width=\"0.5\"/><circle cx=\"211\" cy=\"34\" r=\"5.0\" style=\"fill:rgb(58, 76, 192);stroke:black;stroke-width:1.0\"/><circle cx=\"653\" cy=\"117\" r=\"5.0\" style=\"fill:rgb(58, 76, 192);stroke:black;stroke-width:1.0\"/><circle cx=\"20\" cy=\"331\" r=\"5.0\" style=\"fill:rgb(58, 76, 192);stroke:black;stroke-width:1.0\"/><circle cx=\"453\" cy=\"20\" r=\"5.0\" style=\"fill:rgb(58, 76, 192);stroke:black;stroke-width:1.0\"/><circle cx=\"55\" cy=\"163\" r=\"5.0\" style=\"fill:rgb(58, 76, 192);stroke:black;stroke-width:1.0\"/><circle cx=\"361\" cy=\"261\" r=\"5.0\" style=\"fill:rgb(179, 3, 38);stroke:black;stroke-width:1.0\"/><circle cx=\"397\" cy=\"520\" r=\"5.0\" style=\"fill:rgb(58, 76, 192);stroke:black;stroke-width:1.0\"/><circle cx=\"163\" cy=\"473\" r=\"5.0\" style=\"fill:rgb(58, 76, 192);stroke:black;stroke-width:1.0\"/><circle cx=\"619\" cy=\"444\" r=\"5.0\" style=\"fill:rgb(58, 76, 192);stroke:black;stroke-width:1.0\"/><circle cx=\"720\" cy=\"284\" r=\"5.0\" style=\"fill:rgb(58, 76, 192);stroke:black;stroke-width:1.0\"/><text font-size=\"10\" x=\"219\" y=\"39\">All-time tennis records – Women's singles</text><text font-size=\"10\" x=\"661\" y=\"122\">Open Era tennis records – Men's singles</text><text font-size=\"10\" x=\"28\" y=\"336\">Tennis Masters Series singles records and statistics</text><text font-size=\"10\" x=\"461\" y=\"25\">Shortest tennis match records</text><text font-size=\"10\" x=\"63\" y=\"168\">All-time tennis records – Men's singles</text><text font-size=\"10\" x=\"369\" y=\"266\">Lists of tennis records and statistics</text><text font-size=\"10\" x=\"405\" y=\"525\">ATP Tour records</text><text font-size=\"10\" x=\"171\" y=\"478\">List of Grand Slam–related tennis records</text><text font-size=\"10\" x=\"627\" y=\"449\">WTA Tour records</text><text font-size=\"10\" x=\"728\" y=\"289\">Open Era tennis records – Women's singles</text></svg>"
      ],
      "text/plain": [
       "<IPython.core.display.SVG object>"
      ]
     },
     "execution_count": 14,
     "metadata": {},
     "output_type": "execute_result"
    }
   ],
   "source": [
    "c = components[1]\n",
    "\n",
    "draw_graph(G.subgraph(c), node_size=5, show_names=True)"
   ]
  },
  {
   "cell_type": "code",
   "execution_count": 15,
   "id": "d3bdefd4",
   "metadata": {},
   "outputs": [
    {
     "data": {
      "image/svg+xml": [
       "<svg height=\"540\" width=\"970.0\" xmlns=\"http://www.w3.org/2000/svg\"><path d=\"M 383 273 101 420\" stroke=\"gray\" stroke-width=\"0.5\"/><path d=\"M 383 273 20 260\" stroke=\"gray\" stroke-width=\"0.5\"/><path d=\"M 383 273 575 59\" stroke=\"gray\" stroke-width=\"0.5\"/><path d=\"M 383 273 294 520\" stroke=\"gray\" stroke-width=\"0.5\"/><path d=\"M 383 273 720 197\" stroke=\"gray\" stroke-width=\"0.5\"/><path d=\"M 383 273 709 370\" stroke=\"gray\" stroke-width=\"0.5\"/><path d=\"M 383 273 538 496\" stroke=\"gray\" stroke-width=\"0.5\"/><path d=\"M 383 273 119 99\" stroke=\"gray\" stroke-width=\"0.5\"/><path d=\"M 383 273 338 20\" stroke=\"gray\" stroke-width=\"0.5\"/><path d=\"M 101 420 383 273\" stroke=\"gray\" stroke-width=\"0.5\"/><path d=\"M 20 260 383 273\" stroke=\"gray\" stroke-width=\"0.5\"/><path d=\"M 575 59 383 273\" stroke=\"gray\" stroke-width=\"0.5\"/><path d=\"M 294 520 383 273\" stroke=\"gray\" stroke-width=\"0.5\"/><path d=\"M 720 197 383 273\" stroke=\"gray\" stroke-width=\"0.5\"/><path d=\"M 709 370 383 273\" stroke=\"gray\" stroke-width=\"0.5\"/><path d=\"M 538 496 383 273\" stroke=\"gray\" stroke-width=\"0.5\"/><path d=\"M 119 99 383 273\" stroke=\"gray\" stroke-width=\"0.5\"/><path d=\"M 338 20 383 273\" stroke=\"gray\" stroke-width=\"0.5\"/><circle cx=\"383\" cy=\"273\" r=\"5.0\" style=\"fill:rgb(179, 3, 38);stroke:black;stroke-width:1.0\"/><circle cx=\"101\" cy=\"420\" r=\"5.0\" style=\"fill:rgb(58, 76, 192);stroke:black;stroke-width:1.0\"/><circle cx=\"20\" cy=\"260\" r=\"5.0\" style=\"fill:rgb(58, 76, 192);stroke:black;stroke-width:1.0\"/><circle cx=\"575\" cy=\"59\" r=\"5.0\" style=\"fill:rgb(58, 76, 192);stroke:black;stroke-width:1.0\"/><circle cx=\"294\" cy=\"520\" r=\"5.0\" style=\"fill:rgb(58, 76, 192);stroke:black;stroke-width:1.0\"/><circle cx=\"720\" cy=\"197\" r=\"5.0\" style=\"fill:rgb(58, 76, 192);stroke:black;stroke-width:1.0\"/><circle cx=\"709\" cy=\"370\" r=\"5.0\" style=\"fill:rgb(58, 76, 192);stroke:black;stroke-width:1.0\"/><circle cx=\"538\" cy=\"496\" r=\"5.0\" style=\"fill:rgb(58, 76, 192);stroke:black;stroke-width:1.0\"/><circle cx=\"119\" cy=\"99\" r=\"5.0\" style=\"fill:rgb(58, 76, 192);stroke:black;stroke-width:1.0\"/><circle cx=\"338\" cy=\"20\" r=\"5.0\" style=\"fill:rgb(58, 76, 192);stroke:black;stroke-width:1.0\"/><text font-size=\"10\" x=\"391\" y=\"278\">List of Mount Everest death statistics</text><text font-size=\"10\" x=\"109\" y=\"425\">List of Mount Everest records</text><text font-size=\"10\" x=\"28\" y=\"265\">George Mallory</text><text font-size=\"10\" x=\"583\" y=\"64\">List of Mount Everest summiters by frequency</text><text font-size=\"10\" x=\"302\" y=\"525\">List of people who died climbing Mount Everest</text><text font-size=\"10\" x=\"728\" y=\"202\">List of deaths on eight-thousanders</text><text font-size=\"10\" x=\"717\" y=\"375\">2015 Mount Everest avalanches</text><text font-size=\"10\" x=\"546\" y=\"501\">Mount Everest</text><text font-size=\"10\" x=\"127\" y=\"104\">K2</text><text font-size=\"10\" x=\"346\" y=\"25\">Neal Beidleman</text></svg>"
      ],
      "text/plain": [
       "<IPython.core.display.SVG object>"
      ]
     },
     "execution_count": 15,
     "metadata": {},
     "output_type": "execute_result"
    }
   ],
   "source": [
    "c = components[2]\n",
    "\n",
    "draw_graph(G.subgraph(c), node_size=5, show_names=True)"
   ]
  },
  {
   "cell_type": "code",
   "execution_count": 16,
   "id": "3d6b908e",
   "metadata": {},
   "outputs": [
    {
     "data": {
      "image/svg+xml": [
       "<svg height=\"540\" width=\"900.0\" xmlns=\"http://www.w3.org/2000/svg\"><path d=\"M 66 412 384 272\" stroke=\"gray\" stroke-width=\"0.5\"/><path d=\"M 384 272 66 412\" stroke=\"gray\" stroke-width=\"0.5\"/><path d=\"M 384 272 129 82\" stroke=\"gray\" stroke-width=\"0.5\"/><path d=\"M 384 272 20 240\" stroke=\"gray\" stroke-width=\"0.5\"/><path d=\"M 384 272 350 20\" stroke=\"gray\" stroke-width=\"0.5\"/><path d=\"M 384 272 720 204\" stroke=\"gray\" stroke-width=\"0.5\"/><path d=\"M 384 272 705 388\" stroke=\"gray\" stroke-width=\"0.5\"/><path d=\"M 384 272 581 51\" stroke=\"gray\" stroke-width=\"0.5\"/><path d=\"M 384 272 270 520\" stroke=\"gray\" stroke-width=\"0.5\"/><path d=\"M 384 272 526 514\" stroke=\"gray\" stroke-width=\"0.5\"/><path d=\"M 129 82 384 272\" stroke=\"gray\" stroke-width=\"0.5\"/><path d=\"M 20 240 384 272\" stroke=\"gray\" stroke-width=\"0.5\"/><path d=\"M 350 20 384 272\" stroke=\"gray\" stroke-width=\"0.5\"/><path d=\"M 720 204 384 272\" stroke=\"gray\" stroke-width=\"0.5\"/><path d=\"M 705 388 384 272\" stroke=\"gray\" stroke-width=\"0.5\"/><path d=\"M 581 51 384 272\" stroke=\"gray\" stroke-width=\"0.5\"/><path d=\"M 270 520 384 272\" stroke=\"gray\" stroke-width=\"0.5\"/><path d=\"M 526 514 384 272\" stroke=\"gray\" stroke-width=\"0.5\"/><circle cx=\"66\" cy=\"412\" r=\"5.0\" style=\"fill:rgb(58, 76, 192);stroke:black;stroke-width:1.0\"/><circle cx=\"384\" cy=\"272\" r=\"5.0\" style=\"fill:rgb(179, 3, 38);stroke:black;stroke-width:1.0\"/><circle cx=\"129\" cy=\"82\" r=\"5.0\" style=\"fill:rgb(58, 76, 192);stroke:black;stroke-width:1.0\"/><circle cx=\"20\" cy=\"240\" r=\"5.0\" style=\"fill:rgb(58, 76, 192);stroke:black;stroke-width:1.0\"/><circle cx=\"350\" cy=\"20\" r=\"5.0\" style=\"fill:rgb(58, 76, 192);stroke:black;stroke-width:1.0\"/><circle cx=\"720\" cy=\"204\" r=\"5.0\" style=\"fill:rgb(58, 76, 192);stroke:black;stroke-width:1.0\"/><circle cx=\"705\" cy=\"388\" r=\"5.0\" style=\"fill:rgb(58, 76, 192);stroke:black;stroke-width:1.0\"/><circle cx=\"581\" cy=\"51\" r=\"5.0\" style=\"fill:rgb(58, 76, 192);stroke:black;stroke-width:1.0\"/><circle cx=\"270\" cy=\"520\" r=\"5.0\" style=\"fill:rgb(58, 76, 192);stroke:black;stroke-width:1.0\"/><circle cx=\"526\" cy=\"514\" r=\"5.0\" style=\"fill:rgb(58, 76, 192);stroke:black;stroke-width:1.0\"/><text font-size=\"10\" x=\"74\" y=\"417\">William S. Burroughs</text><text font-size=\"10\" x=\"392\" y=\"277\">RE/Search Publications</text><text font-size=\"10\" x=\"137\" y=\"87\">Prince Albert (genital piercing)</text><text font-size=\"10\" x=\"28\" y=\"245\">Incredibly Strange Films</text><text font-size=\"10\" x=\"358\" y=\"25\">Boyd Rice</text><text font-size=\"10\" x=\"728\" y=\"209\">Sandra Warner</text><text font-size=\"10\" x=\"713\" y=\"393\">V. Vale</text><text font-size=\"10\" x=\"589\" y=\"56\">Arse Elektronika</text><text font-size=\"10\" x=\"278\" y=\"525\">Modern Primitives (book)</text><text font-size=\"10\" x=\"534\" y=\"519\">Clitoris piercing</text></svg>"
      ],
      "text/plain": [
       "<IPython.core.display.SVG object>"
      ]
     },
     "execution_count": 16,
     "metadata": {},
     "output_type": "execute_result"
    }
   ],
   "source": [
    "c = components[3]\n",
    "\n",
    "draw_graph(G.subgraph(c), node_size=5, show_names=True)"
   ]
  },
  {
   "cell_type": "code",
   "execution_count": 17,
   "id": "76d5ed08",
   "metadata": {},
   "outputs": [
    {
     "data": {
      "image/svg+xml": [
       "<svg height=\"540\" width=\"965.0\" xmlns=\"http://www.w3.org/2000/svg\"><path d=\"M 635 426 360 268\" stroke=\"gray\" stroke-width=\"0.5\"/><path d=\"M 360 268 635 426\" stroke=\"gray\" stroke-width=\"0.5\"/><path d=\"M 360 268 331 20\" stroke=\"gray\" stroke-width=\"0.5\"/><path d=\"M 360 268 405 520\" stroke=\"gray\" stroke-width=\"0.5\"/><path d=\"M 360 268 20 297\" stroke=\"gray\" stroke-width=\"0.5\"/><path d=\"M 360 268 90 108\" stroke=\"gray\" stroke-width=\"0.5\"/><path d=\"M 360 268 152 469\" stroke=\"gray\" stroke-width=\"0.5\"/><path d=\"M 360 268 596 79\" stroke=\"gray\" stroke-width=\"0.5\"/><path d=\"M 360 268 720 247\" stroke=\"gray\" stroke-width=\"0.5\"/><path d=\"M 331 20 360 268\" stroke=\"gray\" stroke-width=\"0.5\"/><path d=\"M 405 520 360 268\" stroke=\"gray\" stroke-width=\"0.5\"/><path d=\"M 20 297 360 268\" stroke=\"gray\" stroke-width=\"0.5\"/><path d=\"M 90 108 360 268\" stroke=\"gray\" stroke-width=\"0.5\"/><path d=\"M 152 469 360 268\" stroke=\"gray\" stroke-width=\"0.5\"/><path d=\"M 596 79 360 268\" stroke=\"gray\" stroke-width=\"0.5\"/><path d=\"M 720 247 360 268\" stroke=\"gray\" stroke-width=\"0.5\"/><circle cx=\"635\" cy=\"426\" r=\"5.0\" style=\"fill:rgb(58, 76, 192);stroke:black;stroke-width:1.0\"/><circle cx=\"360\" cy=\"268\" r=\"5.0\" style=\"fill:rgb(179, 3, 38);stroke:black;stroke-width:1.0\"/><circle cx=\"331\" cy=\"20\" r=\"5.0\" style=\"fill:rgb(58, 76, 192);stroke:black;stroke-width:1.0\"/><circle cx=\"405\" cy=\"520\" r=\"5.0\" style=\"fill:rgb(58, 76, 192);stroke:black;stroke-width:1.0\"/><circle cx=\"20\" cy=\"297\" r=\"5.0\" style=\"fill:rgb(58, 76, 192);stroke:black;stroke-width:1.0\"/><circle cx=\"90\" cy=\"108\" r=\"5.0\" style=\"fill:rgb(58, 76, 192);stroke:black;stroke-width:1.0\"/><circle cx=\"152\" cy=\"469\" r=\"5.0\" style=\"fill:rgb(58, 76, 192);stroke:black;stroke-width:1.0\"/><circle cx=\"596\" cy=\"79\" r=\"5.0\" style=\"fill:rgb(58, 76, 192);stroke:black;stroke-width:1.0\"/><circle cx=\"720\" cy=\"247\" r=\"5.0\" style=\"fill:rgb(58, 76, 192);stroke:black;stroke-width:1.0\"/><text font-size=\"10\" x=\"643\" y=\"431\">List of equipment of the Canadian Coast Guard</text><text font-size=\"10\" x=\"368\" y=\"273\">Research vessel</text><text font-size=\"10\" x=\"339\" y=\"25\">Dragon Hole</text><text font-size=\"10\" x=\"413\" y=\"525\">Survey vessel</text><text font-size=\"10\" x=\"28\" y=\"302\">Russian research vessel Yantar</text><text font-size=\"10\" x=\"98\" y=\"113\">Merchant ship</text><text font-size=\"10\" x=\"160\" y=\"474\">Challenger Deep</text><text font-size=\"10\" x=\"604\" y=\"84\">List of active Portuguese Navy ships</text><text font-size=\"10\" x=\"728\" y=\"252\">List of research vessels by country</text></svg>"
      ],
      "text/plain": [
       "<IPython.core.display.SVG object>"
      ]
     },
     "execution_count": 17,
     "metadata": {},
     "output_type": "execute_result"
    }
   ],
   "source": [
    "c = components[4]\n",
    "\n",
    "draw_graph(G.subgraph(c), node_size=5, show_names=True)"
   ]
  },
  {
   "cell_type": "code",
   "execution_count": 18,
   "id": "2a6b69a9",
   "metadata": {},
   "outputs": [],
   "source": [
    "G_main = G.subgraph(components[0]) # we will use this for community detection"
   ]
  },
  {
   "cell_type": "markdown",
   "id": "6909165a",
   "metadata": {},
   "source": [
    "# Community Detection\n",
    "\n",
    "We have one large connected component, and this will be great for use in Community Detection. The smaller connected components are communities of their own in this network, split off from the main piece of this network."
   ]
  },
  {
   "cell_type": "code",
   "execution_count": 20,
   "id": "8022451c",
   "metadata": {},
   "outputs": [],
   "source": [
    "def draw_partition(G, partition): \n",
    "\n",
    "    import matplotlib.cm as cm \n",
    "    import matplotlib.pyplot as plt \n",
    "\n",
    "    # draw the graph \n",
    "    plt.figure(3,figsize=(12,12)) \n",
    "    pos = nx.spring_layout(G) \n",
    "\n",
    "    # color the nodes according to their partition \n",
    "    cmap = cm.get_cmap('jet', max(partition.values()) + 1) \n",
    "    nx.draw_networkx_nodes(G, pos, partition.keys(), node_size=40, cmap=cmap, node_color=list(partition.values())) \n",
    "    nx.draw_networkx_edges(G, pos, alpha=0.5, width=0.3) \n",
    "\n",
    "    return plt.show() "
   ]
  },
  {
   "cell_type": "code",
   "execution_count": 21,
   "id": "6247b204",
   "metadata": {},
   "outputs": [],
   "source": [
    "partition = community_louvain.best_partition(G_main, resolution=0.1, random_state=1337) \n",
    "\n",
    "# we could use draw_partition(G, partition) here, but this will take a long time to render\n",
    "# let's continue and I'll show a better way to visualize communities; we will use this at the end\n",
    "\n",
    "# you can use resolution to tweak the community sizes, to get communities to a manageable size\n",
    "# this is subjective; do what works for you; the point is to identify communities"
   ]
  },
  {
   "cell_type": "code",
   "execution_count": 22,
   "id": "03fc34b8",
   "metadata": {},
   "outputs": [
    {
     "data": {
      "text/plain": [
       "10     146\n",
       "185     42\n",
       "15      39\n",
       "33      38\n",
       "4       28\n",
       "328     26\n",
       "7       26\n",
       "324     24\n",
       "9       23\n",
       "337     22\n",
       "41      20\n",
       "167     20\n",
       "166     18\n",
       "0       17\n",
       "134     16\n",
       "51      16\n",
       "402     15\n",
       "429     14\n",
       "14      13\n",
       "284     12\n",
       "Name: community, dtype: int64"
      ]
     },
     "execution_count": 22,
     "metadata": {},
     "output_type": "execute_result"
    }
   ],
   "source": [
    "community_df = pd.DataFrame().from_dict(partition, orient='index')\n",
    "community_df.reset_index(inplace=True)\n",
    "community_df.columns = ['node', 'community']\n",
    "\n",
    "# remove junk; identify relevant communities\n",
    "community_df = community_df[community_df['node'].str.contains('network|graph|science|inference')]\n",
    "\n",
    "community_df['community'].value_counts()[0:20]"
   ]
  },
  {
   "cell_type": "code",
   "execution_count": 23,
   "id": "04fee347",
   "metadata": {},
   "outputs": [
    {
     "data": {
      "text/plain": [
       "array([ 10, 185,  15,  33,   4, 328,   7, 324,   9, 337,  41, 167, 166,\n",
       "         0, 134,  51, 402, 429,  14, 284], dtype=int64)"
      ]
     },
     "execution_count": 23,
     "metadata": {},
     "output_type": "execute_result"
    }
   ],
   "source": [
    "comm_idx = community_df['community'].value_counts()[0:20].index.values\n",
    "comm_idx"
   ]
  },
  {
   "cell_type": "markdown",
   "id": "6e241e7f",
   "metadata": {},
   "source": [
    "## Exploring Communities"
   ]
  },
  {
   "cell_type": "code",
   "execution_count": 24,
   "id": "a9558fc4",
   "metadata": {},
   "outputs": [
    {
     "data": {
      "image/svg+xml": [
       "<svg height=\"540\" width=\"910.0\" xmlns=\"http://www.w3.org/2000/svg\"><path d=\"M 504 116 397 20\" stroke=\"gray\" stroke-width=\"0.5\"/><path d=\"M 504 116 720 182\" stroke=\"gray\" stroke-width=\"0.5\"/><path d=\"M 504 116 262 206\" stroke=\"gray\" stroke-width=\"0.5\"/><path d=\"M 504 116 408 246\" stroke=\"gray\" stroke-width=\"0.5\"/><path d=\"M 504 116 664 226\" stroke=\"gray\" stroke-width=\"0.5\"/><path d=\"M 504 116 186 79\" stroke=\"gray\" stroke-width=\"0.5\"/><path d=\"M 504 116 611 107\" stroke=\"gray\" stroke-width=\"0.5\"/><path d=\"M 479 485 349 466\" stroke=\"gray\" stroke-width=\"0.5\"/><path d=\"M 479 485 579 520\" stroke=\"gray\" stroke-width=\"0.5\"/><path d=\"M 479 485 508 434\" stroke=\"gray\" stroke-width=\"0.5\"/><path d=\"M 479 485 405 505\" stroke=\"gray\" stroke-width=\"0.5\"/><path d=\"M 479 485 382 427\" stroke=\"gray\" stroke-width=\"0.5\"/><path d=\"M 479 485 320 297\" stroke=\"gray\" stroke-width=\"0.5\"/><path d=\"M 246 330 349 466\" stroke=\"gray\" stroke-width=\"0.5\"/><path d=\"M 246 330 102 288\" stroke=\"gray\" stroke-width=\"0.5\"/><path d=\"M 246 330 214 244\" stroke=\"gray\" stroke-width=\"0.5\"/><path d=\"M 246 330 459 302\" stroke=\"gray\" stroke-width=\"0.5\"/><path d=\"M 246 330 193 213\" stroke=\"gray\" stroke-width=\"0.5\"/><path d=\"M 246 330 214 157\" stroke=\"gray\" stroke-width=\"0.5\"/><path d=\"M 246 330 320 297\" stroke=\"gray\" stroke-width=\"0.5\"/><path d=\"M 193 325 75 240\" stroke=\"gray\" stroke-width=\"0.5\"/><path d=\"M 193 325 368 202\" stroke=\"gray\" stroke-width=\"0.5\"/><path d=\"M 193 325 262 206\" stroke=\"gray\" stroke-width=\"0.5\"/><path d=\"M 193 325 408 246\" stroke=\"gray\" stroke-width=\"0.5\"/><path d=\"M 193 325 214 244\" stroke=\"gray\" stroke-width=\"0.5\"/><path d=\"M 193 325 382 427\" stroke=\"gray\" stroke-width=\"0.5\"/><path d=\"M 571 366 549 232\" stroke=\"gray\" stroke-width=\"0.5\"/><path d=\"M 571 366 482 196\" stroke=\"gray\" stroke-width=\"0.5\"/><path d=\"M 571 366 579 520\" stroke=\"gray\" stroke-width=\"0.5\"/><path d=\"M 571 366 508 434\" stroke=\"gray\" stroke-width=\"0.5\"/><path d=\"M 571 366 382 427\" stroke=\"gray\" stroke-width=\"0.5\"/><path d=\"M 571 366 320 297\" stroke=\"gray\" stroke-width=\"0.5\"/><path d=\"M 75 240 193 325\" stroke=\"gray\" stroke-width=\"0.5\"/><path d=\"M 75 240 265 165\" stroke=\"gray\" stroke-width=\"0.5\"/><path d=\"M 75 240 368 202\" stroke=\"gray\" stroke-width=\"0.5\"/><path d=\"M 75 240 214 244\" stroke=\"gray\" stroke-width=\"0.5\"/><path d=\"M 75 240 214 157\" stroke=\"gray\" stroke-width=\"0.5\"/><path d=\"M 241 38 397 20\" stroke=\"gray\" stroke-width=\"0.5\"/><path d=\"M 241 38 373 141\" stroke=\"gray\" stroke-width=\"0.5\"/><path d=\"M 241 38 193 213\" stroke=\"gray\" stroke-width=\"0.5\"/><path d=\"M 241 38 302 117\" stroke=\"gray\" stroke-width=\"0.5\"/><path d=\"M 241 38 214 157\" stroke=\"gray\" stroke-width=\"0.5\"/><path d=\"M 397 20 504 116\" stroke=\"gray\" stroke-width=\"0.5\"/><path d=\"M 397 20 241 38\" stroke=\"gray\" stroke-width=\"0.5\"/><path d=\"M 397 20 186 79\" stroke=\"gray\" stroke-width=\"0.5\"/><path d=\"M 397 20 214 157\" stroke=\"gray\" stroke-width=\"0.5\"/><path d=\"M 397 20 611 107\" stroke=\"gray\" stroke-width=\"0.5\"/><path d=\"M 265 165 75 240\" stroke=\"gray\" stroke-width=\"0.5\"/><path d=\"M 265 165 482 196\" stroke=\"gray\" stroke-width=\"0.5\"/><path d=\"M 265 165 52 161\" stroke=\"gray\" stroke-width=\"0.5\"/><path d=\"M 265 165 373 141\" stroke=\"gray\" stroke-width=\"0.5\"/><path d=\"M 265 165 302 117\" stroke=\"gray\" stroke-width=\"0.5\"/><path d=\"M 265 165 214 157\" stroke=\"gray\" stroke-width=\"0.5\"/><path d=\"M 265 165 320 297\" stroke=\"gray\" stroke-width=\"0.5\"/><path d=\"M 549 232 571 366\" stroke=\"gray\" stroke-width=\"0.5\"/><path d=\"M 549 232 720 182\" stroke=\"gray\" stroke-width=\"0.5\"/><path d=\"M 549 232 482 196\" stroke=\"gray\" stroke-width=\"0.5\"/><path d=\"M 549 232 214 244\" stroke=\"gray\" stroke-width=\"0.5\"/><path d=\"M 549 232 373 141\" stroke=\"gray\" stroke-width=\"0.5\"/><path d=\"M 549 232 611 107\" stroke=\"gray\" stroke-width=\"0.5\"/><path d=\"M 549 232 320 297\" stroke=\"gray\" stroke-width=\"0.5\"/><path d=\"M 368 202 193 325\" stroke=\"gray\" stroke-width=\"0.5\"/><path d=\"M 368 202 75 240\" stroke=\"gray\" stroke-width=\"0.5\"/><path d=\"M 368 202 482 196\" stroke=\"gray\" stroke-width=\"0.5\"/><path d=\"M 368 202 262 206\" stroke=\"gray\" stroke-width=\"0.5\"/><path d=\"M 368 202 373 141\" stroke=\"gray\" stroke-width=\"0.5\"/><path d=\"M 368 202 611 107\" stroke=\"gray\" stroke-width=\"0.5\"/><path d=\"M 720 182 504 116\" stroke=\"gray\" stroke-width=\"0.5\"/><path d=\"M 720 182 549 232\" stroke=\"gray\" stroke-width=\"0.5\"/><path d=\"M 720 182 664 226\" stroke=\"gray\" stroke-width=\"0.5\"/><path d=\"M 720 182 459 302\" stroke=\"gray\" stroke-width=\"0.5\"/><path d=\"M 720 182 611 107\" stroke=\"gray\" stroke-width=\"0.5\"/><path d=\"M 482 196 571 366\" stroke=\"gray\" stroke-width=\"0.5\"/><path d=\"M 482 196 265 165\" stroke=\"gray\" stroke-width=\"0.5\"/><path d=\"M 482 196 549 232\" stroke=\"gray\" stroke-width=\"0.5\"/><path d=\"M 482 196 368 202\" stroke=\"gray\" stroke-width=\"0.5\"/><path d=\"M 482 196 664 226\" stroke=\"gray\" stroke-width=\"0.5\"/><path d=\"M 482 196 373 141\" stroke=\"gray\" stroke-width=\"0.5\"/><path d=\"M 482 196 302 117\" stroke=\"gray\" stroke-width=\"0.5\"/><path d=\"M 482 196 214 157\" stroke=\"gray\" stroke-width=\"0.5\"/><path d=\"M 482 196 611 107\" stroke=\"gray\" stroke-width=\"0.5\"/><path d=\"M 482 196 320 297\" stroke=\"gray\" stroke-width=\"0.5\"/><path d=\"M 349 466 479 485\" stroke=\"gray\" stroke-width=\"0.5\"/><path d=\"M 349 466 246 330\" stroke=\"gray\" stroke-width=\"0.5\"/><path d=\"M 349 466 579 520\" stroke=\"gray\" stroke-width=\"0.5\"/><path d=\"M 349 466 508 434\" stroke=\"gray\" stroke-width=\"0.5\"/><path d=\"M 349 466 405 505\" stroke=\"gray\" stroke-width=\"0.5\"/><path d=\"M 349 466 382 427\" stroke=\"gray\" stroke-width=\"0.5\"/><path d=\"M 349 466 320 297\" stroke=\"gray\" stroke-width=\"0.5\"/><path d=\"M 579 520 479 485\" stroke=\"gray\" stroke-width=\"0.5\"/><path d=\"M 579 520 571 366\" stroke=\"gray\" stroke-width=\"0.5\"/><path d=\"M 579 520 349 466\" stroke=\"gray\" stroke-width=\"0.5\"/><path d=\"M 579 520 508 434\" stroke=\"gray\" stroke-width=\"0.5\"/><path d=\"M 579 520 405 505\" stroke=\"gray\" stroke-width=\"0.5\"/><path d=\"M 262 206 504 116\" stroke=\"gray\" stroke-width=\"0.5\"/><path d=\"M 262 206 193 325\" stroke=\"gray\" stroke-width=\"0.5\"/><path d=\"M 262 206 368 202\" stroke=\"gray\" stroke-width=\"0.5\"/><path d=\"M 262 206 102 288\" stroke=\"gray\" stroke-width=\"0.5\"/><path d=\"M 262 206 52 161\" stroke=\"gray\" stroke-width=\"0.5\"/><path d=\"M 262 206 408 246\" stroke=\"gray\" stroke-width=\"0.5\"/><path d=\"M 262 206 193 213\" stroke=\"gray\" stroke-width=\"0.5\"/><path d=\"M 262 206 302 117\" stroke=\"gray\" stroke-width=\"0.5\"/><path d=\"M 262 206 214 157\" stroke=\"gray\" stroke-width=\"0.5\"/><path d=\"M 102 288 246 330\" stroke=\"gray\" stroke-width=\"0.5\"/><path d=\"M 102 288 262 206\" stroke=\"gray\" stroke-width=\"0.5\"/><path d=\"M 102 288 20 206\" stroke=\"gray\" stroke-width=\"0.5\"/><path d=\"M 102 288 459 302\" stroke=\"gray\" stroke-width=\"0.5\"/><path d=\"M 102 288 193 213\" stroke=\"gray\" stroke-width=\"0.5\"/><path d=\"M 102 288 128 165\" stroke=\"gray\" stroke-width=\"0.5\"/><path d=\"M 20 206 102 288\" stroke=\"gray\" stroke-width=\"0.5\"/><path d=\"M 20 206 186 79\" stroke=\"gray\" stroke-width=\"0.5\"/><path d=\"M 20 206 214 244\" stroke=\"gray\" stroke-width=\"0.5\"/><path d=\"M 20 206 214 157\" stroke=\"gray\" stroke-width=\"0.5\"/><path d=\"M 20 206 320 297\" stroke=\"gray\" stroke-width=\"0.5\"/><path d=\"M 52 161 265 165\" stroke=\"gray\" stroke-width=\"0.5\"/><path d=\"M 52 161 262 206\" stroke=\"gray\" stroke-width=\"0.5\"/><path d=\"M 52 161 214 157\" stroke=\"gray\" stroke-width=\"0.5\"/><path d=\"M 52 161 320 297\" stroke=\"gray\" stroke-width=\"0.5\"/><path d=\"M 52 161 128 165\" stroke=\"gray\" stroke-width=\"0.5\"/><path d=\"M 408 246 504 116\" stroke=\"gray\" stroke-width=\"0.5\"/><path d=\"M 408 246 193 325\" stroke=\"gray\" stroke-width=\"0.5\"/><path d=\"M 408 246 262 206\" stroke=\"gray\" stroke-width=\"0.5\"/><path d=\"M 408 246 664 226\" stroke=\"gray\" stroke-width=\"0.5\"/><path d=\"M 408 246 214 244\" stroke=\"gray\" stroke-width=\"0.5\"/><path d=\"M 408 246 193 213\" stroke=\"gray\" stroke-width=\"0.5\"/><path d=\"M 664 226 504 116\" stroke=\"gray\" stroke-width=\"0.5\"/><path d=\"M 664 226 720 182\" stroke=\"gray\" stroke-width=\"0.5\"/><path d=\"M 664 226 482 196\" stroke=\"gray\" stroke-width=\"0.5\"/><path d=\"M 664 226 408 246\" stroke=\"gray\" stroke-width=\"0.5\"/><path d=\"M 664 226 459 302\" stroke=\"gray\" stroke-width=\"0.5\"/><path d=\"M 508 434 479 485\" stroke=\"gray\" stroke-width=\"0.5\"/><path d=\"M 508 434 571 366\" stroke=\"gray\" stroke-width=\"0.5\"/><path d=\"M 508 434 349 466\" stroke=\"gray\" stroke-width=\"0.5\"/><path d=\"M 508 434 579 520\" stroke=\"gray\" stroke-width=\"0.5\"/><path d=\"M 508 434 459 302\" stroke=\"gray\" stroke-width=\"0.5\"/><path d=\"M 508 434 405 505\" stroke=\"gray\" stroke-width=\"0.5\"/><path d=\"M 508 434 382 427\" stroke=\"gray\" stroke-width=\"0.5\"/><path d=\"M 508 434 320 297\" stroke=\"gray\" stroke-width=\"0.5\"/><path d=\"M 186 79 504 116\" stroke=\"gray\" stroke-width=\"0.5\"/><path d=\"M 186 79 397 20\" stroke=\"gray\" stroke-width=\"0.5\"/><path d=\"M 186 79 20 206\" stroke=\"gray\" stroke-width=\"0.5\"/><path d=\"M 186 79 214 244\" stroke=\"gray\" stroke-width=\"0.5\"/><path d=\"M 186 79 214 157\" stroke=\"gray\" stroke-width=\"0.5\"/><path d=\"M 214 244 246 330\" stroke=\"gray\" stroke-width=\"0.5\"/><path d=\"M 214 244 193 325\" stroke=\"gray\" stroke-width=\"0.5\"/><path d=\"M 214 244 75 240\" stroke=\"gray\" stroke-width=\"0.5\"/><path d=\"M 214 244 549 232\" stroke=\"gray\" stroke-width=\"0.5\"/><path d=\"M 214 244 20 206\" stroke=\"gray\" stroke-width=\"0.5\"/><path d=\"M 214 244 408 246\" stroke=\"gray\" stroke-width=\"0.5\"/><path d=\"M 214 244 186 79\" stroke=\"gray\" stroke-width=\"0.5\"/><path d=\"M 214 244 193 213\" stroke=\"gray\" stroke-width=\"0.5\"/><path d=\"M 214 244 214 157\" stroke=\"gray\" stroke-width=\"0.5\"/><path d=\"M 373 141 241 38\" stroke=\"gray\" stroke-width=\"0.5\"/><path d=\"M 373 141 265 165\" stroke=\"gray\" stroke-width=\"0.5\"/><path d=\"M 373 141 549 232\" stroke=\"gray\" stroke-width=\"0.5\"/><path d=\"M 373 141 368 202\" stroke=\"gray\" stroke-width=\"0.5\"/><path d=\"M 373 141 482 196\" stroke=\"gray\" stroke-width=\"0.5\"/><path d=\"M 373 141 302 117\" stroke=\"gray\" stroke-width=\"0.5\"/><path d=\"M 373 141 214 157\" stroke=\"gray\" stroke-width=\"0.5\"/><path d=\"M 373 141 320 297\" stroke=\"gray\" stroke-width=\"0.5\"/><path d=\"M 373 141 128 165\" stroke=\"gray\" stroke-width=\"0.5\"/><path d=\"M 459 302 246 330\" stroke=\"gray\" stroke-width=\"0.5\"/><path d=\"M 459 302 720 182\" stroke=\"gray\" stroke-width=\"0.5\"/><path d=\"M 459 302 102 288\" stroke=\"gray\" stroke-width=\"0.5\"/><path d=\"M 459 302 664 226\" stroke=\"gray\" stroke-width=\"0.5\"/><path d=\"M 459 302 508 434\" stroke=\"gray\" stroke-width=\"0.5\"/><path d=\"M 459 302 193 213\" stroke=\"gray\" stroke-width=\"0.5\"/><path d=\"M 193 213 246 330\" stroke=\"gray\" stroke-width=\"0.5\"/><path d=\"M 193 213 241 38\" stroke=\"gray\" stroke-width=\"0.5\"/><path d=\"M 193 213 262 206\" stroke=\"gray\" stroke-width=\"0.5\"/><path d=\"M 193 213 102 288\" stroke=\"gray\" stroke-width=\"0.5\"/><path d=\"M 193 213 408 246\" stroke=\"gray\" stroke-width=\"0.5\"/><path d=\"M 193 213 214 244\" stroke=\"gray\" stroke-width=\"0.5\"/><path d=\"M 193 213 459 302\" stroke=\"gray\" stroke-width=\"0.5\"/><path d=\"M 193 213 214 157\" stroke=\"gray\" stroke-width=\"0.5\"/><path d=\"M 193 213 128 165\" stroke=\"gray\" stroke-width=\"0.5\"/><path d=\"M 302 117 241 38\" stroke=\"gray\" stroke-width=\"0.5\"/><path d=\"M 302 117 265 165\" stroke=\"gray\" stroke-width=\"0.5\"/><path d=\"M 302 117 482 196\" stroke=\"gray\" stroke-width=\"0.5\"/><path d=\"M 302 117 262 206\" stroke=\"gray\" stroke-width=\"0.5\"/><path d=\"M 302 117 373 141\" stroke=\"gray\" stroke-width=\"0.5\"/><path d=\"M 302 117 214 157\" stroke=\"gray\" stroke-width=\"0.5\"/><path d=\"M 302 117 320 297\" stroke=\"gray\" stroke-width=\"0.5\"/><path d=\"M 302 117 128 165\" stroke=\"gray\" stroke-width=\"0.5\"/><path d=\"M 214 157 246 330\" stroke=\"gray\" stroke-width=\"0.5\"/><path d=\"M 214 157 75 240\" stroke=\"gray\" stroke-width=\"0.5\"/><path d=\"M 214 157 241 38\" stroke=\"gray\" stroke-width=\"0.5\"/><path d=\"M 214 157 397 20\" stroke=\"gray\" stroke-width=\"0.5\"/><path d=\"M 214 157 265 165\" stroke=\"gray\" stroke-width=\"0.5\"/><path d=\"M 214 157 482 196\" stroke=\"gray\" stroke-width=\"0.5\"/><path d=\"M 214 157 262 206\" stroke=\"gray\" stroke-width=\"0.5\"/><path d=\"M 214 157 20 206\" stroke=\"gray\" stroke-width=\"0.5\"/><path d=\"M 214 157 52 161\" stroke=\"gray\" stroke-width=\"0.5\"/><path d=\"M 214 157 186 79\" stroke=\"gray\" stroke-width=\"0.5\"/><path d=\"M 214 157 214 244\" stroke=\"gray\" stroke-width=\"0.5\"/><path d=\"M 214 157 373 141\" stroke=\"gray\" stroke-width=\"0.5\"/><path d=\"M 214 157 193 213\" stroke=\"gray\" stroke-width=\"0.5\"/><path d=\"M 214 157 302 117\" stroke=\"gray\" stroke-width=\"0.5\"/><path d=\"M 214 157 320 297\" stroke=\"gray\" stroke-width=\"0.5\"/><path d=\"M 214 157 128 165\" stroke=\"gray\" stroke-width=\"0.5\"/><path d=\"M 611 107 504 116\" stroke=\"gray\" stroke-width=\"0.5\"/><path d=\"M 611 107 397 20\" stroke=\"gray\" stroke-width=\"0.5\"/><path d=\"M 611 107 549 232\" stroke=\"gray\" stroke-width=\"0.5\"/><path d=\"M 611 107 368 202\" stroke=\"gray\" stroke-width=\"0.5\"/><path d=\"M 611 107 720 182\" stroke=\"gray\" stroke-width=\"0.5\"/><path d=\"M 611 107 482 196\" stroke=\"gray\" stroke-width=\"0.5\"/><path d=\"M 405 505 479 485\" stroke=\"gray\" stroke-width=\"0.5\"/><path d=\"M 405 505 349 466\" stroke=\"gray\" stroke-width=\"0.5\"/><path d=\"M 405 505 579 520\" stroke=\"gray\" stroke-width=\"0.5\"/><path d=\"M 405 505 508 434\" stroke=\"gray\" stroke-width=\"0.5\"/><path d=\"M 405 505 382 427\" stroke=\"gray\" stroke-width=\"0.5\"/><path d=\"M 405 505 320 297\" stroke=\"gray\" stroke-width=\"0.5\"/><path d=\"M 382 427 479 485\" stroke=\"gray\" stroke-width=\"0.5\"/><path d=\"M 382 427 193 325\" stroke=\"gray\" stroke-width=\"0.5\"/><path d=\"M 382 427 571 366\" stroke=\"gray\" stroke-width=\"0.5\"/><path d=\"M 382 427 349 466\" stroke=\"gray\" stroke-width=\"0.5\"/><path d=\"M 382 427 508 434\" stroke=\"gray\" stroke-width=\"0.5\"/><path d=\"M 382 427 405 505\" stroke=\"gray\" stroke-width=\"0.5\"/><path d=\"M 382 427 320 297\" stroke=\"gray\" stroke-width=\"0.5\"/><path d=\"M 320 297 479 485\" stroke=\"gray\" stroke-width=\"0.5\"/><path d=\"M 320 297 246 330\" stroke=\"gray\" stroke-width=\"0.5\"/><path d=\"M 320 297 571 366\" stroke=\"gray\" stroke-width=\"0.5\"/><path d=\"M 320 297 265 165\" stroke=\"gray\" stroke-width=\"0.5\"/><path d=\"M 320 297 549 232\" stroke=\"gray\" stroke-width=\"0.5\"/><path d=\"M 320 297 482 196\" stroke=\"gray\" stroke-width=\"0.5\"/><path d=\"M 320 297 349 466\" stroke=\"gray\" stroke-width=\"0.5\"/><path d=\"M 320 297 20 206\" stroke=\"gray\" stroke-width=\"0.5\"/><path d=\"M 320 297 52 161\" stroke=\"gray\" stroke-width=\"0.5\"/><path d=\"M 320 297 508 434\" stroke=\"gray\" stroke-width=\"0.5\"/><path d=\"M 320 297 373 141\" stroke=\"gray\" stroke-width=\"0.5\"/><path d=\"M 320 297 302 117\" stroke=\"gray\" stroke-width=\"0.5\"/><path d=\"M 320 297 214 157\" stroke=\"gray\" stroke-width=\"0.5\"/><path d=\"M 320 297 405 505\" stroke=\"gray\" stroke-width=\"0.5\"/><path d=\"M 320 297 382 427\" stroke=\"gray\" stroke-width=\"0.5\"/><path d=\"M 320 297 128 165\" stroke=\"gray\" stroke-width=\"0.5\"/><path d=\"M 128 165 102 288\" stroke=\"gray\" stroke-width=\"0.5\"/><path d=\"M 128 165 52 161\" stroke=\"gray\" stroke-width=\"0.5\"/><path d=\"M 128 165 373 141\" stroke=\"gray\" stroke-width=\"0.5\"/><path d=\"M 128 165 193 213\" stroke=\"gray\" stroke-width=\"0.5\"/><path d=\"M 128 165 302 117\" stroke=\"gray\" stroke-width=\"0.5\"/><path d=\"M 128 165 214 157\" stroke=\"gray\" stroke-width=\"0.5\"/><path d=\"M 128 165 320 297\" stroke=\"gray\" stroke-width=\"0.5\"/><circle cx=\"504\" cy=\"116\" r=\"3.0\" style=\"fill:rgb(138, 173, 253);stroke:black;stroke-width:1.0\"/><circle cx=\"479\" cy=\"485\" r=\"3.0\" style=\"fill:rgb(92, 123, 229);stroke:black;stroke-width:1.0\"/><circle cx=\"246\" cy=\"330\" r=\"3.0\" style=\"fill:rgb(116, 151, 245);stroke:black;stroke-width:1.0\"/><circle cx=\"193\" cy=\"325\" r=\"3.0\" style=\"fill:rgb(96, 128, 232);stroke:black;stroke-width:1.0\"/><circle cx=\"571\" cy=\"366\" r=\"3.0\" style=\"fill:rgb(88, 118, 226);stroke:black;stroke-width:1.0\"/><circle cx=\"75\" cy=\"240\" r=\"3.0\" style=\"fill:rgb(60, 79, 195);stroke:black;stroke-width:1.0\"/><circle cx=\"241\" cy=\"38\" r=\"3.0\" style=\"fill:rgb(60, 79, 195);stroke:black;stroke-width:1.0\"/><circle cx=\"397\" cy=\"20\" r=\"3.0\" style=\"fill:rgb(66, 88, 202);stroke:black;stroke-width:1.0\"/><circle cx=\"265\" cy=\"165\" r=\"3.0\" style=\"fill:rgb(112, 147, 243);stroke:black;stroke-width:1.0\"/><circle cx=\"549\" cy=\"232\" r=\"3.0\" style=\"fill:rgb(120, 155, 247);stroke:black;stroke-width:1.0\"/><circle cx=\"368\" cy=\"202\" r=\"3.0\" style=\"fill:rgb(92, 123, 229);stroke:black;stroke-width:1.0\"/><circle cx=\"720\" cy=\"182\" r=\"3.0\" style=\"fill:rgb(70, 93, 207);stroke:black;stroke-width:1.0\"/><circle cx=\"482\" cy=\"196\" r=\"3.0\" style=\"fill:rgb(208, 218, 233);stroke:black;stroke-width:1.0\"/><circle cx=\"349\" cy=\"466\" r=\"3.0\" style=\"fill:rgb(123, 158, 248);stroke:black;stroke-width:1.0\"/><circle cx=\"579\" cy=\"520\" r=\"3.0\" style=\"fill:rgb(66, 88, 202);stroke:black;stroke-width:1.0\"/><circle cx=\"262\" cy=\"206\" r=\"3.0\" style=\"fill:rgb(187, 209, 247);stroke:black;stroke-width:1.0\"/><circle cx=\"102\" cy=\"288\" r=\"3.0\" style=\"fill:rgb(92, 123, 229);stroke:black;stroke-width:1.0\"/><circle cx=\"20\" cy=\"206\" r=\"3.0\" style=\"fill:rgb(60, 79, 195);stroke:black;stroke-width:1.0\"/><circle cx=\"52\" cy=\"161\" r=\"3.0\" style=\"fill:rgb(58, 76, 192);stroke:black;stroke-width:1.0\"/><circle cx=\"408\" cy=\"246\" r=\"3.0\" style=\"fill:rgb(96, 128, 232);stroke:black;stroke-width:1.0\"/><circle cx=\"664\" cy=\"226\" r=\"3.0\" style=\"fill:rgb(70, 93, 207);stroke:black;stroke-width:1.0\"/><circle cx=\"508\" cy=\"434\" r=\"3.0\" style=\"fill:rgb(159, 190, 254);stroke:black;stroke-width:1.0\"/><circle cx=\"186\" cy=\"79\" r=\"3.0\" style=\"fill:rgb(66, 88, 202);stroke:black;stroke-width:1.0\"/><circle cx=\"214\" cy=\"244\" r=\"3.0\" style=\"fill:rgb(187, 209, 247);stroke:black;stroke-width:1.0\"/><circle cx=\"373\" cy=\"141\" r=\"3.0\" style=\"fill:rgb(176, 203, 251);stroke:black;stroke-width:1.0\"/><circle cx=\"459\" cy=\"302\" r=\"3.0\" style=\"fill:rgb(96, 128, 232);stroke:black;stroke-width:1.0\"/><circle cx=\"193\" cy=\"213\" r=\"3.0\" style=\"fill:rgb(183, 207, 249);stroke:black;stroke-width:1.0\"/><circle cx=\"302\" cy=\"117\" r=\"3.0\" style=\"fill:rgb(141, 175, 253);stroke:black;stroke-width:1.0\"/><circle cx=\"214\" cy=\"157\" r=\"3.0\" style=\"fill:rgb(179, 3, 38);stroke:black;stroke-width:1.0\"/><circle cx=\"611\" cy=\"107\" r=\"3.0\" style=\"fill:rgb(99, 131, 234);stroke:black;stroke-width:1.0\"/><circle cx=\"405\" cy=\"505\" r=\"3.0\" style=\"fill:rgb(92, 123, 229);stroke:black;stroke-width:1.0\"/><circle cx=\"382\" cy=\"427\" r=\"3.0\" style=\"fill:rgb(123, 158, 248);stroke:black;stroke-width:1.0\"/><circle cx=\"320\" cy=\"297\" r=\"3.0\" style=\"fill:rgb(182, 13, 40);stroke:black;stroke-width:1.0\"/><circle cx=\"128\" cy=\"165\" r=\"3.0\" style=\"fill:rgb(112, 147, 243);stroke:black;stroke-width:1.0\"/><text font-size=\"10\" x=\"510\" y=\"119\">Circle graph</text><text font-size=\"10\" x=\"485\" y=\"488\">Matching in hypergraphs</text><text font-size=\"10\" x=\"252\" y=\"333\">Chordal bipartite graph</text><text font-size=\"10\" x=\"199\" y=\"328\">Independent set (graph theory)</text><text font-size=\"10\" x=\"577\" y=\"369\">Line graph of a hypergraph</text><text font-size=\"10\" x=\"81\" y=\"243\">Complement graph</text><text font-size=\"10\" x=\"247\" y=\"41\">Meyniel graph</text><text font-size=\"10\" x=\"403\" y=\"23\">Distance-hereditary graph</text><text font-size=\"10\" x=\"271\" y=\"168\">Perfect graph theorem</text><text font-size=\"10\" x=\"555\" y=\"235\">Forbidden graph characterization</text><text font-size=\"10\" x=\"374\" y=\"205\">Claw-free graph</text><text font-size=\"10\" x=\"726\" y=\"185\">Outerplanar graph</text><text font-size=\"10\" x=\"488\" y=\"199\">Line graph</text><text font-size=\"10\" x=\"355\" y=\"469\">Bipartite hypergraph</text><text font-size=\"10\" x=\"585\" y=\"523\">Hall-type theorems for hypergraphs</text><text font-size=\"10\" x=\"268\" y=\"209\">Interval graph</text><text font-size=\"10\" x=\"108\" y=\"291\">Strongly chordal graph</text><text font-size=\"10\" x=\"26\" y=\"209\">Split graph</text><text font-size=\"10\" x=\"58\" y=\"164\">Trivially perfect graph</text><text font-size=\"10\" x=\"414\" y=\"249\">Intersection graph</text><text font-size=\"10\" x=\"670\" y=\"229\">Planar graph</text><text font-size=\"10\" x=\"514\" y=\"437\">Hypergraph</text><text font-size=\"10\" x=\"192\" y=\"82\">Split (graph theory)</text><text font-size=\"10\" x=\"220\" y=\"247\">Clique (graph theory)</text><text font-size=\"10\" x=\"379\" y=\"144\">Strong perfect graph theorem</text><text font-size=\"10\" x=\"465\" y=\"305\">Dually chordal graph</text><text font-size=\"10\" x=\"199\" y=\"216\">Chordal graph</text><text font-size=\"10\" x=\"308\" y=\"120\">Line perfect graph</text><text font-size=\"10\" x=\"220\" y=\"160\">Perfect graph</text><text font-size=\"10\" x=\"617\" y=\"110\">Sachs subgraph</text><text font-size=\"10\" x=\"411\" y=\"508\">Balanced hypergraph</text><text font-size=\"10\" x=\"388\" y=\"430\">Vertex cover in hypergraphs</text><text font-size=\"10\" x=\"326\" y=\"300\">Bipartite graph</text><text font-size=\"10\" x=\"134\" y=\"168\">Cycle (graph theory)</text></svg>"
      ],
      "text/plain": [
       "<IPython.core.display.SVG object>"
      ]
     },
     "execution_count": 24,
     "metadata": {},
     "output_type": "execute_result"
    }
   ],
   "source": [
    "nodes = community_df[community_df['community']==comm_idx[0]]['node'].values\n",
    "\n",
    "G_comm = G.subgraph(nodes)\n",
    "G_net_main = G_comm.copy() # we will run community detection off of this at the end\n",
    "\n",
    "draw_graph(nx.k_core(G_comm, 5), show_names=True, node_size=3)"
   ]
  },
  {
   "cell_type": "code",
   "execution_count": 25,
   "id": "1a2d5e19",
   "metadata": {},
   "outputs": [
    {
     "name": "stdout",
     "output_type": "stream",
     "text": [
      "1-planar graph\n",
      "Apex graph\n",
      "Balanced hypergraph\n",
      "Biconnected graph\n",
      "Bidirected graph\n",
      "Bipartite graph\n",
      "Bipartite hypergraph\n",
      "Block graph\n",
      "Bramble (graph theory)\n",
      "Bull graph\n",
      "Butterfly graph\n",
      "Cactus graph\n",
      "Cage (graph theory)\n",
      "Cartesian product of graphs\n",
      "Cayley graph\n",
      "Chordal bipartite graph\n",
      "Chordal graph\n",
      "Chvátal graph\n",
      "Circle graph\n",
      "Circulant graph\n",
      "Claw-free graph\n",
      "Clique (graph theory)\n",
      "Clique graph\n",
      "Clique graph (disambiguation)\n",
      "Closed graph property\n",
      "Closed graph theorem (functional analysis)\n",
      "Code property graph\n",
      "Cograph\n",
      "Colin de Verdière graph invariant\n",
      "Complement graph\n",
      "Complete bipartite graph\n",
      "Conway's 99-graph problem\n",
      "Covering graph\n",
      "Crossing number (graph theory)\n",
      "Crown graph\n",
      "Cubic graph\n",
      "Cycle (graph theory)\n",
      "Cycle graph\n",
      "Cycle graph (algebra)\n",
      "Cyclic graph\n",
      "Degeneracy (graph theory)\n",
      "Dense graph\n",
      "Desargues graph\n",
      "Dimension (graph theory)\n",
      "Distance-hereditary graph\n",
      "Distance-regular graph\n",
      "Distance-transitive graph\n",
      "Dual graph\n",
      "Dually chordal graph\n",
      "Dürer graph\n",
      "Edge-transitive graph\n",
      "Factor graph\n",
      "Forbidden graph characterization\n",
      "Friendship graph\n",
      "Frucht graph\n",
      "Generalized Petersen graph\n",
      "Geometric graph theory\n",
      "Girth (graph theory)\n",
      "Golomb graph\n",
      "Grötzsch graph\n",
      "Hadwiger conjecture (graph theory)\n",
      "Halin graph\n",
      "Hall-type theorems for hypergraphs\n",
      "Heawood graph\n",
      "Hoffman–Singleton graph\n",
      "Homeomorphism (graph theory)\n",
      "Hypercube graph\n",
      "Hypergraph\n",
      "Incidence (graph)\n",
      "Independent set (graph theory)\n",
      "Indifference graph\n",
      "Intersection graph\n",
      "Intersection number (graph theory)\n",
      "Interval graph\n",
      "Johnson graph\n",
      "K-outerplanar graph\n",
      "Kneser graph\n",
      "Knowledge graph\n",
      "Knowledge graph embedding\n",
      "Laman graph\n",
      "Lattice graph\n",
      "Laves graph\n",
      "Levi graph\n",
      "Line graph\n",
      "Line graph of a hypergraph\n",
      "Line perfect graph\n",
      "List of graphs\n",
      "List of graphs by edges and vertices\n",
      "Matching in hypergraphs\n",
      "Median graph\n",
      "Metric dimension (graph theory)\n",
      "Meyniel graph\n",
      "Minimum rank of a graph\n",
      "Modular graph\n",
      "Modular product of graphs\n",
      "Modularity (networks)\n",
      "Möbius–Kantor graph\n",
      "Nauru graph\n",
      "Neighbourhood (graph theory)\n",
      "Outerplanar graph\n",
      "Paley graph\n",
      "Pancyclic graph\n",
      "Parity graph\n",
      "Perfect graph\n",
      "Perfect graph theorem\n",
      "Perfect matching in high-degree hypergraphs\n",
      "Petersen graph\n",
      "Planar graph\n",
      "Planar straight-line graph\n",
      "Polygon-circle graph\n",
      "Ptolemaic graph\n",
      "Rank (graph theory)\n",
      "Sachs subgraph\n",
      "Scene graph\n",
      "Self-complementary graph\n",
      "Semi-symmetric graph\n",
      "Snark (graph theory)\n",
      "Sousselier graph\n",
      "Sphericity (graph theory)\n",
      "Split (graph theory)\n",
      "Split graph\n",
      "Star (graph theory)\n",
      "Strangulated graph\n",
      "Strong perfect graph theorem\n",
      "Strongly chordal graph\n",
      "Strongly regular graph\n",
      "Symmetric graph\n",
      "Tensor product of graphs\n",
      "Thickness (graph theory)\n",
      "Threshold graph\n",
      "Topological graph\n",
      "Topological graph theory\n",
      "Toroidal graph\n",
      "Tournament (graph theory)\n",
      "Triangle graph\n",
      "Triangle-free graph\n",
      "Trivially perfect graph\n",
      "Uniquely colorable graph\n",
      "Unit disk graph\n",
      "Unit distance graph\n",
      "Vertex cover in hypergraphs\n",
      "Vertex-transitive graph\n",
      "Visibility graph\n",
      "Visibility graph analysis\n",
      "Wheel graph\n",
      "Windmill graph\n"
     ]
    },
    {
     "data": {
      "text/plain": [
       "[None,\n",
       " None,\n",
       " None,\n",
       " None,\n",
       " None,\n",
       " None,\n",
       " None,\n",
       " None,\n",
       " None,\n",
       " None,\n",
       " None,\n",
       " None,\n",
       " None,\n",
       " None,\n",
       " None,\n",
       " None,\n",
       " None,\n",
       " None,\n",
       " None,\n",
       " None,\n",
       " None,\n",
       " None,\n",
       " None,\n",
       " None,\n",
       " None,\n",
       " None,\n",
       " None,\n",
       " None,\n",
       " None,\n",
       " None,\n",
       " None,\n",
       " None,\n",
       " None,\n",
       " None,\n",
       " None,\n",
       " None,\n",
       " None,\n",
       " None,\n",
       " None,\n",
       " None,\n",
       " None,\n",
       " None,\n",
       " None,\n",
       " None,\n",
       " None,\n",
       " None,\n",
       " None,\n",
       " None,\n",
       " None,\n",
       " None,\n",
       " None,\n",
       " None,\n",
       " None,\n",
       " None,\n",
       " None,\n",
       " None,\n",
       " None,\n",
       " None,\n",
       " None,\n",
       " None,\n",
       " None,\n",
       " None,\n",
       " None,\n",
       " None,\n",
       " None,\n",
       " None,\n",
       " None,\n",
       " None,\n",
       " None,\n",
       " None,\n",
       " None,\n",
       " None,\n",
       " None,\n",
       " None,\n",
       " None,\n",
       " None,\n",
       " None,\n",
       " None,\n",
       " None,\n",
       " None,\n",
       " None,\n",
       " None,\n",
       " None,\n",
       " None,\n",
       " None,\n",
       " None,\n",
       " None,\n",
       " None,\n",
       " None,\n",
       " None,\n",
       " None,\n",
       " None,\n",
       " None,\n",
       " None,\n",
       " None,\n",
       " None,\n",
       " None,\n",
       " None,\n",
       " None,\n",
       " None,\n",
       " None,\n",
       " None,\n",
       " None,\n",
       " None,\n",
       " None,\n",
       " None,\n",
       " None,\n",
       " None,\n",
       " None,\n",
       " None,\n",
       " None,\n",
       " None,\n",
       " None,\n",
       " None,\n",
       " None,\n",
       " None,\n",
       " None,\n",
       " None,\n",
       " None,\n",
       " None,\n",
       " None,\n",
       " None,\n",
       " None,\n",
       " None,\n",
       " None,\n",
       " None,\n",
       " None,\n",
       " None,\n",
       " None,\n",
       " None,\n",
       " None,\n",
       " None,\n",
       " None,\n",
       " None,\n",
       " None,\n",
       " None,\n",
       " None,\n",
       " None,\n",
       " None,\n",
       " None,\n",
       " None,\n",
       " None,\n",
       " None,\n",
       " None,\n",
       " None,\n",
       " None]"
      ]
     },
     "execution_count": 25,
     "metadata": {},
     "output_type": "execute_result"
    }
   ],
   "source": [
    "[print(n) for n in sorted(G_comm.nodes)]"
   ]
  },
  {
   "cell_type": "markdown",
   "id": "f9058293",
   "metadata": {},
   "source": [
    "## More Communities!"
   ]
  },
  {
   "cell_type": "code",
   "execution_count": 26,
   "id": "fa7ba783",
   "metadata": {},
   "outputs": [
    {
     "data": {
      "image/svg+xml": [
       "<svg height=\"540\" width=\"990.0\" xmlns=\"http://www.w3.org/2000/svg\"><path d=\"M 352 408 429 405\" stroke=\"gray\" stroke-width=\"0.5\"/><path d=\"M 352 408 373 326\" stroke=\"gray\" stroke-width=\"0.5\"/><path d=\"M 317 398 488 371\" stroke=\"gray\" stroke-width=\"0.5\"/><path d=\"M 317 398 433 333\" stroke=\"gray\" stroke-width=\"0.5\"/><path d=\"M 317 398 425 307\" stroke=\"gray\" stroke-width=\"0.5\"/><path d=\"M 317 398 338 472\" stroke=\"gray\" stroke-width=\"0.5\"/><path d=\"M 317 398 213 474\" stroke=\"gray\" stroke-width=\"0.5\"/><path d=\"M 317 398 214 453\" stroke=\"gray\" stroke-width=\"0.5\"/><path d=\"M 79 62 245 119\" stroke=\"gray\" stroke-width=\"0.5\"/><path d=\"M 352 91 509 99\" stroke=\"gray\" stroke-width=\"0.5\"/><path d=\"M 352 91 396 126\" stroke=\"gray\" stroke-width=\"0.5\"/><path d=\"M 352 91 245 119\" stroke=\"gray\" stroke-width=\"0.5\"/><path d=\"M 488 371 317 398\" stroke=\"gray\" stroke-width=\"0.5\"/><path d=\"M 488 371 373 326\" stroke=\"gray\" stroke-width=\"0.5\"/><path d=\"M 488 371 588 350\" stroke=\"gray\" stroke-width=\"0.5\"/><path d=\"M 320 63 509 99\" stroke=\"gray\" stroke-width=\"0.5\"/><path d=\"M 320 63 245 119\" stroke=\"gray\" stroke-width=\"0.5\"/><path d=\"M 433 333 317 398\" stroke=\"gray\" stroke-width=\"0.5\"/><path d=\"M 433 333 425 307\" stroke=\"gray\" stroke-width=\"0.5\"/><path d=\"M 433 333 469 268\" stroke=\"gray\" stroke-width=\"0.5\"/><path d=\"M 429 405 352 408\" stroke=\"gray\" stroke-width=\"0.5\"/><path d=\"M 429 405 373 326\" stroke=\"gray\" stroke-width=\"0.5\"/><path d=\"M 126 323 373 326\" stroke=\"gray\" stroke-width=\"0.5\"/><path d=\"M 228 356 434 390\" stroke=\"gray\" stroke-width=\"0.5\"/><path d=\"M 199 415 214 453\" stroke=\"gray\" stroke-width=\"0.5\"/><path d=\"M 199 415 434 390\" stroke=\"gray\" stroke-width=\"0.5\"/><path d=\"M 373 326 352 408\" stroke=\"gray\" stroke-width=\"0.5\"/><path d=\"M 373 326 488 371\" stroke=\"gray\" stroke-width=\"0.5\"/><path d=\"M 373 326 429 405\" stroke=\"gray\" stroke-width=\"0.5\"/><path d=\"M 373 326 126 323\" stroke=\"gray\" stroke-width=\"0.5\"/><path d=\"M 373 326 425 307\" stroke=\"gray\" stroke-width=\"0.5\"/><path d=\"M 373 326 588 350\" stroke=\"gray\" stroke-width=\"0.5\"/><path d=\"M 373 326 409 199\" stroke=\"gray\" stroke-width=\"0.5\"/><path d=\"M 425 307 317 398\" stroke=\"gray\" stroke-width=\"0.5\"/><path d=\"M 425 307 433 333\" stroke=\"gray\" stroke-width=\"0.5\"/><path d=\"M 425 307 373 326\" stroke=\"gray\" stroke-width=\"0.5\"/><path d=\"M 425 307 469 268\" stroke=\"gray\" stroke-width=\"0.5\"/><path d=\"M 425 307 526 429\" stroke=\"gray\" stroke-width=\"0.5\"/><path d=\"M 425 307 348 180\" stroke=\"gray\" stroke-width=\"0.5\"/><path d=\"M 425 307 528 251\" stroke=\"gray\" stroke-width=\"0.5\"/><path d=\"M 132 175 348 180\" stroke=\"gray\" stroke-width=\"0.5\"/><path d=\"M 469 268 433 333\" stroke=\"gray\" stroke-width=\"0.5\"/><path d=\"M 469 268 425 307\" stroke=\"gray\" stroke-width=\"0.5\"/><path d=\"M 469 268 560 308\" stroke=\"gray\" stroke-width=\"0.5\"/><path d=\"M 469 268 528 251\" stroke=\"gray\" stroke-width=\"0.5\"/><path d=\"M 469 268 409 199\" stroke=\"gray\" stroke-width=\"0.5\"/><path d=\"M 190 506 338 472\" stroke=\"gray\" stroke-width=\"0.5\"/><path d=\"M 190 506 213 474\" stroke=\"gray\" stroke-width=\"0.5\"/><path d=\"M 190 506 214 453\" stroke=\"gray\" stroke-width=\"0.5\"/><path d=\"M 669 499 526 429\" stroke=\"gray\" stroke-width=\"0.5\"/><path d=\"M 338 472 317 398\" stroke=\"gray\" stroke-width=\"0.5\"/><path d=\"M 338 472 190 506\" stroke=\"gray\" stroke-width=\"0.5\"/><path d=\"M 338 472 213 474\" stroke=\"gray\" stroke-width=\"0.5\"/><path d=\"M 338 472 526 429\" stroke=\"gray\" stroke-width=\"0.5\"/><path d=\"M 508 20 509 99\" stroke=\"gray\" stroke-width=\"0.5\"/><path d=\"M 509 99 352 91\" stroke=\"gray\" stroke-width=\"0.5\"/><path d=\"M 509 99 320 63\" stroke=\"gray\" stroke-width=\"0.5\"/><path d=\"M 509 99 508 20\" stroke=\"gray\" stroke-width=\"0.5\"/><path d=\"M 509 99 396 126\" stroke=\"gray\" stroke-width=\"0.5\"/><path d=\"M 509 99 632 33\" stroke=\"gray\" stroke-width=\"0.5\"/><path d=\"M 509 99 720 96\" stroke=\"gray\" stroke-width=\"0.5\"/><path d=\"M 509 99 348 180\" stroke=\"gray\" stroke-width=\"0.5\"/><path d=\"M 509 99 409 199\" stroke=\"gray\" stroke-width=\"0.5\"/><path d=\"M 509 99 704 60\" stroke=\"gray\" stroke-width=\"0.5\"/><path d=\"M 213 474 317 398\" stroke=\"gray\" stroke-width=\"0.5\"/><path d=\"M 213 474 190 506\" stroke=\"gray\" stroke-width=\"0.5\"/><path d=\"M 213 474 338 472\" stroke=\"gray\" stroke-width=\"0.5\"/><path d=\"M 396 126 352 91\" stroke=\"gray\" stroke-width=\"0.5\"/><path d=\"M 396 126 509 99\" stroke=\"gray\" stroke-width=\"0.5\"/><path d=\"M 396 126 245 119\" stroke=\"gray\" stroke-width=\"0.5\"/><path d=\"M 396 126 348 180\" stroke=\"gray\" stroke-width=\"0.5\"/><path d=\"M 396 126 467 62\" stroke=\"gray\" stroke-width=\"0.5\"/><path d=\"M 396 126 409 199\" stroke=\"gray\" stroke-width=\"0.5\"/><path d=\"M 214 453 317 398\" stroke=\"gray\" stroke-width=\"0.5\"/><path d=\"M 214 453 199 415\" stroke=\"gray\" stroke-width=\"0.5\"/><path d=\"M 214 453 190 506\" stroke=\"gray\" stroke-width=\"0.5\"/><path d=\"M 214 453 58 520\" stroke=\"gray\" stroke-width=\"0.5\"/><path d=\"M 214 453 434 390\" stroke=\"gray\" stroke-width=\"0.5\"/><path d=\"M 58 520 214 453\" stroke=\"gray\" stroke-width=\"0.5\"/><path d=\"M 632 33 509 99\" stroke=\"gray\" stroke-width=\"0.5\"/><path d=\"M 245 119 79 62\" stroke=\"gray\" stroke-width=\"0.5\"/><path d=\"M 245 119 352 91\" stroke=\"gray\" stroke-width=\"0.5\"/><path d=\"M 245 119 320 63\" stroke=\"gray\" stroke-width=\"0.5\"/><path d=\"M 245 119 396 126\" stroke=\"gray\" stroke-width=\"0.5\"/><path d=\"M 245 119 348 180\" stroke=\"gray\" stroke-width=\"0.5\"/><path d=\"M 245 119 409 199\" stroke=\"gray\" stroke-width=\"0.5\"/><path d=\"M 245 119 20 96\" stroke=\"gray\" stroke-width=\"0.5\"/><path d=\"M 700 386 434 390\" stroke=\"gray\" stroke-width=\"0.5\"/><path d=\"M 526 429 425 307\" stroke=\"gray\" stroke-width=\"0.5\"/><path d=\"M 526 429 669 499\" stroke=\"gray\" stroke-width=\"0.5\"/><path d=\"M 526 429 338 472\" stroke=\"gray\" stroke-width=\"0.5\"/><path d=\"M 526 429 630 435\" stroke=\"gray\" stroke-width=\"0.5\"/><path d=\"M 720 96 509 99\" stroke=\"gray\" stroke-width=\"0.5\"/><path d=\"M 348 180 425 307\" stroke=\"gray\" stroke-width=\"0.5\"/><path d=\"M 348 180 132 175\" stroke=\"gray\" stroke-width=\"0.5\"/><path d=\"M 348 180 509 99\" stroke=\"gray\" stroke-width=\"0.5\"/><path d=\"M 348 180 396 126\" stroke=\"gray\" stroke-width=\"0.5\"/><path d=\"M 348 180 245 119\" stroke=\"gray\" stroke-width=\"0.5\"/><path d=\"M 348 180 409 199\" stroke=\"gray\" stroke-width=\"0.5\"/><path d=\"M 434 390 228 356\" stroke=\"gray\" stroke-width=\"0.5\"/><path d=\"M 434 390 199 415\" stroke=\"gray\" stroke-width=\"0.5\"/><path d=\"M 434 390 214 453\" stroke=\"gray\" stroke-width=\"0.5\"/><path d=\"M 434 390 700 386\" stroke=\"gray\" stroke-width=\"0.5\"/><path d=\"M 434 390 560 308\" stroke=\"gray\" stroke-width=\"0.5\"/><path d=\"M 434 390 630 435\" stroke=\"gray\" stroke-width=\"0.5\"/><path d=\"M 588 350 488 371\" stroke=\"gray\" stroke-width=\"0.5\"/><path d=\"M 588 350 373 326\" stroke=\"gray\" stroke-width=\"0.5\"/><path d=\"M 560 308 469 268\" stroke=\"gray\" stroke-width=\"0.5\"/><path d=\"M 560 308 434 390\" stroke=\"gray\" stroke-width=\"0.5\"/><path d=\"M 560 308 528 251\" stroke=\"gray\" stroke-width=\"0.5\"/><path d=\"M 630 435 526 429\" stroke=\"gray\" stroke-width=\"0.5\"/><path d=\"M 630 435 434 390\" stroke=\"gray\" stroke-width=\"0.5\"/><path d=\"M 467 62 396 126\" stroke=\"gray\" stroke-width=\"0.5\"/><path d=\"M 528 251 425 307\" stroke=\"gray\" stroke-width=\"0.5\"/><path d=\"M 528 251 469 268\" stroke=\"gray\" stroke-width=\"0.5\"/><path d=\"M 528 251 560 308\" stroke=\"gray\" stroke-width=\"0.5\"/><path d=\"M 528 251 409 199\" stroke=\"gray\" stroke-width=\"0.5\"/><path d=\"M 409 199 373 326\" stroke=\"gray\" stroke-width=\"0.5\"/><path d=\"M 409 199 469 268\" stroke=\"gray\" stroke-width=\"0.5\"/><path d=\"M 409 199 509 99\" stroke=\"gray\" stroke-width=\"0.5\"/><path d=\"M 409 199 396 126\" stroke=\"gray\" stroke-width=\"0.5\"/><path d=\"M 409 199 245 119\" stroke=\"gray\" stroke-width=\"0.5\"/><path d=\"M 409 199 348 180\" stroke=\"gray\" stroke-width=\"0.5\"/><path d=\"M 409 199 528 251\" stroke=\"gray\" stroke-width=\"0.5\"/><path d=\"M 704 60 509 99\" stroke=\"gray\" stroke-width=\"0.5\"/><path d=\"M 20 96 245 119\" stroke=\"gray\" stroke-width=\"0.5\"/><circle cx=\"352\" cy=\"408\" r=\"3.0\" style=\"fill:rgb(96, 128, 232);stroke:black;stroke-width:1.0\"/><circle cx=\"317\" cy=\"398\" r=\"3.0\" style=\"fill:rgb(224, 218, 215);stroke:black;stroke-width:1.0\"/><circle cx=\"79\" cy=\"62\" r=\"3.0\" style=\"fill:rgb(58, 76, 192);stroke:black;stroke-width:1.0\"/><circle cx=\"352\" cy=\"91\" r=\"3.0\" style=\"fill:rgb(130, 165, 251);stroke:black;stroke-width:1.0\"/><circle cx=\"488\" cy=\"371\" r=\"3.0\" style=\"fill:rgb(127, 162, 250);stroke:black;stroke-width:1.0\"/><circle cx=\"320\" cy=\"63\" r=\"3.0\" style=\"fill:rgb(96, 128, 232);stroke:black;stroke-width:1.0\"/><circle cx=\"433\" cy=\"333\" r=\"3.0\" style=\"fill:rgb(116, 151, 245);stroke:black;stroke-width:1.0\"/><circle cx=\"429\" cy=\"405\" r=\"3.0\" style=\"fill:rgb(96, 128, 232);stroke:black;stroke-width:1.0\"/><circle cx=\"126\" cy=\"323\" r=\"3.0\" style=\"fill:rgb(58, 76, 192);stroke:black;stroke-width:1.0\"/><circle cx=\"228\" cy=\"356\" r=\"3.0\" style=\"fill:rgb(64, 84, 199);stroke:black;stroke-width:1.0\"/><circle cx=\"199\" cy=\"415\" r=\"3.0\" style=\"fill:rgb(99, 131, 234);stroke:black;stroke-width:1.0\"/><circle cx=\"373\" cy=\"326\" r=\"3.0\" style=\"fill:rgb(247, 173, 143);stroke:black;stroke-width:1.0\"/><circle cx=\"425\" cy=\"307\" r=\"3.0\" style=\"fill:rgb(242, 200, 179);stroke:black;stroke-width:1.0\"/><circle cx=\"132\" cy=\"175\" r=\"3.0\" style=\"fill:rgb(58, 76, 192);stroke:black;stroke-width:1.0\"/><circle cx=\"469\" cy=\"268\" r=\"3.0\" style=\"fill:rgb(187, 209, 247);stroke:black;stroke-width:1.0\"/><circle cx=\"190\" cy=\"506\" r=\"3.0\" style=\"fill:rgb(127, 162, 250);stroke:black;stroke-width:1.0\"/><circle cx=\"669\" cy=\"499\" r=\"3.0\" style=\"fill:rgb(60, 79, 195);stroke:black;stroke-width:1.0\"/><circle cx=\"338\" cy=\"472\" r=\"3.0\" style=\"fill:rgb(166, 195, 253);stroke:black;stroke-width:1.0\"/><circle cx=\"508\" cy=\"20\" r=\"3.0\" style=\"fill:rgb(60, 79, 195);stroke:black;stroke-width:1.0\"/><circle cx=\"509\" cy=\"99\" r=\"3.0\" style=\"fill:rgb(179, 3, 38);stroke:black;stroke-width:1.0\"/><circle cx=\"213\" cy=\"474\" r=\"3.0\" style=\"fill:rgb(123, 158, 248);stroke:black;stroke-width:1.0\"/><circle cx=\"396\" cy=\"126\" r=\"3.0\" style=\"fill:rgb(236, 210, 196);stroke:black;stroke-width:1.0\"/><circle cx=\"214\" cy=\"453\" r=\"3.0\" style=\"fill:rgb(222, 219, 218);stroke:black;stroke-width:1.0\"/><circle cx=\"58\" cy=\"520\" r=\"3.0\" style=\"fill:rgb(60, 79, 195);stroke:black;stroke-width:1.0\"/><circle cx=\"632\" cy=\"33\" r=\"3.0\" style=\"fill:rgb(60, 79, 195);stroke:black;stroke-width:1.0\"/><circle cx=\"245\" cy=\"119\" r=\"3.0\" style=\"fill:rgb(247, 173, 143);stroke:black;stroke-width:1.0\"/><circle cx=\"700\" cy=\"386\" r=\"3.0\" style=\"fill:rgb(64, 84, 199);stroke:black;stroke-width:1.0\"/><circle cx=\"526\" cy=\"429\" r=\"3.0\" style=\"fill:rgb(180, 205, 250);stroke:black;stroke-width:1.0\"/><circle cx=\"720\" cy=\"96\" r=\"3.0\" style=\"fill:rgb(60, 79, 195);stroke:black;stroke-width:1.0\"/><circle cx=\"348\" cy=\"180\" r=\"3.0\" style=\"fill:rgb(231, 214, 204);stroke:black;stroke-width:1.0\"/><circle cx=\"434\" cy=\"390\" r=\"3.0\" style=\"fill:rgb(246, 183, 156);stroke:black;stroke-width:1.0\"/><circle cx=\"588\" cy=\"350\" r=\"3.0\" style=\"fill:rgb(92, 123, 229);stroke:black;stroke-width:1.0\"/><circle cx=\"560\" cy=\"308\" r=\"3.0\" style=\"fill:rgb(127, 162, 250);stroke:black;stroke-width:1.0\"/><circle cx=\"630\" cy=\"435\" r=\"3.0\" style=\"fill:rgb(99, 131, 234);stroke:black;stroke-width:1.0\"/><circle cx=\"467\" cy=\"62\" r=\"3.0\" style=\"fill:rgb(58, 76, 192);stroke:black;stroke-width:1.0\"/><circle cx=\"528\" cy=\"251\" r=\"3.0\" style=\"fill:rgb(152, 185, 254);stroke:black;stroke-width:1.0\"/><circle cx=\"409\" cy=\"199\" r=\"3.0\" style=\"fill:rgb(243, 198, 176);stroke:black;stroke-width:1.0\"/><circle cx=\"704\" cy=\"60\" r=\"3.0\" style=\"fill:rgb(60, 79, 195);stroke:black;stroke-width:1.0\"/><circle cx=\"20\" cy=\"96\" r=\"3.0\" style=\"fill:rgb(58, 76, 192);stroke:black;stroke-width:1.0\"/><text font-size=\"10\" x=\"358\" y=\"411\">List of computer science conference acronyms</text><text font-size=\"10\" x=\"323\" y=\"401\">List of abstractions (computer science)</text><text font-size=\"10\" x=\"85\" y=\"65\">Isometric video game graphics</text><text font-size=\"10\" x=\"358\" y=\"94\">Rendering (computer graphics)</text><text font-size=\"10\" x=\"494\" y=\"374\">List of pioneers in computer science</text><text font-size=\"10\" x=\"326\" y=\"66\">2D computer graphics</text><text font-size=\"10\" x=\"439\" y=\"336\">History of computer science</text><text font-size=\"10\" x=\"435\" y=\"408\">List of computer science journals</text><text font-size=\"10\" x=\"132\" y=\"326\">List of important publications in computer science</text><text font-size=\"10\" x=\"234\" y=\"359\">Starvation (computer science)</text><text font-size=\"10\" x=\"205\" y=\"418\">Covariance and contravariance (computer science)</text><text font-size=\"10\" x=\"379\" y=\"329\">List of computer science conferences</text><text font-size=\"10\" x=\"431\" y=\"310\">Glossary of computer science</text><text font-size=\"10\" x=\"138\" y=\"178\">Color bleeding (computer graphics)</text><text font-size=\"10\" x=\"475\" y=\"271\">Circuit (computer science)</text><text font-size=\"10\" x=\"196\" y=\"509\">Integer (computer science)</text><text font-size=\"10\" x=\"675\" y=\"502\">Garbage collection (computer science)</text><text font-size=\"10\" x=\"344\" y=\"475\">Abstraction (computer science)</text><text font-size=\"10\" x=\"514\" y=\"23\">Real-time computer graphics</text><text font-size=\"10\" x=\"515\" y=\"102\">3D computer graphics</text><text font-size=\"10\" x=\"219\" y=\"477\">Polling (computer science)</text><text font-size=\"10\" x=\"402\" y=\"129\">Computer graphics</text><text font-size=\"10\" x=\"220\" y=\"456\">Polymorphism (computer science)</text><text font-size=\"10\" x=\"64\" y=\"523\">Polymorphism (materials science)</text><text font-size=\"10\" x=\"638\" y=\"36\">List of 3D computer graphics software</text><text font-size=\"10\" x=\"251\" y=\"122\">Sprite (computer graphics)</text><text font-size=\"10\" x=\"706\" y=\"389\">Semantics (computer science)</text><text font-size=\"10\" x=\"532\" y=\"432\">Reference (computer science)</text><text font-size=\"10\" x=\"726\" y=\"99\">Comparison of 3D computer graphics software</text><text font-size=\"10\" x=\"354\" y=\"183\">Glossary of computer graphics</text><text font-size=\"10\" x=\"440\" y=\"393\">Correctness (computer science)</text><text font-size=\"10\" x=\"594\" y=\"353\">List of computer science awards</text><text font-size=\"10\" x=\"566\" y=\"311\">Theoretical computer science</text><text font-size=\"10\" x=\"636\" y=\"438\">Logic in computer science</text><text font-size=\"10\" x=\"473\" y=\"65\">Mesa (computer graphics)</text><text font-size=\"10\" x=\"534\" y=\"254\">Computer science and engineering</text><text font-size=\"10\" x=\"415\" y=\"202\">Computer graphics (computer science)</text><text font-size=\"10\" x=\"710\" y=\"63\">List of 3D graphics libraries</text><text font-size=\"10\" x=\"26\" y=\"99\">Video game graphics</text></svg>"
      ],
      "text/plain": [
       "<IPython.core.display.SVG object>"
      ]
     },
     "execution_count": 26,
     "metadata": {},
     "output_type": "execute_result"
    }
   ],
   "source": [
    "nodes = community_df[community_df['community']==comm_idx[1]]['node'].values\n",
    "\n",
    "G_comm = G.subgraph(nodes)\n",
    "\n",
    "draw_graph(nx.k_core(G_comm, 1), show_names=True, node_size=3)"
   ]
  },
  {
   "cell_type": "code",
   "execution_count": 27,
   "id": "e7004311",
   "metadata": {},
   "outputs": [
    {
     "name": "stdout",
     "output_type": "stream",
     "text": [
      "2D computer graphics\n",
      "3D computer graphics\n",
      "Abstraction (computer science)\n",
      "Circuit (computer science)\n",
      "Color bleeding (computer graphics)\n",
      "Comparison of 3D computer graphics software\n",
      "Computer graphics\n",
      "Computer graphics (computer science)\n",
      "Computer science and engineering\n",
      "Correctness (computer science)\n",
      "Covariance and contravariance (computer science)\n",
      "Garbage collection (computer science)\n",
      "Glossary of computer graphics\n",
      "Glossary of computer science\n",
      "History of computer science\n",
      "Integer (computer science)\n",
      "Isometric video game graphics\n",
      "Learning sciences\n",
      "List of 3D computer graphics software\n",
      "List of 3D graphics libraries\n",
      "List of abstractions (computer science)\n",
      "List of computer science awards\n",
      "List of computer science conference acronyms\n",
      "List of computer science conferences\n",
      "List of computer science journals\n",
      "List of important publications in computer science\n",
      "List of pioneers in computer science\n",
      "Logic in computer science\n",
      "Mesa (computer graphics)\n",
      "Node (computer science)\n",
      "Polling (computer science)\n",
      "Polymorphism (computer science)\n",
      "Polymorphism (materials science)\n",
      "Ray tracing (graphics)\n",
      "Real-time computer graphics\n",
      "Reference (computer science)\n",
      "Rendering (computer graphics)\n",
      "Semantics (computer science)\n",
      "Sprite (computer graphics)\n",
      "Starvation (computer science)\n",
      "Theoretical computer science\n",
      "Video game graphics\n"
     ]
    },
    {
     "data": {
      "text/plain": [
       "[None,\n",
       " None,\n",
       " None,\n",
       " None,\n",
       " None,\n",
       " None,\n",
       " None,\n",
       " None,\n",
       " None,\n",
       " None,\n",
       " None,\n",
       " None,\n",
       " None,\n",
       " None,\n",
       " None,\n",
       " None,\n",
       " None,\n",
       " None,\n",
       " None,\n",
       " None,\n",
       " None,\n",
       " None,\n",
       " None,\n",
       " None,\n",
       " None,\n",
       " None,\n",
       " None,\n",
       " None,\n",
       " None,\n",
       " None,\n",
       " None,\n",
       " None,\n",
       " None,\n",
       " None,\n",
       " None,\n",
       " None,\n",
       " None,\n",
       " None,\n",
       " None,\n",
       " None,\n",
       " None,\n",
       " None]"
      ]
     },
     "execution_count": 27,
     "metadata": {},
     "output_type": "execute_result"
    }
   ],
   "source": [
    "[print(n) for n in sorted(G_comm.nodes)]"
   ]
  },
  {
   "cell_type": "code",
   "execution_count": 28,
   "id": "f6df5bb6",
   "metadata": {},
   "outputs": [
    {
     "data": {
      "image/svg+xml": [
       "<svg height=\"540\" width=\"945.0\" xmlns=\"http://www.w3.org/2000/svg\"><path d=\"M 301 302 401 261\" stroke=\"gray\" stroke-width=\"0.5\"/><path d=\"M 301 302 349 259\" stroke=\"gray\" stroke-width=\"0.5\"/><path d=\"M 301 302 291 228\" stroke=\"gray\" stroke-width=\"0.5\"/><path d=\"M 301 302 131 306\" stroke=\"gray\" stroke-width=\"0.5\"/><path d=\"M 301 302 456 327\" stroke=\"gray\" stroke-width=\"0.5\"/><path d=\"M 301 302 323 203\" stroke=\"gray\" stroke-width=\"0.5\"/><path d=\"M 301 302 225 183\" stroke=\"gray\" stroke-width=\"0.5\"/><path d=\"M 301 302 284 259\" stroke=\"gray\" stroke-width=\"0.5\"/><path d=\"M 301 302 347 338\" stroke=\"gray\" stroke-width=\"0.5\"/><path d=\"M 301 302 215 274\" stroke=\"gray\" stroke-width=\"0.5\"/><path d=\"M 301 302 207 245\" stroke=\"gray\" stroke-width=\"0.5\"/><path d=\"M 413 520 347 338\" stroke=\"gray\" stroke-width=\"0.5\"/><path d=\"M 401 261 301 302\" stroke=\"gray\" stroke-width=\"0.5\"/><path d=\"M 401 261 349 259\" stroke=\"gray\" stroke-width=\"0.5\"/><path d=\"M 401 261 385 215\" stroke=\"gray\" stroke-width=\"0.5\"/><path d=\"M 401 261 291 228\" stroke=\"gray\" stroke-width=\"0.5\"/><path d=\"M 401 261 216 224\" stroke=\"gray\" stroke-width=\"0.5\"/><path d=\"M 401 261 456 327\" stroke=\"gray\" stroke-width=\"0.5\"/><path d=\"M 401 261 525 355\" stroke=\"gray\" stroke-width=\"0.5\"/><path d=\"M 401 261 284 259\" stroke=\"gray\" stroke-width=\"0.5\"/><path d=\"M 401 261 347 338\" stroke=\"gray\" stroke-width=\"0.5\"/><path d=\"M 401 261 215 274\" stroke=\"gray\" stroke-width=\"0.5\"/><path d=\"M 401 261 541 182\" stroke=\"gray\" stroke-width=\"0.5\"/><path d=\"M 401 261 256 143\" stroke=\"gray\" stroke-width=\"0.5\"/><path d=\"M 401 261 309 269\" stroke=\"gray\" stroke-width=\"0.5\"/><path d=\"M 617 123 385 215\" stroke=\"gray\" stroke-width=\"0.5\"/><path d=\"M 617 123 541 182\" stroke=\"gray\" stroke-width=\"0.5\"/><path d=\"M 102 426 216 224\" stroke=\"gray\" stroke-width=\"0.5\"/><path d=\"M 349 259 301 302\" stroke=\"gray\" stroke-width=\"0.5\"/><path d=\"M 349 259 401 261\" stroke=\"gray\" stroke-width=\"0.5\"/><path d=\"M 349 259 385 215\" stroke=\"gray\" stroke-width=\"0.5\"/><path d=\"M 349 259 291 228\" stroke=\"gray\" stroke-width=\"0.5\"/><path d=\"M 349 259 216 224\" stroke=\"gray\" stroke-width=\"0.5\"/><path d=\"M 349 259 456 327\" stroke=\"gray\" stroke-width=\"0.5\"/><path d=\"M 349 259 323 203\" stroke=\"gray\" stroke-width=\"0.5\"/><path d=\"M 349 259 204 161\" stroke=\"gray\" stroke-width=\"0.5\"/><path d=\"M 349 259 525 355\" stroke=\"gray\" stroke-width=\"0.5\"/><path d=\"M 349 259 225 183\" stroke=\"gray\" stroke-width=\"0.5\"/><path d=\"M 349 259 284 259\" stroke=\"gray\" stroke-width=\"0.5\"/><path d=\"M 349 259 347 338\" stroke=\"gray\" stroke-width=\"0.5\"/><path d=\"M 349 259 215 274\" stroke=\"gray\" stroke-width=\"0.5\"/><path d=\"M 349 259 286 176\" stroke=\"gray\" stroke-width=\"0.5\"/><path d=\"M 349 259 209 344\" stroke=\"gray\" stroke-width=\"0.5\"/><path d=\"M 349 259 207 245\" stroke=\"gray\" stroke-width=\"0.5\"/><path d=\"M 349 259 427 158\" stroke=\"gray\" stroke-width=\"0.5\"/><path d=\"M 349 259 309 269\" stroke=\"gray\" stroke-width=\"0.5\"/><path d=\"M 385 215 401 261\" stroke=\"gray\" stroke-width=\"0.5\"/><path d=\"M 385 215 617 123\" stroke=\"gray\" stroke-width=\"0.5\"/><path d=\"M 385 215 349 259\" stroke=\"gray\" stroke-width=\"0.5\"/><path d=\"M 385 215 291 228\" stroke=\"gray\" stroke-width=\"0.5\"/><path d=\"M 385 215 327 135\" stroke=\"gray\" stroke-width=\"0.5\"/><path d=\"M 385 215 216 224\" stroke=\"gray\" stroke-width=\"0.5\"/><path d=\"M 385 215 204 161\" stroke=\"gray\" stroke-width=\"0.5\"/><path d=\"M 385 215 271 350\" stroke=\"gray\" stroke-width=\"0.5\"/><path d=\"M 385 215 284 259\" stroke=\"gray\" stroke-width=\"0.5\"/><path d=\"M 385 215 347 338\" stroke=\"gray\" stroke-width=\"0.5\"/><path d=\"M 385 215 215 274\" stroke=\"gray\" stroke-width=\"0.5\"/><path d=\"M 385 215 427 158\" stroke=\"gray\" stroke-width=\"0.5\"/><path d=\"M 92 98 72 205\" stroke=\"gray\" stroke-width=\"0.5\"/><path d=\"M 92 98 204 161\" stroke=\"gray\" stroke-width=\"0.5\"/><path d=\"M 92 98 225 183\" stroke=\"gray\" stroke-width=\"0.5\"/><path d=\"M 92 98 256 143\" stroke=\"gray\" stroke-width=\"0.5\"/><path d=\"M 291 228 301 302\" stroke=\"gray\" stroke-width=\"0.5\"/><path d=\"M 291 228 401 261\" stroke=\"gray\" stroke-width=\"0.5\"/><path d=\"M 291 228 349 259\" stroke=\"gray\" stroke-width=\"0.5\"/><path d=\"M 291 228 385 215\" stroke=\"gray\" stroke-width=\"0.5\"/><path d=\"M 291 228 327 135\" stroke=\"gray\" stroke-width=\"0.5\"/><path d=\"M 291 228 131 306\" stroke=\"gray\" stroke-width=\"0.5\"/><path d=\"M 291 228 216 224\" stroke=\"gray\" stroke-width=\"0.5\"/><path d=\"M 291 228 102 251\" stroke=\"gray\" stroke-width=\"0.5\"/><path d=\"M 291 228 456 327\" stroke=\"gray\" stroke-width=\"0.5\"/><path d=\"M 291 228 323 203\" stroke=\"gray\" stroke-width=\"0.5\"/><path d=\"M 291 228 204 161\" stroke=\"gray\" stroke-width=\"0.5\"/><path d=\"M 291 228 225 183\" stroke=\"gray\" stroke-width=\"0.5\"/><path d=\"M 291 228 271 350\" stroke=\"gray\" stroke-width=\"0.5\"/><path d=\"M 291 228 284 259\" stroke=\"gray\" stroke-width=\"0.5\"/><path d=\"M 291 228 347 338\" stroke=\"gray\" stroke-width=\"0.5\"/><path d=\"M 291 228 215 274\" stroke=\"gray\" stroke-width=\"0.5\"/><path d=\"M 291 228 286 176\" stroke=\"gray\" stroke-width=\"0.5\"/><path d=\"M 291 228 541 182\" stroke=\"gray\" stroke-width=\"0.5\"/><path d=\"M 291 228 207 245\" stroke=\"gray\" stroke-width=\"0.5\"/><path d=\"M 291 228 427 158\" stroke=\"gray\" stroke-width=\"0.5\"/><path d=\"M 291 228 31 187\" stroke=\"gray\" stroke-width=\"0.5\"/><path d=\"M 291 228 256 143\" stroke=\"gray\" stroke-width=\"0.5\"/><path d=\"M 291 228 309 269\" stroke=\"gray\" stroke-width=\"0.5\"/><path d=\"M 720 462 525 355\" stroke=\"gray\" stroke-width=\"0.5\"/><path d=\"M 720 462 641 421\" stroke=\"gray\" stroke-width=\"0.5\"/><path d=\"M 110 363 271 350\" stroke=\"gray\" stroke-width=\"0.5\"/><path d=\"M 110 363 284 259\" stroke=\"gray\" stroke-width=\"0.5\"/><path d=\"M 110 363 215 274\" stroke=\"gray\" stroke-width=\"0.5\"/><path d=\"M 110 363 20 293\" stroke=\"gray\" stroke-width=\"0.5\"/><path d=\"M 327 135 385 215\" stroke=\"gray\" stroke-width=\"0.5\"/><path d=\"M 327 135 291 228\" stroke=\"gray\" stroke-width=\"0.5\"/><path d=\"M 327 135 225 183\" stroke=\"gray\" stroke-width=\"0.5\"/><path d=\"M 327 135 284 259\" stroke=\"gray\" stroke-width=\"0.5\"/><path d=\"M 327 135 207 245\" stroke=\"gray\" stroke-width=\"0.5\"/><path d=\"M 327 135 256 143\" stroke=\"gray\" stroke-width=\"0.5\"/><path d=\"M 131 306 301 302\" stroke=\"gray\" stroke-width=\"0.5\"/><path d=\"M 131 306 291 228\" stroke=\"gray\" stroke-width=\"0.5\"/><path d=\"M 131 306 102 251\" stroke=\"gray\" stroke-width=\"0.5\"/><path d=\"M 131 306 20 293\" stroke=\"gray\" stroke-width=\"0.5\"/><path d=\"M 131 306 309 269\" stroke=\"gray\" stroke-width=\"0.5\"/><path d=\"M 216 224 401 261\" stroke=\"gray\" stroke-width=\"0.5\"/><path d=\"M 216 224 102 426\" stroke=\"gray\" stroke-width=\"0.5\"/><path d=\"M 216 224 349 259\" stroke=\"gray\" stroke-width=\"0.5\"/><path d=\"M 216 224 385 215\" stroke=\"gray\" stroke-width=\"0.5\"/><path d=\"M 216 224 291 228\" stroke=\"gray\" stroke-width=\"0.5\"/><path d=\"M 216 224 72 205\" stroke=\"gray\" stroke-width=\"0.5\"/><path d=\"M 216 224 323 203\" stroke=\"gray\" stroke-width=\"0.5\"/><path d=\"M 216 224 204 161\" stroke=\"gray\" stroke-width=\"0.5\"/><path d=\"M 216 224 284 259\" stroke=\"gray\" stroke-width=\"0.5\"/><path d=\"M 216 224 347 338\" stroke=\"gray\" stroke-width=\"0.5\"/><path d=\"M 216 224 286 176\" stroke=\"gray\" stroke-width=\"0.5\"/><path d=\"M 216 224 209 344\" stroke=\"gray\" stroke-width=\"0.5\"/><path d=\"M 216 224 207 245\" stroke=\"gray\" stroke-width=\"0.5\"/><path d=\"M 216 224 31 187\" stroke=\"gray\" stroke-width=\"0.5\"/><path d=\"M 216 224 256 143\" stroke=\"gray\" stroke-width=\"0.5\"/><path d=\"M 216 224 189 20\" stroke=\"gray\" stroke-width=\"0.5\"/><path d=\"M 216 224 309 269\" stroke=\"gray\" stroke-width=\"0.5\"/><path d=\"M 102 251 291 228\" stroke=\"gray\" stroke-width=\"0.5\"/><path d=\"M 102 251 131 306\" stroke=\"gray\" stroke-width=\"0.5\"/><path d=\"M 102 251 284 259\" stroke=\"gray\" stroke-width=\"0.5\"/><path d=\"M 102 251 215 274\" stroke=\"gray\" stroke-width=\"0.5\"/><path d=\"M 456 327 301 302\" stroke=\"gray\" stroke-width=\"0.5\"/><path d=\"M 456 327 401 261\" stroke=\"gray\" stroke-width=\"0.5\"/><path d=\"M 456 327 349 259\" stroke=\"gray\" stroke-width=\"0.5\"/><path d=\"M 456 327 291 228\" stroke=\"gray\" stroke-width=\"0.5\"/><path d=\"M 456 327 525 355\" stroke=\"gray\" stroke-width=\"0.5\"/><path d=\"M 456 327 284 259\" stroke=\"gray\" stroke-width=\"0.5\"/><path d=\"M 456 327 641 421\" stroke=\"gray\" stroke-width=\"0.5\"/><path d=\"M 72 205 92 98\" stroke=\"gray\" stroke-width=\"0.5\"/><path d=\"M 72 205 216 224\" stroke=\"gray\" stroke-width=\"0.5\"/><path d=\"M 72 205 284 259\" stroke=\"gray\" stroke-width=\"0.5\"/><path d=\"M 72 205 215 274\" stroke=\"gray\" stroke-width=\"0.5\"/><path d=\"M 323 203 301 302\" stroke=\"gray\" stroke-width=\"0.5\"/><path d=\"M 323 203 349 259\" stroke=\"gray\" stroke-width=\"0.5\"/><path d=\"M 323 203 291 228\" stroke=\"gray\" stroke-width=\"0.5\"/><path d=\"M 323 203 216 224\" stroke=\"gray\" stroke-width=\"0.5\"/><path d=\"M 323 203 284 259\" stroke=\"gray\" stroke-width=\"0.5\"/><path d=\"M 323 203 215 274\" stroke=\"gray\" stroke-width=\"0.5\"/><path d=\"M 323 203 207 245\" stroke=\"gray\" stroke-width=\"0.5\"/><path d=\"M 323 203 256 143\" stroke=\"gray\" stroke-width=\"0.5\"/><path d=\"M 323 203 309 269\" stroke=\"gray\" stroke-width=\"0.5\"/><path d=\"M 204 161 349 259\" stroke=\"gray\" stroke-width=\"0.5\"/><path d=\"M 204 161 385 215\" stroke=\"gray\" stroke-width=\"0.5\"/><path d=\"M 204 161 92 98\" stroke=\"gray\" stroke-width=\"0.5\"/><path d=\"M 204 161 291 228\" stroke=\"gray\" stroke-width=\"0.5\"/><path d=\"M 204 161 216 224\" stroke=\"gray\" stroke-width=\"0.5\"/><path d=\"M 204 161 284 259\" stroke=\"gray\" stroke-width=\"0.5\"/><path d=\"M 204 161 286 176\" stroke=\"gray\" stroke-width=\"0.5\"/><path d=\"M 204 161 207 245\" stroke=\"gray\" stroke-width=\"0.5\"/><path d=\"M 525 355 401 261\" stroke=\"gray\" stroke-width=\"0.5\"/><path d=\"M 525 355 349 259\" stroke=\"gray\" stroke-width=\"0.5\"/><path d=\"M 525 355 720 462\" stroke=\"gray\" stroke-width=\"0.5\"/><path d=\"M 525 355 456 327\" stroke=\"gray\" stroke-width=\"0.5\"/><path d=\"M 525 355 284 259\" stroke=\"gray\" stroke-width=\"0.5\"/><path d=\"M 525 355 641 421\" stroke=\"gray\" stroke-width=\"0.5\"/><path d=\"M 225 183 301 302\" stroke=\"gray\" stroke-width=\"0.5\"/><path d=\"M 225 183 349 259\" stroke=\"gray\" stroke-width=\"0.5\"/><path d=\"M 225 183 92 98\" stroke=\"gray\" stroke-width=\"0.5\"/><path d=\"M 225 183 291 228\" stroke=\"gray\" stroke-width=\"0.5\"/><path d=\"M 225 183 327 135\" stroke=\"gray\" stroke-width=\"0.5\"/><path d=\"M 225 183 284 259\" stroke=\"gray\" stroke-width=\"0.5\"/><path d=\"M 225 183 215 274\" stroke=\"gray\" stroke-width=\"0.5\"/><path d=\"M 225 183 286 176\" stroke=\"gray\" stroke-width=\"0.5\"/><path d=\"M 225 183 207 245\" stroke=\"gray\" stroke-width=\"0.5\"/><path d=\"M 225 183 256 143\" stroke=\"gray\" stroke-width=\"0.5\"/><path d=\"M 271 350 385 215\" stroke=\"gray\" stroke-width=\"0.5\"/><path d=\"M 271 350 291 228\" stroke=\"gray\" stroke-width=\"0.5\"/><path d=\"M 271 350 110 363\" stroke=\"gray\" stroke-width=\"0.5\"/><path d=\"M 271 350 284 259\" stroke=\"gray\" stroke-width=\"0.5\"/><path d=\"M 271 350 347 338\" stroke=\"gray\" stroke-width=\"0.5\"/><path d=\"M 271 350 215 274\" stroke=\"gray\" stroke-width=\"0.5\"/><path d=\"M 271 350 209 344\" stroke=\"gray\" stroke-width=\"0.5\"/><path d=\"M 284 259 301 302\" stroke=\"gray\" stroke-width=\"0.5\"/><path d=\"M 284 259 401 261\" stroke=\"gray\" stroke-width=\"0.5\"/><path d=\"M 284 259 349 259\" stroke=\"gray\" stroke-width=\"0.5\"/><path d=\"M 284 259 385 215\" stroke=\"gray\" stroke-width=\"0.5\"/><path d=\"M 284 259 291 228\" stroke=\"gray\" stroke-width=\"0.5\"/><path d=\"M 284 259 110 363\" stroke=\"gray\" stroke-width=\"0.5\"/><path d=\"M 284 259 327 135\" stroke=\"gray\" stroke-width=\"0.5\"/><path d=\"M 284 259 216 224\" stroke=\"gray\" stroke-width=\"0.5\"/><path d=\"M 284 259 102 251\" stroke=\"gray\" stroke-width=\"0.5\"/><path d=\"M 284 259 456 327\" stroke=\"gray\" stroke-width=\"0.5\"/><path d=\"M 284 259 72 205\" stroke=\"gray\" stroke-width=\"0.5\"/><path d=\"M 284 259 323 203\" stroke=\"gray\" stroke-width=\"0.5\"/><path d=\"M 284 259 204 161\" stroke=\"gray\" stroke-width=\"0.5\"/><path d=\"M 284 259 525 355\" stroke=\"gray\" stroke-width=\"0.5\"/><path d=\"M 284 259 225 183\" stroke=\"gray\" stroke-width=\"0.5\"/><path d=\"M 284 259 271 350\" stroke=\"gray\" stroke-width=\"0.5\"/><path d=\"M 284 259 347 338\" stroke=\"gray\" stroke-width=\"0.5\"/><path d=\"M 284 259 215 274\" stroke=\"gray\" stroke-width=\"0.5\"/><path d=\"M 284 259 286 176\" stroke=\"gray\" stroke-width=\"0.5\"/><path d=\"M 284 259 209 344\" stroke=\"gray\" stroke-width=\"0.5\"/><path d=\"M 284 259 427 158\" stroke=\"gray\" stroke-width=\"0.5\"/><path d=\"M 284 259 256 143\" stroke=\"gray\" stroke-width=\"0.5\"/><path d=\"M 284 259 309 269\" stroke=\"gray\" stroke-width=\"0.5\"/><path d=\"M 347 338 301 302\" stroke=\"gray\" stroke-width=\"0.5\"/><path d=\"M 347 338 413 520\" stroke=\"gray\" stroke-width=\"0.5\"/><path d=\"M 347 338 401 261\" stroke=\"gray\" stroke-width=\"0.5\"/><path d=\"M 347 338 349 259\" stroke=\"gray\" stroke-width=\"0.5\"/><path d=\"M 347 338 385 215\" stroke=\"gray\" stroke-width=\"0.5\"/><path d=\"M 347 338 291 228\" stroke=\"gray\" stroke-width=\"0.5\"/><path d=\"M 347 338 216 224\" stroke=\"gray\" stroke-width=\"0.5\"/><path d=\"M 347 338 271 350\" stroke=\"gray\" stroke-width=\"0.5\"/><path d=\"M 347 338 284 259\" stroke=\"gray\" stroke-width=\"0.5\"/><path d=\"M 347 338 207 245\" stroke=\"gray\" stroke-width=\"0.5\"/><path d=\"M 215 274 301 302\" stroke=\"gray\" stroke-width=\"0.5\"/><path d=\"M 215 274 401 261\" stroke=\"gray\" stroke-width=\"0.5\"/><path d=\"M 215 274 349 259\" stroke=\"gray\" stroke-width=\"0.5\"/><path d=\"M 215 274 385 215\" stroke=\"gray\" stroke-width=\"0.5\"/><path d=\"M 215 274 291 228\" stroke=\"gray\" stroke-width=\"0.5\"/><path d=\"M 215 274 110 363\" stroke=\"gray\" stroke-width=\"0.5\"/><path d=\"M 215 274 102 251\" stroke=\"gray\" stroke-width=\"0.5\"/><path d=\"M 215 274 72 205\" stroke=\"gray\" stroke-width=\"0.5\"/><path d=\"M 215 274 323 203\" stroke=\"gray\" stroke-width=\"0.5\"/><path d=\"M 215 274 225 183\" stroke=\"gray\" stroke-width=\"0.5\"/><path d=\"M 215 274 271 350\" stroke=\"gray\" stroke-width=\"0.5\"/><path d=\"M 215 274 284 259\" stroke=\"gray\" stroke-width=\"0.5\"/><path d=\"M 215 274 286 176\" stroke=\"gray\" stroke-width=\"0.5\"/><path d=\"M 215 274 20 293\" stroke=\"gray\" stroke-width=\"0.5\"/><path d=\"M 215 274 309 269\" stroke=\"gray\" stroke-width=\"0.5\"/><path d=\"M 286 176 349 259\" stroke=\"gray\" stroke-width=\"0.5\"/><path d=\"M 286 176 291 228\" stroke=\"gray\" stroke-width=\"0.5\"/><path d=\"M 286 176 216 224\" stroke=\"gray\" stroke-width=\"0.5\"/><path d=\"M 286 176 204 161\" stroke=\"gray\" stroke-width=\"0.5\"/><path d=\"M 286 176 225 183\" stroke=\"gray\" stroke-width=\"0.5\"/><path d=\"M 286 176 284 259\" stroke=\"gray\" stroke-width=\"0.5\"/><path d=\"M 286 176 215 274\" stroke=\"gray\" stroke-width=\"0.5\"/><path d=\"M 286 176 309 269\" stroke=\"gray\" stroke-width=\"0.5\"/><path d=\"M 20 293 110 363\" stroke=\"gray\" stroke-width=\"0.5\"/><path d=\"M 20 293 131 306\" stroke=\"gray\" stroke-width=\"0.5\"/><path d=\"M 20 293 215 274\" stroke=\"gray\" stroke-width=\"0.5\"/><path d=\"M 20 293 207 245\" stroke=\"gray\" stroke-width=\"0.5\"/><path d=\"M 20 293 31 187\" stroke=\"gray\" stroke-width=\"0.5\"/><path d=\"M 541 182 401 261\" stroke=\"gray\" stroke-width=\"0.5\"/><path d=\"M 541 182 617 123\" stroke=\"gray\" stroke-width=\"0.5\"/><path d=\"M 541 182 291 228\" stroke=\"gray\" stroke-width=\"0.5\"/><path d=\"M 209 344 349 259\" stroke=\"gray\" stroke-width=\"0.5\"/><path d=\"M 209 344 216 224\" stroke=\"gray\" stroke-width=\"0.5\"/><path d=\"M 209 344 271 350\" stroke=\"gray\" stroke-width=\"0.5\"/><path d=\"M 209 344 284 259\" stroke=\"gray\" stroke-width=\"0.5\"/><path d=\"M 209 344 207 245\" stroke=\"gray\" stroke-width=\"0.5\"/><path d=\"M 641 421 720 462\" stroke=\"gray\" stroke-width=\"0.5\"/><path d=\"M 641 421 456 327\" stroke=\"gray\" stroke-width=\"0.5\"/><path d=\"M 641 421 525 355\" stroke=\"gray\" stroke-width=\"0.5\"/><path d=\"M 207 245 301 302\" stroke=\"gray\" stroke-width=\"0.5\"/><path d=\"M 207 245 349 259\" stroke=\"gray\" stroke-width=\"0.5\"/><path d=\"M 207 245 291 228\" stroke=\"gray\" stroke-width=\"0.5\"/><path d=\"M 207 245 327 135\" stroke=\"gray\" stroke-width=\"0.5\"/><path d=\"M 207 245 216 224\" stroke=\"gray\" stroke-width=\"0.5\"/><path d=\"M 207 245 323 203\" stroke=\"gray\" stroke-width=\"0.5\"/><path d=\"M 207 245 204 161\" stroke=\"gray\" stroke-width=\"0.5\"/><path d=\"M 207 245 225 183\" stroke=\"gray\" stroke-width=\"0.5\"/><path d=\"M 207 245 347 338\" stroke=\"gray\" stroke-width=\"0.5\"/><path d=\"M 207 245 20 293\" stroke=\"gray\" stroke-width=\"0.5\"/><path d=\"M 207 245 209 344\" stroke=\"gray\" stroke-width=\"0.5\"/><path d=\"M 207 245 256 143\" stroke=\"gray\" stroke-width=\"0.5\"/><path d=\"M 427 158 349 259\" stroke=\"gray\" stroke-width=\"0.5\"/><path d=\"M 427 158 385 215\" stroke=\"gray\" stroke-width=\"0.5\"/><path d=\"M 427 158 291 228\" stroke=\"gray\" stroke-width=\"0.5\"/><path d=\"M 427 158 284 259\" stroke=\"gray\" stroke-width=\"0.5\"/><path d=\"M 31 187 291 228\" stroke=\"gray\" stroke-width=\"0.5\"/><path d=\"M 31 187 216 224\" stroke=\"gray\" stroke-width=\"0.5\"/><path d=\"M 31 187 20 293\" stroke=\"gray\" stroke-width=\"0.5\"/><path d=\"M 256 143 401 261\" stroke=\"gray\" stroke-width=\"0.5\"/><path d=\"M 256 143 92 98\" stroke=\"gray\" stroke-width=\"0.5\"/><path d=\"M 256 143 291 228\" stroke=\"gray\" stroke-width=\"0.5\"/><path d=\"M 256 143 327 135\" stroke=\"gray\" stroke-width=\"0.5\"/><path d=\"M 256 143 216 224\" stroke=\"gray\" stroke-width=\"0.5\"/><path d=\"M 256 143 323 203\" stroke=\"gray\" stroke-width=\"0.5\"/><path d=\"M 256 143 225 183\" stroke=\"gray\" stroke-width=\"0.5\"/><path d=\"M 256 143 284 259\" stroke=\"gray\" stroke-width=\"0.5\"/><path d=\"M 256 143 207 245\" stroke=\"gray\" stroke-width=\"0.5\"/><path d=\"M 189 20 216 224\" stroke=\"gray\" stroke-width=\"0.5\"/><path d=\"M 309 269 401 261\" stroke=\"gray\" stroke-width=\"0.5\"/><path d=\"M 309 269 349 259\" stroke=\"gray\" stroke-width=\"0.5\"/><path d=\"M 309 269 291 228\" stroke=\"gray\" stroke-width=\"0.5\"/><path d=\"M 309 269 131 306\" stroke=\"gray\" stroke-width=\"0.5\"/><path d=\"M 309 269 216 224\" stroke=\"gray\" stroke-width=\"0.5\"/><path d=\"M 309 269 323 203\" stroke=\"gray\" stroke-width=\"0.5\"/><path d=\"M 309 269 284 259\" stroke=\"gray\" stroke-width=\"0.5\"/><path d=\"M 309 269 215 274\" stroke=\"gray\" stroke-width=\"0.5\"/><path d=\"M 309 269 286 176\" stroke=\"gray\" stroke-width=\"0.5\"/><circle cx=\"301\" cy=\"302\" r=\"3.0\" style=\"fill:rgb(199, 214, 240);stroke:black;stroke-width:1.0\"/><circle cx=\"413\" cy=\"520\" r=\"3.0\" style=\"fill:rgb(58, 76, 192);stroke:black;stroke-width:1.0\"/><circle cx=\"401\" cy=\"261\" r=\"3.0\" style=\"fill:rgb(230, 215, 207);stroke:black;stroke-width:1.0\"/><circle cx=\"617\" cy=\"123\" r=\"3.0\" style=\"fill:rgb(72, 96, 209);stroke:black;stroke-width:1.0\"/><circle cx=\"102\" cy=\"426\" r=\"3.0\" style=\"fill:rgb(58, 76, 192);stroke:black;stroke-width:1.0\"/><circle cx=\"349\" cy=\"259\" r=\"3.0\" style=\"fill:rgb(244, 154, 123);stroke:black;stroke-width:1.0\"/><circle cx=\"385\" cy=\"215\" r=\"3.0\" style=\"fill:rgb(222, 219, 218);stroke:black;stroke-width:1.0\"/><circle cx=\"92\" cy=\"98\" r=\"3.0\" style=\"fill:rgb(99, 131, 234);stroke:black;stroke-width:1.0\"/><circle cx=\"291\" cy=\"228\" r=\"3.0\" style=\"fill:rgb(179, 3, 38);stroke:black;stroke-width:1.0\"/><circle cx=\"720\" cy=\"462\" r=\"3.0\" style=\"fill:rgb(80, 107, 218);stroke:black;stroke-width:1.0\"/><circle cx=\"110\" cy=\"363\" r=\"3.0\" style=\"fill:rgb(99, 131, 234);stroke:black;stroke-width:1.0\"/><circle cx=\"327\" cy=\"135\" r=\"3.0\" style=\"fill:rgb(123, 158, 248);stroke:black;stroke-width:1.0\"/><circle cx=\"131\" cy=\"306\" r=\"3.0\" style=\"fill:rgb(112, 147, 243);stroke:black;stroke-width:1.0\"/><circle cx=\"216\" cy=\"224\" r=\"3.0\" style=\"fill:rgb(237, 132, 103);stroke:black;stroke-width:1.0\"/><circle cx=\"102\" cy=\"251\" r=\"3.0\" style=\"fill:rgb(96, 128, 232);stroke:black;stroke-width:1.0\"/><circle cx=\"456\" cy=\"327\" r=\"3.0\" style=\"fill:rgb(152, 185, 254);stroke:black;stroke-width:1.0\"/><circle cx=\"72\" cy=\"205\" r=\"3.0\" style=\"fill:rgb(99, 131, 234);stroke:black;stroke-width:1.0\"/><circle cx=\"323\" cy=\"203\" r=\"3.0\" style=\"fill:rgb(166, 195, 253);stroke:black;stroke-width:1.0\"/><circle cx=\"204\" cy=\"161\" r=\"3.0\" style=\"fill:rgb(155, 187, 254);stroke:black;stroke-width:1.0\"/><circle cx=\"525\" cy=\"355\" r=\"3.0\" style=\"fill:rgb(148, 181, 254);stroke:black;stroke-width:1.0\"/><circle cx=\"225\" cy=\"183\" r=\"3.0\" style=\"fill:rgb(187, 209, 247);stroke:black;stroke-width:1.0\"/><circle cx=\"271\" cy=\"350\" r=\"3.0\" style=\"fill:rgb(145, 179, 254);stroke:black;stroke-width:1.0\"/><circle cx=\"284\" cy=\"259\" r=\"3.0\" style=\"fill:rgb(182, 13, 40);stroke:black;stroke-width:1.0\"/><circle cx=\"347\" cy=\"338\" r=\"3.0\" style=\"fill:rgb(199, 214, 240);stroke:black;stroke-width:1.0\"/><circle cx=\"215\" cy=\"274\" r=\"3.0\" style=\"fill:rgb(243, 198, 176);stroke:black;stroke-width:1.0\"/><circle cx=\"286\" cy=\"176\" r=\"3.0\" style=\"fill:rgb(152, 185, 254);stroke:black;stroke-width:1.0\"/><circle cx=\"20\" cy=\"293\" r=\"3.0\" style=\"fill:rgb(120, 155, 247);stroke:black;stroke-width:1.0\"/><circle cx=\"541\" cy=\"182\" r=\"3.0\" style=\"fill:rgb(88, 118, 226);stroke:black;stroke-width:1.0\"/><circle cx=\"209\" cy=\"344\" r=\"3.0\" style=\"fill:rgb(109, 144, 241);stroke:black;stroke-width:1.0\"/><circle cx=\"641\" cy=\"421\" r=\"3.0\" style=\"fill:rgb(99, 131, 234);stroke:black;stroke-width:1.0\"/><circle cx=\"207\" cy=\"245\" r=\"3.0\" style=\"fill:rgb(214, 219, 228);stroke:black;stroke-width:1.0\"/><circle cx=\"427\" cy=\"158\" r=\"3.0\" style=\"fill:rgb(92, 123, 229);stroke:black;stroke-width:1.0\"/><circle cx=\"31\" cy=\"187\" r=\"3.0\" style=\"fill:rgb(86, 115, 224);stroke:black;stroke-width:1.0\"/><circle cx=\"256\" cy=\"143\" r=\"3.0\" style=\"fill:rgb(172, 200, 252);stroke:black;stroke-width:1.0\"/><circle cx=\"189\" cy=\"20\" r=\"3.0\" style=\"fill:rgb(58, 76, 192);stroke:black;stroke-width:1.0\"/><circle cx=\"309\" cy=\"269\" r=\"3.0\" style=\"fill:rgb(170, 198, 253);stroke:black;stroke-width:1.0\"/><text font-size=\"10\" x=\"307\" y=\"305\">History of artificial neural networks</text><text font-size=\"10\" x=\"419\" y=\"523\">Highway network</text><text font-size=\"10\" x=\"407\" y=\"264\">Feedforward neural network</text><text font-size=\"10\" x=\"623\" y=\"126\">Dilution (neural networks)</text><text font-size=\"10\" x=\"108\" y=\"429\">Neural network (disambiguation)</text><text font-size=\"10\" x=\"355\" y=\"262\">Neural network</text><text font-size=\"10\" x=\"391\" y=\"218\">Graph neural network</text><text font-size=\"10\" x=\"98\" y=\"101\">Optical neural network</text><text font-size=\"10\" x=\"297\" y=\"231\">Artificial neural network</text><text font-size=\"10\" x=\"726\" y=\"465\">Dynamical neuroscience</text><text font-size=\"10\" x=\"116\" y=\"366\">Echo state network</text><text font-size=\"10\" x=\"333\" y=\"138\">Neural network quantum states</text><text font-size=\"10\" x=\"137\" y=\"309\">Generative adversarial network</text><text font-size=\"10\" x=\"222\" y=\"227\">Convolutional neural network</text><text font-size=\"10\" x=\"108\" y=\"254\">Bidirectional recurrent neural networks</text><text font-size=\"10\" x=\"462\" y=\"330\">Modern Hopfield network</text><text font-size=\"10\" x=\"78\" y=\"208\">Spatial neural network</text><text font-size=\"10\" x=\"329\" y=\"206\">Mathematics of artificial neural networks</text><text font-size=\"10\" x=\"210\" y=\"164\">Spiking neural network</text><text font-size=\"10\" x=\"531\" y=\"358\">Hopfield network</text><text font-size=\"10\" x=\"231\" y=\"186\">Physical neural network</text><text font-size=\"10\" x=\"277\" y=\"353\">Recursive neural network</text><text font-size=\"10\" x=\"290\" y=\"262\">Recurrent neural network</text><text font-size=\"10\" x=\"353\" y=\"341\">Residual neural network</text><text font-size=\"10\" x=\"221\" y=\"277\">Types of artificial neural networks</text><text font-size=\"10\" x=\"292\" y=\"179\">Neural network software</text><text font-size=\"10\" x=\"26\" y=\"296\">Neural network Gaussian process</text><text font-size=\"10\" x=\"547\" y=\"185\">Pruning (artificial neural network)</text><text font-size=\"10\" x=\"215\" y=\"347\">Semantic neural network</text><text font-size=\"10\" x=\"647\" y=\"424\">Attractor network</text><text font-size=\"10\" x=\"213\" y=\"248\">Rectifier (neural networks)</text><text font-size=\"10\" x=\"433\" y=\"161\">Multidimensional network</text><text font-size=\"10\" x=\"37\" y=\"190\">Large width limits of neural networks</text><text font-size=\"10\" x=\"262\" y=\"146\">Quantum neural network</text><text font-size=\"10\" x=\"195\" y=\"23\">Capsule neural network</text><text font-size=\"10\" x=\"315\" y=\"272\">Probabilistic neural network</text></svg>"
      ],
      "text/plain": [
       "<IPython.core.display.SVG object>"
      ]
     },
     "execution_count": 28,
     "metadata": {},
     "output_type": "execute_result"
    }
   ],
   "source": [
    "nodes = community_df[community_df['community']==comm_idx[2]]['node'].values\n",
    "\n",
    "G_comm = G.subgraph(nodes)\n",
    "\n",
    "draw_graph(nx.k_core(G_comm, 1), show_names=True, node_size=3)"
   ]
  },
  {
   "cell_type": "code",
   "execution_count": 29,
   "id": "e74c337d",
   "metadata": {},
   "outputs": [
    {
     "name": "stdout",
     "output_type": "stream",
     "text": [
      "Artificial neural network\n",
      "Attractor network\n",
      "Bidirectional recurrent neural networks\n",
      "Capsule neural network\n",
      "Convolutional neural network\n",
      "Deep belief network\n",
      "Dilution (neural networks)\n",
      "Dynamical neuroscience\n",
      "Echo state network\n",
      "Feedforward (behavioral and cognitive science)\n",
      "Feedforward neural network\n",
      "Generative adversarial network\n",
      "Graph neural network\n",
      "Highway network\n",
      "History of artificial neural networks\n",
      "Holographic associative memory\n",
      "Hopfield network\n",
      "Large width limits of neural networks\n",
      "Mathematics of artificial neural networks\n",
      "Modern Hopfield network\n",
      "Multidimensional network\n",
      "Neural network\n",
      "Neural network (disambiguation)\n",
      "Neural network Gaussian process\n",
      "Neural network quantum states\n",
      "Neural network software\n",
      "Optical neural network\n",
      "Physical neural network\n",
      "Probabilistic neural network\n",
      "Pruning (artificial neural network)\n",
      "Quantum neural network\n",
      "Rectifier (neural networks)\n",
      "Recurrent neural network\n",
      "Recursive neural network\n",
      "Residual neural network\n",
      "Semantic neural network\n",
      "Spatial neural network\n",
      "Spiking neural network\n",
      "Types of artificial neural networks\n"
     ]
    },
    {
     "data": {
      "text/plain": [
       "[None,\n",
       " None,\n",
       " None,\n",
       " None,\n",
       " None,\n",
       " None,\n",
       " None,\n",
       " None,\n",
       " None,\n",
       " None,\n",
       " None,\n",
       " None,\n",
       " None,\n",
       " None,\n",
       " None,\n",
       " None,\n",
       " None,\n",
       " None,\n",
       " None,\n",
       " None,\n",
       " None,\n",
       " None,\n",
       " None,\n",
       " None,\n",
       " None,\n",
       " None,\n",
       " None,\n",
       " None,\n",
       " None,\n",
       " None,\n",
       " None,\n",
       " None,\n",
       " None,\n",
       " None,\n",
       " None,\n",
       " None,\n",
       " None,\n",
       " None,\n",
       " None]"
      ]
     },
     "execution_count": 29,
     "metadata": {},
     "output_type": "execute_result"
    }
   ],
   "source": [
    "[print(n) for n in sorted(G_comm.nodes)]"
   ]
  },
  {
   "cell_type": "code",
   "execution_count": 30,
   "id": "5976ee88",
   "metadata": {},
   "outputs": [
    {
     "data": {
      "image/svg+xml": [
       "<svg height=\"540\" width=\"965.0\" xmlns=\"http://www.w3.org/2000/svg\"><path d=\"M 336 259 267 231\" stroke=\"gray\" stroke-width=\"0.5\"/><path d=\"M 336 259 322 349\" stroke=\"gray\" stroke-width=\"0.5\"/><path d=\"M 336 259 175 289\" stroke=\"gray\" stroke-width=\"0.5\"/><path d=\"M 336 259 506 196\" stroke=\"gray\" stroke-width=\"0.5\"/><path d=\"M 336 259 380 220\" stroke=\"gray\" stroke-width=\"0.5\"/><path d=\"M 336 259 417 199\" stroke=\"gray\" stroke-width=\"0.5\"/><path d=\"M 336 259 228 240\" stroke=\"gray\" stroke-width=\"0.5\"/><path d=\"M 336 259 373 319\" stroke=\"gray\" stroke-width=\"0.5\"/><path d=\"M 336 259 295 289\" stroke=\"gray\" stroke-width=\"0.5\"/><path d=\"M 336 259 304 216\" stroke=\"gray\" stroke-width=\"0.5\"/><path d=\"M 336 259 370 275\" stroke=\"gray\" stroke-width=\"0.5\"/><path d=\"M 329 416 432 520\" stroke=\"gray\" stroke-width=\"0.5\"/><path d=\"M 329 416 169 370\" stroke=\"gray\" stroke-width=\"0.5\"/><path d=\"M 329 416 373 319\" stroke=\"gray\" stroke-width=\"0.5\"/><path d=\"M 329 416 295 289\" stroke=\"gray\" stroke-width=\"0.5\"/><path d=\"M 49 236 206 317\" stroke=\"gray\" stroke-width=\"0.5\"/><path d=\"M 49 236 158 232\" stroke=\"gray\" stroke-width=\"0.5\"/><path d=\"M 323 95 452 96\" stroke=\"gray\" stroke-width=\"0.5\"/><path d=\"M 323 95 346 194\" stroke=\"gray\" stroke-width=\"0.5\"/><path d=\"M 20 383 206 317\" stroke=\"gray\" stroke-width=\"0.5\"/><path d=\"M 267 231 336 259\" stroke=\"gray\" stroke-width=\"0.5\"/><path d=\"M 267 231 175 289\" stroke=\"gray\" stroke-width=\"0.5\"/><path d=\"M 267 231 380 220\" stroke=\"gray\" stroke-width=\"0.5\"/><path d=\"M 267 231 417 199\" stroke=\"gray\" stroke-width=\"0.5\"/><path d=\"M 267 231 79 150\" stroke=\"gray\" stroke-width=\"0.5\"/><path d=\"M 267 231 228 240\" stroke=\"gray\" stroke-width=\"0.5\"/><path d=\"M 267 231 373 319\" stroke=\"gray\" stroke-width=\"0.5\"/><path d=\"M 267 231 295 289\" stroke=\"gray\" stroke-width=\"0.5\"/><path d=\"M 267 231 370 275\" stroke=\"gray\" stroke-width=\"0.5\"/><path d=\"M 267 231 346 194\" stroke=\"gray\" stroke-width=\"0.5\"/><path d=\"M 206 317 49 236\" stroke=\"gray\" stroke-width=\"0.5\"/><path d=\"M 206 317 20 383\" stroke=\"gray\" stroke-width=\"0.5\"/><path d=\"M 206 317 322 349\" stroke=\"gray\" stroke-width=\"0.5\"/><path d=\"M 206 317 380 220\" stroke=\"gray\" stroke-width=\"0.5\"/><path d=\"M 206 317 148 440\" stroke=\"gray\" stroke-width=\"0.5\"/><path d=\"M 206 317 158 232\" stroke=\"gray\" stroke-width=\"0.5\"/><path d=\"M 206 317 373 319\" stroke=\"gray\" stroke-width=\"0.5\"/><path d=\"M 206 317 370 275\" stroke=\"gray\" stroke-width=\"0.5\"/><path d=\"M 432 520 329 416\" stroke=\"gray\" stroke-width=\"0.5\"/><path d=\"M 322 349 336 259\" stroke=\"gray\" stroke-width=\"0.5\"/><path d=\"M 322 349 206 317\" stroke=\"gray\" stroke-width=\"0.5\"/><path d=\"M 322 349 373 319\" stroke=\"gray\" stroke-width=\"0.5\"/><path d=\"M 322 349 370 275\" stroke=\"gray\" stroke-width=\"0.5\"/><path d=\"M 529 120 452 96\" stroke=\"gray\" stroke-width=\"0.5\"/><path d=\"M 529 120 634 182\" stroke=\"gray\" stroke-width=\"0.5\"/><path d=\"M 529 120 509 20\" stroke=\"gray\" stroke-width=\"0.5\"/><path d=\"M 529 120 506 196\" stroke=\"gray\" stroke-width=\"0.5\"/><path d=\"M 529 120 380 220\" stroke=\"gray\" stroke-width=\"0.5\"/><path d=\"M 529 120 621 160\" stroke=\"gray\" stroke-width=\"0.5\"/><path d=\"M 674 219 634 182\" stroke=\"gray\" stroke-width=\"0.5\"/><path d=\"M 674 219 587 213\" stroke=\"gray\" stroke-width=\"0.5\"/><path d=\"M 674 219 506 196\" stroke=\"gray\" stroke-width=\"0.5\"/><path d=\"M 674 219 565 254\" stroke=\"gray\" stroke-width=\"0.5\"/><path d=\"M 674 219 711 179\" stroke=\"gray\" stroke-width=\"0.5\"/><path d=\"M 674 219 720 267\" stroke=\"gray\" stroke-width=\"0.5\"/><path d=\"M 674 219 621 160\" stroke=\"gray\" stroke-width=\"0.5\"/><path d=\"M 452 96 323 95\" stroke=\"gray\" stroke-width=\"0.5\"/><path d=\"M 452 96 529 120\" stroke=\"gray\" stroke-width=\"0.5\"/><path d=\"M 452 96 509 20\" stroke=\"gray\" stroke-width=\"0.5\"/><path d=\"M 452 96 506 196\" stroke=\"gray\" stroke-width=\"0.5\"/><path d=\"M 452 96 417 199\" stroke=\"gray\" stroke-width=\"0.5\"/><path d=\"M 634 182 529 120\" stroke=\"gray\" stroke-width=\"0.5\"/><path d=\"M 634 182 674 219\" stroke=\"gray\" stroke-width=\"0.5\"/><path d=\"M 634 182 587 213\" stroke=\"gray\" stroke-width=\"0.5\"/><path d=\"M 634 182 506 196\" stroke=\"gray\" stroke-width=\"0.5\"/><path d=\"M 634 182 565 254\" stroke=\"gray\" stroke-width=\"0.5\"/><path d=\"M 634 182 621 160\" stroke=\"gray\" stroke-width=\"0.5\"/><path d=\"M 509 20 529 120\" stroke=\"gray\" stroke-width=\"0.5\"/><path d=\"M 509 20 452 96\" stroke=\"gray\" stroke-width=\"0.5\"/><path d=\"M 175 289 336 259\" stroke=\"gray\" stroke-width=\"0.5\"/><path d=\"M 175 289 267 231\" stroke=\"gray\" stroke-width=\"0.5\"/><path d=\"M 175 289 169 370\" stroke=\"gray\" stroke-width=\"0.5\"/><path d=\"M 175 289 20 337\" stroke=\"gray\" stroke-width=\"0.5\"/><path d=\"M 175 289 295 289\" stroke=\"gray\" stroke-width=\"0.5\"/><path d=\"M 175 289 304 216\" stroke=\"gray\" stroke-width=\"0.5\"/><path d=\"M 587 213 674 219\" stroke=\"gray\" stroke-width=\"0.5\"/><path d=\"M 587 213 634 182\" stroke=\"gray\" stroke-width=\"0.5\"/><path d=\"M 587 213 506 196\" stroke=\"gray\" stroke-width=\"0.5\"/><path d=\"M 587 213 380 220\" stroke=\"gray\" stroke-width=\"0.5\"/><path d=\"M 587 213 417 199\" stroke=\"gray\" stroke-width=\"0.5\"/><path d=\"M 587 213 565 254\" stroke=\"gray\" stroke-width=\"0.5\"/><path d=\"M 587 213 711 179\" stroke=\"gray\" stroke-width=\"0.5\"/><path d=\"M 587 213 720 267\" stroke=\"gray\" stroke-width=\"0.5\"/><path d=\"M 587 213 621 160\" stroke=\"gray\" stroke-width=\"0.5\"/><path d=\"M 506 196 336 259\" stroke=\"gray\" stroke-width=\"0.5\"/><path d=\"M 506 196 529 120\" stroke=\"gray\" stroke-width=\"0.5\"/><path d=\"M 506 196 674 219\" stroke=\"gray\" stroke-width=\"0.5\"/><path d=\"M 506 196 452 96\" stroke=\"gray\" stroke-width=\"0.5\"/><path d=\"M 506 196 634 182\" stroke=\"gray\" stroke-width=\"0.5\"/><path d=\"M 506 196 587 213\" stroke=\"gray\" stroke-width=\"0.5\"/><path d=\"M 506 196 565 254\" stroke=\"gray\" stroke-width=\"0.5\"/><path d=\"M 506 196 711 179\" stroke=\"gray\" stroke-width=\"0.5\"/><path d=\"M 506 196 304 216\" stroke=\"gray\" stroke-width=\"0.5\"/><path d=\"M 506 196 370 275\" stroke=\"gray\" stroke-width=\"0.5\"/><path d=\"M 506 196 346 194\" stroke=\"gray\" stroke-width=\"0.5\"/><path d=\"M 506 196 621 160\" stroke=\"gray\" stroke-width=\"0.5\"/><path d=\"M 380 220 336 259\" stroke=\"gray\" stroke-width=\"0.5\"/><path d=\"M 380 220 267 231\" stroke=\"gray\" stroke-width=\"0.5\"/><path d=\"M 380 220 206 317\" stroke=\"gray\" stroke-width=\"0.5\"/><path d=\"M 380 220 529 120\" stroke=\"gray\" stroke-width=\"0.5\"/><path d=\"M 380 220 587 213\" stroke=\"gray\" stroke-width=\"0.5\"/><path d=\"M 380 220 417 199\" stroke=\"gray\" stroke-width=\"0.5\"/><path d=\"M 380 220 228 240\" stroke=\"gray\" stroke-width=\"0.5\"/><path d=\"M 380 220 295 289\" stroke=\"gray\" stroke-width=\"0.5\"/><path d=\"M 417 199 336 259\" stroke=\"gray\" stroke-width=\"0.5\"/><path d=\"M 417 199 267 231\" stroke=\"gray\" stroke-width=\"0.5\"/><path d=\"M 417 199 452 96\" stroke=\"gray\" stroke-width=\"0.5\"/><path d=\"M 417 199 587 213\" stroke=\"gray\" stroke-width=\"0.5\"/><path d=\"M 417 199 380 220\" stroke=\"gray\" stroke-width=\"0.5\"/><path d=\"M 417 199 295 289\" stroke=\"gray\" stroke-width=\"0.5\"/><path d=\"M 79 150 267 231\" stroke=\"gray\" stroke-width=\"0.5\"/><path d=\"M 565 254 674 219\" stroke=\"gray\" stroke-width=\"0.5\"/><path d=\"M 565 254 634 182\" stroke=\"gray\" stroke-width=\"0.5\"/><path d=\"M 565 254 587 213\" stroke=\"gray\" stroke-width=\"0.5\"/><path d=\"M 565 254 506 196\" stroke=\"gray\" stroke-width=\"0.5\"/><path d=\"M 565 254 720 267\" stroke=\"gray\" stroke-width=\"0.5\"/><path d=\"M 565 254 373 319\" stroke=\"gray\" stroke-width=\"0.5\"/><path d=\"M 565 254 370 275\" stroke=\"gray\" stroke-width=\"0.5\"/><path d=\"M 565 254 621 160\" stroke=\"gray\" stroke-width=\"0.5\"/><path d=\"M 711 179 674 219\" stroke=\"gray\" stroke-width=\"0.5\"/><path d=\"M 711 179 587 213\" stroke=\"gray\" stroke-width=\"0.5\"/><path d=\"M 711 179 506 196\" stroke=\"gray\" stroke-width=\"0.5\"/><path d=\"M 169 370 329 416\" stroke=\"gray\" stroke-width=\"0.5\"/><path d=\"M 169 370 175 289\" stroke=\"gray\" stroke-width=\"0.5\"/><path d=\"M 169 370 20 337\" stroke=\"gray\" stroke-width=\"0.5\"/><path d=\"M 169 370 295 289\" stroke=\"gray\" stroke-width=\"0.5\"/><path d=\"M 20 337 175 289\" stroke=\"gray\" stroke-width=\"0.5\"/><path d=\"M 20 337 169 370\" stroke=\"gray\" stroke-width=\"0.5\"/><path d=\"M 228 240 336 259\" stroke=\"gray\" stroke-width=\"0.5\"/><path d=\"M 228 240 267 231\" stroke=\"gray\" stroke-width=\"0.5\"/><path d=\"M 228 240 380 220\" stroke=\"gray\" stroke-width=\"0.5\"/><path d=\"M 228 240 295 289\" stroke=\"gray\" stroke-width=\"0.5\"/><path d=\"M 148 440 206 317\" stroke=\"gray\" stroke-width=\"0.5\"/><path d=\"M 720 267 674 219\" stroke=\"gray\" stroke-width=\"0.5\"/><path d=\"M 720 267 587 213\" stroke=\"gray\" stroke-width=\"0.5\"/><path d=\"M 720 267 565 254\" stroke=\"gray\" stroke-width=\"0.5\"/><path d=\"M 158 232 49 236\" stroke=\"gray\" stroke-width=\"0.5\"/><path d=\"M 158 232 206 317\" stroke=\"gray\" stroke-width=\"0.5\"/><path d=\"M 158 232 370 275\" stroke=\"gray\" stroke-width=\"0.5\"/><path d=\"M 373 319 336 259\" stroke=\"gray\" stroke-width=\"0.5\"/><path d=\"M 373 319 329 416\" stroke=\"gray\" stroke-width=\"0.5\"/><path d=\"M 373 319 267 231\" stroke=\"gray\" stroke-width=\"0.5\"/><path d=\"M 373 319 206 317\" stroke=\"gray\" stroke-width=\"0.5\"/><path d=\"M 373 319 322 349\" stroke=\"gray\" stroke-width=\"0.5\"/><path d=\"M 373 319 565 254\" stroke=\"gray\" stroke-width=\"0.5\"/><path d=\"M 373 319 295 289\" stroke=\"gray\" stroke-width=\"0.5\"/><path d=\"M 373 319 370 275\" stroke=\"gray\" stroke-width=\"0.5\"/><path d=\"M 295 289 336 259\" stroke=\"gray\" stroke-width=\"0.5\"/><path d=\"M 295 289 329 416\" stroke=\"gray\" stroke-width=\"0.5\"/><path d=\"M 295 289 267 231\" stroke=\"gray\" stroke-width=\"0.5\"/><path d=\"M 295 289 175 289\" stroke=\"gray\" stroke-width=\"0.5\"/><path d=\"M 295 289 380 220\" stroke=\"gray\" stroke-width=\"0.5\"/><path d=\"M 295 289 417 199\" stroke=\"gray\" stroke-width=\"0.5\"/><path d=\"M 295 289 169 370\" stroke=\"gray\" stroke-width=\"0.5\"/><path d=\"M 295 289 228 240\" stroke=\"gray\" stroke-width=\"0.5\"/><path d=\"M 295 289 373 319\" stroke=\"gray\" stroke-width=\"0.5\"/><path d=\"M 295 289 304 216\" stroke=\"gray\" stroke-width=\"0.5\"/><path d=\"M 295 289 346 194\" stroke=\"gray\" stroke-width=\"0.5\"/><path d=\"M 304 216 336 259\" stroke=\"gray\" stroke-width=\"0.5\"/><path d=\"M 304 216 175 289\" stroke=\"gray\" stroke-width=\"0.5\"/><path d=\"M 304 216 506 196\" stroke=\"gray\" stroke-width=\"0.5\"/><path d=\"M 304 216 295 289\" stroke=\"gray\" stroke-width=\"0.5\"/><path d=\"M 370 275 336 259\" stroke=\"gray\" stroke-width=\"0.5\"/><path d=\"M 370 275 267 231\" stroke=\"gray\" stroke-width=\"0.5\"/><path d=\"M 370 275 206 317\" stroke=\"gray\" stroke-width=\"0.5\"/><path d=\"M 370 275 322 349\" stroke=\"gray\" stroke-width=\"0.5\"/><path d=\"M 370 275 506 196\" stroke=\"gray\" stroke-width=\"0.5\"/><path d=\"M 370 275 565 254\" stroke=\"gray\" stroke-width=\"0.5\"/><path d=\"M 370 275 158 232\" stroke=\"gray\" stroke-width=\"0.5\"/><path d=\"M 370 275 373 319\" stroke=\"gray\" stroke-width=\"0.5\"/><path d=\"M 346 194 323 95\" stroke=\"gray\" stroke-width=\"0.5\"/><path d=\"M 346 194 267 231\" stroke=\"gray\" stroke-width=\"0.5\"/><path d=\"M 346 194 506 196\" stroke=\"gray\" stroke-width=\"0.5\"/><path d=\"M 346 194 295 289\" stroke=\"gray\" stroke-width=\"0.5\"/><path d=\"M 621 160 529 120\" stroke=\"gray\" stroke-width=\"0.5\"/><path d=\"M 621 160 674 219\" stroke=\"gray\" stroke-width=\"0.5\"/><path d=\"M 621 160 634 182\" stroke=\"gray\" stroke-width=\"0.5\"/><path d=\"M 621 160 587 213\" stroke=\"gray\" stroke-width=\"0.5\"/><path d=\"M 621 160 506 196\" stroke=\"gray\" stroke-width=\"0.5\"/><path d=\"M 621 160 565 254\" stroke=\"gray\" stroke-width=\"0.5\"/><circle cx=\"336\" cy=\"259\" r=\"3.0\" style=\"fill:rgb(207, 70, 61);stroke:black;stroke-width:1.0\"/><circle cx=\"329\" cy=\"416\" r=\"3.0\" style=\"fill:rgb(183, 207, 249);stroke:black;stroke-width:1.0\"/><circle cx=\"49\" cy=\"236\" r=\"3.0\" style=\"fill:rgb(103, 136, 237);stroke:black;stroke-width:1.0\"/><circle cx=\"323\" cy=\"95\" r=\"3.0\" style=\"fill:rgb(92, 123, 229);stroke:black;stroke-width:1.0\"/><circle cx=\"20\" cy=\"383\" r=\"3.0\" style=\"fill:rgb(64, 84, 199);stroke:black;stroke-width:1.0\"/><circle cx=\"267\" cy=\"231\" r=\"3.0\" style=\"fill:rgb(217, 88, 71);stroke:black;stroke-width:1.0\"/><circle cx=\"206\" cy=\"317\" r=\"3.0\" style=\"fill:rgb(217, 88, 71);stroke:black;stroke-width:1.0\"/><circle cx=\"432\" cy=\"520\" r=\"3.0\" style=\"fill:rgb(64, 84, 199);stroke:black;stroke-width:1.0\"/><circle cx=\"322\" cy=\"349\" r=\"3.0\" style=\"fill:rgb(152, 185, 254);stroke:black;stroke-width:1.0\"/><circle cx=\"529\" cy=\"120\" r=\"3.0\" style=\"fill:rgb(214, 219, 228);stroke:black;stroke-width:1.0\"/><circle cx=\"674\" cy=\"219\" r=\"3.0\" style=\"fill:rgb(227, 217, 211);stroke:black;stroke-width:1.0\"/><circle cx=\"452\" cy=\"96\" r=\"3.0\" style=\"fill:rgb(197, 213, 242);stroke:black;stroke-width:1.0\"/><circle cx=\"634\" cy=\"182\" r=\"3.0\" style=\"fill:rgb(199, 214, 240);stroke:black;stroke-width:1.0\"/><circle cx=\"509\" cy=\"20\" r=\"3.0\" style=\"fill:rgb(88, 118, 226);stroke:black;stroke-width:1.0\"/><circle cx=\"175\" cy=\"289\" r=\"3.0\" style=\"fill:rgb(222, 219, 218);stroke:black;stroke-width:1.0\"/><circle cx=\"587\" cy=\"213\" r=\"3.0\" style=\"fill:rgb(247, 173, 143);stroke:black;stroke-width:1.0\"/><circle cx=\"506\" cy=\"196\" r=\"3.0\" style=\"fill:rgb(179, 3, 38);stroke:black;stroke-width:1.0\"/><circle cx=\"380\" cy=\"220\" r=\"3.0\" style=\"fill:rgb(246, 189, 164);stroke:black;stroke-width:1.0\"/><circle cx=\"417\" cy=\"199\" r=\"3.0\" style=\"fill:rgb(205, 217, 236);stroke:black;stroke-width:1.0\"/><circle cx=\"79\" cy=\"150\" r=\"3.0\" style=\"fill:rgb(58, 76, 192);stroke:black;stroke-width:1.0\"/><circle cx=\"565\" cy=\"254\" r=\"3.0\" style=\"fill:rgb(242, 200, 179);stroke:black;stroke-width:1.0\"/><circle cx=\"711\" cy=\"179\" r=\"3.0\" style=\"fill:rgb(109, 144, 241);stroke:black;stroke-width:1.0\"/><circle cx=\"169\" cy=\"370\" r=\"3.0\" style=\"fill:rgb(170, 198, 253);stroke:black;stroke-width:1.0\"/><circle cx=\"20\" cy=\"337\" r=\"3.0\" style=\"fill:rgb(92, 123, 229);stroke:black;stroke-width:1.0\"/><circle cx=\"228\" cy=\"240\" r=\"3.0\" style=\"fill:rgb(145, 179, 254);stroke:black;stroke-width:1.0\"/><circle cx=\"148\" cy=\"440\" r=\"3.0\" style=\"fill:rgb(64, 84, 199);stroke:black;stroke-width:1.0\"/><circle cx=\"720\" cy=\"267\" r=\"3.0\" style=\"fill:rgb(109, 144, 241);stroke:black;stroke-width:1.0\"/><circle cx=\"158\" cy=\"232\" r=\"3.0\" style=\"fill:rgb(141, 175, 253);stroke:black;stroke-width:1.0\"/><circle cx=\"373\" cy=\"319\" r=\"3.0\" style=\"fill:rgb(247, 179, 151);stroke:black;stroke-width:1.0\"/><circle cx=\"295\" cy=\"289\" r=\"3.0\" style=\"fill:rgb(190, 35, 45);stroke:black;stroke-width:1.0\"/><circle cx=\"304\" cy=\"216\" r=\"3.0\" style=\"fill:rgb(145, 179, 254);stroke:black;stroke-width:1.0\"/><circle cx=\"370\" cy=\"275\" r=\"3.0\" style=\"fill:rgb(247, 179, 151);stroke:black;stroke-width:1.0\"/><circle cx=\"346\" cy=\"194\" r=\"3.0\" style=\"fill:rgb(155, 187, 254);stroke:black;stroke-width:1.0\"/><circle cx=\"621\" cy=\"160\" r=\"3.0\" style=\"fill:rgb(199, 214, 240);stroke:black;stroke-width:1.0\"/><text font-size=\"10\" x=\"342\" y=\"262\">Wireless network</text><text font-size=\"10\" x=\"335\" y=\"419\">Evolved wireless ad hoc network</text><text font-size=\"10\" x=\"55\" y=\"239\">List of LTE networks</text><text font-size=\"10\" x=\"329\" y=\"98\">Thread (network protocol)</text><text font-size=\"10\" x=\"26\" y=\"386\">Community network</text><text font-size=\"10\" x=\"273\" y=\"234\">Wireless mesh network</text><text font-size=\"10\" x=\"212\" y=\"320\">List of wireless community networks by region</text><text font-size=\"10\" x=\"438\" y=\"523\">Opportunistic mobile social network</text><text font-size=\"10\" x=\"328\" y=\"352\">South African wireless community networks</text><text font-size=\"10\" x=\"535\" y=\"123\">Low-power wide-area network</text><text font-size=\"10\" x=\"680\" y=\"222\">Local area network</text><text font-size=\"10\" x=\"458\" y=\"99\">Low-power network</text><text font-size=\"10\" x=\"640\" y=\"185\">Internet area network</text><text font-size=\"10\" x=\"515\" y=\"23\">Low-voltage network</text><text font-size=\"10\" x=\"181\" y=\"292\">Ad hoc network</text><text font-size=\"10\" x=\"593\" y=\"216\">Body area network</text><text font-size=\"10\" x=\"512\" y=\"199\">Personal area network</text><text font-size=\"10\" x=\"386\" y=\"223\">Wireless sensor network</text><text font-size=\"10\" x=\"423\" y=\"202\">Mobile wireless sensor network</text><text font-size=\"10\" x=\"85\" y=\"153\">Service set (802.11 network)</text><text font-size=\"10\" x=\"571\" y=\"257\">Metropolitan area network</text><text font-size=\"10\" x=\"717\" y=\"182\">Storage area network</text><text font-size=\"10\" x=\"175\" y=\"373\">Vehicular ad hoc network</text><text font-size=\"10\" x=\"26\" y=\"340\">Intelligent vehicular ad hoc network</text><text font-size=\"10\" x=\"234\" y=\"243\">Key distribution in wireless sensor networks</text><text font-size=\"10\" x=\"154\" y=\"443\">List of television networks by country</text><text font-size=\"10\" x=\"726\" y=\"270\">Campus network</text><text font-size=\"10\" x=\"164\" y=\"235\">Minneapolis wireless internet network</text><text font-size=\"10\" x=\"379\" y=\"322\">Wireless community network</text><text font-size=\"10\" x=\"301\" y=\"292\">Wireless ad hoc network</text><text font-size=\"10\" x=\"310\" y=\"219\">Smartphone ad hoc network</text><text font-size=\"10\" x=\"376\" y=\"278\">Municipal wireless network</text><text font-size=\"10\" x=\"352\" y=\"197\">Mesh networking</text><text font-size=\"10\" x=\"627\" y=\"163\">Wide area network</text></svg>"
      ],
      "text/plain": [
       "<IPython.core.display.SVG object>"
      ]
     },
     "execution_count": 30,
     "metadata": {},
     "output_type": "execute_result"
    }
   ],
   "source": [
    "nodes = community_df[community_df['community']==comm_idx[3]]['node'].values\n",
    "\n",
    "G_comm = G.subgraph(nodes)\n",
    "\n",
    "draw_graph(nx.k_core(G_comm, 1), show_names=True, node_size=3)"
   ]
  },
  {
   "cell_type": "code",
   "execution_count": 31,
   "id": "4cf747cc",
   "metadata": {},
   "outputs": [
    {
     "name": "stdout",
     "output_type": "stream",
     "text": [
      "Ad hoc network\n",
      "Body area network\n",
      "Campus network\n",
      "Community network\n",
      "Evolved wireless ad hoc network\n",
      "Intelligent vehicular ad hoc network\n",
      "Internet area network\n",
      "Key distribution in wireless sensor networks\n",
      "List of LTE networks\n",
      "List of television networks by country\n",
      "List of wireless community networks by region\n",
      "Local area network\n",
      "Low-power network\n",
      "Low-power wide-area network\n",
      "Low-voltage network\n",
      "Mesh networking\n",
      "Metropolitan area network\n",
      "Minneapolis wireless internet network\n",
      "Mobile wireless sensor network\n",
      "Municipal wireless network\n",
      "Near-me area network\n",
      "Opportunistic mobile social network\n",
      "Personal area network\n",
      "Routing in delay-tolerant networking\n",
      "Service set (802.11 network)\n",
      "Smartphone ad hoc network\n",
      "South African wireless community networks\n",
      "Storage area network\n",
      "Thread (network protocol)\n",
      "Vehicular ad hoc network\n",
      "Wide area network\n",
      "Wireless ad hoc network\n",
      "Wireless community network\n",
      "Wireless mesh network\n",
      "Wireless network\n",
      "Wireless network organizations by size\n",
      "Wireless sensor network\n",
      "Wireless telegraphy\n"
     ]
    },
    {
     "data": {
      "text/plain": [
       "[None,\n",
       " None,\n",
       " None,\n",
       " None,\n",
       " None,\n",
       " None,\n",
       " None,\n",
       " None,\n",
       " None,\n",
       " None,\n",
       " None,\n",
       " None,\n",
       " None,\n",
       " None,\n",
       " None,\n",
       " None,\n",
       " None,\n",
       " None,\n",
       " None,\n",
       " None,\n",
       " None,\n",
       " None,\n",
       " None,\n",
       " None,\n",
       " None,\n",
       " None,\n",
       " None,\n",
       " None,\n",
       " None,\n",
       " None,\n",
       " None,\n",
       " None,\n",
       " None,\n",
       " None,\n",
       " None,\n",
       " None,\n",
       " None,\n",
       " None]"
      ]
     },
     "execution_count": 31,
     "metadata": {},
     "output_type": "execute_result"
    }
   ],
   "source": [
    "[print(n) for n in sorted(G_comm.nodes)]"
   ]
  },
  {
   "cell_type": "code",
   "execution_count": 32,
   "id": "6e03a80c",
   "metadata": {},
   "outputs": [
    {
     "data": {
      "image/svg+xml": [
       "<svg height=\"540\" width=\"1090.0\" xmlns=\"http://www.w3.org/2000/svg\"><path d=\"M 153 185 264 265\" stroke=\"gray\" stroke-width=\"0.5\"/><path d=\"M 153 185 193 244\" stroke=\"gray\" stroke-width=\"0.5\"/><path d=\"M 153 185 20 242\" stroke=\"gray\" stroke-width=\"0.5\"/><path d=\"M 153 185 245 126\" stroke=\"gray\" stroke-width=\"0.5\"/><path d=\"M 153 185 315 305\" stroke=\"gray\" stroke-width=\"0.5\"/><path d=\"M 153 185 153 296\" stroke=\"gray\" stroke-width=\"0.5\"/><path d=\"M 153 185 250 226\" stroke=\"gray\" stroke-width=\"0.5\"/><path d=\"M 405 263 264 265\" stroke=\"gray\" stroke-width=\"0.5\"/><path d=\"M 405 263 467 379\" stroke=\"gray\" stroke-width=\"0.5\"/><path d=\"M 405 263 336 176\" stroke=\"gray\" stroke-width=\"0.5\"/><path d=\"M 405 263 269 303\" stroke=\"gray\" stroke-width=\"0.5\"/><path d=\"M 405 263 370 360\" stroke=\"gray\" stroke-width=\"0.5\"/><path d=\"M 405 263 250 226\" stroke=\"gray\" stroke-width=\"0.5\"/><path d=\"M 264 265 153 185\" stroke=\"gray\" stroke-width=\"0.5\"/><path d=\"M 264 265 405 263\" stroke=\"gray\" stroke-width=\"0.5\"/><path d=\"M 264 265 278 422\" stroke=\"gray\" stroke-width=\"0.5\"/><path d=\"M 264 265 230 356\" stroke=\"gray\" stroke-width=\"0.5\"/><path d=\"M 264 265 245 126\" stroke=\"gray\" stroke-width=\"0.5\"/><path d=\"M 264 265 315 305\" stroke=\"gray\" stroke-width=\"0.5\"/><path d=\"M 264 265 336 176\" stroke=\"gray\" stroke-width=\"0.5\"/><path d=\"M 264 265 370 360\" stroke=\"gray\" stroke-width=\"0.5\"/><path d=\"M 264 265 318 393\" stroke=\"gray\" stroke-width=\"0.5\"/><path d=\"M 264 265 153 296\" stroke=\"gray\" stroke-width=\"0.5\"/><path d=\"M 264 265 102 242\" stroke=\"gray\" stroke-width=\"0.5\"/><path d=\"M 264 265 250 226\" stroke=\"gray\" stroke-width=\"0.5\"/><path d=\"M 503 487 467 379\" stroke=\"gray\" stroke-width=\"0.5\"/><path d=\"M 503 487 358 453\" stroke=\"gray\" stroke-width=\"0.5\"/><path d=\"M 503 487 370 360\" stroke=\"gray\" stroke-width=\"0.5\"/><path d=\"M 503 487 451 520\" stroke=\"gray\" stroke-width=\"0.5\"/><path d=\"M 193 244 153 185\" stroke=\"gray\" stroke-width=\"0.5\"/><path d=\"M 193 244 417 204\" stroke=\"gray\" stroke-width=\"0.5\"/><path d=\"M 193 244 20 242\" stroke=\"gray\" stroke-width=\"0.5\"/><path d=\"M 193 244 131 339\" stroke=\"gray\" stroke-width=\"0.5\"/><path d=\"M 193 244 269 303\" stroke=\"gray\" stroke-width=\"0.5\"/><path d=\"M 193 244 370 360\" stroke=\"gray\" stroke-width=\"0.5\"/><path d=\"M 193 244 153 296\" stroke=\"gray\" stroke-width=\"0.5\"/><path d=\"M 193 244 102 242\" stroke=\"gray\" stroke-width=\"0.5\"/><path d=\"M 193 244 250 226\" stroke=\"gray\" stroke-width=\"0.5\"/><path d=\"M 278 422 264 265\" stroke=\"gray\" stroke-width=\"0.5\"/><path d=\"M 278 422 467 379\" stroke=\"gray\" stroke-width=\"0.5\"/><path d=\"M 278 422 174 398\" stroke=\"gray\" stroke-width=\"0.5\"/><path d=\"M 278 422 315 305\" stroke=\"gray\" stroke-width=\"0.5\"/><path d=\"M 278 422 269 303\" stroke=\"gray\" stroke-width=\"0.5\"/><path d=\"M 417 204 193 244\" stroke=\"gray\" stroke-width=\"0.5\"/><path d=\"M 417 204 467 379\" stroke=\"gray\" stroke-width=\"0.5\"/><path d=\"M 417 204 250 226\" stroke=\"gray\" stroke-width=\"0.5\"/><path d=\"M 720 373 467 379\" stroke=\"gray\" stroke-width=\"0.5\"/><path d=\"M 467 379 405 263\" stroke=\"gray\" stroke-width=\"0.5\"/><path d=\"M 467 379 503 487\" stroke=\"gray\" stroke-width=\"0.5\"/><path d=\"M 467 379 278 422\" stroke=\"gray\" stroke-width=\"0.5\"/><path d=\"M 467 379 417 204\" stroke=\"gray\" stroke-width=\"0.5\"/><path d=\"M 467 379 720 373\" stroke=\"gray\" stroke-width=\"0.5\"/><path d=\"M 467 379 358 453\" stroke=\"gray\" stroke-width=\"0.5\"/><path d=\"M 467 379 590 410\" stroke=\"gray\" stroke-width=\"0.5\"/><path d=\"M 467 379 269 303\" stroke=\"gray\" stroke-width=\"0.5\"/><path d=\"M 467 379 370 360\" stroke=\"gray\" stroke-width=\"0.5\"/><path d=\"M 467 379 318 393\" stroke=\"gray\" stroke-width=\"0.5\"/><path d=\"M 467 379 451 520\" stroke=\"gray\" stroke-width=\"0.5\"/><path d=\"M 174 398 278 422\" stroke=\"gray\" stroke-width=\"0.5\"/><path d=\"M 174 398 230 356\" stroke=\"gray\" stroke-width=\"0.5\"/><path d=\"M 174 398 269 303\" stroke=\"gray\" stroke-width=\"0.5\"/><path d=\"M 174 398 318 393\" stroke=\"gray\" stroke-width=\"0.5\"/><path d=\"M 174 398 153 296\" stroke=\"gray\" stroke-width=\"0.5\"/><path d=\"M 174 398 250 226\" stroke=\"gray\" stroke-width=\"0.5\"/><path d=\"M 358 453 503 487\" stroke=\"gray\" stroke-width=\"0.5\"/><path d=\"M 358 453 467 379\" stroke=\"gray\" stroke-width=\"0.5\"/><path d=\"M 358 453 315 305\" stroke=\"gray\" stroke-width=\"0.5\"/><path d=\"M 358 453 131 339\" stroke=\"gray\" stroke-width=\"0.5\"/><path d=\"M 358 453 370 360\" stroke=\"gray\" stroke-width=\"0.5\"/><path d=\"M 358 453 318 393\" stroke=\"gray\" stroke-width=\"0.5\"/><path d=\"M 358 453 451 520\" stroke=\"gray\" stroke-width=\"0.5\"/><path d=\"M 590 410 467 379\" stroke=\"gray\" stroke-width=\"0.5\"/><path d=\"M 590 410 370 360\" stroke=\"gray\" stroke-width=\"0.5\"/><path d=\"M 20 242 153 185\" stroke=\"gray\" stroke-width=\"0.5\"/><path d=\"M 20 242 193 244\" stroke=\"gray\" stroke-width=\"0.5\"/><path d=\"M 20 242 131 339\" stroke=\"gray\" stroke-width=\"0.5\"/><path d=\"M 20 242 153 296\" stroke=\"gray\" stroke-width=\"0.5\"/><path d=\"M 20 242 102 242\" stroke=\"gray\" stroke-width=\"0.5\"/><path d=\"M 230 356 264 265\" stroke=\"gray\" stroke-width=\"0.5\"/><path d=\"M 230 356 174 398\" stroke=\"gray\" stroke-width=\"0.5\"/><path d=\"M 230 356 315 305\" stroke=\"gray\" stroke-width=\"0.5\"/><path d=\"M 230 356 269 303\" stroke=\"gray\" stroke-width=\"0.5\"/><path d=\"M 230 356 370 360\" stroke=\"gray\" stroke-width=\"0.5\"/><path d=\"M 230 356 318 393\" stroke=\"gray\" stroke-width=\"0.5\"/><path d=\"M 230 356 153 296\" stroke=\"gray\" stroke-width=\"0.5\"/><path d=\"M 230 356 250 226\" stroke=\"gray\" stroke-width=\"0.5\"/><path d=\"M 245 126 153 185\" stroke=\"gray\" stroke-width=\"0.5\"/><path d=\"M 245 126 264 265\" stroke=\"gray\" stroke-width=\"0.5\"/><path d=\"M 245 126 336 176\" stroke=\"gray\" stroke-width=\"0.5\"/><path d=\"M 245 126 269 303\" stroke=\"gray\" stroke-width=\"0.5\"/><path d=\"M 245 126 250 226\" stroke=\"gray\" stroke-width=\"0.5\"/><path d=\"M 245 126 232 20\" stroke=\"gray\" stroke-width=\"0.5\"/><path d=\"M 315 305 153 185\" stroke=\"gray\" stroke-width=\"0.5\"/><path d=\"M 315 305 264 265\" stroke=\"gray\" stroke-width=\"0.5\"/><path d=\"M 315 305 278 422\" stroke=\"gray\" stroke-width=\"0.5\"/><path d=\"M 315 305 358 453\" stroke=\"gray\" stroke-width=\"0.5\"/><path d=\"M 315 305 230 356\" stroke=\"gray\" stroke-width=\"0.5\"/><path d=\"M 315 305 336 176\" stroke=\"gray\" stroke-width=\"0.5\"/><path d=\"M 315 305 318 393\" stroke=\"gray\" stroke-width=\"0.5\"/><path d=\"M 315 305 250 226\" stroke=\"gray\" stroke-width=\"0.5\"/><path d=\"M 336 176 405 263\" stroke=\"gray\" stroke-width=\"0.5\"/><path d=\"M 336 176 264 265\" stroke=\"gray\" stroke-width=\"0.5\"/><path d=\"M 336 176 245 126\" stroke=\"gray\" stroke-width=\"0.5\"/><path d=\"M 336 176 315 305\" stroke=\"gray\" stroke-width=\"0.5\"/><path d=\"M 336 176 269 303\" stroke=\"gray\" stroke-width=\"0.5\"/><path d=\"M 336 176 250 226\" stroke=\"gray\" stroke-width=\"0.5\"/><path d=\"M 131 339 193 244\" stroke=\"gray\" stroke-width=\"0.5\"/><path d=\"M 131 339 358 453\" stroke=\"gray\" stroke-width=\"0.5\"/><path d=\"M 131 339 20 242\" stroke=\"gray\" stroke-width=\"0.5\"/><path d=\"M 131 339 269 303\" stroke=\"gray\" stroke-width=\"0.5\"/><path d=\"M 131 339 153 296\" stroke=\"gray\" stroke-width=\"0.5\"/><path d=\"M 131 339 102 242\" stroke=\"gray\" stroke-width=\"0.5\"/><path d=\"M 131 339 250 226\" stroke=\"gray\" stroke-width=\"0.5\"/><path d=\"M 269 303 405 263\" stroke=\"gray\" stroke-width=\"0.5\"/><path d=\"M 269 303 193 244\" stroke=\"gray\" stroke-width=\"0.5\"/><path d=\"M 269 303 278 422\" stroke=\"gray\" stroke-width=\"0.5\"/><path d=\"M 269 303 467 379\" stroke=\"gray\" stroke-width=\"0.5\"/><path d=\"M 269 303 174 398\" stroke=\"gray\" stroke-width=\"0.5\"/><path d=\"M 269 303 230 356\" stroke=\"gray\" stroke-width=\"0.5\"/><path d=\"M 269 303 245 126\" stroke=\"gray\" stroke-width=\"0.5\"/><path d=\"M 269 303 336 176\" stroke=\"gray\" stroke-width=\"0.5\"/><path d=\"M 269 303 131 339\" stroke=\"gray\" stroke-width=\"0.5\"/><path d=\"M 269 303 370 360\" stroke=\"gray\" stroke-width=\"0.5\"/><path d=\"M 269 303 318 393\" stroke=\"gray\" stroke-width=\"0.5\"/><path d=\"M 269 303 102 242\" stroke=\"gray\" stroke-width=\"0.5\"/><path d=\"M 269 303 250 226\" stroke=\"gray\" stroke-width=\"0.5\"/><path d=\"M 370 360 405 263\" stroke=\"gray\" stroke-width=\"0.5\"/><path d=\"M 370 360 264 265\" stroke=\"gray\" stroke-width=\"0.5\"/><path d=\"M 370 360 503 487\" stroke=\"gray\" stroke-width=\"0.5\"/><path d=\"M 370 360 193 244\" stroke=\"gray\" stroke-width=\"0.5\"/><path d=\"M 370 360 467 379\" stroke=\"gray\" stroke-width=\"0.5\"/><path d=\"M 370 360 358 453\" stroke=\"gray\" stroke-width=\"0.5\"/><path d=\"M 370 360 590 410\" stroke=\"gray\" stroke-width=\"0.5\"/><path d=\"M 370 360 230 356\" stroke=\"gray\" stroke-width=\"0.5\"/><path d=\"M 370 360 269 303\" stroke=\"gray\" stroke-width=\"0.5\"/><path d=\"M 370 360 318 393\" stroke=\"gray\" stroke-width=\"0.5\"/><path d=\"M 370 360 153 296\" stroke=\"gray\" stroke-width=\"0.5\"/><path d=\"M 370 360 451 520\" stroke=\"gray\" stroke-width=\"0.5\"/><path d=\"M 370 360 250 226\" stroke=\"gray\" stroke-width=\"0.5\"/><path d=\"M 318 393 264 265\" stroke=\"gray\" stroke-width=\"0.5\"/><path d=\"M 318 393 467 379\" stroke=\"gray\" stroke-width=\"0.5\"/><path d=\"M 318 393 174 398\" stroke=\"gray\" stroke-width=\"0.5\"/><path d=\"M 318 393 358 453\" stroke=\"gray\" stroke-width=\"0.5\"/><path d=\"M 318 393 230 356\" stroke=\"gray\" stroke-width=\"0.5\"/><path d=\"M 318 393 315 305\" stroke=\"gray\" stroke-width=\"0.5\"/><path d=\"M 318 393 269 303\" stroke=\"gray\" stroke-width=\"0.5\"/><path d=\"M 318 393 370 360\" stroke=\"gray\" stroke-width=\"0.5\"/><path d=\"M 153 296 153 185\" stroke=\"gray\" stroke-width=\"0.5\"/><path d=\"M 153 296 264 265\" stroke=\"gray\" stroke-width=\"0.5\"/><path d=\"M 153 296 193 244\" stroke=\"gray\" stroke-width=\"0.5\"/><path d=\"M 153 296 174 398\" stroke=\"gray\" stroke-width=\"0.5\"/><path d=\"M 153 296 20 242\" stroke=\"gray\" stroke-width=\"0.5\"/><path d=\"M 153 296 230 356\" stroke=\"gray\" stroke-width=\"0.5\"/><path d=\"M 153 296 131 339\" stroke=\"gray\" stroke-width=\"0.5\"/><path d=\"M 153 296 370 360\" stroke=\"gray\" stroke-width=\"0.5\"/><path d=\"M 153 296 250 226\" stroke=\"gray\" stroke-width=\"0.5\"/><path d=\"M 102 242 264 265\" stroke=\"gray\" stroke-width=\"0.5\"/><path d=\"M 102 242 193 244\" stroke=\"gray\" stroke-width=\"0.5\"/><path d=\"M 102 242 20 242\" stroke=\"gray\" stroke-width=\"0.5\"/><path d=\"M 102 242 131 339\" stroke=\"gray\" stroke-width=\"0.5\"/><path d=\"M 102 242 269 303\" stroke=\"gray\" stroke-width=\"0.5\"/><path d=\"M 102 242 250 226\" stroke=\"gray\" stroke-width=\"0.5\"/><path d=\"M 451 520 503 487\" stroke=\"gray\" stroke-width=\"0.5\"/><path d=\"M 451 520 467 379\" stroke=\"gray\" stroke-width=\"0.5\"/><path d=\"M 451 520 358 453\" stroke=\"gray\" stroke-width=\"0.5\"/><path d=\"M 451 520 370 360\" stroke=\"gray\" stroke-width=\"0.5\"/><path d=\"M 250 226 153 185\" stroke=\"gray\" stroke-width=\"0.5\"/><path d=\"M 250 226 405 263\" stroke=\"gray\" stroke-width=\"0.5\"/><path d=\"M 250 226 264 265\" stroke=\"gray\" stroke-width=\"0.5\"/><path d=\"M 250 226 193 244\" stroke=\"gray\" stroke-width=\"0.5\"/><path d=\"M 250 226 417 204\" stroke=\"gray\" stroke-width=\"0.5\"/><path d=\"M 250 226 174 398\" stroke=\"gray\" stroke-width=\"0.5\"/><path d=\"M 250 226 230 356\" stroke=\"gray\" stroke-width=\"0.5\"/><path d=\"M 250 226 245 126\" stroke=\"gray\" stroke-width=\"0.5\"/><path d=\"M 250 226 315 305\" stroke=\"gray\" stroke-width=\"0.5\"/><path d=\"M 250 226 336 176\" stroke=\"gray\" stroke-width=\"0.5\"/><path d=\"M 250 226 131 339\" stroke=\"gray\" stroke-width=\"0.5\"/><path d=\"M 250 226 269 303\" stroke=\"gray\" stroke-width=\"0.5\"/><path d=\"M 250 226 370 360\" stroke=\"gray\" stroke-width=\"0.5\"/><path d=\"M 250 226 153 296\" stroke=\"gray\" stroke-width=\"0.5\"/><path d=\"M 250 226 102 242\" stroke=\"gray\" stroke-width=\"0.5\"/><path d=\"M 250 226 232 20\" stroke=\"gray\" stroke-width=\"0.5\"/><path d=\"M 232 20 245 126\" stroke=\"gray\" stroke-width=\"0.5\"/><path d=\"M 232 20 250 226\" stroke=\"gray\" stroke-width=\"0.5\"/><circle cx=\"153\" cy=\"185\" r=\"3.0\" style=\"fill:rgb(183, 207, 249);stroke:black;stroke-width:1.0\"/><circle cx=\"405\" cy=\"263\" r=\"3.0\" style=\"fill:rgb(163, 193, 254);stroke:black;stroke-width:1.0\"/><circle cx=\"264\" cy=\"265\" r=\"3.0\" style=\"fill:rgb(246, 169, 138);stroke:black;stroke-width:1.0\"/><circle cx=\"503\" cy=\"487\" r=\"3.0\" style=\"fill:rgb(123, 158, 248);stroke:black;stroke-width:1.0\"/><circle cx=\"193\" cy=\"244\" r=\"3.0\" style=\"fill:rgb(224, 218, 215);stroke:black;stroke-width:1.0\"/><circle cx=\"278\" cy=\"422\" r=\"3.0\" style=\"fill:rgb(138, 173, 253);stroke:black;stroke-width:1.0\"/><circle cx=\"417\" cy=\"204\" r=\"3.0\" style=\"fill:rgb(96, 128, 232);stroke:black;stroke-width:1.0\"/><circle cx=\"720\" cy=\"373\" r=\"3.0\" style=\"fill:rgb(58, 76, 192);stroke:black;stroke-width:1.0\"/><circle cx=\"467\" cy=\"379\" r=\"3.0\" style=\"fill:rgb(240, 141, 111);stroke:black;stroke-width:1.0\"/><circle cx=\"174\" cy=\"398\" r=\"3.0\" style=\"fill:rgb(159, 190, 254);stroke:black;stroke-width:1.0\"/><circle cx=\"358\" cy=\"453\" r=\"3.0\" style=\"fill:rgb(193, 212, 244);stroke:black;stroke-width:1.0\"/><circle cx=\"590\" cy=\"410\" r=\"3.0\" style=\"fill:rgb(76, 102, 214);stroke:black;stroke-width:1.0\"/><circle cx=\"20\" cy=\"242\" r=\"3.0\" style=\"fill:rgb(138, 173, 253);stroke:black;stroke-width:1.0\"/><circle cx=\"230\" cy=\"356\" r=\"3.0\" style=\"fill:rgb(199, 214, 240);stroke:black;stroke-width:1.0\"/><circle cx=\"245\" cy=\"126\" r=\"3.0\" style=\"fill:rgb(166, 195, 253);stroke:black;stroke-width:1.0\"/><circle cx=\"315\" cy=\"305\" r=\"3.0\" style=\"fill:rgb(205, 217, 236);stroke:black;stroke-width:1.0\"/><circle cx=\"336\" cy=\"176\" r=\"3.0\" style=\"fill:rgb(159, 190, 254);stroke:black;stroke-width:1.0\"/><circle cx=\"131\" cy=\"339\" r=\"3.0\" style=\"fill:rgb(183, 207, 249);stroke:black;stroke-width:1.0\"/><circle cx=\"269\" cy=\"303\" r=\"3.0\" style=\"fill:rgb(240, 141, 111);stroke:black;stroke-width:1.0\"/><circle cx=\"370\" cy=\"360\" r=\"3.0\" style=\"fill:rgb(234, 123, 96);stroke:black;stroke-width:1.0\"/><circle cx=\"318\" cy=\"393\" r=\"3.0\" style=\"fill:rgb(205, 217, 236);stroke:black;stroke-width:1.0\"/><circle cx=\"153\" cy=\"296\" r=\"3.0\" style=\"fill:rgb(219, 220, 222);stroke:black;stroke-width:1.0\"/><circle cx=\"102\" cy=\"242\" r=\"3.0\" style=\"fill:rgb(159, 190, 254);stroke:black;stroke-width:1.0\"/><circle cx=\"451\" cy=\"520\" r=\"3.0\" style=\"fill:rgb(123, 158, 248);stroke:black;stroke-width:1.0\"/><circle cx=\"250\" cy=\"226\" r=\"3.0\" style=\"fill:rgb(179, 3, 38);stroke:black;stroke-width:1.0\"/><circle cx=\"232\" cy=\"20\" r=\"3.0\" style=\"fill:rgb(72, 96, 209);stroke:black;stroke-width:1.0\"/><text font-size=\"10\" x=\"159\" y=\"188\">Diaspora (social network)</text><text font-size=\"10\" x=\"411\" y=\"266\">Spaces (social network)</text><text font-size=\"10\" x=\"270\" y=\"268\">Gab (social network)</text><text font-size=\"10\" x=\"509\" y=\"490\">Dynamic network analysis</text><text font-size=\"10\" x=\"199\" y=\"247\">Distributed social network</text><text font-size=\"10\" x=\"284\" y=\"425\">Issues relating to social networking services</text><text font-size=\"10\" x=\"423\" y=\"207\">Social network aggregation</text><text font-size=\"10\" x=\"726\" y=\"376\">Transport network analysis</text><text font-size=\"10\" x=\"473\" y=\"382\">Social network analysis</text><text font-size=\"10\" x=\"180\" y=\"401\">Privacy concerns with social networking services</text><text font-size=\"10\" x=\"364\" y=\"456\">Social network analysis software</text><text font-size=\"10\" x=\"596\" y=\"413\">Social network analysis (criminology)</text><text font-size=\"10\" x=\"26\" y=\"245\">Comparison of software and protocols for distributed social networking</text><text font-size=\"10\" x=\"236\" y=\"359\">Threads (social network)</text><text font-size=\"10\" x=\"251\" y=\"129\">List of defunct social networking services</text><text font-size=\"10\" x=\"321\" y=\"308\">Peach (social network)</text><text font-size=\"10\" x=\"342\" y=\"179\">Social network hosting service</text><text font-size=\"10\" x=\"137\" y=\"342\">Comparison of social networking software</text><text font-size=\"10\" x=\"275\" y=\"306\">Social networking service</text><text font-size=\"10\" x=\"376\" y=\"363\">Social network</text><text font-size=\"10\" x=\"324\" y=\"396\">Path (social network)</text><text font-size=\"10\" x=\"159\" y=\"299\">Mastodon (social network)</text><text font-size=\"10\" x=\"108\" y=\"245\">Minds (social network)</text><text font-size=\"10\" x=\"457\" y=\"523\">Organizational network analysis</text><text font-size=\"10\" x=\"256\" y=\"229\">List of social networking services</text><text font-size=\"10\" x=\"238\" y=\"23\">List of LGBT social networking services</text></svg>"
      ],
      "text/plain": [
       "<IPython.core.display.SVG object>"
      ]
     },
     "execution_count": 32,
     "metadata": {},
     "output_type": "execute_result"
    }
   ],
   "source": [
    "nodes = community_df[community_df['community']==comm_idx[4]]['node'].values\n",
    "\n",
    "G_comm = G.subgraph(nodes)\n",
    "\n",
    "draw_graph(nx.k_core(G_comm, 1), show_names=True, node_size=3)"
   ]
  },
  {
   "cell_type": "code",
   "execution_count": 33,
   "id": "d8e47fa1",
   "metadata": {},
   "outputs": [
    {
     "name": "stdout",
     "output_type": "stream",
     "text": [
      "Comparison of social networking software\n",
      "Comparison of software and protocols for distributed social networking\n",
      "Complementary network service\n",
      "Diaspora (social network)\n",
      "Distributed social network\n",
      "Dynamic network analysis\n",
      "Gab (social network)\n",
      "Issues relating to social networking services\n",
      "List of LGBT social networking services\n",
      "List of defunct social networking services\n",
      "List of social networking services\n",
      "Mastodon (social network)\n",
      "Minds (social network)\n",
      "Organizational network analysis\n",
      "Path (social network)\n",
      "Peach (social network)\n",
      "Privacy concerns with social networking services\n",
      "Professional network service\n",
      "Social network\n",
      "Social network aggregation\n",
      "Social network analysis\n",
      "Social network analysis (criminology)\n",
      "Social network analysis software\n",
      "Social network hosting service\n",
      "Social networking service\n",
      "Spaces (social network)\n",
      "Threads (social network)\n",
      "Transport network analysis\n"
     ]
    },
    {
     "data": {
      "text/plain": [
       "[None,\n",
       " None,\n",
       " None,\n",
       " None,\n",
       " None,\n",
       " None,\n",
       " None,\n",
       " None,\n",
       " None,\n",
       " None,\n",
       " None,\n",
       " None,\n",
       " None,\n",
       " None,\n",
       " None,\n",
       " None,\n",
       " None,\n",
       " None,\n",
       " None,\n",
       " None,\n",
       " None,\n",
       " None,\n",
       " None,\n",
       " None,\n",
       " None,\n",
       " None,\n",
       " None,\n",
       " None]"
      ]
     },
     "execution_count": 33,
     "metadata": {},
     "output_type": "execute_result"
    }
   ],
   "source": [
    "[print(n) for n in sorted(G_comm.nodes)]"
   ]
  },
  {
   "cell_type": "code",
   "execution_count": 34,
   "id": "2aecda26",
   "metadata": {},
   "outputs": [
    {
     "data": {
      "image/svg+xml": [
       "<svg height=\"540\" width=\"1050.0\" xmlns=\"http://www.w3.org/2000/svg\"><path d=\"M 394 342 321 273\" stroke=\"gray\" stroke-width=\"0.5\"/><path d=\"M 394 342 394 236\" stroke=\"gray\" stroke-width=\"0.5\"/><path d=\"M 394 342 336 382\" stroke=\"gray\" stroke-width=\"0.5\"/><path d=\"M 394 342 317 353\" stroke=\"gray\" stroke-width=\"0.5\"/><path d=\"M 407 285 433 162\" stroke=\"gray\" stroke-width=\"0.5\"/><path d=\"M 407 285 394 236\" stroke=\"gray\" stroke-width=\"0.5\"/><path d=\"M 407 285 317 353\" stroke=\"gray\" stroke-width=\"0.5\"/><path d=\"M 407 285 288 318\" stroke=\"gray\" stroke-width=\"0.5\"/><path d=\"M 407 285 365 265\" stroke=\"gray\" stroke-width=\"0.5\"/><path d=\"M 433 162 407 285\" stroke=\"gray\" stroke-width=\"0.5\"/><path d=\"M 433 162 580 148\" stroke=\"gray\" stroke-width=\"0.5\"/><path d=\"M 433 162 394 236\" stroke=\"gray\" stroke-width=\"0.5\"/><path d=\"M 433 162 420 108\" stroke=\"gray\" stroke-width=\"0.5\"/><path d=\"M 433 162 350 128\" stroke=\"gray\" stroke-width=\"0.5\"/><path d=\"M 433 162 476 215\" stroke=\"gray\" stroke-width=\"0.5\"/><path d=\"M 433 162 410 20\" stroke=\"gray\" stroke-width=\"0.5\"/><path d=\"M 433 162 365 265\" stroke=\"gray\" stroke-width=\"0.5\"/><path d=\"M 580 148 433 162\" stroke=\"gray\" stroke-width=\"0.5\"/><path d=\"M 580 148 720 103\" stroke=\"gray\" stroke-width=\"0.5\"/><path d=\"M 580 148 476 215\" stroke=\"gray\" stroke-width=\"0.5\"/><path d=\"M 580 148 485 168\" stroke=\"gray\" stroke-width=\"0.5\"/><path d=\"M 572 50 485 168\" stroke=\"gray\" stroke-width=\"0.5\"/><path d=\"M 371 457 336 382\" stroke=\"gray\" stroke-width=\"0.5\"/><path d=\"M 371 457 317 353\" stroke=\"gray\" stroke-width=\"0.5\"/><path d=\"M 239 481 317 353\" stroke=\"gray\" stroke-width=\"0.5\"/><path d=\"M 321 273 394 342\" stroke=\"gray\" stroke-width=\"0.5\"/><path d=\"M 321 273 394 236\" stroke=\"gray\" stroke-width=\"0.5\"/><path d=\"M 321 273 476 215\" stroke=\"gray\" stroke-width=\"0.5\"/><path d=\"M 321 273 200 191\" stroke=\"gray\" stroke-width=\"0.5\"/><path d=\"M 321 273 485 168\" stroke=\"gray\" stroke-width=\"0.5\"/><path d=\"M 321 273 336 382\" stroke=\"gray\" stroke-width=\"0.5\"/><path d=\"M 321 273 317 353\" stroke=\"gray\" stroke-width=\"0.5\"/><path d=\"M 321 273 206 360\" stroke=\"gray\" stroke-width=\"0.5\"/><path d=\"M 321 273 288 318\" stroke=\"gray\" stroke-width=\"0.5\"/><path d=\"M 321 273 173 332\" stroke=\"gray\" stroke-width=\"0.5\"/><path d=\"M 720 103 580 148\" stroke=\"gray\" stroke-width=\"0.5\"/><path d=\"M 394 236 394 342\" stroke=\"gray\" stroke-width=\"0.5\"/><path d=\"M 394 236 407 285\" stroke=\"gray\" stroke-width=\"0.5\"/><path d=\"M 394 236 433 162\" stroke=\"gray\" stroke-width=\"0.5\"/><path d=\"M 394 236 321 273\" stroke=\"gray\" stroke-width=\"0.5\"/><path d=\"M 394 236 420 108\" stroke=\"gray\" stroke-width=\"0.5\"/><path d=\"M 394 236 350 128\" stroke=\"gray\" stroke-width=\"0.5\"/><path d=\"M 394 236 476 215\" stroke=\"gray\" stroke-width=\"0.5\"/><path d=\"M 394 236 485 168\" stroke=\"gray\" stroke-width=\"0.5\"/><path d=\"M 394 236 336 382\" stroke=\"gray\" stroke-width=\"0.5\"/><path d=\"M 394 236 317 353\" stroke=\"gray\" stroke-width=\"0.5\"/><path d=\"M 394 236 365 265\" stroke=\"gray\" stroke-width=\"0.5\"/><path d=\"M 420 108 433 162\" stroke=\"gray\" stroke-width=\"0.5\"/><path d=\"M 420 108 394 236\" stroke=\"gray\" stroke-width=\"0.5\"/><path d=\"M 350 128 433 162\" stroke=\"gray\" stroke-width=\"0.5\"/><path d=\"M 350 128 394 236\" stroke=\"gray\" stroke-width=\"0.5\"/><path d=\"M 476 215 433 162\" stroke=\"gray\" stroke-width=\"0.5\"/><path d=\"M 476 215 580 148\" stroke=\"gray\" stroke-width=\"0.5\"/><path d=\"M 476 215 321 273\" stroke=\"gray\" stroke-width=\"0.5\"/><path d=\"M 476 215 394 236\" stroke=\"gray\" stroke-width=\"0.5\"/><path d=\"M 476 215 485 168\" stroke=\"gray\" stroke-width=\"0.5\"/><path d=\"M 200 191 321 273\" stroke=\"gray\" stroke-width=\"0.5\"/><path d=\"M 485 168 580 148\" stroke=\"gray\" stroke-width=\"0.5\"/><path d=\"M 485 168 572 50\" stroke=\"gray\" stroke-width=\"0.5\"/><path d=\"M 485 168 321 273\" stroke=\"gray\" stroke-width=\"0.5\"/><path d=\"M 485 168 394 236\" stroke=\"gray\" stroke-width=\"0.5\"/><path d=\"M 485 168 476 215\" stroke=\"gray\" stroke-width=\"0.5\"/><path d=\"M 336 382 394 342\" stroke=\"gray\" stroke-width=\"0.5\"/><path d=\"M 336 382 371 457\" stroke=\"gray\" stroke-width=\"0.5\"/><path d=\"M 336 382 321 273\" stroke=\"gray\" stroke-width=\"0.5\"/><path d=\"M 336 382 394 236\" stroke=\"gray\" stroke-width=\"0.5\"/><path d=\"M 336 382 317 353\" stroke=\"gray\" stroke-width=\"0.5\"/><path d=\"M 336 382 288 318\" stroke=\"gray\" stroke-width=\"0.5\"/><path d=\"M 336 382 173 332\" stroke=\"gray\" stroke-width=\"0.5\"/><path d=\"M 336 382 404 520\" stroke=\"gray\" stroke-width=\"0.5\"/><path d=\"M 45 261 173 332\" stroke=\"gray\" stroke-width=\"0.5\"/><path d=\"M 317 353 394 342\" stroke=\"gray\" stroke-width=\"0.5\"/><path d=\"M 317 353 407 285\" stroke=\"gray\" stroke-width=\"0.5\"/><path d=\"M 317 353 371 457\" stroke=\"gray\" stroke-width=\"0.5\"/><path d=\"M 317 353 239 481\" stroke=\"gray\" stroke-width=\"0.5\"/><path d=\"M 317 353 321 273\" stroke=\"gray\" stroke-width=\"0.5\"/><path d=\"M 317 353 394 236\" stroke=\"gray\" stroke-width=\"0.5\"/><path d=\"M 317 353 336 382\" stroke=\"gray\" stroke-width=\"0.5\"/><path d=\"M 317 353 288 318\" stroke=\"gray\" stroke-width=\"0.5\"/><path d=\"M 317 353 173 332\" stroke=\"gray\" stroke-width=\"0.5\"/><path d=\"M 317 353 365 265\" stroke=\"gray\" stroke-width=\"0.5\"/><path d=\"M 206 360 321 273\" stroke=\"gray\" stroke-width=\"0.5\"/><path d=\"M 206 360 173 332\" stroke=\"gray\" stroke-width=\"0.5\"/><path d=\"M 410 20 433 162\" stroke=\"gray\" stroke-width=\"0.5\"/><path d=\"M 288 318 407 285\" stroke=\"gray\" stroke-width=\"0.5\"/><path d=\"M 288 318 321 273\" stroke=\"gray\" stroke-width=\"0.5\"/><path d=\"M 288 318 336 382\" stroke=\"gray\" stroke-width=\"0.5\"/><path d=\"M 288 318 317 353\" stroke=\"gray\" stroke-width=\"0.5\"/><path d=\"M 288 318 173 332\" stroke=\"gray\" stroke-width=\"0.5\"/><path d=\"M 288 318 365 265\" stroke=\"gray\" stroke-width=\"0.5\"/><path d=\"M 173 332 321 273\" stroke=\"gray\" stroke-width=\"0.5\"/><path d=\"M 173 332 336 382\" stroke=\"gray\" stroke-width=\"0.5\"/><path d=\"M 173 332 45 261\" stroke=\"gray\" stroke-width=\"0.5\"/><path d=\"M 173 332 317 353\" stroke=\"gray\" stroke-width=\"0.5\"/><path d=\"M 173 332 206 360\" stroke=\"gray\" stroke-width=\"0.5\"/><path d=\"M 173 332 288 318\" stroke=\"gray\" stroke-width=\"0.5\"/><path d=\"M 173 332 20 327\" stroke=\"gray\" stroke-width=\"0.5\"/><path d=\"M 173 332 40 398\" stroke=\"gray\" stroke-width=\"0.5\"/><path d=\"M 20 327 173 332\" stroke=\"gray\" stroke-width=\"0.5\"/><path d=\"M 404 520 336 382\" stroke=\"gray\" stroke-width=\"0.5\"/><path d=\"M 365 265 407 285\" stroke=\"gray\" stroke-width=\"0.5\"/><path d=\"M 365 265 433 162\" stroke=\"gray\" stroke-width=\"0.5\"/><path d=\"M 365 265 394 236\" stroke=\"gray\" stroke-width=\"0.5\"/><path d=\"M 365 265 317 353\" stroke=\"gray\" stroke-width=\"0.5\"/><path d=\"M 365 265 288 318\" stroke=\"gray\" stroke-width=\"0.5\"/><path d=\"M 40 398 173 332\" stroke=\"gray\" stroke-width=\"0.5\"/><circle cx=\"394\" cy=\"342\" r=\"3.0\" style=\"fill:rgb(148, 181, 254);stroke:black;stroke-width:1.0\"/><circle cx=\"407\" cy=\"285\" r=\"3.0\" style=\"fill:rgb(183, 207, 249);stroke:black;stroke-width:1.0\"/><circle cx=\"433\" cy=\"162\" r=\"3.0\" style=\"fill:rgb(243, 150, 120);stroke:black;stroke-width:1.0\"/><circle cx=\"580\" cy=\"148\" r=\"3.0\" style=\"fill:rgb(180, 205, 250);stroke:black;stroke-width:1.0\"/><circle cx=\"572\" cy=\"50\" r=\"3.0\" style=\"fill:rgb(60, 79, 195);stroke:black;stroke-width:1.0\"/><circle cx=\"371\" cy=\"457\" r=\"3.0\" style=\"fill:rgb(86, 115, 224);stroke:black;stroke-width:1.0\"/><circle cx=\"239\" cy=\"481\" r=\"3.0\" style=\"fill:rgb(58, 76, 192);stroke:black;stroke-width:1.0\"/><circle cx=\"321\" cy=\"273\" r=\"3.0\" style=\"fill:rgb(197, 50, 51);stroke:black;stroke-width:1.0\"/><circle cx=\"720\" cy=\"103\" r=\"3.0\" style=\"fill:rgb(64, 84, 199);stroke:black;stroke-width:1.0\"/><circle cx=\"394\" cy=\"236\" r=\"3.0\" style=\"fill:rgb(179, 3, 38);stroke:black;stroke-width:1.0\"/><circle cx=\"420\" cy=\"108\" r=\"3.0\" style=\"fill:rgb(86, 115, 224);stroke:black;stroke-width:1.0\"/><circle cx=\"350\" cy=\"128\" r=\"3.0\" style=\"fill:rgb(86, 115, 224);stroke:black;stroke-width:1.0\"/><circle cx=\"476\" cy=\"215\" r=\"3.0\" style=\"fill:rgb(193, 212, 244);stroke:black;stroke-width:1.0\"/><circle cx=\"200\" cy=\"191\" r=\"3.0\" style=\"fill:rgb(58, 76, 192);stroke:black;stroke-width:1.0\"/><circle cx=\"485\" cy=\"168\" r=\"3.0\" style=\"fill:rgb(208, 218, 233);stroke:black;stroke-width:1.0\"/><circle cx=\"336\" cy=\"382\" r=\"3.0\" style=\"fill:rgb(245, 158, 127);stroke:black;stroke-width:1.0\"/><circle cx=\"45\" cy=\"261\" r=\"3.0\" style=\"fill:rgb(60, 79, 195);stroke:black;stroke-width:1.0\"/><circle cx=\"317\" cy=\"353\" r=\"3.0\" style=\"fill:rgb(207, 70, 61);stroke:black;stroke-width:1.0\"/><circle cx=\"206\" cy=\"360\" r=\"3.0\" style=\"fill:rgb(92, 123, 229);stroke:black;stroke-width:1.0\"/><circle cx=\"410\" cy=\"20\" r=\"3.0\" style=\"fill:rgb(58, 76, 192);stroke:black;stroke-width:1.0\"/><circle cx=\"288\" cy=\"318\" r=\"3.0\" style=\"fill:rgb(217, 220, 224);stroke:black;stroke-width:1.0\"/><circle cx=\"173\" cy=\"332\" r=\"3.0\" style=\"fill:rgb(222, 98, 78);stroke:black;stroke-width:1.0\"/><circle cx=\"20\" cy=\"327\" r=\"3.0\" style=\"fill:rgb(60, 79, 195);stroke:black;stroke-width:1.0\"/><circle cx=\"404\" cy=\"520\" r=\"3.0\" style=\"fill:rgb(58, 76, 192);stroke:black;stroke-width:1.0\"/><circle cx=\"365\" cy=\"265\" r=\"3.0\" style=\"fill:rgb(183, 207, 249);stroke:black;stroke-width:1.0\"/><circle cx=\"40\" cy=\"398\" r=\"3.0\" style=\"fill:rgb(60, 79, 195);stroke:black;stroke-width:1.0\"/><text font-size=\"10\" x=\"400\" y=\"345\">List of mobile network operators of the Middle East and Africa</text><text font-size=\"10\" x=\"413\" y=\"288\">Zong (mobile network)</text><text font-size=\"10\" x=\"439\" y=\"165\">Mobile network codes in ITU region 4xx (Asia)</text><text font-size=\"10\" x=\"586\" y=\"151\">List of LTE networks in Europe</text><text font-size=\"10\" x=\"578\" y=\"53\">List of LTE networks in Africa</text><text font-size=\"10\" x=\"377\" y=\"460\">List of mobile network operators of the Caribbean</text><text font-size=\"10\" x=\"245\" y=\"484\">List of mobile network operators in Kenya</text><text font-size=\"10\" x=\"327\" y=\"276\">List of mobile network operators of Europe</text><text font-size=\"10\" x=\"726\" y=\"106\">List of planned LTE networks</text><text font-size=\"10\" x=\"400\" y=\"239\">List of mobile network operators of the Asia Pacific region</text><text font-size=\"10\" x=\"426\" y=\"111\">Mobile network codes in ITU region 5xx (Oceania)</text><text font-size=\"10\" x=\"356\" y=\"131\">Mobile network codes in ITU region 3xx (North America)</text><text font-size=\"10\" x=\"482\" y=\"218\">Mobile network codes in ITU region 2xx (Europe)</text><text font-size=\"10\" x=\"206\" y=\"194\">List of Turkey mobile virtual network operators</text><text font-size=\"10\" x=\"491\" y=\"171\">Mobile network codes in ITU region 6xx (Africa)</text><text font-size=\"10\" x=\"342\" y=\"385\">List of mobile network operators of the Americas</text><text font-size=\"10\" x=\"51\" y=\"264\">Virtual network operator</text><text font-size=\"10\" x=\"323\" y=\"356\">List of mobile network operators</text><text font-size=\"10\" x=\"212\" y=\"363\">List of United Kingdom mobile virtual network operators</text><text font-size=\"10\" x=\"416\" y=\"23\">List of LTE networks in Asia</text><text font-size=\"10\" x=\"294\" y=\"321\">Mobile network operator</text><text font-size=\"10\" x=\"179\" y=\"335\">Mobile virtual network operator</text><text font-size=\"10\" x=\"26\" y=\"330\">List of United States mobile virtual network operators</text><text font-size=\"10\" x=\"410\" y=\"523\">Mobile network codes in ITU region 7xx (South America)</text><text font-size=\"10\" x=\"371\" y=\"268\">Jazz (mobile network operator)</text><text font-size=\"10\" x=\"46\" y=\"401\">List of Irish mobile virtual network operators</text></svg>"
      ],
      "text/plain": [
       "<IPython.core.display.SVG object>"
      ]
     },
     "execution_count": 34,
     "metadata": {},
     "output_type": "execute_result"
    }
   ],
   "source": [
    "nodes = community_df[community_df['community']==comm_idx[5]]['node'].values\n",
    "\n",
    "G_comm = G.subgraph(nodes)\n",
    "\n",
    "draw_graph(nx.k_core(G_comm, 1), show_names=True, node_size=3)"
   ]
  },
  {
   "cell_type": "code",
   "execution_count": 35,
   "id": "68c9b254",
   "metadata": {},
   "outputs": [
    {
     "name": "stdout",
     "output_type": "stream",
     "text": [
      "Jazz (mobile network operator)\n",
      "List of Irish mobile virtual network operators\n",
      "List of LTE networks in Africa\n",
      "List of LTE networks in Asia\n",
      "List of LTE networks in Europe\n",
      "List of Turkey mobile virtual network operators\n",
      "List of United Kingdom mobile virtual network operators\n",
      "List of United States mobile virtual network operators\n",
      "List of mobile network operators\n",
      "List of mobile network operators in Kenya\n",
      "List of mobile network operators of Europe\n",
      "List of mobile network operators of the Americas\n",
      "List of mobile network operators of the Asia Pacific region\n",
      "List of mobile network operators of the Caribbean\n",
      "List of mobile network operators of the Middle East and Africa\n",
      "List of planned LTE networks\n",
      "Mobile network codes in ITU region 2xx (Europe)\n",
      "Mobile network codes in ITU region 3xx (North America)\n",
      "Mobile network codes in ITU region 4xx (Asia)\n",
      "Mobile network codes in ITU region 5xx (Oceania)\n",
      "Mobile network codes in ITU region 6xx (Africa)\n",
      "Mobile network codes in ITU region 7xx (South America)\n",
      "Mobile network operator\n",
      "Mobile virtual network operator\n",
      "Virtual network operator\n",
      "Zong (mobile network)\n"
     ]
    },
    {
     "data": {
      "text/plain": [
       "[None,\n",
       " None,\n",
       " None,\n",
       " None,\n",
       " None,\n",
       " None,\n",
       " None,\n",
       " None,\n",
       " None,\n",
       " None,\n",
       " None,\n",
       " None,\n",
       " None,\n",
       " None,\n",
       " None,\n",
       " None,\n",
       " None,\n",
       " None,\n",
       " None,\n",
       " None,\n",
       " None,\n",
       " None,\n",
       " None,\n",
       " None,\n",
       " None,\n",
       " None]"
      ]
     },
     "execution_count": 35,
     "metadata": {},
     "output_type": "execute_result"
    }
   ],
   "source": [
    "[print(n) for n in sorted(G_comm.nodes)]"
   ]
  },
  {
   "cell_type": "code",
   "execution_count": 36,
   "id": "91c8a460",
   "metadata": {},
   "outputs": [
    {
     "data": {
      "image/svg+xml": [
       "<svg height=\"540\" width=\"895.0\" xmlns=\"http://www.w3.org/2000/svg\"><path d=\"M 618 197 528 176\" stroke=\"gray\" stroke-width=\"0.5\"/><path d=\"M 618 197 621 81\" stroke=\"gray\" stroke-width=\"0.5\"/><path d=\"M 618 197 510 343\" stroke=\"gray\" stroke-width=\"0.5\"/><path d=\"M 618 197 512 255\" stroke=\"gray\" stroke-width=\"0.5\"/><path d=\"M 481 123 339 20\" stroke=\"gray\" stroke-width=\"0.5\"/><path d=\"M 481 123 417 147\" stroke=\"gray\" stroke-width=\"0.5\"/><path d=\"M 481 123 356 176\" stroke=\"gray\" stroke-width=\"0.5\"/><path d=\"M 481 123 569 308\" stroke=\"gray\" stroke-width=\"0.5\"/><path d=\"M 481 123 374 265\" stroke=\"gray\" stroke-width=\"0.5\"/><path d=\"M 481 123 679 147\" stroke=\"gray\" stroke-width=\"0.5\"/><path d=\"M 339 20 481 123\" stroke=\"gray\" stroke-width=\"0.5\"/><path d=\"M 339 20 417 147\" stroke=\"gray\" stroke-width=\"0.5\"/><path d=\"M 339 20 261 159\" stroke=\"gray\" stroke-width=\"0.5\"/><path d=\"M 417 147 481 123\" stroke=\"gray\" stroke-width=\"0.5\"/><path d=\"M 417 147 339 20\" stroke=\"gray\" stroke-width=\"0.5\"/><path d=\"M 417 147 528 176\" stroke=\"gray\" stroke-width=\"0.5\"/><path d=\"M 417 147 510 343\" stroke=\"gray\" stroke-width=\"0.5\"/><path d=\"M 417 147 512 255\" stroke=\"gray\" stroke-width=\"0.5\"/><path d=\"M 417 147 261 159\" stroke=\"gray\" stroke-width=\"0.5\"/><path d=\"M 343 428 283 331\" stroke=\"gray\" stroke-width=\"0.5\"/><path d=\"M 343 428 442 520\" stroke=\"gray\" stroke-width=\"0.5\"/><path d=\"M 343 428 512 255\" stroke=\"gray\" stroke-width=\"0.5\"/><path d=\"M 343 428 381 379\" stroke=\"gray\" stroke-width=\"0.5\"/><path d=\"M 244 270 512 255\" stroke=\"gray\" stroke-width=\"0.5\"/><path d=\"M 244 270 20 273\" stroke=\"gray\" stroke-width=\"0.5\"/><path d=\"M 244 270 261 159\" stroke=\"gray\" stroke-width=\"0.5\"/><path d=\"M 244 270 374 265\" stroke=\"gray\" stroke-width=\"0.5\"/><path d=\"M 244 270 381 379\" stroke=\"gray\" stroke-width=\"0.5\"/><path d=\"M 356 176 481 123\" stroke=\"gray\" stroke-width=\"0.5\"/><path d=\"M 356 176 283 331\" stroke=\"gray\" stroke-width=\"0.5\"/><path d=\"M 356 176 528 176\" stroke=\"gray\" stroke-width=\"0.5\"/><path d=\"M 356 176 374 265\" stroke=\"gray\" stroke-width=\"0.5\"/><path d=\"M 283 331 343 428\" stroke=\"gray\" stroke-width=\"0.5\"/><path d=\"M 283 331 356 176\" stroke=\"gray\" stroke-width=\"0.5\"/><path d=\"M 283 331 261 159\" stroke=\"gray\" stroke-width=\"0.5\"/><path d=\"M 283 331 374 265\" stroke=\"gray\" stroke-width=\"0.5\"/><path d=\"M 283 331 381 379\" stroke=\"gray\" stroke-width=\"0.5\"/><path d=\"M 283 331 357 473\" stroke=\"gray\" stroke-width=\"0.5\"/><path d=\"M 528 176 618 197\" stroke=\"gray\" stroke-width=\"0.5\"/><path d=\"M 528 176 417 147\" stroke=\"gray\" stroke-width=\"0.5\"/><path d=\"M 528 176 356 176\" stroke=\"gray\" stroke-width=\"0.5\"/><path d=\"M 528 176 621 81\" stroke=\"gray\" stroke-width=\"0.5\"/><path d=\"M 528 176 374 265\" stroke=\"gray\" stroke-width=\"0.5\"/><path d=\"M 528 176 673 309\" stroke=\"gray\" stroke-width=\"0.5\"/><path d=\"M 442 520 343 428\" stroke=\"gray\" stroke-width=\"0.5\"/><path d=\"M 442 520 510 343\" stroke=\"gray\" stroke-width=\"0.5\"/><path d=\"M 442 520 381 379\" stroke=\"gray\" stroke-width=\"0.5\"/><path d=\"M 621 81 618 197\" stroke=\"gray\" stroke-width=\"0.5\"/><path d=\"M 621 81 528 176\" stroke=\"gray\" stroke-width=\"0.5\"/><path d=\"M 621 81 512 255\" stroke=\"gray\" stroke-width=\"0.5\"/><path d=\"M 510 343 618 197\" stroke=\"gray\" stroke-width=\"0.5\"/><path d=\"M 510 343 417 147\" stroke=\"gray\" stroke-width=\"0.5\"/><path d=\"M 510 343 442 520\" stroke=\"gray\" stroke-width=\"0.5\"/><path d=\"M 510 343 512 255\" stroke=\"gray\" stroke-width=\"0.5\"/><path d=\"M 510 343 569 308\" stroke=\"gray\" stroke-width=\"0.5\"/><path d=\"M 512 255 618 197\" stroke=\"gray\" stroke-width=\"0.5\"/><path d=\"M 512 255 417 147\" stroke=\"gray\" stroke-width=\"0.5\"/><path d=\"M 512 255 343 428\" stroke=\"gray\" stroke-width=\"0.5\"/><path d=\"M 512 255 244 270\" stroke=\"gray\" stroke-width=\"0.5\"/><path d=\"M 512 255 621 81\" stroke=\"gray\" stroke-width=\"0.5\"/><path d=\"M 512 255 510 343\" stroke=\"gray\" stroke-width=\"0.5\"/><path d=\"M 512 255 569 308\" stroke=\"gray\" stroke-width=\"0.5\"/><path d=\"M 512 255 720 263\" stroke=\"gray\" stroke-width=\"0.5\"/><path d=\"M 512 255 374 265\" stroke=\"gray\" stroke-width=\"0.5\"/><path d=\"M 512 255 679 147\" stroke=\"gray\" stroke-width=\"0.5\"/><path d=\"M 512 255 673 309\" stroke=\"gray\" stroke-width=\"0.5\"/><path d=\"M 20 273 244 270\" stroke=\"gray\" stroke-width=\"0.5\"/><path d=\"M 569 308 481 123\" stroke=\"gray\" stroke-width=\"0.5\"/><path d=\"M 569 308 510 343\" stroke=\"gray\" stroke-width=\"0.5\"/><path d=\"M 569 308 512 255\" stroke=\"gray\" stroke-width=\"0.5\"/><path d=\"M 569 308 720 263\" stroke=\"gray\" stroke-width=\"0.5\"/><path d=\"M 569 308 381 379\" stroke=\"gray\" stroke-width=\"0.5\"/><path d=\"M 720 263 512 255\" stroke=\"gray\" stroke-width=\"0.5\"/><path d=\"M 720 263 569 308\" stroke=\"gray\" stroke-width=\"0.5\"/><path d=\"M 720 263 679 147\" stroke=\"gray\" stroke-width=\"0.5\"/><path d=\"M 720 263 673 309\" stroke=\"gray\" stroke-width=\"0.5\"/><path d=\"M 261 159 339 20\" stroke=\"gray\" stroke-width=\"0.5\"/><path d=\"M 261 159 417 147\" stroke=\"gray\" stroke-width=\"0.5\"/><path d=\"M 261 159 244 270\" stroke=\"gray\" stroke-width=\"0.5\"/><path d=\"M 261 159 283 331\" stroke=\"gray\" stroke-width=\"0.5\"/><path d=\"M 261 159 374 265\" stroke=\"gray\" stroke-width=\"0.5\"/><path d=\"M 374 265 481 123\" stroke=\"gray\" stroke-width=\"0.5\"/><path d=\"M 374 265 244 270\" stroke=\"gray\" stroke-width=\"0.5\"/><path d=\"M 374 265 356 176\" stroke=\"gray\" stroke-width=\"0.5\"/><path d=\"M 374 265 283 331\" stroke=\"gray\" stroke-width=\"0.5\"/><path d=\"M 374 265 528 176\" stroke=\"gray\" stroke-width=\"0.5\"/><path d=\"M 374 265 512 255\" stroke=\"gray\" stroke-width=\"0.5\"/><path d=\"M 374 265 261 159\" stroke=\"gray\" stroke-width=\"0.5\"/><path d=\"M 374 265 381 379\" stroke=\"gray\" stroke-width=\"0.5\"/><path d=\"M 374 265 357 473\" stroke=\"gray\" stroke-width=\"0.5\"/><path d=\"M 679 147 481 123\" stroke=\"gray\" stroke-width=\"0.5\"/><path d=\"M 679 147 512 255\" stroke=\"gray\" stroke-width=\"0.5\"/><path d=\"M 679 147 720 263\" stroke=\"gray\" stroke-width=\"0.5\"/><path d=\"M 381 379 343 428\" stroke=\"gray\" stroke-width=\"0.5\"/><path d=\"M 381 379 244 270\" stroke=\"gray\" stroke-width=\"0.5\"/><path d=\"M 381 379 283 331\" stroke=\"gray\" stroke-width=\"0.5\"/><path d=\"M 381 379 442 520\" stroke=\"gray\" stroke-width=\"0.5\"/><path d=\"M 381 379 569 308\" stroke=\"gray\" stroke-width=\"0.5\"/><path d=\"M 381 379 374 265\" stroke=\"gray\" stroke-width=\"0.5\"/><path d=\"M 357 473 283 331\" stroke=\"gray\" stroke-width=\"0.5\"/><path d=\"M 357 473 374 265\" stroke=\"gray\" stroke-width=\"0.5\"/><path d=\"M 673 309 528 176\" stroke=\"gray\" stroke-width=\"0.5\"/><path d=\"M 673 309 512 255\" stroke=\"gray\" stroke-width=\"0.5\"/><path d=\"M 673 309 720 263\" stroke=\"gray\" stroke-width=\"0.5\"/><circle cx=\"618\" cy=\"197\" r=\"3.0\" style=\"fill:rgb(152, 185, 254);stroke:black;stroke-width:1.0\"/><circle cx=\"481\" cy=\"123\" r=\"3.0\" style=\"fill:rgb(217, 220, 224);stroke:black;stroke-width:1.0\"/><circle cx=\"339\" cy=\"20\" r=\"3.0\" style=\"fill:rgb(116, 151, 245);stroke:black;stroke-width:1.0\"/><circle cx=\"417\" cy=\"147\" r=\"3.0\" style=\"fill:rgb(214, 219, 228);stroke:black;stroke-width:1.0\"/><circle cx=\"343\" cy=\"428\" r=\"3.0\" style=\"fill:rgb(152, 185, 254);stroke:black;stroke-width:1.0\"/><circle cx=\"244\" cy=\"270\" r=\"3.0\" style=\"fill:rgb(199, 214, 240);stroke:black;stroke-width:1.0\"/><circle cx=\"356\" cy=\"176\" r=\"3.0\" style=\"fill:rgb(148, 181, 254);stroke:black;stroke-width:1.0\"/><circle cx=\"283\" cy=\"331\" r=\"3.0\" style=\"fill:rgb(219, 220, 222);stroke:black;stroke-width:1.0\"/><circle cx=\"528\" cy=\"176\" r=\"3.0\" style=\"fill:rgb(217, 220, 224);stroke:black;stroke-width:1.0\"/><circle cx=\"442\" cy=\"520\" r=\"3.0\" style=\"fill:rgb(116, 151, 245);stroke:black;stroke-width:1.0\"/><circle cx=\"621\" cy=\"81\" r=\"3.0\" style=\"fill:rgb(116, 151, 245);stroke:black;stroke-width:1.0\"/><circle cx=\"510\" cy=\"343\" r=\"3.0\" style=\"fill:rgb(187, 209, 247);stroke:black;stroke-width:1.0\"/><circle cx=\"512\" cy=\"255\" r=\"3.0\" style=\"fill:rgb(179, 3, 38);stroke:black;stroke-width:1.0\"/><circle cx=\"20\" cy=\"273\" r=\"3.0\" style=\"fill:rgb(58, 76, 192);stroke:black;stroke-width:1.0\"/><circle cx=\"569\" cy=\"308\" r=\"3.0\" style=\"fill:rgb(183, 207, 249);stroke:black;stroke-width:1.0\"/><circle cx=\"720\" cy=\"263\" r=\"3.0\" style=\"fill:rgb(155, 187, 254);stroke:black;stroke-width:1.0\"/><circle cx=\"261\" cy=\"159\" r=\"3.0\" style=\"fill:rgb(187, 209, 247);stroke:black;stroke-width:1.0\"/><circle cx=\"374\" cy=\"265\" r=\"3.0\" style=\"fill:rgb(239, 137, 108);stroke:black;stroke-width:1.0\"/><circle cx=\"679\" cy=\"147\" r=\"3.0\" style=\"fill:rgb(116, 151, 245);stroke:black;stroke-width:1.0\"/><circle cx=\"381\" cy=\"379\" r=\"3.0\" style=\"fill:rgb(217, 220, 224);stroke:black;stroke-width:1.0\"/><circle cx=\"357\" cy=\"473\" r=\"3.0\" style=\"fill:rgb(82, 110, 220);stroke:black;stroke-width:1.0\"/><circle cx=\"673\" cy=\"309\" r=\"3.0\" style=\"fill:rgb(116, 151, 245);stroke:black;stroke-width:1.0\"/><text font-size=\"10\" x=\"624\" y=\"200\">K-vertex-connected graph</text><text font-size=\"10\" x=\"487\" y=\"126\">Random graph</text><text font-size=\"10\" x=\"345\" y=\"23\">Loop (graph theory)</text><text font-size=\"10\" x=\"423\" y=\"150\">Degree (graph theory)</text><text font-size=\"10\" x=\"349\" y=\"431\">Algebraic graph theory</text><text font-size=\"10\" x=\"250\" y=\"273\">Cheeger constant (graph theory)</text><text font-size=\"10\" x=\"362\" y=\"179\">Random regular graph</text><text font-size=\"10\" x=\"289\" y=\"334\">Ramanujan graph</text><text font-size=\"10\" x=\"534\" y=\"179\">Regular graph</text><text font-size=\"10\" x=\"448\" y=\"523\">Distance (graph theory)</text><text font-size=\"10\" x=\"627\" y=\"84\">K-edge-connected graph</text><text font-size=\"10\" x=\"516\" y=\"346\">Vertex (graph theory)</text><text font-size=\"10\" x=\"518\" y=\"258\">Connectivity (graph theory)</text><text font-size=\"10\" x=\"26\" y=\"276\">Conductance (graph)</text><text font-size=\"10\" x=\"575\" y=\"311\">Cut (graph theory)</text><text font-size=\"10\" x=\"726\" y=\"266\">Bridge (graph theory)</text><text font-size=\"10\" x=\"267\" y=\"162\">End (graph theory)</text><text font-size=\"10\" x=\"380\" y=\"268\">Expander graph</text><text font-size=\"10\" x=\"685\" y=\"150\">Component (graph theory)</text><text font-size=\"10\" x=\"387\" y=\"382\">Spectral graph theory</text><text font-size=\"10\" x=\"363\" y=\"476\">Supersingular isogeny graph</text><text font-size=\"10\" x=\"679\" y=\"312\">Complete graph</text></svg>"
      ],
      "text/plain": [
       "<IPython.core.display.SVG object>"
      ]
     },
     "execution_count": 36,
     "metadata": {},
     "output_type": "execute_result"
    }
   ],
   "source": [
    "nodes = community_df[community_df['community']==comm_idx[6]]['node'].values\n",
    "\n",
    "G_comm = G.subgraph(nodes)\n",
    "\n",
    "draw_graph(nx.k_core(G_comm, 1), show_names=True, node_size=3)"
   ]
  },
  {
   "cell_type": "code",
   "execution_count": 37,
   "id": "80c5d4e9",
   "metadata": {},
   "outputs": [
    {
     "name": "stdout",
     "output_type": "stream",
     "text": [
      "Algebraic graph theory\n",
      "Berlekamp–Van Lint–Seidel graph\n",
      "Bridge (graph theory)\n",
      "Cheeger constant (graph theory)\n",
      "Complete graph\n",
      "Component (graph theory)\n",
      "Conductance (graph)\n",
      "Connectivity (graph theory)\n",
      "Cut (graph theory)\n",
      "Degree (graph theory)\n",
      "Distance (graph theory)\n",
      "End (graph theory)\n",
      "Expander graph\n",
      "K-edge-connected graph\n",
      "K-vertex-connected graph\n",
      "Loop (graph theory)\n",
      "Multipartite graph\n",
      "Phase-field models on graphs\n",
      "Ramanujan graph\n",
      "Random graph\n",
      "Random regular graph\n",
      "Regular graph\n",
      "Spectral graph theory\n",
      "Supersingular isogeny graph\n",
      "Two-graph\n",
      "Vertex (graph theory)\n"
     ]
    },
    {
     "data": {
      "text/plain": [
       "[None,\n",
       " None,\n",
       " None,\n",
       " None,\n",
       " None,\n",
       " None,\n",
       " None,\n",
       " None,\n",
       " None,\n",
       " None,\n",
       " None,\n",
       " None,\n",
       " None,\n",
       " None,\n",
       " None,\n",
       " None,\n",
       " None,\n",
       " None,\n",
       " None,\n",
       " None,\n",
       " None,\n",
       " None,\n",
       " None,\n",
       " None,\n",
       " None,\n",
       " None]"
      ]
     },
     "execution_count": 37,
     "metadata": {},
     "output_type": "execute_result"
    }
   ],
   "source": [
    "[print(n) for n in sorted(G_comm.nodes)]"
   ]
  },
  {
   "cell_type": "code",
   "execution_count": 38,
   "id": "e9eaf993",
   "metadata": {},
   "outputs": [
    {
     "data": {
      "image/svg+xml": [
       "<svg height=\"540\" width=\"1010.0\" xmlns=\"http://www.w3.org/2000/svg\"><path d=\"M 292 297 329 251\" stroke=\"gray\" stroke-width=\"0.5\"/><path d=\"M 522 177 586 188\" stroke=\"gray\" stroke-width=\"0.5\"/><path d=\"M 522 177 412 182\" stroke=\"gray\" stroke-width=\"0.5\"/><path d=\"M 213 275 329 251\" stroke=\"gray\" stroke-width=\"0.5\"/><path d=\"M 233 239 329 251\" stroke=\"gray\" stroke-width=\"0.5\"/><path d=\"M 293 116 143 65\" stroke=\"gray\" stroke-width=\"0.5\"/><path d=\"M 293 116 368 82\" stroke=\"gray\" stroke-width=\"0.5\"/><path d=\"M 293 116 412 182\" stroke=\"gray\" stroke-width=\"0.5\"/><path d=\"M 293 116 202 125\" stroke=\"gray\" stroke-width=\"0.5\"/><path d=\"M 43 34 143 65\" stroke=\"gray\" stroke-width=\"0.5\"/><path d=\"M 586 188 522 177\" stroke=\"gray\" stroke-width=\"0.5\"/><path d=\"M 586 188 720 193\" stroke=\"gray\" stroke-width=\"0.5\"/><path d=\"M 586 188 412 182\" stroke=\"gray\" stroke-width=\"0.5\"/><path d=\"M 444 517 364 520\" stroke=\"gray\" stroke-width=\"0.5\"/><path d=\"M 143 65 293 116\" stroke=\"gray\" stroke-width=\"0.5\"/><path d=\"M 143 65 43 34\" stroke=\"gray\" stroke-width=\"0.5\"/><path d=\"M 143 65 20 71\" stroke=\"gray\" stroke-width=\"0.5\"/><path d=\"M 143 65 146 20\" stroke=\"gray\" stroke-width=\"0.5\"/><path d=\"M 368 82 293 116\" stroke=\"gray\" stroke-width=\"0.5\"/><path d=\"M 720 193 586 188\" stroke=\"gray\" stroke-width=\"0.5\"/><path d=\"M 398 290 329 251\" stroke=\"gray\" stroke-width=\"0.5\"/><path d=\"M 412 182 522 177\" stroke=\"gray\" stroke-width=\"0.5\"/><path d=\"M 412 182 293 116\" stroke=\"gray\" stroke-width=\"0.5\"/><path d=\"M 412 182 586 188\" stroke=\"gray\" stroke-width=\"0.5\"/><path d=\"M 412 182 329 251\" stroke=\"gray\" stroke-width=\"0.5\"/><path d=\"M 202 125 293 116\" stroke=\"gray\" stroke-width=\"0.5\"/><path d=\"M 20 71 143 65\" stroke=\"gray\" stroke-width=\"0.5\"/><path d=\"M 146 20 143 65\" stroke=\"gray\" stroke-width=\"0.5\"/><path d=\"M 329 251 292 297\" stroke=\"gray\" stroke-width=\"0.5\"/><path d=\"M 329 251 213 275\" stroke=\"gray\" stroke-width=\"0.5\"/><path d=\"M 329 251 233 239\" stroke=\"gray\" stroke-width=\"0.5\"/><path d=\"M 329 251 398 290\" stroke=\"gray\" stroke-width=\"0.5\"/><path d=\"M 329 251 412 182\" stroke=\"gray\" stroke-width=\"0.5\"/><path d=\"M 364 520 444 517\" stroke=\"gray\" stroke-width=\"0.5\"/><circle cx=\"292\" cy=\"297\" r=\"3.0\" style=\"fill:rgb(66, 88, 202);stroke:black;stroke-width:1.0\"/><circle cx=\"522\" cy=\"177\" r=\"3.0\" style=\"fill:rgb(123, 158, 248);stroke:black;stroke-width:1.0\"/><circle cx=\"213\" cy=\"275\" r=\"3.0\" style=\"fill:rgb(66, 88, 202);stroke:black;stroke-width:1.0\"/><circle cx=\"233\" cy=\"239\" r=\"3.0\" style=\"fill:rgb(66, 88, 202);stroke:black;stroke-width:1.0\"/><circle cx=\"293\" cy=\"116\" r=\"3.0\" style=\"fill:rgb(242, 145, 115);stroke:black;stroke-width:1.0\"/><circle cx=\"43\" cy=\"34\" r=\"3.0\" style=\"fill:rgb(66, 88, 202);stroke:black;stroke-width:1.0\"/><circle cx=\"586\" cy=\"188\" r=\"3.0\" style=\"fill:rgb(208, 218, 233);stroke:black;stroke-width:1.0\"/><circle cx=\"444\" cy=\"517\" r=\"3.0\" style=\"fill:rgb(145, 179, 254);stroke:black;stroke-width:1.0\"/><circle cx=\"143\" cy=\"65\" r=\"3.0\" style=\"fill:rgb(230, 114, 89);stroke:black;stroke-width:1.0\"/><circle cx=\"368\" cy=\"82\" r=\"3.0\" style=\"fill:rgb(58, 76, 192);stroke:black;stroke-width:1.0\"/><circle cx=\"720\" cy=\"193\" r=\"3.0\" style=\"fill:rgb(58, 76, 192);stroke:black;stroke-width:1.0\"/><circle cx=\"398\" cy=\"290\" r=\"3.0\" style=\"fill:rgb(66, 88, 202);stroke:black;stroke-width:1.0\"/><circle cx=\"412\" cy=\"182\" r=\"3.0\" style=\"fill:rgb(246, 169, 138);stroke:black;stroke-width:1.0\"/><circle cx=\"202\" cy=\"125\" r=\"3.0\" style=\"fill:rgb(58, 76, 192);stroke:black;stroke-width:1.0\"/><circle cx=\"20\" cy=\"71\" r=\"3.0\" style=\"fill:rgb(66, 88, 202);stroke:black;stroke-width:1.0\"/><circle cx=\"146\" cy=\"20\" r=\"3.0\" style=\"fill:rgb(66, 88, 202);stroke:black;stroke-width:1.0\"/><circle cx=\"329\" cy=\"251\" r=\"3.0\" style=\"fill:rgb(179, 3, 38);stroke:black;stroke-width:1.0\"/><circle cx=\"364\" cy=\"520\" r=\"3.0\" style=\"fill:rgb(145, 179, 254);stroke:black;stroke-width:1.0\"/><text font-size=\"10\" x=\"298\" y=\"300\">Metascience (journal)</text><text font-size=\"10\" x=\"528\" y=\"180\">Formal science</text><text font-size=\"10\" x=\"219\" y=\"278\">List of metascience research centers and organisations</text><text font-size=\"10\" x=\"239\" y=\"242\">Creation science</text><text font-size=\"10\" x=\"299\" y=\"119\">Science of science policy</text><text font-size=\"10\" x=\"49\" y=\"37\">Experimental political science</text><text font-size=\"10\" x=\"592\" y=\"191\">Natural science</text><text font-size=\"10\" x=\"450\" y=\"520\">Big science</text><text font-size=\"10\" x=\"149\" y=\"68\">Political science</text><text font-size=\"10\" x=\"374\" y=\"85\">History of science policy</text><text font-size=\"10\" x=\"726\" y=\"196\">Natural science (disambiguation)</text><text font-size=\"10\" x=\"404\" y=\"293\">Metascience (disambiguation)</text><text font-size=\"10\" x=\"418\" y=\"185\">Branches of science</text><text font-size=\"10\" x=\"208\" y=\"128\">Citizen science</text><text font-size=\"10\" x=\"26\" y=\"74\">Systems theory in political science</text><text font-size=\"10\" x=\"152\" y=\"23\">History of political science</text><text font-size=\"10\" x=\"335\" y=\"254\">Metascience</text><text font-size=\"10\" x=\"370\" y=\"523\">Funding of science</text></svg>"
      ],
      "text/plain": [
       "<IPython.core.display.SVG object>"
      ]
     },
     "execution_count": 38,
     "metadata": {},
     "output_type": "execute_result"
    }
   ],
   "source": [
    "nodes = community_df[community_df['community']==comm_idx[7]]['node'].values\n",
    "\n",
    "G_comm = G.subgraph(nodes)\n",
    "\n",
    "draw_graph(nx.k_core(G_comm, 1), show_names=True, node_size=3)"
   ]
  },
  {
   "cell_type": "code",
   "execution_count": 39,
   "id": "f1ff54e9",
   "metadata": {},
   "outputs": [
    {
     "name": "stdout",
     "output_type": "stream",
     "text": [
      "Big science\n",
      "Branches of science\n",
      "Citizen science\n",
      "Computer science (disambiguation)\n",
      "Conservation science\n",
      "Creation science\n",
      "Experimental political science\n",
      "Formal science\n",
      "Funding of science\n",
      "History of political science\n",
      "History of science and technology\n",
      "History of science and technology in Japan\n",
      "History of science policy\n",
      "List of metascience research centers and organisations\n",
      "Metascience\n",
      "Metascience (disambiguation)\n",
      "Metascience (journal)\n",
      "Natural science\n",
      "Natural science (disambiguation)\n",
      "Political science\n",
      "Rocket science\n",
      "Science of science policy\n",
      "Systems theory in political science\n",
      "Vedic science\n"
     ]
    },
    {
     "data": {
      "text/plain": [
       "[None,\n",
       " None,\n",
       " None,\n",
       " None,\n",
       " None,\n",
       " None,\n",
       " None,\n",
       " None,\n",
       " None,\n",
       " None,\n",
       " None,\n",
       " None,\n",
       " None,\n",
       " None,\n",
       " None,\n",
       " None,\n",
       " None,\n",
       " None,\n",
       " None,\n",
       " None,\n",
       " None,\n",
       " None,\n",
       " None,\n",
       " None]"
      ]
     },
     "execution_count": 39,
     "metadata": {},
     "output_type": "execute_result"
    }
   ],
   "source": [
    "[print(n) for n in sorted(G_comm.nodes)]"
   ]
  },
  {
   "cell_type": "code",
   "execution_count": 40,
   "id": "119f2612",
   "metadata": {},
   "outputs": [
    {
     "data": {
      "image/svg+xml": [
       "<svg height=\"540\" width=\"900.0\" xmlns=\"http://www.w3.org/2000/svg\"><path d=\"M 720 437 652 472\" stroke=\"gray\" stroke-width=\"0.5\"/><path d=\"M 20 57 125 74\" stroke=\"gray\" stroke-width=\"0.5\"/><path d=\"M 565 477 652 472\" stroke=\"gray\" stroke-width=\"0.5\"/><path d=\"M 277 166 343 167\" stroke=\"gray\" stroke-width=\"0.5\"/><path d=\"M 277 166 267 212\" stroke=\"gray\" stroke-width=\"0.5\"/><path d=\"M 277 166 325 217\" stroke=\"gray\" stroke-width=\"0.5\"/><path d=\"M 277 166 196 216\" stroke=\"gray\" stroke-width=\"0.5\"/><path d=\"M 277 166 262 103\" stroke=\"gray\" stroke-width=\"0.5\"/><path d=\"M 277 166 362 104\" stroke=\"gray\" stroke-width=\"0.5\"/><path d=\"M 652 472 720 437\" stroke=\"gray\" stroke-width=\"0.5\"/><path d=\"M 652 472 565 477\" stroke=\"gray\" stroke-width=\"0.5\"/><path d=\"M 652 472 669 520\" stroke=\"gray\" stroke-width=\"0.5\"/><path d=\"M 343 167 277 166\" stroke=\"gray\" stroke-width=\"0.5\"/><path d=\"M 343 167 267 212\" stroke=\"gray\" stroke-width=\"0.5\"/><path d=\"M 343 167 325 217\" stroke=\"gray\" stroke-width=\"0.5\"/><path d=\"M 343 167 394 113\" stroke=\"gray\" stroke-width=\"0.5\"/><path d=\"M 343 167 362 104\" stroke=\"gray\" stroke-width=\"0.5\"/><path d=\"M 402 40 462 61\" stroke=\"gray\" stroke-width=\"0.5\"/><path d=\"M 402 40 362 104\" stroke=\"gray\" stroke-width=\"0.5\"/><path d=\"M 267 212 277 166\" stroke=\"gray\" stroke-width=\"0.5\"/><path d=\"M 267 212 343 167\" stroke=\"gray\" stroke-width=\"0.5\"/><path d=\"M 267 212 325 217\" stroke=\"gray\" stroke-width=\"0.5\"/><path d=\"M 267 212 196 216\" stroke=\"gray\" stroke-width=\"0.5\"/><path d=\"M 325 217 277 166\" stroke=\"gray\" stroke-width=\"0.5\"/><path d=\"M 325 217 343 167\" stroke=\"gray\" stroke-width=\"0.5\"/><path d=\"M 325 217 267 212\" stroke=\"gray\" stroke-width=\"0.5\"/><path d=\"M 561 20 462 61\" stroke=\"gray\" stroke-width=\"0.5\"/><path d=\"M 196 216 277 166\" stroke=\"gray\" stroke-width=\"0.5\"/><path d=\"M 196 216 267 212\" stroke=\"gray\" stroke-width=\"0.5\"/><path d=\"M 262 103 277 166\" stroke=\"gray\" stroke-width=\"0.5\"/><path d=\"M 262 103 125 74\" stroke=\"gray\" stroke-width=\"0.5\"/><path d=\"M 262 103 394 113\" stroke=\"gray\" stroke-width=\"0.5\"/><path d=\"M 262 103 362 104\" stroke=\"gray\" stroke-width=\"0.5\"/><path d=\"M 125 74 20 57\" stroke=\"gray\" stroke-width=\"0.5\"/><path d=\"M 125 74 262 103\" stroke=\"gray\" stroke-width=\"0.5\"/><path d=\"M 669 520 652 472\" stroke=\"gray\" stroke-width=\"0.5\"/><path d=\"M 394 113 343 167\" stroke=\"gray\" stroke-width=\"0.5\"/><path d=\"M 394 113 262 103\" stroke=\"gray\" stroke-width=\"0.5\"/><path d=\"M 394 113 466 121\" stroke=\"gray\" stroke-width=\"0.5\"/><path d=\"M 394 113 462 61\" stroke=\"gray\" stroke-width=\"0.5\"/><path d=\"M 394 113 362 104\" stroke=\"gray\" stroke-width=\"0.5\"/><path d=\"M 466 121 394 113\" stroke=\"gray\" stroke-width=\"0.5\"/><path d=\"M 466 121 362 104\" stroke=\"gray\" stroke-width=\"0.5\"/><path d=\"M 462 61 402 40\" stroke=\"gray\" stroke-width=\"0.5\"/><path d=\"M 462 61 561 20\" stroke=\"gray\" stroke-width=\"0.5\"/><path d=\"M 462 61 394 113\" stroke=\"gray\" stroke-width=\"0.5\"/><path d=\"M 462 61 362 104\" stroke=\"gray\" stroke-width=\"0.5\"/><path d=\"M 362 104 277 166\" stroke=\"gray\" stroke-width=\"0.5\"/><path d=\"M 362 104 343 167\" stroke=\"gray\" stroke-width=\"0.5\"/><path d=\"M 362 104 402 40\" stroke=\"gray\" stroke-width=\"0.5\"/><path d=\"M 362 104 262 103\" stroke=\"gray\" stroke-width=\"0.5\"/><path d=\"M 362 104 394 113\" stroke=\"gray\" stroke-width=\"0.5\"/><path d=\"M 362 104 466 121\" stroke=\"gray\" stroke-width=\"0.5\"/><path d=\"M 362 104 462 61\" stroke=\"gray\" stroke-width=\"0.5\"/><circle cx=\"720\" cy=\"437\" r=\"3.0\" style=\"fill:rgb(134, 169, 252);stroke:black;stroke-width:1.0\"/><circle cx=\"20\" cy=\"57\" r=\"3.0\" style=\"fill:rgb(76, 102, 214);stroke:black;stroke-width:1.0\"/><circle cx=\"565\" cy=\"477\" r=\"3.0\" style=\"fill:rgb(134, 169, 252);stroke:black;stroke-width:1.0\"/><circle cx=\"277\" cy=\"166\" r=\"3.0\" style=\"fill:rgb(239, 137, 108);stroke:black;stroke-width:1.0\"/><circle cx=\"652\" cy=\"472\" r=\"3.0\" style=\"fill:rgb(211, 77, 64);stroke:black;stroke-width:1.0\"/><circle cx=\"343\" cy=\"167\" r=\"3.0\" style=\"fill:rgb(241, 203, 184);stroke:black;stroke-width:1.0\"/><circle cx=\"402\" cy=\"40\" r=\"3.0\" style=\"fill:rgb(105, 139, 239);stroke:black;stroke-width:1.0\"/><circle cx=\"267\" cy=\"212\" r=\"3.0\" style=\"fill:rgb(208, 218, 233);stroke:black;stroke-width:1.0\"/><circle cx=\"325\" cy=\"217\" r=\"3.0\" style=\"fill:rgb(148, 181, 254);stroke:black;stroke-width:1.0\"/><circle cx=\"561\" cy=\"20\" r=\"3.0\" style=\"fill:rgb(58, 76, 192);stroke:black;stroke-width:1.0\"/><circle cx=\"196\" cy=\"216\" r=\"3.0\" style=\"fill:rgb(96, 128, 232);stroke:black;stroke-width:1.0\"/><circle cx=\"262\" cy=\"103\" r=\"3.0\" style=\"fill:rgb(227, 217, 211);stroke:black;stroke-width:1.0\"/><circle cx=\"125\" cy=\"74\" r=\"3.0\" style=\"fill:rgb(152, 185, 254);stroke:black;stroke-width:1.0\"/><circle cx=\"669\" cy=\"520\" r=\"3.0\" style=\"fill:rgb(134, 169, 252);stroke:black;stroke-width:1.0\"/><circle cx=\"394\" cy=\"113\" r=\"3.0\" style=\"fill:rgb(246, 186, 159);stroke:black;stroke-width:1.0\"/><circle cx=\"466\" cy=\"121\" r=\"3.0\" style=\"fill:rgb(99, 131, 234);stroke:black;stroke-width:1.0\"/><circle cx=\"462\" cy=\"61\" r=\"3.0\" style=\"fill:rgb(234, 211, 199);stroke:black;stroke-width:1.0\"/><circle cx=\"362\" cy=\"104\" r=\"3.0\" style=\"fill:rgb(179, 3, 38);stroke:black;stroke-width:1.0\"/><text font-size=\"10\" x=\"726\" y=\"440\">Matchstick graph</text><text font-size=\"10\" x=\"26\" y=\"60\">Program dependence graph</text><text font-size=\"10\" x=\"571\" y=\"480\">Contact graph</text><text font-size=\"10\" x=\"283\" y=\"169\">Directed graph</text><text font-size=\"10\" x=\"658\" y=\"475\">Penny graph</text><text font-size=\"10\" x=\"349\" y=\"170\">Rooted graph</text><text font-size=\"10\" x=\"408\" y=\"43\">Flow graph (mathematics)</text><text font-size=\"10\" x=\"273\" y=\"215\">Tree (graph theory)</text><text font-size=\"10\" x=\"331\" y=\"220\">Arborescence (graph theory)</text><text font-size=\"10\" x=\"567\" y=\"23\">Noncommutative signal-flow graph</text><text font-size=\"10\" x=\"202\" y=\"219\">Orientation (graph theory)</text><text font-size=\"10\" x=\"268\" y=\"106\">Call graph</text><text font-size=\"10\" x=\"131\" y=\"77\">Dependency graph</text><text font-size=\"10\" x=\"675\" y=\"523\">Hanoi graph</text><text font-size=\"10\" x=\"400\" y=\"116\">Control-flow graph</text><text font-size=\"10\" x=\"472\" y=\"124\">Dominator (graph theory)</text><text font-size=\"10\" x=\"468\" y=\"64\">Signal-flow graph</text><text font-size=\"10\" x=\"368\" y=\"107\">Flow graph</text></svg>"
      ],
      "text/plain": [
       "<IPython.core.display.SVG object>"
      ]
     },
     "execution_count": 40,
     "metadata": {},
     "output_type": "execute_result"
    }
   ],
   "source": [
    "nodes = community_df[community_df['community']==comm_idx[8]]['node'].values\n",
    "\n",
    "G_comm = G.subgraph(nodes)\n",
    "\n",
    "draw_graph(nx.k_core(G_comm, 1), show_names=True, node_size=3)"
   ]
  },
  {
   "cell_type": "code",
   "execution_count": 41,
   "id": "925ecc42",
   "metadata": {},
   "outputs": [
    {
     "name": "stdout",
     "output_type": "stream",
     "text": [
      "Arborescence (graph theory)\n",
      "Call graph\n",
      "Contact graph\n",
      "Control-flow graph\n",
      "Dependency graph\n",
      "Directed graph\n",
      "Dominator (graph theory)\n",
      "Engelbert Humperdinck discography\n",
      "Flow graph\n",
      "Flow graph (mathematics)\n",
      "Hanoi graph\n",
      "Magic graph\n",
      "Matchstick graph\n",
      "Noncommutative signal-flow graph\n",
      "Orientation (graph theory)\n",
      "Penny graph\n",
      "Photographs & Memories\n",
      "Prince singles discography\n",
      "Program dependence graph\n",
      "Rooted graph\n",
      "Signal-flow graph\n",
      "Tree (graph theory)\n",
      "Typography (cartography)\n"
     ]
    },
    {
     "data": {
      "text/plain": [
       "[None,\n",
       " None,\n",
       " None,\n",
       " None,\n",
       " None,\n",
       " None,\n",
       " None,\n",
       " None,\n",
       " None,\n",
       " None,\n",
       " None,\n",
       " None,\n",
       " None,\n",
       " None,\n",
       " None,\n",
       " None,\n",
       " None,\n",
       " None,\n",
       " None,\n",
       " None,\n",
       " None,\n",
       " None,\n",
       " None]"
      ]
     },
     "execution_count": 41,
     "metadata": {},
     "output_type": "execute_result"
    }
   ],
   "source": [
    "[print(n) for n in sorted(G_comm.nodes)]"
   ]
  },
  {
   "cell_type": "code",
   "execution_count": 42,
   "id": "8cda3bdd",
   "metadata": {},
   "outputs": [
    {
     "data": {
      "image/svg+xml": [
       "<svg height=\"540\" width=\"970.0\" xmlns=\"http://www.w3.org/2000/svg\"><path d=\"M 242 237 20 213\" stroke=\"gray\" stroke-width=\"0.5\"/><path d=\"M 242 237 48 290\" stroke=\"gray\" stroke-width=\"0.5\"/><path d=\"M 242 237 356 196\" stroke=\"gray\" stroke-width=\"0.5\"/><path d=\"M 242 237 394 268\" stroke=\"gray\" stroke-width=\"0.5\"/><path d=\"M 242 237 373 315\" stroke=\"gray\" stroke-width=\"0.5\"/><path d=\"M 242 237 463 142\" stroke=\"gray\" stroke-width=\"0.5\"/><path d=\"M 249 186 356 196\" stroke=\"gray\" stroke-width=\"0.5\"/><path d=\"M 249 186 394 268\" stroke=\"gray\" stroke-width=\"0.5\"/><path d=\"M 344 389 518 411\" stroke=\"gray\" stroke-width=\"0.5\"/><path d=\"M 344 389 394 268\" stroke=\"gray\" stroke-width=\"0.5\"/><path d=\"M 344 389 206 478\" stroke=\"gray\" stroke-width=\"0.5\"/><path d=\"M 344 389 373 315\" stroke=\"gray\" stroke-width=\"0.5\"/><path d=\"M 20 213 242 237\" stroke=\"gray\" stroke-width=\"0.5\"/><path d=\"M 412 20 463 142\" stroke=\"gray\" stroke-width=\"0.5\"/><path d=\"M 682 124 463 142\" stroke=\"gray\" stroke-width=\"0.5\"/><path d=\"M 518 411 344 389\" stroke=\"gray\" stroke-width=\"0.5\"/><path d=\"M 518 411 394 268\" stroke=\"gray\" stroke-width=\"0.5\"/><path d=\"M 518 411 471 520\" stroke=\"gray\" stroke-width=\"0.5\"/><path d=\"M 518 411 373 315\" stroke=\"gray\" stroke-width=\"0.5\"/><path d=\"M 518 411 600 517\" stroke=\"gray\" stroke-width=\"0.5\"/><path d=\"M 518 411 697 475\" stroke=\"gray\" stroke-width=\"0.5\"/><path d=\"M 518 411 720 409\" stroke=\"gray\" stroke-width=\"0.5\"/><path d=\"M 48 290 242 237\" stroke=\"gray\" stroke-width=\"0.5\"/><path d=\"M 356 196 242 237\" stroke=\"gray\" stroke-width=\"0.5\"/><path d=\"M 356 196 249 186\" stroke=\"gray\" stroke-width=\"0.5\"/><path d=\"M 356 196 394 268\" stroke=\"gray\" stroke-width=\"0.5\"/><path d=\"M 356 196 365 83\" stroke=\"gray\" stroke-width=\"0.5\"/><path d=\"M 356 196 453 191\" stroke=\"gray\" stroke-width=\"0.5\"/><path d=\"M 356 196 373 315\" stroke=\"gray\" stroke-width=\"0.5\"/><path d=\"M 356 196 463 142\" stroke=\"gray\" stroke-width=\"0.5\"/><path d=\"M 394 268 242 237\" stroke=\"gray\" stroke-width=\"0.5\"/><path d=\"M 394 268 249 186\" stroke=\"gray\" stroke-width=\"0.5\"/><path d=\"M 394 268 344 389\" stroke=\"gray\" stroke-width=\"0.5\"/><path d=\"M 394 268 518 411\" stroke=\"gray\" stroke-width=\"0.5\"/><path d=\"M 394 268 356 196\" stroke=\"gray\" stroke-width=\"0.5\"/><path d=\"M 394 268 453 191\" stroke=\"gray\" stroke-width=\"0.5\"/><path d=\"M 394 268 373 315\" stroke=\"gray\" stroke-width=\"0.5\"/><path d=\"M 394 268 463 142\" stroke=\"gray\" stroke-width=\"0.5\"/><path d=\"M 365 83 356 196\" stroke=\"gray\" stroke-width=\"0.5\"/><path d=\"M 471 520 518 411\" stroke=\"gray\" stroke-width=\"0.5\"/><path d=\"M 206 478 344 389\" stroke=\"gray\" stroke-width=\"0.5\"/><path d=\"M 453 191 356 196\" stroke=\"gray\" stroke-width=\"0.5\"/><path d=\"M 453 191 394 268\" stroke=\"gray\" stroke-width=\"0.5\"/><path d=\"M 453 191 463 142\" stroke=\"gray\" stroke-width=\"0.5\"/><path d=\"M 620 55 463 142\" stroke=\"gray\" stroke-width=\"0.5\"/><path d=\"M 373 315 242 237\" stroke=\"gray\" stroke-width=\"0.5\"/><path d=\"M 373 315 344 389\" stroke=\"gray\" stroke-width=\"0.5\"/><path d=\"M 373 315 518 411\" stroke=\"gray\" stroke-width=\"0.5\"/><path d=\"M 373 315 356 196\" stroke=\"gray\" stroke-width=\"0.5\"/><path d=\"M 373 315 394 268\" stroke=\"gray\" stroke-width=\"0.5\"/><path d=\"M 463 142 242 237\" stroke=\"gray\" stroke-width=\"0.5\"/><path d=\"M 463 142 412 20\" stroke=\"gray\" stroke-width=\"0.5\"/><path d=\"M 463 142 682 124\" stroke=\"gray\" stroke-width=\"0.5\"/><path d=\"M 463 142 356 196\" stroke=\"gray\" stroke-width=\"0.5\"/><path d=\"M 463 142 394 268\" stroke=\"gray\" stroke-width=\"0.5\"/><path d=\"M 463 142 453 191\" stroke=\"gray\" stroke-width=\"0.5\"/><path d=\"M 463 142 620 55\" stroke=\"gray\" stroke-width=\"0.5\"/><path d=\"M 600 517 518 411\" stroke=\"gray\" stroke-width=\"0.5\"/><path d=\"M 697 475 518 411\" stroke=\"gray\" stroke-width=\"0.5\"/><path d=\"M 720 409 518 411\" stroke=\"gray\" stroke-width=\"0.5\"/><circle cx=\"242\" cy=\"237\" r=\"3.0\" style=\"fill:rgb(245, 161, 130);stroke:black;stroke-width:1.0\"/><circle cx=\"249\" cy=\"186\" r=\"3.0\" style=\"fill:rgb(92, 123, 229);stroke:black;stroke-width:1.0\"/><circle cx=\"344\" cy=\"389\" r=\"3.0\" style=\"fill:rgb(208, 218, 233);stroke:black;stroke-width:1.0\"/><circle cx=\"20\" cy=\"213\" r=\"3.0\" style=\"fill:rgb(58, 76, 192);stroke:black;stroke-width:1.0\"/><circle cx=\"412\" cy=\"20\" r=\"3.0\" style=\"fill:rgb(60, 79, 195);stroke:black;stroke-width:1.0\"/><circle cx=\"682\" cy=\"124\" r=\"3.0\" style=\"fill:rgb(60, 79, 195);stroke:black;stroke-width:1.0\"/><circle cx=\"518\" cy=\"411\" r=\"3.0\" style=\"fill:rgb(179, 3, 38);stroke:black;stroke-width:1.0\"/><circle cx=\"48\" cy=\"290\" r=\"3.0\" style=\"fill:rgb(58, 76, 192);stroke:black;stroke-width:1.0\"/><circle cx=\"356\" cy=\"196\" r=\"3.0\" style=\"fill:rgb(234, 123, 96);stroke:black;stroke-width:1.0\"/><circle cx=\"394\" cy=\"268\" r=\"3.0\" style=\"fill:rgb(201, 59, 55);stroke:black;stroke-width:1.0\"/><circle cx=\"365\" cy=\"83\" r=\"3.0\" style=\"fill:rgb(58, 76, 192);stroke:black;stroke-width:1.0\"/><circle cx=\"471\" cy=\"520\" r=\"3.0\" style=\"fill:rgb(64, 84, 199);stroke:black;stroke-width:1.0\"/><circle cx=\"206\" cy=\"478\" r=\"3.0\" style=\"fill:rgb(60, 79, 195);stroke:black;stroke-width:1.0\"/><circle cx=\"453\" cy=\"191\" r=\"3.0\" style=\"fill:rgb(141, 175, 253);stroke:black;stroke-width:1.0\"/><circle cx=\"620\" cy=\"55\" r=\"3.0\" style=\"fill:rgb(60, 79, 195);stroke:black;stroke-width:1.0\"/><circle cx=\"373\" cy=\"315\" r=\"3.0\" style=\"fill:rgb(230, 215, 207);stroke:black;stroke-width:1.0\"/><circle cx=\"463\" cy=\"142\" r=\"3.0\" style=\"fill:rgb(211, 77, 64);stroke:black;stroke-width:1.0\"/><circle cx=\"600\" cy=\"517\" r=\"3.0\" style=\"fill:rgb(64, 84, 199);stroke:black;stroke-width:1.0\"/><circle cx=\"697\" cy=\"475\" r=\"3.0\" style=\"fill:rgb(64, 84, 199);stroke:black;stroke-width:1.0\"/><circle cx=\"720\" cy=\"409\" r=\"3.0\" style=\"fill:rgb(64, 84, 199);stroke:black;stroke-width:1.0\"/><text font-size=\"10\" x=\"248\" y=\"240\">Elliptic-curve cryptography</text><text font-size=\"10\" x=\"255\" y=\"189\">Public-key cryptography</text><text font-size=\"10\" x=\"350\" y=\"392\">Cryptographic hash function</text><text font-size=\"10\" x=\"26\" y=\"216\">Pairing-based cryptography</text><text font-size=\"10\" x=\"418\" y=\"23\">NIST Post-Quantum Cryptography Standardization</text><text font-size=\"10\" x=\"688\" y=\"127\">Hash-based cryptography</text><text font-size=\"10\" x=\"524\" y=\"414\">Salt (cryptography)</text><text font-size=\"10\" x=\"54\" y=\"293\">Hyperelliptic curve cryptography</text><text font-size=\"10\" x=\"362\" y=\"199\">Key (cryptography)</text><text font-size=\"10\" x=\"400\" y=\"271\">Cryptography</text><text font-size=\"10\" x=\"371\" y=\"86\">Key server (cryptographic)</text><text font-size=\"10\" x=\"477\" y=\"523\">Cryptographic nonce</text><text font-size=\"10\" x=\"212\" y=\"481\">Comparison of cryptographic hash functions</text><text font-size=\"10\" x=\"459\" y=\"194\">Quantum cryptography</text><text font-size=\"10\" x=\"626\" y=\"58\">Lattice-based cryptography</text><text font-size=\"10\" x=\"379\" y=\"318\">Outline of cryptography</text><text font-size=\"10\" x=\"469\" y=\"145\">Post-quantum cryptography</text><text font-size=\"10\" x=\"606\" y=\"520\">Pepper (cryptography)</text><text font-size=\"10\" x=\"703\" y=\"478\">Index of cryptography articles</text><text font-size=\"10\" x=\"726\" y=\"412\">Padding (cryptography)</text></svg>"
      ],
      "text/plain": [
       "<IPython.core.display.SVG object>"
      ]
     },
     "execution_count": 42,
     "metadata": {},
     "output_type": "execute_result"
    }
   ],
   "source": [
    "nodes = community_df[community_df['community']==comm_idx[9]]['node'].values\n",
    "\n",
    "G_comm = G.subgraph(nodes)\n",
    "\n",
    "draw_graph(nx.k_core(G_comm, 1), show_names=True, node_size=3)"
   ]
  },
  {
   "cell_type": "code",
   "execution_count": 43,
   "id": "f3855533",
   "metadata": {},
   "outputs": [
    {
     "name": "stdout",
     "output_type": "stream",
     "text": [
      "Comparison of cryptographic hash functions\n",
      "Cryptographic hash function\n",
      "Cryptographic key types\n",
      "Cryptographic nonce\n",
      "Cryptography\n",
      "Elliptic-curve cryptography\n",
      "Hash-based cryptography\n",
      "Hyperelliptic curve cryptography\n",
      "Index of cryptography articles\n",
      "Key (cryptography)\n",
      "Key server (cryptographic)\n",
      "Lattice-based cryptography\n",
      "List of cryptographers\n",
      "NIST Post-Quantum Cryptography Standardization\n",
      "Outline of cryptography\n",
      "Padding (cryptography)\n",
      "Pairing-based cryptography\n",
      "Pepper (cryptography)\n",
      "Post-quantum cryptography\n",
      "Public-key cryptography\n",
      "Quantum cryptography\n",
      "Salt (cryptography)\n"
     ]
    },
    {
     "data": {
      "text/plain": [
       "[None,\n",
       " None,\n",
       " None,\n",
       " None,\n",
       " None,\n",
       " None,\n",
       " None,\n",
       " None,\n",
       " None,\n",
       " None,\n",
       " None,\n",
       " None,\n",
       " None,\n",
       " None,\n",
       " None,\n",
       " None,\n",
       " None,\n",
       " None,\n",
       " None,\n",
       " None,\n",
       " None,\n",
       " None]"
      ]
     },
     "execution_count": 43,
     "metadata": {},
     "output_type": "execute_result"
    }
   ],
   "source": [
    "[print(n) for n in sorted(G_comm.nodes)]"
   ]
  },
  {
   "cell_type": "markdown",
   "id": "70015479",
   "metadata": {},
   "source": [
    "## One More Time, on the Main Community\n",
    "\n",
    "You can even zoom in on an individual community, if the previous community detection work wasn't quite satisfactory. Essentially, these are subcommunities in the largest network-related community."
   ]
  },
  {
   "cell_type": "code",
   "execution_count": 44,
   "id": "ee297a62",
   "metadata": {},
   "outputs": [],
   "source": [
    "partition = community_louvain.best_partition(G_net_main, resolution=1, random_state=1337) "
   ]
  },
  {
   "cell_type": "code",
   "execution_count": 45,
   "id": "a4848b8a",
   "metadata": {},
   "outputs": [
    {
     "data": {
      "text/plain": [
       "2     29\n",
       "0     27\n",
       "4     21\n",
       "3     17\n",
       "7     15\n",
       "8     13\n",
       "6      9\n",
       "5      7\n",
       "9      1\n",
       "10     1\n",
       "11     1\n",
       "12     1\n",
       "13     1\n",
       "14     1\n",
       "15     1\n",
       "1      1\n",
       "Name: community, dtype: int64"
      ]
     },
     "execution_count": 45,
     "metadata": {},
     "output_type": "execute_result"
    }
   ],
   "source": [
    "net_community_df = pd.DataFrame().from_dict(partition, orient='index')\n",
    "net_community_df.reset_index(inplace=True)\n",
    "net_community_df.columns = ['node', 'community']\n",
    "\n",
    "net_community_df['community'].value_counts()[0:20]"
   ]
  },
  {
   "cell_type": "code",
   "execution_count": 46,
   "id": "3abd2407",
   "metadata": {},
   "outputs": [],
   "source": [
    "comm_idx = net_community_df['community'].value_counts()[0:20].index.values"
   ]
  },
  {
   "cell_type": "code",
   "execution_count": 47,
   "id": "a6b1f01d",
   "metadata": {},
   "outputs": [
    {
     "data": {
      "image/png": "[encoded data removed]",
      "text/plain": [
       "<Figure size 864x864 with 1 Axes>"
      ]
     },
     "metadata": {},
     "output_type": "display_data"
    }
   ],
   "source": [
    "draw_partition(G_net_main, partition)"
   ]
  },
  {
   "cell_type": "code",
   "execution_count": 48,
   "id": "59ce2c6f",
   "metadata": {},
   "outputs": [
    {
     "data": {
      "image/svg+xml": [
       "<svg height=\"540\" width=\"905.0\" xmlns=\"http://www.w3.org/2000/svg\"><path d=\"M 255 500 356 418\" stroke=\"gray\" stroke-width=\"0.5\"/><path d=\"M 386 314 258 263\" stroke=\"gray\" stroke-width=\"0.5\"/><path d=\"M 386 314 277 378\" stroke=\"gray\" stroke-width=\"0.5\"/><path d=\"M 386 314 369 220\" stroke=\"gray\" stroke-width=\"0.5\"/><path d=\"M 386 314 555 361\" stroke=\"gray\" stroke-width=\"0.5\"/><path d=\"M 329 520 356 418\" stroke=\"gray\" stroke-width=\"0.5\"/><path d=\"M 258 263 386 314\" stroke=\"gray\" stroke-width=\"0.5\"/><path d=\"M 258 263 308 329\" stroke=\"gray\" stroke-width=\"0.5\"/><path d=\"M 258 263 357 290\" stroke=\"gray\" stroke-width=\"0.5\"/><path d=\"M 258 263 369 220\" stroke=\"gray\" stroke-width=\"0.5\"/><path d=\"M 258 263 220 225\" stroke=\"gray\" stroke-width=\"0.5\"/><path d=\"M 258 263 86 243\" stroke=\"gray\" stroke-width=\"0.5\"/><path d=\"M 308 329 258 263\" stroke=\"gray\" stroke-width=\"0.5\"/><path d=\"M 308 329 357 290\" stroke=\"gray\" stroke-width=\"0.5\"/><path d=\"M 308 329 277 378\" stroke=\"gray\" stroke-width=\"0.5\"/><path d=\"M 308 329 443 350\" stroke=\"gray\" stroke-width=\"0.5\"/><path d=\"M 357 290 258 263\" stroke=\"gray\" stroke-width=\"0.5\"/><path d=\"M 357 290 308 329\" stroke=\"gray\" stroke-width=\"0.5\"/><path d=\"M 357 290 416 282\" stroke=\"gray\" stroke-width=\"0.5\"/><path d=\"M 357 290 335 192\" stroke=\"gray\" stroke-width=\"0.5\"/><path d=\"M 357 290 478 194\" stroke=\"gray\" stroke-width=\"0.5\"/><path d=\"M 357 290 369 220\" stroke=\"gray\" stroke-width=\"0.5\"/><path d=\"M 357 290 356 418\" stroke=\"gray\" stroke-width=\"0.5\"/><path d=\"M 357 290 480 313\" stroke=\"gray\" stroke-width=\"0.5\"/><path d=\"M 357 290 443 350\" stroke=\"gray\" stroke-width=\"0.5\"/><path d=\"M 357 290 188 352\" stroke=\"gray\" stroke-width=\"0.5\"/><path d=\"M 720 381 555 361\" stroke=\"gray\" stroke-width=\"0.5\"/><path d=\"M 416 282 357 290\" stroke=\"gray\" stroke-width=\"0.5\"/><path d=\"M 416 282 534 247\" stroke=\"gray\" stroke-width=\"0.5\"/><path d=\"M 416 282 335 192\" stroke=\"gray\" stroke-width=\"0.5\"/><path d=\"M 416 282 369 220\" stroke=\"gray\" stroke-width=\"0.5\"/><path d=\"M 416 282 356 418\" stroke=\"gray\" stroke-width=\"0.5\"/><path d=\"M 416 282 480 313\" stroke=\"gray\" stroke-width=\"0.5\"/><path d=\"M 277 378 386 314\" stroke=\"gray\" stroke-width=\"0.5\"/><path d=\"M 277 378 308 329\" stroke=\"gray\" stroke-width=\"0.5\"/><path d=\"M 534 247 416 282\" stroke=\"gray\" stroke-width=\"0.5\"/><path d=\"M 534 247 478 194\" stroke=\"gray\" stroke-width=\"0.5\"/><path d=\"M 534 247 480 313\" stroke=\"gray\" stroke-width=\"0.5\"/><path d=\"M 335 192 357 290\" stroke=\"gray\" stroke-width=\"0.5\"/><path d=\"M 335 192 416 282\" stroke=\"gray\" stroke-width=\"0.5\"/><path d=\"M 335 192 269 101\" stroke=\"gray\" stroke-width=\"0.5\"/><path d=\"M 335 192 369 220\" stroke=\"gray\" stroke-width=\"0.5\"/><path d=\"M 269 101 335 192\" stroke=\"gray\" stroke-width=\"0.5\"/><path d=\"M 411 514 356 418\" stroke=\"gray\" stroke-width=\"0.5\"/><path d=\"M 478 194 357 290\" stroke=\"gray\" stroke-width=\"0.5\"/><path d=\"M 478 194 534 247\" stroke=\"gray\" stroke-width=\"0.5\"/><path d=\"M 478 194 497 111\" stroke=\"gray\" stroke-width=\"0.5\"/><path d=\"M 526 20 497 111\" stroke=\"gray\" stroke-width=\"0.5\"/><path d=\"M 20 365 188 352\" stroke=\"gray\" stroke-width=\"0.5\"/><path d=\"M 204 305 346 370\" stroke=\"gray\" stroke-width=\"0.5\"/><path d=\"M 204 305 220 225\" stroke=\"gray\" stroke-width=\"0.5\"/><path d=\"M 346 370 204 305\" stroke=\"gray\" stroke-width=\"0.5\"/><path d=\"M 346 370 356 418\" stroke=\"gray\" stroke-width=\"0.5\"/><path d=\"M 346 370 480 313\" stroke=\"gray\" stroke-width=\"0.5\"/><path d=\"M 346 370 500 416\" stroke=\"gray\" stroke-width=\"0.5\"/><path d=\"M 346 370 188 352\" stroke=\"gray\" stroke-width=\"0.5\"/><path d=\"M 609 46 497 111\" stroke=\"gray\" stroke-width=\"0.5\"/><path d=\"M 369 220 386 314\" stroke=\"gray\" stroke-width=\"0.5\"/><path d=\"M 369 220 258 263\" stroke=\"gray\" stroke-width=\"0.5\"/><path d=\"M 369 220 357 290\" stroke=\"gray\" stroke-width=\"0.5\"/><path d=\"M 369 220 416 282\" stroke=\"gray\" stroke-width=\"0.5\"/><path d=\"M 369 220 335 192\" stroke=\"gray\" stroke-width=\"0.5\"/><path d=\"M 369 220 497 111\" stroke=\"gray\" stroke-width=\"0.5\"/><path d=\"M 369 220 220 225\" stroke=\"gray\" stroke-width=\"0.5\"/><path d=\"M 356 418 255 500\" stroke=\"gray\" stroke-width=\"0.5\"/><path d=\"M 356 418 329 520\" stroke=\"gray\" stroke-width=\"0.5\"/><path d=\"M 356 418 357 290\" stroke=\"gray\" stroke-width=\"0.5\"/><path d=\"M 356 418 416 282\" stroke=\"gray\" stroke-width=\"0.5\"/><path d=\"M 356 418 411 514\" stroke=\"gray\" stroke-width=\"0.5\"/><path d=\"M 356 418 346 370\" stroke=\"gray\" stroke-width=\"0.5\"/><path d=\"M 497 111 478 194\" stroke=\"gray\" stroke-width=\"0.5\"/><path d=\"M 497 111 526 20\" stroke=\"gray\" stroke-width=\"0.5\"/><path d=\"M 497 111 609 46\" stroke=\"gray\" stroke-width=\"0.5\"/><path d=\"M 497 111 369 220\" stroke=\"gray\" stroke-width=\"0.5\"/><path d=\"M 555 361 386 314\" stroke=\"gray\" stroke-width=\"0.5\"/><path d=\"M 555 361 720 381\" stroke=\"gray\" stroke-width=\"0.5\"/><path d=\"M 555 361 480 313\" stroke=\"gray\" stroke-width=\"0.5\"/><path d=\"M 555 361 500 416\" stroke=\"gray\" stroke-width=\"0.5\"/><path d=\"M 555 361 443 350\" stroke=\"gray\" stroke-width=\"0.5\"/><path d=\"M 480 313 357 290\" stroke=\"gray\" stroke-width=\"0.5\"/><path d=\"M 480 313 416 282\" stroke=\"gray\" stroke-width=\"0.5\"/><path d=\"M 480 313 534 247\" stroke=\"gray\" stroke-width=\"0.5\"/><path d=\"M 480 313 346 370\" stroke=\"gray\" stroke-width=\"0.5\"/><path d=\"M 480 313 555 361\" stroke=\"gray\" stroke-width=\"0.5\"/><path d=\"M 220 225 258 263\" stroke=\"gray\" stroke-width=\"0.5\"/><path d=\"M 220 225 204 305\" stroke=\"gray\" stroke-width=\"0.5\"/><path d=\"M 220 225 369 220\" stroke=\"gray\" stroke-width=\"0.5\"/><path d=\"M 500 416 346 370\" stroke=\"gray\" stroke-width=\"0.5\"/><path d=\"M 500 416 555 361\" stroke=\"gray\" stroke-width=\"0.5\"/><path d=\"M 443 350 308 329\" stroke=\"gray\" stroke-width=\"0.5\"/><path d=\"M 443 350 357 290\" stroke=\"gray\" stroke-width=\"0.5\"/><path d=\"M 443 350 555 361\" stroke=\"gray\" stroke-width=\"0.5\"/><path d=\"M 86 243 258 263\" stroke=\"gray\" stroke-width=\"0.5\"/><path d=\"M 188 352 357 290\" stroke=\"gray\" stroke-width=\"0.5\"/><path d=\"M 188 352 20 365\" stroke=\"gray\" stroke-width=\"0.5\"/><path d=\"M 188 352 346 370\" stroke=\"gray\" stroke-width=\"0.5\"/><circle cx=\"255\" cy=\"500\" r=\"3.0\" style=\"fill:rgb(60, 79, 195);stroke:black;stroke-width:1.0\"/><circle cx=\"386\" cy=\"314\" r=\"3.0\" style=\"fill:rgb(170, 198, 253);stroke:black;stroke-width:1.0\"/><circle cx=\"329\" cy=\"520\" r=\"3.0\" style=\"fill:rgb(60, 79, 195);stroke:black;stroke-width:1.0\"/><circle cx=\"258\" cy=\"263\" r=\"3.0\" style=\"fill:rgb(236, 210, 196);stroke:black;stroke-width:1.0\"/><circle cx=\"308\" cy=\"329\" r=\"3.0\" style=\"fill:rgb(166, 195, 253);stroke:black;stroke-width:1.0\"/><circle cx=\"357\" cy=\"290\" r=\"3.0\" style=\"fill:rgb(179, 3, 38);stroke:black;stroke-width:1.0\"/><circle cx=\"720\" cy=\"381\" r=\"3.0\" style=\"fill:rgb(58, 76, 192);stroke:black;stroke-width:1.0\"/><circle cx=\"416\" cy=\"282\" r=\"3.0\" style=\"fill:rgb(231, 214, 204);stroke:black;stroke-width:1.0\"/><circle cx=\"277\" cy=\"378\" r=\"3.0\" style=\"fill:rgb(88, 118, 226);stroke:black;stroke-width:1.0\"/><circle cx=\"534\" cy=\"247\" r=\"3.0\" style=\"fill:rgb(127, 162, 250);stroke:black;stroke-width:1.0\"/><circle cx=\"335\" cy=\"192\" r=\"3.0\" style=\"fill:rgb(172, 200, 252);stroke:black;stroke-width:1.0\"/><circle cx=\"269\" cy=\"101\" r=\"3.0\" style=\"fill:rgb(58, 76, 192);stroke:black;stroke-width:1.0\"/><circle cx=\"411\" cy=\"514\" r=\"3.0\" style=\"fill:rgb(60, 79, 195);stroke:black;stroke-width:1.0\"/><circle cx=\"478\" cy=\"194\" r=\"3.0\" style=\"fill:rgb(134, 169, 252);stroke:black;stroke-width:1.0\"/><circle cx=\"526\" cy=\"20\" r=\"3.0\" style=\"fill:rgb(66, 88, 202);stroke:black;stroke-width:1.0\"/><circle cx=\"20\" cy=\"365\" r=\"3.0\" style=\"fill:rgb(64, 84, 199);stroke:black;stroke-width:1.0\"/><circle cx=\"204\" cy=\"305\" r=\"3.0\" style=\"fill:rgb(92, 123, 229);stroke:black;stroke-width:1.0\"/><circle cx=\"346\" cy=\"370\" r=\"3.0\" style=\"fill:rgb(219, 220, 222);stroke:black;stroke-width:1.0\"/><circle cx=\"609\" cy=\"46\" r=\"3.0\" style=\"fill:rgb(66, 88, 202);stroke:black;stroke-width:1.0\"/><circle cx=\"369\" cy=\"220\" r=\"3.0\" style=\"fill:rgb(246, 183, 156);stroke:black;stroke-width:1.0\"/><circle cx=\"356\" cy=\"418\" r=\"3.0\" style=\"fill:rgb(247, 177, 148);stroke:black;stroke-width:1.0\"/><circle cx=\"497\" cy=\"111\" r=\"3.0\" style=\"fill:rgb(205, 217, 236);stroke:black;stroke-width:1.0\"/><circle cx=\"555\" cy=\"361\" r=\"3.0\" style=\"fill:rgb(217, 220, 224);stroke:black;stroke-width:1.0\"/><circle cx=\"480\" cy=\"313\" r=\"3.0\" style=\"fill:rgb(199, 214, 240);stroke:black;stroke-width:1.0\"/><circle cx=\"220\" cy=\"225\" r=\"3.0\" style=\"fill:rgb(130, 165, 251);stroke:black;stroke-width:1.0\"/><circle cx=\"500\" cy=\"416\" r=\"3.0\" style=\"fill:rgb(96, 128, 232);stroke:black;stroke-width:1.0\"/><circle cx=\"443\" cy=\"350\" r=\"3.0\" style=\"fill:rgb(127, 162, 250);stroke:black;stroke-width:1.0\"/><circle cx=\"86\" cy=\"243\" r=\"3.0\" style=\"fill:rgb(58, 76, 192);stroke:black;stroke-width:1.0\"/><circle cx=\"188\" cy=\"352\" r=\"3.0\" style=\"fill:rgb(145, 179, 254);stroke:black;stroke-width:1.0\"/><text font-size=\"10\" x=\"261\" y=\"503\">Halin graph</text><text font-size=\"10\" x=\"392\" y=\"317\">Wheel graph</text><text font-size=\"10\" x=\"335\" y=\"523\">Tournament (graph theory)</text><text font-size=\"10\" x=\"264\" y=\"266\">1-planar graph</text><text font-size=\"10\" x=\"314\" y=\"332\">Forbidden graph characterization</text><text font-size=\"10\" x=\"363\" y=\"293\">Outerplanar graph</text><text font-size=\"10\" x=\"726\" y=\"384\">Self-complementary graph</text><text font-size=\"10\" x=\"422\" y=\"285\">K-outerplanar graph</text><text font-size=\"10\" x=\"283\" y=\"381\">Homeomorphism (graph theory)</text><text font-size=\"10\" x=\"540\" y=\"250\">Dense graph</text><text font-size=\"10\" x=\"341\" y=\"195\">Colin de Verdière graph invariant</text><text font-size=\"10\" x=\"275\" y=\"104\">Minimum rank of a graph</text><text font-size=\"10\" x=\"417\" y=\"517\">Frucht graph</text><text font-size=\"10\" x=\"484\" y=\"197\">Degeneracy (graph theory)</text><text font-size=\"10\" x=\"532\" y=\"23\">Bramble (graph theory)</text><text font-size=\"10\" x=\"26\" y=\"368\">Rank (graph theory)</text><text font-size=\"10\" x=\"210\" y=\"308\">Cycle graph (algebra)</text><text font-size=\"10\" x=\"352\" y=\"373\">Cyclic graph</text><text font-size=\"10\" x=\"615\" y=\"49\">Sousselier graph</text><text font-size=\"10\" x=\"375\" y=\"223\">Planar graph</text><text font-size=\"10\" x=\"362\" y=\"421\">Pancyclic graph</text><text font-size=\"10\" x=\"503\" y=\"114\">Thickness (graph theory)</text><text font-size=\"10\" x=\"561\" y=\"364\">Paley graph</text><text font-size=\"10\" x=\"486\" y=\"316\">Neighbourhood (graph theory)</text><text font-size=\"10\" x=\"226\" y=\"228\">Dual graph</text><text font-size=\"10\" x=\"506\" y=\"419\">Circulant graph</text><text font-size=\"10\" x=\"449\" y=\"353\">Sachs subgraph</text><text font-size=\"10\" x=\"92\" y=\"246\">Planar straight-line graph</text><text font-size=\"10\" x=\"194\" y=\"355\">Biconnected graph</text></svg>"
      ],
      "text/plain": [
       "<IPython.core.display.SVG object>"
      ]
     },
     "execution_count": 48,
     "metadata": {},
     "output_type": "execute_result"
    }
   ],
   "source": [
    "nodes = net_community_df[net_community_df['community']==comm_idx[0]]['node'].values\n",
    "\n",
    "G_comm = G_net_main.subgraph(nodes)\n",
    "\n",
    "draw_graph(nx.k_core(G_comm, 1), show_names=True, node_size=3)"
   ]
  },
  {
   "cell_type": "code",
   "execution_count": 49,
   "id": "c28a3a63",
   "metadata": {},
   "outputs": [
    {
     "data": {
      "image/svg+xml": [
       "<svg height=\"540\" width=\"920.0\" xmlns=\"http://www.w3.org/2000/svg\"><path d=\"M 174 25 240 162\" stroke=\"gray\" stroke-width=\"0.5\"/><path d=\"M 285 426 359 311\" stroke=\"gray\" stroke-width=\"0.5\"/><path d=\"M 285 426 252 414\" stroke=\"gray\" stroke-width=\"0.5\"/><path d=\"M 285 426 171 339\" stroke=\"gray\" stroke-width=\"0.5\"/><path d=\"M 584 249 446 169\" stroke=\"gray\" stroke-width=\"0.5\"/><path d=\"M 584 249 680 152\" stroke=\"gray\" stroke-width=\"0.5\"/><path d=\"M 584 249 359 311\" stroke=\"gray\" stroke-width=\"0.5\"/><path d=\"M 584 249 720 281\" stroke=\"gray\" stroke-width=\"0.5\"/><path d=\"M 584 249 678 340\" stroke=\"gray\" stroke-width=\"0.5\"/><path d=\"M 584 249 719 212\" stroke=\"gray\" stroke-width=\"0.5\"/><path d=\"M 410 393 359 311\" stroke=\"gray\" stroke-width=\"0.5\"/><path d=\"M 410 393 486 520\" stroke=\"gray\" stroke-width=\"0.5\"/><path d=\"M 410 393 300 243\" stroke=\"gray\" stroke-width=\"0.5\"/><path d=\"M 236 223 359 311\" stroke=\"gray\" stroke-width=\"0.5\"/><path d=\"M 236 223 154 253\" stroke=\"gray\" stroke-width=\"0.5\"/><path d=\"M 236 223 182 154\" stroke=\"gray\" stroke-width=\"0.5\"/><path d=\"M 236 223 300 243\" stroke=\"gray\" stroke-width=\"0.5\"/><path d=\"M 446 169 584 249\" stroke=\"gray\" stroke-width=\"0.5\"/><path d=\"M 446 169 359 311\" stroke=\"gray\" stroke-width=\"0.5\"/><path d=\"M 446 169 521 46\" stroke=\"gray\" stroke-width=\"0.5\"/><path d=\"M 446 169 452 20\" stroke=\"gray\" stroke-width=\"0.5\"/><path d=\"M 446 169 300 243\" stroke=\"gray\" stroke-width=\"0.5\"/><path d=\"M 446 169 361 202\" stroke=\"gray\" stroke-width=\"0.5\"/><path d=\"M 680 152 584 249\" stroke=\"gray\" stroke-width=\"0.5\"/><path d=\"M 359 311 285 426\" stroke=\"gray\" stroke-width=\"0.5\"/><path d=\"M 359 311 584 249\" stroke=\"gray\" stroke-width=\"0.5\"/><path d=\"M 359 311 410 393\" stroke=\"gray\" stroke-width=\"0.5\"/><path d=\"M 359 311 236 223\" stroke=\"gray\" stroke-width=\"0.5\"/><path d=\"M 359 311 446 169\" stroke=\"gray\" stroke-width=\"0.5\"/><path d=\"M 359 311 252 414\" stroke=\"gray\" stroke-width=\"0.5\"/><path d=\"M 359 311 215 407\" stroke=\"gray\" stroke-width=\"0.5\"/><path d=\"M 359 311 262 324\" stroke=\"gray\" stroke-width=\"0.5\"/><path d=\"M 359 311 300 243\" stroke=\"gray\" stroke-width=\"0.5\"/><path d=\"M 359 311 315 285\" stroke=\"gray\" stroke-width=\"0.5\"/><path d=\"M 359 311 361 202\" stroke=\"gray\" stroke-width=\"0.5\"/><path d=\"M 293 36 240 162\" stroke=\"gray\" stroke-width=\"0.5\"/><path d=\"M 252 414 285 426\" stroke=\"gray\" stroke-width=\"0.5\"/><path d=\"M 252 414 359 311\" stroke=\"gray\" stroke-width=\"0.5\"/><path d=\"M 252 414 215 407\" stroke=\"gray\" stroke-width=\"0.5\"/><path d=\"M 252 414 171 339\" stroke=\"gray\" stroke-width=\"0.5\"/><path d=\"M 215 407 359 311\" stroke=\"gray\" stroke-width=\"0.5\"/><path d=\"M 215 407 252 414\" stroke=\"gray\" stroke-width=\"0.5\"/><path d=\"M 215 407 171 339\" stroke=\"gray\" stroke-width=\"0.5\"/><path d=\"M 262 324 359 311\" stroke=\"gray\" stroke-width=\"0.5\"/><path d=\"M 262 324 171 339\" stroke=\"gray\" stroke-width=\"0.5\"/><path d=\"M 262 324 217 266\" stroke=\"gray\" stroke-width=\"0.5\"/><path d=\"M 262 324 300 243\" stroke=\"gray\" stroke-width=\"0.5\"/><path d=\"M 262 324 315 285\" stroke=\"gray\" stroke-width=\"0.5\"/><path d=\"M 154 253 236 223\" stroke=\"gray\" stroke-width=\"0.5\"/><path d=\"M 154 253 171 339\" stroke=\"gray\" stroke-width=\"0.5\"/><path d=\"M 154 253 300 243\" stroke=\"gray\" stroke-width=\"0.5\"/><path d=\"M 521 46 446 169\" stroke=\"gray\" stroke-width=\"0.5\"/><path d=\"M 720 281 584 249\" stroke=\"gray\" stroke-width=\"0.5\"/><path d=\"M 486 520 410 393\" stroke=\"gray\" stroke-width=\"0.5\"/><path d=\"M 452 20 446 169\" stroke=\"gray\" stroke-width=\"0.5\"/><path d=\"M 182 154 236 223\" stroke=\"gray\" stroke-width=\"0.5\"/><path d=\"M 182 154 300 243\" stroke=\"gray\" stroke-width=\"0.5\"/><path d=\"M 171 339 285 426\" stroke=\"gray\" stroke-width=\"0.5\"/><path d=\"M 171 339 252 414\" stroke=\"gray\" stroke-width=\"0.5\"/><path d=\"M 171 339 215 407\" stroke=\"gray\" stroke-width=\"0.5\"/><path d=\"M 171 339 262 324\" stroke=\"gray\" stroke-width=\"0.5\"/><path d=\"M 171 339 154 253\" stroke=\"gray\" stroke-width=\"0.5\"/><path d=\"M 171 339 240 162\" stroke=\"gray\" stroke-width=\"0.5\"/><path d=\"M 171 339 20 361\" stroke=\"gray\" stroke-width=\"0.5\"/><path d=\"M 217 266 262 324\" stroke=\"gray\" stroke-width=\"0.5\"/><path d=\"M 217 266 240 162\" stroke=\"gray\" stroke-width=\"0.5\"/><path d=\"M 217 266 315 285\" stroke=\"gray\" stroke-width=\"0.5\"/><path d=\"M 240 162 174 25\" stroke=\"gray\" stroke-width=\"0.5\"/><path d=\"M 240 162 293 36\" stroke=\"gray\" stroke-width=\"0.5\"/><path d=\"M 240 162 171 339\" stroke=\"gray\" stroke-width=\"0.5\"/><path d=\"M 240 162 217 266\" stroke=\"gray\" stroke-width=\"0.5\"/><path d=\"M 240 162 300 243\" stroke=\"gray\" stroke-width=\"0.5\"/><path d=\"M 240 162 361 202\" stroke=\"gray\" stroke-width=\"0.5\"/><path d=\"M 300 243 410 393\" stroke=\"gray\" stroke-width=\"0.5\"/><path d=\"M 300 243 236 223\" stroke=\"gray\" stroke-width=\"0.5\"/><path d=\"M 300 243 446 169\" stroke=\"gray\" stroke-width=\"0.5\"/><path d=\"M 300 243 359 311\" stroke=\"gray\" stroke-width=\"0.5\"/><path d=\"M 300 243 262 324\" stroke=\"gray\" stroke-width=\"0.5\"/><path d=\"M 300 243 154 253\" stroke=\"gray\" stroke-width=\"0.5\"/><path d=\"M 300 243 182 154\" stroke=\"gray\" stroke-width=\"0.5\"/><path d=\"M 300 243 240 162\" stroke=\"gray\" stroke-width=\"0.5\"/><path d=\"M 300 243 315 285\" stroke=\"gray\" stroke-width=\"0.5\"/><path d=\"M 315 285 359 311\" stroke=\"gray\" stroke-width=\"0.5\"/><path d=\"M 315 285 262 324\" stroke=\"gray\" stroke-width=\"0.5\"/><path d=\"M 315 285 217 266\" stroke=\"gray\" stroke-width=\"0.5\"/><path d=\"M 315 285 300 243\" stroke=\"gray\" stroke-width=\"0.5\"/><path d=\"M 315 285 361 202\" stroke=\"gray\" stroke-width=\"0.5\"/><path d=\"M 678 340 584 249\" stroke=\"gray\" stroke-width=\"0.5\"/><path d=\"M 719 212 584 249\" stroke=\"gray\" stroke-width=\"0.5\"/><path d=\"M 361 202 446 169\" stroke=\"gray\" stroke-width=\"0.5\"/><path d=\"M 361 202 359 311\" stroke=\"gray\" stroke-width=\"0.5\"/><path d=\"M 361 202 240 162\" stroke=\"gray\" stroke-width=\"0.5\"/><path d=\"M 361 202 315 285\" stroke=\"gray\" stroke-width=\"0.5\"/><path d=\"M 20 361 171 339\" stroke=\"gray\" stroke-width=\"0.5\"/><circle cx=\"174\" cy=\"25\" r=\"3.0\" style=\"fill:rgb(58, 76, 192);stroke:black;stroke-width:1.0\"/><circle cx=\"285\" cy=\"426\" r=\"3.0\" style=\"fill:rgb(112, 147, 243);stroke:black;stroke-width:1.0\"/><circle cx=\"584\" cy=\"249\" r=\"3.0\" style=\"fill:rgb(245, 158, 127);stroke:black;stroke-width:1.0\"/><circle cx=\"410\" cy=\"393\" r=\"3.0\" style=\"fill:rgb(130, 165, 251);stroke:black;stroke-width:1.0\"/><circle cx=\"236\" cy=\"223\" r=\"3.0\" style=\"fill:rgb(152, 185, 254);stroke:black;stroke-width:1.0\"/><circle cx=\"446\" cy=\"169\" r=\"3.0\" style=\"fill:rgb(242, 200, 179);stroke:black;stroke-width:1.0\"/><circle cx=\"680\" cy=\"152\" r=\"3.0\" style=\"fill:rgb(70, 93, 207);stroke:black;stroke-width:1.0\"/><circle cx=\"359\" cy=\"311\" r=\"3.0\" style=\"fill:rgb(179, 3, 38);stroke:black;stroke-width:1.0\"/><circle cx=\"293\" cy=\"36\" r=\"3.0\" style=\"fill:rgb(58, 76, 192);stroke:black;stroke-width:1.0\"/><circle cx=\"252\" cy=\"414\" r=\"3.0\" style=\"fill:rgb(148, 181, 254);stroke:black;stroke-width:1.0\"/><circle cx=\"215\" cy=\"407\" r=\"3.0\" style=\"fill:rgb(112, 147, 243);stroke:black;stroke-width:1.0\"/><circle cx=\"262\" cy=\"324\" r=\"3.0\" style=\"fill:rgb(176, 203, 251);stroke:black;stroke-width:1.0\"/><circle cx=\"154\" cy=\"253\" r=\"3.0\" style=\"fill:rgb(116, 151, 245);stroke:black;stroke-width:1.0\"/><circle cx=\"521\" cy=\"46\" r=\"3.0\" style=\"fill:rgb(60, 79, 195);stroke:black;stroke-width:1.0\"/><circle cx=\"720\" cy=\"281\" r=\"3.0\" style=\"fill:rgb(70, 93, 207);stroke:black;stroke-width:1.0\"/><circle cx=\"486\" cy=\"520\" r=\"3.0\" style=\"fill:rgb(60, 79, 195);stroke:black;stroke-width:1.0\"/><circle cx=\"452\" cy=\"20\" r=\"3.0\" style=\"fill:rgb(60, 79, 195);stroke:black;stroke-width:1.0\"/><circle cx=\"182\" cy=\"154\" r=\"3.0\" style=\"fill:rgb(82, 110, 220);stroke:black;stroke-width:1.0\"/><circle cx=\"171\" cy=\"339\" r=\"3.0\" style=\"fill:rgb(242, 200, 179);stroke:black;stroke-width:1.0\"/><circle cx=\"217\" cy=\"266\" r=\"3.0\" style=\"fill:rgb(116, 151, 245);stroke:black;stroke-width:1.0\"/><circle cx=\"240\" cy=\"162\" r=\"3.0\" style=\"fill:rgb(234, 211, 199);stroke:black;stroke-width:1.0\"/><circle cx=\"300\" cy=\"243\" r=\"3.0\" style=\"fill:rgb(240, 141, 111);stroke:black;stroke-width:1.0\"/><circle cx=\"315\" cy=\"285\" r=\"3.0\" style=\"fill:rgb(180, 205, 250);stroke:black;stroke-width:1.0\"/><circle cx=\"678\" cy=\"340\" r=\"3.0\" style=\"fill:rgb(70, 93, 207);stroke:black;stroke-width:1.0\"/><circle cx=\"719\" cy=\"212\" r=\"3.0\" style=\"fill:rgb(70, 93, 207);stroke:black;stroke-width:1.0\"/><circle cx=\"361\" cy=\"202\" r=\"3.0\" style=\"fill:rgb(155, 187, 254);stroke:black;stroke-width:1.0\"/><circle cx=\"20\" cy=\"361\" r=\"3.0\" style=\"fill:rgb(58, 76, 192);stroke:black;stroke-width:1.0\"/><text font-size=\"10\" x=\"180\" y=\"28\">Hoffman–Singleton graph</text><text font-size=\"10\" x=\"291\" y=\"429\">Edge-transitive graph</text><text font-size=\"10\" x=\"590\" y=\"252\">Generalized Petersen graph</text><text font-size=\"10\" x=\"416\" y=\"396\">Strongly regular graph</text><text font-size=\"10\" x=\"242\" y=\"226\">List of graphs by edges and vertices</text><text font-size=\"10\" x=\"452\" y=\"172\">Desargues graph</text><text font-size=\"10\" x=\"686\" y=\"155\">Dürer graph</text><text font-size=\"10\" x=\"365\" y=\"314\">Petersen graph</text><text font-size=\"10\" x=\"299\" y=\"39\">Toroidal graph</text><text font-size=\"10\" x=\"258\" y=\"417\">Vertex-transitive graph</text><text font-size=\"10\" x=\"221\" y=\"410\">Cayley graph</text><text font-size=\"10\" x=\"268\" y=\"327\">Star (graph theory)</text><text font-size=\"10\" x=\"160\" y=\"256\">Bull graph</text><text font-size=\"10\" x=\"527\" y=\"49\">Kneser graph</text><text font-size=\"10\" x=\"726\" y=\"284\">Möbius–Kantor graph</text><text font-size=\"10\" x=\"492\" y=\"523\">Conway's 99-graph problem</text><text font-size=\"10\" x=\"458\" y=\"23\">Levi graph</text><text font-size=\"10\" x=\"188\" y=\"157\">Golomb graph</text><text font-size=\"10\" x=\"177\" y=\"342\">Symmetric graph</text><text font-size=\"10\" x=\"223\" y=\"269\">Girth (graph theory)</text><text font-size=\"10\" x=\"246\" y=\"165\">Heawood graph</text><text font-size=\"10\" x=\"306\" y=\"246\">List of graphs</text><text font-size=\"10\" x=\"321\" y=\"288\">Snark (graph theory)</text><text font-size=\"10\" x=\"684\" y=\"343\">Uniquely colorable graph</text><text font-size=\"10\" x=\"725\" y=\"215\">Nauru graph</text><text font-size=\"10\" x=\"367\" y=\"205\">Cubic graph</text><text font-size=\"10\" x=\"26\" y=\"364\">Semi-symmetric graph</text></svg>"
      ],
      "text/plain": [
       "<IPython.core.display.SVG object>"
      ]
     },
     "execution_count": 49,
     "metadata": {},
     "output_type": "execute_result"
    }
   ],
   "source": [
    "nodes = net_community_df[net_community_df['community']==comm_idx[1]]['node'].values\n",
    "\n",
    "G_comm = G_net_main.subgraph(nodes)\n",
    "\n",
    "draw_graph(nx.k_core(G_comm, 1), show_names=True, node_size=3)"
   ]
  },
  {
   "cell_type": "code",
   "execution_count": 50,
   "id": "37f8ec33",
   "metadata": {},
   "outputs": [
    {
     "data": {
      "image/svg+xml": [
       "<svg height=\"540\" width=\"910.0\" xmlns=\"http://www.w3.org/2000/svg\"><path d=\"M 277 219 211 326\" stroke=\"gray\" stroke-width=\"0.5\"/><path d=\"M 277 219 251 95\" stroke=\"gray\" stroke-width=\"0.5\"/><path d=\"M 277 219 306 247\" stroke=\"gray\" stroke-width=\"0.5\"/><path d=\"M 277 219 428 276\" stroke=\"gray\" stroke-width=\"0.5\"/><path d=\"M 277 219 394 309\" stroke=\"gray\" stroke-width=\"0.5\"/><path d=\"M 277 219 369 138\" stroke=\"gray\" stroke-width=\"0.5\"/><path d=\"M 580 272 596 161\" stroke=\"gray\" stroke-width=\"0.5\"/><path d=\"M 580 272 720 293\" stroke=\"gray\" stroke-width=\"0.5\"/><path d=\"M 580 272 631 220\" stroke=\"gray\" stroke-width=\"0.5\"/><path d=\"M 580 272 428 276\" stroke=\"gray\" stroke-width=\"0.5\"/><path d=\"M 580 272 394 309\" stroke=\"gray\" stroke-width=\"0.5\"/><path d=\"M 580 272 547 246\" stroke=\"gray\" stroke-width=\"0.5\"/><path d=\"M 580 272 520 325\" stroke=\"gray\" stroke-width=\"0.5\"/><path d=\"M 211 326 277 219\" stroke=\"gray\" stroke-width=\"0.5\"/><path d=\"M 211 326 428 276\" stroke=\"gray\" stroke-width=\"0.5\"/><path d=\"M 211 326 20 358\" stroke=\"gray\" stroke-width=\"0.5\"/><path d=\"M 211 326 261 416\" stroke=\"gray\" stroke-width=\"0.5\"/><path d=\"M 596 161 580 272\" stroke=\"gray\" stroke-width=\"0.5\"/><path d=\"M 596 161 631 220\" stroke=\"gray\" stroke-width=\"0.5\"/><path d=\"M 596 161 547 246\" stroke=\"gray\" stroke-width=\"0.5\"/><path d=\"M 596 161 459 69\" stroke=\"gray\" stroke-width=\"0.5\"/><path d=\"M 251 95 277 219\" stroke=\"gray\" stroke-width=\"0.5\"/><path d=\"M 251 95 369 138\" stroke=\"gray\" stroke-width=\"0.5\"/><path d=\"M 251 95 86 26\" stroke=\"gray\" stroke-width=\"0.5\"/><path d=\"M 251 95 459 69\" stroke=\"gray\" stroke-width=\"0.5\"/><path d=\"M 720 293 580 272\" stroke=\"gray\" stroke-width=\"0.5\"/><path d=\"M 720 293 705 342\" stroke=\"gray\" stroke-width=\"0.5\"/><path d=\"M 720 293 547 246\" stroke=\"gray\" stroke-width=\"0.5\"/><path d=\"M 306 247 277 219\" stroke=\"gray\" stroke-width=\"0.5\"/><path d=\"M 306 247 394 309\" stroke=\"gray\" stroke-width=\"0.5\"/><path d=\"M 328 20 369 138\" stroke=\"gray\" stroke-width=\"0.5\"/><path d=\"M 631 220 580 272\" stroke=\"gray\" stroke-width=\"0.5\"/><path d=\"M 631 220 596 161\" stroke=\"gray\" stroke-width=\"0.5\"/><path d=\"M 631 220 428 276\" stroke=\"gray\" stroke-width=\"0.5\"/><path d=\"M 428 276 277 219\" stroke=\"gray\" stroke-width=\"0.5\"/><path d=\"M 428 276 580 272\" stroke=\"gray\" stroke-width=\"0.5\"/><path d=\"M 428 276 211 326\" stroke=\"gray\" stroke-width=\"0.5\"/><path d=\"M 428 276 631 220\" stroke=\"gray\" stroke-width=\"0.5\"/><path d=\"M 428 276 394 309\" stroke=\"gray\" stroke-width=\"0.5\"/><path d=\"M 428 276 520 325\" stroke=\"gray\" stroke-width=\"0.5\"/><path d=\"M 20 358 211 326\" stroke=\"gray\" stroke-width=\"0.5\"/><path d=\"M 461 177 547 246\" stroke=\"gray\" stroke-width=\"0.5\"/><path d=\"M 461 177 369 138\" stroke=\"gray\" stroke-width=\"0.5\"/><path d=\"M 261 416 211 326\" stroke=\"gray\" stroke-width=\"0.5\"/><path d=\"M 261 416 394 309\" stroke=\"gray\" stroke-width=\"0.5\"/><path d=\"M 261 416 207 520\" stroke=\"gray\" stroke-width=\"0.5\"/><path d=\"M 394 309 277 219\" stroke=\"gray\" stroke-width=\"0.5\"/><path d=\"M 394 309 580 272\" stroke=\"gray\" stroke-width=\"0.5\"/><path d=\"M 394 309 306 247\" stroke=\"gray\" stroke-width=\"0.5\"/><path d=\"M 394 309 428 276\" stroke=\"gray\" stroke-width=\"0.5\"/><path d=\"M 394 309 261 416\" stroke=\"gray\" stroke-width=\"0.5\"/><path d=\"M 394 309 547 246\" stroke=\"gray\" stroke-width=\"0.5\"/><path d=\"M 394 309 520 325\" stroke=\"gray\" stroke-width=\"0.5\"/><path d=\"M 705 342 720 293\" stroke=\"gray\" stroke-width=\"0.5\"/><path d=\"M 705 342 547 246\" stroke=\"gray\" stroke-width=\"0.5\"/><path d=\"M 547 246 580 272\" stroke=\"gray\" stroke-width=\"0.5\"/><path d=\"M 547 246 596 161\" stroke=\"gray\" stroke-width=\"0.5\"/><path d=\"M 547 246 720 293\" stroke=\"gray\" stroke-width=\"0.5\"/><path d=\"M 547 246 461 177\" stroke=\"gray\" stroke-width=\"0.5\"/><path d=\"M 547 246 394 309\" stroke=\"gray\" stroke-width=\"0.5\"/><path d=\"M 547 246 705 342\" stroke=\"gray\" stroke-width=\"0.5\"/><path d=\"M 547 246 369 138\" stroke=\"gray\" stroke-width=\"0.5\"/><path d=\"M 547 246 520 325\" stroke=\"gray\" stroke-width=\"0.5\"/><path d=\"M 369 138 277 219\" stroke=\"gray\" stroke-width=\"0.5\"/><path d=\"M 369 138 251 95\" stroke=\"gray\" stroke-width=\"0.5\"/><path d=\"M 369 138 328 20\" stroke=\"gray\" stroke-width=\"0.5\"/><path d=\"M 369 138 461 177\" stroke=\"gray\" stroke-width=\"0.5\"/><path d=\"M 369 138 547 246\" stroke=\"gray\" stroke-width=\"0.5\"/><path d=\"M 207 520 261 416\" stroke=\"gray\" stroke-width=\"0.5\"/><path d=\"M 86 26 251 95\" stroke=\"gray\" stroke-width=\"0.5\"/><path d=\"M 520 325 580 272\" stroke=\"gray\" stroke-width=\"0.5\"/><path d=\"M 520 325 428 276\" stroke=\"gray\" stroke-width=\"0.5\"/><path d=\"M 520 325 394 309\" stroke=\"gray\" stroke-width=\"0.5\"/><path d=\"M 520 325 547 246\" stroke=\"gray\" stroke-width=\"0.5\"/><path d=\"M 459 69 596 161\" stroke=\"gray\" stroke-width=\"0.5\"/><path d=\"M 459 69 251 95\" stroke=\"gray\" stroke-width=\"0.5\"/><circle cx=\"277\" cy=\"219\" r=\"3.0\" style=\"fill:rgb(244, 154, 123);stroke:black;stroke-width:1.0\"/><circle cx=\"580\" cy=\"272\" r=\"3.0\" style=\"fill:rgb(237, 132, 103);stroke:black;stroke-width:1.0\"/><circle cx=\"211\" cy=\"326\" r=\"3.0\" style=\"fill:rgb(222, 219, 218);stroke:black;stroke-width:1.0\"/><circle cx=\"596\" cy=\"161\" r=\"3.0\" style=\"fill:rgb(197, 213, 242);stroke:black;stroke-width:1.0\"/><circle cx=\"251\" cy=\"95\" r=\"3.0\" style=\"fill:rgb(230, 215, 207);stroke:black;stroke-width:1.0\"/><circle cx=\"720\" cy=\"293\" r=\"3.0\" style=\"fill:rgb(145, 179, 254);stroke:black;stroke-width:1.0\"/><circle cx=\"306\" cy=\"247\" r=\"3.0\" style=\"fill:rgb(92, 123, 229);stroke:black;stroke-width:1.0\"/><circle cx=\"328\" cy=\"20\" r=\"3.0\" style=\"fill:rgb(58, 76, 192);stroke:black;stroke-width:1.0\"/><circle cx=\"631\" cy=\"220\" r=\"3.0\" style=\"fill:rgb(138, 173, 253);stroke:black;stroke-width:1.0\"/><circle cx=\"428\" cy=\"276\" r=\"3.0\" style=\"fill:rgb(247, 179, 151);stroke:black;stroke-width:1.0\"/><circle cx=\"20\" cy=\"358\" r=\"3.0\" style=\"fill:rgb(58, 76, 192);stroke:black;stroke-width:1.0\"/><circle cx=\"461\" cy=\"177\" r=\"3.0\" style=\"fill:rgb(99, 131, 234);stroke:black;stroke-width:1.0\"/><circle cx=\"261\" cy=\"416\" r=\"3.0\" style=\"fill:rgb(180, 205, 250);stroke:black;stroke-width:1.0\"/><circle cx=\"394\" cy=\"309\" r=\"3.0\" style=\"fill:rgb(230, 114, 89);stroke:black;stroke-width:1.0\"/><circle cx=\"705\" cy=\"342\" r=\"3.0\" style=\"fill:rgb(96, 128, 232);stroke:black;stroke-width:1.0\"/><circle cx=\"547\" cy=\"246\" r=\"3.0\" style=\"fill:rgb(179, 3, 38);stroke:black;stroke-width:1.0\"/><circle cx=\"369\" cy=\"138\" r=\"3.0\" style=\"fill:rgb(246, 186, 159);stroke:black;stroke-width:1.0\"/><circle cx=\"207\" cy=\"520\" r=\"3.0\" style=\"fill:rgb(64, 84, 199);stroke:black;stroke-width:1.0\"/><circle cx=\"86\" cy=\"26\" r=\"3.0\" style=\"fill:rgb(60, 79, 195);stroke:black;stroke-width:1.0\"/><circle cx=\"520\" cy=\"325\" r=\"3.0\" style=\"fill:rgb(180, 205, 250);stroke:black;stroke-width:1.0\"/><circle cx=\"459\" cy=\"69\" r=\"3.0\" style=\"fill:rgb(105, 139, 239);stroke:black;stroke-width:1.0\"/><text font-size=\"10\" x=\"283\" y=\"222\">Circle graph</text><text font-size=\"10\" x=\"586\" y=\"275\">Independent set (graph theory)</text><text font-size=\"10\" x=\"217\" y=\"329\">Indifference graph</text><text font-size=\"10\" x=\"602\" y=\"164\">Complement graph</text><text font-size=\"10\" x=\"257\" y=\"98\">Distance-hereditary graph</text><text font-size=\"10\" x=\"726\" y=\"296\">Clique graph</text><text font-size=\"10\" x=\"312\" y=\"250\">Polygon-circle graph</text><text font-size=\"10\" x=\"334\" y=\"23\">Metric dimension (graph theory)</text><text font-size=\"10\" x=\"637\" y=\"223\">Claw-free graph</text><text font-size=\"10\" x=\"434\" y=\"279\">Interval graph</text><text font-size=\"10\" x=\"26\" y=\"361\">Threshold graph</text><text font-size=\"10\" x=\"467\" y=\"180\">Split graph</text><text font-size=\"10\" x=\"267\" y=\"419\">Unit disk graph</text><text font-size=\"10\" x=\"400\" y=\"312\">Intersection graph</text><text font-size=\"10\" x=\"711\" y=\"345\">Clique graph (disambiguation)</text><text font-size=\"10\" x=\"553\" y=\"249\">Clique (graph theory)</text><text font-size=\"10\" x=\"375\" y=\"141\">Split (graph theory)</text><text font-size=\"10\" x=\"213\" y=\"523\">Sphericity (graph theory)</text><text font-size=\"10\" x=\"92\" y=\"29\">Ptolemaic graph</text><text font-size=\"10\" x=\"526\" y=\"328\">Intersection number (graph theory)</text><text font-size=\"10\" x=\"465\" y=\"72\">Cograph</text></svg>"
      ],
      "text/plain": [
       "<IPython.core.display.SVG object>"
      ]
     },
     "execution_count": 50,
     "metadata": {},
     "output_type": "execute_result"
    }
   ],
   "source": [
    "nodes = net_community_df[net_community_df['community']==comm_idx[2]]['node'].values\n",
    "\n",
    "G_comm = G_net_main.subgraph(nodes)\n",
    "\n",
    "draw_graph(nx.k_core(G_comm, 1), show_names=True, node_size=3)"
   ]
  },
  {
   "cell_type": "code",
   "execution_count": 51,
   "id": "528e1120",
   "metadata": {},
   "outputs": [
    {
     "data": {
      "image/svg+xml": [
       "<svg height=\"540\" width=\"880.0\" xmlns=\"http://www.w3.org/2000/svg\"><path d=\"M 20 140 154 222\" stroke=\"gray\" stroke-width=\"0.5\"/><path d=\"M 20 140 143 122\" stroke=\"gray\" stroke-width=\"0.5\"/><path d=\"M 20 140 107 156\" stroke=\"gray\" stroke-width=\"0.5\"/><path d=\"M 174 520 233 365\" stroke=\"gray\" stroke-width=\"0.5\"/><path d=\"M 395 221 359 120\" stroke=\"gray\" stroke-width=\"0.5\"/><path d=\"M 395 221 366 306\" stroke=\"gray\" stroke-width=\"0.5\"/><path d=\"M 395 221 450 249\" stroke=\"gray\" stroke-width=\"0.5\"/><path d=\"M 395 221 314 295\" stroke=\"gray\" stroke-width=\"0.5\"/><path d=\"M 395 221 282 230\" stroke=\"gray\" stroke-width=\"0.5\"/><path d=\"M 154 222 20 140\" stroke=\"gray\" stroke-width=\"0.5\"/><path d=\"M 154 222 143 122\" stroke=\"gray\" stroke-width=\"0.5\"/><path d=\"M 154 222 282 230\" stroke=\"gray\" stroke-width=\"0.5\"/><path d=\"M 154 222 300 188\" stroke=\"gray\" stroke-width=\"0.5\"/><path d=\"M 154 222 233 365\" stroke=\"gray\" stroke-width=\"0.5\"/><path d=\"M 154 222 194 286\" stroke=\"gray\" stroke-width=\"0.5\"/><path d=\"M 154 222 107 156\" stroke=\"gray\" stroke-width=\"0.5\"/><path d=\"M 359 120 395 221\" stroke=\"gray\" stroke-width=\"0.5\"/><path d=\"M 359 120 282 230\" stroke=\"gray\" stroke-width=\"0.5\"/><path d=\"M 359 120 300 188\" stroke=\"gray\" stroke-width=\"0.5\"/><path d=\"M 366 306 395 221\" stroke=\"gray\" stroke-width=\"0.5\"/><path d=\"M 366 306 450 249\" stroke=\"gray\" stroke-width=\"0.5\"/><path d=\"M 366 306 314 295\" stroke=\"gray\" stroke-width=\"0.5\"/><path d=\"M 366 306 282 230\" stroke=\"gray\" stroke-width=\"0.5\"/><path d=\"M 366 306 300 188\" stroke=\"gray\" stroke-width=\"0.5\"/><path d=\"M 366 306 233 365\" stroke=\"gray\" stroke-width=\"0.5\"/><path d=\"M 450 249 395 221\" stroke=\"gray\" stroke-width=\"0.5\"/><path d=\"M 450 249 366 306\" stroke=\"gray\" stroke-width=\"0.5\"/><path d=\"M 450 249 314 295\" stroke=\"gray\" stroke-width=\"0.5\"/><path d=\"M 450 249 282 230\" stroke=\"gray\" stroke-width=\"0.5\"/><path d=\"M 450 249 546 133\" stroke=\"gray\" stroke-width=\"0.5\"/><path d=\"M 314 295 395 221\" stroke=\"gray\" stroke-width=\"0.5\"/><path d=\"M 314 295 366 306\" stroke=\"gray\" stroke-width=\"0.5\"/><path d=\"M 314 295 450 249\" stroke=\"gray\" stroke-width=\"0.5\"/><path d=\"M 314 295 282 230\" stroke=\"gray\" stroke-width=\"0.5\"/><path d=\"M 314 295 300 188\" stroke=\"gray\" stroke-width=\"0.5\"/><path d=\"M 314 295 233 365\" stroke=\"gray\" stroke-width=\"0.5\"/><path d=\"M 314 295 194 286\" stroke=\"gray\" stroke-width=\"0.5\"/><path d=\"M 143 122 20 140\" stroke=\"gray\" stroke-width=\"0.5\"/><path d=\"M 143 122 154 222\" stroke=\"gray\" stroke-width=\"0.5\"/><path d=\"M 143 122 282 230\" stroke=\"gray\" stroke-width=\"0.5\"/><path d=\"M 143 122 107 156\" stroke=\"gray\" stroke-width=\"0.5\"/><path d=\"M 282 230 395 221\" stroke=\"gray\" stroke-width=\"0.5\"/><path d=\"M 282 230 154 222\" stroke=\"gray\" stroke-width=\"0.5\"/><path d=\"M 282 230 359 120\" stroke=\"gray\" stroke-width=\"0.5\"/><path d=\"M 282 230 366 306\" stroke=\"gray\" stroke-width=\"0.5\"/><path d=\"M 282 230 450 249\" stroke=\"gray\" stroke-width=\"0.5\"/><path d=\"M 282 230 314 295\" stroke=\"gray\" stroke-width=\"0.5\"/><path d=\"M 282 230 143 122\" stroke=\"gray\" stroke-width=\"0.5\"/><path d=\"M 282 230 300 188\" stroke=\"gray\" stroke-width=\"0.5\"/><path d=\"M 282 230 233 365\" stroke=\"gray\" stroke-width=\"0.5\"/><path d=\"M 546 133 450 249\" stroke=\"gray\" stroke-width=\"0.5\"/><path d=\"M 546 133 661 20\" stroke=\"gray\" stroke-width=\"0.5\"/><path d=\"M 546 133 720 126\" stroke=\"gray\" stroke-width=\"0.5\"/><path d=\"M 546 133 300 188\" stroke=\"gray\" stroke-width=\"0.5\"/><path d=\"M 661 20 546 133\" stroke=\"gray\" stroke-width=\"0.5\"/><path d=\"M 720 126 546 133\" stroke=\"gray\" stroke-width=\"0.5\"/><path d=\"M 300 188 154 222\" stroke=\"gray\" stroke-width=\"0.5\"/><path d=\"M 300 188 359 120\" stroke=\"gray\" stroke-width=\"0.5\"/><path d=\"M 300 188 366 306\" stroke=\"gray\" stroke-width=\"0.5\"/><path d=\"M 300 188 314 295\" stroke=\"gray\" stroke-width=\"0.5\"/><path d=\"M 300 188 282 230\" stroke=\"gray\" stroke-width=\"0.5\"/><path d=\"M 300 188 546 133\" stroke=\"gray\" stroke-width=\"0.5\"/><path d=\"M 300 188 194 286\" stroke=\"gray\" stroke-width=\"0.5\"/><path d=\"M 300 188 107 156\" stroke=\"gray\" stroke-width=\"0.5\"/><path d=\"M 233 365 174 520\" stroke=\"gray\" stroke-width=\"0.5\"/><path d=\"M 233 365 154 222\" stroke=\"gray\" stroke-width=\"0.5\"/><path d=\"M 233 365 366 306\" stroke=\"gray\" stroke-width=\"0.5\"/><path d=\"M 233 365 314 295\" stroke=\"gray\" stroke-width=\"0.5\"/><path d=\"M 233 365 282 230\" stroke=\"gray\" stroke-width=\"0.5\"/><path d=\"M 194 286 154 222\" stroke=\"gray\" stroke-width=\"0.5\"/><path d=\"M 194 286 314 295\" stroke=\"gray\" stroke-width=\"0.5\"/><path d=\"M 194 286 300 188\" stroke=\"gray\" stroke-width=\"0.5\"/><path d=\"M 107 156 20 140\" stroke=\"gray\" stroke-width=\"0.5\"/><path d=\"M 107 156 154 222\" stroke=\"gray\" stroke-width=\"0.5\"/><path d=\"M 107 156 143 122\" stroke=\"gray\" stroke-width=\"0.5\"/><path d=\"M 107 156 300 188\" stroke=\"gray\" stroke-width=\"0.5\"/><circle cx=\"20\" cy=\"140\" r=\"3.0\" style=\"fill:rgb(138, 173, 253);stroke:black;stroke-width:1.0\"/><circle cx=\"174\" cy=\"520\" r=\"3.0\" style=\"fill:rgb(58, 76, 192);stroke:black;stroke-width:1.0\"/><circle cx=\"395\" cy=\"221\" r=\"3.0\" style=\"fill:rgb(217, 220, 224);stroke:black;stroke-width:1.0\"/><circle cx=\"154\" cy=\"222\" r=\"3.0\" style=\"fill:rgb(242, 145, 115);stroke:black;stroke-width:1.0\"/><circle cx=\"359\" cy=\"120\" r=\"3.0\" style=\"fill:rgb(130, 165, 251);stroke:black;stroke-width:1.0\"/><circle cx=\"366\" cy=\"306\" r=\"3.0\" style=\"fill:rgb(242, 200, 179);stroke:black;stroke-width:1.0\"/><circle cx=\"450\" cy=\"249\" r=\"3.0\" style=\"fill:rgb(227, 217, 211);stroke:black;stroke-width:1.0\"/><circle cx=\"314\" cy=\"295\" r=\"3.0\" style=\"fill:rgb(245, 158, 127);stroke:black;stroke-width:1.0\"/><circle cx=\"143\" cy=\"122\" r=\"3.0\" style=\"fill:rgb(183, 207, 249);stroke:black;stroke-width:1.0\"/><circle cx=\"282\" cy=\"230\" r=\"3.0\" style=\"fill:rgb(179, 3, 38);stroke:black;stroke-width:1.0\"/><circle cx=\"546\" cy=\"133\" r=\"3.0\" style=\"fill:rgb(239, 206, 188);stroke:black;stroke-width:1.0\"/><circle cx=\"661\" cy=\"20\" r=\"3.0\" style=\"fill:rgb(70, 93, 207);stroke:black;stroke-width:1.0\"/><circle cx=\"720\" cy=\"126\" r=\"3.0\" style=\"fill:rgb(70, 93, 207);stroke:black;stroke-width:1.0\"/><circle cx=\"300\" cy=\"188\" r=\"3.0\" style=\"fill:rgb(207, 70, 61);stroke:black;stroke-width:1.0\"/><circle cx=\"233\" cy=\"365\" r=\"3.0\" style=\"fill:rgb(231, 214, 204);stroke:black;stroke-width:1.0\"/><circle cx=\"194\" cy=\"286\" r=\"3.0\" style=\"fill:rgb(130, 165, 251);stroke:black;stroke-width:1.0\"/><circle cx=\"107\" cy=\"156\" r=\"3.0\" style=\"fill:rgb(183, 207, 249);stroke:black;stroke-width:1.0\"/><text font-size=\"10\" x=\"26\" y=\"143\">Dually chordal graph</text><text font-size=\"10\" x=\"180\" y=\"523\">Parity graph</text><text font-size=\"10\" x=\"401\" y=\"224\">Perfect graph theorem</text><text font-size=\"10\" x=\"160\" y=\"225\">Chordal graph</text><text font-size=\"10\" x=\"365\" y=\"123\">Trivially perfect graph</text><text font-size=\"10\" x=\"372\" y=\"309\">Strong perfect graph theorem</text><text font-size=\"10\" x=\"456\" y=\"252\">Line graph</text><text font-size=\"10\" x=\"320\" y=\"298\">Line perfect graph</text><text font-size=\"10\" x=\"149\" y=\"125\">Chordal bipartite graph</text><text font-size=\"10\" x=\"288\" y=\"233\">Perfect graph</text><text font-size=\"10\" x=\"552\" y=\"136\">Covering graph</text><text font-size=\"10\" x=\"667\" y=\"23\">Bidirected graph</text><text font-size=\"10\" x=\"726\" y=\"129\">Laves graph</text><text font-size=\"10\" x=\"306\" y=\"191\">Cycle (graph theory)</text><text font-size=\"10\" x=\"239\" y=\"368\">Meyniel graph</text><text font-size=\"10\" x=\"200\" y=\"289\">Strangulated graph</text><text font-size=\"10\" x=\"113\" y=\"159\">Strongly chordal graph</text></svg>"
      ],
      "text/plain": [
       "<IPython.core.display.SVG object>"
      ]
     },
     "execution_count": 51,
     "metadata": {},
     "output_type": "execute_result"
    }
   ],
   "source": [
    "nodes = net_community_df[net_community_df['community']==comm_idx[3]]['node'].values\n",
    "\n",
    "G_comm = G_net_main.subgraph(nodes)\n",
    "\n",
    "draw_graph(nx.k_core(G_comm, 1), show_names=True, node_size=3)"
   ]
  },
  {
   "cell_type": "code",
   "execution_count": 52,
   "id": "ee8f1fc4",
   "metadata": {
    "scrolled": false
   },
   "outputs": [
    {
     "data": {
      "image/svg+xml": [
       "<svg height=\"540\" width=\"910.0\" xmlns=\"http://www.w3.org/2000/svg\"><path d=\"M 153 96 265 20\" stroke=\"gray\" stroke-width=\"0.5\"/><path d=\"M 153 96 250 62\" stroke=\"gray\" stroke-width=\"0.5\"/><path d=\"M 153 96 137 239\" stroke=\"gray\" stroke-width=\"0.5\"/><path d=\"M 405 435 280 433\" stroke=\"gray\" stroke-width=\"0.5\"/><path d=\"M 245 174 377 112\" stroke=\"gray\" stroke-width=\"0.5\"/><path d=\"M 245 174 137 239\" stroke=\"gray\" stroke-width=\"0.5\"/><path d=\"M 577 193 377 112\" stroke=\"gray\" stroke-width=\"0.5\"/><path d=\"M 577 193 720 211\" stroke=\"gray\" stroke-width=\"0.5\"/><path d=\"M 577 193 664 295\" stroke=\"gray\" stroke-width=\"0.5\"/><path d=\"M 134 520 135 403\" stroke=\"gray\" stroke-width=\"0.5\"/><path d=\"M 265 20 153 96\" stroke=\"gray\" stroke-width=\"0.5\"/><path d=\"M 265 20 377 112\" stroke=\"gray\" stroke-width=\"0.5\"/><path d=\"M 265 20 250 62\" stroke=\"gray\" stroke-width=\"0.5\"/><path d=\"M 20 464 135 403\" stroke=\"gray\" stroke-width=\"0.5\"/><path d=\"M 377 112 245 174\" stroke=\"gray\" stroke-width=\"0.5\"/><path d=\"M 377 112 577 193\" stroke=\"gray\" stroke-width=\"0.5\"/><path d=\"M 377 112 265 20\" stroke=\"gray\" stroke-width=\"0.5\"/><path d=\"M 377 112 444 161\" stroke=\"gray\" stroke-width=\"0.5\"/><path d=\"M 377 112 250 62\" stroke=\"gray\" stroke-width=\"0.5\"/><path d=\"M 444 161 377 112\" stroke=\"gray\" stroke-width=\"0.5\"/><path d=\"M 720 211 577 193\" stroke=\"gray\" stroke-width=\"0.5\"/><path d=\"M 250 62 153 96\" stroke=\"gray\" stroke-width=\"0.5\"/><path d=\"M 250 62 265 20\" stroke=\"gray\" stroke-width=\"0.5\"/><path d=\"M 250 62 377 112\" stroke=\"gray\" stroke-width=\"0.5\"/><path d=\"M 135 403 134 520\" stroke=\"gray\" stroke-width=\"0.5\"/><path d=\"M 135 403 20 464\" stroke=\"gray\" stroke-width=\"0.5\"/><path d=\"M 135 403 280 433\" stroke=\"gray\" stroke-width=\"0.5\"/><path d=\"M 135 403 137 239\" stroke=\"gray\" stroke-width=\"0.5\"/><path d=\"M 280 433 405 435\" stroke=\"gray\" stroke-width=\"0.5\"/><path d=\"M 280 433 135 403\" stroke=\"gray\" stroke-width=\"0.5\"/><path d=\"M 137 239 153 96\" stroke=\"gray\" stroke-width=\"0.5\"/><path d=\"M 137 239 245 174\" stroke=\"gray\" stroke-width=\"0.5\"/><path d=\"M 137 239 135 403\" stroke=\"gray\" stroke-width=\"0.5\"/><path d=\"M 664 295 577 193\" stroke=\"gray\" stroke-width=\"0.5\"/><circle cx=\"153\" cy=\"96\" r=\"3.0\" style=\"fill:rgb(199, 214, 240);stroke:black;stroke-width:1.0\"/><circle cx=\"405\" cy=\"435\" r=\"3.0\" style=\"fill:rgb(80, 107, 218);stroke:black;stroke-width:1.0\"/><circle cx=\"245\" cy=\"174\" r=\"3.0\" style=\"fill:rgb(130, 165, 251);stroke:black;stroke-width:1.0\"/><circle cx=\"577\" cy=\"193\" r=\"3.0\" style=\"fill:rgb(243, 198, 176);stroke:black;stroke-width:1.0\"/><circle cx=\"134\" cy=\"520\" r=\"3.0\" style=\"fill:rgb(72, 96, 209);stroke:black;stroke-width:1.0\"/><circle cx=\"265\" cy=\"20\" r=\"3.0\" style=\"fill:rgb(199, 214, 240);stroke:black;stroke-width:1.0\"/><circle cx=\"20\" cy=\"464\" r=\"3.0\" style=\"fill:rgb(72, 96, 209);stroke:black;stroke-width:1.0\"/><circle cx=\"377\" cy=\"112\" r=\"3.0\" style=\"fill:rgb(179, 3, 38);stroke:black;stroke-width:1.0\"/><circle cx=\"444\" cy=\"161\" r=\"3.0\" style=\"fill:rgb(58, 76, 192);stroke:black;stroke-width:1.0\"/><circle cx=\"720\" cy=\"211\" r=\"3.0\" style=\"fill:rgb(72, 96, 209);stroke:black;stroke-width:1.0\"/><circle cx=\"250\" cy=\"62\" r=\"3.0\" style=\"fill:rgb(199, 214, 240);stroke:black;stroke-width:1.0\"/><circle cx=\"135\" cy=\"403\" r=\"3.0\" style=\"fill:rgb(207, 70, 61);stroke:black;stroke-width:1.0\"/><circle cx=\"280\" cy=\"433\" r=\"3.0\" style=\"fill:rgb(197, 213, 242);stroke:black;stroke-width:1.0\"/><circle cx=\"137\" cy=\"239\" r=\"3.0\" style=\"fill:rgb(224, 218, 215);stroke:black;stroke-width:1.0\"/><circle cx=\"664\" cy=\"295\" r=\"3.0\" style=\"fill:rgb(72, 96, 209);stroke:black;stroke-width:1.0\"/><text font-size=\"10\" x=\"159\" y=\"99\">Crossing number (graph theory)</text><text font-size=\"10\" x=\"411\" y=\"438\">Knowledge graph embedding</text><text font-size=\"10\" x=\"251\" y=\"177\">Cage (graph theory)</text><text font-size=\"10\" x=\"583\" y=\"196\">Visibility graph</text><text font-size=\"10\" x=\"140\" y=\"523\">Modular product of graphs</text><text font-size=\"10\" x=\"271\" y=\"23\">Topological graph</text><text font-size=\"10\" x=\"26\" y=\"467\">Modularity (networks)</text><text font-size=\"10\" x=\"383\" y=\"115\">Geometric graph theory</text><text font-size=\"10\" x=\"450\" y=\"164\">Hadwiger conjecture (graph theory)</text><text font-size=\"10\" x=\"726\" y=\"214\">Visibility graph analysis</text><text font-size=\"10\" x=\"256\" y=\"65\">Topological graph theory</text><text font-size=\"10\" x=\"141\" y=\"406\">Modular graph</text><text font-size=\"10\" x=\"286\" y=\"436\">Knowledge graph</text><text font-size=\"10\" x=\"143\" y=\"242\">Complete bipartite graph</text><text font-size=\"10\" x=\"670\" y=\"298\">Scene graph</text></svg>"
      ],
      "text/plain": [
       "<IPython.core.display.SVG object>"
      ]
     },
     "execution_count": 52,
     "metadata": {},
     "output_type": "execute_result"
    }
   ],
   "source": [
    "nodes = net_community_df[net_community_df['community']==comm_idx[4]]['node'].values\n",
    "\n",
    "G_comm = G_net_main.subgraph(nodes)\n",
    "\n",
    "draw_graph(nx.k_core(G_comm, 1), show_names=True, node_size=3)"
   ]
  },
  {
   "cell_type": "markdown",
   "id": "b8927cef",
   "metadata": {},
   "source": [
    "# Power Law?\n",
    "\n",
    "In most real-world networks, it will be that there are very many nodes with few degrees and very few nodes with many degrees. This is like the saying \"rich get richer\". Think about people on social media, for instance. Most people have some connections, but very few people have many (millions of) connections, and those people with many connections tend to grow their following much faster than everyone else.\n",
    "\n",
    "This phenomenon doesn't just reveal itself on social media. It is at play in many real-world networks."
   ]
  },
  {
   "cell_type": "code",
   "execution_count": 72,
   "id": "51da56d7",
   "metadata": {},
   "outputs": [
    {
     "data": {
      "text/html": [
       "<div>\n",
       "<style scoped>\n",
       "    .dataframe tbody tr th:only-of-type {\n",
       "        vertical-align: middle;\n",
       "    }\n",
       "\n",
       "    .dataframe tbody tr th {\n",
       "        vertical-align: top;\n",
       "    }\n",
       "\n",
       "    .dataframe thead th {\n",
       "        text-align: right;\n",
       "    }\n",
       "</style>\n",
       "<table border=\"1\" class=\"dataframe\">\n",
       "  <thead>\n",
       "    <tr style=\"text-align: right;\">\n",
       "      <th></th>\n",
       "      <th>degrees</th>\n",
       "    </tr>\n",
       "    <tr>\n",
       "      <th>node</th>\n",
       "      <th></th>\n",
       "    </tr>\n",
       "  </thead>\n",
       "  <tbody>\n",
       "    <tr>\n",
       "      <th>Network science</th>\n",
       "      <td>21</td>\n",
       "    </tr>\n",
       "    <tr>\n",
       "      <th>Hub (network science)</th>\n",
       "      <td>10</td>\n",
       "    </tr>\n",
       "    <tr>\n",
       "      <th>Network theory</th>\n",
       "      <td>27</td>\n",
       "    </tr>\n",
       "    <tr>\n",
       "      <th>National Science Foundation Network</th>\n",
       "      <td>11</td>\n",
       "    </tr>\n",
       "    <tr>\n",
       "      <th>Efficiency (network science)</th>\n",
       "      <td>8</td>\n",
       "    </tr>\n",
       "  </tbody>\n",
       "</table>\n",
       "</div>"
      ],
      "text/plain": [
       "                                     degrees\n",
       "node                                        \n",
       "Network science                           21\n",
       "Hub (network science)                     10\n",
       "Network theory                            27\n",
       "National Science Foundation Network       11\n",
       "Efficiency (network science)               8"
      ]
     },
     "execution_count": 72,
     "metadata": {},
     "output_type": "execute_result"
    }
   ],
   "source": [
    "degree_df = pd.DataFrame().from_dict(G.degree)\n",
    "degree_df.columns = ['node', 'degrees']\n",
    "degree_df.set_index('node', inplace=True)\n",
    "degree_df.head()"
   ]
  },
  {
   "cell_type": "code",
   "execution_count": 73,
   "id": "7d3fa3f1",
   "metadata": {
    "scrolled": true
   },
   "outputs": [
    {
     "data": {
      "text/plain": [
       "<AxesSubplot:ylabel='Frequency'>"
      ]
     },
     "execution_count": 73,
     "metadata": {},
     "output_type": "execute_result"
    },
    {
     "data": {
      "image/png": "[encoded data removed]",
      "text/plain": [
       "<Figure size 432x288 with 1 Axes>"
      ]
     },
     "metadata": {
      "needs_background": "light"
     },
     "output_type": "display_data"
    }
   ],
   "source": [
    "degree_df['degrees'].plot.hist(bins=50)"
   ]
  },
  {
   "cell_type": "code",
   "execution_count": 77,
   "id": "3de68b40",
   "metadata": {},
   "outputs": [
    {
     "data": {
      "image/png": "[encoded data removed]",
      "text/plain": [
       "<Figure size 864x576 with 1 Axes>"
      ]
     },
     "metadata": {
      "needs_background": "light"
     },
     "output_type": "display_data"
    }
   ],
   "source": [
    "degree_df.sort_values('degrees', ascending=False)[0:20].plot.barh(figsize=(12,8)).invert_yaxis()"
   ]
  },
  {
   "cell_type": "markdown",
   "id": "13dcb4f7",
   "metadata": {},
   "source": [
    "We could repeat the above steps with just the network sciece related graph and we would probably see the same phenomenon: a few nodes with many edges and many nodes with a few edges. Let's see!"
   ]
  },
  {
   "cell_type": "code",
   "execution_count": 78,
   "id": "35c5f56d",
   "metadata": {},
   "outputs": [
    {
     "data": {
      "text/html": [
       "<div>\n",
       "<style scoped>\n",
       "    .dataframe tbody tr th:only-of-type {\n",
       "        vertical-align: middle;\n",
       "    }\n",
       "\n",
       "    .dataframe tbody tr th {\n",
       "        vertical-align: top;\n",
       "    }\n",
       "\n",
       "    .dataframe thead th {\n",
       "        text-align: right;\n",
       "    }\n",
       "</style>\n",
       "<table border=\"1\" class=\"dataframe\">\n",
       "  <thead>\n",
       "    <tr style=\"text-align: right;\">\n",
       "      <th></th>\n",
       "      <th>degrees</th>\n",
       "    </tr>\n",
       "    <tr>\n",
       "      <th>node</th>\n",
       "      <th></th>\n",
       "    </tr>\n",
       "  </thead>\n",
       "  <tbody>\n",
       "    <tr>\n",
       "      <th>Hoffman–Singleton graph</th>\n",
       "      <td>1</td>\n",
       "    </tr>\n",
       "    <tr>\n",
       "      <th>Visibility graph</th>\n",
       "      <td>5</td>\n",
       "    </tr>\n",
       "    <tr>\n",
       "      <th>Halin graph</th>\n",
       "      <td>1</td>\n",
       "    </tr>\n",
       "    <tr>\n",
       "      <th>1-planar graph</th>\n",
       "      <td>7</td>\n",
       "    </tr>\n",
       "    <tr>\n",
       "      <th>Meyniel graph</th>\n",
       "      <td>6</td>\n",
       "    </tr>\n",
       "  </tbody>\n",
       "</table>\n",
       "</div>"
      ],
      "text/plain": [
       "                         degrees\n",
       "node                            \n",
       "Hoffman–Singleton graph        1\n",
       "Visibility graph               5\n",
       "Halin graph                    1\n",
       "1-planar graph                 7\n",
       "Meyniel graph                  6"
      ]
     },
     "execution_count": 78,
     "metadata": {},
     "output_type": "execute_result"
    }
   ],
   "source": [
    "degree_df = pd.DataFrame().from_dict(G_net_main.degree)\n",
    "degree_df.columns = ['node', 'degrees']\n",
    "degree_df.set_index('node', inplace=True)\n",
    "degree_df.head()"
   ]
  },
  {
   "cell_type": "code",
   "execution_count": 82,
   "id": "14fc9169",
   "metadata": {},
   "outputs": [
    {
     "data": {
      "text/plain": [
       "<AxesSubplot:ylabel='Frequency'>"
      ]
     },
     "execution_count": 82,
     "metadata": {},
     "output_type": "execute_result"
    },
    {
     "data": {
      "image/png": "[encoded data removed]",
      "text/plain": [
       "<Figure size 432x288 with 1 Axes>"
      ]
     },
     "metadata": {
      "needs_background": "light"
     },
     "output_type": "display_data"
    }
   ],
   "source": [
    "degree_df['degrees'].plot.hist(bins=10)"
   ]
  },
  {
   "cell_type": "code",
   "execution_count": 83,
   "id": "ba951a92",
   "metadata": {},
   "outputs": [
    {
     "data": {
      "image/png": "[encoded data removed]",
      "text/plain": [
       "<Figure size 864x576 with 1 Axes>"
      ]
     },
     "metadata": {
      "needs_background": "light"
     },
     "output_type": "display_data"
    }
   ],
   "source": [
    "degree_df.sort_values('degrees', ascending=False)[0:20].plot.barh(figsize=(12,8)).invert_yaxis()"
   ]
  },
  {
   "cell_type": "markdown",
   "id": "d4d7823d",
   "metadata": {},
   "source": [
    "It isn't quite as extreme, and the graph is still small, but the phenomenon is there. There are may nodes with 0-10 edges, and far fewer with more than ten.\n",
    "\n",
    "We'll explore this concept more throughout this adventure. I just wanted to take a look."
   ]
  },
  {
   "cell_type": "code",
   "execution_count": null,
   "id": "ee8a76b0",
   "metadata": {},
   "outputs": [],
   "source": []
  }
 ],
 "metadata": {
  "kernelspec": {
   "display_name": "Python 3",
   "language": "python",
   "name": "python3"
  },
  "language_info": {
   "codemirror_mode": {
    "name": "ipython",
    "version": 3
   },
   "file_extension": ".py",
   "mimetype": "text/x-python",
   "name": "python",
   "nbconvert_exporter": "python",
   "pygments_lexer": "ipython3",
   "version": "3.7.16"
  }
 },
 "nbformat": 4,
 "nbformat_minor": 5
}
