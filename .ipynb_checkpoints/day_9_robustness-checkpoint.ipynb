{
 "cells": [
  {
   "cell_type": "code",
   "execution_count": 41,
   "id": "69a75e38",
   "metadata": {},
   "outputs": [],
   "source": [
    "#!pip install graph-tiger --user\n",
    "\n",
    "from graph_tiger.measures import get_measures, run_measure"
   ]
  },
  {
   "cell_type": "code",
   "execution_count": 42,
   "id": "e1b834d8",
   "metadata": {},
   "outputs": [
    {
     "data": {
      "text/plain": [
       "['node_connectivity',\n",
       " 'edge_connectivity',\n",
       " 'diameter',\n",
       " 'average_distance',\n",
       " 'average_inverse_distance',\n",
       " 'average_vertex_betweenness',\n",
       " 'average_edge_betweenness',\n",
       " 'average_clustering_coefficient',\n",
       " 'largest_connected_component',\n",
       " 'spectral_radius',\n",
       " 'spectral_gap',\n",
       " 'natural_connectivity',\n",
       " 'spectral_scaling',\n",
       " 'generalized_robustness_index',\n",
       " 'algebraic_connectivity',\n",
       " 'number_spanning_trees',\n",
       " 'effective_resistance']"
      ]
     },
     "execution_count": 42,
     "metadata": {},
     "output_type": "execute_result"
    }
   ],
   "source": [
    "get_measures()"
   ]
  },
  {
   "cell_type": "code",
   "execution_count": 43,
   "id": "7d18c815",
   "metadata": {},
   "outputs": [],
   "source": [
    "import networkx as nx\n",
    "import numpy as np\n",
    "import pandas as pd\n",
    "\n",
    "from IPython.display import SVG \n",
    "from sknetwork.visualization import svg_graph \n",
    "from sknetwork.data import Bunch \n",
    "from sknetwork.ranking import PageRank \n",
    "\n",
    "import community as community_louvain"
   ]
  },
  {
   "cell_type": "code",
   "execution_count": 44,
   "id": "0e8c36c4",
   "metadata": {},
   "outputs": [],
   "source": [
    "def draw_graph(G, show_names=False, node_size=1, font_size=10, edge_width=0.5): \n",
    "\n",
    "    adjacency = nx.to_scipy_sparse_matrix(G, nodelist=None, dtype=None, weight='weight', format='csr') \n",
    "\n",
    "    names = np.array(list(G.nodes())) \n",
    "\n",
    "    graph = Bunch() \n",
    "    graph.adjacency = adjacency \n",
    "    graph.names = np.array(names) \n",
    "\n",
    "    pagerank = PageRank() \n",
    "\n",
    "    scores = pagerank.fit_transform(adjacency) \n",
    "\n",
    "    if show_names: \n",
    "        \n",
    "        image = svg_graph(graph.adjacency, font_size=font_size, node_size=node_size, names=graph.names, width=700, height=500, scores=scores, edge_width=edge_width) \n",
    "\n",
    "    else: \n",
    "\n",
    "        image = svg_graph(graph.adjacency, node_size=node_size, width=700, height=500, scores = scores, edge_width=edge_width) \n",
    "\n",
    "    return SVG(image) "
   ]
  },
  {
   "cell_type": "code",
   "execution_count": 45,
   "id": "5e7e69f4",
   "metadata": {},
   "outputs": [
    {
     "data": {
      "text/html": [
       "<div>\n",
       "<style scoped>\n",
       "    .dataframe tbody tr th:only-of-type {\n",
       "        vertical-align: middle;\n",
       "    }\n",
       "\n",
       "    .dataframe tbody tr th {\n",
       "        vertical-align: top;\n",
       "    }\n",
       "\n",
       "    .dataframe thead th {\n",
       "        text-align: right;\n",
       "    }\n",
       "</style>\n",
       "<table border=\"1\" class=\"dataframe\">\n",
       "  <thead>\n",
       "    <tr style=\"text-align: right;\">\n",
       "      <th></th>\n",
       "      <th>source</th>\n",
       "      <th>target</th>\n",
       "    </tr>\n",
       "  </thead>\n",
       "  <tbody>\n",
       "    <tr>\n",
       "      <th>0</th>\n",
       "      <td>Network science</td>\n",
       "      <td>Network science</td>\n",
       "    </tr>\n",
       "    <tr>\n",
       "      <th>1</th>\n",
       "      <td>Network science</td>\n",
       "      <td>Hub (network science)</td>\n",
       "    </tr>\n",
       "    <tr>\n",
       "      <th>2</th>\n",
       "      <td>Network science</td>\n",
       "      <td>Network theory</td>\n",
       "    </tr>\n",
       "    <tr>\n",
       "      <th>3</th>\n",
       "      <td>Network science</td>\n",
       "      <td>National Science Foundation Network</td>\n",
       "    </tr>\n",
       "    <tr>\n",
       "      <th>4</th>\n",
       "      <td>Network science</td>\n",
       "      <td>Efficiency (network science)</td>\n",
       "    </tr>\n",
       "  </tbody>\n",
       "</table>\n",
       "</div>"
      ],
      "text/plain": [
       "            source                               target\n",
       "0  Network science                      Network science\n",
       "1  Network science                Hub (network science)\n",
       "2  Network science                       Network theory\n",
       "3  Network science  National Science Foundation Network\n",
       "4  Network science         Efficiency (network science)"
      ]
     },
     "execution_count": 45,
     "metadata": {},
     "output_type": "execute_result"
    }
   ],
   "source": [
    "data = r'data/network_analysis_edgelist.csv'\n",
    "\n",
    "df = pd.read_csv(data)\n",
    "df.head()"
   ]
  },
  {
   "cell_type": "code",
   "execution_count": 46,
   "id": "5296a3e1",
   "metadata": {},
   "outputs": [],
   "source": [
    "G = nx.from_pandas_edgelist(df)\n",
    "\n",
    "G.remove_edges_from(nx.selfloop_edges(G))"
   ]
  },
  {
   "cell_type": "code",
   "execution_count": 47,
   "id": "e7936819",
   "metadata": {},
   "outputs": [
    {
     "name": "stdout",
     "output_type": "stream",
     "text": [
      "Graph with 51268 nodes and 76211 edges\n"
     ]
    }
   ],
   "source": [
    "print(nx.info(G))"
   ]
  },
  {
   "cell_type": "markdown",
   "id": "10aa2232",
   "metadata": {},
   "source": [
    "# Network Brittleness / Robustness\n",
    "\n",
    "Write about it"
   ]
  },
  {
   "cell_type": "markdown",
   "id": "0dcf1d59",
   "metadata": {},
   "source": [
    "# PageRank - Identify Nodes of Interest"
   ]
  },
  {
   "cell_type": "code",
   "execution_count": 48,
   "id": "42fbb411",
   "metadata": {},
   "outputs": [
    {
     "data": {
      "text/html": [
       "<div>\n",
       "<style scoped>\n",
       "    .dataframe tbody tr th:only-of-type {\n",
       "        vertical-align: middle;\n",
       "    }\n",
       "\n",
       "    .dataframe tbody tr th {\n",
       "        vertical-align: top;\n",
       "    }\n",
       "\n",
       "    .dataframe thead th {\n",
       "        text-align: right;\n",
       "    }\n",
       "</style>\n",
       "<table border=\"1\" class=\"dataframe\">\n",
       "  <thead>\n",
       "    <tr style=\"text-align: right;\">\n",
       "      <th></th>\n",
       "      <th>page_rank</th>\n",
       "    </tr>\n",
       "  </thead>\n",
       "  <tbody>\n",
       "    <tr>\n",
       "      <th>Glossary of graph theory</th>\n",
       "      <td>0.000341</td>\n",
       "    </tr>\n",
       "    <tr>\n",
       "      <th>List of statistics articles</th>\n",
       "      <td>0.000238</td>\n",
       "    </tr>\n",
       "    <tr>\n",
       "      <th>Internet</th>\n",
       "      <td>0.000206</td>\n",
       "    </tr>\n",
       "    <tr>\n",
       "      <th>Lists of mathematics topics</th>\n",
       "      <td>0.000188</td>\n",
       "    </tr>\n",
       "    <tr>\n",
       "      <th>Artificial intelligence</th>\n",
       "      <td>0.000187</td>\n",
       "    </tr>\n",
       "    <tr>\n",
       "      <th>Computer network</th>\n",
       "      <td>0.000185</td>\n",
       "    </tr>\n",
       "    <tr>\n",
       "      <th>Graph theory</th>\n",
       "      <td>0.000185</td>\n",
       "    </tr>\n",
       "    <tr>\n",
       "      <th>Machine learning</th>\n",
       "      <td>0.000180</td>\n",
       "    </tr>\n",
       "    <tr>\n",
       "      <th>List of unsolved problems in mathematics</th>\n",
       "      <td>0.000178</td>\n",
       "    </tr>\n",
       "    <tr>\n",
       "      <th>List of graph theory topics</th>\n",
       "      <td>0.000171</td>\n",
       "    </tr>\n",
       "  </tbody>\n",
       "</table>\n",
       "</div>"
      ],
      "text/plain": [
       "                                          page_rank\n",
       "Glossary of graph theory                   0.000341\n",
       "List of statistics articles                0.000238\n",
       "Internet                                   0.000206\n",
       "Lists of mathematics topics                0.000188\n",
       "Artificial intelligence                    0.000187\n",
       "Computer network                           0.000185\n",
       "Graph theory                               0.000185\n",
       "Machine learning                           0.000180\n",
       "List of unsolved problems in mathematics   0.000178\n",
       "List of graph theory topics                0.000171"
      ]
     },
     "execution_count": 48,
     "metadata": {},
     "output_type": "execute_result"
    }
   ],
   "source": [
    "page_rank = nx.pagerank(G)\n",
    "\n",
    "pr_df = pd.DataFrame().from_dict(page_rank, orient='index')\n",
    "pr_df.columns = ['page_rank']\n",
    "pr_df.sort_values('page_rank', ascending=False, inplace=True)\n",
    "pr_df.head(10)"
   ]
  },
  {
   "cell_type": "code",
   "execution_count": 49,
   "id": "71a59549",
   "metadata": {},
   "outputs": [
    {
     "data": {
      "image/png": "[encoded data removed]",
      "text/plain": [
       "<Figure size 864x576 with 1 Axes>"
      ]
     },
     "metadata": {
      "needs_background": "light"
     },
     "output_type": "display_data"
    }
   ],
   "source": [
    "title = 'Important Pages by PageRank'\n",
    "\n",
    "pr_df.head(20).plot.barh(figsize=(12,8), title=title).invert_yaxis()"
   ]
  },
  {
   "cell_type": "markdown",
   "id": "6909165a",
   "metadata": {},
   "source": [
    "# Community Detection\n",
    "\n",
    "We have one large connected component, and this will be great for use in Community Detection. The smaller connected components are communities of their own in this network, split off from the main piece of this network."
   ]
  },
  {
   "cell_type": "code",
   "execution_count": 50,
   "id": "8022451c",
   "metadata": {},
   "outputs": [],
   "source": [
    "def draw_partition(G, partition): \n",
    "\n",
    "    import matplotlib.cm as cm \n",
    "    import matplotlib.pyplot as plt \n",
    "\n",
    "    # draw the graph \n",
    "    plt.figure(3,figsize=(12,12)) \n",
    "    pos = nx.spring_layout(G) \n",
    "\n",
    "    # color the nodes according to their partition \n",
    "    cmap = cm.get_cmap('jet', max(partition.values()) + 1) \n",
    "    nx.draw_networkx_nodes(G, pos, partition.keys(), node_size=40, cmap=cmap, node_color=list(partition.values())) \n",
    "    nx.draw_networkx_edges(G, pos, alpha=0.5, width=0.3) \n",
    "\n",
    "    return plt.show() "
   ]
  },
  {
   "cell_type": "code",
   "execution_count": 51,
   "id": "6247b204",
   "metadata": {},
   "outputs": [],
   "source": [
    "# identify communities; set resolution to 0.01 for smaller groups and 1 for larger groups, etc\n",
    "# play with the number to get communities to the size you want them, or leave it at the default\n",
    "\n",
    "partition = community_louvain.best_partition(G, resolution=0.01, random_state=1337) "
   ]
  },
  {
   "cell_type": "code",
   "execution_count": 52,
   "id": "03fc34b8",
   "metadata": {},
   "outputs": [
    {
     "data": {
      "text/plain": [
       "404     26\n",
       "373     24\n",
       "46      19\n",
       "89      18\n",
       "392     16\n",
       "278     16\n",
       "536     14\n",
       "1112    13\n",
       "54      12\n",
       "1869    12\n",
       "1084    12\n",
       "501     12\n",
       "1549    11\n",
       "5       11\n",
       "82      11\n",
       "447     11\n",
       "75      11\n",
       "1298    10\n",
       "753     10\n",
       "2058    10\n",
       "Name: community, dtype: int64"
      ]
     },
     "execution_count": 52,
     "metadata": {},
     "output_type": "execute_result"
    }
   ],
   "source": [
    "community_df = pd.DataFrame().from_dict(partition, orient='index')\n",
    "community_df.reset_index(inplace=True)\n",
    "community_df.columns = ['node', 'community']\n",
    "\n",
    "# remove junk; identify relevant communities\n",
    "community_df = community_df[community_df['node'].str.contains('network|graph|science|inference')]\n",
    "\n",
    "community_df['community'].value_counts()[0:20]"
   ]
  },
  {
   "cell_type": "code",
   "execution_count": 53,
   "id": "04fee347",
   "metadata": {},
   "outputs": [
    {
     "data": {
      "text/plain": [
       "array([ 404,  373,   46,   89,  392,  278,  536, 1112,   54, 1869, 1084,\n",
       "        501, 1549,    5,   82,  447,   75, 1298,  753, 2058], dtype=int64)"
      ]
     },
     "execution_count": 53,
     "metadata": {},
     "output_type": "execute_result"
    }
   ],
   "source": [
    "comm_idx = community_df['community'].value_counts()[0:20].index.values\n",
    "comm_idx"
   ]
  },
  {
   "cell_type": "markdown",
   "id": "6e241e7f",
   "metadata": {},
   "source": [
    "## Exploring Communities\n",
    "Below, I am showing the largest community in the network. Looking at some of the node labels, I can see many instances of the word \"graph\". We are in the right place. "
   ]
  },
  {
   "cell_type": "code",
   "execution_count": 54,
   "id": "a9558fc4",
   "metadata": {},
   "outputs": [
    {
     "data": {
      "image/svg+xml": [
       "<svg height=\"540\" width=\"945.0\" xmlns=\"http://www.w3.org/2000/svg\"><path d=\"M 222 149 504 338\" stroke=\"gray\" stroke-width=\"0.5\"/><path d=\"M 222 149 136 45\" stroke=\"gray\" stroke-width=\"0.5\"/><path d=\"M 222 149 20 200\" stroke=\"gray\" stroke-width=\"0.5\"/><path d=\"M 222 149 428 220\" stroke=\"gray\" stroke-width=\"0.5\"/><path d=\"M 222 149 645 299\" stroke=\"gray\" stroke-width=\"0.5\"/><path d=\"M 222 149 153 268\" stroke=\"gray\" stroke-width=\"0.5\"/><path d=\"M 222 149 290 37\" stroke=\"gray\" stroke-width=\"0.5\"/><path d=\"M 222 149 327 241\" stroke=\"gray\" stroke-width=\"0.5\"/><path d=\"M 222 149 392 281\" stroke=\"gray\" stroke-width=\"0.5\"/><path d=\"M 504 338 222 149\" stroke=\"gray\" stroke-width=\"0.5\"/><path d=\"M 504 338 652 213\" stroke=\"gray\" stroke-width=\"0.5\"/><path d=\"M 504 338 428 220\" stroke=\"gray\" stroke-width=\"0.5\"/><path d=\"M 504 338 411 20\" stroke=\"gray\" stroke-width=\"0.5\"/><path d=\"M 504 338 645 299\" stroke=\"gray\" stroke-width=\"0.5\"/><path d=\"M 504 338 153 268\" stroke=\"gray\" stroke-width=\"0.5\"/><path d=\"M 504 338 406 428\" stroke=\"gray\" stroke-width=\"0.5\"/><path d=\"M 504 338 604 473\" stroke=\"gray\" stroke-width=\"0.5\"/><path d=\"M 504 338 307 376\" stroke=\"gray\" stroke-width=\"0.5\"/><path d=\"M 504 338 327 241\" stroke=\"gray\" stroke-width=\"0.5\"/><path d=\"M 504 338 392 281\" stroke=\"gray\" stroke-width=\"0.5\"/><path d=\"M 136 45 222 149\" stroke=\"gray\" stroke-width=\"0.5\"/><path d=\"M 136 45 20 200\" stroke=\"gray\" stroke-width=\"0.5\"/><path d=\"M 136 45 411 20\" stroke=\"gray\" stroke-width=\"0.5\"/><path d=\"M 136 45 307 376\" stroke=\"gray\" stroke-width=\"0.5\"/><path d=\"M 136 45 459 136\" stroke=\"gray\" stroke-width=\"0.5\"/><path d=\"M 136 45 290 37\" stroke=\"gray\" stroke-width=\"0.5\"/><path d=\"M 136 45 327 241\" stroke=\"gray\" stroke-width=\"0.5\"/><path d=\"M 136 45 392 281\" stroke=\"gray\" stroke-width=\"0.5\"/><path d=\"M 216 383 428 220\" stroke=\"gray\" stroke-width=\"0.5\"/><path d=\"M 216 383 153 268\" stroke=\"gray\" stroke-width=\"0.5\"/><path d=\"M 216 383 406 428\" stroke=\"gray\" stroke-width=\"0.5\"/><path d=\"M 216 383 604 473\" stroke=\"gray\" stroke-width=\"0.5\"/><path d=\"M 216 383 307 376\" stroke=\"gray\" stroke-width=\"0.5\"/><path d=\"M 216 383 459 136\" stroke=\"gray\" stroke-width=\"0.5\"/><path d=\"M 216 383 290 37\" stroke=\"gray\" stroke-width=\"0.5\"/><path d=\"M 216 383 327 241\" stroke=\"gray\" stroke-width=\"0.5\"/><path d=\"M 216 383 392 281\" stroke=\"gray\" stroke-width=\"0.5\"/><path d=\"M 20 200 222 149\" stroke=\"gray\" stroke-width=\"0.5\"/><path d=\"M 20 200 136 45\" stroke=\"gray\" stroke-width=\"0.5\"/><path d=\"M 20 200 406 428\" stroke=\"gray\" stroke-width=\"0.5\"/><path d=\"M 20 200 290 37\" stroke=\"gray\" stroke-width=\"0.5\"/><path d=\"M 20 200 327 241\" stroke=\"gray\" stroke-width=\"0.5\"/><path d=\"M 20 200 392 281\" stroke=\"gray\" stroke-width=\"0.5\"/><path d=\"M 652 213 504 338\" stroke=\"gray\" stroke-width=\"0.5\"/><path d=\"M 652 213 428 220\" stroke=\"gray\" stroke-width=\"0.5\"/><path d=\"M 652 213 411 20\" stroke=\"gray\" stroke-width=\"0.5\"/><path d=\"M 652 213 645 299\" stroke=\"gray\" stroke-width=\"0.5\"/><path d=\"M 652 213 307 376\" stroke=\"gray\" stroke-width=\"0.5\"/><path d=\"M 652 213 459 136\" stroke=\"gray\" stroke-width=\"0.5\"/><path d=\"M 652 213 327 241\" stroke=\"gray\" stroke-width=\"0.5\"/><path d=\"M 652 213 392 281\" stroke=\"gray\" stroke-width=\"0.5\"/><path d=\"M 428 220 222 149\" stroke=\"gray\" stroke-width=\"0.5\"/><path d=\"M 428 220 504 338\" stroke=\"gray\" stroke-width=\"0.5\"/><path d=\"M 428 220 216 383\" stroke=\"gray\" stroke-width=\"0.5\"/><path d=\"M 428 220 652 213\" stroke=\"gray\" stroke-width=\"0.5\"/><path d=\"M 428 220 411 20\" stroke=\"gray\" stroke-width=\"0.5\"/><path d=\"M 428 220 645 299\" stroke=\"gray\" stroke-width=\"0.5\"/><path d=\"M 428 220 585 94\" stroke=\"gray\" stroke-width=\"0.5\"/><path d=\"M 428 220 153 268\" stroke=\"gray\" stroke-width=\"0.5\"/><path d=\"M 428 220 163 520\" stroke=\"gray\" stroke-width=\"0.5\"/><path d=\"M 428 220 406 428\" stroke=\"gray\" stroke-width=\"0.5\"/><path d=\"M 428 220 307 376\" stroke=\"gray\" stroke-width=\"0.5\"/><path d=\"M 428 220 459 136\" stroke=\"gray\" stroke-width=\"0.5\"/><path d=\"M 428 220 290 37\" stroke=\"gray\" stroke-width=\"0.5\"/><path d=\"M 428 220 327 241\" stroke=\"gray\" stroke-width=\"0.5\"/><path d=\"M 428 220 720 94\" stroke=\"gray\" stroke-width=\"0.5\"/><path d=\"M 428 220 392 281\" stroke=\"gray\" stroke-width=\"0.5\"/><path d=\"M 411 20 504 338\" stroke=\"gray\" stroke-width=\"0.5\"/><path d=\"M 411 20 136 45\" stroke=\"gray\" stroke-width=\"0.5\"/><path d=\"M 411 20 652 213\" stroke=\"gray\" stroke-width=\"0.5\"/><path d=\"M 411 20 428 220\" stroke=\"gray\" stroke-width=\"0.5\"/><path d=\"M 411 20 153 268\" stroke=\"gray\" stroke-width=\"0.5\"/><path d=\"M 411 20 459 136\" stroke=\"gray\" stroke-width=\"0.5\"/><path d=\"M 411 20 290 37\" stroke=\"gray\" stroke-width=\"0.5\"/><path d=\"M 411 20 327 241\" stroke=\"gray\" stroke-width=\"0.5\"/><path d=\"M 411 20 392 281\" stroke=\"gray\" stroke-width=\"0.5\"/><path d=\"M 645 299 222 149\" stroke=\"gray\" stroke-width=\"0.5\"/><path d=\"M 645 299 504 338\" stroke=\"gray\" stroke-width=\"0.5\"/><path d=\"M 645 299 652 213\" stroke=\"gray\" stroke-width=\"0.5\"/><path d=\"M 645 299 428 220\" stroke=\"gray\" stroke-width=\"0.5\"/><path d=\"M 645 299 585 94\" stroke=\"gray\" stroke-width=\"0.5\"/><path d=\"M 645 299 459 136\" stroke=\"gray\" stroke-width=\"0.5\"/><path d=\"M 645 299 327 241\" stroke=\"gray\" stroke-width=\"0.5\"/><path d=\"M 645 299 392 281\" stroke=\"gray\" stroke-width=\"0.5\"/><path d=\"M 585 94 428 220\" stroke=\"gray\" stroke-width=\"0.5\"/><path d=\"M 585 94 645 299\" stroke=\"gray\" stroke-width=\"0.5\"/><path d=\"M 585 94 406 428\" stroke=\"gray\" stroke-width=\"0.5\"/><path d=\"M 585 94 459 136\" stroke=\"gray\" stroke-width=\"0.5\"/><path d=\"M 585 94 290 37\" stroke=\"gray\" stroke-width=\"0.5\"/><path d=\"M 585 94 327 241\" stroke=\"gray\" stroke-width=\"0.5\"/><path d=\"M 585 94 392 281\" stroke=\"gray\" stroke-width=\"0.5\"/><path d=\"M 153 268 222 149\" stroke=\"gray\" stroke-width=\"0.5\"/><path d=\"M 153 268 504 338\" stroke=\"gray\" stroke-width=\"0.5\"/><path d=\"M 153 268 216 383\" stroke=\"gray\" stroke-width=\"0.5\"/><path d=\"M 153 268 428 220\" stroke=\"gray\" stroke-width=\"0.5\"/><path d=\"M 153 268 411 20\" stroke=\"gray\" stroke-width=\"0.5\"/><path d=\"M 153 268 163 520\" stroke=\"gray\" stroke-width=\"0.5\"/><path d=\"M 153 268 307 376\" stroke=\"gray\" stroke-width=\"0.5\"/><path d=\"M 153 268 290 37\" stroke=\"gray\" stroke-width=\"0.5\"/><path d=\"M 153 268 327 241\" stroke=\"gray\" stroke-width=\"0.5\"/><path d=\"M 153 268 392 281\" stroke=\"gray\" stroke-width=\"0.5\"/><path d=\"M 163 520 428 220\" stroke=\"gray\" stroke-width=\"0.5\"/><path d=\"M 163 520 153 268\" stroke=\"gray\" stroke-width=\"0.5\"/><path d=\"M 163 520 307 376\" stroke=\"gray\" stroke-width=\"0.5\"/><path d=\"M 163 520 327 241\" stroke=\"gray\" stroke-width=\"0.5\"/><path d=\"M 163 520 392 281\" stroke=\"gray\" stroke-width=\"0.5\"/><path d=\"M 406 428 504 338\" stroke=\"gray\" stroke-width=\"0.5\"/><path d=\"M 406 428 216 383\" stroke=\"gray\" stroke-width=\"0.5\"/><path d=\"M 406 428 20 200\" stroke=\"gray\" stroke-width=\"0.5\"/><path d=\"M 406 428 428 220\" stroke=\"gray\" stroke-width=\"0.5\"/><path d=\"M 406 428 585 94\" stroke=\"gray\" stroke-width=\"0.5\"/><path d=\"M 406 428 604 473\" stroke=\"gray\" stroke-width=\"0.5\"/><path d=\"M 406 428 307 376\" stroke=\"gray\" stroke-width=\"0.5\"/><path d=\"M 406 428 459 136\" stroke=\"gray\" stroke-width=\"0.5\"/><path d=\"M 406 428 327 241\" stroke=\"gray\" stroke-width=\"0.5\"/><path d=\"M 406 428 392 281\" stroke=\"gray\" stroke-width=\"0.5\"/><path d=\"M 604 473 504 338\" stroke=\"gray\" stroke-width=\"0.5\"/><path d=\"M 604 473 216 383\" stroke=\"gray\" stroke-width=\"0.5\"/><path d=\"M 604 473 406 428\" stroke=\"gray\" stroke-width=\"0.5\"/><path d=\"M 604 473 327 241\" stroke=\"gray\" stroke-width=\"0.5\"/><path d=\"M 604 473 720 94\" stroke=\"gray\" stroke-width=\"0.5\"/><path d=\"M 604 473 392 281\" stroke=\"gray\" stroke-width=\"0.5\"/><path d=\"M 307 376 504 338\" stroke=\"gray\" stroke-width=\"0.5\"/><path d=\"M 307 376 136 45\" stroke=\"gray\" stroke-width=\"0.5\"/><path d=\"M 307 376 216 383\" stroke=\"gray\" stroke-width=\"0.5\"/><path d=\"M 307 376 652 213\" stroke=\"gray\" stroke-width=\"0.5\"/><path d=\"M 307 376 428 220\" stroke=\"gray\" stroke-width=\"0.5\"/><path d=\"M 307 376 153 268\" stroke=\"gray\" stroke-width=\"0.5\"/><path d=\"M 307 376 163 520\" stroke=\"gray\" stroke-width=\"0.5\"/><path d=\"M 307 376 406 428\" stroke=\"gray\" stroke-width=\"0.5\"/><path d=\"M 307 376 459 136\" stroke=\"gray\" stroke-width=\"0.5\"/><path d=\"M 307 376 327 241\" stroke=\"gray\" stroke-width=\"0.5\"/><path d=\"M 307 376 392 281\" stroke=\"gray\" stroke-width=\"0.5\"/><path d=\"M 459 136 136 45\" stroke=\"gray\" stroke-width=\"0.5\"/><path d=\"M 459 136 216 383\" stroke=\"gray\" stroke-width=\"0.5\"/><path d=\"M 459 136 652 213\" stroke=\"gray\" stroke-width=\"0.5\"/><path d=\"M 459 136 428 220\" stroke=\"gray\" stroke-width=\"0.5\"/><path d=\"M 459 136 411 20\" stroke=\"gray\" stroke-width=\"0.5\"/><path d=\"M 459 136 645 299\" stroke=\"gray\" stroke-width=\"0.5\"/><path d=\"M 459 136 585 94\" stroke=\"gray\" stroke-width=\"0.5\"/><path d=\"M 459 136 406 428\" stroke=\"gray\" stroke-width=\"0.5\"/><path d=\"M 459 136 307 376\" stroke=\"gray\" stroke-width=\"0.5\"/><path d=\"M 459 136 290 37\" stroke=\"gray\" stroke-width=\"0.5\"/><path d=\"M 459 136 327 241\" stroke=\"gray\" stroke-width=\"0.5\"/><path d=\"M 459 136 720 94\" stroke=\"gray\" stroke-width=\"0.5\"/><path d=\"M 459 136 392 281\" stroke=\"gray\" stroke-width=\"0.5\"/><path d=\"M 290 37 222 149\" stroke=\"gray\" stroke-width=\"0.5\"/><path d=\"M 290 37 136 45\" stroke=\"gray\" stroke-width=\"0.5\"/><path d=\"M 290 37 216 383\" stroke=\"gray\" stroke-width=\"0.5\"/><path d=\"M 290 37 20 200\" stroke=\"gray\" stroke-width=\"0.5\"/><path d=\"M 290 37 428 220\" stroke=\"gray\" stroke-width=\"0.5\"/><path d=\"M 290 37 411 20\" stroke=\"gray\" stroke-width=\"0.5\"/><path d=\"M 290 37 585 94\" stroke=\"gray\" stroke-width=\"0.5\"/><path d=\"M 290 37 153 268\" stroke=\"gray\" stroke-width=\"0.5\"/><path d=\"M 290 37 459 136\" stroke=\"gray\" stroke-width=\"0.5\"/><path d=\"M 290 37 327 241\" stroke=\"gray\" stroke-width=\"0.5\"/><path d=\"M 290 37 720 94\" stroke=\"gray\" stroke-width=\"0.5\"/><path d=\"M 327 241 222 149\" stroke=\"gray\" stroke-width=\"0.5\"/><path d=\"M 327 241 504 338\" stroke=\"gray\" stroke-width=\"0.5\"/><path d=\"M 327 241 136 45\" stroke=\"gray\" stroke-width=\"0.5\"/><path d=\"M 327 241 216 383\" stroke=\"gray\" stroke-width=\"0.5\"/><path d=\"M 327 241 20 200\" stroke=\"gray\" stroke-width=\"0.5\"/><path d=\"M 327 241 652 213\" stroke=\"gray\" stroke-width=\"0.5\"/><path d=\"M 327 241 428 220\" stroke=\"gray\" stroke-width=\"0.5\"/><path d=\"M 327 241 411 20\" stroke=\"gray\" stroke-width=\"0.5\"/><path d=\"M 327 241 645 299\" stroke=\"gray\" stroke-width=\"0.5\"/><path d=\"M 327 241 585 94\" stroke=\"gray\" stroke-width=\"0.5\"/><path d=\"M 327 241 153 268\" stroke=\"gray\" stroke-width=\"0.5\"/><path d=\"M 327 241 163 520\" stroke=\"gray\" stroke-width=\"0.5\"/><path d=\"M 327 241 406 428\" stroke=\"gray\" stroke-width=\"0.5\"/><path d=\"M 327 241 604 473\" stroke=\"gray\" stroke-width=\"0.5\"/><path d=\"M 327 241 307 376\" stroke=\"gray\" stroke-width=\"0.5\"/><path d=\"M 327 241 459 136\" stroke=\"gray\" stroke-width=\"0.5\"/><path d=\"M 327 241 290 37\" stroke=\"gray\" stroke-width=\"0.5\"/><path d=\"M 327 241 392 281\" stroke=\"gray\" stroke-width=\"0.5\"/><path d=\"M 720 94 428 220\" stroke=\"gray\" stroke-width=\"0.5\"/><path d=\"M 720 94 604 473\" stroke=\"gray\" stroke-width=\"0.5\"/><path d=\"M 720 94 459 136\" stroke=\"gray\" stroke-width=\"0.5\"/><path d=\"M 720 94 290 37\" stroke=\"gray\" stroke-width=\"0.5\"/><path d=\"M 720 94 392 281\" stroke=\"gray\" stroke-width=\"0.5\"/><path d=\"M 392 281 222 149\" stroke=\"gray\" stroke-width=\"0.5\"/><path d=\"M 392 281 504 338\" stroke=\"gray\" stroke-width=\"0.5\"/><path d=\"M 392 281 136 45\" stroke=\"gray\" stroke-width=\"0.5\"/><path d=\"M 392 281 216 383\" stroke=\"gray\" stroke-width=\"0.5\"/><path d=\"M 392 281 20 200\" stroke=\"gray\" stroke-width=\"0.5\"/><path d=\"M 392 281 652 213\" stroke=\"gray\" stroke-width=\"0.5\"/><path d=\"M 392 281 428 220\" stroke=\"gray\" stroke-width=\"0.5\"/><path d=\"M 392 281 411 20\" stroke=\"gray\" stroke-width=\"0.5\"/><path d=\"M 392 281 645 299\" stroke=\"gray\" stroke-width=\"0.5\"/><path d=\"M 392 281 585 94\" stroke=\"gray\" stroke-width=\"0.5\"/><path d=\"M 392 281 153 268\" stroke=\"gray\" stroke-width=\"0.5\"/><path d=\"M 392 281 163 520\" stroke=\"gray\" stroke-width=\"0.5\"/><path d=\"M 392 281 406 428\" stroke=\"gray\" stroke-width=\"0.5\"/><path d=\"M 392 281 604 473\" stroke=\"gray\" stroke-width=\"0.5\"/><path d=\"M 392 281 307 376\" stroke=\"gray\" stroke-width=\"0.5\"/><path d=\"M 392 281 459 136\" stroke=\"gray\" stroke-width=\"0.5\"/><path d=\"M 392 281 327 241\" stroke=\"gray\" stroke-width=\"0.5\"/><path d=\"M 392 281 720 94\" stroke=\"gray\" stroke-width=\"0.5\"/><circle cx=\"222\" cy=\"149\" r=\"3.0\" style=\"fill:rgb(159, 190, 254);stroke:black;stroke-width:1.0\"/><circle cx=\"504\" cy=\"338\" r=\"3.0\" style=\"fill:rgb(205, 217, 236);stroke:black;stroke-width:1.0\"/><circle cx=\"136\" cy=\"45\" r=\"3.0\" style=\"fill:rgb(130, 165, 251);stroke:black;stroke-width:1.0\"/><circle cx=\"216\" cy=\"383\" r=\"3.0\" style=\"fill:rgb(155, 187, 254);stroke:black;stroke-width:1.0\"/><circle cx=\"20\" cy=\"200\" r=\"3.0\" style=\"fill:rgb(82, 110, 220);stroke:black;stroke-width:1.0\"/><circle cx=\"652\" cy=\"213\" r=\"3.0\" style=\"fill:rgb(127, 162, 250);stroke:black;stroke-width:1.0\"/><circle cx=\"428\" cy=\"220\" r=\"3.0\" style=\"fill:rgb(231, 117, 92);stroke:black;stroke-width:1.0\"/><circle cx=\"411\" cy=\"20\" r=\"3.0\" style=\"fill:rgb(155, 187, 254);stroke:black;stroke-width:1.0\"/><circle cx=\"645\" cy=\"299\" r=\"3.0\" style=\"fill:rgb(130, 165, 251);stroke:black;stroke-width:1.0\"/><circle cx=\"585\" cy=\"94\" r=\"3.0\" style=\"fill:rgb(103, 136, 237);stroke:black;stroke-width:1.0\"/><circle cx=\"153\" cy=\"268\" r=\"3.0\" style=\"fill:rgb(183, 207, 249);stroke:black;stroke-width:1.0\"/><circle cx=\"163\" cy=\"520\" r=\"3.0\" style=\"fill:rgb(58, 76, 192);stroke:black;stroke-width:1.0\"/><circle cx=\"406\" cy=\"428\" r=\"3.0\" style=\"fill:rgb(183, 207, 249);stroke:black;stroke-width:1.0\"/><circle cx=\"604\" cy=\"473\" r=\"3.0\" style=\"fill:rgb(82, 110, 220);stroke:black;stroke-width:1.0\"/><circle cx=\"307\" cy=\"376\" r=\"3.0\" style=\"fill:rgb(205, 217, 236);stroke:black;stroke-width:1.0\"/><circle cx=\"459\" cy=\"136\" r=\"3.0\" style=\"fill:rgb(242, 200, 179);stroke:black;stroke-width:1.0\"/><circle cx=\"290\" cy=\"37\" r=\"3.0\" style=\"fill:rgb(210, 218, 231);stroke:black;stroke-width:1.0\"/><circle cx=\"327\" cy=\"241\" r=\"3.0\" style=\"fill:rgb(182, 13, 40);stroke:black;stroke-width:1.0\"/><circle cx=\"720\" cy=\"94\" r=\"3.0\" style=\"fill:rgb(60, 79, 195);stroke:black;stroke-width:1.0\"/><circle cx=\"392\" cy=\"281\" r=\"3.0\" style=\"fill:rgb(179, 3, 38);stroke:black;stroke-width:1.0\"/><text font-size=\"10\" x=\"228\" y=\"152\">Physical neural network</text><text font-size=\"10\" x=\"510\" y=\"341\">Types of artificial neural networks</text><text font-size=\"10\" x=\"142\" y=\"48\">Quantum neural network</text><text font-size=\"10\" x=\"222\" y=\"386\">Residual neural network</text><text font-size=\"10\" x=\"26\" y=\"203\">Neural network quantum states</text><text font-size=\"10\" x=\"658\" y=\"216\">Probabilistic neural network</text><text font-size=\"10\" x=\"434\" y=\"223\">Neural network</text><text font-size=\"10\" x=\"417\" y=\"23\">Mathematics of artificial neural networks</text><text font-size=\"10\" x=\"651\" y=\"302\">Neural network software</text><text font-size=\"10\" x=\"591\" y=\"97\">Spiking neural network</text><text font-size=\"10\" x=\"159\" y=\"271\">History of artificial neural networks</text><text font-size=\"10\" x=\"169\" y=\"523\">Modern Hopfield network</text><text font-size=\"10\" x=\"412\" y=\"431\">Graph neural network</text><text font-size=\"10\" x=\"610\" y=\"476\">Recursive neural network</text><text font-size=\"10\" x=\"313\" y=\"379\">Feedforward neural network</text><text font-size=\"10\" x=\"465\" y=\"139\">Convolutional neural network</text><text font-size=\"10\" x=\"296\" y=\"40\">Rectifier (neural networks)</text><text font-size=\"10\" x=\"333\" y=\"244\">Artificial neural network</text><text font-size=\"10\" x=\"726\" y=\"97\">Semantic neural network</text><text font-size=\"10\" x=\"398\" y=\"284\">Recurrent neural network</text></svg>"
      ],
      "text/plain": [
       "<IPython.core.display.SVG object>"
      ]
     },
     "execution_count": 54,
     "metadata": {},
     "output_type": "execute_result"
    }
   ],
   "source": [
    "nodes = community_df[community_df['community']==comm_idx[0]]['node'].values\n",
    "\n",
    "G_comm = G.subgraph(nodes)\n",
    "G_net_main = G_comm.copy() # we will run community detection off of this at the end\n",
    "\n",
    "draw_graph(nx.k_core(G_comm, 5), show_names=True, node_size=3)"
   ]
  },
  {
   "cell_type": "code",
   "execution_count": 55,
   "id": "e5a2a547",
   "metadata": {},
   "outputs": [
    {
     "data": {
      "text/plain": [
       "11.37"
      ]
     },
     "execution_count": 55,
     "metadata": {},
     "output_type": "execute_result"
    }
   ],
   "source": [
    "radius = run_measure(G_comm, measure='spectral_radius')\n",
    "radius"
   ]
  },
  {
   "cell_type": "markdown",
   "id": "f9058293",
   "metadata": {},
   "source": [
    "## More Communities!"
   ]
  },
  {
   "cell_type": "code",
   "execution_count": 18,
   "id": "fa7ba783",
   "metadata": {},
   "outputs": [
    {
     "data": {
      "image/svg+xml": [
       "<svg height=\"540\" width=\"970.0\" xmlns=\"http://www.w3.org/2000/svg\"><path d=\"M 531 20 520 141\" stroke=\"gray\" stroke-width=\"0.5\"/><path d=\"M 622 42 520 141\" stroke=\"gray\" stroke-width=\"0.5\"/><path d=\"M 107 467 178 362\" stroke=\"gray\" stroke-width=\"0.5\"/><path d=\"M 306 157 428 235\" stroke=\"gray\" stroke-width=\"0.5\"/><path d=\"M 472 198 428 235\" stroke=\"gray\" stroke-width=\"0.5\"/><path d=\"M 472 198 520 141\" stroke=\"gray\" stroke-width=\"0.5\"/><path d=\"M 472 198 391 284\" stroke=\"gray\" stroke-width=\"0.5\"/><path d=\"M 310 520 309 400\" stroke=\"gray\" stroke-width=\"0.5\"/><path d=\"M 680 98 520 141\" stroke=\"gray\" stroke-width=\"0.5\"/><path d=\"M 720 273 544 274\" stroke=\"gray\" stroke-width=\"0.5\"/><path d=\"M 439 39 520 141\" stroke=\"gray\" stroke-width=\"0.5\"/><path d=\"M 428 235 306 157\" stroke=\"gray\" stroke-width=\"0.5\"/><path d=\"M 428 235 472 198\" stroke=\"gray\" stroke-width=\"0.5\"/><path d=\"M 428 235 357 325\" stroke=\"gray\" stroke-width=\"0.5\"/><path d=\"M 428 235 544 274\" stroke=\"gray\" stroke-width=\"0.5\"/><path d=\"M 428 235 520 141\" stroke=\"gray\" stroke-width=\"0.5\"/><path d=\"M 428 235 475 326\" stroke=\"gray\" stroke-width=\"0.5\"/><path d=\"M 428 235 391 284\" stroke=\"gray\" stroke-width=\"0.5\"/><path d=\"M 28 301 178 362\" stroke=\"gray\" stroke-width=\"0.5\"/><path d=\"M 357 325 428 235\" stroke=\"gray\" stroke-width=\"0.5\"/><path d=\"M 357 325 178 362\" stroke=\"gray\" stroke-width=\"0.5\"/><path d=\"M 357 325 544 274\" stroke=\"gray\" stroke-width=\"0.5\"/><path d=\"M 357 325 309 400\" stroke=\"gray\" stroke-width=\"0.5\"/><path d=\"M 357 325 391 284\" stroke=\"gray\" stroke-width=\"0.5\"/><path d=\"M 178 362 107 467\" stroke=\"gray\" stroke-width=\"0.5\"/><path d=\"M 178 362 28 301\" stroke=\"gray\" stroke-width=\"0.5\"/><path d=\"M 178 362 357 325\" stroke=\"gray\" stroke-width=\"0.5\"/><path d=\"M 178 362 25 425\" stroke=\"gray\" stroke-width=\"0.5\"/><path d=\"M 178 362 20 362\" stroke=\"gray\" stroke-width=\"0.5\"/><path d=\"M 178 362 309 400\" stroke=\"gray\" stroke-width=\"0.5\"/><path d=\"M 178 362 391 284\" stroke=\"gray\" stroke-width=\"0.5\"/><path d=\"M 682 352 544 274\" stroke=\"gray\" stroke-width=\"0.5\"/><path d=\"M 25 425 178 362\" stroke=\"gray\" stroke-width=\"0.5\"/><path d=\"M 544 274 720 273\" stroke=\"gray\" stroke-width=\"0.5\"/><path d=\"M 544 274 428 235\" stroke=\"gray\" stroke-width=\"0.5\"/><path d=\"M 544 274 357 325\" stroke=\"gray\" stroke-width=\"0.5\"/><path d=\"M 544 274 682 352\" stroke=\"gray\" stroke-width=\"0.5\"/><path d=\"M 544 274 520 141\" stroke=\"gray\" stroke-width=\"0.5\"/><path d=\"M 544 274 391 284\" stroke=\"gray\" stroke-width=\"0.5\"/><path d=\"M 20 362 178 362\" stroke=\"gray\" stroke-width=\"0.5\"/><path d=\"M 520 141 531 20\" stroke=\"gray\" stroke-width=\"0.5\"/><path d=\"M 520 141 622 42\" stroke=\"gray\" stroke-width=\"0.5\"/><path d=\"M 520 141 472 198\" stroke=\"gray\" stroke-width=\"0.5\"/><path d=\"M 520 141 680 98\" stroke=\"gray\" stroke-width=\"0.5\"/><path d=\"M 520 141 439 39\" stroke=\"gray\" stroke-width=\"0.5\"/><path d=\"M 520 141 428 235\" stroke=\"gray\" stroke-width=\"0.5\"/><path d=\"M 520 141 544 274\" stroke=\"gray\" stroke-width=\"0.5\"/><path d=\"M 520 141 391 284\" stroke=\"gray\" stroke-width=\"0.5\"/><path d=\"M 309 400 310 520\" stroke=\"gray\" stroke-width=\"0.5\"/><path d=\"M 309 400 357 325\" stroke=\"gray\" stroke-width=\"0.5\"/><path d=\"M 309 400 178 362\" stroke=\"gray\" stroke-width=\"0.5\"/><path d=\"M 309 400 391 284\" stroke=\"gray\" stroke-width=\"0.5\"/><path d=\"M 475 326 428 235\" stroke=\"gray\" stroke-width=\"0.5\"/><path d=\"M 475 326 391 284\" stroke=\"gray\" stroke-width=\"0.5\"/><path d=\"M 391 284 472 198\" stroke=\"gray\" stroke-width=\"0.5\"/><path d=\"M 391 284 428 235\" stroke=\"gray\" stroke-width=\"0.5\"/><path d=\"M 391 284 357 325\" stroke=\"gray\" stroke-width=\"0.5\"/><path d=\"M 391 284 178 362\" stroke=\"gray\" stroke-width=\"0.5\"/><path d=\"M 391 284 544 274\" stroke=\"gray\" stroke-width=\"0.5\"/><path d=\"M 391 284 520 141\" stroke=\"gray\" stroke-width=\"0.5\"/><path d=\"M 391 284 309 400\" stroke=\"gray\" stroke-width=\"0.5\"/><path d=\"M 391 284 475 326\" stroke=\"gray\" stroke-width=\"0.5\"/><circle cx=\"531\" cy=\"20\" r=\"3.0\" style=\"fill:rgb(60, 79, 195);stroke:black;stroke-width:1.0\"/><circle cx=\"622\" cy=\"42\" r=\"3.0\" style=\"fill:rgb(60, 79, 195);stroke:black;stroke-width:1.0\"/><circle cx=\"107\" cy=\"467\" r=\"3.0\" style=\"fill:rgb(64, 84, 199);stroke:black;stroke-width:1.0\"/><circle cx=\"306\" cy=\"157\" r=\"3.0\" style=\"fill:rgb(58, 76, 192);stroke:black;stroke-width:1.0\"/><circle cx=\"472\" cy=\"198\" r=\"3.0\" style=\"fill:rgb(134, 169, 252);stroke:black;stroke-width:1.0\"/><circle cx=\"310\" cy=\"520\" r=\"3.0\" style=\"fill:rgb(60, 79, 195);stroke:black;stroke-width:1.0\"/><circle cx=\"680\" cy=\"98\" r=\"3.0\" style=\"fill:rgb(60, 79, 195);stroke:black;stroke-width:1.0\"/><circle cx=\"720\" cy=\"273\" r=\"3.0\" style=\"fill:rgb(58, 76, 192);stroke:black;stroke-width:1.0\"/><circle cx=\"439\" cy=\"39\" r=\"3.0\" style=\"fill:rgb(60, 79, 195);stroke:black;stroke-width:1.0\"/><circle cx=\"428\" cy=\"235\" r=\"3.0\" style=\"fill:rgb(244, 154, 123);stroke:black;stroke-width:1.0\"/><circle cx=\"28\" cy=\"301\" r=\"3.0\" style=\"fill:rgb(64, 84, 199);stroke:black;stroke-width:1.0\"/><circle cx=\"357\" cy=\"325\" r=\"3.0\" style=\"fill:rgb(217, 220, 224);stroke:black;stroke-width:1.0\"/><circle cx=\"178\" cy=\"362\" r=\"3.0\" style=\"fill:rgb(214, 82, 67);stroke:black;stroke-width:1.0\"/><circle cx=\"682\" cy=\"352\" r=\"3.0\" style=\"fill:rgb(58, 76, 192);stroke:black;stroke-width:1.0\"/><circle cx=\"25\" cy=\"425\" r=\"3.0\" style=\"fill:rgb(64, 84, 199);stroke:black;stroke-width:1.0\"/><circle cx=\"544\" cy=\"274\" r=\"3.0\" style=\"fill:rgb(246, 183, 156);stroke:black;stroke-width:1.0\"/><circle cx=\"20\" cy=\"362\" r=\"3.0\" style=\"fill:rgb(64, 84, 199);stroke:black;stroke-width:1.0\"/><circle cx=\"520\" cy=\"141\" r=\"3.0\" style=\"fill:rgb(179, 3, 38);stroke:black;stroke-width:1.0\"/><circle cx=\"309\" cy=\"400\" r=\"3.0\" style=\"fill:rgb(193, 212, 244);stroke:black;stroke-width:1.0\"/><circle cx=\"475\" cy=\"326\" r=\"3.0\" style=\"fill:rgb(88, 118, 226);stroke:black;stroke-width:1.0\"/><circle cx=\"391\" cy=\"284\" r=\"3.0\" style=\"fill:rgb(225, 104, 82);stroke:black;stroke-width:1.0\"/><text font-size=\"10\" x=\"537\" y=\"23\">NIST Post-Quantum Cryptography Standardization</text><text font-size=\"10\" x=\"628\" y=\"45\">Lattice-based cryptography</text><text font-size=\"10\" x=\"113\" y=\"470\">Pepper (cryptography)</text><text font-size=\"10\" x=\"312\" y=\"160\">Key server (cryptographic)</text><text font-size=\"10\" x=\"478\" y=\"201\">Quantum cryptography</text><text font-size=\"10\" x=\"316\" y=\"523\">Comparison of cryptographic hash functions</text><text font-size=\"10\" x=\"686\" y=\"101\">Supersingular isogeny graph</text><text font-size=\"10\" x=\"726\" y=\"276\">Pairing-based cryptography</text><text font-size=\"10\" x=\"445\" y=\"42\">Hash-based cryptography</text><text font-size=\"10\" x=\"434\" y=\"238\">Key (cryptography)</text><text font-size=\"10\" x=\"34\" y=\"304\">Index of cryptography articles</text><text font-size=\"10\" x=\"363\" y=\"328\">Outline of cryptography</text><text font-size=\"10\" x=\"184\" y=\"365\">Salt (cryptography)</text><text font-size=\"10\" x=\"688\" y=\"355\">Hyperelliptic curve cryptography</text><text font-size=\"10\" x=\"31\" y=\"428\">Cryptographic nonce</text><text font-size=\"10\" x=\"550\" y=\"277\">Elliptic-curve cryptography</text><text font-size=\"10\" x=\"26\" y=\"365\">Padding (cryptography)</text><text font-size=\"10\" x=\"526\" y=\"144\">Post-quantum cryptography</text><text font-size=\"10\" x=\"315\" y=\"403\">Cryptographic hash function</text><text font-size=\"10\" x=\"481\" y=\"329\">Public-key cryptography</text><text font-size=\"10\" x=\"397\" y=\"287\">Cryptography</text></svg>"
      ],
      "text/plain": [
       "<IPython.core.display.SVG object>"
      ]
     },
     "execution_count": 18,
     "metadata": {},
     "output_type": "execute_result"
    }
   ],
   "source": [
    "nodes = community_df[community_df['community']==comm_idx[1]]['node'].values\n",
    "\n",
    "G_comm = G.subgraph(nodes)\n",
    "\n",
    "draw_graph(nx.k_core(G_comm, 1), show_names=True, node_size=3)"
   ]
  },
  {
   "cell_type": "code",
   "execution_count": 19,
   "id": "e7004311",
   "metadata": {},
   "outputs": [
    {
     "name": "stdout",
     "output_type": "stream",
     "text": [
      "Comparison of cryptographic hash functions\n",
      "Cryptographic hash function\n",
      "Cryptographic key types\n",
      "Cryptographic nonce\n",
      "Cryptography\n",
      "Elliptic-curve cryptography\n",
      "Hash-based cryptography\n",
      "Homomorphic signatures for network coding\n",
      "Hyperelliptic curve cryptography\n",
      "Index of cryptography articles\n",
      "Key (cryptography)\n",
      "Key server (cryptographic)\n",
      "Lattice-based cryptography\n",
      "List of cryptographers\n",
      "NIST Post-Quantum Cryptography Standardization\n",
      "Outline of cryptography\n",
      "Padding (cryptography)\n",
      "Pairing-based cryptography\n",
      "Pepper (cryptography)\n",
      "Post-quantum cryptography\n",
      "Public-key cryptography\n",
      "Quantum cryptography\n",
      "Salt (cryptography)\n",
      "Supersingular isogeny graph\n"
     ]
    },
    {
     "data": {
      "text/plain": [
       "[None,\n",
       " None,\n",
       " None,\n",
       " None,\n",
       " None,\n",
       " None,\n",
       " None,\n",
       " None,\n",
       " None,\n",
       " None,\n",
       " None,\n",
       " None,\n",
       " None,\n",
       " None,\n",
       " None,\n",
       " None,\n",
       " None,\n",
       " None,\n",
       " None,\n",
       " None,\n",
       " None,\n",
       " None,\n",
       " None,\n",
       " None]"
      ]
     },
     "execution_count": 19,
     "metadata": {},
     "output_type": "execute_result"
    }
   ],
   "source": [
    "[print(n) for n in sorted(G_comm.nodes)]"
   ]
  },
  {
   "cell_type": "code",
   "execution_count": 20,
   "id": "f6df5bb6",
   "metadata": {},
   "outputs": [
    {
     "data": {
      "image/svg+xml": [
       "<svg height=\"540\" width=\"880.0\" xmlns=\"http://www.w3.org/2000/svg\"><path d=\"M 375 365 263 256\" stroke=\"gray\" stroke-width=\"0.5\"/><path d=\"M 375 365 171 373\" stroke=\"gray\" stroke-width=\"0.5\"/><path d=\"M 375 365 251 425\" stroke=\"gray\" stroke-width=\"0.5\"/><path d=\"M 375 365 423 300\" stroke=\"gray\" stroke-width=\"0.5\"/><path d=\"M 375 365 543 251\" stroke=\"gray\" stroke-width=\"0.5\"/><path d=\"M 375 365 605 423\" stroke=\"gray\" stroke-width=\"0.5\"/><path d=\"M 197 314 251 425\" stroke=\"gray\" stroke-width=\"0.5\"/><path d=\"M 197 314 423 300\" stroke=\"gray\" stroke-width=\"0.5\"/><path d=\"M 197 314 327 304\" stroke=\"gray\" stroke-width=\"0.5\"/><path d=\"M 720 20 550 167\" stroke=\"gray\" stroke-width=\"0.5\"/><path d=\"M 361 520 520 467\" stroke=\"gray\" stroke-width=\"0.5\"/><path d=\"M 361 520 327 304\" stroke=\"gray\" stroke-width=\"0.5\"/><path d=\"M 443 435 251 425\" stroke=\"gray\" stroke-width=\"0.5\"/><path d=\"M 443 435 327 304\" stroke=\"gray\" stroke-width=\"0.5\"/><path d=\"M 443 435 605 351\" stroke=\"gray\" stroke-width=\"0.5\"/><path d=\"M 443 435 605 423\" stroke=\"gray\" stroke-width=\"0.5\"/><path d=\"M 20 291 263 256\" stroke=\"gray\" stroke-width=\"0.5\"/><path d=\"M 20 291 171 373\" stroke=\"gray\" stroke-width=\"0.5\"/><path d=\"M 263 256 375 365\" stroke=\"gray\" stroke-width=\"0.5\"/><path d=\"M 263 256 20 291\" stroke=\"gray\" stroke-width=\"0.5\"/><path d=\"M 263 256 423 300\" stroke=\"gray\" stroke-width=\"0.5\"/><path d=\"M 263 256 507 317\" stroke=\"gray\" stroke-width=\"0.5\"/><path d=\"M 171 373 375 365\" stroke=\"gray\" stroke-width=\"0.5\"/><path d=\"M 171 373 20 291\" stroke=\"gray\" stroke-width=\"0.5\"/><path d=\"M 171 373 251 425\" stroke=\"gray\" stroke-width=\"0.5\"/><path d=\"M 171 373 423 300\" stroke=\"gray\" stroke-width=\"0.5\"/><path d=\"M 251 425 375 365\" stroke=\"gray\" stroke-width=\"0.5\"/><path d=\"M 251 425 197 314\" stroke=\"gray\" stroke-width=\"0.5\"/><path d=\"M 251 425 443 435\" stroke=\"gray\" stroke-width=\"0.5\"/><path d=\"M 251 425 171 373\" stroke=\"gray\" stroke-width=\"0.5\"/><path d=\"M 251 425 327 304\" stroke=\"gray\" stroke-width=\"0.5\"/><path d=\"M 520 467 361 520\" stroke=\"gray\" stroke-width=\"0.5\"/><path d=\"M 520 467 423 300\" stroke=\"gray\" stroke-width=\"0.5\"/><path d=\"M 520 467 507 317\" stroke=\"gray\" stroke-width=\"0.5\"/><path d=\"M 520 467 605 423\" stroke=\"gray\" stroke-width=\"0.5\"/><path d=\"M 423 300 375 365\" stroke=\"gray\" stroke-width=\"0.5\"/><path d=\"M 423 300 197 314\" stroke=\"gray\" stroke-width=\"0.5\"/><path d=\"M 423 300 263 256\" stroke=\"gray\" stroke-width=\"0.5\"/><path d=\"M 423 300 171 373\" stroke=\"gray\" stroke-width=\"0.5\"/><path d=\"M 423 300 520 467\" stroke=\"gray\" stroke-width=\"0.5\"/><path d=\"M 423 300 507 317\" stroke=\"gray\" stroke-width=\"0.5\"/><path d=\"M 423 300 543 251\" stroke=\"gray\" stroke-width=\"0.5\"/><path d=\"M 423 300 638 278\" stroke=\"gray\" stroke-width=\"0.5\"/><path d=\"M 423 300 550 167\" stroke=\"gray\" stroke-width=\"0.5\"/><path d=\"M 423 300 327 304\" stroke=\"gray\" stroke-width=\"0.5\"/><path d=\"M 423 300 605 351\" stroke=\"gray\" stroke-width=\"0.5\"/><path d=\"M 507 317 263 256\" stroke=\"gray\" stroke-width=\"0.5\"/><path d=\"M 507 317 520 467\" stroke=\"gray\" stroke-width=\"0.5\"/><path d=\"M 507 317 423 300\" stroke=\"gray\" stroke-width=\"0.5\"/><path d=\"M 507 317 543 251\" stroke=\"gray\" stroke-width=\"0.5\"/><path d=\"M 507 317 638 278\" stroke=\"gray\" stroke-width=\"0.5\"/><path d=\"M 507 317 605 351\" stroke=\"gray\" stroke-width=\"0.5\"/><path d=\"M 543 251 375 365\" stroke=\"gray\" stroke-width=\"0.5\"/><path d=\"M 543 251 423 300\" stroke=\"gray\" stroke-width=\"0.5\"/><path d=\"M 543 251 507 317\" stroke=\"gray\" stroke-width=\"0.5\"/><path d=\"M 543 251 638 278\" stroke=\"gray\" stroke-width=\"0.5\"/><path d=\"M 543 251 550 167\" stroke=\"gray\" stroke-width=\"0.5\"/><path d=\"M 543 251 605 351\" stroke=\"gray\" stroke-width=\"0.5\"/><path d=\"M 638 278 423 300\" stroke=\"gray\" stroke-width=\"0.5\"/><path d=\"M 638 278 507 317\" stroke=\"gray\" stroke-width=\"0.5\"/><path d=\"M 638 278 543 251\" stroke=\"gray\" stroke-width=\"0.5\"/><path d=\"M 638 278 550 167\" stroke=\"gray\" stroke-width=\"0.5\"/><path d=\"M 638 278 605 351\" stroke=\"gray\" stroke-width=\"0.5\"/><path d=\"M 638 278 605 423\" stroke=\"gray\" stroke-width=\"0.5\"/><path d=\"M 550 167 720 20\" stroke=\"gray\" stroke-width=\"0.5\"/><path d=\"M 550 167 423 300\" stroke=\"gray\" stroke-width=\"0.5\"/><path d=\"M 550 167 543 251\" stroke=\"gray\" stroke-width=\"0.5\"/><path d=\"M 550 167 638 278\" stroke=\"gray\" stroke-width=\"0.5\"/><path d=\"M 550 167 327 304\" stroke=\"gray\" stroke-width=\"0.5\"/><path d=\"M 327 304 197 314\" stroke=\"gray\" stroke-width=\"0.5\"/><path d=\"M 327 304 361 520\" stroke=\"gray\" stroke-width=\"0.5\"/><path d=\"M 327 304 443 435\" stroke=\"gray\" stroke-width=\"0.5\"/><path d=\"M 327 304 251 425\" stroke=\"gray\" stroke-width=\"0.5\"/><path d=\"M 327 304 423 300\" stroke=\"gray\" stroke-width=\"0.5\"/><path d=\"M 327 304 550 167\" stroke=\"gray\" stroke-width=\"0.5\"/><path d=\"M 327 304 165 131\" stroke=\"gray\" stroke-width=\"0.5\"/><path d=\"M 605 351 443 435\" stroke=\"gray\" stroke-width=\"0.5\"/><path d=\"M 605 351 423 300\" stroke=\"gray\" stroke-width=\"0.5\"/><path d=\"M 605 351 507 317\" stroke=\"gray\" stroke-width=\"0.5\"/><path d=\"M 605 351 543 251\" stroke=\"gray\" stroke-width=\"0.5\"/><path d=\"M 605 351 638 278\" stroke=\"gray\" stroke-width=\"0.5\"/><path d=\"M 605 351 605 423\" stroke=\"gray\" stroke-width=\"0.5\"/><path d=\"M 165 131 327 304\" stroke=\"gray\" stroke-width=\"0.5\"/><path d=\"M 605 423 375 365\" stroke=\"gray\" stroke-width=\"0.5\"/><path d=\"M 605 423 443 435\" stroke=\"gray\" stroke-width=\"0.5\"/><path d=\"M 605 423 520 467\" stroke=\"gray\" stroke-width=\"0.5\"/><path d=\"M 605 423 638 278\" stroke=\"gray\" stroke-width=\"0.5\"/><path d=\"M 605 423 605 351\" stroke=\"gray\" stroke-width=\"0.5\"/><circle cx=\"375\" cy=\"365\" r=\"3.0\" style=\"fill:rgb(217, 220, 224);stroke:black;stroke-width:1.0\"/><circle cx=\"197\" cy=\"314\" r=\"3.0\" style=\"fill:rgb(120, 155, 247);stroke:black;stroke-width:1.0\"/><circle cx=\"720\" cy=\"20\" r=\"3.0\" style=\"fill:rgb(58, 76, 192);stroke:black;stroke-width:1.0\"/><circle cx=\"361\" cy=\"520\" r=\"3.0\" style=\"fill:rgb(88, 118, 226);stroke:black;stroke-width:1.0\"/><circle cx=\"443\" cy=\"435\" r=\"3.0\" style=\"fill:rgb(155, 187, 254);stroke:black;stroke-width:1.0\"/><circle cx=\"20\" cy=\"291\" r=\"3.0\" style=\"fill:rgb(88, 118, 226);stroke:black;stroke-width:1.0\"/><circle cx=\"263\" cy=\"256\" r=\"3.0\" style=\"fill:rgb(155, 187, 254);stroke:black;stroke-width:1.0\"/><circle cx=\"171\" cy=\"373\" r=\"3.0\" style=\"fill:rgb(159, 190, 254);stroke:black;stroke-width:1.0\"/><circle cx=\"251\" cy=\"425\" r=\"3.0\" style=\"fill:rgb(193, 212, 244);stroke:black;stroke-width:1.0\"/><circle cx=\"520\" cy=\"467\" r=\"3.0\" style=\"fill:rgb(155, 187, 254);stroke:black;stroke-width:1.0\"/><circle cx=\"423\" cy=\"300\" r=\"3.0\" style=\"fill:rgb(179, 3, 38);stroke:black;stroke-width:1.0\"/><circle cx=\"507\" cy=\"317\" r=\"3.0\" style=\"fill:rgb(210, 218, 231);stroke:black;stroke-width:1.0\"/><circle cx=\"543\" cy=\"251\" r=\"3.0\" style=\"fill:rgb(210, 218, 231);stroke:black;stroke-width:1.0\"/><circle cx=\"638\" cy=\"278\" r=\"3.0\" style=\"fill:rgb(210, 218, 231);stroke:black;stroke-width:1.0\"/><circle cx=\"550\" cy=\"167\" r=\"3.0\" style=\"fill:rgb(202, 216, 238);stroke:black;stroke-width:1.0\"/><circle cx=\"327\" cy=\"304\" r=\"3.0\" style=\"fill:rgb(247, 177, 148);stroke:black;stroke-width:1.0\"/><circle cx=\"605\" cy=\"351\" r=\"3.0\" style=\"fill:rgb(210, 218, 231);stroke:black;stroke-width:1.0\"/><circle cx=\"165\" cy=\"131\" r=\"3.0\" style=\"fill:rgb(58, 76, 192);stroke:black;stroke-width:1.0\"/><circle cx=\"605\" cy=\"423\" r=\"3.0\" style=\"fill:rgb(183, 207, 249);stroke:black;stroke-width:1.0\"/><text font-size=\"10\" x=\"381\" y=\"368\">Interval graph</text><text font-size=\"10\" x=\"203\" y=\"317\">Split (graph theory)</text><text font-size=\"10\" x=\"726\" y=\"23\">Parity graph</text><text font-size=\"10\" x=\"367\" y=\"523\">Cograph</text><text font-size=\"10\" x=\"449\" y=\"438\">Sachs subgraph</text><text font-size=\"10\" x=\"26\" y=\"294\">Threshold graph</text><text font-size=\"10\" x=\"269\" y=\"259\">Trivially perfect graph</text><text font-size=\"10\" x=\"177\" y=\"376\">Indifference graph</text><text font-size=\"10\" x=\"257\" y=\"428\">Circle graph</text><text font-size=\"10\" x=\"526\" y=\"470\">Complement graph</text><text font-size=\"10\" x=\"429\" y=\"303\">Perfect graph</text><text font-size=\"10\" x=\"513\" y=\"320\">Perfect graph theorem</text><text font-size=\"10\" x=\"549\" y=\"254\">Line perfect graph</text><text font-size=\"10\" x=\"644\" y=\"281\">Strong perfect graph theorem</text><text font-size=\"10\" x=\"556\" y=\"170\">Meyniel graph</text><text font-size=\"10\" x=\"333\" y=\"307\">Distance-hereditary graph</text><text font-size=\"10\" x=\"611\" y=\"354\">Line graph</text><text font-size=\"10\" x=\"171\" y=\"134\">Ptolemaic graph</text><text font-size=\"10\" x=\"611\" y=\"426\">Claw-free graph</text></svg>"
      ],
      "text/plain": [
       "<IPython.core.display.SVG object>"
      ]
     },
     "execution_count": 20,
     "metadata": {},
     "output_type": "execute_result"
    }
   ],
   "source": [
    "nodes = community_df[community_df['community']==comm_idx[2]]['node'].values\n",
    "\n",
    "G_comm = G.subgraph(nodes)\n",
    "\n",
    "draw_graph(nx.k_core(G_comm, 1), show_names=True, node_size=3)"
   ]
  },
  {
   "cell_type": "code",
   "execution_count": 21,
   "id": "e74c337d",
   "metadata": {
    "scrolled": false
   },
   "outputs": [
    {
     "name": "stdout",
     "output_type": "stream",
     "text": [
      "Circle graph\n",
      "Claw-free graph\n",
      "Cograph\n",
      "Complement graph\n",
      "Distance-hereditary graph\n",
      "Indifference graph\n",
      "Interval graph\n",
      "Line graph\n",
      "Line perfect graph\n",
      "Meyniel graph\n",
      "Parity graph\n",
      "Perfect graph\n",
      "Perfect graph theorem\n",
      "Ptolemaic graph\n",
      "Sachs subgraph\n",
      "Split (graph theory)\n",
      "Strong perfect graph theorem\n",
      "Threshold graph\n",
      "Trivially perfect graph\n"
     ]
    },
    {
     "data": {
      "text/plain": [
       "[None,\n",
       " None,\n",
       " None,\n",
       " None,\n",
       " None,\n",
       " None,\n",
       " None,\n",
       " None,\n",
       " None,\n",
       " None,\n",
       " None,\n",
       " None,\n",
       " None,\n",
       " None,\n",
       " None,\n",
       " None,\n",
       " None,\n",
       " None,\n",
       " None]"
      ]
     },
     "execution_count": 21,
     "metadata": {},
     "output_type": "execute_result"
    }
   ],
   "source": [
    "[print(n) for n in sorted(G_comm.nodes)]"
   ]
  },
  {
   "cell_type": "code",
   "execution_count": 22,
   "id": "5976ee88",
   "metadata": {},
   "outputs": [
    {
     "data": {
      "image/svg+xml": [
       "<svg height=\"540\" width=\"870.0\" xmlns=\"http://www.w3.org/2000/svg\"><path d=\"M 161 201 105 20\" stroke=\"gray\" stroke-width=\"0.5\"/><path d=\"M 161 201 344 187\" stroke=\"gray\" stroke-width=\"0.5\"/><path d=\"M 161 201 32 108\" stroke=\"gray\" stroke-width=\"0.5\"/><path d=\"M 161 201 20 237\" stroke=\"gray\" stroke-width=\"0.5\"/><path d=\"M 161 201 76 338\" stroke=\"gray\" stroke-width=\"0.5\"/><path d=\"M 161 201 317 327\" stroke=\"gray\" stroke-width=\"0.5\"/><path d=\"M 720 354 584 344\" stroke=\"gray\" stroke-width=\"0.5\"/><path d=\"M 450 135 447 223\" stroke=\"gray\" stroke-width=\"0.5\"/><path d=\"M 450 135 344 187\" stroke=\"gray\" stroke-width=\"0.5\"/><path d=\"M 450 135 417 60\" stroke=\"gray\" stroke-width=\"0.5\"/><path d=\"M 450 135 446 294\" stroke=\"gray\" stroke-width=\"0.5\"/><path d=\"M 584 344 720 354\" stroke=\"gray\" stroke-width=\"0.5\"/><path d=\"M 584 344 447 223\" stroke=\"gray\" stroke-width=\"0.5\"/><path d=\"M 584 344 446 294\" stroke=\"gray\" stroke-width=\"0.5\"/><path d=\"M 584 344 663 497\" stroke=\"gray\" stroke-width=\"0.5\"/><path d=\"M 447 223 450 135\" stroke=\"gray\" stroke-width=\"0.5\"/><path d=\"M 447 223 584 344\" stroke=\"gray\" stroke-width=\"0.5\"/><path d=\"M 447 223 344 187\" stroke=\"gray\" stroke-width=\"0.5\"/><path d=\"M 447 223 417 60\" stroke=\"gray\" stroke-width=\"0.5\"/><path d=\"M 447 223 317 327\" stroke=\"gray\" stroke-width=\"0.5\"/><path d=\"M 345 520 317 327\" stroke=\"gray\" stroke-width=\"0.5\"/><path d=\"M 105 20 161 201\" stroke=\"gray\" stroke-width=\"0.5\"/><path d=\"M 249 494 317 327\" stroke=\"gray\" stroke-width=\"0.5\"/><path d=\"M 344 187 161 201\" stroke=\"gray\" stroke-width=\"0.5\"/><path d=\"M 344 187 450 135\" stroke=\"gray\" stroke-width=\"0.5\"/><path d=\"M 344 187 447 223\" stroke=\"gray\" stroke-width=\"0.5\"/><path d=\"M 344 187 417 60\" stroke=\"gray\" stroke-width=\"0.5\"/><path d=\"M 344 187 446 294\" stroke=\"gray\" stroke-width=\"0.5\"/><path d=\"M 344 187 317 327\" stroke=\"gray\" stroke-width=\"0.5\"/><path d=\"M 417 60 450 135\" stroke=\"gray\" stroke-width=\"0.5\"/><path d=\"M 417 60 447 223\" stroke=\"gray\" stroke-width=\"0.5\"/><path d=\"M 417 60 344 187\" stroke=\"gray\" stroke-width=\"0.5\"/><path d=\"M 32 108 161 201\" stroke=\"gray\" stroke-width=\"0.5\"/><path d=\"M 20 237 161 201\" stroke=\"gray\" stroke-width=\"0.5\"/><path d=\"M 76 338 161 201\" stroke=\"gray\" stroke-width=\"0.5\"/><path d=\"M 446 294 450 135\" stroke=\"gray\" stroke-width=\"0.5\"/><path d=\"M 446 294 584 344\" stroke=\"gray\" stroke-width=\"0.5\"/><path d=\"M 446 294 344 187\" stroke=\"gray\" stroke-width=\"0.5\"/><path d=\"M 446 294 317 327\" stroke=\"gray\" stroke-width=\"0.5\"/><path d=\"M 663 497 584 344\" stroke=\"gray\" stroke-width=\"0.5\"/><path d=\"M 317 327 161 201\" stroke=\"gray\" stroke-width=\"0.5\"/><path d=\"M 317 327 447 223\" stroke=\"gray\" stroke-width=\"0.5\"/><path d=\"M 317 327 345 520\" stroke=\"gray\" stroke-width=\"0.5\"/><path d=\"M 317 327 249 494\" stroke=\"gray\" stroke-width=\"0.5\"/><path d=\"M 317 327 344 187\" stroke=\"gray\" stroke-width=\"0.5\"/><path d=\"M 317 327 446 294\" stroke=\"gray\" stroke-width=\"0.5\"/><circle cx=\"161\" cy=\"201\" r=\"3.0\" style=\"fill:rgb(179, 3, 38);stroke:black;stroke-width:1.0\"/><circle cx=\"720\" cy=\"354\" r=\"3.0\" style=\"fill:rgb(60, 79, 195);stroke:black;stroke-width:1.0\"/><circle cx=\"450\" cy=\"135\" r=\"3.0\" style=\"fill:rgb(193, 212, 244);stroke:black;stroke-width:1.0\"/><circle cx=\"584\" cy=\"344\" r=\"3.0\" style=\"fill:rgb(230, 215, 207);stroke:black;stroke-width:1.0\"/><circle cx=\"447\" cy=\"223\" r=\"3.0\" style=\"fill:rgb(237, 207, 192);stroke:black;stroke-width:1.0\"/><circle cx=\"345\" cy=\"520\" r=\"3.0\" style=\"fill:rgb(58, 76, 192);stroke:black;stroke-width:1.0\"/><circle cx=\"105\" cy=\"20\" r=\"3.0\" style=\"fill:rgb(66, 88, 202);stroke:black;stroke-width:1.0\"/><circle cx=\"249\" cy=\"494\" r=\"3.0\" style=\"fill:rgb(58, 76, 192);stroke:black;stroke-width:1.0\"/><circle cx=\"344\" cy=\"187\" r=\"3.0\" style=\"fill:rgb(245, 158, 127);stroke:black;stroke-width:1.0\"/><circle cx=\"417\" cy=\"60\" r=\"3.0\" style=\"fill:rgb(141, 175, 253);stroke:black;stroke-width:1.0\"/><circle cx=\"32\" cy=\"108\" r=\"3.0\" style=\"fill:rgb(66, 88, 202);stroke:black;stroke-width:1.0\"/><circle cx=\"20\" cy=\"237\" r=\"3.0\" style=\"fill:rgb(66, 88, 202);stroke:black;stroke-width:1.0\"/><circle cx=\"76\" cy=\"338\" r=\"3.0\" style=\"fill:rgb(66, 88, 202);stroke:black;stroke-width:1.0\"/><circle cx=\"446\" cy=\"294\" r=\"3.0\" style=\"fill:rgb(205, 217, 236);stroke:black;stroke-width:1.0\"/><circle cx=\"663\" cy=\"497\" r=\"3.0\" style=\"fill:rgb(60, 79, 195);stroke:black;stroke-width:1.0\"/><circle cx=\"317\" cy=\"327\" r=\"3.0\" style=\"fill:rgb(227, 108, 84);stroke:black;stroke-width:1.0\"/><text font-size=\"10\" x=\"167\" y=\"204\">Generalized Petersen graph</text><text font-size=\"10\" x=\"726\" y=\"357\">Toroidal graph</text><text font-size=\"10\" x=\"456\" y=\"138\">Snark (graph theory)</text><text font-size=\"10\" x=\"590\" y=\"347\">Heawood graph</text><text font-size=\"10\" x=\"453\" y=\"226\">List of graphs</text><text font-size=\"10\" x=\"351\" y=\"523\">Kneser graph</text><text font-size=\"10\" x=\"111\" y=\"23\">Dürer graph</text><text font-size=\"10\" x=\"255\" y=\"497\">Levi graph</text><text font-size=\"10\" x=\"350\" y=\"190\">Petersen graph</text><text font-size=\"10\" x=\"423\" y=\"63\">Star (graph theory)</text><text font-size=\"10\" x=\"38\" y=\"111\">Nauru graph</text><text font-size=\"10\" x=\"26\" y=\"240\">Möbius–Kantor graph</text><text font-size=\"10\" x=\"82\" y=\"341\">Uniquely colorable graph</text><text font-size=\"10\" x=\"452\" y=\"297\">Cubic graph</text><text font-size=\"10\" x=\"669\" y=\"500\">Hoffman–Singleton graph</text><text font-size=\"10\" x=\"323\" y=\"330\">Desargues graph</text></svg>"
      ],
      "text/plain": [
       "<IPython.core.display.SVG object>"
      ]
     },
     "execution_count": 22,
     "metadata": {},
     "output_type": "execute_result"
    }
   ],
   "source": [
    "nodes = community_df[community_df['community']==comm_idx[3]]['node'].values\n",
    "\n",
    "G_comm = G.subgraph(nodes)\n",
    "\n",
    "draw_graph(nx.k_core(G_comm, 1), show_names=True, node_size=3)"
   ]
  },
  {
   "cell_type": "code",
   "execution_count": 23,
   "id": "4cf747cc",
   "metadata": {
    "scrolled": true
   },
   "outputs": [
    {
     "name": "stdout",
     "output_type": "stream",
     "text": [
      "Cartesian product of graphs\n",
      "Cubic graph\n",
      "Desargues graph\n",
      "Dürer graph\n",
      "Factor graph\n",
      "Generalized Petersen graph\n",
      "Heawood graph\n",
      "Hoffman–Singleton graph\n",
      "Kneser graph\n",
      "Levi graph\n",
      "List of graphs\n",
      "Möbius–Kantor graph\n",
      "Nauru graph\n",
      "Petersen graph\n",
      "Snark (graph theory)\n",
      "Star (graph theory)\n",
      "Toroidal graph\n",
      "Uniquely colorable graph\n"
     ]
    },
    {
     "data": {
      "text/plain": [
       "[None,\n",
       " None,\n",
       " None,\n",
       " None,\n",
       " None,\n",
       " None,\n",
       " None,\n",
       " None,\n",
       " None,\n",
       " None,\n",
       " None,\n",
       " None,\n",
       " None,\n",
       " None,\n",
       " None,\n",
       " None,\n",
       " None,\n",
       " None]"
      ]
     },
     "execution_count": 23,
     "metadata": {},
     "output_type": "execute_result"
    }
   ],
   "source": [
    "[print(n) for n in sorted(G_comm.nodes)]"
   ]
  },
  {
   "cell_type": "code",
   "execution_count": 24,
   "id": "6e03a80c",
   "metadata": {},
   "outputs": [
    {
     "data": {
      "image/svg+xml": [
       "<svg height=\"540\" width=\"1000.0\" xmlns=\"http://www.w3.org/2000/svg\"><path d=\"M 541 188 412 196\" stroke=\"gray\" stroke-width=\"0.5\"/><path d=\"M 541 188 496 279\" stroke=\"gray\" stroke-width=\"0.5\"/><path d=\"M 541 188 512 125\" stroke=\"gray\" stroke-width=\"0.5\"/><path d=\"M 360 319 243 241\" stroke=\"gray\" stroke-width=\"0.5\"/><path d=\"M 360 319 496 279\" stroke=\"gray\" stroke-width=\"0.5\"/><path d=\"M 360 319 453 406\" stroke=\"gray\" stroke-width=\"0.5\"/><path d=\"M 412 196 541 188\" stroke=\"gray\" stroke-width=\"0.5\"/><path d=\"M 412 196 243 241\" stroke=\"gray\" stroke-width=\"0.5\"/><path d=\"M 412 196 496 279\" stroke=\"gray\" stroke-width=\"0.5\"/><path d=\"M 412 196 512 125\" stroke=\"gray\" stroke-width=\"0.5\"/><path d=\"M 72 170 243 241\" stroke=\"gray\" stroke-width=\"0.5\"/><path d=\"M 621 28 512 125\" stroke=\"gray\" stroke-width=\"0.5\"/><path d=\"M 719 320 496 279\" stroke=\"gray\" stroke-width=\"0.5\"/><path d=\"M 448 20 512 125\" stroke=\"gray\" stroke-width=\"0.5\"/><path d=\"M 243 241 360 319\" stroke=\"gray\" stroke-width=\"0.5\"/><path d=\"M 243 241 412 196\" stroke=\"gray\" stroke-width=\"0.5\"/><path d=\"M 243 241 72 170\" stroke=\"gray\" stroke-width=\"0.5\"/><path d=\"M 243 241 496 279\" stroke=\"gray\" stroke-width=\"0.5\"/><path d=\"M 243 241 20 249\" stroke=\"gray\" stroke-width=\"0.5\"/><path d=\"M 720 252 496 279\" stroke=\"gray\" stroke-width=\"0.5\"/><path d=\"M 496 279 541 188\" stroke=\"gray\" stroke-width=\"0.5\"/><path d=\"M 496 279 360 319\" stroke=\"gray\" stroke-width=\"0.5\"/><path d=\"M 496 279 412 196\" stroke=\"gray\" stroke-width=\"0.5\"/><path d=\"M 496 279 719 320\" stroke=\"gray\" stroke-width=\"0.5\"/><path d=\"M 496 279 243 241\" stroke=\"gray\" stroke-width=\"0.5\"/><path d=\"M 496 279 720 252\" stroke=\"gray\" stroke-width=\"0.5\"/><path d=\"M 496 279 453 406\" stroke=\"gray\" stroke-width=\"0.5\"/><path d=\"M 496 279 630 369\" stroke=\"gray\" stroke-width=\"0.5\"/><path d=\"M 496 279 512 125\" stroke=\"gray\" stroke-width=\"0.5\"/><path d=\"M 496 279 328 365\" stroke=\"gray\" stroke-width=\"0.5\"/><path d=\"M 453 406 360 319\" stroke=\"gray\" stroke-width=\"0.5\"/><path d=\"M 453 406 496 279\" stroke=\"gray\" stroke-width=\"0.5\"/><path d=\"M 453 406 469 520\" stroke=\"gray\" stroke-width=\"0.5\"/><path d=\"M 469 520 453 406\" stroke=\"gray\" stroke-width=\"0.5\"/><path d=\"M 630 369 496 279\" stroke=\"gray\" stroke-width=\"0.5\"/><path d=\"M 20 249 243 241\" stroke=\"gray\" stroke-width=\"0.5\"/><path d=\"M 512 125 541 188\" stroke=\"gray\" stroke-width=\"0.5\"/><path d=\"M 512 125 412 196\" stroke=\"gray\" stroke-width=\"0.5\"/><path d=\"M 512 125 621 28\" stroke=\"gray\" stroke-width=\"0.5\"/><path d=\"M 512 125 448 20\" stroke=\"gray\" stroke-width=\"0.5\"/><path d=\"M 512 125 496 279\" stroke=\"gray\" stroke-width=\"0.5\"/><path d=\"M 328 365 496 279\" stroke=\"gray\" stroke-width=\"0.5\"/><circle cx=\"541\" cy=\"188\" r=\"3.0\" style=\"fill:rgb(120, 155, 247);stroke:black;stroke-width:1.0\"/><circle cx=\"360\" cy=\"319\" r=\"3.0\" style=\"fill:rgb(123, 158, 248);stroke:black;stroke-width:1.0\"/><circle cx=\"412\" cy=\"196\" r=\"3.0\" style=\"fill:rgb(155, 187, 254);stroke:black;stroke-width:1.0\"/><circle cx=\"72\" cy=\"170\" r=\"3.0\" style=\"fill:rgb(58, 76, 192);stroke:black;stroke-width:1.0\"/><circle cx=\"621\" cy=\"28\" r=\"3.0\" style=\"fill:rgb(58, 76, 192);stroke:black;stroke-width:1.0\"/><circle cx=\"719\" cy=\"320\" r=\"3.0\" style=\"fill:rgb(58, 76, 192);stroke:black;stroke-width:1.0\"/><circle cx=\"448\" cy=\"20\" r=\"3.0\" style=\"fill:rgb(58, 76, 192);stroke:black;stroke-width:1.0\"/><circle cx=\"243\" cy=\"241\" r=\"3.0\" style=\"fill:rgb(205, 217, 236);stroke:black;stroke-width:1.0\"/><circle cx=\"720\" cy=\"252\" r=\"3.0\" style=\"fill:rgb(58, 76, 192);stroke:black;stroke-width:1.0\"/><circle cx=\"496\" cy=\"279\" r=\"3.0\" style=\"fill:rgb(179, 3, 38);stroke:black;stroke-width:1.0\"/><circle cx=\"453\" cy=\"406\" r=\"3.0\" style=\"fill:rgb(134, 169, 252);stroke:black;stroke-width:1.0\"/><circle cx=\"469\" cy=\"520\" r=\"3.0\" style=\"fill:rgb(58, 76, 192);stroke:black;stroke-width:1.0\"/><circle cx=\"630\" cy=\"369\" r=\"3.0\" style=\"fill:rgb(58, 76, 192);stroke:black;stroke-width:1.0\"/><circle cx=\"20\" cy=\"249\" r=\"3.0\" style=\"fill:rgb(58, 76, 192);stroke:black;stroke-width:1.0\"/><circle cx=\"512\" cy=\"125\" r=\"3.0\" style=\"fill:rgb(202, 216, 238);stroke:black;stroke-width:1.0\"/><circle cx=\"328\" cy=\"365\" r=\"3.0\" style=\"fill:rgb(58, 76, 192);stroke:black;stroke-width:1.0\"/><text font-size=\"10\" x=\"547\" y=\"191\">Cognitive neuroscience</text><text font-size=\"10\" x=\"366\" y=\"322\">Systems neuroscience</text><text font-size=\"10\" x=\"418\" y=\"199\">Computational neuroscience</text><text font-size=\"10\" x=\"78\" y=\"173\">Dorsal attention network</text><text font-size=\"10\" x=\"627\" y=\"31\">Journal of Integrative Neuroscience</text><text font-size=\"10\" x=\"725\" y=\"323\">Social neuroscience</text><text font-size=\"10\" x=\"454\" y=\"23\">Werner Reichardt Centre for Integrative Neuroscience</text><text font-size=\"10\" x=\"249\" y=\"244\">Network neuroscience</text><text font-size=\"10\" x=\"726\" y=\"255\">Behavioral neuroscience</text><text font-size=\"10\" x=\"502\" y=\"282\">Neuroscience</text><text font-size=\"10\" x=\"459\" y=\"409\">Molecular neuroscience</text><text font-size=\"10\" x=\"475\" y=\"523\">Journal of Molecular Neuroscience</text><text font-size=\"10\" x=\"636\" y=\"372\">Neuroscience of religion</text><text font-size=\"10\" x=\"26\" y=\"252\">Default mode network</text><text font-size=\"10\" x=\"518\" y=\"128\">Integrative neuroscience</text><text font-size=\"10\" x=\"334\" y=\"368\">Affective neuroscience</text></svg>"
      ],
      "text/plain": [
       "<IPython.core.display.SVG object>"
      ]
     },
     "execution_count": 24,
     "metadata": {},
     "output_type": "execute_result"
    }
   ],
   "source": [
    "nodes = community_df[community_df['community']==comm_idx[4]]['node'].values\n",
    "\n",
    "G_comm = G.subgraph(nodes)\n",
    "\n",
    "draw_graph(nx.k_core(G_comm, 1), show_names=True, node_size=3)"
   ]
  },
  {
   "cell_type": "code",
   "execution_count": 25,
   "id": "d8e47fa1",
   "metadata": {},
   "outputs": [
    {
     "name": "stdout",
     "output_type": "stream",
     "text": [
      "Affective neuroscience\n",
      "Behavioral neuroscience\n",
      "Cognitive neuroscience\n",
      "Computational neuroscience\n",
      "Default mode network\n",
      "Dorsal attention network\n",
      "Integrative neuroscience\n",
      "Journal of Integrative Neuroscience\n",
      "Journal of Molecular Neuroscience\n",
      "Molecular neuroscience\n",
      "Network neuroscience\n",
      "Neuroscience\n",
      "Neuroscience of religion\n",
      "Social neuroscience\n",
      "Systems neuroscience\n",
      "Werner Reichardt Centre for Integrative Neuroscience\n"
     ]
    },
    {
     "data": {
      "text/plain": [
       "[None,\n",
       " None,\n",
       " None,\n",
       " None,\n",
       " None,\n",
       " None,\n",
       " None,\n",
       " None,\n",
       " None,\n",
       " None,\n",
       " None,\n",
       " None,\n",
       " None,\n",
       " None,\n",
       " None,\n",
       " None]"
      ]
     },
     "execution_count": 25,
     "metadata": {},
     "output_type": "execute_result"
    }
   ],
   "source": [
    "[print(n) for n in sorted(G_comm.nodes)]"
   ]
  },
  {
   "cell_type": "code",
   "execution_count": 26,
   "id": "2aecda26",
   "metadata": {},
   "outputs": [
    {
     "data": {
      "image/svg+xml": [
       "<svg height=\"540\" width=\"1050.0\" xmlns=\"http://www.w3.org/2000/svg\"><path d=\"M 32 205 427 187\" stroke=\"gray\" stroke-width=\"0.5\"/><path d=\"M 521 342 571 449\" stroke=\"gray\" stroke-width=\"0.5\"/><path d=\"M 521 342 720 520\" stroke=\"gray\" stroke-width=\"0.5\"/><path d=\"M 521 342 370 305\" stroke=\"gray\" stroke-width=\"0.5\"/><path d=\"M 521 342 265 279\" stroke=\"gray\" stroke-width=\"0.5\"/><path d=\"M 521 342 332 351\" stroke=\"gray\" stroke-width=\"0.5\"/><path d=\"M 521 342 427 187\" stroke=\"gray\" stroke-width=\"0.5\"/><path d=\"M 521 342 342 190\" stroke=\"gray\" stroke-width=\"0.5\"/><path d=\"M 521 342 559 267\" stroke=\"gray\" stroke-width=\"0.5\"/><path d=\"M 571 449 521 342\" stroke=\"gray\" stroke-width=\"0.5\"/><path d=\"M 571 449 332 351\" stroke=\"gray\" stroke-width=\"0.5\"/><path d=\"M 720 520 521 342\" stroke=\"gray\" stroke-width=\"0.5\"/><path d=\"M 370 305 521 342\" stroke=\"gray\" stroke-width=\"0.5\"/><path d=\"M 370 305 194 397\" stroke=\"gray\" stroke-width=\"0.5\"/><path d=\"M 370 305 332 351\" stroke=\"gray\" stroke-width=\"0.5\"/><path d=\"M 370 305 342 190\" stroke=\"gray\" stroke-width=\"0.5\"/><path d=\"M 370 305 114 332\" stroke=\"gray\" stroke-width=\"0.5\"/><path d=\"M 370 305 559 267\" stroke=\"gray\" stroke-width=\"0.5\"/><path d=\"M 428 54 427 187\" stroke=\"gray\" stroke-width=\"0.5\"/><path d=\"M 428 54 342 190\" stroke=\"gray\" stroke-width=\"0.5\"/><path d=\"M 265 279 521 342\" stroke=\"gray\" stroke-width=\"0.5\"/><path d=\"M 265 279 194 397\" stroke=\"gray\" stroke-width=\"0.5\"/><path d=\"M 265 279 332 351\" stroke=\"gray\" stroke-width=\"0.5\"/><path d=\"M 265 279 427 187\" stroke=\"gray\" stroke-width=\"0.5\"/><path d=\"M 265 279 342 190\" stroke=\"gray\" stroke-width=\"0.5\"/><path d=\"M 265 279 114 332\" stroke=\"gray\" stroke-width=\"0.5\"/><path d=\"M 194 397 370 305\" stroke=\"gray\" stroke-width=\"0.5\"/><path d=\"M 194 397 265 279\" stroke=\"gray\" stroke-width=\"0.5\"/><path d=\"M 194 397 332 351\" stroke=\"gray\" stroke-width=\"0.5\"/><path d=\"M 194 397 114 332\" stroke=\"gray\" stroke-width=\"0.5\"/><path d=\"M 332 351 521 342\" stroke=\"gray\" stroke-width=\"0.5\"/><path d=\"M 332 351 571 449\" stroke=\"gray\" stroke-width=\"0.5\"/><path d=\"M 332 351 370 305\" stroke=\"gray\" stroke-width=\"0.5\"/><path d=\"M 332 351 265 279\" stroke=\"gray\" stroke-width=\"0.5\"/><path d=\"M 332 351 194 397\" stroke=\"gray\" stroke-width=\"0.5\"/><path d=\"M 332 351 427 187\" stroke=\"gray\" stroke-width=\"0.5\"/><path d=\"M 332 351 342 190\" stroke=\"gray\" stroke-width=\"0.5\"/><path d=\"M 332 351 114 332\" stroke=\"gray\" stroke-width=\"0.5\"/><path d=\"M 332 351 20 469\" stroke=\"gray\" stroke-width=\"0.5\"/><path d=\"M 332 351 559 267\" stroke=\"gray\" stroke-width=\"0.5\"/><path d=\"M 427 187 32 205\" stroke=\"gray\" stroke-width=\"0.5\"/><path d=\"M 427 187 521 342\" stroke=\"gray\" stroke-width=\"0.5\"/><path d=\"M 427 187 428 54\" stroke=\"gray\" stroke-width=\"0.5\"/><path d=\"M 427 187 265 279\" stroke=\"gray\" stroke-width=\"0.5\"/><path d=\"M 427 187 332 351\" stroke=\"gray\" stroke-width=\"0.5\"/><path d=\"M 427 187 342 190\" stroke=\"gray\" stroke-width=\"0.5\"/><path d=\"M 427 187 703 59\" stroke=\"gray\" stroke-width=\"0.5\"/><path d=\"M 342 190 521 342\" stroke=\"gray\" stroke-width=\"0.5\"/><path d=\"M 342 190 370 305\" stroke=\"gray\" stroke-width=\"0.5\"/><path d=\"M 342 190 428 54\" stroke=\"gray\" stroke-width=\"0.5\"/><path d=\"M 342 190 265 279\" stroke=\"gray\" stroke-width=\"0.5\"/><path d=\"M 342 190 332 351\" stroke=\"gray\" stroke-width=\"0.5\"/><path d=\"M 342 190 427 187\" stroke=\"gray\" stroke-width=\"0.5\"/><path d=\"M 342 190 156 20\" stroke=\"gray\" stroke-width=\"0.5\"/><path d=\"M 342 190 559 267\" stroke=\"gray\" stroke-width=\"0.5\"/><path d=\"M 156 20 342 190\" stroke=\"gray\" stroke-width=\"0.5\"/><path d=\"M 114 332 370 305\" stroke=\"gray\" stroke-width=\"0.5\"/><path d=\"M 114 332 265 279\" stroke=\"gray\" stroke-width=\"0.5\"/><path d=\"M 114 332 194 397\" stroke=\"gray\" stroke-width=\"0.5\"/><path d=\"M 114 332 332 351\" stroke=\"gray\" stroke-width=\"0.5\"/><path d=\"M 703 59 427 187\" stroke=\"gray\" stroke-width=\"0.5\"/><path d=\"M 20 469 332 351\" stroke=\"gray\" stroke-width=\"0.5\"/><path d=\"M 559 267 521 342\" stroke=\"gray\" stroke-width=\"0.5\"/><path d=\"M 559 267 370 305\" stroke=\"gray\" stroke-width=\"0.5\"/><path d=\"M 559 267 332 351\" stroke=\"gray\" stroke-width=\"0.5\"/><path d=\"M 559 267 342 190\" stroke=\"gray\" stroke-width=\"0.5\"/><circle cx=\"32\" cy=\"205\" r=\"3.0\" style=\"fill:rgb(60, 79, 195);stroke:black;stroke-width:1.0\"/><circle cx=\"521\" cy=\"342\" r=\"3.0\" style=\"fill:rgb(239, 137, 108);stroke:black;stroke-width:1.0\"/><circle cx=\"571\" cy=\"449\" r=\"3.0\" style=\"fill:rgb(88, 118, 226);stroke:black;stroke-width:1.0\"/><circle cx=\"720\" cy=\"520\" r=\"3.0\" style=\"fill:rgb(58, 76, 192);stroke:black;stroke-width:1.0\"/><circle cx=\"370\" cy=\"305\" r=\"3.0\" style=\"fill:rgb(222, 219, 218);stroke:black;stroke-width:1.0\"/><circle cx=\"428\" cy=\"54\" r=\"3.0\" style=\"fill:rgb(92, 123, 229);stroke:black;stroke-width:1.0\"/><circle cx=\"265\" cy=\"279\" r=\"3.0\" style=\"fill:rgb(227, 217, 211);stroke:black;stroke-width:1.0\"/><circle cx=\"194\" cy=\"397\" r=\"3.0\" style=\"fill:rgb(155, 187, 254);stroke:black;stroke-width:1.0\"/><circle cx=\"332\" cy=\"351\" r=\"3.0\" style=\"fill:rgb(179, 3, 38);stroke:black;stroke-width:1.0\"/><circle cx=\"427\" cy=\"187\" r=\"3.0\" style=\"fill:rgb(243, 150, 120);stroke:black;stroke-width:1.0\"/><circle cx=\"342\" cy=\"190\" r=\"3.0\" style=\"fill:rgb(237, 132, 103);stroke:black;stroke-width:1.0\"/><circle cx=\"156\" cy=\"20\" r=\"3.0\" style=\"fill:rgb(58, 76, 192);stroke:black;stroke-width:1.0\"/><circle cx=\"114\" cy=\"332\" r=\"3.0\" style=\"fill:rgb(155, 187, 254);stroke:black;stroke-width:1.0\"/><circle cx=\"703\" cy=\"59\" r=\"3.0\" style=\"fill:rgb(60, 79, 195);stroke:black;stroke-width:1.0\"/><circle cx=\"20\" cy=\"469\" r=\"3.0\" style=\"fill:rgb(58, 76, 192);stroke:black;stroke-width:1.0\"/><circle cx=\"559\" cy=\"267\" r=\"3.0\" style=\"fill:rgb(159, 190, 254);stroke:black;stroke-width:1.0\"/><text font-size=\"10\" x=\"38\" y=\"208\">List of Irish mobile virtual network operators</text><text font-size=\"10\" x=\"527\" y=\"345\">List of mobile network operators of the Americas</text><text font-size=\"10\" x=\"577\" y=\"452\">List of mobile network operators of the Caribbean</text><text font-size=\"10\" x=\"726\" y=\"523\">Mobile network codes in ITU region 7xx (South America)</text><text font-size=\"10\" x=\"376\" y=\"308\">List of mobile network operators of the Asia Pacific region</text><text font-size=\"10\" x=\"434\" y=\"57\">List of United Kingdom mobile virtual network operators</text><text font-size=\"10\" x=\"271\" y=\"282\">Mobile network operator</text><text font-size=\"10\" x=\"200\" y=\"400\">Zong (mobile network)</text><text font-size=\"10\" x=\"338\" y=\"354\">List of mobile network operators</text><text font-size=\"10\" x=\"433\" y=\"190\">Mobile virtual network operator</text><text font-size=\"10\" x=\"348\" y=\"193\">List of mobile network operators of Europe</text><text font-size=\"10\" x=\"162\" y=\"23\">List of Turkey mobile virtual network operators</text><text font-size=\"10\" x=\"120\" y=\"335\">Jazz (mobile network operator)</text><text font-size=\"10\" x=\"709\" y=\"62\">Virtual network operator</text><text font-size=\"10\" x=\"26\" y=\"472\">List of mobile network operators in Kenya</text><text font-size=\"10\" x=\"565\" y=\"270\">List of mobile network operators of the Middle East and Africa</text></svg>"
      ],
      "text/plain": [
       "<IPython.core.display.SVG object>"
      ]
     },
     "execution_count": 26,
     "metadata": {},
     "output_type": "execute_result"
    }
   ],
   "source": [
    "nodes = community_df[community_df['community']==comm_idx[5]]['node'].values\n",
    "\n",
    "G_comm = G.subgraph(nodes)\n",
    "\n",
    "draw_graph(nx.k_core(G_comm, 1), show_names=True, node_size=3)"
   ]
  },
  {
   "cell_type": "code",
   "execution_count": 27,
   "id": "68c9b254",
   "metadata": {},
   "outputs": [
    {
     "name": "stdout",
     "output_type": "stream",
     "text": [
      "Jazz (mobile network operator)\n",
      "List of Irish mobile virtual network operators\n",
      "List of Turkey mobile virtual network operators\n",
      "List of United Kingdom mobile virtual network operators\n",
      "List of mobile network operators\n",
      "List of mobile network operators in Kenya\n",
      "List of mobile network operators of Europe\n",
      "List of mobile network operators of the Americas\n",
      "List of mobile network operators of the Asia Pacific region\n",
      "List of mobile network operators of the Caribbean\n",
      "List of mobile network operators of the Middle East and Africa\n",
      "Mobile network codes in ITU region 7xx (South America)\n",
      "Mobile network operator\n",
      "Mobile virtual network operator\n",
      "Virtual network operator\n",
      "Zong (mobile network)\n"
     ]
    },
    {
     "data": {
      "text/plain": [
       "[None,\n",
       " None,\n",
       " None,\n",
       " None,\n",
       " None,\n",
       " None,\n",
       " None,\n",
       " None,\n",
       " None,\n",
       " None,\n",
       " None,\n",
       " None,\n",
       " None,\n",
       " None,\n",
       " None,\n",
       " None]"
      ]
     },
     "execution_count": 27,
     "metadata": {},
     "output_type": "execute_result"
    }
   ],
   "source": [
    "[print(n) for n in sorted(G_comm.nodes)]"
   ]
  },
  {
   "cell_type": "code",
   "execution_count": 28,
   "id": "91c8a460",
   "metadata": {},
   "outputs": [
    {
     "data": {
      "image/svg+xml": [
       "<svg height=\"540\" width=\"950.0\" xmlns=\"http://www.w3.org/2000/svg\"><path d=\"M 343 406 256 374\" stroke=\"gray\" stroke-width=\"0.5\"/><path d=\"M 343 406 394 314\" stroke=\"gray\" stroke-width=\"0.5\"/><path d=\"M 343 406 511 280\" stroke=\"gray\" stroke-width=\"0.5\"/><path d=\"M 343 406 297 520\" stroke=\"gray\" stroke-width=\"0.5\"/><path d=\"M 343 406 473 427\" stroke=\"gray\" stroke-width=\"0.5\"/><path d=\"M 343 406 224 303\" stroke=\"gray\" stroke-width=\"0.5\"/><path d=\"M 256 374 343 406\" stroke=\"gray\" stroke-width=\"0.5\"/><path d=\"M 256 374 493 353\" stroke=\"gray\" stroke-width=\"0.5\"/><path d=\"M 256 374 394 314\" stroke=\"gray\" stroke-width=\"0.5\"/><path d=\"M 256 374 297 520\" stroke=\"gray\" stroke-width=\"0.5\"/><path d=\"M 256 374 473 427\" stroke=\"gray\" stroke-width=\"0.5\"/><path d=\"M 256 374 224 303\" stroke=\"gray\" stroke-width=\"0.5\"/><path d=\"M 256 374 20 355\" stroke=\"gray\" stroke-width=\"0.5\"/><path d=\"M 256 374 310 199\" stroke=\"gray\" stroke-width=\"0.5\"/><path d=\"M 493 353 256 374\" stroke=\"gray\" stroke-width=\"0.5\"/><path d=\"M 493 353 394 314\" stroke=\"gray\" stroke-width=\"0.5\"/><path d=\"M 493 353 511 280\" stroke=\"gray\" stroke-width=\"0.5\"/><path d=\"M 493 353 473 427\" stroke=\"gray\" stroke-width=\"0.5\"/><path d=\"M 493 353 628 345\" stroke=\"gray\" stroke-width=\"0.5\"/><path d=\"M 493 353 310 199\" stroke=\"gray\" stroke-width=\"0.5\"/><path d=\"M 493 353 639 503\" stroke=\"gray\" stroke-width=\"0.5\"/><path d=\"M 394 314 343 406\" stroke=\"gray\" stroke-width=\"0.5\"/><path d=\"M 394 314 256 374\" stroke=\"gray\" stroke-width=\"0.5\"/><path d=\"M 394 314 493 353\" stroke=\"gray\" stroke-width=\"0.5\"/><path d=\"M 394 314 511 280\" stroke=\"gray\" stroke-width=\"0.5\"/><path d=\"M 394 314 473 427\" stroke=\"gray\" stroke-width=\"0.5\"/><path d=\"M 394 314 224 303\" stroke=\"gray\" stroke-width=\"0.5\"/><path d=\"M 394 314 628 345\" stroke=\"gray\" stroke-width=\"0.5\"/><path d=\"M 394 314 310 199\" stroke=\"gray\" stroke-width=\"0.5\"/><path d=\"M 511 280 343 406\" stroke=\"gray\" stroke-width=\"0.5\"/><path d=\"M 511 280 493 353\" stroke=\"gray\" stroke-width=\"0.5\"/><path d=\"M 511 280 394 314\" stroke=\"gray\" stroke-width=\"0.5\"/><path d=\"M 511 280 473 427\" stroke=\"gray\" stroke-width=\"0.5\"/><path d=\"M 511 280 224 303\" stroke=\"gray\" stroke-width=\"0.5\"/><path d=\"M 511 280 720 138\" stroke=\"gray\" stroke-width=\"0.5\"/><path d=\"M 511 280 628 345\" stroke=\"gray\" stroke-width=\"0.5\"/><path d=\"M 297 520 343 406\" stroke=\"gray\" stroke-width=\"0.5\"/><path d=\"M 297 520 256 374\" stroke=\"gray\" stroke-width=\"0.5\"/><path d=\"M 297 520 473 427\" stroke=\"gray\" stroke-width=\"0.5\"/><path d=\"M 473 427 343 406\" stroke=\"gray\" stroke-width=\"0.5\"/><path d=\"M 473 427 256 374\" stroke=\"gray\" stroke-width=\"0.5\"/><path d=\"M 473 427 493 353\" stroke=\"gray\" stroke-width=\"0.5\"/><path d=\"M 473 427 394 314\" stroke=\"gray\" stroke-width=\"0.5\"/><path d=\"M 473 427 511 280\" stroke=\"gray\" stroke-width=\"0.5\"/><path d=\"M 473 427 297 520\" stroke=\"gray\" stroke-width=\"0.5\"/><path d=\"M 473 427 628 345\" stroke=\"gray\" stroke-width=\"0.5\"/><path d=\"M 473 427 639 503\" stroke=\"gray\" stroke-width=\"0.5\"/><path d=\"M 224 303 343 406\" stroke=\"gray\" stroke-width=\"0.5\"/><path d=\"M 224 303 256 374\" stroke=\"gray\" stroke-width=\"0.5\"/><path d=\"M 224 303 394 314\" stroke=\"gray\" stroke-width=\"0.5\"/><path d=\"M 224 303 511 280\" stroke=\"gray\" stroke-width=\"0.5\"/><path d=\"M 224 303 20 355\" stroke=\"gray\" stroke-width=\"0.5\"/><path d=\"M 720 138 511 280\" stroke=\"gray\" stroke-width=\"0.5\"/><path d=\"M 628 345 493 353\" stroke=\"gray\" stroke-width=\"0.5\"/><path d=\"M 628 345 394 314\" stroke=\"gray\" stroke-width=\"0.5\"/><path d=\"M 628 345 511 280\" stroke=\"gray\" stroke-width=\"0.5\"/><path d=\"M 628 345 473 427\" stroke=\"gray\" stroke-width=\"0.5\"/><path d=\"M 20 355 256 374\" stroke=\"gray\" stroke-width=\"0.5\"/><path d=\"M 20 355 224 303\" stroke=\"gray\" stroke-width=\"0.5\"/><path d=\"M 215 20 310 199\" stroke=\"gray\" stroke-width=\"0.5\"/><path d=\"M 310 199 256 374\" stroke=\"gray\" stroke-width=\"0.5\"/><path d=\"M 310 199 493 353\" stroke=\"gray\" stroke-width=\"0.5\"/><path d=\"M 310 199 394 314\" stroke=\"gray\" stroke-width=\"0.5\"/><path d=\"M 310 199 215 20\" stroke=\"gray\" stroke-width=\"0.5\"/><path d=\"M 639 503 493 353\" stroke=\"gray\" stroke-width=\"0.5\"/><path d=\"M 639 503 473 427\" stroke=\"gray\" stroke-width=\"0.5\"/><circle cx=\"343\" cy=\"406\" r=\"3.0\" style=\"fill:rgb(247, 179, 151);stroke:black;stroke-width:1.0\"/><circle cx=\"256\" cy=\"374\" r=\"3.0\" style=\"fill:rgb(179, 3, 38);stroke:black;stroke-width:1.0\"/><circle cx=\"493\" cy=\"353\" r=\"3.0\" style=\"fill:rgb(227, 108, 84);stroke:black;stroke-width:1.0\"/><circle cx=\"394\" cy=\"314\" r=\"3.0\" style=\"fill:rgb(194, 45, 49);stroke:black;stroke-width:1.0\"/><circle cx=\"511\" cy=\"280\" r=\"3.0\" style=\"fill:rgb(220, 94, 75);stroke:black;stroke-width:1.0\"/><circle cx=\"297\" cy=\"520\" r=\"3.0\" style=\"fill:rgb(141, 175, 253);stroke:black;stroke-width:1.0\"/><circle cx=\"473\" cy=\"427\" r=\"3.0\" style=\"fill:rgb(190, 35, 45);stroke:black;stroke-width:1.0\"/><circle cx=\"224\" cy=\"303\" r=\"3.0\" style=\"fill:rgb(234, 211, 199);stroke:black;stroke-width:1.0\"/><circle cx=\"720\" cy=\"138\" r=\"3.0\" style=\"fill:rgb(58, 76, 192);stroke:black;stroke-width:1.0\"/><circle cx=\"628\" cy=\"345\" r=\"3.0\" style=\"fill:rgb(189, 210, 246);stroke:black;stroke-width:1.0\"/><circle cx=\"20\" cy=\"355\" r=\"3.0\" style=\"fill:rgb(99, 131, 234);stroke:black;stroke-width:1.0\"/><circle cx=\"215\" cy=\"20\" r=\"3.0\" style=\"fill:rgb(64, 84, 199);stroke:black;stroke-width:1.0\"/><circle cx=\"310\" cy=\"199\" r=\"3.0\" style=\"fill:rgb(219, 220, 222);stroke:black;stroke-width:1.0\"/><circle cx=\"639\" cy=\"503\" r=\"3.0\" style=\"fill:rgb(96, 128, 232);stroke:black;stroke-width:1.0\"/><text font-size=\"10\" x=\"349\" y=\"409\">Outline of space science</text><text font-size=\"10\" x=\"262\" y=\"377\">Outline of applied science</text><text font-size=\"10\" x=\"499\" y=\"356\">Outline of social science</text><text font-size=\"10\" x=\"400\" y=\"317\">Outline of science</text><text font-size=\"10\" x=\"517\" y=\"283\">Outline of science fiction</text><text font-size=\"10\" x=\"303\" y=\"523\">Outline of Earth sciences</text><text font-size=\"10\" x=\"479\" y=\"430\">Outline of physical science</text><text font-size=\"10\" x=\"230\" y=\"306\">Outline of information science</text><text font-size=\"10\" x=\"726\" y=\"141\">Soft science fiction</text><text font-size=\"10\" x=\"634\" y=\"348\">Outline of political science</text><text font-size=\"10\" x=\"26\" y=\"358\">Outline of library and information science</text><text font-size=\"10\" x=\"221\" y=\"23\">List of life sciences</text><text font-size=\"10\" x=\"316\" y=\"202\">Outline of health sciences</text><text font-size=\"10\" x=\"645\" y=\"506\">Outline of natural science</text></svg>"
      ],
      "text/plain": [
       "<IPython.core.display.SVG object>"
      ]
     },
     "execution_count": 28,
     "metadata": {},
     "output_type": "execute_result"
    }
   ],
   "source": [
    "nodes = community_df[community_df['community']==comm_idx[6]]['node'].values\n",
    "\n",
    "G_comm = G.subgraph(nodes)\n",
    "\n",
    "draw_graph(nx.k_core(G_comm, 1), show_names=True, node_size=3)"
   ]
  },
  {
   "cell_type": "code",
   "execution_count": 29,
   "id": "80c5d4e9",
   "metadata": {},
   "outputs": [
    {
     "name": "stdout",
     "output_type": "stream",
     "text": [
      "List of life sciences\n",
      "Outline of Earth sciences\n",
      "Outline of applied science\n",
      "Outline of health sciences\n",
      "Outline of information science\n",
      "Outline of library and information science\n",
      "Outline of natural science\n",
      "Outline of physical science\n",
      "Outline of political science\n",
      "Outline of science\n",
      "Outline of science fiction\n",
      "Outline of social science\n",
      "Outline of space science\n",
      "Soft science fiction\n"
     ]
    },
    {
     "data": {
      "text/plain": [
       "[None,\n",
       " None,\n",
       " None,\n",
       " None,\n",
       " None,\n",
       " None,\n",
       " None,\n",
       " None,\n",
       " None,\n",
       " None,\n",
       " None,\n",
       " None,\n",
       " None,\n",
       " None]"
      ]
     },
     "execution_count": 29,
     "metadata": {},
     "output_type": "execute_result"
    }
   ],
   "source": [
    "[print(n) for n in sorted(G_comm.nodes)]"
   ]
  },
  {
   "cell_type": "code",
   "execution_count": 30,
   "id": "e9eaf993",
   "metadata": {},
   "outputs": [
    {
     "data": {
      "image/svg+xml": [
       "<svg height=\"540\" width=\"955.0\" xmlns=\"http://www.w3.org/2000/svg\"><path d=\"M 20 182 367 228\" stroke=\"gray\" stroke-width=\"0.5\"/><path d=\"M 257 21 409 141\" stroke=\"gray\" stroke-width=\"0.5\"/><path d=\"M 505 520 396 391\" stroke=\"gray\" stroke-width=\"0.5\"/><path d=\"M 367 228 20 182\" stroke=\"gray\" stroke-width=\"0.5\"/><path d=\"M 367 228 396 391\" stroke=\"gray\" stroke-width=\"0.5\"/><path d=\"M 367 228 720 177\" stroke=\"gray\" stroke-width=\"0.5\"/><path d=\"M 367 228 409 141\" stroke=\"gray\" stroke-width=\"0.5\"/><path d=\"M 367 228 295 274\" stroke=\"gray\" stroke-width=\"0.5\"/><path d=\"M 396 391 505 520\" stroke=\"gray\" stroke-width=\"0.5\"/><path d=\"M 396 391 367 228\" stroke=\"gray\" stroke-width=\"0.5\"/><path d=\"M 396 391 246 512\" stroke=\"gray\" stroke-width=\"0.5\"/><path d=\"M 396 391 706 459\" stroke=\"gray\" stroke-width=\"0.5\"/><path d=\"M 396 391 63 443\" stroke=\"gray\" stroke-width=\"0.5\"/><path d=\"M 396 391 538 274\" stroke=\"gray\" stroke-width=\"0.5\"/><path d=\"M 396 391 295 274\" stroke=\"gray\" stroke-width=\"0.5\"/><path d=\"M 720 177 367 228\" stroke=\"gray\" stroke-width=\"0.5\"/><path d=\"M 561 20 409 141\" stroke=\"gray\" stroke-width=\"0.5\"/><path d=\"M 246 512 396 391\" stroke=\"gray\" stroke-width=\"0.5\"/><path d=\"M 706 459 396 391\" stroke=\"gray\" stroke-width=\"0.5\"/><path d=\"M 409 141 257 21\" stroke=\"gray\" stroke-width=\"0.5\"/><path d=\"M 409 141 367 228\" stroke=\"gray\" stroke-width=\"0.5\"/><path d=\"M 409 141 561 20\" stroke=\"gray\" stroke-width=\"0.5\"/><path d=\"M 409 141 538 274\" stroke=\"gray\" stroke-width=\"0.5\"/><path d=\"M 409 141 295 274\" stroke=\"gray\" stroke-width=\"0.5\"/><path d=\"M 63 443 396 391\" stroke=\"gray\" stroke-width=\"0.5\"/><path d=\"M 538 274 396 391\" stroke=\"gray\" stroke-width=\"0.5\"/><path d=\"M 538 274 409 141\" stroke=\"gray\" stroke-width=\"0.5\"/><path d=\"M 295 274 367 228\" stroke=\"gray\" stroke-width=\"0.5\"/><path d=\"M 295 274 396 391\" stroke=\"gray\" stroke-width=\"0.5\"/><path d=\"M 295 274 409 141\" stroke=\"gray\" stroke-width=\"0.5\"/><circle cx=\"20\" cy=\"182\" r=\"3.0\" style=\"fill:rgb(58, 76, 192);stroke:black;stroke-width:1.0\"/><circle cx=\"257\" cy=\"21\" r=\"3.0\" style=\"fill:rgb(60, 79, 195);stroke:black;stroke-width:1.0\"/><circle cx=\"505\" cy=\"520\" r=\"3.0\" style=\"fill:rgb(60, 79, 195);stroke:black;stroke-width:1.0\"/><circle cx=\"367\" cy=\"228\" r=\"3.0\" style=\"fill:rgb(247, 177, 148);stroke:black;stroke-width:1.0\"/><circle cx=\"396\" cy=\"391\" r=\"3.0\" style=\"fill:rgb(179, 3, 38);stroke:black;stroke-width:1.0\"/><circle cx=\"720\" cy=\"177\" r=\"3.0\" style=\"fill:rgb(58, 76, 192);stroke:black;stroke-width:1.0\"/><circle cx=\"561\" cy=\"20\" r=\"3.0\" style=\"fill:rgb(60, 79, 195);stroke:black;stroke-width:1.0\"/><circle cx=\"246\" cy=\"512\" r=\"3.0\" style=\"fill:rgb(60, 79, 195);stroke:black;stroke-width:1.0\"/><circle cx=\"706\" cy=\"459\" r=\"3.0\" style=\"fill:rgb(60, 79, 195);stroke:black;stroke-width:1.0\"/><circle cx=\"409\" cy=\"141\" r=\"3.0\" style=\"fill:rgb(245, 193, 168);stroke:black;stroke-width:1.0\"/><circle cx=\"63\" cy=\"443\" r=\"3.0\" style=\"fill:rgb(60, 79, 195);stroke:black;stroke-width:1.0\"/><circle cx=\"538\" cy=\"274\" r=\"3.0\" style=\"fill:rgb(112, 147, 243);stroke:black;stroke-width:1.0\"/><circle cx=\"295\" cy=\"274\" r=\"3.0\" style=\"fill:rgb(163, 193, 254);stroke:black;stroke-width:1.0\"/><text font-size=\"10\" x=\"26\" y=\"185\">Mesa (computer graphics)</text><text font-size=\"10\" x=\"263\" y=\"24\">Video game graphics</text><text font-size=\"10\" x=\"511\" y=\"523\">Real-time computer graphics</text><text font-size=\"10\" x=\"373\" y=\"231\">Computer graphics</text><text font-size=\"10\" x=\"402\" y=\"394\">3D computer graphics</text><text font-size=\"10\" x=\"726\" y=\"180\">Tessellation (computer graphics)</text><text font-size=\"10\" x=\"567\" y=\"23\">Isometric video game graphics</text><text font-size=\"10\" x=\"252\" y=\"515\">List of 3D computer graphics software</text><text font-size=\"10\" x=\"712\" y=\"462\">Comparison of 3D computer graphics software</text><text font-size=\"10\" x=\"415\" y=\"144\">Sprite (computer graphics)</text><text font-size=\"10\" x=\"69\" y=\"446\">List of 3D graphics libraries</text><text font-size=\"10\" x=\"544\" y=\"277\">2D computer graphics</text><text font-size=\"10\" x=\"301\" y=\"277\">Rendering (computer graphics)</text></svg>"
      ],
      "text/plain": [
       "<IPython.core.display.SVG object>"
      ]
     },
     "execution_count": 30,
     "metadata": {},
     "output_type": "execute_result"
    }
   ],
   "source": [
    "nodes = community_df[community_df['community']==comm_idx[7]]['node'].values\n",
    "\n",
    "G_comm = G.subgraph(nodes)\n",
    "\n",
    "draw_graph(nx.k_core(G_comm, 1), show_names=True, node_size=3)"
   ]
  },
  {
   "cell_type": "code",
   "execution_count": 31,
   "id": "f1ff54e9",
   "metadata": {},
   "outputs": [
    {
     "name": "stdout",
     "output_type": "stream",
     "text": [
      "2D computer graphics\n",
      "3D computer graphics\n",
      "Comparison of 3D computer graphics software\n",
      "Computer graphics\n",
      "Isometric video game graphics\n",
      "List of 3D computer graphics software\n",
      "List of 3D graphics libraries\n",
      "Mesa (computer graphics)\n",
      "Real-time computer graphics\n",
      "Rendering (computer graphics)\n",
      "Sprite (computer graphics)\n",
      "Tessellation (computer graphics)\n",
      "Video game graphics\n"
     ]
    },
    {
     "data": {
      "text/plain": [
       "[None, None, None, None, None, None, None, None, None, None, None, None, None]"
      ]
     },
     "execution_count": 31,
     "metadata": {},
     "output_type": "execute_result"
    }
   ],
   "source": [
    "[print(n) for n in sorted(G_comm.nodes)]"
   ]
  },
  {
   "cell_type": "code",
   "execution_count": 32,
   "id": "119f2612",
   "metadata": {},
   "outputs": [
    {
     "data": {
      "image/svg+xml": [
       "<svg height=\"540\" width=\"960.0\" xmlns=\"http://www.w3.org/2000/svg\"><path d=\"M 468 432 245 448\" stroke=\"gray\" stroke-width=\"0.5\"/><path d=\"M 468 432 559 315\" stroke=\"gray\" stroke-width=\"0.5\"/><path d=\"M 468 432 452 266\" stroke=\"gray\" stroke-width=\"0.5\"/><path d=\"M 468 432 267 226\" stroke=\"gray\" stroke-width=\"0.5\"/><path d=\"M 468 432 691 279\" stroke=\"gray\" stroke-width=\"0.5\"/><path d=\"M 468 432 612 520\" stroke=\"gray\" stroke-width=\"0.5\"/><path d=\"M 468 432 720 409\" stroke=\"gray\" stroke-width=\"0.5\"/><path d=\"M 223 20 452 266\" stroke=\"gray\" stroke-width=\"0.5\"/><path d=\"M 223 20 267 226\" stroke=\"gray\" stroke-width=\"0.5\"/><path d=\"M 223 20 20 23\" stroke=\"gray\" stroke-width=\"0.5\"/><path d=\"M 245 448 468 432\" stroke=\"gray\" stroke-width=\"0.5\"/><path d=\"M 245 448 452 266\" stroke=\"gray\" stroke-width=\"0.5\"/><path d=\"M 245 448 267 226\" stroke=\"gray\" stroke-width=\"0.5\"/><path d=\"M 559 315 468 432\" stroke=\"gray\" stroke-width=\"0.5\"/><path d=\"M 559 315 452 266\" stroke=\"gray\" stroke-width=\"0.5\"/><path d=\"M 559 315 267 226\" stroke=\"gray\" stroke-width=\"0.5\"/><path d=\"M 559 315 691 279\" stroke=\"gray\" stroke-width=\"0.5\"/><path d=\"M 559 315 612 520\" stroke=\"gray\" stroke-width=\"0.5\"/><path d=\"M 559 315 720 409\" stroke=\"gray\" stroke-width=\"0.5\"/><path d=\"M 452 266 468 432\" stroke=\"gray\" stroke-width=\"0.5\"/><path d=\"M 452 266 223 20\" stroke=\"gray\" stroke-width=\"0.5\"/><path d=\"M 452 266 245 448\" stroke=\"gray\" stroke-width=\"0.5\"/><path d=\"M 452 266 559 315\" stroke=\"gray\" stroke-width=\"0.5\"/><path d=\"M 452 266 267 226\" stroke=\"gray\" stroke-width=\"0.5\"/><path d=\"M 452 266 691 279\" stroke=\"gray\" stroke-width=\"0.5\"/><path d=\"M 452 266 612 520\" stroke=\"gray\" stroke-width=\"0.5\"/><path d=\"M 452 266 720 409\" stroke=\"gray\" stroke-width=\"0.5\"/><path d=\"M 267 226 468 432\" stroke=\"gray\" stroke-width=\"0.5\"/><path d=\"M 267 226 223 20\" stroke=\"gray\" stroke-width=\"0.5\"/><path d=\"M 267 226 245 448\" stroke=\"gray\" stroke-width=\"0.5\"/><path d=\"M 267 226 559 315\" stroke=\"gray\" stroke-width=\"0.5\"/><path d=\"M 267 226 452 266\" stroke=\"gray\" stroke-width=\"0.5\"/><path d=\"M 267 226 20 23\" stroke=\"gray\" stroke-width=\"0.5\"/><path d=\"M 691 279 468 432\" stroke=\"gray\" stroke-width=\"0.5\"/><path d=\"M 691 279 559 315\" stroke=\"gray\" stroke-width=\"0.5\"/><path d=\"M 691 279 452 266\" stroke=\"gray\" stroke-width=\"0.5\"/><path d=\"M 691 279 612 520\" stroke=\"gray\" stroke-width=\"0.5\"/><path d=\"M 691 279 720 409\" stroke=\"gray\" stroke-width=\"0.5\"/><path d=\"M 612 520 468 432\" stroke=\"gray\" stroke-width=\"0.5\"/><path d=\"M 612 520 559 315\" stroke=\"gray\" stroke-width=\"0.5\"/><path d=\"M 612 520 452 266\" stroke=\"gray\" stroke-width=\"0.5\"/><path d=\"M 612 520 691 279\" stroke=\"gray\" stroke-width=\"0.5\"/><path d=\"M 20 23 223 20\" stroke=\"gray\" stroke-width=\"0.5\"/><path d=\"M 20 23 267 226\" stroke=\"gray\" stroke-width=\"0.5\"/><path d=\"M 720 409 468 432\" stroke=\"gray\" stroke-width=\"0.5\"/><path d=\"M 720 409 559 315\" stroke=\"gray\" stroke-width=\"0.5\"/><path d=\"M 720 409 452 266\" stroke=\"gray\" stroke-width=\"0.5\"/><path d=\"M 720 409 691 279\" stroke=\"gray\" stroke-width=\"0.5\"/><circle cx=\"468\" cy=\"432\" r=\"3.0\" style=\"fill:rgb(237, 132, 103);stroke:black;stroke-width:1.0\"/><circle cx=\"223\" cy=\"20\" r=\"3.0\" style=\"fill:rgb(116, 151, 245);stroke:black;stroke-width:1.0\"/><circle cx=\"245\" cy=\"448\" r=\"3.0\" style=\"fill:rgb(96, 128, 232);stroke:black;stroke-width:1.0\"/><circle cx=\"559\" cy=\"315\" r=\"3.0\" style=\"fill:rgb(243, 198, 176);stroke:black;stroke-width:1.0\"/><circle cx=\"452\" cy=\"266\" r=\"3.0\" style=\"fill:rgb(179, 3, 38);stroke:black;stroke-width:1.0\"/><circle cx=\"267\" cy=\"226\" r=\"3.0\" style=\"fill:rgb(246, 169, 138);stroke:black;stroke-width:1.0\"/><circle cx=\"691\" cy=\"279\" r=\"3.0\" style=\"fill:rgb(205, 217, 236);stroke:black;stroke-width:1.0\"/><circle cx=\"612\" cy=\"520\" r=\"3.0\" style=\"fill:rgb(148, 181, 254);stroke:black;stroke-width:1.0\"/><circle cx=\"20\" cy=\"23\" r=\"3.0\" style=\"fill:rgb(58, 76, 192);stroke:black;stroke-width:1.0\"/><circle cx=\"720\" cy=\"409\" r=\"3.0\" style=\"fill:rgb(148, 181, 254);stroke:black;stroke-width:1.0\"/><text font-size=\"10\" x=\"474\" y=\"435\">Wireless network</text><text font-size=\"10\" x=\"229\" y=\"23\">Vehicular ad hoc network</text><text font-size=\"10\" x=\"251\" y=\"451\">Smartphone ad hoc network</text><text font-size=\"10\" x=\"565\" y=\"318\">Wireless mesh network</text><text font-size=\"10\" x=\"458\" y=\"269\">Wireless ad hoc network</text><text font-size=\"10\" x=\"273\" y=\"229\">Ad hoc network</text><text font-size=\"10\" x=\"697\" y=\"282\">Wireless sensor network</text><text font-size=\"10\" x=\"618\" y=\"523\">Key distribution in wireless sensor networks</text><text font-size=\"10\" x=\"26\" y=\"26\">Intelligent vehicular ad hoc network</text><text font-size=\"10\" x=\"726\" y=\"412\">Mobile wireless sensor network</text></svg>"
      ],
      "text/plain": [
       "<IPython.core.display.SVG object>"
      ]
     },
     "execution_count": 32,
     "metadata": {},
     "output_type": "execute_result"
    }
   ],
   "source": [
    "nodes = community_df[community_df['community']==comm_idx[8]]['node'].values\n",
    "\n",
    "G_comm = G.subgraph(nodes)\n",
    "\n",
    "draw_graph(nx.k_core(G_comm, 1), show_names=True, node_size=3)"
   ]
  },
  {
   "cell_type": "code",
   "execution_count": 33,
   "id": "925ecc42",
   "metadata": {},
   "outputs": [
    {
     "name": "stdout",
     "output_type": "stream",
     "text": [
      "Ad hoc network\n",
      "Intelligent vehicular ad hoc network\n",
      "Key distribution in wireless sensor networks\n",
      "Lists of network protocols\n",
      "Mobile wireless sensor network\n",
      "Routing in delay-tolerant networking\n",
      "Smartphone ad hoc network\n",
      "Vehicular ad hoc network\n",
      "Wireless ad hoc network\n",
      "Wireless mesh network\n",
      "Wireless network\n",
      "Wireless sensor network\n"
     ]
    },
    {
     "data": {
      "text/plain": [
       "[None, None, None, None, None, None, None, None, None, None, None, None]"
      ]
     },
     "execution_count": 33,
     "metadata": {},
     "output_type": "execute_result"
    }
   ],
   "source": [
    "[print(n) for n in sorted(G_comm.nodes)]"
   ]
  },
  {
   "cell_type": "code",
   "execution_count": 34,
   "id": "8cda3bdd",
   "metadata": {},
   "outputs": [
    {
     "data": {
      "image/svg+xml": [
       "<svg height=\"540\" width=\"875.0\" xmlns=\"http://www.w3.org/2000/svg\"><path d=\"M 538 20 500 178\" stroke=\"gray\" stroke-width=\"0.5\"/><path d=\"M 500 178 538 20\" stroke=\"gray\" stroke-width=\"0.5\"/><path d=\"M 500 178 459 277\" stroke=\"gray\" stroke-width=\"0.5\"/><path d=\"M 500 178 720 110\" stroke=\"gray\" stroke-width=\"0.5\"/><path d=\"M 500 178 281 356\" stroke=\"gray\" stroke-width=\"0.5\"/><path d=\"M 20 289 281 356\" stroke=\"gray\" stroke-width=\"0.5\"/><path d=\"M 110 348 281 356\" stroke=\"gray\" stroke-width=\"0.5\"/><path d=\"M 494 446 281 356\" stroke=\"gray\" stroke-width=\"0.5\"/><path d=\"M 459 277 500 178\" stroke=\"gray\" stroke-width=\"0.5\"/><path d=\"M 459 277 281 356\" stroke=\"gray\" stroke-width=\"0.5\"/><path d=\"M 720 110 500 178\" stroke=\"gray\" stroke-width=\"0.5\"/><path d=\"M 184 514 281 356\" stroke=\"gray\" stroke-width=\"0.5\"/><path d=\"M 281 356 500 178\" stroke=\"gray\" stroke-width=\"0.5\"/><path d=\"M 281 356 20 289\" stroke=\"gray\" stroke-width=\"0.5\"/><path d=\"M 281 356 110 348\" stroke=\"gray\" stroke-width=\"0.5\"/><path d=\"M 281 356 494 446\" stroke=\"gray\" stroke-width=\"0.5\"/><path d=\"M 281 356 459 277\" stroke=\"gray\" stroke-width=\"0.5\"/><path d=\"M 281 356 184 514\" stroke=\"gray\" stroke-width=\"0.5\"/><path d=\"M 281 356 359 520\" stroke=\"gray\" stroke-width=\"0.5\"/><path d=\"M 281 356 41 444\" stroke=\"gray\" stroke-width=\"0.5\"/><path d=\"M 281 356 202 212\" stroke=\"gray\" stroke-width=\"0.5\"/><path d=\"M 359 520 281 356\" stroke=\"gray\" stroke-width=\"0.5\"/><path d=\"M 41 444 281 356\" stroke=\"gray\" stroke-width=\"0.5\"/><path d=\"M 202 212 281 356\" stroke=\"gray\" stroke-width=\"0.5\"/><circle cx=\"538\" cy=\"20\" r=\"3.0\" style=\"fill:rgb(58, 76, 192);stroke:black;stroke-width:1.0\"/><circle cx=\"500\" cy=\"178\" r=\"3.0\" style=\"fill:rgb(189, 210, 246);stroke:black;stroke-width:1.0\"/><circle cx=\"20\" cy=\"289\" r=\"3.0\" style=\"fill:rgb(58, 76, 192);stroke:black;stroke-width:1.0\"/><circle cx=\"110\" cy=\"348\" r=\"3.0\" style=\"fill:rgb(58, 76, 192);stroke:black;stroke-width:1.0\"/><circle cx=\"494\" cy=\"446\" r=\"3.0\" style=\"fill:rgb(58, 76, 192);stroke:black;stroke-width:1.0\"/><circle cx=\"459\" cy=\"277\" r=\"3.0\" style=\"fill:rgb(96, 128, 232);stroke:black;stroke-width:1.0\"/><circle cx=\"720\" cy=\"110\" r=\"3.0\" style=\"fill:rgb(58, 76, 192);stroke:black;stroke-width:1.0\"/><circle cx=\"184\" cy=\"514\" r=\"3.0\" style=\"fill:rgb(58, 76, 192);stroke:black;stroke-width:1.0\"/><circle cx=\"281\" cy=\"356\" r=\"3.0\" style=\"fill:rgb(179, 3, 38);stroke:black;stroke-width:1.0\"/><circle cx=\"359\" cy=\"520\" r=\"3.0\" style=\"fill:rgb(58, 76, 192);stroke:black;stroke-width:1.0\"/><circle cx=\"41\" cy=\"444\" r=\"3.0\" style=\"fill:rgb(58, 76, 192);stroke:black;stroke-width:1.0\"/><circle cx=\"202\" cy=\"212\" r=\"3.0\" style=\"fill:rgb(58, 76, 192);stroke:black;stroke-width:1.0\"/><text font-size=\"10\" x=\"544\" y=\"23\">Digraph</text><text font-size=\"10\" x=\"506\" y=\"181\">Multigraph (disambiguation)</text><text font-size=\"10\" x=\"26\" y=\"292\">Pentagraph</text><text font-size=\"10\" x=\"116\" y=\"351\">Tetragraph</text><text font-size=\"10\" x=\"500\" y=\"449\">Heptagraph</text><text font-size=\"10\" x=\"465\" y=\"280\">Polygraph (disambiguation)</text><text font-size=\"10\" x=\"726\" y=\"113\">Trigraph</text><text font-size=\"10\" x=\"190\" y=\"517\">Phonemic orthography</text><text font-size=\"10\" x=\"287\" y=\"359\">Multigraph (orthography)</text><text font-size=\"10\" x=\"365\" y=\"523\">Digraph (orthography)</text><text font-size=\"10\" x=\"47\" y=\"447\">Trigraph (orthography)</text><text font-size=\"10\" x=\"208\" y=\"215\">English orthography</text></svg>"
      ],
      "text/plain": [
       "<IPython.core.display.SVG object>"
      ]
     },
     "execution_count": 34,
     "metadata": {},
     "output_type": "execute_result"
    }
   ],
   "source": [
    "nodes = community_df[community_df['community']==comm_idx[9]]['node'].values\n",
    "\n",
    "G_comm = G.subgraph(nodes)\n",
    "\n",
    "draw_graph(nx.k_core(G_comm, 1), show_names=True, node_size=3)"
   ]
  },
  {
   "cell_type": "code",
   "execution_count": 35,
   "id": "f3855533",
   "metadata": {},
   "outputs": [
    {
     "name": "stdout",
     "output_type": "stream",
     "text": [
      "Digraph\n",
      "Digraph (orthography)\n",
      "English orthography\n",
      "Heptagraph\n",
      "Multigraph (disambiguation)\n",
      "Multigraph (orthography)\n",
      "Pentagraph\n",
      "Phonemic orthography\n",
      "Polygraph (disambiguation)\n",
      "Tetragraph\n",
      "Trigraph\n",
      "Trigraph (orthography)\n"
     ]
    },
    {
     "data": {
      "text/plain": [
       "[None, None, None, None, None, None, None, None, None, None, None, None]"
      ]
     },
     "execution_count": 35,
     "metadata": {},
     "output_type": "execute_result"
    }
   ],
   "source": [
    "[print(n) for n in sorted(G_comm.nodes)]"
   ]
  },
  {
   "cell_type": "code",
   "execution_count": null,
   "id": "1680719c",
   "metadata": {},
   "outputs": [],
   "source": []
  },
  {
   "cell_type": "code",
   "execution_count": null,
   "id": "23adb57e",
   "metadata": {},
   "outputs": [],
   "source": []
  }
 ],
 "metadata": {
  "kernelspec": {
   "display_name": "Python 3",
   "language": "python",
   "name": "python3"
  },
  "language_info": {
   "codemirror_mode": {
    "name": "ipython",
    "version": 3
   },
   "file_extension": ".py",
   "mimetype": "text/x-python",
   "name": "python",
   "nbconvert_exporter": "python",
   "pygments_lexer": "ipython3",
   "version": "3.7.16"
  }
 },
 "nbformat": 4,
 "nbformat_minor": 5
}
