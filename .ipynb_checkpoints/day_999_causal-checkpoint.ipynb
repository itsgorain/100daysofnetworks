{
 "cells": [
  {
   "cell_type": "code",
   "execution_count": 1,
   "id": "cf7be40d",
   "metadata": {},
   "outputs": [],
   "source": [
    "#!pip install gcastle"
   ]
  },
  {
   "cell_type": "code",
   "execution_count": 1,
   "id": "c3a22200",
   "metadata": {},
   "outputs": [],
   "source": [
    "import networkx as nx\n",
    "import numpy as np\n",
    "import pandas as pd\n",
    "\n",
    "from castle.datasets import DAG, IIDSimulation\n",
    "\n",
    "from IPython.display import SVG \n",
    "from sknetwork.visualization import svg_graph, svg_digraph \n",
    "from sknetwork.data import Bunch \n",
    "from sknetwork.ranking import PageRank "
   ]
  },
  {
   "cell_type": "code",
   "execution_count": 2,
   "id": "b22ee824",
   "metadata": {},
   "outputs": [],
   "source": [
    "def draw_graph(G, show_names=False, node_size=1, font_size=10, edge_width=0.5): \n",
    "\n",
    "    adjacency = nx.to_scipy_sparse_matrix(G, nodelist=None, dtype=None, weight='weight', format='csr') \n",
    "\n",
    "    names = np.array(list(G.nodes())) \n",
    "\n",
    "    graph = Bunch() \n",
    "    graph.adjacency = adjacency \n",
    "    graph.names = np.array(names) \n",
    "\n",
    "    pagerank = PageRank() \n",
    "\n",
    "    scores = pagerank.fit_transform(adjacency) \n",
    "\n",
    "    if show_names: \n",
    "        \n",
    "        image = svg_digraph(graph.adjacency, font_size=font_size, node_size=node_size, names=graph.names, width=700, height=500, scores=scores, edge_width=edge_width) \n",
    "\n",
    "    else: \n",
    "\n",
    "        image = svg_digraph(graph.adjacency, node_size=node_size, width=700, height=500, scores = scores, edge_width=edge_width) \n",
    "\n",
    "    return SVG(image) "
   ]
  },
  {
   "cell_type": "markdown",
   "id": "de4ff106",
   "metadata": {},
   "source": [
    "# Types of Graphs: Part 1\n",
    "\n",
    "Yesterday, we were able to use the Network Analysis network to create a learning curriculum. We will likely do that again, during this #100daysofnetworks adventures, to learn more and more to learn about. Basically, we can use that to identify gaps in our knowledge, and then we can learn those concepts. Today, we are going to learn about five different types of graphs, and look at some of their characteristics. \n",
    "\n",
    "We will look at:\n",
    "- Cycle graphs\n",
    "- Dense graphs\n",
    "- Sparse graphs\n",
    "- Regular graphs\n",
    "- Wheel graphs\n",
    "\n",
    "In practice, I tend to not think of these names when I am doing network analysis, as I am jumping between sections, excploring commmunities, looking at ego networks, identifying important nodes, etc. But this is useful to understand because THERE ARE different types of graphs, and they have unique characteristics. \n",
    "\n",
    "Often, in practice, I will see these types of graphs in subgraphs, or in cores, or in communities, but it is extremely rare that a network I analyze will be wheel graph, for instance. \n",
    "\n",
    "But this is useful knowledge, and it is good to have a common vocabulary.\n",
    "\n",
    "I am using ChatGPT to make short work of summarization. As always, if you use a LLM, you should verify that it has given you the correct answer. You can see what I did here: https://chat.openai.com/share/04278943-07d5-4568-ad78-2f23c3e18c3e\n",
    "\n",
    "We could build some of these with NetworkX graph generators, but I am doing this manually so that you can understand more easily.\n",
    "\n",
    "I am using an older version of scikit-network. In newer versions, you can indicate whether a graph is directed or undirected, and it will render as such. In this version, I'd have to create two separate functions, so just note that in an undirected network, the arrows go both ways (and they do), and in a directed network, edges are often in a single direction, like a one-way street"
   ]
  },
  {
   "cell_type": "markdown",
   "id": "d410ed54",
   "metadata": {},
   "source": [
    "## Cycle Graphs\n",
    "\n",
    "A cycle graph is a type of graph in network science that forms a simple cycle, which is a closed path where each node is connected to exactly two neighbors except for the first and last nodes, which are connected to each other. Cycle graphs are fundamental structures in graph theory and are often used to model cyclic processes, circuits, and other scenarios with repeating patterns.\n",
    "\n",
    "Example: A -> B -> C -> D -> A\n",
    "\n",
    "You can learn more at https://en.wikipedia.org/wiki/Cycle_graph"
   ]
  },
  {
   "cell_type": "code",
   "execution_count": 3,
   "id": "2a3a2057",
   "metadata": {},
   "outputs": [
    {
     "data": {
      "image/svg+xml": [
       "<svg height=\"540\" width=\"746.0\" xmlns=\"http://www.w3.org/2000/svg\"><defs><marker id=\"arrow\" markerHeight=\"10\" markerWidth=\"10\" orient=\"auto\" refX=\"9\" refY=\"3\"><path d=\"M0,0 L0,6 L9,3 z\" fill=\"gray\"/></marker></defs><path d=\"M 20 20 105 93\" marker-end=\"url(#arrow)\" stroke=\"gray\" stroke-width=\"1\"/><path d=\"M 111 98 216 185\" marker-end=\"url(#arrow)\" stroke=\"gray\" stroke-width=\"1\"/><path d=\"M 222 190 340 278\" marker-end=\"url(#arrow)\" stroke=\"gray\" stroke-width=\"1\"/><path d=\"M 346 282 471 369\" marker-end=\"url(#arrow)\" stroke=\"gray\" stroke-width=\"1\"/><path d=\"M 477 373 601 448\" marker-end=\"url(#arrow)\" stroke=\"gray\" stroke-width=\"1\"/><path d=\"M 607 452 714 516\" marker-end=\"url(#arrow)\" stroke=\"gray\" stroke-width=\"1\"/><circle cx=\"20\" cy=\"20\" r=\"8.0\" style=\"fill:rgb(58, 76, 192);stroke:black;stroke-width:1.0\"/><circle cx=\"111\" cy=\"98\" r=\"8.0\" style=\"fill:rgb(80, 107, 218);stroke:black;stroke-width:1.0\"/><circle cx=\"222\" cy=\"190\" r=\"8.0\" style=\"fill:rgb(109, 144, 241);stroke:black;stroke-width:1.0\"/><circle cx=\"346\" cy=\"282\" r=\"8.0\" style=\"fill:rgb(141, 175, 253);stroke:black;stroke-width:1.0\"/><circle cx=\"477\" cy=\"373\" r=\"8.0\" style=\"fill:rgb(176, 203, 251);stroke:black;stroke-width:1.0\"/><circle cx=\"607\" cy=\"452\" r=\"8.0\" style=\"fill:rgb(210, 218, 231);stroke:black;stroke-width:1.0\"/><circle cx=\"720\" cy=\"520\" r=\"8.0\" style=\"fill:rgb(179, 3, 38);stroke:black;stroke-width:1.0\"/><text font-size=\"12\" x=\"38\" y=\"28\">A</text><text font-size=\"12\" x=\"129\" y=\"106\">B</text><text font-size=\"12\" x=\"240\" y=\"198\">C</text><text font-size=\"12\" x=\"364\" y=\"290\">D</text><text font-size=\"12\" x=\"495\" y=\"381\">E</text><text font-size=\"12\" x=\"625\" y=\"460\">F</text><text font-size=\"12\" x=\"738\" y=\"528\">G</text></svg>"
      ],
      "text/plain": [
       "<IPython.core.display.SVG object>"
      ]
     },
     "execution_count": 3,
     "metadata": {},
     "output_type": "execute_result"
    }
   ],
   "source": [
    "edges = ['AB', 'BC', 'CD', 'DE', 'EF', 'FG'] # drop 'GA'\n",
    "\n",
    "edgelist = [(e[0],e[1]) for e in edges]\n",
    "\n",
    "G = nx.from_edgelist(edgelist, create_using=nx.DiGraph)\n",
    "\n",
    "draw_graph(G, show_names=True, node_size=8, font_size=12, edge_width=1)"
   ]
  },
  {
   "cell_type": "code",
   "execution_count": 4,
   "id": "41c80574",
   "metadata": {},
   "outputs": [],
   "source": [
    "adj_matrix = nx.adjacency_matrix(G)\n",
    "#dataset = IIDSimulation(W=adj_matrix, n=100000, method='nonlinear', sem_type='mlp')"
   ]
  },
  {
   "cell_type": "code",
   "execution_count": 5,
   "id": "580ee098",
   "metadata": {},
   "outputs": [],
   "source": [
    "#dataset = IIDSimulation(W=adj_matrix, n=100000, method='nonlinear', sem_type='mim')\n",
    "\n",
    "# mlp, mim, gp, gp-add, quadratic"
   ]
  },
  {
   "cell_type": "code",
   "execution_count": 6,
   "id": "f961b6a4",
   "metadata": {},
   "outputs": [
    {
     "name": "stderr",
     "output_type": "stream",
     "text": [
      "2023-08-18 12:47:23,030 - C:\\ProgramData\\Anaconda3\\lib\\site-packages\\castle\\datasets\\simulator.py[line:270] - INFO: Finished synthetic dataset\n"
     ]
    },
    {
     "name": "stdout",
     "output_type": "stream",
     "text": [
      "Wall time: 5.23 s\n"
     ]
    }
   ],
   "source": [
    "%time dataset = IIDSimulation(W=adj_matrix, n=1000, method='nonlinear', sem_type='gp-add') # very, very slow\n",
    "\n",
    "# mlp, mim, gp, gp-add, quadratic"
   ]
  },
  {
   "cell_type": "code",
   "execution_count": 7,
   "id": "6258375a",
   "metadata": {},
   "outputs": [],
   "source": [
    "# dataset = IIDSimulation(W=adj_matrix, n=100000, method='nonlinear', sem_type='quadratic') # very, very slow"
   ]
  },
  {
   "cell_type": "code",
   "execution_count": 8,
   "id": "0f49014e",
   "metadata": {},
   "outputs": [
    {
     "data": {
      "text/html": [
       "<div>\n",
       "<style scoped>\n",
       "    .dataframe tbody tr th:only-of-type {\n",
       "        vertical-align: middle;\n",
       "    }\n",
       "\n",
       "    .dataframe tbody tr th {\n",
       "        vertical-align: top;\n",
       "    }\n",
       "\n",
       "    .dataframe thead th {\n",
       "        text-align: right;\n",
       "    }\n",
       "</style>\n",
       "<table border=\"1\" class=\"dataframe\">\n",
       "  <thead>\n",
       "    <tr style=\"text-align: right;\">\n",
       "      <th></th>\n",
       "      <th>A</th>\n",
       "      <th>B</th>\n",
       "      <th>C</th>\n",
       "      <th>D</th>\n",
       "      <th>E</th>\n",
       "      <th>F</th>\n",
       "      <th>G</th>\n",
       "    </tr>\n",
       "  </thead>\n",
       "  <tbody>\n",
       "    <tr>\n",
       "      <th>0</th>\n",
       "      <td>1.106939</td>\n",
       "      <td>-0.394898</td>\n",
       "      <td>-1.466112</td>\n",
       "      <td>-0.393813</td>\n",
       "      <td>0.883031</td>\n",
       "      <td>0.634512</td>\n",
       "      <td>0.205403</td>\n",
       "    </tr>\n",
       "    <tr>\n",
       "      <th>1</th>\n",
       "      <td>-0.685789</td>\n",
       "      <td>-1.879013</td>\n",
       "      <td>0.883324</td>\n",
       "      <td>2.284089</td>\n",
       "      <td>1.348344</td>\n",
       "      <td>-0.591684</td>\n",
       "      <td>-0.159532</td>\n",
       "    </tr>\n",
       "    <tr>\n",
       "      <th>2</th>\n",
       "      <td>1.033158</td>\n",
       "      <td>-0.652660</td>\n",
       "      <td>-0.416392</td>\n",
       "      <td>0.982045</td>\n",
       "      <td>2.953975</td>\n",
       "      <td>-0.284938</td>\n",
       "      <td>-0.001313</td>\n",
       "    </tr>\n",
       "    <tr>\n",
       "      <th>3</th>\n",
       "      <td>1.047577</td>\n",
       "      <td>0.924356</td>\n",
       "      <td>0.884187</td>\n",
       "      <td>0.488087</td>\n",
       "      <td>1.029145</td>\n",
       "      <td>-0.912085</td>\n",
       "      <td>-0.280990</td>\n",
       "    </tr>\n",
       "    <tr>\n",
       "      <th>4</th>\n",
       "      <td>-0.255742</td>\n",
       "      <td>-0.361589</td>\n",
       "      <td>-1.238950</td>\n",
       "      <td>-0.553254</td>\n",
       "      <td>0.055754</td>\n",
       "      <td>-0.818378</td>\n",
       "      <td>-0.074528</td>\n",
       "    </tr>\n",
       "  </tbody>\n",
       "</table>\n",
       "</div>"
      ],
      "text/plain": [
       "          A         B         C         D         E         F         G\n",
       "0  1.106939 -0.394898 -1.466112 -0.393813  0.883031  0.634512  0.205403\n",
       "1 -0.685789 -1.879013  0.883324  2.284089  1.348344 -0.591684 -0.159532\n",
       "2  1.033158 -0.652660 -0.416392  0.982045  2.953975 -0.284938 -0.001313\n",
       "3  1.047577  0.924356  0.884187  0.488087  1.029145 -0.912085 -0.280990\n",
       "4 -0.255742 -0.361589 -1.238950 -0.553254  0.055754 -0.818378 -0.074528"
      ]
     },
     "execution_count": 8,
     "metadata": {},
     "output_type": "execute_result"
    }
   ],
   "source": [
    "df = pd.DataFrame(dataset.X)\n",
    "df.columns = ['A', 'B', 'C', 'D', 'E', 'F', 'G']\n",
    "df.head()"
   ]
  },
  {
   "cell_type": "code",
   "execution_count": 9,
   "id": "f8e0b4ad",
   "metadata": {},
   "outputs": [
    {
     "data": {
      "text/plain": [
       "(1000, 7)"
      ]
     },
     "execution_count": 9,
     "metadata": {},
     "output_type": "execute_result"
    }
   ],
   "source": [
    "df.shape"
   ]
  },
  {
   "cell_type": "code",
   "execution_count": 10,
   "id": "271bdc45",
   "metadata": {},
   "outputs": [
    {
     "data": {
      "text/html": [
       "<div>\n",
       "<style scoped>\n",
       "    .dataframe tbody tr th:only-of-type {\n",
       "        vertical-align: middle;\n",
       "    }\n",
       "\n",
       "    .dataframe tbody tr th {\n",
       "        vertical-align: top;\n",
       "    }\n",
       "\n",
       "    .dataframe thead th {\n",
       "        text-align: right;\n",
       "    }\n",
       "</style>\n",
       "<table border=\"1\" class=\"dataframe\">\n",
       "  <thead>\n",
       "    <tr style=\"text-align: right;\">\n",
       "      <th></th>\n",
       "      <th>A</th>\n",
       "      <th>B</th>\n",
       "      <th>C</th>\n",
       "      <th>D</th>\n",
       "      <th>E</th>\n",
       "      <th>F</th>\n",
       "      <th>G</th>\n",
       "    </tr>\n",
       "  </thead>\n",
       "  <tbody>\n",
       "    <tr>\n",
       "      <th>A</th>\n",
       "      <td>1.000000</td>\n",
       "      <td>0.231349</td>\n",
       "      <td>-0.025313</td>\n",
       "      <td>0.046174</td>\n",
       "      <td>0.017588</td>\n",
       "      <td>-0.023315</td>\n",
       "      <td>-0.039416</td>\n",
       "    </tr>\n",
       "    <tr>\n",
       "      <th>B</th>\n",
       "      <td>0.231349</td>\n",
       "      <td>1.000000</td>\n",
       "      <td>0.013457</td>\n",
       "      <td>-0.067081</td>\n",
       "      <td>-0.013813</td>\n",
       "      <td>-0.002331</td>\n",
       "      <td>-0.008133</td>\n",
       "    </tr>\n",
       "    <tr>\n",
       "      <th>C</th>\n",
       "      <td>-0.025313</td>\n",
       "      <td>0.013457</td>\n",
       "      <td>1.000000</td>\n",
       "      <td>-0.055142</td>\n",
       "      <td>-0.058084</td>\n",
       "      <td>0.028971</td>\n",
       "      <td>0.010630</td>\n",
       "    </tr>\n",
       "    <tr>\n",
       "      <th>D</th>\n",
       "      <td>0.046174</td>\n",
       "      <td>-0.067081</td>\n",
       "      <td>-0.055142</td>\n",
       "      <td>1.000000</td>\n",
       "      <td>0.045601</td>\n",
       "      <td>-0.014744</td>\n",
       "      <td>-0.049571</td>\n",
       "    </tr>\n",
       "    <tr>\n",
       "      <th>E</th>\n",
       "      <td>0.017588</td>\n",
       "      <td>-0.013813</td>\n",
       "      <td>-0.058084</td>\n",
       "      <td>0.045601</td>\n",
       "      <td>1.000000</td>\n",
       "      <td>0.072896</td>\n",
       "      <td>0.004441</td>\n",
       "    </tr>\n",
       "    <tr>\n",
       "      <th>F</th>\n",
       "      <td>-0.023315</td>\n",
       "      <td>-0.002331</td>\n",
       "      <td>0.028971</td>\n",
       "      <td>-0.014744</td>\n",
       "      <td>0.072896</td>\n",
       "      <td>1.000000</td>\n",
       "      <td>0.254317</td>\n",
       "    </tr>\n",
       "    <tr>\n",
       "      <th>G</th>\n",
       "      <td>-0.039416</td>\n",
       "      <td>-0.008133</td>\n",
       "      <td>0.010630</td>\n",
       "      <td>-0.049571</td>\n",
       "      <td>0.004441</td>\n",
       "      <td>0.254317</td>\n",
       "      <td>1.000000</td>\n",
       "    </tr>\n",
       "  </tbody>\n",
       "</table>\n",
       "</div>"
      ],
      "text/plain": [
       "          A         B         C         D         E         F         G\n",
       "A  1.000000  0.231349 -0.025313  0.046174  0.017588 -0.023315 -0.039416\n",
       "B  0.231349  1.000000  0.013457 -0.067081 -0.013813 -0.002331 -0.008133\n",
       "C -0.025313  0.013457  1.000000 -0.055142 -0.058084  0.028971  0.010630\n",
       "D  0.046174 -0.067081 -0.055142  1.000000  0.045601 -0.014744 -0.049571\n",
       "E  0.017588 -0.013813 -0.058084  0.045601  1.000000  0.072896  0.004441\n",
       "F -0.023315 -0.002331  0.028971 -0.014744  0.072896  1.000000  0.254317\n",
       "G -0.039416 -0.008133  0.010630 -0.049571  0.004441  0.254317  1.000000"
      ]
     },
     "execution_count": 10,
     "metadata": {},
     "output_type": "execute_result"
    }
   ],
   "source": [
    "df.corr()"
   ]
  },
  {
   "cell_type": "code",
   "execution_count": 11,
   "id": "3adaa1b7",
   "metadata": {},
   "outputs": [
    {
     "name": "stderr",
     "output_type": "stream",
     "text": [
      "2023-08-18 12:47:26,631 - C:\\ProgramData\\Anaconda3\\lib\\site-packages\\castle\\backend\\__init__.py[line:37] - INFO: You can use `os.environ['CASTLE_BACKEND'] = backend` to set the backend(`pytorch` or `mindspore`).\n",
      "2023-08-18 12:47:27,085 - C:\\ProgramData\\Anaconda3\\lib\\site-packages\\castle\\algorithms\\__init__.py[line:36] - INFO: You are using ``pytorch`` as the backend.\n"
     ]
    }
   ],
   "source": [
    "from castle.algorithms import PC\n",
    "\n",
    "pc = PC()\n",
    "\n",
    "pc.learn(dataset.X)"
   ]
  },
  {
   "cell_type": "code",
   "execution_count": 12,
   "id": "c269739a",
   "metadata": {},
   "outputs": [
    {
     "data": {
      "image/svg+xml": [
       "<svg height=\"540\" width=\"746.0\" xmlns=\"http://www.w3.org/2000/svg\"><defs><marker id=\"arrow\" markerHeight=\"10\" markerWidth=\"10\" orient=\"auto\" refX=\"9\" refY=\"3\"><path d=\"M0,0 L0,6 L9,3 z\" fill=\"gray\"/></marker></defs><path d=\"M 406 401 406 214\" marker-end=\"url(#arrow)\" stroke=\"gray\" stroke-width=\"0.5\"/><path d=\"M 406 20 406 208\" marker-end=\"url(#arrow)\" stroke=\"gray\" stroke-width=\"0.5\"/><path d=\"M 20 139 20 326\" marker-end=\"url(#arrow)\" stroke=\"gray\" stroke-width=\"0.5\"/><path d=\"M 20 520 20 332\" marker-end=\"url(#arrow)\" stroke=\"gray\" stroke-width=\"0.5\"/><circle cx=\"406\" cy=\"401\" r=\"4.0\" style=\"fill:rgb(58, 76, 192);stroke:black;stroke-width:1.0\"/><circle cx=\"406\" cy=\"211\" r=\"4.0\" style=\"fill:rgb(179, 3, 38);stroke:black;stroke-width:1.0\"/><circle cx=\"720\" cy=\"369\" r=\"4.0\" style=\"fill:rgb(247, 179, 151);stroke:black;stroke-width:1.0\"/><circle cx=\"406\" cy=\"20\" r=\"4.0\" style=\"fill:rgb(58, 76, 192);stroke:black;stroke-width:1.0\"/><circle cx=\"20\" cy=\"139\" r=\"4.0\" style=\"fill:rgb(58, 76, 192);stroke:black;stroke-width:1.0\"/><circle cx=\"20\" cy=\"329\" r=\"4.0\" style=\"fill:rgb(179, 3, 38);stroke:black;stroke-width:1.0\"/><circle cx=\"20\" cy=\"520\" r=\"4.0\" style=\"fill:rgb(58, 76, 192);stroke:black;stroke-width:1.0\"/><text font-size=\"12\" x=\"420\" y=\"405\">A</text><text font-size=\"12\" x=\"420\" y=\"215\">B</text><text font-size=\"12\" x=\"734\" y=\"373\">C</text><text font-size=\"12\" x=\"420\" y=\"24\">D</text><text font-size=\"12\" x=\"34\" y=\"143\">E</text><text font-size=\"12\" x=\"34\" y=\"333\">F</text><text font-size=\"12\" x=\"34\" y=\"524\">G</text></svg>"
      ],
      "text/plain": [
       "<IPython.core.display.SVG object>"
      ]
     },
     "execution_count": 12,
     "metadata": {},
     "output_type": "execute_result"
    }
   ],
   "source": [
    "G = nx.from_numpy_matrix(pc.causal_matrix, create_using=nx.DiGraph)\n",
    "mapping = {0:'A', 1:'B', 2:'C', 3:'D', 4:'E', 5:'F', 6:'G'}\n",
    "\n",
    "G = nx.relabel_nodes(G, mapping)\n",
    "\n",
    "draw_graph(G, show_names=True, node_size=4, font_size=12, edge_width=0.5)"
   ]
  },
  {
   "cell_type": "code",
   "execution_count": null,
   "id": "bb59ce20",
   "metadata": {},
   "outputs": [],
   "source": []
  },
  {
   "cell_type": "markdown",
   "id": "57e5bbd3",
   "metadata": {},
   "source": [
    "## Dense Graphs\n",
    "\n",
    "A dense graph is a type of graph in network science where most of the possible edges are present, resulting in a high density of connections between nodes. In a dense graph, the number of edges is close to the maximum possible for the given number of nodes. Dense graphs are often used to model scenarios where interactions or relationships between entities are widespread and frequent.\n",
    "\n",
    "You can learn more at https://en.wikipedia.org/wiki/Dense_graph"
   ]
  },
  {
   "cell_type": "code",
   "execution_count": 18,
   "id": "9625109f",
   "metadata": {},
   "outputs": [
    {
     "data": {
      "image/svg+xml": [
       "<svg height=\"540\" width=\"746.0\" xmlns=\"http://www.w3.org/2000/svg\"><defs><marker id=\"arrow\" markerHeight=\"10\" markerWidth=\"10\" orient=\"auto\" refX=\"9\" refY=\"3\"><path d=\"M0,0 L0,6 L9,3 z\" fill=\"gray\"/></marker></defs><path d=\"M 290 520 713 419\" marker-end=\"url(#arrow)\" stroke=\"gray\" stroke-width=\"1\"/><path d=\"M 290 520 402 276\" marker-end=\"url(#arrow)\" stroke=\"gray\" stroke-width=\"1\"/><path d=\"M 290 520 277 27\" marker-end=\"url(#arrow)\" stroke=\"gray\" stroke-width=\"1\"/><path d=\"M 290 520 25 277\" marker-end=\"url(#arrow)\" stroke=\"gray\" stroke-width=\"1\"/><path d=\"M 290 520 705 114\" marker-end=\"url(#arrow)\" stroke=\"gray\" stroke-width=\"1\"/><path d=\"M 720 418 412 272\" marker-end=\"url(#arrow)\" stroke=\"gray\" stroke-width=\"1\"/><path d=\"M 720 418 282 25\" marker-end=\"url(#arrow)\" stroke=\"gray\" stroke-width=\"1\"/><path d=\"M 720 418 27 273\" marker-end=\"url(#arrow)\" stroke=\"gray\" stroke-width=\"1\"/><path d=\"M 720 418 710 116\" marker-end=\"url(#arrow)\" stroke=\"gray\" stroke-width=\"1\"/><path d=\"M 405 269 280 27\" marker-end=\"url(#arrow)\" stroke=\"gray\" stroke-width=\"1\"/><path d=\"M 405 269 27 272\" marker-end=\"url(#arrow)\" stroke=\"gray\" stroke-width=\"1\"/><path d=\"M 405 269 703 112\" marker-end=\"url(#arrow)\" stroke=\"gray\" stroke-width=\"1\"/><path d=\"M 277 20 25 267\" marker-end=\"url(#arrow)\" stroke=\"gray\" stroke-width=\"1\"/><path d=\"M 277 20 703 108\" marker-end=\"url(#arrow)\" stroke=\"gray\" stroke-width=\"1\"/><path d=\"M 20 272 703 110\" marker-end=\"url(#arrow)\" stroke=\"gray\" stroke-width=\"1\"/><circle cx=\"290\" cy=\"520\" r=\"8.0\" style=\"fill:rgb(58, 76, 192);stroke:black;stroke-width:1.0\"/><circle cx=\"720\" cy=\"418\" r=\"8.0\" style=\"fill:rgb(60, 79, 195);stroke:black;stroke-width:1.0\"/><circle cx=\"405\" cy=\"269\" r=\"8.0\" style=\"fill:rgb(70, 93, 207);stroke:black;stroke-width:1.0\"/><circle cx=\"277\" cy=\"20\" r=\"8.0\" style=\"fill:rgb(88, 118, 226);stroke:black;stroke-width:1.0\"/><circle cx=\"20\" cy=\"272\" r=\"8.0\" style=\"fill:rgb(127, 162, 250);stroke:black;stroke-width:1.0\"/><circle cx=\"710\" cy=\"109\" r=\"8.0\" style=\"fill:rgb(179, 3, 38);stroke:black;stroke-width:1.0\"/><text font-size=\"12\" x=\"308\" y=\"528\">A</text><text font-size=\"12\" x=\"738\" y=\"426\">B</text><text font-size=\"12\" x=\"423\" y=\"277\">C</text><text font-size=\"12\" x=\"295\" y=\"28\">D</text><text font-size=\"12\" x=\"38\" y=\"280\">E</text><text font-size=\"12\" x=\"728\" y=\"117\">F</text></svg>"
      ],
      "text/plain": [
       "<IPython.core.display.SVG object>"
      ]
     },
     "execution_count": 18,
     "metadata": {},
     "output_type": "execute_result"
    }
   ],
   "source": [
    "edges = ['AB', 'AC', 'AD', 'AE', 'AF', 'BC', 'BD', 'BE', 'BF', 'CD', 'CE', 'CF', 'DE', 'DF', 'EF']\n",
    "\n",
    "edgelist = [(e[0],e[1]) for e in edges]\n",
    "\n",
    "G = nx.from_edgelist(edgelist, create_using=nx.DiGraph)\n",
    "\n",
    "draw_graph(G, show_names=True, node_size=8, font_size=12, edge_width=1)"
   ]
  },
  {
   "cell_type": "code",
   "execution_count": 19,
   "id": "6e8057e6",
   "metadata": {},
   "outputs": [
    {
     "name": "stderr",
     "output_type": "stream",
     "text": [
      "2023-08-15 17:57:08,325 - C:\\ProgramData\\Anaconda3\\lib\\site-packages\\castle\\datasets\\simulator.py[line:270] - INFO: Finished synthetic dataset\n"
     ]
    }
   ],
   "source": [
    "adj_matrix = nx.adjacency_matrix(G)\n",
    "dataset = IIDSimulation(W=adj_matrix, n=10, method='nonlinear', sem_type='mlp')"
   ]
  },
  {
   "cell_type": "code",
   "execution_count": 20,
   "id": "a993c156",
   "metadata": {},
   "outputs": [
    {
     "data": {
      "text/html": [
       "<div>\n",
       "<style scoped>\n",
       "    .dataframe tbody tr th:only-of-type {\n",
       "        vertical-align: middle;\n",
       "    }\n",
       "\n",
       "    .dataframe tbody tr th {\n",
       "        vertical-align: top;\n",
       "    }\n",
       "\n",
       "    .dataframe thead th {\n",
       "        text-align: right;\n",
       "    }\n",
       "</style>\n",
       "<table border=\"1\" class=\"dataframe\">\n",
       "  <thead>\n",
       "    <tr style=\"text-align: right;\">\n",
       "      <th></th>\n",
       "      <th>A</th>\n",
       "      <th>B</th>\n",
       "      <th>C</th>\n",
       "      <th>D</th>\n",
       "      <th>E</th>\n",
       "      <th>F</th>\n",
       "    </tr>\n",
       "  </thead>\n",
       "  <tbody>\n",
       "    <tr>\n",
       "      <th>0</th>\n",
       "      <td>0.859782</td>\n",
       "      <td>-1.746242</td>\n",
       "      <td>-6.261908</td>\n",
       "      <td>-15.842057</td>\n",
       "      <td>0.350116</td>\n",
       "      <td>-2.721349</td>\n",
       "    </tr>\n",
       "    <tr>\n",
       "      <th>1</th>\n",
       "      <td>0.015118</td>\n",
       "      <td>1.215961</td>\n",
       "      <td>-1.102614</td>\n",
       "      <td>-9.091076</td>\n",
       "      <td>2.982965</td>\n",
       "      <td>-6.954466</td>\n",
       "    </tr>\n",
       "    <tr>\n",
       "      <th>2</th>\n",
       "      <td>-0.549327</td>\n",
       "      <td>1.565483</td>\n",
       "      <td>2.183416</td>\n",
       "      <td>0.249567</td>\n",
       "      <td>3.399759</td>\n",
       "      <td>-5.300647</td>\n",
       "    </tr>\n",
       "    <tr>\n",
       "      <th>3</th>\n",
       "      <td>-0.503076</td>\n",
       "      <td>0.124221</td>\n",
       "      <td>-0.834232</td>\n",
       "      <td>-5.388574</td>\n",
       "      <td>1.643186</td>\n",
       "      <td>-4.497750</td>\n",
       "    </tr>\n",
       "    <tr>\n",
       "      <th>4</th>\n",
       "      <td>-0.878444</td>\n",
       "      <td>2.836033</td>\n",
       "      <td>-1.403281</td>\n",
       "      <td>-6.569934</td>\n",
       "      <td>3.758301</td>\n",
       "      <td>-7.757656</td>\n",
       "    </tr>\n",
       "  </tbody>\n",
       "</table>\n",
       "</div>"
      ],
      "text/plain": [
       "          A         B         C          D         E         F\n",
       "0  0.859782 -1.746242 -6.261908 -15.842057  0.350116 -2.721349\n",
       "1  0.015118  1.215961 -1.102614  -9.091076  2.982965 -6.954466\n",
       "2 -0.549327  1.565483  2.183416   0.249567  3.399759 -5.300647\n",
       "3 -0.503076  0.124221 -0.834232  -5.388574  1.643186 -4.497750\n",
       "4 -0.878444  2.836033 -1.403281  -6.569934  3.758301 -7.757656"
      ]
     },
     "execution_count": 20,
     "metadata": {},
     "output_type": "execute_result"
    }
   ],
   "source": [
    "df = pd.DataFrame(dataset.X)\n",
    "df.columns = ['A', 'B', 'C', 'D', 'E', 'F']\n",
    "df.head()"
   ]
  },
  {
   "cell_type": "code",
   "execution_count": 21,
   "id": "aff18b5a",
   "metadata": {},
   "outputs": [
    {
     "data": {
      "text/html": [
       "<div>\n",
       "<style scoped>\n",
       "    .dataframe tbody tr th:only-of-type {\n",
       "        vertical-align: middle;\n",
       "    }\n",
       "\n",
       "    .dataframe tbody tr th {\n",
       "        vertical-align: top;\n",
       "    }\n",
       "\n",
       "    .dataframe thead th {\n",
       "        text-align: right;\n",
       "    }\n",
       "</style>\n",
       "<table border=\"1\" class=\"dataframe\">\n",
       "  <thead>\n",
       "    <tr style=\"text-align: right;\">\n",
       "      <th></th>\n",
       "      <th>A</th>\n",
       "      <th>B</th>\n",
       "      <th>C</th>\n",
       "      <th>D</th>\n",
       "      <th>E</th>\n",
       "      <th>F</th>\n",
       "    </tr>\n",
       "  </thead>\n",
       "  <tbody>\n",
       "    <tr>\n",
       "      <th>A</th>\n",
       "      <td>1.000000</td>\n",
       "      <td>-0.949209</td>\n",
       "      <td>-0.883721</td>\n",
       "      <td>-0.612170</td>\n",
       "      <td>-0.809954</td>\n",
       "      <td>0.846218</td>\n",
       "    </tr>\n",
       "    <tr>\n",
       "      <th>B</th>\n",
       "      <td>-0.949209</td>\n",
       "      <td>1.000000</td>\n",
       "      <td>0.842925</td>\n",
       "      <td>0.500199</td>\n",
       "      <td>0.755076</td>\n",
       "      <td>-0.848499</td>\n",
       "    </tr>\n",
       "    <tr>\n",
       "      <th>C</th>\n",
       "      <td>-0.883721</td>\n",
       "      <td>0.842925</td>\n",
       "      <td>1.000000</td>\n",
       "      <td>0.846380</td>\n",
       "      <td>0.861012</td>\n",
       "      <td>-0.818228</td>\n",
       "    </tr>\n",
       "    <tr>\n",
       "      <th>D</th>\n",
       "      <td>-0.612170</td>\n",
       "      <td>0.500199</td>\n",
       "      <td>0.846380</td>\n",
       "      <td>1.000000</td>\n",
       "      <td>0.737067</td>\n",
       "      <td>-0.566074</td>\n",
       "    </tr>\n",
       "    <tr>\n",
       "      <th>E</th>\n",
       "      <td>-0.809954</td>\n",
       "      <td>0.755076</td>\n",
       "      <td>0.861012</td>\n",
       "      <td>0.737067</td>\n",
       "      <td>1.000000</td>\n",
       "      <td>-0.934947</td>\n",
       "    </tr>\n",
       "    <tr>\n",
       "      <th>F</th>\n",
       "      <td>0.846218</td>\n",
       "      <td>-0.848499</td>\n",
       "      <td>-0.818228</td>\n",
       "      <td>-0.566074</td>\n",
       "      <td>-0.934947</td>\n",
       "      <td>1.000000</td>\n",
       "    </tr>\n",
       "  </tbody>\n",
       "</table>\n",
       "</div>"
      ],
      "text/plain": [
       "          A         B         C         D         E         F\n",
       "A  1.000000 -0.949209 -0.883721 -0.612170 -0.809954  0.846218\n",
       "B -0.949209  1.000000  0.842925  0.500199  0.755076 -0.848499\n",
       "C -0.883721  0.842925  1.000000  0.846380  0.861012 -0.818228\n",
       "D -0.612170  0.500199  0.846380  1.000000  0.737067 -0.566074\n",
       "E -0.809954  0.755076  0.861012  0.737067  1.000000 -0.934947\n",
       "F  0.846218 -0.848499 -0.818228 -0.566074 -0.934947  1.000000"
      ]
     },
     "execution_count": 21,
     "metadata": {},
     "output_type": "execute_result"
    }
   ],
   "source": [
    "df.corr()"
   ]
  },
  {
   "cell_type": "markdown",
   "id": "31e0861b",
   "metadata": {},
   "source": [
    "## Wheel Graphs\n",
    "\n",
    "A wheel graph is visibly identical to a cycle graph, but each of the outer nodes links to an inner node, creating what looks like a wheel. However, it is not identical to a cycle graph, as this is an undirected graph, where a cycle graph is directed.\n",
    "\n",
    "You can learn more at https://en.wikipedia.org/wiki/Wheel_graph"
   ]
  },
  {
   "cell_type": "code",
   "execution_count": 22,
   "id": "99d0ed07",
   "metadata": {},
   "outputs": [
    {
     "data": {
      "image/svg+xml": [
       "<svg height=\"540\" width=\"746.0\" xmlns=\"http://www.w3.org/2000/svg\"><defs><marker id=\"arrow\" markerHeight=\"10\" markerWidth=\"10\" orient=\"auto\" refX=\"9\" refY=\"3\"><path d=\"M0,0 L0,6 L9,3 z\" fill=\"gray\"/></marker></defs><path d=\"M 566 484 716 295\" marker-end=\"url(#arrow)\" stroke=\"gray\" stroke-width=\"1\"/><path d=\"M 566 484 365 279\" marker-end=\"url(#arrow)\" stroke=\"gray\" stroke-width=\"1\"/><path d=\"M 720 289 603 86\" marker-end=\"url(#arrow)\" stroke=\"gray\" stroke-width=\"1\"/><path d=\"M 720 289 367 274\" marker-end=\"url(#arrow)\" stroke=\"gray\" stroke-width=\"1\"/><path d=\"M 600 80 303 21\" marker-end=\"url(#arrow)\" stroke=\"gray\" stroke-width=\"1\"/><path d=\"M 600 80 366 269\" marker-end=\"url(#arrow)\" stroke=\"gray\" stroke-width=\"1\"/><path d=\"M 296 20 44 146\" marker-end=\"url(#arrow)\" stroke=\"gray\" stroke-width=\"1\"/><path d=\"M 296 20 359 267\" marker-end=\"url(#arrow)\" stroke=\"gray\" stroke-width=\"1\"/><path d=\"M 37 149 20 364\" marker-end=\"url(#arrow)\" stroke=\"gray\" stroke-width=\"1\"/><path d=\"M 37 149 353 272\" marker-end=\"url(#arrow)\" stroke=\"gray\" stroke-width=\"1\"/><path d=\"M 20 371 248 516\" marker-end=\"url(#arrow)\" stroke=\"gray\" stroke-width=\"1\"/><path d=\"M 20 371 353 276\" marker-end=\"url(#arrow)\" stroke=\"gray\" stroke-width=\"1\"/><path d=\"M 254 520 559 484\" marker-end=\"url(#arrow)\" stroke=\"gray\" stroke-width=\"1\"/><path d=\"M 254 520 357 281\" marker-end=\"url(#arrow)\" stroke=\"gray\" stroke-width=\"1\"/><path d=\"M 360 274 561 479\" marker-end=\"url(#arrow)\" stroke=\"gray\" stroke-width=\"1\"/><path d=\"M 360 274 713 289\" marker-end=\"url(#arrow)\" stroke=\"gray\" stroke-width=\"1\"/><path d=\"M 360 274 594 85\" marker-end=\"url(#arrow)\" stroke=\"gray\" stroke-width=\"1\"/><path d=\"M 360 274 297 27\" marker-end=\"url(#arrow)\" stroke=\"gray\" stroke-width=\"1\"/><path d=\"M 360 274 44 151\" marker-end=\"url(#arrow)\" stroke=\"gray\" stroke-width=\"1\"/><path d=\"M 360 274 27 369\" marker-end=\"url(#arrow)\" stroke=\"gray\" stroke-width=\"1\"/><path d=\"M 360 274 257 513\" marker-end=\"url(#arrow)\" stroke=\"gray\" stroke-width=\"1\"/><circle cx=\"566\" cy=\"484\" r=\"8.0\" style=\"fill:rgb(58, 76, 192);stroke:black;stroke-width:1.0\"/><circle cx=\"720\" cy=\"289\" r=\"8.0\" style=\"fill:rgb(58, 76, 192);stroke:black;stroke-width:1.0\"/><circle cx=\"600\" cy=\"80\" r=\"8.0\" style=\"fill:rgb(58, 76, 192);stroke:black;stroke-width:1.0\"/><circle cx=\"296\" cy=\"20\" r=\"8.0\" style=\"fill:rgb(58, 76, 192);stroke:black;stroke-width:1.0\"/><circle cx=\"37\" cy=\"149\" r=\"8.0\" style=\"fill:rgb(58, 76, 192);stroke:black;stroke-width:1.0\"/><circle cx=\"20\" cy=\"371\" r=\"8.0\" style=\"fill:rgb(58, 76, 192);stroke:black;stroke-width:1.0\"/><circle cx=\"254\" cy=\"520\" r=\"8.0\" style=\"fill:rgb(58, 76, 192);stroke:black;stroke-width:1.0\"/><circle cx=\"360\" cy=\"274\" r=\"8.0\" style=\"fill:rgb(179, 3, 38);stroke:black;stroke-width:1.0\"/><text font-size=\"12\" x=\"584\" y=\"492\">A</text><text font-size=\"12\" x=\"738\" y=\"297\">B</text><text font-size=\"12\" x=\"618\" y=\"88\">C</text><text font-size=\"12\" x=\"314\" y=\"28\">D</text><text font-size=\"12\" x=\"55\" y=\"157\">E</text><text font-size=\"12\" x=\"38\" y=\"379\">F</text><text font-size=\"12\" x=\"272\" y=\"528\">G</text><text font-size=\"12\" x=\"378\" y=\"282\">H</text></svg>"
      ],
      "text/plain": [
       "<IPython.core.display.SVG object>"
      ]
     },
     "execution_count": 22,
     "metadata": {},
     "output_type": "execute_result"
    }
   ],
   "source": [
    "edges = ['AB', 'BC', 'CD', 'DE', 'EF', 'FG', 'GA', 'AH', 'BH', 'CH', 'DH', 'EH', 'FH', 'GH', 'HA', 'HB', 'HC', 'HD', 'HE', 'HF', 'HG']\n",
    "\n",
    "edgelist = [(e[0],e[1]) for e in edges]\n",
    "\n",
    "G = nx.from_edgelist(edgelist, create_using=nx.DiGraph)\n",
    "\n",
    "draw_graph(G, show_names=True, node_size=8, font_size=12, edge_width=1)"
   ]
  }
 ],
 "metadata": {
  "kernelspec": {
   "display_name": "Python 3",
   "language": "python",
   "name": "python3"
  },
  "language_info": {
   "codemirror_mode": {
    "name": "ipython",
    "version": 3
   },
   "file_extension": ".py",
   "mimetype": "text/x-python",
   "name": "python",
   "nbconvert_exporter": "python",
   "pygments_lexer": "ipython3",
   "version": "3.7.16"
  }
 },
 "nbformat": 4,
 "nbformat_minor": 5
}
