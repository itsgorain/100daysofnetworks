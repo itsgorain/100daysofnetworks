{
 "cells": [
  {
   "cell_type": "code",
   "execution_count": 1,
   "id": "c3a22200",
   "metadata": {},
   "outputs": [],
   "source": [
    "import networkx as nx\n",
    "import numpy as np\n",
    "import pandas as pd\n",
    "\n",
    "from IPython.display import SVG \n",
    "from sknetwork.visualization import svg_graph, svg_digraph \n",
    "from sknetwork.data import Bunch \n",
    "from sknetwork.ranking import PageRank "
   ]
  },
  {
   "cell_type": "code",
   "execution_count": 2,
   "id": "b22ee824",
   "metadata": {},
   "outputs": [],
   "source": [
    "def draw_graph(G, show_names=False, node_size=1, font_size=10, edge_width=0.5): \n",
    "\n",
    "    adjacency = nx.to_scipy_sparse_matrix(G, nodelist=None, dtype=None, weight='weight', format='csr') \n",
    "\n",
    "    names = np.array(list(G.nodes())) \n",
    "\n",
    "    graph = Bunch() \n",
    "    graph.adjacency = adjacency \n",
    "    graph.names = np.array(names) \n",
    "\n",
    "    pagerank = PageRank() \n",
    "\n",
    "    scores = pagerank.fit_transform(adjacency) \n",
    "\n",
    "    if show_names: \n",
    "        \n",
    "        image = svg_digraph(graph.adjacency, font_size=font_size, node_size=node_size, names=graph.names, width=700, height=500, scores=scores, edge_width=edge_width) \n",
    "\n",
    "    else: \n",
    "\n",
    "        image = svg_digraph(graph.adjacency, node_size=node_size, width=700, height=500, scores = scores, edge_width=edge_width) \n",
    "\n",
    "    return SVG(image) "
   ]
  },
  {
   "cell_type": "markdown",
   "id": "de4ff106",
   "metadata": {},
   "source": [
    "# Types of Graphs: Part 1\n",
    "\n",
    "Yesterday, we were able to use the Network Analysis network to create a learning curriculum. We will likely do that again, during this #100daysofnetworks adventures, to learn more and more to learn about. Basically, we can use that to identify gaps in our knowledge, and then we can learn those concepts. Today, we are going to learn about five different types of graphs, and look at some of their characteristics. \n",
    "\n",
    "We will look at:\n",
    "- Cycle graphs\n",
    "- Dense graphs\n",
    "- Sparse graphs\n",
    "- Regular graphs\n",
    "- Wheel graphs\n",
    "\n",
    "In practice, I tend to not think of these names when I am doing network analysis, as I am jumping between sections, excploring commmunities, looking at ego networks, identifying important nodes, etc. But this is useful to understand because THERE ARE different types of graphs, and they have unique characteristics. \n",
    "\n",
    "Often, in practice, I will see these types of graphs in subgraphs, or in cores, or in communities, but it is extremely rare that a network I analyze will be wheel graph, for instance. \n",
    "\n",
    "But this is useful knowledge, and it is good to have a common vocabulary.\n",
    "\n",
    "I am using ChatGPT to make short work of summarization. As always, if you use a LLM, you should verify that it has given you the correct answer. You can see what I did here: https://chat.openai.com/share/04278943-07d5-4568-ad78-2f23c3e18c3e\n",
    "\n",
    "We could build some of these with NetworkX graph generators, but I am doing this manually so that you can understand more easily.\n",
    "\n",
    "I am using an older version of scikit-network. In newer versions, you can indicate whether a graph is directed or undirected, and it will render as such. In this version, I'd have to create two separate functions, so just note that in an undirected network, the arrows go both ways (and they do), and in a directed network, edges are often in a single direction, like a one-way street"
   ]
  },
  {
   "cell_type": "markdown",
   "id": "d410ed54",
   "metadata": {},
   "source": [
    "## Cycle Graphs\n",
    "\n",
    "A cycle graph is a type of graph in network science that forms a simple cycle, which is a closed path where each node is connected to exactly two neighbors except for the first and last nodes, which are connected to each other. Cycle graphs are fundamental structures in graph theory and are often used to model cyclic processes, circuits, and other scenarios with repeating patterns.\n",
    "\n",
    "Example: A -> B -> C -> D -> A\n",
    "\n",
    "You can learn more at https://en.wikipedia.org/wiki/Cycle_graph"
   ]
  },
  {
   "cell_type": "code",
   "execution_count": 3,
   "id": "2a3a2057",
   "metadata": {},
   "outputs": [
    {
     "data": {
      "image/svg+xml": [
       "<svg height=\"540\" width=\"746.0\" xmlns=\"http://www.w3.org/2000/svg\"><defs><marker id=\"arrow\" markerHeight=\"10\" markerWidth=\"10\" orient=\"auto\" refX=\"9\" refY=\"3\"><path d=\"M0,0 L0,6 L9,3 z\" fill=\"gray\"/></marker></defs><path d=\"M 651 418 718 207\" marker-end=\"url(#arrow)\" stroke=\"gray\" stroke-width=\"1\"/><path d=\"M 720 200 528 25\" marker-end=\"url(#arrow)\" stroke=\"gray\" stroke-width=\"1\"/><path d=\"M 523 20 216 22\" marker-end=\"url(#arrow)\" stroke=\"gray\" stroke-width=\"1\"/><path d=\"M 209 22 25 192\" marker-end=\"url(#arrow)\" stroke=\"gray\" stroke-width=\"1\"/><path d=\"M 20 197 81 410\" marker-end=\"url(#arrow)\" stroke=\"gray\" stroke-width=\"1\"/><path d=\"M 83 417 361 518\" marker-end=\"url(#arrow)\" stroke=\"gray\" stroke-width=\"1\"/><path d=\"M 368 520 644 420\" marker-end=\"url(#arrow)\" stroke=\"gray\" stroke-width=\"1\"/><circle cx=\"651\" cy=\"418\" r=\"8.0\" style=\"fill:rgb(219, 220, 222);stroke:black;stroke-width:1.0\"/><circle cx=\"720\" cy=\"200\" r=\"8.0\" style=\"fill:rgb(219, 220, 222);stroke:black;stroke-width:1.0\"/><circle cx=\"523\" cy=\"20\" r=\"8.0\" style=\"fill:rgb(219, 220, 222);stroke:black;stroke-width:1.0\"/><circle cx=\"209\" cy=\"22\" r=\"8.0\" style=\"fill:rgb(219, 220, 222);stroke:black;stroke-width:1.0\"/><circle cx=\"20\" cy=\"197\" r=\"8.0\" style=\"fill:rgb(219, 220, 222);stroke:black;stroke-width:1.0\"/><circle cx=\"83\" cy=\"417\" r=\"8.0\" style=\"fill:rgb(219, 220, 222);stroke:black;stroke-width:1.0\"/><circle cx=\"368\" cy=\"520\" r=\"8.0\" style=\"fill:rgb(219, 220, 222);stroke:black;stroke-width:1.0\"/><text font-size=\"12\" x=\"669\" y=\"426\">A</text><text font-size=\"12\" x=\"738\" y=\"208\">B</text><text font-size=\"12\" x=\"541\" y=\"28\">C</text><text font-size=\"12\" x=\"227\" y=\"30\">D</text><text font-size=\"12\" x=\"38\" y=\"205\">E</text><text font-size=\"12\" x=\"101\" y=\"425\">F</text><text font-size=\"12\" x=\"386\" y=\"528\">G</text></svg>"
      ],
      "text/plain": [
       "<IPython.core.display.SVG object>"
      ]
     },
     "execution_count": 3,
     "metadata": {},
     "output_type": "execute_result"
    }
   ],
   "source": [
    "edges = ['AB', 'BC', 'CD', 'DE', 'EF', 'FG', 'GA']\n",
    "\n",
    "edgelist = [(e[0],e[1]) for e in edges]\n",
    "\n",
    "G = nx.from_edgelist(edgelist, create_using=nx.DiGraph)\n",
    "\n",
    "draw_graph(G, show_names=True, node_size=8, font_size=12, edge_width=1)"
   ]
  },
  {
   "cell_type": "markdown",
   "id": "8ff67159",
   "metadata": {},
   "source": [
    "### Density\n",
    "A maximum density of 1.0 would indicate that every single node has an edge (is connected to) with every single other node in the network. In this graph, nodes are only connected with the node in front of them. It is a one-way street. So, the density score will be low, but it will not be 0.0. A minimal density of 0.0 would indicate that no nodes are connected with any other nodes in the network. "
   ]
  },
  {
   "cell_type": "code",
   "execution_count": 4,
   "id": "1f804e1f",
   "metadata": {},
   "outputs": [
    {
     "data": {
      "text/plain": [
       "0.16666666666666666"
      ]
     },
     "execution_count": 4,
     "metadata": {},
     "output_type": "execute_result"
    }
   ],
   "source": [
    "nx.density(G)"
   ]
  },
  {
   "cell_type": "markdown",
   "id": "3efb45b9",
   "metadata": {},
   "source": [
    "### Betweenness Centrality\n",
    "Betweenness Centrality shows which nodes sit between other nodes. Nodes with higher betweenness centrality values sit on the shortest path of more nodes than nodes with low betweenenness centrality values."
   ]
  },
  {
   "cell_type": "code",
   "execution_count": 5,
   "id": "2d00f67f",
   "metadata": {},
   "outputs": [
    {
     "data": {
      "text/plain": [
       "{'A': 0.5, 'B': 0.5, 'C': 0.5, 'D': 0.5, 'E': 0.5, 'F': 0.5, 'G': 0.5}"
      ]
     },
     "execution_count": 5,
     "metadata": {},
     "output_type": "execute_result"
    }
   ],
   "source": [
    "nx.betweenness_centrality(G)"
   ]
  },
  {
   "cell_type": "markdown",
   "id": "fceeb97c",
   "metadata": {},
   "source": [
    "There's no point even visualizing this. Every single node has an identical betweenenss centrality value, because every single node sits between one node and another node."
   ]
  },
  {
   "cell_type": "markdown",
   "id": "e36068f6",
   "metadata": {},
   "source": [
    "### Degree Centrality\n",
    "Degree Centrality has to do with the number of edges a node has. It is a simple measure and has nothing to do with whether a node sits on a shortest path. It only cares about the degrees (edges) a node has. In this case, every node has the same number of edges, so their degree centrality will be identical."
   ]
  },
  {
   "cell_type": "code",
   "execution_count": 6,
   "id": "5a76556d",
   "metadata": {},
   "outputs": [
    {
     "data": {
      "text/plain": [
       "{'A': 0.3333333333333333,\n",
       " 'B': 0.3333333333333333,\n",
       " 'C': 0.3333333333333333,\n",
       " 'D': 0.3333333333333333,\n",
       " 'E': 0.3333333333333333,\n",
       " 'F': 0.3333333333333333,\n",
       " 'G': 0.3333333333333333}"
      ]
     },
     "execution_count": 6,
     "metadata": {},
     "output_type": "execute_result"
    }
   ],
   "source": [
    "nx.degree_centrality(G)"
   ]
  },
  {
   "cell_type": "markdown",
   "id": "c0660293",
   "metadata": {},
   "source": [
    "We can also see this by looking at the degrees of a Graph. You can use either of these two approaches."
   ]
  },
  {
   "cell_type": "code",
   "execution_count": 7,
   "id": "c298dc9e",
   "metadata": {},
   "outputs": [
    {
     "data": {
      "text/plain": [
       "DiDegreeView({'A': 2, 'B': 2, 'C': 2, 'D': 2, 'E': 2, 'F': 2, 'G': 2})"
      ]
     },
     "execution_count": 7,
     "metadata": {},
     "output_type": "execute_result"
    }
   ],
   "source": [
    "G.degree"
   ]
  },
  {
   "cell_type": "code",
   "execution_count": 8,
   "id": "27403e1c",
   "metadata": {},
   "outputs": [
    {
     "data": {
      "text/plain": [
       "DiDegreeView({'A': 2, 'B': 2, 'C': 2, 'D': 2, 'E': 2, 'F': 2, 'G': 2})"
      ]
     },
     "execution_count": 8,
     "metadata": {},
     "output_type": "execute_result"
    }
   ],
   "source": [
    "nx.degree(G)"
   ]
  },
  {
   "cell_type": "markdown",
   "id": "be2ec6e0",
   "metadata": {},
   "source": [
    "### Shortest Paths\n",
    "Because of the cyclic nature of the graph, the shortest path from A to C will be much shorter than from E to C. Think about this and it will become intuitive."
   ]
  },
  {
   "cell_type": "code",
   "execution_count": 9,
   "id": "545ea0a1",
   "metadata": {},
   "outputs": [
    {
     "data": {
      "text/plain": [
       "['A', 'B', 'C']"
      ]
     },
     "execution_count": 9,
     "metadata": {},
     "output_type": "execute_result"
    }
   ],
   "source": [
    "nx.shortest_path(G, 'A', 'C')"
   ]
  },
  {
   "cell_type": "code",
   "execution_count": 10,
   "id": "d8c054c6",
   "metadata": {},
   "outputs": [
    {
     "data": {
      "text/plain": [
       "['E', 'F', 'G', 'A', 'B', 'C']"
      ]
     },
     "execution_count": 10,
     "metadata": {},
     "output_type": "execute_result"
    }
   ],
   "source": [
    "nx.shortest_path(G, 'E', 'C')"
   ]
  },
  {
   "cell_type": "markdown",
   "id": "57e5bbd3",
   "metadata": {},
   "source": [
    "## Dense Graphs\n",
    "\n",
    "A dense graph is a type of graph in network science where most of the possible edges are present, resulting in a high density of connections between nodes. In a dense graph, the number of edges is close to the maximum possible for the given number of nodes. Dense graphs are often used to model scenarios where interactions or relationships between entities are widespread and frequent.\n",
    "\n",
    "You can learn more at https://en.wikipedia.org/wiki/Dense_graph"
   ]
  },
  {
   "cell_type": "code",
   "execution_count": 11,
   "id": "9625109f",
   "metadata": {},
   "outputs": [
    {
     "data": {
      "image/svg+xml": [
       "<svg height=\"540\" width=\"746.0\" xmlns=\"http://www.w3.org/2000/svg\"><defs><marker id=\"arrow\" markerHeight=\"10\" markerWidth=\"10\" orient=\"auto\" refX=\"9\" refY=\"3\"><path d=\"M0,0 L0,6 L9,3 z\" fill=\"gray\"/></marker></defs><path d=\"M 720 345 298 24\" marker-end=\"url(#arrow)\" stroke=\"gray\" stroke-width=\"1\"/><path d=\"M 720 345 111 444\" marker-end=\"url(#arrow)\" stroke=\"gray\" stroke-width=\"1\"/><path d=\"M 720 345 637 101\" marker-end=\"url(#arrow)\" stroke=\"gray\" stroke-width=\"1\"/><path d=\"M 720 345 453 516\" marker-end=\"url(#arrow)\" stroke=\"gray\" stroke-width=\"1\"/><path d=\"M 720 345 27 195\" marker-end=\"url(#arrow)\" stroke=\"gray\" stroke-width=\"1\"/><path d=\"M 292 20 714 341\" marker-end=\"url(#arrow)\" stroke=\"gray\" stroke-width=\"1\"/><path d=\"M 292 20 107 438\" marker-end=\"url(#arrow)\" stroke=\"gray\" stroke-width=\"1\"/><path d=\"M 292 20 628 93\" marker-end=\"url(#arrow)\" stroke=\"gray\" stroke-width=\"1\"/><path d=\"M 292 20 445 513\" marker-end=\"url(#arrow)\" stroke=\"gray\" stroke-width=\"1\"/><path d=\"M 292 20 26 190\" marker-end=\"url(#arrow)\" stroke=\"gray\" stroke-width=\"1\"/><path d=\"M 104 445 713 346\" marker-end=\"url(#arrow)\" stroke=\"gray\" stroke-width=\"1\"/><path d=\"M 104 445 289 27\" marker-end=\"url(#arrow)\" stroke=\"gray\" stroke-width=\"1\"/><path d=\"M 104 445 629 98\" marker-end=\"url(#arrow)\" stroke=\"gray\" stroke-width=\"1\"/><path d=\"M 104 445 440 519\" marker-end=\"url(#arrow)\" stroke=\"gray\" stroke-width=\"1\"/><path d=\"M 104 445 22 201\" marker-end=\"url(#arrow)\" stroke=\"gray\" stroke-width=\"1\"/><path d=\"M 635 94 718 338\" marker-end=\"url(#arrow)\" stroke=\"gray\" stroke-width=\"1\"/><path d=\"M 635 94 299 21\" marker-end=\"url(#arrow)\" stroke=\"gray\" stroke-width=\"1\"/><path d=\"M 635 94 110 441\" marker-end=\"url(#arrow)\" stroke=\"gray\" stroke-width=\"1\"/><path d=\"M 635 94 450 513\" marker-end=\"url(#arrow)\" stroke=\"gray\" stroke-width=\"1\"/><path d=\"M 635 94 27 193\" marker-end=\"url(#arrow)\" stroke=\"gray\" stroke-width=\"1\"/><path d=\"M 447 520 714 349\" marker-end=\"url(#arrow)\" stroke=\"gray\" stroke-width=\"1\"/><path d=\"M 447 520 294 27\" marker-end=\"url(#arrow)\" stroke=\"gray\" stroke-width=\"1\"/><path d=\"M 447 520 111 446\" marker-end=\"url(#arrow)\" stroke=\"gray\" stroke-width=\"1\"/><path d=\"M 447 520 632 101\" marker-end=\"url(#arrow)\" stroke=\"gray\" stroke-width=\"1\"/><path d=\"M 447 520 26 198\" marker-end=\"url(#arrow)\" stroke=\"gray\" stroke-width=\"1\"/><path d=\"M 20 194 713 344\" marker-end=\"url(#arrow)\" stroke=\"gray\" stroke-width=\"1\"/><path d=\"M 20 194 286 24\" marker-end=\"url(#arrow)\" stroke=\"gray\" stroke-width=\"1\"/><path d=\"M 20 194 102 438\" marker-end=\"url(#arrow)\" stroke=\"gray\" stroke-width=\"1\"/><path d=\"M 20 194 628 95\" marker-end=\"url(#arrow)\" stroke=\"gray\" stroke-width=\"1\"/><path d=\"M 20 194 441 516\" marker-end=\"url(#arrow)\" stroke=\"gray\" stroke-width=\"1\"/><circle cx=\"720\" cy=\"345\" r=\"8.0\" style=\"fill:rgb(219, 220, 222);stroke:black;stroke-width:1.0\"/><circle cx=\"292\" cy=\"20\" r=\"8.0\" style=\"fill:rgb(219, 220, 222);stroke:black;stroke-width:1.0\"/><circle cx=\"104\" cy=\"445\" r=\"8.0\" style=\"fill:rgb(219, 220, 222);stroke:black;stroke-width:1.0\"/><circle cx=\"635\" cy=\"94\" r=\"8.0\" style=\"fill:rgb(219, 220, 222);stroke:black;stroke-width:1.0\"/><circle cx=\"447\" cy=\"520\" r=\"8.0\" style=\"fill:rgb(219, 220, 222);stroke:black;stroke-width:1.0\"/><circle cx=\"20\" cy=\"194\" r=\"8.0\" style=\"fill:rgb(219, 220, 222);stroke:black;stroke-width:1.0\"/><text font-size=\"12\" x=\"738\" y=\"353\">A</text><text font-size=\"12\" x=\"310\" y=\"28\">B</text><text font-size=\"12\" x=\"122\" y=\"453\">C</text><text font-size=\"12\" x=\"653\" y=\"102\">D</text><text font-size=\"12\" x=\"465\" y=\"528\">E</text><text font-size=\"12\" x=\"38\" y=\"202\">F</text></svg>"
      ],
      "text/plain": [
       "<IPython.core.display.SVG object>"
      ]
     },
     "execution_count": 11,
     "metadata": {},
     "output_type": "execute_result"
    }
   ],
   "source": [
    "edges = ['AB', 'AC', 'AD', 'AE', 'AF', 'BC', 'BD', 'BE', 'BF', 'CD', 'CE', 'CF', 'DE', 'DF', 'EF']\n",
    "\n",
    "edgelist = [(e[0],e[1]) for e in edges]\n",
    "\n",
    "G = nx.from_edgelist(edgelist, create_using=nx.Graph)\n",
    "\n",
    "draw_graph(G, show_names=True, node_size=8, font_size=12, edge_width=1)"
   ]
  },
  {
   "cell_type": "markdown",
   "id": "39b597a8",
   "metadata": {},
   "source": [
    "### Density\n",
    "Unlike the cycle graph, in a dense graph, most nodes are linked to most other nodes. In this case, ALL nodes are linked to other nodes. If we wanted to experiment with density values, we could drop one of the edges and see how that affects density. Please experiment!\n",
    "\n",
    "A density of 1.0 indicates that all nodes have edges (links) to all other nodes."
   ]
  },
  {
   "cell_type": "code",
   "execution_count": 12,
   "id": "a5ae7312",
   "metadata": {},
   "outputs": [
    {
     "data": {
      "text/plain": [
       "1.0"
      ]
     },
     "execution_count": 12,
     "metadata": {},
     "output_type": "execute_result"
    }
   ],
   "source": [
    "nx.density(G)"
   ]
  },
  {
   "cell_type": "markdown",
   "id": "9a9ccb31",
   "metadata": {},
   "source": [
    "### Betweenness Centrality\n",
    "As with the cycle graph, all nodes have an identical betweenness centrality. However, unlike the cycle graph, the betweenness centrality value is 0.0 instead of 0.5."
   ]
  },
  {
   "cell_type": "code",
   "execution_count": 13,
   "id": "8d77a6c1",
   "metadata": {},
   "outputs": [
    {
     "data": {
      "text/plain": [
       "{'A': 0.0, 'B': 0.0, 'C': 0.0, 'D': 0.0, 'E': 0.0, 'F': 0.0}"
      ]
     },
     "execution_count": 13,
     "metadata": {},
     "output_type": "execute_result"
    }
   ],
   "source": [
    "nx.betweenness_centrality(G)"
   ]
  },
  {
   "cell_type": "markdown",
   "id": "aaed1fc1",
   "metadata": {},
   "source": [
    "### Degree Centrality\n",
    "Each node has five edges, and each node has an identical degree centrality. Even though this is a very different kind of graph than a cycle graph, the degree centrality is uniform across nodes in the graph, as it was in a cycle graph."
   ]
  },
  {
   "cell_type": "code",
   "execution_count": 14,
   "id": "1196928f",
   "metadata": {},
   "outputs": [
    {
     "data": {
      "text/plain": [
       "{'A': 1.0, 'B': 1.0, 'C': 1.0, 'D': 1.0, 'E': 1.0, 'F': 1.0}"
      ]
     },
     "execution_count": 14,
     "metadata": {},
     "output_type": "execute_result"
    }
   ],
   "source": [
    "nx.degree_centrality(G)"
   ]
  },
  {
   "cell_type": "code",
   "execution_count": 15,
   "id": "1d4a6233",
   "metadata": {},
   "outputs": [
    {
     "data": {
      "text/plain": [
       "DegreeView({'A': 5, 'B': 5, 'C': 5, 'D': 5, 'E': 5, 'F': 5})"
      ]
     },
     "execution_count": 15,
     "metadata": {},
     "output_type": "execute_result"
    }
   ],
   "source": [
    "G.degree"
   ]
  },
  {
   "cell_type": "markdown",
   "id": "15d36fe7",
   "metadata": {},
   "source": [
    "### Shortest Paths\n",
    "Take note that the shortest paths are very different in this kind of graph vs a cycle graph. In a cycle graph, it takes much longer to go from node E to node C. In this dense graph, node C is an equal distance from nodes A and E.\n",
    "\n",
    "This has implications in communications and in network resiliency. You can bolster your network by making it more dense."
   ]
  },
  {
   "cell_type": "code",
   "execution_count": 16,
   "id": "83cf2c0a",
   "metadata": {},
   "outputs": [
    {
     "data": {
      "text/plain": [
       "['A', 'C']"
      ]
     },
     "execution_count": 16,
     "metadata": {},
     "output_type": "execute_result"
    }
   ],
   "source": [
    "nx.shortest_path(G, 'A', 'C')"
   ]
  },
  {
   "cell_type": "code",
   "execution_count": 17,
   "id": "87ba624a",
   "metadata": {},
   "outputs": [
    {
     "data": {
      "text/plain": [
       "['E', 'C']"
      ]
     },
     "execution_count": 17,
     "metadata": {},
     "output_type": "execute_result"
    }
   ],
   "source": [
    "nx.shortest_path(G, 'E', 'C')"
   ]
  },
  {
   "cell_type": "markdown",
   "id": "ab419541",
   "metadata": {},
   "source": [
    "## Sparse Graphs\n",
    "You can learn more on the Dense graph page, but a sparse graph is just a graph where nodes have very few edges."
   ]
  },
  {
   "cell_type": "code",
   "execution_count": 18,
   "id": "733f8f66",
   "metadata": {},
   "outputs": [
    {
     "data": {
      "image/svg+xml": [
       "<svg height=\"540\" width=\"746.0\" xmlns=\"http://www.w3.org/2000/svg\"><defs><marker id=\"arrow\" markerHeight=\"10\" markerWidth=\"10\" orient=\"auto\" refX=\"9\" refY=\"3\"><path d=\"M0,0 L0,6 L9,3 z\" fill=\"gray\"/></marker></defs><path d=\"M 231 351 252 353\" marker-end=\"url(#arrow)\" stroke=\"gray\" stroke-width=\"1\"/><path d=\"M 259 353 270 330\" marker-end=\"url(#arrow)\" stroke=\"gray\" stroke-width=\"1\"/><path d=\"M 259 353 268 377\" marker-end=\"url(#arrow)\" stroke=\"gray\" stroke-width=\"1\"/><circle cx=\"231\" cy=\"351\" r=\"8.0\" style=\"fill:rgb(58, 76, 192);stroke:black;stroke-width:1.0\"/><circle cx=\"259\" cy=\"353\" r=\"8.0\" style=\"fill:rgb(103, 136, 237);stroke:black;stroke-width:1.0\"/><circle cx=\"273\" cy=\"323\" r=\"8.0\" style=\"fill:rgb(179, 3, 38);stroke:black;stroke-width:1.0\"/><circle cx=\"271\" cy=\"384\" r=\"8.0\" style=\"fill:rgb(179, 3, 38);stroke:black;stroke-width:1.0\"/><circle cx=\"20\" cy=\"520\" r=\"8.0\" style=\"fill:rgb(227, 108, 84);stroke:black;stroke-width:1.0\"/><circle cx=\"610\" cy=\"155\" r=\"8.0\" style=\"fill:rgb(227, 108, 84);stroke:black;stroke-width:1.0\"/><circle cx=\"490\" cy=\"335\" r=\"8.0\" style=\"fill:rgb(227, 108, 84);stroke:black;stroke-width:1.0\"/><circle cx=\"381\" cy=\"20\" r=\"8.0\" style=\"fill:rgb(227, 108, 84);stroke:black;stroke-width:1.0\"/><circle cx=\"64\" cy=\"123\" r=\"8.0\" style=\"fill:rgb(227, 108, 84);stroke:black;stroke-width:1.0\"/><circle cx=\"720\" cy=\"344\" r=\"8.0\" style=\"fill:rgb(227, 108, 84);stroke:black;stroke-width:1.0\"/><circle cx=\"566\" cy=\"512\" r=\"8.0\" style=\"fill:rgb(227, 108, 84);stroke:black;stroke-width:1.0\"/><text font-size=\"12\" x=\"249\" y=\"359\">A</text><text font-size=\"12\" x=\"277\" y=\"361\">B</text><text font-size=\"12\" x=\"291\" y=\"331\">C</text><text font-size=\"12\" x=\"289\" y=\"392\">D</text><text font-size=\"12\" x=\"38\" y=\"528\">E</text><text font-size=\"12\" x=\"628\" y=\"163\">F</text><text font-size=\"12\" x=\"508\" y=\"343\">G</text><text font-size=\"12\" x=\"399\" y=\"28\">H</text><text font-size=\"12\" x=\"82\" y=\"131\">I</text><text font-size=\"12\" x=\"738\" y=\"352\">J</text><text font-size=\"12\" x=\"584\" y=\"520\">K</text></svg>"
      ],
      "text/plain": [
       "<IPython.core.display.SVG object>"
      ]
     },
     "execution_count": 18,
     "metadata": {},
     "output_type": "execute_result"
    }
   ],
   "source": [
    "G = nx.DiGraph()\n",
    "\n",
    "G.add_nodes_from(['A', 'B', 'C', 'D', 'E', 'F', 'G', 'H', 'I', 'J', 'K'])\n",
    "G.add_edges_from([('A', 'B'), ('B', 'C'), ('B', 'D')])\n",
    "\n",
    "draw_graph(G, show_names=True, node_size=8, font_size=12, edge_width=1)"
   ]
  },
  {
   "cell_type": "markdown",
   "id": "07ac31e7",
   "metadata": {},
   "source": [
    "### Density\n",
    "\n",
    "Look at the density score of this graph. 0.027, where the fully connected graph had a density of 1.0. I made this sparse graph look closer to what I often see in real-world datasets, allowing a few connections to exist, making this a bit more interesting than completely isolated dots."
   ]
  },
  {
   "cell_type": "code",
   "execution_count": 19,
   "id": "c5c20b69",
   "metadata": {},
   "outputs": [
    {
     "data": {
      "text/plain": [
       "0.02727272727272727"
      ]
     },
     "execution_count": 19,
     "metadata": {},
     "output_type": "execute_result"
    }
   ],
   "source": [
    "nx.density(G)"
   ]
  },
  {
   "cell_type": "markdown",
   "id": "018006e4",
   "metadata": {},
   "source": [
    "### Betweenness Centrality\n",
    "Pay close attention to the code and arrows on the visualization and you'll realize that this is a directed graph. In this graph, only one node sits between other nodes, and that is node B. A has an edge with B, and B has edges with C and D. So, only one of these nodes will have a betweenness centrality value, and the rest will be zero. You can use betweenness centrality to identify important nodes, and it did just that."
   ]
  },
  {
   "cell_type": "code",
   "execution_count": 20,
   "id": "b2c28029",
   "metadata": {},
   "outputs": [
    {
     "data": {
      "text/plain": [
       "{'A': 0.0,\n",
       " 'B': 0.022222222222222223,\n",
       " 'C': 0.0,\n",
       " 'D': 0.0,\n",
       " 'E': 0.0,\n",
       " 'F': 0.0,\n",
       " 'G': 0.0,\n",
       " 'H': 0.0,\n",
       " 'I': 0.0,\n",
       " 'J': 0.0,\n",
       " 'K': 0.0}"
      ]
     },
     "execution_count": 20,
     "metadata": {},
     "output_type": "execute_result"
    }
   ],
   "source": [
    "nx.betweenness_centrality(G)"
   ]
  },
  {
   "cell_type": "markdown",
   "id": "4ac1c874",
   "metadata": {},
   "source": [
    "### Degree Centrality\n",
    "In this graph, degree centrality actually showed to be a bit more informative than betweenness centrality, which is why it is useful to know about several different centralities and where they can be useful and how they differ. Degree centrality gave the highest value to B (just like betweenness centrality), but it also identified nodes A, C, and D as having some importance, as they are connected."
   ]
  },
  {
   "cell_type": "code",
   "execution_count": 21,
   "id": "4bda95ba",
   "metadata": {},
   "outputs": [
    {
     "data": {
      "text/plain": [
       "{'A': 0.1,\n",
       " 'B': 0.30000000000000004,\n",
       " 'C': 0.1,\n",
       " 'D': 0.1,\n",
       " 'E': 0.0,\n",
       " 'F': 0.0,\n",
       " 'G': 0.0,\n",
       " 'H': 0.0,\n",
       " 'I': 0.0,\n",
       " 'J': 0.0,\n",
       " 'K': 0.0}"
      ]
     },
     "execution_count": 21,
     "metadata": {},
     "output_type": "execute_result"
    }
   ],
   "source": [
    "nx.degree_centrality(G)"
   ]
  },
  {
   "cell_type": "markdown",
   "id": "9cde2e26",
   "metadata": {},
   "source": [
    "### Shortest Paths\n",
    "Shortest paths identified another key difference between the other graphs. This is a directed network, and it is sparsely connected. As it is sparsely connected, information cannot flow from certain nodes to other nodes. Look below and you will see that there is a shortest path between nodes A and C, but there is no path whatsoever between nodes E and C. You can see that in the visualization as well!"
   ]
  },
  {
   "cell_type": "code",
   "execution_count": 22,
   "id": "bce46371",
   "metadata": {},
   "outputs": [
    {
     "data": {
      "text/plain": [
       "['A', 'B', 'C']"
      ]
     },
     "execution_count": 22,
     "metadata": {},
     "output_type": "execute_result"
    }
   ],
   "source": [
    "nx.shortest_path(G, 'A', 'C')"
   ]
  },
  {
   "cell_type": "code",
   "execution_count": 23,
   "id": "5101032c",
   "metadata": {},
   "outputs": [
    {
     "ename": "NetworkXNoPath",
     "evalue": "No path between E and C.",
     "output_type": "error",
     "traceback": [
      "\u001b[1;31m---------------------------------------------------------------------------\u001b[0m",
      "\u001b[1;31mNetworkXNoPath\u001b[0m                            Traceback (most recent call last)",
      "\u001b[1;32m<ipython-input-23-4fcbdf828684>\u001b[0m in \u001b[0;36m<module>\u001b[1;34m\u001b[0m\n\u001b[1;32m----> 1\u001b[1;33m \u001b[0mnx\u001b[0m\u001b[1;33m.\u001b[0m\u001b[0mshortest_path\u001b[0m\u001b[1;33m(\u001b[0m\u001b[0mG\u001b[0m\u001b[1;33m,\u001b[0m \u001b[1;34m'E'\u001b[0m\u001b[1;33m,\u001b[0m \u001b[1;34m'C'\u001b[0m\u001b[1;33m)\u001b[0m\u001b[1;33m\u001b[0m\u001b[1;33m\u001b[0m\u001b[0m\n\u001b[0m",
      "\u001b[1;32m~\\AppData\\Roaming\\Python\\Python37\\site-packages\\networkx\\algorithms\\shortest_paths\\generic.py\u001b[0m in \u001b[0;36mshortest_path\u001b[1;34m(G, source, target, weight, method)\u001b[0m\n\u001b[0;32m    158\u001b[0m             \u001b[1;31m# Find shortest source-target path.\u001b[0m\u001b[1;33m\u001b[0m\u001b[1;33m\u001b[0m\u001b[1;33m\u001b[0m\u001b[0m\n\u001b[0;32m    159\u001b[0m             \u001b[1;32mif\u001b[0m \u001b[0mmethod\u001b[0m \u001b[1;33m==\u001b[0m \u001b[1;34m\"unweighted\"\u001b[0m\u001b[1;33m:\u001b[0m\u001b[1;33m\u001b[0m\u001b[1;33m\u001b[0m\u001b[0m\n\u001b[1;32m--> 160\u001b[1;33m                 \u001b[0mpaths\u001b[0m \u001b[1;33m=\u001b[0m \u001b[0mnx\u001b[0m\u001b[1;33m.\u001b[0m\u001b[0mbidirectional_shortest_path\u001b[0m\u001b[1;33m(\u001b[0m\u001b[0mG\u001b[0m\u001b[1;33m,\u001b[0m \u001b[0msource\u001b[0m\u001b[1;33m,\u001b[0m \u001b[0mtarget\u001b[0m\u001b[1;33m)\u001b[0m\u001b[1;33m\u001b[0m\u001b[1;33m\u001b[0m\u001b[0m\n\u001b[0m\u001b[0;32m    161\u001b[0m             \u001b[1;32melif\u001b[0m \u001b[0mmethod\u001b[0m \u001b[1;33m==\u001b[0m \u001b[1;34m\"dijkstra\"\u001b[0m\u001b[1;33m:\u001b[0m\u001b[1;33m\u001b[0m\u001b[1;33m\u001b[0m\u001b[0m\n\u001b[0;32m    162\u001b[0m                 \u001b[0m_\u001b[0m\u001b[1;33m,\u001b[0m \u001b[0mpaths\u001b[0m \u001b[1;33m=\u001b[0m \u001b[0mnx\u001b[0m\u001b[1;33m.\u001b[0m\u001b[0mbidirectional_dijkstra\u001b[0m\u001b[1;33m(\u001b[0m\u001b[0mG\u001b[0m\u001b[1;33m,\u001b[0m \u001b[0msource\u001b[0m\u001b[1;33m,\u001b[0m \u001b[0mtarget\u001b[0m\u001b[1;33m,\u001b[0m \u001b[0mweight\u001b[0m\u001b[1;33m)\u001b[0m\u001b[1;33m\u001b[0m\u001b[1;33m\u001b[0m\u001b[0m\n",
      "\u001b[1;32m~\\AppData\\Roaming\\Python\\Python37\\site-packages\\networkx\\algorithms\\shortest_paths\\unweighted.py\u001b[0m in \u001b[0;36mbidirectional_shortest_path\u001b[1;34m(G, source, target)\u001b[0m\n\u001b[0;32m    222\u001b[0m \u001b[1;33m\u001b[0m\u001b[0m\n\u001b[0;32m    223\u001b[0m     \u001b[1;31m# call helper to do the real work\u001b[0m\u001b[1;33m\u001b[0m\u001b[1;33m\u001b[0m\u001b[1;33m\u001b[0m\u001b[0m\n\u001b[1;32m--> 224\u001b[1;33m     \u001b[0mresults\u001b[0m \u001b[1;33m=\u001b[0m \u001b[0m_bidirectional_pred_succ\u001b[0m\u001b[1;33m(\u001b[0m\u001b[0mG\u001b[0m\u001b[1;33m,\u001b[0m \u001b[0msource\u001b[0m\u001b[1;33m,\u001b[0m \u001b[0mtarget\u001b[0m\u001b[1;33m)\u001b[0m\u001b[1;33m\u001b[0m\u001b[1;33m\u001b[0m\u001b[0m\n\u001b[0m\u001b[0;32m    225\u001b[0m     \u001b[0mpred\u001b[0m\u001b[1;33m,\u001b[0m \u001b[0msucc\u001b[0m\u001b[1;33m,\u001b[0m \u001b[0mw\u001b[0m \u001b[1;33m=\u001b[0m \u001b[0mresults\u001b[0m\u001b[1;33m\u001b[0m\u001b[1;33m\u001b[0m\u001b[0m\n\u001b[0;32m    226\u001b[0m \u001b[1;33m\u001b[0m\u001b[0m\n",
      "\u001b[1;32m~\\AppData\\Roaming\\Python\\Python37\\site-packages\\networkx\\algorithms\\shortest_paths\\unweighted.py\u001b[0m in \u001b[0;36m_bidirectional_pred_succ\u001b[1;34m(G, source, target)\u001b[0m\n\u001b[0;32m    290\u001b[0m                         \u001b[1;32mreturn\u001b[0m \u001b[0mpred\u001b[0m\u001b[1;33m,\u001b[0m \u001b[0msucc\u001b[0m\u001b[1;33m,\u001b[0m \u001b[0mw\u001b[0m\u001b[1;33m\u001b[0m\u001b[1;33m\u001b[0m\u001b[0m\n\u001b[0;32m    291\u001b[0m \u001b[1;33m\u001b[0m\u001b[0m\n\u001b[1;32m--> 292\u001b[1;33m     \u001b[1;32mraise\u001b[0m \u001b[0mnx\u001b[0m\u001b[1;33m.\u001b[0m\u001b[0mNetworkXNoPath\u001b[0m\u001b[1;33m(\u001b[0m\u001b[1;34mf\"No path between {source} and {target}.\"\u001b[0m\u001b[1;33m)\u001b[0m\u001b[1;33m\u001b[0m\u001b[1;33m\u001b[0m\u001b[0m\n\u001b[0m\u001b[0;32m    293\u001b[0m \u001b[1;33m\u001b[0m\u001b[0m\n\u001b[0;32m    294\u001b[0m \u001b[1;33m\u001b[0m\u001b[0m\n",
      "\u001b[1;31mNetworkXNoPath\u001b[0m: No path between E and C."
     ]
    }
   ],
   "source": [
    "nx.shortest_path(G, 'E', 'C')"
   ]
  },
  {
   "cell_type": "markdown",
   "id": "c190accb",
   "metadata": {},
   "source": [
    "## Regular Graphs\n",
    "\n",
    "A regular graph is a type of graph in network science where each node has the same number of connections or edges. In other words, all nodes in a regular graph have the same degree. Regular graphs are often studied for their uniform connectivity patterns and symmetry.\n",
    "\n",
    "You can learn more at https://en.wikipedia.org/wiki/Regular_graph\n",
    "\n",
    "Our Dense Graph was an example of a regular graph, but I will make another one for this demonstration. No harm in seeing something twice. You'll see a lot of familiar shapes the more network analysis you do.\n",
    "\n",
    "Forget everything you know about dense graphs and pretend you just learned about regular graphs. Try to anticipate density, betweenness centrality, and shortest paths."
   ]
  },
  {
   "cell_type": "code",
   "execution_count": 24,
   "id": "bb336ae5",
   "metadata": {},
   "outputs": [
    {
     "data": {
      "image/svg+xml": [
       "<svg height=\"540\" width=\"746.0\" xmlns=\"http://www.w3.org/2000/svg\"><defs><marker id=\"arrow\" markerHeight=\"10\" markerWidth=\"10\" orient=\"auto\" refX=\"9\" refY=\"3\"><path d=\"M0,0 L0,6 L9,3 z\" fill=\"gray\"/></marker></defs><path d=\"M 720 335 468 26\" marker-end=\"url(#arrow)\" stroke=\"gray\" stroke-width=\"1\"/><path d=\"M 720 335 27 205\" marker-end=\"url(#arrow)\" stroke=\"gray\" stroke-width=\"1\"/><path d=\"M 720 335 283 517\" marker-end=\"url(#arrow)\" stroke=\"gray\" stroke-width=\"1\"/><path d=\"M 463 20 715 329\" marker-end=\"url(#arrow)\" stroke=\"gray\" stroke-width=\"1\"/><path d=\"M 463 20 27 201\" marker-end=\"url(#arrow)\" stroke=\"gray\" stroke-width=\"1\"/><path d=\"M 463 20 278 513\" marker-end=\"url(#arrow)\" stroke=\"gray\" stroke-width=\"1\"/><path d=\"M 20 204 713 334\" marker-end=\"url(#arrow)\" stroke=\"gray\" stroke-width=\"1\"/><path d=\"M 20 204 456 23\" marker-end=\"url(#arrow)\" stroke=\"gray\" stroke-width=\"1\"/><path d=\"M 20 204 271 514\" marker-end=\"url(#arrow)\" stroke=\"gray\" stroke-width=\"1\"/><path d=\"M 276 520 713 338\" marker-end=\"url(#arrow)\" stroke=\"gray\" stroke-width=\"1\"/><path d=\"M 276 520 461 27\" marker-end=\"url(#arrow)\" stroke=\"gray\" stroke-width=\"1\"/><path d=\"M 276 520 25 210\" marker-end=\"url(#arrow)\" stroke=\"gray\" stroke-width=\"1\"/><circle cx=\"720\" cy=\"335\" r=\"8.0\" style=\"fill:rgb(219, 220, 222);stroke:black;stroke-width:1.0\"/><circle cx=\"463\" cy=\"20\" r=\"8.0\" style=\"fill:rgb(219, 220, 222);stroke:black;stroke-width:1.0\"/><circle cx=\"20\" cy=\"204\" r=\"8.0\" style=\"fill:rgb(219, 220, 222);stroke:black;stroke-width:1.0\"/><circle cx=\"276\" cy=\"520\" r=\"8.0\" style=\"fill:rgb(219, 220, 222);stroke:black;stroke-width:1.0\"/><text font-size=\"12\" x=\"738\" y=\"343\">A</text><text font-size=\"12\" x=\"481\" y=\"28\">B</text><text font-size=\"12\" x=\"38\" y=\"212\">C</text><text font-size=\"12\" x=\"294\" y=\"528\">D</text></svg>"
      ],
      "text/plain": [
       "<IPython.core.display.SVG object>"
      ]
     },
     "execution_count": 24,
     "metadata": {},
     "output_type": "execute_result"
    }
   ],
   "source": [
    "edges = ['AB', 'AC', 'AD', 'BC', 'BD', 'CD']\n",
    "\n",
    "edgelist = [(e[0],e[1]) for e in edges]\n",
    "\n",
    "G = nx.from_edgelist(edgelist, create_using=nx.Graph)\n",
    "\n",
    "draw_graph(G, show_names=True, node_size=8, font_size=12, edge_width=1)"
   ]
  },
  {
   "cell_type": "markdown",
   "id": "23e7c38f",
   "metadata": {},
   "source": [
    "### Density"
   ]
  },
  {
   "cell_type": "code",
   "execution_count": 25,
   "id": "83fe4d95",
   "metadata": {},
   "outputs": [
    {
     "data": {
      "text/plain": [
       "1.0"
      ]
     },
     "execution_count": 25,
     "metadata": {},
     "output_type": "execute_result"
    }
   ],
   "source": [
    "nx.density(G)"
   ]
  },
  {
   "cell_type": "markdown",
   "id": "42d9ee6f",
   "metadata": {},
   "source": [
    "### Betweenness Centrality"
   ]
  },
  {
   "cell_type": "code",
   "execution_count": 26,
   "id": "d68b651e",
   "metadata": {},
   "outputs": [
    {
     "data": {
      "text/plain": [
       "{'A': 0.0, 'B': 0.0, 'C': 0.0, 'D': 0.0}"
      ]
     },
     "execution_count": 26,
     "metadata": {},
     "output_type": "execute_result"
    }
   ],
   "source": [
    "nx.betweenness_centrality(G)"
   ]
  },
  {
   "cell_type": "markdown",
   "id": "2984508a",
   "metadata": {},
   "source": [
    "### Degree Centrality"
   ]
  },
  {
   "cell_type": "code",
   "execution_count": 27,
   "id": "c9be720c",
   "metadata": {},
   "outputs": [
    {
     "data": {
      "text/plain": [
       "{'A': 1.0, 'B': 1.0, 'C': 1.0, 'D': 1.0}"
      ]
     },
     "execution_count": 27,
     "metadata": {},
     "output_type": "execute_result"
    }
   ],
   "source": [
    "nx.degree_centrality(G)"
   ]
  },
  {
   "cell_type": "code",
   "execution_count": 28,
   "id": "a1eab572",
   "metadata": {},
   "outputs": [
    {
     "data": {
      "text/plain": [
       "DegreeView({'A': 3, 'B': 3, 'C': 3, 'D': 3})"
      ]
     },
     "execution_count": 28,
     "metadata": {},
     "output_type": "execute_result"
    }
   ],
   "source": [
    "G.degree"
   ]
  },
  {
   "cell_type": "markdown",
   "id": "c9270405",
   "metadata": {},
   "source": [
    "### Shortest Paths"
   ]
  },
  {
   "cell_type": "code",
   "execution_count": 29,
   "id": "69e66120",
   "metadata": {},
   "outputs": [
    {
     "data": {
      "text/plain": [
       "['A', 'D']"
      ]
     },
     "execution_count": 29,
     "metadata": {},
     "output_type": "execute_result"
    }
   ],
   "source": [
    "nx.shortest_path(G, 'A', 'D')"
   ]
  },
  {
   "cell_type": "code",
   "execution_count": 30,
   "id": "7b90b333",
   "metadata": {},
   "outputs": [
    {
     "data": {
      "text/plain": [
       "['B', 'D']"
      ]
     },
     "execution_count": 30,
     "metadata": {},
     "output_type": "execute_result"
    }
   ],
   "source": [
    "nx.shortest_path(G, 'B', 'D')"
   ]
  },
  {
   "cell_type": "markdown",
   "id": "31e0861b",
   "metadata": {},
   "source": [
    "## Wheel Graphs\n",
    "\n",
    "A wheel graph is visibly identical to a cycle graph, but each of the outer nodes links to an inner node, creating what looks like a wheel. However, it is not identical to a cycle graph, as this is an undirected graph, where a cycle graph is directed.\n",
    "\n",
    "You can learn more at https://en.wikipedia.org/wiki/Wheel_graph"
   ]
  },
  {
   "cell_type": "code",
   "execution_count": 34,
   "id": "99d0ed07",
   "metadata": {},
   "outputs": [
    {
     "data": {
      "image/svg+xml": [
       "<svg height=\"540\" width=\"746.0\" xmlns=\"http://www.w3.org/2000/svg\"><defs><marker id=\"arrow\" markerHeight=\"10\" markerWidth=\"10\" orient=\"auto\" refX=\"9\" refY=\"3\"><path d=\"M0,0 L0,6 L9,3 z\" fill=\"gray\"/></marker></defs><path d=\"M 20 183 62 401\" marker-end=\"url(#arrow)\" stroke=\"gray\" stroke-width=\"1\"/><path d=\"M 20 183 227 24\" marker-end=\"url(#arrow)\" stroke=\"gray\" stroke-width=\"1\"/><path d=\"M 20 183 350 266\" marker-end=\"url(#arrow)\" stroke=\"gray\" stroke-width=\"1\"/><path d=\"M 63 408 21 190\" marker-end=\"url(#arrow)\" stroke=\"gray\" stroke-width=\"1\"/><path d=\"M 63 408 325 517\" marker-end=\"url(#arrow)\" stroke=\"gray\" stroke-width=\"1\"/><path d=\"M 63 408 350 270\" marker-end=\"url(#arrow)\" stroke=\"gray\" stroke-width=\"1\"/><path d=\"M 332 520 70 411\" marker-end=\"url(#arrow)\" stroke=\"gray\" stroke-width=\"1\"/><path d=\"M 332 520 618 446\" marker-end=\"url(#arrow)\" stroke=\"gray\" stroke-width=\"1\"/><path d=\"M 332 520 357 274\" marker-end=\"url(#arrow)\" stroke=\"gray\" stroke-width=\"1\"/><path d=\"M 625 445 339 519\" marker-end=\"url(#arrow)\" stroke=\"gray\" stroke-width=\"1\"/><path d=\"M 625 445 717 230\" marker-end=\"url(#arrow)\" stroke=\"gray\" stroke-width=\"1\"/><path d=\"M 625 445 363 271\" marker-end=\"url(#arrow)\" stroke=\"gray\" stroke-width=\"1\"/><path d=\"M 720 223 628 438\" marker-end=\"url(#arrow)\" stroke=\"gray\" stroke-width=\"1\"/><path d=\"M 720 223 550 42\" marker-end=\"url(#arrow)\" stroke=\"gray\" stroke-width=\"1\"/><path d=\"M 720 223 364 267\" marker-end=\"url(#arrow)\" stroke=\"gray\" stroke-width=\"1\"/><path d=\"M 545 37 715 218\" marker-end=\"url(#arrow)\" stroke=\"gray\" stroke-width=\"1\"/><path d=\"M 545 37 240 20\" marker-end=\"url(#arrow)\" stroke=\"gray\" stroke-width=\"1\"/><path d=\"M 545 37 362 261\" marker-end=\"url(#arrow)\" stroke=\"gray\" stroke-width=\"1\"/><path d=\"M 233 20 26 179\" marker-end=\"url(#arrow)\" stroke=\"gray\" stroke-width=\"1\"/><path d=\"M 233 20 538 37\" marker-end=\"url(#arrow)\" stroke=\"gray\" stroke-width=\"1\"/><path d=\"M 233 20 354 260\" marker-end=\"url(#arrow)\" stroke=\"gray\" stroke-width=\"1\"/><path d=\"M 357 267 27 184\" marker-end=\"url(#arrow)\" stroke=\"gray\" stroke-width=\"1\"/><path d=\"M 357 267 70 405\" marker-end=\"url(#arrow)\" stroke=\"gray\" stroke-width=\"1\"/><path d=\"M 357 267 332 513\" marker-end=\"url(#arrow)\" stroke=\"gray\" stroke-width=\"1\"/><path d=\"M 357 267 619 441\" marker-end=\"url(#arrow)\" stroke=\"gray\" stroke-width=\"1\"/><path d=\"M 357 267 713 223\" marker-end=\"url(#arrow)\" stroke=\"gray\" stroke-width=\"1\"/><path d=\"M 357 267 540 43\" marker-end=\"url(#arrow)\" stroke=\"gray\" stroke-width=\"1\"/><path d=\"M 357 267 236 27\" marker-end=\"url(#arrow)\" stroke=\"gray\" stroke-width=\"1\"/><circle cx=\"20\" cy=\"183\" r=\"8.0\" style=\"fill:rgb(58, 76, 192);stroke:black;stroke-width:1.0\"/><circle cx=\"63\" cy=\"408\" r=\"8.0\" style=\"fill:rgb(58, 76, 192);stroke:black;stroke-width:1.0\"/><circle cx=\"332\" cy=\"520\" r=\"8.0\" style=\"fill:rgb(58, 76, 192);stroke:black;stroke-width:1.0\"/><circle cx=\"625\" cy=\"445\" r=\"8.0\" style=\"fill:rgb(58, 76, 192);stroke:black;stroke-width:1.0\"/><circle cx=\"720\" cy=\"223\" r=\"8.0\" style=\"fill:rgb(58, 76, 192);stroke:black;stroke-width:1.0\"/><circle cx=\"545\" cy=\"37\" r=\"8.0\" style=\"fill:rgb(58, 76, 192);stroke:black;stroke-width:1.0\"/><circle cx=\"233\" cy=\"20\" r=\"8.0\" style=\"fill:rgb(58, 76, 192);stroke:black;stroke-width:1.0\"/><circle cx=\"357\" cy=\"267\" r=\"8.0\" style=\"fill:rgb(179, 3, 38);stroke:black;stroke-width:1.0\"/><text font-size=\"12\" x=\"38\" y=\"191\">A</text><text font-size=\"12\" x=\"81\" y=\"416\">B</text><text font-size=\"12\" x=\"350\" y=\"528\">C</text><text font-size=\"12\" x=\"643\" y=\"453\">D</text><text font-size=\"12\" x=\"738\" y=\"231\">E</text><text font-size=\"12\" x=\"563\" y=\"45\">F</text><text font-size=\"12\" x=\"251\" y=\"28\">G</text><text font-size=\"12\" x=\"375\" y=\"275\">H</text></svg>"
      ],
      "text/plain": [
       "<IPython.core.display.SVG object>"
      ]
     },
     "execution_count": 34,
     "metadata": {},
     "output_type": "execute_result"
    }
   ],
   "source": [
    "edges = ['AB', 'BC', 'CD', 'DE', 'EF', 'FG', 'GA', 'AH', 'BH', 'CH', 'DH', 'EH', 'FH', 'GH']\n",
    "\n",
    "edgelist = [(e[0],e[1]) for e in edges]\n",
    "\n",
    "G = nx.from_edgelist(edgelist, create_using=nx.Graph)\n",
    "\n",
    "draw_graph(G, show_names=True, node_size=8, font_size=12, edge_width=1)"
   ]
  },
  {
   "cell_type": "markdown",
   "id": "b19c4041",
   "metadata": {},
   "source": [
    "### Density\n",
    "Take note of the difference in density between this graph and other graphs! It's not a 1.0, because all nodes are NOT connected. All nodes are connected to a single node, but all nodes are not connected with each other. This is not a dense graph, but it is also not a sparse graph."
   ]
  },
  {
   "cell_type": "code",
   "execution_count": 35,
   "id": "17340dab",
   "metadata": {},
   "outputs": [
    {
     "data": {
      "text/plain": [
       "0.5"
      ]
     },
     "execution_count": 35,
     "metadata": {},
     "output_type": "execute_result"
    }
   ],
   "source": [
    "nx.density(G)"
   ]
  },
  {
   "cell_type": "markdown",
   "id": "f54984c8",
   "metadata": {},
   "source": [
    "### Betweenness Centrality\n",
    "In this graph, one single node sits between every other node in the network, but other nodes also sit between other nodes. So, the one VISIBLY CENTRAL node has a 25x higher betweenness centrality score, roughly. You could say that it is 25x more important than the other nodes, by positioning alone."
   ]
  },
  {
   "cell_type": "code",
   "execution_count": 36,
   "id": "974bff31",
   "metadata": {},
   "outputs": [
    {
     "data": {
      "text/plain": [
       "{'A': 0.023809523809523808,\n",
       " 'B': 0.023809523809523808,\n",
       " 'C': 0.023809523809523808,\n",
       " 'D': 0.023809523809523808,\n",
       " 'E': 0.023809523809523808,\n",
       " 'F': 0.023809523809523808,\n",
       " 'G': 0.023809523809523808,\n",
       " 'H': 0.5}"
      ]
     },
     "execution_count": 36,
     "metadata": {},
     "output_type": "execute_result"
    }
   ],
   "source": [
    "nx.betweenness_centrality(G)"
   ]
  },
  {
   "cell_type": "markdown",
   "id": "228f7705",
   "metadata": {},
   "source": [
    "### Degree Centrality\n",
    "Degree centrality found node H to be most important, with a value more than twice as high as other nodes. If this were a communication network, I would say that betweenness centrality paints a better picture, because the middle node allows communication between every node, where that was not the case in a cycle graph (scroll to top to see). This will affect shortest paths as well!"
   ]
  },
  {
   "cell_type": "code",
   "execution_count": 37,
   "id": "d04d3be4",
   "metadata": {},
   "outputs": [
    {
     "data": {
      "text/plain": [
       "{'A': 0.42857142857142855,\n",
       " 'B': 0.42857142857142855,\n",
       " 'C': 0.42857142857142855,\n",
       " 'D': 0.42857142857142855,\n",
       " 'E': 0.42857142857142855,\n",
       " 'F': 0.42857142857142855,\n",
       " 'G': 0.42857142857142855,\n",
       " 'H': 1.0}"
      ]
     },
     "execution_count": 37,
     "metadata": {},
     "output_type": "execute_result"
    }
   ],
   "source": [
    "nx.degree_centrality(G)"
   ]
  },
  {
   "cell_type": "markdown",
   "id": "bbe3ec15",
   "metadata": {},
   "source": [
    "### Shortest Paths\n",
    "The shortest path will have to do with where nodes are positioned in the graph, but the central node allows quick communication from nodes on one side of a graph to nodes on the other side. Look at the visualization and look at noces A and E. Notice how far apart they are, and how far they'd have to go if node H had not been placed in the middle. Node H's placement is an optimization for this network, in terms of information flow."
   ]
  },
  {
   "cell_type": "code",
   "execution_count": 38,
   "id": "85202265",
   "metadata": {},
   "outputs": [
    {
     "data": {
      "text/plain": [
       "['A', 'H', 'E']"
      ]
     },
     "execution_count": 38,
     "metadata": {},
     "output_type": "execute_result"
    }
   ],
   "source": [
    "nx.shortest_path(G, 'A', 'E')"
   ]
  },
  {
   "cell_type": "code",
   "execution_count": 39,
   "id": "df448394",
   "metadata": {},
   "outputs": [
    {
     "data": {
      "text/plain": [
       "['B', 'H', 'F']"
      ]
     },
     "execution_count": 39,
     "metadata": {},
     "output_type": "execute_result"
    }
   ],
   "source": [
    "nx.shortest_path(G, 'B', 'F')"
   ]
  },
  {
   "cell_type": "code",
   "execution_count": 40,
   "id": "e3311716",
   "metadata": {},
   "outputs": [
    {
     "data": {
      "text/plain": [
       "['A', 'B']"
      ]
     },
     "execution_count": 40,
     "metadata": {},
     "output_type": "execute_result"
    }
   ],
   "source": [
    "nx.shortest_path(G, 'A', 'B')"
   ]
  },
  {
   "cell_type": "code",
   "execution_count": 41,
   "id": "7c6e7c50",
   "metadata": {},
   "outputs": [
    {
     "data": {
      "text/plain": [
       "['A', 'B', 'C']"
      ]
     },
     "execution_count": 41,
     "metadata": {},
     "output_type": "execute_result"
    }
   ],
   "source": [
    "nx.shortest_path(G, 'A', 'C')"
   ]
  },
  {
   "cell_type": "markdown",
   "id": "b5a330de",
   "metadata": {},
   "source": [
    "# That's all for today!\n",
    "Yesterday, we used a graph to create a learning path for us to learn more about network science, and today we created and analyzed five different kinds of graphs! I hope you enjoyed this. We will do more!\n",
    "\n",
    "It might be cool, one day, to make some neat learning visualizations of different graph types!"
   ]
  }
 ],
 "metadata": {
  "kernelspec": {
   "display_name": "Python 3",
   "language": "python",
   "name": "python3"
  },
  "language_info": {
   "codemirror_mode": {
    "name": "ipython",
    "version": 3
   },
   "file_extension": ".py",
   "mimetype": "text/x-python",
   "name": "python",
   "nbconvert_exporter": "python",
   "pygments_lexer": "ipython3",
   "version": "3.7.16"
  }
 },
 "nbformat": 4,
 "nbformat_minor": 5
}
