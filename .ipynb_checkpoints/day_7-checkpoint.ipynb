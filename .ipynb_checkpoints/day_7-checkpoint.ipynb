{
 "cells": [
  {
   "cell_type": "code",
   "execution_count": 1,
   "id": "c3a22200",
   "metadata": {},
   "outputs": [],
   "source": [
    "import networkx as nx\n",
    "import numpy as np\n",
    "import pandas as pd"
   ]
  },
  {
   "cell_type": "code",
   "execution_count": 2,
   "id": "b22ee824",
   "metadata": {},
   "outputs": [],
   "source": [
    "# for visualization\n",
    "from IPython.display import SVG \n",
    "from sknetwork.visualization import svg_graph \n",
    "from sknetwork.data import Bunch \n",
    "from sknetwork.ranking import PageRank \n",
    "from scipy.sparse import csr_matrix\n",
    "\n",
    "def draw_graph(G, show_names=False, node_size=1, font_size=10, edge_width=0.5):\n",
    "\n",
    "    adjacency = nx.to_scipy_sparse_array(G, nodelist=None, dtype=None, weight='weight', format='csr')\n",
    "    adjacency = csr_matrix(adjacency) # fix to weird sknetwork-csr issue; comment out to troubleshoot\n",
    "    \n",
    "    names = np.array(list(G.nodes))\n",
    "    \n",
    "    graph = Bunch()\n",
    "    graph.adjacency = adjacency\n",
    "    graph.names = np.array(names)\n",
    "    \n",
    "    pagerank = PageRank()\n",
    "    scores = pagerank.fit_transform(adjacency)\n",
    "\n",
    "    if show_names:\n",
    "        \n",
    "        image = svg_graph(graph.adjacency, font_size=font_size, node_size=node_size, names=graph.names, width=700, height=500, scores=scores, edge_width=edge_width)\n",
    "    \n",
    "    else:\n",
    "        \n",
    "        image = svg_graph(graph.adjacency, node_size=node_size, width=700, height=500, scores = scores, edge_width=edge_width)\n",
    "    \n",
    "    return SVG(image)"
   ]
  },
  {
   "cell_type": "markdown",
   "id": "de4ff106",
   "metadata": {},
   "source": [
    "# Types of Graphs: Part 1\n",
    "\n",
    "Yesterday, we were able to use the Network Analysis network to create a learning curriculum. We will likely do that again, during this #100daysofnetworks adventures, to learn more and more to learn about. Basically, we can use that to identify gaps in our knowledge, and then we can learn those concepts. Today, we are going to learn about five different types of graphs, and look at some of their characteristics. \n",
    "\n",
    "We will look at:\n",
    "- Cycle graphs\n",
    "- Dense graphs\n",
    "- Sparse graphs\n",
    "- Regular graphs\n",
    "- Wheel graphs\n",
    "\n",
    "In practice, I tend to not think of these names when I am doing network analysis, as I am jumping between sections, excploring commmunities, looking at ego networks, identifying important nodes, etc. But this is useful to understand because THERE ARE different types of graphs, and they have unique characteristics. \n",
    "\n",
    "Often, in practice, I will see these types of graphs in subgraphs, or in cores, or in communities, but it is extremely rare that a network I analyze will be wheel graph, for instance. \n",
    "\n",
    "But this is useful knowledge, and it is good to have a common vocabulary.\n",
    "\n",
    "I am using ChatGPT to make short work of summarization. As always, if you use a LLM, you should verify that it has given you the correct answer. You can see what I did here: https://chat.openai.com/share/04278943-07d5-4568-ad78-2f23c3e18c3e\n",
    "\n",
    "We could build some of these with NetworkX graph generators, but I am doing this manually so that you can understand more easily.\n",
    "\n",
    "I am using an older version of scikit-network. In newer versions, you can indicate whether a graph is directed or undirected, and it will render as such. In this version, I'd have to create two separate functions, so just note that in an undirected network, the arrows go both ways (and they do), and in a directed network, edges are often in a single direction, like a one-way street"
   ]
  },
  {
   "cell_type": "markdown",
   "id": "d410ed54",
   "metadata": {},
   "source": [
    "## Cycle Graphs\n",
    "\n",
    "A cycle graph is a type of graph in network science that forms a simple cycle, which is a closed path where each node is connected to exactly two neighbors except for the first and last nodes, which are connected to each other. Cycle graphs are fundamental structures in graph theory and are often used to model cyclic processes, circuits, and other scenarios with repeating patterns.\n",
    "\n",
    "Example: A -> B -> C -> D -> A\n",
    "\n",
    "You can learn more at https://en.wikipedia.org/wiki/Cycle_graph"
   ]
  },
  {
   "cell_type": "code",
   "execution_count": 3,
   "id": "2a3a2057",
   "metadata": {},
   "outputs": [
    {
     "data": {
      "image/svg+xml": [
       "<svg xmlns=\"http://www.w3.org/2000/svg\" width=\"752.0\" height=\"540\">\n",
       "<defs><marker id=\"arrow-gray\" markerWidth=\"10\" markerHeight=\"10\" refX=\"9\" refY=\"3\" orient=\"auto\">\n",
       "<path d=\"M0,0 L0,6 L9,3 z\" fill=\"gray\"/></marker></defs>\n",
       "<path stroke-width=\"1\" stroke=\"gray\" d=\"M 521 20 714 189\" marker-end=\"url(#arrow-gray)\"/>\n",
       "<path stroke-width=\"1\" stroke=\"gray\" d=\"M 720 194 661 410\" marker-end=\"url(#arrow-gray)\"/>\n",
       "<path stroke-width=\"1\" stroke=\"gray\" d=\"M 659 417 386 518\" marker-end=\"url(#arrow-gray)\"/>\n",
       "<path stroke-width=\"1\" stroke=\"gray\" d=\"M 379 520 104 425\" marker-end=\"url(#arrow-gray)\"/>\n",
       "<path stroke-width=\"1\" stroke=\"gray\" d=\"M 97 423 22 211\" marker-end=\"url(#arrow-gray)\"/>\n",
       "<path stroke-width=\"1\" stroke=\"gray\" d=\"M 20 204 204 27\" marker-end=\"url(#arrow-gray)\"/>\n",
       "<path stroke-width=\"1\" stroke=\"gray\" d=\"M 209 22 514 20\" marker-end=\"url(#arrow-gray)\"/>\n",
       "<circle cx=\"521\" cy=\"20\" r=\"8.0\" style=\"fill:rgb(219, 220, 222);stroke:black;stroke-width:1.0\"/>\n",
       "<circle cx=\"720\" cy=\"194\" r=\"8.0\" style=\"fill:rgb(219, 220, 222);stroke:black;stroke-width:1.0\"/>\n",
       "<circle cx=\"659\" cy=\"417\" r=\"8.0\" style=\"fill:rgb(219, 220, 222);stroke:black;stroke-width:1.0\"/>\n",
       "<circle cx=\"379\" cy=\"520\" r=\"8.0\" style=\"fill:rgb(219, 220, 222);stroke:black;stroke-width:1.0\"/>\n",
       "<circle cx=\"97\" cy=\"423\" r=\"8.0\" style=\"fill:rgb(219, 220, 222);stroke:black;stroke-width:1.0\"/>\n",
       "<circle cx=\"20\" cy=\"204\" r=\"8.0\" style=\"fill:rgb(219, 220, 222);stroke:black;stroke-width:1.0\"/>\n",
       "<circle cx=\"209\" cy=\"22\" r=\"8.0\" style=\"fill:rgb(219, 220, 222);stroke:black;stroke-width:1.0\"/>\n",
       "<text text-anchor=\"start\" x=\"532\" y=\"20\" font-size=\"12\">A</text><text text-anchor=\"start\" x=\"731\" y=\"194\" font-size=\"12\">B</text><text text-anchor=\"start\" x=\"670\" y=\"417\" font-size=\"12\">C</text><text text-anchor=\"start\" x=\"390\" y=\"520\" font-size=\"12\">D</text><text text-anchor=\"start\" x=\"108\" y=\"423\" font-size=\"12\">E</text><text text-anchor=\"start\" x=\"31\" y=\"204\" font-size=\"12\">F</text><text text-anchor=\"start\" x=\"220\" y=\"22\" font-size=\"12\">G</text></svg>"
      ],
      "text/plain": [
       "<IPython.core.display.SVG object>"
      ]
     },
     "execution_count": 3,
     "metadata": {},
     "output_type": "execute_result"
    }
   ],
   "source": [
    "edges = ['AB', 'BC', 'CD', 'DE', 'EF', 'FG', 'GA']\n",
    "\n",
    "edgelist = [(e[0],e[1]) for e in edges]\n",
    "\n",
    "G = nx.from_edgelist(edgelist, create_using=nx.DiGraph)\n",
    "\n",
    "draw_graph(G, show_names=True, node_size=8, font_size=12, edge_width=1)"
   ]
  },
  {
   "cell_type": "markdown",
   "id": "8ff67159",
   "metadata": {},
   "source": [
    "### Density\n",
    "A maximum density of 1.0 would indicate that every single node has an edge (is connected to) with every single other node in the network. In this graph, nodes are only connected with the node in front of them. It is a one-way street. So, the density score will be low, but it will not be 0.0. A minimal density of 0.0 would indicate that no nodes are connected with any other nodes in the network. "
   ]
  },
  {
   "cell_type": "code",
   "execution_count": 4,
   "id": "1f804e1f",
   "metadata": {},
   "outputs": [
    {
     "data": {
      "text/plain": [
       "0.16666666666666666"
      ]
     },
     "execution_count": 4,
     "metadata": {},
     "output_type": "execute_result"
    }
   ],
   "source": [
    "nx.density(G)"
   ]
  },
  {
   "cell_type": "markdown",
   "id": "3efb45b9",
   "metadata": {},
   "source": [
    "### Betweenness Centrality\n",
    "Betweenness Centrality shows which nodes sit between other nodes. Nodes with higher betweenness centrality values sit on the shortest path of more nodes than nodes with low betweenenness centrality values."
   ]
  },
  {
   "cell_type": "code",
   "execution_count": 5,
   "id": "2d00f67f",
   "metadata": {},
   "outputs": [
    {
     "data": {
      "text/plain": [
       "{'A': 0.5, 'B': 0.5, 'C': 0.5, 'D': 0.5, 'E': 0.5, 'F': 0.5, 'G': 0.5}"
      ]
     },
     "execution_count": 5,
     "metadata": {},
     "output_type": "execute_result"
    }
   ],
   "source": [
    "nx.betweenness_centrality(G)"
   ]
  },
  {
   "cell_type": "markdown",
   "id": "fceeb97c",
   "metadata": {},
   "source": [
    "There's no point even visualizing this. Every single node has an identical betweenenss centrality value, because every single node sits between one node and another node."
   ]
  },
  {
   "cell_type": "markdown",
   "id": "e36068f6",
   "metadata": {},
   "source": [
    "### Degree Centrality\n",
    "Degree Centrality has to do with the number of edges a node has. It is a simple measure and has nothing to do with whether a node sits on a shortest path. It only cares about the degrees (edges) a node has. In this case, every node has the same number of edges, so their degree centrality will be identical."
   ]
  },
  {
   "cell_type": "code",
   "execution_count": 6,
   "id": "5a76556d",
   "metadata": {},
   "outputs": [
    {
     "data": {
      "text/plain": [
       "{'A': 0.3333333333333333,\n",
       " 'B': 0.3333333333333333,\n",
       " 'C': 0.3333333333333333,\n",
       " 'D': 0.3333333333333333,\n",
       " 'E': 0.3333333333333333,\n",
       " 'F': 0.3333333333333333,\n",
       " 'G': 0.3333333333333333}"
      ]
     },
     "execution_count": 6,
     "metadata": {},
     "output_type": "execute_result"
    }
   ],
   "source": [
    "nx.degree_centrality(G)"
   ]
  },
  {
   "cell_type": "markdown",
   "id": "c0660293",
   "metadata": {},
   "source": [
    "We can also see this by looking at the degrees of a Graph. You can use either of these two approaches."
   ]
  },
  {
   "cell_type": "code",
   "execution_count": 7,
   "id": "c298dc9e",
   "metadata": {},
   "outputs": [
    {
     "data": {
      "text/plain": [
       "DiDegreeView({'A': 2, 'B': 2, 'C': 2, 'D': 2, 'E': 2, 'F': 2, 'G': 2})"
      ]
     },
     "execution_count": 7,
     "metadata": {},
     "output_type": "execute_result"
    }
   ],
   "source": [
    "G.degree"
   ]
  },
  {
   "cell_type": "code",
   "execution_count": 8,
   "id": "27403e1c",
   "metadata": {},
   "outputs": [
    {
     "data": {
      "text/plain": [
       "DiDegreeView({'A': 2, 'B': 2, 'C': 2, 'D': 2, 'E': 2, 'F': 2, 'G': 2})"
      ]
     },
     "execution_count": 8,
     "metadata": {},
     "output_type": "execute_result"
    }
   ],
   "source": [
    "nx.degree(G)"
   ]
  },
  {
   "cell_type": "markdown",
   "id": "be2ec6e0",
   "metadata": {},
   "source": [
    "### Shortest Paths\n",
    "Because of the cyclic nature of the graph, the shortest path from A to C will be much shorter than from E to C. Think about this and it will become intuitive."
   ]
  },
  {
   "cell_type": "code",
   "execution_count": 9,
   "id": "545ea0a1",
   "metadata": {},
   "outputs": [
    {
     "data": {
      "text/plain": [
       "['A', 'B', 'C']"
      ]
     },
     "execution_count": 9,
     "metadata": {},
     "output_type": "execute_result"
    }
   ],
   "source": [
    "nx.shortest_path(G, 'A', 'C')"
   ]
  },
  {
   "cell_type": "code",
   "execution_count": 10,
   "id": "d8c054c6",
   "metadata": {},
   "outputs": [
    {
     "data": {
      "text/plain": [
       "['E', 'F', 'G', 'A', 'B', 'C']"
      ]
     },
     "execution_count": 10,
     "metadata": {},
     "output_type": "execute_result"
    }
   ],
   "source": [
    "nx.shortest_path(G, 'E', 'C')"
   ]
  },
  {
   "cell_type": "markdown",
   "id": "57e5bbd3",
   "metadata": {},
   "source": [
    "## Dense Graphs\n",
    "\n",
    "A dense graph is a type of graph in network science where most of the possible edges are present, resulting in a high density of connections between nodes. In a dense graph, the number of edges is close to the maximum possible for the given number of nodes. Dense graphs are often used to model scenarios where interactions or relationships between entities are widespread and frequent.\n",
    "\n",
    "You can learn more at https://en.wikipedia.org/wiki/Dense_graph"
   ]
  },
  {
   "cell_type": "code",
   "execution_count": 11,
   "id": "9625109f",
   "metadata": {},
   "outputs": [
    {
     "data": {
      "image/svg+xml": [
       "<svg xmlns=\"http://www.w3.org/2000/svg\" width=\"752.0\" height=\"540\">\n",
       "<path stroke-width=\"1\" stroke=\"gray\" d=\"M 447 20 20 122\"/>\n",
       "<path stroke-width=\"1\" stroke=\"gray\" d=\"M 453 520 23 421\"/>\n",
       "<path stroke-width=\"1\" stroke=\"gray\" d=\"M 453 520 20 122\"/>\n",
       "<path stroke-width=\"1\" stroke=\"gray\" d=\"M 453 520 447 20\"/>\n",
       "<path stroke-width=\"1\" stroke=\"gray\" d=\"M 320 272 453 520\"/>\n",
       "<path stroke-width=\"1\" stroke=\"gray\" d=\"M 320 272 720 268\"/>\n",
       "<path stroke-width=\"1\" stroke=\"gray\" d=\"M 320 272 23 421\"/>\n",
       "<path stroke-width=\"1\" stroke=\"gray\" d=\"M 320 272 20 122\"/>\n",
       "<path stroke-width=\"1\" stroke=\"gray\" d=\"M 320 272 447 20\"/>\n",
       "<path stroke-width=\"1\" stroke=\"gray\" d=\"M 720 268 453 520\"/>\n",
       "<path stroke-width=\"1\" stroke=\"gray\" d=\"M 720 268 320 272\"/>\n",
       "<path stroke-width=\"1\" stroke=\"gray\" d=\"M 720 268 23 421\"/>\n",
       "<path stroke-width=\"1\" stroke=\"gray\" d=\"M 720 268 20 122\"/>\n",
       "<path stroke-width=\"1\" stroke=\"gray\" d=\"M 720 268 447 20\"/>\n",
       "<path stroke-width=\"1\" stroke=\"gray\" d=\"M 23 421 453 520\"/>\n",
       "<path stroke-width=\"1\" stroke=\"gray\" d=\"M 23 421 320 272\"/>\n",
       "<path stroke-width=\"1\" stroke=\"gray\" d=\"M 23 421 720 268\"/>\n",
       "<path stroke-width=\"1\" stroke=\"gray\" d=\"M 23 421 20 122\"/>\n",
       "<path stroke-width=\"1\" stroke=\"gray\" d=\"M 23 421 447 20\"/>\n",
       "<path stroke-width=\"1\" stroke=\"gray\" d=\"M 20 122 453 520\"/>\n",
       "<path stroke-width=\"1\" stroke=\"gray\" d=\"M 20 122 320 272\"/>\n",
       "<path stroke-width=\"1\" stroke=\"gray\" d=\"M 20 122 720 268\"/>\n",
       "<path stroke-width=\"1\" stroke=\"gray\" d=\"M 20 122 23 421\"/>\n",
       "<path stroke-width=\"1\" stroke=\"gray\" d=\"M 20 122 447 20\"/>\n",
       "<path stroke-width=\"1\" stroke=\"gray\" d=\"M 447 20 453 520\"/>\n",
       "<path stroke-width=\"1\" stroke=\"gray\" d=\"M 447 20 320 272\"/>\n",
       "<path stroke-width=\"1\" stroke=\"gray\" d=\"M 447 20 720 268\"/>\n",
       "<path stroke-width=\"1\" stroke=\"gray\" d=\"M 447 20 23 421\"/>\n",
       "<path stroke-width=\"1\" stroke=\"gray\" d=\"M 453 520 720 268\"/>\n",
       "<path stroke-width=\"1\" stroke=\"gray\" d=\"M 453 520 320 272\"/>\n",
       "<circle cx=\"447\" cy=\"20\" r=\"8.0\" style=\"fill:rgb(219, 220, 222);stroke:black;stroke-width:1.0\"/>\n",
       "<circle cx=\"20\" cy=\"122\" r=\"8.0\" style=\"fill:rgb(219, 220, 222);stroke:black;stroke-width:1.0\"/>\n",
       "<circle cx=\"23\" cy=\"421\" r=\"8.0\" style=\"fill:rgb(219, 220, 222);stroke:black;stroke-width:1.0\"/>\n",
       "<circle cx=\"720\" cy=\"268\" r=\"8.0\" style=\"fill:rgb(219, 220, 222);stroke:black;stroke-width:1.0\"/>\n",
       "<circle cx=\"320\" cy=\"272\" r=\"8.0\" style=\"fill:rgb(219, 220, 222);stroke:black;stroke-width:1.0\"/>\n",
       "<circle cx=\"453\" cy=\"520\" r=\"8.0\" style=\"fill:rgb(219, 220, 222);stroke:black;stroke-width:1.0\"/>\n",
       "<text text-anchor=\"start\" x=\"458\" y=\"20\" font-size=\"12\">A</text><text text-anchor=\"start\" x=\"31\" y=\"122\" font-size=\"12\">B</text><text text-anchor=\"start\" x=\"34\" y=\"421\" font-size=\"12\">C</text><text text-anchor=\"start\" x=\"731\" y=\"268\" font-size=\"12\">D</text><text text-anchor=\"start\" x=\"331\" y=\"272\" font-size=\"12\">E</text><text text-anchor=\"start\" x=\"464\" y=\"520\" font-size=\"12\">F</text></svg>"
      ],
      "text/plain": [
       "<IPython.core.display.SVG object>"
      ]
     },
     "execution_count": 11,
     "metadata": {},
     "output_type": "execute_result"
    }
   ],
   "source": [
    "edges = ['AB', 'AC', 'AD', 'AE', 'AF', 'BC', 'BD', 'BE', 'BF', 'CD', 'CE', 'CF', 'DE', 'DF', 'EF']\n",
    "\n",
    "edgelist = [(e[0],e[1]) for e in edges]\n",
    "\n",
    "G = nx.from_edgelist(edgelist, create_using=nx.Graph)\n",
    "\n",
    "draw_graph(G, show_names=True, node_size=8, font_size=12, edge_width=1)"
   ]
  },
  {
   "cell_type": "markdown",
   "id": "39b597a8",
   "metadata": {},
   "source": [
    "### Density\n",
    "Unlike the cycle graph, in a dense graph, most nodes are linked to most other nodes. In this case, ALL nodes are linked to other nodes. If we wanted to experiment with density values, we could drop one of the edges and see how that affects density. Please experiment!\n",
    "\n",
    "A density of 1.0 indicates that all nodes have edges (links) to all other nodes."
   ]
  },
  {
   "cell_type": "code",
   "execution_count": 12,
   "id": "a5ae7312",
   "metadata": {},
   "outputs": [
    {
     "data": {
      "text/plain": [
       "1.0"
      ]
     },
     "execution_count": 12,
     "metadata": {},
     "output_type": "execute_result"
    }
   ],
   "source": [
    "nx.density(G)"
   ]
  },
  {
   "cell_type": "markdown",
   "id": "9a9ccb31",
   "metadata": {},
   "source": [
    "### Betweenness Centrality\n",
    "As with the cycle graph, all nodes have an identical betweenness centrality. However, unlike the cycle graph, the betweenness centrality value is 0.0 instead of 0.5."
   ]
  },
  {
   "cell_type": "code",
   "execution_count": 13,
   "id": "8d77a6c1",
   "metadata": {},
   "outputs": [
    {
     "data": {
      "text/plain": [
       "{'A': 0.0, 'B': 0.0, 'C': 0.0, 'D': 0.0, 'E': 0.0, 'F': 0.0}"
      ]
     },
     "execution_count": 13,
     "metadata": {},
     "output_type": "execute_result"
    }
   ],
   "source": [
    "nx.betweenness_centrality(G)"
   ]
  },
  {
   "cell_type": "markdown",
   "id": "aaed1fc1",
   "metadata": {},
   "source": [
    "### Degree Centrality\n",
    "Each node has five edges, and each node has an identical degree centrality. Even though this is a very different kind of graph than a cycle graph, the degree centrality is uniform across nodes in the graph, as it was in a cycle graph."
   ]
  },
  {
   "cell_type": "code",
   "execution_count": 14,
   "id": "1196928f",
   "metadata": {},
   "outputs": [
    {
     "data": {
      "text/plain": [
       "{'A': 1.0, 'B': 1.0, 'C': 1.0, 'D': 1.0, 'E': 1.0, 'F': 1.0}"
      ]
     },
     "execution_count": 14,
     "metadata": {},
     "output_type": "execute_result"
    }
   ],
   "source": [
    "nx.degree_centrality(G)"
   ]
  },
  {
   "cell_type": "code",
   "execution_count": 15,
   "id": "1d4a6233",
   "metadata": {},
   "outputs": [
    {
     "data": {
      "text/plain": [
       "DegreeView({'A': 5, 'B': 5, 'C': 5, 'D': 5, 'E': 5, 'F': 5})"
      ]
     },
     "execution_count": 15,
     "metadata": {},
     "output_type": "execute_result"
    }
   ],
   "source": [
    "G.degree"
   ]
  },
  {
   "cell_type": "markdown",
   "id": "15d36fe7",
   "metadata": {},
   "source": [
    "### Shortest Paths\n",
    "Take note that the shortest paths are very different in this kind of graph vs a cycle graph. In a cycle graph, it takes much longer to go from node E to node C. In this dense graph, node C is an equal distance from nodes A and E.\n",
    "\n",
    "This has implications in communications and in network resiliency. You can bolster your network by making it more dense."
   ]
  },
  {
   "cell_type": "code",
   "execution_count": 16,
   "id": "83cf2c0a",
   "metadata": {},
   "outputs": [
    {
     "data": {
      "text/plain": [
       "['A', 'C']"
      ]
     },
     "execution_count": 16,
     "metadata": {},
     "output_type": "execute_result"
    }
   ],
   "source": [
    "nx.shortest_path(G, 'A', 'C')"
   ]
  },
  {
   "cell_type": "code",
   "execution_count": 17,
   "id": "87ba624a",
   "metadata": {},
   "outputs": [
    {
     "data": {
      "text/plain": [
       "['E', 'C']"
      ]
     },
     "execution_count": 17,
     "metadata": {},
     "output_type": "execute_result"
    }
   ],
   "source": [
    "nx.shortest_path(G, 'E', 'C')"
   ]
  },
  {
   "cell_type": "markdown",
   "id": "ab419541",
   "metadata": {},
   "source": [
    "## Sparse Graphs\n",
    "You can learn more on the Dense graph page, but a sparse graph is just a graph where nodes have very few edges."
   ]
  },
  {
   "cell_type": "code",
   "execution_count": 18,
   "id": "733f8f66",
   "metadata": {},
   "outputs": [
    {
     "data": {
      "image/svg+xml": [
       "<svg xmlns=\"http://www.w3.org/2000/svg\" width=\"752.0\" height=\"540\">\n",
       "<defs><marker id=\"arrow-gray\" markerWidth=\"10\" markerHeight=\"10\" refX=\"9\" refY=\"3\" orient=\"auto\">\n",
       "<path d=\"M0,0 L0,6 L9,3 z\" fill=\"gray\"/></marker></defs>\n",
       "<path stroke-width=\"1\" stroke=\"gray\" d=\"M 206 77 223 57\" marker-end=\"url(#arrow-gray)\"/>\n",
       "<path stroke-width=\"1\" stroke=\"gray\" d=\"M 227 51 253 54\" marker-end=\"url(#arrow-gray)\"/>\n",
       "<path stroke-width=\"1\" stroke=\"gray\" d=\"M 227 51 217 27\" marker-end=\"url(#arrow-gray)\"/>\n",
       "<circle cx=\"206\" cy=\"77\" r=\"8.0\" style=\"fill:rgb(58, 76, 192);stroke:black;stroke-width:1.0\"/>\n",
       "<circle cx=\"227\" cy=\"51\" r=\"8.0\" style=\"fill:rgb(103, 136, 237);stroke:black;stroke-width:1.0\"/>\n",
       "<circle cx=\"260\" cy=\"55\" r=\"8.0\" style=\"fill:rgb(179, 3, 38);stroke:black;stroke-width:1.0\"/>\n",
       "<circle cx=\"215\" cy=\"20\" r=\"8.0\" style=\"fill:rgb(179, 3, 38);stroke:black;stroke-width:1.0\"/>\n",
       "<circle cx=\"20\" cy=\"304\" r=\"8.0\" style=\"fill:rgb(227, 108, 84);stroke:black;stroke-width:1.0\"/>\n",
       "<circle cx=\"609\" cy=\"166\" r=\"8.0\" style=\"fill:rgb(227, 108, 84);stroke:black;stroke-width:1.0\"/>\n",
       "<circle cx=\"284\" cy=\"350\" r=\"8.0\" style=\"fill:rgb(227, 108, 84);stroke:black;stroke-width:1.0\"/>\n",
       "<circle cx=\"577\" cy=\"520\" r=\"8.0\" style=\"fill:rgb(227, 108, 84);stroke:black;stroke-width:1.0\"/>\n",
       "<circle cx=\"589\" cy=\"367\" r=\"8.0\" style=\"fill:rgb(227, 108, 84);stroke:black;stroke-width:1.0\"/>\n",
       "<circle cx=\"720\" cy=\"69\" r=\"8.0\" style=\"fill:rgb(227, 108, 84);stroke:black;stroke-width:1.0\"/>\n",
       "<circle cx=\"448\" cy=\"274\" r=\"8.0\" style=\"fill:rgb(227, 108, 84);stroke:black;stroke-width:1.0\"/>\n",
       "<text text-anchor=\"start\" x=\"217\" y=\"77\" font-size=\"12\">A</text><text text-anchor=\"start\" x=\"238\" y=\"51\" font-size=\"12\">B</text><text text-anchor=\"start\" x=\"271\" y=\"55\" font-size=\"12\">C</text><text text-anchor=\"start\" x=\"226\" y=\"20\" font-size=\"12\">D</text><text text-anchor=\"start\" x=\"31\" y=\"304\" font-size=\"12\">E</text><text text-anchor=\"start\" x=\"620\" y=\"166\" font-size=\"12\">F</text><text text-anchor=\"start\" x=\"295\" y=\"350\" font-size=\"12\">G</text><text text-anchor=\"start\" x=\"588\" y=\"520\" font-size=\"12\">H</text><text text-anchor=\"start\" x=\"600\" y=\"367\" font-size=\"12\">I</text><text text-anchor=\"start\" x=\"731\" y=\"69\" font-size=\"12\">J</text><text text-anchor=\"start\" x=\"459\" y=\"274\" font-size=\"12\">K</text></svg>"
      ],
      "text/plain": [
       "<IPython.core.display.SVG object>"
      ]
     },
     "execution_count": 18,
     "metadata": {},
     "output_type": "execute_result"
    }
   ],
   "source": [
    "G = nx.DiGraph()\n",
    "\n",
    "G.add_nodes_from(['A', 'B', 'C', 'D', 'E', 'F', 'G', 'H', 'I', 'J', 'K'])\n",
    "G.add_edges_from([('A', 'B'), ('B', 'C'), ('B', 'D')])\n",
    "\n",
    "draw_graph(G, show_names=True, node_size=8, font_size=12, edge_width=1)"
   ]
  },
  {
   "cell_type": "markdown",
   "id": "07ac31e7",
   "metadata": {},
   "source": [
    "### Density\n",
    "\n",
    "Look at the density score of this graph. 0.027, where the fully connected graph had a density of 1.0. I made this sparse graph look closer to what I often see in real-world datasets, allowing a few connections to exist, making this a bit more interesting than completely isolated dots."
   ]
  },
  {
   "cell_type": "code",
   "execution_count": 19,
   "id": "c5c20b69",
   "metadata": {},
   "outputs": [
    {
     "data": {
      "text/plain": [
       "0.02727272727272727"
      ]
     },
     "execution_count": 19,
     "metadata": {},
     "output_type": "execute_result"
    }
   ],
   "source": [
    "nx.density(G)"
   ]
  },
  {
   "cell_type": "markdown",
   "id": "018006e4",
   "metadata": {},
   "source": [
    "### Betweenness Centrality\n",
    "Pay close attention to the code and arrows on the visualization and you'll realize that this is a directed graph. In this graph, only one node sits between other nodes, and that is node B. A has an edge with B, and B has edges with C and D. So, only one of these nodes will have a betweenness centrality value, and the rest will be zero. You can use betweenness centrality to identify important nodes, and it did just that."
   ]
  },
  {
   "cell_type": "code",
   "execution_count": 20,
   "id": "b2c28029",
   "metadata": {},
   "outputs": [
    {
     "data": {
      "text/plain": [
       "{'A': 0.0,\n",
       " 'B': 0.022222222222222223,\n",
       " 'C': 0.0,\n",
       " 'D': 0.0,\n",
       " 'E': 0.0,\n",
       " 'F': 0.0,\n",
       " 'G': 0.0,\n",
       " 'H': 0.0,\n",
       " 'I': 0.0,\n",
       " 'J': 0.0,\n",
       " 'K': 0.0}"
      ]
     },
     "execution_count": 20,
     "metadata": {},
     "output_type": "execute_result"
    }
   ],
   "source": [
    "nx.betweenness_centrality(G)"
   ]
  },
  {
   "cell_type": "markdown",
   "id": "4ac1c874",
   "metadata": {},
   "source": [
    "### Degree Centrality\n",
    "In this graph, degree centrality actually showed to be a bit more informative than betweenness centrality, which is why it is useful to know about several different centralities and where they can be useful and how they differ. Degree centrality gave the highest value to B (just like betweenness centrality), but it also identified nodes A, C, and D as having some importance, as they are connected."
   ]
  },
  {
   "cell_type": "code",
   "execution_count": 21,
   "id": "4bda95ba",
   "metadata": {},
   "outputs": [
    {
     "data": {
      "text/plain": [
       "{'A': 0.1,\n",
       " 'B': 0.30000000000000004,\n",
       " 'C': 0.1,\n",
       " 'D': 0.1,\n",
       " 'E': 0.0,\n",
       " 'F': 0.0,\n",
       " 'G': 0.0,\n",
       " 'H': 0.0,\n",
       " 'I': 0.0,\n",
       " 'J': 0.0,\n",
       " 'K': 0.0}"
      ]
     },
     "execution_count": 21,
     "metadata": {},
     "output_type": "execute_result"
    }
   ],
   "source": [
    "nx.degree_centrality(G)"
   ]
  },
  {
   "cell_type": "markdown",
   "id": "9cde2e26",
   "metadata": {},
   "source": [
    "### Shortest Paths\n",
    "Shortest paths identified another key difference between the other graphs. This is a directed network, and it is sparsely connected. As it is sparsely connected, information cannot flow from certain nodes to other nodes. Look below and you will see that there is a shortest path between nodes A and C, but there is no path whatsoever between nodes E and C. You can see that in the visualization as well!"
   ]
  },
  {
   "cell_type": "code",
   "execution_count": 22,
   "id": "bce46371",
   "metadata": {},
   "outputs": [
    {
     "data": {
      "text/plain": [
       "['A', 'B', 'C']"
      ]
     },
     "execution_count": 22,
     "metadata": {},
     "output_type": "execute_result"
    }
   ],
   "source": [
    "nx.shortest_path(G, 'A', 'C')"
   ]
  },
  {
   "cell_type": "code",
   "execution_count": 23,
   "id": "5101032c",
   "metadata": {},
   "outputs": [
    {
     "ename": "NetworkXNoPath",
     "evalue": "No path between E and C.",
     "output_type": "error",
     "traceback": [
      "\u001b[1;31m---------------------------------------------------------------------------\u001b[0m",
      "\u001b[1;31mNetworkXNoPath\u001b[0m                            Traceback (most recent call last)",
      "Cell \u001b[1;32mIn[23], line 1\u001b[0m\n\u001b[1;32m----> 1\u001b[0m nx\u001b[38;5;241m.\u001b[39mshortest_path(G, \u001b[38;5;124m'\u001b[39m\u001b[38;5;124mE\u001b[39m\u001b[38;5;124m'\u001b[39m, \u001b[38;5;124m'\u001b[39m\u001b[38;5;124mC\u001b[39m\u001b[38;5;124m'\u001b[39m)\n",
      "File \u001b[1;32m~\\anaconda3\\Lib\\site-packages\\networkx\\classes\\backends.py:148\u001b[0m, in \u001b[0;36m_dispatch.<locals>.wrapper\u001b[1;34m(*args, **kwds)\u001b[0m\n\u001b[0;32m    144\u001b[0m         \u001b[38;5;28;01melse\u001b[39;00m:\n\u001b[0;32m    145\u001b[0m             \u001b[38;5;28;01mraise\u001b[39;00m NetworkXNotImplemented(\n\u001b[0;32m    146\u001b[0m                 \u001b[38;5;124mf\u001b[39m\u001b[38;5;124m\"\u001b[39m\u001b[38;5;124m'\u001b[39m\u001b[38;5;132;01m{\u001b[39;00mname\u001b[38;5;132;01m}\u001b[39;00m\u001b[38;5;124m'\u001b[39m\u001b[38;5;124m not implemented by \u001b[39m\u001b[38;5;132;01m{\u001b[39;00mplugin_name\u001b[38;5;132;01m}\u001b[39;00m\u001b[38;5;124m\"\u001b[39m\n\u001b[0;32m    147\u001b[0m             )\n\u001b[1;32m--> 148\u001b[0m \u001b[38;5;28;01mreturn\u001b[39;00m func(\u001b[38;5;241m*\u001b[39margs, \u001b[38;5;241m*\u001b[39m\u001b[38;5;241m*\u001b[39mkwds)\n",
      "File \u001b[1;32m~\\anaconda3\\Lib\\site-packages\\networkx\\algorithms\\shortest_paths\\generic.py:171\u001b[0m, in \u001b[0;36mshortest_path\u001b[1;34m(G, source, target, weight, method)\u001b[0m\n\u001b[0;32m    168\u001b[0m \u001b[38;5;28;01melse\u001b[39;00m:\n\u001b[0;32m    169\u001b[0m     \u001b[38;5;66;03m# Find shortest source-target path.\u001b[39;00m\n\u001b[0;32m    170\u001b[0m     \u001b[38;5;28;01mif\u001b[39;00m method \u001b[38;5;241m==\u001b[39m \u001b[38;5;124m\"\u001b[39m\u001b[38;5;124munweighted\u001b[39m\u001b[38;5;124m\"\u001b[39m:\n\u001b[1;32m--> 171\u001b[0m         paths \u001b[38;5;241m=\u001b[39m nx\u001b[38;5;241m.\u001b[39mbidirectional_shortest_path(G, source, target)\n\u001b[0;32m    172\u001b[0m     \u001b[38;5;28;01melif\u001b[39;00m method \u001b[38;5;241m==\u001b[39m \u001b[38;5;124m\"\u001b[39m\u001b[38;5;124mdijkstra\u001b[39m\u001b[38;5;124m\"\u001b[39m:\n\u001b[0;32m    173\u001b[0m         _, paths \u001b[38;5;241m=\u001b[39m nx\u001b[38;5;241m.\u001b[39mbidirectional_dijkstra(G, source, target, weight)\n",
      "File \u001b[1;32m~\\anaconda3\\Lib\\site-packages\\networkx\\algorithms\\shortest_paths\\unweighted.py:240\u001b[0m, in \u001b[0;36mbidirectional_shortest_path\u001b[1;34m(G, source, target)\u001b[0m\n\u001b[0;32m    237\u001b[0m     \u001b[38;5;28;01mraise\u001b[39;00m nx\u001b[38;5;241m.\u001b[39mNodeNotFound(msg)\n\u001b[0;32m    239\u001b[0m \u001b[38;5;66;03m# call helper to do the real work\u001b[39;00m\n\u001b[1;32m--> 240\u001b[0m results \u001b[38;5;241m=\u001b[39m _bidirectional_pred_succ(G, source, target)\n\u001b[0;32m    241\u001b[0m pred, succ, w \u001b[38;5;241m=\u001b[39m results\n\u001b[0;32m    243\u001b[0m \u001b[38;5;66;03m# build path from pred+w+succ\u001b[39;00m\n",
      "File \u001b[1;32m~\\anaconda3\\Lib\\site-packages\\networkx\\algorithms\\shortest_paths\\unweighted.py:308\u001b[0m, in \u001b[0;36m_bidirectional_pred_succ\u001b[1;34m(G, source, target)\u001b[0m\n\u001b[0;32m    305\u001b[0m                 \u001b[38;5;28;01mif\u001b[39;00m w \u001b[38;5;129;01min\u001b[39;00m pred:  \u001b[38;5;66;03m# found path\u001b[39;00m\n\u001b[0;32m    306\u001b[0m                     \u001b[38;5;28;01mreturn\u001b[39;00m pred, succ, w\n\u001b[1;32m--> 308\u001b[0m \u001b[38;5;28;01mraise\u001b[39;00m nx\u001b[38;5;241m.\u001b[39mNetworkXNoPath(\u001b[38;5;124mf\u001b[39m\u001b[38;5;124m\"\u001b[39m\u001b[38;5;124mNo path between \u001b[39m\u001b[38;5;132;01m{\u001b[39;00msource\u001b[38;5;132;01m}\u001b[39;00m\u001b[38;5;124m and \u001b[39m\u001b[38;5;132;01m{\u001b[39;00mtarget\u001b[38;5;132;01m}\u001b[39;00m\u001b[38;5;124m.\u001b[39m\u001b[38;5;124m\"\u001b[39m)\n",
      "\u001b[1;31mNetworkXNoPath\u001b[0m: No path between E and C."
     ]
    }
   ],
   "source": [
    "nx.shortest_path(G, 'E', 'C')"
   ]
  },
  {
   "cell_type": "markdown",
   "id": "c190accb",
   "metadata": {},
   "source": [
    "## Regular Graphs\n",
    "\n",
    "A regular graph is a type of graph in network science where each node has the same number of connections or edges. In other words, all nodes in a regular graph have the same degree. Regular graphs are often studied for their uniform connectivity patterns and symmetry.\n",
    "\n",
    "You can learn more at https://en.wikipedia.org/wiki/Regular_graph\n",
    "\n",
    "Our Dense Graph was an example of a regular graph, but I will make another one for this demonstration. No harm in seeing something twice. You'll see a lot of familiar shapes the more network analysis you do.\n",
    "\n",
    "Forget everything you know about dense graphs and pretend you just learned about regular graphs. Try to anticipate density, betweenness centrality, and shortest paths."
   ]
  },
  {
   "cell_type": "code",
   "execution_count": 24,
   "id": "bb336ae5",
   "metadata": {},
   "outputs": [
    {
     "data": {
      "image/svg+xml": [
       "<svg xmlns=\"http://www.w3.org/2000/svg\" width=\"752.0\" height=\"540\">\n",
       "<path stroke-width=\"1\" stroke=\"gray\" d=\"M 480 20 259 520\"/>\n",
       "<path stroke-width=\"1\" stroke=\"gray\" d=\"M 480 20 20 186\"/>\n",
       "<path stroke-width=\"1\" stroke=\"gray\" d=\"M 480 20 720 353\"/>\n",
       "<path stroke-width=\"1\" stroke=\"gray\" d=\"M 259 520 480 20\"/>\n",
       "<path stroke-width=\"1\" stroke=\"gray\" d=\"M 259 520 20 186\"/>\n",
       "<path stroke-width=\"1\" stroke=\"gray\" d=\"M 259 520 720 353\"/>\n",
       "<path stroke-width=\"1\" stroke=\"gray\" d=\"M 20 186 480 20\"/>\n",
       "<path stroke-width=\"1\" stroke=\"gray\" d=\"M 20 186 259 520\"/>\n",
       "<path stroke-width=\"1\" stroke=\"gray\" d=\"M 20 186 720 353\"/>\n",
       "<path stroke-width=\"1\" stroke=\"gray\" d=\"M 720 353 480 20\"/>\n",
       "<path stroke-width=\"1\" stroke=\"gray\" d=\"M 720 353 259 520\"/>\n",
       "<path stroke-width=\"1\" stroke=\"gray\" d=\"M 720 353 20 186\"/>\n",
       "<circle cx=\"480\" cy=\"20\" r=\"8.0\" style=\"fill:rgb(219, 220, 222);stroke:black;stroke-width:1.0\"/>\n",
       "<circle cx=\"259\" cy=\"520\" r=\"8.0\" style=\"fill:rgb(219, 220, 222);stroke:black;stroke-width:1.0\"/>\n",
       "<circle cx=\"20\" cy=\"186\" r=\"8.0\" style=\"fill:rgb(219, 220, 222);stroke:black;stroke-width:1.0\"/>\n",
       "<circle cx=\"720\" cy=\"353\" r=\"8.0\" style=\"fill:rgb(219, 220, 222);stroke:black;stroke-width:1.0\"/>\n",
       "<text text-anchor=\"start\" x=\"491\" y=\"20\" font-size=\"12\">A</text><text text-anchor=\"start\" x=\"270\" y=\"520\" font-size=\"12\">B</text><text text-anchor=\"start\" x=\"31\" y=\"186\" font-size=\"12\">C</text><text text-anchor=\"start\" x=\"731\" y=\"353\" font-size=\"12\">D</text></svg>"
      ],
      "text/plain": [
       "<IPython.core.display.SVG object>"
      ]
     },
     "execution_count": 24,
     "metadata": {},
     "output_type": "execute_result"
    }
   ],
   "source": [
    "edges = ['AB', 'AC', 'AD', 'BC', 'BD', 'CD']\n",
    "\n",
    "edgelist = [(e[0],e[1]) for e in edges]\n",
    "\n",
    "G = nx.from_edgelist(edgelist, create_using=nx.Graph)\n",
    "\n",
    "draw_graph(G, show_names=True, node_size=8, font_size=12, edge_width=1)"
   ]
  },
  {
   "cell_type": "markdown",
   "id": "23e7c38f",
   "metadata": {},
   "source": [
    "### Density"
   ]
  },
  {
   "cell_type": "code",
   "execution_count": 25,
   "id": "83fe4d95",
   "metadata": {},
   "outputs": [
    {
     "data": {
      "text/plain": [
       "1.0"
      ]
     },
     "execution_count": 25,
     "metadata": {},
     "output_type": "execute_result"
    }
   ],
   "source": [
    "nx.density(G)"
   ]
  },
  {
   "cell_type": "markdown",
   "id": "42d9ee6f",
   "metadata": {},
   "source": [
    "### Betweenness Centrality"
   ]
  },
  {
   "cell_type": "code",
   "execution_count": 26,
   "id": "d68b651e",
   "metadata": {},
   "outputs": [
    {
     "data": {
      "text/plain": [
       "{'A': 0.0, 'B': 0.0, 'C': 0.0, 'D': 0.0}"
      ]
     },
     "execution_count": 26,
     "metadata": {},
     "output_type": "execute_result"
    }
   ],
   "source": [
    "nx.betweenness_centrality(G)"
   ]
  },
  {
   "cell_type": "markdown",
   "id": "2984508a",
   "metadata": {},
   "source": [
    "### Degree Centrality"
   ]
  },
  {
   "cell_type": "code",
   "execution_count": 27,
   "id": "c9be720c",
   "metadata": {},
   "outputs": [
    {
     "data": {
      "text/plain": [
       "{'A': 1.0, 'B': 1.0, 'C': 1.0, 'D': 1.0}"
      ]
     },
     "execution_count": 27,
     "metadata": {},
     "output_type": "execute_result"
    }
   ],
   "source": [
    "nx.degree_centrality(G)"
   ]
  },
  {
   "cell_type": "code",
   "execution_count": 28,
   "id": "a1eab572",
   "metadata": {},
   "outputs": [
    {
     "data": {
      "text/plain": [
       "DegreeView({'A': 3, 'B': 3, 'C': 3, 'D': 3})"
      ]
     },
     "execution_count": 28,
     "metadata": {},
     "output_type": "execute_result"
    }
   ],
   "source": [
    "G.degree"
   ]
  },
  {
   "cell_type": "markdown",
   "id": "c9270405",
   "metadata": {},
   "source": [
    "### Shortest Paths"
   ]
  },
  {
   "cell_type": "code",
   "execution_count": 29,
   "id": "69e66120",
   "metadata": {},
   "outputs": [
    {
     "data": {
      "text/plain": [
       "['A', 'D']"
      ]
     },
     "execution_count": 29,
     "metadata": {},
     "output_type": "execute_result"
    }
   ],
   "source": [
    "nx.shortest_path(G, 'A', 'D')"
   ]
  },
  {
   "cell_type": "code",
   "execution_count": 30,
   "id": "7b90b333",
   "metadata": {},
   "outputs": [
    {
     "data": {
      "text/plain": [
       "['B', 'D']"
      ]
     },
     "execution_count": 30,
     "metadata": {},
     "output_type": "execute_result"
    }
   ],
   "source": [
    "nx.shortest_path(G, 'B', 'D')"
   ]
  },
  {
   "cell_type": "markdown",
   "id": "31e0861b",
   "metadata": {},
   "source": [
    "## Wheel Graphs\n",
    "\n",
    "A wheel graph is visibly identical to a cycle graph, but each of the outer nodes links to an inner node, creating what looks like a wheel. However, it is not identical to a cycle graph, as this is an undirected graph, where a cycle graph is directed.\n",
    "\n",
    "You can learn more at https://en.wikipedia.org/wiki/Wheel_graph"
   ]
  },
  {
   "cell_type": "code",
   "execution_count": 31,
   "id": "99d0ed07",
   "metadata": {},
   "outputs": [
    {
     "data": {
      "image/svg+xml": [
       "<svg xmlns=\"http://www.w3.org/2000/svg\" width=\"752.0\" height=\"540\">\n",
       "<path stroke-width=\"1\" stroke=\"gray\" d=\"M 212 21 524 20\"/>\n",
       "<path stroke-width=\"1\" stroke=\"gray\" d=\"M 371 257 373 520\"/>\n",
       "<path stroke-width=\"1\" stroke=\"gray\" d=\"M 371 257 649 418\"/>\n",
       "<path stroke-width=\"1\" stroke=\"gray\" d=\"M 371 257 720 198\"/>\n",
       "<path stroke-width=\"1\" stroke=\"gray\" d=\"M 371 257 524 20\"/>\n",
       "<path stroke-width=\"1\" stroke=\"gray\" d=\"M 371 257 212 21\"/>\n",
       "<path stroke-width=\"1\" stroke=\"gray\" d=\"M 20 200 371 257\"/>\n",
       "<path stroke-width=\"1\" stroke=\"gray\" d=\"M 20 200 91 422\"/>\n",
       "<path stroke-width=\"1\" stroke=\"gray\" d=\"M 20 200 212 21\"/>\n",
       "<path stroke-width=\"1\" stroke=\"gray\" d=\"M 91 422 371 257\"/>\n",
       "<path stroke-width=\"1\" stroke=\"gray\" d=\"M 91 422 20 200\"/>\n",
       "<path stroke-width=\"1\" stroke=\"gray\" d=\"M 91 422 373 520\"/>\n",
       "<path stroke-width=\"1\" stroke=\"gray\" d=\"M 373 520 371 257\"/>\n",
       "<path stroke-width=\"1\" stroke=\"gray\" d=\"M 373 520 91 422\"/>\n",
       "<path stroke-width=\"1\" stroke=\"gray\" d=\"M 373 520 649 418\"/>\n",
       "<path stroke-width=\"1\" stroke=\"gray\" d=\"M 649 418 371 257\"/>\n",
       "<path stroke-width=\"1\" stroke=\"gray\" d=\"M 649 418 373 520\"/>\n",
       "<path stroke-width=\"1\" stroke=\"gray\" d=\"M 649 418 720 198\"/>\n",
       "<path stroke-width=\"1\" stroke=\"gray\" d=\"M 720 198 371 257\"/>\n",
       "<path stroke-width=\"1\" stroke=\"gray\" d=\"M 720 198 649 418\"/>\n",
       "<path stroke-width=\"1\" stroke=\"gray\" d=\"M 720 198 524 20\"/>\n",
       "<path stroke-width=\"1\" stroke=\"gray\" d=\"M 524 20 371 257\"/>\n",
       "<path stroke-width=\"1\" stroke=\"gray\" d=\"M 524 20 720 198\"/>\n",
       "<path stroke-width=\"1\" stroke=\"gray\" d=\"M 524 20 212 21\"/>\n",
       "<path stroke-width=\"1\" stroke=\"gray\" d=\"M 212 21 371 257\"/>\n",
       "<path stroke-width=\"1\" stroke=\"gray\" d=\"M 212 21 20 200\"/>\n",
       "<path stroke-width=\"1\" stroke=\"gray\" d=\"M 371 257 91 422\"/>\n",
       "<path stroke-width=\"1\" stroke=\"gray\" d=\"M 371 257 20 200\"/>\n",
       "<circle cx=\"212\" cy=\"21\" r=\"8.0\" style=\"fill:rgb(58, 76, 192);stroke:black;stroke-width:1.0\"/>\n",
       "<circle cx=\"524\" cy=\"20\" r=\"8.0\" style=\"fill:rgb(58, 76, 192);stroke:black;stroke-width:1.0\"/>\n",
       "<circle cx=\"720\" cy=\"198\" r=\"8.0\" style=\"fill:rgb(58, 76, 192);stroke:black;stroke-width:1.0\"/>\n",
       "<circle cx=\"649\" cy=\"418\" r=\"8.0\" style=\"fill:rgb(58, 76, 192);stroke:black;stroke-width:1.0\"/>\n",
       "<circle cx=\"373\" cy=\"520\" r=\"8.0\" style=\"fill:rgb(58, 76, 192);stroke:black;stroke-width:1.0\"/>\n",
       "<circle cx=\"91\" cy=\"422\" r=\"8.0\" style=\"fill:rgb(58, 76, 192);stroke:black;stroke-width:1.0\"/>\n",
       "<circle cx=\"20\" cy=\"200\" r=\"8.0\" style=\"fill:rgb(58, 76, 192);stroke:black;stroke-width:1.0\"/>\n",
       "<circle cx=\"371\" cy=\"257\" r=\"8.0\" style=\"fill:rgb(179, 3, 38);stroke:black;stroke-width:1.0\"/>\n",
       "<text text-anchor=\"start\" x=\"223\" y=\"21\" font-size=\"12\">A</text><text text-anchor=\"start\" x=\"535\" y=\"20\" font-size=\"12\">B</text><text text-anchor=\"start\" x=\"731\" y=\"198\" font-size=\"12\">C</text><text text-anchor=\"start\" x=\"660\" y=\"418\" font-size=\"12\">D</text><text text-anchor=\"start\" x=\"384\" y=\"520\" font-size=\"12\">E</text><text text-anchor=\"start\" x=\"102\" y=\"422\" font-size=\"12\">F</text><text text-anchor=\"start\" x=\"31\" y=\"200\" font-size=\"12\">G</text><text text-anchor=\"start\" x=\"382\" y=\"257\" font-size=\"12\">H</text></svg>"
      ],
      "text/plain": [
       "<IPython.core.display.SVG object>"
      ]
     },
     "execution_count": 31,
     "metadata": {},
     "output_type": "execute_result"
    }
   ],
   "source": [
    "edges = ['AB', 'BC', 'CD', 'DE', 'EF', 'FG', 'GA', 'AH', 'BH', 'CH', 'DH', 'EH', 'FH', 'GH']\n",
    "\n",
    "edgelist = [(e[0],e[1]) for e in edges]\n",
    "\n",
    "G = nx.from_edgelist(edgelist, create_using=nx.Graph)\n",
    "\n",
    "draw_graph(G, show_names=True, node_size=8, font_size=12, edge_width=1)"
   ]
  },
  {
   "cell_type": "markdown",
   "id": "b19c4041",
   "metadata": {},
   "source": [
    "### Density\n",
    "Take note of the difference in density between this graph and other graphs! It's not a 1.0, because all nodes are NOT connected. All nodes are connected to a single node, but all nodes are not connected with each other. This is not a dense graph, but it is also not a sparse graph."
   ]
  },
  {
   "cell_type": "code",
   "execution_count": 32,
   "id": "17340dab",
   "metadata": {},
   "outputs": [
    {
     "data": {
      "text/plain": [
       "0.5"
      ]
     },
     "execution_count": 32,
     "metadata": {},
     "output_type": "execute_result"
    }
   ],
   "source": [
    "nx.density(G)"
   ]
  },
  {
   "cell_type": "markdown",
   "id": "f54984c8",
   "metadata": {},
   "source": [
    "### Betweenness Centrality\n",
    "In this graph, one single node sits between every other node in the network, but other nodes also sit between other nodes. So, the one VISIBLY CENTRAL node has a 25x higher betweenness centrality score, roughly. You could say that it is 25x more important than the other nodes, by positioning alone."
   ]
  },
  {
   "cell_type": "code",
   "execution_count": 33,
   "id": "974bff31",
   "metadata": {},
   "outputs": [
    {
     "data": {
      "text/plain": [
       "{'A': 0.023809523809523808,\n",
       " 'B': 0.023809523809523808,\n",
       " 'C': 0.023809523809523808,\n",
       " 'D': 0.023809523809523808,\n",
       " 'E': 0.023809523809523808,\n",
       " 'F': 0.023809523809523808,\n",
       " 'G': 0.023809523809523808,\n",
       " 'H': 0.5}"
      ]
     },
     "execution_count": 33,
     "metadata": {},
     "output_type": "execute_result"
    }
   ],
   "source": [
    "nx.betweenness_centrality(G)"
   ]
  },
  {
   "cell_type": "markdown",
   "id": "228f7705",
   "metadata": {},
   "source": [
    "### Degree Centrality\n",
    "Degree centrality found node H to be most important, with a value more than twice as high as other nodes. If this were a communication network, I would say that betweenness centrality paints a better picture, because the middle node allows communication between every node, where that was not the case in a cycle graph (scroll to top to see). This will affect shortest paths as well!"
   ]
  },
  {
   "cell_type": "code",
   "execution_count": 34,
   "id": "d04d3be4",
   "metadata": {},
   "outputs": [
    {
     "data": {
      "text/plain": [
       "{'A': 0.42857142857142855,\n",
       " 'B': 0.42857142857142855,\n",
       " 'C': 0.42857142857142855,\n",
       " 'D': 0.42857142857142855,\n",
       " 'E': 0.42857142857142855,\n",
       " 'F': 0.42857142857142855,\n",
       " 'G': 0.42857142857142855,\n",
       " 'H': 1.0}"
      ]
     },
     "execution_count": 34,
     "metadata": {},
     "output_type": "execute_result"
    }
   ],
   "source": [
    "nx.degree_centrality(G)"
   ]
  },
  {
   "cell_type": "markdown",
   "id": "bbe3ec15",
   "metadata": {},
   "source": [
    "### Shortest Paths\n",
    "The shortest path will have to do with where nodes are positioned in the graph, but the central node allows quick communication from nodes on one side of a graph to nodes on the other side. Look at the visualization and look at noces A and E. Notice how far apart they are, and how far they'd have to go if node H had not been placed in the middle. Node H's placement is an optimization for this network, in terms of information flow."
   ]
  },
  {
   "cell_type": "code",
   "execution_count": 35,
   "id": "85202265",
   "metadata": {},
   "outputs": [
    {
     "data": {
      "text/plain": [
       "['A', 'H', 'E']"
      ]
     },
     "execution_count": 35,
     "metadata": {},
     "output_type": "execute_result"
    }
   ],
   "source": [
    "nx.shortest_path(G, 'A', 'E')"
   ]
  },
  {
   "cell_type": "code",
   "execution_count": 36,
   "id": "df448394",
   "metadata": {},
   "outputs": [
    {
     "data": {
      "text/plain": [
       "['B', 'H', 'F']"
      ]
     },
     "execution_count": 36,
     "metadata": {},
     "output_type": "execute_result"
    }
   ],
   "source": [
    "nx.shortest_path(G, 'B', 'F')"
   ]
  },
  {
   "cell_type": "code",
   "execution_count": 37,
   "id": "e3311716",
   "metadata": {},
   "outputs": [
    {
     "data": {
      "text/plain": [
       "['A', 'B']"
      ]
     },
     "execution_count": 37,
     "metadata": {},
     "output_type": "execute_result"
    }
   ],
   "source": [
    "nx.shortest_path(G, 'A', 'B')"
   ]
  },
  {
   "cell_type": "code",
   "execution_count": 38,
   "id": "7c6e7c50",
   "metadata": {},
   "outputs": [
    {
     "data": {
      "text/plain": [
       "['A', 'B', 'C']"
      ]
     },
     "execution_count": 38,
     "metadata": {},
     "output_type": "execute_result"
    }
   ],
   "source": [
    "nx.shortest_path(G, 'A', 'C')"
   ]
  },
  {
   "cell_type": "markdown",
   "id": "b5a330de",
   "metadata": {},
   "source": [
    "# That's all for today!\n",
    "Yesterday, we used a graph to create a learning path for us to learn more about network science, and today we created and analyzed five different kinds of graphs! I hope you enjoyed this. We will do more!\n",
    "\n",
    "It might be cool, one day, to make some neat learning visualizations of different graph types!"
   ]
  },
  {
   "cell_type": "code",
   "execution_count": null,
   "id": "a722118a",
   "metadata": {},
   "outputs": [],
   "source": []
  }
 ],
 "metadata": {
  "kernelspec": {
   "display_name": "Python 3 (ipykernel)",
   "language": "python",
   "name": "python3"
  },
  "language_info": {
   "codemirror_mode": {
    "name": "ipython",
    "version": 3
   },
   "file_extension": ".py",
   "mimetype": "text/x-python",
   "name": "python",
   "nbconvert_exporter": "python",
   "pygments_lexer": "ipython3",
   "version": "3.11.5"
  }
 },
 "nbformat": 4,
 "nbformat_minor": 5
}
