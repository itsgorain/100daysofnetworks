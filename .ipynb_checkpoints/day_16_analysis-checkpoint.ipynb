{
 "cells": [
  {
   "cell_type": "code",
   "execution_count": 1,
   "id": "7d18c815",
   "metadata": {},
   "outputs": [],
   "source": [
    "import networkx as nx\n",
    "import numpy as np\n",
    "import pandas as pd"
   ]
  },
  {
   "cell_type": "code",
   "execution_count": 2,
   "id": "0e8c36c4",
   "metadata": {},
   "outputs": [],
   "source": [
    "# for visualization\n",
    "from IPython.display import SVG \n",
    "from sknetwork.visualization import svg_graph \n",
    "from sknetwork.data import Bunch \n",
    "from sknetwork.ranking import PageRank \n",
    "from scipy.sparse import csr_matrix\n",
    "\n",
    "def draw_graph(G, show_names=False, node_size=1, font_size=10, edge_width=0.5):\n",
    "\n",
    "    adjacency = nx.to_scipy_sparse_array(G, nodelist=None, dtype=None, weight='weight', format='csr')\n",
    "    adjacency = csr_matrix(adjacency) # fix to weird sknetwork-csr issue; comment out to troubleshoot\n",
    "    \n",
    "    names = np.array(list(G.nodes))\n",
    "    \n",
    "    graph = Bunch()\n",
    "    graph.adjacency = adjacency\n",
    "    graph.names = np.array(names)\n",
    "    \n",
    "    pagerank = PageRank()\n",
    "    scores = pagerank.fit_transform(adjacency)\n",
    "\n",
    "    if show_names:\n",
    "        \n",
    "        image = svg_graph(graph.adjacency, font_size=font_size, node_size=node_size, names=graph.names, width=700, height=500, scores=scores, edge_width=edge_width)\n",
    "    \n",
    "    else:\n",
    "        \n",
    "        image = svg_graph(graph.adjacency, node_size=node_size, width=700, height=500, scores = scores, edge_width=edge_width)\n",
    "    \n",
    "    return SVG(image)"
   ]
  },
  {
   "cell_type": "code",
   "execution_count": 3,
   "id": "5e7e69f4",
   "metadata": {},
   "outputs": [
    {
     "data": {
      "text/html": [
       "<div>\n",
       "<style scoped>\n",
       "    .dataframe tbody tr th:only-of-type {\n",
       "        vertical-align: middle;\n",
       "    }\n",
       "\n",
       "    .dataframe tbody tr th {\n",
       "        vertical-align: top;\n",
       "    }\n",
       "\n",
       "    .dataframe thead th {\n",
       "        text-align: right;\n",
       "    }\n",
       "</style>\n",
       "<table border=\"1\" class=\"dataframe\">\n",
       "  <thead>\n",
       "    <tr style=\"text-align: right;\">\n",
       "      <th></th>\n",
       "      <th>source</th>\n",
       "      <th>target</th>\n",
       "    </tr>\n",
       "  </thead>\n",
       "  <tbody>\n",
       "    <tr>\n",
       "      <th>0</th>\n",
       "      <td>B.B. King</td>\n",
       "      <td>NEGAPHONE</td>\n",
       "    </tr>\n",
       "    <tr>\n",
       "      <th>1</th>\n",
       "      <td>B.B. King</td>\n",
       "      <td>WeeBay</td>\n",
       "    </tr>\n",
       "    <tr>\n",
       "      <th>2</th>\n",
       "      <td>B.B. King</td>\n",
       "      <td>Big Choze</td>\n",
       "    </tr>\n",
       "    <tr>\n",
       "      <th>3</th>\n",
       "      <td>B.B. King</td>\n",
       "      <td>U2</td>\n",
       "    </tr>\n",
       "    <tr>\n",
       "      <th>4</th>\n",
       "      <td>B.B. King</td>\n",
       "      <td>Lil Wayne</td>\n",
       "    </tr>\n",
       "  </tbody>\n",
       "</table>\n",
       "</div>"
      ],
      "text/plain": [
       "      source     target\n",
       "0  B.B. King  NEGAPHONE\n",
       "1  B.B. King     WeeBay\n",
       "2  B.B. King  Big Choze\n",
       "3  B.B. King         U2\n",
       "4  B.B. King  Lil Wayne"
      ]
     },
     "execution_count": 3,
     "metadata": {},
     "output_type": "execute_result"
    }
   ],
   "source": [
    "data = r'data/spotify_bbking_edgelist.csv'\n",
    "\n",
    "df = pd.read_csv(data)\n",
    "df.head()"
   ]
  },
  {
   "cell_type": "code",
   "execution_count": 4,
   "id": "5296a3e1",
   "metadata": {},
   "outputs": [],
   "source": [
    "G = nx.from_pandas_edgelist(df)\n",
    "\n",
    "# drop the seed nodes; we will have proper names from pages found\n",
    "seed_nodes = ['network science', 'social network analysis', 'graph theory', 'causal inference']\n",
    "G.remove_nodes_from(seed_nodes)"
   ]
  },
  {
   "cell_type": "code",
   "execution_count": 5,
   "id": "e7936819",
   "metadata": {},
   "outputs": [
    {
     "name": "stdout",
     "output_type": "stream",
     "text": [
      "Graph with 87 nodes and 88 edges\n"
     ]
    }
   ],
   "source": [
    "print(G)"
   ]
  },
  {
   "cell_type": "code",
   "execution_count": 6,
   "id": "c3b2b9ba",
   "metadata": {},
   "outputs": [
    {
     "data": {
      "image/svg+xml": [
       "<svg xmlns=\"http://www.w3.org/2000/svg\" width=\"858.0251795620052\" height=\"540\">\n",
       "<path stroke-width=\"0.3\" stroke=\"gray\" d=\"M 367 264 490 265\"/>\n",
       "<path stroke-width=\"0.3\" stroke=\"gray\" d=\"M 288 81 344 33\"/>\n",
       "<path stroke-width=\"0.3\" stroke=\"gray\" d=\"M 288 81 322 20\"/>\n",
       "<path stroke-width=\"0.3\" stroke=\"gray\" d=\"M 126 189 235 193\"/>\n",
       "<path stroke-width=\"0.3\" stroke=\"gray\" d=\"M 126 189 169 198\"/>\n",
       "<path stroke-width=\"0.3\" stroke=\"gray\" d=\"M 126 189 65 159\"/>\n",
       "<path stroke-width=\"0.3\" stroke=\"gray\" d=\"M 126 189 49 203\"/>\n",
       "<path stroke-width=\"0.3\" stroke=\"gray\" d=\"M 468 133 483 185\"/>\n",
       "<path stroke-width=\"0.3\" stroke=\"gray\" d=\"M 439 168 483 185\"/>\n",
       "<path stroke-width=\"0.3\" stroke=\"gray\" d=\"M 288 81 286 20\"/>\n",
       "<path stroke-width=\"0.3\" stroke=\"gray\" d=\"M 510 143 483 185\"/>\n",
       "<path stroke-width=\"0.3\" stroke=\"gray\" d=\"M 362 65 311 110\"/>\n",
       "<path stroke-width=\"0.3\" stroke=\"gray\" d=\"M 377 84 311 110\"/>\n",
       "<path stroke-width=\"0.3\" stroke=\"gray\" d=\"M 258 330 300 276\"/>\n",
       "<path stroke-width=\"0.3\" stroke=\"gray\" d=\"M 397 246 300 276\"/>\n",
       "<path stroke-width=\"0.3\" stroke=\"gray\" d=\"M 397 246 285 335\"/>\n",
       "<path stroke-width=\"0.3\" stroke=\"gray\" d=\"M 397 246 540 160\"/>\n",
       "<path stroke-width=\"0.3\" stroke=\"gray\" d=\"M 89 116 147 173\"/>\n",
       "<path stroke-width=\"0.3\" stroke=\"gray\" d=\"M 494 317 549 333\"/>\n",
       "<path stroke-width=\"0.3\" stroke=\"gray\" d=\"M 298 56 311 110\"/>\n",
       "<path stroke-width=\"0.3\" stroke=\"gray\" d=\"M 604 338 549 333\"/>\n",
       "<path stroke-width=\"0.3\" stroke=\"gray\" d=\"M 288 81 235 193\"/>\n",
       "<path stroke-width=\"0.3\" stroke=\"gray\" d=\"M 189 234 235 193\"/>\n",
       "<path stroke-width=\"0.3\" stroke=\"gray\" d=\"M 540 160 624 129\"/>\n",
       "<path stroke-width=\"0.3\" stroke=\"gray\" d=\"M 540 160 618 109\"/>\n",
       "<path stroke-width=\"0.3\" stroke=\"gray\" d=\"M 540 160 599 131\"/>\n",
       "<path stroke-width=\"0.3\" stroke=\"gray\" d=\"M 187 155 285 205\"/>\n",
       "<path stroke-width=\"0.3\" stroke=\"gray\" d=\"M 187 155 109 169\"/>\n",
       "<path stroke-width=\"0.3\" stroke=\"gray\" d=\"M 187 155 150 103\"/>\n",
       "<path stroke-width=\"0.3\" stroke=\"gray\" d=\"M 222 141 235 193\"/>\n",
       "<path stroke-width=\"0.3\" stroke=\"gray\" d=\"M 267 154 235 193\"/>\n",
       "<path stroke-width=\"0.3\" stroke=\"gray\" d=\"M 165 211 235 193\"/>\n",
       "<path stroke-width=\"0.3\" stroke=\"gray\" d=\"M 311 110 235 193\"/>\n",
       "<path stroke-width=\"0.3\" stroke=\"gray\" d=\"M 311 110 362 65\"/>\n",
       "<path stroke-width=\"0.3\" stroke=\"gray\" d=\"M 311 110 377 84\"/>\n",
       "<path stroke-width=\"0.3\" stroke=\"gray\" d=\"M 112 296 235 193\"/>\n",
       "<path stroke-width=\"0.3\" stroke=\"gray\" d=\"M 112 296 34 311\"/>\n",
       "<path stroke-width=\"0.3\" stroke=\"gray\" d=\"M 112 296 66 355\"/>\n",
       "<path stroke-width=\"0.3\" stroke=\"gray\" d=\"M 112 296 45 339\"/>\n",
       "<path stroke-width=\"0.3\" stroke=\"gray\" d=\"M 112 296 93 357\"/>\n",
       "<path stroke-width=\"0.3\" stroke=\"gray\" d=\"M 244 236 235 193\"/>\n",
       "<path stroke-width=\"0.3\" stroke=\"gray\" d=\"M 311 110 298 56\"/>\n",
       "<path stroke-width=\"0.3\" stroke=\"gray\" d=\"M 540 160 575 91\"/>\n",
       "<path stroke-width=\"0.3\" stroke=\"gray\" d=\"M 563 391 549 333\"/>\n",
       "<path stroke-width=\"0.3\" stroke=\"gray\" d=\"M 603 312 549 333\"/>\n",
       "<path stroke-width=\"0.3\" stroke=\"gray\" d=\"M 618 109 540 160\"/>\n",
       "<path stroke-width=\"0.3\" stroke=\"gray\" d=\"M 599 131 540 160\"/>\n",
       "<path stroke-width=\"0.3\" stroke=\"gray\" d=\"M 578 520 579 457\"/>\n",
       "<path stroke-width=\"0.3\" stroke=\"gray\" d=\"M 617 510 579 457\"/>\n",
       "<path stroke-width=\"0.3\" stroke=\"gray\" d=\"M 169 198 126 189\"/>\n",
       "<path stroke-width=\"0.3\" stroke=\"gray\" d=\"M 65 159 126 189\"/>\n",
       "<path stroke-width=\"0.3\" stroke=\"gray\" d=\"M 49 203 126 189\"/>\n",
       "<path stroke-width=\"0.3\" stroke=\"gray\" d=\"M 20 174 102 214\"/>\n",
       "<path stroke-width=\"0.3\" stroke=\"gray\" d=\"M 624 129 540 160\"/>\n",
       "<path stroke-width=\"0.3\" stroke=\"gray\" d=\"M 34 311 112 296\"/>\n",
       "<path stroke-width=\"0.3\" stroke=\"gray\" d=\"M 45 339 112 296\"/>\n",
       "<path stroke-width=\"0.3\" stroke=\"gray\" d=\"M 93 357 112 296\"/>\n",
       "<path stroke-width=\"0.3\" stroke=\"gray\" d=\"M 405 366 443 389\"/>\n",
       "<path stroke-width=\"0.3\" stroke=\"gray\" d=\"M 448 450 443 389\"/>\n",
       "<path stroke-width=\"0.3\" stroke=\"gray\" d=\"M 487 396 443 389\"/>\n",
       "<path stroke-width=\"0.3\" stroke=\"gray\" d=\"M 452 356 443 389\"/>\n",
       "<path stroke-width=\"0.3\" stroke=\"gray\" d=\"M 400 443 443 389\"/>\n",
       "<path stroke-width=\"0.3\" stroke=\"gray\" d=\"M 420 453 443 389\"/>\n",
       "<path stroke-width=\"0.3\" stroke=\"gray\" d=\"M 66 355 112 296\"/>\n",
       "<path stroke-width=\"0.3\" stroke=\"gray\" d=\"M 616 358 549 333\"/>\n",
       "<path stroke-width=\"0.3\" stroke=\"gray\" d=\"M 575 91 540 160\"/>\n",
       "<path stroke-width=\"0.3\" stroke=\"gray\" d=\"M 594 100 540 160\"/>\n",
       "<path stroke-width=\"0.3\" stroke=\"gray\" d=\"M 575 293 549 333\"/>\n",
       "<path stroke-width=\"0.3\" stroke=\"gray\" d=\"M 526 389 549 333\"/>\n",
       "<path stroke-width=\"0.3\" stroke=\"gray\" d=\"M 498 354 549 333\"/>\n",
       "<path stroke-width=\"0.3\" stroke=\"gray\" d=\"M 330 375 285 335\"/>\n",
       "<path stroke-width=\"0.3\" stroke=\"gray\" d=\"M 299 393 285 335\"/>\n",
       "<path stroke-width=\"0.3\" stroke=\"gray\" d=\"M 305 367 285 335\"/>\n",
       "<path stroke-width=\"0.3\" stroke=\"gray\" d=\"M 273 398 285 335\"/>\n",
       "<path stroke-width=\"0.3\" stroke=\"gray\" d=\"M 221 377 285 335\"/>\n",
       "<path stroke-width=\"0.3\" stroke=\"gray\" d=\"M 550 92 540 160\"/>\n",
       "<path stroke-width=\"0.3\" stroke=\"gray\" d=\"M 216 352 285 335\"/>\n",
       "<path stroke-width=\"0.3\" stroke=\"gray\" d=\"M 247 321 285 335\"/>\n",
       "<path stroke-width=\"0.3\" stroke=\"gray\" d=\"M 667 481 618 427\"/>\n",
       "<path stroke-width=\"0.3\" stroke=\"gray\" d=\"M 286 20 288 81\"/>\n",
       "<path stroke-width=\"0.3\" stroke=\"gray\" d=\"M 344 33 288 81\"/>\n",
       "<path stroke-width=\"0.3\" stroke=\"gray\" d=\"M 322 20 288 81\"/>\n",
       "<path stroke-width=\"0.3\" stroke=\"gray\" d=\"M 720 281 650 320\"/>\n",
       "<path stroke-width=\"0.3\" stroke=\"gray\" d=\"M 109 169 187 155\"/>\n",
       "<path stroke-width=\"0.3\" stroke=\"gray\" d=\"M 150 103 187 155\"/>\n",
       "<path stroke-width=\"0.3\" stroke=\"gray\" d=\"M 245 396 285 335\"/>\n",
       "<path stroke-width=\"0.3\" stroke=\"gray\" d=\"M 540 160 550 92\"/>\n",
       "<path stroke-width=\"0.3\" stroke=\"gray\" d=\"M 540 160 594 100\"/>\n",
       "<path stroke-width=\"0.3\" stroke=\"gray\" d=\"M 540 160 397 246\"/>\n",
       "<path stroke-width=\"0.3\" stroke=\"gray\" d=\"M 224 251 300 276\"/>\n",
       "<path stroke-width=\"0.3\" stroke=\"gray\" d=\"M 224 251 147 173\"/>\n",
       "<path stroke-width=\"0.3\" stroke=\"gray\" d=\"M 224 251 285 335\"/>\n",
       "<path stroke-width=\"0.3\" stroke=\"gray\" d=\"M 224 251 102 214\"/>\n",
       "<path stroke-width=\"0.3\" stroke=\"gray\" d=\"M 224 251 207 203\"/>\n",
       "<path stroke-width=\"0.3\" stroke=\"gray\" d=\"M 224 251 159 281\"/>\n",
       "<path stroke-width=\"0.3\" stroke=\"gray\" d=\"M 285 205 367 264\"/>\n",
       "<path stroke-width=\"0.3\" stroke=\"gray\" d=\"M 285 205 187 155\"/>\n",
       "<path stroke-width=\"0.3\" stroke=\"gray\" d=\"M 224 251 367 264\"/>\n",
       "<path stroke-width=\"0.3\" stroke=\"gray\" d=\"M 536 358 367 264\"/>\n",
       "<path stroke-width=\"0.3\" stroke=\"gray\" d=\"M 536 358 650 320\"/>\n",
       "<path stroke-width=\"0.3\" stroke=\"gray\" d=\"M 536 358 579 457\"/>\n",
       "<path stroke-width=\"0.3\" stroke=\"gray\" d=\"M 300 276 224 251\"/>\n",
       "<path stroke-width=\"0.3\" stroke=\"gray\" d=\"M 300 276 258 330\"/>\n",
       "<path stroke-width=\"0.3\" stroke=\"gray\" d=\"M 300 276 397 246\"/>\n",
       "<path stroke-width=\"0.3\" stroke=\"gray\" d=\"M 147 173 224 251\"/>\n",
       "<path stroke-width=\"0.3\" stroke=\"gray\" d=\"M 147 173 89 116\"/>\n",
       "<path stroke-width=\"0.3\" stroke=\"gray\" d=\"M 285 335 224 251\"/>\n",
       "<path stroke-width=\"0.3\" stroke=\"gray\" d=\"M 536 358 618 427\"/>\n",
       "<path stroke-width=\"0.3\" stroke=\"gray\" d=\"M 285 335 397 246\"/>\n",
       "<path stroke-width=\"0.3\" stroke=\"gray\" d=\"M 235 193 126 189\"/>\n",
       "<path stroke-width=\"0.3\" stroke=\"gray\" d=\"M 235 193 165 211\"/>\n",
       "<path stroke-width=\"0.3\" stroke=\"gray\" d=\"M 367 264 235 193\"/>\n",
       "<path stroke-width=\"0.3\" stroke=\"gray\" d=\"M 367 264 224 251\"/>\n",
       "<path stroke-width=\"0.3\" stroke=\"gray\" d=\"M 367 264 285 205\"/>\n",
       "<path stroke-width=\"0.3\" stroke=\"gray\" d=\"M 367 264 536 358\"/>\n",
       "<path stroke-width=\"0.3\" stroke=\"gray\" d=\"M 490 265 367 264\"/>\n",
       "<path stroke-width=\"0.3\" stroke=\"gray\" d=\"M 490 265 537 264\"/>\n",
       "<path stroke-width=\"0.3\" stroke=\"gray\" d=\"M 490 265 549 333\"/>\n",
       "<path stroke-width=\"0.3\" stroke=\"gray\" d=\"M 490 265 443 389\"/>\n",
       "<path stroke-width=\"0.3\" stroke=\"gray\" d=\"M 235 193 288 81\"/>\n",
       "<path stroke-width=\"0.3\" stroke=\"gray\" d=\"M 490 265 566 241\"/>\n",
       "<path stroke-width=\"0.3\" stroke=\"gray\" d=\"M 490 265 540 160\"/>\n",
       "<path stroke-width=\"0.3\" stroke=\"gray\" d=\"M 235 193 367 264\"/>\n",
       "<path stroke-width=\"0.3\" stroke=\"gray\" d=\"M 235 193 222 141\"/>\n",
       "<path stroke-width=\"0.3\" stroke=\"gray\" d=\"M 235 193 267 154\"/>\n",
       "<path stroke-width=\"0.3\" stroke=\"gray\" d=\"M 235 193 311 110\"/>\n",
       "<path stroke-width=\"0.3\" stroke=\"gray\" d=\"M 235 193 112 296\"/>\n",
       "<path stroke-width=\"0.3\" stroke=\"gray\" d=\"M 235 193 244 236\"/>\n",
       "<path stroke-width=\"0.3\" stroke=\"gray\" d=\"M 235 193 189 234\"/>\n",
       "<path stroke-width=\"0.3\" stroke=\"gray\" d=\"M 490 265 483 185\"/>\n",
       "<path stroke-width=\"0.3\" stroke=\"gray\" d=\"M 285 335 330 375\"/>\n",
       "<path stroke-width=\"0.3\" stroke=\"gray\" d=\"M 285 335 299 393\"/>\n",
       "<path stroke-width=\"0.3\" stroke=\"gray\" d=\"M 285 335 305 367\"/>\n",
       "<path stroke-width=\"0.3\" stroke=\"gray\" d=\"M 549 333 575 293\"/>\n",
       "<path stroke-width=\"0.3\" stroke=\"gray\" d=\"M 549 333 526 389\"/>\n",
       "<path stroke-width=\"0.3\" stroke=\"gray\" d=\"M 549 333 498 354\"/>\n",
       "<path stroke-width=\"0.3\" stroke=\"gray\" d=\"M 443 389 490 265\"/>\n",
       "<path stroke-width=\"0.3\" stroke=\"gray\" d=\"M 443 389 405 366\"/>\n",
       "<path stroke-width=\"0.3\" stroke=\"gray\" d=\"M 443 389 448 450\"/>\n",
       "<path stroke-width=\"0.3\" stroke=\"gray\" d=\"M 443 389 487 396\"/>\n",
       "<path stroke-width=\"0.3\" stroke=\"gray\" d=\"M 443 389 452 356\"/>\n",
       "<path stroke-width=\"0.3\" stroke=\"gray\" d=\"M 549 333 603 312\"/>\n",
       "<path stroke-width=\"0.3\" stroke=\"gray\" d=\"M 443 389 400 443\"/>\n",
       "<path stroke-width=\"0.3\" stroke=\"gray\" d=\"M 443 389 381 431\"/>\n",
       "<path stroke-width=\"0.3\" stroke=\"gray\" d=\"M 443 389 488 431\"/>\n",
       "<path stroke-width=\"0.3\" stroke=\"gray\" d=\"M 566 241 490 265\"/>\n",
       "<path stroke-width=\"0.3\" stroke=\"gray\" d=\"M 483 185 490 265\"/>\n",
       "<path stroke-width=\"0.3\" stroke=\"gray\" d=\"M 483 185 468 133\"/>\n",
       "<path stroke-width=\"0.3\" stroke=\"gray\" d=\"M 483 185 439 168\"/>\n",
       "<path stroke-width=\"0.3\" stroke=\"gray\" d=\"M 483 185 510 143\"/>\n",
       "<path stroke-width=\"0.3\" stroke=\"gray\" d=\"M 540 160 490 265\"/>\n",
       "<path stroke-width=\"0.3\" stroke=\"gray\" d=\"M 443 389 420 453\"/>\n",
       "<path stroke-width=\"0.3\" stroke=\"gray\" d=\"M 549 333 616 358\"/>\n",
       "<path stroke-width=\"0.3\" stroke=\"gray\" d=\"M 549 333 563 391\"/>\n",
       "<path stroke-width=\"0.3\" stroke=\"gray\" d=\"M 549 333 604 338\"/>\n",
       "<path stroke-width=\"0.3\" stroke=\"gray\" d=\"M 285 335 273 398\"/>\n",
       "<path stroke-width=\"0.3\" stroke=\"gray\" d=\"M 285 335 221 377\"/>\n",
       "<path stroke-width=\"0.3\" stroke=\"gray\" d=\"M 285 335 216 352\"/>\n",
       "<path stroke-width=\"0.3\" stroke=\"gray\" d=\"M 285 335 245 396\"/>\n",
       "<path stroke-width=\"0.3\" stroke=\"gray\" d=\"M 285 335 247 321\"/>\n",
       "<path stroke-width=\"0.3\" stroke=\"gray\" d=\"M 102 214 224 251\"/>\n",
       "<path stroke-width=\"0.3\" stroke=\"gray\" d=\"M 102 214 20 174\"/>\n",
       "<path stroke-width=\"0.3\" stroke=\"gray\" d=\"M 207 203 224 251\"/>\n",
       "<path stroke-width=\"0.3\" stroke=\"gray\" d=\"M 159 281 224 251\"/>\n",
       "<path stroke-width=\"0.3\" stroke=\"gray\" d=\"M 618 427 536 358\"/>\n",
       "<path stroke-width=\"0.3\" stroke=\"gray\" d=\"M 618 427 667 481\"/>\n",
       "<path stroke-width=\"0.3\" stroke=\"gray\" d=\"M 650 320 536 358\"/>\n",
       "<path stroke-width=\"0.3\" stroke=\"gray\" d=\"M 650 320 720 281\"/>\n",
       "<path stroke-width=\"0.3\" stroke=\"gray\" d=\"M 579 457 536 358\"/>\n",
       "<path stroke-width=\"0.3\" stroke=\"gray\" d=\"M 579 457 578 520\"/>\n",
       "<path stroke-width=\"0.3\" stroke=\"gray\" d=\"M 579 457 617 510\"/>\n",
       "<path stroke-width=\"0.3\" stroke=\"gray\" d=\"M 537 264 490 265\"/>\n",
       "<path stroke-width=\"0.3\" stroke=\"gray\" d=\"M 549 333 490 265\"/>\n",
       "<path stroke-width=\"0.3\" stroke=\"gray\" d=\"M 549 333 494 317\"/>\n",
       "<path stroke-width=\"0.3\" stroke=\"gray\" d=\"M 381 431 443 389\"/>\n",
       "<path stroke-width=\"0.3\" stroke=\"gray\" d=\"M 488 431 443 389\"/>\n",
       "<circle cx=\"367\" cy=\"264\" r=\"3.0\" style=\"fill:rgb(170, 198, 253);stroke:black;stroke-width:1.0\"/>\n",
       "<circle cx=\"490\" cy=\"265\" r=\"3.0\" style=\"fill:rgb(247, 179, 151);stroke:black;stroke-width:1.0\"/>\n",
       "<circle cx=\"235\" cy=\"193\" r=\"3.0\" style=\"fill:rgb(179, 3, 38);stroke:black;stroke-width:1.0\"/>\n",
       "<circle cx=\"224\" cy=\"251\" r=\"3.0\" style=\"fill:rgb(245, 193, 168);stroke:black;stroke-width:1.0\"/>\n",
       "<circle cx=\"285\" cy=\"205\" r=\"3.0\" style=\"fill:rgb(96, 128, 232);stroke:black;stroke-width:1.0\"/>\n",
       "<circle cx=\"536\" cy=\"358\" r=\"3.0\" style=\"fill:rgb(172, 200, 252);stroke:black;stroke-width:1.0\"/>\n",
       "<circle cx=\"300\" cy=\"276\" r=\"3.0\" style=\"fill:rgb(116, 151, 245);stroke:black;stroke-width:1.0\"/>\n",
       "<circle cx=\"147\" cy=\"173\" r=\"3.0\" style=\"fill:rgb(92, 123, 229);stroke:black;stroke-width:1.0\"/>\n",
       "<circle cx=\"285\" cy=\"335\" r=\"3.0\" style=\"fill:rgb(225, 104, 82);stroke:black;stroke-width:1.0\"/>\n",
       "<circle cx=\"102\" cy=\"214\" r=\"3.0\" style=\"fill:rgb(92, 123, 229);stroke:black;stroke-width:1.0\"/>\n",
       "<circle cx=\"207\" cy=\"203\" r=\"3.0\" style=\"fill:rgb(58, 76, 192);stroke:black;stroke-width:1.0\"/>\n",
       "<circle cx=\"159\" cy=\"281\" r=\"3.0\" style=\"fill:rgb(58, 76, 192);stroke:black;stroke-width:1.0\"/>\n",
       "<circle cx=\"618\" cy=\"427\" r=\"3.0\" style=\"fill:rgb(96, 128, 232);stroke:black;stroke-width:1.0\"/>\n",
       "<circle cx=\"650\" cy=\"320\" r=\"3.0\" style=\"fill:rgb(96, 128, 232);stroke:black;stroke-width:1.0\"/>\n",
       "<circle cx=\"579\" cy=\"457\" r=\"3.0\" style=\"fill:rgb(134, 169, 252);stroke:black;stroke-width:1.0\"/>\n",
       "<circle cx=\"537\" cy=\"264\" r=\"3.0\" style=\"fill:rgb(58, 76, 192);stroke:black;stroke-width:1.0\"/>\n",
       "<circle cx=\"549\" cy=\"333\" r=\"3.0\" style=\"fill:rgb(239, 137, 108);stroke:black;stroke-width:1.0\"/>\n",
       "<circle cx=\"443\" cy=\"389\" r=\"3.0\" style=\"fill:rgb(239, 137, 108);stroke:black;stroke-width:1.0\"/>\n",
       "<circle cx=\"566\" cy=\"241\" r=\"3.0\" style=\"fill:rgb(58, 76, 192);stroke:black;stroke-width:1.0\"/>\n",
       "<circle cx=\"483\" cy=\"185\" r=\"3.0\" style=\"fill:rgb(163, 193, 254);stroke:black;stroke-width:1.0\"/>\n",
       "<circle cx=\"540\" cy=\"160\" r=\"3.0\" style=\"fill:rgb(246, 186, 159);stroke:black;stroke-width:1.0\"/>\n",
       "<circle cx=\"187\" cy=\"155\" r=\"3.0\" style=\"fill:rgb(134, 169, 252);stroke:black;stroke-width:1.0\"/>\n",
       "<circle cx=\"222\" cy=\"141\" r=\"3.0\" style=\"fill:rgb(58, 76, 192);stroke:black;stroke-width:1.0\"/>\n",
       "<circle cx=\"267\" cy=\"154\" r=\"3.0\" style=\"fill:rgb(58, 76, 192);stroke:black;stroke-width:1.0\"/>\n",
       "<circle cx=\"311\" cy=\"110\" r=\"3.0\" style=\"fill:rgb(172, 200, 252);stroke:black;stroke-width:1.0\"/>\n",
       "<circle cx=\"112\" cy=\"296\" r=\"3.0\" style=\"fill:rgb(205, 217, 236);stroke:black;stroke-width:1.0\"/>\n",
       "<circle cx=\"244\" cy=\"236\" r=\"3.0\" style=\"fill:rgb(58, 76, 192);stroke:black;stroke-width:1.0\"/>\n",
       "<circle cx=\"189\" cy=\"234\" r=\"3.0\" style=\"fill:rgb(58, 76, 192);stroke:black;stroke-width:1.0\"/>\n",
       "<circle cx=\"165\" cy=\"211\" r=\"3.0\" style=\"fill:rgb(58, 76, 192);stroke:black;stroke-width:1.0\"/>\n",
       "<circle cx=\"288\" cy=\"81\" r=\"3.0\" style=\"fill:rgb(172, 200, 252);stroke:black;stroke-width:1.0\"/>\n",
       "<circle cx=\"126\" cy=\"189\" r=\"3.0\" style=\"fill:rgb(172, 200, 252);stroke:black;stroke-width:1.0\"/>\n",
       "<circle cx=\"468\" cy=\"133\" r=\"3.0\" style=\"fill:rgb(66, 88, 202);stroke:black;stroke-width:1.0\"/>\n",
       "<circle cx=\"439\" cy=\"168\" r=\"3.0\" style=\"fill:rgb(66, 88, 202);stroke:black;stroke-width:1.0\"/>\n",
       "<circle cx=\"510\" cy=\"143\" r=\"3.0\" style=\"fill:rgb(66, 88, 202);stroke:black;stroke-width:1.0\"/>\n",
       "<circle cx=\"298\" cy=\"56\" r=\"3.0\" style=\"fill:rgb(66, 88, 202);stroke:black;stroke-width:1.0\"/>\n",
       "<circle cx=\"362\" cy=\"65\" r=\"3.0\" style=\"fill:rgb(66, 88, 202);stroke:black;stroke-width:1.0\"/>\n",
       "<circle cx=\"377\" cy=\"84\" r=\"3.0\" style=\"fill:rgb(66, 88, 202);stroke:black;stroke-width:1.0\"/>\n",
       "<circle cx=\"258\" cy=\"330\" r=\"3.0\" style=\"fill:rgb(64, 84, 199);stroke:black;stroke-width:1.0\"/>\n",
       "<circle cx=\"397\" cy=\"246\" r=\"3.0\" style=\"fill:rgb(130, 165, 251);stroke:black;stroke-width:1.0\"/>\n",
       "<circle cx=\"89\" cy=\"116\" r=\"3.0\" style=\"fill:rgb(66, 88, 202);stroke:black;stroke-width:1.0\"/>\n",
       "<circle cx=\"494\" cy=\"317\" r=\"3.0\" style=\"fill:rgb(66, 88, 202);stroke:black;stroke-width:1.0\"/>\n",
       "<circle cx=\"604\" cy=\"338\" r=\"3.0\" style=\"fill:rgb(66, 88, 202);stroke:black;stroke-width:1.0\"/>\n",
       "<circle cx=\"563\" cy=\"391\" r=\"3.0\" style=\"fill:rgb(66, 88, 202);stroke:black;stroke-width:1.0\"/>\n",
       "<circle cx=\"616\" cy=\"358\" r=\"3.0\" style=\"fill:rgb(66, 88, 202);stroke:black;stroke-width:1.0\"/>\n",
       "<circle cx=\"603\" cy=\"312\" r=\"3.0\" style=\"fill:rgb(66, 88, 202);stroke:black;stroke-width:1.0\"/>\n",
       "<circle cx=\"575\" cy=\"293\" r=\"3.0\" style=\"fill:rgb(66, 88, 202);stroke:black;stroke-width:1.0\"/>\n",
       "<circle cx=\"526\" cy=\"389\" r=\"3.0\" style=\"fill:rgb(66, 88, 202);stroke:black;stroke-width:1.0\"/>\n",
       "<circle cx=\"498\" cy=\"354\" r=\"3.0\" style=\"fill:rgb(66, 88, 202);stroke:black;stroke-width:1.0\"/>\n",
       "<circle cx=\"330\" cy=\"375\" r=\"3.0\" style=\"fill:rgb(64, 84, 199);stroke:black;stroke-width:1.0\"/>\n",
       "<circle cx=\"299\" cy=\"393\" r=\"3.0\" style=\"fill:rgb(64, 84, 199);stroke:black;stroke-width:1.0\"/>\n",
       "<circle cx=\"305\" cy=\"367\" r=\"3.0\" style=\"fill:rgb(64, 84, 199);stroke:black;stroke-width:1.0\"/>\n",
       "<circle cx=\"273\" cy=\"398\" r=\"3.0\" style=\"fill:rgb(64, 84, 199);stroke:black;stroke-width:1.0\"/>\n",
       "<circle cx=\"221\" cy=\"377\" r=\"3.0\" style=\"fill:rgb(64, 84, 199);stroke:black;stroke-width:1.0\"/>\n",
       "<circle cx=\"216\" cy=\"352\" r=\"3.0\" style=\"fill:rgb(64, 84, 199);stroke:black;stroke-width:1.0\"/>\n",
       "<circle cx=\"245\" cy=\"396\" r=\"3.0\" style=\"fill:rgb(64, 84, 199);stroke:black;stroke-width:1.0\"/>\n",
       "<circle cx=\"247\" cy=\"321\" r=\"3.0\" style=\"fill:rgb(64, 84, 199);stroke:black;stroke-width:1.0\"/>\n",
       "<circle cx=\"667\" cy=\"481\" r=\"3.0\" style=\"fill:rgb(66, 88, 202);stroke:black;stroke-width:1.0\"/>\n",
       "<circle cx=\"286\" cy=\"20\" r=\"3.0\" style=\"fill:rgb(66, 88, 202);stroke:black;stroke-width:1.0\"/>\n",
       "<circle cx=\"344\" cy=\"33\" r=\"3.0\" style=\"fill:rgb(66, 88, 202);stroke:black;stroke-width:1.0\"/>\n",
       "<circle cx=\"322\" cy=\"20\" r=\"3.0\" style=\"fill:rgb(66, 88, 202);stroke:black;stroke-width:1.0\"/>\n",
       "<circle cx=\"720\" cy=\"281\" r=\"3.0\" style=\"fill:rgb(66, 88, 202);stroke:black;stroke-width:1.0\"/>\n",
       "<circle cx=\"109\" cy=\"169\" r=\"3.0\" style=\"fill:rgb(66, 88, 202);stroke:black;stroke-width:1.0\"/>\n",
       "<circle cx=\"150\" cy=\"103\" r=\"3.0\" style=\"fill:rgb(66, 88, 202);stroke:black;stroke-width:1.0\"/>\n",
       "<circle cx=\"594\" cy=\"100\" r=\"3.0\" style=\"fill:rgb(64, 84, 199);stroke:black;stroke-width:1.0\"/>\n",
       "<circle cx=\"550\" cy=\"92\" r=\"3.0\" style=\"fill:rgb(64, 84, 199);stroke:black;stroke-width:1.0\"/>\n",
       "<circle cx=\"575\" cy=\"91\" r=\"3.0\" style=\"fill:rgb(64, 84, 199);stroke:black;stroke-width:1.0\"/>\n",
       "<circle cx=\"624\" cy=\"129\" r=\"3.0\" style=\"fill:rgb(64, 84, 199);stroke:black;stroke-width:1.0\"/>\n",
       "<circle cx=\"618\" cy=\"109\" r=\"3.0\" style=\"fill:rgb(64, 84, 199);stroke:black;stroke-width:1.0\"/>\n",
       "<circle cx=\"599\" cy=\"131\" r=\"3.0\" style=\"fill:rgb(64, 84, 199);stroke:black;stroke-width:1.0\"/>\n",
       "<circle cx=\"578\" cy=\"520\" r=\"3.0\" style=\"fill:rgb(66, 88, 202);stroke:black;stroke-width:1.0\"/>\n",
       "<circle cx=\"617\" cy=\"510\" r=\"3.0\" style=\"fill:rgb(66, 88, 202);stroke:black;stroke-width:1.0\"/>\n",
       "<circle cx=\"169\" cy=\"198\" r=\"3.0\" style=\"fill:rgb(66, 88, 202);stroke:black;stroke-width:1.0\"/>\n",
       "<circle cx=\"65\" cy=\"159\" r=\"3.0\" style=\"fill:rgb(66, 88, 202);stroke:black;stroke-width:1.0\"/>\n",
       "<circle cx=\"49\" cy=\"203\" r=\"3.0\" style=\"fill:rgb(66, 88, 202);stroke:black;stroke-width:1.0\"/>\n",
       "<circle cx=\"20\" cy=\"174\" r=\"3.0\" style=\"fill:rgb(66, 88, 202);stroke:black;stroke-width:1.0\"/>\n",
       "<circle cx=\"34\" cy=\"311\" r=\"3.0\" style=\"fill:rgb(66, 88, 202);stroke:black;stroke-width:1.0\"/>\n",
       "<circle cx=\"66\" cy=\"355\" r=\"3.0\" style=\"fill:rgb(66, 88, 202);stroke:black;stroke-width:1.0\"/>\n",
       "<circle cx=\"45\" cy=\"339\" r=\"3.0\" style=\"fill:rgb(66, 88, 202);stroke:black;stroke-width:1.0\"/>\n",
       "<circle cx=\"93\" cy=\"357\" r=\"3.0\" style=\"fill:rgb(66, 88, 202);stroke:black;stroke-width:1.0\"/>\n",
       "<circle cx=\"405\" cy=\"366\" r=\"3.0\" style=\"fill:rgb(66, 88, 202);stroke:black;stroke-width:1.0\"/>\n",
       "<circle cx=\"448\" cy=\"450\" r=\"3.0\" style=\"fill:rgb(66, 88, 202);stroke:black;stroke-width:1.0\"/>\n",
       "<circle cx=\"487\" cy=\"396\" r=\"3.0\" style=\"fill:rgb(66, 88, 202);stroke:black;stroke-width:1.0\"/>\n",
       "<circle cx=\"452\" cy=\"356\" r=\"3.0\" style=\"fill:rgb(66, 88, 202);stroke:black;stroke-width:1.0\"/>\n",
       "<circle cx=\"400\" cy=\"443\" r=\"3.0\" style=\"fill:rgb(66, 88, 202);stroke:black;stroke-width:1.0\"/>\n",
       "<circle cx=\"420\" cy=\"453\" r=\"3.0\" style=\"fill:rgb(66, 88, 202);stroke:black;stroke-width:1.0\"/>\n",
       "<circle cx=\"381\" cy=\"431\" r=\"3.0\" style=\"fill:rgb(66, 88, 202);stroke:black;stroke-width:1.0\"/>\n",
       "<circle cx=\"488\" cy=\"431\" r=\"3.0\" style=\"fill:rgb(66, 88, 202);stroke:black;stroke-width:1.0\"/>\n",
       "<text text-anchor=\"start\" x=\"373\" y=\"264\" font-size=\"10\">B.B. King</text><text text-anchor=\"start\" x=\"496\" y=\"265\" font-size=\"10\">NEGAPHONE</text><text text-anchor=\"start\" x=\"241\" y=\"193\" font-size=\"10\">WeeBay</text><text text-anchor=\"start\" x=\"230\" y=\"251\" font-size=\"10\">Big Choze</text><text text-anchor=\"start\" x=\"291\" y=\"205\" font-size=\"10\">U2</text><text text-anchor=\"start\" x=\"542\" y=\"358\" font-size=\"10\">Lil Wayne</text><text text-anchor=\"start\" x=\"306\" y=\"276\" font-size=\"10\">Big Sean</text><text text-anchor=\"start\" x=\"153\" y=\"173\" font-size=\"10\">BigChiiffa</text><text text-anchor=\"start\" x=\"291\" y=\"335\" font-size=\"10\">Degree</text><text text-anchor=\"start\" x=\"108\" y=\"214\" font-size=\"10\">Young Iggz</text><text text-anchor=\"start\" x=\"213\" y=\"203\" font-size=\"10\">AzChike</text><text text-anchor=\"start\" x=\"165\" y=\"281\" font-size=\"10\">Nirvana</text><text text-anchor=\"start\" x=\"624\" y=\"427\" font-size=\"10\">Drake</text><text text-anchor=\"start\" x=\"656\" y=\"320\" font-size=\"10\">Jay Sean</text><text text-anchor=\"start\" x=\"585\" y=\"457\" font-size=\"10\">Tyga</text><text text-anchor=\"start\" x=\"543\" y=\"264\" font-size=\"10\">Animals As Leaders</text><text text-anchor=\"start\" x=\"555\" y=\"333\" font-size=\"10\">Conton Candy</text><text text-anchor=\"start\" x=\"449\" y=\"389\" font-size=\"10\">tephe</text><text text-anchor=\"start\" x=\"572\" y=\"241\" font-size=\"10\">Nelyoti</text><text text-anchor=\"start\" x=\"489\" y=\"185\" font-size=\"10\">Abdeelgha4</text><text text-anchor=\"start\" x=\"546\" y=\"160\" font-size=\"10\">Mons</text><text text-anchor=\"start\" x=\"193\" y=\"155\" font-size=\"10\">Kendrick Lamar</text><text text-anchor=\"start\" x=\"228\" y=\"141\" font-size=\"10\">Baye Mass</text><text text-anchor=\"start\" x=\"273\" y=\"154\" font-size=\"10\">ShittyBoyz</text><text text-anchor=\"start\" x=\"317\" y=\"110\" font-size=\"10\">Alexnocap</text><text text-anchor=\"start\" x=\"118\" y=\"296\" font-size=\"10\">kelseyi</text><text text-anchor=\"start\" x=\"250\" y=\"236\" font-size=\"10\">Ace Hood</text><text text-anchor=\"start\" x=\"195\" y=\"234\" font-size=\"10\">Jason Aldean</text><text text-anchor=\"start\" x=\"171\" y=\"211\" font-size=\"10\">Edot Babyy</text><text text-anchor=\"start\" x=\"294\" y=\"81\" font-size=\"10\">Duzzy Funlop</text><text text-anchor=\"start\" x=\"132\" y=\"189\" font-size=\"10\">Webbie</text><text text-anchor=\"start\" x=\"474\" y=\"133\" font-size=\"10\">Abdelli</text><text text-anchor=\"start\" x=\"445\" y=\"168\" font-size=\"10\">Abdallah Adel</text><text text-anchor=\"start\" x=\"516\" y=\"143\" font-size=\"10\">Abdel Halim Hafez</text><text text-anchor=\"start\" x=\"304\" y=\"56\" font-size=\"10\">Alexa Cappelli</text><text text-anchor=\"start\" x=\"368\" y=\"65\" font-size=\"10\">Alex Nocera</text><text text-anchor=\"start\" x=\"383\" y=\"84\" font-size=\"10\">Alex Campos</text><text text-anchor=\"start\" x=\"264\" y=\"330\" font-size=\"10\">Jack Harlow</text><text text-anchor=\"start\" x=\"403\" y=\"246\" font-size=\"10\">Kanye West</text><text text-anchor=\"start\" x=\"95\" y=\"116\" font-size=\"10\">Professor Longhair</text><text text-anchor=\"start\" x=\"500\" y=\"317\" font-size=\"10\">Nic D</text><text text-anchor=\"start\" x=\"610\" y=\"338\" font-size=\"10\">Hot Milk</text><text text-anchor=\"start\" x=\"569\" y=\"391\" font-size=\"10\">MilkyyMelodies</text><text text-anchor=\"start\" x=\"622\" y=\"358\" font-size=\"10\">spill tab</text><text text-anchor=\"start\" x=\"609\" y=\"312\" font-size=\"10\">Big Moochie Grape</text><text text-anchor=\"start\" x=\"581\" y=\"293\" font-size=\"10\">Elvia</text><text text-anchor=\"start\" x=\"532\" y=\"389\" font-size=\"10\">Blu DeTiger</text><text text-anchor=\"start\" x=\"504\" y=\"354\" font-size=\"10\">YUNGBLUD</text><text text-anchor=\"start\" x=\"336\" y=\"375\" font-size=\"10\">93FEETOFSMOKE</text><text text-anchor=\"start\" x=\"305\" y=\"393\" font-size=\"10\">Taylor McFerrin</text><text text-anchor=\"start\" x=\"311\" y=\"367\" font-size=\"10\">Cola</text><text text-anchor=\"start\" x=\"279\" y=\"398\" font-size=\"10\">$uicideboy$</text><text text-anchor=\"start\" x=\"227\" y=\"377\" font-size=\"10\">JEY</text><text text-anchor=\"start\" x=\"222\" y=\"352\" font-size=\"10\">Arno Coleridge</text><text text-anchor=\"start\" x=\"251\" y=\"396\" font-size=\"10\">EST Gee</text><text text-anchor=\"start\" x=\"253\" y=\"321\" font-size=\"10\">MadeByVL</text><text text-anchor=\"start\" x=\"673\" y=\"481\" font-size=\"10\">Travis Scott</text><text text-anchor=\"start\" x=\"292\" y=\"20\" font-size=\"10\">Jaydes Archive</text><text text-anchor=\"start\" x=\"350\" y=\"33\" font-size=\"10\">Supereffective</text><text text-anchor=\"start\" x=\"328\" y=\"20\" font-size=\"10\">Token</text><text text-anchor=\"start\" x=\"726\" y=\"281\" font-size=\"10\">Rishi Rich</text><text text-anchor=\"start\" x=\"115\" y=\"169\" font-size=\"10\">Taylor Swift</text><text text-anchor=\"start\" x=\"156\" y=\"103\" font-size=\"10\">Baby Keem</text><text text-anchor=\"start\" x=\"600\" y=\"100\" font-size=\"10\">LUM!X</text><text text-anchor=\"start\" x=\"556\" y=\"92\" font-size=\"10\">Lady Gaga</text><text text-anchor=\"start\" x=\"581\" y=\"91\" font-size=\"10\">Bobby &quot;Boris&quot; Pickett</text><text text-anchor=\"start\" x=\"630\" y=\"129\" font-size=\"10\">All Time Low</text><text text-anchor=\"start\" x=\"624\" y=\"109\" font-size=\"10\">Skillet</text><text text-anchor=\"start\" x=\"605\" y=\"131\" font-size=\"10\">Shinedown</text><text text-anchor=\"start\" x=\"584\" y=\"520\" font-size=\"10\">Justine Skye</text><text text-anchor=\"start\" x=\"623\" y=\"510\" font-size=\"10\">Travis Porter</text><text text-anchor=\"start\" x=\"175\" y=\"198\" font-size=\"10\">Young Thug</text><text text-anchor=\"start\" x=\"71\" y=\"159\" font-size=\"10\">Isaiah Rashad</text><text text-anchor=\"start\" x=\"55\" y=\"203\" font-size=\"10\">Boosie Badazz</text><text text-anchor=\"start\" x=\"26\" y=\"174\" font-size=\"10\">Acito</text><text text-anchor=\"start\" x=\"40\" y=\"311\" font-size=\"10\">Jesse Novak</text><text text-anchor=\"start\" x=\"72\" y=\"355\" font-size=\"10\">Kelsea Ballerini</text><text text-anchor=\"start\" x=\"51\" y=\"339\" font-size=\"10\">Harry Hudson</text><text text-anchor=\"start\" x=\"99\" y=\"357\" font-size=\"10\">Metro Station</text><text text-anchor=\"start\" x=\"411\" y=\"366\" font-size=\"10\">Los Elegantes de Jerez</text><text text-anchor=\"start\" x=\"454\" y=\"450\" font-size=\"10\">Jessie Morales El Original De La Sierra</text><text text-anchor=\"start\" x=\"493\" y=\"396\" font-size=\"10\">Inspector</text><text text-anchor=\"start\" x=\"458\" y=\"356\" font-size=\"10\">Gracie Abrams</text><text text-anchor=\"start\" x=\"406\" y=\"443\" font-size=\"10\">Eric Prydz</text><text text-anchor=\"start\" x=\"426\" y=\"453\" font-size=\"10\">Ivy Queen</text><text text-anchor=\"start\" x=\"387\" y=\"431\" font-size=\"10\">Leo Dan</text><text text-anchor=\"start\" x=\"494\" y=\"431\" font-size=\"10\">Tanger</text></svg>"
      ],
      "text/plain": [
       "<IPython.core.display.SVG object>"
      ]
     },
     "execution_count": 6,
     "metadata": {},
     "output_type": "execute_result"
    }
   ],
   "source": [
    "# this is network analysis network without labels\n",
    "\n",
    "draw_graph(G, node_size=3, show_names=True, edge_width=0.3)"
   ]
  },
  {
   "cell_type": "markdown",
   "id": "10aa2232",
   "metadata": {},
   "source": [
    "# Egocentric Network Analysis\n",
    "\n",
    "As the above visualization shows, this is a complex network. For knowledge discovery, we should use Egocentric Network Analysis to \"zoom in\" on nodes of interest. Any node can be looked at, but I am going to programmatically do this, in this notebook, showing only the top twenty nodes, according to page rank."
   ]
  },
  {
   "cell_type": "markdown",
   "id": "0dcf1d59",
   "metadata": {},
   "source": [
    "# PageRank - Identify Nodes of Interest"
   ]
  },
  {
   "cell_type": "code",
   "execution_count": 7,
   "id": "42fbb411",
   "metadata": {},
   "outputs": [
    {
     "data": {
      "text/html": [
       "<div>\n",
       "<style scoped>\n",
       "    .dataframe tbody tr th:only-of-type {\n",
       "        vertical-align: middle;\n",
       "    }\n",
       "\n",
       "    .dataframe tbody tr th {\n",
       "        vertical-align: top;\n",
       "    }\n",
       "\n",
       "    .dataframe thead th {\n",
       "        text-align: right;\n",
       "    }\n",
       "</style>\n",
       "<table border=\"1\" class=\"dataframe\">\n",
       "  <thead>\n",
       "    <tr style=\"text-align: right;\">\n",
       "      <th></th>\n",
       "      <th>page_rank</th>\n",
       "    </tr>\n",
       "  </thead>\n",
       "  <tbody>\n",
       "    <tr>\n",
       "      <th>Degree</th>\n",
       "      <td>0.051595</td>\n",
       "    </tr>\n",
       "    <tr>\n",
       "      <th>WeeBay</th>\n",
       "      <td>0.050546</td>\n",
       "    </tr>\n",
       "    <tr>\n",
       "      <th>tephe</th>\n",
       "      <td>0.049145</td>\n",
       "    </tr>\n",
       "    <tr>\n",
       "      <th>Conton Candy</th>\n",
       "      <td>0.049145</td>\n",
       "    </tr>\n",
       "    <tr>\n",
       "      <th>Mons</th>\n",
       "      <td>0.041120</td>\n",
       "    </tr>\n",
       "    <tr>\n",
       "      <th>Big Choze</th>\n",
       "      <td>0.034074</td>\n",
       "    </tr>\n",
       "    <tr>\n",
       "      <th>NEGAPHONE</th>\n",
       "      <td>0.034042</td>\n",
       "    </tr>\n",
       "    <tr>\n",
       "      <th>kelseyi</th>\n",
       "      <td>0.028159</td>\n",
       "    </tr>\n",
       "    <tr>\n",
       "      <th>B.B. King</th>\n",
       "      <td>0.023252</td>\n",
       "    </tr>\n",
       "    <tr>\n",
       "      <th>Webbie</th>\n",
       "      <td>0.022739</td>\n",
       "    </tr>\n",
       "  </tbody>\n",
       "</table>\n",
       "</div>"
      ],
      "text/plain": [
       "              page_rank\n",
       "Degree         0.051595\n",
       "WeeBay         0.050546\n",
       "tephe          0.049145\n",
       "Conton Candy   0.049145\n",
       "Mons           0.041120\n",
       "Big Choze      0.034074\n",
       "NEGAPHONE      0.034042\n",
       "kelseyi        0.028159\n",
       "B.B. King      0.023252\n",
       "Webbie         0.022739"
      ]
     },
     "execution_count": 7,
     "metadata": {},
     "output_type": "execute_result"
    }
   ],
   "source": [
    "page_rank = nx.pagerank(G)\n",
    "\n",
    "pr_df = pd.DataFrame().from_dict(page_rank, orient='index')\n",
    "pr_df.columns = ['page_rank']\n",
    "pr_df.sort_values('page_rank', ascending=False, inplace=True)\n",
    "pr_df.head(10)"
   ]
  },
  {
   "cell_type": "code",
   "execution_count": 8,
   "id": "71a59549",
   "metadata": {},
   "outputs": [
    {
     "data": {
      "image/png": "[encoded data removed]",
      "text/plain": [
       "<Figure size 1200x800 with 1 Axes>"
      ]
     },
     "metadata": {},
     "output_type": "display_data"
    }
   ],
   "source": [
    "title = 'Important Artists by PageRank'\n",
    "\n",
    "pr_df.head(20).plot.barh(figsize=(12,8), title=title).invert_yaxis()"
   ]
  },
  {
   "cell_type": "markdown",
   "id": "3565f936",
   "metadata": {},
   "source": [
    "# Egocentric Network Analysis\n",
    "Next, let's look at the Ego Graphs for each of the top ten characters found by PageRank. Before visualizing and inspecting the Ego Graphs, let's create a Python list so that we can more easily look through them without explicitely typing their names."
   ]
  },
  {
   "cell_type": "code",
   "execution_count": 9,
   "id": "9d823af1",
   "metadata": {},
   "outputs": [],
   "source": [
    "top_nodes = pr_df.head(20).index.values"
   ]
  },
  {
   "cell_type": "code",
   "execution_count": 10,
   "id": "662a98f3",
   "metadata": {},
   "outputs": [
    {
     "data": {
      "text/plain": [
       "'Degree'"
      ]
     },
     "execution_count": 10,
     "metadata": {},
     "output_type": "execute_result"
    }
   ],
   "source": [
    "top_nodes[0]"
   ]
  },
  {
   "cell_type": "markdown",
   "id": "6ecf99c7",
   "metadata": {},
   "source": [
    "Now we are all set to start looking through them, in order of importance."
   ]
  },
  {
   "cell_type": "markdown",
   "id": "290bcf1a",
   "metadata": {},
   "source": [
    "## Top Node Ego Networks\n",
    "Unlike last time, I am not going to drop the center node or write about findings. This is purely discovery. Remember two things:\n",
    "- The center node is known as the 'ego' node. It is the node being looked up.\n",
    "- The other nodes are known as 'alter' nodes. They are connected to the ego node, and sometimes with each other.\n",
    "\n",
    "Pay close attention to the alter nodes that link to other alter nodes. These are interesting relationships, and you can see subcommunities in the ego network. Think about what you are seeing. What does this tell you?"
   ]
  },
  {
   "cell_type": "code",
   "execution_count": 11,
   "id": "863ca7a1",
   "metadata": {},
   "outputs": [
    {
     "data": {
      "image/svg+xml": [
       "<svg xmlns=\"http://www.w3.org/2000/svg\" width=\"842.5949859610214\" height=\"540\">\n",
       "<path stroke-width=\"0.3\" stroke=\"gray\" d=\"M 720 337 373 267\"/>\n",
       "<path stroke-width=\"0.3\" stroke=\"gray\" d=\"M 373 267 593 468\"/>\n",
       "<path stroke-width=\"0.3\" stroke=\"gray\" d=\"M 373 267 356 20\"/>\n",
       "<path stroke-width=\"0.3\" stroke=\"gray\" d=\"M 373 267 143 70\"/>\n",
       "<path stroke-width=\"0.3\" stroke=\"gray\" d=\"M 373 267 712 180\"/>\n",
       "<path stroke-width=\"0.3\" stroke=\"gray\" d=\"M 373 267 382 520\"/>\n",
       "<path stroke-width=\"0.3\" stroke=\"gray\" d=\"M 373 267 28 352\"/>\n",
       "<path stroke-width=\"0.3\" stroke=\"gray\" d=\"M 373 267 20 198\"/>\n",
       "<path stroke-width=\"0.3\" stroke=\"gray\" d=\"M 373 267 720 337\"/>\n",
       "<path stroke-width=\"0.3\" stroke=\"gray\" d=\"M 577 54 373 267\"/>\n",
       "<path stroke-width=\"0.3\" stroke=\"gray\" d=\"M 168 474 373 267\"/>\n",
       "<path stroke-width=\"0.3\" stroke=\"gray\" d=\"M 593 468 373 267\"/>\n",
       "<path stroke-width=\"0.3\" stroke=\"gray\" d=\"M 356 20 373 267\"/>\n",
       "<path stroke-width=\"0.3\" stroke=\"gray\" d=\"M 143 70 373 267\"/>\n",
       "<path stroke-width=\"0.3\" stroke=\"gray\" d=\"M 712 180 373 267\"/>\n",
       "<path stroke-width=\"0.3\" stroke=\"gray\" d=\"M 382 520 373 267\"/>\n",
       "<path stroke-width=\"0.3\" stroke=\"gray\" d=\"M 28 352 373 267\"/>\n",
       "<path stroke-width=\"0.3\" stroke=\"gray\" d=\"M 20 198 373 267\"/>\n",
       "<path stroke-width=\"0.3\" stroke=\"gray\" d=\"M 373 267 168 474\"/>\n",
       "<path stroke-width=\"0.3\" stroke=\"gray\" d=\"M 373 267 577 54\"/>\n",
       "<circle cx=\"720\" cy=\"337\" r=\"3.0\" style=\"fill:rgb(58, 76, 192);stroke:black;stroke-width:1.0\"/>\n",
       "<circle cx=\"20\" cy=\"198\" r=\"3.0\" style=\"fill:rgb(58, 76, 192);stroke:black;stroke-width:1.0\"/>\n",
       "<circle cx=\"28\" cy=\"352\" r=\"3.0\" style=\"fill:rgb(58, 76, 192);stroke:black;stroke-width:1.0\"/>\n",
       "<circle cx=\"382\" cy=\"520\" r=\"3.0\" style=\"fill:rgb(58, 76, 192);stroke:black;stroke-width:1.0\"/>\n",
       "<circle cx=\"712\" cy=\"180\" r=\"3.0\" style=\"fill:rgb(58, 76, 192);stroke:black;stroke-width:1.0\"/>\n",
       "<circle cx=\"143\" cy=\"70\" r=\"3.0\" style=\"fill:rgb(58, 76, 192);stroke:black;stroke-width:1.0\"/>\n",
       "<circle cx=\"356\" cy=\"20\" r=\"3.0\" style=\"fill:rgb(58, 76, 192);stroke:black;stroke-width:1.0\"/>\n",
       "<circle cx=\"593\" cy=\"468\" r=\"3.0\" style=\"fill:rgb(58, 76, 192);stroke:black;stroke-width:1.0\"/>\n",
       "<circle cx=\"168\" cy=\"474\" r=\"3.0\" style=\"fill:rgb(58, 76, 192);stroke:black;stroke-width:1.0\"/>\n",
       "<circle cx=\"577\" cy=\"54\" r=\"3.0\" style=\"fill:rgb(58, 76, 192);stroke:black;stroke-width:1.0\"/>\n",
       "<circle cx=\"373\" cy=\"267\" r=\"3.0\" style=\"fill:rgb(179, 3, 38);stroke:black;stroke-width:1.0\"/>\n",
       "<text text-anchor=\"start\" x=\"726\" y=\"337\" font-size=\"10\">Kanye West</text><text text-anchor=\"start\" x=\"26\" y=\"198\" font-size=\"10\">Arno Coleridge</text><text text-anchor=\"start\" x=\"34\" y=\"352\" font-size=\"10\">Cola</text><text text-anchor=\"start\" x=\"388\" y=\"520\" font-size=\"10\">EST Gee</text><text text-anchor=\"start\" x=\"718\" y=\"180\" font-size=\"10\">$uicideboy$</text><text text-anchor=\"start\" x=\"149\" y=\"70\" font-size=\"10\">MadeByVL</text><text text-anchor=\"start\" x=\"362\" y=\"20\" font-size=\"10\">93FEETOFSMOKE</text><text text-anchor=\"start\" x=\"599\" y=\"468\" font-size=\"10\">Taylor McFerrin</text><text text-anchor=\"start\" x=\"174\" y=\"474\" font-size=\"10\">JEY</text><text text-anchor=\"start\" x=\"583\" y=\"54\" font-size=\"10\">Big Choze</text><text text-anchor=\"start\" x=\"379\" y=\"267\" font-size=\"10\">Degree</text></svg>"
      ],
      "text/plain": [
       "<IPython.core.display.SVG object>"
      ]
     },
     "execution_count": 11,
     "metadata": {},
     "output_type": "execute_result"
    }
   ],
   "source": [
    "ego = top_nodes[0]\n",
    "\n",
    "G_ego = nx.ego_graph(G, ego)\n",
    "\n",
    "draw_graph(G_ego, show_names=True, node_size=3, edge_width=0.3)"
   ]
  },
  {
   "cell_type": "code",
   "execution_count": 12,
   "id": "32fcd7b3",
   "metadata": {},
   "outputs": [
    {
     "data": {
      "text/plain": [
       "['$uicideboy$',\n",
       " '93FEETOFSMOKE',\n",
       " 'Arno Coleridge',\n",
       " 'Big Choze',\n",
       " 'Cola',\n",
       " 'Degree',\n",
       " 'EST Gee',\n",
       " 'JEY',\n",
       " 'Kanye West',\n",
       " 'MadeByVL',\n",
       " 'Taylor McFerrin']"
      ]
     },
     "execution_count": 12,
     "metadata": {},
     "output_type": "execute_result"
    }
   ],
   "source": [
    "# you can look at the nodes in the ego network this way, to find interesting topics\n",
    "\n",
    "nodes = sorted(G_ego.nodes)\n",
    "nodes"
   ]
  },
  {
   "cell_type": "code",
   "execution_count": 13,
   "id": "025314b1",
   "metadata": {},
   "outputs": [
    {
     "data": {
      "image/svg+xml": [
       "<svg xmlns=\"http://www.w3.org/2000/svg\" width=\"837.0015767253449\" height=\"540\">\n",
       "<path stroke-width=\"0.3\" stroke=\"gray\" d=\"M 553 483 368 271\"/>\n",
       "<path stroke-width=\"0.3\" stroke=\"gray\" d=\"M 368 271 397 20\"/>\n",
       "<path stroke-width=\"0.3\" stroke=\"gray\" d=\"M 368 271 337 520\"/>\n",
       "<path stroke-width=\"0.3\" stroke=\"gray\" d=\"M 368 271 180 54\"/>\n",
       "<path stroke-width=\"0.3\" stroke=\"gray\" d=\"M 368 271 33 173\"/>\n",
       "<path stroke-width=\"0.3\" stroke=\"gray\" d=\"M 368 271 135 459\"/>\n",
       "<path stroke-width=\"0.3\" stroke=\"gray\" d=\"M 368 271 604 79\"/>\n",
       "<path stroke-width=\"0.3\" stroke=\"gray\" d=\"M 368 271 697 366\"/>\n",
       "<path stroke-width=\"0.3\" stroke=\"gray\" d=\"M 368 271 720 213\"/>\n",
       "<path stroke-width=\"0.3\" stroke=\"gray\" d=\"M 368 271 20 328\"/>\n",
       "<path stroke-width=\"0.3\" stroke=\"gray\" d=\"M 368 271 553 483\"/>\n",
       "<path stroke-width=\"0.3\" stroke=\"gray\" d=\"M 180 54 368 271\"/>\n",
       "<path stroke-width=\"0.3\" stroke=\"gray\" d=\"M 33 173 368 271\"/>\n",
       "<path stroke-width=\"0.3\" stroke=\"gray\" d=\"M 135 459 368 271\"/>\n",
       "<path stroke-width=\"0.3\" stroke=\"gray\" d=\"M 604 79 368 271\"/>\n",
       "<path stroke-width=\"0.3\" stroke=\"gray\" d=\"M 697 366 368 271\"/>\n",
       "<path stroke-width=\"0.3\" stroke=\"gray\" d=\"M 720 213 368 271\"/>\n",
       "<path stroke-width=\"0.3\" stroke=\"gray\" d=\"M 20 328 368 271\"/>\n",
       "<path stroke-width=\"0.3\" stroke=\"gray\" d=\"M 337 520 368 271\"/>\n",
       "<path stroke-width=\"0.3\" stroke=\"gray\" d=\"M 397 20 368 271\"/>\n",
       "<circle cx=\"553\" cy=\"483\" r=\"3.0\" style=\"fill:rgb(58, 76, 192);stroke:black;stroke-width:1.0\"/>\n",
       "<circle cx=\"20\" cy=\"328\" r=\"3.0\" style=\"fill:rgb(58, 76, 192);stroke:black;stroke-width:1.0\"/>\n",
       "<circle cx=\"720\" cy=\"213\" r=\"3.0\" style=\"fill:rgb(58, 76, 192);stroke:black;stroke-width:1.0\"/>\n",
       "<circle cx=\"697\" cy=\"366\" r=\"3.0\" style=\"fill:rgb(58, 76, 192);stroke:black;stroke-width:1.0\"/>\n",
       "<circle cx=\"604\" cy=\"79\" r=\"3.0\" style=\"fill:rgb(58, 76, 192);stroke:black;stroke-width:1.0\"/>\n",
       "<circle cx=\"135\" cy=\"459\" r=\"3.0\" style=\"fill:rgb(58, 76, 192);stroke:black;stroke-width:1.0\"/>\n",
       "<circle cx=\"33\" cy=\"173\" r=\"3.0\" style=\"fill:rgb(58, 76, 192);stroke:black;stroke-width:1.0\"/>\n",
       "<circle cx=\"180\" cy=\"54\" r=\"3.0\" style=\"fill:rgb(58, 76, 192);stroke:black;stroke-width:1.0\"/>\n",
       "<circle cx=\"368\" cy=\"271\" r=\"3.0\" style=\"fill:rgb(179, 3, 38);stroke:black;stroke-width:1.0\"/>\n",
       "<circle cx=\"337\" cy=\"520\" r=\"3.0\" style=\"fill:rgb(58, 76, 192);stroke:black;stroke-width:1.0\"/>\n",
       "<circle cx=\"397\" cy=\"20\" r=\"3.0\" style=\"fill:rgb(58, 76, 192);stroke:black;stroke-width:1.0\"/>\n",
       "<text text-anchor=\"start\" x=\"559\" y=\"483\" font-size=\"10\">kelseyi</text><text text-anchor=\"start\" x=\"26\" y=\"328\" font-size=\"10\">Baye Mass</text><text text-anchor=\"start\" x=\"726\" y=\"213\" font-size=\"10\">Alexnocap</text><text text-anchor=\"start\" x=\"703\" y=\"366\" font-size=\"10\">Jason Aldean</text><text text-anchor=\"start\" x=\"610\" y=\"79\" font-size=\"10\">Ace Hood</text><text text-anchor=\"start\" x=\"141\" y=\"459\" font-size=\"10\">Duzzy Funlop</text><text text-anchor=\"start\" x=\"39\" y=\"173\" font-size=\"10\">ShittyBoyz</text><text text-anchor=\"start\" x=\"186\" y=\"54\" font-size=\"10\">B.B. King</text><text text-anchor=\"start\" x=\"374\" y=\"271\" font-size=\"10\">WeeBay</text><text text-anchor=\"start\" x=\"343\" y=\"520\" font-size=\"10\">Webbie</text><text text-anchor=\"start\" x=\"403\" y=\"20\" font-size=\"10\">Edot Babyy</text></svg>"
      ],
      "text/plain": [
       "<IPython.core.display.SVG object>"
      ]
     },
     "execution_count": 13,
     "metadata": {},
     "output_type": "execute_result"
    }
   ],
   "source": [
    "ego = top_nodes[1]\n",
    "\n",
    "G_ego = nx.ego_graph(G, ego)\n",
    "\n",
    "draw_graph(G_ego, show_names=True, node_size=3, edge_width=0.3)"
   ]
  },
  {
   "cell_type": "code",
   "execution_count": 14,
   "id": "62f53797",
   "metadata": {},
   "outputs": [
    {
     "data": {
      "image/svg+xml": [
       "<svg xmlns=\"http://www.w3.org/2000/svg\" width=\"960.0\" height=\"540\">\n",
       "<path stroke-width=\"0.3\" stroke=\"gray\" d=\"M 48 148 379 262\"/>\n",
       "<path stroke-width=\"0.3\" stroke=\"gray\" d=\"M 379 262 374 520\"/>\n",
       "<path stroke-width=\"0.3\" stroke=\"gray\" d=\"M 379 262 20 317\"/>\n",
       "<path stroke-width=\"0.3\" stroke=\"gray\" d=\"M 379 262 682 128\"/>\n",
       "<path stroke-width=\"0.3\" stroke=\"gray\" d=\"M 379 262 720 304\"/>\n",
       "<path stroke-width=\"0.3\" stroke=\"gray\" d=\"M 379 262 597 458\"/>\n",
       "<path stroke-width=\"0.3\" stroke=\"gray\" d=\"M 379 262 158 451\"/>\n",
       "<path stroke-width=\"0.3\" stroke=\"gray\" d=\"M 379 262 484 20\"/>\n",
       "<path stroke-width=\"0.3\" stroke=\"gray\" d=\"M 379 262 231 32\"/>\n",
       "<path stroke-width=\"0.3\" stroke=\"gray\" d=\"M 379 262 48 148\"/>\n",
       "<path stroke-width=\"0.3\" stroke=\"gray\" d=\"M 682 128 379 262\"/>\n",
       "<path stroke-width=\"0.3\" stroke=\"gray\" d=\"M 720 304 379 262\"/>\n",
       "<path stroke-width=\"0.3\" stroke=\"gray\" d=\"M 597 458 379 262\"/>\n",
       "<path stroke-width=\"0.3\" stroke=\"gray\" d=\"M 158 451 379 262\"/>\n",
       "<path stroke-width=\"0.3\" stroke=\"gray\" d=\"M 484 20 379 262\"/>\n",
       "<path stroke-width=\"0.3\" stroke=\"gray\" d=\"M 231 32 379 262\"/>\n",
       "<path stroke-width=\"0.3\" stroke=\"gray\" d=\"M 20 317 379 262\"/>\n",
       "<path stroke-width=\"0.3\" stroke=\"gray\" d=\"M 374 520 379 262\"/>\n",
       "<circle cx=\"48\" cy=\"148\" r=\"3.0\" style=\"fill:rgb(58, 76, 192);stroke:black;stroke-width:1.0\"/>\n",
       "<circle cx=\"231\" cy=\"32\" r=\"3.0\" style=\"fill:rgb(58, 76, 192);stroke:black;stroke-width:1.0\"/>\n",
       "<circle cx=\"484\" cy=\"20\" r=\"3.0\" style=\"fill:rgb(58, 76, 192);stroke:black;stroke-width:1.0\"/>\n",
       "<circle cx=\"158\" cy=\"451\" r=\"3.0\" style=\"fill:rgb(58, 76, 192);stroke:black;stroke-width:1.0\"/>\n",
       "<circle cx=\"597\" cy=\"458\" r=\"3.0\" style=\"fill:rgb(58, 76, 192);stroke:black;stroke-width:1.0\"/>\n",
       "<circle cx=\"720\" cy=\"304\" r=\"3.0\" style=\"fill:rgb(58, 76, 192);stroke:black;stroke-width:1.0\"/>\n",
       "<circle cx=\"682\" cy=\"128\" r=\"3.0\" style=\"fill:rgb(58, 76, 192);stroke:black;stroke-width:1.0\"/>\n",
       "<circle cx=\"379\" cy=\"262\" r=\"3.0\" style=\"fill:rgb(179, 3, 38);stroke:black;stroke-width:1.0\"/>\n",
       "<circle cx=\"20\" cy=\"317\" r=\"3.0\" style=\"fill:rgb(58, 76, 192);stroke:black;stroke-width:1.0\"/>\n",
       "<circle cx=\"374\" cy=\"520\" r=\"3.0\" style=\"fill:rgb(58, 76, 192);stroke:black;stroke-width:1.0\"/>\n",
       "<text text-anchor=\"start\" x=\"54\" y=\"148\" font-size=\"10\">Eric Prydz</text><text text-anchor=\"start\" x=\"237\" y=\"32\" font-size=\"10\">Jessie Morales El Original De La Sierra</text><text text-anchor=\"start\" x=\"490\" y=\"20\" font-size=\"10\">Ivy Queen</text><text text-anchor=\"start\" x=\"164\" y=\"451\" font-size=\"10\">Inspector</text><text text-anchor=\"start\" x=\"603\" y=\"458\" font-size=\"10\">Tanger</text><text text-anchor=\"start\" x=\"726\" y=\"304\" font-size=\"10\">Los Elegantes de Jerez</text><text text-anchor=\"start\" x=\"688\" y=\"128\" font-size=\"10\">Leo Dan</text><text text-anchor=\"start\" x=\"385\" y=\"262\" font-size=\"10\">tephe</text><text text-anchor=\"start\" x=\"26\" y=\"317\" font-size=\"10\">NEGAPHONE</text><text text-anchor=\"start\" x=\"380\" y=\"520\" font-size=\"10\">Gracie Abrams</text></svg>"
      ],
      "text/plain": [
       "<IPython.core.display.SVG object>"
      ]
     },
     "execution_count": 14,
     "metadata": {},
     "output_type": "execute_result"
    }
   ],
   "source": [
    "ego = top_nodes[2]\n",
    "\n",
    "G_ego = nx.ego_graph(G, ego)\n",
    "\n",
    "draw_graph(G_ego, show_names=True, node_size=3, edge_width=0.3)"
   ]
  },
  {
   "cell_type": "code",
   "execution_count": 15,
   "id": "4c56a973",
   "metadata": {},
   "outputs": [
    {
     "data": {
      "image/svg+xml": [
       "<svg xmlns=\"http://www.w3.org/2000/svg\" width=\"846.5959626481543\" height=\"540\">\n",
       "<path stroke-width=\"0.3\" stroke=\"gray\" d=\"M 686 146 367 265\"/>\n",
       "<path stroke-width=\"0.3\" stroke=\"gray\" d=\"M 20 302 367 265\"/>\n",
       "<path stroke-width=\"0.3\" stroke=\"gray\" d=\"M 587 456 367 265\"/>\n",
       "<path stroke-width=\"0.3\" stroke=\"gray\" d=\"M 720 316 367 265\"/>\n",
       "<path stroke-width=\"0.3\" stroke=\"gray\" d=\"M 367 265 367 520\"/>\n",
       "<path stroke-width=\"0.3\" stroke=\"gray\" d=\"M 367 265 144 456\"/>\n",
       "<path stroke-width=\"0.3\" stroke=\"gray\" d=\"M 367 265 20 302\"/>\n",
       "<path stroke-width=\"0.3\" stroke=\"gray\" d=\"M 367 265 587 456\"/>\n",
       "<path stroke-width=\"0.3\" stroke=\"gray\" d=\"M 367 265 720 316\"/>\n",
       "<path stroke-width=\"0.3\" stroke=\"gray\" d=\"M 367 265 245 20\"/>\n",
       "<path stroke-width=\"0.3\" stroke=\"gray\" d=\"M 367 265 498 31\"/>\n",
       "<path stroke-width=\"0.3\" stroke=\"gray\" d=\"M 367 265 79 138\"/>\n",
       "<path stroke-width=\"0.3\" stroke=\"gray\" d=\"M 367 265 686 146\"/>\n",
       "<path stroke-width=\"0.3\" stroke=\"gray\" d=\"M 245 20 367 265\"/>\n",
       "<path stroke-width=\"0.3\" stroke=\"gray\" d=\"M 498 31 367 265\"/>\n",
       "<path stroke-width=\"0.3\" stroke=\"gray\" d=\"M 79 138 367 265\"/>\n",
       "<path stroke-width=\"0.3\" stroke=\"gray\" d=\"M 144 456 367 265\"/>\n",
       "<path stroke-width=\"0.3\" stroke=\"gray\" d=\"M 367 520 367 265\"/>\n",
       "<circle cx=\"686\" cy=\"146\" r=\"3.0\" style=\"fill:rgb(58, 76, 192);stroke:black;stroke-width:1.0\"/>\n",
       "<circle cx=\"79\" cy=\"138\" r=\"3.0\" style=\"fill:rgb(58, 76, 192);stroke:black;stroke-width:1.0\"/>\n",
       "<circle cx=\"498\" cy=\"31\" r=\"3.0\" style=\"fill:rgb(58, 76, 192);stroke:black;stroke-width:1.0\"/>\n",
       "<circle cx=\"245\" cy=\"20\" r=\"3.0\" style=\"fill:rgb(58, 76, 192);stroke:black;stroke-width:1.0\"/>\n",
       "<circle cx=\"367\" cy=\"265\" r=\"3.0\" style=\"fill:rgb(179, 3, 38);stroke:black;stroke-width:1.0\"/>\n",
       "<circle cx=\"720\" cy=\"316\" r=\"3.0\" style=\"fill:rgb(58, 76, 192);stroke:black;stroke-width:1.0\"/>\n",
       "<circle cx=\"587\" cy=\"456\" r=\"3.0\" style=\"fill:rgb(58, 76, 192);stroke:black;stroke-width:1.0\"/>\n",
       "<circle cx=\"20\" cy=\"302\" r=\"3.0\" style=\"fill:rgb(58, 76, 192);stroke:black;stroke-width:1.0\"/>\n",
       "<circle cx=\"144\" cy=\"456\" r=\"3.0\" style=\"fill:rgb(58, 76, 192);stroke:black;stroke-width:1.0\"/>\n",
       "<circle cx=\"367\" cy=\"520\" r=\"3.0\" style=\"fill:rgb(58, 76, 192);stroke:black;stroke-width:1.0\"/>\n",
       "<text text-anchor=\"start\" x=\"692\" y=\"146\" font-size=\"10\">MilkyyMelodies</text><text text-anchor=\"start\" x=\"85\" y=\"138\" font-size=\"10\">Elvia</text><text text-anchor=\"start\" x=\"504\" y=\"31\" font-size=\"10\">spill tab</text><text text-anchor=\"start\" x=\"251\" y=\"20\" font-size=\"10\">YUNGBLUD</text><text text-anchor=\"start\" x=\"373\" y=\"265\" font-size=\"10\">Conton Candy</text><text text-anchor=\"start\" x=\"726\" y=\"316\" font-size=\"10\">NEGAPHONE</text><text text-anchor=\"start\" x=\"593\" y=\"456\" font-size=\"10\">Big Moochie Grape</text><text text-anchor=\"start\" x=\"26\" y=\"302\" font-size=\"10\">Blu DeTiger</text><text text-anchor=\"start\" x=\"150\" y=\"456\" font-size=\"10\">Hot Milk</text><text text-anchor=\"start\" x=\"373\" y=\"520\" font-size=\"10\">Nic D</text></svg>"
      ],
      "text/plain": [
       "<IPython.core.display.SVG object>"
      ]
     },
     "execution_count": 15,
     "metadata": {},
     "output_type": "execute_result"
    }
   ],
   "source": [
    "ego = top_nodes[3]\n",
    "\n",
    "G_ego = nx.ego_graph(G, ego)\n",
    "\n",
    "draw_graph(G_ego, show_names=True, node_size=3, edge_width=0.3)"
   ]
  },
  {
   "cell_type": "code",
   "execution_count": 16,
   "id": "7230b1b1",
   "metadata": {},
   "outputs": [
    {
     "data": {
      "image/svg+xml": [
       "<svg xmlns=\"http://www.w3.org/2000/svg\" width=\"840.0\" height=\"540\">\n",
       "<path stroke-width=\"0.3\" stroke=\"gray\" d=\"M 410 520 367 273\"/>\n",
       "<path stroke-width=\"0.3\" stroke=\"gray\" d=\"M 20 302 367 273\"/>\n",
       "<path stroke-width=\"0.3\" stroke=\"gray\" d=\"M 720 245 367 273\"/>\n",
       "<path stroke-width=\"0.3\" stroke=\"gray\" d=\"M 593 78 367 273\"/>\n",
       "<path stroke-width=\"0.3\" stroke=\"gray\" d=\"M 638 424 367 273\"/>\n",
       "<path stroke-width=\"0.3\" stroke=\"gray\" d=\"M 367 273 410 520\"/>\n",
       "<path stroke-width=\"0.3\" stroke=\"gray\" d=\"M 367 273 20 302\"/>\n",
       "<path stroke-width=\"0.3\" stroke=\"gray\" d=\"M 367 273 720 245\"/>\n",
       "<path stroke-width=\"0.3\" stroke=\"gray\" d=\"M 367 273 593 78\"/>\n",
       "<path stroke-width=\"0.3\" stroke=\"gray\" d=\"M 367 273 638 424\"/>\n",
       "<path stroke-width=\"0.3\" stroke=\"gray\" d=\"M 367 273 332 20\"/>\n",
       "<path stroke-width=\"0.3\" stroke=\"gray\" d=\"M 367 273 153 471\"/>\n",
       "<path stroke-width=\"0.3\" stroke=\"gray\" d=\"M 367 273 90 111\"/>\n",
       "<path stroke-width=\"0.3\" stroke=\"gray\" d=\"M 332 20 367 273\"/>\n",
       "<path stroke-width=\"0.3\" stroke=\"gray\" d=\"M 153 471 367 273\"/>\n",
       "<path stroke-width=\"0.3\" stroke=\"gray\" d=\"M 90 111 367 273\"/>\n",
       "<circle cx=\"410\" cy=\"520\" r=\"3.0\" style=\"fill:rgb(58, 76, 192);stroke:black;stroke-width:1.0\"/>\n",
       "<circle cx=\"20\" cy=\"302\" r=\"3.0\" style=\"fill:rgb(58, 76, 192);stroke:black;stroke-width:1.0\"/>\n",
       "<circle cx=\"720\" cy=\"245\" r=\"3.0\" style=\"fill:rgb(58, 76, 192);stroke:black;stroke-width:1.0\"/>\n",
       "<circle cx=\"593\" cy=\"78\" r=\"3.0\" style=\"fill:rgb(58, 76, 192);stroke:black;stroke-width:1.0\"/>\n",
       "<circle cx=\"638\" cy=\"424\" r=\"3.0\" style=\"fill:rgb(58, 76, 192);stroke:black;stroke-width:1.0\"/>\n",
       "<circle cx=\"367\" cy=\"273\" r=\"3.0\" style=\"fill:rgb(179, 3, 38);stroke:black;stroke-width:1.0\"/>\n",
       "<circle cx=\"332\" cy=\"20\" r=\"3.0\" style=\"fill:rgb(58, 76, 192);stroke:black;stroke-width:1.0\"/>\n",
       "<circle cx=\"153\" cy=\"471\" r=\"3.0\" style=\"fill:rgb(58, 76, 192);stroke:black;stroke-width:1.0\"/>\n",
       "<circle cx=\"90\" cy=\"111\" r=\"3.0\" style=\"fill:rgb(58, 76, 192);stroke:black;stroke-width:1.0\"/>\n",
       "<text text-anchor=\"start\" x=\"416\" y=\"520\" font-size=\"10\">Lady Gaga</text><text text-anchor=\"start\" x=\"26\" y=\"302\" font-size=\"10\">Bobby &quot;Boris&quot; Pickett</text><text text-anchor=\"start\" x=\"726\" y=\"245\" font-size=\"10\">Kanye West</text><text text-anchor=\"start\" x=\"599\" y=\"78\" font-size=\"10\">LUM!X</text><text text-anchor=\"start\" x=\"644\" y=\"424\" font-size=\"10\">Skillet</text><text text-anchor=\"start\" x=\"373\" y=\"273\" font-size=\"10\">Mons</text><text text-anchor=\"start\" x=\"338\" y=\"20\" font-size=\"10\">All Time Low</text><text text-anchor=\"start\" x=\"159\" y=\"471\" font-size=\"10\">NEGAPHONE</text><text text-anchor=\"start\" x=\"96\" y=\"111\" font-size=\"10\">Shinedown</text></svg>"
      ],
      "text/plain": [
       "<IPython.core.display.SVG object>"
      ]
     },
     "execution_count": 16,
     "metadata": {},
     "output_type": "execute_result"
    }
   ],
   "source": [
    "ego = top_nodes[4]\n",
    "\n",
    "G_ego = nx.ego_graph(G, ego)\n",
    "\n",
    "draw_graph(G_ego, show_names=True, node_size=3, edge_width=0.3)"
   ]
  },
  {
   "cell_type": "code",
   "execution_count": 17,
   "id": "a0260ff0",
   "metadata": {},
   "outputs": [
    {
     "data": {
      "image/svg+xml": [
       "<svg xmlns=\"http://www.w3.org/2000/svg\" width=\"840.0\" height=\"540\">\n",
       "<path stroke-width=\"0.3\" stroke=\"gray\" d=\"M 698 386 385 265\"/>\n",
       "<path stroke-width=\"0.3\" stroke=\"gray\" d=\"M 482 20 385 265\"/>\n",
       "<path stroke-width=\"0.3\" stroke=\"gray\" d=\"M 20 260 385 265\"/>\n",
       "<path stroke-width=\"0.3\" stroke=\"gray\" d=\"M 720 167 385 265\"/>\n",
       "<path stroke-width=\"0.3\" stroke=\"gray\" d=\"M 156 467 385 265\"/>\n",
       "<path stroke-width=\"0.3\" stroke=\"gray\" d=\"M 161 59 385 265\"/>\n",
       "<path stroke-width=\"0.3\" stroke=\"gray\" d=\"M 385 265 698 386\"/>\n",
       "<path stroke-width=\"0.3\" stroke=\"gray\" d=\"M 385 265 482 20\"/>\n",
       "<path stroke-width=\"0.3\" stroke=\"gray\" d=\"M 385 265 20 260\"/>\n",
       "<path stroke-width=\"0.3\" stroke=\"gray\" d=\"M 385 265 720 167\"/>\n",
       "<path stroke-width=\"0.3\" stroke=\"gray\" d=\"M 385 265 156 467\"/>\n",
       "<path stroke-width=\"0.3\" stroke=\"gray\" d=\"M 385 265 161 59\"/>\n",
       "<path stroke-width=\"0.3\" stroke=\"gray\" d=\"M 385 265 452 520\"/>\n",
       "<path stroke-width=\"0.3\" stroke=\"gray\" d=\"M 452 520 385 265\"/>\n",
       "<circle cx=\"698\" cy=\"386\" r=\"3.0\" style=\"fill:rgb(58, 76, 192);stroke:black;stroke-width:1.0\"/>\n",
       "<circle cx=\"482\" cy=\"20\" r=\"3.0\" style=\"fill:rgb(58, 76, 192);stroke:black;stroke-width:1.0\"/>\n",
       "<circle cx=\"20\" cy=\"260\" r=\"3.0\" style=\"fill:rgb(58, 76, 192);stroke:black;stroke-width:1.0\"/>\n",
       "<circle cx=\"720\" cy=\"167\" r=\"3.0\" style=\"fill:rgb(58, 76, 192);stroke:black;stroke-width:1.0\"/>\n",
       "<circle cx=\"156\" cy=\"467\" r=\"3.0\" style=\"fill:rgb(58, 76, 192);stroke:black;stroke-width:1.0\"/>\n",
       "<circle cx=\"161\" cy=\"59\" r=\"3.0\" style=\"fill:rgb(58, 76, 192);stroke:black;stroke-width:1.0\"/>\n",
       "<circle cx=\"385\" cy=\"265\" r=\"3.0\" style=\"fill:rgb(179, 3, 38);stroke:black;stroke-width:1.0\"/>\n",
       "<circle cx=\"452\" cy=\"520\" r=\"3.0\" style=\"fill:rgb(58, 76, 192);stroke:black;stroke-width:1.0\"/>\n",
       "<text text-anchor=\"start\" x=\"704\" y=\"386\" font-size=\"10\">BigChiiffa</text><text text-anchor=\"start\" x=\"488\" y=\"20\" font-size=\"10\">Big Sean</text><text text-anchor=\"start\" x=\"26\" y=\"260\" font-size=\"10\">B.B. King</text><text text-anchor=\"start\" x=\"726\" y=\"167\" font-size=\"10\">Young Iggz</text><text text-anchor=\"start\" x=\"162\" y=\"467\" font-size=\"10\">AzChike</text><text text-anchor=\"start\" x=\"167\" y=\"59\" font-size=\"10\">Nirvana</text><text text-anchor=\"start\" x=\"391\" y=\"265\" font-size=\"10\">Big Choze</text><text text-anchor=\"start\" x=\"458\" y=\"520\" font-size=\"10\">Degree</text></svg>"
      ],
      "text/plain": [
       "<IPython.core.display.SVG object>"
      ]
     },
     "execution_count": 17,
     "metadata": {},
     "output_type": "execute_result"
    }
   ],
   "source": [
    "ego = top_nodes[5]\n",
    "\n",
    "G_ego = nx.ego_graph(G, ego)\n",
    "\n",
    "draw_graph(G_ego, show_names=True, node_size=3, edge_width=0.3)"
   ]
  },
  {
   "cell_type": "code",
   "execution_count": 18,
   "id": "90dda4ba",
   "metadata": {},
   "outputs": [
    {
     "data": {
      "image/svg+xml": [
       "<svg xmlns=\"http://www.w3.org/2000/svg\" width=\"837.8804814430822\" height=\"540\">\n",
       "<path stroke-width=\"0.3\" stroke=\"gray\" d=\"M 140 467 386 266\"/>\n",
       "<path stroke-width=\"0.3\" stroke=\"gray\" d=\"M 480 20 386 266\"/>\n",
       "<path stroke-width=\"0.3\" stroke=\"gray\" d=\"M 717 165 386 266\"/>\n",
       "<path stroke-width=\"0.3\" stroke=\"gray\" d=\"M 463 520 386 266\"/>\n",
       "<path stroke-width=\"0.3\" stroke=\"gray\" d=\"M 720 382 386 266\"/>\n",
       "<path stroke-width=\"0.3\" stroke=\"gray\" d=\"M 178 53 386 266\"/>\n",
       "<path stroke-width=\"0.3\" stroke=\"gray\" d=\"M 386 266 140 467\"/>\n",
       "<path stroke-width=\"0.3\" stroke=\"gray\" d=\"M 386 266 480 20\"/>\n",
       "<path stroke-width=\"0.3\" stroke=\"gray\" d=\"M 386 266 717 165\"/>\n",
       "<path stroke-width=\"0.3\" stroke=\"gray\" d=\"M 386 266 463 520\"/>\n",
       "<path stroke-width=\"0.3\" stroke=\"gray\" d=\"M 386 266 720 382\"/>\n",
       "<path stroke-width=\"0.3\" stroke=\"gray\" d=\"M 386 266 178 53\"/>\n",
       "<path stroke-width=\"0.3\" stroke=\"gray\" d=\"M 386 266 20 255\"/>\n",
       "<path stroke-width=\"0.3\" stroke=\"gray\" d=\"M 20 255 386 266\"/>\n",
       "<circle cx=\"140\" cy=\"467\" r=\"3.0\" style=\"fill:rgb(58, 76, 192);stroke:black;stroke-width:1.0\"/>\n",
       "<circle cx=\"480\" cy=\"20\" r=\"3.0\" style=\"fill:rgb(58, 76, 192);stroke:black;stroke-width:1.0\"/>\n",
       "<circle cx=\"717\" cy=\"165\" r=\"3.0\" style=\"fill:rgb(58, 76, 192);stroke:black;stroke-width:1.0\"/>\n",
       "<circle cx=\"463\" cy=\"520\" r=\"3.0\" style=\"fill:rgb(58, 76, 192);stroke:black;stroke-width:1.0\"/>\n",
       "<circle cx=\"720\" cy=\"382\" r=\"3.0\" style=\"fill:rgb(58, 76, 192);stroke:black;stroke-width:1.0\"/>\n",
       "<circle cx=\"178\" cy=\"53\" r=\"3.0\" style=\"fill:rgb(58, 76, 192);stroke:black;stroke-width:1.0\"/>\n",
       "<circle cx=\"386\" cy=\"266\" r=\"3.0\" style=\"fill:rgb(179, 3, 38);stroke:black;stroke-width:1.0\"/>\n",
       "<circle cx=\"20\" cy=\"255\" r=\"3.0\" style=\"fill:rgb(58, 76, 192);stroke:black;stroke-width:1.0\"/>\n",
       "<text text-anchor=\"start\" x=\"146\" y=\"467\" font-size=\"10\">Animals As Leaders</text><text text-anchor=\"start\" x=\"486\" y=\"20\" font-size=\"10\">Mons</text><text text-anchor=\"start\" x=\"723\" y=\"165\" font-size=\"10\">Abdeelgha4</text><text text-anchor=\"start\" x=\"469\" y=\"520\" font-size=\"10\">tephe</text><text text-anchor=\"start\" x=\"726\" y=\"382\" font-size=\"10\">B.B. King</text><text text-anchor=\"start\" x=\"184\" y=\"53\" font-size=\"10\">Conton Candy</text><text text-anchor=\"start\" x=\"392\" y=\"266\" font-size=\"10\">NEGAPHONE</text><text text-anchor=\"start\" x=\"26\" y=\"255\" font-size=\"10\">Nelyoti</text></svg>"
      ],
      "text/plain": [
       "<IPython.core.display.SVG object>"
      ]
     },
     "execution_count": 18,
     "metadata": {},
     "output_type": "execute_result"
    }
   ],
   "source": [
    "ego = top_nodes[6]\n",
    "\n",
    "G_ego = nx.ego_graph(G, ego)\n",
    "\n",
    "draw_graph(G_ego, show_names=True, node_size=3, edge_width=0.3)"
   ]
  },
  {
   "cell_type": "code",
   "execution_count": 19,
   "id": "1322b19e",
   "metadata": {},
   "outputs": [
    {
     "data": {
      "image/svg+xml": [
       "<svg xmlns=\"http://www.w3.org/2000/svg\" width=\"854.4946044278519\" height=\"540\">\n",
       "<path stroke-width=\"0.3\" stroke=\"gray\" d=\"M 406 270 20 276\"/>\n",
       "<path stroke-width=\"0.3\" stroke=\"gray\" d=\"M 406 270 301 520\"/>\n",
       "<path stroke-width=\"0.3\" stroke=\"gray\" d=\"M 406 270 714 111\"/>\n",
       "<path stroke-width=\"0.3\" stroke=\"gray\" d=\"M 406 270 273 20\"/>\n",
       "<path stroke-width=\"0.3\" stroke=\"gray\" d=\"M 406 270 720 414\"/>\n",
       "<path stroke-width=\"0.3\" stroke=\"gray\" d=\"M 20 276 406 270\"/>\n",
       "<path stroke-width=\"0.3\" stroke=\"gray\" d=\"M 301 520 406 270\"/>\n",
       "<path stroke-width=\"0.3\" stroke=\"gray\" d=\"M 714 111 406 270\"/>\n",
       "<path stroke-width=\"0.3\" stroke=\"gray\" d=\"M 273 20 406 270\"/>\n",
       "<path stroke-width=\"0.3\" stroke=\"gray\" d=\"M 720 414 406 270\"/>\n",
       "<circle cx=\"406\" cy=\"270\" r=\"3.0\" style=\"fill:rgb(179, 3, 38);stroke:black;stroke-width:1.0\"/>\n",
       "<circle cx=\"20\" cy=\"276\" r=\"3.0\" style=\"fill:rgb(58, 76, 192);stroke:black;stroke-width:1.0\"/>\n",
       "<circle cx=\"301\" cy=\"520\" r=\"3.0\" style=\"fill:rgb(58, 76, 192);stroke:black;stroke-width:1.0\"/>\n",
       "<circle cx=\"714\" cy=\"111\" r=\"3.0\" style=\"fill:rgb(58, 76, 192);stroke:black;stroke-width:1.0\"/>\n",
       "<circle cx=\"273\" cy=\"20\" r=\"3.0\" style=\"fill:rgb(58, 76, 192);stroke:black;stroke-width:1.0\"/>\n",
       "<circle cx=\"720\" cy=\"414\" r=\"3.0\" style=\"fill:rgb(58, 76, 192);stroke:black;stroke-width:1.0\"/>\n",
       "<text text-anchor=\"start\" x=\"412\" y=\"270\" font-size=\"10\">kelseyi</text><text text-anchor=\"start\" x=\"26\" y=\"276\" font-size=\"10\">Jesse Novak</text><text text-anchor=\"start\" x=\"307\" y=\"520\" font-size=\"10\">Kelsea Ballerini</text><text text-anchor=\"start\" x=\"720\" y=\"111\" font-size=\"10\">Harry Hudson</text><text text-anchor=\"start\" x=\"279\" y=\"20\" font-size=\"10\">Metro Station</text><text text-anchor=\"start\" x=\"726\" y=\"414\" font-size=\"10\">WeeBay</text></svg>"
      ],
      "text/plain": [
       "<IPython.core.display.SVG object>"
      ]
     },
     "execution_count": 19,
     "metadata": {},
     "output_type": "execute_result"
    }
   ],
   "source": [
    "ego = top_nodes[7]\n",
    "\n",
    "G_ego = nx.ego_graph(G, ego)\n",
    "\n",
    "draw_graph(G_ego, show_names=True, node_size=3, edge_width=0.3)"
   ]
  },
  {
   "cell_type": "code",
   "execution_count": 20,
   "id": "dd7963b3",
   "metadata": {},
   "outputs": [
    {
     "data": {
      "image/svg+xml": [
       "<svg xmlns=\"http://www.w3.org/2000/svg\" width=\"760.0\" height=\"540\">\n",
       "<path stroke-width=\"0.3\" stroke=\"gray\" d=\"M 20 130 342 271\"/>\n",
       "<path stroke-width=\"0.3\" stroke=\"gray\" d=\"M 720 262 342 271\"/>\n",
       "<path stroke-width=\"0.3\" stroke=\"gray\" d=\"M 342 271 20 130\"/>\n",
       "<path stroke-width=\"0.3\" stroke=\"gray\" d=\"M 342 271 720 262\"/>\n",
       "<path stroke-width=\"0.3\" stroke=\"gray\" d=\"M 342 271 467 520\"/>\n",
       "<path stroke-width=\"0.3\" stroke=\"gray\" d=\"M 342 271 442 20\"/>\n",
       "<path stroke-width=\"0.3\" stroke=\"gray\" d=\"M 342 271 38 430\"/>\n",
       "<path stroke-width=\"0.3\" stroke=\"gray\" d=\"M 467 520 342 271\"/>\n",
       "<path stroke-width=\"0.3\" stroke=\"gray\" d=\"M 442 20 342 271\"/>\n",
       "<path stroke-width=\"0.3\" stroke=\"gray\" d=\"M 38 430 342 271\"/>\n",
       "<circle cx=\"20\" cy=\"130\" r=\"3.0\" style=\"fill:rgb(58, 76, 192);stroke:black;stroke-width:1.0\"/>\n",
       "<circle cx=\"720\" cy=\"262\" r=\"3.0\" style=\"fill:rgb(58, 76, 192);stroke:black;stroke-width:1.0\"/>\n",
       "<circle cx=\"342\" cy=\"271\" r=\"3.0\" style=\"fill:rgb(179, 3, 38);stroke:black;stroke-width:1.0\"/>\n",
       "<circle cx=\"467\" cy=\"520\" r=\"3.0\" style=\"fill:rgb(58, 76, 192);stroke:black;stroke-width:1.0\"/>\n",
       "<circle cx=\"442\" cy=\"20\" r=\"3.0\" style=\"fill:rgb(58, 76, 192);stroke:black;stroke-width:1.0\"/>\n",
       "<circle cx=\"38\" cy=\"430\" r=\"3.0\" style=\"fill:rgb(58, 76, 192);stroke:black;stroke-width:1.0\"/>\n",
       "<text text-anchor=\"start\" x=\"26\" y=\"130\" font-size=\"10\">Lil Wayne</text><text text-anchor=\"start\" x=\"726\" y=\"262\" font-size=\"10\">U2</text><text text-anchor=\"start\" x=\"348\" y=\"271\" font-size=\"10\">B.B. King</text><text text-anchor=\"start\" x=\"473\" y=\"520\" font-size=\"10\">NEGAPHONE</text><text text-anchor=\"start\" x=\"448\" y=\"20\" font-size=\"10\">WeeBay</text><text text-anchor=\"start\" x=\"44\" y=\"430\" font-size=\"10\">Big Choze</text></svg>"
      ],
      "text/plain": [
       "<IPython.core.display.SVG object>"
      ]
     },
     "execution_count": 20,
     "metadata": {},
     "output_type": "execute_result"
    }
   ],
   "source": [
    "ego = top_nodes[8]\n",
    "\n",
    "G_ego = nx.ego_graph(G, ego)\n",
    "\n",
    "draw_graph(G_ego, show_names=True, node_size=3, edge_width=0.3)"
   ]
  },
  {
   "cell_type": "code",
   "execution_count": 21,
   "id": "6cf977b9",
   "metadata": {},
   "outputs": [
    {
     "data": {
      "image/svg+xml": [
       "<svg xmlns=\"http://www.w3.org/2000/svg\" width=\"870.0\" height=\"540\">\n",
       "<path stroke-width=\"0.3\" stroke=\"gray\" d=\"M 384 20 372 274\"/>\n",
       "<path stroke-width=\"0.3\" stroke=\"gray\" d=\"M 353 520 372 274\"/>\n",
       "<path stroke-width=\"0.3\" stroke=\"gray\" d=\"M 20 262 372 274\"/>\n",
       "<path stroke-width=\"0.3\" stroke=\"gray\" d=\"M 372 274 384 20\"/>\n",
       "<path stroke-width=\"0.3\" stroke=\"gray\" d=\"M 372 274 353 520\"/>\n",
       "<path stroke-width=\"0.3\" stroke=\"gray\" d=\"M 372 274 20 262\"/>\n",
       "<path stroke-width=\"0.3\" stroke=\"gray\" d=\"M 372 274 720 283\"/>\n",
       "<path stroke-width=\"0.3\" stroke=\"gray\" d=\"M 720 283 372 274\"/>\n",
       "<circle cx=\"384\" cy=\"20\" r=\"3.0\" style=\"fill:rgb(58, 76, 192);stroke:black;stroke-width:1.0\"/>\n",
       "<circle cx=\"353\" cy=\"520\" r=\"3.0\" style=\"fill:rgb(58, 76, 192);stroke:black;stroke-width:1.0\"/>\n",
       "<circle cx=\"20\" cy=\"262\" r=\"3.0\" style=\"fill:rgb(58, 76, 192);stroke:black;stroke-width:1.0\"/>\n",
       "<circle cx=\"372\" cy=\"274\" r=\"3.0\" style=\"fill:rgb(179, 3, 38);stroke:black;stroke-width:1.0\"/>\n",
       "<circle cx=\"720\" cy=\"283\" r=\"3.0\" style=\"fill:rgb(58, 76, 192);stroke:black;stroke-width:1.0\"/>\n",
       "<text text-anchor=\"start\" x=\"390\" y=\"20\" font-size=\"10\">Isaiah Rashad</text><text text-anchor=\"start\" x=\"359\" y=\"520\" font-size=\"10\">Young Thug</text><text text-anchor=\"start\" x=\"26\" y=\"262\" font-size=\"10\">WeeBay</text><text text-anchor=\"start\" x=\"378\" y=\"274\" font-size=\"10\">Webbie</text><text text-anchor=\"start\" x=\"726\" y=\"283\" font-size=\"10\">Boosie Badazz</text></svg>"
      ],
      "text/plain": [
       "<IPython.core.display.SVG object>"
      ]
     },
     "execution_count": 21,
     "metadata": {},
     "output_type": "execute_result"
    }
   ],
   "source": [
    "ego = top_nodes[9]\n",
    "\n",
    "G_ego = nx.ego_graph(G, ego)\n",
    "\n",
    "draw_graph(G_ego, show_names=True, node_size=3, edge_width=0.3)"
   ]
  },
  {
   "cell_type": "code",
   "execution_count": 22,
   "id": "ef7164d7",
   "metadata": {},
   "outputs": [
    {
     "data": {
      "image/svg+xml": [
       "<svg xmlns=\"http://www.w3.org/2000/svg\" width=\"800.0\" height=\"540\">\n",
       "<path stroke-width=\"0.3\" stroke=\"gray\" d=\"M 20 66 372 264\"/>\n",
       "<path stroke-width=\"0.3\" stroke=\"gray\" d=\"M 372 264 20 66\"/>\n",
       "<path stroke-width=\"0.3\" stroke=\"gray\" d=\"M 372 264 720 464\"/>\n",
       "<path stroke-width=\"0.3\" stroke=\"gray\" d=\"M 372 264 86 520\"/>\n",
       "<path stroke-width=\"0.3\" stroke=\"gray\" d=\"M 372 264 643 20\"/>\n",
       "<path stroke-width=\"0.3\" stroke=\"gray\" d=\"M 720 464 372 264\"/>\n",
       "<path stroke-width=\"0.3\" stroke=\"gray\" d=\"M 86 520 372 264\"/>\n",
       "<path stroke-width=\"0.3\" stroke=\"gray\" d=\"M 643 20 372 264\"/>\n",
       "<circle cx=\"20\" cy=\"66\" r=\"3.0\" style=\"fill:rgb(58, 76, 192);stroke:black;stroke-width:1.0\"/>\n",
       "<circle cx=\"372\" cy=\"264\" r=\"3.0\" style=\"fill:rgb(179, 3, 38);stroke:black;stroke-width:1.0\"/>\n",
       "<circle cx=\"720\" cy=\"464\" r=\"3.0\" style=\"fill:rgb(58, 76, 192);stroke:black;stroke-width:1.0\"/>\n",
       "<circle cx=\"86\" cy=\"520\" r=\"3.0\" style=\"fill:rgb(58, 76, 192);stroke:black;stroke-width:1.0\"/>\n",
       "<circle cx=\"643\" cy=\"20\" r=\"3.0\" style=\"fill:rgb(58, 76, 192);stroke:black;stroke-width:1.0\"/>\n",
       "<text text-anchor=\"start\" x=\"26\" y=\"66\" font-size=\"10\">Supereffective</text><text text-anchor=\"start\" x=\"378\" y=\"264\" font-size=\"10\">Duzzy Funlop</text><text text-anchor=\"start\" x=\"726\" y=\"464\" font-size=\"10\">WeeBay</text><text text-anchor=\"start\" x=\"92\" y=\"520\" font-size=\"10\">Jaydes Archive</text><text text-anchor=\"start\" x=\"649\" y=\"20\" font-size=\"10\">Token</text></svg>"
      ],
      "text/plain": [
       "<IPython.core.display.SVG object>"
      ]
     },
     "execution_count": 22,
     "metadata": {},
     "output_type": "execute_result"
    }
   ],
   "source": [
    "ego = top_nodes[10]\n",
    "\n",
    "G_ego = nx.ego_graph(G, ego)\n",
    "\n",
    "draw_graph(G_ego, show_names=True, node_size=3, edge_width=0.3)"
   ]
  },
  {
   "cell_type": "code",
   "execution_count": 23,
   "id": "4eb13cf1",
   "metadata": {},
   "outputs": [
    {
     "data": {
      "image/svg+xml": [
       "<svg xmlns=\"http://www.w3.org/2000/svg\" width=\"880.0\" height=\"540\">\n",
       "<path stroke-width=\"0.3\" stroke=\"gray\" d=\"M 20 69 367 268\"/>\n",
       "<path stroke-width=\"0.3\" stroke=\"gray\" d=\"M 720 462 367 268\"/>\n",
       "<path stroke-width=\"0.3\" stroke=\"gray\" d=\"M 367 268 20 69\"/>\n",
       "<path stroke-width=\"0.3\" stroke=\"gray\" d=\"M 367 268 720 462\"/>\n",
       "<path stroke-width=\"0.3\" stroke=\"gray\" d=\"M 367 268 639 20\"/>\n",
       "<path stroke-width=\"0.3\" stroke=\"gray\" d=\"M 367 268 89 520\"/>\n",
       "<path stroke-width=\"0.3\" stroke=\"gray\" d=\"M 639 20 367 268\"/>\n",
       "<path stroke-width=\"0.3\" stroke=\"gray\" d=\"M 89 520 367 268\"/>\n",
       "<circle cx=\"20\" cy=\"69\" r=\"3.0\" style=\"fill:rgb(58, 76, 192);stroke:black;stroke-width:1.0\"/>\n",
       "<circle cx=\"720\" cy=\"462\" r=\"3.0\" style=\"fill:rgb(58, 76, 192);stroke:black;stroke-width:1.0\"/>\n",
       "<circle cx=\"367\" cy=\"268\" r=\"3.0\" style=\"fill:rgb(179, 3, 38);stroke:black;stroke-width:1.0\"/>\n",
       "<circle cx=\"639\" cy=\"20\" r=\"3.0\" style=\"fill:rgb(58, 76, 192);stroke:black;stroke-width:1.0\"/>\n",
       "<circle cx=\"89\" cy=\"520\" r=\"3.0\" style=\"fill:rgb(58, 76, 192);stroke:black;stroke-width:1.0\"/>\n",
       "<text text-anchor=\"start\" x=\"26\" y=\"69\" font-size=\"10\">Alex Nocera</text><text text-anchor=\"start\" x=\"726\" y=\"462\" font-size=\"10\">Alexa Cappelli</text><text text-anchor=\"start\" x=\"373\" y=\"268\" font-size=\"10\">Alexnocap</text><text text-anchor=\"start\" x=\"645\" y=\"20\" font-size=\"10\">Alex Campos</text><text text-anchor=\"start\" x=\"95\" y=\"520\" font-size=\"10\">WeeBay</text></svg>"
      ],
      "text/plain": [
       "<IPython.core.display.SVG object>"
      ]
     },
     "execution_count": 23,
     "metadata": {},
     "output_type": "execute_result"
    }
   ],
   "source": [
    "ego = top_nodes[11]\n",
    "\n",
    "G_ego = nx.ego_graph(G, ego)\n",
    "\n",
    "draw_graph(G_ego, show_names=True, node_size=3, edge_width=0.3)"
   ]
  },
  {
   "cell_type": "code",
   "execution_count": 24,
   "id": "ee577df8",
   "metadata": {},
   "outputs": [
    {
     "data": {
      "image/svg+xml": [
       "<svg xmlns=\"http://www.w3.org/2000/svg\" width=\"870.0\" height=\"540\">\n",
       "<path stroke-width=\"0.3\" stroke=\"gray\" d=\"M 367 274 720 268\"/>\n",
       "<path stroke-width=\"0.3\" stroke=\"gray\" d=\"M 367 274 20 273\"/>\n",
       "<path stroke-width=\"0.3\" stroke=\"gray\" d=\"M 367 274 374 520\"/>\n",
       "<path stroke-width=\"0.3\" stroke=\"gray\" d=\"M 367 274 365 20\"/>\n",
       "<path stroke-width=\"0.3\" stroke=\"gray\" d=\"M 720 268 367 274\"/>\n",
       "<path stroke-width=\"0.3\" stroke=\"gray\" d=\"M 20 273 367 274\"/>\n",
       "<path stroke-width=\"0.3\" stroke=\"gray\" d=\"M 374 520 367 274\"/>\n",
       "<path stroke-width=\"0.3\" stroke=\"gray\" d=\"M 365 20 367 274\"/>\n",
       "<circle cx=\"367\" cy=\"274\" r=\"3.0\" style=\"fill:rgb(179, 3, 38);stroke:black;stroke-width:1.0\"/>\n",
       "<circle cx=\"720\" cy=\"268\" r=\"3.0\" style=\"fill:rgb(58, 76, 192);stroke:black;stroke-width:1.0\"/>\n",
       "<circle cx=\"20\" cy=\"273\" r=\"3.0\" style=\"fill:rgb(58, 76, 192);stroke:black;stroke-width:1.0\"/>\n",
       "<circle cx=\"374\" cy=\"520\" r=\"3.0\" style=\"fill:rgb(58, 76, 192);stroke:black;stroke-width:1.0\"/>\n",
       "<circle cx=\"365\" cy=\"20\" r=\"3.0\" style=\"fill:rgb(58, 76, 192);stroke:black;stroke-width:1.0\"/>\n",
       "<text text-anchor=\"start\" x=\"373\" y=\"274\" font-size=\"10\">Abdeelgha4</text><text text-anchor=\"start\" x=\"726\" y=\"268\" font-size=\"10\">Abdallah Adel</text><text text-anchor=\"start\" x=\"26\" y=\"273\" font-size=\"10\">Abdel Halim Hafez</text><text text-anchor=\"start\" x=\"380\" y=\"520\" font-size=\"10\">NEGAPHONE</text><text text-anchor=\"start\" x=\"371\" y=\"20\" font-size=\"10\">Abdelli</text></svg>"
      ],
      "text/plain": [
       "<IPython.core.display.SVG object>"
      ]
     },
     "execution_count": 24,
     "metadata": {},
     "output_type": "execute_result"
    }
   ],
   "source": [
    "ego = top_nodes[12]\n",
    "\n",
    "G_ego = nx.ego_graph(G, ego)\n",
    "\n",
    "draw_graph(G_ego, show_names=True, node_size=3, edge_width=0.3)"
   ]
  },
  {
   "cell_type": "code",
   "execution_count": 25,
   "id": "ac1d528b",
   "metadata": {},
   "outputs": [
    {
     "data": {
      "image/svg+xml": [
       "<svg xmlns=\"http://www.w3.org/2000/svg\" width=\"790.0\" height=\"540\">\n",
       "<path stroke-width=\"0.3\" stroke=\"gray\" d=\"M 365 270 376 20\"/>\n",
       "<path stroke-width=\"0.3\" stroke=\"gray\" d=\"M 365 270 720 275\"/>\n",
       "<path stroke-width=\"0.3\" stroke=\"gray\" d=\"M 365 270 20 265\"/>\n",
       "<path stroke-width=\"0.3\" stroke=\"gray\" d=\"M 365 270 361 520\"/>\n",
       "<path stroke-width=\"0.3\" stroke=\"gray\" d=\"M 376 20 365 270\"/>\n",
       "<path stroke-width=\"0.3\" stroke=\"gray\" d=\"M 720 275 365 270\"/>\n",
       "<path stroke-width=\"0.3\" stroke=\"gray\" d=\"M 20 265 365 270\"/>\n",
       "<path stroke-width=\"0.3\" stroke=\"gray\" d=\"M 361 520 365 270\"/>\n",
       "<circle cx=\"365\" cy=\"270\" r=\"3.0\" style=\"fill:rgb(179, 3, 38);stroke:black;stroke-width:1.0\"/>\n",
       "<circle cx=\"376\" cy=\"20\" r=\"3.0\" style=\"fill:rgb(58, 76, 192);stroke:black;stroke-width:1.0\"/>\n",
       "<circle cx=\"720\" cy=\"275\" r=\"3.0\" style=\"fill:rgb(58, 76, 192);stroke:black;stroke-width:1.0\"/>\n",
       "<circle cx=\"20\" cy=\"265\" r=\"3.0\" style=\"fill:rgb(58, 76, 192);stroke:black;stroke-width:1.0\"/>\n",
       "<circle cx=\"361\" cy=\"520\" r=\"3.0\" style=\"fill:rgb(58, 76, 192);stroke:black;stroke-width:1.0\"/>\n",
       "<text text-anchor=\"start\" x=\"371\" y=\"270\" font-size=\"10\">Lil Wayne</text><text text-anchor=\"start\" x=\"382\" y=\"20\" font-size=\"10\">Jay Sean</text><text text-anchor=\"start\" x=\"726\" y=\"275\" font-size=\"10\">Drake</text><text text-anchor=\"start\" x=\"26\" y=\"265\" font-size=\"10\">B.B. King</text><text text-anchor=\"start\" x=\"367\" y=\"520\" font-size=\"10\">Tyga</text></svg>"
      ],
      "text/plain": [
       "<IPython.core.display.SVG object>"
      ]
     },
     "execution_count": 25,
     "metadata": {},
     "output_type": "execute_result"
    }
   ],
   "source": [
    "ego = top_nodes[13]\n",
    "\n",
    "G_ego = nx.ego_graph(G, ego)\n",
    "\n",
    "draw_graph(G_ego, show_names=True, node_size=3, edge_width=0.3)"
   ]
  },
  {
   "cell_type": "code",
   "execution_count": 26,
   "id": "e670aa2c",
   "metadata": {},
   "outputs": [
    {
     "data": {
      "image/svg+xml": [
       "<svg xmlns=\"http://www.w3.org/2000/svg\" width=\"760.0\" height=\"540\">\n",
       "<path stroke-width=\"0.3\" stroke=\"gray\" d=\"M 379 190 720 20\"/>\n",
       "<path stroke-width=\"0.3\" stroke=\"gray\" d=\"M 379 190 391 520\"/>\n",
       "<path stroke-width=\"0.3\" stroke=\"gray\" d=\"M 379 190 20 42\"/>\n",
       "<path stroke-width=\"0.3\" stroke=\"gray\" d=\"M 720 20 379 190\"/>\n",
       "<path stroke-width=\"0.3\" stroke=\"gray\" d=\"M 391 520 379 190\"/>\n",
       "<path stroke-width=\"0.3\" stroke=\"gray\" d=\"M 20 42 379 190\"/>\n",
       "<circle cx=\"379\" cy=\"190\" r=\"3.0\" style=\"fill:rgb(179, 3, 38);stroke:black;stroke-width:1.0\"/>\n",
       "<circle cx=\"720\" cy=\"20\" r=\"3.0\" style=\"fill:rgb(58, 76, 192);stroke:black;stroke-width:1.0\"/>\n",
       "<circle cx=\"391\" cy=\"520\" r=\"3.0\" style=\"fill:rgb(58, 76, 192);stroke:black;stroke-width:1.0\"/>\n",
       "<circle cx=\"20\" cy=\"42\" r=\"3.0\" style=\"fill:rgb(58, 76, 192);stroke:black;stroke-width:1.0\"/>\n",
       "<text text-anchor=\"start\" x=\"385\" y=\"190\" font-size=\"10\">Kendrick Lamar</text><text text-anchor=\"start\" x=\"726\" y=\"20\" font-size=\"10\">U2</text><text text-anchor=\"start\" x=\"397\" y=\"520\" font-size=\"10\">Baby Keem</text><text text-anchor=\"start\" x=\"26\" y=\"42\" font-size=\"10\">Taylor Swift</text></svg>"
      ],
      "text/plain": [
       "<IPython.core.display.SVG object>"
      ]
     },
     "execution_count": 26,
     "metadata": {},
     "output_type": "execute_result"
    }
   ],
   "source": [
    "ego = top_nodes[14]\n",
    "\n",
    "G_ego = nx.ego_graph(G, ego)\n",
    "\n",
    "draw_graph(G_ego, show_names=True, node_size=3, edge_width=0.3)"
   ]
  },
  {
   "cell_type": "code",
   "execution_count": 27,
   "id": "646511f2",
   "metadata": {},
   "outputs": [
    {
     "data": {
      "image/svg+xml": [
       "<svg xmlns=\"http://www.w3.org/2000/svg\" width=\"870.0\" height=\"540\">\n",
       "<path stroke-width=\"0.3\" stroke=\"gray\" d=\"M 555 520 442 233\"/>\n",
       "<path stroke-width=\"0.3\" stroke=\"gray\" d=\"M 442 233 555 520\"/>\n",
       "<path stroke-width=\"0.3\" stroke=\"gray\" d=\"M 442 233 20 169\"/>\n",
       "<path stroke-width=\"0.3\" stroke=\"gray\" d=\"M 442 233 720 20\"/>\n",
       "<path stroke-width=\"0.3\" stroke=\"gray\" d=\"M 20 169 442 233\"/>\n",
       "<path stroke-width=\"0.3\" stroke=\"gray\" d=\"M 720 20 442 233\"/>\n",
       "<circle cx=\"555\" cy=\"520\" r=\"3.0\" style=\"fill:rgb(58, 76, 192);stroke:black;stroke-width:1.0\"/>\n",
       "<circle cx=\"442\" cy=\"233\" r=\"3.0\" style=\"fill:rgb(179, 3, 38);stroke:black;stroke-width:1.0\"/>\n",
       "<circle cx=\"20\" cy=\"169\" r=\"3.0\" style=\"fill:rgb(58, 76, 192);stroke:black;stroke-width:1.0\"/>\n",
       "<circle cx=\"720\" cy=\"20\" r=\"3.0\" style=\"fill:rgb(58, 76, 192);stroke:black;stroke-width:1.0\"/>\n",
       "<text text-anchor=\"start\" x=\"561\" y=\"520\" font-size=\"10\">Justine Skye</text><text text-anchor=\"start\" x=\"448\" y=\"233\" font-size=\"10\">Tyga</text><text text-anchor=\"start\" x=\"26\" y=\"169\" font-size=\"10\">Lil Wayne</text><text text-anchor=\"start\" x=\"726\" y=\"20\" font-size=\"10\">Travis Porter</text></svg>"
      ],
      "text/plain": [
       "<IPython.core.display.SVG object>"
      ]
     },
     "execution_count": 27,
     "metadata": {},
     "output_type": "execute_result"
    }
   ],
   "source": [
    "ego = top_nodes[15]\n",
    "\n",
    "G_ego = nx.ego_graph(G, ego)\n",
    "\n",
    "draw_graph(G_ego, show_names=True, node_size=3, edge_width=0.3)"
   ]
  },
  {
   "cell_type": "code",
   "execution_count": 28,
   "id": "aca75f02",
   "metadata": {},
   "outputs": [
    {
     "data": {
      "image/svg+xml": [
       "<svg xmlns=\"http://www.w3.org/2000/svg\" width=\"850.0\" height=\"540\">\n",
       "<path stroke-width=\"0.3\" stroke=\"gray\" d=\"M 720 321 288 280\"/>\n",
       "<path stroke-width=\"0.3\" stroke=\"gray\" d=\"M 118 20 288 280\"/>\n",
       "<path stroke-width=\"0.3\" stroke=\"gray\" d=\"M 20 520 288 280\"/>\n",
       "<path stroke-width=\"0.3\" stroke=\"gray\" d=\"M 288 280 720 321\"/>\n",
       "<path stroke-width=\"0.3\" stroke=\"gray\" d=\"M 288 280 118 20\"/>\n",
       "<path stroke-width=\"0.3\" stroke=\"gray\" d=\"M 288 280 20 520\"/>\n",
       "<circle cx=\"720\" cy=\"321\" r=\"3.0\" style=\"fill:rgb(58, 76, 192);stroke:black;stroke-width:1.0\"/>\n",
       "<circle cx=\"118\" cy=\"20\" r=\"3.0\" style=\"fill:rgb(58, 76, 192);stroke:black;stroke-width:1.0\"/>\n",
       "<circle cx=\"20\" cy=\"520\" r=\"3.0\" style=\"fill:rgb(58, 76, 192);stroke:black;stroke-width:1.0\"/>\n",
       "<circle cx=\"288\" cy=\"280\" r=\"3.0\" style=\"fill:rgb(179, 3, 38);stroke:black;stroke-width:1.0\"/>\n",
       "<text text-anchor=\"start\" x=\"726\" y=\"321\" font-size=\"10\">Jack Harlow</text><text text-anchor=\"start\" x=\"124\" y=\"20\" font-size=\"10\">Kanye West</text><text text-anchor=\"start\" x=\"26\" y=\"520\" font-size=\"10\">Big Choze</text><text text-anchor=\"start\" x=\"294\" y=\"280\" font-size=\"10\">Big Sean</text></svg>"
      ],
      "text/plain": [
       "<IPython.core.display.SVG object>"
      ]
     },
     "execution_count": 28,
     "metadata": {},
     "output_type": "execute_result"
    }
   ],
   "source": [
    "ego = top_nodes[16]\n",
    "\n",
    "G_ego = nx.ego_graph(G, ego)\n",
    "\n",
    "draw_graph(G_ego, show_names=True, node_size=3, edge_width=0.3)"
   ]
  },
  {
   "cell_type": "code",
   "execution_count": 29,
   "id": "563015ea",
   "metadata": {},
   "outputs": [
    {
     "data": {
      "image/svg+xml": [
       "<svg xmlns=\"http://www.w3.org/2000/svg\" width=\"780.0\" height=\"540\">\n",
       "<path stroke-width=\"0.3\" stroke=\"gray\" d=\"M 439 241 720 20\"/>\n",
       "<path stroke-width=\"0.3\" stroke=\"gray\" d=\"M 439 241 20 183\"/>\n",
       "<path stroke-width=\"0.3\" stroke=\"gray\" d=\"M 439 241 576 520\"/>\n",
       "<path stroke-width=\"0.3\" stroke=\"gray\" d=\"M 720 20 439 241\"/>\n",
       "<path stroke-width=\"0.3\" stroke=\"gray\" d=\"M 20 183 439 241\"/>\n",
       "<path stroke-width=\"0.3\" stroke=\"gray\" d=\"M 576 520 439 241\"/>\n",
       "<circle cx=\"439\" cy=\"241\" r=\"3.0\" style=\"fill:rgb(179, 3, 38);stroke:black;stroke-width:1.0\"/>\n",
       "<circle cx=\"720\" cy=\"20\" r=\"3.0\" style=\"fill:rgb(58, 76, 192);stroke:black;stroke-width:1.0\"/>\n",
       "<circle cx=\"20\" cy=\"183\" r=\"3.0\" style=\"fill:rgb(58, 76, 192);stroke:black;stroke-width:1.0\"/>\n",
       "<circle cx=\"576\" cy=\"520\" r=\"3.0\" style=\"fill:rgb(58, 76, 192);stroke:black;stroke-width:1.0\"/>\n",
       "<text text-anchor=\"start\" x=\"445\" y=\"241\" font-size=\"10\">Kanye West</text><text text-anchor=\"start\" x=\"726\" y=\"20\" font-size=\"10\">Mons</text><text text-anchor=\"start\" x=\"26\" y=\"183\" font-size=\"10\">Big Sean</text><text text-anchor=\"start\" x=\"582\" y=\"520\" font-size=\"10\">Degree</text></svg>"
      ],
      "text/plain": [
       "<IPython.core.display.SVG object>"
      ]
     },
     "execution_count": 29,
     "metadata": {},
     "output_type": "execute_result"
    }
   ],
   "source": [
    "ego = top_nodes[17]\n",
    "\n",
    "G_ego = nx.ego_graph(G, ego)\n",
    "\n",
    "draw_graph(G_ego, show_names=True, node_size=3, edge_width=0.3)"
   ]
  },
  {
   "cell_type": "code",
   "execution_count": 30,
   "id": "f2254f91",
   "metadata": {},
   "outputs": [
    {
     "data": {
      "image/svg+xml": [
       "<svg xmlns=\"http://www.w3.org/2000/svg\" width=\"830.0\" height=\"540\">\n",
       "<path stroke-width=\"0.3\" stroke=\"gray\" d=\"M 720 20 359 259\"/>\n",
       "<path stroke-width=\"0.3\" stroke=\"gray\" d=\"M 359 259 720 20\"/>\n",
       "<path stroke-width=\"0.3\" stroke=\"gray\" d=\"M 359 259 20 520\"/>\n",
       "<path stroke-width=\"0.3\" stroke=\"gray\" d=\"M 20 520 359 259\"/>\n",
       "<circle cx=\"720\" cy=\"20\" r=\"3.0\" style=\"fill:rgb(58, 76, 192);stroke:black;stroke-width:1.0\"/>\n",
       "<circle cx=\"359\" cy=\"259\" r=\"3.0\" style=\"fill:rgb(179, 3, 38);stroke:black;stroke-width:1.0\"/>\n",
       "<circle cx=\"20\" cy=\"520\" r=\"3.0\" style=\"fill:rgb(58, 76, 192);stroke:black;stroke-width:1.0\"/>\n",
       "<text text-anchor=\"start\" x=\"726\" y=\"20\" font-size=\"10\">Lil Wayne</text><text text-anchor=\"start\" x=\"365\" y=\"259\" font-size=\"10\">Jay Sean</text><text text-anchor=\"start\" x=\"26\" y=\"520\" font-size=\"10\">Rishi Rich</text></svg>"
      ],
      "text/plain": [
       "<IPython.core.display.SVG object>"
      ]
     },
     "execution_count": 30,
     "metadata": {},
     "output_type": "execute_result"
    }
   ],
   "source": [
    "ego = top_nodes[18]\n",
    "\n",
    "G_ego = nx.ego_graph(G, ego)\n",
    "\n",
    "draw_graph(G_ego, show_names=True, node_size=3, edge_width=0.3)"
   ]
  },
  {
   "cell_type": "code",
   "execution_count": 31,
   "id": "26365521",
   "metadata": {},
   "outputs": [
    {
     "data": {
      "image/svg+xml": [
       "<svg xmlns=\"http://www.w3.org/2000/svg\" width=\"860.0\" height=\"540\">\n",
       "<path stroke-width=\"0.3\" stroke=\"gray\" d=\"M 367 261 20 20\"/>\n",
       "<path stroke-width=\"0.3\" stroke=\"gray\" d=\"M 367 261 720 520\"/>\n",
       "<path stroke-width=\"0.3\" stroke=\"gray\" d=\"M 20 20 367 261\"/>\n",
       "<path stroke-width=\"0.3\" stroke=\"gray\" d=\"M 720 520 367 261\"/>\n",
       "<circle cx=\"367\" cy=\"261\" r=\"3.0\" style=\"fill:rgb(179, 3, 38);stroke:black;stroke-width:1.0\"/>\n",
       "<circle cx=\"20\" cy=\"20\" r=\"3.0\" style=\"fill:rgb(58, 76, 192);stroke:black;stroke-width:1.0\"/>\n",
       "<circle cx=\"720\" cy=\"520\" r=\"3.0\" style=\"fill:rgb(58, 76, 192);stroke:black;stroke-width:1.0\"/>\n",
       "<text text-anchor=\"start\" x=\"373\" y=\"261\" font-size=\"10\">Drake</text><text text-anchor=\"start\" x=\"26\" y=\"20\" font-size=\"10\">Lil Wayne</text><text text-anchor=\"start\" x=\"726\" y=\"520\" font-size=\"10\">Travis Scott</text></svg>"
      ],
      "text/plain": [
       "<IPython.core.display.SVG object>"
      ]
     },
     "execution_count": 31,
     "metadata": {},
     "output_type": "execute_result"
    }
   ],
   "source": [
    "ego = top_nodes[19]\n",
    "\n",
    "G_ego = nx.ego_graph(G, ego)\n",
    "\n",
    "draw_graph(G_ego, show_names=True, node_size=3, edge_width=0.3)"
   ]
  },
  {
   "cell_type": "markdown",
   "id": "c41a5cc6",
   "metadata": {},
   "source": [
    "# Shortest Paths\n",
    "\n",
    "In a collaboration network, shortest paths can be interesting, to know how to get from one person to another, or one artist to another.\n",
    "\n",
    "What in the world did Lil Wayne do with B.B. King? "
   ]
  },
  {
   "cell_type": "code",
   "execution_count": 32,
   "id": "47ba1a04",
   "metadata": {},
   "outputs": [
    {
     "data": {
      "text/plain": [
       "['B.B. King', 'Lil Wayne']"
      ]
     },
     "execution_count": 32,
     "metadata": {},
     "output_type": "execute_result"
    }
   ],
   "source": [
    "nx.shortest_path(G, 'B.B. King', 'Lil Wayne')"
   ]
  },
  {
   "cell_type": "code",
   "execution_count": 33,
   "id": "10c41904",
   "metadata": {},
   "outputs": [
    {
     "data": {
      "image/svg+xml": [
       "<svg xmlns=\"http://www.w3.org/2000/svg\" width=\"830.7112818200994\" height=\"540\">\n",
       "<path stroke-width=\"0.3\" stroke=\"gray\" d=\"M 475 468 580 409\"/>\n",
       "<path stroke-width=\"0.3\" stroke=\"gray\" d=\"M 438 399 562 445\"/>\n",
       "<path stroke-width=\"0.3\" stroke=\"gray\" d=\"M 438 399 545 359\"/>\n",
       "<path stroke-width=\"0.3\" stroke=\"gray\" d=\"M 438 399 514 472\"/>\n",
       "<path stroke-width=\"0.3\" stroke=\"gray\" d=\"M 592 95 507 168\"/>\n",
       "<path stroke-width=\"0.3\" stroke=\"gray\" d=\"M 369 111 293 56\"/>\n",
       "<path stroke-width=\"0.3\" stroke=\"gray\" d=\"M 369 111 400 265\"/>\n",
       "<path stroke-width=\"0.3\" stroke=\"gray\" d=\"M 369 111 334 20\"/>\n",
       "<path stroke-width=\"0.3\" stroke=\"gray\" d=\"M 369 111 413 27\"/>\n",
       "<path stroke-width=\"0.3\" stroke=\"gray\" d=\"M 524 512 580 409\"/>\n",
       "<path stroke-width=\"0.3\" stroke=\"gray\" d=\"M 163 179 147 240\"/>\n",
       "<path stroke-width=\"0.3\" stroke=\"gray\" d=\"M 545 359 438 399\"/>\n",
       "<path stroke-width=\"0.3\" stroke=\"gray\" d=\"M 514 472 438 399\"/>\n",
       "<path stroke-width=\"0.3\" stroke=\"gray\" d=\"M 438 399 421 335\"/>\n",
       "<path stroke-width=\"0.3\" stroke=\"gray\" d=\"M 697 355 580 409\"/>\n",
       "<path stroke-width=\"0.3\" stroke=\"gray\" d=\"M 710 450 580 409\"/>\n",
       "<path stroke-width=\"0.3\" stroke=\"gray\" d=\"M 413 27 369 111\"/>\n",
       "<path stroke-width=\"0.3\" stroke=\"gray\" d=\"M 580 409 475 468\"/>\n",
       "<path stroke-width=\"0.3\" stroke=\"gray\" d=\"M 580 409 660 496\"/>\n",
       "<path stroke-width=\"0.3\" stroke=\"gray\" d=\"M 580 409 480 376\"/>\n",
       "<path stroke-width=\"0.3\" stroke=\"gray\" d=\"M 580 409 638 329\"/>\n",
       "<path stroke-width=\"0.3\" stroke=\"gray\" d=\"M 580 409 400 265\"/>\n",
       "<path stroke-width=\"0.3\" stroke=\"gray\" d=\"M 580 409 589 520\"/>\n",
       "<path stroke-width=\"0.3\" stroke=\"gray\" d=\"M 580 409 524 512\"/>\n",
       "<path stroke-width=\"0.3\" stroke=\"gray\" d=\"M 580 409 697 355\"/>\n",
       "<path stroke-width=\"0.3\" stroke=\"gray\" d=\"M 580 409 710 450\"/>\n",
       "<path stroke-width=\"0.3\" stroke=\"gray\" d=\"M 580 409 720 401\"/>\n",
       "<path stroke-width=\"0.3\" stroke=\"gray\" d=\"M 85 306 147 240\"/>\n",
       "<path stroke-width=\"0.3\" stroke=\"gray\" d=\"M 438 399 400 265\"/>\n",
       "<path stroke-width=\"0.3\" stroke=\"gray\" d=\"M 438 399 328 436\"/>\n",
       "<path stroke-width=\"0.3\" stroke=\"gray\" d=\"M 438 399 365 486\"/>\n",
       "<path stroke-width=\"0.3\" stroke=\"gray\" d=\"M 660 496 580 409\"/>\n",
       "<path stroke-width=\"0.3\" stroke=\"gray\" d=\"M 365 486 438 399\"/>\n",
       "<path stroke-width=\"0.3\" stroke=\"gray\" d=\"M 480 376 580 409\"/>\n",
       "<path stroke-width=\"0.3\" stroke=\"gray\" d=\"M 638 329 580 409\"/>\n",
       "<path stroke-width=\"0.3\" stroke=\"gray\" d=\"M 21 281 147 240\"/>\n",
       "<path stroke-width=\"0.3\" stroke=\"gray\" d=\"M 328 436 438 399\"/>\n",
       "<path stroke-width=\"0.3\" stroke=\"gray\" d=\"M 293 56 369 111\"/>\n",
       "<path stroke-width=\"0.3\" stroke=\"gray\" d=\"M 507 168 400 265\"/>\n",
       "<path stroke-width=\"0.3\" stroke=\"gray\" d=\"M 507 168 592 95\"/>\n",
       "<path stroke-width=\"0.3\" stroke=\"gray\" d=\"M 400 265 507 168\"/>\n",
       "<path stroke-width=\"0.3\" stroke=\"gray\" d=\"M 400 265 147 240\"/>\n",
       "<path stroke-width=\"0.3\" stroke=\"gray\" d=\"M 400 265 438 399\"/>\n",
       "<path stroke-width=\"0.3\" stroke=\"gray\" d=\"M 400 265 369 111\"/>\n",
       "<path stroke-width=\"0.3\" stroke=\"gray\" d=\"M 400 265 580 409\"/>\n",
       "<path stroke-width=\"0.3\" stroke=\"gray\" d=\"M 147 240 21 281\"/>\n",
       "<path stroke-width=\"0.3\" stroke=\"gray\" d=\"M 147 240 400 265\"/>\n",
       "<path stroke-width=\"0.3\" stroke=\"gray\" d=\"M 147 240 20 198\"/>\n",
       "<path stroke-width=\"0.3\" stroke=\"gray\" d=\"M 147 240 36 239\"/>\n",
       "<path stroke-width=\"0.3\" stroke=\"gray\" d=\"M 147 240 163 179\"/>\n",
       "<path stroke-width=\"0.3\" stroke=\"gray\" d=\"M 147 240 85 306\"/>\n",
       "<path stroke-width=\"0.3\" stroke=\"gray\" d=\"M 147 240 77 165\"/>\n",
       "<path stroke-width=\"0.3\" stroke=\"gray\" d=\"M 421 335 438 399\"/>\n",
       "<path stroke-width=\"0.3\" stroke=\"gray\" d=\"M 334 20 369 111\"/>\n",
       "<path stroke-width=\"0.3\" stroke=\"gray\" d=\"M 562 445 438 399\"/>\n",
       "<path stroke-width=\"0.3\" stroke=\"gray\" d=\"M 589 520 580 409\"/>\n",
       "<path stroke-width=\"0.3\" stroke=\"gray\" d=\"M 20 198 147 240\"/>\n",
       "<path stroke-width=\"0.3\" stroke=\"gray\" d=\"M 36 239 147 240\"/>\n",
       "<path stroke-width=\"0.3\" stroke=\"gray\" d=\"M 720 401 580 409\"/>\n",
       "<path stroke-width=\"0.3\" stroke=\"gray\" d=\"M 77 165 147 240\"/>\n",
       "<circle cx=\"475\" cy=\"468\" r=\"4.0\" style=\"fill:rgb(58, 76, 192);stroke:black;stroke-width:1.0\"/>\n",
       "<circle cx=\"660\" cy=\"496\" r=\"4.0\" style=\"fill:rgb(58, 76, 192);stroke:black;stroke-width:1.0\"/>\n",
       "<circle cx=\"365\" cy=\"486\" r=\"4.0\" style=\"fill:rgb(58, 76, 192);stroke:black;stroke-width:1.0\"/>\n",
       "<circle cx=\"480\" cy=\"376\" r=\"4.0\" style=\"fill:rgb(58, 76, 192);stroke:black;stroke-width:1.0\"/>\n",
       "<circle cx=\"638\" cy=\"329\" r=\"4.0\" style=\"fill:rgb(58, 76, 192);stroke:black;stroke-width:1.0\"/>\n",
       "<circle cx=\"21\" cy=\"281\" r=\"4.0\" style=\"fill:rgb(58, 76, 192);stroke:black;stroke-width:1.0\"/>\n",
       "<circle cx=\"328\" cy=\"436\" r=\"4.0\" style=\"fill:rgb(58, 76, 192);stroke:black;stroke-width:1.0\"/>\n",
       "<circle cx=\"293\" cy=\"56\" r=\"4.0\" style=\"fill:rgb(58, 76, 192);stroke:black;stroke-width:1.0\"/>\n",
       "<circle cx=\"507\" cy=\"168\" r=\"4.0\" style=\"fill:rgb(82, 110, 220);stroke:black;stroke-width:1.0\"/>\n",
       "<circle cx=\"400\" cy=\"265\" r=\"4.0\" style=\"fill:rgb(231, 214, 204);stroke:black;stroke-width:1.0\"/>\n",
       "<circle cx=\"147\" cy=\"240\" r=\"4.0\" style=\"fill:rgb(246, 183, 156);stroke:black;stroke-width:1.0\"/>\n",
       "<circle cx=\"421\" cy=\"335\" r=\"4.0\" style=\"fill:rgb(58, 76, 192);stroke:black;stroke-width:1.0\"/>\n",
       "<circle cx=\"334\" cy=\"20\" r=\"4.0\" style=\"fill:rgb(58, 76, 192);stroke:black;stroke-width:1.0\"/>\n",
       "<circle cx=\"562\" cy=\"445\" r=\"4.0\" style=\"fill:rgb(58, 76, 192);stroke:black;stroke-width:1.0\"/>\n",
       "<circle cx=\"589\" cy=\"520\" r=\"4.0\" style=\"fill:rgb(58, 76, 192);stroke:black;stroke-width:1.0\"/>\n",
       "<circle cx=\"20\" cy=\"198\" r=\"4.0\" style=\"fill:rgb(58, 76, 192);stroke:black;stroke-width:1.0\"/>\n",
       "<circle cx=\"36\" cy=\"239\" r=\"4.0\" style=\"fill:rgb(58, 76, 192);stroke:black;stroke-width:1.0\"/>\n",
       "<circle cx=\"438\" cy=\"399\" r=\"4.0\" style=\"fill:rgb(246, 183, 156);stroke:black;stroke-width:1.0\"/>\n",
       "<circle cx=\"592\" cy=\"95\" r=\"4.0\" style=\"fill:rgb(58, 76, 192);stroke:black;stroke-width:1.0\"/>\n",
       "<circle cx=\"369\" cy=\"111\" r=\"4.0\" style=\"fill:rgb(166, 195, 253);stroke:black;stroke-width:1.0\"/>\n",
       "<circle cx=\"524\" cy=\"512\" r=\"4.0\" style=\"fill:rgb(58, 76, 192);stroke:black;stroke-width:1.0\"/>\n",
       "<circle cx=\"163\" cy=\"179\" r=\"4.0\" style=\"fill:rgb(58, 76, 192);stroke:black;stroke-width:1.0\"/>\n",
       "<circle cx=\"545\" cy=\"359\" r=\"4.0\" style=\"fill:rgb(58, 76, 192);stroke:black;stroke-width:1.0\"/>\n",
       "<circle cx=\"514\" cy=\"472\" r=\"4.0\" style=\"fill:rgb(58, 76, 192);stroke:black;stroke-width:1.0\"/>\n",
       "<circle cx=\"697\" cy=\"355\" r=\"4.0\" style=\"fill:rgb(58, 76, 192);stroke:black;stroke-width:1.0\"/>\n",
       "<circle cx=\"85\" cy=\"306\" r=\"4.0\" style=\"fill:rgb(58, 76, 192);stroke:black;stroke-width:1.0\"/>\n",
       "<circle cx=\"710\" cy=\"450\" r=\"4.0\" style=\"fill:rgb(58, 76, 192);stroke:black;stroke-width:1.0\"/>\n",
       "<circle cx=\"413\" cy=\"27\" r=\"4.0\" style=\"fill:rgb(58, 76, 192);stroke:black;stroke-width:1.0\"/>\n",
       "<circle cx=\"580\" cy=\"409\" r=\"4.0\" style=\"fill:rgb(179, 3, 38);stroke:black;stroke-width:1.0\"/>\n",
       "<circle cx=\"720\" cy=\"401\" r=\"4.0\" style=\"fill:rgb(58, 76, 192);stroke:black;stroke-width:1.0\"/>\n",
       "<circle cx=\"77\" cy=\"165\" r=\"4.0\" style=\"fill:rgb(58, 76, 192);stroke:black;stroke-width:1.0\"/>\n",
       "<text text-anchor=\"start\" x=\"482\" y=\"468\" font-size=\"10\">kelseyi</text><text text-anchor=\"start\" x=\"667\" y=\"496\" font-size=\"10\">Baye Mass</text><text text-anchor=\"start\" x=\"372\" y=\"486\" font-size=\"10\">BigChiiffa</text><text text-anchor=\"start\" x=\"487\" y=\"376\" font-size=\"10\">Alexnocap</text><text text-anchor=\"start\" x=\"645\" y=\"329\" font-size=\"10\">Duzzy Funlop</text><text text-anchor=\"start\" x=\"28\" y=\"281\" font-size=\"10\">Mons</text><text text-anchor=\"start\" x=\"335\" y=\"436\" font-size=\"10\">Big Sean</text><text text-anchor=\"start\" x=\"300\" y=\"56\" font-size=\"10\">Jay Sean</text><text text-anchor=\"start\" x=\"514\" y=\"168\" font-size=\"10\">U2</text><text text-anchor=\"start\" x=\"407\" y=\"265\" font-size=\"10\">B.B. King</text><text text-anchor=\"start\" x=\"154\" y=\"240\" font-size=\"10\">NEGAPHONE</text><text text-anchor=\"start\" x=\"428\" y=\"335\" font-size=\"10\">Young Iggz</text><text text-anchor=\"start\" x=\"341\" y=\"20\" font-size=\"10\">Tyga</text><text text-anchor=\"start\" x=\"569\" y=\"445\" font-size=\"10\">Nirvana</text><text text-anchor=\"start\" x=\"596\" y=\"520\" font-size=\"10\">Edot Babyy</text><text text-anchor=\"start\" x=\"27\" y=\"198\" font-size=\"10\">Animals As Leaders</text><text text-anchor=\"start\" x=\"43\" y=\"239\" font-size=\"10\">Conton Candy</text><text text-anchor=\"start\" x=\"445\" y=\"399\" font-size=\"10\">Big Choze</text><text text-anchor=\"start\" x=\"599\" y=\"95\" font-size=\"10\">Kendrick Lamar</text><text text-anchor=\"start\" x=\"376\" y=\"111\" font-size=\"10\">Lil Wayne</text><text text-anchor=\"start\" x=\"531\" y=\"512\" font-size=\"10\">Jason Aldean</text><text text-anchor=\"start\" x=\"170\" y=\"179\" font-size=\"10\">tephe</text><text text-anchor=\"start\" x=\"552\" y=\"359\" font-size=\"10\">AzChike</text><text text-anchor=\"start\" x=\"521\" y=\"472\" font-size=\"10\">Degree</text><text text-anchor=\"start\" x=\"704\" y=\"355\" font-size=\"10\">Ace Hood</text><text text-anchor=\"start\" x=\"92\" y=\"306\" font-size=\"10\">Abdeelgha4</text><text text-anchor=\"start\" x=\"717\" y=\"450\" font-size=\"10\">ShittyBoyz</text><text text-anchor=\"start\" x=\"420\" y=\"27\" font-size=\"10\">Drake</text><text text-anchor=\"start\" x=\"587\" y=\"409\" font-size=\"10\">WeeBay</text><text text-anchor=\"start\" x=\"727\" y=\"401\" font-size=\"10\">Webbie</text><text text-anchor=\"start\" x=\"84\" y=\"165\" font-size=\"10\">Nelyoti</text></svg>"
      ],
      "text/plain": [
       "<IPython.core.display.SVG object>"
      ]
     },
     "execution_count": 33,
     "metadata": {},
     "output_type": "execute_result"
    }
   ],
   "source": [
    "ego = 'B.B. King'\n",
    "\n",
    "G_ego = nx.ego_graph(G, ego, 2)\n",
    "\n",
    "draw_graph(G_ego, show_names=True, node_size=4, edge_width=0.3)"
   ]
  },
  {
   "cell_type": "markdown",
   "id": "87c48f30",
   "metadata": {},
   "source": [
    "# Next Steps\n",
    "\n",
    "This is a very useful tool for looking at collaboration networks in music. Some musicians do not collaborate with other musicians, so the spotify crawler returns smaller networks than the wikipedia crawler. But these are direct relationships from differerent musical collaborations, searched via the Spotify API.\n",
    "\n",
    "Next steps are to troubleshoot this crawler. There are likely bugs, in the current state. "
   ]
  },
  {
   "cell_type": "code",
   "execution_count": null,
   "id": "9c1f8b70",
   "metadata": {},
   "outputs": [],
   "source": []
  }
 ],
 "metadata": {
  "kernelspec": {
   "display_name": "Python 3 (ipykernel)",
   "language": "python",
   "name": "python3"
  },
  "language_info": {
   "codemirror_mode": {
    "name": "ipython",
    "version": 3
   },
   "file_extension": ".py",
   "mimetype": "text/x-python",
   "name": "python",
   "nbconvert_exporter": "python",
   "pygments_lexer": "ipython3",
   "version": "3.11.5"
  }
 },
 "nbformat": 4,
 "nbformat_minor": 5
}
