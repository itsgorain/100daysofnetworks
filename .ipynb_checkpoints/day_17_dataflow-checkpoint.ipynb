{
 "cells": [
  {
   "cell_type": "code",
   "execution_count": 1,
   "id": "7d18c815",
   "metadata": {},
   "outputs": [],
   "source": [
    "import networkx as nx\n",
    "import numpy as np\n",
    "import pandas as pd "
   ]
  },
  {
   "cell_type": "code",
   "execution_count": 2,
   "id": "0e8c36c4",
   "metadata": {},
   "outputs": [],
   "source": [
    "# for visualization\n",
    "from IPython.display import SVG \n",
    "from sknetwork.visualization import svg_graph \n",
    "from sknetwork.data import Bunch \n",
    "from sknetwork.ranking import PageRank \n",
    "from scipy.sparse import csr_matrix\n",
    "\n",
    "def draw_graph(G, show_names=False, node_size=1, font_size=10, edge_width=0.5):\n",
    "\n",
    "    adjacency = nx.to_scipy_sparse_array(G, nodelist=None, dtype=None, weight='weight', format='csr')\n",
    "    adjacency = csr_matrix(adjacency) # fix to weird sknetwork-csr issue; comment out to troubleshoot\n",
    "    \n",
    "    names = np.array(list(G.nodes))\n",
    "    \n",
    "    graph = Bunch()\n",
    "    graph.adjacency = adjacency\n",
    "    graph.names = np.array(names)\n",
    "    \n",
    "    pagerank = PageRank()\n",
    "    scores = pagerank.fit_transform(adjacency)\n",
    "\n",
    "    if show_names:\n",
    "        \n",
    "        image = svg_graph(graph.adjacency, font_size=font_size, node_size=node_size, names=graph.names, width=700, height=500, scores=scores, edge_width=edge_width)\n",
    "    \n",
    "    else:\n",
    "        \n",
    "        image = svg_graph(graph.adjacency, node_size=node_size, width=700, height=500, scores = scores, edge_width=edge_width)\n",
    "    \n",
    "    return SVG(image)"
   ]
  },
  {
   "cell_type": "code",
   "execution_count": 3,
   "id": "b8d9c847",
   "metadata": {},
   "outputs": [],
   "source": [
    "G = nx.DiGraph()\n",
    "\n",
    "G.add_edge('cron', '1.py')\n",
    "G.add_edge('cron', '2.py')\n",
    "G.add_edge('cron', '3.py')\n",
    "G.add_edge('cron', '4.py')\n",
    "G.add_edge('cron', '5.py')\n",
    "G.add_edge('cron', '6.py')\n",
    "\n",
    "# 1.py\n",
    "G.add_edge('1.py', '1_output.json')\n",
    "\n",
    "# 2.py\n",
    "G.add_edge('2.py', '2_output.json')\n",
    "\n",
    "# 3.py\n",
    "G.add_edge('1_output.json', '3.py') # input, script on right file/db on left\n",
    "G.add_edge('2_output.json', '3.py')\n",
    "G.add_edge('3.py', 'mysql') # output, script on left\n",
    "\n",
    "# 4.py\n",
    "G.add_edge('1_output.json', '4.py')\n",
    "G.add_edge('2_output.json', '4.py')\n",
    "G.add_edge('4.py', 'mysql')\n",
    "\n",
    "# 5.py\n",
    "G.add_edge('mysql', '5.py')\n",
    "G.add_edge('5.py', 'extract_thing_1.json')\n",
    "G.add_edge('5.py', 'extract_thing_2.json')\n",
    "\n",
    "# 6.py\n",
    "G.add_edge('extract_thing_1.json', '6.py')\n",
    "G.add_edge('extract_thing_2.json', '6.py')\n",
    "G.add_edge('6.py', 'combined_export.json')"
   ]
  },
  {
   "cell_type": "code",
   "execution_count": 5,
   "id": "e7936819",
   "metadata": {},
   "outputs": [
    {
     "name": "stdout",
     "output_type": "stream",
     "text": [
      "DiGraph with 13 nodes and 20 edges\n"
     ]
    }
   ],
   "source": [
    "print(G)"
   ]
  },
  {
   "cell_type": "code",
   "execution_count": 6,
   "id": "c3b2b9ba",
   "metadata": {},
   "outputs": [
    {
     "data": {
      "image/svg+xml": [
       "<svg xmlns=\"http://www.w3.org/2000/svg\" width=\"980.0\" height=\"540\">\n",
       "<defs><marker id=\"arrow-gray\" markerWidth=\"10\" markerHeight=\"10\" refX=\"9\" refY=\"3\" orient=\"auto\">\n",
       "<path d=\"M0,0 L0,6 L9,3 z\" fill=\"gray\"/></marker></defs>\n",
       "<path stroke-width=\"1\" stroke=\"gray\" d=\"M 338 317 515 450\" marker-end=\"url(#arrow-gray)\"/>\n",
       "<path stroke-width=\"1\" stroke=\"gray\" d=\"M 476 359 581 240\" marker-end=\"url(#arrow-gray)\"/>\n",
       "<path stroke-width=\"1\" stroke=\"gray\" d=\"M 31 434 308 438\" marker-end=\"url(#arrow-gray)\"/>\n",
       "<path stroke-width=\"1\" stroke=\"gray\" d=\"M 31 434 238 412\" marker-end=\"url(#arrow-gray)\"/>\n",
       "<path stroke-width=\"1\" stroke=\"gray\" d=\"M 357 520 311 440\" marker-end=\"url(#arrow-gray)\"/>\n",
       "<path stroke-width=\"1\" stroke=\"gray\" d=\"M 357 520 242 414\" marker-end=\"url(#arrow-gray)\"/>\n",
       "<path stroke-width=\"1\" stroke=\"gray\" d=\"M 442 146 342 22\" marker-end=\"url(#arrow-gray)\"/>\n",
       "<path stroke-width=\"1\" stroke=\"gray\" d=\"M 582 238 718 159\" marker-end=\"url(#arrow-gray)\"/>\n",
       "<path stroke-width=\"1\" stroke=\"gray\" d=\"M 582 238 611 112\" marker-end=\"url(#arrow-gray)\"/>\n",
       "<path stroke-width=\"1\" stroke=\"gray\" d=\"M 310 438 474 360\" marker-end=\"url(#arrow-gray)\"/>\n",
       "<path stroke-width=\"1\" stroke=\"gray\" d=\"M 240 412 474 359\" marker-end=\"url(#arrow-gray)\"/>\n",
       "<path stroke-width=\"1\" stroke=\"gray\" d=\"M 20 336 31 432\" marker-end=\"url(#arrow-gray)\"/>\n",
       "<path stroke-width=\"1\" stroke=\"gray\" d=\"M 517 451 359 519\" marker-end=\"url(#arrow-gray)\"/>\n",
       "<path stroke-width=\"1\" stroke=\"gray\" d=\"M 338 317 441 148\" marker-end=\"url(#arrow-gray)\"/>\n",
       "<path stroke-width=\"1\" stroke=\"gray\" d=\"M 338 317 580 238\" marker-end=\"url(#arrow-gray)\"/>\n",
       "<path stroke-width=\"1\" stroke=\"gray\" d=\"M 338 317 310 436\" marker-end=\"url(#arrow-gray)\"/>\n",
       "<path stroke-width=\"1\" stroke=\"gray\" d=\"M 338 317 242 410\" marker-end=\"url(#arrow-gray)\"/>\n",
       "<path stroke-width=\"1\" stroke=\"gray\" d=\"M 338 317 22 336\" marker-end=\"url(#arrow-gray)\"/>\n",
       "<path stroke-width=\"1\" stroke=\"gray\" d=\"M 611 110 444 146\" marker-end=\"url(#arrow-gray)\"/>\n",
       "<path stroke-width=\"1\" stroke=\"gray\" d=\"M 720 158 444 146\" marker-end=\"url(#arrow-gray)\"/>\n",
       "<circle cx=\"338\" cy=\"317\" r=\"3.0\" style=\"fill:rgb(58, 76, 192);stroke:black;stroke-width:1.0\"/>\n",
       "<circle cx=\"517\" cy=\"451\" r=\"3.0\" style=\"fill:rgb(58, 76, 192);stroke:black;stroke-width:1.0\"/>\n",
       "<circle cx=\"20\" cy=\"336\" r=\"3.0\" style=\"fill:rgb(58, 76, 192);stroke:black;stroke-width:1.0\"/>\n",
       "<circle cx=\"240\" cy=\"412\" r=\"3.0\" style=\"fill:rgb(99, 131, 234);stroke:black;stroke-width:1.0\"/>\n",
       "<circle cx=\"310\" cy=\"438\" r=\"3.0\" style=\"fill:rgb(99, 131, 234);stroke:black;stroke-width:1.0\"/>\n",
       "<circle cx=\"582\" cy=\"238\" r=\"3.0\" style=\"fill:rgb(210, 218, 231);stroke:black;stroke-width:1.0\"/>\n",
       "<circle cx=\"442\" cy=\"146\" r=\"3.0\" style=\"fill:rgb(244, 195, 171);stroke:black;stroke-width:1.0\"/>\n",
       "<circle cx=\"357\" cy=\"520\" r=\"3.0\" style=\"fill:rgb(76, 102, 214);stroke:black;stroke-width:1.0\"/>\n",
       "<circle cx=\"31\" cy=\"434\" r=\"3.0\" style=\"fill:rgb(76, 102, 214);stroke:black;stroke-width:1.0\"/>\n",
       "<circle cx=\"476\" cy=\"359\" r=\"3.0\" style=\"fill:rgb(189, 210, 246);stroke:black;stroke-width:1.0\"/>\n",
       "<circle cx=\"611\" cy=\"110\" r=\"3.0\" style=\"fill:rgb(145, 179, 254);stroke:black;stroke-width:1.0\"/>\n",
       "<circle cx=\"720\" cy=\"158\" r=\"3.0\" style=\"fill:rgb(145, 179, 254);stroke:black;stroke-width:1.0\"/>\n",
       "<circle cx=\"341\" cy=\"20\" r=\"3.0\" style=\"fill:rgb(179, 3, 38);stroke:black;stroke-width:1.0\"/>\n",
       "<text text-anchor=\"start\" x=\"344\" y=\"317\" font-size=\"12\">cron</text><text text-anchor=\"start\" x=\"523\" y=\"451\" font-size=\"12\">1.py</text><text text-anchor=\"start\" x=\"26\" y=\"336\" font-size=\"12\">2.py</text><text text-anchor=\"start\" x=\"246\" y=\"412\" font-size=\"12\">3.py</text><text text-anchor=\"start\" x=\"316\" y=\"438\" font-size=\"12\">4.py</text><text text-anchor=\"start\" x=\"588\" y=\"238\" font-size=\"12\">5.py</text><text text-anchor=\"start\" x=\"448\" y=\"146\" font-size=\"12\">6.py</text><text text-anchor=\"start\" x=\"363\" y=\"520\" font-size=\"12\">1_output.json</text><text text-anchor=\"start\" x=\"37\" y=\"434\" font-size=\"12\">2_output.json</text><text text-anchor=\"start\" x=\"482\" y=\"359\" font-size=\"12\">mysql</text><text text-anchor=\"start\" x=\"617\" y=\"110\" font-size=\"12\">extract_thing_1.json</text><text text-anchor=\"start\" x=\"726\" y=\"158\" font-size=\"12\">extract_thing_2.json</text><text text-anchor=\"start\" x=\"347\" y=\"20\" font-size=\"12\">combined_export.json</text></svg>"
      ],
      "text/plain": [
       "<IPython.core.display.SVG object>"
      ]
     },
     "execution_count": 6,
     "metadata": {},
     "output_type": "execute_result"
    }
   ],
   "source": [
    "# imaginary software that uses cron for orchestration and creates one combined export\n",
    "\n",
    "draw_graph(G, node_size=3, show_names=True, edge_width=1, font_size=12)"
   ]
  },
  {
   "cell_type": "markdown",
   "id": "2a957fcd",
   "metadata": {},
   "source": [
    "# Drop Cron to see Different View\n",
    "\n",
    "When I map out software, I like to start at the ORCHESTRATION, as that is the ground truth of what is automated and when it runs. From there, I can find additional dependencies (nested script calls, files used, databases used, and more). I sometimes visualize the graph with 'cron' or the orchestration as part of the network, but sometimes I like to see things without. You can remove the orchestration node for another view, once the network is built. I do recommend starting at the orchestration, though, and that is often cron, in my experience."
   ]
  },
  {
   "cell_type": "code",
   "execution_count": 7,
   "id": "df0a566a",
   "metadata": {},
   "outputs": [],
   "source": [
    "G.remove_node('cron')"
   ]
  },
  {
   "cell_type": "code",
   "execution_count": 8,
   "id": "63ab7b55",
   "metadata": {},
   "outputs": [
    {
     "data": {
      "image/svg+xml": [
       "<svg xmlns=\"http://www.w3.org/2000/svg\" width=\"980.0\" height=\"540\">\n",
       "<defs><marker id=\"arrow-gray\" markerWidth=\"10\" markerHeight=\"10\" refX=\"9\" refY=\"3\" orient=\"auto\">\n",
       "<path d=\"M0,0 L0,6 L9,3 z\" fill=\"gray\"/></marker></defs>\n",
       "<path stroke-width=\"1\" stroke=\"gray\" d=\"M 20 520 89 400\" marker-end=\"url(#arrow-gray)\"/>\n",
       "<path stroke-width=\"1\" stroke=\"gray\" d=\"M 63 20 111 159\" marker-end=\"url(#arrow-gray)\"/>\n",
       "<path stroke-width=\"1\" stroke=\"gray\" d=\"M 154 260 278 268\" marker-end=\"url(#arrow-gray)\"/>\n",
       "<path stroke-width=\"1\" stroke=\"gray\" d=\"M 172 313 278 269\" marker-end=\"url(#arrow-gray)\"/>\n",
       "<path stroke-width=\"1\" stroke=\"gray\" d=\"M 433 233 547 248\" marker-end=\"url(#arrow-gray)\"/>\n",
       "<path stroke-width=\"1\" stroke=\"gray\" d=\"M 433 233 527 148\" marker-end=\"url(#arrow-gray)\"/>\n",
       "<path stroke-width=\"1\" stroke=\"gray\" d=\"M 628 151 718 86\" marker-end=\"url(#arrow-gray)\"/>\n",
       "<path stroke-width=\"1\" stroke=\"gray\" d=\"M 90 398 153 262\" marker-end=\"url(#arrow-gray)\"/>\n",
       "<path stroke-width=\"1\" stroke=\"gray\" d=\"M 90 398 170 315\" marker-end=\"url(#arrow-gray)\"/>\n",
       "<path stroke-width=\"1\" stroke=\"gray\" d=\"M 111 161 153 258\" marker-end=\"url(#arrow-gray)\"/>\n",
       "<path stroke-width=\"1\" stroke=\"gray\" d=\"M 111 161 171 311\" marker-end=\"url(#arrow-gray)\"/>\n",
       "<path stroke-width=\"1\" stroke=\"gray\" d=\"M 280 268 431 233\" marker-end=\"url(#arrow-gray)\"/>\n",
       "<path stroke-width=\"1\" stroke=\"gray\" d=\"M 549 248 627 153\" marker-end=\"url(#arrow-gray)\"/>\n",
       "<path stroke-width=\"1\" stroke=\"gray\" d=\"M 529 146 626 151\" marker-end=\"url(#arrow-gray)\"/>\n",
       "<circle cx=\"20\" cy=\"520\" r=\"3.0\" style=\"fill:rgb(58, 76, 192);stroke:black;stroke-width:1.0\"/>\n",
       "<circle cx=\"63\" cy=\"20\" r=\"3.0\" style=\"fill:rgb(58, 76, 192);stroke:black;stroke-width:1.0\"/>\n",
       "<circle cx=\"154\" cy=\"260\" r=\"3.0\" style=\"fill:rgb(96, 128, 232);stroke:black;stroke-width:1.0\"/>\n",
       "<circle cx=\"172\" cy=\"313\" r=\"3.0\" style=\"fill:rgb(96, 128, 232);stroke:black;stroke-width:1.0\"/>\n",
       "<circle cx=\"433\" cy=\"233\" r=\"3.0\" style=\"fill:rgb(205, 217, 236);stroke:black;stroke-width:1.0\"/>\n",
       "<circle cx=\"628\" cy=\"151\" r=\"3.0\" style=\"fill:rgb(242, 200, 179);stroke:black;stroke-width:1.0\"/>\n",
       "<circle cx=\"90\" cy=\"398\" r=\"3.0\" style=\"fill:rgb(72, 96, 209);stroke:black;stroke-width:1.0\"/>\n",
       "<circle cx=\"111\" cy=\"161\" r=\"3.0\" style=\"fill:rgb(72, 96, 209);stroke:black;stroke-width:1.0\"/>\n",
       "<circle cx=\"280\" cy=\"268\" r=\"3.0\" style=\"fill:rgb(183, 207, 249);stroke:black;stroke-width:1.0\"/>\n",
       "<circle cx=\"549\" cy=\"248\" r=\"3.0\" style=\"fill:rgb(141, 175, 253);stroke:black;stroke-width:1.0\"/>\n",
       "<circle cx=\"529\" cy=\"146\" r=\"3.0\" style=\"fill:rgb(141, 175, 253);stroke:black;stroke-width:1.0\"/>\n",
       "<circle cx=\"720\" cy=\"85\" r=\"3.0\" style=\"fill:rgb(179, 3, 38);stroke:black;stroke-width:1.0\"/>\n",
       "<text text-anchor=\"start\" x=\"26\" y=\"520\" font-size=\"12\">1.py</text><text text-anchor=\"start\" x=\"69\" y=\"20\" font-size=\"12\">2.py</text><text text-anchor=\"start\" x=\"160\" y=\"260\" font-size=\"12\">3.py</text><text text-anchor=\"start\" x=\"178\" y=\"313\" font-size=\"12\">4.py</text><text text-anchor=\"start\" x=\"439\" y=\"233\" font-size=\"12\">5.py</text><text text-anchor=\"start\" x=\"634\" y=\"151\" font-size=\"12\">6.py</text><text text-anchor=\"start\" x=\"96\" y=\"398\" font-size=\"12\">1_output.json</text><text text-anchor=\"start\" x=\"117\" y=\"161\" font-size=\"12\">2_output.json</text><text text-anchor=\"start\" x=\"286\" y=\"268\" font-size=\"12\">mysql</text><text text-anchor=\"start\" x=\"555\" y=\"248\" font-size=\"12\">extract_thing_1.json</text><text text-anchor=\"start\" x=\"535\" y=\"146\" font-size=\"12\">extract_thing_2.json</text><text text-anchor=\"start\" x=\"726\" y=\"85\" font-size=\"12\">combined_export.json</text></svg>"
      ],
      "text/plain": [
       "<IPython.core.display.SVG object>"
      ]
     },
     "execution_count": 8,
     "metadata": {},
     "output_type": "execute_result"
    }
   ],
   "source": [
    "draw_graph(G, node_size=3, show_names=True, edge_width=1, font_size=12)"
   ]
  },
  {
   "cell_type": "markdown",
   "id": "f6e03d8b",
   "metadata": {},
   "source": [
    "# Network Science Goodies are Useful\n",
    "\n",
    "From here, all of the stuff that I have previously written about can be useful. This is just another network that can be analyzed and explored."
   ]
  },
  {
   "cell_type": "code",
   "execution_count": 9,
   "id": "044c255e",
   "metadata": {
    "scrolled": true
   },
   "outputs": [
    {
     "data": {
      "image/svg+xml": [
       "<svg xmlns=\"http://www.w3.org/2000/svg\" width=\"788.0\" height=\"540\">\n",
       "<defs><marker id=\"arrow-gray\" markerWidth=\"10\" markerHeight=\"10\" refX=\"9\" refY=\"3\" orient=\"auto\">\n",
       "<path d=\"M0,0 L0,6 L9,3 z\" fill=\"gray\"/></marker></defs>\n",
       "<path stroke-width=\"1\" stroke=\"gray\" d=\"M 20 156 414 232\" marker-end=\"url(#arrow-gray)\"/>\n",
       "<path stroke-width=\"1\" stroke=\"gray\" d=\"M 418 232 716 22\" marker-end=\"url(#arrow-gray)\"/>\n",
       "<path stroke-width=\"1\" stroke=\"gray\" d=\"M 517 520 419 236\" marker-end=\"url(#arrow-gray)\"/>\n",
       "<circle cx=\"20\" cy=\"156\" r=\"5.0\" style=\"fill:rgb(58, 76, 192);stroke:black;stroke-width:1.0\"/>\n",
       "<circle cx=\"418\" cy=\"232\" r=\"5.0\" style=\"fill:rgb(138, 173, 253);stroke:black;stroke-width:1.0\"/>\n",
       "<circle cx=\"720\" cy=\"20\" r=\"5.0\" style=\"fill:rgb(179, 3, 38);stroke:black;stroke-width:1.0\"/>\n",
       "<circle cx=\"517\" cy=\"520\" r=\"5.0\" style=\"fill:rgb(58, 76, 192);stroke:black;stroke-width:1.0\"/>\n",
       "<text text-anchor=\"start\" x=\"28\" y=\"156\" font-size=\"12\">4.py</text><text text-anchor=\"start\" x=\"426\" y=\"232\" font-size=\"12\">mysql</text><text text-anchor=\"start\" x=\"728\" y=\"20\" font-size=\"12\">5.py</text><text text-anchor=\"start\" x=\"525\" y=\"520\" font-size=\"12\">3.py</text></svg>"
      ],
      "text/plain": [
       "<IPython.core.display.SVG object>"
      ]
     },
     "execution_count": 9,
     "metadata": {},
     "output_type": "execute_result"
    }
   ],
   "source": [
    "subgraph_nodes = ['3.py', '4.py', 'mysql', '5.py']\n",
    "\n",
    "G_sub = G.subgraph(subgraph_nodes)\n",
    "\n",
    "draw_graph(G_sub, node_size=5, show_names=True, edge_width=1, font_size=12)"
   ]
  },
  {
   "cell_type": "markdown",
   "id": "80fe19a7",
   "metadata": {},
   "source": [
    "# Critical Nodes\n",
    "\n",
    "Actually, all nodes are critical, but these nodes are situated in a way that if they stop, they will disrupt the most things."
   ]
  },
  {
   "cell_type": "code",
   "execution_count": 10,
   "id": "9cce9d73",
   "metadata": {},
   "outputs": [
    {
     "data": {
      "image/png": "[encoded data removed]",
      "text/plain": [
       "<Figure size 1200x600 with 1 Axes>"
      ]
     },
     "metadata": {},
     "output_type": "display_data"
    }
   ],
   "source": [
    "betw_cent = nx.betweenness_centrality(G)\n",
    "\n",
    "metric_df = pd.DataFrame(betw_cent, index=[0]).T\n",
    "metric_df.columns = ['betw_cent']\n",
    "metric_df.sort_values('betw_cent', ascending=False, inplace=True)\n",
    "\n",
    "metric_df.head(20).plot.barh(title='Node Betweenness Centrality', figsize=(12,6)).invert_yaxis()"
   ]
  },
  {
   "cell_type": "markdown",
   "id": "7491994c",
   "metadata": {},
   "source": [
    "# Look at Inputs\n",
    "\n",
    "Basically, what goes into something? What leads to something? In this case, what leads to data being in MySQL?"
   ]
  },
  {
   "cell_type": "code",
   "execution_count": 11,
   "id": "9cc3028a",
   "metadata": {},
   "outputs": [
    {
     "data": {
      "text/plain": [
       "{'1.py', '1_output.json', '2.py', '2_output.json', '3.py', '4.py'}"
      ]
     },
     "execution_count": 11,
     "metadata": {},
     "output_type": "execute_result"
    }
   ],
   "source": [
    "nx.ancestors(G, 'mysql')"
   ]
  },
  {
   "cell_type": "markdown",
   "id": "5cae8625",
   "metadata": {},
   "source": [
    "# Look at Outputs\n",
    "\n",
    "Basically, what is impacted if something stops working? What is impacted if MySQL goes down?"
   ]
  },
  {
   "cell_type": "code",
   "execution_count": 12,
   "id": "908c9682",
   "metadata": {},
   "outputs": [
    {
     "data": {
      "text/plain": [
       "{'5.py',\n",
       " '6.py',\n",
       " 'combined_export.json',\n",
       " 'extract_thing_1.json',\n",
       " 'extract_thing_2.json'}"
      ]
     },
     "execution_count": 12,
     "metadata": {},
     "output_type": "execute_result"
    }
   ],
   "source": [
    "nx.descendants(G, 'mysql')"
   ]
  },
  {
   "cell_type": "markdown",
   "id": "d9a5bcf4",
   "metadata": {},
   "source": [
    "# I Spent Years on This\n",
    "\n",
    "I spent years developing techniques for Source Code Analysis (SCA) and dataflow mapping. This notebook is only scratching the surface. This is incredibly useful in data operations, if you learn more, but this is enough to get started. I will discuss this more, if there is interest, and potentially write a book on this topic someday as it has been very useful to me.\n",
    "\n",
    "There's a lot further even I could go into this, even with how much time I spent doing this. However, to be effective, you don't really need much. You need to map out the system, and then you can easily interrogate the graph to find what's what.\n",
    "\n",
    "But code and dataflow networks present another opportunity for analysis, and this is also extremely useful in troubleshooting, especially after you have mapped out enough systems."
   ]
  },
  {
   "cell_type": "code",
   "execution_count": null,
   "id": "cf04638f",
   "metadata": {},
   "outputs": [],
   "source": []
  },
  {
   "cell_type": "code",
   "execution_count": null,
   "id": "2fb1bc31",
   "metadata": {},
   "outputs": [],
   "source": []
  }
 ],
 "metadata": {
  "kernelspec": {
   "display_name": "Python 3 (ipykernel)",
   "language": "python",
   "name": "python3"
  },
  "language_info": {
   "codemirror_mode": {
    "name": "ipython",
    "version": 3
   },
   "file_extension": ".py",
   "mimetype": "text/x-python",
   "name": "python",
   "nbconvert_exporter": "python",
   "pygments_lexer": "ipython3",
   "version": "3.11.5"
  }
 },
 "nbformat": 4,
 "nbformat_minor": 5
}
