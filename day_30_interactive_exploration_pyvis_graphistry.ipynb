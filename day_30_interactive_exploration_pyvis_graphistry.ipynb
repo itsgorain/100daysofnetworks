{
 "cells": [
  {
   "cell_type": "code",
   "execution_count": 63,
   "id": "7423be59",
   "metadata": {},
   "outputs": [],
   "source": [
    "import networkx as nx\n",
    "import numpy as np\n",
    "import pandas as pd\n",
    "\n",
    "# for the explode statement; convert string to list\n",
    "from ast import literal_eval\n",
    "\n",
    "# for visualization\n",
    "from IPython.display import SVG \n",
    "from sknetwork.visualization import svg_graph \n",
    "from sknetwork.data import Bunch \n",
    "from sknetwork.ranking import PageRank\n",
    "from scipy.sparse import csr_matrix"
   ]
  },
  {
   "cell_type": "code",
   "execution_count": 64,
   "id": "102626ff",
   "metadata": {},
   "outputs": [],
   "source": [
    "# updated function -- verified 12/27/2023\n",
    "\n",
    "def draw_graph(G, show_names=False, node_size=1, font_size=10, edge_width=0.5):\n",
    "\n",
    "    adjacency = nx.to_scipy_sparse_array(G, nodelist=None, dtype=None, weight='weight', format='csr')\n",
    "    adjacency = csr_matrix(adjacency) # fix to weird sknetwork-csr issue; comment out to troubleshoot\n",
    "    \n",
    "    names = np.array(list(G.nodes))\n",
    "    \n",
    "    graph = Bunch()\n",
    "    graph.adjacency = adjacency\n",
    "    graph.names = np.array(names)\n",
    "    \n",
    "    pagerank = PageRank()\n",
    "    scores = pagerank.fit_transform(adjacency)\n",
    "\n",
    "    if show_names:\n",
    "        \n",
    "        image = svg_graph(graph.adjacency, font_size=font_size, node_size=node_size, names=graph.names, width=700, height=500, scores=scores, edge_width=edge_width)\n",
    "    \n",
    "    else:\n",
    "        \n",
    "        image = svg_graph(graph.adjacency, node_size=node_size, width=700, height=500, scores = scores, edge_width=edge_width)\n",
    "    \n",
    "    return SVG(image)"
   ]
  },
  {
   "cell_type": "markdown",
   "id": "77a12aec",
   "metadata": {},
   "source": [
    "# Create Graph using Bipartite Projection on Arxiv Dataset"
   ]
  },
  {
   "cell_type": "code",
   "execution_count": 65,
   "id": "443c3cd4",
   "metadata": {},
   "outputs": [
    {
     "data": {
      "text/html": [
       "<div>\n",
       "<style scoped>\n",
       "    .dataframe tbody tr th:only-of-type {\n",
       "        vertical-align: middle;\n",
       "    }\n",
       "\n",
       "    .dataframe tbody tr th {\n",
       "        vertical-align: top;\n",
       "    }\n",
       "\n",
       "    .dataframe thead th {\n",
       "        text-align: right;\n",
       "    }\n",
       "</style>\n",
       "<table border=\"1\" class=\"dataframe\">\n",
       "  <thead>\n",
       "    <tr style=\"text-align: right;\">\n",
       "      <th></th>\n",
       "      <th>authors</th>\n",
       "      <th>title</th>\n",
       "    </tr>\n",
       "  </thead>\n",
       "  <tbody>\n",
       "    <tr>\n",
       "      <th>0</th>\n",
       "      <td>Kiarash Sedghighadikolaei</td>\n",
       "      <td>A Comprehensive Survey of Threshold Digital Si...</td>\n",
       "    </tr>\n",
       "    <tr>\n",
       "      <th>1</th>\n",
       "      <td>Attila Altay Yavuz</td>\n",
       "      <td>A Comprehensive Survey of Threshold Digital Si...</td>\n",
       "    </tr>\n",
       "    <tr>\n",
       "      <th>2</th>\n",
       "      <td>Alenka {Č}opi{č}</td>\n",
       "      <td>Phosphatidylserine transport in cell life and ...</td>\n",
       "    </tr>\n",
       "    <tr>\n",
       "      <th>3</th>\n",
       "      <td>Thibaud Dieudonné</td>\n",
       "      <td>Phosphatidylserine transport in cell life and ...</td>\n",
       "    </tr>\n",
       "    <tr>\n",
       "      <th>4</th>\n",
       "      <td>Guillaume Lenoir</td>\n",
       "      <td>Phosphatidylserine transport in cell life and ...</td>\n",
       "    </tr>\n",
       "  </tbody>\n",
       "</table>\n",
       "</div>"
      ],
      "text/plain": [
       "                     authors  \\\n",
       "0  Kiarash Sedghighadikolaei   \n",
       "1         Attila Altay Yavuz   \n",
       "2           Alenka {Č}opi{č}   \n",
       "3          Thibaud Dieudonné   \n",
       "4           Guillaume Lenoir   \n",
       "\n",
       "                                               title  \n",
       "0  A Comprehensive Survey of Threshold Digital Si...  \n",
       "1  A Comprehensive Survey of Threshold Digital Si...  \n",
       "2  Phosphatidylserine transport in cell life and ...  \n",
       "3  Phosphatidylserine transport in cell life and ...  \n",
       "4  Phosphatidylserine transport in cell life and ...  "
      ]
     },
     "execution_count": 65,
     "metadata": {},
     "output_type": "execute_result"
    }
   ],
   "source": [
    "data = r'data\\arxiv_artificial_life.csv'\n",
    "\n",
    "df = pd.read_csv(data)\n",
    "df['authors'] = df['authors'].apply(literal_eval)\n",
    "\n",
    "df = df[['authors', 'title']]\n",
    "df = df.explode('authors')\n",
    "df.reset_index(drop=True, inplace=True)\n",
    "\n",
    "# fix the & so that scikit-network stops crashing\n",
    "df['authors'] = df['authors'].str.replace('&', 'and')\n",
    "df['title'] = df['title'].str.replace('&', 'and')\n",
    "\n",
    "df.head()"
   ]
  },
  {
   "cell_type": "code",
   "execution_count": 66,
   "id": "5a7997ee",
   "metadata": {},
   "outputs": [
    {
     "data": {
      "text/plain": [
       "19989"
      ]
     },
     "execution_count": 66,
     "metadata": {},
     "output_type": "execute_result"
    }
   ],
   "source": [
    "len(set(df['title']))"
   ]
  },
  {
   "cell_type": "code",
   "execution_count": 67,
   "id": "e5726918",
   "metadata": {},
   "outputs": [],
   "source": [
    "from networkx.algorithms import bipartite\n",
    "\n",
    "B = nx.from_pandas_edgelist(df, source='authors', target='title')\n",
    "G = bipartite.projected_graph(B, df['authors'])\n",
    "\n",
    "G = nx.k_core(G, 2) # no isolates or two-node groups"
   ]
  },
  {
   "cell_type": "code",
   "execution_count": 68,
   "id": "fbee3229",
   "metadata": {},
   "outputs": [
    {
     "name": "stdout",
     "output_type": "stream",
     "text": [
      "Graph with 48753 nodes and 273061 edges\n"
     ]
    }
   ],
   "source": [
    "#print(nx.info(G)) # deprecated\n",
    "\n",
    "print(G)"
   ]
  },
  {
   "cell_type": "markdown",
   "id": "f9952d45",
   "metadata": {},
   "source": [
    "# Community Detection + Community Analysis\n",
    "\n",
    "There's two parts to what I am attempting today.\n",
    "- I need to use community detection to identify communities in the network.\n",
    "- I can then use network science and data science to identify interesting communities\n",
    "\n",
    "By interesting, I mean not stars. I am looking for complex ecosystems. So, I will identify communities, then attempt to detect more complex ecosystems by using triangles and density.\n",
    "\n",
    "In this notebook, I am experimenting with a python library for interactive visualization. "
   ]
  },
  {
   "cell_type": "markdown",
   "id": "19d07b3a",
   "metadata": {},
   "source": [
    "## Community Detection"
   ]
  },
  {
   "cell_type": "code",
   "execution_count": 69,
   "id": "7d0cfa33",
   "metadata": {},
   "outputs": [],
   "source": [
    "#! pip install python-louvain --user"
   ]
  },
  {
   "cell_type": "code",
   "execution_count": 70,
   "id": "46f88f22",
   "metadata": {},
   "outputs": [],
   "source": [
    "import community as community_louvain\n",
    "\n",
    "partition = community_louvain.best_partition(G, resolution=0.01, random_state=1337) # 10 was good for this network"
   ]
  },
  {
   "cell_type": "code",
   "execution_count": 71,
   "id": "9b81c14c",
   "metadata": {},
   "outputs": [
    {
     "data": {
      "text/plain": [
       "community\n",
       "10653    237\n",
       "1770     193\n",
       "993      165\n",
       "9576     163\n",
       "3939     122\n",
       "4791     109\n",
       "10966    104\n",
       "7718      94\n",
       "10344     88\n",
       "5148      86\n",
       "4156      81\n",
       "5323      78\n",
       "8777      74\n",
       "3741      68\n",
       "3827      67\n",
       "9316      67\n",
       "217       65\n",
       "624       59\n",
       "4461      55\n",
       "10968     54\n",
       "Name: count, dtype: int64"
      ]
     },
     "execution_count": 71,
     "metadata": {},
     "output_type": "execute_result"
    }
   ],
   "source": [
    "community_df = pd.DataFrame().from_dict(partition, orient='index')\n",
    "community_df.reset_index(inplace=True)\n",
    "community_df.columns = ['node', 'community']\n",
    "\n",
    "community_df['community'].value_counts()[0:20]"
   ]
  },
  {
   "cell_type": "code",
   "execution_count": 72,
   "id": "5ed70761",
   "metadata": {},
   "outputs": [
    {
     "data": {
      "text/html": [
       "<div>\n",
       "<style scoped>\n",
       "    .dataframe tbody tr th:only-of-type {\n",
       "        vertical-align: middle;\n",
       "    }\n",
       "\n",
       "    .dataframe tbody tr th {\n",
       "        vertical-align: top;\n",
       "    }\n",
       "\n",
       "    .dataframe thead th {\n",
       "        text-align: right;\n",
       "    }\n",
       "</style>\n",
       "<table border=\"1\" class=\"dataframe\">\n",
       "  <thead>\n",
       "    <tr style=\"text-align: right;\">\n",
       "      <th></th>\n",
       "      <th>community</th>\n",
       "      <th>node_count</th>\n",
       "    </tr>\n",
       "  </thead>\n",
       "  <tbody>\n",
       "    <tr>\n",
       "      <th>0</th>\n",
       "      <td>10653</td>\n",
       "      <td>237</td>\n",
       "    </tr>\n",
       "    <tr>\n",
       "      <th>1</th>\n",
       "      <td>1770</td>\n",
       "      <td>193</td>\n",
       "    </tr>\n",
       "    <tr>\n",
       "      <th>2</th>\n",
       "      <td>993</td>\n",
       "      <td>165</td>\n",
       "    </tr>\n",
       "    <tr>\n",
       "      <th>3</th>\n",
       "      <td>9576</td>\n",
       "      <td>163</td>\n",
       "    </tr>\n",
       "    <tr>\n",
       "      <th>4</th>\n",
       "      <td>3939</td>\n",
       "      <td>122</td>\n",
       "    </tr>\n",
       "  </tbody>\n",
       "</table>\n",
       "</div>"
      ],
      "text/plain": [
       "   community  node_count\n",
       "0      10653         237\n",
       "1       1770         193\n",
       "2        993         165\n",
       "3       9576         163\n",
       "4       3939         122"
      ]
     },
     "execution_count": 72,
     "metadata": {},
     "output_type": "execute_result"
    }
   ],
   "source": [
    "community_node_counts = community_df['community'].value_counts()\n",
    "\n",
    "community_size_df = pd.DataFrame(community_node_counts).reset_index()\n",
    "community_size_df.columns = ['community', 'node_count']\n",
    "\n",
    "# just to speed up this experiment\n",
    "community_size_df = community_size_df[community_size_df['node_count'] > 10]\n",
    "\n",
    "community_size_df.head()"
   ]
  },
  {
   "cell_type": "code",
   "execution_count": 73,
   "id": "77719ff7",
   "metadata": {},
   "outputs": [
    {
     "data": {
      "text/plain": [
       "(418, 2)"
      ]
     },
     "execution_count": 73,
     "metadata": {},
     "output_type": "execute_result"
    }
   ],
   "source": [
    "community_size_df.shape"
   ]
  },
  {
   "cell_type": "markdown",
   "id": "65a4daaa",
   "metadata": {},
   "source": [
    "## Capture Community Context"
   ]
  },
  {
   "cell_type": "code",
   "execution_count": 74,
   "id": "0e3ebd1c",
   "metadata": {},
   "outputs": [],
   "source": [
    "def get_community_nodes(community_df, community):\n",
    "\n",
    "    return sorted(community_df[community_df['community']==community]['node'].values)"
   ]
  },
  {
   "cell_type": "code",
   "execution_count": 75,
   "id": "c8edef19",
   "metadata": {},
   "outputs": [],
   "source": [
    "def get_community_context(community_size_df, community_df, G):\n",
    "\n",
    "    G = G.copy()\n",
    "\n",
    "    communities = {}\n",
    "\n",
    "    for row in community_size_df.iterrows():\n",
    "\n",
    "        data = row[1]\n",
    "        community = data['community']\n",
    "        node_count = data['node_count']\n",
    "        \n",
    "        nodes = get_community_nodes(community_df, community)\n",
    "        G_sub = G.subgraph(nodes)\n",
    "\n",
    "        # starting with density today; will add on more context later\n",
    "        density = nx.density(G_sub)\n",
    "        \n",
    "        communities[community] = {}\n",
    "\n",
    "        communities[community]['G'] = G_sub\n",
    "        communities[community]['density'] = density\n",
    "        communities[community]['node_count'] = len(G_sub.nodes)\n",
    "        \n",
    "    return communities"
   ]
  },
  {
   "cell_type": "code",
   "execution_count": 76,
   "id": "88142c5f",
   "metadata": {},
   "outputs": [
    {
     "data": {
      "text/html": [
       "<div>\n",
       "<style scoped>\n",
       "    .dataframe tbody tr th:only-of-type {\n",
       "        vertical-align: middle;\n",
       "    }\n",
       "\n",
       "    .dataframe tbody tr th {\n",
       "        vertical-align: top;\n",
       "    }\n",
       "\n",
       "    .dataframe thead th {\n",
       "        text-align: right;\n",
       "    }\n",
       "</style>\n",
       "<table border=\"1\" class=\"dataframe\">\n",
       "  <thead>\n",
       "    <tr style=\"text-align: right;\">\n",
       "      <th></th>\n",
       "      <th>node</th>\n",
       "      <th>community</th>\n",
       "    </tr>\n",
       "  </thead>\n",
       "  <tbody>\n",
       "    <tr>\n",
       "      <th>0</th>\n",
       "      <td>Alenka {Č}opi{č}</td>\n",
       "      <td>0</td>\n",
       "    </tr>\n",
       "    <tr>\n",
       "      <th>1</th>\n",
       "      <td>Thibaud Dieudonné</td>\n",
       "      <td>0</td>\n",
       "    </tr>\n",
       "    <tr>\n",
       "      <th>2</th>\n",
       "      <td>Guillaume Lenoir</td>\n",
       "      <td>0</td>\n",
       "    </tr>\n",
       "    <tr>\n",
       "      <th>3</th>\n",
       "      <td>Michele Ambrosino</td>\n",
       "      <td>4</td>\n",
       "    </tr>\n",
       "    <tr>\n",
       "      <th>4</th>\n",
       "      <td>Manar Mahmalji</td>\n",
       "      <td>4</td>\n",
       "    </tr>\n",
       "  </tbody>\n",
       "</table>\n",
       "</div>"
      ],
      "text/plain": [
       "                node  community\n",
       "0   Alenka {Č}opi{č}          0\n",
       "1  Thibaud Dieudonné          0\n",
       "2   Guillaume Lenoir          0\n",
       "3  Michele Ambrosino          4\n",
       "4     Manar Mahmalji          4"
      ]
     },
     "execution_count": 76,
     "metadata": {},
     "output_type": "execute_result"
    }
   ],
   "source": [
    "community_df.head()"
   ]
  },
  {
   "cell_type": "code",
   "execution_count": 77,
   "id": "024410cd",
   "metadata": {},
   "outputs": [
    {
     "data": {
      "text/html": [
       "<div>\n",
       "<style scoped>\n",
       "    .dataframe tbody tr th:only-of-type {\n",
       "        vertical-align: middle;\n",
       "    }\n",
       "\n",
       "    .dataframe tbody tr th {\n",
       "        vertical-align: top;\n",
       "    }\n",
       "\n",
       "    .dataframe thead th {\n",
       "        text-align: right;\n",
       "    }\n",
       "</style>\n",
       "<table border=\"1\" class=\"dataframe\">\n",
       "  <thead>\n",
       "    <tr style=\"text-align: right;\">\n",
       "      <th></th>\n",
       "      <th>community</th>\n",
       "      <th>node_count</th>\n",
       "    </tr>\n",
       "  </thead>\n",
       "  <tbody>\n",
       "    <tr>\n",
       "      <th>0</th>\n",
       "      <td>10653</td>\n",
       "      <td>237</td>\n",
       "    </tr>\n",
       "  </tbody>\n",
       "</table>\n",
       "</div>"
      ],
      "text/plain": [
       "   community  node_count\n",
       "0      10653         237"
      ]
     },
     "execution_count": 77,
     "metadata": {},
     "output_type": "execute_result"
    }
   ],
   "source": [
    "community_size_df.head(1)"
   ]
  },
  {
   "cell_type": "code",
   "execution_count": 78,
   "id": "82447ce7",
   "metadata": {},
   "outputs": [],
   "source": [
    "community_context_dict = get_community_context(community_size_df, community_df, G)"
   ]
  },
  {
   "cell_type": "code",
   "execution_count": 79,
   "id": "fb8dc673",
   "metadata": {},
   "outputs": [
    {
     "data": {
      "text/html": [
       "<div>\n",
       "<style scoped>\n",
       "    .dataframe tbody tr th:only-of-type {\n",
       "        vertical-align: middle;\n",
       "    }\n",
       "\n",
       "    .dataframe tbody tr th {\n",
       "        vertical-align: top;\n",
       "    }\n",
       "\n",
       "    .dataframe thead th {\n",
       "        text-align: right;\n",
       "    }\n",
       "</style>\n",
       "<table border=\"1\" class=\"dataframe\">\n",
       "  <thead>\n",
       "    <tr style=\"text-align: right;\">\n",
       "      <th></th>\n",
       "      <th>community</th>\n",
       "      <th>G</th>\n",
       "      <th>density</th>\n",
       "      <th>node_count</th>\n",
       "    </tr>\n",
       "  </thead>\n",
       "  <tbody>\n",
       "    <tr>\n",
       "      <th>0</th>\n",
       "      <td>10653</td>\n",
       "      <td>(P. Gorla, G. Pettinari, C. Rosenfeld, M. Chap...</td>\n",
       "      <td>0.552242</td>\n",
       "      <td>237</td>\n",
       "    </tr>\n",
       "    <tr>\n",
       "      <th>1</th>\n",
       "      <td>1770</td>\n",
       "      <td>(B. Lehnert, GERDA Collaboration, E. Andreotti...</td>\n",
       "      <td>0.585816</td>\n",
       "      <td>193</td>\n",
       "    </tr>\n",
       "    <tr>\n",
       "      <th>24</th>\n",
       "      <td>7787</td>\n",
       "      <td>(Jeffrey S. Pigott, Renyu Hu, Lars P. Stixrude...</td>\n",
       "      <td>0.424947</td>\n",
       "      <td>44</td>\n",
       "    </tr>\n",
       "    <tr>\n",
       "      <th>45</th>\n",
       "      <td>1312</td>\n",
       "      <td>(R. S. Boiko, R. B. Podviyanuk, I. A. Tupitsyn...</td>\n",
       "      <td>0.473118</td>\n",
       "      <td>31</td>\n",
       "    </tr>\n",
       "    <tr>\n",
       "      <th>49</th>\n",
       "      <td>2019</td>\n",
       "      <td>(J. Debus, E. A. Chekhovich, T. Godde, D. N. K...</td>\n",
       "      <td>0.514778</td>\n",
       "      <td>29</td>\n",
       "    </tr>\n",
       "    <tr>\n",
       "      <th>99</th>\n",
       "      <td>3363</td>\n",
       "      <td>(E. Wagner, B. Canals, F. Montaigne, S. Le Den...</td>\n",
       "      <td>0.452381</td>\n",
       "      <td>21</td>\n",
       "    </tr>\n",
       "    <tr>\n",
       "      <th>101</th>\n",
       "      <td>6766</td>\n",
       "      <td>(Saurabh Singh, Thippa Reddy Gadekallu, Navod ...</td>\n",
       "      <td>0.433333</td>\n",
       "      <td>21</td>\n",
       "    </tr>\n",
       "    <tr>\n",
       "      <th>109</th>\n",
       "      <td>6690</td>\n",
       "      <td>(Jiayuan Mao, Andrei Barbu, Aviv Netanyahu, El...</td>\n",
       "      <td>0.352381</td>\n",
       "      <td>21</td>\n",
       "    </tr>\n",
       "    <tr>\n",
       "      <th>110</th>\n",
       "      <td>5583</td>\n",
       "      <td>(J. C. Hardy, H. I. Park, C. A. Gagliardi, X. ...</td>\n",
       "      <td>0.557143</td>\n",
       "      <td>21</td>\n",
       "    </tr>\n",
       "    <tr>\n",
       "      <th>113</th>\n",
       "      <td>5150</td>\n",
       "      <td>(A. N. Shubin, F. F. Karpeshin, S. I. Panasenk...</td>\n",
       "      <td>0.561905</td>\n",
       "      <td>21</td>\n",
       "    </tr>\n",
       "    <tr>\n",
       "      <th>187</th>\n",
       "      <td>596</td>\n",
       "      <td>(Marlon Dumas, Fabrizio M. Maggi, Artem Polyvy...</td>\n",
       "      <td>0.380952</td>\n",
       "      <td>15</td>\n",
       "    </tr>\n",
       "    <tr>\n",
       "      <th>198</th>\n",
       "      <td>261</td>\n",
       "      <td>(Hao Sun, Jingyuan Wen, Kai Zheng, Jiajun Liu,...</td>\n",
       "      <td>0.52381</td>\n",
       "      <td>15</td>\n",
       "    </tr>\n",
       "    <tr>\n",
       "      <th>229</th>\n",
       "      <td>6750</td>\n",
       "      <td>(Artur Kasymov, Tomasz Trzciński, Krzysztof Bu...</td>\n",
       "      <td>0.527473</td>\n",
       "      <td>14</td>\n",
       "    </tr>\n",
       "    <tr>\n",
       "      <th>243</th>\n",
       "      <td>3578</td>\n",
       "      <td>(Cam Le, Canh Vu, Dusan Salovic, Khoa Tran, Da...</td>\n",
       "      <td>0.435897</td>\n",
       "      <td>13</td>\n",
       "    </tr>\n",
       "    <tr>\n",
       "      <th>263</th>\n",
       "      <td>7864</td>\n",
       "      <td>(Jyoti Narwariya, Gaurangi Anand, Lovekesh Vig...</td>\n",
       "      <td>0.525641</td>\n",
       "      <td>13</td>\n",
       "    </tr>\n",
       "    <tr>\n",
       "      <th>293</th>\n",
       "      <td>3996</td>\n",
       "      <td>(P. Boduch, A. Bergantini, S. Pilling, E. Bala...</td>\n",
       "      <td>0.590909</td>\n",
       "      <td>12</td>\n",
       "    </tr>\n",
       "    <tr>\n",
       "      <th>335</th>\n",
       "      <td>10335</td>\n",
       "      <td>(Huan Zhao, Zhen Xu, Wenyuan Dai, Quanming Yao...</td>\n",
       "      <td>0.545455</td>\n",
       "      <td>12</td>\n",
       "    </tr>\n",
       "  </tbody>\n",
       "</table>\n",
       "</div>"
      ],
      "text/plain": [
       "     community                                                  G   density  \\\n",
       "0        10653  (P. Gorla, G. Pettinari, C. Rosenfeld, M. Chap...  0.552242   \n",
       "1         1770  (B. Lehnert, GERDA Collaboration, E. Andreotti...  0.585816   \n",
       "24        7787  (Jeffrey S. Pigott, Renyu Hu, Lars P. Stixrude...  0.424947   \n",
       "45        1312  (R. S. Boiko, R. B. Podviyanuk, I. A. Tupitsyn...  0.473118   \n",
       "49        2019  (J. Debus, E. A. Chekhovich, T. Godde, D. N. K...  0.514778   \n",
       "99        3363  (E. Wagner, B. Canals, F. Montaigne, S. Le Den...  0.452381   \n",
       "101       6766  (Saurabh Singh, Thippa Reddy Gadekallu, Navod ...  0.433333   \n",
       "109       6690  (Jiayuan Mao, Andrei Barbu, Aviv Netanyahu, El...  0.352381   \n",
       "110       5583  (J. C. Hardy, H. I. Park, C. A. Gagliardi, X. ...  0.557143   \n",
       "113       5150  (A. N. Shubin, F. F. Karpeshin, S. I. Panasenk...  0.561905   \n",
       "187        596  (Marlon Dumas, Fabrizio M. Maggi, Artem Polyvy...  0.380952   \n",
       "198        261  (Hao Sun, Jingyuan Wen, Kai Zheng, Jiajun Liu,...   0.52381   \n",
       "229       6750  (Artur Kasymov, Tomasz Trzciński, Krzysztof Bu...  0.527473   \n",
       "243       3578  (Cam Le, Canh Vu, Dusan Salovic, Khoa Tran, Da...  0.435897   \n",
       "263       7864  (Jyoti Narwariya, Gaurangi Anand, Lovekesh Vig...  0.525641   \n",
       "293       3996  (P. Boduch, A. Bergantini, S. Pilling, E. Bala...  0.590909   \n",
       "335      10335  (Huan Zhao, Zhen Xu, Wenyuan Dai, Quanming Yao...  0.545455   \n",
       "\n",
       "    node_count  \n",
       "0          237  \n",
       "1          193  \n",
       "24          44  \n",
       "45          31  \n",
       "49          29  \n",
       "99          21  \n",
       "101         21  \n",
       "109         21  \n",
       "110         21  \n",
       "113         21  \n",
       "187         15  \n",
       "198         15  \n",
       "229         14  \n",
       "243         13  \n",
       "263         13  \n",
       "293         12  \n",
       "335         12  "
      ]
     },
     "execution_count": 79,
     "metadata": {},
     "output_type": "execute_result"
    }
   ],
   "source": [
    "community_context_df = pd.DataFrame(community_context_dict).T.reset_index()\n",
    "community_context_df.columns = ['community', 'G', 'density', 'node_count']\n",
    "\n",
    "# drop dense\n",
    "community_context_df = community_context_df[community_context_df['density']<0.6]\n",
    "\n",
    "community_context_df.head(20)"
   ]
  },
  {
   "cell_type": "markdown",
   "id": "bcb83c40",
   "metadata": {},
   "source": [
    "#### Investigate Communities"
   ]
  },
  {
   "cell_type": "code",
   "execution_count": 80,
   "id": "870a2122",
   "metadata": {},
   "outputs": [
    {
     "data": {
      "image/svg+xml": [
       "<svg xmlns=\"http://www.w3.org/2000/svg\" width=\"910.0\" height=\"540\">\n",
       "<path stroke-width=\"0.2\" stroke=\"gray\" d=\"M 227 343 256 20\"/>\n",
       "<path stroke-width=\"0.2\" stroke=\"gray\" d=\"M 91 283 259 482\"/>\n",
       "<path stroke-width=\"0.2\" stroke=\"gray\" d=\"M 91 283 180 219\"/>\n",
       "<path stroke-width=\"0.2\" stroke=\"gray\" d=\"M 91 283 108 520\"/>\n",
       "<path stroke-width=\"0.2\" stroke=\"gray\" d=\"M 91 283 20 407\"/>\n",
       "<path stroke-width=\"0.2\" stroke=\"gray\" d=\"M 91 283 364 268\"/>\n",
       "<path stroke-width=\"0.2\" stroke=\"gray\" d=\"M 91 283 227 343\"/>\n",
       "<path stroke-width=\"0.2\" stroke=\"gray\" d=\"M 259 482 443 206\"/>\n",
       "<path stroke-width=\"0.2\" stroke=\"gray\" d=\"M 259 482 91 283\"/>\n",
       "<path stroke-width=\"0.2\" stroke=\"gray\" d=\"M 259 482 180 219\"/>\n",
       "<path stroke-width=\"0.2\" stroke=\"gray\" d=\"M 259 482 108 520\"/>\n",
       "<path stroke-width=\"0.2\" stroke=\"gray\" d=\"M 259 482 20 407\"/>\n",
       "<path stroke-width=\"0.2\" stroke=\"gray\" d=\"M 259 482 364 268\"/>\n",
       "<path stroke-width=\"0.2\" stroke=\"gray\" d=\"M 259 482 227 343\"/>\n",
       "<path stroke-width=\"0.2\" stroke=\"gray\" d=\"M 180 219 443 206\"/>\n",
       "<path stroke-width=\"0.2\" stroke=\"gray\" d=\"M 180 219 91 283\"/>\n",
       "<path stroke-width=\"0.2\" stroke=\"gray\" d=\"M 91 283 443 206\"/>\n",
       "<path stroke-width=\"0.2\" stroke=\"gray\" d=\"M 694 290 364 268\"/>\n",
       "<path stroke-width=\"0.2\" stroke=\"gray\" d=\"M 694 290 443 206\"/>\n",
       "<path stroke-width=\"0.2\" stroke=\"gray\" d=\"M 694 290 720 141\"/>\n",
       "<path stroke-width=\"0.2\" stroke=\"gray\" d=\"M 624 30 694 290\"/>\n",
       "<path stroke-width=\"0.2\" stroke=\"gray\" d=\"M 624 30 364 268\"/>\n",
       "<path stroke-width=\"0.2\" stroke=\"gray\" d=\"M 720 141 624 30\"/>\n",
       "<path stroke-width=\"0.2\" stroke=\"gray\" d=\"M 720 141 443 206\"/>\n",
       "<path stroke-width=\"0.2\" stroke=\"gray\" d=\"M 720 141 694 290\"/>\n",
       "<path stroke-width=\"0.2\" stroke=\"gray\" d=\"M 720 141 364 268\"/>\n",
       "<path stroke-width=\"0.2\" stroke=\"gray\" d=\"M 443 206 624 30\"/>\n",
       "<path stroke-width=\"0.2\" stroke=\"gray\" d=\"M 180 219 259 482\"/>\n",
       "<path stroke-width=\"0.2\" stroke=\"gray\" d=\"M 443 206 720 141\"/>\n",
       "<path stroke-width=\"0.2\" stroke=\"gray\" d=\"M 443 206 91 283\"/>\n",
       "<path stroke-width=\"0.2\" stroke=\"gray\" d=\"M 443 206 259 482\"/>\n",
       "<path stroke-width=\"0.2\" stroke=\"gray\" d=\"M 443 206 180 219\"/>\n",
       "<path stroke-width=\"0.2\" stroke=\"gray\" d=\"M 443 206 364 268\"/>\n",
       "<path stroke-width=\"0.2\" stroke=\"gray\" d=\"M 443 206 256 20\"/>\n",
       "<path stroke-width=\"0.2\" stroke=\"gray\" d=\"M 443 206 227 343\"/>\n",
       "<path stroke-width=\"0.2\" stroke=\"gray\" d=\"M 694 290 624 30\"/>\n",
       "<path stroke-width=\"0.2\" stroke=\"gray\" d=\"M 443 206 694 290\"/>\n",
       "<path stroke-width=\"0.2\" stroke=\"gray\" d=\"M 180 219 108 520\"/>\n",
       "<path stroke-width=\"0.2\" stroke=\"gray\" d=\"M 180 219 20 407\"/>\n",
       "<path stroke-width=\"0.2\" stroke=\"gray\" d=\"M 180 219 364 268\"/>\n",
       "<path stroke-width=\"0.2\" stroke=\"gray\" d=\"M 364 268 180 219\"/>\n",
       "<path stroke-width=\"0.2\" stroke=\"gray\" d=\"M 364 268 108 520\"/>\n",
       "<path stroke-width=\"0.2\" stroke=\"gray\" d=\"M 364 268 20 407\"/>\n",
       "<path stroke-width=\"0.2\" stroke=\"gray\" d=\"M 364 268 256 20\"/>\n",
       "<path stroke-width=\"0.2\" stroke=\"gray\" d=\"M 364 268 227 343\"/>\n",
       "<path stroke-width=\"0.2\" stroke=\"gray\" d=\"M 256 20 443 206\"/>\n",
       "<path stroke-width=\"0.2\" stroke=\"gray\" d=\"M 256 20 180 219\"/>\n",
       "<path stroke-width=\"0.2\" stroke=\"gray\" d=\"M 364 268 259 482\"/>\n",
       "<path stroke-width=\"0.2\" stroke=\"gray\" d=\"M 256 20 364 268\"/>\n",
       "<path stroke-width=\"0.2\" stroke=\"gray\" d=\"M 227 343 443 206\"/>\n",
       "<path stroke-width=\"0.2\" stroke=\"gray\" d=\"M 227 343 91 283\"/>\n",
       "<path stroke-width=\"0.2\" stroke=\"gray\" d=\"M 227 343 259 482\"/>\n",
       "<path stroke-width=\"0.2\" stroke=\"gray\" d=\"M 227 343 180 219\"/>\n",
       "<path stroke-width=\"0.2\" stroke=\"gray\" d=\"M 227 343 108 520\"/>\n",
       "<path stroke-width=\"0.2\" stroke=\"gray\" d=\"M 227 343 20 407\"/>\n",
       "<path stroke-width=\"0.2\" stroke=\"gray\" d=\"M 227 343 364 268\"/>\n",
       "<path stroke-width=\"0.2\" stroke=\"gray\" d=\"M 256 20 227 343\"/>\n",
       "<path stroke-width=\"0.2\" stroke=\"gray\" d=\"M 624 30 443 206\"/>\n",
       "<path stroke-width=\"0.2\" stroke=\"gray\" d=\"M 364 268 91 283\"/>\n",
       "<path stroke-width=\"0.2\" stroke=\"gray\" d=\"M 364 268 443 206\"/>\n",
       "<path stroke-width=\"0.2\" stroke=\"gray\" d=\"M 180 219 256 20\"/>\n",
       "<path stroke-width=\"0.2\" stroke=\"gray\" d=\"M 180 219 227 343\"/>\n",
       "<path stroke-width=\"0.2\" stroke=\"gray\" d=\"M 108 520 91 283\"/>\n",
       "<path stroke-width=\"0.2\" stroke=\"gray\" d=\"M 108 520 259 482\"/>\n",
       "<path stroke-width=\"0.2\" stroke=\"gray\" d=\"M 108 520 180 219\"/>\n",
       "<path stroke-width=\"0.2\" stroke=\"gray\" d=\"M 108 520 20 407\"/>\n",
       "<path stroke-width=\"0.2\" stroke=\"gray\" d=\"M 108 520 364 268\"/>\n",
       "<path stroke-width=\"0.2\" stroke=\"gray\" d=\"M 364 268 694 290\"/>\n",
       "<path stroke-width=\"0.2\" stroke=\"gray\" d=\"M 108 520 227 343\"/>\n",
       "<path stroke-width=\"0.2\" stroke=\"gray\" d=\"M 20 407 259 482\"/>\n",
       "<path stroke-width=\"0.2\" stroke=\"gray\" d=\"M 20 407 180 219\"/>\n",
       "<path stroke-width=\"0.2\" stroke=\"gray\" d=\"M 20 407 108 520\"/>\n",
       "<path stroke-width=\"0.2\" stroke=\"gray\" d=\"M 20 407 364 268\"/>\n",
       "<path stroke-width=\"0.2\" stroke=\"gray\" d=\"M 20 407 227 343\"/>\n",
       "<path stroke-width=\"0.2\" stroke=\"gray\" d=\"M 364 268 624 30\"/>\n",
       "<path stroke-width=\"0.2\" stroke=\"gray\" d=\"M 364 268 720 141\"/>\n",
       "<path stroke-width=\"0.2\" stroke=\"gray\" d=\"M 20 407 91 283\"/>\n",
       "<path stroke-width=\"0.2\" stroke=\"gray\" d=\"M 624 30 720 141\"/>\n",
       "<circle cx=\"227\" cy=\"343\" r=\"3.0\" style=\"fill:rgb(230, 215, 207);stroke:black;stroke-width:1.0\"/>\n",
       "<circle cx=\"256\" cy=\"20\" r=\"3.0\" style=\"fill:rgb(58, 76, 192);stroke:black;stroke-width:1.0\"/>\n",
       "<circle cx=\"364\" cy=\"268\" r=\"3.0\" style=\"fill:rgb(179, 3, 38);stroke:black;stroke-width:1.0\"/>\n",
       "<circle cx=\"20\" cy=\"407\" r=\"3.0\" style=\"fill:rgb(141, 175, 253);stroke:black;stroke-width:1.0\"/>\n",
       "<circle cx=\"108\" cy=\"520\" r=\"3.0\" style=\"fill:rgb(141, 175, 253);stroke:black;stroke-width:1.0\"/>\n",
       "<circle cx=\"180\" cy=\"219\" r=\"3.0\" style=\"fill:rgb(230, 215, 207);stroke:black;stroke-width:1.0\"/>\n",
       "<circle cx=\"259\" cy=\"482\" r=\"3.0\" style=\"fill:rgb(189, 210, 246);stroke:black;stroke-width:1.0\"/>\n",
       "<circle cx=\"91\" cy=\"283\" r=\"3.0\" style=\"fill:rgb(189, 210, 246);stroke:black;stroke-width:1.0\"/>\n",
       "<circle cx=\"694\" cy=\"290\" r=\"3.0\" style=\"fill:rgb(70, 93, 207);stroke:black;stroke-width:1.0\"/>\n",
       "<circle cx=\"443\" cy=\"206\" r=\"3.0\" style=\"fill:rgb(245, 161, 130);stroke:black;stroke-width:1.0\"/>\n",
       "<circle cx=\"720\" cy=\"141\" r=\"3.0\" style=\"fill:rgb(70, 93, 207);stroke:black;stroke-width:1.0\"/>\n",
       "<circle cx=\"624\" cy=\"30\" r=\"3.0\" style=\"fill:rgb(70, 93, 207);stroke:black;stroke-width:1.0\"/>\n",
       "<text text-anchor=\"start\" x=\"233\" y=\"343\" font-size=\"10\">P. Boduch</text><text text-anchor=\"start\" x=\"262\" y=\"20\" font-size=\"10\">A. Bergantini</text><text text-anchor=\"start\" x=\"370\" y=\"268\" font-size=\"10\">S. Pilling</text><text text-anchor=\"start\" x=\"26\" y=\"407\" font-size=\"10\">E. Balanzat</text><text text-anchor=\"start\" x=\"114\" y=\"520\" font-size=\"10\">E. Seperuelo Duarte</text><text text-anchor=\"start\" x=\"186\" y=\"219\" font-size=\"10\">H. Rothard</text><text text-anchor=\"start\" x=\"265\" y=\"482\" font-size=\"10\">E. F. da Silveira</text><text text-anchor=\"start\" x=\"97\" y=\"283\" font-size=\"10\">A. Domaracka</text><text text-anchor=\"start\" x=\"700\" y=\"290\" font-size=\"10\">R. Rittner</text><text text-anchor=\"start\" x=\"449\" y=\"206\" font-size=\"10\">D. P. P. Andrade</text><text text-anchor=\"start\" x=\"726\" y=\"141\" font-size=\"10\">A. Naves de Brito</text><text text-anchor=\"start\" x=\"630\" y=\"30\" font-size=\"10\">Alvaro C. Neto</text></svg>"
      ],
      "text/plain": [
       "<IPython.core.display.SVG object>"
      ]
     },
     "execution_count": 80,
     "metadata": {},
     "output_type": "execute_result"
    }
   ],
   "source": [
    "G_check = community_context_dict[3996]['G']\n",
    "draw_graph(G_check, show_names=True, node_size=3, edge_width=0.2)"
   ]
  },
  {
   "cell_type": "markdown",
   "id": "a2419430",
   "metadata": {},
   "source": [
    "# Interactive Exploration\n",
    "\n",
    "I'll use G_check graph with libraries for interactive exploration.\n",
    "\n",
    "So far, not worth the effort of getting it to open in the notebook directly. I get this error. Will open in a tab instead.\n",
    "\n",
    "Error:\n",
    "'charmap' codec can't encode characters in position 263607-263621: character maps to <undefined>"
   ]
  },
  {
   "cell_type": "code",
   "execution_count": 81,
   "id": "476b40c1",
   "metadata": {},
   "outputs": [],
   "source": [
    "#!pip install pyvis --upgrade --user"
   ]
  },
  {
   "cell_type": "code",
   "execution_count": 82,
   "id": "a180bcca",
   "metadata": {},
   "outputs": [],
   "source": [
    "from pyvis.network import Network"
   ]
  },
  {
   "cell_type": "code",
   "execution_count": 83,
   "id": "31fe123d",
   "metadata": {},
   "outputs": [
    {
     "name": "stdout",
     "output_type": "stream",
     "text": [
      "C:/Users/itsgo/PythonCode/100daysofnetworks/pyvis/arxiv_community.html\n"
     ]
    }
   ],
   "source": [
    "# point to the full path or else jupyter might fail to open it even outside of jupyter; edge will try and fail\n",
    "pyvis_file = r'C:/Users/itsgo/PythonCode/100daysofnetworks/pyvis/arxiv_community.html' \n",
    "\n",
    "# flip between communities to explore\n",
    "#G_check = community_context_dict[communities[3]]['G']\n",
    "\n",
    "net = Network(height='900px') # tweak for your browser; can also do width\n",
    "net.from_nx(G_check)\n",
    "# net.show_buttons() # gives you additional buttons at the bottom\n",
    "net.show(pyvis_file, notebook=False) # can't get notebook=True to work yet..."
   ]
  },
  {
   "cell_type": "markdown",
   "id": "8e35ef7c",
   "metadata": {},
   "source": [
    "# Interactive Exploration - Graphistry\n",
    "\n",
    "The original dataframe won't be useful as an input dataframe for graphistry, as we had a step for bipartite projection. The first thing we need to do is convert our projected graph back into an edgelist, and we'll use that edgelist with graphistry.\n",
    "\n",
    "https://github.com/graphistry/pygraphistry"
   ]
  },
  {
   "cell_type": "code",
   "execution_count": 85,
   "id": "e6911b01",
   "metadata": {},
   "outputs": [],
   "source": [
    "#! pip install --user graphistry[bolt,gremlin,nodexl,igraph,networkx]"
   ]
  },
  {
   "cell_type": "code",
   "execution_count": 97,
   "id": "39ec7415",
   "metadata": {},
   "outputs": [],
   "source": [
    "import graphistry"
   ]
  },
  {
   "cell_type": "code",
   "execution_count": 98,
   "id": "3e895499",
   "metadata": {},
   "outputs": [],
   "source": [
    "# Authenticate\n",
    "\n",
    "cred_file = '../api_creds/graphistry.csv'\n",
    "\n",
    "cred_df = pd.read_csv(cred_file)\n",
    "\n",
    "personal_key_id = cred_df['personal_key_id'].values[0]\n",
    "personal_key_secret = cred_df['personal_key_secret'].values[0]\n",
    "\n",
    "graphistry.register(api=3, personal_key_id=personal_key_id, personal_key_secret=personal_key_secret)"
   ]
  },
  {
   "cell_type": "code",
   "execution_count": 100,
   "id": "455608d7",
   "metadata": {},
   "outputs": [
    {
     "data": {
      "text/html": [
       "<div>\n",
       "<style scoped>\n",
       "    .dataframe tbody tr th:only-of-type {\n",
       "        vertical-align: middle;\n",
       "    }\n",
       "\n",
       "    .dataframe tbody tr th {\n",
       "        vertical-align: top;\n",
       "    }\n",
       "\n",
       "    .dataframe thead th {\n",
       "        text-align: right;\n",
       "    }\n",
       "</style>\n",
       "<table border=\"1\" class=\"dataframe\">\n",
       "  <thead>\n",
       "    <tr style=\"text-align: right;\">\n",
       "      <th></th>\n",
       "      <th>source</th>\n",
       "      <th>target</th>\n",
       "    </tr>\n",
       "  </thead>\n",
       "  <tbody>\n",
       "    <tr>\n",
       "      <th>0</th>\n",
       "      <td>Alenka {Č}opi{č}</td>\n",
       "      <td>Thibaud Dieudonné</td>\n",
       "    </tr>\n",
       "    <tr>\n",
       "      <th>1</th>\n",
       "      <td>Alenka {Č}opi{č}</td>\n",
       "      <td>Guillaume Lenoir</td>\n",
       "    </tr>\n",
       "    <tr>\n",
       "      <th>2</th>\n",
       "      <td>Thibaud Dieudonné</td>\n",
       "      <td>Guillaume Lenoir</td>\n",
       "    </tr>\n",
       "    <tr>\n",
       "      <th>3</th>\n",
       "      <td>Michele Ambrosino</td>\n",
       "      <td>Emanuele Garone</td>\n",
       "    </tr>\n",
       "    <tr>\n",
       "      <th>4</th>\n",
       "      <td>Michele Ambrosino</td>\n",
       "      <td>Manar Mahmalji</td>\n",
       "    </tr>\n",
       "  </tbody>\n",
       "</table>\n",
       "</div>"
      ],
      "text/plain": [
       "              source             target\n",
       "0   Alenka {Č}opi{č}  Thibaud Dieudonné\n",
       "1   Alenka {Č}opi{č}   Guillaume Lenoir\n",
       "2  Thibaud Dieudonné   Guillaume Lenoir\n",
       "3  Michele Ambrosino    Emanuele Garone\n",
       "4  Michele Ambrosino     Manar Mahmalji"
      ]
     },
     "execution_count": 100,
     "metadata": {},
     "output_type": "execute_result"
    }
   ],
   "source": [
    "# Convert Graph to Edgelist\n",
    "\n",
    "net_df = nx.to_pandas_edgelist(G)\n",
    "net_df.head()"
   ]
  },
  {
   "cell_type": "code",
   "execution_count": 101,
   "id": "19e2921c",
   "metadata": {},
   "outputs": [
    {
     "data": {
      "text/html": [
       "\n",
       "            <iframe id=\"5f6ede19-fc1a-4f23-b54f-6addcf26689c\" src=\"https://hub.graphistry.com/graph/graph.html?dataset=d119567ba4c04bd6a943ffb0ccbdd10d&type=arrow&viztoken=7c3ecf15-4891-41e0-b8a6-d06d0033b2f7&usertag=ee87e49f-pygraphistry-0.33.0&splashAfter=1703972758&info=true\"\n",
       "                    allowfullscreen=\"true\" webkitallowfullscreen=\"true\" mozallowfullscreen=\"true\"\n",
       "                    oallowfullscreen=\"true\" msallowfullscreen=\"true\"\n",
       "                    style=\"width:100%; height:500px; border: 1px solid #DDD; overflow: hidden\"\n",
       "                    \n",
       "            >\n",
       "            </iframe>\n",
       "        \n",
       "            <script>\n",
       "                try {\n",
       "                  $(\"#5f6ede19-fc1a-4f23-b54f-6addcf26689c\").bind('mousewheel', function(e) { e.preventDefault(); });\n",
       "                } catch (e) { console.error('exn catching scroll', e); }\n",
       "            </script>\n",
       "        "
      ],
      "text/plain": [
       "<IPython.core.display.HTML object>"
      ]
     },
     "execution_count": 101,
     "metadata": {},
     "output_type": "execute_result"
    }
   ],
   "source": [
    "# Visualize the Graph\n",
    "g = graphistry.edges(net_df, source='source', destination='target')\n",
    "g.plot()"
   ]
  },
  {
   "cell_type": "markdown",
   "id": "470bad80",
   "metadata": {},
   "source": [
    "# Conclusion\n",
    "\n",
    "Pyvis is nice to look at and interactive, and if you use .show_buttons() then you get a lot of flexibility for colors, edge widths, etc. HOWEVER, and this is a big however, pyvis seems to only scale to a couple dozen nodes, which makes it about useless for working with real-world networks. It took five minutes to render just over a hundred nodes, where the scikit-network approach will do that in less than two seconds. This notebook is complete. "
   ]
  },
  {
   "cell_type": "code",
   "execution_count": null,
   "id": "70145417",
   "metadata": {},
   "outputs": [],
   "source": []
  }
 ],
 "metadata": {
  "kernelspec": {
   "display_name": "Python 3 (ipykernel)",
   "language": "python",
   "name": "python3"
  },
  "language_info": {
   "codemirror_mode": {
    "name": "ipython",
    "version": 3
   },
   "file_extension": ".py",
   "mimetype": "text/x-python",
   "name": "python",
   "nbconvert_exporter": "python",
   "pygments_lexer": "ipython3",
   "version": "3.11.5"
  }
 },
 "nbformat": 4,
 "nbformat_minor": 5
}
