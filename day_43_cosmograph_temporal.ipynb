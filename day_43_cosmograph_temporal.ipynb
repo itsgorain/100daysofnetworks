{
 "cells": [
  {
   "cell_type": "code",
   "execution_count": 23,
   "id": "2d3b4959",
   "metadata": {},
   "outputs": [],
   "source": [
    "import pandas as pd\n",
    "import networkx as nx\n",
    "\n",
    "# for the explode statement; convert string to list\n",
    "from ast import literal_eval\n",
    "\n",
    "# for community detection\n",
    "import community as community_louvain"
   ]
  },
  {
   "cell_type": "markdown",
   "id": "30618257",
   "metadata": {},
   "source": [
    "# Temporal Network\n",
    "\n",
    "For temporal network visualization, this dataset is good enough for now. Ideally, I'd like to do bipartite projection and fetch the dates of each edge, but I'm struggling with that at the moment. To use Cosmograph's temporal capabilities, you need to have a \"date\" column. Just name it \"date\" and make sure it has temporal values."
   ]
  },
  {
   "cell_type": "code",
   "execution_count": 24,
   "id": "fe729c8a",
   "metadata": {},
   "outputs": [
    {
     "data": {
      "text/html": [
       "<div>\n",
       "<style scoped>\n",
       "    .dataframe tbody tr th:only-of-type {\n",
       "        vertical-align: middle;\n",
       "    }\n",
       "\n",
       "    .dataframe tbody tr th {\n",
       "        vertical-align: top;\n",
       "    }\n",
       "\n",
       "    .dataframe thead th {\n",
       "        text-align: right;\n",
       "    }\n",
       "</style>\n",
       "<table border=\"1\" class=\"dataframe\">\n",
       "  <thead>\n",
       "    <tr style=\"text-align: right;\">\n",
       "      <th></th>\n",
       "      <th>date</th>\n",
       "      <th>author</th>\n",
       "      <th>title</th>\n",
       "      <th>authors</th>\n",
       "    </tr>\n",
       "  </thead>\n",
       "  <tbody>\n",
       "    <tr>\n",
       "      <th>0</th>\n",
       "      <td>2023-10-18 14:50:39+00:00</td>\n",
       "      <td>Alessandro Scirè</td>\n",
       "      <td>Emergence and criticality in spatiotemporal sy...</td>\n",
       "      <td>Alessandro Scirè</td>\n",
       "    </tr>\n",
       "    <tr>\n",
       "      <th>1</th>\n",
       "      <td>2023-10-13 11:58:18+00:00</td>\n",
       "      <td>Lakshwin Shreesha</td>\n",
       "      <td>Role of Morphogenetic Competency on Evolution</td>\n",
       "      <td>Lakshwin Shreesha</td>\n",
       "    </tr>\n",
       "    <tr>\n",
       "      <th>2</th>\n",
       "      <td>2023-06-22 19:32:53+00:00</td>\n",
       "      <td>M Charity</td>\n",
       "      <td>Amorphous Fortress: Observing Emergent Behavio...</td>\n",
       "      <td>M Charity</td>\n",
       "    </tr>\n",
       "    <tr>\n",
       "      <th>3</th>\n",
       "      <td>2023-06-22 19:32:53+00:00</td>\n",
       "      <td>Dipika Rajesh</td>\n",
       "      <td>Amorphous Fortress: Observing Emergent Behavio...</td>\n",
       "      <td>Dipika Rajesh</td>\n",
       "    </tr>\n",
       "    <tr>\n",
       "      <th>4</th>\n",
       "      <td>2023-06-22 19:32:53+00:00</td>\n",
       "      <td>Sam Earle</td>\n",
       "      <td>Amorphous Fortress: Observing Emergent Behavio...</td>\n",
       "      <td>Sam Earle</td>\n",
       "    </tr>\n",
       "  </tbody>\n",
       "</table>\n",
       "</div>"
      ],
      "text/plain": [
       "                       date             author  \\\n",
       "0 2023-10-18 14:50:39+00:00   Alessandro Scirè   \n",
       "1 2023-10-13 11:58:18+00:00  Lakshwin Shreesha   \n",
       "2 2023-06-22 19:32:53+00:00          M Charity   \n",
       "3 2023-06-22 19:32:53+00:00      Dipika Rajesh   \n",
       "4 2023-06-22 19:32:53+00:00          Sam Earle   \n",
       "\n",
       "                                               title            authors  \n",
       "0  Emergence and criticality in spatiotemporal sy...   Alessandro Scirè  \n",
       "1      Role of Morphogenetic Competency on Evolution  Lakshwin Shreesha  \n",
       "2  Amorphous Fortress: Observing Emergent Behavio...          M Charity  \n",
       "3  Amorphous Fortress: Observing Emergent Behavio...      Dipika Rajesh  \n",
       "4  Amorphous Fortress: Observing Emergent Behavio...          Sam Earle  "
      ]
     },
     "execution_count": 24,
     "metadata": {},
     "output_type": "execute_result"
    }
   ],
   "source": [
    "data = r'data/arxiv_artificial_life_original.csv'\n",
    "\n",
    "df = pd.read_csv(data)\n",
    "df['authors'] = df['authors'].apply(literal_eval)\n",
    "\n",
    "# remove everything that doesn't mention artificial life explicitely in the summary; too aggressive, but useful for now\n",
    "mask = df['summary'].str.contains('artificial life', case=False)\n",
    "df = df[mask]\n",
    "\n",
    "df = df[['date_published', 'authors', 'title']]\n",
    "df.columns = ['date', 'author', 'title']\n",
    "df = df.explode('author')\n",
    "df.reset_index(drop=True, inplace=True)\n",
    "\n",
    "# fix the & so that scikit-network stops crashing; old legacy fix, probably not important for cosmograph\n",
    "df['authors'] = df['author'].str.replace('&', 'and')\n",
    "df['title'] = df['title'].str.replace('&', 'and')\n",
    "\n",
    "df['date'] = pd.to_datetime(df['date'])\n",
    "\n",
    "df.head()"
   ]
  },
  {
   "cell_type": "code",
   "execution_count": 25,
   "id": "986c8d98",
   "metadata": {},
   "outputs": [],
   "source": [
    "outfile = r'C:\\Users\\itsgo\\PythonCode\\100daysofnetworks\\data\\cosmograph\\temporal_artificial_life.csv'\n",
    "\n",
    "df.to_csv(outfile, index=False, header=True)"
   ]
  },
  {
   "cell_type": "markdown",
   "id": "98e2fbcb",
   "metadata": {},
   "source": [
    "# Arxiv: Refreshed\n",
    "\n",
    "I used the day 18 dataset builder to fetch some new data about Network Science and Artificial Intelligence. I will combine both of these datasets. The arxiv library seems a bit less reliable, now, and I'm not sure why. But it is able to pull datasets from Arxiv. Fetch smaller datasets, and smash them together.\n",
    "\n",
    "What I'm doing:\n",
    "- read csv data into indidual dataframes\n",
    "- concatenate them together: smoosh them together\n",
    "- rename the columns so that 'authors' is properly named as 'author', as each author will have it's own row\n",
    "- also, \"date_published\" should be named as \"date\" to work with cosmograph\n",
    "- save the combined data together"
   ]
  },
  {
   "cell_type": "code",
   "execution_count": 45,
   "id": "7a3c26ab",
   "metadata": {},
   "outputs": [
    {
     "data": {
      "text/html": [
       "<div>\n",
       "<style scoped>\n",
       "    .dataframe tbody tr th:only-of-type {\n",
       "        vertical-align: middle;\n",
       "    }\n",
       "\n",
       "    .dataframe tbody tr th {\n",
       "        vertical-align: top;\n",
       "    }\n",
       "\n",
       "    .dataframe thead th {\n",
       "        text-align: right;\n",
       "    }\n",
       "</style>\n",
       "<table border=\"1\" class=\"dataframe\">\n",
       "  <thead>\n",
       "    <tr style=\"text-align: right;\">\n",
       "      <th></th>\n",
       "      <th>date</th>\n",
       "      <th>author</th>\n",
       "      <th>title</th>\n",
       "    </tr>\n",
       "  </thead>\n",
       "  <tbody>\n",
       "    <tr>\n",
       "      <th>0</th>\n",
       "      <td>2025-01-15 07:37:46+00:00</td>\n",
       "      <td>Hartmut Löwen</td>\n",
       "      <td>Towards Intelligent Active Particles</td>\n",
       "    </tr>\n",
       "    <tr>\n",
       "      <th>0</th>\n",
       "      <td>2025-01-15 07:37:46+00:00</td>\n",
       "      <td>Benno Liebchen</td>\n",
       "      <td>Towards Intelligent Active Particles</td>\n",
       "    </tr>\n",
       "    <tr>\n",
       "      <th>1</th>\n",
       "      <td>2025-01-13 16:28:01+00:00</td>\n",
       "      <td>Rolf Pfister</td>\n",
       "      <td>Understanding and Benchmarking Artificial Inte...</td>\n",
       "    </tr>\n",
       "    <tr>\n",
       "      <th>1</th>\n",
       "      <td>2025-01-13 16:28:01+00:00</td>\n",
       "      <td>Hansueli Jud</td>\n",
       "      <td>Understanding and Benchmarking Artificial Inte...</td>\n",
       "    </tr>\n",
       "    <tr>\n",
       "      <th>2</th>\n",
       "      <td>2025-01-13 10:23:14+00:00</td>\n",
       "      <td>Gwénolé Abgrall</td>\n",
       "      <td>Synthetic Data and Health Privacy</td>\n",
       "    </tr>\n",
       "  </tbody>\n",
       "</table>\n",
       "</div>"
      ],
      "text/plain": [
       "                        date           author  \\\n",
       "0  2025-01-15 07:37:46+00:00    Hartmut Löwen   \n",
       "0  2025-01-15 07:37:46+00:00   Benno Liebchen   \n",
       "1  2025-01-13 16:28:01+00:00     Rolf Pfister   \n",
       "1  2025-01-13 16:28:01+00:00     Hansueli Jud   \n",
       "2  2025-01-13 10:23:14+00:00  Gwénolé Abgrall   \n",
       "\n",
       "                                               title  \n",
       "0               Towards Intelligent Active Particles  \n",
       "0               Towards Intelligent Active Particles  \n",
       "1  Understanding and Benchmarking Artificial Inte...  \n",
       "1  Understanding and Benchmarking Artificial Inte...  \n",
       "2                  Synthetic Data and Health Privacy  "
      ]
     },
     "execution_count": 45,
     "metadata": {},
     "output_type": "execute_result"
    }
   ],
   "source": [
    "data_1 = r'C:\\Users\\itsgo\\PythonCode\\100daysofnetworks\\data\\arxiv_ai_20250118.csv'\n",
    "data_2 = r'C:\\Users\\itsgo\\PythonCode\\100daysofnetworks\\data\\arxiv_network_science_20250118.csv'\n",
    "\n",
    "df_1 = pd.read_csv(data_1)\n",
    "df_2 = pd.read_csv(data_2)\n",
    "\n",
    "df = pd.concat([df_1, df_2])\n",
    "df = df[['date_published', 'authors', 'title']]\n",
    "df['authors'] = df['authors'].apply(literal_eval)\n",
    "df = df.explode('authors')\n",
    "df.drop_duplicates(inplace=True)\n",
    "df.columns = ['date', 'author', 'title']\n",
    "df.head()"
   ]
  },
  {
   "cell_type": "code",
   "execution_count": 46,
   "id": "bcdd713d",
   "metadata": {},
   "outputs": [
    {
     "data": {
      "text/plain": [
       "(4180, 3)"
      ]
     },
     "execution_count": 46,
     "metadata": {},
     "output_type": "execute_result"
    }
   ],
   "source": [
    "df.shape"
   ]
  },
  {
   "cell_type": "code",
   "execution_count": 47,
   "id": "72466449",
   "metadata": {},
   "outputs": [],
   "source": [
    "outfile = r'C:\\Users\\itsgo\\PythonCode\\100daysofnetworks\\data\\cosmograph\\temporal_ai_netsci.csv'\n",
    "\n",
    "df.to_csv(outfile, index=False, header=True)"
   ]
  }
 ],
 "metadata": {
  "kernelspec": {
   "display_name": "Python 3 (ipykernel)",
   "language": "python",
   "name": "python3"
  },
  "language_info": {
   "codemirror_mode": {
    "name": "ipython",
    "version": 3
   },
   "file_extension": ".py",
   "mimetype": "text/x-python",
   "name": "python",
   "nbconvert_exporter": "python",
   "pygments_lexer": "ipython3",
   "version": "3.11.5"
  }
 },
 "nbformat": 4,
 "nbformat_minor": 5
}
