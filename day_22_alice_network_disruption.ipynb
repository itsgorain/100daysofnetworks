{
 "cells": [
  {
   "cell_type": "code",
   "execution_count": 1,
   "id": "7423be59",
   "metadata": {},
   "outputs": [],
   "source": [
    "import networkx as nx\n",
    "import numpy as np\n",
    "import pandas as pd\n",
    "\n",
    "# for the explode statement; convert string to list\n",
    "from ast import literal_eval\n",
    "\n",
    "# for visualization\n",
    "from IPython.display import SVG \n",
    "from sknetwork.visualization import svg_graph \n",
    "from sknetwork.data import Bunch \n",
    "from sknetwork.ranking import PageRank \n",
    "\n",
    "# for bipartite projection\n",
    "from networkx.algorithms import bipartite\n",
    "\n",
    "# for text and NER\n",
    "from tqdm import tqdm\n",
    "import spacy\n",
    "import requests\n",
    "\n",
    "nlp = spacy.load(\"en_core_web_md\")"
   ]
  },
  {
   "cell_type": "code",
   "execution_count": 2,
   "id": "38a1e588",
   "metadata": {},
   "outputs": [],
   "source": [
    "def get_data(): \n",
    "\n",
    "    url = 'https://www.gutenberg.org/files/11/11-0.txt' \n",
    "    text = requests.get(url).text \n",
    "\n",
    "    # strip header junk \n",
    "    cutoff = text.index('Alice was beginning') \n",
    "    text = text[cutoff:] \n",
    "\n",
    "    # strip footer junk \n",
    "    cutoff = text.rindex('THE END') \n",
    "    text = text[:cutoff] \n",
    "\n",
    "    # pre-processing to clean the text \n",
    "    text = text.replace('\\r', ' ').replace('\\n', ' ') \n",
    "    text = text.replace('â\\x80\\x99', '\\'').replace('â\\x80\\x9c', '\"').replace('â\\x80\\x9d', '\"\"').replace('â\\x80\\x94', ' ') \n",
    "\n",
    "    return text"
   ]
  },
  {
   "cell_type": "code",
   "execution_count": 3,
   "id": "c88298e3",
   "metadata": {},
   "outputs": [],
   "source": [
    "def extract_entities(text): \n",
    "\n",
    "    doc = nlp(text) \n",
    "\n",
    "    sentences = list(doc.sents) \n",
    "\n",
    "    entities = [] \n",
    "\n",
    "    for sentence in tqdm(sentences): \n",
    "\n",
    "        sentence_entities = [] \n",
    "\n",
    "        sent_doc = nlp(sentence.text) \n",
    "\n",
    "        for ent in sent_doc.ents: \n",
    "\n",
    "            if ent.label_ in ['PERSON', 'ORG', 'GPE']: \n",
    "\n",
    "                entity = ent.text.strip() \n",
    "\n",
    "                if \"'s\" in entity: \n",
    "\n",
    "                    cutoff = entity.index(\"'s\") \n",
    "\n",
    "                    entity = entity[:cutoff] \n",
    "\n",
    "                if entity != '': \n",
    "\n",
    "                    sentence_entities.append(entity)   \n",
    "\n",
    "        sentence_entities = list(set(sentence_entities))       \n",
    "\n",
    "        if len(sentence_entities) > 0: # changed from 1 to zero to grab individuals from sentences; new idea after book\n",
    "\n",
    "            entities.append(sentence_entities) \n",
    "\n",
    "    return entities "
   ]
  },
  {
   "cell_type": "code",
   "execution_count": 4,
   "id": "102626ff",
   "metadata": {},
   "outputs": [],
   "source": [
    "def draw_graph(G, show_names=False, node_size=1, font_size=10, edge_width=0.5): \n",
    "\n",
    "    adjacency = nx.to_scipy_sparse_matrix(G, nodelist=None, dtype=None, weight='weight', format='csr') \n",
    "\n",
    "    names = np.array(list(G.nodes())) \n",
    "\n",
    "    graph = Bunch() \n",
    "    graph.adjacency = adjacency \n",
    "    graph.names = np.array(names) \n",
    "\n",
    "    pagerank = PageRank() \n",
    "\n",
    "    scores = pagerank.fit_transform(adjacency) \n",
    "\n",
    "    if show_names: \n",
    "        \n",
    "        image = svg_graph(graph.adjacency, font_size=font_size, node_size=node_size, names=graph.names, width=700, height=500, scores=scores, edge_width=edge_width) \n",
    "\n",
    "    else: \n",
    "\n",
    "        image = svg_graph(graph.adjacency, node_size=node_size, width=700, height=500, scores = scores, edge_width=edge_width) \n",
    "\n",
    "    return SVG(image) "
   ]
  },
  {
   "cell_type": "markdown",
   "id": "77a12aec",
   "metadata": {},
   "source": [
    "# Get Text"
   ]
  },
  {
   "cell_type": "code",
   "execution_count": 5,
   "id": "443c3cd4",
   "metadata": {},
   "outputs": [
    {
     "data": {
      "text/plain": [
       "'Alice was beginning to get very tired of sitting by her sister on the  bank, and of having nothing to do: once or twice she had peeped into  the book her sister was reading, but it had no pictures or  conversations in it, \"and what is the use of a book,\"\" thought Alice  \"without pictures or conversations?\"'"
      ]
     },
     "execution_count": 5,
     "metadata": {},
     "output_type": "execute_result"
    }
   ],
   "source": [
    "text = get_data()\n",
    "text[0:307]"
   ]
  },
  {
   "cell_type": "markdown",
   "id": "7984710a",
   "metadata": {},
   "source": [
    "# Extract Entities by Sentence"
   ]
  },
  {
   "cell_type": "code",
   "execution_count": 6,
   "id": "a599e622",
   "metadata": {},
   "outputs": [],
   "source": [
    "def drop_duplicate_entities(entities):\n",
    "\n",
    "    keep_entities = []\n",
    "\n",
    "    for entity_list in entities:\n",
    "\n",
    "        if entity_list not in keep_entities:\n",
    "            keep_entities.append(entity_list)\n",
    "\n",
    "    return keep_entities"
   ]
  },
  {
   "cell_type": "code",
   "execution_count": 7,
   "id": "dd5ac387",
   "metadata": {},
   "outputs": [
    {
     "name": "stderr",
     "output_type": "stream",
     "text": [
      "100%|██████████████████████████████████████████████████████████████████████████████| 2080/2080 [00:50<00:00, 41.59it/s]\n"
     ]
    },
    {
     "data": {
      "text/plain": [
       "[['Alice'],\n",
       " ['Alice', 'Rabbit'],\n",
       " ['Longitude', 'Alice'],\n",
       " ['Antipathies'],\n",
       " ['New Zealand', \"Ma'am\", 'Australia']]"
      ]
     },
     "execution_count": 7,
     "metadata": {},
     "output_type": "execute_result"
    }
   ],
   "source": [
    "entities = extract_entities(text)\n",
    "entities = drop_duplicate_entities(entities)\n",
    "entities[0:5]"
   ]
  },
  {
   "cell_type": "code",
   "execution_count": 8,
   "id": "fe330d82",
   "metadata": {},
   "outputs": [
    {
     "data": {
      "text/html": [
       "<div>\n",
       "<style scoped>\n",
       "    .dataframe tbody tr th:only-of-type {\n",
       "        vertical-align: middle;\n",
       "    }\n",
       "\n",
       "    .dataframe tbody tr th {\n",
       "        vertical-align: top;\n",
       "    }\n",
       "\n",
       "    .dataframe thead th {\n",
       "        text-align: right;\n",
       "    }\n",
       "</style>\n",
       "<table border=\"1\" class=\"dataframe\">\n",
       "  <thead>\n",
       "    <tr style=\"text-align: right;\">\n",
       "      <th></th>\n",
       "      <th>entity</th>\n",
       "      <th>sentence</th>\n",
       "    </tr>\n",
       "  </thead>\n",
       "  <tbody>\n",
       "    <tr>\n",
       "      <th>0</th>\n",
       "      <td>Alice</td>\n",
       "      <td>0</td>\n",
       "    </tr>\n",
       "    <tr>\n",
       "      <th>1</th>\n",
       "      <td>Alice</td>\n",
       "      <td>1</td>\n",
       "    </tr>\n",
       "    <tr>\n",
       "      <th>1</th>\n",
       "      <td>Rabbit</td>\n",
       "      <td>1</td>\n",
       "    </tr>\n",
       "    <tr>\n",
       "      <th>2</th>\n",
       "      <td>Longitude</td>\n",
       "      <td>2</td>\n",
       "    </tr>\n",
       "    <tr>\n",
       "      <th>2</th>\n",
       "      <td>Alice</td>\n",
       "      <td>2</td>\n",
       "    </tr>\n",
       "    <tr>\n",
       "      <th>3</th>\n",
       "      <td>Antipathies</td>\n",
       "      <td>3</td>\n",
       "    </tr>\n",
       "    <tr>\n",
       "      <th>4</th>\n",
       "      <td>New Zealand</td>\n",
       "      <td>4</td>\n",
       "    </tr>\n",
       "    <tr>\n",
       "      <th>4</th>\n",
       "      <td>Ma'am</td>\n",
       "      <td>4</td>\n",
       "    </tr>\n",
       "    <tr>\n",
       "      <th>4</th>\n",
       "      <td>Australia</td>\n",
       "      <td>4</td>\n",
       "    </tr>\n",
       "    <tr>\n",
       "      <th>5</th>\n",
       "      <td>Dinah'll</td>\n",
       "      <td>5</td>\n",
       "    </tr>\n",
       "  </tbody>\n",
       "</table>\n",
       "</div>"
      ],
      "text/plain": [
       "        entity  sentence\n",
       "0        Alice         0\n",
       "1        Alice         1\n",
       "1       Rabbit         1\n",
       "2    Longitude         2\n",
       "2        Alice         2\n",
       "3  Antipathies         3\n",
       "4  New Zealand         4\n",
       "4        Ma'am         4\n",
       "4    Australia         4\n",
       "5     Dinah'll         5"
      ]
     },
     "execution_count": 8,
     "metadata": {},
     "output_type": "execute_result"
    }
   ],
   "source": [
    "entity_df = pd.DataFrame({'entities':entities}).reset_index()\n",
    "entity_df.columns = ['sentence', 'entity']\n",
    "entity_df = entity_df.explode('entity')\n",
    "\n",
    "entity_df = entity_df[['entity', 'sentence']]\n",
    "\n",
    "# wrangling\n",
    "entity_df = entity_df[entity_df['entity'].str.contains('CHAPTER', case=False)==False] # drop chapter nodes\n",
    "\n",
    "entity_df.head(10)"
   ]
  },
  {
   "cell_type": "markdown",
   "id": "854361a8",
   "metadata": {},
   "source": [
    "# Graph Creation: Bipartite Projection Approach"
   ]
  },
  {
   "cell_type": "code",
   "execution_count": 9,
   "id": "c60d712e",
   "metadata": {},
   "outputs": [],
   "source": [
    "B = nx.from_pandas_edgelist(entity_df, source='entity', target='sentence') # new approach\n",
    "G = bipartite.projected_graph(B, entity_df['entity'])\n",
    "\n",
    "# wrangling\n",
    "G = nx.k_core(G, 1) # quickly remove disconnected junk nodes\n",
    "\n",
    "drop_nodes = ['Beautiful', 'Hm', 'Improve', 'Longitude', 'Ma\\'am', 'Mystery', 'Said', 'Seaography', 'Somebody', \n",
    "              'The Rabbit Sends', 'garden_.', 'The Rabbit Sends', 'the White Rabbit', \"â\\x80\\x98I'll\", 'â\\x80\\x98Keep', \n",
    "              'â\\x80\\x98it', 'William_']\n",
    "\n",
    "G.remove_nodes_from(drop_nodes) # remove drop nodes"
   ]
  },
  {
   "cell_type": "code",
   "execution_count": 10,
   "id": "274fbccd",
   "metadata": {},
   "outputs": [
    {
     "name": "stdout",
     "output_type": "stream",
     "text": [
      "Graph with 51 nodes and 67 edges\n"
     ]
    }
   ],
   "source": [
    "print(nx.info(G))"
   ]
  },
  {
   "cell_type": "code",
   "execution_count": 11,
   "id": "4bf1b9f6",
   "metadata": {},
   "outputs": [
    {
     "data": {
      "text/plain": [
       "[37, 2, 3, 1, 6, 2]"
      ]
     },
     "execution_count": 11,
     "metadata": {},
     "output_type": "execute_result"
    }
   ],
   "source": [
    "# use the largest connected component\n",
    "\n",
    "components = list(nx.connected_components(G))\n",
    "\n",
    "[len(c) for c in components]"
   ]
  },
  {
   "cell_type": "code",
   "execution_count": 12,
   "id": "a999ec6d",
   "metadata": {},
   "outputs": [],
   "source": [
    "G = G.subgraph(components[0])"
   ]
  },
  {
   "cell_type": "code",
   "execution_count": 13,
   "id": "9d1d3bac",
   "metadata": {},
   "outputs": [
    {
     "data": {
      "image/svg+xml": [
       "<svg height=\"540\" width=\"845.0\" xmlns=\"http://www.w3.org/2000/svg\"><path d=\"M 273 250 269 116\" stroke=\"gray\" stroke-width=\"0.5\"/><path d=\"M 273 250 372 149\" stroke=\"gray\" stroke-width=\"0.5\"/><path d=\"M 273 250 162 274\" stroke=\"gray\" stroke-width=\"0.5\"/><path d=\"M 273 250 511 310\" stroke=\"gray\" stroke-width=\"0.5\"/><path d=\"M 273 250 111 370\" stroke=\"gray\" stroke-width=\"0.5\"/><path d=\"M 273 250 352 420\" stroke=\"gray\" stroke-width=\"0.5\"/><path d=\"M 273 250 450 237\" stroke=\"gray\" stroke-width=\"0.5\"/><path d=\"M 273 250 526 154\" stroke=\"gray\" stroke-width=\"0.5\"/><path d=\"M 273 250 295 152\" stroke=\"gray\" stroke-width=\"0.5\"/><path d=\"M 273 250 200 151\" stroke=\"gray\" stroke-width=\"0.5\"/><path d=\"M 273 250 54 212\" stroke=\"gray\" stroke-width=\"0.5\"/><path d=\"M 273 250 404 172\" stroke=\"gray\" stroke-width=\"0.5\"/><path d=\"M 273 250 103 169\" stroke=\"gray\" stroke-width=\"0.5\"/><path d=\"M 273 250 26 246\" stroke=\"gray\" stroke-width=\"0.5\"/><path d=\"M 273 250 412 267\" stroke=\"gray\" stroke-width=\"0.5\"/><path d=\"M 273 250 440 324\" stroke=\"gray\" stroke-width=\"0.5\"/><path d=\"M 273 250 426 340\" stroke=\"gray\" stroke-width=\"0.5\"/><path d=\"M 273 250 291 374\" stroke=\"gray\" stroke-width=\"0.5\"/><path d=\"M 273 250 105 299\" stroke=\"gray\" stroke-width=\"0.5\"/><path d=\"M 273 250 53 297\" stroke=\"gray\" stroke-width=\"0.5\"/><path d=\"M 273 250 107 239\" stroke=\"gray\" stroke-width=\"0.5\"/><path d=\"M 273 250 432 204\" stroke=\"gray\" stroke-width=\"0.5\"/><path d=\"M 273 250 131 205\" stroke=\"gray\" stroke-width=\"0.5\"/><path d=\"M 269 116 273 250\" stroke=\"gray\" stroke-width=\"0.5\"/><path d=\"M 269 116 372 149\" stroke=\"gray\" stroke-width=\"0.5\"/><path d=\"M 269 116 200 151\" stroke=\"gray\" stroke-width=\"0.5\"/><path d=\"M 269 116 280 20\" stroke=\"gray\" stroke-width=\"0.5\"/><path d=\"M 372 149 273 250\" stroke=\"gray\" stroke-width=\"0.5\"/><path d=\"M 372 149 269 116\" stroke=\"gray\" stroke-width=\"0.5\"/><path d=\"M 372 149 526 154\" stroke=\"gray\" stroke-width=\"0.5\"/><path d=\"M 162 274 273 250\" stroke=\"gray\" stroke-width=\"0.5\"/><path d=\"M 511 310 273 250\" stroke=\"gray\" stroke-width=\"0.5\"/><path d=\"M 511 310 713 332\" stroke=\"gray\" stroke-width=\"0.5\"/><path d=\"M 511 310 412 267\" stroke=\"gray\" stroke-width=\"0.5\"/><path d=\"M 511 310 426 340\" stroke=\"gray\" stroke-width=\"0.5\"/><path d=\"M 511 310 544 386\" stroke=\"gray\" stroke-width=\"0.5\"/><path d=\"M 111 370 273 250\" stroke=\"gray\" stroke-width=\"0.5\"/><path d=\"M 111 370 20 457\" stroke=\"gray\" stroke-width=\"0.5\"/><path d=\"M 20 457 111 370\" stroke=\"gray\" stroke-width=\"0.5\"/><path d=\"M 352 420 273 250\" stroke=\"gray\" stroke-width=\"0.5\"/><path d=\"M 352 420 435 509\" stroke=\"gray\" stroke-width=\"0.5\"/><path d=\"M 352 420 368 520\" stroke=\"gray\" stroke-width=\"0.5\"/><path d=\"M 450 237 273 250\" stroke=\"gray\" stroke-width=\"0.5\"/><path d=\"M 720 137 526 154\" stroke=\"gray\" stroke-width=\"0.5\"/><path d=\"M 526 154 273 250\" stroke=\"gray\" stroke-width=\"0.5\"/><path d=\"M 526 154 372 149\" stroke=\"gray\" stroke-width=\"0.5\"/><path d=\"M 526 154 720 137\" stroke=\"gray\" stroke-width=\"0.5\"/><path d=\"M 526 154 677 87\" stroke=\"gray\" stroke-width=\"0.5\"/><path d=\"M 435 509 352 420\" stroke=\"gray\" stroke-width=\"0.5\"/><path d=\"M 435 509 368 520\" stroke=\"gray\" stroke-width=\"0.5\"/><path d=\"M 368 520 352 420\" stroke=\"gray\" stroke-width=\"0.5\"/><path d=\"M 368 520 435 509\" stroke=\"gray\" stroke-width=\"0.5\"/><path d=\"M 677 87 526 154\" stroke=\"gray\" stroke-width=\"0.5\"/><path d=\"M 295 152 273 250\" stroke=\"gray\" stroke-width=\"0.5\"/><path d=\"M 200 151 273 250\" stroke=\"gray\" stroke-width=\"0.5\"/><path d=\"M 200 151 269 116\" stroke=\"gray\" stroke-width=\"0.5\"/><path d=\"M 280 20 269 116\" stroke=\"gray\" stroke-width=\"0.5\"/><path d=\"M 54 212 273 250\" stroke=\"gray\" stroke-width=\"0.5\"/><path d=\"M 404 172 273 250\" stroke=\"gray\" stroke-width=\"0.5\"/><path d=\"M 103 169 273 250\" stroke=\"gray\" stroke-width=\"0.5\"/><path d=\"M 713 332 511 310\" stroke=\"gray\" stroke-width=\"0.5\"/><path d=\"M 26 246 273 250\" stroke=\"gray\" stroke-width=\"0.5\"/><path d=\"M 412 267 273 250\" stroke=\"gray\" stroke-width=\"0.5\"/><path d=\"M 412 267 511 310\" stroke=\"gray\" stroke-width=\"0.5\"/><path d=\"M 440 324 273 250\" stroke=\"gray\" stroke-width=\"0.5\"/><path d=\"M 440 324 426 340\" stroke=\"gray\" stroke-width=\"0.5\"/><path d=\"M 440 324 291 374\" stroke=\"gray\" stroke-width=\"0.5\"/><path d=\"M 440 324 630 356\" stroke=\"gray\" stroke-width=\"0.5\"/><path d=\"M 426 340 273 250\" stroke=\"gray\" stroke-width=\"0.5\"/><path d=\"M 426 340 511 310\" stroke=\"gray\" stroke-width=\"0.5\"/><path d=\"M 426 340 440 324\" stroke=\"gray\" stroke-width=\"0.5\"/><path d=\"M 426 340 544 386\" stroke=\"gray\" stroke-width=\"0.5\"/><path d=\"M 291 374 273 250\" stroke=\"gray\" stroke-width=\"0.5\"/><path d=\"M 291 374 440 324\" stroke=\"gray\" stroke-width=\"0.5\"/><path d=\"M 291 374 256 335\" stroke=\"gray\" stroke-width=\"0.5\"/><path d=\"M 291 374 300 359\" stroke=\"gray\" stroke-width=\"0.5\"/><path d=\"M 291 374 205 372\" stroke=\"gray\" stroke-width=\"0.5\"/><path d=\"M 291 374 245 473\" stroke=\"gray\" stroke-width=\"0.5\"/><path d=\"M 630 356 440 324\" stroke=\"gray\" stroke-width=\"0.5\"/><path d=\"M 256 335 291 374\" stroke=\"gray\" stroke-width=\"0.5\"/><path d=\"M 256 335 300 359\" stroke=\"gray\" stroke-width=\"0.5\"/><path d=\"M 256 335 205 372\" stroke=\"gray\" stroke-width=\"0.5\"/><path d=\"M 300 359 291 374\" stroke=\"gray\" stroke-width=\"0.5\"/><path d=\"M 300 359 256 335\" stroke=\"gray\" stroke-width=\"0.5\"/><path d=\"M 300 359 205 372\" stroke=\"gray\" stroke-width=\"0.5\"/><path d=\"M 205 372 291 374\" stroke=\"gray\" stroke-width=\"0.5\"/><path d=\"M 205 372 256 335\" stroke=\"gray\" stroke-width=\"0.5\"/><path d=\"M 205 372 300 359\" stroke=\"gray\" stroke-width=\"0.5\"/><path d=\"M 245 473 291 374\" stroke=\"gray\" stroke-width=\"0.5\"/><path d=\"M 105 299 273 250\" stroke=\"gray\" stroke-width=\"0.5\"/><path d=\"M 105 299 53 297\" stroke=\"gray\" stroke-width=\"0.5\"/><path d=\"M 53 297 273 250\" stroke=\"gray\" stroke-width=\"0.5\"/><path d=\"M 53 297 105 299\" stroke=\"gray\" stroke-width=\"0.5\"/><path d=\"M 107 239 273 250\" stroke=\"gray\" stroke-width=\"0.5\"/><path d=\"M 107 239 131 205\" stroke=\"gray\" stroke-width=\"0.5\"/><path d=\"M 432 204 273 250\" stroke=\"gray\" stroke-width=\"0.5\"/><path d=\"M 131 205 273 250\" stroke=\"gray\" stroke-width=\"0.5\"/><path d=\"M 131 205 107 239\" stroke=\"gray\" stroke-width=\"0.5\"/><path d=\"M 544 386 511 310\" stroke=\"gray\" stroke-width=\"0.5\"/><path d=\"M 544 386 426 340\" stroke=\"gray\" stroke-width=\"0.5\"/><circle cx=\"273\" cy=\"250\" r=\"3.0\" style=\"fill:rgb(179, 3, 38);stroke:black;stroke-width:1.0\"/><circle cx=\"269\" cy=\"116\" r=\"3.0\" style=\"fill:rgb(99, 131, 234);stroke:black;stroke-width:1.0\"/><circle cx=\"372\" cy=\"149\" r=\"3.0\" style=\"fill:rgb(86, 115, 224);stroke:black;stroke-width:1.0\"/><circle cx=\"162\" cy=\"274\" r=\"3.0\" style=\"fill:rgb(58, 76, 192);stroke:black;stroke-width:1.0\"/><circle cx=\"511\" cy=\"310\" r=\"3.0\" style=\"fill:rgb(112, 147, 243);stroke:black;stroke-width:1.0\"/><circle cx=\"111\" cy=\"370\" r=\"3.0\" style=\"fill:rgb(76, 102, 214);stroke:black;stroke-width:1.0\"/><circle cx=\"20\" cy=\"457\" r=\"3.0\" style=\"fill:rgb(60, 79, 195);stroke:black;stroke-width:1.0\"/><circle cx=\"352\" cy=\"420\" r=\"3.0\" style=\"fill:rgb(86, 115, 224);stroke:black;stroke-width:1.0\"/><circle cx=\"450\" cy=\"237\" r=\"3.0\" style=\"fill:rgb(58, 76, 192);stroke:black;stroke-width:1.0\"/><circle cx=\"720\" cy=\"137\" r=\"3.0\" style=\"fill:rgb(58, 76, 192);stroke:black;stroke-width:1.0\"/><circle cx=\"526\" cy=\"154\" r=\"3.0\" style=\"fill:rgb(105, 139, 239);stroke:black;stroke-width:1.0\"/><circle cx=\"435\" cy=\"509\" r=\"3.0\" style=\"fill:rgb(72, 96, 209);stroke:black;stroke-width:1.0\"/><circle cx=\"368\" cy=\"520\" r=\"3.0\" style=\"fill:rgb(72, 96, 209);stroke:black;stroke-width:1.0\"/><circle cx=\"677\" cy=\"87\" r=\"3.0\" style=\"fill:rgb(58, 76, 192);stroke:black;stroke-width:1.0\"/><circle cx=\"295\" cy=\"152\" r=\"3.0\" style=\"fill:rgb(58, 76, 192);stroke:black;stroke-width:1.0\"/><circle cx=\"200\" cy=\"151\" r=\"3.0\" style=\"fill:rgb(70, 93, 207);stroke:black;stroke-width:1.0\"/><circle cx=\"280\" cy=\"20\" r=\"3.0\" style=\"fill:rgb(58, 76, 192);stroke:black;stroke-width:1.0\"/><circle cx=\"54\" cy=\"212\" r=\"3.0\" style=\"fill:rgb(58, 76, 192);stroke:black;stroke-width:1.0\"/><circle cx=\"404\" cy=\"172\" r=\"3.0\" style=\"fill:rgb(58, 76, 192);stroke:black;stroke-width:1.0\"/><circle cx=\"103\" cy=\"169\" r=\"3.0\" style=\"fill:rgb(58, 76, 192);stroke:black;stroke-width:1.0\"/><circle cx=\"713\" cy=\"332\" r=\"3.0\" style=\"fill:rgb(58, 76, 192);stroke:black;stroke-width:1.0\"/><circle cx=\"26\" cy=\"246\" r=\"3.0\" style=\"fill:rgb(58, 76, 192);stroke:black;stroke-width:1.0\"/><circle cx=\"412\" cy=\"267\" r=\"3.0\" style=\"fill:rgb(70, 93, 207);stroke:black;stroke-width:1.0\"/><circle cx=\"440\" cy=\"324\" r=\"3.0\" style=\"fill:rgb(96, 128, 232);stroke:black;stroke-width:1.0\"/><circle cx=\"426\" cy=\"340\" r=\"3.0\" style=\"fill:rgb(96, 128, 232);stroke:black;stroke-width:1.0\"/><circle cx=\"291\" cy=\"374\" r=\"3.0\" style=\"fill:rgb(120, 155, 247);stroke:black;stroke-width:1.0\"/><circle cx=\"630\" cy=\"356\" r=\"3.0\" style=\"fill:rgb(58, 76, 192);stroke:black;stroke-width:1.0\"/><circle cx=\"256\" cy=\"335\" r=\"3.0\" style=\"fill:rgb(80, 107, 218);stroke:black;stroke-width:1.0\"/><circle cx=\"300\" cy=\"359\" r=\"3.0\" style=\"fill:rgb(80, 107, 218);stroke:black;stroke-width:1.0\"/><circle cx=\"205\" cy=\"372\" r=\"3.0\" style=\"fill:rgb(80, 107, 218);stroke:black;stroke-width:1.0\"/><circle cx=\"245\" cy=\"473\" r=\"3.0\" style=\"fill:rgb(58, 76, 192);stroke:black;stroke-width:1.0\"/><circle cx=\"105\" cy=\"299\" r=\"3.0\" style=\"fill:rgb(70, 93, 207);stroke:black;stroke-width:1.0\"/><circle cx=\"53\" cy=\"297\" r=\"3.0\" style=\"fill:rgb(70, 93, 207);stroke:black;stroke-width:1.0\"/><circle cx=\"107\" cy=\"239\" r=\"3.0\" style=\"fill:rgb(70, 93, 207);stroke:black;stroke-width:1.0\"/><circle cx=\"432\" cy=\"204\" r=\"3.0\" style=\"fill:rgb(58, 76, 192);stroke:black;stroke-width:1.0\"/><circle cx=\"131\" cy=\"205\" r=\"3.0\" style=\"fill:rgb(70, 93, 207);stroke:black;stroke-width:1.0\"/><circle cx=\"544\" cy=\"386\" r=\"3.0\" style=\"fill:rgb(70, 93, 207);stroke:black;stroke-width:1.0\"/><text font-size=\"10\" x=\"279\" y=\"253\">Alice</text><text font-size=\"10\" x=\"275\" y=\"119\">Rabbit</text><text font-size=\"10\" x=\"378\" y=\"152\">Dinah</text><text font-size=\"10\" x=\"168\" y=\"277\">Fender</text><text font-size=\"10\" x=\"517\" y=\"313\">Duchess</text><text font-size=\"10\" x=\"117\" y=\"373\">Mabel</text><text font-size=\"10\" x=\"26\" y=\"460\">Ada</text><text font-size=\"10\" x=\"358\" y=\"423\">Mouse</text><text font-size=\"10\" x=\"456\" y=\"240\">William the Conqueror</text><text font-size=\"10\" x=\"726\" y=\"140\">Eaglet</text><text font-size=\"10\" x=\"532\" y=\"157\">Lory</text><text font-size=\"10\" x=\"441\" y=\"512\">William</text><text font-size=\"10\" x=\"374\" y=\"523\">Edgar Atheling</text><text font-size=\"10\" x=\"683\" y=\"90\">Crab</text><text font-size=\"10\" x=\"301\" y=\"155\">Bill</text><text font-size=\"10\" x=\"206\" y=\"154\">Mary Ann</text><text font-size=\"10\" x=\"286\" y=\"23\">Pat</text><text font-size=\"10\" x=\"60\" y=\"215\">Caterpillar</text><text font-size=\"10\" x=\"410\" y=\"175\">Pigeon</text><text font-size=\"10\" x=\"109\" y=\"172\">Fish-Footman</text><text font-size=\"10\" x=\"719\" y=\"335\">Cheshire</text><text font-size=\"10\" x=\"32\" y=\"249\">Cheshire Cat</text><text font-size=\"10\" x=\"418\" y=\"270\">Cat</text><text font-size=\"10\" x=\"446\" y=\"327\">Hatter</text><text font-size=\"10\" x=\"432\" y=\"343\">Hare</text><text font-size=\"10\" x=\"297\" y=\"377\">Dormouse</text><text font-size=\"10\" x=\"636\" y=\"359\">Time</text><text font-size=\"10\" x=\"262\" y=\"338\">Elsie</text><text font-size=\"10\" x=\"306\" y=\"362\">Tillie</text><text font-size=\"10\" x=\"211\" y=\"375\">Lacie</text><text font-size=\"10\" x=\"251\" y=\"476\">Treacle</text><text font-size=\"10\" x=\"111\" y=\"302\">Queens</text><text font-size=\"10\" x=\"59\" y=\"300\">Kings</text><text font-size=\"10\" x=\"113\" y=\"242\">Gryphon</text><text font-size=\"10\" x=\"438\" y=\"207\">Lobster Quadrille</text><text font-size=\"10\" x=\"137\" y=\"208\">Soup</text><text font-size=\"10\" x=\"550\" y=\"389\">Lizard</text></svg>"
      ],
      "text/plain": [
       "<IPython.core.display.SVG object>"
      ]
     },
     "execution_count": 13,
     "metadata": {},
     "output_type": "execute_result"
    }
   ],
   "source": [
    "draw_graph(G, show_names=True, node_size=3)"
   ]
  },
  {
   "cell_type": "markdown",
   "id": "f9952d45",
   "metadata": {},
   "source": [
    "# Network Attack Simulation\n",
    "\n",
    "Today's post is about offense, not defense. The goal of today's post is going to be to cause maximal disruption to the Alice network in as few steps as possible. I am going to use two approaches, but you are not limited to two. Be creative.\n",
    "\n",
    "- ## Simulation 1: Iterative Attack\n",
    "In this simulation, I will remove the four nodes having highest betweenness centrality, but one after the other, sequantially. 1, 2, 3, 4.\n",
    "\n",
    "- ## Simulation 2: Burst Attack\n",
    "In this simulation,, I will remove the four nodes having highest betweenness centrlality scores from the original network, in one burst.\n",
    "\n",
    "- ## Goal: Fun and Educational\n",
    "I come from cybersecurity, so I think in terms of offense and defense, but this is not limited to computers. I am using the network from Alice in Wonderland. With any network, network science can give insights to enhance both offense and defense. Today, the focus is offense."
   ]
  },
  {
   "cell_type": "markdown",
   "id": "4970d1f5",
   "metadata": {},
   "source": [
    "# Simulation 1: Iterative Attack"
   ]
  },
  {
   "cell_type": "code",
   "execution_count": 14,
   "id": "dae86ccb",
   "metadata": {},
   "outputs": [],
   "source": [
    "# need for iteration\n",
    "\n",
    "def get_cent_df(G):\n",
    "    \n",
    "    G = G.copy()\n",
    "    \n",
    "    cent_df = pd.DataFrame(nx.betweenness_centrality(G), index=[0]).T # cent = centrality\n",
    "\n",
    "    cent_df.columns = ['betw_cent'] # betweenness centrality\n",
    "    cent_df.sort_values('betw_cent', inplace=True, ascending=False)\n",
    "    \n",
    "    return cent_df"
   ]
  },
  {
   "cell_type": "code",
   "execution_count": 15,
   "id": "ee1c73a4",
   "metadata": {},
   "outputs": [
    {
     "data": {
      "image/svg+xml": [
       "<svg height=\"540\" width=\"845.0\" xmlns=\"http://www.w3.org/2000/svg\"><path d=\"M 377 269 268 178\" stroke=\"gray\" stroke-width=\"0.5\"/><path d=\"M 377 269 423 212\" stroke=\"gray\" stroke-width=\"0.5\"/><path d=\"M 377 269 386 162\" stroke=\"gray\" stroke-width=\"0.5\"/><path d=\"M 377 269 440 407\" stroke=\"gray\" stroke-width=\"0.5\"/><path d=\"M 377 269 165 271\" stroke=\"gray\" stroke-width=\"0.5\"/><path d=\"M 377 269 498 401\" stroke=\"gray\" stroke-width=\"0.5\"/><path d=\"M 377 269 435 151\" stroke=\"gray\" stroke-width=\"0.5\"/><path d=\"M 377 269 576 248\" stroke=\"gray\" stroke-width=\"0.5\"/><path d=\"M 377 269 476 321\" stroke=\"gray\" stroke-width=\"0.5\"/><path d=\"M 377 269 234 213\" stroke=\"gray\" stroke-width=\"0.5\"/><path d=\"M 377 269 480 175\" stroke=\"gray\" stroke-width=\"0.5\"/><path d=\"M 377 269 249 326\" stroke=\"gray\" stroke-width=\"0.5\"/><path d=\"M 377 269 483 250\" stroke=\"gray\" stroke-width=\"0.5\"/><path d=\"M 377 269 515 288\" stroke=\"gray\" stroke-width=\"0.5\"/><path d=\"M 377 269 378 384\" stroke=\"gray\" stroke-width=\"0.5\"/><path d=\"M 377 269 280 271\" stroke=\"gray\" stroke-width=\"0.5\"/><path d=\"M 377 269 406 345\" stroke=\"gray\" stroke-width=\"0.5\"/><path d=\"M 377 269 293 131\" stroke=\"gray\" stroke-width=\"0.5\"/><path d=\"M 377 269 248 255\" stroke=\"gray\" stroke-width=\"0.5\"/><path d=\"M 377 269 295 228\" stroke=\"gray\" stroke-width=\"0.5\"/><path d=\"M 377 269 272 362\" stroke=\"gray\" stroke-width=\"0.5\"/><path d=\"M 377 269 515 210\" stroke=\"gray\" stroke-width=\"0.5\"/><path d=\"M 377 269 311 373\" stroke=\"gray\" stroke-width=\"0.5\"/><path d=\"M 268 178 377 269\" stroke=\"gray\" stroke-width=\"0.5\"/><path d=\"M 268 178 423 212\" stroke=\"gray\" stroke-width=\"0.5\"/><path d=\"M 268 178 234 213\" stroke=\"gray\" stroke-width=\"0.5\"/><path d=\"M 268 178 124 117\" stroke=\"gray\" stroke-width=\"0.5\"/><path d=\"M 423 212 377 269\" stroke=\"gray\" stroke-width=\"0.5\"/><path d=\"M 423 212 268 178\" stroke=\"gray\" stroke-width=\"0.5\"/><path d=\"M 423 212 576 248\" stroke=\"gray\" stroke-width=\"0.5\"/><path d=\"M 386 162 377 269\" stroke=\"gray\" stroke-width=\"0.5\"/><path d=\"M 440 407 377 269\" stroke=\"gray\" stroke-width=\"0.5\"/><path d=\"M 440 407 496 520\" stroke=\"gray\" stroke-width=\"0.5\"/><path d=\"M 440 407 378 384\" stroke=\"gray\" stroke-width=\"0.5\"/><path d=\"M 440 407 406 345\" stroke=\"gray\" stroke-width=\"0.5\"/><path d=\"M 440 407 528 399\" stroke=\"gray\" stroke-width=\"0.5\"/><path d=\"M 165 271 377 269\" stroke=\"gray\" stroke-width=\"0.5\"/><path d=\"M 165 271 20 266\" stroke=\"gray\" stroke-width=\"0.5\"/><path d=\"M 20 266 165 271\" stroke=\"gray\" stroke-width=\"0.5\"/><path d=\"M 498 401 377 269\" stroke=\"gray\" stroke-width=\"0.5\"/><path d=\"M 498 401 552 485\" stroke=\"gray\" stroke-width=\"0.5\"/><path d=\"M 498 401 600 467\" stroke=\"gray\" stroke-width=\"0.5\"/><path d=\"M 435 151 377 269\" stroke=\"gray\" stroke-width=\"0.5\"/><path d=\"M 720 221 576 248\" stroke=\"gray\" stroke-width=\"0.5\"/><path d=\"M 576 248 377 269\" stroke=\"gray\" stroke-width=\"0.5\"/><path d=\"M 576 248 423 212\" stroke=\"gray\" stroke-width=\"0.5\"/><path d=\"M 576 248 720 221\" stroke=\"gray\" stroke-width=\"0.5\"/><path d=\"M 576 248 708 297\" stroke=\"gray\" stroke-width=\"0.5\"/><path d=\"M 552 485 498 401\" stroke=\"gray\" stroke-width=\"0.5\"/><path d=\"M 552 485 600 467\" stroke=\"gray\" stroke-width=\"0.5\"/><path d=\"M 600 467 498 401\" stroke=\"gray\" stroke-width=\"0.5\"/><path d=\"M 600 467 552 485\" stroke=\"gray\" stroke-width=\"0.5\"/><path d=\"M 708 297 576 248\" stroke=\"gray\" stroke-width=\"0.5\"/><path d=\"M 476 321 377 269\" stroke=\"gray\" stroke-width=\"0.5\"/><path d=\"M 234 213 377 269\" stroke=\"gray\" stroke-width=\"0.5\"/><path d=\"M 234 213 268 178\" stroke=\"gray\" stroke-width=\"0.5\"/><path d=\"M 124 117 268 178\" stroke=\"gray\" stroke-width=\"0.5\"/><path d=\"M 480 175 377 269\" stroke=\"gray\" stroke-width=\"0.5\"/><path d=\"M 249 326 377 269\" stroke=\"gray\" stroke-width=\"0.5\"/><path d=\"M 483 250 377 269\" stroke=\"gray\" stroke-width=\"0.5\"/><path d=\"M 496 520 440 407\" stroke=\"gray\" stroke-width=\"0.5\"/><path d=\"M 515 288 377 269\" stroke=\"gray\" stroke-width=\"0.5\"/><path d=\"M 378 384 377 269\" stroke=\"gray\" stroke-width=\"0.5\"/><path d=\"M 378 384 440 407\" stroke=\"gray\" stroke-width=\"0.5\"/><path d=\"M 280 271 377 269\" stroke=\"gray\" stroke-width=\"0.5\"/><path d=\"M 280 271 406 345\" stroke=\"gray\" stroke-width=\"0.5\"/><path d=\"M 280 271 293 131\" stroke=\"gray\" stroke-width=\"0.5\"/><path d=\"M 280 271 125 313\" stroke=\"gray\" stroke-width=\"0.5\"/><path d=\"M 406 345 377 269\" stroke=\"gray\" stroke-width=\"0.5\"/><path d=\"M 406 345 440 407\" stroke=\"gray\" stroke-width=\"0.5\"/><path d=\"M 406 345 280 271\" stroke=\"gray\" stroke-width=\"0.5\"/><path d=\"M 406 345 528 399\" stroke=\"gray\" stroke-width=\"0.5\"/><path d=\"M 293 131 377 269\" stroke=\"gray\" stroke-width=\"0.5\"/><path d=\"M 293 131 280 271\" stroke=\"gray\" stroke-width=\"0.5\"/><path d=\"M 293 131 234 34\" stroke=\"gray\" stroke-width=\"0.5\"/><path d=\"M 293 131 274 43\" stroke=\"gray\" stroke-width=\"0.5\"/><path d=\"M 293 131 298 20\" stroke=\"gray\" stroke-width=\"0.5\"/><path d=\"M 293 131 331 158\" stroke=\"gray\" stroke-width=\"0.5\"/><path d=\"M 125 313 280 271\" stroke=\"gray\" stroke-width=\"0.5\"/><path d=\"M 234 34 293 131\" stroke=\"gray\" stroke-width=\"0.5\"/><path d=\"M 234 34 274 43\" stroke=\"gray\" stroke-width=\"0.5\"/><path d=\"M 234 34 298 20\" stroke=\"gray\" stroke-width=\"0.5\"/><path d=\"M 274 43 293 131\" stroke=\"gray\" stroke-width=\"0.5\"/><path d=\"M 274 43 234 34\" stroke=\"gray\" stroke-width=\"0.5\"/><path d=\"M 274 43 298 20\" stroke=\"gray\" stroke-width=\"0.5\"/><path d=\"M 298 20 293 131\" stroke=\"gray\" stroke-width=\"0.5\"/><path d=\"M 298 20 234 34\" stroke=\"gray\" stroke-width=\"0.5\"/><path d=\"M 298 20 274 43\" stroke=\"gray\" stroke-width=\"0.5\"/><path d=\"M 331 158 293 131\" stroke=\"gray\" stroke-width=\"0.5\"/><path d=\"M 248 255 377 269\" stroke=\"gray\" stroke-width=\"0.5\"/><path d=\"M 248 255 295 228\" stroke=\"gray\" stroke-width=\"0.5\"/><path d=\"M 295 228 377 269\" stroke=\"gray\" stroke-width=\"0.5\"/><path d=\"M 295 228 248 255\" stroke=\"gray\" stroke-width=\"0.5\"/><path d=\"M 272 362 377 269\" stroke=\"gray\" stroke-width=\"0.5\"/><path d=\"M 272 362 311 373\" stroke=\"gray\" stroke-width=\"0.5\"/><path d=\"M 515 210 377 269\" stroke=\"gray\" stroke-width=\"0.5\"/><path d=\"M 311 373 377 269\" stroke=\"gray\" stroke-width=\"0.5\"/><path d=\"M 311 373 272 362\" stroke=\"gray\" stroke-width=\"0.5\"/><path d=\"M 528 399 440 407\" stroke=\"gray\" stroke-width=\"0.5\"/><path d=\"M 528 399 406 345\" stroke=\"gray\" stroke-width=\"0.5\"/><circle cx=\"377\" cy=\"269\" r=\"3.0\" style=\"fill:rgb(179, 3, 38);stroke:black;stroke-width:1.0\"/><circle cx=\"268\" cy=\"178\" r=\"3.0\" style=\"fill:rgb(99, 131, 234);stroke:black;stroke-width:1.0\"/><circle cx=\"423\" cy=\"212\" r=\"3.0\" style=\"fill:rgb(86, 115, 224);stroke:black;stroke-width:1.0\"/><circle cx=\"386\" cy=\"162\" r=\"3.0\" style=\"fill:rgb(58, 76, 192);stroke:black;stroke-width:1.0\"/><circle cx=\"440\" cy=\"407\" r=\"3.0\" style=\"fill:rgb(112, 147, 243);stroke:black;stroke-width:1.0\"/><circle cx=\"165\" cy=\"271\" r=\"3.0\" style=\"fill:rgb(76, 102, 214);stroke:black;stroke-width:1.0\"/><circle cx=\"20\" cy=\"266\" r=\"3.0\" style=\"fill:rgb(60, 79, 195);stroke:black;stroke-width:1.0\"/><circle cx=\"498\" cy=\"401\" r=\"3.0\" style=\"fill:rgb(86, 115, 224);stroke:black;stroke-width:1.0\"/><circle cx=\"435\" cy=\"151\" r=\"3.0\" style=\"fill:rgb(58, 76, 192);stroke:black;stroke-width:1.0\"/><circle cx=\"720\" cy=\"221\" r=\"3.0\" style=\"fill:rgb(58, 76, 192);stroke:black;stroke-width:1.0\"/><circle cx=\"576\" cy=\"248\" r=\"3.0\" style=\"fill:rgb(105, 139, 239);stroke:black;stroke-width:1.0\"/><circle cx=\"552\" cy=\"485\" r=\"3.0\" style=\"fill:rgb(72, 96, 209);stroke:black;stroke-width:1.0\"/><circle cx=\"600\" cy=\"467\" r=\"3.0\" style=\"fill:rgb(72, 96, 209);stroke:black;stroke-width:1.0\"/><circle cx=\"708\" cy=\"297\" r=\"3.0\" style=\"fill:rgb(58, 76, 192);stroke:black;stroke-width:1.0\"/><circle cx=\"476\" cy=\"321\" r=\"3.0\" style=\"fill:rgb(58, 76, 192);stroke:black;stroke-width:1.0\"/><circle cx=\"234\" cy=\"213\" r=\"3.0\" style=\"fill:rgb(70, 93, 207);stroke:black;stroke-width:1.0\"/><circle cx=\"124\" cy=\"117\" r=\"3.0\" style=\"fill:rgb(58, 76, 192);stroke:black;stroke-width:1.0\"/><circle cx=\"480\" cy=\"175\" r=\"3.0\" style=\"fill:rgb(58, 76, 192);stroke:black;stroke-width:1.0\"/><circle cx=\"249\" cy=\"326\" r=\"3.0\" style=\"fill:rgb(58, 76, 192);stroke:black;stroke-width:1.0\"/><circle cx=\"483\" cy=\"250\" r=\"3.0\" style=\"fill:rgb(58, 76, 192);stroke:black;stroke-width:1.0\"/><circle cx=\"496\" cy=\"520\" r=\"3.0\" style=\"fill:rgb(58, 76, 192);stroke:black;stroke-width:1.0\"/><circle cx=\"515\" cy=\"288\" r=\"3.0\" style=\"fill:rgb(58, 76, 192);stroke:black;stroke-width:1.0\"/><circle cx=\"378\" cy=\"384\" r=\"3.0\" style=\"fill:rgb(70, 93, 207);stroke:black;stroke-width:1.0\"/><circle cx=\"280\" cy=\"271\" r=\"3.0\" style=\"fill:rgb(96, 128, 232);stroke:black;stroke-width:1.0\"/><circle cx=\"406\" cy=\"345\" r=\"3.0\" style=\"fill:rgb(96, 128, 232);stroke:black;stroke-width:1.0\"/><circle cx=\"293\" cy=\"131\" r=\"3.0\" style=\"fill:rgb(120, 155, 247);stroke:black;stroke-width:1.0\"/><circle cx=\"125\" cy=\"313\" r=\"3.0\" style=\"fill:rgb(58, 76, 192);stroke:black;stroke-width:1.0\"/><circle cx=\"234\" cy=\"34\" r=\"3.0\" style=\"fill:rgb(80, 107, 218);stroke:black;stroke-width:1.0\"/><circle cx=\"274\" cy=\"43\" r=\"3.0\" style=\"fill:rgb(80, 107, 218);stroke:black;stroke-width:1.0\"/><circle cx=\"298\" cy=\"20\" r=\"3.0\" style=\"fill:rgb(80, 107, 218);stroke:black;stroke-width:1.0\"/><circle cx=\"331\" cy=\"158\" r=\"3.0\" style=\"fill:rgb(58, 76, 192);stroke:black;stroke-width:1.0\"/><circle cx=\"248\" cy=\"255\" r=\"3.0\" style=\"fill:rgb(70, 93, 207);stroke:black;stroke-width:1.0\"/><circle cx=\"295\" cy=\"228\" r=\"3.0\" style=\"fill:rgb(70, 93, 207);stroke:black;stroke-width:1.0\"/><circle cx=\"272\" cy=\"362\" r=\"3.0\" style=\"fill:rgb(70, 93, 207);stroke:black;stroke-width:1.0\"/><circle cx=\"515\" cy=\"210\" r=\"3.0\" style=\"fill:rgb(58, 76, 192);stroke:black;stroke-width:1.0\"/><circle cx=\"311\" cy=\"373\" r=\"3.0\" style=\"fill:rgb(70, 93, 207);stroke:black;stroke-width:1.0\"/><circle cx=\"528\" cy=\"399\" r=\"3.0\" style=\"fill:rgb(70, 93, 207);stroke:black;stroke-width:1.0\"/><text font-size=\"10\" x=\"383\" y=\"272\">Alice</text><text font-size=\"10\" x=\"274\" y=\"181\">Rabbit</text><text font-size=\"10\" x=\"429\" y=\"215\">Dinah</text><text font-size=\"10\" x=\"392\" y=\"165\">Fender</text><text font-size=\"10\" x=\"446\" y=\"410\">Duchess</text><text font-size=\"10\" x=\"171\" y=\"274\">Mabel</text><text font-size=\"10\" x=\"26\" y=\"269\">Ada</text><text font-size=\"10\" x=\"504\" y=\"404\">Mouse</text><text font-size=\"10\" x=\"441\" y=\"154\">William the Conqueror</text><text font-size=\"10\" x=\"726\" y=\"224\">Eaglet</text><text font-size=\"10\" x=\"582\" y=\"251\">Lory</text><text font-size=\"10\" x=\"558\" y=\"488\">William</text><text font-size=\"10\" x=\"606\" y=\"470\">Edgar Atheling</text><text font-size=\"10\" x=\"714\" y=\"300\">Crab</text><text font-size=\"10\" x=\"482\" y=\"324\">Bill</text><text font-size=\"10\" x=\"240\" y=\"216\">Mary Ann</text><text font-size=\"10\" x=\"130\" y=\"120\">Pat</text><text font-size=\"10\" x=\"486\" y=\"178\">Caterpillar</text><text font-size=\"10\" x=\"255\" y=\"329\">Pigeon</text><text font-size=\"10\" x=\"489\" y=\"253\">Fish-Footman</text><text font-size=\"10\" x=\"502\" y=\"523\">Cheshire</text><text font-size=\"10\" x=\"521\" y=\"291\">Cheshire Cat</text><text font-size=\"10\" x=\"384\" y=\"387\">Cat</text><text font-size=\"10\" x=\"286\" y=\"274\">Hatter</text><text font-size=\"10\" x=\"412\" y=\"348\">Hare</text><text font-size=\"10\" x=\"299\" y=\"134\">Dormouse</text><text font-size=\"10\" x=\"131\" y=\"316\">Time</text><text font-size=\"10\" x=\"240\" y=\"37\">Elsie</text><text font-size=\"10\" x=\"280\" y=\"46\">Tillie</text><text font-size=\"10\" x=\"304\" y=\"23\">Lacie</text><text font-size=\"10\" x=\"337\" y=\"161\">Treacle</text><text font-size=\"10\" x=\"254\" y=\"258\">Queens</text><text font-size=\"10\" x=\"301\" y=\"231\">Kings</text><text font-size=\"10\" x=\"278\" y=\"365\">Gryphon</text><text font-size=\"10\" x=\"521\" y=\"213\">Lobster Quadrille</text><text font-size=\"10\" x=\"317\" y=\"376\">Soup</text><text font-size=\"10\" x=\"534\" y=\"402\">Lizard</text></svg>"
      ],
      "text/plain": [
       "<IPython.core.display.SVG object>"
      ]
     },
     "execution_count": 15,
     "metadata": {},
     "output_type": "execute_result"
    }
   ],
   "source": [
    "G1 = G.copy() # keep G for use with simulation 2\n",
    "\n",
    "draw_graph(G1, show_names=True, node_size=3)"
   ]
  },
  {
   "cell_type": "markdown",
   "id": "166e6a32",
   "metadata": {},
   "source": [
    "## Iteration 1"
   ]
  },
  {
   "cell_type": "code",
   "execution_count": 16,
   "id": "923fe796",
   "metadata": {},
   "outputs": [
    {
     "data": {
      "image/png": "[encoded data removed]",
      "text/plain": [
       "<Figure size 432x288 with 1 Axes>"
      ]
     },
     "metadata": {
      "needs_background": "light"
     },
     "output_type": "display_data"
    }
   ],
   "source": [
    "cent_df = get_cent_df(G1)\n",
    "\n",
    "cent_df[0:20].plot.barh().invert_yaxis()\n",
    "\n",
    "# because there are so few with betw_cent, I expect the network to be nearly ruined with either approach"
   ]
  },
  {
   "cell_type": "code",
   "execution_count": 17,
   "id": "d9f0cbb5",
   "metadata": {},
   "outputs": [
    {
     "data": {
      "text/plain": [
       "'Alice'"
      ]
     },
     "execution_count": 17,
     "metadata": {},
     "output_type": "execute_result"
    }
   ],
   "source": [
    "# Smash and Draw, Sequentially\n",
    "\n",
    "# first iteration; drop node\n",
    "\n",
    "drop_node = cent_df.iloc[0].name\n",
    "drop_node"
   ]
  },
  {
   "cell_type": "code",
   "execution_count": 18,
   "id": "eb2bdae0",
   "metadata": {
    "scrolled": false
   },
   "outputs": [],
   "source": [
    "G1.remove_node(drop_node)"
   ]
  },
  {
   "cell_type": "code",
   "execution_count": 19,
   "id": "226f3ce6",
   "metadata": {},
   "outputs": [
    {
     "data": {
      "image/svg+xml": [
       "<svg height=\"540\" width=\"810.0\" xmlns=\"http://www.w3.org/2000/svg\"><path d=\"M 688 477 641 486\" stroke=\"gray\" stroke-width=\"0.5\"/><path d=\"M 688 477 713 452\" stroke=\"gray\" stroke-width=\"0.5\"/><path d=\"M 688 477 720 494\" stroke=\"gray\" stroke-width=\"0.5\"/><path d=\"M 641 486 688 477\" stroke=\"gray\" stroke-width=\"0.5\"/><path d=\"M 641 486 594 495\" stroke=\"gray\" stroke-width=\"0.5\"/><path d=\"M 61 318 46 285\" stroke=\"gray\" stroke-width=\"0.5\"/><path d=\"M 61 318 20 315\" stroke=\"gray\" stroke-width=\"0.5\"/><path d=\"M 61 318 103 351\" stroke=\"gray\" stroke-width=\"0.5\"/><path d=\"M 61 318 91 324\" stroke=\"gray\" stroke-width=\"0.5\"/><path d=\"M 655 227 651 204\" stroke=\"gray\" stroke-width=\"0.5\"/><path d=\"M 651 204 655 227\" stroke=\"gray\" stroke-width=\"0.5\"/><path d=\"M 483 259 457 267\" stroke=\"gray\" stroke-width=\"0.5\"/><path d=\"M 483 259 463 244\" stroke=\"gray\" stroke-width=\"0.5\"/><path d=\"M 568 520 594 495\" stroke=\"gray\" stroke-width=\"0.5\"/><path d=\"M 594 495 641 486\" stroke=\"gray\" stroke-width=\"0.5\"/><path d=\"M 594 495 568 520\" stroke=\"gray\" stroke-width=\"0.5\"/><path d=\"M 594 495 564 478\" stroke=\"gray\" stroke-width=\"0.5\"/><path d=\"M 457 267 483 259\" stroke=\"gray\" stroke-width=\"0.5\"/><path d=\"M 457 267 463 244\" stroke=\"gray\" stroke-width=\"0.5\"/><path d=\"M 463 244 483 259\" stroke=\"gray\" stroke-width=\"0.5\"/><path d=\"M 463 244 457 267\" stroke=\"gray\" stroke-width=\"0.5\"/><path d=\"M 564 478 594 495\" stroke=\"gray\" stroke-width=\"0.5\"/><path d=\"M 713 452 688 477\" stroke=\"gray\" stroke-width=\"0.5\"/><path d=\"M 720 494 688 477\" stroke=\"gray\" stroke-width=\"0.5\"/><path d=\"M 46 285 61 318\" stroke=\"gray\" stroke-width=\"0.5\"/><path d=\"M 20 315 61 318\" stroke=\"gray\" stroke-width=\"0.5\"/><path d=\"M 146 392 103 351\" stroke=\"gray\" stroke-width=\"0.5\"/><path d=\"M 146 392 177 442\" stroke=\"gray\" stroke-width=\"0.5\"/><path d=\"M 146 392 175 372\" stroke=\"gray\" stroke-width=\"0.5\"/><path d=\"M 103 351 61 318\" stroke=\"gray\" stroke-width=\"0.5\"/><path d=\"M 103 351 146 392\" stroke=\"gray\" stroke-width=\"0.5\"/><path d=\"M 103 351 91 324\" stroke=\"gray\" stroke-width=\"0.5\"/><path d=\"M 177 442 146 392\" stroke=\"gray\" stroke-width=\"0.5\"/><path d=\"M 177 442 211 450\" stroke=\"gray\" stroke-width=\"0.5\"/><path d=\"M 177 442 194 470\" stroke=\"gray\" stroke-width=\"0.5\"/><path d=\"M 177 442 214 467\" stroke=\"gray\" stroke-width=\"0.5\"/><path d=\"M 177 442 148 469\" stroke=\"gray\" stroke-width=\"0.5\"/><path d=\"M 175 372 146 392\" stroke=\"gray\" stroke-width=\"0.5\"/><path d=\"M 211 450 177 442\" stroke=\"gray\" stroke-width=\"0.5\"/><path d=\"M 211 450 194 470\" stroke=\"gray\" stroke-width=\"0.5\"/><path d=\"M 211 450 214 467\" stroke=\"gray\" stroke-width=\"0.5\"/><path d=\"M 194 470 177 442\" stroke=\"gray\" stroke-width=\"0.5\"/><path d=\"M 194 470 211 450\" stroke=\"gray\" stroke-width=\"0.5\"/><path d=\"M 194 470 214 467\" stroke=\"gray\" stroke-width=\"0.5\"/><path d=\"M 214 467 177 442\" stroke=\"gray\" stroke-width=\"0.5\"/><path d=\"M 214 467 211 450\" stroke=\"gray\" stroke-width=\"0.5\"/><path d=\"M 214 467 194 470\" stroke=\"gray\" stroke-width=\"0.5\"/><path d=\"M 148 469 177 442\" stroke=\"gray\" stroke-width=\"0.5\"/><path d=\"M 205 20 178 23\" stroke=\"gray\" stroke-width=\"0.5\"/><path d=\"M 178 23 205 20\" stroke=\"gray\" stroke-width=\"0.5\"/><path d=\"M 318 130 314 152\" stroke=\"gray\" stroke-width=\"0.5\"/><path d=\"M 314 152 318 130\" stroke=\"gray\" stroke-width=\"0.5\"/><path d=\"M 91 324 61 318\" stroke=\"gray\" stroke-width=\"0.5\"/><path d=\"M 91 324 103 351\" stroke=\"gray\" stroke-width=\"0.5\"/><circle cx=\"688\" cy=\"477\" r=\"3.0\" style=\"fill:rgb(230, 114, 89);stroke:black;stroke-width:1.0\"/><circle cx=\"641\" cy=\"486\" r=\"3.0\" style=\"fill:rgb(236, 210, 196);stroke:black;stroke-width:1.0\"/><circle cx=\"61\" cy=\"318\" r=\"3.0\" style=\"fill:rgb(179, 3, 38);stroke:black;stroke-width:1.0\"/><circle cx=\"655\" cy=\"227\" r=\"3.0\" style=\"fill:rgb(197, 213, 242);stroke:black;stroke-width:1.0\"/><circle cx=\"651\" cy=\"204\" r=\"3.0\" style=\"fill:rgb(197, 213, 242);stroke:black;stroke-width:1.0\"/><circle cx=\"483\" cy=\"259\" r=\"3.0\" style=\"fill:rgb(197, 213, 242);stroke:black;stroke-width:1.0\"/><circle cx=\"568\" cy=\"520\" r=\"3.0\" style=\"fill:rgb(112, 147, 243);stroke:black;stroke-width:1.0\"/><circle cx=\"594\" cy=\"495\" r=\"3.0\" style=\"fill:rgb(230, 114, 89);stroke:black;stroke-width:1.0\"/><circle cx=\"457\" cy=\"267\" r=\"3.0\" style=\"fill:rgb(197, 213, 242);stroke:black;stroke-width:1.0\"/><circle cx=\"463\" cy=\"244\" r=\"3.0\" style=\"fill:rgb(197, 213, 242);stroke:black;stroke-width:1.0\"/><circle cx=\"564\" cy=\"478\" r=\"3.0\" style=\"fill:rgb(112, 147, 243);stroke:black;stroke-width:1.0\"/><circle cx=\"713\" cy=\"452\" r=\"3.0\" style=\"fill:rgb(112, 147, 243);stroke:black;stroke-width:1.0\"/><circle cx=\"720\" cy=\"494\" r=\"3.0\" style=\"fill:rgb(112, 147, 243);stroke:black;stroke-width:1.0\"/><circle cx=\"46\" cy=\"285\" r=\"3.0\" style=\"fill:rgb(76, 102, 214);stroke:black;stroke-width:1.0\"/><circle cx=\"20\" cy=\"315\" r=\"3.0\" style=\"fill:rgb(76, 102, 214);stroke:black;stroke-width:1.0\"/><circle cx=\"146\" cy=\"392\" r=\"3.0\" style=\"fill:rgb(239, 206, 188);stroke:black;stroke-width:1.0\"/><circle cx=\"103\" cy=\"351\" r=\"3.0\" style=\"fill:rgb(243, 198, 176);stroke:black;stroke-width:1.0\"/><circle cx=\"177\" cy=\"442\" r=\"3.0\" style=\"fill:rgb(182, 13, 40);stroke:black;stroke-width:1.0\"/><circle cx=\"175\" cy=\"372\" r=\"3.0\" style=\"fill:rgb(66, 88, 202);stroke:black;stroke-width:1.0\"/><circle cx=\"211\" cy=\"450\" r=\"3.0\" style=\"fill:rgb(205, 217, 236);stroke:black;stroke-width:1.0\"/><circle cx=\"194\" cy=\"470\" r=\"3.0\" style=\"fill:rgb(205, 217, 236);stroke:black;stroke-width:1.0\"/><circle cx=\"214\" cy=\"467\" r=\"3.0\" style=\"fill:rgb(205, 217, 236);stroke:black;stroke-width:1.0\"/><circle cx=\"148\" cy=\"469\" r=\"3.0\" style=\"fill:rgb(58, 76, 192);stroke:black;stroke-width:1.0\"/><circle cx=\"205\" cy=\"20\" r=\"3.0\" style=\"fill:rgb(197, 213, 242);stroke:black;stroke-width:1.0\"/><circle cx=\"178\" cy=\"23\" r=\"3.0\" style=\"fill:rgb(197, 213, 242);stroke:black;stroke-width:1.0\"/><circle cx=\"318\" cy=\"130\" r=\"3.0\" style=\"fill:rgb(197, 213, 242);stroke:black;stroke-width:1.0\"/><circle cx=\"314\" cy=\"152\" r=\"3.0\" style=\"fill:rgb(197, 213, 242);stroke:black;stroke-width:1.0\"/><circle cx=\"91\" cy=\"324\" r=\"3.0\" style=\"fill:rgb(170, 198, 253);stroke:black;stroke-width:1.0\"/><text font-size=\"10\" x=\"694\" y=\"480\">Rabbit</text><text font-size=\"10\" x=\"647\" y=\"489\">Dinah</text><text font-size=\"10\" x=\"67\" y=\"321\">Duchess</text><text font-size=\"10\" x=\"661\" y=\"230\">Mabel</text><text font-size=\"10\" x=\"657\" y=\"207\">Ada</text><text font-size=\"10\" x=\"489\" y=\"262\">Mouse</text><text font-size=\"10\" x=\"574\" y=\"523\">Eaglet</text><text font-size=\"10\" x=\"600\" y=\"498\">Lory</text><text font-size=\"10\" x=\"463\" y=\"270\">William</text><text font-size=\"10\" x=\"469\" y=\"247\">Edgar Atheling</text><text font-size=\"10\" x=\"570\" y=\"481\">Crab</text><text font-size=\"10\" x=\"719\" y=\"455\">Mary Ann</text><text font-size=\"10\" x=\"726\" y=\"497\">Pat</text><text font-size=\"10\" x=\"52\" y=\"288\">Cheshire</text><text font-size=\"10\" x=\"26\" y=\"318\">Cat</text><text font-size=\"10\" x=\"152\" y=\"395\">Hatter</text><text font-size=\"10\" x=\"109\" y=\"354\">Hare</text><text font-size=\"10\" x=\"183\" y=\"445\">Dormouse</text><text font-size=\"10\" x=\"181\" y=\"375\">Time</text><text font-size=\"10\" x=\"217\" y=\"453\">Elsie</text><text font-size=\"10\" x=\"200\" y=\"473\">Tillie</text><text font-size=\"10\" x=\"220\" y=\"470\">Lacie</text><text font-size=\"10\" x=\"154\" y=\"472\">Treacle</text><text font-size=\"10\" x=\"211\" y=\"23\">Queens</text><text font-size=\"10\" x=\"184\" y=\"26\">Kings</text><text font-size=\"10\" x=\"324\" y=\"133\">Gryphon</text><text font-size=\"10\" x=\"320\" y=\"155\">Soup</text><text font-size=\"10\" x=\"97\" y=\"327\">Lizard</text></svg>"
      ],
      "text/plain": [
       "<IPython.core.display.SVG object>"
      ]
     },
     "execution_count": 19,
     "metadata": {},
     "output_type": "execute_result"
    }
   ],
   "source": [
    "draw_graph(nx.k_core(G1, 1), show_names=True, node_size=3) # removing isolates for clarity"
   ]
  },
  {
   "cell_type": "markdown",
   "id": "bfdc54fb",
   "metadata": {},
   "source": [
    "## Iteration 2"
   ]
  },
  {
   "cell_type": "code",
   "execution_count": 20,
   "id": "ca35657a",
   "metadata": {},
   "outputs": [
    {
     "data": {
      "image/png": "[encoded data removed]",
      "text/plain": [
       "<Figure size 432x288 with 1 Axes>"
      ]
     },
     "metadata": {
      "needs_background": "light"
     },
     "output_type": "display_data"
    }
   ],
   "source": [
    "cent_df = get_cent_df(G1)\n",
    "\n",
    "cent_df[0:20].plot.barh().invert_yaxis()"
   ]
  },
  {
   "cell_type": "code",
   "execution_count": 21,
   "id": "ac71ce17",
   "metadata": {},
   "outputs": [
    {
     "data": {
      "text/plain": [
       "'Hatter'"
      ]
     },
     "execution_count": 21,
     "metadata": {},
     "output_type": "execute_result"
    }
   ],
   "source": [
    "drop_node = cent_df.iloc[0].name\n",
    "drop_node"
   ]
  },
  {
   "cell_type": "code",
   "execution_count": 22,
   "id": "65373f4f",
   "metadata": {},
   "outputs": [],
   "source": [
    "G1.remove_node(drop_node)"
   ]
  },
  {
   "cell_type": "code",
   "execution_count": 23,
   "id": "0f4f4e8b",
   "metadata": {},
   "outputs": [
    {
     "data": {
      "image/svg+xml": [
       "<svg height=\"540\" width=\"810.0\" xmlns=\"http://www.w3.org/2000/svg\"><path d=\"M 118 307 92 278\" stroke=\"gray\" stroke-width=\"0.5\"/><path d=\"M 118 307 110 333\" stroke=\"gray\" stroke-width=\"0.5\"/><path d=\"M 118 307 154 315\" stroke=\"gray\" stroke-width=\"0.5\"/><path d=\"M 92 278 118 307\" stroke=\"gray\" stroke-width=\"0.5\"/><path d=\"M 92 278 65 251\" stroke=\"gray\" stroke-width=\"0.5\"/><path d=\"M 684 423 686 450\" stroke=\"gray\" stroke-width=\"0.5\"/><path d=\"M 684 423 720 419\" stroke=\"gray\" stroke-width=\"0.5\"/><path d=\"M 684 423 667 401\" stroke=\"gray\" stroke-width=\"0.5\"/><path d=\"M 684 423 651 415\" stroke=\"gray\" stroke-width=\"0.5\"/><path d=\"M 328 21 355 20\" stroke=\"gray\" stroke-width=\"0.5\"/><path d=\"M 355 20 328 21\" stroke=\"gray\" stroke-width=\"0.5\"/><path d=\"M 20 499 44 492\" stroke=\"gray\" stroke-width=\"0.5\"/><path d=\"M 20 499 22 480\" stroke=\"gray\" stroke-width=\"0.5\"/><path d=\"M 28 245 65 251\" stroke=\"gray\" stroke-width=\"0.5\"/><path d=\"M 65 251 92 278\" stroke=\"gray\" stroke-width=\"0.5\"/><path d=\"M 65 251 28 245\" stroke=\"gray\" stroke-width=\"0.5\"/><path d=\"M 65 251 69 224\" stroke=\"gray\" stroke-width=\"0.5\"/><path d=\"M 44 492 20 499\" stroke=\"gray\" stroke-width=\"0.5\"/><path d=\"M 44 492 22 480\" stroke=\"gray\" stroke-width=\"0.5\"/><path d=\"M 22 480 20 499\" stroke=\"gray\" stroke-width=\"0.5\"/><path d=\"M 22 480 44 492\" stroke=\"gray\" stroke-width=\"0.5\"/><path d=\"M 69 224 65 251\" stroke=\"gray\" stroke-width=\"0.5\"/><path d=\"M 110 333 118 307\" stroke=\"gray\" stroke-width=\"0.5\"/><path d=\"M 154 315 118 307\" stroke=\"gray\" stroke-width=\"0.5\"/><path d=\"M 686 450 684 423\" stroke=\"gray\" stroke-width=\"0.5\"/><path d=\"M 720 419 684 423\" stroke=\"gray\" stroke-width=\"0.5\"/><path d=\"M 667 401 684 423\" stroke=\"gray\" stroke-width=\"0.5\"/><path d=\"M 667 401 651 415\" stroke=\"gray\" stroke-width=\"0.5\"/><path d=\"M 403 506 426 496\" stroke=\"gray\" stroke-width=\"0.5\"/><path d=\"M 403 506 439 509\" stroke=\"gray\" stroke-width=\"0.5\"/><path d=\"M 403 506 423 520\" stroke=\"gray\" stroke-width=\"0.5\"/><path d=\"M 403 506 366 505\" stroke=\"gray\" stroke-width=\"0.5\"/><path d=\"M 426 496 403 506\" stroke=\"gray\" stroke-width=\"0.5\"/><path d=\"M 426 496 439 509\" stroke=\"gray\" stroke-width=\"0.5\"/><path d=\"M 426 496 423 520\" stroke=\"gray\" stroke-width=\"0.5\"/><path d=\"M 439 509 403 506\" stroke=\"gray\" stroke-width=\"0.5\"/><path d=\"M 439 509 426 496\" stroke=\"gray\" stroke-width=\"0.5\"/><path d=\"M 439 509 423 520\" stroke=\"gray\" stroke-width=\"0.5\"/><path d=\"M 423 520 403 506\" stroke=\"gray\" stroke-width=\"0.5\"/><path d=\"M 423 520 426 496\" stroke=\"gray\" stroke-width=\"0.5\"/><path d=\"M 423 520 439 509\" stroke=\"gray\" stroke-width=\"0.5\"/><path d=\"M 366 505 403 506\" stroke=\"gray\" stroke-width=\"0.5\"/><path d=\"M 626 192 615 174\" stroke=\"gray\" stroke-width=\"0.5\"/><path d=\"M 615 174 626 192\" stroke=\"gray\" stroke-width=\"0.5\"/><path d=\"M 387 164 374 146\" stroke=\"gray\" stroke-width=\"0.5\"/><path d=\"M 374 146 387 164\" stroke=\"gray\" stroke-width=\"0.5\"/><path d=\"M 651 415 684 423\" stroke=\"gray\" stroke-width=\"0.5\"/><path d=\"M 651 415 667 401\" stroke=\"gray\" stroke-width=\"0.5\"/><circle cx=\"118\" cy=\"307\" r=\"3.0\" style=\"fill:rgb(243, 150, 120);stroke:black;stroke-width:1.0\"/><circle cx=\"92\" cy=\"278\" r=\"3.0\" style=\"fill:rgb(222, 219, 218);stroke:black;stroke-width:1.0\"/><circle cx=\"684\" cy=\"423\" r=\"3.0\" style=\"fill:rgb(179, 3, 38);stroke:black;stroke-width:1.0\"/><circle cx=\"328\" cy=\"21\" r=\"3.0\" style=\"fill:rgb(183, 207, 249);stroke:black;stroke-width:1.0\"/><circle cx=\"355\" cy=\"20\" r=\"3.0\" style=\"fill:rgb(183, 207, 249);stroke:black;stroke-width:1.0\"/><circle cx=\"20\" cy=\"499\" r=\"3.0\" style=\"fill:rgb(183, 207, 249);stroke:black;stroke-width:1.0\"/><circle cx=\"28\" cy=\"245\" r=\"3.0\" style=\"fill:rgb(105, 139, 239);stroke:black;stroke-width:1.0\"/><circle cx=\"65\" cy=\"251\" r=\"3.0\" style=\"fill:rgb(243, 150, 120);stroke:black;stroke-width:1.0\"/><circle cx=\"44\" cy=\"492\" r=\"3.0\" style=\"fill:rgb(183, 207, 249);stroke:black;stroke-width:1.0\"/><circle cx=\"22\" cy=\"480\" r=\"3.0\" style=\"fill:rgb(183, 207, 249);stroke:black;stroke-width:1.0\"/><circle cx=\"69\" cy=\"224\" r=\"3.0\" style=\"fill:rgb(105, 139, 239);stroke:black;stroke-width:1.0\"/><circle cx=\"110\" cy=\"333\" r=\"3.0\" style=\"fill:rgb(105, 139, 239);stroke:black;stroke-width:1.0\"/><circle cx=\"154\" cy=\"315\" r=\"3.0\" style=\"fill:rgb(105, 139, 239);stroke:black;stroke-width:1.0\"/><circle cx=\"686\" cy=\"450\" r=\"3.0\" style=\"fill:rgb(80, 107, 218);stroke:black;stroke-width:1.0\"/><circle cx=\"720\" cy=\"419\" r=\"3.0\" style=\"fill:rgb(80, 107, 218);stroke:black;stroke-width:1.0\"/><circle cx=\"667\" cy=\"401\" r=\"3.0\" style=\"fill:rgb(176, 203, 251);stroke:black;stroke-width:1.0\"/><circle cx=\"403\" cy=\"506\" r=\"3.0\" style=\"fill:rgb(246, 186, 159);stroke:black;stroke-width:1.0\"/><circle cx=\"426\" cy=\"496\" r=\"3.0\" style=\"fill:rgb(193, 212, 244);stroke:black;stroke-width:1.0\"/><circle cx=\"439\" cy=\"509\" r=\"3.0\" style=\"fill:rgb(193, 212, 244);stroke:black;stroke-width:1.0\"/><circle cx=\"423\" cy=\"520\" r=\"3.0\" style=\"fill:rgb(193, 212, 244);stroke:black;stroke-width:1.0\"/><circle cx=\"366\" cy=\"505\" r=\"3.0\" style=\"fill:rgb(58, 76, 192);stroke:black;stroke-width:1.0\"/><circle cx=\"626\" cy=\"192\" r=\"3.0\" style=\"fill:rgb(183, 207, 249);stroke:black;stroke-width:1.0\"/><circle cx=\"615\" cy=\"174\" r=\"3.0\" style=\"fill:rgb(183, 207, 249);stroke:black;stroke-width:1.0\"/><circle cx=\"387\" cy=\"164\" r=\"3.0\" style=\"fill:rgb(183, 207, 249);stroke:black;stroke-width:1.0\"/><circle cx=\"374\" cy=\"146\" r=\"3.0\" style=\"fill:rgb(183, 207, 249);stroke:black;stroke-width:1.0\"/><circle cx=\"651\" cy=\"415\" r=\"3.0\" style=\"fill:rgb(176, 203, 251);stroke:black;stroke-width:1.0\"/><text font-size=\"10\" x=\"124\" y=\"310\">Rabbit</text><text font-size=\"10\" x=\"98\" y=\"281\">Dinah</text><text font-size=\"10\" x=\"690\" y=\"426\">Duchess</text><text font-size=\"10\" x=\"334\" y=\"24\">Mabel</text><text font-size=\"10\" x=\"361\" y=\"23\">Ada</text><text font-size=\"10\" x=\"26\" y=\"502\">Mouse</text><text font-size=\"10\" x=\"34\" y=\"248\">Eaglet</text><text font-size=\"10\" x=\"71\" y=\"254\">Lory</text><text font-size=\"10\" x=\"50\" y=\"495\">William</text><text font-size=\"10\" x=\"28\" y=\"483\">Edgar Atheling</text><text font-size=\"10\" x=\"75\" y=\"227\">Crab</text><text font-size=\"10\" x=\"116\" y=\"336\">Mary Ann</text><text font-size=\"10\" x=\"160\" y=\"318\">Pat</text><text font-size=\"10\" x=\"692\" y=\"453\">Cheshire</text><text font-size=\"10\" x=\"726\" y=\"422\">Cat</text><text font-size=\"10\" x=\"673\" y=\"404\">Hare</text><text font-size=\"10\" x=\"409\" y=\"509\">Dormouse</text><text font-size=\"10\" x=\"432\" y=\"499\">Elsie</text><text font-size=\"10\" x=\"445\" y=\"512\">Tillie</text><text font-size=\"10\" x=\"429\" y=\"523\">Lacie</text><text font-size=\"10\" x=\"372\" y=\"508\">Treacle</text><text font-size=\"10\" x=\"632\" y=\"195\">Queens</text><text font-size=\"10\" x=\"621\" y=\"177\">Kings</text><text font-size=\"10\" x=\"393\" y=\"167\">Gryphon</text><text font-size=\"10\" x=\"380\" y=\"149\">Soup</text><text font-size=\"10\" x=\"657\" y=\"418\">Lizard</text></svg>"
      ],
      "text/plain": [
       "<IPython.core.display.SVG object>"
      ]
     },
     "execution_count": 23,
     "metadata": {},
     "output_type": "execute_result"
    }
   ],
   "source": [
    "draw_graph(nx.k_core(G1, 1), show_names=True, node_size=3) # removing isolates for clarity"
   ]
  },
  {
   "cell_type": "markdown",
   "id": "644e1f7b",
   "metadata": {},
   "source": [
    "## Iteration 3"
   ]
  },
  {
   "cell_type": "code",
   "execution_count": 24,
   "id": "b6da0b27",
   "metadata": {},
   "outputs": [
    {
     "data": {
      "image/png": "[encoded data removed]",
      "text/plain": [
       "<Figure size 432x288 with 1 Axes>"
      ]
     },
     "metadata": {
      "needs_background": "light"
     },
     "output_type": "display_data"
    }
   ],
   "source": [
    "cent_df = get_cent_df(G1)\n",
    "\n",
    "cent_df[0:20].plot.barh().invert_yaxis()"
   ]
  },
  {
   "cell_type": "code",
   "execution_count": 25,
   "id": "8b881a98",
   "metadata": {},
   "outputs": [
    {
     "data": {
      "text/plain": [
       "'Rabbit'"
      ]
     },
     "execution_count": 25,
     "metadata": {},
     "output_type": "execute_result"
    }
   ],
   "source": [
    "drop_node = cent_df.iloc[0].name\n",
    "drop_node"
   ]
  },
  {
   "cell_type": "code",
   "execution_count": 26,
   "id": "cdc43d1e",
   "metadata": {},
   "outputs": [],
   "source": [
    "G1.remove_node(drop_node)"
   ]
  },
  {
   "cell_type": "code",
   "execution_count": 27,
   "id": "b5446422",
   "metadata": {},
   "outputs": [
    {
     "data": {
      "image/svg+xml": [
       "<svg height=\"540\" width=\"810.0\" xmlns=\"http://www.w3.org/2000/svg\"><path d=\"M 205 462 236 445\" stroke=\"gray\" stroke-width=\"0.5\"/><path d=\"M 61 252 116 256\" stroke=\"gray\" stroke-width=\"0.5\"/><path d=\"M 61 252 46 275\" stroke=\"gray\" stroke-width=\"0.5\"/><path d=\"M 61 252 51 230\" stroke=\"gray\" stroke-width=\"0.5\"/><path d=\"M 61 252 20 239\" stroke=\"gray\" stroke-width=\"0.5\"/><path d=\"M 350 87 319 99\" stroke=\"gray\" stroke-width=\"0.5\"/><path d=\"M 319 99 350 87\" stroke=\"gray\" stroke-width=\"0.5\"/><path d=\"M 632 359 649 343\" stroke=\"gray\" stroke-width=\"0.5\"/><path d=\"M 632 359 608 345\" stroke=\"gray\" stroke-width=\"0.5\"/><path d=\"M 214 425 236 445\" stroke=\"gray\" stroke-width=\"0.5\"/><path d=\"M 236 445 205 462\" stroke=\"gray\" stroke-width=\"0.5\"/><path d=\"M 236 445 214 425\" stroke=\"gray\" stroke-width=\"0.5\"/><path d=\"M 236 445 287 447\" stroke=\"gray\" stroke-width=\"0.5\"/><path d=\"M 649 343 632 359\" stroke=\"gray\" stroke-width=\"0.5\"/><path d=\"M 649 343 608 345\" stroke=\"gray\" stroke-width=\"0.5\"/><path d=\"M 608 345 632 359\" stroke=\"gray\" stroke-width=\"0.5\"/><path d=\"M 608 345 649 343\" stroke=\"gray\" stroke-width=\"0.5\"/><path d=\"M 287 447 236 445\" stroke=\"gray\" stroke-width=\"0.5\"/><path d=\"M 116 256 61 252\" stroke=\"gray\" stroke-width=\"0.5\"/><path d=\"M 46 275 61 252\" stroke=\"gray\" stroke-width=\"0.5\"/><path d=\"M 51 230 61 252\" stroke=\"gray\" stroke-width=\"0.5\"/><path d=\"M 51 230 20 239\" stroke=\"gray\" stroke-width=\"0.5\"/><path d=\"M 677 154 635 169\" stroke=\"gray\" stroke-width=\"0.5\"/><path d=\"M 677 154 637 155\" stroke=\"gray\" stroke-width=\"0.5\"/><path d=\"M 677 154 667 171\" stroke=\"gray\" stroke-width=\"0.5\"/><path d=\"M 677 154 720 138\" stroke=\"gray\" stroke-width=\"0.5\"/><path d=\"M 635 169 677 154\" stroke=\"gray\" stroke-width=\"0.5\"/><path d=\"M 635 169 637 155\" stroke=\"gray\" stroke-width=\"0.5\"/><path d=\"M 635 169 667 171\" stroke=\"gray\" stroke-width=\"0.5\"/><path d=\"M 637 155 677 154\" stroke=\"gray\" stroke-width=\"0.5\"/><path d=\"M 637 155 635 169\" stroke=\"gray\" stroke-width=\"0.5\"/><path d=\"M 637 155 667 171\" stroke=\"gray\" stroke-width=\"0.5\"/><path d=\"M 667 171 677 154\" stroke=\"gray\" stroke-width=\"0.5\"/><path d=\"M 667 171 635 169\" stroke=\"gray\" stroke-width=\"0.5\"/><path d=\"M 667 171 637 155\" stroke=\"gray\" stroke-width=\"0.5\"/><path d=\"M 720 138 677 154\" stroke=\"gray\" stroke-width=\"0.5\"/><path d=\"M 689 511 653 520\" stroke=\"gray\" stroke-width=\"0.5\"/><path d=\"M 653 520 689 511\" stroke=\"gray\" stroke-width=\"0.5\"/><path d=\"M 151 27 187 20\" stroke=\"gray\" stroke-width=\"0.5\"/><path d=\"M 187 20 151 27\" stroke=\"gray\" stroke-width=\"0.5\"/><path d=\"M 20 239 61 252\" stroke=\"gray\" stroke-width=\"0.5\"/><path d=\"M 20 239 51 230\" stroke=\"gray\" stroke-width=\"0.5\"/><circle cx=\"205\" cy=\"462\" r=\"3.0\" style=\"fill:rgb(123, 158, 248);stroke:black;stroke-width:1.0\"/><circle cx=\"61\" cy=\"252\" r=\"3.0\" style=\"fill:rgb(179, 3, 38);stroke:black;stroke-width:1.0\"/><circle cx=\"350\" cy=\"87\" r=\"3.0\" style=\"fill:rgb(183, 207, 249);stroke:black;stroke-width:1.0\"/><circle cx=\"319\" cy=\"99\" r=\"3.0\" style=\"fill:rgb(183, 207, 249);stroke:black;stroke-width:1.0\"/><circle cx=\"632\" cy=\"359\" r=\"3.0\" style=\"fill:rgb(183, 207, 249);stroke:black;stroke-width:1.0\"/><circle cx=\"214\" cy=\"425\" r=\"3.0\" style=\"fill:rgb(123, 158, 248);stroke:black;stroke-width:1.0\"/><circle cx=\"236\" cy=\"445\" r=\"3.0\" style=\"fill:rgb(220, 94, 75);stroke:black;stroke-width:1.0\"/><circle cx=\"649\" cy=\"343\" r=\"3.0\" style=\"fill:rgb(183, 207, 249);stroke:black;stroke-width:1.0\"/><circle cx=\"608\" cy=\"345\" r=\"3.0\" style=\"fill:rgb(183, 207, 249);stroke:black;stroke-width:1.0\"/><circle cx=\"287\" cy=\"447\" r=\"3.0\" style=\"fill:rgb(123, 158, 248);stroke:black;stroke-width:1.0\"/><circle cx=\"116\" cy=\"256\" r=\"3.0\" style=\"fill:rgb(80, 107, 218);stroke:black;stroke-width:1.0\"/><circle cx=\"46\" cy=\"275\" r=\"3.0\" style=\"fill:rgb(80, 107, 218);stroke:black;stroke-width:1.0\"/><circle cx=\"51\" cy=\"230\" r=\"3.0\" style=\"fill:rgb(176, 203, 251);stroke:black;stroke-width:1.0\"/><circle cx=\"677\" cy=\"154\" r=\"3.0\" style=\"fill:rgb(246, 186, 159);stroke:black;stroke-width:1.0\"/><circle cx=\"635\" cy=\"169\" r=\"3.0\" style=\"fill:rgb(193, 212, 244);stroke:black;stroke-width:1.0\"/><circle cx=\"637\" cy=\"155\" r=\"3.0\" style=\"fill:rgb(193, 212, 244);stroke:black;stroke-width:1.0\"/><circle cx=\"667\" cy=\"171\" r=\"3.0\" style=\"fill:rgb(193, 212, 244);stroke:black;stroke-width:1.0\"/><circle cx=\"720\" cy=\"138\" r=\"3.0\" style=\"fill:rgb(58, 76, 192);stroke:black;stroke-width:1.0\"/><circle cx=\"689\" cy=\"511\" r=\"3.0\" style=\"fill:rgb(183, 207, 249);stroke:black;stroke-width:1.0\"/><circle cx=\"653\" cy=\"520\" r=\"3.0\" style=\"fill:rgb(183, 207, 249);stroke:black;stroke-width:1.0\"/><circle cx=\"151\" cy=\"27\" r=\"3.0\" style=\"fill:rgb(183, 207, 249);stroke:black;stroke-width:1.0\"/><circle cx=\"187\" cy=\"20\" r=\"3.0\" style=\"fill:rgb(183, 207, 249);stroke:black;stroke-width:1.0\"/><circle cx=\"20\" cy=\"239\" r=\"3.0\" style=\"fill:rgb(176, 203, 251);stroke:black;stroke-width:1.0\"/><text font-size=\"10\" x=\"211\" y=\"465\">Dinah</text><text font-size=\"10\" x=\"67\" y=\"255\">Duchess</text><text font-size=\"10\" x=\"356\" y=\"90\">Mabel</text><text font-size=\"10\" x=\"325\" y=\"102\">Ada</text><text font-size=\"10\" x=\"638\" y=\"362\">Mouse</text><text font-size=\"10\" x=\"220\" y=\"428\">Eaglet</text><text font-size=\"10\" x=\"242\" y=\"448\">Lory</text><text font-size=\"10\" x=\"655\" y=\"346\">William</text><text font-size=\"10\" x=\"614\" y=\"348\">Edgar Atheling</text><text font-size=\"10\" x=\"293\" y=\"450\">Crab</text><text font-size=\"10\" x=\"122\" y=\"259\">Cheshire</text><text font-size=\"10\" x=\"52\" y=\"278\">Cat</text><text font-size=\"10\" x=\"57\" y=\"233\">Hare</text><text font-size=\"10\" x=\"683\" y=\"157\">Dormouse</text><text font-size=\"10\" x=\"641\" y=\"172\">Elsie</text><text font-size=\"10\" x=\"643\" y=\"158\">Tillie</text><text font-size=\"10\" x=\"673\" y=\"174\">Lacie</text><text font-size=\"10\" x=\"726\" y=\"141\">Treacle</text><text font-size=\"10\" x=\"695\" y=\"514\">Queens</text><text font-size=\"10\" x=\"659\" y=\"523\">Kings</text><text font-size=\"10\" x=\"157\" y=\"30\">Gryphon</text><text font-size=\"10\" x=\"193\" y=\"23\">Soup</text><text font-size=\"10\" x=\"26\" y=\"242\">Lizard</text></svg>"
      ],
      "text/plain": [
       "<IPython.core.display.SVG object>"
      ]
     },
     "execution_count": 27,
     "metadata": {},
     "output_type": "execute_result"
    }
   ],
   "source": [
    "draw_graph(nx.k_core(G1, 1), show_names=True, node_size=3) # removing isolates for clarity"
   ]
  },
  {
   "cell_type": "markdown",
   "id": "36fccded",
   "metadata": {},
   "source": [
    "## Iteration 4"
   ]
  },
  {
   "cell_type": "code",
   "execution_count": 28,
   "id": "9d8e4e3b",
   "metadata": {},
   "outputs": [
    {
     "data": {
      "image/png": "[encoded data removed]",
      "text/plain": [
       "<Figure size 432x288 with 1 Axes>"
      ]
     },
     "metadata": {
      "needs_background": "light"
     },
     "output_type": "display_data"
    }
   ],
   "source": [
    "cent_df = get_cent_df(G1)\n",
    "\n",
    "cent_df[0:20].plot.barh().invert_yaxis()"
   ]
  },
  {
   "cell_type": "code",
   "execution_count": 29,
   "id": "08891097",
   "metadata": {},
   "outputs": [
    {
     "data": {
      "text/plain": [
       "'Duchess'"
      ]
     },
     "execution_count": 29,
     "metadata": {},
     "output_type": "execute_result"
    }
   ],
   "source": [
    "drop_node = cent_df.iloc[0].name\n",
    "drop_node"
   ]
  },
  {
   "cell_type": "code",
   "execution_count": 30,
   "id": "0a4ef997",
   "metadata": {},
   "outputs": [],
   "source": [
    "G1.remove_node(drop_node)"
   ]
  },
  {
   "cell_type": "code",
   "execution_count": 31,
   "id": "ef0ca3c7",
   "metadata": {},
   "outputs": [
    {
     "data": {
      "image/svg+xml": [
       "<svg height=\"540\" width=\"810.0\" xmlns=\"http://www.w3.org/2000/svg\"><path d=\"M 561 403 584 430\" stroke=\"gray\" stroke-width=\"0.5\"/><path d=\"M 173 53 174 20\" stroke=\"gray\" stroke-width=\"0.5\"/><path d=\"M 174 20 173 53\" stroke=\"gray\" stroke-width=\"0.5\"/><path d=\"M 346 112 369 121\" stroke=\"gray\" stroke-width=\"0.5\"/><path d=\"M 346 112 363 88\" stroke=\"gray\" stroke-width=\"0.5\"/><path d=\"M 607 405 584 430\" stroke=\"gray\" stroke-width=\"0.5\"/><path d=\"M 584 430 561 403\" stroke=\"gray\" stroke-width=\"0.5\"/><path d=\"M 584 430 607 405\" stroke=\"gray\" stroke-width=\"0.5\"/><path d=\"M 584 430 585 473\" stroke=\"gray\" stroke-width=\"0.5\"/><path d=\"M 369 121 346 112\" stroke=\"gray\" stroke-width=\"0.5\"/><path d=\"M 369 121 363 88\" stroke=\"gray\" stroke-width=\"0.5\"/><path d=\"M 363 88 346 112\" stroke=\"gray\" stroke-width=\"0.5\"/><path d=\"M 363 88 369 121\" stroke=\"gray\" stroke-width=\"0.5\"/><path d=\"M 585 473 584 430\" stroke=\"gray\" stroke-width=\"0.5\"/><path d=\"M 23 450 20 417\" stroke=\"gray\" stroke-width=\"0.5\"/><path d=\"M 385 475 393 507\" stroke=\"gray\" stroke-width=\"0.5\"/><path d=\"M 385 475 376 520\" stroke=\"gray\" stroke-width=\"0.5\"/><path d=\"M 385 475 367 496\" stroke=\"gray\" stroke-width=\"0.5\"/><path d=\"M 385 475 394 429\" stroke=\"gray\" stroke-width=\"0.5\"/><path d=\"M 393 507 385 475\" stroke=\"gray\" stroke-width=\"0.5\"/><path d=\"M 393 507 376 520\" stroke=\"gray\" stroke-width=\"0.5\"/><path d=\"M 393 507 367 496\" stroke=\"gray\" stroke-width=\"0.5\"/><path d=\"M 376 520 385 475\" stroke=\"gray\" stroke-width=\"0.5\"/><path d=\"M 376 520 393 507\" stroke=\"gray\" stroke-width=\"0.5\"/><path d=\"M 376 520 367 496\" stroke=\"gray\" stroke-width=\"0.5\"/><path d=\"M 367 496 385 475\" stroke=\"gray\" stroke-width=\"0.5\"/><path d=\"M 367 496 393 507\" stroke=\"gray\" stroke-width=\"0.5\"/><path d=\"M 367 496 376 520\" stroke=\"gray\" stroke-width=\"0.5\"/><path d=\"M 394 429 385 475\" stroke=\"gray\" stroke-width=\"0.5\"/><path d=\"M 170 436 168 402\" stroke=\"gray\" stroke-width=\"0.5\"/><path d=\"M 168 402 170 436\" stroke=\"gray\" stroke-width=\"0.5\"/><path d=\"M 711 253 720 285\" stroke=\"gray\" stroke-width=\"0.5\"/><path d=\"M 720 285 711 253\" stroke=\"gray\" stroke-width=\"0.5\"/><path d=\"M 20 417 23 450\" stroke=\"gray\" stroke-width=\"0.5\"/><circle cx=\"561\" cy=\"403\" r=\"3.0\" style=\"fill:rgb(134, 169, 252);stroke:black;stroke-width:1.0\"/><circle cx=\"173\" cy=\"53\" r=\"3.0\" style=\"fill:rgb(199, 214, 240);stroke:black;stroke-width:1.0\"/><circle cx=\"174\" cy=\"20\" r=\"3.0\" style=\"fill:rgb(199, 214, 240);stroke:black;stroke-width:1.0\"/><circle cx=\"346\" cy=\"112\" r=\"3.0\" style=\"fill:rgb(199, 214, 240);stroke:black;stroke-width:1.0\"/><circle cx=\"607\" cy=\"405\" r=\"3.0\" style=\"fill:rgb(134, 169, 252);stroke:black;stroke-width:1.0\"/><circle cx=\"584\" cy=\"430\" r=\"3.0\" style=\"fill:rgb(179, 3, 38);stroke:black;stroke-width:1.0\"/><circle cx=\"369\" cy=\"121\" r=\"3.0\" style=\"fill:rgb(199, 214, 240);stroke:black;stroke-width:1.0\"/><circle cx=\"363\" cy=\"88\" r=\"3.0\" style=\"fill:rgb(199, 214, 240);stroke:black;stroke-width:1.0\"/><circle cx=\"585\" cy=\"473\" r=\"3.0\" style=\"fill:rgb(134, 169, 252);stroke:black;stroke-width:1.0\"/><circle cx=\"23\" cy=\"450\" r=\"3.0\" style=\"fill:rgb(199, 214, 240);stroke:black;stroke-width:1.0\"/><circle cx=\"385\" cy=\"475\" r=\"3.0\" style=\"fill:rgb(244, 154, 123);stroke:black;stroke-width:1.0\"/><circle cx=\"393\" cy=\"507\" r=\"3.0\" style=\"fill:rgb(208, 218, 233);stroke:black;stroke-width:1.0\"/><circle cx=\"376\" cy=\"520\" r=\"3.0\" style=\"fill:rgb(208, 218, 233);stroke:black;stroke-width:1.0\"/><circle cx=\"367\" cy=\"496\" r=\"3.0\" style=\"fill:rgb(208, 218, 233);stroke:black;stroke-width:1.0\"/><circle cx=\"394\" cy=\"429\" r=\"3.0\" style=\"fill:rgb(58, 76, 192);stroke:black;stroke-width:1.0\"/><circle cx=\"170\" cy=\"436\" r=\"3.0\" style=\"fill:rgb(199, 214, 240);stroke:black;stroke-width:1.0\"/><circle cx=\"168\" cy=\"402\" r=\"3.0\" style=\"fill:rgb(199, 214, 240);stroke:black;stroke-width:1.0\"/><circle cx=\"711\" cy=\"253\" r=\"3.0\" style=\"fill:rgb(199, 214, 240);stroke:black;stroke-width:1.0\"/><circle cx=\"720\" cy=\"285\" r=\"3.0\" style=\"fill:rgb(199, 214, 240);stroke:black;stroke-width:1.0\"/><circle cx=\"20\" cy=\"417\" r=\"3.0\" style=\"fill:rgb(199, 214, 240);stroke:black;stroke-width:1.0\"/><text font-size=\"10\" x=\"567\" y=\"406\">Dinah</text><text font-size=\"10\" x=\"179\" y=\"56\">Mabel</text><text font-size=\"10\" x=\"180\" y=\"23\">Ada</text><text font-size=\"10\" x=\"352\" y=\"115\">Mouse</text><text font-size=\"10\" x=\"613\" y=\"408\">Eaglet</text><text font-size=\"10\" x=\"590\" y=\"433\">Lory</text><text font-size=\"10\" x=\"375\" y=\"124\">William</text><text font-size=\"10\" x=\"369\" y=\"91\">Edgar Atheling</text><text font-size=\"10\" x=\"591\" y=\"476\">Crab</text><text font-size=\"10\" x=\"29\" y=\"453\">Hare</text><text font-size=\"10\" x=\"391\" y=\"478\">Dormouse</text><text font-size=\"10\" x=\"399\" y=\"510\">Elsie</text><text font-size=\"10\" x=\"382\" y=\"523\">Tillie</text><text font-size=\"10\" x=\"373\" y=\"499\">Lacie</text><text font-size=\"10\" x=\"400\" y=\"432\">Treacle</text><text font-size=\"10\" x=\"176\" y=\"439\">Queens</text><text font-size=\"10\" x=\"174\" y=\"405\">Kings</text><text font-size=\"10\" x=\"717\" y=\"256\">Gryphon</text><text font-size=\"10\" x=\"726\" y=\"288\">Soup</text><text font-size=\"10\" x=\"26\" y=\"420\">Lizard</text></svg>"
      ],
      "text/plain": [
       "<IPython.core.display.SVG object>"
      ]
     },
     "execution_count": 31,
     "metadata": {},
     "output_type": "execute_result"
    }
   ],
   "source": [
    "draw_graph(nx.k_core(G1, 1), show_names=True, node_size=3) # removing isolates for clarity"
   ]
  },
  {
   "cell_type": "code",
   "execution_count": 32,
   "id": "ed716aea",
   "metadata": {},
   "outputs": [
    {
     "data": {
      "image/svg+xml": [
       "<svg height=\"540\" width=\"845.0\" xmlns=\"http://www.w3.org/2000/svg\"><path d=\"M 325 401 310 412\" stroke=\"gray\" stroke-width=\"0.5\"/><path d=\"M 224 191 237 183\" stroke=\"gray\" stroke-width=\"0.5\"/><path d=\"M 237 183 224 191\" stroke=\"gray\" stroke-width=\"0.5\"/><path d=\"M 549 121 565 126\" stroke=\"gray\" stroke-width=\"0.5\"/><path d=\"M 549 121 550 133\" stroke=\"gray\" stroke-width=\"0.5\"/><path d=\"M 315 427 310 412\" stroke=\"gray\" stroke-width=\"0.5\"/><path d=\"M 310 412 325 401\" stroke=\"gray\" stroke-width=\"0.5\"/><path d=\"M 310 412 315 427\" stroke=\"gray\" stroke-width=\"0.5\"/><path d=\"M 310 412 287 409\" stroke=\"gray\" stroke-width=\"0.5\"/><path d=\"M 565 126 549 121\" stroke=\"gray\" stroke-width=\"0.5\"/><path d=\"M 565 126 550 133\" stroke=\"gray\" stroke-width=\"0.5\"/><path d=\"M 550 133 549 121\" stroke=\"gray\" stroke-width=\"0.5\"/><path d=\"M 550 133 565 126\" stroke=\"gray\" stroke-width=\"0.5\"/><path d=\"M 287 409 310 412\" stroke=\"gray\" stroke-width=\"0.5\"/><path d=\"M 357 133 350 122\" stroke=\"gray\" stroke-width=\"0.5\"/><path d=\"M 176 305 185 289\" stroke=\"gray\" stroke-width=\"0.5\"/><path d=\"M 176 305 171 293\" stroke=\"gray\" stroke-width=\"0.5\"/><path d=\"M 176 305 191 298\" stroke=\"gray\" stroke-width=\"0.5\"/><path d=\"M 176 305 165 320\" stroke=\"gray\" stroke-width=\"0.5\"/><path d=\"M 185 289 176 305\" stroke=\"gray\" stroke-width=\"0.5\"/><path d=\"M 185 289 171 293\" stroke=\"gray\" stroke-width=\"0.5\"/><path d=\"M 185 289 191 298\" stroke=\"gray\" stroke-width=\"0.5\"/><path d=\"M 171 293 176 305\" stroke=\"gray\" stroke-width=\"0.5\"/><path d=\"M 171 293 185 289\" stroke=\"gray\" stroke-width=\"0.5\"/><path d=\"M 171 293 191 298\" stroke=\"gray\" stroke-width=\"0.5\"/><path d=\"M 191 298 176 305\" stroke=\"gray\" stroke-width=\"0.5\"/><path d=\"M 191 298 185 289\" stroke=\"gray\" stroke-width=\"0.5\"/><path d=\"M 191 298 171 293\" stroke=\"gray\" stroke-width=\"0.5\"/><path d=\"M 165 320 176 305\" stroke=\"gray\" stroke-width=\"0.5\"/><path d=\"M 543 373 550 362\" stroke=\"gray\" stroke-width=\"0.5\"/><path d=\"M 550 362 543 373\" stroke=\"gray\" stroke-width=\"0.5\"/><path d=\"M 438 270 431 281\" stroke=\"gray\" stroke-width=\"0.5\"/><path d=\"M 431 281 438 270\" stroke=\"gray\" stroke-width=\"0.5\"/><path d=\"M 350 122 357 133\" stroke=\"gray\" stroke-width=\"0.5\"/><circle cx=\"325\" cy=\"401\" r=\"3.0\" style=\"fill:rgb(120, 155, 247);stroke:black;stroke-width:1.0\"/><circle cx=\"602\" cy=\"488\" r=\"3.0\" style=\"fill:rgb(189, 210, 246);stroke:black;stroke-width:1.0\"/><circle cx=\"224\" cy=\"191\" r=\"3.0\" style=\"fill:rgb(189, 210, 246);stroke:black;stroke-width:1.0\"/><circle cx=\"237\" cy=\"183\" r=\"3.0\" style=\"fill:rgb(189, 210, 246);stroke:black;stroke-width:1.0\"/><circle cx=\"549\" cy=\"121\" r=\"3.0\" style=\"fill:rgb(189, 210, 246);stroke:black;stroke-width:1.0\"/><circle cx=\"625\" cy=\"253\" r=\"3.0\" style=\"fill:rgb(189, 210, 246);stroke:black;stroke-width:1.0\"/><circle cx=\"315\" cy=\"427\" r=\"3.0\" style=\"fill:rgb(120, 155, 247);stroke:black;stroke-width:1.0\"/><circle cx=\"310\" cy=\"412\" r=\"3.0\" style=\"fill:rgb(179, 3, 38);stroke:black;stroke-width:1.0\"/><circle cx=\"565\" cy=\"126\" r=\"3.0\" style=\"fill:rgb(189, 210, 246);stroke:black;stroke-width:1.0\"/><circle cx=\"550\" cy=\"133\" r=\"3.0\" style=\"fill:rgb(189, 210, 246);stroke:black;stroke-width:1.0\"/><circle cx=\"287\" cy=\"409\" r=\"3.0\" style=\"fill:rgb(120, 155, 247);stroke:black;stroke-width:1.0\"/><circle cx=\"489\" cy=\"520\" r=\"3.0\" style=\"fill:rgb(189, 210, 246);stroke:black;stroke-width:1.0\"/><circle cx=\"220\" cy=\"503\" r=\"3.0\" style=\"fill:rgb(189, 210, 246);stroke:black;stroke-width:1.0\"/><circle cx=\"628\" cy=\"403\" r=\"3.0\" style=\"fill:rgb(189, 210, 246);stroke:black;stroke-width:1.0\"/><circle cx=\"20\" cy=\"347\" r=\"3.0\" style=\"fill:rgb(189, 210, 246);stroke:black;stroke-width:1.0\"/><circle cx=\"414\" cy=\"492\" r=\"3.0\" style=\"fill:rgb(189, 210, 246);stroke:black;stroke-width:1.0\"/><circle cx=\"175\" cy=\"50\" r=\"3.0\" style=\"fill:rgb(189, 210, 246);stroke:black;stroke-width:1.0\"/><circle cx=\"117\" cy=\"149\" r=\"3.0\" style=\"fill:rgb(189, 210, 246);stroke:black;stroke-width:1.0\"/><circle cx=\"720\" cy=\"276\" r=\"3.0\" style=\"fill:rgb(189, 210, 246);stroke:black;stroke-width:1.0\"/><circle cx=\"404\" cy=\"20\" r=\"3.0\" style=\"fill:rgb(189, 210, 246);stroke:black;stroke-width:1.0\"/><circle cx=\"357\" cy=\"133\" r=\"3.0\" style=\"fill:rgb(189, 210, 246);stroke:black;stroke-width:1.0\"/><circle cx=\"176\" cy=\"305\" r=\"3.0\" style=\"fill:rgb(247, 173, 143);stroke:black;stroke-width:1.0\"/><circle cx=\"131\" cy=\"451\" r=\"3.0\" style=\"fill:rgb(189, 210, 246);stroke:black;stroke-width:1.0\"/><circle cx=\"185\" cy=\"289\" r=\"3.0\" style=\"fill:rgb(199, 214, 240);stroke:black;stroke-width:1.0\"/><circle cx=\"171\" cy=\"293\" r=\"3.0\" style=\"fill:rgb(199, 214, 240);stroke:black;stroke-width:1.0\"/><circle cx=\"191\" cy=\"298\" r=\"3.0\" style=\"fill:rgb(199, 214, 240);stroke:black;stroke-width:1.0\"/><circle cx=\"165\" cy=\"320\" r=\"3.0\" style=\"fill:rgb(58, 76, 192);stroke:black;stroke-width:1.0\"/><circle cx=\"543\" cy=\"373\" r=\"3.0\" style=\"fill:rgb(189, 210, 246);stroke:black;stroke-width:1.0\"/><circle cx=\"550\" cy=\"362\" r=\"3.0\" style=\"fill:rgb(189, 210, 246);stroke:black;stroke-width:1.0\"/><circle cx=\"438\" cy=\"270\" r=\"3.0\" style=\"fill:rgb(189, 210, 246);stroke:black;stroke-width:1.0\"/><circle cx=\"451\" cy=\"360\" r=\"3.0\" style=\"fill:rgb(189, 210, 246);stroke:black;stroke-width:1.0\"/><circle cx=\"431\" cy=\"281\" r=\"3.0\" style=\"fill:rgb(189, 210, 246);stroke:black;stroke-width:1.0\"/><circle cx=\"350\" cy=\"122\" r=\"3.0\" style=\"fill:rgb(189, 210, 246);stroke:black;stroke-width:1.0\"/><text font-size=\"10\" x=\"331\" y=\"404\">Dinah</text><text font-size=\"10\" x=\"608\" y=\"491\">Fender</text><text font-size=\"10\" x=\"230\" y=\"194\">Mabel</text><text font-size=\"10\" x=\"243\" y=\"186\">Ada</text><text font-size=\"10\" x=\"555\" y=\"124\">Mouse</text><text font-size=\"10\" x=\"631\" y=\"256\">William the Conqueror</text><text font-size=\"10\" x=\"321\" y=\"430\">Eaglet</text><text font-size=\"10\" x=\"316\" y=\"415\">Lory</text><text font-size=\"10\" x=\"571\" y=\"129\">William</text><text font-size=\"10\" x=\"556\" y=\"136\">Edgar Atheling</text><text font-size=\"10\" x=\"293\" y=\"412\">Crab</text><text font-size=\"10\" x=\"495\" y=\"523\">Bill</text><text font-size=\"10\" x=\"226\" y=\"506\">Mary Ann</text><text font-size=\"10\" x=\"634\" y=\"406\">Pat</text><text font-size=\"10\" x=\"26\" y=\"350\">Caterpillar</text><text font-size=\"10\" x=\"420\" y=\"495\">Pigeon</text><text font-size=\"10\" x=\"181\" y=\"53\">Fish-Footman</text><text font-size=\"10\" x=\"123\" y=\"152\">Cheshire</text><text font-size=\"10\" x=\"726\" y=\"279\">Cheshire Cat</text><text font-size=\"10\" x=\"410\" y=\"23\">Cat</text><text font-size=\"10\" x=\"363\" y=\"136\">Hare</text><text font-size=\"10\" x=\"182\" y=\"308\">Dormouse</text><text font-size=\"10\" x=\"137\" y=\"454\">Time</text><text font-size=\"10\" x=\"191\" y=\"292\">Elsie</text><text font-size=\"10\" x=\"177\" y=\"296\">Tillie</text><text font-size=\"10\" x=\"197\" y=\"301\">Lacie</text><text font-size=\"10\" x=\"171\" y=\"323\">Treacle</text><text font-size=\"10\" x=\"549\" y=\"376\">Queens</text><text font-size=\"10\" x=\"556\" y=\"365\">Kings</text><text font-size=\"10\" x=\"444\" y=\"273\">Gryphon</text><text font-size=\"10\" x=\"457\" y=\"363\">Lobster Quadrille</text><text font-size=\"10\" x=\"437\" y=\"284\">Soup</text><text font-size=\"10\" x=\"356\" y=\"125\">Lizard</text></svg>"
      ],
      "text/plain": [
       "<IPython.core.display.SVG object>"
      ]
     },
     "execution_count": 32,
     "metadata": {},
     "output_type": "execute_result"
    }
   ],
   "source": [
    "draw_graph(G1, show_names=True, node_size=3) # removing isolates for clarity"
   ]
  },
  {
   "cell_type": "code",
   "execution_count": 33,
   "id": "a9bb5259",
   "metadata": {},
   "outputs": [
    {
     "data": {
      "image/svg+xml": [
       "<svg height=\"540\" width=\"845.0\" xmlns=\"http://www.w3.org/2000/svg\"><path d=\"M 424 257 393 128\" stroke=\"gray\" stroke-width=\"0.5\"/><path d=\"M 424 257 290 186\" stroke=\"gray\" stroke-width=\"0.5\"/><path d=\"M 424 257 381 332\" stroke=\"gray\" stroke-width=\"0.5\"/><path d=\"M 424 257 470 250\" stroke=\"gray\" stroke-width=\"0.5\"/><path d=\"M 424 257 593 363\" stroke=\"gray\" stroke-width=\"0.5\"/><path d=\"M 424 257 344 422\" stroke=\"gray\" stroke-width=\"0.5\"/><path d=\"M 424 257 258 314\" stroke=\"gray\" stroke-width=\"0.5\"/><path d=\"M 424 257 184 241\" stroke=\"gray\" stroke-width=\"0.5\"/><path d=\"M 424 257 344 355\" stroke=\"gray\" stroke-width=\"0.5\"/><path d=\"M 424 257 474 161\" stroke=\"gray\" stroke-width=\"0.5\"/><path d=\"M 424 257 598 304\" stroke=\"gray\" stroke-width=\"0.5\"/><path d=\"M 424 257 259 236\" stroke=\"gray\" stroke-width=\"0.5\"/><path d=\"M 424 257 615 231\" stroke=\"gray\" stroke-width=\"0.5\"/><path d=\"M 424 257 271 281\" stroke=\"gray\" stroke-width=\"0.5\"/><path d=\"M 424 257 480 312\" stroke=\"gray\" stroke-width=\"0.5\"/><path d=\"M 424 257 355 139\" stroke=\"gray\" stroke-width=\"0.5\"/><path d=\"M 424 257 359 219\" stroke=\"gray\" stroke-width=\"0.5\"/><path d=\"M 424 257 523 98\" stroke=\"gray\" stroke-width=\"0.5\"/><path d=\"M 424 257 604 267\" stroke=\"gray\" stroke-width=\"0.5\"/><path d=\"M 424 257 558 253\" stroke=\"gray\" stroke-width=\"0.5\"/><path d=\"M 424 257 480 204\" stroke=\"gray\" stroke-width=\"0.5\"/><path d=\"M 424 257 539 327\" stroke=\"gray\" stroke-width=\"0.5\"/><path d=\"M 424 257 415 188\" stroke=\"gray\" stroke-width=\"0.5\"/><path d=\"M 393 128 424 257\" stroke=\"gray\" stroke-width=\"0.5\"/><path d=\"M 393 128 290 186\" stroke=\"gray\" stroke-width=\"0.5\"/><path d=\"M 393 128 474 161\" stroke=\"gray\" stroke-width=\"0.5\"/><path d=\"M 393 128 384 20\" stroke=\"gray\" stroke-width=\"0.5\"/><path d=\"M 290 186 424 257\" stroke=\"gray\" stroke-width=\"0.5\"/><path d=\"M 290 186 393 128\" stroke=\"gray\" stroke-width=\"0.5\"/><path d=\"M 290 186 184 241\" stroke=\"gray\" stroke-width=\"0.5\"/><path d=\"M 381 332 424 257\" stroke=\"gray\" stroke-width=\"0.5\"/><path d=\"M 470 250 424 257\" stroke=\"gray\" stroke-width=\"0.5\"/><path d=\"M 470 250 613 193\" stroke=\"gray\" stroke-width=\"0.5\"/><path d=\"M 470 250 480 312\" stroke=\"gray\" stroke-width=\"0.5\"/><path d=\"M 470 250 359 219\" stroke=\"gray\" stroke-width=\"0.5\"/><path d=\"M 470 250 348 276\" stroke=\"gray\" stroke-width=\"0.5\"/><path d=\"M 593 363 424 257\" stroke=\"gray\" stroke-width=\"0.5\"/><path d=\"M 593 363 720 425\" stroke=\"gray\" stroke-width=\"0.5\"/><path d=\"M 720 425 593 363\" stroke=\"gray\" stroke-width=\"0.5\"/><path d=\"M 344 422 424 257\" stroke=\"gray\" stroke-width=\"0.5\"/><path d=\"M 344 422 323 520\" stroke=\"gray\" stroke-width=\"0.5\"/><path d=\"M 344 422 267 510\" stroke=\"gray\" stroke-width=\"0.5\"/><path d=\"M 258 314 424 257\" stroke=\"gray\" stroke-width=\"0.5\"/><path d=\"M 103 316 184 241\" stroke=\"gray\" stroke-width=\"0.5\"/><path d=\"M 184 241 424 257\" stroke=\"gray\" stroke-width=\"0.5\"/><path d=\"M 184 241 290 186\" stroke=\"gray\" stroke-width=\"0.5\"/><path d=\"M 184 241 103 316\" stroke=\"gray\" stroke-width=\"0.5\"/><path d=\"M 184 241 20 216\" stroke=\"gray\" stroke-width=\"0.5\"/><path d=\"M 323 520 344 422\" stroke=\"gray\" stroke-width=\"0.5\"/><path d=\"M 323 520 267 510\" stroke=\"gray\" stroke-width=\"0.5\"/><path d=\"M 267 510 344 422\" stroke=\"gray\" stroke-width=\"0.5\"/><path d=\"M 267 510 323 520\" stroke=\"gray\" stroke-width=\"0.5\"/><path d=\"M 20 216 184 241\" stroke=\"gray\" stroke-width=\"0.5\"/><path d=\"M 344 355 424 257\" stroke=\"gray\" stroke-width=\"0.5\"/><path d=\"M 474 161 424 257\" stroke=\"gray\" stroke-width=\"0.5\"/><path d=\"M 474 161 393 128\" stroke=\"gray\" stroke-width=\"0.5\"/><path d=\"M 384 20 393 128\" stroke=\"gray\" stroke-width=\"0.5\"/><path d=\"M 598 304 424 257\" stroke=\"gray\" stroke-width=\"0.5\"/><path d=\"M 259 236 424 257\" stroke=\"gray\" stroke-width=\"0.5\"/><path d=\"M 615 231 424 257\" stroke=\"gray\" stroke-width=\"0.5\"/><path d=\"M 613 193 470 250\" stroke=\"gray\" stroke-width=\"0.5\"/><path d=\"M 271 281 424 257\" stroke=\"gray\" stroke-width=\"0.5\"/><path d=\"M 480 312 424 257\" stroke=\"gray\" stroke-width=\"0.5\"/><path d=\"M 480 312 470 250\" stroke=\"gray\" stroke-width=\"0.5\"/><path d=\"M 355 139 424 257\" stroke=\"gray\" stroke-width=\"0.5\"/><path d=\"M 355 139 359 219\" stroke=\"gray\" stroke-width=\"0.5\"/><path d=\"M 355 139 523 98\" stroke=\"gray\" stroke-width=\"0.5\"/><path d=\"M 355 139 222 68\" stroke=\"gray\" stroke-width=\"0.5\"/><path d=\"M 359 219 424 257\" stroke=\"gray\" stroke-width=\"0.5\"/><path d=\"M 359 219 470 250\" stroke=\"gray\" stroke-width=\"0.5\"/><path d=\"M 359 219 355 139\" stroke=\"gray\" stroke-width=\"0.5\"/><path d=\"M 359 219 348 276\" stroke=\"gray\" stroke-width=\"0.5\"/><path d=\"M 523 98 424 257\" stroke=\"gray\" stroke-width=\"0.5\"/><path d=\"M 523 98 355 139\" stroke=\"gray\" stroke-width=\"0.5\"/><path d=\"M 523 98 656 50\" stroke=\"gray\" stroke-width=\"0.5\"/><path d=\"M 523 98 641 20\" stroke=\"gray\" stroke-width=\"0.5\"/><path d=\"M 523 98 596 21\" stroke=\"gray\" stroke-width=\"0.5\"/><path d=\"M 523 98 488 27\" stroke=\"gray\" stroke-width=\"0.5\"/><path d=\"M 222 68 355 139\" stroke=\"gray\" stroke-width=\"0.5\"/><path d=\"M 656 50 523 98\" stroke=\"gray\" stroke-width=\"0.5\"/><path d=\"M 656 50 641 20\" stroke=\"gray\" stroke-width=\"0.5\"/><path d=\"M 656 50 596 21\" stroke=\"gray\" stroke-width=\"0.5\"/><path d=\"M 641 20 523 98\" stroke=\"gray\" stroke-width=\"0.5\"/><path d=\"M 641 20 656 50\" stroke=\"gray\" stroke-width=\"0.5\"/><path d=\"M 641 20 596 21\" stroke=\"gray\" stroke-width=\"0.5\"/><path d=\"M 596 21 523 98\" stroke=\"gray\" stroke-width=\"0.5\"/><path d=\"M 596 21 656 50\" stroke=\"gray\" stroke-width=\"0.5\"/><path d=\"M 596 21 641 20\" stroke=\"gray\" stroke-width=\"0.5\"/><path d=\"M 488 27 523 98\" stroke=\"gray\" stroke-width=\"0.5\"/><path d=\"M 604 267 424 257\" stroke=\"gray\" stroke-width=\"0.5\"/><path d=\"M 604 267 558 253\" stroke=\"gray\" stroke-width=\"0.5\"/><path d=\"M 558 253 424 257\" stroke=\"gray\" stroke-width=\"0.5\"/><path d=\"M 558 253 604 267\" stroke=\"gray\" stroke-width=\"0.5\"/><path d=\"M 480 204 424 257\" stroke=\"gray\" stroke-width=\"0.5\"/><path d=\"M 480 204 415 188\" stroke=\"gray\" stroke-width=\"0.5\"/><path d=\"M 539 327 424 257\" stroke=\"gray\" stroke-width=\"0.5\"/><path d=\"M 415 188 424 257\" stroke=\"gray\" stroke-width=\"0.5\"/><path d=\"M 415 188 480 204\" stroke=\"gray\" stroke-width=\"0.5\"/><path d=\"M 348 276 470 250\" stroke=\"gray\" stroke-width=\"0.5\"/><path d=\"M 348 276 359 219\" stroke=\"gray\" stroke-width=\"0.5\"/><circle cx=\"424\" cy=\"257\" r=\"3.0\" style=\"fill:rgb(179, 3, 38);stroke:black;stroke-width:1.0\"/><circle cx=\"393\" cy=\"128\" r=\"3.0\" style=\"fill:rgb(99, 131, 234);stroke:black;stroke-width:1.0\"/><circle cx=\"290\" cy=\"186\" r=\"3.0\" style=\"fill:rgb(86, 115, 224);stroke:black;stroke-width:1.0\"/><circle cx=\"381\" cy=\"332\" r=\"3.0\" style=\"fill:rgb(58, 76, 192);stroke:black;stroke-width:1.0\"/><circle cx=\"470\" cy=\"250\" r=\"3.0\" style=\"fill:rgb(112, 147, 243);stroke:black;stroke-width:1.0\"/><circle cx=\"593\" cy=\"363\" r=\"3.0\" style=\"fill:rgb(76, 102, 214);stroke:black;stroke-width:1.0\"/><circle cx=\"720\" cy=\"425\" r=\"3.0\" style=\"fill:rgb(60, 79, 195);stroke:black;stroke-width:1.0\"/><circle cx=\"344\" cy=\"422\" r=\"3.0\" style=\"fill:rgb(86, 115, 224);stroke:black;stroke-width:1.0\"/><circle cx=\"258\" cy=\"314\" r=\"3.0\" style=\"fill:rgb(58, 76, 192);stroke:black;stroke-width:1.0\"/><circle cx=\"103\" cy=\"316\" r=\"3.0\" style=\"fill:rgb(58, 76, 192);stroke:black;stroke-width:1.0\"/><circle cx=\"184\" cy=\"241\" r=\"3.0\" style=\"fill:rgb(105, 139, 239);stroke:black;stroke-width:1.0\"/><circle cx=\"323\" cy=\"520\" r=\"3.0\" style=\"fill:rgb(72, 96, 209);stroke:black;stroke-width:1.0\"/><circle cx=\"267\" cy=\"510\" r=\"3.0\" style=\"fill:rgb(72, 96, 209);stroke:black;stroke-width:1.0\"/><circle cx=\"20\" cy=\"216\" r=\"3.0\" style=\"fill:rgb(58, 76, 192);stroke:black;stroke-width:1.0\"/><circle cx=\"344\" cy=\"355\" r=\"3.0\" style=\"fill:rgb(58, 76, 192);stroke:black;stroke-width:1.0\"/><circle cx=\"474\" cy=\"161\" r=\"3.0\" style=\"fill:rgb(70, 93, 207);stroke:black;stroke-width:1.0\"/><circle cx=\"384\" cy=\"20\" r=\"3.0\" style=\"fill:rgb(58, 76, 192);stroke:black;stroke-width:1.0\"/><circle cx=\"598\" cy=\"304\" r=\"3.0\" style=\"fill:rgb(58, 76, 192);stroke:black;stroke-width:1.0\"/><circle cx=\"259\" cy=\"236\" r=\"3.0\" style=\"fill:rgb(58, 76, 192);stroke:black;stroke-width:1.0\"/><circle cx=\"615\" cy=\"231\" r=\"3.0\" style=\"fill:rgb(58, 76, 192);stroke:black;stroke-width:1.0\"/><circle cx=\"613\" cy=\"193\" r=\"3.0\" style=\"fill:rgb(58, 76, 192);stroke:black;stroke-width:1.0\"/><circle cx=\"271\" cy=\"281\" r=\"3.0\" style=\"fill:rgb(58, 76, 192);stroke:black;stroke-width:1.0\"/><circle cx=\"480\" cy=\"312\" r=\"3.0\" style=\"fill:rgb(70, 93, 207);stroke:black;stroke-width:1.0\"/><circle cx=\"355\" cy=\"139\" r=\"3.0\" style=\"fill:rgb(96, 128, 232);stroke:black;stroke-width:1.0\"/><circle cx=\"359\" cy=\"219\" r=\"3.0\" style=\"fill:rgb(96, 128, 232);stroke:black;stroke-width:1.0\"/><circle cx=\"523\" cy=\"98\" r=\"3.0\" style=\"fill:rgb(120, 155, 247);stroke:black;stroke-width:1.0\"/><circle cx=\"222\" cy=\"68\" r=\"3.0\" style=\"fill:rgb(58, 76, 192);stroke:black;stroke-width:1.0\"/><circle cx=\"656\" cy=\"50\" r=\"3.0\" style=\"fill:rgb(80, 107, 218);stroke:black;stroke-width:1.0\"/><circle cx=\"641\" cy=\"20\" r=\"3.0\" style=\"fill:rgb(80, 107, 218);stroke:black;stroke-width:1.0\"/><circle cx=\"596\" cy=\"21\" r=\"3.0\" style=\"fill:rgb(80, 107, 218);stroke:black;stroke-width:1.0\"/><circle cx=\"488\" cy=\"27\" r=\"3.0\" style=\"fill:rgb(58, 76, 192);stroke:black;stroke-width:1.0\"/><circle cx=\"604\" cy=\"267\" r=\"3.0\" style=\"fill:rgb(70, 93, 207);stroke:black;stroke-width:1.0\"/><circle cx=\"558\" cy=\"253\" r=\"3.0\" style=\"fill:rgb(70, 93, 207);stroke:black;stroke-width:1.0\"/><circle cx=\"480\" cy=\"204\" r=\"3.0\" style=\"fill:rgb(70, 93, 207);stroke:black;stroke-width:1.0\"/><circle cx=\"539\" cy=\"327\" r=\"3.0\" style=\"fill:rgb(58, 76, 192);stroke:black;stroke-width:1.0\"/><circle cx=\"415\" cy=\"188\" r=\"3.0\" style=\"fill:rgb(70, 93, 207);stroke:black;stroke-width:1.0\"/><circle cx=\"348\" cy=\"276\" r=\"3.0\" style=\"fill:rgb(70, 93, 207);stroke:black;stroke-width:1.0\"/><text font-size=\"10\" x=\"430\" y=\"260\">Alice</text><text font-size=\"10\" x=\"399\" y=\"131\">Rabbit</text><text font-size=\"10\" x=\"296\" y=\"189\">Dinah</text><text font-size=\"10\" x=\"387\" y=\"335\">Fender</text><text font-size=\"10\" x=\"476\" y=\"253\">Duchess</text><text font-size=\"10\" x=\"599\" y=\"366\">Mabel</text><text font-size=\"10\" x=\"726\" y=\"428\">Ada</text><text font-size=\"10\" x=\"350\" y=\"425\">Mouse</text><text font-size=\"10\" x=\"264\" y=\"317\">William the Conqueror</text><text font-size=\"10\" x=\"109\" y=\"319\">Eaglet</text><text font-size=\"10\" x=\"190\" y=\"244\">Lory</text><text font-size=\"10\" x=\"329\" y=\"523\">William</text><text font-size=\"10\" x=\"273\" y=\"513\">Edgar Atheling</text><text font-size=\"10\" x=\"26\" y=\"219\">Crab</text><text font-size=\"10\" x=\"350\" y=\"358\">Bill</text><text font-size=\"10\" x=\"480\" y=\"164\">Mary Ann</text><text font-size=\"10\" x=\"390\" y=\"23\">Pat</text><text font-size=\"10\" x=\"604\" y=\"307\">Caterpillar</text><text font-size=\"10\" x=\"265\" y=\"239\">Pigeon</text><text font-size=\"10\" x=\"621\" y=\"234\">Fish-Footman</text><text font-size=\"10\" x=\"619\" y=\"196\">Cheshire</text><text font-size=\"10\" x=\"277\" y=\"284\">Cheshire Cat</text><text font-size=\"10\" x=\"486\" y=\"315\">Cat</text><text font-size=\"10\" x=\"361\" y=\"142\">Hatter</text><text font-size=\"10\" x=\"365\" y=\"222\">Hare</text><text font-size=\"10\" x=\"529\" y=\"101\">Dormouse</text><text font-size=\"10\" x=\"228\" y=\"71\">Time</text><text font-size=\"10\" x=\"662\" y=\"53\">Elsie</text><text font-size=\"10\" x=\"647\" y=\"23\">Tillie</text><text font-size=\"10\" x=\"602\" y=\"24\">Lacie</text><text font-size=\"10\" x=\"494\" y=\"30\">Treacle</text><text font-size=\"10\" x=\"610\" y=\"270\">Queens</text><text font-size=\"10\" x=\"564\" y=\"256\">Kings</text><text font-size=\"10\" x=\"486\" y=\"207\">Gryphon</text><text font-size=\"10\" x=\"545\" y=\"330\">Lobster Quadrille</text><text font-size=\"10\" x=\"421\" y=\"191\">Soup</text><text font-size=\"10\" x=\"354\" y=\"279\">Lizard</text></svg>"
      ],
      "text/plain": [
       "<IPython.core.display.SVG object>"
      ]
     },
     "execution_count": 33,
     "metadata": {},
     "output_type": "execute_result"
    }
   ],
   "source": [
    "draw_graph(G, show_names=True, node_size=3)"
   ]
  },
  {
   "cell_type": "code",
   "execution_count": 34,
   "id": "ea169f63",
   "metadata": {},
   "outputs": [
    {
     "data": {
      "text/plain": [
       "0.07507507507507508"
      ]
     },
     "execution_count": 34,
     "metadata": {},
     "output_type": "execute_result"
    }
   ],
   "source": [
    "nx.density(G)"
   ]
  },
  {
   "cell_type": "code",
   "execution_count": 35,
   "id": "814a34c5",
   "metadata": {},
   "outputs": [
    {
     "data": {
      "text/plain": [
       "0.032196969696969696"
      ]
     },
     "execution_count": 35,
     "metadata": {},
     "output_type": "execute_result"
    }
   ],
   "source": [
    "nx.density(G1)"
   ]
  },
  {
   "cell_type": "code",
   "execution_count": 36,
   "id": "8e2dd786",
   "metadata": {},
   "outputs": [
    {
     "name": "stdout",
     "output_type": "stream",
     "text": [
      "Graph with 37 nodes and 50 edges\n"
     ]
    }
   ],
   "source": [
    "print(G)"
   ]
  },
  {
   "cell_type": "code",
   "execution_count": 37,
   "id": "4c8dfb1d",
   "metadata": {},
   "outputs": [
    {
     "name": "stdout",
     "output_type": "stream",
     "text": [
      "Graph with 33 nodes and 17 edges\n"
     ]
    }
   ],
   "source": [
    "print(G1)"
   ]
  },
  {
   "cell_type": "code",
   "execution_count": 38,
   "id": "9a3b0a79",
   "metadata": {},
   "outputs": [
    {
     "data": {
      "text/plain": [
       "[4, 1, 2, 3, 1, 1, 1, 1, 1, 1, 1, 1, 1, 1, 2, 5, 1, 2, 2, 1]"
      ]
     },
     "execution_count": 38,
     "metadata": {},
     "output_type": "execute_result"
    }
   ],
   "source": [
    "components = list(nx.connected_components(G1))\n",
    "\n",
    "[len(c) for c in components]"
   ]
  },
  {
   "cell_type": "code",
   "execution_count": 39,
   "id": "5ad6c76f",
   "metadata": {},
   "outputs": [
    {
     "data": {
      "text/plain": [
       "20"
      ]
     },
     "execution_count": 39,
     "metadata": {},
     "output_type": "execute_result"
    }
   ],
   "source": [
    "len(components)"
   ]
  },
  {
   "cell_type": "code",
   "execution_count": 40,
   "id": "5b61bfd4",
   "metadata": {},
   "outputs": [
    {
     "data": {
      "text/plain": [
       "1.65"
      ]
     },
     "execution_count": 40,
     "metadata": {},
     "output_type": "execute_result"
    }
   ],
   "source": [
    "np.mean([len(c) for c in components]) # average component size"
   ]
  },
  {
   "cell_type": "markdown",
   "id": "5ed063e5",
   "metadata": {},
   "source": [
    "# Simulation 2: Burst Attack"
   ]
  },
  {
   "cell_type": "code",
   "execution_count": 41,
   "id": "588f4bbb",
   "metadata": {},
   "outputs": [
    {
     "data": {
      "image/svg+xml": [
       "<svg height=\"540\" width=\"845.0\" xmlns=\"http://www.w3.org/2000/svg\"><path d=\"M 336 283 364 414\" stroke=\"gray\" stroke-width=\"0.5\"/><path d=\"M 336 283 329 382\" stroke=\"gray\" stroke-width=\"0.5\"/><path d=\"M 336 283 269 181\" stroke=\"gray\" stroke-width=\"0.5\"/><path d=\"M 336 283 168 209\" stroke=\"gray\" stroke-width=\"0.5\"/><path d=\"M 336 283 179 344\" stroke=\"gray\" stroke-width=\"0.5\"/><path d=\"M 336 283 392 118\" stroke=\"gray\" stroke-width=\"0.5\"/><path d=\"M 336 283 186 280\" stroke=\"gray\" stroke-width=\"0.5\"/><path d=\"M 336 283 312 430\" stroke=\"gray\" stroke-width=\"0.5\"/><path d=\"M 336 283 231 218\" stroke=\"gray\" stroke-width=\"0.5\"/><path d=\"M 336 283 370 359\" stroke=\"gray\" stroke-width=\"0.5\"/><path d=\"M 336 283 231 365\" stroke=\"gray\" stroke-width=\"0.5\"/><path d=\"M 336 283 483 290\" stroke=\"gray\" stroke-width=\"0.5\"/><path d=\"M 336 283 279 360\" stroke=\"gray\" stroke-width=\"0.5\"/><path d=\"M 336 283 430 366\" stroke=\"gray\" stroke-width=\"0.5\"/><path d=\"M 336 283 181 246\" stroke=\"gray\" stroke-width=\"0.5\"/><path d=\"M 336 283 371 265\" stroke=\"gray\" stroke-width=\"0.5\"/><path d=\"M 336 283 270 213\" stroke=\"gray\" stroke-width=\"0.5\"/><path d=\"M 336 283 568 263\" stroke=\"gray\" stroke-width=\"0.5\"/><path d=\"M 336 283 404 202\" stroke=\"gray\" stroke-width=\"0.5\"/><path d=\"M 336 283 358 191\" stroke=\"gray\" stroke-width=\"0.5\"/><path d=\"M 336 283 431 303\" stroke=\"gray\" stroke-width=\"0.5\"/><path d=\"M 336 283 455 234\" stroke=\"gray\" stroke-width=\"0.5\"/><path d=\"M 336 283 459 332\" stroke=\"gray\" stroke-width=\"0.5\"/><path d=\"M 364 414 336 283\" stroke=\"gray\" stroke-width=\"0.5\"/><path d=\"M 364 414 329 382\" stroke=\"gray\" stroke-width=\"0.5\"/><path d=\"M 364 414 370 359\" stroke=\"gray\" stroke-width=\"0.5\"/><path d=\"M 364 414 356 520\" stroke=\"gray\" stroke-width=\"0.5\"/><path d=\"M 329 382 336 283\" stroke=\"gray\" stroke-width=\"0.5\"/><path d=\"M 329 382 364 414\" stroke=\"gray\" stroke-width=\"0.5\"/><path d=\"M 329 382 312 430\" stroke=\"gray\" stroke-width=\"0.5\"/><path d=\"M 269 181 336 283\" stroke=\"gray\" stroke-width=\"0.5\"/><path d=\"M 168 209 336 283\" stroke=\"gray\" stroke-width=\"0.5\"/><path d=\"M 168 209 20 203\" stroke=\"gray\" stroke-width=\"0.5\"/><path d=\"M 168 209 181 246\" stroke=\"gray\" stroke-width=\"0.5\"/><path d=\"M 168 209 270 213\" stroke=\"gray\" stroke-width=\"0.5\"/><path d=\"M 168 209 183 144\" stroke=\"gray\" stroke-width=\"0.5\"/><path d=\"M 179 344 336 283\" stroke=\"gray\" stroke-width=\"0.5\"/><path d=\"M 179 344 75 388\" stroke=\"gray\" stroke-width=\"0.5\"/><path d=\"M 75 388 179 344\" stroke=\"gray\" stroke-width=\"0.5\"/><path d=\"M 392 118 336 283\" stroke=\"gray\" stroke-width=\"0.5\"/><path d=\"M 392 118 399 20\" stroke=\"gray\" stroke-width=\"0.5\"/><path d=\"M 392 118 449 28\" stroke=\"gray\" stroke-width=\"0.5\"/><path d=\"M 186 280 336 283\" stroke=\"gray\" stroke-width=\"0.5\"/><path d=\"M 414 500 312 430\" stroke=\"gray\" stroke-width=\"0.5\"/><path d=\"M 312 430 336 283\" stroke=\"gray\" stroke-width=\"0.5\"/><path d=\"M 312 430 329 382\" stroke=\"gray\" stroke-width=\"0.5\"/><path d=\"M 312 430 414 500\" stroke=\"gray\" stroke-width=\"0.5\"/><path d=\"M 312 430 211 498\" stroke=\"gray\" stroke-width=\"0.5\"/><path d=\"M 399 20 392 118\" stroke=\"gray\" stroke-width=\"0.5\"/><path d=\"M 399 20 449 28\" stroke=\"gray\" stroke-width=\"0.5\"/><path d=\"M 449 28 392 118\" stroke=\"gray\" stroke-width=\"0.5\"/><path d=\"M 449 28 399 20\" stroke=\"gray\" stroke-width=\"0.5\"/><path d=\"M 211 498 312 430\" stroke=\"gray\" stroke-width=\"0.5\"/><path d=\"M 231 218 336 283\" stroke=\"gray\" stroke-width=\"0.5\"/><path d=\"M 370 359 336 283\" stroke=\"gray\" stroke-width=\"0.5\"/><path d=\"M 370 359 364 414\" stroke=\"gray\" stroke-width=\"0.5\"/><path d=\"M 356 520 364 414\" stroke=\"gray\" stroke-width=\"0.5\"/><path d=\"M 231 365 336 283\" stroke=\"gray\" stroke-width=\"0.5\"/><path d=\"M 483 290 336 283\" stroke=\"gray\" stroke-width=\"0.5\"/><path d=\"M 279 360 336 283\" stroke=\"gray\" stroke-width=\"0.5\"/><path d=\"M 20 203 168 209\" stroke=\"gray\" stroke-width=\"0.5\"/><path d=\"M 430 366 336 283\" stroke=\"gray\" stroke-width=\"0.5\"/><path d=\"M 181 246 336 283\" stroke=\"gray\" stroke-width=\"0.5\"/><path d=\"M 181 246 168 209\" stroke=\"gray\" stroke-width=\"0.5\"/><path d=\"M 371 265 336 283\" stroke=\"gray\" stroke-width=\"0.5\"/><path d=\"M 371 265 270 213\" stroke=\"gray\" stroke-width=\"0.5\"/><path d=\"M 371 265 568 263\" stroke=\"gray\" stroke-width=\"0.5\"/><path d=\"M 371 265 213 305\" stroke=\"gray\" stroke-width=\"0.5\"/><path d=\"M 270 213 336 283\" stroke=\"gray\" stroke-width=\"0.5\"/><path d=\"M 270 213 168 209\" stroke=\"gray\" stroke-width=\"0.5\"/><path d=\"M 270 213 371 265\" stroke=\"gray\" stroke-width=\"0.5\"/><path d=\"M 270 213 183 144\" stroke=\"gray\" stroke-width=\"0.5\"/><path d=\"M 568 263 336 283\" stroke=\"gray\" stroke-width=\"0.5\"/><path d=\"M 568 263 371 265\" stroke=\"gray\" stroke-width=\"0.5\"/><path d=\"M 568 263 720 252\" stroke=\"gray\" stroke-width=\"0.5\"/><path d=\"M 568 263 684 237\" stroke=\"gray\" stroke-width=\"0.5\"/><path d=\"M 568 263 700 212\" stroke=\"gray\" stroke-width=\"0.5\"/><path d=\"M 568 263 693 318\" stroke=\"gray\" stroke-width=\"0.5\"/><path d=\"M 213 305 371 265\" stroke=\"gray\" stroke-width=\"0.5\"/><path d=\"M 720 252 568 263\" stroke=\"gray\" stroke-width=\"0.5\"/><path d=\"M 720 252 684 237\" stroke=\"gray\" stroke-width=\"0.5\"/><path d=\"M 720 252 700 212\" stroke=\"gray\" stroke-width=\"0.5\"/><path d=\"M 684 237 568 263\" stroke=\"gray\" stroke-width=\"0.5\"/><path d=\"M 684 237 720 252\" stroke=\"gray\" stroke-width=\"0.5\"/><path d=\"M 684 237 700 212\" stroke=\"gray\" stroke-width=\"0.5\"/><path d=\"M 700 212 568 263\" stroke=\"gray\" stroke-width=\"0.5\"/><path d=\"M 700 212 720 252\" stroke=\"gray\" stroke-width=\"0.5\"/><path d=\"M 700 212 684 237\" stroke=\"gray\" stroke-width=\"0.5\"/><path d=\"M 693 318 568 263\" stroke=\"gray\" stroke-width=\"0.5\"/><path d=\"M 404 202 336 283\" stroke=\"gray\" stroke-width=\"0.5\"/><path d=\"M 404 202 358 191\" stroke=\"gray\" stroke-width=\"0.5\"/><path d=\"M 358 191 336 283\" stroke=\"gray\" stroke-width=\"0.5\"/><path d=\"M 358 191 404 202\" stroke=\"gray\" stroke-width=\"0.5\"/><path d=\"M 431 303 336 283\" stroke=\"gray\" stroke-width=\"0.5\"/><path d=\"M 431 303 459 332\" stroke=\"gray\" stroke-width=\"0.5\"/><path d=\"M 455 234 336 283\" stroke=\"gray\" stroke-width=\"0.5\"/><path d=\"M 459 332 336 283\" stroke=\"gray\" stroke-width=\"0.5\"/><path d=\"M 459 332 431 303\" stroke=\"gray\" stroke-width=\"0.5\"/><path d=\"M 183 144 168 209\" stroke=\"gray\" stroke-width=\"0.5\"/><path d=\"M 183 144 270 213\" stroke=\"gray\" stroke-width=\"0.5\"/><circle cx=\"336\" cy=\"283\" r=\"3.0\" style=\"fill:rgb(179, 3, 38);stroke:black;stroke-width:1.0\"/><circle cx=\"364\" cy=\"414\" r=\"3.0\" style=\"fill:rgb(99, 131, 234);stroke:black;stroke-width:1.0\"/><circle cx=\"329\" cy=\"382\" r=\"3.0\" style=\"fill:rgb(86, 115, 224);stroke:black;stroke-width:1.0\"/><circle cx=\"269\" cy=\"181\" r=\"3.0\" style=\"fill:rgb(58, 76, 192);stroke:black;stroke-width:1.0\"/><circle cx=\"168\" cy=\"209\" r=\"3.0\" style=\"fill:rgb(112, 147, 243);stroke:black;stroke-width:1.0\"/><circle cx=\"179\" cy=\"344\" r=\"3.0\" style=\"fill:rgb(76, 102, 214);stroke:black;stroke-width:1.0\"/><circle cx=\"75\" cy=\"388\" r=\"3.0\" style=\"fill:rgb(60, 79, 195);stroke:black;stroke-width:1.0\"/><circle cx=\"392\" cy=\"118\" r=\"3.0\" style=\"fill:rgb(86, 115, 224);stroke:black;stroke-width:1.0\"/><circle cx=\"186\" cy=\"280\" r=\"3.0\" style=\"fill:rgb(58, 76, 192);stroke:black;stroke-width:1.0\"/><circle cx=\"414\" cy=\"500\" r=\"3.0\" style=\"fill:rgb(58, 76, 192);stroke:black;stroke-width:1.0\"/><circle cx=\"312\" cy=\"430\" r=\"3.0\" style=\"fill:rgb(105, 139, 239);stroke:black;stroke-width:1.0\"/><circle cx=\"399\" cy=\"20\" r=\"3.0\" style=\"fill:rgb(72, 96, 209);stroke:black;stroke-width:1.0\"/><circle cx=\"449\" cy=\"28\" r=\"3.0\" style=\"fill:rgb(72, 96, 209);stroke:black;stroke-width:1.0\"/><circle cx=\"211\" cy=\"498\" r=\"3.0\" style=\"fill:rgb(58, 76, 192);stroke:black;stroke-width:1.0\"/><circle cx=\"231\" cy=\"218\" r=\"3.0\" style=\"fill:rgb(58, 76, 192);stroke:black;stroke-width:1.0\"/><circle cx=\"370\" cy=\"359\" r=\"3.0\" style=\"fill:rgb(70, 93, 207);stroke:black;stroke-width:1.0\"/><circle cx=\"356\" cy=\"520\" r=\"3.0\" style=\"fill:rgb(58, 76, 192);stroke:black;stroke-width:1.0\"/><circle cx=\"231\" cy=\"365\" r=\"3.0\" style=\"fill:rgb(58, 76, 192);stroke:black;stroke-width:1.0\"/><circle cx=\"483\" cy=\"290\" r=\"3.0\" style=\"fill:rgb(58, 76, 192);stroke:black;stroke-width:1.0\"/><circle cx=\"279\" cy=\"360\" r=\"3.0\" style=\"fill:rgb(58, 76, 192);stroke:black;stroke-width:1.0\"/><circle cx=\"20\" cy=\"203\" r=\"3.0\" style=\"fill:rgb(58, 76, 192);stroke:black;stroke-width:1.0\"/><circle cx=\"430\" cy=\"366\" r=\"3.0\" style=\"fill:rgb(58, 76, 192);stroke:black;stroke-width:1.0\"/><circle cx=\"181\" cy=\"246\" r=\"3.0\" style=\"fill:rgb(70, 93, 207);stroke:black;stroke-width:1.0\"/><circle cx=\"371\" cy=\"265\" r=\"3.0\" style=\"fill:rgb(96, 128, 232);stroke:black;stroke-width:1.0\"/><circle cx=\"270\" cy=\"213\" r=\"3.0\" style=\"fill:rgb(96, 128, 232);stroke:black;stroke-width:1.0\"/><circle cx=\"568\" cy=\"263\" r=\"3.0\" style=\"fill:rgb(120, 155, 247);stroke:black;stroke-width:1.0\"/><circle cx=\"213\" cy=\"305\" r=\"3.0\" style=\"fill:rgb(58, 76, 192);stroke:black;stroke-width:1.0\"/><circle cx=\"720\" cy=\"252\" r=\"3.0\" style=\"fill:rgb(80, 107, 218);stroke:black;stroke-width:1.0\"/><circle cx=\"684\" cy=\"237\" r=\"3.0\" style=\"fill:rgb(80, 107, 218);stroke:black;stroke-width:1.0\"/><circle cx=\"700\" cy=\"212\" r=\"3.0\" style=\"fill:rgb(80, 107, 218);stroke:black;stroke-width:1.0\"/><circle cx=\"693\" cy=\"318\" r=\"3.0\" style=\"fill:rgb(58, 76, 192);stroke:black;stroke-width:1.0\"/><circle cx=\"404\" cy=\"202\" r=\"3.0\" style=\"fill:rgb(70, 93, 207);stroke:black;stroke-width:1.0\"/><circle cx=\"358\" cy=\"191\" r=\"3.0\" style=\"fill:rgb(70, 93, 207);stroke:black;stroke-width:1.0\"/><circle cx=\"431\" cy=\"303\" r=\"3.0\" style=\"fill:rgb(70, 93, 207);stroke:black;stroke-width:1.0\"/><circle cx=\"455\" cy=\"234\" r=\"3.0\" style=\"fill:rgb(58, 76, 192);stroke:black;stroke-width:1.0\"/><circle cx=\"459\" cy=\"332\" r=\"3.0\" style=\"fill:rgb(70, 93, 207);stroke:black;stroke-width:1.0\"/><circle cx=\"183\" cy=\"144\" r=\"3.0\" style=\"fill:rgb(70, 93, 207);stroke:black;stroke-width:1.0\"/><text font-size=\"10\" x=\"342\" y=\"286\">Alice</text><text font-size=\"10\" x=\"370\" y=\"417\">Rabbit</text><text font-size=\"10\" x=\"335\" y=\"385\">Dinah</text><text font-size=\"10\" x=\"275\" y=\"184\">Fender</text><text font-size=\"10\" x=\"174\" y=\"212\">Duchess</text><text font-size=\"10\" x=\"185\" y=\"347\">Mabel</text><text font-size=\"10\" x=\"81\" y=\"391\">Ada</text><text font-size=\"10\" x=\"398\" y=\"121\">Mouse</text><text font-size=\"10\" x=\"192\" y=\"283\">William the Conqueror</text><text font-size=\"10\" x=\"420\" y=\"503\">Eaglet</text><text font-size=\"10\" x=\"318\" y=\"433\">Lory</text><text font-size=\"10\" x=\"405\" y=\"23\">William</text><text font-size=\"10\" x=\"455\" y=\"31\">Edgar Atheling</text><text font-size=\"10\" x=\"217\" y=\"501\">Crab</text><text font-size=\"10\" x=\"237\" y=\"221\">Bill</text><text font-size=\"10\" x=\"376\" y=\"362\">Mary Ann</text><text font-size=\"10\" x=\"362\" y=\"523\">Pat</text><text font-size=\"10\" x=\"237\" y=\"368\">Caterpillar</text><text font-size=\"10\" x=\"489\" y=\"293\">Pigeon</text><text font-size=\"10\" x=\"285\" y=\"363\">Fish-Footman</text><text font-size=\"10\" x=\"26\" y=\"206\">Cheshire</text><text font-size=\"10\" x=\"436\" y=\"369\">Cheshire Cat</text><text font-size=\"10\" x=\"187\" y=\"249\">Cat</text><text font-size=\"10\" x=\"377\" y=\"268\">Hatter</text><text font-size=\"10\" x=\"276\" y=\"216\">Hare</text><text font-size=\"10\" x=\"574\" y=\"266\">Dormouse</text><text font-size=\"10\" x=\"219\" y=\"308\">Time</text><text font-size=\"10\" x=\"726\" y=\"255\">Elsie</text><text font-size=\"10\" x=\"690\" y=\"240\">Tillie</text><text font-size=\"10\" x=\"706\" y=\"215\">Lacie</text><text font-size=\"10\" x=\"699\" y=\"321\">Treacle</text><text font-size=\"10\" x=\"410\" y=\"205\">Queens</text><text font-size=\"10\" x=\"364\" y=\"194\">Kings</text><text font-size=\"10\" x=\"437\" y=\"306\">Gryphon</text><text font-size=\"10\" x=\"461\" y=\"237\">Lobster Quadrille</text><text font-size=\"10\" x=\"465\" y=\"335\">Soup</text><text font-size=\"10\" x=\"189\" y=\"147\">Lizard</text></svg>"
      ],
      "text/plain": [
       "<IPython.core.display.SVG object>"
      ]
     },
     "execution_count": 41,
     "metadata": {},
     "output_type": "execute_result"
    }
   ],
   "source": [
    "G2 = G.copy() # keep G for use with simulation 2\n",
    "\n",
    "draw_graph(G2, show_names=True, node_size=3)"
   ]
  },
  {
   "cell_type": "code",
   "execution_count": 42,
   "id": "7f413012",
   "metadata": {},
   "outputs": [
    {
     "data": {
      "image/png": "[encoded data removed]",
      "text/plain": [
       "<Figure size 432x288 with 1 Axes>"
      ]
     },
     "metadata": {
      "needs_background": "light"
     },
     "output_type": "display_data"
    }
   ],
   "source": [
    "cent_df = get_cent_df(G2)\n",
    "\n",
    "cent_df[0:20].plot.barh().invert_yaxis()"
   ]
  },
  {
   "cell_type": "code",
   "execution_count": 43,
   "id": "63c6f0a4",
   "metadata": {},
   "outputs": [
    {
     "data": {
      "text/plain": [
       "['Alice', 'Dormouse', 'Lory', 'Mouse']"
      ]
     },
     "execution_count": 43,
     "metadata": {},
     "output_type": "execute_result"
    }
   ],
   "source": [
    "drop_nodes = list(cent_df[0:4].index)\n",
    "\n",
    "drop_nodes"
   ]
  },
  {
   "cell_type": "code",
   "execution_count": 44,
   "id": "cedeeb7b",
   "metadata": {},
   "outputs": [],
   "source": [
    "G2.remove_nodes_from(drop_nodes)"
   ]
  },
  {
   "cell_type": "code",
   "execution_count": 45,
   "id": "e38cc110",
   "metadata": {},
   "outputs": [
    {
     "data": {
      "image/svg+xml": [
       "<svg height=\"540\" width=\"810.0\" xmlns=\"http://www.w3.org/2000/svg\"><path d=\"M 244 171 261 151\" stroke=\"gray\" stroke-width=\"0.5\"/><path d=\"M 244 171 206 169\" stroke=\"gray\" stroke-width=\"0.5\"/><path d=\"M 244 171 269 189\" stroke=\"gray\" stroke-width=\"0.5\"/><path d=\"M 261 151 244 171\" stroke=\"gray\" stroke-width=\"0.5\"/><path d=\"M 70 311 102 294\" stroke=\"gray\" stroke-width=\"0.5\"/><path d=\"M 70 311 46 288\" stroke=\"gray\" stroke-width=\"0.5\"/><path d=\"M 70 311 56 340\" stroke=\"gray\" stroke-width=\"0.5\"/><path d=\"M 70 311 83 330\" stroke=\"gray\" stroke-width=\"0.5\"/><path d=\"M 573 512 547 520\" stroke=\"gray\" stroke-width=\"0.5\"/><path d=\"M 547 520 573 512\" stroke=\"gray\" stroke-width=\"0.5\"/><path d=\"M 247 42 274 49\" stroke=\"gray\" stroke-width=\"0.5\"/><path d=\"M 274 49 247 42\" stroke=\"gray\" stroke-width=\"0.5\"/><path d=\"M 206 169 244 171\" stroke=\"gray\" stroke-width=\"0.5\"/><path d=\"M 269 189 244 171\" stroke=\"gray\" stroke-width=\"0.5\"/><path d=\"M 102 294 70 311\" stroke=\"gray\" stroke-width=\"0.5\"/><path d=\"M 46 288 70 311\" stroke=\"gray\" stroke-width=\"0.5\"/><path d=\"M 35 368 56 340\" stroke=\"gray\" stroke-width=\"0.5\"/><path d=\"M 35 368 20 391\" stroke=\"gray\" stroke-width=\"0.5\"/><path d=\"M 56 340 70 311\" stroke=\"gray\" stroke-width=\"0.5\"/><path d=\"M 56 340 35 368\" stroke=\"gray\" stroke-width=\"0.5\"/><path d=\"M 56 340 83 330\" stroke=\"gray\" stroke-width=\"0.5\"/><path d=\"M 20 391 35 368\" stroke=\"gray\" stroke-width=\"0.5\"/><path d=\"M 330 455 358 459\" stroke=\"gray\" stroke-width=\"0.5\"/><path d=\"M 330 455 350 441\" stroke=\"gray\" stroke-width=\"0.5\"/><path d=\"M 358 459 330 455\" stroke=\"gray\" stroke-width=\"0.5\"/><path d=\"M 358 459 350 441\" stroke=\"gray\" stroke-width=\"0.5\"/><path d=\"M 350 441 330 455\" stroke=\"gray\" stroke-width=\"0.5\"/><path d=\"M 350 441 358 459\" stroke=\"gray\" stroke-width=\"0.5\"/><path d=\"M 484 31 461 20\" stroke=\"gray\" stroke-width=\"0.5\"/><path d=\"M 461 20 484 31\" stroke=\"gray\" stroke-width=\"0.5\"/><path d=\"M 691 355 720 356\" stroke=\"gray\" stroke-width=\"0.5\"/><path d=\"M 720 356 691 355\" stroke=\"gray\" stroke-width=\"0.5\"/><path d=\"M 83 330 70 311\" stroke=\"gray\" stroke-width=\"0.5\"/><path d=\"M 83 330 56 340\" stroke=\"gray\" stroke-width=\"0.5\"/><circle cx=\"244\" cy=\"171\" r=\"3.0\" style=\"fill:rgb(214, 82, 67);stroke:black;stroke-width:1.0\"/><circle cx=\"261\" cy=\"151\" r=\"3.0\" style=\"fill:rgb(103, 136, 237);stroke:black;stroke-width:1.0\"/><circle cx=\"70\" cy=\"311\" r=\"3.0\" style=\"fill:rgb(179, 3, 38);stroke:black;stroke-width:1.0\"/><circle cx=\"573\" cy=\"512\" r=\"3.0\" style=\"fill:rgb(170, 198, 253);stroke:black;stroke-width:1.0\"/><circle cx=\"547\" cy=\"520\" r=\"3.0\" style=\"fill:rgb(170, 198, 253);stroke:black;stroke-width:1.0\"/><circle cx=\"247\" cy=\"42\" r=\"3.0\" style=\"fill:rgb(170, 198, 253);stroke:black;stroke-width:1.0\"/><circle cx=\"274\" cy=\"49\" r=\"3.0\" style=\"fill:rgb(170, 198, 253);stroke:black;stroke-width:1.0\"/><circle cx=\"206\" cy=\"169\" r=\"3.0\" style=\"fill:rgb(103, 136, 237);stroke:black;stroke-width:1.0\"/><circle cx=\"269\" cy=\"189\" r=\"3.0\" style=\"fill:rgb(103, 136, 237);stroke:black;stroke-width:1.0\"/><circle cx=\"102\" cy=\"294\" r=\"3.0\" style=\"fill:rgb(58, 76, 192);stroke:black;stroke-width:1.0\"/><circle cx=\"46\" cy=\"288\" r=\"3.0\" style=\"fill:rgb(58, 76, 192);stroke:black;stroke-width:1.0\"/><circle cx=\"35\" cy=\"368\" r=\"3.0\" style=\"fill:rgb(180, 205, 250);stroke:black;stroke-width:1.0\"/><circle cx=\"56\" cy=\"340\" r=\"3.0\" style=\"fill:rgb(246, 186, 159);stroke:black;stroke-width:1.0\"/><circle cx=\"20\" cy=\"391\" r=\"3.0\" style=\"fill:rgb(66, 88, 202);stroke:black;stroke-width:1.0\"/><circle cx=\"330\" cy=\"455\" r=\"3.0\" style=\"fill:rgb(170, 198, 253);stroke:black;stroke-width:1.0\"/><circle cx=\"358\" cy=\"459\" r=\"3.0\" style=\"fill:rgb(170, 198, 253);stroke:black;stroke-width:1.0\"/><circle cx=\"350\" cy=\"441\" r=\"3.0\" style=\"fill:rgb(170, 198, 253);stroke:black;stroke-width:1.0\"/><circle cx=\"484\" cy=\"31\" r=\"3.0\" style=\"fill:rgb(170, 198, 253);stroke:black;stroke-width:1.0\"/><circle cx=\"461\" cy=\"20\" r=\"3.0\" style=\"fill:rgb(170, 198, 253);stroke:black;stroke-width:1.0\"/><circle cx=\"691\" cy=\"355\" r=\"3.0\" style=\"fill:rgb(170, 198, 253);stroke:black;stroke-width:1.0\"/><circle cx=\"720\" cy=\"356\" r=\"3.0\" style=\"fill:rgb(170, 198, 253);stroke:black;stroke-width:1.0\"/><circle cx=\"83\" cy=\"330\" r=\"3.0\" style=\"fill:rgb(155, 187, 254);stroke:black;stroke-width:1.0\"/><text font-size=\"10\" x=\"250\" y=\"174\">Rabbit</text><text font-size=\"10\" x=\"267\" y=\"154\">Dinah</text><text font-size=\"10\" x=\"76\" y=\"314\">Duchess</text><text font-size=\"10\" x=\"579\" y=\"515\">Mabel</text><text font-size=\"10\" x=\"553\" y=\"523\">Ada</text><text font-size=\"10\" x=\"253\" y=\"45\">William</text><text font-size=\"10\" x=\"280\" y=\"52\">Edgar Atheling</text><text font-size=\"10\" x=\"212\" y=\"172\">Mary Ann</text><text font-size=\"10\" x=\"275\" y=\"192\">Pat</text><text font-size=\"10\" x=\"108\" y=\"297\">Cheshire</text><text font-size=\"10\" x=\"52\" y=\"291\">Cat</text><text font-size=\"10\" x=\"41\" y=\"371\">Hatter</text><text font-size=\"10\" x=\"62\" y=\"343\">Hare</text><text font-size=\"10\" x=\"26\" y=\"394\">Time</text><text font-size=\"10\" x=\"336\" y=\"458\">Elsie</text><text font-size=\"10\" x=\"364\" y=\"462\">Tillie</text><text font-size=\"10\" x=\"356\" y=\"444\">Lacie</text><text font-size=\"10\" x=\"490\" y=\"34\">Queens</text><text font-size=\"10\" x=\"467\" y=\"23\">Kings</text><text font-size=\"10\" x=\"697\" y=\"358\">Gryphon</text><text font-size=\"10\" x=\"726\" y=\"359\">Soup</text><text font-size=\"10\" x=\"89\" y=\"333\">Lizard</text></svg>"
      ],
      "text/plain": [
       "<IPython.core.display.SVG object>"
      ]
     },
     "execution_count": 45,
     "metadata": {},
     "output_type": "execute_result"
    }
   ],
   "source": [
    "draw_graph(nx.k_core(G2, 1), show_names=True, node_size=3) # removing isolates for clarity"
   ]
  },
  {
   "cell_type": "code",
   "execution_count": 46,
   "id": "a48b2566",
   "metadata": {},
   "outputs": [
    {
     "data": {
      "text/plain": [
       "0.07507507507507508"
      ]
     },
     "execution_count": 46,
     "metadata": {},
     "output_type": "execute_result"
    }
   ],
   "source": [
    "nx.density(G)"
   ]
  },
  {
   "cell_type": "code",
   "execution_count": 47,
   "id": "5573abea",
   "metadata": {},
   "outputs": [
    {
     "data": {
      "text/plain": [
       "0.032196969696969696"
      ]
     },
     "execution_count": 47,
     "metadata": {},
     "output_type": "execute_result"
    }
   ],
   "source": [
    "nx.density(G2)"
   ]
  },
  {
   "cell_type": "code",
   "execution_count": 48,
   "id": "5dedb3c1",
   "metadata": {},
   "outputs": [
    {
     "name": "stdout",
     "output_type": "stream",
     "text": [
      "Graph with 37 nodes and 50 edges\n"
     ]
    }
   ],
   "source": [
    "print(G)"
   ]
  },
  {
   "cell_type": "code",
   "execution_count": 49,
   "id": "101c0c28",
   "metadata": {},
   "outputs": [
    {
     "name": "stdout",
     "output_type": "stream",
     "text": [
      "Graph with 33 nodes and 17 edges\n"
     ]
    }
   ],
   "source": [
    "print(G2)"
   ]
  },
  {
   "cell_type": "code",
   "execution_count": 50,
   "id": "7990d2ea",
   "metadata": {},
   "outputs": [
    {
     "data": {
      "text/plain": [
       "[4, 1, 7, 2, 1, 1, 2, 1, 1, 1, 1, 1, 1, 3, 1, 2, 2, 1]"
      ]
     },
     "execution_count": 50,
     "metadata": {},
     "output_type": "execute_result"
    }
   ],
   "source": [
    "components = list(nx.connected_components(G2))\n",
    "\n",
    "[len(c) for c in components]"
   ]
  },
  {
   "cell_type": "code",
   "execution_count": 51,
   "id": "514cf720",
   "metadata": {},
   "outputs": [
    {
     "data": {
      "text/plain": [
       "18"
      ]
     },
     "execution_count": 51,
     "metadata": {},
     "output_type": "execute_result"
    }
   ],
   "source": [
    "len(components) # fewer, less disrupted"
   ]
  },
  {
   "cell_type": "code",
   "execution_count": 52,
   "id": "ebfe73aa",
   "metadata": {},
   "outputs": [
    {
     "data": {
      "text/plain": [
       "1.8333333333333333"
      ]
     },
     "execution_count": 52,
     "metadata": {},
     "output_type": "execute_result"
    }
   ],
   "source": [
    "np.mean([len(c) for c in components]) # average component size"
   ]
  },
  {
   "cell_type": "markdown",
   "id": "0081fdf1",
   "metadata": {},
   "source": [
    "# Outcome: \n",
    "\n",
    "Impact looks nearly identical. Both approaches were catastrophic on the network, disrupting communication between nodes.\n",
    "\n",
    "However, the first approach was more disruptive, resulting in more and smaller connnected components. The network has been shattered into more pieces using the first approach."
   ]
  },
  {
   "cell_type": "code",
   "execution_count": null,
   "id": "083f1f93",
   "metadata": {},
   "outputs": [],
   "source": []
  }
 ],
 "metadata": {
  "kernelspec": {
   "display_name": "Python 3",
   "language": "python",
   "name": "python3"
  },
  "language_info": {
   "codemirror_mode": {
    "name": "ipython",
    "version": 3
   },
   "file_extension": ".py",
   "mimetype": "text/x-python",
   "name": "python",
   "nbconvert_exporter": "python",
   "pygments_lexer": "ipython3",
   "version": "3.7.16"
  }
 },
 "nbformat": 4,
 "nbformat_minor": 5
}
