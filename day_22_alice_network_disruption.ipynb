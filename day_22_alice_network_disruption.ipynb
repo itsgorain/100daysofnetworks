{
 "cells": [
  {
   "cell_type": "code",
   "execution_count": 1,
   "id": "7423be59",
   "metadata": {},
   "outputs": [],
   "source": [
    "import networkx as nx\n",
    "import numpy as np\n",
    "import pandas as pd\n",
    "\n",
    "# for the explode statement; convert string to list\n",
    "from ast import literal_eval\n",
    "\n",
    "# for visualization\n",
    "from IPython.display import SVG \n",
    "from sknetwork.visualization import svg_graph \n",
    "from sknetwork.data import Bunch \n",
    "from sknetwork.ranking import PageRank \n",
    "\n",
    "# for bipartite projection\n",
    "from networkx.algorithms import bipartite\n",
    "\n",
    "# for text and NER\n",
    "from tqdm import tqdm\n",
    "import spacy\n",
    "import requests\n",
    "\n",
    "nlp = spacy.load(\"en_core_web_md\")"
   ]
  },
  {
   "cell_type": "code",
   "execution_count": 2,
   "id": "38a1e588",
   "metadata": {},
   "outputs": [],
   "source": [
    "def get_data(): \n",
    "\n",
    "    url = 'https://www.gutenberg.org/files/11/11-0.txt' \n",
    "    text = requests.get(url).text \n",
    "\n",
    "    # strip header junk \n",
    "    cutoff = text.index('Alice was beginning') \n",
    "    text = text[cutoff:] \n",
    "\n",
    "    # strip footer junk \n",
    "    cutoff = text.rindex('THE END') \n",
    "    text = text[:cutoff] \n",
    "\n",
    "    # pre-processing to clean the text \n",
    "    text = text.replace('\\r', ' ').replace('\\n', ' ') \n",
    "    text = text.replace('â\\x80\\x99', '\\'').replace('â\\x80\\x9c', '\"').replace('â\\x80\\x9d', '\"\"').replace('â\\x80\\x94', ' ') \n",
    "\n",
    "    return text"
   ]
  },
  {
   "cell_type": "code",
   "execution_count": 3,
   "id": "c88298e3",
   "metadata": {},
   "outputs": [],
   "source": [
    "def extract_entities(text): \n",
    "\n",
    "    doc = nlp(text) \n",
    "\n",
    "    sentences = list(doc.sents) \n",
    "\n",
    "    entities = [] \n",
    "\n",
    "    for sentence in tqdm(sentences): \n",
    "\n",
    "        sentence_entities = [] \n",
    "\n",
    "        sent_doc = nlp(sentence.text) \n",
    "\n",
    "        for ent in sent_doc.ents: \n",
    "\n",
    "            if ent.label_ in ['PERSON', 'ORG', 'GPE']: \n",
    "\n",
    "                entity = ent.text.strip() \n",
    "\n",
    "                if \"'s\" in entity: \n",
    "\n",
    "                    cutoff = entity.index(\"'s\") \n",
    "\n",
    "                    entity = entity[:cutoff] \n",
    "\n",
    "                if entity != '': \n",
    "\n",
    "                    sentence_entities.append(entity)   \n",
    "\n",
    "        sentence_entities = list(set(sentence_entities))       \n",
    "\n",
    "        if len(sentence_entities) > 0: # changed from 1 to zero to grab individuals from sentences; new idea after book\n",
    "\n",
    "            entities.append(sentence_entities) \n",
    "\n",
    "    return entities "
   ]
  },
  {
   "cell_type": "code",
   "execution_count": 4,
   "id": "102626ff",
   "metadata": {},
   "outputs": [],
   "source": [
    "def draw_graph(G, show_names=False, node_size=1, font_size=10, edge_width=0.5): \n",
    "\n",
    "    adjacency = nx.to_scipy_sparse_matrix(G, nodelist=None, dtype=None, weight='weight', format='csr') \n",
    "\n",
    "    names = np.array(list(G.nodes())) \n",
    "\n",
    "    graph = Bunch() \n",
    "    graph.adjacency = adjacency \n",
    "    graph.names = np.array(names) \n",
    "\n",
    "    pagerank = PageRank() \n",
    "\n",
    "    scores = pagerank.fit_transform(adjacency) \n",
    "\n",
    "    if show_names: \n",
    "        \n",
    "        image = svg_graph(graph.adjacency, font_size=font_size, node_size=node_size, names=graph.names, width=700, height=500, scores=scores, edge_width=edge_width) \n",
    "\n",
    "    else: \n",
    "\n",
    "        image = svg_graph(graph.adjacency, node_size=node_size, width=700, height=500, scores = scores, edge_width=edge_width) \n",
    "\n",
    "    return SVG(image) "
   ]
  },
  {
   "cell_type": "markdown",
   "id": "77a12aec",
   "metadata": {},
   "source": [
    "# Get Text"
   ]
  },
  {
   "cell_type": "code",
   "execution_count": 5,
   "id": "443c3cd4",
   "metadata": {},
   "outputs": [
    {
     "data": {
      "text/plain": [
       "'Alice was beginning to get very tired of sitting by her sister on the  bank, and of having nothing to do: once or twice she had peeped into  the book her sister was reading, but it had no pictures or  conversations in it, \"and what is the use of a book,\"\" thought Alice  \"without pictures or conversations?\"'"
      ]
     },
     "execution_count": 5,
     "metadata": {},
     "output_type": "execute_result"
    }
   ],
   "source": [
    "text = get_data()\n",
    "text[0:307]"
   ]
  },
  {
   "cell_type": "markdown",
   "id": "7984710a",
   "metadata": {},
   "source": [
    "# Extract Entities by Sentence"
   ]
  },
  {
   "cell_type": "code",
   "execution_count": 6,
   "id": "a599e622",
   "metadata": {},
   "outputs": [],
   "source": [
    "def drop_duplicate_entities(entities):\n",
    "\n",
    "    keep_entities = []\n",
    "\n",
    "    for entity_list in entities:\n",
    "\n",
    "        if entity_list not in keep_entities:\n",
    "            keep_entities.append(entity_list)\n",
    "\n",
    "    return keep_entities"
   ]
  },
  {
   "cell_type": "code",
   "execution_count": 7,
   "id": "dd5ac387",
   "metadata": {},
   "outputs": [
    {
     "name": "stderr",
     "output_type": "stream",
     "text": [
      "100%|██████████████████████████████████████████████████████████████████████████████| 2080/2080 [00:48<00:00, 42.91it/s]\n"
     ]
    },
    {
     "data": {
      "text/plain": [
       "[['Alice'],\n",
       " ['Alice', 'Rabbit'],\n",
       " ['Longitude', 'Alice'],\n",
       " ['Antipathies'],\n",
       " [\"Ma'am\", 'Australia', 'New Zealand']]"
      ]
     },
     "execution_count": 7,
     "metadata": {},
     "output_type": "execute_result"
    }
   ],
   "source": [
    "entities = extract_entities(text)\n",
    "entities = drop_duplicate_entities(entities)\n",
    "entities[0:5]"
   ]
  },
  {
   "cell_type": "code",
   "execution_count": 8,
   "id": "fe330d82",
   "metadata": {},
   "outputs": [
    {
     "data": {
      "text/html": [
       "<div>\n",
       "<style scoped>\n",
       "    .dataframe tbody tr th:only-of-type {\n",
       "        vertical-align: middle;\n",
       "    }\n",
       "\n",
       "    .dataframe tbody tr th {\n",
       "        vertical-align: top;\n",
       "    }\n",
       "\n",
       "    .dataframe thead th {\n",
       "        text-align: right;\n",
       "    }\n",
       "</style>\n",
       "<table border=\"1\" class=\"dataframe\">\n",
       "  <thead>\n",
       "    <tr style=\"text-align: right;\">\n",
       "      <th></th>\n",
       "      <th>entity</th>\n",
       "      <th>sentence</th>\n",
       "    </tr>\n",
       "  </thead>\n",
       "  <tbody>\n",
       "    <tr>\n",
       "      <th>0</th>\n",
       "      <td>Alice</td>\n",
       "      <td>0</td>\n",
       "    </tr>\n",
       "    <tr>\n",
       "      <th>1</th>\n",
       "      <td>Alice</td>\n",
       "      <td>1</td>\n",
       "    </tr>\n",
       "    <tr>\n",
       "      <th>1</th>\n",
       "      <td>Rabbit</td>\n",
       "      <td>1</td>\n",
       "    </tr>\n",
       "    <tr>\n",
       "      <th>2</th>\n",
       "      <td>Longitude</td>\n",
       "      <td>2</td>\n",
       "    </tr>\n",
       "    <tr>\n",
       "      <th>2</th>\n",
       "      <td>Alice</td>\n",
       "      <td>2</td>\n",
       "    </tr>\n",
       "    <tr>\n",
       "      <th>3</th>\n",
       "      <td>Antipathies</td>\n",
       "      <td>3</td>\n",
       "    </tr>\n",
       "    <tr>\n",
       "      <th>4</th>\n",
       "      <td>Ma'am</td>\n",
       "      <td>4</td>\n",
       "    </tr>\n",
       "    <tr>\n",
       "      <th>4</th>\n",
       "      <td>Australia</td>\n",
       "      <td>4</td>\n",
       "    </tr>\n",
       "    <tr>\n",
       "      <th>4</th>\n",
       "      <td>New Zealand</td>\n",
       "      <td>4</td>\n",
       "    </tr>\n",
       "    <tr>\n",
       "      <th>5</th>\n",
       "      <td>Dinah'll</td>\n",
       "      <td>5</td>\n",
       "    </tr>\n",
       "  </tbody>\n",
       "</table>\n",
       "</div>"
      ],
      "text/plain": [
       "        entity  sentence\n",
       "0        Alice         0\n",
       "1        Alice         1\n",
       "1       Rabbit         1\n",
       "2    Longitude         2\n",
       "2        Alice         2\n",
       "3  Antipathies         3\n",
       "4        Ma'am         4\n",
       "4    Australia         4\n",
       "4  New Zealand         4\n",
       "5     Dinah'll         5"
      ]
     },
     "execution_count": 8,
     "metadata": {},
     "output_type": "execute_result"
    }
   ],
   "source": [
    "entity_df = pd.DataFrame({'entities':entities}).reset_index()\n",
    "entity_df.columns = ['sentence', 'entity']\n",
    "entity_df = entity_df.explode('entity')\n",
    "\n",
    "entity_df = entity_df[['entity', 'sentence']]\n",
    "\n",
    "# wrangling\n",
    "entity_df = entity_df[entity_df['entity'].str.contains('CHAPTER', case=False)==False] # drop chapter nodes\n",
    "\n",
    "entity_df.head(10)"
   ]
  },
  {
   "cell_type": "markdown",
   "id": "854361a8",
   "metadata": {},
   "source": [
    "# Graph Creation: Bipartite Projection Approach"
   ]
  },
  {
   "cell_type": "code",
   "execution_count": 9,
   "id": "c60d712e",
   "metadata": {},
   "outputs": [],
   "source": [
    "B = nx.from_pandas_edgelist(entity_df, source='entity', target='sentence') # new approach\n",
    "G = bipartite.projected_graph(B, entity_df['entity'])\n",
    "\n",
    "# wrangling\n",
    "G = nx.k_core(G, 1) # quickly remove disconnected junk nodes\n",
    "\n",
    "drop_nodes = ['Beautiful', 'Hm', 'Improve', 'Longitude', 'Ma\\'am', 'Mystery', 'Said', 'Seaography', 'Somebody', \n",
    "              'The Rabbit Sends', 'garden_.', 'The Rabbit Sends', 'the White Rabbit', \"â\\x80\\x98I'll\", 'â\\x80\\x98Keep', \n",
    "              'â\\x80\\x98it', 'William_']\n",
    "\n",
    "G.remove_nodes_from(drop_nodes) # remove drop nodes"
   ]
  },
  {
   "cell_type": "code",
   "execution_count": 10,
   "id": "b9e3ee10",
   "metadata": {},
   "outputs": [
    {
     "data": {
      "text/plain": [
       "[37, 2, 3, 1, 6, 2]"
      ]
     },
     "execution_count": 10,
     "metadata": {},
     "output_type": "execute_result"
    }
   ],
   "source": [
    "# use the largest connected component\n",
    "\n",
    "components = list(nx.connected_components(G))\n",
    "\n",
    "[len(c) for c in components]"
   ]
  },
  {
   "cell_type": "code",
   "execution_count": 11,
   "id": "b7d2e23a",
   "metadata": {},
   "outputs": [],
   "source": [
    "G = G.subgraph(components[0])"
   ]
  },
  {
   "cell_type": "code",
   "execution_count": 12,
   "id": "6bdc5d83",
   "metadata": {},
   "outputs": [
    {
     "data": {
      "image/svg+xml": [
       "<svg height=\"540\" width=\"845.0\" xmlns=\"http://www.w3.org/2000/svg\"><path d=\"M 408 246 366 121\" stroke=\"gray\" stroke-width=\"0.5\"/><path d=\"M 408 246 313 200\" stroke=\"gray\" stroke-width=\"0.5\"/><path d=\"M 408 246 463 328\" stroke=\"gray\" stroke-width=\"0.5\"/><path d=\"M 408 246 608 286\" stroke=\"gray\" stroke-width=\"0.5\"/><path d=\"M 408 246 354 360\" stroke=\"gray\" stroke-width=\"0.5\"/><path d=\"M 408 246 164 229\" stroke=\"gray\" stroke-width=\"0.5\"/><path d=\"M 408 246 508 319\" stroke=\"gray\" stroke-width=\"0.5\"/><path d=\"M 408 246 232 277\" stroke=\"gray\" stroke-width=\"0.5\"/><path d=\"M 408 246 272 216\" stroke=\"gray\" stroke-width=\"0.5\"/><path d=\"M 408 246 420 145\" stroke=\"gray\" stroke-width=\"0.5\"/><path d=\"M 408 246 363 157\" stroke=\"gray\" stroke-width=\"0.5\"/><path d=\"M 408 246 303 162\" stroke=\"gray\" stroke-width=\"0.5\"/><path d=\"M 408 246 318 309\" stroke=\"gray\" stroke-width=\"0.5\"/><path d=\"M 408 246 480 145\" stroke=\"gray\" stroke-width=\"0.5\"/><path d=\"M 408 246 539 241\" stroke=\"gray\" stroke-width=\"0.5\"/><path d=\"M 408 246 545 310\" stroke=\"gray\" stroke-width=\"0.5\"/><path d=\"M 408 246 588 259\" stroke=\"gray\" stroke-width=\"0.5\"/><path d=\"M 408 246 418 413\" stroke=\"gray\" stroke-width=\"0.5\"/><path d=\"M 408 246 543 174\" stroke=\"gray\" stroke-width=\"0.5\"/><path d=\"M 408 246 505 184\" stroke=\"gray\" stroke-width=\"0.5\"/><path d=\"M 408 246 354 252\" stroke=\"gray\" stroke-width=\"0.5\"/><path d=\"M 408 246 393 306\" stroke=\"gray\" stroke-width=\"0.5\"/><path d=\"M 408 246 428 225\" stroke=\"gray\" stroke-width=\"0.5\"/><path d=\"M 366 121 408 246\" stroke=\"gray\" stroke-width=\"0.5\"/><path d=\"M 366 121 313 200\" stroke=\"gray\" stroke-width=\"0.5\"/><path d=\"M 366 121 420 145\" stroke=\"gray\" stroke-width=\"0.5\"/><path d=\"M 366 121 356 20\" stroke=\"gray\" stroke-width=\"0.5\"/><path d=\"M 313 200 408 246\" stroke=\"gray\" stroke-width=\"0.5\"/><path d=\"M 313 200 366 121\" stroke=\"gray\" stroke-width=\"0.5\"/><path d=\"M 313 200 232 277\" stroke=\"gray\" stroke-width=\"0.5\"/><path d=\"M 463 328 408 246\" stroke=\"gray\" stroke-width=\"0.5\"/><path d=\"M 608 286 408 246\" stroke=\"gray\" stroke-width=\"0.5\"/><path d=\"M 608 286 720 350\" stroke=\"gray\" stroke-width=\"0.5\"/><path d=\"M 608 286 539 241\" stroke=\"gray\" stroke-width=\"0.5\"/><path d=\"M 608 286 588 259\" stroke=\"gray\" stroke-width=\"0.5\"/><path d=\"M 608 286 709 280\" stroke=\"gray\" stroke-width=\"0.5\"/><path d=\"M 354 360 408 246\" stroke=\"gray\" stroke-width=\"0.5\"/><path d=\"M 354 360 306 435\" stroke=\"gray\" stroke-width=\"0.5\"/><path d=\"M 306 435 354 360\" stroke=\"gray\" stroke-width=\"0.5\"/><path d=\"M 164 229 408 246\" stroke=\"gray\" stroke-width=\"0.5\"/><path d=\"M 164 229 20 244\" stroke=\"gray\" stroke-width=\"0.5\"/><path d=\"M 164 229 23 208\" stroke=\"gray\" stroke-width=\"0.5\"/><path d=\"M 508 319 408 246\" stroke=\"gray\" stroke-width=\"0.5\"/><path d=\"M 130 350 232 277\" stroke=\"gray\" stroke-width=\"0.5\"/><path d=\"M 232 277 408 246\" stroke=\"gray\" stroke-width=\"0.5\"/><path d=\"M 232 277 313 200\" stroke=\"gray\" stroke-width=\"0.5\"/><path d=\"M 232 277 130 350\" stroke=\"gray\" stroke-width=\"0.5\"/><path d=\"M 232 277 114 286\" stroke=\"gray\" stroke-width=\"0.5\"/><path d=\"M 20 244 164 229\" stroke=\"gray\" stroke-width=\"0.5\"/><path d=\"M 20 244 23 208\" stroke=\"gray\" stroke-width=\"0.5\"/><path d=\"M 23 208 164 229\" stroke=\"gray\" stroke-width=\"0.5\"/><path d=\"M 23 208 20 244\" stroke=\"gray\" stroke-width=\"0.5\"/><path d=\"M 114 286 232 277\" stroke=\"gray\" stroke-width=\"0.5\"/><path d=\"M 272 216 408 246\" stroke=\"gray\" stroke-width=\"0.5\"/><path d=\"M 420 145 408 246\" stroke=\"gray\" stroke-width=\"0.5\"/><path d=\"M 420 145 366 121\" stroke=\"gray\" stroke-width=\"0.5\"/><path d=\"M 356 20 366 121\" stroke=\"gray\" stroke-width=\"0.5\"/><path d=\"M 363 157 408 246\" stroke=\"gray\" stroke-width=\"0.5\"/><path d=\"M 303 162 408 246\" stroke=\"gray\" stroke-width=\"0.5\"/><path d=\"M 318 309 408 246\" stroke=\"gray\" stroke-width=\"0.5\"/><path d=\"M 720 350 608 286\" stroke=\"gray\" stroke-width=\"0.5\"/><path d=\"M 480 145 408 246\" stroke=\"gray\" stroke-width=\"0.5\"/><path d=\"M 539 241 408 246\" stroke=\"gray\" stroke-width=\"0.5\"/><path d=\"M 539 241 608 286\" stroke=\"gray\" stroke-width=\"0.5\"/><path d=\"M 545 310 408 246\" stroke=\"gray\" stroke-width=\"0.5\"/><path d=\"M 545 310 588 259\" stroke=\"gray\" stroke-width=\"0.5\"/><path d=\"M 545 310 418 413\" stroke=\"gray\" stroke-width=\"0.5\"/><path d=\"M 545 310 691 253\" stroke=\"gray\" stroke-width=\"0.5\"/><path d=\"M 588 259 408 246\" stroke=\"gray\" stroke-width=\"0.5\"/><path d=\"M 588 259 608 286\" stroke=\"gray\" stroke-width=\"0.5\"/><path d=\"M 588 259 545 310\" stroke=\"gray\" stroke-width=\"0.5\"/><path d=\"M 588 259 709 280\" stroke=\"gray\" stroke-width=\"0.5\"/><path d=\"M 418 413 408 246\" stroke=\"gray\" stroke-width=\"0.5\"/><path d=\"M 418 413 545 310\" stroke=\"gray\" stroke-width=\"0.5\"/><path d=\"M 418 413 387 494\" stroke=\"gray\" stroke-width=\"0.5\"/><path d=\"M 418 413 440 505\" stroke=\"gray\" stroke-width=\"0.5\"/><path d=\"M 418 413 391 520\" stroke=\"gray\" stroke-width=\"0.5\"/><path d=\"M 418 413 294 477\" stroke=\"gray\" stroke-width=\"0.5\"/><path d=\"M 691 253 545 310\" stroke=\"gray\" stroke-width=\"0.5\"/><path d=\"M 387 494 418 413\" stroke=\"gray\" stroke-width=\"0.5\"/><path d=\"M 387 494 440 505\" stroke=\"gray\" stroke-width=\"0.5\"/><path d=\"M 387 494 391 520\" stroke=\"gray\" stroke-width=\"0.5\"/><path d=\"M 440 505 418 413\" stroke=\"gray\" stroke-width=\"0.5\"/><path d=\"M 440 505 387 494\" stroke=\"gray\" stroke-width=\"0.5\"/><path d=\"M 440 505 391 520\" stroke=\"gray\" stroke-width=\"0.5\"/><path d=\"M 391 520 418 413\" stroke=\"gray\" stroke-width=\"0.5\"/><path d=\"M 391 520 387 494\" stroke=\"gray\" stroke-width=\"0.5\"/><path d=\"M 391 520 440 505\" stroke=\"gray\" stroke-width=\"0.5\"/><path d=\"M 294 477 418 413\" stroke=\"gray\" stroke-width=\"0.5\"/><path d=\"M 543 174 408 246\" stroke=\"gray\" stroke-width=\"0.5\"/><path d=\"M 543 174 505 184\" stroke=\"gray\" stroke-width=\"0.5\"/><path d=\"M 505 184 408 246\" stroke=\"gray\" stroke-width=\"0.5\"/><path d=\"M 505 184 543 174\" stroke=\"gray\" stroke-width=\"0.5\"/><path d=\"M 354 252 408 246\" stroke=\"gray\" stroke-width=\"0.5\"/><path d=\"M 354 252 428 225\" stroke=\"gray\" stroke-width=\"0.5\"/><path d=\"M 393 306 408 246\" stroke=\"gray\" stroke-width=\"0.5\"/><path d=\"M 428 225 408 246\" stroke=\"gray\" stroke-width=\"0.5\"/><path d=\"M 428 225 354 252\" stroke=\"gray\" stroke-width=\"0.5\"/><path d=\"M 709 280 608 286\" stroke=\"gray\" stroke-width=\"0.5\"/><path d=\"M 709 280 588 259\" stroke=\"gray\" stroke-width=\"0.5\"/><circle cx=\"408\" cy=\"246\" r=\"3.0\" style=\"fill:rgb(179, 3, 38);stroke:black;stroke-width:1.0\"/><circle cx=\"366\" cy=\"121\" r=\"3.0\" style=\"fill:rgb(99, 131, 234);stroke:black;stroke-width:1.0\"/><circle cx=\"313\" cy=\"200\" r=\"3.0\" style=\"fill:rgb(86, 115, 224);stroke:black;stroke-width:1.0\"/><circle cx=\"463\" cy=\"328\" r=\"3.0\" style=\"fill:rgb(58, 76, 192);stroke:black;stroke-width:1.0\"/><circle cx=\"608\" cy=\"286\" r=\"3.0\" style=\"fill:rgb(112, 147, 243);stroke:black;stroke-width:1.0\"/><circle cx=\"354\" cy=\"360\" r=\"3.0\" style=\"fill:rgb(76, 102, 214);stroke:black;stroke-width:1.0\"/><circle cx=\"306\" cy=\"435\" r=\"3.0\" style=\"fill:rgb(60, 79, 195);stroke:black;stroke-width:1.0\"/><circle cx=\"164\" cy=\"229\" r=\"3.0\" style=\"fill:rgb(86, 115, 224);stroke:black;stroke-width:1.0\"/><circle cx=\"508\" cy=\"319\" r=\"3.0\" style=\"fill:rgb(58, 76, 192);stroke:black;stroke-width:1.0\"/><circle cx=\"130\" cy=\"350\" r=\"3.0\" style=\"fill:rgb(58, 76, 192);stroke:black;stroke-width:1.0\"/><circle cx=\"232\" cy=\"277\" r=\"3.0\" style=\"fill:rgb(105, 139, 239);stroke:black;stroke-width:1.0\"/><circle cx=\"20\" cy=\"244\" r=\"3.0\" style=\"fill:rgb(72, 96, 209);stroke:black;stroke-width:1.0\"/><circle cx=\"23\" cy=\"208\" r=\"3.0\" style=\"fill:rgb(72, 96, 209);stroke:black;stroke-width:1.0\"/><circle cx=\"114\" cy=\"286\" r=\"3.0\" style=\"fill:rgb(58, 76, 192);stroke:black;stroke-width:1.0\"/><circle cx=\"272\" cy=\"216\" r=\"3.0\" style=\"fill:rgb(58, 76, 192);stroke:black;stroke-width:1.0\"/><circle cx=\"420\" cy=\"145\" r=\"3.0\" style=\"fill:rgb(70, 93, 207);stroke:black;stroke-width:1.0\"/><circle cx=\"356\" cy=\"20\" r=\"3.0\" style=\"fill:rgb(58, 76, 192);stroke:black;stroke-width:1.0\"/><circle cx=\"363\" cy=\"157\" r=\"3.0\" style=\"fill:rgb(58, 76, 192);stroke:black;stroke-width:1.0\"/><circle cx=\"303\" cy=\"162\" r=\"3.0\" style=\"fill:rgb(58, 76, 192);stroke:black;stroke-width:1.0\"/><circle cx=\"318\" cy=\"309\" r=\"3.0\" style=\"fill:rgb(58, 76, 192);stroke:black;stroke-width:1.0\"/><circle cx=\"720\" cy=\"350\" r=\"3.0\" style=\"fill:rgb(58, 76, 192);stroke:black;stroke-width:1.0\"/><circle cx=\"480\" cy=\"145\" r=\"3.0\" style=\"fill:rgb(58, 76, 192);stroke:black;stroke-width:1.0\"/><circle cx=\"539\" cy=\"241\" r=\"3.0\" style=\"fill:rgb(70, 93, 207);stroke:black;stroke-width:1.0\"/><circle cx=\"545\" cy=\"310\" r=\"3.0\" style=\"fill:rgb(96, 128, 232);stroke:black;stroke-width:1.0\"/><circle cx=\"588\" cy=\"259\" r=\"3.0\" style=\"fill:rgb(96, 128, 232);stroke:black;stroke-width:1.0\"/><circle cx=\"418\" cy=\"413\" r=\"3.0\" style=\"fill:rgb(120, 155, 247);stroke:black;stroke-width:1.0\"/><circle cx=\"691\" cy=\"253\" r=\"3.0\" style=\"fill:rgb(58, 76, 192);stroke:black;stroke-width:1.0\"/><circle cx=\"387\" cy=\"494\" r=\"3.0\" style=\"fill:rgb(80, 107, 218);stroke:black;stroke-width:1.0\"/><circle cx=\"440\" cy=\"505\" r=\"3.0\" style=\"fill:rgb(80, 107, 218);stroke:black;stroke-width:1.0\"/><circle cx=\"391\" cy=\"520\" r=\"3.0\" style=\"fill:rgb(80, 107, 218);stroke:black;stroke-width:1.0\"/><circle cx=\"294\" cy=\"477\" r=\"3.0\" style=\"fill:rgb(58, 76, 192);stroke:black;stroke-width:1.0\"/><circle cx=\"543\" cy=\"174\" r=\"3.0\" style=\"fill:rgb(70, 93, 207);stroke:black;stroke-width:1.0\"/><circle cx=\"505\" cy=\"184\" r=\"3.0\" style=\"fill:rgb(70, 93, 207);stroke:black;stroke-width:1.0\"/><circle cx=\"354\" cy=\"252\" r=\"3.0\" style=\"fill:rgb(70, 93, 207);stroke:black;stroke-width:1.0\"/><circle cx=\"393\" cy=\"306\" r=\"3.0\" style=\"fill:rgb(58, 76, 192);stroke:black;stroke-width:1.0\"/><circle cx=\"428\" cy=\"225\" r=\"3.0\" style=\"fill:rgb(70, 93, 207);stroke:black;stroke-width:1.0\"/><circle cx=\"709\" cy=\"280\" r=\"3.0\" style=\"fill:rgb(70, 93, 207);stroke:black;stroke-width:1.0\"/><text font-size=\"10\" x=\"414\" y=\"249\">Alice</text><text font-size=\"10\" x=\"372\" y=\"124\">Rabbit</text><text font-size=\"10\" x=\"319\" y=\"203\">Dinah</text><text font-size=\"10\" x=\"469\" y=\"331\">Fender</text><text font-size=\"10\" x=\"614\" y=\"289\">Duchess</text><text font-size=\"10\" x=\"360\" y=\"363\">Mabel</text><text font-size=\"10\" x=\"312\" y=\"438\">Ada</text><text font-size=\"10\" x=\"170\" y=\"232\">Mouse</text><text font-size=\"10\" x=\"514\" y=\"322\">William the Conqueror</text><text font-size=\"10\" x=\"136\" y=\"353\">Eaglet</text><text font-size=\"10\" x=\"238\" y=\"280\">Lory</text><text font-size=\"10\" x=\"26\" y=\"247\">Edgar Atheling</text><text font-size=\"10\" x=\"29\" y=\"211\">William</text><text font-size=\"10\" x=\"120\" y=\"289\">Crab</text><text font-size=\"10\" x=\"278\" y=\"219\">Bill</text><text font-size=\"10\" x=\"426\" y=\"148\">Mary Ann</text><text font-size=\"10\" x=\"362\" y=\"23\">Pat</text><text font-size=\"10\" x=\"369\" y=\"160\">Caterpillar</text><text font-size=\"10\" x=\"309\" y=\"165\">Pigeon</text><text font-size=\"10\" x=\"324\" y=\"312\">Fish-Footman</text><text font-size=\"10\" x=\"726\" y=\"353\">Cheshire</text><text font-size=\"10\" x=\"486\" y=\"148\">Cheshire Cat</text><text font-size=\"10\" x=\"545\" y=\"244\">Cat</text><text font-size=\"10\" x=\"551\" y=\"313\">Hatter</text><text font-size=\"10\" x=\"594\" y=\"262\">Hare</text><text font-size=\"10\" x=\"424\" y=\"416\">Dormouse</text><text font-size=\"10\" x=\"697\" y=\"256\">Time</text><text font-size=\"10\" x=\"393\" y=\"497\">Elsie</text><text font-size=\"10\" x=\"446\" y=\"508\">Tillie</text><text font-size=\"10\" x=\"397\" y=\"523\">Lacie</text><text font-size=\"10\" x=\"300\" y=\"480\">Treacle</text><text font-size=\"10\" x=\"549\" y=\"177\">Queens</text><text font-size=\"10\" x=\"511\" y=\"187\">Kings</text><text font-size=\"10\" x=\"360\" y=\"255\">Gryphon</text><text font-size=\"10\" x=\"399\" y=\"309\">Lobster Quadrille</text><text font-size=\"10\" x=\"434\" y=\"228\">Soup</text><text font-size=\"10\" x=\"715\" y=\"283\">Lizard</text></svg>"
      ],
      "text/plain": [
       "<IPython.core.display.SVG object>"
      ]
     },
     "execution_count": 12,
     "metadata": {},
     "output_type": "execute_result"
    }
   ],
   "source": [
    "draw_graph(G, show_names=True, node_size=3)"
   ]
  },
  {
   "cell_type": "markdown",
   "id": "befe882b",
   "metadata": {},
   "source": [
    "# Network Attack Simulation\n",
    "\n",
    "Today's post is about offense, not defense. The goal of today's post is going to be to cause maximal disruption to the Alice network in as few steps as possible. I am going to use two approaches, but you are not limited to two. Be creative.\n",
    "\n",
    "- ## Simulation 1: Iterative Attack\n",
    "In this simulation, I will remove the four nodes having highest betweenness centrality, but one after the other, sequantially. 1, 2, 3, 4.\n",
    "\n",
    "- ## Simulation 2: Burst Attack\n",
    "In this simulation,, I will remove the four nodes having highest betweenness centrlality scores from the original network, in one burst.\n",
    "\n",
    "- ## Goal: Fun and Educational\n",
    "I come from cybersecurity, so I think in terms of offense and defense, but this is not limited to computers. I am using the network from Alice in Wonderland. With any network, network science can give insights to enhance both offense and defense. Today, the focus is offense."
   ]
  },
  {
   "cell_type": "markdown",
   "id": "e2122f1a",
   "metadata": {},
   "source": [
    "# Simulation 1: Iterative Attack"
   ]
  },
  {
   "cell_type": "code",
   "execution_count": 13,
   "id": "75d42176",
   "metadata": {},
   "outputs": [],
   "source": [
    "# need for iteration\n",
    "\n",
    "def get_cent_df(G):\n",
    "    \n",
    "    G = G.copy()\n",
    "    \n",
    "    cent_df = pd.DataFrame(nx.betweenness_centrality(G), index=[0]).T # cent = centrality\n",
    "\n",
    "    cent_df.columns = ['betw_cent'] # betweenness centrality\n",
    "    cent_df.sort_values('betw_cent', inplace=True, ascending=False)\n",
    "    \n",
    "    return cent_df"
   ]
  },
  {
   "cell_type": "code",
   "execution_count": 14,
   "id": "eb6f04cc",
   "metadata": {},
   "outputs": [
    {
     "data": {
      "image/svg+xml": [
       "<svg height=\"540\" width=\"845.0\" xmlns=\"http://www.w3.org/2000/svg\"><path d=\"M 363 321 328 180\" stroke=\"gray\" stroke-width=\"0.5\"/><path d=\"M 363 321 293 217\" stroke=\"gray\" stroke-width=\"0.5\"/><path d=\"M 363 321 501 288\" stroke=\"gray\" stroke-width=\"0.5\"/><path d=\"M 363 321 236 443\" stroke=\"gray\" stroke-width=\"0.5\"/><path d=\"M 363 321 577 279\" stroke=\"gray\" stroke-width=\"0.5\"/><path d=\"M 363 321 151 222\" stroke=\"gray\" stroke-width=\"0.5\"/><path d=\"M 363 321 277 453\" stroke=\"gray\" stroke-width=\"0.5\"/><path d=\"M 363 321 311 148\" stroke=\"gray\" stroke-width=\"0.5\"/><path d=\"M 363 321 432 457\" stroke=\"gray\" stroke-width=\"0.5\"/><path d=\"M 363 321 372 236\" stroke=\"gray\" stroke-width=\"0.5\"/><path d=\"M 363 321 197 327\" stroke=\"gray\" stroke-width=\"0.5\"/><path d=\"M 363 321 437 413\" stroke=\"gray\" stroke-width=\"0.5\"/><path d=\"M 363 321 247 333\" stroke=\"gray\" stroke-width=\"0.5\"/><path d=\"M 363 321 516 343\" stroke=\"gray\" stroke-width=\"0.5\"/><path d=\"M 363 321 221 387\" stroke=\"gray\" stroke-width=\"0.5\"/><path d=\"M 363 321 317 284\" stroke=\"gray\" stroke-width=\"0.5\"/><path d=\"M 363 321 310 397\" stroke=\"gray\" stroke-width=\"0.5\"/><path d=\"M 363 321 469 200\" stroke=\"gray\" stroke-width=\"0.5\"/><path d=\"M 363 321 317 431\" stroke=\"gray\" stroke-width=\"0.5\"/><path d=\"M 363 321 364 443\" stroke=\"gray\" stroke-width=\"0.5\"/><path d=\"M 363 321 483 399\" stroke=\"gray\" stroke-width=\"0.5\"/><path d=\"M 363 321 420 215\" stroke=\"gray\" stroke-width=\"0.5\"/><path d=\"M 363 321 521 391\" stroke=\"gray\" stroke-width=\"0.5\"/><path d=\"M 328 180 363 321\" stroke=\"gray\" stroke-width=\"0.5\"/><path d=\"M 328 180 293 217\" stroke=\"gray\" stroke-width=\"0.5\"/><path d=\"M 328 180 372 236\" stroke=\"gray\" stroke-width=\"0.5\"/><path d=\"M 328 180 277 55\" stroke=\"gray\" stroke-width=\"0.5\"/><path d=\"M 293 217 363 321\" stroke=\"gray\" stroke-width=\"0.5\"/><path d=\"M 293 217 328 180\" stroke=\"gray\" stroke-width=\"0.5\"/><path d=\"M 293 217 311 148\" stroke=\"gray\" stroke-width=\"0.5\"/><path d=\"M 501 288 363 321\" stroke=\"gray\" stroke-width=\"0.5\"/><path d=\"M 236 443 363 321\" stroke=\"gray\" stroke-width=\"0.5\"/><path d=\"M 236 443 128 520\" stroke=\"gray\" stroke-width=\"0.5\"/><path d=\"M 236 443 221 387\" stroke=\"gray\" stroke-width=\"0.5\"/><path d=\"M 236 443 310 397\" stroke=\"gray\" stroke-width=\"0.5\"/><path d=\"M 236 443 302 512\" stroke=\"gray\" stroke-width=\"0.5\"/><path d=\"M 577 279 363 321\" stroke=\"gray\" stroke-width=\"0.5\"/><path d=\"M 577 279 720 241\" stroke=\"gray\" stroke-width=\"0.5\"/><path d=\"M 720 241 577 279\" stroke=\"gray\" stroke-width=\"0.5\"/><path d=\"M 151 222 363 321\" stroke=\"gray\" stroke-width=\"0.5\"/><path d=\"M 151 222 45 148\" stroke=\"gray\" stroke-width=\"0.5\"/><path d=\"M 151 222 20 187\" stroke=\"gray\" stroke-width=\"0.5\"/><path d=\"M 277 453 363 321\" stroke=\"gray\" stroke-width=\"0.5\"/><path d=\"M 328 20 311 148\" stroke=\"gray\" stroke-width=\"0.5\"/><path d=\"M 311 148 363 321\" stroke=\"gray\" stroke-width=\"0.5\"/><path d=\"M 311 148 293 217\" stroke=\"gray\" stroke-width=\"0.5\"/><path d=\"M 311 148 328 20\" stroke=\"gray\" stroke-width=\"0.5\"/><path d=\"M 311 148 228 100\" stroke=\"gray\" stroke-width=\"0.5\"/><path d=\"M 45 148 151 222\" stroke=\"gray\" stroke-width=\"0.5\"/><path d=\"M 45 148 20 187\" stroke=\"gray\" stroke-width=\"0.5\"/><path d=\"M 20 187 151 222\" stroke=\"gray\" stroke-width=\"0.5\"/><path d=\"M 20 187 45 148\" stroke=\"gray\" stroke-width=\"0.5\"/><path d=\"M 228 100 311 148\" stroke=\"gray\" stroke-width=\"0.5\"/><path d=\"M 432 457 363 321\" stroke=\"gray\" stroke-width=\"0.5\"/><path d=\"M 372 236 363 321\" stroke=\"gray\" stroke-width=\"0.5\"/><path d=\"M 372 236 328 180\" stroke=\"gray\" stroke-width=\"0.5\"/><path d=\"M 277 55 328 180\" stroke=\"gray\" stroke-width=\"0.5\"/><path d=\"M 197 327 363 321\" stroke=\"gray\" stroke-width=\"0.5\"/><path d=\"M 437 413 363 321\" stroke=\"gray\" stroke-width=\"0.5\"/><path d=\"M 247 333 363 321\" stroke=\"gray\" stroke-width=\"0.5\"/><path d=\"M 128 520 236 443\" stroke=\"gray\" stroke-width=\"0.5\"/><path d=\"M 516 343 363 321\" stroke=\"gray\" stroke-width=\"0.5\"/><path d=\"M 221 387 363 321\" stroke=\"gray\" stroke-width=\"0.5\"/><path d=\"M 221 387 236 443\" stroke=\"gray\" stroke-width=\"0.5\"/><path d=\"M 317 284 363 321\" stroke=\"gray\" stroke-width=\"0.5\"/><path d=\"M 317 284 310 397\" stroke=\"gray\" stroke-width=\"0.5\"/><path d=\"M 317 284 469 200\" stroke=\"gray\" stroke-width=\"0.5\"/><path d=\"M 317 284 168 272\" stroke=\"gray\" stroke-width=\"0.5\"/><path d=\"M 310 397 363 321\" stroke=\"gray\" stroke-width=\"0.5\"/><path d=\"M 310 397 236 443\" stroke=\"gray\" stroke-width=\"0.5\"/><path d=\"M 310 397 317 284\" stroke=\"gray\" stroke-width=\"0.5\"/><path d=\"M 310 397 302 512\" stroke=\"gray\" stroke-width=\"0.5\"/><path d=\"M 469 200 363 321\" stroke=\"gray\" stroke-width=\"0.5\"/><path d=\"M 469 200 317 284\" stroke=\"gray\" stroke-width=\"0.5\"/><path d=\"M 469 200 572 131\" stroke=\"gray\" stroke-width=\"0.5\"/><path d=\"M 469 200 553 98\" stroke=\"gray\" stroke-width=\"0.5\"/><path d=\"M 469 200 512 100\" stroke=\"gray\" stroke-width=\"0.5\"/><path d=\"M 469 200 471 285\" stroke=\"gray\" stroke-width=\"0.5\"/><path d=\"M 168 272 317 284\" stroke=\"gray\" stroke-width=\"0.5\"/><path d=\"M 572 131 469 200\" stroke=\"gray\" stroke-width=\"0.5\"/><path d=\"M 572 131 553 98\" stroke=\"gray\" stroke-width=\"0.5\"/><path d=\"M 572 131 512 100\" stroke=\"gray\" stroke-width=\"0.5\"/><path d=\"M 553 98 469 200\" stroke=\"gray\" stroke-width=\"0.5\"/><path d=\"M 553 98 572 131\" stroke=\"gray\" stroke-width=\"0.5\"/><path d=\"M 553 98 512 100\" stroke=\"gray\" stroke-width=\"0.5\"/><path d=\"M 512 100 469 200\" stroke=\"gray\" stroke-width=\"0.5\"/><path d=\"M 512 100 572 131\" stroke=\"gray\" stroke-width=\"0.5\"/><path d=\"M 512 100 553 98\" stroke=\"gray\" stroke-width=\"0.5\"/><path d=\"M 471 285 469 200\" stroke=\"gray\" stroke-width=\"0.5\"/><path d=\"M 317 431 363 321\" stroke=\"gray\" stroke-width=\"0.5\"/><path d=\"M 317 431 364 443\" stroke=\"gray\" stroke-width=\"0.5\"/><path d=\"M 364 443 363 321\" stroke=\"gray\" stroke-width=\"0.5\"/><path d=\"M 364 443 317 431\" stroke=\"gray\" stroke-width=\"0.5\"/><path d=\"M 483 399 363 321\" stroke=\"gray\" stroke-width=\"0.5\"/><path d=\"M 483 399 521 391\" stroke=\"gray\" stroke-width=\"0.5\"/><path d=\"M 420 215 363 321\" stroke=\"gray\" stroke-width=\"0.5\"/><path d=\"M 521 391 363 321\" stroke=\"gray\" stroke-width=\"0.5\"/><path d=\"M 521 391 483 399\" stroke=\"gray\" stroke-width=\"0.5\"/><path d=\"M 302 512 236 443\" stroke=\"gray\" stroke-width=\"0.5\"/><path d=\"M 302 512 310 397\" stroke=\"gray\" stroke-width=\"0.5\"/><circle cx=\"363\" cy=\"321\" r=\"3.0\" style=\"fill:rgb(179, 3, 38);stroke:black;stroke-width:1.0\"/><circle cx=\"328\" cy=\"180\" r=\"3.0\" style=\"fill:rgb(99, 131, 234);stroke:black;stroke-width:1.0\"/><circle cx=\"293\" cy=\"217\" r=\"3.0\" style=\"fill:rgb(86, 115, 224);stroke:black;stroke-width:1.0\"/><circle cx=\"501\" cy=\"288\" r=\"3.0\" style=\"fill:rgb(58, 76, 192);stroke:black;stroke-width:1.0\"/><circle cx=\"236\" cy=\"443\" r=\"3.0\" style=\"fill:rgb(112, 147, 243);stroke:black;stroke-width:1.0\"/><circle cx=\"577\" cy=\"279\" r=\"3.0\" style=\"fill:rgb(76, 102, 214);stroke:black;stroke-width:1.0\"/><circle cx=\"720\" cy=\"241\" r=\"3.0\" style=\"fill:rgb(60, 79, 195);stroke:black;stroke-width:1.0\"/><circle cx=\"151\" cy=\"222\" r=\"3.0\" style=\"fill:rgb(86, 115, 224);stroke:black;stroke-width:1.0\"/><circle cx=\"277\" cy=\"453\" r=\"3.0\" style=\"fill:rgb(58, 76, 192);stroke:black;stroke-width:1.0\"/><circle cx=\"328\" cy=\"20\" r=\"3.0\" style=\"fill:rgb(58, 76, 192);stroke:black;stroke-width:1.0\"/><circle cx=\"311\" cy=\"148\" r=\"3.0\" style=\"fill:rgb(105, 139, 239);stroke:black;stroke-width:1.0\"/><circle cx=\"45\" cy=\"148\" r=\"3.0\" style=\"fill:rgb(72, 96, 209);stroke:black;stroke-width:1.0\"/><circle cx=\"20\" cy=\"187\" r=\"3.0\" style=\"fill:rgb(72, 96, 209);stroke:black;stroke-width:1.0\"/><circle cx=\"228\" cy=\"100\" r=\"3.0\" style=\"fill:rgb(58, 76, 192);stroke:black;stroke-width:1.0\"/><circle cx=\"432\" cy=\"457\" r=\"3.0\" style=\"fill:rgb(58, 76, 192);stroke:black;stroke-width:1.0\"/><circle cx=\"372\" cy=\"236\" r=\"3.0\" style=\"fill:rgb(70, 93, 207);stroke:black;stroke-width:1.0\"/><circle cx=\"277\" cy=\"55\" r=\"3.0\" style=\"fill:rgb(58, 76, 192);stroke:black;stroke-width:1.0\"/><circle cx=\"197\" cy=\"327\" r=\"3.0\" style=\"fill:rgb(58, 76, 192);stroke:black;stroke-width:1.0\"/><circle cx=\"437\" cy=\"413\" r=\"3.0\" style=\"fill:rgb(58, 76, 192);stroke:black;stroke-width:1.0\"/><circle cx=\"247\" cy=\"333\" r=\"3.0\" style=\"fill:rgb(58, 76, 192);stroke:black;stroke-width:1.0\"/><circle cx=\"128\" cy=\"520\" r=\"3.0\" style=\"fill:rgb(58, 76, 192);stroke:black;stroke-width:1.0\"/><circle cx=\"516\" cy=\"343\" r=\"3.0\" style=\"fill:rgb(58, 76, 192);stroke:black;stroke-width:1.0\"/><circle cx=\"221\" cy=\"387\" r=\"3.0\" style=\"fill:rgb(70, 93, 207);stroke:black;stroke-width:1.0\"/><circle cx=\"317\" cy=\"284\" r=\"3.0\" style=\"fill:rgb(96, 128, 232);stroke:black;stroke-width:1.0\"/><circle cx=\"310\" cy=\"397\" r=\"3.0\" style=\"fill:rgb(96, 128, 232);stroke:black;stroke-width:1.0\"/><circle cx=\"469\" cy=\"200\" r=\"3.0\" style=\"fill:rgb(120, 155, 247);stroke:black;stroke-width:1.0\"/><circle cx=\"168\" cy=\"272\" r=\"3.0\" style=\"fill:rgb(58, 76, 192);stroke:black;stroke-width:1.0\"/><circle cx=\"572\" cy=\"131\" r=\"3.0\" style=\"fill:rgb(80, 107, 218);stroke:black;stroke-width:1.0\"/><circle cx=\"553\" cy=\"98\" r=\"3.0\" style=\"fill:rgb(80, 107, 218);stroke:black;stroke-width:1.0\"/><circle cx=\"512\" cy=\"100\" r=\"3.0\" style=\"fill:rgb(80, 107, 218);stroke:black;stroke-width:1.0\"/><circle cx=\"471\" cy=\"285\" r=\"3.0\" style=\"fill:rgb(58, 76, 192);stroke:black;stroke-width:1.0\"/><circle cx=\"317\" cy=\"431\" r=\"3.0\" style=\"fill:rgb(70, 93, 207);stroke:black;stroke-width:1.0\"/><circle cx=\"364\" cy=\"443\" r=\"3.0\" style=\"fill:rgb(70, 93, 207);stroke:black;stroke-width:1.0\"/><circle cx=\"483\" cy=\"399\" r=\"3.0\" style=\"fill:rgb(70, 93, 207);stroke:black;stroke-width:1.0\"/><circle cx=\"420\" cy=\"215\" r=\"3.0\" style=\"fill:rgb(58, 76, 192);stroke:black;stroke-width:1.0\"/><circle cx=\"521\" cy=\"391\" r=\"3.0\" style=\"fill:rgb(70, 93, 207);stroke:black;stroke-width:1.0\"/><circle cx=\"302\" cy=\"512\" r=\"3.0\" style=\"fill:rgb(70, 93, 207);stroke:black;stroke-width:1.0\"/><text font-size=\"10\" x=\"369\" y=\"324\">Alice</text><text font-size=\"10\" x=\"334\" y=\"183\">Rabbit</text><text font-size=\"10\" x=\"299\" y=\"220\">Dinah</text><text font-size=\"10\" x=\"507\" y=\"291\">Fender</text><text font-size=\"10\" x=\"242\" y=\"446\">Duchess</text><text font-size=\"10\" x=\"583\" y=\"282\">Mabel</text><text font-size=\"10\" x=\"726\" y=\"244\">Ada</text><text font-size=\"10\" x=\"157\" y=\"225\">Mouse</text><text font-size=\"10\" x=\"283\" y=\"456\">William the Conqueror</text><text font-size=\"10\" x=\"334\" y=\"23\">Eaglet</text><text font-size=\"10\" x=\"317\" y=\"151\">Lory</text><text font-size=\"10\" x=\"51\" y=\"151\">Edgar Atheling</text><text font-size=\"10\" x=\"26\" y=\"190\">William</text><text font-size=\"10\" x=\"234\" y=\"103\">Crab</text><text font-size=\"10\" x=\"438\" y=\"460\">Bill</text><text font-size=\"10\" x=\"378\" y=\"239\">Mary Ann</text><text font-size=\"10\" x=\"283\" y=\"58\">Pat</text><text font-size=\"10\" x=\"203\" y=\"330\">Caterpillar</text><text font-size=\"10\" x=\"443\" y=\"416\">Pigeon</text><text font-size=\"10\" x=\"253\" y=\"336\">Fish-Footman</text><text font-size=\"10\" x=\"134\" y=\"523\">Cheshire</text><text font-size=\"10\" x=\"522\" y=\"346\">Cheshire Cat</text><text font-size=\"10\" x=\"227\" y=\"390\">Cat</text><text font-size=\"10\" x=\"323\" y=\"287\">Hatter</text><text font-size=\"10\" x=\"316\" y=\"400\">Hare</text><text font-size=\"10\" x=\"475\" y=\"203\">Dormouse</text><text font-size=\"10\" x=\"174\" y=\"275\">Time</text><text font-size=\"10\" x=\"578\" y=\"134\">Elsie</text><text font-size=\"10\" x=\"559\" y=\"101\">Tillie</text><text font-size=\"10\" x=\"518\" y=\"103\">Lacie</text><text font-size=\"10\" x=\"477\" y=\"288\">Treacle</text><text font-size=\"10\" x=\"323\" y=\"434\">Queens</text><text font-size=\"10\" x=\"370\" y=\"446\">Kings</text><text font-size=\"10\" x=\"489\" y=\"402\">Gryphon</text><text font-size=\"10\" x=\"426\" y=\"218\">Lobster Quadrille</text><text font-size=\"10\" x=\"527\" y=\"394\">Soup</text><text font-size=\"10\" x=\"308\" y=\"515\">Lizard</text></svg>"
      ],
      "text/plain": [
       "<IPython.core.display.SVG object>"
      ]
     },
     "execution_count": 14,
     "metadata": {},
     "output_type": "execute_result"
    }
   ],
   "source": [
    "G1 = G.copy() # keep G for use with simulation 2\n",
    "\n",
    "draw_graph(G1, show_names=True, node_size=3)"
   ]
  },
  {
   "cell_type": "markdown",
   "id": "ad27fea3",
   "metadata": {},
   "source": [
    "## Iteration 1"
   ]
  },
  {
   "cell_type": "code",
   "execution_count": 15,
   "id": "15b94af6",
   "metadata": {},
   "outputs": [
    {
     "data": {
      "image/png": "[encoded data removed]",
      "text/plain": [
       "<Figure size 432x288 with 1 Axes>"
      ]
     },
     "metadata": {
      "needs_background": "light"
     },
     "output_type": "display_data"
    }
   ],
   "source": [
    "cent_df = get_cent_df(G1)\n",
    "\n",
    "cent_df[0:20].plot.barh().invert_yaxis()\n",
    "\n",
    "# because there are so few with betw_cent, I expect the network to be nearly ruined with either approach"
   ]
  },
  {
   "cell_type": "code",
   "execution_count": 16,
   "id": "2e48b134",
   "metadata": {},
   "outputs": [
    {
     "data": {
      "text/plain": [
       "'Alice'"
      ]
     },
     "execution_count": 16,
     "metadata": {},
     "output_type": "execute_result"
    }
   ],
   "source": [
    "# Smash and Draw, Sequentially\n",
    "\n",
    "# first iteration; drop node\n",
    "\n",
    "drop_node = cent_df.iloc[0].name\n",
    "drop_node"
   ]
  },
  {
   "cell_type": "code",
   "execution_count": 17,
   "id": "bac92326",
   "metadata": {
    "scrolled": false
   },
   "outputs": [],
   "source": [
    "G1.remove_node(drop_node)"
   ]
  },
  {
   "cell_type": "code",
   "execution_count": 18,
   "id": "e9470fd0",
   "metadata": {},
   "outputs": [
    {
     "data": {
      "image/svg+xml": [
       "<svg height=\"540\" width=\"810.0\" xmlns=\"http://www.w3.org/2000/svg\"><path d=\"M 364 207 310 184\" stroke=\"gray\" stroke-width=\"0.5\"/><path d=\"M 364 207 389 233\" stroke=\"gray\" stroke-width=\"0.5\"/><path d=\"M 364 207 407 210\" stroke=\"gray\" stroke-width=\"0.5\"/><path d=\"M 310 184 364 207\" stroke=\"gray\" stroke-width=\"0.5\"/><path d=\"M 310 184 255 163\" stroke=\"gray\" stroke-width=\"0.5\"/><path d=\"M 245 308 287 323\" stroke=\"gray\" stroke-width=\"0.5\"/><path d=\"M 245 308 282 291\" stroke=\"gray\" stroke-width=\"0.5\"/><path d=\"M 245 308 184 312\" stroke=\"gray\" stroke-width=\"0.5\"/><path d=\"M 245 308 215 300\" stroke=\"gray\" stroke-width=\"0.5\"/><path d=\"M 269 20 241 28\" stroke=\"gray\" stroke-width=\"0.5\"/><path d=\"M 241 28 269 20\" stroke=\"gray\" stroke-width=\"0.5\"/><path d=\"M 720 259 693 268\" stroke=\"gray\" stroke-width=\"0.5\"/><path d=\"M 720 259 696 247\" stroke=\"gray\" stroke-width=\"0.5\"/><path d=\"M 228 139 255 163\" stroke=\"gray\" stroke-width=\"0.5\"/><path d=\"M 255 163 310 184\" stroke=\"gray\" stroke-width=\"0.5\"/><path d=\"M 255 163 228 139\" stroke=\"gray\" stroke-width=\"0.5\"/><path d=\"M 255 163 209 162\" stroke=\"gray\" stroke-width=\"0.5\"/><path d=\"M 693 268 720 259\" stroke=\"gray\" stroke-width=\"0.5\"/><path d=\"M 693 268 696 247\" stroke=\"gray\" stroke-width=\"0.5\"/><path d=\"M 696 247 720 259\" stroke=\"gray\" stroke-width=\"0.5\"/><path d=\"M 696 247 693 268\" stroke=\"gray\" stroke-width=\"0.5\"/><path d=\"M 209 162 255 163\" stroke=\"gray\" stroke-width=\"0.5\"/><path d=\"M 389 233 364 207\" stroke=\"gray\" stroke-width=\"0.5\"/><path d=\"M 407 210 364 207\" stroke=\"gray\" stroke-width=\"0.5\"/><path d=\"M 287 323 245 308\" stroke=\"gray\" stroke-width=\"0.5\"/><path d=\"M 282 291 245 308\" stroke=\"gray\" stroke-width=\"0.5\"/><path d=\"M 117 321 184 312\" stroke=\"gray\" stroke-width=\"0.5\"/><path d=\"M 117 321 60 347\" stroke=\"gray\" stroke-width=\"0.5\"/><path d=\"M 117 321 99 295\" stroke=\"gray\" stroke-width=\"0.5\"/><path d=\"M 184 312 245 308\" stroke=\"gray\" stroke-width=\"0.5\"/><path d=\"M 184 312 117 321\" stroke=\"gray\" stroke-width=\"0.5\"/><path d=\"M 184 312 215 300\" stroke=\"gray\" stroke-width=\"0.5\"/><path d=\"M 60 347 117 321\" stroke=\"gray\" stroke-width=\"0.5\"/><path d=\"M 60 347 60 372\" stroke=\"gray\" stroke-width=\"0.5\"/><path d=\"M 60 347 40 379\" stroke=\"gray\" stroke-width=\"0.5\"/><path d=\"M 60 347 30 364\" stroke=\"gray\" stroke-width=\"0.5\"/><path d=\"M 60 347 20 331\" stroke=\"gray\" stroke-width=\"0.5\"/><path d=\"M 99 295 117 321\" stroke=\"gray\" stroke-width=\"0.5\"/><path d=\"M 60 372 60 347\" stroke=\"gray\" stroke-width=\"0.5\"/><path d=\"M 60 372 40 379\" stroke=\"gray\" stroke-width=\"0.5\"/><path d=\"M 60 372 30 364\" stroke=\"gray\" stroke-width=\"0.5\"/><path d=\"M 40 379 60 347\" stroke=\"gray\" stroke-width=\"0.5\"/><path d=\"M 40 379 60 372\" stroke=\"gray\" stroke-width=\"0.5\"/><path d=\"M 40 379 30 364\" stroke=\"gray\" stroke-width=\"0.5\"/><path d=\"M 30 364 60 347\" stroke=\"gray\" stroke-width=\"0.5\"/><path d=\"M 30 364 60 372\" stroke=\"gray\" stroke-width=\"0.5\"/><path d=\"M 30 364 40 379\" stroke=\"gray\" stroke-width=\"0.5\"/><path d=\"M 20 331 60 347\" stroke=\"gray\" stroke-width=\"0.5\"/><path d=\"M 286 500 277 520\" stroke=\"gray\" stroke-width=\"0.5\"/><path d=\"M 277 520 286 500\" stroke=\"gray\" stroke-width=\"0.5\"/><path d=\"M 549 123 561 105\" stroke=\"gray\" stroke-width=\"0.5\"/><path d=\"M 561 105 549 123\" stroke=\"gray\" stroke-width=\"0.5\"/><path d=\"M 215 300 245 308\" stroke=\"gray\" stroke-width=\"0.5\"/><path d=\"M 215 300 184 312\" stroke=\"gray\" stroke-width=\"0.5\"/><circle cx=\"364\" cy=\"207\" r=\"3.0\" style=\"fill:rgb(230, 114, 89);stroke:black;stroke-width:1.0\"/><circle cx=\"310\" cy=\"184\" r=\"3.0\" style=\"fill:rgb(236, 210, 196);stroke:black;stroke-width:1.0\"/><circle cx=\"245\" cy=\"308\" r=\"3.0\" style=\"fill:rgb(179, 3, 38);stroke:black;stroke-width:1.0\"/><circle cx=\"269\" cy=\"20\" r=\"3.0\" style=\"fill:rgb(197, 213, 242);stroke:black;stroke-width:1.0\"/><circle cx=\"241\" cy=\"28\" r=\"3.0\" style=\"fill:rgb(197, 213, 242);stroke:black;stroke-width:1.0\"/><circle cx=\"720\" cy=\"259\" r=\"3.0\" style=\"fill:rgb(197, 213, 242);stroke:black;stroke-width:1.0\"/><circle cx=\"228\" cy=\"139\" r=\"3.0\" style=\"fill:rgb(112, 147, 243);stroke:black;stroke-width:1.0\"/><circle cx=\"255\" cy=\"163\" r=\"3.0\" style=\"fill:rgb(230, 114, 89);stroke:black;stroke-width:1.0\"/><circle cx=\"693\" cy=\"268\" r=\"3.0\" style=\"fill:rgb(197, 213, 242);stroke:black;stroke-width:1.0\"/><circle cx=\"696\" cy=\"247\" r=\"3.0\" style=\"fill:rgb(197, 213, 242);stroke:black;stroke-width:1.0\"/><circle cx=\"209\" cy=\"162\" r=\"3.0\" style=\"fill:rgb(112, 147, 243);stroke:black;stroke-width:1.0\"/><circle cx=\"389\" cy=\"233\" r=\"3.0\" style=\"fill:rgb(112, 147, 243);stroke:black;stroke-width:1.0\"/><circle cx=\"407\" cy=\"210\" r=\"3.0\" style=\"fill:rgb(112, 147, 243);stroke:black;stroke-width:1.0\"/><circle cx=\"287\" cy=\"323\" r=\"3.0\" style=\"fill:rgb(76, 102, 214);stroke:black;stroke-width:1.0\"/><circle cx=\"282\" cy=\"291\" r=\"3.0\" style=\"fill:rgb(76, 102, 214);stroke:black;stroke-width:1.0\"/><circle cx=\"117\" cy=\"321\" r=\"3.0\" style=\"fill:rgb(239, 206, 188);stroke:black;stroke-width:1.0\"/><circle cx=\"184\" cy=\"312\" r=\"3.0\" style=\"fill:rgb(243, 198, 176);stroke:black;stroke-width:1.0\"/><circle cx=\"60\" cy=\"347\" r=\"3.0\" style=\"fill:rgb(182, 13, 40);stroke:black;stroke-width:1.0\"/><circle cx=\"99\" cy=\"295\" r=\"3.0\" style=\"fill:rgb(66, 88, 202);stroke:black;stroke-width:1.0\"/><circle cx=\"60\" cy=\"372\" r=\"3.0\" style=\"fill:rgb(205, 217, 236);stroke:black;stroke-width:1.0\"/><circle cx=\"40\" cy=\"379\" r=\"3.0\" style=\"fill:rgb(205, 217, 236);stroke:black;stroke-width:1.0\"/><circle cx=\"30\" cy=\"364\" r=\"3.0\" style=\"fill:rgb(205, 217, 236);stroke:black;stroke-width:1.0\"/><circle cx=\"20\" cy=\"331\" r=\"3.0\" style=\"fill:rgb(58, 76, 192);stroke:black;stroke-width:1.0\"/><circle cx=\"286\" cy=\"500\" r=\"3.0\" style=\"fill:rgb(197, 213, 242);stroke:black;stroke-width:1.0\"/><circle cx=\"277\" cy=\"520\" r=\"3.0\" style=\"fill:rgb(197, 213, 242);stroke:black;stroke-width:1.0\"/><circle cx=\"549\" cy=\"123\" r=\"3.0\" style=\"fill:rgb(197, 213, 242);stroke:black;stroke-width:1.0\"/><circle cx=\"561\" cy=\"105\" r=\"3.0\" style=\"fill:rgb(197, 213, 242);stroke:black;stroke-width:1.0\"/><circle cx=\"215\" cy=\"300\" r=\"3.0\" style=\"fill:rgb(170, 198, 253);stroke:black;stroke-width:1.0\"/><text font-size=\"10\" x=\"370\" y=\"210\">Rabbit</text><text font-size=\"10\" x=\"316\" y=\"187\">Dinah</text><text font-size=\"10\" x=\"251\" y=\"311\">Duchess</text><text font-size=\"10\" x=\"275\" y=\"23\">Mabel</text><text font-size=\"10\" x=\"247\" y=\"31\">Ada</text><text font-size=\"10\" x=\"726\" y=\"262\">Mouse</text><text font-size=\"10\" x=\"234\" y=\"142\">Eaglet</text><text font-size=\"10\" x=\"261\" y=\"166\">Lory</text><text font-size=\"10\" x=\"699\" y=\"271\">Edgar Atheling</text><text font-size=\"10\" x=\"702\" y=\"250\">William</text><text font-size=\"10\" x=\"215\" y=\"165\">Crab</text><text font-size=\"10\" x=\"395\" y=\"236\">Mary Ann</text><text font-size=\"10\" x=\"413\" y=\"213\">Pat</text><text font-size=\"10\" x=\"293\" y=\"326\">Cheshire</text><text font-size=\"10\" x=\"288\" y=\"294\">Cat</text><text font-size=\"10\" x=\"123\" y=\"324\">Hatter</text><text font-size=\"10\" x=\"190\" y=\"315\">Hare</text><text font-size=\"10\" x=\"66\" y=\"350\">Dormouse</text><text font-size=\"10\" x=\"105\" y=\"298\">Time</text><text font-size=\"10\" x=\"66\" y=\"375\">Elsie</text><text font-size=\"10\" x=\"46\" y=\"382\">Tillie</text><text font-size=\"10\" x=\"36\" y=\"367\">Lacie</text><text font-size=\"10\" x=\"26\" y=\"334\">Treacle</text><text font-size=\"10\" x=\"292\" y=\"503\">Queens</text><text font-size=\"10\" x=\"283\" y=\"523\">Kings</text><text font-size=\"10\" x=\"555\" y=\"126\">Gryphon</text><text font-size=\"10\" x=\"567\" y=\"108\">Soup</text><text font-size=\"10\" x=\"221\" y=\"303\">Lizard</text></svg>"
      ],
      "text/plain": [
       "<IPython.core.display.SVG object>"
      ]
     },
     "execution_count": 18,
     "metadata": {},
     "output_type": "execute_result"
    }
   ],
   "source": [
    "draw_graph(nx.k_core(G1, 1), show_names=True, node_size=3) # removing isolates for clarity"
   ]
  },
  {
   "cell_type": "markdown",
   "id": "0567b6a1",
   "metadata": {},
   "source": [
    "## Iteration 2"
   ]
  },
  {
   "cell_type": "code",
   "execution_count": 19,
   "id": "9190d657",
   "metadata": {},
   "outputs": [
    {
     "data": {
      "image/png": "[encoded data removed]",
      "text/plain": [
       "<Figure size 432x288 with 1 Axes>"
      ]
     },
     "metadata": {
      "needs_background": "light"
     },
     "output_type": "display_data"
    }
   ],
   "source": [
    "cent_df = get_cent_df(G1)\n",
    "\n",
    "cent_df[0:20].plot.barh().invert_yaxis()"
   ]
  },
  {
   "cell_type": "code",
   "execution_count": 20,
   "id": "5eb0a37a",
   "metadata": {},
   "outputs": [
    {
     "data": {
      "text/plain": [
       "'Hatter'"
      ]
     },
     "execution_count": 20,
     "metadata": {},
     "output_type": "execute_result"
    }
   ],
   "source": [
    "drop_node = cent_df.iloc[0].name\n",
    "drop_node"
   ]
  },
  {
   "cell_type": "code",
   "execution_count": 21,
   "id": "44306b6f",
   "metadata": {},
   "outputs": [],
   "source": [
    "G1.remove_node(drop_node)"
   ]
  },
  {
   "cell_type": "code",
   "execution_count": 22,
   "id": "3a160409",
   "metadata": {},
   "outputs": [
    {
     "data": {
      "image/svg+xml": [
       "<svg height=\"540\" width=\"810.0\" xmlns=\"http://www.w3.org/2000/svg\"><path d=\"M 205 147 200 202\" stroke=\"gray\" stroke-width=\"0.5\"/><path d=\"M 205 147 223 114\" stroke=\"gray\" stroke-width=\"0.5\"/><path d=\"M 205 147 192 109\" stroke=\"gray\" stroke-width=\"0.5\"/><path d=\"M 200 202 205 147\" stroke=\"gray\" stroke-width=\"0.5\"/><path d=\"M 200 202 196 258\" stroke=\"gray\" stroke-width=\"0.5\"/><path d=\"M 411 410 436 391\" stroke=\"gray\" stroke-width=\"0.5\"/><path d=\"M 411 410 398 374\" stroke=\"gray\" stroke-width=\"0.5\"/><path d=\"M 411 410 413 448\" stroke=\"gray\" stroke-width=\"0.5\"/><path d=\"M 411 410 396 440\" stroke=\"gray\" stroke-width=\"0.5\"/><path d=\"M 33 416 20 393\" stroke=\"gray\" stroke-width=\"0.5\"/><path d=\"M 20 393 33 416\" stroke=\"gray\" stroke-width=\"0.5\"/><path d=\"M 644 56 659 37\" stroke=\"gray\" stroke-width=\"0.5\"/><path d=\"M 644 56 641 25\" stroke=\"gray\" stroke-width=\"0.5\"/><path d=\"M 209 296 196 258\" stroke=\"gray\" stroke-width=\"0.5\"/><path d=\"M 196 258 200 202\" stroke=\"gray\" stroke-width=\"0.5\"/><path d=\"M 196 258 209 296\" stroke=\"gray\" stroke-width=\"0.5\"/><path d=\"M 196 258 178 290\" stroke=\"gray\" stroke-width=\"0.5\"/><path d=\"M 659 37 644 56\" stroke=\"gray\" stroke-width=\"0.5\"/><path d=\"M 659 37 641 25\" stroke=\"gray\" stroke-width=\"0.5\"/><path d=\"M 641 25 644 56\" stroke=\"gray\" stroke-width=\"0.5\"/><path d=\"M 641 25 659 37\" stroke=\"gray\" stroke-width=\"0.5\"/><path d=\"M 178 290 196 258\" stroke=\"gray\" stroke-width=\"0.5\"/><path d=\"M 223 114 205 147\" stroke=\"gray\" stroke-width=\"0.5\"/><path d=\"M 192 109 205 147\" stroke=\"gray\" stroke-width=\"0.5\"/><path d=\"M 436 391 411 410\" stroke=\"gray\" stroke-width=\"0.5\"/><path d=\"M 398 374 411 410\" stroke=\"gray\" stroke-width=\"0.5\"/><path d=\"M 413 448 411 410\" stroke=\"gray\" stroke-width=\"0.5\"/><path d=\"M 413 448 396 440\" stroke=\"gray\" stroke-width=\"0.5\"/><path d=\"M 467 60 473 30\" stroke=\"gray\" stroke-width=\"0.5\"/><path d=\"M 467 60 451 41\" stroke=\"gray\" stroke-width=\"0.5\"/><path d=\"M 467 60 459 20\" stroke=\"gray\" stroke-width=\"0.5\"/><path d=\"M 467 60 476 100\" stroke=\"gray\" stroke-width=\"0.5\"/><path d=\"M 473 30 467 60\" stroke=\"gray\" stroke-width=\"0.5\"/><path d=\"M 473 30 451 41\" stroke=\"gray\" stroke-width=\"0.5\"/><path d=\"M 473 30 459 20\" stroke=\"gray\" stroke-width=\"0.5\"/><path d=\"M 451 41 467 60\" stroke=\"gray\" stroke-width=\"0.5\"/><path d=\"M 451 41 473 30\" stroke=\"gray\" stroke-width=\"0.5\"/><path d=\"M 451 41 459 20\" stroke=\"gray\" stroke-width=\"0.5\"/><path d=\"M 459 20 467 60\" stroke=\"gray\" stroke-width=\"0.5\"/><path d=\"M 459 20 473 30\" stroke=\"gray\" stroke-width=\"0.5\"/><path d=\"M 459 20 451 41\" stroke=\"gray\" stroke-width=\"0.5\"/><path d=\"M 476 100 467 60\" stroke=\"gray\" stroke-width=\"0.5\"/><path d=\"M 45 39 63 52\" stroke=\"gray\" stroke-width=\"0.5\"/><path d=\"M 63 52 45 39\" stroke=\"gray\" stroke-width=\"0.5\"/><path d=\"M 701 520 720 508\" stroke=\"gray\" stroke-width=\"0.5\"/><path d=\"M 720 508 701 520\" stroke=\"gray\" stroke-width=\"0.5\"/><path d=\"M 396 440 411 410\" stroke=\"gray\" stroke-width=\"0.5\"/><path d=\"M 396 440 413 448\" stroke=\"gray\" stroke-width=\"0.5\"/><circle cx=\"205\" cy=\"147\" r=\"3.0\" style=\"fill:rgb(243, 150, 120);stroke:black;stroke-width:1.0\"/><circle cx=\"200\" cy=\"202\" r=\"3.0\" style=\"fill:rgb(222, 219, 218);stroke:black;stroke-width:1.0\"/><circle cx=\"411\" cy=\"410\" r=\"3.0\" style=\"fill:rgb(179, 3, 38);stroke:black;stroke-width:1.0\"/><circle cx=\"33\" cy=\"416\" r=\"3.0\" style=\"fill:rgb(183, 207, 249);stroke:black;stroke-width:1.0\"/><circle cx=\"20\" cy=\"393\" r=\"3.0\" style=\"fill:rgb(183, 207, 249);stroke:black;stroke-width:1.0\"/><circle cx=\"644\" cy=\"56\" r=\"3.0\" style=\"fill:rgb(183, 207, 249);stroke:black;stroke-width:1.0\"/><circle cx=\"209\" cy=\"296\" r=\"3.0\" style=\"fill:rgb(105, 139, 239);stroke:black;stroke-width:1.0\"/><circle cx=\"196\" cy=\"258\" r=\"3.0\" style=\"fill:rgb(243, 150, 120);stroke:black;stroke-width:1.0\"/><circle cx=\"659\" cy=\"37\" r=\"3.0\" style=\"fill:rgb(183, 207, 249);stroke:black;stroke-width:1.0\"/><circle cx=\"641\" cy=\"25\" r=\"3.0\" style=\"fill:rgb(183, 207, 249);stroke:black;stroke-width:1.0\"/><circle cx=\"178\" cy=\"290\" r=\"3.0\" style=\"fill:rgb(105, 139, 239);stroke:black;stroke-width:1.0\"/><circle cx=\"223\" cy=\"114\" r=\"3.0\" style=\"fill:rgb(105, 139, 239);stroke:black;stroke-width:1.0\"/><circle cx=\"192\" cy=\"109\" r=\"3.0\" style=\"fill:rgb(105, 139, 239);stroke:black;stroke-width:1.0\"/><circle cx=\"436\" cy=\"391\" r=\"3.0\" style=\"fill:rgb(80, 107, 218);stroke:black;stroke-width:1.0\"/><circle cx=\"398\" cy=\"374\" r=\"3.0\" style=\"fill:rgb(80, 107, 218);stroke:black;stroke-width:1.0\"/><circle cx=\"413\" cy=\"448\" r=\"3.0\" style=\"fill:rgb(176, 203, 251);stroke:black;stroke-width:1.0\"/><circle cx=\"467\" cy=\"60\" r=\"3.0\" style=\"fill:rgb(246, 186, 159);stroke:black;stroke-width:1.0\"/><circle cx=\"473\" cy=\"30\" r=\"3.0\" style=\"fill:rgb(193, 212, 244);stroke:black;stroke-width:1.0\"/><circle cx=\"451\" cy=\"41\" r=\"3.0\" style=\"fill:rgb(193, 212, 244);stroke:black;stroke-width:1.0\"/><circle cx=\"459\" cy=\"20\" r=\"3.0\" style=\"fill:rgb(193, 212, 244);stroke:black;stroke-width:1.0\"/><circle cx=\"476\" cy=\"100\" r=\"3.0\" style=\"fill:rgb(58, 76, 192);stroke:black;stroke-width:1.0\"/><circle cx=\"45\" cy=\"39\" r=\"3.0\" style=\"fill:rgb(183, 207, 249);stroke:black;stroke-width:1.0\"/><circle cx=\"63\" cy=\"52\" r=\"3.0\" style=\"fill:rgb(183, 207, 249);stroke:black;stroke-width:1.0\"/><circle cx=\"701\" cy=\"520\" r=\"3.0\" style=\"fill:rgb(183, 207, 249);stroke:black;stroke-width:1.0\"/><circle cx=\"720\" cy=\"508\" r=\"3.0\" style=\"fill:rgb(183, 207, 249);stroke:black;stroke-width:1.0\"/><circle cx=\"396\" cy=\"440\" r=\"3.0\" style=\"fill:rgb(176, 203, 251);stroke:black;stroke-width:1.0\"/><text font-size=\"10\" x=\"211\" y=\"150\">Rabbit</text><text font-size=\"10\" x=\"206\" y=\"205\">Dinah</text><text font-size=\"10\" x=\"417\" y=\"413\">Duchess</text><text font-size=\"10\" x=\"39\" y=\"419\">Mabel</text><text font-size=\"10\" x=\"26\" y=\"396\">Ada</text><text font-size=\"10\" x=\"650\" y=\"59\">Mouse</text><text font-size=\"10\" x=\"215\" y=\"299\">Eaglet</text><text font-size=\"10\" x=\"202\" y=\"261\">Lory</text><text font-size=\"10\" x=\"665\" y=\"40\">Edgar Atheling</text><text font-size=\"10\" x=\"647\" y=\"28\">William</text><text font-size=\"10\" x=\"184\" y=\"293\">Crab</text><text font-size=\"10\" x=\"229\" y=\"117\">Mary Ann</text><text font-size=\"10\" x=\"198\" y=\"112\">Pat</text><text font-size=\"10\" x=\"442\" y=\"394\">Cheshire</text><text font-size=\"10\" x=\"404\" y=\"377\">Cat</text><text font-size=\"10\" x=\"419\" y=\"451\">Hare</text><text font-size=\"10\" x=\"473\" y=\"63\">Dormouse</text><text font-size=\"10\" x=\"479\" y=\"33\">Elsie</text><text font-size=\"10\" x=\"457\" y=\"44\">Tillie</text><text font-size=\"10\" x=\"465\" y=\"23\">Lacie</text><text font-size=\"10\" x=\"482\" y=\"103\">Treacle</text><text font-size=\"10\" x=\"51\" y=\"42\">Queens</text><text font-size=\"10\" x=\"69\" y=\"55\">Kings</text><text font-size=\"10\" x=\"707\" y=\"523\">Gryphon</text><text font-size=\"10\" x=\"726\" y=\"511\">Soup</text><text font-size=\"10\" x=\"402\" y=\"443\">Lizard</text></svg>"
      ],
      "text/plain": [
       "<IPython.core.display.SVG object>"
      ]
     },
     "execution_count": 22,
     "metadata": {},
     "output_type": "execute_result"
    }
   ],
   "source": [
    "draw_graph(nx.k_core(G1, 1), show_names=True, node_size=3) # removing isolates for clarity"
   ]
  },
  {
   "cell_type": "markdown",
   "id": "4707c3e8",
   "metadata": {},
   "source": [
    "## Iteration 3"
   ]
  },
  {
   "cell_type": "code",
   "execution_count": 23,
   "id": "c169c516",
   "metadata": {},
   "outputs": [
    {
     "data": {
      "image/png": "[encoded data removed]",
      "text/plain": [
       "<Figure size 432x288 with 1 Axes>"
      ]
     },
     "metadata": {
      "needs_background": "light"
     },
     "output_type": "display_data"
    }
   ],
   "source": [
    "cent_df = get_cent_df(G1)\n",
    "\n",
    "cent_df[0:20].plot.barh().invert_yaxis()"
   ]
  },
  {
   "cell_type": "code",
   "execution_count": 24,
   "id": "acdc4273",
   "metadata": {},
   "outputs": [
    {
     "data": {
      "text/plain": [
       "'Rabbit'"
      ]
     },
     "execution_count": 24,
     "metadata": {},
     "output_type": "execute_result"
    }
   ],
   "source": [
    "drop_node = cent_df.iloc[0].name\n",
    "drop_node"
   ]
  },
  {
   "cell_type": "code",
   "execution_count": 25,
   "id": "6d84ff8a",
   "metadata": {},
   "outputs": [],
   "source": [
    "G1.remove_node(drop_node)"
   ]
  },
  {
   "cell_type": "code",
   "execution_count": 26,
   "id": "ada8ba2e",
   "metadata": {},
   "outputs": [
    {
     "data": {
      "image/svg+xml": [
       "<svg height=\"540\" width=\"810.0\" xmlns=\"http://www.w3.org/2000/svg\"><path d=\"M 177 412 171 379\" stroke=\"gray\" stroke-width=\"0.5\"/><path d=\"M 688 394 720 413\" stroke=\"gray\" stroke-width=\"0.5\"/><path d=\"M 688 394 668 424\" stroke=\"gray\" stroke-width=\"0.5\"/><path d=\"M 688 394 669 366\" stroke=\"gray\" stroke-width=\"0.5\"/><path d=\"M 688 394 694 361\" stroke=\"gray\" stroke-width=\"0.5\"/><path d=\"M 429 98 401 97\" stroke=\"gray\" stroke-width=\"0.5\"/><path d=\"M 401 97 429 98\" stroke=\"gray\" stroke-width=\"0.5\"/><path d=\"M 684 72 660 83\" stroke=\"gray\" stroke-width=\"0.5\"/><path d=\"M 684 72 683 97\" stroke=\"gray\" stroke-width=\"0.5\"/><path d=\"M 141 363 171 379\" stroke=\"gray\" stroke-width=\"0.5\"/><path d=\"M 171 379 177 412\" stroke=\"gray\" stroke-width=\"0.5\"/><path d=\"M 171 379 141 363\" stroke=\"gray\" stroke-width=\"0.5\"/><path d=\"M 171 379 196 357\" stroke=\"gray\" stroke-width=\"0.5\"/><path d=\"M 660 83 684 72\" stroke=\"gray\" stroke-width=\"0.5\"/><path d=\"M 660 83 683 97\" stroke=\"gray\" stroke-width=\"0.5\"/><path d=\"M 683 97 684 72\" stroke=\"gray\" stroke-width=\"0.5\"/><path d=\"M 683 97 660 83\" stroke=\"gray\" stroke-width=\"0.5\"/><path d=\"M 196 357 171 379\" stroke=\"gray\" stroke-width=\"0.5\"/><path d=\"M 720 413 688 394\" stroke=\"gray\" stroke-width=\"0.5\"/><path d=\"M 668 424 688 394\" stroke=\"gray\" stroke-width=\"0.5\"/><path d=\"M 669 366 688 394\" stroke=\"gray\" stroke-width=\"0.5\"/><path d=\"M 669 366 694 361\" stroke=\"gray\" stroke-width=\"0.5\"/><path d=\"M 421 428 419 392\" stroke=\"gray\" stroke-width=\"0.5\"/><path d=\"M 421 428 436 406\" stroke=\"gray\" stroke-width=\"0.5\"/><path d=\"M 421 428 404 408\" stroke=\"gray\" stroke-width=\"0.5\"/><path d=\"M 421 428 424 465\" stroke=\"gray\" stroke-width=\"0.5\"/><path d=\"M 419 392 421 428\" stroke=\"gray\" stroke-width=\"0.5\"/><path d=\"M 419 392 436 406\" stroke=\"gray\" stroke-width=\"0.5\"/><path d=\"M 419 392 404 408\" stroke=\"gray\" stroke-width=\"0.5\"/><path d=\"M 436 406 421 428\" stroke=\"gray\" stroke-width=\"0.5\"/><path d=\"M 436 406 419 392\" stroke=\"gray\" stroke-width=\"0.5\"/><path d=\"M 436 406 404 408\" stroke=\"gray\" stroke-width=\"0.5\"/><path d=\"M 404 408 421 428\" stroke=\"gray\" stroke-width=\"0.5\"/><path d=\"M 404 408 419 392\" stroke=\"gray\" stroke-width=\"0.5\"/><path d=\"M 404 408 436 406\" stroke=\"gray\" stroke-width=\"0.5\"/><path d=\"M 424 465 421 428\" stroke=\"gray\" stroke-width=\"0.5\"/><path d=\"M 138 24 165 20\" stroke=\"gray\" stroke-width=\"0.5\"/><path d=\"M 165 20 138 24\" stroke=\"gray\" stroke-width=\"0.5\"/><path d=\"M 20 520 24 494\" stroke=\"gray\" stroke-width=\"0.5\"/><path d=\"M 24 494 20 520\" stroke=\"gray\" stroke-width=\"0.5\"/><path d=\"M 694 361 688 394\" stroke=\"gray\" stroke-width=\"0.5\"/><path d=\"M 694 361 669 366\" stroke=\"gray\" stroke-width=\"0.5\"/><circle cx=\"177\" cy=\"412\" r=\"3.0\" style=\"fill:rgb(123, 158, 248);stroke:black;stroke-width:1.0\"/><circle cx=\"688\" cy=\"394\" r=\"3.0\" style=\"fill:rgb(179, 3, 38);stroke:black;stroke-width:1.0\"/><circle cx=\"429\" cy=\"98\" r=\"3.0\" style=\"fill:rgb(183, 207, 249);stroke:black;stroke-width:1.0\"/><circle cx=\"401\" cy=\"97\" r=\"3.0\" style=\"fill:rgb(183, 207, 249);stroke:black;stroke-width:1.0\"/><circle cx=\"684\" cy=\"72\" r=\"3.0\" style=\"fill:rgb(183, 207, 249);stroke:black;stroke-width:1.0\"/><circle cx=\"141\" cy=\"363\" r=\"3.0\" style=\"fill:rgb(123, 158, 248);stroke:black;stroke-width:1.0\"/><circle cx=\"171\" cy=\"379\" r=\"3.0\" style=\"fill:rgb(220, 94, 75);stroke:black;stroke-width:1.0\"/><circle cx=\"660\" cy=\"83\" r=\"3.0\" style=\"fill:rgb(183, 207, 249);stroke:black;stroke-width:1.0\"/><circle cx=\"683\" cy=\"97\" r=\"3.0\" style=\"fill:rgb(183, 207, 249);stroke:black;stroke-width:1.0\"/><circle cx=\"196\" cy=\"357\" r=\"3.0\" style=\"fill:rgb(123, 158, 248);stroke:black;stroke-width:1.0\"/><circle cx=\"720\" cy=\"413\" r=\"3.0\" style=\"fill:rgb(80, 107, 218);stroke:black;stroke-width:1.0\"/><circle cx=\"668\" cy=\"424\" r=\"3.0\" style=\"fill:rgb(80, 107, 218);stroke:black;stroke-width:1.0\"/><circle cx=\"669\" cy=\"366\" r=\"3.0\" style=\"fill:rgb(176, 203, 251);stroke:black;stroke-width:1.0\"/><circle cx=\"421\" cy=\"428\" r=\"3.0\" style=\"fill:rgb(246, 186, 159);stroke:black;stroke-width:1.0\"/><circle cx=\"419\" cy=\"392\" r=\"3.0\" style=\"fill:rgb(193, 212, 244);stroke:black;stroke-width:1.0\"/><circle cx=\"436\" cy=\"406\" r=\"3.0\" style=\"fill:rgb(193, 212, 244);stroke:black;stroke-width:1.0\"/><circle cx=\"404\" cy=\"408\" r=\"3.0\" style=\"fill:rgb(193, 212, 244);stroke:black;stroke-width:1.0\"/><circle cx=\"424\" cy=\"465\" r=\"3.0\" style=\"fill:rgb(58, 76, 192);stroke:black;stroke-width:1.0\"/><circle cx=\"138\" cy=\"24\" r=\"3.0\" style=\"fill:rgb(183, 207, 249);stroke:black;stroke-width:1.0\"/><circle cx=\"165\" cy=\"20\" r=\"3.0\" style=\"fill:rgb(183, 207, 249);stroke:black;stroke-width:1.0\"/><circle cx=\"20\" cy=\"520\" r=\"3.0\" style=\"fill:rgb(183, 207, 249);stroke:black;stroke-width:1.0\"/><circle cx=\"24\" cy=\"494\" r=\"3.0\" style=\"fill:rgb(183, 207, 249);stroke:black;stroke-width:1.0\"/><circle cx=\"694\" cy=\"361\" r=\"3.0\" style=\"fill:rgb(176, 203, 251);stroke:black;stroke-width:1.0\"/><text font-size=\"10\" x=\"183\" y=\"415\">Dinah</text><text font-size=\"10\" x=\"694\" y=\"397\">Duchess</text><text font-size=\"10\" x=\"435\" y=\"101\">Mabel</text><text font-size=\"10\" x=\"407\" y=\"100\">Ada</text><text font-size=\"10\" x=\"690\" y=\"75\">Mouse</text><text font-size=\"10\" x=\"147\" y=\"366\">Eaglet</text><text font-size=\"10\" x=\"177\" y=\"382\">Lory</text><text font-size=\"10\" x=\"666\" y=\"86\">Edgar Atheling</text><text font-size=\"10\" x=\"689\" y=\"100\">William</text><text font-size=\"10\" x=\"202\" y=\"360\">Crab</text><text font-size=\"10\" x=\"726\" y=\"416\">Cheshire</text><text font-size=\"10\" x=\"674\" y=\"427\">Cat</text><text font-size=\"10\" x=\"675\" y=\"369\">Hare</text><text font-size=\"10\" x=\"427\" y=\"431\">Dormouse</text><text font-size=\"10\" x=\"425\" y=\"395\">Elsie</text><text font-size=\"10\" x=\"442\" y=\"409\">Tillie</text><text font-size=\"10\" x=\"410\" y=\"411\">Lacie</text><text font-size=\"10\" x=\"430\" y=\"468\">Treacle</text><text font-size=\"10\" x=\"144\" y=\"27\">Queens</text><text font-size=\"10\" x=\"171\" y=\"23\">Kings</text><text font-size=\"10\" x=\"26\" y=\"523\">Gryphon</text><text font-size=\"10\" x=\"30\" y=\"497\">Soup</text><text font-size=\"10\" x=\"700\" y=\"364\">Lizard</text></svg>"
      ],
      "text/plain": [
       "<IPython.core.display.SVG object>"
      ]
     },
     "execution_count": 26,
     "metadata": {},
     "output_type": "execute_result"
    }
   ],
   "source": [
    "draw_graph(nx.k_core(G1, 1), show_names=True, node_size=3) # removing isolates for clarity"
   ]
  },
  {
   "cell_type": "markdown",
   "id": "20d78f85",
   "metadata": {},
   "source": [
    "## Iteration 4"
   ]
  },
  {
   "cell_type": "code",
   "execution_count": 27,
   "id": "bbc99ab3",
   "metadata": {},
   "outputs": [
    {
     "data": {
      "image/png": "[encoded data removed]",
      "text/plain": [
       "<Figure size 432x288 with 1 Axes>"
      ]
     },
     "metadata": {
      "needs_background": "light"
     },
     "output_type": "display_data"
    }
   ],
   "source": [
    "cent_df = get_cent_df(G1)\n",
    "\n",
    "cent_df[0:20].plot.barh().invert_yaxis()"
   ]
  },
  {
   "cell_type": "code",
   "execution_count": 28,
   "id": "61961d02",
   "metadata": {},
   "outputs": [
    {
     "data": {
      "text/plain": [
       "'Duchess'"
      ]
     },
     "execution_count": 28,
     "metadata": {},
     "output_type": "execute_result"
    }
   ],
   "source": [
    "drop_node = cent_df.iloc[0].name\n",
    "drop_node"
   ]
  },
  {
   "cell_type": "code",
   "execution_count": 29,
   "id": "021dcc23",
   "metadata": {},
   "outputs": [],
   "source": [
    "G1.remove_node(drop_node)"
   ]
  },
  {
   "cell_type": "code",
   "execution_count": 30,
   "id": "1b5ce280",
   "metadata": {},
   "outputs": [
    {
     "data": {
      "image/svg+xml": [
       "<svg height=\"540\" width=\"810.0\" xmlns=\"http://www.w3.org/2000/svg\"><path d=\"M 213 506 202 473\" stroke=\"gray\" stroke-width=\"0.5\"/><path d=\"M 392 520 405 494\" stroke=\"gray\" stroke-width=\"0.5\"/><path d=\"M 405 494 392 520\" stroke=\"gray\" stroke-width=\"0.5\"/><path d=\"M 658 463 626 459\" stroke=\"gray\" stroke-width=\"0.5\"/><path d=\"M 658 463 637 484\" stroke=\"gray\" stroke-width=\"0.5\"/><path d=\"M 161 473 202 473\" stroke=\"gray\" stroke-width=\"0.5\"/><path d=\"M 202 473 213 506\" stroke=\"gray\" stroke-width=\"0.5\"/><path d=\"M 202 473 161 473\" stroke=\"gray\" stroke-width=\"0.5\"/><path d=\"M 202 473 226 444\" stroke=\"gray\" stroke-width=\"0.5\"/><path d=\"M 626 459 658 463\" stroke=\"gray\" stroke-width=\"0.5\"/><path d=\"M 626 459 637 484\" stroke=\"gray\" stroke-width=\"0.5\"/><path d=\"M 637 484 658 463\" stroke=\"gray\" stroke-width=\"0.5\"/><path d=\"M 637 484 626 459\" stroke=\"gray\" stroke-width=\"0.5\"/><path d=\"M 226 444 202 473\" stroke=\"gray\" stroke-width=\"0.5\"/><path d=\"M 703 151 720 174\" stroke=\"gray\" stroke-width=\"0.5\"/><path d=\"M 42 277 37 250\" stroke=\"gray\" stroke-width=\"0.5\"/><path d=\"M 42 277 72 264\" stroke=\"gray\" stroke-width=\"0.5\"/><path d=\"M 42 277 62 244\" stroke=\"gray\" stroke-width=\"0.5\"/><path d=\"M 42 277 20 309\" stroke=\"gray\" stroke-width=\"0.5\"/><path d=\"M 37 250 42 277\" stroke=\"gray\" stroke-width=\"0.5\"/><path d=\"M 37 250 72 264\" stroke=\"gray\" stroke-width=\"0.5\"/><path d=\"M 37 250 62 244\" stroke=\"gray\" stroke-width=\"0.5\"/><path d=\"M 72 264 42 277\" stroke=\"gray\" stroke-width=\"0.5\"/><path d=\"M 72 264 37 250\" stroke=\"gray\" stroke-width=\"0.5\"/><path d=\"M 72 264 62 244\" stroke=\"gray\" stroke-width=\"0.5\"/><path d=\"M 62 244 42 277\" stroke=\"gray\" stroke-width=\"0.5\"/><path d=\"M 62 244 37 250\" stroke=\"gray\" stroke-width=\"0.5\"/><path d=\"M 62 244 72 264\" stroke=\"gray\" stroke-width=\"0.5\"/><path d=\"M 20 309 42 277\" stroke=\"gray\" stroke-width=\"0.5\"/><path d=\"M 529 225 509 204\" stroke=\"gray\" stroke-width=\"0.5\"/><path d=\"M 509 204 529 225\" stroke=\"gray\" stroke-width=\"0.5\"/><path d=\"M 159 20 128 30\" stroke=\"gray\" stroke-width=\"0.5\"/><path d=\"M 128 30 159 20\" stroke=\"gray\" stroke-width=\"0.5\"/><path d=\"M 720 174 703 151\" stroke=\"gray\" stroke-width=\"0.5\"/><circle cx=\"213\" cy=\"506\" r=\"3.0\" style=\"fill:rgb(134, 169, 252);stroke:black;stroke-width:1.0\"/><circle cx=\"392\" cy=\"520\" r=\"3.0\" style=\"fill:rgb(199, 214, 240);stroke:black;stroke-width:1.0\"/><circle cx=\"405\" cy=\"494\" r=\"3.0\" style=\"fill:rgb(199, 214, 240);stroke:black;stroke-width:1.0\"/><circle cx=\"658\" cy=\"463\" r=\"3.0\" style=\"fill:rgb(199, 214, 240);stroke:black;stroke-width:1.0\"/><circle cx=\"161\" cy=\"473\" r=\"3.0\" style=\"fill:rgb(134, 169, 252);stroke:black;stroke-width:1.0\"/><circle cx=\"202\" cy=\"473\" r=\"3.0\" style=\"fill:rgb(179, 3, 38);stroke:black;stroke-width:1.0\"/><circle cx=\"626\" cy=\"459\" r=\"3.0\" style=\"fill:rgb(199, 214, 240);stroke:black;stroke-width:1.0\"/><circle cx=\"637\" cy=\"484\" r=\"3.0\" style=\"fill:rgb(199, 214, 240);stroke:black;stroke-width:1.0\"/><circle cx=\"226\" cy=\"444\" r=\"3.0\" style=\"fill:rgb(134, 169, 252);stroke:black;stroke-width:1.0\"/><circle cx=\"703\" cy=\"151\" r=\"3.0\" style=\"fill:rgb(199, 214, 240);stroke:black;stroke-width:1.0\"/><circle cx=\"42\" cy=\"277\" r=\"3.0\" style=\"fill:rgb(244, 154, 123);stroke:black;stroke-width:1.0\"/><circle cx=\"37\" cy=\"250\" r=\"3.0\" style=\"fill:rgb(208, 218, 233);stroke:black;stroke-width:1.0\"/><circle cx=\"72\" cy=\"264\" r=\"3.0\" style=\"fill:rgb(208, 218, 233);stroke:black;stroke-width:1.0\"/><circle cx=\"62\" cy=\"244\" r=\"3.0\" style=\"fill:rgb(208, 218, 233);stroke:black;stroke-width:1.0\"/><circle cx=\"20\" cy=\"309\" r=\"3.0\" style=\"fill:rgb(58, 76, 192);stroke:black;stroke-width:1.0\"/><circle cx=\"529\" cy=\"225\" r=\"3.0\" style=\"fill:rgb(199, 214, 240);stroke:black;stroke-width:1.0\"/><circle cx=\"509\" cy=\"204\" r=\"3.0\" style=\"fill:rgb(199, 214, 240);stroke:black;stroke-width:1.0\"/><circle cx=\"159\" cy=\"20\" r=\"3.0\" style=\"fill:rgb(199, 214, 240);stroke:black;stroke-width:1.0\"/><circle cx=\"128\" cy=\"30\" r=\"3.0\" style=\"fill:rgb(199, 214, 240);stroke:black;stroke-width:1.0\"/><circle cx=\"720\" cy=\"174\" r=\"3.0\" style=\"fill:rgb(199, 214, 240);stroke:black;stroke-width:1.0\"/><text font-size=\"10\" x=\"219\" y=\"509\">Dinah</text><text font-size=\"10\" x=\"398\" y=\"523\">Mabel</text><text font-size=\"10\" x=\"411\" y=\"497\">Ada</text><text font-size=\"10\" x=\"664\" y=\"466\">Mouse</text><text font-size=\"10\" x=\"167\" y=\"476\">Eaglet</text><text font-size=\"10\" x=\"208\" y=\"476\">Lory</text><text font-size=\"10\" x=\"632\" y=\"462\">Edgar Atheling</text><text font-size=\"10\" x=\"643\" y=\"487\">William</text><text font-size=\"10\" x=\"232\" y=\"447\">Crab</text><text font-size=\"10\" x=\"709\" y=\"154\">Hare</text><text font-size=\"10\" x=\"48\" y=\"280\">Dormouse</text><text font-size=\"10\" x=\"43\" y=\"253\">Elsie</text><text font-size=\"10\" x=\"78\" y=\"267\">Tillie</text><text font-size=\"10\" x=\"68\" y=\"247\">Lacie</text><text font-size=\"10\" x=\"26\" y=\"312\">Treacle</text><text font-size=\"10\" x=\"535\" y=\"228\">Queens</text><text font-size=\"10\" x=\"515\" y=\"207\">Kings</text><text font-size=\"10\" x=\"165\" y=\"23\">Gryphon</text><text font-size=\"10\" x=\"134\" y=\"33\">Soup</text><text font-size=\"10\" x=\"726\" y=\"177\">Lizard</text></svg>"
      ],
      "text/plain": [
       "<IPython.core.display.SVG object>"
      ]
     },
     "execution_count": 30,
     "metadata": {},
     "output_type": "execute_result"
    }
   ],
   "source": [
    "draw_graph(nx.k_core(G1, 1), show_names=True, node_size=3) # removing isolates for clarity"
   ]
  },
  {
   "cell_type": "code",
   "execution_count": 31,
   "id": "63c8799d",
   "metadata": {},
   "outputs": [
    {
     "data": {
      "image/svg+xml": [
       "<svg height=\"540\" width=\"845.0\" xmlns=\"http://www.w3.org/2000/svg\"><path d=\"M 560 125 567 140\" stroke=\"gray\" stroke-width=\"0.5\"/><path d=\"M 85 334 103 339\" stroke=\"gray\" stroke-width=\"0.5\"/><path d=\"M 103 339 85 334\" stroke=\"gray\" stroke-width=\"0.5\"/><path d=\"M 594 252 599 265\" stroke=\"gray\" stroke-width=\"0.5\"/><path d=\"M 594 252 614 256\" stroke=\"gray\" stroke-width=\"0.5\"/><path d=\"M 548 151 567 140\" stroke=\"gray\" stroke-width=\"0.5\"/><path d=\"M 567 140 560 125\" stroke=\"gray\" stroke-width=\"0.5\"/><path d=\"M 567 140 548 151\" stroke=\"gray\" stroke-width=\"0.5\"/><path d=\"M 567 140 591 145\" stroke=\"gray\" stroke-width=\"0.5\"/><path d=\"M 599 265 594 252\" stroke=\"gray\" stroke-width=\"0.5\"/><path d=\"M 599 265 614 256\" stroke=\"gray\" stroke-width=\"0.5\"/><path d=\"M 614 256 594 252\" stroke=\"gray\" stroke-width=\"0.5\"/><path d=\"M 614 256 599 265\" stroke=\"gray\" stroke-width=\"0.5\"/><path d=\"M 591 145 567 140\" stroke=\"gray\" stroke-width=\"0.5\"/><path d=\"M 336 234 325 223\" stroke=\"gray\" stroke-width=\"0.5\"/><path d=\"M 549 375 532 383\" stroke=\"gray\" stroke-width=\"0.5\"/><path d=\"M 549 375 521 375\" stroke=\"gray\" stroke-width=\"0.5\"/><path d=\"M 549 375 533 367\" stroke=\"gray\" stroke-width=\"0.5\"/><path d=\"M 549 375 576 376\" stroke=\"gray\" stroke-width=\"0.5\"/><path d=\"M 532 383 549 375\" stroke=\"gray\" stroke-width=\"0.5\"/><path d=\"M 532 383 521 375\" stroke=\"gray\" stroke-width=\"0.5\"/><path d=\"M 532 383 533 367\" stroke=\"gray\" stroke-width=\"0.5\"/><path d=\"M 521 375 549 375\" stroke=\"gray\" stroke-width=\"0.5\"/><path d=\"M 521 375 532 383\" stroke=\"gray\" stroke-width=\"0.5\"/><path d=\"M 521 375 533 367\" stroke=\"gray\" stroke-width=\"0.5\"/><path d=\"M 533 367 549 375\" stroke=\"gray\" stroke-width=\"0.5\"/><path d=\"M 533 367 532 383\" stroke=\"gray\" stroke-width=\"0.5\"/><path d=\"M 533 367 521 375\" stroke=\"gray\" stroke-width=\"0.5\"/><path d=\"M 576 376 549 375\" stroke=\"gray\" stroke-width=\"0.5\"/><path d=\"M 406 507 407 520\" stroke=\"gray\" stroke-width=\"0.5\"/><path d=\"M 407 520 406 507\" stroke=\"gray\" stroke-width=\"0.5\"/><path d=\"M 313 321 295 316\" stroke=\"gray\" stroke-width=\"0.5\"/><path d=\"M 295 316 313 321\" stroke=\"gray\" stroke-width=\"0.5\"/><path d=\"M 325 223 336 234\" stroke=\"gray\" stroke-width=\"0.5\"/><circle cx=\"560\" cy=\"125\" r=\"3.0\" style=\"fill:rgb(120, 155, 247);stroke:black;stroke-width:1.0\"/><circle cx=\"20\" cy=\"450\" r=\"3.0\" style=\"fill:rgb(189, 210, 246);stroke:black;stroke-width:1.0\"/><circle cx=\"85\" cy=\"334\" r=\"3.0\" style=\"fill:rgb(189, 210, 246);stroke:black;stroke-width:1.0\"/><circle cx=\"103\" cy=\"339\" r=\"3.0\" style=\"fill:rgb(189, 210, 246);stroke:black;stroke-width:1.0\"/><circle cx=\"594\" cy=\"252\" r=\"3.0\" style=\"fill:rgb(189, 210, 246);stroke:black;stroke-width:1.0\"/><circle cx=\"203\" cy=\"219\" r=\"3.0\" style=\"fill:rgb(189, 210, 246);stroke:black;stroke-width:1.0\"/><circle cx=\"548\" cy=\"151\" r=\"3.0\" style=\"fill:rgb(120, 155, 247);stroke:black;stroke-width:1.0\"/><circle cx=\"567\" cy=\"140\" r=\"3.0\" style=\"fill:rgb(179, 3, 38);stroke:black;stroke-width:1.0\"/><circle cx=\"599\" cy=\"265\" r=\"3.0\" style=\"fill:rgb(189, 210, 246);stroke:black;stroke-width:1.0\"/><circle cx=\"614\" cy=\"256\" r=\"3.0\" style=\"fill:rgb(189, 210, 246);stroke:black;stroke-width:1.0\"/><circle cx=\"591\" cy=\"145\" r=\"3.0\" style=\"fill:rgb(120, 155, 247);stroke:black;stroke-width:1.0\"/><circle cx=\"96\" cy=\"154\" r=\"3.0\" style=\"fill:rgb(189, 210, 246);stroke:black;stroke-width:1.0\"/><circle cx=\"378\" cy=\"74\" r=\"3.0\" style=\"fill:rgb(189, 210, 246);stroke:black;stroke-width:1.0\"/><circle cx=\"208\" cy=\"142\" r=\"3.0\" style=\"fill:rgb(189, 210, 246);stroke:black;stroke-width:1.0\"/><circle cx=\"239\" cy=\"428\" r=\"3.0\" style=\"fill:rgb(189, 210, 246);stroke:black;stroke-width:1.0\"/><circle cx=\"301\" cy=\"20\" r=\"3.0\" style=\"fill:rgb(189, 210, 246);stroke:black;stroke-width:1.0\"/><circle cx=\"318\" cy=\"395\" r=\"3.0\" style=\"fill:rgb(189, 210, 246);stroke:black;stroke-width:1.0\"/><circle cx=\"720\" cy=\"84\" r=\"3.0\" style=\"fill:rgb(189, 210, 246);stroke:black;stroke-width:1.0\"/><circle cx=\"403\" cy=\"178\" r=\"3.0\" style=\"fill:rgb(189, 210, 246);stroke:black;stroke-width:1.0\"/><circle cx=\"205\" cy=\"480\" r=\"3.0\" style=\"fill:rgb(189, 210, 246);stroke:black;stroke-width:1.0\"/><circle cx=\"336\" cy=\"234\" r=\"3.0\" style=\"fill:rgb(189, 210, 246);stroke:black;stroke-width:1.0\"/><circle cx=\"549\" cy=\"375\" r=\"3.0\" style=\"fill:rgb(247, 173, 143);stroke:black;stroke-width:1.0\"/><circle cx=\"629\" cy=\"463\" r=\"3.0\" style=\"fill:rgb(189, 210, 246);stroke:black;stroke-width:1.0\"/><circle cx=\"532\" cy=\"383\" r=\"3.0\" style=\"fill:rgb(199, 214, 240);stroke:black;stroke-width:1.0\"/><circle cx=\"521\" cy=\"375\" r=\"3.0\" style=\"fill:rgb(199, 214, 240);stroke:black;stroke-width:1.0\"/><circle cx=\"533\" cy=\"367\" r=\"3.0\" style=\"fill:rgb(199, 214, 240);stroke:black;stroke-width:1.0\"/><circle cx=\"576\" cy=\"376\" r=\"3.0\" style=\"fill:rgb(58, 76, 192);stroke:black;stroke-width:1.0\"/><circle cx=\"406\" cy=\"507\" r=\"3.0\" style=\"fill:rgb(189, 210, 246);stroke:black;stroke-width:1.0\"/><circle cx=\"407\" cy=\"520\" r=\"3.0\" style=\"fill:rgb(189, 210, 246);stroke:black;stroke-width:1.0\"/><circle cx=\"313\" cy=\"321\" r=\"3.0\" style=\"fill:rgb(189, 210, 246);stroke:black;stroke-width:1.0\"/><circle cx=\"499\" cy=\"43\" r=\"3.0\" style=\"fill:rgb(189, 210, 246);stroke:black;stroke-width:1.0\"/><circle cx=\"295\" cy=\"316\" r=\"3.0\" style=\"fill:rgb(189, 210, 246);stroke:black;stroke-width:1.0\"/><circle cx=\"325\" cy=\"223\" r=\"3.0\" style=\"fill:rgb(189, 210, 246);stroke:black;stroke-width:1.0\"/><text font-size=\"10\" x=\"566\" y=\"128\">Dinah</text><text font-size=\"10\" x=\"26\" y=\"453\">Fender</text><text font-size=\"10\" x=\"91\" y=\"337\">Mabel</text><text font-size=\"10\" x=\"109\" y=\"342\">Ada</text><text font-size=\"10\" x=\"600\" y=\"255\">Mouse</text><text font-size=\"10\" x=\"209\" y=\"222\">William the Conqueror</text><text font-size=\"10\" x=\"554\" y=\"154\">Eaglet</text><text font-size=\"10\" x=\"573\" y=\"143\">Lory</text><text font-size=\"10\" x=\"605\" y=\"268\">Edgar Atheling</text><text font-size=\"10\" x=\"620\" y=\"259\">William</text><text font-size=\"10\" x=\"597\" y=\"148\">Crab</text><text font-size=\"10\" x=\"102\" y=\"157\">Bill</text><text font-size=\"10\" x=\"384\" y=\"77\">Mary Ann</text><text font-size=\"10\" x=\"214\" y=\"145\">Pat</text><text font-size=\"10\" x=\"245\" y=\"431\">Caterpillar</text><text font-size=\"10\" x=\"307\" y=\"23\">Pigeon</text><text font-size=\"10\" x=\"324\" y=\"398\">Fish-Footman</text><text font-size=\"10\" x=\"726\" y=\"87\">Cheshire</text><text font-size=\"10\" x=\"409\" y=\"181\">Cheshire Cat</text><text font-size=\"10\" x=\"211\" y=\"483\">Cat</text><text font-size=\"10\" x=\"342\" y=\"237\">Hare</text><text font-size=\"10\" x=\"555\" y=\"378\">Dormouse</text><text font-size=\"10\" x=\"635\" y=\"466\">Time</text><text font-size=\"10\" x=\"538\" y=\"386\">Elsie</text><text font-size=\"10\" x=\"527\" y=\"378\">Tillie</text><text font-size=\"10\" x=\"539\" y=\"370\">Lacie</text><text font-size=\"10\" x=\"582\" y=\"379\">Treacle</text><text font-size=\"10\" x=\"412\" y=\"510\">Queens</text><text font-size=\"10\" x=\"413\" y=\"523\">Kings</text><text font-size=\"10\" x=\"319\" y=\"324\">Gryphon</text><text font-size=\"10\" x=\"505\" y=\"46\">Lobster Quadrille</text><text font-size=\"10\" x=\"301\" y=\"319\">Soup</text><text font-size=\"10\" x=\"331\" y=\"226\">Lizard</text></svg>"
      ],
      "text/plain": [
       "<IPython.core.display.SVG object>"
      ]
     },
     "execution_count": 31,
     "metadata": {},
     "output_type": "execute_result"
    }
   ],
   "source": [
    "draw_graph(G1, show_names=True, node_size=3) # removing isolates for clarity"
   ]
  },
  {
   "cell_type": "code",
   "execution_count": 32,
   "id": "302bf47f",
   "metadata": {},
   "outputs": [
    {
     "data": {
      "image/svg+xml": [
       "<svg height=\"540\" width=\"845.0\" xmlns=\"http://www.w3.org/2000/svg\"><path d=\"M 375 198 348 368\" stroke=\"gray\" stroke-width=\"0.5\"/><path d=\"M 375 198 314 311\" stroke=\"gray\" stroke-width=\"0.5\"/><path d=\"M 375 198 353 73\" stroke=\"gray\" stroke-width=\"0.5\"/><path d=\"M 375 198 509 316\" stroke=\"gray\" stroke-width=\"0.5\"/><path d=\"M 375 198 426 353\" stroke=\"gray\" stroke-width=\"0.5\"/><path d=\"M 375 198 149 208\" stroke=\"gray\" stroke-width=\"0.5\"/><path d=\"M 375 198 244 178\" stroke=\"gray\" stroke-width=\"0.5\"/><path d=\"M 375 198 295 373\" stroke=\"gray\" stroke-width=\"0.5\"/><path d=\"M 375 198 256 97\" stroke=\"gray\" stroke-width=\"0.5\"/><path d=\"M 375 198 372 294\" stroke=\"gray\" stroke-width=\"0.5\"/><path d=\"M 375 198 409 51\" stroke=\"gray\" stroke-width=\"0.5\"/><path d=\"M 375 198 471 181\" stroke=\"gray\" stroke-width=\"0.5\"/><path d=\"M 375 198 298 55\" stroke=\"gray\" stroke-width=\"0.5\"/><path d=\"M 375 198 357 28\" stroke=\"gray\" stroke-width=\"0.5\"/><path d=\"M 375 198 453 281\" stroke=\"gray\" stroke-width=\"0.5\"/><path d=\"M 375 198 517 150\" stroke=\"gray\" stroke-width=\"0.5\"/><path d=\"M 375 198 517 241\" stroke=\"gray\" stroke-width=\"0.5\"/><path d=\"M 375 198 605 109\" stroke=\"gray\" stroke-width=\"0.5\"/><path d=\"M 375 198 340 123\" stroke=\"gray\" stroke-width=\"0.5\"/><path d=\"M 375 198 293 134\" stroke=\"gray\" stroke-width=\"0.5\"/><path d=\"M 375 198 285 232\" stroke=\"gray\" stroke-width=\"0.5\"/><path d=\"M 375 198 446 81\" stroke=\"gray\" stroke-width=\"0.5\"/><path d=\"M 375 198 260 265\" stroke=\"gray\" stroke-width=\"0.5\"/><path d=\"M 348 368 375 198\" stroke=\"gray\" stroke-width=\"0.5\"/><path d=\"M 348 368 314 311\" stroke=\"gray\" stroke-width=\"0.5\"/><path d=\"M 348 368 372 294\" stroke=\"gray\" stroke-width=\"0.5\"/><path d=\"M 348 368 330 520\" stroke=\"gray\" stroke-width=\"0.5\"/><path d=\"M 314 311 375 198\" stroke=\"gray\" stroke-width=\"0.5\"/><path d=\"M 314 311 348 368\" stroke=\"gray\" stroke-width=\"0.5\"/><path d=\"M 314 311 295 373\" stroke=\"gray\" stroke-width=\"0.5\"/><path d=\"M 353 73 375 198\" stroke=\"gray\" stroke-width=\"0.5\"/><path d=\"M 509 316 375 198\" stroke=\"gray\" stroke-width=\"0.5\"/><path d=\"M 509 316 562 447\" stroke=\"gray\" stroke-width=\"0.5\"/><path d=\"M 509 316 453 281\" stroke=\"gray\" stroke-width=\"0.5\"/><path d=\"M 509 316 517 241\" stroke=\"gray\" stroke-width=\"0.5\"/><path d=\"M 509 316 599 307\" stroke=\"gray\" stroke-width=\"0.5\"/><path d=\"M 426 353 375 198\" stroke=\"gray\" stroke-width=\"0.5\"/><path d=\"M 426 353 474 463\" stroke=\"gray\" stroke-width=\"0.5\"/><path d=\"M 474 463 426 353\" stroke=\"gray\" stroke-width=\"0.5\"/><path d=\"M 149 208 375 198\" stroke=\"gray\" stroke-width=\"0.5\"/><path d=\"M 149 208 20 195\" stroke=\"gray\" stroke-width=\"0.5\"/><path d=\"M 149 208 24 243\" stroke=\"gray\" stroke-width=\"0.5\"/><path d=\"M 244 178 375 198\" stroke=\"gray\" stroke-width=\"0.5\"/><path d=\"M 358 475 295 373\" stroke=\"gray\" stroke-width=\"0.5\"/><path d=\"M 295 373 375 198\" stroke=\"gray\" stroke-width=\"0.5\"/><path d=\"M 295 373 314 311\" stroke=\"gray\" stroke-width=\"0.5\"/><path d=\"M 295 373 358 475\" stroke=\"gray\" stroke-width=\"0.5\"/><path d=\"M 295 373 198 456\" stroke=\"gray\" stroke-width=\"0.5\"/><path d=\"M 20 195 149 208\" stroke=\"gray\" stroke-width=\"0.5\"/><path d=\"M 20 195 24 243\" stroke=\"gray\" stroke-width=\"0.5\"/><path d=\"M 24 243 149 208\" stroke=\"gray\" stroke-width=\"0.5\"/><path d=\"M 24 243 20 195\" stroke=\"gray\" stroke-width=\"0.5\"/><path d=\"M 198 456 295 373\" stroke=\"gray\" stroke-width=\"0.5\"/><path d=\"M 256 97 375 198\" stroke=\"gray\" stroke-width=\"0.5\"/><path d=\"M 372 294 375 198\" stroke=\"gray\" stroke-width=\"0.5\"/><path d=\"M 372 294 348 368\" stroke=\"gray\" stroke-width=\"0.5\"/><path d=\"M 330 520 348 368\" stroke=\"gray\" stroke-width=\"0.5\"/><path d=\"M 409 51 375 198\" stroke=\"gray\" stroke-width=\"0.5\"/><path d=\"M 471 181 375 198\" stroke=\"gray\" stroke-width=\"0.5\"/><path d=\"M 298 55 375 198\" stroke=\"gray\" stroke-width=\"0.5\"/><path d=\"M 562 447 509 316\" stroke=\"gray\" stroke-width=\"0.5\"/><path d=\"M 357 28 375 198\" stroke=\"gray\" stroke-width=\"0.5\"/><path d=\"M 453 281 375 198\" stroke=\"gray\" stroke-width=\"0.5\"/><path d=\"M 453 281 509 316\" stroke=\"gray\" stroke-width=\"0.5\"/><path d=\"M 517 150 375 198\" stroke=\"gray\" stroke-width=\"0.5\"/><path d=\"M 517 150 517 241\" stroke=\"gray\" stroke-width=\"0.5\"/><path d=\"M 517 150 605 109\" stroke=\"gray\" stroke-width=\"0.5\"/><path d=\"M 517 150 528 70\" stroke=\"gray\" stroke-width=\"0.5\"/><path d=\"M 517 241 375 198\" stroke=\"gray\" stroke-width=\"0.5\"/><path d=\"M 517 241 509 316\" stroke=\"gray\" stroke-width=\"0.5\"/><path d=\"M 517 241 517 150\" stroke=\"gray\" stroke-width=\"0.5\"/><path d=\"M 517 241 599 307\" stroke=\"gray\" stroke-width=\"0.5\"/><path d=\"M 605 109 375 198\" stroke=\"gray\" stroke-width=\"0.5\"/><path d=\"M 605 109 517 150\" stroke=\"gray\" stroke-width=\"0.5\"/><path d=\"M 605 109 680 20\" stroke=\"gray\" stroke-width=\"0.5\"/><path d=\"M 605 109 720 64\" stroke=\"gray\" stroke-width=\"0.5\"/><path d=\"M 605 109 715 20\" stroke=\"gray\" stroke-width=\"0.5\"/><path d=\"M 605 109 716 173\" stroke=\"gray\" stroke-width=\"0.5\"/><path d=\"M 528 70 517 150\" stroke=\"gray\" stroke-width=\"0.5\"/><path d=\"M 680 20 605 109\" stroke=\"gray\" stroke-width=\"0.5\"/><path d=\"M 680 20 720 64\" stroke=\"gray\" stroke-width=\"0.5\"/><path d=\"M 680 20 715 20\" stroke=\"gray\" stroke-width=\"0.5\"/><path d=\"M 720 64 605 109\" stroke=\"gray\" stroke-width=\"0.5\"/><path d=\"M 720 64 680 20\" stroke=\"gray\" stroke-width=\"0.5\"/><path d=\"M 720 64 715 20\" stroke=\"gray\" stroke-width=\"0.5\"/><path d=\"M 715 20 605 109\" stroke=\"gray\" stroke-width=\"0.5\"/><path d=\"M 715 20 680 20\" stroke=\"gray\" stroke-width=\"0.5\"/><path d=\"M 715 20 720 64\" stroke=\"gray\" stroke-width=\"0.5\"/><path d=\"M 716 173 605 109\" stroke=\"gray\" stroke-width=\"0.5\"/><path d=\"M 340 123 375 198\" stroke=\"gray\" stroke-width=\"0.5\"/><path d=\"M 340 123 293 134\" stroke=\"gray\" stroke-width=\"0.5\"/><path d=\"M 293 134 375 198\" stroke=\"gray\" stroke-width=\"0.5\"/><path d=\"M 293 134 340 123\" stroke=\"gray\" stroke-width=\"0.5\"/><path d=\"M 285 232 375 198\" stroke=\"gray\" stroke-width=\"0.5\"/><path d=\"M 285 232 260 265\" stroke=\"gray\" stroke-width=\"0.5\"/><path d=\"M 446 81 375 198\" stroke=\"gray\" stroke-width=\"0.5\"/><path d=\"M 260 265 375 198\" stroke=\"gray\" stroke-width=\"0.5\"/><path d=\"M 260 265 285 232\" stroke=\"gray\" stroke-width=\"0.5\"/><path d=\"M 599 307 509 316\" stroke=\"gray\" stroke-width=\"0.5\"/><path d=\"M 599 307 517 241\" stroke=\"gray\" stroke-width=\"0.5\"/><circle cx=\"375\" cy=\"198\" r=\"3.0\" style=\"fill:rgb(179, 3, 38);stroke:black;stroke-width:1.0\"/><circle cx=\"348\" cy=\"368\" r=\"3.0\" style=\"fill:rgb(99, 131, 234);stroke:black;stroke-width:1.0\"/><circle cx=\"314\" cy=\"311\" r=\"3.0\" style=\"fill:rgb(86, 115, 224);stroke:black;stroke-width:1.0\"/><circle cx=\"353\" cy=\"73\" r=\"3.0\" style=\"fill:rgb(58, 76, 192);stroke:black;stroke-width:1.0\"/><circle cx=\"509\" cy=\"316\" r=\"3.0\" style=\"fill:rgb(112, 147, 243);stroke:black;stroke-width:1.0\"/><circle cx=\"426\" cy=\"353\" r=\"3.0\" style=\"fill:rgb(76, 102, 214);stroke:black;stroke-width:1.0\"/><circle cx=\"474\" cy=\"463\" r=\"3.0\" style=\"fill:rgb(60, 79, 195);stroke:black;stroke-width:1.0\"/><circle cx=\"149\" cy=\"208\" r=\"3.0\" style=\"fill:rgb(86, 115, 224);stroke:black;stroke-width:1.0\"/><circle cx=\"244\" cy=\"178\" r=\"3.0\" style=\"fill:rgb(58, 76, 192);stroke:black;stroke-width:1.0\"/><circle cx=\"358\" cy=\"475\" r=\"3.0\" style=\"fill:rgb(58, 76, 192);stroke:black;stroke-width:1.0\"/><circle cx=\"295\" cy=\"373\" r=\"3.0\" style=\"fill:rgb(105, 139, 239);stroke:black;stroke-width:1.0\"/><circle cx=\"20\" cy=\"195\" r=\"3.0\" style=\"fill:rgb(72, 96, 209);stroke:black;stroke-width:1.0\"/><circle cx=\"24\" cy=\"243\" r=\"3.0\" style=\"fill:rgb(72, 96, 209);stroke:black;stroke-width:1.0\"/><circle cx=\"198\" cy=\"456\" r=\"3.0\" style=\"fill:rgb(58, 76, 192);stroke:black;stroke-width:1.0\"/><circle cx=\"256\" cy=\"97\" r=\"3.0\" style=\"fill:rgb(58, 76, 192);stroke:black;stroke-width:1.0\"/><circle cx=\"372\" cy=\"294\" r=\"3.0\" style=\"fill:rgb(70, 93, 207);stroke:black;stroke-width:1.0\"/><circle cx=\"330\" cy=\"520\" r=\"3.0\" style=\"fill:rgb(58, 76, 192);stroke:black;stroke-width:1.0\"/><circle cx=\"409\" cy=\"51\" r=\"3.0\" style=\"fill:rgb(58, 76, 192);stroke:black;stroke-width:1.0\"/><circle cx=\"471\" cy=\"181\" r=\"3.0\" style=\"fill:rgb(58, 76, 192);stroke:black;stroke-width:1.0\"/><circle cx=\"298\" cy=\"55\" r=\"3.0\" style=\"fill:rgb(58, 76, 192);stroke:black;stroke-width:1.0\"/><circle cx=\"562\" cy=\"447\" r=\"3.0\" style=\"fill:rgb(58, 76, 192);stroke:black;stroke-width:1.0\"/><circle cx=\"357\" cy=\"28\" r=\"3.0\" style=\"fill:rgb(58, 76, 192);stroke:black;stroke-width:1.0\"/><circle cx=\"453\" cy=\"281\" r=\"3.0\" style=\"fill:rgb(70, 93, 207);stroke:black;stroke-width:1.0\"/><circle cx=\"517\" cy=\"150\" r=\"3.0\" style=\"fill:rgb(96, 128, 232);stroke:black;stroke-width:1.0\"/><circle cx=\"517\" cy=\"241\" r=\"3.0\" style=\"fill:rgb(96, 128, 232);stroke:black;stroke-width:1.0\"/><circle cx=\"605\" cy=\"109\" r=\"3.0\" style=\"fill:rgb(120, 155, 247);stroke:black;stroke-width:1.0\"/><circle cx=\"528\" cy=\"70\" r=\"3.0\" style=\"fill:rgb(58, 76, 192);stroke:black;stroke-width:1.0\"/><circle cx=\"680\" cy=\"20\" r=\"3.0\" style=\"fill:rgb(80, 107, 218);stroke:black;stroke-width:1.0\"/><circle cx=\"720\" cy=\"64\" r=\"3.0\" style=\"fill:rgb(80, 107, 218);stroke:black;stroke-width:1.0\"/><circle cx=\"715\" cy=\"20\" r=\"3.0\" style=\"fill:rgb(80, 107, 218);stroke:black;stroke-width:1.0\"/><circle cx=\"716\" cy=\"173\" r=\"3.0\" style=\"fill:rgb(58, 76, 192);stroke:black;stroke-width:1.0\"/><circle cx=\"340\" cy=\"123\" r=\"3.0\" style=\"fill:rgb(70, 93, 207);stroke:black;stroke-width:1.0\"/><circle cx=\"293\" cy=\"134\" r=\"3.0\" style=\"fill:rgb(70, 93, 207);stroke:black;stroke-width:1.0\"/><circle cx=\"285\" cy=\"232\" r=\"3.0\" style=\"fill:rgb(70, 93, 207);stroke:black;stroke-width:1.0\"/><circle cx=\"446\" cy=\"81\" r=\"3.0\" style=\"fill:rgb(58, 76, 192);stroke:black;stroke-width:1.0\"/><circle cx=\"260\" cy=\"265\" r=\"3.0\" style=\"fill:rgb(70, 93, 207);stroke:black;stroke-width:1.0\"/><circle cx=\"599\" cy=\"307\" r=\"3.0\" style=\"fill:rgb(70, 93, 207);stroke:black;stroke-width:1.0\"/><text font-size=\"10\" x=\"381\" y=\"201\">Alice</text><text font-size=\"10\" x=\"354\" y=\"371\">Rabbit</text><text font-size=\"10\" x=\"320\" y=\"314\">Dinah</text><text font-size=\"10\" x=\"359\" y=\"76\">Fender</text><text font-size=\"10\" x=\"515\" y=\"319\">Duchess</text><text font-size=\"10\" x=\"432\" y=\"356\">Mabel</text><text font-size=\"10\" x=\"480\" y=\"466\">Ada</text><text font-size=\"10\" x=\"155\" y=\"211\">Mouse</text><text font-size=\"10\" x=\"250\" y=\"181\">William the Conqueror</text><text font-size=\"10\" x=\"364\" y=\"478\">Eaglet</text><text font-size=\"10\" x=\"301\" y=\"376\">Lory</text><text font-size=\"10\" x=\"26\" y=\"198\">Edgar Atheling</text><text font-size=\"10\" x=\"30\" y=\"246\">William</text><text font-size=\"10\" x=\"204\" y=\"459\">Crab</text><text font-size=\"10\" x=\"262\" y=\"100\">Bill</text><text font-size=\"10\" x=\"378\" y=\"297\">Mary Ann</text><text font-size=\"10\" x=\"336\" y=\"523\">Pat</text><text font-size=\"10\" x=\"415\" y=\"54\">Caterpillar</text><text font-size=\"10\" x=\"477\" y=\"184\">Pigeon</text><text font-size=\"10\" x=\"304\" y=\"58\">Fish-Footman</text><text font-size=\"10\" x=\"568\" y=\"450\">Cheshire</text><text font-size=\"10\" x=\"363\" y=\"31\">Cheshire Cat</text><text font-size=\"10\" x=\"459\" y=\"284\">Cat</text><text font-size=\"10\" x=\"523\" y=\"153\">Hatter</text><text font-size=\"10\" x=\"523\" y=\"244\">Hare</text><text font-size=\"10\" x=\"611\" y=\"112\">Dormouse</text><text font-size=\"10\" x=\"534\" y=\"73\">Time</text><text font-size=\"10\" x=\"686\" y=\"23\">Elsie</text><text font-size=\"10\" x=\"726\" y=\"67\">Tillie</text><text font-size=\"10\" x=\"721\" y=\"23\">Lacie</text><text font-size=\"10\" x=\"722\" y=\"176\">Treacle</text><text font-size=\"10\" x=\"346\" y=\"126\">Queens</text><text font-size=\"10\" x=\"299\" y=\"137\">Kings</text><text font-size=\"10\" x=\"291\" y=\"235\">Gryphon</text><text font-size=\"10\" x=\"452\" y=\"84\">Lobster Quadrille</text><text font-size=\"10\" x=\"266\" y=\"268\">Soup</text><text font-size=\"10\" x=\"605\" y=\"310\">Lizard</text></svg>"
      ],
      "text/plain": [
       "<IPython.core.display.SVG object>"
      ]
     },
     "execution_count": 32,
     "metadata": {},
     "output_type": "execute_result"
    }
   ],
   "source": [
    "draw_graph(G, show_names=True, node_size=3)"
   ]
  },
  {
   "cell_type": "code",
   "execution_count": 33,
   "id": "5188108b",
   "metadata": {},
   "outputs": [
    {
     "data": {
      "text/plain": [
       "0.07507507507507508"
      ]
     },
     "execution_count": 33,
     "metadata": {},
     "output_type": "execute_result"
    }
   ],
   "source": [
    "nx.density(G)"
   ]
  },
  {
   "cell_type": "code",
   "execution_count": 34,
   "id": "81466d6f",
   "metadata": {},
   "outputs": [
    {
     "data": {
      "text/plain": [
       "0.032196969696969696"
      ]
     },
     "execution_count": 34,
     "metadata": {},
     "output_type": "execute_result"
    }
   ],
   "source": [
    "nx.density(G1)"
   ]
  },
  {
   "cell_type": "code",
   "execution_count": 35,
   "id": "6a049ff5",
   "metadata": {},
   "outputs": [
    {
     "name": "stdout",
     "output_type": "stream",
     "text": [
      "Graph with 37 nodes and 50 edges\n"
     ]
    }
   ],
   "source": [
    "print(G)"
   ]
  },
  {
   "cell_type": "code",
   "execution_count": 36,
   "id": "d7c27ecb",
   "metadata": {},
   "outputs": [
    {
     "name": "stdout",
     "output_type": "stream",
     "text": [
      "Graph with 33 nodes and 17 edges\n"
     ]
    }
   ],
   "source": [
    "print(G1)"
   ]
  },
  {
   "cell_type": "code",
   "execution_count": 37,
   "id": "18ec0e9a",
   "metadata": {},
   "outputs": [
    {
     "data": {
      "text/plain": [
       "[4, 1, 2, 3, 1, 1, 1, 1, 1, 1, 1, 1, 1, 1, 2, 5, 1, 2, 2, 1]"
      ]
     },
     "execution_count": 37,
     "metadata": {},
     "output_type": "execute_result"
    }
   ],
   "source": [
    "components = list(nx.connected_components(G1))\n",
    "\n",
    "[len(c) for c in components]"
   ]
  },
  {
   "cell_type": "code",
   "execution_count": 38,
   "id": "bce52c6d",
   "metadata": {},
   "outputs": [
    {
     "data": {
      "text/plain": [
       "20"
      ]
     },
     "execution_count": 38,
     "metadata": {},
     "output_type": "execute_result"
    }
   ],
   "source": [
    "len(components)"
   ]
  },
  {
   "cell_type": "code",
   "execution_count": 39,
   "id": "b2d6cf99",
   "metadata": {},
   "outputs": [
    {
     "data": {
      "text/plain": [
       "1.65"
      ]
     },
     "execution_count": 39,
     "metadata": {},
     "output_type": "execute_result"
    }
   ],
   "source": [
    "np.mean([len(c) for c in components]) # average component size"
   ]
  },
  {
   "cell_type": "markdown",
   "id": "19e2dd1b",
   "metadata": {},
   "source": [
    "# Simulation 2: Burst Attack"
   ]
  },
  {
   "cell_type": "code",
   "execution_count": 40,
   "id": "25442b6c",
   "metadata": {},
   "outputs": [
    {
     "data": {
      "image/svg+xml": [
       "<svg height=\"540\" width=\"845.0\" xmlns=\"http://www.w3.org/2000/svg\"><path d=\"M 417 254 580 230\" stroke=\"gray\" stroke-width=\"0.5\"/><path d=\"M 417 254 487 299\" stroke=\"gray\" stroke-width=\"0.5\"/><path d=\"M 417 254 472 375\" stroke=\"gray\" stroke-width=\"0.5\"/><path d=\"M 417 254 296 117\" stroke=\"gray\" stroke-width=\"0.5\"/><path d=\"M 417 254 599 373\" stroke=\"gray\" stroke-width=\"0.5\"/><path d=\"M 417 254 167 287\" stroke=\"gray\" stroke-width=\"0.5\"/><path d=\"M 417 254 543 265\" stroke=\"gray\" stroke-width=\"0.5\"/><path d=\"M 417 254 442 406\" stroke=\"gray\" stroke-width=\"0.5\"/><path d=\"M 417 254 454 191\" stroke=\"gray\" stroke-width=\"0.5\"/><path d=\"M 417 254 558 186\" stroke=\"gray\" stroke-width=\"0.5\"/><path d=\"M 417 254 285 261\" stroke=\"gray\" stroke-width=\"0.5\"/><path d=\"M 417 254 523 147\" stroke=\"gray\" stroke-width=\"0.5\"/><path d=\"M 417 254 590 288\" stroke=\"gray\" stroke-width=\"0.5\"/><path d=\"M 417 254 365 371\" stroke=\"gray\" stroke-width=\"0.5\"/><path d=\"M 417 254 315 197\" stroke=\"gray\" stroke-width=\"0.5\"/><path d=\"M 417 254 336 134\" stroke=\"gray\" stroke-width=\"0.5\"/><path d=\"M 417 254 383 115\" stroke=\"gray\" stroke-width=\"0.5\"/><path d=\"M 417 254 235 125\" stroke=\"gray\" stroke-width=\"0.5\"/><path d=\"M 417 254 336 326\" stroke=\"gray\" stroke-width=\"0.5\"/><path d=\"M 417 254 301 349\" stroke=\"gray\" stroke-width=\"0.5\"/><path d=\"M 417 254 531 325\" stroke=\"gray\" stroke-width=\"0.5\"/><path d=\"M 417 254 467 140\" stroke=\"gray\" stroke-width=\"0.5\"/><path d=\"M 417 254 487 343\" stroke=\"gray\" stroke-width=\"0.5\"/><path d=\"M 580 230 417 254\" stroke=\"gray\" stroke-width=\"0.5\"/><path d=\"M 580 230 487 299\" stroke=\"gray\" stroke-width=\"0.5\"/><path d=\"M 580 230 558 186\" stroke=\"gray\" stroke-width=\"0.5\"/><path d=\"M 580 230 717 217\" stroke=\"gray\" stroke-width=\"0.5\"/><path d=\"M 487 299 417 254\" stroke=\"gray\" stroke-width=\"0.5\"/><path d=\"M 487 299 580 230\" stroke=\"gray\" stroke-width=\"0.5\"/><path d=\"M 487 299 442 406\" stroke=\"gray\" stroke-width=\"0.5\"/><path d=\"M 472 375 417 254\" stroke=\"gray\" stroke-width=\"0.5\"/><path d=\"M 296 117 417 254\" stroke=\"gray\" stroke-width=\"0.5\"/><path d=\"M 296 117 125 47\" stroke=\"gray\" stroke-width=\"0.5\"/><path d=\"M 296 117 315 197\" stroke=\"gray\" stroke-width=\"0.5\"/><path d=\"M 296 117 383 115\" stroke=\"gray\" stroke-width=\"0.5\"/><path d=\"M 296 117 361 27\" stroke=\"gray\" stroke-width=\"0.5\"/><path d=\"M 599 373 417 254\" stroke=\"gray\" stroke-width=\"0.5\"/><path d=\"M 599 373 720 456\" stroke=\"gray\" stroke-width=\"0.5\"/><path d=\"M 720 456 599 373\" stroke=\"gray\" stroke-width=\"0.5\"/><path d=\"M 167 287 417 254\" stroke=\"gray\" stroke-width=\"0.5\"/><path d=\"M 167 287 26 315\" stroke=\"gray\" stroke-width=\"0.5\"/><path d=\"M 167 287 20 272\" stroke=\"gray\" stroke-width=\"0.5\"/><path d=\"M 543 265 417 254\" stroke=\"gray\" stroke-width=\"0.5\"/><path d=\"M 427 520 442 406\" stroke=\"gray\" stroke-width=\"0.5\"/><path d=\"M 442 406 417 254\" stroke=\"gray\" stroke-width=\"0.5\"/><path d=\"M 442 406 487 299\" stroke=\"gray\" stroke-width=\"0.5\"/><path d=\"M 442 406 427 520\" stroke=\"gray\" stroke-width=\"0.5\"/><path d=\"M 442 406 482 499\" stroke=\"gray\" stroke-width=\"0.5\"/><path d=\"M 26 315 167 287\" stroke=\"gray\" stroke-width=\"0.5\"/><path d=\"M 26 315 20 272\" stroke=\"gray\" stroke-width=\"0.5\"/><path d=\"M 20 272 167 287\" stroke=\"gray\" stroke-width=\"0.5\"/><path d=\"M 20 272 26 315\" stroke=\"gray\" stroke-width=\"0.5\"/><path d=\"M 482 499 442 406\" stroke=\"gray\" stroke-width=\"0.5\"/><path d=\"M 454 191 417 254\" stroke=\"gray\" stroke-width=\"0.5\"/><path d=\"M 558 186 417 254\" stroke=\"gray\" stroke-width=\"0.5\"/><path d=\"M 558 186 580 230\" stroke=\"gray\" stroke-width=\"0.5\"/><path d=\"M 717 217 580 230\" stroke=\"gray\" stroke-width=\"0.5\"/><path d=\"M 285 261 417 254\" stroke=\"gray\" stroke-width=\"0.5\"/><path d=\"M 523 147 417 254\" stroke=\"gray\" stroke-width=\"0.5\"/><path d=\"M 590 288 417 254\" stroke=\"gray\" stroke-width=\"0.5\"/><path d=\"M 125 47 296 117\" stroke=\"gray\" stroke-width=\"0.5\"/><path d=\"M 365 371 417 254\" stroke=\"gray\" stroke-width=\"0.5\"/><path d=\"M 315 197 417 254\" stroke=\"gray\" stroke-width=\"0.5\"/><path d=\"M 315 197 296 117\" stroke=\"gray\" stroke-width=\"0.5\"/><path d=\"M 336 134 417 254\" stroke=\"gray\" stroke-width=\"0.5\"/><path d=\"M 336 134 383 115\" stroke=\"gray\" stroke-width=\"0.5\"/><path d=\"M 336 134 235 125\" stroke=\"gray\" stroke-width=\"0.5\"/><path d=\"M 336 134 305 28\" stroke=\"gray\" stroke-width=\"0.5\"/><path d=\"M 383 115 417 254\" stroke=\"gray\" stroke-width=\"0.5\"/><path d=\"M 383 115 296 117\" stroke=\"gray\" stroke-width=\"0.5\"/><path d=\"M 383 115 336 134\" stroke=\"gray\" stroke-width=\"0.5\"/><path d=\"M 383 115 361 27\" stroke=\"gray\" stroke-width=\"0.5\"/><path d=\"M 235 125 417 254\" stroke=\"gray\" stroke-width=\"0.5\"/><path d=\"M 235 125 336 134\" stroke=\"gray\" stroke-width=\"0.5\"/><path d=\"M 235 125 153 63\" stroke=\"gray\" stroke-width=\"0.5\"/><path d=\"M 235 125 160 21\" stroke=\"gray\" stroke-width=\"0.5\"/><path d=\"M 235 125 202 20\" stroke=\"gray\" stroke-width=\"0.5\"/><path d=\"M 235 125 150 200\" stroke=\"gray\" stroke-width=\"0.5\"/><path d=\"M 305 28 336 134\" stroke=\"gray\" stroke-width=\"0.5\"/><path d=\"M 153 63 235 125\" stroke=\"gray\" stroke-width=\"0.5\"/><path d=\"M 153 63 160 21\" stroke=\"gray\" stroke-width=\"0.5\"/><path d=\"M 153 63 202 20\" stroke=\"gray\" stroke-width=\"0.5\"/><path d=\"M 160 21 235 125\" stroke=\"gray\" stroke-width=\"0.5\"/><path d=\"M 160 21 153 63\" stroke=\"gray\" stroke-width=\"0.5\"/><path d=\"M 160 21 202 20\" stroke=\"gray\" stroke-width=\"0.5\"/><path d=\"M 202 20 235 125\" stroke=\"gray\" stroke-width=\"0.5\"/><path d=\"M 202 20 153 63\" stroke=\"gray\" stroke-width=\"0.5\"/><path d=\"M 202 20 160 21\" stroke=\"gray\" stroke-width=\"0.5\"/><path d=\"M 150 200 235 125\" stroke=\"gray\" stroke-width=\"0.5\"/><path d=\"M 336 326 417 254\" stroke=\"gray\" stroke-width=\"0.5\"/><path d=\"M 336 326 301 349\" stroke=\"gray\" stroke-width=\"0.5\"/><path d=\"M 301 349 417 254\" stroke=\"gray\" stroke-width=\"0.5\"/><path d=\"M 301 349 336 326\" stroke=\"gray\" stroke-width=\"0.5\"/><path d=\"M 531 325 417 254\" stroke=\"gray\" stroke-width=\"0.5\"/><path d=\"M 531 325 487 343\" stroke=\"gray\" stroke-width=\"0.5\"/><path d=\"M 467 140 417 254\" stroke=\"gray\" stroke-width=\"0.5\"/><path d=\"M 487 343 417 254\" stroke=\"gray\" stroke-width=\"0.5\"/><path d=\"M 487 343 531 325\" stroke=\"gray\" stroke-width=\"0.5\"/><path d=\"M 361 27 296 117\" stroke=\"gray\" stroke-width=\"0.5\"/><path d=\"M 361 27 383 115\" stroke=\"gray\" stroke-width=\"0.5\"/><circle cx=\"417\" cy=\"254\" r=\"3.0\" style=\"fill:rgb(179, 3, 38);stroke:black;stroke-width:1.0\"/><circle cx=\"580\" cy=\"230\" r=\"3.0\" style=\"fill:rgb(99, 131, 234);stroke:black;stroke-width:1.0\"/><circle cx=\"487\" cy=\"299\" r=\"3.0\" style=\"fill:rgb(86, 115, 224);stroke:black;stroke-width:1.0\"/><circle cx=\"472\" cy=\"375\" r=\"3.0\" style=\"fill:rgb(58, 76, 192);stroke:black;stroke-width:1.0\"/><circle cx=\"296\" cy=\"117\" r=\"3.0\" style=\"fill:rgb(112, 147, 243);stroke:black;stroke-width:1.0\"/><circle cx=\"599\" cy=\"373\" r=\"3.0\" style=\"fill:rgb(76, 102, 214);stroke:black;stroke-width:1.0\"/><circle cx=\"720\" cy=\"456\" r=\"3.0\" style=\"fill:rgb(60, 79, 195);stroke:black;stroke-width:1.0\"/><circle cx=\"167\" cy=\"287\" r=\"3.0\" style=\"fill:rgb(86, 115, 224);stroke:black;stroke-width:1.0\"/><circle cx=\"543\" cy=\"265\" r=\"3.0\" style=\"fill:rgb(58, 76, 192);stroke:black;stroke-width:1.0\"/><circle cx=\"427\" cy=\"520\" r=\"3.0\" style=\"fill:rgb(58, 76, 192);stroke:black;stroke-width:1.0\"/><circle cx=\"442\" cy=\"406\" r=\"3.0\" style=\"fill:rgb(105, 139, 239);stroke:black;stroke-width:1.0\"/><circle cx=\"26\" cy=\"315\" r=\"3.0\" style=\"fill:rgb(72, 96, 209);stroke:black;stroke-width:1.0\"/><circle cx=\"20\" cy=\"272\" r=\"3.0\" style=\"fill:rgb(72, 96, 209);stroke:black;stroke-width:1.0\"/><circle cx=\"482\" cy=\"499\" r=\"3.0\" style=\"fill:rgb(58, 76, 192);stroke:black;stroke-width:1.0\"/><circle cx=\"454\" cy=\"191\" r=\"3.0\" style=\"fill:rgb(58, 76, 192);stroke:black;stroke-width:1.0\"/><circle cx=\"558\" cy=\"186\" r=\"3.0\" style=\"fill:rgb(70, 93, 207);stroke:black;stroke-width:1.0\"/><circle cx=\"717\" cy=\"217\" r=\"3.0\" style=\"fill:rgb(58, 76, 192);stroke:black;stroke-width:1.0\"/><circle cx=\"285\" cy=\"261\" r=\"3.0\" style=\"fill:rgb(58, 76, 192);stroke:black;stroke-width:1.0\"/><circle cx=\"523\" cy=\"147\" r=\"3.0\" style=\"fill:rgb(58, 76, 192);stroke:black;stroke-width:1.0\"/><circle cx=\"590\" cy=\"288\" r=\"3.0\" style=\"fill:rgb(58, 76, 192);stroke:black;stroke-width:1.0\"/><circle cx=\"125\" cy=\"47\" r=\"3.0\" style=\"fill:rgb(58, 76, 192);stroke:black;stroke-width:1.0\"/><circle cx=\"365\" cy=\"371\" r=\"3.0\" style=\"fill:rgb(58, 76, 192);stroke:black;stroke-width:1.0\"/><circle cx=\"315\" cy=\"197\" r=\"3.0\" style=\"fill:rgb(70, 93, 207);stroke:black;stroke-width:1.0\"/><circle cx=\"336\" cy=\"134\" r=\"3.0\" style=\"fill:rgb(96, 128, 232);stroke:black;stroke-width:1.0\"/><circle cx=\"383\" cy=\"115\" r=\"3.0\" style=\"fill:rgb(96, 128, 232);stroke:black;stroke-width:1.0\"/><circle cx=\"235\" cy=\"125\" r=\"3.0\" style=\"fill:rgb(120, 155, 247);stroke:black;stroke-width:1.0\"/><circle cx=\"305\" cy=\"28\" r=\"3.0\" style=\"fill:rgb(58, 76, 192);stroke:black;stroke-width:1.0\"/><circle cx=\"153\" cy=\"63\" r=\"3.0\" style=\"fill:rgb(80, 107, 218);stroke:black;stroke-width:1.0\"/><circle cx=\"160\" cy=\"21\" r=\"3.0\" style=\"fill:rgb(80, 107, 218);stroke:black;stroke-width:1.0\"/><circle cx=\"202\" cy=\"20\" r=\"3.0\" style=\"fill:rgb(80, 107, 218);stroke:black;stroke-width:1.0\"/><circle cx=\"150\" cy=\"200\" r=\"3.0\" style=\"fill:rgb(58, 76, 192);stroke:black;stroke-width:1.0\"/><circle cx=\"336\" cy=\"326\" r=\"3.0\" style=\"fill:rgb(70, 93, 207);stroke:black;stroke-width:1.0\"/><circle cx=\"301\" cy=\"349\" r=\"3.0\" style=\"fill:rgb(70, 93, 207);stroke:black;stroke-width:1.0\"/><circle cx=\"531\" cy=\"325\" r=\"3.0\" style=\"fill:rgb(70, 93, 207);stroke:black;stroke-width:1.0\"/><circle cx=\"467\" cy=\"140\" r=\"3.0\" style=\"fill:rgb(58, 76, 192);stroke:black;stroke-width:1.0\"/><circle cx=\"487\" cy=\"343\" r=\"3.0\" style=\"fill:rgb(70, 93, 207);stroke:black;stroke-width:1.0\"/><circle cx=\"361\" cy=\"27\" r=\"3.0\" style=\"fill:rgb(70, 93, 207);stroke:black;stroke-width:1.0\"/><text font-size=\"10\" x=\"423\" y=\"257\">Alice</text><text font-size=\"10\" x=\"586\" y=\"233\">Rabbit</text><text font-size=\"10\" x=\"493\" y=\"302\">Dinah</text><text font-size=\"10\" x=\"478\" y=\"378\">Fender</text><text font-size=\"10\" x=\"302\" y=\"120\">Duchess</text><text font-size=\"10\" x=\"605\" y=\"376\">Mabel</text><text font-size=\"10\" x=\"726\" y=\"459\">Ada</text><text font-size=\"10\" x=\"173\" y=\"290\">Mouse</text><text font-size=\"10\" x=\"549\" y=\"268\">William the Conqueror</text><text font-size=\"10\" x=\"433\" y=\"523\">Eaglet</text><text font-size=\"10\" x=\"448\" y=\"409\">Lory</text><text font-size=\"10\" x=\"32\" y=\"318\">Edgar Atheling</text><text font-size=\"10\" x=\"26\" y=\"275\">William</text><text font-size=\"10\" x=\"488\" y=\"502\">Crab</text><text font-size=\"10\" x=\"460\" y=\"194\">Bill</text><text font-size=\"10\" x=\"564\" y=\"189\">Mary Ann</text><text font-size=\"10\" x=\"723\" y=\"220\">Pat</text><text font-size=\"10\" x=\"291\" y=\"264\">Caterpillar</text><text font-size=\"10\" x=\"529\" y=\"150\">Pigeon</text><text font-size=\"10\" x=\"596\" y=\"291\">Fish-Footman</text><text font-size=\"10\" x=\"131\" y=\"50\">Cheshire</text><text font-size=\"10\" x=\"371\" y=\"374\">Cheshire Cat</text><text font-size=\"10\" x=\"321\" y=\"200\">Cat</text><text font-size=\"10\" x=\"342\" y=\"137\">Hatter</text><text font-size=\"10\" x=\"389\" y=\"118\">Hare</text><text font-size=\"10\" x=\"241\" y=\"128\">Dormouse</text><text font-size=\"10\" x=\"311\" y=\"31\">Time</text><text font-size=\"10\" x=\"159\" y=\"66\">Elsie</text><text font-size=\"10\" x=\"166\" y=\"24\">Tillie</text><text font-size=\"10\" x=\"208\" y=\"23\">Lacie</text><text font-size=\"10\" x=\"156\" y=\"203\">Treacle</text><text font-size=\"10\" x=\"342\" y=\"329\">Queens</text><text font-size=\"10\" x=\"307\" y=\"352\">Kings</text><text font-size=\"10\" x=\"537\" y=\"328\">Gryphon</text><text font-size=\"10\" x=\"473\" y=\"143\">Lobster Quadrille</text><text font-size=\"10\" x=\"493\" y=\"346\">Soup</text><text font-size=\"10\" x=\"367\" y=\"30\">Lizard</text></svg>"
      ],
      "text/plain": [
       "<IPython.core.display.SVG object>"
      ]
     },
     "execution_count": 40,
     "metadata": {},
     "output_type": "execute_result"
    }
   ],
   "source": [
    "G2 = G.copy() # keep G for use with simulation 2\n",
    "\n",
    "draw_graph(G2, show_names=True, node_size=3)"
   ]
  },
  {
   "cell_type": "code",
   "execution_count": 41,
   "id": "6695cc42",
   "metadata": {},
   "outputs": [
    {
     "data": {
      "image/png": "[encoded data removed]",
      "text/plain": [
       "<Figure size 432x288 with 1 Axes>"
      ]
     },
     "metadata": {
      "needs_background": "light"
     },
     "output_type": "display_data"
    }
   ],
   "source": [
    "cent_df = get_cent_df(G2)\n",
    "\n",
    "cent_df[0:20].plot.barh().invert_yaxis()"
   ]
  },
  {
   "cell_type": "code",
   "execution_count": 42,
   "id": "4e3b6aff",
   "metadata": {},
   "outputs": [
    {
     "data": {
      "text/plain": [
       "['Alice', 'Dormouse', 'Lory', 'Mouse']"
      ]
     },
     "execution_count": 42,
     "metadata": {},
     "output_type": "execute_result"
    }
   ],
   "source": [
    "drop_nodes = list(cent_df[0:4].index)\n",
    "\n",
    "drop_nodes"
   ]
  },
  {
   "cell_type": "code",
   "execution_count": 43,
   "id": "50c4104d",
   "metadata": {},
   "outputs": [],
   "source": [
    "G2.remove_nodes_from(drop_nodes)"
   ]
  },
  {
   "cell_type": "code",
   "execution_count": 44,
   "id": "5547d998",
   "metadata": {},
   "outputs": [
    {
     "data": {
      "image/svg+xml": [
       "<svg height=\"540\" width=\"810.0\" xmlns=\"http://www.w3.org/2000/svg\"><path d=\"M 282 136 250 144\" stroke=\"gray\" stroke-width=\"0.5\"/><path d=\"M 282 136 292 108\" stroke=\"gray\" stroke-width=\"0.5\"/><path d=\"M 282 136 302 160\" stroke=\"gray\" stroke-width=\"0.5\"/><path d=\"M 250 144 282 136\" stroke=\"gray\" stroke-width=\"0.5\"/><path d=\"M 556 304 567 272\" stroke=\"gray\" stroke-width=\"0.5\"/><path d=\"M 556 304 521 288\" stroke=\"gray\" stroke-width=\"0.5\"/><path d=\"M 556 304 583 334\" stroke=\"gray\" stroke-width=\"0.5\"/><path d=\"M 556 304 553 331\" stroke=\"gray\" stroke-width=\"0.5\"/><path d=\"M 557 39 572 20\" stroke=\"gray\" stroke-width=\"0.5\"/><path d=\"M 572 20 557 39\" stroke=\"gray\" stroke-width=\"0.5\"/><path d=\"M 711 142 720 120\" stroke=\"gray\" stroke-width=\"0.5\"/><path d=\"M 720 120 711 142\" stroke=\"gray\" stroke-width=\"0.5\"/><path d=\"M 292 108 282 136\" stroke=\"gray\" stroke-width=\"0.5\"/><path d=\"M 302 160 282 136\" stroke=\"gray\" stroke-width=\"0.5\"/><path d=\"M 567 272 556 304\" stroke=\"gray\" stroke-width=\"0.5\"/><path d=\"M 521 288 556 304\" stroke=\"gray\" stroke-width=\"0.5\"/><path d=\"M 619 358 583 334\" stroke=\"gray\" stroke-width=\"0.5\"/><path d=\"M 619 358 648 377\" stroke=\"gray\" stroke-width=\"0.5\"/><path d=\"M 583 334 556 304\" stroke=\"gray\" stroke-width=\"0.5\"/><path d=\"M 583 334 619 358\" stroke=\"gray\" stroke-width=\"0.5\"/><path d=\"M 583 334 553 331\" stroke=\"gray\" stroke-width=\"0.5\"/><path d=\"M 648 377 619 358\" stroke=\"gray\" stroke-width=\"0.5\"/><path d=\"M 179 425 178 402\" stroke=\"gray\" stroke-width=\"0.5\"/><path d=\"M 179 425 156 414\" stroke=\"gray\" stroke-width=\"0.5\"/><path d=\"M 178 402 179 425\" stroke=\"gray\" stroke-width=\"0.5\"/><path d=\"M 178 402 156 414\" stroke=\"gray\" stroke-width=\"0.5\"/><path d=\"M 156 414 179 425\" stroke=\"gray\" stroke-width=\"0.5\"/><path d=\"M 156 414 178 402\" stroke=\"gray\" stroke-width=\"0.5\"/><path d=\"M 20 220 24 196\" stroke=\"gray\" stroke-width=\"0.5\"/><path d=\"M 24 196 20 220\" stroke=\"gray\" stroke-width=\"0.5\"/><path d=\"M 536 496 535 520\" stroke=\"gray\" stroke-width=\"0.5\"/><path d=\"M 535 520 536 496\" stroke=\"gray\" stroke-width=\"0.5\"/><path d=\"M 553 331 556 304\" stroke=\"gray\" stroke-width=\"0.5\"/><path d=\"M 553 331 583 334\" stroke=\"gray\" stroke-width=\"0.5\"/><circle cx=\"282\" cy=\"136\" r=\"3.0\" style=\"fill:rgb(214, 82, 67);stroke:black;stroke-width:1.0\"/><circle cx=\"250\" cy=\"144\" r=\"3.0\" style=\"fill:rgb(103, 136, 237);stroke:black;stroke-width:1.0\"/><circle cx=\"556\" cy=\"304\" r=\"3.0\" style=\"fill:rgb(179, 3, 38);stroke:black;stroke-width:1.0\"/><circle cx=\"557\" cy=\"39\" r=\"3.0\" style=\"fill:rgb(170, 198, 253);stroke:black;stroke-width:1.0\"/><circle cx=\"572\" cy=\"20\" r=\"3.0\" style=\"fill:rgb(170, 198, 253);stroke:black;stroke-width:1.0\"/><circle cx=\"711\" cy=\"142\" r=\"3.0\" style=\"fill:rgb(170, 198, 253);stroke:black;stroke-width:1.0\"/><circle cx=\"720\" cy=\"120\" r=\"3.0\" style=\"fill:rgb(170, 198, 253);stroke:black;stroke-width:1.0\"/><circle cx=\"292\" cy=\"108\" r=\"3.0\" style=\"fill:rgb(103, 136, 237);stroke:black;stroke-width:1.0\"/><circle cx=\"302\" cy=\"160\" r=\"3.0\" style=\"fill:rgb(103, 136, 237);stroke:black;stroke-width:1.0\"/><circle cx=\"567\" cy=\"272\" r=\"3.0\" style=\"fill:rgb(58, 76, 192);stroke:black;stroke-width:1.0\"/><circle cx=\"521\" cy=\"288\" r=\"3.0\" style=\"fill:rgb(58, 76, 192);stroke:black;stroke-width:1.0\"/><circle cx=\"619\" cy=\"358\" r=\"3.0\" style=\"fill:rgb(180, 205, 250);stroke:black;stroke-width:1.0\"/><circle cx=\"583\" cy=\"334\" r=\"3.0\" style=\"fill:rgb(246, 186, 159);stroke:black;stroke-width:1.0\"/><circle cx=\"648\" cy=\"377\" r=\"3.0\" style=\"fill:rgb(66, 88, 202);stroke:black;stroke-width:1.0\"/><circle cx=\"179\" cy=\"425\" r=\"3.0\" style=\"fill:rgb(170, 198, 253);stroke:black;stroke-width:1.0\"/><circle cx=\"178\" cy=\"402\" r=\"3.0\" style=\"fill:rgb(170, 198, 253);stroke:black;stroke-width:1.0\"/><circle cx=\"156\" cy=\"414\" r=\"3.0\" style=\"fill:rgb(170, 198, 253);stroke:black;stroke-width:1.0\"/><circle cx=\"20\" cy=\"220\" r=\"3.0\" style=\"fill:rgb(170, 198, 253);stroke:black;stroke-width:1.0\"/><circle cx=\"24\" cy=\"196\" r=\"3.0\" style=\"fill:rgb(170, 198, 253);stroke:black;stroke-width:1.0\"/><circle cx=\"536\" cy=\"496\" r=\"3.0\" style=\"fill:rgb(170, 198, 253);stroke:black;stroke-width:1.0\"/><circle cx=\"535\" cy=\"520\" r=\"3.0\" style=\"fill:rgb(170, 198, 253);stroke:black;stroke-width:1.0\"/><circle cx=\"553\" cy=\"331\" r=\"3.0\" style=\"fill:rgb(155, 187, 254);stroke:black;stroke-width:1.0\"/><text font-size=\"10\" x=\"288\" y=\"139\">Rabbit</text><text font-size=\"10\" x=\"256\" y=\"147\">Dinah</text><text font-size=\"10\" x=\"562\" y=\"307\">Duchess</text><text font-size=\"10\" x=\"563\" y=\"42\">Mabel</text><text font-size=\"10\" x=\"578\" y=\"23\">Ada</text><text font-size=\"10\" x=\"717\" y=\"145\">Edgar Atheling</text><text font-size=\"10\" x=\"726\" y=\"123\">William</text><text font-size=\"10\" x=\"298\" y=\"111\">Mary Ann</text><text font-size=\"10\" x=\"308\" y=\"163\">Pat</text><text font-size=\"10\" x=\"573\" y=\"275\">Cheshire</text><text font-size=\"10\" x=\"527\" y=\"291\">Cat</text><text font-size=\"10\" x=\"625\" y=\"361\">Hatter</text><text font-size=\"10\" x=\"589\" y=\"337\">Hare</text><text font-size=\"10\" x=\"654\" y=\"380\">Time</text><text font-size=\"10\" x=\"185\" y=\"428\">Elsie</text><text font-size=\"10\" x=\"184\" y=\"405\">Tillie</text><text font-size=\"10\" x=\"162\" y=\"417\">Lacie</text><text font-size=\"10\" x=\"26\" y=\"223\">Queens</text><text font-size=\"10\" x=\"30\" y=\"199\">Kings</text><text font-size=\"10\" x=\"542\" y=\"499\">Gryphon</text><text font-size=\"10\" x=\"541\" y=\"523\">Soup</text><text font-size=\"10\" x=\"559\" y=\"334\">Lizard</text></svg>"
      ],
      "text/plain": [
       "<IPython.core.display.SVG object>"
      ]
     },
     "execution_count": 44,
     "metadata": {},
     "output_type": "execute_result"
    }
   ],
   "source": [
    "draw_graph(nx.k_core(G2, 1), show_names=True, node_size=3) # removing isolates for clarity"
   ]
  },
  {
   "cell_type": "code",
   "execution_count": 45,
   "id": "8614a76b",
   "metadata": {},
   "outputs": [
    {
     "data": {
      "text/plain": [
       "0.07507507507507508"
      ]
     },
     "execution_count": 45,
     "metadata": {},
     "output_type": "execute_result"
    }
   ],
   "source": [
    "nx.density(G)"
   ]
  },
  {
   "cell_type": "code",
   "execution_count": 46,
   "id": "11a65730",
   "metadata": {},
   "outputs": [
    {
     "data": {
      "text/plain": [
       "0.032196969696969696"
      ]
     },
     "execution_count": 46,
     "metadata": {},
     "output_type": "execute_result"
    }
   ],
   "source": [
    "nx.density(G2)"
   ]
  },
  {
   "cell_type": "code",
   "execution_count": 47,
   "id": "ff806877",
   "metadata": {},
   "outputs": [
    {
     "name": "stdout",
     "output_type": "stream",
     "text": [
      "Graph with 37 nodes and 50 edges\n"
     ]
    }
   ],
   "source": [
    "print(G)"
   ]
  },
  {
   "cell_type": "code",
   "execution_count": 48,
   "id": "e23c4b93",
   "metadata": {},
   "outputs": [
    {
     "name": "stdout",
     "output_type": "stream",
     "text": [
      "Graph with 33 nodes and 17 edges\n"
     ]
    }
   ],
   "source": [
    "print(G2)"
   ]
  },
  {
   "cell_type": "code",
   "execution_count": 49,
   "id": "fc5a71ab",
   "metadata": {},
   "outputs": [
    {
     "data": {
      "text/plain": [
       "[4, 1, 7, 2, 1, 1, 2, 1, 1, 1, 1, 1, 1, 3, 1, 2, 2, 1]"
      ]
     },
     "execution_count": 49,
     "metadata": {},
     "output_type": "execute_result"
    }
   ],
   "source": [
    "components = list(nx.connected_components(G2))\n",
    "\n",
    "[len(c) for c in components]"
   ]
  },
  {
   "cell_type": "code",
   "execution_count": 50,
   "id": "e5408152",
   "metadata": {},
   "outputs": [
    {
     "data": {
      "text/plain": [
       "18"
      ]
     },
     "execution_count": 50,
     "metadata": {},
     "output_type": "execute_result"
    }
   ],
   "source": [
    "len(components) # fewer, less disrupted"
   ]
  },
  {
   "cell_type": "code",
   "execution_count": 51,
   "id": "6460e010",
   "metadata": {},
   "outputs": [
    {
     "data": {
      "text/plain": [
       "1.8333333333333333"
      ]
     },
     "execution_count": 51,
     "metadata": {},
     "output_type": "execute_result"
    }
   ],
   "source": [
    "np.mean([len(c) for c in components]) # average component size"
   ]
  },
  {
   "cell_type": "markdown",
   "id": "b65d5fa5",
   "metadata": {},
   "source": [
    "# Outcome: \n",
    "\n",
    "Impact looks nearly identical. Both approaches were catastrophic on the network, disrupting communication between nodes.\n",
    "\n",
    "However, the first approach was more disruptive, resulting in more and smaller connnected components. The network has been shattered into more pieces using the first approach."
   ]
  },
  {
   "cell_type": "code",
   "execution_count": null,
   "id": "8ab75e2e",
   "metadata": {},
   "outputs": [],
   "source": []
  }
 ],
 "metadata": {
  "kernelspec": {
   "display_name": "Python 3",
   "language": "python",
   "name": "python3"
  },
  "language_info": {
   "codemirror_mode": {
    "name": "ipython",
    "version": 3
   },
   "file_extension": ".py",
   "mimetype": "text/x-python",
   "name": "python",
   "nbconvert_exporter": "python",
   "pygments_lexer": "ipython3",
   "version": "3.7.16"
  }
 },
 "nbformat": 4,
 "nbformat_minor": 5
}
