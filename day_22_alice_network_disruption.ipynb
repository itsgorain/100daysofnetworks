{
 "cells": [
  {
   "cell_type": "code",
   "execution_count": 1,
   "id": "7423be59",
   "metadata": {},
   "outputs": [],
   "source": [
    "import networkx as nx\n",
    "import numpy as np\n",
    "import pandas as pd\n",
    "\n",
    "# for the explode statement; convert string to list\n",
    "from ast import literal_eval\n",
    "\n",
    "# for bipartite projection\n",
    "from networkx.algorithms import bipartite\n",
    "\n",
    "# for text and NER\n",
    "from tqdm import tqdm\n",
    "import spacy\n",
    "import requests\n",
    "\n",
    "nlp = spacy.load(\"en_core_web_md\")"
   ]
  },
  {
   "cell_type": "code",
   "execution_count": 2,
   "id": "38a1e588",
   "metadata": {},
   "outputs": [],
   "source": [
    "def get_data(): \n",
    "\n",
    "    url = 'https://www.gutenberg.org/files/11/11-0.txt' \n",
    "    text = requests.get(url).text \n",
    "\n",
    "    # strip header junk \n",
    "    cutoff = text.index('Alice was beginning') \n",
    "    text = text[cutoff:] \n",
    "\n",
    "    # strip footer junk \n",
    "    cutoff = text.rindex('THE END') \n",
    "    text = text[:cutoff] \n",
    "\n",
    "    # pre-processing to clean the text \n",
    "    text = text.replace('\\r', ' ').replace('\\n', ' ') \n",
    "    text = text.replace('â\\x80\\x99', '\\'').replace('â\\x80\\x9c', '\"').replace('â\\x80\\x9d', '\"\"').replace('â\\x80\\x94', ' ') \n",
    "\n",
    "    return text"
   ]
  },
  {
   "cell_type": "code",
   "execution_count": 3,
   "id": "c88298e3",
   "metadata": {},
   "outputs": [],
   "source": [
    "def extract_entities(text): \n",
    "\n",
    "    doc = nlp(text) \n",
    "\n",
    "    sentences = list(doc.sents) \n",
    "\n",
    "    entities = [] \n",
    "\n",
    "    for sentence in tqdm(sentences): \n",
    "\n",
    "        sentence_entities = [] \n",
    "\n",
    "        sent_doc = nlp(sentence.text) \n",
    "\n",
    "        for ent in sent_doc.ents: \n",
    "\n",
    "            if ent.label_ in ['PERSON', 'ORG', 'GPE']: \n",
    "\n",
    "                entity = ent.text.strip() \n",
    "\n",
    "                if \"'s\" in entity: \n",
    "\n",
    "                    cutoff = entity.index(\"'s\") \n",
    "\n",
    "                    entity = entity[:cutoff] \n",
    "\n",
    "                if entity != '': \n",
    "\n",
    "                    sentence_entities.append(entity)   \n",
    "\n",
    "        sentence_entities = list(set(sentence_entities))       \n",
    "\n",
    "        if len(sentence_entities) > 0: # changed from 1 to zero to grab individuals from sentences; new idea after book\n",
    "\n",
    "            entities.append(sentence_entities) \n",
    "\n",
    "    return entities "
   ]
  },
  {
   "cell_type": "code",
   "execution_count": 4,
   "id": "102626ff",
   "metadata": {},
   "outputs": [],
   "source": [
    "# for visualization\n",
    "from IPython.display import SVG \n",
    "from sknetwork.visualization import svg_graph \n",
    "from sknetwork.data import Bunch \n",
    "from sknetwork.ranking import PageRank \n",
    "from scipy.sparse import csr_matrix\n",
    "\n",
    "def draw_graph(G, show_names=False, node_size=1, font_size=10, edge_width=0.5):\n",
    "\n",
    "    adjacency = nx.to_scipy_sparse_array(G, nodelist=None, dtype=None, weight='weight', format='csr')\n",
    "    adjacency = csr_matrix(adjacency) # fix to weird sknetwork-csr issue; comment out to troubleshoot\n",
    "    \n",
    "    names = np.array(list(G.nodes))\n",
    "    \n",
    "    graph = Bunch()\n",
    "    graph.adjacency = adjacency\n",
    "    graph.names = np.array(names)\n",
    "    \n",
    "    pagerank = PageRank()\n",
    "    scores = pagerank.fit_transform(adjacency)\n",
    "\n",
    "    if show_names:\n",
    "        \n",
    "        image = svg_graph(graph.adjacency, font_size=font_size, node_size=node_size, names=graph.names, width=700, height=500, scores=scores, edge_width=edge_width)\n",
    "    \n",
    "    else:\n",
    "        \n",
    "        image = svg_graph(graph.adjacency, node_size=node_size, width=700, height=500, scores = scores, edge_width=edge_width)\n",
    "    \n",
    "    return SVG(image)"
   ]
  },
  {
   "cell_type": "markdown",
   "id": "77a12aec",
   "metadata": {},
   "source": [
    "# Get Text"
   ]
  },
  {
   "cell_type": "code",
   "execution_count": 5,
   "id": "443c3cd4",
   "metadata": {},
   "outputs": [
    {
     "data": {
      "text/plain": [
       "'Alice was beginning to get very tired of sitting by her sister on the  bank, and of having nothing to do: once or twice she had peeped into  the book her sister was reading, but it had no pictures or  conversations in it, \"and what is the use of a book,\"\" thought Alice  \"without pictures or conversations?\"'"
      ]
     },
     "execution_count": 5,
     "metadata": {},
     "output_type": "execute_result"
    }
   ],
   "source": [
    "text = get_data()\n",
    "text[0:307]"
   ]
  },
  {
   "cell_type": "markdown",
   "id": "7984710a",
   "metadata": {},
   "source": [
    "# Extract Entities by Sentence"
   ]
  },
  {
   "cell_type": "code",
   "execution_count": 6,
   "id": "a599e622",
   "metadata": {},
   "outputs": [],
   "source": [
    "def drop_duplicate_entities(entities):\n",
    "\n",
    "    keep_entities = []\n",
    "\n",
    "    for entity_list in entities:\n",
    "\n",
    "        if entity_list not in keep_entities:\n",
    "            keep_entities.append(entity_list)\n",
    "\n",
    "    return keep_entities"
   ]
  },
  {
   "cell_type": "code",
   "execution_count": 7,
   "id": "dd5ac387",
   "metadata": {},
   "outputs": [
    {
     "name": "stderr",
     "output_type": "stream",
     "text": [
      "100%|██████████████████████████████████████████████████████████████████████████████| 1126/1126 [00:27<00:00, 41.28it/s]\n"
     ]
    },
    {
     "data": {
      "text/plain": [
       "[['Alice'],\n",
       " ['Alice', 'Longitude'],\n",
       " ['Antipathies'],\n",
       " ['New Zealand', 'Australia'],\n",
       " ['Dinah', \"Dinah'll\"]]"
      ]
     },
     "execution_count": 7,
     "metadata": {},
     "output_type": "execute_result"
    }
   ],
   "source": [
    "entities = extract_entities(text)\n",
    "entities = drop_duplicate_entities(entities)\n",
    "entities[0:5]"
   ]
  },
  {
   "cell_type": "code",
   "execution_count": 8,
   "id": "fe330d82",
   "metadata": {},
   "outputs": [
    {
     "data": {
      "text/html": [
       "<div>\n",
       "<style scoped>\n",
       "    .dataframe tbody tr th:only-of-type {\n",
       "        vertical-align: middle;\n",
       "    }\n",
       "\n",
       "    .dataframe tbody tr th {\n",
       "        vertical-align: top;\n",
       "    }\n",
       "\n",
       "    .dataframe thead th {\n",
       "        text-align: right;\n",
       "    }\n",
       "</style>\n",
       "<table border=\"1\" class=\"dataframe\">\n",
       "  <thead>\n",
       "    <tr style=\"text-align: right;\">\n",
       "      <th></th>\n",
       "      <th>entity</th>\n",
       "      <th>sentence</th>\n",
       "    </tr>\n",
       "  </thead>\n",
       "  <tbody>\n",
       "    <tr>\n",
       "      <th>0</th>\n",
       "      <td>Alice</td>\n",
       "      <td>0</td>\n",
       "    </tr>\n",
       "    <tr>\n",
       "      <th>1</th>\n",
       "      <td>Alice</td>\n",
       "      <td>1</td>\n",
       "    </tr>\n",
       "    <tr>\n",
       "      <th>1</th>\n",
       "      <td>Longitude</td>\n",
       "      <td>1</td>\n",
       "    </tr>\n",
       "    <tr>\n",
       "      <th>2</th>\n",
       "      <td>Antipathies</td>\n",
       "      <td>2</td>\n",
       "    </tr>\n",
       "    <tr>\n",
       "      <th>3</th>\n",
       "      <td>New Zealand</td>\n",
       "      <td>3</td>\n",
       "    </tr>\n",
       "    <tr>\n",
       "      <th>3</th>\n",
       "      <td>Australia</td>\n",
       "      <td>3</td>\n",
       "    </tr>\n",
       "    <tr>\n",
       "      <th>4</th>\n",
       "      <td>Dinah</td>\n",
       "      <td>4</td>\n",
       "    </tr>\n",
       "    <tr>\n",
       "      <th>4</th>\n",
       "      <td>Dinah'll</td>\n",
       "      <td>4</td>\n",
       "    </tr>\n",
       "    <tr>\n",
       "      <th>5</th>\n",
       "      <td>Dinah</td>\n",
       "      <td>5</td>\n",
       "    </tr>\n",
       "    <tr>\n",
       "      <th>6</th>\n",
       "      <td>Alice</td>\n",
       "      <td>6</td>\n",
       "    </tr>\n",
       "  </tbody>\n",
       "</table>\n",
       "</div>"
      ],
      "text/plain": [
       "        entity  sentence\n",
       "0        Alice         0\n",
       "1        Alice         1\n",
       "1    Longitude         1\n",
       "2  Antipathies         2\n",
       "3  New Zealand         3\n",
       "3    Australia         3\n",
       "4        Dinah         4\n",
       "4     Dinah'll         4\n",
       "5        Dinah         5\n",
       "6        Alice         6"
      ]
     },
     "execution_count": 8,
     "metadata": {},
     "output_type": "execute_result"
    }
   ],
   "source": [
    "entity_df = pd.DataFrame({'entities':entities}).reset_index()\n",
    "entity_df.columns = ['sentence', 'entity']\n",
    "entity_df = entity_df.explode('entity')\n",
    "\n",
    "entity_df = entity_df[['entity', 'sentence']]\n",
    "\n",
    "# wrangling\n",
    "entity_df = entity_df[entity_df['entity'].str.contains('CHAPTER', case=False)==False] # drop chapter nodes\n",
    "\n",
    "entity_df.head(10)"
   ]
  },
  {
   "cell_type": "markdown",
   "id": "854361a8",
   "metadata": {},
   "source": [
    "# Graph Creation: Bipartite Projection Approach"
   ]
  },
  {
   "cell_type": "code",
   "execution_count": 11,
   "id": "c60d712e",
   "metadata": {},
   "outputs": [],
   "source": [
    "B = nx.from_pandas_edgelist(entity_df, source='entity', target='sentence') # new approach\n",
    "G = bipartite.projected_graph(B, entity_df['entity'])\n",
    "\n",
    "# wrangling\n",
    "G = nx.k_core(G, 1) # quickly remove disconnected junk nodes\n",
    "\n",
    "drop_nodes = ['Beautiful', 'Hm', 'Improve', 'Longitude', 'Ma\\'am', 'Mystery', 'Said', 'Seaography', 'Somebody', \n",
    "              'The Rabbit Sends', 'garden_.', 'The Rabbit Sends', 'the White Rabbit', \"â\\x80\\x98I'll\", 'â\\x80\\x98Keep', \n",
    "              'â\\x80\\x98it', 'William_']\n",
    "\n",
    "G.remove_nodes_from(drop_nodes) # remove drop nodes"
   ]
  },
  {
   "cell_type": "code",
   "execution_count": 12,
   "id": "274fbccd",
   "metadata": {},
   "outputs": [
    {
     "name": "stdout",
     "output_type": "stream",
     "text": [
      "Graph with 65 nodes and 99 edges\n"
     ]
    }
   ],
   "source": [
    "print(G)"
   ]
  },
  {
   "cell_type": "code",
   "execution_count": 13,
   "id": "4bf1b9f6",
   "metadata": {},
   "outputs": [
    {
     "data": {
      "text/plain": [
       "[49, 2, 3, 6, 2, 3]"
      ]
     },
     "execution_count": 13,
     "metadata": {},
     "output_type": "execute_result"
    }
   ],
   "source": [
    "# use the largest connected component\n",
    "\n",
    "components = list(nx.connected_components(G))\n",
    "\n",
    "[len(c) for c in components]"
   ]
  },
  {
   "cell_type": "code",
   "execution_count": 14,
   "id": "a999ec6d",
   "metadata": {},
   "outputs": [],
   "source": [
    "G = G.subgraph(components[0])"
   ]
  },
  {
   "cell_type": "code",
   "execution_count": 15,
   "id": "9d1d3bac",
   "metadata": {},
   "outputs": [
    {
     "data": {
      "image/svg+xml": [
       "<svg xmlns=\"http://www.w3.org/2000/svg\" width=\"820.0\" height=\"540\">\n",
       "<path stroke-width=\"0.5\" stroke=\"gray\" d=\"M 381 272 587 214\"/>\n",
       "<path stroke-width=\"0.5\" stroke=\"gray\" d=\"M 402 239 329 252\"/>\n",
       "<path stroke-width=\"0.5\" stroke=\"gray\" d=\"M 402 239 497 178\"/>\n",
       "<path stroke-width=\"0.5\" stroke=\"gray\" d=\"M 402 239 497 218\"/>\n",
       "<path stroke-width=\"0.5\" stroke=\"gray\" d=\"M 402 239 480 147\"/>\n",
       "<path stroke-width=\"0.5\" stroke=\"gray\" d=\"M 378 408 381 272\"/>\n",
       "<path stroke-width=\"0.5\" stroke=\"gray\" d=\"M 378 408 302 352\"/>\n",
       "<path stroke-width=\"0.5\" stroke=\"gray\" d=\"M 315 119 329 252\"/>\n",
       "<path stroke-width=\"0.5\" stroke=\"gray\" d=\"M 220 520 302 352\"/>\n",
       "<path stroke-width=\"0.5\" stroke=\"gray\" d=\"M 218 250 279 258\"/>\n",
       "<path stroke-width=\"0.5\" stroke=\"gray\" d=\"M 218 250 302 352\"/>\n",
       "<path stroke-width=\"0.5\" stroke=\"gray\" d=\"M 497 178 381 272\"/>\n",
       "<path stroke-width=\"0.5\" stroke=\"gray\" d=\"M 497 178 402 239\"/>\n",
       "<path stroke-width=\"0.5\" stroke=\"gray\" d=\"M 497 178 497 218\"/>\n",
       "<path stroke-width=\"0.5\" stroke=\"gray\" d=\"M 497 178 480 147\"/>\n",
       "<path stroke-width=\"0.5\" stroke=\"gray\" d=\"M 497 218 381 272\"/>\n",
       "<path stroke-width=\"0.5\" stroke=\"gray\" d=\"M 402 239 302 352\"/>\n",
       "<path stroke-width=\"0.5\" stroke=\"gray\" d=\"M 402 239 279 258\"/>\n",
       "<path stroke-width=\"0.5\" stroke=\"gray\" d=\"M 402 239 381 272\"/>\n",
       "<path stroke-width=\"0.5\" stroke=\"gray\" d=\"M 329 252 341 344\"/>\n",
       "<path stroke-width=\"0.5\" stroke=\"gray\" d=\"M 508 347 381 272\"/>\n",
       "<path stroke-width=\"0.5\" stroke=\"gray\" d=\"M 378 116 381 272\"/>\n",
       "<path stroke-width=\"0.5\" stroke=\"gray\" d=\"M 302 352 381 272\"/>\n",
       "<path stroke-width=\"0.5\" stroke=\"gray\" d=\"M 302 352 279 258\"/>\n",
       "<path stroke-width=\"0.5\" stroke=\"gray\" d=\"M 302 352 329 252\"/>\n",
       "<path stroke-width=\"0.5\" stroke=\"gray\" d=\"M 302 352 402 239\"/>\n",
       "<path stroke-width=\"0.5\" stroke=\"gray\" d=\"M 302 352 378 408\"/>\n",
       "<path stroke-width=\"0.5\" stroke=\"gray\" d=\"M 497 218 402 239\"/>\n",
       "<path stroke-width=\"0.5\" stroke=\"gray\" d=\"M 302 352 220 520\"/>\n",
       "<path stroke-width=\"0.5\" stroke=\"gray\" d=\"M 329 252 381 272\"/>\n",
       "<path stroke-width=\"0.5\" stroke=\"gray\" d=\"M 329 252 303 317\"/>\n",
       "<path stroke-width=\"0.5\" stroke=\"gray\" d=\"M 329 252 279 258\"/>\n",
       "<path stroke-width=\"0.5\" stroke=\"gray\" d=\"M 329 252 302 352\"/>\n",
       "<path stroke-width=\"0.5\" stroke=\"gray\" d=\"M 329 252 402 239\"/>\n",
       "<path stroke-width=\"0.5\" stroke=\"gray\" d=\"M 329 252 315 119\"/>\n",
       "<path stroke-width=\"0.5\" stroke=\"gray\" d=\"M 329 252 350 304\"/>\n",
       "<path stroke-width=\"0.5\" stroke=\"gray\" d=\"M 302 352 218 250\"/>\n",
       "<path stroke-width=\"0.5\" stroke=\"gray\" d=\"M 310 82 381 272\"/>\n",
       "<path stroke-width=\"0.5\" stroke=\"gray\" d=\"M 497 218 497 178\"/>\n",
       "<path stroke-width=\"0.5\" stroke=\"gray\" d=\"M 480 147 381 272\"/>\n",
       "<path stroke-width=\"0.5\" stroke=\"gray\" d=\"M 443 115 469 195\"/>\n",
       "<path stroke-width=\"0.5\" stroke=\"gray\" d=\"M 469 195 381 272\"/>\n",
       "<path stroke-width=\"0.5\" stroke=\"gray\" d=\"M 469 195 455 150\"/>\n",
       "<path stroke-width=\"0.5\" stroke=\"gray\" d=\"M 469 195 443 115\"/>\n",
       "<path stroke-width=\"0.5\" stroke=\"gray\" d=\"M 225 358 381 272\"/>\n",
       "<path stroke-width=\"0.5\" stroke=\"gray\" d=\"M 544 256 381 272\"/>\n",
       "<path stroke-width=\"0.5\" stroke=\"gray\" d=\"M 238 279 381 272\"/>\n",
       "<path stroke-width=\"0.5\" stroke=\"gray\" d=\"M 526 383 381 272\"/>\n",
       "<path stroke-width=\"0.5\" stroke=\"gray\" d=\"M 369 49 381 272\"/>\n",
       "<path stroke-width=\"0.5\" stroke=\"gray\" d=\"M 341 344 303 317\"/>\n",
       "<path stroke-width=\"0.5\" stroke=\"gray\" d=\"M 341 344 279 258\"/>\n",
       "<path stroke-width=\"0.5\" stroke=\"gray\" d=\"M 341 344 329 252\"/>\n",
       "<path stroke-width=\"0.5\" stroke=\"gray\" d=\"M 341 344 350 304\"/>\n",
       "<path stroke-width=\"0.5\" stroke=\"gray\" d=\"M 138 338 279 258\"/>\n",
       "<path stroke-width=\"0.5\" stroke=\"gray\" d=\"M 138 338 128 288\"/>\n",
       "<path stroke-width=\"0.5\" stroke=\"gray\" d=\"M 443 115 455 150\"/>\n",
       "<path stroke-width=\"0.5\" stroke=\"gray\" d=\"M 443 115 381 272\"/>\n",
       "<path stroke-width=\"0.5\" stroke=\"gray\" d=\"M 455 150 469 195\"/>\n",
       "<path stroke-width=\"0.5\" stroke=\"gray\" d=\"M 455 150 443 115\"/>\n",
       "<path stroke-width=\"0.5\" stroke=\"gray\" d=\"M 480 147 402 239\"/>\n",
       "<path stroke-width=\"0.5\" stroke=\"gray\" d=\"M 480 147 497 178\"/>\n",
       "<path stroke-width=\"0.5\" stroke=\"gray\" d=\"M 480 147 497 218\"/>\n",
       "<path stroke-width=\"0.5\" stroke=\"gray\" d=\"M 358 80 279 258\"/>\n",
       "<path stroke-width=\"0.5\" stroke=\"gray\" d=\"M 474 282 381 272\"/>\n",
       "<path stroke-width=\"0.5\" stroke=\"gray\" d=\"M 474 282 428 207\"/>\n",
       "<path stroke-width=\"0.5\" stroke=\"gray\" d=\"M 428 207 381 272\"/>\n",
       "<path stroke-width=\"0.5\" stroke=\"gray\" d=\"M 497 218 480 147\"/>\n",
       "<path stroke-width=\"0.5\" stroke=\"gray\" d=\"M 428 207 474 282\"/>\n",
       "<path stroke-width=\"0.5\" stroke=\"gray\" d=\"M 350 304 303 317\"/>\n",
       "<path stroke-width=\"0.5\" stroke=\"gray\" d=\"M 350 304 279 258\"/>\n",
       "<path stroke-width=\"0.5\" stroke=\"gray\" d=\"M 350 304 329 252\"/>\n",
       "<path stroke-width=\"0.5\" stroke=\"gray\" d=\"M 350 304 341 344\"/>\n",
       "<path stroke-width=\"0.5\" stroke=\"gray\" d=\"M 415 461 381 272\"/>\n",
       "<path stroke-width=\"0.5\" stroke=\"gray\" d=\"M 371 476 381 272\"/>\n",
       "<path stroke-width=\"0.5\" stroke=\"gray\" d=\"M 455 150 381 272\"/>\n",
       "<path stroke-width=\"0.5\" stroke=\"gray\" d=\"M 350 304 381 272\"/>\n",
       "<path stroke-width=\"0.5\" stroke=\"gray\" d=\"M 279 258 128 288\"/>\n",
       "<path stroke-width=\"0.5\" stroke=\"gray\" d=\"M 279 258 138 338\"/>\n",
       "<path stroke-width=\"0.5\" stroke=\"gray\" d=\"M 279 258 341 344\"/>\n",
       "<path stroke-width=\"0.5\" stroke=\"gray\" d=\"M 381 272 497 178\"/>\n",
       "<path stroke-width=\"0.5\" stroke=\"gray\" d=\"M 381 272 497 218\"/>\n",
       "<path stroke-width=\"0.5\" stroke=\"gray\" d=\"M 381 272 480 147\"/>\n",
       "<path stroke-width=\"0.5\" stroke=\"gray\" d=\"M 381 272 474 282\"/>\n",
       "<path stroke-width=\"0.5\" stroke=\"gray\" d=\"M 381 272 428 207\"/>\n",
       "<path stroke-width=\"0.5\" stroke=\"gray\" d=\"M 381 272 350 304\"/>\n",
       "<path stroke-width=\"0.5\" stroke=\"gray\" d=\"M 381 272 415 461\"/>\n",
       "<path stroke-width=\"0.5\" stroke=\"gray\" d=\"M 381 272 371 476\"/>\n",
       "<path stroke-width=\"0.5\" stroke=\"gray\" d=\"M 381 272 455 150\"/>\n",
       "<path stroke-width=\"0.5\" stroke=\"gray\" d=\"M 381 272 443 115\"/>\n",
       "<path stroke-width=\"0.5\" stroke=\"gray\" d=\"M 381 272 469 195\"/>\n",
       "<path stroke-width=\"0.5\" stroke=\"gray\" d=\"M 381 272 225 358\"/>\n",
       "<path stroke-width=\"0.5\" stroke=\"gray\" d=\"M 381 272 544 256\"/>\n",
       "<path stroke-width=\"0.5\" stroke=\"gray\" d=\"M 381 272 238 279\"/>\n",
       "<path stroke-width=\"0.5\" stroke=\"gray\" d=\"M 381 272 526 383\"/>\n",
       "<path stroke-width=\"0.5\" stroke=\"gray\" d=\"M 381 272 378 408\"/>\n",
       "<path stroke-width=\"0.5\" stroke=\"gray\" d=\"M 381 272 402 239\"/>\n",
       "<path stroke-width=\"0.5\" stroke=\"gray\" d=\"M 381 272 329 252\"/>\n",
       "<path stroke-width=\"0.5\" stroke=\"gray\" d=\"M 381 272 302 352\"/>\n",
       "<path stroke-width=\"0.5\" stroke=\"gray\" d=\"M 381 272 313 470\"/>\n",
       "<path stroke-width=\"0.5\" stroke=\"gray\" d=\"M 381 272 214 144\"/>\n",
       "<path stroke-width=\"0.5\" stroke=\"gray\" d=\"M 381 272 303 317\"/>\n",
       "<path stroke-width=\"0.5\" stroke=\"gray\" d=\"M 381 272 462 446\"/>\n",
       "<path stroke-width=\"0.5\" stroke=\"gray\" d=\"M 381 272 167 167\"/>\n",
       "<path stroke-width=\"0.5\" stroke=\"gray\" d=\"M 381 272 331 437\"/>\n",
       "<path stroke-width=\"0.5\" stroke=\"gray\" d=\"M 381 272 273 394\"/>\n",
       "<path stroke-width=\"0.5\" stroke=\"gray\" d=\"M 381 272 369 49\"/>\n",
       "<path stroke-width=\"0.5\" stroke=\"gray\" d=\"M 381 272 261 346\"/>\n",
       "<path stroke-width=\"0.5\" stroke=\"gray\" d=\"M 381 272 221 114\"/>\n",
       "<path stroke-width=\"0.5\" stroke=\"gray\" d=\"M 381 272 541 310\"/>\n",
       "<path stroke-width=\"0.5\" stroke=\"gray\" d=\"M 381 272 286 147\"/>\n",
       "<path stroke-width=\"0.5\" stroke=\"gray\" d=\"M 381 272 279 258\"/>\n",
       "<path stroke-width=\"0.5\" stroke=\"gray\" d=\"M 381 272 310 82\"/>\n",
       "<path stroke-width=\"0.5\" stroke=\"gray\" d=\"M 381 272 508 347\"/>\n",
       "<path stroke-width=\"0.5\" stroke=\"gray\" d=\"M 381 272 378 116\"/>\n",
       "<path stroke-width=\"0.5\" stroke=\"gray\" d=\"M 381 272 465 401\"/>\n",
       "<path stroke-width=\"0.5\" stroke=\"gray\" d=\"M 587 214 381 272\"/>\n",
       "<path stroke-width=\"0.5\" stroke=\"gray\" d=\"M 587 214 720 196\"/>\n",
       "<path stroke-width=\"0.5\" stroke=\"gray\" d=\"M 720 196 587 214\"/>\n",
       "<path stroke-width=\"0.5\" stroke=\"gray\" d=\"M 261 346 303 317\"/>\n",
       "<path stroke-width=\"0.5\" stroke=\"gray\" d=\"M 261 346 273 394\"/>\n",
       "<path stroke-width=\"0.5\" stroke=\"gray\" d=\"M 465 401 381 272\"/>\n",
       "<path stroke-width=\"0.5\" stroke=\"gray\" d=\"M 221 114 381 272\"/>\n",
       "<path stroke-width=\"0.5\" stroke=\"gray\" d=\"M 221 114 91 56\"/>\n",
       "<path stroke-width=\"0.5\" stroke=\"gray\" d=\"M 91 56 221 114\"/>\n",
       "<path stroke-width=\"0.5\" stroke=\"gray\" d=\"M 541 310 381 272\"/>\n",
       "<path stroke-width=\"0.5\" stroke=\"gray\" d=\"M 261 346 381 272\"/>\n",
       "<path stroke-width=\"0.5\" stroke=\"gray\" d=\"M 286 147 381 272\"/>\n",
       "<path stroke-width=\"0.5\" stroke=\"gray\" d=\"M 279 258 303 317\"/>\n",
       "<path stroke-width=\"0.5\" stroke=\"gray\" d=\"M 279 258 302 352\"/>\n",
       "<path stroke-width=\"0.5\" stroke=\"gray\" d=\"M 279 258 329 252\"/>\n",
       "<path stroke-width=\"0.5\" stroke=\"gray\" d=\"M 279 258 402 239\"/>\n",
       "<path stroke-width=\"0.5\" stroke=\"gray\" d=\"M 279 258 218 250\"/>\n",
       "<path stroke-width=\"0.5\" stroke=\"gray\" d=\"M 279 258 358 80\"/>\n",
       "<path stroke-width=\"0.5\" stroke=\"gray\" d=\"M 279 258 350 304\"/>\n",
       "<path stroke-width=\"0.5\" stroke=\"gray\" d=\"M 279 258 381 272\"/>\n",
       "<path stroke-width=\"0.5\" stroke=\"gray\" d=\"M 128 288 279 258\"/>\n",
       "<path stroke-width=\"0.5\" stroke=\"gray\" d=\"M 273 394 261 346\"/>\n",
       "<path stroke-width=\"0.5\" stroke=\"gray\" d=\"M 273 394 381 272\"/>\n",
       "<path stroke-width=\"0.5\" stroke=\"gray\" d=\"M 313 470 381 272\"/>\n",
       "<path stroke-width=\"0.5\" stroke=\"gray\" d=\"M 121 20 214 144\"/>\n",
       "<path stroke-width=\"0.5\" stroke=\"gray\" d=\"M 214 144 381 272\"/>\n",
       "<path stroke-width=\"0.5\" stroke=\"gray\" d=\"M 214 144 121 20\"/>\n",
       "<path stroke-width=\"0.5\" stroke=\"gray\" d=\"M 303 317 381 272\"/>\n",
       "<path stroke-width=\"0.5\" stroke=\"gray\" d=\"M 303 317 273 394\"/>\n",
       "<path stroke-width=\"0.5\" stroke=\"gray\" d=\"M 303 317 261 346\"/>\n",
       "<path stroke-width=\"0.5\" stroke=\"gray\" d=\"M 273 394 303 317\"/>\n",
       "<path stroke-width=\"0.5\" stroke=\"gray\" d=\"M 303 317 279 258\"/>\n",
       "<path stroke-width=\"0.5\" stroke=\"gray\" d=\"M 303 317 350 304\"/>\n",
       "<path stroke-width=\"0.5\" stroke=\"gray\" d=\"M 303 317 341 344\"/>\n",
       "<path stroke-width=\"0.5\" stroke=\"gray\" d=\"M 462 446 381 272\"/>\n",
       "<path stroke-width=\"0.5\" stroke=\"gray\" d=\"M 167 167 381 272\"/>\n",
       "<path stroke-width=\"0.5\" stroke=\"gray\" d=\"M 167 167 20 95\"/>\n",
       "<path stroke-width=\"0.5\" stroke=\"gray\" d=\"M 20 95 167 167\"/>\n",
       "<path stroke-width=\"0.5\" stroke=\"gray\" d=\"M 331 437 381 272\"/>\n",
       "<path stroke-width=\"0.5\" stroke=\"gray\" d=\"M 303 317 329 252\"/>\n",
       "<path stroke-width=\"0.5\" stroke=\"gray\" d=\"M 128 288 138 338\"/>\n",
       "<circle cx=\"381\" cy=\"272\" r=\"3.0\" style=\"fill:rgb(179, 3, 38);stroke:black;stroke-width:1.0\"/>\n",
       "<circle cx=\"587\" cy=\"214\" r=\"3.0\" style=\"fill:rgb(70, 93, 207);stroke:black;stroke-width:1.0\"/>\n",
       "<circle cx=\"720\" cy=\"196\" r=\"3.0\" style=\"fill:rgb(60, 79, 195);stroke:black;stroke-width:1.0\"/>\n",
       "<circle cx=\"313\" cy=\"470\" r=\"3.0\" style=\"fill:rgb(58, 76, 192);stroke:black;stroke-width:1.0\"/>\n",
       "<circle cx=\"121\" cy=\"20\" r=\"3.0\" style=\"fill:rgb(60, 79, 195);stroke:black;stroke-width:1.0\"/>\n",
       "<circle cx=\"214\" cy=\"144\" r=\"3.0\" style=\"fill:rgb(70, 93, 207);stroke:black;stroke-width:1.0\"/>\n",
       "<circle cx=\"303\" cy=\"317\" r=\"3.0\" style=\"fill:rgb(96, 128, 232);stroke:black;stroke-width:1.0\"/>\n",
       "<circle cx=\"462\" cy=\"446\" r=\"3.0\" style=\"fill:rgb(58, 76, 192);stroke:black;stroke-width:1.0\"/>\n",
       "<circle cx=\"167\" cy=\"167\" r=\"3.0\" style=\"fill:rgb(70, 93, 207);stroke:black;stroke-width:1.0\"/>\n",
       "<circle cx=\"20\" cy=\"95\" r=\"3.0\" style=\"fill:rgb(60, 79, 195);stroke:black;stroke-width:1.0\"/>\n",
       "<circle cx=\"331\" cy=\"437\" r=\"3.0\" style=\"fill:rgb(58, 76, 192);stroke:black;stroke-width:1.0\"/>\n",
       "<circle cx=\"273\" cy=\"394\" r=\"3.0\" style=\"fill:rgb(70, 93, 207);stroke:black;stroke-width:1.0\"/>\n",
       "<circle cx=\"261\" cy=\"346\" r=\"3.0\" style=\"fill:rgb(70, 93, 207);stroke:black;stroke-width:1.0\"/>\n",
       "<circle cx=\"465\" cy=\"401\" r=\"3.0\" style=\"fill:rgb(58, 76, 192);stroke:black;stroke-width:1.0\"/>\n",
       "<circle cx=\"221\" cy=\"114\" r=\"3.0\" style=\"fill:rgb(70, 93, 207);stroke:black;stroke-width:1.0\"/>\n",
       "<circle cx=\"91\" cy=\"56\" r=\"3.0\" style=\"fill:rgb(60, 79, 195);stroke:black;stroke-width:1.0\"/>\n",
       "<circle cx=\"541\" cy=\"310\" r=\"3.0\" style=\"fill:rgb(58, 76, 192);stroke:black;stroke-width:1.0\"/>\n",
       "<circle cx=\"286\" cy=\"147\" r=\"3.0\" style=\"fill:rgb(58, 76, 192);stroke:black;stroke-width:1.0\"/>\n",
       "<circle cx=\"279\" cy=\"258\" r=\"3.0\" style=\"fill:rgb(130, 165, 251);stroke:black;stroke-width:1.0\"/>\n",
       "<circle cx=\"310\" cy=\"82\" r=\"3.0\" style=\"fill:rgb(58, 76, 192);stroke:black;stroke-width:1.0\"/>\n",
       "<circle cx=\"508\" cy=\"347\" r=\"3.0\" style=\"fill:rgb(58, 76, 192);stroke:black;stroke-width:1.0\"/>\n",
       "<circle cx=\"378\" cy=\"116\" r=\"3.0\" style=\"fill:rgb(58, 76, 192);stroke:black;stroke-width:1.0\"/>\n",
       "<circle cx=\"302\" cy=\"352\" r=\"3.0\" style=\"fill:rgb(103, 136, 237);stroke:black;stroke-width:1.0\"/>\n",
       "<circle cx=\"329\" cy=\"252\" r=\"3.0\" style=\"fill:rgb(105, 139, 239);stroke:black;stroke-width:1.0\"/>\n",
       "<circle cx=\"402\" cy=\"239\" r=\"3.0\" style=\"fill:rgb(96, 128, 232);stroke:black;stroke-width:1.0\"/>\n",
       "<circle cx=\"378\" cy=\"408\" r=\"3.0\" style=\"fill:rgb(64, 84, 199);stroke:black;stroke-width:1.0\"/>\n",
       "<circle cx=\"315\" cy=\"119\" r=\"3.0\" style=\"fill:rgb(58, 76, 192);stroke:black;stroke-width:1.0\"/>\n",
       "<circle cx=\"220\" cy=\"520\" r=\"3.0\" style=\"fill:rgb(58, 76, 192);stroke:black;stroke-width:1.0\"/>\n",
       "<circle cx=\"218\" cy=\"250\" r=\"3.0\" style=\"fill:rgb(64, 84, 199);stroke:black;stroke-width:1.0\"/>\n",
       "<circle cx=\"497\" cy=\"178\" r=\"3.0\" style=\"fill:rgb(76, 102, 214);stroke:black;stroke-width:1.0\"/>\n",
       "<circle cx=\"497\" cy=\"218\" r=\"3.0\" style=\"fill:rgb(76, 102, 214);stroke:black;stroke-width:1.0\"/>\n",
       "<circle cx=\"480\" cy=\"147\" r=\"3.0\" style=\"fill:rgb(76, 102, 214);stroke:black;stroke-width:1.0\"/>\n",
       "<circle cx=\"358\" cy=\"80\" r=\"3.0\" style=\"fill:rgb(58, 76, 192);stroke:black;stroke-width:1.0\"/>\n",
       "<circle cx=\"474\" cy=\"282\" r=\"3.0\" style=\"fill:rgb(66, 88, 202);stroke:black;stroke-width:1.0\"/>\n",
       "<circle cx=\"428\" cy=\"207\" r=\"3.0\" style=\"fill:rgb(66, 88, 202);stroke:black;stroke-width:1.0\"/>\n",
       "<circle cx=\"350\" cy=\"304\" r=\"3.0\" style=\"fill:rgb(82, 110, 220);stroke:black;stroke-width:1.0\"/>\n",
       "<circle cx=\"415\" cy=\"461\" r=\"3.0\" style=\"fill:rgb(58, 76, 192);stroke:black;stroke-width:1.0\"/>\n",
       "<circle cx=\"371\" cy=\"476\" r=\"3.0\" style=\"fill:rgb(58, 76, 192);stroke:black;stroke-width:1.0\"/>\n",
       "<circle cx=\"455\" cy=\"150\" r=\"3.0\" style=\"fill:rgb(72, 96, 209);stroke:black;stroke-width:1.0\"/>\n",
       "<circle cx=\"443\" cy=\"115\" r=\"3.0\" style=\"fill:rgb(72, 96, 209);stroke:black;stroke-width:1.0\"/>\n",
       "<circle cx=\"469\" cy=\"195\" r=\"3.0\" style=\"fill:rgb(72, 96, 209);stroke:black;stroke-width:1.0\"/>\n",
       "<circle cx=\"225\" cy=\"358\" r=\"3.0\" style=\"fill:rgb(58, 76, 192);stroke:black;stroke-width:1.0\"/>\n",
       "<circle cx=\"544\" cy=\"256\" r=\"3.0\" style=\"fill:rgb(58, 76, 192);stroke:black;stroke-width:1.0\"/>\n",
       "<circle cx=\"238\" cy=\"279\" r=\"3.0\" style=\"fill:rgb(58, 76, 192);stroke:black;stroke-width:1.0\"/>\n",
       "<circle cx=\"526\" cy=\"383\" r=\"3.0\" style=\"fill:rgb(58, 76, 192);stroke:black;stroke-width:1.0\"/>\n",
       "<circle cx=\"369\" cy=\"49\" r=\"3.0\" style=\"fill:rgb(58, 76, 192);stroke:black;stroke-width:1.0\"/>\n",
       "<circle cx=\"341\" cy=\"344\" r=\"3.0\" style=\"fill:rgb(72, 96, 209);stroke:black;stroke-width:1.0\"/>\n",
       "<circle cx=\"138\" cy=\"338\" r=\"3.0\" style=\"fill:rgb(64, 84, 199);stroke:black;stroke-width:1.0\"/>\n",
       "<circle cx=\"128\" cy=\"288\" r=\"3.0\" style=\"fill:rgb(64, 84, 199);stroke:black;stroke-width:1.0\"/>\n",
       "<text text-anchor=\"start\" x=\"387\" y=\"272\" font-size=\"10\">Alice</text><text text-anchor=\"start\" x=\"593\" y=\"214\" font-size=\"10\">Dinah</text><text text-anchor=\"start\" x=\"726\" y=\"196\" font-size=\"10\">Dinah'll</text><text text-anchor=\"start\" x=\"319\" y=\"470\" font-size=\"10\">Hearthrug</text><text text-anchor=\"start\" x=\"127\" y=\"20\" font-size=\"10\">Ada</text><text text-anchor=\"start\" x=\"220\" y=\"144\" font-size=\"10\">Mabel</text><text text-anchor=\"start\" x=\"309\" y=\"317\" font-size=\"10\">Mouse</text><text text-anchor=\"start\" x=\"468\" y=\"446\" font-size=\"10\">William the Conqueror</text><text text-anchor=\"start\" x=\"173\" y=\"167\" font-size=\"10\">William</text><text text-anchor=\"start\" x=\"26\" y=\"95\" font-size=\"10\">Edgar</text><text text-anchor=\"start\" x=\"337\" y=\"437\" font-size=\"10\">Normans</text><text text-anchor=\"start\" x=\"279\" y=\"394\" font-size=\"10\">Fury</text><text text-anchor=\"start\" x=\"267\" y=\"346\" font-size=\"10\">âLet</text><text text-anchor=\"start\" x=\"471\" y=\"401\" font-size=\"10\">Mary Ann</text><text text-anchor=\"start\" x=\"227\" y=\"114\" font-size=\"10\">Bill</text><text text-anchor=\"start\" x=\"97\" y=\"56\" font-size=\"10\">Brandy</text><text text-anchor=\"start\" x=\"547\" y=\"310\" font-size=\"10\">Caterpillar</text><text text-anchor=\"start\" x=\"292\" y=\"147\" font-size=\"10\">Pigeon</text><text text-anchor=\"start\" x=\"285\" y=\"258\" font-size=\"10\">Queen</text><text text-anchor=\"start\" x=\"316\" y=\"82\" font-size=\"10\">Fish-Footman</text><text text-anchor=\"start\" x=\"514\" y=\"347\" font-size=\"10\">Cheshire</text><text text-anchor=\"start\" x=\"384\" y=\"116\" font-size=\"10\">CHORUS</text><text text-anchor=\"start\" x=\"308\" y=\"352\" font-size=\"10\">Hatter</text><text text-anchor=\"start\" x=\"335\" y=\"252\" font-size=\"10\">Hare</text><text text-anchor=\"start\" x=\"408\" y=\"239\" font-size=\"10\">Dormouse</text><text text-anchor=\"start\" x=\"384\" y=\"408\" font-size=\"10\">Time</text><text text-anchor=\"start\" x=\"321\" y=\"119\" font-size=\"10\">the Queen of Hearts</text><text text-anchor=\"start\" x=\"226\" y=\"520\" font-size=\"10\">âUp</text><text text-anchor=\"start\" x=\"224\" y=\"250\" font-size=\"10\">âHe</text><text text-anchor=\"start\" x=\"503\" y=\"178\" font-size=\"10\">Lacie</text><text text-anchor=\"start\" x=\"503\" y=\"218\" font-size=\"10\">Elsie</text><text text-anchor=\"start\" x=\"486\" y=\"147\" font-size=\"10\">Tillie</text><text text-anchor=\"start\" x=\"364\" y=\"80\" font-size=\"10\">Miss</text><text text-anchor=\"start\" x=\"480\" y=\"282\" font-size=\"10\">Kings</text><text text-anchor=\"start\" x=\"434\" y=\"207\" font-size=\"10\">Queens</text><text text-anchor=\"start\" x=\"356\" y=\"304\" font-size=\"10\">Duchess</text><text text-anchor=\"start\" x=\"421\" y=\"461\" font-size=\"10\">Gryphon</text><text text-anchor=\"start\" x=\"377\" y=\"476\" font-size=\"10\">Tortoise</text><text text-anchor=\"start\" x=\"461\" y=\"150\" font-size=\"10\">Arithmetic Ambition</text><text text-anchor=\"start\" x=\"449\" y=\"115\" font-size=\"10\">Uglification</text><text text-anchor=\"start\" x=\"475\" y=\"195\" font-size=\"10\">Derision</text><text text-anchor=\"start\" x=\"231\" y=\"358\" font-size=\"10\">Stretching</text><text text-anchor=\"start\" x=\"550\" y=\"256\" font-size=\"10\">Lobster Quadrille</text><text text-anchor=\"start\" x=\"244\" y=\"279\" font-size=\"10\">âpurpose</text><text text-anchor=\"start\" x=\"532\" y=\"383\" font-size=\"10\">Panther</text><text text-anchor=\"start\" x=\"375\" y=\"49\" font-size=\"10\">Adventures</text><text text-anchor=\"start\" x=\"347\" y=\"344\" font-size=\"10\">Lizard</text><text text-anchor=\"start\" x=\"144\" y=\"338\" font-size=\"10\">Turtle</text><text text-anchor=\"start\" x=\"134\" y=\"288\" font-size=\"10\">Wonderland</text></svg>"
      ],
      "text/plain": [
       "<IPython.core.display.SVG object>"
      ]
     },
     "execution_count": 15,
     "metadata": {},
     "output_type": "execute_result"
    }
   ],
   "source": [
    "draw_graph(G, show_names=True, node_size=3)"
   ]
  },
  {
   "cell_type": "markdown",
   "id": "f9952d45",
   "metadata": {},
   "source": [
    "# Network Attack Simulation\n",
    "\n",
    "Today's post is about offense, not defense. The goal of today's post is going to be to cause maximal disruption to the Alice network in as few steps as possible. I am going to use two approaches, but you are not limited to two. Be creative.\n",
    "\n",
    "- ## Simulation 1: Iterative Attack\n",
    "In this simulation, I will remove the four nodes having highest betweenness centrality, but one after the other, sequantially. 1, 2, 3, 4.\n",
    "\n",
    "- ## Simulation 2: Burst Attack\n",
    "In this simulation,, I will remove the four nodes having highest betweenness centrlality scores from the original network, in one burst.\n",
    "\n",
    "- ## Goal: Fun and Educational\n",
    "I come from cybersecurity, so I think in terms of offense and defense, but this is not limited to computers. I am using the network from Alice in Wonderland. With any network, network science can give insights to enhance both offense and defense. Today, the focus is offense."
   ]
  },
  {
   "cell_type": "markdown",
   "id": "4970d1f5",
   "metadata": {},
   "source": [
    "# Simulation 1: Iterative Attack"
   ]
  },
  {
   "cell_type": "code",
   "execution_count": 16,
   "id": "dae86ccb",
   "metadata": {},
   "outputs": [],
   "source": [
    "# need for iteration\n",
    "\n",
    "def get_cent_df(G):\n",
    "    \n",
    "    G = G.copy()\n",
    "    \n",
    "    cent_df = pd.DataFrame(nx.betweenness_centrality(G), index=[0]).T # cent = centrality\n",
    "\n",
    "    cent_df.columns = ['betw_cent'] # betweenness centrality\n",
    "    cent_df.sort_values('betw_cent', inplace=True, ascending=False)\n",
    "    \n",
    "    return cent_df"
   ]
  },
  {
   "cell_type": "code",
   "execution_count": 17,
   "id": "ee1c73a4",
   "metadata": {},
   "outputs": [
    {
     "data": {
      "image/svg+xml": [
       "<svg xmlns=\"http://www.w3.org/2000/svg\" width=\"903.0580811820549\" height=\"540\">\n",
       "<path stroke-width=\"0.5\" stroke=\"gray\" d=\"M 396 285 192 347\"/>\n",
       "<path stroke-width=\"0.5\" stroke=\"gray\" d=\"M 444 241 553 231\"/>\n",
       "<path stroke-width=\"0.5\" stroke=\"gray\" d=\"M 444 241 352 262\"/>\n",
       "<path stroke-width=\"0.5\" stroke=\"gray\" d=\"M 444 241 361 214\"/>\n",
       "<path stroke-width=\"0.5\" stroke=\"gray\" d=\"M 444 241 329 244\"/>\n",
       "<path stroke-width=\"0.5\" stroke=\"gray\" d=\"M 545 265 396 285\"/>\n",
       "<path stroke-width=\"0.5\" stroke=\"gray\" d=\"M 545 265 508 213\"/>\n",
       "<path stroke-width=\"0.5\" stroke=\"gray\" d=\"M 693 185 553 231\"/>\n",
       "<path stroke-width=\"0.5\" stroke=\"gray\" d=\"M 471 111 508 213\"/>\n",
       "<path stroke-width=\"0.5\" stroke=\"gray\" d=\"M 602 180 580 277\"/>\n",
       "<path stroke-width=\"0.5\" stroke=\"gray\" d=\"M 602 180 508 213\"/>\n",
       "<path stroke-width=\"0.5\" stroke=\"gray\" d=\"M 352 262 396 285\"/>\n",
       "<path stroke-width=\"0.5\" stroke=\"gray\" d=\"M 352 262 444 241\"/>\n",
       "<path stroke-width=\"0.5\" stroke=\"gray\" d=\"M 352 262 361 214\"/>\n",
       "<path stroke-width=\"0.5\" stroke=\"gray\" d=\"M 352 262 329 244\"/>\n",
       "<path stroke-width=\"0.5\" stroke=\"gray\" d=\"M 361 214 396 285\"/>\n",
       "<path stroke-width=\"0.5\" stroke=\"gray\" d=\"M 444 241 508 213\"/>\n",
       "<path stroke-width=\"0.5\" stroke=\"gray\" d=\"M 444 241 580 277\"/>\n",
       "<path stroke-width=\"0.5\" stroke=\"gray\" d=\"M 444 241 396 285\"/>\n",
       "<path stroke-width=\"0.5\" stroke=\"gray\" d=\"M 553 231 616 248\"/>\n",
       "<path stroke-width=\"0.5\" stroke=\"gray\" d=\"M 340 228 396 285\"/>\n",
       "<path stroke-width=\"0.5\" stroke=\"gray\" d=\"M 459 309 396 285\"/>\n",
       "<path stroke-width=\"0.5\" stroke=\"gray\" d=\"M 508 213 396 285\"/>\n",
       "<path stroke-width=\"0.5\" stroke=\"gray\" d=\"M 508 213 580 277\"/>\n",
       "<path stroke-width=\"0.5\" stroke=\"gray\" d=\"M 508 213 553 231\"/>\n",
       "<path stroke-width=\"0.5\" stroke=\"gray\" d=\"M 508 213 444 241\"/>\n",
       "<path stroke-width=\"0.5\" stroke=\"gray\" d=\"M 508 213 545 265\"/>\n",
       "<path stroke-width=\"0.5\" stroke=\"gray\" d=\"M 361 214 444 241\"/>\n",
       "<path stroke-width=\"0.5\" stroke=\"gray\" d=\"M 508 213 471 111\"/>\n",
       "<path stroke-width=\"0.5\" stroke=\"gray\" d=\"M 553 231 396 285\"/>\n",
       "<path stroke-width=\"0.5\" stroke=\"gray\" d=\"M 553 231 513 288\"/>\n",
       "<path stroke-width=\"0.5\" stroke=\"gray\" d=\"M 553 231 580 277\"/>\n",
       "<path stroke-width=\"0.5\" stroke=\"gray\" d=\"M 553 231 508 213\"/>\n",
       "<path stroke-width=\"0.5\" stroke=\"gray\" d=\"M 553 231 444 241\"/>\n",
       "<path stroke-width=\"0.5\" stroke=\"gray\" d=\"M 553 231 693 185\"/>\n",
       "<path stroke-width=\"0.5\" stroke=\"gray\" d=\"M 553 231 530 255\"/>\n",
       "<path stroke-width=\"0.5\" stroke=\"gray\" d=\"M 508 213 602 180\"/>\n",
       "<path stroke-width=\"0.5\" stroke=\"gray\" d=\"M 434 405 396 285\"/>\n",
       "<path stroke-width=\"0.5\" stroke=\"gray\" d=\"M 361 214 352 262\"/>\n",
       "<path stroke-width=\"0.5\" stroke=\"gray\" d=\"M 329 244 396 285\"/>\n",
       "<path stroke-width=\"0.5\" stroke=\"gray\" d=\"M 518 357 477 369\"/>\n",
       "<path stroke-width=\"0.5\" stroke=\"gray\" d=\"M 477 369 396 285\"/>\n",
       "<path stroke-width=\"0.5\" stroke=\"gray\" d=\"M 477 369 513 333\"/>\n",
       "<path stroke-width=\"0.5\" stroke=\"gray\" d=\"M 477 369 518 357\"/>\n",
       "<path stroke-width=\"0.5\" stroke=\"gray\" d=\"M 455 192 396 285\"/>\n",
       "<path stroke-width=\"0.5\" stroke=\"gray\" d=\"M 274 202 396 285\"/>\n",
       "<path stroke-width=\"0.5\" stroke=\"gray\" d=\"M 251 238 396 285\"/>\n",
       "<path stroke-width=\"0.5\" stroke=\"gray\" d=\"M 284 365 396 285\"/>\n",
       "<path stroke-width=\"0.5\" stroke=\"gray\" d=\"M 518 193 396 285\"/>\n",
       "<path stroke-width=\"0.5\" stroke=\"gray\" d=\"M 616 248 513 288\"/>\n",
       "<path stroke-width=\"0.5\" stroke=\"gray\" d=\"M 616 248 580 277\"/>\n",
       "<path stroke-width=\"0.5\" stroke=\"gray\" d=\"M 616 248 553 231\"/>\n",
       "<path stroke-width=\"0.5\" stroke=\"gray\" d=\"M 616 248 530 255\"/>\n",
       "<path stroke-width=\"0.5\" stroke=\"gray\" d=\"M 650 366 580 277\"/>\n",
       "<path stroke-width=\"0.5\" stroke=\"gray\" d=\"M 650 366 683 347\"/>\n",
       "<path stroke-width=\"0.5\" stroke=\"gray\" d=\"M 518 357 513 333\"/>\n",
       "<path stroke-width=\"0.5\" stroke=\"gray\" d=\"M 518 357 396 285\"/>\n",
       "<path stroke-width=\"0.5\" stroke=\"gray\" d=\"M 513 333 477 369\"/>\n",
       "<path stroke-width=\"0.5\" stroke=\"gray\" d=\"M 513 333 518 357\"/>\n",
       "<path stroke-width=\"0.5\" stroke=\"gray\" d=\"M 329 244 444 241\"/>\n",
       "<path stroke-width=\"0.5\" stroke=\"gray\" d=\"M 329 244 352 262\"/>\n",
       "<path stroke-width=\"0.5\" stroke=\"gray\" d=\"M 329 244 361 214\"/>\n",
       "<path stroke-width=\"0.5\" stroke=\"gray\" d=\"M 720 289 580 277\"/>\n",
       "<path stroke-width=\"0.5\" stroke=\"gray\" d=\"M 268 301 396 285\"/>\n",
       "<path stroke-width=\"0.5\" stroke=\"gray\" d=\"M 268 301 260 273\"/>\n",
       "<path stroke-width=\"0.5\" stroke=\"gray\" d=\"M 260 273 396 285\"/>\n",
       "<path stroke-width=\"0.5\" stroke=\"gray\" d=\"M 361 214 329 244\"/>\n",
       "<path stroke-width=\"0.5\" stroke=\"gray\" d=\"M 260 273 268 301\"/>\n",
       "<path stroke-width=\"0.5\" stroke=\"gray\" d=\"M 530 255 513 288\"/>\n",
       "<path stroke-width=\"0.5\" stroke=\"gray\" d=\"M 530 255 580 277\"/>\n",
       "<path stroke-width=\"0.5\" stroke=\"gray\" d=\"M 530 255 553 231\"/>\n",
       "<path stroke-width=\"0.5\" stroke=\"gray\" d=\"M 530 255 616 248\"/>\n",
       "<path stroke-width=\"0.5\" stroke=\"gray\" d=\"M 331 382 396 285\"/>\n",
       "<path stroke-width=\"0.5\" stroke=\"gray\" d=\"M 327 331 396 285\"/>\n",
       "<path stroke-width=\"0.5\" stroke=\"gray\" d=\"M 513 333 396 285\"/>\n",
       "<path stroke-width=\"0.5\" stroke=\"gray\" d=\"M 530 255 396 285\"/>\n",
       "<path stroke-width=\"0.5\" stroke=\"gray\" d=\"M 580 277 683 347\"/>\n",
       "<path stroke-width=\"0.5\" stroke=\"gray\" d=\"M 580 277 650 366\"/>\n",
       "<path stroke-width=\"0.5\" stroke=\"gray\" d=\"M 580 277 616 248\"/>\n",
       "<path stroke-width=\"0.5\" stroke=\"gray\" d=\"M 396 285 352 262\"/>\n",
       "<path stroke-width=\"0.5\" stroke=\"gray\" d=\"M 396 285 361 214\"/>\n",
       "<path stroke-width=\"0.5\" stroke=\"gray\" d=\"M 396 285 329 244\"/>\n",
       "<path stroke-width=\"0.5\" stroke=\"gray\" d=\"M 396 285 268 301\"/>\n",
       "<path stroke-width=\"0.5\" stroke=\"gray\" d=\"M 396 285 260 273\"/>\n",
       "<path stroke-width=\"0.5\" stroke=\"gray\" d=\"M 396 285 530 255\"/>\n",
       "<path stroke-width=\"0.5\" stroke=\"gray\" d=\"M 396 285 331 382\"/>\n",
       "<path stroke-width=\"0.5\" stroke=\"gray\" d=\"M 396 285 327 331\"/>\n",
       "<path stroke-width=\"0.5\" stroke=\"gray\" d=\"M 396 285 513 333\"/>\n",
       "<path stroke-width=\"0.5\" stroke=\"gray\" d=\"M 396 285 518 357\"/>\n",
       "<path stroke-width=\"0.5\" stroke=\"gray\" d=\"M 396 285 477 369\"/>\n",
       "<path stroke-width=\"0.5\" stroke=\"gray\" d=\"M 396 285 455 192\"/>\n",
       "<path stroke-width=\"0.5\" stroke=\"gray\" d=\"M 396 285 274 202\"/>\n",
       "<path stroke-width=\"0.5\" stroke=\"gray\" d=\"M 396 285 251 238\"/>\n",
       "<path stroke-width=\"0.5\" stroke=\"gray\" d=\"M 396 285 284 365\"/>\n",
       "<path stroke-width=\"0.5\" stroke=\"gray\" d=\"M 396 285 545 265\"/>\n",
       "<path stroke-width=\"0.5\" stroke=\"gray\" d=\"M 396 285 444 241\"/>\n",
       "<path stroke-width=\"0.5\" stroke=\"gray\" d=\"M 396 285 553 231\"/>\n",
       "<path stroke-width=\"0.5\" stroke=\"gray\" d=\"M 396 285 508 213\"/>\n",
       "<path stroke-width=\"0.5\" stroke=\"gray\" d=\"M 396 285 457 164\"/>\n",
       "<path stroke-width=\"0.5\" stroke=\"gray\" d=\"M 396 285 528 430\"/>\n",
       "<path stroke-width=\"0.5\" stroke=\"gray\" d=\"M 396 285 513 288\"/>\n",
       "<path stroke-width=\"0.5\" stroke=\"gray\" d=\"M 396 285 327 177\"/>\n",
       "<path stroke-width=\"0.5\" stroke=\"gray\" d=\"M 396 285 364 124\"/>\n",
       "<path stroke-width=\"0.5\" stroke=\"gray\" d=\"M 396 285 398 163\"/>\n",
       "<path stroke-width=\"0.5\" stroke=\"gray\" d=\"M 396 285 426 333\"/>\n",
       "<path stroke-width=\"0.5\" stroke=\"gray\" d=\"M 396 285 518 193\"/>\n",
       "<path stroke-width=\"0.5\" stroke=\"gray\" d=\"M 396 285 455 342\"/>\n",
       "<path stroke-width=\"0.5\" stroke=\"gray\" d=\"M 396 285 175 243\"/>\n",
       "<path stroke-width=\"0.5\" stroke=\"gray\" d=\"M 396 285 357 405\"/>\n",
       "<path stroke-width=\"0.5\" stroke=\"gray\" d=\"M 396 285 250 325\"/>\n",
       "<path stroke-width=\"0.5\" stroke=\"gray\" d=\"M 396 285 580 277\"/>\n",
       "<path stroke-width=\"0.5\" stroke=\"gray\" d=\"M 396 285 434 405\"/>\n",
       "<path stroke-width=\"0.5\" stroke=\"gray\" d=\"M 396 285 340 228\"/>\n",
       "<path stroke-width=\"0.5\" stroke=\"gray\" d=\"M 396 285 459 309\"/>\n",
       "<path stroke-width=\"0.5\" stroke=\"gray\" d=\"M 396 285 499 390\"/>\n",
       "<path stroke-width=\"0.5\" stroke=\"gray\" d=\"M 192 347 396 285\"/>\n",
       "<path stroke-width=\"0.5\" stroke=\"gray\" d=\"M 192 347 50 385\"/>\n",
       "<path stroke-width=\"0.5\" stroke=\"gray\" d=\"M 50 385 192 347\"/>\n",
       "<path stroke-width=\"0.5\" stroke=\"gray\" d=\"M 455 342 513 288\"/>\n",
       "<path stroke-width=\"0.5\" stroke=\"gray\" d=\"M 455 342 426 333\"/>\n",
       "<path stroke-width=\"0.5\" stroke=\"gray\" d=\"M 499 390 396 285\"/>\n",
       "<path stroke-width=\"0.5\" stroke=\"gray\" d=\"M 175 243 396 285\"/>\n",
       "<path stroke-width=\"0.5\" stroke=\"gray\" d=\"M 175 243 20 217\"/>\n",
       "<path stroke-width=\"0.5\" stroke=\"gray\" d=\"M 20 217 175 243\"/>\n",
       "<path stroke-width=\"0.5\" stroke=\"gray\" d=\"M 357 405 396 285\"/>\n",
       "<path stroke-width=\"0.5\" stroke=\"gray\" d=\"M 455 342 396 285\"/>\n",
       "<path stroke-width=\"0.5\" stroke=\"gray\" d=\"M 250 325 396 285\"/>\n",
       "<path stroke-width=\"0.5\" stroke=\"gray\" d=\"M 580 277 513 288\"/>\n",
       "<path stroke-width=\"0.5\" stroke=\"gray\" d=\"M 580 277 508 213\"/>\n",
       "<path stroke-width=\"0.5\" stroke=\"gray\" d=\"M 580 277 553 231\"/>\n",
       "<path stroke-width=\"0.5\" stroke=\"gray\" d=\"M 580 277 444 241\"/>\n",
       "<path stroke-width=\"0.5\" stroke=\"gray\" d=\"M 580 277 602 180\"/>\n",
       "<path stroke-width=\"0.5\" stroke=\"gray\" d=\"M 580 277 720 289\"/>\n",
       "<path stroke-width=\"0.5\" stroke=\"gray\" d=\"M 580 277 530 255\"/>\n",
       "<path stroke-width=\"0.5\" stroke=\"gray\" d=\"M 580 277 396 285\"/>\n",
       "<path stroke-width=\"0.5\" stroke=\"gray\" d=\"M 683 347 580 277\"/>\n",
       "<path stroke-width=\"0.5\" stroke=\"gray\" d=\"M 426 333 455 342\"/>\n",
       "<path stroke-width=\"0.5\" stroke=\"gray\" d=\"M 426 333 396 285\"/>\n",
       "<path stroke-width=\"0.5\" stroke=\"gray\" d=\"M 457 164 396 285\"/>\n",
       "<path stroke-width=\"0.5\" stroke=\"gray\" d=\"M 629 520 528 430\"/>\n",
       "<path stroke-width=\"0.5\" stroke=\"gray\" d=\"M 528 430 396 285\"/>\n",
       "<path stroke-width=\"0.5\" stroke=\"gray\" d=\"M 528 430 629 520\"/>\n",
       "<path stroke-width=\"0.5\" stroke=\"gray\" d=\"M 513 288 396 285\"/>\n",
       "<path stroke-width=\"0.5\" stroke=\"gray\" d=\"M 513 288 426 333\"/>\n",
       "<path stroke-width=\"0.5\" stroke=\"gray\" d=\"M 513 288 455 342\"/>\n",
       "<path stroke-width=\"0.5\" stroke=\"gray\" d=\"M 426 333 513 288\"/>\n",
       "<path stroke-width=\"0.5\" stroke=\"gray\" d=\"M 513 288 580 277\"/>\n",
       "<path stroke-width=\"0.5\" stroke=\"gray\" d=\"M 513 288 530 255\"/>\n",
       "<path stroke-width=\"0.5\" stroke=\"gray\" d=\"M 513 288 616 248\"/>\n",
       "<path stroke-width=\"0.5\" stroke=\"gray\" d=\"M 327 177 396 285\"/>\n",
       "<path stroke-width=\"0.5\" stroke=\"gray\" d=\"M 364 124 396 285\"/>\n",
       "<path stroke-width=\"0.5\" stroke=\"gray\" d=\"M 364 124 372 20\"/>\n",
       "<path stroke-width=\"0.5\" stroke=\"gray\" d=\"M 372 20 364 124\"/>\n",
       "<path stroke-width=\"0.5\" stroke=\"gray\" d=\"M 398 163 396 285\"/>\n",
       "<path stroke-width=\"0.5\" stroke=\"gray\" d=\"M 513 288 553 231\"/>\n",
       "<path stroke-width=\"0.5\" stroke=\"gray\" d=\"M 683 347 650 366\"/>\n",
       "<circle cx=\"396\" cy=\"285\" r=\"3.0\" style=\"fill:rgb(179, 3, 38);stroke:black;stroke-width:1.0\"/>\n",
       "<circle cx=\"192\" cy=\"347\" r=\"3.0\" style=\"fill:rgb(70, 93, 207);stroke:black;stroke-width:1.0\"/>\n",
       "<circle cx=\"50\" cy=\"385\" r=\"3.0\" style=\"fill:rgb(60, 79, 195);stroke:black;stroke-width:1.0\"/>\n",
       "<circle cx=\"457\" cy=\"164\" r=\"3.0\" style=\"fill:rgb(58, 76, 192);stroke:black;stroke-width:1.0\"/>\n",
       "<circle cx=\"629\" cy=\"520\" r=\"3.0\" style=\"fill:rgb(60, 79, 195);stroke:black;stroke-width:1.0\"/>\n",
       "<circle cx=\"528\" cy=\"430\" r=\"3.0\" style=\"fill:rgb(70, 93, 207);stroke:black;stroke-width:1.0\"/>\n",
       "<circle cx=\"513\" cy=\"288\" r=\"3.0\" style=\"fill:rgb(96, 128, 232);stroke:black;stroke-width:1.0\"/>\n",
       "<circle cx=\"327\" cy=\"177\" r=\"3.0\" style=\"fill:rgb(58, 76, 192);stroke:black;stroke-width:1.0\"/>\n",
       "<circle cx=\"364\" cy=\"124\" r=\"3.0\" style=\"fill:rgb(70, 93, 207);stroke:black;stroke-width:1.0\"/>\n",
       "<circle cx=\"372\" cy=\"20\" r=\"3.0\" style=\"fill:rgb(60, 79, 195);stroke:black;stroke-width:1.0\"/>\n",
       "<circle cx=\"398\" cy=\"163\" r=\"3.0\" style=\"fill:rgb(58, 76, 192);stroke:black;stroke-width:1.0\"/>\n",
       "<circle cx=\"426\" cy=\"333\" r=\"3.0\" style=\"fill:rgb(70, 93, 207);stroke:black;stroke-width:1.0\"/>\n",
       "<circle cx=\"455\" cy=\"342\" r=\"3.0\" style=\"fill:rgb(70, 93, 207);stroke:black;stroke-width:1.0\"/>\n",
       "<circle cx=\"499\" cy=\"390\" r=\"3.0\" style=\"fill:rgb(58, 76, 192);stroke:black;stroke-width:1.0\"/>\n",
       "<circle cx=\"175\" cy=\"243\" r=\"3.0\" style=\"fill:rgb(70, 93, 207);stroke:black;stroke-width:1.0\"/>\n",
       "<circle cx=\"20\" cy=\"217\" r=\"3.0\" style=\"fill:rgb(60, 79, 195);stroke:black;stroke-width:1.0\"/>\n",
       "<circle cx=\"357\" cy=\"405\" r=\"3.0\" style=\"fill:rgb(58, 76, 192);stroke:black;stroke-width:1.0\"/>\n",
       "<circle cx=\"250\" cy=\"325\" r=\"3.0\" style=\"fill:rgb(58, 76, 192);stroke:black;stroke-width:1.0\"/>\n",
       "<circle cx=\"580\" cy=\"277\" r=\"3.0\" style=\"fill:rgb(130, 165, 251);stroke:black;stroke-width:1.0\"/>\n",
       "<circle cx=\"434\" cy=\"405\" r=\"3.0\" style=\"fill:rgb(58, 76, 192);stroke:black;stroke-width:1.0\"/>\n",
       "<circle cx=\"340\" cy=\"228\" r=\"3.0\" style=\"fill:rgb(58, 76, 192);stroke:black;stroke-width:1.0\"/>\n",
       "<circle cx=\"459\" cy=\"309\" r=\"3.0\" style=\"fill:rgb(58, 76, 192);stroke:black;stroke-width:1.0\"/>\n",
       "<circle cx=\"508\" cy=\"213\" r=\"3.0\" style=\"fill:rgb(103, 136, 237);stroke:black;stroke-width:1.0\"/>\n",
       "<circle cx=\"553\" cy=\"231\" r=\"3.0\" style=\"fill:rgb(105, 139, 239);stroke:black;stroke-width:1.0\"/>\n",
       "<circle cx=\"444\" cy=\"241\" r=\"3.0\" style=\"fill:rgb(96, 128, 232);stroke:black;stroke-width:1.0\"/>\n",
       "<circle cx=\"545\" cy=\"265\" r=\"3.0\" style=\"fill:rgb(64, 84, 199);stroke:black;stroke-width:1.0\"/>\n",
       "<circle cx=\"693\" cy=\"185\" r=\"3.0\" style=\"fill:rgb(58, 76, 192);stroke:black;stroke-width:1.0\"/>\n",
       "<circle cx=\"471\" cy=\"111\" r=\"3.0\" style=\"fill:rgb(58, 76, 192);stroke:black;stroke-width:1.0\"/>\n",
       "<circle cx=\"602\" cy=\"180\" r=\"3.0\" style=\"fill:rgb(64, 84, 199);stroke:black;stroke-width:1.0\"/>\n",
       "<circle cx=\"352\" cy=\"262\" r=\"3.0\" style=\"fill:rgb(76, 102, 214);stroke:black;stroke-width:1.0\"/>\n",
       "<circle cx=\"361\" cy=\"214\" r=\"3.0\" style=\"fill:rgb(76, 102, 214);stroke:black;stroke-width:1.0\"/>\n",
       "<circle cx=\"329\" cy=\"244\" r=\"3.0\" style=\"fill:rgb(76, 102, 214);stroke:black;stroke-width:1.0\"/>\n",
       "<circle cx=\"720\" cy=\"289\" r=\"3.0\" style=\"fill:rgb(58, 76, 192);stroke:black;stroke-width:1.0\"/>\n",
       "<circle cx=\"268\" cy=\"301\" r=\"3.0\" style=\"fill:rgb(66, 88, 202);stroke:black;stroke-width:1.0\"/>\n",
       "<circle cx=\"260\" cy=\"273\" r=\"3.0\" style=\"fill:rgb(66, 88, 202);stroke:black;stroke-width:1.0\"/>\n",
       "<circle cx=\"530\" cy=\"255\" r=\"3.0\" style=\"fill:rgb(82, 110, 220);stroke:black;stroke-width:1.0\"/>\n",
       "<circle cx=\"331\" cy=\"382\" r=\"3.0\" style=\"fill:rgb(58, 76, 192);stroke:black;stroke-width:1.0\"/>\n",
       "<circle cx=\"327\" cy=\"331\" r=\"3.0\" style=\"fill:rgb(58, 76, 192);stroke:black;stroke-width:1.0\"/>\n",
       "<circle cx=\"513\" cy=\"333\" r=\"3.0\" style=\"fill:rgb(72, 96, 209);stroke:black;stroke-width:1.0\"/>\n",
       "<circle cx=\"518\" cy=\"357\" r=\"3.0\" style=\"fill:rgb(72, 96, 209);stroke:black;stroke-width:1.0\"/>\n",
       "<circle cx=\"477\" cy=\"369\" r=\"3.0\" style=\"fill:rgb(72, 96, 209);stroke:black;stroke-width:1.0\"/>\n",
       "<circle cx=\"455\" cy=\"192\" r=\"3.0\" style=\"fill:rgb(58, 76, 192);stroke:black;stroke-width:1.0\"/>\n",
       "<circle cx=\"274\" cy=\"202\" r=\"3.0\" style=\"fill:rgb(58, 76, 192);stroke:black;stroke-width:1.0\"/>\n",
       "<circle cx=\"251\" cy=\"238\" r=\"3.0\" style=\"fill:rgb(58, 76, 192);stroke:black;stroke-width:1.0\"/>\n",
       "<circle cx=\"284\" cy=\"365\" r=\"3.0\" style=\"fill:rgb(58, 76, 192);stroke:black;stroke-width:1.0\"/>\n",
       "<circle cx=\"518\" cy=\"193\" r=\"3.0\" style=\"fill:rgb(58, 76, 192);stroke:black;stroke-width:1.0\"/>\n",
       "<circle cx=\"616\" cy=\"248\" r=\"3.0\" style=\"fill:rgb(72, 96, 209);stroke:black;stroke-width:1.0\"/>\n",
       "<circle cx=\"650\" cy=\"366\" r=\"3.0\" style=\"fill:rgb(64, 84, 199);stroke:black;stroke-width:1.0\"/>\n",
       "<circle cx=\"683\" cy=\"347\" r=\"3.0\" style=\"fill:rgb(64, 84, 199);stroke:black;stroke-width:1.0\"/>\n",
       "<text text-anchor=\"start\" x=\"402\" y=\"285\" font-size=\"10\">Alice</text><text text-anchor=\"start\" x=\"198\" y=\"347\" font-size=\"10\">Dinah</text><text text-anchor=\"start\" x=\"56\" y=\"385\" font-size=\"10\">Dinah'll</text><text text-anchor=\"start\" x=\"463\" y=\"164\" font-size=\"10\">Hearthrug</text><text text-anchor=\"start\" x=\"635\" y=\"520\" font-size=\"10\">Ada</text><text text-anchor=\"start\" x=\"534\" y=\"430\" font-size=\"10\">Mabel</text><text text-anchor=\"start\" x=\"519\" y=\"288\" font-size=\"10\">Mouse</text><text text-anchor=\"start\" x=\"333\" y=\"177\" font-size=\"10\">William the Conqueror</text><text text-anchor=\"start\" x=\"370\" y=\"124\" font-size=\"10\">William</text><text text-anchor=\"start\" x=\"378\" y=\"20\" font-size=\"10\">Edgar</text><text text-anchor=\"start\" x=\"404\" y=\"163\" font-size=\"10\">Normans</text><text text-anchor=\"start\" x=\"432\" y=\"333\" font-size=\"10\">Fury</text><text text-anchor=\"start\" x=\"461\" y=\"342\" font-size=\"10\">âLet</text><text text-anchor=\"start\" x=\"505\" y=\"390\" font-size=\"10\">Mary Ann</text><text text-anchor=\"start\" x=\"181\" y=\"243\" font-size=\"10\">Bill</text><text text-anchor=\"start\" x=\"26\" y=\"217\" font-size=\"10\">Brandy</text><text text-anchor=\"start\" x=\"363\" y=\"405\" font-size=\"10\">Caterpillar</text><text text-anchor=\"start\" x=\"256\" y=\"325\" font-size=\"10\">Pigeon</text><text text-anchor=\"start\" x=\"586\" y=\"277\" font-size=\"10\">Queen</text><text text-anchor=\"start\" x=\"440\" y=\"405\" font-size=\"10\">Fish-Footman</text><text text-anchor=\"start\" x=\"346\" y=\"228\" font-size=\"10\">Cheshire</text><text text-anchor=\"start\" x=\"465\" y=\"309\" font-size=\"10\">CHORUS</text><text text-anchor=\"start\" x=\"514\" y=\"213\" font-size=\"10\">Hatter</text><text text-anchor=\"start\" x=\"559\" y=\"231\" font-size=\"10\">Hare</text><text text-anchor=\"start\" x=\"450\" y=\"241\" font-size=\"10\">Dormouse</text><text text-anchor=\"start\" x=\"551\" y=\"265\" font-size=\"10\">Time</text><text text-anchor=\"start\" x=\"699\" y=\"185\" font-size=\"10\">the Queen of Hearts</text><text text-anchor=\"start\" x=\"477\" y=\"111\" font-size=\"10\">âUp</text><text text-anchor=\"start\" x=\"608\" y=\"180\" font-size=\"10\">âHe</text><text text-anchor=\"start\" x=\"358\" y=\"262\" font-size=\"10\">Lacie</text><text text-anchor=\"start\" x=\"367\" y=\"214\" font-size=\"10\">Elsie</text><text text-anchor=\"start\" x=\"335\" y=\"244\" font-size=\"10\">Tillie</text><text text-anchor=\"start\" x=\"726\" y=\"289\" font-size=\"10\">Miss</text><text text-anchor=\"start\" x=\"274\" y=\"301\" font-size=\"10\">Kings</text><text text-anchor=\"start\" x=\"266\" y=\"273\" font-size=\"10\">Queens</text><text text-anchor=\"start\" x=\"536\" y=\"255\" font-size=\"10\">Duchess</text><text text-anchor=\"start\" x=\"337\" y=\"382\" font-size=\"10\">Gryphon</text><text text-anchor=\"start\" x=\"333\" y=\"331\" font-size=\"10\">Tortoise</text><text text-anchor=\"start\" x=\"519\" y=\"333\" font-size=\"10\">Arithmetic Ambition</text><text text-anchor=\"start\" x=\"524\" y=\"357\" font-size=\"10\">Uglification</text><text text-anchor=\"start\" x=\"483\" y=\"369\" font-size=\"10\">Derision</text><text text-anchor=\"start\" x=\"461\" y=\"192\" font-size=\"10\">Stretching</text><text text-anchor=\"start\" x=\"280\" y=\"202\" font-size=\"10\">Lobster Quadrille</text><text text-anchor=\"start\" x=\"257\" y=\"238\" font-size=\"10\">âpurpose</text><text text-anchor=\"start\" x=\"290\" y=\"365\" font-size=\"10\">Panther</text><text text-anchor=\"start\" x=\"524\" y=\"193\" font-size=\"10\">Adventures</text><text text-anchor=\"start\" x=\"622\" y=\"248\" font-size=\"10\">Lizard</text><text text-anchor=\"start\" x=\"656\" y=\"366\" font-size=\"10\">Turtle</text><text text-anchor=\"start\" x=\"689\" y=\"347\" font-size=\"10\">Wonderland</text></svg>"
      ],
      "text/plain": [
       "<IPython.core.display.SVG object>"
      ]
     },
     "execution_count": 17,
     "metadata": {},
     "output_type": "execute_result"
    }
   ],
   "source": [
    "G1 = G.copy() # keep G for use with simulation 2\n",
    "\n",
    "draw_graph(G1, show_names=True, node_size=3)"
   ]
  },
  {
   "cell_type": "markdown",
   "id": "166e6a32",
   "metadata": {},
   "source": [
    "## Iteration 1"
   ]
  },
  {
   "cell_type": "code",
   "execution_count": 18,
   "id": "923fe796",
   "metadata": {},
   "outputs": [
    {
     "data": {
      "image/png": "[encoded data removed]",
      "text/plain": [
       "<Figure size 640x480 with 1 Axes>"
      ]
     },
     "metadata": {},
     "output_type": "display_data"
    }
   ],
   "source": [
    "cent_df = get_cent_df(G1)\n",
    "\n",
    "cent_df[0:20].plot.barh().invert_yaxis()\n",
    "\n",
    "# because there are so few with betw_cent, I expect the network to be nearly ruined with either approach"
   ]
  },
  {
   "cell_type": "code",
   "execution_count": 19,
   "id": "d9f0cbb5",
   "metadata": {},
   "outputs": [
    {
     "data": {
      "text/plain": [
       "'Alice'"
      ]
     },
     "execution_count": 19,
     "metadata": {},
     "output_type": "execute_result"
    }
   ],
   "source": [
    "# Smash and Draw, Sequentially\n",
    "\n",
    "# first iteration; drop node\n",
    "\n",
    "drop_node = cent_df.iloc[0].name\n",
    "drop_node"
   ]
  },
  {
   "cell_type": "code",
   "execution_count": 20,
   "id": "eb2bdae0",
   "metadata": {
    "scrolled": false
   },
   "outputs": [],
   "source": [
    "G1.remove_node(drop_node)"
   ]
  },
  {
   "cell_type": "code",
   "execution_count": 21,
   "id": "226f3ce6",
   "metadata": {},
   "outputs": [
    {
     "data": {
      "image/svg+xml": [
       "<svg xmlns=\"http://www.w3.org/2000/svg\" width=\"800.0\" height=\"540\">\n",
       "<path stroke-width=\"0.5\" stroke=\"gray\" d=\"M 151 476 137 455\"/>\n",
       "<path stroke-width=\"0.5\" stroke=\"gray\" d=\"M 356 161 382 198\"/>\n",
       "<path stroke-width=\"0.5\" stroke=\"gray\" d=\"M 368 147 356 161\"/>\n",
       "<path stroke-width=\"0.5\" stroke=\"gray\" d=\"M 368 147 385 155\"/>\n",
       "<path stroke-width=\"0.5\" stroke=\"gray\" d=\"M 368 147 382 198\"/>\n",
       "<path stroke-width=\"0.5\" stroke=\"gray\" d=\"M 385 155 356 161\"/>\n",
       "<path stroke-width=\"0.5\" stroke=\"gray\" d=\"M 385 155 368 147\"/>\n",
       "<path stroke-width=\"0.5\" stroke=\"gray\" d=\"M 385 155 382 198\"/>\n",
       "<path stroke-width=\"0.5\" stroke=\"gray\" d=\"M 356 161 385 155\"/>\n",
       "<path stroke-width=\"0.5\" stroke=\"gray\" d=\"M 352 245 377 223\"/>\n",
       "<path stroke-width=\"0.5\" stroke=\"gray\" d=\"M 417 193 377 223\"/>\n",
       "<path stroke-width=\"0.5\" stroke=\"gray\" d=\"M 450 293 415 249\"/>\n",
       "<path stroke-width=\"0.5\" stroke=\"gray\" d=\"M 327 205 377 223\"/>\n",
       "<path stroke-width=\"0.5\" stroke=\"gray\" d=\"M 382 198 356 161\"/>\n",
       "<path stroke-width=\"0.5\" stroke=\"gray\" d=\"M 382 198 368 147\"/>\n",
       "<path stroke-width=\"0.5\" stroke=\"gray\" d=\"M 382 198 385 155\"/>\n",
       "<path stroke-width=\"0.5\" stroke=\"gray\" d=\"M 382 198 415 249\"/>\n",
       "<path stroke-width=\"0.5\" stroke=\"gray\" d=\"M 352 245 384 261\"/>\n",
       "<path stroke-width=\"0.5\" stroke=\"gray\" d=\"M 356 161 368 147\"/>\n",
       "<path stroke-width=\"0.5\" stroke=\"gray\" d=\"M 370 310 384 261\"/>\n",
       "<path stroke-width=\"0.5\" stroke=\"gray\" d=\"M 713 235 720 259\"/>\n",
       "<path stroke-width=\"0.5\" stroke=\"gray\" d=\"M 329 275 339 292\"/>\n",
       "<path stroke-width=\"0.5\" stroke=\"gray\" d=\"M 329 275 384 261\"/>\n",
       "<path stroke-width=\"0.5\" stroke=\"gray\" d=\"M 417 280 427 268\"/>\n",
       "<path stroke-width=\"0.5\" stroke=\"gray\" d=\"M 417 280 415 249\"/>\n",
       "<path stroke-width=\"0.5\" stroke=\"gray\" d=\"M 417 280 384 261\"/>\n",
       "<path stroke-width=\"0.5\" stroke=\"gray\" d=\"M 417 280 453 262\"/>\n",
       "<path stroke-width=\"0.5\" stroke=\"gray\" d=\"M 20 286 45 296\"/>\n",
       "<path stroke-width=\"0.5\" stroke=\"gray\" d=\"M 20 286 41 271\"/>\n",
       "<path stroke-width=\"0.5\" stroke=\"gray\" d=\"M 45 296 20 286\"/>\n",
       "<path stroke-width=\"0.5\" stroke=\"gray\" d=\"M 45 296 41 271\"/>\n",
       "<path stroke-width=\"0.5\" stroke=\"gray\" d=\"M 41 271 20 286\"/>\n",
       "<path stroke-width=\"0.5\" stroke=\"gray\" d=\"M 41 271 45 296\"/>\n",
       "<path stroke-width=\"0.5\" stroke=\"gray\" d=\"M 427 268 417 280\"/>\n",
       "<path stroke-width=\"0.5\" stroke=\"gray\" d=\"M 427 268 415 249\"/>\n",
       "<path stroke-width=\"0.5\" stroke=\"gray\" d=\"M 427 268 384 261\"/>\n",
       "<path stroke-width=\"0.5\" stroke=\"gray\" d=\"M 427 268 453 262\"/>\n",
       "<path stroke-width=\"0.5\" stroke=\"gray\" d=\"M 720 259 713 235\"/>\n",
       "<path stroke-width=\"0.5\" stroke=\"gray\" d=\"M 382 198 377 223\"/>\n",
       "<path stroke-width=\"0.5\" stroke=\"gray\" d=\"M 382 198 384 261\"/>\n",
       "<path stroke-width=\"0.5\" stroke=\"gray\" d=\"M 415 249 417 280\"/>\n",
       "<path stroke-width=\"0.5\" stroke=\"gray\" d=\"M 415 249 427 268\"/>\n",
       "<path stroke-width=\"0.5\" stroke=\"gray\" d=\"M 134 239 128 214\"/>\n",
       "<path stroke-width=\"0.5\" stroke=\"gray\" d=\"M 128 214 134 239\"/>\n",
       "<path stroke-width=\"0.5\" stroke=\"gray\" d=\"M 504 250 507 270\"/>\n",
       "<path stroke-width=\"0.5\" stroke=\"gray\" d=\"M 504 250 453 262\"/>\n",
       "<path stroke-width=\"0.5\" stroke=\"gray\" d=\"M 507 270 504 250\"/>\n",
       "<path stroke-width=\"0.5\" stroke=\"gray\" d=\"M 507 270 453 262\"/>\n",
       "<path stroke-width=\"0.5\" stroke=\"gray\" d=\"M 525 520 554 517\"/>\n",
       "<path stroke-width=\"0.5\" stroke=\"gray\" d=\"M 554 517 525 520\"/>\n",
       "<path stroke-width=\"0.5\" stroke=\"gray\" d=\"M 453 262 417 280\"/>\n",
       "<path stroke-width=\"0.5\" stroke=\"gray\" d=\"M 453 262 427 268\"/>\n",
       "<path stroke-width=\"0.5\" stroke=\"gray\" d=\"M 453 262 415 249\"/>\n",
       "<path stroke-width=\"0.5\" stroke=\"gray\" d=\"M 453 262 384 261\"/>\n",
       "<path stroke-width=\"0.5\" stroke=\"gray\" d=\"M 453 262 504 250\"/>\n",
       "<path stroke-width=\"0.5\" stroke=\"gray\" d=\"M 453 262 507 270\"/>\n",
       "<path stroke-width=\"0.5\" stroke=\"gray\" d=\"M 478 20 502 34\"/>\n",
       "<path stroke-width=\"0.5\" stroke=\"gray\" d=\"M 502 34 478 20\"/>\n",
       "<path stroke-width=\"0.5\" stroke=\"gray\" d=\"M 137 455 151 476\"/>\n",
       "<path stroke-width=\"0.5\" stroke=\"gray\" d=\"M 384 261 453 262\"/>\n",
       "<path stroke-width=\"0.5\" stroke=\"gray\" d=\"M 339 292 384 261\"/>\n",
       "<path stroke-width=\"0.5\" stroke=\"gray\" d=\"M 384 261 377 223\"/>\n",
       "<path stroke-width=\"0.5\" stroke=\"gray\" d=\"M 384 261 382 198\"/>\n",
       "<path stroke-width=\"0.5\" stroke=\"gray\" d=\"M 415 249 450 293\"/>\n",
       "<path stroke-width=\"0.5\" stroke=\"gray\" d=\"M 415 249 382 198\"/>\n",
       "<path stroke-width=\"0.5\" stroke=\"gray\" d=\"M 415 249 377 223\"/>\n",
       "<path stroke-width=\"0.5\" stroke=\"gray\" d=\"M 415 249 384 261\"/>\n",
       "<path stroke-width=\"0.5\" stroke=\"gray\" d=\"M 415 249 453 262\"/>\n",
       "<path stroke-width=\"0.5\" stroke=\"gray\" d=\"M 377 223 352 245\"/>\n",
       "<path stroke-width=\"0.5\" stroke=\"gray\" d=\"M 377 223 417 193\"/>\n",
       "<path stroke-width=\"0.5\" stroke=\"gray\" d=\"M 377 223 327 205\"/>\n",
       "<path stroke-width=\"0.5\" stroke=\"gray\" d=\"M 377 223 382 198\"/>\n",
       "<path stroke-width=\"0.5\" stroke=\"gray\" d=\"M 377 223 415 249\"/>\n",
       "<path stroke-width=\"0.5\" stroke=\"gray\" d=\"M 377 223 384 261\"/>\n",
       "<path stroke-width=\"0.5\" stroke=\"gray\" d=\"M 384 261 339 292\"/>\n",
       "<path stroke-width=\"0.5\" stroke=\"gray\" d=\"M 384 261 329 275\"/>\n",
       "<path stroke-width=\"0.5\" stroke=\"gray\" d=\"M 384 261 417 280\"/>\n",
       "<path stroke-width=\"0.5\" stroke=\"gray\" d=\"M 384 261 427 268\"/>\n",
       "<path stroke-width=\"0.5\" stroke=\"gray\" d=\"M 384 261 370 310\"/>\n",
       "<path stroke-width=\"0.5\" stroke=\"gray\" d=\"M 384 261 352 245\"/>\n",
       "<path stroke-width=\"0.5\" stroke=\"gray\" d=\"M 384 261 415 249\"/>\n",
       "<path stroke-width=\"0.5\" stroke=\"gray\" d=\"M 339 292 329 275\"/>\n",
       "<circle cx=\"151\" cy=\"476\" r=\"3.0\" style=\"fill:rgb(145, 179, 254);stroke:black;stroke-width:1.0\"/>\n",
       "<circle cx=\"137\" cy=\"455\" r=\"3.0\" style=\"fill:rgb(145, 179, 254);stroke:black;stroke-width:1.0\"/>\n",
       "<circle cx=\"502\" cy=\"34\" r=\"3.0\" style=\"fill:rgb(145, 179, 254);stroke:black;stroke-width:1.0\"/>\n",
       "<circle cx=\"478\" cy=\"20\" r=\"3.0\" style=\"fill:rgb(145, 179, 254);stroke:black;stroke-width:1.0\"/>\n",
       "<circle cx=\"453\" cy=\"262\" r=\"3.0\" style=\"fill:rgb(230, 215, 207);stroke:black;stroke-width:1.0\"/>\n",
       "<circle cx=\"554\" cy=\"517\" r=\"3.0\" style=\"fill:rgb(145, 179, 254);stroke:black;stroke-width:1.0\"/>\n",
       "<circle cx=\"525\" cy=\"520\" r=\"3.0\" style=\"fill:rgb(145, 179, 254);stroke:black;stroke-width:1.0\"/>\n",
       "<circle cx=\"507\" cy=\"270\" r=\"3.0\" style=\"fill:rgb(96, 128, 232);stroke:black;stroke-width:1.0\"/>\n",
       "<circle cx=\"504\" cy=\"250\" r=\"3.0\" style=\"fill:rgb(96, 128, 232);stroke:black;stroke-width:1.0\"/>\n",
       "<circle cx=\"128\" cy=\"214\" r=\"3.0\" style=\"fill:rgb(145, 179, 254);stroke:black;stroke-width:1.0\"/>\n",
       "<circle cx=\"134\" cy=\"239\" r=\"3.0\" style=\"fill:rgb(145, 179, 254);stroke:black;stroke-width:1.0\"/>\n",
       "<circle cx=\"384\" cy=\"261\" r=\"3.0\" style=\"fill:rgb(179, 3, 38);stroke:black;stroke-width:1.0\"/>\n",
       "<circle cx=\"377\" cy=\"223\" r=\"3.0\" style=\"fill:rgb(242, 200, 179);stroke:black;stroke-width:1.0\"/>\n",
       "<circle cx=\"415\" cy=\"249\" r=\"3.0\" style=\"fill:rgb(245, 193, 168);stroke:black;stroke-width:1.0\"/>\n",
       "<circle cx=\"382\" cy=\"198\" r=\"3.0\" style=\"fill:rgb(227, 217, 211);stroke:black;stroke-width:1.0\"/>\n",
       "<circle cx=\"327\" cy=\"205\" r=\"3.0\" style=\"fill:rgb(60, 79, 195);stroke:black;stroke-width:1.0\"/>\n",
       "<circle cx=\"450\" cy=\"293\" r=\"3.0\" style=\"fill:rgb(58, 76, 192);stroke:black;stroke-width:1.0\"/>\n",
       "<circle cx=\"417\" cy=\"193\" r=\"3.0\" style=\"fill:rgb(60, 79, 195);stroke:black;stroke-width:1.0\"/>\n",
       "<circle cx=\"352\" cy=\"245\" r=\"3.0\" style=\"fill:rgb(92, 123, 229);stroke:black;stroke-width:1.0\"/>\n",
       "<circle cx=\"385\" cy=\"155\" r=\"3.0\" style=\"fill:rgb(127, 162, 250);stroke:black;stroke-width:1.0\"/>\n",
       "<circle cx=\"368\" cy=\"147\" r=\"3.0\" style=\"fill:rgb(127, 162, 250);stroke:black;stroke-width:1.0\"/>\n",
       "<circle cx=\"356\" cy=\"161\" r=\"3.0\" style=\"fill:rgb(127, 162, 250);stroke:black;stroke-width:1.0\"/>\n",
       "<circle cx=\"370\" cy=\"310\" r=\"3.0\" style=\"fill:rgb(58, 76, 192);stroke:black;stroke-width:1.0\"/>\n",
       "<circle cx=\"713\" cy=\"235\" r=\"3.0\" style=\"fill:rgb(145, 179, 254);stroke:black;stroke-width:1.0\"/>\n",
       "<circle cx=\"720\" cy=\"259\" r=\"3.0\" style=\"fill:rgb(145, 179, 254);stroke:black;stroke-width:1.0\"/>\n",
       "<circle cx=\"427\" cy=\"268\" r=\"3.0\" style=\"fill:rgb(155, 187, 254);stroke:black;stroke-width:1.0\"/>\n",
       "<circle cx=\"41\" cy=\"271\" r=\"3.0\" style=\"fill:rgb(145, 179, 254);stroke:black;stroke-width:1.0\"/>\n",
       "<circle cx=\"45\" cy=\"296\" r=\"3.0\" style=\"fill:rgb(145, 179, 254);stroke:black;stroke-width:1.0\"/>\n",
       "<circle cx=\"20\" cy=\"286\" r=\"3.0\" style=\"fill:rgb(145, 179, 254);stroke:black;stroke-width:1.0\"/>\n",
       "<circle cx=\"417\" cy=\"280\" r=\"3.0\" style=\"fill:rgb(155, 187, 254);stroke:black;stroke-width:1.0\"/>\n",
       "<circle cx=\"329\" cy=\"275\" r=\"3.0\" style=\"fill:rgb(96, 128, 232);stroke:black;stroke-width:1.0\"/>\n",
       "<circle cx=\"339\" cy=\"292\" r=\"3.0\" style=\"fill:rgb(96, 128, 232);stroke:black;stroke-width:1.0\"/>\n",
       "<text text-anchor=\"start\" x=\"157\" y=\"476\" font-size=\"10\">Dinah</text><text text-anchor=\"start\" x=\"143\" y=\"455\" font-size=\"10\">Dinah'll</text><text text-anchor=\"start\" x=\"508\" y=\"34\" font-size=\"10\">Ada</text><text text-anchor=\"start\" x=\"484\" y=\"20\" font-size=\"10\">Mabel</text><text text-anchor=\"start\" x=\"459\" y=\"262\" font-size=\"10\">Mouse</text><text text-anchor=\"start\" x=\"560\" y=\"517\" font-size=\"10\">William</text><text text-anchor=\"start\" x=\"531\" y=\"520\" font-size=\"10\">Edgar</text><text text-anchor=\"start\" x=\"513\" y=\"270\" font-size=\"10\">Fury</text><text text-anchor=\"start\" x=\"510\" y=\"250\" font-size=\"10\">âLet</text><text text-anchor=\"start\" x=\"134\" y=\"214\" font-size=\"10\">Bill</text><text text-anchor=\"start\" x=\"140\" y=\"239\" font-size=\"10\">Brandy</text><text text-anchor=\"start\" x=\"390\" y=\"261\" font-size=\"10\">Queen</text><text text-anchor=\"start\" x=\"383\" y=\"223\" font-size=\"10\">Hatter</text><text text-anchor=\"start\" x=\"421\" y=\"249\" font-size=\"10\">Hare</text><text text-anchor=\"start\" x=\"388\" y=\"198\" font-size=\"10\">Dormouse</text><text text-anchor=\"start\" x=\"333\" y=\"205\" font-size=\"10\">Time</text><text text-anchor=\"start\" x=\"456\" y=\"293\" font-size=\"10\">the Queen of Hearts</text><text text-anchor=\"start\" x=\"423\" y=\"193\" font-size=\"10\">âUp</text><text text-anchor=\"start\" x=\"358\" y=\"245\" font-size=\"10\">âHe</text><text text-anchor=\"start\" x=\"391\" y=\"155\" font-size=\"10\">Lacie</text><text text-anchor=\"start\" x=\"374\" y=\"147\" font-size=\"10\">Elsie</text><text text-anchor=\"start\" x=\"362\" y=\"161\" font-size=\"10\">Tillie</text><text text-anchor=\"start\" x=\"376\" y=\"310\" font-size=\"10\">Miss</text><text text-anchor=\"start\" x=\"719\" y=\"235\" font-size=\"10\">Kings</text><text text-anchor=\"start\" x=\"726\" y=\"259\" font-size=\"10\">Queens</text><text text-anchor=\"start\" x=\"433\" y=\"268\" font-size=\"10\">Duchess</text><text text-anchor=\"start\" x=\"47\" y=\"271\" font-size=\"10\">Arithmetic Ambition</text><text text-anchor=\"start\" x=\"51\" y=\"296\" font-size=\"10\">Uglification</text><text text-anchor=\"start\" x=\"26\" y=\"286\" font-size=\"10\">Derision</text><text text-anchor=\"start\" x=\"423\" y=\"280\" font-size=\"10\">Lizard</text><text text-anchor=\"start\" x=\"335\" y=\"275\" font-size=\"10\">Turtle</text><text text-anchor=\"start\" x=\"345\" y=\"292\" font-size=\"10\">Wonderland</text></svg>"
      ],
      "text/plain": [
       "<IPython.core.display.SVG object>"
      ]
     },
     "execution_count": 21,
     "metadata": {},
     "output_type": "execute_result"
    }
   ],
   "source": [
    "draw_graph(nx.k_core(G1, 1), show_names=True, node_size=3) # removing isolates for clarity"
   ]
  },
  {
   "cell_type": "markdown",
   "id": "bfdc54fb",
   "metadata": {},
   "source": [
    "## Iteration 2"
   ]
  },
  {
   "cell_type": "code",
   "execution_count": 22,
   "id": "ca35657a",
   "metadata": {},
   "outputs": [
    {
     "name": "stderr",
     "output_type": "stream",
     "text": [
      "C:\\Users\\itsgo\\anaconda3\\Lib\\site-packages\\IPython\\core\\events.py:93: UserWarning: Glyph 128 (\\x80) missing from current font.\n",
      "  func(*args, **kwargs)\n",
      "C:\\Users\\itsgo\\anaconda3\\Lib\\site-packages\\IPython\\core\\events.py:93: UserWarning: Glyph 152 (\\x98) missing from current font.\n",
      "  func(*args, **kwargs)\n",
      "C:\\Users\\itsgo\\anaconda3\\Lib\\site-packages\\IPython\\core\\pylabtools.py:152: UserWarning: Glyph 128 (\\x80) missing from current font.\n",
      "  fig.canvas.print_figure(bytes_io, **kw)\n",
      "C:\\Users\\itsgo\\anaconda3\\Lib\\site-packages\\IPython\\core\\pylabtools.py:152: UserWarning: Glyph 152 (\\x98) missing from current font.\n",
      "  fig.canvas.print_figure(bytes_io, **kw)\n"
     ]
    },
    {
     "data": {
      "image/png": "[encoded data removed]",
      "text/plain": [
       "<Figure size 640x480 with 1 Axes>"
      ]
     },
     "metadata": {},
     "output_type": "display_data"
    }
   ],
   "source": [
    "cent_df = get_cent_df(G1)\n",
    "\n",
    "cent_df[0:20].plot.barh().invert_yaxis()"
   ]
  },
  {
   "cell_type": "code",
   "execution_count": 23,
   "id": "ac71ce17",
   "metadata": {},
   "outputs": [
    {
     "data": {
      "text/plain": [
       "'Queen'"
      ]
     },
     "execution_count": 23,
     "metadata": {},
     "output_type": "execute_result"
    }
   ],
   "source": [
    "drop_node = cent_df.iloc[0].name\n",
    "drop_node"
   ]
  },
  {
   "cell_type": "code",
   "execution_count": 24,
   "id": "65373f4f",
   "metadata": {},
   "outputs": [],
   "source": [
    "G1.remove_node(drop_node)"
   ]
  },
  {
   "cell_type": "code",
   "execution_count": 25,
   "id": "0f4f4e8b",
   "metadata": {},
   "outputs": [
    {
     "data": {
      "image/svg+xml": [
       "<svg xmlns=\"http://www.w3.org/2000/svg\" width=\"901.3750150148874\" height=\"540\">\n",
       "<path stroke-width=\"0.5\" stroke=\"gray\" d=\"M 220 37 202 20\"/>\n",
       "<path stroke-width=\"0.5\" stroke=\"gray\" d=\"M 420 233 374 226\"/>\n",
       "<path stroke-width=\"0.5\" stroke=\"gray\" d=\"M 298 291 344 272\"/>\n",
       "<path stroke-width=\"0.5\" stroke=\"gray\" d=\"M 421 207 374 226\"/>\n",
       "<path stroke-width=\"0.5\" stroke=\"gray\" d=\"M 393 190 374 226\"/>\n",
       "<path stroke-width=\"0.5\" stroke=\"gray\" d=\"M 269 215 312 224\"/>\n",
       "<path stroke-width=\"0.5\" stroke=\"gray\" d=\"M 269 215 286 195\"/>\n",
       "<path stroke-width=\"0.5\" stroke=\"gray\" d=\"M 269 215 265 199\"/>\n",
       "<path stroke-width=\"0.5\" stroke=\"gray\" d=\"M 286 195 312 224\"/>\n",
       "<path stroke-width=\"0.5\" stroke=\"gray\" d=\"M 286 195 269 215\"/>\n",
       "<path stroke-width=\"0.5\" stroke=\"gray\" d=\"M 286 195 265 199\"/>\n",
       "<path stroke-width=\"0.5\" stroke=\"gray\" d=\"M 265 199 312 224\"/>\n",
       "<path stroke-width=\"0.5\" stroke=\"gray\" d=\"M 265 199 269 215\"/>\n",
       "<path stroke-width=\"0.5\" stroke=\"gray\" d=\"M 265 199 286 195\"/>\n",
       "<path stroke-width=\"0.5\" stroke=\"gray\" d=\"M 268 498 286 517\"/>\n",
       "<path stroke-width=\"0.5\" stroke=\"gray\" d=\"M 286 517 268 498\"/>\n",
       "<path stroke-width=\"0.5\" stroke=\"gray\" d=\"M 343 308 377 318\"/>\n",
       "<path stroke-width=\"0.5\" stroke=\"gray\" d=\"M 343 308 344 272\"/>\n",
       "<path stroke-width=\"0.5\" stroke=\"gray\" d=\"M 343 308 363 298\"/>\n",
       "<path stroke-width=\"0.5\" stroke=\"gray\" d=\"M 691 248 704 269\"/>\n",
       "<path stroke-width=\"0.5\" stroke=\"gray\" d=\"M 691 248 720 250\"/>\n",
       "<path stroke-width=\"0.5\" stroke=\"gray\" d=\"M 704 269 691 248\"/>\n",
       "<path stroke-width=\"0.5\" stroke=\"gray\" d=\"M 704 269 720 250\"/>\n",
       "<path stroke-width=\"0.5\" stroke=\"gray\" d=\"M 720 250 691 248\"/>\n",
       "<path stroke-width=\"0.5\" stroke=\"gray\" d=\"M 720 250 704 269\"/>\n",
       "<path stroke-width=\"0.5\" stroke=\"gray\" d=\"M 363 298 377 318\"/>\n",
       "<path stroke-width=\"0.5\" stroke=\"gray\" d=\"M 363 298 344 272\"/>\n",
       "<path stroke-width=\"0.5\" stroke=\"gray\" d=\"M 363 298 343 308\"/>\n",
       "<path stroke-width=\"0.5\" stroke=\"gray\" d=\"M 312 224 265 199\"/>\n",
       "<path stroke-width=\"0.5\" stroke=\"gray\" d=\"M 312 224 286 195\"/>\n",
       "<path stroke-width=\"0.5\" stroke=\"gray\" d=\"M 312 224 269 215\"/>\n",
       "<path stroke-width=\"0.5\" stroke=\"gray\" d=\"M 312 224 344 272\"/>\n",
       "<path stroke-width=\"0.5\" stroke=\"gray\" d=\"M 202 20 220 37\"/>\n",
       "<path stroke-width=\"0.5\" stroke=\"gray\" d=\"M 531 520 539 497\"/>\n",
       "<path stroke-width=\"0.5\" stroke=\"gray\" d=\"M 539 497 531 520\"/>\n",
       "<path stroke-width=\"0.5\" stroke=\"gray\" d=\"M 377 318 397 353\"/>\n",
       "<path stroke-width=\"0.5\" stroke=\"gray\" d=\"M 377 318 417 340\"/>\n",
       "<path stroke-width=\"0.5\" stroke=\"gray\" d=\"M 377 318 344 272\"/>\n",
       "<path stroke-width=\"0.5\" stroke=\"gray\" d=\"M 377 318 343 308\"/>\n",
       "<path stroke-width=\"0.5\" stroke=\"gray\" d=\"M 377 318 363 298\"/>\n",
       "<path stroke-width=\"0.5\" stroke=\"gray\" d=\"M 407 70 381 80\"/>\n",
       "<path stroke-width=\"0.5\" stroke=\"gray\" d=\"M 381 80 407 70\"/>\n",
       "<path stroke-width=\"0.5\" stroke=\"gray\" d=\"M 397 353 377 318\"/>\n",
       "<path stroke-width=\"0.5\" stroke=\"gray\" d=\"M 397 353 417 340\"/>\n",
       "<path stroke-width=\"0.5\" stroke=\"gray\" d=\"M 417 340 377 318\"/>\n",
       "<path stroke-width=\"0.5\" stroke=\"gray\" d=\"M 20 176 22 200\"/>\n",
       "<path stroke-width=\"0.5\" stroke=\"gray\" d=\"M 417 340 397 353\"/>\n",
       "<path stroke-width=\"0.5\" stroke=\"gray\" d=\"M 624 48 646 64\"/>\n",
       "<path stroke-width=\"0.5\" stroke=\"gray\" d=\"M 374 226 344 272\"/>\n",
       "<path stroke-width=\"0.5\" stroke=\"gray\" d=\"M 374 226 312 224\"/>\n",
       "<path stroke-width=\"0.5\" stroke=\"gray\" d=\"M 374 226 420 233\"/>\n",
       "<path stroke-width=\"0.5\" stroke=\"gray\" d=\"M 374 226 421 207\"/>\n",
       "<path stroke-width=\"0.5\" stroke=\"gray\" d=\"M 374 226 393 190\"/>\n",
       "<path stroke-width=\"0.5\" stroke=\"gray\" d=\"M 344 272 377 318\"/>\n",
       "<path stroke-width=\"0.5\" stroke=\"gray\" d=\"M 344 272 374 226\"/>\n",
       "<path stroke-width=\"0.5\" stroke=\"gray\" d=\"M 344 272 312 224\"/>\n",
       "<path stroke-width=\"0.5\" stroke=\"gray\" d=\"M 344 272 298 291\"/>\n",
       "<path stroke-width=\"0.5\" stroke=\"gray\" d=\"M 344 272 343 308\"/>\n",
       "<path stroke-width=\"0.5\" stroke=\"gray\" d=\"M 344 272 363 298\"/>\n",
       "<path stroke-width=\"0.5\" stroke=\"gray\" d=\"M 312 224 374 226\"/>\n",
       "<path stroke-width=\"0.5\" stroke=\"gray\" d=\"M 646 64 624 48\"/>\n",
       "<path stroke-width=\"0.5\" stroke=\"gray\" d=\"M 22 200 20 176\"/>\n",
       "<circle cx=\"220\" cy=\"37\" r=\"3.0\" style=\"fill:rgb(187, 209, 247);stroke:black;stroke-width:1.0\"/>\n",
       "<circle cx=\"202\" cy=\"20\" r=\"3.0\" style=\"fill:rgb(187, 209, 247);stroke:black;stroke-width:1.0\"/>\n",
       "<circle cx=\"531\" cy=\"520\" r=\"3.0\" style=\"fill:rgb(187, 209, 247);stroke:black;stroke-width:1.0\"/>\n",
       "<circle cx=\"539\" cy=\"497\" r=\"3.0\" style=\"fill:rgb(187, 209, 247);stroke:black;stroke-width:1.0\"/>\n",
       "<circle cx=\"377\" cy=\"318\" r=\"3.0\" style=\"fill:rgb(240, 141, 111);stroke:black;stroke-width:1.0\"/>\n",
       "<circle cx=\"407\" cy=\"70\" r=\"3.0\" style=\"fill:rgb(187, 209, 247);stroke:black;stroke-width:1.0\"/>\n",
       "<circle cx=\"381\" cy=\"80\" r=\"3.0\" style=\"fill:rgb(187, 209, 247);stroke:black;stroke-width:1.0\"/>\n",
       "<circle cx=\"397\" cy=\"353\" r=\"3.0\" style=\"fill:rgb(123, 158, 248);stroke:black;stroke-width:1.0\"/>\n",
       "<circle cx=\"417\" cy=\"340\" r=\"3.0\" style=\"fill:rgb(123, 158, 248);stroke:black;stroke-width:1.0\"/>\n",
       "<circle cx=\"646\" cy=\"64\" r=\"3.0\" style=\"fill:rgb(187, 209, 247);stroke:black;stroke-width:1.0\"/>\n",
       "<circle cx=\"624\" cy=\"48\" r=\"3.0\" style=\"fill:rgb(187, 209, 247);stroke:black;stroke-width:1.0\"/>\n",
       "<circle cx=\"374\" cy=\"226\" r=\"3.0\" style=\"fill:rgb(194, 45, 49);stroke:black;stroke-width:1.0\"/>\n",
       "<circle cx=\"344\" cy=\"272\" r=\"3.0\" style=\"fill:rgb(179, 3, 38);stroke:black;stroke-width:1.0\"/>\n",
       "<circle cx=\"312\" cy=\"224\" r=\"3.0\" style=\"fill:rgb(243, 150, 120);stroke:black;stroke-width:1.0\"/>\n",
       "<circle cx=\"420\" cy=\"233\" r=\"3.0\" style=\"fill:rgb(70, 93, 207);stroke:black;stroke-width:1.0\"/>\n",
       "<circle cx=\"298\" cy=\"291\" r=\"3.0\" style=\"fill:rgb(58, 76, 192);stroke:black;stroke-width:1.0\"/>\n",
       "<circle cx=\"421\" cy=\"207\" r=\"3.0\" style=\"fill:rgb(70, 93, 207);stroke:black;stroke-width:1.0\"/>\n",
       "<circle cx=\"393\" cy=\"190\" r=\"3.0\" style=\"fill:rgb(70, 93, 207);stroke:black;stroke-width:1.0\"/>\n",
       "<circle cx=\"269\" cy=\"215\" r=\"3.0\" style=\"fill:rgb(176, 203, 251);stroke:black;stroke-width:1.0\"/>\n",
       "<circle cx=\"286\" cy=\"195\" r=\"3.0\" style=\"fill:rgb(176, 203, 251);stroke:black;stroke-width:1.0\"/>\n",
       "<circle cx=\"265\" cy=\"199\" r=\"3.0\" style=\"fill:rgb(176, 203, 251);stroke:black;stroke-width:1.0\"/>\n",
       "<circle cx=\"268\" cy=\"498\" r=\"3.0\" style=\"fill:rgb(187, 209, 247);stroke:black;stroke-width:1.0\"/>\n",
       "<circle cx=\"286\" cy=\"517\" r=\"3.0\" style=\"fill:rgb(187, 209, 247);stroke:black;stroke-width:1.0\"/>\n",
       "<circle cx=\"343\" cy=\"308\" r=\"3.0\" style=\"fill:rgb(176, 203, 251);stroke:black;stroke-width:1.0\"/>\n",
       "<circle cx=\"691\" cy=\"248\" r=\"3.0\" style=\"fill:rgb(187, 209, 247);stroke:black;stroke-width:1.0\"/>\n",
       "<circle cx=\"704\" cy=\"269\" r=\"3.0\" style=\"fill:rgb(187, 209, 247);stroke:black;stroke-width:1.0\"/>\n",
       "<circle cx=\"720\" cy=\"250\" r=\"3.0\" style=\"fill:rgb(187, 209, 247);stroke:black;stroke-width:1.0\"/>\n",
       "<circle cx=\"363\" cy=\"298\" r=\"3.0\" style=\"fill:rgb(176, 203, 251);stroke:black;stroke-width:1.0\"/>\n",
       "<circle cx=\"20\" cy=\"176\" r=\"3.0\" style=\"fill:rgb(187, 209, 247);stroke:black;stroke-width:1.0\"/>\n",
       "<circle cx=\"22\" cy=\"200\" r=\"3.0\" style=\"fill:rgb(187, 209, 247);stroke:black;stroke-width:1.0\"/>\n",
       "<text text-anchor=\"start\" x=\"226\" y=\"37\" font-size=\"10\">Dinah</text><text text-anchor=\"start\" x=\"208\" y=\"20\" font-size=\"10\">Dinah'll</text><text text-anchor=\"start\" x=\"537\" y=\"520\" font-size=\"10\">Ada</text><text text-anchor=\"start\" x=\"545\" y=\"497\" font-size=\"10\">Mabel</text><text text-anchor=\"start\" x=\"383\" y=\"318\" font-size=\"10\">Mouse</text><text text-anchor=\"start\" x=\"413\" y=\"70\" font-size=\"10\">William</text><text text-anchor=\"start\" x=\"387\" y=\"80\" font-size=\"10\">Edgar</text><text text-anchor=\"start\" x=\"403\" y=\"353\" font-size=\"10\">Fury</text><text text-anchor=\"start\" x=\"423\" y=\"340\" font-size=\"10\">âLet</text><text text-anchor=\"start\" x=\"652\" y=\"64\" font-size=\"10\">Bill</text><text text-anchor=\"start\" x=\"630\" y=\"48\" font-size=\"10\">Brandy</text><text text-anchor=\"start\" x=\"380\" y=\"226\" font-size=\"10\">Hatter</text><text text-anchor=\"start\" x=\"350\" y=\"272\" font-size=\"10\">Hare</text><text text-anchor=\"start\" x=\"318\" y=\"224\" font-size=\"10\">Dormouse</text><text text-anchor=\"start\" x=\"426\" y=\"233\" font-size=\"10\">Time</text><text text-anchor=\"start\" x=\"304\" y=\"291\" font-size=\"10\">the Queen of Hearts</text><text text-anchor=\"start\" x=\"427\" y=\"207\" font-size=\"10\">âUp</text><text text-anchor=\"start\" x=\"399\" y=\"190\" font-size=\"10\">âHe</text><text text-anchor=\"start\" x=\"275\" y=\"215\" font-size=\"10\">Lacie</text><text text-anchor=\"start\" x=\"292\" y=\"195\" font-size=\"10\">Elsie</text><text text-anchor=\"start\" x=\"271\" y=\"199\" font-size=\"10\">Tillie</text><text text-anchor=\"start\" x=\"274\" y=\"498\" font-size=\"10\">Kings</text><text text-anchor=\"start\" x=\"292\" y=\"517\" font-size=\"10\">Queens</text><text text-anchor=\"start\" x=\"349\" y=\"308\" font-size=\"10\">Duchess</text><text text-anchor=\"start\" x=\"697\" y=\"248\" font-size=\"10\">Arithmetic Ambition</text><text text-anchor=\"start\" x=\"710\" y=\"269\" font-size=\"10\">Uglification</text><text text-anchor=\"start\" x=\"726\" y=\"250\" font-size=\"10\">Derision</text><text text-anchor=\"start\" x=\"369\" y=\"298\" font-size=\"10\">Lizard</text><text text-anchor=\"start\" x=\"26\" y=\"176\" font-size=\"10\">Turtle</text><text text-anchor=\"start\" x=\"28\" y=\"200\" font-size=\"10\">Wonderland</text></svg>"
      ],
      "text/plain": [
       "<IPython.core.display.SVG object>"
      ]
     },
     "execution_count": 25,
     "metadata": {},
     "output_type": "execute_result"
    }
   ],
   "source": [
    "draw_graph(nx.k_core(G1, 1), show_names=True, node_size=3) # removing isolates for clarity"
   ]
  },
  {
   "cell_type": "markdown",
   "id": "644e1f7b",
   "metadata": {},
   "source": [
    "## Iteration 3"
   ]
  },
  {
   "cell_type": "code",
   "execution_count": 26,
   "id": "b6da0b27",
   "metadata": {},
   "outputs": [
    {
     "name": "stderr",
     "output_type": "stream",
     "text": [
      "C:\\Users\\itsgo\\anaconda3\\Lib\\site-packages\\IPython\\core\\events.py:93: UserWarning: Glyph 128 (\\x80) missing from current font.\n",
      "  func(*args, **kwargs)\n",
      "C:\\Users\\itsgo\\anaconda3\\Lib\\site-packages\\IPython\\core\\events.py:93: UserWarning: Glyph 152 (\\x98) missing from current font.\n",
      "  func(*args, **kwargs)\n",
      "C:\\Users\\itsgo\\anaconda3\\Lib\\site-packages\\IPython\\core\\pylabtools.py:152: UserWarning: Glyph 128 (\\x80) missing from current font.\n",
      "  fig.canvas.print_figure(bytes_io, **kw)\n",
      "C:\\Users\\itsgo\\anaconda3\\Lib\\site-packages\\IPython\\core\\pylabtools.py:152: UserWarning: Glyph 152 (\\x98) missing from current font.\n",
      "  fig.canvas.print_figure(bytes_io, **kw)\n"
     ]
    },
    {
     "data": {
      "image/png": "[encoded data removed]",
      "text/plain": [
       "<Figure size 640x480 with 1 Axes>"
      ]
     },
     "metadata": {},
     "output_type": "display_data"
    }
   ],
   "source": [
    "cent_df = get_cent_df(G1)\n",
    "\n",
    "cent_df[0:20].plot.barh().invert_yaxis()"
   ]
  },
  {
   "cell_type": "code",
   "execution_count": 27,
   "id": "8b881a98",
   "metadata": {},
   "outputs": [
    {
     "data": {
      "text/plain": [
       "'Hare'"
      ]
     },
     "execution_count": 27,
     "metadata": {},
     "output_type": "execute_result"
    }
   ],
   "source": [
    "drop_node = cent_df.iloc[0].name\n",
    "drop_node"
   ]
  },
  {
   "cell_type": "code",
   "execution_count": 28,
   "id": "cdc43d1e",
   "metadata": {},
   "outputs": [],
   "source": [
    "G1.remove_node(drop_node)"
   ]
  },
  {
   "cell_type": "code",
   "execution_count": 29,
   "id": "b5446422",
   "metadata": {},
   "outputs": [
    {
     "data": {
      "image/svg+xml": [
       "<svg xmlns=\"http://www.w3.org/2000/svg\" width=\"800.0\" height=\"540\">\n",
       "<path stroke-width=\"0.5\" stroke=\"gray\" d=\"M 96 171 78 183\"/>\n",
       "<path stroke-width=\"0.5\" stroke=\"gray\" d=\"M 281 323 304 336\"/>\n",
       "<path stroke-width=\"0.5\" stroke=\"gray\" d=\"M 281 323 286 309\"/>\n",
       "<path stroke-width=\"0.5\" stroke=\"gray\" d=\"M 281 323 303 314\"/>\n",
       "<path stroke-width=\"0.5\" stroke=\"gray\" d=\"M 286 309 304 336\"/>\n",
       "<path stroke-width=\"0.5\" stroke=\"gray\" d=\"M 286 309 281 323\"/>\n",
       "<path stroke-width=\"0.5\" stroke=\"gray\" d=\"M 286 309 303 314\"/>\n",
       "<path stroke-width=\"0.5\" stroke=\"gray\" d=\"M 303 314 304 336\"/>\n",
       "<path stroke-width=\"0.5\" stroke=\"gray\" d=\"M 303 314 281 323\"/>\n",
       "<path stroke-width=\"0.5\" stroke=\"gray\" d=\"M 303 314 286 309\"/>\n",
       "<path stroke-width=\"0.5\" stroke=\"gray\" d=\"M 518 230 529 247\"/>\n",
       "<path stroke-width=\"0.5\" stroke=\"gray\" d=\"M 529 247 518 230\"/>\n",
       "<path stroke-width=\"0.5\" stroke=\"gray\" d=\"M 20 414 42 399\"/>\n",
       "<path stroke-width=\"0.5\" stroke=\"gray\" d=\"M 20 414 38 423\"/>\n",
       "<path stroke-width=\"0.5\" stroke=\"gray\" d=\"M 575 125 595 135\"/>\n",
       "<path stroke-width=\"0.5\" stroke=\"gray\" d=\"M 575 125 575 144\"/>\n",
       "<path stroke-width=\"0.5\" stroke=\"gray\" d=\"M 595 135 575 125\"/>\n",
       "<path stroke-width=\"0.5\" stroke=\"gray\" d=\"M 595 135 575 144\"/>\n",
       "<path stroke-width=\"0.5\" stroke=\"gray\" d=\"M 575 144 575 125\"/>\n",
       "<path stroke-width=\"0.5\" stroke=\"gray\" d=\"M 575 144 595 135\"/>\n",
       "<path stroke-width=\"0.5\" stroke=\"gray\" d=\"M 38 423 42 399\"/>\n",
       "<path stroke-width=\"0.5\" stroke=\"gray\" d=\"M 38 423 20 414\"/>\n",
       "<path stroke-width=\"0.5\" stroke=\"gray\" d=\"M 348 397 330 372\"/>\n",
       "<path stroke-width=\"0.5\" stroke=\"gray\" d=\"M 313 395 330 372\"/>\n",
       "<path stroke-width=\"0.5\" stroke=\"gray\" d=\"M 363 372 330 372\"/>\n",
       "<path stroke-width=\"0.5\" stroke=\"gray\" d=\"M 304 336 303 314\"/>\n",
       "<path stroke-width=\"0.5\" stroke=\"gray\" d=\"M 78 183 96 171\"/>\n",
       "<path stroke-width=\"0.5\" stroke=\"gray\" d=\"M 166 20 157 37\"/>\n",
       "<path stroke-width=\"0.5\" stroke=\"gray\" d=\"M 157 37 166 20\"/>\n",
       "<path stroke-width=\"0.5\" stroke=\"gray\" d=\"M 42 399 45 374\"/>\n",
       "<path stroke-width=\"0.5\" stroke=\"gray\" d=\"M 42 399 64 383\"/>\n",
       "<path stroke-width=\"0.5\" stroke=\"gray\" d=\"M 42 399 20 414\"/>\n",
       "<path stroke-width=\"0.5\" stroke=\"gray\" d=\"M 42 399 38 423\"/>\n",
       "<path stroke-width=\"0.5\" stroke=\"gray\" d=\"M 238 520 223 505\"/>\n",
       "<path stroke-width=\"0.5\" stroke=\"gray\" d=\"M 223 505 238 520\"/>\n",
       "<path stroke-width=\"0.5\" stroke=\"gray\" d=\"M 45 374 42 399\"/>\n",
       "<path stroke-width=\"0.5\" stroke=\"gray\" d=\"M 396 202 406 219\"/>\n",
       "<path stroke-width=\"0.5\" stroke=\"gray\" d=\"M 45 374 64 383\"/>\n",
       "<path stroke-width=\"0.5\" stroke=\"gray\" d=\"M 64 383 45 374\"/>\n",
       "<path stroke-width=\"0.5\" stroke=\"gray\" d=\"M 697 312 720 315\"/>\n",
       "<path stroke-width=\"0.5\" stroke=\"gray\" d=\"M 720 315 697 312\"/>\n",
       "<path stroke-width=\"0.5\" stroke=\"gray\" d=\"M 330 372 304 336\"/>\n",
       "<path stroke-width=\"0.5\" stroke=\"gray\" d=\"M 330 372 363 372\"/>\n",
       "<path stroke-width=\"0.5\" stroke=\"gray\" d=\"M 330 372 313 395\"/>\n",
       "<path stroke-width=\"0.5\" stroke=\"gray\" d=\"M 330 372 348 397\"/>\n",
       "<path stroke-width=\"0.5\" stroke=\"gray\" d=\"M 304 336 330 372\"/>\n",
       "<path stroke-width=\"0.5\" stroke=\"gray\" d=\"M 304 336 281 323\"/>\n",
       "<path stroke-width=\"0.5\" stroke=\"gray\" d=\"M 304 336 286 309\"/>\n",
       "<path stroke-width=\"0.5\" stroke=\"gray\" d=\"M 64 383 42 399\"/>\n",
       "<path stroke-width=\"0.5\" stroke=\"gray\" d=\"M 406 219 396 202\"/>\n",
       "<circle cx=\"96\" cy=\"171\" r=\"3.0\" style=\"fill:rgb(180, 205, 250);stroke:black;stroke-width:1.0\"/>\n",
       "<circle cx=\"78\" cy=\"183\" r=\"3.0\" style=\"fill:rgb(180, 205, 250);stroke:black;stroke-width:1.0\"/>\n",
       "<circle cx=\"166\" cy=\"20\" r=\"3.0\" style=\"fill:rgb(180, 205, 250);stroke:black;stroke-width:1.0\"/>\n",
       "<circle cx=\"157\" cy=\"37\" r=\"3.0\" style=\"fill:rgb(180, 205, 250);stroke:black;stroke-width:1.0\"/>\n",
       "<circle cx=\"42\" cy=\"399\" r=\"3.0\" style=\"fill:rgb(222, 98, 78);stroke:black;stroke-width:1.0\"/>\n",
       "<circle cx=\"238\" cy=\"520\" r=\"3.0\" style=\"fill:rgb(180, 205, 250);stroke:black;stroke-width:1.0\"/>\n",
       "<circle cx=\"223\" cy=\"505\" r=\"3.0\" style=\"fill:rgb(180, 205, 250);stroke:black;stroke-width:1.0\"/>\n",
       "<circle cx=\"45\" cy=\"374\" r=\"3.0\" style=\"fill:rgb(134, 169, 252);stroke:black;stroke-width:1.0\"/>\n",
       "<circle cx=\"64\" cy=\"383\" r=\"3.0\" style=\"fill:rgb(134, 169, 252);stroke:black;stroke-width:1.0\"/>\n",
       "<circle cx=\"697\" cy=\"312\" r=\"3.0\" style=\"fill:rgb(180, 205, 250);stroke:black;stroke-width:1.0\"/>\n",
       "<circle cx=\"720\" cy=\"315\" r=\"3.0\" style=\"fill:rgb(180, 205, 250);stroke:black;stroke-width:1.0\"/>\n",
       "<circle cx=\"330\" cy=\"372\" r=\"3.0\" style=\"fill:rgb(179, 3, 38);stroke:black;stroke-width:1.0\"/>\n",
       "<circle cx=\"304\" cy=\"336\" r=\"3.0\" style=\"fill:rgb(245, 158, 127);stroke:black;stroke-width:1.0\"/>\n",
       "<circle cx=\"363\" cy=\"372\" r=\"3.0\" style=\"fill:rgb(58, 76, 192);stroke:black;stroke-width:1.0\"/>\n",
       "<circle cx=\"313\" cy=\"395\" r=\"3.0\" style=\"fill:rgb(58, 76, 192);stroke:black;stroke-width:1.0\"/>\n",
       "<circle cx=\"348\" cy=\"397\" r=\"3.0\" style=\"fill:rgb(58, 76, 192);stroke:black;stroke-width:1.0\"/>\n",
       "<circle cx=\"281\" cy=\"323\" r=\"3.0\" style=\"fill:rgb(189, 210, 246);stroke:black;stroke-width:1.0\"/>\n",
       "<circle cx=\"286\" cy=\"309\" r=\"3.0\" style=\"fill:rgb(189, 210, 246);stroke:black;stroke-width:1.0\"/>\n",
       "<circle cx=\"303\" cy=\"314\" r=\"3.0\" style=\"fill:rgb(189, 210, 246);stroke:black;stroke-width:1.0\"/>\n",
       "<circle cx=\"518\" cy=\"230\" r=\"3.0\" style=\"fill:rgb(180, 205, 250);stroke:black;stroke-width:1.0\"/>\n",
       "<circle cx=\"529\" cy=\"247\" r=\"3.0\" style=\"fill:rgb(180, 205, 250);stroke:black;stroke-width:1.0\"/>\n",
       "<circle cx=\"20\" cy=\"414\" r=\"3.0\" style=\"fill:rgb(134, 169, 252);stroke:black;stroke-width:1.0\"/>\n",
       "<circle cx=\"575\" cy=\"125\" r=\"3.0\" style=\"fill:rgb(180, 205, 250);stroke:black;stroke-width:1.0\"/>\n",
       "<circle cx=\"595\" cy=\"135\" r=\"3.0\" style=\"fill:rgb(180, 205, 250);stroke:black;stroke-width:1.0\"/>\n",
       "<circle cx=\"575\" cy=\"144\" r=\"3.0\" style=\"fill:rgb(180, 205, 250);stroke:black;stroke-width:1.0\"/>\n",
       "<circle cx=\"38\" cy=\"423\" r=\"3.0\" style=\"fill:rgb(134, 169, 252);stroke:black;stroke-width:1.0\"/>\n",
       "<circle cx=\"396\" cy=\"202\" r=\"3.0\" style=\"fill:rgb(180, 205, 250);stroke:black;stroke-width:1.0\"/>\n",
       "<circle cx=\"406\" cy=\"219\" r=\"3.0\" style=\"fill:rgb(180, 205, 250);stroke:black;stroke-width:1.0\"/>\n",
       "<text text-anchor=\"start\" x=\"102\" y=\"171\" font-size=\"10\">Dinah</text><text text-anchor=\"start\" x=\"84\" y=\"183\" font-size=\"10\">Dinah'll</text><text text-anchor=\"start\" x=\"172\" y=\"20\" font-size=\"10\">Ada</text><text text-anchor=\"start\" x=\"163\" y=\"37\" font-size=\"10\">Mabel</text><text text-anchor=\"start\" x=\"48\" y=\"399\" font-size=\"10\">Mouse</text><text text-anchor=\"start\" x=\"244\" y=\"520\" font-size=\"10\">William</text><text text-anchor=\"start\" x=\"229\" y=\"505\" font-size=\"10\">Edgar</text><text text-anchor=\"start\" x=\"51\" y=\"374\" font-size=\"10\">Fury</text><text text-anchor=\"start\" x=\"70\" y=\"383\" font-size=\"10\">âLet</text><text text-anchor=\"start\" x=\"703\" y=\"312\" font-size=\"10\">Bill</text><text text-anchor=\"start\" x=\"726\" y=\"315\" font-size=\"10\">Brandy</text><text text-anchor=\"start\" x=\"336\" y=\"372\" font-size=\"10\">Hatter</text><text text-anchor=\"start\" x=\"310\" y=\"336\" font-size=\"10\">Dormouse</text><text text-anchor=\"start\" x=\"369\" y=\"372\" font-size=\"10\">Time</text><text text-anchor=\"start\" x=\"319\" y=\"395\" font-size=\"10\">âUp</text><text text-anchor=\"start\" x=\"354\" y=\"397\" font-size=\"10\">âHe</text><text text-anchor=\"start\" x=\"287\" y=\"323\" font-size=\"10\">Lacie</text><text text-anchor=\"start\" x=\"292\" y=\"309\" font-size=\"10\">Elsie</text><text text-anchor=\"start\" x=\"309\" y=\"314\" font-size=\"10\">Tillie</text><text text-anchor=\"start\" x=\"524\" y=\"230\" font-size=\"10\">Kings</text><text text-anchor=\"start\" x=\"535\" y=\"247\" font-size=\"10\">Queens</text><text text-anchor=\"start\" x=\"26\" y=\"414\" font-size=\"10\">Duchess</text><text text-anchor=\"start\" x=\"581\" y=\"125\" font-size=\"10\">Arithmetic Ambition</text><text text-anchor=\"start\" x=\"601\" y=\"135\" font-size=\"10\">Uglification</text><text text-anchor=\"start\" x=\"581\" y=\"144\" font-size=\"10\">Derision</text><text text-anchor=\"start\" x=\"44\" y=\"423\" font-size=\"10\">Lizard</text><text text-anchor=\"start\" x=\"402\" y=\"202\" font-size=\"10\">Turtle</text><text text-anchor=\"start\" x=\"412\" y=\"219\" font-size=\"10\">Wonderland</text></svg>"
      ],
      "text/plain": [
       "<IPython.core.display.SVG object>"
      ]
     },
     "execution_count": 29,
     "metadata": {},
     "output_type": "execute_result"
    }
   ],
   "source": [
    "draw_graph(nx.k_core(G1, 1), show_names=True, node_size=3) # removing isolates for clarity"
   ]
  },
  {
   "cell_type": "markdown",
   "id": "36fccded",
   "metadata": {},
   "source": [
    "## Iteration 4"
   ]
  },
  {
   "cell_type": "code",
   "execution_count": 30,
   "id": "9d8e4e3b",
   "metadata": {},
   "outputs": [
    {
     "name": "stderr",
     "output_type": "stream",
     "text": [
      "C:\\Users\\itsgo\\anaconda3\\Lib\\site-packages\\IPython\\core\\events.py:93: UserWarning: Glyph 128 (\\x80) missing from current font.\n",
      "  func(*args, **kwargs)\n",
      "C:\\Users\\itsgo\\anaconda3\\Lib\\site-packages\\IPython\\core\\events.py:93: UserWarning: Glyph 152 (\\x98) missing from current font.\n",
      "  func(*args, **kwargs)\n",
      "C:\\Users\\itsgo\\anaconda3\\Lib\\site-packages\\IPython\\core\\pylabtools.py:152: UserWarning: Glyph 128 (\\x80) missing from current font.\n",
      "  fig.canvas.print_figure(bytes_io, **kw)\n",
      "C:\\Users\\itsgo\\anaconda3\\Lib\\site-packages\\IPython\\core\\pylabtools.py:152: UserWarning: Glyph 152 (\\x98) missing from current font.\n",
      "  fig.canvas.print_figure(bytes_io, **kw)\n"
     ]
    },
    {
     "data": {
      "image/png": "[encoded data removed]",
      "text/plain": [
       "<Figure size 640x480 with 1 Axes>"
      ]
     },
     "metadata": {},
     "output_type": "display_data"
    }
   ],
   "source": [
    "cent_df = get_cent_df(G1)\n",
    "\n",
    "cent_df[0:20].plot.barh().invert_yaxis()"
   ]
  },
  {
   "cell_type": "code",
   "execution_count": 31,
   "id": "08891097",
   "metadata": {},
   "outputs": [
    {
     "data": {
      "text/plain": [
       "'Hatter'"
      ]
     },
     "execution_count": 31,
     "metadata": {},
     "output_type": "execute_result"
    }
   ],
   "source": [
    "drop_node = cent_df.iloc[0].name\n",
    "drop_node"
   ]
  },
  {
   "cell_type": "code",
   "execution_count": 32,
   "id": "0a4ef997",
   "metadata": {},
   "outputs": [],
   "source": [
    "G1.remove_node(drop_node)"
   ]
  },
  {
   "cell_type": "code",
   "execution_count": 33,
   "id": "ef0ca3c7",
   "metadata": {},
   "outputs": [
    {
     "data": {
      "image/svg+xml": [
       "<svg xmlns=\"http://www.w3.org/2000/svg\" width=\"800.0\" height=\"540\">\n",
       "<path stroke-width=\"0.5\" stroke=\"gray\" d=\"M 399 44 390 26\"/>\n",
       "<path stroke-width=\"0.5\" stroke=\"gray\" d=\"M 708 242 699 219\"/>\n",
       "<path stroke-width=\"0.5\" stroke=\"gray\" d=\"M 708 242 720 227\"/>\n",
       "<path stroke-width=\"0.5\" stroke=\"gray\" d=\"M 720 227 688 234\"/>\n",
       "<path stroke-width=\"0.5\" stroke=\"gray\" d=\"M 720 227 699 219\"/>\n",
       "<path stroke-width=\"0.5\" stroke=\"gray\" d=\"M 720 227 708 242\"/>\n",
       "<path stroke-width=\"0.5\" stroke=\"gray\" d=\"M 472 224 478 243\"/>\n",
       "<path stroke-width=\"0.5\" stroke=\"gray\" d=\"M 478 243 472 224\"/>\n",
       "<path stroke-width=\"0.5\" stroke=\"gray\" d=\"M 27 323 36 347\"/>\n",
       "<path stroke-width=\"0.5\" stroke=\"gray\" d=\"M 27 323 53 326\"/>\n",
       "<path stroke-width=\"0.5\" stroke=\"gray\" d=\"M 314 319 314 299\"/>\n",
       "<path stroke-width=\"0.5\" stroke=\"gray\" d=\"M 314 319 290 308\"/>\n",
       "<path stroke-width=\"0.5\" stroke=\"gray\" d=\"M 314 299 314 319\"/>\n",
       "<path stroke-width=\"0.5\" stroke=\"gray\" d=\"M 314 299 290 308\"/>\n",
       "<path stroke-width=\"0.5\" stroke=\"gray\" d=\"M 290 308 314 319\"/>\n",
       "<path stroke-width=\"0.5\" stroke=\"gray\" d=\"M 290 308 314 299\"/>\n",
       "<path stroke-width=\"0.5\" stroke=\"gray\" d=\"M 53 326 36 347\"/>\n",
       "<path stroke-width=\"0.5\" stroke=\"gray\" d=\"M 53 326 27 323\"/>\n",
       "<path stroke-width=\"0.5\" stroke=\"gray\" d=\"M 708 242 688 234\"/>\n",
       "<path stroke-width=\"0.5\" stroke=\"gray\" d=\"M 699 219 720 227\"/>\n",
       "<path stroke-width=\"0.5\" stroke=\"gray\" d=\"M 699 219 708 242\"/>\n",
       "<path stroke-width=\"0.5\" stroke=\"gray\" d=\"M 699 219 688 234\"/>\n",
       "<path stroke-width=\"0.5\" stroke=\"gray\" d=\"M 390 26 399 44\"/>\n",
       "<path stroke-width=\"0.5\" stroke=\"gray\" d=\"M 111 31 137 26\"/>\n",
       "<path stroke-width=\"0.5\" stroke=\"gray\" d=\"M 137 26 111 31\"/>\n",
       "<path stroke-width=\"0.5\" stroke=\"gray\" d=\"M 36 347 20 369\"/>\n",
       "<path stroke-width=\"0.5\" stroke=\"gray\" d=\"M 36 347 45 372\"/>\n",
       "<path stroke-width=\"0.5\" stroke=\"gray\" d=\"M 36 347 27 323\"/>\n",
       "<path stroke-width=\"0.5\" stroke=\"gray\" d=\"M 36 347 53 326\"/>\n",
       "<path stroke-width=\"0.5\" stroke=\"gray\" d=\"M 244 520 271 518\"/>\n",
       "<path stroke-width=\"0.5\" stroke=\"gray\" d=\"M 229 139 202 140\"/>\n",
       "<path stroke-width=\"0.5\" stroke=\"gray\" d=\"M 271 518 244 520\"/>\n",
       "<path stroke-width=\"0.5\" stroke=\"gray\" d=\"M 20 369 45 372\"/>\n",
       "<path stroke-width=\"0.5\" stroke=\"gray\" d=\"M 45 372 36 347\"/>\n",
       "<path stroke-width=\"0.5\" stroke=\"gray\" d=\"M 45 372 20 369\"/>\n",
       "<path stroke-width=\"0.5\" stroke=\"gray\" d=\"M 581 26 555 20\"/>\n",
       "<path stroke-width=\"0.5\" stroke=\"gray\" d=\"M 555 20 581 26\"/>\n",
       "<path stroke-width=\"0.5\" stroke=\"gray\" d=\"M 688 234 699 219\"/>\n",
       "<path stroke-width=\"0.5\" stroke=\"gray\" d=\"M 688 234 708 242\"/>\n",
       "<path stroke-width=\"0.5\" stroke=\"gray\" d=\"M 688 234 720 227\"/>\n",
       "<path stroke-width=\"0.5\" stroke=\"gray\" d=\"M 20 369 36 347\"/>\n",
       "<path stroke-width=\"0.5\" stroke=\"gray\" d=\"M 202 140 229 139\"/>\n",
       "<circle cx=\"399\" cy=\"44\" r=\"3.0\" style=\"fill:rgb(120, 155, 247);stroke:black;stroke-width:1.0\"/>\n",
       "<circle cx=\"390\" cy=\"26\" r=\"3.0\" style=\"fill:rgb(120, 155, 247);stroke:black;stroke-width:1.0\"/>\n",
       "<circle cx=\"111\" cy=\"31\" r=\"3.0\" style=\"fill:rgb(120, 155, 247);stroke:black;stroke-width:1.0\"/>\n",
       "<circle cx=\"137\" cy=\"26\" r=\"3.0\" style=\"fill:rgb(120, 155, 247);stroke:black;stroke-width:1.0\"/>\n",
       "<circle cx=\"36\" cy=\"347\" r=\"3.0\" style=\"fill:rgb(179, 3, 38);stroke:black;stroke-width:1.0\"/>\n",
       "<circle cx=\"244\" cy=\"520\" r=\"3.0\" style=\"fill:rgb(120, 155, 247);stroke:black;stroke-width:1.0\"/>\n",
       "<circle cx=\"271\" cy=\"518\" r=\"3.0\" style=\"fill:rgb(120, 155, 247);stroke:black;stroke-width:1.0\"/>\n",
       "<circle cx=\"20\" cy=\"369\" r=\"3.0\" style=\"fill:rgb(58, 76, 192);stroke:black;stroke-width:1.0\"/>\n",
       "<circle cx=\"45\" cy=\"372\" r=\"3.0\" style=\"fill:rgb(58, 76, 192);stroke:black;stroke-width:1.0\"/>\n",
       "<circle cx=\"581\" cy=\"26\" r=\"3.0\" style=\"fill:rgb(120, 155, 247);stroke:black;stroke-width:1.0\"/>\n",
       "<circle cx=\"555\" cy=\"20\" r=\"3.0\" style=\"fill:rgb(120, 155, 247);stroke:black;stroke-width:1.0\"/>\n",
       "<circle cx=\"688\" cy=\"234\" r=\"3.0\" style=\"fill:rgb(120, 155, 247);stroke:black;stroke-width:1.0\"/>\n",
       "<circle cx=\"699\" cy=\"219\" r=\"3.0\" style=\"fill:rgb(120, 155, 247);stroke:black;stroke-width:1.0\"/>\n",
       "<circle cx=\"708\" cy=\"242\" r=\"3.0\" style=\"fill:rgb(120, 155, 247);stroke:black;stroke-width:1.0\"/>\n",
       "<circle cx=\"720\" cy=\"227\" r=\"3.0\" style=\"fill:rgb(120, 155, 247);stroke:black;stroke-width:1.0\"/>\n",
       "<circle cx=\"472\" cy=\"224\" r=\"3.0\" style=\"fill:rgb(120, 155, 247);stroke:black;stroke-width:1.0\"/>\n",
       "<circle cx=\"478\" cy=\"243\" r=\"3.0\" style=\"fill:rgb(120, 155, 247);stroke:black;stroke-width:1.0\"/>\n",
       "<circle cx=\"27\" cy=\"323\" r=\"3.0\" style=\"fill:rgb(58, 76, 192);stroke:black;stroke-width:1.0\"/>\n",
       "<circle cx=\"314\" cy=\"319\" r=\"3.0\" style=\"fill:rgb(120, 155, 247);stroke:black;stroke-width:1.0\"/>\n",
       "<circle cx=\"314\" cy=\"299\" r=\"3.0\" style=\"fill:rgb(120, 155, 247);stroke:black;stroke-width:1.0\"/>\n",
       "<circle cx=\"290\" cy=\"308\" r=\"3.0\" style=\"fill:rgb(120, 155, 247);stroke:black;stroke-width:1.0\"/>\n",
       "<circle cx=\"53\" cy=\"326\" r=\"3.0\" style=\"fill:rgb(58, 76, 192);stroke:black;stroke-width:1.0\"/>\n",
       "<circle cx=\"229\" cy=\"139\" r=\"3.0\" style=\"fill:rgb(120, 155, 247);stroke:black;stroke-width:1.0\"/>\n",
       "<circle cx=\"202\" cy=\"140\" r=\"3.0\" style=\"fill:rgb(120, 155, 247);stroke:black;stroke-width:1.0\"/>\n",
       "<text text-anchor=\"start\" x=\"405\" y=\"44\" font-size=\"10\">Dinah</text><text text-anchor=\"start\" x=\"396\" y=\"26\" font-size=\"10\">Dinah'll</text><text text-anchor=\"start\" x=\"117\" y=\"31\" font-size=\"10\">Ada</text><text text-anchor=\"start\" x=\"143\" y=\"26\" font-size=\"10\">Mabel</text><text text-anchor=\"start\" x=\"42\" y=\"347\" font-size=\"10\">Mouse</text><text text-anchor=\"start\" x=\"250\" y=\"520\" font-size=\"10\">William</text><text text-anchor=\"start\" x=\"277\" y=\"518\" font-size=\"10\">Edgar</text><text text-anchor=\"start\" x=\"26\" y=\"369\" font-size=\"10\">Fury</text><text text-anchor=\"start\" x=\"51\" y=\"372\" font-size=\"10\">âLet</text><text text-anchor=\"start\" x=\"587\" y=\"26\" font-size=\"10\">Bill</text><text text-anchor=\"start\" x=\"561\" y=\"20\" font-size=\"10\">Brandy</text><text text-anchor=\"start\" x=\"694\" y=\"234\" font-size=\"10\">Dormouse</text><text text-anchor=\"start\" x=\"705\" y=\"219\" font-size=\"10\">Lacie</text><text text-anchor=\"start\" x=\"714\" y=\"242\" font-size=\"10\">Elsie</text><text text-anchor=\"start\" x=\"726\" y=\"227\" font-size=\"10\">Tillie</text><text text-anchor=\"start\" x=\"478\" y=\"224\" font-size=\"10\">Kings</text><text text-anchor=\"start\" x=\"484\" y=\"243\" font-size=\"10\">Queens</text><text text-anchor=\"start\" x=\"33\" y=\"323\" font-size=\"10\">Duchess</text><text text-anchor=\"start\" x=\"320\" y=\"319\" font-size=\"10\">Arithmetic Ambition</text><text text-anchor=\"start\" x=\"320\" y=\"299\" font-size=\"10\">Uglification</text><text text-anchor=\"start\" x=\"296\" y=\"308\" font-size=\"10\">Derision</text><text text-anchor=\"start\" x=\"59\" y=\"326\" font-size=\"10\">Lizard</text><text text-anchor=\"start\" x=\"235\" y=\"139\" font-size=\"10\">Turtle</text><text text-anchor=\"start\" x=\"208\" y=\"140\" font-size=\"10\">Wonderland</text></svg>"
      ],
      "text/plain": [
       "<IPython.core.display.SVG object>"
      ]
     },
     "execution_count": 33,
     "metadata": {},
     "output_type": "execute_result"
    }
   ],
   "source": [
    "draw_graph(nx.k_core(G1, 1), show_names=True, node_size=3) # removing isolates for clarity"
   ]
  },
  {
   "cell_type": "code",
   "execution_count": 34,
   "id": "ed716aea",
   "metadata": {},
   "outputs": [
    {
     "data": {
      "image/svg+xml": [
       "<svg xmlns=\"http://www.w3.org/2000/svg\" width=\"840.0\" height=\"540\">\n",
       "<path stroke-width=\"0.5\" stroke=\"gray\" d=\"M 342 115 338 104\"/>\n",
       "<path stroke-width=\"0.5\" stroke=\"gray\" d=\"M 452 100 441 90\"/>\n",
       "<path stroke-width=\"0.5\" stroke=\"gray\" d=\"M 452 100 441 100\"/>\n",
       "<path stroke-width=\"0.5\" stroke=\"gray\" d=\"M 441 100 452 90\"/>\n",
       "<path stroke-width=\"0.5\" stroke=\"gray\" d=\"M 441 100 441 90\"/>\n",
       "<path stroke-width=\"0.5\" stroke=\"gray\" d=\"M 441 100 452 100\"/>\n",
       "<path stroke-width=\"0.5\" stroke=\"gray\" d=\"M 507 321 509 332\"/>\n",
       "<path stroke-width=\"0.5\" stroke=\"gray\" d=\"M 509 332 507 321\"/>\n",
       "<path stroke-width=\"0.5\" stroke=\"gray\" d=\"M 303 378 307 364\"/>\n",
       "<path stroke-width=\"0.5\" stroke=\"gray\" d=\"M 303 378 315 377\"/>\n",
       "<path stroke-width=\"0.5\" stroke=\"gray\" d=\"M 427 448 430 437\"/>\n",
       "<path stroke-width=\"0.5\" stroke=\"gray\" d=\"M 427 448 439 445\"/>\n",
       "<path stroke-width=\"0.5\" stroke=\"gray\" d=\"M 430 437 427 448\"/>\n",
       "<path stroke-width=\"0.5\" stroke=\"gray\" d=\"M 430 437 439 445\"/>\n",
       "<path stroke-width=\"0.5\" stroke=\"gray\" d=\"M 439 445 427 448\"/>\n",
       "<path stroke-width=\"0.5\" stroke=\"gray\" d=\"M 439 445 430 437\"/>\n",
       "<path stroke-width=\"0.5\" stroke=\"gray\" d=\"M 315 377 307 364\"/>\n",
       "<path stroke-width=\"0.5\" stroke=\"gray\" d=\"M 315 377 303 378\"/>\n",
       "<path stroke-width=\"0.5\" stroke=\"gray\" d=\"M 452 100 452 90\"/>\n",
       "<path stroke-width=\"0.5\" stroke=\"gray\" d=\"M 441 90 441 100\"/>\n",
       "<path stroke-width=\"0.5\" stroke=\"gray\" d=\"M 441 90 452 100\"/>\n",
       "<path stroke-width=\"0.5\" stroke=\"gray\" d=\"M 441 90 452 90\"/>\n",
       "<path stroke-width=\"0.5\" stroke=\"gray\" d=\"M 338 104 342 115\"/>\n",
       "<path stroke-width=\"0.5\" stroke=\"gray\" d=\"M 259 258 253 268\"/>\n",
       "<path stroke-width=\"0.5\" stroke=\"gray\" d=\"M 253 268 259 258\"/>\n",
       "<path stroke-width=\"0.5\" stroke=\"gray\" d=\"M 307 364 300 352\"/>\n",
       "<path stroke-width=\"0.5\" stroke=\"gray\" d=\"M 307 364 312 351\"/>\n",
       "<path stroke-width=\"0.5\" stroke=\"gray\" d=\"M 307 364 303 378\"/>\n",
       "<path stroke-width=\"0.5\" stroke=\"gray\" d=\"M 307 364 315 377\"/>\n",
       "<path stroke-width=\"0.5\" stroke=\"gray\" d=\"M 443 234 446 245\"/>\n",
       "<path stroke-width=\"0.5\" stroke=\"gray\" d=\"M 323 196 314 188\"/>\n",
       "<path stroke-width=\"0.5\" stroke=\"gray\" d=\"M 446 245 443 234\"/>\n",
       "<path stroke-width=\"0.5\" stroke=\"gray\" d=\"M 300 352 312 351\"/>\n",
       "<path stroke-width=\"0.5\" stroke=\"gray\" d=\"M 312 351 307 364\"/>\n",
       "<path stroke-width=\"0.5\" stroke=\"gray\" d=\"M 312 351 300 352\"/>\n",
       "<path stroke-width=\"0.5\" stroke=\"gray\" d=\"M 672 318 668 329\"/>\n",
       "<path stroke-width=\"0.5\" stroke=\"gray\" d=\"M 668 329 672 318\"/>\n",
       "<path stroke-width=\"0.5\" stroke=\"gray\" d=\"M 452 90 441 90\"/>\n",
       "<path stroke-width=\"0.5\" stroke=\"gray\" d=\"M 452 90 452 100\"/>\n",
       "<path stroke-width=\"0.5\" stroke=\"gray\" d=\"M 452 90 441 100\"/>\n",
       "<path stroke-width=\"0.5\" stroke=\"gray\" d=\"M 300 352 307 364\"/>\n",
       "<path stroke-width=\"0.5\" stroke=\"gray\" d=\"M 314 188 323 196\"/>\n",
       "<circle cx=\"342\" cy=\"115\" r=\"3.0\" style=\"fill:rgb(120, 155, 247);stroke:black;stroke-width:1.0\"/>\n",
       "<circle cx=\"338\" cy=\"104\" r=\"3.0\" style=\"fill:rgb(120, 155, 247);stroke:black;stroke-width:1.0\"/>\n",
       "<circle cx=\"230\" cy=\"457\" r=\"3.0\" style=\"fill:rgb(120, 155, 247);stroke:black;stroke-width:1.0\"/>\n",
       "<circle cx=\"259\" cy=\"258\" r=\"3.0\" style=\"fill:rgb(120, 155, 247);stroke:black;stroke-width:1.0\"/>\n",
       "<circle cx=\"253\" cy=\"268\" r=\"3.0\" style=\"fill:rgb(120, 155, 247);stroke:black;stroke-width:1.0\"/>\n",
       "<circle cx=\"307\" cy=\"364\" r=\"3.0\" style=\"fill:rgb(179, 3, 38);stroke:black;stroke-width:1.0\"/>\n",
       "<circle cx=\"601\" cy=\"72\" r=\"3.0\" style=\"fill:rgb(120, 155, 247);stroke:black;stroke-width:1.0\"/>\n",
       "<circle cx=\"443\" cy=\"234\" r=\"3.0\" style=\"fill:rgb(120, 155, 247);stroke:black;stroke-width:1.0\"/>\n",
       "<circle cx=\"446\" cy=\"245\" r=\"3.0\" style=\"fill:rgb(120, 155, 247);stroke:black;stroke-width:1.0\"/>\n",
       "<circle cx=\"711\" cy=\"408\" r=\"3.0\" style=\"fill:rgb(120, 155, 247);stroke:black;stroke-width:1.0\"/>\n",
       "<circle cx=\"300\" cy=\"352\" r=\"3.0\" style=\"fill:rgb(58, 76, 192);stroke:black;stroke-width:1.0\"/>\n",
       "<circle cx=\"312\" cy=\"351\" r=\"3.0\" style=\"fill:rgb(58, 76, 192);stroke:black;stroke-width:1.0\"/>\n",
       "<circle cx=\"264\" cy=\"52\" r=\"3.0\" style=\"fill:rgb(120, 155, 247);stroke:black;stroke-width:1.0\"/>\n",
       "<circle cx=\"672\" cy=\"318\" r=\"3.0\" style=\"fill:rgb(120, 155, 247);stroke:black;stroke-width:1.0\"/>\n",
       "<circle cx=\"668\" cy=\"329\" r=\"3.0\" style=\"fill:rgb(120, 155, 247);stroke:black;stroke-width:1.0\"/>\n",
       "<circle cx=\"131\" cy=\"214\" r=\"3.0\" style=\"fill:rgb(120, 155, 247);stroke:black;stroke-width:1.0\"/>\n",
       "<circle cx=\"517\" cy=\"208\" r=\"3.0\" style=\"fill:rgb(120, 155, 247);stroke:black;stroke-width:1.0\"/>\n",
       "<circle cx=\"380\" cy=\"514\" r=\"3.0\" style=\"fill:rgb(120, 155, 247);stroke:black;stroke-width:1.0\"/>\n",
       "<circle cx=\"20\" cy=\"340\" r=\"3.0\" style=\"fill:rgb(120, 155, 247);stroke:black;stroke-width:1.0\"/>\n",
       "<circle cx=\"233\" cy=\"137\" r=\"3.0\" style=\"fill:rgb(120, 155, 247);stroke:black;stroke-width:1.0\"/>\n",
       "<circle cx=\"452\" cy=\"90\" r=\"3.0\" style=\"fill:rgb(120, 155, 247);stroke:black;stroke-width:1.0\"/>\n",
       "<circle cx=\"663\" cy=\"102\" r=\"3.0\" style=\"fill:rgb(120, 155, 247);stroke:black;stroke-width:1.0\"/>\n",
       "<circle cx=\"580\" cy=\"259\" r=\"3.0\" style=\"fill:rgb(120, 155, 247);stroke:black;stroke-width:1.0\"/>\n",
       "<circle cx=\"596\" cy=\"335\" r=\"3.0\" style=\"fill:rgb(120, 155, 247);stroke:black;stroke-width:1.0\"/>\n",
       "<circle cx=\"619\" cy=\"158\" r=\"3.0\" style=\"fill:rgb(120, 155, 247);stroke:black;stroke-width:1.0\"/>\n",
       "<circle cx=\"441\" cy=\"90\" r=\"3.0\" style=\"fill:rgb(120, 155, 247);stroke:black;stroke-width:1.0\"/>\n",
       "<circle cx=\"452\" cy=\"100\" r=\"3.0\" style=\"fill:rgb(120, 155, 247);stroke:black;stroke-width:1.0\"/>\n",
       "<circle cx=\"441\" cy=\"100\" r=\"3.0\" style=\"fill:rgb(120, 155, 247);stroke:black;stroke-width:1.0\"/>\n",
       "<circle cx=\"427\" cy=\"341\" r=\"3.0\" style=\"fill:rgb(120, 155, 247);stroke:black;stroke-width:1.0\"/>\n",
       "<circle cx=\"507\" cy=\"321\" r=\"3.0\" style=\"fill:rgb(120, 155, 247);stroke:black;stroke-width:1.0\"/>\n",
       "<circle cx=\"509\" cy=\"332\" r=\"3.0\" style=\"fill:rgb(120, 155, 247);stroke:black;stroke-width:1.0\"/>\n",
       "<circle cx=\"303\" cy=\"378\" r=\"3.0\" style=\"fill:rgb(58, 76, 192);stroke:black;stroke-width:1.0\"/>\n",
       "<circle cx=\"586\" cy=\"198\" r=\"3.0\" style=\"fill:rgb(120, 155, 247);stroke:black;stroke-width:1.0\"/>\n",
       "<circle cx=\"533\" cy=\"65\" r=\"3.0\" style=\"fill:rgb(120, 155, 247);stroke:black;stroke-width:1.0\"/>\n",
       "<circle cx=\"427\" cy=\"448\" r=\"3.0\" style=\"fill:rgb(120, 155, 247);stroke:black;stroke-width:1.0\"/>\n",
       "<circle cx=\"430\" cy=\"437\" r=\"3.0\" style=\"fill:rgb(120, 155, 247);stroke:black;stroke-width:1.0\"/>\n",
       "<circle cx=\"439\" cy=\"445\" r=\"3.0\" style=\"fill:rgb(120, 155, 247);stroke:black;stroke-width:1.0\"/>\n",
       "<circle cx=\"209\" cy=\"395\" r=\"3.0\" style=\"fill:rgb(120, 155, 247);stroke:black;stroke-width:1.0\"/>\n",
       "<circle cx=\"571\" cy=\"475\" r=\"3.0\" style=\"fill:rgb(120, 155, 247);stroke:black;stroke-width:1.0\"/>\n",
       "<circle cx=\"180\" cy=\"188\" r=\"3.0\" style=\"fill:rgb(120, 155, 247);stroke:black;stroke-width:1.0\"/>\n",
       "<circle cx=\"345\" cy=\"20\" r=\"3.0\" style=\"fill:rgb(120, 155, 247);stroke:black;stroke-width:1.0\"/>\n",
       "<circle cx=\"720\" cy=\"520\" r=\"3.0\" style=\"fill:rgb(120, 155, 247);stroke:black;stroke-width:1.0\"/>\n",
       "<circle cx=\"315\" cy=\"377\" r=\"3.0\" style=\"fill:rgb(58, 76, 192);stroke:black;stroke-width:1.0\"/>\n",
       "<circle cx=\"323\" cy=\"196\" r=\"3.0\" style=\"fill:rgb(120, 155, 247);stroke:black;stroke-width:1.0\"/>\n",
       "<circle cx=\"314\" cy=\"188\" r=\"3.0\" style=\"fill:rgb(120, 155, 247);stroke:black;stroke-width:1.0\"/>\n",
       "<text text-anchor=\"start\" x=\"348\" y=\"115\" font-size=\"10\">Dinah</text><text text-anchor=\"start\" x=\"344\" y=\"104\" font-size=\"10\">Dinah'll</text><text text-anchor=\"start\" x=\"236\" y=\"457\" font-size=\"10\">Hearthrug</text><text text-anchor=\"start\" x=\"265\" y=\"258\" font-size=\"10\">Ada</text><text text-anchor=\"start\" x=\"259\" y=\"268\" font-size=\"10\">Mabel</text><text text-anchor=\"start\" x=\"313\" y=\"364\" font-size=\"10\">Mouse</text><text text-anchor=\"start\" x=\"607\" y=\"72\" font-size=\"10\">William the Conqueror</text><text text-anchor=\"start\" x=\"449\" y=\"234\" font-size=\"10\">William</text><text text-anchor=\"start\" x=\"452\" y=\"245\" font-size=\"10\">Edgar</text><text text-anchor=\"start\" x=\"717\" y=\"408\" font-size=\"10\">Normans</text><text text-anchor=\"start\" x=\"306\" y=\"352\" font-size=\"10\">Fury</text><text text-anchor=\"start\" x=\"318\" y=\"351\" font-size=\"10\">âLet</text><text text-anchor=\"start\" x=\"270\" y=\"52\" font-size=\"10\">Mary Ann</text><text text-anchor=\"start\" x=\"678\" y=\"318\" font-size=\"10\">Bill</text><text text-anchor=\"start\" x=\"674\" y=\"329\" font-size=\"10\">Brandy</text><text text-anchor=\"start\" x=\"137\" y=\"214\" font-size=\"10\">Caterpillar</text><text text-anchor=\"start\" x=\"523\" y=\"208\" font-size=\"10\">Pigeon</text><text text-anchor=\"start\" x=\"386\" y=\"514\" font-size=\"10\">Fish-Footman</text><text text-anchor=\"start\" x=\"26\" y=\"340\" font-size=\"10\">Cheshire</text><text text-anchor=\"start\" x=\"239\" y=\"137\" font-size=\"10\">CHORUS</text><text text-anchor=\"start\" x=\"458\" y=\"90\" font-size=\"10\">Dormouse</text><text text-anchor=\"start\" x=\"669\" y=\"102\" font-size=\"10\">Time</text><text text-anchor=\"start\" x=\"586\" y=\"259\" font-size=\"10\">the Queen of Hearts</text><text text-anchor=\"start\" x=\"602\" y=\"335\" font-size=\"10\">âUp</text><text text-anchor=\"start\" x=\"625\" y=\"158\" font-size=\"10\">âHe</text><text text-anchor=\"start\" x=\"447\" y=\"90\" font-size=\"10\">Lacie</text><text text-anchor=\"start\" x=\"458\" y=\"100\" font-size=\"10\">Elsie</text><text text-anchor=\"start\" x=\"447\" y=\"100\" font-size=\"10\">Tillie</text><text text-anchor=\"start\" x=\"433\" y=\"341\" font-size=\"10\">Miss</text><text text-anchor=\"start\" x=\"513\" y=\"321\" font-size=\"10\">Kings</text><text text-anchor=\"start\" x=\"515\" y=\"332\" font-size=\"10\">Queens</text><text text-anchor=\"start\" x=\"309\" y=\"378\" font-size=\"10\">Duchess</text><text text-anchor=\"start\" x=\"592\" y=\"198\" font-size=\"10\">Gryphon</text><text text-anchor=\"start\" x=\"539\" y=\"65\" font-size=\"10\">Tortoise</text><text text-anchor=\"start\" x=\"433\" y=\"448\" font-size=\"10\">Arithmetic Ambition</text><text text-anchor=\"start\" x=\"436\" y=\"437\" font-size=\"10\">Uglification</text><text text-anchor=\"start\" x=\"445\" y=\"445\" font-size=\"10\">Derision</text><text text-anchor=\"start\" x=\"215\" y=\"395\" font-size=\"10\">Stretching</text><text text-anchor=\"start\" x=\"577\" y=\"475\" font-size=\"10\">Lobster Quadrille</text><text text-anchor=\"start\" x=\"186\" y=\"188\" font-size=\"10\">âpurpose</text><text text-anchor=\"start\" x=\"351\" y=\"20\" font-size=\"10\">Panther</text><text text-anchor=\"start\" x=\"726\" y=\"520\" font-size=\"10\">Adventures</text><text text-anchor=\"start\" x=\"321\" y=\"377\" font-size=\"10\">Lizard</text><text text-anchor=\"start\" x=\"329\" y=\"196\" font-size=\"10\">Turtle</text><text text-anchor=\"start\" x=\"320\" y=\"188\" font-size=\"10\">Wonderland</text></svg>"
      ],
      "text/plain": [
       "<IPython.core.display.SVG object>"
      ]
     },
     "execution_count": 34,
     "metadata": {},
     "output_type": "execute_result"
    }
   ],
   "source": [
    "draw_graph(G1, show_names=True, node_size=3) # removing isolates for clarity"
   ]
  },
  {
   "cell_type": "code",
   "execution_count": 35,
   "id": "a9bb5259",
   "metadata": {},
   "outputs": [
    {
     "data": {
      "image/svg+xml": [
       "<svg xmlns=\"http://www.w3.org/2000/svg\" width=\"820.0\" height=\"540\">\n",
       "<path stroke-width=\"0.5\" stroke=\"gray\" d=\"M 368 254 582 276\"/>\n",
       "<path stroke-width=\"0.5\" stroke=\"gray\" d=\"M 360 210 259 266\"/>\n",
       "<path stroke-width=\"0.5\" stroke=\"gray\" d=\"M 360 210 456 189\"/>\n",
       "<path stroke-width=\"0.5\" stroke=\"gray\" d=\"M 360 210 447 210\"/>\n",
       "<path stroke-width=\"0.5\" stroke=\"gray\" d=\"M 360 210 419 185\"/>\n",
       "<path stroke-width=\"0.5\" stroke=\"gray\" d=\"M 427 263 368 254\"/>\n",
       "<path stroke-width=\"0.5\" stroke=\"gray\" d=\"M 427 263 329 199\"/>\n",
       "<path stroke-width=\"0.5\" stroke=\"gray\" d=\"M 167 365 259 266\"/>\n",
       "<path stroke-width=\"0.5\" stroke=\"gray\" d=\"M 432 101 329 199\"/>\n",
       "<path stroke-width=\"0.5\" stroke=\"gray\" d=\"M 186 216 232 185\"/>\n",
       "<path stroke-width=\"0.5\" stroke=\"gray\" d=\"M 186 216 329 199\"/>\n",
       "<path stroke-width=\"0.5\" stroke=\"gray\" d=\"M 456 189 368 254\"/>\n",
       "<path stroke-width=\"0.5\" stroke=\"gray\" d=\"M 456 189 360 210\"/>\n",
       "<path stroke-width=\"0.5\" stroke=\"gray\" d=\"M 456 189 447 210\"/>\n",
       "<path stroke-width=\"0.5\" stroke=\"gray\" d=\"M 456 189 419 185\"/>\n",
       "<path stroke-width=\"0.5\" stroke=\"gray\" d=\"M 447 210 368 254\"/>\n",
       "<path stroke-width=\"0.5\" stroke=\"gray\" d=\"M 360 210 329 199\"/>\n",
       "<path stroke-width=\"0.5\" stroke=\"gray\" d=\"M 360 210 232 185\"/>\n",
       "<path stroke-width=\"0.5\" stroke=\"gray\" d=\"M 360 210 368 254\"/>\n",
       "<path stroke-width=\"0.5\" stroke=\"gray\" d=\"M 259 266 155 250\"/>\n",
       "<path stroke-width=\"0.5\" stroke=\"gray\" d=\"M 411 358 368 254\"/>\n",
       "<path stroke-width=\"0.5\" stroke=\"gray\" d=\"M 227 322 368 254\"/>\n",
       "<path stroke-width=\"0.5\" stroke=\"gray\" d=\"M 329 199 368 254\"/>\n",
       "<path stroke-width=\"0.5\" stroke=\"gray\" d=\"M 329 199 232 185\"/>\n",
       "<path stroke-width=\"0.5\" stroke=\"gray\" d=\"M 329 199 259 266\"/>\n",
       "<path stroke-width=\"0.5\" stroke=\"gray\" d=\"M 329 199 360 210\"/>\n",
       "<path stroke-width=\"0.5\" stroke=\"gray\" d=\"M 329 199 427 263\"/>\n",
       "<path stroke-width=\"0.5\" stroke=\"gray\" d=\"M 447 210 360 210\"/>\n",
       "<path stroke-width=\"0.5\" stroke=\"gray\" d=\"M 329 199 432 101\"/>\n",
       "<path stroke-width=\"0.5\" stroke=\"gray\" d=\"M 259 266 368 254\"/>\n",
       "<path stroke-width=\"0.5\" stroke=\"gray\" d=\"M 259 266 240 243\"/>\n",
       "<path stroke-width=\"0.5\" stroke=\"gray\" d=\"M 259 266 232 185\"/>\n",
       "<path stroke-width=\"0.5\" stroke=\"gray\" d=\"M 259 266 329 199\"/>\n",
       "<path stroke-width=\"0.5\" stroke=\"gray\" d=\"M 259 266 360 210\"/>\n",
       "<path stroke-width=\"0.5\" stroke=\"gray\" d=\"M 259 266 167 365\"/>\n",
       "<path stroke-width=\"0.5\" stroke=\"gray\" d=\"M 259 266 222 262\"/>\n",
       "<path stroke-width=\"0.5\" stroke=\"gray\" d=\"M 329 199 186 216\"/>\n",
       "<path stroke-width=\"0.5\" stroke=\"gray\" d=\"M 302 334 368 254\"/>\n",
       "<path stroke-width=\"0.5\" stroke=\"gray\" d=\"M 447 210 456 189\"/>\n",
       "<path stroke-width=\"0.5\" stroke=\"gray\" d=\"M 419 185 368 254\"/>\n",
       "<path stroke-width=\"0.5\" stroke=\"gray\" d=\"M 405 308 406 276\"/>\n",
       "<path stroke-width=\"0.5\" stroke=\"gray\" d=\"M 406 276 368 254\"/>\n",
       "<path stroke-width=\"0.5\" stroke=\"gray\" d=\"M 406 276 462 267\"/>\n",
       "<path stroke-width=\"0.5\" stroke=\"gray\" d=\"M 406 276 405 308\"/>\n",
       "<path stroke-width=\"0.5\" stroke=\"gray\" d=\"M 184 294 368 254\"/>\n",
       "<path stroke-width=\"0.5\" stroke=\"gray\" d=\"M 262 347 368 254\"/>\n",
       "<path stroke-width=\"0.5\" stroke=\"gray\" d=\"M 548 207 368 254\"/>\n",
       "<path stroke-width=\"0.5\" stroke=\"gray\" d=\"M 502 329 368 254\"/>\n",
       "<path stroke-width=\"0.5\" stroke=\"gray\" d=\"M 473 350 368 254\"/>\n",
       "<path stroke-width=\"0.5\" stroke=\"gray\" d=\"M 155 250 240 243\"/>\n",
       "<path stroke-width=\"0.5\" stroke=\"gray\" d=\"M 155 250 232 185\"/>\n",
       "<path stroke-width=\"0.5\" stroke=\"gray\" d=\"M 155 250 259 266\"/>\n",
       "<path stroke-width=\"0.5\" stroke=\"gray\" d=\"M 155 250 222 262\"/>\n",
       "<path stroke-width=\"0.5\" stroke=\"gray\" d=\"M 170 87 232 185\"/>\n",
       "<path stroke-width=\"0.5\" stroke=\"gray\" d=\"M 170 87 126 104\"/>\n",
       "<path stroke-width=\"0.5\" stroke=\"gray\" d=\"M 405 308 462 267\"/>\n",
       "<path stroke-width=\"0.5\" stroke=\"gray\" d=\"M 405 308 368 254\"/>\n",
       "<path stroke-width=\"0.5\" stroke=\"gray\" d=\"M 462 267 406 276\"/>\n",
       "<path stroke-width=\"0.5\" stroke=\"gray\" d=\"M 462 267 405 308\"/>\n",
       "<path stroke-width=\"0.5\" stroke=\"gray\" d=\"M 419 185 360 210\"/>\n",
       "<path stroke-width=\"0.5\" stroke=\"gray\" d=\"M 419 185 456 189\"/>\n",
       "<path stroke-width=\"0.5\" stroke=\"gray\" d=\"M 419 185 447 210\"/>\n",
       "<path stroke-width=\"0.5\" stroke=\"gray\" d=\"M 207 102 232 185\"/>\n",
       "<path stroke-width=\"0.5\" stroke=\"gray\" d=\"M 524 237 368 254\"/>\n",
       "<path stroke-width=\"0.5\" stroke=\"gray\" d=\"M 524 237 525 275\"/>\n",
       "<path stroke-width=\"0.5\" stroke=\"gray\" d=\"M 525 275 368 254\"/>\n",
       "<path stroke-width=\"0.5\" stroke=\"gray\" d=\"M 447 210 419 185\"/>\n",
       "<path stroke-width=\"0.5\" stroke=\"gray\" d=\"M 525 275 524 237\"/>\n",
       "<path stroke-width=\"0.5\" stroke=\"gray\" d=\"M 222 262 240 243\"/>\n",
       "<path stroke-width=\"0.5\" stroke=\"gray\" d=\"M 222 262 232 185\"/>\n",
       "<path stroke-width=\"0.5\" stroke=\"gray\" d=\"M 222 262 259 266\"/>\n",
       "<path stroke-width=\"0.5\" stroke=\"gray\" d=\"M 222 262 155 250\"/>\n",
       "<path stroke-width=\"0.5\" stroke=\"gray\" d=\"M 209 191 368 254\"/>\n",
       "<path stroke-width=\"0.5\" stroke=\"gray\" d=\"M 314 363 368 254\"/>\n",
       "<path stroke-width=\"0.5\" stroke=\"gray\" d=\"M 462 267 368 254\"/>\n",
       "<path stroke-width=\"0.5\" stroke=\"gray\" d=\"M 222 262 368 254\"/>\n",
       "<path stroke-width=\"0.5\" stroke=\"gray\" d=\"M 232 185 126 104\"/>\n",
       "<path stroke-width=\"0.5\" stroke=\"gray\" d=\"M 232 185 170 87\"/>\n",
       "<path stroke-width=\"0.5\" stroke=\"gray\" d=\"M 232 185 155 250\"/>\n",
       "<path stroke-width=\"0.5\" stroke=\"gray\" d=\"M 368 254 456 189\"/>\n",
       "<path stroke-width=\"0.5\" stroke=\"gray\" d=\"M 368 254 447 210\"/>\n",
       "<path stroke-width=\"0.5\" stroke=\"gray\" d=\"M 368 254 419 185\"/>\n",
       "<path stroke-width=\"0.5\" stroke=\"gray\" d=\"M 368 254 524 237\"/>\n",
       "<path stroke-width=\"0.5\" stroke=\"gray\" d=\"M 368 254 525 275\"/>\n",
       "<path stroke-width=\"0.5\" stroke=\"gray\" d=\"M 368 254 222 262\"/>\n",
       "<path stroke-width=\"0.5\" stroke=\"gray\" d=\"M 368 254 209 191\"/>\n",
       "<path stroke-width=\"0.5\" stroke=\"gray\" d=\"M 368 254 314 363\"/>\n",
       "<path stroke-width=\"0.5\" stroke=\"gray\" d=\"M 368 254 462 267\"/>\n",
       "<path stroke-width=\"0.5\" stroke=\"gray\" d=\"M 368 254 405 308\"/>\n",
       "<path stroke-width=\"0.5\" stroke=\"gray\" d=\"M 368 254 406 276\"/>\n",
       "<path stroke-width=\"0.5\" stroke=\"gray\" d=\"M 368 254 184 294\"/>\n",
       "<path stroke-width=\"0.5\" stroke=\"gray\" d=\"M 368 254 262 347\"/>\n",
       "<path stroke-width=\"0.5\" stroke=\"gray\" d=\"M 368 254 548 207\"/>\n",
       "<path stroke-width=\"0.5\" stroke=\"gray\" d=\"M 368 254 502 329\"/>\n",
       "<path stroke-width=\"0.5\" stroke=\"gray\" d=\"M 368 254 427 263\"/>\n",
       "<path stroke-width=\"0.5\" stroke=\"gray\" d=\"M 368 254 360 210\"/>\n",
       "<path stroke-width=\"0.5\" stroke=\"gray\" d=\"M 368 254 259 266\"/>\n",
       "<path stroke-width=\"0.5\" stroke=\"gray\" d=\"M 368 254 329 199\"/>\n",
       "<path stroke-width=\"0.5\" stroke=\"gray\" d=\"M 368 254 407 151\"/>\n",
       "<path stroke-width=\"0.5\" stroke=\"gray\" d=\"M 368 254 152 215\"/>\n",
       "<path stroke-width=\"0.5\" stroke=\"gray\" d=\"M 368 254 240 243\"/>\n",
       "<path stroke-width=\"0.5\" stroke=\"gray\" d=\"M 368 254 491 165\"/>\n",
       "<path stroke-width=\"0.5\" stroke=\"gray\" d=\"M 368 254 344 111\"/>\n",
       "<path stroke-width=\"0.5\" stroke=\"gray\" d=\"M 368 254 532 308\"/>\n",
       "<path stroke-width=\"0.5\" stroke=\"gray\" d=\"M 368 254 252 222\"/>\n",
       "<path stroke-width=\"0.5\" stroke=\"gray\" d=\"M 368 254 473 350\"/>\n",
       "<path stroke-width=\"0.5\" stroke=\"gray\" d=\"M 368 254 290 220\"/>\n",
       "<path stroke-width=\"0.5\" stroke=\"gray\" d=\"M 368 254 344 412\"/>\n",
       "<path stroke-width=\"0.5\" stroke=\"gray\" d=\"M 368 254 572 252\"/>\n",
       "<path stroke-width=\"0.5\" stroke=\"gray\" d=\"M 368 254 271 163\"/>\n",
       "<path stroke-width=\"0.5\" stroke=\"gray\" d=\"M 368 254 232 185\"/>\n",
       "<path stroke-width=\"0.5\" stroke=\"gray\" d=\"M 368 254 302 334\"/>\n",
       "<path stroke-width=\"0.5\" stroke=\"gray\" d=\"M 368 254 411 358\"/>\n",
       "<path stroke-width=\"0.5\" stroke=\"gray\" d=\"M 368 254 227 322\"/>\n",
       "<path stroke-width=\"0.5\" stroke=\"gray\" d=\"M 368 254 341 155\"/>\n",
       "<path stroke-width=\"0.5\" stroke=\"gray\" d=\"M 582 276 368 254\"/>\n",
       "<path stroke-width=\"0.5\" stroke=\"gray\" d=\"M 582 276 720 290\"/>\n",
       "<path stroke-width=\"0.5\" stroke=\"gray\" d=\"M 720 290 582 276\"/>\n",
       "<path stroke-width=\"0.5\" stroke=\"gray\" d=\"M 290 220 240 243\"/>\n",
       "<path stroke-width=\"0.5\" stroke=\"gray\" d=\"M 290 220 252 222\"/>\n",
       "<path stroke-width=\"0.5\" stroke=\"gray\" d=\"M 341 155 368 254\"/>\n",
       "<path stroke-width=\"0.5\" stroke=\"gray\" d=\"M 344 412 368 254\"/>\n",
       "<path stroke-width=\"0.5\" stroke=\"gray\" d=\"M 344 412 321 520\"/>\n",
       "<path stroke-width=\"0.5\" stroke=\"gray\" d=\"M 321 520 344 412\"/>\n",
       "<path stroke-width=\"0.5\" stroke=\"gray\" d=\"M 572 252 368 254\"/>\n",
       "<path stroke-width=\"0.5\" stroke=\"gray\" d=\"M 290 220 368 254\"/>\n",
       "<path stroke-width=\"0.5\" stroke=\"gray\" d=\"M 271 163 368 254\"/>\n",
       "<path stroke-width=\"0.5\" stroke=\"gray\" d=\"M 232 185 240 243\"/>\n",
       "<path stroke-width=\"0.5\" stroke=\"gray\" d=\"M 232 185 329 199\"/>\n",
       "<path stroke-width=\"0.5\" stroke=\"gray\" d=\"M 232 185 259 266\"/>\n",
       "<path stroke-width=\"0.5\" stroke=\"gray\" d=\"M 232 185 360 210\"/>\n",
       "<path stroke-width=\"0.5\" stroke=\"gray\" d=\"M 232 185 186 216\"/>\n",
       "<path stroke-width=\"0.5\" stroke=\"gray\" d=\"M 232 185 207 102\"/>\n",
       "<path stroke-width=\"0.5\" stroke=\"gray\" d=\"M 232 185 222 262\"/>\n",
       "<path stroke-width=\"0.5\" stroke=\"gray\" d=\"M 232 185 368 254\"/>\n",
       "<path stroke-width=\"0.5\" stroke=\"gray\" d=\"M 126 104 232 185\"/>\n",
       "<path stroke-width=\"0.5\" stroke=\"gray\" d=\"M 252 222 290 220\"/>\n",
       "<path stroke-width=\"0.5\" stroke=\"gray\" d=\"M 252 222 368 254\"/>\n",
       "<path stroke-width=\"0.5\" stroke=\"gray\" d=\"M 407 151 368 254\"/>\n",
       "<path stroke-width=\"0.5\" stroke=\"gray\" d=\"M 20 191 152 215\"/>\n",
       "<path stroke-width=\"0.5\" stroke=\"gray\" d=\"M 152 215 368 254\"/>\n",
       "<path stroke-width=\"0.5\" stroke=\"gray\" d=\"M 152 215 20 191\"/>\n",
       "<path stroke-width=\"0.5\" stroke=\"gray\" d=\"M 240 243 368 254\"/>\n",
       "<path stroke-width=\"0.5\" stroke=\"gray\" d=\"M 240 243 252 222\"/>\n",
       "<path stroke-width=\"0.5\" stroke=\"gray\" d=\"M 240 243 290 220\"/>\n",
       "<path stroke-width=\"0.5\" stroke=\"gray\" d=\"M 252 222 240 243\"/>\n",
       "<path stroke-width=\"0.5\" stroke=\"gray\" d=\"M 240 243 232 185\"/>\n",
       "<path stroke-width=\"0.5\" stroke=\"gray\" d=\"M 240 243 222 262\"/>\n",
       "<path stroke-width=\"0.5\" stroke=\"gray\" d=\"M 240 243 155 250\"/>\n",
       "<path stroke-width=\"0.5\" stroke=\"gray\" d=\"M 491 165 368 254\"/>\n",
       "<path stroke-width=\"0.5\" stroke=\"gray\" d=\"M 344 111 368 254\"/>\n",
       "<path stroke-width=\"0.5\" stroke=\"gray\" d=\"M 344 111 292 20\"/>\n",
       "<path stroke-width=\"0.5\" stroke=\"gray\" d=\"M 292 20 344 111\"/>\n",
       "<path stroke-width=\"0.5\" stroke=\"gray\" d=\"M 532 308 368 254\"/>\n",
       "<path stroke-width=\"0.5\" stroke=\"gray\" d=\"M 240 243 259 266\"/>\n",
       "<path stroke-width=\"0.5\" stroke=\"gray\" d=\"M 126 104 170 87\"/>\n",
       "<circle cx=\"368\" cy=\"254\" r=\"3.0\" style=\"fill:rgb(179, 3, 38);stroke:black;stroke-width:1.0\"/>\n",
       "<circle cx=\"582\" cy=\"276\" r=\"3.0\" style=\"fill:rgb(70, 93, 207);stroke:black;stroke-width:1.0\"/>\n",
       "<circle cx=\"720\" cy=\"290\" r=\"3.0\" style=\"fill:rgb(60, 79, 195);stroke:black;stroke-width:1.0\"/>\n",
       "<circle cx=\"407\" cy=\"151\" r=\"3.0\" style=\"fill:rgb(58, 76, 192);stroke:black;stroke-width:1.0\"/>\n",
       "<circle cx=\"20\" cy=\"191\" r=\"3.0\" style=\"fill:rgb(60, 79, 195);stroke:black;stroke-width:1.0\"/>\n",
       "<circle cx=\"152\" cy=\"215\" r=\"3.0\" style=\"fill:rgb(70, 93, 207);stroke:black;stroke-width:1.0\"/>\n",
       "<circle cx=\"240\" cy=\"243\" r=\"3.0\" style=\"fill:rgb(96, 128, 232);stroke:black;stroke-width:1.0\"/>\n",
       "<circle cx=\"491\" cy=\"165\" r=\"3.0\" style=\"fill:rgb(58, 76, 192);stroke:black;stroke-width:1.0\"/>\n",
       "<circle cx=\"344\" cy=\"111\" r=\"3.0\" style=\"fill:rgb(70, 93, 207);stroke:black;stroke-width:1.0\"/>\n",
       "<circle cx=\"292\" cy=\"20\" r=\"3.0\" style=\"fill:rgb(60, 79, 195);stroke:black;stroke-width:1.0\"/>\n",
       "<circle cx=\"532\" cy=\"308\" r=\"3.0\" style=\"fill:rgb(58, 76, 192);stroke:black;stroke-width:1.0\"/>\n",
       "<circle cx=\"252\" cy=\"222\" r=\"3.0\" style=\"fill:rgb(70, 93, 207);stroke:black;stroke-width:1.0\"/>\n",
       "<circle cx=\"290\" cy=\"220\" r=\"3.0\" style=\"fill:rgb(70, 93, 207);stroke:black;stroke-width:1.0\"/>\n",
       "<circle cx=\"341\" cy=\"155\" r=\"3.0\" style=\"fill:rgb(58, 76, 192);stroke:black;stroke-width:1.0\"/>\n",
       "<circle cx=\"344\" cy=\"412\" r=\"3.0\" style=\"fill:rgb(70, 93, 207);stroke:black;stroke-width:1.0\"/>\n",
       "<circle cx=\"321\" cy=\"520\" r=\"3.0\" style=\"fill:rgb(60, 79, 195);stroke:black;stroke-width:1.0\"/>\n",
       "<circle cx=\"572\" cy=\"252\" r=\"3.0\" style=\"fill:rgb(58, 76, 192);stroke:black;stroke-width:1.0\"/>\n",
       "<circle cx=\"271\" cy=\"163\" r=\"3.0\" style=\"fill:rgb(58, 76, 192);stroke:black;stroke-width:1.0\"/>\n",
       "<circle cx=\"232\" cy=\"185\" r=\"3.0\" style=\"fill:rgb(130, 165, 251);stroke:black;stroke-width:1.0\"/>\n",
       "<circle cx=\"302\" cy=\"334\" r=\"3.0\" style=\"fill:rgb(58, 76, 192);stroke:black;stroke-width:1.0\"/>\n",
       "<circle cx=\"411\" cy=\"358\" r=\"3.0\" style=\"fill:rgb(58, 76, 192);stroke:black;stroke-width:1.0\"/>\n",
       "<circle cx=\"227\" cy=\"322\" r=\"3.0\" style=\"fill:rgb(58, 76, 192);stroke:black;stroke-width:1.0\"/>\n",
       "<circle cx=\"329\" cy=\"199\" r=\"3.0\" style=\"fill:rgb(103, 136, 237);stroke:black;stroke-width:1.0\"/>\n",
       "<circle cx=\"259\" cy=\"266\" r=\"3.0\" style=\"fill:rgb(105, 139, 239);stroke:black;stroke-width:1.0\"/>\n",
       "<circle cx=\"360\" cy=\"210\" r=\"3.0\" style=\"fill:rgb(96, 128, 232);stroke:black;stroke-width:1.0\"/>\n",
       "<circle cx=\"427\" cy=\"263\" r=\"3.0\" style=\"fill:rgb(64, 84, 199);stroke:black;stroke-width:1.0\"/>\n",
       "<circle cx=\"167\" cy=\"365\" r=\"3.0\" style=\"fill:rgb(58, 76, 192);stroke:black;stroke-width:1.0\"/>\n",
       "<circle cx=\"432\" cy=\"101\" r=\"3.0\" style=\"fill:rgb(58, 76, 192);stroke:black;stroke-width:1.0\"/>\n",
       "<circle cx=\"186\" cy=\"216\" r=\"3.0\" style=\"fill:rgb(64, 84, 199);stroke:black;stroke-width:1.0\"/>\n",
       "<circle cx=\"456\" cy=\"189\" r=\"3.0\" style=\"fill:rgb(76, 102, 214);stroke:black;stroke-width:1.0\"/>\n",
       "<circle cx=\"447\" cy=\"210\" r=\"3.0\" style=\"fill:rgb(76, 102, 214);stroke:black;stroke-width:1.0\"/>\n",
       "<circle cx=\"419\" cy=\"185\" r=\"3.0\" style=\"fill:rgb(76, 102, 214);stroke:black;stroke-width:1.0\"/>\n",
       "<circle cx=\"207\" cy=\"102\" r=\"3.0\" style=\"fill:rgb(58, 76, 192);stroke:black;stroke-width:1.0\"/>\n",
       "<circle cx=\"524\" cy=\"237\" r=\"3.0\" style=\"fill:rgb(66, 88, 202);stroke:black;stroke-width:1.0\"/>\n",
       "<circle cx=\"525\" cy=\"275\" r=\"3.0\" style=\"fill:rgb(66, 88, 202);stroke:black;stroke-width:1.0\"/>\n",
       "<circle cx=\"222\" cy=\"262\" r=\"3.0\" style=\"fill:rgb(82, 110, 220);stroke:black;stroke-width:1.0\"/>\n",
       "<circle cx=\"209\" cy=\"191\" r=\"3.0\" style=\"fill:rgb(58, 76, 192);stroke:black;stroke-width:1.0\"/>\n",
       "<circle cx=\"314\" cy=\"363\" r=\"3.0\" style=\"fill:rgb(58, 76, 192);stroke:black;stroke-width:1.0\"/>\n",
       "<circle cx=\"462\" cy=\"267\" r=\"3.0\" style=\"fill:rgb(72, 96, 209);stroke:black;stroke-width:1.0\"/>\n",
       "<circle cx=\"405\" cy=\"308\" r=\"3.0\" style=\"fill:rgb(72, 96, 209);stroke:black;stroke-width:1.0\"/>\n",
       "<circle cx=\"406\" cy=\"276\" r=\"3.0\" style=\"fill:rgb(72, 96, 209);stroke:black;stroke-width:1.0\"/>\n",
       "<circle cx=\"184\" cy=\"294\" r=\"3.0\" style=\"fill:rgb(58, 76, 192);stroke:black;stroke-width:1.0\"/>\n",
       "<circle cx=\"262\" cy=\"347\" r=\"3.0\" style=\"fill:rgb(58, 76, 192);stroke:black;stroke-width:1.0\"/>\n",
       "<circle cx=\"548\" cy=\"207\" r=\"3.0\" style=\"fill:rgb(58, 76, 192);stroke:black;stroke-width:1.0\"/>\n",
       "<circle cx=\"502\" cy=\"329\" r=\"3.0\" style=\"fill:rgb(58, 76, 192);stroke:black;stroke-width:1.0\"/>\n",
       "<circle cx=\"473\" cy=\"350\" r=\"3.0\" style=\"fill:rgb(58, 76, 192);stroke:black;stroke-width:1.0\"/>\n",
       "<circle cx=\"155\" cy=\"250\" r=\"3.0\" style=\"fill:rgb(72, 96, 209);stroke:black;stroke-width:1.0\"/>\n",
       "<circle cx=\"170\" cy=\"87\" r=\"3.0\" style=\"fill:rgb(64, 84, 199);stroke:black;stroke-width:1.0\"/>\n",
       "<circle cx=\"126\" cy=\"104\" r=\"3.0\" style=\"fill:rgb(64, 84, 199);stroke:black;stroke-width:1.0\"/>\n",
       "<text text-anchor=\"start\" x=\"374\" y=\"254\" font-size=\"10\">Alice</text><text text-anchor=\"start\" x=\"588\" y=\"276\" font-size=\"10\">Dinah</text><text text-anchor=\"start\" x=\"726\" y=\"290\" font-size=\"10\">Dinah'll</text><text text-anchor=\"start\" x=\"413\" y=\"151\" font-size=\"10\">Hearthrug</text><text text-anchor=\"start\" x=\"26\" y=\"191\" font-size=\"10\">Ada</text><text text-anchor=\"start\" x=\"158\" y=\"215\" font-size=\"10\">Mabel</text><text text-anchor=\"start\" x=\"246\" y=\"243\" font-size=\"10\">Mouse</text><text text-anchor=\"start\" x=\"497\" y=\"165\" font-size=\"10\">William the Conqueror</text><text text-anchor=\"start\" x=\"350\" y=\"111\" font-size=\"10\">William</text><text text-anchor=\"start\" x=\"298\" y=\"20\" font-size=\"10\">Edgar</text><text text-anchor=\"start\" x=\"538\" y=\"308\" font-size=\"10\">Normans</text><text text-anchor=\"start\" x=\"258\" y=\"222\" font-size=\"10\">Fury</text><text text-anchor=\"start\" x=\"296\" y=\"220\" font-size=\"10\">âLet</text><text text-anchor=\"start\" x=\"347\" y=\"155\" font-size=\"10\">Mary Ann</text><text text-anchor=\"start\" x=\"350\" y=\"412\" font-size=\"10\">Bill</text><text text-anchor=\"start\" x=\"327\" y=\"520\" font-size=\"10\">Brandy</text><text text-anchor=\"start\" x=\"578\" y=\"252\" font-size=\"10\">Caterpillar</text><text text-anchor=\"start\" x=\"277\" y=\"163\" font-size=\"10\">Pigeon</text><text text-anchor=\"start\" x=\"238\" y=\"185\" font-size=\"10\">Queen</text><text text-anchor=\"start\" x=\"308\" y=\"334\" font-size=\"10\">Fish-Footman</text><text text-anchor=\"start\" x=\"417\" y=\"358\" font-size=\"10\">Cheshire</text><text text-anchor=\"start\" x=\"233\" y=\"322\" font-size=\"10\">CHORUS</text><text text-anchor=\"start\" x=\"335\" y=\"199\" font-size=\"10\">Hatter</text><text text-anchor=\"start\" x=\"265\" y=\"266\" font-size=\"10\">Hare</text><text text-anchor=\"start\" x=\"366\" y=\"210\" font-size=\"10\">Dormouse</text><text text-anchor=\"start\" x=\"433\" y=\"263\" font-size=\"10\">Time</text><text text-anchor=\"start\" x=\"173\" y=\"365\" font-size=\"10\">the Queen of Hearts</text><text text-anchor=\"start\" x=\"438\" y=\"101\" font-size=\"10\">âUp</text><text text-anchor=\"start\" x=\"192\" y=\"216\" font-size=\"10\">âHe</text><text text-anchor=\"start\" x=\"462\" y=\"189\" font-size=\"10\">Lacie</text><text text-anchor=\"start\" x=\"453\" y=\"210\" font-size=\"10\">Elsie</text><text text-anchor=\"start\" x=\"425\" y=\"185\" font-size=\"10\">Tillie</text><text text-anchor=\"start\" x=\"213\" y=\"102\" font-size=\"10\">Miss</text><text text-anchor=\"start\" x=\"530\" y=\"237\" font-size=\"10\">Kings</text><text text-anchor=\"start\" x=\"531\" y=\"275\" font-size=\"10\">Queens</text><text text-anchor=\"start\" x=\"228\" y=\"262\" font-size=\"10\">Duchess</text><text text-anchor=\"start\" x=\"215\" y=\"191\" font-size=\"10\">Gryphon</text><text text-anchor=\"start\" x=\"320\" y=\"363\" font-size=\"10\">Tortoise</text><text text-anchor=\"start\" x=\"468\" y=\"267\" font-size=\"10\">Arithmetic Ambition</text><text text-anchor=\"start\" x=\"411\" y=\"308\" font-size=\"10\">Uglification</text><text text-anchor=\"start\" x=\"412\" y=\"276\" font-size=\"10\">Derision</text><text text-anchor=\"start\" x=\"190\" y=\"294\" font-size=\"10\">Stretching</text><text text-anchor=\"start\" x=\"268\" y=\"347\" font-size=\"10\">Lobster Quadrille</text><text text-anchor=\"start\" x=\"554\" y=\"207\" font-size=\"10\">âpurpose</text><text text-anchor=\"start\" x=\"508\" y=\"329\" font-size=\"10\">Panther</text><text text-anchor=\"start\" x=\"479\" y=\"350\" font-size=\"10\">Adventures</text><text text-anchor=\"start\" x=\"161\" y=\"250\" font-size=\"10\">Lizard</text><text text-anchor=\"start\" x=\"176\" y=\"87\" font-size=\"10\">Turtle</text><text text-anchor=\"start\" x=\"132\" y=\"104\" font-size=\"10\">Wonderland</text></svg>"
      ],
      "text/plain": [
       "<IPython.core.display.SVG object>"
      ]
     },
     "execution_count": 35,
     "metadata": {},
     "output_type": "execute_result"
    }
   ],
   "source": [
    "draw_graph(G, show_names=True, node_size=3)"
   ]
  },
  {
   "cell_type": "code",
   "execution_count": 36,
   "id": "ea169f63",
   "metadata": {},
   "outputs": [
    {
     "data": {
      "text/plain": [
       "0.0663265306122449"
      ]
     },
     "execution_count": 36,
     "metadata": {},
     "output_type": "execute_result"
    }
   ],
   "source": [
    "nx.density(G)"
   ]
  },
  {
   "cell_type": "code",
   "execution_count": 37,
   "id": "814a34c5",
   "metadata": {},
   "outputs": [
    {
     "data": {
      "text/plain": [
       "0.021212121212121213"
      ]
     },
     "execution_count": 37,
     "metadata": {},
     "output_type": "execute_result"
    }
   ],
   "source": [
    "nx.density(G1)"
   ]
  },
  {
   "cell_type": "code",
   "execution_count": 38,
   "id": "8e2dd786",
   "metadata": {},
   "outputs": [
    {
     "name": "stdout",
     "output_type": "stream",
     "text": [
      "Graph with 49 nodes and 78 edges\n"
     ]
    }
   ],
   "source": [
    "print(G)"
   ]
  },
  {
   "cell_type": "code",
   "execution_count": 39,
   "id": "4c8dfb1d",
   "metadata": {},
   "outputs": [
    {
     "name": "stdout",
     "output_type": "stream",
     "text": [
      "Graph with 45 nodes and 21 edges\n"
     ]
    }
   ],
   "source": [
    "print(G1)"
   ]
  },
  {
   "cell_type": "code",
   "execution_count": 40,
   "id": "9a3b0a79",
   "metadata": {},
   "outputs": [
    {
     "data": {
      "text/plain": [
       "[2,\n",
       " 1,\n",
       " 2,\n",
       " 5,\n",
       " 1,\n",
       " 2,\n",
       " 1,\n",
       " 1,\n",
       " 2,\n",
       " 1,\n",
       " 1,\n",
       " 1,\n",
       " 1,\n",
       " 1,\n",
       " 4,\n",
       " 1,\n",
       " 1,\n",
       " 1,\n",
       " 1,\n",
       " 1,\n",
       " 2,\n",
       " 1,\n",
       " 1,\n",
       " 3,\n",
       " 1,\n",
       " 1,\n",
       " 1,\n",
       " 1,\n",
       " 1,\n",
       " 2]"
      ]
     },
     "execution_count": 40,
     "metadata": {},
     "output_type": "execute_result"
    }
   ],
   "source": [
    "components = list(nx.connected_components(G1))\n",
    "\n",
    "[len(c) for c in components]"
   ]
  },
  {
   "cell_type": "code",
   "execution_count": 41,
   "id": "5ad6c76f",
   "metadata": {},
   "outputs": [
    {
     "data": {
      "text/plain": [
       "30"
      ]
     },
     "execution_count": 41,
     "metadata": {},
     "output_type": "execute_result"
    }
   ],
   "source": [
    "len(components)"
   ]
  },
  {
   "cell_type": "code",
   "execution_count": 42,
   "id": "5b61bfd4",
   "metadata": {},
   "outputs": [
    {
     "data": {
      "text/plain": [
       "1.5"
      ]
     },
     "execution_count": 42,
     "metadata": {},
     "output_type": "execute_result"
    }
   ],
   "source": [
    "np.mean([len(c) for c in components]) # average component size"
   ]
  },
  {
   "cell_type": "markdown",
   "id": "5ed063e5",
   "metadata": {},
   "source": [
    "# Simulation 2: Burst Attack"
   ]
  },
  {
   "cell_type": "code",
   "execution_count": 43,
   "id": "588f4bbb",
   "metadata": {},
   "outputs": [
    {
     "data": {
      "image/svg+xml": [
       "<svg xmlns=\"http://www.w3.org/2000/svg\" width=\"820.0\" height=\"540\">\n",
       "<path stroke-width=\"0.5\" stroke=\"gray\" d=\"M 269 262 559 299\"/>\n",
       "<path stroke-width=\"0.5\" stroke=\"gray\" d=\"M 192 266 271 218\"/>\n",
       "<path stroke-width=\"0.5\" stroke=\"gray\" d=\"M 192 266 127 326\"/>\n",
       "<path stroke-width=\"0.5\" stroke=\"gray\" d=\"M 192 266 98 298\"/>\n",
       "<path stroke-width=\"0.5\" stroke=\"gray\" d=\"M 192 266 89 320\"/>\n",
       "<path stroke-width=\"0.5\" stroke=\"gray\" d=\"M 342 156 269 262\"/>\n",
       "<path stroke-width=\"0.5\" stroke=\"gray\" d=\"M 342 156 314 186\"/>\n",
       "<path stroke-width=\"0.5\" stroke=\"gray\" d=\"M 137 113 271 218\"/>\n",
       "<path stroke-width=\"0.5\" stroke=\"gray\" d=\"M 465 91 314 186\"/>\n",
       "<path stroke-width=\"0.5\" stroke=\"gray\" d=\"M 180 195 286 233\"/>\n",
       "<path stroke-width=\"0.5\" stroke=\"gray\" d=\"M 180 195 314 186\"/>\n",
       "<path stroke-width=\"0.5\" stroke=\"gray\" d=\"M 127 326 269 262\"/>\n",
       "<path stroke-width=\"0.5\" stroke=\"gray\" d=\"M 127 326 192 266\"/>\n",
       "<path stroke-width=\"0.5\" stroke=\"gray\" d=\"M 127 326 98 298\"/>\n",
       "<path stroke-width=\"0.5\" stroke=\"gray\" d=\"M 127 326 89 320\"/>\n",
       "<path stroke-width=\"0.5\" stroke=\"gray\" d=\"M 98 298 269 262\"/>\n",
       "<path stroke-width=\"0.5\" stroke=\"gray\" d=\"M 192 266 314 186\"/>\n",
       "<path stroke-width=\"0.5\" stroke=\"gray\" d=\"M 192 266 286 233\"/>\n",
       "<path stroke-width=\"0.5\" stroke=\"gray\" d=\"M 192 266 269 262\"/>\n",
       "<path stroke-width=\"0.5\" stroke=\"gray\" d=\"M 271 218 326 293\"/>\n",
       "<path stroke-width=\"0.5\" stroke=\"gray\" d=\"M 57 245 269 262\"/>\n",
       "<path stroke-width=\"0.5\" stroke=\"gray\" d=\"M 295 394 269 262\"/>\n",
       "<path stroke-width=\"0.5\" stroke=\"gray\" d=\"M 314 186 269 262\"/>\n",
       "<path stroke-width=\"0.5\" stroke=\"gray\" d=\"M 314 186 286 233\"/>\n",
       "<path stroke-width=\"0.5\" stroke=\"gray\" d=\"M 314 186 271 218\"/>\n",
       "<path stroke-width=\"0.5\" stroke=\"gray\" d=\"M 314 186 192 266\"/>\n",
       "<path stroke-width=\"0.5\" stroke=\"gray\" d=\"M 314 186 342 156\"/>\n",
       "<path stroke-width=\"0.5\" stroke=\"gray\" d=\"M 98 298 192 266\"/>\n",
       "<path stroke-width=\"0.5\" stroke=\"gray\" d=\"M 314 186 465 91\"/>\n",
       "<path stroke-width=\"0.5\" stroke=\"gray\" d=\"M 271 218 269 262\"/>\n",
       "<path stroke-width=\"0.5\" stroke=\"gray\" d=\"M 271 218 366 288\"/>\n",
       "<path stroke-width=\"0.5\" stroke=\"gray\" d=\"M 271 218 286 233\"/>\n",
       "<path stroke-width=\"0.5\" stroke=\"gray\" d=\"M 271 218 314 186\"/>\n",
       "<path stroke-width=\"0.5\" stroke=\"gray\" d=\"M 271 218 192 266\"/>\n",
       "<path stroke-width=\"0.5\" stroke=\"gray\" d=\"M 271 218 137 113\"/>\n",
       "<path stroke-width=\"0.5\" stroke=\"gray\" d=\"M 271 218 359 255\"/>\n",
       "<path stroke-width=\"0.5\" stroke=\"gray\" d=\"M 314 186 180 195\"/>\n",
       "<path stroke-width=\"0.5\" stroke=\"gray\" d=\"M 492 282 269 262\"/>\n",
       "<path stroke-width=\"0.5\" stroke=\"gray\" d=\"M 98 298 127 326\"/>\n",
       "<path stroke-width=\"0.5\" stroke=\"gray\" d=\"M 89 320 269 262\"/>\n",
       "<path stroke-width=\"0.5\" stroke=\"gray\" d=\"M 172 165 205 141\"/>\n",
       "<path stroke-width=\"0.5\" stroke=\"gray\" d=\"M 205 141 269 262\"/>\n",
       "<path stroke-width=\"0.5\" stroke=\"gray\" d=\"M 205 141 258 154\"/>\n",
       "<path stroke-width=\"0.5\" stroke=\"gray\" d=\"M 205 141 172 165\"/>\n",
       "<path stroke-width=\"0.5\" stroke=\"gray\" d=\"M 473 218 269 262\"/>\n",
       "<path stroke-width=\"0.5\" stroke=\"gray\" d=\"M 166 233 269 262\"/>\n",
       "<path stroke-width=\"0.5\" stroke=\"gray\" d=\"M 221 394 269 262\"/>\n",
       "<path stroke-width=\"0.5\" stroke=\"gray\" d=\"M 71 274 269 262\"/>\n",
       "<path stroke-width=\"0.5\" stroke=\"gray\" d=\"M 101 160 269 262\"/>\n",
       "<path stroke-width=\"0.5\" stroke=\"gray\" d=\"M 326 293 366 288\"/>\n",
       "<path stroke-width=\"0.5\" stroke=\"gray\" d=\"M 326 293 286 233\"/>\n",
       "<path stroke-width=\"0.5\" stroke=\"gray\" d=\"M 326 293 271 218\"/>\n",
       "<path stroke-width=\"0.5\" stroke=\"gray\" d=\"M 326 293 359 255\"/>\n",
       "<path stroke-width=\"0.5\" stroke=\"gray\" d=\"M 448 185 286 233\"/>\n",
       "<path stroke-width=\"0.5\" stroke=\"gray\" d=\"M 448 185 458 160\"/>\n",
       "<path stroke-width=\"0.5\" stroke=\"gray\" d=\"M 172 165 258 154\"/>\n",
       "<path stroke-width=\"0.5\" stroke=\"gray\" d=\"M 172 165 269 262\"/>\n",
       "<path stroke-width=\"0.5\" stroke=\"gray\" d=\"M 258 154 205 141\"/>\n",
       "<path stroke-width=\"0.5\" stroke=\"gray\" d=\"M 258 154 172 165\"/>\n",
       "<path stroke-width=\"0.5\" stroke=\"gray\" d=\"M 89 320 192 266\"/>\n",
       "<path stroke-width=\"0.5\" stroke=\"gray\" d=\"M 89 320 127 326\"/>\n",
       "<path stroke-width=\"0.5\" stroke=\"gray\" d=\"M 89 320 98 298\"/>\n",
       "<path stroke-width=\"0.5\" stroke=\"gray\" d=\"M 20 262 286 233\"/>\n",
       "<path stroke-width=\"0.5\" stroke=\"gray\" d=\"M 168 362 269 262\"/>\n",
       "<path stroke-width=\"0.5\" stroke=\"gray\" d=\"M 168 362 130 376\"/>\n",
       "<path stroke-width=\"0.5\" stroke=\"gray\" d=\"M 130 376 269 262\"/>\n",
       "<path stroke-width=\"0.5\" stroke=\"gray\" d=\"M 98 298 89 320\"/>\n",
       "<path stroke-width=\"0.5\" stroke=\"gray\" d=\"M 130 376 168 362\"/>\n",
       "<path stroke-width=\"0.5\" stroke=\"gray\" d=\"M 359 255 366 288\"/>\n",
       "<path stroke-width=\"0.5\" stroke=\"gray\" d=\"M 359 255 286 233\"/>\n",
       "<path stroke-width=\"0.5\" stroke=\"gray\" d=\"M 359 255 271 218\"/>\n",
       "<path stroke-width=\"0.5\" stroke=\"gray\" d=\"M 359 255 326 293\"/>\n",
       "<path stroke-width=\"0.5\" stroke=\"gray\" d=\"M 50 215 269 262\"/>\n",
       "<path stroke-width=\"0.5\" stroke=\"gray\" d=\"M 432 288 269 262\"/>\n",
       "<path stroke-width=\"0.5\" stroke=\"gray\" d=\"M 258 154 269 262\"/>\n",
       "<path stroke-width=\"0.5\" stroke=\"gray\" d=\"M 359 255 269 262\"/>\n",
       "<path stroke-width=\"0.5\" stroke=\"gray\" d=\"M 286 233 458 160\"/>\n",
       "<path stroke-width=\"0.5\" stroke=\"gray\" d=\"M 286 233 448 185\"/>\n",
       "<path stroke-width=\"0.5\" stroke=\"gray\" d=\"M 286 233 326 293\"/>\n",
       "<path stroke-width=\"0.5\" stroke=\"gray\" d=\"M 269 262 127 326\"/>\n",
       "<path stroke-width=\"0.5\" stroke=\"gray\" d=\"M 269 262 98 298\"/>\n",
       "<path stroke-width=\"0.5\" stroke=\"gray\" d=\"M 269 262 89 320\"/>\n",
       "<path stroke-width=\"0.5\" stroke=\"gray\" d=\"M 269 262 168 362\"/>\n",
       "<path stroke-width=\"0.5\" stroke=\"gray\" d=\"M 269 262 130 376\"/>\n",
       "<path stroke-width=\"0.5\" stroke=\"gray\" d=\"M 269 262 359 255\"/>\n",
       "<path stroke-width=\"0.5\" stroke=\"gray\" d=\"M 269 262 50 215\"/>\n",
       "<path stroke-width=\"0.5\" stroke=\"gray\" d=\"M 269 262 432 288\"/>\n",
       "<path stroke-width=\"0.5\" stroke=\"gray\" d=\"M 269 262 258 154\"/>\n",
       "<path stroke-width=\"0.5\" stroke=\"gray\" d=\"M 269 262 172 165\"/>\n",
       "<path stroke-width=\"0.5\" stroke=\"gray\" d=\"M 269 262 205 141\"/>\n",
       "<path stroke-width=\"0.5\" stroke=\"gray\" d=\"M 269 262 473 218\"/>\n",
       "<path stroke-width=\"0.5\" stroke=\"gray\" d=\"M 269 262 166 233\"/>\n",
       "<path stroke-width=\"0.5\" stroke=\"gray\" d=\"M 269 262 221 394\"/>\n",
       "<path stroke-width=\"0.5\" stroke=\"gray\" d=\"M 269 262 71 274\"/>\n",
       "<path stroke-width=\"0.5\" stroke=\"gray\" d=\"M 269 262 342 156\"/>\n",
       "<path stroke-width=\"0.5\" stroke=\"gray\" d=\"M 269 262 192 266\"/>\n",
       "<path stroke-width=\"0.5\" stroke=\"gray\" d=\"M 269 262 271 218\"/>\n",
       "<path stroke-width=\"0.5\" stroke=\"gray\" d=\"M 269 262 314 186\"/>\n",
       "<path stroke-width=\"0.5\" stroke=\"gray\" d=\"M 269 262 269 360\"/>\n",
       "<path stroke-width=\"0.5\" stroke=\"gray\" d=\"M 269 262 370 119\"/>\n",
       "<path stroke-width=\"0.5\" stroke=\"gray\" d=\"M 269 262 366 288\"/>\n",
       "<path stroke-width=\"0.5\" stroke=\"gray\" d=\"M 269 262 271 122\"/>\n",
       "<path stroke-width=\"0.5\" stroke=\"gray\" d=\"M 269 262 394 415\"/>\n",
       "<path stroke-width=\"0.5\" stroke=\"gray\" d=\"M 269 262 80 190\"/>\n",
       "<path stroke-width=\"0.5\" stroke=\"gray\" d=\"M 269 262 433 324\"/>\n",
       "<path stroke-width=\"0.5\" stroke=\"gray\" d=\"M 269 262 101 160\"/>\n",
       "<path stroke-width=\"0.5\" stroke=\"gray\" d=\"M 269 262 404 346\"/>\n",
       "<path stroke-width=\"0.5\" stroke=\"gray\" d=\"M 269 262 171 316\"/>\n",
       "<path stroke-width=\"0.5\" stroke=\"gray\" d=\"M 269 262 511 232\"/>\n",
       "<path stroke-width=\"0.5\" stroke=\"gray\" d=\"M 269 262 225 173\"/>\n",
       "<path stroke-width=\"0.5\" stroke=\"gray\" d=\"M 269 262 286 233\"/>\n",
       "<path stroke-width=\"0.5\" stroke=\"gray\" d=\"M 269 262 492 282\"/>\n",
       "<path stroke-width=\"0.5\" stroke=\"gray\" d=\"M 269 262 57 245\"/>\n",
       "<path stroke-width=\"0.5\" stroke=\"gray\" d=\"M 269 262 295 394\"/>\n",
       "<path stroke-width=\"0.5\" stroke=\"gray\" d=\"M 269 262 492 323\"/>\n",
       "<path stroke-width=\"0.5\" stroke=\"gray\" d=\"M 559 299 269 262\"/>\n",
       "<path stroke-width=\"0.5\" stroke=\"gray\" d=\"M 559 299 720 350\"/>\n",
       "<path stroke-width=\"0.5\" stroke=\"gray\" d=\"M 720 350 559 299\"/>\n",
       "<path stroke-width=\"0.5\" stroke=\"gray\" d=\"M 404 346 366 288\"/>\n",
       "<path stroke-width=\"0.5\" stroke=\"gray\" d=\"M 404 346 433 324\"/>\n",
       "<path stroke-width=\"0.5\" stroke=\"gray\" d=\"M 492 323 269 262\"/>\n",
       "<path stroke-width=\"0.5\" stroke=\"gray\" d=\"M 171 316 269 262\"/>\n",
       "<path stroke-width=\"0.5\" stroke=\"gray\" d=\"M 171 316 227 337\"/>\n",
       "<path stroke-width=\"0.5\" stroke=\"gray\" d=\"M 227 337 171 316\"/>\n",
       "<path stroke-width=\"0.5\" stroke=\"gray\" d=\"M 511 232 269 262\"/>\n",
       "<path stroke-width=\"0.5\" stroke=\"gray\" d=\"M 404 346 269 262\"/>\n",
       "<path stroke-width=\"0.5\" stroke=\"gray\" d=\"M 225 173 269 262\"/>\n",
       "<path stroke-width=\"0.5\" stroke=\"gray\" d=\"M 286 233 366 288\"/>\n",
       "<path stroke-width=\"0.5\" stroke=\"gray\" d=\"M 286 233 314 186\"/>\n",
       "<path stroke-width=\"0.5\" stroke=\"gray\" d=\"M 286 233 271 218\"/>\n",
       "<path stroke-width=\"0.5\" stroke=\"gray\" d=\"M 286 233 192 266\"/>\n",
       "<path stroke-width=\"0.5\" stroke=\"gray\" d=\"M 286 233 180 195\"/>\n",
       "<path stroke-width=\"0.5\" stroke=\"gray\" d=\"M 286 233 20 262\"/>\n",
       "<path stroke-width=\"0.5\" stroke=\"gray\" d=\"M 286 233 359 255\"/>\n",
       "<path stroke-width=\"0.5\" stroke=\"gray\" d=\"M 286 233 269 262\"/>\n",
       "<path stroke-width=\"0.5\" stroke=\"gray\" d=\"M 458 160 286 233\"/>\n",
       "<path stroke-width=\"0.5\" stroke=\"gray\" d=\"M 433 324 404 346\"/>\n",
       "<path stroke-width=\"0.5\" stroke=\"gray\" d=\"M 433 324 269 262\"/>\n",
       "<path stroke-width=\"0.5\" stroke=\"gray\" d=\"M 269 360 269 262\"/>\n",
       "<path stroke-width=\"0.5\" stroke=\"gray\" d=\"M 373 20 370 119\"/>\n",
       "<path stroke-width=\"0.5\" stroke=\"gray\" d=\"M 370 119 269 262\"/>\n",
       "<path stroke-width=\"0.5\" stroke=\"gray\" d=\"M 370 119 373 20\"/>\n",
       "<path stroke-width=\"0.5\" stroke=\"gray\" d=\"M 366 288 269 262\"/>\n",
       "<path stroke-width=\"0.5\" stroke=\"gray\" d=\"M 366 288 433 324\"/>\n",
       "<path stroke-width=\"0.5\" stroke=\"gray\" d=\"M 366 288 404 346\"/>\n",
       "<path stroke-width=\"0.5\" stroke=\"gray\" d=\"M 433 324 366 288\"/>\n",
       "<path stroke-width=\"0.5\" stroke=\"gray\" d=\"M 366 288 286 233\"/>\n",
       "<path stroke-width=\"0.5\" stroke=\"gray\" d=\"M 366 288 359 255\"/>\n",
       "<path stroke-width=\"0.5\" stroke=\"gray\" d=\"M 366 288 326 293\"/>\n",
       "<path stroke-width=\"0.5\" stroke=\"gray\" d=\"M 271 122 269 262\"/>\n",
       "<path stroke-width=\"0.5\" stroke=\"gray\" d=\"M 394 415 269 262\"/>\n",
       "<path stroke-width=\"0.5\" stroke=\"gray\" d=\"M 394 415 456 520\"/>\n",
       "<path stroke-width=\"0.5\" stroke=\"gray\" d=\"M 456 520 394 415\"/>\n",
       "<path stroke-width=\"0.5\" stroke=\"gray\" d=\"M 80 190 269 262\"/>\n",
       "<path stroke-width=\"0.5\" stroke=\"gray\" d=\"M 366 288 271 218\"/>\n",
       "<path stroke-width=\"0.5\" stroke=\"gray\" d=\"M 458 160 448 185\"/>\n",
       "<circle cx=\"269\" cy=\"262\" r=\"3.0\" style=\"fill:rgb(179, 3, 38);stroke:black;stroke-width:1.0\"/>\n",
       "<circle cx=\"559\" cy=\"299\" r=\"3.0\" style=\"fill:rgb(70, 93, 207);stroke:black;stroke-width:1.0\"/>\n",
       "<circle cx=\"720\" cy=\"350\" r=\"3.0\" style=\"fill:rgb(60, 79, 195);stroke:black;stroke-width:1.0\"/>\n",
       "<circle cx=\"269\" cy=\"360\" r=\"3.0\" style=\"fill:rgb(58, 76, 192);stroke:black;stroke-width:1.0\"/>\n",
       "<circle cx=\"373\" cy=\"20\" r=\"3.0\" style=\"fill:rgb(60, 79, 195);stroke:black;stroke-width:1.0\"/>\n",
       "<circle cx=\"370\" cy=\"119\" r=\"3.0\" style=\"fill:rgb(70, 93, 207);stroke:black;stroke-width:1.0\"/>\n",
       "<circle cx=\"366\" cy=\"288\" r=\"3.0\" style=\"fill:rgb(96, 128, 232);stroke:black;stroke-width:1.0\"/>\n",
       "<circle cx=\"271\" cy=\"122\" r=\"3.0\" style=\"fill:rgb(58, 76, 192);stroke:black;stroke-width:1.0\"/>\n",
       "<circle cx=\"394\" cy=\"415\" r=\"3.0\" style=\"fill:rgb(70, 93, 207);stroke:black;stroke-width:1.0\"/>\n",
       "<circle cx=\"456\" cy=\"520\" r=\"3.0\" style=\"fill:rgb(60, 79, 195);stroke:black;stroke-width:1.0\"/>\n",
       "<circle cx=\"80\" cy=\"190\" r=\"3.0\" style=\"fill:rgb(58, 76, 192);stroke:black;stroke-width:1.0\"/>\n",
       "<circle cx=\"433\" cy=\"324\" r=\"3.0\" style=\"fill:rgb(70, 93, 207);stroke:black;stroke-width:1.0\"/>\n",
       "<circle cx=\"404\" cy=\"346\" r=\"3.0\" style=\"fill:rgb(70, 93, 207);stroke:black;stroke-width:1.0\"/>\n",
       "<circle cx=\"492\" cy=\"323\" r=\"3.0\" style=\"fill:rgb(58, 76, 192);stroke:black;stroke-width:1.0\"/>\n",
       "<circle cx=\"171\" cy=\"316\" r=\"3.0\" style=\"fill:rgb(70, 93, 207);stroke:black;stroke-width:1.0\"/>\n",
       "<circle cx=\"227\" cy=\"337\" r=\"3.0\" style=\"fill:rgb(60, 79, 195);stroke:black;stroke-width:1.0\"/>\n",
       "<circle cx=\"511\" cy=\"232\" r=\"3.0\" style=\"fill:rgb(58, 76, 192);stroke:black;stroke-width:1.0\"/>\n",
       "<circle cx=\"225\" cy=\"173\" r=\"3.0\" style=\"fill:rgb(58, 76, 192);stroke:black;stroke-width:1.0\"/>\n",
       "<circle cx=\"286\" cy=\"233\" r=\"3.0\" style=\"fill:rgb(130, 165, 251);stroke:black;stroke-width:1.0\"/>\n",
       "<circle cx=\"492\" cy=\"282\" r=\"3.0\" style=\"fill:rgb(58, 76, 192);stroke:black;stroke-width:1.0\"/>\n",
       "<circle cx=\"57\" cy=\"245\" r=\"3.0\" style=\"fill:rgb(58, 76, 192);stroke:black;stroke-width:1.0\"/>\n",
       "<circle cx=\"295\" cy=\"394\" r=\"3.0\" style=\"fill:rgb(58, 76, 192);stroke:black;stroke-width:1.0\"/>\n",
       "<circle cx=\"314\" cy=\"186\" r=\"3.0\" style=\"fill:rgb(103, 136, 237);stroke:black;stroke-width:1.0\"/>\n",
       "<circle cx=\"271\" cy=\"218\" r=\"3.0\" style=\"fill:rgb(105, 139, 239);stroke:black;stroke-width:1.0\"/>\n",
       "<circle cx=\"192\" cy=\"266\" r=\"3.0\" style=\"fill:rgb(96, 128, 232);stroke:black;stroke-width:1.0\"/>\n",
       "<circle cx=\"342\" cy=\"156\" r=\"3.0\" style=\"fill:rgb(64, 84, 199);stroke:black;stroke-width:1.0\"/>\n",
       "<circle cx=\"137\" cy=\"113\" r=\"3.0\" style=\"fill:rgb(58, 76, 192);stroke:black;stroke-width:1.0\"/>\n",
       "<circle cx=\"465\" cy=\"91\" r=\"3.0\" style=\"fill:rgb(58, 76, 192);stroke:black;stroke-width:1.0\"/>\n",
       "<circle cx=\"180\" cy=\"195\" r=\"3.0\" style=\"fill:rgb(64, 84, 199);stroke:black;stroke-width:1.0\"/>\n",
       "<circle cx=\"127\" cy=\"326\" r=\"3.0\" style=\"fill:rgb(76, 102, 214);stroke:black;stroke-width:1.0\"/>\n",
       "<circle cx=\"98\" cy=\"298\" r=\"3.0\" style=\"fill:rgb(76, 102, 214);stroke:black;stroke-width:1.0\"/>\n",
       "<circle cx=\"89\" cy=\"320\" r=\"3.0\" style=\"fill:rgb(76, 102, 214);stroke:black;stroke-width:1.0\"/>\n",
       "<circle cx=\"20\" cy=\"262\" r=\"3.0\" style=\"fill:rgb(58, 76, 192);stroke:black;stroke-width:1.0\"/>\n",
       "<circle cx=\"168\" cy=\"362\" r=\"3.0\" style=\"fill:rgb(66, 88, 202);stroke:black;stroke-width:1.0\"/>\n",
       "<circle cx=\"130\" cy=\"376\" r=\"3.0\" style=\"fill:rgb(66, 88, 202);stroke:black;stroke-width:1.0\"/>\n",
       "<circle cx=\"359\" cy=\"255\" r=\"3.0\" style=\"fill:rgb(82, 110, 220);stroke:black;stroke-width:1.0\"/>\n",
       "<circle cx=\"50\" cy=\"215\" r=\"3.0\" style=\"fill:rgb(58, 76, 192);stroke:black;stroke-width:1.0\"/>\n",
       "<circle cx=\"432\" cy=\"288\" r=\"3.0\" style=\"fill:rgb(58, 76, 192);stroke:black;stroke-width:1.0\"/>\n",
       "<circle cx=\"258\" cy=\"154\" r=\"3.0\" style=\"fill:rgb(72, 96, 209);stroke:black;stroke-width:1.0\"/>\n",
       "<circle cx=\"172\" cy=\"165\" r=\"3.0\" style=\"fill:rgb(72, 96, 209);stroke:black;stroke-width:1.0\"/>\n",
       "<circle cx=\"205\" cy=\"141\" r=\"3.0\" style=\"fill:rgb(72, 96, 209);stroke:black;stroke-width:1.0\"/>\n",
       "<circle cx=\"473\" cy=\"218\" r=\"3.0\" style=\"fill:rgb(58, 76, 192);stroke:black;stroke-width:1.0\"/>\n",
       "<circle cx=\"166\" cy=\"233\" r=\"3.0\" style=\"fill:rgb(58, 76, 192);stroke:black;stroke-width:1.0\"/>\n",
       "<circle cx=\"221\" cy=\"394\" r=\"3.0\" style=\"fill:rgb(58, 76, 192);stroke:black;stroke-width:1.0\"/>\n",
       "<circle cx=\"71\" cy=\"274\" r=\"3.0\" style=\"fill:rgb(58, 76, 192);stroke:black;stroke-width:1.0\"/>\n",
       "<circle cx=\"101\" cy=\"160\" r=\"3.0\" style=\"fill:rgb(58, 76, 192);stroke:black;stroke-width:1.0\"/>\n",
       "<circle cx=\"326\" cy=\"293\" r=\"3.0\" style=\"fill:rgb(72, 96, 209);stroke:black;stroke-width:1.0\"/>\n",
       "<circle cx=\"448\" cy=\"185\" r=\"3.0\" style=\"fill:rgb(64, 84, 199);stroke:black;stroke-width:1.0\"/>\n",
       "<circle cx=\"458\" cy=\"160\" r=\"3.0\" style=\"fill:rgb(64, 84, 199);stroke:black;stroke-width:1.0\"/>\n",
       "<text text-anchor=\"start\" x=\"275\" y=\"262\" font-size=\"10\">Alice</text><text text-anchor=\"start\" x=\"565\" y=\"299\" font-size=\"10\">Dinah</text><text text-anchor=\"start\" x=\"726\" y=\"350\" font-size=\"10\">Dinah'll</text><text text-anchor=\"start\" x=\"275\" y=\"360\" font-size=\"10\">Hearthrug</text><text text-anchor=\"start\" x=\"379\" y=\"20\" font-size=\"10\">Ada</text><text text-anchor=\"start\" x=\"376\" y=\"119\" font-size=\"10\">Mabel</text><text text-anchor=\"start\" x=\"372\" y=\"288\" font-size=\"10\">Mouse</text><text text-anchor=\"start\" x=\"277\" y=\"122\" font-size=\"10\">William the Conqueror</text><text text-anchor=\"start\" x=\"400\" y=\"415\" font-size=\"10\">William</text><text text-anchor=\"start\" x=\"462\" y=\"520\" font-size=\"10\">Edgar</text><text text-anchor=\"start\" x=\"86\" y=\"190\" font-size=\"10\">Normans</text><text text-anchor=\"start\" x=\"439\" y=\"324\" font-size=\"10\">Fury</text><text text-anchor=\"start\" x=\"410\" y=\"346\" font-size=\"10\">âLet</text><text text-anchor=\"start\" x=\"498\" y=\"323\" font-size=\"10\">Mary Ann</text><text text-anchor=\"start\" x=\"177\" y=\"316\" font-size=\"10\">Bill</text><text text-anchor=\"start\" x=\"233\" y=\"337\" font-size=\"10\">Brandy</text><text text-anchor=\"start\" x=\"517\" y=\"232\" font-size=\"10\">Caterpillar</text><text text-anchor=\"start\" x=\"231\" y=\"173\" font-size=\"10\">Pigeon</text><text text-anchor=\"start\" x=\"292\" y=\"233\" font-size=\"10\">Queen</text><text text-anchor=\"start\" x=\"498\" y=\"282\" font-size=\"10\">Fish-Footman</text><text text-anchor=\"start\" x=\"63\" y=\"245\" font-size=\"10\">Cheshire</text><text text-anchor=\"start\" x=\"301\" y=\"394\" font-size=\"10\">CHORUS</text><text text-anchor=\"start\" x=\"320\" y=\"186\" font-size=\"10\">Hatter</text><text text-anchor=\"start\" x=\"277\" y=\"218\" font-size=\"10\">Hare</text><text text-anchor=\"start\" x=\"198\" y=\"266\" font-size=\"10\">Dormouse</text><text text-anchor=\"start\" x=\"348\" y=\"156\" font-size=\"10\">Time</text><text text-anchor=\"start\" x=\"143\" y=\"113\" font-size=\"10\">the Queen of Hearts</text><text text-anchor=\"start\" x=\"471\" y=\"91\" font-size=\"10\">âUp</text><text text-anchor=\"start\" x=\"186\" y=\"195\" font-size=\"10\">âHe</text><text text-anchor=\"start\" x=\"133\" y=\"326\" font-size=\"10\">Lacie</text><text text-anchor=\"start\" x=\"104\" y=\"298\" font-size=\"10\">Elsie</text><text text-anchor=\"start\" x=\"95\" y=\"320\" font-size=\"10\">Tillie</text><text text-anchor=\"start\" x=\"26\" y=\"262\" font-size=\"10\">Miss</text><text text-anchor=\"start\" x=\"174\" y=\"362\" font-size=\"10\">Kings</text><text text-anchor=\"start\" x=\"136\" y=\"376\" font-size=\"10\">Queens</text><text text-anchor=\"start\" x=\"365\" y=\"255\" font-size=\"10\">Duchess</text><text text-anchor=\"start\" x=\"56\" y=\"215\" font-size=\"10\">Gryphon</text><text text-anchor=\"start\" x=\"438\" y=\"288\" font-size=\"10\">Tortoise</text><text text-anchor=\"start\" x=\"264\" y=\"154\" font-size=\"10\">Arithmetic Ambition</text><text text-anchor=\"start\" x=\"178\" y=\"165\" font-size=\"10\">Uglification</text><text text-anchor=\"start\" x=\"211\" y=\"141\" font-size=\"10\">Derision</text><text text-anchor=\"start\" x=\"479\" y=\"218\" font-size=\"10\">Stretching</text><text text-anchor=\"start\" x=\"172\" y=\"233\" font-size=\"10\">Lobster Quadrille</text><text text-anchor=\"start\" x=\"227\" y=\"394\" font-size=\"10\">âpurpose</text><text text-anchor=\"start\" x=\"77\" y=\"274\" font-size=\"10\">Panther</text><text text-anchor=\"start\" x=\"107\" y=\"160\" font-size=\"10\">Adventures</text><text text-anchor=\"start\" x=\"332\" y=\"293\" font-size=\"10\">Lizard</text><text text-anchor=\"start\" x=\"454\" y=\"185\" font-size=\"10\">Turtle</text><text text-anchor=\"start\" x=\"464\" y=\"160\" font-size=\"10\">Wonderland</text></svg>"
      ],
      "text/plain": [
       "<IPython.core.display.SVG object>"
      ]
     },
     "execution_count": 43,
     "metadata": {},
     "output_type": "execute_result"
    }
   ],
   "source": [
    "G2 = G.copy() # keep G for use with simulation 2\n",
    "\n",
    "draw_graph(G2, show_names=True, node_size=3)"
   ]
  },
  {
   "cell_type": "code",
   "execution_count": 44,
   "id": "7f413012",
   "metadata": {},
   "outputs": [
    {
     "data": {
      "image/png": "[encoded data removed]",
      "text/plain": [
       "<Figure size 640x480 with 1 Axes>"
      ]
     },
     "metadata": {},
     "output_type": "display_data"
    }
   ],
   "source": [
    "cent_df = get_cent_df(G2)\n",
    "\n",
    "cent_df[0:20].plot.barh().invert_yaxis()"
   ]
  },
  {
   "cell_type": "code",
   "execution_count": 45,
   "id": "63c6f0a4",
   "metadata": {},
   "outputs": [
    {
     "data": {
      "text/plain": [
       "['Alice', 'Queen', 'Hatter', 'Hare']"
      ]
     },
     "execution_count": 45,
     "metadata": {},
     "output_type": "execute_result"
    }
   ],
   "source": [
    "drop_nodes = list(cent_df[0:4].index)\n",
    "\n",
    "drop_nodes"
   ]
  },
  {
   "cell_type": "code",
   "execution_count": 46,
   "id": "cedeeb7b",
   "metadata": {},
   "outputs": [],
   "source": [
    "G2.remove_nodes_from(drop_nodes)"
   ]
  },
  {
   "cell_type": "code",
   "execution_count": 47,
   "id": "e38cc110",
   "metadata": {},
   "outputs": [
    {
     "data": {
      "image/svg+xml": [
       "<svg xmlns=\"http://www.w3.org/2000/svg\" width=\"830.6564515868254\" height=\"540\">\n",
       "<path stroke-width=\"0.5\" stroke=\"gray\" d=\"M 93 28 120 20\"/>\n",
       "<path stroke-width=\"0.5\" stroke=\"gray\" d=\"M 463 457 482 445\"/>\n",
       "<path stroke-width=\"0.5\" stroke=\"gray\" d=\"M 463 457 481 468\"/>\n",
       "<path stroke-width=\"0.5\" stroke=\"gray\" d=\"M 481 468 500 457\"/>\n",
       "<path stroke-width=\"0.5\" stroke=\"gray\" d=\"M 481 468 482 445\"/>\n",
       "<path stroke-width=\"0.5\" stroke=\"gray\" d=\"M 481 468 463 457\"/>\n",
       "<path stroke-width=\"0.5\" stroke=\"gray\" d=\"M 153 243 125 251\"/>\n",
       "<path stroke-width=\"0.5\" stroke=\"gray\" d=\"M 125 251 153 243\"/>\n",
       "<path stroke-width=\"0.5\" stroke=\"gray\" d=\"M 410 265 447 257\"/>\n",
       "<path stroke-width=\"0.5\" stroke=\"gray\" d=\"M 410 265 412 247\"/>\n",
       "<path stroke-width=\"0.5\" stroke=\"gray\" d=\"M 34 405 20 422\"/>\n",
       "<path stroke-width=\"0.5\" stroke=\"gray\" d=\"M 34 405 50 422\"/>\n",
       "<path stroke-width=\"0.5\" stroke=\"gray\" d=\"M 20 422 34 405\"/>\n",
       "<path stroke-width=\"0.5\" stroke=\"gray\" d=\"M 20 422 50 422\"/>\n",
       "<path stroke-width=\"0.5\" stroke=\"gray\" d=\"M 50 422 34 405\"/>\n",
       "<path stroke-width=\"0.5\" stroke=\"gray\" d=\"M 50 422 20 422\"/>\n",
       "<path stroke-width=\"0.5\" stroke=\"gray\" d=\"M 412 247 447 257\"/>\n",
       "<path stroke-width=\"0.5\" stroke=\"gray\" d=\"M 412 247 410 265\"/>\n",
       "<path stroke-width=\"0.5\" stroke=\"gray\" d=\"M 463 457 500 457\"/>\n",
       "<path stroke-width=\"0.5\" stroke=\"gray\" d=\"M 482 445 481 468\"/>\n",
       "<path stroke-width=\"0.5\" stroke=\"gray\" d=\"M 482 445 463 457\"/>\n",
       "<path stroke-width=\"0.5\" stroke=\"gray\" d=\"M 482 445 500 457\"/>\n",
       "<path stroke-width=\"0.5\" stroke=\"gray\" d=\"M 120 20 93 28\"/>\n",
       "<path stroke-width=\"0.5\" stroke=\"gray\" d=\"M 229 501 238 520\"/>\n",
       "<path stroke-width=\"0.5\" stroke=\"gray\" d=\"M 238 520 229 501\"/>\n",
       "<path stroke-width=\"0.5\" stroke=\"gray\" d=\"M 447 257 484 249\"/>\n",
       "<path stroke-width=\"0.5\" stroke=\"gray\" d=\"M 447 257 482 268\"/>\n",
       "<path stroke-width=\"0.5\" stroke=\"gray\" d=\"M 447 257 410 265\"/>\n",
       "<path stroke-width=\"0.5\" stroke=\"gray\" d=\"M 447 257 412 247\"/>\n",
       "<path stroke-width=\"0.5\" stroke=\"gray\" d=\"M 145 130 116 136\"/>\n",
       "<path stroke-width=\"0.5\" stroke=\"gray\" d=\"M 720 257 710 238\"/>\n",
       "<path stroke-width=\"0.5\" stroke=\"gray\" d=\"M 116 136 145 130\"/>\n",
       "<path stroke-width=\"0.5\" stroke=\"gray\" d=\"M 484 249 482 268\"/>\n",
       "<path stroke-width=\"0.5\" stroke=\"gray\" d=\"M 482 268 447 257\"/>\n",
       "<path stroke-width=\"0.5\" stroke=\"gray\" d=\"M 482 268 484 249\"/>\n",
       "<path stroke-width=\"0.5\" stroke=\"gray\" d=\"M 528 37 497 35\"/>\n",
       "<path stroke-width=\"0.5\" stroke=\"gray\" d=\"M 497 35 528 37\"/>\n",
       "<path stroke-width=\"0.5\" stroke=\"gray\" d=\"M 500 457 482 445\"/>\n",
       "<path stroke-width=\"0.5\" stroke=\"gray\" d=\"M 500 457 463 457\"/>\n",
       "<path stroke-width=\"0.5\" stroke=\"gray\" d=\"M 500 457 481 468\"/>\n",
       "<path stroke-width=\"0.5\" stroke=\"gray\" d=\"M 484 249 447 257\"/>\n",
       "<path stroke-width=\"0.5\" stroke=\"gray\" d=\"M 710 238 720 257\"/>\n",
       "<circle cx=\"93\" cy=\"28\" r=\"3.0\" style=\"fill:rgb(120, 155, 247);stroke:black;stroke-width:1.0\"/>\n",
       "<circle cx=\"120\" cy=\"20\" r=\"3.0\" style=\"fill:rgb(120, 155, 247);stroke:black;stroke-width:1.0\"/>\n",
       "<circle cx=\"229\" cy=\"501\" r=\"3.0\" style=\"fill:rgb(120, 155, 247);stroke:black;stroke-width:1.0\"/>\n",
       "<circle cx=\"238\" cy=\"520\" r=\"3.0\" style=\"fill:rgb(120, 155, 247);stroke:black;stroke-width:1.0\"/>\n",
       "<circle cx=\"447\" cy=\"257\" r=\"3.0\" style=\"fill:rgb(179, 3, 38);stroke:black;stroke-width:1.0\"/>\n",
       "<circle cx=\"145\" cy=\"130\" r=\"3.0\" style=\"fill:rgb(120, 155, 247);stroke:black;stroke-width:1.0\"/>\n",
       "<circle cx=\"116\" cy=\"136\" r=\"3.0\" style=\"fill:rgb(120, 155, 247);stroke:black;stroke-width:1.0\"/>\n",
       "<circle cx=\"484\" cy=\"249\" r=\"3.0\" style=\"fill:rgb(58, 76, 192);stroke:black;stroke-width:1.0\"/>\n",
       "<circle cx=\"482\" cy=\"268\" r=\"3.0\" style=\"fill:rgb(58, 76, 192);stroke:black;stroke-width:1.0\"/>\n",
       "<circle cx=\"528\" cy=\"37\" r=\"3.0\" style=\"fill:rgb(120, 155, 247);stroke:black;stroke-width:1.0\"/>\n",
       "<circle cx=\"497\" cy=\"35\" r=\"3.0\" style=\"fill:rgb(120, 155, 247);stroke:black;stroke-width:1.0\"/>\n",
       "<circle cx=\"500\" cy=\"457\" r=\"3.0\" style=\"fill:rgb(120, 155, 247);stroke:black;stroke-width:1.0\"/>\n",
       "<circle cx=\"482\" cy=\"445\" r=\"3.0\" style=\"fill:rgb(120, 155, 247);stroke:black;stroke-width:1.0\"/>\n",
       "<circle cx=\"463\" cy=\"457\" r=\"3.0\" style=\"fill:rgb(120, 155, 247);stroke:black;stroke-width:1.0\"/>\n",
       "<circle cx=\"481\" cy=\"468\" r=\"3.0\" style=\"fill:rgb(120, 155, 247);stroke:black;stroke-width:1.0\"/>\n",
       "<circle cx=\"153\" cy=\"243\" r=\"3.0\" style=\"fill:rgb(120, 155, 247);stroke:black;stroke-width:1.0\"/>\n",
       "<circle cx=\"125\" cy=\"251\" r=\"3.0\" style=\"fill:rgb(120, 155, 247);stroke:black;stroke-width:1.0\"/>\n",
       "<circle cx=\"410\" cy=\"265\" r=\"3.0\" style=\"fill:rgb(58, 76, 192);stroke:black;stroke-width:1.0\"/>\n",
       "<circle cx=\"34\" cy=\"405\" r=\"3.0\" style=\"fill:rgb(120, 155, 247);stroke:black;stroke-width:1.0\"/>\n",
       "<circle cx=\"20\" cy=\"422\" r=\"3.0\" style=\"fill:rgb(120, 155, 247);stroke:black;stroke-width:1.0\"/>\n",
       "<circle cx=\"50\" cy=\"422\" r=\"3.0\" style=\"fill:rgb(120, 155, 247);stroke:black;stroke-width:1.0\"/>\n",
       "<circle cx=\"412\" cy=\"247\" r=\"3.0\" style=\"fill:rgb(58, 76, 192);stroke:black;stroke-width:1.0\"/>\n",
       "<circle cx=\"720\" cy=\"257\" r=\"3.0\" style=\"fill:rgb(120, 155, 247);stroke:black;stroke-width:1.0\"/>\n",
       "<circle cx=\"710\" cy=\"238\" r=\"3.0\" style=\"fill:rgb(120, 155, 247);stroke:black;stroke-width:1.0\"/>\n",
       "<text text-anchor=\"start\" x=\"99\" y=\"28\" font-size=\"10\">Dinah</text><text text-anchor=\"start\" x=\"126\" y=\"20\" font-size=\"10\">Dinah'll</text><text text-anchor=\"start\" x=\"235\" y=\"501\" font-size=\"10\">Ada</text><text text-anchor=\"start\" x=\"244\" y=\"520\" font-size=\"10\">Mabel</text><text text-anchor=\"start\" x=\"453\" y=\"257\" font-size=\"10\">Mouse</text><text text-anchor=\"start\" x=\"151\" y=\"130\" font-size=\"10\">William</text><text text-anchor=\"start\" x=\"122\" y=\"136\" font-size=\"10\">Edgar</text><text text-anchor=\"start\" x=\"490\" y=\"249\" font-size=\"10\">Fury</text><text text-anchor=\"start\" x=\"488\" y=\"268\" font-size=\"10\">âLet</text><text text-anchor=\"start\" x=\"534\" y=\"37\" font-size=\"10\">Bill</text><text text-anchor=\"start\" x=\"503\" y=\"35\" font-size=\"10\">Brandy</text><text text-anchor=\"start\" x=\"506\" y=\"457\" font-size=\"10\">Dormouse</text><text text-anchor=\"start\" x=\"488\" y=\"445\" font-size=\"10\">Lacie</text><text text-anchor=\"start\" x=\"469\" y=\"457\" font-size=\"10\">Elsie</text><text text-anchor=\"start\" x=\"487\" y=\"468\" font-size=\"10\">Tillie</text><text text-anchor=\"start\" x=\"159\" y=\"243\" font-size=\"10\">Kings</text><text text-anchor=\"start\" x=\"131\" y=\"251\" font-size=\"10\">Queens</text><text text-anchor=\"start\" x=\"416\" y=\"265\" font-size=\"10\">Duchess</text><text text-anchor=\"start\" x=\"40\" y=\"405\" font-size=\"10\">Arithmetic Ambition</text><text text-anchor=\"start\" x=\"26\" y=\"422\" font-size=\"10\">Uglification</text><text text-anchor=\"start\" x=\"56\" y=\"422\" font-size=\"10\">Derision</text><text text-anchor=\"start\" x=\"418\" y=\"247\" font-size=\"10\">Lizard</text><text text-anchor=\"start\" x=\"726\" y=\"257\" font-size=\"10\">Turtle</text><text text-anchor=\"start\" x=\"716\" y=\"238\" font-size=\"10\">Wonderland</text></svg>"
      ],
      "text/plain": [
       "<IPython.core.display.SVG object>"
      ]
     },
     "execution_count": 47,
     "metadata": {},
     "output_type": "execute_result"
    }
   ],
   "source": [
    "draw_graph(nx.k_core(G2, 1), show_names=True, node_size=3) # removing isolates for clarity"
   ]
  },
  {
   "cell_type": "code",
   "execution_count": 48,
   "id": "a48b2566",
   "metadata": {},
   "outputs": [
    {
     "data": {
      "text/plain": [
       "0.0663265306122449"
      ]
     },
     "execution_count": 48,
     "metadata": {},
     "output_type": "execute_result"
    }
   ],
   "source": [
    "nx.density(G)"
   ]
  },
  {
   "cell_type": "code",
   "execution_count": 49,
   "id": "5573abea",
   "metadata": {},
   "outputs": [
    {
     "data": {
      "text/plain": [
       "0.021212121212121213"
      ]
     },
     "execution_count": 49,
     "metadata": {},
     "output_type": "execute_result"
    }
   ],
   "source": [
    "nx.density(G2)"
   ]
  },
  {
   "cell_type": "code",
   "execution_count": 50,
   "id": "5dedb3c1",
   "metadata": {},
   "outputs": [
    {
     "name": "stdout",
     "output_type": "stream",
     "text": [
      "Graph with 49 nodes and 78 edges\n"
     ]
    }
   ],
   "source": [
    "print(G)"
   ]
  },
  {
   "cell_type": "code",
   "execution_count": 51,
   "id": "101c0c28",
   "metadata": {},
   "outputs": [
    {
     "name": "stdout",
     "output_type": "stream",
     "text": [
      "Graph with 45 nodes and 21 edges\n"
     ]
    }
   ],
   "source": [
    "print(G2)"
   ]
  },
  {
   "cell_type": "code",
   "execution_count": 52,
   "id": "7990d2ea",
   "metadata": {},
   "outputs": [
    {
     "data": {
      "text/plain": [
       "[2,\n",
       " 1,\n",
       " 2,\n",
       " 5,\n",
       " 1,\n",
       " 2,\n",
       " 1,\n",
       " 1,\n",
       " 2,\n",
       " 1,\n",
       " 1,\n",
       " 1,\n",
       " 1,\n",
       " 1,\n",
       " 4,\n",
       " 1,\n",
       " 1,\n",
       " 1,\n",
       " 1,\n",
       " 1,\n",
       " 2,\n",
       " 1,\n",
       " 1,\n",
       " 3,\n",
       " 1,\n",
       " 1,\n",
       " 1,\n",
       " 1,\n",
       " 1,\n",
       " 2]"
      ]
     },
     "execution_count": 52,
     "metadata": {},
     "output_type": "execute_result"
    }
   ],
   "source": [
    "components = list(nx.connected_components(G2))\n",
    "\n",
    "[len(c) for c in components]"
   ]
  },
  {
   "cell_type": "code",
   "execution_count": 53,
   "id": "514cf720",
   "metadata": {},
   "outputs": [
    {
     "data": {
      "text/plain": [
       "30"
      ]
     },
     "execution_count": 53,
     "metadata": {},
     "output_type": "execute_result"
    }
   ],
   "source": [
    "len(components) # fewer, less disrupted"
   ]
  },
  {
   "cell_type": "code",
   "execution_count": 54,
   "id": "ebfe73aa",
   "metadata": {},
   "outputs": [
    {
     "data": {
      "text/plain": [
       "1.5"
      ]
     },
     "execution_count": 54,
     "metadata": {},
     "output_type": "execute_result"
    }
   ],
   "source": [
    "np.mean([len(c) for c in components]) # average component size"
   ]
  },
  {
   "cell_type": "markdown",
   "id": "0081fdf1",
   "metadata": {},
   "source": [
    "# Outcome: \n",
    "\n",
    "Impact looks nearly identical. Both approaches were catastrophic on the network, disrupting communication between nodes.\n",
    "\n",
    "However, the first approach was more disruptive, resulting in more and smaller connnected components. The network has been shattered into more pieces using the first approach."
   ]
  },
  {
   "cell_type": "code",
   "execution_count": null,
   "id": "083f1f93",
   "metadata": {},
   "outputs": [],
   "source": []
  }
 ],
 "metadata": {
  "kernelspec": {
   "display_name": "Python 3 (ipykernel)",
   "language": "python",
   "name": "python3"
  },
  "language_info": {
   "codemirror_mode": {
    "name": "ipython",
    "version": 3
   },
   "file_extension": ".py",
   "mimetype": "text/x-python",
   "name": "python",
   "nbconvert_exporter": "python",
   "pygments_lexer": "ipython3",
   "version": "3.11.5"
  }
 },
 "nbformat": 4,
 "nbformat_minor": 5
}
