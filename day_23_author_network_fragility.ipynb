{
 "cells": [
  {
   "cell_type": "code",
   "execution_count": 5,
   "id": "7423be59",
   "metadata": {},
   "outputs": [],
   "source": [
    "import networkx as nx\n",
    "import numpy as np\n",
    "import pandas as pd\n",
    "\n",
    "# for the explode statement; convert string to list\n",
    "from ast import literal_eval"
   ]
  },
  {
   "cell_type": "code",
   "execution_count": 6,
   "id": "102626ff",
   "metadata": {},
   "outputs": [],
   "source": [
    "# for visualization\n",
    "from IPython.display import SVG \n",
    "from sknetwork.visualization import svg_graph \n",
    "from sknetwork.data import Bunch \n",
    "from sknetwork.ranking import PageRank \n",
    "from scipy.sparse import csr_matrix\n",
    "\n",
    "def draw_graph(G, show_names=False, node_size=1, font_size=10, edge_width=0.5):\n",
    "\n",
    "    adjacency = nx.to_scipy_sparse_array(G, nodelist=None, dtype=None, weight='weight', format='csr')\n",
    "    adjacency = csr_matrix(adjacency) # fix to weird sknetwork-csr issue; comment out to troubleshoot\n",
    "    \n",
    "    names = np.array(list(G.nodes))\n",
    "    \n",
    "    graph = Bunch()\n",
    "    graph.adjacency = adjacency\n",
    "    graph.names = np.array(names)\n",
    "    \n",
    "    pagerank = PageRank()\n",
    "    scores = pagerank.fit_transform(adjacency)\n",
    "\n",
    "    if show_names:\n",
    "        \n",
    "        image = svg_graph(graph.adjacency, font_size=font_size, node_size=node_size, names=graph.names, width=700, height=500, scores=scores, edge_width=edge_width)\n",
    "    \n",
    "    else:\n",
    "        \n",
    "        image = svg_graph(graph.adjacency, node_size=node_size, width=700, height=500, scores = scores, edge_width=edge_width)\n",
    "    \n",
    "    return SVG(image)"
   ]
  },
  {
   "cell_type": "markdown",
   "id": "77a12aec",
   "metadata": {},
   "source": [
    "# Create Graph using Bipartite Projection on Arxiv Dataset"
   ]
  },
  {
   "cell_type": "code",
   "execution_count": 7,
   "id": "443c3cd4",
   "metadata": {},
   "outputs": [
    {
     "data": {
      "text/html": [
       "<div>\n",
       "<style scoped>\n",
       "    .dataframe tbody tr th:only-of-type {\n",
       "        vertical-align: middle;\n",
       "    }\n",
       "\n",
       "    .dataframe tbody tr th {\n",
       "        vertical-align: top;\n",
       "    }\n",
       "\n",
       "    .dataframe thead th {\n",
       "        text-align: right;\n",
       "    }\n",
       "</style>\n",
       "<table border=\"1\" class=\"dataframe\">\n",
       "  <thead>\n",
       "    <tr style=\"text-align: right;\">\n",
       "      <th></th>\n",
       "      <th>authors</th>\n",
       "      <th>title</th>\n",
       "    </tr>\n",
       "  </thead>\n",
       "  <tbody>\n",
       "    <tr>\n",
       "      <th>0</th>\n",
       "      <td>Dustin Nguyen</td>\n",
       "      <td>Neural ODEs as a discovery tool to characteriz...</td>\n",
       "    </tr>\n",
       "    <tr>\n",
       "      <th>1</th>\n",
       "      <td>Yuan-Sen Ting</td>\n",
       "      <td>Neural ODEs as a discovery tool to characteriz...</td>\n",
       "    </tr>\n",
       "    <tr>\n",
       "      <th>2</th>\n",
       "      <td>Todd A. Thompson</td>\n",
       "      <td>Neural ODEs as a discovery tool to characteriz...</td>\n",
       "    </tr>\n",
       "    <tr>\n",
       "      <th>3</th>\n",
       "      <td>Sebastian Lopez</td>\n",
       "      <td>Neural ODEs as a discovery tool to characteriz...</td>\n",
       "    </tr>\n",
       "    <tr>\n",
       "      <th>4</th>\n",
       "      <td>Laura A. Lopez</td>\n",
       "      <td>Neural ODEs as a discovery tool to characteriz...</td>\n",
       "    </tr>\n",
       "  </tbody>\n",
       "</table>\n",
       "</div>"
      ],
      "text/plain": [
       "            authors                                              title\n",
       "0     Dustin Nguyen  Neural ODEs as a discovery tool to characteriz...\n",
       "1     Yuan-Sen Ting  Neural ODEs as a discovery tool to characteriz...\n",
       "2  Todd A. Thompson  Neural ODEs as a discovery tool to characteriz...\n",
       "3   Sebastian Lopez  Neural ODEs as a discovery tool to characteriz...\n",
       "4    Laura A. Lopez  Neural ODEs as a discovery tool to characteriz..."
      ]
     },
     "execution_count": 7,
     "metadata": {},
     "output_type": "execute_result"
    }
   ],
   "source": [
    "data = 'data/arxiv_network_science_data.csv'\n",
    "\n",
    "df = pd.read_csv(data)\n",
    "df['authors'] = df['authors'].apply(literal_eval)\n",
    "\n",
    "df = df[['authors', 'title']]\n",
    "df = df.explode('authors')\n",
    "df.reset_index(drop=True, inplace=True)\n",
    "\n",
    "# fix the & so that scikit-network stops crashing\n",
    "df['authors'] = df['authors'].str.replace('&', 'and')\n",
    "df['title'] = df['title'].str.replace('&', 'and')\n",
    "\n",
    "df.head()"
   ]
  },
  {
   "cell_type": "code",
   "execution_count": 8,
   "id": "e5726918",
   "metadata": {},
   "outputs": [],
   "source": [
    "from networkx.algorithms import bipartite\n",
    "\n",
    "B = nx.from_pandas_edgelist(df, source='authors', target='title')\n",
    "G = bipartite.projected_graph(B, df['authors'])\n",
    "\n",
    "G = nx.k_core(G, 2) # no isolates or two-node groups"
   ]
  },
  {
   "cell_type": "code",
   "execution_count": 9,
   "id": "fbee3229",
   "metadata": {},
   "outputs": [
    {
     "name": "stdout",
     "output_type": "stream",
     "text": [
      "Graph with 59260 nodes and 302588 edges\n"
     ]
    }
   ],
   "source": [
    "print(G)"
   ]
  },
  {
   "cell_type": "code",
   "execution_count": 10,
   "id": "3618797d",
   "metadata": {},
   "outputs": [
    {
     "data": {
      "text/plain": [
       "0.00017233192168756068"
      ]
     },
     "execution_count": 10,
     "metadata": {},
     "output_type": "execute_result"
    }
   ],
   "source": [
    "nx.density(G) # very sparse"
   ]
  },
  {
   "cell_type": "code",
   "execution_count": 11,
   "id": "4ca51e2f",
   "metadata": {},
   "outputs": [
    {
     "data": {
      "text/html": [
       "<div>\n",
       "<style scoped>\n",
       "    .dataframe tbody tr th:only-of-type {\n",
       "        vertical-align: middle;\n",
       "    }\n",
       "\n",
       "    .dataframe tbody tr th {\n",
       "        vertical-align: top;\n",
       "    }\n",
       "\n",
       "    .dataframe thead th {\n",
       "        text-align: right;\n",
       "    }\n",
       "</style>\n",
       "<table border=\"1\" class=\"dataframe\">\n",
       "  <thead>\n",
       "    <tr style=\"text-align: right;\">\n",
       "      <th></th>\n",
       "      <th>node</th>\n",
       "      <th>degrees</th>\n",
       "    </tr>\n",
       "  </thead>\n",
       "  <tbody>\n",
       "    <tr>\n",
       "      <th>0</th>\n",
       "      <td>Dustin Nguyen</td>\n",
       "      <td>4</td>\n",
       "    </tr>\n",
       "    <tr>\n",
       "      <th>1</th>\n",
       "      <td>Yuan-Sen Ting</td>\n",
       "      <td>36</td>\n",
       "    </tr>\n",
       "    <tr>\n",
       "      <th>2</th>\n",
       "      <td>Todd A. Thompson</td>\n",
       "      <td>4</td>\n",
       "    </tr>\n",
       "    <tr>\n",
       "      <th>3</th>\n",
       "      <td>Sebastian Lopez</td>\n",
       "      <td>4</td>\n",
       "    </tr>\n",
       "    <tr>\n",
       "      <th>4</th>\n",
       "      <td>Laura A. Lopez</td>\n",
       "      <td>4</td>\n",
       "    </tr>\n",
       "  </tbody>\n",
       "</table>\n",
       "</div>"
      ],
      "text/plain": [
       "               node  degrees\n",
       "0     Dustin Nguyen        4\n",
       "1     Yuan-Sen Ting       36\n",
       "2  Todd A. Thompson        4\n",
       "3   Sebastian Lopez        4\n",
       "4    Laura A. Lopez        4"
      ]
     },
     "execution_count": 11,
     "metadata": {},
     "output_type": "execute_result"
    }
   ],
   "source": [
    "degree_df = pd.DataFrame(G.degree)\n",
    "degree_df.columns = ['node', 'degrees']\n",
    "\n",
    "degree_df.head()"
   ]
  },
  {
   "cell_type": "code",
   "execution_count": 12,
   "id": "30c5a20e",
   "metadata": {},
   "outputs": [
    {
     "data": {
      "text/plain": [
       "<Axes: ylabel='Frequency'>"
      ]
     },
     "execution_count": 12,
     "metadata": {},
     "output_type": "execute_result"
    },
    {
     "data": {
      "image/png": "[encoded data removed]",
      "text/plain": [
       "<Figure size 640x480 with 1 Axes>"
      ]
     },
     "metadata": {},
     "output_type": "display_data"
    }
   ],
   "source": [
    "degree_df['degrees'].plot.hist(bins=20)"
   ]
  },
  {
   "cell_type": "markdown",
   "id": "f9952d45",
   "metadata": {},
   "source": [
    "# Network Attack Simulation\n",
    "\n",
    "Today, I am trying a very aggressive attack on a large collaboration network. The goal isn't just to disrupt the network but to be able to see the network structures that can withstand such an attack. In each loop, many nodes are removed at once to cause maximum disruption WITHOUT completely destroying the network"
   ]
  },
  {
   "cell_type": "markdown",
   "id": "4970d1f5",
   "metadata": {},
   "source": [
    "# Simulation 1: Iterative Attack"
   ]
  },
  {
   "cell_type": "code",
   "execution_count": 13,
   "id": "dae86ccb",
   "metadata": {},
   "outputs": [],
   "source": [
    "# need for iteration\n",
    "\n",
    "def get_key_node_df(G):\n",
    "    \n",
    "    G = G.copy()\n",
    "    \n",
    "    cent_df = pd.DataFrame(nx.pagerank(G), index=[0]).T # cent = centrality\n",
    "\n",
    "    cent_df.columns = ['pagerank'] # betweenness centrality\n",
    "    cent_df.sort_values('pagerank', inplace=True, ascending=False)\n",
    "    \n",
    "    return cent_df"
   ]
  },
  {
   "cell_type": "code",
   "execution_count": 14,
   "id": "ee1c73a4",
   "metadata": {},
   "outputs": [],
   "source": [
    "G1 = G.copy() # keep G for use with simulation 2\n",
    "\n",
    "#draw_graph(nx.k_core(G1,3), show_names=False, node_size=3) # will take a long time"
   ]
  },
  {
   "cell_type": "code",
   "execution_count": 17,
   "id": "fd578e0c",
   "metadata": {},
   "outputs": [],
   "source": [
    "def remove_nodes(G, iterations=50, cut_size=500):\n",
    "    \n",
    "    results = {}\n",
    "    \n",
    "    G = G.copy()\n",
    "    \n",
    "    for i in range(iterations):\n",
    "        \n",
    "        results[i] = {}\n",
    "        \n",
    "        results[i]['nodes'] = len(G.nodes)\n",
    "        results[i]['edges'] = len(G.edges)\n",
    "        \n",
    "        print('running loop: {}'.format(i))\n",
    "    \n",
    "        cent_df = get_key_node_df(G)\n",
    "\n",
    "        drop_nodes = sorted(cent_df[0:cut_size].index)\n",
    "        \n",
    "        #print('removing key nodes: {}'.format(drop_nodes))\n",
    "\n",
    "        G.remove_nodes_from(drop_nodes)\n",
    "\n",
    "        G = nx.k_core(G, 2) # no isolates or two-node groups\n",
    "\n",
    "        print(G)\n",
    "        \n",
    "        print()\n",
    "        print('---------------')\n",
    "        print()\n",
    "        \n",
    "    return G, results"
   ]
  },
  {
   "cell_type": "code",
   "execution_count": 18,
   "id": "5836204c",
   "metadata": {
    "scrolled": true
   },
   "outputs": [
    {
     "name": "stdout",
     "output_type": "stream",
     "text": [
      "running loop: 0\n",
      "Graph with 57667 nodes and 283092 edges\n",
      "\n",
      "---------------\n",
      "\n",
      "running loop: 1\n",
      "Graph with 56456 nodes and 270366 edges\n",
      "\n",
      "---------------\n",
      "\n",
      "running loop: 2\n",
      "Graph with 55444 nodes and 258832 edges\n",
      "\n",
      "---------------\n",
      "\n",
      "running loop: 3\n",
      "Graph with 54383 nodes and 246298 edges\n",
      "\n",
      "---------------\n",
      "\n",
      "running loop: 4\n",
      "Graph with 53549 nodes and 234207 edges\n",
      "\n",
      "---------------\n",
      "\n",
      "running loop: 5\n",
      "Graph with 52786 nodes and 224604 edges\n",
      "\n",
      "---------------\n",
      "\n",
      "running loop: 6\n",
      "Graph with 52034 nodes and 218385 edges\n",
      "\n",
      "---------------\n",
      "\n",
      "running loop: 7\n",
      "Graph with 51149 nodes and 212846 edges\n",
      "\n",
      "---------------\n",
      "\n",
      "running loop: 8\n",
      "Graph with 49829 nodes and 207389 edges\n",
      "\n",
      "---------------\n",
      "\n",
      "running loop: 9\n",
      "Graph with 48178 nodes and 202885 edges\n",
      "\n",
      "---------------\n",
      "\n",
      "running loop: 10\n",
      "Graph with 47165 nodes and 194321 edges\n",
      "\n",
      "---------------\n",
      "\n",
      "running loop: 11\n",
      "Graph with 45898 nodes and 190310 edges\n",
      "\n",
      "---------------\n",
      "\n",
      "running loop: 12\n",
      "Graph with 44932 nodes and 184470 edges\n",
      "\n",
      "---------------\n",
      "\n",
      "running loop: 13\n",
      "Graph with 43997 nodes and 180344 edges\n",
      "\n",
      "---------------\n",
      "\n",
      "running loop: 14\n",
      "Graph with 43081 nodes and 177198 edges\n",
      "\n",
      "---------------\n",
      "\n",
      "running loop: 15\n",
      "Graph with 42348 nodes and 169154 edges\n",
      "\n",
      "---------------\n",
      "\n",
      "running loop: 16\n",
      "Graph with 41818 nodes and 149056 edges\n",
      "\n",
      "---------------\n",
      "\n",
      "running loop: 17\n",
      "Graph with 41318 nodes and 135931 edges\n",
      "\n",
      "---------------\n",
      "\n",
      "running loop: 18\n",
      "Graph with 40818 nodes and 115944 edges\n",
      "\n",
      "---------------\n",
      "\n",
      "running loop: 19\n",
      "Graph with 40318 nodes and 108836 edges\n",
      "\n",
      "---------------\n",
      "\n",
      "running loop: 20\n",
      "Graph with 39817 nodes and 103214 edges\n",
      "\n",
      "---------------\n",
      "\n",
      "running loop: 21\n",
      "Graph with 39313 nodes and 96519 edges\n",
      "\n",
      "---------------\n",
      "\n",
      "running loop: 22\n",
      "Graph with 38809 nodes and 91609 edges\n",
      "\n",
      "---------------\n",
      "\n",
      "running loop: 23\n",
      "Graph with 38305 nodes and 87304 edges\n",
      "\n",
      "---------------\n",
      "\n",
      "running loop: 24\n",
      "Graph with 37798 nodes and 84664 edges\n",
      "\n",
      "---------------\n",
      "\n",
      "running loop: 25\n",
      "Graph with 37293 nodes and 82467 edges\n",
      "\n",
      "---------------\n",
      "\n",
      "running loop: 26\n",
      "Graph with 36790 nodes and 79413 edges\n",
      "\n",
      "---------------\n",
      "\n",
      "running loop: 27\n",
      "Graph with 36281 nodes and 76928 edges\n",
      "\n",
      "---------------\n",
      "\n",
      "running loop: 28\n",
      "Graph with 35753 nodes and 75048 edges\n",
      "\n",
      "---------------\n",
      "\n",
      "running loop: 29\n",
      "Graph with 35251 nodes and 72218 edges\n",
      "\n",
      "---------------\n",
      "\n",
      "running loop: 30\n",
      "Graph with 34748 nodes and 69608 edges\n",
      "\n",
      "---------------\n",
      "\n",
      "running loop: 31\n",
      "Graph with 34243 nodes and 67552 edges\n",
      "\n",
      "---------------\n",
      "\n",
      "running loop: 32\n",
      "Graph with 33724 nodes and 65134 edges\n",
      "\n",
      "---------------\n",
      "\n",
      "running loop: 33\n",
      "Graph with 33195 nodes and 63430 edges\n",
      "\n",
      "---------------\n",
      "\n",
      "running loop: 34\n",
      "Graph with 32690 nodes and 61739 edges\n",
      "\n",
      "---------------\n",
      "\n",
      "running loop: 35\n",
      "Graph with 32176 nodes and 60758 edges\n",
      "\n",
      "---------------\n",
      "\n",
      "running loop: 36\n",
      "Graph with 31639 nodes and 59892 edges\n",
      "\n",
      "---------------\n",
      "\n",
      "running loop: 37\n",
      "Graph with 31124 nodes and 58191 edges\n",
      "\n",
      "---------------\n",
      "\n",
      "running loop: 38\n",
      "Graph with 30616 nodes and 55424 edges\n",
      "\n",
      "---------------\n",
      "\n",
      "running loop: 39\n",
      "Graph with 30114 nodes and 53603 edges\n",
      "\n",
      "---------------\n",
      "\n",
      "running loop: 40\n",
      "Graph with 29598 nodes and 51152 edges\n",
      "\n",
      "---------------\n",
      "\n",
      "running loop: 41\n",
      "Graph with 29055 nodes and 50311 edges\n",
      "\n",
      "---------------\n",
      "\n",
      "running loop: 42\n",
      "Graph with 28538 nodes and 49380 edges\n",
      "\n",
      "---------------\n",
      "\n",
      "running loop: 43\n",
      "Graph with 28001 nodes and 48582 edges\n",
      "\n",
      "---------------\n",
      "\n",
      "running loop: 44\n",
      "Graph with 27489 nodes and 47279 edges\n",
      "\n",
      "---------------\n",
      "\n",
      "running loop: 45\n",
      "Graph with 26959 nodes and 46381 edges\n",
      "\n",
      "---------------\n",
      "\n",
      "running loop: 46\n",
      "Graph with 26453 nodes and 44822 edges\n",
      "\n",
      "---------------\n",
      "\n",
      "running loop: 47\n",
      "Graph with 25912 nodes and 43883 edges\n",
      "\n",
      "---------------\n",
      "\n",
      "running loop: 48\n",
      "Graph with 25402 nodes and 42474 edges\n",
      "\n",
      "---------------\n",
      "\n",
      "running loop: 49\n",
      "Graph with 24893 nodes and 41180 edges\n",
      "\n",
      "---------------\n",
      "\n"
     ]
    }
   ],
   "source": [
    "G1, results = remove_nodes(G1, iterations=50)"
   ]
  },
  {
   "cell_type": "code",
   "execution_count": 19,
   "id": "083f1f93",
   "metadata": {},
   "outputs": [
    {
     "data": {
      "text/html": [
       "<div>\n",
       "<style scoped>\n",
       "    .dataframe tbody tr th:only-of-type {\n",
       "        vertical-align: middle;\n",
       "    }\n",
       "\n",
       "    .dataframe tbody tr th {\n",
       "        vertical-align: top;\n",
       "    }\n",
       "\n",
       "    .dataframe thead th {\n",
       "        text-align: right;\n",
       "    }\n",
       "</style>\n",
       "<table border=\"1\" class=\"dataframe\">\n",
       "  <thead>\n",
       "    <tr style=\"text-align: right;\">\n",
       "      <th></th>\n",
       "      <th>nodes</th>\n",
       "      <th>edges</th>\n",
       "      <th>nodes_dropped</th>\n",
       "      <th>edges_dropped</th>\n",
       "    </tr>\n",
       "  </thead>\n",
       "  <tbody>\n",
       "    <tr>\n",
       "      <th>0</th>\n",
       "      <td>59260</td>\n",
       "      <td>302588</td>\n",
       "      <td>0.0</td>\n",
       "      <td>0.0</td>\n",
       "    </tr>\n",
       "    <tr>\n",
       "      <th>1</th>\n",
       "      <td>57667</td>\n",
       "      <td>283092</td>\n",
       "      <td>1593.0</td>\n",
       "      <td>19496.0</td>\n",
       "    </tr>\n",
       "    <tr>\n",
       "      <th>2</th>\n",
       "      <td>56456</td>\n",
       "      <td>270366</td>\n",
       "      <td>1211.0</td>\n",
       "      <td>12726.0</td>\n",
       "    </tr>\n",
       "    <tr>\n",
       "      <th>3</th>\n",
       "      <td>55444</td>\n",
       "      <td>258832</td>\n",
       "      <td>1012.0</td>\n",
       "      <td>11534.0</td>\n",
       "    </tr>\n",
       "    <tr>\n",
       "      <th>4</th>\n",
       "      <td>54383</td>\n",
       "      <td>246298</td>\n",
       "      <td>1061.0</td>\n",
       "      <td>12534.0</td>\n",
       "    </tr>\n",
       "  </tbody>\n",
       "</table>\n",
       "</div>"
      ],
      "text/plain": [
       "   nodes   edges  nodes_dropped  edges_dropped\n",
       "0  59260  302588            0.0            0.0\n",
       "1  57667  283092         1593.0        19496.0\n",
       "2  56456  270366         1211.0        12726.0\n",
       "3  55444  258832         1012.0        11534.0\n",
       "4  54383  246298         1061.0        12534.0"
      ]
     },
     "execution_count": 19,
     "metadata": {},
     "output_type": "execute_result"
    }
   ],
   "source": [
    "result_df = pd.DataFrame(results).T\n",
    "result_df['nodes_dropped'] = result_df['nodes'].diff(1).abs()\n",
    "result_df['edges_dropped'] = result_df['edges'].diff(1).abs()\n",
    "result_df.fillna(0, inplace=True)\n",
    "result_df.head()"
   ]
  },
  {
   "cell_type": "code",
   "execution_count": 20,
   "id": "70bfa1d2",
   "metadata": {},
   "outputs": [
    {
     "data": {
      "image/png": "[encoded data removed]",
      "text/plain": [
       "<Figure size 1200x800 with 1 Axes>"
      ]
     },
     "metadata": {},
     "output_type": "display_data"
    }
   ],
   "source": [
    "_= result_df['nodes_dropped'].plot.bar(figsize=(12,8), title='Nodes Dropped by Step')"
   ]
  },
  {
   "cell_type": "code",
   "execution_count": 21,
   "id": "e34a305c",
   "metadata": {},
   "outputs": [
    {
     "data": {
      "image/png": "[encoded data removed]",
      "text/plain": [
       "<Figure size 1200x800 with 1 Axes>"
      ]
     },
     "metadata": {},
     "output_type": "display_data"
    }
   ],
   "source": [
    "_= result_df['edges_dropped'].plot.bar(figsize=(12,8), title='Edges Dropped by Step')"
   ]
  },
  {
   "cell_type": "code",
   "execution_count": 22,
   "id": "03990fb1",
   "metadata": {},
   "outputs": [],
   "source": [
    "# learning at each iteration\n",
    "# speeding up at each step, because smaller networks\n",
    "# betweenness centrality and shortest path related things are very slow on larger networks\n",
    "# pagerank can be used instead\n",
    "# use a centrality that can determine importance beyond number of edges; goal is to cut bridge nodes\n",
    "# attack options are only limited by creativity\n",
    "\n",
    "# on complex network, might need larger cut sizes to be effective\n",
    "# goal was to shatter the network as quickly as possible\n",
    "\n",
    "# collaborative networks seem to be more resilient in nature; considering that some papers have dozens of authors"
   ]
  },
  {
   "cell_type": "markdown",
   "id": "91cb4da8",
   "metadata": {},
   "source": [
    "# Investigate Surviving Structures"
   ]
  },
  {
   "cell_type": "code",
   "execution_count": 23,
   "id": "92599bd0",
   "metadata": {},
   "outputs": [],
   "source": [
    "def show_component_count(components, cutoff=4):\n",
    "\n",
    "    i = 0\n",
    "    \n",
    "    for c in components:\n",
    "        \n",
    "        if len(c) > cutoff:\n",
    "\n",
    "            print('c: {} - len: {}'.format(i, len(c)))\n",
    "\n",
    "        i += 1"
   ]
  },
  {
   "cell_type": "code",
   "execution_count": 24,
   "id": "ef944798",
   "metadata": {},
   "outputs": [],
   "source": [
    "def draw_component(G, component, show_names=False):\n",
    "    \n",
    "    G = G.copy()\n",
    "\n",
    "    G_check = G.subgraph(component)\n",
    "\n",
    "    return draw_graph(G_check, show_names=show_names, node_size=3)"
   ]
  },
  {
   "cell_type": "code",
   "execution_count": 25,
   "id": "e264166d",
   "metadata": {},
   "outputs": [
    {
     "data": {
      "text/plain": [
       "4848"
      ]
     },
     "execution_count": 25,
     "metadata": {},
     "output_type": "execute_result"
    }
   ],
   "source": [
    "components = list(nx.connected_components(G))\n",
    "len(components)"
   ]
  },
  {
   "cell_type": "code",
   "execution_count": 26,
   "id": "1c25f690",
   "metadata": {},
   "outputs": [
    {
     "name": "stdout",
     "output_type": "stream",
     "text": [
      "c: 0 - len: 76\n",
      "c: 1 - len: 32185\n",
      "c: 189 - len: 49\n",
      "c: 309 - len: 44\n",
      "c: 463 - len: 50\n",
      "c: 607 - len: 86\n",
      "c: 649 - len: 62\n",
      "c: 653 - len: 120\n",
      "c: 810 - len: 42\n",
      "c: 1012 - len: 73\n",
      "c: 1061 - len: 57\n",
      "c: 1073 - len: 47\n"
     ]
    }
   ],
   "source": [
    "show_component_count(components, 40)"
   ]
  },
  {
   "cell_type": "code",
   "execution_count": 27,
   "id": "9e2f4484",
   "metadata": {},
   "outputs": [
    {
     "data": {
      "image/svg+xml": [
       "<svg xmlns=\"http://www.w3.org/2000/svg\" width=\"740\" height=\"540\">\n",
       "<path stroke-width=\"0.5\" stroke=\"black\" d=\"M 115 20 389 267\"/>\n",
       "<path stroke-width=\"0.5\" stroke=\"black\" d=\"M 558 520 657 499\"/>\n",
       "<path stroke-width=\"0.5\" stroke=\"black\" d=\"M 558 520 389 267\"/>\n",
       "<path stroke-width=\"0.5\" stroke=\"black\" d=\"M 558 520 534 220\"/>\n",
       "<path stroke-width=\"0.5\" stroke=\"black\" d=\"M 558 520 720 373\"/>\n",
       "<path stroke-width=\"0.5\" stroke=\"black\" d=\"M 507 400 697 221\"/>\n",
       "<path stroke-width=\"0.5\" stroke=\"black\" d=\"M 507 400 616 342\"/>\n",
       "<path stroke-width=\"0.5\" stroke=\"black\" d=\"M 507 400 558 520\"/>\n",
       "<path stroke-width=\"0.5\" stroke=\"black\" d=\"M 507 400 613 142\"/>\n",
       "<path stroke-width=\"0.5\" stroke=\"black\" d=\"M 507 400 657 499\"/>\n",
       "<path stroke-width=\"0.5\" stroke=\"black\" d=\"M 507 400 389 267\"/>\n",
       "<path stroke-width=\"0.5\" stroke=\"black\" d=\"M 507 400 534 220\"/>\n",
       "<path stroke-width=\"0.5\" stroke=\"black\" d=\"M 507 400 720 373\"/>\n",
       "<path stroke-width=\"0.5\" stroke=\"black\" d=\"M 72 334 20 155\"/>\n",
       "<path stroke-width=\"0.5\" stroke=\"black\" d=\"M 72 334 389 267\"/>\n",
       "<path stroke-width=\"0.5\" stroke=\"black\" d=\"M 72 334 115 20\"/>\n",
       "<path stroke-width=\"0.5\" stroke=\"black\" d=\"M 613 142 697 221\"/>\n",
       "<path stroke-width=\"0.5\" stroke=\"black\" d=\"M 613 142 616 342\"/>\n",
       "<path stroke-width=\"0.5\" stroke=\"black\" d=\"M 558 520 613 142\"/>\n",
       "<path stroke-width=\"0.5\" stroke=\"black\" d=\"M 613 142 558 520\"/>\n",
       "<path stroke-width=\"0.5\" stroke=\"black\" d=\"M 558 520 507 400\"/>\n",
       "<path stroke-width=\"0.5\" stroke=\"black\" d=\"M 558 520 697 221\"/>\n",
       "<path stroke-width=\"0.5\" stroke=\"black\" d=\"M 697 221 507 400\"/>\n",
       "<path stroke-width=\"0.5\" stroke=\"black\" d=\"M 697 221 613 142\"/>\n",
       "<path stroke-width=\"0.5\" stroke=\"black\" d=\"M 697 221 657 499\"/>\n",
       "<path stroke-width=\"0.5\" stroke=\"black\" d=\"M 697 221 389 267\"/>\n",
       "<path stroke-width=\"0.5\" stroke=\"black\" d=\"M 697 221 534 220\"/>\n",
       "<path stroke-width=\"0.5\" stroke=\"black\" d=\"M 697 221 720 373\"/>\n",
       "<path stroke-width=\"0.5\" stroke=\"black\" d=\"M 20 155 72 334\"/>\n",
       "<path stroke-width=\"0.5\" stroke=\"black\" d=\"M 20 155 389 267\"/>\n",
       "<path stroke-width=\"0.5\" stroke=\"black\" d=\"M 20 155 115 20\"/>\n",
       "<path stroke-width=\"0.5\" stroke=\"black\" d=\"M 616 342 697 221\"/>\n",
       "<path stroke-width=\"0.5\" stroke=\"black\" d=\"M 616 342 558 520\"/>\n",
       "<path stroke-width=\"0.5\" stroke=\"black\" d=\"M 616 342 507 400\"/>\n",
       "<path stroke-width=\"0.5\" stroke=\"black\" d=\"M 616 342 613 142\"/>\n",
       "<path stroke-width=\"0.5\" stroke=\"black\" d=\"M 616 342 657 499\"/>\n",
       "<path stroke-width=\"0.5\" stroke=\"black\" d=\"M 616 342 389 267\"/>\n",
       "<path stroke-width=\"0.5\" stroke=\"black\" d=\"M 616 342 534 220\"/>\n",
       "<path stroke-width=\"0.5\" stroke=\"black\" d=\"M 616 342 720 373\"/>\n",
       "<path stroke-width=\"0.5\" stroke=\"black\" d=\"M 558 520 616 342\"/>\n",
       "<path stroke-width=\"0.5\" stroke=\"black\" d=\"M 613 142 507 400\"/>\n",
       "<path stroke-width=\"0.5\" stroke=\"black\" d=\"M 613 142 657 499\"/>\n",
       "<path stroke-width=\"0.5\" stroke=\"black\" d=\"M 613 142 389 267\"/>\n",
       "<path stroke-width=\"0.5\" stroke=\"black\" d=\"M 534 220 616 342\"/>\n",
       "<path stroke-width=\"0.5\" stroke=\"black\" d=\"M 534 220 558 520\"/>\n",
       "<path stroke-width=\"0.5\" stroke=\"black\" d=\"M 534 220 507 400\"/>\n",
       "<path stroke-width=\"0.5\" stroke=\"black\" d=\"M 534 220 613 142\"/>\n",
       "<path stroke-width=\"0.5\" stroke=\"black\" d=\"M 534 220 657 499\"/>\n",
       "<path stroke-width=\"0.5\" stroke=\"black\" d=\"M 534 220 389 267\"/>\n",
       "<path stroke-width=\"0.5\" stroke=\"black\" d=\"M 534 220 720 373\"/>\n",
       "<path stroke-width=\"0.5\" stroke=\"black\" d=\"M 720 373 697 221\"/>\n",
       "<path stroke-width=\"0.5\" stroke=\"black\" d=\"M 720 373 616 342\"/>\n",
       "<path stroke-width=\"0.5\" stroke=\"black\" d=\"M 720 373 558 520\"/>\n",
       "<path stroke-width=\"0.5\" stroke=\"black\" d=\"M 720 373 507 400\"/>\n",
       "<path stroke-width=\"0.5\" stroke=\"black\" d=\"M 720 373 613 142\"/>\n",
       "<path stroke-width=\"0.5\" stroke=\"black\" d=\"M 720 373 657 499\"/>\n",
       "<path stroke-width=\"0.5\" stroke=\"black\" d=\"M 720 373 389 267\"/>\n",
       "<path stroke-width=\"0.5\" stroke=\"black\" d=\"M 720 373 534 220\"/>\n",
       "<path stroke-width=\"0.5\" stroke=\"black\" d=\"M 115 20 20 155\"/>\n",
       "<path stroke-width=\"0.5\" stroke=\"black\" d=\"M 115 20 72 334\"/>\n",
       "<path stroke-width=\"0.5\" stroke=\"black\" d=\"M 534 220 697 221\"/>\n",
       "<path stroke-width=\"0.5\" stroke=\"black\" d=\"M 389 267 115 20\"/>\n",
       "<path stroke-width=\"0.5\" stroke=\"black\" d=\"M 389 267 720 373\"/>\n",
       "<path stroke-width=\"0.5\" stroke=\"black\" d=\"M 389 267 534 220\"/>\n",
       "<path stroke-width=\"0.5\" stroke=\"black\" d=\"M 613 142 534 220\"/>\n",
       "<path stroke-width=\"0.5\" stroke=\"black\" d=\"M 613 142 720 373\"/>\n",
       "<path stroke-width=\"0.5\" stroke=\"black\" d=\"M 657 499 697 221\"/>\n",
       "<path stroke-width=\"0.5\" stroke=\"black\" d=\"M 657 499 616 342\"/>\n",
       "<path stroke-width=\"0.5\" stroke=\"black\" d=\"M 657 499 558 520\"/>\n",
       "<path stroke-width=\"0.5\" stroke=\"black\" d=\"M 657 499 507 400\"/>\n",
       "<path stroke-width=\"0.5\" stroke=\"black\" d=\"M 657 499 613 142\"/>\n",
       "<path stroke-width=\"0.5\" stroke=\"black\" d=\"M 657 499 389 267\"/>\n",
       "<path stroke-width=\"0.5\" stroke=\"black\" d=\"M 697 221 558 520\"/>\n",
       "<path stroke-width=\"0.5\" stroke=\"black\" d=\"M 657 499 534 220\"/>\n",
       "<path stroke-width=\"0.5\" stroke=\"black\" d=\"M 389 267 697 221\"/>\n",
       "<path stroke-width=\"0.5\" stroke=\"black\" d=\"M 389 267 20 155\"/>\n",
       "<path stroke-width=\"0.5\" stroke=\"black\" d=\"M 389 267 616 342\"/>\n",
       "<path stroke-width=\"0.5\" stroke=\"black\" d=\"M 389 267 558 520\"/>\n",
       "<path stroke-width=\"0.5\" stroke=\"black\" d=\"M 389 267 507 400\"/>\n",
       "<path stroke-width=\"0.5\" stroke=\"black\" d=\"M 389 267 72 334\"/>\n",
       "<path stroke-width=\"0.5\" stroke=\"black\" d=\"M 389 267 613 142\"/>\n",
       "<path stroke-width=\"0.5\" stroke=\"black\" d=\"M 389 267 657 499\"/>\n",
       "<path stroke-width=\"0.5\" stroke=\"black\" d=\"M 657 499 720 373\"/>\n",
       "<path stroke-width=\"0.5\" stroke=\"black\" d=\"M 697 221 616 342\"/>\n",
       "<circle cx=\"115\" cy=\"20\" r=\"3.0\" style=\"fill:rgb(58, 76, 192);stroke:black;stroke-width:1.0\"/>\n",
       "<circle cx=\"720\" cy=\"373\" r=\"3.0\" style=\"fill:rgb(205, 217, 236);stroke:black;stroke-width:1.0\"/>\n",
       "<circle cx=\"534\" cy=\"220\" r=\"3.0\" style=\"fill:rgb(205, 217, 236);stroke:black;stroke-width:1.0\"/>\n",
       "<circle cx=\"389\" cy=\"267\" r=\"3.0\" style=\"fill:rgb(179, 3, 38);stroke:black;stroke-width:1.0\"/>\n",
       "<circle cx=\"657\" cy=\"499\" r=\"3.0\" style=\"fill:rgb(205, 217, 236);stroke:black;stroke-width:1.0\"/>\n",
       "<circle cx=\"613\" cy=\"142\" r=\"3.0\" style=\"fill:rgb(205, 217, 236);stroke:black;stroke-width:1.0\"/>\n",
       "<circle cx=\"72\" cy=\"334\" r=\"3.0\" style=\"fill:rgb(58, 76, 192);stroke:black;stroke-width:1.0\"/>\n",
       "<circle cx=\"507\" cy=\"400\" r=\"3.0\" style=\"fill:rgb(205, 217, 236);stroke:black;stroke-width:1.0\"/>\n",
       "<circle cx=\"558\" cy=\"520\" r=\"3.0\" style=\"fill:rgb(205, 217, 236);stroke:black;stroke-width:1.0\"/>\n",
       "<circle cx=\"616\" cy=\"342\" r=\"3.0\" style=\"fill:rgb(205, 217, 236);stroke:black;stroke-width:1.0\"/>\n",
       "<circle cx=\"20\" cy=\"155\" r=\"3.0\" style=\"fill:rgb(58, 76, 192);stroke:black;stroke-width:1.0\"/>\n",
       "<circle cx=\"697\" cy=\"221\" r=\"3.0\" style=\"fill:rgb(205, 217, 236);stroke:black;stroke-width:1.0\"/>\n",
       "</svg>"
      ],
      "text/plain": [
       "<IPython.core.display.SVG object>"
      ]
     },
     "execution_count": 27,
     "metadata": {},
     "output_type": "execute_result"
    }
   ],
   "source": [
    "component = components[816]\n",
    "\n",
    "draw_component(G, component)"
   ]
  },
  {
   "cell_type": "code",
   "execution_count": 28,
   "id": "3aa00d3b",
   "metadata": {},
   "outputs": [
    {
     "data": {
      "text/plain": [
       "6363"
      ]
     },
     "execution_count": 28,
     "metadata": {},
     "output_type": "execute_result"
    }
   ],
   "source": [
    "components = list(nx.connected_components(G1))\n",
    "len(components)"
   ]
  },
  {
   "cell_type": "code",
   "execution_count": 29,
   "id": "6fe27bd6",
   "metadata": {},
   "outputs": [
    {
     "name": "stdout",
     "output_type": "stream",
     "text": [
      "c: 50 - len: 10\n",
      "c: 53 - len: 10\n",
      "c: 89 - len: 10\n",
      "c: 673 - len: 10\n",
      "c: 891 - len: 10\n",
      "c: 928 - len: 10\n",
      "c: 949 - len: 10\n",
      "c: 1025 - len: 10\n",
      "c: 1358 - len: 10\n",
      "c: 1386 - len: 10\n",
      "c: 1462 - len: 10\n",
      "c: 1816 - len: 10\n",
      "c: 2395 - len: 10\n",
      "c: 2407 - len: 10\n",
      "c: 2629 - len: 10\n",
      "c: 2686 - len: 10\n",
      "c: 2859 - len: 10\n",
      "c: 3004 - len: 10\n",
      "c: 3084 - len: 10\n",
      "c: 3119 - len: 10\n",
      "c: 3146 - len: 10\n",
      "c: 3502 - len: 10\n",
      "c: 4968 - len: 10\n",
      "c: 5266 - len: 10\n",
      "c: 5298 - len: 10\n"
     ]
    }
   ],
   "source": [
    "show_component_count(components, 9)"
   ]
  },
  {
   "cell_type": "code",
   "execution_count": 30,
   "id": "62c8680c",
   "metadata": {},
   "outputs": [
    {
     "data": {
      "image/svg+xml": [
       "<svg xmlns=\"http://www.w3.org/2000/svg\" width=\"890.0\" height=\"540\">\n",
       "<path stroke-width=\"0.5\" stroke=\"gray\" d=\"M 720 196 695 404\"/>\n",
       "<path stroke-width=\"0.5\" stroke=\"gray\" d=\"M 20 346 695 404\"/>\n",
       "<path stroke-width=\"0.5\" stroke=\"gray\" d=\"M 20 346 720 196\"/>\n",
       "<path stroke-width=\"0.5\" stroke=\"gray\" d=\"M 194 484 258 223\"/>\n",
       "<path stroke-width=\"0.5\" stroke=\"gray\" d=\"M 194 484 545 56\"/>\n",
       "<path stroke-width=\"0.5\" stroke=\"gray\" d=\"M 194 484 20 346\"/>\n",
       "<path stroke-width=\"0.5\" stroke=\"gray\" d=\"M 194 484 448 520\"/>\n",
       "<path stroke-width=\"0.5\" stroke=\"gray\" d=\"M 194 484 293 20\"/>\n",
       "<path stroke-width=\"0.5\" stroke=\"gray\" d=\"M 194 484 52 137\"/>\n",
       "<path stroke-width=\"0.5\" stroke=\"gray\" d=\"M 20 346 470 310\"/>\n",
       "<path stroke-width=\"0.5\" stroke=\"gray\" d=\"M 194 484 470 310\"/>\n",
       "<path stroke-width=\"0.5\" stroke=\"gray\" d=\"M 194 484 720 196\"/>\n",
       "<path stroke-width=\"0.5\" stroke=\"gray\" d=\"M 448 520 258 223\"/>\n",
       "<path stroke-width=\"0.5\" stroke=\"gray\" d=\"M 448 520 545 56\"/>\n",
       "<path stroke-width=\"0.5\" stroke=\"gray\" d=\"M 448 520 20 346\"/>\n",
       "<path stroke-width=\"0.5\" stroke=\"gray\" d=\"M 448 520 194 484\"/>\n",
       "<path stroke-width=\"0.5\" stroke=\"gray\" d=\"M 448 520 293 20\"/>\n",
       "<path stroke-width=\"0.5\" stroke=\"gray\" d=\"M 448 520 52 137\"/>\n",
       "<path stroke-width=\"0.5\" stroke=\"gray\" d=\"M 448 520 470 310\"/>\n",
       "<path stroke-width=\"0.5\" stroke=\"gray\" d=\"M 194 484 695 404\"/>\n",
       "<path stroke-width=\"0.5\" stroke=\"gray\" d=\"M 20 346 52 137\"/>\n",
       "<path stroke-width=\"0.5\" stroke=\"gray\" d=\"M 20 346 293 20\"/>\n",
       "<path stroke-width=\"0.5\" stroke=\"gray\" d=\"M 20 346 448 520\"/>\n",
       "<path stroke-width=\"0.5\" stroke=\"gray\" d=\"M 258 223 194 484\"/>\n",
       "<path stroke-width=\"0.5\" stroke=\"gray\" d=\"M 258 223 448 520\"/>\n",
       "<path stroke-width=\"0.5\" stroke=\"gray\" d=\"M 258 223 293 20\"/>\n",
       "<path stroke-width=\"0.5\" stroke=\"gray\" d=\"M 258 223 52 137\"/>\n",
       "<path stroke-width=\"0.5\" stroke=\"gray\" d=\"M 258 223 470 310\"/>\n",
       "<path stroke-width=\"0.5\" stroke=\"gray\" d=\"M 258 223 695 404\"/>\n",
       "<path stroke-width=\"0.5\" stroke=\"gray\" d=\"M 258 223 720 196\"/>\n",
       "<path stroke-width=\"0.5\" stroke=\"gray\" d=\"M 545 56 258 223\"/>\n",
       "<path stroke-width=\"0.5\" stroke=\"gray\" d=\"M 545 56 20 346\"/>\n",
       "<path stroke-width=\"0.5\" stroke=\"gray\" d=\"M 545 56 194 484\"/>\n",
       "<path stroke-width=\"0.5\" stroke=\"gray\" d=\"M 545 56 448 520\"/>\n",
       "<path stroke-width=\"0.5\" stroke=\"gray\" d=\"M 545 56 293 20\"/>\n",
       "<path stroke-width=\"0.5\" stroke=\"gray\" d=\"M 545 56 52 137\"/>\n",
       "<path stroke-width=\"0.5\" stroke=\"gray\" d=\"M 545 56 470 310\"/>\n",
       "<path stroke-width=\"0.5\" stroke=\"gray\" d=\"M 545 56 695 404\"/>\n",
       "<path stroke-width=\"0.5\" stroke=\"gray\" d=\"M 545 56 720 196\"/>\n",
       "<path stroke-width=\"0.5\" stroke=\"gray\" d=\"M 20 346 258 223\"/>\n",
       "<path stroke-width=\"0.5\" stroke=\"gray\" d=\"M 20 346 545 56\"/>\n",
       "<path stroke-width=\"0.5\" stroke=\"gray\" d=\"M 20 346 194 484\"/>\n",
       "<path stroke-width=\"0.5\" stroke=\"gray\" d=\"M 448 520 695 404\"/>\n",
       "<path stroke-width=\"0.5\" stroke=\"gray\" d=\"M 448 520 720 196\"/>\n",
       "<path stroke-width=\"0.5\" stroke=\"gray\" d=\"M 293 20 258 223\"/>\n",
       "<path stroke-width=\"0.5\" stroke=\"gray\" d=\"M 293 20 545 56\"/>\n",
       "<path stroke-width=\"0.5\" stroke=\"gray\" d=\"M 470 310 695 404\"/>\n",
       "<path stroke-width=\"0.5\" stroke=\"gray\" d=\"M 470 310 720 196\"/>\n",
       "<path stroke-width=\"0.5\" stroke=\"gray\" d=\"M 695 404 258 223\"/>\n",
       "<path stroke-width=\"0.5\" stroke=\"gray\" d=\"M 695 404 545 56\"/>\n",
       "<path stroke-width=\"0.5\" stroke=\"gray\" d=\"M 695 404 20 346\"/>\n",
       "<path stroke-width=\"0.5\" stroke=\"gray\" d=\"M 695 404 194 484\"/>\n",
       "<path stroke-width=\"0.5\" stroke=\"gray\" d=\"M 695 404 448 520\"/>\n",
       "<path stroke-width=\"0.5\" stroke=\"gray\" d=\"M 695 404 293 20\"/>\n",
       "<path stroke-width=\"0.5\" stroke=\"gray\" d=\"M 695 404 52 137\"/>\n",
       "<path stroke-width=\"0.5\" stroke=\"gray\" d=\"M 695 404 470 310\"/>\n",
       "<path stroke-width=\"0.5\" stroke=\"gray\" d=\"M 695 404 720 196\"/>\n",
       "<path stroke-width=\"0.5\" stroke=\"gray\" d=\"M 720 196 258 223\"/>\n",
       "<path stroke-width=\"0.5\" stroke=\"gray\" d=\"M 720 196 545 56\"/>\n",
       "<path stroke-width=\"0.5\" stroke=\"gray\" d=\"M 720 196 20 346\"/>\n",
       "<path stroke-width=\"0.5\" stroke=\"gray\" d=\"M 720 196 194 484\"/>\n",
       "<path stroke-width=\"0.5\" stroke=\"gray\" d=\"M 720 196 448 520\"/>\n",
       "<path stroke-width=\"0.5\" stroke=\"gray\" d=\"M 720 196 293 20\"/>\n",
       "<path stroke-width=\"0.5\" stroke=\"gray\" d=\"M 720 196 52 137\"/>\n",
       "<path stroke-width=\"0.5\" stroke=\"gray\" d=\"M 720 196 470 310\"/>\n",
       "<path stroke-width=\"0.5\" stroke=\"gray\" d=\"M 470 310 52 137\"/>\n",
       "<path stroke-width=\"0.5\" stroke=\"gray\" d=\"M 258 223 20 346\"/>\n",
       "<path stroke-width=\"0.5\" stroke=\"gray\" d=\"M 470 310 293 20\"/>\n",
       "<path stroke-width=\"0.5\" stroke=\"gray\" d=\"M 470 310 194 484\"/>\n",
       "<path stroke-width=\"0.5\" stroke=\"gray\" d=\"M 293 20 20 346\"/>\n",
       "<path stroke-width=\"0.5\" stroke=\"gray\" d=\"M 293 20 194 484\"/>\n",
       "<path stroke-width=\"0.5\" stroke=\"gray\" d=\"M 293 20 448 520\"/>\n",
       "<path stroke-width=\"0.5\" stroke=\"gray\" d=\"M 293 20 52 137\"/>\n",
       "<path stroke-width=\"0.5\" stroke=\"gray\" d=\"M 293 20 470 310\"/>\n",
       "<path stroke-width=\"0.5\" stroke=\"gray\" d=\"M 293 20 695 404\"/>\n",
       "<path stroke-width=\"0.5\" stroke=\"gray\" d=\"M 293 20 720 196\"/>\n",
       "<path stroke-width=\"0.5\" stroke=\"gray\" d=\"M 52 137 258 223\"/>\n",
       "<path stroke-width=\"0.5\" stroke=\"gray\" d=\"M 52 137 545 56\"/>\n",
       "<path stroke-width=\"0.5\" stroke=\"gray\" d=\"M 52 137 20 346\"/>\n",
       "<path stroke-width=\"0.5\" stroke=\"gray\" d=\"M 52 137 194 484\"/>\n",
       "<path stroke-width=\"0.5\" stroke=\"gray\" d=\"M 52 137 448 520\"/>\n",
       "<path stroke-width=\"0.5\" stroke=\"gray\" d=\"M 52 137 293 20\"/>\n",
       "<path stroke-width=\"0.5\" stroke=\"gray\" d=\"M 52 137 470 310\"/>\n",
       "<path stroke-width=\"0.5\" stroke=\"gray\" d=\"M 52 137 695 404\"/>\n",
       "<path stroke-width=\"0.5\" stroke=\"gray\" d=\"M 52 137 720 196\"/>\n",
       "<path stroke-width=\"0.5\" stroke=\"gray\" d=\"M 470 310 258 223\"/>\n",
       "<path stroke-width=\"0.5\" stroke=\"gray\" d=\"M 470 310 545 56\"/>\n",
       "<path stroke-width=\"0.5\" stroke=\"gray\" d=\"M 470 310 20 346\"/>\n",
       "<path stroke-width=\"0.5\" stroke=\"gray\" d=\"M 470 310 448 520\"/>\n",
       "<path stroke-width=\"0.5\" stroke=\"gray\" d=\"M 258 223 545 56\"/>\n",
       "<circle cx=\"720\" cy=\"196\" r=\"3.0\" style=\"fill:rgb(219, 220, 222);stroke:black;stroke-width:1.0\"/>\n",
       "<circle cx=\"695\" cy=\"404\" r=\"3.0\" style=\"fill:rgb(219, 220, 222);stroke:black;stroke-width:1.0\"/>\n",
       "<circle cx=\"470\" cy=\"310\" r=\"3.0\" style=\"fill:rgb(219, 220, 222);stroke:black;stroke-width:1.0\"/>\n",
       "<circle cx=\"52\" cy=\"137\" r=\"3.0\" style=\"fill:rgb(219, 220, 222);stroke:black;stroke-width:1.0\"/>\n",
       "<circle cx=\"293\" cy=\"20\" r=\"3.0\" style=\"fill:rgb(219, 220, 222);stroke:black;stroke-width:1.0\"/>\n",
       "<circle cx=\"448\" cy=\"520\" r=\"3.0\" style=\"fill:rgb(219, 220, 222);stroke:black;stroke-width:1.0\"/>\n",
       "<circle cx=\"194\" cy=\"484\" r=\"3.0\" style=\"fill:rgb(219, 220, 222);stroke:black;stroke-width:1.0\"/>\n",
       "<circle cx=\"20\" cy=\"346\" r=\"3.0\" style=\"fill:rgb(219, 220, 222);stroke:black;stroke-width:1.0\"/>\n",
       "<circle cx=\"545\" cy=\"56\" r=\"3.0\" style=\"fill:rgb(219, 220, 222);stroke:black;stroke-width:1.0\"/>\n",
       "<circle cx=\"258\" cy=\"223\" r=\"3.0\" style=\"fill:rgb(219, 220, 222);stroke:black;stroke-width:1.0\"/>\n",
       "<text text-anchor=\"start\" x=\"726\" y=\"196\" font-size=\"10\">Eduardo Brandao</text><text text-anchor=\"start\" x=\"701\" y=\"404\" font-size=\"10\">Florent Pigeon</text><text text-anchor=\"start\" x=\"476\" y=\"310\" font-size=\"10\">Amaury Habrard</text><text text-anchor=\"start\" x=\"58\" y=\"137\" font-size=\"10\">François Jacquenet</text><text text-anchor=\"start\" x=\"299\" y=\"20\" font-size=\"10\">Jean-Philippe Colombier</text><text text-anchor=\"start\" x=\"454\" y=\"520\" font-size=\"10\">Stefan Duffner</text><text text-anchor=\"start\" x=\"200\" y=\"484\" font-size=\"10\">Anthony Nakhoul</text><text text-anchor=\"start\" x=\"26\" y=\"346\" font-size=\"10\">Florence Garrelie</text><text text-anchor=\"start\" x=\"551\" y=\"56\" font-size=\"10\">Marc Sebban</text><text text-anchor=\"start\" x=\"264\" y=\"223\" font-size=\"10\">Rémi Emonet</text></svg>"
      ],
      "text/plain": [
       "<IPython.core.display.SVG object>"
      ]
     },
     "execution_count": 30,
     "metadata": {},
     "output_type": "execute_result"
    }
   ],
   "source": [
    "component = components[53]\n",
    "\n",
    "draw_component(G1, component, show_names=True)"
   ]
  },
  {
   "cell_type": "code",
   "execution_count": 31,
   "id": "6409c13b",
   "metadata": {},
   "outputs": [
    {
     "data": {
      "image/svg+xml": [
       "<svg xmlns=\"http://www.w3.org/2000/svg\" width=\"860.0\" height=\"540\">\n",
       "<path stroke-width=\"0.5\" stroke=\"gray\" d=\"M 482 20 46 99\"/>\n",
       "<path stroke-width=\"0.5\" stroke=\"gray\" d=\"M 720 280 46 99\"/>\n",
       "<path stroke-width=\"0.5\" stroke=\"gray\" d=\"M 720 280 482 20\"/>\n",
       "<path stroke-width=\"0.5\" stroke=\"gray\" d=\"M 20 404 720 280\"/>\n",
       "<path stroke-width=\"0.5\" stroke=\"gray\" d=\"M 20 404 438 520\"/>\n",
       "<path stroke-width=\"0.5\" stroke=\"gray\" d=\"M 20 404 46 99\"/>\n",
       "<path stroke-width=\"0.5\" stroke=\"gray\" d=\"M 20 404 482 20\"/>\n",
       "<path stroke-width=\"0.5\" stroke=\"gray\" d=\"M 438 520 720 280\"/>\n",
       "<path stroke-width=\"0.5\" stroke=\"gray\" d=\"M 438 520 20 404\"/>\n",
       "<path stroke-width=\"0.5\" stroke=\"gray\" d=\"M 438 520 46 99\"/>\n",
       "<path stroke-width=\"0.5\" stroke=\"gray\" d=\"M 438 520 482 20\"/>\n",
       "<path stroke-width=\"0.5\" stroke=\"gray\" d=\"M 46 99 720 280\"/>\n",
       "<path stroke-width=\"0.5\" stroke=\"gray\" d=\"M 46 99 20 404\"/>\n",
       "<path stroke-width=\"0.5\" stroke=\"gray\" d=\"M 46 99 438 520\"/>\n",
       "<path stroke-width=\"0.5\" stroke=\"gray\" d=\"M 46 99 482 20\"/>\n",
       "<path stroke-width=\"0.5\" stroke=\"gray\" d=\"M 482 20 720 280\"/>\n",
       "<path stroke-width=\"0.5\" stroke=\"gray\" d=\"M 482 20 20 404\"/>\n",
       "<path stroke-width=\"0.5\" stroke=\"gray\" d=\"M 482 20 438 520\"/>\n",
       "<path stroke-width=\"0.5\" stroke=\"gray\" d=\"M 720 280 438 520\"/>\n",
       "<path stroke-width=\"0.5\" stroke=\"gray\" d=\"M 720 280 20 404\"/>\n",
       "<circle cx=\"482\" cy=\"20\" r=\"3.0\" style=\"fill:rgb(219, 220, 222);stroke:black;stroke-width:1.0\"/>\n",
       "<circle cx=\"46\" cy=\"99\" r=\"3.0\" style=\"fill:rgb(219, 220, 222);stroke:black;stroke-width:1.0\"/>\n",
       "<circle cx=\"438\" cy=\"520\" r=\"3.0\" style=\"fill:rgb(219, 220, 222);stroke:black;stroke-width:1.0\"/>\n",
       "<circle cx=\"20\" cy=\"404\" r=\"3.0\" style=\"fill:rgb(219, 220, 222);stroke:black;stroke-width:1.0\"/>\n",
       "<circle cx=\"720\" cy=\"280\" r=\"3.0\" style=\"fill:rgb(219, 220, 222);stroke:black;stroke-width:1.0\"/>\n",
       "<text text-anchor=\"start\" x=\"488\" y=\"20\" font-size=\"10\">Gokhan Secinti</text><text text-anchor=\"start\" x=\"52\" y=\"99\" font-size=\"10\">Emre Horsanali</text><text text-anchor=\"start\" x=\"444\" y=\"520\" font-size=\"10\">Berk Canberk</text><text text-anchor=\"start\" x=\"26\" y=\"404\" font-size=\"10\">Aytac Karameseoglu</text><text text-anchor=\"start\" x=\"726\" y=\"280\" font-size=\"10\">Yagmur Yigit</text></svg>"
      ],
      "text/plain": [
       "<IPython.core.display.SVG object>"
      ]
     },
     "execution_count": 31,
     "metadata": {},
     "output_type": "execute_result"
    }
   ],
   "source": [
    "component = components[56]\n",
    "\n",
    "draw_component(G1, component, show_names=True)"
   ]
  },
  {
   "cell_type": "code",
   "execution_count": 32,
   "id": "98454455",
   "metadata": {},
   "outputs": [
    {
     "data": {
      "image/svg+xml": [
       "<svg xmlns=\"http://www.w3.org/2000/svg\" width=\"850.0\" height=\"540\">\n",
       "<path stroke-width=\"0.5\" stroke=\"gray\" d=\"M 95 520 720 464\"/>\n",
       "<path stroke-width=\"0.5\" stroke=\"gray\" d=\"M 95 520 20 75\"/>\n",
       "<path stroke-width=\"0.5\" stroke=\"gray\" d=\"M 95 520 644 20\"/>\n",
       "<path stroke-width=\"0.5\" stroke=\"gray\" d=\"M 720 464 95 520\"/>\n",
       "<path stroke-width=\"0.5\" stroke=\"gray\" d=\"M 720 464 20 75\"/>\n",
       "<path stroke-width=\"0.5\" stroke=\"gray\" d=\"M 720 464 644 20\"/>\n",
       "<path stroke-width=\"0.5\" stroke=\"gray\" d=\"M 20 75 95 520\"/>\n",
       "<path stroke-width=\"0.5\" stroke=\"gray\" d=\"M 20 75 720 464\"/>\n",
       "<path stroke-width=\"0.5\" stroke=\"gray\" d=\"M 20 75 644 20\"/>\n",
       "<path stroke-width=\"0.5\" stroke=\"gray\" d=\"M 644 20 95 520\"/>\n",
       "<path stroke-width=\"0.5\" stroke=\"gray\" d=\"M 644 20 720 464\"/>\n",
       "<path stroke-width=\"0.5\" stroke=\"gray\" d=\"M 644 20 20 75\"/>\n",
       "<circle cx=\"95\" cy=\"520\" r=\"3.0\" style=\"fill:rgb(219, 220, 222);stroke:black;stroke-width:1.0\"/>\n",
       "<circle cx=\"720\" cy=\"464\" r=\"3.0\" style=\"fill:rgb(219, 220, 222);stroke:black;stroke-width:1.0\"/>\n",
       "<circle cx=\"20\" cy=\"75\" r=\"3.0\" style=\"fill:rgb(219, 220, 222);stroke:black;stroke-width:1.0\"/>\n",
       "<circle cx=\"644\" cy=\"20\" r=\"3.0\" style=\"fill:rgb(219, 220, 222);stroke:black;stroke-width:1.0\"/>\n",
       "<text text-anchor=\"start\" x=\"101\" y=\"520\" font-size=\"10\">Tomáš Čejka</text><text text-anchor=\"start\" x=\"726\" y=\"464\" font-size=\"10\">Karel Hynek</text><text text-anchor=\"start\" x=\"26\" y=\"75\" font-size=\"10\">Jaroslav Pešek</text><text text-anchor=\"start\" x=\"650\" y=\"20\" font-size=\"10\">Josef Koumar</text></svg>"
      ],
      "text/plain": [
       "<IPython.core.display.SVG object>"
      ]
     },
     "execution_count": 32,
     "metadata": {},
     "output_type": "execute_result"
    }
   ],
   "source": [
    "component = components[92]\n",
    "\n",
    "draw_component(G1, component, show_names=True)"
   ]
  },
  {
   "cell_type": "code",
   "execution_count": 33,
   "id": "01daea57",
   "metadata": {},
   "outputs": [
    {
     "name": "stdout",
     "output_type": "stream",
     "text": [
      "Graph with 59260 nodes and 302588 edges\n"
     ]
    }
   ],
   "source": [
    "print(G)"
   ]
  },
  {
   "cell_type": "code",
   "execution_count": 34,
   "id": "a39fd9b1",
   "metadata": {},
   "outputs": [
    {
     "name": "stdout",
     "output_type": "stream",
     "text": [
      "Graph with 24893 nodes and 41180 edges\n"
     ]
    }
   ],
   "source": [
    "print(G1)"
   ]
  },
  {
   "cell_type": "code",
   "execution_count": 35,
   "id": "91e5f845",
   "metadata": {},
   "outputs": [
    {
     "data": {
      "text/plain": [
       "0.00017233192168756068"
      ]
     },
     "execution_count": 35,
     "metadata": {},
     "output_type": "execute_result"
    }
   ],
   "source": [
    "nx.density(G) # very sparse"
   ]
  },
  {
   "cell_type": "code",
   "execution_count": 36,
   "id": "32bc4a2d",
   "metadata": {},
   "outputs": [
    {
     "data": {
      "text/plain": [
       "0.00013291662540323073"
      ]
     },
     "execution_count": 36,
     "metadata": {},
     "output_type": "execute_result"
    }
   ],
   "source": [
    "nx.density(G1) # very sparse"
   ]
  },
  {
   "cell_type": "code",
   "execution_count": 37,
   "id": "41402435",
   "metadata": {},
   "outputs": [
    {
     "data": {
      "text/html": [
       "<div>\n",
       "<style scoped>\n",
       "    .dataframe tbody tr th:only-of-type {\n",
       "        vertical-align: middle;\n",
       "    }\n",
       "\n",
       "    .dataframe tbody tr th {\n",
       "        vertical-align: top;\n",
       "    }\n",
       "\n",
       "    .dataframe thead th {\n",
       "        text-align: right;\n",
       "    }\n",
       "</style>\n",
       "<table border=\"1\" class=\"dataframe\">\n",
       "  <thead>\n",
       "    <tr style=\"text-align: right;\">\n",
       "      <th></th>\n",
       "      <th>node</th>\n",
       "      <th>degrees</th>\n",
       "    </tr>\n",
       "  </thead>\n",
       "  <tbody>\n",
       "    <tr>\n",
       "      <th>0</th>\n",
       "      <td>Dustin Nguyen</td>\n",
       "      <td>4</td>\n",
       "    </tr>\n",
       "    <tr>\n",
       "      <th>1</th>\n",
       "      <td>Yuan-Sen Ting</td>\n",
       "      <td>36</td>\n",
       "    </tr>\n",
       "    <tr>\n",
       "      <th>2</th>\n",
       "      <td>Todd A. Thompson</td>\n",
       "      <td>4</td>\n",
       "    </tr>\n",
       "    <tr>\n",
       "      <th>3</th>\n",
       "      <td>Sebastian Lopez</td>\n",
       "      <td>4</td>\n",
       "    </tr>\n",
       "    <tr>\n",
       "      <th>4</th>\n",
       "      <td>Laura A. Lopez</td>\n",
       "      <td>4</td>\n",
       "    </tr>\n",
       "  </tbody>\n",
       "</table>\n",
       "</div>"
      ],
      "text/plain": [
       "               node  degrees\n",
       "0     Dustin Nguyen        4\n",
       "1     Yuan-Sen Ting       36\n",
       "2  Todd A. Thompson        4\n",
       "3   Sebastian Lopez        4\n",
       "4    Laura A. Lopez        4"
      ]
     },
     "execution_count": 37,
     "metadata": {},
     "output_type": "execute_result"
    }
   ],
   "source": [
    "degree_df = pd.DataFrame(G.degree)\n",
    "degree_df.columns = ['node', 'degrees']\n",
    "\n",
    "degree_df.head()"
   ]
  },
  {
   "cell_type": "code",
   "execution_count": 38,
   "id": "44c3dda6",
   "metadata": {},
   "outputs": [
    {
     "data": {
      "text/plain": [
       "<Axes: ylabel='Frequency'>"
      ]
     },
     "execution_count": 38,
     "metadata": {},
     "output_type": "execute_result"
    },
    {
     "data": {
      "image/png": "[encoded data removed]",
      "text/plain": [
       "<Figure size 640x480 with 1 Axes>"
      ]
     },
     "metadata": {},
     "output_type": "display_data"
    }
   ],
   "source": [
    "degree_df['degrees'].plot.hist()"
   ]
  },
  {
   "cell_type": "code",
   "execution_count": 39,
   "id": "5bb6c446",
   "metadata": {},
   "outputs": [
    {
     "data": {
      "text/html": [
       "<div>\n",
       "<style scoped>\n",
       "    .dataframe tbody tr th:only-of-type {\n",
       "        vertical-align: middle;\n",
       "    }\n",
       "\n",
       "    .dataframe tbody tr th {\n",
       "        vertical-align: top;\n",
       "    }\n",
       "\n",
       "    .dataframe thead th {\n",
       "        text-align: right;\n",
       "    }\n",
       "</style>\n",
       "<table border=\"1\" class=\"dataframe\">\n",
       "  <thead>\n",
       "    <tr style=\"text-align: right;\">\n",
       "      <th></th>\n",
       "      <th>node</th>\n",
       "      <th>degrees</th>\n",
       "    </tr>\n",
       "  </thead>\n",
       "  <tbody>\n",
       "    <tr>\n",
       "      <th>0</th>\n",
       "      <td>Purvik Patel</td>\n",
       "      <td>2</td>\n",
       "    </tr>\n",
       "    <tr>\n",
       "      <th>1</th>\n",
       "      <td>Franc O</td>\n",
       "      <td>2</td>\n",
       "    </tr>\n",
       "    <tr>\n",
       "      <th>2</th>\n",
       "      <td>Jonathan Blazek</td>\n",
       "      <td>2</td>\n",
       "    </tr>\n",
       "    <tr>\n",
       "      <th>3</th>\n",
       "      <td>Lorenz Kummer</td>\n",
       "      <td>3</td>\n",
       "    </tr>\n",
       "    <tr>\n",
       "      <th>4</th>\n",
       "      <td>Samir Moustafa</td>\n",
       "      <td>3</td>\n",
       "    </tr>\n",
       "  </tbody>\n",
       "</table>\n",
       "</div>"
      ],
      "text/plain": [
       "              node  degrees\n",
       "0     Purvik Patel        2\n",
       "1          Franc O        2\n",
       "2  Jonathan Blazek        2\n",
       "3    Lorenz Kummer        3\n",
       "4   Samir Moustafa        3"
      ]
     },
     "execution_count": 39,
     "metadata": {},
     "output_type": "execute_result"
    }
   ],
   "source": [
    "degree_df = pd.DataFrame(G1.degree)\n",
    "degree_df.columns = ['node', 'degrees']\n",
    "\n",
    "degree_df.head()"
   ]
  },
  {
   "cell_type": "code",
   "execution_count": 40,
   "id": "e1d117f0",
   "metadata": {},
   "outputs": [
    {
     "data": {
      "text/plain": [
       "<Axes: ylabel='Frequency'>"
      ]
     },
     "execution_count": 40,
     "metadata": {},
     "output_type": "execute_result"
    },
    {
     "data": {
      "image/png": "[encoded data removed]",
      "text/plain": [
       "<Figure size 640x480 with 1 Axes>"
      ]
     },
     "metadata": {},
     "output_type": "display_data"
    }
   ],
   "source": [
    "degree_df['degrees'].plot.hist()"
   ]
  },
  {
   "cell_type": "code",
   "execution_count": 41,
   "id": "78f1f913",
   "metadata": {},
   "outputs": [],
   "source": [
    "nodes = [len(G.nodes), len(G1.nodes)]\n",
    "edges = [len(G.edges), len(G1.edges)]"
   ]
  },
  {
   "cell_type": "code",
   "execution_count": 42,
   "id": "7a494a14",
   "metadata": {},
   "outputs": [
    {
     "data": {
      "text/plain": [
       "<Axes: >"
      ]
     },
     "execution_count": 42,
     "metadata": {},
     "output_type": "execute_result"
    },
    {
     "data": {
      "image/png": "[encoded data removed]",
      "text/plain": [
       "<Figure size 640x480 with 1 Axes>"
      ]
     },
     "metadata": {},
     "output_type": "display_data"
    }
   ],
   "source": [
    "final_df = pd.DataFrame({'nodes':nodes, 'edges':edges})\n",
    "final_df.sort_index(ascending=True, inplace=True)\n",
    "\n",
    "final_df['nodes'].plot.bar()"
   ]
  },
  {
   "cell_type": "code",
   "execution_count": 43,
   "id": "33620645",
   "metadata": {},
   "outputs": [
    {
     "data": {
      "text/plain": [
       "<Axes: >"
      ]
     },
     "execution_count": 43,
     "metadata": {},
     "output_type": "execute_result"
    },
    {
     "data": {
      "image/png": "[encoded data removed]",
      "text/plain": [
       "<Figure size 640x480 with 1 Axes>"
      ]
     },
     "metadata": {},
     "output_type": "display_data"
    }
   ],
   "source": [
    "final_df['edges'].plot.bar()"
   ]
  },
  {
   "cell_type": "code",
   "execution_count": 44,
   "id": "bf74a321",
   "metadata": {},
   "outputs": [
    {
     "data": {
      "text/html": [
       "<div>\n",
       "<style scoped>\n",
       "    .dataframe tbody tr th:only-of-type {\n",
       "        vertical-align: middle;\n",
       "    }\n",
       "\n",
       "    .dataframe tbody tr th {\n",
       "        vertical-align: top;\n",
       "    }\n",
       "\n",
       "    .dataframe thead th {\n",
       "        text-align: right;\n",
       "    }\n",
       "</style>\n",
       "<table border=\"1\" class=\"dataframe\">\n",
       "  <thead>\n",
       "    <tr style=\"text-align: right;\">\n",
       "      <th></th>\n",
       "      <th>nodes</th>\n",
       "      <th>edges</th>\n",
       "    </tr>\n",
       "  </thead>\n",
       "  <tbody>\n",
       "    <tr>\n",
       "      <th>0</th>\n",
       "      <td>59260</td>\n",
       "      <td>302588</td>\n",
       "    </tr>\n",
       "    <tr>\n",
       "      <th>1</th>\n",
       "      <td>24893</td>\n",
       "      <td>41180</td>\n",
       "    </tr>\n",
       "  </tbody>\n",
       "</table>\n",
       "</div>"
      ],
      "text/plain": [
       "   nodes   edges\n",
       "0  59260  302588\n",
       "1  24893   41180"
      ]
     },
     "execution_count": 44,
     "metadata": {},
     "output_type": "execute_result"
    }
   ],
   "source": [
    "final_df"
   ]
  },
  {
   "cell_type": "code",
   "execution_count": null,
   "id": "289e7cae",
   "metadata": {},
   "outputs": [],
   "source": []
  },
  {
   "cell_type": "code",
   "execution_count": null,
   "id": "3a6d012b",
   "metadata": {},
   "outputs": [],
   "source": []
  },
  {
   "cell_type": "code",
   "execution_count": null,
   "id": "f14a4ce0",
   "metadata": {},
   "outputs": [],
   "source": []
  }
 ],
 "metadata": {
  "kernelspec": {
   "display_name": "Python 3 (ipykernel)",
   "language": "python",
   "name": "python3"
  },
  "language_info": {
   "codemirror_mode": {
    "name": "ipython",
    "version": 3
   },
   "file_extension": ".py",
   "mimetype": "text/x-python",
   "name": "python",
   "nbconvert_exporter": "python",
   "pygments_lexer": "ipython3",
   "version": "3.11.5"
  }
 },
 "nbformat": 4,
 "nbformat_minor": 5
}
