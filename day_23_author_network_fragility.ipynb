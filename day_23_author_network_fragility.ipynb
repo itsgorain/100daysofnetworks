{
 "cells": [
  {
   "cell_type": "code",
   "execution_count": 75,
   "id": "7423be59",
   "metadata": {},
   "outputs": [],
   "source": [
    "import networkx as nx\n",
    "import numpy as np\n",
    "import pandas as pd\n",
    "\n",
    "# for the explode statement; convert string to list\n",
    "from ast import literal_eval\n",
    "\n",
    "# for visualization\n",
    "from IPython.display import SVG \n",
    "from sknetwork.visualization import svg_graph \n",
    "from sknetwork.data import Bunch \n",
    "from sknetwork.ranking import PageRank "
   ]
  },
  {
   "cell_type": "code",
   "execution_count": 76,
   "id": "102626ff",
   "metadata": {},
   "outputs": [],
   "source": [
    "def draw_graph(G, show_names=False, node_size=1, font_size=10, edge_width=0.5): \n",
    "\n",
    "    adjacency = nx.to_scipy_sparse_matrix(G, nodelist=None, dtype=None, weight='weight', format='csr') \n",
    "\n",
    "    names = np.array(list(G.nodes())) \n",
    "\n",
    "    graph = Bunch() \n",
    "    graph.adjacency = adjacency \n",
    "    graph.names = np.array(names) \n",
    "\n",
    "    pagerank = PageRank() \n",
    "\n",
    "    scores = pagerank.fit_transform(adjacency) \n",
    "\n",
    "    if show_names: \n",
    "        \n",
    "        image = svg_graph(graph.adjacency, font_size=font_size, node_size=node_size, names=graph.names, width=700, height=500, scores=scores, edge_width=edge_width) \n",
    "\n",
    "    else: \n",
    "\n",
    "        image = svg_graph(graph.adjacency, node_size=node_size, width=700, height=500, scores = scores, edge_width=edge_width) \n",
    "\n",
    "    return SVG(image) "
   ]
  },
  {
   "cell_type": "markdown",
   "id": "77a12aec",
   "metadata": {},
   "source": [
    "# Create Graph using Bipartite Projection on Arxiv Dataset"
   ]
  },
  {
   "cell_type": "code",
   "execution_count": 77,
   "id": "443c3cd4",
   "metadata": {},
   "outputs": [
    {
     "data": {
      "text/html": [
       "<div>\n",
       "<style scoped>\n",
       "    .dataframe tbody tr th:only-of-type {\n",
       "        vertical-align: middle;\n",
       "    }\n",
       "\n",
       "    .dataframe tbody tr th {\n",
       "        vertical-align: top;\n",
       "    }\n",
       "\n",
       "    .dataframe thead th {\n",
       "        text-align: right;\n",
       "    }\n",
       "</style>\n",
       "<table border=\"1\" class=\"dataframe\">\n",
       "  <thead>\n",
       "    <tr style=\"text-align: right;\">\n",
       "      <th></th>\n",
       "      <th>authors</th>\n",
       "      <th>title</th>\n",
       "    </tr>\n",
       "  </thead>\n",
       "  <tbody>\n",
       "    <tr>\n",
       "      <th>0</th>\n",
       "      <td>Dustin Nguyen</td>\n",
       "      <td>Neural ODEs as a discovery tool to characteriz...</td>\n",
       "    </tr>\n",
       "    <tr>\n",
       "      <th>1</th>\n",
       "      <td>Yuan-Sen Ting</td>\n",
       "      <td>Neural ODEs as a discovery tool to characteriz...</td>\n",
       "    </tr>\n",
       "    <tr>\n",
       "      <th>2</th>\n",
       "      <td>Todd A. Thompson</td>\n",
       "      <td>Neural ODEs as a discovery tool to characteriz...</td>\n",
       "    </tr>\n",
       "    <tr>\n",
       "      <th>3</th>\n",
       "      <td>Sebastian Lopez</td>\n",
       "      <td>Neural ODEs as a discovery tool to characteriz...</td>\n",
       "    </tr>\n",
       "    <tr>\n",
       "      <th>4</th>\n",
       "      <td>Laura A. Lopez</td>\n",
       "      <td>Neural ODEs as a discovery tool to characteriz...</td>\n",
       "    </tr>\n",
       "  </tbody>\n",
       "</table>\n",
       "</div>"
      ],
      "text/plain": [
       "            authors                                              title\n",
       "0     Dustin Nguyen  Neural ODEs as a discovery tool to characteriz...\n",
       "1     Yuan-Sen Ting  Neural ODEs as a discovery tool to characteriz...\n",
       "2  Todd A. Thompson  Neural ODEs as a discovery tool to characteriz...\n",
       "3   Sebastian Lopez  Neural ODEs as a discovery tool to characteriz...\n",
       "4    Laura A. Lopez  Neural ODEs as a discovery tool to characteriz..."
      ]
     },
     "execution_count": 77,
     "metadata": {},
     "output_type": "execute_result"
    }
   ],
   "source": [
    "data = r'C:\\Users\\groov\\PythonCode\\100daysofnetworks\\data\\arxiv_network_science_data.csv'\n",
    "\n",
    "df = pd.read_csv(data)\n",
    "\n",
    "df = pd.read_csv(data)\n",
    "df['authors'] = df['authors'].apply(literal_eval)\n",
    "\n",
    "df = df[['authors', 'title']]\n",
    "df = df.explode('authors')\n",
    "df.reset_index(drop=True, inplace=True)\n",
    "\n",
    "# fix the & so that scikit-network stops crashing\n",
    "df['authors'] = df['authors'].str.replace('&', 'and')\n",
    "df['title'] = df['title'].str.replace('&', 'and')\n",
    "\n",
    "df.head()"
   ]
  },
  {
   "cell_type": "code",
   "execution_count": 78,
   "id": "e5726918",
   "metadata": {},
   "outputs": [],
   "source": [
    "from networkx.algorithms import bipartite\n",
    "\n",
    "B = nx.from_pandas_edgelist(df, source='authors', target='title')\n",
    "G = bipartite.projected_graph(B, df['authors'])\n",
    "\n",
    "G = nx.k_core(G, 2) # no isolates or two-node groups"
   ]
  },
  {
   "cell_type": "code",
   "execution_count": 79,
   "id": "fbee3229",
   "metadata": {},
   "outputs": [
    {
     "name": "stdout",
     "output_type": "stream",
     "text": [
      "Graph with 65260 nodes and 306509 edges\n"
     ]
    }
   ],
   "source": [
    "print(nx.info(G))"
   ]
  },
  {
   "cell_type": "code",
   "execution_count": 80,
   "id": "3618797d",
   "metadata": {},
   "outputs": [
    {
     "data": {
      "text/plain": [
       "0.00014394140677587773"
      ]
     },
     "execution_count": 80,
     "metadata": {},
     "output_type": "execute_result"
    }
   ],
   "source": [
    "nx.density(G) # very sparse"
   ]
  },
  {
   "cell_type": "code",
   "execution_count": 81,
   "id": "4ca51e2f",
   "metadata": {},
   "outputs": [
    {
     "data": {
      "text/html": [
       "<div>\n",
       "<style scoped>\n",
       "    .dataframe tbody tr th:only-of-type {\n",
       "        vertical-align: middle;\n",
       "    }\n",
       "\n",
       "    .dataframe tbody tr th {\n",
       "        vertical-align: top;\n",
       "    }\n",
       "\n",
       "    .dataframe thead th {\n",
       "        text-align: right;\n",
       "    }\n",
       "</style>\n",
       "<table border=\"1\" class=\"dataframe\">\n",
       "  <thead>\n",
       "    <tr style=\"text-align: right;\">\n",
       "      <th></th>\n",
       "      <th>node</th>\n",
       "      <th>degrees</th>\n",
       "    </tr>\n",
       "  </thead>\n",
       "  <tbody>\n",
       "    <tr>\n",
       "      <th>0</th>\n",
       "      <td>Dustin Nguyen</td>\n",
       "      <td>4</td>\n",
       "    </tr>\n",
       "    <tr>\n",
       "      <th>1</th>\n",
       "      <td>Yuan-Sen Ting</td>\n",
       "      <td>37</td>\n",
       "    </tr>\n",
       "    <tr>\n",
       "      <th>2</th>\n",
       "      <td>Todd A. Thompson</td>\n",
       "      <td>4</td>\n",
       "    </tr>\n",
       "    <tr>\n",
       "      <th>3</th>\n",
       "      <td>Sebastian Lopez</td>\n",
       "      <td>4</td>\n",
       "    </tr>\n",
       "    <tr>\n",
       "      <th>4</th>\n",
       "      <td>Laura A. Lopez</td>\n",
       "      <td>4</td>\n",
       "    </tr>\n",
       "  </tbody>\n",
       "</table>\n",
       "</div>"
      ],
      "text/plain": [
       "               node  degrees\n",
       "0     Dustin Nguyen        4\n",
       "1     Yuan-Sen Ting       37\n",
       "2  Todd A. Thompson        4\n",
       "3   Sebastian Lopez        4\n",
       "4    Laura A. Lopez        4"
      ]
     },
     "execution_count": 81,
     "metadata": {},
     "output_type": "execute_result"
    }
   ],
   "source": [
    "degree_df = pd.DataFrame(G.degree)\n",
    "degree_df.columns = ['node', 'degrees']\n",
    "\n",
    "degree_df.head()"
   ]
  },
  {
   "cell_type": "code",
   "execution_count": 82,
   "id": "30c5a20e",
   "metadata": {},
   "outputs": [
    {
     "data": {
      "text/plain": [
       "<AxesSubplot:ylabel='Frequency'>"
      ]
     },
     "execution_count": 82,
     "metadata": {},
     "output_type": "execute_result"
    },
    {
     "data": {
      "image/png": "[encoded data removed]",
      "text/plain": [
       "<Figure size 432x288 with 1 Axes>"
      ]
     },
     "metadata": {
      "needs_background": "light"
     },
     "output_type": "display_data"
    }
   ],
   "source": [
    "degree_df['degrees'].plot.hist(bins=20)"
   ]
  },
  {
   "cell_type": "markdown",
   "id": "f9952d45",
   "metadata": {},
   "source": [
    "# Network Attack Simulation\n",
    "\n",
    "Today, I am trying a very aggressive attack on a large collaboration network. The goal isn't just to disrupt the network but to be able to see the network structures that can withstand such an attack. In each loop, many nodes are removed at once to cause maximum disruption WITHOUT completely destroying the network"
   ]
  },
  {
   "cell_type": "markdown",
   "id": "4970d1f5",
   "metadata": {},
   "source": [
    "# Simulation 1: Iterative Attack"
   ]
  },
  {
   "cell_type": "code",
   "execution_count": 83,
   "id": "dae86ccb",
   "metadata": {},
   "outputs": [],
   "source": [
    "# need for iteration\n",
    "\n",
    "def get_key_node_df(G):\n",
    "    \n",
    "    G = G.copy()\n",
    "    \n",
    "    cent_df = pd.DataFrame(nx.pagerank(G), index=[0]).T # cent = centrality\n",
    "\n",
    "    cent_df.columns = ['pagerank'] # betweenness centrality\n",
    "    cent_df.sort_values('pagerank', inplace=True, ascending=False)\n",
    "    \n",
    "    return cent_df"
   ]
  },
  {
   "cell_type": "code",
   "execution_count": 84,
   "id": "ee1c73a4",
   "metadata": {},
   "outputs": [],
   "source": [
    "G1 = G.copy() # keep G for use with simulation 2\n",
    "\n",
    "#draw_graph(nx.k_core(G1,3), show_names=False, node_size=3) # will take a long time"
   ]
  },
  {
   "cell_type": "code",
   "execution_count": 182,
   "id": "fd578e0c",
   "metadata": {},
   "outputs": [],
   "source": [
    "def remove_nodes(G, iterations=50, cut_size=500):\n",
    "    \n",
    "    results = {}\n",
    "    \n",
    "    G = G.copy()\n",
    "    \n",
    "    for i in range(iterations):\n",
    "        \n",
    "        results[i] = {}\n",
    "        \n",
    "        results[i]['nodes'] = len(G.nodes)\n",
    "        results[i]['edges'] = len(G.edges)\n",
    "        \n",
    "        print('running loop: {}'.format(i))\n",
    "    \n",
    "        cent_df = get_key_node_df(G)\n",
    "\n",
    "        drop_nodes = sorted(cent_df[0:cut_size].index)\n",
    "        \n",
    "        #print('removing key nodes: {}'.format(drop_nodes))\n",
    "\n",
    "        G.remove_nodes_from(drop_nodes)\n",
    "\n",
    "        G = nx.k_core(G, 2) # no isolates or two-node groups\n",
    "\n",
    "        print(nx.info(G))\n",
    "        \n",
    "        print()\n",
    "        print('---------------')\n",
    "        print()\n",
    "        \n",
    "    return G, results"
   ]
  },
  {
   "cell_type": "code",
   "execution_count": 86,
   "id": "5836204c",
   "metadata": {
    "scrolled": true
   },
   "outputs": [
    {
     "name": "stdout",
     "output_type": "stream",
     "text": [
      "running loop: 0\n",
      "Graph with 57619 nodes and 283677 edges\n",
      "\n",
      "---------------\n",
      "\n",
      "running loop: 1\n",
      "Graph with 56438 nodes and 270568 edges\n",
      "\n",
      "---------------\n",
      "\n",
      "running loop: 2\n",
      "Graph with 55415 nodes and 258991 edges\n",
      "\n",
      "---------------\n",
      "\n",
      "running loop: 3\n",
      "Graph with 54379 nodes and 246397 edges\n",
      "\n",
      "---------------\n",
      "\n",
      "running loop: 4\n",
      "Graph with 53542 nodes and 234412 edges\n",
      "\n",
      "---------------\n",
      "\n",
      "running loop: 5\n",
      "Graph with 52780 nodes and 224854 edges\n",
      "\n",
      "---------------\n",
      "\n",
      "running loop: 6\n",
      "Graph with 52039 nodes and 218559 edges\n",
      "\n",
      "---------------\n",
      "\n",
      "running loop: 7\n",
      "Graph with 51160 nodes and 212944 edges\n",
      "\n",
      "---------------\n",
      "\n",
      "running loop: 8\n",
      "Graph with 49829 nodes and 207485 edges\n",
      "\n",
      "---------------\n",
      "\n",
      "running loop: 9\n",
      "Graph with 48202 nodes and 202914 edges\n",
      "\n",
      "---------------\n",
      "\n",
      "running loop: 10\n",
      "Graph with 47173 nodes and 194372 edges\n",
      "\n",
      "---------------\n",
      "\n",
      "running loop: 11\n",
      "Graph with 45893 nodes and 190417 edges\n",
      "\n",
      "---------------\n",
      "\n",
      "running loop: 12\n",
      "Graph with 44929 nodes and 184552 edges\n",
      "\n",
      "---------------\n",
      "\n",
      "running loop: 13\n",
      "Graph with 43993 nodes and 180470 edges\n",
      "\n",
      "---------------\n",
      "\n",
      "running loop: 14\n",
      "Graph with 43087 nodes and 177224 edges\n",
      "\n",
      "---------------\n",
      "\n",
      "running loop: 15\n",
      "Graph with 42354 nodes and 169190 edges\n",
      "\n",
      "---------------\n",
      "\n",
      "running loop: 16\n",
      "Graph with 41825 nodes and 147607 edges\n",
      "\n",
      "---------------\n",
      "\n",
      "running loop: 17\n",
      "Graph with 41320 nodes and 140069 edges\n",
      "\n",
      "---------------\n",
      "\n",
      "running loop: 18\n",
      "Graph with 40820 nodes and 130290 edges\n",
      "\n",
      "---------------\n",
      "\n",
      "running loop: 19\n",
      "Graph with 40320 nodes and 108589 edges\n",
      "\n",
      "---------------\n",
      "\n",
      "running loop: 20\n",
      "Graph with 39818 nodes and 101912 edges\n",
      "\n",
      "---------------\n",
      "\n",
      "running loop: 21\n",
      "Graph with 39314 nodes and 99118 edges\n",
      "\n",
      "---------------\n",
      "\n",
      "running loop: 22\n",
      "Graph with 38810 nodes and 95571 edges\n",
      "\n",
      "---------------\n",
      "\n",
      "running loop: 23\n",
      "Graph with 38309 nodes and 91083 edges\n",
      "\n",
      "---------------\n",
      "\n",
      "running loop: 24\n",
      "Graph with 37776 nodes and 89636 edges\n",
      "\n",
      "---------------\n",
      "\n",
      "running loop: 25\n",
      "Graph with 37275 nodes and 85247 edges\n",
      "\n",
      "---------------\n",
      "\n",
      "running loop: 26\n",
      "Graph with 36773 nodes and 81287 edges\n",
      "\n",
      "---------------\n",
      "\n",
      "running loop: 27\n",
      "Graph with 36270 nodes and 78918 edges\n",
      "\n",
      "---------------\n",
      "\n",
      "running loop: 28\n",
      "Graph with 35748 nodes and 75672 edges\n",
      "\n",
      "---------------\n",
      "\n",
      "running loop: 29\n",
      "Graph with 35247 nodes and 72189 edges\n",
      "\n",
      "---------------\n",
      "\n",
      "running loop: 30\n",
      "Graph with 34740 nodes and 69701 edges\n",
      "\n",
      "---------------\n",
      "\n",
      "running loop: 31\n",
      "Graph with 34236 nodes and 66701 edges\n",
      "\n",
      "---------------\n",
      "\n",
      "running loop: 32\n",
      "Graph with 33728 nodes and 63363 edges\n",
      "\n",
      "---------------\n",
      "\n",
      "running loop: 33\n",
      "Graph with 33223 nodes and 60904 edges\n",
      "\n",
      "---------------\n",
      "\n",
      "running loop: 34\n",
      "Graph with 32688 nodes and 60052 edges\n",
      "\n",
      "---------------\n",
      "\n",
      "running loop: 35\n",
      "Graph with 32165 nodes and 58743 edges\n",
      "\n",
      "---------------\n",
      "\n",
      "running loop: 36\n",
      "Graph with 31625 nodes and 57734 edges\n",
      "\n",
      "---------------\n",
      "\n",
      "running loop: 37\n",
      "Graph with 31097 nodes and 56896 edges\n",
      "\n",
      "---------------\n",
      "\n",
      "running loop: 38\n",
      "Graph with 30594 nodes and 54586 edges\n",
      "\n",
      "---------------\n",
      "\n",
      "running loop: 39\n",
      "Graph with 30088 nodes and 53291 edges\n",
      "\n",
      "---------------\n",
      "\n",
      "running loop: 40\n",
      "Graph with 29545 nodes and 52398 edges\n",
      "\n",
      "---------------\n",
      "\n",
      "running loop: 41\n",
      "Graph with 29018 nodes and 51431 edges\n",
      "\n",
      "---------------\n",
      "\n",
      "running loop: 42\n",
      "Graph with 28509 nodes and 49930 edges\n",
      "\n",
      "---------------\n",
      "\n",
      "running loop: 43\n",
      "Graph with 28001 nodes and 48639 edges\n",
      "\n",
      "---------------\n",
      "\n",
      "running loop: 44\n",
      "Graph with 27492 nodes and 47355 edges\n",
      "\n",
      "---------------\n",
      "\n",
      "running loop: 45\n",
      "Graph with 26971 nodes and 46442 edges\n",
      "\n",
      "---------------\n",
      "\n",
      "running loop: 46\n",
      "Graph with 26441 nodes and 45316 edges\n",
      "\n",
      "---------------\n",
      "\n",
      "running loop: 47\n",
      "Graph with 25917 nodes and 44387 edges\n",
      "\n",
      "---------------\n",
      "\n",
      "running loop: 48\n",
      "Graph with 25409 nodes and 42814 edges\n",
      "\n",
      "---------------\n",
      "\n",
      "running loop: 49\n",
      "Graph with 24861 nodes and 41899 edges\n",
      "\n",
      "---------------\n",
      "\n"
     ]
    }
   ],
   "source": [
    "G1, results = remove_nodes(G1, iterations=50)"
   ]
  },
  {
   "cell_type": "code",
   "execution_count": 98,
   "id": "083f1f93",
   "metadata": {},
   "outputs": [
    {
     "data": {
      "text/html": [
       "<div>\n",
       "<style scoped>\n",
       "    .dataframe tbody tr th:only-of-type {\n",
       "        vertical-align: middle;\n",
       "    }\n",
       "\n",
       "    .dataframe tbody tr th {\n",
       "        vertical-align: top;\n",
       "    }\n",
       "\n",
       "    .dataframe thead th {\n",
       "        text-align: right;\n",
       "    }\n",
       "</style>\n",
       "<table border=\"1\" class=\"dataframe\">\n",
       "  <thead>\n",
       "    <tr style=\"text-align: right;\">\n",
       "      <th></th>\n",
       "      <th>nodes</th>\n",
       "      <th>edges</th>\n",
       "      <th>nodes_dropped</th>\n",
       "      <th>edges_dropped</th>\n",
       "    </tr>\n",
       "  </thead>\n",
       "  <tbody>\n",
       "    <tr>\n",
       "      <th>0</th>\n",
       "      <td>65260</td>\n",
       "      <td>306509</td>\n",
       "      <td>0.0</td>\n",
       "      <td>0.0</td>\n",
       "    </tr>\n",
       "    <tr>\n",
       "      <th>1</th>\n",
       "      <td>57619</td>\n",
       "      <td>283677</td>\n",
       "      <td>7641.0</td>\n",
       "      <td>22832.0</td>\n",
       "    </tr>\n",
       "    <tr>\n",
       "      <th>2</th>\n",
       "      <td>56438</td>\n",
       "      <td>270568</td>\n",
       "      <td>1181.0</td>\n",
       "      <td>13109.0</td>\n",
       "    </tr>\n",
       "    <tr>\n",
       "      <th>3</th>\n",
       "      <td>55415</td>\n",
       "      <td>258991</td>\n",
       "      <td>1023.0</td>\n",
       "      <td>11577.0</td>\n",
       "    </tr>\n",
       "    <tr>\n",
       "      <th>4</th>\n",
       "      <td>54379</td>\n",
       "      <td>246397</td>\n",
       "      <td>1036.0</td>\n",
       "      <td>12594.0</td>\n",
       "    </tr>\n",
       "  </tbody>\n",
       "</table>\n",
       "</div>"
      ],
      "text/plain": [
       "   nodes   edges  nodes_dropped  edges_dropped\n",
       "0  65260  306509            0.0            0.0\n",
       "1  57619  283677         7641.0        22832.0\n",
       "2  56438  270568         1181.0        13109.0\n",
       "3  55415  258991         1023.0        11577.0\n",
       "4  54379  246397         1036.0        12594.0"
      ]
     },
     "execution_count": 98,
     "metadata": {},
     "output_type": "execute_result"
    }
   ],
   "source": [
    "result_df = pd.DataFrame(results).T\n",
    "result_df['nodes_dropped'] = result_df['nodes'].diff(1).abs()\n",
    "result_df['edges_dropped'] = result_df['edges'].diff(1).abs()\n",
    "result_df.fillna(0, inplace=True)\n",
    "result_df.head()"
   ]
  },
  {
   "cell_type": "code",
   "execution_count": 185,
   "id": "70bfa1d2",
   "metadata": {},
   "outputs": [
    {
     "data": {
      "image/png": "[encoded data removed]",
      "text/plain": [
       "<Figure size 864x576 with 1 Axes>"
      ]
     },
     "metadata": {
      "needs_background": "light"
     },
     "output_type": "display_data"
    }
   ],
   "source": [
    "_= result_df['nodes_dropped'].plot.bar(figsize=(12,8), title='Nodes Dropped by Step')"
   ]
  },
  {
   "cell_type": "code",
   "execution_count": 187,
   "id": "e34a305c",
   "metadata": {},
   "outputs": [
    {
     "data": {
      "image/png": "[encoded data removed]",
      "text/plain": [
       "<Figure size 864x576 with 1 Axes>"
      ]
     },
     "metadata": {
      "needs_background": "light"
     },
     "output_type": "display_data"
    }
   ],
   "source": [
    "_= result_df['edges_dropped'].plot.bar(figsize=(12,8), title='Edges Dropped by Step')"
   ]
  },
  {
   "cell_type": "code",
   "execution_count": 104,
   "id": "03990fb1",
   "metadata": {},
   "outputs": [],
   "source": [
    "# learning at each iteration\n",
    "# speeding up at each step, because smaller networks\n",
    "# betweenness centrality and shortest path related things are very slow on larger networks\n",
    "# pagerank can be used instead\n",
    "# use a centrality that can determine importance beyond number of edges; goal is to cut bridge nodes\n",
    "# attack options are only limited by creativity\n",
    "\n",
    "# on complex network, might need larger cut sizes to be effective\n",
    "# goal was to shatter the network as quickly as possible\n",
    "\n",
    "# collaborative networks seem to be more resilient in nature; considering that some papers have dozens of authors"
   ]
  },
  {
   "cell_type": "markdown",
   "id": "91cb4da8",
   "metadata": {},
   "source": [
    "# Investigate Surviving Structures"
   ]
  },
  {
   "cell_type": "code",
   "execution_count": 105,
   "id": "92599bd0",
   "metadata": {},
   "outputs": [],
   "source": [
    "def show_component_count(components, cutoff=4):\n",
    "\n",
    "    i = 0\n",
    "    \n",
    "    for c in components:\n",
    "        \n",
    "        if len(c) > cutoff:\n",
    "\n",
    "            print('c: {} - len: {}'.format(i, len(c)))\n",
    "\n",
    "        i += 1"
   ]
  },
  {
   "cell_type": "code",
   "execution_count": 167,
   "id": "ef944798",
   "metadata": {},
   "outputs": [],
   "source": [
    "def draw_component(G, component, show_names=False):\n",
    "    \n",
    "    G = G.copy()\n",
    "\n",
    "    G_check = G.subgraph(component)\n",
    "\n",
    "    return draw_graph(G_check, show_names=show_names, node_size=3)"
   ]
  },
  {
   "cell_type": "code",
   "execution_count": 168,
   "id": "e264166d",
   "metadata": {},
   "outputs": [
    {
     "data": {
      "text/plain": [
       "6927"
      ]
     },
     "execution_count": 168,
     "metadata": {},
     "output_type": "execute_result"
    }
   ],
   "source": [
    "components = list(nx.connected_components(G))\n",
    "len(components)"
   ]
  },
  {
   "cell_type": "code",
   "execution_count": 169,
   "id": "1c25f690",
   "metadata": {},
   "outputs": [
    {
     "name": "stdout",
     "output_type": "stream",
     "text": [
      "c: 0 - len: 77\n",
      "c: 1 - len: 33249\n",
      "c: 234 - len: 49\n",
      "c: 378 - len: 47\n",
      "c: 569 - len: 53\n",
      "c: 763 - len: 86\n",
      "c: 810 - len: 62\n",
      "c: 816 - len: 121\n",
      "c: 1012 - len: 42\n",
      "c: 1277 - len: 74\n",
      "c: 1346 - len: 57\n",
      "c: 1366 - len: 48\n"
     ]
    }
   ],
   "source": [
    "show_component_count(components, 40)"
   ]
  },
  {
   "cell_type": "code",
   "execution_count": 172,
   "id": "9e2f4484",
   "metadata": {},
   "outputs": [
    {
     "data": {
      "image/svg+xml": [
       "<svg height=\"540\" width=\"740\" xmlns=\"http://www.w3.org/2000/svg\"><path d=\"M 162 474 167 395\" stroke=\"black\" stroke-width=\"0.5\"/><path d=\"M 162 474 175 490\" stroke=\"black\" stroke-width=\"0.5\"/><path d=\"M 162 474 193 478\" stroke=\"black\" stroke-width=\"0.5\"/><path d=\"M 162 474 191 498\" stroke=\"black\" stroke-width=\"0.5\"/><path d=\"M 162 474 153 490\" stroke=\"black\" stroke-width=\"0.5\"/><path d=\"M 416 415 474 334\" stroke=\"black\" stroke-width=\"0.5\"/><path d=\"M 416 415 432 412\" stroke=\"black\" stroke-width=\"0.5\"/><path d=\"M 416 415 408 400\" stroke=\"black\" stroke-width=\"0.5\"/><path d=\"M 416 415 445 374\" stroke=\"black\" stroke-width=\"0.5\"/><path d=\"M 416 415 433 371\" stroke=\"black\" stroke-width=\"0.5\"/><path d=\"M 416 415 460 381\" stroke=\"black\" stroke-width=\"0.5\"/><path d=\"M 522 409 509 400\" stroke=\"black\" stroke-width=\"0.5\"/><path d=\"M 522 409 514 423\" stroke=\"black\" stroke-width=\"0.5\"/><path d=\"M 522 409 525 302\" stroke=\"black\" stroke-width=\"0.5\"/><path d=\"M 522 409 494 423\" stroke=\"black\" stroke-width=\"0.5\"/><path d=\"M 522 409 492 396\" stroke=\"black\" stroke-width=\"0.5\"/><path d=\"M 522 409 482 411\" stroke=\"black\" stroke-width=\"0.5\"/><path d=\"M 204 34 205 53\" stroke=\"black\" stroke-width=\"0.5\"/><path d=\"M 204 34 183 43\" stroke=\"black\" stroke-width=\"0.5\"/><path d=\"M 204 34 217 129\" stroke=\"black\" stroke-width=\"0.5\"/><path d=\"M 204 34 224 44\" stroke=\"black\" stroke-width=\"0.5\"/><path d=\"M 204 34 165 72\" stroke=\"black\" stroke-width=\"0.5\"/><path d=\"M 505 343 546 333\" stroke=\"black\" stroke-width=\"0.5\"/><path d=\"M 505 343 448 331\" stroke=\"black\" stroke-width=\"0.5\"/><path d=\"M 505 343 440 346\" stroke=\"black\" stroke-width=\"0.5\"/><path d=\"M 505 343 612 318\" stroke=\"black\" stroke-width=\"0.5\"/><path d=\"M 505 343 474 334\" stroke=\"black\" stroke-width=\"0.5\"/><path d=\"M 505 343 541 307\" stroke=\"black\" stroke-width=\"0.5\"/><path d=\"M 505 343 538 320\" stroke=\"black\" stroke-width=\"0.5\"/><path d=\"M 505 343 550 364\" stroke=\"black\" stroke-width=\"0.5\"/><path d=\"M 505 343 445 374\" stroke=\"black\" stroke-width=\"0.5\"/><path d=\"M 505 343 502 333\" stroke=\"black\" stroke-width=\"0.5\"/><path d=\"M 505 343 433 371\" stroke=\"black\" stroke-width=\"0.5\"/><path d=\"M 129 155 121 168\" stroke=\"black\" stroke-width=\"0.5\"/><path d=\"M 129 155 109 169\" stroke=\"black\" stroke-width=\"0.5\"/><path d=\"M 129 155 118 187\" stroke=\"black\" stroke-width=\"0.5\"/><path d=\"M 129 155 125 179\" stroke=\"black\" stroke-width=\"0.5\"/><path d=\"M 129 155 157 161\" stroke=\"black\" stroke-width=\"0.5\"/><path d=\"M 129 155 162 173\" stroke=\"black\" stroke-width=\"0.5\"/><path d=\"M 129 155 118 158\" stroke=\"black\" stroke-width=\"0.5\"/><path d=\"M 129 155 110 179\" stroke=\"black\" stroke-width=\"0.5\"/><path d=\"M 129 155 144 180\" stroke=\"black\" stroke-width=\"0.5\"/><path d=\"M 129 155 155 151\" stroke=\"black\" stroke-width=\"0.5\"/><path d=\"M 129 155 99 117\" stroke=\"black\" stroke-width=\"0.5\"/><path d=\"M 129 155 144 223\" stroke=\"black\" stroke-width=\"0.5\"/><path d=\"M 129 155 134 171\" stroke=\"black\" stroke-width=\"0.5\"/><path d=\"M 129 155 153 170\" stroke=\"black\" stroke-width=\"0.5\"/><path d=\"M 129 155 134 187\" stroke=\"black\" stroke-width=\"0.5\"/><path d=\"M 129 155 150 206\" stroke=\"black\" stroke-width=\"0.5\"/><path d=\"M 129 155 142 163\" stroke=\"black\" stroke-width=\"0.5\"/><path d=\"M 129 155 141 152\" stroke=\"black\" stroke-width=\"0.5\"/><path d=\"M 129 155 212 199\" stroke=\"black\" stroke-width=\"0.5\"/><path d=\"M 568 221 586 211\" stroke=\"black\" stroke-width=\"0.5\"/><path d=\"M 568 221 525 302\" stroke=\"black\" stroke-width=\"0.5\"/><path d=\"M 568 221 586 232\" stroke=\"black\" stroke-width=\"0.5\"/><path d=\"M 568 221 604 240\" stroke=\"black\" stroke-width=\"0.5\"/><path d=\"M 568 221 606 220\" stroke=\"black\" stroke-width=\"0.5\"/><path d=\"M 36 24 54 51\" stroke=\"black\" stroke-width=\"0.5\"/><path d=\"M 36 24 52 35\" stroke=\"black\" stroke-width=\"0.5\"/><path d=\"M 36 24 69 40\" stroke=\"black\" stroke-width=\"0.5\"/><path d=\"M 36 24 68 26\" stroke=\"black\" stroke-width=\"0.5\"/><path d=\"M 36 24 21 34\" stroke=\"black\" stroke-width=\"0.5\"/><path d=\"M 36 24 52 20\" stroke=\"black\" stroke-width=\"0.5\"/><path d=\"M 36 24 99 117\" stroke=\"black\" stroke-width=\"0.5\"/><path d=\"M 36 24 35 42\" stroke=\"black\" stroke-width=\"0.5\"/><path d=\"M 36 24 35 57\" stroke=\"black\" stroke-width=\"0.5\"/><path d=\"M 36 24 20 50\" stroke=\"black\" stroke-width=\"0.5\"/><path d=\"M 529 190 507 212\" stroke=\"black\" stroke-width=\"0.5\"/><path d=\"M 529 190 525 302\" stroke=\"black\" stroke-width=\"0.5\"/><path d=\"M 529 190 504 195\" stroke=\"black\" stroke-width=\"0.5\"/><path d=\"M 529 190 533 206\" stroke=\"black\" stroke-width=\"0.5\"/><path d=\"M 570 327 584 347\" stroke=\"black\" stroke-width=\"0.5\"/><path d=\"M 570 327 573 310\" stroke=\"black\" stroke-width=\"0.5\"/><path d=\"M 570 327 474 334\" stroke=\"black\" stroke-width=\"0.5\"/><path d=\"M 570 327 572 372\" stroke=\"black\" stroke-width=\"0.5\"/><path d=\"M 570 327 589 330\" stroke=\"black\" stroke-width=\"0.5\"/><path d=\"M 546 333 505 343\" stroke=\"black\" stroke-width=\"0.5\"/><path d=\"M 546 333 612 318\" stroke=\"black\" stroke-width=\"0.5\"/><path d=\"M 546 333 474 334\" stroke=\"black\" stroke-width=\"0.5\"/><path d=\"M 546 333 541 307\" stroke=\"black\" stroke-width=\"0.5\"/><path d=\"M 546 333 538 320\" stroke=\"black\" stroke-width=\"0.5\"/><path d=\"M 546 333 550 364\" stroke=\"black\" stroke-width=\"0.5\"/><path d=\"M 546 333 502 333\" stroke=\"black\" stroke-width=\"0.5\"/><path d=\"M 54 51 36 24\" stroke=\"black\" stroke-width=\"0.5\"/><path d=\"M 54 51 52 35\" stroke=\"black\" stroke-width=\"0.5\"/><path d=\"M 54 51 69 40\" stroke=\"black\" stroke-width=\"0.5\"/><path d=\"M 54 51 68 26\" stroke=\"black\" stroke-width=\"0.5\"/><path d=\"M 54 51 21 34\" stroke=\"black\" stroke-width=\"0.5\"/><path d=\"M 54 51 52 20\" stroke=\"black\" stroke-width=\"0.5\"/><path d=\"M 54 51 99 117\" stroke=\"black\" stroke-width=\"0.5\"/><path d=\"M 54 51 35 42\" stroke=\"black\" stroke-width=\"0.5\"/><path d=\"M 54 51 35 57\" stroke=\"black\" stroke-width=\"0.5\"/><path d=\"M 54 51 20 50\" stroke=\"black\" stroke-width=\"0.5\"/><path d=\"M 167 395 162 474\" stroke=\"black\" stroke-width=\"0.5\"/><path d=\"M 167 395 167 310\" stroke=\"black\" stroke-width=\"0.5\"/><path d=\"M 167 395 175 490\" stroke=\"black\" stroke-width=\"0.5\"/><path d=\"M 167 395 165 325\" stroke=\"black\" stroke-width=\"0.5\"/><path d=\"M 167 395 186 311\" stroke=\"black\" stroke-width=\"0.5\"/><path d=\"M 167 395 144 223\" stroke=\"black\" stroke-width=\"0.5\"/><path d=\"M 167 395 193 478\" stroke=\"black\" stroke-width=\"0.5\"/><path d=\"M 167 395 191 498\" stroke=\"black\" stroke-width=\"0.5\"/><path d=\"M 167 395 153 490\" stroke=\"black\" stroke-width=\"0.5\"/><path d=\"M 584 347 570 327\" stroke=\"black\" stroke-width=\"0.5\"/><path d=\"M 584 347 573 310\" stroke=\"black\" stroke-width=\"0.5\"/><path d=\"M 584 347 474 334\" stroke=\"black\" stroke-width=\"0.5\"/><path d=\"M 584 347 572 372\" stroke=\"black\" stroke-width=\"0.5\"/><path d=\"M 584 347 589 330\" stroke=\"black\" stroke-width=\"0.5\"/><path d=\"M 234 151 242 166\" stroke=\"black\" stroke-width=\"0.5\"/><path d=\"M 234 151 150 206\" stroke=\"black\" stroke-width=\"0.5\"/><path d=\"M 234 151 236 183\" stroke=\"black\" stroke-width=\"0.5\"/><path d=\"M 234 151 212 199\" stroke=\"black\" stroke-width=\"0.5\"/><path d=\"M 509 400 522 409\" stroke=\"black\" stroke-width=\"0.5\"/><path d=\"M 509 400 514 423\" stroke=\"black\" stroke-width=\"0.5\"/><path d=\"M 509 400 525 302\" stroke=\"black\" stroke-width=\"0.5\"/><path d=\"M 509 400 494 423\" stroke=\"black\" stroke-width=\"0.5\"/><path d=\"M 509 400 492 396\" stroke=\"black\" stroke-width=\"0.5\"/><path d=\"M 509 400 482 411\" stroke=\"black\" stroke-width=\"0.5\"/><path d=\"M 514 423 522 409\" stroke=\"black\" stroke-width=\"0.5\"/><path d=\"M 514 423 509 400\" stroke=\"black\" stroke-width=\"0.5\"/><path d=\"M 514 423 525 302\" stroke=\"black\" stroke-width=\"0.5\"/><path d=\"M 514 423 494 423\" stroke=\"black\" stroke-width=\"0.5\"/><path d=\"M 514 423 492 396\" stroke=\"black\" stroke-width=\"0.5\"/><path d=\"M 514 423 482 411\" stroke=\"black\" stroke-width=\"0.5\"/><path d=\"M 448 331 505 343\" stroke=\"black\" stroke-width=\"0.5\"/><path d=\"M 448 331 440 346\" stroke=\"black\" stroke-width=\"0.5\"/><path d=\"M 448 331 474 334\" stroke=\"black\" stroke-width=\"0.5\"/><path d=\"M 448 331 445 374\" stroke=\"black\" stroke-width=\"0.5\"/><path d=\"M 448 331 502 333\" stroke=\"black\" stroke-width=\"0.5\"/><path d=\"M 448 331 433 371\" stroke=\"black\" stroke-width=\"0.5\"/><path d=\"M 275 345 288 364\" stroke=\"black\" stroke-width=\"0.5\"/><path d=\"M 275 345 312 315\" stroke=\"black\" stroke-width=\"0.5\"/><path d=\"M 275 345 279 383\" stroke=\"black\" stroke-width=\"0.5\"/><path d=\"M 275 345 258 365\" stroke=\"black\" stroke-width=\"0.5\"/><path d=\"M 275 345 256 327\" stroke=\"black\" stroke-width=\"0.5\"/><path d=\"M 205 53 204 34\" stroke=\"black\" stroke-width=\"0.5\"/><path d=\"M 205 53 183 43\" stroke=\"black\" stroke-width=\"0.5\"/><path d=\"M 205 53 217 129\" stroke=\"black\" stroke-width=\"0.5\"/><path d=\"M 205 53 224 44\" stroke=\"black\" stroke-width=\"0.5\"/><path d=\"M 205 53 165 72\" stroke=\"black\" stroke-width=\"0.5\"/><path d=\"M 134 290 115 311\" stroke=\"black\" stroke-width=\"0.5\"/><path d=\"M 134 290 137 309\" stroke=\"black\" stroke-width=\"0.5\"/><path d=\"M 134 290 150 206\" stroke=\"black\" stroke-width=\"0.5\"/><path d=\"M 134 290 108 294\" stroke=\"black\" stroke-width=\"0.5\"/><path d=\"M 309 137 328 140\" stroke=\"black\" stroke-width=\"0.5\"/><path d=\"M 309 137 313 155\" stroke=\"black\" stroke-width=\"0.5\"/><path d=\"M 309 137 217 129\" stroke=\"black\" stroke-width=\"0.5\"/><path d=\"M 309 137 322 223\" stroke=\"black\" stroke-width=\"0.5\"/><path d=\"M 121 168 129 155\" stroke=\"black\" stroke-width=\"0.5\"/><path d=\"M 121 168 109 169\" stroke=\"black\" stroke-width=\"0.5\"/><path d=\"M 121 168 118 187\" stroke=\"black\" stroke-width=\"0.5\"/><path d=\"M 121 168 125 179\" stroke=\"black\" stroke-width=\"0.5\"/><path d=\"M 121 168 157 161\" stroke=\"black\" stroke-width=\"0.5\"/><path d=\"M 121 168 162 173\" stroke=\"black\" stroke-width=\"0.5\"/><path d=\"M 121 168 118 158\" stroke=\"black\" stroke-width=\"0.5\"/><path d=\"M 121 168 110 179\" stroke=\"black\" stroke-width=\"0.5\"/><path d=\"M 121 168 144 180\" stroke=\"black\" stroke-width=\"0.5\"/><path d=\"M 121 168 155 151\" stroke=\"black\" stroke-width=\"0.5\"/><path d=\"M 121 168 99 117\" stroke=\"black\" stroke-width=\"0.5\"/><path d=\"M 121 168 144 223\" stroke=\"black\" stroke-width=\"0.5\"/><path d=\"M 121 168 134 171\" stroke=\"black\" stroke-width=\"0.5\"/><path d=\"M 121 168 153 170\" stroke=\"black\" stroke-width=\"0.5\"/><path d=\"M 121 168 134 187\" stroke=\"black\" stroke-width=\"0.5\"/><path d=\"M 121 168 150 206\" stroke=\"black\" stroke-width=\"0.5\"/><path d=\"M 121 168 142 163\" stroke=\"black\" stroke-width=\"0.5\"/><path d=\"M 121 168 141 152\" stroke=\"black\" stroke-width=\"0.5\"/><path d=\"M 121 168 212 199\" stroke=\"black\" stroke-width=\"0.5\"/><path d=\"M 109 169 129 155\" stroke=\"black\" stroke-width=\"0.5\"/><path d=\"M 109 169 121 168\" stroke=\"black\" stroke-width=\"0.5\"/><path d=\"M 109 169 118 187\" stroke=\"black\" stroke-width=\"0.5\"/><path d=\"M 109 169 125 179\" stroke=\"black\" stroke-width=\"0.5\"/><path d=\"M 109 169 157 161\" stroke=\"black\" stroke-width=\"0.5\"/><path d=\"M 109 169 162 173\" stroke=\"black\" stroke-width=\"0.5\"/><path d=\"M 109 169 118 158\" stroke=\"black\" stroke-width=\"0.5\"/><path d=\"M 109 169 110 179\" stroke=\"black\" stroke-width=\"0.5\"/><path d=\"M 109 169 144 180\" stroke=\"black\" stroke-width=\"0.5\"/><path d=\"M 109 169 155 151\" stroke=\"black\" stroke-width=\"0.5\"/><path d=\"M 109 169 99 117\" stroke=\"black\" stroke-width=\"0.5\"/><path d=\"M 109 169 144 223\" stroke=\"black\" stroke-width=\"0.5\"/><path d=\"M 109 169 134 171\" stroke=\"black\" stroke-width=\"0.5\"/><path d=\"M 109 169 153 170\" stroke=\"black\" stroke-width=\"0.5\"/><path d=\"M 109 169 134 187\" stroke=\"black\" stroke-width=\"0.5\"/><path d=\"M 109 169 150 206\" stroke=\"black\" stroke-width=\"0.5\"/><path d=\"M 109 169 142 163\" stroke=\"black\" stroke-width=\"0.5\"/><path d=\"M 109 169 141 152\" stroke=\"black\" stroke-width=\"0.5\"/><path d=\"M 109 169 212 199\" stroke=\"black\" stroke-width=\"0.5\"/><path d=\"M 698 284 717 289\" stroke=\"black\" stroke-width=\"0.5\"/><path d=\"M 698 284 612 318\" stroke=\"black\" stroke-width=\"0.5\"/><path d=\"M 698 284 720 305\" stroke=\"black\" stroke-width=\"0.5\"/><path d=\"M 698 284 699 311\" stroke=\"black\" stroke-width=\"0.5\"/><path d=\"M 698 284 711 325\" stroke=\"black\" stroke-width=\"0.5\"/><path d=\"M 118 187 129 155\" stroke=\"black\" stroke-width=\"0.5\"/><path d=\"M 118 187 121 168\" stroke=\"black\" stroke-width=\"0.5\"/><path d=\"M 118 187 109 169\" stroke=\"black\" stroke-width=\"0.5\"/><path d=\"M 118 187 125 179\" stroke=\"black\" stroke-width=\"0.5\"/><path d=\"M 118 187 157 161\" stroke=\"black\" stroke-width=\"0.5\"/><path d=\"M 118 187 162 173\" stroke=\"black\" stroke-width=\"0.5\"/><path d=\"M 118 187 118 158\" stroke=\"black\" stroke-width=\"0.5\"/><path d=\"M 118 187 110 179\" stroke=\"black\" stroke-width=\"0.5\"/><path d=\"M 118 187 144 180\" stroke=\"black\" stroke-width=\"0.5\"/><path d=\"M 118 187 155 151\" stroke=\"black\" stroke-width=\"0.5\"/><path d=\"M 118 187 99 117\" stroke=\"black\" stroke-width=\"0.5\"/><path d=\"M 118 187 144 223\" stroke=\"black\" stroke-width=\"0.5\"/><path d=\"M 118 187 134 171\" stroke=\"black\" stroke-width=\"0.5\"/><path d=\"M 118 187 153 170\" stroke=\"black\" stroke-width=\"0.5\"/><path d=\"M 118 187 134 187\" stroke=\"black\" stroke-width=\"0.5\"/><path d=\"M 118 187 150 206\" stroke=\"black\" stroke-width=\"0.5\"/><path d=\"M 118 187 142 163\" stroke=\"black\" stroke-width=\"0.5\"/><path d=\"M 118 187 141 152\" stroke=\"black\" stroke-width=\"0.5\"/><path d=\"M 118 187 212 199\" stroke=\"black\" stroke-width=\"0.5\"/><path d=\"M 125 179 129 155\" stroke=\"black\" stroke-width=\"0.5\"/><path d=\"M 125 179 121 168\" stroke=\"black\" stroke-width=\"0.5\"/><path d=\"M 125 179 109 169\" stroke=\"black\" stroke-width=\"0.5\"/><path d=\"M 125 179 118 187\" stroke=\"black\" stroke-width=\"0.5\"/><path d=\"M 125 179 157 161\" stroke=\"black\" stroke-width=\"0.5\"/><path d=\"M 125 179 162 173\" stroke=\"black\" stroke-width=\"0.5\"/><path d=\"M 125 179 118 158\" stroke=\"black\" stroke-width=\"0.5\"/><path d=\"M 125 179 110 179\" stroke=\"black\" stroke-width=\"0.5\"/><path d=\"M 125 179 144 180\" stroke=\"black\" stroke-width=\"0.5\"/><path d=\"M 125 179 155 151\" stroke=\"black\" stroke-width=\"0.5\"/><path d=\"M 125 179 99 117\" stroke=\"black\" stroke-width=\"0.5\"/><path d=\"M 125 179 144 223\" stroke=\"black\" stroke-width=\"0.5\"/><path d=\"M 125 179 134 171\" stroke=\"black\" stroke-width=\"0.5\"/><path d=\"M 125 179 153 170\" stroke=\"black\" stroke-width=\"0.5\"/><path d=\"M 125 179 134 187\" stroke=\"black\" stroke-width=\"0.5\"/><path d=\"M 125 179 150 206\" stroke=\"black\" stroke-width=\"0.5\"/><path d=\"M 125 179 142 163\" stroke=\"black\" stroke-width=\"0.5\"/><path d=\"M 125 179 141 152\" stroke=\"black\" stroke-width=\"0.5\"/><path d=\"M 125 179 212 199\" stroke=\"black\" stroke-width=\"0.5\"/><path d=\"M 157 161 129 155\" stroke=\"black\" stroke-width=\"0.5\"/><path d=\"M 157 161 121 168\" stroke=\"black\" stroke-width=\"0.5\"/><path d=\"M 157 161 109 169\" stroke=\"black\" stroke-width=\"0.5\"/><path d=\"M 157 161 118 187\" stroke=\"black\" stroke-width=\"0.5\"/><path d=\"M 157 161 125 179\" stroke=\"black\" stroke-width=\"0.5\"/><path d=\"M 157 161 162 173\" stroke=\"black\" stroke-width=\"0.5\"/><path d=\"M 157 161 118 158\" stroke=\"black\" stroke-width=\"0.5\"/><path d=\"M 157 161 110 179\" stroke=\"black\" stroke-width=\"0.5\"/><path d=\"M 157 161 144 180\" stroke=\"black\" stroke-width=\"0.5\"/><path d=\"M 157 161 155 151\" stroke=\"black\" stroke-width=\"0.5\"/><path d=\"M 157 161 99 117\" stroke=\"black\" stroke-width=\"0.5\"/><path d=\"M 157 161 144 223\" stroke=\"black\" stroke-width=\"0.5\"/><path d=\"M 157 161 134 171\" stroke=\"black\" stroke-width=\"0.5\"/><path d=\"M 157 161 153 170\" stroke=\"black\" stroke-width=\"0.5\"/><path d=\"M 157 161 134 187\" stroke=\"black\" stroke-width=\"0.5\"/><path d=\"M 157 161 150 206\" stroke=\"black\" stroke-width=\"0.5\"/><path d=\"M 157 161 142 163\" stroke=\"black\" stroke-width=\"0.5\"/><path d=\"M 157 161 141 152\" stroke=\"black\" stroke-width=\"0.5\"/><path d=\"M 157 161 212 199\" stroke=\"black\" stroke-width=\"0.5\"/><path d=\"M 717 289 698 284\" stroke=\"black\" stroke-width=\"0.5\"/><path d=\"M 717 289 612 318\" stroke=\"black\" stroke-width=\"0.5\"/><path d=\"M 717 289 720 305\" stroke=\"black\" stroke-width=\"0.5\"/><path d=\"M 717 289 699 311\" stroke=\"black\" stroke-width=\"0.5\"/><path d=\"M 717 289 711 325\" stroke=\"black\" stroke-width=\"0.5\"/><path d=\"M 565 430 549 401\" stroke=\"black\" stroke-width=\"0.5\"/><path d=\"M 565 430 569 400\" stroke=\"black\" stroke-width=\"0.5\"/><path d=\"M 565 430 549 416\" stroke=\"black\" stroke-width=\"0.5\"/><path d=\"M 565 430 474 334\" stroke=\"black\" stroke-width=\"0.5\"/><path d=\"M 565 430 572 372\" stroke=\"black\" stroke-width=\"0.5\"/><path d=\"M 565 430 597 520\" stroke=\"black\" stroke-width=\"0.5\"/><path d=\"M 565 430 550 364\" stroke=\"black\" stroke-width=\"0.5\"/><path d=\"M 167 310 167 395\" stroke=\"black\" stroke-width=\"0.5\"/><path d=\"M 167 310 165 325\" stroke=\"black\" stroke-width=\"0.5\"/><path d=\"M 167 310 186 311\" stroke=\"black\" stroke-width=\"0.5\"/><path d=\"M 167 310 144 223\" stroke=\"black\" stroke-width=\"0.5\"/><path d=\"M 52 35 36 24\" stroke=\"black\" stroke-width=\"0.5\"/><path d=\"M 52 35 54 51\" stroke=\"black\" stroke-width=\"0.5\"/><path d=\"M 52 35 69 40\" stroke=\"black\" stroke-width=\"0.5\"/><path d=\"M 52 35 68 26\" stroke=\"black\" stroke-width=\"0.5\"/><path d=\"M 52 35 21 34\" stroke=\"black\" stroke-width=\"0.5\"/><path d=\"M 52 35 52 20\" stroke=\"black\" stroke-width=\"0.5\"/><path d=\"M 52 35 99 117\" stroke=\"black\" stroke-width=\"0.5\"/><path d=\"M 52 35 35 42\" stroke=\"black\" stroke-width=\"0.5\"/><path d=\"M 52 35 35 57\" stroke=\"black\" stroke-width=\"0.5\"/><path d=\"M 52 35 20 50\" stroke=\"black\" stroke-width=\"0.5\"/><path d=\"M 440 346 505 343\" stroke=\"black\" stroke-width=\"0.5\"/><path d=\"M 440 346 448 331\" stroke=\"black\" stroke-width=\"0.5\"/><path d=\"M 440 346 474 334\" stroke=\"black\" stroke-width=\"0.5\"/><path d=\"M 440 346 445 374\" stroke=\"black\" stroke-width=\"0.5\"/><path d=\"M 440 346 502 333\" stroke=\"black\" stroke-width=\"0.5\"/><path d=\"M 440 346 433 371\" stroke=\"black\" stroke-width=\"0.5\"/><path d=\"M 586 211 568 221\" stroke=\"black\" stroke-width=\"0.5\"/><path d=\"M 586 211 525 302\" stroke=\"black\" stroke-width=\"0.5\"/><path d=\"M 586 211 586 232\" stroke=\"black\" stroke-width=\"0.5\"/><path d=\"M 586 211 604 240\" stroke=\"black\" stroke-width=\"0.5\"/><path d=\"M 586 211 606 220\" stroke=\"black\" stroke-width=\"0.5\"/><path d=\"M 573 310 570 327\" stroke=\"black\" stroke-width=\"0.5\"/><path d=\"M 573 310 584 347\" stroke=\"black\" stroke-width=\"0.5\"/><path d=\"M 573 310 474 334\" stroke=\"black\" stroke-width=\"0.5\"/><path d=\"M 573 310 572 372\" stroke=\"black\" stroke-width=\"0.5\"/><path d=\"M 573 310 589 330\" stroke=\"black\" stroke-width=\"0.5\"/><path d=\"M 162 173 129 155\" stroke=\"black\" stroke-width=\"0.5\"/><path d=\"M 162 173 121 168\" stroke=\"black\" stroke-width=\"0.5\"/><path d=\"M 162 173 109 169\" stroke=\"black\" stroke-width=\"0.5\"/><path d=\"M 162 173 118 187\" stroke=\"black\" stroke-width=\"0.5\"/><path d=\"M 162 173 125 179\" stroke=\"black\" stroke-width=\"0.5\"/><path d=\"M 162 173 157 161\" stroke=\"black\" stroke-width=\"0.5\"/><path d=\"M 162 173 118 158\" stroke=\"black\" stroke-width=\"0.5\"/><path d=\"M 162 173 110 179\" stroke=\"black\" stroke-width=\"0.5\"/><path d=\"M 162 173 144 180\" stroke=\"black\" stroke-width=\"0.5\"/><path d=\"M 162 173 155 151\" stroke=\"black\" stroke-width=\"0.5\"/><path d=\"M 162 173 217 129\" stroke=\"black\" stroke-width=\"0.5\"/><path d=\"M 162 173 99 117\" stroke=\"black\" stroke-width=\"0.5\"/><path d=\"M 162 173 144 223\" stroke=\"black\" stroke-width=\"0.5\"/><path d=\"M 162 173 134 171\" stroke=\"black\" stroke-width=\"0.5\"/><path d=\"M 162 173 201 100\" stroke=\"black\" stroke-width=\"0.5\"/><path d=\"M 162 173 153 170\" stroke=\"black\" stroke-width=\"0.5\"/><path d=\"M 162 173 134 187\" stroke=\"black\" stroke-width=\"0.5\"/><path d=\"M 162 173 150 206\" stroke=\"black\" stroke-width=\"0.5\"/><path d=\"M 162 173 142 163\" stroke=\"black\" stroke-width=\"0.5\"/><path d=\"M 162 173 141 152\" stroke=\"black\" stroke-width=\"0.5\"/><path d=\"M 162 173 158 225\" stroke=\"black\" stroke-width=\"0.5\"/><path d=\"M 162 173 212 199\" stroke=\"black\" stroke-width=\"0.5\"/><path d=\"M 162 173 123 216\" stroke=\"black\" stroke-width=\"0.5\"/><path d=\"M 612 318 505 343\" stroke=\"black\" stroke-width=\"0.5\"/><path d=\"M 612 318 546 333\" stroke=\"black\" stroke-width=\"0.5\"/><path d=\"M 612 318 698 284\" stroke=\"black\" stroke-width=\"0.5\"/><path d=\"M 612 318 717 289\" stroke=\"black\" stroke-width=\"0.5\"/><path d=\"M 612 318 474 334\" stroke=\"black\" stroke-width=\"0.5\"/><path d=\"M 612 318 720 305\" stroke=\"black\" stroke-width=\"0.5\"/><path d=\"M 612 318 541 307\" stroke=\"black\" stroke-width=\"0.5\"/><path d=\"M 612 318 699 311\" stroke=\"black\" stroke-width=\"0.5\"/><path d=\"M 612 318 538 320\" stroke=\"black\" stroke-width=\"0.5\"/><path d=\"M 612 318 550 364\" stroke=\"black\" stroke-width=\"0.5\"/><path d=\"M 612 318 711 325\" stroke=\"black\" stroke-width=\"0.5\"/><path d=\"M 612 318 502 333\" stroke=\"black\" stroke-width=\"0.5\"/><path d=\"M 549 401 565 430\" stroke=\"black\" stroke-width=\"0.5\"/><path d=\"M 549 401 569 400\" stroke=\"black\" stroke-width=\"0.5\"/><path d=\"M 549 401 549 416\" stroke=\"black\" stroke-width=\"0.5\"/><path d=\"M 549 401 474 334\" stroke=\"black\" stroke-width=\"0.5\"/><path d=\"M 549 401 572 372\" stroke=\"black\" stroke-width=\"0.5\"/><path d=\"M 549 401 550 364\" stroke=\"black\" stroke-width=\"0.5\"/><path d=\"M 69 40 36 24\" stroke=\"black\" stroke-width=\"0.5\"/><path d=\"M 69 40 54 51\" stroke=\"black\" stroke-width=\"0.5\"/><path d=\"M 69 40 52 35\" stroke=\"black\" stroke-width=\"0.5\"/><path d=\"M 69 40 68 26\" stroke=\"black\" stroke-width=\"0.5\"/><path d=\"M 69 40 21 34\" stroke=\"black\" stroke-width=\"0.5\"/><path d=\"M 69 40 52 20\" stroke=\"black\" stroke-width=\"0.5\"/><path d=\"M 69 40 99 117\" stroke=\"black\" stroke-width=\"0.5\"/><path d=\"M 69 40 35 42\" stroke=\"black\" stroke-width=\"0.5\"/><path d=\"M 69 40 35 57\" stroke=\"black\" stroke-width=\"0.5\"/><path d=\"M 69 40 20 50\" stroke=\"black\" stroke-width=\"0.5\"/><path d=\"M 507 212 529 190\" stroke=\"black\" stroke-width=\"0.5\"/><path d=\"M 507 212 525 302\" stroke=\"black\" stroke-width=\"0.5\"/><path d=\"M 507 212 504 195\" stroke=\"black\" stroke-width=\"0.5\"/><path d=\"M 507 212 533 206\" stroke=\"black\" stroke-width=\"0.5\"/><path d=\"M 118 158 129 155\" stroke=\"black\" stroke-width=\"0.5\"/><path d=\"M 118 158 121 168\" stroke=\"black\" stroke-width=\"0.5\"/><path d=\"M 118 158 109 169\" stroke=\"black\" stroke-width=\"0.5\"/><path d=\"M 118 158 118 187\" stroke=\"black\" stroke-width=\"0.5\"/><path d=\"M 118 158 125 179\" stroke=\"black\" stroke-width=\"0.5\"/><path d=\"M 118 158 157 161\" stroke=\"black\" stroke-width=\"0.5\"/><path d=\"M 118 158 162 173\" stroke=\"black\" stroke-width=\"0.5\"/><path d=\"M 118 158 110 179\" stroke=\"black\" stroke-width=\"0.5\"/><path d=\"M 118 158 144 180\" stroke=\"black\" stroke-width=\"0.5\"/><path d=\"M 118 158 155 151\" stroke=\"black\" stroke-width=\"0.5\"/><path d=\"M 118 158 99 117\" stroke=\"black\" stroke-width=\"0.5\"/><path d=\"M 118 158 144 223\" stroke=\"black\" stroke-width=\"0.5\"/><path d=\"M 118 158 134 171\" stroke=\"black\" stroke-width=\"0.5\"/><path d=\"M 118 158 153 170\" stroke=\"black\" stroke-width=\"0.5\"/><path d=\"M 118 158 134 187\" stroke=\"black\" stroke-width=\"0.5\"/><path d=\"M 118 158 150 206\" stroke=\"black\" stroke-width=\"0.5\"/><path d=\"M 118 158 142 163\" stroke=\"black\" stroke-width=\"0.5\"/><path d=\"M 118 158 141 152\" stroke=\"black\" stroke-width=\"0.5\"/><path d=\"M 118 158 212 199\" stroke=\"black\" stroke-width=\"0.5\"/><path d=\"M 68 26 36 24\" stroke=\"black\" stroke-width=\"0.5\"/><path d=\"M 68 26 54 51\" stroke=\"black\" stroke-width=\"0.5\"/><path d=\"M 68 26 52 35\" stroke=\"black\" stroke-width=\"0.5\"/><path d=\"M 68 26 69 40\" stroke=\"black\" stroke-width=\"0.5\"/><path d=\"M 68 26 21 34\" stroke=\"black\" stroke-width=\"0.5\"/><path d=\"M 68 26 52 20\" stroke=\"black\" stroke-width=\"0.5\"/><path d=\"M 68 26 99 117\" stroke=\"black\" stroke-width=\"0.5\"/><path d=\"M 68 26 35 42\" stroke=\"black\" stroke-width=\"0.5\"/><path d=\"M 68 26 35 57\" stroke=\"black\" stroke-width=\"0.5\"/><path d=\"M 68 26 20 50\" stroke=\"black\" stroke-width=\"0.5\"/><path d=\"M 110 179 129 155\" stroke=\"black\" stroke-width=\"0.5\"/><path d=\"M 110 179 121 168\" stroke=\"black\" stroke-width=\"0.5\"/><path d=\"M 110 179 109 169\" stroke=\"black\" stroke-width=\"0.5\"/><path d=\"M 110 179 118 187\" stroke=\"black\" stroke-width=\"0.5\"/><path d=\"M 110 179 125 179\" stroke=\"black\" stroke-width=\"0.5\"/><path d=\"M 110 179 157 161\" stroke=\"black\" stroke-width=\"0.5\"/><path d=\"M 110 179 162 173\" stroke=\"black\" stroke-width=\"0.5\"/><path d=\"M 110 179 118 158\" stroke=\"black\" stroke-width=\"0.5\"/><path d=\"M 110 179 144 180\" stroke=\"black\" stroke-width=\"0.5\"/><path d=\"M 110 179 155 151\" stroke=\"black\" stroke-width=\"0.5\"/><path d=\"M 110 179 99 117\" stroke=\"black\" stroke-width=\"0.5\"/><path d=\"M 110 179 144 223\" stroke=\"black\" stroke-width=\"0.5\"/><path d=\"M 110 179 134 171\" stroke=\"black\" stroke-width=\"0.5\"/><path d=\"M 110 179 153 170\" stroke=\"black\" stroke-width=\"0.5\"/><path d=\"M 110 179 134 187\" stroke=\"black\" stroke-width=\"0.5\"/><path d=\"M 110 179 150 206\" stroke=\"black\" stroke-width=\"0.5\"/><path d=\"M 110 179 142 163\" stroke=\"black\" stroke-width=\"0.5\"/><path d=\"M 110 179 141 152\" stroke=\"black\" stroke-width=\"0.5\"/><path d=\"M 110 179 212 199\" stroke=\"black\" stroke-width=\"0.5\"/><path d=\"M 525 302 522 409\" stroke=\"black\" stroke-width=\"0.5\"/><path d=\"M 525 302 568 221\" stroke=\"black\" stroke-width=\"0.5\"/><path d=\"M 525 302 529 190\" stroke=\"black\" stroke-width=\"0.5\"/><path d=\"M 525 302 509 400\" stroke=\"black\" stroke-width=\"0.5\"/><path d=\"M 525 302 514 423\" stroke=\"black\" stroke-width=\"0.5\"/><path d=\"M 525 302 586 211\" stroke=\"black\" stroke-width=\"0.5\"/><path d=\"M 525 302 507 212\" stroke=\"black\" stroke-width=\"0.5\"/><path d=\"M 525 302 494 423\" stroke=\"black\" stroke-width=\"0.5\"/><path d=\"M 525 302 474 334\" stroke=\"black\" stroke-width=\"0.5\"/><path d=\"M 525 302 504 195\" stroke=\"black\" stroke-width=\"0.5\"/><path d=\"M 525 302 586 232\" stroke=\"black\" stroke-width=\"0.5\"/><path d=\"M 525 302 533 206\" stroke=\"black\" stroke-width=\"0.5\"/><path d=\"M 525 302 511 367\" stroke=\"black\" stroke-width=\"0.5\"/><path d=\"M 525 302 492 396\" stroke=\"black\" stroke-width=\"0.5\"/><path d=\"M 525 302 482 411\" stroke=\"black\" stroke-width=\"0.5\"/><path d=\"M 525 302 460 381\" stroke=\"black\" stroke-width=\"0.5\"/><path d=\"M 525 302 604 240\" stroke=\"black\" stroke-width=\"0.5\"/><path d=\"M 525 302 606 220\" stroke=\"black\" stroke-width=\"0.5\"/><path d=\"M 328 140 309 137\" stroke=\"black\" stroke-width=\"0.5\"/><path d=\"M 328 140 313 155\" stroke=\"black\" stroke-width=\"0.5\"/><path d=\"M 328 140 217 129\" stroke=\"black\" stroke-width=\"0.5\"/><path d=\"M 328 140 322 223\" stroke=\"black\" stroke-width=\"0.5\"/><path d=\"M 144 180 129 155\" stroke=\"black\" stroke-width=\"0.5\"/><path d=\"M 144 180 121 168\" stroke=\"black\" stroke-width=\"0.5\"/><path d=\"M 144 180 109 169\" stroke=\"black\" stroke-width=\"0.5\"/><path d=\"M 144 180 118 187\" stroke=\"black\" stroke-width=\"0.5\"/><path d=\"M 144 180 125 179\" stroke=\"black\" stroke-width=\"0.5\"/><path d=\"M 144 180 157 161\" stroke=\"black\" stroke-width=\"0.5\"/><path d=\"M 144 180 162 173\" stroke=\"black\" stroke-width=\"0.5\"/><path d=\"M 144 180 118 158\" stroke=\"black\" stroke-width=\"0.5\"/><path d=\"M 144 180 110 179\" stroke=\"black\" stroke-width=\"0.5\"/><path d=\"M 144 180 155 151\" stroke=\"black\" stroke-width=\"0.5\"/><path d=\"M 144 180 99 117\" stroke=\"black\" stroke-width=\"0.5\"/><path d=\"M 144 180 144 223\" stroke=\"black\" stroke-width=\"0.5\"/><path d=\"M 144 180 134 171\" stroke=\"black\" stroke-width=\"0.5\"/><path d=\"M 144 180 153 170\" stroke=\"black\" stroke-width=\"0.5\"/><path d=\"M 144 180 134 187\" stroke=\"black\" stroke-width=\"0.5\"/><path d=\"M 144 180 150 206\" stroke=\"black\" stroke-width=\"0.5\"/><path d=\"M 144 180 142 163\" stroke=\"black\" stroke-width=\"0.5\"/><path d=\"M 144 180 141 152\" stroke=\"black\" stroke-width=\"0.5\"/><path d=\"M 144 180 212 199\" stroke=\"black\" stroke-width=\"0.5\"/><path d=\"M 183 43 204 34\" stroke=\"black\" stroke-width=\"0.5\"/><path d=\"M 183 43 205 53\" stroke=\"black\" stroke-width=\"0.5\"/><path d=\"M 183 43 217 129\" stroke=\"black\" stroke-width=\"0.5\"/><path d=\"M 183 43 224 44\" stroke=\"black\" stroke-width=\"0.5\"/><path d=\"M 183 43 165 72\" stroke=\"black\" stroke-width=\"0.5\"/><path d=\"M 569 400 565 430\" stroke=\"black\" stroke-width=\"0.5\"/><path d=\"M 569 400 549 401\" stroke=\"black\" stroke-width=\"0.5\"/><path d=\"M 569 400 549 416\" stroke=\"black\" stroke-width=\"0.5\"/><path d=\"M 569 400 474 334\" stroke=\"black\" stroke-width=\"0.5\"/><path d=\"M 569 400 572 372\" stroke=\"black\" stroke-width=\"0.5\"/><path d=\"M 569 400 550 364\" stroke=\"black\" stroke-width=\"0.5\"/><path d=\"M 175 490 162 474\" stroke=\"black\" stroke-width=\"0.5\"/><path d=\"M 175 490 167 395\" stroke=\"black\" stroke-width=\"0.5\"/><path d=\"M 175 490 193 478\" stroke=\"black\" stroke-width=\"0.5\"/><path d=\"M 175 490 191 498\" stroke=\"black\" stroke-width=\"0.5\"/><path d=\"M 175 490 153 490\" stroke=\"black\" stroke-width=\"0.5\"/><path d=\"M 352 249 474 334\" stroke=\"black\" stroke-width=\"0.5\"/><path d=\"M 352 249 364 237\" stroke=\"black\" stroke-width=\"0.5\"/><path d=\"M 352 249 212 199\" stroke=\"black\" stroke-width=\"0.5\"/><path d=\"M 549 416 565 430\" stroke=\"black\" stroke-width=\"0.5\"/><path d=\"M 549 416 549 401\" stroke=\"black\" stroke-width=\"0.5\"/><path d=\"M 549 416 569 400\" stroke=\"black\" stroke-width=\"0.5\"/><path d=\"M 549 416 474 334\" stroke=\"black\" stroke-width=\"0.5\"/><path d=\"M 549 416 572 372\" stroke=\"black\" stroke-width=\"0.5\"/><path d=\"M 549 416 550 364\" stroke=\"black\" stroke-width=\"0.5\"/><path d=\"M 494 423 522 409\" stroke=\"black\" stroke-width=\"0.5\"/><path d=\"M 494 423 509 400\" stroke=\"black\" stroke-width=\"0.5\"/><path d=\"M 494 423 514 423\" stroke=\"black\" stroke-width=\"0.5\"/><path d=\"M 494 423 525 302\" stroke=\"black\" stroke-width=\"0.5\"/><path d=\"M 494 423 492 396\" stroke=\"black\" stroke-width=\"0.5\"/><path d=\"M 494 423 482 411\" stroke=\"black\" stroke-width=\"0.5\"/><path d=\"M 288 364 275 345\" stroke=\"black\" stroke-width=\"0.5\"/><path d=\"M 288 364 312 315\" stroke=\"black\" stroke-width=\"0.5\"/><path d=\"M 288 364 279 383\" stroke=\"black\" stroke-width=\"0.5\"/><path d=\"M 288 364 258 365\" stroke=\"black\" stroke-width=\"0.5\"/><path d=\"M 366 271 370 284\" stroke=\"black\" stroke-width=\"0.5\"/><path d=\"M 366 271 322 223\" stroke=\"black\" stroke-width=\"0.5\"/><path d=\"M 366 271 312 315\" stroke=\"black\" stroke-width=\"0.5\"/><path d=\"M 366 271 340 299\" stroke=\"black\" stroke-width=\"0.5\"/><path d=\"M 366 271 346 283\" stroke=\"black\" stroke-width=\"0.5\"/><path d=\"M 366 271 361 301\" stroke=\"black\" stroke-width=\"0.5\"/><path d=\"M 313 155 309 137\" stroke=\"black\" stroke-width=\"0.5\"/><path d=\"M 313 155 328 140\" stroke=\"black\" stroke-width=\"0.5\"/><path d=\"M 313 155 217 129\" stroke=\"black\" stroke-width=\"0.5\"/><path d=\"M 313 155 322 223\" stroke=\"black\" stroke-width=\"0.5\"/><path d=\"M 474 334 416 415\" stroke=\"black\" stroke-width=\"0.5\"/><path d=\"M 474 334 505 343\" stroke=\"black\" stroke-width=\"0.5\"/><path d=\"M 474 334 570 327\" stroke=\"black\" stroke-width=\"0.5\"/><path d=\"M 474 334 546 333\" stroke=\"black\" stroke-width=\"0.5\"/><path d=\"M 474 334 584 347\" stroke=\"black\" stroke-width=\"0.5\"/><path d=\"M 474 334 448 331\" stroke=\"black\" stroke-width=\"0.5\"/><path d=\"M 474 334 565 430\" stroke=\"black\" stroke-width=\"0.5\"/><path d=\"M 474 334 440 346\" stroke=\"black\" stroke-width=\"0.5\"/><path d=\"M 474 334 573 310\" stroke=\"black\" stroke-width=\"0.5\"/><path d=\"M 474 334 612 318\" stroke=\"black\" stroke-width=\"0.5\"/><path d=\"M 474 334 549 401\" stroke=\"black\" stroke-width=\"0.5\"/><path d=\"M 474 334 525 302\" stroke=\"black\" stroke-width=\"0.5\"/><path d=\"M 474 334 569 400\" stroke=\"black\" stroke-width=\"0.5\"/><path d=\"M 474 334 352 249\" stroke=\"black\" stroke-width=\"0.5\"/><path d=\"M 474 334 549 416\" stroke=\"black\" stroke-width=\"0.5\"/><path d=\"M 474 334 541 307\" stroke=\"black\" stroke-width=\"0.5\"/><path d=\"M 474 334 364 237\" stroke=\"black\" stroke-width=\"0.5\"/><path d=\"M 474 334 572 372\" stroke=\"black\" stroke-width=\"0.5\"/><path d=\"M 474 334 432 412\" stroke=\"black\" stroke-width=\"0.5\"/><path d=\"M 474 334 538 320\" stroke=\"black\" stroke-width=\"0.5\"/><path d=\"M 474 334 550 364\" stroke=\"black\" stroke-width=\"0.5\"/><path d=\"M 474 334 408 400\" stroke=\"black\" stroke-width=\"0.5\"/><path d=\"M 474 334 445 374\" stroke=\"black\" stroke-width=\"0.5\"/><path d=\"M 474 334 511 367\" stroke=\"black\" stroke-width=\"0.5\"/><path d=\"M 474 334 502 333\" stroke=\"black\" stroke-width=\"0.5\"/><path d=\"M 474 334 433 371\" stroke=\"black\" stroke-width=\"0.5\"/><path d=\"M 474 334 460 381\" stroke=\"black\" stroke-width=\"0.5\"/><path d=\"M 474 334 212 199\" stroke=\"black\" stroke-width=\"0.5\"/><path d=\"M 474 334 589 330\" stroke=\"black\" stroke-width=\"0.5\"/><path d=\"M 720 305 698 284\" stroke=\"black\" stroke-width=\"0.5\"/><path d=\"M 720 305 717 289\" stroke=\"black\" stroke-width=\"0.5\"/><path d=\"M 720 305 612 318\" stroke=\"black\" stroke-width=\"0.5\"/><path d=\"M 720 305 699 311\" stroke=\"black\" stroke-width=\"0.5\"/><path d=\"M 720 305 711 325\" stroke=\"black\" stroke-width=\"0.5\"/><path d=\"M 155 151 129 155\" stroke=\"black\" stroke-width=\"0.5\"/><path d=\"M 155 151 121 168\" stroke=\"black\" stroke-width=\"0.5\"/><path d=\"M 155 151 109 169\" stroke=\"black\" stroke-width=\"0.5\"/><path d=\"M 155 151 118 187\" stroke=\"black\" stroke-width=\"0.5\"/><path d=\"M 155 151 125 179\" stroke=\"black\" stroke-width=\"0.5\"/><path d=\"M 155 151 157 161\" stroke=\"black\" stroke-width=\"0.5\"/><path d=\"M 155 151 162 173\" stroke=\"black\" stroke-width=\"0.5\"/><path d=\"M 155 151 118 158\" stroke=\"black\" stroke-width=\"0.5\"/><path d=\"M 155 151 110 179\" stroke=\"black\" stroke-width=\"0.5\"/><path d=\"M 155 151 144 180\" stroke=\"black\" stroke-width=\"0.5\"/><path d=\"M 155 151 99 117\" stroke=\"black\" stroke-width=\"0.5\"/><path d=\"M 155 151 144 223\" stroke=\"black\" stroke-width=\"0.5\"/><path d=\"M 155 151 134 171\" stroke=\"black\" stroke-width=\"0.5\"/><path d=\"M 155 151 201 100\" stroke=\"black\" stroke-width=\"0.5\"/><path d=\"M 155 151 153 170\" stroke=\"black\" stroke-width=\"0.5\"/><path d=\"M 155 151 134 187\" stroke=\"black\" stroke-width=\"0.5\"/><path d=\"M 155 151 150 206\" stroke=\"black\" stroke-width=\"0.5\"/><path d=\"M 155 151 142 163\" stroke=\"black\" stroke-width=\"0.5\"/><path d=\"M 155 151 141 152\" stroke=\"black\" stroke-width=\"0.5\"/><path d=\"M 155 151 212 199\" stroke=\"black\" stroke-width=\"0.5\"/><path d=\"M 541 307 505 343\" stroke=\"black\" stroke-width=\"0.5\"/><path d=\"M 541 307 546 333\" stroke=\"black\" stroke-width=\"0.5\"/><path d=\"M 541 307 612 318\" stroke=\"black\" stroke-width=\"0.5\"/><path d=\"M 541 307 474 334\" stroke=\"black\" stroke-width=\"0.5\"/><path d=\"M 541 307 538 320\" stroke=\"black\" stroke-width=\"0.5\"/><path d=\"M 541 307 550 364\" stroke=\"black\" stroke-width=\"0.5\"/><path d=\"M 541 307 502 333\" stroke=\"black\" stroke-width=\"0.5\"/><path d=\"M 699 311 698 284\" stroke=\"black\" stroke-width=\"0.5\"/><path d=\"M 699 311 717 289\" stroke=\"black\" stroke-width=\"0.5\"/><path d=\"M 699 311 612 318\" stroke=\"black\" stroke-width=\"0.5\"/><path d=\"M 699 311 720 305\" stroke=\"black\" stroke-width=\"0.5\"/><path d=\"M 699 311 711 325\" stroke=\"black\" stroke-width=\"0.5\"/><path d=\"M 21 34 36 24\" stroke=\"black\" stroke-width=\"0.5\"/><path d=\"M 21 34 54 51\" stroke=\"black\" stroke-width=\"0.5\"/><path d=\"M 21 34 52 35\" stroke=\"black\" stroke-width=\"0.5\"/><path d=\"M 21 34 69 40\" stroke=\"black\" stroke-width=\"0.5\"/><path d=\"M 21 34 68 26\" stroke=\"black\" stroke-width=\"0.5\"/><path d=\"M 21 34 52 20\" stroke=\"black\" stroke-width=\"0.5\"/><path d=\"M 21 34 99 117\" stroke=\"black\" stroke-width=\"0.5\"/><path d=\"M 21 34 35 42\" stroke=\"black\" stroke-width=\"0.5\"/><path d=\"M 21 34 35 57\" stroke=\"black\" stroke-width=\"0.5\"/><path d=\"M 21 34 20 50\" stroke=\"black\" stroke-width=\"0.5\"/><path d=\"M 364 237 352 249\" stroke=\"black\" stroke-width=\"0.5\"/><path d=\"M 364 237 474 334\" stroke=\"black\" stroke-width=\"0.5\"/><path d=\"M 364 237 212 199\" stroke=\"black\" stroke-width=\"0.5\"/><path d=\"M 572 372 570 327\" stroke=\"black\" stroke-width=\"0.5\"/><path d=\"M 572 372 584 347\" stroke=\"black\" stroke-width=\"0.5\"/><path d=\"M 572 372 565 430\" stroke=\"black\" stroke-width=\"0.5\"/><path d=\"M 572 372 573 310\" stroke=\"black\" stroke-width=\"0.5\"/><path d=\"M 572 372 549 401\" stroke=\"black\" stroke-width=\"0.5\"/><path d=\"M 572 372 569 400\" stroke=\"black\" stroke-width=\"0.5\"/><path d=\"M 572 372 549 416\" stroke=\"black\" stroke-width=\"0.5\"/><path d=\"M 572 372 474 334\" stroke=\"black\" stroke-width=\"0.5\"/><path d=\"M 572 372 550 364\" stroke=\"black\" stroke-width=\"0.5\"/><path d=\"M 572 372 589 330\" stroke=\"black\" stroke-width=\"0.5\"/><path d=\"M 217 129 204 34\" stroke=\"black\" stroke-width=\"0.5\"/><path d=\"M 217 129 205 53\" stroke=\"black\" stroke-width=\"0.5\"/><path d=\"M 217 129 309 137\" stroke=\"black\" stroke-width=\"0.5\"/><path d=\"M 217 129 162 173\" stroke=\"black\" stroke-width=\"0.5\"/><path d=\"M 217 129 328 140\" stroke=\"black\" stroke-width=\"0.5\"/><path d=\"M 217 129 183 43\" stroke=\"black\" stroke-width=\"0.5\"/><path d=\"M 217 129 313 155\" stroke=\"black\" stroke-width=\"0.5\"/><path d=\"M 217 129 88 133\" stroke=\"black\" stroke-width=\"0.5\"/><path d=\"M 217 129 322 223\" stroke=\"black\" stroke-width=\"0.5\"/><path d=\"M 217 129 224 44\" stroke=\"black\" stroke-width=\"0.5\"/><path d=\"M 217 129 165 72\" stroke=\"black\" stroke-width=\"0.5\"/><path d=\"M 217 129 158 225\" stroke=\"black\" stroke-width=\"0.5\"/><path d=\"M 217 129 123 216\" stroke=\"black\" stroke-width=\"0.5\"/><path d=\"M 165 325 167 395\" stroke=\"black\" stroke-width=\"0.5\"/><path d=\"M 165 325 167 310\" stroke=\"black\" stroke-width=\"0.5\"/><path d=\"M 165 325 186 311\" stroke=\"black\" stroke-width=\"0.5\"/><path d=\"M 165 325 144 223\" stroke=\"black\" stroke-width=\"0.5\"/><path d=\"M 504 195 529 190\" stroke=\"black\" stroke-width=\"0.5\"/><path d=\"M 504 195 507 212\" stroke=\"black\" stroke-width=\"0.5\"/><path d=\"M 504 195 525 302\" stroke=\"black\" stroke-width=\"0.5\"/><path d=\"M 504 195 533 206\" stroke=\"black\" stroke-width=\"0.5\"/><path d=\"M 432 412 416 415\" stroke=\"black\" stroke-width=\"0.5\"/><path d=\"M 432 412 474 334\" stroke=\"black\" stroke-width=\"0.5\"/><path d=\"M 432 412 408 400\" stroke=\"black\" stroke-width=\"0.5\"/><path d=\"M 432 412 445 374\" stroke=\"black\" stroke-width=\"0.5\"/><path d=\"M 432 412 433 371\" stroke=\"black\" stroke-width=\"0.5\"/><path d=\"M 432 412 460 381\" stroke=\"black\" stroke-width=\"0.5\"/><path d=\"M 370 284 366 271\" stroke=\"black\" stroke-width=\"0.5\"/><path d=\"M 370 284 322 223\" stroke=\"black\" stroke-width=\"0.5\"/><path d=\"M 370 284 312 315\" stroke=\"black\" stroke-width=\"0.5\"/><path d=\"M 370 284 340 299\" stroke=\"black\" stroke-width=\"0.5\"/><path d=\"M 370 284 346 283\" stroke=\"black\" stroke-width=\"0.5\"/><path d=\"M 370 284 361 301\" stroke=\"black\" stroke-width=\"0.5\"/><path d=\"M 115 311 134 290\" stroke=\"black\" stroke-width=\"0.5\"/><path d=\"M 115 311 137 309\" stroke=\"black\" stroke-width=\"0.5\"/><path d=\"M 115 311 150 206\" stroke=\"black\" stroke-width=\"0.5\"/><path d=\"M 115 311 108 294\" stroke=\"black\" stroke-width=\"0.5\"/><path d=\"M 186 311 167 395\" stroke=\"black\" stroke-width=\"0.5\"/><path d=\"M 186 311 167 310\" stroke=\"black\" stroke-width=\"0.5\"/><path d=\"M 186 311 165 325\" stroke=\"black\" stroke-width=\"0.5\"/><path d=\"M 186 311 144 223\" stroke=\"black\" stroke-width=\"0.5\"/><path d=\"M 538 320 505 343\" stroke=\"black\" stroke-width=\"0.5\"/><path d=\"M 538 320 546 333\" stroke=\"black\" stroke-width=\"0.5\"/><path d=\"M 538 320 612 318\" stroke=\"black\" stroke-width=\"0.5\"/><path d=\"M 538 320 474 334\" stroke=\"black\" stroke-width=\"0.5\"/><path d=\"M 538 320 541 307\" stroke=\"black\" stroke-width=\"0.5\"/><path d=\"M 538 320 550 364\" stroke=\"black\" stroke-width=\"0.5\"/><path d=\"M 538 320 502 333\" stroke=\"black\" stroke-width=\"0.5\"/><path d=\"M 88 133 217 129\" stroke=\"black\" stroke-width=\"0.5\"/><path d=\"M 88 133 165 72\" stroke=\"black\" stroke-width=\"0.5\"/><path d=\"M 52 20 36 24\" stroke=\"black\" stroke-width=\"0.5\"/><path d=\"M 52 20 54 51\" stroke=\"black\" stroke-width=\"0.5\"/><path d=\"M 52 20 52 35\" stroke=\"black\" stroke-width=\"0.5\"/><path d=\"M 52 20 69 40\" stroke=\"black\" stroke-width=\"0.5\"/><path d=\"M 52 20 68 26\" stroke=\"black\" stroke-width=\"0.5\"/><path d=\"M 52 20 21 34\" stroke=\"black\" stroke-width=\"0.5\"/><path d=\"M 52 20 99 117\" stroke=\"black\" stroke-width=\"0.5\"/><path d=\"M 52 20 35 42\" stroke=\"black\" stroke-width=\"0.5\"/><path d=\"M 52 20 35 57\" stroke=\"black\" stroke-width=\"0.5\"/><path d=\"M 52 20 20 50\" stroke=\"black\" stroke-width=\"0.5\"/><path d=\"M 597 520 565 430\" stroke=\"black\" stroke-width=\"0.5\"/><path d=\"M 99 117 129 155\" stroke=\"black\" stroke-width=\"0.5\"/><path d=\"M 99 117 36 24\" stroke=\"black\" stroke-width=\"0.5\"/><path d=\"M 99 117 54 51\" stroke=\"black\" stroke-width=\"0.5\"/><path d=\"M 99 117 121 168\" stroke=\"black\" stroke-width=\"0.5\"/><path d=\"M 99 117 109 169\" stroke=\"black\" stroke-width=\"0.5\"/><path d=\"M 99 117 118 187\" stroke=\"black\" stroke-width=\"0.5\"/><path d=\"M 99 117 125 179\" stroke=\"black\" stroke-width=\"0.5\"/><path d=\"M 99 117 157 161\" stroke=\"black\" stroke-width=\"0.5\"/><path d=\"M 99 117 52 35\" stroke=\"black\" stroke-width=\"0.5\"/><path d=\"M 99 117 162 173\" stroke=\"black\" stroke-width=\"0.5\"/><path d=\"M 99 117 69 40\" stroke=\"black\" stroke-width=\"0.5\"/><path d=\"M 99 117 118 158\" stroke=\"black\" stroke-width=\"0.5\"/><path d=\"M 99 117 68 26\" stroke=\"black\" stroke-width=\"0.5\"/><path d=\"M 99 117 110 179\" stroke=\"black\" stroke-width=\"0.5\"/><path d=\"M 99 117 144 180\" stroke=\"black\" stroke-width=\"0.5\"/><path d=\"M 99 117 155 151\" stroke=\"black\" stroke-width=\"0.5\"/><path d=\"M 99 117 21 34\" stroke=\"black\" stroke-width=\"0.5\"/><path d=\"M 99 117 52 20\" stroke=\"black\" stroke-width=\"0.5\"/><path d=\"M 99 117 144 223\" stroke=\"black\" stroke-width=\"0.5\"/><path d=\"M 99 117 134 171\" stroke=\"black\" stroke-width=\"0.5\"/><path d=\"M 99 117 153 170\" stroke=\"black\" stroke-width=\"0.5\"/><path d=\"M 99 117 134 187\" stroke=\"black\" stroke-width=\"0.5\"/><path d=\"M 99 117 35 42\" stroke=\"black\" stroke-width=\"0.5\"/><path d=\"M 99 117 150 206\" stroke=\"black\" stroke-width=\"0.5\"/><path d=\"M 99 117 142 163\" stroke=\"black\" stroke-width=\"0.5\"/><path d=\"M 99 117 141 152\" stroke=\"black\" stroke-width=\"0.5\"/><path d=\"M 99 117 35 57\" stroke=\"black\" stroke-width=\"0.5\"/><path d=\"M 99 117 20 50\" stroke=\"black\" stroke-width=\"0.5\"/><path d=\"M 99 117 212 199\" stroke=\"black\" stroke-width=\"0.5\"/><path d=\"M 322 223 309 137\" stroke=\"black\" stroke-width=\"0.5\"/><path d=\"M 322 223 328 140\" stroke=\"black\" stroke-width=\"0.5\"/><path d=\"M 322 223 366 271\" stroke=\"black\" stroke-width=\"0.5\"/><path d=\"M 322 223 313 155\" stroke=\"black\" stroke-width=\"0.5\"/><path d=\"M 322 223 217 129\" stroke=\"black\" stroke-width=\"0.5\"/><path d=\"M 322 223 370 284\" stroke=\"black\" stroke-width=\"0.5\"/><path d=\"M 322 223 312 315\" stroke=\"black\" stroke-width=\"0.5\"/><path d=\"M 322 223 340 299\" stroke=\"black\" stroke-width=\"0.5\"/><path d=\"M 322 223 346 283\" stroke=\"black\" stroke-width=\"0.5\"/><path d=\"M 322 223 361 301\" stroke=\"black\" stroke-width=\"0.5\"/><path d=\"M 550 364 505 343\" stroke=\"black\" stroke-width=\"0.5\"/><path d=\"M 550 364 546 333\" stroke=\"black\" stroke-width=\"0.5\"/><path d=\"M 550 364 565 430\" stroke=\"black\" stroke-width=\"0.5\"/><path d=\"M 550 364 612 318\" stroke=\"black\" stroke-width=\"0.5\"/><path d=\"M 550 364 549 401\" stroke=\"black\" stroke-width=\"0.5\"/><path d=\"M 550 364 569 400\" stroke=\"black\" stroke-width=\"0.5\"/><path d=\"M 550 364 549 416\" stroke=\"black\" stroke-width=\"0.5\"/><path d=\"M 550 364 474 334\" stroke=\"black\" stroke-width=\"0.5\"/><path d=\"M 550 364 541 307\" stroke=\"black\" stroke-width=\"0.5\"/><path d=\"M 550 364 572 372\" stroke=\"black\" stroke-width=\"0.5\"/><path d=\"M 550 364 538 320\" stroke=\"black\" stroke-width=\"0.5\"/><path d=\"M 550 364 502 333\" stroke=\"black\" stroke-width=\"0.5\"/><path d=\"M 586 232 568 221\" stroke=\"black\" stroke-width=\"0.5\"/><path d=\"M 586 232 586 211\" stroke=\"black\" stroke-width=\"0.5\"/><path d=\"M 586 232 525 302\" stroke=\"black\" stroke-width=\"0.5\"/><path d=\"M 586 232 604 240\" stroke=\"black\" stroke-width=\"0.5\"/><path d=\"M 586 232 606 220\" stroke=\"black\" stroke-width=\"0.5\"/><path d=\"M 408 400 416 415\" stroke=\"black\" stroke-width=\"0.5\"/><path d=\"M 408 400 474 334\" stroke=\"black\" stroke-width=\"0.5\"/><path d=\"M 408 400 432 412\" stroke=\"black\" stroke-width=\"0.5\"/><path d=\"M 408 400 445 374\" stroke=\"black\" stroke-width=\"0.5\"/><path d=\"M 408 400 433 371\" stroke=\"black\" stroke-width=\"0.5\"/><path d=\"M 408 400 460 381\" stroke=\"black\" stroke-width=\"0.5\"/><path d=\"M 533 206 529 190\" stroke=\"black\" stroke-width=\"0.5\"/><path d=\"M 533 206 507 212\" stroke=\"black\" stroke-width=\"0.5\"/><path d=\"M 533 206 525 302\" stroke=\"black\" stroke-width=\"0.5\"/><path d=\"M 533 206 504 195\" stroke=\"black\" stroke-width=\"0.5\"/><path d=\"M 312 315 275 345\" stroke=\"black\" stroke-width=\"0.5\"/><path d=\"M 312 315 288 364\" stroke=\"black\" stroke-width=\"0.5\"/><path d=\"M 312 315 366 271\" stroke=\"black\" stroke-width=\"0.5\"/><path d=\"M 312 315 370 284\" stroke=\"black\" stroke-width=\"0.5\"/><path d=\"M 312 315 322 223\" stroke=\"black\" stroke-width=\"0.5\"/><path d=\"M 312 315 279 383\" stroke=\"black\" stroke-width=\"0.5\"/><path d=\"M 312 315 340 299\" stroke=\"black\" stroke-width=\"0.5\"/><path d=\"M 312 315 346 283\" stroke=\"black\" stroke-width=\"0.5\"/><path d=\"M 312 315 258 365\" stroke=\"black\" stroke-width=\"0.5\"/><path d=\"M 312 315 361 301\" stroke=\"black\" stroke-width=\"0.5\"/><path d=\"M 312 315 256 327\" stroke=\"black\" stroke-width=\"0.5\"/><path d=\"M 144 223 129 155\" stroke=\"black\" stroke-width=\"0.5\"/><path d=\"M 144 223 167 395\" stroke=\"black\" stroke-width=\"0.5\"/><path d=\"M 144 223 121 168\" stroke=\"black\" stroke-width=\"0.5\"/><path d=\"M 144 223 109 169\" stroke=\"black\" stroke-width=\"0.5\"/><path d=\"M 144 223 118 187\" stroke=\"black\" stroke-width=\"0.5\"/><path d=\"M 144 223 125 179\" stroke=\"black\" stroke-width=\"0.5\"/><path d=\"M 144 223 157 161\" stroke=\"black\" stroke-width=\"0.5\"/><path d=\"M 144 223 167 310\" stroke=\"black\" stroke-width=\"0.5\"/><path d=\"M 144 223 162 173\" stroke=\"black\" stroke-width=\"0.5\"/><path d=\"M 144 223 118 158\" stroke=\"black\" stroke-width=\"0.5\"/><path d=\"M 144 223 110 179\" stroke=\"black\" stroke-width=\"0.5\"/><path d=\"M 144 223 144 180\" stroke=\"black\" stroke-width=\"0.5\"/><path d=\"M 144 223 155 151\" stroke=\"black\" stroke-width=\"0.5\"/><path d=\"M 144 223 165 325\" stroke=\"black\" stroke-width=\"0.5\"/><path d=\"M 144 223 186 311\" stroke=\"black\" stroke-width=\"0.5\"/><path d=\"M 144 223 99 117\" stroke=\"black\" stroke-width=\"0.5\"/><path d=\"M 144 223 134 171\" stroke=\"black\" stroke-width=\"0.5\"/><path d=\"M 144 223 153 170\" stroke=\"black\" stroke-width=\"0.5\"/><path d=\"M 144 223 134 187\" stroke=\"black\" stroke-width=\"0.5\"/><path d=\"M 144 223 150 206\" stroke=\"black\" stroke-width=\"0.5\"/><path d=\"M 144 223 142 163\" stroke=\"black\" stroke-width=\"0.5\"/><path d=\"M 144 223 141 152\" stroke=\"black\" stroke-width=\"0.5\"/><path d=\"M 144 223 212 199\" stroke=\"black\" stroke-width=\"0.5\"/><path d=\"M 279 383 275 345\" stroke=\"black\" stroke-width=\"0.5\"/><path d=\"M 279 383 288 364\" stroke=\"black\" stroke-width=\"0.5\"/><path d=\"M 279 383 312 315\" stroke=\"black\" stroke-width=\"0.5\"/><path d=\"M 279 383 258 365\" stroke=\"black\" stroke-width=\"0.5\"/><path d=\"M 340 299 366 271\" stroke=\"black\" stroke-width=\"0.5\"/><path d=\"M 340 299 370 284\" stroke=\"black\" stroke-width=\"0.5\"/><path d=\"M 340 299 322 223\" stroke=\"black\" stroke-width=\"0.5\"/><path d=\"M 340 299 312 315\" stroke=\"black\" stroke-width=\"0.5\"/><path d=\"M 340 299 346 283\" stroke=\"black\" stroke-width=\"0.5\"/><path d=\"M 340 299 361 301\" stroke=\"black\" stroke-width=\"0.5\"/><path d=\"M 134 171 129 155\" stroke=\"black\" stroke-width=\"0.5\"/><path d=\"M 134 171 121 168\" stroke=\"black\" stroke-width=\"0.5\"/><path d=\"M 134 171 109 169\" stroke=\"black\" stroke-width=\"0.5\"/><path d=\"M 134 171 118 187\" stroke=\"black\" stroke-width=\"0.5\"/><path d=\"M 134 171 125 179\" stroke=\"black\" stroke-width=\"0.5\"/><path d=\"M 134 171 157 161\" stroke=\"black\" stroke-width=\"0.5\"/><path d=\"M 134 171 162 173\" stroke=\"black\" stroke-width=\"0.5\"/><path d=\"M 134 171 118 158\" stroke=\"black\" stroke-width=\"0.5\"/><path d=\"M 134 171 110 179\" stroke=\"black\" stroke-width=\"0.5\"/><path d=\"M 134 171 144 180\" stroke=\"black\" stroke-width=\"0.5\"/><path d=\"M 134 171 155 151\" stroke=\"black\" stroke-width=\"0.5\"/><path d=\"M 134 171 99 117\" stroke=\"black\" stroke-width=\"0.5\"/><path d=\"M 134 171 144 223\" stroke=\"black\" stroke-width=\"0.5\"/><path d=\"M 134 171 153 170\" stroke=\"black\" stroke-width=\"0.5\"/><path d=\"M 134 171 134 187\" stroke=\"black\" stroke-width=\"0.5\"/><path d=\"M 134 171 150 206\" stroke=\"black\" stroke-width=\"0.5\"/><path d=\"M 134 171 142 163\" stroke=\"black\" stroke-width=\"0.5\"/><path d=\"M 134 171 141 152\" stroke=\"black\" stroke-width=\"0.5\"/><path d=\"M 134 171 212 199\" stroke=\"black\" stroke-width=\"0.5\"/><path d=\"M 193 478 162 474\" stroke=\"black\" stroke-width=\"0.5\"/><path d=\"M 193 478 167 395\" stroke=\"black\" stroke-width=\"0.5\"/><path d=\"M 193 478 175 490\" stroke=\"black\" stroke-width=\"0.5\"/><path d=\"M 193 478 191 498\" stroke=\"black\" stroke-width=\"0.5\"/><path d=\"M 193 478 153 490\" stroke=\"black\" stroke-width=\"0.5\"/><path d=\"M 224 44 204 34\" stroke=\"black\" stroke-width=\"0.5\"/><path d=\"M 224 44 205 53\" stroke=\"black\" stroke-width=\"0.5\"/><path d=\"M 224 44 183 43\" stroke=\"black\" stroke-width=\"0.5\"/><path d=\"M 224 44 217 129\" stroke=\"black\" stroke-width=\"0.5\"/><path d=\"M 224 44 165 72\" stroke=\"black\" stroke-width=\"0.5\"/><path d=\"M 201 100 162 173\" stroke=\"black\" stroke-width=\"0.5\"/><path d=\"M 201 100 155 151\" stroke=\"black\" stroke-width=\"0.5\"/><path d=\"M 445 374 416 415\" stroke=\"black\" stroke-width=\"0.5\"/><path d=\"M 445 374 505 343\" stroke=\"black\" stroke-width=\"0.5\"/><path d=\"M 445 374 448 331\" stroke=\"black\" stroke-width=\"0.5\"/><path d=\"M 445 374 440 346\" stroke=\"black\" stroke-width=\"0.5\"/><path d=\"M 445 374 474 334\" stroke=\"black\" stroke-width=\"0.5\"/><path d=\"M 445 374 432 412\" stroke=\"black\" stroke-width=\"0.5\"/><path d=\"M 445 374 408 400\" stroke=\"black\" stroke-width=\"0.5\"/><path d=\"M 445 374 502 333\" stroke=\"black\" stroke-width=\"0.5\"/><path d=\"M 445 374 433 371\" stroke=\"black\" stroke-width=\"0.5\"/><path d=\"M 445 374 460 381\" stroke=\"black\" stroke-width=\"0.5\"/><path d=\"M 242 166 234 151\" stroke=\"black\" stroke-width=\"0.5\"/><path d=\"M 242 166 150 206\" stroke=\"black\" stroke-width=\"0.5\"/><path d=\"M 242 166 236 183\" stroke=\"black\" stroke-width=\"0.5\"/><path d=\"M 242 166 212 199\" stroke=\"black\" stroke-width=\"0.5\"/><path d=\"M 711 325 698 284\" stroke=\"black\" stroke-width=\"0.5\"/><path d=\"M 711 325 717 289\" stroke=\"black\" stroke-width=\"0.5\"/><path d=\"M 711 325 612 318\" stroke=\"black\" stroke-width=\"0.5\"/><path d=\"M 711 325 720 305\" stroke=\"black\" stroke-width=\"0.5\"/><path d=\"M 711 325 699 311\" stroke=\"black\" stroke-width=\"0.5\"/><path d=\"M 153 170 129 155\" stroke=\"black\" stroke-width=\"0.5\"/><path d=\"M 153 170 121 168\" stroke=\"black\" stroke-width=\"0.5\"/><path d=\"M 153 170 109 169\" stroke=\"black\" stroke-width=\"0.5\"/><path d=\"M 153 170 118 187\" stroke=\"black\" stroke-width=\"0.5\"/><path d=\"M 153 170 125 179\" stroke=\"black\" stroke-width=\"0.5\"/><path d=\"M 153 170 157 161\" stroke=\"black\" stroke-width=\"0.5\"/><path d=\"M 153 170 162 173\" stroke=\"black\" stroke-width=\"0.5\"/><path d=\"M 153 170 118 158\" stroke=\"black\" stroke-width=\"0.5\"/><path d=\"M 153 170 110 179\" stroke=\"black\" stroke-width=\"0.5\"/><path d=\"M 153 170 144 180\" stroke=\"black\" stroke-width=\"0.5\"/><path d=\"M 153 170 155 151\" stroke=\"black\" stroke-width=\"0.5\"/><path d=\"M 153 170 99 117\" stroke=\"black\" stroke-width=\"0.5\"/><path d=\"M 153 170 144 223\" stroke=\"black\" stroke-width=\"0.5\"/><path d=\"M 153 170 134 171\" stroke=\"black\" stroke-width=\"0.5\"/><path d=\"M 153 170 134 187\" stroke=\"black\" stroke-width=\"0.5\"/><path d=\"M 153 170 150 206\" stroke=\"black\" stroke-width=\"0.5\"/><path d=\"M 153 170 142 163\" stroke=\"black\" stroke-width=\"0.5\"/><path d=\"M 153 170 141 152\" stroke=\"black\" stroke-width=\"0.5\"/><path d=\"M 153 170 212 199\" stroke=\"black\" stroke-width=\"0.5\"/><path d=\"M 191 498 162 474\" stroke=\"black\" stroke-width=\"0.5\"/><path d=\"M 191 498 167 395\" stroke=\"black\" stroke-width=\"0.5\"/><path d=\"M 191 498 175 490\" stroke=\"black\" stroke-width=\"0.5\"/><path d=\"M 191 498 193 478\" stroke=\"black\" stroke-width=\"0.5\"/><path d=\"M 191 498 153 490\" stroke=\"black\" stroke-width=\"0.5\"/><path d=\"M 511 367 525 302\" stroke=\"black\" stroke-width=\"0.5\"/><path d=\"M 511 367 474 334\" stroke=\"black\" stroke-width=\"0.5\"/><path d=\"M 511 367 460 381\" stroke=\"black\" stroke-width=\"0.5\"/><path d=\"M 134 187 129 155\" stroke=\"black\" stroke-width=\"0.5\"/><path d=\"M 134 187 121 168\" stroke=\"black\" stroke-width=\"0.5\"/><path d=\"M 134 187 109 169\" stroke=\"black\" stroke-width=\"0.5\"/><path d=\"M 134 187 118 187\" stroke=\"black\" stroke-width=\"0.5\"/><path d=\"M 134 187 125 179\" stroke=\"black\" stroke-width=\"0.5\"/><path d=\"M 134 187 157 161\" stroke=\"black\" stroke-width=\"0.5\"/><path d=\"M 134 187 162 173\" stroke=\"black\" stroke-width=\"0.5\"/><path d=\"M 134 187 118 158\" stroke=\"black\" stroke-width=\"0.5\"/><path d=\"M 134 187 110 179\" stroke=\"black\" stroke-width=\"0.5\"/><path d=\"M 134 187 144 180\" stroke=\"black\" stroke-width=\"0.5\"/><path d=\"M 134 187 155 151\" stroke=\"black\" stroke-width=\"0.5\"/><path d=\"M 134 187 99 117\" stroke=\"black\" stroke-width=\"0.5\"/><path d=\"M 134 187 144 223\" stroke=\"black\" stroke-width=\"0.5\"/><path d=\"M 134 187 134 171\" stroke=\"black\" stroke-width=\"0.5\"/><path d=\"M 134 187 153 170\" stroke=\"black\" stroke-width=\"0.5\"/><path d=\"M 134 187 150 206\" stroke=\"black\" stroke-width=\"0.5\"/><path d=\"M 134 187 142 163\" stroke=\"black\" stroke-width=\"0.5\"/><path d=\"M 134 187 141 152\" stroke=\"black\" stroke-width=\"0.5\"/><path d=\"M 134 187 212 199\" stroke=\"black\" stroke-width=\"0.5\"/><path d=\"M 502 333 505 343\" stroke=\"black\" stroke-width=\"0.5\"/><path d=\"M 502 333 546 333\" stroke=\"black\" stroke-width=\"0.5\"/><path d=\"M 502 333 448 331\" stroke=\"black\" stroke-width=\"0.5\"/><path d=\"M 502 333 440 346\" stroke=\"black\" stroke-width=\"0.5\"/><path d=\"M 502 333 612 318\" stroke=\"black\" stroke-width=\"0.5\"/><path d=\"M 502 333 474 334\" stroke=\"black\" stroke-width=\"0.5\"/><path d=\"M 502 333 541 307\" stroke=\"black\" stroke-width=\"0.5\"/><path d=\"M 502 333 538 320\" stroke=\"black\" stroke-width=\"0.5\"/><path d=\"M 502 333 550 364\" stroke=\"black\" stroke-width=\"0.5\"/><path d=\"M 502 333 445 374\" stroke=\"black\" stroke-width=\"0.5\"/><path d=\"M 502 333 433 371\" stroke=\"black\" stroke-width=\"0.5\"/><path d=\"M 492 396 522 409\" stroke=\"black\" stroke-width=\"0.5\"/><path d=\"M 492 396 509 400\" stroke=\"black\" stroke-width=\"0.5\"/><path d=\"M 492 396 514 423\" stroke=\"black\" stroke-width=\"0.5\"/><path d=\"M 492 396 525 302\" stroke=\"black\" stroke-width=\"0.5\"/><path d=\"M 492 396 494 423\" stroke=\"black\" stroke-width=\"0.5\"/><path d=\"M 492 396 482 411\" stroke=\"black\" stroke-width=\"0.5\"/><path d=\"M 35 42 36 24\" stroke=\"black\" stroke-width=\"0.5\"/><path d=\"M 35 42 54 51\" stroke=\"black\" stroke-width=\"0.5\"/><path d=\"M 35 42 52 35\" stroke=\"black\" stroke-width=\"0.5\"/><path d=\"M 35 42 69 40\" stroke=\"black\" stroke-width=\"0.5\"/><path d=\"M 35 42 68 26\" stroke=\"black\" stroke-width=\"0.5\"/><path d=\"M 35 42 21 34\" stroke=\"black\" stroke-width=\"0.5\"/><path d=\"M 35 42 52 20\" stroke=\"black\" stroke-width=\"0.5\"/><path d=\"M 35 42 99 117\" stroke=\"black\" stroke-width=\"0.5\"/><path d=\"M 35 42 35 57\" stroke=\"black\" stroke-width=\"0.5\"/><path d=\"M 35 42 20 50\" stroke=\"black\" stroke-width=\"0.5\"/><path d=\"M 137 309 134 290\" stroke=\"black\" stroke-width=\"0.5\"/><path d=\"M 137 309 115 311\" stroke=\"black\" stroke-width=\"0.5\"/><path d=\"M 137 309 150 206\" stroke=\"black\" stroke-width=\"0.5\"/><path d=\"M 137 309 108 294\" stroke=\"black\" stroke-width=\"0.5\"/><path d=\"M 346 283 366 271\" stroke=\"black\" stroke-width=\"0.5\"/><path d=\"M 346 283 370 284\" stroke=\"black\" stroke-width=\"0.5\"/><path d=\"M 346 283 322 223\" stroke=\"black\" stroke-width=\"0.5\"/><path d=\"M 346 283 312 315\" stroke=\"black\" stroke-width=\"0.5\"/><path d=\"M 346 283 340 299\" stroke=\"black\" stroke-width=\"0.5\"/><path d=\"M 346 283 361 301\" stroke=\"black\" stroke-width=\"0.5\"/><path d=\"M 150 206 129 155\" stroke=\"black\" stroke-width=\"0.5\"/><path d=\"M 150 206 234 151\" stroke=\"black\" stroke-width=\"0.5\"/><path d=\"M 150 206 134 290\" stroke=\"black\" stroke-width=\"0.5\"/><path d=\"M 150 206 121 168\" stroke=\"black\" stroke-width=\"0.5\"/><path d=\"M 150 206 109 169\" stroke=\"black\" stroke-width=\"0.5\"/><path d=\"M 150 206 118 187\" stroke=\"black\" stroke-width=\"0.5\"/><path d=\"M 150 206 125 179\" stroke=\"black\" stroke-width=\"0.5\"/><path d=\"M 150 206 157 161\" stroke=\"black\" stroke-width=\"0.5\"/><path d=\"M 150 206 162 173\" stroke=\"black\" stroke-width=\"0.5\"/><path d=\"M 150 206 118 158\" stroke=\"black\" stroke-width=\"0.5\"/><path d=\"M 150 206 110 179\" stroke=\"black\" stroke-width=\"0.5\"/><path d=\"M 150 206 144 180\" stroke=\"black\" stroke-width=\"0.5\"/><path d=\"M 150 206 155 151\" stroke=\"black\" stroke-width=\"0.5\"/><path d=\"M 150 206 115 311\" stroke=\"black\" stroke-width=\"0.5\"/><path d=\"M 150 206 99 117\" stroke=\"black\" stroke-width=\"0.5\"/><path d=\"M 150 206 144 223\" stroke=\"black\" stroke-width=\"0.5\"/><path d=\"M 150 206 134 171\" stroke=\"black\" stroke-width=\"0.5\"/><path d=\"M 150 206 242 166\" stroke=\"black\" stroke-width=\"0.5\"/><path d=\"M 150 206 153 170\" stroke=\"black\" stroke-width=\"0.5\"/><path d=\"M 150 206 134 187\" stroke=\"black\" stroke-width=\"0.5\"/><path d=\"M 150 206 137 309\" stroke=\"black\" stroke-width=\"0.5\"/><path d=\"M 150 206 142 163\" stroke=\"black\" stroke-width=\"0.5\"/><path d=\"M 150 206 141 152\" stroke=\"black\" stroke-width=\"0.5\"/><path d=\"M 150 206 236 183\" stroke=\"black\" stroke-width=\"0.5\"/><path d=\"M 150 206 212 199\" stroke=\"black\" stroke-width=\"0.5\"/><path d=\"M 150 206 108 294\" stroke=\"black\" stroke-width=\"0.5\"/><path d=\"M 142 163 129 155\" stroke=\"black\" stroke-width=\"0.5\"/><path d=\"M 142 163 121 168\" stroke=\"black\" stroke-width=\"0.5\"/><path d=\"M 142 163 109 169\" stroke=\"black\" stroke-width=\"0.5\"/><path d=\"M 142 163 118 187\" stroke=\"black\" stroke-width=\"0.5\"/><path d=\"M 142 163 125 179\" stroke=\"black\" stroke-width=\"0.5\"/><path d=\"M 142 163 157 161\" stroke=\"black\" stroke-width=\"0.5\"/><path d=\"M 142 163 162 173\" stroke=\"black\" stroke-width=\"0.5\"/><path d=\"M 142 163 118 158\" stroke=\"black\" stroke-width=\"0.5\"/><path d=\"M 142 163 110 179\" stroke=\"black\" stroke-width=\"0.5\"/><path d=\"M 142 163 144 180\" stroke=\"black\" stroke-width=\"0.5\"/><path d=\"M 142 163 155 151\" stroke=\"black\" stroke-width=\"0.5\"/><path d=\"M 142 163 99 117\" stroke=\"black\" stroke-width=\"0.5\"/><path d=\"M 142 163 144 223\" stroke=\"black\" stroke-width=\"0.5\"/><path d=\"M 142 163 134 171\" stroke=\"black\" stroke-width=\"0.5\"/><path d=\"M 142 163 153 170\" stroke=\"black\" stroke-width=\"0.5\"/><path d=\"M 142 163 134 187\" stroke=\"black\" stroke-width=\"0.5\"/><path d=\"M 142 163 150 206\" stroke=\"black\" stroke-width=\"0.5\"/><path d=\"M 142 163 141 152\" stroke=\"black\" stroke-width=\"0.5\"/><path d=\"M 142 163 212 199\" stroke=\"black\" stroke-width=\"0.5\"/><path d=\"M 141 152 129 155\" stroke=\"black\" stroke-width=\"0.5\"/><path d=\"M 141 152 121 168\" stroke=\"black\" stroke-width=\"0.5\"/><path d=\"M 141 152 109 169\" stroke=\"black\" stroke-width=\"0.5\"/><path d=\"M 141 152 118 187\" stroke=\"black\" stroke-width=\"0.5\"/><path d=\"M 141 152 125 179\" stroke=\"black\" stroke-width=\"0.5\"/><path d=\"M 141 152 157 161\" stroke=\"black\" stroke-width=\"0.5\"/><path d=\"M 141 152 162 173\" stroke=\"black\" stroke-width=\"0.5\"/><path d=\"M 141 152 118 158\" stroke=\"black\" stroke-width=\"0.5\"/><path d=\"M 141 152 110 179\" stroke=\"black\" stroke-width=\"0.5\"/><path d=\"M 141 152 144 180\" stroke=\"black\" stroke-width=\"0.5\"/><path d=\"M 141 152 155 151\" stroke=\"black\" stroke-width=\"0.5\"/><path d=\"M 141 152 99 117\" stroke=\"black\" stroke-width=\"0.5\"/><path d=\"M 141 152 144 223\" stroke=\"black\" stroke-width=\"0.5\"/><path d=\"M 141 152 134 171\" stroke=\"black\" stroke-width=\"0.5\"/><path d=\"M 141 152 153 170\" stroke=\"black\" stroke-width=\"0.5\"/><path d=\"M 141 152 134 187\" stroke=\"black\" stroke-width=\"0.5\"/><path d=\"M 141 152 150 206\" stroke=\"black\" stroke-width=\"0.5\"/><path d=\"M 141 152 142 163\" stroke=\"black\" stroke-width=\"0.5\"/><path d=\"M 141 152 212 199\" stroke=\"black\" stroke-width=\"0.5\"/><path d=\"M 153 490 162 474\" stroke=\"black\" stroke-width=\"0.5\"/><path d=\"M 153 490 167 395\" stroke=\"black\" stroke-width=\"0.5\"/><path d=\"M 153 490 175 490\" stroke=\"black\" stroke-width=\"0.5\"/><path d=\"M 153 490 193 478\" stroke=\"black\" stroke-width=\"0.5\"/><path d=\"M 153 490 191 498\" stroke=\"black\" stroke-width=\"0.5\"/><path d=\"M 433 371 416 415\" stroke=\"black\" stroke-width=\"0.5\"/><path d=\"M 433 371 505 343\" stroke=\"black\" stroke-width=\"0.5\"/><path d=\"M 433 371 448 331\" stroke=\"black\" stroke-width=\"0.5\"/><path d=\"M 433 371 440 346\" stroke=\"black\" stroke-width=\"0.5\"/><path d=\"M 433 371 474 334\" stroke=\"black\" stroke-width=\"0.5\"/><path d=\"M 433 371 432 412\" stroke=\"black\" stroke-width=\"0.5\"/><path d=\"M 433 371 408 400\" stroke=\"black\" stroke-width=\"0.5\"/><path d=\"M 433 371 445 374\" stroke=\"black\" stroke-width=\"0.5\"/><path d=\"M 433 371 502 333\" stroke=\"black\" stroke-width=\"0.5\"/><path d=\"M 433 371 460 381\" stroke=\"black\" stroke-width=\"0.5\"/><path d=\"M 258 365 275 345\" stroke=\"black\" stroke-width=\"0.5\"/><path d=\"M 258 365 288 364\" stroke=\"black\" stroke-width=\"0.5\"/><path d=\"M 258 365 312 315\" stroke=\"black\" stroke-width=\"0.5\"/><path d=\"M 258 365 279 383\" stroke=\"black\" stroke-width=\"0.5\"/><path d=\"M 258 365 256 327\" stroke=\"black\" stroke-width=\"0.5\"/><path d=\"M 236 183 234 151\" stroke=\"black\" stroke-width=\"0.5\"/><path d=\"M 236 183 242 166\" stroke=\"black\" stroke-width=\"0.5\"/><path d=\"M 236 183 150 206\" stroke=\"black\" stroke-width=\"0.5\"/><path d=\"M 236 183 212 199\" stroke=\"black\" stroke-width=\"0.5\"/><path d=\"M 35 57 36 24\" stroke=\"black\" stroke-width=\"0.5\"/><path d=\"M 35 57 54 51\" stroke=\"black\" stroke-width=\"0.5\"/><path d=\"M 35 57 52 35\" stroke=\"black\" stroke-width=\"0.5\"/><path d=\"M 35 57 69 40\" stroke=\"black\" stroke-width=\"0.5\"/><path d=\"M 35 57 68 26\" stroke=\"black\" stroke-width=\"0.5\"/><path d=\"M 35 57 21 34\" stroke=\"black\" stroke-width=\"0.5\"/><path d=\"M 35 57 52 20\" stroke=\"black\" stroke-width=\"0.5\"/><path d=\"M 35 57 99 117\" stroke=\"black\" stroke-width=\"0.5\"/><path d=\"M 35 57 35 42\" stroke=\"black\" stroke-width=\"0.5\"/><path d=\"M 35 57 20 50\" stroke=\"black\" stroke-width=\"0.5\"/><path d=\"M 482 411 522 409\" stroke=\"black\" stroke-width=\"0.5\"/><path d=\"M 482 411 509 400\" stroke=\"black\" stroke-width=\"0.5\"/><path d=\"M 482 411 514 423\" stroke=\"black\" stroke-width=\"0.5\"/><path d=\"M 482 411 525 302\" stroke=\"black\" stroke-width=\"0.5\"/><path d=\"M 482 411 494 423\" stroke=\"black\" stroke-width=\"0.5\"/><path d=\"M 482 411 492 396\" stroke=\"black\" stroke-width=\"0.5\"/><path d=\"M 460 381 416 415\" stroke=\"black\" stroke-width=\"0.5\"/><path d=\"M 460 381 525 302\" stroke=\"black\" stroke-width=\"0.5\"/><path d=\"M 460 381 474 334\" stroke=\"black\" stroke-width=\"0.5\"/><path d=\"M 460 381 432 412\" stroke=\"black\" stroke-width=\"0.5\"/><path d=\"M 460 381 408 400\" stroke=\"black\" stroke-width=\"0.5\"/><path d=\"M 460 381 445 374\" stroke=\"black\" stroke-width=\"0.5\"/><path d=\"M 460 381 511 367\" stroke=\"black\" stroke-width=\"0.5\"/><path d=\"M 460 381 433 371\" stroke=\"black\" stroke-width=\"0.5\"/><path d=\"M 604 240 568 221\" stroke=\"black\" stroke-width=\"0.5\"/><path d=\"M 604 240 586 211\" stroke=\"black\" stroke-width=\"0.5\"/><path d=\"M 604 240 525 302\" stroke=\"black\" stroke-width=\"0.5\"/><path d=\"M 604 240 586 232\" stroke=\"black\" stroke-width=\"0.5\"/><path d=\"M 604 240 606 220\" stroke=\"black\" stroke-width=\"0.5\"/><path d=\"M 165 72 204 34\" stroke=\"black\" stroke-width=\"0.5\"/><path d=\"M 165 72 205 53\" stroke=\"black\" stroke-width=\"0.5\"/><path d=\"M 165 72 183 43\" stroke=\"black\" stroke-width=\"0.5\"/><path d=\"M 165 72 217 129\" stroke=\"black\" stroke-width=\"0.5\"/><path d=\"M 165 72 88 133\" stroke=\"black\" stroke-width=\"0.5\"/><path d=\"M 165 72 224 44\" stroke=\"black\" stroke-width=\"0.5\"/><path d=\"M 20 50 36 24\" stroke=\"black\" stroke-width=\"0.5\"/><path d=\"M 20 50 54 51\" stroke=\"black\" stroke-width=\"0.5\"/><path d=\"M 20 50 52 35\" stroke=\"black\" stroke-width=\"0.5\"/><path d=\"M 20 50 69 40\" stroke=\"black\" stroke-width=\"0.5\"/><path d=\"M 20 50 68 26\" stroke=\"black\" stroke-width=\"0.5\"/><path d=\"M 20 50 21 34\" stroke=\"black\" stroke-width=\"0.5\"/><path d=\"M 20 50 52 20\" stroke=\"black\" stroke-width=\"0.5\"/><path d=\"M 20 50 99 117\" stroke=\"black\" stroke-width=\"0.5\"/><path d=\"M 20 50 35 42\" stroke=\"black\" stroke-width=\"0.5\"/><path d=\"M 20 50 35 57\" stroke=\"black\" stroke-width=\"0.5\"/><path d=\"M 361 301 366 271\" stroke=\"black\" stroke-width=\"0.5\"/><path d=\"M 361 301 370 284\" stroke=\"black\" stroke-width=\"0.5\"/><path d=\"M 361 301 322 223\" stroke=\"black\" stroke-width=\"0.5\"/><path d=\"M 361 301 312 315\" stroke=\"black\" stroke-width=\"0.5\"/><path d=\"M 361 301 340 299\" stroke=\"black\" stroke-width=\"0.5\"/><path d=\"M 361 301 346 283\" stroke=\"black\" stroke-width=\"0.5\"/><path d=\"M 606 220 568 221\" stroke=\"black\" stroke-width=\"0.5\"/><path d=\"M 606 220 586 211\" stroke=\"black\" stroke-width=\"0.5\"/><path d=\"M 606 220 525 302\" stroke=\"black\" stroke-width=\"0.5\"/><path d=\"M 606 220 586 232\" stroke=\"black\" stroke-width=\"0.5\"/><path d=\"M 606 220 604 240\" stroke=\"black\" stroke-width=\"0.5\"/><path d=\"M 158 225 162 173\" stroke=\"black\" stroke-width=\"0.5\"/><path d=\"M 158 225 217 129\" stroke=\"black\" stroke-width=\"0.5\"/><path d=\"M 158 225 123 216\" stroke=\"black\" stroke-width=\"0.5\"/><path d=\"M 256 327 275 345\" stroke=\"black\" stroke-width=\"0.5\"/><path d=\"M 256 327 312 315\" stroke=\"black\" stroke-width=\"0.5\"/><path d=\"M 256 327 258 365\" stroke=\"black\" stroke-width=\"0.5\"/><path d=\"M 212 199 129 155\" stroke=\"black\" stroke-width=\"0.5\"/><path d=\"M 212 199 234 151\" stroke=\"black\" stroke-width=\"0.5\"/><path d=\"M 212 199 121 168\" stroke=\"black\" stroke-width=\"0.5\"/><path d=\"M 212 199 109 169\" stroke=\"black\" stroke-width=\"0.5\"/><path d=\"M 212 199 118 187\" stroke=\"black\" stroke-width=\"0.5\"/><path d=\"M 212 199 125 179\" stroke=\"black\" stroke-width=\"0.5\"/><path d=\"M 212 199 157 161\" stroke=\"black\" stroke-width=\"0.5\"/><path d=\"M 212 199 162 173\" stroke=\"black\" stroke-width=\"0.5\"/><path d=\"M 212 199 118 158\" stroke=\"black\" stroke-width=\"0.5\"/><path d=\"M 212 199 110 179\" stroke=\"black\" stroke-width=\"0.5\"/><path d=\"M 212 199 144 180\" stroke=\"black\" stroke-width=\"0.5\"/><path d=\"M 212 199 352 249\" stroke=\"black\" stroke-width=\"0.5\"/><path d=\"M 212 199 474 334\" stroke=\"black\" stroke-width=\"0.5\"/><path d=\"M 212 199 155 151\" stroke=\"black\" stroke-width=\"0.5\"/><path d=\"M 212 199 364 237\" stroke=\"black\" stroke-width=\"0.5\"/><path d=\"M 212 199 99 117\" stroke=\"black\" stroke-width=\"0.5\"/><path d=\"M 212 199 144 223\" stroke=\"black\" stroke-width=\"0.5\"/><path d=\"M 212 199 134 171\" stroke=\"black\" stroke-width=\"0.5\"/><path d=\"M 212 199 242 166\" stroke=\"black\" stroke-width=\"0.5\"/><path d=\"M 212 199 153 170\" stroke=\"black\" stroke-width=\"0.5\"/><path d=\"M 212 199 134 187\" stroke=\"black\" stroke-width=\"0.5\"/><path d=\"M 212 199 150 206\" stroke=\"black\" stroke-width=\"0.5\"/><path d=\"M 212 199 142 163\" stroke=\"black\" stroke-width=\"0.5\"/><path d=\"M 212 199 141 152\" stroke=\"black\" stroke-width=\"0.5\"/><path d=\"M 212 199 236 183\" stroke=\"black\" stroke-width=\"0.5\"/><path d=\"M 589 330 570 327\" stroke=\"black\" stroke-width=\"0.5\"/><path d=\"M 589 330 584 347\" stroke=\"black\" stroke-width=\"0.5\"/><path d=\"M 589 330 573 310\" stroke=\"black\" stroke-width=\"0.5\"/><path d=\"M 589 330 474 334\" stroke=\"black\" stroke-width=\"0.5\"/><path d=\"M 589 330 572 372\" stroke=\"black\" stroke-width=\"0.5\"/><path d=\"M 123 216 162 173\" stroke=\"black\" stroke-width=\"0.5\"/><path d=\"M 123 216 217 129\" stroke=\"black\" stroke-width=\"0.5\"/><path d=\"M 123 216 158 225\" stroke=\"black\" stroke-width=\"0.5\"/><path d=\"M 108 294 134 290\" stroke=\"black\" stroke-width=\"0.5\"/><path d=\"M 108 294 115 311\" stroke=\"black\" stroke-width=\"0.5\"/><path d=\"M 108 294 137 309\" stroke=\"black\" stroke-width=\"0.5\"/><path d=\"M 108 294 150 206\" stroke=\"black\" stroke-width=\"0.5\"/><circle cx=\"162\" cy=\"474\" r=\"3.0\" style=\"fill:rgb(116, 151, 245);stroke:black;stroke-width:1.0\"/><circle cx=\"416\" cy=\"415\" r=\"3.0\" style=\"fill:rgb(109, 144, 241);stroke:black;stroke-width:1.0\"/><circle cx=\"522\" cy=\"409\" r=\"3.0\" style=\"fill:rgb(123, 158, 248);stroke:black;stroke-width:1.0\"/><circle cx=\"204\" cy=\"34\" r=\"3.0\" style=\"fill:rgb(120, 155, 247);stroke:black;stroke-width:1.0\"/><circle cx=\"505\" cy=\"343\" r=\"3.0\" style=\"fill:rgb(166, 195, 253);stroke:black;stroke-width:1.0\"/><circle cx=\"129\" cy=\"155\" r=\"3.0\" style=\"fill:rgb(159, 190, 254);stroke:black;stroke-width:1.0\"/><circle cx=\"568\" cy=\"221\" r=\"3.0\" style=\"fill:rgb(116, 151, 245);stroke:black;stroke-width:1.0\"/><circle cx=\"36\" cy=\"24\" r=\"3.0\" style=\"fill:rgb(120, 155, 247);stroke:black;stroke-width:1.0\"/><circle cx=\"529\" cy=\"190\" r=\"3.0\" style=\"fill:rgb(105, 139, 239);stroke:black;stroke-width:1.0\"/><circle cx=\"570\" cy=\"327\" r=\"3.0\" style=\"fill:rgb(103, 136, 237);stroke:black;stroke-width:1.0\"/><circle cx=\"546\" cy=\"333\" r=\"3.0\" style=\"fill:rgb(120, 155, 247);stroke:black;stroke-width:1.0\"/><circle cx=\"54\" cy=\"51\" r=\"3.0\" style=\"fill:rgb(120, 155, 247);stroke:black;stroke-width:1.0\"/><circle cx=\"167\" cy=\"395\" r=\"3.0\" style=\"fill:rgb(166, 195, 253);stroke:black;stroke-width:1.0\"/><circle cx=\"584\" cy=\"347\" r=\"3.0\" style=\"fill:rgb(103, 136, 237);stroke:black;stroke-width:1.0\"/><circle cx=\"234\" cy=\"151\" r=\"3.0\" style=\"fill:rgb(76, 102, 214);stroke:black;stroke-width:1.0\"/><circle cx=\"509\" cy=\"400\" r=\"3.0\" style=\"fill:rgb(123, 158, 248);stroke:black;stroke-width:1.0\"/><circle cx=\"514\" cy=\"423\" r=\"3.0\" style=\"fill:rgb(123, 158, 248);stroke:black;stroke-width:1.0\"/><circle cx=\"448\" cy=\"331\" r=\"3.0\" style=\"fill:rgb(105, 139, 239);stroke:black;stroke-width:1.0\"/><circle cx=\"275\" cy=\"345\" r=\"3.0\" style=\"fill:rgb(127, 162, 250);stroke:black;stroke-width:1.0\"/><circle cx=\"205\" cy=\"53\" r=\"3.0\" style=\"fill:rgb(120, 155, 247);stroke:black;stroke-width:1.0\"/><circle cx=\"134\" cy=\"290\" r=\"3.0\" style=\"fill:rgb(88, 118, 226);stroke:black;stroke-width:1.0\"/><circle cx=\"309\" cy=\"137\" r=\"3.0\" style=\"fill:rgb(103, 136, 237);stroke:black;stroke-width:1.0\"/><circle cx=\"121\" cy=\"168\" r=\"3.0\" style=\"fill:rgb(159, 190, 254);stroke:black;stroke-width:1.0\"/><circle cx=\"109\" cy=\"169\" r=\"3.0\" style=\"fill:rgb(159, 190, 254);stroke:black;stroke-width:1.0\"/><circle cx=\"698\" cy=\"284\" r=\"3.0\" style=\"fill:rgb(109, 144, 241);stroke:black;stroke-width:1.0\"/><circle cx=\"118\" cy=\"187\" r=\"3.0\" style=\"fill:rgb(159, 190, 254);stroke:black;stroke-width:1.0\"/><circle cx=\"125\" cy=\"179\" r=\"3.0\" style=\"fill:rgb(159, 190, 254);stroke:black;stroke-width:1.0\"/><circle cx=\"157\" cy=\"161\" r=\"3.0\" style=\"fill:rgb(159, 190, 254);stroke:black;stroke-width:1.0\"/><circle cx=\"717\" cy=\"289\" r=\"3.0\" style=\"fill:rgb(109, 144, 241);stroke:black;stroke-width:1.0\"/><circle cx=\"565\" cy=\"430\" r=\"3.0\" style=\"fill:rgb(138, 173, 253);stroke:black;stroke-width:1.0\"/><circle cx=\"167\" cy=\"310\" r=\"3.0\" style=\"fill:rgb(86, 115, 224);stroke:black;stroke-width:1.0\"/><circle cx=\"52\" cy=\"35\" r=\"3.0\" style=\"fill:rgb(120, 155, 247);stroke:black;stroke-width:1.0\"/><circle cx=\"440\" cy=\"346\" r=\"3.0\" style=\"fill:rgb(105, 139, 239);stroke:black;stroke-width:1.0\"/><circle cx=\"586\" cy=\"211\" r=\"3.0\" style=\"fill:rgb(116, 151, 245);stroke:black;stroke-width:1.0\"/><circle cx=\"573\" cy=\"310\" r=\"3.0\" style=\"fill:rgb(103, 136, 237);stroke:black;stroke-width:1.0\"/><circle cx=\"162\" cy=\"173\" r=\"3.0\" style=\"fill:rgb(210, 218, 231);stroke:black;stroke-width:1.0\"/><circle cx=\"612\" cy=\"318\" r=\"3.0\" style=\"fill:rgb(193, 212, 244);stroke:black;stroke-width:1.0\"/><circle cx=\"549\" cy=\"401\" r=\"3.0\" style=\"fill:rgb(112, 147, 243);stroke:black;stroke-width:1.0\"/><circle cx=\"69\" cy=\"40\" r=\"3.0\" style=\"fill:rgb(120, 155, 247);stroke:black;stroke-width:1.0\"/><circle cx=\"507\" cy=\"212\" r=\"3.0\" style=\"fill:rgb(105, 139, 239);stroke:black;stroke-width:1.0\"/><circle cx=\"118\" cy=\"158\" r=\"3.0\" style=\"fill:rgb(159, 190, 254);stroke:black;stroke-width:1.0\"/><circle cx=\"68\" cy=\"26\" r=\"3.0\" style=\"fill:rgb(120, 155, 247);stroke:black;stroke-width:1.0\"/><circle cx=\"110\" cy=\"179\" r=\"3.0\" style=\"fill:rgb(159, 190, 254);stroke:black;stroke-width:1.0\"/><circle cx=\"525\" cy=\"302\" r=\"3.0\" style=\"fill:rgb(243, 150, 120);stroke:black;stroke-width:1.0\"/><circle cx=\"328\" cy=\"140\" r=\"3.0\" style=\"fill:rgb(103, 136, 237);stroke:black;stroke-width:1.0\"/><circle cx=\"144\" cy=\"180\" r=\"3.0\" style=\"fill:rgb(159, 190, 254);stroke:black;stroke-width:1.0\"/><circle cx=\"183\" cy=\"43\" r=\"3.0\" style=\"fill:rgb(120, 155, 247);stroke:black;stroke-width:1.0\"/><circle cx=\"569\" cy=\"400\" r=\"3.0\" style=\"fill:rgb(112, 147, 243);stroke:black;stroke-width:1.0\"/><circle cx=\"175\" cy=\"490\" r=\"3.0\" style=\"fill:rgb(116, 151, 245);stroke:black;stroke-width:1.0\"/><circle cx=\"352\" cy=\"249\" r=\"3.0\" style=\"fill:rgb(72, 96, 209);stroke:black;stroke-width:1.0\"/><circle cx=\"549\" cy=\"416\" r=\"3.0\" style=\"fill:rgb(112, 147, 243);stroke:black;stroke-width:1.0\"/><circle cx=\"494\" cy=\"423\" r=\"3.0\" style=\"fill:rgb(123, 158, 248);stroke:black;stroke-width:1.0\"/><circle cx=\"288\" cy=\"364\" r=\"3.0\" style=\"fill:rgb(105, 139, 239);stroke:black;stroke-width:1.0\"/><circle cx=\"366\" cy=\"271\" r=\"3.0\" style=\"fill:rgb(127, 162, 250);stroke:black;stroke-width:1.0\"/><circle cx=\"313\" cy=\"155\" r=\"3.0\" style=\"fill:rgb(103, 136, 237);stroke:black;stroke-width:1.0\"/><circle cx=\"474\" cy=\"334\" r=\"3.0\" style=\"fill:rgb(179, 3, 38);stroke:black;stroke-width:1.0\"/><circle cx=\"720\" cy=\"305\" r=\"3.0\" style=\"fill:rgb(109, 144, 241);stroke:black;stroke-width:1.0\"/><circle cx=\"155\" cy=\"151\" r=\"3.0\" style=\"fill:rgb(172, 200, 252);stroke:black;stroke-width:1.0\"/><circle cx=\"541\" cy=\"307\" r=\"3.0\" style=\"fill:rgb(120, 155, 247);stroke:black;stroke-width:1.0\"/><circle cx=\"699\" cy=\"311\" r=\"3.0\" style=\"fill:rgb(109, 144, 241);stroke:black;stroke-width:1.0\"/><circle cx=\"21\" cy=\"34\" r=\"3.0\" style=\"fill:rgb(120, 155, 247);stroke:black;stroke-width:1.0\"/><circle cx=\"364\" cy=\"237\" r=\"3.0\" style=\"fill:rgb(72, 96, 209);stroke:black;stroke-width:1.0\"/><circle cx=\"572\" cy=\"372\" r=\"3.0\" style=\"fill:rgb(170, 198, 253);stroke:black;stroke-width:1.0\"/><circle cx=\"217\" cy=\"129\" r=\"3.0\" style=\"fill:rgb(231, 214, 204);stroke:black;stroke-width:1.0\"/><circle cx=\"165\" cy=\"325\" r=\"3.0\" style=\"fill:rgb(86, 115, 224);stroke:black;stroke-width:1.0\"/><circle cx=\"504\" cy=\"195\" r=\"3.0\" style=\"fill:rgb(105, 139, 239);stroke:black;stroke-width:1.0\"/><circle cx=\"432\" cy=\"412\" r=\"3.0\" style=\"fill:rgb(109, 144, 241);stroke:black;stroke-width:1.0\"/><circle cx=\"370\" cy=\"284\" r=\"3.0\" style=\"fill:rgb(127, 162, 250);stroke:black;stroke-width:1.0\"/><circle cx=\"115\" cy=\"311\" r=\"3.0\" style=\"fill:rgb(88, 118, 226);stroke:black;stroke-width:1.0\"/><circle cx=\"186\" cy=\"311\" r=\"3.0\" style=\"fill:rgb(86, 115, 224);stroke:black;stroke-width:1.0\"/><circle cx=\"538\" cy=\"320\" r=\"3.0\" style=\"fill:rgb(120, 155, 247);stroke:black;stroke-width:1.0\"/><circle cx=\"88\" cy=\"133\" r=\"3.0\" style=\"fill:rgb(72, 96, 209);stroke:black;stroke-width:1.0\"/><circle cx=\"52\" cy=\"20\" r=\"3.0\" style=\"fill:rgb(120, 155, 247);stroke:black;stroke-width:1.0\"/><circle cx=\"597\" cy=\"520\" r=\"3.0\" style=\"fill:rgb(58, 76, 192);stroke:black;stroke-width:1.0\"/><circle cx=\"99\" cy=\"117\" r=\"3.0\" style=\"fill:rgb(230, 215, 207);stroke:black;stroke-width:1.0\"/><circle cx=\"322\" cy=\"223\" r=\"3.0\" style=\"fill:rgb(193, 212, 244);stroke:black;stroke-width:1.0\"/><circle cx=\"550\" cy=\"364\" r=\"3.0\" style=\"fill:rgb(183, 207, 249);stroke:black;stroke-width:1.0\"/><circle cx=\"586\" cy=\"232\" r=\"3.0\" style=\"fill:rgb(116, 151, 245);stroke:black;stroke-width:1.0\"/><circle cx=\"408\" cy=\"400\" r=\"3.0\" style=\"fill:rgb(109, 144, 241);stroke:black;stroke-width:1.0\"/><circle cx=\"533\" cy=\"206\" r=\"3.0\" style=\"fill:rgb(105, 139, 239);stroke:black;stroke-width:1.0\"/><circle cx=\"312\" cy=\"315\" r=\"3.0\" style=\"fill:rgb(214, 219, 228);stroke:black;stroke-width:1.0\"/><circle cx=\"144\" cy=\"223\" r=\"3.0\" style=\"fill:rgb(208, 218, 233);stroke:black;stroke-width:1.0\"/><circle cx=\"279\" cy=\"383\" r=\"3.0\" style=\"fill:rgb(105, 139, 239);stroke:black;stroke-width:1.0\"/><circle cx=\"340\" cy=\"299\" r=\"3.0\" style=\"fill:rgb(127, 162, 250);stroke:black;stroke-width:1.0\"/><circle cx=\"134\" cy=\"171\" r=\"3.0\" style=\"fill:rgb(159, 190, 254);stroke:black;stroke-width:1.0\"/><circle cx=\"193\" cy=\"478\" r=\"3.0\" style=\"fill:rgb(116, 151, 245);stroke:black;stroke-width:1.0\"/><circle cx=\"224\" cy=\"44\" r=\"3.0\" style=\"fill:rgb(120, 155, 247);stroke:black;stroke-width:1.0\"/><circle cx=\"201\" cy=\"100\" r=\"3.0\" style=\"fill:rgb(58, 76, 192);stroke:black;stroke-width:1.0\"/><circle cx=\"445\" cy=\"374\" r=\"3.0\" style=\"fill:rgb(155, 187, 254);stroke:black;stroke-width:1.0\"/><circle cx=\"242\" cy=\"166\" r=\"3.0\" style=\"fill:rgb(76, 102, 214);stroke:black;stroke-width:1.0\"/><circle cx=\"711\" cy=\"325\" r=\"3.0\" style=\"fill:rgb(109, 144, 241);stroke:black;stroke-width:1.0\"/><circle cx=\"153\" cy=\"170\" r=\"3.0\" style=\"fill:rgb(159, 190, 254);stroke:black;stroke-width:1.0\"/><circle cx=\"191\" cy=\"498\" r=\"3.0\" style=\"fill:rgb(116, 151, 245);stroke:black;stroke-width:1.0\"/><circle cx=\"511\" cy=\"367\" r=\"3.0\" style=\"fill:rgb(76, 102, 214);stroke:black;stroke-width:1.0\"/><circle cx=\"134\" cy=\"187\" r=\"3.0\" style=\"fill:rgb(159, 190, 254);stroke:black;stroke-width:1.0\"/><circle cx=\"502\" cy=\"333\" r=\"3.0\" style=\"fill:rgb(166, 195, 253);stroke:black;stroke-width:1.0\"/><circle cx=\"492\" cy=\"396\" r=\"3.0\" style=\"fill:rgb(123, 158, 248);stroke:black;stroke-width:1.0\"/><circle cx=\"35\" cy=\"42\" r=\"3.0\" style=\"fill:rgb(120, 155, 247);stroke:black;stroke-width:1.0\"/><circle cx=\"137\" cy=\"309\" r=\"3.0\" style=\"fill:rgb(88, 118, 226);stroke:black;stroke-width:1.0\"/><circle cx=\"346\" cy=\"283\" r=\"3.0\" style=\"fill:rgb(127, 162, 250);stroke:black;stroke-width:1.0\"/><circle cx=\"150\" cy=\"206\" r=\"3.0\" style=\"fill:rgb(234, 211, 199);stroke:black;stroke-width:1.0\"/><circle cx=\"142\" cy=\"163\" r=\"3.0\" style=\"fill:rgb(159, 190, 254);stroke:black;stroke-width:1.0\"/><circle cx=\"141\" cy=\"152\" r=\"3.0\" style=\"fill:rgb(159, 190, 254);stroke:black;stroke-width:1.0\"/><circle cx=\"153\" cy=\"490\" r=\"3.0\" style=\"fill:rgb(116, 151, 245);stroke:black;stroke-width:1.0\"/><circle cx=\"433\" cy=\"371\" r=\"3.0\" style=\"fill:rgb(155, 187, 254);stroke:black;stroke-width:1.0\"/><circle cx=\"258\" cy=\"365\" r=\"3.0\" style=\"fill:rgb(127, 162, 250);stroke:black;stroke-width:1.0\"/><circle cx=\"236\" cy=\"183\" r=\"3.0\" style=\"fill:rgb(76, 102, 214);stroke:black;stroke-width:1.0\"/><circle cx=\"35\" cy=\"57\" r=\"3.0\" style=\"fill:rgb(120, 155, 247);stroke:black;stroke-width:1.0\"/><circle cx=\"482\" cy=\"411\" r=\"3.0\" style=\"fill:rgb(123, 158, 248);stroke:black;stroke-width:1.0\"/><circle cx=\"460\" cy=\"381\" r=\"3.0\" style=\"fill:rgb(138, 173, 253);stroke:black;stroke-width:1.0\"/><circle cx=\"604\" cy=\"240\" r=\"3.0\" style=\"fill:rgb(116, 151, 245);stroke:black;stroke-width:1.0\"/><circle cx=\"165\" cy=\"72\" r=\"3.0\" style=\"fill:rgb(138, 173, 253);stroke:black;stroke-width:1.0\"/><circle cx=\"20\" cy=\"50\" r=\"3.0\" style=\"fill:rgb(120, 155, 247);stroke:black;stroke-width:1.0\"/><circle cx=\"361\" cy=\"301\" r=\"3.0\" style=\"fill:rgb(127, 162, 250);stroke:black;stroke-width:1.0\"/><circle cx=\"606\" cy=\"220\" r=\"3.0\" style=\"fill:rgb(116, 151, 245);stroke:black;stroke-width:1.0\"/><circle cx=\"158\" cy=\"225\" r=\"3.0\" style=\"fill:rgb(76, 102, 214);stroke:black;stroke-width:1.0\"/><circle cx=\"256\" cy=\"327\" r=\"3.0\" style=\"fill:rgb(88, 118, 226);stroke:black;stroke-width:1.0\"/><circle cx=\"212\" cy=\"199\" r=\"3.0\" style=\"fill:rgb(222, 219, 218);stroke:black;stroke-width:1.0\"/><circle cx=\"589\" cy=\"330\" r=\"3.0\" style=\"fill:rgb(103, 136, 237);stroke:black;stroke-width:1.0\"/><circle cx=\"123\" cy=\"216\" r=\"3.0\" style=\"fill:rgb(76, 102, 214);stroke:black;stroke-width:1.0\"/><circle cx=\"108\" cy=\"294\" r=\"3.0\" style=\"fill:rgb(88, 118, 226);stroke:black;stroke-width:1.0\"/></svg>"
      ],
      "text/plain": [
       "<IPython.core.display.SVG object>"
      ]
     },
     "execution_count": 172,
     "metadata": {},
     "output_type": "execute_result"
    }
   ],
   "source": [
    "component = components[816]\n",
    "\n",
    "draw_component(G, component)"
   ]
  },
  {
   "cell_type": "code",
   "execution_count": 173,
   "id": "3aa00d3b",
   "metadata": {},
   "outputs": [
    {
     "data": {
      "text/plain": [
       "6287"
      ]
     },
     "execution_count": 173,
     "metadata": {},
     "output_type": "execute_result"
    }
   ],
   "source": [
    "components = list(nx.connected_components(G1))\n",
    "len(components)"
   ]
  },
  {
   "cell_type": "code",
   "execution_count": 174,
   "id": "6fe27bd6",
   "metadata": {},
   "outputs": [
    {
     "name": "stdout",
     "output_type": "stream",
     "text": [
      "c: 53 - len: 10\n",
      "c: 56 - len: 10\n",
      "c: 92 - len: 10\n",
      "c: 1019 - len: 10\n",
      "c: 1022 - len: 10\n",
      "c: 1389 - len: 10\n",
      "c: 1824 - len: 10\n",
      "c: 2224 - len: 10\n",
      "c: 2629 - len: 10\n",
      "c: 2686 - len: 10\n",
      "c: 2986 - len: 10\n",
      "c: 3009 - len: 10\n",
      "c: 3520 - len: 10\n",
      "c: 3940 - len: 10\n",
      "c: 4024 - len: 10\n",
      "c: 4354 - len: 10\n",
      "c: 4516 - len: 10\n",
      "c: 4544 - len: 10\n",
      "c: 4872 - len: 10\n",
      "c: 4917 - len: 10\n",
      "c: 4931 - len: 10\n",
      "c: 5829 - len: 10\n"
     ]
    }
   ],
   "source": [
    "show_component_count(components, 9)"
   ]
  },
  {
   "cell_type": "code",
   "execution_count": 179,
   "id": "62c8680c",
   "metadata": {},
   "outputs": [
    {
     "data": {
      "image/svg+xml": [
       "<svg height=\"540\" width=\"810.0\" xmlns=\"http://www.w3.org/2000/svg\"><path d=\"M 553 493 109 103\" stroke=\"gray\" stroke-width=\"0.5\"/><path d=\"M 553 493 380 270\" stroke=\"gray\" stroke-width=\"0.5\"/><path d=\"M 553 493 20 266\" stroke=\"gray\" stroke-width=\"0.5\"/><path d=\"M 553 493 324 20\" stroke=\"gray\" stroke-width=\"0.5\"/><path d=\"M 553 493 312 520\" stroke=\"gray\" stroke-width=\"0.5\"/><path d=\"M 553 493 715 362\" stroke=\"gray\" stroke-width=\"0.5\"/><path d=\"M 553 493 720 187\" stroke=\"gray\" stroke-width=\"0.5\"/><path d=\"M 553 493 563 52\" stroke=\"gray\" stroke-width=\"0.5\"/><path d=\"M 553 493 102 431\" stroke=\"gray\" stroke-width=\"0.5\"/><path d=\"M 109 103 553 493\" stroke=\"gray\" stroke-width=\"0.5\"/><path d=\"M 109 103 380 270\" stroke=\"gray\" stroke-width=\"0.5\"/><path d=\"M 109 103 20 266\" stroke=\"gray\" stroke-width=\"0.5\"/><path d=\"M 109 103 324 20\" stroke=\"gray\" stroke-width=\"0.5\"/><path d=\"M 109 103 312 520\" stroke=\"gray\" stroke-width=\"0.5\"/><path d=\"M 109 103 715 362\" stroke=\"gray\" stroke-width=\"0.5\"/><path d=\"M 109 103 720 187\" stroke=\"gray\" stroke-width=\"0.5\"/><path d=\"M 109 103 563 52\" stroke=\"gray\" stroke-width=\"0.5\"/><path d=\"M 109 103 102 431\" stroke=\"gray\" stroke-width=\"0.5\"/><path d=\"M 380 270 553 493\" stroke=\"gray\" stroke-width=\"0.5\"/><path d=\"M 380 270 109 103\" stroke=\"gray\" stroke-width=\"0.5\"/><path d=\"M 380 270 20 266\" stroke=\"gray\" stroke-width=\"0.5\"/><path d=\"M 380 270 324 20\" stroke=\"gray\" stroke-width=\"0.5\"/><path d=\"M 380 270 312 520\" stroke=\"gray\" stroke-width=\"0.5\"/><path d=\"M 380 270 715 362\" stroke=\"gray\" stroke-width=\"0.5\"/><path d=\"M 380 270 720 187\" stroke=\"gray\" stroke-width=\"0.5\"/><path d=\"M 380 270 563 52\" stroke=\"gray\" stroke-width=\"0.5\"/><path d=\"M 380 270 102 431\" stroke=\"gray\" stroke-width=\"0.5\"/><path d=\"M 20 266 553 493\" stroke=\"gray\" stroke-width=\"0.5\"/><path d=\"M 20 266 109 103\" stroke=\"gray\" stroke-width=\"0.5\"/><path d=\"M 20 266 380 270\" stroke=\"gray\" stroke-width=\"0.5\"/><path d=\"M 20 266 324 20\" stroke=\"gray\" stroke-width=\"0.5\"/><path d=\"M 20 266 312 520\" stroke=\"gray\" stroke-width=\"0.5\"/><path d=\"M 20 266 715 362\" stroke=\"gray\" stroke-width=\"0.5\"/><path d=\"M 20 266 720 187\" stroke=\"gray\" stroke-width=\"0.5\"/><path d=\"M 20 266 563 52\" stroke=\"gray\" stroke-width=\"0.5\"/><path d=\"M 20 266 102 431\" stroke=\"gray\" stroke-width=\"0.5\"/><path d=\"M 324 20 553 493\" stroke=\"gray\" stroke-width=\"0.5\"/><path d=\"M 324 20 109 103\" stroke=\"gray\" stroke-width=\"0.5\"/><path d=\"M 324 20 380 270\" stroke=\"gray\" stroke-width=\"0.5\"/><path d=\"M 324 20 20 266\" stroke=\"gray\" stroke-width=\"0.5\"/><path d=\"M 324 20 312 520\" stroke=\"gray\" stroke-width=\"0.5\"/><path d=\"M 324 20 715 362\" stroke=\"gray\" stroke-width=\"0.5\"/><path d=\"M 324 20 720 187\" stroke=\"gray\" stroke-width=\"0.5\"/><path d=\"M 324 20 563 52\" stroke=\"gray\" stroke-width=\"0.5\"/><path d=\"M 324 20 102 431\" stroke=\"gray\" stroke-width=\"0.5\"/><path d=\"M 312 520 553 493\" stroke=\"gray\" stroke-width=\"0.5\"/><path d=\"M 312 520 109 103\" stroke=\"gray\" stroke-width=\"0.5\"/><path d=\"M 312 520 380 270\" stroke=\"gray\" stroke-width=\"0.5\"/><path d=\"M 312 520 20 266\" stroke=\"gray\" stroke-width=\"0.5\"/><path d=\"M 312 520 324 20\" stroke=\"gray\" stroke-width=\"0.5\"/><path d=\"M 312 520 715 362\" stroke=\"gray\" stroke-width=\"0.5\"/><path d=\"M 312 520 720 187\" stroke=\"gray\" stroke-width=\"0.5\"/><path d=\"M 312 520 563 52\" stroke=\"gray\" stroke-width=\"0.5\"/><path d=\"M 312 520 102 431\" stroke=\"gray\" stroke-width=\"0.5\"/><path d=\"M 715 362 553 493\" stroke=\"gray\" stroke-width=\"0.5\"/><path d=\"M 715 362 109 103\" stroke=\"gray\" stroke-width=\"0.5\"/><path d=\"M 715 362 380 270\" stroke=\"gray\" stroke-width=\"0.5\"/><path d=\"M 715 362 20 266\" stroke=\"gray\" stroke-width=\"0.5\"/><path d=\"M 715 362 324 20\" stroke=\"gray\" stroke-width=\"0.5\"/><path d=\"M 715 362 312 520\" stroke=\"gray\" stroke-width=\"0.5\"/><path d=\"M 715 362 720 187\" stroke=\"gray\" stroke-width=\"0.5\"/><path d=\"M 715 362 563 52\" stroke=\"gray\" stroke-width=\"0.5\"/><path d=\"M 715 362 102 431\" stroke=\"gray\" stroke-width=\"0.5\"/><path d=\"M 720 187 553 493\" stroke=\"gray\" stroke-width=\"0.5\"/><path d=\"M 720 187 109 103\" stroke=\"gray\" stroke-width=\"0.5\"/><path d=\"M 720 187 380 270\" stroke=\"gray\" stroke-width=\"0.5\"/><path d=\"M 720 187 20 266\" stroke=\"gray\" stroke-width=\"0.5\"/><path d=\"M 720 187 324 20\" stroke=\"gray\" stroke-width=\"0.5\"/><path d=\"M 720 187 312 520\" stroke=\"gray\" stroke-width=\"0.5\"/><path d=\"M 720 187 715 362\" stroke=\"gray\" stroke-width=\"0.5\"/><path d=\"M 720 187 563 52\" stroke=\"gray\" stroke-width=\"0.5\"/><path d=\"M 720 187 102 431\" stroke=\"gray\" stroke-width=\"0.5\"/><path d=\"M 563 52 553 493\" stroke=\"gray\" stroke-width=\"0.5\"/><path d=\"M 563 52 109 103\" stroke=\"gray\" stroke-width=\"0.5\"/><path d=\"M 563 52 380 270\" stroke=\"gray\" stroke-width=\"0.5\"/><path d=\"M 563 52 20 266\" stroke=\"gray\" stroke-width=\"0.5\"/><path d=\"M 563 52 324 20\" stroke=\"gray\" stroke-width=\"0.5\"/><path d=\"M 563 52 312 520\" stroke=\"gray\" stroke-width=\"0.5\"/><path d=\"M 563 52 715 362\" stroke=\"gray\" stroke-width=\"0.5\"/><path d=\"M 563 52 720 187\" stroke=\"gray\" stroke-width=\"0.5\"/><path d=\"M 563 52 102 431\" stroke=\"gray\" stroke-width=\"0.5\"/><path d=\"M 102 431 553 493\" stroke=\"gray\" stroke-width=\"0.5\"/><path d=\"M 102 431 109 103\" stroke=\"gray\" stroke-width=\"0.5\"/><path d=\"M 102 431 380 270\" stroke=\"gray\" stroke-width=\"0.5\"/><path d=\"M 102 431 20 266\" stroke=\"gray\" stroke-width=\"0.5\"/><path d=\"M 102 431 324 20\" stroke=\"gray\" stroke-width=\"0.5\"/><path d=\"M 102 431 312 520\" stroke=\"gray\" stroke-width=\"0.5\"/><path d=\"M 102 431 715 362\" stroke=\"gray\" stroke-width=\"0.5\"/><path d=\"M 102 431 720 187\" stroke=\"gray\" stroke-width=\"0.5\"/><path d=\"M 102 431 563 52\" stroke=\"gray\" stroke-width=\"0.5\"/><circle cx=\"553\" cy=\"493\" r=\"3.0\" style=\"fill:rgb(219, 220, 222);stroke:black;stroke-width:1.0\"/><circle cx=\"109\" cy=\"103\" r=\"3.0\" style=\"fill:rgb(219, 220, 222);stroke:black;stroke-width:1.0\"/><circle cx=\"380\" cy=\"270\" r=\"3.0\" style=\"fill:rgb(219, 220, 222);stroke:black;stroke-width:1.0\"/><circle cx=\"20\" cy=\"266\" r=\"3.0\" style=\"fill:rgb(219, 220, 222);stroke:black;stroke-width:1.0\"/><circle cx=\"324\" cy=\"20\" r=\"3.0\" style=\"fill:rgb(219, 220, 222);stroke:black;stroke-width:1.0\"/><circle cx=\"312\" cy=\"520\" r=\"3.0\" style=\"fill:rgb(219, 220, 222);stroke:black;stroke-width:1.0\"/><circle cx=\"715\" cy=\"362\" r=\"3.0\" style=\"fill:rgb(219, 220, 222);stroke:black;stroke-width:1.0\"/><circle cx=\"720\" cy=\"187\" r=\"3.0\" style=\"fill:rgb(219, 220, 222);stroke:black;stroke-width:1.0\"/><circle cx=\"563\" cy=\"52\" r=\"3.0\" style=\"fill:rgb(219, 220, 222);stroke:black;stroke-width:1.0\"/><circle cx=\"102\" cy=\"431\" r=\"3.0\" style=\"fill:rgb(219, 220, 222);stroke:black;stroke-width:1.0\"/><text font-size=\"10\" x=\"559\" y=\"496\">Jingzhou He</text><text font-size=\"10\" x=\"115\" y=\"106\">Hua Chai</text><text font-size=\"10\" x=\"386\" y=\"273\">Xiaomin Fang</text><text font-size=\"10\" x=\"26\" y=\"269\">Xiaonan Zhang</text><text font-size=\"10\" x=\"330\" y=\"23\">Liang Zheng</text><text font-size=\"10\" x=\"318\" y=\"523\">Lihang Liu</text><text font-size=\"10\" x=\"721\" y=\"365\">Donglong He</text><text font-size=\"10\" x=\"726\" y=\"190\">Xianbin Ye</text><text font-size=\"10\" x=\"569\" y=\"55\">Shanzhuo Zhang</text><text font-size=\"10\" x=\"108\" y=\"434\">Fan Wang</text></svg>"
      ],
      "text/plain": [
       "<IPython.core.display.SVG object>"
      ]
     },
     "execution_count": 179,
     "metadata": {},
     "output_type": "execute_result"
    }
   ],
   "source": [
    "component = components[53]\n",
    "\n",
    "draw_component(G1, component, show_names=True)"
   ]
  },
  {
   "cell_type": "code",
   "execution_count": 180,
   "id": "6409c13b",
   "metadata": {},
   "outputs": [
    {
     "data": {
      "image/svg+xml": [
       "<svg height=\"540\" width=\"855.0\" xmlns=\"http://www.w3.org/2000/svg\"><path d=\"M 566 65 407 520\" stroke=\"gray\" stroke-width=\"0.5\"/><path d=\"M 566 65 720 225\" stroke=\"gray\" stroke-width=\"0.5\"/><path d=\"M 566 65 173 476\" stroke=\"gray\" stroke-width=\"0.5\"/><path d=\"M 566 65 20 317\" stroke=\"gray\" stroke-width=\"0.5\"/><path d=\"M 566 65 253 250\" stroke=\"gray\" stroke-width=\"0.5\"/><path d=\"M 566 65 641 439\" stroke=\"gray\" stroke-width=\"0.5\"/><path d=\"M 566 65 488 288\" stroke=\"gray\" stroke-width=\"0.5\"/><path d=\"M 566 65 97 100\" stroke=\"gray\" stroke-width=\"0.5\"/><path d=\"M 566 65 333 20\" stroke=\"gray\" stroke-width=\"0.5\"/><path d=\"M 407 520 566 65\" stroke=\"gray\" stroke-width=\"0.5\"/><path d=\"M 407 520 720 225\" stroke=\"gray\" stroke-width=\"0.5\"/><path d=\"M 407 520 173 476\" stroke=\"gray\" stroke-width=\"0.5\"/><path d=\"M 407 520 20 317\" stroke=\"gray\" stroke-width=\"0.5\"/><path d=\"M 407 520 253 250\" stroke=\"gray\" stroke-width=\"0.5\"/><path d=\"M 407 520 641 439\" stroke=\"gray\" stroke-width=\"0.5\"/><path d=\"M 407 520 488 288\" stroke=\"gray\" stroke-width=\"0.5\"/><path d=\"M 407 520 97 100\" stroke=\"gray\" stroke-width=\"0.5\"/><path d=\"M 407 520 333 20\" stroke=\"gray\" stroke-width=\"0.5\"/><path d=\"M 720 225 566 65\" stroke=\"gray\" stroke-width=\"0.5\"/><path d=\"M 720 225 407 520\" stroke=\"gray\" stroke-width=\"0.5\"/><path d=\"M 720 225 173 476\" stroke=\"gray\" stroke-width=\"0.5\"/><path d=\"M 720 225 20 317\" stroke=\"gray\" stroke-width=\"0.5\"/><path d=\"M 720 225 253 250\" stroke=\"gray\" stroke-width=\"0.5\"/><path d=\"M 720 225 641 439\" stroke=\"gray\" stroke-width=\"0.5\"/><path d=\"M 720 225 488 288\" stroke=\"gray\" stroke-width=\"0.5\"/><path d=\"M 720 225 97 100\" stroke=\"gray\" stroke-width=\"0.5\"/><path d=\"M 720 225 333 20\" stroke=\"gray\" stroke-width=\"0.5\"/><path d=\"M 173 476 566 65\" stroke=\"gray\" stroke-width=\"0.5\"/><path d=\"M 173 476 407 520\" stroke=\"gray\" stroke-width=\"0.5\"/><path d=\"M 173 476 720 225\" stroke=\"gray\" stroke-width=\"0.5\"/><path d=\"M 173 476 20 317\" stroke=\"gray\" stroke-width=\"0.5\"/><path d=\"M 173 476 253 250\" stroke=\"gray\" stroke-width=\"0.5\"/><path d=\"M 173 476 641 439\" stroke=\"gray\" stroke-width=\"0.5\"/><path d=\"M 173 476 488 288\" stroke=\"gray\" stroke-width=\"0.5\"/><path d=\"M 173 476 97 100\" stroke=\"gray\" stroke-width=\"0.5\"/><path d=\"M 173 476 333 20\" stroke=\"gray\" stroke-width=\"0.5\"/><path d=\"M 20 317 566 65\" stroke=\"gray\" stroke-width=\"0.5\"/><path d=\"M 20 317 407 520\" stroke=\"gray\" stroke-width=\"0.5\"/><path d=\"M 20 317 720 225\" stroke=\"gray\" stroke-width=\"0.5\"/><path d=\"M 20 317 173 476\" stroke=\"gray\" stroke-width=\"0.5\"/><path d=\"M 20 317 253 250\" stroke=\"gray\" stroke-width=\"0.5\"/><path d=\"M 20 317 641 439\" stroke=\"gray\" stroke-width=\"0.5\"/><path d=\"M 20 317 488 288\" stroke=\"gray\" stroke-width=\"0.5\"/><path d=\"M 20 317 97 100\" stroke=\"gray\" stroke-width=\"0.5\"/><path d=\"M 20 317 333 20\" stroke=\"gray\" stroke-width=\"0.5\"/><path d=\"M 253 250 566 65\" stroke=\"gray\" stroke-width=\"0.5\"/><path d=\"M 253 250 407 520\" stroke=\"gray\" stroke-width=\"0.5\"/><path d=\"M 253 250 720 225\" stroke=\"gray\" stroke-width=\"0.5\"/><path d=\"M 253 250 173 476\" stroke=\"gray\" stroke-width=\"0.5\"/><path d=\"M 253 250 20 317\" stroke=\"gray\" stroke-width=\"0.5\"/><path d=\"M 253 250 641 439\" stroke=\"gray\" stroke-width=\"0.5\"/><path d=\"M 253 250 488 288\" stroke=\"gray\" stroke-width=\"0.5\"/><path d=\"M 253 250 97 100\" stroke=\"gray\" stroke-width=\"0.5\"/><path d=\"M 253 250 333 20\" stroke=\"gray\" stroke-width=\"0.5\"/><path d=\"M 641 439 566 65\" stroke=\"gray\" stroke-width=\"0.5\"/><path d=\"M 641 439 407 520\" stroke=\"gray\" stroke-width=\"0.5\"/><path d=\"M 641 439 720 225\" stroke=\"gray\" stroke-width=\"0.5\"/><path d=\"M 641 439 173 476\" stroke=\"gray\" stroke-width=\"0.5\"/><path d=\"M 641 439 20 317\" stroke=\"gray\" stroke-width=\"0.5\"/><path d=\"M 641 439 253 250\" stroke=\"gray\" stroke-width=\"0.5\"/><path d=\"M 641 439 488 288\" stroke=\"gray\" stroke-width=\"0.5\"/><path d=\"M 641 439 97 100\" stroke=\"gray\" stroke-width=\"0.5\"/><path d=\"M 641 439 333 20\" stroke=\"gray\" stroke-width=\"0.5\"/><path d=\"M 488 288 566 65\" stroke=\"gray\" stroke-width=\"0.5\"/><path d=\"M 488 288 407 520\" stroke=\"gray\" stroke-width=\"0.5\"/><path d=\"M 488 288 720 225\" stroke=\"gray\" stroke-width=\"0.5\"/><path d=\"M 488 288 173 476\" stroke=\"gray\" stroke-width=\"0.5\"/><path d=\"M 488 288 20 317\" stroke=\"gray\" stroke-width=\"0.5\"/><path d=\"M 488 288 253 250\" stroke=\"gray\" stroke-width=\"0.5\"/><path d=\"M 488 288 641 439\" stroke=\"gray\" stroke-width=\"0.5\"/><path d=\"M 488 288 97 100\" stroke=\"gray\" stroke-width=\"0.5\"/><path d=\"M 488 288 333 20\" stroke=\"gray\" stroke-width=\"0.5\"/><path d=\"M 97 100 566 65\" stroke=\"gray\" stroke-width=\"0.5\"/><path d=\"M 97 100 407 520\" stroke=\"gray\" stroke-width=\"0.5\"/><path d=\"M 97 100 720 225\" stroke=\"gray\" stroke-width=\"0.5\"/><path d=\"M 97 100 173 476\" stroke=\"gray\" stroke-width=\"0.5\"/><path d=\"M 97 100 20 317\" stroke=\"gray\" stroke-width=\"0.5\"/><path d=\"M 97 100 253 250\" stroke=\"gray\" stroke-width=\"0.5\"/><path d=\"M 97 100 641 439\" stroke=\"gray\" stroke-width=\"0.5\"/><path d=\"M 97 100 488 288\" stroke=\"gray\" stroke-width=\"0.5\"/><path d=\"M 97 100 333 20\" stroke=\"gray\" stroke-width=\"0.5\"/><path d=\"M 333 20 566 65\" stroke=\"gray\" stroke-width=\"0.5\"/><path d=\"M 333 20 407 520\" stroke=\"gray\" stroke-width=\"0.5\"/><path d=\"M 333 20 720 225\" stroke=\"gray\" stroke-width=\"0.5\"/><path d=\"M 333 20 173 476\" stroke=\"gray\" stroke-width=\"0.5\"/><path d=\"M 333 20 20 317\" stroke=\"gray\" stroke-width=\"0.5\"/><path d=\"M 333 20 253 250\" stroke=\"gray\" stroke-width=\"0.5\"/><path d=\"M 333 20 641 439\" stroke=\"gray\" stroke-width=\"0.5\"/><path d=\"M 333 20 488 288\" stroke=\"gray\" stroke-width=\"0.5\"/><path d=\"M 333 20 97 100\" stroke=\"gray\" stroke-width=\"0.5\"/><circle cx=\"566\" cy=\"65\" r=\"3.0\" style=\"fill:rgb(219, 220, 222);stroke:black;stroke-width:1.0\"/><circle cx=\"407\" cy=\"520\" r=\"3.0\" style=\"fill:rgb(219, 220, 222);stroke:black;stroke-width:1.0\"/><circle cx=\"720\" cy=\"225\" r=\"3.0\" style=\"fill:rgb(219, 220, 222);stroke:black;stroke-width:1.0\"/><circle cx=\"173\" cy=\"476\" r=\"3.0\" style=\"fill:rgb(219, 220, 222);stroke:black;stroke-width:1.0\"/><circle cx=\"20\" cy=\"317\" r=\"3.0\" style=\"fill:rgb(219, 220, 222);stroke:black;stroke-width:1.0\"/><circle cx=\"253\" cy=\"250\" r=\"3.0\" style=\"fill:rgb(219, 220, 222);stroke:black;stroke-width:1.0\"/><circle cx=\"641\" cy=\"439\" r=\"3.0\" style=\"fill:rgb(219, 220, 222);stroke:black;stroke-width:1.0\"/><circle cx=\"488\" cy=\"288\" r=\"3.0\" style=\"fill:rgb(219, 220, 222);stroke:black;stroke-width:1.0\"/><circle cx=\"97\" cy=\"100\" r=\"3.0\" style=\"fill:rgb(219, 220, 222);stroke:black;stroke-width:1.0\"/><circle cx=\"333\" cy=\"20\" r=\"3.0\" style=\"fill:rgb(219, 220, 222);stroke:black;stroke-width:1.0\"/><text font-size=\"10\" x=\"572\" y=\"68\">Amaury Habrard</text><text font-size=\"10\" x=\"413\" y=\"523\">Marc Sebban</text><text font-size=\"10\" x=\"726\" y=\"228\">Eduardo Brandao</text><text font-size=\"10\" x=\"179\" y=\"479\">Florence Garrelie</text><text font-size=\"10\" x=\"26\" y=\"320\">François Jacquenet</text><text font-size=\"10\" x=\"259\" y=\"253\">Stefan Duffner</text><text font-size=\"10\" x=\"647\" y=\"442\">Jean-Philippe Colombier</text><text font-size=\"10\" x=\"494\" y=\"291\">Anthony Nakhoul</text><text font-size=\"10\" x=\"103\" y=\"103\">Rémi Emonet</text><text font-size=\"10\" x=\"339\" y=\"23\">Florent Pigeon</text></svg>"
      ],
      "text/plain": [
       "<IPython.core.display.SVG object>"
      ]
     },
     "execution_count": 180,
     "metadata": {},
     "output_type": "execute_result"
    }
   ],
   "source": [
    "component = components[56]\n",
    "\n",
    "draw_component(G1, component, show_names=True)"
   ]
  },
  {
   "cell_type": "code",
   "execution_count": 181,
   "id": "98454455",
   "metadata": {},
   "outputs": [
    {
     "data": {
      "image/svg+xml": [
       "<svg height=\"540\" width=\"900.0\" xmlns=\"http://www.w3.org/2000/svg\"><path d=\"M 720 254 129 85\" stroke=\"gray\" stroke-width=\"0.5\"/><path d=\"M 720 254 588 75\" stroke=\"gray\" stroke-width=\"0.5\"/><path d=\"M 720 254 20 284\" stroke=\"gray\" stroke-width=\"0.5\"/><path d=\"M 720 254 379 520\" stroke=\"gray\" stroke-width=\"0.5\"/><path d=\"M 720 254 485 281\" stroke=\"gray\" stroke-width=\"0.5\"/><path d=\"M 720 254 362 20\" stroke=\"gray\" stroke-width=\"0.5\"/><path d=\"M 720 254 253 259\" stroke=\"gray\" stroke-width=\"0.5\"/><path d=\"M 720 254 612 456\" stroke=\"gray\" stroke-width=\"0.5\"/><path d=\"M 720 254 152 462\" stroke=\"gray\" stroke-width=\"0.5\"/><path d=\"M 129 85 720 254\" stroke=\"gray\" stroke-width=\"0.5\"/><path d=\"M 129 85 588 75\" stroke=\"gray\" stroke-width=\"0.5\"/><path d=\"M 129 85 20 284\" stroke=\"gray\" stroke-width=\"0.5\"/><path d=\"M 129 85 379 520\" stroke=\"gray\" stroke-width=\"0.5\"/><path d=\"M 129 85 485 281\" stroke=\"gray\" stroke-width=\"0.5\"/><path d=\"M 129 85 362 20\" stroke=\"gray\" stroke-width=\"0.5\"/><path d=\"M 129 85 253 259\" stroke=\"gray\" stroke-width=\"0.5\"/><path d=\"M 129 85 612 456\" stroke=\"gray\" stroke-width=\"0.5\"/><path d=\"M 129 85 152 462\" stroke=\"gray\" stroke-width=\"0.5\"/><path d=\"M 588 75 720 254\" stroke=\"gray\" stroke-width=\"0.5\"/><path d=\"M 588 75 129 85\" stroke=\"gray\" stroke-width=\"0.5\"/><path d=\"M 588 75 20 284\" stroke=\"gray\" stroke-width=\"0.5\"/><path d=\"M 588 75 379 520\" stroke=\"gray\" stroke-width=\"0.5\"/><path d=\"M 588 75 485 281\" stroke=\"gray\" stroke-width=\"0.5\"/><path d=\"M 588 75 362 20\" stroke=\"gray\" stroke-width=\"0.5\"/><path d=\"M 588 75 253 259\" stroke=\"gray\" stroke-width=\"0.5\"/><path d=\"M 588 75 612 456\" stroke=\"gray\" stroke-width=\"0.5\"/><path d=\"M 588 75 152 462\" stroke=\"gray\" stroke-width=\"0.5\"/><path d=\"M 20 284 720 254\" stroke=\"gray\" stroke-width=\"0.5\"/><path d=\"M 20 284 129 85\" stroke=\"gray\" stroke-width=\"0.5\"/><path d=\"M 20 284 588 75\" stroke=\"gray\" stroke-width=\"0.5\"/><path d=\"M 20 284 379 520\" stroke=\"gray\" stroke-width=\"0.5\"/><path d=\"M 20 284 485 281\" stroke=\"gray\" stroke-width=\"0.5\"/><path d=\"M 20 284 362 20\" stroke=\"gray\" stroke-width=\"0.5\"/><path d=\"M 20 284 253 259\" stroke=\"gray\" stroke-width=\"0.5\"/><path d=\"M 20 284 612 456\" stroke=\"gray\" stroke-width=\"0.5\"/><path d=\"M 20 284 152 462\" stroke=\"gray\" stroke-width=\"0.5\"/><path d=\"M 379 520 720 254\" stroke=\"gray\" stroke-width=\"0.5\"/><path d=\"M 379 520 129 85\" stroke=\"gray\" stroke-width=\"0.5\"/><path d=\"M 379 520 588 75\" stroke=\"gray\" stroke-width=\"0.5\"/><path d=\"M 379 520 20 284\" stroke=\"gray\" stroke-width=\"0.5\"/><path d=\"M 379 520 485 281\" stroke=\"gray\" stroke-width=\"0.5\"/><path d=\"M 379 520 362 20\" stroke=\"gray\" stroke-width=\"0.5\"/><path d=\"M 379 520 253 259\" stroke=\"gray\" stroke-width=\"0.5\"/><path d=\"M 379 520 612 456\" stroke=\"gray\" stroke-width=\"0.5\"/><path d=\"M 379 520 152 462\" stroke=\"gray\" stroke-width=\"0.5\"/><path d=\"M 485 281 720 254\" stroke=\"gray\" stroke-width=\"0.5\"/><path d=\"M 485 281 129 85\" stroke=\"gray\" stroke-width=\"0.5\"/><path d=\"M 485 281 588 75\" stroke=\"gray\" stroke-width=\"0.5\"/><path d=\"M 485 281 20 284\" stroke=\"gray\" stroke-width=\"0.5\"/><path d=\"M 485 281 379 520\" stroke=\"gray\" stroke-width=\"0.5\"/><path d=\"M 485 281 362 20\" stroke=\"gray\" stroke-width=\"0.5\"/><path d=\"M 485 281 253 259\" stroke=\"gray\" stroke-width=\"0.5\"/><path d=\"M 485 281 612 456\" stroke=\"gray\" stroke-width=\"0.5\"/><path d=\"M 485 281 152 462\" stroke=\"gray\" stroke-width=\"0.5\"/><path d=\"M 362 20 720 254\" stroke=\"gray\" stroke-width=\"0.5\"/><path d=\"M 362 20 129 85\" stroke=\"gray\" stroke-width=\"0.5\"/><path d=\"M 362 20 588 75\" stroke=\"gray\" stroke-width=\"0.5\"/><path d=\"M 362 20 20 284\" stroke=\"gray\" stroke-width=\"0.5\"/><path d=\"M 362 20 379 520\" stroke=\"gray\" stroke-width=\"0.5\"/><path d=\"M 362 20 485 281\" stroke=\"gray\" stroke-width=\"0.5\"/><path d=\"M 362 20 253 259\" stroke=\"gray\" stroke-width=\"0.5\"/><path d=\"M 362 20 612 456\" stroke=\"gray\" stroke-width=\"0.5\"/><path d=\"M 362 20 152 462\" stroke=\"gray\" stroke-width=\"0.5\"/><path d=\"M 253 259 720 254\" stroke=\"gray\" stroke-width=\"0.5\"/><path d=\"M 253 259 129 85\" stroke=\"gray\" stroke-width=\"0.5\"/><path d=\"M 253 259 588 75\" stroke=\"gray\" stroke-width=\"0.5\"/><path d=\"M 253 259 20 284\" stroke=\"gray\" stroke-width=\"0.5\"/><path d=\"M 253 259 379 520\" stroke=\"gray\" stroke-width=\"0.5\"/><path d=\"M 253 259 485 281\" stroke=\"gray\" stroke-width=\"0.5\"/><path d=\"M 253 259 362 20\" stroke=\"gray\" stroke-width=\"0.5\"/><path d=\"M 253 259 612 456\" stroke=\"gray\" stroke-width=\"0.5\"/><path d=\"M 253 259 152 462\" stroke=\"gray\" stroke-width=\"0.5\"/><path d=\"M 612 456 720 254\" stroke=\"gray\" stroke-width=\"0.5\"/><path d=\"M 612 456 129 85\" stroke=\"gray\" stroke-width=\"0.5\"/><path d=\"M 612 456 588 75\" stroke=\"gray\" stroke-width=\"0.5\"/><path d=\"M 612 456 20 284\" stroke=\"gray\" stroke-width=\"0.5\"/><path d=\"M 612 456 379 520\" stroke=\"gray\" stroke-width=\"0.5\"/><path d=\"M 612 456 485 281\" stroke=\"gray\" stroke-width=\"0.5\"/><path d=\"M 612 456 362 20\" stroke=\"gray\" stroke-width=\"0.5\"/><path d=\"M 612 456 253 259\" stroke=\"gray\" stroke-width=\"0.5\"/><path d=\"M 612 456 152 462\" stroke=\"gray\" stroke-width=\"0.5\"/><path d=\"M 152 462 720 254\" stroke=\"gray\" stroke-width=\"0.5\"/><path d=\"M 152 462 129 85\" stroke=\"gray\" stroke-width=\"0.5\"/><path d=\"M 152 462 588 75\" stroke=\"gray\" stroke-width=\"0.5\"/><path d=\"M 152 462 20 284\" stroke=\"gray\" stroke-width=\"0.5\"/><path d=\"M 152 462 379 520\" stroke=\"gray\" stroke-width=\"0.5\"/><path d=\"M 152 462 485 281\" stroke=\"gray\" stroke-width=\"0.5\"/><path d=\"M 152 462 362 20\" stroke=\"gray\" stroke-width=\"0.5\"/><path d=\"M 152 462 253 259\" stroke=\"gray\" stroke-width=\"0.5\"/><path d=\"M 152 462 612 456\" stroke=\"gray\" stroke-width=\"0.5\"/><circle cx=\"720\" cy=\"254\" r=\"3.0\" style=\"fill:rgb(219, 220, 222);stroke:black;stroke-width:1.0\"/><circle cx=\"129\" cy=\"85\" r=\"3.0\" style=\"fill:rgb(219, 220, 222);stroke:black;stroke-width:1.0\"/><circle cx=\"588\" cy=\"75\" r=\"3.0\" style=\"fill:rgb(219, 220, 222);stroke:black;stroke-width:1.0\"/><circle cx=\"20\" cy=\"284\" r=\"3.0\" style=\"fill:rgb(219, 220, 222);stroke:black;stroke-width:1.0\"/><circle cx=\"379\" cy=\"520\" r=\"3.0\" style=\"fill:rgb(219, 220, 222);stroke:black;stroke-width:1.0\"/><circle cx=\"485\" cy=\"281\" r=\"3.0\" style=\"fill:rgb(219, 220, 222);stroke:black;stroke-width:1.0\"/><circle cx=\"362\" cy=\"20\" r=\"3.0\" style=\"fill:rgb(219, 220, 222);stroke:black;stroke-width:1.0\"/><circle cx=\"253\" cy=\"259\" r=\"3.0\" style=\"fill:rgb(219, 220, 222);stroke:black;stroke-width:1.0\"/><circle cx=\"612\" cy=\"456\" r=\"3.0\" style=\"fill:rgb(219, 220, 222);stroke:black;stroke-width:1.0\"/><circle cx=\"152\" cy=\"462\" r=\"3.0\" style=\"fill:rgb(219, 220, 222);stroke:black;stroke-width:1.0\"/><text font-size=\"10\" x=\"726\" y=\"257\">Wilmer Contreras Sepúlveda</text><text font-size=\"10\" x=\"135\" y=\"88\">Ángel David Torres-Palencia</text><text font-size=\"10\" x=\"594\" y=\"78\">Néstor Lozano-Crisóstomo</text><text font-size=\"10\" x=\"26\" y=\"287\">Braulio Misael Villegas-Martínez</text><text font-size=\"10\" x=\"385\" y=\"523\">Eddie Nelson Palacios- Pérez</text><text font-size=\"10\" x=\"491\" y=\"284\">Omar PalilleroSandoval</text><text font-size=\"10\" x=\"368\" y=\"23\">José Javier Sánchez Mondragón</text><text font-size=\"10\" x=\"259\" y=\"262\">J. Jesús Escobedo-Alatorre</text><text font-size=\"10\" x=\"618\" y=\"459\">Julio César García-Melgarejo</text><text font-size=\"10\" x=\"158\" y=\"465\">Juan Carlos Sánchez Pérez</text></svg>"
      ],
      "text/plain": [
       "<IPython.core.display.SVG object>"
      ]
     },
     "execution_count": 181,
     "metadata": {},
     "output_type": "execute_result"
    }
   ],
   "source": [
    "component = components[92]\n",
    "\n",
    "draw_component(G1, component, show_names=True)"
   ]
  },
  {
   "cell_type": "code",
   "execution_count": 132,
   "id": "01daea57",
   "metadata": {},
   "outputs": [
    {
     "name": "stdout",
     "output_type": "stream",
     "text": [
      "Graph with 65260 nodes and 306509 edges\n"
     ]
    }
   ],
   "source": [
    "print(nx.info(G))"
   ]
  },
  {
   "cell_type": "code",
   "execution_count": 133,
   "id": "a39fd9b1",
   "metadata": {},
   "outputs": [
    {
     "name": "stdout",
     "output_type": "stream",
     "text": [
      "Graph with 24861 nodes and 41899 edges\n"
     ]
    }
   ],
   "source": [
    "print(nx.info(G1))"
   ]
  },
  {
   "cell_type": "code",
   "execution_count": 130,
   "id": "91e5f845",
   "metadata": {},
   "outputs": [
    {
     "data": {
      "text/plain": [
       "0.00014394140677587773"
      ]
     },
     "execution_count": 130,
     "metadata": {},
     "output_type": "execute_result"
    }
   ],
   "source": [
    "nx.density(G) # very sparse"
   ]
  },
  {
   "cell_type": "code",
   "execution_count": 131,
   "id": "32bc4a2d",
   "metadata": {},
   "outputs": [
    {
     "data": {
      "text/plain": [
       "0.0001355857149823817"
      ]
     },
     "execution_count": 131,
     "metadata": {},
     "output_type": "execute_result"
    }
   ],
   "source": [
    "nx.density(G1) # very sparse"
   ]
  },
  {
   "cell_type": "code",
   "execution_count": 140,
   "id": "41402435",
   "metadata": {},
   "outputs": [
    {
     "data": {
      "text/html": [
       "<div>\n",
       "<style scoped>\n",
       "    .dataframe tbody tr th:only-of-type {\n",
       "        vertical-align: middle;\n",
       "    }\n",
       "\n",
       "    .dataframe tbody tr th {\n",
       "        vertical-align: top;\n",
       "    }\n",
       "\n",
       "    .dataframe thead th {\n",
       "        text-align: right;\n",
       "    }\n",
       "</style>\n",
       "<table border=\"1\" class=\"dataframe\">\n",
       "  <thead>\n",
       "    <tr style=\"text-align: right;\">\n",
       "      <th></th>\n",
       "      <th>node</th>\n",
       "      <th>degrees</th>\n",
       "    </tr>\n",
       "  </thead>\n",
       "  <tbody>\n",
       "    <tr>\n",
       "      <th>0</th>\n",
       "      <td>Dustin Nguyen</td>\n",
       "      <td>4</td>\n",
       "    </tr>\n",
       "    <tr>\n",
       "      <th>1</th>\n",
       "      <td>Yuan-Sen Ting</td>\n",
       "      <td>37</td>\n",
       "    </tr>\n",
       "    <tr>\n",
       "      <th>2</th>\n",
       "      <td>Todd A. Thompson</td>\n",
       "      <td>4</td>\n",
       "    </tr>\n",
       "    <tr>\n",
       "      <th>3</th>\n",
       "      <td>Sebastian Lopez</td>\n",
       "      <td>4</td>\n",
       "    </tr>\n",
       "    <tr>\n",
       "      <th>4</th>\n",
       "      <td>Laura A. Lopez</td>\n",
       "      <td>4</td>\n",
       "    </tr>\n",
       "  </tbody>\n",
       "</table>\n",
       "</div>"
      ],
      "text/plain": [
       "               node  degrees\n",
       "0     Dustin Nguyen        4\n",
       "1     Yuan-Sen Ting       37\n",
       "2  Todd A. Thompson        4\n",
       "3   Sebastian Lopez        4\n",
       "4    Laura A. Lopez        4"
      ]
     },
     "execution_count": 140,
     "metadata": {},
     "output_type": "execute_result"
    }
   ],
   "source": [
    "degree_df = pd.DataFrame(G.degree)\n",
    "degree_df.columns = ['node', 'degrees']\n",
    "\n",
    "degree_df.head()"
   ]
  },
  {
   "cell_type": "code",
   "execution_count": 141,
   "id": "44c3dda6",
   "metadata": {},
   "outputs": [
    {
     "data": {
      "text/plain": [
       "<AxesSubplot:ylabel='Frequency'>"
      ]
     },
     "execution_count": 141,
     "metadata": {},
     "output_type": "execute_result"
    },
    {
     "data": {
      "image/png": "[encoded data removed]",
      "text/plain": [
       "<Figure size 432x288 with 1 Axes>"
      ]
     },
     "metadata": {
      "needs_background": "light"
     },
     "output_type": "display_data"
    }
   ],
   "source": [
    "degree_df['degrees'].plot.hist()"
   ]
  },
  {
   "cell_type": "code",
   "execution_count": 142,
   "id": "5bb6c446",
   "metadata": {},
   "outputs": [
    {
     "data": {
      "text/html": [
       "<div>\n",
       "<style scoped>\n",
       "    .dataframe tbody tr th:only-of-type {\n",
       "        vertical-align: middle;\n",
       "    }\n",
       "\n",
       "    .dataframe tbody tr th {\n",
       "        vertical-align: top;\n",
       "    }\n",
       "\n",
       "    .dataframe thead th {\n",
       "        text-align: right;\n",
       "    }\n",
       "</style>\n",
       "<table border=\"1\" class=\"dataframe\">\n",
       "  <thead>\n",
       "    <tr style=\"text-align: right;\">\n",
       "      <th></th>\n",
       "      <th>node</th>\n",
       "      <th>degrees</th>\n",
       "    </tr>\n",
       "  </thead>\n",
       "  <tbody>\n",
       "    <tr>\n",
       "      <th>0</th>\n",
       "      <td>Patrick Schünke</td>\n",
       "      <td>3</td>\n",
       "    </tr>\n",
       "    <tr>\n",
       "      <th>1</th>\n",
       "      <td>Christoph Kolbitsch</td>\n",
       "      <td>3</td>\n",
       "    </tr>\n",
       "    <tr>\n",
       "      <th>2</th>\n",
       "      <td>Tobias Schäffter</td>\n",
       "      <td>3</td>\n",
       "    </tr>\n",
       "    <tr>\n",
       "      <th>3</th>\n",
       "      <td>Stefanie Remmele</td>\n",
       "      <td>3</td>\n",
       "    </tr>\n",
       "    <tr>\n",
       "      <th>4</th>\n",
       "      <td>Purvik Patel</td>\n",
       "      <td>2</td>\n",
       "    </tr>\n",
       "  </tbody>\n",
       "</table>\n",
       "</div>"
      ],
      "text/plain": [
       "                  node  degrees\n",
       "0      Patrick Schünke        3\n",
       "1  Christoph Kolbitsch        3\n",
       "2     Tobias Schäffter        3\n",
       "3     Stefanie Remmele        3\n",
       "4         Purvik Patel        2"
      ]
     },
     "execution_count": 142,
     "metadata": {},
     "output_type": "execute_result"
    }
   ],
   "source": [
    "degree_df = pd.DataFrame(G1.degree)\n",
    "degree_df.columns = ['node', 'degrees']\n",
    "\n",
    "degree_df.head()"
   ]
  },
  {
   "cell_type": "code",
   "execution_count": 143,
   "id": "e1d117f0",
   "metadata": {},
   "outputs": [
    {
     "data": {
      "text/plain": [
       "<AxesSubplot:ylabel='Frequency'>"
      ]
     },
     "execution_count": 143,
     "metadata": {},
     "output_type": "execute_result"
    },
    {
     "data": {
      "image/png": "[encoded data removed]",
      "text/plain": [
       "<Figure size 432x288 with 1 Axes>"
      ]
     },
     "metadata": {
      "needs_background": "light"
     },
     "output_type": "display_data"
    }
   ],
   "source": [
    "degree_df['degrees'].plot.hist()"
   ]
  },
  {
   "cell_type": "code",
   "execution_count": 144,
   "id": "78f1f913",
   "metadata": {},
   "outputs": [],
   "source": [
    "nodes = [len(G.nodes), len(G1.nodes)]\n",
    "edges = [len(G.edges), len(G1.edges)]"
   ]
  },
  {
   "cell_type": "code",
   "execution_count": 162,
   "id": "7a494a14",
   "metadata": {},
   "outputs": [
    {
     "data": {
      "text/plain": [
       "<AxesSubplot:>"
      ]
     },
     "execution_count": 162,
     "metadata": {},
     "output_type": "execute_result"
    },
    {
     "data": {
      "image/png": "[encoded data removed]",
      "text/plain": [
       "<Figure size 432x288 with 1 Axes>"
      ]
     },
     "metadata": {
      "needs_background": "light"
     },
     "output_type": "display_data"
    }
   ],
   "source": [
    "final_df = pd.DataFrame({'nodes':nodes, 'edges':edges})\n",
    "final_df.sort_index(ascending=True, inplace=True)\n",
    "\n",
    "final_df['nodes'].plot.bar()"
   ]
  },
  {
   "cell_type": "code",
   "execution_count": 164,
   "id": "33620645",
   "metadata": {},
   "outputs": [
    {
     "data": {
      "text/plain": [
       "<AxesSubplot:>"
      ]
     },
     "execution_count": 164,
     "metadata": {},
     "output_type": "execute_result"
    },
    {
     "data": {
      "image/png": "[encoded data removed]",
      "text/plain": [
       "<Figure size 432x288 with 1 Axes>"
      ]
     },
     "metadata": {
      "needs_background": "light"
     },
     "output_type": "display_data"
    }
   ],
   "source": [
    "final_df['edges'].plot.bar()"
   ]
  },
  {
   "cell_type": "code",
   "execution_count": 188,
   "id": "bf74a321",
   "metadata": {},
   "outputs": [
    {
     "data": {
      "text/html": [
       "<div>\n",
       "<style scoped>\n",
       "    .dataframe tbody tr th:only-of-type {\n",
       "        vertical-align: middle;\n",
       "    }\n",
       "\n",
       "    .dataframe tbody tr th {\n",
       "        vertical-align: top;\n",
       "    }\n",
       "\n",
       "    .dataframe thead th {\n",
       "        text-align: right;\n",
       "    }\n",
       "</style>\n",
       "<table border=\"1\" class=\"dataframe\">\n",
       "  <thead>\n",
       "    <tr style=\"text-align: right;\">\n",
       "      <th></th>\n",
       "      <th>nodes</th>\n",
       "      <th>edges</th>\n",
       "    </tr>\n",
       "  </thead>\n",
       "  <tbody>\n",
       "    <tr>\n",
       "      <th>0</th>\n",
       "      <td>65260</td>\n",
       "      <td>306509</td>\n",
       "    </tr>\n",
       "    <tr>\n",
       "      <th>1</th>\n",
       "      <td>24861</td>\n",
       "      <td>41899</td>\n",
       "    </tr>\n",
       "  </tbody>\n",
       "</table>\n",
       "</div>"
      ],
      "text/plain": [
       "   nodes   edges\n",
       "0  65260  306509\n",
       "1  24861   41899"
      ]
     },
     "execution_count": 188,
     "metadata": {},
     "output_type": "execute_result"
    }
   ],
   "source": [
    "final_df"
   ]
  },
  {
   "cell_type": "code",
   "execution_count": null,
   "id": "289e7cae",
   "metadata": {},
   "outputs": [],
   "source": []
  }
 ],
 "metadata": {
  "kernelspec": {
   "display_name": "Python 3",
   "language": "python",
   "name": "python3"
  },
  "language_info": {
   "codemirror_mode": {
    "name": "ipython",
    "version": 3
   },
   "file_extension": ".py",
   "mimetype": "text/x-python",
   "name": "python",
   "nbconvert_exporter": "python",
   "pygments_lexer": "ipython3",
   "version": "3.7.16"
  }
 },
 "nbformat": 4,
 "nbformat_minor": 5
}
