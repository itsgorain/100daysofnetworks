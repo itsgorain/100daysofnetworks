{
 "cells": [
  {
   "cell_type": "code",
   "execution_count": 8,
   "id": "7d18c815",
   "metadata": {},
   "outputs": [],
   "source": [
    "import networkx as nx\n",
    "import numpy as np\n",
    "import pandas as pd\n",
    "\n",
    "from IPython.display import SVG \n",
    "from sknetwork.visualization import svg_graph \n",
    "from sknetwork.data import Bunch \n",
    "from sknetwork.ranking import PageRank "
   ]
  },
  {
   "cell_type": "code",
   "execution_count": 9,
   "id": "0e8c36c4",
   "metadata": {},
   "outputs": [],
   "source": [
    "def draw_graph(G, show_names=False, node_size=1, font_size=10, edge_width=0.5): \n",
    "\n",
    "    adjacency = nx.to_scipy_sparse_matrix(G, nodelist=None, dtype=None, weight='weight', format='csr') \n",
    "\n",
    "    names = np.array(list(G.nodes())) \n",
    "\n",
    "    graph = Bunch() \n",
    "    graph.adjacency = adjacency \n",
    "    graph.names = np.array(names) \n",
    "\n",
    "    pagerank = PageRank() \n",
    "\n",
    "    scores = pagerank.fit_transform(adjacency) \n",
    "\n",
    "    if show_names: \n",
    "        \n",
    "        image = svg_graph(graph.adjacency, font_size=font_size, node_size=node_size, names=graph.names, width=700, height=500, scores=scores, edge_width=edge_width) \n",
    "\n",
    "    else: \n",
    "\n",
    "        image = svg_graph(graph.adjacency, node_size=node_size, width=700, height=500, scores = scores, edge_width=edge_width) \n",
    "\n",
    "    return SVG(image) "
   ]
  },
  {
   "cell_type": "code",
   "execution_count": 10,
   "id": "5e7e69f4",
   "metadata": {},
   "outputs": [
    {
     "data": {
      "text/html": [
       "<div>\n",
       "<style scoped>\n",
       "    .dataframe tbody tr th:only-of-type {\n",
       "        vertical-align: middle;\n",
       "    }\n",
       "\n",
       "    .dataframe tbody tr th {\n",
       "        vertical-align: top;\n",
       "    }\n",
       "\n",
       "    .dataframe thead th {\n",
       "        text-align: right;\n",
       "    }\n",
       "</style>\n",
       "<table border=\"1\" class=\"dataframe\">\n",
       "  <thead>\n",
       "    <tr style=\"text-align: right;\">\n",
       "      <th></th>\n",
       "      <th>source</th>\n",
       "      <th>target</th>\n",
       "    </tr>\n",
       "  </thead>\n",
       "  <tbody>\n",
       "    <tr>\n",
       "      <th>0</th>\n",
       "      <td>B.B. King</td>\n",
       "      <td>NEGAPHONE</td>\n",
       "    </tr>\n",
       "    <tr>\n",
       "      <th>1</th>\n",
       "      <td>B.B. King</td>\n",
       "      <td>WeeBay</td>\n",
       "    </tr>\n",
       "    <tr>\n",
       "      <th>2</th>\n",
       "      <td>B.B. King</td>\n",
       "      <td>Big Choze</td>\n",
       "    </tr>\n",
       "    <tr>\n",
       "      <th>3</th>\n",
       "      <td>B.B. King</td>\n",
       "      <td>U2</td>\n",
       "    </tr>\n",
       "    <tr>\n",
       "      <th>4</th>\n",
       "      <td>B.B. King</td>\n",
       "      <td>Lil Wayne</td>\n",
       "    </tr>\n",
       "  </tbody>\n",
       "</table>\n",
       "</div>"
      ],
      "text/plain": [
       "      source     target\n",
       "0  B.B. King  NEGAPHONE\n",
       "1  B.B. King     WeeBay\n",
       "2  B.B. King  Big Choze\n",
       "3  B.B. King         U2\n",
       "4  B.B. King  Lil Wayne"
      ]
     },
     "execution_count": 10,
     "metadata": {},
     "output_type": "execute_result"
    }
   ],
   "source": [
    "data = r'data/spotify_bbking_edgelist.csv'\n",
    "\n",
    "df = pd.read_csv(data)\n",
    "df.head()"
   ]
  },
  {
   "cell_type": "code",
   "execution_count": 11,
   "id": "5296a3e1",
   "metadata": {},
   "outputs": [],
   "source": [
    "G = nx.from_pandas_edgelist(df)\n",
    "\n",
    "# drop the seed nodes; we will have proper names from pages found\n",
    "seed_nodes = ['network science', 'social network analysis', 'graph theory', 'causal inference']\n",
    "G.remove_nodes_from(seed_nodes)"
   ]
  },
  {
   "cell_type": "code",
   "execution_count": 12,
   "id": "e7936819",
   "metadata": {},
   "outputs": [
    {
     "name": "stdout",
     "output_type": "stream",
     "text": [
      "Graph with 87 nodes and 88 edges\n"
     ]
    }
   ],
   "source": [
    "print(nx.info(G))"
   ]
  },
  {
   "cell_type": "code",
   "execution_count": 13,
   "id": "c3b2b9ba",
   "metadata": {},
   "outputs": [
    {
     "data": {
      "image/svg+xml": [
       "<svg height=\"540\" width=\"935.0\" xmlns=\"http://www.w3.org/2000/svg\"><path d=\"M 398 314 265 272\" stroke=\"gray\" stroke-width=\"0.3\"/><path d=\"M 398 314 474 326\" stroke=\"gray\" stroke-width=\"0.3\"/><path d=\"M 398 314 453 211\" stroke=\"gray\" stroke-width=\"0.3\"/><path d=\"M 398 314 534 301\" stroke=\"gray\" stroke-width=\"0.3\"/><path d=\"M 398 314 308 428\" stroke=\"gray\" stroke-width=\"0.3\"/><path d=\"M 265 272 398 314\" stroke=\"gray\" stroke-width=\"0.3\"/><path d=\"M 265 272 302 250\" stroke=\"gray\" stroke-width=\"0.3\"/><path d=\"M 265 272 288 285\" stroke=\"gray\" stroke-width=\"0.3\"/><path d=\"M 265 272 292 380\" stroke=\"gray\" stroke-width=\"0.3\"/><path d=\"M 265 272 256 317\" stroke=\"gray\" stroke-width=\"0.3\"/><path d=\"M 265 272 104 243\" stroke=\"gray\" stroke-width=\"0.3\"/><path d=\"M 265 272 282 163\" stroke=\"gray\" stroke-width=\"0.3\"/><path d=\"M 474 326 398 314\" stroke=\"gray\" stroke-width=\"0.3\"/><path d=\"M 474 326 494 390\" stroke=\"gray\" stroke-width=\"0.3\"/><path d=\"M 474 326 444 368\" stroke=\"gray\" stroke-width=\"0.3\"/><path d=\"M 474 326 307 319\" stroke=\"gray\" stroke-width=\"0.3\"/><path d=\"M 474 326 630 256\" stroke=\"gray\" stroke-width=\"0.3\"/><path d=\"M 474 326 498 301\" stroke=\"gray\" stroke-width=\"0.3\"/><path d=\"M 474 326 469 382\" stroke=\"gray\" stroke-width=\"0.3\"/><path d=\"M 474 326 522 366\" stroke=\"gray\" stroke-width=\"0.3\"/><path d=\"M 474 326 591 374\" stroke=\"gray\" stroke-width=\"0.3\"/><path d=\"M 474 326 352 272\" stroke=\"gray\" stroke-width=\"0.3\"/><path d=\"M 453 211 398 314\" stroke=\"gray\" stroke-width=\"0.3\"/><path d=\"M 453 211 483 156\" stroke=\"gray\" stroke-width=\"0.3\"/><path d=\"M 453 211 451 314\" stroke=\"gray\" stroke-width=\"0.3\"/><path d=\"M 453 211 376 80\" stroke=\"gray\" stroke-width=\"0.3\"/><path d=\"M 453 211 544 173\" stroke=\"gray\" stroke-width=\"0.3\"/><path d=\"M 453 211 502 252\" stroke=\"gray\" stroke-width=\"0.3\"/><path d=\"M 453 211 520 235\" stroke=\"gray\" stroke-width=\"0.3\"/><path d=\"M 534 301 398 314\" stroke=\"gray\" stroke-width=\"0.3\"/><path d=\"M 534 301 646 283\" stroke=\"gray\" stroke-width=\"0.3\"/><path d=\"M 308 428 398 314\" stroke=\"gray\" stroke-width=\"0.3\"/><path d=\"M 308 428 224 460\" stroke=\"gray\" stroke-width=\"0.3\"/><path d=\"M 308 428 396 488\" stroke=\"gray\" stroke-width=\"0.3\"/><path d=\"M 308 428 180 466\" stroke=\"gray\" stroke-width=\"0.3\"/><path d=\"M 483 156 453 211\" stroke=\"gray\" stroke-width=\"0.3\"/><path d=\"M 483 156 565 146\" stroke=\"gray\" stroke-width=\"0.3\"/><path d=\"M 483 156 390 132\" stroke=\"gray\" stroke-width=\"0.3\"/><path d=\"M 451 314 453 211\" stroke=\"gray\" stroke-width=\"0.3\"/><path d=\"M 451 314 444 400\" stroke=\"gray\" stroke-width=\"0.3\"/><path d=\"M 376 80 453 211\" stroke=\"gray\" stroke-width=\"0.3\"/><path d=\"M 376 80 390 132\" stroke=\"gray\" stroke-width=\"0.3\"/><path d=\"M 376 80 422 43\" stroke=\"gray\" stroke-width=\"0.3\"/><path d=\"M 376 80 400 27\" stroke=\"gray\" stroke-width=\"0.3\"/><path d=\"M 376 80 302 38\" stroke=\"gray\" stroke-width=\"0.3\"/><path d=\"M 376 80 304 65\" stroke=\"gray\" stroke-width=\"0.3\"/><path d=\"M 376 80 325 49\" stroke=\"gray\" stroke-width=\"0.3\"/><path d=\"M 376 80 353 34\" stroke=\"gray\" stroke-width=\"0.3\"/><path d=\"M 376 80 330 22\" stroke=\"gray\" stroke-width=\"0.3\"/><path d=\"M 376 80 373 20\" stroke=\"gray\" stroke-width=\"0.3\"/><path d=\"M 544 173 453 211\" stroke=\"gray\" stroke-width=\"0.3\"/><path d=\"M 544 173 609 136\" stroke=\"gray\" stroke-width=\"0.3\"/><path d=\"M 502 252 453 211\" stroke=\"gray\" stroke-width=\"0.3\"/><path d=\"M 520 235 453 211\" stroke=\"gray\" stroke-width=\"0.3\"/><path d=\"M 224 460 308 428\" stroke=\"gray\" stroke-width=\"0.3\"/><path d=\"M 224 460 152 452\" stroke=\"gray\" stroke-width=\"0.3\"/><path d=\"M 396 488 308 428\" stroke=\"gray\" stroke-width=\"0.3\"/><path d=\"M 396 488 472 520\" stroke=\"gray\" stroke-width=\"0.3\"/><path d=\"M 180 466 308 428\" stroke=\"gray\" stroke-width=\"0.3\"/><path d=\"M 180 466 96 463\" stroke=\"gray\" stroke-width=\"0.3\"/><path d=\"M 180 466 108 492\" stroke=\"gray\" stroke-width=\"0.3\"/><path d=\"M 302 250 265 272\" stroke=\"gray\" stroke-width=\"0.3\"/><path d=\"M 288 285 265 272\" stroke=\"gray\" stroke-width=\"0.3\"/><path d=\"M 288 285 219 320\" stroke=\"gray\" stroke-width=\"0.3\"/><path d=\"M 288 285 361 286\" stroke=\"gray\" stroke-width=\"0.3\"/><path d=\"M 288 285 272 236\" stroke=\"gray\" stroke-width=\"0.3\"/><path d=\"M 288 285 311 233\" stroke=\"gray\" stroke-width=\"0.3\"/><path d=\"M 288 285 354 253\" stroke=\"gray\" stroke-width=\"0.3\"/><path d=\"M 288 285 264 340\" stroke=\"gray\" stroke-width=\"0.3\"/><path d=\"M 288 285 208 274\" stroke=\"gray\" stroke-width=\"0.3\"/><path d=\"M 288 285 323 330\" stroke=\"gray\" stroke-width=\"0.3\"/><path d=\"M 292 380 265 272\" stroke=\"gray\" stroke-width=\"0.3\"/><path d=\"M 292 380 224 393\" stroke=\"gray\" stroke-width=\"0.3\"/><path d=\"M 292 380 243 419\" stroke=\"gray\" stroke-width=\"0.3\"/><path d=\"M 292 380 326 439\" stroke=\"gray\" stroke-width=\"0.3\"/><path d=\"M 292 380 273 419\" stroke=\"gray\" stroke-width=\"0.3\"/><path d=\"M 292 380 349 423\" stroke=\"gray\" stroke-width=\"0.3\"/><path d=\"M 292 380 236 366\" stroke=\"gray\" stroke-width=\"0.3\"/><path d=\"M 292 380 363 401\" stroke=\"gray\" stroke-width=\"0.3\"/><path d=\"M 292 380 346 357\" stroke=\"gray\" stroke-width=\"0.3\"/><path d=\"M 256 317 265 272\" stroke=\"gray\" stroke-width=\"0.3\"/><path d=\"M 104 243 265 272\" stroke=\"gray\" stroke-width=\"0.3\"/><path d=\"M 104 243 20 228\" stroke=\"gray\" stroke-width=\"0.3\"/><path d=\"M 104 243 21 250\" stroke=\"gray\" stroke-width=\"0.3\"/><path d=\"M 104 243 34 208\" stroke=\"gray\" stroke-width=\"0.3\"/><path d=\"M 282 163 265 272\" stroke=\"gray\" stroke-width=\"0.3\"/><path d=\"M 282 163 390 132\" stroke=\"gray\" stroke-width=\"0.3\"/><path d=\"M 282 163 262 115\" stroke=\"gray\" stroke-width=\"0.3\"/><path d=\"M 282 163 300 165\" stroke=\"gray\" stroke-width=\"0.3\"/><path d=\"M 282 163 210 153\" stroke=\"gray\" stroke-width=\"0.3\"/><path d=\"M 282 163 307 119\" stroke=\"gray\" stroke-width=\"0.3\"/><path d=\"M 282 163 337 141\" stroke=\"gray\" stroke-width=\"0.3\"/><path d=\"M 282 163 218 131\" stroke=\"gray\" stroke-width=\"0.3\"/><path d=\"M 646 283 534 301\" stroke=\"gray\" stroke-width=\"0.3\"/><path d=\"M 646 283 720 294\" stroke=\"gray\" stroke-width=\"0.3\"/><path d=\"M 646 283 686 241\" stroke=\"gray\" stroke-width=\"0.3\"/><path d=\"M 494 390 474 326\" stroke=\"gray\" stroke-width=\"0.3\"/><path d=\"M 444 368 474 326\" stroke=\"gray\" stroke-width=\"0.3\"/><path d=\"M 307 319 474 326\" stroke=\"gray\" stroke-width=\"0.3\"/><path d=\"M 307 319 240 305\" stroke=\"gray\" stroke-width=\"0.3\"/><path d=\"M 307 319 207 341\" stroke=\"gray\" stroke-width=\"0.3\"/><path d=\"M 307 319 204 294\" stroke=\"gray\" stroke-width=\"0.3\"/><path d=\"M 630 256 474 326\" stroke=\"gray\" stroke-width=\"0.3\"/><path d=\"M 630 256 713 253\" stroke=\"gray\" stroke-width=\"0.3\"/><path d=\"M 630 256 677 201\" stroke=\"gray\" stroke-width=\"0.3\"/><path d=\"M 630 256 701 213\" stroke=\"gray\" stroke-width=\"0.3\"/><path d=\"M 630 256 715 231\" stroke=\"gray\" stroke-width=\"0.3\"/><path d=\"M 498 301 474 326\" stroke=\"gray\" stroke-width=\"0.3\"/><path d=\"M 469 382 474 326\" stroke=\"gray\" stroke-width=\"0.3\"/><path d=\"M 522 366 474 326\" stroke=\"gray\" stroke-width=\"0.3\"/><path d=\"M 591 374 474 326\" stroke=\"gray\" stroke-width=\"0.3\"/><path d=\"M 591 374 646 415\" stroke=\"gray\" stroke-width=\"0.3\"/><path d=\"M 591 374 663 392\" stroke=\"gray\" stroke-width=\"0.3\"/><path d=\"M 591 374 642 371\" stroke=\"gray\" stroke-width=\"0.3\"/><path d=\"M 352 272 474 326\" stroke=\"gray\" stroke-width=\"0.3\"/><path d=\"M 352 272 256 276\" stroke=\"gray\" stroke-width=\"0.3\"/><path d=\"M 352 272 371 222\" stroke=\"gray\" stroke-width=\"0.3\"/><path d=\"M 352 272 264 232\" stroke=\"gray\" stroke-width=\"0.3\"/><path d=\"M 20 228 104 243\" stroke=\"gray\" stroke-width=\"0.3\"/><path d=\"M 21 250 104 243\" stroke=\"gray\" stroke-width=\"0.3\"/><path d=\"M 34 208 104 243\" stroke=\"gray\" stroke-width=\"0.3\"/><path d=\"M 240 305 307 319\" stroke=\"gray\" stroke-width=\"0.3\"/><path d=\"M 207 341 307 319\" stroke=\"gray\" stroke-width=\"0.3\"/><path d=\"M 204 294 307 319\" stroke=\"gray\" stroke-width=\"0.3\"/><path d=\"M 565 146 483 156\" stroke=\"gray\" stroke-width=\"0.3\"/><path d=\"M 390 132 483 156\" stroke=\"gray\" stroke-width=\"0.3\"/><path d=\"M 390 132 376 80\" stroke=\"gray\" stroke-width=\"0.3\"/><path d=\"M 390 132 282 163\" stroke=\"gray\" stroke-width=\"0.3\"/><path d=\"M 444 400 451 314\" stroke=\"gray\" stroke-width=\"0.3\"/><path d=\"M 219 320 288 285\" stroke=\"gray\" stroke-width=\"0.3\"/><path d=\"M 361 286 288 285\" stroke=\"gray\" stroke-width=\"0.3\"/><path d=\"M 272 236 288 285\" stroke=\"gray\" stroke-width=\"0.3\"/><path d=\"M 311 233 288 285\" stroke=\"gray\" stroke-width=\"0.3\"/><path d=\"M 354 253 288 285\" stroke=\"gray\" stroke-width=\"0.3\"/><path d=\"M 264 340 288 285\" stroke=\"gray\" stroke-width=\"0.3\"/><path d=\"M 208 274 288 285\" stroke=\"gray\" stroke-width=\"0.3\"/><path d=\"M 323 330 288 285\" stroke=\"gray\" stroke-width=\"0.3\"/><path d=\"M 422 43 376 80\" stroke=\"gray\" stroke-width=\"0.3\"/><path d=\"M 400 27 376 80\" stroke=\"gray\" stroke-width=\"0.3\"/><path d=\"M 302 38 376 80\" stroke=\"gray\" stroke-width=\"0.3\"/><path d=\"M 304 65 376 80\" stroke=\"gray\" stroke-width=\"0.3\"/><path d=\"M 325 49 376 80\" stroke=\"gray\" stroke-width=\"0.3\"/><path d=\"M 353 34 376 80\" stroke=\"gray\" stroke-width=\"0.3\"/><path d=\"M 330 22 376 80\" stroke=\"gray\" stroke-width=\"0.3\"/><path d=\"M 373 20 376 80\" stroke=\"gray\" stroke-width=\"0.3\"/><path d=\"M 152 452 224 460\" stroke=\"gray\" stroke-width=\"0.3\"/><path d=\"M 646 415 591 374\" stroke=\"gray\" stroke-width=\"0.3\"/><path d=\"M 663 392 591 374\" stroke=\"gray\" stroke-width=\"0.3\"/><path d=\"M 642 371 591 374\" stroke=\"gray\" stroke-width=\"0.3\"/><path d=\"M 472 520 396 488\" stroke=\"gray\" stroke-width=\"0.3\"/><path d=\"M 720 294 646 283\" stroke=\"gray\" stroke-width=\"0.3\"/><path d=\"M 686 241 646 283\" stroke=\"gray\" stroke-width=\"0.3\"/><path d=\"M 262 115 282 163\" stroke=\"gray\" stroke-width=\"0.3\"/><path d=\"M 300 165 282 163\" stroke=\"gray\" stroke-width=\"0.3\"/><path d=\"M 210 153 282 163\" stroke=\"gray\" stroke-width=\"0.3\"/><path d=\"M 307 119 282 163\" stroke=\"gray\" stroke-width=\"0.3\"/><path d=\"M 337 141 282 163\" stroke=\"gray\" stroke-width=\"0.3\"/><path d=\"M 218 131 282 163\" stroke=\"gray\" stroke-width=\"0.3\"/><path d=\"M 96 463 180 466\" stroke=\"gray\" stroke-width=\"0.3\"/><path d=\"M 108 492 180 466\" stroke=\"gray\" stroke-width=\"0.3\"/><path d=\"M 256 276 352 272\" stroke=\"gray\" stroke-width=\"0.3\"/><path d=\"M 371 222 352 272\" stroke=\"gray\" stroke-width=\"0.3\"/><path d=\"M 264 232 352 272\" stroke=\"gray\" stroke-width=\"0.3\"/><path d=\"M 609 136 544 173\" stroke=\"gray\" stroke-width=\"0.3\"/><path d=\"M 713 253 630 256\" stroke=\"gray\" stroke-width=\"0.3\"/><path d=\"M 677 201 630 256\" stroke=\"gray\" stroke-width=\"0.3\"/><path d=\"M 701 213 630 256\" stroke=\"gray\" stroke-width=\"0.3\"/><path d=\"M 715 231 630 256\" stroke=\"gray\" stroke-width=\"0.3\"/><path d=\"M 224 393 292 380\" stroke=\"gray\" stroke-width=\"0.3\"/><path d=\"M 243 419 292 380\" stroke=\"gray\" stroke-width=\"0.3\"/><path d=\"M 326 439 292 380\" stroke=\"gray\" stroke-width=\"0.3\"/><path d=\"M 273 419 292 380\" stroke=\"gray\" stroke-width=\"0.3\"/><path d=\"M 349 423 292 380\" stroke=\"gray\" stroke-width=\"0.3\"/><path d=\"M 236 366 292 380\" stroke=\"gray\" stroke-width=\"0.3\"/><path d=\"M 363 401 292 380\" stroke=\"gray\" stroke-width=\"0.3\"/><path d=\"M 346 357 292 380\" stroke=\"gray\" stroke-width=\"0.3\"/><circle cx=\"398\" cy=\"314\" r=\"3.0\" style=\"fill:rgb(170, 198, 253);stroke:black;stroke-width:1.0\"/><circle cx=\"265\" cy=\"272\" r=\"3.0\" style=\"fill:rgb(247, 179, 151);stroke:black;stroke-width:1.0\"/><circle cx=\"474\" cy=\"326\" r=\"3.0\" style=\"fill:rgb(179, 3, 38);stroke:black;stroke-width:1.0\"/><circle cx=\"453\" cy=\"211\" r=\"3.0\" style=\"fill:rgb(245, 193, 168);stroke:black;stroke-width:1.0\"/><circle cx=\"534\" cy=\"301\" r=\"3.0\" style=\"fill:rgb(96, 128, 232);stroke:black;stroke-width:1.0\"/><circle cx=\"308\" cy=\"428\" r=\"3.0\" style=\"fill:rgb(172, 200, 252);stroke:black;stroke-width:1.0\"/><circle cx=\"483\" cy=\"156\" r=\"3.0\" style=\"fill:rgb(116, 151, 245);stroke:black;stroke-width:1.0\"/><circle cx=\"451\" cy=\"314\" r=\"3.0\" style=\"fill:rgb(92, 123, 229);stroke:black;stroke-width:1.0\"/><circle cx=\"376\" cy=\"80\" r=\"3.0\" style=\"fill:rgb(225, 104, 82);stroke:black;stroke-width:1.0\"/><circle cx=\"544\" cy=\"173\" r=\"3.0\" style=\"fill:rgb(92, 123, 229);stroke:black;stroke-width:1.0\"/><circle cx=\"502\" cy=\"252\" r=\"3.0\" style=\"fill:rgb(58, 76, 192);stroke:black;stroke-width:1.0\"/><circle cx=\"520\" cy=\"235\" r=\"3.0\" style=\"fill:rgb(58, 76, 192);stroke:black;stroke-width:1.0\"/><circle cx=\"224\" cy=\"460\" r=\"3.0\" style=\"fill:rgb(96, 128, 232);stroke:black;stroke-width:1.0\"/><circle cx=\"396\" cy=\"488\" r=\"3.0\" style=\"fill:rgb(96, 128, 232);stroke:black;stroke-width:1.0\"/><circle cx=\"180\" cy=\"466\" r=\"3.0\" style=\"fill:rgb(134, 169, 252);stroke:black;stroke-width:1.0\"/><circle cx=\"302\" cy=\"250\" r=\"3.0\" style=\"fill:rgb(58, 76, 192);stroke:black;stroke-width:1.0\"/><circle cx=\"288\" cy=\"285\" r=\"3.0\" style=\"fill:rgb(239, 137, 108);stroke:black;stroke-width:1.0\"/><circle cx=\"292\" cy=\"380\" r=\"3.0\" style=\"fill:rgb(239, 137, 108);stroke:black;stroke-width:1.0\"/><circle cx=\"256\" cy=\"317\" r=\"3.0\" style=\"fill:rgb(58, 76, 192);stroke:black;stroke-width:1.0\"/><circle cx=\"104\" cy=\"243\" r=\"3.0\" style=\"fill:rgb(163, 193, 254);stroke:black;stroke-width:1.0\"/><circle cx=\"282\" cy=\"163\" r=\"3.0\" style=\"fill:rgb(246, 186, 159);stroke:black;stroke-width:1.0\"/><circle cx=\"646\" cy=\"283\" r=\"3.0\" style=\"fill:rgb(134, 169, 252);stroke:black;stroke-width:1.0\"/><circle cx=\"494\" cy=\"390\" r=\"3.0\" style=\"fill:rgb(58, 76, 192);stroke:black;stroke-width:1.0\"/><circle cx=\"444\" cy=\"368\" r=\"3.0\" style=\"fill:rgb(58, 76, 192);stroke:black;stroke-width:1.0\"/><circle cx=\"307\" cy=\"319\" r=\"3.0\" style=\"fill:rgb(172, 200, 252);stroke:black;stroke-width:1.0\"/><circle cx=\"630\" cy=\"256\" r=\"3.0\" style=\"fill:rgb(205, 217, 236);stroke:black;stroke-width:1.0\"/><circle cx=\"498\" cy=\"301\" r=\"3.0\" style=\"fill:rgb(58, 76, 192);stroke:black;stroke-width:1.0\"/><circle cx=\"469\" cy=\"382\" r=\"3.0\" style=\"fill:rgb(58, 76, 192);stroke:black;stroke-width:1.0\"/><circle cx=\"522\" cy=\"366\" r=\"3.0\" style=\"fill:rgb(58, 76, 192);stroke:black;stroke-width:1.0\"/><circle cx=\"591\" cy=\"374\" r=\"3.0\" style=\"fill:rgb(172, 200, 252);stroke:black;stroke-width:1.0\"/><circle cx=\"352\" cy=\"272\" r=\"3.0\" style=\"fill:rgb(172, 200, 252);stroke:black;stroke-width:1.0\"/><circle cx=\"20\" cy=\"228\" r=\"3.0\" style=\"fill:rgb(66, 88, 202);stroke:black;stroke-width:1.0\"/><circle cx=\"21\" cy=\"250\" r=\"3.0\" style=\"fill:rgb(66, 88, 202);stroke:black;stroke-width:1.0\"/><circle cx=\"34\" cy=\"208\" r=\"3.0\" style=\"fill:rgb(66, 88, 202);stroke:black;stroke-width:1.0\"/><circle cx=\"240\" cy=\"305\" r=\"3.0\" style=\"fill:rgb(66, 88, 202);stroke:black;stroke-width:1.0\"/><circle cx=\"207\" cy=\"341\" r=\"3.0\" style=\"fill:rgb(66, 88, 202);stroke:black;stroke-width:1.0\"/><circle cx=\"204\" cy=\"294\" r=\"3.0\" style=\"fill:rgb(66, 88, 202);stroke:black;stroke-width:1.0\"/><circle cx=\"565\" cy=\"146\" r=\"3.0\" style=\"fill:rgb(64, 84, 199);stroke:black;stroke-width:1.0\"/><circle cx=\"390\" cy=\"132\" r=\"3.0\" style=\"fill:rgb(130, 165, 251);stroke:black;stroke-width:1.0\"/><circle cx=\"444\" cy=\"400\" r=\"3.0\" style=\"fill:rgb(66, 88, 202);stroke:black;stroke-width:1.0\"/><circle cx=\"219\" cy=\"320\" r=\"3.0\" style=\"fill:rgb(66, 88, 202);stroke:black;stroke-width:1.0\"/><circle cx=\"361\" cy=\"286\" r=\"3.0\" style=\"fill:rgb(66, 88, 202);stroke:black;stroke-width:1.0\"/><circle cx=\"272\" cy=\"236\" r=\"3.0\" style=\"fill:rgb(66, 88, 202);stroke:black;stroke-width:1.0\"/><circle cx=\"311\" cy=\"233\" r=\"3.0\" style=\"fill:rgb(66, 88, 202);stroke:black;stroke-width:1.0\"/><circle cx=\"354\" cy=\"253\" r=\"3.0\" style=\"fill:rgb(66, 88, 202);stroke:black;stroke-width:1.0\"/><circle cx=\"264\" cy=\"340\" r=\"3.0\" style=\"fill:rgb(66, 88, 202);stroke:black;stroke-width:1.0\"/><circle cx=\"208\" cy=\"274\" r=\"3.0\" style=\"fill:rgb(66, 88, 202);stroke:black;stroke-width:1.0\"/><circle cx=\"323\" cy=\"330\" r=\"3.0\" style=\"fill:rgb(66, 88, 202);stroke:black;stroke-width:1.0\"/><circle cx=\"422\" cy=\"43\" r=\"3.0\" style=\"fill:rgb(64, 84, 199);stroke:black;stroke-width:1.0\"/><circle cx=\"400\" cy=\"27\" r=\"3.0\" style=\"fill:rgb(64, 84, 199);stroke:black;stroke-width:1.0\"/><circle cx=\"302\" cy=\"38\" r=\"3.0\" style=\"fill:rgb(64, 84, 199);stroke:black;stroke-width:1.0\"/><circle cx=\"304\" cy=\"65\" r=\"3.0\" style=\"fill:rgb(64, 84, 199);stroke:black;stroke-width:1.0\"/><circle cx=\"325\" cy=\"49\" r=\"3.0\" style=\"fill:rgb(64, 84, 199);stroke:black;stroke-width:1.0\"/><circle cx=\"353\" cy=\"34\" r=\"3.0\" style=\"fill:rgb(64, 84, 199);stroke:black;stroke-width:1.0\"/><circle cx=\"330\" cy=\"22\" r=\"3.0\" style=\"fill:rgb(64, 84, 199);stroke:black;stroke-width:1.0\"/><circle cx=\"373\" cy=\"20\" r=\"3.0\" style=\"fill:rgb(64, 84, 199);stroke:black;stroke-width:1.0\"/><circle cx=\"152\" cy=\"452\" r=\"3.0\" style=\"fill:rgb(66, 88, 202);stroke:black;stroke-width:1.0\"/><circle cx=\"646\" cy=\"415\" r=\"3.0\" style=\"fill:rgb(66, 88, 202);stroke:black;stroke-width:1.0\"/><circle cx=\"663\" cy=\"392\" r=\"3.0\" style=\"fill:rgb(66, 88, 202);stroke:black;stroke-width:1.0\"/><circle cx=\"642\" cy=\"371\" r=\"3.0\" style=\"fill:rgb(66, 88, 202);stroke:black;stroke-width:1.0\"/><circle cx=\"472\" cy=\"520\" r=\"3.0\" style=\"fill:rgb(66, 88, 202);stroke:black;stroke-width:1.0\"/><circle cx=\"720\" cy=\"294\" r=\"3.0\" style=\"fill:rgb(66, 88, 202);stroke:black;stroke-width:1.0\"/><circle cx=\"686\" cy=\"241\" r=\"3.0\" style=\"fill:rgb(66, 88, 202);stroke:black;stroke-width:1.0\"/><circle cx=\"262\" cy=\"115\" r=\"3.0\" style=\"fill:rgb(64, 84, 199);stroke:black;stroke-width:1.0\"/><circle cx=\"300\" cy=\"165\" r=\"3.0\" style=\"fill:rgb(64, 84, 199);stroke:black;stroke-width:1.0\"/><circle cx=\"210\" cy=\"153\" r=\"3.0\" style=\"fill:rgb(64, 84, 199);stroke:black;stroke-width:1.0\"/><circle cx=\"307\" cy=\"119\" r=\"3.0\" style=\"fill:rgb(64, 84, 199);stroke:black;stroke-width:1.0\"/><circle cx=\"337\" cy=\"141\" r=\"3.0\" style=\"fill:rgb(64, 84, 199);stroke:black;stroke-width:1.0\"/><circle cx=\"218\" cy=\"131\" r=\"3.0\" style=\"fill:rgb(64, 84, 199);stroke:black;stroke-width:1.0\"/><circle cx=\"96\" cy=\"463\" r=\"3.0\" style=\"fill:rgb(66, 88, 202);stroke:black;stroke-width:1.0\"/><circle cx=\"108\" cy=\"492\" r=\"3.0\" style=\"fill:rgb(66, 88, 202);stroke:black;stroke-width:1.0\"/><circle cx=\"256\" cy=\"276\" r=\"3.0\" style=\"fill:rgb(66, 88, 202);stroke:black;stroke-width:1.0\"/><circle cx=\"371\" cy=\"222\" r=\"3.0\" style=\"fill:rgb(66, 88, 202);stroke:black;stroke-width:1.0\"/><circle cx=\"264\" cy=\"232\" r=\"3.0\" style=\"fill:rgb(66, 88, 202);stroke:black;stroke-width:1.0\"/><circle cx=\"609\" cy=\"136\" r=\"3.0\" style=\"fill:rgb(66, 88, 202);stroke:black;stroke-width:1.0\"/><circle cx=\"713\" cy=\"253\" r=\"3.0\" style=\"fill:rgb(66, 88, 202);stroke:black;stroke-width:1.0\"/><circle cx=\"677\" cy=\"201\" r=\"3.0\" style=\"fill:rgb(66, 88, 202);stroke:black;stroke-width:1.0\"/><circle cx=\"701\" cy=\"213\" r=\"3.0\" style=\"fill:rgb(66, 88, 202);stroke:black;stroke-width:1.0\"/><circle cx=\"715\" cy=\"231\" r=\"3.0\" style=\"fill:rgb(66, 88, 202);stroke:black;stroke-width:1.0\"/><circle cx=\"224\" cy=\"393\" r=\"3.0\" style=\"fill:rgb(66, 88, 202);stroke:black;stroke-width:1.0\"/><circle cx=\"243\" cy=\"419\" r=\"3.0\" style=\"fill:rgb(66, 88, 202);stroke:black;stroke-width:1.0\"/><circle cx=\"326\" cy=\"439\" r=\"3.0\" style=\"fill:rgb(66, 88, 202);stroke:black;stroke-width:1.0\"/><circle cx=\"273\" cy=\"419\" r=\"3.0\" style=\"fill:rgb(66, 88, 202);stroke:black;stroke-width:1.0\"/><circle cx=\"349\" cy=\"423\" r=\"3.0\" style=\"fill:rgb(66, 88, 202);stroke:black;stroke-width:1.0\"/><circle cx=\"236\" cy=\"366\" r=\"3.0\" style=\"fill:rgb(66, 88, 202);stroke:black;stroke-width:1.0\"/><circle cx=\"363\" cy=\"401\" r=\"3.0\" style=\"fill:rgb(66, 88, 202);stroke:black;stroke-width:1.0\"/><circle cx=\"346\" cy=\"357\" r=\"3.0\" style=\"fill:rgb(66, 88, 202);stroke:black;stroke-width:1.0\"/><text font-size=\"10\" x=\"404\" y=\"317\">B.B. King</text><text font-size=\"10\" x=\"271\" y=\"275\">NEGAPHONE</text><text font-size=\"10\" x=\"480\" y=\"329\">WeeBay</text><text font-size=\"10\" x=\"459\" y=\"214\">Big Choze</text><text font-size=\"10\" x=\"540\" y=\"304\">U2</text><text font-size=\"10\" x=\"314\" y=\"431\">Lil Wayne</text><text font-size=\"10\" x=\"489\" y=\"159\">Big Sean</text><text font-size=\"10\" x=\"457\" y=\"317\">BigChiiffa</text><text font-size=\"10\" x=\"382\" y=\"83\">Degree</text><text font-size=\"10\" x=\"550\" y=\"176\">Young Iggz</text><text font-size=\"10\" x=\"508\" y=\"255\">AzChike</text><text font-size=\"10\" x=\"526\" y=\"238\">Nirvana</text><text font-size=\"10\" x=\"230\" y=\"463\">Drake</text><text font-size=\"10\" x=\"402\" y=\"491\">Jay Sean</text><text font-size=\"10\" x=\"186\" y=\"469\">Tyga</text><text font-size=\"10\" x=\"308\" y=\"253\">Animals As Leaders</text><text font-size=\"10\" x=\"294\" y=\"288\">Conton Candy</text><text font-size=\"10\" x=\"298\" y=\"383\">tephe</text><text font-size=\"10\" x=\"262\" y=\"320\">Nelyoti</text><text font-size=\"10\" x=\"110\" y=\"246\">Abdeelgha4</text><text font-size=\"10\" x=\"288\" y=\"166\">Mons</text><text font-size=\"10\" x=\"652\" y=\"286\">Kendrick Lamar</text><text font-size=\"10\" x=\"500\" y=\"393\">Baye Mass</text><text font-size=\"10\" x=\"450\" y=\"371\">ShittyBoyz</text><text font-size=\"10\" x=\"313\" y=\"322\">Alexnocap</text><text font-size=\"10\" x=\"636\" y=\"259\">kelseyi</text><text font-size=\"10\" x=\"504\" y=\"304\">Ace Hood</text><text font-size=\"10\" x=\"475\" y=\"385\">Jason Aldean</text><text font-size=\"10\" x=\"528\" y=\"369\">Edot Babyy</text><text font-size=\"10\" x=\"597\" y=\"377\">Duzzy Funlop</text><text font-size=\"10\" x=\"358\" y=\"275\">Webbie</text><text font-size=\"10\" x=\"26\" y=\"231\">Abdelli</text><text font-size=\"10\" x=\"27\" y=\"253\">Abdallah Adel</text><text font-size=\"10\" x=\"40\" y=\"211\">Abdel Halim Hafez</text><text font-size=\"10\" x=\"246\" y=\"308\">Alexa Cappelli</text><text font-size=\"10\" x=\"213\" y=\"344\">Alex Nocera</text><text font-size=\"10\" x=\"210\" y=\"297\">Alex Campos</text><text font-size=\"10\" x=\"571\" y=\"149\">Jack Harlow</text><text font-size=\"10\" x=\"396\" y=\"135\">Kanye West</text><text font-size=\"10\" x=\"450\" y=\"403\">Professor Longhair</text><text font-size=\"10\" x=\"225\" y=\"323\">Nic D</text><text font-size=\"10\" x=\"367\" y=\"289\">Hot Milk</text><text font-size=\"10\" x=\"278\" y=\"239\">MilkyyMelodies</text><text font-size=\"10\" x=\"317\" y=\"236\">spill tab</text><text font-size=\"10\" x=\"360\" y=\"256\">Big Moochie Grape</text><text font-size=\"10\" x=\"270\" y=\"343\">Elvia</text><text font-size=\"10\" x=\"214\" y=\"277\">Blu DeTiger</text><text font-size=\"10\" x=\"329\" y=\"333\">YUNGBLUD</text><text font-size=\"10\" x=\"428\" y=\"46\">93FEETOFSMOKE</text><text font-size=\"10\" x=\"406\" y=\"30\">Taylor McFerrin</text><text font-size=\"10\" x=\"308\" y=\"41\">Cola</text><text font-size=\"10\" x=\"310\" y=\"68\">$uicideboy$</text><text font-size=\"10\" x=\"331\" y=\"52\">JEY</text><text font-size=\"10\" x=\"359\" y=\"37\">Arno Coleridge</text><text font-size=\"10\" x=\"336\" y=\"25\">EST Gee</text><text font-size=\"10\" x=\"379\" y=\"23\">MadeByVL</text><text font-size=\"10\" x=\"158\" y=\"455\">Travis Scott</text><text font-size=\"10\" x=\"652\" y=\"418\">Jaydes Archive</text><text font-size=\"10\" x=\"669\" y=\"395\">Supereffective</text><text font-size=\"10\" x=\"648\" y=\"374\">Token</text><text font-size=\"10\" x=\"478\" y=\"523\">Rishi Rich</text><text font-size=\"10\" x=\"726\" y=\"297\">Taylor Swift</text><text font-size=\"10\" x=\"692\" y=\"244\">Baby Keem</text><text font-size=\"10\" x=\"268\" y=\"118\">LUM!X</text><text font-size=\"10\" x=\"306\" y=\"168\">Lady Gaga</text><text font-size=\"10\" x=\"216\" y=\"156\">Bobby &quot;Boris&quot; Pickett</text><text font-size=\"10\" x=\"313\" y=\"122\">All Time Low</text><text font-size=\"10\" x=\"343\" y=\"144\">Skillet</text><text font-size=\"10\" x=\"224\" y=\"134\">Shinedown</text><text font-size=\"10\" x=\"102\" y=\"466\">Justine Skye</text><text font-size=\"10\" x=\"114\" y=\"495\">Travis Porter</text><text font-size=\"10\" x=\"262\" y=\"279\">Young Thug</text><text font-size=\"10\" x=\"377\" y=\"225\">Isaiah Rashad</text><text font-size=\"10\" x=\"270\" y=\"235\">Boosie Badazz</text><text font-size=\"10\" x=\"615\" y=\"139\">Acito</text><text font-size=\"10\" x=\"719\" y=\"256\">Jesse Novak</text><text font-size=\"10\" x=\"683\" y=\"204\">Kelsea Ballerini</text><text font-size=\"10\" x=\"707\" y=\"216\">Harry Hudson</text><text font-size=\"10\" x=\"721\" y=\"234\">Metro Station</text><text font-size=\"10\" x=\"230\" y=\"396\">Los Elegantes de Jerez</text><text font-size=\"10\" x=\"249\" y=\"422\">Jessie Morales El Original De La Sierra</text><text font-size=\"10\" x=\"332\" y=\"442\">Inspector</text><text font-size=\"10\" x=\"279\" y=\"422\">Gracie Abrams</text><text font-size=\"10\" x=\"355\" y=\"426\">Eric Prydz</text><text font-size=\"10\" x=\"242\" y=\"369\">Ivy Queen</text><text font-size=\"10\" x=\"369\" y=\"404\">Leo Dan</text><text font-size=\"10\" x=\"352\" y=\"360\">Tanger</text></svg>"
      ],
      "text/plain": [
       "<IPython.core.display.SVG object>"
      ]
     },
     "execution_count": 13,
     "metadata": {},
     "output_type": "execute_result"
    }
   ],
   "source": [
    "# this is network analysis network without labels\n",
    "\n",
    "draw_graph(G, node_size=3, show_names=True, edge_width=0.3)"
   ]
  },
  {
   "cell_type": "markdown",
   "id": "10aa2232",
   "metadata": {},
   "source": [
    "# Egocentric Network Analysis\n",
    "\n",
    "As the above visualization shows, this is a complex network. For knowledge discovery, we should use Egocentric Network Analysis to \"zoom in\" on nodes of interest. Any node can be looked at, but I am going to programmatically do this, in this notebook, showing only the top twenty nodes, according to page rank."
   ]
  },
  {
   "cell_type": "markdown",
   "id": "0dcf1d59",
   "metadata": {},
   "source": [
    "# PageRank - Identify Nodes of Interest"
   ]
  },
  {
   "cell_type": "code",
   "execution_count": 14,
   "id": "42fbb411",
   "metadata": {},
   "outputs": [
    {
     "data": {
      "text/html": [
       "<div>\n",
       "<style scoped>\n",
       "    .dataframe tbody tr th:only-of-type {\n",
       "        vertical-align: middle;\n",
       "    }\n",
       "\n",
       "    .dataframe tbody tr th {\n",
       "        vertical-align: top;\n",
       "    }\n",
       "\n",
       "    .dataframe thead th {\n",
       "        text-align: right;\n",
       "    }\n",
       "</style>\n",
       "<table border=\"1\" class=\"dataframe\">\n",
       "  <thead>\n",
       "    <tr style=\"text-align: right;\">\n",
       "      <th></th>\n",
       "      <th>page_rank</th>\n",
       "    </tr>\n",
       "  </thead>\n",
       "  <tbody>\n",
       "    <tr>\n",
       "      <th>Degree</th>\n",
       "      <td>0.051595</td>\n",
       "    </tr>\n",
       "    <tr>\n",
       "      <th>WeeBay</th>\n",
       "      <td>0.050546</td>\n",
       "    </tr>\n",
       "    <tr>\n",
       "      <th>tephe</th>\n",
       "      <td>0.049145</td>\n",
       "    </tr>\n",
       "    <tr>\n",
       "      <th>Conton Candy</th>\n",
       "      <td>0.049145</td>\n",
       "    </tr>\n",
       "    <tr>\n",
       "      <th>Mons</th>\n",
       "      <td>0.041120</td>\n",
       "    </tr>\n",
       "    <tr>\n",
       "      <th>Big Choze</th>\n",
       "      <td>0.034074</td>\n",
       "    </tr>\n",
       "    <tr>\n",
       "      <th>NEGAPHONE</th>\n",
       "      <td>0.034042</td>\n",
       "    </tr>\n",
       "    <tr>\n",
       "      <th>kelseyi</th>\n",
       "      <td>0.028159</td>\n",
       "    </tr>\n",
       "    <tr>\n",
       "      <th>B.B. King</th>\n",
       "      <td>0.023252</td>\n",
       "    </tr>\n",
       "    <tr>\n",
       "      <th>Webbie</th>\n",
       "      <td>0.022739</td>\n",
       "    </tr>\n",
       "  </tbody>\n",
       "</table>\n",
       "</div>"
      ],
      "text/plain": [
       "              page_rank\n",
       "Degree         0.051595\n",
       "WeeBay         0.050546\n",
       "tephe          0.049145\n",
       "Conton Candy   0.049145\n",
       "Mons           0.041120\n",
       "Big Choze      0.034074\n",
       "NEGAPHONE      0.034042\n",
       "kelseyi        0.028159\n",
       "B.B. King      0.023252\n",
       "Webbie         0.022739"
      ]
     },
     "execution_count": 14,
     "metadata": {},
     "output_type": "execute_result"
    }
   ],
   "source": [
    "page_rank = nx.pagerank(G)\n",
    "\n",
    "pr_df = pd.DataFrame().from_dict(page_rank, orient='index')\n",
    "pr_df.columns = ['page_rank']\n",
    "pr_df.sort_values('page_rank', ascending=False, inplace=True)\n",
    "pr_df.head(10)"
   ]
  },
  {
   "cell_type": "code",
   "execution_count": 15,
   "id": "71a59549",
   "metadata": {},
   "outputs": [
    {
     "data": {
      "image/png": "[encoded data removed]",
      "text/plain": [
       "<Figure size 864x576 with 1 Axes>"
      ]
     },
     "metadata": {
      "needs_background": "light"
     },
     "output_type": "display_data"
    }
   ],
   "source": [
    "title = 'Important Artists by PageRank'\n",
    "\n",
    "pr_df.head(20).plot.barh(figsize=(12,8), title=title).invert_yaxis()"
   ]
  },
  {
   "cell_type": "markdown",
   "id": "3565f936",
   "metadata": {},
   "source": [
    "# Egocentric Network Analysis\n",
    "Next, let's look at the Ego Graphs for each of the top ten characters found by PageRank. Before visualizing and inspecting the Ego Graphs, let's create a Python list so that we can more easily look through them without explicitely typing their names."
   ]
  },
  {
   "cell_type": "code",
   "execution_count": 16,
   "id": "9d823af1",
   "metadata": {},
   "outputs": [],
   "source": [
    "top_nodes = pr_df.head(20).index.values"
   ]
  },
  {
   "cell_type": "code",
   "execution_count": 17,
   "id": "662a98f3",
   "metadata": {},
   "outputs": [
    {
     "data": {
      "text/plain": [
       "'Degree'"
      ]
     },
     "execution_count": 17,
     "metadata": {},
     "output_type": "execute_result"
    }
   ],
   "source": [
    "top_nodes[0]"
   ]
  },
  {
   "cell_type": "markdown",
   "id": "6ecf99c7",
   "metadata": {},
   "source": [
    "Now we are all set to start looking through them, in order of importance."
   ]
  },
  {
   "cell_type": "markdown",
   "id": "290bcf1a",
   "metadata": {},
   "source": [
    "## Top Node Ego Networks\n",
    "Unlike last time, I am not going to drop the center node or write about findings. This is purely discovery. Remember two things:\n",
    "- The center node is known as the 'ego' node. It is the node being looked up.\n",
    "- The other nodes are known as 'alter' nodes. They are connected to the ego node, and sometimes with each other.\n",
    "\n",
    "Pay close attention to the alter nodes that link to other alter nodes. These are interesting relationships, and you can see subcommunities in the ego network. Think about what you are seeing. What does this tell you?"
   ]
  },
  {
   "cell_type": "code",
   "execution_count": 18,
   "id": "863ca7a1",
   "metadata": {},
   "outputs": [
    {
     "data": {
      "image/svg+xml": [
       "<svg height=\"540\" width=\"815.0\" xmlns=\"http://www.w3.org/2000/svg\"><path d=\"M 150 69 360 267\" stroke=\"gray\" stroke-width=\"0.3\"/><path d=\"M 590 472 360 267\" stroke=\"gray\" stroke-width=\"0.3\"/><path d=\"M 20 196 360 267\" stroke=\"gray\" stroke-width=\"0.3\"/><path d=\"M 22 350 360 267\" stroke=\"gray\" stroke-width=\"0.3\"/><path d=\"M 720 342 360 267\" stroke=\"gray\" stroke-width=\"0.3\"/><path d=\"M 374 520 360 267\" stroke=\"gray\" stroke-width=\"0.3\"/><path d=\"M 360 267 150 69\" stroke=\"gray\" stroke-width=\"0.3\"/><path d=\"M 360 267 590 472\" stroke=\"gray\" stroke-width=\"0.3\"/><path d=\"M 360 267 20 196\" stroke=\"gray\" stroke-width=\"0.3\"/><path d=\"M 360 267 22 350\" stroke=\"gray\" stroke-width=\"0.3\"/><path d=\"M 360 267 720 342\" stroke=\"gray\" stroke-width=\"0.3\"/><path d=\"M 360 267 374 520\" stroke=\"gray\" stroke-width=\"0.3\"/><path d=\"M 360 267 157 474\" stroke=\"gray\" stroke-width=\"0.3\"/><path d=\"M 360 267 578 70\" stroke=\"gray\" stroke-width=\"0.3\"/><path d=\"M 360 267 363 20\" stroke=\"gray\" stroke-width=\"0.3\"/><path d=\"M 360 267 716 185\" stroke=\"gray\" stroke-width=\"0.3\"/><path d=\"M 157 474 360 267\" stroke=\"gray\" stroke-width=\"0.3\"/><path d=\"M 578 70 360 267\" stroke=\"gray\" stroke-width=\"0.3\"/><path d=\"M 363 20 360 267\" stroke=\"gray\" stroke-width=\"0.3\"/><path d=\"M 716 185 360 267\" stroke=\"gray\" stroke-width=\"0.3\"/><circle cx=\"150\" cy=\"69\" r=\"3.0\" style=\"fill:rgb(58, 76, 192);stroke:black;stroke-width:1.0\"/><circle cx=\"590\" cy=\"472\" r=\"3.0\" style=\"fill:rgb(58, 76, 192);stroke:black;stroke-width:1.0\"/><circle cx=\"20\" cy=\"196\" r=\"3.0\" style=\"fill:rgb(58, 76, 192);stroke:black;stroke-width:1.0\"/><circle cx=\"22\" cy=\"350\" r=\"3.0\" style=\"fill:rgb(58, 76, 192);stroke:black;stroke-width:1.0\"/><circle cx=\"720\" cy=\"342\" r=\"3.0\" style=\"fill:rgb(58, 76, 192);stroke:black;stroke-width:1.0\"/><circle cx=\"374\" cy=\"520\" r=\"3.0\" style=\"fill:rgb(58, 76, 192);stroke:black;stroke-width:1.0\"/><circle cx=\"360\" cy=\"267\" r=\"3.0\" style=\"fill:rgb(179, 3, 38);stroke:black;stroke-width:1.0\"/><circle cx=\"157\" cy=\"474\" r=\"3.0\" style=\"fill:rgb(58, 76, 192);stroke:black;stroke-width:1.0\"/><circle cx=\"578\" cy=\"70\" r=\"3.0\" style=\"fill:rgb(58, 76, 192);stroke:black;stroke-width:1.0\"/><circle cx=\"363\" cy=\"20\" r=\"3.0\" style=\"fill:rgb(58, 76, 192);stroke:black;stroke-width:1.0\"/><circle cx=\"716\" cy=\"185\" r=\"3.0\" style=\"fill:rgb(58, 76, 192);stroke:black;stroke-width:1.0\"/><text font-size=\"10\" x=\"156\" y=\"72\">Taylor McFerrin</text><text font-size=\"10\" x=\"596\" y=\"475\">93FEETOFSMOKE</text><text font-size=\"10\" x=\"26\" y=\"199\">Arno Coleridge</text><text font-size=\"10\" x=\"28\" y=\"353\">Cola</text><text font-size=\"10\" x=\"726\" y=\"345\">EST Gee</text><text font-size=\"10\" x=\"380\" y=\"523\">JEY</text><text font-size=\"10\" x=\"366\" y=\"270\">Degree</text><text font-size=\"10\" x=\"163\" y=\"477\">MadeByVL</text><text font-size=\"10\" x=\"584\" y=\"73\">Big Choze</text><text font-size=\"10\" x=\"369\" y=\"23\">$uicideboy$</text><text font-size=\"10\" x=\"722\" y=\"188\">Kanye West</text></svg>"
      ],
      "text/plain": [
       "<IPython.core.display.SVG object>"
      ]
     },
     "execution_count": 18,
     "metadata": {},
     "output_type": "execute_result"
    }
   ],
   "source": [
    "ego = top_nodes[0]\n",
    "\n",
    "G_ego = nx.ego_graph(G, ego)\n",
    "\n",
    "draw_graph(G_ego, show_names=True, node_size=3, edge_width=0.3)"
   ]
  },
  {
   "cell_type": "code",
   "execution_count": 19,
   "id": "32fcd7b3",
   "metadata": {},
   "outputs": [
    {
     "data": {
      "text/plain": [
       "['$uicideboy$',\n",
       " '93FEETOFSMOKE',\n",
       " 'Arno Coleridge',\n",
       " 'Big Choze',\n",
       " 'Cola',\n",
       " 'Degree',\n",
       " 'EST Gee',\n",
       " 'JEY',\n",
       " 'Kanye West',\n",
       " 'MadeByVL',\n",
       " 'Taylor McFerrin']"
      ]
     },
     "execution_count": 19,
     "metadata": {},
     "output_type": "execute_result"
    }
   ],
   "source": [
    "# you can look at the nodes in the ego network this way, to find interesting topics\n",
    "\n",
    "nodes = sorted(G_ego.nodes)\n",
    "nodes"
   ]
  },
  {
   "cell_type": "code",
   "execution_count": 20,
   "id": "025314b1",
   "metadata": {},
   "outputs": [
    {
     "data": {
      "image/svg+xml": [
       "<svg height=\"540\" width=\"800.0\" xmlns=\"http://www.w3.org/2000/svg\"><path d=\"M 691 369 368 262\" stroke=\"gray\" stroke-width=\"0.3\"/><path d=\"M 406 20 368 262\" stroke=\"gray\" stroke-width=\"0.3\"/><path d=\"M 720 217 368 262\" stroke=\"gray\" stroke-width=\"0.3\"/><path d=\"M 368 262 691 369\" stroke=\"gray\" stroke-width=\"0.3\"/><path d=\"M 368 262 406 20\" stroke=\"gray\" stroke-width=\"0.3\"/><path d=\"M 368 262 720 217\" stroke=\"gray\" stroke-width=\"0.3\"/><path d=\"M 368 262 134 457\" stroke=\"gray\" stroke-width=\"0.3\"/><path d=\"M 368 262 184 48\" stroke=\"gray\" stroke-width=\"0.3\"/><path d=\"M 368 262 612 82\" stroke=\"gray\" stroke-width=\"0.3\"/><path d=\"M 368 262 36 166\" stroke=\"gray\" stroke-width=\"0.3\"/><path d=\"M 368 262 335 520\" stroke=\"gray\" stroke-width=\"0.3\"/><path d=\"M 368 262 543 481\" stroke=\"gray\" stroke-width=\"0.3\"/><path d=\"M 368 262 20 323\" stroke=\"gray\" stroke-width=\"0.3\"/><path d=\"M 134 457 368 262\" stroke=\"gray\" stroke-width=\"0.3\"/><path d=\"M 184 48 368 262\" stroke=\"gray\" stroke-width=\"0.3\"/><path d=\"M 612 82 368 262\" stroke=\"gray\" stroke-width=\"0.3\"/><path d=\"M 36 166 368 262\" stroke=\"gray\" stroke-width=\"0.3\"/><path d=\"M 335 520 368 262\" stroke=\"gray\" stroke-width=\"0.3\"/><path d=\"M 543 481 368 262\" stroke=\"gray\" stroke-width=\"0.3\"/><path d=\"M 20 323 368 262\" stroke=\"gray\" stroke-width=\"0.3\"/><circle cx=\"691\" cy=\"369\" r=\"3.0\" style=\"fill:rgb(58, 76, 192);stroke:black;stroke-width:1.0\"/><circle cx=\"406\" cy=\"20\" r=\"3.0\" style=\"fill:rgb(58, 76, 192);stroke:black;stroke-width:1.0\"/><circle cx=\"720\" cy=\"217\" r=\"3.0\" style=\"fill:rgb(58, 76, 192);stroke:black;stroke-width:1.0\"/><circle cx=\"368\" cy=\"262\" r=\"3.0\" style=\"fill:rgb(179, 3, 38);stroke:black;stroke-width:1.0\"/><circle cx=\"134\" cy=\"457\" r=\"3.0\" style=\"fill:rgb(58, 76, 192);stroke:black;stroke-width:1.0\"/><circle cx=\"184\" cy=\"48\" r=\"3.0\" style=\"fill:rgb(58, 76, 192);stroke:black;stroke-width:1.0\"/><circle cx=\"612\" cy=\"82\" r=\"3.0\" style=\"fill:rgb(58, 76, 192);stroke:black;stroke-width:1.0\"/><circle cx=\"36\" cy=\"166\" r=\"3.0\" style=\"fill:rgb(58, 76, 192);stroke:black;stroke-width:1.0\"/><circle cx=\"335\" cy=\"520\" r=\"3.0\" style=\"fill:rgb(58, 76, 192);stroke:black;stroke-width:1.0\"/><circle cx=\"543\" cy=\"481\" r=\"3.0\" style=\"fill:rgb(58, 76, 192);stroke:black;stroke-width:1.0\"/><circle cx=\"20\" cy=\"323\" r=\"3.0\" style=\"fill:rgb(58, 76, 192);stroke:black;stroke-width:1.0\"/><text font-size=\"10\" x=\"697\" y=\"372\">Ace Hood</text><text font-size=\"10\" x=\"412\" y=\"23\">kelseyi</text><text font-size=\"10\" x=\"726\" y=\"220\">Jason Aldean</text><text font-size=\"10\" x=\"374\" y=\"265\">WeeBay</text><text font-size=\"10\" x=\"140\" y=\"460\">Baye Mass</text><text font-size=\"10\" x=\"190\" y=\"51\">Edot Babyy</text><text font-size=\"10\" x=\"618\" y=\"85\">ShittyBoyz</text><text font-size=\"10\" x=\"42\" y=\"169\">Webbie</text><text font-size=\"10\" x=\"341\" y=\"523\">B.B. King</text><text font-size=\"10\" x=\"549\" y=\"484\">Duzzy Funlop</text><text font-size=\"10\" x=\"26\" y=\"326\">Alexnocap</text></svg>"
      ],
      "text/plain": [
       "<IPython.core.display.SVG object>"
      ]
     },
     "execution_count": 20,
     "metadata": {},
     "output_type": "execute_result"
    }
   ],
   "source": [
    "ego = top_nodes[1]\n",
    "\n",
    "G_ego = nx.ego_graph(G, ego)\n",
    "\n",
    "draw_graph(G_ego, show_names=True, node_size=3, edge_width=0.3)"
   ]
  },
  {
   "cell_type": "code",
   "execution_count": 21,
   "id": "62f53797",
   "metadata": {},
   "outputs": [
    {
     "data": {
      "image/svg+xml": [
       "<svg height=\"540\" width=\"935.0\" xmlns=\"http://www.w3.org/2000/svg\"><path d=\"M 584 67 375 275\" stroke=\"gray\" stroke-width=\"0.3\"/><path d=\"M 274 520 375 275\" stroke=\"gray\" stroke-width=\"0.3\"/><path d=\"M 517 512 375 275\" stroke=\"gray\" stroke-width=\"0.3\"/><path d=\"M 77 415 375 275\" stroke=\"gray\" stroke-width=\"0.3\"/><path d=\"M 20 246 375 275\" stroke=\"gray\" stroke-width=\"0.3\"/><path d=\"M 720 214 375 275\" stroke=\"gray\" stroke-width=\"0.3\"/><path d=\"M 130 92 375 275\" stroke=\"gray\" stroke-width=\"0.3\"/><path d=\"M 692 390 375 275\" stroke=\"gray\" stroke-width=\"0.3\"/><path d=\"M 348 20 375 275\" stroke=\"gray\" stroke-width=\"0.3\"/><path d=\"M 375 275 584 67\" stroke=\"gray\" stroke-width=\"0.3\"/><path d=\"M 375 275 274 520\" stroke=\"gray\" stroke-width=\"0.3\"/><path d=\"M 375 275 517 512\" stroke=\"gray\" stroke-width=\"0.3\"/><path d=\"M 375 275 77 415\" stroke=\"gray\" stroke-width=\"0.3\"/><path d=\"M 375 275 20 246\" stroke=\"gray\" stroke-width=\"0.3\"/><path d=\"M 375 275 720 214\" stroke=\"gray\" stroke-width=\"0.3\"/><path d=\"M 375 275 130 92\" stroke=\"gray\" stroke-width=\"0.3\"/><path d=\"M 375 275 692 390\" stroke=\"gray\" stroke-width=\"0.3\"/><path d=\"M 375 275 348 20\" stroke=\"gray\" stroke-width=\"0.3\"/><circle cx=\"584\" cy=\"67\" r=\"3.0\" style=\"fill:rgb(58, 76, 192);stroke:black;stroke-width:1.0\"/><circle cx=\"274\" cy=\"520\" r=\"3.0\" style=\"fill:rgb(58, 76, 192);stroke:black;stroke-width:1.0\"/><circle cx=\"517\" cy=\"512\" r=\"3.0\" style=\"fill:rgb(58, 76, 192);stroke:black;stroke-width:1.0\"/><circle cx=\"77\" cy=\"415\" r=\"3.0\" style=\"fill:rgb(58, 76, 192);stroke:black;stroke-width:1.0\"/><circle cx=\"20\" cy=\"246\" r=\"3.0\" style=\"fill:rgb(58, 76, 192);stroke:black;stroke-width:1.0\"/><circle cx=\"720\" cy=\"214\" r=\"3.0\" style=\"fill:rgb(58, 76, 192);stroke:black;stroke-width:1.0\"/><circle cx=\"130\" cy=\"92\" r=\"3.0\" style=\"fill:rgb(58, 76, 192);stroke:black;stroke-width:1.0\"/><circle cx=\"692\" cy=\"390\" r=\"3.0\" style=\"fill:rgb(58, 76, 192);stroke:black;stroke-width:1.0\"/><circle cx=\"348\" cy=\"20\" r=\"3.0\" style=\"fill:rgb(58, 76, 192);stroke:black;stroke-width:1.0\"/><circle cx=\"375\" cy=\"275\" r=\"3.0\" style=\"fill:rgb(179, 3, 38);stroke:black;stroke-width:1.0\"/><text font-size=\"10\" x=\"590\" y=\"70\">Jessie Morales El Original De La Sierra</text><text font-size=\"10\" x=\"280\" y=\"523\">Eric Prydz</text><text font-size=\"10\" x=\"523\" y=\"515\">Gracie Abrams</text><text font-size=\"10\" x=\"83\" y=\"418\">Leo Dan</text><text font-size=\"10\" x=\"26\" y=\"249\">Los Elegantes de Jerez</text><text font-size=\"10\" x=\"726\" y=\"217\">NEGAPHONE</text><text font-size=\"10\" x=\"136\" y=\"95\">Ivy Queen</text><text font-size=\"10\" x=\"698\" y=\"393\">Tanger</text><text font-size=\"10\" x=\"354\" y=\"23\">Inspector</text><text font-size=\"10\" x=\"381\" y=\"278\">tephe</text></svg>"
      ],
      "text/plain": [
       "<IPython.core.display.SVG object>"
      ]
     },
     "execution_count": 21,
     "metadata": {},
     "output_type": "execute_result"
    }
   ],
   "source": [
    "ego = top_nodes[2]\n",
    "\n",
    "G_ego = nx.ego_graph(G, ego)\n",
    "\n",
    "draw_graph(G_ego, show_names=True, node_size=3, edge_width=0.3)"
   ]
  },
  {
   "cell_type": "code",
   "execution_count": 22,
   "id": "4c56a973",
   "metadata": {},
   "outputs": [
    {
     "data": {
      "image/svg+xml": [
       "<svg height=\"540\" width=\"825.0\" xmlns=\"http://www.w3.org/2000/svg\"><path d=\"M 46 388 367 273\" stroke=\"gray\" stroke-width=\"0.3\"/><path d=\"M 720 246 367 273\" stroke=\"gray\" stroke-width=\"0.3\"/><path d=\"M 156 67 367 273\" stroke=\"gray\" stroke-width=\"0.3\"/><path d=\"M 611 93 367 273\" stroke=\"gray\" stroke-width=\"0.3\"/><path d=\"M 390 20 367 273\" stroke=\"gray\" stroke-width=\"0.3\"/><path d=\"M 660 415 367 273\" stroke=\"gray\" stroke-width=\"0.3\"/><path d=\"M 367 273 46 388\" stroke=\"gray\" stroke-width=\"0.3\"/><path d=\"M 367 273 720 246\" stroke=\"gray\" stroke-width=\"0.3\"/><path d=\"M 367 273 156 67\" stroke=\"gray\" stroke-width=\"0.3\"/><path d=\"M 367 273 611 93\" stroke=\"gray\" stroke-width=\"0.3\"/><path d=\"M 367 273 390 20\" stroke=\"gray\" stroke-width=\"0.3\"/><path d=\"M 367 273 660 415\" stroke=\"gray\" stroke-width=\"0.3\"/><path d=\"M 367 273 224 511\" stroke=\"gray\" stroke-width=\"0.3\"/><path d=\"M 367 273 467 520\" stroke=\"gray\" stroke-width=\"0.3\"/><path d=\"M 367 273 20 211\" stroke=\"gray\" stroke-width=\"0.3\"/><path d=\"M 224 511 367 273\" stroke=\"gray\" stroke-width=\"0.3\"/><path d=\"M 467 520 367 273\" stroke=\"gray\" stroke-width=\"0.3\"/><path d=\"M 20 211 367 273\" stroke=\"gray\" stroke-width=\"0.3\"/><circle cx=\"46\" cy=\"388\" r=\"3.0\" style=\"fill:rgb(58, 76, 192);stroke:black;stroke-width:1.0\"/><circle cx=\"720\" cy=\"246\" r=\"3.0\" style=\"fill:rgb(58, 76, 192);stroke:black;stroke-width:1.0\"/><circle cx=\"156\" cy=\"67\" r=\"3.0\" style=\"fill:rgb(58, 76, 192);stroke:black;stroke-width:1.0\"/><circle cx=\"611\" cy=\"93\" r=\"3.0\" style=\"fill:rgb(58, 76, 192);stroke:black;stroke-width:1.0\"/><circle cx=\"390\" cy=\"20\" r=\"3.0\" style=\"fill:rgb(58, 76, 192);stroke:black;stroke-width:1.0\"/><circle cx=\"660\" cy=\"415\" r=\"3.0\" style=\"fill:rgb(58, 76, 192);stroke:black;stroke-width:1.0\"/><circle cx=\"367\" cy=\"273\" r=\"3.0\" style=\"fill:rgb(179, 3, 38);stroke:black;stroke-width:1.0\"/><circle cx=\"224\" cy=\"511\" r=\"3.0\" style=\"fill:rgb(58, 76, 192);stroke:black;stroke-width:1.0\"/><circle cx=\"467\" cy=\"520\" r=\"3.0\" style=\"fill:rgb(58, 76, 192);stroke:black;stroke-width:1.0\"/><circle cx=\"20\" cy=\"211\" r=\"3.0\" style=\"fill:rgb(58, 76, 192);stroke:black;stroke-width:1.0\"/><text font-size=\"10\" x=\"52\" y=\"391\">spill tab</text><text font-size=\"10\" x=\"726\" y=\"249\">Nic D</text><text font-size=\"10\" x=\"162\" y=\"70\">YUNGBLUD</text><text font-size=\"10\" x=\"617\" y=\"96\">Big Moochie Grape</text><text font-size=\"10\" x=\"396\" y=\"23\">Hot Milk</text><text font-size=\"10\" x=\"666\" y=\"418\">NEGAPHONE</text><text font-size=\"10\" x=\"373\" y=\"276\">Conton Candy</text><text font-size=\"10\" x=\"230\" y=\"514\">MilkyyMelodies</text><text font-size=\"10\" x=\"473\" y=\"523\">Elvia</text><text font-size=\"10\" x=\"26\" y=\"214\">Blu DeTiger</text></svg>"
      ],
      "text/plain": [
       "<IPython.core.display.SVG object>"
      ]
     },
     "execution_count": 22,
     "metadata": {},
     "output_type": "execute_result"
    }
   ],
   "source": [
    "ego = top_nodes[3]\n",
    "\n",
    "G_ego = nx.ego_graph(G, ego)\n",
    "\n",
    "draw_graph(G_ego, show_names=True, node_size=3, edge_width=0.3)"
   ]
  },
  {
   "cell_type": "code",
   "execution_count": 23,
   "id": "7230b1b1",
   "metadata": {},
   "outputs": [
    {
     "data": {
      "image/svg+xml": [
       "<svg height=\"540\" width=\"845.0\" xmlns=\"http://www.w3.org/2000/svg\"><path d=\"M 358 20 377 266\" stroke=\"gray\" stroke-width=\"0.3\"/><path d=\"M 383 520 377 266\" stroke=\"gray\" stroke-width=\"0.3\"/><path d=\"M 377 266 358 20\" stroke=\"gray\" stroke-width=\"0.3\"/><path d=\"M 377 266 383 520\" stroke=\"gray\" stroke-width=\"0.3\"/><path d=\"M 377 266 128 451\" stroke=\"gray\" stroke-width=\"0.3\"/><path d=\"M 377 266 630 439\" stroke=\"gray\" stroke-width=\"0.3\"/><path d=\"M 377 266 117 96\" stroke=\"gray\" stroke-width=\"0.3\"/><path d=\"M 377 266 20 275\" stroke=\"gray\" stroke-width=\"0.3\"/><path d=\"M 377 266 606 83\" stroke=\"gray\" stroke-width=\"0.3\"/><path d=\"M 377 266 720 257\" stroke=\"gray\" stroke-width=\"0.3\"/><path d=\"M 128 451 377 266\" stroke=\"gray\" stroke-width=\"0.3\"/><path d=\"M 630 439 377 266\" stroke=\"gray\" stroke-width=\"0.3\"/><path d=\"M 117 96 377 266\" stroke=\"gray\" stroke-width=\"0.3\"/><path d=\"M 20 275 377 266\" stroke=\"gray\" stroke-width=\"0.3\"/><path d=\"M 606 83 377 266\" stroke=\"gray\" stroke-width=\"0.3\"/><path d=\"M 720 257 377 266\" stroke=\"gray\" stroke-width=\"0.3\"/><circle cx=\"358\" cy=\"20\" r=\"3.0\" style=\"fill:rgb(58, 76, 192);stroke:black;stroke-width:1.0\"/><circle cx=\"383\" cy=\"520\" r=\"3.0\" style=\"fill:rgb(58, 76, 192);stroke:black;stroke-width:1.0\"/><circle cx=\"377\" cy=\"266\" r=\"3.0\" style=\"fill:rgb(179, 3, 38);stroke:black;stroke-width:1.0\"/><circle cx=\"128\" cy=\"451\" r=\"3.0\" style=\"fill:rgb(58, 76, 192);stroke:black;stroke-width:1.0\"/><circle cx=\"630\" cy=\"439\" r=\"3.0\" style=\"fill:rgb(58, 76, 192);stroke:black;stroke-width:1.0\"/><circle cx=\"117\" cy=\"96\" r=\"3.0\" style=\"fill:rgb(58, 76, 192);stroke:black;stroke-width:1.0\"/><circle cx=\"20\" cy=\"275\" r=\"3.0\" style=\"fill:rgb(58, 76, 192);stroke:black;stroke-width:1.0\"/><circle cx=\"606\" cy=\"83\" r=\"3.0\" style=\"fill:rgb(58, 76, 192);stroke:black;stroke-width:1.0\"/><circle cx=\"720\" cy=\"257\" r=\"3.0\" style=\"fill:rgb(58, 76, 192);stroke:black;stroke-width:1.0\"/><text font-size=\"10\" x=\"364\" y=\"23\">All Time Low</text><text font-size=\"10\" x=\"389\" y=\"523\">Bobby &quot;Boris&quot; Pickett</text><text font-size=\"10\" x=\"383\" y=\"269\">Mons</text><text font-size=\"10\" x=\"134\" y=\"454\">NEGAPHONE</text><text font-size=\"10\" x=\"636\" y=\"442\">Skillet</text><text font-size=\"10\" x=\"123\" y=\"99\">Shinedown</text><text font-size=\"10\" x=\"26\" y=\"278\">LUM!X</text><text font-size=\"10\" x=\"612\" y=\"86\">Lady Gaga</text><text font-size=\"10\" x=\"726\" y=\"260\">Kanye West</text></svg>"
      ],
      "text/plain": [
       "<IPython.core.display.SVG object>"
      ]
     },
     "execution_count": 23,
     "metadata": {},
     "output_type": "execute_result"
    }
   ],
   "source": [
    "ego = top_nodes[4]\n",
    "\n",
    "G_ego = nx.ego_graph(G, ego)\n",
    "\n",
    "draw_graph(G_ego, show_names=True, node_size=3, edge_width=0.3)"
   ]
  },
  {
   "cell_type": "code",
   "execution_count": 24,
   "id": "a0260ff0",
   "metadata": {},
   "outputs": [
    {
     "data": {
      "image/svg+xml": [
       "<svg height=\"540\" width=\"790.0\" xmlns=\"http://www.w3.org/2000/svg\"><path d=\"M 565 475 351 272\" stroke=\"gray\" stroke-width=\"0.3\"/><path d=\"M 720 286 351 272\" stroke=\"gray\" stroke-width=\"0.3\"/><path d=\"M 30 147 351 272\" stroke=\"gray\" stroke-width=\"0.3\"/><path d=\"M 20 376 351 272\" stroke=\"gray\" stroke-width=\"0.3\"/><path d=\"M 259 520 351 272\" stroke=\"gray\" stroke-width=\"0.3\"/><path d=\"M 291 20 351 272\" stroke=\"gray\" stroke-width=\"0.3\"/><path d=\"M 351 272 565 475\" stroke=\"gray\" stroke-width=\"0.3\"/><path d=\"M 351 272 720 286\" stroke=\"gray\" stroke-width=\"0.3\"/><path d=\"M 351 272 30 147\" stroke=\"gray\" stroke-width=\"0.3\"/><path d=\"M 351 272 20 376\" stroke=\"gray\" stroke-width=\"0.3\"/><path d=\"M 351 272 259 520\" stroke=\"gray\" stroke-width=\"0.3\"/><path d=\"M 351 272 291 20\" stroke=\"gray\" stroke-width=\"0.3\"/><path d=\"M 351 272 602 87\" stroke=\"gray\" stroke-width=\"0.3\"/><path d=\"M 602 87 351 272\" stroke=\"gray\" stroke-width=\"0.3\"/><circle cx=\"565\" cy=\"475\" r=\"3.0\" style=\"fill:rgb(58, 76, 192);stroke:black;stroke-width:1.0\"/><circle cx=\"720\" cy=\"286\" r=\"3.0\" style=\"fill:rgb(58, 76, 192);stroke:black;stroke-width:1.0\"/><circle cx=\"30\" cy=\"147\" r=\"3.0\" style=\"fill:rgb(58, 76, 192);stroke:black;stroke-width:1.0\"/><circle cx=\"20\" cy=\"376\" r=\"3.0\" style=\"fill:rgb(58, 76, 192);stroke:black;stroke-width:1.0\"/><circle cx=\"259\" cy=\"520\" r=\"3.0\" style=\"fill:rgb(58, 76, 192);stroke:black;stroke-width:1.0\"/><circle cx=\"291\" cy=\"20\" r=\"3.0\" style=\"fill:rgb(58, 76, 192);stroke:black;stroke-width:1.0\"/><circle cx=\"351\" cy=\"272\" r=\"3.0\" style=\"fill:rgb(179, 3, 38);stroke:black;stroke-width:1.0\"/><circle cx=\"602\" cy=\"87\" r=\"3.0\" style=\"fill:rgb(58, 76, 192);stroke:black;stroke-width:1.0\"/><text font-size=\"10\" x=\"571\" y=\"478\">Big Sean</text><text font-size=\"10\" x=\"726\" y=\"289\">Nirvana</text><text font-size=\"10\" x=\"36\" y=\"150\">AzChike</text><text font-size=\"10\" x=\"26\" y=\"379\">BigChiiffa</text><text font-size=\"10\" x=\"265\" y=\"523\">Degree</text><text font-size=\"10\" x=\"297\" y=\"23\">B.B. King</text><text font-size=\"10\" x=\"357\" y=\"275\">Big Choze</text><text font-size=\"10\" x=\"608\" y=\"90\">Young Iggz</text></svg>"
      ],
      "text/plain": [
       "<IPython.core.display.SVG object>"
      ]
     },
     "execution_count": 24,
     "metadata": {},
     "output_type": "execute_result"
    }
   ],
   "source": [
    "ego = top_nodes[5]\n",
    "\n",
    "G_ego = nx.ego_graph(G, ego)\n",
    "\n",
    "draw_graph(G_ego, show_names=True, node_size=3, edge_width=0.3)"
   ]
  },
  {
   "cell_type": "code",
   "execution_count": 25,
   "id": "90dda4ba",
   "metadata": {},
   "outputs": [
    {
     "data": {
      "image/svg+xml": [
       "<svg height=\"540\" width=\"830.0\" xmlns=\"http://www.w3.org/2000/svg\"><path d=\"M 266 20 352 269\" stroke=\"gray\" stroke-width=\"0.3\"/><path d=\"M 587 476 352 269\" stroke=\"gray\" stroke-width=\"0.3\"/><path d=\"M 720 263 352 269\" stroke=\"gray\" stroke-width=\"0.3\"/><path d=\"M 270 520 352 269\" stroke=\"gray\" stroke-width=\"0.3\"/><path d=\"M 352 269 266 20\" stroke=\"gray\" stroke-width=\"0.3\"/><path d=\"M 352 269 587 476\" stroke=\"gray\" stroke-width=\"0.3\"/><path d=\"M 352 269 720 263\" stroke=\"gray\" stroke-width=\"0.3\"/><path d=\"M 352 269 270 520\" stroke=\"gray\" stroke-width=\"0.3\"/><path d=\"M 352 269 28 162\" stroke=\"gray\" stroke-width=\"0.3\"/><path d=\"M 352 269 570 56\" stroke=\"gray\" stroke-width=\"0.3\"/><path d=\"M 352 269 20 377\" stroke=\"gray\" stroke-width=\"0.3\"/><path d=\"M 28 162 352 269\" stroke=\"gray\" stroke-width=\"0.3\"/><path d=\"M 570 56 352 269\" stroke=\"gray\" stroke-width=\"0.3\"/><path d=\"M 20 377 352 269\" stroke=\"gray\" stroke-width=\"0.3\"/><circle cx=\"266\" cy=\"20\" r=\"3.0\" style=\"fill:rgb(58, 76, 192);stroke:black;stroke-width:1.0\"/><circle cx=\"587\" cy=\"476\" r=\"3.0\" style=\"fill:rgb(58, 76, 192);stroke:black;stroke-width:1.0\"/><circle cx=\"720\" cy=\"263\" r=\"3.0\" style=\"fill:rgb(58, 76, 192);stroke:black;stroke-width:1.0\"/><circle cx=\"270\" cy=\"520\" r=\"3.0\" style=\"fill:rgb(58, 76, 192);stroke:black;stroke-width:1.0\"/><circle cx=\"352\" cy=\"269\" r=\"3.0\" style=\"fill:rgb(179, 3, 38);stroke:black;stroke-width:1.0\"/><circle cx=\"28\" cy=\"162\" r=\"3.0\" style=\"fill:rgb(58, 76, 192);stroke:black;stroke-width:1.0\"/><circle cx=\"570\" cy=\"56\" r=\"3.0\" style=\"fill:rgb(58, 76, 192);stroke:black;stroke-width:1.0\"/><circle cx=\"20\" cy=\"377\" r=\"3.0\" style=\"fill:rgb(58, 76, 192);stroke:black;stroke-width:1.0\"/><text font-size=\"10\" x=\"272\" y=\"23\">Nelyoti</text><text font-size=\"10\" x=\"593\" y=\"479\">Mons</text><text font-size=\"10\" x=\"726\" y=\"266\">Abdeelgha4</text><text font-size=\"10\" x=\"276\" y=\"523\">Animals As Leaders</text><text font-size=\"10\" x=\"358\" y=\"272\">NEGAPHONE</text><text font-size=\"10\" x=\"34\" y=\"165\">B.B. King</text><text font-size=\"10\" x=\"576\" y=\"59\">Conton Candy</text><text font-size=\"10\" x=\"26\" y=\"380\">tephe</text></svg>"
      ],
      "text/plain": [
       "<IPython.core.display.SVG object>"
      ]
     },
     "execution_count": 25,
     "metadata": {},
     "output_type": "execute_result"
    }
   ],
   "source": [
    "ego = top_nodes[6]\n",
    "\n",
    "G_ego = nx.ego_graph(G, ego)\n",
    "\n",
    "draw_graph(G_ego, show_names=True, node_size=3, edge_width=0.3)"
   ]
  },
  {
   "cell_type": "code",
   "execution_count": 26,
   "id": "1322b19e",
   "metadata": {},
   "outputs": [
    {
     "data": {
      "image/svg+xml": [
       "<svg height=\"540\" width=\"820.0\" xmlns=\"http://www.w3.org/2000/svg\"><path d=\"M 351 258 720 293\" stroke=\"gray\" stroke-width=\"0.3\"/><path d=\"M 351 258 417 520\" stroke=\"gray\" stroke-width=\"0.3\"/><path d=\"M 351 258 80 75\" stroke=\"gray\" stroke-width=\"0.3\"/><path d=\"M 351 258 511 20\" stroke=\"gray\" stroke-width=\"0.3\"/><path d=\"M 351 258 20 384\" stroke=\"gray\" stroke-width=\"0.3\"/><path d=\"M 720 293 351 258\" stroke=\"gray\" stroke-width=\"0.3\"/><path d=\"M 417 520 351 258\" stroke=\"gray\" stroke-width=\"0.3\"/><path d=\"M 80 75 351 258\" stroke=\"gray\" stroke-width=\"0.3\"/><path d=\"M 511 20 351 258\" stroke=\"gray\" stroke-width=\"0.3\"/><path d=\"M 20 384 351 258\" stroke=\"gray\" stroke-width=\"0.3\"/><circle cx=\"351\" cy=\"258\" r=\"3.0\" style=\"fill:rgb(179, 3, 38);stroke:black;stroke-width:1.0\"/><circle cx=\"720\" cy=\"293\" r=\"3.0\" style=\"fill:rgb(58, 76, 192);stroke:black;stroke-width:1.0\"/><circle cx=\"417\" cy=\"520\" r=\"3.0\" style=\"fill:rgb(58, 76, 192);stroke:black;stroke-width:1.0\"/><circle cx=\"80\" cy=\"75\" r=\"3.0\" style=\"fill:rgb(58, 76, 192);stroke:black;stroke-width:1.0\"/><circle cx=\"511\" cy=\"20\" r=\"3.0\" style=\"fill:rgb(58, 76, 192);stroke:black;stroke-width:1.0\"/><circle cx=\"20\" cy=\"384\" r=\"3.0\" style=\"fill:rgb(58, 76, 192);stroke:black;stroke-width:1.0\"/><text font-size=\"10\" x=\"357\" y=\"261\">kelseyi</text><text font-size=\"10\" x=\"726\" y=\"296\">Jesse Novak</text><text font-size=\"10\" x=\"423\" y=\"523\">WeeBay</text><text font-size=\"10\" x=\"86\" y=\"78\">Kelsea Ballerini</text><text font-size=\"10\" x=\"517\" y=\"23\">Metro Station</text><text font-size=\"10\" x=\"26\" y=\"387\">Harry Hudson</text></svg>"
      ],
      "text/plain": [
       "<IPython.core.display.SVG object>"
      ]
     },
     "execution_count": 26,
     "metadata": {},
     "output_type": "execute_result"
    }
   ],
   "source": [
    "ego = top_nodes[7]\n",
    "\n",
    "G_ego = nx.ego_graph(G, ego)\n",
    "\n",
    "draw_graph(G_ego, show_names=True, node_size=3, edge_width=0.3)"
   ]
  },
  {
   "cell_type": "code",
   "execution_count": 27,
   "id": "dd7963b3",
   "metadata": {},
   "outputs": [
    {
     "data": {
      "image/svg+xml": [
       "<svg height=\"540\" width=\"785.0\" xmlns=\"http://www.w3.org/2000/svg\"><path d=\"M 381 20 368 292\" stroke=\"gray\" stroke-width=\"0.3\"/><path d=\"M 720 214 368 292\" stroke=\"gray\" stroke-width=\"0.3\"/><path d=\"M 20 194 368 292\" stroke=\"gray\" stroke-width=\"0.3\"/><path d=\"M 119 497 368 292\" stroke=\"gray\" stroke-width=\"0.3\"/><path d=\"M 368 292 381 20\" stroke=\"gray\" stroke-width=\"0.3\"/><path d=\"M 368 292 720 214\" stroke=\"gray\" stroke-width=\"0.3\"/><path d=\"M 368 292 20 194\" stroke=\"gray\" stroke-width=\"0.3\"/><path d=\"M 368 292 119 497\" stroke=\"gray\" stroke-width=\"0.3\"/><path d=\"M 368 292 572 520\" stroke=\"gray\" stroke-width=\"0.3\"/><path d=\"M 572 520 368 292\" stroke=\"gray\" stroke-width=\"0.3\"/><circle cx=\"381\" cy=\"20\" r=\"3.0\" style=\"fill:rgb(58, 76, 192);stroke:black;stroke-width:1.0\"/><circle cx=\"720\" cy=\"214\" r=\"3.0\" style=\"fill:rgb(58, 76, 192);stroke:black;stroke-width:1.0\"/><circle cx=\"20\" cy=\"194\" r=\"3.0\" style=\"fill:rgb(58, 76, 192);stroke:black;stroke-width:1.0\"/><circle cx=\"119\" cy=\"497\" r=\"3.0\" style=\"fill:rgb(58, 76, 192);stroke:black;stroke-width:1.0\"/><circle cx=\"368\" cy=\"292\" r=\"3.0\" style=\"fill:rgb(179, 3, 38);stroke:black;stroke-width:1.0\"/><circle cx=\"572\" cy=\"520\" r=\"3.0\" style=\"fill:rgb(58, 76, 192);stroke:black;stroke-width:1.0\"/><text font-size=\"10\" x=\"387\" y=\"23\">WeeBay</text><text font-size=\"10\" x=\"726\" y=\"217\">U2</text><text font-size=\"10\" x=\"26\" y=\"197\">NEGAPHONE</text><text font-size=\"10\" x=\"125\" y=\"500\">Lil Wayne</text><text font-size=\"10\" x=\"374\" y=\"295\">B.B. King</text><text font-size=\"10\" x=\"578\" y=\"523\">Big Choze</text></svg>"
      ],
      "text/plain": [
       "<IPython.core.display.SVG object>"
      ]
     },
     "execution_count": 27,
     "metadata": {},
     "output_type": "execute_result"
    }
   ],
   "source": [
    "ego = top_nodes[8]\n",
    "\n",
    "G_ego = nx.ego_graph(G, ego)\n",
    "\n",
    "draw_graph(G_ego, show_names=True, node_size=3, edge_width=0.3)"
   ]
  },
  {
   "cell_type": "code",
   "execution_count": 28,
   "id": "6cf977b9",
   "metadata": {},
   "outputs": [
    {
     "data": {
      "image/svg+xml": [
       "<svg height=\"540\" width=\"805.0\" xmlns=\"http://www.w3.org/2000/svg\"><path d=\"M 720 503 368 267\" stroke=\"gray\" stroke-width=\"0.3\"/><path d=\"M 20 29 368 267\" stroke=\"gray\" stroke-width=\"0.3\"/><path d=\"M 702 20 368 267\" stroke=\"gray\" stroke-width=\"0.3\"/><path d=\"M 368 267 720 503\" stroke=\"gray\" stroke-width=\"0.3\"/><path d=\"M 368 267 20 29\" stroke=\"gray\" stroke-width=\"0.3\"/><path d=\"M 368 267 702 20\" stroke=\"gray\" stroke-width=\"0.3\"/><path d=\"M 368 267 38 520\" stroke=\"gray\" stroke-width=\"0.3\"/><path d=\"M 38 520 368 267\" stroke=\"gray\" stroke-width=\"0.3\"/><circle cx=\"720\" cy=\"503\" r=\"3.0\" style=\"fill:rgb(58, 76, 192);stroke:black;stroke-width:1.0\"/><circle cx=\"20\" cy=\"29\" r=\"3.0\" style=\"fill:rgb(58, 76, 192);stroke:black;stroke-width:1.0\"/><circle cx=\"702\" cy=\"20\" r=\"3.0\" style=\"fill:rgb(58, 76, 192);stroke:black;stroke-width:1.0\"/><circle cx=\"368\" cy=\"267\" r=\"3.0\" style=\"fill:rgb(179, 3, 38);stroke:black;stroke-width:1.0\"/><circle cx=\"38\" cy=\"520\" r=\"3.0\" style=\"fill:rgb(58, 76, 192);stroke:black;stroke-width:1.0\"/><text font-size=\"10\" x=\"726\" y=\"506\">Isaiah Rashad</text><text font-size=\"10\" x=\"26\" y=\"32\">WeeBay</text><text font-size=\"10\" x=\"708\" y=\"23\">Boosie Badazz</text><text font-size=\"10\" x=\"374\" y=\"270\">Webbie</text><text font-size=\"10\" x=\"44\" y=\"523\">Young Thug</text></svg>"
      ],
      "text/plain": [
       "<IPython.core.display.SVG object>"
      ]
     },
     "execution_count": 28,
     "metadata": {},
     "output_type": "execute_result"
    }
   ],
   "source": [
    "ego = top_nodes[9]\n",
    "\n",
    "G_ego = nx.ego_graph(G, ego)\n",
    "\n",
    "draw_graph(G_ego, show_names=True, node_size=3, edge_width=0.3)"
   ]
  },
  {
   "cell_type": "code",
   "execution_count": 29,
   "id": "ef7164d7",
   "metadata": {},
   "outputs": [
    {
     "data": {
      "image/svg+xml": [
       "<svg height=\"540\" width=\"810.0\" xmlns=\"http://www.w3.org/2000/svg\"><path d=\"M 720 119 372 266\" stroke=\"gray\" stroke-width=\"0.3\"/><path d=\"M 574 520 372 266\" stroke=\"gray\" stroke-width=\"0.3\"/><path d=\"M 171 20 372 266\" stroke=\"gray\" stroke-width=\"0.3\"/><path d=\"M 372 266 720 119\" stroke=\"gray\" stroke-width=\"0.3\"/><path d=\"M 372 266 574 520\" stroke=\"gray\" stroke-width=\"0.3\"/><path d=\"M 372 266 171 20\" stroke=\"gray\" stroke-width=\"0.3\"/><path d=\"M 372 266 20 407\" stroke=\"gray\" stroke-width=\"0.3\"/><path d=\"M 20 407 372 266\" stroke=\"gray\" stroke-width=\"0.3\"/><circle cx=\"720\" cy=\"119\" r=\"3.0\" style=\"fill:rgb(58, 76, 192);stroke:black;stroke-width:1.0\"/><circle cx=\"574\" cy=\"520\" r=\"3.0\" style=\"fill:rgb(58, 76, 192);stroke:black;stroke-width:1.0\"/><circle cx=\"171\" cy=\"20\" r=\"3.0\" style=\"fill:rgb(58, 76, 192);stroke:black;stroke-width:1.0\"/><circle cx=\"372\" cy=\"266\" r=\"3.0\" style=\"fill:rgb(179, 3, 38);stroke:black;stroke-width:1.0\"/><circle cx=\"20\" cy=\"407\" r=\"3.0\" style=\"fill:rgb(58, 76, 192);stroke:black;stroke-width:1.0\"/><text font-size=\"10\" x=\"726\" y=\"122\">Supereffective</text><text font-size=\"10\" x=\"580\" y=\"523\">WeeBay</text><text font-size=\"10\" x=\"177\" y=\"23\">Jaydes Archive</text><text font-size=\"10\" x=\"378\" y=\"269\">Duzzy Funlop</text><text font-size=\"10\" x=\"26\" y=\"410\">Token</text></svg>"
      ],
      "text/plain": [
       "<IPython.core.display.SVG object>"
      ]
     },
     "execution_count": 29,
     "metadata": {},
     "output_type": "execute_result"
    }
   ],
   "source": [
    "ego = top_nodes[10]\n",
    "\n",
    "G_ego = nx.ego_graph(G, ego)\n",
    "\n",
    "draw_graph(G_ego, show_names=True, node_size=3, edge_width=0.3)"
   ]
  },
  {
   "cell_type": "code",
   "execution_count": 30,
   "id": "4eb13cf1",
   "metadata": {},
   "outputs": [
    {
     "data": {
      "image/svg+xml": [
       "<svg height=\"540\" width=\"810.0\" xmlns=\"http://www.w3.org/2000/svg\"><path d=\"M 558 520 370 270\" stroke=\"gray\" stroke-width=\"0.3\"/><path d=\"M 20 404 370 270\" stroke=\"gray\" stroke-width=\"0.3\"/><path d=\"M 178 20 370 270\" stroke=\"gray\" stroke-width=\"0.3\"/><path d=\"M 720 134 370 270\" stroke=\"gray\" stroke-width=\"0.3\"/><path d=\"M 370 270 558 520\" stroke=\"gray\" stroke-width=\"0.3\"/><path d=\"M 370 270 20 404\" stroke=\"gray\" stroke-width=\"0.3\"/><path d=\"M 370 270 178 20\" stroke=\"gray\" stroke-width=\"0.3\"/><path d=\"M 370 270 720 134\" stroke=\"gray\" stroke-width=\"0.3\"/><circle cx=\"558\" cy=\"520\" r=\"3.0\" style=\"fill:rgb(58, 76, 192);stroke:black;stroke-width:1.0\"/><circle cx=\"20\" cy=\"404\" r=\"3.0\" style=\"fill:rgb(58, 76, 192);stroke:black;stroke-width:1.0\"/><circle cx=\"178\" cy=\"20\" r=\"3.0\" style=\"fill:rgb(58, 76, 192);stroke:black;stroke-width:1.0\"/><circle cx=\"720\" cy=\"134\" r=\"3.0\" style=\"fill:rgb(58, 76, 192);stroke:black;stroke-width:1.0\"/><circle cx=\"370\" cy=\"270\" r=\"3.0\" style=\"fill:rgb(179, 3, 38);stroke:black;stroke-width:1.0\"/><text font-size=\"10\" x=\"564\" y=\"523\">WeeBay</text><text font-size=\"10\" x=\"26\" y=\"407\">Alex Nocera</text><text font-size=\"10\" x=\"184\" y=\"23\">Alexa Cappelli</text><text font-size=\"10\" x=\"726\" y=\"137\">Alex Campos</text><text font-size=\"10\" x=\"376\" y=\"273\">Alexnocap</text></svg>"
      ],
      "text/plain": [
       "<IPython.core.display.SVG object>"
      ]
     },
     "execution_count": 30,
     "metadata": {},
     "output_type": "execute_result"
    }
   ],
   "source": [
    "ego = top_nodes[11]\n",
    "\n",
    "G_ego = nx.ego_graph(G, ego)\n",
    "\n",
    "draw_graph(G_ego, show_names=True, node_size=3, edge_width=0.3)"
   ]
  },
  {
   "cell_type": "code",
   "execution_count": 31,
   "id": "ee577df8",
   "metadata": {},
   "outputs": [
    {
     "data": {
      "image/svg+xml": [
       "<svg height=\"540\" width=\"825.0\" xmlns=\"http://www.w3.org/2000/svg\"><path d=\"M 493 20 368 269\" stroke=\"gray\" stroke-width=\"0.3\"/><path d=\"M 368 269 493 20\" stroke=\"gray\" stroke-width=\"0.3\"/><path d=\"M 368 269 245 520\" stroke=\"gray\" stroke-width=\"0.3\"/><path d=\"M 368 269 720 355\" stroke=\"gray\" stroke-width=\"0.3\"/><path d=\"M 368 269 20 178\" stroke=\"gray\" stroke-width=\"0.3\"/><path d=\"M 245 520 368 269\" stroke=\"gray\" stroke-width=\"0.3\"/><path d=\"M 720 355 368 269\" stroke=\"gray\" stroke-width=\"0.3\"/><path d=\"M 20 178 368 269\" stroke=\"gray\" stroke-width=\"0.3\"/><circle cx=\"493\" cy=\"20\" r=\"3.0\" style=\"fill:rgb(58, 76, 192);stroke:black;stroke-width:1.0\"/><circle cx=\"368\" cy=\"269\" r=\"3.0\" style=\"fill:rgb(179, 3, 38);stroke:black;stroke-width:1.0\"/><circle cx=\"245\" cy=\"520\" r=\"3.0\" style=\"fill:rgb(58, 76, 192);stroke:black;stroke-width:1.0\"/><circle cx=\"720\" cy=\"355\" r=\"3.0\" style=\"fill:rgb(58, 76, 192);stroke:black;stroke-width:1.0\"/><circle cx=\"20\" cy=\"178\" r=\"3.0\" style=\"fill:rgb(58, 76, 192);stroke:black;stroke-width:1.0\"/><text font-size=\"10\" x=\"499\" y=\"23\">Abdelli</text><text font-size=\"10\" x=\"374\" y=\"272\">Abdeelgha4</text><text font-size=\"10\" x=\"251\" y=\"523\">NEGAPHONE</text><text font-size=\"10\" x=\"726\" y=\"358\">Abdallah Adel</text><text font-size=\"10\" x=\"26\" y=\"181\">Abdel Halim Hafez</text></svg>"
      ],
      "text/plain": [
       "<IPython.core.display.SVG object>"
      ]
     },
     "execution_count": 31,
     "metadata": {},
     "output_type": "execute_result"
    }
   ],
   "source": [
    "ego = top_nodes[12]\n",
    "\n",
    "G_ego = nx.ego_graph(G, ego)\n",
    "\n",
    "draw_graph(G_ego, show_names=True, node_size=3, edge_width=0.3)"
   ]
  },
  {
   "cell_type": "code",
   "execution_count": 32,
   "id": "ac1d528b",
   "metadata": {},
   "outputs": [
    {
     "data": {
      "image/svg+xml": [
       "<svg height=\"540\" width=\"785.0\" xmlns=\"http://www.w3.org/2000/svg\"><path d=\"M 20 102 363 274\" stroke=\"gray\" stroke-width=\"0.3\"/><path d=\"M 103 520 363 274\" stroke=\"gray\" stroke-width=\"0.3\"/><path d=\"M 720 457 363 274\" stroke=\"gray\" stroke-width=\"0.3\"/><path d=\"M 363 274 20 102\" stroke=\"gray\" stroke-width=\"0.3\"/><path d=\"M 363 274 103 520\" stroke=\"gray\" stroke-width=\"0.3\"/><path d=\"M 363 274 720 457\" stroke=\"gray\" stroke-width=\"0.3\"/><path d=\"M 363 274 601 20\" stroke=\"gray\" stroke-width=\"0.3\"/><path d=\"M 601 20 363 274\" stroke=\"gray\" stroke-width=\"0.3\"/><circle cx=\"20\" cy=\"102\" r=\"3.0\" style=\"fill:rgb(58, 76, 192);stroke:black;stroke-width:1.0\"/><circle cx=\"103\" cy=\"520\" r=\"3.0\" style=\"fill:rgb(58, 76, 192);stroke:black;stroke-width:1.0\"/><circle cx=\"720\" cy=\"457\" r=\"3.0\" style=\"fill:rgb(58, 76, 192);stroke:black;stroke-width:1.0\"/><circle cx=\"363\" cy=\"274\" r=\"3.0\" style=\"fill:rgb(179, 3, 38);stroke:black;stroke-width:1.0\"/><circle cx=\"601\" cy=\"20\" r=\"3.0\" style=\"fill:rgb(58, 76, 192);stroke:black;stroke-width:1.0\"/><text font-size=\"10\" x=\"26\" y=\"105\">Tyga</text><text font-size=\"10\" x=\"109\" y=\"523\">Drake</text><text font-size=\"10\" x=\"726\" y=\"460\">Jay Sean</text><text font-size=\"10\" x=\"369\" y=\"277\">Lil Wayne</text><text font-size=\"10\" x=\"607\" y=\"23\">B.B. King</text></svg>"
      ],
      "text/plain": [
       "<IPython.core.display.SVG object>"
      ]
     },
     "execution_count": 32,
     "metadata": {},
     "output_type": "execute_result"
    }
   ],
   "source": [
    "ego = top_nodes[13]\n",
    "\n",
    "G_ego = nx.ego_graph(G, ego)\n",
    "\n",
    "draw_graph(G_ego, show_names=True, node_size=3, edge_width=0.3)"
   ]
  },
  {
   "cell_type": "code",
   "execution_count": 33,
   "id": "e670aa2c",
   "metadata": {},
   "outputs": [
    {
     "data": {
      "image/svg+xml": [
       "<svg height=\"540\" width=\"810.0\" xmlns=\"http://www.w3.org/2000/svg\"><path d=\"M 20 20 276 255\" stroke=\"gray\" stroke-width=\"0.3\"/><path d=\"M 720 227 276 255\" stroke=\"gray\" stroke-width=\"0.3\"/><path d=\"M 93 520 276 255\" stroke=\"gray\" stroke-width=\"0.3\"/><path d=\"M 276 255 20 20\" stroke=\"gray\" stroke-width=\"0.3\"/><path d=\"M 276 255 720 227\" stroke=\"gray\" stroke-width=\"0.3\"/><path d=\"M 276 255 93 520\" stroke=\"gray\" stroke-width=\"0.3\"/><circle cx=\"20\" cy=\"20\" r=\"3.0\" style=\"fill:rgb(58, 76, 192);stroke:black;stroke-width:1.0\"/><circle cx=\"720\" cy=\"227\" r=\"3.0\" style=\"fill:rgb(58, 76, 192);stroke:black;stroke-width:1.0\"/><circle cx=\"93\" cy=\"520\" r=\"3.0\" style=\"fill:rgb(58, 76, 192);stroke:black;stroke-width:1.0\"/><circle cx=\"276\" cy=\"255\" r=\"3.0\" style=\"fill:rgb(179, 3, 38);stroke:black;stroke-width:1.0\"/><text font-size=\"10\" x=\"26\" y=\"23\">Baby Keem</text><text font-size=\"10\" x=\"726\" y=\"230\">U2</text><text font-size=\"10\" x=\"99\" y=\"523\">Taylor Swift</text><text font-size=\"10\" x=\"282\" y=\"258\">Kendrick Lamar</text></svg>"
      ],
      "text/plain": [
       "<IPython.core.display.SVG object>"
      ]
     },
     "execution_count": 33,
     "metadata": {},
     "output_type": "execute_result"
    }
   ],
   "source": [
    "ego = top_nodes[14]\n",
    "\n",
    "G_ego = nx.ego_graph(G, ego)\n",
    "\n",
    "draw_graph(G_ego, show_names=True, node_size=3, edge_width=0.3)"
   ]
  },
  {
   "cell_type": "code",
   "execution_count": 34,
   "id": "646511f2",
   "metadata": {},
   "outputs": [
    {
     "data": {
      "image/svg+xml": [
       "<svg height=\"540\" width=\"805.0\" xmlns=\"http://www.w3.org/2000/svg\"><path d=\"M 353 20 368 348\" stroke=\"gray\" stroke-width=\"0.3\"/><path d=\"M 720 505 368 348\" stroke=\"gray\" stroke-width=\"0.3\"/><path d=\"M 20 520 368 348\" stroke=\"gray\" stroke-width=\"0.3\"/><path d=\"M 368 348 353 20\" stroke=\"gray\" stroke-width=\"0.3\"/><path d=\"M 368 348 720 505\" stroke=\"gray\" stroke-width=\"0.3\"/><path d=\"M 368 348 20 520\" stroke=\"gray\" stroke-width=\"0.3\"/><circle cx=\"353\" cy=\"20\" r=\"3.0\" style=\"fill:rgb(58, 76, 192);stroke:black;stroke-width:1.0\"/><circle cx=\"720\" cy=\"505\" r=\"3.0\" style=\"fill:rgb(58, 76, 192);stroke:black;stroke-width:1.0\"/><circle cx=\"20\" cy=\"520\" r=\"3.0\" style=\"fill:rgb(58, 76, 192);stroke:black;stroke-width:1.0\"/><circle cx=\"368\" cy=\"348\" r=\"3.0\" style=\"fill:rgb(179, 3, 38);stroke:black;stroke-width:1.0\"/><text font-size=\"10\" x=\"359\" y=\"23\">Justine Skye</text><text font-size=\"10\" x=\"726\" y=\"508\">Lil Wayne</text><text font-size=\"10\" x=\"26\" y=\"523\">Travis Porter</text><text font-size=\"10\" x=\"374\" y=\"351\">Tyga</text></svg>"
      ],
      "text/plain": [
       "<IPython.core.display.SVG object>"
      ]
     },
     "execution_count": 34,
     "metadata": {},
     "output_type": "execute_result"
    }
   ],
   "source": [
    "ego = top_nodes[15]\n",
    "\n",
    "G_ego = nx.ego_graph(G, ego)\n",
    "\n",
    "draw_graph(G_ego, show_names=True, node_size=3, edge_width=0.3)"
   ]
  },
  {
   "cell_type": "code",
   "execution_count": 35,
   "id": "aca75f02",
   "metadata": {},
   "outputs": [
    {
     "data": {
      "image/svg+xml": [
       "<svg height=\"540\" width=\"795.0\" xmlns=\"http://www.w3.org/2000/svg\"><path d=\"M 720 413 330 318\" stroke=\"gray\" stroke-width=\"0.3\"/><path d=\"M 20 520 330 318\" stroke=\"gray\" stroke-width=\"0.3\"/><path d=\"M 241 20 330 318\" stroke=\"gray\" stroke-width=\"0.3\"/><path d=\"M 330 318 720 413\" stroke=\"gray\" stroke-width=\"0.3\"/><path d=\"M 330 318 20 520\" stroke=\"gray\" stroke-width=\"0.3\"/><path d=\"M 330 318 241 20\" stroke=\"gray\" stroke-width=\"0.3\"/><circle cx=\"720\" cy=\"413\" r=\"3.0\" style=\"fill:rgb(58, 76, 192);stroke:black;stroke-width:1.0\"/><circle cx=\"20\" cy=\"520\" r=\"3.0\" style=\"fill:rgb(58, 76, 192);stroke:black;stroke-width:1.0\"/><circle cx=\"241\" cy=\"20\" r=\"3.0\" style=\"fill:rgb(58, 76, 192);stroke:black;stroke-width:1.0\"/><circle cx=\"330\" cy=\"318\" r=\"3.0\" style=\"fill:rgb(179, 3, 38);stroke:black;stroke-width:1.0\"/><text font-size=\"10\" x=\"726\" y=\"416\">Kanye West</text><text font-size=\"10\" x=\"26\" y=\"523\">Jack Harlow</text><text font-size=\"10\" x=\"247\" y=\"23\">Big Choze</text><text font-size=\"10\" x=\"336\" y=\"321\">Big Sean</text></svg>"
      ],
      "text/plain": [
       "<IPython.core.display.SVG object>"
      ]
     },
     "execution_count": 35,
     "metadata": {},
     "output_type": "execute_result"
    }
   ],
   "source": [
    "ego = top_nodes[16]\n",
    "\n",
    "G_ego = nx.ego_graph(G, ego)\n",
    "\n",
    "draw_graph(G_ego, show_names=True, node_size=3, edge_width=0.3)"
   ]
  },
  {
   "cell_type": "code",
   "execution_count": 36,
   "id": "563015ea",
   "metadata": {},
   "outputs": [
    {
     "data": {
      "image/svg+xml": [
       "<svg height=\"540\" width=\"790.0\" xmlns=\"http://www.w3.org/2000/svg\"><path d=\"M 617 20 452 289\" stroke=\"gray\" stroke-width=\"0.3\"/><path d=\"M 720 520 452 289\" stroke=\"gray\" stroke-width=\"0.3\"/><path d=\"M 452 289 617 20\" stroke=\"gray\" stroke-width=\"0.3\"/><path d=\"M 452 289 720 520\" stroke=\"gray\" stroke-width=\"0.3\"/><path d=\"M 452 289 20 329\" stroke=\"gray\" stroke-width=\"0.3\"/><path d=\"M 20 329 452 289\" stroke=\"gray\" stroke-width=\"0.3\"/><circle cx=\"617\" cy=\"20\" r=\"3.0\" style=\"fill:rgb(58, 76, 192);stroke:black;stroke-width:1.0\"/><circle cx=\"720\" cy=\"520\" r=\"3.0\" style=\"fill:rgb(58, 76, 192);stroke:black;stroke-width:1.0\"/><circle cx=\"452\" cy=\"289\" r=\"3.0\" style=\"fill:rgb(179, 3, 38);stroke:black;stroke-width:1.0\"/><circle cx=\"20\" cy=\"329\" r=\"3.0\" style=\"fill:rgb(58, 76, 192);stroke:black;stroke-width:1.0\"/><text font-size=\"10\" x=\"623\" y=\"23\">Mons</text><text font-size=\"10\" x=\"726\" y=\"523\">Degree</text><text font-size=\"10\" x=\"458\" y=\"292\">Kanye West</text><text font-size=\"10\" x=\"26\" y=\"332\">Big Sean</text></svg>"
      ],
      "text/plain": [
       "<IPython.core.display.SVG object>"
      ]
     },
     "execution_count": 36,
     "metadata": {},
     "output_type": "execute_result"
    }
   ],
   "source": [
    "ego = top_nodes[17]\n",
    "\n",
    "G_ego = nx.ego_graph(G, ego)\n",
    "\n",
    "draw_graph(G_ego, show_names=True, node_size=3, edge_width=0.3)"
   ]
  },
  {
   "cell_type": "code",
   "execution_count": 37,
   "id": "f2254f91",
   "metadata": {},
   "outputs": [
    {
     "data": {
      "image/svg+xml": [
       "<svg height=\"540\" width=\"790.0\" xmlns=\"http://www.w3.org/2000/svg\"><path d=\"M 720 520 382 264\" stroke=\"gray\" stroke-width=\"0.3\"/><path d=\"M 20 20 382 264\" stroke=\"gray\" stroke-width=\"0.3\"/><path d=\"M 382 264 720 520\" stroke=\"gray\" stroke-width=\"0.3\"/><path d=\"M 382 264 20 20\" stroke=\"gray\" stroke-width=\"0.3\"/><circle cx=\"720\" cy=\"520\" r=\"3.0\" style=\"fill:rgb(58, 76, 192);stroke:black;stroke-width:1.0\"/><circle cx=\"20\" cy=\"20\" r=\"3.0\" style=\"fill:rgb(58, 76, 192);stroke:black;stroke-width:1.0\"/><circle cx=\"382\" cy=\"264\" r=\"3.0\" style=\"fill:rgb(179, 3, 38);stroke:black;stroke-width:1.0\"/><text font-size=\"10\" x=\"726\" y=\"523\">Rishi Rich</text><text font-size=\"10\" x=\"26\" y=\"23\">Lil Wayne</text><text font-size=\"10\" x=\"388\" y=\"267\">Jay Sean</text></svg>"
      ],
      "text/plain": [
       "<IPython.core.display.SVG object>"
      ]
     },
     "execution_count": 37,
     "metadata": {},
     "output_type": "execute_result"
    }
   ],
   "source": [
    "ego = top_nodes[18]\n",
    "\n",
    "G_ego = nx.ego_graph(G, ego)\n",
    "\n",
    "draw_graph(G_ego, show_names=True, node_size=3, edge_width=0.3)"
   ]
  },
  {
   "cell_type": "code",
   "execution_count": 38,
   "id": "26365521",
   "metadata": {},
   "outputs": [
    {
     "data": {
      "image/svg+xml": [
       "<svg height=\"540\" width=\"800.0\" xmlns=\"http://www.w3.org/2000/svg\"><path d=\"M 372 302 20 20\" stroke=\"gray\" stroke-width=\"0.3\"/><path d=\"M 372 302 720 520\" stroke=\"gray\" stroke-width=\"0.3\"/><path d=\"M 20 20 372 302\" stroke=\"gray\" stroke-width=\"0.3\"/><path d=\"M 720 520 372 302\" stroke=\"gray\" stroke-width=\"0.3\"/><circle cx=\"372\" cy=\"302\" r=\"3.0\" style=\"fill:rgb(179, 3, 38);stroke:black;stroke-width:1.0\"/><circle cx=\"20\" cy=\"20\" r=\"3.0\" style=\"fill:rgb(58, 76, 192);stroke:black;stroke-width:1.0\"/><circle cx=\"720\" cy=\"520\" r=\"3.0\" style=\"fill:rgb(58, 76, 192);stroke:black;stroke-width:1.0\"/><text font-size=\"10\" x=\"378\" y=\"305\">Drake</text><text font-size=\"10\" x=\"26\" y=\"23\">Lil Wayne</text><text font-size=\"10\" x=\"726\" y=\"523\">Travis Scott</text></svg>"
      ],
      "text/plain": [
       "<IPython.core.display.SVG object>"
      ]
     },
     "execution_count": 38,
     "metadata": {},
     "output_type": "execute_result"
    }
   ],
   "source": [
    "ego = top_nodes[19]\n",
    "\n",
    "G_ego = nx.ego_graph(G, ego)\n",
    "\n",
    "draw_graph(G_ego, show_names=True, node_size=3, edge_width=0.3)"
   ]
  },
  {
   "cell_type": "markdown",
   "id": "c41a5cc6",
   "metadata": {},
   "source": [
    "# Shortest Paths\n",
    "\n",
    "In a collaboration network, shortest paths can be interesting, to know how to get from one person to another, or one artist to another.\n",
    "\n",
    "What in the world did Lil Wayne do with B.B. King? "
   ]
  },
  {
   "cell_type": "code",
   "execution_count": 39,
   "id": "47ba1a04",
   "metadata": {},
   "outputs": [
    {
     "data": {
      "text/plain": [
       "['B.B. King', 'Lil Wayne']"
      ]
     },
     "execution_count": 39,
     "metadata": {},
     "output_type": "execute_result"
    }
   ],
   "source": [
    "nx.shortest_path(G, 'B.B. King', 'Lil Wayne')"
   ]
  },
  {
   "cell_type": "code",
   "execution_count": 42,
   "id": "10c41904",
   "metadata": {},
   "outputs": [
    {
     "data": {
      "image/svg+xml": [
       "<svg height=\"540\" width=\"830.0\" xmlns=\"http://www.w3.org/2000/svg\"><path d=\"M 20 168 173 165\" stroke=\"gray\" stroke-width=\"0.3\"/><path d=\"M 42 131 173 165\" stroke=\"gray\" stroke-width=\"0.3\"/><path d=\"M 151 426 272 432\" stroke=\"gray\" stroke-width=\"0.3\"/><path d=\"M 303 520 272 432\" stroke=\"gray\" stroke-width=\"0.3\"/><path d=\"M 360 497 272 432\" stroke=\"gray\" stroke-width=\"0.3\"/><path d=\"M 263 182 173 165\" stroke=\"gray\" stroke-width=\"0.3\"/><path d=\"M 176 501 272 432\" stroke=\"gray\" stroke-width=\"0.3\"/><path d=\"M 603 20 566 110\" stroke=\"gray\" stroke-width=\"0.3\"/><path d=\"M 493 436 468 365\" stroke=\"gray\" stroke-width=\"0.3\"/><path d=\"M 665 41 566 110\" stroke=\"gray\" stroke-width=\"0.3\"/><path d=\"M 570 413 468 365\" stroke=\"gray\" stroke-width=\"0.3\"/><path d=\"M 704 74 566 110\" stroke=\"gray\" stroke-width=\"0.3\"/><path d=\"M 262 121 173 165\" stroke=\"gray\" stroke-width=\"0.3\"/><path d=\"M 58 207 173 165\" stroke=\"gray\" stroke-width=\"0.3\"/><path d=\"M 398 265 272 432\" stroke=\"gray\" stroke-width=\"0.3\"/><path d=\"M 398 265 173 165\" stroke=\"gray\" stroke-width=\"0.3\"/><path d=\"M 398 265 579 278\" stroke=\"gray\" stroke-width=\"0.3\"/><path d=\"M 398 265 566 110\" stroke=\"gray\" stroke-width=\"0.3\"/><path d=\"M 398 265 468 365\" stroke=\"gray\" stroke-width=\"0.3\"/><path d=\"M 177 75 173 165\" stroke=\"gray\" stroke-width=\"0.3\"/><path d=\"M 697 117 566 110\" stroke=\"gray\" stroke-width=\"0.3\"/><path d=\"M 272 432 151 426\" stroke=\"gray\" stroke-width=\"0.3\"/><path d=\"M 272 432 303 520\" stroke=\"gray\" stroke-width=\"0.3\"/><path d=\"M 272 432 360 497\" stroke=\"gray\" stroke-width=\"0.3\"/><path d=\"M 272 432 176 501\" stroke=\"gray\" stroke-width=\"0.3\"/><path d=\"M 272 432 398 265\" stroke=\"gray\" stroke-width=\"0.3\"/><path d=\"M 272 432 236 519\" stroke=\"gray\" stroke-width=\"0.3\"/><path d=\"M 272 432 137 468\" stroke=\"gray\" stroke-width=\"0.3\"/><path d=\"M 154 224 173 165\" stroke=\"gray\" stroke-width=\"0.3\"/><path d=\"M 74 92 173 165\" stroke=\"gray\" stroke-width=\"0.3\"/><path d=\"M 720 291 579 278\" stroke=\"gray\" stroke-width=\"0.3\"/><path d=\"M 146 108 173 165\" stroke=\"gray\" stroke-width=\"0.3\"/><path d=\"M 173 165 20 168\" stroke=\"gray\" stroke-width=\"0.3\"/><path d=\"M 173 165 42 131\" stroke=\"gray\" stroke-width=\"0.3\"/><path d=\"M 173 165 263 182\" stroke=\"gray\" stroke-width=\"0.3\"/><path d=\"M 173 165 262 121\" stroke=\"gray\" stroke-width=\"0.3\"/><path d=\"M 173 165 58 207\" stroke=\"gray\" stroke-width=\"0.3\"/><path d=\"M 173 165 398 265\" stroke=\"gray\" stroke-width=\"0.3\"/><path d=\"M 173 165 177 75\" stroke=\"gray\" stroke-width=\"0.3\"/><path d=\"M 173 165 154 224\" stroke=\"gray\" stroke-width=\"0.3\"/><path d=\"M 173 165 74 92\" stroke=\"gray\" stroke-width=\"0.3\"/><path d=\"M 173 165 146 108\" stroke=\"gray\" stroke-width=\"0.3\"/><path d=\"M 579 278 398 265\" stroke=\"gray\" stroke-width=\"0.3\"/><path d=\"M 579 278 720 291\" stroke=\"gray\" stroke-width=\"0.3\"/><path d=\"M 512 27 566 110\" stroke=\"gray\" stroke-width=\"0.3\"/><path d=\"M 557 56 566 110\" stroke=\"gray\" stroke-width=\"0.3\"/><path d=\"M 566 110 603 20\" stroke=\"gray\" stroke-width=\"0.3\"/><path d=\"M 566 110 665 41\" stroke=\"gray\" stroke-width=\"0.3\"/><path d=\"M 566 110 704 74\" stroke=\"gray\" stroke-width=\"0.3\"/><path d=\"M 566 110 398 265\" stroke=\"gray\" stroke-width=\"0.3\"/><path d=\"M 566 110 697 117\" stroke=\"gray\" stroke-width=\"0.3\"/><path d=\"M 566 110 512 27\" stroke=\"gray\" stroke-width=\"0.3\"/><path d=\"M 566 110 557 56\" stroke=\"gray\" stroke-width=\"0.3\"/><path d=\"M 468 365 493 436\" stroke=\"gray\" stroke-width=\"0.3\"/><path d=\"M 468 365 570 413\" stroke=\"gray\" stroke-width=\"0.3\"/><path d=\"M 468 365 398 265\" stroke=\"gray\" stroke-width=\"0.3\"/><path d=\"M 468 365 382 388\" stroke=\"gray\" stroke-width=\"0.3\"/><path d=\"M 382 388 468 365\" stroke=\"gray\" stroke-width=\"0.3\"/><path d=\"M 236 519 272 432\" stroke=\"gray\" stroke-width=\"0.3\"/><path d=\"M 137 468 272 432\" stroke=\"gray\" stroke-width=\"0.3\"/><circle cx=\"20\" cy=\"168\" r=\"4.0\" style=\"fill:rgb(58, 76, 192);stroke:black;stroke-width:1.0\"/><circle cx=\"42\" cy=\"131\" r=\"4.0\" style=\"fill:rgb(58, 76, 192);stroke:black;stroke-width:1.0\"/><circle cx=\"151\" cy=\"426\" r=\"4.0\" style=\"fill:rgb(58, 76, 192);stroke:black;stroke-width:1.0\"/><circle cx=\"303\" cy=\"520\" r=\"4.0\" style=\"fill:rgb(58, 76, 192);stroke:black;stroke-width:1.0\"/><circle cx=\"360\" cy=\"497\" r=\"4.0\" style=\"fill:rgb(58, 76, 192);stroke:black;stroke-width:1.0\"/><circle cx=\"263\" cy=\"182\" r=\"4.0\" style=\"fill:rgb(58, 76, 192);stroke:black;stroke-width:1.0\"/><circle cx=\"176\" cy=\"501\" r=\"4.0\" style=\"fill:rgb(58, 76, 192);stroke:black;stroke-width:1.0\"/><circle cx=\"603\" cy=\"20\" r=\"4.0\" style=\"fill:rgb(58, 76, 192);stroke:black;stroke-width:1.0\"/><circle cx=\"493\" cy=\"436\" r=\"4.0\" style=\"fill:rgb(58, 76, 192);stroke:black;stroke-width:1.0\"/><circle cx=\"665\" cy=\"41\" r=\"4.0\" style=\"fill:rgb(58, 76, 192);stroke:black;stroke-width:1.0\"/><circle cx=\"570\" cy=\"413\" r=\"4.0\" style=\"fill:rgb(58, 76, 192);stroke:black;stroke-width:1.0\"/><circle cx=\"704\" cy=\"74\" r=\"4.0\" style=\"fill:rgb(58, 76, 192);stroke:black;stroke-width:1.0\"/><circle cx=\"262\" cy=\"121\" r=\"4.0\" style=\"fill:rgb(58, 76, 192);stroke:black;stroke-width:1.0\"/><circle cx=\"58\" cy=\"207\" r=\"4.0\" style=\"fill:rgb(58, 76, 192);stroke:black;stroke-width:1.0\"/><circle cx=\"398\" cy=\"265\" r=\"4.0\" style=\"fill:rgb(231, 214, 204);stroke:black;stroke-width:1.0\"/><circle cx=\"177\" cy=\"75\" r=\"4.0\" style=\"fill:rgb(58, 76, 192);stroke:black;stroke-width:1.0\"/><circle cx=\"697\" cy=\"117\" r=\"4.0\" style=\"fill:rgb(58, 76, 192);stroke:black;stroke-width:1.0\"/><circle cx=\"272\" cy=\"432\" r=\"4.0\" style=\"fill:rgb(246, 183, 156);stroke:black;stroke-width:1.0\"/><circle cx=\"154\" cy=\"224\" r=\"4.0\" style=\"fill:rgb(58, 76, 192);stroke:black;stroke-width:1.0\"/><circle cx=\"74\" cy=\"92\" r=\"4.0\" style=\"fill:rgb(58, 76, 192);stroke:black;stroke-width:1.0\"/><circle cx=\"720\" cy=\"291\" r=\"4.0\" style=\"fill:rgb(58, 76, 192);stroke:black;stroke-width:1.0\"/><circle cx=\"146\" cy=\"108\" r=\"4.0\" style=\"fill:rgb(58, 76, 192);stroke:black;stroke-width:1.0\"/><circle cx=\"173\" cy=\"165\" r=\"4.0\" style=\"fill:rgb(179, 3, 38);stroke:black;stroke-width:1.0\"/><circle cx=\"579\" cy=\"278\" r=\"4.0\" style=\"fill:rgb(82, 110, 220);stroke:black;stroke-width:1.0\"/><circle cx=\"512\" cy=\"27\" r=\"4.0\" style=\"fill:rgb(58, 76, 192);stroke:black;stroke-width:1.0\"/><circle cx=\"557\" cy=\"56\" r=\"4.0\" style=\"fill:rgb(58, 76, 192);stroke:black;stroke-width:1.0\"/><circle cx=\"566\" cy=\"110\" r=\"4.0\" style=\"fill:rgb(246, 183, 156);stroke:black;stroke-width:1.0\"/><circle cx=\"468\" cy=\"365\" r=\"4.0\" style=\"fill:rgb(166, 195, 253);stroke:black;stroke-width:1.0\"/><circle cx=\"382\" cy=\"388\" r=\"4.0\" style=\"fill:rgb(58, 76, 192);stroke:black;stroke-width:1.0\"/><circle cx=\"236\" cy=\"519\" r=\"4.0\" style=\"fill:rgb(58, 76, 192);stroke:black;stroke-width:1.0\"/><circle cx=\"137\" cy=\"468\" r=\"4.0\" style=\"fill:rgb(58, 76, 192);stroke:black;stroke-width:1.0\"/><text font-size=\"10\" x=\"27\" y=\"172\">kelseyi</text><text font-size=\"10\" x=\"49\" y=\"135\">Jason Aldean</text><text font-size=\"10\" x=\"158\" y=\"430\">Big Sean</text><text font-size=\"10\" x=\"310\" y=\"524\">Nirvana</text><text font-size=\"10\" x=\"367\" y=\"501\">AzChike</text><text font-size=\"10\" x=\"270\" y=\"186\">Baye Mass</text><text font-size=\"10\" x=\"183\" y=\"505\">Degree</text><text font-size=\"10\" x=\"610\" y=\"24\">tephe</text><text font-size=\"10\" x=\"500\" y=\"440\">Tyga</text><text font-size=\"10\" x=\"672\" y=\"45\">Nelyoti</text><text font-size=\"10\" x=\"577\" y=\"417\">Drake</text><text font-size=\"10\" x=\"711\" y=\"78\">Mons</text><text font-size=\"10\" x=\"269\" y=\"125\">ShittyBoyz</text><text font-size=\"10\" x=\"65\" y=\"211\">Webbie</text><text font-size=\"10\" x=\"405\" y=\"269\">B.B. King</text><text font-size=\"10\" x=\"184\" y=\"79\">Duzzy Funlop</text><text font-size=\"10\" x=\"704\" y=\"121\">Conton Candy</text><text font-size=\"10\" x=\"279\" y=\"436\">Big Choze</text><text font-size=\"10\" x=\"161\" y=\"228\">Ace Hood</text><text font-size=\"10\" x=\"81\" y=\"96\">Edot Babyy</text><text font-size=\"10\" x=\"727\" y=\"295\">Kendrick Lamar</text><text font-size=\"10\" x=\"153\" y=\"112\">Alexnocap</text><text font-size=\"10\" x=\"180\" y=\"169\">WeeBay</text><text font-size=\"10\" x=\"586\" y=\"282\">U2</text><text font-size=\"10\" x=\"519\" y=\"31\">Abdeelgha4</text><text font-size=\"10\" x=\"564\" y=\"60\">Animals As Leaders</text><text font-size=\"10\" x=\"573\" y=\"114\">NEGAPHONE</text><text font-size=\"10\" x=\"475\" y=\"369\">Lil Wayne</text><text font-size=\"10\" x=\"389\" y=\"392\">Jay Sean</text><text font-size=\"10\" x=\"243\" y=\"523\">BigChiiffa</text><text font-size=\"10\" x=\"144\" y=\"472\">Young Iggz</text></svg>"
      ],
      "text/plain": [
       "<IPython.core.display.SVG object>"
      ]
     },
     "execution_count": 42,
     "metadata": {},
     "output_type": "execute_result"
    }
   ],
   "source": [
    "ego = 'B.B. King'\n",
    "\n",
    "G_ego = nx.ego_graph(G, ego, 2)\n",
    "\n",
    "draw_graph(G_ego, show_names=True, node_size=4, edge_width=0.3)"
   ]
  },
  {
   "cell_type": "markdown",
   "id": "87c48f30",
   "metadata": {},
   "source": [
    "# Next Steps\n",
    "\n",
    "This is a very useful tool for looking at collaboration networks in music. Some musicians do not collaborate with other musicians, so the spotify crawler returns smaller networks than the wikipedia crawler. But these are direct relationships from differerent musical collaborations, searched via the Spotify API.\n",
    "\n",
    "Next steps are to troubleshoot this crawler. There are likely bugs, in the current state. "
   ]
  },
  {
   "cell_type": "code",
   "execution_count": null,
   "id": "9c1f8b70",
   "metadata": {},
   "outputs": [],
   "source": []
  }
 ],
 "metadata": {
  "kernelspec": {
   "display_name": "Python 3",
   "language": "python",
   "name": "python3"
  },
  "language_info": {
   "codemirror_mode": {
    "name": "ipython",
    "version": 3
   },
   "file_extension": ".py",
   "mimetype": "text/x-python",
   "name": "python",
   "nbconvert_exporter": "python",
   "pygments_lexer": "ipython3",
   "version": "3.7.16"
  }
 },
 "nbformat": 4,
 "nbformat_minor": 5
}
