{
 "cells": [
  {
   "cell_type": "code",
   "execution_count": 1,
   "id": "7d18c815",
   "metadata": {},
   "outputs": [],
   "source": [
    "import networkx as nx\n",
    "import numpy as np\n",
    "import pandas as pd\n",
    "\n",
    "from IPython.display import SVG \n",
    "from sknetwork.visualization import svg_graph \n",
    "from sknetwork.data import Bunch \n",
    "from sknetwork.ranking import PageRank "
   ]
  },
  {
   "cell_type": "code",
   "execution_count": 2,
   "id": "0e8c36c4",
   "metadata": {},
   "outputs": [],
   "source": [
    "def draw_graph(G, show_names=False, node_size=1, font_size=10, edge_width=0.5): \n",
    "\n",
    "    adjacency = nx.to_scipy_sparse_matrix(G, nodelist=None, dtype=None, weight='weight', format='csr') \n",
    "\n",
    "    names = np.array(list(G.nodes())) \n",
    "\n",
    "    graph = Bunch() \n",
    "    graph.adjacency = adjacency \n",
    "    graph.names = np.array(names) \n",
    "\n",
    "    pagerank = PageRank() \n",
    "\n",
    "    scores = pagerank.fit_transform(adjacency) \n",
    "\n",
    "    if show_names: \n",
    "        \n",
    "        image = svg_graph(graph.adjacency, font_size=font_size, node_size=node_size, names=graph.names, width=700, height=500, scores=scores, edge_width=edge_width) \n",
    "\n",
    "    else: \n",
    "\n",
    "        image = svg_graph(graph.adjacency, node_size=node_size, width=700, height=500, scores = scores, edge_width=edge_width) \n",
    "\n",
    "    return SVG(image) "
   ]
  },
  {
   "cell_type": "code",
   "execution_count": 3,
   "id": "5e7e69f4",
   "metadata": {},
   "outputs": [
    {
     "data": {
      "text/html": [
       "<div>\n",
       "<style scoped>\n",
       "    .dataframe tbody tr th:only-of-type {\n",
       "        vertical-align: middle;\n",
       "    }\n",
       "\n",
       "    .dataframe tbody tr th {\n",
       "        vertical-align: top;\n",
       "    }\n",
       "\n",
       "    .dataframe thead th {\n",
       "        text-align: right;\n",
       "    }\n",
       "</style>\n",
       "<table border=\"1\" class=\"dataframe\">\n",
       "  <thead>\n",
       "    <tr style=\"text-align: right;\">\n",
       "      <th></th>\n",
       "      <th>source</th>\n",
       "      <th>target</th>\n",
       "    </tr>\n",
       "  </thead>\n",
       "  <tbody>\n",
       "    <tr>\n",
       "      <th>0</th>\n",
       "      <td>B.B. King</td>\n",
       "      <td>NEGAPHONE</td>\n",
       "    </tr>\n",
       "    <tr>\n",
       "      <th>1</th>\n",
       "      <td>B.B. King</td>\n",
       "      <td>WeeBay</td>\n",
       "    </tr>\n",
       "    <tr>\n",
       "      <th>2</th>\n",
       "      <td>B.B. King</td>\n",
       "      <td>Big Choze</td>\n",
       "    </tr>\n",
       "    <tr>\n",
       "      <th>3</th>\n",
       "      <td>B.B. King</td>\n",
       "      <td>U2</td>\n",
       "    </tr>\n",
       "    <tr>\n",
       "      <th>4</th>\n",
       "      <td>B.B. King</td>\n",
       "      <td>Lil Wayne</td>\n",
       "    </tr>\n",
       "  </tbody>\n",
       "</table>\n",
       "</div>"
      ],
      "text/plain": [
       "      source     target\n",
       "0  B.B. King  NEGAPHONE\n",
       "1  B.B. King     WeeBay\n",
       "2  B.B. King  Big Choze\n",
       "3  B.B. King         U2\n",
       "4  B.B. King  Lil Wayne"
      ]
     },
     "execution_count": 3,
     "metadata": {},
     "output_type": "execute_result"
    }
   ],
   "source": [
    "data = r'data/spotify_bbking_edgelist.csv'\n",
    "\n",
    "df = pd.read_csv(data)\n",
    "df.head()"
   ]
  },
  {
   "cell_type": "code",
   "execution_count": 4,
   "id": "5296a3e1",
   "metadata": {},
   "outputs": [],
   "source": [
    "G = nx.from_pandas_edgelist(df)\n",
    "\n",
    "# drop the seed nodes; we will have proper names from pages found\n",
    "seed_nodes = ['network science', 'social network analysis', 'graph theory', 'causal inference']\n",
    "G.remove_nodes_from(seed_nodes)"
   ]
  },
  {
   "cell_type": "code",
   "execution_count": 5,
   "id": "e7936819",
   "metadata": {},
   "outputs": [
    {
     "name": "stdout",
     "output_type": "stream",
     "text": [
      "Graph with 87 nodes and 88 edges\n"
     ]
    }
   ],
   "source": [
    "print(nx.info(G))"
   ]
  },
  {
   "cell_type": "code",
   "execution_count": 8,
   "id": "c3b2b9ba",
   "metadata": {},
   "outputs": [
    {
     "data": {
      "image/svg+xml": [
       "<svg height=\"540\" width=\"935.0\" xmlns=\"http://www.w3.org/2000/svg\"><path d=\"M 339 239 419 314\" stroke=\"gray\" stroke-width=\"0.1\"/><path d=\"M 339 239 390 240\" stroke=\"gray\" stroke-width=\"0.1\"/><path d=\"M 339 239 486 217\" stroke=\"gray\" stroke-width=\"0.1\"/><path d=\"M 339 239 240 298\" stroke=\"gray\" stroke-width=\"0.1\"/><path d=\"M 339 239 210 161\" stroke=\"gray\" stroke-width=\"0.1\"/><path d=\"M 419 314 339 239\" stroke=\"gray\" stroke-width=\"0.1\"/><path d=\"M 419 314 452 285\" stroke=\"gray\" stroke-width=\"0.1\"/><path d=\"M 419 314 368 455\" stroke=\"gray\" stroke-width=\"0.1\"/><path d=\"M 419 314 251 189\" stroke=\"gray\" stroke-width=\"0.1\"/><path d=\"M 419 314 461 318\" stroke=\"gray\" stroke-width=\"0.1\"/><path d=\"M 419 314 501 414\" stroke=\"gray\" stroke-width=\"0.1\"/><path d=\"M 419 314 627 291\" stroke=\"gray\" stroke-width=\"0.1\"/><path d=\"M 390 240 339 239\" stroke=\"gray\" stroke-width=\"0.1\"/><path d=\"M 390 240 380 180\" stroke=\"gray\" stroke-width=\"0.1\"/><path d=\"M 390 240 412 188\" stroke=\"gray\" stroke-width=\"0.1\"/><path d=\"M 390 240 488 276\" stroke=\"gray\" stroke-width=\"0.1\"/><path d=\"M 390 240 326 342\" stroke=\"gray\" stroke-width=\"0.1\"/><path d=\"M 390 240 344 213\" stroke=\"gray\" stroke-width=\"0.1\"/><path d=\"M 390 240 357 283\" stroke=\"gray\" stroke-width=\"0.1\"/><path d=\"M 390 240 323 260\" stroke=\"gray\" stroke-width=\"0.1\"/><path d=\"M 390 240 495 153\" stroke=\"gray\" stroke-width=\"0.1\"/><path d=\"M 390 240 305 239\" stroke=\"gray\" stroke-width=\"0.1\"/><path d=\"M 486 217 339 239\" stroke=\"gray\" stroke-width=\"0.1\"/><path d=\"M 486 217 527 179\" stroke=\"gray\" stroke-width=\"0.1\"/><path d=\"M 486 217 585 177\" stroke=\"gray\" stroke-width=\"0.1\"/><path d=\"M 486 217 570 308\" stroke=\"gray\" stroke-width=\"0.1\"/><path d=\"M 486 217 396 197\" stroke=\"gray\" stroke-width=\"0.1\"/><path d=\"M 486 217 523 160\" stroke=\"gray\" stroke-width=\"0.1\"/><path d=\"M 486 217 519 203\" stroke=\"gray\" stroke-width=\"0.1\"/><path d=\"M 240 298 339 239\" stroke=\"gray\" stroke-width=\"0.1\"/><path d=\"M 240 298 161 348\" stroke=\"gray\" stroke-width=\"0.1\"/><path d=\"M 210 161 339 239\" stroke=\"gray\" stroke-width=\"0.1\"/><path d=\"M 210 161 97 147\" stroke=\"gray\" stroke-width=\"0.1\"/><path d=\"M 210 161 167 77\" stroke=\"gray\" stroke-width=\"0.1\"/><path d=\"M 210 161 181 178\" stroke=\"gray\" stroke-width=\"0.1\"/><path d=\"M 527 179 486 217\" stroke=\"gray\" stroke-width=\"0.1\"/><path d=\"M 527 179 495 114\" stroke=\"gray\" stroke-width=\"0.1\"/><path d=\"M 527 179 581 244\" stroke=\"gray\" stroke-width=\"0.1\"/><path d=\"M 585 177 486 217\" stroke=\"gray\" stroke-width=\"0.1\"/><path d=\"M 585 177 661 150\" stroke=\"gray\" stroke-width=\"0.1\"/><path d=\"M 570 308 486 217\" stroke=\"gray\" stroke-width=\"0.1\"/><path d=\"M 570 308 581 244\" stroke=\"gray\" stroke-width=\"0.1\"/><path d=\"M 570 308 612 277\" stroke=\"gray\" stroke-width=\"0.1\"/><path d=\"M 570 308 514 336\" stroke=\"gray\" stroke-width=\"0.1\"/><path d=\"M 570 308 594 364\" stroke=\"gray\" stroke-width=\"0.1\"/><path d=\"M 570 308 627 336\" stroke=\"gray\" stroke-width=\"0.1\"/><path d=\"M 570 308 538 357\" stroke=\"gray\" stroke-width=\"0.1\"/><path d=\"M 570 308 563 366\" stroke=\"gray\" stroke-width=\"0.1\"/><path d=\"M 570 308 621 356\" stroke=\"gray\" stroke-width=\"0.1\"/><path d=\"M 570 308 626 314\" stroke=\"gray\" stroke-width=\"0.1\"/><path d=\"M 396 197 486 217\" stroke=\"gray\" stroke-width=\"0.1\"/><path d=\"M 396 197 322 189\" stroke=\"gray\" stroke-width=\"0.1\"/><path d=\"M 523 160 486 217\" stroke=\"gray\" stroke-width=\"0.1\"/><path d=\"M 519 203 486 217\" stroke=\"gray\" stroke-width=\"0.1\"/><path d=\"M 97 147 210 161\" stroke=\"gray\" stroke-width=\"0.1\"/><path d=\"M 97 147 20 146\" stroke=\"gray\" stroke-width=\"0.1\"/><path d=\"M 167 77 210 161\" stroke=\"gray\" stroke-width=\"0.1\"/><path d=\"M 167 77 142 20\" stroke=\"gray\" stroke-width=\"0.1\"/><path d=\"M 181 178 210 161\" stroke=\"gray\" stroke-width=\"0.1\"/><path d=\"M 181 178 120 204\" stroke=\"gray\" stroke-width=\"0.1\"/><path d=\"M 181 178 240 149\" stroke=\"gray\" stroke-width=\"0.1\"/><path d=\"M 452 285 419 314\" stroke=\"gray\" stroke-width=\"0.1\"/><path d=\"M 368 455 419 314\" stroke=\"gray\" stroke-width=\"0.1\"/><path d=\"M 368 455 386 514\" stroke=\"gray\" stroke-width=\"0.1\"/><path d=\"M 368 455 340 512\" stroke=\"gray\" stroke-width=\"0.1\"/><path d=\"M 368 455 398 474\" stroke=\"gray\" stroke-width=\"0.1\"/><path d=\"M 368 455 315 506\" stroke=\"gray\" stroke-width=\"0.1\"/><path d=\"M 368 455 308 488\" stroke=\"gray\" stroke-width=\"0.1\"/><path d=\"M 368 455 363 520\" stroke=\"gray\" stroke-width=\"0.1\"/><path d=\"M 368 455 401 500\" stroke=\"gray\" stroke-width=\"0.1\"/><path d=\"M 368 455 319 466\" stroke=\"gray\" stroke-width=\"0.1\"/><path d=\"M 251 189 419 314\" stroke=\"gray\" stroke-width=\"0.1\"/><path d=\"M 251 189 185 211\" stroke=\"gray\" stroke-width=\"0.1\"/><path d=\"M 251 189 175 164\" stroke=\"gray\" stroke-width=\"0.1\"/><path d=\"M 251 189 192 135\" stroke=\"gray\" stroke-width=\"0.1\"/><path d=\"M 251 189 169 148\" stroke=\"gray\" stroke-width=\"0.1\"/><path d=\"M 251 189 216 128\" stroke=\"gray\" stroke-width=\"0.1\"/><path d=\"M 251 189 258 126\" stroke=\"gray\" stroke-width=\"0.1\"/><path d=\"M 251 189 163 188\" stroke=\"gray\" stroke-width=\"0.1\"/><path d=\"M 251 189 237 117\" stroke=\"gray\" stroke-width=\"0.1\"/><path d=\"M 461 318 419 314\" stroke=\"gray\" stroke-width=\"0.1\"/><path d=\"M 501 414 419 314\" stroke=\"gray\" stroke-width=\"0.1\"/><path d=\"M 501 414 549 467\" stroke=\"gray\" stroke-width=\"0.1\"/><path d=\"M 501 414 516 472\" stroke=\"gray\" stroke-width=\"0.1\"/><path d=\"M 501 414 569 452\" stroke=\"gray\" stroke-width=\"0.1\"/><path d=\"M 627 291 419 314\" stroke=\"gray\" stroke-width=\"0.1\"/><path d=\"M 627 291 581 244\" stroke=\"gray\" stroke-width=\"0.1\"/><path d=\"M 627 291 720 279\" stroke=\"gray\" stroke-width=\"0.1\"/><path d=\"M 627 291 712 323\" stroke=\"gray\" stroke-width=\"0.1\"/><path d=\"M 627 291 718 299\" stroke=\"gray\" stroke-width=\"0.1\"/><path d=\"M 627 291 698 250\" stroke=\"gray\" stroke-width=\"0.1\"/><path d=\"M 627 291 693 316\" stroke=\"gray\" stroke-width=\"0.1\"/><path d=\"M 627 291 697 269\" stroke=\"gray\" stroke-width=\"0.1\"/><path d=\"M 161 348 240 298\" stroke=\"gray\" stroke-width=\"0.1\"/><path d=\"M 161 348 102 371\" stroke=\"gray\" stroke-width=\"0.1\"/><path d=\"M 161 348 142 390\" stroke=\"gray\" stroke-width=\"0.1\"/><path d=\"M 380 180 390 240\" stroke=\"gray\" stroke-width=\"0.1\"/><path d=\"M 412 188 390 240\" stroke=\"gray\" stroke-width=\"0.1\"/><path d=\"M 488 276 390 240\" stroke=\"gray\" stroke-width=\"0.1\"/><path d=\"M 488 276 542 312\" stroke=\"gray\" stroke-width=\"0.1\"/><path d=\"M 488 276 532 246\" stroke=\"gray\" stroke-width=\"0.1\"/><path d=\"M 488 276 518 317\" stroke=\"gray\" stroke-width=\"0.1\"/><path d=\"M 326 342 390 240\" stroke=\"gray\" stroke-width=\"0.1\"/><path d=\"M 326 342 264 383\" stroke=\"gray\" stroke-width=\"0.1\"/><path d=\"M 326 342 285 397\" stroke=\"gray\" stroke-width=\"0.1\"/><path d=\"M 326 342 350 387\" stroke=\"gray\" stroke-width=\"0.1\"/><path d=\"M 326 342 316 385\" stroke=\"gray\" stroke-width=\"0.1\"/><path d=\"M 344 213 390 240\" stroke=\"gray\" stroke-width=\"0.1\"/><path d=\"M 357 283 390 240\" stroke=\"gray\" stroke-width=\"0.1\"/><path d=\"M 323 260 390 240\" stroke=\"gray\" stroke-width=\"0.1\"/><path d=\"M 495 153 390 240\" stroke=\"gray\" stroke-width=\"0.1\"/><path d=\"M 495 153 559 107\" stroke=\"gray\" stroke-width=\"0.1\"/><path d=\"M 495 153 527 97\" stroke=\"gray\" stroke-width=\"0.1\"/><path d=\"M 495 153 578 132\" stroke=\"gray\" stroke-width=\"0.1\"/><path d=\"M 305 239 390 240\" stroke=\"gray\" stroke-width=\"0.1\"/><path d=\"M 305 239 254 271\" stroke=\"gray\" stroke-width=\"0.1\"/><path d=\"M 305 239 284 192\" stroke=\"gray\" stroke-width=\"0.1\"/><path d=\"M 305 239 330 271\" stroke=\"gray\" stroke-width=\"0.1\"/><path d=\"M 549 467 501 414\" stroke=\"gray\" stroke-width=\"0.1\"/><path d=\"M 516 472 501 414\" stroke=\"gray\" stroke-width=\"0.1\"/><path d=\"M 569 452 501 414\" stroke=\"gray\" stroke-width=\"0.1\"/><path d=\"M 542 312 488 276\" stroke=\"gray\" stroke-width=\"0.1\"/><path d=\"M 532 246 488 276\" stroke=\"gray\" stroke-width=\"0.1\"/><path d=\"M 518 317 488 276\" stroke=\"gray\" stroke-width=\"0.1\"/><path d=\"M 495 114 527 179\" stroke=\"gray\" stroke-width=\"0.1\"/><path d=\"M 581 244 527 179\" stroke=\"gray\" stroke-width=\"0.1\"/><path d=\"M 581 244 570 308\" stroke=\"gray\" stroke-width=\"0.1\"/><path d=\"M 581 244 627 291\" stroke=\"gray\" stroke-width=\"0.1\"/><path d=\"M 661 150 585 177\" stroke=\"gray\" stroke-width=\"0.1\"/><path d=\"M 386 514 368 455\" stroke=\"gray\" stroke-width=\"0.1\"/><path d=\"M 340 512 368 455\" stroke=\"gray\" stroke-width=\"0.1\"/><path d=\"M 398 474 368 455\" stroke=\"gray\" stroke-width=\"0.1\"/><path d=\"M 315 506 368 455\" stroke=\"gray\" stroke-width=\"0.1\"/><path d=\"M 308 488 368 455\" stroke=\"gray\" stroke-width=\"0.1\"/><path d=\"M 363 520 368 455\" stroke=\"gray\" stroke-width=\"0.1\"/><path d=\"M 401 500 368 455\" stroke=\"gray\" stroke-width=\"0.1\"/><path d=\"M 319 466 368 455\" stroke=\"gray\" stroke-width=\"0.1\"/><path d=\"M 612 277 570 308\" stroke=\"gray\" stroke-width=\"0.1\"/><path d=\"M 514 336 570 308\" stroke=\"gray\" stroke-width=\"0.1\"/><path d=\"M 594 364 570 308\" stroke=\"gray\" stroke-width=\"0.1\"/><path d=\"M 627 336 570 308\" stroke=\"gray\" stroke-width=\"0.1\"/><path d=\"M 538 357 570 308\" stroke=\"gray\" stroke-width=\"0.1\"/><path d=\"M 563 366 570 308\" stroke=\"gray\" stroke-width=\"0.1\"/><path d=\"M 621 356 570 308\" stroke=\"gray\" stroke-width=\"0.1\"/><path d=\"M 626 314 570 308\" stroke=\"gray\" stroke-width=\"0.1\"/><path d=\"M 20 146 97 147\" stroke=\"gray\" stroke-width=\"0.1\"/><path d=\"M 559 107 495 153\" stroke=\"gray\" stroke-width=\"0.1\"/><path d=\"M 527 97 495 153\" stroke=\"gray\" stroke-width=\"0.1\"/><path d=\"M 578 132 495 153\" stroke=\"gray\" stroke-width=\"0.1\"/><path d=\"M 142 20 167 77\" stroke=\"gray\" stroke-width=\"0.1\"/><path d=\"M 102 371 161 348\" stroke=\"gray\" stroke-width=\"0.1\"/><path d=\"M 142 390 161 348\" stroke=\"gray\" stroke-width=\"0.1\"/><path d=\"M 720 279 627 291\" stroke=\"gray\" stroke-width=\"0.1\"/><path d=\"M 712 323 627 291\" stroke=\"gray\" stroke-width=\"0.1\"/><path d=\"M 718 299 627 291\" stroke=\"gray\" stroke-width=\"0.1\"/><path d=\"M 698 250 627 291\" stroke=\"gray\" stroke-width=\"0.1\"/><path d=\"M 693 316 627 291\" stroke=\"gray\" stroke-width=\"0.1\"/><path d=\"M 697 269 627 291\" stroke=\"gray\" stroke-width=\"0.1\"/><path d=\"M 120 204 181 178\" stroke=\"gray\" stroke-width=\"0.1\"/><path d=\"M 240 149 181 178\" stroke=\"gray\" stroke-width=\"0.1\"/><path d=\"M 254 271 305 239\" stroke=\"gray\" stroke-width=\"0.1\"/><path d=\"M 284 192 305 239\" stroke=\"gray\" stroke-width=\"0.1\"/><path d=\"M 330 271 305 239\" stroke=\"gray\" stroke-width=\"0.1\"/><path d=\"M 322 189 396 197\" stroke=\"gray\" stroke-width=\"0.1\"/><path d=\"M 264 383 326 342\" stroke=\"gray\" stroke-width=\"0.1\"/><path d=\"M 285 397 326 342\" stroke=\"gray\" stroke-width=\"0.1\"/><path d=\"M 350 387 326 342\" stroke=\"gray\" stroke-width=\"0.1\"/><path d=\"M 316 385 326 342\" stroke=\"gray\" stroke-width=\"0.1\"/><path d=\"M 185 211 251 189\" stroke=\"gray\" stroke-width=\"0.1\"/><path d=\"M 175 164 251 189\" stroke=\"gray\" stroke-width=\"0.1\"/><path d=\"M 192 135 251 189\" stroke=\"gray\" stroke-width=\"0.1\"/><path d=\"M 169 148 251 189\" stroke=\"gray\" stroke-width=\"0.1\"/><path d=\"M 216 128 251 189\" stroke=\"gray\" stroke-width=\"0.1\"/><path d=\"M 258 126 251 189\" stroke=\"gray\" stroke-width=\"0.1\"/><path d=\"M 163 188 251 189\" stroke=\"gray\" stroke-width=\"0.1\"/><path d=\"M 237 117 251 189\" stroke=\"gray\" stroke-width=\"0.1\"/><circle cx=\"339\" cy=\"239\" r=\"3.0\" style=\"fill:rgb(170, 198, 253);stroke:black;stroke-width:1.0\"/><circle cx=\"419\" cy=\"314\" r=\"3.0\" style=\"fill:rgb(247, 179, 151);stroke:black;stroke-width:1.0\"/><circle cx=\"390\" cy=\"240\" r=\"3.0\" style=\"fill:rgb(179, 3, 38);stroke:black;stroke-width:1.0\"/><circle cx=\"486\" cy=\"217\" r=\"3.0\" style=\"fill:rgb(245, 193, 168);stroke:black;stroke-width:1.0\"/><circle cx=\"240\" cy=\"298\" r=\"3.0\" style=\"fill:rgb(96, 128, 232);stroke:black;stroke-width:1.0\"/><circle cx=\"210\" cy=\"161\" r=\"3.0\" style=\"fill:rgb(172, 200, 252);stroke:black;stroke-width:1.0\"/><circle cx=\"527\" cy=\"179\" r=\"3.0\" style=\"fill:rgb(116, 151, 245);stroke:black;stroke-width:1.0\"/><circle cx=\"585\" cy=\"177\" r=\"3.0\" style=\"fill:rgb(92, 123, 229);stroke:black;stroke-width:1.0\"/><circle cx=\"570\" cy=\"308\" r=\"3.0\" style=\"fill:rgb(225, 104, 82);stroke:black;stroke-width:1.0\"/><circle cx=\"396\" cy=\"197\" r=\"3.0\" style=\"fill:rgb(92, 123, 229);stroke:black;stroke-width:1.0\"/><circle cx=\"523\" cy=\"160\" r=\"3.0\" style=\"fill:rgb(58, 76, 192);stroke:black;stroke-width:1.0\"/><circle cx=\"519\" cy=\"203\" r=\"3.0\" style=\"fill:rgb(58, 76, 192);stroke:black;stroke-width:1.0\"/><circle cx=\"97\" cy=\"147\" r=\"3.0\" style=\"fill:rgb(96, 128, 232);stroke:black;stroke-width:1.0\"/><circle cx=\"167\" cy=\"77\" r=\"3.0\" style=\"fill:rgb(96, 128, 232);stroke:black;stroke-width:1.0\"/><circle cx=\"181\" cy=\"178\" r=\"3.0\" style=\"fill:rgb(134, 169, 252);stroke:black;stroke-width:1.0\"/><circle cx=\"452\" cy=\"285\" r=\"3.0\" style=\"fill:rgb(58, 76, 192);stroke:black;stroke-width:1.0\"/><circle cx=\"368\" cy=\"455\" r=\"3.0\" style=\"fill:rgb(239, 137, 108);stroke:black;stroke-width:1.0\"/><circle cx=\"251\" cy=\"189\" r=\"3.0\" style=\"fill:rgb(239, 137, 108);stroke:black;stroke-width:1.0\"/><circle cx=\"461\" cy=\"318\" r=\"3.0\" style=\"fill:rgb(58, 76, 192);stroke:black;stroke-width:1.0\"/><circle cx=\"501\" cy=\"414\" r=\"3.0\" style=\"fill:rgb(163, 193, 254);stroke:black;stroke-width:1.0\"/><circle cx=\"627\" cy=\"291\" r=\"3.0\" style=\"fill:rgb(246, 186, 159);stroke:black;stroke-width:1.0\"/><circle cx=\"161\" cy=\"348\" r=\"3.0\" style=\"fill:rgb(134, 169, 252);stroke:black;stroke-width:1.0\"/><circle cx=\"380\" cy=\"180\" r=\"3.0\" style=\"fill:rgb(58, 76, 192);stroke:black;stroke-width:1.0\"/><circle cx=\"412\" cy=\"188\" r=\"3.0\" style=\"fill:rgb(58, 76, 192);stroke:black;stroke-width:1.0\"/><circle cx=\"488\" cy=\"276\" r=\"3.0\" style=\"fill:rgb(172, 200, 252);stroke:black;stroke-width:1.0\"/><circle cx=\"326\" cy=\"342\" r=\"3.0\" style=\"fill:rgb(205, 217, 236);stroke:black;stroke-width:1.0\"/><circle cx=\"344\" cy=\"213\" r=\"3.0\" style=\"fill:rgb(58, 76, 192);stroke:black;stroke-width:1.0\"/><circle cx=\"357\" cy=\"283\" r=\"3.0\" style=\"fill:rgb(58, 76, 192);stroke:black;stroke-width:1.0\"/><circle cx=\"323\" cy=\"260\" r=\"3.0\" style=\"fill:rgb(58, 76, 192);stroke:black;stroke-width:1.0\"/><circle cx=\"495\" cy=\"153\" r=\"3.0\" style=\"fill:rgb(172, 200, 252);stroke:black;stroke-width:1.0\"/><circle cx=\"305\" cy=\"239\" r=\"3.0\" style=\"fill:rgb(172, 200, 252);stroke:black;stroke-width:1.0\"/><circle cx=\"549\" cy=\"467\" r=\"3.0\" style=\"fill:rgb(66, 88, 202);stroke:black;stroke-width:1.0\"/><circle cx=\"516\" cy=\"472\" r=\"3.0\" style=\"fill:rgb(66, 88, 202);stroke:black;stroke-width:1.0\"/><circle cx=\"569\" cy=\"452\" r=\"3.0\" style=\"fill:rgb(66, 88, 202);stroke:black;stroke-width:1.0\"/><circle cx=\"542\" cy=\"312\" r=\"3.0\" style=\"fill:rgb(66, 88, 202);stroke:black;stroke-width:1.0\"/><circle cx=\"532\" cy=\"246\" r=\"3.0\" style=\"fill:rgb(66, 88, 202);stroke:black;stroke-width:1.0\"/><circle cx=\"518\" cy=\"317\" r=\"3.0\" style=\"fill:rgb(66, 88, 202);stroke:black;stroke-width:1.0\"/><circle cx=\"495\" cy=\"114\" r=\"3.0\" style=\"fill:rgb(64, 84, 199);stroke:black;stroke-width:1.0\"/><circle cx=\"581\" cy=\"244\" r=\"3.0\" style=\"fill:rgb(130, 165, 251);stroke:black;stroke-width:1.0\"/><circle cx=\"661\" cy=\"150\" r=\"3.0\" style=\"fill:rgb(66, 88, 202);stroke:black;stroke-width:1.0\"/><circle cx=\"386\" cy=\"514\" r=\"3.0\" style=\"fill:rgb(66, 88, 202);stroke:black;stroke-width:1.0\"/><circle cx=\"340\" cy=\"512\" r=\"3.0\" style=\"fill:rgb(66, 88, 202);stroke:black;stroke-width:1.0\"/><circle cx=\"398\" cy=\"474\" r=\"3.0\" style=\"fill:rgb(66, 88, 202);stroke:black;stroke-width:1.0\"/><circle cx=\"315\" cy=\"506\" r=\"3.0\" style=\"fill:rgb(66, 88, 202);stroke:black;stroke-width:1.0\"/><circle cx=\"308\" cy=\"488\" r=\"3.0\" style=\"fill:rgb(66, 88, 202);stroke:black;stroke-width:1.0\"/><circle cx=\"363\" cy=\"520\" r=\"3.0\" style=\"fill:rgb(66, 88, 202);stroke:black;stroke-width:1.0\"/><circle cx=\"401\" cy=\"500\" r=\"3.0\" style=\"fill:rgb(66, 88, 202);stroke:black;stroke-width:1.0\"/><circle cx=\"319\" cy=\"466\" r=\"3.0\" style=\"fill:rgb(66, 88, 202);stroke:black;stroke-width:1.0\"/><circle cx=\"612\" cy=\"277\" r=\"3.0\" style=\"fill:rgb(64, 84, 199);stroke:black;stroke-width:1.0\"/><circle cx=\"514\" cy=\"336\" r=\"3.0\" style=\"fill:rgb(64, 84, 199);stroke:black;stroke-width:1.0\"/><circle cx=\"594\" cy=\"364\" r=\"3.0\" style=\"fill:rgb(64, 84, 199);stroke:black;stroke-width:1.0\"/><circle cx=\"627\" cy=\"336\" r=\"3.0\" style=\"fill:rgb(64, 84, 199);stroke:black;stroke-width:1.0\"/><circle cx=\"538\" cy=\"357\" r=\"3.0\" style=\"fill:rgb(64, 84, 199);stroke:black;stroke-width:1.0\"/><circle cx=\"563\" cy=\"366\" r=\"3.0\" style=\"fill:rgb(64, 84, 199);stroke:black;stroke-width:1.0\"/><circle cx=\"621\" cy=\"356\" r=\"3.0\" style=\"fill:rgb(64, 84, 199);stroke:black;stroke-width:1.0\"/><circle cx=\"626\" cy=\"314\" r=\"3.0\" style=\"fill:rgb(64, 84, 199);stroke:black;stroke-width:1.0\"/><circle cx=\"20\" cy=\"146\" r=\"3.0\" style=\"fill:rgb(66, 88, 202);stroke:black;stroke-width:1.0\"/><circle cx=\"559\" cy=\"107\" r=\"3.0\" style=\"fill:rgb(66, 88, 202);stroke:black;stroke-width:1.0\"/><circle cx=\"527\" cy=\"97\" r=\"3.0\" style=\"fill:rgb(66, 88, 202);stroke:black;stroke-width:1.0\"/><circle cx=\"578\" cy=\"132\" r=\"3.0\" style=\"fill:rgb(66, 88, 202);stroke:black;stroke-width:1.0\"/><circle cx=\"142\" cy=\"20\" r=\"3.0\" style=\"fill:rgb(66, 88, 202);stroke:black;stroke-width:1.0\"/><circle cx=\"102\" cy=\"371\" r=\"3.0\" style=\"fill:rgb(66, 88, 202);stroke:black;stroke-width:1.0\"/><circle cx=\"142\" cy=\"390\" r=\"3.0\" style=\"fill:rgb(66, 88, 202);stroke:black;stroke-width:1.0\"/><circle cx=\"720\" cy=\"279\" r=\"3.0\" style=\"fill:rgb(64, 84, 199);stroke:black;stroke-width:1.0\"/><circle cx=\"712\" cy=\"323\" r=\"3.0\" style=\"fill:rgb(64, 84, 199);stroke:black;stroke-width:1.0\"/><circle cx=\"718\" cy=\"299\" r=\"3.0\" style=\"fill:rgb(64, 84, 199);stroke:black;stroke-width:1.0\"/><circle cx=\"698\" cy=\"250\" r=\"3.0\" style=\"fill:rgb(64, 84, 199);stroke:black;stroke-width:1.0\"/><circle cx=\"693\" cy=\"316\" r=\"3.0\" style=\"fill:rgb(64, 84, 199);stroke:black;stroke-width:1.0\"/><circle cx=\"697\" cy=\"269\" r=\"3.0\" style=\"fill:rgb(64, 84, 199);stroke:black;stroke-width:1.0\"/><circle cx=\"120\" cy=\"204\" r=\"3.0\" style=\"fill:rgb(66, 88, 202);stroke:black;stroke-width:1.0\"/><circle cx=\"240\" cy=\"149\" r=\"3.0\" style=\"fill:rgb(66, 88, 202);stroke:black;stroke-width:1.0\"/><circle cx=\"254\" cy=\"271\" r=\"3.0\" style=\"fill:rgb(66, 88, 202);stroke:black;stroke-width:1.0\"/><circle cx=\"284\" cy=\"192\" r=\"3.0\" style=\"fill:rgb(66, 88, 202);stroke:black;stroke-width:1.0\"/><circle cx=\"330\" cy=\"271\" r=\"3.0\" style=\"fill:rgb(66, 88, 202);stroke:black;stroke-width:1.0\"/><circle cx=\"322\" cy=\"189\" r=\"3.0\" style=\"fill:rgb(66, 88, 202);stroke:black;stroke-width:1.0\"/><circle cx=\"264\" cy=\"383\" r=\"3.0\" style=\"fill:rgb(66, 88, 202);stroke:black;stroke-width:1.0\"/><circle cx=\"285\" cy=\"397\" r=\"3.0\" style=\"fill:rgb(66, 88, 202);stroke:black;stroke-width:1.0\"/><circle cx=\"350\" cy=\"387\" r=\"3.0\" style=\"fill:rgb(66, 88, 202);stroke:black;stroke-width:1.0\"/><circle cx=\"316\" cy=\"385\" r=\"3.0\" style=\"fill:rgb(66, 88, 202);stroke:black;stroke-width:1.0\"/><circle cx=\"185\" cy=\"211\" r=\"3.0\" style=\"fill:rgb(66, 88, 202);stroke:black;stroke-width:1.0\"/><circle cx=\"175\" cy=\"164\" r=\"3.0\" style=\"fill:rgb(66, 88, 202);stroke:black;stroke-width:1.0\"/><circle cx=\"192\" cy=\"135\" r=\"3.0\" style=\"fill:rgb(66, 88, 202);stroke:black;stroke-width:1.0\"/><circle cx=\"169\" cy=\"148\" r=\"3.0\" style=\"fill:rgb(66, 88, 202);stroke:black;stroke-width:1.0\"/><circle cx=\"216\" cy=\"128\" r=\"3.0\" style=\"fill:rgb(66, 88, 202);stroke:black;stroke-width:1.0\"/><circle cx=\"258\" cy=\"126\" r=\"3.0\" style=\"fill:rgb(66, 88, 202);stroke:black;stroke-width:1.0\"/><circle cx=\"163\" cy=\"188\" r=\"3.0\" style=\"fill:rgb(66, 88, 202);stroke:black;stroke-width:1.0\"/><circle cx=\"237\" cy=\"117\" r=\"3.0\" style=\"fill:rgb(66, 88, 202);stroke:black;stroke-width:1.0\"/><text font-size=\"10\" x=\"345\" y=\"242\">B.B. King</text><text font-size=\"10\" x=\"425\" y=\"317\">NEGAPHONE</text><text font-size=\"10\" x=\"396\" y=\"243\">WeeBay</text><text font-size=\"10\" x=\"492\" y=\"220\">Big Choze</text><text font-size=\"10\" x=\"246\" y=\"301\">U2</text><text font-size=\"10\" x=\"216\" y=\"164\">Lil Wayne</text><text font-size=\"10\" x=\"533\" y=\"182\">Big Sean</text><text font-size=\"10\" x=\"591\" y=\"180\">BigChiiffa</text><text font-size=\"10\" x=\"576\" y=\"311\">Degree</text><text font-size=\"10\" x=\"402\" y=\"200\">Young Iggz</text><text font-size=\"10\" x=\"529\" y=\"163\">AzChike</text><text font-size=\"10\" x=\"525\" y=\"206\">Nirvana</text><text font-size=\"10\" x=\"103\" y=\"150\">Drake</text><text font-size=\"10\" x=\"173\" y=\"80\">Jay Sean</text><text font-size=\"10\" x=\"187\" y=\"181\">Tyga</text><text font-size=\"10\" x=\"458\" y=\"288\">Animals As Leaders</text><text font-size=\"10\" x=\"374\" y=\"458\">Conton Candy</text><text font-size=\"10\" x=\"257\" y=\"192\">tephe</text><text font-size=\"10\" x=\"467\" y=\"321\">Nelyoti</text><text font-size=\"10\" x=\"507\" y=\"417\">Abdeelgha4</text><text font-size=\"10\" x=\"633\" y=\"294\">Mons</text><text font-size=\"10\" x=\"167\" y=\"351\">Kendrick Lamar</text><text font-size=\"10\" x=\"386\" y=\"183\">Baye Mass</text><text font-size=\"10\" x=\"418\" y=\"191\">ShittyBoyz</text><text font-size=\"10\" x=\"494\" y=\"279\">Alexnocap</text><text font-size=\"10\" x=\"332\" y=\"345\">kelseyi</text><text font-size=\"10\" x=\"350\" y=\"216\">Ace Hood</text><text font-size=\"10\" x=\"363\" y=\"286\">Jason Aldean</text><text font-size=\"10\" x=\"329\" y=\"263\">Edot Babyy</text><text font-size=\"10\" x=\"501\" y=\"156\">Duzzy Funlop</text><text font-size=\"10\" x=\"311\" y=\"242\">Webbie</text><text font-size=\"10\" x=\"555\" y=\"470\">Abdelli</text><text font-size=\"10\" x=\"522\" y=\"475\">Abdallah Adel</text><text font-size=\"10\" x=\"575\" y=\"455\">Abdel Halim Hafez</text><text font-size=\"10\" x=\"548\" y=\"315\">Alexa Cappelli</text><text font-size=\"10\" x=\"538\" y=\"249\">Alex Nocera</text><text font-size=\"10\" x=\"524\" y=\"320\">Alex Campos</text><text font-size=\"10\" x=\"501\" y=\"117\">Jack Harlow</text><text font-size=\"10\" x=\"587\" y=\"247\">Kanye West</text><text font-size=\"10\" x=\"667\" y=\"153\">Professor Longhair</text><text font-size=\"10\" x=\"392\" y=\"517\">Nic D</text><text font-size=\"10\" x=\"346\" y=\"515\">Hot Milk</text><text font-size=\"10\" x=\"404\" y=\"477\">MilkyyMelodies</text><text font-size=\"10\" x=\"321\" y=\"509\">spill tab</text><text font-size=\"10\" x=\"314\" y=\"491\">Big Moochie Grape</text><text font-size=\"10\" x=\"369\" y=\"523\">Elvia</text><text font-size=\"10\" x=\"407\" y=\"503\">Blu DeTiger</text><text font-size=\"10\" x=\"325\" y=\"469\">YUNGBLUD</text><text font-size=\"10\" x=\"618\" y=\"280\">93FEETOFSMOKE</text><text font-size=\"10\" x=\"520\" y=\"339\">Taylor McFerrin</text><text font-size=\"10\" x=\"600\" y=\"367\">Cola</text><text font-size=\"10\" x=\"633\" y=\"339\">$uicideboy$</text><text font-size=\"10\" x=\"544\" y=\"360\">JEY</text><text font-size=\"10\" x=\"569\" y=\"369\">Arno Coleridge</text><text font-size=\"10\" x=\"627\" y=\"359\">EST Gee</text><text font-size=\"10\" x=\"632\" y=\"317\">MadeByVL</text><text font-size=\"10\" x=\"26\" y=\"149\">Travis Scott</text><text font-size=\"10\" x=\"565\" y=\"110\">Jaydes Archive</text><text font-size=\"10\" x=\"533\" y=\"100\">Supereffective</text><text font-size=\"10\" x=\"584\" y=\"135\">Token</text><text font-size=\"10\" x=\"148\" y=\"23\">Rishi Rich</text><text font-size=\"10\" x=\"108\" y=\"374\">Taylor Swift</text><text font-size=\"10\" x=\"148\" y=\"393\">Baby Keem</text><text font-size=\"10\" x=\"726\" y=\"282\">LUM!X</text><text font-size=\"10\" x=\"718\" y=\"326\">Lady Gaga</text><text font-size=\"10\" x=\"724\" y=\"302\">Bobby &quot;Boris&quot; Pickett</text><text font-size=\"10\" x=\"704\" y=\"253\">All Time Low</text><text font-size=\"10\" x=\"699\" y=\"319\">Skillet</text><text font-size=\"10\" x=\"703\" y=\"272\">Shinedown</text><text font-size=\"10\" x=\"126\" y=\"207\">Justine Skye</text><text font-size=\"10\" x=\"246\" y=\"152\">Travis Porter</text><text font-size=\"10\" x=\"260\" y=\"274\">Young Thug</text><text font-size=\"10\" x=\"290\" y=\"195\">Isaiah Rashad</text><text font-size=\"10\" x=\"336\" y=\"274\">Boosie Badazz</text><text font-size=\"10\" x=\"328\" y=\"192\">Acito</text><text font-size=\"10\" x=\"270\" y=\"386\">Jesse Novak</text><text font-size=\"10\" x=\"291\" y=\"400\">Kelsea Ballerini</text><text font-size=\"10\" x=\"356\" y=\"390\">Harry Hudson</text><text font-size=\"10\" x=\"322\" y=\"388\">Metro Station</text><text font-size=\"10\" x=\"191\" y=\"214\">Los Elegantes de Jerez</text><text font-size=\"10\" x=\"181\" y=\"167\">Jessie Morales El Original De La Sierra</text><text font-size=\"10\" x=\"198\" y=\"138\">Inspector</text><text font-size=\"10\" x=\"175\" y=\"151\">Gracie Abrams</text><text font-size=\"10\" x=\"222\" y=\"131\">Eric Prydz</text><text font-size=\"10\" x=\"264\" y=\"129\">Ivy Queen</text><text font-size=\"10\" x=\"169\" y=\"191\">Leo Dan</text><text font-size=\"10\" x=\"243\" y=\"120\">Tanger</text></svg>"
      ],
      "text/plain": [
       "<IPython.core.display.SVG object>"
      ]
     },
     "execution_count": 8,
     "metadata": {},
     "output_type": "execute_result"
    }
   ],
   "source": [
    "# this is network analysis network without labels\n",
    "\n",
    "draw_graph(G, node_size=3, show_names=True, edge_width=0.1)"
   ]
  },
  {
   "cell_type": "markdown",
   "id": "10aa2232",
   "metadata": {},
   "source": [
    "# Egocentric Network Analysis\n",
    "\n",
    "As the above visualization shows, this is a complex network. For knowledge discovery, we should use Egocentric Network Analysis to \"zoom in\" on nodes of interest. Any node can be looked at, but I am going to programmatically do this, in this notebook, showing only the top twenty nodes, according to page rank."
   ]
  },
  {
   "cell_type": "markdown",
   "id": "0dcf1d59",
   "metadata": {},
   "source": [
    "# PageRank - Identify Nodes of Interest"
   ]
  },
  {
   "cell_type": "code",
   "execution_count": 9,
   "id": "42fbb411",
   "metadata": {},
   "outputs": [
    {
     "data": {
      "text/html": [
       "<div>\n",
       "<style scoped>\n",
       "    .dataframe tbody tr th:only-of-type {\n",
       "        vertical-align: middle;\n",
       "    }\n",
       "\n",
       "    .dataframe tbody tr th {\n",
       "        vertical-align: top;\n",
       "    }\n",
       "\n",
       "    .dataframe thead th {\n",
       "        text-align: right;\n",
       "    }\n",
       "</style>\n",
       "<table border=\"1\" class=\"dataframe\">\n",
       "  <thead>\n",
       "    <tr style=\"text-align: right;\">\n",
       "      <th></th>\n",
       "      <th>page_rank</th>\n",
       "    </tr>\n",
       "  </thead>\n",
       "  <tbody>\n",
       "    <tr>\n",
       "      <th>Degree</th>\n",
       "      <td>0.051595</td>\n",
       "    </tr>\n",
       "    <tr>\n",
       "      <th>WeeBay</th>\n",
       "      <td>0.050546</td>\n",
       "    </tr>\n",
       "    <tr>\n",
       "      <th>tephe</th>\n",
       "      <td>0.049145</td>\n",
       "    </tr>\n",
       "    <tr>\n",
       "      <th>Conton Candy</th>\n",
       "      <td>0.049145</td>\n",
       "    </tr>\n",
       "    <tr>\n",
       "      <th>Mons</th>\n",
       "      <td>0.041120</td>\n",
       "    </tr>\n",
       "    <tr>\n",
       "      <th>Big Choze</th>\n",
       "      <td>0.034074</td>\n",
       "    </tr>\n",
       "    <tr>\n",
       "      <th>NEGAPHONE</th>\n",
       "      <td>0.034042</td>\n",
       "    </tr>\n",
       "    <tr>\n",
       "      <th>kelseyi</th>\n",
       "      <td>0.028159</td>\n",
       "    </tr>\n",
       "    <tr>\n",
       "      <th>B.B. King</th>\n",
       "      <td>0.023252</td>\n",
       "    </tr>\n",
       "    <tr>\n",
       "      <th>Webbie</th>\n",
       "      <td>0.022739</td>\n",
       "    </tr>\n",
       "  </tbody>\n",
       "</table>\n",
       "</div>"
      ],
      "text/plain": [
       "              page_rank\n",
       "Degree         0.051595\n",
       "WeeBay         0.050546\n",
       "tephe          0.049145\n",
       "Conton Candy   0.049145\n",
       "Mons           0.041120\n",
       "Big Choze      0.034074\n",
       "NEGAPHONE      0.034042\n",
       "kelseyi        0.028159\n",
       "B.B. King      0.023252\n",
       "Webbie         0.022739"
      ]
     },
     "execution_count": 9,
     "metadata": {},
     "output_type": "execute_result"
    }
   ],
   "source": [
    "page_rank = nx.pagerank(G)\n",
    "\n",
    "pr_df = pd.DataFrame().from_dict(page_rank, orient='index')\n",
    "pr_df.columns = ['page_rank']\n",
    "pr_df.sort_values('page_rank', ascending=False, inplace=True)\n",
    "pr_df.head(10)"
   ]
  },
  {
   "cell_type": "code",
   "execution_count": 11,
   "id": "71a59549",
   "metadata": {},
   "outputs": [
    {
     "data": {
      "image/png": "[encoded data removed]",
      "text/plain": [
       "<Figure size 864x576 with 1 Axes>"
      ]
     },
     "metadata": {
      "needs_background": "light"
     },
     "output_type": "display_data"
    }
   ],
   "source": [
    "title = 'Important Artists by PageRank'\n",
    "\n",
    "pr_df.head(20).plot.barh(figsize=(12,8), title=title).invert_yaxis()"
   ]
  },
  {
   "cell_type": "markdown",
   "id": "3565f936",
   "metadata": {},
   "source": [
    "# Egocentric Network Analysis\n",
    "Next, let's look at the Ego Graphs for each of the top ten characters found by PageRank. Before visualizing and inspecting the Ego Graphs, let's create a Python list so that we can more easily look through them without explicitely typing their names."
   ]
  },
  {
   "cell_type": "code",
   "execution_count": 12,
   "id": "9d823af1",
   "metadata": {},
   "outputs": [],
   "source": [
    "top_nodes = pr_df.head(20).index.values"
   ]
  },
  {
   "cell_type": "code",
   "execution_count": 13,
   "id": "662a98f3",
   "metadata": {},
   "outputs": [
    {
     "data": {
      "text/plain": [
       "'Degree'"
      ]
     },
     "execution_count": 13,
     "metadata": {},
     "output_type": "execute_result"
    }
   ],
   "source": [
    "top_nodes[0]"
   ]
  },
  {
   "cell_type": "markdown",
   "id": "6ecf99c7",
   "metadata": {},
   "source": [
    "Now we are all set to start looking through them, in order of importance."
   ]
  },
  {
   "cell_type": "markdown",
   "id": "290bcf1a",
   "metadata": {},
   "source": [
    "## Top Node Ego Networks\n",
    "Unlike last time, I am not going to drop the center node or write about findings. This is purely discovery. Remember two things:\n",
    "- The center node is known as the 'ego' node. It is the node being looked up.\n",
    "- The other nodes are known as 'alter' nodes. They are connected to the ego node, and sometimes with each other.\n",
    "\n",
    "Pay close attention to the alter nodes that link to other alter nodes. These are interesting relationships, and you can see subcommunities in the ego network. Think about what you are seeing. What does this tell you?"
   ]
  },
  {
   "cell_type": "code",
   "execution_count": 14,
   "id": "863ca7a1",
   "metadata": {},
   "outputs": [
    {
     "data": {
      "image/svg+xml": [
       "<svg height=\"540\" width=\"815.0\" xmlns=\"http://www.w3.org/2000/svg\"><path d=\"M 57 154 357 273\" stroke=\"gray\" stroke-width=\"0.3\"/><path d=\"M 414 20 357 273\" stroke=\"gray\" stroke-width=\"0.3\"/><path d=\"M 557 479 357 273\" stroke=\"gray\" stroke-width=\"0.3\"/><path d=\"M 20 316 357 273\" stroke=\"gray\" stroke-width=\"0.3\"/><path d=\"M 611 98 357 273\" stroke=\"gray\" stroke-width=\"0.3\"/><path d=\"M 124 459 357 273\" stroke=\"gray\" stroke-width=\"0.3\"/><path d=\"M 567 273 357 273\" stroke=\"gray\" stroke-width=\"0.3\"/><path d=\"M 332 520 357 273\" stroke=\"gray\" stroke-width=\"0.3\"/><path d=\"M 720 312 357 273\" stroke=\"gray\" stroke-width=\"0.3\"/><path d=\"M 206 39 357 273\" stroke=\"gray\" stroke-width=\"0.3\"/><path d=\"M 357 273 57 154\" stroke=\"gray\" stroke-width=\"0.3\"/><path d=\"M 357 273 414 20\" stroke=\"gray\" stroke-width=\"0.3\"/><path d=\"M 357 273 557 479\" stroke=\"gray\" stroke-width=\"0.3\"/><path d=\"M 357 273 20 316\" stroke=\"gray\" stroke-width=\"0.3\"/><path d=\"M 357 273 611 98\" stroke=\"gray\" stroke-width=\"0.3\"/><path d=\"M 357 273 124 459\" stroke=\"gray\" stroke-width=\"0.3\"/><path d=\"M 357 273 567 273\" stroke=\"gray\" stroke-width=\"0.3\"/><path d=\"M 357 273 332 520\" stroke=\"gray\" stroke-width=\"0.3\"/><path d=\"M 357 273 720 312\" stroke=\"gray\" stroke-width=\"0.3\"/><path d=\"M 357 273 206 39\" stroke=\"gray\" stroke-width=\"0.3\"/><circle cx=\"57\" cy=\"154\" r=\"3.0\" style=\"fill:rgb(58, 76, 192);stroke:black;stroke-width:1.0\"/><circle cx=\"414\" cy=\"20\" r=\"3.0\" style=\"fill:rgb(58, 76, 192);stroke:black;stroke-width:1.0\"/><circle cx=\"557\" cy=\"479\" r=\"3.0\" style=\"fill:rgb(58, 76, 192);stroke:black;stroke-width:1.0\"/><circle cx=\"20\" cy=\"316\" r=\"3.0\" style=\"fill:rgb(58, 76, 192);stroke:black;stroke-width:1.0\"/><circle cx=\"611\" cy=\"98\" r=\"3.0\" style=\"fill:rgb(58, 76, 192);stroke:black;stroke-width:1.0\"/><circle cx=\"124\" cy=\"459\" r=\"3.0\" style=\"fill:rgb(58, 76, 192);stroke:black;stroke-width:1.0\"/><circle cx=\"567\" cy=\"273\" r=\"3.0\" style=\"fill:rgb(58, 76, 192);stroke:black;stroke-width:1.0\"/><circle cx=\"332\" cy=\"520\" r=\"3.0\" style=\"fill:rgb(58, 76, 192);stroke:black;stroke-width:1.0\"/><circle cx=\"720\" cy=\"312\" r=\"3.0\" style=\"fill:rgb(58, 76, 192);stroke:black;stroke-width:1.0\"/><circle cx=\"206\" cy=\"39\" r=\"3.0\" style=\"fill:rgb(58, 76, 192);stroke:black;stroke-width:1.0\"/><circle cx=\"357\" cy=\"273\" r=\"3.0\" style=\"fill:rgb(179, 3, 38);stroke:black;stroke-width:1.0\"/><text font-size=\"10\" x=\"63\" y=\"157\">Taylor McFerrin</text><text font-size=\"10\" x=\"420\" y=\"23\">MadeByVL</text><text font-size=\"10\" x=\"563\" y=\"482\">Kanye West</text><text font-size=\"10\" x=\"26\" y=\"319\">EST Gee</text><text font-size=\"10\" x=\"617\" y=\"101\">Big Choze</text><text font-size=\"10\" x=\"130\" y=\"462\">Arno Coleridge</text><text font-size=\"10\" x=\"573\" y=\"276\">JEY</text><text font-size=\"10\" x=\"338\" y=\"523\">93FEETOFSMOKE</text><text font-size=\"10\" x=\"726\" y=\"315\">Cola</text><text font-size=\"10\" x=\"212\" y=\"42\">$uicideboy$</text><text font-size=\"10\" x=\"363\" y=\"276\">Degree</text></svg>"
      ],
      "text/plain": [
       "<IPython.core.display.SVG object>"
      ]
     },
     "execution_count": 14,
     "metadata": {},
     "output_type": "execute_result"
    }
   ],
   "source": [
    "ego = top_nodes[0]\n",
    "\n",
    "G_ego = nx.ego_graph(G, ego)\n",
    "\n",
    "draw_graph(G_ego, show_names=True, node_size=3, edge_width=0.3)"
   ]
  },
  {
   "cell_type": "code",
   "execution_count": 15,
   "id": "32fcd7b3",
   "metadata": {},
   "outputs": [
    {
     "data": {
      "text/plain": [
       "['$uicideboy$',\n",
       " '93FEETOFSMOKE',\n",
       " 'Arno Coleridge',\n",
       " 'Big Choze',\n",
       " 'Cola',\n",
       " 'Degree',\n",
       " 'EST Gee',\n",
       " 'JEY',\n",
       " 'Kanye West',\n",
       " 'MadeByVL',\n",
       " 'Taylor McFerrin']"
      ]
     },
     "execution_count": 15,
     "metadata": {},
     "output_type": "execute_result"
    }
   ],
   "source": [
    "# you can look at the nodes in the ego network this way, to find interesting topics\n",
    "\n",
    "nodes = sorted(G_ego.nodes)\n",
    "nodes"
   ]
  },
  {
   "cell_type": "code",
   "execution_count": 16,
   "id": "025314b1",
   "metadata": {},
   "outputs": [
    {
     "data": {
      "image/svg+xml": [
       "<svg height=\"540\" width=\"800.0\" xmlns=\"http://www.w3.org/2000/svg\"><path d=\"M 20 328 368 270\" stroke=\"gray\" stroke-width=\"0.3\"/><path d=\"M 408 20 368 270\" stroke=\"gray\" stroke-width=\"0.3\"/><path d=\"M 623 79 368 270\" stroke=\"gray\" stroke-width=\"0.3\"/><path d=\"M 136 463 368 270\" stroke=\"gray\" stroke-width=\"0.3\"/><path d=\"M 556 467 368 270\" stroke=\"gray\" stroke-width=\"0.3\"/><path d=\"M 368 270 20 328\" stroke=\"gray\" stroke-width=\"0.3\"/><path d=\"M 368 270 408 20\" stroke=\"gray\" stroke-width=\"0.3\"/><path d=\"M 368 270 623 79\" stroke=\"gray\" stroke-width=\"0.3\"/><path d=\"M 368 270 136 463\" stroke=\"gray\" stroke-width=\"0.3\"/><path d=\"M 368 270 556 467\" stroke=\"gray\" stroke-width=\"0.3\"/><path d=\"M 368 270 39 166\" stroke=\"gray\" stroke-width=\"0.3\"/><path d=\"M 368 270 347 520\" stroke=\"gray\" stroke-width=\"0.3\"/><path d=\"M 368 270 720 360\" stroke=\"gray\" stroke-width=\"0.3\"/><path d=\"M 368 270 188 43\" stroke=\"gray\" stroke-width=\"0.3\"/><path d=\"M 368 270 682 218\" stroke=\"gray\" stroke-width=\"0.3\"/><path d=\"M 39 166 368 270\" stroke=\"gray\" stroke-width=\"0.3\"/><path d=\"M 347 520 368 270\" stroke=\"gray\" stroke-width=\"0.3\"/><path d=\"M 720 360 368 270\" stroke=\"gray\" stroke-width=\"0.3\"/><path d=\"M 188 43 368 270\" stroke=\"gray\" stroke-width=\"0.3\"/><path d=\"M 682 218 368 270\" stroke=\"gray\" stroke-width=\"0.3\"/><circle cx=\"20\" cy=\"328\" r=\"3.0\" style=\"fill:rgb(58, 76, 192);stroke:black;stroke-width:1.0\"/><circle cx=\"408\" cy=\"20\" r=\"3.0\" style=\"fill:rgb(58, 76, 192);stroke:black;stroke-width:1.0\"/><circle cx=\"623\" cy=\"79\" r=\"3.0\" style=\"fill:rgb(58, 76, 192);stroke:black;stroke-width:1.0\"/><circle cx=\"136\" cy=\"463\" r=\"3.0\" style=\"fill:rgb(58, 76, 192);stroke:black;stroke-width:1.0\"/><circle cx=\"556\" cy=\"467\" r=\"3.0\" style=\"fill:rgb(58, 76, 192);stroke:black;stroke-width:1.0\"/><circle cx=\"368\" cy=\"270\" r=\"3.0\" style=\"fill:rgb(179, 3, 38);stroke:black;stroke-width:1.0\"/><circle cx=\"39\" cy=\"166\" r=\"3.0\" style=\"fill:rgb(58, 76, 192);stroke:black;stroke-width:1.0\"/><circle cx=\"347\" cy=\"520\" r=\"3.0\" style=\"fill:rgb(58, 76, 192);stroke:black;stroke-width:1.0\"/><circle cx=\"720\" cy=\"360\" r=\"3.0\" style=\"fill:rgb(58, 76, 192);stroke:black;stroke-width:1.0\"/><circle cx=\"188\" cy=\"43\" r=\"3.0\" style=\"fill:rgb(58, 76, 192);stroke:black;stroke-width:1.0\"/><circle cx=\"682\" cy=\"218\" r=\"3.0\" style=\"fill:rgb(58, 76, 192);stroke:black;stroke-width:1.0\"/><text font-size=\"10\" x=\"26\" y=\"331\">Edot Babyy</text><text font-size=\"10\" x=\"414\" y=\"23\">ShittyBoyz</text><text font-size=\"10\" x=\"629\" y=\"82\">Baye Mass</text><text font-size=\"10\" x=\"142\" y=\"466\">Duzzy Funlop</text><text font-size=\"10\" x=\"562\" y=\"470\">Jason Aldean</text><text font-size=\"10\" x=\"374\" y=\"273\">WeeBay</text><text font-size=\"10\" x=\"45\" y=\"169\">Ace Hood</text><text font-size=\"10\" x=\"353\" y=\"523\">B.B. King</text><text font-size=\"10\" x=\"726\" y=\"363\">Webbie</text><text font-size=\"10\" x=\"194\" y=\"46\">kelseyi</text><text font-size=\"10\" x=\"688\" y=\"221\">Alexnocap</text></svg>"
      ],
      "text/plain": [
       "<IPython.core.display.SVG object>"
      ]
     },
     "execution_count": 16,
     "metadata": {},
     "output_type": "execute_result"
    }
   ],
   "source": [
    "ego = top_nodes[1]\n",
    "\n",
    "G_ego = nx.ego_graph(G, ego)\n",
    "\n",
    "draw_graph(G_ego, show_names=True, node_size=3, edge_width=0.3)"
   ]
  },
  {
   "cell_type": "code",
   "execution_count": 17,
   "id": "62f53797",
   "metadata": {},
   "outputs": [
    {
     "data": {
      "image/svg+xml": [
       "<svg height=\"540\" width=\"935.0\" xmlns=\"http://www.w3.org/2000/svg\"><path d=\"M 720 295 372 270\" stroke=\"gray\" stroke-width=\"0.3\"/><path d=\"M 372 270 720 295\" stroke=\"gray\" stroke-width=\"0.3\"/><path d=\"M 372 270 151 464\" stroke=\"gray\" stroke-width=\"0.3\"/><path d=\"M 372 270 20 320\" stroke=\"gray\" stroke-width=\"0.3\"/><path d=\"M 372 270 615 455\" stroke=\"gray\" stroke-width=\"0.3\"/><path d=\"M 372 270 387 520\" stroke=\"gray\" stroke-width=\"0.3\"/><path d=\"M 372 270 228 35\" stroke=\"gray\" stroke-width=\"0.3\"/><path d=\"M 372 270 57 157\" stroke=\"gray\" stroke-width=\"0.3\"/><path d=\"M 372 270 658 121\" stroke=\"gray\" stroke-width=\"0.3\"/><path d=\"M 372 270 465 20\" stroke=\"gray\" stroke-width=\"0.3\"/><path d=\"M 151 464 372 270\" stroke=\"gray\" stroke-width=\"0.3\"/><path d=\"M 20 320 372 270\" stroke=\"gray\" stroke-width=\"0.3\"/><path d=\"M 615 455 372 270\" stroke=\"gray\" stroke-width=\"0.3\"/><path d=\"M 387 520 372 270\" stroke=\"gray\" stroke-width=\"0.3\"/><path d=\"M 228 35 372 270\" stroke=\"gray\" stroke-width=\"0.3\"/><path d=\"M 57 157 372 270\" stroke=\"gray\" stroke-width=\"0.3\"/><path d=\"M 658 121 372 270\" stroke=\"gray\" stroke-width=\"0.3\"/><path d=\"M 465 20 372 270\" stroke=\"gray\" stroke-width=\"0.3\"/><circle cx=\"720\" cy=\"295\" r=\"3.0\" style=\"fill:rgb(58, 76, 192);stroke:black;stroke-width:1.0\"/><circle cx=\"372\" cy=\"270\" r=\"3.0\" style=\"fill:rgb(179, 3, 38);stroke:black;stroke-width:1.0\"/><circle cx=\"151\" cy=\"464\" r=\"3.0\" style=\"fill:rgb(58, 76, 192);stroke:black;stroke-width:1.0\"/><circle cx=\"20\" cy=\"320\" r=\"3.0\" style=\"fill:rgb(58, 76, 192);stroke:black;stroke-width:1.0\"/><circle cx=\"615\" cy=\"455\" r=\"3.0\" style=\"fill:rgb(58, 76, 192);stroke:black;stroke-width:1.0\"/><circle cx=\"387\" cy=\"520\" r=\"3.0\" style=\"fill:rgb(58, 76, 192);stroke:black;stroke-width:1.0\"/><circle cx=\"228\" cy=\"35\" r=\"3.0\" style=\"fill:rgb(58, 76, 192);stroke:black;stroke-width:1.0\"/><circle cx=\"57\" cy=\"157\" r=\"3.0\" style=\"fill:rgb(58, 76, 192);stroke:black;stroke-width:1.0\"/><circle cx=\"658\" cy=\"121\" r=\"3.0\" style=\"fill:rgb(58, 76, 192);stroke:black;stroke-width:1.0\"/><circle cx=\"465\" cy=\"20\" r=\"3.0\" style=\"fill:rgb(58, 76, 192);stroke:black;stroke-width:1.0\"/><text font-size=\"10\" x=\"726\" y=\"298\">Leo Dan</text><text font-size=\"10\" x=\"378\" y=\"273\">tephe</text><text font-size=\"10\" x=\"157\" y=\"467\">Eric Prydz</text><text font-size=\"10\" x=\"26\" y=\"323\">Gracie Abrams</text><text font-size=\"10\" x=\"621\" y=\"458\">Ivy Queen</text><text font-size=\"10\" x=\"393\" y=\"523\">Jessie Morales El Original De La Sierra</text><text font-size=\"10\" x=\"234\" y=\"38\">Los Elegantes de Jerez</text><text font-size=\"10\" x=\"63\" y=\"160\">NEGAPHONE</text><text font-size=\"10\" x=\"664\" y=\"124\">Inspector</text><text font-size=\"10\" x=\"471\" y=\"23\">Tanger</text></svg>"
      ],
      "text/plain": [
       "<IPython.core.display.SVG object>"
      ]
     },
     "execution_count": 17,
     "metadata": {},
     "output_type": "execute_result"
    }
   ],
   "source": [
    "ego = top_nodes[2]\n",
    "\n",
    "G_ego = nx.ego_graph(G, ego)\n",
    "\n",
    "draw_graph(G_ego, show_names=True, node_size=3, edge_width=0.3)"
   ]
  },
  {
   "cell_type": "code",
   "execution_count": 18,
   "id": "4c56a973",
   "metadata": {},
   "outputs": [
    {
     "data": {
      "image/svg+xml": [
       "<svg height=\"540\" width=\"825.0\" xmlns=\"http://www.w3.org/2000/svg\"><path d=\"M 488 20 364 267\" stroke=\"gray\" stroke-width=\"0.3\"/><path d=\"M 20 312 364 267\" stroke=\"gray\" stroke-width=\"0.3\"/><path d=\"M 59 139 364 267\" stroke=\"gray\" stroke-width=\"0.3\"/><path d=\"M 677 133 364 267\" stroke=\"gray\" stroke-width=\"0.3\"/><path d=\"M 600 465 364 267\" stroke=\"gray\" stroke-width=\"0.3\"/><path d=\"M 370 520 364 267\" stroke=\"gray\" stroke-width=\"0.3\"/><path d=\"M 720 309 364 267\" stroke=\"gray\" stroke-width=\"0.3\"/><path d=\"M 244 24 364 267\" stroke=\"gray\" stroke-width=\"0.3\"/><path d=\"M 364 267 488 20\" stroke=\"gray\" stroke-width=\"0.3\"/><path d=\"M 364 267 20 312\" stroke=\"gray\" stroke-width=\"0.3\"/><path d=\"M 364 267 59 139\" stroke=\"gray\" stroke-width=\"0.3\"/><path d=\"M 364 267 677 133\" stroke=\"gray\" stroke-width=\"0.3\"/><path d=\"M 364 267 600 465\" stroke=\"gray\" stroke-width=\"0.3\"/><path d=\"M 364 267 370 520\" stroke=\"gray\" stroke-width=\"0.3\"/><path d=\"M 364 267 720 309\" stroke=\"gray\" stroke-width=\"0.3\"/><path d=\"M 364 267 244 24\" stroke=\"gray\" stroke-width=\"0.3\"/><path d=\"M 364 267 141 463\" stroke=\"gray\" stroke-width=\"0.3\"/><path d=\"M 141 463 364 267\" stroke=\"gray\" stroke-width=\"0.3\"/><circle cx=\"488\" cy=\"20\" r=\"3.0\" style=\"fill:rgb(58, 76, 192);stroke:black;stroke-width:1.0\"/><circle cx=\"20\" cy=\"312\" r=\"3.0\" style=\"fill:rgb(58, 76, 192);stroke:black;stroke-width:1.0\"/><circle cx=\"59\" cy=\"139\" r=\"3.0\" style=\"fill:rgb(58, 76, 192);stroke:black;stroke-width:1.0\"/><circle cx=\"677\" cy=\"133\" r=\"3.0\" style=\"fill:rgb(58, 76, 192);stroke:black;stroke-width:1.0\"/><circle cx=\"600\" cy=\"465\" r=\"3.0\" style=\"fill:rgb(58, 76, 192);stroke:black;stroke-width:1.0\"/><circle cx=\"370\" cy=\"520\" r=\"3.0\" style=\"fill:rgb(58, 76, 192);stroke:black;stroke-width:1.0\"/><circle cx=\"720\" cy=\"309\" r=\"3.0\" style=\"fill:rgb(58, 76, 192);stroke:black;stroke-width:1.0\"/><circle cx=\"244\" cy=\"24\" r=\"3.0\" style=\"fill:rgb(58, 76, 192);stroke:black;stroke-width:1.0\"/><circle cx=\"364\" cy=\"267\" r=\"3.0\" style=\"fill:rgb(179, 3, 38);stroke:black;stroke-width:1.0\"/><circle cx=\"141\" cy=\"463\" r=\"3.0\" style=\"fill:rgb(58, 76, 192);stroke:black;stroke-width:1.0\"/><text font-size=\"10\" x=\"494\" y=\"23\">Big Moochie Grape</text><text font-size=\"10\" x=\"26\" y=\"315\">NEGAPHONE</text><text font-size=\"10\" x=\"65\" y=\"142\">Elvia</text><text font-size=\"10\" x=\"683\" y=\"136\">MilkyyMelodies</text><text font-size=\"10\" x=\"606\" y=\"468\">Blu DeTiger</text><text font-size=\"10\" x=\"376\" y=\"523\">YUNGBLUD</text><text font-size=\"10\" x=\"726\" y=\"312\">Hot Milk</text><text font-size=\"10\" x=\"250\" y=\"27\">spill tab</text><text font-size=\"10\" x=\"370\" y=\"270\">Conton Candy</text><text font-size=\"10\" x=\"147\" y=\"466\">Nic D</text></svg>"
      ],
      "text/plain": [
       "<IPython.core.display.SVG object>"
      ]
     },
     "execution_count": 18,
     "metadata": {},
     "output_type": "execute_result"
    }
   ],
   "source": [
    "ego = top_nodes[3]\n",
    "\n",
    "G_ego = nx.ego_graph(G, ego)\n",
    "\n",
    "draw_graph(G_ego, show_names=True, node_size=3, edge_width=0.3)"
   ]
  },
  {
   "cell_type": "code",
   "execution_count": 19,
   "id": "7230b1b1",
   "metadata": {},
   "outputs": [
    {
     "data": {
      "image/svg+xml": [
       "<svg height=\"540\" width=\"845.0\" xmlns=\"http://www.w3.org/2000/svg\"><path d=\"M 371 272 79 127\" stroke=\"gray\" stroke-width=\"0.3\"/><path d=\"M 371 272 443 520\" stroke=\"gray\" stroke-width=\"0.3\"/><path d=\"M 371 272 720 223\" stroke=\"gray\" stroke-width=\"0.3\"/><path d=\"M 371 272 672 412\" stroke=\"gray\" stroke-width=\"0.3\"/><path d=\"M 371 272 170 483\" stroke=\"gray\" stroke-width=\"0.3\"/><path d=\"M 371 272 20 320\" stroke=\"gray\" stroke-width=\"0.3\"/><path d=\"M 371 272 307 20\" stroke=\"gray\" stroke-width=\"0.3\"/><path d=\"M 371 272 569 60\" stroke=\"gray\" stroke-width=\"0.3\"/><path d=\"M 79 127 371 272\" stroke=\"gray\" stroke-width=\"0.3\"/><path d=\"M 443 520 371 272\" stroke=\"gray\" stroke-width=\"0.3\"/><path d=\"M 720 223 371 272\" stroke=\"gray\" stroke-width=\"0.3\"/><path d=\"M 672 412 371 272\" stroke=\"gray\" stroke-width=\"0.3\"/><path d=\"M 170 483 371 272\" stroke=\"gray\" stroke-width=\"0.3\"/><path d=\"M 20 320 371 272\" stroke=\"gray\" stroke-width=\"0.3\"/><path d=\"M 307 20 371 272\" stroke=\"gray\" stroke-width=\"0.3\"/><path d=\"M 569 60 371 272\" stroke=\"gray\" stroke-width=\"0.3\"/><circle cx=\"371\" cy=\"272\" r=\"3.0\" style=\"fill:rgb(179, 3, 38);stroke:black;stroke-width:1.0\"/><circle cx=\"79\" cy=\"127\" r=\"3.0\" style=\"fill:rgb(58, 76, 192);stroke:black;stroke-width:1.0\"/><circle cx=\"443\" cy=\"520\" r=\"3.0\" style=\"fill:rgb(58, 76, 192);stroke:black;stroke-width:1.0\"/><circle cx=\"720\" cy=\"223\" r=\"3.0\" style=\"fill:rgb(58, 76, 192);stroke:black;stroke-width:1.0\"/><circle cx=\"672\" cy=\"412\" r=\"3.0\" style=\"fill:rgb(58, 76, 192);stroke:black;stroke-width:1.0\"/><circle cx=\"170\" cy=\"483\" r=\"3.0\" style=\"fill:rgb(58, 76, 192);stroke:black;stroke-width:1.0\"/><circle cx=\"20\" cy=\"320\" r=\"3.0\" style=\"fill:rgb(58, 76, 192);stroke:black;stroke-width:1.0\"/><circle cx=\"307\" cy=\"20\" r=\"3.0\" style=\"fill:rgb(58, 76, 192);stroke:black;stroke-width:1.0\"/><circle cx=\"569\" cy=\"60\" r=\"3.0\" style=\"fill:rgb(58, 76, 192);stroke:black;stroke-width:1.0\"/><text font-size=\"10\" x=\"377\" y=\"275\">Mons</text><text font-size=\"10\" x=\"85\" y=\"130\">Bobby &quot;Boris&quot; Pickett</text><text font-size=\"10\" x=\"449\" y=\"523\">Kanye West</text><text font-size=\"10\" x=\"726\" y=\"226\">Skillet</text><text font-size=\"10\" x=\"678\" y=\"415\">LUM!X</text><text font-size=\"10\" x=\"176\" y=\"486\">Shinedown</text><text font-size=\"10\" x=\"26\" y=\"323\">All Time Low</text><text font-size=\"10\" x=\"313\" y=\"23\">NEGAPHONE</text><text font-size=\"10\" x=\"575\" y=\"63\">Lady Gaga</text></svg>"
      ],
      "text/plain": [
       "<IPython.core.display.SVG object>"
      ]
     },
     "execution_count": 19,
     "metadata": {},
     "output_type": "execute_result"
    }
   ],
   "source": [
    "ego = top_nodes[4]\n",
    "\n",
    "G_ego = nx.ego_graph(G, ego)\n",
    "\n",
    "draw_graph(G_ego, show_names=True, node_size=3, edge_width=0.3)"
   ]
  },
  {
   "cell_type": "code",
   "execution_count": 20,
   "id": "a0260ff0",
   "metadata": {},
   "outputs": [
    {
     "data": {
      "image/svg+xml": [
       "<svg height=\"540\" width=\"790.0\" xmlns=\"http://www.w3.org/2000/svg\"><path d=\"M 657 119 370 283\" stroke=\"gray\" stroke-width=\"0.3\"/><path d=\"M 720 344 370 283\" stroke=\"gray\" stroke-width=\"0.3\"/><path d=\"M 373 20 370 283\" stroke=\"gray\" stroke-width=\"0.3\"/><path d=\"M 519 520 370 283\" stroke=\"gray\" stroke-width=\"0.3\"/><path d=\"M 370 283 657 119\" stroke=\"gray\" stroke-width=\"0.3\"/><path d=\"M 370 283 720 344\" stroke=\"gray\" stroke-width=\"0.3\"/><path d=\"M 370 283 373 20\" stroke=\"gray\" stroke-width=\"0.3\"/><path d=\"M 370 283 519 520\" stroke=\"gray\" stroke-width=\"0.3\"/><path d=\"M 370 283 211 514\" stroke=\"gray\" stroke-width=\"0.3\"/><path d=\"M 370 283 87 119\" stroke=\"gray\" stroke-width=\"0.3\"/><path d=\"M 370 283 20 338\" stroke=\"gray\" stroke-width=\"0.3\"/><path d=\"M 211 514 370 283\" stroke=\"gray\" stroke-width=\"0.3\"/><path d=\"M 87 119 370 283\" stroke=\"gray\" stroke-width=\"0.3\"/><path d=\"M 20 338 370 283\" stroke=\"gray\" stroke-width=\"0.3\"/><circle cx=\"657\" cy=\"119\" r=\"3.0\" style=\"fill:rgb(58, 76, 192);stroke:black;stroke-width:1.0\"/><circle cx=\"720\" cy=\"344\" r=\"3.0\" style=\"fill:rgb(58, 76, 192);stroke:black;stroke-width:1.0\"/><circle cx=\"373\" cy=\"20\" r=\"3.0\" style=\"fill:rgb(58, 76, 192);stroke:black;stroke-width:1.0\"/><circle cx=\"519\" cy=\"520\" r=\"3.0\" style=\"fill:rgb(58, 76, 192);stroke:black;stroke-width:1.0\"/><circle cx=\"370\" cy=\"283\" r=\"3.0\" style=\"fill:rgb(179, 3, 38);stroke:black;stroke-width:1.0\"/><circle cx=\"211\" cy=\"514\" r=\"3.0\" style=\"fill:rgb(58, 76, 192);stroke:black;stroke-width:1.0\"/><circle cx=\"87\" cy=\"119\" r=\"3.0\" style=\"fill:rgb(58, 76, 192);stroke:black;stroke-width:1.0\"/><circle cx=\"20\" cy=\"338\" r=\"3.0\" style=\"fill:rgb(58, 76, 192);stroke:black;stroke-width:1.0\"/><text font-size=\"10\" x=\"663\" y=\"122\">BigChiiffa</text><text font-size=\"10\" x=\"726\" y=\"347\">AzChike</text><text font-size=\"10\" x=\"379\" y=\"23\">Big Sean</text><text font-size=\"10\" x=\"525\" y=\"523\">Young Iggz</text><text font-size=\"10\" x=\"376\" y=\"286\">Big Choze</text><text font-size=\"10\" x=\"217\" y=\"517\">B.B. King</text><text font-size=\"10\" x=\"93\" y=\"122\">Degree</text><text font-size=\"10\" x=\"26\" y=\"341\">Nirvana</text></svg>"
      ],
      "text/plain": [
       "<IPython.core.display.SVG object>"
      ]
     },
     "execution_count": 20,
     "metadata": {},
     "output_type": "execute_result"
    }
   ],
   "source": [
    "ego = top_nodes[5]\n",
    "\n",
    "G_ego = nx.ego_graph(G, ego)\n",
    "\n",
    "draw_graph(G_ego, show_names=True, node_size=3, edge_width=0.3)"
   ]
  },
  {
   "cell_type": "code",
   "execution_count": 21,
   "id": "90dda4ba",
   "metadata": {},
   "outputs": [
    {
     "data": {
      "image/svg+xml": [
       "<svg height=\"540\" width=\"830.0\" xmlns=\"http://www.w3.org/2000/svg\"><path d=\"M 165 63 382 270\" stroke=\"gray\" stroke-width=\"0.3\"/><path d=\"M 709 387 382 270\" stroke=\"gray\" stroke-width=\"0.3\"/><path d=\"M 477 20 382 270\" stroke=\"gray\" stroke-width=\"0.3\"/><path d=\"M 720 164 382 270\" stroke=\"gray\" stroke-width=\"0.3\"/><path d=\"M 20 260 382 270\" stroke=\"gray\" stroke-width=\"0.3\"/><path d=\"M 382 270 165 63\" stroke=\"gray\" stroke-width=\"0.3\"/><path d=\"M 382 270 709 387\" stroke=\"gray\" stroke-width=\"0.3\"/><path d=\"M 382 270 477 20\" stroke=\"gray\" stroke-width=\"0.3\"/><path d=\"M 382 270 720 164\" stroke=\"gray\" stroke-width=\"0.3\"/><path d=\"M 382 270 20 260\" stroke=\"gray\" stroke-width=\"0.3\"/><path d=\"M 382 270 148 463\" stroke=\"gray\" stroke-width=\"0.3\"/><path d=\"M 382 270 454 520\" stroke=\"gray\" stroke-width=\"0.3\"/><path d=\"M 148 463 382 270\" stroke=\"gray\" stroke-width=\"0.3\"/><path d=\"M 454 520 382 270\" stroke=\"gray\" stroke-width=\"0.3\"/><circle cx=\"165\" cy=\"63\" r=\"3.0\" style=\"fill:rgb(58, 76, 192);stroke:black;stroke-width:1.0\"/><circle cx=\"709\" cy=\"387\" r=\"3.0\" style=\"fill:rgb(58, 76, 192);stroke:black;stroke-width:1.0\"/><circle cx=\"477\" cy=\"20\" r=\"3.0\" style=\"fill:rgb(58, 76, 192);stroke:black;stroke-width:1.0\"/><circle cx=\"720\" cy=\"164\" r=\"3.0\" style=\"fill:rgb(58, 76, 192);stroke:black;stroke-width:1.0\"/><circle cx=\"20\" cy=\"260\" r=\"3.0\" style=\"fill:rgb(58, 76, 192);stroke:black;stroke-width:1.0\"/><circle cx=\"382\" cy=\"270\" r=\"3.0\" style=\"fill:rgb(179, 3, 38);stroke:black;stroke-width:1.0\"/><circle cx=\"148\" cy=\"463\" r=\"3.0\" style=\"fill:rgb(58, 76, 192);stroke:black;stroke-width:1.0\"/><circle cx=\"454\" cy=\"520\" r=\"3.0\" style=\"fill:rgb(58, 76, 192);stroke:black;stroke-width:1.0\"/><text font-size=\"10\" x=\"171\" y=\"66\">Mons</text><text font-size=\"10\" x=\"715\" y=\"390\">Nelyoti</text><text font-size=\"10\" x=\"483\" y=\"23\">tephe</text><text font-size=\"10\" x=\"726\" y=\"167\">B.B. King</text><text font-size=\"10\" x=\"26\" y=\"263\">Abdeelgha4</text><text font-size=\"10\" x=\"388\" y=\"273\">NEGAPHONE</text><text font-size=\"10\" x=\"154\" y=\"466\">Conton Candy</text><text font-size=\"10\" x=\"460\" y=\"523\">Animals As Leaders</text></svg>"
      ],
      "text/plain": [
       "<IPython.core.display.SVG object>"
      ]
     },
     "execution_count": 21,
     "metadata": {},
     "output_type": "execute_result"
    }
   ],
   "source": [
    "ego = top_nodes[6]\n",
    "\n",
    "G_ego = nx.ego_graph(G, ego)\n",
    "\n",
    "draw_graph(G_ego, show_names=True, node_size=3, edge_width=0.3)"
   ]
  },
  {
   "cell_type": "code",
   "execution_count": 22,
   "id": "1322b19e",
   "metadata": {},
   "outputs": [
    {
     "data": {
      "image/svg+xml": [
       "<svg height=\"540\" width=\"820.0\" xmlns=\"http://www.w3.org/2000/svg\"><path d=\"M 20 214 377 296\" stroke=\"gray\" stroke-width=\"0.3\"/><path d=\"M 583 520 377 296\" stroke=\"gray\" stroke-width=\"0.3\"/><path d=\"M 369 20 377 296\" stroke=\"gray\" stroke-width=\"0.3\"/><path d=\"M 720 209 377 296\" stroke=\"gray\" stroke-width=\"0.3\"/><path d=\"M 377 296 20 214\" stroke=\"gray\" stroke-width=\"0.3\"/><path d=\"M 377 296 583 520\" stroke=\"gray\" stroke-width=\"0.3\"/><path d=\"M 377 296 369 20\" stroke=\"gray\" stroke-width=\"0.3\"/><path d=\"M 377 296 720 209\" stroke=\"gray\" stroke-width=\"0.3\"/><path d=\"M 377 296 160 518\" stroke=\"gray\" stroke-width=\"0.3\"/><path d=\"M 160 518 377 296\" stroke=\"gray\" stroke-width=\"0.3\"/><circle cx=\"20\" cy=\"214\" r=\"3.0\" style=\"fill:rgb(58, 76, 192);stroke:black;stroke-width:1.0\"/><circle cx=\"583\" cy=\"520\" r=\"3.0\" style=\"fill:rgb(58, 76, 192);stroke:black;stroke-width:1.0\"/><circle cx=\"369\" cy=\"20\" r=\"3.0\" style=\"fill:rgb(58, 76, 192);stroke:black;stroke-width:1.0\"/><circle cx=\"720\" cy=\"209\" r=\"3.0\" style=\"fill:rgb(58, 76, 192);stroke:black;stroke-width:1.0\"/><circle cx=\"377\" cy=\"296\" r=\"3.0\" style=\"fill:rgb(179, 3, 38);stroke:black;stroke-width:1.0\"/><circle cx=\"160\" cy=\"518\" r=\"3.0\" style=\"fill:rgb(58, 76, 192);stroke:black;stroke-width:1.0\"/><text font-size=\"10\" x=\"26\" y=\"217\">Kelsea Ballerini</text><text font-size=\"10\" x=\"589\" y=\"523\">Harry Hudson</text><text font-size=\"10\" x=\"375\" y=\"23\">Jesse Novak</text><text font-size=\"10\" x=\"726\" y=\"212\">WeeBay</text><text font-size=\"10\" x=\"383\" y=\"299\">kelseyi</text><text font-size=\"10\" x=\"166\" y=\"521\">Metro Station</text></svg>"
      ],
      "text/plain": [
       "<IPython.core.display.SVG object>"
      ]
     },
     "execution_count": 22,
     "metadata": {},
     "output_type": "execute_result"
    }
   ],
   "source": [
    "ego = top_nodes[7]\n",
    "\n",
    "G_ego = nx.ego_graph(G, ego)\n",
    "\n",
    "draw_graph(G_ego, show_names=True, node_size=3, edge_width=0.3)"
   ]
  },
  {
   "cell_type": "code",
   "execution_count": 23,
   "id": "dd7963b3",
   "metadata": {},
   "outputs": [
    {
     "data": {
      "image/svg+xml": [
       "<svg height=\"540\" width=\"785.0\" xmlns=\"http://www.w3.org/2000/svg\"><path d=\"M 505 520 348 284\" stroke=\"gray\" stroke-width=\"0.3\"/><path d=\"M 420 20 348 284\" stroke=\"gray\" stroke-width=\"0.3\"/><path d=\"M 73 460 348 284\" stroke=\"gray\" stroke-width=\"0.3\"/><path d=\"M 348 284 505 520\" stroke=\"gray\" stroke-width=\"0.3\"/><path d=\"M 348 284 420 20\" stroke=\"gray\" stroke-width=\"0.3\"/><path d=\"M 348 284 73 460\" stroke=\"gray\" stroke-width=\"0.3\"/><path d=\"M 348 284 720 248\" stroke=\"gray\" stroke-width=\"0.3\"/><path d=\"M 348 284 20 152\" stroke=\"gray\" stroke-width=\"0.3\"/><path d=\"M 720 248 348 284\" stroke=\"gray\" stroke-width=\"0.3\"/><path d=\"M 20 152 348 284\" stroke=\"gray\" stroke-width=\"0.3\"/><circle cx=\"505\" cy=\"520\" r=\"3.0\" style=\"fill:rgb(58, 76, 192);stroke:black;stroke-width:1.0\"/><circle cx=\"420\" cy=\"20\" r=\"3.0\" style=\"fill:rgb(58, 76, 192);stroke:black;stroke-width:1.0\"/><circle cx=\"73\" cy=\"460\" r=\"3.0\" style=\"fill:rgb(58, 76, 192);stroke:black;stroke-width:1.0\"/><circle cx=\"348\" cy=\"284\" r=\"3.0\" style=\"fill:rgb(179, 3, 38);stroke:black;stroke-width:1.0\"/><circle cx=\"720\" cy=\"248\" r=\"3.0\" style=\"fill:rgb(58, 76, 192);stroke:black;stroke-width:1.0\"/><circle cx=\"20\" cy=\"152\" r=\"3.0\" style=\"fill:rgb(58, 76, 192);stroke:black;stroke-width:1.0\"/><text font-size=\"10\" x=\"511\" y=\"523\">U2</text><text font-size=\"10\" x=\"426\" y=\"23\">Big Choze</text><text font-size=\"10\" x=\"79\" y=\"463\">WeeBay</text><text font-size=\"10\" x=\"354\" y=\"287\">B.B. King</text><text font-size=\"10\" x=\"726\" y=\"251\">NEGAPHONE</text><text font-size=\"10\" x=\"26\" y=\"155\">Lil Wayne</text></svg>"
      ],
      "text/plain": [
       "<IPython.core.display.SVG object>"
      ]
     },
     "execution_count": 23,
     "metadata": {},
     "output_type": "execute_result"
    }
   ],
   "source": [
    "ego = top_nodes[8]\n",
    "\n",
    "G_ego = nx.ego_graph(G, ego)\n",
    "\n",
    "draw_graph(G_ego, show_names=True, node_size=3, edge_width=0.3)"
   ]
  },
  {
   "cell_type": "code",
   "execution_count": 24,
   "id": "6cf977b9",
   "metadata": {},
   "outputs": [
    {
     "data": {
      "image/svg+xml": [
       "<svg height=\"540\" width=\"805.0\" xmlns=\"http://www.w3.org/2000/svg\"><path d=\"M 469 20 373 273\" stroke=\"gray\" stroke-width=\"0.3\"/><path d=\"M 373 273 469 20\" stroke=\"gray\" stroke-width=\"0.3\"/><path d=\"M 373 273 720 342\" stroke=\"gray\" stroke-width=\"0.3\"/><path d=\"M 373 273 20 198\" stroke=\"gray\" stroke-width=\"0.3\"/><path d=\"M 373 273 267 520\" stroke=\"gray\" stroke-width=\"0.3\"/><path d=\"M 720 342 373 273\" stroke=\"gray\" stroke-width=\"0.3\"/><path d=\"M 20 198 373 273\" stroke=\"gray\" stroke-width=\"0.3\"/><path d=\"M 267 520 373 273\" stroke=\"gray\" stroke-width=\"0.3\"/><circle cx=\"469\" cy=\"20\" r=\"3.0\" style=\"fill:rgb(58, 76, 192);stroke:black;stroke-width:1.0\"/><circle cx=\"373\" cy=\"273\" r=\"3.0\" style=\"fill:rgb(179, 3, 38);stroke:black;stroke-width:1.0\"/><circle cx=\"720\" cy=\"342\" r=\"3.0\" style=\"fill:rgb(58, 76, 192);stroke:black;stroke-width:1.0\"/><circle cx=\"20\" cy=\"198\" r=\"3.0\" style=\"fill:rgb(58, 76, 192);stroke:black;stroke-width:1.0\"/><circle cx=\"267\" cy=\"520\" r=\"3.0\" style=\"fill:rgb(58, 76, 192);stroke:black;stroke-width:1.0\"/><text font-size=\"10\" x=\"475\" y=\"23\">WeeBay</text><text font-size=\"10\" x=\"379\" y=\"276\">Webbie</text><text font-size=\"10\" x=\"726\" y=\"345\">Isaiah Rashad</text><text font-size=\"10\" x=\"26\" y=\"201\">Boosie Badazz</text><text font-size=\"10\" x=\"273\" y=\"523\">Young Thug</text></svg>"
      ],
      "text/plain": [
       "<IPython.core.display.SVG object>"
      ]
     },
     "execution_count": 24,
     "metadata": {},
     "output_type": "execute_result"
    }
   ],
   "source": [
    "ego = top_nodes[9]\n",
    "\n",
    "G_ego = nx.ego_graph(G, ego)\n",
    "\n",
    "draw_graph(G_ego, show_names=True, node_size=3, edge_width=0.3)"
   ]
  },
  {
   "cell_type": "code",
   "execution_count": 25,
   "id": "ef7164d7",
   "metadata": {},
   "outputs": [
    {
     "data": {
      "image/svg+xml": [
       "<svg height=\"540\" width=\"810.0\" xmlns=\"http://www.w3.org/2000/svg\"><path d=\"M 168 20 374 267\" stroke=\"gray\" stroke-width=\"0.3\"/><path d=\"M 720 110 374 267\" stroke=\"gray\" stroke-width=\"0.3\"/><path d=\"M 374 267 168 20\" stroke=\"gray\" stroke-width=\"0.3\"/><path d=\"M 374 267 720 110\" stroke=\"gray\" stroke-width=\"0.3\"/><path d=\"M 374 267 20 411\" stroke=\"gray\" stroke-width=\"0.3\"/><path d=\"M 374 267 590 520\" stroke=\"gray\" stroke-width=\"0.3\"/><path d=\"M 20 411 374 267\" stroke=\"gray\" stroke-width=\"0.3\"/><path d=\"M 590 520 374 267\" stroke=\"gray\" stroke-width=\"0.3\"/><circle cx=\"168\" cy=\"20\" r=\"3.0\" style=\"fill:rgb(58, 76, 192);stroke:black;stroke-width:1.0\"/><circle cx=\"720\" cy=\"110\" r=\"3.0\" style=\"fill:rgb(58, 76, 192);stroke:black;stroke-width:1.0\"/><circle cx=\"374\" cy=\"267\" r=\"3.0\" style=\"fill:rgb(179, 3, 38);stroke:black;stroke-width:1.0\"/><circle cx=\"20\" cy=\"411\" r=\"3.0\" style=\"fill:rgb(58, 76, 192);stroke:black;stroke-width:1.0\"/><circle cx=\"590\" cy=\"520\" r=\"3.0\" style=\"fill:rgb(58, 76, 192);stroke:black;stroke-width:1.0\"/><text font-size=\"10\" x=\"174\" y=\"23\">Token</text><text font-size=\"10\" x=\"726\" y=\"113\">Supereffective</text><text font-size=\"10\" x=\"380\" y=\"270\">Duzzy Funlop</text><text font-size=\"10\" x=\"26\" y=\"414\">WeeBay</text><text font-size=\"10\" x=\"596\" y=\"523\">Jaydes Archive</text></svg>"
      ],
      "text/plain": [
       "<IPython.core.display.SVG object>"
      ]
     },
     "execution_count": 25,
     "metadata": {},
     "output_type": "execute_result"
    }
   ],
   "source": [
    "ego = top_nodes[10]\n",
    "\n",
    "G_ego = nx.ego_graph(G, ego)\n",
    "\n",
    "draw_graph(G_ego, show_names=True, node_size=3, edge_width=0.3)"
   ]
  },
  {
   "cell_type": "code",
   "execution_count": 26,
   "id": "4eb13cf1",
   "metadata": {},
   "outputs": [
    {
     "data": {
      "image/svg+xml": [
       "<svg height=\"540\" width=\"810.0\" xmlns=\"http://www.w3.org/2000/svg\"><path d=\"M 720 66 357 269\" stroke=\"gray\" stroke-width=\"0.3\"/><path d=\"M 652 520 357 269\" stroke=\"gray\" stroke-width=\"0.3\"/><path d=\"M 58 20 357 269\" stroke=\"gray\" stroke-width=\"0.3\"/><path d=\"M 20 489 357 269\" stroke=\"gray\" stroke-width=\"0.3\"/><path d=\"M 357 269 720 66\" stroke=\"gray\" stroke-width=\"0.3\"/><path d=\"M 357 269 652 520\" stroke=\"gray\" stroke-width=\"0.3\"/><path d=\"M 357 269 58 20\" stroke=\"gray\" stroke-width=\"0.3\"/><path d=\"M 357 269 20 489\" stroke=\"gray\" stroke-width=\"0.3\"/><circle cx=\"720\" cy=\"66\" r=\"3.0\" style=\"fill:rgb(58, 76, 192);stroke:black;stroke-width:1.0\"/><circle cx=\"652\" cy=\"520\" r=\"3.0\" style=\"fill:rgb(58, 76, 192);stroke:black;stroke-width:1.0\"/><circle cx=\"58\" cy=\"20\" r=\"3.0\" style=\"fill:rgb(58, 76, 192);stroke:black;stroke-width:1.0\"/><circle cx=\"20\" cy=\"489\" r=\"3.0\" style=\"fill:rgb(58, 76, 192);stroke:black;stroke-width:1.0\"/><circle cx=\"357\" cy=\"269\" r=\"3.0\" style=\"fill:rgb(179, 3, 38);stroke:black;stroke-width:1.0\"/><text font-size=\"10\" x=\"726\" y=\"69\">Alexa Cappelli</text><text font-size=\"10\" x=\"658\" y=\"523\">WeeBay</text><text font-size=\"10\" x=\"64\" y=\"23\">Alex Campos</text><text font-size=\"10\" x=\"26\" y=\"492\">Alex Nocera</text><text font-size=\"10\" x=\"363\" y=\"272\">Alexnocap</text></svg>"
      ],
      "text/plain": [
       "<IPython.core.display.SVG object>"
      ]
     },
     "execution_count": 26,
     "metadata": {},
     "output_type": "execute_result"
    }
   ],
   "source": [
    "ego = top_nodes[11]\n",
    "\n",
    "G_ego = nx.ego_graph(G, ego)\n",
    "\n",
    "draw_graph(G_ego, show_names=True, node_size=3, edge_width=0.3)"
   ]
  },
  {
   "cell_type": "code",
   "execution_count": 27,
   "id": "ee577df8",
   "metadata": {},
   "outputs": [
    {
     "data": {
      "image/svg+xml": [
       "<svg height=\"540\" width=\"825.0\" xmlns=\"http://www.w3.org/2000/svg\"><path d=\"M 569 20 369 265\" stroke=\"gray\" stroke-width=\"0.3\"/><path d=\"M 369 265 569 20\" stroke=\"gray\" stroke-width=\"0.3\"/><path d=\"M 369 265 186 520\" stroke=\"gray\" stroke-width=\"0.3\"/><path d=\"M 369 265 720 400\" stroke=\"gray\" stroke-width=\"0.3\"/><path d=\"M 369 265 20 124\" stroke=\"gray\" stroke-width=\"0.3\"/><path d=\"M 186 520 369 265\" stroke=\"gray\" stroke-width=\"0.3\"/><path d=\"M 720 400 369 265\" stroke=\"gray\" stroke-width=\"0.3\"/><path d=\"M 20 124 369 265\" stroke=\"gray\" stroke-width=\"0.3\"/><circle cx=\"569\" cy=\"20\" r=\"3.0\" style=\"fill:rgb(58, 76, 192);stroke:black;stroke-width:1.0\"/><circle cx=\"369\" cy=\"265\" r=\"3.0\" style=\"fill:rgb(179, 3, 38);stroke:black;stroke-width:1.0\"/><circle cx=\"186\" cy=\"520\" r=\"3.0\" style=\"fill:rgb(58, 76, 192);stroke:black;stroke-width:1.0\"/><circle cx=\"720\" cy=\"400\" r=\"3.0\" style=\"fill:rgb(58, 76, 192);stroke:black;stroke-width:1.0\"/><circle cx=\"20\" cy=\"124\" r=\"3.0\" style=\"fill:rgb(58, 76, 192);stroke:black;stroke-width:1.0\"/><text font-size=\"10\" x=\"575\" y=\"23\">Abdallah Adel</text><text font-size=\"10\" x=\"375\" y=\"268\">Abdeelgha4</text><text font-size=\"10\" x=\"192\" y=\"523\">Abdelli</text><text font-size=\"10\" x=\"726\" y=\"403\">NEGAPHONE</text><text font-size=\"10\" x=\"26\" y=\"127\">Abdel Halim Hafez</text></svg>"
      ],
      "text/plain": [
       "<IPython.core.display.SVG object>"
      ]
     },
     "execution_count": 27,
     "metadata": {},
     "output_type": "execute_result"
    }
   ],
   "source": [
    "ego = top_nodes[12]\n",
    "\n",
    "G_ego = nx.ego_graph(G, ego)\n",
    "\n",
    "draw_graph(G_ego, show_names=True, node_size=3, edge_width=0.3)"
   ]
  },
  {
   "cell_type": "code",
   "execution_count": 28,
   "id": "ac1d528b",
   "metadata": {},
   "outputs": [
    {
     "data": {
      "image/svg+xml": [
       "<svg height=\"540\" width=\"785.0\" xmlns=\"http://www.w3.org/2000/svg\"><path d=\"M 531 20 374 269\" stroke=\"gray\" stroke-width=\"0.3\"/><path d=\"M 207 520 374 269\" stroke=\"gray\" stroke-width=\"0.3\"/><path d=\"M 720 388 374 269\" stroke=\"gray\" stroke-width=\"0.3\"/><path d=\"M 20 156 374 269\" stroke=\"gray\" stroke-width=\"0.3\"/><path d=\"M 374 269 531 20\" stroke=\"gray\" stroke-width=\"0.3\"/><path d=\"M 374 269 207 520\" stroke=\"gray\" stroke-width=\"0.3\"/><path d=\"M 374 269 720 388\" stroke=\"gray\" stroke-width=\"0.3\"/><path d=\"M 374 269 20 156\" stroke=\"gray\" stroke-width=\"0.3\"/><circle cx=\"531\" cy=\"20\" r=\"3.0\" style=\"fill:rgb(58, 76, 192);stroke:black;stroke-width:1.0\"/><circle cx=\"207\" cy=\"520\" r=\"3.0\" style=\"fill:rgb(58, 76, 192);stroke:black;stroke-width:1.0\"/><circle cx=\"720\" cy=\"388\" r=\"3.0\" style=\"fill:rgb(58, 76, 192);stroke:black;stroke-width:1.0\"/><circle cx=\"20\" cy=\"156\" r=\"3.0\" style=\"fill:rgb(58, 76, 192);stroke:black;stroke-width:1.0\"/><circle cx=\"374\" cy=\"269\" r=\"3.0\" style=\"fill:rgb(179, 3, 38);stroke:black;stroke-width:1.0\"/><text font-size=\"10\" x=\"537\" y=\"23\">Drake</text><text font-size=\"10\" x=\"213\" y=\"523\">Jay Sean</text><text font-size=\"10\" x=\"726\" y=\"391\">Tyga</text><text font-size=\"10\" x=\"26\" y=\"159\">B.B. King</text><text font-size=\"10\" x=\"380\" y=\"272\">Lil Wayne</text></svg>"
      ],
      "text/plain": [
       "<IPython.core.display.SVG object>"
      ]
     },
     "execution_count": 28,
     "metadata": {},
     "output_type": "execute_result"
    }
   ],
   "source": [
    "ego = top_nodes[13]\n",
    "\n",
    "G_ego = nx.ego_graph(G, ego)\n",
    "\n",
    "draw_graph(G_ego, show_names=True, node_size=3, edge_width=0.3)"
   ]
  },
  {
   "cell_type": "code",
   "execution_count": 29,
   "id": "e670aa2c",
   "metadata": {},
   "outputs": [
    {
     "data": {
      "image/svg+xml": [
       "<svg height=\"540\" width=\"810.0\" xmlns=\"http://www.w3.org/2000/svg\"><path d=\"M 487 520 409 221\" stroke=\"gray\" stroke-width=\"0.3\"/><path d=\"M 409 221 487 520\" stroke=\"gray\" stroke-width=\"0.3\"/><path d=\"M 409 221 20 130\" stroke=\"gray\" stroke-width=\"0.3\"/><path d=\"M 409 221 720 20\" stroke=\"gray\" stroke-width=\"0.3\"/><path d=\"M 20 130 409 221\" stroke=\"gray\" stroke-width=\"0.3\"/><path d=\"M 720 20 409 221\" stroke=\"gray\" stroke-width=\"0.3\"/><circle cx=\"487\" cy=\"520\" r=\"3.0\" style=\"fill:rgb(58, 76, 192);stroke:black;stroke-width:1.0\"/><circle cx=\"409\" cy=\"221\" r=\"3.0\" style=\"fill:rgb(179, 3, 38);stroke:black;stroke-width:1.0\"/><circle cx=\"20\" cy=\"130\" r=\"3.0\" style=\"fill:rgb(58, 76, 192);stroke:black;stroke-width:1.0\"/><circle cx=\"720\" cy=\"20\" r=\"3.0\" style=\"fill:rgb(58, 76, 192);stroke:black;stroke-width:1.0\"/><text font-size=\"10\" x=\"493\" y=\"523\">U2</text><text font-size=\"10\" x=\"415\" y=\"224\">Kendrick Lamar</text><text font-size=\"10\" x=\"26\" y=\"133\">Baby Keem</text><text font-size=\"10\" x=\"726\" y=\"23\">Taylor Swift</text></svg>"
      ],
      "text/plain": [
       "<IPython.core.display.SVG object>"
      ]
     },
     "execution_count": 29,
     "metadata": {},
     "output_type": "execute_result"
    }
   ],
   "source": [
    "ego = top_nodes[14]\n",
    "\n",
    "G_ego = nx.ego_graph(G, ego)\n",
    "\n",
    "draw_graph(G_ego, show_names=True, node_size=3, edge_width=0.3)"
   ]
  },
  {
   "cell_type": "code",
   "execution_count": 30,
   "id": "646511f2",
   "metadata": {},
   "outputs": [
    {
     "data": {
      "image/svg+xml": [
       "<svg height=\"540\" width=\"805.0\" xmlns=\"http://www.w3.org/2000/svg\"><path d=\"M 339 321 20 520\" stroke=\"gray\" stroke-width=\"0.3\"/><path d=\"M 339 321 268 20\" stroke=\"gray\" stroke-width=\"0.3\"/><path d=\"M 339 321 720 431\" stroke=\"gray\" stroke-width=\"0.3\"/><path d=\"M 20 520 339 321\" stroke=\"gray\" stroke-width=\"0.3\"/><path d=\"M 268 20 339 321\" stroke=\"gray\" stroke-width=\"0.3\"/><path d=\"M 720 431 339 321\" stroke=\"gray\" stroke-width=\"0.3\"/><circle cx=\"339\" cy=\"321\" r=\"3.0\" style=\"fill:rgb(179, 3, 38);stroke:black;stroke-width:1.0\"/><circle cx=\"20\" cy=\"520\" r=\"3.0\" style=\"fill:rgb(58, 76, 192);stroke:black;stroke-width:1.0\"/><circle cx=\"268\" cy=\"20\" r=\"3.0\" style=\"fill:rgb(58, 76, 192);stroke:black;stroke-width:1.0\"/><circle cx=\"720\" cy=\"431\" r=\"3.0\" style=\"fill:rgb(58, 76, 192);stroke:black;stroke-width:1.0\"/><text font-size=\"10\" x=\"345\" y=\"324\">Tyga</text><text font-size=\"10\" x=\"26\" y=\"523\">Lil Wayne</text><text font-size=\"10\" x=\"274\" y=\"23\">Travis Porter</text><text font-size=\"10\" x=\"726\" y=\"434\">Justine Skye</text></svg>"
      ],
      "text/plain": [
       "<IPython.core.display.SVG object>"
      ]
     },
     "execution_count": 30,
     "metadata": {},
     "output_type": "execute_result"
    }
   ],
   "source": [
    "ego = top_nodes[15]\n",
    "\n",
    "G_ego = nx.ego_graph(G, ego)\n",
    "\n",
    "draw_graph(G_ego, show_names=True, node_size=3, edge_width=0.3)"
   ]
  },
  {
   "cell_type": "code",
   "execution_count": 31,
   "id": "aca75f02",
   "metadata": {},
   "outputs": [
    {
     "data": {
      "image/svg+xml": [
       "<svg height=\"540\" width=\"795.0\" xmlns=\"http://www.w3.org/2000/svg\"><path d=\"M 20 520 345 322\" stroke=\"gray\" stroke-width=\"0.3\"/><path d=\"M 720 445 345 322\" stroke=\"gray\" stroke-width=\"0.3\"/><path d=\"M 345 322 20 520\" stroke=\"gray\" stroke-width=\"0.3\"/><path d=\"M 345 322 720 445\" stroke=\"gray\" stroke-width=\"0.3\"/><path d=\"M 345 322 288 20\" stroke=\"gray\" stroke-width=\"0.3\"/><path d=\"M 288 20 345 322\" stroke=\"gray\" stroke-width=\"0.3\"/><circle cx=\"20\" cy=\"520\" r=\"3.0\" style=\"fill:rgb(58, 76, 192);stroke:black;stroke-width:1.0\"/><circle cx=\"720\" cy=\"445\" r=\"3.0\" style=\"fill:rgb(58, 76, 192);stroke:black;stroke-width:1.0\"/><circle cx=\"345\" cy=\"322\" r=\"3.0\" style=\"fill:rgb(179, 3, 38);stroke:black;stroke-width:1.0\"/><circle cx=\"288\" cy=\"20\" r=\"3.0\" style=\"fill:rgb(58, 76, 192);stroke:black;stroke-width:1.0\"/><text font-size=\"10\" x=\"26\" y=\"523\">Jack Harlow</text><text font-size=\"10\" x=\"726\" y=\"448\">Kanye West</text><text font-size=\"10\" x=\"351\" y=\"325\">Big Sean</text><text font-size=\"10\" x=\"294\" y=\"23\">Big Choze</text></svg>"
      ],
      "text/plain": [
       "<IPython.core.display.SVG object>"
      ]
     },
     "execution_count": 31,
     "metadata": {},
     "output_type": "execute_result"
    }
   ],
   "source": [
    "ego = top_nodes[16]\n",
    "\n",
    "G_ego = nx.ego_graph(G, ego)\n",
    "\n",
    "draw_graph(G_ego, show_names=True, node_size=3, edge_width=0.3)"
   ]
  },
  {
   "cell_type": "code",
   "execution_count": 32,
   "id": "563015ea",
   "metadata": {},
   "outputs": [
    {
     "data": {
      "image/svg+xml": [
       "<svg height=\"540\" width=\"790.0\" xmlns=\"http://www.w3.org/2000/svg\"><path d=\"M 20 20 328 222\" stroke=\"gray\" stroke-width=\"0.3\"/><path d=\"M 328 222 20 20\" stroke=\"gray\" stroke-width=\"0.3\"/><path d=\"M 328 222 720 124\" stroke=\"gray\" stroke-width=\"0.3\"/><path d=\"M 328 222 247 520\" stroke=\"gray\" stroke-width=\"0.3\"/><path d=\"M 720 124 328 222\" stroke=\"gray\" stroke-width=\"0.3\"/><path d=\"M 247 520 328 222\" stroke=\"gray\" stroke-width=\"0.3\"/><circle cx=\"20\" cy=\"20\" r=\"3.0\" style=\"fill:rgb(58, 76, 192);stroke:black;stroke-width:1.0\"/><circle cx=\"328\" cy=\"222\" r=\"3.0\" style=\"fill:rgb(179, 3, 38);stroke:black;stroke-width:1.0\"/><circle cx=\"720\" cy=\"124\" r=\"3.0\" style=\"fill:rgb(58, 76, 192);stroke:black;stroke-width:1.0\"/><circle cx=\"247\" cy=\"520\" r=\"3.0\" style=\"fill:rgb(58, 76, 192);stroke:black;stroke-width:1.0\"/><text font-size=\"10\" x=\"26\" y=\"23\">Mons</text><text font-size=\"10\" x=\"334\" y=\"225\">Kanye West</text><text font-size=\"10\" x=\"726\" y=\"127\">Big Sean</text><text font-size=\"10\" x=\"253\" y=\"523\">Degree</text></svg>"
      ],
      "text/plain": [
       "<IPython.core.display.SVG object>"
      ]
     },
     "execution_count": 32,
     "metadata": {},
     "output_type": "execute_result"
    }
   ],
   "source": [
    "ego = top_nodes[17]\n",
    "\n",
    "G_ego = nx.ego_graph(G, ego)\n",
    "\n",
    "draw_graph(G_ego, show_names=True, node_size=3, edge_width=0.3)"
   ]
  },
  {
   "cell_type": "code",
   "execution_count": 33,
   "id": "f2254f91",
   "metadata": {},
   "outputs": [
    {
     "data": {
      "image/svg+xml": [
       "<svg height=\"540\" width=\"790.0\" xmlns=\"http://www.w3.org/2000/svg\"><path d=\"M 720 20 352 257\" stroke=\"gray\" stroke-width=\"0.3\"/><path d=\"M 20 520 352 257\" stroke=\"gray\" stroke-width=\"0.3\"/><path d=\"M 352 257 720 20\" stroke=\"gray\" stroke-width=\"0.3\"/><path d=\"M 352 257 20 520\" stroke=\"gray\" stroke-width=\"0.3\"/><circle cx=\"720\" cy=\"20\" r=\"3.0\" style=\"fill:rgb(58, 76, 192);stroke:black;stroke-width:1.0\"/><circle cx=\"20\" cy=\"520\" r=\"3.0\" style=\"fill:rgb(58, 76, 192);stroke:black;stroke-width:1.0\"/><circle cx=\"352\" cy=\"257\" r=\"3.0\" style=\"fill:rgb(179, 3, 38);stroke:black;stroke-width:1.0\"/><text font-size=\"10\" x=\"726\" y=\"23\">Rishi Rich</text><text font-size=\"10\" x=\"26\" y=\"523\">Lil Wayne</text><text font-size=\"10\" x=\"358\" y=\"260\">Jay Sean</text></svg>"
      ],
      "text/plain": [
       "<IPython.core.display.SVG object>"
      ]
     },
     "execution_count": 33,
     "metadata": {},
     "output_type": "execute_result"
    }
   ],
   "source": [
    "ego = top_nodes[18]\n",
    "\n",
    "G_ego = nx.ego_graph(G, ego)\n",
    "\n",
    "draw_graph(G_ego, show_names=True, node_size=3, edge_width=0.3)"
   ]
  },
  {
   "cell_type": "code",
   "execution_count": 34,
   "id": "26365521",
   "metadata": {},
   "outputs": [
    {
     "data": {
      "image/svg+xml": [
       "<svg height=\"540\" width=\"800.0\" xmlns=\"http://www.w3.org/2000/svg\"><path d=\"M 380 255 720 520\" stroke=\"gray\" stroke-width=\"0.3\"/><path d=\"M 380 255 20 20\" stroke=\"gray\" stroke-width=\"0.3\"/><path d=\"M 720 520 380 255\" stroke=\"gray\" stroke-width=\"0.3\"/><path d=\"M 20 20 380 255\" stroke=\"gray\" stroke-width=\"0.3\"/><circle cx=\"380\" cy=\"255\" r=\"3.0\" style=\"fill:rgb(179, 3, 38);stroke:black;stroke-width:1.0\"/><circle cx=\"720\" cy=\"520\" r=\"3.0\" style=\"fill:rgb(58, 76, 192);stroke:black;stroke-width:1.0\"/><circle cx=\"20\" cy=\"20\" r=\"3.0\" style=\"fill:rgb(58, 76, 192);stroke:black;stroke-width:1.0\"/><text font-size=\"10\" x=\"386\" y=\"258\">Drake</text><text font-size=\"10\" x=\"726\" y=\"523\">Lil Wayne</text><text font-size=\"10\" x=\"26\" y=\"23\">Travis Scott</text></svg>"
      ],
      "text/plain": [
       "<IPython.core.display.SVG object>"
      ]
     },
     "execution_count": 34,
     "metadata": {},
     "output_type": "execute_result"
    }
   ],
   "source": [
    "ego = top_nodes[19]\n",
    "\n",
    "G_ego = nx.ego_graph(G, ego)\n",
    "\n",
    "draw_graph(G_ego, show_names=True, node_size=3, edge_width=0.3)"
   ]
  },
  {
   "cell_type": "markdown",
   "id": "c41a5cc6",
   "metadata": {},
   "source": [
    "# Shortest Paths\n",
    "\n",
    "In a collaboration network, shortest paths can be interesting, to know how to get from one person to another, or one artist to another.\n",
    "\n",
    "What in the world did Lil Wayne do with B.B. King? "
   ]
  },
  {
   "cell_type": "code",
   "execution_count": 37,
   "id": "47ba1a04",
   "metadata": {},
   "outputs": [
    {
     "data": {
      "text/plain": [
       "['B.B. King', 'Lil Wayne']"
      ]
     },
     "execution_count": 37,
     "metadata": {},
     "output_type": "execute_result"
    }
   ],
   "source": [
    "nx.shortest_path(G, 'B.B. King', 'Lil Wayne')"
   ]
  },
  {
   "cell_type": "code",
   "execution_count": 38,
   "id": "10c41904",
   "metadata": {},
   "outputs": [
    {
     "data": {
      "image/svg+xml": [
       "<svg height=\"540\" width=\"830.0\" xmlns=\"http://www.w3.org/2000/svg\"><path d=\"M 303 495 376 424\" stroke=\"gray\" stroke-width=\"0.3\"/><path d=\"M 717 390 603 353\" stroke=\"gray\" stroke-width=\"0.3\"/><path d=\"M 612 143 545 112\" stroke=\"gray\" stroke-width=\"0.3\"/><path d=\"M 187 179 157 243\" stroke=\"gray\" stroke-width=\"0.3\"/><path d=\"M 137 323 157 243\" stroke=\"gray\" stroke-width=\"0.3\"/><path d=\"M 69 270 157 243\" stroke=\"gray\" stroke-width=\"0.3\"/><path d=\"M 157 243 187 179\" stroke=\"gray\" stroke-width=\"0.3\"/><path d=\"M 157 243 137 323\" stroke=\"gray\" stroke-width=\"0.3\"/><path d=\"M 157 243 69 270\" stroke=\"gray\" stroke-width=\"0.3\"/><path d=\"M 157 243 71 172\" stroke=\"gray\" stroke-width=\"0.3\"/><path d=\"M 157 243 127 155\" stroke=\"gray\" stroke-width=\"0.3\"/><path d=\"M 157 243 69 316\" stroke=\"gray\" stroke-width=\"0.3\"/><path d=\"M 157 243 39 208\" stroke=\"gray\" stroke-width=\"0.3\"/><path d=\"M 157 243 207 285\" stroke=\"gray\" stroke-width=\"0.3\"/><path d=\"M 157 243 412 261\" stroke=\"gray\" stroke-width=\"0.3\"/><path d=\"M 157 243 20 254\" stroke=\"gray\" stroke-width=\"0.3\"/><path d=\"M 71 172 157 243\" stroke=\"gray\" stroke-width=\"0.3\"/><path d=\"M 545 112 612 143\" stroke=\"gray\" stroke-width=\"0.3\"/><path d=\"M 545 112 598 24\" stroke=\"gray\" stroke-width=\"0.3\"/><path d=\"M 545 112 644 54\" stroke=\"gray\" stroke-width=\"0.3\"/><path d=\"M 545 112 660 100\" stroke=\"gray\" stroke-width=\"0.3\"/><path d=\"M 545 112 487 52\" stroke=\"gray\" stroke-width=\"0.3\"/><path d=\"M 545 112 537 20\" stroke=\"gray\" stroke-width=\"0.3\"/><path d=\"M 545 112 412 261\" stroke=\"gray\" stroke-width=\"0.3\"/><path d=\"M 127 155 157 243\" stroke=\"gray\" stroke-width=\"0.3\"/><path d=\"M 396 153 379 60\" stroke=\"gray\" stroke-width=\"0.3\"/><path d=\"M 396 153 412 261\" stroke=\"gray\" stroke-width=\"0.3\"/><path d=\"M 598 24 545 112\" stroke=\"gray\" stroke-width=\"0.3\"/><path d=\"M 614 436 603 353\" stroke=\"gray\" stroke-width=\"0.3\"/><path d=\"M 69 316 157 243\" stroke=\"gray\" stroke-width=\"0.3\"/><path d=\"M 379 60 396 153\" stroke=\"gray\" stroke-width=\"0.3\"/><path d=\"M 39 208 157 243\" stroke=\"gray\" stroke-width=\"0.3\"/><path d=\"M 676 426 603 353\" stroke=\"gray\" stroke-width=\"0.3\"/><path d=\"M 376 424 303 495\" stroke=\"gray\" stroke-width=\"0.3\"/><path d=\"M 376 424 357 520\" stroke=\"gray\" stroke-width=\"0.3\"/><path d=\"M 376 424 416 509\" stroke=\"gray\" stroke-width=\"0.3\"/><path d=\"M 376 424 412 261\" stroke=\"gray\" stroke-width=\"0.3\"/><path d=\"M 644 54 545 112\" stroke=\"gray\" stroke-width=\"0.3\"/><path d=\"M 660 100 545 112\" stroke=\"gray\" stroke-width=\"0.3\"/><path d=\"M 720 344 603 353\" stroke=\"gray\" stroke-width=\"0.3\"/><path d=\"M 357 520 376 424\" stroke=\"gray\" stroke-width=\"0.3\"/><path d=\"M 487 52 545 112\" stroke=\"gray\" stroke-width=\"0.3\"/><path d=\"M 553 396 603 353\" stroke=\"gray\" stroke-width=\"0.3\"/><path d=\"M 677 305 603 353\" stroke=\"gray\" stroke-width=\"0.3\"/><path d=\"M 537 20 545 112\" stroke=\"gray\" stroke-width=\"0.3\"/><path d=\"M 207 285 157 243\" stroke=\"gray\" stroke-width=\"0.3\"/><path d=\"M 603 353 717 390\" stroke=\"gray\" stroke-width=\"0.3\"/><path d=\"M 603 353 614 436\" stroke=\"gray\" stroke-width=\"0.3\"/><path d=\"M 603 353 676 426\" stroke=\"gray\" stroke-width=\"0.3\"/><path d=\"M 603 353 720 344\" stroke=\"gray\" stroke-width=\"0.3\"/><path d=\"M 603 353 553 396\" stroke=\"gray\" stroke-width=\"0.3\"/><path d=\"M 603 353 677 305\" stroke=\"gray\" stroke-width=\"0.3\"/><path d=\"M 603 353 412 261\" stroke=\"gray\" stroke-width=\"0.3\"/><path d=\"M 416 509 376 424\" stroke=\"gray\" stroke-width=\"0.3\"/><path d=\"M 412 261 157 243\" stroke=\"gray\" stroke-width=\"0.3\"/><path d=\"M 412 261 545 112\" stroke=\"gray\" stroke-width=\"0.3\"/><path d=\"M 412 261 396 153\" stroke=\"gray\" stroke-width=\"0.3\"/><path d=\"M 412 261 376 424\" stroke=\"gray\" stroke-width=\"0.3\"/><path d=\"M 412 261 603 353\" stroke=\"gray\" stroke-width=\"0.3\"/><path d=\"M 20 254 157 243\" stroke=\"gray\" stroke-width=\"0.3\"/><circle cx=\"303\" cy=\"495\" r=\"3.0\" style=\"fill:rgb(58, 76, 192);stroke:black;stroke-width:1.0\"/><circle cx=\"717\" cy=\"390\" r=\"3.0\" style=\"fill:rgb(58, 76, 192);stroke:black;stroke-width:1.0\"/><circle cx=\"612\" cy=\"143\" r=\"3.0\" style=\"fill:rgb(58, 76, 192);stroke:black;stroke-width:1.0\"/><circle cx=\"187\" cy=\"179\" r=\"3.0\" style=\"fill:rgb(58, 76, 192);stroke:black;stroke-width:1.0\"/><circle cx=\"137\" cy=\"323\" r=\"3.0\" style=\"fill:rgb(58, 76, 192);stroke:black;stroke-width:1.0\"/><circle cx=\"69\" cy=\"270\" r=\"3.0\" style=\"fill:rgb(58, 76, 192);stroke:black;stroke-width:1.0\"/><circle cx=\"157\" cy=\"243\" r=\"3.0\" style=\"fill:rgb(179, 3, 38);stroke:black;stroke-width:1.0\"/><circle cx=\"71\" cy=\"172\" r=\"3.0\" style=\"fill:rgb(58, 76, 192);stroke:black;stroke-width:1.0\"/><circle cx=\"545\" cy=\"112\" r=\"3.0\" style=\"fill:rgb(246, 183, 156);stroke:black;stroke-width:1.0\"/><circle cx=\"127\" cy=\"155\" r=\"3.0\" style=\"fill:rgb(58, 76, 192);stroke:black;stroke-width:1.0\"/><circle cx=\"396\" cy=\"153\" r=\"3.0\" style=\"fill:rgb(82, 110, 220);stroke:black;stroke-width:1.0\"/><circle cx=\"598\" cy=\"24\" r=\"3.0\" style=\"fill:rgb(58, 76, 192);stroke:black;stroke-width:1.0\"/><circle cx=\"614\" cy=\"436\" r=\"3.0\" style=\"fill:rgb(58, 76, 192);stroke:black;stroke-width:1.0\"/><circle cx=\"69\" cy=\"316\" r=\"3.0\" style=\"fill:rgb(58, 76, 192);stroke:black;stroke-width:1.0\"/><circle cx=\"379\" cy=\"60\" r=\"3.0\" style=\"fill:rgb(58, 76, 192);stroke:black;stroke-width:1.0\"/><circle cx=\"39\" cy=\"208\" r=\"3.0\" style=\"fill:rgb(58, 76, 192);stroke:black;stroke-width:1.0\"/><circle cx=\"676\" cy=\"426\" r=\"3.0\" style=\"fill:rgb(58, 76, 192);stroke:black;stroke-width:1.0\"/><circle cx=\"376\" cy=\"424\" r=\"3.0\" style=\"fill:rgb(166, 195, 253);stroke:black;stroke-width:1.0\"/><circle cx=\"644\" cy=\"54\" r=\"3.0\" style=\"fill:rgb(58, 76, 192);stroke:black;stroke-width:1.0\"/><circle cx=\"660\" cy=\"100\" r=\"3.0\" style=\"fill:rgb(58, 76, 192);stroke:black;stroke-width:1.0\"/><circle cx=\"720\" cy=\"344\" r=\"3.0\" style=\"fill:rgb(58, 76, 192);stroke:black;stroke-width:1.0\"/><circle cx=\"357\" cy=\"520\" r=\"3.0\" style=\"fill:rgb(58, 76, 192);stroke:black;stroke-width:1.0\"/><circle cx=\"487\" cy=\"52\" r=\"3.0\" style=\"fill:rgb(58, 76, 192);stroke:black;stroke-width:1.0\"/><circle cx=\"553\" cy=\"396\" r=\"3.0\" style=\"fill:rgb(58, 76, 192);stroke:black;stroke-width:1.0\"/><circle cx=\"677\" cy=\"305\" r=\"3.0\" style=\"fill:rgb(58, 76, 192);stroke:black;stroke-width:1.0\"/><circle cx=\"537\" cy=\"20\" r=\"3.0\" style=\"fill:rgb(58, 76, 192);stroke:black;stroke-width:1.0\"/><circle cx=\"207\" cy=\"285\" r=\"3.0\" style=\"fill:rgb(58, 76, 192);stroke:black;stroke-width:1.0\"/><circle cx=\"603\" cy=\"353\" r=\"3.0\" style=\"fill:rgb(246, 183, 156);stroke:black;stroke-width:1.0\"/><circle cx=\"416\" cy=\"509\" r=\"3.0\" style=\"fill:rgb(58, 76, 192);stroke:black;stroke-width:1.0\"/><circle cx=\"412\" cy=\"261\" r=\"3.0\" style=\"fill:rgb(231, 214, 204);stroke:black;stroke-width:1.0\"/><circle cx=\"20\" cy=\"254\" r=\"3.0\" style=\"fill:rgb(58, 76, 192);stroke:black;stroke-width:1.0\"/><text font-size=\"10\" x=\"309\" y=\"498\">Drake</text><text font-size=\"10\" x=\"723\" y=\"393\">AzChike</text><text font-size=\"10\" x=\"618\" y=\"146\">Nelyoti</text><text font-size=\"10\" x=\"193\" y=\"182\">ShittyBoyz</text><text font-size=\"10\" x=\"143\" y=\"326\">Duzzy Funlop</text><text font-size=\"10\" x=\"75\" y=\"273\">Jason Aldean</text><text font-size=\"10\" x=\"163\" y=\"246\">WeeBay</text><text font-size=\"10\" x=\"77\" y=\"175\">Webbie</text><text font-size=\"10\" x=\"551\" y=\"115\">NEGAPHONE</text><text font-size=\"10\" x=\"133\" y=\"158\">kelseyi</text><text font-size=\"10\" x=\"402\" y=\"156\">U2</text><text font-size=\"10\" x=\"604\" y=\"27\">Mons</text><text font-size=\"10\" x=\"620\" y=\"439\">Big Sean</text><text font-size=\"10\" x=\"75\" y=\"319\">Edot Babyy</text><text font-size=\"10\" x=\"385\" y=\"63\">Kendrick Lamar</text><text font-size=\"10\" x=\"45\" y=\"211\">Ace Hood</text><text font-size=\"10\" x=\"682\" y=\"429\">Degree</text><text font-size=\"10\" x=\"382\" y=\"427\">Lil Wayne</text><text font-size=\"10\" x=\"650\" y=\"57\">Conton Candy</text><text font-size=\"10\" x=\"666\" y=\"103\">Animals As Leaders</text><text font-size=\"10\" x=\"726\" y=\"347\">Nirvana</text><text font-size=\"10\" x=\"363\" y=\"523\">Tyga</text><text font-size=\"10\" x=\"493\" y=\"55\">Abdeelgha4</text><text font-size=\"10\" x=\"559\" y=\"399\">BigChiiffa</text><text font-size=\"10\" x=\"683\" y=\"308\">Young Iggz</text><text font-size=\"10\" x=\"543\" y=\"23\">tephe</text><text font-size=\"10\" x=\"213\" y=\"288\">Baye Mass</text><text font-size=\"10\" x=\"609\" y=\"356\">Big Choze</text><text font-size=\"10\" x=\"422\" y=\"512\">Jay Sean</text><text font-size=\"10\" x=\"418\" y=\"264\">B.B. King</text><text font-size=\"10\" x=\"26\" y=\"257\">Alexnocap</text></svg>"
      ],
      "text/plain": [
       "<IPython.core.display.SVG object>"
      ]
     },
     "execution_count": 38,
     "metadata": {},
     "output_type": "execute_result"
    }
   ],
   "source": [
    "ego = 'B.B. King'\n",
    "\n",
    "G_ego = nx.ego_graph(G, ego, 2)\n",
    "\n",
    "draw_graph(G_ego, show_names=True, node_size=3, edge_width=0.3)"
   ]
  },
  {
   "cell_type": "markdown",
   "id": "87c48f30",
   "metadata": {},
   "source": [
    "# Next Steps\n",
    "\n",
    "This is a very useful tool for looking at collaboration networks in music. Some musicians do not collaborate with other musicians, so the spotify crawler returns smaller networks than the wikipedia crawler. But these are direct relationships from differerent musical collaborations, searched via the Spotify API.\n",
    "\n",
    "Next steps are to troubleshoot this crawler. There are likely bugs, in the current state. "
   ]
  },
  {
   "cell_type": "code",
   "execution_count": null,
   "id": "9c1f8b70",
   "metadata": {},
   "outputs": [],
   "source": []
  }
 ],
 "metadata": {
  "kernelspec": {
   "display_name": "Python 3",
   "language": "python",
   "name": "python3"
  },
  "language_info": {
   "codemirror_mode": {
    "name": "ipython",
    "version": 3
   },
   "file_extension": ".py",
   "mimetype": "text/x-python",
   "name": "python",
   "nbconvert_exporter": "python",
   "pygments_lexer": "ipython3",
   "version": "3.7.16"
  }
 },
 "nbformat": 4,
 "nbformat_minor": 5
}
