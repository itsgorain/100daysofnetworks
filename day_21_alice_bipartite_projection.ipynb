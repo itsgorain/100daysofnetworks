{
 "cells": [
  {
   "cell_type": "code",
   "execution_count": 1,
   "id": "7423be59",
   "metadata": {},
   "outputs": [],
   "source": [
    "import networkx as nx\n",
    "import numpy as np\n",
    "import pandas as pd\n",
    "\n",
    "# for the explode statement; convert string to list\n",
    "from ast import literal_eval\n",
    "\n",
    "# for visualization\n",
    "from IPython.display import SVG \n",
    "from sknetwork.visualization import svg_graph \n",
    "from sknetwork.data import Bunch \n",
    "from sknetwork.ranking import PageRank \n",
    "\n",
    "# for bipartite projection\n",
    "from networkx.algorithms import bipartite\n",
    "\n",
    "# for text and NER\n",
    "from tqdm import tqdm\n",
    "import spacy\n",
    "import requests\n",
    "\n",
    "nlp = spacy.load(\"en_core_web_md\")"
   ]
  },
  {
   "cell_type": "code",
   "execution_count": 2,
   "id": "38a1e588",
   "metadata": {},
   "outputs": [],
   "source": [
    "def get_data(): \n",
    "\n",
    "    url = 'https://www.gutenberg.org/files/11/11-0.txt' \n",
    "    text = requests.get(url).text \n",
    "\n",
    "    # strip header junk \n",
    "    cutoff = text.index('Alice was beginning') \n",
    "    text = text[cutoff:] \n",
    "\n",
    "    # strip footer junk \n",
    "    cutoff = text.rindex('THE END') \n",
    "    text = text[:cutoff] \n",
    "\n",
    "    # pre-processing to clean the text \n",
    "    text = text.replace('\\r', ' ').replace('\\n', ' ') \n",
    "    text = text.replace('â\\x80\\x99', '\\'').replace('â\\x80\\x9c', '\"').replace('â\\x80\\x9d', '\"\"').replace('â\\x80\\x94', ' ') \n",
    "\n",
    "    return text"
   ]
  },
  {
   "cell_type": "code",
   "execution_count": 3,
   "id": "c88298e3",
   "metadata": {},
   "outputs": [],
   "source": [
    "def extract_entities(text): \n",
    "\n",
    "    doc = nlp(text) \n",
    "\n",
    "    sentences = list(doc.sents) \n",
    "\n",
    "    entities = [] \n",
    "\n",
    "    for sentence in tqdm(sentences): \n",
    "\n",
    "        sentence_entities = [] \n",
    "\n",
    "        sent_doc = nlp(sentence.text) \n",
    "\n",
    "        for ent in sent_doc.ents: \n",
    "\n",
    "            if ent.label_ in ['PERSON', 'ORG', 'GPE']: \n",
    "\n",
    "                entity = ent.text.strip() \n",
    "\n",
    "                if \"'s\" in entity: \n",
    "\n",
    "                    cutoff = entity.index(\"'s\") \n",
    "\n",
    "                    entity = entity[:cutoff] \n",
    "\n",
    "                if entity != '': \n",
    "\n",
    "                    sentence_entities.append(entity)   \n",
    "\n",
    "        sentence_entities = list(set(sentence_entities))       \n",
    "\n",
    "        if len(sentence_entities) > 0: # changed from 1 to zero to grab individuals from sentences; new idea after book\n",
    "\n",
    "            entities.append(sentence_entities) \n",
    "\n",
    "    return entities "
   ]
  },
  {
   "cell_type": "code",
   "execution_count": 4,
   "id": "102626ff",
   "metadata": {},
   "outputs": [],
   "source": [
    "def draw_graph(G, show_names=False, node_size=1, font_size=10, edge_width=0.5): \n",
    "\n",
    "    adjacency = nx.to_scipy_sparse_matrix(G, nodelist=None, dtype=None, weight='weight', format='csr') \n",
    "\n",
    "    names = np.array(list(G.nodes())) \n",
    "\n",
    "    graph = Bunch() \n",
    "    graph.adjacency = adjacency \n",
    "    graph.names = np.array(names) \n",
    "\n",
    "    pagerank = PageRank() \n",
    "\n",
    "    scores = pagerank.fit_transform(adjacency) \n",
    "\n",
    "    if show_names: \n",
    "        \n",
    "        image = svg_graph(graph.adjacency, font_size=font_size, node_size=node_size, names=graph.names, width=700, height=500, scores=scores, edge_width=edge_width) \n",
    "\n",
    "    else: \n",
    "\n",
    "        image = svg_graph(graph.adjacency, node_size=node_size, width=700, height=500, scores = scores, edge_width=edge_width) \n",
    "\n",
    "    return SVG(image) "
   ]
  },
  {
   "cell_type": "markdown",
   "id": "77a12aec",
   "metadata": {},
   "source": [
    "# Get Text"
   ]
  },
  {
   "cell_type": "code",
   "execution_count": 5,
   "id": "443c3cd4",
   "metadata": {},
   "outputs": [
    {
     "data": {
      "text/plain": [
       "'Alice was beginning to get very tired of sitting by her sister on the  bank, and of having nothing to do: once or twice she had peeped into  the book her sister was reading, but it had no pictures or  conversations in it, \"and what is the use of a book,\"\" thought Alice  \"without pictures or conversations?\"\"    So she was considering in her own mind (as well as she could, for the  hot day made her feel very sleepy and stupid), whether the pleasure of  making a daisy-chain would be worth the trouble of getting up and  picking the daisies, when suddenly a White Rabbit with pink eyes ran  close by her.    There was nothing so _very_ remarkable in that; nor did Alice think it  so _very_ much out of the way to hear the Rabbit say to itself, \"Oh  dear! Oh dear! I shall be late!\"\" (when she thought it over afterwards,  it occurred to her that she ought to have wondered at this, but at the  time it all seemed quite natural); but when the Rabbit actually _took a  watch out of its waistcoat-pocket_, and looked at it, and then hurried  on, Alice started to her feet, for it flashed across her mind that she  had never before seen a rabbit with either a waistcoat-pocket, or a  watch to take out of it, and burning with curiosity, she ran across the  field after it, and fortunately was just in time to see it pop down a  large rabbit-hole under the hedge.    In another moment down went Alice after it, never once considering how  in the world she was to get out again.    The rabbit-hole went straight on like a tunnel for some way, and then  dipped suddenly down, so suddenly that Alice had not a moment to think  about stopping herself before she found herself falling down a very  deep well.    Either the well was very deep, or she fell very slowly, for she had  plenty of time as she went down to look about her and to wonder what  was going to happen next. First, she tried to look down and make out  what she was coming to, but it was too dark to see anything; then she  looked at the sid'"
      ]
     },
     "execution_count": 5,
     "metadata": {},
     "output_type": "execute_result"
    }
   ],
   "source": [
    "text = get_data()\n",
    "text[0:2000]"
   ]
  },
  {
   "cell_type": "markdown",
   "id": "7984710a",
   "metadata": {},
   "source": [
    "# Extract Entities by Sentence"
   ]
  },
  {
   "cell_type": "code",
   "execution_count": 6,
   "id": "a599e622",
   "metadata": {},
   "outputs": [],
   "source": [
    "def drop_duplicate_entities(entities):\n",
    "\n",
    "    keep_entities = []\n",
    "\n",
    "    for entity_list in entities:\n",
    "\n",
    "        if entity_list not in keep_entities:\n",
    "            keep_entities.append(entity_list)\n",
    "\n",
    "    return keep_entities"
   ]
  },
  {
   "cell_type": "code",
   "execution_count": 7,
   "id": "dd5ac387",
   "metadata": {},
   "outputs": [
    {
     "name": "stderr",
     "output_type": "stream",
     "text": [
      "100%|██████████████████████████████████████████████████████████████████████████████| 2080/2080 [00:47<00:00, 43.40it/s]\n"
     ]
    },
    {
     "data": {
      "text/plain": [
       "[['Alice'],\n",
       " ['Rabbit', 'Alice'],\n",
       " ['Longitude', 'Alice'],\n",
       " ['Antipathies'],\n",
       " ['Australia', 'New Zealand', \"Ma'am\"]]"
      ]
     },
     "execution_count": 7,
     "metadata": {},
     "output_type": "execute_result"
    }
   ],
   "source": [
    "entities = extract_entities(text)\n",
    "entities = drop_duplicate_entities(entities)\n",
    "entities[0:5]"
   ]
  },
  {
   "cell_type": "code",
   "execution_count": 77,
   "id": "fe330d82",
   "metadata": {},
   "outputs": [
    {
     "data": {
      "text/html": [
       "<div>\n",
       "<style scoped>\n",
       "    .dataframe tbody tr th:only-of-type {\n",
       "        vertical-align: middle;\n",
       "    }\n",
       "\n",
       "    .dataframe tbody tr th {\n",
       "        vertical-align: top;\n",
       "    }\n",
       "\n",
       "    .dataframe thead th {\n",
       "        text-align: right;\n",
       "    }\n",
       "</style>\n",
       "<table border=\"1\" class=\"dataframe\">\n",
       "  <thead>\n",
       "    <tr style=\"text-align: right;\">\n",
       "      <th></th>\n",
       "      <th>entity</th>\n",
       "      <th>sentence</th>\n",
       "    </tr>\n",
       "  </thead>\n",
       "  <tbody>\n",
       "    <tr>\n",
       "      <th>0</th>\n",
       "      <td>Alice</td>\n",
       "      <td>0</td>\n",
       "    </tr>\n",
       "    <tr>\n",
       "      <th>1</th>\n",
       "      <td>Rabbit</td>\n",
       "      <td>1</td>\n",
       "    </tr>\n",
       "    <tr>\n",
       "      <th>1</th>\n",
       "      <td>Alice</td>\n",
       "      <td>1</td>\n",
       "    </tr>\n",
       "    <tr>\n",
       "      <th>2</th>\n",
       "      <td>Longitude</td>\n",
       "      <td>2</td>\n",
       "    </tr>\n",
       "    <tr>\n",
       "      <th>2</th>\n",
       "      <td>Alice</td>\n",
       "      <td>2</td>\n",
       "    </tr>\n",
       "    <tr>\n",
       "      <th>3</th>\n",
       "      <td>Antipathies</td>\n",
       "      <td>3</td>\n",
       "    </tr>\n",
       "    <tr>\n",
       "      <th>4</th>\n",
       "      <td>Australia</td>\n",
       "      <td>4</td>\n",
       "    </tr>\n",
       "    <tr>\n",
       "      <th>4</th>\n",
       "      <td>New Zealand</td>\n",
       "      <td>4</td>\n",
       "    </tr>\n",
       "    <tr>\n",
       "      <th>4</th>\n",
       "      <td>Ma'am</td>\n",
       "      <td>4</td>\n",
       "    </tr>\n",
       "    <tr>\n",
       "      <th>5</th>\n",
       "      <td>Dinah'll</td>\n",
       "      <td>5</td>\n",
       "    </tr>\n",
       "  </tbody>\n",
       "</table>\n",
       "</div>"
      ],
      "text/plain": [
       "        entity  sentence\n",
       "0        Alice         0\n",
       "1       Rabbit         1\n",
       "1        Alice         1\n",
       "2    Longitude         2\n",
       "2        Alice         2\n",
       "3  Antipathies         3\n",
       "4    Australia         4\n",
       "4  New Zealand         4\n",
       "4        Ma'am         4\n",
       "5     Dinah'll         5"
      ]
     },
     "execution_count": 77,
     "metadata": {},
     "output_type": "execute_result"
    }
   ],
   "source": [
    "entity_df = pd.DataFrame({'entities':entities}).reset_index()\n",
    "entity_df.columns = ['sentence', 'entity']\n",
    "entity_df = entity_df.explode('entity')\n",
    "\n",
    "entity_df = entity_df[['entity', 'sentence']]\n",
    "\n",
    "# wrangling\n",
    "entity_df = entity_df[entity_df['entity'].str.contains('CHAPTER', case=False)==False] # drop chapter nodes\n",
    "\n",
    "entity_df.head(10)"
   ]
  },
  {
   "cell_type": "markdown",
   "id": "854361a8",
   "metadata": {},
   "source": [
    "# Graph Approach: Bipartite Projection (New Idea)"
   ]
  },
  {
   "cell_type": "code",
   "execution_count": 79,
   "id": "c60d712e",
   "metadata": {},
   "outputs": [],
   "source": [
    "B = nx.from_pandas_edgelist(entity_df, source='entity', target='sentence') # new approach\n",
    "G = bipartite.projected_graph(B, entity_df['entity'])\n",
    "\n",
    "# wrangling\n",
    "G = nx.k_core(G, 1) # quickly remove disconnected junk nodes\n",
    "\n",
    "drop_nodes = ['Beautiful', 'Hm', 'Improve', 'Longitude', 'Ma\\'am', 'Mystery', 'Said', 'Seaography', 'Somebody', \n",
    "              'The Rabbit Sends', 'garden_.', 'The Rabbit Sends', 'the White Rabbit', \"â\\x80\\x98I'll\", 'â\\x80\\x98Keep', \n",
    "              'â\\x80\\x98it', 'William_']\n",
    "\n",
    "G.remove_nodes_from(drop_nodes) # remove drop nodes"
   ]
  },
  {
   "cell_type": "code",
   "execution_count": 82,
   "id": "145f5a30",
   "metadata": {},
   "outputs": [
    {
     "data": {
      "image/svg+xml": [
       "<svg height=\"540\" width=\"845.0\" xmlns=\"http://www.w3.org/2000/svg\"><path d=\"M 333 245 319 149\" stroke=\"gray\" stroke-width=\"0.5\"/><path d=\"M 333 245 292 198\" stroke=\"gray\" stroke-width=\"0.5\"/><path d=\"M 333 245 269 271\" stroke=\"gray\" stroke-width=\"0.5\"/><path d=\"M 333 245 371 341\" stroke=\"gray\" stroke-width=\"0.5\"/><path d=\"M 333 245 272 166\" stroke=\"gray\" stroke-width=\"0.5\"/><path d=\"M 333 245 387 140\" stroke=\"gray\" stroke-width=\"0.5\"/><path d=\"M 333 245 326 191\" stroke=\"gray\" stroke-width=\"0.5\"/><path d=\"M 333 245 247 249\" stroke=\"gray\" stroke-width=\"0.5\"/><path d=\"M 333 245 285 283\" stroke=\"gray\" stroke-width=\"0.5\"/><path d=\"M 333 245 342 172\" stroke=\"gray\" stroke-width=\"0.5\"/><path d=\"M 333 245 272 232\" stroke=\"gray\" stroke-width=\"0.5\"/><path d=\"M 333 245 376 242\" stroke=\"gray\" stroke-width=\"0.5\"/><path d=\"M 333 245 285 215\" stroke=\"gray\" stroke-width=\"0.5\"/><path d=\"M 333 245 378 290\" stroke=\"gray\" stroke-width=\"0.5\"/><path d=\"M 333 245 344 319\" stroke=\"gray\" stroke-width=\"0.5\"/><path d=\"M 333 245 410 276\" stroke=\"gray\" stroke-width=\"0.5\"/><path d=\"M 333 245 374 317\" stroke=\"gray\" stroke-width=\"0.5\"/><path d=\"M 333 245 428 213\" stroke=\"gray\" stroke-width=\"0.5\"/><path d=\"M 333 245 315 325\" stroke=\"gray\" stroke-width=\"0.5\"/><path d=\"M 333 245 294 321\" stroke=\"gray\" stroke-width=\"0.5\"/><path d=\"M 333 245 305 295\" stroke=\"gray\" stroke-width=\"0.5\"/><path d=\"M 333 245 368 206\" stroke=\"gray\" stroke-width=\"0.5\"/><path d=\"M 333 245 322 280\" stroke=\"gray\" stroke-width=\"0.5\"/><path d=\"M 319 149 333 245\" stroke=\"gray\" stroke-width=\"0.5\"/><path d=\"M 319 149 292 198\" stroke=\"gray\" stroke-width=\"0.5\"/><path d=\"M 319 149 342 172\" stroke=\"gray\" stroke-width=\"0.5\"/><path d=\"M 319 149 319 68\" stroke=\"gray\" stroke-width=\"0.5\"/><path d=\"M 699 382 720 359\" stroke=\"gray\" stroke-width=\"0.5\"/><path d=\"M 720 359 699 382\" stroke=\"gray\" stroke-width=\"0.5\"/><path d=\"M 292 198 333 245\" stroke=\"gray\" stroke-width=\"0.5\"/><path d=\"M 292 198 319 149\" stroke=\"gray\" stroke-width=\"0.5\"/><path d=\"M 292 198 247 249\" stroke=\"gray\" stroke-width=\"0.5\"/><path d=\"M 269 271 333 245\" stroke=\"gray\" stroke-width=\"0.5\"/><path d=\"M 371 341 333 245\" stroke=\"gray\" stroke-width=\"0.5\"/><path d=\"M 371 341 417 389\" stroke=\"gray\" stroke-width=\"0.5\"/><path d=\"M 371 341 344 319\" stroke=\"gray\" stroke-width=\"0.5\"/><path d=\"M 371 341 374 317\" stroke=\"gray\" stroke-width=\"0.5\"/><path d=\"M 371 341 372 385\" stroke=\"gray\" stroke-width=\"0.5\"/><path d=\"M 272 166 333 245\" stroke=\"gray\" stroke-width=\"0.5\"/><path d=\"M 272 166 232 112\" stroke=\"gray\" stroke-width=\"0.5\"/><path d=\"M 232 112 272 166\" stroke=\"gray\" stroke-width=\"0.5\"/><path d=\"M 650 20 640 47\" stroke=\"gray\" stroke-width=\"0.5\"/><path d=\"M 650 20 668 46\" stroke=\"gray\" stroke-width=\"0.5\"/><path d=\"M 640 47 650 20\" stroke=\"gray\" stroke-width=\"0.5\"/><path d=\"M 640 47 668 46\" stroke=\"gray\" stroke-width=\"0.5\"/><path d=\"M 668 46 650 20\" stroke=\"gray\" stroke-width=\"0.5\"/><path d=\"M 668 46 640 47\" stroke=\"gray\" stroke-width=\"0.5\"/><path d=\"M 387 140 333 245\" stroke=\"gray\" stroke-width=\"0.5\"/><path d=\"M 387 140 425 89\" stroke=\"gray\" stroke-width=\"0.5\"/><path d=\"M 387 140 419 69\" stroke=\"gray\" stroke-width=\"0.5\"/><path d=\"M 326 191 333 245\" stroke=\"gray\" stroke-width=\"0.5\"/><path d=\"M 205 302 247 249\" stroke=\"gray\" stroke-width=\"0.5\"/><path d=\"M 247 249 333 245\" stroke=\"gray\" stroke-width=\"0.5\"/><path d=\"M 247 249 292 198\" stroke=\"gray\" stroke-width=\"0.5\"/><path d=\"M 247 249 205 302\" stroke=\"gray\" stroke-width=\"0.5\"/><path d=\"M 247 249 189 248\" stroke=\"gray\" stroke-width=\"0.5\"/><path d=\"M 665 158 644 188\" stroke=\"gray\" stroke-width=\"0.5\"/><path d=\"M 665 158 633 170\" stroke=\"gray\" stroke-width=\"0.5\"/><path d=\"M 644 188 665 158\" stroke=\"gray\" stroke-width=\"0.5\"/><path d=\"M 644 188 633 170\" stroke=\"gray\" stroke-width=\"0.5\"/><path d=\"M 644 188 629 210\" stroke=\"gray\" stroke-width=\"0.5\"/><path d=\"M 644 188 611 176\" stroke=\"gray\" stroke-width=\"0.5\"/><path d=\"M 644 188 613 199\" stroke=\"gray\" stroke-width=\"0.5\"/><path d=\"M 633 170 665 158\" stroke=\"gray\" stroke-width=\"0.5\"/><path d=\"M 633 170 644 188\" stroke=\"gray\" stroke-width=\"0.5\"/><path d=\"M 633 170 629 210\" stroke=\"gray\" stroke-width=\"0.5\"/><path d=\"M 633 170 611 176\" stroke=\"gray\" stroke-width=\"0.5\"/><path d=\"M 633 170 613 199\" stroke=\"gray\" stroke-width=\"0.5\"/><path d=\"M 629 210 644 188\" stroke=\"gray\" stroke-width=\"0.5\"/><path d=\"M 629 210 633 170\" stroke=\"gray\" stroke-width=\"0.5\"/><path d=\"M 629 210 611 176\" stroke=\"gray\" stroke-width=\"0.5\"/><path d=\"M 629 210 613 199\" stroke=\"gray\" stroke-width=\"0.5\"/><path d=\"M 611 176 644 188\" stroke=\"gray\" stroke-width=\"0.5\"/><path d=\"M 611 176 633 170\" stroke=\"gray\" stroke-width=\"0.5\"/><path d=\"M 611 176 629 210\" stroke=\"gray\" stroke-width=\"0.5\"/><path d=\"M 611 176 613 199\" stroke=\"gray\" stroke-width=\"0.5\"/><path d=\"M 613 199 644 188\" stroke=\"gray\" stroke-width=\"0.5\"/><path d=\"M 613 199 633 170\" stroke=\"gray\" stroke-width=\"0.5\"/><path d=\"M 613 199 629 210\" stroke=\"gray\" stroke-width=\"0.5\"/><path d=\"M 613 199 611 176\" stroke=\"gray\" stroke-width=\"0.5\"/><path d=\"M 425 89 387 140\" stroke=\"gray\" stroke-width=\"0.5\"/><path d=\"M 425 89 419 69\" stroke=\"gray\" stroke-width=\"0.5\"/><path d=\"M 419 69 387 140\" stroke=\"gray\" stroke-width=\"0.5\"/><path d=\"M 419 69 425 89\" stroke=\"gray\" stroke-width=\"0.5\"/><path d=\"M 189 248 247 249\" stroke=\"gray\" stroke-width=\"0.5\"/><path d=\"M 285 283 333 245\" stroke=\"gray\" stroke-width=\"0.5\"/><path d=\"M 342 172 333 245\" stroke=\"gray\" stroke-width=\"0.5\"/><path d=\"M 342 172 319 149\" stroke=\"gray\" stroke-width=\"0.5\"/><path d=\"M 319 68 319 149\" stroke=\"gray\" stroke-width=\"0.5\"/><path d=\"M 272 232 333 245\" stroke=\"gray\" stroke-width=\"0.5\"/><path d=\"M 376 242 333 245\" stroke=\"gray\" stroke-width=\"0.5\"/><path d=\"M 285 215 333 245\" stroke=\"gray\" stroke-width=\"0.5\"/><path d=\"M 417 389 371 341\" stroke=\"gray\" stroke-width=\"0.5\"/><path d=\"M 378 290 333 245\" stroke=\"gray\" stroke-width=\"0.5\"/><path d=\"M 344 319 333 245\" stroke=\"gray\" stroke-width=\"0.5\"/><path d=\"M 344 319 371 341\" stroke=\"gray\" stroke-width=\"0.5\"/><path d=\"M 410 276 333 245\" stroke=\"gray\" stroke-width=\"0.5\"/><path d=\"M 410 276 374 317\" stroke=\"gray\" stroke-width=\"0.5\"/><path d=\"M 410 276 428 213\" stroke=\"gray\" stroke-width=\"0.5\"/><path d=\"M 410 276 467 315\" stroke=\"gray\" stroke-width=\"0.5\"/><path d=\"M 374 317 333 245\" stroke=\"gray\" stroke-width=\"0.5\"/><path d=\"M 374 317 371 341\" stroke=\"gray\" stroke-width=\"0.5\"/><path d=\"M 374 317 410 276\" stroke=\"gray\" stroke-width=\"0.5\"/><path d=\"M 374 317 372 385\" stroke=\"gray\" stroke-width=\"0.5\"/><path d=\"M 428 213 333 245\" stroke=\"gray\" stroke-width=\"0.5\"/><path d=\"M 428 213 410 276\" stroke=\"gray\" stroke-width=\"0.5\"/><path d=\"M 428 213 487 197\" stroke=\"gray\" stroke-width=\"0.5\"/><path d=\"M 428 213 470 188\" stroke=\"gray\" stroke-width=\"0.5\"/><path d=\"M 428 213 479 220\" stroke=\"gray\" stroke-width=\"0.5\"/><path d=\"M 428 213 438 146\" stroke=\"gray\" stroke-width=\"0.5\"/><path d=\"M 467 315 410 276\" stroke=\"gray\" stroke-width=\"0.5\"/><path d=\"M 487 197 428 213\" stroke=\"gray\" stroke-width=\"0.5\"/><path d=\"M 487 197 470 188\" stroke=\"gray\" stroke-width=\"0.5\"/><path d=\"M 487 197 479 220\" stroke=\"gray\" stroke-width=\"0.5\"/><path d=\"M 470 188 428 213\" stroke=\"gray\" stroke-width=\"0.5\"/><path d=\"M 470 188 487 197\" stroke=\"gray\" stroke-width=\"0.5\"/><path d=\"M 470 188 479 220\" stroke=\"gray\" stroke-width=\"0.5\"/><path d=\"M 479 220 428 213\" stroke=\"gray\" stroke-width=\"0.5\"/><path d=\"M 479 220 487 197\" stroke=\"gray\" stroke-width=\"0.5\"/><path d=\"M 479 220 470 188\" stroke=\"gray\" stroke-width=\"0.5\"/><path d=\"M 438 146 428 213\" stroke=\"gray\" stroke-width=\"0.5\"/><path d=\"M 315 325 333 245\" stroke=\"gray\" stroke-width=\"0.5\"/><path d=\"M 315 325 294 321\" stroke=\"gray\" stroke-width=\"0.5\"/><path d=\"M 294 321 333 245\" stroke=\"gray\" stroke-width=\"0.5\"/><path d=\"M 294 321 315 325\" stroke=\"gray\" stroke-width=\"0.5\"/><path d=\"M 305 295 333 245\" stroke=\"gray\" stroke-width=\"0.5\"/><path d=\"M 305 295 322 280\" stroke=\"gray\" stroke-width=\"0.5\"/><path d=\"M 368 206 333 245\" stroke=\"gray\" stroke-width=\"0.5\"/><path d=\"M 440 520 455 492\" stroke=\"gray\" stroke-width=\"0.5\"/><path d=\"M 455 492 440 520\" stroke=\"gray\" stroke-width=\"0.5\"/><path d=\"M 322 280 333 245\" stroke=\"gray\" stroke-width=\"0.5\"/><path d=\"M 322 280 305 295\" stroke=\"gray\" stroke-width=\"0.5\"/><path d=\"M 372 385 371 341\" stroke=\"gray\" stroke-width=\"0.5\"/><path d=\"M 372 385 374 317\" stroke=\"gray\" stroke-width=\"0.5\"/><circle cx=\"333\" cy=\"245\" r=\"3.0\" style=\"fill:rgb(179, 3, 38);stroke:black;stroke-width:1.0\"/><circle cx=\"319\" cy=\"149\" r=\"3.0\" style=\"fill:rgb(99, 131, 234);stroke:black;stroke-width:1.0\"/><circle cx=\"699\" cy=\"382\" r=\"3.0\" style=\"fill:rgb(80, 107, 218);stroke:black;stroke-width:1.0\"/><circle cx=\"720\" cy=\"359\" r=\"3.0\" style=\"fill:rgb(80, 107, 218);stroke:black;stroke-width:1.0\"/><circle cx=\"292\" cy=\"198\" r=\"3.0\" style=\"fill:rgb(86, 115, 224);stroke:black;stroke-width:1.0\"/><circle cx=\"269\" cy=\"271\" r=\"3.0\" style=\"fill:rgb(58, 76, 192);stroke:black;stroke-width:1.0\"/><circle cx=\"371\" cy=\"341\" r=\"3.0\" style=\"fill:rgb(112, 147, 243);stroke:black;stroke-width:1.0\"/><circle cx=\"272\" cy=\"166\" r=\"3.0\" style=\"fill:rgb(76, 102, 214);stroke:black;stroke-width:1.0\"/><circle cx=\"232\" cy=\"112\" r=\"3.0\" style=\"fill:rgb(60, 79, 195);stroke:black;stroke-width:1.0\"/><circle cx=\"650\" cy=\"20\" r=\"3.0\" style=\"fill:rgb(80, 107, 218);stroke:black;stroke-width:1.0\"/><circle cx=\"640\" cy=\"47\" r=\"3.0\" style=\"fill:rgb(80, 107, 218);stroke:black;stroke-width:1.0\"/><circle cx=\"668\" cy=\"46\" r=\"3.0\" style=\"fill:rgb(80, 107, 218);stroke:black;stroke-width:1.0\"/><circle cx=\"20\" cy=\"124\" r=\"3.0\" style=\"fill:rgb(80, 107, 218);stroke:black;stroke-width:1.0\"/><circle cx=\"387\" cy=\"140\" r=\"3.0\" style=\"fill:rgb(86, 115, 224);stroke:black;stroke-width:1.0\"/><circle cx=\"326\" cy=\"191\" r=\"3.0\" style=\"fill:rgb(58, 76, 192);stroke:black;stroke-width:1.0\"/><circle cx=\"205\" cy=\"302\" r=\"3.0\" style=\"fill:rgb(58, 76, 192);stroke:black;stroke-width:1.0\"/><circle cx=\"247\" cy=\"249\" r=\"3.0\" style=\"fill:rgb(105, 139, 239);stroke:black;stroke-width:1.0\"/><circle cx=\"665\" cy=\"158\" r=\"3.0\" style=\"fill:rgb(60, 79, 195);stroke:black;stroke-width:1.0\"/><circle cx=\"644\" cy=\"188\" r=\"3.0\" style=\"fill:rgb(88, 118, 226);stroke:black;stroke-width:1.0\"/><circle cx=\"633\" cy=\"170\" r=\"3.0\" style=\"fill:rgb(88, 118, 226);stroke:black;stroke-width:1.0\"/><circle cx=\"629\" cy=\"210\" r=\"3.0\" style=\"fill:rgb(80, 107, 218);stroke:black;stroke-width:1.0\"/><circle cx=\"611\" cy=\"176\" r=\"3.0\" style=\"fill:rgb(80, 107, 218);stroke:black;stroke-width:1.0\"/><circle cx=\"613\" cy=\"199\" r=\"3.0\" style=\"fill:rgb(80, 107, 218);stroke:black;stroke-width:1.0\"/><circle cx=\"425\" cy=\"89\" r=\"3.0\" style=\"fill:rgb(72, 96, 209);stroke:black;stroke-width:1.0\"/><circle cx=\"419\" cy=\"69\" r=\"3.0\" style=\"fill:rgb(72, 96, 209);stroke:black;stroke-width:1.0\"/><circle cx=\"189\" cy=\"248\" r=\"3.0\" style=\"fill:rgb(58, 76, 192);stroke:black;stroke-width:1.0\"/><circle cx=\"285\" cy=\"283\" r=\"3.0\" style=\"fill:rgb(58, 76, 192);stroke:black;stroke-width:1.0\"/><circle cx=\"342\" cy=\"172\" r=\"3.0\" style=\"fill:rgb(70, 93, 207);stroke:black;stroke-width:1.0\"/><circle cx=\"319\" cy=\"68\" r=\"3.0\" style=\"fill:rgb(58, 76, 192);stroke:black;stroke-width:1.0\"/><circle cx=\"272\" cy=\"232\" r=\"3.0\" style=\"fill:rgb(58, 76, 192);stroke:black;stroke-width:1.0\"/><circle cx=\"376\" cy=\"242\" r=\"3.0\" style=\"fill:rgb(58, 76, 192);stroke:black;stroke-width:1.0\"/><circle cx=\"285\" cy=\"215\" r=\"3.0\" style=\"fill:rgb(58, 76, 192);stroke:black;stroke-width:1.0\"/><circle cx=\"417\" cy=\"389\" r=\"3.0\" style=\"fill:rgb(58, 76, 192);stroke:black;stroke-width:1.0\"/><circle cx=\"378\" cy=\"290\" r=\"3.0\" style=\"fill:rgb(58, 76, 192);stroke:black;stroke-width:1.0\"/><circle cx=\"344\" cy=\"319\" r=\"3.0\" style=\"fill:rgb(70, 93, 207);stroke:black;stroke-width:1.0\"/><circle cx=\"410\" cy=\"276\" r=\"3.0\" style=\"fill:rgb(96, 128, 232);stroke:black;stroke-width:1.0\"/><circle cx=\"374\" cy=\"317\" r=\"3.0\" style=\"fill:rgb(96, 128, 232);stroke:black;stroke-width:1.0\"/><circle cx=\"428\" cy=\"213\" r=\"3.0\" style=\"fill:rgb(120, 155, 247);stroke:black;stroke-width:1.0\"/><circle cx=\"467\" cy=\"315\" r=\"3.0\" style=\"fill:rgb(58, 76, 192);stroke:black;stroke-width:1.0\"/><circle cx=\"487\" cy=\"197\" r=\"3.0\" style=\"fill:rgb(80, 107, 218);stroke:black;stroke-width:1.0\"/><circle cx=\"470\" cy=\"188\" r=\"3.0\" style=\"fill:rgb(80, 107, 218);stroke:black;stroke-width:1.0\"/><circle cx=\"479\" cy=\"220\" r=\"3.0\" style=\"fill:rgb(80, 107, 218);stroke:black;stroke-width:1.0\"/><circle cx=\"438\" cy=\"146\" r=\"3.0\" style=\"fill:rgb(58, 76, 192);stroke:black;stroke-width:1.0\"/><circle cx=\"315\" cy=\"325\" r=\"3.0\" style=\"fill:rgb(70, 93, 207);stroke:black;stroke-width:1.0\"/><circle cx=\"294\" cy=\"321\" r=\"3.0\" style=\"fill:rgb(70, 93, 207);stroke:black;stroke-width:1.0\"/><circle cx=\"305\" cy=\"295\" r=\"3.0\" style=\"fill:rgb(70, 93, 207);stroke:black;stroke-width:1.0\"/><circle cx=\"368\" cy=\"206\" r=\"3.0\" style=\"fill:rgb(58, 76, 192);stroke:black;stroke-width:1.0\"/><circle cx=\"440\" cy=\"520\" r=\"3.0\" style=\"fill:rgb(80, 107, 218);stroke:black;stroke-width:1.0\"/><circle cx=\"455\" cy=\"492\" r=\"3.0\" style=\"fill:rgb(80, 107, 218);stroke:black;stroke-width:1.0\"/><circle cx=\"322\" cy=\"280\" r=\"3.0\" style=\"fill:rgb(70, 93, 207);stroke:black;stroke-width:1.0\"/><circle cx=\"372\" cy=\"385\" r=\"3.0\" style=\"fill:rgb(70, 93, 207);stroke:black;stroke-width:1.0\"/><text font-size=\"10\" x=\"339\" y=\"248\">Alice</text><text font-size=\"10\" x=\"325\" y=\"152\">Rabbit</text><text font-size=\"10\" x=\"705\" y=\"385\">Australia</text><text font-size=\"10\" x=\"726\" y=\"362\">New Zealand</text><text font-size=\"10\" x=\"298\" y=\"201\">Dinah</text><text font-size=\"10\" x=\"275\" y=\"274\">Fender</text><text font-size=\"10\" x=\"377\" y=\"344\">Duchess</text><text font-size=\"10\" x=\"278\" y=\"169\">Mabel</text><text font-size=\"10\" x=\"238\" y=\"115\">Ada</text><text font-size=\"10\" x=\"656\" y=\"23\">London</text><text font-size=\"10\" x=\"646\" y=\"50\">Rome</text><text font-size=\"10\" x=\"674\" y=\"49\">Paris</text><text font-size=\"10\" x=\"26\" y=\"127\">Nile</text><text font-size=\"10\" x=\"393\" y=\"143\">Mouse</text><text font-size=\"10\" x=\"332\" y=\"194\">William the Conqueror</text><text font-size=\"10\" x=\"211\" y=\"305\">Eaglet</text><text font-size=\"10\" x=\"253\" y=\"252\">Lory</text><text font-size=\"10\" x=\"671\" y=\"161\">Edwin</text><text font-size=\"10\" x=\"650\" y=\"191\">Morcar</text><text font-size=\"10\" x=\"639\" y=\"173\">Northumbria</text><text font-size=\"10\" x=\"635\" y=\"213\">Canterbury</text><text font-size=\"10\" x=\"617\" y=\"179\">Mercia</text><text font-size=\"10\" x=\"619\" y=\"202\">Stigand</text><text font-size=\"10\" x=\"431\" y=\"92\">Edgar Atheling</text><text font-size=\"10\" x=\"425\" y=\"72\">William</text><text font-size=\"10\" x=\"195\" y=\"251\">Crab</text><text font-size=\"10\" x=\"291\" y=\"286\">Bill</text><text font-size=\"10\" x=\"348\" y=\"175\">Mary Ann</text><text font-size=\"10\" x=\"325\" y=\"71\">Pat</text><text font-size=\"10\" x=\"278\" y=\"235\">Caterpillar</text><text font-size=\"10\" x=\"382\" y=\"245\">Pigeon</text><text font-size=\"10\" x=\"291\" y=\"218\">Fish-Footman</text><text font-size=\"10\" x=\"423\" y=\"392\">Cheshire</text><text font-size=\"10\" x=\"384\" y=\"293\">Cheshire Cat</text><text font-size=\"10\" x=\"350\" y=\"322\">Cat</text><text font-size=\"10\" x=\"416\" y=\"279\">Hatter</text><text font-size=\"10\" x=\"380\" y=\"320\">Hare</text><text font-size=\"10\" x=\"434\" y=\"216\">Dormouse</text><text font-size=\"10\" x=\"473\" y=\"318\">Time</text><text font-size=\"10\" x=\"493\" y=\"200\">Elsie</text><text font-size=\"10\" x=\"476\" y=\"191\">Tillie</text><text font-size=\"10\" x=\"485\" y=\"223\">Lacie</text><text font-size=\"10\" x=\"444\" y=\"149\">Treacle</text><text font-size=\"10\" x=\"321\" y=\"328\">Queens</text><text font-size=\"10\" x=\"300\" y=\"324\">Kings</text><text font-size=\"10\" x=\"311\" y=\"298\">Gryphon</text><text font-size=\"10\" x=\"374\" y=\"209\">Lobster Quadrille</text><text font-size=\"10\" x=\"446\" y=\"523\">England</text><text font-size=\"10\" x=\"461\" y=\"495\">France</text><text font-size=\"10\" x=\"328\" y=\"283\">Soup</text><text font-size=\"10\" x=\"378\" y=\"388\">Lizard</text></svg>"
      ],
      "text/plain": [
       "<IPython.core.display.SVG object>"
      ]
     },
     "execution_count": 82,
     "metadata": {},
     "output_type": "execute_result"
    }
   ],
   "source": [
    "draw_graph(G, show_names=True, node_size=3)"
   ]
  },
  {
   "cell_type": "code",
   "execution_count": 46,
   "id": "95b726e1",
   "metadata": {},
   "outputs": [
    {
     "data": {
      "text/plain": [
       "['Ada',\n",
       " 'Alice',\n",
       " 'Australia',\n",
       " 'Bill',\n",
       " 'Canterbury',\n",
       " 'Cat',\n",
       " 'Caterpillar',\n",
       " 'Cheshire',\n",
       " 'Cheshire Cat',\n",
       " 'Crab',\n",
       " 'Dinah',\n",
       " 'Dormouse',\n",
       " 'Duchess',\n",
       " 'Eaglet',\n",
       " 'Edgar Atheling',\n",
       " 'Edwin',\n",
       " 'Elsie',\n",
       " 'England',\n",
       " 'Fender',\n",
       " 'Fish-Footman']"
      ]
     },
     "execution_count": 46,
     "metadata": {},
     "output_type": "execute_result"
    }
   ],
   "source": [
    "# use this to look through nodes, twenty at a time; change indexes to look around; learn pandas indexing\n",
    "# useful for identifying junk nodes to remove\n",
    "\n",
    "sorted(G.nodes)[0:20]"
   ]
  },
  {
   "cell_type": "markdown",
   "id": "5fe51bc4",
   "metadata": {},
   "source": [
    "# New Approach, But Inspecting Sentences\n",
    "\n",
    "This isn't meant to be immediately useful. I am just curious to see if I can see what parts of the network are active based on the sentence number of the sentence that entities were extracted from. If so, that seems like it could be useful, somehow, someday, with more thought.\n",
    "\n",
    "It's neat that there is a core to this and that the network has been projected differently."
   ]
  },
  {
   "cell_type": "code",
   "execution_count": 47,
   "id": "9f4b6795",
   "metadata": {},
   "outputs": [],
   "source": [
    "B = nx.from_pandas_edgelist(entity_df, source='entity', target='sentence') # new approach\n",
    "G_sent = bipartite.projected_graph(B, entity_df['sentence'])\n",
    "\n",
    "# wrangling\n",
    "G_sent = nx.k_core(G_sent, 1) # quickly remove disconnected junk nodes"
   ]
  },
  {
   "cell_type": "code",
   "execution_count": 48,
   "id": "0501a59b",
   "metadata": {},
   "outputs": [
    {
     "data": {
      "image/svg+xml": [
       "<svg height=\"540\" width=\"755.0\" xmlns=\"http://www.w3.org/2000/svg\"><path d=\"M 414 230 407 262\" stroke=\"gray\" stroke-width=\"0.5\"/><path d=\"M 414 230 392 246\" stroke=\"gray\" stroke-width=\"0.5\"/><path d=\"M 414 230 418 246\" stroke=\"gray\" stroke-width=\"0.5\"/><path d=\"M 414 230 459 236\" stroke=\"gray\" stroke-width=\"0.5\"/><path d=\"M 414 230 399 232\" stroke=\"gray\" stroke-width=\"0.5\"/><path d=\"M 414 230 375 275\" stroke=\"gray\" stroke-width=\"0.5\"/><path d=\"M 414 230 338 219\" stroke=\"gray\" stroke-width=\"0.5\"/><path d=\"M 414 230 424 265\" stroke=\"gray\" stroke-width=\"0.5\"/><path d=\"M 414 230 369 230\" stroke=\"gray\" stroke-width=\"0.5\"/><path d=\"M 414 230 439 256\" stroke=\"gray\" stroke-width=\"0.5\"/><path d=\"M 414 230 388 254\" stroke=\"gray\" stroke-width=\"0.5\"/><path d=\"M 414 230 414 218\" stroke=\"gray\" stroke-width=\"0.5\"/><path d=\"M 414 230 400 217\" stroke=\"gray\" stroke-width=\"0.5\"/><path d=\"M 414 230 376 220\" stroke=\"gray\" stroke-width=\"0.5\"/><path d=\"M 414 230 373 242\" stroke=\"gray\" stroke-width=\"0.5\"/><path d=\"M 414 230 434 205\" stroke=\"gray\" stroke-width=\"0.5\"/><path d=\"M 414 230 435 220\" stroke=\"gray\" stroke-width=\"0.5\"/><path d=\"M 414 230 355 237\" stroke=\"gray\" stroke-width=\"0.5\"/><path d=\"M 414 230 433 235\" stroke=\"gray\" stroke-width=\"0.5\"/><path d=\"M 414 230 385 227\" stroke=\"gray\" stroke-width=\"0.5\"/><path d=\"M 414 230 443 225\" stroke=\"gray\" stroke-width=\"0.5\"/><path d=\"M 414 230 418 238\" stroke=\"gray\" stroke-width=\"0.5\"/><path d=\"M 414 230 407 210\" stroke=\"gray\" stroke-width=\"0.5\"/><path d=\"M 414 230 440 247\" stroke=\"gray\" stroke-width=\"0.5\"/><path d=\"M 414 230 385 238\" stroke=\"gray\" stroke-width=\"0.5\"/><path d=\"M 414 230 408 251\" stroke=\"gray\" stroke-width=\"0.5\"/><path d=\"M 414 230 371 249\" stroke=\"gray\" stroke-width=\"0.5\"/><path d=\"M 414 230 402 241\" stroke=\"gray\" stroke-width=\"0.5\"/><path d=\"M 414 230 379 254\" stroke=\"gray\" stroke-width=\"0.5\"/><path d=\"M 414 230 357 213\" stroke=\"gray\" stroke-width=\"0.5\"/><path d=\"M 414 230 451 249\" stroke=\"gray\" stroke-width=\"0.5\"/><path d=\"M 407 262 414 230\" stroke=\"gray\" stroke-width=\"0.5\"/><path d=\"M 407 262 392 246\" stroke=\"gray\" stroke-width=\"0.5\"/><path d=\"M 407 262 422 322\" stroke=\"gray\" stroke-width=\"0.5\"/><path d=\"M 407 262 418 246\" stroke=\"gray\" stroke-width=\"0.5\"/><path d=\"M 407 262 459 236\" stroke=\"gray\" stroke-width=\"0.5\"/><path d=\"M 407 262 399 232\" stroke=\"gray\" stroke-width=\"0.5\"/><path d=\"M 407 262 375 275\" stroke=\"gray\" stroke-width=\"0.5\"/><path d=\"M 407 262 338 219\" stroke=\"gray\" stroke-width=\"0.5\"/><path d=\"M 407 262 424 265\" stroke=\"gray\" stroke-width=\"0.5\"/><path d=\"M 407 262 369 230\" stroke=\"gray\" stroke-width=\"0.5\"/><path d=\"M 407 262 468 334\" stroke=\"gray\" stroke-width=\"0.5\"/><path d=\"M 407 262 439 256\" stroke=\"gray\" stroke-width=\"0.5\"/><path d=\"M 407 262 388 254\" stroke=\"gray\" stroke-width=\"0.5\"/><path d=\"M 407 262 414 218\" stroke=\"gray\" stroke-width=\"0.5\"/><path d=\"M 407 262 400 217\" stroke=\"gray\" stroke-width=\"0.5\"/><path d=\"M 407 262 376 220\" stroke=\"gray\" stroke-width=\"0.5\"/><path d=\"M 407 262 373 242\" stroke=\"gray\" stroke-width=\"0.5\"/><path d=\"M 407 262 434 205\" stroke=\"gray\" stroke-width=\"0.5\"/><path d=\"M 407 262 435 220\" stroke=\"gray\" stroke-width=\"0.5\"/><path d=\"M 407 262 355 237\" stroke=\"gray\" stroke-width=\"0.5\"/><path d=\"M 407 262 433 235\" stroke=\"gray\" stroke-width=\"0.5\"/><path d=\"M 407 262 385 227\" stroke=\"gray\" stroke-width=\"0.5\"/><path d=\"M 407 262 443 225\" stroke=\"gray\" stroke-width=\"0.5\"/><path d=\"M 407 262 418 238\" stroke=\"gray\" stroke-width=\"0.5\"/><path d=\"M 407 262 407 210\" stroke=\"gray\" stroke-width=\"0.5\"/><path d=\"M 407 262 440 247\" stroke=\"gray\" stroke-width=\"0.5\"/><path d=\"M 407 262 385 238\" stroke=\"gray\" stroke-width=\"0.5\"/><path d=\"M 407 262 408 251\" stroke=\"gray\" stroke-width=\"0.5\"/><path d=\"M 407 262 371 249\" stroke=\"gray\" stroke-width=\"0.5\"/><path d=\"M 407 262 402 241\" stroke=\"gray\" stroke-width=\"0.5\"/><path d=\"M 407 262 379 254\" stroke=\"gray\" stroke-width=\"0.5\"/><path d=\"M 407 262 357 213\" stroke=\"gray\" stroke-width=\"0.5\"/><path d=\"M 407 262 451 249\" stroke=\"gray\" stroke-width=\"0.5\"/><path d=\"M 392 246 414 230\" stroke=\"gray\" stroke-width=\"0.5\"/><path d=\"M 392 246 407 262\" stroke=\"gray\" stroke-width=\"0.5\"/><path d=\"M 392 246 418 246\" stroke=\"gray\" stroke-width=\"0.5\"/><path d=\"M 392 246 459 236\" stroke=\"gray\" stroke-width=\"0.5\"/><path d=\"M 392 246 399 232\" stroke=\"gray\" stroke-width=\"0.5\"/><path d=\"M 392 246 375 275\" stroke=\"gray\" stroke-width=\"0.5\"/><path d=\"M 392 246 338 219\" stroke=\"gray\" stroke-width=\"0.5\"/><path d=\"M 392 246 424 265\" stroke=\"gray\" stroke-width=\"0.5\"/><path d=\"M 392 246 369 230\" stroke=\"gray\" stroke-width=\"0.5\"/><path d=\"M 392 246 439 256\" stroke=\"gray\" stroke-width=\"0.5\"/><path d=\"M 392 246 388 254\" stroke=\"gray\" stroke-width=\"0.5\"/><path d=\"M 392 246 414 218\" stroke=\"gray\" stroke-width=\"0.5\"/><path d=\"M 392 246 400 217\" stroke=\"gray\" stroke-width=\"0.5\"/><path d=\"M 392 246 376 220\" stroke=\"gray\" stroke-width=\"0.5\"/><path d=\"M 392 246 373 242\" stroke=\"gray\" stroke-width=\"0.5\"/><path d=\"M 392 246 434 205\" stroke=\"gray\" stroke-width=\"0.5\"/><path d=\"M 392 246 435 220\" stroke=\"gray\" stroke-width=\"0.5\"/><path d=\"M 392 246 355 237\" stroke=\"gray\" stroke-width=\"0.5\"/><path d=\"M 392 246 433 235\" stroke=\"gray\" stroke-width=\"0.5\"/><path d=\"M 392 246 385 227\" stroke=\"gray\" stroke-width=\"0.5\"/><path d=\"M 392 246 443 225\" stroke=\"gray\" stroke-width=\"0.5\"/><path d=\"M 392 246 418 238\" stroke=\"gray\" stroke-width=\"0.5\"/><path d=\"M 392 246 407 210\" stroke=\"gray\" stroke-width=\"0.5\"/><path d=\"M 392 246 440 247\" stroke=\"gray\" stroke-width=\"0.5\"/><path d=\"M 392 246 385 238\" stroke=\"gray\" stroke-width=\"0.5\"/><path d=\"M 392 246 408 251\" stroke=\"gray\" stroke-width=\"0.5\"/><path d=\"M 392 246 371 249\" stroke=\"gray\" stroke-width=\"0.5\"/><path d=\"M 392 246 402 241\" stroke=\"gray\" stroke-width=\"0.5\"/><path d=\"M 392 246 379 254\" stroke=\"gray\" stroke-width=\"0.5\"/><path d=\"M 392 246 357 213\" stroke=\"gray\" stroke-width=\"0.5\"/><path d=\"M 392 246 451 249\" stroke=\"gray\" stroke-width=\"0.5\"/><path d=\"M 324 178 247 197\" stroke=\"gray\" stroke-width=\"0.5\"/><path d=\"M 324 178 369 230\" stroke=\"gray\" stroke-width=\"0.5\"/><path d=\"M 324 178 388 254\" stroke=\"gray\" stroke-width=\"0.5\"/><path d=\"M 609 296 568 283\" stroke=\"gray\" stroke-width=\"0.5\"/><path d=\"M 609 296 451 249\" stroke=\"gray\" stroke-width=\"0.5\"/><path d=\"M 422 322 407 262\" stroke=\"gray\" stroke-width=\"0.5\"/><path d=\"M 422 322 424 265\" stroke=\"gray\" stroke-width=\"0.5\"/><path d=\"M 422 322 468 334\" stroke=\"gray\" stroke-width=\"0.5\"/><path d=\"M 422 322 388 254\" stroke=\"gray\" stroke-width=\"0.5\"/><path d=\"M 418 246 414 230\" stroke=\"gray\" stroke-width=\"0.5\"/><path d=\"M 418 246 407 262\" stroke=\"gray\" stroke-width=\"0.5\"/><path d=\"M 418 246 392 246\" stroke=\"gray\" stroke-width=\"0.5\"/><path d=\"M 418 246 459 236\" stroke=\"gray\" stroke-width=\"0.5\"/><path d=\"M 418 246 399 232\" stroke=\"gray\" stroke-width=\"0.5\"/><path d=\"M 418 246 375 275\" stroke=\"gray\" stroke-width=\"0.5\"/><path d=\"M 418 246 338 219\" stroke=\"gray\" stroke-width=\"0.5\"/><path d=\"M 418 246 424 265\" stroke=\"gray\" stroke-width=\"0.5\"/><path d=\"M 418 246 369 230\" stroke=\"gray\" stroke-width=\"0.5\"/><path d=\"M 418 246 439 256\" stroke=\"gray\" stroke-width=\"0.5\"/><path d=\"M 418 246 388 254\" stroke=\"gray\" stroke-width=\"0.5\"/><path d=\"M 418 246 414 218\" stroke=\"gray\" stroke-width=\"0.5\"/><path d=\"M 418 246 400 217\" stroke=\"gray\" stroke-width=\"0.5\"/><path d=\"M 418 246 376 220\" stroke=\"gray\" stroke-width=\"0.5\"/><path d=\"M 418 246 373 242\" stroke=\"gray\" stroke-width=\"0.5\"/><path d=\"M 418 246 434 205\" stroke=\"gray\" stroke-width=\"0.5\"/><path d=\"M 418 246 435 220\" stroke=\"gray\" stroke-width=\"0.5\"/><path d=\"M 418 246 355 237\" stroke=\"gray\" stroke-width=\"0.5\"/><path d=\"M 418 246 433 235\" stroke=\"gray\" stroke-width=\"0.5\"/><path d=\"M 418 246 385 227\" stroke=\"gray\" stroke-width=\"0.5\"/><path d=\"M 418 246 443 225\" stroke=\"gray\" stroke-width=\"0.5\"/><path d=\"M 418 246 418 238\" stroke=\"gray\" stroke-width=\"0.5\"/><path d=\"M 418 246 407 210\" stroke=\"gray\" stroke-width=\"0.5\"/><path d=\"M 418 246 440 247\" stroke=\"gray\" stroke-width=\"0.5\"/><path d=\"M 418 246 385 238\" stroke=\"gray\" stroke-width=\"0.5\"/><path d=\"M 418 246 408 251\" stroke=\"gray\" stroke-width=\"0.5\"/><path d=\"M 418 246 371 249\" stroke=\"gray\" stroke-width=\"0.5\"/><path d=\"M 418 246 402 241\" stroke=\"gray\" stroke-width=\"0.5\"/><path d=\"M 418 246 379 254\" stroke=\"gray\" stroke-width=\"0.5\"/><path d=\"M 418 246 357 213\" stroke=\"gray\" stroke-width=\"0.5\"/><path d=\"M 418 246 451 249\" stroke=\"gray\" stroke-width=\"0.5\"/><path d=\"M 512 119 538 101\" stroke=\"gray\" stroke-width=\"0.5\"/><path d=\"M 512 119 434 205\" stroke=\"gray\" stroke-width=\"0.5\"/><path d=\"M 512 119 468 132\" stroke=\"gray\" stroke-width=\"0.5\"/><path d=\"M 512 119 511 150\" stroke=\"gray\" stroke-width=\"0.5\"/><path d=\"M 648 246 645 221\" stroke=\"gray\" stroke-width=\"0.5\"/><path d=\"M 648 246 459 236\" stroke=\"gray\" stroke-width=\"0.5\"/><path d=\"M 645 221 648 246\" stroke=\"gray\" stroke-width=\"0.5\"/><path d=\"M 645 221 459 236\" stroke=\"gray\" stroke-width=\"0.5\"/><path d=\"M 459 236 414 230\" stroke=\"gray\" stroke-width=\"0.5\"/><path d=\"M 459 236 407 262\" stroke=\"gray\" stroke-width=\"0.5\"/><path d=\"M 459 236 392 246\" stroke=\"gray\" stroke-width=\"0.5\"/><path d=\"M 459 236 418 246\" stroke=\"gray\" stroke-width=\"0.5\"/><path d=\"M 459 236 648 246\" stroke=\"gray\" stroke-width=\"0.5\"/><path d=\"M 459 236 645 221\" stroke=\"gray\" stroke-width=\"0.5\"/><path d=\"M 459 236 399 232\" stroke=\"gray\" stroke-width=\"0.5\"/><path d=\"M 459 236 375 275\" stroke=\"gray\" stroke-width=\"0.5\"/><path d=\"M 459 236 338 219\" stroke=\"gray\" stroke-width=\"0.5\"/><path d=\"M 459 236 424 265\" stroke=\"gray\" stroke-width=\"0.5\"/><path d=\"M 459 236 369 230\" stroke=\"gray\" stroke-width=\"0.5\"/><path d=\"M 459 236 439 256\" stroke=\"gray\" stroke-width=\"0.5\"/><path d=\"M 459 236 388 254\" stroke=\"gray\" stroke-width=\"0.5\"/><path d=\"M 459 236 414 218\" stroke=\"gray\" stroke-width=\"0.5\"/><path d=\"M 459 236 400 217\" stroke=\"gray\" stroke-width=\"0.5\"/><path d=\"M 459 236 376 220\" stroke=\"gray\" stroke-width=\"0.5\"/><path d=\"M 459 236 373 242\" stroke=\"gray\" stroke-width=\"0.5\"/><path d=\"M 459 236 434 205\" stroke=\"gray\" stroke-width=\"0.5\"/><path d=\"M 459 236 435 220\" stroke=\"gray\" stroke-width=\"0.5\"/><path d=\"M 459 236 355 237\" stroke=\"gray\" stroke-width=\"0.5\"/><path d=\"M 459 236 433 235\" stroke=\"gray\" stroke-width=\"0.5\"/><path d=\"M 459 236 385 227\" stroke=\"gray\" stroke-width=\"0.5\"/><path d=\"M 459 236 443 225\" stroke=\"gray\" stroke-width=\"0.5\"/><path d=\"M 459 236 418 238\" stroke=\"gray\" stroke-width=\"0.5\"/><path d=\"M 459 236 407 210\" stroke=\"gray\" stroke-width=\"0.5\"/><path d=\"M 459 236 440 247\" stroke=\"gray\" stroke-width=\"0.5\"/><path d=\"M 459 236 385 238\" stroke=\"gray\" stroke-width=\"0.5\"/><path d=\"M 459 236 408 251\" stroke=\"gray\" stroke-width=\"0.5\"/><path d=\"M 459 236 371 249\" stroke=\"gray\" stroke-width=\"0.5\"/><path d=\"M 459 236 402 241\" stroke=\"gray\" stroke-width=\"0.5\"/><path d=\"M 459 236 379 254\" stroke=\"gray\" stroke-width=\"0.5\"/><path d=\"M 459 236 357 213\" stroke=\"gray\" stroke-width=\"0.5\"/><path d=\"M 459 236 451 249\" stroke=\"gray\" stroke-width=\"0.5\"/><path d=\"M 318 369 375 275\" stroke=\"gray\" stroke-width=\"0.5\"/><path d=\"M 318 369 274 379\" stroke=\"gray\" stroke-width=\"0.5\"/><path d=\"M 318 369 310 407\" stroke=\"gray\" stroke-width=\"0.5\"/><path d=\"M 399 232 414 230\" stroke=\"gray\" stroke-width=\"0.5\"/><path d=\"M 399 232 407 262\" stroke=\"gray\" stroke-width=\"0.5\"/><path d=\"M 399 232 392 246\" stroke=\"gray\" stroke-width=\"0.5\"/><path d=\"M 399 232 418 246\" stroke=\"gray\" stroke-width=\"0.5\"/><path d=\"M 399 232 459 236\" stroke=\"gray\" stroke-width=\"0.5\"/><path d=\"M 399 232 375 275\" stroke=\"gray\" stroke-width=\"0.5\"/><path d=\"M 399 232 338 219\" stroke=\"gray\" stroke-width=\"0.5\"/><path d=\"M 399 232 424 265\" stroke=\"gray\" stroke-width=\"0.5\"/><path d=\"M 399 232 369 230\" stroke=\"gray\" stroke-width=\"0.5\"/><path d=\"M 399 232 439 256\" stroke=\"gray\" stroke-width=\"0.5\"/><path d=\"M 399 232 388 254\" stroke=\"gray\" stroke-width=\"0.5\"/><path d=\"M 399 232 414 218\" stroke=\"gray\" stroke-width=\"0.5\"/><path d=\"M 399 232 400 217\" stroke=\"gray\" stroke-width=\"0.5\"/><path d=\"M 399 232 376 220\" stroke=\"gray\" stroke-width=\"0.5\"/><path d=\"M 399 232 373 242\" stroke=\"gray\" stroke-width=\"0.5\"/><path d=\"M 399 232 434 205\" stroke=\"gray\" stroke-width=\"0.5\"/><path d=\"M 399 232 435 220\" stroke=\"gray\" stroke-width=\"0.5\"/><path d=\"M 399 232 355 237\" stroke=\"gray\" stroke-width=\"0.5\"/><path d=\"M 399 232 433 235\" stroke=\"gray\" stroke-width=\"0.5\"/><path d=\"M 399 232 385 227\" stroke=\"gray\" stroke-width=\"0.5\"/><path d=\"M 399 232 443 225\" stroke=\"gray\" stroke-width=\"0.5\"/><path d=\"M 399 232 418 238\" stroke=\"gray\" stroke-width=\"0.5\"/><path d=\"M 399 232 407 210\" stroke=\"gray\" stroke-width=\"0.5\"/><path d=\"M 399 232 440 247\" stroke=\"gray\" stroke-width=\"0.5\"/><path d=\"M 399 232 385 238\" stroke=\"gray\" stroke-width=\"0.5\"/><path d=\"M 399 232 408 251\" stroke=\"gray\" stroke-width=\"0.5\"/><path d=\"M 399 232 371 249\" stroke=\"gray\" stroke-width=\"0.5\"/><path d=\"M 399 232 402 241\" stroke=\"gray\" stroke-width=\"0.5\"/><path d=\"M 399 232 379 254\" stroke=\"gray\" stroke-width=\"0.5\"/><path d=\"M 399 232 357 213\" stroke=\"gray\" stroke-width=\"0.5\"/><path d=\"M 399 232 451 249\" stroke=\"gray\" stroke-width=\"0.5\"/><path d=\"M 375 275 414 230\" stroke=\"gray\" stroke-width=\"0.5\"/><path d=\"M 375 275 407 262\" stroke=\"gray\" stroke-width=\"0.5\"/><path d=\"M 375 275 392 246\" stroke=\"gray\" stroke-width=\"0.5\"/><path d=\"M 375 275 418 246\" stroke=\"gray\" stroke-width=\"0.5\"/><path d=\"M 375 275 459 236\" stroke=\"gray\" stroke-width=\"0.5\"/><path d=\"M 375 275 318 369\" stroke=\"gray\" stroke-width=\"0.5\"/><path d=\"M 375 275 399 232\" stroke=\"gray\" stroke-width=\"0.5\"/><path d=\"M 375 275 338 219\" stroke=\"gray\" stroke-width=\"0.5\"/><path d=\"M 375 275 274 379\" stroke=\"gray\" stroke-width=\"0.5\"/><path d=\"M 375 275 310 407\" stroke=\"gray\" stroke-width=\"0.5\"/><path d=\"M 375 275 424 265\" stroke=\"gray\" stroke-width=\"0.5\"/><path d=\"M 375 275 369 230\" stroke=\"gray\" stroke-width=\"0.5\"/><path d=\"M 375 275 439 256\" stroke=\"gray\" stroke-width=\"0.5\"/><path d=\"M 375 275 388 254\" stroke=\"gray\" stroke-width=\"0.5\"/><path d=\"M 375 275 414 218\" stroke=\"gray\" stroke-width=\"0.5\"/><path d=\"M 375 275 400 217\" stroke=\"gray\" stroke-width=\"0.5\"/><path d=\"M 375 275 376 220\" stroke=\"gray\" stroke-width=\"0.5\"/><path d=\"M 375 275 373 242\" stroke=\"gray\" stroke-width=\"0.5\"/><path d=\"M 375 275 434 205\" stroke=\"gray\" stroke-width=\"0.5\"/><path d=\"M 375 275 435 220\" stroke=\"gray\" stroke-width=\"0.5\"/><path d=\"M 375 275 355 237\" stroke=\"gray\" stroke-width=\"0.5\"/><path d=\"M 375 275 433 235\" stroke=\"gray\" stroke-width=\"0.5\"/><path d=\"M 375 275 385 227\" stroke=\"gray\" stroke-width=\"0.5\"/><path d=\"M 375 275 443 225\" stroke=\"gray\" stroke-width=\"0.5\"/><path d=\"M 375 275 418 238\" stroke=\"gray\" stroke-width=\"0.5\"/><path d=\"M 375 275 407 210\" stroke=\"gray\" stroke-width=\"0.5\"/><path d=\"M 375 275 440 247\" stroke=\"gray\" stroke-width=\"0.5\"/><path d=\"M 375 275 385 238\" stroke=\"gray\" stroke-width=\"0.5\"/><path d=\"M 375 275 408 251\" stroke=\"gray\" stroke-width=\"0.5\"/><path d=\"M 375 275 371 249\" stroke=\"gray\" stroke-width=\"0.5\"/><path d=\"M 375 275 402 241\" stroke=\"gray\" stroke-width=\"0.5\"/><path d=\"M 375 275 379 254\" stroke=\"gray\" stroke-width=\"0.5\"/><path d=\"M 375 275 357 213\" stroke=\"gray\" stroke-width=\"0.5\"/><path d=\"M 375 275 451 249\" stroke=\"gray\" stroke-width=\"0.5\"/><path d=\"M 180 146 338 219\" stroke=\"gray\" stroke-width=\"0.5\"/><path d=\"M 180 146 171 189\" stroke=\"gray\" stroke-width=\"0.5\"/><path d=\"M 180 146 121 62\" stroke=\"gray\" stroke-width=\"0.5\"/><path d=\"M 180 146 148 168\" stroke=\"gray\" stroke-width=\"0.5\"/><path d=\"M 180 146 247 197\" stroke=\"gray\" stroke-width=\"0.5\"/><path d=\"M 338 219 414 230\" stroke=\"gray\" stroke-width=\"0.5\"/><path d=\"M 338 219 407 262\" stroke=\"gray\" stroke-width=\"0.5\"/><path d=\"M 338 219 392 246\" stroke=\"gray\" stroke-width=\"0.5\"/><path d=\"M 338 219 418 246\" stroke=\"gray\" stroke-width=\"0.5\"/><path d=\"M 338 219 459 236\" stroke=\"gray\" stroke-width=\"0.5\"/><path d=\"M 338 219 399 232\" stroke=\"gray\" stroke-width=\"0.5\"/><path d=\"M 338 219 375 275\" stroke=\"gray\" stroke-width=\"0.5\"/><path d=\"M 338 219 180 146\" stroke=\"gray\" stroke-width=\"0.5\"/><path d=\"M 338 219 171 189\" stroke=\"gray\" stroke-width=\"0.5\"/><path d=\"M 338 219 148 168\" stroke=\"gray\" stroke-width=\"0.5\"/><path d=\"M 338 219 247 197\" stroke=\"gray\" stroke-width=\"0.5\"/><path d=\"M 338 219 424 265\" stroke=\"gray\" stroke-width=\"0.5\"/><path d=\"M 338 219 369 230\" stroke=\"gray\" stroke-width=\"0.5\"/><path d=\"M 338 219 439 256\" stroke=\"gray\" stroke-width=\"0.5\"/><path d=\"M 338 219 388 254\" stroke=\"gray\" stroke-width=\"0.5\"/><path d=\"M 338 219 414 218\" stroke=\"gray\" stroke-width=\"0.5\"/><path d=\"M 338 219 400 217\" stroke=\"gray\" stroke-width=\"0.5\"/><path d=\"M 338 219 376 220\" stroke=\"gray\" stroke-width=\"0.5\"/><path d=\"M 338 219 373 242\" stroke=\"gray\" stroke-width=\"0.5\"/><path d=\"M 338 219 434 205\" stroke=\"gray\" stroke-width=\"0.5\"/><path d=\"M 338 219 435 220\" stroke=\"gray\" stroke-width=\"0.5\"/><path d=\"M 338 219 355 237\" stroke=\"gray\" stroke-width=\"0.5\"/><path d=\"M 338 219 433 235\" stroke=\"gray\" stroke-width=\"0.5\"/><path d=\"M 338 219 385 227\" stroke=\"gray\" stroke-width=\"0.5\"/><path d=\"M 338 219 443 225\" stroke=\"gray\" stroke-width=\"0.5\"/><path d=\"M 338 219 418 238\" stroke=\"gray\" stroke-width=\"0.5\"/><path d=\"M 338 219 407 210\" stroke=\"gray\" stroke-width=\"0.5\"/><path d=\"M 338 219 440 247\" stroke=\"gray\" stroke-width=\"0.5\"/><path d=\"M 338 219 385 238\" stroke=\"gray\" stroke-width=\"0.5\"/><path d=\"M 338 219 408 251\" stroke=\"gray\" stroke-width=\"0.5\"/><path d=\"M 338 219 371 249\" stroke=\"gray\" stroke-width=\"0.5\"/><path d=\"M 338 219 402 241\" stroke=\"gray\" stroke-width=\"0.5\"/><path d=\"M 338 219 379 254\" stroke=\"gray\" stroke-width=\"0.5\"/><path d=\"M 338 219 357 213\" stroke=\"gray\" stroke-width=\"0.5\"/><path d=\"M 338 219 451 249\" stroke=\"gray\" stroke-width=\"0.5\"/><path d=\"M 233 518 166 489\" stroke=\"gray\" stroke-width=\"0.5\"/><path d=\"M 171 189 180 146\" stroke=\"gray\" stroke-width=\"0.5\"/><path d=\"M 171 189 338 219\" stroke=\"gray\" stroke-width=\"0.5\"/><path d=\"M 171 189 148 168\" stroke=\"gray\" stroke-width=\"0.5\"/><path d=\"M 171 189 247 197\" stroke=\"gray\" stroke-width=\"0.5\"/><path d=\"M 166 489 233 518\" stroke=\"gray\" stroke-width=\"0.5\"/><path d=\"M 274 379 318 369\" stroke=\"gray\" stroke-width=\"0.5\"/><path d=\"M 274 379 375 275\" stroke=\"gray\" stroke-width=\"0.5\"/><path d=\"M 274 379 175 434\" stroke=\"gray\" stroke-width=\"0.5\"/><path d=\"M 274 379 310 407\" stroke=\"gray\" stroke-width=\"0.5\"/><path d=\"M 175 434 274 379\" stroke=\"gray\" stroke-width=\"0.5\"/><path d=\"M 310 407 318 369\" stroke=\"gray\" stroke-width=\"0.5\"/><path d=\"M 310 407 375 275\" stroke=\"gray\" stroke-width=\"0.5\"/><path d=\"M 310 407 274 379\" stroke=\"gray\" stroke-width=\"0.5\"/><path d=\"M 310 407 273 512\" stroke=\"gray\" stroke-width=\"0.5\"/><path d=\"M 273 512 310 407\" stroke=\"gray\" stroke-width=\"0.5\"/><path d=\"M 121 62 180 146\" stroke=\"gray\" stroke-width=\"0.5\"/><path d=\"M 162 520 207 489\" stroke=\"gray\" stroke-width=\"0.5\"/><path d=\"M 148 168 180 146\" stroke=\"gray\" stroke-width=\"0.5\"/><path d=\"M 148 168 338 219\" stroke=\"gray\" stroke-width=\"0.5\"/><path d=\"M 148 168 171 189\" stroke=\"gray\" stroke-width=\"0.5\"/><path d=\"M 148 168 20 116\" stroke=\"gray\" stroke-width=\"0.5\"/><path d=\"M 148 168 247 197\" stroke=\"gray\" stroke-width=\"0.5\"/><path d=\"M 20 116 148 168\" stroke=\"gray\" stroke-width=\"0.5\"/><path d=\"M 247 197 324 178\" stroke=\"gray\" stroke-width=\"0.5\"/><path d=\"M 247 197 180 146\" stroke=\"gray\" stroke-width=\"0.5\"/><path d=\"M 247 197 338 219\" stroke=\"gray\" stroke-width=\"0.5\"/><path d=\"M 247 197 171 189\" stroke=\"gray\" stroke-width=\"0.5\"/><path d=\"M 247 197 148 168\" stroke=\"gray\" stroke-width=\"0.5\"/><path d=\"M 247 197 369 230\" stroke=\"gray\" stroke-width=\"0.5\"/><path d=\"M 247 197 388 254\" stroke=\"gray\" stroke-width=\"0.5\"/><path d=\"M 568 283 609 296\" stroke=\"gray\" stroke-width=\"0.5\"/><path d=\"M 568 283 577 317\" stroke=\"gray\" stroke-width=\"0.5\"/><path d=\"M 568 283 439 256\" stroke=\"gray\" stroke-width=\"0.5\"/><path d=\"M 568 283 451 249\" stroke=\"gray\" stroke-width=\"0.5\"/><path d=\"M 424 265 414 230\" stroke=\"gray\" stroke-width=\"0.5\"/><path d=\"M 424 265 407 262\" stroke=\"gray\" stroke-width=\"0.5\"/><path d=\"M 424 265 392 246\" stroke=\"gray\" stroke-width=\"0.5\"/><path d=\"M 424 265 422 322\" stroke=\"gray\" stroke-width=\"0.5\"/><path d=\"M 424 265 418 246\" stroke=\"gray\" stroke-width=\"0.5\"/><path d=\"M 424 265 459 236\" stroke=\"gray\" stroke-width=\"0.5\"/><path d=\"M 424 265 399 232\" stroke=\"gray\" stroke-width=\"0.5\"/><path d=\"M 424 265 375 275\" stroke=\"gray\" stroke-width=\"0.5\"/><path d=\"M 424 265 338 219\" stroke=\"gray\" stroke-width=\"0.5\"/><path d=\"M 424 265 534 348\" stroke=\"gray\" stroke-width=\"0.5\"/><path d=\"M 424 265 369 230\" stroke=\"gray\" stroke-width=\"0.5\"/><path d=\"M 424 265 468 334\" stroke=\"gray\" stroke-width=\"0.5\"/><path d=\"M 424 265 439 256\" stroke=\"gray\" stroke-width=\"0.5\"/><path d=\"M 424 265 388 254\" stroke=\"gray\" stroke-width=\"0.5\"/><path d=\"M 424 265 414 218\" stroke=\"gray\" stroke-width=\"0.5\"/><path d=\"M 424 265 400 217\" stroke=\"gray\" stroke-width=\"0.5\"/><path d=\"M 424 265 376 220\" stroke=\"gray\" stroke-width=\"0.5\"/><path d=\"M 424 265 373 242\" stroke=\"gray\" stroke-width=\"0.5\"/><path d=\"M 424 265 434 205\" stroke=\"gray\" stroke-width=\"0.5\"/><path d=\"M 424 265 435 220\" stroke=\"gray\" stroke-width=\"0.5\"/><path d=\"M 424 265 355 237\" stroke=\"gray\" stroke-width=\"0.5\"/><path d=\"M 424 265 433 235\" stroke=\"gray\" stroke-width=\"0.5\"/><path d=\"M 424 265 385 227\" stroke=\"gray\" stroke-width=\"0.5\"/><path d=\"M 424 265 443 225\" stroke=\"gray\" stroke-width=\"0.5\"/><path d=\"M 424 265 418 238\" stroke=\"gray\" stroke-width=\"0.5\"/><path d=\"M 424 265 407 210\" stroke=\"gray\" stroke-width=\"0.5\"/><path d=\"M 424 265 440 247\" stroke=\"gray\" stroke-width=\"0.5\"/><path d=\"M 424 265 385 238\" stroke=\"gray\" stroke-width=\"0.5\"/><path d=\"M 424 265 408 251\" stroke=\"gray\" stroke-width=\"0.5\"/><path d=\"M 424 265 371 249\" stroke=\"gray\" stroke-width=\"0.5\"/><path d=\"M 424 265 402 241\" stroke=\"gray\" stroke-width=\"0.5\"/><path d=\"M 424 265 379 254\" stroke=\"gray\" stroke-width=\"0.5\"/><path d=\"M 424 265 357 213\" stroke=\"gray\" stroke-width=\"0.5\"/><path d=\"M 424 265 451 249\" stroke=\"gray\" stroke-width=\"0.5\"/><path d=\"M 534 348 424 265\" stroke=\"gray\" stroke-width=\"0.5\"/><path d=\"M 369 230 414 230\" stroke=\"gray\" stroke-width=\"0.5\"/><path d=\"M 369 230 407 262\" stroke=\"gray\" stroke-width=\"0.5\"/><path d=\"M 369 230 392 246\" stroke=\"gray\" stroke-width=\"0.5\"/><path d=\"M 369 230 324 178\" stroke=\"gray\" stroke-width=\"0.5\"/><path d=\"M 369 230 418 246\" stroke=\"gray\" stroke-width=\"0.5\"/><path d=\"M 369 230 459 236\" stroke=\"gray\" stroke-width=\"0.5\"/><path d=\"M 369 230 399 232\" stroke=\"gray\" stroke-width=\"0.5\"/><path d=\"M 369 230 375 275\" stroke=\"gray\" stroke-width=\"0.5\"/><path d=\"M 369 230 338 219\" stroke=\"gray\" stroke-width=\"0.5\"/><path d=\"M 369 230 247 197\" stroke=\"gray\" stroke-width=\"0.5\"/><path d=\"M 369 230 424 265\" stroke=\"gray\" stroke-width=\"0.5\"/><path d=\"M 369 230 439 256\" stroke=\"gray\" stroke-width=\"0.5\"/><path d=\"M 369 230 388 254\" stroke=\"gray\" stroke-width=\"0.5\"/><path d=\"M 369 230 414 218\" stroke=\"gray\" stroke-width=\"0.5\"/><path d=\"M 369 230 400 217\" stroke=\"gray\" stroke-width=\"0.5\"/><path d=\"M 369 230 376 220\" stroke=\"gray\" stroke-width=\"0.5\"/><path d=\"M 369 230 373 242\" stroke=\"gray\" stroke-width=\"0.5\"/><path d=\"M 369 230 434 205\" stroke=\"gray\" stroke-width=\"0.5\"/><path d=\"M 369 230 435 220\" stroke=\"gray\" stroke-width=\"0.5\"/><path d=\"M 369 230 355 237\" stroke=\"gray\" stroke-width=\"0.5\"/><path d=\"M 369 230 433 235\" stroke=\"gray\" stroke-width=\"0.5\"/><path d=\"M 369 230 385 227\" stroke=\"gray\" stroke-width=\"0.5\"/><path d=\"M 369 230 443 225\" stroke=\"gray\" stroke-width=\"0.5\"/><path d=\"M 369 230 418 238\" stroke=\"gray\" stroke-width=\"0.5\"/><path d=\"M 369 230 407 210\" stroke=\"gray\" stroke-width=\"0.5\"/><path d=\"M 369 230 440 247\" stroke=\"gray\" stroke-width=\"0.5\"/><path d=\"M 369 230 385 238\" stroke=\"gray\" stroke-width=\"0.5\"/><path d=\"M 369 230 408 251\" stroke=\"gray\" stroke-width=\"0.5\"/><path d=\"M 369 230 371 249\" stroke=\"gray\" stroke-width=\"0.5\"/><path d=\"M 369 230 402 241\" stroke=\"gray\" stroke-width=\"0.5\"/><path d=\"M 369 230 379 254\" stroke=\"gray\" stroke-width=\"0.5\"/><path d=\"M 369 230 357 213\" stroke=\"gray\" stroke-width=\"0.5\"/><path d=\"M 369 230 451 249\" stroke=\"gray\" stroke-width=\"0.5\"/><path d=\"M 468 334 407 262\" stroke=\"gray\" stroke-width=\"0.5\"/><path d=\"M 468 334 422 322\" stroke=\"gray\" stroke-width=\"0.5\"/><path d=\"M 468 334 424 265\" stroke=\"gray\" stroke-width=\"0.5\"/><path d=\"M 468 334 566 417\" stroke=\"gray\" stroke-width=\"0.5\"/><path d=\"M 468 334 388 254\" stroke=\"gray\" stroke-width=\"0.5\"/><path d=\"M 566 417 468 334\" stroke=\"gray\" stroke-width=\"0.5\"/><path d=\"M 577 317 568 283\" stroke=\"gray\" stroke-width=\"0.5\"/><path d=\"M 577 317 439 256\" stroke=\"gray\" stroke-width=\"0.5\"/><path d=\"M 439 256 414 230\" stroke=\"gray\" stroke-width=\"0.5\"/><path d=\"M 439 256 407 262\" stroke=\"gray\" stroke-width=\"0.5\"/><path d=\"M 439 256 392 246\" stroke=\"gray\" stroke-width=\"0.5\"/><path d=\"M 439 256 418 246\" stroke=\"gray\" stroke-width=\"0.5\"/><path d=\"M 439 256 459 236\" stroke=\"gray\" stroke-width=\"0.5\"/><path d=\"M 439 256 399 232\" stroke=\"gray\" stroke-width=\"0.5\"/><path d=\"M 439 256 375 275\" stroke=\"gray\" stroke-width=\"0.5\"/><path d=\"M 439 256 338 219\" stroke=\"gray\" stroke-width=\"0.5\"/><path d=\"M 439 256 568 283\" stroke=\"gray\" stroke-width=\"0.5\"/><path d=\"M 439 256 424 265\" stroke=\"gray\" stroke-width=\"0.5\"/><path d=\"M 439 256 369 230\" stroke=\"gray\" stroke-width=\"0.5\"/><path d=\"M 439 256 577 317\" stroke=\"gray\" stroke-width=\"0.5\"/><path d=\"M 439 256 388 254\" stroke=\"gray\" stroke-width=\"0.5\"/><path d=\"M 439 256 414 218\" stroke=\"gray\" stroke-width=\"0.5\"/><path d=\"M 439 256 400 217\" stroke=\"gray\" stroke-width=\"0.5\"/><path d=\"M 439 256 376 220\" stroke=\"gray\" stroke-width=\"0.5\"/><path d=\"M 439 256 373 242\" stroke=\"gray\" stroke-width=\"0.5\"/><path d=\"M 439 256 434 205\" stroke=\"gray\" stroke-width=\"0.5\"/><path d=\"M 439 256 435 220\" stroke=\"gray\" stroke-width=\"0.5\"/><path d=\"M 439 256 355 237\" stroke=\"gray\" stroke-width=\"0.5\"/><path d=\"M 439 256 433 235\" stroke=\"gray\" stroke-width=\"0.5\"/><path d=\"M 439 256 385 227\" stroke=\"gray\" stroke-width=\"0.5\"/><path d=\"M 439 256 443 225\" stroke=\"gray\" stroke-width=\"0.5\"/><path d=\"M 439 256 418 238\" stroke=\"gray\" stroke-width=\"0.5\"/><path d=\"M 439 256 407 210\" stroke=\"gray\" stroke-width=\"0.5\"/><path d=\"M 439 256 440 247\" stroke=\"gray\" stroke-width=\"0.5\"/><path d=\"M 439 256 385 238\" stroke=\"gray\" stroke-width=\"0.5\"/><path d=\"M 439 256 408 251\" stroke=\"gray\" stroke-width=\"0.5\"/><path d=\"M 439 256 371 249\" stroke=\"gray\" stroke-width=\"0.5\"/><path d=\"M 439 256 402 241\" stroke=\"gray\" stroke-width=\"0.5\"/><path d=\"M 439 256 379 254\" stroke=\"gray\" stroke-width=\"0.5\"/><path d=\"M 439 256 357 213\" stroke=\"gray\" stroke-width=\"0.5\"/><path d=\"M 439 256 451 249\" stroke=\"gray\" stroke-width=\"0.5\"/><path d=\"M 388 254 414 230\" stroke=\"gray\" stroke-width=\"0.5\"/><path d=\"M 388 254 407 262\" stroke=\"gray\" stroke-width=\"0.5\"/><path d=\"M 388 254 392 246\" stroke=\"gray\" stroke-width=\"0.5\"/><path d=\"M 388 254 324 178\" stroke=\"gray\" stroke-width=\"0.5\"/><path d=\"M 388 254 422 322\" stroke=\"gray\" stroke-width=\"0.5\"/><path d=\"M 388 254 418 246\" stroke=\"gray\" stroke-width=\"0.5\"/><path d=\"M 388 254 459 236\" stroke=\"gray\" stroke-width=\"0.5\"/><path d=\"M 388 254 399 232\" stroke=\"gray\" stroke-width=\"0.5\"/><path d=\"M 388 254 375 275\" stroke=\"gray\" stroke-width=\"0.5\"/><path d=\"M 388 254 338 219\" stroke=\"gray\" stroke-width=\"0.5\"/><path d=\"M 388 254 247 197\" stroke=\"gray\" stroke-width=\"0.5\"/><path d=\"M 388 254 424 265\" stroke=\"gray\" stroke-width=\"0.5\"/><path d=\"M 388 254 369 230\" stroke=\"gray\" stroke-width=\"0.5\"/><path d=\"M 388 254 468 334\" stroke=\"gray\" stroke-width=\"0.5\"/><path d=\"M 388 254 439 256\" stroke=\"gray\" stroke-width=\"0.5\"/><path d=\"M 388 254 414 218\" stroke=\"gray\" stroke-width=\"0.5\"/><path d=\"M 388 254 400 217\" stroke=\"gray\" stroke-width=\"0.5\"/><path d=\"M 388 254 376 220\" stroke=\"gray\" stroke-width=\"0.5\"/><path d=\"M 388 254 373 242\" stroke=\"gray\" stroke-width=\"0.5\"/><path d=\"M 388 254 434 205\" stroke=\"gray\" stroke-width=\"0.5\"/><path d=\"M 388 254 435 220\" stroke=\"gray\" stroke-width=\"0.5\"/><path d=\"M 388 254 355 237\" stroke=\"gray\" stroke-width=\"0.5\"/><path d=\"M 388 254 433 235\" stroke=\"gray\" stroke-width=\"0.5\"/><path d=\"M 388 254 385 227\" stroke=\"gray\" stroke-width=\"0.5\"/><path d=\"M 388 254 443 225\" stroke=\"gray\" stroke-width=\"0.5\"/><path d=\"M 388 254 418 238\" stroke=\"gray\" stroke-width=\"0.5\"/><path d=\"M 388 254 407 210\" stroke=\"gray\" stroke-width=\"0.5\"/><path d=\"M 388 254 440 247\" stroke=\"gray\" stroke-width=\"0.5\"/><path d=\"M 388 254 385 238\" stroke=\"gray\" stroke-width=\"0.5\"/><path d=\"M 388 254 408 251\" stroke=\"gray\" stroke-width=\"0.5\"/><path d=\"M 388 254 371 249\" stroke=\"gray\" stroke-width=\"0.5\"/><path d=\"M 388 254 402 241\" stroke=\"gray\" stroke-width=\"0.5\"/><path d=\"M 388 254 379 254\" stroke=\"gray\" stroke-width=\"0.5\"/><path d=\"M 388 254 357 213\" stroke=\"gray\" stroke-width=\"0.5\"/><path d=\"M 388 254 451 249\" stroke=\"gray\" stroke-width=\"0.5\"/><path d=\"M 414 218 414 230\" stroke=\"gray\" stroke-width=\"0.5\"/><path d=\"M 414 218 407 262\" stroke=\"gray\" stroke-width=\"0.5\"/><path d=\"M 414 218 392 246\" stroke=\"gray\" stroke-width=\"0.5\"/><path d=\"M 414 218 418 246\" stroke=\"gray\" stroke-width=\"0.5\"/><path d=\"M 414 218 459 236\" stroke=\"gray\" stroke-width=\"0.5\"/><path d=\"M 414 218 399 232\" stroke=\"gray\" stroke-width=\"0.5\"/><path d=\"M 414 218 375 275\" stroke=\"gray\" stroke-width=\"0.5\"/><path d=\"M 414 218 338 219\" stroke=\"gray\" stroke-width=\"0.5\"/><path d=\"M 414 218 424 265\" stroke=\"gray\" stroke-width=\"0.5\"/><path d=\"M 414 218 369 230\" stroke=\"gray\" stroke-width=\"0.5\"/><path d=\"M 414 218 439 256\" stroke=\"gray\" stroke-width=\"0.5\"/><path d=\"M 414 218 388 254\" stroke=\"gray\" stroke-width=\"0.5\"/><path d=\"M 414 218 405 147\" stroke=\"gray\" stroke-width=\"0.5\"/><path d=\"M 414 218 400 217\" stroke=\"gray\" stroke-width=\"0.5\"/><path d=\"M 414 218 443 152\" stroke=\"gray\" stroke-width=\"0.5\"/><path d=\"M 414 218 376 220\" stroke=\"gray\" stroke-width=\"0.5\"/><path d=\"M 414 218 373 242\" stroke=\"gray\" stroke-width=\"0.5\"/><path d=\"M 414 218 434 205\" stroke=\"gray\" stroke-width=\"0.5\"/><path d=\"M 414 218 435 220\" stroke=\"gray\" stroke-width=\"0.5\"/><path d=\"M 414 218 355 237\" stroke=\"gray\" stroke-width=\"0.5\"/><path d=\"M 414 218 433 235\" stroke=\"gray\" stroke-width=\"0.5\"/><path d=\"M 414 218 385 227\" stroke=\"gray\" stroke-width=\"0.5\"/><path d=\"M 414 218 443 225\" stroke=\"gray\" stroke-width=\"0.5\"/><path d=\"M 414 218 418 238\" stroke=\"gray\" stroke-width=\"0.5\"/><path d=\"M 414 218 407 210\" stroke=\"gray\" stroke-width=\"0.5\"/><path d=\"M 414 218 440 247\" stroke=\"gray\" stroke-width=\"0.5\"/><path d=\"M 414 218 385 238\" stroke=\"gray\" stroke-width=\"0.5\"/><path d=\"M 414 218 408 251\" stroke=\"gray\" stroke-width=\"0.5\"/><path d=\"M 414 218 371 249\" stroke=\"gray\" stroke-width=\"0.5\"/><path d=\"M 414 218 402 241\" stroke=\"gray\" stroke-width=\"0.5\"/><path d=\"M 414 218 379 254\" stroke=\"gray\" stroke-width=\"0.5\"/><path d=\"M 414 218 357 213\" stroke=\"gray\" stroke-width=\"0.5\"/><path d=\"M 414 218 451 249\" stroke=\"gray\" stroke-width=\"0.5\"/><path d=\"M 405 147 414 218\" stroke=\"gray\" stroke-width=\"0.5\"/><path d=\"M 405 147 400 217\" stroke=\"gray\" stroke-width=\"0.5\"/><path d=\"M 405 147 443 152\" stroke=\"gray\" stroke-width=\"0.5\"/><path d=\"M 400 217 414 230\" stroke=\"gray\" stroke-width=\"0.5\"/><path d=\"M 400 217 407 262\" stroke=\"gray\" stroke-width=\"0.5\"/><path d=\"M 400 217 392 246\" stroke=\"gray\" stroke-width=\"0.5\"/><path d=\"M 400 217 418 246\" stroke=\"gray\" stroke-width=\"0.5\"/><path d=\"M 400 217 459 236\" stroke=\"gray\" stroke-width=\"0.5\"/><path d=\"M 400 217 399 232\" stroke=\"gray\" stroke-width=\"0.5\"/><path d=\"M 400 217 375 275\" stroke=\"gray\" stroke-width=\"0.5\"/><path d=\"M 400 217 338 219\" stroke=\"gray\" stroke-width=\"0.5\"/><path d=\"M 400 217 424 265\" stroke=\"gray\" stroke-width=\"0.5\"/><path d=\"M 400 217 369 230\" stroke=\"gray\" stroke-width=\"0.5\"/><path d=\"M 400 217 439 256\" stroke=\"gray\" stroke-width=\"0.5\"/><path d=\"M 400 217 388 254\" stroke=\"gray\" stroke-width=\"0.5\"/><path d=\"M 400 217 414 218\" stroke=\"gray\" stroke-width=\"0.5\"/><path d=\"M 400 217 405 147\" stroke=\"gray\" stroke-width=\"0.5\"/><path d=\"M 400 217 443 152\" stroke=\"gray\" stroke-width=\"0.5\"/><path d=\"M 400 217 376 220\" stroke=\"gray\" stroke-width=\"0.5\"/><path d=\"M 400 217 373 242\" stroke=\"gray\" stroke-width=\"0.5\"/><path d=\"M 400 217 434 205\" stroke=\"gray\" stroke-width=\"0.5\"/><path d=\"M 400 217 435 220\" stroke=\"gray\" stroke-width=\"0.5\"/><path d=\"M 400 217 355 237\" stroke=\"gray\" stroke-width=\"0.5\"/><path d=\"M 400 217 433 235\" stroke=\"gray\" stroke-width=\"0.5\"/><path d=\"M 400 217 385 227\" stroke=\"gray\" stroke-width=\"0.5\"/><path d=\"M 400 217 443 225\" stroke=\"gray\" stroke-width=\"0.5\"/><path d=\"M 400 217 418 238\" stroke=\"gray\" stroke-width=\"0.5\"/><path d=\"M 400 217 407 210\" stroke=\"gray\" stroke-width=\"0.5\"/><path d=\"M 400 217 440 247\" stroke=\"gray\" stroke-width=\"0.5\"/><path d=\"M 400 217 385 238\" stroke=\"gray\" stroke-width=\"0.5\"/><path d=\"M 400 217 408 251\" stroke=\"gray\" stroke-width=\"0.5\"/><path d=\"M 400 217 371 249\" stroke=\"gray\" stroke-width=\"0.5\"/><path d=\"M 400 217 402 241\" stroke=\"gray\" stroke-width=\"0.5\"/><path d=\"M 400 217 379 254\" stroke=\"gray\" stroke-width=\"0.5\"/><path d=\"M 400 217 357 213\" stroke=\"gray\" stroke-width=\"0.5\"/><path d=\"M 400 217 451 249\" stroke=\"gray\" stroke-width=\"0.5\"/><path d=\"M 443 152 414 218\" stroke=\"gray\" stroke-width=\"0.5\"/><path d=\"M 443 152 405 147\" stroke=\"gray\" stroke-width=\"0.5\"/><path d=\"M 443 152 400 217\" stroke=\"gray\" stroke-width=\"0.5\"/><path d=\"M 207 489 162 520\" stroke=\"gray\" stroke-width=\"0.5\"/><path d=\"M 233 152 376 220\" stroke=\"gray\" stroke-width=\"0.5\"/><path d=\"M 376 220 414 230\" stroke=\"gray\" stroke-width=\"0.5\"/><path d=\"M 376 220 407 262\" stroke=\"gray\" stroke-width=\"0.5\"/><path d=\"M 376 220 392 246\" stroke=\"gray\" stroke-width=\"0.5\"/><path d=\"M 376 220 418 246\" stroke=\"gray\" stroke-width=\"0.5\"/><path d=\"M 376 220 459 236\" stroke=\"gray\" stroke-width=\"0.5\"/><path d=\"M 376 220 399 232\" stroke=\"gray\" stroke-width=\"0.5\"/><path d=\"M 376 220 375 275\" stroke=\"gray\" stroke-width=\"0.5\"/><path d=\"M 376 220 338 219\" stroke=\"gray\" stroke-width=\"0.5\"/><path d=\"M 376 220 424 265\" stroke=\"gray\" stroke-width=\"0.5\"/><path d=\"M 376 220 369 230\" stroke=\"gray\" stroke-width=\"0.5\"/><path d=\"M 376 220 439 256\" stroke=\"gray\" stroke-width=\"0.5\"/><path d=\"M 376 220 388 254\" stroke=\"gray\" stroke-width=\"0.5\"/><path d=\"M 376 220 414 218\" stroke=\"gray\" stroke-width=\"0.5\"/><path d=\"M 376 220 400 217\" stroke=\"gray\" stroke-width=\"0.5\"/><path d=\"M 376 220 233 152\" stroke=\"gray\" stroke-width=\"0.5\"/><path d=\"M 376 220 373 242\" stroke=\"gray\" stroke-width=\"0.5\"/><path d=\"M 376 220 434 205\" stroke=\"gray\" stroke-width=\"0.5\"/><path d=\"M 376 220 435 220\" stroke=\"gray\" stroke-width=\"0.5\"/><path d=\"M 376 220 355 237\" stroke=\"gray\" stroke-width=\"0.5\"/><path d=\"M 376 220 433 235\" stroke=\"gray\" stroke-width=\"0.5\"/><path d=\"M 376 220 385 227\" stroke=\"gray\" stroke-width=\"0.5\"/><path d=\"M 376 220 443 225\" stroke=\"gray\" stroke-width=\"0.5\"/><path d=\"M 376 220 418 238\" stroke=\"gray\" stroke-width=\"0.5\"/><path d=\"M 376 220 407 210\" stroke=\"gray\" stroke-width=\"0.5\"/><path d=\"M 376 220 440 247\" stroke=\"gray\" stroke-width=\"0.5\"/><path d=\"M 376 220 385 238\" stroke=\"gray\" stroke-width=\"0.5\"/><path d=\"M 376 220 408 251\" stroke=\"gray\" stroke-width=\"0.5\"/><path d=\"M 376 220 371 249\" stroke=\"gray\" stroke-width=\"0.5\"/><path d=\"M 376 220 402 241\" stroke=\"gray\" stroke-width=\"0.5\"/><path d=\"M 376 220 379 254\" stroke=\"gray\" stroke-width=\"0.5\"/><path d=\"M 376 220 357 213\" stroke=\"gray\" stroke-width=\"0.5\"/><path d=\"M 376 220 451 249\" stroke=\"gray\" stroke-width=\"0.5\"/><path d=\"M 373 242 414 230\" stroke=\"gray\" stroke-width=\"0.5\"/><path d=\"M 373 242 407 262\" stroke=\"gray\" stroke-width=\"0.5\"/><path d=\"M 373 242 392 246\" stroke=\"gray\" stroke-width=\"0.5\"/><path d=\"M 373 242 418 246\" stroke=\"gray\" stroke-width=\"0.5\"/><path d=\"M 373 242 459 236\" stroke=\"gray\" stroke-width=\"0.5\"/><path d=\"M 373 242 399 232\" stroke=\"gray\" stroke-width=\"0.5\"/><path d=\"M 373 242 375 275\" stroke=\"gray\" stroke-width=\"0.5\"/><path d=\"M 373 242 338 219\" stroke=\"gray\" stroke-width=\"0.5\"/><path d=\"M 373 242 424 265\" stroke=\"gray\" stroke-width=\"0.5\"/><path d=\"M 373 242 369 230\" stroke=\"gray\" stroke-width=\"0.5\"/><path d=\"M 373 242 439 256\" stroke=\"gray\" stroke-width=\"0.5\"/><path d=\"M 373 242 388 254\" stroke=\"gray\" stroke-width=\"0.5\"/><path d=\"M 373 242 414 218\" stroke=\"gray\" stroke-width=\"0.5\"/><path d=\"M 373 242 400 217\" stroke=\"gray\" stroke-width=\"0.5\"/><path d=\"M 373 242 376 220\" stroke=\"gray\" stroke-width=\"0.5\"/><path d=\"M 373 242 434 205\" stroke=\"gray\" stroke-width=\"0.5\"/><path d=\"M 373 242 435 220\" stroke=\"gray\" stroke-width=\"0.5\"/><path d=\"M 373 242 355 237\" stroke=\"gray\" stroke-width=\"0.5\"/><path d=\"M 373 242 433 235\" stroke=\"gray\" stroke-width=\"0.5\"/><path d=\"M 373 242 385 227\" stroke=\"gray\" stroke-width=\"0.5\"/><path d=\"M 373 242 443 225\" stroke=\"gray\" stroke-width=\"0.5\"/><path d=\"M 373 242 418 238\" stroke=\"gray\" stroke-width=\"0.5\"/><path d=\"M 373 242 407 210\" stroke=\"gray\" stroke-width=\"0.5\"/><path d=\"M 373 242 440 247\" stroke=\"gray\" stroke-width=\"0.5\"/><path d=\"M 373 242 385 238\" stroke=\"gray\" stroke-width=\"0.5\"/><path d=\"M 373 242 408 251\" stroke=\"gray\" stroke-width=\"0.5\"/><path d=\"M 373 242 371 249\" stroke=\"gray\" stroke-width=\"0.5\"/><path d=\"M 373 242 402 241\" stroke=\"gray\" stroke-width=\"0.5\"/><path d=\"M 373 242 379 254\" stroke=\"gray\" stroke-width=\"0.5\"/><path d=\"M 373 242 357 213\" stroke=\"gray\" stroke-width=\"0.5\"/><path d=\"M 373 242 451 249\" stroke=\"gray\" stroke-width=\"0.5\"/><path d=\"M 538 101 512 119\" stroke=\"gray\" stroke-width=\"0.5\"/><path d=\"M 538 101 618 20\" stroke=\"gray\" stroke-width=\"0.5\"/><path d=\"M 538 101 434 205\" stroke=\"gray\" stroke-width=\"0.5\"/><path d=\"M 538 101 468 132\" stroke=\"gray\" stroke-width=\"0.5\"/><path d=\"M 538 101 511 150\" stroke=\"gray\" stroke-width=\"0.5\"/><path d=\"M 618 20 538 101\" stroke=\"gray\" stroke-width=\"0.5\"/><path d=\"M 434 205 414 230\" stroke=\"gray\" stroke-width=\"0.5\"/><path d=\"M 434 205 407 262\" stroke=\"gray\" stroke-width=\"0.5\"/><path d=\"M 434 205 392 246\" stroke=\"gray\" stroke-width=\"0.5\"/><path d=\"M 434 205 418 246\" stroke=\"gray\" stroke-width=\"0.5\"/><path d=\"M 434 205 512 119\" stroke=\"gray\" stroke-width=\"0.5\"/><path d=\"M 434 205 459 236\" stroke=\"gray\" stroke-width=\"0.5\"/><path d=\"M 434 205 399 232\" stroke=\"gray\" stroke-width=\"0.5\"/><path d=\"M 434 205 375 275\" stroke=\"gray\" stroke-width=\"0.5\"/><path d=\"M 434 205 338 219\" stroke=\"gray\" stroke-width=\"0.5\"/><path d=\"M 434 205 424 265\" stroke=\"gray\" stroke-width=\"0.5\"/><path d=\"M 434 205 369 230\" stroke=\"gray\" stroke-width=\"0.5\"/><path d=\"M 434 205 439 256\" stroke=\"gray\" stroke-width=\"0.5\"/><path d=\"M 434 205 388 254\" stroke=\"gray\" stroke-width=\"0.5\"/><path d=\"M 434 205 414 218\" stroke=\"gray\" stroke-width=\"0.5\"/><path d=\"M 434 205 400 217\" stroke=\"gray\" stroke-width=\"0.5\"/><path d=\"M 434 205 376 220\" stroke=\"gray\" stroke-width=\"0.5\"/><path d=\"M 434 205 373 242\" stroke=\"gray\" stroke-width=\"0.5\"/><path d=\"M 434 205 538 101\" stroke=\"gray\" stroke-width=\"0.5\"/><path d=\"M 434 205 435 220\" stroke=\"gray\" stroke-width=\"0.5\"/><path d=\"M 434 205 355 237\" stroke=\"gray\" stroke-width=\"0.5\"/><path d=\"M 434 205 433 235\" stroke=\"gray\" stroke-width=\"0.5\"/><path d=\"M 434 205 385 227\" stroke=\"gray\" stroke-width=\"0.5\"/><path d=\"M 434 205 443 225\" stroke=\"gray\" stroke-width=\"0.5\"/><path d=\"M 434 205 418 238\" stroke=\"gray\" stroke-width=\"0.5\"/><path d=\"M 434 205 407 210\" stroke=\"gray\" stroke-width=\"0.5\"/><path d=\"M 434 205 440 247\" stroke=\"gray\" stroke-width=\"0.5\"/><path d=\"M 434 205 468 132\" stroke=\"gray\" stroke-width=\"0.5\"/><path d=\"M 434 205 385 238\" stroke=\"gray\" stroke-width=\"0.5\"/><path d=\"M 434 205 408 251\" stroke=\"gray\" stroke-width=\"0.5\"/><path d=\"M 434 205 371 249\" stroke=\"gray\" stroke-width=\"0.5\"/><path d=\"M 434 205 402 241\" stroke=\"gray\" stroke-width=\"0.5\"/><path d=\"M 434 205 379 254\" stroke=\"gray\" stroke-width=\"0.5\"/><path d=\"M 434 205 357 213\" stroke=\"gray\" stroke-width=\"0.5\"/><path d=\"M 434 205 451 249\" stroke=\"gray\" stroke-width=\"0.5\"/><path d=\"M 434 205 511 150\" stroke=\"gray\" stroke-width=\"0.5\"/><path d=\"M 632 285 440 247\" stroke=\"gray\" stroke-width=\"0.5\"/><path d=\"M 399 112 407 210\" stroke=\"gray\" stroke-width=\"0.5\"/><path d=\"M 399 112 468 132\" stroke=\"gray\" stroke-width=\"0.5\"/><path d=\"M 500 250 348 225\" stroke=\"gray\" stroke-width=\"0.5\"/><path d=\"M 500 250 433 235\" stroke=\"gray\" stroke-width=\"0.5\"/><path d=\"M 500 250 533 227\" stroke=\"gray\" stroke-width=\"0.5\"/><path d=\"M 500 250 385 227\" stroke=\"gray\" stroke-width=\"0.5\"/><path d=\"M 500 250 443 225\" stroke=\"gray\" stroke-width=\"0.5\"/><path d=\"M 500 250 494 203\" stroke=\"gray\" stroke-width=\"0.5\"/><path d=\"M 435 220 414 230\" stroke=\"gray\" stroke-width=\"0.5\"/><path d=\"M 435 220 407 262\" stroke=\"gray\" stroke-width=\"0.5\"/><path d=\"M 435 220 392 246\" stroke=\"gray\" stroke-width=\"0.5\"/><path d=\"M 435 220 418 246\" stroke=\"gray\" stroke-width=\"0.5\"/><path d=\"M 435 220 459 236\" stroke=\"gray\" stroke-width=\"0.5\"/><path d=\"M 435 220 399 232\" stroke=\"gray\" stroke-width=\"0.5\"/><path d=\"M 435 220 375 275\" stroke=\"gray\" stroke-width=\"0.5\"/><path d=\"M 435 220 338 219\" stroke=\"gray\" stroke-width=\"0.5\"/><path d=\"M 435 220 424 265\" stroke=\"gray\" stroke-width=\"0.5\"/><path d=\"M 435 220 369 230\" stroke=\"gray\" stroke-width=\"0.5\"/><path d=\"M 435 220 439 256\" stroke=\"gray\" stroke-width=\"0.5\"/><path d=\"M 435 220 388 254\" stroke=\"gray\" stroke-width=\"0.5\"/><path d=\"M 435 220 414 218\" stroke=\"gray\" stroke-width=\"0.5\"/><path d=\"M 435 220 400 217\" stroke=\"gray\" stroke-width=\"0.5\"/><path d=\"M 435 220 376 220\" stroke=\"gray\" stroke-width=\"0.5\"/><path d=\"M 435 220 373 242\" stroke=\"gray\" stroke-width=\"0.5\"/><path d=\"M 435 220 434 205\" stroke=\"gray\" stroke-width=\"0.5\"/><path d=\"M 435 220 551 184\" stroke=\"gray\" stroke-width=\"0.5\"/><path d=\"M 435 220 355 237\" stroke=\"gray\" stroke-width=\"0.5\"/><path d=\"M 435 220 433 235\" stroke=\"gray\" stroke-width=\"0.5\"/><path d=\"M 435 220 385 227\" stroke=\"gray\" stroke-width=\"0.5\"/><path d=\"M 435 220 443 225\" stroke=\"gray\" stroke-width=\"0.5\"/><path d=\"M 435 220 418 238\" stroke=\"gray\" stroke-width=\"0.5\"/><path d=\"M 435 220 407 210\" stroke=\"gray\" stroke-width=\"0.5\"/><path d=\"M 435 220 440 247\" stroke=\"gray\" stroke-width=\"0.5\"/><path d=\"M 435 220 385 238\" stroke=\"gray\" stroke-width=\"0.5\"/><path d=\"M 435 220 408 251\" stroke=\"gray\" stroke-width=\"0.5\"/><path d=\"M 435 220 371 249\" stroke=\"gray\" stroke-width=\"0.5\"/><path d=\"M 435 220 402 241\" stroke=\"gray\" stroke-width=\"0.5\"/><path d=\"M 435 220 379 254\" stroke=\"gray\" stroke-width=\"0.5\"/><path d=\"M 435 220 357 213\" stroke=\"gray\" stroke-width=\"0.5\"/><path d=\"M 435 220 451 249\" stroke=\"gray\" stroke-width=\"0.5\"/><path d=\"M 435 220 494 203\" stroke=\"gray\" stroke-width=\"0.5\"/><path d=\"M 435 220 511 150\" stroke=\"gray\" stroke-width=\"0.5\"/><path d=\"M 551 184 435 220\" stroke=\"gray\" stroke-width=\"0.5\"/><path d=\"M 551 184 443 225\" stroke=\"gray\" stroke-width=\"0.5\"/><path d=\"M 551 184 494 203\" stroke=\"gray\" stroke-width=\"0.5\"/><path d=\"M 551 184 511 150\" stroke=\"gray\" stroke-width=\"0.5\"/><path d=\"M 348 225 500 250\" stroke=\"gray\" stroke-width=\"0.5\"/><path d=\"M 348 225 355 237\" stroke=\"gray\" stroke-width=\"0.5\"/><path d=\"M 348 225 246 223\" stroke=\"gray\" stroke-width=\"0.5\"/><path d=\"M 348 225 433 235\" stroke=\"gray\" stroke-width=\"0.5\"/><path d=\"M 348 225 533 227\" stroke=\"gray\" stroke-width=\"0.5\"/><path d=\"M 348 225 246 237\" stroke=\"gray\" stroke-width=\"0.5\"/><path d=\"M 348 225 385 227\" stroke=\"gray\" stroke-width=\"0.5\"/><path d=\"M 348 225 261 182\" stroke=\"gray\" stroke-width=\"0.5\"/><path d=\"M 348 225 443 225\" stroke=\"gray\" stroke-width=\"0.5\"/><path d=\"M 348 225 494 203\" stroke=\"gray\" stroke-width=\"0.5\"/><path d=\"M 355 237 414 230\" stroke=\"gray\" stroke-width=\"0.5\"/><path d=\"M 355 237 407 262\" stroke=\"gray\" stroke-width=\"0.5\"/><path d=\"M 355 237 392 246\" stroke=\"gray\" stroke-width=\"0.5\"/><path d=\"M 355 237 418 246\" stroke=\"gray\" stroke-width=\"0.5\"/><path d=\"M 355 237 459 236\" stroke=\"gray\" stroke-width=\"0.5\"/><path d=\"M 355 237 399 232\" stroke=\"gray\" stroke-width=\"0.5\"/><path d=\"M 355 237 375 275\" stroke=\"gray\" stroke-width=\"0.5\"/><path d=\"M 355 237 338 219\" stroke=\"gray\" stroke-width=\"0.5\"/><path d=\"M 355 237 424 265\" stroke=\"gray\" stroke-width=\"0.5\"/><path d=\"M 355 237 369 230\" stroke=\"gray\" stroke-width=\"0.5\"/><path d=\"M 355 237 439 256\" stroke=\"gray\" stroke-width=\"0.5\"/><path d=\"M 355 237 388 254\" stroke=\"gray\" stroke-width=\"0.5\"/><path d=\"M 355 237 414 218\" stroke=\"gray\" stroke-width=\"0.5\"/><path d=\"M 355 237 400 217\" stroke=\"gray\" stroke-width=\"0.5\"/><path d=\"M 355 237 376 220\" stroke=\"gray\" stroke-width=\"0.5\"/><path d=\"M 355 237 373 242\" stroke=\"gray\" stroke-width=\"0.5\"/><path d=\"M 355 237 434 205\" stroke=\"gray\" stroke-width=\"0.5\"/><path d=\"M 355 237 435 220\" stroke=\"gray\" stroke-width=\"0.5\"/><path d=\"M 355 237 348 225\" stroke=\"gray\" stroke-width=\"0.5\"/><path d=\"M 355 237 246 223\" stroke=\"gray\" stroke-width=\"0.5\"/><path d=\"M 355 237 433 235\" stroke=\"gray\" stroke-width=\"0.5\"/><path d=\"M 355 237 246 237\" stroke=\"gray\" stroke-width=\"0.5\"/><path d=\"M 355 237 385 227\" stroke=\"gray\" stroke-width=\"0.5\"/><path d=\"M 355 237 261 182\" stroke=\"gray\" stroke-width=\"0.5\"/><path d=\"M 355 237 443 225\" stroke=\"gray\" stroke-width=\"0.5\"/><path d=\"M 355 237 418 238\" stroke=\"gray\" stroke-width=\"0.5\"/><path d=\"M 355 237 407 210\" stroke=\"gray\" stroke-width=\"0.5\"/><path d=\"M 355 237 440 247\" stroke=\"gray\" stroke-width=\"0.5\"/><path d=\"M 355 237 385 238\" stroke=\"gray\" stroke-width=\"0.5\"/><path d=\"M 355 237 408 251\" stroke=\"gray\" stroke-width=\"0.5\"/><path d=\"M 355 237 371 249\" stroke=\"gray\" stroke-width=\"0.5\"/><path d=\"M 355 237 402 241\" stroke=\"gray\" stroke-width=\"0.5\"/><path d=\"M 355 237 379 254\" stroke=\"gray\" stroke-width=\"0.5\"/><path d=\"M 355 237 357 213\" stroke=\"gray\" stroke-width=\"0.5\"/><path d=\"M 355 237 451 249\" stroke=\"gray\" stroke-width=\"0.5\"/><path d=\"M 246 223 348 225\" stroke=\"gray\" stroke-width=\"0.5\"/><path d=\"M 246 223 355 237\" stroke=\"gray\" stroke-width=\"0.5\"/><path d=\"M 246 223 246 237\" stroke=\"gray\" stroke-width=\"0.5\"/><path d=\"M 246 223 385 227\" stroke=\"gray\" stroke-width=\"0.5\"/><path d=\"M 246 223 261 182\" stroke=\"gray\" stroke-width=\"0.5\"/><path d=\"M 433 235 414 230\" stroke=\"gray\" stroke-width=\"0.5\"/><path d=\"M 433 235 407 262\" stroke=\"gray\" stroke-width=\"0.5\"/><path d=\"M 433 235 392 246\" stroke=\"gray\" stroke-width=\"0.5\"/><path d=\"M 433 235 418 246\" stroke=\"gray\" stroke-width=\"0.5\"/><path d=\"M 433 235 459 236\" stroke=\"gray\" stroke-width=\"0.5\"/><path d=\"M 433 235 399 232\" stroke=\"gray\" stroke-width=\"0.5\"/><path d=\"M 433 235 375 275\" stroke=\"gray\" stroke-width=\"0.5\"/><path d=\"M 433 235 338 219\" stroke=\"gray\" stroke-width=\"0.5\"/><path d=\"M 433 235 424 265\" stroke=\"gray\" stroke-width=\"0.5\"/><path d=\"M 433 235 369 230\" stroke=\"gray\" stroke-width=\"0.5\"/><path d=\"M 433 235 439 256\" stroke=\"gray\" stroke-width=\"0.5\"/><path d=\"M 433 235 388 254\" stroke=\"gray\" stroke-width=\"0.5\"/><path d=\"M 433 235 414 218\" stroke=\"gray\" stroke-width=\"0.5\"/><path d=\"M 433 235 400 217\" stroke=\"gray\" stroke-width=\"0.5\"/><path d=\"M 433 235 376 220\" stroke=\"gray\" stroke-width=\"0.5\"/><path d=\"M 433 235 373 242\" stroke=\"gray\" stroke-width=\"0.5\"/><path d=\"M 433 235 434 205\" stroke=\"gray\" stroke-width=\"0.5\"/><path d=\"M 433 235 500 250\" stroke=\"gray\" stroke-width=\"0.5\"/><path d=\"M 433 235 435 220\" stroke=\"gray\" stroke-width=\"0.5\"/><path d=\"M 433 235 348 225\" stroke=\"gray\" stroke-width=\"0.5\"/><path d=\"M 433 235 355 237\" stroke=\"gray\" stroke-width=\"0.5\"/><path d=\"M 433 235 533 227\" stroke=\"gray\" stroke-width=\"0.5\"/><path d=\"M 433 235 385 227\" stroke=\"gray\" stroke-width=\"0.5\"/><path d=\"M 433 235 443 225\" stroke=\"gray\" stroke-width=\"0.5\"/><path d=\"M 433 235 418 238\" stroke=\"gray\" stroke-width=\"0.5\"/><path d=\"M 433 235 407 210\" stroke=\"gray\" stroke-width=\"0.5\"/><path d=\"M 433 235 440 247\" stroke=\"gray\" stroke-width=\"0.5\"/><path d=\"M 433 235 385 238\" stroke=\"gray\" stroke-width=\"0.5\"/><path d=\"M 433 235 408 251\" stroke=\"gray\" stroke-width=\"0.5\"/><path d=\"M 433 235 371 249\" stroke=\"gray\" stroke-width=\"0.5\"/><path d=\"M 433 235 402 241\" stroke=\"gray\" stroke-width=\"0.5\"/><path d=\"M 433 235 379 254\" stroke=\"gray\" stroke-width=\"0.5\"/><path d=\"M 433 235 357 213\" stroke=\"gray\" stroke-width=\"0.5\"/><path d=\"M 433 235 451 249\" stroke=\"gray\" stroke-width=\"0.5\"/><path d=\"M 433 235 494 203\" stroke=\"gray\" stroke-width=\"0.5\"/><path d=\"M 533 227 500 250\" stroke=\"gray\" stroke-width=\"0.5\"/><path d=\"M 533 227 348 225\" stroke=\"gray\" stroke-width=\"0.5\"/><path d=\"M 533 227 433 235\" stroke=\"gray\" stroke-width=\"0.5\"/><path d=\"M 533 227 720 223\" stroke=\"gray\" stroke-width=\"0.5\"/><path d=\"M 533 227 385 227\" stroke=\"gray\" stroke-width=\"0.5\"/><path d=\"M 533 227 443 225\" stroke=\"gray\" stroke-width=\"0.5\"/><path d=\"M 533 227 494 203\" stroke=\"gray\" stroke-width=\"0.5\"/><path d=\"M 720 223 533 227\" stroke=\"gray\" stroke-width=\"0.5\"/><path d=\"M 246 237 348 225\" stroke=\"gray\" stroke-width=\"0.5\"/><path d=\"M 246 237 355 237\" stroke=\"gray\" stroke-width=\"0.5\"/><path d=\"M 246 237 246 223\" stroke=\"gray\" stroke-width=\"0.5\"/><path d=\"M 246 237 385 227\" stroke=\"gray\" stroke-width=\"0.5\"/><path d=\"M 246 237 261 182\" stroke=\"gray\" stroke-width=\"0.5\"/><path d=\"M 385 227 414 230\" stroke=\"gray\" stroke-width=\"0.5\"/><path d=\"M 385 227 407 262\" stroke=\"gray\" stroke-width=\"0.5\"/><path d=\"M 385 227 392 246\" stroke=\"gray\" stroke-width=\"0.5\"/><path d=\"M 385 227 418 246\" stroke=\"gray\" stroke-width=\"0.5\"/><path d=\"M 385 227 459 236\" stroke=\"gray\" stroke-width=\"0.5\"/><path d=\"M 385 227 399 232\" stroke=\"gray\" stroke-width=\"0.5\"/><path d=\"M 385 227 375 275\" stroke=\"gray\" stroke-width=\"0.5\"/><path d=\"M 385 227 338 219\" stroke=\"gray\" stroke-width=\"0.5\"/><path d=\"M 385 227 424 265\" stroke=\"gray\" stroke-width=\"0.5\"/><path d=\"M 385 227 369 230\" stroke=\"gray\" stroke-width=\"0.5\"/><path d=\"M 385 227 439 256\" stroke=\"gray\" stroke-width=\"0.5\"/><path d=\"M 385 227 388 254\" stroke=\"gray\" stroke-width=\"0.5\"/><path d=\"M 385 227 414 218\" stroke=\"gray\" stroke-width=\"0.5\"/><path d=\"M 385 227 400 217\" stroke=\"gray\" stroke-width=\"0.5\"/><path d=\"M 385 227 376 220\" stroke=\"gray\" stroke-width=\"0.5\"/><path d=\"M 385 227 373 242\" stroke=\"gray\" stroke-width=\"0.5\"/><path d=\"M 385 227 434 205\" stroke=\"gray\" stroke-width=\"0.5\"/><path d=\"M 385 227 500 250\" stroke=\"gray\" stroke-width=\"0.5\"/><path d=\"M 385 227 435 220\" stroke=\"gray\" stroke-width=\"0.5\"/><path d=\"M 385 227 348 225\" stroke=\"gray\" stroke-width=\"0.5\"/><path d=\"M 385 227 355 237\" stroke=\"gray\" stroke-width=\"0.5\"/><path d=\"M 385 227 246 223\" stroke=\"gray\" stroke-width=\"0.5\"/><path d=\"M 385 227 433 235\" stroke=\"gray\" stroke-width=\"0.5\"/><path d=\"M 385 227 533 227\" stroke=\"gray\" stroke-width=\"0.5\"/><path d=\"M 385 227 246 237\" stroke=\"gray\" stroke-width=\"0.5\"/><path d=\"M 385 227 261 182\" stroke=\"gray\" stroke-width=\"0.5\"/><path d=\"M 385 227 443 225\" stroke=\"gray\" stroke-width=\"0.5\"/><path d=\"M 385 227 418 238\" stroke=\"gray\" stroke-width=\"0.5\"/><path d=\"M 385 227 407 210\" stroke=\"gray\" stroke-width=\"0.5\"/><path d=\"M 385 227 440 247\" stroke=\"gray\" stroke-width=\"0.5\"/><path d=\"M 385 227 385 238\" stroke=\"gray\" stroke-width=\"0.5\"/><path d=\"M 385 227 408 251\" stroke=\"gray\" stroke-width=\"0.5\"/><path d=\"M 385 227 371 249\" stroke=\"gray\" stroke-width=\"0.5\"/><path d=\"M 385 227 402 241\" stroke=\"gray\" stroke-width=\"0.5\"/><path d=\"M 385 227 379 254\" stroke=\"gray\" stroke-width=\"0.5\"/><path d=\"M 385 227 357 213\" stroke=\"gray\" stroke-width=\"0.5\"/><path d=\"M 385 227 451 249\" stroke=\"gray\" stroke-width=\"0.5\"/><path d=\"M 385 227 494 203\" stroke=\"gray\" stroke-width=\"0.5\"/><path d=\"M 261 182 348 225\" stroke=\"gray\" stroke-width=\"0.5\"/><path d=\"M 261 182 355 237\" stroke=\"gray\" stroke-width=\"0.5\"/><path d=\"M 261 182 246 223\" stroke=\"gray\" stroke-width=\"0.5\"/><path d=\"M 261 182 246 237\" stroke=\"gray\" stroke-width=\"0.5\"/><path d=\"M 261 182 385 227\" stroke=\"gray\" stroke-width=\"0.5\"/><path d=\"M 261 182 202 86\" stroke=\"gray\" stroke-width=\"0.5\"/><path d=\"M 443 225 414 230\" stroke=\"gray\" stroke-width=\"0.5\"/><path d=\"M 443 225 407 262\" stroke=\"gray\" stroke-width=\"0.5\"/><path d=\"M 443 225 392 246\" stroke=\"gray\" stroke-width=\"0.5\"/><path d=\"M 443 225 418 246\" stroke=\"gray\" stroke-width=\"0.5\"/><path d=\"M 443 225 459 236\" stroke=\"gray\" stroke-width=\"0.5\"/><path d=\"M 443 225 399 232\" stroke=\"gray\" stroke-width=\"0.5\"/><path d=\"M 443 225 375 275\" stroke=\"gray\" stroke-width=\"0.5\"/><path d=\"M 443 225 338 219\" stroke=\"gray\" stroke-width=\"0.5\"/><path d=\"M 443 225 424 265\" stroke=\"gray\" stroke-width=\"0.5\"/><path d=\"M 443 225 369 230\" stroke=\"gray\" stroke-width=\"0.5\"/><path d=\"M 443 225 439 256\" stroke=\"gray\" stroke-width=\"0.5\"/><path d=\"M 443 225 388 254\" stroke=\"gray\" stroke-width=\"0.5\"/><path d=\"M 443 225 414 218\" stroke=\"gray\" stroke-width=\"0.5\"/><path d=\"M 443 225 400 217\" stroke=\"gray\" stroke-width=\"0.5\"/><path d=\"M 443 225 376 220\" stroke=\"gray\" stroke-width=\"0.5\"/><path d=\"M 443 225 373 242\" stroke=\"gray\" stroke-width=\"0.5\"/><path d=\"M 443 225 434 205\" stroke=\"gray\" stroke-width=\"0.5\"/><path d=\"M 443 225 500 250\" stroke=\"gray\" stroke-width=\"0.5\"/><path d=\"M 443 225 435 220\" stroke=\"gray\" stroke-width=\"0.5\"/><path d=\"M 443 225 551 184\" stroke=\"gray\" stroke-width=\"0.5\"/><path d=\"M 443 225 348 225\" stroke=\"gray\" stroke-width=\"0.5\"/><path d=\"M 443 225 355 237\" stroke=\"gray\" stroke-width=\"0.5\"/><path d=\"M 443 225 433 235\" stroke=\"gray\" stroke-width=\"0.5\"/><path d=\"M 443 225 533 227\" stroke=\"gray\" stroke-width=\"0.5\"/><path d=\"M 443 225 385 227\" stroke=\"gray\" stroke-width=\"0.5\"/><path d=\"M 443 225 418 238\" stroke=\"gray\" stroke-width=\"0.5\"/><path d=\"M 443 225 407 210\" stroke=\"gray\" stroke-width=\"0.5\"/><path d=\"M 443 225 440 247\" stroke=\"gray\" stroke-width=\"0.5\"/><path d=\"M 443 225 385 238\" stroke=\"gray\" stroke-width=\"0.5\"/><path d=\"M 443 225 408 251\" stroke=\"gray\" stroke-width=\"0.5\"/><path d=\"M 443 225 371 249\" stroke=\"gray\" stroke-width=\"0.5\"/><path d=\"M 443 225 402 241\" stroke=\"gray\" stroke-width=\"0.5\"/><path d=\"M 443 225 379 254\" stroke=\"gray\" stroke-width=\"0.5\"/><path d=\"M 443 225 357 213\" stroke=\"gray\" stroke-width=\"0.5\"/><path d=\"M 443 225 451 249\" stroke=\"gray\" stroke-width=\"0.5\"/><path d=\"M 443 225 494 203\" stroke=\"gray\" stroke-width=\"0.5\"/><path d=\"M 443 225 511 150\" stroke=\"gray\" stroke-width=\"0.5\"/><path d=\"M 418 238 414 230\" stroke=\"gray\" stroke-width=\"0.5\"/><path d=\"M 418 238 407 262\" stroke=\"gray\" stroke-width=\"0.5\"/><path d=\"M 418 238 392 246\" stroke=\"gray\" stroke-width=\"0.5\"/><path d=\"M 418 238 418 246\" stroke=\"gray\" stroke-width=\"0.5\"/><path d=\"M 418 238 459 236\" stroke=\"gray\" stroke-width=\"0.5\"/><path d=\"M 418 238 399 232\" stroke=\"gray\" stroke-width=\"0.5\"/><path d=\"M 418 238 375 275\" stroke=\"gray\" stroke-width=\"0.5\"/><path d=\"M 418 238 338 219\" stroke=\"gray\" stroke-width=\"0.5\"/><path d=\"M 418 238 424 265\" stroke=\"gray\" stroke-width=\"0.5\"/><path d=\"M 418 238 369 230\" stroke=\"gray\" stroke-width=\"0.5\"/><path d=\"M 418 238 439 256\" stroke=\"gray\" stroke-width=\"0.5\"/><path d=\"M 418 238 388 254\" stroke=\"gray\" stroke-width=\"0.5\"/><path d=\"M 418 238 414 218\" stroke=\"gray\" stroke-width=\"0.5\"/><path d=\"M 418 238 400 217\" stroke=\"gray\" stroke-width=\"0.5\"/><path d=\"M 418 238 376 220\" stroke=\"gray\" stroke-width=\"0.5\"/><path d=\"M 418 238 373 242\" stroke=\"gray\" stroke-width=\"0.5\"/><path d=\"M 418 238 434 205\" stroke=\"gray\" stroke-width=\"0.5\"/><path d=\"M 418 238 435 220\" stroke=\"gray\" stroke-width=\"0.5\"/><path d=\"M 418 238 355 237\" stroke=\"gray\" stroke-width=\"0.5\"/><path d=\"M 418 238 433 235\" stroke=\"gray\" stroke-width=\"0.5\"/><path d=\"M 418 238 385 227\" stroke=\"gray\" stroke-width=\"0.5\"/><path d=\"M 418 238 443 225\" stroke=\"gray\" stroke-width=\"0.5\"/><path d=\"M 418 238 407 210\" stroke=\"gray\" stroke-width=\"0.5\"/><path d=\"M 418 238 440 247\" stroke=\"gray\" stroke-width=\"0.5\"/><path d=\"M 418 238 385 238\" stroke=\"gray\" stroke-width=\"0.5\"/><path d=\"M 418 238 408 251\" stroke=\"gray\" stroke-width=\"0.5\"/><path d=\"M 418 238 371 249\" stroke=\"gray\" stroke-width=\"0.5\"/><path d=\"M 418 238 402 241\" stroke=\"gray\" stroke-width=\"0.5\"/><path d=\"M 418 238 379 254\" stroke=\"gray\" stroke-width=\"0.5\"/><path d=\"M 418 238 357 213\" stroke=\"gray\" stroke-width=\"0.5\"/><path d=\"M 418 238 451 249\" stroke=\"gray\" stroke-width=\"0.5\"/><path d=\"M 407 210 414 230\" stroke=\"gray\" stroke-width=\"0.5\"/><path d=\"M 407 210 407 262\" stroke=\"gray\" stroke-width=\"0.5\"/><path d=\"M 407 210 392 246\" stroke=\"gray\" stroke-width=\"0.5\"/><path d=\"M 407 210 418 246\" stroke=\"gray\" stroke-width=\"0.5\"/><path d=\"M 407 210 459 236\" stroke=\"gray\" stroke-width=\"0.5\"/><path d=\"M 407 210 399 232\" stroke=\"gray\" stroke-width=\"0.5\"/><path d=\"M 407 210 375 275\" stroke=\"gray\" stroke-width=\"0.5\"/><path d=\"M 407 210 338 219\" stroke=\"gray\" stroke-width=\"0.5\"/><path d=\"M 407 210 424 265\" stroke=\"gray\" stroke-width=\"0.5\"/><path d=\"M 407 210 369 230\" stroke=\"gray\" stroke-width=\"0.5\"/><path d=\"M 407 210 439 256\" stroke=\"gray\" stroke-width=\"0.5\"/><path d=\"M 407 210 388 254\" stroke=\"gray\" stroke-width=\"0.5\"/><path d=\"M 407 210 414 218\" stroke=\"gray\" stroke-width=\"0.5\"/><path d=\"M 407 210 400 217\" stroke=\"gray\" stroke-width=\"0.5\"/><path d=\"M 407 210 376 220\" stroke=\"gray\" stroke-width=\"0.5\"/><path d=\"M 407 210 373 242\" stroke=\"gray\" stroke-width=\"0.5\"/><path d=\"M 407 210 434 205\" stroke=\"gray\" stroke-width=\"0.5\"/><path d=\"M 407 210 399 112\" stroke=\"gray\" stroke-width=\"0.5\"/><path d=\"M 407 210 435 220\" stroke=\"gray\" stroke-width=\"0.5\"/><path d=\"M 407 210 355 237\" stroke=\"gray\" stroke-width=\"0.5\"/><path d=\"M 407 210 433 235\" stroke=\"gray\" stroke-width=\"0.5\"/><path d=\"M 407 210 385 227\" stroke=\"gray\" stroke-width=\"0.5\"/><path d=\"M 407 210 443 225\" stroke=\"gray\" stroke-width=\"0.5\"/><path d=\"M 407 210 418 238\" stroke=\"gray\" stroke-width=\"0.5\"/><path d=\"M 407 210 440 247\" stroke=\"gray\" stroke-width=\"0.5\"/><path d=\"M 407 210 468 132\" stroke=\"gray\" stroke-width=\"0.5\"/><path d=\"M 407 210 385 238\" stroke=\"gray\" stroke-width=\"0.5\"/><path d=\"M 407 210 408 251\" stroke=\"gray\" stroke-width=\"0.5\"/><path d=\"M 407 210 371 249\" stroke=\"gray\" stroke-width=\"0.5\"/><path d=\"M 407 210 402 241\" stroke=\"gray\" stroke-width=\"0.5\"/><path d=\"M 407 210 379 254\" stroke=\"gray\" stroke-width=\"0.5\"/><path d=\"M 407 210 357 213\" stroke=\"gray\" stroke-width=\"0.5\"/><path d=\"M 407 210 451 249\" stroke=\"gray\" stroke-width=\"0.5\"/><path d=\"M 440 247 414 230\" stroke=\"gray\" stroke-width=\"0.5\"/><path d=\"M 440 247 407 262\" stroke=\"gray\" stroke-width=\"0.5\"/><path d=\"M 440 247 392 246\" stroke=\"gray\" stroke-width=\"0.5\"/><path d=\"M 440 247 418 246\" stroke=\"gray\" stroke-width=\"0.5\"/><path d=\"M 440 247 459 236\" stroke=\"gray\" stroke-width=\"0.5\"/><path d=\"M 440 247 399 232\" stroke=\"gray\" stroke-width=\"0.5\"/><path d=\"M 440 247 375 275\" stroke=\"gray\" stroke-width=\"0.5\"/><path d=\"M 440 247 338 219\" stroke=\"gray\" stroke-width=\"0.5\"/><path d=\"M 440 247 424 265\" stroke=\"gray\" stroke-width=\"0.5\"/><path d=\"M 440 247 369 230\" stroke=\"gray\" stroke-width=\"0.5\"/><path d=\"M 440 247 439 256\" stroke=\"gray\" stroke-width=\"0.5\"/><path d=\"M 440 247 388 254\" stroke=\"gray\" stroke-width=\"0.5\"/><path d=\"M 440 247 414 218\" stroke=\"gray\" stroke-width=\"0.5\"/><path d=\"M 440 247 400 217\" stroke=\"gray\" stroke-width=\"0.5\"/><path d=\"M 440 247 376 220\" stroke=\"gray\" stroke-width=\"0.5\"/><path d=\"M 440 247 373 242\" stroke=\"gray\" stroke-width=\"0.5\"/><path d=\"M 440 247 434 205\" stroke=\"gray\" stroke-width=\"0.5\"/><path d=\"M 440 247 632 285\" stroke=\"gray\" stroke-width=\"0.5\"/><path d=\"M 440 247 435 220\" stroke=\"gray\" stroke-width=\"0.5\"/><path d=\"M 440 247 355 237\" stroke=\"gray\" stroke-width=\"0.5\"/><path d=\"M 440 247 433 235\" stroke=\"gray\" stroke-width=\"0.5\"/><path d=\"M 440 247 385 227\" stroke=\"gray\" stroke-width=\"0.5\"/><path d=\"M 440 247 443 225\" stroke=\"gray\" stroke-width=\"0.5\"/><path d=\"M 440 247 418 238\" stroke=\"gray\" stroke-width=\"0.5\"/><path d=\"M 440 247 407 210\" stroke=\"gray\" stroke-width=\"0.5\"/><path d=\"M 440 247 385 238\" stroke=\"gray\" stroke-width=\"0.5\"/><path d=\"M 440 247 408 251\" stroke=\"gray\" stroke-width=\"0.5\"/><path d=\"M 440 247 371 249\" stroke=\"gray\" stroke-width=\"0.5\"/><path d=\"M 440 247 402 241\" stroke=\"gray\" stroke-width=\"0.5\"/><path d=\"M 440 247 379 254\" stroke=\"gray\" stroke-width=\"0.5\"/><path d=\"M 440 247 357 213\" stroke=\"gray\" stroke-width=\"0.5\"/><path d=\"M 440 247 451 249\" stroke=\"gray\" stroke-width=\"0.5\"/><path d=\"M 468 132 512 119\" stroke=\"gray\" stroke-width=\"0.5\"/><path d=\"M 468 132 538 101\" stroke=\"gray\" stroke-width=\"0.5\"/><path d=\"M 468 132 434 205\" stroke=\"gray\" stroke-width=\"0.5\"/><path d=\"M 468 132 399 112\" stroke=\"gray\" stroke-width=\"0.5\"/><path d=\"M 468 132 407 210\" stroke=\"gray\" stroke-width=\"0.5\"/><path d=\"M 468 132 511 150\" stroke=\"gray\" stroke-width=\"0.5\"/><path d=\"M 385 238 414 230\" stroke=\"gray\" stroke-width=\"0.5\"/><path d=\"M 385 238 407 262\" stroke=\"gray\" stroke-width=\"0.5\"/><path d=\"M 385 238 392 246\" stroke=\"gray\" stroke-width=\"0.5\"/><path d=\"M 385 238 418 246\" stroke=\"gray\" stroke-width=\"0.5\"/><path d=\"M 385 238 459 236\" stroke=\"gray\" stroke-width=\"0.5\"/><path d=\"M 385 238 399 232\" stroke=\"gray\" stroke-width=\"0.5\"/><path d=\"M 385 238 375 275\" stroke=\"gray\" stroke-width=\"0.5\"/><path d=\"M 385 238 338 219\" stroke=\"gray\" stroke-width=\"0.5\"/><path d=\"M 385 238 424 265\" stroke=\"gray\" stroke-width=\"0.5\"/><path d=\"M 385 238 369 230\" stroke=\"gray\" stroke-width=\"0.5\"/><path d=\"M 385 238 439 256\" stroke=\"gray\" stroke-width=\"0.5\"/><path d=\"M 385 238 388 254\" stroke=\"gray\" stroke-width=\"0.5\"/><path d=\"M 385 238 414 218\" stroke=\"gray\" stroke-width=\"0.5\"/><path d=\"M 385 238 400 217\" stroke=\"gray\" stroke-width=\"0.5\"/><path d=\"M 385 238 376 220\" stroke=\"gray\" stroke-width=\"0.5\"/><path d=\"M 385 238 373 242\" stroke=\"gray\" stroke-width=\"0.5\"/><path d=\"M 385 238 434 205\" stroke=\"gray\" stroke-width=\"0.5\"/><path d=\"M 385 238 435 220\" stroke=\"gray\" stroke-width=\"0.5\"/><path d=\"M 385 238 355 237\" stroke=\"gray\" stroke-width=\"0.5\"/><path d=\"M 385 238 433 235\" stroke=\"gray\" stroke-width=\"0.5\"/><path d=\"M 385 238 385 227\" stroke=\"gray\" stroke-width=\"0.5\"/><path d=\"M 385 238 443 225\" stroke=\"gray\" stroke-width=\"0.5\"/><path d=\"M 385 238 418 238\" stroke=\"gray\" stroke-width=\"0.5\"/><path d=\"M 385 238 407 210\" stroke=\"gray\" stroke-width=\"0.5\"/><path d=\"M 385 238 440 247\" stroke=\"gray\" stroke-width=\"0.5\"/><path d=\"M 385 238 408 251\" stroke=\"gray\" stroke-width=\"0.5\"/><path d=\"M 385 238 371 249\" stroke=\"gray\" stroke-width=\"0.5\"/><path d=\"M 385 238 402 241\" stroke=\"gray\" stroke-width=\"0.5\"/><path d=\"M 385 238 379 254\" stroke=\"gray\" stroke-width=\"0.5\"/><path d=\"M 385 238 357 213\" stroke=\"gray\" stroke-width=\"0.5\"/><path d=\"M 385 238 451 249\" stroke=\"gray\" stroke-width=\"0.5\"/><path d=\"M 173 259 357 213\" stroke=\"gray\" stroke-width=\"0.5\"/><path d=\"M 408 251 414 230\" stroke=\"gray\" stroke-width=\"0.5\"/><path d=\"M 408 251 407 262\" stroke=\"gray\" stroke-width=\"0.5\"/><path d=\"M 408 251 392 246\" stroke=\"gray\" stroke-width=\"0.5\"/><path d=\"M 408 251 418 246\" stroke=\"gray\" stroke-width=\"0.5\"/><path d=\"M 408 251 459 236\" stroke=\"gray\" stroke-width=\"0.5\"/><path d=\"M 408 251 399 232\" stroke=\"gray\" stroke-width=\"0.5\"/><path d=\"M 408 251 375 275\" stroke=\"gray\" stroke-width=\"0.5\"/><path d=\"M 408 251 338 219\" stroke=\"gray\" stroke-width=\"0.5\"/><path d=\"M 408 251 424 265\" stroke=\"gray\" stroke-width=\"0.5\"/><path d=\"M 408 251 369 230\" stroke=\"gray\" stroke-width=\"0.5\"/><path d=\"M 408 251 439 256\" stroke=\"gray\" stroke-width=\"0.5\"/><path d=\"M 408 251 388 254\" stroke=\"gray\" stroke-width=\"0.5\"/><path d=\"M 408 251 414 218\" stroke=\"gray\" stroke-width=\"0.5\"/><path d=\"M 408 251 400 217\" stroke=\"gray\" stroke-width=\"0.5\"/><path d=\"M 408 251 376 220\" stroke=\"gray\" stroke-width=\"0.5\"/><path d=\"M 408 251 373 242\" stroke=\"gray\" stroke-width=\"0.5\"/><path d=\"M 408 251 434 205\" stroke=\"gray\" stroke-width=\"0.5\"/><path d=\"M 408 251 435 220\" stroke=\"gray\" stroke-width=\"0.5\"/><path d=\"M 408 251 355 237\" stroke=\"gray\" stroke-width=\"0.5\"/><path d=\"M 408 251 433 235\" stroke=\"gray\" stroke-width=\"0.5\"/><path d=\"M 408 251 385 227\" stroke=\"gray\" stroke-width=\"0.5\"/><path d=\"M 408 251 443 225\" stroke=\"gray\" stroke-width=\"0.5\"/><path d=\"M 408 251 418 238\" stroke=\"gray\" stroke-width=\"0.5\"/><path d=\"M 408 251 407 210\" stroke=\"gray\" stroke-width=\"0.5\"/><path d=\"M 408 251 440 247\" stroke=\"gray\" stroke-width=\"0.5\"/><path d=\"M 408 251 385 238\" stroke=\"gray\" stroke-width=\"0.5\"/><path d=\"M 408 251 371 249\" stroke=\"gray\" stroke-width=\"0.5\"/><path d=\"M 408 251 402 241\" stroke=\"gray\" stroke-width=\"0.5\"/><path d=\"M 408 251 379 254\" stroke=\"gray\" stroke-width=\"0.5\"/><path d=\"M 408 251 357 213\" stroke=\"gray\" stroke-width=\"0.5\"/><path d=\"M 408 251 451 249\" stroke=\"gray\" stroke-width=\"0.5\"/><path d=\"M 371 249 414 230\" stroke=\"gray\" stroke-width=\"0.5\"/><path d=\"M 371 249 407 262\" stroke=\"gray\" stroke-width=\"0.5\"/><path d=\"M 371 249 392 246\" stroke=\"gray\" stroke-width=\"0.5\"/><path d=\"M 371 249 418 246\" stroke=\"gray\" stroke-width=\"0.5\"/><path d=\"M 371 249 459 236\" stroke=\"gray\" stroke-width=\"0.5\"/><path d=\"M 371 249 399 232\" stroke=\"gray\" stroke-width=\"0.5\"/><path d=\"M 371 249 375 275\" stroke=\"gray\" stroke-width=\"0.5\"/><path d=\"M 371 249 338 219\" stroke=\"gray\" stroke-width=\"0.5\"/><path d=\"M 371 249 424 265\" stroke=\"gray\" stroke-width=\"0.5\"/><path d=\"M 371 249 369 230\" stroke=\"gray\" stroke-width=\"0.5\"/><path d=\"M 371 249 439 256\" stroke=\"gray\" stroke-width=\"0.5\"/><path d=\"M 371 249 388 254\" stroke=\"gray\" stroke-width=\"0.5\"/><path d=\"M 371 249 414 218\" stroke=\"gray\" stroke-width=\"0.5\"/><path d=\"M 371 249 400 217\" stroke=\"gray\" stroke-width=\"0.5\"/><path d=\"M 371 249 376 220\" stroke=\"gray\" stroke-width=\"0.5\"/><path d=\"M 371 249 373 242\" stroke=\"gray\" stroke-width=\"0.5\"/><path d=\"M 371 249 434 205\" stroke=\"gray\" stroke-width=\"0.5\"/><path d=\"M 371 249 435 220\" stroke=\"gray\" stroke-width=\"0.5\"/><path d=\"M 371 249 355 237\" stroke=\"gray\" stroke-width=\"0.5\"/><path d=\"M 371 249 433 235\" stroke=\"gray\" stroke-width=\"0.5\"/><path d=\"M 371 249 385 227\" stroke=\"gray\" stroke-width=\"0.5\"/><path d=\"M 371 249 443 225\" stroke=\"gray\" stroke-width=\"0.5\"/><path d=\"M 371 249 418 238\" stroke=\"gray\" stroke-width=\"0.5\"/><path d=\"M 371 249 407 210\" stroke=\"gray\" stroke-width=\"0.5\"/><path d=\"M 371 249 440 247\" stroke=\"gray\" stroke-width=\"0.5\"/><path d=\"M 371 249 385 238\" stroke=\"gray\" stroke-width=\"0.5\"/><path d=\"M 371 249 408 251\" stroke=\"gray\" stroke-width=\"0.5\"/><path d=\"M 371 249 402 241\" stroke=\"gray\" stroke-width=\"0.5\"/><path d=\"M 371 249 379 254\" stroke=\"gray\" stroke-width=\"0.5\"/><path d=\"M 371 249 357 213\" stroke=\"gray\" stroke-width=\"0.5\"/><path d=\"M 371 249 451 249\" stroke=\"gray\" stroke-width=\"0.5\"/><path d=\"M 402 241 414 230\" stroke=\"gray\" stroke-width=\"0.5\"/><path d=\"M 402 241 407 262\" stroke=\"gray\" stroke-width=\"0.5\"/><path d=\"M 402 241 392 246\" stroke=\"gray\" stroke-width=\"0.5\"/><path d=\"M 402 241 418 246\" stroke=\"gray\" stroke-width=\"0.5\"/><path d=\"M 402 241 459 236\" stroke=\"gray\" stroke-width=\"0.5\"/><path d=\"M 402 241 399 232\" stroke=\"gray\" stroke-width=\"0.5\"/><path d=\"M 402 241 375 275\" stroke=\"gray\" stroke-width=\"0.5\"/><path d=\"M 402 241 338 219\" stroke=\"gray\" stroke-width=\"0.5\"/><path d=\"M 402 241 424 265\" stroke=\"gray\" stroke-width=\"0.5\"/><path d=\"M 402 241 369 230\" stroke=\"gray\" stroke-width=\"0.5\"/><path d=\"M 402 241 439 256\" stroke=\"gray\" stroke-width=\"0.5\"/><path d=\"M 402 241 388 254\" stroke=\"gray\" stroke-width=\"0.5\"/><path d=\"M 402 241 414 218\" stroke=\"gray\" stroke-width=\"0.5\"/><path d=\"M 402 241 400 217\" stroke=\"gray\" stroke-width=\"0.5\"/><path d=\"M 402 241 376 220\" stroke=\"gray\" stroke-width=\"0.5\"/><path d=\"M 402 241 373 242\" stroke=\"gray\" stroke-width=\"0.5\"/><path d=\"M 402 241 434 205\" stroke=\"gray\" stroke-width=\"0.5\"/><path d=\"M 402 241 435 220\" stroke=\"gray\" stroke-width=\"0.5\"/><path d=\"M 402 241 355 237\" stroke=\"gray\" stroke-width=\"0.5\"/><path d=\"M 402 241 433 235\" stroke=\"gray\" stroke-width=\"0.5\"/><path d=\"M 402 241 385 227\" stroke=\"gray\" stroke-width=\"0.5\"/><path d=\"M 402 241 443 225\" stroke=\"gray\" stroke-width=\"0.5\"/><path d=\"M 402 241 418 238\" stroke=\"gray\" stroke-width=\"0.5\"/><path d=\"M 402 241 407 210\" stroke=\"gray\" stroke-width=\"0.5\"/><path d=\"M 402 241 440 247\" stroke=\"gray\" stroke-width=\"0.5\"/><path d=\"M 402 241 385 238\" stroke=\"gray\" stroke-width=\"0.5\"/><path d=\"M 402 241 408 251\" stroke=\"gray\" stroke-width=\"0.5\"/><path d=\"M 402 241 371 249\" stroke=\"gray\" stroke-width=\"0.5\"/><path d=\"M 402 241 379 254\" stroke=\"gray\" stroke-width=\"0.5\"/><path d=\"M 402 241 357 213\" stroke=\"gray\" stroke-width=\"0.5\"/><path d=\"M 402 241 451 249\" stroke=\"gray\" stroke-width=\"0.5\"/><path d=\"M 379 254 414 230\" stroke=\"gray\" stroke-width=\"0.5\"/><path d=\"M 379 254 407 262\" stroke=\"gray\" stroke-width=\"0.5\"/><path d=\"M 379 254 392 246\" stroke=\"gray\" stroke-width=\"0.5\"/><path d=\"M 379 254 418 246\" stroke=\"gray\" stroke-width=\"0.5\"/><path d=\"M 379 254 459 236\" stroke=\"gray\" stroke-width=\"0.5\"/><path d=\"M 379 254 399 232\" stroke=\"gray\" stroke-width=\"0.5\"/><path d=\"M 379 254 375 275\" stroke=\"gray\" stroke-width=\"0.5\"/><path d=\"M 379 254 338 219\" stroke=\"gray\" stroke-width=\"0.5\"/><path d=\"M 379 254 424 265\" stroke=\"gray\" stroke-width=\"0.5\"/><path d=\"M 379 254 369 230\" stroke=\"gray\" stroke-width=\"0.5\"/><path d=\"M 379 254 439 256\" stroke=\"gray\" stroke-width=\"0.5\"/><path d=\"M 379 254 388 254\" stroke=\"gray\" stroke-width=\"0.5\"/><path d=\"M 379 254 414 218\" stroke=\"gray\" stroke-width=\"0.5\"/><path d=\"M 379 254 400 217\" stroke=\"gray\" stroke-width=\"0.5\"/><path d=\"M 379 254 376 220\" stroke=\"gray\" stroke-width=\"0.5\"/><path d=\"M 379 254 373 242\" stroke=\"gray\" stroke-width=\"0.5\"/><path d=\"M 379 254 434 205\" stroke=\"gray\" stroke-width=\"0.5\"/><path d=\"M 379 254 435 220\" stroke=\"gray\" stroke-width=\"0.5\"/><path d=\"M 379 254 355 237\" stroke=\"gray\" stroke-width=\"0.5\"/><path d=\"M 379 254 433 235\" stroke=\"gray\" stroke-width=\"0.5\"/><path d=\"M 379 254 385 227\" stroke=\"gray\" stroke-width=\"0.5\"/><path d=\"M 379 254 443 225\" stroke=\"gray\" stroke-width=\"0.5\"/><path d=\"M 379 254 418 238\" stroke=\"gray\" stroke-width=\"0.5\"/><path d=\"M 379 254 407 210\" stroke=\"gray\" stroke-width=\"0.5\"/><path d=\"M 379 254 440 247\" stroke=\"gray\" stroke-width=\"0.5\"/><path d=\"M 379 254 385 238\" stroke=\"gray\" stroke-width=\"0.5\"/><path d=\"M 379 254 408 251\" stroke=\"gray\" stroke-width=\"0.5\"/><path d=\"M 379 254 371 249\" stroke=\"gray\" stroke-width=\"0.5\"/><path d=\"M 379 254 402 241\" stroke=\"gray\" stroke-width=\"0.5\"/><path d=\"M 379 254 357 213\" stroke=\"gray\" stroke-width=\"0.5\"/><path d=\"M 379 254 451 249\" stroke=\"gray\" stroke-width=\"0.5\"/><path d=\"M 282 134 294 118\" stroke=\"gray\" stroke-width=\"0.5\"/><path d=\"M 282 134 357 213\" stroke=\"gray\" stroke-width=\"0.5\"/><path d=\"M 294 118 282 134\" stroke=\"gray\" stroke-width=\"0.5\"/><path d=\"M 294 118 249 127\" stroke=\"gray\" stroke-width=\"0.5\"/><path d=\"M 294 118 357 213\" stroke=\"gray\" stroke-width=\"0.5\"/><path d=\"M 249 127 294 118\" stroke=\"gray\" stroke-width=\"0.5\"/><path d=\"M 249 127 357 213\" stroke=\"gray\" stroke-width=\"0.5\"/><path d=\"M 357 213 414 230\" stroke=\"gray\" stroke-width=\"0.5\"/><path d=\"M 357 213 407 262\" stroke=\"gray\" stroke-width=\"0.5\"/><path d=\"M 357 213 392 246\" stroke=\"gray\" stroke-width=\"0.5\"/><path d=\"M 357 213 418 246\" stroke=\"gray\" stroke-width=\"0.5\"/><path d=\"M 357 213 459 236\" stroke=\"gray\" stroke-width=\"0.5\"/><path d=\"M 357 213 399 232\" stroke=\"gray\" stroke-width=\"0.5\"/><path d=\"M 357 213 375 275\" stroke=\"gray\" stroke-width=\"0.5\"/><path d=\"M 357 213 338 219\" stroke=\"gray\" stroke-width=\"0.5\"/><path d=\"M 357 213 424 265\" stroke=\"gray\" stroke-width=\"0.5\"/><path d=\"M 357 213 369 230\" stroke=\"gray\" stroke-width=\"0.5\"/><path d=\"M 357 213 439 256\" stroke=\"gray\" stroke-width=\"0.5\"/><path d=\"M 357 213 388 254\" stroke=\"gray\" stroke-width=\"0.5\"/><path d=\"M 357 213 414 218\" stroke=\"gray\" stroke-width=\"0.5\"/><path d=\"M 357 213 400 217\" stroke=\"gray\" stroke-width=\"0.5\"/><path d=\"M 357 213 376 220\" stroke=\"gray\" stroke-width=\"0.5\"/><path d=\"M 357 213 373 242\" stroke=\"gray\" stroke-width=\"0.5\"/><path d=\"M 357 213 434 205\" stroke=\"gray\" stroke-width=\"0.5\"/><path d=\"M 357 213 435 220\" stroke=\"gray\" stroke-width=\"0.5\"/><path d=\"M 357 213 355 237\" stroke=\"gray\" stroke-width=\"0.5\"/><path d=\"M 357 213 433 235\" stroke=\"gray\" stroke-width=\"0.5\"/><path d=\"M 357 213 385 227\" stroke=\"gray\" stroke-width=\"0.5\"/><path d=\"M 357 213 443 225\" stroke=\"gray\" stroke-width=\"0.5\"/><path d=\"M 357 213 418 238\" stroke=\"gray\" stroke-width=\"0.5\"/><path d=\"M 357 213 407 210\" stroke=\"gray\" stroke-width=\"0.5\"/><path d=\"M 357 213 440 247\" stroke=\"gray\" stroke-width=\"0.5\"/><path d=\"M 357 213 385 238\" stroke=\"gray\" stroke-width=\"0.5\"/><path d=\"M 357 213 173 259\" stroke=\"gray\" stroke-width=\"0.5\"/><path d=\"M 357 213 408 251\" stroke=\"gray\" stroke-width=\"0.5\"/><path d=\"M 357 213 371 249\" stroke=\"gray\" stroke-width=\"0.5\"/><path d=\"M 357 213 402 241\" stroke=\"gray\" stroke-width=\"0.5\"/><path d=\"M 357 213 379 254\" stroke=\"gray\" stroke-width=\"0.5\"/><path d=\"M 357 213 282 134\" stroke=\"gray\" stroke-width=\"0.5\"/><path d=\"M 357 213 294 118\" stroke=\"gray\" stroke-width=\"0.5\"/><path d=\"M 357 213 249 127\" stroke=\"gray\" stroke-width=\"0.5\"/><path d=\"M 357 213 451 249\" stroke=\"gray\" stroke-width=\"0.5\"/><path d=\"M 451 249 414 230\" stroke=\"gray\" stroke-width=\"0.5\"/><path d=\"M 451 249 407 262\" stroke=\"gray\" stroke-width=\"0.5\"/><path d=\"M 451 249 392 246\" stroke=\"gray\" stroke-width=\"0.5\"/><path d=\"M 451 249 609 296\" stroke=\"gray\" stroke-width=\"0.5\"/><path d=\"M 451 249 418 246\" stroke=\"gray\" stroke-width=\"0.5\"/><path d=\"M 451 249 459 236\" stroke=\"gray\" stroke-width=\"0.5\"/><path d=\"M 451 249 399 232\" stroke=\"gray\" stroke-width=\"0.5\"/><path d=\"M 451 249 375 275\" stroke=\"gray\" stroke-width=\"0.5\"/><path d=\"M 451 249 338 219\" stroke=\"gray\" stroke-width=\"0.5\"/><path d=\"M 451 249 568 283\" stroke=\"gray\" stroke-width=\"0.5\"/><path d=\"M 451 249 424 265\" stroke=\"gray\" stroke-width=\"0.5\"/><path d=\"M 451 249 369 230\" stroke=\"gray\" stroke-width=\"0.5\"/><path d=\"M 451 249 439 256\" stroke=\"gray\" stroke-width=\"0.5\"/><path d=\"M 451 249 388 254\" stroke=\"gray\" stroke-width=\"0.5\"/><path d=\"M 451 249 414 218\" stroke=\"gray\" stroke-width=\"0.5\"/><path d=\"M 451 249 400 217\" stroke=\"gray\" stroke-width=\"0.5\"/><path d=\"M 451 249 376 220\" stroke=\"gray\" stroke-width=\"0.5\"/><path d=\"M 451 249 373 242\" stroke=\"gray\" stroke-width=\"0.5\"/><path d=\"M 451 249 434 205\" stroke=\"gray\" stroke-width=\"0.5\"/><path d=\"M 451 249 435 220\" stroke=\"gray\" stroke-width=\"0.5\"/><path d=\"M 451 249 355 237\" stroke=\"gray\" stroke-width=\"0.5\"/><path d=\"M 451 249 433 235\" stroke=\"gray\" stroke-width=\"0.5\"/><path d=\"M 451 249 385 227\" stroke=\"gray\" stroke-width=\"0.5\"/><path d=\"M 451 249 443 225\" stroke=\"gray\" stroke-width=\"0.5\"/><path d=\"M 451 249 418 238\" stroke=\"gray\" stroke-width=\"0.5\"/><path d=\"M 451 249 407 210\" stroke=\"gray\" stroke-width=\"0.5\"/><path d=\"M 451 249 440 247\" stroke=\"gray\" stroke-width=\"0.5\"/><path d=\"M 451 249 385 238\" stroke=\"gray\" stroke-width=\"0.5\"/><path d=\"M 451 249 408 251\" stroke=\"gray\" stroke-width=\"0.5\"/><path d=\"M 451 249 371 249\" stroke=\"gray\" stroke-width=\"0.5\"/><path d=\"M 451 249 402 241\" stroke=\"gray\" stroke-width=\"0.5\"/><path d=\"M 451 249 379 254\" stroke=\"gray\" stroke-width=\"0.5\"/><path d=\"M 451 249 357 213\" stroke=\"gray\" stroke-width=\"0.5\"/><path d=\"M 494 203 500 250\" stroke=\"gray\" stroke-width=\"0.5\"/><path d=\"M 494 203 435 220\" stroke=\"gray\" stroke-width=\"0.5\"/><path d=\"M 494 203 551 184\" stroke=\"gray\" stroke-width=\"0.5\"/><path d=\"M 494 203 348 225\" stroke=\"gray\" stroke-width=\"0.5\"/><path d=\"M 494 203 433 235\" stroke=\"gray\" stroke-width=\"0.5\"/><path d=\"M 494 203 533 227\" stroke=\"gray\" stroke-width=\"0.5\"/><path d=\"M 494 203 385 227\" stroke=\"gray\" stroke-width=\"0.5\"/><path d=\"M 494 203 443 225\" stroke=\"gray\" stroke-width=\"0.5\"/><path d=\"M 494 203 511 150\" stroke=\"gray\" stroke-width=\"0.5\"/><path d=\"M 202 86 261 182\" stroke=\"gray\" stroke-width=\"0.5\"/><path d=\"M 547 57 511 150\" stroke=\"gray\" stroke-width=\"0.5\"/><path d=\"M 511 150 512 119\" stroke=\"gray\" stroke-width=\"0.5\"/><path d=\"M 511 150 538 101\" stroke=\"gray\" stroke-width=\"0.5\"/><path d=\"M 511 150 434 205\" stroke=\"gray\" stroke-width=\"0.5\"/><path d=\"M 511 150 435 220\" stroke=\"gray\" stroke-width=\"0.5\"/><path d=\"M 511 150 551 184\" stroke=\"gray\" stroke-width=\"0.5\"/><path d=\"M 511 150 443 225\" stroke=\"gray\" stroke-width=\"0.5\"/><path d=\"M 511 150 468 132\" stroke=\"gray\" stroke-width=\"0.5\"/><path d=\"M 511 150 494 203\" stroke=\"gray\" stroke-width=\"0.5\"/><path d=\"M 511 150 547 57\" stroke=\"gray\" stroke-width=\"0.5\"/><circle cx=\"414\" cy=\"230\" r=\"3.0\" style=\"fill:rgb(247, 177, 148);stroke:black;stroke-width:1.0\"/><circle cx=\"407\" cy=\"262\" r=\"3.0\" style=\"fill:rgb(239, 137, 108);stroke:black;stroke-width:1.0\"/><circle cx=\"392\" cy=\"246\" r=\"3.0\" style=\"fill:rgb(247, 177, 148);stroke:black;stroke-width:1.0\"/><circle cx=\"324\" cy=\"178\" r=\"3.0\" style=\"fill:rgb(80, 107, 218);stroke:black;stroke-width:1.0\"/><circle cx=\"609\" cy=\"296\" r=\"3.0\" style=\"fill:rgb(72, 96, 209);stroke:black;stroke-width:1.0\"/><circle cx=\"422\" cy=\"322\" r=\"3.0\" style=\"fill:rgb(86, 115, 224);stroke:black;stroke-width:1.0\"/><circle cx=\"418\" cy=\"246\" r=\"3.0\" style=\"fill:rgb(247, 177, 148);stroke:black;stroke-width:1.0\"/><circle cx=\"512\" cy=\"119\" r=\"3.0\" style=\"fill:rgb(109, 144, 241);stroke:black;stroke-width:1.0\"/><circle cx=\"648\" cy=\"246\" r=\"3.0\" style=\"fill:rgb(80, 107, 218);stroke:black;stroke-width:1.0\"/><circle cx=\"645\" cy=\"221\" r=\"3.0\" style=\"fill:rgb(80, 107, 218);stroke:black;stroke-width:1.0\"/><circle cx=\"459\" cy=\"236\" r=\"3.0\" style=\"fill:rgb(230, 114, 89);stroke:black;stroke-width:1.0\"/><circle cx=\"318\" cy=\"369\" r=\"3.0\" style=\"fill:rgb(112, 147, 243);stroke:black;stroke-width:1.0\"/><circle cx=\"399\" cy=\"232\" r=\"3.0\" style=\"fill:rgb(247, 177, 148);stroke:black;stroke-width:1.0\"/><circle cx=\"375\" cy=\"275\" r=\"3.0\" style=\"fill:rgb(201, 59, 55);stroke:black;stroke-width:1.0\"/><circle cx=\"180\" cy=\"146\" r=\"3.0\" style=\"fill:rgb(159, 190, 254);stroke:black;stroke-width:1.0\"/><circle cx=\"338\" cy=\"219\" r=\"3.0\" style=\"fill:rgb(201, 59, 55);stroke:black;stroke-width:1.0\"/><circle cx=\"233\" cy=\"518\" r=\"3.0\" style=\"fill:rgb(193, 212, 244);stroke:black;stroke-width:1.0\"/><circle cx=\"171\" cy=\"189\" r=\"3.0\" style=\"fill:rgb(116, 151, 245);stroke:black;stroke-width:1.0\"/><circle cx=\"166\" cy=\"489\" r=\"3.0\" style=\"fill:rgb(193, 212, 244);stroke:black;stroke-width:1.0\"/><circle cx=\"274\" cy=\"379\" r=\"3.0\" style=\"fill:rgb(159, 190, 254);stroke:black;stroke-width:1.0\"/><circle cx=\"175\" cy=\"434\" r=\"3.0\" style=\"fill:rgb(76, 102, 214);stroke:black;stroke-width:1.0\"/><circle cx=\"310\" cy=\"407\" r=\"3.0\" style=\"fill:rgb(159, 190, 254);stroke:black;stroke-width:1.0\"/><circle cx=\"273\" cy=\"512\" r=\"3.0\" style=\"fill:rgb(76, 102, 214);stroke:black;stroke-width:1.0\"/><circle cx=\"121\" cy=\"62\" r=\"3.0\" style=\"fill:rgb(70, 93, 207);stroke:black;stroke-width:1.0\"/><circle cx=\"162\" cy=\"520\" r=\"3.0\" style=\"fill:rgb(193, 212, 244);stroke:black;stroke-width:1.0\"/><circle cx=\"148\" cy=\"168\" r=\"3.0\" style=\"fill:rgb(159, 190, 254);stroke:black;stroke-width:1.0\"/><circle cx=\"20\" cy=\"116\" r=\"3.0\" style=\"fill:rgb(70, 93, 207);stroke:black;stroke-width:1.0\"/><circle cx=\"247\" cy=\"197\" r=\"3.0\" style=\"fill:rgb(155, 187, 254);stroke:black;stroke-width:1.0\"/><circle cx=\"568\" cy=\"283\" r=\"3.0\" style=\"fill:rgb(105, 139, 239);stroke:black;stroke-width:1.0\"/><circle cx=\"424\" cy=\"265\" r=\"3.0\" style=\"fill:rgb(222, 98, 78);stroke:black;stroke-width:1.0\"/><circle cx=\"534\" cy=\"348\" r=\"3.0\" style=\"fill:rgb(58, 76, 192);stroke:black;stroke-width:1.0\"/><circle cx=\"369\" cy=\"230\" r=\"3.0\" style=\"fill:rgb(239, 137, 108);stroke:black;stroke-width:1.0\"/><circle cx=\"468\" cy=\"334\" r=\"3.0\" style=\"fill:rgb(120, 155, 247);stroke:black;stroke-width:1.0\"/><circle cx=\"566\" cy=\"417\" r=\"3.0\" style=\"fill:rgb(64, 84, 199);stroke:black;stroke-width:1.0\"/><circle cx=\"577\" cy=\"317\" r=\"3.0\" style=\"fill:rgb(72, 96, 209);stroke:black;stroke-width:1.0\"/><circle cx=\"439\" cy=\"256\" r=\"3.0\" style=\"fill:rgb(236, 128, 100);stroke:black;stroke-width:1.0\"/><circle cx=\"388\" cy=\"254\" r=\"3.0\" style=\"fill:rgb(220, 94, 75);stroke:black;stroke-width:1.0\"/><circle cx=\"414\" cy=\"218\" r=\"3.0\" style=\"fill:rgb(239, 137, 108);stroke:black;stroke-width:1.0\"/><circle cx=\"405\" cy=\"147\" r=\"3.0\" style=\"fill:rgb(80, 107, 218);stroke:black;stroke-width:1.0\"/><circle cx=\"400\" cy=\"217\" r=\"3.0\" style=\"fill:rgb(239, 137, 108);stroke:black;stroke-width:1.0\"/><circle cx=\"443\" cy=\"152\" r=\"3.0\" style=\"fill:rgb(80, 107, 218);stroke:black;stroke-width:1.0\"/><circle cx=\"207\" cy=\"489\" r=\"3.0\" style=\"fill:rgb(193, 212, 244);stroke:black;stroke-width:1.0\"/><circle cx=\"233\" cy=\"152\" r=\"3.0\" style=\"fill:rgb(58, 76, 192);stroke:black;stroke-width:1.0\"/><circle cx=\"376\" cy=\"220\" r=\"3.0\" style=\"fill:rgb(240, 141, 111);stroke:black;stroke-width:1.0\"/><circle cx=\"373\" cy=\"242\" r=\"3.0\" style=\"fill:rgb(247, 177, 148);stroke:black;stroke-width:1.0\"/><circle cx=\"538\" cy=\"101\" r=\"3.0\" style=\"fill:rgb(148, 181, 254);stroke:black;stroke-width:1.0\"/><circle cx=\"618\" cy=\"20\" r=\"3.0\" style=\"fill:rgb(70, 93, 207);stroke:black;stroke-width:1.0\"/><circle cx=\"434\" cy=\"205\" r=\"3.0\" style=\"fill:rgb(211, 77, 64);stroke:black;stroke-width:1.0\"/><circle cx=\"632\" cy=\"285\" r=\"3.0\" style=\"fill:rgb(58, 76, 192);stroke:black;stroke-width:1.0\"/><circle cx=\"399\" cy=\"112\" r=\"3.0\" style=\"fill:rgb(72, 96, 209);stroke:black;stroke-width:1.0\"/><circle cx=\"500\" cy=\"250\" r=\"3.0\" style=\"fill:rgb(109, 144, 241);stroke:black;stroke-width:1.0\"/><circle cx=\"435\" cy=\"220\" r=\"3.0\" style=\"fill:rgb(234, 123, 96);stroke:black;stroke-width:1.0\"/><circle cx=\"551\" cy=\"184\" r=\"3.0\" style=\"fill:rgb(88, 118, 226);stroke:black;stroke-width:1.0\"/><circle cx=\"348\" cy=\"225\" r=\"3.0\" style=\"fill:rgb(166, 195, 253);stroke:black;stroke-width:1.0\"/><circle cx=\"355\" cy=\"237\" r=\"3.0\" style=\"fill:rgb(225, 104, 82);stroke:black;stroke-width:1.0\"/><circle cx=\"246\" cy=\"223\" r=\"3.0\" style=\"fill:rgb(105, 139, 239);stroke:black;stroke-width:1.0\"/><circle cx=\"433\" cy=\"235\" r=\"3.0\" style=\"fill:rgb(227, 108, 84);stroke:black;stroke-width:1.0\"/><circle cx=\"533\" cy=\"227\" r=\"3.0\" style=\"fill:rgb(141, 175, 253);stroke:black;stroke-width:1.0\"/><circle cx=\"720\" cy=\"223\" r=\"3.0\" style=\"fill:rgb(64, 84, 199);stroke:black;stroke-width:1.0\"/><circle cx=\"246\" cy=\"237\" r=\"3.0\" style=\"fill:rgb(105, 139, 239);stroke:black;stroke-width:1.0\"/><circle cx=\"385\" cy=\"227\" r=\"3.0\" style=\"fill:rgb(187, 26, 43);stroke:black;stroke-width:1.0\"/><circle cx=\"261\" cy=\"182\" r=\"3.0\" style=\"fill:rgb(141, 175, 253);stroke:black;stroke-width:1.0\"/><circle cx=\"443\" cy=\"225\" r=\"3.0\" style=\"fill:rgb(201, 59, 55);stroke:black;stroke-width:1.0\"/><circle cx=\"418\" cy=\"238\" r=\"3.0\" style=\"fill:rgb(247, 177, 148);stroke:black;stroke-width:1.0\"/><circle cx=\"407\" cy=\"210\" r=\"3.0\" style=\"fill:rgb(236, 128, 100);stroke:black;stroke-width:1.0\"/><circle cx=\"440\" cy=\"247\" r=\"3.0\" style=\"fill:rgb(240, 141, 111);stroke:black;stroke-width:1.0\"/><circle cx=\"468\" cy=\"132\" r=\"3.0\" style=\"fill:rgb(141, 175, 253);stroke:black;stroke-width:1.0\"/><circle cx=\"385\" cy=\"238\" r=\"3.0\" style=\"fill:rgb(247, 177, 148);stroke:black;stroke-width:1.0\"/><circle cx=\"173\" cy=\"259\" r=\"3.0\" style=\"fill:rgb(58, 76, 192);stroke:black;stroke-width:1.0\"/><circle cx=\"408\" cy=\"251\" r=\"3.0\" style=\"fill:rgb(247, 177, 148);stroke:black;stroke-width:1.0\"/><circle cx=\"371\" cy=\"249\" r=\"3.0\" style=\"fill:rgb(247, 177, 148);stroke:black;stroke-width:1.0\"/><circle cx=\"402\" cy=\"241\" r=\"3.0\" style=\"fill:rgb(247, 177, 148);stroke:black;stroke-width:1.0\"/><circle cx=\"379\" cy=\"254\" r=\"3.0\" style=\"fill:rgb(247, 177, 148);stroke:black;stroke-width:1.0\"/><circle cx=\"282\" cy=\"134\" r=\"3.0\" style=\"fill:rgb(80, 107, 218);stroke:black;stroke-width:1.0\"/><circle cx=\"294\" cy=\"118\" r=\"3.0\" style=\"fill:rgb(105, 139, 239);stroke:black;stroke-width:1.0\"/><circle cx=\"249\" cy=\"127\" r=\"3.0\" style=\"fill:rgb(80, 107, 218);stroke:black;stroke-width:1.0\"/><circle cx=\"357\" cy=\"213\" r=\"3.0\" style=\"fill:rgb(179, 3, 38);stroke:black;stroke-width:1.0\"/><circle cx=\"451\" cy=\"249\" r=\"3.0\" style=\"fill:rgb(236, 128, 100);stroke:black;stroke-width:1.0\"/><circle cx=\"494\" cy=\"203\" r=\"3.0\" style=\"fill:rgb(148, 181, 254);stroke:black;stroke-width:1.0\"/><circle cx=\"202\" cy=\"86\" r=\"3.0\" style=\"fill:rgb(64, 84, 199);stroke:black;stroke-width:1.0\"/><circle cx=\"547\" cy=\"57\" r=\"3.0\" style=\"fill:rgb(64, 84, 199);stroke:black;stroke-width:1.0\"/><circle cx=\"511\" cy=\"150\" r=\"3.0\" style=\"fill:rgb(193, 212, 244);stroke:black;stroke-width:1.0\"/><text font-size=\"10\" x=\"420\" y=\"233\">0</text><text font-size=\"10\" x=\"413\" y=\"265\">1</text><text font-size=\"10\" x=\"398\" y=\"249\">2</text><text font-size=\"10\" x=\"330\" y=\"181\">6</text><text font-size=\"10\" x=\"615\" y=\"299\">7</text><text font-size=\"10\" x=\"428\" y=\"325\">8</text><text font-size=\"10\" x=\"424\" y=\"249\">12</text><text font-size=\"10\" x=\"518\" y=\"122\">13</text><text font-size=\"10\" x=\"654\" y=\"249\">14</text><text font-size=\"10\" x=\"651\" y=\"224\">16</text><text font-size=\"10\" x=\"465\" y=\"239\">18</text><text font-size=\"10\" x=\"324\" y=\"372\">20</text><text font-size=\"10\" x=\"405\" y=\"235\">21</text><text font-size=\"10\" x=\"381\" y=\"278\">22</text><text font-size=\"10\" x=\"186\" y=\"149\">23</text><text font-size=\"10\" x=\"344\" y=\"222\">24</text><text font-size=\"10\" x=\"239\" y=\"521\">26</text><text font-size=\"10\" x=\"177\" y=\"192\">27</text><text font-size=\"10\" x=\"172\" y=\"492\">28</text><text font-size=\"10\" x=\"280\" y=\"382\">29</text><text font-size=\"10\" x=\"181\" y=\"437\">30</text><text font-size=\"10\" x=\"316\" y=\"410\">31</text><text font-size=\"10\" x=\"279\" y=\"515\">32</text><text font-size=\"10\" x=\"127\" y=\"65\">33</text><text font-size=\"10\" x=\"168\" y=\"523\">36</text><text font-size=\"10\" x=\"154\" y=\"171\">37</text><text font-size=\"10\" x=\"26\" y=\"119\">38</text><text font-size=\"10\" x=\"253\" y=\"200\">39</text><text font-size=\"10\" x=\"574\" y=\"286\">41</text><text font-size=\"10\" x=\"430\" y=\"268\">42</text><text font-size=\"10\" x=\"540\" y=\"351\">44</text><text font-size=\"10\" x=\"375\" y=\"233\">45</text><text font-size=\"10\" x=\"474\" y=\"337\">46</text><text font-size=\"10\" x=\"572\" y=\"420\">47</text><text font-size=\"10\" x=\"583\" y=\"320\">48</text><text font-size=\"10\" x=\"445\" y=\"259\">50</text><text font-size=\"10\" x=\"394\" y=\"257\">52</text><text font-size=\"10\" x=\"420\" y=\"221\">53</text><text font-size=\"10\" x=\"411\" y=\"150\">54</text><text font-size=\"10\" x=\"406\" y=\"220\">55</text><text font-size=\"10\" x=\"449\" y=\"155\">56</text><text font-size=\"10\" x=\"213\" y=\"492\">60</text><text font-size=\"10\" x=\"239\" y=\"155\">61</text><text font-size=\"10\" x=\"382\" y=\"223\">62</text><text font-size=\"10\" x=\"379\" y=\"245\">65</text><text font-size=\"10\" x=\"544\" y=\"104\">67</text><text font-size=\"10\" x=\"624\" y=\"23\">68</text><text font-size=\"10\" x=\"440\" y=\"208\">70</text><text font-size=\"10\" x=\"638\" y=\"288\">71</text><text font-size=\"10\" x=\"405\" y=\"115\">73</text><text font-size=\"10\" x=\"506\" y=\"253\">74</text><text font-size=\"10\" x=\"441\" y=\"223\">75</text><text font-size=\"10\" x=\"557\" y=\"187\">76</text><text font-size=\"10\" x=\"354\" y=\"228\">77</text><text font-size=\"10\" x=\"361\" y=\"240\">78</text><text font-size=\"10\" x=\"252\" y=\"226\">79</text><text font-size=\"10\" x=\"439\" y=\"238\">80</text><text font-size=\"10\" x=\"539\" y=\"230\">81</text><text font-size=\"10\" x=\"726\" y=\"226\">82</text><text font-size=\"10\" x=\"252\" y=\"240\">83</text><text font-size=\"10\" x=\"391\" y=\"230\">84</text><text font-size=\"10\" x=\"267\" y=\"185\">85</text><text font-size=\"10\" x=\"449\" y=\"228\">86</text><text font-size=\"10\" x=\"424\" y=\"241\">88</text><text font-size=\"10\" x=\"413\" y=\"213\">90</text><text font-size=\"10\" x=\"446\" y=\"250\">91</text><text font-size=\"10\" x=\"474\" y=\"135\">92</text><text font-size=\"10\" x=\"391\" y=\"241\">93</text><text font-size=\"10\" x=\"179\" y=\"262\">99</text><text font-size=\"10\" x=\"414\" y=\"254\">100</text><text font-size=\"10\" x=\"377\" y=\"252\">104</text><text font-size=\"10\" x=\"408\" y=\"244\">108</text><text font-size=\"10\" x=\"385\" y=\"257\">110</text><text font-size=\"10\" x=\"288\" y=\"137\">112</text><text font-size=\"10\" x=\"300\" y=\"121\">114</text><text font-size=\"10\" x=\"255\" y=\"130\">116</text><text font-size=\"10\" x=\"363\" y=\"216\">117</text><text font-size=\"10\" x=\"457\" y=\"252\">119</text><text font-size=\"10\" x=\"500\" y=\"206\">121</text><text font-size=\"10\" x=\"208\" y=\"89\">123</text><text font-size=\"10\" x=\"553\" y=\"60\">125</text><text font-size=\"10\" x=\"517\" y=\"153\">129</text></svg>"
      ],
      "text/plain": [
       "<IPython.core.display.SVG object>"
      ]
     },
     "execution_count": 48,
     "metadata": {},
     "output_type": "execute_result"
    }
   ],
   "source": [
    "draw_graph(G_sent, show_names=True, node_size=3)"
   ]
  },
  {
   "cell_type": "code",
   "execution_count": 49,
   "id": "4cc4b66e",
   "metadata": {},
   "outputs": [
    {
     "data": {
      "image/png": "[encoded data removed]",
      "text/plain": [
       "<Figure size 432x288 with 1 Axes>"
      ]
     },
     "metadata": {
      "needs_background": "light"
     },
     "output_type": "display_data"
    }
   ],
   "source": [
    "entity_df['sentence'].value_counts()[0:20].plot.barh().invert_yaxis()"
   ]
  },
  {
   "cell_type": "code",
   "execution_count": 50,
   "id": "818bc339",
   "metadata": {},
   "outputs": [],
   "source": [
    "def fetch_entities_by_sentence(entity_df, sentence):\n",
    "\n",
    "    return sorted(entity_df[entity_df['sentence']==sentence]['entity'].values)"
   ]
  },
  {
   "cell_type": "code",
   "execution_count": 51,
   "id": "da8caccf",
   "metadata": {},
   "outputs": [
    {
     "data": {
      "text/plain": [
       "['Mouse', 'â\\x80\\x98it']"
      ]
     },
     "execution_count": 51,
     "metadata": {},
     "output_type": "execute_result"
    }
   ],
   "source": [
    "fetch_entities_by_sentence(entity_df, 29)"
   ]
  },
  {
   "cell_type": "code",
   "execution_count": 52,
   "id": "849d67c6",
   "metadata": {},
   "outputs": [
    {
     "data": {
      "text/plain": [
       "['Alice', 'Dormouse', 'Hatter']"
      ]
     },
     "execution_count": 52,
     "metadata": {},
     "output_type": "execute_result"
    }
   ],
   "source": [
    "fetch_entities_by_sentence(entity_df, 84)"
   ]
  },
  {
   "cell_type": "code",
   "execution_count": 53,
   "id": "92e6b510",
   "metadata": {},
   "outputs": [
    {
     "data": {
      "text/plain": [
       "[]"
      ]
     },
     "execution_count": 53,
     "metadata": {},
     "output_type": "execute_result"
    }
   ],
   "source": [
    "fetch_entities_by_sentence(entity_df, 118)"
   ]
  },
  {
   "cell_type": "code",
   "execution_count": 54,
   "id": "2fc12fbf",
   "metadata": {},
   "outputs": [
    {
     "data": {
      "text/plain": [
       "[]"
      ]
     },
     "execution_count": 54,
     "metadata": {},
     "output_type": "execute_result"
    }
   ],
   "source": [
    "fetch_entities_by_sentence(entity_df, 130)"
   ]
  },
  {
   "cell_type": "markdown",
   "id": "695acca3",
   "metadata": {},
   "source": [
    "At the very least, I can see what sentences have the most activity, and sentences can be investigated, this way. Another fusion of NLP and Networks."
   ]
  },
  {
   "cell_type": "markdown",
   "id": "7badcf7f",
   "metadata": {},
   "source": [
    "# Egocentric Network Analysis\n",
    "\n",
    "As the above visualization shows, this is a complex network. For knowledge discovery, we should use Egocentric Network Analysis to \"zoom in\" on nodes of interest. Any node can be looked at, but I am going to programmatically do this, in this notebook, showing only the top twenty nodes, according to page rank."
   ]
  },
  {
   "cell_type": "code",
   "execution_count": 55,
   "id": "db54136e",
   "metadata": {},
   "outputs": [
    {
     "data": {
      "text/html": [
       "<div>\n",
       "<style scoped>\n",
       "    .dataframe tbody tr th:only-of-type {\n",
       "        vertical-align: middle;\n",
       "    }\n",
       "\n",
       "    .dataframe tbody tr th {\n",
       "        vertical-align: top;\n",
       "    }\n",
       "\n",
       "    .dataframe thead th {\n",
       "        text-align: right;\n",
       "    }\n",
       "</style>\n",
       "<table border=\"1\" class=\"dataframe\">\n",
       "  <thead>\n",
       "    <tr style=\"text-align: right;\">\n",
       "      <th></th>\n",
       "      <th>page_rank</th>\n",
       "    </tr>\n",
       "  </thead>\n",
       "  <tbody>\n",
       "    <tr>\n",
       "      <th>Alice</th>\n",
       "      <td>0.157058</td>\n",
       "    </tr>\n",
       "    <tr>\n",
       "      <th>Dormouse</th>\n",
       "      <td>0.038245</td>\n",
       "    </tr>\n",
       "    <tr>\n",
       "      <th>Duchess</th>\n",
       "      <td>0.034317</td>\n",
       "    </tr>\n",
       "    <tr>\n",
       "      <th>Lory</th>\n",
       "      <td>0.031326</td>\n",
       "    </tr>\n",
       "    <tr>\n",
       "      <th>Rabbit</th>\n",
       "      <td>0.029086</td>\n",
       "    </tr>\n",
       "    <tr>\n",
       "      <th>Hatter</th>\n",
       "      <td>0.027345</td>\n",
       "    </tr>\n",
       "    <tr>\n",
       "      <th>Hare</th>\n",
       "      <td>0.026592</td>\n",
       "    </tr>\n",
       "    <tr>\n",
       "      <th>Northumbria</th>\n",
       "      <td>0.024562</td>\n",
       "    </tr>\n",
       "    <tr>\n",
       "      <th>Morcar</th>\n",
       "      <td>0.024562</td>\n",
       "    </tr>\n",
       "    <tr>\n",
       "      <th>Mouse</th>\n",
       "      <td>0.022743</td>\n",
       "    </tr>\n",
       "  </tbody>\n",
       "</table>\n",
       "</div>"
      ],
      "text/plain": [
       "             page_rank\n",
       "Alice         0.157058\n",
       "Dormouse      0.038245\n",
       "Duchess       0.034317\n",
       "Lory          0.031326\n",
       "Rabbit        0.029086\n",
       "Hatter        0.027345\n",
       "Hare          0.026592\n",
       "Northumbria   0.024562\n",
       "Morcar        0.024562\n",
       "Mouse         0.022743"
      ]
     },
     "execution_count": 55,
     "metadata": {},
     "output_type": "execute_result"
    }
   ],
   "source": [
    "page_rank = nx.pagerank(G)\n",
    "\n",
    "pr_df = pd.DataFrame().from_dict(page_rank, orient='index')\n",
    "pr_df.columns = ['page_rank']\n",
    "pr_df.sort_values('page_rank', ascending=False, inplace=True)\n",
    "pr_df.head(10)"
   ]
  },
  {
   "cell_type": "code",
   "execution_count": 56,
   "id": "97a63ab7",
   "metadata": {},
   "outputs": [
    {
     "data": {
      "image/png": "[encoded data removed]",
      "text/plain": [
       "<Figure size 864x576 with 1 Axes>"
      ]
     },
     "metadata": {
      "needs_background": "light"
     },
     "output_type": "display_data"
    }
   ],
   "source": [
    "title = 'Important Characters by PageRank'\n",
    "\n",
    "pr_df.head(20).plot.barh(figsize=(12,8), title=title).invert_yaxis()"
   ]
  },
  {
   "cell_type": "markdown",
   "id": "0eaa14c1",
   "metadata": {},
   "source": [
    "# Egocentric Network Analysis\n",
    "Next, let's look at the Ego Graphs for each of the top ten characters found by PageRank. Before visualizing and inspecting the Ego Graphs, let's create a Python list so that we can more easily look through them without explicitely typing their names."
   ]
  },
  {
   "cell_type": "code",
   "execution_count": 57,
   "id": "2f595d51",
   "metadata": {},
   "outputs": [],
   "source": [
    "top_nodes = pr_df.head(20).index.values"
   ]
  },
  {
   "cell_type": "code",
   "execution_count": 58,
   "id": "83a68015",
   "metadata": {},
   "outputs": [
    {
     "data": {
      "text/plain": [
       "'Alice'"
      ]
     },
     "execution_count": 58,
     "metadata": {},
     "output_type": "execute_result"
    }
   ],
   "source": [
    "top_nodes[0]"
   ]
  },
  {
   "cell_type": "markdown",
   "id": "096656fb",
   "metadata": {},
   "source": [
    "Now we are all set to start looking through them, in order of importance."
   ]
  },
  {
   "cell_type": "markdown",
   "id": "6c5fcc65",
   "metadata": {},
   "source": [
    "## Top Node Ego Networks\n",
    "Unlike last time, I am not going to drop the center node or write about findings. This is purely discovery. Remember two things:\n",
    "- The center node is known as the 'ego' node. It is the node being looked up.\n",
    "- The other nodes are known as 'alter' nodes. They are connected to the ego node, and sometimes with each other.\n",
    "\n",
    "Pay close attention to the alter nodes that link to other alter nodes. These are interesting relationships, and you can see subcommunities in the ego network. Think about what you are seeing. What does this tell you?"
   ]
  },
  {
   "cell_type": "code",
   "execution_count": 87,
   "id": "502a0105",
   "metadata": {},
   "outputs": [
    {
     "data": {
      "image/svg+xml": [
       "<svg height=\"540\" width=\"845.0\" xmlns=\"http://www.w3.org/2000/svg\"><path d=\"M 202 312 377 268\" stroke=\"gray\" stroke-width=\"0.3\"/><path d=\"M 202 312 292 304\" stroke=\"gray\" stroke-width=\"0.3\"/><path d=\"M 239 104 377 268\" stroke=\"gray\" stroke-width=\"0.3\"/><path d=\"M 239 104 155 190\" stroke=\"gray\" stroke-width=\"0.3\"/><path d=\"M 503 519 416 474\" stroke=\"gray\" stroke-width=\"0.3\"/><path d=\"M 503 519 377 268\" stroke=\"gray\" stroke-width=\"0.3\"/><path d=\"M 717 183 377 268\" stroke=\"gray\" stroke-width=\"0.3\"/><path d=\"M 542 40 377 268\" stroke=\"gray\" stroke-width=\"0.3\"/><path d=\"M 416 474 503 519\" stroke=\"gray\" stroke-width=\"0.3\"/><path d=\"M 416 474 377 268\" stroke=\"gray\" stroke-width=\"0.3\"/><path d=\"M 416 474 452 357\" stroke=\"gray\" stroke-width=\"0.3\"/><path d=\"M 683 390 377 268\" stroke=\"gray\" stroke-width=\"0.3\"/><path d=\"M 683 390 720 320\" stroke=\"gray\" stroke-width=\"0.3\"/><path d=\"M 582 441 377 268\" stroke=\"gray\" stroke-width=\"0.3\"/><path d=\"M 59 409 377 268\" stroke=\"gray\" stroke-width=\"0.3\"/><path d=\"M 168 435 107 320\" stroke=\"gray\" stroke-width=\"0.3\"/><path d=\"M 168 435 377 268\" stroke=\"gray\" stroke-width=\"0.3\"/><path d=\"M 636 242 377 268\" stroke=\"gray\" stroke-width=\"0.3\"/><path d=\"M 244 20 377 268\" stroke=\"gray\" stroke-width=\"0.3\"/><path d=\"M 425 66 377 268\" stroke=\"gray\" stroke-width=\"0.3\"/><path d=\"M 425 66 465 183\" stroke=\"gray\" stroke-width=\"0.3\"/><path d=\"M 20 246 377 268\" stroke=\"gray\" stroke-width=\"0.3\"/><path d=\"M 78 120 377 268\" stroke=\"gray\" stroke-width=\"0.3\"/><path d=\"M 642 101 377 268\" stroke=\"gray\" stroke-width=\"0.3\"/><path d=\"M 107 320 168 435\" stroke=\"gray\" stroke-width=\"0.3\"/><path d=\"M 107 320 377 268\" stroke=\"gray\" stroke-width=\"0.3\"/><path d=\"M 107 320 155 190\" stroke=\"gray\" stroke-width=\"0.3\"/><path d=\"M 377 268 202 312\" stroke=\"gray\" stroke-width=\"0.3\"/><path d=\"M 377 268 239 104\" stroke=\"gray\" stroke-width=\"0.3\"/><path d=\"M 377 268 503 519\" stroke=\"gray\" stroke-width=\"0.3\"/><path d=\"M 377 268 717 183\" stroke=\"gray\" stroke-width=\"0.3\"/><path d=\"M 377 268 542 40\" stroke=\"gray\" stroke-width=\"0.3\"/><path d=\"M 377 268 416 474\" stroke=\"gray\" stroke-width=\"0.3\"/><path d=\"M 377 268 683 390\" stroke=\"gray\" stroke-width=\"0.3\"/><path d=\"M 377 268 582 441\" stroke=\"gray\" stroke-width=\"0.3\"/><path d=\"M 377 268 59 409\" stroke=\"gray\" stroke-width=\"0.3\"/><path d=\"M 377 268 168 435\" stroke=\"gray\" stroke-width=\"0.3\"/><path d=\"M 377 268 636 242\" stroke=\"gray\" stroke-width=\"0.3\"/><path d=\"M 377 268 244 20\" stroke=\"gray\" stroke-width=\"0.3\"/><path d=\"M 377 268 425 66\" stroke=\"gray\" stroke-width=\"0.3\"/><path d=\"M 377 268 20 246\" stroke=\"gray\" stroke-width=\"0.3\"/><path d=\"M 377 268 78 120\" stroke=\"gray\" stroke-width=\"0.3\"/><path d=\"M 377 268 642 101\" stroke=\"gray\" stroke-width=\"0.3\"/><path d=\"M 377 268 107 320\" stroke=\"gray\" stroke-width=\"0.3\"/><path d=\"M 377 268 292 304\" stroke=\"gray\" stroke-width=\"0.3\"/><path d=\"M 377 268 452 357\" stroke=\"gray\" stroke-width=\"0.3\"/><path d=\"M 377 268 280 520\" stroke=\"gray\" stroke-width=\"0.3\"/><path d=\"M 377 268 720 320\" stroke=\"gray\" stroke-width=\"0.3\"/><path d=\"M 377 268 155 190\" stroke=\"gray\" stroke-width=\"0.3\"/><path d=\"M 377 268 465 183\" stroke=\"gray\" stroke-width=\"0.3\"/><path d=\"M 292 304 202 312\" stroke=\"gray\" stroke-width=\"0.3\"/><path d=\"M 292 304 377 268\" stroke=\"gray\" stroke-width=\"0.3\"/><path d=\"M 452 357 416 474\" stroke=\"gray\" stroke-width=\"0.3\"/><path d=\"M 452 357 377 268\" stroke=\"gray\" stroke-width=\"0.3\"/><path d=\"M 452 357 465 183\" stroke=\"gray\" stroke-width=\"0.3\"/><path d=\"M 280 520 377 268\" stroke=\"gray\" stroke-width=\"0.3\"/><path d=\"M 720 320 683 390\" stroke=\"gray\" stroke-width=\"0.3\"/><path d=\"M 720 320 377 268\" stroke=\"gray\" stroke-width=\"0.3\"/><path d=\"M 155 190 239 104\" stroke=\"gray\" stroke-width=\"0.3\"/><path d=\"M 155 190 107 320\" stroke=\"gray\" stroke-width=\"0.3\"/><path d=\"M 155 190 377 268\" stroke=\"gray\" stroke-width=\"0.3\"/><path d=\"M 465 183 425 66\" stroke=\"gray\" stroke-width=\"0.3\"/><path d=\"M 465 183 377 268\" stroke=\"gray\" stroke-width=\"0.3\"/><path d=\"M 465 183 452 357\" stroke=\"gray\" stroke-width=\"0.3\"/><circle cx=\"202\" cy=\"312\" r=\"3.0\" style=\"fill:rgb(70, 93, 207);stroke:black;stroke-width:1.0\"/><circle cx=\"239\" cy=\"104\" r=\"3.0\" style=\"fill:rgb(66, 88, 202);stroke:black;stroke-width:1.0\"/><circle cx=\"503\" cy=\"519\" r=\"3.0\" style=\"fill:rgb(66, 88, 202);stroke:black;stroke-width:1.0\"/><circle cx=\"717\" cy=\"183\" r=\"3.0\" style=\"fill:rgb(58, 76, 192);stroke:black;stroke-width:1.0\"/><circle cx=\"542\" cy=\"40\" r=\"3.0\" style=\"fill:rgb(58, 76, 192);stroke:black;stroke-width:1.0\"/><circle cx=\"416\" cy=\"474\" r=\"3.0\" style=\"fill:rgb(82, 110, 220);stroke:black;stroke-width:1.0\"/><circle cx=\"683\" cy=\"390\" r=\"3.0\" style=\"fill:rgb(70, 93, 207);stroke:black;stroke-width:1.0\"/><circle cx=\"582\" cy=\"441\" r=\"3.0\" style=\"fill:rgb(58, 76, 192);stroke:black;stroke-width:1.0\"/><circle cx=\"59\" cy=\"409\" r=\"3.0\" style=\"fill:rgb(58, 76, 192);stroke:black;stroke-width:1.0\"/><circle cx=\"168\" cy=\"435\" r=\"3.0\" style=\"fill:rgb(66, 88, 202);stroke:black;stroke-width:1.0\"/><circle cx=\"636\" cy=\"242\" r=\"3.0\" style=\"fill:rgb(58, 76, 192);stroke:black;stroke-width:1.0\"/><circle cx=\"244\" cy=\"20\" r=\"3.0\" style=\"fill:rgb(58, 76, 192);stroke:black;stroke-width:1.0\"/><circle cx=\"425\" cy=\"66\" r=\"3.0\" style=\"fill:rgb(66, 88, 202);stroke:black;stroke-width:1.0\"/><circle cx=\"20\" cy=\"246\" r=\"3.0\" style=\"fill:rgb(58, 76, 192);stroke:black;stroke-width:1.0\"/><circle cx=\"78\" cy=\"120\" r=\"3.0\" style=\"fill:rgb(58, 76, 192);stroke:black;stroke-width:1.0\"/><circle cx=\"642\" cy=\"101\" r=\"3.0\" style=\"fill:rgb(58, 76, 192);stroke:black;stroke-width:1.0\"/><circle cx=\"107\" cy=\"320\" r=\"3.0\" style=\"fill:rgb(82, 110, 220);stroke:black;stroke-width:1.0\"/><circle cx=\"377\" cy=\"268\" r=\"3.0\" style=\"fill:rgb(179, 3, 38);stroke:black;stroke-width:1.0\"/><circle cx=\"292\" cy=\"304\" r=\"3.0\" style=\"fill:rgb(70, 93, 207);stroke:black;stroke-width:1.0\"/><circle cx=\"452\" cy=\"357\" r=\"3.0\" style=\"fill:rgb(80, 107, 218);stroke:black;stroke-width:1.0\"/><circle cx=\"280\" cy=\"520\" r=\"3.0\" style=\"fill:rgb(58, 76, 192);stroke:black;stroke-width:1.0\"/><circle cx=\"720\" cy=\"320\" r=\"3.0\" style=\"fill:rgb(70, 93, 207);stroke:black;stroke-width:1.0\"/><circle cx=\"155\" cy=\"190\" r=\"3.0\" style=\"fill:rgb(82, 110, 220);stroke:black;stroke-width:1.0\"/><circle cx=\"465\" cy=\"183\" r=\"3.0\" style=\"fill:rgb(82, 110, 220);stroke:black;stroke-width:1.0\"/><text font-size=\"10\" x=\"208\" y=\"315\">Gryphon</text><text font-size=\"10\" x=\"245\" y=\"107\">Lory</text><text font-size=\"10\" x=\"509\" y=\"522\">Dormouse</text><text font-size=\"10\" x=\"723\" y=\"186\">Cheshire Cat</text><text font-size=\"10\" x=\"548\" y=\"43\">William the Conqueror</text><text font-size=\"10\" x=\"422\" y=\"477\">Hatter</text><text font-size=\"10\" x=\"689\" y=\"393\">Queens</text><text font-size=\"10\" x=\"588\" y=\"444\">Mouse</text><text font-size=\"10\" x=\"65\" y=\"412\">Lobster Quadrille</text><text font-size=\"10\" x=\"174\" y=\"438\">Mary Ann</text><text font-size=\"10\" x=\"642\" y=\"245\">Bill</text><text font-size=\"10\" x=\"250\" y=\"23\">Fender</text><text font-size=\"10\" x=\"431\" y=\"69\">Cat</text><text font-size=\"10\" x=\"26\" y=\"249\">Caterpillar</text><text font-size=\"10\" x=\"84\" y=\"123\">Pigeon</text><text font-size=\"10\" x=\"648\" y=\"104\">Fish-Footman</text><text font-size=\"10\" x=\"113\" y=\"323\">Rabbit</text><text font-size=\"10\" x=\"383\" y=\"271\">Alice</text><text font-size=\"10\" x=\"298\" y=\"307\">Soup</text><text font-size=\"10\" x=\"458\" y=\"360\">Hare</text><text font-size=\"10\" x=\"286\" y=\"523\">Mabel</text><text font-size=\"10\" x=\"726\" y=\"323\">Kings</text><text font-size=\"10\" x=\"161\" y=\"193\">Dinah</text><text font-size=\"10\" x=\"471\" y=\"186\">Duchess</text></svg>"
      ],
      "text/plain": [
       "<IPython.core.display.SVG object>"
      ]
     },
     "execution_count": 87,
     "metadata": {},
     "output_type": "execute_result"
    }
   ],
   "source": [
    "ego = top_nodes[0]\n",
    "\n",
    "G_ego = nx.ego_graph(G, ego)\n",
    "\n",
    "draw_graph(G_ego, show_names=True, node_size=3, edge_width=0.3)"
   ]
  },
  {
   "cell_type": "code",
   "execution_count": 91,
   "id": "be5ae30b",
   "metadata": {},
   "outputs": [
    {
     "data": {
      "image/svg+xml": [
       "<svg height=\"540\" width=\"845.0\" xmlns=\"http://www.w3.org/2000/svg\"><path d=\"M 276 390 279 405\" stroke=\"gray\" stroke-width=\"0.3\"/><path d=\"M 389 302 389 283\" stroke=\"gray\" stroke-width=\"0.3\"/><path d=\"M 567 353 569 333\" stroke=\"gray\" stroke-width=\"0.3\"/><path d=\"M 569 333 567 353\" stroke=\"gray\" stroke-width=\"0.3\"/><path d=\"M 569 333 570 311\" stroke=\"gray\" stroke-width=\"0.3\"/><path d=\"M 325 105 339 110\" stroke=\"gray\" stroke-width=\"0.3\"/><path d=\"M 390 244 390 263\" stroke=\"gray\" stroke-width=\"0.3\"/><path d=\"M 572 269 571 289\" stroke=\"gray\" stroke-width=\"0.3\"/><path d=\"M 390 263 390 244\" stroke=\"gray\" stroke-width=\"0.3\"/><path d=\"M 390 263 389 283\" stroke=\"gray\" stroke-width=\"0.3\"/><path d=\"M 279 405 276 390\" stroke=\"gray\" stroke-width=\"0.3\"/><path d=\"M 570 311 569 333\" stroke=\"gray\" stroke-width=\"0.3\"/><path d=\"M 570 311 571 289\" stroke=\"gray\" stroke-width=\"0.3\"/><path d=\"M 339 110 325 105\" stroke=\"gray\" stroke-width=\"0.3\"/><path d=\"M 389 283 389 302\" stroke=\"gray\" stroke-width=\"0.3\"/><path d=\"M 389 283 390 263\" stroke=\"gray\" stroke-width=\"0.3\"/><path d=\"M 571 289 572 269\" stroke=\"gray\" stroke-width=\"0.3\"/><path d=\"M 571 289 570 311\" stroke=\"gray\" stroke-width=\"0.3\"/><circle cx=\"276\" cy=\"390\" r=\"3.0\" style=\"fill:rgb(224, 218, 215);stroke:black;stroke-width:1.0\"/><circle cx=\"389\" cy=\"302\" r=\"3.0\" style=\"fill:rgb(66, 88, 202);stroke:black;stroke-width:1.0\"/><circle cx=\"567\" cy=\"353\" r=\"3.0\" style=\"fill:rgb(58, 76, 192);stroke:black;stroke-width:1.0\"/><circle cx=\"178\" cy=\"274\" r=\"3.0\" style=\"fill:rgb(224, 218, 215);stroke:black;stroke-width:1.0\"/><circle cx=\"162\" cy=\"376\" r=\"3.0\" style=\"fill:rgb(224, 218, 215);stroke:black;stroke-width:1.0\"/><circle cx=\"569\" cy=\"333\" r=\"3.0\" style=\"fill:rgb(227, 108, 84);stroke:black;stroke-width:1.0\"/><circle cx=\"325\" cy=\"105\" r=\"3.0\" style=\"fill:rgb(224, 218, 215);stroke:black;stroke-width:1.0\"/><circle cx=\"382\" cy=\"20\" r=\"3.0\" style=\"fill:rgb(224, 218, 215);stroke:black;stroke-width:1.0\"/><circle cx=\"31\" cy=\"335\" r=\"3.0\" style=\"fill:rgb(224, 218, 215);stroke:black;stroke-width:1.0\"/><circle cx=\"390\" cy=\"244\" r=\"3.0\" style=\"fill:rgb(66, 88, 202);stroke:black;stroke-width:1.0\"/><circle cx=\"118\" cy=\"210\" r=\"3.0\" style=\"fill:rgb(224, 218, 215);stroke:black;stroke-width:1.0\"/><circle cx=\"20\" cy=\"216\" r=\"3.0\" style=\"fill:rgb(224, 218, 215);stroke:black;stroke-width:1.0\"/><circle cx=\"572\" cy=\"269\" r=\"3.0\" style=\"fill:rgb(58, 76, 192);stroke:black;stroke-width:1.0\"/><circle cx=\"720\" cy=\"280\" r=\"3.0\" style=\"fill:rgb(224, 218, 215);stroke:black;stroke-width:1.0\"/><circle cx=\"368\" cy=\"520\" r=\"3.0\" style=\"fill:rgb(224, 218, 215);stroke:black;stroke-width:1.0\"/><circle cx=\"62\" cy=\"442\" r=\"3.0\" style=\"fill:rgb(224, 218, 215);stroke:black;stroke-width:1.0\"/><circle cx=\"390\" cy=\"263\" r=\"3.0\" style=\"fill:rgb(179, 3, 38);stroke:black;stroke-width:1.0\"/><circle cx=\"279\" cy=\"405\" r=\"3.0\" style=\"fill:rgb(224, 218, 215);stroke:black;stroke-width:1.0\"/><circle cx=\"570\" cy=\"311\" r=\"3.0\" style=\"fill:rgb(225, 104, 82);stroke:black;stroke-width:1.0\"/><circle cx=\"541\" cy=\"36\" r=\"3.0\" style=\"fill:rgb(224, 218, 215);stroke:black;stroke-width:1.0\"/><circle cx=\"339\" cy=\"110\" r=\"3.0\" style=\"fill:rgb(224, 218, 215);stroke:black;stroke-width:1.0\"/><circle cx=\"389\" cy=\"283\" r=\"3.0\" style=\"fill:rgb(179, 3, 38);stroke:black;stroke-width:1.0\"/><circle cx=\"571\" cy=\"289\" r=\"3.0\" style=\"fill:rgb(227, 108, 84);stroke:black;stroke-width:1.0\"/><text font-size=\"10\" x=\"282\" y=\"393\">Gryphon</text><text font-size=\"10\" x=\"395\" y=\"305\">Lory</text><text font-size=\"10\" x=\"573\" y=\"356\">Dormouse</text><text font-size=\"10\" x=\"184\" y=\"277\">Cheshire Cat</text><text font-size=\"10\" x=\"168\" y=\"379\">William the Conqueror</text><text font-size=\"10\" x=\"575\" y=\"336\">Hatter</text><text font-size=\"10\" x=\"331\" y=\"108\">Queens</text><text font-size=\"10\" x=\"388\" y=\"23\">Mouse</text><text font-size=\"10\" x=\"37\" y=\"338\">Lobster Quadrille</text><text font-size=\"10\" x=\"396\" y=\"247\">Mary Ann</text><text font-size=\"10\" x=\"124\" y=\"213\">Bill</text><text font-size=\"10\" x=\"26\" y=\"219\">Fender</text><text font-size=\"10\" x=\"578\" y=\"272\">Cat</text><text font-size=\"10\" x=\"726\" y=\"283\">Caterpillar</text><text font-size=\"10\" x=\"374\" y=\"523\">Pigeon</text><text font-size=\"10\" x=\"68\" y=\"445\">Fish-Footman</text><text font-size=\"10\" x=\"396\" y=\"266\">Rabbit</text><text font-size=\"10\" x=\"285\" y=\"408\">Soup</text><text font-size=\"10\" x=\"576\" y=\"314\">Hare</text><text font-size=\"10\" x=\"547\" y=\"39\">Mabel</text><text font-size=\"10\" x=\"345\" y=\"113\">Kings</text><text font-size=\"10\" x=\"395\" y=\"286\">Dinah</text><text font-size=\"10\" x=\"577\" y=\"292\">Duchess</text></svg>"
      ],
      "text/plain": [
       "<IPython.core.display.SVG object>"
      ]
     },
     "execution_count": 91,
     "metadata": {},
     "output_type": "execute_result"
    }
   ],
   "source": [
    "ego = top_nodes[0]\n",
    "\n",
    "G_ego = nx.ego_graph(G, ego, center=False)\n",
    "\n",
    "draw_graph(G_ego, show_names=True, node_size=3, edge_width=0.3)"
   ]
  },
  {
   "cell_type": "code",
   "execution_count": 61,
   "id": "d8367777",
   "metadata": {},
   "outputs": [
    {
     "data": {
      "image/svg+xml": [
       "<svg height=\"540\" width=\"780.0\" xmlns=\"http://www.w3.org/2000/svg\"><path d=\"M 65 149 20 306\" stroke=\"gray\" stroke-width=\"0.3\"/><path d=\"M 65 149 383 278\" stroke=\"gray\" stroke-width=\"0.3\"/><path d=\"M 530 520 556 393\" stroke=\"gray\" stroke-width=\"0.3\"/><path d=\"M 530 520 383 278\" stroke=\"gray\" stroke-width=\"0.3\"/><path d=\"M 530 520 720 388\" stroke=\"gray\" stroke-width=\"0.3\"/><path d=\"M 20 306 65 149\" stroke=\"gray\" stroke-width=\"0.3\"/><path d=\"M 20 306 383 278\" stroke=\"gray\" stroke-width=\"0.3\"/><path d=\"M 496 20 383 278\" stroke=\"gray\" stroke-width=\"0.3\"/><path d=\"M 556 393 530 520\" stroke=\"gray\" stroke-width=\"0.3\"/><path d=\"M 556 393 383 278\" stroke=\"gray\" stroke-width=\"0.3\"/><path d=\"M 556 393 720 388\" stroke=\"gray\" stroke-width=\"0.3\"/><path d=\"M 383 278 65 149\" stroke=\"gray\" stroke-width=\"0.3\"/><path d=\"M 383 278 530 520\" stroke=\"gray\" stroke-width=\"0.3\"/><path d=\"M 383 278 20 306\" stroke=\"gray\" stroke-width=\"0.3\"/><path d=\"M 383 278 496 20\" stroke=\"gray\" stroke-width=\"0.3\"/><path d=\"M 383 278 556 393\" stroke=\"gray\" stroke-width=\"0.3\"/><path d=\"M 383 278 720 388\" stroke=\"gray\" stroke-width=\"0.3\"/><path d=\"M 720 388 530 520\" stroke=\"gray\" stroke-width=\"0.3\"/><path d=\"M 720 388 556 393\" stroke=\"gray\" stroke-width=\"0.3\"/><path d=\"M 720 388 383 278\" stroke=\"gray\" stroke-width=\"0.3\"/><circle cx=\"65\" cy=\"149\" r=\"3.0\" style=\"fill:rgb(123, 158, 248);stroke:black;stroke-width:1.0\"/><circle cx=\"530\" cy=\"520\" r=\"3.0\" style=\"fill:rgb(176, 203, 251);stroke:black;stroke-width:1.0\"/><circle cx=\"20\" cy=\"306\" r=\"3.0\" style=\"fill:rgb(123, 158, 248);stroke:black;stroke-width:1.0\"/><circle cx=\"496\" cy=\"20\" r=\"3.0\" style=\"fill:rgb(58, 76, 192);stroke:black;stroke-width:1.0\"/><circle cx=\"556\" cy=\"393\" r=\"3.0\" style=\"fill:rgb(176, 203, 251);stroke:black;stroke-width:1.0\"/><circle cx=\"383\" cy=\"278\" r=\"3.0\" style=\"fill:rgb(179, 3, 38);stroke:black;stroke-width:1.0\"/><circle cx=\"720\" cy=\"388\" r=\"3.0\" style=\"fill:rgb(176, 203, 251);stroke:black;stroke-width:1.0\"/><text font-size=\"10\" x=\"71\" y=\"152\">Alice</text><text font-size=\"10\" x=\"536\" y=\"523\">Lacie</text><text font-size=\"10\" x=\"26\" y=\"309\">Hatter</text><text font-size=\"10\" x=\"502\" y=\"23\">Treacle</text><text font-size=\"10\" x=\"562\" y=\"396\">Elsie</text><text font-size=\"10\" x=\"389\" y=\"281\">Dormouse</text><text font-size=\"10\" x=\"726\" y=\"391\">Tillie</text></svg>"
      ],
      "text/plain": [
       "<IPython.core.display.SVG object>"
      ]
     },
     "execution_count": 61,
     "metadata": {},
     "output_type": "execute_result"
    }
   ],
   "source": [
    "ego = top_nodes[1]\n",
    "\n",
    "G_ego = nx.ego_graph(G, ego)\n",
    "\n",
    "draw_graph(G_ego, show_names=True, node_size=3, edge_width=0.3)"
   ]
  },
  {
   "cell_type": "code",
   "execution_count": 62,
   "id": "da93b90d",
   "metadata": {},
   "outputs": [
    {
     "data": {
      "image/svg+xml": [
       "<svg height=\"540\" width=\"780.0\" xmlns=\"http://www.w3.org/2000/svg\"><path d=\"M 241 20 549 54\" stroke=\"gray\" stroke-width=\"0.3\"/><path d=\"M 241 20 20 134\" stroke=\"gray\" stroke-width=\"0.3\"/><path d=\"M 241 20 357 230\" stroke=\"gray\" stroke-width=\"0.3\"/><path d=\"M 297 520 357 230\" stroke=\"gray\" stroke-width=\"0.3\"/><path d=\"M 549 54 241 20\" stroke=\"gray\" stroke-width=\"0.3\"/><path d=\"M 549 54 720 210\" stroke=\"gray\" stroke-width=\"0.3\"/><path d=\"M 549 54 357 230\" stroke=\"gray\" stroke-width=\"0.3\"/><path d=\"M 720 210 549 54\" stroke=\"gray\" stroke-width=\"0.3\"/><path d=\"M 720 210 357 230\" stroke=\"gray\" stroke-width=\"0.3\"/><path d=\"M 20 134 241 20\" stroke=\"gray\" stroke-width=\"0.3\"/><path d=\"M 20 134 357 230\" stroke=\"gray\" stroke-width=\"0.3\"/><path d=\"M 357 230 241 20\" stroke=\"gray\" stroke-width=\"0.3\"/><path d=\"M 357 230 297 520\" stroke=\"gray\" stroke-width=\"0.3\"/><path d=\"M 357 230 549 54\" stroke=\"gray\" stroke-width=\"0.3\"/><path d=\"M 357 230 720 210\" stroke=\"gray\" stroke-width=\"0.3\"/><path d=\"M 357 230 20 134\" stroke=\"gray\" stroke-width=\"0.3\"/><circle cx=\"241\" cy=\"20\" r=\"3.0\" style=\"fill:rgb(210, 218, 231);stroke:black;stroke-width:1.0\"/><circle cx=\"297\" cy=\"520\" r=\"3.0\" style=\"fill:rgb(58, 76, 192);stroke:black;stroke-width:1.0\"/><circle cx=\"549\" cy=\"54\" r=\"3.0\" style=\"fill:rgb(210, 218, 231);stroke:black;stroke-width:1.0\"/><circle cx=\"720\" cy=\"210\" r=\"3.0\" style=\"fill:rgb(130, 165, 251);stroke:black;stroke-width:1.0\"/><circle cx=\"20\" cy=\"134\" r=\"3.0\" style=\"fill:rgb(130, 165, 251);stroke:black;stroke-width:1.0\"/><circle cx=\"357\" cy=\"230\" r=\"3.0\" style=\"fill:rgb(179, 3, 38);stroke:black;stroke-width:1.0\"/><text font-size=\"10\" x=\"247\" y=\"23\">Alice</text><text font-size=\"10\" x=\"303\" y=\"523\">Cheshire</text><text font-size=\"10\" x=\"555\" y=\"57\">Hare</text><text font-size=\"10\" x=\"726\" y=\"213\">Lizard</text><text font-size=\"10\" x=\"26\" y=\"137\">Cat</text><text font-size=\"10\" x=\"363\" y=\"233\">Duchess</text></svg>"
      ],
      "text/plain": [
       "<IPython.core.display.SVG object>"
      ]
     },
     "execution_count": 62,
     "metadata": {},
     "output_type": "execute_result"
    }
   ],
   "source": [
    "ego = top_nodes[2]\n",
    "\n",
    "G_ego = nx.ego_graph(G, ego)\n",
    "\n",
    "draw_graph(G_ego, show_names=True, node_size=3, edge_width=0.3)"
   ]
  },
  {
   "cell_type": "code",
   "execution_count": 63,
   "id": "de9805bf",
   "metadata": {},
   "outputs": [
    {
     "data": {
      "image/svg+xml": [
       "<svg height=\"540\" width=\"770.0\" xmlns=\"http://www.w3.org/2000/svg\"><path d=\"M 116 520 377 319\" stroke=\"gray\" stroke-width=\"0.3\"/><path d=\"M 116 520 20 319\" stroke=\"gray\" stroke-width=\"0.3\"/><path d=\"M 503 20 377 319\" stroke=\"gray\" stroke-width=\"0.3\"/><path d=\"M 720 455 377 319\" stroke=\"gray\" stroke-width=\"0.3\"/><path d=\"M 377 319 116 520\" stroke=\"gray\" stroke-width=\"0.3\"/><path d=\"M 377 319 503 20\" stroke=\"gray\" stroke-width=\"0.3\"/><path d=\"M 377 319 720 455\" stroke=\"gray\" stroke-width=\"0.3\"/><path d=\"M 377 319 20 319\" stroke=\"gray\" stroke-width=\"0.3\"/><path d=\"M 20 319 116 520\" stroke=\"gray\" stroke-width=\"0.3\"/><path d=\"M 20 319 377 319\" stroke=\"gray\" stroke-width=\"0.3\"/><circle cx=\"116\" cy=\"520\" r=\"3.0\" style=\"fill:rgb(159, 190, 254);stroke:black;stroke-width:1.0\"/><circle cx=\"503\" cy=\"20\" r=\"3.0\" style=\"fill:rgb(58, 76, 192);stroke:black;stroke-width:1.0\"/><circle cx=\"720\" cy=\"455\" r=\"3.0\" style=\"fill:rgb(58, 76, 192);stroke:black;stroke-width:1.0\"/><circle cx=\"377\" cy=\"319\" r=\"3.0\" style=\"fill:rgb(179, 3, 38);stroke:black;stroke-width:1.0\"/><circle cx=\"20\" cy=\"319\" r=\"3.0\" style=\"fill:rgb(159, 190, 254);stroke:black;stroke-width:1.0\"/><text font-size=\"10\" x=\"122\" y=\"523\">Alice</text><text font-size=\"10\" x=\"509\" y=\"23\">Eaglet</text><text font-size=\"10\" x=\"726\" y=\"458\">Crab</text><text font-size=\"10\" x=\"383\" y=\"322\">Lory</text><text font-size=\"10\" x=\"26\" y=\"322\">Dinah</text></svg>"
      ],
      "text/plain": [
       "<IPython.core.display.SVG object>"
      ]
     },
     "execution_count": 63,
     "metadata": {},
     "output_type": "execute_result"
    }
   ],
   "source": [
    "ego = top_nodes[3]\n",
    "\n",
    "G_ego = nx.ego_graph(G, ego)\n",
    "\n",
    "draw_graph(G_ego, show_names=True, node_size=3, edge_width=0.3)"
   ]
  },
  {
   "cell_type": "code",
   "execution_count": 64,
   "id": "2ae509d0",
   "metadata": {},
   "outputs": [
    {
     "data": {
      "image/svg+xml": [
       "<svg height=\"540\" width=\"780.0\" xmlns=\"http://www.w3.org/2000/svg\"><path d=\"M 328 214 38 20\" stroke=\"gray\" stroke-width=\"0.3\"/><path d=\"M 328 214 20 302\" stroke=\"gray\" stroke-width=\"0.3\"/><path d=\"M 328 214 199 520\" stroke=\"gray\" stroke-width=\"0.3\"/><path d=\"M 328 214 720 100\" stroke=\"gray\" stroke-width=\"0.3\"/><path d=\"M 38 20 328 214\" stroke=\"gray\" stroke-width=\"0.3\"/><path d=\"M 38 20 20 302\" stroke=\"gray\" stroke-width=\"0.3\"/><path d=\"M 20 302 328 214\" stroke=\"gray\" stroke-width=\"0.3\"/><path d=\"M 20 302 38 20\" stroke=\"gray\" stroke-width=\"0.3\"/><path d=\"M 20 302 199 520\" stroke=\"gray\" stroke-width=\"0.3\"/><path d=\"M 199 520 328 214\" stroke=\"gray\" stroke-width=\"0.3\"/><path d=\"M 199 520 20 302\" stroke=\"gray\" stroke-width=\"0.3\"/><path d=\"M 720 100 328 214\" stroke=\"gray\" stroke-width=\"0.3\"/><circle cx=\"328\" cy=\"214\" r=\"3.0\" style=\"fill:rgb(179, 3, 38);stroke:black;stroke-width:1.0\"/><circle cx=\"38\" cy=\"20\" r=\"3.0\" style=\"fill:rgb(159, 190, 254);stroke:black;stroke-width:1.0\"/><circle cx=\"20\" cy=\"302\" r=\"3.0\" style=\"fill:rgb(244, 195, 171);stroke:black;stroke-width:1.0\"/><circle cx=\"199\" cy=\"520\" r=\"3.0\" style=\"fill:rgb(159, 190, 254);stroke:black;stroke-width:1.0\"/><circle cx=\"720\" cy=\"100\" r=\"3.0\" style=\"fill:rgb(58, 76, 192);stroke:black;stroke-width:1.0\"/><text font-size=\"10\" x=\"334\" y=\"217\">Rabbit</text><text font-size=\"10\" x=\"44\" y=\"23\">Mary Ann</text><text font-size=\"10\" x=\"26\" y=\"305\">Alice</text><text font-size=\"10\" x=\"205\" y=\"523\">Dinah</text><text font-size=\"10\" x=\"726\" y=\"103\">Pat</text></svg>"
      ],
      "text/plain": [
       "<IPython.core.display.SVG object>"
      ]
     },
     "execution_count": 64,
     "metadata": {},
     "output_type": "execute_result"
    }
   ],
   "source": [
    "ego = top_nodes[4]\n",
    "\n",
    "G_ego = nx.ego_graph(G, ego)\n",
    "\n",
    "draw_graph(G_ego, show_names=True, node_size=3, edge_width=0.3)"
   ]
  },
  {
   "cell_type": "markdown",
   "id": "5f2c1e22",
   "metadata": {},
   "source": [
    "# Community Detection\n",
    "\n",
    "We have one large connected component, and this will be great for use in Community Detection. The smaller connected components are communities of their own in this network, split off from the main piece of this network."
   ]
  },
  {
   "cell_type": "code",
   "execution_count": 65,
   "id": "d3ab1da8",
   "metadata": {},
   "outputs": [],
   "source": [
    "def draw_partition(G, partition): \n",
    "\n",
    "    import matplotlib.cm as cm \n",
    "    import matplotlib.pyplot as plt \n",
    "\n",
    "    # draw the graph \n",
    "    plt.figure(3,figsize=(12,12)) \n",
    "    pos = nx.spring_layout(G) \n",
    "\n",
    "    # color the nodes according to their partition \n",
    "    cmap = cm.get_cmap('jet', max(partition.values()) + 1) \n",
    "    nx.draw_networkx_nodes(G, pos, partition.keys(), node_size=40, cmap=cmap, node_color=list(partition.values())) \n",
    "    nx.draw_networkx_edges(G, pos, alpha=0.5, width=0.3) \n",
    "\n",
    "    return plt.show() "
   ]
  },
  {
   "cell_type": "code",
   "execution_count": 66,
   "id": "b1176e7f",
   "metadata": {},
   "outputs": [],
   "source": [
    "# identify communities; set resolution to 0.01 for smaller groups and 1 for larger groups, etc\n",
    "# play with the number to get communities to the size you want them, or leave it at the default\n",
    "\n",
    "import community as community_louvain\n",
    "\n",
    "partition = community_louvain.best_partition(G, resolution=10, random_state=1337) # 10 was good for this network"
   ]
  },
  {
   "cell_type": "code",
   "execution_count": 67,
   "id": "46ce1f51",
   "metadata": {},
   "outputs": [
    {
     "data": {
      "image/png": "[encoded data removed]",
      "text/plain": [
       "<Figure size 864x864 with 1 Axes>"
      ]
     },
     "metadata": {},
     "output_type": "display_data"
    }
   ],
   "source": [
    "draw_partition(G, partition)"
   ]
  },
  {
   "cell_type": "code",
   "execution_count": 68,
   "id": "b0a3811a",
   "metadata": {},
   "outputs": [
    {
     "data": {
      "text/plain": [
       "2    37\n",
       "5     6\n",
       "3     3\n",
       "1     2\n",
       "0     2\n",
       "4     1\n",
       "Name: community, dtype: int64"
      ]
     },
     "execution_count": 68,
     "metadata": {},
     "output_type": "execute_result"
    }
   ],
   "source": [
    "community_df = pd.DataFrame().from_dict(partition, orient='index')\n",
    "community_df.reset_index(inplace=True)\n",
    "community_df.columns = ['node', 'community']\n",
    "\n",
    "# remove junk; identify relevant communities\n",
    "\n",
    "community_df['community'].value_counts()[0:20]"
   ]
  },
  {
   "cell_type": "code",
   "execution_count": 69,
   "id": "fd6878d9",
   "metadata": {},
   "outputs": [
    {
     "data": {
      "text/plain": [
       "array([2, 5, 3, 1, 0, 4], dtype=int64)"
      ]
     },
     "execution_count": 69,
     "metadata": {},
     "output_type": "execute_result"
    }
   ],
   "source": [
    "comm_idx = community_df['community'].value_counts()[0:20].index.values\n",
    "comm_idx"
   ]
  },
  {
   "cell_type": "markdown",
   "id": "233c89fa",
   "metadata": {},
   "source": [
    "## Exploring Communities\n",
    "Below, I am showing the largest community in the network."
   ]
  },
  {
   "cell_type": "code",
   "execution_count": 70,
   "id": "89f59e75",
   "metadata": {},
   "outputs": [
    {
     "data": {
      "image/svg+xml": [
       "<svg height=\"540\" width=\"845.0\" xmlns=\"http://www.w3.org/2000/svg\"><path d=\"M 340 277 336 414\" stroke=\"gray\" stroke-width=\"0.5\"/><path d=\"M 340 277 265 364\" stroke=\"gray\" stroke-width=\"0.5\"/><path d=\"M 340 277 235 184\" stroke=\"gray\" stroke-width=\"0.5\"/><path d=\"M 340 277 504 219\" stroke=\"gray\" stroke-width=\"0.5\"/><path d=\"M 340 277 277 123\" stroke=\"gray\" stroke-width=\"0.5\"/><path d=\"M 340 277 192 419\" stroke=\"gray\" stroke-width=\"0.5\"/><path d=\"M 340 277 221 326\" stroke=\"gray\" stroke-width=\"0.5\"/><path d=\"M 340 277 152 332\" stroke=\"gray\" stroke-width=\"0.5\"/><path d=\"M 340 277 397 228\" stroke=\"gray\" stroke-width=\"0.5\"/><path d=\"M 340 277 357 377\" stroke=\"gray\" stroke-width=\"0.5\"/><path d=\"M 340 277 339 169\" stroke=\"gray\" stroke-width=\"0.5\"/><path d=\"M 340 277 295 195\" stroke=\"gray\" stroke-width=\"0.5\"/><path d=\"M 340 277 194 219\" stroke=\"gray\" stroke-width=\"0.5\"/><path d=\"M 340 277 261 239\" stroke=\"gray\" stroke-width=\"0.5\"/><path d=\"M 340 277 463 269\" stroke=\"gray\" stroke-width=\"0.5\"/><path d=\"M 340 277 526 200\" stroke=\"gray\" stroke-width=\"0.5\"/><path d=\"M 340 277 453 188\" stroke=\"gray\" stroke-width=\"0.5\"/><path d=\"M 340 277 594 278\" stroke=\"gray\" stroke-width=\"0.5\"/><path d=\"M 340 277 208 272\" stroke=\"gray\" stroke-width=\"0.5\"/><path d=\"M 340 277 256 302\" stroke=\"gray\" stroke-width=\"0.5\"/><path d=\"M 340 277 418 357\" stroke=\"gray\" stroke-width=\"0.5\"/><path d=\"M 340 277 469 328\" stroke=\"gray\" stroke-width=\"0.5\"/><path d=\"M 340 277 394 326\" stroke=\"gray\" stroke-width=\"0.5\"/><path d=\"M 336 414 340 277\" stroke=\"gray\" stroke-width=\"0.5\"/><path d=\"M 336 414 265 364\" stroke=\"gray\" stroke-width=\"0.5\"/><path d=\"M 336 414 357 377\" stroke=\"gray\" stroke-width=\"0.5\"/><path d=\"M 336 414 355 520\" stroke=\"gray\" stroke-width=\"0.5\"/><path d=\"M 265 364 340 277\" stroke=\"gray\" stroke-width=\"0.5\"/><path d=\"M 265 364 336 414\" stroke=\"gray\" stroke-width=\"0.5\"/><path d=\"M 265 364 152 332\" stroke=\"gray\" stroke-width=\"0.5\"/><path d=\"M 235 184 340 277\" stroke=\"gray\" stroke-width=\"0.5\"/><path d=\"M 504 219 340 277\" stroke=\"gray\" stroke-width=\"0.5\"/><path d=\"M 504 219 657 211\" stroke=\"gray\" stroke-width=\"0.5\"/><path d=\"M 504 219 463 269\" stroke=\"gray\" stroke-width=\"0.5\"/><path d=\"M 504 219 453 188\" stroke=\"gray\" stroke-width=\"0.5\"/><path d=\"M 504 219 513 133\" stroke=\"gray\" stroke-width=\"0.5\"/><path d=\"M 277 123 340 277\" stroke=\"gray\" stroke-width=\"0.5\"/><path d=\"M 277 123 239 20\" stroke=\"gray\" stroke-width=\"0.5\"/><path d=\"M 239 20 277 123\" stroke=\"gray\" stroke-width=\"0.5\"/><path d=\"M 192 419 340 277\" stroke=\"gray\" stroke-width=\"0.5\"/><path d=\"M 192 419 80 487\" stroke=\"gray\" stroke-width=\"0.5\"/><path d=\"M 192 419 121 510\" stroke=\"gray\" stroke-width=\"0.5\"/><path d=\"M 221 326 340 277\" stroke=\"gray\" stroke-width=\"0.5\"/><path d=\"M 69 406 152 332\" stroke=\"gray\" stroke-width=\"0.5\"/><path d=\"M 152 332 340 277\" stroke=\"gray\" stroke-width=\"0.5\"/><path d=\"M 152 332 265 364\" stroke=\"gray\" stroke-width=\"0.5\"/><path d=\"M 152 332 69 406\" stroke=\"gray\" stroke-width=\"0.5\"/><path d=\"M 152 332 20 288\" stroke=\"gray\" stroke-width=\"0.5\"/><path d=\"M 80 487 192 419\" stroke=\"gray\" stroke-width=\"0.5\"/><path d=\"M 80 487 121 510\" stroke=\"gray\" stroke-width=\"0.5\"/><path d=\"M 121 510 192 419\" stroke=\"gray\" stroke-width=\"0.5\"/><path d=\"M 121 510 80 487\" stroke=\"gray\" stroke-width=\"0.5\"/><path d=\"M 20 288 152 332\" stroke=\"gray\" stroke-width=\"0.5\"/><path d=\"M 397 228 340 277\" stroke=\"gray\" stroke-width=\"0.5\"/><path d=\"M 357 377 340 277\" stroke=\"gray\" stroke-width=\"0.5\"/><path d=\"M 357 377 336 414\" stroke=\"gray\" stroke-width=\"0.5\"/><path d=\"M 355 520 336 414\" stroke=\"gray\" stroke-width=\"0.5\"/><path d=\"M 339 169 340 277\" stroke=\"gray\" stroke-width=\"0.5\"/><path d=\"M 295 195 340 277\" stroke=\"gray\" stroke-width=\"0.5\"/><path d=\"M 194 219 340 277\" stroke=\"gray\" stroke-width=\"0.5\"/><path d=\"M 657 211 504 219\" stroke=\"gray\" stroke-width=\"0.5\"/><path d=\"M 261 239 340 277\" stroke=\"gray\" stroke-width=\"0.5\"/><path d=\"M 463 269 340 277\" stroke=\"gray\" stroke-width=\"0.5\"/><path d=\"M 463 269 504 219\" stroke=\"gray\" stroke-width=\"0.5\"/><path d=\"M 526 200 340 277\" stroke=\"gray\" stroke-width=\"0.5\"/><path d=\"M 526 200 453 188\" stroke=\"gray\" stroke-width=\"0.5\"/><path d=\"M 526 200 594 278\" stroke=\"gray\" stroke-width=\"0.5\"/><path d=\"M 526 200 628 112\" stroke=\"gray\" stroke-width=\"0.5\"/><path d=\"M 453 188 340 277\" stroke=\"gray\" stroke-width=\"0.5\"/><path d=\"M 453 188 504 219\" stroke=\"gray\" stroke-width=\"0.5\"/><path d=\"M 453 188 526 200\" stroke=\"gray\" stroke-width=\"0.5\"/><path d=\"M 453 188 513 133\" stroke=\"gray\" stroke-width=\"0.5\"/><path d=\"M 594 278 340 277\" stroke=\"gray\" stroke-width=\"0.5\"/><path d=\"M 594 278 526 200\" stroke=\"gray\" stroke-width=\"0.5\"/><path d=\"M 594 278 720 339\" stroke=\"gray\" stroke-width=\"0.5\"/><path d=\"M 594 278 717 308\" stroke=\"gray\" stroke-width=\"0.5\"/><path d=\"M 594 278 678 347\" stroke=\"gray\" stroke-width=\"0.5\"/><path d=\"M 594 278 671 186\" stroke=\"gray\" stroke-width=\"0.5\"/><path d=\"M 628 112 526 200\" stroke=\"gray\" stroke-width=\"0.5\"/><path d=\"M 720 339 594 278\" stroke=\"gray\" stroke-width=\"0.5\"/><path d=\"M 720 339 717 308\" stroke=\"gray\" stroke-width=\"0.5\"/><path d=\"M 720 339 678 347\" stroke=\"gray\" stroke-width=\"0.5\"/><path d=\"M 717 308 594 278\" stroke=\"gray\" stroke-width=\"0.5\"/><path d=\"M 717 308 720 339\" stroke=\"gray\" stroke-width=\"0.5\"/><path d=\"M 717 308 678 347\" stroke=\"gray\" stroke-width=\"0.5\"/><path d=\"M 678 347 594 278\" stroke=\"gray\" stroke-width=\"0.5\"/><path d=\"M 678 347 720 339\" stroke=\"gray\" stroke-width=\"0.5\"/><path d=\"M 678 347 717 308\" stroke=\"gray\" stroke-width=\"0.5\"/><path d=\"M 671 186 594 278\" stroke=\"gray\" stroke-width=\"0.5\"/><path d=\"M 208 272 340 277\" stroke=\"gray\" stroke-width=\"0.5\"/><path d=\"M 208 272 256 302\" stroke=\"gray\" stroke-width=\"0.5\"/><path d=\"M 256 302 340 277\" stroke=\"gray\" stroke-width=\"0.5\"/><path d=\"M 256 302 208 272\" stroke=\"gray\" stroke-width=\"0.5\"/><path d=\"M 418 357 340 277\" stroke=\"gray\" stroke-width=\"0.5\"/><path d=\"M 418 357 394 326\" stroke=\"gray\" stroke-width=\"0.5\"/><path d=\"M 469 328 340 277\" stroke=\"gray\" stroke-width=\"0.5\"/><path d=\"M 394 326 340 277\" stroke=\"gray\" stroke-width=\"0.5\"/><path d=\"M 394 326 418 357\" stroke=\"gray\" stroke-width=\"0.5\"/><path d=\"M 513 133 504 219\" stroke=\"gray\" stroke-width=\"0.5\"/><path d=\"M 513 133 453 188\" stroke=\"gray\" stroke-width=\"0.5\"/><circle cx=\"340\" cy=\"277\" r=\"3.0\" style=\"fill:rgb(179, 3, 38);stroke:black;stroke-width:1.0\"/><circle cx=\"336\" cy=\"414\" r=\"3.0\" style=\"fill:rgb(99, 131, 234);stroke:black;stroke-width:1.0\"/><circle cx=\"265\" cy=\"364\" r=\"3.0\" style=\"fill:rgb(86, 115, 224);stroke:black;stroke-width:1.0\"/><circle cx=\"235\" cy=\"184\" r=\"3.0\" style=\"fill:rgb(58, 76, 192);stroke:black;stroke-width:1.0\"/><circle cx=\"504\" cy=\"219\" r=\"3.0\" style=\"fill:rgb(112, 147, 243);stroke:black;stroke-width:1.0\"/><circle cx=\"277\" cy=\"123\" r=\"3.0\" style=\"fill:rgb(76, 102, 214);stroke:black;stroke-width:1.0\"/><circle cx=\"239\" cy=\"20\" r=\"3.0\" style=\"fill:rgb(60, 79, 195);stroke:black;stroke-width:1.0\"/><circle cx=\"192\" cy=\"419\" r=\"3.0\" style=\"fill:rgb(86, 115, 224);stroke:black;stroke-width:1.0\"/><circle cx=\"221\" cy=\"326\" r=\"3.0\" style=\"fill:rgb(58, 76, 192);stroke:black;stroke-width:1.0\"/><circle cx=\"69\" cy=\"406\" r=\"3.0\" style=\"fill:rgb(58, 76, 192);stroke:black;stroke-width:1.0\"/><circle cx=\"152\" cy=\"332\" r=\"3.0\" style=\"fill:rgb(105, 139, 239);stroke:black;stroke-width:1.0\"/><circle cx=\"80\" cy=\"487\" r=\"3.0\" style=\"fill:rgb(72, 96, 209);stroke:black;stroke-width:1.0\"/><circle cx=\"121\" cy=\"510\" r=\"3.0\" style=\"fill:rgb(72, 96, 209);stroke:black;stroke-width:1.0\"/><circle cx=\"20\" cy=\"288\" r=\"3.0\" style=\"fill:rgb(58, 76, 192);stroke:black;stroke-width:1.0\"/><circle cx=\"397\" cy=\"228\" r=\"3.0\" style=\"fill:rgb(58, 76, 192);stroke:black;stroke-width:1.0\"/><circle cx=\"357\" cy=\"377\" r=\"3.0\" style=\"fill:rgb(70, 93, 207);stroke:black;stroke-width:1.0\"/><circle cx=\"355\" cy=\"520\" r=\"3.0\" style=\"fill:rgb(58, 76, 192);stroke:black;stroke-width:1.0\"/><circle cx=\"339\" cy=\"169\" r=\"3.0\" style=\"fill:rgb(58, 76, 192);stroke:black;stroke-width:1.0\"/><circle cx=\"295\" cy=\"195\" r=\"3.0\" style=\"fill:rgb(58, 76, 192);stroke:black;stroke-width:1.0\"/><circle cx=\"194\" cy=\"219\" r=\"3.0\" style=\"fill:rgb(58, 76, 192);stroke:black;stroke-width:1.0\"/><circle cx=\"657\" cy=\"211\" r=\"3.0\" style=\"fill:rgb(58, 76, 192);stroke:black;stroke-width:1.0\"/><circle cx=\"261\" cy=\"239\" r=\"3.0\" style=\"fill:rgb(58, 76, 192);stroke:black;stroke-width:1.0\"/><circle cx=\"463\" cy=\"269\" r=\"3.0\" style=\"fill:rgb(70, 93, 207);stroke:black;stroke-width:1.0\"/><circle cx=\"526\" cy=\"200\" r=\"3.0\" style=\"fill:rgb(96, 128, 232);stroke:black;stroke-width:1.0\"/><circle cx=\"453\" cy=\"188\" r=\"3.0\" style=\"fill:rgb(96, 128, 232);stroke:black;stroke-width:1.0\"/><circle cx=\"594\" cy=\"278\" r=\"3.0\" style=\"fill:rgb(120, 155, 247);stroke:black;stroke-width:1.0\"/><circle cx=\"628\" cy=\"112\" r=\"3.0\" style=\"fill:rgb(58, 76, 192);stroke:black;stroke-width:1.0\"/><circle cx=\"720\" cy=\"339\" r=\"3.0\" style=\"fill:rgb(80, 107, 218);stroke:black;stroke-width:1.0\"/><circle cx=\"717\" cy=\"308\" r=\"3.0\" style=\"fill:rgb(80, 107, 218);stroke:black;stroke-width:1.0\"/><circle cx=\"678\" cy=\"347\" r=\"3.0\" style=\"fill:rgb(80, 107, 218);stroke:black;stroke-width:1.0\"/><circle cx=\"671\" cy=\"186\" r=\"3.0\" style=\"fill:rgb(58, 76, 192);stroke:black;stroke-width:1.0\"/><circle cx=\"208\" cy=\"272\" r=\"3.0\" style=\"fill:rgb(70, 93, 207);stroke:black;stroke-width:1.0\"/><circle cx=\"256\" cy=\"302\" r=\"3.0\" style=\"fill:rgb(70, 93, 207);stroke:black;stroke-width:1.0\"/><circle cx=\"418\" cy=\"357\" r=\"3.0\" style=\"fill:rgb(70, 93, 207);stroke:black;stroke-width:1.0\"/><circle cx=\"469\" cy=\"328\" r=\"3.0\" style=\"fill:rgb(58, 76, 192);stroke:black;stroke-width:1.0\"/><circle cx=\"394\" cy=\"326\" r=\"3.0\" style=\"fill:rgb(70, 93, 207);stroke:black;stroke-width:1.0\"/><circle cx=\"513\" cy=\"133\" r=\"3.0\" style=\"fill:rgb(70, 93, 207);stroke:black;stroke-width:1.0\"/><text font-size=\"10\" x=\"346\" y=\"280\">Alice</text><text font-size=\"10\" x=\"342\" y=\"417\">Rabbit</text><text font-size=\"10\" x=\"271\" y=\"367\">Dinah</text><text font-size=\"10\" x=\"241\" y=\"187\">Fender</text><text font-size=\"10\" x=\"510\" y=\"222\">Duchess</text><text font-size=\"10\" x=\"283\" y=\"126\">Mabel</text><text font-size=\"10\" x=\"245\" y=\"23\">Ada</text><text font-size=\"10\" x=\"198\" y=\"422\">Mouse</text><text font-size=\"10\" x=\"227\" y=\"329\">William the Conqueror</text><text font-size=\"10\" x=\"75\" y=\"409\">Eaglet</text><text font-size=\"10\" x=\"158\" y=\"335\">Lory</text><text font-size=\"10\" x=\"86\" y=\"490\">Edgar Atheling</text><text font-size=\"10\" x=\"127\" y=\"513\">William</text><text font-size=\"10\" x=\"26\" y=\"291\">Crab</text><text font-size=\"10\" x=\"403\" y=\"231\">Bill</text><text font-size=\"10\" x=\"363\" y=\"380\">Mary Ann</text><text font-size=\"10\" x=\"361\" y=\"523\">Pat</text><text font-size=\"10\" x=\"345\" y=\"172\">Caterpillar</text><text font-size=\"10\" x=\"301\" y=\"198\">Pigeon</text><text font-size=\"10\" x=\"200\" y=\"222\">Fish-Footman</text><text font-size=\"10\" x=\"663\" y=\"214\">Cheshire</text><text font-size=\"10\" x=\"267\" y=\"242\">Cheshire Cat</text><text font-size=\"10\" x=\"469\" y=\"272\">Cat</text><text font-size=\"10\" x=\"532\" y=\"203\">Hatter</text><text font-size=\"10\" x=\"459\" y=\"191\">Hare</text><text font-size=\"10\" x=\"600\" y=\"281\">Dormouse</text><text font-size=\"10\" x=\"634\" y=\"115\">Time</text><text font-size=\"10\" x=\"726\" y=\"342\">Elsie</text><text font-size=\"10\" x=\"723\" y=\"311\">Tillie</text><text font-size=\"10\" x=\"684\" y=\"350\">Lacie</text><text font-size=\"10\" x=\"677\" y=\"189\">Treacle</text><text font-size=\"10\" x=\"214\" y=\"275\">Queens</text><text font-size=\"10\" x=\"262\" y=\"305\">Kings</text><text font-size=\"10\" x=\"424\" y=\"360\">Gryphon</text><text font-size=\"10\" x=\"475\" y=\"331\">Lobster Quadrille</text><text font-size=\"10\" x=\"400\" y=\"329\">Soup</text><text font-size=\"10\" x=\"519\" y=\"136\">Lizard</text></svg>"
      ],
      "text/plain": [
       "<IPython.core.display.SVG object>"
      ]
     },
     "execution_count": 70,
     "metadata": {},
     "output_type": "execute_result"
    }
   ],
   "source": [
    "nodes = community_df[community_df['community']==comm_idx[0]]['node'].values\n",
    "\n",
    "G_comm = G.subgraph(nodes)\n",
    "G_net_main = G_comm.copy() # we will run community detection off of this at the end\n",
    "\n",
    "draw_graph(nx.k_core(G_comm, 1), show_names=True, node_size=3)"
   ]
  },
  {
   "cell_type": "code",
   "execution_count": 71,
   "id": "68fd8c6f",
   "metadata": {},
   "outputs": [
    {
     "name": "stdout",
     "output_type": "stream",
     "text": [
      "Ada\n",
      "Alice\n",
      "Bill\n",
      "Cat\n",
      "Caterpillar\n",
      "Cheshire\n",
      "Cheshire Cat\n",
      "Crab\n",
      "Dinah\n",
      "Dormouse\n",
      "Duchess\n",
      "Eaglet\n",
      "Edgar Atheling\n",
      "Elsie\n",
      "Fender\n",
      "Fish-Footman\n",
      "Gryphon\n",
      "Hare\n",
      "Hatter\n",
      "Kings\n",
      "Lacie\n",
      "Lizard\n",
      "Lobster Quadrille\n",
      "Lory\n",
      "Mabel\n",
      "Mary Ann\n",
      "Mouse\n",
      "Pat\n",
      "Pigeon\n",
      "Queens\n",
      "Rabbit\n",
      "Soup\n",
      "Tillie\n",
      "Time\n",
      "Treacle\n",
      "William\n",
      "William the Conqueror\n"
     ]
    },
    {
     "data": {
      "text/plain": [
       "[None,\n",
       " None,\n",
       " None,\n",
       " None,\n",
       " None,\n",
       " None,\n",
       " None,\n",
       " None,\n",
       " None,\n",
       " None,\n",
       " None,\n",
       " None,\n",
       " None,\n",
       " None,\n",
       " None,\n",
       " None,\n",
       " None,\n",
       " None,\n",
       " None,\n",
       " None,\n",
       " None,\n",
       " None,\n",
       " None,\n",
       " None,\n",
       " None,\n",
       " None,\n",
       " None,\n",
       " None,\n",
       " None,\n",
       " None,\n",
       " None,\n",
       " None,\n",
       " None,\n",
       " None,\n",
       " None,\n",
       " None,\n",
       " None]"
      ]
     },
     "execution_count": 71,
     "metadata": {},
     "output_type": "execute_result"
    }
   ],
   "source": [
    "nodes = [n for n in sorted(G_net_main.nodes)]\n",
    "[print(n) for n in nodes]"
   ]
  },
  {
   "cell_type": "markdown",
   "id": "1a1fb4fb",
   "metadata": {},
   "source": [
    "## More Communities!"
   ]
  },
  {
   "cell_type": "code",
   "execution_count": 72,
   "id": "489ddd48",
   "metadata": {},
   "outputs": [
    {
     "data": {
      "image/svg+xml": [
       "<svg height=\"540\" width=\"795.0\" xmlns=\"http://www.w3.org/2000/svg\"><path d=\"M 400 20 720 120\" stroke=\"gray\" stroke-width=\"0.5\"/><path d=\"M 400 20 20 88\" stroke=\"gray\" stroke-width=\"0.5\"/><path d=\"M 400 20 107 260\" stroke=\"gray\" stroke-width=\"0.5\"/><path d=\"M 400 20 498 279\" stroke=\"gray\" stroke-width=\"0.5\"/><path d=\"M 720 120 400 20\" stroke=\"gray\" stroke-width=\"0.5\"/><path d=\"M 720 120 20 88\" stroke=\"gray\" stroke-width=\"0.5\"/><path d=\"M 720 120 107 260\" stroke=\"gray\" stroke-width=\"0.5\"/><path d=\"M 720 120 498 279\" stroke=\"gray\" stroke-width=\"0.5\"/><path d=\"M 20 88 400 20\" stroke=\"gray\" stroke-width=\"0.5\"/><path d=\"M 20 88 720 120\" stroke=\"gray\" stroke-width=\"0.5\"/><path d=\"M 20 88 107 260\" stroke=\"gray\" stroke-width=\"0.5\"/><path d=\"M 20 88 498 279\" stroke=\"gray\" stroke-width=\"0.5\"/><path d=\"M 205 520 107 260\" stroke=\"gray\" stroke-width=\"0.5\"/><path d=\"M 205 520 498 279\" stroke=\"gray\" stroke-width=\"0.5\"/><path d=\"M 107 260 400 20\" stroke=\"gray\" stroke-width=\"0.5\"/><path d=\"M 107 260 720 120\" stroke=\"gray\" stroke-width=\"0.5\"/><path d=\"M 107 260 20 88\" stroke=\"gray\" stroke-width=\"0.5\"/><path d=\"M 107 260 205 520\" stroke=\"gray\" stroke-width=\"0.5\"/><path d=\"M 107 260 498 279\" stroke=\"gray\" stroke-width=\"0.5\"/><path d=\"M 498 279 400 20\" stroke=\"gray\" stroke-width=\"0.5\"/><path d=\"M 498 279 720 120\" stroke=\"gray\" stroke-width=\"0.5\"/><path d=\"M 498 279 20 88\" stroke=\"gray\" stroke-width=\"0.5\"/><path d=\"M 498 279 205 520\" stroke=\"gray\" stroke-width=\"0.5\"/><path d=\"M 498 279 107 260\" stroke=\"gray\" stroke-width=\"0.5\"/><circle cx=\"400\" cy=\"20\" r=\"3.0\" style=\"fill:rgb(244, 195, 171);stroke:black;stroke-width:1.0\"/><circle cx=\"720\" cy=\"120\" r=\"3.0\" style=\"fill:rgb(244, 195, 171);stroke:black;stroke-width:1.0\"/><circle cx=\"20\" cy=\"88\" r=\"3.0\" style=\"fill:rgb(244, 195, 171);stroke:black;stroke-width:1.0\"/><circle cx=\"205\" cy=\"520\" r=\"3.0\" style=\"fill:rgb(58, 76, 192);stroke:black;stroke-width:1.0\"/><circle cx=\"107\" cy=\"260\" r=\"3.0\" style=\"fill:rgb(179, 3, 38);stroke:black;stroke-width:1.0\"/><circle cx=\"498\" cy=\"279\" r=\"3.0\" style=\"fill:rgb(179, 3, 38);stroke:black;stroke-width:1.0\"/><text font-size=\"10\" x=\"406\" y=\"23\">Canterbury</text><text font-size=\"10\" x=\"726\" y=\"123\">Mercia</text><text font-size=\"10\" x=\"26\" y=\"91\">Stigand</text><text font-size=\"10\" x=\"211\" y=\"523\">Edwin</text><text font-size=\"10\" x=\"113\" y=\"263\">Morcar</text><text font-size=\"10\" x=\"504\" y=\"282\">Northumbria</text></svg>"
      ],
      "text/plain": [
       "<IPython.core.display.SVG object>"
      ]
     },
     "execution_count": 72,
     "metadata": {},
     "output_type": "execute_result"
    }
   ],
   "source": [
    "nodes = community_df[community_df['community']==comm_idx[1]]['node'].values\n",
    "\n",
    "G_comm = G.subgraph(nodes)\n",
    "\n",
    "draw_graph(nx.k_core(G_comm, 1), show_names=True, node_size=3)"
   ]
  },
  {
   "cell_type": "code",
   "execution_count": 73,
   "id": "03a0995f",
   "metadata": {},
   "outputs": [
    {
     "name": "stdout",
     "output_type": "stream",
     "text": [
      "Canterbury\n",
      "Edwin\n",
      "Mercia\n",
      "Morcar\n",
      "Northumbria\n",
      "Stigand\n"
     ]
    },
    {
     "data": {
      "text/plain": [
       "[None, None, None, None, None, None]"
      ]
     },
     "execution_count": 73,
     "metadata": {},
     "output_type": "execute_result"
    }
   ],
   "source": [
    "[print(n) for n in sorted(G_comm.nodes)]"
   ]
  },
  {
   "cell_type": "markdown",
   "id": "628c3d9c",
   "metadata": {},
   "source": [
    "# Use Any Text\n",
    "\n",
    "You can do this with any text whatsoever, whether it be literature, audio transcribed into text, online news, anything. If you have text and spaCy's NER models are able to extract entities, then this will work.\n",
    "\n",
    "This in no way diminishes the value of text or of reading. It is an additional tool that can be used to understand the relationships that exist in text. It is an additional learning tool, for understanding. It is not a replacement for reading. It can give greater understanding and awareness.\n",
    "\n",
    "The first time I did this, I used the book of Genesis from the Bible.\n",
    "\n",
    "NER models will improve over time, and LLMs can extract entities as well. Use whatever you want for the entity extraction, and then use this or a similar approach for wiring the network together."
   ]
  },
  {
   "cell_type": "markdown",
   "id": "28e955a4",
   "metadata": {},
   "source": [
    "# Shattering Networks\n",
    "\n",
    "We'll talk about this more later, and simulate attacks on networks. Yesterday, I wanted to revisit the idea of what would happen if the Red Queen had her way and managed to kill Alice. Below shows the original network and the resulting network after Alice's node is removed.\n",
    "\n",
    "Networks can be used for insights but also for offense and defense. "
   ]
  },
  {
   "cell_type": "code",
   "execution_count": 74,
   "id": "da7deb9e",
   "metadata": {},
   "outputs": [
    {
     "data": {
      "image/svg+xml": [
       "<svg height=\"540\" width=\"845.0\" xmlns=\"http://www.w3.org/2000/svg\"><path d=\"M 394 166 457 183\" stroke=\"gray\" stroke-width=\"0.5\"/><path d=\"M 394 166 374 164\" stroke=\"gray\" stroke-width=\"0.5\"/><path d=\"M 394 166 320 178\" stroke=\"gray\" stroke-width=\"0.5\"/><path d=\"M 394 166 458 204\" stroke=\"gray\" stroke-width=\"0.5\"/><path d=\"M 394 166 509 152\" stroke=\"gray\" stroke-width=\"0.5\"/><path d=\"M 394 166 310 220\" stroke=\"gray\" stroke-width=\"0.5\"/><path d=\"M 394 166 391 207\" stroke=\"gray\" stroke-width=\"0.5\"/><path d=\"M 394 166 308 134\" stroke=\"gray\" stroke-width=\"0.5\"/><path d=\"M 394 166 382 222\" stroke=\"gray\" stroke-width=\"0.5\"/><path d=\"M 394 166 479 176\" stroke=\"gray\" stroke-width=\"0.5\"/><path d=\"M 394 166 359 113\" stroke=\"gray\" stroke-width=\"0.5\"/><path d=\"M 394 166 366 144\" stroke=\"gray\" stroke-width=\"0.5\"/><path d=\"M 394 166 423 213\" stroke=\"gray\" stroke-width=\"0.5\"/><path d=\"M 394 166 438 126\" stroke=\"gray\" stroke-width=\"0.5\"/><path d=\"M 394 166 459 168\" stroke=\"gray\" stroke-width=\"0.5\"/><path d=\"M 394 166 361 130\" stroke=\"gray\" stroke-width=\"0.5\"/><path d=\"M 394 166 426 177\" stroke=\"gray\" stroke-width=\"0.5\"/><path d=\"M 394 166 419 97\" stroke=\"gray\" stroke-width=\"0.5\"/><path d=\"M 394 166 340 205\" stroke=\"gray\" stroke-width=\"0.5\"/><path d=\"M 394 166 357 198\" stroke=\"gray\" stroke-width=\"0.5\"/><path d=\"M 394 166 413 133\" stroke=\"gray\" stroke-width=\"0.5\"/><path d=\"M 394 166 313 160\" stroke=\"gray\" stroke-width=\"0.5\"/><path d=\"M 394 166 389 123\" stroke=\"gray\" stroke-width=\"0.5\"/><path d=\"M 457 183 394 166\" stroke=\"gray\" stroke-width=\"0.5\"/><path d=\"M 457 183 374 164\" stroke=\"gray\" stroke-width=\"0.5\"/><path d=\"M 457 183 479 176\" stroke=\"gray\" stroke-width=\"0.5\"/><path d=\"M 457 183 540 198\" stroke=\"gray\" stroke-width=\"0.5\"/><path d=\"M 435 318 464 329\" stroke=\"gray\" stroke-width=\"0.5\"/><path d=\"M 464 329 435 318\" stroke=\"gray\" stroke-width=\"0.5\"/><path d=\"M 374 164 394 166\" stroke=\"gray\" stroke-width=\"0.5\"/><path d=\"M 374 164 457 183\" stroke=\"gray\" stroke-width=\"0.5\"/><path d=\"M 374 164 308 134\" stroke=\"gray\" stroke-width=\"0.5\"/><path d=\"M 320 178 394 166\" stroke=\"gray\" stroke-width=\"0.5\"/><path d=\"M 458 204 394 166\" stroke=\"gray\" stroke-width=\"0.5\"/><path d=\"M 458 204 496 249\" stroke=\"gray\" stroke-width=\"0.5\"/><path d=\"M 458 204 459 168\" stroke=\"gray\" stroke-width=\"0.5\"/><path d=\"M 458 204 426 177\" stroke=\"gray\" stroke-width=\"0.5\"/><path d=\"M 458 204 487 212\" stroke=\"gray\" stroke-width=\"0.5\"/><path d=\"M 509 152 394 166\" stroke=\"gray\" stroke-width=\"0.5\"/><path d=\"M 509 152 590 146\" stroke=\"gray\" stroke-width=\"0.5\"/><path d=\"M 590 146 509 152\" stroke=\"gray\" stroke-width=\"0.5\"/><path d=\"M 403 385 365 383\" stroke=\"gray\" stroke-width=\"0.5\"/><path d=\"M 403 385 382 400\" stroke=\"gray\" stroke-width=\"0.5\"/><path d=\"M 365 383 403 385\" stroke=\"gray\" stroke-width=\"0.5\"/><path d=\"M 365 383 382 400\" stroke=\"gray\" stroke-width=\"0.5\"/><path d=\"M 382 400 403 385\" stroke=\"gray\" stroke-width=\"0.5\"/><path d=\"M 382 400 365 383\" stroke=\"gray\" stroke-width=\"0.5\"/><path d=\"M 310 220 394 166\" stroke=\"gray\" stroke-width=\"0.5\"/><path d=\"M 310 220 259 246\" stroke=\"gray\" stroke-width=\"0.5\"/><path d=\"M 310 220 280 259\" stroke=\"gray\" stroke-width=\"0.5\"/><path d=\"M 391 207 394 166\" stroke=\"gray\" stroke-width=\"0.5\"/><path d=\"M 270 85 308 134\" stroke=\"gray\" stroke-width=\"0.5\"/><path d=\"M 308 134 394 166\" stroke=\"gray\" stroke-width=\"0.5\"/><path d=\"M 308 134 374 164\" stroke=\"gray\" stroke-width=\"0.5\"/><path d=\"M 308 134 270 85\" stroke=\"gray\" stroke-width=\"0.5\"/><path d=\"M 308 134 233 138\" stroke=\"gray\" stroke-width=\"0.5\"/><path d=\"M 20 268 38 244\" stroke=\"gray\" stroke-width=\"0.5\"/><path d=\"M 20 268 51 256\" stroke=\"gray\" stroke-width=\"0.5\"/><path d=\"M 38 244 20 268\" stroke=\"gray\" stroke-width=\"0.5\"/><path d=\"M 38 244 51 256\" stroke=\"gray\" stroke-width=\"0.5\"/><path d=\"M 38 244 76 253\" stroke=\"gray\" stroke-width=\"0.5\"/><path d=\"M 38 244 77 237\" stroke=\"gray\" stroke-width=\"0.5\"/><path d=\"M 38 244 57 229\" stroke=\"gray\" stroke-width=\"0.5\"/><path d=\"M 51 256 20 268\" stroke=\"gray\" stroke-width=\"0.5\"/><path d=\"M 51 256 38 244\" stroke=\"gray\" stroke-width=\"0.5\"/><path d=\"M 51 256 76 253\" stroke=\"gray\" stroke-width=\"0.5\"/><path d=\"M 51 256 77 237\" stroke=\"gray\" stroke-width=\"0.5\"/><path d=\"M 51 256 57 229\" stroke=\"gray\" stroke-width=\"0.5\"/><path d=\"M 76 253 38 244\" stroke=\"gray\" stroke-width=\"0.5\"/><path d=\"M 76 253 51 256\" stroke=\"gray\" stroke-width=\"0.5\"/><path d=\"M 76 253 77 237\" stroke=\"gray\" stroke-width=\"0.5\"/><path d=\"M 76 253 57 229\" stroke=\"gray\" stroke-width=\"0.5\"/><path d=\"M 77 237 38 244\" stroke=\"gray\" stroke-width=\"0.5\"/><path d=\"M 77 237 51 256\" stroke=\"gray\" stroke-width=\"0.5\"/><path d=\"M 77 237 76 253\" stroke=\"gray\" stroke-width=\"0.5\"/><path d=\"M 77 237 57 229\" stroke=\"gray\" stroke-width=\"0.5\"/><path d=\"M 57 229 38 244\" stroke=\"gray\" stroke-width=\"0.5\"/><path d=\"M 57 229 51 256\" stroke=\"gray\" stroke-width=\"0.5\"/><path d=\"M 57 229 76 253\" stroke=\"gray\" stroke-width=\"0.5\"/><path d=\"M 57 229 77 237\" stroke=\"gray\" stroke-width=\"0.5\"/><path d=\"M 259 246 310 220\" stroke=\"gray\" stroke-width=\"0.5\"/><path d=\"M 259 246 280 259\" stroke=\"gray\" stroke-width=\"0.5\"/><path d=\"M 280 259 310 220\" stroke=\"gray\" stroke-width=\"0.5\"/><path d=\"M 280 259 259 246\" stroke=\"gray\" stroke-width=\"0.5\"/><path d=\"M 233 138 308 134\" stroke=\"gray\" stroke-width=\"0.5\"/><path d=\"M 382 222 394 166\" stroke=\"gray\" stroke-width=\"0.5\"/><path d=\"M 479 176 394 166\" stroke=\"gray\" stroke-width=\"0.5\"/><path d=\"M 479 176 457 183\" stroke=\"gray\" stroke-width=\"0.5\"/><path d=\"M 540 198 457 183\" stroke=\"gray\" stroke-width=\"0.5\"/><path d=\"M 359 113 394 166\" stroke=\"gray\" stroke-width=\"0.5\"/><path d=\"M 366 144 394 166\" stroke=\"gray\" stroke-width=\"0.5\"/><path d=\"M 423 213 394 166\" stroke=\"gray\" stroke-width=\"0.5\"/><path d=\"M 496 249 458 204\" stroke=\"gray\" stroke-width=\"0.5\"/><path d=\"M 438 126 394 166\" stroke=\"gray\" stroke-width=\"0.5\"/><path d=\"M 459 168 394 166\" stroke=\"gray\" stroke-width=\"0.5\"/><path d=\"M 459 168 458 204\" stroke=\"gray\" stroke-width=\"0.5\"/><path d=\"M 361 130 394 166\" stroke=\"gray\" stroke-width=\"0.5\"/><path d=\"M 361 130 426 177\" stroke=\"gray\" stroke-width=\"0.5\"/><path d=\"M 361 130 419 97\" stroke=\"gray\" stroke-width=\"0.5\"/><path d=\"M 361 130 279 106\" stroke=\"gray\" stroke-width=\"0.5\"/><path d=\"M 426 177 394 166\" stroke=\"gray\" stroke-width=\"0.5\"/><path d=\"M 426 177 458 204\" stroke=\"gray\" stroke-width=\"0.5\"/><path d=\"M 426 177 361 130\" stroke=\"gray\" stroke-width=\"0.5\"/><path d=\"M 426 177 487 212\" stroke=\"gray\" stroke-width=\"0.5\"/><path d=\"M 419 97 394 166\" stroke=\"gray\" stroke-width=\"0.5\"/><path d=\"M 419 97 361 130\" stroke=\"gray\" stroke-width=\"0.5\"/><path d=\"M 419 97 463 65\" stroke=\"gray\" stroke-width=\"0.5\"/><path d=\"M 419 97 486 77\" stroke=\"gray\" stroke-width=\"0.5\"/><path d=\"M 419 97 468 83\" stroke=\"gray\" stroke-width=\"0.5\"/><path d=\"M 419 97 377 56\" stroke=\"gray\" stroke-width=\"0.5\"/><path d=\"M 279 106 361 130\" stroke=\"gray\" stroke-width=\"0.5\"/><path d=\"M 463 65 419 97\" stroke=\"gray\" stroke-width=\"0.5\"/><path d=\"M 463 65 486 77\" stroke=\"gray\" stroke-width=\"0.5\"/><path d=\"M 463 65 468 83\" stroke=\"gray\" stroke-width=\"0.5\"/><path d=\"M 486 77 419 97\" stroke=\"gray\" stroke-width=\"0.5\"/><path d=\"M 486 77 463 65\" stroke=\"gray\" stroke-width=\"0.5\"/><path d=\"M 486 77 468 83\" stroke=\"gray\" stroke-width=\"0.5\"/><path d=\"M 468 83 419 97\" stroke=\"gray\" stroke-width=\"0.5\"/><path d=\"M 468 83 463 65\" stroke=\"gray\" stroke-width=\"0.5\"/><path d=\"M 468 83 486 77\" stroke=\"gray\" stroke-width=\"0.5\"/><path d=\"M 377 56 419 97\" stroke=\"gray\" stroke-width=\"0.5\"/><path d=\"M 340 205 394 166\" stroke=\"gray\" stroke-width=\"0.5\"/><path d=\"M 340 205 357 198\" stroke=\"gray\" stroke-width=\"0.5\"/><path d=\"M 357 198 394 166\" stroke=\"gray\" stroke-width=\"0.5\"/><path d=\"M 357 198 340 205\" stroke=\"gray\" stroke-width=\"0.5\"/><path d=\"M 413 133 394 166\" stroke=\"gray\" stroke-width=\"0.5\"/><path d=\"M 413 133 389 123\" stroke=\"gray\" stroke-width=\"0.5\"/><path d=\"M 313 160 394 166\" stroke=\"gray\" stroke-width=\"0.5\"/><path d=\"M 720 41 708 20\" stroke=\"gray\" stroke-width=\"0.5\"/><path d=\"M 708 20 720 41\" stroke=\"gray\" stroke-width=\"0.5\"/><path d=\"M 389 123 394 166\" stroke=\"gray\" stroke-width=\"0.5\"/><path d=\"M 389 123 413 133\" stroke=\"gray\" stroke-width=\"0.5\"/><path d=\"M 487 212 458 204\" stroke=\"gray\" stroke-width=\"0.5\"/><path d=\"M 487 212 426 177\" stroke=\"gray\" stroke-width=\"0.5\"/><circle cx=\"394\" cy=\"166\" r=\"3.0\" style=\"fill:rgb(179, 3, 38);stroke:black;stroke-width:1.0\"/><circle cx=\"457\" cy=\"183\" r=\"3.0\" style=\"fill:rgb(99, 131, 234);stroke:black;stroke-width:1.0\"/><circle cx=\"435\" cy=\"318\" r=\"3.0\" style=\"fill:rgb(80, 107, 218);stroke:black;stroke-width:1.0\"/><circle cx=\"464\" cy=\"329\" r=\"3.0\" style=\"fill:rgb(80, 107, 218);stroke:black;stroke-width:1.0\"/><circle cx=\"374\" cy=\"164\" r=\"3.0\" style=\"fill:rgb(86, 115, 224);stroke:black;stroke-width:1.0\"/><circle cx=\"320\" cy=\"178\" r=\"3.0\" style=\"fill:rgb(58, 76, 192);stroke:black;stroke-width:1.0\"/><circle cx=\"458\" cy=\"204\" r=\"3.0\" style=\"fill:rgb(112, 147, 243);stroke:black;stroke-width:1.0\"/><circle cx=\"509\" cy=\"152\" r=\"3.0\" style=\"fill:rgb(76, 102, 214);stroke:black;stroke-width:1.0\"/><circle cx=\"590\" cy=\"146\" r=\"3.0\" style=\"fill:rgb(60, 79, 195);stroke:black;stroke-width:1.0\"/><circle cx=\"403\" cy=\"385\" r=\"3.0\" style=\"fill:rgb(80, 107, 218);stroke:black;stroke-width:1.0\"/><circle cx=\"365\" cy=\"383\" r=\"3.0\" style=\"fill:rgb(80, 107, 218);stroke:black;stroke-width:1.0\"/><circle cx=\"382\" cy=\"400\" r=\"3.0\" style=\"fill:rgb(80, 107, 218);stroke:black;stroke-width:1.0\"/><circle cx=\"341\" cy=\"520\" r=\"3.0\" style=\"fill:rgb(80, 107, 218);stroke:black;stroke-width:1.0\"/><circle cx=\"310\" cy=\"220\" r=\"3.0\" style=\"fill:rgb(86, 115, 224);stroke:black;stroke-width:1.0\"/><circle cx=\"391\" cy=\"207\" r=\"3.0\" style=\"fill:rgb(58, 76, 192);stroke:black;stroke-width:1.0\"/><circle cx=\"270\" cy=\"85\" r=\"3.0\" style=\"fill:rgb(58, 76, 192);stroke:black;stroke-width:1.0\"/><circle cx=\"308\" cy=\"134\" r=\"3.0\" style=\"fill:rgb(105, 139, 239);stroke:black;stroke-width:1.0\"/><circle cx=\"20\" cy=\"268\" r=\"3.0\" style=\"fill:rgb(60, 79, 195);stroke:black;stroke-width:1.0\"/><circle cx=\"38\" cy=\"244\" r=\"3.0\" style=\"fill:rgb(88, 118, 226);stroke:black;stroke-width:1.0\"/><circle cx=\"51\" cy=\"256\" r=\"3.0\" style=\"fill:rgb(88, 118, 226);stroke:black;stroke-width:1.0\"/><circle cx=\"76\" cy=\"253\" r=\"3.0\" style=\"fill:rgb(80, 107, 218);stroke:black;stroke-width:1.0\"/><circle cx=\"77\" cy=\"237\" r=\"3.0\" style=\"fill:rgb(80, 107, 218);stroke:black;stroke-width:1.0\"/><circle cx=\"57\" cy=\"229\" r=\"3.0\" style=\"fill:rgb(80, 107, 218);stroke:black;stroke-width:1.0\"/><circle cx=\"259\" cy=\"246\" r=\"3.0\" style=\"fill:rgb(72, 96, 209);stroke:black;stroke-width:1.0\"/><circle cx=\"280\" cy=\"259\" r=\"3.0\" style=\"fill:rgb(72, 96, 209);stroke:black;stroke-width:1.0\"/><circle cx=\"233\" cy=\"138\" r=\"3.0\" style=\"fill:rgb(58, 76, 192);stroke:black;stroke-width:1.0\"/><circle cx=\"382\" cy=\"222\" r=\"3.0\" style=\"fill:rgb(58, 76, 192);stroke:black;stroke-width:1.0\"/><circle cx=\"479\" cy=\"176\" r=\"3.0\" style=\"fill:rgb(70, 93, 207);stroke:black;stroke-width:1.0\"/><circle cx=\"540\" cy=\"198\" r=\"3.0\" style=\"fill:rgb(58, 76, 192);stroke:black;stroke-width:1.0\"/><circle cx=\"359\" cy=\"113\" r=\"3.0\" style=\"fill:rgb(58, 76, 192);stroke:black;stroke-width:1.0\"/><circle cx=\"366\" cy=\"144\" r=\"3.0\" style=\"fill:rgb(58, 76, 192);stroke:black;stroke-width:1.0\"/><circle cx=\"423\" cy=\"213\" r=\"3.0\" style=\"fill:rgb(58, 76, 192);stroke:black;stroke-width:1.0\"/><circle cx=\"496\" cy=\"249\" r=\"3.0\" style=\"fill:rgb(58, 76, 192);stroke:black;stroke-width:1.0\"/><circle cx=\"438\" cy=\"126\" r=\"3.0\" style=\"fill:rgb(58, 76, 192);stroke:black;stroke-width:1.0\"/><circle cx=\"459\" cy=\"168\" r=\"3.0\" style=\"fill:rgb(70, 93, 207);stroke:black;stroke-width:1.0\"/><circle cx=\"361\" cy=\"130\" r=\"3.0\" style=\"fill:rgb(96, 128, 232);stroke:black;stroke-width:1.0\"/><circle cx=\"426\" cy=\"177\" r=\"3.0\" style=\"fill:rgb(96, 128, 232);stroke:black;stroke-width:1.0\"/><circle cx=\"419\" cy=\"97\" r=\"3.0\" style=\"fill:rgb(120, 155, 247);stroke:black;stroke-width:1.0\"/><circle cx=\"279\" cy=\"106\" r=\"3.0\" style=\"fill:rgb(58, 76, 192);stroke:black;stroke-width:1.0\"/><circle cx=\"463\" cy=\"65\" r=\"3.0\" style=\"fill:rgb(80, 107, 218);stroke:black;stroke-width:1.0\"/><circle cx=\"486\" cy=\"77\" r=\"3.0\" style=\"fill:rgb(80, 107, 218);stroke:black;stroke-width:1.0\"/><circle cx=\"468\" cy=\"83\" r=\"3.0\" style=\"fill:rgb(80, 107, 218);stroke:black;stroke-width:1.0\"/><circle cx=\"377\" cy=\"56\" r=\"3.0\" style=\"fill:rgb(58, 76, 192);stroke:black;stroke-width:1.0\"/><circle cx=\"340\" cy=\"205\" r=\"3.0\" style=\"fill:rgb(70, 93, 207);stroke:black;stroke-width:1.0\"/><circle cx=\"357\" cy=\"198\" r=\"3.0\" style=\"fill:rgb(70, 93, 207);stroke:black;stroke-width:1.0\"/><circle cx=\"413\" cy=\"133\" r=\"3.0\" style=\"fill:rgb(70, 93, 207);stroke:black;stroke-width:1.0\"/><circle cx=\"313\" cy=\"160\" r=\"3.0\" style=\"fill:rgb(58, 76, 192);stroke:black;stroke-width:1.0\"/><circle cx=\"720\" cy=\"41\" r=\"3.0\" style=\"fill:rgb(80, 107, 218);stroke:black;stroke-width:1.0\"/><circle cx=\"708\" cy=\"20\" r=\"3.0\" style=\"fill:rgb(80, 107, 218);stroke:black;stroke-width:1.0\"/><circle cx=\"389\" cy=\"123\" r=\"3.0\" style=\"fill:rgb(70, 93, 207);stroke:black;stroke-width:1.0\"/><circle cx=\"487\" cy=\"212\" r=\"3.0\" style=\"fill:rgb(70, 93, 207);stroke:black;stroke-width:1.0\"/><text font-size=\"10\" x=\"400\" y=\"169\">Alice</text><text font-size=\"10\" x=\"463\" y=\"186\">Rabbit</text><text font-size=\"10\" x=\"441\" y=\"321\">Australia</text><text font-size=\"10\" x=\"470\" y=\"332\">New Zealand</text><text font-size=\"10\" x=\"380\" y=\"167\">Dinah</text><text font-size=\"10\" x=\"326\" y=\"181\">Fender</text><text font-size=\"10\" x=\"464\" y=\"207\">Duchess</text><text font-size=\"10\" x=\"515\" y=\"155\">Mabel</text><text font-size=\"10\" x=\"596\" y=\"149\">Ada</text><text font-size=\"10\" x=\"409\" y=\"388\">London</text><text font-size=\"10\" x=\"371\" y=\"386\">Rome</text><text font-size=\"10\" x=\"388\" y=\"403\">Paris</text><text font-size=\"10\" x=\"347\" y=\"523\">Nile</text><text font-size=\"10\" x=\"316\" y=\"223\">Mouse</text><text font-size=\"10\" x=\"397\" y=\"210\">William the Conqueror</text><text font-size=\"10\" x=\"276\" y=\"88\">Eaglet</text><text font-size=\"10\" x=\"314\" y=\"137\">Lory</text><text font-size=\"10\" x=\"26\" y=\"271\">Edwin</text><text font-size=\"10\" x=\"44\" y=\"247\">Morcar</text><text font-size=\"10\" x=\"57\" y=\"259\">Northumbria</text><text font-size=\"10\" x=\"82\" y=\"256\">Canterbury</text><text font-size=\"10\" x=\"83\" y=\"240\">Mercia</text><text font-size=\"10\" x=\"63\" y=\"232\">Stigand</text><text font-size=\"10\" x=\"265\" y=\"249\">Edgar Atheling</text><text font-size=\"10\" x=\"286\" y=\"262\">William</text><text font-size=\"10\" x=\"239\" y=\"141\">Crab</text><text font-size=\"10\" x=\"388\" y=\"225\">Bill</text><text font-size=\"10\" x=\"485\" y=\"179\">Mary Ann</text><text font-size=\"10\" x=\"546\" y=\"201\">Pat</text><text font-size=\"10\" x=\"365\" y=\"116\">Caterpillar</text><text font-size=\"10\" x=\"372\" y=\"147\">Pigeon</text><text font-size=\"10\" x=\"429\" y=\"216\">Fish-Footman</text><text font-size=\"10\" x=\"502\" y=\"252\">Cheshire</text><text font-size=\"10\" x=\"444\" y=\"129\">Cheshire Cat</text><text font-size=\"10\" x=\"465\" y=\"171\">Cat</text><text font-size=\"10\" x=\"367\" y=\"133\">Hatter</text><text font-size=\"10\" x=\"432\" y=\"180\">Hare</text><text font-size=\"10\" x=\"425\" y=\"100\">Dormouse</text><text font-size=\"10\" x=\"285\" y=\"109\">Time</text><text font-size=\"10\" x=\"469\" y=\"68\">Elsie</text><text font-size=\"10\" x=\"492\" y=\"80\">Tillie</text><text font-size=\"10\" x=\"474\" y=\"86\">Lacie</text><text font-size=\"10\" x=\"383\" y=\"59\">Treacle</text><text font-size=\"10\" x=\"346\" y=\"208\">Queens</text><text font-size=\"10\" x=\"363\" y=\"201\">Kings</text><text font-size=\"10\" x=\"419\" y=\"136\">Gryphon</text><text font-size=\"10\" x=\"319\" y=\"163\">Lobster Quadrille</text><text font-size=\"10\" x=\"726\" y=\"44\">England</text><text font-size=\"10\" x=\"714\" y=\"23\">France</text><text font-size=\"10\" x=\"395\" y=\"126\">Soup</text><text font-size=\"10\" x=\"493\" y=\"215\">Lizard</text></svg>"
      ],
      "text/plain": [
       "<IPython.core.display.SVG object>"
      ]
     },
     "execution_count": 74,
     "metadata": {},
     "output_type": "execute_result"
    }
   ],
   "source": [
    "draw_graph(G, show_names=True, node_size=3)"
   ]
  },
  {
   "cell_type": "code",
   "execution_count": 75,
   "id": "59b83f64",
   "metadata": {},
   "outputs": [],
   "source": [
    "G.remove_node('Alice')"
   ]
  },
  {
   "cell_type": "code",
   "execution_count": 76,
   "id": "3028d09d",
   "metadata": {},
   "outputs": [
    {
     "data": {
      "image/svg+xml": [
       "<svg height=\"540\" width=\"845.0\" xmlns=\"http://www.w3.org/2000/svg\"><path d=\"M 314 249 303 231\" stroke=\"gray\" stroke-width=\"0.5\"/><path d=\"M 314 249 309 263\" stroke=\"gray\" stroke-width=\"0.5\"/><path d=\"M 314 249 333 256\" stroke=\"gray\" stroke-width=\"0.5\"/><path d=\"M 720 304 714 294\" stroke=\"gray\" stroke-width=\"0.5\"/><path d=\"M 714 294 720 304\" stroke=\"gray\" stroke-width=\"0.5\"/><path d=\"M 303 231 314 249\" stroke=\"gray\" stroke-width=\"0.5\"/><path d=\"M 303 231 291 214\" stroke=\"gray\" stroke-width=\"0.5\"/><path d=\"M 143 296 148 280\" stroke=\"gray\" stroke-width=\"0.5\"/><path d=\"M 143 296 125 284\" stroke=\"gray\" stroke-width=\"0.5\"/><path d=\"M 143 296 151 317\" stroke=\"gray\" stroke-width=\"0.5\"/><path d=\"M 143 296 152 305\" stroke=\"gray\" stroke-width=\"0.5\"/><path d=\"M 207 476 221 471\" stroke=\"gray\" stroke-width=\"0.5\"/><path d=\"M 221 471 207 476\" stroke=\"gray\" stroke-width=\"0.5\"/><path d=\"M 451 332 436 335\" stroke=\"gray\" stroke-width=\"0.5\"/><path d=\"M 451 332 447 342\" stroke=\"gray\" stroke-width=\"0.5\"/><path d=\"M 436 335 451 332\" stroke=\"gray\" stroke-width=\"0.5\"/><path d=\"M 436 335 447 342\" stroke=\"gray\" stroke-width=\"0.5\"/><path d=\"M 447 342 451 332\" stroke=\"gray\" stroke-width=\"0.5\"/><path d=\"M 447 342 436 335\" stroke=\"gray\" stroke-width=\"0.5\"/><path d=\"M 394 439 383 447\" stroke=\"gray\" stroke-width=\"0.5\"/><path d=\"M 394 439 378 437\" stroke=\"gray\" stroke-width=\"0.5\"/><path d=\"M 272 206 291 214\" stroke=\"gray\" stroke-width=\"0.5\"/><path d=\"M 291 214 303 231\" stroke=\"gray\" stroke-width=\"0.5\"/><path d=\"M 291 214 272 206\" stroke=\"gray\" stroke-width=\"0.5\"/><path d=\"M 291 214 297 200\" stroke=\"gray\" stroke-width=\"0.5\"/><path d=\"M 565 402 564 389\" stroke=\"gray\" stroke-width=\"0.5\"/><path d=\"M 565 402 574 391\" stroke=\"gray\" stroke-width=\"0.5\"/><path d=\"M 564 389 565 402\" stroke=\"gray\" stroke-width=\"0.5\"/><path d=\"M 564 389 574 391\" stroke=\"gray\" stroke-width=\"0.5\"/><path d=\"M 564 389 562 381\" stroke=\"gray\" stroke-width=\"0.5\"/><path d=\"M 564 389 581 383\" stroke=\"gray\" stroke-width=\"0.5\"/><path d=\"M 564 389 573 378\" stroke=\"gray\" stroke-width=\"0.5\"/><path d=\"M 574 391 565 402\" stroke=\"gray\" stroke-width=\"0.5\"/><path d=\"M 574 391 564 389\" stroke=\"gray\" stroke-width=\"0.5\"/><path d=\"M 574 391 562 381\" stroke=\"gray\" stroke-width=\"0.5\"/><path d=\"M 574 391 581 383\" stroke=\"gray\" stroke-width=\"0.5\"/><path d=\"M 574 391 573 378\" stroke=\"gray\" stroke-width=\"0.5\"/><path d=\"M 562 381 564 389\" stroke=\"gray\" stroke-width=\"0.5\"/><path d=\"M 562 381 574 391\" stroke=\"gray\" stroke-width=\"0.5\"/><path d=\"M 562 381 581 383\" stroke=\"gray\" stroke-width=\"0.5\"/><path d=\"M 562 381 573 378\" stroke=\"gray\" stroke-width=\"0.5\"/><path d=\"M 581 383 564 389\" stroke=\"gray\" stroke-width=\"0.5\"/><path d=\"M 581 383 574 391\" stroke=\"gray\" stroke-width=\"0.5\"/><path d=\"M 581 383 562 381\" stroke=\"gray\" stroke-width=\"0.5\"/><path d=\"M 581 383 573 378\" stroke=\"gray\" stroke-width=\"0.5\"/><path d=\"M 573 378 564 389\" stroke=\"gray\" stroke-width=\"0.5\"/><path d=\"M 573 378 574 391\" stroke=\"gray\" stroke-width=\"0.5\"/><path d=\"M 573 378 562 381\" stroke=\"gray\" stroke-width=\"0.5\"/><path d=\"M 573 378 581 383\" stroke=\"gray\" stroke-width=\"0.5\"/><path d=\"M 383 447 394 439\" stroke=\"gray\" stroke-width=\"0.5\"/><path d=\"M 383 447 378 437\" stroke=\"gray\" stroke-width=\"0.5\"/><path d=\"M 378 437 394 439\" stroke=\"gray\" stroke-width=\"0.5\"/><path d=\"M 378 437 383 447\" stroke=\"gray\" stroke-width=\"0.5\"/><path d=\"M 297 200 291 214\" stroke=\"gray\" stroke-width=\"0.5\"/><path d=\"M 309 263 314 249\" stroke=\"gray\" stroke-width=\"0.5\"/><path d=\"M 333 256 314 249\" stroke=\"gray\" stroke-width=\"0.5\"/><path d=\"M 148 280 143 296\" stroke=\"gray\" stroke-width=\"0.5\"/><path d=\"M 125 284 143 296\" stroke=\"gray\" stroke-width=\"0.5\"/><path d=\"M 158 342 151 317\" stroke=\"gray\" stroke-width=\"0.5\"/><path d=\"M 158 342 174 365\" stroke=\"gray\" stroke-width=\"0.5\"/><path d=\"M 158 342 137 346\" stroke=\"gray\" stroke-width=\"0.5\"/><path d=\"M 151 317 143 296\" stroke=\"gray\" stroke-width=\"0.5\"/><path d=\"M 151 317 158 342\" stroke=\"gray\" stroke-width=\"0.5\"/><path d=\"M 151 317 152 305\" stroke=\"gray\" stroke-width=\"0.5\"/><path d=\"M 174 365 158 342\" stroke=\"gray\" stroke-width=\"0.5\"/><path d=\"M 174 365 165 377\" stroke=\"gray\" stroke-width=\"0.5\"/><path d=\"M 174 365 173 383\" stroke=\"gray\" stroke-width=\"0.5\"/><path d=\"M 174 365 182 378\" stroke=\"gray\" stroke-width=\"0.5\"/><path d=\"M 174 365 198 364\" stroke=\"gray\" stroke-width=\"0.5\"/><path d=\"M 137 346 158 342\" stroke=\"gray\" stroke-width=\"0.5\"/><path d=\"M 165 377 174 365\" stroke=\"gray\" stroke-width=\"0.5\"/><path d=\"M 165 377 173 383\" stroke=\"gray\" stroke-width=\"0.5\"/><path d=\"M 165 377 182 378\" stroke=\"gray\" stroke-width=\"0.5\"/><path d=\"M 173 383 174 365\" stroke=\"gray\" stroke-width=\"0.5\"/><path d=\"M 173 383 165 377\" stroke=\"gray\" stroke-width=\"0.5\"/><path d=\"M 173 383 182 378\" stroke=\"gray\" stroke-width=\"0.5\"/><path d=\"M 182 378 174 365\" stroke=\"gray\" stroke-width=\"0.5\"/><path d=\"M 182 378 165 377\" stroke=\"gray\" stroke-width=\"0.5\"/><path d=\"M 182 378 173 383\" stroke=\"gray\" stroke-width=\"0.5\"/><path d=\"M 198 364 174 365\" stroke=\"gray\" stroke-width=\"0.5\"/><path d=\"M 561 216 567 226\" stroke=\"gray\" stroke-width=\"0.5\"/><path d=\"M 567 226 561 216\" stroke=\"gray\" stroke-width=\"0.5\"/><path d=\"M 460 222 461 233\" stroke=\"gray\" stroke-width=\"0.5\"/><path d=\"M 717 416 709 425\" stroke=\"gray\" stroke-width=\"0.5\"/><path d=\"M 709 425 717 416\" stroke=\"gray\" stroke-width=\"0.5\"/><path d=\"M 461 233 460 222\" stroke=\"gray\" stroke-width=\"0.5\"/><path d=\"M 152 305 143 296\" stroke=\"gray\" stroke-width=\"0.5\"/><path d=\"M 152 305 151 317\" stroke=\"gray\" stroke-width=\"0.5\"/><circle cx=\"314\" cy=\"249\" r=\"3.0\" style=\"fill:rgb(225, 104, 82);stroke:black;stroke-width:1.0\"/><circle cx=\"720\" cy=\"304\" r=\"3.0\" style=\"fill:rgb(197, 213, 242);stroke:black;stroke-width:1.0\"/><circle cx=\"714\" cy=\"294\" r=\"3.0\" style=\"fill:rgb(197, 213, 242);stroke:black;stroke-width:1.0\"/><circle cx=\"303\" cy=\"231\" r=\"3.0\" style=\"fill:rgb(231, 214, 204);stroke:black;stroke-width:1.0\"/><circle cx=\"490\" cy=\"496\" r=\"3.0\" style=\"fill:rgb(197, 213, 242);stroke:black;stroke-width:1.0\"/><circle cx=\"143\" cy=\"296\" r=\"3.0\" style=\"fill:rgb(179, 3, 38);stroke:black;stroke-width:1.0\"/><circle cx=\"207\" cy=\"476\" r=\"3.0\" style=\"fill:rgb(197, 213, 242);stroke:black;stroke-width:1.0\"/><circle cx=\"221\" cy=\"471\" r=\"3.0\" style=\"fill:rgb(197, 213, 242);stroke:black;stroke-width:1.0\"/><circle cx=\"451\" cy=\"332\" r=\"3.0\" style=\"fill:rgb(197, 213, 242);stroke:black;stroke-width:1.0\"/><circle cx=\"436\" cy=\"335\" r=\"3.0\" style=\"fill:rgb(197, 213, 242);stroke:black;stroke-width:1.0\"/><circle cx=\"447\" cy=\"342\" r=\"3.0\" style=\"fill:rgb(197, 213, 242);stroke:black;stroke-width:1.0\"/><circle cx=\"366\" cy=\"520\" r=\"3.0\" style=\"fill:rgb(197, 213, 242);stroke:black;stroke-width:1.0\"/><circle cx=\"394\" cy=\"439\" r=\"3.0\" style=\"fill:rgb(197, 213, 242);stroke:black;stroke-width:1.0\"/><circle cx=\"20\" cy=\"212\" r=\"3.0\" style=\"fill:rgb(197, 213, 242);stroke:black;stroke-width:1.0\"/><circle cx=\"272\" cy=\"206\" r=\"3.0\" style=\"fill:rgb(109, 144, 241);stroke:black;stroke-width:1.0\"/><circle cx=\"291\" cy=\"214\" r=\"3.0\" style=\"fill:rgb(225, 104, 82);stroke:black;stroke-width:1.0\"/><circle cx=\"565\" cy=\"402\" r=\"3.0\" style=\"fill:rgb(86, 115, 224);stroke:black;stroke-width:1.0\"/><circle cx=\"564\" cy=\"389\" r=\"3.0\" style=\"fill:rgb(239, 206, 188);stroke:black;stroke-width:1.0\"/><circle cx=\"574\" cy=\"391\" r=\"3.0\" style=\"fill:rgb(239, 206, 188);stroke:black;stroke-width:1.0\"/><circle cx=\"562\" cy=\"381\" r=\"3.0\" style=\"fill:rgb(193, 212, 244);stroke:black;stroke-width:1.0\"/><circle cx=\"581\" cy=\"383\" r=\"3.0\" style=\"fill:rgb(193, 212, 244);stroke:black;stroke-width:1.0\"/><circle cx=\"573\" cy=\"378\" r=\"3.0\" style=\"fill:rgb(193, 212, 244);stroke:black;stroke-width:1.0\"/><circle cx=\"383\" cy=\"447\" r=\"3.0\" style=\"fill:rgb(197, 213, 242);stroke:black;stroke-width:1.0\"/><circle cx=\"378\" cy=\"437\" r=\"3.0\" style=\"fill:rgb(197, 213, 242);stroke:black;stroke-width:1.0\"/><circle cx=\"297\" cy=\"200\" r=\"3.0\" style=\"fill:rgb(109, 144, 241);stroke:black;stroke-width:1.0\"/><circle cx=\"637\" cy=\"146\" r=\"3.0\" style=\"fill:rgb(197, 213, 242);stroke:black;stroke-width:1.0\"/><circle cx=\"309\" cy=\"263\" r=\"3.0\" style=\"fill:rgb(109, 144, 241);stroke:black;stroke-width:1.0\"/><circle cx=\"333\" cy=\"256\" r=\"3.0\" style=\"fill:rgb(109, 144, 241);stroke:black;stroke-width:1.0\"/><circle cx=\"270\" cy=\"510\" r=\"3.0\" style=\"fill:rgb(197, 213, 242);stroke:black;stroke-width:1.0\"/><circle cx=\"642\" cy=\"316\" r=\"3.0\" style=\"fill:rgb(197, 213, 242);stroke:black;stroke-width:1.0\"/><circle cx=\"403\" cy=\"165\" r=\"3.0\" style=\"fill:rgb(197, 213, 242);stroke:black;stroke-width:1.0\"/><circle cx=\"148\" cy=\"280\" r=\"3.0\" style=\"fill:rgb(76, 102, 214);stroke:black;stroke-width:1.0\"/><circle cx=\"433\" cy=\"20\" r=\"3.0\" style=\"fill:rgb(197, 213, 242);stroke:black;stroke-width:1.0\"/><circle cx=\"125\" cy=\"284\" r=\"3.0\" style=\"fill:rgb(76, 102, 214);stroke:black;stroke-width:1.0\"/><circle cx=\"158\" cy=\"342\" r=\"3.0\" style=\"fill:rgb(239, 206, 188);stroke:black;stroke-width:1.0\"/><circle cx=\"151\" cy=\"317\" r=\"3.0\" style=\"fill:rgb(242, 200, 179);stroke:black;stroke-width:1.0\"/><circle cx=\"174\" cy=\"365\" r=\"3.0\" style=\"fill:rgb(182, 13, 40);stroke:black;stroke-width:1.0\"/><circle cx=\"137\" cy=\"346\" r=\"3.0\" style=\"fill:rgb(66, 88, 202);stroke:black;stroke-width:1.0\"/><circle cx=\"165\" cy=\"377\" r=\"3.0\" style=\"fill:rgb(202, 216, 238);stroke:black;stroke-width:1.0\"/><circle cx=\"173\" cy=\"383\" r=\"3.0\" style=\"fill:rgb(202, 216, 238);stroke:black;stroke-width:1.0\"/><circle cx=\"182\" cy=\"378\" r=\"3.0\" style=\"fill:rgb(202, 216, 238);stroke:black;stroke-width:1.0\"/><circle cx=\"198\" cy=\"364\" r=\"3.0\" style=\"fill:rgb(58, 76, 192);stroke:black;stroke-width:1.0\"/><circle cx=\"561\" cy=\"216\" r=\"3.0\" style=\"fill:rgb(197, 213, 242);stroke:black;stroke-width:1.0\"/><circle cx=\"567\" cy=\"226\" r=\"3.0\" style=\"fill:rgb(197, 213, 242);stroke:black;stroke-width:1.0\"/><circle cx=\"460\" cy=\"222\" r=\"3.0\" style=\"fill:rgb(197, 213, 242);stroke:black;stroke-width:1.0\"/><circle cx=\"625\" cy=\"185\" r=\"3.0\" style=\"fill:rgb(197, 213, 242);stroke:black;stroke-width:1.0\"/><circle cx=\"717\" cy=\"416\" r=\"3.0\" style=\"fill:rgb(197, 213, 242);stroke:black;stroke-width:1.0\"/><circle cx=\"709\" cy=\"425\" r=\"3.0\" style=\"fill:rgb(197, 213, 242);stroke:black;stroke-width:1.0\"/><circle cx=\"461\" cy=\"233\" r=\"3.0\" style=\"fill:rgb(197, 213, 242);stroke:black;stroke-width:1.0\"/><circle cx=\"152\" cy=\"305\" r=\"3.0\" style=\"fill:rgb(170, 198, 253);stroke:black;stroke-width:1.0\"/><text font-size=\"10\" x=\"320\" y=\"252\">Rabbit</text><text font-size=\"10\" x=\"726\" y=\"307\">Australia</text><text font-size=\"10\" x=\"720\" y=\"297\">New Zealand</text><text font-size=\"10\" x=\"309\" y=\"234\">Dinah</text><text font-size=\"10\" x=\"496\" y=\"499\">Fender</text><text font-size=\"10\" x=\"149\" y=\"299\">Duchess</text><text font-size=\"10\" x=\"213\" y=\"479\">Mabel</text><text font-size=\"10\" x=\"227\" y=\"474\">Ada</text><text font-size=\"10\" x=\"457\" y=\"335\">London</text><text font-size=\"10\" x=\"442\" y=\"338\">Rome</text><text font-size=\"10\" x=\"453\" y=\"345\">Paris</text><text font-size=\"10\" x=\"372\" y=\"523\">Nile</text><text font-size=\"10\" x=\"400\" y=\"442\">Mouse</text><text font-size=\"10\" x=\"26\" y=\"215\">William the Conqueror</text><text font-size=\"10\" x=\"278\" y=\"209\">Eaglet</text><text font-size=\"10\" x=\"297\" y=\"217\">Lory</text><text font-size=\"10\" x=\"571\" y=\"405\">Edwin</text><text font-size=\"10\" x=\"570\" y=\"392\">Morcar</text><text font-size=\"10\" x=\"580\" y=\"394\">Northumbria</text><text font-size=\"10\" x=\"568\" y=\"384\">Canterbury</text><text font-size=\"10\" x=\"587\" y=\"386\">Mercia</text><text font-size=\"10\" x=\"579\" y=\"381\">Stigand</text><text font-size=\"10\" x=\"389\" y=\"450\">Edgar Atheling</text><text font-size=\"10\" x=\"384\" y=\"440\">William</text><text font-size=\"10\" x=\"303\" y=\"203\">Crab</text><text font-size=\"10\" x=\"643\" y=\"149\">Bill</text><text font-size=\"10\" x=\"315\" y=\"266\">Mary Ann</text><text font-size=\"10\" x=\"339\" y=\"259\">Pat</text><text font-size=\"10\" x=\"276\" y=\"513\">Caterpillar</text><text font-size=\"10\" x=\"648\" y=\"319\">Pigeon</text><text font-size=\"10\" x=\"409\" y=\"168\">Fish-Footman</text><text font-size=\"10\" x=\"154\" y=\"283\">Cheshire</text><text font-size=\"10\" x=\"439\" y=\"23\">Cheshire Cat</text><text font-size=\"10\" x=\"131\" y=\"287\">Cat</text><text font-size=\"10\" x=\"164\" y=\"345\">Hatter</text><text font-size=\"10\" x=\"157\" y=\"320\">Hare</text><text font-size=\"10\" x=\"180\" y=\"368\">Dormouse</text><text font-size=\"10\" x=\"143\" y=\"349\">Time</text><text font-size=\"10\" x=\"171\" y=\"380\">Elsie</text><text font-size=\"10\" x=\"179\" y=\"386\">Tillie</text><text font-size=\"10\" x=\"188\" y=\"381\">Lacie</text><text font-size=\"10\" x=\"204\" y=\"367\">Treacle</text><text font-size=\"10\" x=\"567\" y=\"219\">Queens</text><text font-size=\"10\" x=\"573\" y=\"229\">Kings</text><text font-size=\"10\" x=\"466\" y=\"225\">Gryphon</text><text font-size=\"10\" x=\"631\" y=\"188\">Lobster Quadrille</text><text font-size=\"10\" x=\"723\" y=\"419\">England</text><text font-size=\"10\" x=\"715\" y=\"428\">France</text><text font-size=\"10\" x=\"467\" y=\"236\">Soup</text><text font-size=\"10\" x=\"158\" y=\"308\">Lizard</text></svg>"
      ],
      "text/plain": [
       "<IPython.core.display.SVG object>"
      ]
     },
     "execution_count": 76,
     "metadata": {},
     "output_type": "execute_result"
    }
   ],
   "source": [
    "draw_graph(G, show_names=True, node_size=3)"
   ]
  },
  {
   "cell_type": "code",
   "execution_count": null,
   "id": "e50ffd00",
   "metadata": {},
   "outputs": [],
   "source": []
  },
  {
   "cell_type": "code",
   "execution_count": null,
   "id": "dc5778ef",
   "metadata": {},
   "outputs": [],
   "source": []
  }
 ],
 "metadata": {
  "kernelspec": {
   "display_name": "Python 3",
   "language": "python",
   "name": "python3"
  },
  "language_info": {
   "codemirror_mode": {
    "name": "ipython",
    "version": 3
   },
   "file_extension": ".py",
   "mimetype": "text/x-python",
   "name": "python",
   "nbconvert_exporter": "python",
   "pygments_lexer": "ipython3",
   "version": "3.7.16"
  }
 },
 "nbformat": 4,
 "nbformat_minor": 5
}
