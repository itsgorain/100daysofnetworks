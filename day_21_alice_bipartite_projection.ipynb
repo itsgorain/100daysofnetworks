{
 "cells": [
  {
   "cell_type": "code",
   "execution_count": 1,
   "id": "7423be59",
   "metadata": {},
   "outputs": [],
   "source": [
    "import networkx as nx\n",
    "import numpy as np\n",
    "import pandas as pd\n",
    "\n",
    "# for the explode statement; convert string to list\n",
    "from ast import literal_eval\n",
    "\n",
    "# for visualization\n",
    "from IPython.display import SVG \n",
    "from sknetwork.visualization import svg_graph \n",
    "from sknetwork.data import Bunch \n",
    "from sknetwork.ranking import PageRank \n",
    "\n",
    "# for bipartite projection\n",
    "from networkx.algorithms import bipartite\n",
    "\n",
    "# for text and NER\n",
    "from tqdm import tqdm\n",
    "import spacy\n",
    "import requests\n",
    "\n",
    "nlp = spacy.load(\"en_core_web_md\")"
   ]
  },
  {
   "cell_type": "code",
   "execution_count": 2,
   "id": "38a1e588",
   "metadata": {},
   "outputs": [],
   "source": [
    "def get_data(): \n",
    "\n",
    "    url = 'https://www.gutenberg.org/files/11/11-0.txt' \n",
    "    text = requests.get(url).text \n",
    "\n",
    "    # strip header junk \n",
    "    cutoff = text.index('Alice was beginning') \n",
    "    text = text[cutoff:] \n",
    "\n",
    "    # strip footer junk \n",
    "    cutoff = text.rindex('THE END') \n",
    "    text = text[:cutoff] \n",
    "\n",
    "    # pre-processing to clean the text \n",
    "    text = text.replace('\\r', ' ').replace('\\n', ' ') \n",
    "    text = text.replace('â\\x80\\x99', '\\'').replace('â\\x80\\x9c', '\"').replace('â\\x80\\x9d', '\"\"').replace('â\\x80\\x94', ' ') \n",
    "\n",
    "    return text"
   ]
  },
  {
   "cell_type": "code",
   "execution_count": 3,
   "id": "c88298e3",
   "metadata": {},
   "outputs": [],
   "source": [
    "def extract_entities(text): \n",
    "\n",
    "    doc = nlp(text) \n",
    "\n",
    "    sentences = list(doc.sents) \n",
    "\n",
    "    entities = [] \n",
    "\n",
    "    for sentence in tqdm(sentences): \n",
    "\n",
    "        sentence_entities = [] \n",
    "\n",
    "        sent_doc = nlp(sentence.text) \n",
    "\n",
    "        for ent in sent_doc.ents: \n",
    "\n",
    "            if ent.label_ in ['PERSON', 'ORG', 'GPE']: \n",
    "\n",
    "                entity = ent.text.strip() \n",
    "\n",
    "                if \"'s\" in entity: \n",
    "\n",
    "                    cutoff = entity.index(\"'s\") \n",
    "\n",
    "                    entity = entity[:cutoff] \n",
    "\n",
    "                if entity != '': \n",
    "\n",
    "                    sentence_entities.append(entity)   \n",
    "\n",
    "        sentence_entities = list(set(sentence_entities))       \n",
    "\n",
    "        if len(sentence_entities) > 0: # changed from 1 to zero to grab individuals from sentences; new idea after book\n",
    "\n",
    "            entities.append(sentence_entities) \n",
    "\n",
    "    return entities "
   ]
  },
  {
   "cell_type": "code",
   "execution_count": 4,
   "id": "102626ff",
   "metadata": {},
   "outputs": [],
   "source": [
    "def draw_graph(G, show_names=False, node_size=1, font_size=10, edge_width=0.5): \n",
    "\n",
    "    adjacency = nx.to_scipy_sparse_matrix(G, nodelist=None, dtype=None, weight='weight', format='csr') \n",
    "\n",
    "    names = np.array(list(G.nodes())) \n",
    "\n",
    "    graph = Bunch() \n",
    "    graph.adjacency = adjacency \n",
    "    graph.names = np.array(names) \n",
    "\n",
    "    pagerank = PageRank() \n",
    "\n",
    "    scores = pagerank.fit_transform(adjacency) \n",
    "\n",
    "    if show_names: \n",
    "        \n",
    "        image = svg_graph(graph.adjacency, font_size=font_size, node_size=node_size, names=graph.names, width=700, height=500, scores=scores, edge_width=edge_width) \n",
    "\n",
    "    else: \n",
    "\n",
    "        image = svg_graph(graph.adjacency, node_size=node_size, width=700, height=500, scores = scores, edge_width=edge_width) \n",
    "\n",
    "    return SVG(image) "
   ]
  },
  {
   "cell_type": "markdown",
   "id": "77a12aec",
   "metadata": {},
   "source": [
    "# Get Text"
   ]
  },
  {
   "cell_type": "code",
   "execution_count": 5,
   "id": "443c3cd4",
   "metadata": {},
   "outputs": [
    {
     "data": {
      "text/plain": [
       "'Alice was beginning to get very tired of sitting by her sister on the  bank, and of having nothing to do: once or twice she had peeped into  the book her sister was reading, but it had no pictures or '"
      ]
     },
     "execution_count": 5,
     "metadata": {},
     "output_type": "execute_result"
    }
   ],
   "source": [
    "text = get_data()\n",
    "text[0:200]"
   ]
  },
  {
   "cell_type": "markdown",
   "id": "7984710a",
   "metadata": {},
   "source": [
    "# Extract Entities by Sentence"
   ]
  },
  {
   "cell_type": "code",
   "execution_count": 6,
   "id": "a599e622",
   "metadata": {},
   "outputs": [],
   "source": [
    "def drop_duplicate_entities(entities):\n",
    "\n",
    "    keep_entities = []\n",
    "\n",
    "    for entity_list in entities:\n",
    "\n",
    "        if entity_list not in keep_entities:\n",
    "            keep_entities.append(entity_list)\n",
    "\n",
    "    return keep_entities"
   ]
  },
  {
   "cell_type": "code",
   "execution_count": 7,
   "id": "dd5ac387",
   "metadata": {},
   "outputs": [
    {
     "name": "stderr",
     "output_type": "stream",
     "text": [
      "100%|██████████████████████████████████████████████████████████████████████████████| 2080/2080 [00:48<00:00, 42.47it/s]\n"
     ]
    },
    {
     "data": {
      "text/plain": [
       "[['Alice'],\n",
       " ['Alice', 'Rabbit'],\n",
       " ['Longitude', 'Alice'],\n",
       " ['Antipathies'],\n",
       " [\"Ma'am\", 'New Zealand', 'Australia']]"
      ]
     },
     "execution_count": 7,
     "metadata": {},
     "output_type": "execute_result"
    }
   ],
   "source": [
    "entities = extract_entities(text)\n",
    "entities = drop_duplicate_entities(entities)\n",
    "entities[0:5]"
   ]
  },
  {
   "cell_type": "code",
   "execution_count": 8,
   "id": "fe330d82",
   "metadata": {},
   "outputs": [
    {
     "data": {
      "text/html": [
       "<div>\n",
       "<style scoped>\n",
       "    .dataframe tbody tr th:only-of-type {\n",
       "        vertical-align: middle;\n",
       "    }\n",
       "\n",
       "    .dataframe tbody tr th {\n",
       "        vertical-align: top;\n",
       "    }\n",
       "\n",
       "    .dataframe thead th {\n",
       "        text-align: right;\n",
       "    }\n",
       "</style>\n",
       "<table border=\"1\" class=\"dataframe\">\n",
       "  <thead>\n",
       "    <tr style=\"text-align: right;\">\n",
       "      <th></th>\n",
       "      <th>entity</th>\n",
       "      <th>sentence</th>\n",
       "    </tr>\n",
       "  </thead>\n",
       "  <tbody>\n",
       "    <tr>\n",
       "      <th>0</th>\n",
       "      <td>Alice</td>\n",
       "      <td>0</td>\n",
       "    </tr>\n",
       "    <tr>\n",
       "      <th>1</th>\n",
       "      <td>Alice</td>\n",
       "      <td>1</td>\n",
       "    </tr>\n",
       "    <tr>\n",
       "      <th>1</th>\n",
       "      <td>Rabbit</td>\n",
       "      <td>1</td>\n",
       "    </tr>\n",
       "    <tr>\n",
       "      <th>2</th>\n",
       "      <td>Longitude</td>\n",
       "      <td>2</td>\n",
       "    </tr>\n",
       "    <tr>\n",
       "      <th>2</th>\n",
       "      <td>Alice</td>\n",
       "      <td>2</td>\n",
       "    </tr>\n",
       "  </tbody>\n",
       "</table>\n",
       "</div>"
      ],
      "text/plain": [
       "      entity  sentence\n",
       "0      Alice         0\n",
       "1      Alice         1\n",
       "1     Rabbit         1\n",
       "2  Longitude         2\n",
       "2      Alice         2"
      ]
     },
     "execution_count": 8,
     "metadata": {},
     "output_type": "execute_result"
    }
   ],
   "source": [
    "entity_df = pd.DataFrame({'entities':entities}).reset_index()\n",
    "entity_df.columns = ['sentence', 'entity']\n",
    "entity_df = entity_df.explode('entity')\n",
    "\n",
    "entity_df = entity_df[['entity', 'sentence']]\n",
    "\n",
    "# wrangling\n",
    "entity_df = entity_df[entity_df['entity'].str.contains('CHAPTER', case=False)==False] # drop chapter nodes\n",
    "\n",
    "entity_df.head()"
   ]
  },
  {
   "cell_type": "markdown",
   "id": "854361a8",
   "metadata": {},
   "source": [
    "# Graph Approach: Bipartite Projection (New Idea)"
   ]
  },
  {
   "cell_type": "code",
   "execution_count": 9,
   "id": "c60d712e",
   "metadata": {},
   "outputs": [],
   "source": [
    "B = nx.from_pandas_edgelist(entity_df, source='entity', target='sentence') # new approach\n",
    "G = bipartite.projected_graph(B, entity_df['entity'])\n",
    "\n",
    "# wrangling\n",
    "G = nx.k_core(G, 1) # quickly remove disconnected junk nodes\n",
    "\n",
    "drop_nodes = ['Beautiful', 'Hm', 'Improve', 'Longitude', 'Ma\\'am', 'Mystery', 'Said', 'Seaography', 'Somebody', \n",
    "              'The Rabbit Sends', 'garden_.', 'The Rabbit Sends', 'the White Rabbit', \"â\\x80\\x98I'll\", 'â\\x80\\x98Keep', \n",
    "              'â\\x80\\x98it', 'William_']\n",
    "\n",
    "G.remove_nodes_from(drop_nodes) # remove drop nodes"
   ]
  },
  {
   "cell_type": "code",
   "execution_count": 10,
   "id": "145f5a30",
   "metadata": {},
   "outputs": [
    {
     "data": {
      "image/svg+xml": [
       "<svg height=\"540\" width=\"845.0\" xmlns=\"http://www.w3.org/2000/svg\"><path d=\"M 322 330 334 225\" stroke=\"gray\" stroke-width=\"0.5\"/><path d=\"M 322 330 351 255\" stroke=\"gray\" stroke-width=\"0.5\"/><path d=\"M 322 330 252 274\" stroke=\"gray\" stroke-width=\"0.5\"/><path d=\"M 322 330 230 288\" stroke=\"gray\" stroke-width=\"0.5\"/><path d=\"M 322 330 382 431\" stroke=\"gray\" stroke-width=\"0.5\"/><path d=\"M 322 330 358 449\" stroke=\"gray\" stroke-width=\"0.5\"/><path d=\"M 322 330 312 419\" stroke=\"gray\" stroke-width=\"0.5\"/><path d=\"M 322 330 402 224\" stroke=\"gray\" stroke-width=\"0.5\"/><path d=\"M 322 330 250 392\" stroke=\"gray\" stroke-width=\"0.5\"/><path d=\"M 322 330 315 269\" stroke=\"gray\" stroke-width=\"0.5\"/><path d=\"M 322 330 381 313\" stroke=\"gray\" stroke-width=\"0.5\"/><path d=\"M 322 330 281 413\" stroke=\"gray\" stroke-width=\"0.5\"/><path d=\"M 322 330 238 323\" stroke=\"gray\" stroke-width=\"0.5\"/><path d=\"M 322 330 241 365\" stroke=\"gray\" stroke-width=\"0.5\"/><path d=\"M 322 330 258 327\" stroke=\"gray\" stroke-width=\"0.5\"/><path d=\"M 322 330 366 266\" stroke=\"gray\" stroke-width=\"0.5\"/><path d=\"M 322 330 279 295\" stroke=\"gray\" stroke-width=\"0.5\"/><path d=\"M 322 330 439 282\" stroke=\"gray\" stroke-width=\"0.5\"/><path d=\"M 322 330 311 390\" stroke=\"gray\" stroke-width=\"0.5\"/><path d=\"M 322 330 282 385\" stroke=\"gray\" stroke-width=\"0.5\"/><path d=\"M 322 330 377 345\" stroke=\"gray\" stroke-width=\"0.5\"/><path d=\"M 322 330 290 257\" stroke=\"gray\" stroke-width=\"0.5\"/><path d=\"M 322 330 392 359\" stroke=\"gray\" stroke-width=\"0.5\"/><path d=\"M 334 225 322 330\" stroke=\"gray\" stroke-width=\"0.5\"/><path d=\"M 334 225 351 255\" stroke=\"gray\" stroke-width=\"0.5\"/><path d=\"M 334 225 315 269\" stroke=\"gray\" stroke-width=\"0.5\"/><path d=\"M 334 225 353 138\" stroke=\"gray\" stroke-width=\"0.5\"/><path d=\"M 619 200 636 234\" stroke=\"gray\" stroke-width=\"0.5\"/><path d=\"M 636 234 619 200\" stroke=\"gray\" stroke-width=\"0.5\"/><path d=\"M 351 255 322 330\" stroke=\"gray\" stroke-width=\"0.5\"/><path d=\"M 351 255 334 225\" stroke=\"gray\" stroke-width=\"0.5\"/><path d=\"M 351 255 402 224\" stroke=\"gray\" stroke-width=\"0.5\"/><path d=\"M 252 274 322 330\" stroke=\"gray\" stroke-width=\"0.5\"/><path d=\"M 230 288 322 330\" stroke=\"gray\" stroke-width=\"0.5\"/><path d=\"M 230 288 169 231\" stroke=\"gray\" stroke-width=\"0.5\"/><path d=\"M 230 288 258 327\" stroke=\"gray\" stroke-width=\"0.5\"/><path d=\"M 230 288 279 295\" stroke=\"gray\" stroke-width=\"0.5\"/><path d=\"M 230 288 198 310\" stroke=\"gray\" stroke-width=\"0.5\"/><path d=\"M 437 504 382 431\" stroke=\"gray\" stroke-width=\"0.5\"/><path d=\"M 382 431 322 330\" stroke=\"gray\" stroke-width=\"0.5\"/><path d=\"M 382 431 437 504\" stroke=\"gray\" stroke-width=\"0.5\"/><path d=\"M 432 439 457 420\" stroke=\"gray\" stroke-width=\"0.5\"/><path d=\"M 432 439 416 412\" stroke=\"gray\" stroke-width=\"0.5\"/><path d=\"M 457 420 432 439\" stroke=\"gray\" stroke-width=\"0.5\"/><path d=\"M 457 420 416 412\" stroke=\"gray\" stroke-width=\"0.5\"/><path d=\"M 416 412 432 439\" stroke=\"gray\" stroke-width=\"0.5\"/><path d=\"M 416 412 457 420\" stroke=\"gray\" stroke-width=\"0.5\"/><path d=\"M 358 449 322 330\" stroke=\"gray\" stroke-width=\"0.5\"/><path d=\"M 358 449 377 520\" stroke=\"gray\" stroke-width=\"0.5\"/><path d=\"M 358 449 402 505\" stroke=\"gray\" stroke-width=\"0.5\"/><path d=\"M 312 419 322 330\" stroke=\"gray\" stroke-width=\"0.5\"/><path d=\"M 476 174 402 224\" stroke=\"gray\" stroke-width=\"0.5\"/><path d=\"M 402 224 322 330\" stroke=\"gray\" stroke-width=\"0.5\"/><path d=\"M 402 224 351 255\" stroke=\"gray\" stroke-width=\"0.5\"/><path d=\"M 402 224 476 174\" stroke=\"gray\" stroke-width=\"0.5\"/><path d=\"M 402 224 433 143\" stroke=\"gray\" stroke-width=\"0.5\"/><path d=\"M 253 111 210 114\" stroke=\"gray\" stroke-width=\"0.5\"/><path d=\"M 253 111 211 135\" stroke=\"gray\" stroke-width=\"0.5\"/><path d=\"M 210 114 253 111\" stroke=\"gray\" stroke-width=\"0.5\"/><path d=\"M 210 114 211 135\" stroke=\"gray\" stroke-width=\"0.5\"/><path d=\"M 210 114 176 129\" stroke=\"gray\" stroke-width=\"0.5\"/><path d=\"M 210 114 175 148\" stroke=\"gray\" stroke-width=\"0.5\"/><path d=\"M 210 114 180 108\" stroke=\"gray\" stroke-width=\"0.5\"/><path d=\"M 211 135 253 111\" stroke=\"gray\" stroke-width=\"0.5\"/><path d=\"M 211 135 210 114\" stroke=\"gray\" stroke-width=\"0.5\"/><path d=\"M 211 135 176 129\" stroke=\"gray\" stroke-width=\"0.5\"/><path d=\"M 211 135 175 148\" stroke=\"gray\" stroke-width=\"0.5\"/><path d=\"M 211 135 180 108\" stroke=\"gray\" stroke-width=\"0.5\"/><path d=\"M 176 129 210 114\" stroke=\"gray\" stroke-width=\"0.5\"/><path d=\"M 176 129 211 135\" stroke=\"gray\" stroke-width=\"0.5\"/><path d=\"M 176 129 175 148\" stroke=\"gray\" stroke-width=\"0.5\"/><path d=\"M 176 129 180 108\" stroke=\"gray\" stroke-width=\"0.5\"/><path d=\"M 175 148 210 114\" stroke=\"gray\" stroke-width=\"0.5\"/><path d=\"M 175 148 211 135\" stroke=\"gray\" stroke-width=\"0.5\"/><path d=\"M 175 148 176 129\" stroke=\"gray\" stroke-width=\"0.5\"/><path d=\"M 175 148 180 108\" stroke=\"gray\" stroke-width=\"0.5\"/><path d=\"M 180 108 210 114\" stroke=\"gray\" stroke-width=\"0.5\"/><path d=\"M 180 108 211 135\" stroke=\"gray\" stroke-width=\"0.5\"/><path d=\"M 180 108 176 129\" stroke=\"gray\" stroke-width=\"0.5\"/><path d=\"M 180 108 175 148\" stroke=\"gray\" stroke-width=\"0.5\"/><path d=\"M 377 520 358 449\" stroke=\"gray\" stroke-width=\"0.5\"/><path d=\"M 377 520 402 505\" stroke=\"gray\" stroke-width=\"0.5\"/><path d=\"M 402 505 358 449\" stroke=\"gray\" stroke-width=\"0.5\"/><path d=\"M 402 505 377 520\" stroke=\"gray\" stroke-width=\"0.5\"/><path d=\"M 433 143 402 224\" stroke=\"gray\" stroke-width=\"0.5\"/><path d=\"M 250 392 322 330\" stroke=\"gray\" stroke-width=\"0.5\"/><path d=\"M 315 269 322 330\" stroke=\"gray\" stroke-width=\"0.5\"/><path d=\"M 315 269 334 225\" stroke=\"gray\" stroke-width=\"0.5\"/><path d=\"M 353 138 334 225\" stroke=\"gray\" stroke-width=\"0.5\"/><path d=\"M 381 313 322 330\" stroke=\"gray\" stroke-width=\"0.5\"/><path d=\"M 281 413 322 330\" stroke=\"gray\" stroke-width=\"0.5\"/><path d=\"M 238 323 322 330\" stroke=\"gray\" stroke-width=\"0.5\"/><path d=\"M 169 231 230 288\" stroke=\"gray\" stroke-width=\"0.5\"/><path d=\"M 241 365 322 330\" stroke=\"gray\" stroke-width=\"0.5\"/><path d=\"M 258 327 322 330\" stroke=\"gray\" stroke-width=\"0.5\"/><path d=\"M 258 327 230 288\" stroke=\"gray\" stroke-width=\"0.5\"/><path d=\"M 366 266 322 330\" stroke=\"gray\" stroke-width=\"0.5\"/><path d=\"M 366 266 279 295\" stroke=\"gray\" stroke-width=\"0.5\"/><path d=\"M 366 266 439 282\" stroke=\"gray\" stroke-width=\"0.5\"/><path d=\"M 366 266 387 184\" stroke=\"gray\" stroke-width=\"0.5\"/><path d=\"M 279 295 322 330\" stroke=\"gray\" stroke-width=\"0.5\"/><path d=\"M 279 295 230 288\" stroke=\"gray\" stroke-width=\"0.5\"/><path d=\"M 279 295 366 266\" stroke=\"gray\" stroke-width=\"0.5\"/><path d=\"M 279 295 198 310\" stroke=\"gray\" stroke-width=\"0.5\"/><path d=\"M 439 282 322 330\" stroke=\"gray\" stroke-width=\"0.5\"/><path d=\"M 439 282 366 266\" stroke=\"gray\" stroke-width=\"0.5\"/><path d=\"M 439 282 495 299\" stroke=\"gray\" stroke-width=\"0.5\"/><path d=\"M 439 282 516 298\" stroke=\"gray\" stroke-width=\"0.5\"/><path d=\"M 439 282 507 271\" stroke=\"gray\" stroke-width=\"0.5\"/><path d=\"M 439 282 476 217\" stroke=\"gray\" stroke-width=\"0.5\"/><path d=\"M 387 184 366 266\" stroke=\"gray\" stroke-width=\"0.5\"/><path d=\"M 495 299 439 282\" stroke=\"gray\" stroke-width=\"0.5\"/><path d=\"M 495 299 516 298\" stroke=\"gray\" stroke-width=\"0.5\"/><path d=\"M 495 299 507 271\" stroke=\"gray\" stroke-width=\"0.5\"/><path d=\"M 516 298 439 282\" stroke=\"gray\" stroke-width=\"0.5\"/><path d=\"M 516 298 495 299\" stroke=\"gray\" stroke-width=\"0.5\"/><path d=\"M 516 298 507 271\" stroke=\"gray\" stroke-width=\"0.5\"/><path d=\"M 507 271 439 282\" stroke=\"gray\" stroke-width=\"0.5\"/><path d=\"M 507 271 495 299\" stroke=\"gray\" stroke-width=\"0.5\"/><path d=\"M 507 271 516 298\" stroke=\"gray\" stroke-width=\"0.5\"/><path d=\"M 476 217 439 282\" stroke=\"gray\" stroke-width=\"0.5\"/><path d=\"M 311 390 322 330\" stroke=\"gray\" stroke-width=\"0.5\"/><path d=\"M 311 390 282 385\" stroke=\"gray\" stroke-width=\"0.5\"/><path d=\"M 282 385 322 330\" stroke=\"gray\" stroke-width=\"0.5\"/><path d=\"M 282 385 311 390\" stroke=\"gray\" stroke-width=\"0.5\"/><path d=\"M 377 345 322 330\" stroke=\"gray\" stroke-width=\"0.5\"/><path d=\"M 377 345 392 359\" stroke=\"gray\" stroke-width=\"0.5\"/><path d=\"M 290 257 322 330\" stroke=\"gray\" stroke-width=\"0.5\"/><path d=\"M 720 29 686 20\" stroke=\"gray\" stroke-width=\"0.5\"/><path d=\"M 686 20 720 29\" stroke=\"gray\" stroke-width=\"0.5\"/><path d=\"M 392 359 322 330\" stroke=\"gray\" stroke-width=\"0.5\"/><path d=\"M 392 359 377 345\" stroke=\"gray\" stroke-width=\"0.5\"/><path d=\"M 198 310 230 288\" stroke=\"gray\" stroke-width=\"0.5\"/><path d=\"M 198 310 279 295\" stroke=\"gray\" stroke-width=\"0.5\"/><circle cx=\"322\" cy=\"330\" r=\"3.0\" style=\"fill:rgb(179, 3, 38);stroke:black;stroke-width:1.0\"/><circle cx=\"334\" cy=\"225\" r=\"3.0\" style=\"fill:rgb(99, 131, 234);stroke:black;stroke-width:1.0\"/><circle cx=\"619\" cy=\"200\" r=\"3.0\" style=\"fill:rgb(80, 107, 218);stroke:black;stroke-width:1.0\"/><circle cx=\"636\" cy=\"234\" r=\"3.0\" style=\"fill:rgb(80, 107, 218);stroke:black;stroke-width:1.0\"/><circle cx=\"351\" cy=\"255\" r=\"3.0\" style=\"fill:rgb(86, 115, 224);stroke:black;stroke-width:1.0\"/><circle cx=\"252\" cy=\"274\" r=\"3.0\" style=\"fill:rgb(58, 76, 192);stroke:black;stroke-width:1.0\"/><circle cx=\"230\" cy=\"288\" r=\"3.0\" style=\"fill:rgb(112, 147, 243);stroke:black;stroke-width:1.0\"/><circle cx=\"437\" cy=\"504\" r=\"3.0\" style=\"fill:rgb(60, 79, 195);stroke:black;stroke-width:1.0\"/><circle cx=\"382\" cy=\"431\" r=\"3.0\" style=\"fill:rgb(76, 102, 214);stroke:black;stroke-width:1.0\"/><circle cx=\"432\" cy=\"439\" r=\"3.0\" style=\"fill:rgb(80, 107, 218);stroke:black;stroke-width:1.0\"/><circle cx=\"457\" cy=\"420\" r=\"3.0\" style=\"fill:rgb(80, 107, 218);stroke:black;stroke-width:1.0\"/><circle cx=\"416\" cy=\"412\" r=\"3.0\" style=\"fill:rgb(80, 107, 218);stroke:black;stroke-width:1.0\"/><circle cx=\"20\" cy=\"149\" r=\"3.0\" style=\"fill:rgb(80, 107, 218);stroke:black;stroke-width:1.0\"/><circle cx=\"358\" cy=\"449\" r=\"3.0\" style=\"fill:rgb(86, 115, 224);stroke:black;stroke-width:1.0\"/><circle cx=\"312\" cy=\"419\" r=\"3.0\" style=\"fill:rgb(58, 76, 192);stroke:black;stroke-width:1.0\"/><circle cx=\"476\" cy=\"174\" r=\"3.0\" style=\"fill:rgb(58, 76, 192);stroke:black;stroke-width:1.0\"/><circle cx=\"402\" cy=\"224\" r=\"3.0\" style=\"fill:rgb(105, 139, 239);stroke:black;stroke-width:1.0\"/><circle cx=\"253\" cy=\"111\" r=\"3.0\" style=\"fill:rgb(60, 79, 195);stroke:black;stroke-width:1.0\"/><circle cx=\"210\" cy=\"114\" r=\"3.0\" style=\"fill:rgb(88, 118, 226);stroke:black;stroke-width:1.0\"/><circle cx=\"211\" cy=\"135\" r=\"3.0\" style=\"fill:rgb(88, 118, 226);stroke:black;stroke-width:1.0\"/><circle cx=\"176\" cy=\"129\" r=\"3.0\" style=\"fill:rgb(80, 107, 218);stroke:black;stroke-width:1.0\"/><circle cx=\"175\" cy=\"148\" r=\"3.0\" style=\"fill:rgb(80, 107, 218);stroke:black;stroke-width:1.0\"/><circle cx=\"180\" cy=\"108\" r=\"3.0\" style=\"fill:rgb(80, 107, 218);stroke:black;stroke-width:1.0\"/><circle cx=\"377\" cy=\"520\" r=\"3.0\" style=\"fill:rgb(72, 96, 209);stroke:black;stroke-width:1.0\"/><circle cx=\"402\" cy=\"505\" r=\"3.0\" style=\"fill:rgb(72, 96, 209);stroke:black;stroke-width:1.0\"/><circle cx=\"433\" cy=\"143\" r=\"3.0\" style=\"fill:rgb(58, 76, 192);stroke:black;stroke-width:1.0\"/><circle cx=\"250\" cy=\"392\" r=\"3.0\" style=\"fill:rgb(58, 76, 192);stroke:black;stroke-width:1.0\"/><circle cx=\"315\" cy=\"269\" r=\"3.0\" style=\"fill:rgb(70, 93, 207);stroke:black;stroke-width:1.0\"/><circle cx=\"353\" cy=\"138\" r=\"3.0\" style=\"fill:rgb(58, 76, 192);stroke:black;stroke-width:1.0\"/><circle cx=\"381\" cy=\"313\" r=\"3.0\" style=\"fill:rgb(58, 76, 192);stroke:black;stroke-width:1.0\"/><circle cx=\"281\" cy=\"413\" r=\"3.0\" style=\"fill:rgb(58, 76, 192);stroke:black;stroke-width:1.0\"/><circle cx=\"238\" cy=\"323\" r=\"3.0\" style=\"fill:rgb(58, 76, 192);stroke:black;stroke-width:1.0\"/><circle cx=\"169\" cy=\"231\" r=\"3.0\" style=\"fill:rgb(58, 76, 192);stroke:black;stroke-width:1.0\"/><circle cx=\"241\" cy=\"365\" r=\"3.0\" style=\"fill:rgb(58, 76, 192);stroke:black;stroke-width:1.0\"/><circle cx=\"258\" cy=\"327\" r=\"3.0\" style=\"fill:rgb(70, 93, 207);stroke:black;stroke-width:1.0\"/><circle cx=\"366\" cy=\"266\" r=\"3.0\" style=\"fill:rgb(96, 128, 232);stroke:black;stroke-width:1.0\"/><circle cx=\"279\" cy=\"295\" r=\"3.0\" style=\"fill:rgb(96, 128, 232);stroke:black;stroke-width:1.0\"/><circle cx=\"439\" cy=\"282\" r=\"3.0\" style=\"fill:rgb(120, 155, 247);stroke:black;stroke-width:1.0\"/><circle cx=\"387\" cy=\"184\" r=\"3.0\" style=\"fill:rgb(58, 76, 192);stroke:black;stroke-width:1.0\"/><circle cx=\"495\" cy=\"299\" r=\"3.0\" style=\"fill:rgb(80, 107, 218);stroke:black;stroke-width:1.0\"/><circle cx=\"516\" cy=\"298\" r=\"3.0\" style=\"fill:rgb(80, 107, 218);stroke:black;stroke-width:1.0\"/><circle cx=\"507\" cy=\"271\" r=\"3.0\" style=\"fill:rgb(80, 107, 218);stroke:black;stroke-width:1.0\"/><circle cx=\"476\" cy=\"217\" r=\"3.0\" style=\"fill:rgb(58, 76, 192);stroke:black;stroke-width:1.0\"/><circle cx=\"311\" cy=\"390\" r=\"3.0\" style=\"fill:rgb(70, 93, 207);stroke:black;stroke-width:1.0\"/><circle cx=\"282\" cy=\"385\" r=\"3.0\" style=\"fill:rgb(70, 93, 207);stroke:black;stroke-width:1.0\"/><circle cx=\"377\" cy=\"345\" r=\"3.0\" style=\"fill:rgb(70, 93, 207);stroke:black;stroke-width:1.0\"/><circle cx=\"290\" cy=\"257\" r=\"3.0\" style=\"fill:rgb(58, 76, 192);stroke:black;stroke-width:1.0\"/><circle cx=\"720\" cy=\"29\" r=\"3.0\" style=\"fill:rgb(80, 107, 218);stroke:black;stroke-width:1.0\"/><circle cx=\"686\" cy=\"20\" r=\"3.0\" style=\"fill:rgb(80, 107, 218);stroke:black;stroke-width:1.0\"/><circle cx=\"392\" cy=\"359\" r=\"3.0\" style=\"fill:rgb(70, 93, 207);stroke:black;stroke-width:1.0\"/><circle cx=\"198\" cy=\"310\" r=\"3.0\" style=\"fill:rgb(70, 93, 207);stroke:black;stroke-width:1.0\"/><text font-size=\"10\" x=\"328\" y=\"333\">Alice</text><text font-size=\"10\" x=\"340\" y=\"228\">Rabbit</text><text font-size=\"10\" x=\"625\" y=\"203\">New Zealand</text><text font-size=\"10\" x=\"642\" y=\"237\">Australia</text><text font-size=\"10\" x=\"357\" y=\"258\">Dinah</text><text font-size=\"10\" x=\"258\" y=\"277\">Fender</text><text font-size=\"10\" x=\"236\" y=\"291\">Duchess</text><text font-size=\"10\" x=\"443\" y=\"507\">Ada</text><text font-size=\"10\" x=\"388\" y=\"434\">Mabel</text><text font-size=\"10\" x=\"438\" y=\"442\">London</text><text font-size=\"10\" x=\"463\" y=\"423\">Paris</text><text font-size=\"10\" x=\"422\" y=\"415\">Rome</text><text font-size=\"10\" x=\"26\" y=\"152\">Nile</text><text font-size=\"10\" x=\"364\" y=\"452\">Mouse</text><text font-size=\"10\" x=\"318\" y=\"422\">William the Conqueror</text><text font-size=\"10\" x=\"482\" y=\"177\">Eaglet</text><text font-size=\"10\" x=\"408\" y=\"227\">Lory</text><text font-size=\"10\" x=\"259\" y=\"114\">Edwin</text><text font-size=\"10\" x=\"216\" y=\"117\">Morcar</text><text font-size=\"10\" x=\"217\" y=\"138\">Northumbria</text><text font-size=\"10\" x=\"182\" y=\"132\">Stigand</text><text font-size=\"10\" x=\"181\" y=\"151\">Canterbury</text><text font-size=\"10\" x=\"186\" y=\"111\">Mercia</text><text font-size=\"10\" x=\"383\" y=\"523\">William</text><text font-size=\"10\" x=\"408\" y=\"508\">Edgar Atheling</text><text font-size=\"10\" x=\"439\" y=\"146\">Crab</text><text font-size=\"10\" x=\"256\" y=\"395\">Bill</text><text font-size=\"10\" x=\"321\" y=\"272\">Mary Ann</text><text font-size=\"10\" x=\"359\" y=\"141\">Pat</text><text font-size=\"10\" x=\"387\" y=\"316\">Caterpillar</text><text font-size=\"10\" x=\"287\" y=\"416\">Pigeon</text><text font-size=\"10\" x=\"244\" y=\"326\">Fish-Footman</text><text font-size=\"10\" x=\"175\" y=\"234\">Cheshire</text><text font-size=\"10\" x=\"247\" y=\"368\">Cheshire Cat</text><text font-size=\"10\" x=\"264\" y=\"330\">Cat</text><text font-size=\"10\" x=\"372\" y=\"269\">Hatter</text><text font-size=\"10\" x=\"285\" y=\"298\">Hare</text><text font-size=\"10\" x=\"445\" y=\"285\">Dormouse</text><text font-size=\"10\" x=\"393\" y=\"187\">Time</text><text font-size=\"10\" x=\"501\" y=\"302\">Elsie</text><text font-size=\"10\" x=\"522\" y=\"301\">Lacie</text><text font-size=\"10\" x=\"513\" y=\"274\">Tillie</text><text font-size=\"10\" x=\"482\" y=\"220\">Treacle</text><text font-size=\"10\" x=\"317\" y=\"393\">Queens</text><text font-size=\"10\" x=\"288\" y=\"388\">Kings</text><text font-size=\"10\" x=\"383\" y=\"348\">Gryphon</text><text font-size=\"10\" x=\"296\" y=\"260\">Lobster Quadrille</text><text font-size=\"10\" x=\"726\" y=\"32\">France</text><text font-size=\"10\" x=\"692\" y=\"23\">England</text><text font-size=\"10\" x=\"398\" y=\"362\">Soup</text><text font-size=\"10\" x=\"204\" y=\"313\">Lizard</text></svg>"
      ],
      "text/plain": [
       "<IPython.core.display.SVG object>"
      ]
     },
     "execution_count": 10,
     "metadata": {},
     "output_type": "execute_result"
    }
   ],
   "source": [
    "draw_graph(G, show_names=True, node_size=3)"
   ]
  },
  {
   "cell_type": "code",
   "execution_count": 11,
   "id": "95b726e1",
   "metadata": {},
   "outputs": [
    {
     "data": {
      "text/plain": [
       "['Ada',\n",
       " 'Alice',\n",
       " 'Australia',\n",
       " 'Bill',\n",
       " 'Canterbury',\n",
       " 'Cat',\n",
       " 'Caterpillar',\n",
       " 'Cheshire',\n",
       " 'Cheshire Cat',\n",
       " 'Crab',\n",
       " 'Dinah',\n",
       " 'Dormouse',\n",
       " 'Duchess',\n",
       " 'Eaglet',\n",
       " 'Edgar Atheling',\n",
       " 'Edwin',\n",
       " 'Elsie',\n",
       " 'England',\n",
       " 'Fender',\n",
       " 'Fish-Footman']"
      ]
     },
     "execution_count": 11,
     "metadata": {},
     "output_type": "execute_result"
    }
   ],
   "source": [
    "# use this to look through nodes, twenty at a time; change indexes to look around; learn pandas indexing\n",
    "# useful for identifying junk nodes to remove\n",
    "\n",
    "sorted(G.nodes)[0:20]"
   ]
  },
  {
   "cell_type": "markdown",
   "id": "5fe51bc4",
   "metadata": {},
   "source": [
    "# New Approach, But Inspecting Sentences\n",
    "\n",
    "This isn't meant to be immediately useful. I am just curious to see if I can see what parts of the network are active based on the sentence number of the sentence that entities were extracted from. If so, that seems like it could be useful, somehow, someday, with more thought.\n",
    "\n",
    "It's neat that there is a core to this and that the network has been projected differently."
   ]
  },
  {
   "cell_type": "code",
   "execution_count": 12,
   "id": "9f4b6795",
   "metadata": {},
   "outputs": [],
   "source": [
    "B = nx.from_pandas_edgelist(entity_df, source='entity', target='sentence') # new approach\n",
    "G_sent = bipartite.projected_graph(B, entity_df['sentence'])\n",
    "\n",
    "# wrangling\n",
    "G_sent = nx.k_core(G_sent, 1) # quickly remove disconnected junk nodes"
   ]
  },
  {
   "cell_type": "code",
   "execution_count": 13,
   "id": "0501a59b",
   "metadata": {},
   "outputs": [
    {
     "data": {
      "image/svg+xml": [
       "<svg height=\"540\" width=\"755.0\" xmlns=\"http://www.w3.org/2000/svg\"><path d=\"M 445 139 436 163\" stroke=\"gray\" stroke-width=\"0.5\"/><path d=\"M 445 139 451 140\" stroke=\"gray\" stroke-width=\"0.5\"/><path d=\"M 445 139 441 156\" stroke=\"gray\" stroke-width=\"0.5\"/><path d=\"M 445 139 432 160\" stroke=\"gray\" stroke-width=\"0.5\"/><path d=\"M 445 139 437 130\" stroke=\"gray\" stroke-width=\"0.5\"/><path d=\"M 445 139 453 150\" stroke=\"gray\" stroke-width=\"0.5\"/><path d=\"M 445 139 419 145\" stroke=\"gray\" stroke-width=\"0.5\"/><path d=\"M 445 139 474 139\" stroke=\"gray\" stroke-width=\"0.5\"/><path d=\"M 445 139 449 171\" stroke=\"gray\" stroke-width=\"0.5\"/><path d=\"M 445 139 459 154\" stroke=\"gray\" stroke-width=\"0.5\"/><path d=\"M 445 139 449 126\" stroke=\"gray\" stroke-width=\"0.5\"/><path d=\"M 445 139 449 163\" stroke=\"gray\" stroke-width=\"0.5\"/><path d=\"M 445 139 461 134\" stroke=\"gray\" stroke-width=\"0.5\"/><path d=\"M 445 139 463 138\" stroke=\"gray\" stroke-width=\"0.5\"/><path d=\"M 445 139 434 135\" stroke=\"gray\" stroke-width=\"0.5\"/><path d=\"M 445 139 439 142\" stroke=\"gray\" stroke-width=\"0.5\"/><path d=\"M 445 139 442 176\" stroke=\"gray\" stroke-width=\"0.5\"/><path d=\"M 445 139 457 166\" stroke=\"gray\" stroke-width=\"0.5\"/><path d=\"M 445 139 469 158\" stroke=\"gray\" stroke-width=\"0.5\"/><path d=\"M 445 139 467 152\" stroke=\"gray\" stroke-width=\"0.5\"/><path d=\"M 445 139 474 156\" stroke=\"gray\" stroke-width=\"0.5\"/><path d=\"M 445 139 465 165\" stroke=\"gray\" stroke-width=\"0.5\"/><path d=\"M 445 139 441 150\" stroke=\"gray\" stroke-width=\"0.5\"/><path d=\"M 445 139 442 169\" stroke=\"gray\" stroke-width=\"0.5\"/><path d=\"M 445 139 454 130\" stroke=\"gray\" stroke-width=\"0.5\"/><path d=\"M 445 139 434 152\" stroke=\"gray\" stroke-width=\"0.5\"/><path d=\"M 445 139 434 146\" stroke=\"gray\" stroke-width=\"0.5\"/><path d=\"M 445 139 456 145\" stroke=\"gray\" stroke-width=\"0.5\"/><path d=\"M 445 139 447 146\" stroke=\"gray\" stroke-width=\"0.5\"/><path d=\"M 445 139 448 155\" stroke=\"gray\" stroke-width=\"0.5\"/><path d=\"M 445 139 424 140\" stroke=\"gray\" stroke-width=\"0.5\"/><path d=\"M 445 139 443 127\" stroke=\"gray\" stroke-width=\"0.5\"/><path d=\"M 436 163 445 139\" stroke=\"gray\" stroke-width=\"0.5\"/><path d=\"M 436 163 451 140\" stroke=\"gray\" stroke-width=\"0.5\"/><path d=\"M 436 163 413 199\" stroke=\"gray\" stroke-width=\"0.5\"/><path d=\"M 436 163 441 156\" stroke=\"gray\" stroke-width=\"0.5\"/><path d=\"M 436 163 432 160\" stroke=\"gray\" stroke-width=\"0.5\"/><path d=\"M 436 163 437 130\" stroke=\"gray\" stroke-width=\"0.5\"/><path d=\"M 436 163 453 150\" stroke=\"gray\" stroke-width=\"0.5\"/><path d=\"M 436 163 419 145\" stroke=\"gray\" stroke-width=\"0.5\"/><path d=\"M 436 163 474 139\" stroke=\"gray\" stroke-width=\"0.5\"/><path d=\"M 436 163 449 171\" stroke=\"gray\" stroke-width=\"0.5\"/><path d=\"M 436 163 459 154\" stroke=\"gray\" stroke-width=\"0.5\"/><path d=\"M 436 163 401 210\" stroke=\"gray\" stroke-width=\"0.5\"/><path d=\"M 436 163 449 126\" stroke=\"gray\" stroke-width=\"0.5\"/><path d=\"M 436 163 449 163\" stroke=\"gray\" stroke-width=\"0.5\"/><path d=\"M 436 163 461 134\" stroke=\"gray\" stroke-width=\"0.5\"/><path d=\"M 436 163 463 138\" stroke=\"gray\" stroke-width=\"0.5\"/><path d=\"M 436 163 434 135\" stroke=\"gray\" stroke-width=\"0.5\"/><path d=\"M 436 163 439 142\" stroke=\"gray\" stroke-width=\"0.5\"/><path d=\"M 436 163 442 176\" stroke=\"gray\" stroke-width=\"0.5\"/><path d=\"M 436 163 457 166\" stroke=\"gray\" stroke-width=\"0.5\"/><path d=\"M 436 163 469 158\" stroke=\"gray\" stroke-width=\"0.5\"/><path d=\"M 436 163 467 152\" stroke=\"gray\" stroke-width=\"0.5\"/><path d=\"M 436 163 474 156\" stroke=\"gray\" stroke-width=\"0.5\"/><path d=\"M 436 163 465 165\" stroke=\"gray\" stroke-width=\"0.5\"/><path d=\"M 436 163 441 150\" stroke=\"gray\" stroke-width=\"0.5\"/><path d=\"M 436 163 442 169\" stroke=\"gray\" stroke-width=\"0.5\"/><path d=\"M 436 163 454 130\" stroke=\"gray\" stroke-width=\"0.5\"/><path d=\"M 436 163 434 152\" stroke=\"gray\" stroke-width=\"0.5\"/><path d=\"M 436 163 434 146\" stroke=\"gray\" stroke-width=\"0.5\"/><path d=\"M 436 163 456 145\" stroke=\"gray\" stroke-width=\"0.5\"/><path d=\"M 436 163 447 146\" stroke=\"gray\" stroke-width=\"0.5\"/><path d=\"M 436 163 448 155\" stroke=\"gray\" stroke-width=\"0.5\"/><path d=\"M 436 163 424 140\" stroke=\"gray\" stroke-width=\"0.5\"/><path d=\"M 436 163 443 127\" stroke=\"gray\" stroke-width=\"0.5\"/><path d=\"M 451 140 445 139\" stroke=\"gray\" stroke-width=\"0.5\"/><path d=\"M 451 140 436 163\" stroke=\"gray\" stroke-width=\"0.5\"/><path d=\"M 451 140 441 156\" stroke=\"gray\" stroke-width=\"0.5\"/><path d=\"M 451 140 432 160\" stroke=\"gray\" stroke-width=\"0.5\"/><path d=\"M 451 140 437 130\" stroke=\"gray\" stroke-width=\"0.5\"/><path d=\"M 451 140 453 150\" stroke=\"gray\" stroke-width=\"0.5\"/><path d=\"M 451 140 419 145\" stroke=\"gray\" stroke-width=\"0.5\"/><path d=\"M 451 140 474 139\" stroke=\"gray\" stroke-width=\"0.5\"/><path d=\"M 451 140 449 171\" stroke=\"gray\" stroke-width=\"0.5\"/><path d=\"M 451 140 459 154\" stroke=\"gray\" stroke-width=\"0.5\"/><path d=\"M 451 140 449 126\" stroke=\"gray\" stroke-width=\"0.5\"/><path d=\"M 451 140 449 163\" stroke=\"gray\" stroke-width=\"0.5\"/><path d=\"M 451 140 461 134\" stroke=\"gray\" stroke-width=\"0.5\"/><path d=\"M 451 140 463 138\" stroke=\"gray\" stroke-width=\"0.5\"/><path d=\"M 451 140 434 135\" stroke=\"gray\" stroke-width=\"0.5\"/><path d=\"M 451 140 439 142\" stroke=\"gray\" stroke-width=\"0.5\"/><path d=\"M 451 140 442 176\" stroke=\"gray\" stroke-width=\"0.5\"/><path d=\"M 451 140 457 166\" stroke=\"gray\" stroke-width=\"0.5\"/><path d=\"M 451 140 469 158\" stroke=\"gray\" stroke-width=\"0.5\"/><path d=\"M 451 140 467 152\" stroke=\"gray\" stroke-width=\"0.5\"/><path d=\"M 451 140 474 156\" stroke=\"gray\" stroke-width=\"0.5\"/><path d=\"M 451 140 465 165\" stroke=\"gray\" stroke-width=\"0.5\"/><path d=\"M 451 140 441 150\" stroke=\"gray\" stroke-width=\"0.5\"/><path d=\"M 451 140 442 169\" stroke=\"gray\" stroke-width=\"0.5\"/><path d=\"M 451 140 454 130\" stroke=\"gray\" stroke-width=\"0.5\"/><path d=\"M 451 140 434 152\" stroke=\"gray\" stroke-width=\"0.5\"/><path d=\"M 451 140 434 146\" stroke=\"gray\" stroke-width=\"0.5\"/><path d=\"M 451 140 456 145\" stroke=\"gray\" stroke-width=\"0.5\"/><path d=\"M 451 140 447 146\" stroke=\"gray\" stroke-width=\"0.5\"/><path d=\"M 451 140 448 155\" stroke=\"gray\" stroke-width=\"0.5\"/><path d=\"M 451 140 424 140\" stroke=\"gray\" stroke-width=\"0.5\"/><path d=\"M 451 140 443 127\" stroke=\"gray\" stroke-width=\"0.5\"/><path d=\"M 484 199 515 140\" stroke=\"gray\" stroke-width=\"0.5\"/><path d=\"M 484 199 459 154\" stroke=\"gray\" stroke-width=\"0.5\"/><path d=\"M 484 199 449 163\" stroke=\"gray\" stroke-width=\"0.5\"/><path d=\"M 424 43 441 64\" stroke=\"gray\" stroke-width=\"0.5\"/><path d=\"M 424 43 443 127\" stroke=\"gray\" stroke-width=\"0.5\"/><path d=\"M 413 199 436 163\" stroke=\"gray\" stroke-width=\"0.5\"/><path d=\"M 413 199 432 160\" stroke=\"gray\" stroke-width=\"0.5\"/><path d=\"M 413 199 449 171\" stroke=\"gray\" stroke-width=\"0.5\"/><path d=\"M 413 199 401 210\" stroke=\"gray\" stroke-width=\"0.5\"/><path d=\"M 413 199 449 163\" stroke=\"gray\" stroke-width=\"0.5\"/><path d=\"M 441 156 445 139\" stroke=\"gray\" stroke-width=\"0.5\"/><path d=\"M 441 156 436 163\" stroke=\"gray\" stroke-width=\"0.5\"/><path d=\"M 441 156 451 140\" stroke=\"gray\" stroke-width=\"0.5\"/><path d=\"M 441 156 432 160\" stroke=\"gray\" stroke-width=\"0.5\"/><path d=\"M 441 156 437 130\" stroke=\"gray\" stroke-width=\"0.5\"/><path d=\"M 441 156 453 150\" stroke=\"gray\" stroke-width=\"0.5\"/><path d=\"M 441 156 419 145\" stroke=\"gray\" stroke-width=\"0.5\"/><path d=\"M 441 156 474 139\" stroke=\"gray\" stroke-width=\"0.5\"/><path d=\"M 441 156 449 171\" stroke=\"gray\" stroke-width=\"0.5\"/><path d=\"M 441 156 459 154\" stroke=\"gray\" stroke-width=\"0.5\"/><path d=\"M 441 156 449 126\" stroke=\"gray\" stroke-width=\"0.5\"/><path d=\"M 441 156 449 163\" stroke=\"gray\" stroke-width=\"0.5\"/><path d=\"M 441 156 461 134\" stroke=\"gray\" stroke-width=\"0.5\"/><path d=\"M 441 156 463 138\" stroke=\"gray\" stroke-width=\"0.5\"/><path d=\"M 441 156 434 135\" stroke=\"gray\" stroke-width=\"0.5\"/><path d=\"M 441 156 439 142\" stroke=\"gray\" stroke-width=\"0.5\"/><path d=\"M 441 156 442 176\" stroke=\"gray\" stroke-width=\"0.5\"/><path d=\"M 441 156 457 166\" stroke=\"gray\" stroke-width=\"0.5\"/><path d=\"M 441 156 469 158\" stroke=\"gray\" stroke-width=\"0.5\"/><path d=\"M 441 156 467 152\" stroke=\"gray\" stroke-width=\"0.5\"/><path d=\"M 441 156 474 156\" stroke=\"gray\" stroke-width=\"0.5\"/><path d=\"M 441 156 465 165\" stroke=\"gray\" stroke-width=\"0.5\"/><path d=\"M 441 156 441 150\" stroke=\"gray\" stroke-width=\"0.5\"/><path d=\"M 441 156 442 169\" stroke=\"gray\" stroke-width=\"0.5\"/><path d=\"M 441 156 454 130\" stroke=\"gray\" stroke-width=\"0.5\"/><path d=\"M 441 156 434 152\" stroke=\"gray\" stroke-width=\"0.5\"/><path d=\"M 441 156 434 146\" stroke=\"gray\" stroke-width=\"0.5\"/><path d=\"M 441 156 456 145\" stroke=\"gray\" stroke-width=\"0.5\"/><path d=\"M 441 156 447 146\" stroke=\"gray\" stroke-width=\"0.5\"/><path d=\"M 441 156 448 155\" stroke=\"gray\" stroke-width=\"0.5\"/><path d=\"M 441 156 424 140\" stroke=\"gray\" stroke-width=\"0.5\"/><path d=\"M 441 156 443 127\" stroke=\"gray\" stroke-width=\"0.5\"/><path d=\"M 418 245 426 266\" stroke=\"gray\" stroke-width=\"0.5\"/><path d=\"M 418 245 442 176\" stroke=\"gray\" stroke-width=\"0.5\"/><path d=\"M 418 245 433 234\" stroke=\"gray\" stroke-width=\"0.5\"/><path d=\"M 418 245 469 226\" stroke=\"gray\" stroke-width=\"0.5\"/><path d=\"M 432 160 445 139\" stroke=\"gray\" stroke-width=\"0.5\"/><path d=\"M 432 160 436 163\" stroke=\"gray\" stroke-width=\"0.5\"/><path d=\"M 432 160 451 140\" stroke=\"gray\" stroke-width=\"0.5\"/><path d=\"M 432 160 413 199\" stroke=\"gray\" stroke-width=\"0.5\"/><path d=\"M 432 160 441 156\" stroke=\"gray\" stroke-width=\"0.5\"/><path d=\"M 432 160 437 130\" stroke=\"gray\" stroke-width=\"0.5\"/><path d=\"M 432 160 453 150\" stroke=\"gray\" stroke-width=\"0.5\"/><path d=\"M 432 160 419 145\" stroke=\"gray\" stroke-width=\"0.5\"/><path d=\"M 432 160 474 139\" stroke=\"gray\" stroke-width=\"0.5\"/><path d=\"M 432 160 449 171\" stroke=\"gray\" stroke-width=\"0.5\"/><path d=\"M 432 160 459 154\" stroke=\"gray\" stroke-width=\"0.5\"/><path d=\"M 432 160 401 210\" stroke=\"gray\" stroke-width=\"0.5\"/><path d=\"M 432 160 449 126\" stroke=\"gray\" stroke-width=\"0.5\"/><path d=\"M 432 160 449 163\" stroke=\"gray\" stroke-width=\"0.5\"/><path d=\"M 432 160 461 134\" stroke=\"gray\" stroke-width=\"0.5\"/><path d=\"M 432 160 463 138\" stroke=\"gray\" stroke-width=\"0.5\"/><path d=\"M 432 160 434 135\" stroke=\"gray\" stroke-width=\"0.5\"/><path d=\"M 432 160 439 142\" stroke=\"gray\" stroke-width=\"0.5\"/><path d=\"M 432 160 442 176\" stroke=\"gray\" stroke-width=\"0.5\"/><path d=\"M 432 160 457 166\" stroke=\"gray\" stroke-width=\"0.5\"/><path d=\"M 432 160 469 158\" stroke=\"gray\" stroke-width=\"0.5\"/><path d=\"M 432 160 467 152\" stroke=\"gray\" stroke-width=\"0.5\"/><path d=\"M 432 160 474 156\" stroke=\"gray\" stroke-width=\"0.5\"/><path d=\"M 432 160 465 165\" stroke=\"gray\" stroke-width=\"0.5\"/><path d=\"M 432 160 441 150\" stroke=\"gray\" stroke-width=\"0.5\"/><path d=\"M 432 160 442 169\" stroke=\"gray\" stroke-width=\"0.5\"/><path d=\"M 432 160 454 130\" stroke=\"gray\" stroke-width=\"0.5\"/><path d=\"M 432 160 434 152\" stroke=\"gray\" stroke-width=\"0.5\"/><path d=\"M 432 160 434 146\" stroke=\"gray\" stroke-width=\"0.5\"/><path d=\"M 432 160 456 145\" stroke=\"gray\" stroke-width=\"0.5\"/><path d=\"M 432 160 447 146\" stroke=\"gray\" stroke-width=\"0.5\"/><path d=\"M 432 160 448 155\" stroke=\"gray\" stroke-width=\"0.5\"/><path d=\"M 432 160 424 140\" stroke=\"gray\" stroke-width=\"0.5\"/><path d=\"M 432 160 443 127\" stroke=\"gray\" stroke-width=\"0.5\"/><path d=\"M 414 62 388 73\" stroke=\"gray\" stroke-width=\"0.5\"/><path d=\"M 414 62 437 130\" stroke=\"gray\" stroke-width=\"0.5\"/><path d=\"M 388 73 414 62\" stroke=\"gray\" stroke-width=\"0.5\"/><path d=\"M 388 73 437 130\" stroke=\"gray\" stroke-width=\"0.5\"/><path d=\"M 437 130 445 139\" stroke=\"gray\" stroke-width=\"0.5\"/><path d=\"M 437 130 436 163\" stroke=\"gray\" stroke-width=\"0.5\"/><path d=\"M 437 130 451 140\" stroke=\"gray\" stroke-width=\"0.5\"/><path d=\"M 437 130 441 156\" stroke=\"gray\" stroke-width=\"0.5\"/><path d=\"M 437 130 432 160\" stroke=\"gray\" stroke-width=\"0.5\"/><path d=\"M 437 130 414 62\" stroke=\"gray\" stroke-width=\"0.5\"/><path d=\"M 437 130 388 73\" stroke=\"gray\" stroke-width=\"0.5\"/><path d=\"M 437 130 453 150\" stroke=\"gray\" stroke-width=\"0.5\"/><path d=\"M 437 130 419 145\" stroke=\"gray\" stroke-width=\"0.5\"/><path d=\"M 437 130 474 139\" stroke=\"gray\" stroke-width=\"0.5\"/><path d=\"M 437 130 449 171\" stroke=\"gray\" stroke-width=\"0.5\"/><path d=\"M 437 130 459 154\" stroke=\"gray\" stroke-width=\"0.5\"/><path d=\"M 437 130 449 126\" stroke=\"gray\" stroke-width=\"0.5\"/><path d=\"M 437 130 449 163\" stroke=\"gray\" stroke-width=\"0.5\"/><path d=\"M 437 130 461 134\" stroke=\"gray\" stroke-width=\"0.5\"/><path d=\"M 437 130 463 138\" stroke=\"gray\" stroke-width=\"0.5\"/><path d=\"M 437 130 434 135\" stroke=\"gray\" stroke-width=\"0.5\"/><path d=\"M 437 130 439 142\" stroke=\"gray\" stroke-width=\"0.5\"/><path d=\"M 437 130 442 176\" stroke=\"gray\" stroke-width=\"0.5\"/><path d=\"M 437 130 457 166\" stroke=\"gray\" stroke-width=\"0.5\"/><path d=\"M 437 130 469 158\" stroke=\"gray\" stroke-width=\"0.5\"/><path d=\"M 437 130 467 152\" stroke=\"gray\" stroke-width=\"0.5\"/><path d=\"M 437 130 474 156\" stroke=\"gray\" stroke-width=\"0.5\"/><path d=\"M 437 130 465 165\" stroke=\"gray\" stroke-width=\"0.5\"/><path d=\"M 437 130 441 150\" stroke=\"gray\" stroke-width=\"0.5\"/><path d=\"M 437 130 442 169\" stroke=\"gray\" stroke-width=\"0.5\"/><path d=\"M 437 130 454 130\" stroke=\"gray\" stroke-width=\"0.5\"/><path d=\"M 437 130 434 152\" stroke=\"gray\" stroke-width=\"0.5\"/><path d=\"M 437 130 434 146\" stroke=\"gray\" stroke-width=\"0.5\"/><path d=\"M 437 130 456 145\" stroke=\"gray\" stroke-width=\"0.5\"/><path d=\"M 437 130 447 146\" stroke=\"gray\" stroke-width=\"0.5\"/><path d=\"M 437 130 448 155\" stroke=\"gray\" stroke-width=\"0.5\"/><path d=\"M 437 130 424 140\" stroke=\"gray\" stroke-width=\"0.5\"/><path d=\"M 437 130 443 127\" stroke=\"gray\" stroke-width=\"0.5\"/><path d=\"M 345 113 419 145\" stroke=\"gray\" stroke-width=\"0.5\"/><path d=\"M 345 113 327 153\" stroke=\"gray\" stroke-width=\"0.5\"/><path d=\"M 345 113 324 110\" stroke=\"gray\" stroke-width=\"0.5\"/><path d=\"M 453 150 445 139\" stroke=\"gray\" stroke-width=\"0.5\"/><path d=\"M 453 150 436 163\" stroke=\"gray\" stroke-width=\"0.5\"/><path d=\"M 453 150 451 140\" stroke=\"gray\" stroke-width=\"0.5\"/><path d=\"M 453 150 441 156\" stroke=\"gray\" stroke-width=\"0.5\"/><path d=\"M 453 150 432 160\" stroke=\"gray\" stroke-width=\"0.5\"/><path d=\"M 453 150 437 130\" stroke=\"gray\" stroke-width=\"0.5\"/><path d=\"M 453 150 419 145\" stroke=\"gray\" stroke-width=\"0.5\"/><path d=\"M 453 150 474 139\" stroke=\"gray\" stroke-width=\"0.5\"/><path d=\"M 453 150 449 171\" stroke=\"gray\" stroke-width=\"0.5\"/><path d=\"M 453 150 459 154\" stroke=\"gray\" stroke-width=\"0.5\"/><path d=\"M 453 150 449 126\" stroke=\"gray\" stroke-width=\"0.5\"/><path d=\"M 453 150 449 163\" stroke=\"gray\" stroke-width=\"0.5\"/><path d=\"M 453 150 461 134\" stroke=\"gray\" stroke-width=\"0.5\"/><path d=\"M 453 150 463 138\" stroke=\"gray\" stroke-width=\"0.5\"/><path d=\"M 453 150 434 135\" stroke=\"gray\" stroke-width=\"0.5\"/><path d=\"M 453 150 439 142\" stroke=\"gray\" stroke-width=\"0.5\"/><path d=\"M 453 150 442 176\" stroke=\"gray\" stroke-width=\"0.5\"/><path d=\"M 453 150 457 166\" stroke=\"gray\" stroke-width=\"0.5\"/><path d=\"M 453 150 469 158\" stroke=\"gray\" stroke-width=\"0.5\"/><path d=\"M 453 150 467 152\" stroke=\"gray\" stroke-width=\"0.5\"/><path d=\"M 453 150 474 156\" stroke=\"gray\" stroke-width=\"0.5\"/><path d=\"M 453 150 465 165\" stroke=\"gray\" stroke-width=\"0.5\"/><path d=\"M 453 150 441 150\" stroke=\"gray\" stroke-width=\"0.5\"/><path d=\"M 453 150 442 169\" stroke=\"gray\" stroke-width=\"0.5\"/><path d=\"M 453 150 454 130\" stroke=\"gray\" stroke-width=\"0.5\"/><path d=\"M 453 150 434 152\" stroke=\"gray\" stroke-width=\"0.5\"/><path d=\"M 453 150 434 146\" stroke=\"gray\" stroke-width=\"0.5\"/><path d=\"M 453 150 456 145\" stroke=\"gray\" stroke-width=\"0.5\"/><path d=\"M 453 150 447 146\" stroke=\"gray\" stroke-width=\"0.5\"/><path d=\"M 453 150 448 155\" stroke=\"gray\" stroke-width=\"0.5\"/><path d=\"M 453 150 424 140\" stroke=\"gray\" stroke-width=\"0.5\"/><path d=\"M 453 150 443 127\" stroke=\"gray\" stroke-width=\"0.5\"/><path d=\"M 419 145 445 139\" stroke=\"gray\" stroke-width=\"0.5\"/><path d=\"M 419 145 436 163\" stroke=\"gray\" stroke-width=\"0.5\"/><path d=\"M 419 145 451 140\" stroke=\"gray\" stroke-width=\"0.5\"/><path d=\"M 419 145 441 156\" stroke=\"gray\" stroke-width=\"0.5\"/><path d=\"M 419 145 432 160\" stroke=\"gray\" stroke-width=\"0.5\"/><path d=\"M 419 145 437 130\" stroke=\"gray\" stroke-width=\"0.5\"/><path d=\"M 419 145 345 113\" stroke=\"gray\" stroke-width=\"0.5\"/><path d=\"M 419 145 453 150\" stroke=\"gray\" stroke-width=\"0.5\"/><path d=\"M 419 145 474 139\" stroke=\"gray\" stroke-width=\"0.5\"/><path d=\"M 419 145 327 153\" stroke=\"gray\" stroke-width=\"0.5\"/><path d=\"M 419 145 324 110\" stroke=\"gray\" stroke-width=\"0.5\"/><path d=\"M 419 145 449 171\" stroke=\"gray\" stroke-width=\"0.5\"/><path d=\"M 419 145 459 154\" stroke=\"gray\" stroke-width=\"0.5\"/><path d=\"M 419 145 449 126\" stroke=\"gray\" stroke-width=\"0.5\"/><path d=\"M 419 145 449 163\" stroke=\"gray\" stroke-width=\"0.5\"/><path d=\"M 419 145 461 134\" stroke=\"gray\" stroke-width=\"0.5\"/><path d=\"M 419 145 463 138\" stroke=\"gray\" stroke-width=\"0.5\"/><path d=\"M 419 145 434 135\" stroke=\"gray\" stroke-width=\"0.5\"/><path d=\"M 419 145 439 142\" stroke=\"gray\" stroke-width=\"0.5\"/><path d=\"M 419 145 442 176\" stroke=\"gray\" stroke-width=\"0.5\"/><path d=\"M 419 145 457 166\" stroke=\"gray\" stroke-width=\"0.5\"/><path d=\"M 419 145 469 158\" stroke=\"gray\" stroke-width=\"0.5\"/><path d=\"M 419 145 467 152\" stroke=\"gray\" stroke-width=\"0.5\"/><path d=\"M 419 145 474 156\" stroke=\"gray\" stroke-width=\"0.5\"/><path d=\"M 419 145 465 165\" stroke=\"gray\" stroke-width=\"0.5\"/><path d=\"M 419 145 441 150\" stroke=\"gray\" stroke-width=\"0.5\"/><path d=\"M 419 145 442 169\" stroke=\"gray\" stroke-width=\"0.5\"/><path d=\"M 419 145 454 130\" stroke=\"gray\" stroke-width=\"0.5\"/><path d=\"M 419 145 434 152\" stroke=\"gray\" stroke-width=\"0.5\"/><path d=\"M 419 145 434 146\" stroke=\"gray\" stroke-width=\"0.5\"/><path d=\"M 419 145 456 145\" stroke=\"gray\" stroke-width=\"0.5\"/><path d=\"M 419 145 447 146\" stroke=\"gray\" stroke-width=\"0.5\"/><path d=\"M 419 145 448 155\" stroke=\"gray\" stroke-width=\"0.5\"/><path d=\"M 419 145 424 140\" stroke=\"gray\" stroke-width=\"0.5\"/><path d=\"M 419 145 443 127\" stroke=\"gray\" stroke-width=\"0.5\"/><path d=\"M 562 131 474 139\" stroke=\"gray\" stroke-width=\"0.5\"/><path d=\"M 562 131 546 113\" stroke=\"gray\" stroke-width=\"0.5\"/><path d=\"M 562 131 623 166\" stroke=\"gray\" stroke-width=\"0.5\"/><path d=\"M 562 131 544 88\" stroke=\"gray\" stroke-width=\"0.5\"/><path d=\"M 562 131 515 140\" stroke=\"gray\" stroke-width=\"0.5\"/><path d=\"M 474 139 445 139\" stroke=\"gray\" stroke-width=\"0.5\"/><path d=\"M 474 139 436 163\" stroke=\"gray\" stroke-width=\"0.5\"/><path d=\"M 474 139 451 140\" stroke=\"gray\" stroke-width=\"0.5\"/><path d=\"M 474 139 441 156\" stroke=\"gray\" stroke-width=\"0.5\"/><path d=\"M 474 139 432 160\" stroke=\"gray\" stroke-width=\"0.5\"/><path d=\"M 474 139 437 130\" stroke=\"gray\" stroke-width=\"0.5\"/><path d=\"M 474 139 453 150\" stroke=\"gray\" stroke-width=\"0.5\"/><path d=\"M 474 139 419 145\" stroke=\"gray\" stroke-width=\"0.5\"/><path d=\"M 474 139 562 131\" stroke=\"gray\" stroke-width=\"0.5\"/><path d=\"M 474 139 546 113\" stroke=\"gray\" stroke-width=\"0.5\"/><path d=\"M 474 139 544 88\" stroke=\"gray\" stroke-width=\"0.5\"/><path d=\"M 474 139 515 140\" stroke=\"gray\" stroke-width=\"0.5\"/><path d=\"M 474 139 449 171\" stroke=\"gray\" stroke-width=\"0.5\"/><path d=\"M 474 139 459 154\" stroke=\"gray\" stroke-width=\"0.5\"/><path d=\"M 474 139 449 126\" stroke=\"gray\" stroke-width=\"0.5\"/><path d=\"M 474 139 449 163\" stroke=\"gray\" stroke-width=\"0.5\"/><path d=\"M 474 139 461 134\" stroke=\"gray\" stroke-width=\"0.5\"/><path d=\"M 474 139 463 138\" stroke=\"gray\" stroke-width=\"0.5\"/><path d=\"M 474 139 434 135\" stroke=\"gray\" stroke-width=\"0.5\"/><path d=\"M 474 139 439 142\" stroke=\"gray\" stroke-width=\"0.5\"/><path d=\"M 474 139 442 176\" stroke=\"gray\" stroke-width=\"0.5\"/><path d=\"M 474 139 457 166\" stroke=\"gray\" stroke-width=\"0.5\"/><path d=\"M 474 139 469 158\" stroke=\"gray\" stroke-width=\"0.5\"/><path d=\"M 474 139 467 152\" stroke=\"gray\" stroke-width=\"0.5\"/><path d=\"M 474 139 474 156\" stroke=\"gray\" stroke-width=\"0.5\"/><path d=\"M 474 139 465 165\" stroke=\"gray\" stroke-width=\"0.5\"/><path d=\"M 474 139 441 150\" stroke=\"gray\" stroke-width=\"0.5\"/><path d=\"M 474 139 442 169\" stroke=\"gray\" stroke-width=\"0.5\"/><path d=\"M 474 139 454 130\" stroke=\"gray\" stroke-width=\"0.5\"/><path d=\"M 474 139 434 152\" stroke=\"gray\" stroke-width=\"0.5\"/><path d=\"M 474 139 434 146\" stroke=\"gray\" stroke-width=\"0.5\"/><path d=\"M 474 139 456 145\" stroke=\"gray\" stroke-width=\"0.5\"/><path d=\"M 474 139 447 146\" stroke=\"gray\" stroke-width=\"0.5\"/><path d=\"M 474 139 448 155\" stroke=\"gray\" stroke-width=\"0.5\"/><path d=\"M 474 139 424 140\" stroke=\"gray\" stroke-width=\"0.5\"/><path d=\"M 474 139 443 127\" stroke=\"gray\" stroke-width=\"0.5\"/><path d=\"M 20 293 41 307\" stroke=\"gray\" stroke-width=\"0.5\"/><path d=\"M 546 113 562 131\" stroke=\"gray\" stroke-width=\"0.5\"/><path d=\"M 546 113 474 139\" stroke=\"gray\" stroke-width=\"0.5\"/><path d=\"M 546 113 544 88\" stroke=\"gray\" stroke-width=\"0.5\"/><path d=\"M 546 113 515 140\" stroke=\"gray\" stroke-width=\"0.5\"/><path d=\"M 41 307 20 293\" stroke=\"gray\" stroke-width=\"0.5\"/><path d=\"M 327 153 345 113\" stroke=\"gray\" stroke-width=\"0.5\"/><path d=\"M 327 153 419 145\" stroke=\"gray\" stroke-width=\"0.5\"/><path d=\"M 327 153 289 204\" stroke=\"gray\" stroke-width=\"0.5\"/><path d=\"M 327 153 324 110\" stroke=\"gray\" stroke-width=\"0.5\"/><path d=\"M 289 204 327 153\" stroke=\"gray\" stroke-width=\"0.5\"/><path d=\"M 324 110 345 113\" stroke=\"gray\" stroke-width=\"0.5\"/><path d=\"M 324 110 419 145\" stroke=\"gray\" stroke-width=\"0.5\"/><path d=\"M 324 110 327 153\" stroke=\"gray\" stroke-width=\"0.5\"/><path d=\"M 324 110 266 77\" stroke=\"gray\" stroke-width=\"0.5\"/><path d=\"M 266 77 324 110\" stroke=\"gray\" stroke-width=\"0.5\"/><path d=\"M 623 166 562 131\" stroke=\"gray\" stroke-width=\"0.5\"/><path d=\"M 710 498 720 520\" stroke=\"gray\" stroke-width=\"0.5\"/><path d=\"M 544 88 562 131\" stroke=\"gray\" stroke-width=\"0.5\"/><path d=\"M 544 88 474 139\" stroke=\"gray\" stroke-width=\"0.5\"/><path d=\"M 544 88 546 113\" stroke=\"gray\" stroke-width=\"0.5\"/><path d=\"M 544 88 569 20\" stroke=\"gray\" stroke-width=\"0.5\"/><path d=\"M 544 88 515 140\" stroke=\"gray\" stroke-width=\"0.5\"/><path d=\"M 569 20 544 88\" stroke=\"gray\" stroke-width=\"0.5\"/><path d=\"M 515 140 484 199\" stroke=\"gray\" stroke-width=\"0.5\"/><path d=\"M 515 140 562 131\" stroke=\"gray\" stroke-width=\"0.5\"/><path d=\"M 515 140 474 139\" stroke=\"gray\" stroke-width=\"0.5\"/><path d=\"M 515 140 546 113\" stroke=\"gray\" stroke-width=\"0.5\"/><path d=\"M 515 140 544 88\" stroke=\"gray\" stroke-width=\"0.5\"/><path d=\"M 515 140 459 154\" stroke=\"gray\" stroke-width=\"0.5\"/><path d=\"M 515 140 449 163\" stroke=\"gray\" stroke-width=\"0.5\"/><path d=\"M 441 64 424 43\" stroke=\"gray\" stroke-width=\"0.5\"/><path d=\"M 441 64 449 40\" stroke=\"gray\" stroke-width=\"0.5\"/><path d=\"M 441 64 449 126\" stroke=\"gray\" stroke-width=\"0.5\"/><path d=\"M 441 64 443 127\" stroke=\"gray\" stroke-width=\"0.5\"/><path d=\"M 449 171 445 139\" stroke=\"gray\" stroke-width=\"0.5\"/><path d=\"M 449 171 436 163\" stroke=\"gray\" stroke-width=\"0.5\"/><path d=\"M 449 171 451 140\" stroke=\"gray\" stroke-width=\"0.5\"/><path d=\"M 449 171 413 199\" stroke=\"gray\" stroke-width=\"0.5\"/><path d=\"M 449 171 441 156\" stroke=\"gray\" stroke-width=\"0.5\"/><path d=\"M 449 171 432 160\" stroke=\"gray\" stroke-width=\"0.5\"/><path d=\"M 449 171 437 130\" stroke=\"gray\" stroke-width=\"0.5\"/><path d=\"M 449 171 453 150\" stroke=\"gray\" stroke-width=\"0.5\"/><path d=\"M 449 171 419 145\" stroke=\"gray\" stroke-width=\"0.5\"/><path d=\"M 449 171 474 139\" stroke=\"gray\" stroke-width=\"0.5\"/><path d=\"M 449 171 498 248\" stroke=\"gray\" stroke-width=\"0.5\"/><path d=\"M 449 171 459 154\" stroke=\"gray\" stroke-width=\"0.5\"/><path d=\"M 449 171 401 210\" stroke=\"gray\" stroke-width=\"0.5\"/><path d=\"M 449 171 449 126\" stroke=\"gray\" stroke-width=\"0.5\"/><path d=\"M 449 171 449 163\" stroke=\"gray\" stroke-width=\"0.5\"/><path d=\"M 449 171 461 134\" stroke=\"gray\" stroke-width=\"0.5\"/><path d=\"M 449 171 463 138\" stroke=\"gray\" stroke-width=\"0.5\"/><path d=\"M 449 171 434 135\" stroke=\"gray\" stroke-width=\"0.5\"/><path d=\"M 449 171 439 142\" stroke=\"gray\" stroke-width=\"0.5\"/><path d=\"M 449 171 442 176\" stroke=\"gray\" stroke-width=\"0.5\"/><path d=\"M 449 171 457 166\" stroke=\"gray\" stroke-width=\"0.5\"/><path d=\"M 449 171 469 158\" stroke=\"gray\" stroke-width=\"0.5\"/><path d=\"M 449 171 467 152\" stroke=\"gray\" stroke-width=\"0.5\"/><path d=\"M 449 171 474 156\" stroke=\"gray\" stroke-width=\"0.5\"/><path d=\"M 449 171 465 165\" stroke=\"gray\" stroke-width=\"0.5\"/><path d=\"M 449 171 441 150\" stroke=\"gray\" stroke-width=\"0.5\"/><path d=\"M 449 171 442 169\" stroke=\"gray\" stroke-width=\"0.5\"/><path d=\"M 449 171 454 130\" stroke=\"gray\" stroke-width=\"0.5\"/><path d=\"M 449 171 434 152\" stroke=\"gray\" stroke-width=\"0.5\"/><path d=\"M 449 171 434 146\" stroke=\"gray\" stroke-width=\"0.5\"/><path d=\"M 449 171 456 145\" stroke=\"gray\" stroke-width=\"0.5\"/><path d=\"M 449 171 447 146\" stroke=\"gray\" stroke-width=\"0.5\"/><path d=\"M 449 171 448 155\" stroke=\"gray\" stroke-width=\"0.5\"/><path d=\"M 449 171 424 140\" stroke=\"gray\" stroke-width=\"0.5\"/><path d=\"M 449 171 443 127\" stroke=\"gray\" stroke-width=\"0.5\"/><path d=\"M 498 248 449 171\" stroke=\"gray\" stroke-width=\"0.5\"/><path d=\"M 459 154 445 139\" stroke=\"gray\" stroke-width=\"0.5\"/><path d=\"M 459 154 436 163\" stroke=\"gray\" stroke-width=\"0.5\"/><path d=\"M 459 154 451 140\" stroke=\"gray\" stroke-width=\"0.5\"/><path d=\"M 459 154 484 199\" stroke=\"gray\" stroke-width=\"0.5\"/><path d=\"M 459 154 441 156\" stroke=\"gray\" stroke-width=\"0.5\"/><path d=\"M 459 154 432 160\" stroke=\"gray\" stroke-width=\"0.5\"/><path d=\"M 459 154 437 130\" stroke=\"gray\" stroke-width=\"0.5\"/><path d=\"M 459 154 453 150\" stroke=\"gray\" stroke-width=\"0.5\"/><path d=\"M 459 154 419 145\" stroke=\"gray\" stroke-width=\"0.5\"/><path d=\"M 459 154 474 139\" stroke=\"gray\" stroke-width=\"0.5\"/><path d=\"M 459 154 515 140\" stroke=\"gray\" stroke-width=\"0.5\"/><path d=\"M 459 154 449 171\" stroke=\"gray\" stroke-width=\"0.5\"/><path d=\"M 459 154 449 126\" stroke=\"gray\" stroke-width=\"0.5\"/><path d=\"M 459 154 449 163\" stroke=\"gray\" stroke-width=\"0.5\"/><path d=\"M 459 154 461 134\" stroke=\"gray\" stroke-width=\"0.5\"/><path d=\"M 459 154 463 138\" stroke=\"gray\" stroke-width=\"0.5\"/><path d=\"M 459 154 434 135\" stroke=\"gray\" stroke-width=\"0.5\"/><path d=\"M 459 154 439 142\" stroke=\"gray\" stroke-width=\"0.5\"/><path d=\"M 459 154 442 176\" stroke=\"gray\" stroke-width=\"0.5\"/><path d=\"M 459 154 457 166\" stroke=\"gray\" stroke-width=\"0.5\"/><path d=\"M 459 154 469 158\" stroke=\"gray\" stroke-width=\"0.5\"/><path d=\"M 459 154 467 152\" stroke=\"gray\" stroke-width=\"0.5\"/><path d=\"M 459 154 474 156\" stroke=\"gray\" stroke-width=\"0.5\"/><path d=\"M 459 154 465 165\" stroke=\"gray\" stroke-width=\"0.5\"/><path d=\"M 459 154 441 150\" stroke=\"gray\" stroke-width=\"0.5\"/><path d=\"M 459 154 442 169\" stroke=\"gray\" stroke-width=\"0.5\"/><path d=\"M 459 154 454 130\" stroke=\"gray\" stroke-width=\"0.5\"/><path d=\"M 459 154 434 152\" stroke=\"gray\" stroke-width=\"0.5\"/><path d=\"M 459 154 434 146\" stroke=\"gray\" stroke-width=\"0.5\"/><path d=\"M 459 154 456 145\" stroke=\"gray\" stroke-width=\"0.5\"/><path d=\"M 459 154 447 146\" stroke=\"gray\" stroke-width=\"0.5\"/><path d=\"M 459 154 448 155\" stroke=\"gray\" stroke-width=\"0.5\"/><path d=\"M 459 154 424 140\" stroke=\"gray\" stroke-width=\"0.5\"/><path d=\"M 459 154 443 127\" stroke=\"gray\" stroke-width=\"0.5\"/><path d=\"M 401 210 436 163\" stroke=\"gray\" stroke-width=\"0.5\"/><path d=\"M 401 210 413 199\" stroke=\"gray\" stroke-width=\"0.5\"/><path d=\"M 401 210 432 160\" stroke=\"gray\" stroke-width=\"0.5\"/><path d=\"M 401 210 449 171\" stroke=\"gray\" stroke-width=\"0.5\"/><path d=\"M 401 210 356 276\" stroke=\"gray\" stroke-width=\"0.5\"/><path d=\"M 401 210 449 163\" stroke=\"gray\" stroke-width=\"0.5\"/><path d=\"M 356 276 401 210\" stroke=\"gray\" stroke-width=\"0.5\"/><path d=\"M 449 40 441 64\" stroke=\"gray\" stroke-width=\"0.5\"/><path d=\"M 449 40 449 126\" stroke=\"gray\" stroke-width=\"0.5\"/><path d=\"M 449 126 445 139\" stroke=\"gray\" stroke-width=\"0.5\"/><path d=\"M 449 126 436 163\" stroke=\"gray\" stroke-width=\"0.5\"/><path d=\"M 449 126 451 140\" stroke=\"gray\" stroke-width=\"0.5\"/><path d=\"M 449 126 441 156\" stroke=\"gray\" stroke-width=\"0.5\"/><path d=\"M 449 126 432 160\" stroke=\"gray\" stroke-width=\"0.5\"/><path d=\"M 449 126 437 130\" stroke=\"gray\" stroke-width=\"0.5\"/><path d=\"M 449 126 453 150\" stroke=\"gray\" stroke-width=\"0.5\"/><path d=\"M 449 126 419 145\" stroke=\"gray\" stroke-width=\"0.5\"/><path d=\"M 449 126 474 139\" stroke=\"gray\" stroke-width=\"0.5\"/><path d=\"M 449 126 441 64\" stroke=\"gray\" stroke-width=\"0.5\"/><path d=\"M 449 126 449 171\" stroke=\"gray\" stroke-width=\"0.5\"/><path d=\"M 449 126 459 154\" stroke=\"gray\" stroke-width=\"0.5\"/><path d=\"M 449 126 449 40\" stroke=\"gray\" stroke-width=\"0.5\"/><path d=\"M 449 126 449 163\" stroke=\"gray\" stroke-width=\"0.5\"/><path d=\"M 449 126 461 134\" stroke=\"gray\" stroke-width=\"0.5\"/><path d=\"M 449 126 463 138\" stroke=\"gray\" stroke-width=\"0.5\"/><path d=\"M 449 126 434 135\" stroke=\"gray\" stroke-width=\"0.5\"/><path d=\"M 449 126 439 142\" stroke=\"gray\" stroke-width=\"0.5\"/><path d=\"M 449 126 442 176\" stroke=\"gray\" stroke-width=\"0.5\"/><path d=\"M 449 126 457 166\" stroke=\"gray\" stroke-width=\"0.5\"/><path d=\"M 449 126 469 158\" stroke=\"gray\" stroke-width=\"0.5\"/><path d=\"M 449 126 467 152\" stroke=\"gray\" stroke-width=\"0.5\"/><path d=\"M 449 126 474 156\" stroke=\"gray\" stroke-width=\"0.5\"/><path d=\"M 449 126 465 165\" stroke=\"gray\" stroke-width=\"0.5\"/><path d=\"M 449 126 441 150\" stroke=\"gray\" stroke-width=\"0.5\"/><path d=\"M 449 126 442 169\" stroke=\"gray\" stroke-width=\"0.5\"/><path d=\"M 449 126 454 130\" stroke=\"gray\" stroke-width=\"0.5\"/><path d=\"M 449 126 434 152\" stroke=\"gray\" stroke-width=\"0.5\"/><path d=\"M 449 126 434 146\" stroke=\"gray\" stroke-width=\"0.5\"/><path d=\"M 449 126 456 145\" stroke=\"gray\" stroke-width=\"0.5\"/><path d=\"M 449 126 447 146\" stroke=\"gray\" stroke-width=\"0.5\"/><path d=\"M 449 126 448 155\" stroke=\"gray\" stroke-width=\"0.5\"/><path d=\"M 449 126 424 140\" stroke=\"gray\" stroke-width=\"0.5\"/><path d=\"M 449 126 443 127\" stroke=\"gray\" stroke-width=\"0.5\"/><path d=\"M 449 163 445 139\" stroke=\"gray\" stroke-width=\"0.5\"/><path d=\"M 449 163 436 163\" stroke=\"gray\" stroke-width=\"0.5\"/><path d=\"M 449 163 451 140\" stroke=\"gray\" stroke-width=\"0.5\"/><path d=\"M 449 163 484 199\" stroke=\"gray\" stroke-width=\"0.5\"/><path d=\"M 449 163 413 199\" stroke=\"gray\" stroke-width=\"0.5\"/><path d=\"M 449 163 441 156\" stroke=\"gray\" stroke-width=\"0.5\"/><path d=\"M 449 163 432 160\" stroke=\"gray\" stroke-width=\"0.5\"/><path d=\"M 449 163 437 130\" stroke=\"gray\" stroke-width=\"0.5\"/><path d=\"M 449 163 453 150\" stroke=\"gray\" stroke-width=\"0.5\"/><path d=\"M 449 163 419 145\" stroke=\"gray\" stroke-width=\"0.5\"/><path d=\"M 449 163 474 139\" stroke=\"gray\" stroke-width=\"0.5\"/><path d=\"M 449 163 515 140\" stroke=\"gray\" stroke-width=\"0.5\"/><path d=\"M 449 163 449 171\" stroke=\"gray\" stroke-width=\"0.5\"/><path d=\"M 449 163 459 154\" stroke=\"gray\" stroke-width=\"0.5\"/><path d=\"M 449 163 401 210\" stroke=\"gray\" stroke-width=\"0.5\"/><path d=\"M 449 163 449 126\" stroke=\"gray\" stroke-width=\"0.5\"/><path d=\"M 449 163 461 134\" stroke=\"gray\" stroke-width=\"0.5\"/><path d=\"M 449 163 463 138\" stroke=\"gray\" stroke-width=\"0.5\"/><path d=\"M 449 163 434 135\" stroke=\"gray\" stroke-width=\"0.5\"/><path d=\"M 449 163 439 142\" stroke=\"gray\" stroke-width=\"0.5\"/><path d=\"M 449 163 442 176\" stroke=\"gray\" stroke-width=\"0.5\"/><path d=\"M 449 163 457 166\" stroke=\"gray\" stroke-width=\"0.5\"/><path d=\"M 449 163 469 158\" stroke=\"gray\" stroke-width=\"0.5\"/><path d=\"M 449 163 467 152\" stroke=\"gray\" stroke-width=\"0.5\"/><path d=\"M 449 163 474 156\" stroke=\"gray\" stroke-width=\"0.5\"/><path d=\"M 449 163 465 165\" stroke=\"gray\" stroke-width=\"0.5\"/><path d=\"M 449 163 441 150\" stroke=\"gray\" stroke-width=\"0.5\"/><path d=\"M 449 163 442 169\" stroke=\"gray\" stroke-width=\"0.5\"/><path d=\"M 449 163 454 130\" stroke=\"gray\" stroke-width=\"0.5\"/><path d=\"M 449 163 434 152\" stroke=\"gray\" stroke-width=\"0.5\"/><path d=\"M 449 163 434 146\" stroke=\"gray\" stroke-width=\"0.5\"/><path d=\"M 449 163 456 145\" stroke=\"gray\" stroke-width=\"0.5\"/><path d=\"M 449 163 447 146\" stroke=\"gray\" stroke-width=\"0.5\"/><path d=\"M 449 163 448 155\" stroke=\"gray\" stroke-width=\"0.5\"/><path d=\"M 449 163 424 140\" stroke=\"gray\" stroke-width=\"0.5\"/><path d=\"M 449 163 443 127\" stroke=\"gray\" stroke-width=\"0.5\"/><path d=\"M 461 134 445 139\" stroke=\"gray\" stroke-width=\"0.5\"/><path d=\"M 461 134 436 163\" stroke=\"gray\" stroke-width=\"0.5\"/><path d=\"M 461 134 451 140\" stroke=\"gray\" stroke-width=\"0.5\"/><path d=\"M 461 134 441 156\" stroke=\"gray\" stroke-width=\"0.5\"/><path d=\"M 461 134 432 160\" stroke=\"gray\" stroke-width=\"0.5\"/><path d=\"M 461 134 437 130\" stroke=\"gray\" stroke-width=\"0.5\"/><path d=\"M 461 134 453 150\" stroke=\"gray\" stroke-width=\"0.5\"/><path d=\"M 461 134 419 145\" stroke=\"gray\" stroke-width=\"0.5\"/><path d=\"M 461 134 474 139\" stroke=\"gray\" stroke-width=\"0.5\"/><path d=\"M 461 134 449 171\" stroke=\"gray\" stroke-width=\"0.5\"/><path d=\"M 461 134 459 154\" stroke=\"gray\" stroke-width=\"0.5\"/><path d=\"M 461 134 449 126\" stroke=\"gray\" stroke-width=\"0.5\"/><path d=\"M 461 134 449 163\" stroke=\"gray\" stroke-width=\"0.5\"/><path d=\"M 461 134 513 103\" stroke=\"gray\" stroke-width=\"0.5\"/><path d=\"M 461 134 463 138\" stroke=\"gray\" stroke-width=\"0.5\"/><path d=\"M 461 134 504 90\" stroke=\"gray\" stroke-width=\"0.5\"/><path d=\"M 461 134 434 135\" stroke=\"gray\" stroke-width=\"0.5\"/><path d=\"M 461 134 439 142\" stroke=\"gray\" stroke-width=\"0.5\"/><path d=\"M 461 134 442 176\" stroke=\"gray\" stroke-width=\"0.5\"/><path d=\"M 461 134 457 166\" stroke=\"gray\" stroke-width=\"0.5\"/><path d=\"M 461 134 469 158\" stroke=\"gray\" stroke-width=\"0.5\"/><path d=\"M 461 134 467 152\" stroke=\"gray\" stroke-width=\"0.5\"/><path d=\"M 461 134 474 156\" stroke=\"gray\" stroke-width=\"0.5\"/><path d=\"M 461 134 465 165\" stroke=\"gray\" stroke-width=\"0.5\"/><path d=\"M 461 134 441 150\" stroke=\"gray\" stroke-width=\"0.5\"/><path d=\"M 461 134 442 169\" stroke=\"gray\" stroke-width=\"0.5\"/><path d=\"M 461 134 454 130\" stroke=\"gray\" stroke-width=\"0.5\"/><path d=\"M 461 134 434 152\" stroke=\"gray\" stroke-width=\"0.5\"/><path d=\"M 461 134 434 146\" stroke=\"gray\" stroke-width=\"0.5\"/><path d=\"M 461 134 456 145\" stroke=\"gray\" stroke-width=\"0.5\"/><path d=\"M 461 134 447 146\" stroke=\"gray\" stroke-width=\"0.5\"/><path d=\"M 461 134 448 155\" stroke=\"gray\" stroke-width=\"0.5\"/><path d=\"M 461 134 424 140\" stroke=\"gray\" stroke-width=\"0.5\"/><path d=\"M 461 134 443 127\" stroke=\"gray\" stroke-width=\"0.5\"/><path d=\"M 513 103 461 134\" stroke=\"gray\" stroke-width=\"0.5\"/><path d=\"M 513 103 463 138\" stroke=\"gray\" stroke-width=\"0.5\"/><path d=\"M 513 103 504 90\" stroke=\"gray\" stroke-width=\"0.5\"/><path d=\"M 463 138 445 139\" stroke=\"gray\" stroke-width=\"0.5\"/><path d=\"M 463 138 436 163\" stroke=\"gray\" stroke-width=\"0.5\"/><path d=\"M 463 138 451 140\" stroke=\"gray\" stroke-width=\"0.5\"/><path d=\"M 463 138 441 156\" stroke=\"gray\" stroke-width=\"0.5\"/><path d=\"M 463 138 432 160\" stroke=\"gray\" stroke-width=\"0.5\"/><path d=\"M 463 138 437 130\" stroke=\"gray\" stroke-width=\"0.5\"/><path d=\"M 463 138 453 150\" stroke=\"gray\" stroke-width=\"0.5\"/><path d=\"M 463 138 419 145\" stroke=\"gray\" stroke-width=\"0.5\"/><path d=\"M 463 138 474 139\" stroke=\"gray\" stroke-width=\"0.5\"/><path d=\"M 463 138 449 171\" stroke=\"gray\" stroke-width=\"0.5\"/><path d=\"M 463 138 459 154\" stroke=\"gray\" stroke-width=\"0.5\"/><path d=\"M 463 138 449 126\" stroke=\"gray\" stroke-width=\"0.5\"/><path d=\"M 463 138 449 163\" stroke=\"gray\" stroke-width=\"0.5\"/><path d=\"M 463 138 461 134\" stroke=\"gray\" stroke-width=\"0.5\"/><path d=\"M 463 138 513 103\" stroke=\"gray\" stroke-width=\"0.5\"/><path d=\"M 463 138 504 90\" stroke=\"gray\" stroke-width=\"0.5\"/><path d=\"M 463 138 434 135\" stroke=\"gray\" stroke-width=\"0.5\"/><path d=\"M 463 138 439 142\" stroke=\"gray\" stroke-width=\"0.5\"/><path d=\"M 463 138 442 176\" stroke=\"gray\" stroke-width=\"0.5\"/><path d=\"M 463 138 457 166\" stroke=\"gray\" stroke-width=\"0.5\"/><path d=\"M 463 138 469 158\" stroke=\"gray\" stroke-width=\"0.5\"/><path d=\"M 463 138 467 152\" stroke=\"gray\" stroke-width=\"0.5\"/><path d=\"M 463 138 474 156\" stroke=\"gray\" stroke-width=\"0.5\"/><path d=\"M 463 138 465 165\" stroke=\"gray\" stroke-width=\"0.5\"/><path d=\"M 463 138 441 150\" stroke=\"gray\" stroke-width=\"0.5\"/><path d=\"M 463 138 442 169\" stroke=\"gray\" stroke-width=\"0.5\"/><path d=\"M 463 138 454 130\" stroke=\"gray\" stroke-width=\"0.5\"/><path d=\"M 463 138 434 152\" stroke=\"gray\" stroke-width=\"0.5\"/><path d=\"M 463 138 434 146\" stroke=\"gray\" stroke-width=\"0.5\"/><path d=\"M 463 138 456 145\" stroke=\"gray\" stroke-width=\"0.5\"/><path d=\"M 463 138 447 146\" stroke=\"gray\" stroke-width=\"0.5\"/><path d=\"M 463 138 448 155\" stroke=\"gray\" stroke-width=\"0.5\"/><path d=\"M 463 138 424 140\" stroke=\"gray\" stroke-width=\"0.5\"/><path d=\"M 463 138 443 127\" stroke=\"gray\" stroke-width=\"0.5\"/><path d=\"M 504 90 461 134\" stroke=\"gray\" stroke-width=\"0.5\"/><path d=\"M 504 90 513 103\" stroke=\"gray\" stroke-width=\"0.5\"/><path d=\"M 504 90 463 138\" stroke=\"gray\" stroke-width=\"0.5\"/><path d=\"M 720 520 710 498\" stroke=\"gray\" stroke-width=\"0.5\"/><path d=\"M 393 55 434 135\" stroke=\"gray\" stroke-width=\"0.5\"/><path d=\"M 434 135 445 139\" stroke=\"gray\" stroke-width=\"0.5\"/><path d=\"M 434 135 436 163\" stroke=\"gray\" stroke-width=\"0.5\"/><path d=\"M 434 135 451 140\" stroke=\"gray\" stroke-width=\"0.5\"/><path d=\"M 434 135 441 156\" stroke=\"gray\" stroke-width=\"0.5\"/><path d=\"M 434 135 432 160\" stroke=\"gray\" stroke-width=\"0.5\"/><path d=\"M 434 135 437 130\" stroke=\"gray\" stroke-width=\"0.5\"/><path d=\"M 434 135 453 150\" stroke=\"gray\" stroke-width=\"0.5\"/><path d=\"M 434 135 419 145\" stroke=\"gray\" stroke-width=\"0.5\"/><path d=\"M 434 135 474 139\" stroke=\"gray\" stroke-width=\"0.5\"/><path d=\"M 434 135 449 171\" stroke=\"gray\" stroke-width=\"0.5\"/><path d=\"M 434 135 459 154\" stroke=\"gray\" stroke-width=\"0.5\"/><path d=\"M 434 135 449 126\" stroke=\"gray\" stroke-width=\"0.5\"/><path d=\"M 434 135 449 163\" stroke=\"gray\" stroke-width=\"0.5\"/><path d=\"M 434 135 461 134\" stroke=\"gray\" stroke-width=\"0.5\"/><path d=\"M 434 135 463 138\" stroke=\"gray\" stroke-width=\"0.5\"/><path d=\"M 434 135 393 55\" stroke=\"gray\" stroke-width=\"0.5\"/><path d=\"M 434 135 439 142\" stroke=\"gray\" stroke-width=\"0.5\"/><path d=\"M 434 135 442 176\" stroke=\"gray\" stroke-width=\"0.5\"/><path d=\"M 434 135 457 166\" stroke=\"gray\" stroke-width=\"0.5\"/><path d=\"M 434 135 469 158\" stroke=\"gray\" stroke-width=\"0.5\"/><path d=\"M 434 135 467 152\" stroke=\"gray\" stroke-width=\"0.5\"/><path d=\"M 434 135 474 156\" stroke=\"gray\" stroke-width=\"0.5\"/><path d=\"M 434 135 465 165\" stroke=\"gray\" stroke-width=\"0.5\"/><path d=\"M 434 135 441 150\" stroke=\"gray\" stroke-width=\"0.5\"/><path d=\"M 434 135 442 169\" stroke=\"gray\" stroke-width=\"0.5\"/><path d=\"M 434 135 454 130\" stroke=\"gray\" stroke-width=\"0.5\"/><path d=\"M 434 135 434 152\" stroke=\"gray\" stroke-width=\"0.5\"/><path d=\"M 434 135 434 146\" stroke=\"gray\" stroke-width=\"0.5\"/><path d=\"M 434 135 456 145\" stroke=\"gray\" stroke-width=\"0.5\"/><path d=\"M 434 135 447 146\" stroke=\"gray\" stroke-width=\"0.5\"/><path d=\"M 434 135 448 155\" stroke=\"gray\" stroke-width=\"0.5\"/><path d=\"M 434 135 424 140\" stroke=\"gray\" stroke-width=\"0.5\"/><path d=\"M 434 135 443 127\" stroke=\"gray\" stroke-width=\"0.5\"/><path d=\"M 439 142 445 139\" stroke=\"gray\" stroke-width=\"0.5\"/><path d=\"M 439 142 436 163\" stroke=\"gray\" stroke-width=\"0.5\"/><path d=\"M 439 142 451 140\" stroke=\"gray\" stroke-width=\"0.5\"/><path d=\"M 439 142 441 156\" stroke=\"gray\" stroke-width=\"0.5\"/><path d=\"M 439 142 432 160\" stroke=\"gray\" stroke-width=\"0.5\"/><path d=\"M 439 142 437 130\" stroke=\"gray\" stroke-width=\"0.5\"/><path d=\"M 439 142 453 150\" stroke=\"gray\" stroke-width=\"0.5\"/><path d=\"M 439 142 419 145\" stroke=\"gray\" stroke-width=\"0.5\"/><path d=\"M 439 142 474 139\" stroke=\"gray\" stroke-width=\"0.5\"/><path d=\"M 439 142 449 171\" stroke=\"gray\" stroke-width=\"0.5\"/><path d=\"M 439 142 459 154\" stroke=\"gray\" stroke-width=\"0.5\"/><path d=\"M 439 142 449 126\" stroke=\"gray\" stroke-width=\"0.5\"/><path d=\"M 439 142 449 163\" stroke=\"gray\" stroke-width=\"0.5\"/><path d=\"M 439 142 461 134\" stroke=\"gray\" stroke-width=\"0.5\"/><path d=\"M 439 142 463 138\" stroke=\"gray\" stroke-width=\"0.5\"/><path d=\"M 439 142 434 135\" stroke=\"gray\" stroke-width=\"0.5\"/><path d=\"M 439 142 442 176\" stroke=\"gray\" stroke-width=\"0.5\"/><path d=\"M 439 142 457 166\" stroke=\"gray\" stroke-width=\"0.5\"/><path d=\"M 439 142 469 158\" stroke=\"gray\" stroke-width=\"0.5\"/><path d=\"M 439 142 467 152\" stroke=\"gray\" stroke-width=\"0.5\"/><path d=\"M 439 142 474 156\" stroke=\"gray\" stroke-width=\"0.5\"/><path d=\"M 439 142 465 165\" stroke=\"gray\" stroke-width=\"0.5\"/><path d=\"M 439 142 441 150\" stroke=\"gray\" stroke-width=\"0.5\"/><path d=\"M 439 142 442 169\" stroke=\"gray\" stroke-width=\"0.5\"/><path d=\"M 439 142 454 130\" stroke=\"gray\" stroke-width=\"0.5\"/><path d=\"M 439 142 434 152\" stroke=\"gray\" stroke-width=\"0.5\"/><path d=\"M 439 142 434 146\" stroke=\"gray\" stroke-width=\"0.5\"/><path d=\"M 439 142 456 145\" stroke=\"gray\" stroke-width=\"0.5\"/><path d=\"M 439 142 447 146\" stroke=\"gray\" stroke-width=\"0.5\"/><path d=\"M 439 142 448 155\" stroke=\"gray\" stroke-width=\"0.5\"/><path d=\"M 439 142 424 140\" stroke=\"gray\" stroke-width=\"0.5\"/><path d=\"M 439 142 443 127\" stroke=\"gray\" stroke-width=\"0.5\"/><path d=\"M 426 266 418 245\" stroke=\"gray\" stroke-width=\"0.5\"/><path d=\"M 426 266 408 334\" stroke=\"gray\" stroke-width=\"0.5\"/><path d=\"M 426 266 442 176\" stroke=\"gray\" stroke-width=\"0.5\"/><path d=\"M 426 266 433 234\" stroke=\"gray\" stroke-width=\"0.5\"/><path d=\"M 426 266 469 226\" stroke=\"gray\" stroke-width=\"0.5\"/><path d=\"M 408 334 426 266\" stroke=\"gray\" stroke-width=\"0.5\"/><path d=\"M 442 176 445 139\" stroke=\"gray\" stroke-width=\"0.5\"/><path d=\"M 442 176 436 163\" stroke=\"gray\" stroke-width=\"0.5\"/><path d=\"M 442 176 451 140\" stroke=\"gray\" stroke-width=\"0.5\"/><path d=\"M 442 176 441 156\" stroke=\"gray\" stroke-width=\"0.5\"/><path d=\"M 442 176 418 245\" stroke=\"gray\" stroke-width=\"0.5\"/><path d=\"M 442 176 432 160\" stroke=\"gray\" stroke-width=\"0.5\"/><path d=\"M 442 176 437 130\" stroke=\"gray\" stroke-width=\"0.5\"/><path d=\"M 442 176 453 150\" stroke=\"gray\" stroke-width=\"0.5\"/><path d=\"M 442 176 419 145\" stroke=\"gray\" stroke-width=\"0.5\"/><path d=\"M 442 176 474 139\" stroke=\"gray\" stroke-width=\"0.5\"/><path d=\"M 442 176 449 171\" stroke=\"gray\" stroke-width=\"0.5\"/><path d=\"M 442 176 459 154\" stroke=\"gray\" stroke-width=\"0.5\"/><path d=\"M 442 176 449 126\" stroke=\"gray\" stroke-width=\"0.5\"/><path d=\"M 442 176 449 163\" stroke=\"gray\" stroke-width=\"0.5\"/><path d=\"M 442 176 461 134\" stroke=\"gray\" stroke-width=\"0.5\"/><path d=\"M 442 176 463 138\" stroke=\"gray\" stroke-width=\"0.5\"/><path d=\"M 442 176 434 135\" stroke=\"gray\" stroke-width=\"0.5\"/><path d=\"M 442 176 439 142\" stroke=\"gray\" stroke-width=\"0.5\"/><path d=\"M 442 176 426 266\" stroke=\"gray\" stroke-width=\"0.5\"/><path d=\"M 442 176 457 166\" stroke=\"gray\" stroke-width=\"0.5\"/><path d=\"M 442 176 469 158\" stroke=\"gray\" stroke-width=\"0.5\"/><path d=\"M 442 176 467 152\" stroke=\"gray\" stroke-width=\"0.5\"/><path d=\"M 442 176 474 156\" stroke=\"gray\" stroke-width=\"0.5\"/><path d=\"M 442 176 465 165\" stroke=\"gray\" stroke-width=\"0.5\"/><path d=\"M 442 176 441 150\" stroke=\"gray\" stroke-width=\"0.5\"/><path d=\"M 442 176 442 169\" stroke=\"gray\" stroke-width=\"0.5\"/><path d=\"M 442 176 454 130\" stroke=\"gray\" stroke-width=\"0.5\"/><path d=\"M 442 176 433 234\" stroke=\"gray\" stroke-width=\"0.5\"/><path d=\"M 442 176 434 152\" stroke=\"gray\" stroke-width=\"0.5\"/><path d=\"M 442 176 434 146\" stroke=\"gray\" stroke-width=\"0.5\"/><path d=\"M 442 176 456 145\" stroke=\"gray\" stroke-width=\"0.5\"/><path d=\"M 442 176 447 146\" stroke=\"gray\" stroke-width=\"0.5\"/><path d=\"M 442 176 448 155\" stroke=\"gray\" stroke-width=\"0.5\"/><path d=\"M 442 176 424 140\" stroke=\"gray\" stroke-width=\"0.5\"/><path d=\"M 442 176 443 127\" stroke=\"gray\" stroke-width=\"0.5\"/><path d=\"M 442 176 469 226\" stroke=\"gray\" stroke-width=\"0.5\"/><path d=\"M 476 45 454 130\" stroke=\"gray\" stroke-width=\"0.5\"/><path d=\"M 438 254 442 169\" stroke=\"gray\" stroke-width=\"0.5\"/><path d=\"M 438 254 433 234\" stroke=\"gray\" stroke-width=\"0.5\"/><path d=\"M 517 167 512 177\" stroke=\"gray\" stroke-width=\"0.5\"/><path d=\"M 517 167 467 152\" stroke=\"gray\" stroke-width=\"0.5\"/><path d=\"M 517 167 532 157\" stroke=\"gray\" stroke-width=\"0.5\"/><path d=\"M 517 167 474 156\" stroke=\"gray\" stroke-width=\"0.5\"/><path d=\"M 517 167 465 165\" stroke=\"gray\" stroke-width=\"0.5\"/><path d=\"M 517 167 498 190\" stroke=\"gray\" stroke-width=\"0.5\"/><path d=\"M 457 166 445 139\" stroke=\"gray\" stroke-width=\"0.5\"/><path d=\"M 457 166 436 163\" stroke=\"gray\" stroke-width=\"0.5\"/><path d=\"M 457 166 451 140\" stroke=\"gray\" stroke-width=\"0.5\"/><path d=\"M 457 166 441 156\" stroke=\"gray\" stroke-width=\"0.5\"/><path d=\"M 457 166 432 160\" stroke=\"gray\" stroke-width=\"0.5\"/><path d=\"M 457 166 437 130\" stroke=\"gray\" stroke-width=\"0.5\"/><path d=\"M 457 166 453 150\" stroke=\"gray\" stroke-width=\"0.5\"/><path d=\"M 457 166 419 145\" stroke=\"gray\" stroke-width=\"0.5\"/><path d=\"M 457 166 474 139\" stroke=\"gray\" stroke-width=\"0.5\"/><path d=\"M 457 166 449 171\" stroke=\"gray\" stroke-width=\"0.5\"/><path d=\"M 457 166 459 154\" stroke=\"gray\" stroke-width=\"0.5\"/><path d=\"M 457 166 449 126\" stroke=\"gray\" stroke-width=\"0.5\"/><path d=\"M 457 166 449 163\" stroke=\"gray\" stroke-width=\"0.5\"/><path d=\"M 457 166 461 134\" stroke=\"gray\" stroke-width=\"0.5\"/><path d=\"M 457 166 463 138\" stroke=\"gray\" stroke-width=\"0.5\"/><path d=\"M 457 166 434 135\" stroke=\"gray\" stroke-width=\"0.5\"/><path d=\"M 457 166 439 142\" stroke=\"gray\" stroke-width=\"0.5\"/><path d=\"M 457 166 442 176\" stroke=\"gray\" stroke-width=\"0.5\"/><path d=\"M 457 166 488 220\" stroke=\"gray\" stroke-width=\"0.5\"/><path d=\"M 457 166 469 158\" stroke=\"gray\" stroke-width=\"0.5\"/><path d=\"M 457 166 467 152\" stroke=\"gray\" stroke-width=\"0.5\"/><path d=\"M 457 166 474 156\" stroke=\"gray\" stroke-width=\"0.5\"/><path d=\"M 457 166 465 165\" stroke=\"gray\" stroke-width=\"0.5\"/><path d=\"M 457 166 441 150\" stroke=\"gray\" stroke-width=\"0.5\"/><path d=\"M 457 166 442 169\" stroke=\"gray\" stroke-width=\"0.5\"/><path d=\"M 457 166 454 130\" stroke=\"gray\" stroke-width=\"0.5\"/><path d=\"M 457 166 434 152\" stroke=\"gray\" stroke-width=\"0.5\"/><path d=\"M 457 166 434 146\" stroke=\"gray\" stroke-width=\"0.5\"/><path d=\"M 457 166 456 145\" stroke=\"gray\" stroke-width=\"0.5\"/><path d=\"M 457 166 447 146\" stroke=\"gray\" stroke-width=\"0.5\"/><path d=\"M 457 166 448 155\" stroke=\"gray\" stroke-width=\"0.5\"/><path d=\"M 457 166 424 140\" stroke=\"gray\" stroke-width=\"0.5\"/><path d=\"M 457 166 443 127\" stroke=\"gray\" stroke-width=\"0.5\"/><path d=\"M 457 166 498 190\" stroke=\"gray\" stroke-width=\"0.5\"/><path d=\"M 457 166 469 226\" stroke=\"gray\" stroke-width=\"0.5\"/><path d=\"M 488 220 457 166\" stroke=\"gray\" stroke-width=\"0.5\"/><path d=\"M 488 220 465 165\" stroke=\"gray\" stroke-width=\"0.5\"/><path d=\"M 488 220 498 190\" stroke=\"gray\" stroke-width=\"0.5\"/><path d=\"M 488 220 469 226\" stroke=\"gray\" stroke-width=\"0.5\"/><path d=\"M 512 177 517 167\" stroke=\"gray\" stroke-width=\"0.5\"/><path d=\"M 512 177 469 158\" stroke=\"gray\" stroke-width=\"0.5\"/><path d=\"M 512 177 531 187\" stroke=\"gray\" stroke-width=\"0.5\"/><path d=\"M 512 177 467 152\" stroke=\"gray\" stroke-width=\"0.5\"/><path d=\"M 512 177 532 157\" stroke=\"gray\" stroke-width=\"0.5\"/><path d=\"M 512 177 522 196\" stroke=\"gray\" stroke-width=\"0.5\"/><path d=\"M 512 177 474 156\" stroke=\"gray\" stroke-width=\"0.5\"/><path d=\"M 512 177 545 161\" stroke=\"gray\" stroke-width=\"0.5\"/><path d=\"M 512 177 465 165\" stroke=\"gray\" stroke-width=\"0.5\"/><path d=\"M 512 177 498 190\" stroke=\"gray\" stroke-width=\"0.5\"/><path d=\"M 469 158 445 139\" stroke=\"gray\" stroke-width=\"0.5\"/><path d=\"M 469 158 436 163\" stroke=\"gray\" stroke-width=\"0.5\"/><path d=\"M 469 158 451 140\" stroke=\"gray\" stroke-width=\"0.5\"/><path d=\"M 469 158 441 156\" stroke=\"gray\" stroke-width=\"0.5\"/><path d=\"M 469 158 432 160\" stroke=\"gray\" stroke-width=\"0.5\"/><path d=\"M 469 158 437 130\" stroke=\"gray\" stroke-width=\"0.5\"/><path d=\"M 469 158 453 150\" stroke=\"gray\" stroke-width=\"0.5\"/><path d=\"M 469 158 419 145\" stroke=\"gray\" stroke-width=\"0.5\"/><path d=\"M 469 158 474 139\" stroke=\"gray\" stroke-width=\"0.5\"/><path d=\"M 469 158 449 171\" stroke=\"gray\" stroke-width=\"0.5\"/><path d=\"M 469 158 459 154\" stroke=\"gray\" stroke-width=\"0.5\"/><path d=\"M 469 158 449 126\" stroke=\"gray\" stroke-width=\"0.5\"/><path d=\"M 469 158 449 163\" stroke=\"gray\" stroke-width=\"0.5\"/><path d=\"M 469 158 461 134\" stroke=\"gray\" stroke-width=\"0.5\"/><path d=\"M 469 158 463 138\" stroke=\"gray\" stroke-width=\"0.5\"/><path d=\"M 469 158 434 135\" stroke=\"gray\" stroke-width=\"0.5\"/><path d=\"M 469 158 439 142\" stroke=\"gray\" stroke-width=\"0.5\"/><path d=\"M 469 158 442 176\" stroke=\"gray\" stroke-width=\"0.5\"/><path d=\"M 469 158 457 166\" stroke=\"gray\" stroke-width=\"0.5\"/><path d=\"M 469 158 512 177\" stroke=\"gray\" stroke-width=\"0.5\"/><path d=\"M 469 158 531 187\" stroke=\"gray\" stroke-width=\"0.5\"/><path d=\"M 469 158 467 152\" stroke=\"gray\" stroke-width=\"0.5\"/><path d=\"M 469 158 522 196\" stroke=\"gray\" stroke-width=\"0.5\"/><path d=\"M 469 158 474 156\" stroke=\"gray\" stroke-width=\"0.5\"/><path d=\"M 469 158 545 161\" stroke=\"gray\" stroke-width=\"0.5\"/><path d=\"M 469 158 465 165\" stroke=\"gray\" stroke-width=\"0.5\"/><path d=\"M 469 158 441 150\" stroke=\"gray\" stroke-width=\"0.5\"/><path d=\"M 469 158 442 169\" stroke=\"gray\" stroke-width=\"0.5\"/><path d=\"M 469 158 454 130\" stroke=\"gray\" stroke-width=\"0.5\"/><path d=\"M 469 158 434 152\" stroke=\"gray\" stroke-width=\"0.5\"/><path d=\"M 469 158 434 146\" stroke=\"gray\" stroke-width=\"0.5\"/><path d=\"M 469 158 456 145\" stroke=\"gray\" stroke-width=\"0.5\"/><path d=\"M 469 158 447 146\" stroke=\"gray\" stroke-width=\"0.5\"/><path d=\"M 469 158 448 155\" stroke=\"gray\" stroke-width=\"0.5\"/><path d=\"M 469 158 424 140\" stroke=\"gray\" stroke-width=\"0.5\"/><path d=\"M 469 158 443 127\" stroke=\"gray\" stroke-width=\"0.5\"/><path d=\"M 531 187 512 177\" stroke=\"gray\" stroke-width=\"0.5\"/><path d=\"M 531 187 469 158\" stroke=\"gray\" stroke-width=\"0.5\"/><path d=\"M 531 187 522 196\" stroke=\"gray\" stroke-width=\"0.5\"/><path d=\"M 531 187 474 156\" stroke=\"gray\" stroke-width=\"0.5\"/><path d=\"M 531 187 545 161\" stroke=\"gray\" stroke-width=\"0.5\"/><path d=\"M 467 152 445 139\" stroke=\"gray\" stroke-width=\"0.5\"/><path d=\"M 467 152 436 163\" stroke=\"gray\" stroke-width=\"0.5\"/><path d=\"M 467 152 451 140\" stroke=\"gray\" stroke-width=\"0.5\"/><path d=\"M 467 152 441 156\" stroke=\"gray\" stroke-width=\"0.5\"/><path d=\"M 467 152 432 160\" stroke=\"gray\" stroke-width=\"0.5\"/><path d=\"M 467 152 437 130\" stroke=\"gray\" stroke-width=\"0.5\"/><path d=\"M 467 152 453 150\" stroke=\"gray\" stroke-width=\"0.5\"/><path d=\"M 467 152 419 145\" stroke=\"gray\" stroke-width=\"0.5\"/><path d=\"M 467 152 474 139\" stroke=\"gray\" stroke-width=\"0.5\"/><path d=\"M 467 152 449 171\" stroke=\"gray\" stroke-width=\"0.5\"/><path d=\"M 467 152 459 154\" stroke=\"gray\" stroke-width=\"0.5\"/><path d=\"M 467 152 449 126\" stroke=\"gray\" stroke-width=\"0.5\"/><path d=\"M 467 152 449 163\" stroke=\"gray\" stroke-width=\"0.5\"/><path d=\"M 467 152 461 134\" stroke=\"gray\" stroke-width=\"0.5\"/><path d=\"M 467 152 463 138\" stroke=\"gray\" stroke-width=\"0.5\"/><path d=\"M 467 152 434 135\" stroke=\"gray\" stroke-width=\"0.5\"/><path d=\"M 467 152 439 142\" stroke=\"gray\" stroke-width=\"0.5\"/><path d=\"M 467 152 442 176\" stroke=\"gray\" stroke-width=\"0.5\"/><path d=\"M 467 152 517 167\" stroke=\"gray\" stroke-width=\"0.5\"/><path d=\"M 467 152 457 166\" stroke=\"gray\" stroke-width=\"0.5\"/><path d=\"M 467 152 512 177\" stroke=\"gray\" stroke-width=\"0.5\"/><path d=\"M 467 152 469 158\" stroke=\"gray\" stroke-width=\"0.5\"/><path d=\"M 467 152 532 157\" stroke=\"gray\" stroke-width=\"0.5\"/><path d=\"M 467 152 474 156\" stroke=\"gray\" stroke-width=\"0.5\"/><path d=\"M 467 152 465 165\" stroke=\"gray\" stroke-width=\"0.5\"/><path d=\"M 467 152 441 150\" stroke=\"gray\" stroke-width=\"0.5\"/><path d=\"M 467 152 442 169\" stroke=\"gray\" stroke-width=\"0.5\"/><path d=\"M 467 152 454 130\" stroke=\"gray\" stroke-width=\"0.5\"/><path d=\"M 467 152 434 152\" stroke=\"gray\" stroke-width=\"0.5\"/><path d=\"M 467 152 434 146\" stroke=\"gray\" stroke-width=\"0.5\"/><path d=\"M 467 152 456 145\" stroke=\"gray\" stroke-width=\"0.5\"/><path d=\"M 467 152 447 146\" stroke=\"gray\" stroke-width=\"0.5\"/><path d=\"M 467 152 448 155\" stroke=\"gray\" stroke-width=\"0.5\"/><path d=\"M 467 152 424 140\" stroke=\"gray\" stroke-width=\"0.5\"/><path d=\"M 467 152 443 127\" stroke=\"gray\" stroke-width=\"0.5\"/><path d=\"M 467 152 498 190\" stroke=\"gray\" stroke-width=\"0.5\"/><path d=\"M 532 157 517 167\" stroke=\"gray\" stroke-width=\"0.5\"/><path d=\"M 532 157 512 177\" stroke=\"gray\" stroke-width=\"0.5\"/><path d=\"M 532 157 467 152\" stroke=\"gray\" stroke-width=\"0.5\"/><path d=\"M 532 157 611 135\" stroke=\"gray\" stroke-width=\"0.5\"/><path d=\"M 532 157 474 156\" stroke=\"gray\" stroke-width=\"0.5\"/><path d=\"M 532 157 465 165\" stroke=\"gray\" stroke-width=\"0.5\"/><path d=\"M 532 157 498 190\" stroke=\"gray\" stroke-width=\"0.5\"/><path d=\"M 611 135 532 157\" stroke=\"gray\" stroke-width=\"0.5\"/><path d=\"M 522 196 512 177\" stroke=\"gray\" stroke-width=\"0.5\"/><path d=\"M 522 196 469 158\" stroke=\"gray\" stroke-width=\"0.5\"/><path d=\"M 522 196 531 187\" stroke=\"gray\" stroke-width=\"0.5\"/><path d=\"M 522 196 474 156\" stroke=\"gray\" stroke-width=\"0.5\"/><path d=\"M 522 196 545 161\" stroke=\"gray\" stroke-width=\"0.5\"/><path d=\"M 474 156 445 139\" stroke=\"gray\" stroke-width=\"0.5\"/><path d=\"M 474 156 436 163\" stroke=\"gray\" stroke-width=\"0.5\"/><path d=\"M 474 156 451 140\" stroke=\"gray\" stroke-width=\"0.5\"/><path d=\"M 474 156 441 156\" stroke=\"gray\" stroke-width=\"0.5\"/><path d=\"M 474 156 432 160\" stroke=\"gray\" stroke-width=\"0.5\"/><path d=\"M 474 156 437 130\" stroke=\"gray\" stroke-width=\"0.5\"/><path d=\"M 474 156 453 150\" stroke=\"gray\" stroke-width=\"0.5\"/><path d=\"M 474 156 419 145\" stroke=\"gray\" stroke-width=\"0.5\"/><path d=\"M 474 156 474 139\" stroke=\"gray\" stroke-width=\"0.5\"/><path d=\"M 474 156 449 171\" stroke=\"gray\" stroke-width=\"0.5\"/><path d=\"M 474 156 459 154\" stroke=\"gray\" stroke-width=\"0.5\"/><path d=\"M 474 156 449 126\" stroke=\"gray\" stroke-width=\"0.5\"/><path d=\"M 474 156 449 163\" stroke=\"gray\" stroke-width=\"0.5\"/><path d=\"M 474 156 461 134\" stroke=\"gray\" stroke-width=\"0.5\"/><path d=\"M 474 156 463 138\" stroke=\"gray\" stroke-width=\"0.5\"/><path d=\"M 474 156 434 135\" stroke=\"gray\" stroke-width=\"0.5\"/><path d=\"M 474 156 439 142\" stroke=\"gray\" stroke-width=\"0.5\"/><path d=\"M 474 156 442 176\" stroke=\"gray\" stroke-width=\"0.5\"/><path d=\"M 474 156 517 167\" stroke=\"gray\" stroke-width=\"0.5\"/><path d=\"M 474 156 457 166\" stroke=\"gray\" stroke-width=\"0.5\"/><path d=\"M 474 156 512 177\" stroke=\"gray\" stroke-width=\"0.5\"/><path d=\"M 474 156 469 158\" stroke=\"gray\" stroke-width=\"0.5\"/><path d=\"M 474 156 531 187\" stroke=\"gray\" stroke-width=\"0.5\"/><path d=\"M 474 156 467 152\" stroke=\"gray\" stroke-width=\"0.5\"/><path d=\"M 474 156 532 157\" stroke=\"gray\" stroke-width=\"0.5\"/><path d=\"M 474 156 522 196\" stroke=\"gray\" stroke-width=\"0.5\"/><path d=\"M 474 156 545 161\" stroke=\"gray\" stroke-width=\"0.5\"/><path d=\"M 474 156 465 165\" stroke=\"gray\" stroke-width=\"0.5\"/><path d=\"M 474 156 441 150\" stroke=\"gray\" stroke-width=\"0.5\"/><path d=\"M 474 156 442 169\" stroke=\"gray\" stroke-width=\"0.5\"/><path d=\"M 474 156 454 130\" stroke=\"gray\" stroke-width=\"0.5\"/><path d=\"M 474 156 434 152\" stroke=\"gray\" stroke-width=\"0.5\"/><path d=\"M 474 156 434 146\" stroke=\"gray\" stroke-width=\"0.5\"/><path d=\"M 474 156 456 145\" stroke=\"gray\" stroke-width=\"0.5\"/><path d=\"M 474 156 447 146\" stroke=\"gray\" stroke-width=\"0.5\"/><path d=\"M 474 156 448 155\" stroke=\"gray\" stroke-width=\"0.5\"/><path d=\"M 474 156 424 140\" stroke=\"gray\" stroke-width=\"0.5\"/><path d=\"M 474 156 443 127\" stroke=\"gray\" stroke-width=\"0.5\"/><path d=\"M 474 156 498 190\" stroke=\"gray\" stroke-width=\"0.5\"/><path d=\"M 545 161 512 177\" stroke=\"gray\" stroke-width=\"0.5\"/><path d=\"M 545 161 469 158\" stroke=\"gray\" stroke-width=\"0.5\"/><path d=\"M 545 161 531 187\" stroke=\"gray\" stroke-width=\"0.5\"/><path d=\"M 545 161 522 196\" stroke=\"gray\" stroke-width=\"0.5\"/><path d=\"M 545 161 474 156\" stroke=\"gray\" stroke-width=\"0.5\"/><path d=\"M 545 161 603 112\" stroke=\"gray\" stroke-width=\"0.5\"/><path d=\"M 465 165 445 139\" stroke=\"gray\" stroke-width=\"0.5\"/><path d=\"M 465 165 436 163\" stroke=\"gray\" stroke-width=\"0.5\"/><path d=\"M 465 165 451 140\" stroke=\"gray\" stroke-width=\"0.5\"/><path d=\"M 465 165 441 156\" stroke=\"gray\" stroke-width=\"0.5\"/><path d=\"M 465 165 432 160\" stroke=\"gray\" stroke-width=\"0.5\"/><path d=\"M 465 165 437 130\" stroke=\"gray\" stroke-width=\"0.5\"/><path d=\"M 465 165 453 150\" stroke=\"gray\" stroke-width=\"0.5\"/><path d=\"M 465 165 419 145\" stroke=\"gray\" stroke-width=\"0.5\"/><path d=\"M 465 165 474 139\" stroke=\"gray\" stroke-width=\"0.5\"/><path d=\"M 465 165 449 171\" stroke=\"gray\" stroke-width=\"0.5\"/><path d=\"M 465 165 459 154\" stroke=\"gray\" stroke-width=\"0.5\"/><path d=\"M 465 165 449 126\" stroke=\"gray\" stroke-width=\"0.5\"/><path d=\"M 465 165 449 163\" stroke=\"gray\" stroke-width=\"0.5\"/><path d=\"M 465 165 461 134\" stroke=\"gray\" stroke-width=\"0.5\"/><path d=\"M 465 165 463 138\" stroke=\"gray\" stroke-width=\"0.5\"/><path d=\"M 465 165 434 135\" stroke=\"gray\" stroke-width=\"0.5\"/><path d=\"M 465 165 439 142\" stroke=\"gray\" stroke-width=\"0.5\"/><path d=\"M 465 165 442 176\" stroke=\"gray\" stroke-width=\"0.5\"/><path d=\"M 465 165 517 167\" stroke=\"gray\" stroke-width=\"0.5\"/><path d=\"M 465 165 457 166\" stroke=\"gray\" stroke-width=\"0.5\"/><path d=\"M 465 165 488 220\" stroke=\"gray\" stroke-width=\"0.5\"/><path d=\"M 465 165 512 177\" stroke=\"gray\" stroke-width=\"0.5\"/><path d=\"M 465 165 469 158\" stroke=\"gray\" stroke-width=\"0.5\"/><path d=\"M 465 165 467 152\" stroke=\"gray\" stroke-width=\"0.5\"/><path d=\"M 465 165 532 157\" stroke=\"gray\" stroke-width=\"0.5\"/><path d=\"M 465 165 474 156\" stroke=\"gray\" stroke-width=\"0.5\"/><path d=\"M 465 165 441 150\" stroke=\"gray\" stroke-width=\"0.5\"/><path d=\"M 465 165 442 169\" stroke=\"gray\" stroke-width=\"0.5\"/><path d=\"M 465 165 454 130\" stroke=\"gray\" stroke-width=\"0.5\"/><path d=\"M 465 165 434 152\" stroke=\"gray\" stroke-width=\"0.5\"/><path d=\"M 465 165 434 146\" stroke=\"gray\" stroke-width=\"0.5\"/><path d=\"M 465 165 456 145\" stroke=\"gray\" stroke-width=\"0.5\"/><path d=\"M 465 165 447 146\" stroke=\"gray\" stroke-width=\"0.5\"/><path d=\"M 465 165 448 155\" stroke=\"gray\" stroke-width=\"0.5\"/><path d=\"M 465 165 424 140\" stroke=\"gray\" stroke-width=\"0.5\"/><path d=\"M 465 165 443 127\" stroke=\"gray\" stroke-width=\"0.5\"/><path d=\"M 465 165 498 190\" stroke=\"gray\" stroke-width=\"0.5\"/><path d=\"M 465 165 469 226\" stroke=\"gray\" stroke-width=\"0.5\"/><path d=\"M 441 150 445 139\" stroke=\"gray\" stroke-width=\"0.5\"/><path d=\"M 441 150 436 163\" stroke=\"gray\" stroke-width=\"0.5\"/><path d=\"M 441 150 451 140\" stroke=\"gray\" stroke-width=\"0.5\"/><path d=\"M 441 150 441 156\" stroke=\"gray\" stroke-width=\"0.5\"/><path d=\"M 441 150 432 160\" stroke=\"gray\" stroke-width=\"0.5\"/><path d=\"M 441 150 437 130\" stroke=\"gray\" stroke-width=\"0.5\"/><path d=\"M 441 150 453 150\" stroke=\"gray\" stroke-width=\"0.5\"/><path d=\"M 441 150 419 145\" stroke=\"gray\" stroke-width=\"0.5\"/><path d=\"M 441 150 474 139\" stroke=\"gray\" stroke-width=\"0.5\"/><path d=\"M 441 150 449 171\" stroke=\"gray\" stroke-width=\"0.5\"/><path d=\"M 441 150 459 154\" stroke=\"gray\" stroke-width=\"0.5\"/><path d=\"M 441 150 449 126\" stroke=\"gray\" stroke-width=\"0.5\"/><path d=\"M 441 150 449 163\" stroke=\"gray\" stroke-width=\"0.5\"/><path d=\"M 441 150 461 134\" stroke=\"gray\" stroke-width=\"0.5\"/><path d=\"M 441 150 463 138\" stroke=\"gray\" stroke-width=\"0.5\"/><path d=\"M 441 150 434 135\" stroke=\"gray\" stroke-width=\"0.5\"/><path d=\"M 441 150 439 142\" stroke=\"gray\" stroke-width=\"0.5\"/><path d=\"M 441 150 442 176\" stroke=\"gray\" stroke-width=\"0.5\"/><path d=\"M 441 150 457 166\" stroke=\"gray\" stroke-width=\"0.5\"/><path d=\"M 441 150 469 158\" stroke=\"gray\" stroke-width=\"0.5\"/><path d=\"M 441 150 467 152\" stroke=\"gray\" stroke-width=\"0.5\"/><path d=\"M 441 150 474 156\" stroke=\"gray\" stroke-width=\"0.5\"/><path d=\"M 441 150 465 165\" stroke=\"gray\" stroke-width=\"0.5\"/><path d=\"M 441 150 442 169\" stroke=\"gray\" stroke-width=\"0.5\"/><path d=\"M 441 150 454 130\" stroke=\"gray\" stroke-width=\"0.5\"/><path d=\"M 441 150 434 152\" stroke=\"gray\" stroke-width=\"0.5\"/><path d=\"M 441 150 434 146\" stroke=\"gray\" stroke-width=\"0.5\"/><path d=\"M 441 150 456 145\" stroke=\"gray\" stroke-width=\"0.5\"/><path d=\"M 441 150 447 146\" stroke=\"gray\" stroke-width=\"0.5\"/><path d=\"M 441 150 448 155\" stroke=\"gray\" stroke-width=\"0.5\"/><path d=\"M 441 150 424 140\" stroke=\"gray\" stroke-width=\"0.5\"/><path d=\"M 441 150 443 127\" stroke=\"gray\" stroke-width=\"0.5\"/><path d=\"M 442 169 445 139\" stroke=\"gray\" stroke-width=\"0.5\"/><path d=\"M 442 169 436 163\" stroke=\"gray\" stroke-width=\"0.5\"/><path d=\"M 442 169 451 140\" stroke=\"gray\" stroke-width=\"0.5\"/><path d=\"M 442 169 441 156\" stroke=\"gray\" stroke-width=\"0.5\"/><path d=\"M 442 169 432 160\" stroke=\"gray\" stroke-width=\"0.5\"/><path d=\"M 442 169 437 130\" stroke=\"gray\" stroke-width=\"0.5\"/><path d=\"M 442 169 453 150\" stroke=\"gray\" stroke-width=\"0.5\"/><path d=\"M 442 169 419 145\" stroke=\"gray\" stroke-width=\"0.5\"/><path d=\"M 442 169 474 139\" stroke=\"gray\" stroke-width=\"0.5\"/><path d=\"M 442 169 449 171\" stroke=\"gray\" stroke-width=\"0.5\"/><path d=\"M 442 169 459 154\" stroke=\"gray\" stroke-width=\"0.5\"/><path d=\"M 442 169 449 126\" stroke=\"gray\" stroke-width=\"0.5\"/><path d=\"M 442 169 449 163\" stroke=\"gray\" stroke-width=\"0.5\"/><path d=\"M 442 169 461 134\" stroke=\"gray\" stroke-width=\"0.5\"/><path d=\"M 442 169 463 138\" stroke=\"gray\" stroke-width=\"0.5\"/><path d=\"M 442 169 434 135\" stroke=\"gray\" stroke-width=\"0.5\"/><path d=\"M 442 169 439 142\" stroke=\"gray\" stroke-width=\"0.5\"/><path d=\"M 442 169 442 176\" stroke=\"gray\" stroke-width=\"0.5\"/><path d=\"M 442 169 438 254\" stroke=\"gray\" stroke-width=\"0.5\"/><path d=\"M 442 169 457 166\" stroke=\"gray\" stroke-width=\"0.5\"/><path d=\"M 442 169 469 158\" stroke=\"gray\" stroke-width=\"0.5\"/><path d=\"M 442 169 467 152\" stroke=\"gray\" stroke-width=\"0.5\"/><path d=\"M 442 169 474 156\" stroke=\"gray\" stroke-width=\"0.5\"/><path d=\"M 442 169 465 165\" stroke=\"gray\" stroke-width=\"0.5\"/><path d=\"M 442 169 441 150\" stroke=\"gray\" stroke-width=\"0.5\"/><path d=\"M 442 169 454 130\" stroke=\"gray\" stroke-width=\"0.5\"/><path d=\"M 442 169 433 234\" stroke=\"gray\" stroke-width=\"0.5\"/><path d=\"M 442 169 434 152\" stroke=\"gray\" stroke-width=\"0.5\"/><path d=\"M 442 169 434 146\" stroke=\"gray\" stroke-width=\"0.5\"/><path d=\"M 442 169 456 145\" stroke=\"gray\" stroke-width=\"0.5\"/><path d=\"M 442 169 447 146\" stroke=\"gray\" stroke-width=\"0.5\"/><path d=\"M 442 169 448 155\" stroke=\"gray\" stroke-width=\"0.5\"/><path d=\"M 442 169 424 140\" stroke=\"gray\" stroke-width=\"0.5\"/><path d=\"M 442 169 443 127\" stroke=\"gray\" stroke-width=\"0.5\"/><path d=\"M 454 130 445 139\" stroke=\"gray\" stroke-width=\"0.5\"/><path d=\"M 454 130 436 163\" stroke=\"gray\" stroke-width=\"0.5\"/><path d=\"M 454 130 451 140\" stroke=\"gray\" stroke-width=\"0.5\"/><path d=\"M 454 130 441 156\" stroke=\"gray\" stroke-width=\"0.5\"/><path d=\"M 454 130 432 160\" stroke=\"gray\" stroke-width=\"0.5\"/><path d=\"M 454 130 437 130\" stroke=\"gray\" stroke-width=\"0.5\"/><path d=\"M 454 130 453 150\" stroke=\"gray\" stroke-width=\"0.5\"/><path d=\"M 454 130 419 145\" stroke=\"gray\" stroke-width=\"0.5\"/><path d=\"M 454 130 474 139\" stroke=\"gray\" stroke-width=\"0.5\"/><path d=\"M 454 130 449 171\" stroke=\"gray\" stroke-width=\"0.5\"/><path d=\"M 454 130 459 154\" stroke=\"gray\" stroke-width=\"0.5\"/><path d=\"M 454 130 449 126\" stroke=\"gray\" stroke-width=\"0.5\"/><path d=\"M 454 130 449 163\" stroke=\"gray\" stroke-width=\"0.5\"/><path d=\"M 454 130 461 134\" stroke=\"gray\" stroke-width=\"0.5\"/><path d=\"M 454 130 463 138\" stroke=\"gray\" stroke-width=\"0.5\"/><path d=\"M 454 130 434 135\" stroke=\"gray\" stroke-width=\"0.5\"/><path d=\"M 454 130 439 142\" stroke=\"gray\" stroke-width=\"0.5\"/><path d=\"M 454 130 442 176\" stroke=\"gray\" stroke-width=\"0.5\"/><path d=\"M 454 130 476 45\" stroke=\"gray\" stroke-width=\"0.5\"/><path d=\"M 454 130 457 166\" stroke=\"gray\" stroke-width=\"0.5\"/><path d=\"M 454 130 469 158\" stroke=\"gray\" stroke-width=\"0.5\"/><path d=\"M 454 130 467 152\" stroke=\"gray\" stroke-width=\"0.5\"/><path d=\"M 454 130 474 156\" stroke=\"gray\" stroke-width=\"0.5\"/><path d=\"M 454 130 465 165\" stroke=\"gray\" stroke-width=\"0.5\"/><path d=\"M 454 130 441 150\" stroke=\"gray\" stroke-width=\"0.5\"/><path d=\"M 454 130 442 169\" stroke=\"gray\" stroke-width=\"0.5\"/><path d=\"M 454 130 434 152\" stroke=\"gray\" stroke-width=\"0.5\"/><path d=\"M 454 130 434 146\" stroke=\"gray\" stroke-width=\"0.5\"/><path d=\"M 454 130 456 145\" stroke=\"gray\" stroke-width=\"0.5\"/><path d=\"M 454 130 447 146\" stroke=\"gray\" stroke-width=\"0.5\"/><path d=\"M 454 130 448 155\" stroke=\"gray\" stroke-width=\"0.5\"/><path d=\"M 454 130 424 140\" stroke=\"gray\" stroke-width=\"0.5\"/><path d=\"M 454 130 443 127\" stroke=\"gray\" stroke-width=\"0.5\"/><path d=\"M 433 234 418 245\" stroke=\"gray\" stroke-width=\"0.5\"/><path d=\"M 433 234 426 266\" stroke=\"gray\" stroke-width=\"0.5\"/><path d=\"M 433 234 442 176\" stroke=\"gray\" stroke-width=\"0.5\"/><path d=\"M 433 234 438 254\" stroke=\"gray\" stroke-width=\"0.5\"/><path d=\"M 433 234 442 169\" stroke=\"gray\" stroke-width=\"0.5\"/><path d=\"M 433 234 469 226\" stroke=\"gray\" stroke-width=\"0.5\"/><path d=\"M 434 152 445 139\" stroke=\"gray\" stroke-width=\"0.5\"/><path d=\"M 434 152 436 163\" stroke=\"gray\" stroke-width=\"0.5\"/><path d=\"M 434 152 451 140\" stroke=\"gray\" stroke-width=\"0.5\"/><path d=\"M 434 152 441 156\" stroke=\"gray\" stroke-width=\"0.5\"/><path d=\"M 434 152 432 160\" stroke=\"gray\" stroke-width=\"0.5\"/><path d=\"M 434 152 437 130\" stroke=\"gray\" stroke-width=\"0.5\"/><path d=\"M 434 152 453 150\" stroke=\"gray\" stroke-width=\"0.5\"/><path d=\"M 434 152 419 145\" stroke=\"gray\" stroke-width=\"0.5\"/><path d=\"M 434 152 474 139\" stroke=\"gray\" stroke-width=\"0.5\"/><path d=\"M 434 152 449 171\" stroke=\"gray\" stroke-width=\"0.5\"/><path d=\"M 434 152 459 154\" stroke=\"gray\" stroke-width=\"0.5\"/><path d=\"M 434 152 449 126\" stroke=\"gray\" stroke-width=\"0.5\"/><path d=\"M 434 152 449 163\" stroke=\"gray\" stroke-width=\"0.5\"/><path d=\"M 434 152 461 134\" stroke=\"gray\" stroke-width=\"0.5\"/><path d=\"M 434 152 463 138\" stroke=\"gray\" stroke-width=\"0.5\"/><path d=\"M 434 152 434 135\" stroke=\"gray\" stroke-width=\"0.5\"/><path d=\"M 434 152 439 142\" stroke=\"gray\" stroke-width=\"0.5\"/><path d=\"M 434 152 442 176\" stroke=\"gray\" stroke-width=\"0.5\"/><path d=\"M 434 152 457 166\" stroke=\"gray\" stroke-width=\"0.5\"/><path d=\"M 434 152 469 158\" stroke=\"gray\" stroke-width=\"0.5\"/><path d=\"M 434 152 467 152\" stroke=\"gray\" stroke-width=\"0.5\"/><path d=\"M 434 152 474 156\" stroke=\"gray\" stroke-width=\"0.5\"/><path d=\"M 434 152 465 165\" stroke=\"gray\" stroke-width=\"0.5\"/><path d=\"M 434 152 441 150\" stroke=\"gray\" stroke-width=\"0.5\"/><path d=\"M 434 152 442 169\" stroke=\"gray\" stroke-width=\"0.5\"/><path d=\"M 434 152 454 130\" stroke=\"gray\" stroke-width=\"0.5\"/><path d=\"M 434 152 434 146\" stroke=\"gray\" stroke-width=\"0.5\"/><path d=\"M 434 152 456 145\" stroke=\"gray\" stroke-width=\"0.5\"/><path d=\"M 434 152 447 146\" stroke=\"gray\" stroke-width=\"0.5\"/><path d=\"M 434 152 448 155\" stroke=\"gray\" stroke-width=\"0.5\"/><path d=\"M 434 152 424 140\" stroke=\"gray\" stroke-width=\"0.5\"/><path d=\"M 434 152 443 127\" stroke=\"gray\" stroke-width=\"0.5\"/><path d=\"M 475 73 424 140\" stroke=\"gray\" stroke-width=\"0.5\"/><path d=\"M 434 146 445 139\" stroke=\"gray\" stroke-width=\"0.5\"/><path d=\"M 434 146 436 163\" stroke=\"gray\" stroke-width=\"0.5\"/><path d=\"M 434 146 451 140\" stroke=\"gray\" stroke-width=\"0.5\"/><path d=\"M 434 146 441 156\" stroke=\"gray\" stroke-width=\"0.5\"/><path d=\"M 434 146 432 160\" stroke=\"gray\" stroke-width=\"0.5\"/><path d=\"M 434 146 437 130\" stroke=\"gray\" stroke-width=\"0.5\"/><path d=\"M 434 146 453 150\" stroke=\"gray\" stroke-width=\"0.5\"/><path d=\"M 434 146 419 145\" stroke=\"gray\" stroke-width=\"0.5\"/><path d=\"M 434 146 474 139\" stroke=\"gray\" stroke-width=\"0.5\"/><path d=\"M 434 146 449 171\" stroke=\"gray\" stroke-width=\"0.5\"/><path d=\"M 434 146 459 154\" stroke=\"gray\" stroke-width=\"0.5\"/><path d=\"M 434 146 449 126\" stroke=\"gray\" stroke-width=\"0.5\"/><path d=\"M 434 146 449 163\" stroke=\"gray\" stroke-width=\"0.5\"/><path d=\"M 434 146 461 134\" stroke=\"gray\" stroke-width=\"0.5\"/><path d=\"M 434 146 463 138\" stroke=\"gray\" stroke-width=\"0.5\"/><path d=\"M 434 146 434 135\" stroke=\"gray\" stroke-width=\"0.5\"/><path d=\"M 434 146 439 142\" stroke=\"gray\" stroke-width=\"0.5\"/><path d=\"M 434 146 442 176\" stroke=\"gray\" stroke-width=\"0.5\"/><path d=\"M 434 146 457 166\" stroke=\"gray\" stroke-width=\"0.5\"/><path d=\"M 434 146 469 158\" stroke=\"gray\" stroke-width=\"0.5\"/><path d=\"M 434 146 467 152\" stroke=\"gray\" stroke-width=\"0.5\"/><path d=\"M 434 146 474 156\" stroke=\"gray\" stroke-width=\"0.5\"/><path d=\"M 434 146 465 165\" stroke=\"gray\" stroke-width=\"0.5\"/><path d=\"M 434 146 441 150\" stroke=\"gray\" stroke-width=\"0.5\"/><path d=\"M 434 146 442 169\" stroke=\"gray\" stroke-width=\"0.5\"/><path d=\"M 434 146 454 130\" stroke=\"gray\" stroke-width=\"0.5\"/><path d=\"M 434 146 434 152\" stroke=\"gray\" stroke-width=\"0.5\"/><path d=\"M 434 146 456 145\" stroke=\"gray\" stroke-width=\"0.5\"/><path d=\"M 434 146 447 146\" stroke=\"gray\" stroke-width=\"0.5\"/><path d=\"M 434 146 448 155\" stroke=\"gray\" stroke-width=\"0.5\"/><path d=\"M 434 146 424 140\" stroke=\"gray\" stroke-width=\"0.5\"/><path d=\"M 434 146 443 127\" stroke=\"gray\" stroke-width=\"0.5\"/><path d=\"M 456 145 445 139\" stroke=\"gray\" stroke-width=\"0.5\"/><path d=\"M 456 145 436 163\" stroke=\"gray\" stroke-width=\"0.5\"/><path d=\"M 456 145 451 140\" stroke=\"gray\" stroke-width=\"0.5\"/><path d=\"M 456 145 441 156\" stroke=\"gray\" stroke-width=\"0.5\"/><path d=\"M 456 145 432 160\" stroke=\"gray\" stroke-width=\"0.5\"/><path d=\"M 456 145 437 130\" stroke=\"gray\" stroke-width=\"0.5\"/><path d=\"M 456 145 453 150\" stroke=\"gray\" stroke-width=\"0.5\"/><path d=\"M 456 145 419 145\" stroke=\"gray\" stroke-width=\"0.5\"/><path d=\"M 456 145 474 139\" stroke=\"gray\" stroke-width=\"0.5\"/><path d=\"M 456 145 449 171\" stroke=\"gray\" stroke-width=\"0.5\"/><path d=\"M 456 145 459 154\" stroke=\"gray\" stroke-width=\"0.5\"/><path d=\"M 456 145 449 126\" stroke=\"gray\" stroke-width=\"0.5\"/><path d=\"M 456 145 449 163\" stroke=\"gray\" stroke-width=\"0.5\"/><path d=\"M 456 145 461 134\" stroke=\"gray\" stroke-width=\"0.5\"/><path d=\"M 456 145 463 138\" stroke=\"gray\" stroke-width=\"0.5\"/><path d=\"M 456 145 434 135\" stroke=\"gray\" stroke-width=\"0.5\"/><path d=\"M 456 145 439 142\" stroke=\"gray\" stroke-width=\"0.5\"/><path d=\"M 456 145 442 176\" stroke=\"gray\" stroke-width=\"0.5\"/><path d=\"M 456 145 457 166\" stroke=\"gray\" stroke-width=\"0.5\"/><path d=\"M 456 145 469 158\" stroke=\"gray\" stroke-width=\"0.5\"/><path d=\"M 456 145 467 152\" stroke=\"gray\" stroke-width=\"0.5\"/><path d=\"M 456 145 474 156\" stroke=\"gray\" stroke-width=\"0.5\"/><path d=\"M 456 145 465 165\" stroke=\"gray\" stroke-width=\"0.5\"/><path d=\"M 456 145 441 150\" stroke=\"gray\" stroke-width=\"0.5\"/><path d=\"M 456 145 442 169\" stroke=\"gray\" stroke-width=\"0.5\"/><path d=\"M 456 145 454 130\" stroke=\"gray\" stroke-width=\"0.5\"/><path d=\"M 456 145 434 152\" stroke=\"gray\" stroke-width=\"0.5\"/><path d=\"M 456 145 434 146\" stroke=\"gray\" stroke-width=\"0.5\"/><path d=\"M 456 145 447 146\" stroke=\"gray\" stroke-width=\"0.5\"/><path d=\"M 456 145 448 155\" stroke=\"gray\" stroke-width=\"0.5\"/><path d=\"M 456 145 424 140\" stroke=\"gray\" stroke-width=\"0.5\"/><path d=\"M 456 145 443 127\" stroke=\"gray\" stroke-width=\"0.5\"/><path d=\"M 447 146 445 139\" stroke=\"gray\" stroke-width=\"0.5\"/><path d=\"M 447 146 436 163\" stroke=\"gray\" stroke-width=\"0.5\"/><path d=\"M 447 146 451 140\" stroke=\"gray\" stroke-width=\"0.5\"/><path d=\"M 447 146 441 156\" stroke=\"gray\" stroke-width=\"0.5\"/><path d=\"M 447 146 432 160\" stroke=\"gray\" stroke-width=\"0.5\"/><path d=\"M 447 146 437 130\" stroke=\"gray\" stroke-width=\"0.5\"/><path d=\"M 447 146 453 150\" stroke=\"gray\" stroke-width=\"0.5\"/><path d=\"M 447 146 419 145\" stroke=\"gray\" stroke-width=\"0.5\"/><path d=\"M 447 146 474 139\" stroke=\"gray\" stroke-width=\"0.5\"/><path d=\"M 447 146 449 171\" stroke=\"gray\" stroke-width=\"0.5\"/><path d=\"M 447 146 459 154\" stroke=\"gray\" stroke-width=\"0.5\"/><path d=\"M 447 146 449 126\" stroke=\"gray\" stroke-width=\"0.5\"/><path d=\"M 447 146 449 163\" stroke=\"gray\" stroke-width=\"0.5\"/><path d=\"M 447 146 461 134\" stroke=\"gray\" stroke-width=\"0.5\"/><path d=\"M 447 146 463 138\" stroke=\"gray\" stroke-width=\"0.5\"/><path d=\"M 447 146 434 135\" stroke=\"gray\" stroke-width=\"0.5\"/><path d=\"M 447 146 439 142\" stroke=\"gray\" stroke-width=\"0.5\"/><path d=\"M 447 146 442 176\" stroke=\"gray\" stroke-width=\"0.5\"/><path d=\"M 447 146 457 166\" stroke=\"gray\" stroke-width=\"0.5\"/><path d=\"M 447 146 469 158\" stroke=\"gray\" stroke-width=\"0.5\"/><path d=\"M 447 146 467 152\" stroke=\"gray\" stroke-width=\"0.5\"/><path d=\"M 447 146 474 156\" stroke=\"gray\" stroke-width=\"0.5\"/><path d=\"M 447 146 465 165\" stroke=\"gray\" stroke-width=\"0.5\"/><path d=\"M 447 146 441 150\" stroke=\"gray\" stroke-width=\"0.5\"/><path d=\"M 447 146 442 169\" stroke=\"gray\" stroke-width=\"0.5\"/><path d=\"M 447 146 454 130\" stroke=\"gray\" stroke-width=\"0.5\"/><path d=\"M 447 146 434 152\" stroke=\"gray\" stroke-width=\"0.5\"/><path d=\"M 447 146 434 146\" stroke=\"gray\" stroke-width=\"0.5\"/><path d=\"M 447 146 456 145\" stroke=\"gray\" stroke-width=\"0.5\"/><path d=\"M 447 146 448 155\" stroke=\"gray\" stroke-width=\"0.5\"/><path d=\"M 447 146 424 140\" stroke=\"gray\" stroke-width=\"0.5\"/><path d=\"M 447 146 443 127\" stroke=\"gray\" stroke-width=\"0.5\"/><path d=\"M 448 155 445 139\" stroke=\"gray\" stroke-width=\"0.5\"/><path d=\"M 448 155 436 163\" stroke=\"gray\" stroke-width=\"0.5\"/><path d=\"M 448 155 451 140\" stroke=\"gray\" stroke-width=\"0.5\"/><path d=\"M 448 155 441 156\" stroke=\"gray\" stroke-width=\"0.5\"/><path d=\"M 448 155 432 160\" stroke=\"gray\" stroke-width=\"0.5\"/><path d=\"M 448 155 437 130\" stroke=\"gray\" stroke-width=\"0.5\"/><path d=\"M 448 155 453 150\" stroke=\"gray\" stroke-width=\"0.5\"/><path d=\"M 448 155 419 145\" stroke=\"gray\" stroke-width=\"0.5\"/><path d=\"M 448 155 474 139\" stroke=\"gray\" stroke-width=\"0.5\"/><path d=\"M 448 155 449 171\" stroke=\"gray\" stroke-width=\"0.5\"/><path d=\"M 448 155 459 154\" stroke=\"gray\" stroke-width=\"0.5\"/><path d=\"M 448 155 449 126\" stroke=\"gray\" stroke-width=\"0.5\"/><path d=\"M 448 155 449 163\" stroke=\"gray\" stroke-width=\"0.5\"/><path d=\"M 448 155 461 134\" stroke=\"gray\" stroke-width=\"0.5\"/><path d=\"M 448 155 463 138\" stroke=\"gray\" stroke-width=\"0.5\"/><path d=\"M 448 155 434 135\" stroke=\"gray\" stroke-width=\"0.5\"/><path d=\"M 448 155 439 142\" stroke=\"gray\" stroke-width=\"0.5\"/><path d=\"M 448 155 442 176\" stroke=\"gray\" stroke-width=\"0.5\"/><path d=\"M 448 155 457 166\" stroke=\"gray\" stroke-width=\"0.5\"/><path d=\"M 448 155 469 158\" stroke=\"gray\" stroke-width=\"0.5\"/><path d=\"M 448 155 467 152\" stroke=\"gray\" stroke-width=\"0.5\"/><path d=\"M 448 155 474 156\" stroke=\"gray\" stroke-width=\"0.5\"/><path d=\"M 448 155 465 165\" stroke=\"gray\" stroke-width=\"0.5\"/><path d=\"M 448 155 441 150\" stroke=\"gray\" stroke-width=\"0.5\"/><path d=\"M 448 155 442 169\" stroke=\"gray\" stroke-width=\"0.5\"/><path d=\"M 448 155 454 130\" stroke=\"gray\" stroke-width=\"0.5\"/><path d=\"M 448 155 434 152\" stroke=\"gray\" stroke-width=\"0.5\"/><path d=\"M 448 155 434 146\" stroke=\"gray\" stroke-width=\"0.5\"/><path d=\"M 448 155 456 145\" stroke=\"gray\" stroke-width=\"0.5\"/><path d=\"M 448 155 447 146\" stroke=\"gray\" stroke-width=\"0.5\"/><path d=\"M 448 155 424 140\" stroke=\"gray\" stroke-width=\"0.5\"/><path d=\"M 448 155 443 127\" stroke=\"gray\" stroke-width=\"0.5\"/><path d=\"M 338 139 344 158\" stroke=\"gray\" stroke-width=\"0.5\"/><path d=\"M 338 139 424 140\" stroke=\"gray\" stroke-width=\"0.5\"/><path d=\"M 344 158 338 139\" stroke=\"gray\" stroke-width=\"0.5\"/><path d=\"M 344 158 346 128\" stroke=\"gray\" stroke-width=\"0.5\"/><path d=\"M 344 158 424 140\" stroke=\"gray\" stroke-width=\"0.5\"/><path d=\"M 346 128 344 158\" stroke=\"gray\" stroke-width=\"0.5\"/><path d=\"M 346 128 424 140\" stroke=\"gray\" stroke-width=\"0.5\"/><path d=\"M 424 140 445 139\" stroke=\"gray\" stroke-width=\"0.5\"/><path d=\"M 424 140 436 163\" stroke=\"gray\" stroke-width=\"0.5\"/><path d=\"M 424 140 451 140\" stroke=\"gray\" stroke-width=\"0.5\"/><path d=\"M 424 140 441 156\" stroke=\"gray\" stroke-width=\"0.5\"/><path d=\"M 424 140 432 160\" stroke=\"gray\" stroke-width=\"0.5\"/><path d=\"M 424 140 437 130\" stroke=\"gray\" stroke-width=\"0.5\"/><path d=\"M 424 140 453 150\" stroke=\"gray\" stroke-width=\"0.5\"/><path d=\"M 424 140 419 145\" stroke=\"gray\" stroke-width=\"0.5\"/><path d=\"M 424 140 474 139\" stroke=\"gray\" stroke-width=\"0.5\"/><path d=\"M 424 140 449 171\" stroke=\"gray\" stroke-width=\"0.5\"/><path d=\"M 424 140 459 154\" stroke=\"gray\" stroke-width=\"0.5\"/><path d=\"M 424 140 449 126\" stroke=\"gray\" stroke-width=\"0.5\"/><path d=\"M 424 140 449 163\" stroke=\"gray\" stroke-width=\"0.5\"/><path d=\"M 424 140 461 134\" stroke=\"gray\" stroke-width=\"0.5\"/><path d=\"M 424 140 463 138\" stroke=\"gray\" stroke-width=\"0.5\"/><path d=\"M 424 140 434 135\" stroke=\"gray\" stroke-width=\"0.5\"/><path d=\"M 424 140 439 142\" stroke=\"gray\" stroke-width=\"0.5\"/><path d=\"M 424 140 442 176\" stroke=\"gray\" stroke-width=\"0.5\"/><path d=\"M 424 140 457 166\" stroke=\"gray\" stroke-width=\"0.5\"/><path d=\"M 424 140 469 158\" stroke=\"gray\" stroke-width=\"0.5\"/><path d=\"M 424 140 467 152\" stroke=\"gray\" stroke-width=\"0.5\"/><path d=\"M 424 140 474 156\" stroke=\"gray\" stroke-width=\"0.5\"/><path d=\"M 424 140 465 165\" stroke=\"gray\" stroke-width=\"0.5\"/><path d=\"M 424 140 441 150\" stroke=\"gray\" stroke-width=\"0.5\"/><path d=\"M 424 140 442 169\" stroke=\"gray\" stroke-width=\"0.5\"/><path d=\"M 424 140 454 130\" stroke=\"gray\" stroke-width=\"0.5\"/><path d=\"M 424 140 434 152\" stroke=\"gray\" stroke-width=\"0.5\"/><path d=\"M 424 140 475 73\" stroke=\"gray\" stroke-width=\"0.5\"/><path d=\"M 424 140 434 146\" stroke=\"gray\" stroke-width=\"0.5\"/><path d=\"M 424 140 456 145\" stroke=\"gray\" stroke-width=\"0.5\"/><path d=\"M 424 140 447 146\" stroke=\"gray\" stroke-width=\"0.5\"/><path d=\"M 424 140 448 155\" stroke=\"gray\" stroke-width=\"0.5\"/><path d=\"M 424 140 338 139\" stroke=\"gray\" stroke-width=\"0.5\"/><path d=\"M 424 140 344 158\" stroke=\"gray\" stroke-width=\"0.5\"/><path d=\"M 424 140 346 128\" stroke=\"gray\" stroke-width=\"0.5\"/><path d=\"M 424 140 443 127\" stroke=\"gray\" stroke-width=\"0.5\"/><path d=\"M 443 127 445 139\" stroke=\"gray\" stroke-width=\"0.5\"/><path d=\"M 443 127 436 163\" stroke=\"gray\" stroke-width=\"0.5\"/><path d=\"M 443 127 451 140\" stroke=\"gray\" stroke-width=\"0.5\"/><path d=\"M 443 127 424 43\" stroke=\"gray\" stroke-width=\"0.5\"/><path d=\"M 443 127 441 156\" stroke=\"gray\" stroke-width=\"0.5\"/><path d=\"M 443 127 432 160\" stroke=\"gray\" stroke-width=\"0.5\"/><path d=\"M 443 127 437 130\" stroke=\"gray\" stroke-width=\"0.5\"/><path d=\"M 443 127 453 150\" stroke=\"gray\" stroke-width=\"0.5\"/><path d=\"M 443 127 419 145\" stroke=\"gray\" stroke-width=\"0.5\"/><path d=\"M 443 127 474 139\" stroke=\"gray\" stroke-width=\"0.5\"/><path d=\"M 443 127 441 64\" stroke=\"gray\" stroke-width=\"0.5\"/><path d=\"M 443 127 449 171\" stroke=\"gray\" stroke-width=\"0.5\"/><path d=\"M 443 127 459 154\" stroke=\"gray\" stroke-width=\"0.5\"/><path d=\"M 443 127 449 126\" stroke=\"gray\" stroke-width=\"0.5\"/><path d=\"M 443 127 449 163\" stroke=\"gray\" stroke-width=\"0.5\"/><path d=\"M 443 127 461 134\" stroke=\"gray\" stroke-width=\"0.5\"/><path d=\"M 443 127 463 138\" stroke=\"gray\" stroke-width=\"0.5\"/><path d=\"M 443 127 434 135\" stroke=\"gray\" stroke-width=\"0.5\"/><path d=\"M 443 127 439 142\" stroke=\"gray\" stroke-width=\"0.5\"/><path d=\"M 443 127 442 176\" stroke=\"gray\" stroke-width=\"0.5\"/><path d=\"M 443 127 457 166\" stroke=\"gray\" stroke-width=\"0.5\"/><path d=\"M 443 127 469 158\" stroke=\"gray\" stroke-width=\"0.5\"/><path d=\"M 443 127 467 152\" stroke=\"gray\" stroke-width=\"0.5\"/><path d=\"M 443 127 474 156\" stroke=\"gray\" stroke-width=\"0.5\"/><path d=\"M 443 127 465 165\" stroke=\"gray\" stroke-width=\"0.5\"/><path d=\"M 443 127 441 150\" stroke=\"gray\" stroke-width=\"0.5\"/><path d=\"M 443 127 442 169\" stroke=\"gray\" stroke-width=\"0.5\"/><path d=\"M 443 127 454 130\" stroke=\"gray\" stroke-width=\"0.5\"/><path d=\"M 443 127 434 152\" stroke=\"gray\" stroke-width=\"0.5\"/><path d=\"M 443 127 434 146\" stroke=\"gray\" stroke-width=\"0.5\"/><path d=\"M 443 127 456 145\" stroke=\"gray\" stroke-width=\"0.5\"/><path d=\"M 443 127 447 146\" stroke=\"gray\" stroke-width=\"0.5\"/><path d=\"M 443 127 448 155\" stroke=\"gray\" stroke-width=\"0.5\"/><path d=\"M 443 127 424 140\" stroke=\"gray\" stroke-width=\"0.5\"/><path d=\"M 498 190 517 167\" stroke=\"gray\" stroke-width=\"0.5\"/><path d=\"M 498 190 457 166\" stroke=\"gray\" stroke-width=\"0.5\"/><path d=\"M 498 190 488 220\" stroke=\"gray\" stroke-width=\"0.5\"/><path d=\"M 498 190 512 177\" stroke=\"gray\" stroke-width=\"0.5\"/><path d=\"M 498 190 467 152\" stroke=\"gray\" stroke-width=\"0.5\"/><path d=\"M 498 190 532 157\" stroke=\"gray\" stroke-width=\"0.5\"/><path d=\"M 498 190 474 156\" stroke=\"gray\" stroke-width=\"0.5\"/><path d=\"M 498 190 465 165\" stroke=\"gray\" stroke-width=\"0.5\"/><path d=\"M 498 190 469 226\" stroke=\"gray\" stroke-width=\"0.5\"/><path d=\"M 603 112 545 161\" stroke=\"gray\" stroke-width=\"0.5\"/><path d=\"M 550 237 469 226\" stroke=\"gray\" stroke-width=\"0.5\"/><path d=\"M 469 226 418 245\" stroke=\"gray\" stroke-width=\"0.5\"/><path d=\"M 469 226 426 266\" stroke=\"gray\" stroke-width=\"0.5\"/><path d=\"M 469 226 442 176\" stroke=\"gray\" stroke-width=\"0.5\"/><path d=\"M 469 226 457 166\" stroke=\"gray\" stroke-width=\"0.5\"/><path d=\"M 469 226 488 220\" stroke=\"gray\" stroke-width=\"0.5\"/><path d=\"M 469 226 465 165\" stroke=\"gray\" stroke-width=\"0.5\"/><path d=\"M 469 226 433 234\" stroke=\"gray\" stroke-width=\"0.5\"/><path d=\"M 469 226 498 190\" stroke=\"gray\" stroke-width=\"0.5\"/><path d=\"M 469 226 550 237\" stroke=\"gray\" stroke-width=\"0.5\"/><circle cx=\"445\" cy=\"139\" r=\"3.0\" style=\"fill:rgb(247, 173, 143);stroke:black;stroke-width:1.0\"/><circle cx=\"436\" cy=\"163\" r=\"3.0\" style=\"fill:rgb(242, 145, 115);stroke:black;stroke-width:1.0\"/><circle cx=\"451\" cy=\"140\" r=\"3.0\" style=\"fill:rgb(247, 173, 143);stroke:black;stroke-width:1.0\"/><circle cx=\"484\" cy=\"199\" r=\"3.0\" style=\"fill:rgb(80, 107, 218);stroke:black;stroke-width:1.0\"/><circle cx=\"424\" cy=\"43\" r=\"3.0\" style=\"fill:rgb(72, 96, 209);stroke:black;stroke-width:1.0\"/><circle cx=\"413\" cy=\"199\" r=\"3.0\" style=\"fill:rgb(88, 118, 226);stroke:black;stroke-width:1.0\"/><circle cx=\"441\" cy=\"156\" r=\"3.0\" style=\"fill:rgb(247, 173, 143);stroke:black;stroke-width:1.0\"/><circle cx=\"418\" cy=\"245\" r=\"3.0\" style=\"fill:rgb(109, 144, 241);stroke:black;stroke-width:1.0\"/><circle cx=\"432\" cy=\"160\" r=\"3.0\" style=\"fill:rgb(242, 145, 115);stroke:black;stroke-width:1.0\"/><circle cx=\"414\" cy=\"62\" r=\"3.0\" style=\"fill:rgb(80, 107, 218);stroke:black;stroke-width:1.0\"/><circle cx=\"388\" cy=\"73\" r=\"3.0\" style=\"fill:rgb(80, 107, 218);stroke:black;stroke-width:1.0\"/><circle cx=\"437\" cy=\"130\" r=\"3.0\" style=\"fill:rgb(230, 114, 89);stroke:black;stroke-width:1.0\"/><circle cx=\"345\" cy=\"113\" r=\"3.0\" style=\"fill:rgb(112, 147, 243);stroke:black;stroke-width:1.0\"/><circle cx=\"453\" cy=\"150\" r=\"3.0\" style=\"fill:rgb(247, 173, 143);stroke:black;stroke-width:1.0\"/><circle cx=\"419\" cy=\"145\" r=\"3.0\" style=\"fill:rgb(201, 59, 55);stroke:black;stroke-width:1.0\"/><circle cx=\"562\" cy=\"131\" r=\"3.0\" style=\"fill:rgb(159, 190, 254);stroke:black;stroke-width:1.0\"/><circle cx=\"474\" cy=\"139\" r=\"3.0\" style=\"fill:rgb(201, 59, 55);stroke:black;stroke-width:1.0\"/><circle cx=\"20\" cy=\"293\" r=\"3.0\" style=\"fill:rgb(197, 213, 242);stroke:black;stroke-width:1.0\"/><circle cx=\"546\" cy=\"113\" r=\"3.0\" style=\"fill:rgb(116, 151, 245);stroke:black;stroke-width:1.0\"/><circle cx=\"41\" cy=\"307\" r=\"3.0\" style=\"fill:rgb(197, 213, 242);stroke:black;stroke-width:1.0\"/><circle cx=\"327\" cy=\"153\" r=\"3.0\" style=\"fill:rgb(159, 190, 254);stroke:black;stroke-width:1.0\"/><circle cx=\"289\" cy=\"204\" r=\"3.0\" style=\"fill:rgb(76, 102, 214);stroke:black;stroke-width:1.0\"/><circle cx=\"324\" cy=\"110\" r=\"3.0\" style=\"fill:rgb(159, 190, 254);stroke:black;stroke-width:1.0\"/><circle cx=\"266\" cy=\"77\" r=\"3.0\" style=\"fill:rgb(76, 102, 214);stroke:black;stroke-width:1.0\"/><circle cx=\"623\" cy=\"166\" r=\"3.0\" style=\"fill:rgb(70, 93, 207);stroke:black;stroke-width:1.0\"/><circle cx=\"710\" cy=\"498\" r=\"3.0\" style=\"fill:rgb(197, 213, 242);stroke:black;stroke-width:1.0\"/><circle cx=\"544\" cy=\"88\" r=\"3.0\" style=\"fill:rgb(159, 190, 254);stroke:black;stroke-width:1.0\"/><circle cx=\"569\" cy=\"20\" r=\"3.0\" style=\"fill:rgb(70, 93, 207);stroke:black;stroke-width:1.0\"/><circle cx=\"515\" cy=\"140\" r=\"3.0\" style=\"fill:rgb(155, 187, 254);stroke:black;stroke-width:1.0\"/><circle cx=\"441\" cy=\"64\" r=\"3.0\" style=\"fill:rgb(105, 139, 239);stroke:black;stroke-width:1.0\"/><circle cx=\"449\" cy=\"171\" r=\"3.0\" style=\"fill:rgb(225, 104, 82);stroke:black;stroke-width:1.0\"/><circle cx=\"498\" cy=\"248\" r=\"3.0\" style=\"fill:rgb(58, 76, 192);stroke:black;stroke-width:1.0\"/><circle cx=\"459\" cy=\"154\" r=\"3.0\" style=\"fill:rgb(239, 137, 108);stroke:black;stroke-width:1.0\"/><circle cx=\"401\" cy=\"210\" r=\"3.0\" style=\"fill:rgb(123, 158, 248);stroke:black;stroke-width:1.0\"/><circle cx=\"356\" cy=\"276\" r=\"3.0\" style=\"fill:rgb(64, 84, 199);stroke:black;stroke-width:1.0\"/><circle cx=\"449\" cy=\"40\" r=\"3.0\" style=\"fill:rgb(72, 96, 209);stroke:black;stroke-width:1.0\"/><circle cx=\"449\" cy=\"126\" r=\"3.0\" style=\"fill:rgb(236, 128, 100);stroke:black;stroke-width:1.0\"/><circle cx=\"449\" cy=\"163\" r=\"3.0\" style=\"fill:rgb(222, 98, 78);stroke:black;stroke-width:1.0\"/><circle cx=\"461\" cy=\"134\" r=\"3.0\" style=\"fill:rgb(239, 137, 108);stroke:black;stroke-width:1.0\"/><circle cx=\"513\" cy=\"103\" r=\"3.0\" style=\"fill:rgb(76, 102, 214);stroke:black;stroke-width:1.0\"/><circle cx=\"463\" cy=\"138\" r=\"3.0\" style=\"fill:rgb(239, 137, 108);stroke:black;stroke-width:1.0\"/><circle cx=\"504\" cy=\"90\" r=\"3.0\" style=\"fill:rgb(76, 102, 214);stroke:black;stroke-width:1.0\"/><circle cx=\"720\" cy=\"520\" r=\"3.0\" style=\"fill:rgb(197, 213, 242);stroke:black;stroke-width:1.0\"/><circle cx=\"393\" cy=\"55\" r=\"3.0\" style=\"fill:rgb(58, 76, 192);stroke:black;stroke-width:1.0\"/><circle cx=\"434\" cy=\"135\" r=\"3.0\" style=\"fill:rgb(240, 141, 111);stroke:black;stroke-width:1.0\"/><circle cx=\"439\" cy=\"142\" r=\"3.0\" style=\"fill:rgb(247, 173, 143);stroke:black;stroke-width:1.0\"/><circle cx=\"426\" cy=\"266\" r=\"3.0\" style=\"fill:rgb(148, 181, 254);stroke:black;stroke-width:1.0\"/><circle cx=\"408\" cy=\"334\" r=\"3.0\" style=\"fill:rgb(70, 93, 207);stroke:black;stroke-width:1.0\"/><circle cx=\"442\" cy=\"176\" r=\"3.0\" style=\"fill:rgb(211, 77, 64);stroke:black;stroke-width:1.0\"/><circle cx=\"476\" cy=\"45\" r=\"3.0\" style=\"fill:rgb(58, 76, 192);stroke:black;stroke-width:1.0\"/><circle cx=\"438\" cy=\"254\" r=\"3.0\" style=\"fill:rgb(72, 96, 209);stroke:black;stroke-width:1.0\"/><circle cx=\"517\" cy=\"167\" r=\"3.0\" style=\"fill:rgb(105, 139, 239);stroke:black;stroke-width:1.0\"/><circle cx=\"457\" cy=\"166\" r=\"3.0\" style=\"fill:rgb(234, 123, 96);stroke:black;stroke-width:1.0\"/><circle cx=\"488\" cy=\"220\" r=\"3.0\" style=\"fill:rgb(88, 118, 226);stroke:black;stroke-width:1.0\"/><circle cx=\"512\" cy=\"177\" r=\"3.0\" style=\"fill:rgb(163, 193, 254);stroke:black;stroke-width:1.0\"/><circle cx=\"469\" cy=\"158\" r=\"3.0\" style=\"fill:rgb(225, 104, 82);stroke:black;stroke-width:1.0\"/><circle cx=\"531\" cy=\"187\" r=\"3.0\" style=\"fill:rgb(105, 139, 239);stroke:black;stroke-width:1.0\"/><circle cx=\"467\" cy=\"152\" r=\"3.0\" style=\"fill:rgb(230, 114, 89);stroke:black;stroke-width:1.0\"/><circle cx=\"532\" cy=\"157\" r=\"3.0\" style=\"fill:rgb(141, 175, 253);stroke:black;stroke-width:1.0\"/><circle cx=\"611\" cy=\"135\" r=\"3.0\" style=\"fill:rgb(64, 84, 199);stroke:black;stroke-width:1.0\"/><circle cx=\"522\" cy=\"196\" r=\"3.0\" style=\"fill:rgb(105, 139, 239);stroke:black;stroke-width:1.0\"/><circle cx=\"474\" cy=\"156\" r=\"3.0\" style=\"fill:rgb(187, 26, 43);stroke:black;stroke-width:1.0\"/><circle cx=\"545\" cy=\"161\" r=\"3.0\" style=\"fill:rgb(141, 175, 253);stroke:black;stroke-width:1.0\"/><circle cx=\"465\" cy=\"165\" r=\"3.0\" style=\"fill:rgb(205, 66, 58);stroke:black;stroke-width:1.0\"/><circle cx=\"441\" cy=\"150\" r=\"3.0\" style=\"fill:rgb(247, 173, 143);stroke:black;stroke-width:1.0\"/><circle cx=\"442\" cy=\"169\" r=\"3.0\" style=\"fill:rgb(236, 128, 100);stroke:black;stroke-width:1.0\"/><circle cx=\"454\" cy=\"130\" r=\"3.0\" style=\"fill:rgb(240, 141, 111);stroke:black;stroke-width:1.0\"/><circle cx=\"433\" cy=\"234\" r=\"3.0\" style=\"fill:rgb(141, 175, 253);stroke:black;stroke-width:1.0\"/><circle cx=\"434\" cy=\"152\" r=\"3.0\" style=\"fill:rgb(247, 173, 143);stroke:black;stroke-width:1.0\"/><circle cx=\"475\" cy=\"73\" r=\"3.0\" style=\"fill:rgb(58, 76, 192);stroke:black;stroke-width:1.0\"/><circle cx=\"434\" cy=\"146\" r=\"3.0\" style=\"fill:rgb(247, 173, 143);stroke:black;stroke-width:1.0\"/><circle cx=\"456\" cy=\"145\" r=\"3.0\" style=\"fill:rgb(247, 173, 143);stroke:black;stroke-width:1.0\"/><circle cx=\"447\" cy=\"146\" r=\"3.0\" style=\"fill:rgb(247, 173, 143);stroke:black;stroke-width:1.0\"/><circle cx=\"448\" cy=\"155\" r=\"3.0\" style=\"fill:rgb(247, 173, 143);stroke:black;stroke-width:1.0\"/><circle cx=\"338\" cy=\"139\" r=\"3.0\" style=\"fill:rgb(80, 107, 218);stroke:black;stroke-width:1.0\"/><circle cx=\"344\" cy=\"158\" r=\"3.0\" style=\"fill:rgb(105, 139, 239);stroke:black;stroke-width:1.0\"/><circle cx=\"346\" cy=\"128\" r=\"3.0\" style=\"fill:rgb(80, 107, 218);stroke:black;stroke-width:1.0\"/><circle cx=\"424\" cy=\"140\" r=\"3.0\" style=\"fill:rgb(179, 3, 38);stroke:black;stroke-width:1.0\"/><circle cx=\"443\" cy=\"127\" r=\"3.0\" style=\"fill:rgb(236, 128, 100);stroke:black;stroke-width:1.0\"/><circle cx=\"498\" cy=\"190\" r=\"3.0\" style=\"fill:rgb(148, 181, 254);stroke:black;stroke-width:1.0\"/><circle cx=\"603\" cy=\"112\" r=\"3.0\" style=\"fill:rgb(64, 84, 199);stroke:black;stroke-width:1.0\"/><circle cx=\"550\" cy=\"237\" r=\"3.0\" style=\"fill:rgb(64, 84, 199);stroke:black;stroke-width:1.0\"/><circle cx=\"469\" cy=\"226\" r=\"3.0\" style=\"fill:rgb(193, 212, 244);stroke:black;stroke-width:1.0\"/><text font-size=\"10\" x=\"451\" y=\"142\">0</text><text font-size=\"10\" x=\"442\" y=\"166\">1</text><text font-size=\"10\" x=\"457\" y=\"143\">2</text><text font-size=\"10\" x=\"490\" y=\"202\">6</text><text font-size=\"10\" x=\"430\" y=\"46\">7</text><text font-size=\"10\" x=\"419\" y=\"202\">8</text><text font-size=\"10\" x=\"447\" y=\"159\">12</text><text font-size=\"10\" x=\"424\" y=\"248\">13</text><text font-size=\"10\" x=\"438\" y=\"163\">14</text><text font-size=\"10\" x=\"420\" y=\"65\">15</text><text font-size=\"10\" x=\"394\" y=\"76\">17</text><text font-size=\"10\" x=\"443\" y=\"133\">19</text><text font-size=\"10\" x=\"351\" y=\"116\">21</text><text font-size=\"10\" x=\"459\" y=\"153\">22</text><text font-size=\"10\" x=\"425\" y=\"148\">23</text><text font-size=\"10\" x=\"568\" y=\"134\">24</text><text font-size=\"10\" x=\"480\" y=\"142\">25</text><text font-size=\"10\" x=\"26\" y=\"296\">27</text><text font-size=\"10\" x=\"552\" y=\"116\">28</text><text font-size=\"10\" x=\"47\" y=\"310\">29</text><text font-size=\"10\" x=\"333\" y=\"156\">30</text><text font-size=\"10\" x=\"295\" y=\"207\">31</text><text font-size=\"10\" x=\"330\" y=\"113\">32</text><text font-size=\"10\" x=\"272\" y=\"80\">33</text><text font-size=\"10\" x=\"629\" y=\"169\">34</text><text font-size=\"10\" x=\"716\" y=\"501\">37</text><text font-size=\"10\" x=\"550\" y=\"91\">38</text><text font-size=\"10\" x=\"575\" y=\"23\">39</text><text font-size=\"10\" x=\"521\" y=\"143\">40</text><text font-size=\"10\" x=\"447\" y=\"67\">42</text><text font-size=\"10\" x=\"455\" y=\"174\">43</text><text font-size=\"10\" x=\"504\" y=\"251\">45</text><text font-size=\"10\" x=\"465\" y=\"157\">46</text><text font-size=\"10\" x=\"407\" y=\"213\">47</text><text font-size=\"10\" x=\"362\" y=\"279\">48</text><text font-size=\"10\" x=\"455\" y=\"43\">49</text><text font-size=\"10\" x=\"455\" y=\"129\">51</text><text font-size=\"10\" x=\"455\" y=\"166\">53</text><text font-size=\"10\" x=\"467\" y=\"137\">54</text><text font-size=\"10\" x=\"519\" y=\"106\">55</text><text font-size=\"10\" x=\"469\" y=\"141\">56</text><text font-size=\"10\" x=\"510\" y=\"93\">57</text><text font-size=\"10\" x=\"726\" y=\"523\">61</text><text font-size=\"10\" x=\"399\" y=\"58\">62</text><text font-size=\"10\" x=\"440\" y=\"138\">63</text><text font-size=\"10\" x=\"445\" y=\"145\">66</text><text font-size=\"10\" x=\"432\" y=\"269\">68</text><text font-size=\"10\" x=\"414\" y=\"337\">69</text><text font-size=\"10\" x=\"448\" y=\"179\">71</text><text font-size=\"10\" x=\"482\" y=\"48\">72</text><text font-size=\"10\" x=\"444\" y=\"257\">74</text><text font-size=\"10\" x=\"523\" y=\"170\">75</text><text font-size=\"10\" x=\"463\" y=\"169\">76</text><text font-size=\"10\" x=\"494\" y=\"223\">77</text><text font-size=\"10\" x=\"518\" y=\"180\">78</text><text font-size=\"10\" x=\"475\" y=\"161\">79</text><text font-size=\"10\" x=\"537\" y=\"190\">80</text><text font-size=\"10\" x=\"473\" y=\"155\">81</text><text font-size=\"10\" x=\"538\" y=\"160\">82</text><text font-size=\"10\" x=\"617\" y=\"138\">83</text><text font-size=\"10\" x=\"528\" y=\"199\">84</text><text font-size=\"10\" x=\"480\" y=\"159\">85</text><text font-size=\"10\" x=\"551\" y=\"164\">86</text><text font-size=\"10\" x=\"471\" y=\"168\">87</text><text font-size=\"10\" x=\"447\" y=\"153\">89</text><text font-size=\"10\" x=\"448\" y=\"172\">91</text><text font-size=\"10\" x=\"460\" y=\"133\">92</text><text font-size=\"10\" x=\"439\" y=\"237\">93</text><text font-size=\"10\" x=\"440\" y=\"155\">94</text><text font-size=\"10\" x=\"481\" y=\"76\">100</text><text font-size=\"10\" x=\"440\" y=\"149\">101</text><text font-size=\"10\" x=\"462\" y=\"148\">105</text><text font-size=\"10\" x=\"453\" y=\"149\">109</text><text font-size=\"10\" x=\"454\" y=\"158\">111</text><text font-size=\"10\" x=\"344\" y=\"142\">113</text><text font-size=\"10\" x=\"350\" y=\"161\">115</text><text font-size=\"10\" x=\"352\" y=\"131\">117</text><text font-size=\"10\" x=\"430\" y=\"143\">118</text><text font-size=\"10\" x=\"449\" y=\"130\">120</text><text font-size=\"10\" x=\"504\" y=\"193\">122</text><text font-size=\"10\" x=\"609\" y=\"115\">124</text><text font-size=\"10\" x=\"556\" y=\"240\">126</text><text font-size=\"10\" x=\"475\" y=\"229\">130</text></svg>"
      ],
      "text/plain": [
       "<IPython.core.display.SVG object>"
      ]
     },
     "execution_count": 13,
     "metadata": {},
     "output_type": "execute_result"
    }
   ],
   "source": [
    "draw_graph(G_sent, show_names=True, node_size=3)"
   ]
  },
  {
   "cell_type": "code",
   "execution_count": 14,
   "id": "4cc4b66e",
   "metadata": {},
   "outputs": [
    {
     "data": {
      "image/png": "[encoded data removed]",
      "text/plain": [
       "<Figure size 432x288 with 1 Axes>"
      ]
     },
     "metadata": {
      "needs_background": "light"
     },
     "output_type": "display_data"
    }
   ],
   "source": [
    "entity_df['sentence'].value_counts()[0:20].plot.barh().invert_yaxis()"
   ]
  },
  {
   "cell_type": "code",
   "execution_count": 15,
   "id": "818bc339",
   "metadata": {},
   "outputs": [],
   "source": [
    "def fetch_entities_by_sentence(entity_df, sentence):\n",
    "\n",
    "    return sorted(entity_df[entity_df['sentence']==sentence]['entity'].values)"
   ]
  },
  {
   "cell_type": "code",
   "execution_count": 39,
   "id": "da8caccf",
   "metadata": {},
   "outputs": [
    {
     "data": {
      "text/plain": [
       "['Canterbury', 'Mercia', 'Morcar', 'Northumbria', 'Stigand']"
      ]
     },
     "execution_count": 39,
     "metadata": {},
     "output_type": "execute_result"
    }
   ],
   "source": [
    "fetch_entities_by_sentence(entity_df, 29)"
   ]
  },
  {
   "cell_type": "code",
   "execution_count": 40,
   "id": "849d67c6",
   "metadata": {},
   "outputs": [
    {
     "data": {
      "text/plain": [
       "['Dormouse', 'Elsie', 'Lacie', 'Tillie']"
      ]
     },
     "execution_count": 40,
     "metadata": {},
     "output_type": "execute_result"
    }
   ],
   "source": [
    "fetch_entities_by_sentence(entity_df, 84)"
   ]
  },
  {
   "cell_type": "code",
   "execution_count": 41,
   "id": "92e6b510",
   "metadata": {},
   "outputs": [
    {
     "data": {
      "text/plain": [
       "['Alice', 'Beautiful', 'Gryphon', 'Soup']"
      ]
     },
     "execution_count": 41,
     "metadata": {},
     "output_type": "execute_result"
    }
   ],
   "source": [
    "fetch_entities_by_sentence(entity_df, 118)"
   ]
  },
  {
   "cell_type": "code",
   "execution_count": 42,
   "id": "2fc12fbf",
   "metadata": {},
   "outputs": [
    {
     "data": {
      "text/plain": [
       "['Duchess', 'Hare', 'Lizard']"
      ]
     },
     "execution_count": 42,
     "metadata": {},
     "output_type": "execute_result"
    }
   ],
   "source": [
    "fetch_entities_by_sentence(entity_df, 130)"
   ]
  },
  {
   "cell_type": "markdown",
   "id": "695acca3",
   "metadata": {},
   "source": [
    "At the very least, I can see what sentences have the most activity, and sentences can be investigated, this way. Another fusion of NLP and Networks."
   ]
  },
  {
   "cell_type": "markdown",
   "id": "7badcf7f",
   "metadata": {},
   "source": [
    "# Egocentric Network Analysis\n",
    "\n",
    "As the above visualization shows, this is a complex network. For knowledge discovery, we should use Egocentric Network Analysis to \"zoom in\" on nodes of interest. Any node can be looked at, but I am going to programmatically do this, in this notebook, showing only the top twenty nodes, according to page rank."
   ]
  },
  {
   "cell_type": "code",
   "execution_count": 20,
   "id": "db54136e",
   "metadata": {},
   "outputs": [
    {
     "data": {
      "text/html": [
       "<div>\n",
       "<style scoped>\n",
       "    .dataframe tbody tr th:only-of-type {\n",
       "        vertical-align: middle;\n",
       "    }\n",
       "\n",
       "    .dataframe tbody tr th {\n",
       "        vertical-align: top;\n",
       "    }\n",
       "\n",
       "    .dataframe thead th {\n",
       "        text-align: right;\n",
       "    }\n",
       "</style>\n",
       "<table border=\"1\" class=\"dataframe\">\n",
       "  <thead>\n",
       "    <tr style=\"text-align: right;\">\n",
       "      <th></th>\n",
       "      <th>page_rank</th>\n",
       "    </tr>\n",
       "  </thead>\n",
       "  <tbody>\n",
       "    <tr>\n",
       "      <th>Alice</th>\n",
       "      <td>0.157058</td>\n",
       "    </tr>\n",
       "    <tr>\n",
       "      <th>Dormouse</th>\n",
       "      <td>0.038245</td>\n",
       "    </tr>\n",
       "    <tr>\n",
       "      <th>Duchess</th>\n",
       "      <td>0.034317</td>\n",
       "    </tr>\n",
       "    <tr>\n",
       "      <th>Lory</th>\n",
       "      <td>0.031326</td>\n",
       "    </tr>\n",
       "    <tr>\n",
       "      <th>Rabbit</th>\n",
       "      <td>0.029086</td>\n",
       "    </tr>\n",
       "    <tr>\n",
       "      <th>Hatter</th>\n",
       "      <td>0.027345</td>\n",
       "    </tr>\n",
       "    <tr>\n",
       "      <th>Hare</th>\n",
       "      <td>0.026592</td>\n",
       "    </tr>\n",
       "    <tr>\n",
       "      <th>Northumbria</th>\n",
       "      <td>0.024562</td>\n",
       "    </tr>\n",
       "    <tr>\n",
       "      <th>Morcar</th>\n",
       "      <td>0.024562</td>\n",
       "    </tr>\n",
       "    <tr>\n",
       "      <th>Mouse</th>\n",
       "      <td>0.022743</td>\n",
       "    </tr>\n",
       "  </tbody>\n",
       "</table>\n",
       "</div>"
      ],
      "text/plain": [
       "             page_rank\n",
       "Alice         0.157058\n",
       "Dormouse      0.038245\n",
       "Duchess       0.034317\n",
       "Lory          0.031326\n",
       "Rabbit        0.029086\n",
       "Hatter        0.027345\n",
       "Hare          0.026592\n",
       "Northumbria   0.024562\n",
       "Morcar        0.024562\n",
       "Mouse         0.022743"
      ]
     },
     "execution_count": 20,
     "metadata": {},
     "output_type": "execute_result"
    }
   ],
   "source": [
    "page_rank = nx.pagerank(G)\n",
    "\n",
    "pr_df = pd.DataFrame().from_dict(page_rank, orient='index')\n",
    "pr_df.columns = ['page_rank']\n",
    "pr_df.sort_values('page_rank', ascending=False, inplace=True)\n",
    "pr_df.head(10)"
   ]
  },
  {
   "cell_type": "code",
   "execution_count": 21,
   "id": "97a63ab7",
   "metadata": {},
   "outputs": [
    {
     "data": {
      "image/png": "[encoded data removed]",
      "text/plain": [
       "<Figure size 864x576 with 1 Axes>"
      ]
     },
     "metadata": {
      "needs_background": "light"
     },
     "output_type": "display_data"
    }
   ],
   "source": [
    "title = 'Important Characters by PageRank'\n",
    "\n",
    "pr_df.head(20).plot.barh(figsize=(12,8), title=title).invert_yaxis()"
   ]
  },
  {
   "cell_type": "markdown",
   "id": "0eaa14c1",
   "metadata": {},
   "source": [
    "# Egocentric Network Analysis\n",
    "Next, let's look at the Ego Graphs for each of the top ten characters found by PageRank. Before visualizing and inspecting the Ego Graphs, let's create a Python list so that we can more easily look through them without explicitely typing their names."
   ]
  },
  {
   "cell_type": "code",
   "execution_count": 22,
   "id": "2f595d51",
   "metadata": {},
   "outputs": [],
   "source": [
    "top_nodes = pr_df.head(20).index.values"
   ]
  },
  {
   "cell_type": "code",
   "execution_count": 23,
   "id": "83a68015",
   "metadata": {},
   "outputs": [
    {
     "data": {
      "text/plain": [
       "'Alice'"
      ]
     },
     "execution_count": 23,
     "metadata": {},
     "output_type": "execute_result"
    }
   ],
   "source": [
    "top_nodes[0]"
   ]
  },
  {
   "cell_type": "markdown",
   "id": "096656fb",
   "metadata": {},
   "source": [
    "Now we are all set to start looking through them, in order of importance."
   ]
  },
  {
   "cell_type": "markdown",
   "id": "6c5fcc65",
   "metadata": {},
   "source": [
    "## Top Node Ego Networks\n",
    "Unlike last time, I am not going to drop the center node or write about findings. This is purely discovery. Remember two things:\n",
    "- The center node is known as the 'ego' node. It is the node being looked up.\n",
    "- The other nodes are known as 'alter' nodes. They are connected to the ego node, and sometimes with each other.\n",
    "\n",
    "Pay close attention to the alter nodes that link to other alter nodes. These are interesting relationships, and you can see subcommunities in the ego network. Think about what you are seeing. What does this tell you?"
   ]
  },
  {
   "cell_type": "code",
   "execution_count": 24,
   "id": "502a0105",
   "metadata": {},
   "outputs": [
    {
     "data": {
      "image/svg+xml": [
       "<svg height=\"540\" width=\"845.0\" xmlns=\"http://www.w3.org/2000/svg\"><path d=\"M 377 138 276 221\" stroke=\"gray\" stroke-width=\"0.3\"/><path d=\"M 377 138 377 270\" stroke=\"gray\" stroke-width=\"0.3\"/><path d=\"M 117 142 377 270\" stroke=\"gray\" stroke-width=\"0.3\"/><path d=\"M 117 142 232 86\" stroke=\"gray\" stroke-width=\"0.3\"/><path d=\"M 720 219 377 270\" stroke=\"gray\" stroke-width=\"0.3\"/><path d=\"M 499 68 377 270\" stroke=\"gray\" stroke-width=\"0.3\"/><path d=\"M 499 68 589 133\" stroke=\"gray\" stroke-width=\"0.3\"/><path d=\"M 552 418 603 346\" stroke=\"gray\" stroke-width=\"0.3\"/><path d=\"M 552 418 377 270\" stroke=\"gray\" stroke-width=\"0.3\"/><path d=\"M 552 418 576 480\" stroke=\"gray\" stroke-width=\"0.3\"/><path d=\"M 143 409 377 270\" stroke=\"gray\" stroke-width=\"0.3\"/><path d=\"M 143 409 56 382\" stroke=\"gray\" stroke-width=\"0.3\"/><path d=\"M 143 409 191 323\" stroke=\"gray\" stroke-width=\"0.3\"/><path d=\"M 603 346 552 418\" stroke=\"gray\" stroke-width=\"0.3\"/><path d=\"M 603 346 377 270\" stroke=\"gray\" stroke-width=\"0.3\"/><path d=\"M 603 346 625 267\" stroke=\"gray\" stroke-width=\"0.3\"/><path d=\"M 276 221 377 138\" stroke=\"gray\" stroke-width=\"0.3\"/><path d=\"M 276 221 377 270\" stroke=\"gray\" stroke-width=\"0.3\"/><path d=\"M 276 221 191 323\" stroke=\"gray\" stroke-width=\"0.3\"/><path d=\"M 377 270 377 138\" stroke=\"gray\" stroke-width=\"0.3\"/><path d=\"M 377 270 117 142\" stroke=\"gray\" stroke-width=\"0.3\"/><path d=\"M 377 270 720 219\" stroke=\"gray\" stroke-width=\"0.3\"/><path d=\"M 377 270 499 68\" stroke=\"gray\" stroke-width=\"0.3\"/><path d=\"M 377 270 552 418\" stroke=\"gray\" stroke-width=\"0.3\"/><path d=\"M 377 270 143 409\" stroke=\"gray\" stroke-width=\"0.3\"/><path d=\"M 377 270 603 346\" stroke=\"gray\" stroke-width=\"0.3\"/><path d=\"M 377 270 276 221\" stroke=\"gray\" stroke-width=\"0.3\"/><path d=\"M 377 270 361 20\" stroke=\"gray\" stroke-width=\"0.3\"/><path d=\"M 377 270 56 382\" stroke=\"gray\" stroke-width=\"0.3\"/><path d=\"M 377 270 589 133\" stroke=\"gray\" stroke-width=\"0.3\"/><path d=\"M 377 270 714 368\" stroke=\"gray\" stroke-width=\"0.3\"/><path d=\"M 377 270 625 267\" stroke=\"gray\" stroke-width=\"0.3\"/><path d=\"M 377 270 135 72\" stroke=\"gray\" stroke-width=\"0.3\"/><path d=\"M 377 270 117 226\" stroke=\"gray\" stroke-width=\"0.3\"/><path d=\"M 377 270 603 58\" stroke=\"gray\" stroke-width=\"0.3\"/><path d=\"M 377 270 20 270\" stroke=\"gray\" stroke-width=\"0.3\"/><path d=\"M 377 270 418 520\" stroke=\"gray\" stroke-width=\"0.3\"/><path d=\"M 377 270 191 323\" stroke=\"gray\" stroke-width=\"0.3\"/><path d=\"M 377 270 576 480\" stroke=\"gray\" stroke-width=\"0.3\"/><path d=\"M 377 270 358 463\" stroke=\"gray\" stroke-width=\"0.3\"/><path d=\"M 377 270 246 452\" stroke=\"gray\" stroke-width=\"0.3\"/><path d=\"M 377 270 232 86\" stroke=\"gray\" stroke-width=\"0.3\"/><path d=\"M 361 20 377 270\" stroke=\"gray\" stroke-width=\"0.3\"/><path d=\"M 56 382 143 409\" stroke=\"gray\" stroke-width=\"0.3\"/><path d=\"M 56 382 377 270\" stroke=\"gray\" stroke-width=\"0.3\"/><path d=\"M 589 133 499 68\" stroke=\"gray\" stroke-width=\"0.3\"/><path d=\"M 589 133 377 270\" stroke=\"gray\" stroke-width=\"0.3\"/><path d=\"M 714 368 377 270\" stroke=\"gray\" stroke-width=\"0.3\"/><path d=\"M 625 267 603 346\" stroke=\"gray\" stroke-width=\"0.3\"/><path d=\"M 625 267 377 270\" stroke=\"gray\" stroke-width=\"0.3\"/><path d=\"M 135 72 377 270\" stroke=\"gray\" stroke-width=\"0.3\"/><path d=\"M 117 226 377 270\" stroke=\"gray\" stroke-width=\"0.3\"/><path d=\"M 603 58 377 270\" stroke=\"gray\" stroke-width=\"0.3\"/><path d=\"M 20 270 377 270\" stroke=\"gray\" stroke-width=\"0.3\"/><path d=\"M 418 520 377 270\" stroke=\"gray\" stroke-width=\"0.3\"/><path d=\"M 191 323 143 409\" stroke=\"gray\" stroke-width=\"0.3\"/><path d=\"M 191 323 276 221\" stroke=\"gray\" stroke-width=\"0.3\"/><path d=\"M 191 323 377 270\" stroke=\"gray\" stroke-width=\"0.3\"/><path d=\"M 576 480 552 418\" stroke=\"gray\" stroke-width=\"0.3\"/><path d=\"M 576 480 377 270\" stroke=\"gray\" stroke-width=\"0.3\"/><path d=\"M 358 463 377 270\" stroke=\"gray\" stroke-width=\"0.3\"/><path d=\"M 246 452 377 270\" stroke=\"gray\" stroke-width=\"0.3\"/><path d=\"M 232 86 117 142\" stroke=\"gray\" stroke-width=\"0.3\"/><path d=\"M 232 86 377 270\" stroke=\"gray\" stroke-width=\"0.3\"/><circle cx=\"377\" cy=\"138\" r=\"3.0\" style=\"fill:rgb(66, 88, 202);stroke:black;stroke-width:1.0\"/><circle cx=\"117\" cy=\"142\" r=\"3.0\" style=\"fill:rgb(70, 93, 207);stroke:black;stroke-width:1.0\"/><circle cx=\"720\" cy=\"219\" r=\"3.0\" style=\"fill:rgb(58, 76, 192);stroke:black;stroke-width:1.0\"/><circle cx=\"499\" cy=\"68\" r=\"3.0\" style=\"fill:rgb(70, 93, 207);stroke:black;stroke-width:1.0\"/><circle cx=\"552\" cy=\"418\" r=\"3.0\" style=\"fill:rgb(82, 110, 220);stroke:black;stroke-width:1.0\"/><circle cx=\"143\" cy=\"409\" r=\"3.0\" style=\"fill:rgb(82, 110, 220);stroke:black;stroke-width:1.0\"/><circle cx=\"603\" cy=\"346\" r=\"3.0\" style=\"fill:rgb(82, 110, 220);stroke:black;stroke-width:1.0\"/><circle cx=\"276\" cy=\"221\" r=\"3.0\" style=\"fill:rgb(82, 110, 220);stroke:black;stroke-width:1.0\"/><circle cx=\"377\" cy=\"270\" r=\"3.0\" style=\"fill:rgb(179, 3, 38);stroke:black;stroke-width:1.0\"/><circle cx=\"361\" cy=\"20\" r=\"3.0\" style=\"fill:rgb(58, 76, 192);stroke:black;stroke-width:1.0\"/><circle cx=\"56\" cy=\"382\" r=\"3.0\" style=\"fill:rgb(66, 88, 202);stroke:black;stroke-width:1.0\"/><circle cx=\"589\" cy=\"133\" r=\"3.0\" style=\"fill:rgb(70, 93, 207);stroke:black;stroke-width:1.0\"/><circle cx=\"714\" cy=\"368\" r=\"3.0\" style=\"fill:rgb(58, 76, 192);stroke:black;stroke-width:1.0\"/><circle cx=\"625\" cy=\"267\" r=\"3.0\" style=\"fill:rgb(66, 88, 202);stroke:black;stroke-width:1.0\"/><circle cx=\"135\" cy=\"72\" r=\"3.0\" style=\"fill:rgb(58, 76, 192);stroke:black;stroke-width:1.0\"/><circle cx=\"117\" cy=\"226\" r=\"3.0\" style=\"fill:rgb(58, 76, 192);stroke:black;stroke-width:1.0\"/><circle cx=\"603\" cy=\"58\" r=\"3.0\" style=\"fill:rgb(58, 76, 192);stroke:black;stroke-width:1.0\"/><circle cx=\"20\" cy=\"270\" r=\"3.0\" style=\"fill:rgb(58, 76, 192);stroke:black;stroke-width:1.0\"/><circle cx=\"418\" cy=\"520\" r=\"3.0\" style=\"fill:rgb(58, 76, 192);stroke:black;stroke-width:1.0\"/><circle cx=\"191\" cy=\"323\" r=\"3.0\" style=\"fill:rgb(80, 107, 218);stroke:black;stroke-width:1.0\"/><circle cx=\"576\" cy=\"480\" r=\"3.0\" style=\"fill:rgb(66, 88, 202);stroke:black;stroke-width:1.0\"/><circle cx=\"358\" cy=\"463\" r=\"3.0\" style=\"fill:rgb(58, 76, 192);stroke:black;stroke-width:1.0\"/><circle cx=\"246\" cy=\"452\" r=\"3.0\" style=\"fill:rgb(58, 76, 192);stroke:black;stroke-width:1.0\"/><circle cx=\"232\" cy=\"86\" r=\"3.0\" style=\"fill:rgb(70, 93, 207);stroke:black;stroke-width:1.0\"/><text font-size=\"10\" x=\"383\" y=\"141\">Cat</text><text font-size=\"10\" x=\"123\" y=\"145\">Kings</text><text font-size=\"10\" x=\"726\" y=\"222\">Bill</text><text font-size=\"10\" x=\"505\" y=\"71\">Soup</text><text font-size=\"10\" x=\"558\" y=\"421\">Rabbit</text><text font-size=\"10\" x=\"149\" y=\"412\">Hatter</text><text font-size=\"10\" x=\"609\" y=\"349\">Dinah</text><text font-size=\"10\" x=\"282\" y=\"224\">Duchess</text><text font-size=\"10\" x=\"383\" y=\"273\">Alice</text><text font-size=\"10\" x=\"367\" y=\"23\">Lobster Quadrille</text><text font-size=\"10\" x=\"62\" y=\"385\">Dormouse</text><text font-size=\"10\" x=\"595\" y=\"136\">Gryphon</text><text font-size=\"10\" x=\"720\" y=\"371\">Fish-Footman</text><text font-size=\"10\" x=\"631\" y=\"270\">Lory</text><text font-size=\"10\" x=\"141\" y=\"75\">Fender</text><text font-size=\"10\" x=\"123\" y=\"229\">Caterpillar</text><text font-size=\"10\" x=\"609\" y=\"61\">Cheshire Cat</text><text font-size=\"10\" x=\"26\" y=\"273\">William the Conqueror</text><text font-size=\"10\" x=\"424\" y=\"523\">Mouse</text><text font-size=\"10\" x=\"197\" y=\"326\">Hare</text><text font-size=\"10\" x=\"582\" y=\"483\">Mary Ann</text><text font-size=\"10\" x=\"364\" y=\"466\">Pigeon</text><text font-size=\"10\" x=\"252\" y=\"455\">Mabel</text><text font-size=\"10\" x=\"238\" y=\"89\">Queens</text></svg>"
      ],
      "text/plain": [
       "<IPython.core.display.SVG object>"
      ]
     },
     "execution_count": 24,
     "metadata": {},
     "output_type": "execute_result"
    }
   ],
   "source": [
    "ego = top_nodes[0]\n",
    "\n",
    "G_ego = nx.ego_graph(G, ego)\n",
    "\n",
    "draw_graph(G_ego, show_names=True, node_size=3, edge_width=0.3)"
   ]
  },
  {
   "cell_type": "code",
   "execution_count": 25,
   "id": "be5ae30b",
   "metadata": {},
   "outputs": [
    {
     "data": {
      "image/svg+xml": [
       "<svg height=\"540\" width=\"845.0\" xmlns=\"http://www.w3.org/2000/svg\"><path d=\"M 285 438 283 421\" stroke=\"gray\" stroke-width=\"0.3\"/><path d=\"M 450 317 457 330\" stroke=\"gray\" stroke-width=\"0.3\"/><path d=\"M 62 358 78 356\" stroke=\"gray\" stroke-width=\"0.3\"/><path d=\"M 520 170 528 153\" stroke=\"gray\" stroke-width=\"0.3\"/><path d=\"M 520 170 512 186\" stroke=\"gray\" stroke-width=\"0.3\"/><path d=\"M 278 380 276 363\" stroke=\"gray\" stroke-width=\"0.3\"/><path d=\"M 278 380 281 401\" stroke=\"gray\" stroke-width=\"0.3\"/><path d=\"M 528 153 520 170\" stroke=\"gray\" stroke-width=\"0.3\"/><path d=\"M 528 153 536 137\" stroke=\"gray\" stroke-width=\"0.3\"/><path d=\"M 283 421 285 438\" stroke=\"gray\" stroke-width=\"0.3\"/><path d=\"M 283 421 281 401\" stroke=\"gray\" stroke-width=\"0.3\"/><path d=\"M 276 363 278 380\" stroke=\"gray\" stroke-width=\"0.3\"/><path d=\"M 78 356 62 358\" stroke=\"gray\" stroke-width=\"0.3\"/><path d=\"M 536 137 528 153\" stroke=\"gray\" stroke-width=\"0.3\"/><path d=\"M 281 401 278 380\" stroke=\"gray\" stroke-width=\"0.3\"/><path d=\"M 281 401 283 421\" stroke=\"gray\" stroke-width=\"0.3\"/><path d=\"M 512 186 520 170\" stroke=\"gray\" stroke-width=\"0.3\"/><path d=\"M 457 330 450 317\" stroke=\"gray\" stroke-width=\"0.3\"/><circle cx=\"285\" cy=\"438\" r=\"3.0\" style=\"fill:rgb(58, 76, 192);stroke:black;stroke-width:1.0\"/><circle cx=\"450\" cy=\"317\" r=\"3.0\" style=\"fill:rgb(224, 218, 215);stroke:black;stroke-width:1.0\"/><circle cx=\"204\" cy=\"230\" r=\"3.0\" style=\"fill:rgb(224, 218, 215);stroke:black;stroke-width:1.0\"/><circle cx=\"62\" cy=\"358\" r=\"3.0\" style=\"fill:rgb(224, 218, 215);stroke:black;stroke-width:1.0\"/><circle cx=\"520\" cy=\"170\" r=\"3.0\" style=\"fill:rgb(179, 3, 38);stroke:black;stroke-width:1.0\"/><circle cx=\"278\" cy=\"380\" r=\"3.0\" style=\"fill:rgb(227, 108, 84);stroke:black;stroke-width:1.0\"/><circle cx=\"528\" cy=\"153\" r=\"3.0\" style=\"fill:rgb(179, 3, 38);stroke:black;stroke-width:1.0\"/><circle cx=\"283\" cy=\"421\" r=\"3.0\" style=\"fill:rgb(227, 108, 84);stroke:black;stroke-width:1.0\"/><circle cx=\"567\" cy=\"471\" r=\"3.0\" style=\"fill:rgb(224, 218, 215);stroke:black;stroke-width:1.0\"/><circle cx=\"276\" cy=\"363\" r=\"3.0\" style=\"fill:rgb(58, 76, 192);stroke:black;stroke-width:1.0\"/><circle cx=\"78\" cy=\"356\" r=\"3.0\" style=\"fill:rgb(224, 218, 215);stroke:black;stroke-width:1.0\"/><circle cx=\"20\" cy=\"159\" r=\"3.0\" style=\"fill:rgb(224, 218, 215);stroke:black;stroke-width:1.0\"/><circle cx=\"536\" cy=\"137\" r=\"3.0\" style=\"fill:rgb(66, 88, 202);stroke:black;stroke-width:1.0\"/><circle cx=\"431\" cy=\"520\" r=\"3.0\" style=\"fill:rgb(224, 218, 215);stroke:black;stroke-width:1.0\"/><circle cx=\"720\" cy=\"307\" r=\"3.0\" style=\"fill:rgb(224, 218, 215);stroke:black;stroke-width:1.0\"/><circle cx=\"325\" cy=\"202\" r=\"3.0\" style=\"fill:rgb(224, 218, 215);stroke:black;stroke-width:1.0\"/><circle cx=\"198\" cy=\"101\" r=\"3.0\" style=\"fill:rgb(224, 218, 215);stroke:black;stroke-width:1.0\"/><circle cx=\"595\" cy=\"317\" r=\"3.0\" style=\"fill:rgb(224, 218, 215);stroke:black;stroke-width:1.0\"/><circle cx=\"281\" cy=\"401\" r=\"3.0\" style=\"fill:rgb(225, 104, 82);stroke:black;stroke-width:1.0\"/><circle cx=\"512\" cy=\"186\" r=\"3.0\" style=\"fill:rgb(66, 88, 202);stroke:black;stroke-width:1.0\"/><circle cx=\"369\" cy=\"20\" r=\"3.0\" style=\"fill:rgb(224, 218, 215);stroke:black;stroke-width:1.0\"/><circle cx=\"86\" cy=\"215\" r=\"3.0\" style=\"fill:rgb(224, 218, 215);stroke:black;stroke-width:1.0\"/><circle cx=\"457\" cy=\"330\" r=\"3.0\" style=\"fill:rgb(224, 218, 215);stroke:black;stroke-width:1.0\"/><text font-size=\"10\" x=\"291\" y=\"441\">Cat</text><text font-size=\"10\" x=\"456\" y=\"320\">Kings</text><text font-size=\"10\" x=\"210\" y=\"233\">Bill</text><text font-size=\"10\" x=\"68\" y=\"361\">Soup</text><text font-size=\"10\" x=\"526\" y=\"173\">Rabbit</text><text font-size=\"10\" x=\"284\" y=\"383\">Hatter</text><text font-size=\"10\" x=\"534\" y=\"156\">Dinah</text><text font-size=\"10\" x=\"289\" y=\"424\">Duchess</text><text font-size=\"10\" x=\"573\" y=\"474\">Lobster Quadrille</text><text font-size=\"10\" x=\"282\" y=\"366\">Dormouse</text><text font-size=\"10\" x=\"84\" y=\"359\">Gryphon</text><text font-size=\"10\" x=\"26\" y=\"162\">Fish-Footman</text><text font-size=\"10\" x=\"542\" y=\"140\">Lory</text><text font-size=\"10\" x=\"437\" y=\"523\">Fender</text><text font-size=\"10\" x=\"726\" y=\"310\">Caterpillar</text><text font-size=\"10\" x=\"331\" y=\"205\">Cheshire Cat</text><text font-size=\"10\" x=\"204\" y=\"104\">William the Conqueror</text><text font-size=\"10\" x=\"601\" y=\"320\">Mouse</text><text font-size=\"10\" x=\"287\" y=\"404\">Hare</text><text font-size=\"10\" x=\"518\" y=\"189\">Mary Ann</text><text font-size=\"10\" x=\"375\" y=\"23\">Pigeon</text><text font-size=\"10\" x=\"92\" y=\"218\">Mabel</text><text font-size=\"10\" x=\"463\" y=\"333\">Queens</text></svg>"
      ],
      "text/plain": [
       "<IPython.core.display.SVG object>"
      ]
     },
     "execution_count": 25,
     "metadata": {},
     "output_type": "execute_result"
    }
   ],
   "source": [
    "ego = top_nodes[0]\n",
    "\n",
    "G_ego = nx.ego_graph(G, ego, center=False)\n",
    "\n",
    "draw_graph(G_ego, show_names=True, node_size=3, edge_width=0.3)"
   ]
  },
  {
   "cell_type": "code",
   "execution_count": 26,
   "id": "d8367777",
   "metadata": {},
   "outputs": [
    {
     "data": {
      "image/svg+xml": [
       "<svg height=\"540\" width=\"780.0\" xmlns=\"http://www.w3.org/2000/svg\"><path d=\"M 337 288 233 520\" stroke=\"gray\" stroke-width=\"0.3\"/><path d=\"M 337 288 337 20\" stroke=\"gray\" stroke-width=\"0.3\"/><path d=\"M 337 288 489 99\" stroke=\"gray\" stroke-width=\"0.3\"/><path d=\"M 337 288 182 102\" stroke=\"gray\" stroke-width=\"0.3\"/><path d=\"M 337 288 720 402\" stroke=\"gray\" stroke-width=\"0.3\"/><path d=\"M 337 288 20 439\" stroke=\"gray\" stroke-width=\"0.3\"/><path d=\"M 233 520 337 288\" stroke=\"gray\" stroke-width=\"0.3\"/><path d=\"M 233 520 20 439\" stroke=\"gray\" stroke-width=\"0.3\"/><path d=\"M 337 20 337 288\" stroke=\"gray\" stroke-width=\"0.3\"/><path d=\"M 337 20 489 99\" stroke=\"gray\" stroke-width=\"0.3\"/><path d=\"M 337 20 182 102\" stroke=\"gray\" stroke-width=\"0.3\"/><path d=\"M 489 99 337 288\" stroke=\"gray\" stroke-width=\"0.3\"/><path d=\"M 489 99 337 20\" stroke=\"gray\" stroke-width=\"0.3\"/><path d=\"M 489 99 182 102\" stroke=\"gray\" stroke-width=\"0.3\"/><path d=\"M 182 102 337 288\" stroke=\"gray\" stroke-width=\"0.3\"/><path d=\"M 182 102 337 20\" stroke=\"gray\" stroke-width=\"0.3\"/><path d=\"M 182 102 489 99\" stroke=\"gray\" stroke-width=\"0.3\"/><path d=\"M 720 402 337 288\" stroke=\"gray\" stroke-width=\"0.3\"/><path d=\"M 20 439 337 288\" stroke=\"gray\" stroke-width=\"0.3\"/><path d=\"M 20 439 233 520\" stroke=\"gray\" stroke-width=\"0.3\"/><circle cx=\"337\" cy=\"288\" r=\"3.0\" style=\"fill:rgb(179, 3, 38);stroke:black;stroke-width:1.0\"/><circle cx=\"233\" cy=\"520\" r=\"3.0\" style=\"fill:rgb(123, 158, 248);stroke:black;stroke-width:1.0\"/><circle cx=\"337\" cy=\"20\" r=\"3.0\" style=\"fill:rgb(176, 203, 251);stroke:black;stroke-width:1.0\"/><circle cx=\"489\" cy=\"99\" r=\"3.0\" style=\"fill:rgb(176, 203, 251);stroke:black;stroke-width:1.0\"/><circle cx=\"182\" cy=\"102\" r=\"3.0\" style=\"fill:rgb(176, 203, 251);stroke:black;stroke-width:1.0\"/><circle cx=\"720\" cy=\"402\" r=\"3.0\" style=\"fill:rgb(58, 76, 192);stroke:black;stroke-width:1.0\"/><circle cx=\"20\" cy=\"439\" r=\"3.0\" style=\"fill:rgb(123, 158, 248);stroke:black;stroke-width:1.0\"/><text font-size=\"10\" x=\"343\" y=\"291\">Dormouse</text><text font-size=\"10\" x=\"239\" y=\"523\">Hatter</text><text font-size=\"10\" x=\"343\" y=\"23\">Elsie</text><text font-size=\"10\" x=\"495\" y=\"102\">Lacie</text><text font-size=\"10\" x=\"188\" y=\"105\">Tillie</text><text font-size=\"10\" x=\"726\" y=\"405\">Treacle</text><text font-size=\"10\" x=\"26\" y=\"442\">Alice</text></svg>"
      ],
      "text/plain": [
       "<IPython.core.display.SVG object>"
      ]
     },
     "execution_count": 26,
     "metadata": {},
     "output_type": "execute_result"
    }
   ],
   "source": [
    "ego = top_nodes[1]\n",
    "\n",
    "G_ego = nx.ego_graph(G, ego)\n",
    "\n",
    "draw_graph(G_ego, show_names=True, node_size=3, edge_width=0.3)"
   ]
  },
  {
   "cell_type": "code",
   "execution_count": 27,
   "id": "da93b90d",
   "metadata": {},
   "outputs": [
    {
     "data": {
      "image/svg+xml": [
       "<svg height=\"540\" width=\"780.0\" xmlns=\"http://www.w3.org/2000/svg\"><path d=\"M 720 520 423 311\" stroke=\"gray\" stroke-width=\"0.3\"/><path d=\"M 20 378 190 324\" stroke=\"gray\" stroke-width=\"0.3\"/><path d=\"M 20 378 423 311\" stroke=\"gray\" stroke-width=\"0.3\"/><path d=\"M 569 20 423 311\" stroke=\"gray\" stroke-width=\"0.3\"/><path d=\"M 569 20 320 77\" stroke=\"gray\" stroke-width=\"0.3\"/><path d=\"M 190 324 20 378\" stroke=\"gray\" stroke-width=\"0.3\"/><path d=\"M 190 324 423 311\" stroke=\"gray\" stroke-width=\"0.3\"/><path d=\"M 190 324 320 77\" stroke=\"gray\" stroke-width=\"0.3\"/><path d=\"M 423 311 720 520\" stroke=\"gray\" stroke-width=\"0.3\"/><path d=\"M 423 311 20 378\" stroke=\"gray\" stroke-width=\"0.3\"/><path d=\"M 423 311 569 20\" stroke=\"gray\" stroke-width=\"0.3\"/><path d=\"M 423 311 190 324\" stroke=\"gray\" stroke-width=\"0.3\"/><path d=\"M 423 311 320 77\" stroke=\"gray\" stroke-width=\"0.3\"/><path d=\"M 320 77 569 20\" stroke=\"gray\" stroke-width=\"0.3\"/><path d=\"M 320 77 190 324\" stroke=\"gray\" stroke-width=\"0.3\"/><path d=\"M 320 77 423 311\" stroke=\"gray\" stroke-width=\"0.3\"/><circle cx=\"720\" cy=\"520\" r=\"3.0\" style=\"fill:rgb(58, 76, 192);stroke:black;stroke-width:1.0\"/><circle cx=\"20\" cy=\"378\" r=\"3.0\" style=\"fill:rgb(130, 165, 251);stroke:black;stroke-width:1.0\"/><circle cx=\"569\" cy=\"20\" r=\"3.0\" style=\"fill:rgb(130, 165, 251);stroke:black;stroke-width:1.0\"/><circle cx=\"190\" cy=\"324\" r=\"3.0\" style=\"fill:rgb(210, 218, 231);stroke:black;stroke-width:1.0\"/><circle cx=\"423\" cy=\"311\" r=\"3.0\" style=\"fill:rgb(179, 3, 38);stroke:black;stroke-width:1.0\"/><circle cx=\"320\" cy=\"77\" r=\"3.0\" style=\"fill:rgb(210, 218, 231);stroke:black;stroke-width:1.0\"/><text font-size=\"10\" x=\"726\" y=\"523\">Cheshire</text><text font-size=\"10\" x=\"26\" y=\"381\">Lizard</text><text font-size=\"10\" x=\"575\" y=\"23\">Cat</text><text font-size=\"10\" x=\"196\" y=\"327\">Hare</text><text font-size=\"10\" x=\"429\" y=\"314\">Duchess</text><text font-size=\"10\" x=\"326\" y=\"80\">Alice</text></svg>"
      ],
      "text/plain": [
       "<IPython.core.display.SVG object>"
      ]
     },
     "execution_count": 27,
     "metadata": {},
     "output_type": "execute_result"
    }
   ],
   "source": [
    "ego = top_nodes[2]\n",
    "\n",
    "G_ego = nx.ego_graph(G, ego)\n",
    "\n",
    "draw_graph(G_ego, show_names=True, node_size=3, edge_width=0.3)"
   ]
  },
  {
   "cell_type": "code",
   "execution_count": 28,
   "id": "de9805bf",
   "metadata": {},
   "outputs": [
    {
     "data": {
      "image/svg+xml": [
       "<svg height=\"540\" width=\"770.0\" xmlns=\"http://www.w3.org/2000/svg\"><path d=\"M 20 152 345 251\" stroke=\"gray\" stroke-width=\"0.3\"/><path d=\"M 20 152 200 20\" stroke=\"gray\" stroke-width=\"0.3\"/><path d=\"M 339 520 345 251\" stroke=\"gray\" stroke-width=\"0.3\"/><path d=\"M 720 227 345 251\" stroke=\"gray\" stroke-width=\"0.3\"/><path d=\"M 345 251 20 152\" stroke=\"gray\" stroke-width=\"0.3\"/><path d=\"M 345 251 339 520\" stroke=\"gray\" stroke-width=\"0.3\"/><path d=\"M 345 251 720 227\" stroke=\"gray\" stroke-width=\"0.3\"/><path d=\"M 345 251 200 20\" stroke=\"gray\" stroke-width=\"0.3\"/><path d=\"M 200 20 20 152\" stroke=\"gray\" stroke-width=\"0.3\"/><path d=\"M 200 20 345 251\" stroke=\"gray\" stroke-width=\"0.3\"/><circle cx=\"20\" cy=\"152\" r=\"3.0\" style=\"fill:rgb(159, 190, 254);stroke:black;stroke-width:1.0\"/><circle cx=\"339\" cy=\"520\" r=\"3.0\" style=\"fill:rgb(58, 76, 192);stroke:black;stroke-width:1.0\"/><circle cx=\"720\" cy=\"227\" r=\"3.0\" style=\"fill:rgb(58, 76, 192);stroke:black;stroke-width:1.0\"/><circle cx=\"345\" cy=\"251\" r=\"3.0\" style=\"fill:rgb(179, 3, 38);stroke:black;stroke-width:1.0\"/><circle cx=\"200\" cy=\"20\" r=\"3.0\" style=\"fill:rgb(159, 190, 254);stroke:black;stroke-width:1.0\"/><text font-size=\"10\" x=\"26\" y=\"155\">Dinah</text><text font-size=\"10\" x=\"345\" y=\"523\">Eaglet</text><text font-size=\"10\" x=\"726\" y=\"230\">Crab</text><text font-size=\"10\" x=\"351\" y=\"254\">Lory</text><text font-size=\"10\" x=\"206\" y=\"23\">Alice</text></svg>"
      ],
      "text/plain": [
       "<IPython.core.display.SVG object>"
      ]
     },
     "execution_count": 28,
     "metadata": {},
     "output_type": "execute_result"
    }
   ],
   "source": [
    "ego = top_nodes[3]\n",
    "\n",
    "G_ego = nx.ego_graph(G, ego)\n",
    "\n",
    "draw_graph(G_ego, show_names=True, node_size=3, edge_width=0.3)"
   ]
  },
  {
   "cell_type": "code",
   "execution_count": 29,
   "id": "2ae509d0",
   "metadata": {},
   "outputs": [
    {
     "data": {
      "image/svg+xml": [
       "<svg height=\"540\" width=\"780.0\" xmlns=\"http://www.w3.org/2000/svg\"><path d=\"M 374 296 20 440\" stroke=\"gray\" stroke-width=\"0.3\"/><path d=\"M 374 296 395 20\" stroke=\"gray\" stroke-width=\"0.3\"/><path d=\"M 374 296 720 454\" stroke=\"gray\" stroke-width=\"0.3\"/><path d=\"M 374 296 361 520\" stroke=\"gray\" stroke-width=\"0.3\"/><path d=\"M 20 440 374 296\" stroke=\"gray\" stroke-width=\"0.3\"/><path d=\"M 20 440 361 520\" stroke=\"gray\" stroke-width=\"0.3\"/><path d=\"M 395 20 374 296\" stroke=\"gray\" stroke-width=\"0.3\"/><path d=\"M 720 454 374 296\" stroke=\"gray\" stroke-width=\"0.3\"/><path d=\"M 720 454 361 520\" stroke=\"gray\" stroke-width=\"0.3\"/><path d=\"M 361 520 374 296\" stroke=\"gray\" stroke-width=\"0.3\"/><path d=\"M 361 520 20 440\" stroke=\"gray\" stroke-width=\"0.3\"/><path d=\"M 361 520 720 454\" stroke=\"gray\" stroke-width=\"0.3\"/><circle cx=\"374\" cy=\"296\" r=\"3.0\" style=\"fill:rgb(179, 3, 38);stroke:black;stroke-width:1.0\"/><circle cx=\"20\" cy=\"440\" r=\"3.0\" style=\"fill:rgb(159, 190, 254);stroke:black;stroke-width:1.0\"/><circle cx=\"395\" cy=\"20\" r=\"3.0\" style=\"fill:rgb(58, 76, 192);stroke:black;stroke-width:1.0\"/><circle cx=\"720\" cy=\"454\" r=\"3.0\" style=\"fill:rgb(159, 190, 254);stroke:black;stroke-width:1.0\"/><circle cx=\"361\" cy=\"520\" r=\"3.0\" style=\"fill:rgb(244, 195, 171);stroke:black;stroke-width:1.0\"/><text font-size=\"10\" x=\"380\" y=\"299\">Rabbit</text><text font-size=\"10\" x=\"26\" y=\"443\">Dinah</text><text font-size=\"10\" x=\"401\" y=\"23\">Pat</text><text font-size=\"10\" x=\"726\" y=\"457\">Mary Ann</text><text font-size=\"10\" x=\"367\" y=\"523\">Alice</text></svg>"
      ],
      "text/plain": [
       "<IPython.core.display.SVG object>"
      ]
     },
     "execution_count": 29,
     "metadata": {},
     "output_type": "execute_result"
    }
   ],
   "source": [
    "ego = top_nodes[4]\n",
    "\n",
    "G_ego = nx.ego_graph(G, ego)\n",
    "\n",
    "draw_graph(G_ego, show_names=True, node_size=3, edge_width=0.3)"
   ]
  },
  {
   "cell_type": "markdown",
   "id": "5f2c1e22",
   "metadata": {},
   "source": [
    "# Community Detection\n",
    "\n",
    "We have one large connected component, and this will be great for use in Community Detection. The smaller connected components are communities of their own in this network, split off from the main piece of this network."
   ]
  },
  {
   "cell_type": "code",
   "execution_count": 30,
   "id": "d3ab1da8",
   "metadata": {},
   "outputs": [],
   "source": [
    "def draw_partition(G, partition): \n",
    "\n",
    "    import matplotlib.cm as cm \n",
    "    import matplotlib.pyplot as plt \n",
    "\n",
    "    # draw the graph \n",
    "    plt.figure(3,figsize=(12,12)) \n",
    "    pos = nx.spring_layout(G) \n",
    "\n",
    "    # color the nodes according to their partition \n",
    "    cmap = cm.get_cmap('jet', max(partition.values()) + 1) \n",
    "    nx.draw_networkx_nodes(G, pos, partition.keys(), node_size=40, cmap=cmap, node_color=list(partition.values())) \n",
    "    nx.draw_networkx_edges(G, pos, alpha=0.5, width=0.3) \n",
    "\n",
    "    return plt.show() "
   ]
  },
  {
   "cell_type": "code",
   "execution_count": 31,
   "id": "b1176e7f",
   "metadata": {},
   "outputs": [],
   "source": [
    "# identify communities; set resolution to 0.01 for smaller groups and 1 for larger groups, etc\n",
    "# play with the number to get communities to the size you want them, or leave it at the default\n",
    "\n",
    "import community as community_louvain\n",
    "\n",
    "partition = community_louvain.best_partition(G, resolution=10, random_state=1337) # 10 was good for this network"
   ]
  },
  {
   "cell_type": "code",
   "execution_count": 32,
   "id": "46ce1f51",
   "metadata": {},
   "outputs": [
    {
     "data": {
      "image/png": "[encoded data removed]",
      "text/plain": [
       "<Figure size 864x864 with 1 Axes>"
      ]
     },
     "metadata": {},
     "output_type": "display_data"
    }
   ],
   "source": [
    "draw_partition(G, partition)"
   ]
  },
  {
   "cell_type": "code",
   "execution_count": 33,
   "id": "b0a3811a",
   "metadata": {},
   "outputs": [
    {
     "data": {
      "text/plain": [
       "2    37\n",
       "5     6\n",
       "3     3\n",
       "1     2\n",
       "0     2\n",
       "4     1\n",
       "Name: community, dtype: int64"
      ]
     },
     "execution_count": 33,
     "metadata": {},
     "output_type": "execute_result"
    }
   ],
   "source": [
    "community_df = pd.DataFrame().from_dict(partition, orient='index')\n",
    "community_df.reset_index(inplace=True)\n",
    "community_df.columns = ['node', 'community']\n",
    "\n",
    "# remove junk; identify relevant communities\n",
    "\n",
    "community_df['community'].value_counts()[0:20]"
   ]
  },
  {
   "cell_type": "code",
   "execution_count": 34,
   "id": "fd6878d9",
   "metadata": {},
   "outputs": [
    {
     "data": {
      "text/plain": [
       "array([2, 5, 3, 1, 0, 4], dtype=int64)"
      ]
     },
     "execution_count": 34,
     "metadata": {},
     "output_type": "execute_result"
    }
   ],
   "source": [
    "comm_idx = community_df['community'].value_counts()[0:20].index.values\n",
    "comm_idx"
   ]
  },
  {
   "cell_type": "markdown",
   "id": "233c89fa",
   "metadata": {},
   "source": [
    "## Exploring Communities\n",
    "Below, I am showing the largest community in the network."
   ]
  },
  {
   "cell_type": "code",
   "execution_count": 35,
   "id": "89f59e75",
   "metadata": {},
   "outputs": [
    {
     "data": {
      "image/svg+xml": [
       "<svg height=\"540\" width=\"845.0\" xmlns=\"http://www.w3.org/2000/svg\"><path d=\"M 382 285 167 261\" stroke=\"gray\" stroke-width=\"0.5\"/><path d=\"M 382 285 238 328\" stroke=\"gray\" stroke-width=\"0.5\"/><path d=\"M 382 285 499 367\" stroke=\"gray\" stroke-width=\"0.5\"/><path d=\"M 382 285 241 175\" stroke=\"gray\" stroke-width=\"0.5\"/><path d=\"M 382 285 587 388\" stroke=\"gray\" stroke-width=\"0.5\"/><path d=\"M 382 285 242 427\" stroke=\"gray\" stroke-width=\"0.5\"/><path d=\"M 382 285 566 265\" stroke=\"gray\" stroke-width=\"0.5\"/><path d=\"M 382 285 216 388\" stroke=\"gray\" stroke-width=\"0.5\"/><path d=\"M 382 285 553 227\" stroke=\"gray\" stroke-width=\"0.5\"/><path d=\"M 382 285 218 285\" stroke=\"gray\" stroke-width=\"0.5\"/><path d=\"M 382 285 488 226\" stroke=\"gray\" stroke-width=\"0.5\"/><path d=\"M 382 285 369 361\" stroke=\"gray\" stroke-width=\"0.5\"/><path d=\"M 382 285 428 381\" stroke=\"gray\" stroke-width=\"0.5\"/><path d=\"M 382 285 181 315\" stroke=\"gray\" stroke-width=\"0.5\"/><path d=\"M 382 285 307 213\" stroke=\"gray\" stroke-width=\"0.5\"/><path d=\"M 382 285 461 180\" stroke=\"gray\" stroke-width=\"0.5\"/><path d=\"M 382 285 350 178\" stroke=\"gray\" stroke-width=\"0.5\"/><path d=\"M 382 285 323 120\" stroke=\"gray\" stroke-width=\"0.5\"/><path d=\"M 382 285 549 320\" stroke=\"gray\" stroke-width=\"0.5\"/><path d=\"M 382 285 496 330\" stroke=\"gray\" stroke-width=\"0.5\"/><path d=\"M 382 285 355 259\" stroke=\"gray\" stroke-width=\"0.5\"/><path d=\"M 382 285 600 299\" stroke=\"gray\" stroke-width=\"0.5\"/><path d=\"M 382 285 285 262\" stroke=\"gray\" stroke-width=\"0.5\"/><path d=\"M 167 261 382 285\" stroke=\"gray\" stroke-width=\"0.5\"/><path d=\"M 167 261 238 328\" stroke=\"gray\" stroke-width=\"0.5\"/><path d=\"M 167 261 218 285\" stroke=\"gray\" stroke-width=\"0.5\"/><path d=\"M 167 261 20 208\" stroke=\"gray\" stroke-width=\"0.5\"/><path d=\"M 238 328 382 285\" stroke=\"gray\" stroke-width=\"0.5\"/><path d=\"M 238 328 167 261\" stroke=\"gray\" stroke-width=\"0.5\"/><path d=\"M 238 328 216 388\" stroke=\"gray\" stroke-width=\"0.5\"/><path d=\"M 499 367 382 285\" stroke=\"gray\" stroke-width=\"0.5\"/><path d=\"M 241 175 382 285\" stroke=\"gray\" stroke-width=\"0.5\"/><path d=\"M 241 175 73 106\" stroke=\"gray\" stroke-width=\"0.5\"/><path d=\"M 241 175 307 213\" stroke=\"gray\" stroke-width=\"0.5\"/><path d=\"M 241 175 350 178\" stroke=\"gray\" stroke-width=\"0.5\"/><path d=\"M 241 175 262 113\" stroke=\"gray\" stroke-width=\"0.5\"/><path d=\"M 720 459 587 388\" stroke=\"gray\" stroke-width=\"0.5\"/><path d=\"M 587 388 382 285\" stroke=\"gray\" stroke-width=\"0.5\"/><path d=\"M 587 388 720 459\" stroke=\"gray\" stroke-width=\"0.5\"/><path d=\"M 242 427 382 285\" stroke=\"gray\" stroke-width=\"0.5\"/><path d=\"M 242 427 157 520\" stroke=\"gray\" stroke-width=\"0.5\"/><path d=\"M 242 427 135 494\" stroke=\"gray\" stroke-width=\"0.5\"/><path d=\"M 566 265 382 285\" stroke=\"gray\" stroke-width=\"0.5\"/><path d=\"M 52 428 216 388\" stroke=\"gray\" stroke-width=\"0.5\"/><path d=\"M 216 388 382 285\" stroke=\"gray\" stroke-width=\"0.5\"/><path d=\"M 216 388 238 328\" stroke=\"gray\" stroke-width=\"0.5\"/><path d=\"M 216 388 52 428\" stroke=\"gray\" stroke-width=\"0.5\"/><path d=\"M 216 388 230 478\" stroke=\"gray\" stroke-width=\"0.5\"/><path d=\"M 157 520 242 427\" stroke=\"gray\" stroke-width=\"0.5\"/><path d=\"M 157 520 135 494\" stroke=\"gray\" stroke-width=\"0.5\"/><path d=\"M 135 494 242 427\" stroke=\"gray\" stroke-width=\"0.5\"/><path d=\"M 135 494 157 520\" stroke=\"gray\" stroke-width=\"0.5\"/><path d=\"M 230 478 216 388\" stroke=\"gray\" stroke-width=\"0.5\"/><path d=\"M 553 227 382 285\" stroke=\"gray\" stroke-width=\"0.5\"/><path d=\"M 218 285 382 285\" stroke=\"gray\" stroke-width=\"0.5\"/><path d=\"M 218 285 167 261\" stroke=\"gray\" stroke-width=\"0.5\"/><path d=\"M 20 208 167 261\" stroke=\"gray\" stroke-width=\"0.5\"/><path d=\"M 488 226 382 285\" stroke=\"gray\" stroke-width=\"0.5\"/><path d=\"M 369 361 382 285\" stroke=\"gray\" stroke-width=\"0.5\"/><path d=\"M 428 381 382 285\" stroke=\"gray\" stroke-width=\"0.5\"/><path d=\"M 73 106 241 175\" stroke=\"gray\" stroke-width=\"0.5\"/><path d=\"M 181 315 382 285\" stroke=\"gray\" stroke-width=\"0.5\"/><path d=\"M 307 213 382 285\" stroke=\"gray\" stroke-width=\"0.5\"/><path d=\"M 307 213 241 175\" stroke=\"gray\" stroke-width=\"0.5\"/><path d=\"M 461 180 382 285\" stroke=\"gray\" stroke-width=\"0.5\"/><path d=\"M 461 180 350 178\" stroke=\"gray\" stroke-width=\"0.5\"/><path d=\"M 461 180 323 120\" stroke=\"gray\" stroke-width=\"0.5\"/><path d=\"M 461 180 655 179\" stroke=\"gray\" stroke-width=\"0.5\"/><path d=\"M 350 178 382 285\" stroke=\"gray\" stroke-width=\"0.5\"/><path d=\"M 350 178 241 175\" stroke=\"gray\" stroke-width=\"0.5\"/><path d=\"M 350 178 461 180\" stroke=\"gray\" stroke-width=\"0.5\"/><path d=\"M 350 178 262 113\" stroke=\"gray\" stroke-width=\"0.5\"/><path d=\"M 323 120 382 285\" stroke=\"gray\" stroke-width=\"0.5\"/><path d=\"M 323 120 461 180\" stroke=\"gray\" stroke-width=\"0.5\"/><path d=\"M 323 120 250 35\" stroke=\"gray\" stroke-width=\"0.5\"/><path d=\"M 323 120 296 20\" stroke=\"gray\" stroke-width=\"0.5\"/><path d=\"M 323 120 341 34\" stroke=\"gray\" stroke-width=\"0.5\"/><path d=\"M 323 120 142 102\" stroke=\"gray\" stroke-width=\"0.5\"/><path d=\"M 655 179 461 180\" stroke=\"gray\" stroke-width=\"0.5\"/><path d=\"M 250 35 323 120\" stroke=\"gray\" stroke-width=\"0.5\"/><path d=\"M 250 35 296 20\" stroke=\"gray\" stroke-width=\"0.5\"/><path d=\"M 250 35 341 34\" stroke=\"gray\" stroke-width=\"0.5\"/><path d=\"M 296 20 323 120\" stroke=\"gray\" stroke-width=\"0.5\"/><path d=\"M 296 20 250 35\" stroke=\"gray\" stroke-width=\"0.5\"/><path d=\"M 296 20 341 34\" stroke=\"gray\" stroke-width=\"0.5\"/><path d=\"M 341 34 323 120\" stroke=\"gray\" stroke-width=\"0.5\"/><path d=\"M 341 34 250 35\" stroke=\"gray\" stroke-width=\"0.5\"/><path d=\"M 341 34 296 20\" stroke=\"gray\" stroke-width=\"0.5\"/><path d=\"M 142 102 323 120\" stroke=\"gray\" stroke-width=\"0.5\"/><path d=\"M 549 320 382 285\" stroke=\"gray\" stroke-width=\"0.5\"/><path d=\"M 549 320 496 330\" stroke=\"gray\" stroke-width=\"0.5\"/><path d=\"M 496 330 382 285\" stroke=\"gray\" stroke-width=\"0.5\"/><path d=\"M 496 330 549 320\" stroke=\"gray\" stroke-width=\"0.5\"/><path d=\"M 355 259 382 285\" stroke=\"gray\" stroke-width=\"0.5\"/><path d=\"M 355 259 285 262\" stroke=\"gray\" stroke-width=\"0.5\"/><path d=\"M 600 299 382 285\" stroke=\"gray\" stroke-width=\"0.5\"/><path d=\"M 285 262 382 285\" stroke=\"gray\" stroke-width=\"0.5\"/><path d=\"M 285 262 355 259\" stroke=\"gray\" stroke-width=\"0.5\"/><path d=\"M 262 113 241 175\" stroke=\"gray\" stroke-width=\"0.5\"/><path d=\"M 262 113 350 178\" stroke=\"gray\" stroke-width=\"0.5\"/><circle cx=\"382\" cy=\"285\" r=\"3.0\" style=\"fill:rgb(179, 3, 38);stroke:black;stroke-width:1.0\"/><circle cx=\"167\" cy=\"261\" r=\"3.0\" style=\"fill:rgb(99, 131, 234);stroke:black;stroke-width:1.0\"/><circle cx=\"238\" cy=\"328\" r=\"3.0\" style=\"fill:rgb(86, 115, 224);stroke:black;stroke-width:1.0\"/><circle cx=\"499\" cy=\"367\" r=\"3.0\" style=\"fill:rgb(58, 76, 192);stroke:black;stroke-width:1.0\"/><circle cx=\"241\" cy=\"175\" r=\"3.0\" style=\"fill:rgb(112, 147, 243);stroke:black;stroke-width:1.0\"/><circle cx=\"720\" cy=\"459\" r=\"3.0\" style=\"fill:rgb(60, 79, 195);stroke:black;stroke-width:1.0\"/><circle cx=\"587\" cy=\"388\" r=\"3.0\" style=\"fill:rgb(76, 102, 214);stroke:black;stroke-width:1.0\"/><circle cx=\"242\" cy=\"427\" r=\"3.0\" style=\"fill:rgb(86, 115, 224);stroke:black;stroke-width:1.0\"/><circle cx=\"566\" cy=\"265\" r=\"3.0\" style=\"fill:rgb(58, 76, 192);stroke:black;stroke-width:1.0\"/><circle cx=\"52\" cy=\"428\" r=\"3.0\" style=\"fill:rgb(58, 76, 192);stroke:black;stroke-width:1.0\"/><circle cx=\"216\" cy=\"388\" r=\"3.0\" style=\"fill:rgb(105, 139, 239);stroke:black;stroke-width:1.0\"/><circle cx=\"157\" cy=\"520\" r=\"3.0\" style=\"fill:rgb(72, 96, 209);stroke:black;stroke-width:1.0\"/><circle cx=\"135\" cy=\"494\" r=\"3.0\" style=\"fill:rgb(72, 96, 209);stroke:black;stroke-width:1.0\"/><circle cx=\"230\" cy=\"478\" r=\"3.0\" style=\"fill:rgb(58, 76, 192);stroke:black;stroke-width:1.0\"/><circle cx=\"553\" cy=\"227\" r=\"3.0\" style=\"fill:rgb(58, 76, 192);stroke:black;stroke-width:1.0\"/><circle cx=\"218\" cy=\"285\" r=\"3.0\" style=\"fill:rgb(70, 93, 207);stroke:black;stroke-width:1.0\"/><circle cx=\"20\" cy=\"208\" r=\"3.0\" style=\"fill:rgb(58, 76, 192);stroke:black;stroke-width:1.0\"/><circle cx=\"488\" cy=\"226\" r=\"3.0\" style=\"fill:rgb(58, 76, 192);stroke:black;stroke-width:1.0\"/><circle cx=\"369\" cy=\"361\" r=\"3.0\" style=\"fill:rgb(58, 76, 192);stroke:black;stroke-width:1.0\"/><circle cx=\"428\" cy=\"381\" r=\"3.0\" style=\"fill:rgb(58, 76, 192);stroke:black;stroke-width:1.0\"/><circle cx=\"73\" cy=\"106\" r=\"3.0\" style=\"fill:rgb(58, 76, 192);stroke:black;stroke-width:1.0\"/><circle cx=\"181\" cy=\"315\" r=\"3.0\" style=\"fill:rgb(58, 76, 192);stroke:black;stroke-width:1.0\"/><circle cx=\"307\" cy=\"213\" r=\"3.0\" style=\"fill:rgb(70, 93, 207);stroke:black;stroke-width:1.0\"/><circle cx=\"461\" cy=\"180\" r=\"3.0\" style=\"fill:rgb(96, 128, 232);stroke:black;stroke-width:1.0\"/><circle cx=\"350\" cy=\"178\" r=\"3.0\" style=\"fill:rgb(96, 128, 232);stroke:black;stroke-width:1.0\"/><circle cx=\"323\" cy=\"120\" r=\"3.0\" style=\"fill:rgb(120, 155, 247);stroke:black;stroke-width:1.0\"/><circle cx=\"655\" cy=\"179\" r=\"3.0\" style=\"fill:rgb(58, 76, 192);stroke:black;stroke-width:1.0\"/><circle cx=\"250\" cy=\"35\" r=\"3.0\" style=\"fill:rgb(80, 107, 218);stroke:black;stroke-width:1.0\"/><circle cx=\"296\" cy=\"20\" r=\"3.0\" style=\"fill:rgb(80, 107, 218);stroke:black;stroke-width:1.0\"/><circle cx=\"341\" cy=\"34\" r=\"3.0\" style=\"fill:rgb(80, 107, 218);stroke:black;stroke-width:1.0\"/><circle cx=\"142\" cy=\"102\" r=\"3.0\" style=\"fill:rgb(58, 76, 192);stroke:black;stroke-width:1.0\"/><circle cx=\"549\" cy=\"320\" r=\"3.0\" style=\"fill:rgb(70, 93, 207);stroke:black;stroke-width:1.0\"/><circle cx=\"496\" cy=\"330\" r=\"3.0\" style=\"fill:rgb(70, 93, 207);stroke:black;stroke-width:1.0\"/><circle cx=\"355\" cy=\"259\" r=\"3.0\" style=\"fill:rgb(70, 93, 207);stroke:black;stroke-width:1.0\"/><circle cx=\"600\" cy=\"299\" r=\"3.0\" style=\"fill:rgb(58, 76, 192);stroke:black;stroke-width:1.0\"/><circle cx=\"285\" cy=\"262\" r=\"3.0\" style=\"fill:rgb(70, 93, 207);stroke:black;stroke-width:1.0\"/><circle cx=\"262\" cy=\"113\" r=\"3.0\" style=\"fill:rgb(70, 93, 207);stroke:black;stroke-width:1.0\"/><text font-size=\"10\" x=\"388\" y=\"288\">Alice</text><text font-size=\"10\" x=\"173\" y=\"264\">Rabbit</text><text font-size=\"10\" x=\"244\" y=\"331\">Dinah</text><text font-size=\"10\" x=\"505\" y=\"370\">Fender</text><text font-size=\"10\" x=\"247\" y=\"178\">Duchess</text><text font-size=\"10\" x=\"726\" y=\"462\">Ada</text><text font-size=\"10\" x=\"593\" y=\"391\">Mabel</text><text font-size=\"10\" x=\"248\" y=\"430\">Mouse</text><text font-size=\"10\" x=\"572\" y=\"268\">William the Conqueror</text><text font-size=\"10\" x=\"58\" y=\"431\">Eaglet</text><text font-size=\"10\" x=\"222\" y=\"391\">Lory</text><text font-size=\"10\" x=\"163\" y=\"523\">William</text><text font-size=\"10\" x=\"141\" y=\"497\">Edgar Atheling</text><text font-size=\"10\" x=\"236\" y=\"481\">Crab</text><text font-size=\"10\" x=\"559\" y=\"230\">Bill</text><text font-size=\"10\" x=\"224\" y=\"288\">Mary Ann</text><text font-size=\"10\" x=\"26\" y=\"211\">Pat</text><text font-size=\"10\" x=\"494\" y=\"229\">Caterpillar</text><text font-size=\"10\" x=\"375\" y=\"364\">Pigeon</text><text font-size=\"10\" x=\"434\" y=\"384\">Fish-Footman</text><text font-size=\"10\" x=\"79\" y=\"109\">Cheshire</text><text font-size=\"10\" x=\"187\" y=\"318\">Cheshire Cat</text><text font-size=\"10\" x=\"313\" y=\"216\">Cat</text><text font-size=\"10\" x=\"467\" y=\"183\">Hatter</text><text font-size=\"10\" x=\"356\" y=\"181\">Hare</text><text font-size=\"10\" x=\"329\" y=\"123\">Dormouse</text><text font-size=\"10\" x=\"661\" y=\"182\">Time</text><text font-size=\"10\" x=\"256\" y=\"38\">Elsie</text><text font-size=\"10\" x=\"302\" y=\"23\">Lacie</text><text font-size=\"10\" x=\"347\" y=\"37\">Tillie</text><text font-size=\"10\" x=\"148\" y=\"105\">Treacle</text><text font-size=\"10\" x=\"555\" y=\"323\">Queens</text><text font-size=\"10\" x=\"502\" y=\"333\">Kings</text><text font-size=\"10\" x=\"361\" y=\"262\">Gryphon</text><text font-size=\"10\" x=\"606\" y=\"302\">Lobster Quadrille</text><text font-size=\"10\" x=\"291\" y=\"265\">Soup</text><text font-size=\"10\" x=\"268\" y=\"116\">Lizard</text></svg>"
      ],
      "text/plain": [
       "<IPython.core.display.SVG object>"
      ]
     },
     "execution_count": 35,
     "metadata": {},
     "output_type": "execute_result"
    }
   ],
   "source": [
    "nodes = community_df[community_df['community']==comm_idx[0]]['node'].values\n",
    "\n",
    "G_comm = G.subgraph(nodes)\n",
    "G_net_main = G_comm.copy() # we will run community detection off of this at the end\n",
    "\n",
    "draw_graph(nx.k_core(G_comm, 1), show_names=True, node_size=3)"
   ]
  },
  {
   "cell_type": "code",
   "execution_count": 36,
   "id": "68fd8c6f",
   "metadata": {},
   "outputs": [
    {
     "name": "stdout",
     "output_type": "stream",
     "text": [
      "Ada\n",
      "Alice\n",
      "Bill\n",
      "Cat\n",
      "Caterpillar\n",
      "Cheshire\n",
      "Cheshire Cat\n",
      "Crab\n",
      "Dinah\n",
      "Dormouse\n",
      "Duchess\n",
      "Eaglet\n",
      "Edgar Atheling\n",
      "Elsie\n",
      "Fender\n",
      "Fish-Footman\n",
      "Gryphon\n",
      "Hare\n",
      "Hatter\n",
      "Kings\n",
      "Lacie\n",
      "Lizard\n",
      "Lobster Quadrille\n",
      "Lory\n",
      "Mabel\n",
      "Mary Ann\n",
      "Mouse\n",
      "Pat\n",
      "Pigeon\n",
      "Queens\n",
      "Rabbit\n",
      "Soup\n",
      "Tillie\n",
      "Time\n",
      "Treacle\n",
      "William\n",
      "William the Conqueror\n"
     ]
    },
    {
     "data": {
      "text/plain": [
       "[None,\n",
       " None,\n",
       " None,\n",
       " None,\n",
       " None,\n",
       " None,\n",
       " None,\n",
       " None,\n",
       " None,\n",
       " None,\n",
       " None,\n",
       " None,\n",
       " None,\n",
       " None,\n",
       " None,\n",
       " None,\n",
       " None,\n",
       " None,\n",
       " None,\n",
       " None,\n",
       " None,\n",
       " None,\n",
       " None,\n",
       " None,\n",
       " None,\n",
       " None,\n",
       " None,\n",
       " None,\n",
       " None,\n",
       " None,\n",
       " None,\n",
       " None,\n",
       " None,\n",
       " None,\n",
       " None,\n",
       " None,\n",
       " None]"
      ]
     },
     "execution_count": 36,
     "metadata": {},
     "output_type": "execute_result"
    }
   ],
   "source": [
    "nodes = [n for n in sorted(G_net_main.nodes)]\n",
    "[print(n) for n in nodes]"
   ]
  },
  {
   "cell_type": "markdown",
   "id": "1a1fb4fb",
   "metadata": {},
   "source": [
    "## More Communities!"
   ]
  },
  {
   "cell_type": "code",
   "execution_count": 37,
   "id": "489ddd48",
   "metadata": {},
   "outputs": [
    {
     "data": {
      "image/svg+xml": [
       "<svg height=\"540\" width=\"795.0\" xmlns=\"http://www.w3.org/2000/svg\"><path d=\"M 20 380 62 125\" stroke=\"gray\" stroke-width=\"0.5\"/><path d=\"M 20 380 420 313\" stroke=\"gray\" stroke-width=\"0.5\"/><path d=\"M 20 380 334 91\" stroke=\"gray\" stroke-width=\"0.5\"/><path d=\"M 20 380 216 520\" stroke=\"gray\" stroke-width=\"0.5\"/><path d=\"M 62 125 20 380\" stroke=\"gray\" stroke-width=\"0.5\"/><path d=\"M 62 125 420 313\" stroke=\"gray\" stroke-width=\"0.5\"/><path d=\"M 62 125 334 91\" stroke=\"gray\" stroke-width=\"0.5\"/><path d=\"M 62 125 216 520\" stroke=\"gray\" stroke-width=\"0.5\"/><path d=\"M 720 20 420 313\" stroke=\"gray\" stroke-width=\"0.5\"/><path d=\"M 720 20 334 91\" stroke=\"gray\" stroke-width=\"0.5\"/><path d=\"M 420 313 20 380\" stroke=\"gray\" stroke-width=\"0.5\"/><path d=\"M 420 313 62 125\" stroke=\"gray\" stroke-width=\"0.5\"/><path d=\"M 420 313 720 20\" stroke=\"gray\" stroke-width=\"0.5\"/><path d=\"M 420 313 334 91\" stroke=\"gray\" stroke-width=\"0.5\"/><path d=\"M 420 313 216 520\" stroke=\"gray\" stroke-width=\"0.5\"/><path d=\"M 334 91 20 380\" stroke=\"gray\" stroke-width=\"0.5\"/><path d=\"M 334 91 62 125\" stroke=\"gray\" stroke-width=\"0.5\"/><path d=\"M 334 91 720 20\" stroke=\"gray\" stroke-width=\"0.5\"/><path d=\"M 334 91 420 313\" stroke=\"gray\" stroke-width=\"0.5\"/><path d=\"M 334 91 216 520\" stroke=\"gray\" stroke-width=\"0.5\"/><path d=\"M 216 520 20 380\" stroke=\"gray\" stroke-width=\"0.5\"/><path d=\"M 216 520 62 125\" stroke=\"gray\" stroke-width=\"0.5\"/><path d=\"M 216 520 420 313\" stroke=\"gray\" stroke-width=\"0.5\"/><path d=\"M 216 520 334 91\" stroke=\"gray\" stroke-width=\"0.5\"/><circle cx=\"20\" cy=\"380\" r=\"3.0\" style=\"fill:rgb(244, 195, 171);stroke:black;stroke-width:1.0\"/><circle cx=\"62\" cy=\"125\" r=\"3.0\" style=\"fill:rgb(244, 195, 171);stroke:black;stroke-width:1.0\"/><circle cx=\"720\" cy=\"20\" r=\"3.0\" style=\"fill:rgb(58, 76, 192);stroke:black;stroke-width:1.0\"/><circle cx=\"420\" cy=\"313\" r=\"3.0\" style=\"fill:rgb(179, 3, 38);stroke:black;stroke-width:1.0\"/><circle cx=\"334\" cy=\"91\" r=\"3.0\" style=\"fill:rgb(179, 3, 38);stroke:black;stroke-width:1.0\"/><circle cx=\"216\" cy=\"520\" r=\"3.0\" style=\"fill:rgb(244, 195, 171);stroke:black;stroke-width:1.0\"/><text font-size=\"10\" x=\"26\" y=\"383\">Stigand</text><text font-size=\"10\" x=\"68\" y=\"128\">Canterbury</text><text font-size=\"10\" x=\"726\" y=\"23\">Edwin</text><text font-size=\"10\" x=\"426\" y=\"316\">Northumbria</text><text font-size=\"10\" x=\"340\" y=\"94\">Morcar</text><text font-size=\"10\" x=\"222\" y=\"523\">Mercia</text></svg>"
      ],
      "text/plain": [
       "<IPython.core.display.SVG object>"
      ]
     },
     "execution_count": 37,
     "metadata": {},
     "output_type": "execute_result"
    }
   ],
   "source": [
    "nodes = community_df[community_df['community']==comm_idx[1]]['node'].values\n",
    "\n",
    "G_comm = G.subgraph(nodes)\n",
    "\n",
    "draw_graph(nx.k_core(G_comm, 1), show_names=True, node_size=3)"
   ]
  },
  {
   "cell_type": "code",
   "execution_count": 38,
   "id": "03a0995f",
   "metadata": {},
   "outputs": [
    {
     "name": "stdout",
     "output_type": "stream",
     "text": [
      "Canterbury\n",
      "Edwin\n",
      "Mercia\n",
      "Morcar\n",
      "Northumbria\n",
      "Stigand\n"
     ]
    },
    {
     "data": {
      "text/plain": [
       "[None, None, None, None, None, None]"
      ]
     },
     "execution_count": 38,
     "metadata": {},
     "output_type": "execute_result"
    }
   ],
   "source": [
    "[print(n) for n in sorted(G_comm.nodes)]"
   ]
  },
  {
   "cell_type": "markdown",
   "id": "628c3d9c",
   "metadata": {},
   "source": [
    "# Use Any Text\n",
    "\n",
    "You can do this with any text whatsoever, whether it be literature, audio transcribed into text, online news, anything. If you have text and spaCy's NER models are able to extract entities, then this will work.\n",
    "\n",
    "This in no way diminishes the value of text or of reading. It is an additional tool that can be used to understand the relationships that exist in text. It is an additional learning tool, for understanding. It is not a replacement for reading. It can give greater understanding and awareness.\n",
    "\n",
    "The first time I did this, I used the book of Genesis from the Bible.\n",
    "\n",
    "NER models will improve over time, and LLMs can extract entities as well. Use whatever you want for the entity extraction, and then use this or a similar approach for wiring the network together."
   ]
  },
  {
   "cell_type": "code",
   "execution_count": null,
   "id": "bfbdf775",
   "metadata": {},
   "outputs": [],
   "source": []
  },
  {
   "cell_type": "code",
   "execution_count": null,
   "id": "da7deb9e",
   "metadata": {},
   "outputs": [],
   "source": []
  },
  {
   "cell_type": "code",
   "execution_count": null,
   "id": "59b83f64",
   "metadata": {},
   "outputs": [],
   "source": []
  }
 ],
 "metadata": {
  "kernelspec": {
   "display_name": "Python 3",
   "language": "python",
   "name": "python3"
  },
  "language_info": {
   "codemirror_mode": {
    "name": "ipython",
    "version": 3
   },
   "file_extension": ".py",
   "mimetype": "text/x-python",
   "name": "python",
   "nbconvert_exporter": "python",
   "pygments_lexer": "ipython3",
   "version": "3.7.16"
  }
 },
 "nbformat": 4,
 "nbformat_minor": 5
}
