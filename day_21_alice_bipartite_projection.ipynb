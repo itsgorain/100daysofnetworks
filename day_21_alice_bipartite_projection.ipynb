{
 "cells": [
  {
   "cell_type": "code",
   "execution_count": 1,
   "id": "7423be59",
   "metadata": {},
   "outputs": [],
   "source": [
    "import networkx as nx\n",
    "import numpy as np\n",
    "import pandas as pd\n",
    "\n",
    "# for the explode statement; convert string to list\n",
    "from ast import literal_eval\n",
    "\n",
    "# for visualization\n",
    "from IPython.display import SVG \n",
    "from sknetwork.visualization import svg_graph \n",
    "from sknetwork.data import Bunch \n",
    "from sknetwork.ranking import PageRank \n",
    "\n",
    "# for bipartite projection\n",
    "from networkx.algorithms import bipartite\n",
    "\n",
    "# for text and NER\n",
    "from tqdm import tqdm\n",
    "import spacy\n",
    "import requests\n",
    "\n",
    "nlp = spacy.load(\"en_core_web_md\")"
   ]
  },
  {
   "cell_type": "code",
   "execution_count": 2,
   "id": "38a1e588",
   "metadata": {},
   "outputs": [],
   "source": [
    "def get_data(): \n",
    "\n",
    "    url = 'https://www.gutenberg.org/files/11/11-0.txt' \n",
    "    text = requests.get(url).text \n",
    "\n",
    "    # strip header junk \n",
    "    cutoff = text.index('Alice was beginning') \n",
    "    text = text[cutoff:] \n",
    "\n",
    "    # strip footer junk \n",
    "    cutoff = text.rindex('THE END') \n",
    "    text = text[:cutoff] \n",
    "\n",
    "    # pre-processing to clean the text \n",
    "    text = text.replace('\\r', ' ').replace('\\n', ' ') \n",
    "    text = text.replace('â\\x80\\x99', '\\'').replace('â\\x80\\x9c', '\"').replace('â\\x80\\x9d', '\"\"').replace('â\\x80\\x94', ' ') \n",
    "\n",
    "    return text"
   ]
  },
  {
   "cell_type": "code",
   "execution_count": 3,
   "id": "c88298e3",
   "metadata": {},
   "outputs": [],
   "source": [
    "def extract_entities(text): \n",
    "\n",
    "    doc = nlp(text) \n",
    "\n",
    "    sentences = list(doc.sents) \n",
    "\n",
    "    entities = [] \n",
    "\n",
    "    for sentence in tqdm(sentences): \n",
    "\n",
    "        sentence_entities = [] \n",
    "\n",
    "        sent_doc = nlp(sentence.text) \n",
    "\n",
    "        for ent in sent_doc.ents: \n",
    "\n",
    "            if ent.label_ in ['PERSON', 'ORG', 'GPE']: \n",
    "\n",
    "                entity = ent.text.strip() \n",
    "\n",
    "                if \"'s\" in entity: \n",
    "\n",
    "                    cutoff = entity.index(\"'s\") \n",
    "\n",
    "                    entity = entity[:cutoff] \n",
    "\n",
    "                if entity != '': \n",
    "\n",
    "                    sentence_entities.append(entity)   \n",
    "\n",
    "        sentence_entities = list(set(sentence_entities))       \n",
    "\n",
    "        if len(sentence_entities) > 0: # changed from 1 to zero to grab individuals from sentences; new idea after book\n",
    "\n",
    "            entities.append(sentence_entities) \n",
    "\n",
    "    return entities "
   ]
  },
  {
   "cell_type": "code",
   "execution_count": 4,
   "id": "102626ff",
   "metadata": {},
   "outputs": [],
   "source": [
    "def draw_graph(G, show_names=False, node_size=1, font_size=10, edge_width=0.5): \n",
    "\n",
    "    adjacency = nx.to_scipy_sparse_matrix(G, nodelist=None, dtype=None, weight='weight', format='csr') \n",
    "\n",
    "    names = np.array(list(G.nodes())) \n",
    "\n",
    "    graph = Bunch() \n",
    "    graph.adjacency = adjacency \n",
    "    graph.names = np.array(names) \n",
    "\n",
    "    pagerank = PageRank() \n",
    "\n",
    "    scores = pagerank.fit_transform(adjacency) \n",
    "\n",
    "    if show_names: \n",
    "        \n",
    "        image = svg_graph(graph.adjacency, font_size=font_size, node_size=node_size, names=graph.names, width=700, height=500, scores=scores, edge_width=edge_width) \n",
    "\n",
    "    else: \n",
    "\n",
    "        image = svg_graph(graph.adjacency, node_size=node_size, width=700, height=500, scores = scores, edge_width=edge_width) \n",
    "\n",
    "    return SVG(image) "
   ]
  },
  {
   "cell_type": "markdown",
   "id": "77a12aec",
   "metadata": {},
   "source": [
    "# Get Text"
   ]
  },
  {
   "cell_type": "code",
   "execution_count": 5,
   "id": "443c3cd4",
   "metadata": {},
   "outputs": [
    {
     "data": {
      "text/plain": [
       "'Alice was beginning to get very tired of sitting by her sister on the  bank, and of having nothing to do: once or twice she had peeped into  the book her sister was reading, but it had no pictures or '"
      ]
     },
     "execution_count": 5,
     "metadata": {},
     "output_type": "execute_result"
    }
   ],
   "source": [
    "text = get_data()\n",
    "text[0:200]"
   ]
  },
  {
   "cell_type": "markdown",
   "id": "7984710a",
   "metadata": {},
   "source": [
    "# Extract Entities by Sentence"
   ]
  },
  {
   "cell_type": "code",
   "execution_count": 6,
   "id": "a599e622",
   "metadata": {},
   "outputs": [],
   "source": [
    "def drop_duplicate_entities(entities):\n",
    "\n",
    "    keep_entities = []\n",
    "\n",
    "    for entity_list in entities:\n",
    "\n",
    "        if entity_list not in keep_entities:\n",
    "            keep_entities.append(entity_list)\n",
    "\n",
    "    return keep_entities"
   ]
  },
  {
   "cell_type": "code",
   "execution_count": 7,
   "id": "dd5ac387",
   "metadata": {},
   "outputs": [
    {
     "name": "stderr",
     "output_type": "stream",
     "text": [
      "100%|██████████████████████████████████████████████████████████████████████████████| 2080/2080 [00:49<00:00, 41.99it/s]\n"
     ]
    },
    {
     "data": {
      "text/plain": [
       "[['Alice'],\n",
       " ['Rabbit', 'Alice'],\n",
       " ['Longitude', 'Alice'],\n",
       " ['Antipathies'],\n",
       " [\"Ma'am\", 'Australia', 'New Zealand']]"
      ]
     },
     "execution_count": 7,
     "metadata": {},
     "output_type": "execute_result"
    }
   ],
   "source": [
    "entities = extract_entities(text)\n",
    "entities = drop_duplicate_entities(entities)\n",
    "entities[0:5]"
   ]
  },
  {
   "cell_type": "code",
   "execution_count": 8,
   "id": "fe330d82",
   "metadata": {},
   "outputs": [
    {
     "data": {
      "text/html": [
       "<div>\n",
       "<style scoped>\n",
       "    .dataframe tbody tr th:only-of-type {\n",
       "        vertical-align: middle;\n",
       "    }\n",
       "\n",
       "    .dataframe tbody tr th {\n",
       "        vertical-align: top;\n",
       "    }\n",
       "\n",
       "    .dataframe thead th {\n",
       "        text-align: right;\n",
       "    }\n",
       "</style>\n",
       "<table border=\"1\" class=\"dataframe\">\n",
       "  <thead>\n",
       "    <tr style=\"text-align: right;\">\n",
       "      <th></th>\n",
       "      <th>entity</th>\n",
       "      <th>sentence</th>\n",
       "    </tr>\n",
       "  </thead>\n",
       "  <tbody>\n",
       "    <tr>\n",
       "      <th>0</th>\n",
       "      <td>Alice</td>\n",
       "      <td>0</td>\n",
       "    </tr>\n",
       "    <tr>\n",
       "      <th>1</th>\n",
       "      <td>Rabbit</td>\n",
       "      <td>1</td>\n",
       "    </tr>\n",
       "    <tr>\n",
       "      <th>1</th>\n",
       "      <td>Alice</td>\n",
       "      <td>1</td>\n",
       "    </tr>\n",
       "    <tr>\n",
       "      <th>2</th>\n",
       "      <td>Longitude</td>\n",
       "      <td>2</td>\n",
       "    </tr>\n",
       "    <tr>\n",
       "      <th>2</th>\n",
       "      <td>Alice</td>\n",
       "      <td>2</td>\n",
       "    </tr>\n",
       "  </tbody>\n",
       "</table>\n",
       "</div>"
      ],
      "text/plain": [
       "      entity  sentence\n",
       "0      Alice         0\n",
       "1     Rabbit         1\n",
       "1      Alice         1\n",
       "2  Longitude         2\n",
       "2      Alice         2"
      ]
     },
     "execution_count": 8,
     "metadata": {},
     "output_type": "execute_result"
    }
   ],
   "source": [
    "entity_df = pd.DataFrame({'entities':entities}).reset_index()\n",
    "entity_df.columns = ['sentence', 'entity']\n",
    "entity_df = entity_df.explode('entity')\n",
    "\n",
    "entity_df = entity_df[['entity', 'sentence']]\n",
    "\n",
    "# wrangling\n",
    "entity_df = entity_df[entity_df['entity'].str.contains('CHAPTER', case=False)==False] # drop chapter nodes\n",
    "\n",
    "entity_df.head()"
   ]
  },
  {
   "cell_type": "markdown",
   "id": "854361a8",
   "metadata": {},
   "source": [
    "# Graph Approach: Bipartite Projection (New Idea)"
   ]
  },
  {
   "cell_type": "code",
   "execution_count": 9,
   "id": "c60d712e",
   "metadata": {},
   "outputs": [],
   "source": [
    "B = nx.from_pandas_edgelist(entity_df, source='entity', target='sentence') # new approach\n",
    "G = bipartite.projected_graph(B, entity_df['entity'])\n",
    "\n",
    "# wrangling\n",
    "G = nx.k_core(G, 1) # quickly remove disconnected junk nodes\n",
    "\n",
    "drop_nodes = ['Beautiful', 'Hm', 'Improve', 'Longitude', 'Ma\\'am', 'Mystery', 'Said', 'Seaography', 'Somebody', \n",
    "              'The Rabbit Sends', 'garden_.', 'The Rabbit Sends', 'the White Rabbit', \"â\\x80\\x98I'll\", 'â\\x80\\x98Keep', \n",
    "              'â\\x80\\x98it', 'William_']\n",
    "\n",
    "G.remove_nodes_from(drop_nodes) # remove drop nodes"
   ]
  },
  {
   "cell_type": "code",
   "execution_count": 10,
   "id": "145f5a30",
   "metadata": {},
   "outputs": [
    {
     "data": {
      "image/svg+xml": [
       "<svg height=\"540\" width=\"845.0\" xmlns=\"http://www.w3.org/2000/svg\"><path d=\"M 172 269 250 232\" stroke=\"gray\" stroke-width=\"0.5\"/><path d=\"M 172 269 206 211\" stroke=\"gray\" stroke-width=\"0.5\"/><path d=\"M 172 269 54 278\" stroke=\"gray\" stroke-width=\"0.5\"/><path d=\"M 172 269 211 258\" stroke=\"gray\" stroke-width=\"0.5\"/><path d=\"M 172 269 148 349\" stroke=\"gray\" stroke-width=\"0.5\"/><path d=\"M 172 269 276 208\" stroke=\"gray\" stroke-width=\"0.5\"/><path d=\"M 172 269 78 293\" stroke=\"gray\" stroke-width=\"0.5\"/><path d=\"M 172 269 244 186\" stroke=\"gray\" stroke-width=\"0.5\"/><path d=\"M 172 269 174 223\" stroke=\"gray\" stroke-width=\"0.5\"/><path d=\"M 172 269 178 239\" stroke=\"gray\" stroke-width=\"0.5\"/><path d=\"M 172 269 114 302\" stroke=\"gray\" stroke-width=\"0.5\"/><path d=\"M 172 269 279 249\" stroke=\"gray\" stroke-width=\"0.5\"/><path d=\"M 172 269 278 274\" stroke=\"gray\" stroke-width=\"0.5\"/><path d=\"M 172 269 250 309\" stroke=\"gray\" stroke-width=\"0.5\"/><path d=\"M 172 269 242 262\" stroke=\"gray\" stroke-width=\"0.5\"/><path d=\"M 172 269 196 336\" stroke=\"gray\" stroke-width=\"0.5\"/><path d=\"M 172 269 224 297\" stroke=\"gray\" stroke-width=\"0.5\"/><path d=\"M 172 269 101 350\" stroke=\"gray\" stroke-width=\"0.5\"/><path d=\"M 172 269 66 237\" stroke=\"gray\" stroke-width=\"0.5\"/><path d=\"M 172 269 56 254\" stroke=\"gray\" stroke-width=\"0.5\"/><path d=\"M 172 269 97 261\" stroke=\"gray\" stroke-width=\"0.5\"/><path d=\"M 172 269 167 310\" stroke=\"gray\" stroke-width=\"0.5\"/><path d=\"M 172 269 102 239\" stroke=\"gray\" stroke-width=\"0.5\"/><path d=\"M 250 232 172 269\" stroke=\"gray\" stroke-width=\"0.5\"/><path d=\"M 250 232 206 211\" stroke=\"gray\" stroke-width=\"0.5\"/><path d=\"M 250 232 178 239\" stroke=\"gray\" stroke-width=\"0.5\"/><path d=\"M 250 232 357 231\" stroke=\"gray\" stroke-width=\"0.5\"/><path d=\"M 679 166 720 179\" stroke=\"gray\" stroke-width=\"0.5\"/><path d=\"M 720 179 679 166\" stroke=\"gray\" stroke-width=\"0.5\"/><path d=\"M 206 211 172 269\" stroke=\"gray\" stroke-width=\"0.5\"/><path d=\"M 206 211 250 232\" stroke=\"gray\" stroke-width=\"0.5\"/><path d=\"M 206 211 244 186\" stroke=\"gray\" stroke-width=\"0.5\"/><path d=\"M 54 278 172 269\" stroke=\"gray\" stroke-width=\"0.5\"/><path d=\"M 211 258 172 269\" stroke=\"gray\" stroke-width=\"0.5\"/><path d=\"M 211 258 143 204\" stroke=\"gray\" stroke-width=\"0.5\"/><path d=\"M 211 258 242 262\" stroke=\"gray\" stroke-width=\"0.5\"/><path d=\"M 211 258 224 297\" stroke=\"gray\" stroke-width=\"0.5\"/><path d=\"M 211 258 291 291\" stroke=\"gray\" stroke-width=\"0.5\"/><path d=\"M 148 349 172 269\" stroke=\"gray\" stroke-width=\"0.5\"/><path d=\"M 148 349 124 412\" stroke=\"gray\" stroke-width=\"0.5\"/><path d=\"M 124 412 148 349\" stroke=\"gray\" stroke-width=\"0.5\"/><path d=\"M 514 356 489 376\" stroke=\"gray\" stroke-width=\"0.5\"/><path d=\"M 514 356 536 375\" stroke=\"gray\" stroke-width=\"0.5\"/><path d=\"M 489 376 514 356\" stroke=\"gray\" stroke-width=\"0.5\"/><path d=\"M 489 376 536 375\" stroke=\"gray\" stroke-width=\"0.5\"/><path d=\"M 536 375 514 356\" stroke=\"gray\" stroke-width=\"0.5\"/><path d=\"M 536 375 489 376\" stroke=\"gray\" stroke-width=\"0.5\"/><path d=\"M 276 208 172 269\" stroke=\"gray\" stroke-width=\"0.5\"/><path d=\"M 276 208 314 170\" stroke=\"gray\" stroke-width=\"0.5\"/><path d=\"M 276 208 349 177\" stroke=\"gray\" stroke-width=\"0.5\"/><path d=\"M 78 293 172 269\" stroke=\"gray\" stroke-width=\"0.5\"/><path d=\"M 336 149 244 186\" stroke=\"gray\" stroke-width=\"0.5\"/><path d=\"M 244 186 172 269\" stroke=\"gray\" stroke-width=\"0.5\"/><path d=\"M 244 186 206 211\" stroke=\"gray\" stroke-width=\"0.5\"/><path d=\"M 244 186 336 149\" stroke=\"gray\" stroke-width=\"0.5\"/><path d=\"M 244 186 263 130\" stroke=\"gray\" stroke-width=\"0.5\"/><path d=\"M 405 520 416 494\" stroke=\"gray\" stroke-width=\"0.5\"/><path d=\"M 405 520 446 497\" stroke=\"gray\" stroke-width=\"0.5\"/><path d=\"M 416 494 405 520\" stroke=\"gray\" stroke-width=\"0.5\"/><path d=\"M 416 494 446 497\" stroke=\"gray\" stroke-width=\"0.5\"/><path d=\"M 416 494 467 478\" stroke=\"gray\" stroke-width=\"0.5\"/><path d=\"M 416 494 412 476\" stroke=\"gray\" stroke-width=\"0.5\"/><path d=\"M 416 494 441 468\" stroke=\"gray\" stroke-width=\"0.5\"/><path d=\"M 446 497 405 520\" stroke=\"gray\" stroke-width=\"0.5\"/><path d=\"M 446 497 416 494\" stroke=\"gray\" stroke-width=\"0.5\"/><path d=\"M 446 497 467 478\" stroke=\"gray\" stroke-width=\"0.5\"/><path d=\"M 446 497 412 476\" stroke=\"gray\" stroke-width=\"0.5\"/><path d=\"M 446 497 441 468\" stroke=\"gray\" stroke-width=\"0.5\"/><path d=\"M 467 478 416 494\" stroke=\"gray\" stroke-width=\"0.5\"/><path d=\"M 467 478 446 497\" stroke=\"gray\" stroke-width=\"0.5\"/><path d=\"M 467 478 412 476\" stroke=\"gray\" stroke-width=\"0.5\"/><path d=\"M 467 478 441 468\" stroke=\"gray\" stroke-width=\"0.5\"/><path d=\"M 412 476 416 494\" stroke=\"gray\" stroke-width=\"0.5\"/><path d=\"M 412 476 446 497\" stroke=\"gray\" stroke-width=\"0.5\"/><path d=\"M 412 476 467 478\" stroke=\"gray\" stroke-width=\"0.5\"/><path d=\"M 412 476 441 468\" stroke=\"gray\" stroke-width=\"0.5\"/><path d=\"M 441 468 416 494\" stroke=\"gray\" stroke-width=\"0.5\"/><path d=\"M 441 468 446 497\" stroke=\"gray\" stroke-width=\"0.5\"/><path d=\"M 441 468 467 478\" stroke=\"gray\" stroke-width=\"0.5\"/><path d=\"M 441 468 412 476\" stroke=\"gray\" stroke-width=\"0.5\"/><path d=\"M 314 170 276 208\" stroke=\"gray\" stroke-width=\"0.5\"/><path d=\"M 314 170 349 177\" stroke=\"gray\" stroke-width=\"0.5\"/><path d=\"M 349 177 276 208\" stroke=\"gray\" stroke-width=\"0.5\"/><path d=\"M 349 177 314 170\" stroke=\"gray\" stroke-width=\"0.5\"/><path d=\"M 263 130 244 186\" stroke=\"gray\" stroke-width=\"0.5\"/><path d=\"M 174 223 172 269\" stroke=\"gray\" stroke-width=\"0.5\"/><path d=\"M 178 239 172 269\" stroke=\"gray\" stroke-width=\"0.5\"/><path d=\"M 178 239 250 232\" stroke=\"gray\" stroke-width=\"0.5\"/><path d=\"M 357 231 250 232\" stroke=\"gray\" stroke-width=\"0.5\"/><path d=\"M 114 302 172 269\" stroke=\"gray\" stroke-width=\"0.5\"/><path d=\"M 279 249 172 269\" stroke=\"gray\" stroke-width=\"0.5\"/><path d=\"M 278 274 172 269\" stroke=\"gray\" stroke-width=\"0.5\"/><path d=\"M 143 204 211 258\" stroke=\"gray\" stroke-width=\"0.5\"/><path d=\"M 250 309 172 269\" stroke=\"gray\" stroke-width=\"0.5\"/><path d=\"M 242 262 172 269\" stroke=\"gray\" stroke-width=\"0.5\"/><path d=\"M 242 262 211 258\" stroke=\"gray\" stroke-width=\"0.5\"/><path d=\"M 196 336 172 269\" stroke=\"gray\" stroke-width=\"0.5\"/><path d=\"M 196 336 224 297\" stroke=\"gray\" stroke-width=\"0.5\"/><path d=\"M 196 336 101 350\" stroke=\"gray\" stroke-width=\"0.5\"/><path d=\"M 196 336 245 386\" stroke=\"gray\" stroke-width=\"0.5\"/><path d=\"M 224 297 172 269\" stroke=\"gray\" stroke-width=\"0.5\"/><path d=\"M 224 297 211 258\" stroke=\"gray\" stroke-width=\"0.5\"/><path d=\"M 224 297 196 336\" stroke=\"gray\" stroke-width=\"0.5\"/><path d=\"M 224 297 291 291\" stroke=\"gray\" stroke-width=\"0.5\"/><path d=\"M 101 350 172 269\" stroke=\"gray\" stroke-width=\"0.5\"/><path d=\"M 101 350 196 336\" stroke=\"gray\" stroke-width=\"0.5\"/><path d=\"M 101 350 20 370\" stroke=\"gray\" stroke-width=\"0.5\"/><path d=\"M 101 350 55 382\" stroke=\"gray\" stroke-width=\"0.5\"/><path d=\"M 101 350 30 389\" stroke=\"gray\" stroke-width=\"0.5\"/><path d=\"M 101 350 115 397\" stroke=\"gray\" stroke-width=\"0.5\"/><path d=\"M 245 386 196 336\" stroke=\"gray\" stroke-width=\"0.5\"/><path d=\"M 20 370 101 350\" stroke=\"gray\" stroke-width=\"0.5\"/><path d=\"M 20 370 55 382\" stroke=\"gray\" stroke-width=\"0.5\"/><path d=\"M 20 370 30 389\" stroke=\"gray\" stroke-width=\"0.5\"/><path d=\"M 55 382 101 350\" stroke=\"gray\" stroke-width=\"0.5\"/><path d=\"M 55 382 20 370\" stroke=\"gray\" stroke-width=\"0.5\"/><path d=\"M 55 382 30 389\" stroke=\"gray\" stroke-width=\"0.5\"/><path d=\"M 30 389 101 350\" stroke=\"gray\" stroke-width=\"0.5\"/><path d=\"M 30 389 20 370\" stroke=\"gray\" stroke-width=\"0.5\"/><path d=\"M 30 389 55 382\" stroke=\"gray\" stroke-width=\"0.5\"/><path d=\"M 115 397 101 350\" stroke=\"gray\" stroke-width=\"0.5\"/><path d=\"M 66 237 172 269\" stroke=\"gray\" stroke-width=\"0.5\"/><path d=\"M 66 237 56 254\" stroke=\"gray\" stroke-width=\"0.5\"/><path d=\"M 56 254 172 269\" stroke=\"gray\" stroke-width=\"0.5\"/><path d=\"M 56 254 66 237\" stroke=\"gray\" stroke-width=\"0.5\"/><path d=\"M 97 261 172 269\" stroke=\"gray\" stroke-width=\"0.5\"/><path d=\"M 97 261 102 239\" stroke=\"gray\" stroke-width=\"0.5\"/><path d=\"M 167 310 172 269\" stroke=\"gray\" stroke-width=\"0.5\"/><path d=\"M 648 246 620 225\" stroke=\"gray\" stroke-width=\"0.5\"/><path d=\"M 620 225 648 246\" stroke=\"gray\" stroke-width=\"0.5\"/><path d=\"M 102 239 172 269\" stroke=\"gray\" stroke-width=\"0.5\"/><path d=\"M 102 239 97 261\" stroke=\"gray\" stroke-width=\"0.5\"/><path d=\"M 291 291 211 258\" stroke=\"gray\" stroke-width=\"0.5\"/><path d=\"M 291 291 224 297\" stroke=\"gray\" stroke-width=\"0.5\"/><circle cx=\"172\" cy=\"269\" r=\"3.0\" style=\"fill:rgb(179, 3, 38);stroke:black;stroke-width:1.0\"/><circle cx=\"250\" cy=\"232\" r=\"3.0\" style=\"fill:rgb(99, 131, 234);stroke:black;stroke-width:1.0\"/><circle cx=\"679\" cy=\"166\" r=\"3.0\" style=\"fill:rgb(80, 107, 218);stroke:black;stroke-width:1.0\"/><circle cx=\"720\" cy=\"179\" r=\"3.0\" style=\"fill:rgb(80, 107, 218);stroke:black;stroke-width:1.0\"/><circle cx=\"206\" cy=\"211\" r=\"3.0\" style=\"fill:rgb(86, 115, 224);stroke:black;stroke-width:1.0\"/><circle cx=\"54\" cy=\"278\" r=\"3.0\" style=\"fill:rgb(58, 76, 192);stroke:black;stroke-width:1.0\"/><circle cx=\"211\" cy=\"258\" r=\"3.0\" style=\"fill:rgb(112, 147, 243);stroke:black;stroke-width:1.0\"/><circle cx=\"148\" cy=\"349\" r=\"3.0\" style=\"fill:rgb(76, 102, 214);stroke:black;stroke-width:1.0\"/><circle cx=\"124\" cy=\"412\" r=\"3.0\" style=\"fill:rgb(60, 79, 195);stroke:black;stroke-width:1.0\"/><circle cx=\"514\" cy=\"356\" r=\"3.0\" style=\"fill:rgb(80, 107, 218);stroke:black;stroke-width:1.0\"/><circle cx=\"489\" cy=\"376\" r=\"3.0\" style=\"fill:rgb(80, 107, 218);stroke:black;stroke-width:1.0\"/><circle cx=\"536\" cy=\"375\" r=\"3.0\" style=\"fill:rgb(80, 107, 218);stroke:black;stroke-width:1.0\"/><circle cx=\"471\" cy=\"20\" r=\"3.0\" style=\"fill:rgb(80, 107, 218);stroke:black;stroke-width:1.0\"/><circle cx=\"276\" cy=\"208\" r=\"3.0\" style=\"fill:rgb(86, 115, 224);stroke:black;stroke-width:1.0\"/><circle cx=\"78\" cy=\"293\" r=\"3.0\" style=\"fill:rgb(58, 76, 192);stroke:black;stroke-width:1.0\"/><circle cx=\"336\" cy=\"149\" r=\"3.0\" style=\"fill:rgb(58, 76, 192);stroke:black;stroke-width:1.0\"/><circle cx=\"244\" cy=\"186\" r=\"3.0\" style=\"fill:rgb(105, 139, 239);stroke:black;stroke-width:1.0\"/><circle cx=\"405\" cy=\"520\" r=\"3.0\" style=\"fill:rgb(60, 79, 195);stroke:black;stroke-width:1.0\"/><circle cx=\"416\" cy=\"494\" r=\"3.0\" style=\"fill:rgb(88, 118, 226);stroke:black;stroke-width:1.0\"/><circle cx=\"446\" cy=\"497\" r=\"3.0\" style=\"fill:rgb(88, 118, 226);stroke:black;stroke-width:1.0\"/><circle cx=\"467\" cy=\"478\" r=\"3.0\" style=\"fill:rgb(80, 107, 218);stroke:black;stroke-width:1.0\"/><circle cx=\"412\" cy=\"476\" r=\"3.0\" style=\"fill:rgb(80, 107, 218);stroke:black;stroke-width:1.0\"/><circle cx=\"441\" cy=\"468\" r=\"3.0\" style=\"fill:rgb(80, 107, 218);stroke:black;stroke-width:1.0\"/><circle cx=\"314\" cy=\"170\" r=\"3.0\" style=\"fill:rgb(72, 96, 209);stroke:black;stroke-width:1.0\"/><circle cx=\"349\" cy=\"177\" r=\"3.0\" style=\"fill:rgb(72, 96, 209);stroke:black;stroke-width:1.0\"/><circle cx=\"263\" cy=\"130\" r=\"3.0\" style=\"fill:rgb(58, 76, 192);stroke:black;stroke-width:1.0\"/><circle cx=\"174\" cy=\"223\" r=\"3.0\" style=\"fill:rgb(58, 76, 192);stroke:black;stroke-width:1.0\"/><circle cx=\"178\" cy=\"239\" r=\"3.0\" style=\"fill:rgb(70, 93, 207);stroke:black;stroke-width:1.0\"/><circle cx=\"357\" cy=\"231\" r=\"3.0\" style=\"fill:rgb(58, 76, 192);stroke:black;stroke-width:1.0\"/><circle cx=\"114\" cy=\"302\" r=\"3.0\" style=\"fill:rgb(58, 76, 192);stroke:black;stroke-width:1.0\"/><circle cx=\"279\" cy=\"249\" r=\"3.0\" style=\"fill:rgb(58, 76, 192);stroke:black;stroke-width:1.0\"/><circle cx=\"278\" cy=\"274\" r=\"3.0\" style=\"fill:rgb(58, 76, 192);stroke:black;stroke-width:1.0\"/><circle cx=\"143\" cy=\"204\" r=\"3.0\" style=\"fill:rgb(58, 76, 192);stroke:black;stroke-width:1.0\"/><circle cx=\"250\" cy=\"309\" r=\"3.0\" style=\"fill:rgb(58, 76, 192);stroke:black;stroke-width:1.0\"/><circle cx=\"242\" cy=\"262\" r=\"3.0\" style=\"fill:rgb(70, 93, 207);stroke:black;stroke-width:1.0\"/><circle cx=\"196\" cy=\"336\" r=\"3.0\" style=\"fill:rgb(96, 128, 232);stroke:black;stroke-width:1.0\"/><circle cx=\"224\" cy=\"297\" r=\"3.0\" style=\"fill:rgb(96, 128, 232);stroke:black;stroke-width:1.0\"/><circle cx=\"101\" cy=\"350\" r=\"3.0\" style=\"fill:rgb(120, 155, 247);stroke:black;stroke-width:1.0\"/><circle cx=\"245\" cy=\"386\" r=\"3.0\" style=\"fill:rgb(58, 76, 192);stroke:black;stroke-width:1.0\"/><circle cx=\"20\" cy=\"370\" r=\"3.0\" style=\"fill:rgb(80, 107, 218);stroke:black;stroke-width:1.0\"/><circle cx=\"55\" cy=\"382\" r=\"3.0\" style=\"fill:rgb(80, 107, 218);stroke:black;stroke-width:1.0\"/><circle cx=\"30\" cy=\"389\" r=\"3.0\" style=\"fill:rgb(80, 107, 218);stroke:black;stroke-width:1.0\"/><circle cx=\"115\" cy=\"397\" r=\"3.0\" style=\"fill:rgb(58, 76, 192);stroke:black;stroke-width:1.0\"/><circle cx=\"66\" cy=\"237\" r=\"3.0\" style=\"fill:rgb(70, 93, 207);stroke:black;stroke-width:1.0\"/><circle cx=\"56\" cy=\"254\" r=\"3.0\" style=\"fill:rgb(70, 93, 207);stroke:black;stroke-width:1.0\"/><circle cx=\"97\" cy=\"261\" r=\"3.0\" style=\"fill:rgb(70, 93, 207);stroke:black;stroke-width:1.0\"/><circle cx=\"167\" cy=\"310\" r=\"3.0\" style=\"fill:rgb(58, 76, 192);stroke:black;stroke-width:1.0\"/><circle cx=\"648\" cy=\"246\" r=\"3.0\" style=\"fill:rgb(80, 107, 218);stroke:black;stroke-width:1.0\"/><circle cx=\"620\" cy=\"225\" r=\"3.0\" style=\"fill:rgb(80, 107, 218);stroke:black;stroke-width:1.0\"/><circle cx=\"102\" cy=\"239\" r=\"3.0\" style=\"fill:rgb(70, 93, 207);stroke:black;stroke-width:1.0\"/><circle cx=\"291\" cy=\"291\" r=\"3.0\" style=\"fill:rgb(70, 93, 207);stroke:black;stroke-width:1.0\"/><text font-size=\"10\" x=\"178\" y=\"272\">Alice</text><text font-size=\"10\" x=\"256\" y=\"235\">Rabbit</text><text font-size=\"10\" x=\"685\" y=\"169\">Australia</text><text font-size=\"10\" x=\"726\" y=\"182\">New Zealand</text><text font-size=\"10\" x=\"212\" y=\"214\">Dinah</text><text font-size=\"10\" x=\"60\" y=\"281\">Fender</text><text font-size=\"10\" x=\"217\" y=\"261\">Duchess</text><text font-size=\"10\" x=\"154\" y=\"352\">Mabel</text><text font-size=\"10\" x=\"130\" y=\"415\">Ada</text><text font-size=\"10\" x=\"520\" y=\"359\">Rome</text><text font-size=\"10\" x=\"495\" y=\"379\">London</text><text font-size=\"10\" x=\"542\" y=\"378\">Paris</text><text font-size=\"10\" x=\"477\" y=\"23\">Nile</text><text font-size=\"10\" x=\"282\" y=\"211\">Mouse</text><text font-size=\"10\" x=\"84\" y=\"296\">William the Conqueror</text><text font-size=\"10\" x=\"342\" y=\"152\">Eaglet</text><text font-size=\"10\" x=\"250\" y=\"189\">Lory</text><text font-size=\"10\" x=\"411\" y=\"523\">Edwin</text><text font-size=\"10\" x=\"422\" y=\"497\">Morcar</text><text font-size=\"10\" x=\"452\" y=\"500\">Northumbria</text><text font-size=\"10\" x=\"473\" y=\"481\">Stigand</text><text font-size=\"10\" x=\"418\" y=\"479\">Mercia</text><text font-size=\"10\" x=\"447\" y=\"471\">Canterbury</text><text font-size=\"10\" x=\"320\" y=\"173\">Edgar Atheling</text><text font-size=\"10\" x=\"355\" y=\"180\">William</text><text font-size=\"10\" x=\"269\" y=\"133\">Crab</text><text font-size=\"10\" x=\"180\" y=\"226\">Bill</text><text font-size=\"10\" x=\"184\" y=\"242\">Mary Ann</text><text font-size=\"10\" x=\"363\" y=\"234\">Pat</text><text font-size=\"10\" x=\"120\" y=\"305\">Caterpillar</text><text font-size=\"10\" x=\"285\" y=\"252\">Pigeon</text><text font-size=\"10\" x=\"284\" y=\"277\">Fish-Footman</text><text font-size=\"10\" x=\"149\" y=\"207\">Cheshire</text><text font-size=\"10\" x=\"256\" y=\"312\">Cheshire Cat</text><text font-size=\"10\" x=\"248\" y=\"265\">Cat</text><text font-size=\"10\" x=\"202\" y=\"339\">Hatter</text><text font-size=\"10\" x=\"230\" y=\"300\">Hare</text><text font-size=\"10\" x=\"107\" y=\"353\">Dormouse</text><text font-size=\"10\" x=\"251\" y=\"389\">Time</text><text font-size=\"10\" x=\"26\" y=\"373\">Lacie</text><text font-size=\"10\" x=\"61\" y=\"385\">Elsie</text><text font-size=\"10\" x=\"36\" y=\"392\">Tillie</text><text font-size=\"10\" x=\"121\" y=\"400\">Treacle</text><text font-size=\"10\" x=\"72\" y=\"240\">Kings</text><text font-size=\"10\" x=\"62\" y=\"257\">Queens</text><text font-size=\"10\" x=\"103\" y=\"264\">Gryphon</text><text font-size=\"10\" x=\"173\" y=\"313\">Lobster Quadrille</text><text font-size=\"10\" x=\"654\" y=\"249\">France</text><text font-size=\"10\" x=\"626\" y=\"228\">England</text><text font-size=\"10\" x=\"108\" y=\"242\">Soup</text><text font-size=\"10\" x=\"297\" y=\"294\">Lizard</text></svg>"
      ],
      "text/plain": [
       "<IPython.core.display.SVG object>"
      ]
     },
     "execution_count": 10,
     "metadata": {},
     "output_type": "execute_result"
    }
   ],
   "source": [
    "draw_graph(G, show_names=True, node_size=3)"
   ]
  },
  {
   "cell_type": "code",
   "execution_count": 11,
   "id": "95b726e1",
   "metadata": {},
   "outputs": [
    {
     "data": {
      "text/plain": [
       "['Ada',\n",
       " 'Alice',\n",
       " 'Australia',\n",
       " 'Bill',\n",
       " 'Canterbury',\n",
       " 'Cat',\n",
       " 'Caterpillar',\n",
       " 'Cheshire',\n",
       " 'Cheshire Cat',\n",
       " 'Crab',\n",
       " 'Dinah',\n",
       " 'Dormouse',\n",
       " 'Duchess',\n",
       " 'Eaglet',\n",
       " 'Edgar Atheling',\n",
       " 'Edwin',\n",
       " 'Elsie',\n",
       " 'England',\n",
       " 'Fender',\n",
       " 'Fish-Footman']"
      ]
     },
     "execution_count": 11,
     "metadata": {},
     "output_type": "execute_result"
    }
   ],
   "source": [
    "# use this to look through nodes, twenty at a time; change indexes to look around; learn pandas indexing\n",
    "# useful for identifying junk nodes to remove\n",
    "\n",
    "sorted(G.nodes)[0:20]"
   ]
  },
  {
   "cell_type": "markdown",
   "id": "5fe51bc4",
   "metadata": {},
   "source": [
    "# New Approach #2, But Inspecting Sentences\n",
    "\n",
    "This isn't meant to be immediately useful. I am just curious to see if I can see what parts of the network are active based on the sentence number of the sentence that entities were extracted from. If so, that seems like it could be useful, somehow, someday, with more thought.\n",
    "\n",
    "It's neat that there is a core to this and that the network has been projected differently."
   ]
  },
  {
   "cell_type": "code",
   "execution_count": 15,
   "id": "9f4b6795",
   "metadata": {},
   "outputs": [],
   "source": [
    "B = nx.from_pandas_edgelist(entity_df, source='entity', target='sentence') # new approach\n",
    "G_sent = bipartite.projected_graph(B, entity_df['sentence'])\n",
    "\n",
    "# wrangling\n",
    "G_sent = nx.k_core(G_sent, 1) # quickly remove disconnected junk nodes"
   ]
  },
  {
   "cell_type": "code",
   "execution_count": 16,
   "id": "0501a59b",
   "metadata": {},
   "outputs": [
    {
     "data": {
      "image/svg+xml": [
       "<svg height=\"540\" width=\"755.0\" xmlns=\"http://www.w3.org/2000/svg\"><path d=\"M 278 269 298 248\" stroke=\"gray\" stroke-width=\"0.5\"/><path d=\"M 278 269 286 275\" stroke=\"gray\" stroke-width=\"0.5\"/><path d=\"M 278 269 289 265\" stroke=\"gray\" stroke-width=\"0.5\"/><path d=\"M 278 269 311 276\" stroke=\"gray\" stroke-width=\"0.5\"/><path d=\"M 278 269 276 278\" stroke=\"gray\" stroke-width=\"0.5\"/><path d=\"M 278 269 292 302\" stroke=\"gray\" stroke-width=\"0.5\"/><path d=\"M 278 269 240 243\" stroke=\"gray\" stroke-width=\"0.5\"/><path d=\"M 278 269 285 230\" stroke=\"gray\" stroke-width=\"0.5\"/><path d=\"M 278 269 259 244\" stroke=\"gray\" stroke-width=\"0.5\"/><path d=\"M 278 269 273 291\" stroke=\"gray\" stroke-width=\"0.5\"/><path d=\"M 278 269 273 234\" stroke=\"gray\" stroke-width=\"0.5\"/><path d=\"M 278 269 285 239\" stroke=\"gray\" stroke-width=\"0.5\"/><path d=\"M 278 269 293 240\" stroke=\"gray\" stroke-width=\"0.5\"/><path d=\"M 278 269 266 239\" stroke=\"gray\" stroke-width=\"0.5\"/><path d=\"M 278 269 270 260\" stroke=\"gray\" stroke-width=\"0.5\"/><path d=\"M 278 269 298 230\" stroke=\"gray\" stroke-width=\"0.5\"/><path d=\"M 278 269 261 254\" stroke=\"gray\" stroke-width=\"0.5\"/><path d=\"M 278 269 249 263\" stroke=\"gray\" stroke-width=\"0.5\"/><path d=\"M 278 269 259 283\" stroke=\"gray\" stroke-width=\"0.5\"/><path d=\"M 278 269 246 275\" stroke=\"gray\" stroke-width=\"0.5\"/><path d=\"M 278 269 255 271\" stroke=\"gray\" stroke-width=\"0.5\"/><path d=\"M 278 269 290 256\" stroke=\"gray\" stroke-width=\"0.5\"/><path d=\"M 278 269 308 258\" stroke=\"gray\" stroke-width=\"0.5\"/><path d=\"M 278 269 307 251\" stroke=\"gray\" stroke-width=\"0.5\"/><path d=\"M 278 269 269 271\" stroke=\"gray\" stroke-width=\"0.5\"/><path d=\"M 278 269 278 251\" stroke=\"gray\" stroke-width=\"0.5\"/><path d=\"M 278 269 280 259\" stroke=\"gray\" stroke-width=\"0.5\"/><path d=\"M 278 269 294 275\" stroke=\"gray\" stroke-width=\"0.5\"/><path d=\"M 278 269 298 266\" stroke=\"gray\" stroke-width=\"0.5\"/><path d=\"M 278 269 300 297\" stroke=\"gray\" stroke-width=\"0.5\"/><path d=\"M 278 269 285 289\" stroke=\"gray\" stroke-width=\"0.5\"/><path d=\"M 298 248 278 269\" stroke=\"gray\" stroke-width=\"0.5\"/><path d=\"M 298 248 286 275\" stroke=\"gray\" stroke-width=\"0.5\"/><path d=\"M 298 248 312 177\" stroke=\"gray\" stroke-width=\"0.5\"/><path d=\"M 298 248 289 265\" stroke=\"gray\" stroke-width=\"0.5\"/><path d=\"M 298 248 311 276\" stroke=\"gray\" stroke-width=\"0.5\"/><path d=\"M 298 248 276 278\" stroke=\"gray\" stroke-width=\"0.5\"/><path d=\"M 298 248 292 302\" stroke=\"gray\" stroke-width=\"0.5\"/><path d=\"M 298 248 240 243\" stroke=\"gray\" stroke-width=\"0.5\"/><path d=\"M 298 248 285 230\" stroke=\"gray\" stroke-width=\"0.5\"/><path d=\"M 298 248 259 244\" stroke=\"gray\" stroke-width=\"0.5\"/><path d=\"M 298 248 363 203\" stroke=\"gray\" stroke-width=\"0.5\"/><path d=\"M 298 248 273 291\" stroke=\"gray\" stroke-width=\"0.5\"/><path d=\"M 298 248 273 234\" stroke=\"gray\" stroke-width=\"0.5\"/><path d=\"M 298 248 285 239\" stroke=\"gray\" stroke-width=\"0.5\"/><path d=\"M 298 248 293 240\" stroke=\"gray\" stroke-width=\"0.5\"/><path d=\"M 298 248 266 239\" stroke=\"gray\" stroke-width=\"0.5\"/><path d=\"M 298 248 270 260\" stroke=\"gray\" stroke-width=\"0.5\"/><path d=\"M 298 248 298 230\" stroke=\"gray\" stroke-width=\"0.5\"/><path d=\"M 298 248 261 254\" stroke=\"gray\" stroke-width=\"0.5\"/><path d=\"M 298 248 249 263\" stroke=\"gray\" stroke-width=\"0.5\"/><path d=\"M 298 248 259 283\" stroke=\"gray\" stroke-width=\"0.5\"/><path d=\"M 298 248 246 275\" stroke=\"gray\" stroke-width=\"0.5\"/><path d=\"M 298 248 255 271\" stroke=\"gray\" stroke-width=\"0.5\"/><path d=\"M 298 248 290 256\" stroke=\"gray\" stroke-width=\"0.5\"/><path d=\"M 298 248 308 258\" stroke=\"gray\" stroke-width=\"0.5\"/><path d=\"M 298 248 307 251\" stroke=\"gray\" stroke-width=\"0.5\"/><path d=\"M 298 248 269 271\" stroke=\"gray\" stroke-width=\"0.5\"/><path d=\"M 298 248 278 251\" stroke=\"gray\" stroke-width=\"0.5\"/><path d=\"M 298 248 280 259\" stroke=\"gray\" stroke-width=\"0.5\"/><path d=\"M 298 248 294 275\" stroke=\"gray\" stroke-width=\"0.5\"/><path d=\"M 298 248 298 266\" stroke=\"gray\" stroke-width=\"0.5\"/><path d=\"M 298 248 300 297\" stroke=\"gray\" stroke-width=\"0.5\"/><path d=\"M 298 248 285 289\" stroke=\"gray\" stroke-width=\"0.5\"/><path d=\"M 286 275 278 269\" stroke=\"gray\" stroke-width=\"0.5\"/><path d=\"M 286 275 298 248\" stroke=\"gray\" stroke-width=\"0.5\"/><path d=\"M 286 275 289 265\" stroke=\"gray\" stroke-width=\"0.5\"/><path d=\"M 286 275 311 276\" stroke=\"gray\" stroke-width=\"0.5\"/><path d=\"M 286 275 276 278\" stroke=\"gray\" stroke-width=\"0.5\"/><path d=\"M 286 275 292 302\" stroke=\"gray\" stroke-width=\"0.5\"/><path d=\"M 286 275 240 243\" stroke=\"gray\" stroke-width=\"0.5\"/><path d=\"M 286 275 285 230\" stroke=\"gray\" stroke-width=\"0.5\"/><path d=\"M 286 275 259 244\" stroke=\"gray\" stroke-width=\"0.5\"/><path d=\"M 286 275 273 291\" stroke=\"gray\" stroke-width=\"0.5\"/><path d=\"M 286 275 273 234\" stroke=\"gray\" stroke-width=\"0.5\"/><path d=\"M 286 275 285 239\" stroke=\"gray\" stroke-width=\"0.5\"/><path d=\"M 286 275 293 240\" stroke=\"gray\" stroke-width=\"0.5\"/><path d=\"M 286 275 266 239\" stroke=\"gray\" stroke-width=\"0.5\"/><path d=\"M 286 275 270 260\" stroke=\"gray\" stroke-width=\"0.5\"/><path d=\"M 286 275 298 230\" stroke=\"gray\" stroke-width=\"0.5\"/><path d=\"M 286 275 261 254\" stroke=\"gray\" stroke-width=\"0.5\"/><path d=\"M 286 275 249 263\" stroke=\"gray\" stroke-width=\"0.5\"/><path d=\"M 286 275 259 283\" stroke=\"gray\" stroke-width=\"0.5\"/><path d=\"M 286 275 246 275\" stroke=\"gray\" stroke-width=\"0.5\"/><path d=\"M 286 275 255 271\" stroke=\"gray\" stroke-width=\"0.5\"/><path d=\"M 286 275 290 256\" stroke=\"gray\" stroke-width=\"0.5\"/><path d=\"M 286 275 308 258\" stroke=\"gray\" stroke-width=\"0.5\"/><path d=\"M 286 275 307 251\" stroke=\"gray\" stroke-width=\"0.5\"/><path d=\"M 286 275 269 271\" stroke=\"gray\" stroke-width=\"0.5\"/><path d=\"M 286 275 278 251\" stroke=\"gray\" stroke-width=\"0.5\"/><path d=\"M 286 275 280 259\" stroke=\"gray\" stroke-width=\"0.5\"/><path d=\"M 286 275 294 275\" stroke=\"gray\" stroke-width=\"0.5\"/><path d=\"M 286 275 298 266\" stroke=\"gray\" stroke-width=\"0.5\"/><path d=\"M 286 275 300 297\" stroke=\"gray\" stroke-width=\"0.5\"/><path d=\"M 286 275 285 289\" stroke=\"gray\" stroke-width=\"0.5\"/><path d=\"M 218 169 181 197\" stroke=\"gray\" stroke-width=\"0.5\"/><path d=\"M 218 169 259 244\" stroke=\"gray\" stroke-width=\"0.5\"/><path d=\"M 218 169 273 234\" stroke=\"gray\" stroke-width=\"0.5\"/><path d=\"M 314 381 276 371\" stroke=\"gray\" stroke-width=\"0.5\"/><path d=\"M 314 381 285 289\" stroke=\"gray\" stroke-width=\"0.5\"/><path d=\"M 312 177 298 248\" stroke=\"gray\" stroke-width=\"0.5\"/><path d=\"M 312 177 285 230\" stroke=\"gray\" stroke-width=\"0.5\"/><path d=\"M 312 177 363 203\" stroke=\"gray\" stroke-width=\"0.5\"/><path d=\"M 312 177 273 234\" stroke=\"gray\" stroke-width=\"0.5\"/><path d=\"M 289 265 278 269\" stroke=\"gray\" stroke-width=\"0.5\"/><path d=\"M 289 265 298 248\" stroke=\"gray\" stroke-width=\"0.5\"/><path d=\"M 289 265 286 275\" stroke=\"gray\" stroke-width=\"0.5\"/><path d=\"M 289 265 311 276\" stroke=\"gray\" stroke-width=\"0.5\"/><path d=\"M 289 265 276 278\" stroke=\"gray\" stroke-width=\"0.5\"/><path d=\"M 289 265 292 302\" stroke=\"gray\" stroke-width=\"0.5\"/><path d=\"M 289 265 240 243\" stroke=\"gray\" stroke-width=\"0.5\"/><path d=\"M 289 265 285 230\" stroke=\"gray\" stroke-width=\"0.5\"/><path d=\"M 289 265 259 244\" stroke=\"gray\" stroke-width=\"0.5\"/><path d=\"M 289 265 273 291\" stroke=\"gray\" stroke-width=\"0.5\"/><path d=\"M 289 265 273 234\" stroke=\"gray\" stroke-width=\"0.5\"/><path d=\"M 289 265 285 239\" stroke=\"gray\" stroke-width=\"0.5\"/><path d=\"M 289 265 293 240\" stroke=\"gray\" stroke-width=\"0.5\"/><path d=\"M 289 265 266 239\" stroke=\"gray\" stroke-width=\"0.5\"/><path d=\"M 289 265 270 260\" stroke=\"gray\" stroke-width=\"0.5\"/><path d=\"M 289 265 298 230\" stroke=\"gray\" stroke-width=\"0.5\"/><path d=\"M 289 265 261 254\" stroke=\"gray\" stroke-width=\"0.5\"/><path d=\"M 289 265 249 263\" stroke=\"gray\" stroke-width=\"0.5\"/><path d=\"M 289 265 259 283\" stroke=\"gray\" stroke-width=\"0.5\"/><path d=\"M 289 265 246 275\" stroke=\"gray\" stroke-width=\"0.5\"/><path d=\"M 289 265 255 271\" stroke=\"gray\" stroke-width=\"0.5\"/><path d=\"M 289 265 290 256\" stroke=\"gray\" stroke-width=\"0.5\"/><path d=\"M 289 265 308 258\" stroke=\"gray\" stroke-width=\"0.5\"/><path d=\"M 289 265 307 251\" stroke=\"gray\" stroke-width=\"0.5\"/><path d=\"M 289 265 269 271\" stroke=\"gray\" stroke-width=\"0.5\"/><path d=\"M 289 265 278 251\" stroke=\"gray\" stroke-width=\"0.5\"/><path d=\"M 289 265 280 259\" stroke=\"gray\" stroke-width=\"0.5\"/><path d=\"M 289 265 294 275\" stroke=\"gray\" stroke-width=\"0.5\"/><path d=\"M 289 265 298 266\" stroke=\"gray\" stroke-width=\"0.5\"/><path d=\"M 289 265 300 297\" stroke=\"gray\" stroke-width=\"0.5\"/><path d=\"M 289 265 285 289\" stroke=\"gray\" stroke-width=\"0.5\"/><path d=\"M 330 139 349 119\" stroke=\"gray\" stroke-width=\"0.5\"/><path d=\"M 330 139 298 230\" stroke=\"gray\" stroke-width=\"0.5\"/><path d=\"M 330 139 350 181\" stroke=\"gray\" stroke-width=\"0.5\"/><path d=\"M 330 139 261 191\" stroke=\"gray\" stroke-width=\"0.5\"/><path d=\"M 417 311 408 334\" stroke=\"gray\" stroke-width=\"0.5\"/><path d=\"M 417 311 311 276\" stroke=\"gray\" stroke-width=\"0.5\"/><path d=\"M 408 334 417 311\" stroke=\"gray\" stroke-width=\"0.5\"/><path d=\"M 408 334 311 276\" stroke=\"gray\" stroke-width=\"0.5\"/><path d=\"M 311 276 278 269\" stroke=\"gray\" stroke-width=\"0.5\"/><path d=\"M 311 276 298 248\" stroke=\"gray\" stroke-width=\"0.5\"/><path d=\"M 311 276 286 275\" stroke=\"gray\" stroke-width=\"0.5\"/><path d=\"M 311 276 289 265\" stroke=\"gray\" stroke-width=\"0.5\"/><path d=\"M 311 276 417 311\" stroke=\"gray\" stroke-width=\"0.5\"/><path d=\"M 311 276 408 334\" stroke=\"gray\" stroke-width=\"0.5\"/><path d=\"M 311 276 276 278\" stroke=\"gray\" stroke-width=\"0.5\"/><path d=\"M 311 276 292 302\" stroke=\"gray\" stroke-width=\"0.5\"/><path d=\"M 311 276 240 243\" stroke=\"gray\" stroke-width=\"0.5\"/><path d=\"M 311 276 285 230\" stroke=\"gray\" stroke-width=\"0.5\"/><path d=\"M 311 276 259 244\" stroke=\"gray\" stroke-width=\"0.5\"/><path d=\"M 311 276 273 291\" stroke=\"gray\" stroke-width=\"0.5\"/><path d=\"M 311 276 273 234\" stroke=\"gray\" stroke-width=\"0.5\"/><path d=\"M 311 276 285 239\" stroke=\"gray\" stroke-width=\"0.5\"/><path d=\"M 311 276 293 240\" stroke=\"gray\" stroke-width=\"0.5\"/><path d=\"M 311 276 266 239\" stroke=\"gray\" stroke-width=\"0.5\"/><path d=\"M 311 276 270 260\" stroke=\"gray\" stroke-width=\"0.5\"/><path d=\"M 311 276 298 230\" stroke=\"gray\" stroke-width=\"0.5\"/><path d=\"M 311 276 261 254\" stroke=\"gray\" stroke-width=\"0.5\"/><path d=\"M 311 276 249 263\" stroke=\"gray\" stroke-width=\"0.5\"/><path d=\"M 311 276 259 283\" stroke=\"gray\" stroke-width=\"0.5\"/><path d=\"M 311 276 246 275\" stroke=\"gray\" stroke-width=\"0.5\"/><path d=\"M 311 276 255 271\" stroke=\"gray\" stroke-width=\"0.5\"/><path d=\"M 311 276 290 256\" stroke=\"gray\" stroke-width=\"0.5\"/><path d=\"M 311 276 308 258\" stroke=\"gray\" stroke-width=\"0.5\"/><path d=\"M 311 276 307 251\" stroke=\"gray\" stroke-width=\"0.5\"/><path d=\"M 311 276 269 271\" stroke=\"gray\" stroke-width=\"0.5\"/><path d=\"M 311 276 278 251\" stroke=\"gray\" stroke-width=\"0.5\"/><path d=\"M 311 276 280 259\" stroke=\"gray\" stroke-width=\"0.5\"/><path d=\"M 311 276 294 275\" stroke=\"gray\" stroke-width=\"0.5\"/><path d=\"M 311 276 298 266\" stroke=\"gray\" stroke-width=\"0.5\"/><path d=\"M 311 276 300 297\" stroke=\"gray\" stroke-width=\"0.5\"/><path d=\"M 311 276 285 289\" stroke=\"gray\" stroke-width=\"0.5\"/><path d=\"M 338 408 292 302\" stroke=\"gray\" stroke-width=\"0.5\"/><path d=\"M 338 408 292 437\" stroke=\"gray\" stroke-width=\"0.5\"/><path d=\"M 338 408 371 399\" stroke=\"gray\" stroke-width=\"0.5\"/><path d=\"M 276 278 278 269\" stroke=\"gray\" stroke-width=\"0.5\"/><path d=\"M 276 278 298 248\" stroke=\"gray\" stroke-width=\"0.5\"/><path d=\"M 276 278 286 275\" stroke=\"gray\" stroke-width=\"0.5\"/><path d=\"M 276 278 289 265\" stroke=\"gray\" stroke-width=\"0.5\"/><path d=\"M 276 278 311 276\" stroke=\"gray\" stroke-width=\"0.5\"/><path d=\"M 276 278 292 302\" stroke=\"gray\" stroke-width=\"0.5\"/><path d=\"M 276 278 240 243\" stroke=\"gray\" stroke-width=\"0.5\"/><path d=\"M 276 278 285 230\" stroke=\"gray\" stroke-width=\"0.5\"/><path d=\"M 276 278 259 244\" stroke=\"gray\" stroke-width=\"0.5\"/><path d=\"M 276 278 273 291\" stroke=\"gray\" stroke-width=\"0.5\"/><path d=\"M 276 278 273 234\" stroke=\"gray\" stroke-width=\"0.5\"/><path d=\"M 276 278 285 239\" stroke=\"gray\" stroke-width=\"0.5\"/><path d=\"M 276 278 293 240\" stroke=\"gray\" stroke-width=\"0.5\"/><path d=\"M 276 278 266 239\" stroke=\"gray\" stroke-width=\"0.5\"/><path d=\"M 276 278 270 260\" stroke=\"gray\" stroke-width=\"0.5\"/><path d=\"M 276 278 298 230\" stroke=\"gray\" stroke-width=\"0.5\"/><path d=\"M 276 278 261 254\" stroke=\"gray\" stroke-width=\"0.5\"/><path d=\"M 276 278 249 263\" stroke=\"gray\" stroke-width=\"0.5\"/><path d=\"M 276 278 259 283\" stroke=\"gray\" stroke-width=\"0.5\"/><path d=\"M 276 278 246 275\" stroke=\"gray\" stroke-width=\"0.5\"/><path d=\"M 276 278 255 271\" stroke=\"gray\" stroke-width=\"0.5\"/><path d=\"M 276 278 290 256\" stroke=\"gray\" stroke-width=\"0.5\"/><path d=\"M 276 278 308 258\" stroke=\"gray\" stroke-width=\"0.5\"/><path d=\"M 276 278 307 251\" stroke=\"gray\" stroke-width=\"0.5\"/><path d=\"M 276 278 269 271\" stroke=\"gray\" stroke-width=\"0.5\"/><path d=\"M 276 278 278 251\" stroke=\"gray\" stroke-width=\"0.5\"/><path d=\"M 276 278 280 259\" stroke=\"gray\" stroke-width=\"0.5\"/><path d=\"M 276 278 294 275\" stroke=\"gray\" stroke-width=\"0.5\"/><path d=\"M 276 278 298 266\" stroke=\"gray\" stroke-width=\"0.5\"/><path d=\"M 276 278 300 297\" stroke=\"gray\" stroke-width=\"0.5\"/><path d=\"M 276 278 285 289\" stroke=\"gray\" stroke-width=\"0.5\"/><path d=\"M 292 302 278 269\" stroke=\"gray\" stroke-width=\"0.5\"/><path d=\"M 292 302 298 248\" stroke=\"gray\" stroke-width=\"0.5\"/><path d=\"M 292 302 286 275\" stroke=\"gray\" stroke-width=\"0.5\"/><path d=\"M 292 302 289 265\" stroke=\"gray\" stroke-width=\"0.5\"/><path d=\"M 292 302 311 276\" stroke=\"gray\" stroke-width=\"0.5\"/><path d=\"M 292 302 338 408\" stroke=\"gray\" stroke-width=\"0.5\"/><path d=\"M 292 302 276 278\" stroke=\"gray\" stroke-width=\"0.5\"/><path d=\"M 292 302 240 243\" stroke=\"gray\" stroke-width=\"0.5\"/><path d=\"M 292 302 292 437\" stroke=\"gray\" stroke-width=\"0.5\"/><path d=\"M 292 302 371 399\" stroke=\"gray\" stroke-width=\"0.5\"/><path d=\"M 292 302 285 230\" stroke=\"gray\" stroke-width=\"0.5\"/><path d=\"M 292 302 259 244\" stroke=\"gray\" stroke-width=\"0.5\"/><path d=\"M 292 302 273 291\" stroke=\"gray\" stroke-width=\"0.5\"/><path d=\"M 292 302 273 234\" stroke=\"gray\" stroke-width=\"0.5\"/><path d=\"M 292 302 285 239\" stroke=\"gray\" stroke-width=\"0.5\"/><path d=\"M 292 302 293 240\" stroke=\"gray\" stroke-width=\"0.5\"/><path d=\"M 292 302 266 239\" stroke=\"gray\" stroke-width=\"0.5\"/><path d=\"M 292 302 270 260\" stroke=\"gray\" stroke-width=\"0.5\"/><path d=\"M 292 302 298 230\" stroke=\"gray\" stroke-width=\"0.5\"/><path d=\"M 292 302 261 254\" stroke=\"gray\" stroke-width=\"0.5\"/><path d=\"M 292 302 249 263\" stroke=\"gray\" stroke-width=\"0.5\"/><path d=\"M 292 302 259 283\" stroke=\"gray\" stroke-width=\"0.5\"/><path d=\"M 292 302 246 275\" stroke=\"gray\" stroke-width=\"0.5\"/><path d=\"M 292 302 255 271\" stroke=\"gray\" stroke-width=\"0.5\"/><path d=\"M 292 302 290 256\" stroke=\"gray\" stroke-width=\"0.5\"/><path d=\"M 292 302 308 258\" stroke=\"gray\" stroke-width=\"0.5\"/><path d=\"M 292 302 307 251\" stroke=\"gray\" stroke-width=\"0.5\"/><path d=\"M 292 302 269 271\" stroke=\"gray\" stroke-width=\"0.5\"/><path d=\"M 292 302 278 251\" stroke=\"gray\" stroke-width=\"0.5\"/><path d=\"M 292 302 280 259\" stroke=\"gray\" stroke-width=\"0.5\"/><path d=\"M 292 302 294 275\" stroke=\"gray\" stroke-width=\"0.5\"/><path d=\"M 292 302 298 266\" stroke=\"gray\" stroke-width=\"0.5\"/><path d=\"M 292 302 300 297\" stroke=\"gray\" stroke-width=\"0.5\"/><path d=\"M 292 302 285 289\" stroke=\"gray\" stroke-width=\"0.5\"/><path d=\"M 113 177 240 243\" stroke=\"gray\" stroke-width=\"0.5\"/><path d=\"M 113 177 130 213\" stroke=\"gray\" stroke-width=\"0.5\"/><path d=\"M 113 177 20 126\" stroke=\"gray\" stroke-width=\"0.5\"/><path d=\"M 113 177 124 185\" stroke=\"gray\" stroke-width=\"0.5\"/><path d=\"M 113 177 181 197\" stroke=\"gray\" stroke-width=\"0.5\"/><path d=\"M 240 243 278 269\" stroke=\"gray\" stroke-width=\"0.5\"/><path d=\"M 240 243 298 248\" stroke=\"gray\" stroke-width=\"0.5\"/><path d=\"M 240 243 286 275\" stroke=\"gray\" stroke-width=\"0.5\"/><path d=\"M 240 243 289 265\" stroke=\"gray\" stroke-width=\"0.5\"/><path d=\"M 240 243 311 276\" stroke=\"gray\" stroke-width=\"0.5\"/><path d=\"M 240 243 276 278\" stroke=\"gray\" stroke-width=\"0.5\"/><path d=\"M 240 243 292 302\" stroke=\"gray\" stroke-width=\"0.5\"/><path d=\"M 240 243 113 177\" stroke=\"gray\" stroke-width=\"0.5\"/><path d=\"M 240 243 130 213\" stroke=\"gray\" stroke-width=\"0.5\"/><path d=\"M 240 243 124 185\" stroke=\"gray\" stroke-width=\"0.5\"/><path d=\"M 240 243 181 197\" stroke=\"gray\" stroke-width=\"0.5\"/><path d=\"M 240 243 285 230\" stroke=\"gray\" stroke-width=\"0.5\"/><path d=\"M 240 243 259 244\" stroke=\"gray\" stroke-width=\"0.5\"/><path d=\"M 240 243 273 291\" stroke=\"gray\" stroke-width=\"0.5\"/><path d=\"M 240 243 273 234\" stroke=\"gray\" stroke-width=\"0.5\"/><path d=\"M 240 243 285 239\" stroke=\"gray\" stroke-width=\"0.5\"/><path d=\"M 240 243 293 240\" stroke=\"gray\" stroke-width=\"0.5\"/><path d=\"M 240 243 266 239\" stroke=\"gray\" stroke-width=\"0.5\"/><path d=\"M 240 243 270 260\" stroke=\"gray\" stroke-width=\"0.5\"/><path d=\"M 240 243 298 230\" stroke=\"gray\" stroke-width=\"0.5\"/><path d=\"M 240 243 261 254\" stroke=\"gray\" stroke-width=\"0.5\"/><path d=\"M 240 243 249 263\" stroke=\"gray\" stroke-width=\"0.5\"/><path d=\"M 240 243 259 283\" stroke=\"gray\" stroke-width=\"0.5\"/><path d=\"M 240 243 246 275\" stroke=\"gray\" stroke-width=\"0.5\"/><path d=\"M 240 243 255 271\" stroke=\"gray\" stroke-width=\"0.5\"/><path d=\"M 240 243 290 256\" stroke=\"gray\" stroke-width=\"0.5\"/><path d=\"M 240 243 308 258\" stroke=\"gray\" stroke-width=\"0.5\"/><path d=\"M 240 243 307 251\" stroke=\"gray\" stroke-width=\"0.5\"/><path d=\"M 240 243 269 271\" stroke=\"gray\" stroke-width=\"0.5\"/><path d=\"M 240 243 278 251\" stroke=\"gray\" stroke-width=\"0.5\"/><path d=\"M 240 243 280 259\" stroke=\"gray\" stroke-width=\"0.5\"/><path d=\"M 240 243 294 275\" stroke=\"gray\" stroke-width=\"0.5\"/><path d=\"M 240 243 298 266\" stroke=\"gray\" stroke-width=\"0.5\"/><path d=\"M 240 243 300 297\" stroke=\"gray\" stroke-width=\"0.5\"/><path d=\"M 240 243 285 289\" stroke=\"gray\" stroke-width=\"0.5\"/><path d=\"M 720 343 713 387\" stroke=\"gray\" stroke-width=\"0.5\"/><path d=\"M 130 213 113 177\" stroke=\"gray\" stroke-width=\"0.5\"/><path d=\"M 130 213 240 243\" stroke=\"gray\" stroke-width=\"0.5\"/><path d=\"M 130 213 124 185\" stroke=\"gray\" stroke-width=\"0.5\"/><path d=\"M 130 213 181 197\" stroke=\"gray\" stroke-width=\"0.5\"/><path d=\"M 713 387 720 343\" stroke=\"gray\" stroke-width=\"0.5\"/><path d=\"M 292 437 338 408\" stroke=\"gray\" stroke-width=\"0.5\"/><path d=\"M 292 437 292 302\" stroke=\"gray\" stroke-width=\"0.5\"/><path d=\"M 292 437 225 520\" stroke=\"gray\" stroke-width=\"0.5\"/><path d=\"M 292 437 371 399\" stroke=\"gray\" stroke-width=\"0.5\"/><path d=\"M 225 520 292 437\" stroke=\"gray\" stroke-width=\"0.5\"/><path d=\"M 371 399 338 408\" stroke=\"gray\" stroke-width=\"0.5\"/><path d=\"M 371 399 292 302\" stroke=\"gray\" stroke-width=\"0.5\"/><path d=\"M 371 399 292 437\" stroke=\"gray\" stroke-width=\"0.5\"/><path d=\"M 371 399 467 402\" stroke=\"gray\" stroke-width=\"0.5\"/><path d=\"M 467 402 371 399\" stroke=\"gray\" stroke-width=\"0.5\"/><path d=\"M 20 126 113 177\" stroke=\"gray\" stroke-width=\"0.5\"/><path d=\"M 606 135 588 95\" stroke=\"gray\" stroke-width=\"0.5\"/><path d=\"M 124 185 113 177\" stroke=\"gray\" stroke-width=\"0.5\"/><path d=\"M 124 185 240 243\" stroke=\"gray\" stroke-width=\"0.5\"/><path d=\"M 124 185 130 213\" stroke=\"gray\" stroke-width=\"0.5\"/><path d=\"M 124 185 44 131\" stroke=\"gray\" stroke-width=\"0.5\"/><path d=\"M 124 185 181 197\" stroke=\"gray\" stroke-width=\"0.5\"/><path d=\"M 44 131 124 185\" stroke=\"gray\" stroke-width=\"0.5\"/><path d=\"M 181 197 218 169\" stroke=\"gray\" stroke-width=\"0.5\"/><path d=\"M 181 197 113 177\" stroke=\"gray\" stroke-width=\"0.5\"/><path d=\"M 181 197 240 243\" stroke=\"gray\" stroke-width=\"0.5\"/><path d=\"M 181 197 130 213\" stroke=\"gray\" stroke-width=\"0.5\"/><path d=\"M 181 197 124 185\" stroke=\"gray\" stroke-width=\"0.5\"/><path d=\"M 181 197 259 244\" stroke=\"gray\" stroke-width=\"0.5\"/><path d=\"M 181 197 273 234\" stroke=\"gray\" stroke-width=\"0.5\"/><path d=\"M 276 371 314 381\" stroke=\"gray\" stroke-width=\"0.5\"/><path d=\"M 276 371 243 396\" stroke=\"gray\" stroke-width=\"0.5\"/><path d=\"M 276 371 273 291\" stroke=\"gray\" stroke-width=\"0.5\"/><path d=\"M 276 371 285 289\" stroke=\"gray\" stroke-width=\"0.5\"/><path d=\"M 285 230 278 269\" stroke=\"gray\" stroke-width=\"0.5\"/><path d=\"M 285 230 298 248\" stroke=\"gray\" stroke-width=\"0.5\"/><path d=\"M 285 230 286 275\" stroke=\"gray\" stroke-width=\"0.5\"/><path d=\"M 285 230 312 177\" stroke=\"gray\" stroke-width=\"0.5\"/><path d=\"M 285 230 289 265\" stroke=\"gray\" stroke-width=\"0.5\"/><path d=\"M 285 230 311 276\" stroke=\"gray\" stroke-width=\"0.5\"/><path d=\"M 285 230 276 278\" stroke=\"gray\" stroke-width=\"0.5\"/><path d=\"M 285 230 292 302\" stroke=\"gray\" stroke-width=\"0.5\"/><path d=\"M 285 230 240 243\" stroke=\"gray\" stroke-width=\"0.5\"/><path d=\"M 285 230 270 104\" stroke=\"gray\" stroke-width=\"0.5\"/><path d=\"M 285 230 259 244\" stroke=\"gray\" stroke-width=\"0.5\"/><path d=\"M 285 230 363 203\" stroke=\"gray\" stroke-width=\"0.5\"/><path d=\"M 285 230 273 291\" stroke=\"gray\" stroke-width=\"0.5\"/><path d=\"M 285 230 273 234\" stroke=\"gray\" stroke-width=\"0.5\"/><path d=\"M 285 230 285 239\" stroke=\"gray\" stroke-width=\"0.5\"/><path d=\"M 285 230 293 240\" stroke=\"gray\" stroke-width=\"0.5\"/><path d=\"M 285 230 266 239\" stroke=\"gray\" stroke-width=\"0.5\"/><path d=\"M 285 230 270 260\" stroke=\"gray\" stroke-width=\"0.5\"/><path d=\"M 285 230 298 230\" stroke=\"gray\" stroke-width=\"0.5\"/><path d=\"M 285 230 261 254\" stroke=\"gray\" stroke-width=\"0.5\"/><path d=\"M 285 230 249 263\" stroke=\"gray\" stroke-width=\"0.5\"/><path d=\"M 285 230 259 283\" stroke=\"gray\" stroke-width=\"0.5\"/><path d=\"M 285 230 246 275\" stroke=\"gray\" stroke-width=\"0.5\"/><path d=\"M 285 230 255 271\" stroke=\"gray\" stroke-width=\"0.5\"/><path d=\"M 285 230 290 256\" stroke=\"gray\" stroke-width=\"0.5\"/><path d=\"M 285 230 308 258\" stroke=\"gray\" stroke-width=\"0.5\"/><path d=\"M 285 230 307 251\" stroke=\"gray\" stroke-width=\"0.5\"/><path d=\"M 285 230 269 271\" stroke=\"gray\" stroke-width=\"0.5\"/><path d=\"M 285 230 278 251\" stroke=\"gray\" stroke-width=\"0.5\"/><path d=\"M 285 230 280 259\" stroke=\"gray\" stroke-width=\"0.5\"/><path d=\"M 285 230 294 275\" stroke=\"gray\" stroke-width=\"0.5\"/><path d=\"M 285 230 298 266\" stroke=\"gray\" stroke-width=\"0.5\"/><path d=\"M 285 230 300 297\" stroke=\"gray\" stroke-width=\"0.5\"/><path d=\"M 285 230 285 289\" stroke=\"gray\" stroke-width=\"0.5\"/><path d=\"M 270 104 285 230\" stroke=\"gray\" stroke-width=\"0.5\"/><path d=\"M 259 244 278 269\" stroke=\"gray\" stroke-width=\"0.5\"/><path d=\"M 259 244 298 248\" stroke=\"gray\" stroke-width=\"0.5\"/><path d=\"M 259 244 286 275\" stroke=\"gray\" stroke-width=\"0.5\"/><path d=\"M 259 244 218 169\" stroke=\"gray\" stroke-width=\"0.5\"/><path d=\"M 259 244 289 265\" stroke=\"gray\" stroke-width=\"0.5\"/><path d=\"M 259 244 311 276\" stroke=\"gray\" stroke-width=\"0.5\"/><path d=\"M 259 244 276 278\" stroke=\"gray\" stroke-width=\"0.5\"/><path d=\"M 259 244 292 302\" stroke=\"gray\" stroke-width=\"0.5\"/><path d=\"M 259 244 240 243\" stroke=\"gray\" stroke-width=\"0.5\"/><path d=\"M 259 244 181 197\" stroke=\"gray\" stroke-width=\"0.5\"/><path d=\"M 259 244 285 230\" stroke=\"gray\" stroke-width=\"0.5\"/><path d=\"M 259 244 273 291\" stroke=\"gray\" stroke-width=\"0.5\"/><path d=\"M 259 244 273 234\" stroke=\"gray\" stroke-width=\"0.5\"/><path d=\"M 259 244 285 239\" stroke=\"gray\" stroke-width=\"0.5\"/><path d=\"M 259 244 293 240\" stroke=\"gray\" stroke-width=\"0.5\"/><path d=\"M 259 244 266 239\" stroke=\"gray\" stroke-width=\"0.5\"/><path d=\"M 259 244 270 260\" stroke=\"gray\" stroke-width=\"0.5\"/><path d=\"M 259 244 298 230\" stroke=\"gray\" stroke-width=\"0.5\"/><path d=\"M 259 244 261 254\" stroke=\"gray\" stroke-width=\"0.5\"/><path d=\"M 259 244 249 263\" stroke=\"gray\" stroke-width=\"0.5\"/><path d=\"M 259 244 259 283\" stroke=\"gray\" stroke-width=\"0.5\"/><path d=\"M 259 244 246 275\" stroke=\"gray\" stroke-width=\"0.5\"/><path d=\"M 259 244 255 271\" stroke=\"gray\" stroke-width=\"0.5\"/><path d=\"M 259 244 290 256\" stroke=\"gray\" stroke-width=\"0.5\"/><path d=\"M 259 244 308 258\" stroke=\"gray\" stroke-width=\"0.5\"/><path d=\"M 259 244 307 251\" stroke=\"gray\" stroke-width=\"0.5\"/><path d=\"M 259 244 269 271\" stroke=\"gray\" stroke-width=\"0.5\"/><path d=\"M 259 244 278 251\" stroke=\"gray\" stroke-width=\"0.5\"/><path d=\"M 259 244 280 259\" stroke=\"gray\" stroke-width=\"0.5\"/><path d=\"M 259 244 294 275\" stroke=\"gray\" stroke-width=\"0.5\"/><path d=\"M 259 244 298 266\" stroke=\"gray\" stroke-width=\"0.5\"/><path d=\"M 259 244 300 297\" stroke=\"gray\" stroke-width=\"0.5\"/><path d=\"M 259 244 285 289\" stroke=\"gray\" stroke-width=\"0.5\"/><path d=\"M 363 203 298 248\" stroke=\"gray\" stroke-width=\"0.5\"/><path d=\"M 363 203 312 177\" stroke=\"gray\" stroke-width=\"0.5\"/><path d=\"M 363 203 285 230\" stroke=\"gray\" stroke-width=\"0.5\"/><path d=\"M 363 203 466 189\" stroke=\"gray\" stroke-width=\"0.5\"/><path d=\"M 363 203 273 234\" stroke=\"gray\" stroke-width=\"0.5\"/><path d=\"M 466 189 363 203\" stroke=\"gray\" stroke-width=\"0.5\"/><path d=\"M 243 396 276 371\" stroke=\"gray\" stroke-width=\"0.5\"/><path d=\"M 243 396 273 291\" stroke=\"gray\" stroke-width=\"0.5\"/><path d=\"M 273 291 278 269\" stroke=\"gray\" stroke-width=\"0.5\"/><path d=\"M 273 291 298 248\" stroke=\"gray\" stroke-width=\"0.5\"/><path d=\"M 273 291 286 275\" stroke=\"gray\" stroke-width=\"0.5\"/><path d=\"M 273 291 289 265\" stroke=\"gray\" stroke-width=\"0.5\"/><path d=\"M 273 291 311 276\" stroke=\"gray\" stroke-width=\"0.5\"/><path d=\"M 273 291 276 278\" stroke=\"gray\" stroke-width=\"0.5\"/><path d=\"M 273 291 292 302\" stroke=\"gray\" stroke-width=\"0.5\"/><path d=\"M 273 291 240 243\" stroke=\"gray\" stroke-width=\"0.5\"/><path d=\"M 273 291 276 371\" stroke=\"gray\" stroke-width=\"0.5\"/><path d=\"M 273 291 285 230\" stroke=\"gray\" stroke-width=\"0.5\"/><path d=\"M 273 291 259 244\" stroke=\"gray\" stroke-width=\"0.5\"/><path d=\"M 273 291 243 396\" stroke=\"gray\" stroke-width=\"0.5\"/><path d=\"M 273 291 273 234\" stroke=\"gray\" stroke-width=\"0.5\"/><path d=\"M 273 291 285 239\" stroke=\"gray\" stroke-width=\"0.5\"/><path d=\"M 273 291 293 240\" stroke=\"gray\" stroke-width=\"0.5\"/><path d=\"M 273 291 266 239\" stroke=\"gray\" stroke-width=\"0.5\"/><path d=\"M 273 291 270 260\" stroke=\"gray\" stroke-width=\"0.5\"/><path d=\"M 273 291 298 230\" stroke=\"gray\" stroke-width=\"0.5\"/><path d=\"M 273 291 261 254\" stroke=\"gray\" stroke-width=\"0.5\"/><path d=\"M 273 291 249 263\" stroke=\"gray\" stroke-width=\"0.5\"/><path d=\"M 273 291 259 283\" stroke=\"gray\" stroke-width=\"0.5\"/><path d=\"M 273 291 246 275\" stroke=\"gray\" stroke-width=\"0.5\"/><path d=\"M 273 291 255 271\" stroke=\"gray\" stroke-width=\"0.5\"/><path d=\"M 273 291 290 256\" stroke=\"gray\" stroke-width=\"0.5\"/><path d=\"M 273 291 308 258\" stroke=\"gray\" stroke-width=\"0.5\"/><path d=\"M 273 291 307 251\" stroke=\"gray\" stroke-width=\"0.5\"/><path d=\"M 273 291 269 271\" stroke=\"gray\" stroke-width=\"0.5\"/><path d=\"M 273 291 278 251\" stroke=\"gray\" stroke-width=\"0.5\"/><path d=\"M 273 291 280 259\" stroke=\"gray\" stroke-width=\"0.5\"/><path d=\"M 273 291 294 275\" stroke=\"gray\" stroke-width=\"0.5\"/><path d=\"M 273 291 298 266\" stroke=\"gray\" stroke-width=\"0.5\"/><path d=\"M 273 291 300 297\" stroke=\"gray\" stroke-width=\"0.5\"/><path d=\"M 273 291 285 289\" stroke=\"gray\" stroke-width=\"0.5\"/><path d=\"M 273 234 278 269\" stroke=\"gray\" stroke-width=\"0.5\"/><path d=\"M 273 234 298 248\" stroke=\"gray\" stroke-width=\"0.5\"/><path d=\"M 273 234 286 275\" stroke=\"gray\" stroke-width=\"0.5\"/><path d=\"M 273 234 218 169\" stroke=\"gray\" stroke-width=\"0.5\"/><path d=\"M 273 234 312 177\" stroke=\"gray\" stroke-width=\"0.5\"/><path d=\"M 273 234 289 265\" stroke=\"gray\" stroke-width=\"0.5\"/><path d=\"M 273 234 311 276\" stroke=\"gray\" stroke-width=\"0.5\"/><path d=\"M 273 234 276 278\" stroke=\"gray\" stroke-width=\"0.5\"/><path d=\"M 273 234 292 302\" stroke=\"gray\" stroke-width=\"0.5\"/><path d=\"M 273 234 240 243\" stroke=\"gray\" stroke-width=\"0.5\"/><path d=\"M 273 234 181 197\" stroke=\"gray\" stroke-width=\"0.5\"/><path d=\"M 273 234 285 230\" stroke=\"gray\" stroke-width=\"0.5\"/><path d=\"M 273 234 259 244\" stroke=\"gray\" stroke-width=\"0.5\"/><path d=\"M 273 234 363 203\" stroke=\"gray\" stroke-width=\"0.5\"/><path d=\"M 273 234 273 291\" stroke=\"gray\" stroke-width=\"0.5\"/><path d=\"M 273 234 285 239\" stroke=\"gray\" stroke-width=\"0.5\"/><path d=\"M 273 234 293 240\" stroke=\"gray\" stroke-width=\"0.5\"/><path d=\"M 273 234 266 239\" stroke=\"gray\" stroke-width=\"0.5\"/><path d=\"M 273 234 270 260\" stroke=\"gray\" stroke-width=\"0.5\"/><path d=\"M 273 234 298 230\" stroke=\"gray\" stroke-width=\"0.5\"/><path d=\"M 273 234 261 254\" stroke=\"gray\" stroke-width=\"0.5\"/><path d=\"M 273 234 249 263\" stroke=\"gray\" stroke-width=\"0.5\"/><path d=\"M 273 234 259 283\" stroke=\"gray\" stroke-width=\"0.5\"/><path d=\"M 273 234 246 275\" stroke=\"gray\" stroke-width=\"0.5\"/><path d=\"M 273 234 255 271\" stroke=\"gray\" stroke-width=\"0.5\"/><path d=\"M 273 234 290 256\" stroke=\"gray\" stroke-width=\"0.5\"/><path d=\"M 273 234 308 258\" stroke=\"gray\" stroke-width=\"0.5\"/><path d=\"M 273 234 307 251\" stroke=\"gray\" stroke-width=\"0.5\"/><path d=\"M 273 234 269 271\" stroke=\"gray\" stroke-width=\"0.5\"/><path d=\"M 273 234 278 251\" stroke=\"gray\" stroke-width=\"0.5\"/><path d=\"M 273 234 280 259\" stroke=\"gray\" stroke-width=\"0.5\"/><path d=\"M 273 234 294 275\" stroke=\"gray\" stroke-width=\"0.5\"/><path d=\"M 273 234 298 266\" stroke=\"gray\" stroke-width=\"0.5\"/><path d=\"M 273 234 300 297\" stroke=\"gray\" stroke-width=\"0.5\"/><path d=\"M 273 234 285 289\" stroke=\"gray\" stroke-width=\"0.5\"/><path d=\"M 285 239 278 269\" stroke=\"gray\" stroke-width=\"0.5\"/><path d=\"M 285 239 298 248\" stroke=\"gray\" stroke-width=\"0.5\"/><path d=\"M 285 239 286 275\" stroke=\"gray\" stroke-width=\"0.5\"/><path d=\"M 285 239 289 265\" stroke=\"gray\" stroke-width=\"0.5\"/><path d=\"M 285 239 311 276\" stroke=\"gray\" stroke-width=\"0.5\"/><path d=\"M 285 239 276 278\" stroke=\"gray\" stroke-width=\"0.5\"/><path d=\"M 285 239 292 302\" stroke=\"gray\" stroke-width=\"0.5\"/><path d=\"M 285 239 240 243\" stroke=\"gray\" stroke-width=\"0.5\"/><path d=\"M 285 239 285 230\" stroke=\"gray\" stroke-width=\"0.5\"/><path d=\"M 285 239 259 244\" stroke=\"gray\" stroke-width=\"0.5\"/><path d=\"M 285 239 273 291\" stroke=\"gray\" stroke-width=\"0.5\"/><path d=\"M 285 239 273 234\" stroke=\"gray\" stroke-width=\"0.5\"/><path d=\"M 285 239 330 164\" stroke=\"gray\" stroke-width=\"0.5\"/><path d=\"M 285 239 293 240\" stroke=\"gray\" stroke-width=\"0.5\"/><path d=\"M 285 239 301 151\" stroke=\"gray\" stroke-width=\"0.5\"/><path d=\"M 285 239 266 239\" stroke=\"gray\" stroke-width=\"0.5\"/><path d=\"M 285 239 270 260\" stroke=\"gray\" stroke-width=\"0.5\"/><path d=\"M 285 239 298 230\" stroke=\"gray\" stroke-width=\"0.5\"/><path d=\"M 285 239 261 254\" stroke=\"gray\" stroke-width=\"0.5\"/><path d=\"M 285 239 249 263\" stroke=\"gray\" stroke-width=\"0.5\"/><path d=\"M 285 239 259 283\" stroke=\"gray\" stroke-width=\"0.5\"/><path d=\"M 285 239 246 275\" stroke=\"gray\" stroke-width=\"0.5\"/><path d=\"M 285 239 255 271\" stroke=\"gray\" stroke-width=\"0.5\"/><path d=\"M 285 239 290 256\" stroke=\"gray\" stroke-width=\"0.5\"/><path d=\"M 285 239 308 258\" stroke=\"gray\" stroke-width=\"0.5\"/><path d=\"M 285 239 307 251\" stroke=\"gray\" stroke-width=\"0.5\"/><path d=\"M 285 239 269 271\" stroke=\"gray\" stroke-width=\"0.5\"/><path d=\"M 285 239 278 251\" stroke=\"gray\" stroke-width=\"0.5\"/><path d=\"M 285 239 280 259\" stroke=\"gray\" stroke-width=\"0.5\"/><path d=\"M 285 239 294 275\" stroke=\"gray\" stroke-width=\"0.5\"/><path d=\"M 285 239 298 266\" stroke=\"gray\" stroke-width=\"0.5\"/><path d=\"M 285 239 300 297\" stroke=\"gray\" stroke-width=\"0.5\"/><path d=\"M 285 239 285 289\" stroke=\"gray\" stroke-width=\"0.5\"/><path d=\"M 330 164 285 239\" stroke=\"gray\" stroke-width=\"0.5\"/><path d=\"M 330 164 293 240\" stroke=\"gray\" stroke-width=\"0.5\"/><path d=\"M 330 164 301 151\" stroke=\"gray\" stroke-width=\"0.5\"/><path d=\"M 293 240 278 269\" stroke=\"gray\" stroke-width=\"0.5\"/><path d=\"M 293 240 298 248\" stroke=\"gray\" stroke-width=\"0.5\"/><path d=\"M 293 240 286 275\" stroke=\"gray\" stroke-width=\"0.5\"/><path d=\"M 293 240 289 265\" stroke=\"gray\" stroke-width=\"0.5\"/><path d=\"M 293 240 311 276\" stroke=\"gray\" stroke-width=\"0.5\"/><path d=\"M 293 240 276 278\" stroke=\"gray\" stroke-width=\"0.5\"/><path d=\"M 293 240 292 302\" stroke=\"gray\" stroke-width=\"0.5\"/><path d=\"M 293 240 240 243\" stroke=\"gray\" stroke-width=\"0.5\"/><path d=\"M 293 240 285 230\" stroke=\"gray\" stroke-width=\"0.5\"/><path d=\"M 293 240 259 244\" stroke=\"gray\" stroke-width=\"0.5\"/><path d=\"M 293 240 273 291\" stroke=\"gray\" stroke-width=\"0.5\"/><path d=\"M 293 240 273 234\" stroke=\"gray\" stroke-width=\"0.5\"/><path d=\"M 293 240 285 239\" stroke=\"gray\" stroke-width=\"0.5\"/><path d=\"M 293 240 330 164\" stroke=\"gray\" stroke-width=\"0.5\"/><path d=\"M 293 240 301 151\" stroke=\"gray\" stroke-width=\"0.5\"/><path d=\"M 293 240 266 239\" stroke=\"gray\" stroke-width=\"0.5\"/><path d=\"M 293 240 270 260\" stroke=\"gray\" stroke-width=\"0.5\"/><path d=\"M 293 240 298 230\" stroke=\"gray\" stroke-width=\"0.5\"/><path d=\"M 293 240 261 254\" stroke=\"gray\" stroke-width=\"0.5\"/><path d=\"M 293 240 249 263\" stroke=\"gray\" stroke-width=\"0.5\"/><path d=\"M 293 240 259 283\" stroke=\"gray\" stroke-width=\"0.5\"/><path d=\"M 293 240 246 275\" stroke=\"gray\" stroke-width=\"0.5\"/><path d=\"M 293 240 255 271\" stroke=\"gray\" stroke-width=\"0.5\"/><path d=\"M 293 240 290 256\" stroke=\"gray\" stroke-width=\"0.5\"/><path d=\"M 293 240 308 258\" stroke=\"gray\" stroke-width=\"0.5\"/><path d=\"M 293 240 307 251\" stroke=\"gray\" stroke-width=\"0.5\"/><path d=\"M 293 240 269 271\" stroke=\"gray\" stroke-width=\"0.5\"/><path d=\"M 293 240 278 251\" stroke=\"gray\" stroke-width=\"0.5\"/><path d=\"M 293 240 280 259\" stroke=\"gray\" stroke-width=\"0.5\"/><path d=\"M 293 240 294 275\" stroke=\"gray\" stroke-width=\"0.5\"/><path d=\"M 293 240 298 266\" stroke=\"gray\" stroke-width=\"0.5\"/><path d=\"M 293 240 300 297\" stroke=\"gray\" stroke-width=\"0.5\"/><path d=\"M 293 240 285 289\" stroke=\"gray\" stroke-width=\"0.5\"/><path d=\"M 301 151 285 239\" stroke=\"gray\" stroke-width=\"0.5\"/><path d=\"M 301 151 330 164\" stroke=\"gray\" stroke-width=\"0.5\"/><path d=\"M 301 151 293 240\" stroke=\"gray\" stroke-width=\"0.5\"/><path d=\"M 588 95 606 135\" stroke=\"gray\" stroke-width=\"0.5\"/><path d=\"M 207 134 266 239\" stroke=\"gray\" stroke-width=\"0.5\"/><path d=\"M 266 239 278 269\" stroke=\"gray\" stroke-width=\"0.5\"/><path d=\"M 266 239 298 248\" stroke=\"gray\" stroke-width=\"0.5\"/><path d=\"M 266 239 286 275\" stroke=\"gray\" stroke-width=\"0.5\"/><path d=\"M 266 239 289 265\" stroke=\"gray\" stroke-width=\"0.5\"/><path d=\"M 266 239 311 276\" stroke=\"gray\" stroke-width=\"0.5\"/><path d=\"M 266 239 276 278\" stroke=\"gray\" stroke-width=\"0.5\"/><path d=\"M 266 239 292 302\" stroke=\"gray\" stroke-width=\"0.5\"/><path d=\"M 266 239 240 243\" stroke=\"gray\" stroke-width=\"0.5\"/><path d=\"M 266 239 285 230\" stroke=\"gray\" stroke-width=\"0.5\"/><path d=\"M 266 239 259 244\" stroke=\"gray\" stroke-width=\"0.5\"/><path d=\"M 266 239 273 291\" stroke=\"gray\" stroke-width=\"0.5\"/><path d=\"M 266 239 273 234\" stroke=\"gray\" stroke-width=\"0.5\"/><path d=\"M 266 239 285 239\" stroke=\"gray\" stroke-width=\"0.5\"/><path d=\"M 266 239 293 240\" stroke=\"gray\" stroke-width=\"0.5\"/><path d=\"M 266 239 207 134\" stroke=\"gray\" stroke-width=\"0.5\"/><path d=\"M 266 239 270 260\" stroke=\"gray\" stroke-width=\"0.5\"/><path d=\"M 266 239 298 230\" stroke=\"gray\" stroke-width=\"0.5\"/><path d=\"M 266 239 261 254\" stroke=\"gray\" stroke-width=\"0.5\"/><path d=\"M 266 239 249 263\" stroke=\"gray\" stroke-width=\"0.5\"/><path d=\"M 266 239 259 283\" stroke=\"gray\" stroke-width=\"0.5\"/><path d=\"M 266 239 246 275\" stroke=\"gray\" stroke-width=\"0.5\"/><path d=\"M 266 239 255 271\" stroke=\"gray\" stroke-width=\"0.5\"/><path d=\"M 266 239 290 256\" stroke=\"gray\" stroke-width=\"0.5\"/><path d=\"M 266 239 308 258\" stroke=\"gray\" stroke-width=\"0.5\"/><path d=\"M 266 239 307 251\" stroke=\"gray\" stroke-width=\"0.5\"/><path d=\"M 266 239 269 271\" stroke=\"gray\" stroke-width=\"0.5\"/><path d=\"M 266 239 278 251\" stroke=\"gray\" stroke-width=\"0.5\"/><path d=\"M 266 239 280 259\" stroke=\"gray\" stroke-width=\"0.5\"/><path d=\"M 266 239 294 275\" stroke=\"gray\" stroke-width=\"0.5\"/><path d=\"M 266 239 298 266\" stroke=\"gray\" stroke-width=\"0.5\"/><path d=\"M 266 239 300 297\" stroke=\"gray\" stroke-width=\"0.5\"/><path d=\"M 266 239 285 289\" stroke=\"gray\" stroke-width=\"0.5\"/><path d=\"M 270 260 278 269\" stroke=\"gray\" stroke-width=\"0.5\"/><path d=\"M 270 260 298 248\" stroke=\"gray\" stroke-width=\"0.5\"/><path d=\"M 270 260 286 275\" stroke=\"gray\" stroke-width=\"0.5\"/><path d=\"M 270 260 289 265\" stroke=\"gray\" stroke-width=\"0.5\"/><path d=\"M 270 260 311 276\" stroke=\"gray\" stroke-width=\"0.5\"/><path d=\"M 270 260 276 278\" stroke=\"gray\" stroke-width=\"0.5\"/><path d=\"M 270 260 292 302\" stroke=\"gray\" stroke-width=\"0.5\"/><path d=\"M 270 260 240 243\" stroke=\"gray\" stroke-width=\"0.5\"/><path d=\"M 270 260 285 230\" stroke=\"gray\" stroke-width=\"0.5\"/><path d=\"M 270 260 259 244\" stroke=\"gray\" stroke-width=\"0.5\"/><path d=\"M 270 260 273 291\" stroke=\"gray\" stroke-width=\"0.5\"/><path d=\"M 270 260 273 234\" stroke=\"gray\" stroke-width=\"0.5\"/><path d=\"M 270 260 285 239\" stroke=\"gray\" stroke-width=\"0.5\"/><path d=\"M 270 260 293 240\" stroke=\"gray\" stroke-width=\"0.5\"/><path d=\"M 270 260 266 239\" stroke=\"gray\" stroke-width=\"0.5\"/><path d=\"M 270 260 298 230\" stroke=\"gray\" stroke-width=\"0.5\"/><path d=\"M 270 260 261 254\" stroke=\"gray\" stroke-width=\"0.5\"/><path d=\"M 270 260 249 263\" stroke=\"gray\" stroke-width=\"0.5\"/><path d=\"M 270 260 259 283\" stroke=\"gray\" stroke-width=\"0.5\"/><path d=\"M 270 260 246 275\" stroke=\"gray\" stroke-width=\"0.5\"/><path d=\"M 270 260 255 271\" stroke=\"gray\" stroke-width=\"0.5\"/><path d=\"M 270 260 290 256\" stroke=\"gray\" stroke-width=\"0.5\"/><path d=\"M 270 260 308 258\" stroke=\"gray\" stroke-width=\"0.5\"/><path d=\"M 270 260 307 251\" stroke=\"gray\" stroke-width=\"0.5\"/><path d=\"M 270 260 269 271\" stroke=\"gray\" stroke-width=\"0.5\"/><path d=\"M 270 260 278 251\" stroke=\"gray\" stroke-width=\"0.5\"/><path d=\"M 270 260 280 259\" stroke=\"gray\" stroke-width=\"0.5\"/><path d=\"M 270 260 294 275\" stroke=\"gray\" stroke-width=\"0.5\"/><path d=\"M 270 260 298 266\" stroke=\"gray\" stroke-width=\"0.5\"/><path d=\"M 270 260 300 297\" stroke=\"gray\" stroke-width=\"0.5\"/><path d=\"M 270 260 285 289\" stroke=\"gray\" stroke-width=\"0.5\"/><path d=\"M 349 119 330 139\" stroke=\"gray\" stroke-width=\"0.5\"/><path d=\"M 349 119 414 20\" stroke=\"gray\" stroke-width=\"0.5\"/><path d=\"M 349 119 298 230\" stroke=\"gray\" stroke-width=\"0.5\"/><path d=\"M 349 119 350 181\" stroke=\"gray\" stroke-width=\"0.5\"/><path d=\"M 349 119 261 191\" stroke=\"gray\" stroke-width=\"0.5\"/><path d=\"M 414 20 349 119\" stroke=\"gray\" stroke-width=\"0.5\"/><path d=\"M 298 230 278 269\" stroke=\"gray\" stroke-width=\"0.5\"/><path d=\"M 298 230 298 248\" stroke=\"gray\" stroke-width=\"0.5\"/><path d=\"M 298 230 286 275\" stroke=\"gray\" stroke-width=\"0.5\"/><path d=\"M 298 230 289 265\" stroke=\"gray\" stroke-width=\"0.5\"/><path d=\"M 298 230 330 139\" stroke=\"gray\" stroke-width=\"0.5\"/><path d=\"M 298 230 311 276\" stroke=\"gray\" stroke-width=\"0.5\"/><path d=\"M 298 230 276 278\" stroke=\"gray\" stroke-width=\"0.5\"/><path d=\"M 298 230 292 302\" stroke=\"gray\" stroke-width=\"0.5\"/><path d=\"M 298 230 240 243\" stroke=\"gray\" stroke-width=\"0.5\"/><path d=\"M 298 230 285 230\" stroke=\"gray\" stroke-width=\"0.5\"/><path d=\"M 298 230 259 244\" stroke=\"gray\" stroke-width=\"0.5\"/><path d=\"M 298 230 273 291\" stroke=\"gray\" stroke-width=\"0.5\"/><path d=\"M 298 230 273 234\" stroke=\"gray\" stroke-width=\"0.5\"/><path d=\"M 298 230 285 239\" stroke=\"gray\" stroke-width=\"0.5\"/><path d=\"M 298 230 293 240\" stroke=\"gray\" stroke-width=\"0.5\"/><path d=\"M 298 230 266 239\" stroke=\"gray\" stroke-width=\"0.5\"/><path d=\"M 298 230 270 260\" stroke=\"gray\" stroke-width=\"0.5\"/><path d=\"M 298 230 349 119\" stroke=\"gray\" stroke-width=\"0.5\"/><path d=\"M 298 230 261 254\" stroke=\"gray\" stroke-width=\"0.5\"/><path d=\"M 298 230 249 263\" stroke=\"gray\" stroke-width=\"0.5\"/><path d=\"M 298 230 259 283\" stroke=\"gray\" stroke-width=\"0.5\"/><path d=\"M 298 230 246 275\" stroke=\"gray\" stroke-width=\"0.5\"/><path d=\"M 298 230 255 271\" stroke=\"gray\" stroke-width=\"0.5\"/><path d=\"M 298 230 290 256\" stroke=\"gray\" stroke-width=\"0.5\"/><path d=\"M 298 230 308 258\" stroke=\"gray\" stroke-width=\"0.5\"/><path d=\"M 298 230 307 251\" stroke=\"gray\" stroke-width=\"0.5\"/><path d=\"M 298 230 350 181\" stroke=\"gray\" stroke-width=\"0.5\"/><path d=\"M 298 230 269 271\" stroke=\"gray\" stroke-width=\"0.5\"/><path d=\"M 298 230 278 251\" stroke=\"gray\" stroke-width=\"0.5\"/><path d=\"M 298 230 280 259\" stroke=\"gray\" stroke-width=\"0.5\"/><path d=\"M 298 230 294 275\" stroke=\"gray\" stroke-width=\"0.5\"/><path d=\"M 298 230 298 266\" stroke=\"gray\" stroke-width=\"0.5\"/><path d=\"M 298 230 300 297\" stroke=\"gray\" stroke-width=\"0.5\"/><path d=\"M 298 230 285 289\" stroke=\"gray\" stroke-width=\"0.5\"/><path d=\"M 298 230 261 191\" stroke=\"gray\" stroke-width=\"0.5\"/><path d=\"M 414 205 307 251\" stroke=\"gray\" stroke-width=\"0.5\"/><path d=\"M 402 234 308 258\" stroke=\"gray\" stroke-width=\"0.5\"/><path d=\"M 402 234 350 181\" stroke=\"gray\" stroke-width=\"0.5\"/><path d=\"M 207 326 195 299\" stroke=\"gray\" stroke-width=\"0.5\"/><path d=\"M 207 326 259 283\" stroke=\"gray\" stroke-width=\"0.5\"/><path d=\"M 207 326 202 350\" stroke=\"gray\" stroke-width=\"0.5\"/><path d=\"M 207 326 246 275\" stroke=\"gray\" stroke-width=\"0.5\"/><path d=\"M 207 326 255 271\" stroke=\"gray\" stroke-width=\"0.5\"/><path d=\"M 207 326 208 278\" stroke=\"gray\" stroke-width=\"0.5\"/><path d=\"M 261 254 278 269\" stroke=\"gray\" stroke-width=\"0.5\"/><path d=\"M 261 254 298 248\" stroke=\"gray\" stroke-width=\"0.5\"/><path d=\"M 261 254 286 275\" stroke=\"gray\" stroke-width=\"0.5\"/><path d=\"M 261 254 289 265\" stroke=\"gray\" stroke-width=\"0.5\"/><path d=\"M 261 254 311 276\" stroke=\"gray\" stroke-width=\"0.5\"/><path d=\"M 261 254 276 278\" stroke=\"gray\" stroke-width=\"0.5\"/><path d=\"M 261 254 292 302\" stroke=\"gray\" stroke-width=\"0.5\"/><path d=\"M 261 254 240 243\" stroke=\"gray\" stroke-width=\"0.5\"/><path d=\"M 261 254 285 230\" stroke=\"gray\" stroke-width=\"0.5\"/><path d=\"M 261 254 259 244\" stroke=\"gray\" stroke-width=\"0.5\"/><path d=\"M 261 254 273 291\" stroke=\"gray\" stroke-width=\"0.5\"/><path d=\"M 261 254 273 234\" stroke=\"gray\" stroke-width=\"0.5\"/><path d=\"M 261 254 285 239\" stroke=\"gray\" stroke-width=\"0.5\"/><path d=\"M 261 254 293 240\" stroke=\"gray\" stroke-width=\"0.5\"/><path d=\"M 261 254 266 239\" stroke=\"gray\" stroke-width=\"0.5\"/><path d=\"M 261 254 270 260\" stroke=\"gray\" stroke-width=\"0.5\"/><path d=\"M 261 254 298 230\" stroke=\"gray\" stroke-width=\"0.5\"/><path d=\"M 261 254 202 224\" stroke=\"gray\" stroke-width=\"0.5\"/><path d=\"M 261 254 249 263\" stroke=\"gray\" stroke-width=\"0.5\"/><path d=\"M 261 254 259 283\" stroke=\"gray\" stroke-width=\"0.5\"/><path d=\"M 261 254 246 275\" stroke=\"gray\" stroke-width=\"0.5\"/><path d=\"M 261 254 255 271\" stroke=\"gray\" stroke-width=\"0.5\"/><path d=\"M 261 254 290 256\" stroke=\"gray\" stroke-width=\"0.5\"/><path d=\"M 261 254 308 258\" stroke=\"gray\" stroke-width=\"0.5\"/><path d=\"M 261 254 307 251\" stroke=\"gray\" stroke-width=\"0.5\"/><path d=\"M 261 254 269 271\" stroke=\"gray\" stroke-width=\"0.5\"/><path d=\"M 261 254 278 251\" stroke=\"gray\" stroke-width=\"0.5\"/><path d=\"M 261 254 280 259\" stroke=\"gray\" stroke-width=\"0.5\"/><path d=\"M 261 254 294 275\" stroke=\"gray\" stroke-width=\"0.5\"/><path d=\"M 261 254 298 266\" stroke=\"gray\" stroke-width=\"0.5\"/><path d=\"M 261 254 300 297\" stroke=\"gray\" stroke-width=\"0.5\"/><path d=\"M 261 254 285 289\" stroke=\"gray\" stroke-width=\"0.5\"/><path d=\"M 261 254 208 278\" stroke=\"gray\" stroke-width=\"0.5\"/><path d=\"M 261 254 261 191\" stroke=\"gray\" stroke-width=\"0.5\"/><path d=\"M 202 224 261 254\" stroke=\"gray\" stroke-width=\"0.5\"/><path d=\"M 202 224 255 271\" stroke=\"gray\" stroke-width=\"0.5\"/><path d=\"M 202 224 208 278\" stroke=\"gray\" stroke-width=\"0.5\"/><path d=\"M 202 224 261 191\" stroke=\"gray\" stroke-width=\"0.5\"/><path d=\"M 195 299 207 326\" stroke=\"gray\" stroke-width=\"0.5\"/><path d=\"M 195 299 249 263\" stroke=\"gray\" stroke-width=\"0.5\"/><path d=\"M 195 299 168 274\" stroke=\"gray\" stroke-width=\"0.5\"/><path d=\"M 195 299 259 283\" stroke=\"gray\" stroke-width=\"0.5\"/><path d=\"M 195 299 202 350\" stroke=\"gray\" stroke-width=\"0.5\"/><path d=\"M 195 299 174 289\" stroke=\"gray\" stroke-width=\"0.5\"/><path d=\"M 195 299 246 275\" stroke=\"gray\" stroke-width=\"0.5\"/><path d=\"M 195 299 172 228\" stroke=\"gray\" stroke-width=\"0.5\"/><path d=\"M 195 299 255 271\" stroke=\"gray\" stroke-width=\"0.5\"/><path d=\"M 195 299 208 278\" stroke=\"gray\" stroke-width=\"0.5\"/><path d=\"M 249 263 278 269\" stroke=\"gray\" stroke-width=\"0.5\"/><path d=\"M 249 263 298 248\" stroke=\"gray\" stroke-width=\"0.5\"/><path d=\"M 249 263 286 275\" stroke=\"gray\" stroke-width=\"0.5\"/><path d=\"M 249 263 289 265\" stroke=\"gray\" stroke-width=\"0.5\"/><path d=\"M 249 263 311 276\" stroke=\"gray\" stroke-width=\"0.5\"/><path d=\"M 249 263 276 278\" stroke=\"gray\" stroke-width=\"0.5\"/><path d=\"M 249 263 292 302\" stroke=\"gray\" stroke-width=\"0.5\"/><path d=\"M 249 263 240 243\" stroke=\"gray\" stroke-width=\"0.5\"/><path d=\"M 249 263 285 230\" stroke=\"gray\" stroke-width=\"0.5\"/><path d=\"M 249 263 259 244\" stroke=\"gray\" stroke-width=\"0.5\"/><path d=\"M 249 263 273 291\" stroke=\"gray\" stroke-width=\"0.5\"/><path d=\"M 249 263 273 234\" stroke=\"gray\" stroke-width=\"0.5\"/><path d=\"M 249 263 285 239\" stroke=\"gray\" stroke-width=\"0.5\"/><path d=\"M 249 263 293 240\" stroke=\"gray\" stroke-width=\"0.5\"/><path d=\"M 249 263 266 239\" stroke=\"gray\" stroke-width=\"0.5\"/><path d=\"M 249 263 270 260\" stroke=\"gray\" stroke-width=\"0.5\"/><path d=\"M 249 263 298 230\" stroke=\"gray\" stroke-width=\"0.5\"/><path d=\"M 249 263 261 254\" stroke=\"gray\" stroke-width=\"0.5\"/><path d=\"M 249 263 195 299\" stroke=\"gray\" stroke-width=\"0.5\"/><path d=\"M 249 263 168 274\" stroke=\"gray\" stroke-width=\"0.5\"/><path d=\"M 249 263 259 283\" stroke=\"gray\" stroke-width=\"0.5\"/><path d=\"M 249 263 174 289\" stroke=\"gray\" stroke-width=\"0.5\"/><path d=\"M 249 263 246 275\" stroke=\"gray\" stroke-width=\"0.5\"/><path d=\"M 249 263 172 228\" stroke=\"gray\" stroke-width=\"0.5\"/><path d=\"M 249 263 255 271\" stroke=\"gray\" stroke-width=\"0.5\"/><path d=\"M 249 263 290 256\" stroke=\"gray\" stroke-width=\"0.5\"/><path d=\"M 249 263 308 258\" stroke=\"gray\" stroke-width=\"0.5\"/><path d=\"M 249 263 307 251\" stroke=\"gray\" stroke-width=\"0.5\"/><path d=\"M 249 263 269 271\" stroke=\"gray\" stroke-width=\"0.5\"/><path d=\"M 249 263 278 251\" stroke=\"gray\" stroke-width=\"0.5\"/><path d=\"M 249 263 280 259\" stroke=\"gray\" stroke-width=\"0.5\"/><path d=\"M 249 263 294 275\" stroke=\"gray\" stroke-width=\"0.5\"/><path d=\"M 249 263 298 266\" stroke=\"gray\" stroke-width=\"0.5\"/><path d=\"M 249 263 300 297\" stroke=\"gray\" stroke-width=\"0.5\"/><path d=\"M 249 263 285 289\" stroke=\"gray\" stroke-width=\"0.5\"/><path d=\"M 168 274 195 299\" stroke=\"gray\" stroke-width=\"0.5\"/><path d=\"M 168 274 249 263\" stroke=\"gray\" stroke-width=\"0.5\"/><path d=\"M 168 274 174 289\" stroke=\"gray\" stroke-width=\"0.5\"/><path d=\"M 168 274 246 275\" stroke=\"gray\" stroke-width=\"0.5\"/><path d=\"M 168 274 172 228\" stroke=\"gray\" stroke-width=\"0.5\"/><path d=\"M 259 283 278 269\" stroke=\"gray\" stroke-width=\"0.5\"/><path d=\"M 259 283 298 248\" stroke=\"gray\" stroke-width=\"0.5\"/><path d=\"M 259 283 286 275\" stroke=\"gray\" stroke-width=\"0.5\"/><path d=\"M 259 283 289 265\" stroke=\"gray\" stroke-width=\"0.5\"/><path d=\"M 259 283 311 276\" stroke=\"gray\" stroke-width=\"0.5\"/><path d=\"M 259 283 276 278\" stroke=\"gray\" stroke-width=\"0.5\"/><path d=\"M 259 283 292 302\" stroke=\"gray\" stroke-width=\"0.5\"/><path d=\"M 259 283 240 243\" stroke=\"gray\" stroke-width=\"0.5\"/><path d=\"M 259 283 285 230\" stroke=\"gray\" stroke-width=\"0.5\"/><path d=\"M 259 283 259 244\" stroke=\"gray\" stroke-width=\"0.5\"/><path d=\"M 259 283 273 291\" stroke=\"gray\" stroke-width=\"0.5\"/><path d=\"M 259 283 273 234\" stroke=\"gray\" stroke-width=\"0.5\"/><path d=\"M 259 283 285 239\" stroke=\"gray\" stroke-width=\"0.5\"/><path d=\"M 259 283 293 240\" stroke=\"gray\" stroke-width=\"0.5\"/><path d=\"M 259 283 266 239\" stroke=\"gray\" stroke-width=\"0.5\"/><path d=\"M 259 283 270 260\" stroke=\"gray\" stroke-width=\"0.5\"/><path d=\"M 259 283 298 230\" stroke=\"gray\" stroke-width=\"0.5\"/><path d=\"M 259 283 207 326\" stroke=\"gray\" stroke-width=\"0.5\"/><path d=\"M 259 283 261 254\" stroke=\"gray\" stroke-width=\"0.5\"/><path d=\"M 259 283 195 299\" stroke=\"gray\" stroke-width=\"0.5\"/><path d=\"M 259 283 249 263\" stroke=\"gray\" stroke-width=\"0.5\"/><path d=\"M 259 283 202 350\" stroke=\"gray\" stroke-width=\"0.5\"/><path d=\"M 259 283 246 275\" stroke=\"gray\" stroke-width=\"0.5\"/><path d=\"M 259 283 255 271\" stroke=\"gray\" stroke-width=\"0.5\"/><path d=\"M 259 283 290 256\" stroke=\"gray\" stroke-width=\"0.5\"/><path d=\"M 259 283 308 258\" stroke=\"gray\" stroke-width=\"0.5\"/><path d=\"M 259 283 307 251\" stroke=\"gray\" stroke-width=\"0.5\"/><path d=\"M 259 283 269 271\" stroke=\"gray\" stroke-width=\"0.5\"/><path d=\"M 259 283 278 251\" stroke=\"gray\" stroke-width=\"0.5\"/><path d=\"M 259 283 280 259\" stroke=\"gray\" stroke-width=\"0.5\"/><path d=\"M 259 283 294 275\" stroke=\"gray\" stroke-width=\"0.5\"/><path d=\"M 259 283 298 266\" stroke=\"gray\" stroke-width=\"0.5\"/><path d=\"M 259 283 300 297\" stroke=\"gray\" stroke-width=\"0.5\"/><path d=\"M 259 283 285 289\" stroke=\"gray\" stroke-width=\"0.5\"/><path d=\"M 259 283 208 278\" stroke=\"gray\" stroke-width=\"0.5\"/><path d=\"M 202 350 207 326\" stroke=\"gray\" stroke-width=\"0.5\"/><path d=\"M 202 350 195 299\" stroke=\"gray\" stroke-width=\"0.5\"/><path d=\"M 202 350 259 283\" stroke=\"gray\" stroke-width=\"0.5\"/><path d=\"M 202 350 161 464\" stroke=\"gray\" stroke-width=\"0.5\"/><path d=\"M 202 350 246 275\" stroke=\"gray\" stroke-width=\"0.5\"/><path d=\"M 202 350 255 271\" stroke=\"gray\" stroke-width=\"0.5\"/><path d=\"M 202 350 208 278\" stroke=\"gray\" stroke-width=\"0.5\"/><path d=\"M 161 464 202 350\" stroke=\"gray\" stroke-width=\"0.5\"/><path d=\"M 174 289 195 299\" stroke=\"gray\" stroke-width=\"0.5\"/><path d=\"M 174 289 249 263\" stroke=\"gray\" stroke-width=\"0.5\"/><path d=\"M 174 289 168 274\" stroke=\"gray\" stroke-width=\"0.5\"/><path d=\"M 174 289 246 275\" stroke=\"gray\" stroke-width=\"0.5\"/><path d=\"M 174 289 172 228\" stroke=\"gray\" stroke-width=\"0.5\"/><path d=\"M 246 275 278 269\" stroke=\"gray\" stroke-width=\"0.5\"/><path d=\"M 246 275 298 248\" stroke=\"gray\" stroke-width=\"0.5\"/><path d=\"M 246 275 286 275\" stroke=\"gray\" stroke-width=\"0.5\"/><path d=\"M 246 275 289 265\" stroke=\"gray\" stroke-width=\"0.5\"/><path d=\"M 246 275 311 276\" stroke=\"gray\" stroke-width=\"0.5\"/><path d=\"M 246 275 276 278\" stroke=\"gray\" stroke-width=\"0.5\"/><path d=\"M 246 275 292 302\" stroke=\"gray\" stroke-width=\"0.5\"/><path d=\"M 246 275 240 243\" stroke=\"gray\" stroke-width=\"0.5\"/><path d=\"M 246 275 285 230\" stroke=\"gray\" stroke-width=\"0.5\"/><path d=\"M 246 275 259 244\" stroke=\"gray\" stroke-width=\"0.5\"/><path d=\"M 246 275 273 291\" stroke=\"gray\" stroke-width=\"0.5\"/><path d=\"M 246 275 273 234\" stroke=\"gray\" stroke-width=\"0.5\"/><path d=\"M 246 275 285 239\" stroke=\"gray\" stroke-width=\"0.5\"/><path d=\"M 246 275 293 240\" stroke=\"gray\" stroke-width=\"0.5\"/><path d=\"M 246 275 266 239\" stroke=\"gray\" stroke-width=\"0.5\"/><path d=\"M 246 275 270 260\" stroke=\"gray\" stroke-width=\"0.5\"/><path d=\"M 246 275 298 230\" stroke=\"gray\" stroke-width=\"0.5\"/><path d=\"M 246 275 207 326\" stroke=\"gray\" stroke-width=\"0.5\"/><path d=\"M 246 275 261 254\" stroke=\"gray\" stroke-width=\"0.5\"/><path d=\"M 246 275 195 299\" stroke=\"gray\" stroke-width=\"0.5\"/><path d=\"M 246 275 249 263\" stroke=\"gray\" stroke-width=\"0.5\"/><path d=\"M 246 275 168 274\" stroke=\"gray\" stroke-width=\"0.5\"/><path d=\"M 246 275 259 283\" stroke=\"gray\" stroke-width=\"0.5\"/><path d=\"M 246 275 202 350\" stroke=\"gray\" stroke-width=\"0.5\"/><path d=\"M 246 275 174 289\" stroke=\"gray\" stroke-width=\"0.5\"/><path d=\"M 246 275 172 228\" stroke=\"gray\" stroke-width=\"0.5\"/><path d=\"M 246 275 255 271\" stroke=\"gray\" stroke-width=\"0.5\"/><path d=\"M 246 275 290 256\" stroke=\"gray\" stroke-width=\"0.5\"/><path d=\"M 246 275 308 258\" stroke=\"gray\" stroke-width=\"0.5\"/><path d=\"M 246 275 307 251\" stroke=\"gray\" stroke-width=\"0.5\"/><path d=\"M 246 275 269 271\" stroke=\"gray\" stroke-width=\"0.5\"/><path d=\"M 246 275 278 251\" stroke=\"gray\" stroke-width=\"0.5\"/><path d=\"M 246 275 280 259\" stroke=\"gray\" stroke-width=\"0.5\"/><path d=\"M 246 275 294 275\" stroke=\"gray\" stroke-width=\"0.5\"/><path d=\"M 246 275 298 266\" stroke=\"gray\" stroke-width=\"0.5\"/><path d=\"M 246 275 300 297\" stroke=\"gray\" stroke-width=\"0.5\"/><path d=\"M 246 275 285 289\" stroke=\"gray\" stroke-width=\"0.5\"/><path d=\"M 246 275 208 278\" stroke=\"gray\" stroke-width=\"0.5\"/><path d=\"M 172 228 195 299\" stroke=\"gray\" stroke-width=\"0.5\"/><path d=\"M 172 228 249 263\" stroke=\"gray\" stroke-width=\"0.5\"/><path d=\"M 172 228 168 274\" stroke=\"gray\" stroke-width=\"0.5\"/><path d=\"M 172 228 174 289\" stroke=\"gray\" stroke-width=\"0.5\"/><path d=\"M 172 228 246 275\" stroke=\"gray\" stroke-width=\"0.5\"/><path d=\"M 172 228 144 116\" stroke=\"gray\" stroke-width=\"0.5\"/><path d=\"M 255 271 278 269\" stroke=\"gray\" stroke-width=\"0.5\"/><path d=\"M 255 271 298 248\" stroke=\"gray\" stroke-width=\"0.5\"/><path d=\"M 255 271 286 275\" stroke=\"gray\" stroke-width=\"0.5\"/><path d=\"M 255 271 289 265\" stroke=\"gray\" stroke-width=\"0.5\"/><path d=\"M 255 271 311 276\" stroke=\"gray\" stroke-width=\"0.5\"/><path d=\"M 255 271 276 278\" stroke=\"gray\" stroke-width=\"0.5\"/><path d=\"M 255 271 292 302\" stroke=\"gray\" stroke-width=\"0.5\"/><path d=\"M 255 271 240 243\" stroke=\"gray\" stroke-width=\"0.5\"/><path d=\"M 255 271 285 230\" stroke=\"gray\" stroke-width=\"0.5\"/><path d=\"M 255 271 259 244\" stroke=\"gray\" stroke-width=\"0.5\"/><path d=\"M 255 271 273 291\" stroke=\"gray\" stroke-width=\"0.5\"/><path d=\"M 255 271 273 234\" stroke=\"gray\" stroke-width=\"0.5\"/><path d=\"M 255 271 285 239\" stroke=\"gray\" stroke-width=\"0.5\"/><path d=\"M 255 271 293 240\" stroke=\"gray\" stroke-width=\"0.5\"/><path d=\"M 255 271 266 239\" stroke=\"gray\" stroke-width=\"0.5\"/><path d=\"M 255 271 270 260\" stroke=\"gray\" stroke-width=\"0.5\"/><path d=\"M 255 271 298 230\" stroke=\"gray\" stroke-width=\"0.5\"/><path d=\"M 255 271 207 326\" stroke=\"gray\" stroke-width=\"0.5\"/><path d=\"M 255 271 261 254\" stroke=\"gray\" stroke-width=\"0.5\"/><path d=\"M 255 271 202 224\" stroke=\"gray\" stroke-width=\"0.5\"/><path d=\"M 255 271 195 299\" stroke=\"gray\" stroke-width=\"0.5\"/><path d=\"M 255 271 249 263\" stroke=\"gray\" stroke-width=\"0.5\"/><path d=\"M 255 271 259 283\" stroke=\"gray\" stroke-width=\"0.5\"/><path d=\"M 255 271 202 350\" stroke=\"gray\" stroke-width=\"0.5\"/><path d=\"M 255 271 246 275\" stroke=\"gray\" stroke-width=\"0.5\"/><path d=\"M 255 271 290 256\" stroke=\"gray\" stroke-width=\"0.5\"/><path d=\"M 255 271 308 258\" stroke=\"gray\" stroke-width=\"0.5\"/><path d=\"M 255 271 307 251\" stroke=\"gray\" stroke-width=\"0.5\"/><path d=\"M 255 271 269 271\" stroke=\"gray\" stroke-width=\"0.5\"/><path d=\"M 255 271 278 251\" stroke=\"gray\" stroke-width=\"0.5\"/><path d=\"M 255 271 280 259\" stroke=\"gray\" stroke-width=\"0.5\"/><path d=\"M 255 271 294 275\" stroke=\"gray\" stroke-width=\"0.5\"/><path d=\"M 255 271 298 266\" stroke=\"gray\" stroke-width=\"0.5\"/><path d=\"M 255 271 300 297\" stroke=\"gray\" stroke-width=\"0.5\"/><path d=\"M 255 271 285 289\" stroke=\"gray\" stroke-width=\"0.5\"/><path d=\"M 255 271 208 278\" stroke=\"gray\" stroke-width=\"0.5\"/><path d=\"M 255 271 261 191\" stroke=\"gray\" stroke-width=\"0.5\"/><path d=\"M 290 256 278 269\" stroke=\"gray\" stroke-width=\"0.5\"/><path d=\"M 290 256 298 248\" stroke=\"gray\" stroke-width=\"0.5\"/><path d=\"M 290 256 286 275\" stroke=\"gray\" stroke-width=\"0.5\"/><path d=\"M 290 256 289 265\" stroke=\"gray\" stroke-width=\"0.5\"/><path d=\"M 290 256 311 276\" stroke=\"gray\" stroke-width=\"0.5\"/><path d=\"M 290 256 276 278\" stroke=\"gray\" stroke-width=\"0.5\"/><path d=\"M 290 256 292 302\" stroke=\"gray\" stroke-width=\"0.5\"/><path d=\"M 290 256 240 243\" stroke=\"gray\" stroke-width=\"0.5\"/><path d=\"M 290 256 285 230\" stroke=\"gray\" stroke-width=\"0.5\"/><path d=\"M 290 256 259 244\" stroke=\"gray\" stroke-width=\"0.5\"/><path d=\"M 290 256 273 291\" stroke=\"gray\" stroke-width=\"0.5\"/><path d=\"M 290 256 273 234\" stroke=\"gray\" stroke-width=\"0.5\"/><path d=\"M 290 256 285 239\" stroke=\"gray\" stroke-width=\"0.5\"/><path d=\"M 290 256 293 240\" stroke=\"gray\" stroke-width=\"0.5\"/><path d=\"M 290 256 266 239\" stroke=\"gray\" stroke-width=\"0.5\"/><path d=\"M 290 256 270 260\" stroke=\"gray\" stroke-width=\"0.5\"/><path d=\"M 290 256 298 230\" stroke=\"gray\" stroke-width=\"0.5\"/><path d=\"M 290 256 261 254\" stroke=\"gray\" stroke-width=\"0.5\"/><path d=\"M 290 256 249 263\" stroke=\"gray\" stroke-width=\"0.5\"/><path d=\"M 290 256 259 283\" stroke=\"gray\" stroke-width=\"0.5\"/><path d=\"M 290 256 246 275\" stroke=\"gray\" stroke-width=\"0.5\"/><path d=\"M 290 256 255 271\" stroke=\"gray\" stroke-width=\"0.5\"/><path d=\"M 290 256 308 258\" stroke=\"gray\" stroke-width=\"0.5\"/><path d=\"M 290 256 307 251\" stroke=\"gray\" stroke-width=\"0.5\"/><path d=\"M 290 256 269 271\" stroke=\"gray\" stroke-width=\"0.5\"/><path d=\"M 290 256 278 251\" stroke=\"gray\" stroke-width=\"0.5\"/><path d=\"M 290 256 280 259\" stroke=\"gray\" stroke-width=\"0.5\"/><path d=\"M 290 256 294 275\" stroke=\"gray\" stroke-width=\"0.5\"/><path d=\"M 290 256 298 266\" stroke=\"gray\" stroke-width=\"0.5\"/><path d=\"M 290 256 300 297\" stroke=\"gray\" stroke-width=\"0.5\"/><path d=\"M 290 256 285 289\" stroke=\"gray\" stroke-width=\"0.5\"/><path d=\"M 308 258 278 269\" stroke=\"gray\" stroke-width=\"0.5\"/><path d=\"M 308 258 298 248\" stroke=\"gray\" stroke-width=\"0.5\"/><path d=\"M 308 258 286 275\" stroke=\"gray\" stroke-width=\"0.5\"/><path d=\"M 308 258 289 265\" stroke=\"gray\" stroke-width=\"0.5\"/><path d=\"M 308 258 311 276\" stroke=\"gray\" stroke-width=\"0.5\"/><path d=\"M 308 258 276 278\" stroke=\"gray\" stroke-width=\"0.5\"/><path d=\"M 308 258 292 302\" stroke=\"gray\" stroke-width=\"0.5\"/><path d=\"M 308 258 240 243\" stroke=\"gray\" stroke-width=\"0.5\"/><path d=\"M 308 258 285 230\" stroke=\"gray\" stroke-width=\"0.5\"/><path d=\"M 308 258 259 244\" stroke=\"gray\" stroke-width=\"0.5\"/><path d=\"M 308 258 273 291\" stroke=\"gray\" stroke-width=\"0.5\"/><path d=\"M 308 258 273 234\" stroke=\"gray\" stroke-width=\"0.5\"/><path d=\"M 308 258 285 239\" stroke=\"gray\" stroke-width=\"0.5\"/><path d=\"M 308 258 293 240\" stroke=\"gray\" stroke-width=\"0.5\"/><path d=\"M 308 258 266 239\" stroke=\"gray\" stroke-width=\"0.5\"/><path d=\"M 308 258 270 260\" stroke=\"gray\" stroke-width=\"0.5\"/><path d=\"M 308 258 298 230\" stroke=\"gray\" stroke-width=\"0.5\"/><path d=\"M 308 258 402 234\" stroke=\"gray\" stroke-width=\"0.5\"/><path d=\"M 308 258 261 254\" stroke=\"gray\" stroke-width=\"0.5\"/><path d=\"M 308 258 249 263\" stroke=\"gray\" stroke-width=\"0.5\"/><path d=\"M 308 258 259 283\" stroke=\"gray\" stroke-width=\"0.5\"/><path d=\"M 308 258 246 275\" stroke=\"gray\" stroke-width=\"0.5\"/><path d=\"M 308 258 255 271\" stroke=\"gray\" stroke-width=\"0.5\"/><path d=\"M 308 258 290 256\" stroke=\"gray\" stroke-width=\"0.5\"/><path d=\"M 308 258 307 251\" stroke=\"gray\" stroke-width=\"0.5\"/><path d=\"M 308 258 350 181\" stroke=\"gray\" stroke-width=\"0.5\"/><path d=\"M 308 258 269 271\" stroke=\"gray\" stroke-width=\"0.5\"/><path d=\"M 308 258 278 251\" stroke=\"gray\" stroke-width=\"0.5\"/><path d=\"M 308 258 280 259\" stroke=\"gray\" stroke-width=\"0.5\"/><path d=\"M 308 258 294 275\" stroke=\"gray\" stroke-width=\"0.5\"/><path d=\"M 308 258 298 266\" stroke=\"gray\" stroke-width=\"0.5\"/><path d=\"M 308 258 300 297\" stroke=\"gray\" stroke-width=\"0.5\"/><path d=\"M 308 258 285 289\" stroke=\"gray\" stroke-width=\"0.5\"/><path d=\"M 307 251 278 269\" stroke=\"gray\" stroke-width=\"0.5\"/><path d=\"M 307 251 298 248\" stroke=\"gray\" stroke-width=\"0.5\"/><path d=\"M 307 251 286 275\" stroke=\"gray\" stroke-width=\"0.5\"/><path d=\"M 307 251 289 265\" stroke=\"gray\" stroke-width=\"0.5\"/><path d=\"M 307 251 311 276\" stroke=\"gray\" stroke-width=\"0.5\"/><path d=\"M 307 251 276 278\" stroke=\"gray\" stroke-width=\"0.5\"/><path d=\"M 307 251 292 302\" stroke=\"gray\" stroke-width=\"0.5\"/><path d=\"M 307 251 240 243\" stroke=\"gray\" stroke-width=\"0.5\"/><path d=\"M 307 251 285 230\" stroke=\"gray\" stroke-width=\"0.5\"/><path d=\"M 307 251 259 244\" stroke=\"gray\" stroke-width=\"0.5\"/><path d=\"M 307 251 273 291\" stroke=\"gray\" stroke-width=\"0.5\"/><path d=\"M 307 251 273 234\" stroke=\"gray\" stroke-width=\"0.5\"/><path d=\"M 307 251 285 239\" stroke=\"gray\" stroke-width=\"0.5\"/><path d=\"M 307 251 293 240\" stroke=\"gray\" stroke-width=\"0.5\"/><path d=\"M 307 251 266 239\" stroke=\"gray\" stroke-width=\"0.5\"/><path d=\"M 307 251 270 260\" stroke=\"gray\" stroke-width=\"0.5\"/><path d=\"M 307 251 298 230\" stroke=\"gray\" stroke-width=\"0.5\"/><path d=\"M 307 251 414 205\" stroke=\"gray\" stroke-width=\"0.5\"/><path d=\"M 307 251 261 254\" stroke=\"gray\" stroke-width=\"0.5\"/><path d=\"M 307 251 249 263\" stroke=\"gray\" stroke-width=\"0.5\"/><path d=\"M 307 251 259 283\" stroke=\"gray\" stroke-width=\"0.5\"/><path d=\"M 307 251 246 275\" stroke=\"gray\" stroke-width=\"0.5\"/><path d=\"M 307 251 255 271\" stroke=\"gray\" stroke-width=\"0.5\"/><path d=\"M 307 251 290 256\" stroke=\"gray\" stroke-width=\"0.5\"/><path d=\"M 307 251 308 258\" stroke=\"gray\" stroke-width=\"0.5\"/><path d=\"M 307 251 269 271\" stroke=\"gray\" stroke-width=\"0.5\"/><path d=\"M 307 251 278 251\" stroke=\"gray\" stroke-width=\"0.5\"/><path d=\"M 307 251 280 259\" stroke=\"gray\" stroke-width=\"0.5\"/><path d=\"M 307 251 294 275\" stroke=\"gray\" stroke-width=\"0.5\"/><path d=\"M 307 251 298 266\" stroke=\"gray\" stroke-width=\"0.5\"/><path d=\"M 307 251 300 297\" stroke=\"gray\" stroke-width=\"0.5\"/><path d=\"M 307 251 285 289\" stroke=\"gray\" stroke-width=\"0.5\"/><path d=\"M 350 181 330 139\" stroke=\"gray\" stroke-width=\"0.5\"/><path d=\"M 350 181 349 119\" stroke=\"gray\" stroke-width=\"0.5\"/><path d=\"M 350 181 298 230\" stroke=\"gray\" stroke-width=\"0.5\"/><path d=\"M 350 181 402 234\" stroke=\"gray\" stroke-width=\"0.5\"/><path d=\"M 350 181 308 258\" stroke=\"gray\" stroke-width=\"0.5\"/><path d=\"M 350 181 261 191\" stroke=\"gray\" stroke-width=\"0.5\"/><path d=\"M 269 271 278 269\" stroke=\"gray\" stroke-width=\"0.5\"/><path d=\"M 269 271 298 248\" stroke=\"gray\" stroke-width=\"0.5\"/><path d=\"M 269 271 286 275\" stroke=\"gray\" stroke-width=\"0.5\"/><path d=\"M 269 271 289 265\" stroke=\"gray\" stroke-width=\"0.5\"/><path d=\"M 269 271 311 276\" stroke=\"gray\" stroke-width=\"0.5\"/><path d=\"M 269 271 276 278\" stroke=\"gray\" stroke-width=\"0.5\"/><path d=\"M 269 271 292 302\" stroke=\"gray\" stroke-width=\"0.5\"/><path d=\"M 269 271 240 243\" stroke=\"gray\" stroke-width=\"0.5\"/><path d=\"M 269 271 285 230\" stroke=\"gray\" stroke-width=\"0.5\"/><path d=\"M 269 271 259 244\" stroke=\"gray\" stroke-width=\"0.5\"/><path d=\"M 269 271 273 291\" stroke=\"gray\" stroke-width=\"0.5\"/><path d=\"M 269 271 273 234\" stroke=\"gray\" stroke-width=\"0.5\"/><path d=\"M 269 271 285 239\" stroke=\"gray\" stroke-width=\"0.5\"/><path d=\"M 269 271 293 240\" stroke=\"gray\" stroke-width=\"0.5\"/><path d=\"M 269 271 266 239\" stroke=\"gray\" stroke-width=\"0.5\"/><path d=\"M 269 271 270 260\" stroke=\"gray\" stroke-width=\"0.5\"/><path d=\"M 269 271 298 230\" stroke=\"gray\" stroke-width=\"0.5\"/><path d=\"M 269 271 261 254\" stroke=\"gray\" stroke-width=\"0.5\"/><path d=\"M 269 271 249 263\" stroke=\"gray\" stroke-width=\"0.5\"/><path d=\"M 269 271 259 283\" stroke=\"gray\" stroke-width=\"0.5\"/><path d=\"M 269 271 246 275\" stroke=\"gray\" stroke-width=\"0.5\"/><path d=\"M 269 271 255 271\" stroke=\"gray\" stroke-width=\"0.5\"/><path d=\"M 269 271 290 256\" stroke=\"gray\" stroke-width=\"0.5\"/><path d=\"M 269 271 308 258\" stroke=\"gray\" stroke-width=\"0.5\"/><path d=\"M 269 271 307 251\" stroke=\"gray\" stroke-width=\"0.5\"/><path d=\"M 269 271 278 251\" stroke=\"gray\" stroke-width=\"0.5\"/><path d=\"M 269 271 280 259\" stroke=\"gray\" stroke-width=\"0.5\"/><path d=\"M 269 271 294 275\" stroke=\"gray\" stroke-width=\"0.5\"/><path d=\"M 269 271 298 266\" stroke=\"gray\" stroke-width=\"0.5\"/><path d=\"M 269 271 300 297\" stroke=\"gray\" stroke-width=\"0.5\"/><path d=\"M 269 271 285 289\" stroke=\"gray\" stroke-width=\"0.5\"/><path d=\"M 418 293 300 297\" stroke=\"gray\" stroke-width=\"0.5\"/><path d=\"M 278 251 278 269\" stroke=\"gray\" stroke-width=\"0.5\"/><path d=\"M 278 251 298 248\" stroke=\"gray\" stroke-width=\"0.5\"/><path d=\"M 278 251 286 275\" stroke=\"gray\" stroke-width=\"0.5\"/><path d=\"M 278 251 289 265\" stroke=\"gray\" stroke-width=\"0.5\"/><path d=\"M 278 251 311 276\" stroke=\"gray\" stroke-width=\"0.5\"/><path d=\"M 278 251 276 278\" stroke=\"gray\" stroke-width=\"0.5\"/><path d=\"M 278 251 292 302\" stroke=\"gray\" stroke-width=\"0.5\"/><path d=\"M 278 251 240 243\" stroke=\"gray\" stroke-width=\"0.5\"/><path d=\"M 278 251 285 230\" stroke=\"gray\" stroke-width=\"0.5\"/><path d=\"M 278 251 259 244\" stroke=\"gray\" stroke-width=\"0.5\"/><path d=\"M 278 251 273 291\" stroke=\"gray\" stroke-width=\"0.5\"/><path d=\"M 278 251 273 234\" stroke=\"gray\" stroke-width=\"0.5\"/><path d=\"M 278 251 285 239\" stroke=\"gray\" stroke-width=\"0.5\"/><path d=\"M 278 251 293 240\" stroke=\"gray\" stroke-width=\"0.5\"/><path d=\"M 278 251 266 239\" stroke=\"gray\" stroke-width=\"0.5\"/><path d=\"M 278 251 270 260\" stroke=\"gray\" stroke-width=\"0.5\"/><path d=\"M 278 251 298 230\" stroke=\"gray\" stroke-width=\"0.5\"/><path d=\"M 278 251 261 254\" stroke=\"gray\" stroke-width=\"0.5\"/><path d=\"M 278 251 249 263\" stroke=\"gray\" stroke-width=\"0.5\"/><path d=\"M 278 251 259 283\" stroke=\"gray\" stroke-width=\"0.5\"/><path d=\"M 278 251 246 275\" stroke=\"gray\" stroke-width=\"0.5\"/><path d=\"M 278 251 255 271\" stroke=\"gray\" stroke-width=\"0.5\"/><path d=\"M 278 251 290 256\" stroke=\"gray\" stroke-width=\"0.5\"/><path d=\"M 278 251 308 258\" stroke=\"gray\" stroke-width=\"0.5\"/><path d=\"M 278 251 307 251\" stroke=\"gray\" stroke-width=\"0.5\"/><path d=\"M 278 251 269 271\" stroke=\"gray\" stroke-width=\"0.5\"/><path d=\"M 278 251 280 259\" stroke=\"gray\" stroke-width=\"0.5\"/><path d=\"M 278 251 294 275\" stroke=\"gray\" stroke-width=\"0.5\"/><path d=\"M 278 251 298 266\" stroke=\"gray\" stroke-width=\"0.5\"/><path d=\"M 278 251 300 297\" stroke=\"gray\" stroke-width=\"0.5\"/><path d=\"M 278 251 285 289\" stroke=\"gray\" stroke-width=\"0.5\"/><path d=\"M 280 259 278 269\" stroke=\"gray\" stroke-width=\"0.5\"/><path d=\"M 280 259 298 248\" stroke=\"gray\" stroke-width=\"0.5\"/><path d=\"M 280 259 286 275\" stroke=\"gray\" stroke-width=\"0.5\"/><path d=\"M 280 259 289 265\" stroke=\"gray\" stroke-width=\"0.5\"/><path d=\"M 280 259 311 276\" stroke=\"gray\" stroke-width=\"0.5\"/><path d=\"M 280 259 276 278\" stroke=\"gray\" stroke-width=\"0.5\"/><path d=\"M 280 259 292 302\" stroke=\"gray\" stroke-width=\"0.5\"/><path d=\"M 280 259 240 243\" stroke=\"gray\" stroke-width=\"0.5\"/><path d=\"M 280 259 285 230\" stroke=\"gray\" stroke-width=\"0.5\"/><path d=\"M 280 259 259 244\" stroke=\"gray\" stroke-width=\"0.5\"/><path d=\"M 280 259 273 291\" stroke=\"gray\" stroke-width=\"0.5\"/><path d=\"M 280 259 273 234\" stroke=\"gray\" stroke-width=\"0.5\"/><path d=\"M 280 259 285 239\" stroke=\"gray\" stroke-width=\"0.5\"/><path d=\"M 280 259 293 240\" stroke=\"gray\" stroke-width=\"0.5\"/><path d=\"M 280 259 266 239\" stroke=\"gray\" stroke-width=\"0.5\"/><path d=\"M 280 259 270 260\" stroke=\"gray\" stroke-width=\"0.5\"/><path d=\"M 280 259 298 230\" stroke=\"gray\" stroke-width=\"0.5\"/><path d=\"M 280 259 261 254\" stroke=\"gray\" stroke-width=\"0.5\"/><path d=\"M 280 259 249 263\" stroke=\"gray\" stroke-width=\"0.5\"/><path d=\"M 280 259 259 283\" stroke=\"gray\" stroke-width=\"0.5\"/><path d=\"M 280 259 246 275\" stroke=\"gray\" stroke-width=\"0.5\"/><path d=\"M 280 259 255 271\" stroke=\"gray\" stroke-width=\"0.5\"/><path d=\"M 280 259 290 256\" stroke=\"gray\" stroke-width=\"0.5\"/><path d=\"M 280 259 308 258\" stroke=\"gray\" stroke-width=\"0.5\"/><path d=\"M 280 259 307 251\" stroke=\"gray\" stroke-width=\"0.5\"/><path d=\"M 280 259 269 271\" stroke=\"gray\" stroke-width=\"0.5\"/><path d=\"M 280 259 278 251\" stroke=\"gray\" stroke-width=\"0.5\"/><path d=\"M 280 259 294 275\" stroke=\"gray\" stroke-width=\"0.5\"/><path d=\"M 280 259 298 266\" stroke=\"gray\" stroke-width=\"0.5\"/><path d=\"M 280 259 300 297\" stroke=\"gray\" stroke-width=\"0.5\"/><path d=\"M 280 259 285 289\" stroke=\"gray\" stroke-width=\"0.5\"/><path d=\"M 294 275 278 269\" stroke=\"gray\" stroke-width=\"0.5\"/><path d=\"M 294 275 298 248\" stroke=\"gray\" stroke-width=\"0.5\"/><path d=\"M 294 275 286 275\" stroke=\"gray\" stroke-width=\"0.5\"/><path d=\"M 294 275 289 265\" stroke=\"gray\" stroke-width=\"0.5\"/><path d=\"M 294 275 311 276\" stroke=\"gray\" stroke-width=\"0.5\"/><path d=\"M 294 275 276 278\" stroke=\"gray\" stroke-width=\"0.5\"/><path d=\"M 294 275 292 302\" stroke=\"gray\" stroke-width=\"0.5\"/><path d=\"M 294 275 240 243\" stroke=\"gray\" stroke-width=\"0.5\"/><path d=\"M 294 275 285 230\" stroke=\"gray\" stroke-width=\"0.5\"/><path d=\"M 294 275 259 244\" stroke=\"gray\" stroke-width=\"0.5\"/><path d=\"M 294 275 273 291\" stroke=\"gray\" stroke-width=\"0.5\"/><path d=\"M 294 275 273 234\" stroke=\"gray\" stroke-width=\"0.5\"/><path d=\"M 294 275 285 239\" stroke=\"gray\" stroke-width=\"0.5\"/><path d=\"M 294 275 293 240\" stroke=\"gray\" stroke-width=\"0.5\"/><path d=\"M 294 275 266 239\" stroke=\"gray\" stroke-width=\"0.5\"/><path d=\"M 294 275 270 260\" stroke=\"gray\" stroke-width=\"0.5\"/><path d=\"M 294 275 298 230\" stroke=\"gray\" stroke-width=\"0.5\"/><path d=\"M 294 275 261 254\" stroke=\"gray\" stroke-width=\"0.5\"/><path d=\"M 294 275 249 263\" stroke=\"gray\" stroke-width=\"0.5\"/><path d=\"M 294 275 259 283\" stroke=\"gray\" stroke-width=\"0.5\"/><path d=\"M 294 275 246 275\" stroke=\"gray\" stroke-width=\"0.5\"/><path d=\"M 294 275 255 271\" stroke=\"gray\" stroke-width=\"0.5\"/><path d=\"M 294 275 290 256\" stroke=\"gray\" stroke-width=\"0.5\"/><path d=\"M 294 275 308 258\" stroke=\"gray\" stroke-width=\"0.5\"/><path d=\"M 294 275 307 251\" stroke=\"gray\" stroke-width=\"0.5\"/><path d=\"M 294 275 269 271\" stroke=\"gray\" stroke-width=\"0.5\"/><path d=\"M 294 275 278 251\" stroke=\"gray\" stroke-width=\"0.5\"/><path d=\"M 294 275 280 259\" stroke=\"gray\" stroke-width=\"0.5\"/><path d=\"M 294 275 298 266\" stroke=\"gray\" stroke-width=\"0.5\"/><path d=\"M 294 275 300 297\" stroke=\"gray\" stroke-width=\"0.5\"/><path d=\"M 294 275 285 289\" stroke=\"gray\" stroke-width=\"0.5\"/><path d=\"M 298 266 278 269\" stroke=\"gray\" stroke-width=\"0.5\"/><path d=\"M 298 266 298 248\" stroke=\"gray\" stroke-width=\"0.5\"/><path d=\"M 298 266 286 275\" stroke=\"gray\" stroke-width=\"0.5\"/><path d=\"M 298 266 289 265\" stroke=\"gray\" stroke-width=\"0.5\"/><path d=\"M 298 266 311 276\" stroke=\"gray\" stroke-width=\"0.5\"/><path d=\"M 298 266 276 278\" stroke=\"gray\" stroke-width=\"0.5\"/><path d=\"M 298 266 292 302\" stroke=\"gray\" stroke-width=\"0.5\"/><path d=\"M 298 266 240 243\" stroke=\"gray\" stroke-width=\"0.5\"/><path d=\"M 298 266 285 230\" stroke=\"gray\" stroke-width=\"0.5\"/><path d=\"M 298 266 259 244\" stroke=\"gray\" stroke-width=\"0.5\"/><path d=\"M 298 266 273 291\" stroke=\"gray\" stroke-width=\"0.5\"/><path d=\"M 298 266 273 234\" stroke=\"gray\" stroke-width=\"0.5\"/><path d=\"M 298 266 285 239\" stroke=\"gray\" stroke-width=\"0.5\"/><path d=\"M 298 266 293 240\" stroke=\"gray\" stroke-width=\"0.5\"/><path d=\"M 298 266 266 239\" stroke=\"gray\" stroke-width=\"0.5\"/><path d=\"M 298 266 270 260\" stroke=\"gray\" stroke-width=\"0.5\"/><path d=\"M 298 266 298 230\" stroke=\"gray\" stroke-width=\"0.5\"/><path d=\"M 298 266 261 254\" stroke=\"gray\" stroke-width=\"0.5\"/><path d=\"M 298 266 249 263\" stroke=\"gray\" stroke-width=\"0.5\"/><path d=\"M 298 266 259 283\" stroke=\"gray\" stroke-width=\"0.5\"/><path d=\"M 298 266 246 275\" stroke=\"gray\" stroke-width=\"0.5\"/><path d=\"M 298 266 255 271\" stroke=\"gray\" stroke-width=\"0.5\"/><path d=\"M 298 266 290 256\" stroke=\"gray\" stroke-width=\"0.5\"/><path d=\"M 298 266 308 258\" stroke=\"gray\" stroke-width=\"0.5\"/><path d=\"M 298 266 307 251\" stroke=\"gray\" stroke-width=\"0.5\"/><path d=\"M 298 266 269 271\" stroke=\"gray\" stroke-width=\"0.5\"/><path d=\"M 298 266 278 251\" stroke=\"gray\" stroke-width=\"0.5\"/><path d=\"M 298 266 280 259\" stroke=\"gray\" stroke-width=\"0.5\"/><path d=\"M 298 266 294 275\" stroke=\"gray\" stroke-width=\"0.5\"/><path d=\"M 298 266 300 297\" stroke=\"gray\" stroke-width=\"0.5\"/><path d=\"M 298 266 285 289\" stroke=\"gray\" stroke-width=\"0.5\"/><path d=\"M 283 409 312 408\" stroke=\"gray\" stroke-width=\"0.5\"/><path d=\"M 283 409 300 297\" stroke=\"gray\" stroke-width=\"0.5\"/><path d=\"M 312 408 283 409\" stroke=\"gray\" stroke-width=\"0.5\"/><path d=\"M 312 408 328 422\" stroke=\"gray\" stroke-width=\"0.5\"/><path d=\"M 312 408 300 297\" stroke=\"gray\" stroke-width=\"0.5\"/><path d=\"M 328 422 312 408\" stroke=\"gray\" stroke-width=\"0.5\"/><path d=\"M 328 422 300 297\" stroke=\"gray\" stroke-width=\"0.5\"/><path d=\"M 300 297 278 269\" stroke=\"gray\" stroke-width=\"0.5\"/><path d=\"M 300 297 298 248\" stroke=\"gray\" stroke-width=\"0.5\"/><path d=\"M 300 297 286 275\" stroke=\"gray\" stroke-width=\"0.5\"/><path d=\"M 300 297 289 265\" stroke=\"gray\" stroke-width=\"0.5\"/><path d=\"M 300 297 311 276\" stroke=\"gray\" stroke-width=\"0.5\"/><path d=\"M 300 297 276 278\" stroke=\"gray\" stroke-width=\"0.5\"/><path d=\"M 300 297 292 302\" stroke=\"gray\" stroke-width=\"0.5\"/><path d=\"M 300 297 240 243\" stroke=\"gray\" stroke-width=\"0.5\"/><path d=\"M 300 297 285 230\" stroke=\"gray\" stroke-width=\"0.5\"/><path d=\"M 300 297 259 244\" stroke=\"gray\" stroke-width=\"0.5\"/><path d=\"M 300 297 273 291\" stroke=\"gray\" stroke-width=\"0.5\"/><path d=\"M 300 297 273 234\" stroke=\"gray\" stroke-width=\"0.5\"/><path d=\"M 300 297 285 239\" stroke=\"gray\" stroke-width=\"0.5\"/><path d=\"M 300 297 293 240\" stroke=\"gray\" stroke-width=\"0.5\"/><path d=\"M 300 297 266 239\" stroke=\"gray\" stroke-width=\"0.5\"/><path d=\"M 300 297 270 260\" stroke=\"gray\" stroke-width=\"0.5\"/><path d=\"M 300 297 298 230\" stroke=\"gray\" stroke-width=\"0.5\"/><path d=\"M 300 297 261 254\" stroke=\"gray\" stroke-width=\"0.5\"/><path d=\"M 300 297 249 263\" stroke=\"gray\" stroke-width=\"0.5\"/><path d=\"M 300 297 259 283\" stroke=\"gray\" stroke-width=\"0.5\"/><path d=\"M 300 297 246 275\" stroke=\"gray\" stroke-width=\"0.5\"/><path d=\"M 300 297 255 271\" stroke=\"gray\" stroke-width=\"0.5\"/><path d=\"M 300 297 290 256\" stroke=\"gray\" stroke-width=\"0.5\"/><path d=\"M 300 297 308 258\" stroke=\"gray\" stroke-width=\"0.5\"/><path d=\"M 300 297 307 251\" stroke=\"gray\" stroke-width=\"0.5\"/><path d=\"M 300 297 269 271\" stroke=\"gray\" stroke-width=\"0.5\"/><path d=\"M 300 297 418 293\" stroke=\"gray\" stroke-width=\"0.5\"/><path d=\"M 300 297 278 251\" stroke=\"gray\" stroke-width=\"0.5\"/><path d=\"M 300 297 280 259\" stroke=\"gray\" stroke-width=\"0.5\"/><path d=\"M 300 297 294 275\" stroke=\"gray\" stroke-width=\"0.5\"/><path d=\"M 300 297 298 266\" stroke=\"gray\" stroke-width=\"0.5\"/><path d=\"M 300 297 283 409\" stroke=\"gray\" stroke-width=\"0.5\"/><path d=\"M 300 297 312 408\" stroke=\"gray\" stroke-width=\"0.5\"/><path d=\"M 300 297 328 422\" stroke=\"gray\" stroke-width=\"0.5\"/><path d=\"M 300 297 285 289\" stroke=\"gray\" stroke-width=\"0.5\"/><path d=\"M 285 289 278 269\" stroke=\"gray\" stroke-width=\"0.5\"/><path d=\"M 285 289 298 248\" stroke=\"gray\" stroke-width=\"0.5\"/><path d=\"M 285 289 286 275\" stroke=\"gray\" stroke-width=\"0.5\"/><path d=\"M 285 289 314 381\" stroke=\"gray\" stroke-width=\"0.5\"/><path d=\"M 285 289 289 265\" stroke=\"gray\" stroke-width=\"0.5\"/><path d=\"M 285 289 311 276\" stroke=\"gray\" stroke-width=\"0.5\"/><path d=\"M 285 289 276 278\" stroke=\"gray\" stroke-width=\"0.5\"/><path d=\"M 285 289 292 302\" stroke=\"gray\" stroke-width=\"0.5\"/><path d=\"M 285 289 240 243\" stroke=\"gray\" stroke-width=\"0.5\"/><path d=\"M 285 289 276 371\" stroke=\"gray\" stroke-width=\"0.5\"/><path d=\"M 285 289 285 230\" stroke=\"gray\" stroke-width=\"0.5\"/><path d=\"M 285 289 259 244\" stroke=\"gray\" stroke-width=\"0.5\"/><path d=\"M 285 289 273 291\" stroke=\"gray\" stroke-width=\"0.5\"/><path d=\"M 285 289 273 234\" stroke=\"gray\" stroke-width=\"0.5\"/><path d=\"M 285 289 285 239\" stroke=\"gray\" stroke-width=\"0.5\"/><path d=\"M 285 289 293 240\" stroke=\"gray\" stroke-width=\"0.5\"/><path d=\"M 285 289 266 239\" stroke=\"gray\" stroke-width=\"0.5\"/><path d=\"M 285 289 270 260\" stroke=\"gray\" stroke-width=\"0.5\"/><path d=\"M 285 289 298 230\" stroke=\"gray\" stroke-width=\"0.5\"/><path d=\"M 285 289 261 254\" stroke=\"gray\" stroke-width=\"0.5\"/><path d=\"M 285 289 249 263\" stroke=\"gray\" stroke-width=\"0.5\"/><path d=\"M 285 289 259 283\" stroke=\"gray\" stroke-width=\"0.5\"/><path d=\"M 285 289 246 275\" stroke=\"gray\" stroke-width=\"0.5\"/><path d=\"M 285 289 255 271\" stroke=\"gray\" stroke-width=\"0.5\"/><path d=\"M 285 289 290 256\" stroke=\"gray\" stroke-width=\"0.5\"/><path d=\"M 285 289 308 258\" stroke=\"gray\" stroke-width=\"0.5\"/><path d=\"M 285 289 307 251\" stroke=\"gray\" stroke-width=\"0.5\"/><path d=\"M 285 289 269 271\" stroke=\"gray\" stroke-width=\"0.5\"/><path d=\"M 285 289 278 251\" stroke=\"gray\" stroke-width=\"0.5\"/><path d=\"M 285 289 280 259\" stroke=\"gray\" stroke-width=\"0.5\"/><path d=\"M 285 289 294 275\" stroke=\"gray\" stroke-width=\"0.5\"/><path d=\"M 285 289 298 266\" stroke=\"gray\" stroke-width=\"0.5\"/><path d=\"M 285 289 300 297\" stroke=\"gray\" stroke-width=\"0.5\"/><path d=\"M 208 278 207 326\" stroke=\"gray\" stroke-width=\"0.5\"/><path d=\"M 208 278 261 254\" stroke=\"gray\" stroke-width=\"0.5\"/><path d=\"M 208 278 202 224\" stroke=\"gray\" stroke-width=\"0.5\"/><path d=\"M 208 278 195 299\" stroke=\"gray\" stroke-width=\"0.5\"/><path d=\"M 208 278 259 283\" stroke=\"gray\" stroke-width=\"0.5\"/><path d=\"M 208 278 202 350\" stroke=\"gray\" stroke-width=\"0.5\"/><path d=\"M 208 278 246 275\" stroke=\"gray\" stroke-width=\"0.5\"/><path d=\"M 208 278 255 271\" stroke=\"gray\" stroke-width=\"0.5\"/><path d=\"M 208 278 261 191\" stroke=\"gray\" stroke-width=\"0.5\"/><path d=\"M 144 116 172 228\" stroke=\"gray\" stroke-width=\"0.5\"/><path d=\"M 151 243 261 191\" stroke=\"gray\" stroke-width=\"0.5\"/><path d=\"M 261 191 330 139\" stroke=\"gray\" stroke-width=\"0.5\"/><path d=\"M 261 191 349 119\" stroke=\"gray\" stroke-width=\"0.5\"/><path d=\"M 261 191 298 230\" stroke=\"gray\" stroke-width=\"0.5\"/><path d=\"M 261 191 261 254\" stroke=\"gray\" stroke-width=\"0.5\"/><path d=\"M 261 191 202 224\" stroke=\"gray\" stroke-width=\"0.5\"/><path d=\"M 261 191 255 271\" stroke=\"gray\" stroke-width=\"0.5\"/><path d=\"M 261 191 350 181\" stroke=\"gray\" stroke-width=\"0.5\"/><path d=\"M 261 191 208 278\" stroke=\"gray\" stroke-width=\"0.5\"/><path d=\"M 261 191 151 243\" stroke=\"gray\" stroke-width=\"0.5\"/><circle cx=\"278\" cy=\"269\" r=\"3.0\" style=\"fill:rgb(247, 177, 148);stroke:black;stroke-width:1.0\"/><circle cx=\"298\" cy=\"248\" r=\"3.0\" style=\"fill:rgb(239, 137, 108);stroke:black;stroke-width:1.0\"/><circle cx=\"286\" cy=\"275\" r=\"3.0\" style=\"fill:rgb(247, 177, 148);stroke:black;stroke-width:1.0\"/><circle cx=\"218\" cy=\"169\" r=\"3.0\" style=\"fill:rgb(80, 107, 218);stroke:black;stroke-width:1.0\"/><circle cx=\"314\" cy=\"381\" r=\"3.0\" style=\"fill:rgb(72, 96, 209);stroke:black;stroke-width:1.0\"/><circle cx=\"312\" cy=\"177\" r=\"3.0\" style=\"fill:rgb(86, 115, 224);stroke:black;stroke-width:1.0\"/><circle cx=\"289\" cy=\"265\" r=\"3.0\" style=\"fill:rgb(247, 177, 148);stroke:black;stroke-width:1.0\"/><circle cx=\"330\" cy=\"139\" r=\"3.0\" style=\"fill:rgb(109, 144, 241);stroke:black;stroke-width:1.0\"/><circle cx=\"417\" cy=\"311\" r=\"3.0\" style=\"fill:rgb(80, 107, 218);stroke:black;stroke-width:1.0\"/><circle cx=\"408\" cy=\"334\" r=\"3.0\" style=\"fill:rgb(80, 107, 218);stroke:black;stroke-width:1.0\"/><circle cx=\"311\" cy=\"276\" r=\"3.0\" style=\"fill:rgb(230, 114, 89);stroke:black;stroke-width:1.0\"/><circle cx=\"338\" cy=\"408\" r=\"3.0\" style=\"fill:rgb(112, 147, 243);stroke:black;stroke-width:1.0\"/><circle cx=\"276\" cy=\"278\" r=\"3.0\" style=\"fill:rgb(247, 177, 148);stroke:black;stroke-width:1.0\"/><circle cx=\"292\" cy=\"302\" r=\"3.0\" style=\"fill:rgb(201, 59, 55);stroke:black;stroke-width:1.0\"/><circle cx=\"113\" cy=\"177\" r=\"3.0\" style=\"fill:rgb(159, 190, 254);stroke:black;stroke-width:1.0\"/><circle cx=\"240\" cy=\"243\" r=\"3.0\" style=\"fill:rgb(201, 59, 55);stroke:black;stroke-width:1.0\"/><circle cx=\"720\" cy=\"343\" r=\"3.0\" style=\"fill:rgb(193, 212, 244);stroke:black;stroke-width:1.0\"/><circle cx=\"130\" cy=\"213\" r=\"3.0\" style=\"fill:rgb(116, 151, 245);stroke:black;stroke-width:1.0\"/><circle cx=\"713\" cy=\"387\" r=\"3.0\" style=\"fill:rgb(193, 212, 244);stroke:black;stroke-width:1.0\"/><circle cx=\"292\" cy=\"437\" r=\"3.0\" style=\"fill:rgb(159, 190, 254);stroke:black;stroke-width:1.0\"/><circle cx=\"225\" cy=\"520\" r=\"3.0\" style=\"fill:rgb(76, 102, 214);stroke:black;stroke-width:1.0\"/><circle cx=\"371\" cy=\"399\" r=\"3.0\" style=\"fill:rgb(159, 190, 254);stroke:black;stroke-width:1.0\"/><circle cx=\"467\" cy=\"402\" r=\"3.0\" style=\"fill:rgb(76, 102, 214);stroke:black;stroke-width:1.0\"/><circle cx=\"20\" cy=\"126\" r=\"3.0\" style=\"fill:rgb(70, 93, 207);stroke:black;stroke-width:1.0\"/><circle cx=\"606\" cy=\"135\" r=\"3.0\" style=\"fill:rgb(193, 212, 244);stroke:black;stroke-width:1.0\"/><circle cx=\"124\" cy=\"185\" r=\"3.0\" style=\"fill:rgb(159, 190, 254);stroke:black;stroke-width:1.0\"/><circle cx=\"44\" cy=\"131\" r=\"3.0\" style=\"fill:rgb(70, 93, 207);stroke:black;stroke-width:1.0\"/><circle cx=\"181\" cy=\"197\" r=\"3.0\" style=\"fill:rgb(155, 187, 254);stroke:black;stroke-width:1.0\"/><circle cx=\"276\" cy=\"371\" r=\"3.0\" style=\"fill:rgb(105, 139, 239);stroke:black;stroke-width:1.0\"/><circle cx=\"285\" cy=\"230\" r=\"3.0\" style=\"fill:rgb(222, 98, 78);stroke:black;stroke-width:1.0\"/><circle cx=\"270\" cy=\"104\" r=\"3.0\" style=\"fill:rgb(58, 76, 192);stroke:black;stroke-width:1.0\"/><circle cx=\"259\" cy=\"244\" r=\"3.0\" style=\"fill:rgb(239, 137, 108);stroke:black;stroke-width:1.0\"/><circle cx=\"363\" cy=\"203\" r=\"3.0\" style=\"fill:rgb(120, 155, 247);stroke:black;stroke-width:1.0\"/><circle cx=\"466\" cy=\"189\" r=\"3.0\" style=\"fill:rgb(64, 84, 199);stroke:black;stroke-width:1.0\"/><circle cx=\"243\" cy=\"396\" r=\"3.0\" style=\"fill:rgb(72, 96, 209);stroke:black;stroke-width:1.0\"/><circle cx=\"273\" cy=\"291\" r=\"3.0\" style=\"fill:rgb(236, 128, 100);stroke:black;stroke-width:1.0\"/><circle cx=\"273\" cy=\"234\" r=\"3.0\" style=\"fill:rgb(220, 94, 75);stroke:black;stroke-width:1.0\"/><circle cx=\"285\" cy=\"239\" r=\"3.0\" style=\"fill:rgb(239, 137, 108);stroke:black;stroke-width:1.0\"/><circle cx=\"330\" cy=\"164\" r=\"3.0\" style=\"fill:rgb(80, 107, 218);stroke:black;stroke-width:1.0\"/><circle cx=\"293\" cy=\"240\" r=\"3.0\" style=\"fill:rgb(239, 137, 108);stroke:black;stroke-width:1.0\"/><circle cx=\"301\" cy=\"151\" r=\"3.0\" style=\"fill:rgb(80, 107, 218);stroke:black;stroke-width:1.0\"/><circle cx=\"588\" cy=\"95\" r=\"3.0\" style=\"fill:rgb(193, 212, 244);stroke:black;stroke-width:1.0\"/><circle cx=\"207\" cy=\"134\" r=\"3.0\" style=\"fill:rgb(58, 76, 192);stroke:black;stroke-width:1.0\"/><circle cx=\"266\" cy=\"239\" r=\"3.0\" style=\"fill:rgb(240, 141, 111);stroke:black;stroke-width:1.0\"/><circle cx=\"270\" cy=\"260\" r=\"3.0\" style=\"fill:rgb(247, 177, 148);stroke:black;stroke-width:1.0\"/><circle cx=\"349\" cy=\"119\" r=\"3.0\" style=\"fill:rgb(148, 181, 254);stroke:black;stroke-width:1.0\"/><circle cx=\"414\" cy=\"20\" r=\"3.0\" style=\"fill:rgb(70, 93, 207);stroke:black;stroke-width:1.0\"/><circle cx=\"298\" cy=\"230\" r=\"3.0\" style=\"fill:rgb(211, 77, 64);stroke:black;stroke-width:1.0\"/><circle cx=\"414\" cy=\"205\" r=\"3.0\" style=\"fill:rgb(58, 76, 192);stroke:black;stroke-width:1.0\"/><circle cx=\"402\" cy=\"234\" r=\"3.0\" style=\"fill:rgb(72, 96, 209);stroke:black;stroke-width:1.0\"/><circle cx=\"207\" cy=\"326\" r=\"3.0\" style=\"fill:rgb(109, 144, 241);stroke:black;stroke-width:1.0\"/><circle cx=\"261\" cy=\"254\" r=\"3.0\" style=\"fill:rgb(234, 123, 96);stroke:black;stroke-width:1.0\"/><circle cx=\"202\" cy=\"224\" r=\"3.0\" style=\"fill:rgb(88, 118, 226);stroke:black;stroke-width:1.0\"/><circle cx=\"195\" cy=\"299\" r=\"3.0\" style=\"fill:rgb(166, 195, 253);stroke:black;stroke-width:1.0\"/><circle cx=\"249\" cy=\"263\" r=\"3.0\" style=\"fill:rgb(225, 104, 82);stroke:black;stroke-width:1.0\"/><circle cx=\"168\" cy=\"274\" r=\"3.0\" style=\"fill:rgb(105, 139, 239);stroke:black;stroke-width:1.0\"/><circle cx=\"259\" cy=\"283\" r=\"3.0\" style=\"fill:rgb(227, 108, 84);stroke:black;stroke-width:1.0\"/><circle cx=\"202\" cy=\"350\" r=\"3.0\" style=\"fill:rgb(141, 175, 253);stroke:black;stroke-width:1.0\"/><circle cx=\"161\" cy=\"464\" r=\"3.0\" style=\"fill:rgb(64, 84, 199);stroke:black;stroke-width:1.0\"/><circle cx=\"174\" cy=\"289\" r=\"3.0\" style=\"fill:rgb(105, 139, 239);stroke:black;stroke-width:1.0\"/><circle cx=\"246\" cy=\"275\" r=\"3.0\" style=\"fill:rgb(187, 26, 43);stroke:black;stroke-width:1.0\"/><circle cx=\"172\" cy=\"228\" r=\"3.0\" style=\"fill:rgb(141, 175, 253);stroke:black;stroke-width:1.0\"/><circle cx=\"255\" cy=\"271\" r=\"3.0\" style=\"fill:rgb(201, 59, 55);stroke:black;stroke-width:1.0\"/><circle cx=\"290\" cy=\"256\" r=\"3.0\" style=\"fill:rgb(247, 177, 148);stroke:black;stroke-width:1.0\"/><circle cx=\"308\" cy=\"258\" r=\"3.0\" style=\"fill:rgb(236, 128, 100);stroke:black;stroke-width:1.0\"/><circle cx=\"307\" cy=\"251\" r=\"3.0\" style=\"fill:rgb(240, 141, 111);stroke:black;stroke-width:1.0\"/><circle cx=\"350\" cy=\"181\" r=\"3.0\" style=\"fill:rgb(141, 175, 253);stroke:black;stroke-width:1.0\"/><circle cx=\"269\" cy=\"271\" r=\"3.0\" style=\"fill:rgb(247, 177, 148);stroke:black;stroke-width:1.0\"/><circle cx=\"418\" cy=\"293\" r=\"3.0\" style=\"fill:rgb(58, 76, 192);stroke:black;stroke-width:1.0\"/><circle cx=\"278\" cy=\"251\" r=\"3.0\" style=\"fill:rgb(247, 177, 148);stroke:black;stroke-width:1.0\"/><circle cx=\"280\" cy=\"259\" r=\"3.0\" style=\"fill:rgb(247, 177, 148);stroke:black;stroke-width:1.0\"/><circle cx=\"294\" cy=\"275\" r=\"3.0\" style=\"fill:rgb(247, 177, 148);stroke:black;stroke-width:1.0\"/><circle cx=\"298\" cy=\"266\" r=\"3.0\" style=\"fill:rgb(247, 177, 148);stroke:black;stroke-width:1.0\"/><circle cx=\"283\" cy=\"409\" r=\"3.0\" style=\"fill:rgb(80, 107, 218);stroke:black;stroke-width:1.0\"/><circle cx=\"312\" cy=\"408\" r=\"3.0\" style=\"fill:rgb(105, 139, 239);stroke:black;stroke-width:1.0\"/><circle cx=\"328\" cy=\"422\" r=\"3.0\" style=\"fill:rgb(80, 107, 218);stroke:black;stroke-width:1.0\"/><circle cx=\"300\" cy=\"297\" r=\"3.0\" style=\"fill:rgb(179, 3, 38);stroke:black;stroke-width:1.0\"/><circle cx=\"285\" cy=\"289\" r=\"3.0\" style=\"fill:rgb(236, 128, 100);stroke:black;stroke-width:1.0\"/><circle cx=\"208\" cy=\"278\" r=\"3.0\" style=\"fill:rgb(148, 181, 254);stroke:black;stroke-width:1.0\"/><circle cx=\"144\" cy=\"116\" r=\"3.0\" style=\"fill:rgb(64, 84, 199);stroke:black;stroke-width:1.0\"/><circle cx=\"151\" cy=\"243\" r=\"3.0\" style=\"fill:rgb(64, 84, 199);stroke:black;stroke-width:1.0\"/><circle cx=\"261\" cy=\"191\" r=\"3.0\" style=\"fill:rgb(193, 212, 244);stroke:black;stroke-width:1.0\"/><text font-size=\"10\" x=\"284\" y=\"272\">0</text><text font-size=\"10\" x=\"304\" y=\"251\">1</text><text font-size=\"10\" x=\"292\" y=\"278\">2</text><text font-size=\"10\" x=\"224\" y=\"172\">6</text><text font-size=\"10\" x=\"320\" y=\"384\">7</text><text font-size=\"10\" x=\"318\" y=\"180\">8</text><text font-size=\"10\" x=\"295\" y=\"268\">12</text><text font-size=\"10\" x=\"336\" y=\"142\">13</text><text font-size=\"10\" x=\"423\" y=\"314\">14</text><text font-size=\"10\" x=\"414\" y=\"337\">16</text><text font-size=\"10\" x=\"317\" y=\"279\">18</text><text font-size=\"10\" x=\"344\" y=\"411\">20</text><text font-size=\"10\" x=\"282\" y=\"281\">21</text><text font-size=\"10\" x=\"298\" y=\"305\">22</text><text font-size=\"10\" x=\"119\" y=\"180\">23</text><text font-size=\"10\" x=\"246\" y=\"246\">24</text><text font-size=\"10\" x=\"726\" y=\"346\">26</text><text font-size=\"10\" x=\"136\" y=\"216\">27</text><text font-size=\"10\" x=\"719\" y=\"390\">28</text><text font-size=\"10\" x=\"298\" y=\"440\">29</text><text font-size=\"10\" x=\"231\" y=\"523\">30</text><text font-size=\"10\" x=\"377\" y=\"402\">31</text><text font-size=\"10\" x=\"473\" y=\"405\">32</text><text font-size=\"10\" x=\"26\" y=\"129\">33</text><text font-size=\"10\" x=\"612\" y=\"138\">36</text><text font-size=\"10\" x=\"130\" y=\"188\">37</text><text font-size=\"10\" x=\"50\" y=\"134\">38</text><text font-size=\"10\" x=\"187\" y=\"200\">39</text><text font-size=\"10\" x=\"282\" y=\"374\">41</text><text font-size=\"10\" x=\"291\" y=\"233\">42</text><text font-size=\"10\" x=\"276\" y=\"107\">44</text><text font-size=\"10\" x=\"265\" y=\"247\">45</text><text font-size=\"10\" x=\"369\" y=\"206\">46</text><text font-size=\"10\" x=\"472\" y=\"192\">47</text><text font-size=\"10\" x=\"249\" y=\"399\">48</text><text font-size=\"10\" x=\"279\" y=\"294\">50</text><text font-size=\"10\" x=\"279\" y=\"237\">52</text><text font-size=\"10\" x=\"291\" y=\"242\">53</text><text font-size=\"10\" x=\"336\" y=\"167\">54</text><text font-size=\"10\" x=\"299\" y=\"243\">55</text><text font-size=\"10\" x=\"307\" y=\"154\">56</text><text font-size=\"10\" x=\"594\" y=\"98\">60</text><text font-size=\"10\" x=\"213\" y=\"137\">61</text><text font-size=\"10\" x=\"272\" y=\"242\">62</text><text font-size=\"10\" x=\"276\" y=\"263\">65</text><text font-size=\"10\" x=\"355\" y=\"122\">67</text><text font-size=\"10\" x=\"420\" y=\"23\">68</text><text font-size=\"10\" x=\"304\" y=\"233\">70</text><text font-size=\"10\" x=\"420\" y=\"208\">71</text><text font-size=\"10\" x=\"408\" y=\"237\">73</text><text font-size=\"10\" x=\"213\" y=\"329\">74</text><text font-size=\"10\" x=\"267\" y=\"257\">75</text><text font-size=\"10\" x=\"208\" y=\"227\">76</text><text font-size=\"10\" x=\"201\" y=\"302\">77</text><text font-size=\"10\" x=\"255\" y=\"266\">78</text><text font-size=\"10\" x=\"174\" y=\"277\">79</text><text font-size=\"10\" x=\"265\" y=\"286\">80</text><text font-size=\"10\" x=\"208\" y=\"353\">81</text><text font-size=\"10\" x=\"167\" y=\"467\">82</text><text font-size=\"10\" x=\"180\" y=\"292\">83</text><text font-size=\"10\" x=\"252\" y=\"278\">84</text><text font-size=\"10\" x=\"178\" y=\"231\">85</text><text font-size=\"10\" x=\"261\" y=\"274\">86</text><text font-size=\"10\" x=\"296\" y=\"259\">88</text><text font-size=\"10\" x=\"314\" y=\"261\">90</text><text font-size=\"10\" x=\"313\" y=\"254\">91</text><text font-size=\"10\" x=\"356\" y=\"184\">92</text><text font-size=\"10\" x=\"275\" y=\"274\">93</text><text font-size=\"10\" x=\"424\" y=\"296\">99</text><text font-size=\"10\" x=\"284\" y=\"254\">100</text><text font-size=\"10\" x=\"286\" y=\"262\">104</text><text font-size=\"10\" x=\"300\" y=\"278\">108</text><text font-size=\"10\" x=\"304\" y=\"269\">110</text><text font-size=\"10\" x=\"289\" y=\"412\">112</text><text font-size=\"10\" x=\"318\" y=\"411\">114</text><text font-size=\"10\" x=\"334\" y=\"425\">116</text><text font-size=\"10\" x=\"306\" y=\"300\">117</text><text font-size=\"10\" x=\"291\" y=\"292\">119</text><text font-size=\"10\" x=\"214\" y=\"281\">121</text><text font-size=\"10\" x=\"150\" y=\"119\">123</text><text font-size=\"10\" x=\"157\" y=\"246\">125</text><text font-size=\"10\" x=\"267\" y=\"194\">129</text></svg>"
      ],
      "text/plain": [
       "<IPython.core.display.SVG object>"
      ]
     },
     "execution_count": 16,
     "metadata": {},
     "output_type": "execute_result"
    }
   ],
   "source": [
    "draw_graph(G_sent, show_names=True, node_size=3)"
   ]
  },
  {
   "cell_type": "code",
   "execution_count": 22,
   "id": "4cc4b66e",
   "metadata": {},
   "outputs": [
    {
     "data": {
      "image/png": "[encoded data removed]",
      "text/plain": [
       "<Figure size 432x288 with 1 Axes>"
      ]
     },
     "metadata": {
      "needs_background": "light"
     },
     "output_type": "display_data"
    }
   ],
   "source": [
    "entity_df['sentence'].value_counts()[0:20].plot.barh().invert_yaxis()"
   ]
  },
  {
   "cell_type": "code",
   "execution_count": 30,
   "id": "818bc339",
   "metadata": {},
   "outputs": [],
   "source": [
    "def fetch_entities_by_sentence(entity_df, sentence):\n",
    "\n",
    "    return sorted(entity_df[entity_df['sentence']==sentence]['entity'].values)"
   ]
  },
  {
   "cell_type": "code",
   "execution_count": 31,
   "id": "da8caccf",
   "metadata": {},
   "outputs": [
    {
     "data": {
      "text/plain": [
       "['Canterbury', 'Mercia', 'Morcar', 'Northumbria', 'Stigand']"
      ]
     },
     "execution_count": 31,
     "metadata": {},
     "output_type": "execute_result"
    }
   ],
   "source": [
    "fetch_entities_by_sentence(entity_df, 28)"
   ]
  },
  {
   "cell_type": "code",
   "execution_count": 32,
   "id": "849d67c6",
   "metadata": {},
   "outputs": [
    {
     "data": {
      "text/plain": [
       "['Dormouse', 'Elsie', 'Lacie', 'Tillie']"
      ]
     },
     "execution_count": 32,
     "metadata": {},
     "output_type": "execute_result"
    }
   ],
   "source": [
    "fetch_entities_by_sentence(entity_df, 83)"
   ]
  },
  {
   "cell_type": "code",
   "execution_count": 33,
   "id": "92e6b510",
   "metadata": {},
   "outputs": [
    {
     "data": {
      "text/plain": [
       "['Alice', 'Beautiful', 'Gryphon', 'Soup']"
      ]
     },
     "execution_count": 33,
     "metadata": {},
     "output_type": "execute_result"
    }
   ],
   "source": [
    "fetch_entities_by_sentence(entity_df, 117)"
   ]
  },
  {
   "cell_type": "code",
   "execution_count": 34,
   "id": "2fc12fbf",
   "metadata": {},
   "outputs": [
    {
     "data": {
      "text/plain": [
       "['Duchess', 'Hare', 'Lizard']"
      ]
     },
     "execution_count": 34,
     "metadata": {},
     "output_type": "execute_result"
    }
   ],
   "source": [
    "fetch_entities_by_sentence(entity_df, 129)"
   ]
  },
  {
   "cell_type": "markdown",
   "id": "695acca3",
   "metadata": {},
   "source": [
    "At the very least, I can see what sentences have the most activity, and sentences can be investigated, this way. Another fusion of NLP and Networks."
   ]
  },
  {
   "cell_type": "markdown",
   "id": "7badcf7f",
   "metadata": {},
   "source": [
    "# Egocentric Network Analysis\n",
    "\n",
    "As the above visualization shows, this is a complex network. For knowledge discovery, we should use Egocentric Network Analysis to \"zoom in\" on nodes of interest. Any node can be looked at, but I am going to programmatically do this, in this notebook, showing only the top twenty nodes, according to page rank."
   ]
  },
  {
   "cell_type": "code",
   "execution_count": 36,
   "id": "db54136e",
   "metadata": {},
   "outputs": [
    {
     "data": {
      "text/html": [
       "<div>\n",
       "<style scoped>\n",
       "    .dataframe tbody tr th:only-of-type {\n",
       "        vertical-align: middle;\n",
       "    }\n",
       "\n",
       "    .dataframe tbody tr th {\n",
       "        vertical-align: top;\n",
       "    }\n",
       "\n",
       "    .dataframe thead th {\n",
       "        text-align: right;\n",
       "    }\n",
       "</style>\n",
       "<table border=\"1\" class=\"dataframe\">\n",
       "  <thead>\n",
       "    <tr style=\"text-align: right;\">\n",
       "      <th></th>\n",
       "      <th>page_rank</th>\n",
       "    </tr>\n",
       "  </thead>\n",
       "  <tbody>\n",
       "    <tr>\n",
       "      <th>Alice</th>\n",
       "      <td>0.157058</td>\n",
       "    </tr>\n",
       "    <tr>\n",
       "      <th>Dormouse</th>\n",
       "      <td>0.038245</td>\n",
       "    </tr>\n",
       "    <tr>\n",
       "      <th>Duchess</th>\n",
       "      <td>0.034317</td>\n",
       "    </tr>\n",
       "    <tr>\n",
       "      <th>Lory</th>\n",
       "      <td>0.031326</td>\n",
       "    </tr>\n",
       "    <tr>\n",
       "      <th>Rabbit</th>\n",
       "      <td>0.029086</td>\n",
       "    </tr>\n",
       "    <tr>\n",
       "      <th>Hatter</th>\n",
       "      <td>0.027345</td>\n",
       "    </tr>\n",
       "    <tr>\n",
       "      <th>Hare</th>\n",
       "      <td>0.026592</td>\n",
       "    </tr>\n",
       "    <tr>\n",
       "      <th>Northumbria</th>\n",
       "      <td>0.024562</td>\n",
       "    </tr>\n",
       "    <tr>\n",
       "      <th>Morcar</th>\n",
       "      <td>0.024562</td>\n",
       "    </tr>\n",
       "    <tr>\n",
       "      <th>Mouse</th>\n",
       "      <td>0.022743</td>\n",
       "    </tr>\n",
       "  </tbody>\n",
       "</table>\n",
       "</div>"
      ],
      "text/plain": [
       "             page_rank\n",
       "Alice         0.157058\n",
       "Dormouse      0.038245\n",
       "Duchess       0.034317\n",
       "Lory          0.031326\n",
       "Rabbit        0.029086\n",
       "Hatter        0.027345\n",
       "Hare          0.026592\n",
       "Northumbria   0.024562\n",
       "Morcar        0.024562\n",
       "Mouse         0.022743"
      ]
     },
     "execution_count": 36,
     "metadata": {},
     "output_type": "execute_result"
    }
   ],
   "source": [
    "page_rank = nx.pagerank(G)\n",
    "\n",
    "pr_df = pd.DataFrame().from_dict(page_rank, orient='index')\n",
    "pr_df.columns = ['page_rank']\n",
    "pr_df.sort_values('page_rank', ascending=False, inplace=True)\n",
    "pr_df.head(10)"
   ]
  },
  {
   "cell_type": "code",
   "execution_count": 37,
   "id": "97a63ab7",
   "metadata": {},
   "outputs": [
    {
     "data": {
      "image/png": "[encoded data removed]",
      "text/plain": [
       "<Figure size 864x576 with 1 Axes>"
      ]
     },
     "metadata": {
      "needs_background": "light"
     },
     "output_type": "display_data"
    }
   ],
   "source": [
    "title = 'Important Characters by PageRank'\n",
    "\n",
    "pr_df.head(20).plot.barh(figsize=(12,8), title=title).invert_yaxis()"
   ]
  },
  {
   "cell_type": "markdown",
   "id": "0eaa14c1",
   "metadata": {},
   "source": [
    "# Egocentric Network Analysis\n",
    "Next, let's look at the Ego Graphs for each of the top ten characters found by PageRank. Before visualizing and inspecting the Ego Graphs, let's create a Python list so that we can more easily look through them without explicitely typing their names."
   ]
  },
  {
   "cell_type": "code",
   "execution_count": 39,
   "id": "2f595d51",
   "metadata": {},
   "outputs": [],
   "source": [
    "top_nodes = pr_df.head(20).index.values"
   ]
  },
  {
   "cell_type": "code",
   "execution_count": 40,
   "id": "83a68015",
   "metadata": {},
   "outputs": [
    {
     "data": {
      "text/plain": [
       "'Alice'"
      ]
     },
     "execution_count": 40,
     "metadata": {},
     "output_type": "execute_result"
    }
   ],
   "source": [
    "top_nodes[0]"
   ]
  },
  {
   "cell_type": "markdown",
   "id": "096656fb",
   "metadata": {},
   "source": [
    "Now we are all set to start looking through them, in order of importance."
   ]
  },
  {
   "cell_type": "markdown",
   "id": "6c5fcc65",
   "metadata": {},
   "source": [
    "## Top Node Ego Networks\n",
    "Unlike last time, I am not going to drop the center node or write about findings. This is purely discovery. Remember two things:\n",
    "- The center node is known as the 'ego' node. It is the node being looked up.\n",
    "- The other nodes are known as 'alter' nodes. They are connected to the ego node, and sometimes with each other.\n",
    "\n",
    "Pay close attention to the alter nodes that link to other alter nodes. These are interesting relationships, and you can see subcommunities in the ego network. Think about what you are seeing. What does this tell you?"
   ]
  },
  {
   "cell_type": "code",
   "execution_count": 69,
   "id": "502a0105",
   "metadata": {},
   "outputs": [
    {
     "data": {
      "image/svg+xml": [
       "<svg height=\"540\" width=\"845.0\" xmlns=\"http://www.w3.org/2000/svg\"><path d=\"M 632 393 612 326\" stroke=\"gray\" stroke-width=\"0.3\"/><path d=\"M 632 393 365 276\" stroke=\"gray\" stroke-width=\"0.3\"/><path d=\"M 535 144 447 94\" stroke=\"gray\" stroke-width=\"0.3\"/><path d=\"M 535 144 365 276\" stroke=\"gray\" stroke-width=\"0.3\"/><path d=\"M 81 384 142 335\" stroke=\"gray\" stroke-width=\"0.3\"/><path d=\"M 81 384 187 451\" stroke=\"gray\" stroke-width=\"0.3\"/><path d=\"M 81 384 365 276\" stroke=\"gray\" stroke-width=\"0.3\"/><path d=\"M 208 51 365 276\" stroke=\"gray\" stroke-width=\"0.3\"/><path d=\"M 543 38 365 276\" stroke=\"gray\" stroke-width=\"0.3\"/><path d=\"M 447 94 535 144\" stroke=\"gray\" stroke-width=\"0.3\"/><path d=\"M 447 94 365 276\" stroke=\"gray\" stroke-width=\"0.3\"/><path d=\"M 637 467 365 276\" stroke=\"gray\" stroke-width=\"0.3\"/><path d=\"M 612 326 632 393\" stroke=\"gray\" stroke-width=\"0.3\"/><path d=\"M 612 326 720 301\" stroke=\"gray\" stroke-width=\"0.3\"/><path d=\"M 612 326 365 276\" stroke=\"gray\" stroke-width=\"0.3\"/><path d=\"M 483 461 436 520\" stroke=\"gray\" stroke-width=\"0.3\"/><path d=\"M 483 461 365 276\" stroke=\"gray\" stroke-width=\"0.3\"/><path d=\"M 142 335 81 384\" stroke=\"gray\" stroke-width=\"0.3\"/><path d=\"M 142 335 365 276\" stroke=\"gray\" stroke-width=\"0.3\"/><path d=\"M 142 335 23 294\" stroke=\"gray\" stroke-width=\"0.3\"/><path d=\"M 720 301 612 326\" stroke=\"gray\" stroke-width=\"0.3\"/><path d=\"M 720 301 712 228\" stroke=\"gray\" stroke-width=\"0.3\"/><path d=\"M 720 301 365 276\" stroke=\"gray\" stroke-width=\"0.3\"/><path d=\"M 672 134 365 276\" stroke=\"gray\" stroke-width=\"0.3\"/><path d=\"M 712 228 720 301\" stroke=\"gray\" stroke-width=\"0.3\"/><path d=\"M 712 228 365 276\" stroke=\"gray\" stroke-width=\"0.3\"/><path d=\"M 278 135 365 276\" stroke=\"gray\" stroke-width=\"0.3\"/><path d=\"M 436 520 483 461\" stroke=\"gray\" stroke-width=\"0.3\"/><path d=\"M 436 520 365 276\" stroke=\"gray\" stroke-width=\"0.3\"/><path d=\"M 350 20 365 276\" stroke=\"gray\" stroke-width=\"0.3\"/><path d=\"M 310 494 365 276\" stroke=\"gray\" stroke-width=\"0.3\"/><path d=\"M 20 190 365 276\" stroke=\"gray\" stroke-width=\"0.3\"/><path d=\"M 187 451 81 384\" stroke=\"gray\" stroke-width=\"0.3\"/><path d=\"M 187 451 365 276\" stroke=\"gray\" stroke-width=\"0.3\"/><path d=\"M 187 451 90 457\" stroke=\"gray\" stroke-width=\"0.3\"/><path d=\"M 365 276 632 393\" stroke=\"gray\" stroke-width=\"0.3\"/><path d=\"M 365 276 535 144\" stroke=\"gray\" stroke-width=\"0.3\"/><path d=\"M 365 276 81 384\" stroke=\"gray\" stroke-width=\"0.3\"/><path d=\"M 365 276 208 51\" stroke=\"gray\" stroke-width=\"0.3\"/><path d=\"M 365 276 543 38\" stroke=\"gray\" stroke-width=\"0.3\"/><path d=\"M 365 276 447 94\" stroke=\"gray\" stroke-width=\"0.3\"/><path d=\"M 365 276 637 467\" stroke=\"gray\" stroke-width=\"0.3\"/><path d=\"M 365 276 612 326\" stroke=\"gray\" stroke-width=\"0.3\"/><path d=\"M 365 276 483 461\" stroke=\"gray\" stroke-width=\"0.3\"/><path d=\"M 365 276 142 335\" stroke=\"gray\" stroke-width=\"0.3\"/><path d=\"M 365 276 720 301\" stroke=\"gray\" stroke-width=\"0.3\"/><path d=\"M 365 276 672 134\" stroke=\"gray\" stroke-width=\"0.3\"/><path d=\"M 365 276 712 228\" stroke=\"gray\" stroke-width=\"0.3\"/><path d=\"M 365 276 278 135\" stroke=\"gray\" stroke-width=\"0.3\"/><path d=\"M 365 276 436 520\" stroke=\"gray\" stroke-width=\"0.3\"/><path d=\"M 365 276 350 20\" stroke=\"gray\" stroke-width=\"0.3\"/><path d=\"M 365 276 310 494\" stroke=\"gray\" stroke-width=\"0.3\"/><path d=\"M 365 276 20 190\" stroke=\"gray\" stroke-width=\"0.3\"/><path d=\"M 365 276 187 451\" stroke=\"gray\" stroke-width=\"0.3\"/><path d=\"M 365 276 90 457\" stroke=\"gray\" stroke-width=\"0.3\"/><path d=\"M 365 276 23 294\" stroke=\"gray\" stroke-width=\"0.3\"/><path d=\"M 365 276 96 110\" stroke=\"gray\" stroke-width=\"0.3\"/><path d=\"M 365 276 167 229\" stroke=\"gray\" stroke-width=\"0.3\"/><path d=\"M 90 457 187 451\" stroke=\"gray\" stroke-width=\"0.3\"/><path d=\"M 90 457 365 276\" stroke=\"gray\" stroke-width=\"0.3\"/><path d=\"M 23 294 142 335\" stroke=\"gray\" stroke-width=\"0.3\"/><path d=\"M 23 294 365 276\" stroke=\"gray\" stroke-width=\"0.3\"/><path d=\"M 96 110 365 276\" stroke=\"gray\" stroke-width=\"0.3\"/><path d=\"M 167 229 365 276\" stroke=\"gray\" stroke-width=\"0.3\"/><circle cx=\"632\" cy=\"393\" r=\"3.0\" style=\"fill:rgb(66, 88, 202);stroke:black;stroke-width:1.0\"/><circle cx=\"535\" cy=\"144\" r=\"3.0\" style=\"fill:rgb(70, 93, 207);stroke:black;stroke-width:1.0\"/><circle cx=\"81\" cy=\"384\" r=\"3.0\" style=\"fill:rgb(80, 107, 218);stroke:black;stroke-width:1.0\"/><circle cx=\"208\" cy=\"51\" r=\"3.0\" style=\"fill:rgb(58, 76, 192);stroke:black;stroke-width:1.0\"/><circle cx=\"543\" cy=\"38\" r=\"3.0\" style=\"fill:rgb(58, 76, 192);stroke:black;stroke-width:1.0\"/><circle cx=\"447\" cy=\"94\" r=\"3.0\" style=\"fill:rgb(70, 93, 207);stroke:black;stroke-width:1.0\"/><circle cx=\"637\" cy=\"467\" r=\"3.0\" style=\"fill:rgb(58, 76, 192);stroke:black;stroke-width:1.0\"/><circle cx=\"612\" cy=\"326\" r=\"3.0\" style=\"fill:rgb(82, 110, 220);stroke:black;stroke-width:1.0\"/><circle cx=\"483\" cy=\"461\" r=\"3.0\" style=\"fill:rgb(70, 93, 207);stroke:black;stroke-width:1.0\"/><circle cx=\"142\" cy=\"335\" r=\"3.0\" style=\"fill:rgb(82, 110, 220);stroke:black;stroke-width:1.0\"/><circle cx=\"720\" cy=\"301\" r=\"3.0\" style=\"fill:rgb(82, 110, 220);stroke:black;stroke-width:1.0\"/><circle cx=\"672\" cy=\"134\" r=\"3.0\" style=\"fill:rgb(58, 76, 192);stroke:black;stroke-width:1.0\"/><circle cx=\"712\" cy=\"228\" r=\"3.0\" style=\"fill:rgb(66, 88, 202);stroke:black;stroke-width:1.0\"/><circle cx=\"278\" cy=\"135\" r=\"3.0\" style=\"fill:rgb(58, 76, 192);stroke:black;stroke-width:1.0\"/><circle cx=\"436\" cy=\"520\" r=\"3.0\" style=\"fill:rgb(70, 93, 207);stroke:black;stroke-width:1.0\"/><circle cx=\"350\" cy=\"20\" r=\"3.0\" style=\"fill:rgb(58, 76, 192);stroke:black;stroke-width:1.0\"/><circle cx=\"310\" cy=\"494\" r=\"3.0\" style=\"fill:rgb(58, 76, 192);stroke:black;stroke-width:1.0\"/><circle cx=\"20\" cy=\"190\" r=\"3.0\" style=\"fill:rgb(58, 76, 192);stroke:black;stroke-width:1.0\"/><circle cx=\"187\" cy=\"451\" r=\"3.0\" style=\"fill:rgb(82, 110, 220);stroke:black;stroke-width:1.0\"/><circle cx=\"365\" cy=\"276\" r=\"3.0\" style=\"fill:rgb(179, 3, 38);stroke:black;stroke-width:1.0\"/><circle cx=\"90\" cy=\"457\" r=\"3.0\" style=\"fill:rgb(66, 88, 202);stroke:black;stroke-width:1.0\"/><circle cx=\"23\" cy=\"294\" r=\"3.0\" style=\"fill:rgb(66, 88, 202);stroke:black;stroke-width:1.0\"/><circle cx=\"96\" cy=\"110\" r=\"3.0\" style=\"fill:rgb(58, 76, 192);stroke:black;stroke-width:1.0\"/><circle cx=\"167\" cy=\"229\" r=\"3.0\" style=\"fill:rgb(58, 76, 192);stroke:black;stroke-width:1.0\"/><text font-size=\"10\" x=\"638\" y=\"396\">Lory</text><text font-size=\"10\" x=\"541\" y=\"147\">Gryphon</text><text font-size=\"10\" x=\"87\" y=\"387\">Hare</text><text font-size=\"10\" x=\"214\" y=\"54\">Fish-Footman</text><text font-size=\"10\" x=\"549\" y=\"41\">Caterpillar</text><text font-size=\"10\" x=\"453\" y=\"97\">Soup</text><text font-size=\"10\" x=\"643\" y=\"470\">Cheshire Cat</text><text font-size=\"10\" x=\"618\" y=\"329\">Dinah</text><text font-size=\"10\" x=\"489\" y=\"464\">Kings</text><text font-size=\"10\" x=\"148\" y=\"338\">Duchess</text><text font-size=\"10\" x=\"726\" y=\"304\">Rabbit</text><text font-size=\"10\" x=\"678\" y=\"137\">Bill</text><text font-size=\"10\" x=\"718\" y=\"231\">Mary Ann</text><text font-size=\"10\" x=\"284\" y=\"138\">Pigeon</text><text font-size=\"10\" x=\"442\" y=\"523\">Queens</text><text font-size=\"10\" x=\"356\" y=\"23\">Fender</text><text font-size=\"10\" x=\"316\" y=\"497\">William the Conqueror</text><text font-size=\"10\" x=\"26\" y=\"193\">Mabel</text><text font-size=\"10\" x=\"193\" y=\"454\">Hatter</text><text font-size=\"10\" x=\"371\" y=\"279\">Alice</text><text font-size=\"10\" x=\"96\" y=\"460\">Dormouse</text><text font-size=\"10\" x=\"29\" y=\"297\">Cat</text><text font-size=\"10\" x=\"102\" y=\"113\">Lobster Quadrille</text><text font-size=\"10\" x=\"173\" y=\"232\">Mouse</text></svg>"
      ],
      "text/plain": [
       "<IPython.core.display.SVG object>"
      ]
     },
     "execution_count": 69,
     "metadata": {},
     "output_type": "execute_result"
    }
   ],
   "source": [
    "ego = top_nodes[0]\n",
    "\n",
    "G_ego = nx.ego_graph(G, ego)\n",
    "\n",
    "draw_graph(G_ego, show_names=True, node_size=3, edge_width=0.3)"
   ]
  },
  {
   "cell_type": "code",
   "execution_count": 43,
   "id": "be5ae30b",
   "metadata": {},
   "outputs": [
    {
     "data": {
      "image/svg+xml": [
       "<svg height=\"540\" width=\"845.0\" xmlns=\"http://www.w3.org/2000/svg\"><path d=\"M 98 213 111 198\" stroke=\"gray\" stroke-width=\"0.3\"/><path d=\"M 367 497 368 511\" stroke=\"gray\" stroke-width=\"0.3\"/><path d=\"M 138 395 162 382\" stroke=\"gray\" stroke-width=\"0.3\"/><path d=\"M 138 395 118 410\" stroke=\"gray\" stroke-width=\"0.3\"/><path d=\"M 368 511 367 497\" stroke=\"gray\" stroke-width=\"0.3\"/><path d=\"M 111 198 98 213\" stroke=\"gray\" stroke-width=\"0.3\"/><path d=\"M 111 198 125 181\" stroke=\"gray\" stroke-width=\"0.3\"/><path d=\"M 324 284 303 280\" stroke=\"gray\" stroke-width=\"0.3\"/><path d=\"M 162 382 138 395\" stroke=\"gray\" stroke-width=\"0.3\"/><path d=\"M 162 382 185 372\" stroke=\"gray\" stroke-width=\"0.3\"/><path d=\"M 125 181 111 198\" stroke=\"gray\" stroke-width=\"0.3\"/><path d=\"M 125 181 138 166\" stroke=\"gray\" stroke-width=\"0.3\"/><path d=\"M 138 166 125 181\" stroke=\"gray\" stroke-width=\"0.3\"/><path d=\"M 303 280 324 284\" stroke=\"gray\" stroke-width=\"0.3\"/><path d=\"M 118 410 138 395\" stroke=\"gray\" stroke-width=\"0.3\"/><path d=\"M 118 410 102 425\" stroke=\"gray\" stroke-width=\"0.3\"/><path d=\"M 102 425 118 410\" stroke=\"gray\" stroke-width=\"0.3\"/><path d=\"M 185 372 162 382\" stroke=\"gray\" stroke-width=\"0.3\"/><circle cx=\"98\" cy=\"213\" r=\"3.0\" style=\"fill:rgb(66, 88, 202);stroke:black;stroke-width:1.0\"/><circle cx=\"367\" cy=\"497\" r=\"3.0\" style=\"fill:rgb(224, 218, 215);stroke:black;stroke-width:1.0\"/><circle cx=\"138\" cy=\"395\" r=\"3.0\" style=\"fill:rgb(225, 104, 82);stroke:black;stroke-width:1.0\"/><circle cx=\"20\" cy=\"520\" r=\"3.0\" style=\"fill:rgb(224, 218, 215);stroke:black;stroke-width:1.0\"/><circle cx=\"276\" cy=\"20\" r=\"3.0\" style=\"fill:rgb(224, 218, 215);stroke:black;stroke-width:1.0\"/><circle cx=\"368\" cy=\"511\" r=\"3.0\" style=\"fill:rgb(224, 218, 215);stroke:black;stroke-width:1.0\"/><circle cx=\"519\" cy=\"378\" r=\"3.0\" style=\"fill:rgb(224, 218, 215);stroke:black;stroke-width:1.0\"/><circle cx=\"111\" cy=\"198\" r=\"3.0\" style=\"fill:rgb(179, 3, 38);stroke:black;stroke-width:1.0\"/><circle cx=\"324\" cy=\"284\" r=\"3.0\" style=\"fill:rgb(224, 218, 215);stroke:black;stroke-width:1.0\"/><circle cx=\"162\" cy=\"382\" r=\"3.0\" style=\"fill:rgb(227, 108, 84);stroke:black;stroke-width:1.0\"/><circle cx=\"125\" cy=\"181\" r=\"3.0\" style=\"fill:rgb(179, 3, 38);stroke:black;stroke-width:1.0\"/><circle cx=\"720\" cy=\"263\" r=\"3.0\" style=\"fill:rgb(224, 218, 215);stroke:black;stroke-width:1.0\"/><circle cx=\"138\" cy=\"166\" r=\"3.0\" style=\"fill:rgb(66, 88, 202);stroke:black;stroke-width:1.0\"/><circle cx=\"343\" cy=\"183\" r=\"3.0\" style=\"fill:rgb(224, 218, 215);stroke:black;stroke-width:1.0\"/><circle cx=\"303\" cy=\"280\" r=\"3.0\" style=\"fill:rgb(224, 218, 215);stroke:black;stroke-width:1.0\"/><circle cx=\"482\" cy=\"142\" r=\"3.0\" style=\"fill:rgb(224, 218, 215);stroke:black;stroke-width:1.0\"/><circle cx=\"522\" cy=\"234\" r=\"3.0\" style=\"fill:rgb(224, 218, 215);stroke:black;stroke-width:1.0\"/><circle cx=\"542\" cy=\"475\" r=\"3.0\" style=\"fill:rgb(224, 218, 215);stroke:black;stroke-width:1.0\"/><circle cx=\"118\" cy=\"410\" r=\"3.0\" style=\"fill:rgb(227, 108, 84);stroke:black;stroke-width:1.0\"/><circle cx=\"102\" cy=\"425\" r=\"3.0\" style=\"fill:rgb(58, 76, 192);stroke:black;stroke-width:1.0\"/><circle cx=\"185\" cy=\"372\" r=\"3.0\" style=\"fill:rgb(58, 76, 192);stroke:black;stroke-width:1.0\"/><circle cx=\"340\" cy=\"78\" r=\"3.0\" style=\"fill:rgb(224, 218, 215);stroke:black;stroke-width:1.0\"/><circle cx=\"626\" cy=\"322\" r=\"3.0\" style=\"fill:rgb(224, 218, 215);stroke:black;stroke-width:1.0\"/><text font-size=\"10\" x=\"104\" y=\"216\">Lory</text><text font-size=\"10\" x=\"373\" y=\"500\">Gryphon</text><text font-size=\"10\" x=\"144\" y=\"398\">Hare</text><text font-size=\"10\" x=\"26\" y=\"523\">Fish-Footman</text><text font-size=\"10\" x=\"282\" y=\"23\">Caterpillar</text><text font-size=\"10\" x=\"374\" y=\"514\">Soup</text><text font-size=\"10\" x=\"525\" y=\"381\">Cheshire Cat</text><text font-size=\"10\" x=\"117\" y=\"201\">Dinah</text><text font-size=\"10\" x=\"330\" y=\"287\">Kings</text><text font-size=\"10\" x=\"168\" y=\"385\">Duchess</text><text font-size=\"10\" x=\"131\" y=\"184\">Rabbit</text><text font-size=\"10\" x=\"726\" y=\"266\">Bill</text><text font-size=\"10\" x=\"144\" y=\"169\">Mary Ann</text><text font-size=\"10\" x=\"349\" y=\"186\">Pigeon</text><text font-size=\"10\" x=\"309\" y=\"283\">Queens</text><text font-size=\"10\" x=\"488\" y=\"145\">Fender</text><text font-size=\"10\" x=\"528\" y=\"237\">William the Conqueror</text><text font-size=\"10\" x=\"548\" y=\"478\">Mabel</text><text font-size=\"10\" x=\"124\" y=\"413\">Hatter</text><text font-size=\"10\" x=\"108\" y=\"428\">Dormouse</text><text font-size=\"10\" x=\"191\" y=\"375\">Cat</text><text font-size=\"10\" x=\"346\" y=\"81\">Lobster Quadrille</text><text font-size=\"10\" x=\"632\" y=\"325\">Mouse</text></svg>"
      ],
      "text/plain": [
       "<IPython.core.display.SVG object>"
      ]
     },
     "execution_count": 43,
     "metadata": {},
     "output_type": "execute_result"
    }
   ],
   "source": [
    "ego = top_nodes[0]\n",
    "\n",
    "G_ego = nx.ego_graph(G, ego, center=False)\n",
    "\n",
    "draw_graph(G_ego, show_names=True, node_size=3, edge_width=0.3)"
   ]
  },
  {
   "cell_type": "code",
   "execution_count": 44,
   "id": "d8367777",
   "metadata": {},
   "outputs": [
    {
     "data": {
      "image/svg+xml": [
       "<svg height=\"540\" width=\"780.0\" xmlns=\"http://www.w3.org/2000/svg\"><path d=\"M 420 241 375 467\" stroke=\"gray\" stroke-width=\"0.3\"/><path d=\"M 420 241 720 31\" stroke=\"gray\" stroke-width=\"0.3\"/><path d=\"M 420 241 20 151\" stroke=\"gray\" stroke-width=\"0.3\"/><path d=\"M 420 241 677 394\" stroke=\"gray\" stroke-width=\"0.3\"/><path d=\"M 420 241 578 520\" stroke=\"gray\" stroke-width=\"0.3\"/><path d=\"M 420 241 177 20\" stroke=\"gray\" stroke-width=\"0.3\"/><path d=\"M 375 467 420 241\" stroke=\"gray\" stroke-width=\"0.3\"/><path d=\"M 375 467 677 394\" stroke=\"gray\" stroke-width=\"0.3\"/><path d=\"M 375 467 578 520\" stroke=\"gray\" stroke-width=\"0.3\"/><path d=\"M 720 31 420 241\" stroke=\"gray\" stroke-width=\"0.3\"/><path d=\"M 20 151 420 241\" stroke=\"gray\" stroke-width=\"0.3\"/><path d=\"M 20 151 177 20\" stroke=\"gray\" stroke-width=\"0.3\"/><path d=\"M 677 394 420 241\" stroke=\"gray\" stroke-width=\"0.3\"/><path d=\"M 677 394 375 467\" stroke=\"gray\" stroke-width=\"0.3\"/><path d=\"M 677 394 578 520\" stroke=\"gray\" stroke-width=\"0.3\"/><path d=\"M 578 520 420 241\" stroke=\"gray\" stroke-width=\"0.3\"/><path d=\"M 578 520 375 467\" stroke=\"gray\" stroke-width=\"0.3\"/><path d=\"M 578 520 677 394\" stroke=\"gray\" stroke-width=\"0.3\"/><path d=\"M 177 20 420 241\" stroke=\"gray\" stroke-width=\"0.3\"/><path d=\"M 177 20 20 151\" stroke=\"gray\" stroke-width=\"0.3\"/><circle cx=\"420\" cy=\"241\" r=\"3.0\" style=\"fill:rgb(179, 3, 38);stroke:black;stroke-width:1.0\"/><circle cx=\"375\" cy=\"467\" r=\"3.0\" style=\"fill:rgb(176, 203, 251);stroke:black;stroke-width:1.0\"/><circle cx=\"720\" cy=\"31\" r=\"3.0\" style=\"fill:rgb(58, 76, 192);stroke:black;stroke-width:1.0\"/><circle cx=\"20\" cy=\"151\" r=\"3.0\" style=\"fill:rgb(123, 158, 248);stroke:black;stroke-width:1.0\"/><circle cx=\"677\" cy=\"394\" r=\"3.0\" style=\"fill:rgb(176, 203, 251);stroke:black;stroke-width:1.0\"/><circle cx=\"578\" cy=\"520\" r=\"3.0\" style=\"fill:rgb(176, 203, 251);stroke:black;stroke-width:1.0\"/><circle cx=\"177\" cy=\"20\" r=\"3.0\" style=\"fill:rgb(123, 158, 248);stroke:black;stroke-width:1.0\"/><text font-size=\"10\" x=\"426\" y=\"244\">Dormouse</text><text font-size=\"10\" x=\"381\" y=\"470\">Elsie</text><text font-size=\"10\" x=\"726\" y=\"34\">Treacle</text><text font-size=\"10\" x=\"26\" y=\"154\">Hatter</text><text font-size=\"10\" x=\"683\" y=\"397\">Tillie</text><text font-size=\"10\" x=\"584\" y=\"523\">Lacie</text><text font-size=\"10\" x=\"183\" y=\"23\">Alice</text></svg>"
      ],
      "text/plain": [
       "<IPython.core.display.SVG object>"
      ]
     },
     "execution_count": 44,
     "metadata": {},
     "output_type": "execute_result"
    }
   ],
   "source": [
    "ego = top_nodes[1]\n",
    "\n",
    "G_ego = nx.ego_graph(G, ego)\n",
    "\n",
    "draw_graph(G_ego, show_names=True, node_size=3, edge_width=0.3)"
   ]
  },
  {
   "cell_type": "code",
   "execution_count": 45,
   "id": "da93b90d",
   "metadata": {},
   "outputs": [
    {
     "data": {
      "image/svg+xml": [
       "<svg height=\"540\" width=\"780.0\" xmlns=\"http://www.w3.org/2000/svg\"><path d=\"M 720 47 357 229\" stroke=\"gray\" stroke-width=\"0.3\"/><path d=\"M 357 229 720 47\" stroke=\"gray\" stroke-width=\"0.3\"/><path d=\"M 357 229 20 252\" stroke=\"gray\" stroke-width=\"0.3\"/><path d=\"M 357 229 74 20\" stroke=\"gray\" stroke-width=\"0.3\"/><path d=\"M 357 229 493 520\" stroke=\"gray\" stroke-width=\"0.3\"/><path d=\"M 357 229 198 468\" stroke=\"gray\" stroke-width=\"0.3\"/><path d=\"M 20 252 357 229\" stroke=\"gray\" stroke-width=\"0.3\"/><path d=\"M 20 252 74 20\" stroke=\"gray\" stroke-width=\"0.3\"/><path d=\"M 20 252 198 468\" stroke=\"gray\" stroke-width=\"0.3\"/><path d=\"M 74 20 357 229\" stroke=\"gray\" stroke-width=\"0.3\"/><path d=\"M 74 20 20 252\" stroke=\"gray\" stroke-width=\"0.3\"/><path d=\"M 493 520 357 229\" stroke=\"gray\" stroke-width=\"0.3\"/><path d=\"M 493 520 198 468\" stroke=\"gray\" stroke-width=\"0.3\"/><path d=\"M 198 468 357 229\" stroke=\"gray\" stroke-width=\"0.3\"/><path d=\"M 198 468 20 252\" stroke=\"gray\" stroke-width=\"0.3\"/><path d=\"M 198 468 493 520\" stroke=\"gray\" stroke-width=\"0.3\"/><circle cx=\"720\" cy=\"47\" r=\"3.0\" style=\"fill:rgb(58, 76, 192);stroke:black;stroke-width:1.0\"/><circle cx=\"357\" cy=\"229\" r=\"3.0\" style=\"fill:rgb(179, 3, 38);stroke:black;stroke-width:1.0\"/><circle cx=\"20\" cy=\"252\" r=\"3.0\" style=\"fill:rgb(210, 218, 231);stroke:black;stroke-width:1.0\"/><circle cx=\"74\" cy=\"20\" r=\"3.0\" style=\"fill:rgb(130, 165, 251);stroke:black;stroke-width:1.0\"/><circle cx=\"493\" cy=\"520\" r=\"3.0\" style=\"fill:rgb(130, 165, 251);stroke:black;stroke-width:1.0\"/><circle cx=\"198\" cy=\"468\" r=\"3.0\" style=\"fill:rgb(210, 218, 231);stroke:black;stroke-width:1.0\"/><text font-size=\"10\" x=\"726\" y=\"50\">Cheshire</text><text font-size=\"10\" x=\"363\" y=\"232\">Duchess</text><text font-size=\"10\" x=\"26\" y=\"255\">Hare</text><text font-size=\"10\" x=\"80\" y=\"23\">Lizard</text><text font-size=\"10\" x=\"499\" y=\"523\">Cat</text><text font-size=\"10\" x=\"204\" y=\"471\">Alice</text></svg>"
      ],
      "text/plain": [
       "<IPython.core.display.SVG object>"
      ]
     },
     "execution_count": 45,
     "metadata": {},
     "output_type": "execute_result"
    }
   ],
   "source": [
    "ego = top_nodes[2]\n",
    "\n",
    "G_ego = nx.ego_graph(G, ego)\n",
    "\n",
    "draw_graph(G_ego, show_names=True, node_size=3, edge_width=0.3)"
   ]
  },
  {
   "cell_type": "code",
   "execution_count": 46,
   "id": "de9805bf",
   "metadata": {},
   "outputs": [
    {
     "data": {
      "image/svg+xml": [
       "<svg height=\"540\" width=\"770.0\" xmlns=\"http://www.w3.org/2000/svg\"><path d=\"M 430 269 460 520\" stroke=\"gray\" stroke-width=\"0.3\"/><path d=\"M 430 269 20 187\" stroke=\"gray\" stroke-width=\"0.3\"/><path d=\"M 430 269 589 20\" stroke=\"gray\" stroke-width=\"0.3\"/><path d=\"M 430 269 720 436\" stroke=\"gray\" stroke-width=\"0.3\"/><path d=\"M 460 520 430 269\" stroke=\"gray\" stroke-width=\"0.3\"/><path d=\"M 460 520 720 436\" stroke=\"gray\" stroke-width=\"0.3\"/><path d=\"M 20 187 430 269\" stroke=\"gray\" stroke-width=\"0.3\"/><path d=\"M 589 20 430 269\" stroke=\"gray\" stroke-width=\"0.3\"/><path d=\"M 720 436 430 269\" stroke=\"gray\" stroke-width=\"0.3\"/><path d=\"M 720 436 460 520\" stroke=\"gray\" stroke-width=\"0.3\"/><circle cx=\"430\" cy=\"269\" r=\"3.0\" style=\"fill:rgb(179, 3, 38);stroke:black;stroke-width:1.0\"/><circle cx=\"460\" cy=\"520\" r=\"3.0\" style=\"fill:rgb(159, 190, 254);stroke:black;stroke-width:1.0\"/><circle cx=\"20\" cy=\"187\" r=\"3.0\" style=\"fill:rgb(58, 76, 192);stroke:black;stroke-width:1.0\"/><circle cx=\"589\" cy=\"20\" r=\"3.0\" style=\"fill:rgb(58, 76, 192);stroke:black;stroke-width:1.0\"/><circle cx=\"720\" cy=\"436\" r=\"3.0\" style=\"fill:rgb(159, 190, 254);stroke:black;stroke-width:1.0\"/><text font-size=\"10\" x=\"436\" y=\"272\">Lory</text><text font-size=\"10\" x=\"466\" y=\"523\">Dinah</text><text font-size=\"10\" x=\"26\" y=\"190\">Crab</text><text font-size=\"10\" x=\"595\" y=\"23\">Eaglet</text><text font-size=\"10\" x=\"726\" y=\"439\">Alice</text></svg>"
      ],
      "text/plain": [
       "<IPython.core.display.SVG object>"
      ]
     },
     "execution_count": 46,
     "metadata": {},
     "output_type": "execute_result"
    }
   ],
   "source": [
    "ego = top_nodes[3]\n",
    "\n",
    "G_ego = nx.ego_graph(G, ego)\n",
    "\n",
    "draw_graph(G_ego, show_names=True, node_size=3, edge_width=0.3)"
   ]
  },
  {
   "cell_type": "code",
   "execution_count": 47,
   "id": "2ae509d0",
   "metadata": {},
   "outputs": [
    {
     "data": {
      "image/svg+xml": [
       "<svg height=\"540\" width=\"780.0\" xmlns=\"http://www.w3.org/2000/svg\"><path d=\"M 414 520 378 197\" stroke=\"gray\" stroke-width=\"0.3\"/><path d=\"M 414 520 655 348\" stroke=\"gray\" stroke-width=\"0.3\"/><path d=\"M 720 82 378 197\" stroke=\"gray\" stroke-width=\"0.3\"/><path d=\"M 720 82 655 348\" stroke=\"gray\" stroke-width=\"0.3\"/><path d=\"M 20 20 378 197\" stroke=\"gray\" stroke-width=\"0.3\"/><path d=\"M 378 197 414 520\" stroke=\"gray\" stroke-width=\"0.3\"/><path d=\"M 378 197 720 82\" stroke=\"gray\" stroke-width=\"0.3\"/><path d=\"M 378 197 20 20\" stroke=\"gray\" stroke-width=\"0.3\"/><path d=\"M 378 197 655 348\" stroke=\"gray\" stroke-width=\"0.3\"/><path d=\"M 655 348 414 520\" stroke=\"gray\" stroke-width=\"0.3\"/><path d=\"M 655 348 720 82\" stroke=\"gray\" stroke-width=\"0.3\"/><path d=\"M 655 348 378 197\" stroke=\"gray\" stroke-width=\"0.3\"/><circle cx=\"414\" cy=\"520\" r=\"3.0\" style=\"fill:rgb(159, 190, 254);stroke:black;stroke-width:1.0\"/><circle cx=\"720\" cy=\"82\" r=\"3.0\" style=\"fill:rgb(159, 190, 254);stroke:black;stroke-width:1.0\"/><circle cx=\"20\" cy=\"20\" r=\"3.0\" style=\"fill:rgb(58, 76, 192);stroke:black;stroke-width:1.0\"/><circle cx=\"378\" cy=\"197\" r=\"3.0\" style=\"fill:rgb(179, 3, 38);stroke:black;stroke-width:1.0\"/><circle cx=\"655\" cy=\"348\" r=\"3.0\" style=\"fill:rgb(244, 195, 171);stroke:black;stroke-width:1.0\"/><text font-size=\"10\" x=\"420\" y=\"523\">Dinah</text><text font-size=\"10\" x=\"726\" y=\"85\">Mary Ann</text><text font-size=\"10\" x=\"26\" y=\"23\">Pat</text><text font-size=\"10\" x=\"384\" y=\"200\">Rabbit</text><text font-size=\"10\" x=\"661\" y=\"351\">Alice</text></svg>"
      ],
      "text/plain": [
       "<IPython.core.display.SVG object>"
      ]
     },
     "execution_count": 47,
     "metadata": {},
     "output_type": "execute_result"
    }
   ],
   "source": [
    "ego = top_nodes[4]\n",
    "\n",
    "G_ego = nx.ego_graph(G, ego)\n",
    "\n",
    "draw_graph(G_ego, show_names=True, node_size=3, edge_width=0.3)"
   ]
  },
  {
   "cell_type": "markdown",
   "id": "5f2c1e22",
   "metadata": {},
   "source": [
    "# Community Detection\n",
    "\n",
    "We have one large connected component, and this will be great for use in Community Detection. The smaller connected components are communities of their own in this network, split off from the main piece of this network."
   ]
  },
  {
   "cell_type": "code",
   "execution_count": 48,
   "id": "d3ab1da8",
   "metadata": {},
   "outputs": [],
   "source": [
    "def draw_partition(G, partition): \n",
    "\n",
    "    import matplotlib.cm as cm \n",
    "    import matplotlib.pyplot as plt \n",
    "\n",
    "    # draw the graph \n",
    "    plt.figure(3,figsize=(12,12)) \n",
    "    pos = nx.spring_layout(G) \n",
    "\n",
    "    # color the nodes according to their partition \n",
    "    cmap = cm.get_cmap('jet', max(partition.values()) + 1) \n",
    "    nx.draw_networkx_nodes(G, pos, partition.keys(), node_size=40, cmap=cmap, node_color=list(partition.values())) \n",
    "    nx.draw_networkx_edges(G, pos, alpha=0.5, width=0.3) \n",
    "\n",
    "    return plt.show() "
   ]
  },
  {
   "cell_type": "code",
   "execution_count": 59,
   "id": "b1176e7f",
   "metadata": {},
   "outputs": [],
   "source": [
    "# identify communities; set resolution to 0.01 for smaller groups and 1 for larger groups, etc\n",
    "# play with the number to get communities to the size you want them, or leave it at the default\n",
    "\n",
    "import community as community_louvain\n",
    "\n",
    "partition = community_louvain.best_partition(G, resolution=10, random_state=1337) # 10 was good for this network"
   ]
  },
  {
   "cell_type": "code",
   "execution_count": 60,
   "id": "46ce1f51",
   "metadata": {},
   "outputs": [
    {
     "data": {
      "image/png": "[encoded data removed]",
      "text/plain": [
       "<Figure size 864x864 with 1 Axes>"
      ]
     },
     "metadata": {},
     "output_type": "display_data"
    }
   ],
   "source": [
    "draw_partition(G, partition)"
   ]
  },
  {
   "cell_type": "code",
   "execution_count": 61,
   "id": "b0a3811a",
   "metadata": {},
   "outputs": [
    {
     "data": {
      "text/plain": [
       "2    37\n",
       "5     6\n",
       "3     3\n",
       "1     2\n",
       "0     2\n",
       "4     1\n",
       "Name: community, dtype: int64"
      ]
     },
     "execution_count": 61,
     "metadata": {},
     "output_type": "execute_result"
    }
   ],
   "source": [
    "community_df = pd.DataFrame().from_dict(partition, orient='index')\n",
    "community_df.reset_index(inplace=True)\n",
    "community_df.columns = ['node', 'community']\n",
    "\n",
    "# remove junk; identify relevant communities\n",
    "\n",
    "community_df['community'].value_counts()[0:20]"
   ]
  },
  {
   "cell_type": "code",
   "execution_count": 62,
   "id": "fd6878d9",
   "metadata": {},
   "outputs": [
    {
     "data": {
      "text/plain": [
       "array([2, 5, 3, 1, 0, 4], dtype=int64)"
      ]
     },
     "execution_count": 62,
     "metadata": {},
     "output_type": "execute_result"
    }
   ],
   "source": [
    "comm_idx = community_df['community'].value_counts()[0:20].index.values\n",
    "comm_idx"
   ]
  },
  {
   "cell_type": "markdown",
   "id": "233c89fa",
   "metadata": {},
   "source": [
    "## Exploring Communities\n",
    "Below, I am showing the largest community in the network."
   ]
  },
  {
   "cell_type": "code",
   "execution_count": 63,
   "id": "89f59e75",
   "metadata": {},
   "outputs": [
    {
     "data": {
      "image/svg+xml": [
       "<svg height=\"540\" width=\"845.0\" xmlns=\"http://www.w3.org/2000/svg\"><path d=\"M 338 256 491 336\" stroke=\"gray\" stroke-width=\"0.5\"/><path d=\"M 338 256 500 275\" stroke=\"gray\" stroke-width=\"0.5\"/><path d=\"M 338 256 449 233\" stroke=\"gray\" stroke-width=\"0.5\"/><path d=\"M 338 256 357 319\" stroke=\"gray\" stroke-width=\"0.5\"/><path d=\"M 338 256 390 381\" stroke=\"gray\" stroke-width=\"0.5\"/><path d=\"M 338 256 236 108\" stroke=\"gray\" stroke-width=\"0.5\"/><path d=\"M 338 256 475 200\" stroke=\"gray\" stroke-width=\"0.5\"/><path d=\"M 338 256 574 236\" stroke=\"gray\" stroke-width=\"0.5\"/><path d=\"M 338 256 183 251\" stroke=\"gray\" stroke-width=\"0.5\"/><path d=\"M 338 256 441 311\" stroke=\"gray\" stroke-width=\"0.5\"/><path d=\"M 338 256 425 182\" stroke=\"gray\" stroke-width=\"0.5\"/><path d=\"M 338 256 329 155\" stroke=\"gray\" stroke-width=\"0.5\"/><path d=\"M 338 256 182 212\" stroke=\"gray\" stroke-width=\"0.5\"/><path d=\"M 338 256 389 158\" stroke=\"gray\" stroke-width=\"0.5\"/><path d=\"M 338 256 390 273\" stroke=\"gray\" stroke-width=\"0.5\"/><path d=\"M 338 256 168 322\" stroke=\"gray\" stroke-width=\"0.5\"/><path d=\"M 338 256 247 301\" stroke=\"gray\" stroke-width=\"0.5\"/><path d=\"M 338 256 216 418\" stroke=\"gray\" stroke-width=\"0.5\"/><path d=\"M 338 256 318 345\" stroke=\"gray\" stroke-width=\"0.5\"/><path d=\"M 338 256 277 328\" stroke=\"gray\" stroke-width=\"0.5\"/><path d=\"M 338 256 248 209\" stroke=\"gray\" stroke-width=\"0.5\"/><path d=\"M 338 256 219 175\" stroke=\"gray\" stroke-width=\"0.5\"/><path d=\"M 338 256 285 185\" stroke=\"gray\" stroke-width=\"0.5\"/><path d=\"M 491 336 338 256\" stroke=\"gray\" stroke-width=\"0.5\"/><path d=\"M 491 336 500 275\" stroke=\"gray\" stroke-width=\"0.5\"/><path d=\"M 491 336 441 311\" stroke=\"gray\" stroke-width=\"0.5\"/><path d=\"M 491 336 615 406\" stroke=\"gray\" stroke-width=\"0.5\"/><path d=\"M 500 275 338 256\" stroke=\"gray\" stroke-width=\"0.5\"/><path d=\"M 500 275 491 336\" stroke=\"gray\" stroke-width=\"0.5\"/><path d=\"M 500 275 574 236\" stroke=\"gray\" stroke-width=\"0.5\"/><path d=\"M 449 233 338 256\" stroke=\"gray\" stroke-width=\"0.5\"/><path d=\"M 357 319 338 256\" stroke=\"gray\" stroke-width=\"0.5\"/><path d=\"M 357 319 521 347\" stroke=\"gray\" stroke-width=\"0.5\"/><path d=\"M 357 319 390 273\" stroke=\"gray\" stroke-width=\"0.5\"/><path d=\"M 357 319 247 301\" stroke=\"gray\" stroke-width=\"0.5\"/><path d=\"M 357 319 224 348\" stroke=\"gray\" stroke-width=\"0.5\"/><path d=\"M 390 381 338 256\" stroke=\"gray\" stroke-width=\"0.5\"/><path d=\"M 390 381 427 467\" stroke=\"gray\" stroke-width=\"0.5\"/><path d=\"M 427 467 390 381\" stroke=\"gray\" stroke-width=\"0.5\"/><path d=\"M 236 108 338 256\" stroke=\"gray\" stroke-width=\"0.5\"/><path d=\"M 236 108 154 34\" stroke=\"gray\" stroke-width=\"0.5\"/><path d=\"M 236 108 204 20\" stroke=\"gray\" stroke-width=\"0.5\"/><path d=\"M 475 200 338 256\" stroke=\"gray\" stroke-width=\"0.5\"/><path d=\"M 720 243 574 236\" stroke=\"gray\" stroke-width=\"0.5\"/><path d=\"M 574 236 338 256\" stroke=\"gray\" stroke-width=\"0.5\"/><path d=\"M 574 236 500 275\" stroke=\"gray\" stroke-width=\"0.5\"/><path d=\"M 574 236 720 243\" stroke=\"gray\" stroke-width=\"0.5\"/><path d=\"M 574 236 705 194\" stroke=\"gray\" stroke-width=\"0.5\"/><path d=\"M 154 34 236 108\" stroke=\"gray\" stroke-width=\"0.5\"/><path d=\"M 154 34 204 20\" stroke=\"gray\" stroke-width=\"0.5\"/><path d=\"M 204 20 236 108\" stroke=\"gray\" stroke-width=\"0.5\"/><path d=\"M 204 20 154 34\" stroke=\"gray\" stroke-width=\"0.5\"/><path d=\"M 705 194 574 236\" stroke=\"gray\" stroke-width=\"0.5\"/><path d=\"M 183 251 338 256\" stroke=\"gray\" stroke-width=\"0.5\"/><path d=\"M 441 311 338 256\" stroke=\"gray\" stroke-width=\"0.5\"/><path d=\"M 441 311 491 336\" stroke=\"gray\" stroke-width=\"0.5\"/><path d=\"M 615 406 491 336\" stroke=\"gray\" stroke-width=\"0.5\"/><path d=\"M 425 182 338 256\" stroke=\"gray\" stroke-width=\"0.5\"/><path d=\"M 329 155 338 256\" stroke=\"gray\" stroke-width=\"0.5\"/><path d=\"M 182 212 338 256\" stroke=\"gray\" stroke-width=\"0.5\"/><path d=\"M 521 347 357 319\" stroke=\"gray\" stroke-width=\"0.5\"/><path d=\"M 389 158 338 256\" stroke=\"gray\" stroke-width=\"0.5\"/><path d=\"M 390 273 338 256\" stroke=\"gray\" stroke-width=\"0.5\"/><path d=\"M 390 273 357 319\" stroke=\"gray\" stroke-width=\"0.5\"/><path d=\"M 168 322 338 256\" stroke=\"gray\" stroke-width=\"0.5\"/><path d=\"M 168 322 247 301\" stroke=\"gray\" stroke-width=\"0.5\"/><path d=\"M 168 322 216 418\" stroke=\"gray\" stroke-width=\"0.5\"/><path d=\"M 168 322 20 301\" stroke=\"gray\" stroke-width=\"0.5\"/><path d=\"M 247 301 338 256\" stroke=\"gray\" stroke-width=\"0.5\"/><path d=\"M 247 301 357 319\" stroke=\"gray\" stroke-width=\"0.5\"/><path d=\"M 247 301 168 322\" stroke=\"gray\" stroke-width=\"0.5\"/><path d=\"M 247 301 224 348\" stroke=\"gray\" stroke-width=\"0.5\"/><path d=\"M 216 418 338 256\" stroke=\"gray\" stroke-width=\"0.5\"/><path d=\"M 216 418 168 322\" stroke=\"gray\" stroke-width=\"0.5\"/><path d=\"M 216 418 130 482\" stroke=\"gray\" stroke-width=\"0.5\"/><path d=\"M 216 418 151 509\" stroke=\"gray\" stroke-width=\"0.5\"/><path d=\"M 216 418 191 497\" stroke=\"gray\" stroke-width=\"0.5\"/><path d=\"M 216 418 250 520\" stroke=\"gray\" stroke-width=\"0.5\"/><path d=\"M 20 301 168 322\" stroke=\"gray\" stroke-width=\"0.5\"/><path d=\"M 130 482 216 418\" stroke=\"gray\" stroke-width=\"0.5\"/><path d=\"M 130 482 151 509\" stroke=\"gray\" stroke-width=\"0.5\"/><path d=\"M 130 482 191 497\" stroke=\"gray\" stroke-width=\"0.5\"/><path d=\"M 151 509 216 418\" stroke=\"gray\" stroke-width=\"0.5\"/><path d=\"M 151 509 130 482\" stroke=\"gray\" stroke-width=\"0.5\"/><path d=\"M 151 509 191 497\" stroke=\"gray\" stroke-width=\"0.5\"/><path d=\"M 191 497 216 418\" stroke=\"gray\" stroke-width=\"0.5\"/><path d=\"M 191 497 130 482\" stroke=\"gray\" stroke-width=\"0.5\"/><path d=\"M 191 497 151 509\" stroke=\"gray\" stroke-width=\"0.5\"/><path d=\"M 250 520 216 418\" stroke=\"gray\" stroke-width=\"0.5\"/><path d=\"M 318 345 338 256\" stroke=\"gray\" stroke-width=\"0.5\"/><path d=\"M 318 345 277 328\" stroke=\"gray\" stroke-width=\"0.5\"/><path d=\"M 277 328 338 256\" stroke=\"gray\" stroke-width=\"0.5\"/><path d=\"M 277 328 318 345\" stroke=\"gray\" stroke-width=\"0.5\"/><path d=\"M 248 209 338 256\" stroke=\"gray\" stroke-width=\"0.5\"/><path d=\"M 248 209 285 185\" stroke=\"gray\" stroke-width=\"0.5\"/><path d=\"M 219 175 338 256\" stroke=\"gray\" stroke-width=\"0.5\"/><path d=\"M 285 185 338 256\" stroke=\"gray\" stroke-width=\"0.5\"/><path d=\"M 285 185 248 209\" stroke=\"gray\" stroke-width=\"0.5\"/><path d=\"M 224 348 357 319\" stroke=\"gray\" stroke-width=\"0.5\"/><path d=\"M 224 348 247 301\" stroke=\"gray\" stroke-width=\"0.5\"/><circle cx=\"338\" cy=\"256\" r=\"3.0\" style=\"fill:rgb(179, 3, 38);stroke:black;stroke-width:1.0\"/><circle cx=\"491\" cy=\"336\" r=\"3.0\" style=\"fill:rgb(99, 131, 234);stroke:black;stroke-width:1.0\"/><circle cx=\"500\" cy=\"275\" r=\"3.0\" style=\"fill:rgb(86, 115, 224);stroke:black;stroke-width:1.0\"/><circle cx=\"449\" cy=\"233\" r=\"3.0\" style=\"fill:rgb(58, 76, 192);stroke:black;stroke-width:1.0\"/><circle cx=\"357\" cy=\"319\" r=\"3.0\" style=\"fill:rgb(112, 147, 243);stroke:black;stroke-width:1.0\"/><circle cx=\"390\" cy=\"381\" r=\"3.0\" style=\"fill:rgb(76, 102, 214);stroke:black;stroke-width:1.0\"/><circle cx=\"427\" cy=\"467\" r=\"3.0\" style=\"fill:rgb(60, 79, 195);stroke:black;stroke-width:1.0\"/><circle cx=\"236\" cy=\"108\" r=\"3.0\" style=\"fill:rgb(86, 115, 224);stroke:black;stroke-width:1.0\"/><circle cx=\"475\" cy=\"200\" r=\"3.0\" style=\"fill:rgb(58, 76, 192);stroke:black;stroke-width:1.0\"/><circle cx=\"720\" cy=\"243\" r=\"3.0\" style=\"fill:rgb(58, 76, 192);stroke:black;stroke-width:1.0\"/><circle cx=\"574\" cy=\"236\" r=\"3.0\" style=\"fill:rgb(105, 139, 239);stroke:black;stroke-width:1.0\"/><circle cx=\"154\" cy=\"34\" r=\"3.0\" style=\"fill:rgb(72, 96, 209);stroke:black;stroke-width:1.0\"/><circle cx=\"204\" cy=\"20\" r=\"3.0\" style=\"fill:rgb(72, 96, 209);stroke:black;stroke-width:1.0\"/><circle cx=\"705\" cy=\"194\" r=\"3.0\" style=\"fill:rgb(58, 76, 192);stroke:black;stroke-width:1.0\"/><circle cx=\"183\" cy=\"251\" r=\"3.0\" style=\"fill:rgb(58, 76, 192);stroke:black;stroke-width:1.0\"/><circle cx=\"441\" cy=\"311\" r=\"3.0\" style=\"fill:rgb(70, 93, 207);stroke:black;stroke-width:1.0\"/><circle cx=\"615\" cy=\"406\" r=\"3.0\" style=\"fill:rgb(58, 76, 192);stroke:black;stroke-width:1.0\"/><circle cx=\"425\" cy=\"182\" r=\"3.0\" style=\"fill:rgb(58, 76, 192);stroke:black;stroke-width:1.0\"/><circle cx=\"329\" cy=\"155\" r=\"3.0\" style=\"fill:rgb(58, 76, 192);stroke:black;stroke-width:1.0\"/><circle cx=\"182\" cy=\"212\" r=\"3.0\" style=\"fill:rgb(58, 76, 192);stroke:black;stroke-width:1.0\"/><circle cx=\"521\" cy=\"347\" r=\"3.0\" style=\"fill:rgb(58, 76, 192);stroke:black;stroke-width:1.0\"/><circle cx=\"389\" cy=\"158\" r=\"3.0\" style=\"fill:rgb(58, 76, 192);stroke:black;stroke-width:1.0\"/><circle cx=\"390\" cy=\"273\" r=\"3.0\" style=\"fill:rgb(70, 93, 207);stroke:black;stroke-width:1.0\"/><circle cx=\"168\" cy=\"322\" r=\"3.0\" style=\"fill:rgb(96, 128, 232);stroke:black;stroke-width:1.0\"/><circle cx=\"247\" cy=\"301\" r=\"3.0\" style=\"fill:rgb(96, 128, 232);stroke:black;stroke-width:1.0\"/><circle cx=\"216\" cy=\"418\" r=\"3.0\" style=\"fill:rgb(120, 155, 247);stroke:black;stroke-width:1.0\"/><circle cx=\"20\" cy=\"301\" r=\"3.0\" style=\"fill:rgb(58, 76, 192);stroke:black;stroke-width:1.0\"/><circle cx=\"130\" cy=\"482\" r=\"3.0\" style=\"fill:rgb(80, 107, 218);stroke:black;stroke-width:1.0\"/><circle cx=\"151\" cy=\"509\" r=\"3.0\" style=\"fill:rgb(80, 107, 218);stroke:black;stroke-width:1.0\"/><circle cx=\"191\" cy=\"497\" r=\"3.0\" style=\"fill:rgb(80, 107, 218);stroke:black;stroke-width:1.0\"/><circle cx=\"250\" cy=\"520\" r=\"3.0\" style=\"fill:rgb(58, 76, 192);stroke:black;stroke-width:1.0\"/><circle cx=\"318\" cy=\"345\" r=\"3.0\" style=\"fill:rgb(70, 93, 207);stroke:black;stroke-width:1.0\"/><circle cx=\"277\" cy=\"328\" r=\"3.0\" style=\"fill:rgb(70, 93, 207);stroke:black;stroke-width:1.0\"/><circle cx=\"248\" cy=\"209\" r=\"3.0\" style=\"fill:rgb(70, 93, 207);stroke:black;stroke-width:1.0\"/><circle cx=\"219\" cy=\"175\" r=\"3.0\" style=\"fill:rgb(58, 76, 192);stroke:black;stroke-width:1.0\"/><circle cx=\"285\" cy=\"185\" r=\"3.0\" style=\"fill:rgb(70, 93, 207);stroke:black;stroke-width:1.0\"/><circle cx=\"224\" cy=\"348\" r=\"3.0\" style=\"fill:rgb(70, 93, 207);stroke:black;stroke-width:1.0\"/><text font-size=\"10\" x=\"344\" y=\"259\">Alice</text><text font-size=\"10\" x=\"497\" y=\"339\">Rabbit</text><text font-size=\"10\" x=\"506\" y=\"278\">Dinah</text><text font-size=\"10\" x=\"455\" y=\"236\">Fender</text><text font-size=\"10\" x=\"363\" y=\"322\">Duchess</text><text font-size=\"10\" x=\"396\" y=\"384\">Mabel</text><text font-size=\"10\" x=\"433\" y=\"470\">Ada</text><text font-size=\"10\" x=\"242\" y=\"111\">Mouse</text><text font-size=\"10\" x=\"481\" y=\"203\">William the Conqueror</text><text font-size=\"10\" x=\"726\" y=\"246\">Eaglet</text><text font-size=\"10\" x=\"580\" y=\"239\">Lory</text><text font-size=\"10\" x=\"160\" y=\"37\">Edgar Atheling</text><text font-size=\"10\" x=\"210\" y=\"23\">William</text><text font-size=\"10\" x=\"711\" y=\"197\">Crab</text><text font-size=\"10\" x=\"189\" y=\"254\">Bill</text><text font-size=\"10\" x=\"447\" y=\"314\">Mary Ann</text><text font-size=\"10\" x=\"621\" y=\"409\">Pat</text><text font-size=\"10\" x=\"431\" y=\"185\">Caterpillar</text><text font-size=\"10\" x=\"335\" y=\"158\">Pigeon</text><text font-size=\"10\" x=\"188\" y=\"215\">Fish-Footman</text><text font-size=\"10\" x=\"527\" y=\"350\">Cheshire</text><text font-size=\"10\" x=\"395\" y=\"161\">Cheshire Cat</text><text font-size=\"10\" x=\"396\" y=\"276\">Cat</text><text font-size=\"10\" x=\"174\" y=\"325\">Hatter</text><text font-size=\"10\" x=\"253\" y=\"304\">Hare</text><text font-size=\"10\" x=\"222\" y=\"421\">Dormouse</text><text font-size=\"10\" x=\"26\" y=\"304\">Time</text><text font-size=\"10\" x=\"136\" y=\"485\">Lacie</text><text font-size=\"10\" x=\"157\" y=\"512\">Elsie</text><text font-size=\"10\" x=\"197\" y=\"500\">Tillie</text><text font-size=\"10\" x=\"256\" y=\"523\">Treacle</text><text font-size=\"10\" x=\"324\" y=\"348\">Kings</text><text font-size=\"10\" x=\"283\" y=\"331\">Queens</text><text font-size=\"10\" x=\"254\" y=\"212\">Gryphon</text><text font-size=\"10\" x=\"225\" y=\"178\">Lobster Quadrille</text><text font-size=\"10\" x=\"291\" y=\"188\">Soup</text><text font-size=\"10\" x=\"230\" y=\"351\">Lizard</text></svg>"
      ],
      "text/plain": [
       "<IPython.core.display.SVG object>"
      ]
     },
     "execution_count": 63,
     "metadata": {},
     "output_type": "execute_result"
    }
   ],
   "source": [
    "nodes = community_df[community_df['community']==comm_idx[0]]['node'].values\n",
    "\n",
    "G_comm = G.subgraph(nodes)\n",
    "G_net_main = G_comm.copy() # we will run community detection off of this at the end\n",
    "\n",
    "draw_graph(nx.k_core(G_comm, 1), show_names=True, node_size=3)"
   ]
  },
  {
   "cell_type": "code",
   "execution_count": 64,
   "id": "68fd8c6f",
   "metadata": {},
   "outputs": [
    {
     "name": "stdout",
     "output_type": "stream",
     "text": [
      "Ada\n",
      "Alice\n",
      "Bill\n",
      "Cat\n",
      "Caterpillar\n",
      "Cheshire\n",
      "Cheshire Cat\n",
      "Crab\n",
      "Dinah\n",
      "Dormouse\n",
      "Duchess\n",
      "Eaglet\n",
      "Edgar Atheling\n",
      "Elsie\n",
      "Fender\n",
      "Fish-Footman\n",
      "Gryphon\n",
      "Hare\n",
      "Hatter\n",
      "Kings\n",
      "Lacie\n",
      "Lizard\n",
      "Lobster Quadrille\n",
      "Lory\n",
      "Mabel\n",
      "Mary Ann\n",
      "Mouse\n",
      "Pat\n",
      "Pigeon\n",
      "Queens\n",
      "Rabbit\n",
      "Soup\n",
      "Tillie\n",
      "Time\n",
      "Treacle\n",
      "William\n",
      "William the Conqueror\n"
     ]
    },
    {
     "data": {
      "text/plain": [
       "[None,\n",
       " None,\n",
       " None,\n",
       " None,\n",
       " None,\n",
       " None,\n",
       " None,\n",
       " None,\n",
       " None,\n",
       " None,\n",
       " None,\n",
       " None,\n",
       " None,\n",
       " None,\n",
       " None,\n",
       " None,\n",
       " None,\n",
       " None,\n",
       " None,\n",
       " None,\n",
       " None,\n",
       " None,\n",
       " None,\n",
       " None,\n",
       " None,\n",
       " None,\n",
       " None,\n",
       " None,\n",
       " None,\n",
       " None,\n",
       " None,\n",
       " None,\n",
       " None,\n",
       " None,\n",
       " None,\n",
       " None,\n",
       " None]"
      ]
     },
     "execution_count": 64,
     "metadata": {},
     "output_type": "execute_result"
    }
   ],
   "source": [
    "nodes = [n for n in sorted(G_net_main.nodes)]\n",
    "[print(n) for n in nodes]"
   ]
  },
  {
   "cell_type": "markdown",
   "id": "1a1fb4fb",
   "metadata": {},
   "source": [
    "## More Communities!"
   ]
  },
  {
   "cell_type": "code",
   "execution_count": 65,
   "id": "489ddd48",
   "metadata": {},
   "outputs": [
    {
     "data": {
      "image/svg+xml": [
       "<svg height=\"540\" width=\"795.0\" xmlns=\"http://www.w3.org/2000/svg\"><path d=\"M 104 35 312 332\" stroke=\"gray\" stroke-width=\"0.5\"/><path d=\"M 104 35 529 222\" stroke=\"gray\" stroke-width=\"0.5\"/><path d=\"M 104 35 399 20\" stroke=\"gray\" stroke-width=\"0.5\"/><path d=\"M 104 35 20 213\" stroke=\"gray\" stroke-width=\"0.5\"/><path d=\"M 312 332 104 35\" stroke=\"gray\" stroke-width=\"0.5\"/><path d=\"M 312 332 529 222\" stroke=\"gray\" stroke-width=\"0.5\"/><path d=\"M 312 332 720 520\" stroke=\"gray\" stroke-width=\"0.5\"/><path d=\"M 312 332 399 20\" stroke=\"gray\" stroke-width=\"0.5\"/><path d=\"M 312 332 20 213\" stroke=\"gray\" stroke-width=\"0.5\"/><path d=\"M 529 222 104 35\" stroke=\"gray\" stroke-width=\"0.5\"/><path d=\"M 529 222 312 332\" stroke=\"gray\" stroke-width=\"0.5\"/><path d=\"M 529 222 720 520\" stroke=\"gray\" stroke-width=\"0.5\"/><path d=\"M 529 222 399 20\" stroke=\"gray\" stroke-width=\"0.5\"/><path d=\"M 529 222 20 213\" stroke=\"gray\" stroke-width=\"0.5\"/><path d=\"M 720 520 312 332\" stroke=\"gray\" stroke-width=\"0.5\"/><path d=\"M 720 520 529 222\" stroke=\"gray\" stroke-width=\"0.5\"/><path d=\"M 399 20 104 35\" stroke=\"gray\" stroke-width=\"0.5\"/><path d=\"M 399 20 312 332\" stroke=\"gray\" stroke-width=\"0.5\"/><path d=\"M 399 20 529 222\" stroke=\"gray\" stroke-width=\"0.5\"/><path d=\"M 399 20 20 213\" stroke=\"gray\" stroke-width=\"0.5\"/><path d=\"M 20 213 104 35\" stroke=\"gray\" stroke-width=\"0.5\"/><path d=\"M 20 213 312 332\" stroke=\"gray\" stroke-width=\"0.5\"/><path d=\"M 20 213 529 222\" stroke=\"gray\" stroke-width=\"0.5\"/><path d=\"M 20 213 399 20\" stroke=\"gray\" stroke-width=\"0.5\"/><circle cx=\"104\" cy=\"35\" r=\"3.0\" style=\"fill:rgb(244, 195, 171);stroke:black;stroke-width:1.0\"/><circle cx=\"312\" cy=\"332\" r=\"3.0\" style=\"fill:rgb(179, 3, 38);stroke:black;stroke-width:1.0\"/><circle cx=\"529\" cy=\"222\" r=\"3.0\" style=\"fill:rgb(179, 3, 38);stroke:black;stroke-width:1.0\"/><circle cx=\"720\" cy=\"520\" r=\"3.0\" style=\"fill:rgb(58, 76, 192);stroke:black;stroke-width:1.0\"/><circle cx=\"399\" cy=\"20\" r=\"3.0\" style=\"fill:rgb(244, 195, 171);stroke:black;stroke-width:1.0\"/><circle cx=\"20\" cy=\"213\" r=\"3.0\" style=\"fill:rgb(244, 195, 171);stroke:black;stroke-width:1.0\"/><text font-size=\"10\" x=\"110\" y=\"38\">Stigand</text><text font-size=\"10\" x=\"318\" y=\"335\">Northumbria</text><text font-size=\"10\" x=\"535\" y=\"225\">Morcar</text><text font-size=\"10\" x=\"726\" y=\"523\">Edwin</text><text font-size=\"10\" x=\"405\" y=\"23\">Mercia</text><text font-size=\"10\" x=\"26\" y=\"216\">Canterbury</text></svg>"
      ],
      "text/plain": [
       "<IPython.core.display.SVG object>"
      ]
     },
     "execution_count": 65,
     "metadata": {},
     "output_type": "execute_result"
    }
   ],
   "source": [
    "nodes = community_df[community_df['community']==comm_idx[1]]['node'].values\n",
    "\n",
    "G_comm = G.subgraph(nodes)\n",
    "\n",
    "draw_graph(nx.k_core(G_comm, 1), show_names=True, node_size=3)"
   ]
  },
  {
   "cell_type": "code",
   "execution_count": 66,
   "id": "03a0995f",
   "metadata": {},
   "outputs": [
    {
     "name": "stdout",
     "output_type": "stream",
     "text": [
      "Canterbury\n",
      "Edwin\n",
      "Mercia\n",
      "Morcar\n",
      "Northumbria\n",
      "Stigand\n"
     ]
    },
    {
     "data": {
      "text/plain": [
       "[None, None, None, None, None, None]"
      ]
     },
     "execution_count": 66,
     "metadata": {},
     "output_type": "execute_result"
    }
   ],
   "source": [
    "[print(n) for n in sorted(G_comm.nodes)]"
   ]
  },
  {
   "cell_type": "markdown",
   "id": "628c3d9c",
   "metadata": {},
   "source": [
    "# Use Any Text\n",
    "\n",
    "You can do this with any text whatsoever, whether it be literature, audio transcribed into text, online news, anything. If you have text and spaCy's NER models are able to extract entities, then this will work.\n",
    "\n",
    "This in no way diminishes the value of text or of reading. It is an additional tool that can be used to understand the relationships that exist in text. It is an additional learning tool, for understanding. It is not a replacement for reading. It can give greater understanding and awareness.\n",
    "\n",
    "The first time I did this, I used the book of Genesis from the Bible.\n",
    "\n",
    "NER models will improve over time, and LLMs can extract entities as well. Use whatever you want for the entity extraction, and then use this or a similar approach for wiring the network together."
   ]
  },
  {
   "cell_type": "code",
   "execution_count": null,
   "id": "bfbdf775",
   "metadata": {},
   "outputs": [],
   "source": []
  },
  {
   "cell_type": "code",
   "execution_count": null,
   "id": "da7deb9e",
   "metadata": {},
   "outputs": [],
   "source": []
  },
  {
   "cell_type": "code",
   "execution_count": null,
   "id": "59b83f64",
   "metadata": {},
   "outputs": [],
   "source": []
  }
 ],
 "metadata": {
  "kernelspec": {
   "display_name": "Python 3",
   "language": "python",
   "name": "python3"
  },
  "language_info": {
   "codemirror_mode": {
    "name": "ipython",
    "version": 3
   },
   "file_extension": ".py",
   "mimetype": "text/x-python",
   "name": "python",
   "nbconvert_exporter": "python",
   "pygments_lexer": "ipython3",
   "version": "3.7.16"
  }
 },
 "nbformat": 4,
 "nbformat_minor": 5
}
