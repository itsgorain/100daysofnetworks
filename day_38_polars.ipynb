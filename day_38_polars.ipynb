{
 "cells": [
  {
   "cell_type": "code",
   "execution_count": 1,
   "id": "c317890d",
   "metadata": {},
   "outputs": [],
   "source": [
    "import polars as pl\n",
    "import pandas as pd\n",
    "import networkx as nx\n",
    "\n",
    "from ast import literal_eval"
   ]
  },
  {
   "cell_type": "code",
   "execution_count": 2,
   "id": "77adcc92",
   "metadata": {},
   "outputs": [],
   "source": [
    "# for graph visualization\n",
    "import numpy as np\n",
    "from IPython.display import SVG \n",
    "from sknetwork.visualization import svg_graph \n",
    "from sknetwork.data import Bunch \n",
    "from sknetwork.ranking import PageRank \n",
    "from scipy.sparse import csr_matrix\n",
    "\n",
    "def draw_graph(G, show_names=False, node_size=1, font_size=10, edge_width=0.5):\n",
    "\n",
    "    adjacency = nx.to_scipy_sparse_array(G, nodelist=None, dtype=None, weight='weight', format='csr')\n",
    "    adjacency = csr_matrix(adjacency) # fix to weird sknetwork-csr issue; comment out to troubleshoot\n",
    "    \n",
    "    names = np.array(list(G.nodes))\n",
    "    \n",
    "    graph = Bunch()\n",
    "    graph.adjacency = adjacency\n",
    "    graph.names = np.array(names)\n",
    "    \n",
    "    pagerank = PageRank()\n",
    "    scores = pagerank.fit_transform(adjacency)\n",
    "\n",
    "    if show_names:\n",
    "        \n",
    "        image = svg_graph(graph.adjacency, font_size=font_size, node_size=node_size, names=graph.names, width=700, height=500, scores=scores, edge_width=edge_width)\n",
    "    \n",
    "    else:\n",
    "        \n",
    "        image = svg_graph(graph.adjacency, node_size=node_size, width=700, height=500, scores=scores, edge_width=edge_width)\n",
    "    \n",
    "    return SVG(image)"
   ]
  },
  {
   "cell_type": "code",
   "execution_count": 3,
   "id": "35d6981c",
   "metadata": {},
   "outputs": [],
   "source": [
    "data = 'data/arxiv_network_science_data.csv'"
   ]
  },
  {
   "cell_type": "code",
   "execution_count": 4,
   "id": "d0efcbf5",
   "metadata": {},
   "outputs": [
    {
     "name": "stdout",
     "output_type": "stream",
     "text": [
      "488 ms ± 58.4 ms per loop (mean ± std. dev. of 7 runs, 1 loop each)\n"
     ]
    }
   ],
   "source": [
    "%timeit df = pd.read_csv(data)"
   ]
  },
  {
   "cell_type": "code",
   "execution_count": 5,
   "id": "d7f55ba4",
   "metadata": {},
   "outputs": [
    {
     "name": "stdout",
     "output_type": "stream",
     "text": [
      "185 ms ± 11.7 ms per loop (mean ± std. dev. of 7 runs, 1 loop each)\n"
     ]
    }
   ],
   "source": [
    "%timeit df = pl.read_csv(data)"
   ]
  },
  {
   "cell_type": "code",
   "execution_count": 6,
   "id": "898c5562",
   "metadata": {},
   "outputs": [
    {
     "data": {
      "text/html": [
       "<div><style>\n",
       ".dataframe > thead > tr,\n",
       ".dataframe > tbody > tr {\n",
       "  text-align: right;\n",
       "  white-space: pre-wrap;\n",
       "}\n",
       "</style>\n",
       "<small>shape: (5, 6)</small><table border=\"1\" class=\"dataframe\"><thead><tr><th>date_published</th><th>title</th><th>authors</th><th>summary</th><th>url</th><th>category</th></tr><tr><td>str</td><td>str</td><td>str</td><td>str</td><td>str</td><td>str</td></tr></thead><tbody><tr><td>&quot;2023-11-03 17:34:50+00:00&quot;</td><td>&quot;Neural ODEs as a discovery too…</td><td>&quot;[&#x27;Dustin Nguyen&#x27;, &#x27;Yuan-Sen Ti…</td><td>&quot;Dynamic astrophysical phenomen…</td><td>&quot;http://arxiv.org/pdf/2311.0205…</td><td>&quot;astro-ph.GA&quot;</td></tr><tr><td>&quot;2023-11-03 15:40:20+00:00&quot;</td><td>&quot;Generalization of Graph-Based …</td><td>&quot;[&#x27;Xiaoxiao Wang&#x27;, &#x27;Joseph Musi…</td><td>&quot;Although density functional th…</td><td>&quot;http://arxiv.org/pdf/2311.0198…</td><td>&quot;cond-mat.mtrl-sci&quot;</td></tr><tr><td>&quot;2023-11-03 13:10:55+00:00&quot;</td><td>&quot;Simulation of acquisition shif…</td><td>&quot;[&#x27;Christiane Posselt&#x27;, &#x27;Mehmet…</td><td>&quot;Purpose: To provide a simulati…</td><td>&quot;http://arxiv.org/pdf/2311.0189…</td><td>&quot;eess.IV&quot;</td></tr><tr><td>&quot;2023-11-03 10:40:17+00:00&quot;</td><td>&quot;Similarity network aggregation…</td><td>&quot;[&#x27;Roberto Ambrosini&#x27;, &#x27;Federic…</td><td>&quot;The synthesis of information d…</td><td>&quot;http://arxiv.org/pdf/2311.0183…</td><td>&quot;cs.SI&quot;</td></tr><tr><td>&quot;2023-11-03 00:33:24+00:00&quot;</td><td>&quot;Calibrate and Boost Logical Ex…</td><td>&quot;[&#x27;Yeyuan Chen&#x27;, &#x27;Dingmin Wang&#x27;…</td><td>&quot;As a powerful framework for gr…</td><td>&quot;http://arxiv.org/pdf/2311.0164…</td><td>&quot;cs.LG&quot;</td></tr></tbody></table></div>"
      ],
      "text/plain": [
       "shape: (5, 6)\n",
       "┌───────────────────┬───────────────────┬───────────────────┬───────────────────┬───────────────────┬──────────────────┐\n",
       "│ date_published    ┆ title             ┆ authors           ┆ summary           ┆ url               ┆ category         │\n",
       "│ ---               ┆ ---               ┆ ---               ┆ ---               ┆ ---               ┆ ---              │\n",
       "│ str               ┆ str               ┆ str               ┆ str               ┆ str               ┆ str              │\n",
       "╞═══════════════════╪═══════════════════╪═══════════════════╪═══════════════════╪═══════════════════╪══════════════════╡\n",
       "│ 2023-11-03        ┆ Neural ODEs as a  ┆ ['Dustin Nguyen', ┆ Dynamic           ┆ http://arxiv.org/ ┆ astro-ph.GA      │\n",
       "│ 17:34:50+00:00    ┆ discovery too…    ┆ 'Yuan-Sen Ti…     ┆ astrophysical     ┆ pdf/2311.0205…    ┆                  │\n",
       "│                   ┆                   ┆                   ┆ phenomen…         ┆                   ┆                  │\n",
       "│ 2023-11-03        ┆ Generalization of ┆ ['Xiaoxiao Wang', ┆ Although density  ┆ http://arxiv.org/ ┆ cond-mat.mtrl-sc │\n",
       "│ 15:40:20+00:00    ┆ Graph-Based …     ┆ 'Joseph Musi…     ┆ functional th…    ┆ pdf/2311.0198…    ┆ i                │\n",
       "│ 2023-11-03        ┆ Simulation of     ┆ ['Christiane      ┆ Purpose: To       ┆ http://arxiv.org/ ┆ eess.IV          │\n",
       "│ 13:10:55+00:00    ┆ acquisition shif… ┆ Posselt',         ┆ provide a         ┆ pdf/2311.0189…    ┆                  │\n",
       "│                   ┆                   ┆ 'Mehmet…          ┆ simulati…         ┆                   ┆                  │\n",
       "│ 2023-11-03        ┆ Similarity        ┆ ['Roberto         ┆ The synthesis of  ┆ http://arxiv.org/ ┆ cs.SI            │\n",
       "│ 10:40:17+00:00    ┆ network           ┆ Ambrosini',       ┆ information d…    ┆ pdf/2311.0183…    ┆                  │\n",
       "│                   ┆ aggregation…      ┆ 'Federic…         ┆                   ┆                   ┆                  │\n",
       "│ 2023-11-03        ┆ Calibrate and     ┆ ['Yeyuan Chen',   ┆ As a powerful     ┆ http://arxiv.org/ ┆ cs.LG            │\n",
       "│ 00:33:24+00:00    ┆ Boost Logical Ex… ┆ 'Dingmin Wang'…   ┆ framework for gr… ┆ pdf/2311.0164…    ┆                  │\n",
       "└───────────────────┴───────────────────┴───────────────────┴───────────────────┴───────────────────┴──────────────────┘"
      ]
     },
     "execution_count": 6,
     "metadata": {},
     "output_type": "execute_result"
    }
   ],
   "source": [
    "df = pl.read_csv(data)\n",
    "df.head()"
   ]
  },
  {
   "cell_type": "markdown",
   "id": "c144d5a5",
   "metadata": {},
   "source": [
    "We can create a bipartite graph with this dataset, using title and authors as our nodes."
   ]
  },
  {
   "cell_type": "code",
   "execution_count": 7,
   "id": "55f7156a",
   "metadata": {},
   "outputs": [
    {
     "data": {
      "text/html": [
       "<div><style>\n",
       ".dataframe > thead > tr,\n",
       ".dataframe > tbody > tr {\n",
       "  text-align: right;\n",
       "  white-space: pre-wrap;\n",
       "}\n",
       "</style>\n",
       "<small>shape: (5, 2)</small><table border=\"1\" class=\"dataframe\"><thead><tr><th>title</th><th>author</th></tr><tr><td>str</td><td>str</td></tr></thead><tbody><tr><td>&quot;Neural ODEs as a discovery too…</td><td>&quot;Dustin Nguyen&quot;</td></tr><tr><td>&quot;Neural ODEs as a discovery too…</td><td>&quot;Yuan-Sen Ting&quot;</td></tr><tr><td>&quot;Neural ODEs as a discovery too…</td><td>&quot;Todd A. Thompson&quot;</td></tr><tr><td>&quot;Neural ODEs as a discovery too…</td><td>&quot;Sebastian Lopez&quot;</td></tr><tr><td>&quot;Neural ODEs as a discovery too…</td><td>&quot;Laura A. Lopez&quot;</td></tr></tbody></table></div>"
      ],
      "text/plain": [
       "shape: (5, 2)\n",
       "┌─────────────────────────────────┬──────────────────┐\n",
       "│ title                           ┆ author           │\n",
       "│ ---                             ┆ ---              │\n",
       "│ str                             ┆ str              │\n",
       "╞═════════════════════════════════╪══════════════════╡\n",
       "│ Neural ODEs as a discovery too… ┆ Dustin Nguyen    │\n",
       "│ Neural ODEs as a discovery too… ┆ Yuan-Sen Ting    │\n",
       "│ Neural ODEs as a discovery too… ┆ Todd A. Thompson │\n",
       "│ Neural ODEs as a discovery too… ┆ Sebastian Lopez  │\n",
       "│ Neural ODEs as a discovery too… ┆ Laura A. Lopez   │\n",
       "└─────────────────────────────────┴──────────────────┘"
      ]
     },
     "execution_count": 7,
     "metadata": {},
     "output_type": "execute_result"
    }
   ],
   "source": [
    "edgelist_df = df.select(['title', 'authors'])\n",
    "\n",
    "authors = [literal_eval(edge) for edge in edgelist_df['authors'].to_list()]\n",
    "\n",
    "edgelist_df = edgelist_df.select(\n",
    "    pl.col('title'),\n",
    "    pl.Series(\"authors\", authors)\n",
    ")\n",
    "\n",
    "edgelist_df = edgelist_df.explode('authors')\n",
    "edgelist_df.columns = ['title', 'author']\n",
    "edgelist_df.head()"
   ]
  },
  {
   "cell_type": "markdown",
   "id": "337032ef",
   "metadata": {},
   "source": [
    "Question #1: How do we create a networkx graph using this data? \n",
    "\n",
    "Idea: Try to shove a polars dataframe right in. lol\n",
    "Idea: Create a Python list 'edgelist' and use that\n",
    "\n",
    "I would prefer to be able to just use polars directly, but I doubt that is possible."
   ]
  },
  {
   "cell_type": "code",
   "execution_count": 8,
   "id": "6f4ef77d",
   "metadata": {},
   "outputs": [],
   "source": [
    "G = nx.from_pandas_edgelist(edgelist_df, source='title', target='author')"
   ]
  },
  {
   "cell_type": "markdown",
   "id": "fe95ce23",
   "metadata": {},
   "source": [
    "What?!!! Why did that work? Did it work correctly?"
   ]
  },
  {
   "cell_type": "code",
   "execution_count": 9,
   "id": "63ec7662",
   "metadata": {},
   "outputs": [
    {
     "name": "stdout",
     "output_type": "stream",
     "text": [
      "Graph with 91659 nodes and 96394 edges\n"
     ]
    }
   ],
   "source": [
    "print(G)"
   ]
  },
  {
   "cell_type": "code",
   "execution_count": 10,
   "id": "53c832a4",
   "metadata": {},
   "outputs": [
    {
     "data": {
      "text/plain": [
       "['\"(Weitergeleitet von Journalistin)\": The Gendered Presentation of Professions on Wikipedia',\n",
       " '\"Betweenness Centrality\" as an Indicator of the \"Interdisciplinarity\" of Scientific Journals',\n",
       " '\"Birds of a Feather\": Does User Homophily Impact Information Diffusion in Social Media?',\n",
       " '\"Breaking\" Disasters: Predicting and Characterizing the Global News Value of Natural and Man-made Disasters',\n",
       " '\"Bring it on\": Explaining persistence in science at the intersection of identity and epistemology']"
      ]
     },
     "execution_count": 10,
     "metadata": {},
     "output_type": "execute_result"
    }
   ],
   "source": [
    "sorted(G.nodes)[0:5]"
   ]
  },
  {
   "cell_type": "code",
   "execution_count": 11,
   "id": "65e917a1",
   "metadata": {},
   "outputs": [
    {
     "data": {
      "text/html": [
       "<div><style>\n",
       ".dataframe > thead > tr,\n",
       ".dataframe > tbody > tr {\n",
       "  text-align: right;\n",
       "  white-space: pre-wrap;\n",
       "}\n",
       "</style>\n",
       "<small>shape: (5, 2)</small><table border=\"1\" class=\"dataframe\"><thead><tr><th>node</th><th>pagerank</th></tr><tr><td>str</td><td>f64</td></tr></thead><tbody><tr><td>&quot;Detector signal characterizati…</td><td>0.000892</td></tr><tr><td>&quot;Unbinned Deep Learning Jet Sub…</td><td>0.000781</td></tr><tr><td>&quot;ExoClock project II: A large-s…</td><td>0.00055</td></tr><tr><td>&quot;From Data to Software to Scien…</td><td>0.00048</td></tr><tr><td>&quot;Photometry of Type II Supernov…</td><td>0.000446</td></tr></tbody></table></div>"
      ],
      "text/plain": [
       "shape: (5, 2)\n",
       "┌─────────────────────────────────┬──────────┐\n",
       "│ node                            ┆ pagerank │\n",
       "│ ---                             ┆ ---      │\n",
       "│ str                             ┆ f64      │\n",
       "╞═════════════════════════════════╪══════════╡\n",
       "│ Detector signal characterizati… ┆ 0.000892 │\n",
       "│ Unbinned Deep Learning Jet Sub… ┆ 0.000781 │\n",
       "│ ExoClock project II: A large-s… ┆ 0.00055  │\n",
       "│ From Data to Software to Scien… ┆ 0.00048  │\n",
       "│ Photometry of Type II Supernov… ┆ 0.000446 │\n",
       "└─────────────────────────────────┴──────────┘"
      ]
     },
     "execution_count": 11,
     "metadata": {},
     "output_type": "execute_result"
    }
   ],
   "source": [
    "pr_df = pl.DataFrame([nx.pagerank(G)]).transpose(include_header=True)\n",
    "pr_df.columns = ['node', 'pagerank']\n",
    "pr_df = pr_df.sort('pagerank', descending=True)\n",
    "pr_df.head()"
   ]
  },
  {
   "cell_type": "code",
   "execution_count": 12,
   "id": "c38e7f48",
   "metadata": {},
   "outputs": [
    {
     "data": {
      "text/plain": [
       "82"
      ]
     },
     "execution_count": 12,
     "metadata": {},
     "output_type": "execute_result"
    }
   ],
   "source": [
    "components = list(nx.connected_components(G))\n",
    "\n",
    "len(components[0])"
   ]
  },
  {
   "cell_type": "code",
   "execution_count": 13,
   "id": "7734ae1f",
   "metadata": {},
   "outputs": [
    {
     "data": {
      "image/svg+xml": [
       "<svg xmlns=\"http://www.w3.org/2000/svg\" width=\"1563.0374993280366\" height=\"540\">\n",
       "<path stroke-width=\"0.5\" stroke=\"gray\" d=\"M 363 241 210 254\"/>\n",
       "<path stroke-width=\"0.5\" stroke=\"gray\" d=\"M 525 329 366 322\"/>\n",
       "<path stroke-width=\"0.5\" stroke=\"gray\" d=\"M 630 241 613 345\"/>\n",
       "<path stroke-width=\"0.5\" stroke=\"gray\" d=\"M 91 320 210 254\"/>\n",
       "<path stroke-width=\"0.5\" stroke=\"gray\" d=\"M 348 267 210 254\"/>\n",
       "<path stroke-width=\"0.5\" stroke=\"gray\" d=\"M 159 20 202 129\"/>\n",
       "<path stroke-width=\"0.5\" stroke=\"gray\" d=\"M 385 280 210 254\"/>\n",
       "<path stroke-width=\"0.5\" stroke=\"gray\" d=\"M 26 126 202 129\"/>\n",
       "<path stroke-width=\"0.5\" stroke=\"gray\" d=\"M 266 422 366 322\"/>\n",
       "<path stroke-width=\"0.5\" stroke=\"gray\" d=\"M 318 412 366 322\"/>\n",
       "<path stroke-width=\"0.5\" stroke=\"gray\" d=\"M 232 20 202 129\"/>\n",
       "<path stroke-width=\"0.5\" stroke=\"gray\" d=\"M 463 207 366 322\"/>\n",
       "<path stroke-width=\"0.5\" stroke=\"gray\" d=\"M 244 161 210 254\"/>\n",
       "<path stroke-width=\"0.5\" stroke=\"gray\" d=\"M 161 41 202 129\"/>\n",
       "<path stroke-width=\"0.5\" stroke=\"gray\" d=\"M 322 197 210 254\"/>\n",
       "<path stroke-width=\"0.5\" stroke=\"gray\" d=\"M 470 369 366 322\"/>\n",
       "<path stroke-width=\"0.5\" stroke=\"gray\" d=\"M 179 234 202 129\"/>\n",
       "<path stroke-width=\"0.5\" stroke=\"gray\" d=\"M 389 94 202 129\"/>\n",
       "<path stroke-width=\"0.5\" stroke=\"gray\" d=\"M 414 428 366 322\"/>\n",
       "<path stroke-width=\"0.5\" stroke=\"gray\" d=\"M 427 193 366 322\"/>\n",
       "<path stroke-width=\"0.5\" stroke=\"gray\" d=\"M 366 322 488 388\"/>\n",
       "<path stroke-width=\"0.5\" stroke=\"gray\" d=\"M 366 322 504 309\"/>\n",
       "<path stroke-width=\"0.5\" stroke=\"gray\" d=\"M 366 322 364 418\"/>\n",
       "<path stroke-width=\"0.5\" stroke=\"gray\" d=\"M 366 322 225 412\"/>\n",
       "<path stroke-width=\"0.5\" stroke=\"gray\" d=\"M 366 322 248 245\"/>\n",
       "<path stroke-width=\"0.5\" stroke=\"gray\" d=\"M 366 322 343 440\"/>\n",
       "<path stroke-width=\"0.5\" stroke=\"gray\" d=\"M 366 322 187 342\"/>\n",
       "<path stroke-width=\"0.5\" stroke=\"gray\" d=\"M 366 322 427 193\"/>\n",
       "<path stroke-width=\"0.5\" stroke=\"gray\" d=\"M 706 283 613 345\"/>\n",
       "<path stroke-width=\"0.5\" stroke=\"gray\" d=\"M 366 322 266 422\"/>\n",
       "<path stroke-width=\"0.5\" stroke=\"gray\" d=\"M 366 322 318 412\"/>\n",
       "<path stroke-width=\"0.5\" stroke=\"gray\" d=\"M 366 322 463 207\"/>\n",
       "<path stroke-width=\"0.5\" stroke=\"gray\" d=\"M 366 322 470 369\"/>\n",
       "<path stroke-width=\"0.5\" stroke=\"gray\" d=\"M 366 322 414 428\"/>\n",
       "<path stroke-width=\"0.5\" stroke=\"gray\" d=\"M 366 322 339 296\"/>\n",
       "<path stroke-width=\"0.5\" stroke=\"gray\" d=\"M 366 322 226 389\"/>\n",
       "<path stroke-width=\"0.5\" stroke=\"gray\" d=\"M 366 322 293 213\"/>\n",
       "<path stroke-width=\"0.5\" stroke=\"gray\" d=\"M 366 322 525 329\"/>\n",
       "<path stroke-width=\"0.5\" stroke=\"gray\" d=\"M 656 520 569 454\"/>\n",
       "<path stroke-width=\"0.5\" stroke=\"gray\" d=\"M 398 248 210 254\"/>\n",
       "<path stroke-width=\"0.5\" stroke=\"gray\" d=\"M 269 136 210 254\"/>\n",
       "<path stroke-width=\"0.5\" stroke=\"gray\" d=\"M 202 129 159 20\"/>\n",
       "<path stroke-width=\"0.5\" stroke=\"gray\" d=\"M 202 129 26 126\"/>\n",
       "<path stroke-width=\"0.5\" stroke=\"gray\" d=\"M 202 129 389 94\"/>\n",
       "<path stroke-width=\"0.5\" stroke=\"gray\" d=\"M 202 129 232 20\"/>\n",
       "<path stroke-width=\"0.5\" stroke=\"gray\" d=\"M 202 129 161 41\"/>\n",
       "<path stroke-width=\"0.5\" stroke=\"gray\" d=\"M 202 129 179 234\"/>\n",
       "<path stroke-width=\"0.5\" stroke=\"gray\" d=\"M 202 129 257 205\"/>\n",
       "<path stroke-width=\"0.5\" stroke=\"gray\" d=\"M 202 129 60 135\"/>\n",
       "<path stroke-width=\"0.5\" stroke=\"gray\" d=\"M 202 129 348 110\"/>\n",
       "<path stroke-width=\"0.5\" stroke=\"gray\" d=\"M 202 129 274 228\"/>\n",
       "<path stroke-width=\"0.5\" stroke=\"gray\" d=\"M 202 129 223 262\"/>\n",
       "<path stroke-width=\"0.5\" stroke=\"gray\" d=\"M 202 129 258 51\"/>\n",
       "<path stroke-width=\"0.5\" stroke=\"gray\" d=\"M 111 166 210 254\"/>\n",
       "<path stroke-width=\"0.5\" stroke=\"gray\" d=\"M 247 270 210 254\"/>\n",
       "<path stroke-width=\"0.5\" stroke=\"gray\" d=\"M 274 228 202 129\"/>\n",
       "<path stroke-width=\"0.5\" stroke=\"gray\" d=\"M 488 388 366 322\"/>\n",
       "<path stroke-width=\"0.5\" stroke=\"gray\" d=\"M 202 129 314 37\"/>\n",
       "<path stroke-width=\"0.5\" stroke=\"gray\" d=\"M 202 129 41 91\"/>\n",
       "<path stroke-width=\"0.5\" stroke=\"gray\" d=\"M 202 129 128 199\"/>\n",
       "<path stroke-width=\"0.5\" stroke=\"gray\" d=\"M 202 129 310 156\"/>\n",
       "<path stroke-width=\"0.5\" stroke=\"gray\" d=\"M 20 280 210 254\"/>\n",
       "<path stroke-width=\"0.5\" stroke=\"gray\" d=\"M 257 205 210 254\"/>\n",
       "<path stroke-width=\"0.5\" stroke=\"gray\" d=\"M 257 205 202 129\"/>\n",
       "<path stroke-width=\"0.5\" stroke=\"gray\" d=\"M 78 340 210 254\"/>\n",
       "<path stroke-width=\"0.5\" stroke=\"gray\" d=\"M 103 292 210 254\"/>\n",
       "<path stroke-width=\"0.5\" stroke=\"gray\" d=\"M 339 296 210 254\"/>\n",
       "<path stroke-width=\"0.5\" stroke=\"gray\" d=\"M 339 296 366 322\"/>\n",
       "<path stroke-width=\"0.5\" stroke=\"gray\" d=\"M 348 110 202 129\"/>\n",
       "<path stroke-width=\"0.5\" stroke=\"gray\" d=\"M 90 152 210 254\"/>\n",
       "<path stroke-width=\"0.5\" stroke=\"gray\" d=\"M 226 389 366 322\"/>\n",
       "<path stroke-width=\"0.5\" stroke=\"gray\" d=\"M 314 37 202 129\"/>\n",
       "<path stroke-width=\"0.5\" stroke=\"gray\" d=\"M 170 161 210 254\"/>\n",
       "<path stroke-width=\"0.5\" stroke=\"gray\" d=\"M 293 213 366 322\"/>\n",
       "<path stroke-width=\"0.5\" stroke=\"gray\" d=\"M 95 210 210 254\"/>\n",
       "<path stroke-width=\"0.5\" stroke=\"gray\" d=\"M 202 129 34 189\"/>\n",
       "<path stroke-width=\"0.5\" stroke=\"gray\" d=\"M 202 129 135 236\"/>\n",
       "<path stroke-width=\"0.5\" stroke=\"gray\" d=\"M 202 129 347 58\"/>\n",
       "<path stroke-width=\"0.5\" stroke=\"gray\" d=\"M 366 322 508 250\"/>\n",
       "<path stroke-width=\"0.5\" stroke=\"gray\" d=\"M 366 322 530 282\"/>\n",
       "<path stroke-width=\"0.5\" stroke=\"gray\" d=\"M 366 322 307 182\"/>\n",
       "<path stroke-width=\"0.5\" stroke=\"gray\" d=\"M 366 322 435 404\"/>\n",
       "<path stroke-width=\"0.5\" stroke=\"gray\" d=\"M 443 350 569 454\"/>\n",
       "<path stroke-width=\"0.5\" stroke=\"gray\" d=\"M 320 343 210 254\"/>\n",
       "<path stroke-width=\"0.5\" stroke=\"gray\" d=\"M 142 143 210 254\"/>\n",
       "<path stroke-width=\"0.5\" stroke=\"gray\" d=\"M 310 156 202 129\"/>\n",
       "<path stroke-width=\"0.5\" stroke=\"gray\" d=\"M 128 199 202 129\"/>\n",
       "<path stroke-width=\"0.5\" stroke=\"gray\" d=\"M 504 309 366 322\"/>\n",
       "<path stroke-width=\"0.5\" stroke=\"gray\" d=\"M 720 390 613 345\"/>\n",
       "<path stroke-width=\"0.5\" stroke=\"gray\" d=\"M 443 350 210 254\"/>\n",
       "<path stroke-width=\"0.5\" stroke=\"gray\" d=\"M 190 351 210 254\"/>\n",
       "<path stroke-width=\"0.5\" stroke=\"gray\" d=\"M 210 254 308 140\"/>\n",
       "<path stroke-width=\"0.5\" stroke=\"gray\" d=\"M 210 254 384 215\"/>\n",
       "<path stroke-width=\"0.5\" stroke=\"gray\" d=\"M 210 254 24 252\"/>\n",
       "<path stroke-width=\"0.5\" stroke=\"gray\" d=\"M 210 254 58 237\"/>\n",
       "<path stroke-width=\"0.5\" stroke=\"gray\" d=\"M 210 254 55 193\"/>\n",
       "<path stroke-width=\"0.5\" stroke=\"gray\" d=\"M 210 254 357 200\"/>\n",
       "<path stroke-width=\"0.5\" stroke=\"gray\" d=\"M 210 254 443 350\"/>\n",
       "<path stroke-width=\"0.5\" stroke=\"gray\" d=\"M 210 254 363 241\"/>\n",
       "<path stroke-width=\"0.5\" stroke=\"gray\" d=\"M 443 350 613 345\"/>\n",
       "<path stroke-width=\"0.5\" stroke=\"gray\" d=\"M 508 250 366 322\"/>\n",
       "<path stroke-width=\"0.5\" stroke=\"gray\" d=\"M 347 58 202 129\"/>\n",
       "<path stroke-width=\"0.5\" stroke=\"gray\" d=\"M 216 242 366 322\"/>\n",
       "<path stroke-width=\"0.5\" stroke=\"gray\" d=\"M 308 140 210 254\"/>\n",
       "<path stroke-width=\"0.5\" stroke=\"gray\" d=\"M 435 404 366 322\"/>\n",
       "<path stroke-width=\"0.5\" stroke=\"gray\" d=\"M 613 345 443 350\"/>\n",
       "<path stroke-width=\"0.5\" stroke=\"gray\" d=\"M 613 345 720 390\"/>\n",
       "<path stroke-width=\"0.5\" stroke=\"gray\" d=\"M 613 345 539 442\"/>\n",
       "<path stroke-width=\"0.5\" stroke=\"gray\" d=\"M 613 345 706 283\"/>\n",
       "<path stroke-width=\"0.5\" stroke=\"gray\" d=\"M 613 345 630 241\"/>\n",
       "<path stroke-width=\"0.5\" stroke=\"gray\" d=\"M 307 182 366 322\"/>\n",
       "<path stroke-width=\"0.5\" stroke=\"gray\" d=\"M 530 282 366 322\"/>\n",
       "<path stroke-width=\"0.5\" stroke=\"gray\" d=\"M 34 189 202 129\"/>\n",
       "<path stroke-width=\"0.5\" stroke=\"gray\" d=\"M 384 215 210 254\"/>\n",
       "<path stroke-width=\"0.5\" stroke=\"gray\" d=\"M 24 252 210 254\"/>\n",
       "<path stroke-width=\"0.5\" stroke=\"gray\" d=\"M 58 237 210 254\"/>\n",
       "<path stroke-width=\"0.5\" stroke=\"gray\" d=\"M 135 236 202 129\"/>\n",
       "<path stroke-width=\"0.5\" stroke=\"gray\" d=\"M 55 193 210 254\"/>\n",
       "<path stroke-width=\"0.5\" stroke=\"gray\" d=\"M 357 200 210 254\"/>\n",
       "<path stroke-width=\"0.5\" stroke=\"gray\" d=\"M 210 254 320 343\"/>\n",
       "<path stroke-width=\"0.5\" stroke=\"gray\" d=\"M 223 262 202 129\"/>\n",
       "<path stroke-width=\"0.5\" stroke=\"gray\" d=\"M 210 254 142 143\"/>\n",
       "<path stroke-width=\"0.5\" stroke=\"gray\" d=\"M 210 254 280 358\"/>\n",
       "<path stroke-width=\"0.5\" stroke=\"gray\" d=\"M 364 418 366 322\"/>\n",
       "<path stroke-width=\"0.5\" stroke=\"gray\" d=\"M 41 91 202 129\"/>\n",
       "<path stroke-width=\"0.5\" stroke=\"gray\" d=\"M 60 135 202 129\"/>\n",
       "<path stroke-width=\"0.5\" stroke=\"gray\" d=\"M 280 358 210 254\"/>\n",
       "<path stroke-width=\"0.5\" stroke=\"gray\" d=\"M 63 283 210 254\"/>\n",
       "<path stroke-width=\"0.5\" stroke=\"gray\" d=\"M 40 316 210 254\"/>\n",
       "<path stroke-width=\"0.5\" stroke=\"gray\" d=\"M 569 454 443 350\"/>\n",
       "<path stroke-width=\"0.5\" stroke=\"gray\" d=\"M 210 254 247 270\"/>\n",
       "<path stroke-width=\"0.5\" stroke=\"gray\" d=\"M 569 454 656 520\"/>\n",
       "<path stroke-width=\"0.5\" stroke=\"gray\" d=\"M 280 331 210 254\"/>\n",
       "<path stroke-width=\"0.5\" stroke=\"gray\" d=\"M 103 359 210 254\"/>\n",
       "<path stroke-width=\"0.5\" stroke=\"gray\" d=\"M 225 412 366 322\"/>\n",
       "<path stroke-width=\"0.5\" stroke=\"gray\" d=\"M 248 245 366 322\"/>\n",
       "<path stroke-width=\"0.5\" stroke=\"gray\" d=\"M 343 440 366 322\"/>\n",
       "<path stroke-width=\"0.5\" stroke=\"gray\" d=\"M 187 342 366 322\"/>\n",
       "<path stroke-width=\"0.5\" stroke=\"gray\" d=\"M 366 322 216 242\"/>\n",
       "<path stroke-width=\"0.5\" stroke=\"gray\" d=\"M 539 442 613 345\"/>\n",
       "<path stroke-width=\"0.5\" stroke=\"gray\" d=\"M 210 254 111 166\"/>\n",
       "<path stroke-width=\"0.5\" stroke=\"gray\" d=\"M 210 254 95 210\"/>\n",
       "<path stroke-width=\"0.5\" stroke=\"gray\" d=\"M 210 254 170 161\"/>\n",
       "<path stroke-width=\"0.5\" stroke=\"gray\" d=\"M 210 254 63 283\"/>\n",
       "<path stroke-width=\"0.5\" stroke=\"gray\" d=\"M 210 254 40 316\"/>\n",
       "<path stroke-width=\"0.5\" stroke=\"gray\" d=\"M 210 254 280 331\"/>\n",
       "<path stroke-width=\"0.5\" stroke=\"gray\" d=\"M 210 254 103 359\"/>\n",
       "<path stroke-width=\"0.5\" stroke=\"gray\" d=\"M 210 254 91 320\"/>\n",
       "<path stroke-width=\"0.5\" stroke=\"gray\" d=\"M 210 254 348 267\"/>\n",
       "<path stroke-width=\"0.5\" stroke=\"gray\" d=\"M 210 254 385 280\"/>\n",
       "<path stroke-width=\"0.5\" stroke=\"gray\" d=\"M 210 254 244 161\"/>\n",
       "<path stroke-width=\"0.5\" stroke=\"gray\" d=\"M 210 254 322 197\"/>\n",
       "<path stroke-width=\"0.5\" stroke=\"gray\" d=\"M 210 254 398 248\"/>\n",
       "<path stroke-width=\"0.5\" stroke=\"gray\" d=\"M 210 254 269 136\"/>\n",
       "<path stroke-width=\"0.5\" stroke=\"gray\" d=\"M 210 254 20 280\"/>\n",
       "<path stroke-width=\"0.5\" stroke=\"gray\" d=\"M 210 254 257 205\"/>\n",
       "<path stroke-width=\"0.5\" stroke=\"gray\" d=\"M 210 254 78 340\"/>\n",
       "<path stroke-width=\"0.5\" stroke=\"gray\" d=\"M 210 254 103 292\"/>\n",
       "<path stroke-width=\"0.5\" stroke=\"gray\" d=\"M 210 254 339 296\"/>\n",
       "<path stroke-width=\"0.5\" stroke=\"gray\" d=\"M 210 254 90 152\"/>\n",
       "<path stroke-width=\"0.5\" stroke=\"gray\" d=\"M 210 254 190 351\"/>\n",
       "<path stroke-width=\"0.5\" stroke=\"gray\" d=\"M 258 51 202 129\"/>\n",
       "<circle cx=\"363\" cy=\"241\" r=\"5.0\" style=\"fill:rgb(58, 76, 192);stroke:black;stroke-width:1.0\"/>\n",
       "<circle cx=\"216\" cy=\"242\" r=\"5.0\" style=\"fill:rgb(58, 76, 192);stroke:black;stroke-width:1.0\"/>\n",
       "<circle cx=\"308\" cy=\"140\" r=\"5.0\" style=\"fill:rgb(58, 76, 192);stroke:black;stroke-width:1.0\"/>\n",
       "<circle cx=\"435\" cy=\"404\" r=\"5.0\" style=\"fill:rgb(58, 76, 192);stroke:black;stroke-width:1.0\"/>\n",
       "<circle cx=\"613\" cy=\"345\" r=\"5.0\" style=\"fill:rgb(99, 131, 234);stroke:black;stroke-width:1.0\"/>\n",
       "<circle cx=\"307\" cy=\"182\" r=\"5.0\" style=\"fill:rgb(58, 76, 192);stroke:black;stroke-width:1.0\"/>\n",
       "<circle cx=\"530\" cy=\"282\" r=\"5.0\" style=\"fill:rgb(58, 76, 192);stroke:black;stroke-width:1.0\"/>\n",
       "<circle cx=\"34\" cy=\"189\" r=\"5.0\" style=\"fill:rgb(58, 76, 192);stroke:black;stroke-width:1.0\"/>\n",
       "<circle cx=\"384\" cy=\"215\" r=\"5.0\" style=\"fill:rgb(58, 76, 192);stroke:black;stroke-width:1.0\"/>\n",
       "<circle cx=\"24\" cy=\"252\" r=\"5.0\" style=\"fill:rgb(58, 76, 192);stroke:black;stroke-width:1.0\"/>\n",
       "<circle cx=\"58\" cy=\"237\" r=\"5.0\" style=\"fill:rgb(58, 76, 192);stroke:black;stroke-width:1.0\"/>\n",
       "<circle cx=\"135\" cy=\"236\" r=\"5.0\" style=\"fill:rgb(58, 76, 192);stroke:black;stroke-width:1.0\"/>\n",
       "<circle cx=\"55\" cy=\"193\" r=\"5.0\" style=\"fill:rgb(58, 76, 192);stroke:black;stroke-width:1.0\"/>\n",
       "<circle cx=\"357\" cy=\"200\" r=\"5.0\" style=\"fill:rgb(58, 76, 192);stroke:black;stroke-width:1.0\"/>\n",
       "<circle cx=\"347\" cy=\"58\" r=\"5.0\" style=\"fill:rgb(58, 76, 192);stroke:black;stroke-width:1.0\"/>\n",
       "<circle cx=\"508\" cy=\"250\" r=\"5.0\" style=\"fill:rgb(58, 76, 192);stroke:black;stroke-width:1.0\"/>\n",
       "<circle cx=\"443\" cy=\"350\" r=\"5.0\" style=\"fill:rgb(82, 110, 220);stroke:black;stroke-width:1.0\"/>\n",
       "<circle cx=\"320\" cy=\"343\" r=\"5.0\" style=\"fill:rgb(58, 76, 192);stroke:black;stroke-width:1.0\"/>\n",
       "<circle cx=\"142\" cy=\"143\" r=\"5.0\" style=\"fill:rgb(58, 76, 192);stroke:black;stroke-width:1.0\"/>\n",
       "<circle cx=\"310\" cy=\"156\" r=\"5.0\" style=\"fill:rgb(58, 76, 192);stroke:black;stroke-width:1.0\"/>\n",
       "<circle cx=\"128\" cy=\"199\" r=\"5.0\" style=\"fill:rgb(58, 76, 192);stroke:black;stroke-width:1.0\"/>\n",
       "<circle cx=\"504\" cy=\"309\" r=\"5.0\" style=\"fill:rgb(58, 76, 192);stroke:black;stroke-width:1.0\"/>\n",
       "<circle cx=\"720\" cy=\"390\" r=\"5.0\" style=\"fill:rgb(58, 76, 192);stroke:black;stroke-width:1.0\"/>\n",
       "<circle cx=\"190\" cy=\"351\" r=\"5.0\" style=\"fill:rgb(58, 76, 192);stroke:black;stroke-width:1.0\"/>\n",
       "<circle cx=\"210\" cy=\"254\" r=\"5.0\" style=\"fill:rgb(179, 3, 38);stroke:black;stroke-width:1.0\"/>\n",
       "<circle cx=\"364\" cy=\"418\" r=\"5.0\" style=\"fill:rgb(58, 76, 192);stroke:black;stroke-width:1.0\"/>\n",
       "<circle cx=\"41\" cy=\"91\" r=\"5.0\" style=\"fill:rgb(58, 76, 192);stroke:black;stroke-width:1.0\"/>\n",
       "<circle cx=\"60\" cy=\"135\" r=\"5.0\" style=\"fill:rgb(58, 76, 192);stroke:black;stroke-width:1.0\"/>\n",
       "<circle cx=\"280\" cy=\"358\" r=\"5.0\" style=\"fill:rgb(58, 76, 192);stroke:black;stroke-width:1.0\"/>\n",
       "<circle cx=\"63\" cy=\"283\" r=\"5.0\" style=\"fill:rgb(58, 76, 192);stroke:black;stroke-width:1.0\"/>\n",
       "<circle cx=\"40\" cy=\"316\" r=\"5.0\" style=\"fill:rgb(58, 76, 192);stroke:black;stroke-width:1.0\"/>\n",
       "<circle cx=\"569\" cy=\"454\" r=\"5.0\" style=\"fill:rgb(64, 84, 199);stroke:black;stroke-width:1.0\"/>\n",
       "<circle cx=\"539\" cy=\"442\" r=\"5.0\" style=\"fill:rgb(58, 76, 192);stroke:black;stroke-width:1.0\"/>\n",
       "<circle cx=\"280\" cy=\"331\" r=\"5.0\" style=\"fill:rgb(58, 76, 192);stroke:black;stroke-width:1.0\"/>\n",
       "<circle cx=\"103\" cy=\"359\" r=\"5.0\" style=\"fill:rgb(58, 76, 192);stroke:black;stroke-width:1.0\"/>\n",
       "<circle cx=\"225\" cy=\"412\" r=\"5.0\" style=\"fill:rgb(58, 76, 192);stroke:black;stroke-width:1.0\"/>\n",
       "<circle cx=\"248\" cy=\"245\" r=\"5.0\" style=\"fill:rgb(58, 76, 192);stroke:black;stroke-width:1.0\"/>\n",
       "<circle cx=\"343\" cy=\"440\" r=\"5.0\" style=\"fill:rgb(58, 76, 192);stroke:black;stroke-width:1.0\"/>\n",
       "<circle cx=\"187\" cy=\"342\" r=\"5.0\" style=\"fill:rgb(58, 76, 192);stroke:black;stroke-width:1.0\"/>\n",
       "<circle cx=\"366\" cy=\"322\" r=\"5.0\" style=\"fill:rgb(246, 183, 156);stroke:black;stroke-width:1.0\"/>\n",
       "<circle cx=\"706\" cy=\"283\" r=\"5.0\" style=\"fill:rgb(58, 76, 192);stroke:black;stroke-width:1.0\"/>\n",
       "<circle cx=\"427\" cy=\"193\" r=\"5.0\" style=\"fill:rgb(58, 76, 192);stroke:black;stroke-width:1.0\"/>\n",
       "<circle cx=\"266\" cy=\"422\" r=\"5.0\" style=\"fill:rgb(58, 76, 192);stroke:black;stroke-width:1.0\"/>\n",
       "<circle cx=\"525\" cy=\"329\" r=\"5.0\" style=\"fill:rgb(58, 76, 192);stroke:black;stroke-width:1.0\"/>\n",
       "<circle cx=\"630\" cy=\"241\" r=\"5.0\" style=\"fill:rgb(58, 76, 192);stroke:black;stroke-width:1.0\"/>\n",
       "<circle cx=\"91\" cy=\"320\" r=\"5.0\" style=\"fill:rgb(58, 76, 192);stroke:black;stroke-width:1.0\"/>\n",
       "<circle cx=\"348\" cy=\"267\" r=\"5.0\" style=\"fill:rgb(58, 76, 192);stroke:black;stroke-width:1.0\"/>\n",
       "<circle cx=\"159\" cy=\"20\" r=\"5.0\" style=\"fill:rgb(58, 76, 192);stroke:black;stroke-width:1.0\"/>\n",
       "<circle cx=\"385\" cy=\"280\" r=\"5.0\" style=\"fill:rgb(58, 76, 192);stroke:black;stroke-width:1.0\"/>\n",
       "<circle cx=\"26\" cy=\"126\" r=\"5.0\" style=\"fill:rgb(58, 76, 192);stroke:black;stroke-width:1.0\"/>\n",
       "<circle cx=\"318\" cy=\"412\" r=\"5.0\" style=\"fill:rgb(58, 76, 192);stroke:black;stroke-width:1.0\"/>\n",
       "<circle cx=\"389\" cy=\"94\" r=\"5.0\" style=\"fill:rgb(58, 76, 192);stroke:black;stroke-width:1.0\"/>\n",
       "<circle cx=\"232\" cy=\"20\" r=\"5.0\" style=\"fill:rgb(58, 76, 192);stroke:black;stroke-width:1.0\"/>\n",
       "<circle cx=\"463\" cy=\"207\" r=\"5.0\" style=\"fill:rgb(58, 76, 192);stroke:black;stroke-width:1.0\"/>\n",
       "<circle cx=\"244\" cy=\"161\" r=\"5.0\" style=\"fill:rgb(58, 76, 192);stroke:black;stroke-width:1.0\"/>\n",
       "<circle cx=\"161\" cy=\"41\" r=\"5.0\" style=\"fill:rgb(58, 76, 192);stroke:black;stroke-width:1.0\"/>\n",
       "<circle cx=\"322\" cy=\"197\" r=\"5.0\" style=\"fill:rgb(58, 76, 192);stroke:black;stroke-width:1.0\"/>\n",
       "<circle cx=\"470\" cy=\"369\" r=\"5.0\" style=\"fill:rgb(58, 76, 192);stroke:black;stroke-width:1.0\"/>\n",
       "<circle cx=\"179\" cy=\"234\" r=\"5.0\" style=\"fill:rgb(58, 76, 192);stroke:black;stroke-width:1.0\"/>\n",
       "<circle cx=\"414\" cy=\"428\" r=\"5.0\" style=\"fill:rgb(58, 76, 192);stroke:black;stroke-width:1.0\"/>\n",
       "<circle cx=\"656\" cy=\"520\" r=\"5.0\" style=\"fill:rgb(58, 76, 192);stroke:black;stroke-width:1.0\"/>\n",
       "<circle cx=\"398\" cy=\"248\" r=\"5.0\" style=\"fill:rgb(58, 76, 192);stroke:black;stroke-width:1.0\"/>\n",
       "<circle cx=\"269\" cy=\"136\" r=\"5.0\" style=\"fill:rgb(58, 76, 192);stroke:black;stroke-width:1.0\"/>\n",
       "<circle cx=\"20\" cy=\"280\" r=\"5.0\" style=\"fill:rgb(58, 76, 192);stroke:black;stroke-width:1.0\"/>\n",
       "<circle cx=\"257\" cy=\"205\" r=\"5.0\" style=\"fill:rgb(70, 93, 207);stroke:black;stroke-width:1.0\"/>\n",
       "<circle cx=\"78\" cy=\"340\" r=\"5.0\" style=\"fill:rgb(58, 76, 192);stroke:black;stroke-width:1.0\"/>\n",
       "<circle cx=\"103\" cy=\"292\" r=\"5.0\" style=\"fill:rgb(58, 76, 192);stroke:black;stroke-width:1.0\"/>\n",
       "<circle cx=\"339\" cy=\"296\" r=\"5.0\" style=\"fill:rgb(70, 93, 207);stroke:black;stroke-width:1.0\"/>\n",
       "<circle cx=\"348\" cy=\"110\" r=\"5.0\" style=\"fill:rgb(58, 76, 192);stroke:black;stroke-width:1.0\"/>\n",
       "<circle cx=\"90\" cy=\"152\" r=\"5.0\" style=\"fill:rgb(58, 76, 192);stroke:black;stroke-width:1.0\"/>\n",
       "<circle cx=\"226\" cy=\"389\" r=\"5.0\" style=\"fill:rgb(58, 76, 192);stroke:black;stroke-width:1.0\"/>\n",
       "<circle cx=\"314\" cy=\"37\" r=\"5.0\" style=\"fill:rgb(58, 76, 192);stroke:black;stroke-width:1.0\"/>\n",
       "<circle cx=\"170\" cy=\"161\" r=\"5.0\" style=\"fill:rgb(58, 76, 192);stroke:black;stroke-width:1.0\"/>\n",
       "<circle cx=\"293\" cy=\"213\" r=\"5.0\" style=\"fill:rgb(58, 76, 192);stroke:black;stroke-width:1.0\"/>\n",
       "<circle cx=\"95\" cy=\"210\" r=\"5.0\" style=\"fill:rgb(58, 76, 192);stroke:black;stroke-width:1.0\"/>\n",
       "<circle cx=\"202\" cy=\"129\" r=\"5.0\" style=\"fill:rgb(237, 207, 192);stroke:black;stroke-width:1.0\"/>\n",
       "<circle cx=\"111\" cy=\"166\" r=\"5.0\" style=\"fill:rgb(58, 76, 192);stroke:black;stroke-width:1.0\"/>\n",
       "<circle cx=\"247\" cy=\"270\" r=\"5.0\" style=\"fill:rgb(58, 76, 192);stroke:black;stroke-width:1.0\"/>\n",
       "<circle cx=\"274\" cy=\"228\" r=\"5.0\" style=\"fill:rgb(58, 76, 192);stroke:black;stroke-width:1.0\"/>\n",
       "<circle cx=\"488\" cy=\"388\" r=\"5.0\" style=\"fill:rgb(58, 76, 192);stroke:black;stroke-width:1.0\"/>\n",
       "<circle cx=\"223\" cy=\"262\" r=\"5.0\" style=\"fill:rgb(58, 76, 192);stroke:black;stroke-width:1.0\"/>\n",
       "<circle cx=\"258\" cy=\"51\" r=\"5.0\" style=\"fill:rgb(58, 76, 192);stroke:black;stroke-width:1.0\"/>\n",
       "<text text-anchor=\"start\" x=\"371\" y=\"241\" font-size=\"10\">Robyn Sanderson</text><text text-anchor=\"start\" x=\"224\" y=\"242\" font-size=\"10\">Kei Szeto</text><text text-anchor=\"start\" x=\"316\" y=\"140\" font-size=\"10\">Elena Dongia</text><text text-anchor=\"start\" x=\"443\" y=\"404\" font-size=\"10\">Nicolas Flagey</text><text text-anchor=\"start\" x=\"621\" y=\"345\" font-size=\"10\">Neural ODEs as a discovery tool to characterize the structure of the hot galactic wind of M82</text><text text-anchor=\"start\" x=\"315\" y=\"182\" font-size=\"10\">Aaron Robotham</text><text text-anchor=\"start\" x=\"538\" y=\"282\" font-size=\"10\">Derrick Salmon</text><text text-anchor=\"start\" x=\"42\" y=\"189\" font-size=\"10\">Arthur Carlson</text><text text-anchor=\"start\" x=\"392\" y=\"215\" font-size=\"10\">Melissa Ness</text><text text-anchor=\"start\" x=\"32\" y=\"252\" font-size=\"10\">Szabolcs Meszaros</text><text text-anchor=\"start\" x=\"66\" y=\"237\" font-size=\"10\">Sarbani Basu</text><text text-anchor=\"start\" x=\"143\" y=\"236\" font-size=\"10\">Alexander Reinefeld</text><text text-anchor=\"start\" x=\"63\" y=\"193\" font-size=\"10\">Saskia Hekker</text><text text-anchor=\"start\" x=\"365\" y=\"200\" font-size=\"10\">Marc Pinsonneault</text><text text-anchor=\"start\" x=\"355\" y=\"58\" font-size=\"10\">Iliya Nickelt</text><text text-anchor=\"start\" x=\"516\" y=\"250\" font-size=\"10\">Mary Beth Laychak</text><text text-anchor=\"start\" x=\"451\" y=\"350\" font-size=\"10\">Yuan-Sen Ting</text><text text-anchor=\"start\" x=\"328\" y=\"343\" font-size=\"10\">Peter Frinchaboy</text><text text-anchor=\"start\" x=\"150\" y=\"143\" font-size=\"10\">Jonathan Bird</text><text text-anchor=\"start\" x=\"318\" y=\"156\" font-size=\"10\">Frank Breitling</text><text text-anchor=\"start\" x=\"136\" y=\"199\" font-size=\"10\">Thomas Bruesemeister</text><text text-anchor=\"start\" x=\"512\" y=\"309\" font-size=\"10\">Else Starkenburg</text><text text-anchor=\"start\" x=\"728\" y=\"390\" font-size=\"10\">Laura A. Lopez</text><text text-anchor=\"start\" x=\"198\" y=\"351\" font-size=\"10\">Andres Meza</text><text text-anchor=\"start\" x=\"218\" y=\"254\" font-size=\"10\">In Pursuit of Galactic Archaeology: Astro2020 Science White Paper</text><text text-anchor=\"start\" x=\"372\" y=\"418\" font-size=\"10\">Carine Babusiaux</text><text text-anchor=\"start\" x=\"49\" y=\"91\" font-size=\"10\">Hans-Martin Adorf</text><text text-anchor=\"start\" x=\"68\" y=\"135\" font-size=\"10\">Joachim Wambsganss</text><text text-anchor=\"start\" x=\"288\" y=\"358\" font-size=\"10\">Katia Cunha</text><text text-anchor=\"start\" x=\"71\" y=\"283\" font-size=\"10\">Juna Kollmeier</text><text text-anchor=\"start\" x=\"48\" y=\"316\" font-size=\"10\">Kathryn Johnston</text><text text-anchor=\"start\" x=\"577\" y=\"454\" font-size=\"10\">Deep Potential: Recovering the gravitational potential from a snapshot of phase space</text><text text-anchor=\"start\" x=\"547\" y=\"442\" font-size=\"10\">Dustin Nguyen</text><text text-anchor=\"start\" x=\"288\" y=\"331\" font-size=\"10\">Anthony Brown</text><text text-anchor=\"start\" x=\"111\" y=\"359\" font-size=\"10\">David Nataf</text><text text-anchor=\"start\" x=\"233\" y=\"412\" font-size=\"10\">Simon Driver</text><text text-anchor=\"start\" x=\"256\" y=\"245\" font-size=\"10\">Michael Balogh</text><text text-anchor=\"start\" x=\"351\" y=\"440\" font-size=\"10\">Steven E. Bauman</text><text text-anchor=\"start\" x=\"195\" y=\"342\" font-size=\"10\">Matthew Walker</text><text text-anchor=\"start\" x=\"374\" y=\"322\" font-size=\"10\">A concise overview of the Maunakea Spectroscopic Explorer</text><text text-anchor=\"start\" x=\"714\" y=\"283\" font-size=\"10\">Todd A. Thompson</text><text text-anchor=\"start\" x=\"435\" y=\"193\" font-size=\"10\">Sidik Isani</text><text text-anchor=\"start\" x=\"274\" y=\"422\" font-size=\"10\">Tom Vermeulen</text><text text-anchor=\"start\" x=\"533\" y=\"329\" font-size=\"10\">Alan W. McConnachie</text><text text-anchor=\"start\" x=\"638\" y=\"241\" font-size=\"10\">Sebastian Lopez</text><text text-anchor=\"start\" x=\"99\" y=\"320\" font-size=\"10\">Victor Silva Aguirre</text><text text-anchor=\"start\" x=\"356\" y=\"267\" font-size=\"10\">Keivan Stassun</text><text text-anchor=\"start\" x=\"167\" y=\"20\" font-size=\"10\">Mikael Hoegqvist</text><text text-anchor=\"start\" x=\"393\" y=\"280\" font-size=\"10\">Adrian M. Price-Whelan</text><text text-anchor=\"start\" x=\"34\" y=\"126\" font-size=\"10\">Thomas Radke</text><text text-anchor=\"start\" x=\"326\" y=\"412\" font-size=\"10\">Elisabetta Caffau</text><text text-anchor=\"start\" x=\"397\" y=\"94\" font-size=\"10\">Torsten Ensslin</text><text text-anchor=\"start\" x=\"240\" y=\"20\" font-size=\"10\">Rainer Spurzem</text><text text-anchor=\"start\" x=\"471\" y=\"207\" font-size=\"10\">Kanoa Withington</text><text text-anchor=\"start\" x=\"252\" y=\"161\" font-size=\"10\">Borja Anguiano</text><text text-anchor=\"start\" x=\"169\" y=\"41\" font-size=\"10\">Tobias Scholl</text><text text-anchor=\"start\" x=\"330\" y=\"197\" font-size=\"10\">Sven Buder</text><text text-anchor=\"start\" x=\"478\" y=\"369\" font-size=\"10\">Doug Simons</text><text text-anchor=\"start\" x=\"187\" y=\"234\" font-size=\"10\">Wolfgang Voges</text><text text-anchor=\"start\" x=\"422\" y=\"428\" font-size=\"10\">Rick Murowinski</text><text text-anchor=\"start\" x=\"664\" y=\"520\" font-size=\"10\">Gregory M. Green</text><text text-anchor=\"start\" x=\"406\" y=\"248\" font-size=\"10\">Sara Lucatello</text><text text-anchor=\"start\" x=\"277\" y=\"136\" font-size=\"10\">Jennifer Johnson</text><text text-anchor=\"start\" x=\"28\" y=\"280\" font-size=\"10\">Jason Hunt</text><text text-anchor=\"start\" x=\"265\" y=\"205\" font-size=\"10\">Matthias Steinmetz</text><text text-anchor=\"start\" x=\"86\" y=\"340\" font-size=\"10\">Hans-Walter Rix</text><text text-anchor=\"start\" x=\"111\" y=\"292\" font-size=\"10\">Xiangxiang Xue</text><text text-anchor=\"start\" x=\"347\" y=\"296\" font-size=\"10\">Kim Venn</text><text text-anchor=\"start\" x=\"356\" y=\"110\" font-size=\"10\">Harry Enke</text><text text-anchor=\"start\" x=\"98\" y=\"152\" font-size=\"10\">Ivan Minchev</text><text text-anchor=\"start\" x=\"234\" y=\"389\" font-size=\"10\">Shan Mignot</text><text text-anchor=\"start\" x=\"322\" y=\"37\" font-size=\"10\">Alexander Beck-Ratzka</text><text text-anchor=\"start\" x=\"178\" y=\"161\" font-size=\"10\">Gail Zasowski</text><text text-anchor=\"start\" x=\"301\" y=\"213\" font-size=\"10\">Kevin Ho</text><text text-anchor=\"start\" x=\"103\" y=\"210\" font-size=\"10\">Jennifer Sobeck</text><text text-anchor=\"start\" x=\"210\" y=\"129\" font-size=\"10\">AstroGrid-D: Grid Technology for Astronomical Science</text><text text-anchor=\"start\" x=\"119\" y=\"166\" font-size=\"10\">Richard Lane</text><text text-anchor=\"start\" x=\"255\" y=\"270\" font-size=\"10\">Cristina Chiappini</text><text text-anchor=\"start\" x=\"282\" y=\"228\" font-size=\"10\">Steve White</text><text text-anchor=\"start\" x=\"496\" y=\"388\" font-size=\"10\">Pat Côté</text><text text-anchor=\"start\" x=\"231\" y=\"262\" font-size=\"10\">Angelika Reiser</text><text text-anchor=\"start\" x=\"266\" y=\"51\" font-size=\"10\">Juergen Steinacker</text></svg>"
      ],
      "text/plain": [
       "<IPython.core.display.SVG object>"
      ]
     },
     "execution_count": 13,
     "metadata": {},
     "output_type": "execute_result"
    }
   ],
   "source": [
    "G_check = G.subgraph(components[0])\n",
    "draw_graph(G_check, node_size=5, show_names=True)"
   ]
  },
  {
   "cell_type": "code",
   "execution_count": 14,
   "id": "30fad7eb",
   "metadata": {},
   "outputs": [
    {
     "data": {
      "image/svg+xml": [
       "<svg xmlns=\"http://www.w3.org/2000/svg\" width=\"1318.508967506555\" height=\"540\">\n",
       "<path stroke-width=\"0.5\" stroke=\"gray\" d=\"M 235 20 358 261\"/>\n",
       "<path stroke-width=\"0.5\" stroke=\"gray\" d=\"M 334 520 358 261\"/>\n",
       "<path stroke-width=\"0.5\" stroke=\"gray\" d=\"M 543 40 358 261\"/>\n",
       "<path stroke-width=\"0.5\" stroke=\"gray\" d=\"M 20 182 358 261\"/>\n",
       "<path stroke-width=\"0.5\" stroke=\"gray\" d=\"M 630 437 358 261\"/>\n",
       "<path stroke-width=\"0.5\" stroke=\"gray\" d=\"M 358 261 235 20\"/>\n",
       "<path stroke-width=\"0.5\" stroke=\"gray\" d=\"M 358 261 334 520\"/>\n",
       "<path stroke-width=\"0.5\" stroke=\"gray\" d=\"M 358 261 543 40\"/>\n",
       "<path stroke-width=\"0.5\" stroke=\"gray\" d=\"M 358 261 20 182\"/>\n",
       "<path stroke-width=\"0.5\" stroke=\"gray\" d=\"M 358 261 630 437\"/>\n",
       "<path stroke-width=\"0.5\" stroke=\"gray\" d=\"M 358 261 720 224\"/>\n",
       "<path stroke-width=\"0.5\" stroke=\"gray\" d=\"M 358 261 60 406\"/>\n",
       "<path stroke-width=\"0.5\" stroke=\"gray\" d=\"M 720 224 358 261\"/>\n",
       "<path stroke-width=\"0.5\" stroke=\"gray\" d=\"M 60 406 358 261\"/>\n",
       "<circle cx=\"235\" cy=\"20\" r=\"5.0\" style=\"fill:rgb(58, 76, 192);stroke:black;stroke-width:1.0\"/>\n",
       "<circle cx=\"334\" cy=\"520\" r=\"5.0\" style=\"fill:rgb(58, 76, 192);stroke:black;stroke-width:1.0\"/>\n",
       "<circle cx=\"543\" cy=\"40\" r=\"5.0\" style=\"fill:rgb(58, 76, 192);stroke:black;stroke-width:1.0\"/>\n",
       "<circle cx=\"20\" cy=\"182\" r=\"5.0\" style=\"fill:rgb(58, 76, 192);stroke:black;stroke-width:1.0\"/>\n",
       "<circle cx=\"630\" cy=\"437\" r=\"5.0\" style=\"fill:rgb(58, 76, 192);stroke:black;stroke-width:1.0\"/>\n",
       "<circle cx=\"358\" cy=\"261\" r=\"5.0\" style=\"fill:rgb(179, 3, 38);stroke:black;stroke-width:1.0\"/>\n",
       "<circle cx=\"720\" cy=\"224\" r=\"5.0\" style=\"fill:rgb(58, 76, 192);stroke:black;stroke-width:1.0\"/>\n",
       "<circle cx=\"60\" cy=\"406\" r=\"5.0\" style=\"fill:rgb(58, 76, 192);stroke:black;stroke-width:1.0\"/>\n",
       "<text text-anchor=\"start\" x=\"243\" y=\"20\" font-size=\"10\">Christiane Posselt</text><text text-anchor=\"start\" x=\"342\" y=\"520\" font-size=\"10\">Mehmet Yigitsoy</text><text text-anchor=\"start\" x=\"551\" y=\"40\" font-size=\"10\">Christoph Kolbitsch</text><text text-anchor=\"start\" x=\"28\" y=\"182\" font-size=\"10\">Mehmet Yigit Avci</text><text text-anchor=\"start\" x=\"638\" y=\"437\" font-size=\"10\">Tobias Schäffter</text><text text-anchor=\"start\" x=\"366\" y=\"261\" font-size=\"10\">Simulation of acquisition shifts in T2 Flair MR images to stress test AI segmentation networks</text><text text-anchor=\"start\" x=\"728\" y=\"224\" font-size=\"10\">Stefanie Remmele</text><text text-anchor=\"start\" x=\"68\" y=\"406\" font-size=\"10\">Patrick Schünke</text></svg>"
      ],
      "text/plain": [
       "<IPython.core.display.SVG object>"
      ]
     },
     "execution_count": 14,
     "metadata": {},
     "output_type": "execute_result"
    }
   ],
   "source": [
    "G_check = G.subgraph(components[2])\n",
    "draw_graph(G_check, node_size=5, show_names=True)"
   ]
  },
  {
   "cell_type": "markdown",
   "id": "d86e56c1",
   "metadata": {},
   "source": [
    "Well, that was easy. That's it. Polars fits right in with Networkx. You can replace your Pandas code with Polars if you prefer. I have no opinion, yet, but am comfortable with Pandas. I will play with Polars. Maybe it speeds up loading a graph. Let's see."
   ]
  },
  {
   "cell_type": "code",
   "execution_count": 15,
   "id": "f1a5fa01",
   "metadata": {},
   "outputs": [
    {
     "data": {
      "text/plain": [
       "polars.dataframe.frame.DataFrame"
      ]
     },
     "execution_count": 15,
     "metadata": {},
     "output_type": "execute_result"
    }
   ],
   "source": [
    "type(edgelist_df)"
   ]
  },
  {
   "cell_type": "code",
   "execution_count": 16,
   "id": "a57dec11",
   "metadata": {},
   "outputs": [
    {
     "data": {
      "text/plain": [
       "pandas.core.frame.DataFrame"
      ]
     },
     "execution_count": 16,
     "metadata": {},
     "output_type": "execute_result"
    }
   ],
   "source": [
    "pandas_edgelist_df = edgelist_df.to_pandas()\n",
    "\n",
    "type(pandas_edgelist_df)"
   ]
  },
  {
   "cell_type": "code",
   "execution_count": 17,
   "id": "d4978160",
   "metadata": {},
   "outputs": [
    {
     "name": "stdout",
     "output_type": "stream",
     "text": [
      "405 ms ± 14.6 ms per loop (mean ± std. dev. of 7 runs, 1 loop each)\n"
     ]
    }
   ],
   "source": [
    "%timeit G = nx.from_pandas_edgelist(edgelist_df, source='title', target='author')"
   ]
  },
  {
   "cell_type": "code",
   "execution_count": 18,
   "id": "0098372d",
   "metadata": {},
   "outputs": [
    {
     "name": "stdout",
     "output_type": "stream",
     "text": [
      "318 ms ± 1.49 ms per loop (mean ± std. dev. of 7 runs, 1 loop each)\n"
     ]
    }
   ],
   "source": [
    "%timeit G = nx.from_pandas_edgelist(pandas_edgelist_df, source='title', target='author')"
   ]
  },
  {
   "cell_type": "markdown",
   "id": "5475ff39",
   "metadata": {},
   "source": [
    "So far, results are:\n",
    "\n",
    "Polars is considerably faster for reading data from files\n",
    "\n",
    "Pandas is a little faster for creating a networkx graph from a dataframe\n",
    "\n",
    "But, how about for doing some NLP lookups?"
   ]
  },
  {
   "cell_type": "code",
   "execution_count": 19,
   "id": "433789ab",
   "metadata": {},
   "outputs": [
    {
     "name": "stdout",
     "output_type": "stream",
     "text": [
      "10.2 ms ± 266 µs per loop (mean ± std. dev. of 7 runs, 100 loops each)\n"
     ]
    }
   ],
   "source": [
    "%timeit edgelist_df['title'].str.contains('network|central') # filter"
   ]
  },
  {
   "cell_type": "code",
   "execution_count": 20,
   "id": "b36613bb",
   "metadata": {},
   "outputs": [
    {
     "name": "stdout",
     "output_type": "stream",
     "text": [
      "212 ms ± 2.79 ms per loop (mean ± std. dev. of 7 runs, 1 loop each)\n"
     ]
    }
   ],
   "source": [
    "%timeit pandas_edgelist_df['title'].str.contains('network|central') # filter"
   ]
  },
  {
   "cell_type": "code",
   "execution_count": 21,
   "id": "299d19f4",
   "metadata": {},
   "outputs": [
    {
     "name": "stdout",
     "output_type": "stream",
     "text": [
      "10.5 ms ± 37.4 µs per loop (mean ± std. dev. of 7 runs, 100 loops each)\n"
     ]
    }
   ],
   "source": [
    "%timeit edgelist_df.filter(pl.col(\"title\").str.contains(\"network|central\")) # show, not just filter"
   ]
  },
  {
   "cell_type": "code",
   "execution_count": 22,
   "id": "359d0ec7",
   "metadata": {},
   "outputs": [
    {
     "data": {
      "text/html": [
       "<div><style>\n",
       ".dataframe > thead > tr,\n",
       ".dataframe > tbody > tr {\n",
       "  text-align: right;\n",
       "  white-space: pre-wrap;\n",
       "}\n",
       "</style>\n",
       "<small>shape: (5, 2)</small><table border=\"1\" class=\"dataframe\"><thead><tr><th>title</th><th>author</th></tr><tr><td>str</td><td>str</td></tr></thead><tbody><tr><td>&quot;Simulation of acquisition shif…</td><td>&quot;Christiane Posselt&quot;</td></tr><tr><td>&quot;Simulation of acquisition shif…</td><td>&quot;Mehmet Yigit Avci&quot;</td></tr><tr><td>&quot;Simulation of acquisition shif…</td><td>&quot;Mehmet Yigitsoy&quot;</td></tr><tr><td>&quot;Simulation of acquisition shif…</td><td>&quot;Patrick Schünke&quot;</td></tr><tr><td>&quot;Simulation of acquisition shif…</td><td>&quot;Christoph Kolbitsch&quot;</td></tr></tbody></table></div>"
      ],
      "text/plain": [
       "shape: (5, 2)\n",
       "┌─────────────────────────────────┬─────────────────────┐\n",
       "│ title                           ┆ author              │\n",
       "│ ---                             ┆ ---                 │\n",
       "│ str                             ┆ str                 │\n",
       "╞═════════════════════════════════╪═════════════════════╡\n",
       "│ Simulation of acquisition shif… ┆ Christiane Posselt  │\n",
       "│ Simulation of acquisition shif… ┆ Mehmet Yigit Avci   │\n",
       "│ Simulation of acquisition shif… ┆ Mehmet Yigitsoy     │\n",
       "│ Simulation of acquisition shif… ┆ Patrick Schünke     │\n",
       "│ Simulation of acquisition shif… ┆ Christoph Kolbitsch │\n",
       "└─────────────────────────────────┴─────────────────────┘"
      ]
     },
     "execution_count": 22,
     "metadata": {},
     "output_type": "execute_result"
    }
   ],
   "source": [
    "edgelist_df.filter(pl.col(\"title\").str.contains(\"network|central\")).head() # showing"
   ]
  },
  {
   "cell_type": "code",
   "execution_count": 23,
   "id": "05110022",
   "metadata": {},
   "outputs": [
    {
     "name": "stdout",
     "output_type": "stream",
     "text": [
      "214 ms ± 1.66 ms per loop (mean ± std. dev. of 7 runs, 1 loop each)\n"
     ]
    }
   ],
   "source": [
    "%timeit pandas_edgelist_df[pandas_edgelist_df['title'].str.contains('network|central')] # showing"
   ]
  },
  {
   "cell_type": "code",
   "execution_count": 24,
   "id": "8b47cc51",
   "metadata": {},
   "outputs": [
    {
     "data": {
      "text/html": [
       "<div>\n",
       "<style scoped>\n",
       "    .dataframe tbody tr th:only-of-type {\n",
       "        vertical-align: middle;\n",
       "    }\n",
       "\n",
       "    .dataframe tbody tr th {\n",
       "        vertical-align: top;\n",
       "    }\n",
       "\n",
       "    .dataframe thead th {\n",
       "        text-align: right;\n",
       "    }\n",
       "</style>\n",
       "<table border=\"1\" class=\"dataframe\">\n",
       "  <thead>\n",
       "    <tr style=\"text-align: right;\">\n",
       "      <th></th>\n",
       "      <th>title</th>\n",
       "      <th>author</th>\n",
       "    </tr>\n",
       "  </thead>\n",
       "  <tbody>\n",
       "    <tr>\n",
       "      <th>14</th>\n",
       "      <td>Simulation of acquisition shifts in T2 Flair M...</td>\n",
       "      <td>Christiane Posselt</td>\n",
       "    </tr>\n",
       "    <tr>\n",
       "      <th>15</th>\n",
       "      <td>Simulation of acquisition shifts in T2 Flair M...</td>\n",
       "      <td>Mehmet Yigit Avci</td>\n",
       "    </tr>\n",
       "    <tr>\n",
       "      <th>16</th>\n",
       "      <td>Simulation of acquisition shifts in T2 Flair M...</td>\n",
       "      <td>Mehmet Yigitsoy</td>\n",
       "    </tr>\n",
       "    <tr>\n",
       "      <th>17</th>\n",
       "      <td>Simulation of acquisition shifts in T2 Flair M...</td>\n",
       "      <td>Patrick Schünke</td>\n",
       "    </tr>\n",
       "    <tr>\n",
       "      <th>18</th>\n",
       "      <td>Simulation of acquisition shifts in T2 Flair M...</td>\n",
       "      <td>Christoph Kolbitsch</td>\n",
       "    </tr>\n",
       "  </tbody>\n",
       "</table>\n",
       "</div>"
      ],
      "text/plain": [
       "                                                title               author\n",
       "14  Simulation of acquisition shifts in T2 Flair M...   Christiane Posselt\n",
       "15  Simulation of acquisition shifts in T2 Flair M...    Mehmet Yigit Avci\n",
       "16  Simulation of acquisition shifts in T2 Flair M...      Mehmet Yigitsoy\n",
       "17  Simulation of acquisition shifts in T2 Flair M...      Patrick Schünke\n",
       "18  Simulation of acquisition shifts in T2 Flair M...  Christoph Kolbitsch"
      ]
     },
     "execution_count": 24,
     "metadata": {},
     "output_type": "execute_result"
    }
   ],
   "source": [
    "pandas_edgelist_df[pandas_edgelist_df['title'].str.contains('network|central')].head()"
   ]
  },
  {
   "cell_type": "code",
   "execution_count": 26,
   "id": "c3b704a8",
   "metadata": {},
   "outputs": [
    {
     "data": {
      "text/plain": [
       "20.38095238095238"
      ]
     },
     "execution_count": 26,
     "metadata": {},
     "output_type": "execute_result"
    }
   ],
   "source": [
    "214 / 10.5"
   ]
  },
  {
   "cell_type": "markdown",
   "id": "b48f90d8",
   "metadata": {},
   "source": [
    "Ok, that's nuts. For doing string lookups, Polars has been consistently more than 20x faster. This is very useful for search and retrieval, and for preprocessing data. That's a good reason to consider using Polars.\n",
    "\n",
    "As Polars was considerably faster at both loading file data and doing text searches in a DataFrame, I think it's reasonable to consider using Polars instead of Pandas. I plan to try things out. I'm not going to switch yet."
   ]
  },
  {
   "cell_type": "code",
   "execution_count": null,
   "id": "3ca5c797",
   "metadata": {},
   "outputs": [],
   "source": []
  },
  {
   "cell_type": "code",
   "execution_count": null,
   "id": "fda1b117",
   "metadata": {},
   "outputs": [],
   "source": []
  }
 ],
 "metadata": {
  "kernelspec": {
   "display_name": "Python 3 (ipykernel)",
   "language": "python",
   "name": "python3"
  },
  "language_info": {
   "codemirror_mode": {
    "name": "ipython",
    "version": 3
   },
   "file_extension": ".py",
   "mimetype": "text/x-python",
   "name": "python",
   "nbconvert_exporter": "python",
   "pygments_lexer": "ipython3",
   "version": "3.11.5"
  }
 },
 "nbformat": 4,
 "nbformat_minor": 5
}
