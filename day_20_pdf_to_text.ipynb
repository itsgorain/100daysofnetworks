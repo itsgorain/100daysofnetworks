{
 "cells": [
  {
   "cell_type": "code",
   "execution_count": 14,
   "id": "2de7ec96",
   "metadata": {},
   "outputs": [],
   "source": [
    "# https://pypdf2.readthedocs.io/en/stable/user/extract-text.html\n",
    "# https://github.com/tqdm/tqdm\n",
    "\n",
    "import PyPDF2\n",
    "from tqdm import tqdm"
   ]
  },
  {
   "cell_type": "code",
   "execution_count": 15,
   "id": "bff91e3d",
   "metadata": {},
   "outputs": [],
   "source": [
    "def get_data(file):\n",
    "    \n",
    "    data = \"\"\n",
    "    \n",
    "    pdf_file = open(file, 'rb')\n",
    "    pdf = PyPDF2.PdfReader(pdf_file)\n",
    "    \n",
    "    pages = len(pdf.pages)\n",
    "\n",
    "    for i in tqdm(range(pages)):\n",
    "\n",
    "        page = pdf.pages[i]\n",
    "        data = data + page.extract_text() + \" \"\n",
    "        \n",
    "    return data"
   ]
  },
  {
   "cell_type": "code",
   "execution_count": 16,
   "id": "d3417e66",
   "metadata": {},
   "outputs": [
    {
     "name": "stderr",
     "output_type": "stream",
     "text": [
      "100%|██████████████████████████████████████████████████████████████████████████████████| 10/10 [00:01<00:00,  7.21it/s]\n"
     ]
    }
   ],
   "source": [
    "file = 'data/pdf/organized_complexity.pdf'\n",
    "\n",
    "data = get_data(file)"
   ]
  },
  {
   "cell_type": "code",
   "execution_count": 17,
   "id": "0b468612",
   "metadata": {},
   "outputs": [
    {
     "name": "stdout",
     "output_type": "stream",
     "text": [
      "Organized Complexity: \n",
      "Is Big History a Big Computatonn\n",
      "Jean-Paul Delahaye\n",
      "Centre de Recherche en Informatique, Signal et\n",
      "Automatique, UMR CNRS 9189\n",
      "Université de Lille 1, \n",
      "jean-paul.delahaye@univ-lille1.fr  Clément Vidal\n",
      "Center Leo Apostel &\n",
      "Evolution Complexity and Cognition,\n",
      "Vrije Universiteit Brussel,\n",
      "contact@clemvidal.com\n",
      "Abstract: The concept of \"logical depth\" introduced by Charles H. Bennett (1988) seems to capture, at\n",
      "least partially, the notion of organized complexity, so central in big history. More precisely, the increase in\n",
      "organized complexity refers here to the wealth, variety and intricacy of structures, and should not be\n",
      "confused with the increase of random complexity, formalized by Kolmogorov (1965). If Bennett is right in\n",
      "proposing to assimilate organized complexity with \"computational content\", then the fundamental cause of\n",
      "the increase of complexity in the universe is the existence of computing mechanisms with memory, and\n",
      "able to cumulatively create and preserve computational contents. In this view, the universe computes,\n",
      "remembers its calculations, and reuses them to conduct further computations. Evolutionary mechanisms are\n",
      "such forms of cumulative computation with memory and we owe them the organized complexity of life.\n",
      "Language,  writing, culture, science and technology can also be analyzed as computation mechanisms\n",
      "generating, preserving and accelerating the increase in organized  complexity. The main unifying theme for\n",
      "big history is the energy rate density, a metric based on thermodynamics. However useful, this metric does\n",
      "not provide much insight into the role that information and computation play in our universe. The concept\n",
      "of “logical depth” provides a new lens to examine the increase of organized complexity. We argue in this\n",
      "paper that organized complexity is a valid and useful way to make sense of big history. Additionally,\n",
      "logical depth has a rigorous formal definition in theoretical  computer science  that hints at a broader\n",
      "resear\n"
     ]
    }
   ],
   "source": [
    "print(data[0:2000])"
   ]
  },
  {
   "cell_type": "code",
   "execution_count": 9,
   "id": "d846d0df",
   "metadata": {},
   "outputs": [
    {
     "data": {
      "text/plain": [
       "31582"
      ]
     },
     "execution_count": 9,
     "metadata": {},
     "output_type": "execute_result"
    }
   ],
   "source": [
    "len(data)"
   ]
  },
  {
   "cell_type": "code",
   "execution_count": 13,
   "id": "a60d8ad1",
   "metadata": {},
   "outputs": [
    {
     "data": {
      "text/plain": [
       "'More precisely, the increase in\\norganized complexity refers here to the wealth, variety and intricacy of structures, and should not be\\nconfused with the increase of random complexity, formalized by Kolmogorov (1965).'"
      ]
     },
     "execution_count": 13,
     "metadata": {},
     "output_type": "execute_result"
    }
   ],
   "source": [
    "# just to show that NLP is now possible\n",
    "\n",
    "from nltk.tokenize import sent_tokenize\n",
    "\n",
    "sentences = sent_tokenize(data)\n",
    "sentences[1]"
   ]
  },
  {
   "cell_type": "code",
   "execution_count": null,
   "id": "4242a889",
   "metadata": {},
   "outputs": [],
   "source": []
  },
  {
   "cell_type": "code",
   "execution_count": null,
   "id": "6d7e98a3",
   "metadata": {},
   "outputs": [],
   "source": []
  }
 ],
 "metadata": {
  "kernelspec": {
   "display_name": "Python 3",
   "language": "python",
   "name": "python3"
  },
  "language_info": {
   "codemirror_mode": {
    "name": "ipython",
    "version": 3
   },
   "file_extension": ".py",
   "mimetype": "text/x-python",
   "name": "python",
   "nbconvert_exporter": "python",
   "pygments_lexer": "ipython3",
   "version": "3.7.16"
  }
 },
 "nbformat": 4,
 "nbformat_minor": 5
}
