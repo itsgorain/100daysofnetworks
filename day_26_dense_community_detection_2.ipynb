{
 "cells": [
  {
   "cell_type": "code",
   "execution_count": 1,
   "id": "7423be59",
   "metadata": {},
   "outputs": [],
   "source": [
    "import networkx as nx\n",
    "import numpy as np\n",
    "import pandas as pd\n",
    "\n",
    "# for the explode statement; convert string to list\n",
    "from ast import literal_eval\n",
    "\n",
    "# for visualization\n",
    "from IPython.display import SVG \n",
    "from sknetwork.visualization import svg_graph \n",
    "from sknetwork.data import Bunch \n",
    "from sknetwork.ranking import PageRank "
   ]
  },
  {
   "cell_type": "code",
   "execution_count": 2,
   "id": "102626ff",
   "metadata": {},
   "outputs": [],
   "source": [
    "def draw_graph(G, show_names=False, node_size=1, font_size=10, edge_width=0.5): \n",
    "\n",
    "    adjacency = nx.to_scipy_sparse_matrix(G, nodelist=None, dtype=None, weight='weight', format='csr') \n",
    "\n",
    "    names = np.array(list(G.nodes())) \n",
    "\n",
    "    graph = Bunch() \n",
    "    graph.adjacency = adjacency \n",
    "    graph.names = np.array(names) \n",
    "\n",
    "    pagerank = PageRank() \n",
    "\n",
    "    scores = pagerank.fit_transform(adjacency) \n",
    "\n",
    "    if show_names: \n",
    "        \n",
    "        image = svg_graph(graph.adjacency, font_size=font_size, node_size=node_size, names=graph.names, width=700, height=500, scores=scores, edge_width=edge_width) \n",
    "\n",
    "    else: \n",
    "\n",
    "        image = svg_graph(graph.adjacency, node_size=node_size, width=700, height=500, scores = scores, edge_width=edge_width) \n",
    "\n",
    "    return SVG(image) "
   ]
  },
  {
   "cell_type": "markdown",
   "id": "77a12aec",
   "metadata": {},
   "source": [
    "# Create Graph using Bipartite Projection on Arxiv Dataset"
   ]
  },
  {
   "cell_type": "code",
   "execution_count": 3,
   "id": "443c3cd4",
   "metadata": {},
   "outputs": [
    {
     "data": {
      "text/html": [
       "<div>\n",
       "<style scoped>\n",
       "    .dataframe tbody tr th:only-of-type {\n",
       "        vertical-align: middle;\n",
       "    }\n",
       "\n",
       "    .dataframe tbody tr th {\n",
       "        vertical-align: top;\n",
       "    }\n",
       "\n",
       "    .dataframe thead th {\n",
       "        text-align: right;\n",
       "    }\n",
       "</style>\n",
       "<table border=\"1\" class=\"dataframe\">\n",
       "  <thead>\n",
       "    <tr style=\"text-align: right;\">\n",
       "      <th></th>\n",
       "      <th>authors</th>\n",
       "      <th>title</th>\n",
       "    </tr>\n",
       "  </thead>\n",
       "  <tbody>\n",
       "    <tr>\n",
       "      <th>0</th>\n",
       "      <td>Dustin Nguyen</td>\n",
       "      <td>Neural ODEs as a discovery tool to characteriz...</td>\n",
       "    </tr>\n",
       "    <tr>\n",
       "      <th>1</th>\n",
       "      <td>Yuan-Sen Ting</td>\n",
       "      <td>Neural ODEs as a discovery tool to characteriz...</td>\n",
       "    </tr>\n",
       "    <tr>\n",
       "      <th>2</th>\n",
       "      <td>Todd A. Thompson</td>\n",
       "      <td>Neural ODEs as a discovery tool to characteriz...</td>\n",
       "    </tr>\n",
       "    <tr>\n",
       "      <th>3</th>\n",
       "      <td>Sebastian Lopez</td>\n",
       "      <td>Neural ODEs as a discovery tool to characteriz...</td>\n",
       "    </tr>\n",
       "    <tr>\n",
       "      <th>4</th>\n",
       "      <td>Laura A. Lopez</td>\n",
       "      <td>Neural ODEs as a discovery tool to characteriz...</td>\n",
       "    </tr>\n",
       "  </tbody>\n",
       "</table>\n",
       "</div>"
      ],
      "text/plain": [
       "            authors                                              title\n",
       "0     Dustin Nguyen  Neural ODEs as a discovery tool to characteriz...\n",
       "1     Yuan-Sen Ting  Neural ODEs as a discovery tool to characteriz...\n",
       "2  Todd A. Thompson  Neural ODEs as a discovery tool to characteriz...\n",
       "3   Sebastian Lopez  Neural ODEs as a discovery tool to characteriz...\n",
       "4    Laura A. Lopez  Neural ODEs as a discovery tool to characteriz..."
      ]
     },
     "execution_count": 3,
     "metadata": {},
     "output_type": "execute_result"
    }
   ],
   "source": [
    "data = r'C:\\Users\\groov\\PythonCode\\100daysofnetworks\\data\\arxiv_network_science_data.csv'\n",
    "\n",
    "df = pd.read_csv(data)\n",
    "\n",
    "df = pd.read_csv(data)\n",
    "df['authors'] = df['authors'].apply(literal_eval)\n",
    "\n",
    "df = df[['authors', 'title']]\n",
    "df = df.explode('authors')\n",
    "df.reset_index(drop=True, inplace=True)\n",
    "\n",
    "# fix the & so that scikit-network stops crashing\n",
    "df['authors'] = df['authors'].str.replace('&', 'and')\n",
    "df['title'] = df['title'].str.replace('&', 'and')\n",
    "\n",
    "df.head()"
   ]
  },
  {
   "cell_type": "code",
   "execution_count": 4,
   "id": "e5726918",
   "metadata": {},
   "outputs": [],
   "source": [
    "from networkx.algorithms import bipartite\n",
    "\n",
    "B = nx.from_pandas_edgelist(df, source='authors', target='title')\n",
    "G = bipartite.projected_graph(B, df['authors'])\n",
    "\n",
    "G = nx.k_core(G, 2) # no isolates or two-node groups"
   ]
  },
  {
   "cell_type": "code",
   "execution_count": 5,
   "id": "fbee3229",
   "metadata": {},
   "outputs": [
    {
     "name": "stdout",
     "output_type": "stream",
     "text": [
      "Graph with 59260 nodes and 302588 edges\n"
     ]
    }
   ],
   "source": [
    "print(nx.info(G))"
   ]
  },
  {
   "cell_type": "markdown",
   "id": "f9952d45",
   "metadata": {},
   "source": [
    "# Community Detection + Community Analysis\n",
    "\n",
    "There's two parts to what I am attempting today.\n",
    "- I need to use community detection to identify communities in the network.\n",
    "- I can then use network science and data science to identify interesting communities\n",
    "\n",
    "By interesting, I mean not stars. I am looking for complex ecosystems. So, I will identify communities, then attempt to detect more complex ecosystems by using triangles and density."
   ]
  },
  {
   "cell_type": "markdown",
   "id": "19d07b3a",
   "metadata": {},
   "source": [
    "## Community Detection"
   ]
  },
  {
   "cell_type": "code",
   "execution_count": 6,
   "id": "46f88f22",
   "metadata": {},
   "outputs": [],
   "source": [
    "import community as community_louvain\n",
    "\n",
    "partition = community_louvain.best_partition(G, resolution=0.01, random_state=1337) # 10 was good for this network"
   ]
  },
  {
   "cell_type": "code",
   "execution_count": 7,
   "id": "9b81c14c",
   "metadata": {},
   "outputs": [
    {
     "data": {
      "text/plain": [
       "51      97\n",
       "27      95\n",
       "657     90\n",
       "432     88\n",
       "454     88\n",
       "242     87\n",
       "630     84\n",
       "509     83\n",
       "5       81\n",
       "258     80\n",
       "459     78\n",
       "426     78\n",
       "301     77\n",
       "1653    76\n",
       "313     74\n",
       "400     73\n",
       "898     73\n",
       "184     73\n",
       "1850    73\n",
       "408     72\n",
       "Name: community, dtype: int64"
      ]
     },
     "execution_count": 7,
     "metadata": {},
     "output_type": "execute_result"
    }
   ],
   "source": [
    "community_df = pd.DataFrame().from_dict(partition, orient='index')\n",
    "community_df.reset_index(inplace=True)\n",
    "community_df.columns = ['node', 'community']\n",
    "\n",
    "# remove junk; identify relevant communities\n",
    "\n",
    "community_df['community'].value_counts()[0:20]"
   ]
  },
  {
   "cell_type": "code",
   "execution_count": 8,
   "id": "5ed70761",
   "metadata": {},
   "outputs": [
    {
     "data": {
      "text/html": [
       "<div>\n",
       "<style scoped>\n",
       "    .dataframe tbody tr th:only-of-type {\n",
       "        vertical-align: middle;\n",
       "    }\n",
       "\n",
       "    .dataframe tbody tr th {\n",
       "        vertical-align: top;\n",
       "    }\n",
       "\n",
       "    .dataframe thead th {\n",
       "        text-align: right;\n",
       "    }\n",
       "</style>\n",
       "<table border=\"1\" class=\"dataframe\">\n",
       "  <thead>\n",
       "    <tr style=\"text-align: right;\">\n",
       "      <th></th>\n",
       "      <th>community</th>\n",
       "      <th>node_count</th>\n",
       "    </tr>\n",
       "  </thead>\n",
       "  <tbody>\n",
       "    <tr>\n",
       "      <th>0</th>\n",
       "      <td>51</td>\n",
       "      <td>97</td>\n",
       "    </tr>\n",
       "    <tr>\n",
       "      <th>1</th>\n",
       "      <td>27</td>\n",
       "      <td>95</td>\n",
       "    </tr>\n",
       "    <tr>\n",
       "      <th>2</th>\n",
       "      <td>657</td>\n",
       "      <td>90</td>\n",
       "    </tr>\n",
       "    <tr>\n",
       "      <th>3</th>\n",
       "      <td>432</td>\n",
       "      <td>88</td>\n",
       "    </tr>\n",
       "    <tr>\n",
       "      <th>4</th>\n",
       "      <td>454</td>\n",
       "      <td>88</td>\n",
       "    </tr>\n",
       "  </tbody>\n",
       "</table>\n",
       "</div>"
      ],
      "text/plain": [
       "   community  node_count\n",
       "0         51          97\n",
       "1         27          95\n",
       "2        657          90\n",
       "3        432          88\n",
       "4        454          88"
      ]
     },
     "execution_count": 8,
     "metadata": {},
     "output_type": "execute_result"
    }
   ],
   "source": [
    "community_node_counts = community_df['community'].value_counts()\n",
    "\n",
    "community_size_df = pd.DataFrame(community_node_counts).reset_index()\n",
    "community_size_df.columns = ['community', 'node_count']\n",
    "\n",
    "# just to speed up this experiment\n",
    "community_size_df = community_size_df[community_size_df['node_count'] > 10]\n",
    "\n",
    "community_size_df.head()"
   ]
  },
  {
   "cell_type": "code",
   "execution_count": 9,
   "id": "77719ff7",
   "metadata": {},
   "outputs": [
    {
     "data": {
      "text/plain": [
       "(1296, 2)"
      ]
     },
     "execution_count": 9,
     "metadata": {},
     "output_type": "execute_result"
    }
   ],
   "source": [
    "community_size_df.shape"
   ]
  },
  {
   "cell_type": "markdown",
   "id": "65a4daaa",
   "metadata": {},
   "source": [
    "## Capture Community Context"
   ]
  },
  {
   "cell_type": "code",
   "execution_count": 10,
   "id": "88142c5f",
   "metadata": {},
   "outputs": [
    {
     "data": {
      "text/html": [
       "<div>\n",
       "<style scoped>\n",
       "    .dataframe tbody tr th:only-of-type {\n",
       "        vertical-align: middle;\n",
       "    }\n",
       "\n",
       "    .dataframe tbody tr th {\n",
       "        vertical-align: top;\n",
       "    }\n",
       "\n",
       "    .dataframe thead th {\n",
       "        text-align: right;\n",
       "    }\n",
       "</style>\n",
       "<table border=\"1\" class=\"dataframe\">\n",
       "  <thead>\n",
       "    <tr style=\"text-align: right;\">\n",
       "      <th></th>\n",
       "      <th>node</th>\n",
       "      <th>community</th>\n",
       "    </tr>\n",
       "  </thead>\n",
       "  <tbody>\n",
       "    <tr>\n",
       "      <th>0</th>\n",
       "      <td>Dustin Nguyen</td>\n",
       "      <td>0</td>\n",
       "    </tr>\n",
       "    <tr>\n",
       "      <th>1</th>\n",
       "      <td>Yuan-Sen Ting</td>\n",
       "      <td>0</td>\n",
       "    </tr>\n",
       "    <tr>\n",
       "      <th>2</th>\n",
       "      <td>Todd A. Thompson</td>\n",
       "      <td>0</td>\n",
       "    </tr>\n",
       "    <tr>\n",
       "      <th>3</th>\n",
       "      <td>Sebastian Lopez</td>\n",
       "      <td>0</td>\n",
       "    </tr>\n",
       "    <tr>\n",
       "      <th>4</th>\n",
       "      <td>Laura A. Lopez</td>\n",
       "      <td>0</td>\n",
       "    </tr>\n",
       "  </tbody>\n",
       "</table>\n",
       "</div>"
      ],
      "text/plain": [
       "               node  community\n",
       "0     Dustin Nguyen          0\n",
       "1     Yuan-Sen Ting          0\n",
       "2  Todd A. Thompson          0\n",
       "3   Sebastian Lopez          0\n",
       "4    Laura A. Lopez          0"
      ]
     },
     "execution_count": 10,
     "metadata": {},
     "output_type": "execute_result"
    }
   ],
   "source": [
    "community_df.head()"
   ]
  },
  {
   "cell_type": "code",
   "execution_count": 11,
   "id": "024410cd",
   "metadata": {},
   "outputs": [
    {
     "data": {
      "text/html": [
       "<div>\n",
       "<style scoped>\n",
       "    .dataframe tbody tr th:only-of-type {\n",
       "        vertical-align: middle;\n",
       "    }\n",
       "\n",
       "    .dataframe tbody tr th {\n",
       "        vertical-align: top;\n",
       "    }\n",
       "\n",
       "    .dataframe thead th {\n",
       "        text-align: right;\n",
       "    }\n",
       "</style>\n",
       "<table border=\"1\" class=\"dataframe\">\n",
       "  <thead>\n",
       "    <tr style=\"text-align: right;\">\n",
       "      <th></th>\n",
       "      <th>community</th>\n",
       "      <th>node_count</th>\n",
       "    </tr>\n",
       "  </thead>\n",
       "  <tbody>\n",
       "    <tr>\n",
       "      <th>0</th>\n",
       "      <td>51</td>\n",
       "      <td>97</td>\n",
       "    </tr>\n",
       "  </tbody>\n",
       "</table>\n",
       "</div>"
      ],
      "text/plain": [
       "   community  node_count\n",
       "0         51          97"
      ]
     },
     "execution_count": 11,
     "metadata": {},
     "output_type": "execute_result"
    }
   ],
   "source": [
    "community_size_df.head(1)"
   ]
  },
  {
   "cell_type": "code",
   "execution_count": 12,
   "id": "0e3ebd1c",
   "metadata": {},
   "outputs": [],
   "source": [
    "def get_community_nodes(community_df, community):\n",
    "\n",
    "    return sorted(community_df[community_df['community']==community]['node'].values)"
   ]
  },
  {
   "cell_type": "code",
   "execution_count": 13,
   "id": "c8edef19",
   "metadata": {},
   "outputs": [],
   "source": [
    "def get_community_context(community_size_df, community_df, G):\n",
    "\n",
    "    G = G.copy()\n",
    "\n",
    "    communities = {}\n",
    "\n",
    "    for row in community_size_df.iterrows():\n",
    "\n",
    "        data = row[1]\n",
    "        community = data['community']\n",
    "        node_count = data['node_count']\n",
    "        \n",
    "        nodes = get_community_nodes(community_df, community)\n",
    "        G_sub = G.subgraph(nodes)\n",
    "\n",
    "        # starting with density today; will add on more context later\n",
    "        density = nx.density(G_sub)\n",
    "        \n",
    "        communities[community] = {}\n",
    "\n",
    "        communities[community]['G'] = G_sub\n",
    "        communities[community]['density'] = density\n",
    "        communities[community]['node_count'] = len(G_sub.nodes)\n",
    "        \n",
    "    return communities"
   ]
  },
  {
   "cell_type": "code",
   "execution_count": 14,
   "id": "82447ce7",
   "metadata": {},
   "outputs": [],
   "source": [
    "community_context_dict = get_community_context(community_size_df, community_df, G)"
   ]
  },
  {
   "cell_type": "code",
   "execution_count": 15,
   "id": "fb8dc673",
   "metadata": {},
   "outputs": [
    {
     "data": {
      "text/html": [
       "<div>\n",
       "<style scoped>\n",
       "    .dataframe tbody tr th:only-of-type {\n",
       "        vertical-align: middle;\n",
       "    }\n",
       "\n",
       "    .dataframe tbody tr th {\n",
       "        vertical-align: top;\n",
       "    }\n",
       "\n",
       "    .dataframe thead th {\n",
       "        text-align: right;\n",
       "    }\n",
       "</style>\n",
       "<table border=\"1\" class=\"dataframe\">\n",
       "  <thead>\n",
       "    <tr style=\"text-align: right;\">\n",
       "      <th></th>\n",
       "      <th>community</th>\n",
       "      <th>G</th>\n",
       "      <th>density</th>\n",
       "      <th>node_count</th>\n",
       "    </tr>\n",
       "  </thead>\n",
       "  <tbody>\n",
       "    <tr>\n",
       "      <th>0</th>\n",
       "      <td>51</td>\n",
       "      <td>(Narisa Zhao, Nguyen Cong Luong, Amir Leshem, ...</td>\n",
       "      <td>0.075172</td>\n",
       "      <td>97</td>\n",
       "    </tr>\n",
       "    <tr>\n",
       "      <th>1</th>\n",
       "      <td>27</td>\n",
       "      <td>(Saray Shai, Elvira Maria Restrepo, Mason A. P...</td>\n",
       "      <td>0.054199</td>\n",
       "      <td>95</td>\n",
       "    </tr>\n",
       "    <tr>\n",
       "      <th>2</th>\n",
       "      <td>657</td>\n",
       "      <td>(Wenbo Du, Bnaya Gross, Xingshu Chen, Yuanshen...</td>\n",
       "      <td>0.061423</td>\n",
       "      <td>90</td>\n",
       "    </tr>\n",
       "    <tr>\n",
       "      <th>3</th>\n",
       "      <td>432</td>\n",
       "      <td>(Benjamin Machta, Pawel Sobkowicz, Kishan Govi...</td>\n",
       "      <td>0.062173</td>\n",
       "      <td>88</td>\n",
       "    </tr>\n",
       "    <tr>\n",
       "      <th>4</th>\n",
       "      <td>454</td>\n",
       "      <td>(Alejandro Ribeiro, Jean M. Vettel, Ankit N. K...</td>\n",
       "      <td>0.073406</td>\n",
       "      <td>88</td>\n",
       "    </tr>\n",
       "  </tbody>\n",
       "</table>\n",
       "</div>"
      ],
      "text/plain": [
       "   community                                                  G   density  \\\n",
       "0         51  (Narisa Zhao, Nguyen Cong Luong, Amir Leshem, ...  0.075172   \n",
       "1         27  (Saray Shai, Elvira Maria Restrepo, Mason A. P...  0.054199   \n",
       "2        657  (Wenbo Du, Bnaya Gross, Xingshu Chen, Yuanshen...  0.061423   \n",
       "3        432  (Benjamin Machta, Pawel Sobkowicz, Kishan Govi...  0.062173   \n",
       "4        454  (Alejandro Ribeiro, Jean M. Vettel, Ankit N. K...  0.073406   \n",
       "\n",
       "  node_count  \n",
       "0         97  \n",
       "1         95  \n",
       "2         90  \n",
       "3         88  \n",
       "4         88  "
      ]
     },
     "execution_count": 15,
     "metadata": {},
     "output_type": "execute_result"
    }
   ],
   "source": [
    "community_context_df = pd.DataFrame(community_context_dict).T.reset_index()\n",
    "community_context_df.columns = ['community', 'G', 'density', 'node_count']\n",
    "\n",
    "community_context_df.head()"
   ]
  },
  {
   "cell_type": "code",
   "execution_count": 16,
   "id": "386bcb66",
   "metadata": {},
   "outputs": [
    {
     "data": {
      "text/plain": [
       "<AxesSubplot:ylabel='Frequency'>"
      ]
     },
     "execution_count": 16,
     "metadata": {},
     "output_type": "execute_result"
    },
    {
     "data": {
      "image/png": "[encoded data removed]",
      "text/plain": [
       "<Figure size 864x576 with 1 Axes>"
      ]
     },
     "metadata": {
      "needs_background": "light"
     },
     "output_type": "display_data"
    }
   ],
   "source": [
    "community_context_df['density'].plot.hist(bins=50, figsize=(12,8))"
   ]
  },
  {
   "cell_type": "markdown",
   "id": "bcb83c40",
   "metadata": {},
   "source": [
    "#### Investigate Communities"
   ]
  },
  {
   "cell_type": "code",
   "execution_count": 17,
   "id": "05e65d6a",
   "metadata": {},
   "outputs": [],
   "source": [
    "def draw_graph(G, show_names=False, node_size=1, font_size=10, edge_width=0.5): \n",
    "\n",
    "    adjacency = nx.to_scipy_sparse_matrix(G, nodelist=None, dtype=None, weight='weight', format='csr') \n",
    "\n",
    "    names = np.array(list(G.nodes())) \n",
    "\n",
    "    graph = Bunch() \n",
    "    graph.adjacency = adjacency \n",
    "    graph.names = np.array(names) \n",
    "\n",
    "    pagerank = PageRank() \n",
    "\n",
    "    scores = pagerank.fit_transform(adjacency) \n",
    "\n",
    "    if show_names: \n",
    "        \n",
    "        image = svg_graph(graph.adjacency, font_size=font_size, node_size=node_size, names=graph.names, width=700, height=500, scores=scores, edge_width=edge_width) \n",
    "\n",
    "    else: \n",
    "\n",
    "        image = svg_graph(graph.adjacency, node_size=node_size, width=700, height=500, scores = scores, edge_width=edge_width) \n",
    "\n",
    "    return SVG(image) "
   ]
  },
  {
   "cell_type": "code",
   "execution_count": 18,
   "id": "960ade35",
   "metadata": {},
   "outputs": [],
   "source": [
    "def show_author_papers(df, G):\n",
    "    \n",
    "    G = G.copy()\n",
    "    \n",
    "    check_nodes = G.nodes\n",
    "\n",
    "    return sorted(df[df['authors'].isin(check_nodes)]['title'].unique())"
   ]
  },
  {
   "cell_type": "code",
   "execution_count": 19,
   "id": "6b5ec685",
   "metadata": {},
   "outputs": [],
   "source": [
    "def fetch_communities(community_context_df, min_density, max_density, max_nodes=None):\n",
    "    \n",
    "    if max_nodes==None:\n",
    "        community_context_df['node_count'].sum()\n",
    "    \n",
    "    community_context_df = community_context_df.copy()\n",
    "\n",
    "    mask = (community_context_df['density']>min_density) \\\n",
    "        & (community_context_df['density']<max_density)  \\\n",
    "        & (community_context_df['node_count']<max_nodes)\n",
    "    \n",
    "    community_context_df = community_context_df[mask].copy()\n",
    "    community_context_df = community_context_df.sample(10) # grabbing ten to see the ranges\n",
    "\n",
    "    community_context_df.sort_values('density', inplace=True)\n",
    "    communities = community_context_df['community'].values[0:10]\n",
    "    \n",
    "    return communities"
   ]
  },
  {
   "cell_type": "code",
   "execution_count": 20,
   "id": "37cedc99",
   "metadata": {},
   "outputs": [],
   "source": [
    "def draw_community(G_check):\n",
    "\n",
    "    print('Density: {}'.format(nx.density(G_check)))\n",
    "    print('Node Count: {}'.format(len(G_check.nodes)))\n",
    "    return draw_graph(G_check, show_names=True, node_size=3, edge_width=0.2)"
   ]
  },
  {
   "cell_type": "code",
   "execution_count": 42,
   "id": "4cd8b228",
   "metadata": {},
   "outputs": [
    {
     "data": {
      "text/plain": [
       "array([1865,  168, 1090,  298, 2193,  978, 1085,  507, 3927, 3333],\n",
       "      dtype=int64)"
      ]
     },
     "execution_count": 42,
     "metadata": {},
     "output_type": "execute_result"
    }
   ],
   "source": [
    "min_density = 0.1\n",
    "max_density = 0.3\n",
    "max_nodes = 100\n",
    "\n",
    "communities = fetch_communities(community_context_df, min_density=min_density, max_density=max_density, max_nodes=max_nodes)\n",
    "communities"
   ]
  },
  {
   "cell_type": "code",
   "execution_count": 43,
   "id": "b86e905b",
   "metadata": {},
   "outputs": [
    {
     "name": "stdout",
     "output_type": "stream",
     "text": [
      "Density: 0.10823311748381129\n",
      "Node Count: 47\n"
     ]
    },
    {
     "data": {
      "image/svg+xml": [
       "<svg height=\"540\" width=\"865.0\" xmlns=\"http://www.w3.org/2000/svg\"><path d=\"M 467 507 428 503\" stroke=\"gray\" stroke-width=\"0.2\"/><path d=\"M 467 507 414 399\" stroke=\"gray\" stroke-width=\"0.2\"/><path d=\"M 467 507 496 490\" stroke=\"gray\" stroke-width=\"0.2\"/><path d=\"M 323 398 326 358\" stroke=\"gray\" stroke-width=\"0.2\"/><path d=\"M 323 398 355 324\" stroke=\"gray\" stroke-width=\"0.2\"/><path d=\"M 323 398 414 399\" stroke=\"gray\" stroke-width=\"0.2\"/><path d=\"M 362 20 356 121\" stroke=\"gray\" stroke-width=\"0.2\"/><path d=\"M 362 20 401 48\" stroke=\"gray\" stroke-width=\"0.2\"/><path d=\"M 362 20 329 28\" stroke=\"gray\" stroke-width=\"0.2\"/><path d=\"M 362 20 321 48\" stroke=\"gray\" stroke-width=\"0.2\"/><path d=\"M 362 20 386 32\" stroke=\"gray\" stroke-width=\"0.2\"/><path d=\"M 362 20 358 55\" stroke=\"gray\" stroke-width=\"0.2\"/><path d=\"M 306 434 355 324\" stroke=\"gray\" stroke-width=\"0.2\"/><path d=\"M 306 434 400 431\" stroke=\"gray\" stroke-width=\"0.2\"/><path d=\"M 306 434 187 446\" stroke=\"gray\" stroke-width=\"0.2\"/><path d=\"M 356 121 362 20\" stroke=\"gray\" stroke-width=\"0.2\"/><path d=\"M 356 121 401 48\" stroke=\"gray\" stroke-width=\"0.2\"/><path d=\"M 356 121 349 204\" stroke=\"gray\" stroke-width=\"0.2\"/><path d=\"M 356 121 329 28\" stroke=\"gray\" stroke-width=\"0.2\"/><path d=\"M 356 121 321 48\" stroke=\"gray\" stroke-width=\"0.2\"/><path d=\"M 356 121 355 324\" stroke=\"gray\" stroke-width=\"0.2\"/><path d=\"M 356 121 386 32\" stroke=\"gray\" stroke-width=\"0.2\"/><path d=\"M 356 121 358 55\" stroke=\"gray\" stroke-width=\"0.2\"/><path d=\"M 179 352 326 358\" stroke=\"gray\" stroke-width=\"0.2\"/><path d=\"M 179 352 355 324\" stroke=\"gray\" stroke-width=\"0.2\"/><path d=\"M 179 352 20 370\" stroke=\"gray\" stroke-width=\"0.2\"/><path d=\"M 440 380 445 335\" stroke=\"gray\" stroke-width=\"0.2\"/><path d=\"M 440 380 326 358\" stroke=\"gray\" stroke-width=\"0.2\"/><path d=\"M 440 380 355 324\" stroke=\"gray\" stroke-width=\"0.2\"/><path d=\"M 318 298 393 332\" stroke=\"gray\" stroke-width=\"0.2\"/><path d=\"M 318 298 326 358\" stroke=\"gray\" stroke-width=\"0.2\"/><path d=\"M 318 298 355 324\" stroke=\"gray\" stroke-width=\"0.2\"/><path d=\"M 318 298 283 319\" stroke=\"gray\" stroke-width=\"0.2\"/><path d=\"M 537 359 355 324\" stroke=\"gray\" stroke-width=\"0.2\"/><path d=\"M 537 359 579 319\" stroke=\"gray\" stroke-width=\"0.2\"/><path d=\"M 401 48 362 20\" stroke=\"gray\" stroke-width=\"0.2\"/><path d=\"M 401 48 356 121\" stroke=\"gray\" stroke-width=\"0.2\"/><path d=\"M 401 48 329 28\" stroke=\"gray\" stroke-width=\"0.2\"/><path d=\"M 401 48 321 48\" stroke=\"gray\" stroke-width=\"0.2\"/><path d=\"M 401 48 386 32\" stroke=\"gray\" stroke-width=\"0.2\"/><path d=\"M 401 48 358 55\" stroke=\"gray\" stroke-width=\"0.2\"/><path d=\"M 349 204 356 121\" stroke=\"gray\" stroke-width=\"0.2\"/><path d=\"M 349 204 355 324\" stroke=\"gray\" stroke-width=\"0.2\"/><path d=\"M 237 268 355 324\" stroke=\"gray\" stroke-width=\"0.2\"/><path d=\"M 237 268 251 246\" stroke=\"gray\" stroke-width=\"0.2\"/><path d=\"M 237 268 201 275\" stroke=\"gray\" stroke-width=\"0.2\"/><path d=\"M 271 412 326 358\" stroke=\"gray\" stroke-width=\"0.2\"/><path d=\"M 271 412 286 377\" stroke=\"gray\" stroke-width=\"0.2\"/><path d=\"M 271 412 414 399\" stroke=\"gray\" stroke-width=\"0.2\"/><path d=\"M 393 332 318 298\" stroke=\"gray\" stroke-width=\"0.2\"/><path d=\"M 393 332 379 382\" stroke=\"gray\" stroke-width=\"0.2\"/><path d=\"M 393 332 326 358\" stroke=\"gray\" stroke-width=\"0.2\"/><path d=\"M 393 332 355 324\" stroke=\"gray\" stroke-width=\"0.2\"/><path d=\"M 393 332 477 344\" stroke=\"gray\" stroke-width=\"0.2\"/><path d=\"M 393 332 438 350\" stroke=\"gray\" stroke-width=\"0.2\"/><path d=\"M 393 332 414 399\" stroke=\"gray\" stroke-width=\"0.2\"/><path d=\"M 393 332 283 319\" stroke=\"gray\" stroke-width=\"0.2\"/><path d=\"M 393 332 440 317\" stroke=\"gray\" stroke-width=\"0.2\"/><path d=\"M 393 332 508 281\" stroke=\"gray\" stroke-width=\"0.2\"/><path d=\"M 428 503 467 507\" stroke=\"gray\" stroke-width=\"0.2\"/><path d=\"M 428 503 414 399\" stroke=\"gray\" stroke-width=\"0.2\"/><path d=\"M 428 503 496 490\" stroke=\"gray\" stroke-width=\"0.2\"/><path d=\"M 379 382 393 332\" stroke=\"gray\" stroke-width=\"0.2\"/><path d=\"M 379 382 355 324\" stroke=\"gray\" stroke-width=\"0.2\"/><path d=\"M 379 382 438 350\" stroke=\"gray\" stroke-width=\"0.2\"/><path d=\"M 379 382 414 399\" stroke=\"gray\" stroke-width=\"0.2\"/><path d=\"M 329 28 362 20\" stroke=\"gray\" stroke-width=\"0.2\"/><path d=\"M 329 28 356 121\" stroke=\"gray\" stroke-width=\"0.2\"/><path d=\"M 329 28 401 48\" stroke=\"gray\" stroke-width=\"0.2\"/><path d=\"M 329 28 321 48\" stroke=\"gray\" stroke-width=\"0.2\"/><path d=\"M 329 28 386 32\" stroke=\"gray\" stroke-width=\"0.2\"/><path d=\"M 329 28 358 55\" stroke=\"gray\" stroke-width=\"0.2\"/><path d=\"M 321 48 362 20\" stroke=\"gray\" stroke-width=\"0.2\"/><path d=\"M 321 48 356 121\" stroke=\"gray\" stroke-width=\"0.2\"/><path d=\"M 321 48 401 48\" stroke=\"gray\" stroke-width=\"0.2\"/><path d=\"M 321 48 329 28\" stroke=\"gray\" stroke-width=\"0.2\"/><path d=\"M 321 48 386 32\" stroke=\"gray\" stroke-width=\"0.2\"/><path d=\"M 321 48 358 55\" stroke=\"gray\" stroke-width=\"0.2\"/><path d=\"M 445 335 440 380\" stroke=\"gray\" stroke-width=\"0.2\"/><path d=\"M 445 335 326 358\" stroke=\"gray\" stroke-width=\"0.2\"/><path d=\"M 445 335 355 324\" stroke=\"gray\" stroke-width=\"0.2\"/><path d=\"M 326 358 323 398\" stroke=\"gray\" stroke-width=\"0.2\"/><path d=\"M 326 358 179 352\" stroke=\"gray\" stroke-width=\"0.2\"/><path d=\"M 326 358 440 380\" stroke=\"gray\" stroke-width=\"0.2\"/><path d=\"M 326 358 318 298\" stroke=\"gray\" stroke-width=\"0.2\"/><path d=\"M 326 358 271 412\" stroke=\"gray\" stroke-width=\"0.2\"/><path d=\"M 326 358 393 332\" stroke=\"gray\" stroke-width=\"0.2\"/><path d=\"M 326 358 445 335\" stroke=\"gray\" stroke-width=\"0.2\"/><path d=\"M 326 358 355 324\" stroke=\"gray\" stroke-width=\"0.2\"/><path d=\"M 326 358 286 377\" stroke=\"gray\" stroke-width=\"0.2\"/><path d=\"M 326 358 414 399\" stroke=\"gray\" stroke-width=\"0.2\"/><path d=\"M 326 358 283 319\" stroke=\"gray\" stroke-width=\"0.2\"/><path d=\"M 355 324 323 398\" stroke=\"gray\" stroke-width=\"0.2\"/><path d=\"M 355 324 306 434\" stroke=\"gray\" stroke-width=\"0.2\"/><path d=\"M 355 324 356 121\" stroke=\"gray\" stroke-width=\"0.2\"/><path d=\"M 355 324 179 352\" stroke=\"gray\" stroke-width=\"0.2\"/><path d=\"M 355 324 440 380\" stroke=\"gray\" stroke-width=\"0.2\"/><path d=\"M 355 324 318 298\" stroke=\"gray\" stroke-width=\"0.2\"/><path d=\"M 355 324 537 359\" stroke=\"gray\" stroke-width=\"0.2\"/><path d=\"M 355 324 349 204\" stroke=\"gray\" stroke-width=\"0.2\"/><path d=\"M 355 324 237 268\" stroke=\"gray\" stroke-width=\"0.2\"/><path d=\"M 355 324 393 332\" stroke=\"gray\" stroke-width=\"0.2\"/><path d=\"M 355 324 379 382\" stroke=\"gray\" stroke-width=\"0.2\"/><path d=\"M 355 324 445 335\" stroke=\"gray\" stroke-width=\"0.2\"/><path d=\"M 355 324 326 358\" stroke=\"gray\" stroke-width=\"0.2\"/><path d=\"M 355 324 251 246\" stroke=\"gray\" stroke-width=\"0.2\"/><path d=\"M 355 324 477 344\" stroke=\"gray\" stroke-width=\"0.2\"/><path d=\"M 355 324 400 431\" stroke=\"gray\" stroke-width=\"0.2\"/><path d=\"M 355 324 201 275\" stroke=\"gray\" stroke-width=\"0.2\"/><path d=\"M 355 324 286 377\" stroke=\"gray\" stroke-width=\"0.2\"/><path d=\"M 355 324 438 350\" stroke=\"gray\" stroke-width=\"0.2\"/><path d=\"M 355 324 579 319\" stroke=\"gray\" stroke-width=\"0.2\"/><path d=\"M 355 324 414 399\" stroke=\"gray\" stroke-width=\"0.2\"/><path d=\"M 355 324 283 319\" stroke=\"gray\" stroke-width=\"0.2\"/><path d=\"M 355 324 440 317\" stroke=\"gray\" stroke-width=\"0.2\"/><path d=\"M 355 324 508 281\" stroke=\"gray\" stroke-width=\"0.2\"/><path d=\"M 355 324 187 446\" stroke=\"gray\" stroke-width=\"0.2\"/><path d=\"M 574 192 611 203\" stroke=\"gray\" stroke-width=\"0.2\"/><path d=\"M 574 192 602 226\" stroke=\"gray\" stroke-width=\"0.2\"/><path d=\"M 574 192 508 281\" stroke=\"gray\" stroke-width=\"0.2\"/><path d=\"M 574 192 546 206\" stroke=\"gray\" stroke-width=\"0.2\"/><path d=\"M 687 292 579 319\" stroke=\"gray\" stroke-width=\"0.2\"/><path d=\"M 687 292 720 315\" stroke=\"gray\" stroke-width=\"0.2\"/><path d=\"M 611 203 574 192\" stroke=\"gray\" stroke-width=\"0.2\"/><path d=\"M 611 203 602 226\" stroke=\"gray\" stroke-width=\"0.2\"/><path d=\"M 611 203 508 281\" stroke=\"gray\" stroke-width=\"0.2\"/><path d=\"M 611 203 546 206\" stroke=\"gray\" stroke-width=\"0.2\"/><path d=\"M 251 246 237 268\" stroke=\"gray\" stroke-width=\"0.2\"/><path d=\"M 251 246 355 324\" stroke=\"gray\" stroke-width=\"0.2\"/><path d=\"M 251 246 201 275\" stroke=\"gray\" stroke-width=\"0.2\"/><path d=\"M 477 344 393 332\" stroke=\"gray\" stroke-width=\"0.2\"/><path d=\"M 477 344 355 324\" stroke=\"gray\" stroke-width=\"0.2\"/><path d=\"M 477 344 438 350\" stroke=\"gray\" stroke-width=\"0.2\"/><path d=\"M 477 344 414 399\" stroke=\"gray\" stroke-width=\"0.2\"/><path d=\"M 477 344 440 317\" stroke=\"gray\" stroke-width=\"0.2\"/><path d=\"M 477 344 508 281\" stroke=\"gray\" stroke-width=\"0.2\"/><path d=\"M 655 243 602 226\" stroke=\"gray\" stroke-width=\"0.2\"/><path d=\"M 655 243 508 281\" stroke=\"gray\" stroke-width=\"0.2\"/><path d=\"M 400 431 306 434\" stroke=\"gray\" stroke-width=\"0.2\"/><path d=\"M 400 431 355 324\" stroke=\"gray\" stroke-width=\"0.2\"/><path d=\"M 20 370 179 352\" stroke=\"gray\" stroke-width=\"0.2\"/><path d=\"M 201 275 237 268\" stroke=\"gray\" stroke-width=\"0.2\"/><path d=\"M 201 275 355 324\" stroke=\"gray\" stroke-width=\"0.2\"/><path d=\"M 201 275 251 246\" stroke=\"gray\" stroke-width=\"0.2\"/><path d=\"M 286 377 271 412\" stroke=\"gray\" stroke-width=\"0.2\"/><path d=\"M 286 377 326 358\" stroke=\"gray\" stroke-width=\"0.2\"/><path d=\"M 286 377 355 324\" stroke=\"gray\" stroke-width=\"0.2\"/><path d=\"M 286 377 414 399\" stroke=\"gray\" stroke-width=\"0.2\"/><path d=\"M 438 350 393 332\" stroke=\"gray\" stroke-width=\"0.2\"/><path d=\"M 438 350 379 382\" stroke=\"gray\" stroke-width=\"0.2\"/><path d=\"M 438 350 355 324\" stroke=\"gray\" stroke-width=\"0.2\"/><path d=\"M 438 350 477 344\" stroke=\"gray\" stroke-width=\"0.2\"/><path d=\"M 438 350 414 399\" stroke=\"gray\" stroke-width=\"0.2\"/><path d=\"M 438 350 440 317\" stroke=\"gray\" stroke-width=\"0.2\"/><path d=\"M 438 350 508 281\" stroke=\"gray\" stroke-width=\"0.2\"/><path d=\"M 579 319 537 359\" stroke=\"gray\" stroke-width=\"0.2\"/><path d=\"M 579 319 355 324\" stroke=\"gray\" stroke-width=\"0.2\"/><path d=\"M 579 319 687 292\" stroke=\"gray\" stroke-width=\"0.2\"/><path d=\"M 579 319 720 315\" stroke=\"gray\" stroke-width=\"0.2\"/><path d=\"M 110 520 85 486\" stroke=\"gray\" stroke-width=\"0.2\"/><path d=\"M 110 520 62 504\" stroke=\"gray\" stroke-width=\"0.2\"/><path d=\"M 110 520 187 446\" stroke=\"gray\" stroke-width=\"0.2\"/><path d=\"M 386 32 362 20\" stroke=\"gray\" stroke-width=\"0.2\"/><path d=\"M 386 32 356 121\" stroke=\"gray\" stroke-width=\"0.2\"/><path d=\"M 386 32 401 48\" stroke=\"gray\" stroke-width=\"0.2\"/><path d=\"M 386 32 329 28\" stroke=\"gray\" stroke-width=\"0.2\"/><path d=\"M 386 32 321 48\" stroke=\"gray\" stroke-width=\"0.2\"/><path d=\"M 386 32 358 55\" stroke=\"gray\" stroke-width=\"0.2\"/><path d=\"M 414 399 467 507\" stroke=\"gray\" stroke-width=\"0.2\"/><path d=\"M 414 399 323 398\" stroke=\"gray\" stroke-width=\"0.2\"/><path d=\"M 414 399 271 412\" stroke=\"gray\" stroke-width=\"0.2\"/><path d=\"M 414 399 393 332\" stroke=\"gray\" stroke-width=\"0.2\"/><path d=\"M 414 399 428 503\" stroke=\"gray\" stroke-width=\"0.2\"/><path d=\"M 414 399 379 382\" stroke=\"gray\" stroke-width=\"0.2\"/><path d=\"M 414 399 326 358\" stroke=\"gray\" stroke-width=\"0.2\"/><path d=\"M 414 399 355 324\" stroke=\"gray\" stroke-width=\"0.2\"/><path d=\"M 414 399 477 344\" stroke=\"gray\" stroke-width=\"0.2\"/><path d=\"M 414 399 286 377\" stroke=\"gray\" stroke-width=\"0.2\"/><path d=\"M 414 399 438 350\" stroke=\"gray\" stroke-width=\"0.2\"/><path d=\"M 414 399 496 490\" stroke=\"gray\" stroke-width=\"0.2\"/><path d=\"M 414 399 440 317\" stroke=\"gray\" stroke-width=\"0.2\"/><path d=\"M 414 399 508 281\" stroke=\"gray\" stroke-width=\"0.2\"/><path d=\"M 496 490 467 507\" stroke=\"gray\" stroke-width=\"0.2\"/><path d=\"M 496 490 428 503\" stroke=\"gray\" stroke-width=\"0.2\"/><path d=\"M 496 490 414 399\" stroke=\"gray\" stroke-width=\"0.2\"/><path d=\"M 358 55 362 20\" stroke=\"gray\" stroke-width=\"0.2\"/><path d=\"M 358 55 356 121\" stroke=\"gray\" stroke-width=\"0.2\"/><path d=\"M 358 55 401 48\" stroke=\"gray\" stroke-width=\"0.2\"/><path d=\"M 358 55 329 28\" stroke=\"gray\" stroke-width=\"0.2\"/><path d=\"M 358 55 321 48\" stroke=\"gray\" stroke-width=\"0.2\"/><path d=\"M 358 55 386 32\" stroke=\"gray\" stroke-width=\"0.2\"/><path d=\"M 720 315 687 292\" stroke=\"gray\" stroke-width=\"0.2\"/><path d=\"M 720 315 579 319\" stroke=\"gray\" stroke-width=\"0.2\"/><path d=\"M 283 319 318 298\" stroke=\"gray\" stroke-width=\"0.2\"/><path d=\"M 283 319 393 332\" stroke=\"gray\" stroke-width=\"0.2\"/><path d=\"M 283 319 326 358\" stroke=\"gray\" stroke-width=\"0.2\"/><path d=\"M 283 319 355 324\" stroke=\"gray\" stroke-width=\"0.2\"/><path d=\"M 602 226 574 192\" stroke=\"gray\" stroke-width=\"0.2\"/><path d=\"M 602 226 611 203\" stroke=\"gray\" stroke-width=\"0.2\"/><path d=\"M 602 226 655 243\" stroke=\"gray\" stroke-width=\"0.2\"/><path d=\"M 602 226 508 281\" stroke=\"gray\" stroke-width=\"0.2\"/><path d=\"M 602 226 546 206\" stroke=\"gray\" stroke-width=\"0.2\"/><path d=\"M 85 486 110 520\" stroke=\"gray\" stroke-width=\"0.2\"/><path d=\"M 85 486 62 504\" stroke=\"gray\" stroke-width=\"0.2\"/><path d=\"M 85 486 187 446\" stroke=\"gray\" stroke-width=\"0.2\"/><path d=\"M 440 317 393 332\" stroke=\"gray\" stroke-width=\"0.2\"/><path d=\"M 440 317 355 324\" stroke=\"gray\" stroke-width=\"0.2\"/><path d=\"M 440 317 477 344\" stroke=\"gray\" stroke-width=\"0.2\"/><path d=\"M 440 317 438 350\" stroke=\"gray\" stroke-width=\"0.2\"/><path d=\"M 440 317 414 399\" stroke=\"gray\" stroke-width=\"0.2\"/><path d=\"M 440 317 508 281\" stroke=\"gray\" stroke-width=\"0.2\"/><path d=\"M 508 281 393 332\" stroke=\"gray\" stroke-width=\"0.2\"/><path d=\"M 508 281 355 324\" stroke=\"gray\" stroke-width=\"0.2\"/><path d=\"M 508 281 574 192\" stroke=\"gray\" stroke-width=\"0.2\"/><path d=\"M 508 281 611 203\" stroke=\"gray\" stroke-width=\"0.2\"/><path d=\"M 508 281 477 344\" stroke=\"gray\" stroke-width=\"0.2\"/><path d=\"M 508 281 655 243\" stroke=\"gray\" stroke-width=\"0.2\"/><path d=\"M 508 281 438 350\" stroke=\"gray\" stroke-width=\"0.2\"/><path d=\"M 508 281 414 399\" stroke=\"gray\" stroke-width=\"0.2\"/><path d=\"M 508 281 602 226\" stroke=\"gray\" stroke-width=\"0.2\"/><path d=\"M 508 281 440 317\" stroke=\"gray\" stroke-width=\"0.2\"/><path d=\"M 508 281 546 206\" stroke=\"gray\" stroke-width=\"0.2\"/><path d=\"M 62 504 110 520\" stroke=\"gray\" stroke-width=\"0.2\"/><path d=\"M 62 504 85 486\" stroke=\"gray\" stroke-width=\"0.2\"/><path d=\"M 62 504 187 446\" stroke=\"gray\" stroke-width=\"0.2\"/><path d=\"M 546 206 574 192\" stroke=\"gray\" stroke-width=\"0.2\"/><path d=\"M 546 206 611 203\" stroke=\"gray\" stroke-width=\"0.2\"/><path d=\"M 546 206 602 226\" stroke=\"gray\" stroke-width=\"0.2\"/><path d=\"M 546 206 508 281\" stroke=\"gray\" stroke-width=\"0.2\"/><path d=\"M 187 446 306 434\" stroke=\"gray\" stroke-width=\"0.2\"/><path d=\"M 187 446 355 324\" stroke=\"gray\" stroke-width=\"0.2\"/><path d=\"M 187 446 110 520\" stroke=\"gray\" stroke-width=\"0.2\"/><path d=\"M 187 446 85 486\" stroke=\"gray\" stroke-width=\"0.2\"/><path d=\"M 187 446 62 504\" stroke=\"gray\" stroke-width=\"0.2\"/><circle cx=\"467\" cy=\"507\" r=\"3.0\" style=\"fill:rgb(80, 107, 218);stroke:black;stroke-width:1.0\"/><circle cx=\"323\" cy=\"398\" r=\"3.0\" style=\"fill:rgb(72, 96, 209);stroke:black;stroke-width:1.0\"/><circle cx=\"362\" cy=\"20\" r=\"3.0\" style=\"fill:rgb(103, 136, 237);stroke:black;stroke-width:1.0\"/><circle cx=\"306\" cy=\"434\" r=\"3.0\" style=\"fill:rgb(82, 110, 220);stroke:black;stroke-width:1.0\"/><circle cx=\"356\" cy=\"121\" r=\"3.0\" style=\"fill:rgb(130, 165, 251);stroke:black;stroke-width:1.0\"/><circle cx=\"179\" cy=\"352\" r=\"3.0\" style=\"fill:rgb(86, 115, 224);stroke:black;stroke-width:1.0\"/><circle cx=\"440\" cy=\"380\" r=\"3.0\" style=\"fill:rgb(76, 102, 214);stroke:black;stroke-width:1.0\"/><circle cx=\"318\" cy=\"298\" r=\"3.0\" style=\"fill:rgb(86, 115, 224);stroke:black;stroke-width:1.0\"/><circle cx=\"537\" cy=\"359\" r=\"3.0\" style=\"fill:rgb(70, 93, 207);stroke:black;stroke-width:1.0\"/><circle cx=\"401\" cy=\"48\" r=\"3.0\" style=\"fill:rgb(103, 136, 237);stroke:black;stroke-width:1.0\"/><circle cx=\"349\" cy=\"204\" r=\"3.0\" style=\"fill:rgb(60, 79, 195);stroke:black;stroke-width:1.0\"/><circle cx=\"237\" cy=\"268\" r=\"3.0\" style=\"fill:rgb(80, 107, 218);stroke:black;stroke-width:1.0\"/><circle cx=\"271\" cy=\"412\" r=\"3.0\" style=\"fill:rgb(72, 96, 209);stroke:black;stroke-width:1.0\"/><circle cx=\"393\" cy=\"332\" r=\"3.0\" style=\"fill:rgb(159, 190, 254);stroke:black;stroke-width:1.0\"/><circle cx=\"428\" cy=\"503\" r=\"3.0\" style=\"fill:rgb(80, 107, 218);stroke:black;stroke-width:1.0\"/><circle cx=\"379\" cy=\"382\" r=\"3.0\" style=\"fill:rgb(82, 110, 220);stroke:black;stroke-width:1.0\"/><circle cx=\"329\" cy=\"28\" r=\"3.0\" style=\"fill:rgb(103, 136, 237);stroke:black;stroke-width:1.0\"/><circle cx=\"321\" cy=\"48\" r=\"3.0\" style=\"fill:rgb(103, 136, 237);stroke:black;stroke-width:1.0\"/><circle cx=\"445\" cy=\"335\" r=\"3.0\" style=\"fill:rgb(76, 102, 214);stroke:black;stroke-width:1.0\"/><circle cx=\"326\" cy=\"358\" r=\"3.0\" style=\"fill:rgb(187, 209, 247);stroke:black;stroke-width:1.0\"/><circle cx=\"355\" cy=\"324\" r=\"3.0\" style=\"fill:rgb(179, 3, 38);stroke:black;stroke-width:1.0\"/><circle cx=\"574\" cy=\"192\" r=\"3.0\" style=\"fill:rgb(88, 118, 226);stroke:black;stroke-width:1.0\"/><circle cx=\"687\" cy=\"292\" r=\"3.0\" style=\"fill:rgb(80, 107, 218);stroke:black;stroke-width:1.0\"/><circle cx=\"611\" cy=\"203\" r=\"3.0\" style=\"fill:rgb(88, 118, 226);stroke:black;stroke-width:1.0\"/><circle cx=\"251\" cy=\"246\" r=\"3.0\" style=\"fill:rgb(80, 107, 218);stroke:black;stroke-width:1.0\"/><circle cx=\"477\" cy=\"344\" r=\"3.0\" style=\"fill:rgb(105, 139, 239);stroke:black;stroke-width:1.0\"/><circle cx=\"655\" cy=\"243\" r=\"3.0\" style=\"fill:rgb(64, 84, 199);stroke:black;stroke-width:1.0\"/><circle cx=\"400\" cy=\"431\" r=\"3.0\" style=\"fill:rgb(66, 88, 202);stroke:black;stroke-width:1.0\"/><circle cx=\"20\" cy=\"370\" r=\"3.0\" style=\"fill:rgb(58, 76, 192);stroke:black;stroke-width:1.0\"/><circle cx=\"201\" cy=\"275\" r=\"3.0\" style=\"fill:rgb(80, 107, 218);stroke:black;stroke-width:1.0\"/><circle cx=\"286\" cy=\"377\" r=\"3.0\" style=\"fill:rgb(86, 115, 224);stroke:black;stroke-width:1.0\"/><circle cx=\"438\" cy=\"350\" r=\"3.0\" style=\"fill:rgb(120, 155, 247);stroke:black;stroke-width:1.0\"/><circle cx=\"579\" cy=\"319\" r=\"3.0\" style=\"fill:rgb(112, 147, 243);stroke:black;stroke-width:1.0\"/><circle cx=\"110\" cy=\"520\" r=\"3.0\" style=\"fill:rgb(88, 118, 226);stroke:black;stroke-width:1.0\"/><circle cx=\"386\" cy=\"32\" r=\"3.0\" style=\"fill:rgb(103, 136, 237);stroke:black;stroke-width:1.0\"/><circle cx=\"414\" cy=\"399\" r=\"3.0\" style=\"fill:rgb(217, 220, 224);stroke:black;stroke-width:1.0\"/><circle cx=\"496\" cy=\"490\" r=\"3.0\" style=\"fill:rgb(80, 107, 218);stroke:black;stroke-width:1.0\"/><circle cx=\"358\" cy=\"55\" r=\"3.0\" style=\"fill:rgb(103, 136, 237);stroke:black;stroke-width:1.0\"/><circle cx=\"720\" cy=\"315\" r=\"3.0\" style=\"fill:rgb(80, 107, 218);stroke:black;stroke-width:1.0\"/><circle cx=\"283\" cy=\"319\" r=\"3.0\" style=\"fill:rgb(86, 115, 224);stroke:black;stroke-width:1.0\"/><circle cx=\"602\" cy=\"226\" r=\"3.0\" style=\"fill:rgb(105, 139, 239);stroke:black;stroke-width:1.0\"/><circle cx=\"85\" cy=\"486\" r=\"3.0\" style=\"fill:rgb(88, 118, 226);stroke:black;stroke-width:1.0\"/><circle cx=\"440\" cy=\"317\" r=\"3.0\" style=\"fill:rgb(105, 139, 239);stroke:black;stroke-width:1.0\"/><circle cx=\"508\" cy=\"281\" r=\"3.0\" style=\"fill:rgb(180, 205, 250);stroke:black;stroke-width:1.0\"/><circle cx=\"62\" cy=\"504\" r=\"3.0\" style=\"fill:rgb(88, 118, 226);stroke:black;stroke-width:1.0\"/><circle cx=\"546\" cy=\"206\" r=\"3.0\" style=\"fill:rgb(88, 118, 226);stroke:black;stroke-width:1.0\"/><circle cx=\"187\" cy=\"446\" r=\"3.0\" style=\"fill:rgb(120, 155, 247);stroke:black;stroke-width:1.0\"/><text font-size=\"10\" x=\"473\" y=\"510\">Franz Kaiser</text><text font-size=\"10\" x=\"329\" y=\"401\">Jan Nagler</text><text font-size=\"10\" x=\"368\" y=\"23\">Elinor Lazarov</text><text font-size=\"10\" x=\"312\" y=\"437\">Jose Casadiego</text><text font-size=\"10\" x=\"362\" y=\"124\">Fred Wolf</text><text font-size=\"10\" x=\"185\" y=\"355\">Nora Molkenthin</text><text font-size=\"10\" x=\"446\" y=\"383\">Christoph Steinacker</text><text font-size=\"10\" x=\"324\" y=\"301\">Benedict Lünsmann</text><text font-size=\"10\" x=\"543\" y=\"362\">Sven Jahnke</text><text font-size=\"10\" x=\"407\" y=\"51\">Melanie Dannemeyer</text><text font-size=\"10\" x=\"355\" y=\"207\">Theo Geisel</text><text font-size=\"10\" x=\"243\" y=\"271\">Denny Fliegner</text><text font-size=\"10\" x=\"277\" y=\"415\">Philipp C. Böttcher</text><text font-size=\"10\" x=\"399\" y=\"335\">Xiaozhu Zhang</text><text font-size=\"10\" x=\"434\" y=\"506\">Maurizio Titz</text><text font-size=\"10\" x=\"385\" y=\"385\">Moritz Matthiae</text><text font-size=\"10\" x=\"335\" y=\"31\">Michael J. Gutnick</text><text font-size=\"10\" x=\"327\" y=\"51\">Andreas Neef</text><text font-size=\"10\" x=\"451\" y=\"338\">David-Maximilian Storch</text><text font-size=\"10\" x=\"332\" y=\"361\">Malte Schröder</text><text font-size=\"10\" x=\"361\" y=\"327\">Marc Timme</text><text font-size=\"10\" x=\"580\" y=\"195\">Aden Forrow</text><text font-size=\"10\" x=\"693\" y=\"295\">Paul Manz</text><text font-size=\"10\" x=\"617\" y=\"206\">Norbert Stoop</text><text font-size=\"10\" x=\"257\" y=\"249\">Frank van Bussel</text><text font-size=\"10\" x=\"483\" y=\"347\">Martin Rohden</text><text font-size=\"10\" x=\"661\" y=\"246\">Francis G. Woodhouse</text><text font-size=\"10\" x=\"406\" y=\"434\">Dimitra Maoutsa</text><text font-size=\"10\" x=\"26\" y=\"373\">Oskar Pfeffer</text><text font-size=\"10\" x=\"207\" y=\"278\">Sebastian Stolzenberg</text><text font-size=\"10\" x=\"292\" y=\"380\">Chengyuan Han</text><text font-size=\"10\" x=\"444\" y=\"353\">Sarah Hallerberg</text><text font-size=\"10\" x=\"585\" y=\"322\">Raoul-Martin Memmesheimer</text><text font-size=\"10\" x=\"116\" y=\"523\">Zoe Piran</text><text font-size=\"10\" x=\"392\" y=\"35\">Barbara Feulner</text><text font-size=\"10\" x=\"420\" y=\"402\">Dirk Witthaut</text><text font-size=\"10\" x=\"502\" y=\"493\">Johannes Kruse</text><text font-size=\"10\" x=\"364\" y=\"58\">Jörg Enderlein</text><text font-size=\"10\" x=\"726\" y=\"318\">Sven Goedeke</text><text font-size=\"10\" x=\"289\" y=\"322\">Justine Wolter</text><text font-size=\"10\" x=\"608\" y=\"229\">Jörn Dunkel</text><text font-size=\"10\" x=\"91\" y=\"489\">Matthew Ricci</text><text font-size=\"10\" x=\"446\" y=\"320\">Debsankha Manik</text><text font-size=\"10\" x=\"514\" y=\"284\">Henrik Ronellenfitsch</text><text font-size=\"10\" x=\"68\" y=\"507\">Noa Moriel</text><text font-size=\"10\" x=\"552\" y=\"209\">Josephine Yu</text><text font-size=\"10\" x=\"193\" y=\"449\">Mor Nitzan</text></svg>"
      ],
      "text/plain": [
       "<IPython.core.display.SVG object>"
      ]
     },
     "execution_count": 43,
     "metadata": {},
     "output_type": "execute_result"
    }
   ],
   "source": [
    "G_check = community_context_dict[communities[0]]['G']\n",
    "draw_community(G_check)"
   ]
  },
  {
   "cell_type": "code",
   "execution_count": 44,
   "id": "17a5d5fd",
   "metadata": {},
   "outputs": [
    {
     "data": {
      "text/plain": [
       "['A Dual Method for Computing Power Transfer Distribution Factors',\n",
       " 'Adhesion-induced Discontinuous Transitions and Classifying Social Networks',\n",
       " 'An axon initial segment is required for temporal precision in action potential encoding by neuronal populations',\n",
       " 'Antagonistic Phenomena in Network Dynamics',\n",
       " 'Autonomous actuation of zero modes in mechanical networks far from equilibrium',\n",
       " 'Collective Relaxation Dynamics of Small-World Networks',\n",
       " 'Competitive percolation strategies for network recovery',\n",
       " 'Counting Complex Disordered States by Efficient Pattern Matching: Chromatic Polynomials and Potts Partition Functions',\n",
       " 'Demand-driven design of bicycle infrastructure networks for improved urban bikeability',\n",
       " 'Designing Complex Networks',\n",
       " 'Does dynamics reflect topology in directed networks?',\n",
       " 'Dynamics and computation in mixed networks containing neurons that accelerate towards spiking',\n",
       " 'Fluctuation-induced Distributed Resonances in Oscillatory Networks',\n",
       " 'Formation of trade networks by economies of scale and product differentiation',\n",
       " 'Guiding synchrony through random networks',\n",
       " 'Hysteretic percolation from locally optimal individual decisions',\n",
       " 'Inferring network connectivity from event timing patterns',\n",
       " 'Inverse Design of Discrete Mechanical Metamaterials',\n",
       " 'Network susceptibilities: theory and applications',\n",
       " 'Nonlocal effects and counter measures in cascading failures',\n",
       " 'Nonlocal failures in complex supply networks by single link additions',\n",
       " 'Optimal elasticity of biological networks',\n",
       " 'Phase2vec: Dynamical systems embedding with a physics-informed convolutional network',\n",
       " \"Predicting Braess' Paradox in Supply and Transport Networks\",\n",
       " 'Predicting Dynamic Stability from Static Features in Power Grid Models using Machine Learning',\n",
       " 'Quantifying Transient Spreading Dynamics on Networks',\n",
       " 'Relative Canonical Network Ensembles -- (Mis)characterizing Small-World Networks',\n",
       " 'Revealing Network Connectivity From Dynamics',\n",
       " 'Revealing networks from dynamics: an introduction',\n",
       " 'Revealing physical interaction networks from statistics of collective dynamics',\n",
       " 'Small-world spectra in mean field theory',\n",
       " 'Spectral Design of Active Mechanical and Electrical Metamaterials',\n",
       " 'The limits of multifunctionality in tunable networks',\n",
       " 'The winner takes it all -- How to win network globalization',\n",
       " 'Topological Speed Limits to Network Synchronization']"
      ]
     },
     "execution_count": 44,
     "metadata": {},
     "output_type": "execute_result"
    }
   ],
   "source": [
    "show_author_papers(df, G_check)"
   ]
  },
  {
   "cell_type": "code",
   "execution_count": 65,
   "id": "91953657",
   "metadata": {},
   "outputs": [
    {
     "name": "stdout",
     "output_type": "stream",
     "text": [
      "Density: 0.11153846153846154\n",
      "Node Count: 40\n"
     ]
    },
    {
     "data": {
      "image/svg+xml": [
       "<svg height=\"540\" width=\"850.0\" xmlns=\"http://www.w3.org/2000/svg\"><path d=\"M 120 143 218 140\" stroke=\"gray\" stroke-width=\"0.2\"/><path d=\"M 120 143 185 253\" stroke=\"gray\" stroke-width=\"0.2\"/><path d=\"M 120 143 153 122\" stroke=\"gray\" stroke-width=\"0.2\"/><path d=\"M 218 140 120 143\" stroke=\"gray\" stroke-width=\"0.2\"/><path d=\"M 218 140 323 193\" stroke=\"gray\" stroke-width=\"0.2\"/><path d=\"M 218 140 296 102\" stroke=\"gray\" stroke-width=\"0.2\"/><path d=\"M 218 140 185 253\" stroke=\"gray\" stroke-width=\"0.2\"/><path d=\"M 218 140 153 122\" stroke=\"gray\" stroke-width=\"0.2\"/><path d=\"M 218 140 251 165\" stroke=\"gray\" stroke-width=\"0.2\"/><path d=\"M 22 276 185 253\" stroke=\"gray\" stroke-width=\"0.2\"/><path d=\"M 22 276 59 322\" stroke=\"gray\" stroke-width=\"0.2\"/><path d=\"M 22 276 20 313\" stroke=\"gray\" stroke-width=\"0.2\"/><path d=\"M 161 375 112 369\" stroke=\"gray\" stroke-width=\"0.2\"/><path d=\"M 161 375 185 253\" stroke=\"gray\" stroke-width=\"0.2\"/><path d=\"M 593 181 672 121\" stroke=\"gray\" stroke-width=\"0.2\"/><path d=\"M 593 181 626 88\" stroke=\"gray\" stroke-width=\"0.2\"/><path d=\"M 593 181 580 255\" stroke=\"gray\" stroke-width=\"0.2\"/><path d=\"M 593 181 553 141\" stroke=\"gray\" stroke-width=\"0.2\"/><path d=\"M 593 181 553 213\" stroke=\"gray\" stroke-width=\"0.2\"/><path d=\"M 593 181 455 285\" stroke=\"gray\" stroke-width=\"0.2\"/><path d=\"M 250 268 319 282\" stroke=\"gray\" stroke-width=\"0.2\"/><path d=\"M 250 268 127 275\" stroke=\"gray\" stroke-width=\"0.2\"/><path d=\"M 250 268 110 231\" stroke=\"gray\" stroke-width=\"0.2\"/><path d=\"M 250 268 187 201\" stroke=\"gray\" stroke-width=\"0.2\"/><path d=\"M 250 268 185 253\" stroke=\"gray\" stroke-width=\"0.2\"/><path d=\"M 250 268 305 312\" stroke=\"gray\" stroke-width=\"0.2\"/><path d=\"M 250 268 455 285\" stroke=\"gray\" stroke-width=\"0.2\"/><path d=\"M 672 121 593 181\" stroke=\"gray\" stroke-width=\"0.2\"/><path d=\"M 672 121 553 141\" stroke=\"gray\" stroke-width=\"0.2\"/><path d=\"M 323 193 218 140\" stroke=\"gray\" stroke-width=\"0.2\"/><path d=\"M 323 193 296 102\" stroke=\"gray\" stroke-width=\"0.2\"/><path d=\"M 323 193 431 208\" stroke=\"gray\" stroke-width=\"0.2\"/><path d=\"M 323 193 185 253\" stroke=\"gray\" stroke-width=\"0.2\"/><path d=\"M 323 193 251 165\" stroke=\"gray\" stroke-width=\"0.2\"/><path d=\"M 323 193 455 285\" stroke=\"gray\" stroke-width=\"0.2\"/><path d=\"M 540 20 490 31\" stroke=\"gray\" stroke-width=\"0.2\"/><path d=\"M 540 20 553 141\" stroke=\"gray\" stroke-width=\"0.2\"/><path d=\"M 517 410 482 423\" stroke=\"gray\" stroke-width=\"0.2\"/><path d=\"M 517 410 453 425\" stroke=\"gray\" stroke-width=\"0.2\"/><path d=\"M 517 410 455 285\" stroke=\"gray\" stroke-width=\"0.2\"/><path d=\"M 569 347 580 255\" stroke=\"gray\" stroke-width=\"0.2\"/><path d=\"M 569 347 455 285\" stroke=\"gray\" stroke-width=\"0.2\"/><path d=\"M 112 369 161 375\" stroke=\"gray\" stroke-width=\"0.2\"/><path d=\"M 112 369 185 253\" stroke=\"gray\" stroke-width=\"0.2\"/><path d=\"M 626 88 593 181\" stroke=\"gray\" stroke-width=\"0.2\"/><path d=\"M 626 88 553 141\" stroke=\"gray\" stroke-width=\"0.2\"/><path d=\"M 574 311 580 255\" stroke=\"gray\" stroke-width=\"0.2\"/><path d=\"M 574 311 619 323\" stroke=\"gray\" stroke-width=\"0.2\"/><path d=\"M 574 311 620 290\" stroke=\"gray\" stroke-width=\"0.2\"/><path d=\"M 574 311 455 285\" stroke=\"gray\" stroke-width=\"0.2\"/><path d=\"M 484 520 453 494\" stroke=\"gray\" stroke-width=\"0.2\"/><path d=\"M 484 520 482 423\" stroke=\"gray\" stroke-width=\"0.2\"/><path d=\"M 484 520 575 474\" stroke=\"gray\" stroke-width=\"0.2\"/><path d=\"M 319 282 250 268\" stroke=\"gray\" stroke-width=\"0.2\"/><path d=\"M 319 282 185 253\" stroke=\"gray\" stroke-width=\"0.2\"/><path d=\"M 319 282 305 312\" stroke=\"gray\" stroke-width=\"0.2\"/><path d=\"M 319 282 455 285\" stroke=\"gray\" stroke-width=\"0.2\"/><path d=\"M 296 102 218 140\" stroke=\"gray\" stroke-width=\"0.2\"/><path d=\"M 296 102 323 193\" stroke=\"gray\" stroke-width=\"0.2\"/><path d=\"M 296 102 251 165\" stroke=\"gray\" stroke-width=\"0.2\"/><path d=\"M 453 494 484 520\" stroke=\"gray\" stroke-width=\"0.2\"/><path d=\"M 453 494 482 423\" stroke=\"gray\" stroke-width=\"0.2\"/><path d=\"M 453 494 575 474\" stroke=\"gray\" stroke-width=\"0.2\"/><path d=\"M 127 275 250 268\" stroke=\"gray\" stroke-width=\"0.2\"/><path d=\"M 127 275 110 231\" stroke=\"gray\" stroke-width=\"0.2\"/><path d=\"M 127 275 185 253\" stroke=\"gray\" stroke-width=\"0.2\"/><path d=\"M 720 420 575 474\" stroke=\"gray\" stroke-width=\"0.2\"/><path d=\"M 482 423 517 410\" stroke=\"gray\" stroke-width=\"0.2\"/><path d=\"M 482 423 484 520\" stroke=\"gray\" stroke-width=\"0.2\"/><path d=\"M 482 423 453 494\" stroke=\"gray\" stroke-width=\"0.2\"/><path d=\"M 482 423 575 474\" stroke=\"gray\" stroke-width=\"0.2\"/><path d=\"M 482 423 453 425\" stroke=\"gray\" stroke-width=\"0.2\"/><path d=\"M 482 423 455 285\" stroke=\"gray\" stroke-width=\"0.2\"/><path d=\"M 110 231 250 268\" stroke=\"gray\" stroke-width=\"0.2\"/><path d=\"M 110 231 127 275\" stroke=\"gray\" stroke-width=\"0.2\"/><path d=\"M 110 231 40 198\" stroke=\"gray\" stroke-width=\"0.2\"/><path d=\"M 110 231 185 253\" stroke=\"gray\" stroke-width=\"0.2\"/><path d=\"M 40 198 110 231\" stroke=\"gray\" stroke-width=\"0.2\"/><path d=\"M 40 198 185 253\" stroke=\"gray\" stroke-width=\"0.2\"/><path d=\"M 490 31 540 20\" stroke=\"gray\" stroke-width=\"0.2\"/><path d=\"M 490 31 553 141\" stroke=\"gray\" stroke-width=\"0.2\"/><path d=\"M 580 255 593 181\" stroke=\"gray\" stroke-width=\"0.2\"/><path d=\"M 580 255 569 347\" stroke=\"gray\" stroke-width=\"0.2\"/><path d=\"M 580 255 574 311\" stroke=\"gray\" stroke-width=\"0.2\"/><path d=\"M 580 255 619 323\" stroke=\"gray\" stroke-width=\"0.2\"/><path d=\"M 580 255 620 290\" stroke=\"gray\" stroke-width=\"0.2\"/><path d=\"M 580 255 553 141\" stroke=\"gray\" stroke-width=\"0.2\"/><path d=\"M 580 255 553 213\" stroke=\"gray\" stroke-width=\"0.2\"/><path d=\"M 580 255 455 285\" stroke=\"gray\" stroke-width=\"0.2\"/><path d=\"M 575 474 484 520\" stroke=\"gray\" stroke-width=\"0.2\"/><path d=\"M 575 474 453 494\" stroke=\"gray\" stroke-width=\"0.2\"/><path d=\"M 575 474 720 420\" stroke=\"gray\" stroke-width=\"0.2\"/><path d=\"M 575 474 482 423\" stroke=\"gray\" stroke-width=\"0.2\"/><path d=\"M 187 201 250 268\" stroke=\"gray\" stroke-width=\"0.2\"/><path d=\"M 187 201 185 253\" stroke=\"gray\" stroke-width=\"0.2\"/><path d=\"M 187 201 251 165\" stroke=\"gray\" stroke-width=\"0.2\"/><path d=\"M 453 425 517 410\" stroke=\"gray\" stroke-width=\"0.2\"/><path d=\"M 453 425 482 423\" stroke=\"gray\" stroke-width=\"0.2\"/><path d=\"M 453 425 455 285\" stroke=\"gray\" stroke-width=\"0.2\"/><path d=\"M 431 208 323 193\" stroke=\"gray\" stroke-width=\"0.2\"/><path d=\"M 431 208 455 285\" stroke=\"gray\" stroke-width=\"0.2\"/><path d=\"M 619 323 574 311\" stroke=\"gray\" stroke-width=\"0.2\"/><path d=\"M 619 323 580 255\" stroke=\"gray\" stroke-width=\"0.2\"/><path d=\"M 619 323 620 290\" stroke=\"gray\" stroke-width=\"0.2\"/><path d=\"M 619 323 455 285\" stroke=\"gray\" stroke-width=\"0.2\"/><path d=\"M 185 253 120 143\" stroke=\"gray\" stroke-width=\"0.2\"/><path d=\"M 185 253 218 140\" stroke=\"gray\" stroke-width=\"0.2\"/><path d=\"M 185 253 22 276\" stroke=\"gray\" stroke-width=\"0.2\"/><path d=\"M 185 253 161 375\" stroke=\"gray\" stroke-width=\"0.2\"/><path d=\"M 185 253 250 268\" stroke=\"gray\" stroke-width=\"0.2\"/><path d=\"M 185 253 323 193\" stroke=\"gray\" stroke-width=\"0.2\"/><path d=\"M 185 253 112 369\" stroke=\"gray\" stroke-width=\"0.2\"/><path d=\"M 185 253 319 282\" stroke=\"gray\" stroke-width=\"0.2\"/><path d=\"M 185 253 127 275\" stroke=\"gray\" stroke-width=\"0.2\"/><path d=\"M 185 253 110 231\" stroke=\"gray\" stroke-width=\"0.2\"/><path d=\"M 185 253 40 198\" stroke=\"gray\" stroke-width=\"0.2\"/><path d=\"M 185 253 187 201\" stroke=\"gray\" stroke-width=\"0.2\"/><path d=\"M 185 253 153 122\" stroke=\"gray\" stroke-width=\"0.2\"/><path d=\"M 185 253 251 165\" stroke=\"gray\" stroke-width=\"0.2\"/><path d=\"M 185 253 59 322\" stroke=\"gray\" stroke-width=\"0.2\"/><path d=\"M 185 253 20 313\" stroke=\"gray\" stroke-width=\"0.2\"/><path d=\"M 185 253 305 312\" stroke=\"gray\" stroke-width=\"0.2\"/><path d=\"M 185 253 455 285\" stroke=\"gray\" stroke-width=\"0.2\"/><path d=\"M 620 290 574 311\" stroke=\"gray\" stroke-width=\"0.2\"/><path d=\"M 620 290 580 255\" stroke=\"gray\" stroke-width=\"0.2\"/><path d=\"M 620 290 619 323\" stroke=\"gray\" stroke-width=\"0.2\"/><path d=\"M 620 290 455 285\" stroke=\"gray\" stroke-width=\"0.2\"/><path d=\"M 153 122 120 143\" stroke=\"gray\" stroke-width=\"0.2\"/><path d=\"M 153 122 218 140\" stroke=\"gray\" stroke-width=\"0.2\"/><path d=\"M 153 122 185 253\" stroke=\"gray\" stroke-width=\"0.2\"/><path d=\"M 251 165 218 140\" stroke=\"gray\" stroke-width=\"0.2\"/><path d=\"M 251 165 323 193\" stroke=\"gray\" stroke-width=\"0.2\"/><path d=\"M 251 165 296 102\" stroke=\"gray\" stroke-width=\"0.2\"/><path d=\"M 251 165 187 201\" stroke=\"gray\" stroke-width=\"0.2\"/><path d=\"M 251 165 185 253\" stroke=\"gray\" stroke-width=\"0.2\"/><path d=\"M 59 322 22 276\" stroke=\"gray\" stroke-width=\"0.2\"/><path d=\"M 59 322 185 253\" stroke=\"gray\" stroke-width=\"0.2\"/><path d=\"M 59 322 20 313\" stroke=\"gray\" stroke-width=\"0.2\"/><path d=\"M 553 141 593 181\" stroke=\"gray\" stroke-width=\"0.2\"/><path d=\"M 553 141 672 121\" stroke=\"gray\" stroke-width=\"0.2\"/><path d=\"M 553 141 540 20\" stroke=\"gray\" stroke-width=\"0.2\"/><path d=\"M 553 141 626 88\" stroke=\"gray\" stroke-width=\"0.2\"/><path d=\"M 553 141 490 31\" stroke=\"gray\" stroke-width=\"0.2\"/><path d=\"M 553 141 580 255\" stroke=\"gray\" stroke-width=\"0.2\"/><path d=\"M 553 141 553 213\" stroke=\"gray\" stroke-width=\"0.2\"/><path d=\"M 553 141 455 285\" stroke=\"gray\" stroke-width=\"0.2\"/><path d=\"M 20 313 22 276\" stroke=\"gray\" stroke-width=\"0.2\"/><path d=\"M 20 313 185 253\" stroke=\"gray\" stroke-width=\"0.2\"/><path d=\"M 20 313 59 322\" stroke=\"gray\" stroke-width=\"0.2\"/><path d=\"M 553 213 593 181\" stroke=\"gray\" stroke-width=\"0.2\"/><path d=\"M 553 213 580 255\" stroke=\"gray\" stroke-width=\"0.2\"/><path d=\"M 553 213 553 141\" stroke=\"gray\" stroke-width=\"0.2\"/><path d=\"M 553 213 455 285\" stroke=\"gray\" stroke-width=\"0.2\"/><path d=\"M 305 312 250 268\" stroke=\"gray\" stroke-width=\"0.2\"/><path d=\"M 305 312 319 282\" stroke=\"gray\" stroke-width=\"0.2\"/><path d=\"M 305 312 185 253\" stroke=\"gray\" stroke-width=\"0.2\"/><path d=\"M 305 312 455 285\" stroke=\"gray\" stroke-width=\"0.2\"/><path d=\"M 455 285 593 181\" stroke=\"gray\" stroke-width=\"0.2\"/><path d=\"M 455 285 250 268\" stroke=\"gray\" stroke-width=\"0.2\"/><path d=\"M 455 285 323 193\" stroke=\"gray\" stroke-width=\"0.2\"/><path d=\"M 455 285 517 410\" stroke=\"gray\" stroke-width=\"0.2\"/><path d=\"M 455 285 569 347\" stroke=\"gray\" stroke-width=\"0.2\"/><path d=\"M 455 285 574 311\" stroke=\"gray\" stroke-width=\"0.2\"/><path d=\"M 455 285 319 282\" stroke=\"gray\" stroke-width=\"0.2\"/><path d=\"M 455 285 482 423\" stroke=\"gray\" stroke-width=\"0.2\"/><path d=\"M 455 285 580 255\" stroke=\"gray\" stroke-width=\"0.2\"/><path d=\"M 455 285 453 425\" stroke=\"gray\" stroke-width=\"0.2\"/><path d=\"M 455 285 431 208\" stroke=\"gray\" stroke-width=\"0.2\"/><path d=\"M 455 285 619 323\" stroke=\"gray\" stroke-width=\"0.2\"/><path d=\"M 455 285 185 253\" stroke=\"gray\" stroke-width=\"0.2\"/><path d=\"M 455 285 620 290\" stroke=\"gray\" stroke-width=\"0.2\"/><path d=\"M 455 285 553 141\" stroke=\"gray\" stroke-width=\"0.2\"/><path d=\"M 455 285 553 213\" stroke=\"gray\" stroke-width=\"0.2\"/><path d=\"M 455 285 305 312\" stroke=\"gray\" stroke-width=\"0.2\"/><circle cx=\"120\" cy=\"143\" r=\"3.0\" style=\"fill:rgb(86, 115, 224);stroke:black;stroke-width:1.0\"/><circle cx=\"218\" cy=\"140\" r=\"3.0\" style=\"fill:rgb(145, 179, 254);stroke:black;stroke-width:1.0\"/><circle cx=\"22\" cy=\"276\" r=\"3.0\" style=\"fill:rgb(88, 118, 226);stroke:black;stroke-width:1.0\"/><circle cx=\"161\" cy=\"375\" r=\"3.0\" style=\"fill:rgb(70, 93, 207);stroke:black;stroke-width:1.0\"/><circle cx=\"593\" cy=\"181\" r=\"3.0\" style=\"fill:rgb(148, 181, 254);stroke:black;stroke-width:1.0\"/><circle cx=\"250\" cy=\"268\" r=\"3.0\" style=\"fill:rgb(159, 190, 254);stroke:black;stroke-width:1.0\"/><circle cx=\"672\" cy=\"121\" r=\"3.0\" style=\"fill:rgb(66, 88, 202);stroke:black;stroke-width:1.0\"/><circle cx=\"323\" cy=\"193\" r=\"3.0\" style=\"fill:rgb(141, 175, 253);stroke:black;stroke-width:1.0\"/><circle cx=\"540\" cy=\"20\" r=\"3.0\" style=\"fill:rgb(72, 96, 209);stroke:black;stroke-width:1.0\"/><circle cx=\"517\" cy=\"410\" r=\"3.0\" style=\"fill:rgb(86, 115, 224);stroke:black;stroke-width:1.0\"/><circle cx=\"569\" cy=\"347\" r=\"3.0\" style=\"fill:rgb(64, 84, 199);stroke:black;stroke-width:1.0\"/><circle cx=\"112\" cy=\"369\" r=\"3.0\" style=\"fill:rgb(70, 93, 207);stroke:black;stroke-width:1.0\"/><circle cx=\"626\" cy=\"88\" r=\"3.0\" style=\"fill:rgb(66, 88, 202);stroke:black;stroke-width:1.0\"/><circle cx=\"574\" cy=\"311\" r=\"3.0\" style=\"fill:rgb(99, 131, 234);stroke:black;stroke-width:1.0\"/><circle cx=\"484\" cy=\"520\" r=\"3.0\" style=\"fill:rgb(99, 131, 234);stroke:black;stroke-width:1.0\"/><circle cx=\"319\" cy=\"282\" r=\"3.0\" style=\"fill:rgb(99, 131, 234);stroke:black;stroke-width:1.0\"/><circle cx=\"296\" cy=\"102\" r=\"3.0\" style=\"fill:rgb(82, 110, 220);stroke:black;stroke-width:1.0\"/><circle cx=\"453\" cy=\"494\" r=\"3.0\" style=\"fill:rgb(99, 131, 234);stroke:black;stroke-width:1.0\"/><circle cx=\"127\" cy=\"275\" r=\"3.0\" style=\"fill:rgb(82, 110, 220);stroke:black;stroke-width:1.0\"/><circle cx=\"720\" cy=\"420\" r=\"3.0\" style=\"fill:rgb(58, 76, 192);stroke:black;stroke-width:1.0\"/><circle cx=\"482\" cy=\"423\" r=\"3.0\" style=\"fill:rgb(163, 193, 254);stroke:black;stroke-width:1.0\"/><circle cx=\"110\" cy=\"231\" r=\"3.0\" style=\"fill:rgb(105, 139, 239);stroke:black;stroke-width:1.0\"/><circle cx=\"40\" cy=\"198\" r=\"3.0\" style=\"fill:rgb(66, 88, 202);stroke:black;stroke-width:1.0\"/><circle cx=\"490\" cy=\"31\" r=\"3.0\" style=\"fill:rgb(72, 96, 209);stroke:black;stroke-width:1.0\"/><circle cx=\"580\" cy=\"255\" r=\"3.0\" style=\"fill:rgb(180, 205, 250);stroke:black;stroke-width:1.0\"/><circle cx=\"575\" cy=\"474\" r=\"3.0\" style=\"fill:rgb(134, 169, 252);stroke:black;stroke-width:1.0\"/><circle cx=\"187\" cy=\"201\" r=\"3.0\" style=\"fill:rgb(82, 110, 220);stroke:black;stroke-width:1.0\"/><circle cx=\"453\" cy=\"425\" r=\"3.0\" style=\"fill:rgb(86, 115, 224);stroke:black;stroke-width:1.0\"/><circle cx=\"431\" cy=\"208\" r=\"3.0\" style=\"fill:rgb(64, 84, 199);stroke:black;stroke-width:1.0\"/><circle cx=\"619\" cy=\"323\" r=\"3.0\" style=\"fill:rgb(99, 131, 234);stroke:black;stroke-width:1.0\"/><circle cx=\"185\" cy=\"253\" r=\"3.0\" style=\"fill:rgb(179, 3, 38);stroke:black;stroke-width:1.0\"/><circle cx=\"620\" cy=\"290\" r=\"3.0\" style=\"fill:rgb(99, 131, 234);stroke:black;stroke-width:1.0\"/><circle cx=\"153\" cy=\"122\" r=\"3.0\" style=\"fill:rgb(86, 115, 224);stroke:black;stroke-width:1.0\"/><circle cx=\"251\" cy=\"165\" r=\"3.0\" style=\"fill:rgb(123, 158, 248);stroke:black;stroke-width:1.0\"/><circle cx=\"59\" cy=\"322\" r=\"3.0\" style=\"fill:rgb(88, 118, 226);stroke:black;stroke-width:1.0\"/><circle cx=\"553\" cy=\"141\" r=\"3.0\" style=\"fill:rgb(199, 214, 240);stroke:black;stroke-width:1.0\"/><circle cx=\"20\" cy=\"313\" r=\"3.0\" style=\"fill:rgb(88, 118, 226);stroke:black;stroke-width:1.0\"/><circle cx=\"553\" cy=\"213\" r=\"3.0\" style=\"fill:rgb(103, 136, 237);stroke:black;stroke-width:1.0\"/><circle cx=\"305\" cy=\"312\" r=\"3.0\" style=\"fill:rgb(99, 131, 234);stroke:black;stroke-width:1.0\"/><circle cx=\"455\" cy=\"285\" r=\"3.0\" style=\"fill:rgb(217, 88, 71);stroke:black;stroke-width:1.0\"/><text font-size=\"10\" x=\"126\" y=\"146\">Francesco Arceri</text><text font-size=\"10\" x=\"224\" y=\"143\">Giulio Biroli</text><text font-size=\"10\" x=\"28\" y=\"279\">Grzegorz Szamel</text><text font-size=\"10\" x=\"167\" y=\"378\">Valentin Raban</text><text font-size=\"10\" x=\"599\" y=\"184\">Silvio Franz</text><text font-size=\"10\" x=\"256\" y=\"271\">Camille Scalliet</text><text font-size=\"10\" x=\"678\" y=\"124\">Claudio Donati</text><text font-size=\"10\" x=\"329\" y=\"196\">Misaki Ozawa</text><text font-size=\"10\" x=\"546\" y=\"23\">Osvaldo Zagordi</text><text font-size=\"10\" x=\"523\" y=\"413\">Daniel R. Reid</text><text font-size=\"10\" x=\"575\" y=\"350\">Hajime Yoshino</text><text font-size=\"10\" x=\"118\" y=\"372\">Peter C. W. Holdsworth</text><text font-size=\"10\" x=\"632\" y=\"91\">Valerio Astuti</text><text font-size=\"10\" x=\"580\" y=\"314\">Harukuni Ikeda</text><text font-size=\"10\" x=\"490\" y=\"523\">Fabian Byléhn</text><text font-size=\"10\" x=\"325\" y=\"285\">Dmytro Khomenko</text><text font-size=\"10\" x=\"302\" y=\"105\">Saverio Rossi</text><text font-size=\"10\" x=\"459\" y=\"497\">Dan Mendels</text><text font-size=\"10\" x=\"133\" y=\"278\">M. D. Ediger</text><text font-size=\"10\" x=\"726\" y=\"423\">Robert M. Elder</text><text font-size=\"10\" x=\"488\" y=\"426\">Juan J. de Pablo</text><text font-size=\"10\" x=\"116\" y=\"234\">Cecilia Herrero</text><text font-size=\"10\" x=\"46\" y=\"201\">Mark D. Ediger</text><text font-size=\"10\" x=\"496\" y=\"34\">Michele Leone</text><text font-size=\"10\" x=\"586\" y=\"258\">Pierfrancesco Urbani</text><text font-size=\"10\" x=\"581\" y=\"477\">Timothy W. Sirk</text><text font-size=\"10\" x=\"193\" y=\"204\">Benjamin Guiselin</text><text font-size=\"10\" x=\"459\" y=\"428\">Beatriz Seoane</text><text font-size=\"10\" x=\"437\" y=\"211\">Yasutaka Iwashita</text><text font-size=\"10\" x=\"625\" y=\"326\">Matthieu Wyart</text><text font-size=\"10\" x=\"191\" y=\"256\">Ludovic Berthier</text><text font-size=\"10\" x=\"626\" y=\"293\">Carolina Brito</text><text font-size=\"10\" x=\"159\" y=\"125\">François P. Landes</text><text font-size=\"10\" x=\"257\" y=\"168\">Gilles Tarjus</text><text font-size=\"10\" x=\"65\" y=\"325\">Elijah Flenner</text><text font-size=\"10\" x=\"559\" y=\"144\">Giorgio Parisi</text><text font-size=\"10\" x=\"26\" y=\"316\">Lijin Wang</text><text font-size=\"10\" x=\"559\" y=\"216\">Maksim Sevelev</text><text font-size=\"10\" x=\"311\" y=\"315\">David R. Reichman</text><text font-size=\"10\" x=\"461\" y=\"288\">Francesco Zamponi</text></svg>"
      ],
      "text/plain": [
       "<IPython.core.display.SVG object>"
      ]
     },
     "execution_count": 65,
     "metadata": {},
     "output_type": "execute_result"
    }
   ],
   "source": [
    "G_check = community_context_dict[communities[1]]['G']\n",
    "draw_community(G_check)"
   ]
  },
  {
   "cell_type": "code",
   "execution_count": 46,
   "id": "b6a3082a",
   "metadata": {},
   "outputs": [
    {
     "data": {
      "text/plain": [
       "['A stability-reversibility map unifies elasticity, plasticity, yielding and jamming in hard sphere glasses',\n",
       " 'A unified framework for non-Brownian suspension flows and soft amorphous solids',\n",
       " 'Attractor Neural Networks',\n",
       " 'Computer simulations of the glass transition and glassy materials',\n",
       " 'Creating bulk ultrastable glasses by random particle bonding',\n",
       " 'Depletion of two-level systems in ultrastable computer-generated glasses',\n",
       " 'Direct numerical analysis of dynamic facilitation in glass-forming liquids',\n",
       " 'Edge Mode Amplification in Disordered Elastic Networks',\n",
       " 'Effects of compression on the vibrational modes of marginally jammed solids',\n",
       " 'Emergence of a random field at the yielding transition of a mean-field Elasto-Plastic model',\n",
       " 'Emergence of rigidity at the structural glass transition: a first principle computation',\n",
       " 'Excess wings and asymmetric relaxation spectra in a facilitated trap model',\n",
       " 'Far-from-equilibrium criticality in the Random Field Ising Model with Eshelby Interactions',\n",
       " 'Finite size corrections to random Boolean networks',\n",
       " 'Front propagation in ultrastable glasses is dynamically heterogeneous',\n",
       " 'Glasses and aging: A Statistical Mechanics Perspective',\n",
       " 'Identifying non-affine softening modes in glassy polymer networks: A pathway to chemical design',\n",
       " 'Lattice Glass Models',\n",
       " 'Low-frequency vibrational modes of stable glasses',\n",
       " 'Low-temperature anomalies of a vapor deposited glass',\n",
       " 'Machine-learning-assisted Monte Carlo fails at sampling computationally hard problems',\n",
       " 'Microscopic origin of excess wings in relaxation spectra of supercooled liquids',\n",
       " 'Nature of excitations and defects in structural glasses',\n",
       " 'New analysis of the free energy cost of interfaces in spin glasses',\n",
       " 'Nobel Lecture: Multiple equilibria',\n",
       " 'Random-field Ising model criticality in a glass-forming liquid',\n",
       " 'Rare events and disorder control the brittle yielding of well-annealed amorphous solids',\n",
       " 'Rigidity-based approach to the boson peak in amorphous solids: from sphere packing to amorphous silica',\n",
       " 'Role of fluctuations in the yielding transition of two-dimensional glasses',\n",
       " 'Scaling of phononic transport with connectivity in amorphous solids',\n",
       " 'Scaling theory for the statistics of slip at frictional interfaces',\n",
       " 'Simulations of driven overdamped frictionless hard spheres',\n",
       " 'Stability at Random Close Packing',\n",
       " 'Statistical mechanics of coupled supercooled liquids in finite dimensions',\n",
       " 'Systematic Modification of Functionality in Disordered Elastic Networks Through Free Energy Surface Tailoring',\n",
       " 'Theory of Non-linear Susceptibility and Correlation Length in Glasses and Liquids',\n",
       " 'Thirty milliseconds in the life of a supercooled liquid',\n",
       " 'Two-step devitrification of ultrastable glasses',\n",
       " 'Understanding the fragile-to-strong transition in silica from microscopic dynamics',\n",
       " 'Universality of jamming of non-spherical particles',\n",
       " 'Universality of the SAT-UNSAT (jamming) threshold in non-convex continuous constraint satisfaction problems',\n",
       " 'Violation of the fluctuation-dissipation theorem and effective temperatures in spin ice']"
      ]
     },
     "execution_count": 46,
     "metadata": {},
     "output_type": "execute_result"
    }
   ],
   "source": [
    "show_author_papers(df, G_check)"
   ]
  },
  {
   "cell_type": "code",
   "execution_count": 47,
   "id": "359b8f0e",
   "metadata": {},
   "outputs": [
    {
     "name": "stdout",
     "output_type": "stream",
     "text": [
      "Density: 0.11932773109243698\n",
      "Node Count: 35\n"
     ]
    },
    {
     "data": {
      "image/svg+xml": [
       "<svg height=\"540\" width=\"855.0\" xmlns=\"http://www.w3.org/2000/svg\"><path d=\"M 345 481 307 500\" stroke=\"gray\" stroke-width=\"0.2\"/><path d=\"M 345 481 331 453\" stroke=\"gray\" stroke-width=\"0.2\"/><path d=\"M 345 481 204 436\" stroke=\"gray\" stroke-width=\"0.2\"/><path d=\"M 345 481 295 473\" stroke=\"gray\" stroke-width=\"0.2\"/><path d=\"M 688 291 694 260\" stroke=\"gray\" stroke-width=\"0.2\"/><path d=\"M 688 291 647 282\" stroke=\"gray\" stroke-width=\"0.2\"/><path d=\"M 688 291 576 220\" stroke=\"gray\" stroke-width=\"0.2\"/><path d=\"M 38 269 87 336\" stroke=\"gray\" stroke-width=\"0.2\"/><path d=\"M 38 269 20 292\" stroke=\"gray\" stroke-width=\"0.2\"/><path d=\"M 38 269 78 270\" stroke=\"gray\" stroke-width=\"0.2\"/><path d=\"M 38 269 114 325\" stroke=\"gray\" stroke-width=\"0.2\"/><path d=\"M 331 38 442 100\" stroke=\"gray\" stroke-width=\"0.2\"/><path d=\"M 331 38 368 53\" stroke=\"gray\" stroke-width=\"0.2\"/><path d=\"M 331 38 321 72\" stroke=\"gray\" stroke-width=\"0.2\"/><path d=\"M 140 371 204 436\" stroke=\"gray\" stroke-width=\"0.2\"/><path d=\"M 140 371 87 336\" stroke=\"gray\" stroke-width=\"0.2\"/><path d=\"M 140 371 114 325\" stroke=\"gray\" stroke-width=\"0.2\"/><path d=\"M 442 100 331 38\" stroke=\"gray\" stroke-width=\"0.2\"/><path d=\"M 442 100 368 53\" stroke=\"gray\" stroke-width=\"0.2\"/><path d=\"M 442 100 576 220\" stroke=\"gray\" stroke-width=\"0.2\"/><path d=\"M 442 100 537 138\" stroke=\"gray\" stroke-width=\"0.2\"/><path d=\"M 442 100 437 20\" stroke=\"gray\" stroke-width=\"0.2\"/><path d=\"M 442 100 321 72\" stroke=\"gray\" stroke-width=\"0.2\"/><path d=\"M 694 260 688 291\" stroke=\"gray\" stroke-width=\"0.2\"/><path d=\"M 694 260 647 282\" stroke=\"gray\" stroke-width=\"0.2\"/><path d=\"M 694 260 576 220\" stroke=\"gray\" stroke-width=\"0.2\"/><path d=\"M 128 504 177 497\" stroke=\"gray\" stroke-width=\"0.2\"/><path d=\"M 128 504 204 436\" stroke=\"gray\" stroke-width=\"0.2\"/><path d=\"M 128 504 158 459\" stroke=\"gray\" stroke-width=\"0.2\"/><path d=\"M 128 504 179 520\" stroke=\"gray\" stroke-width=\"0.2\"/><path d=\"M 209 364 43 377\" stroke=\"gray\" stroke-width=\"0.2\"/><path d=\"M 209 364 411 287\" stroke=\"gray\" stroke-width=\"0.2\"/><path d=\"M 209 364 308 320\" stroke=\"gray\" stroke-width=\"0.2\"/><path d=\"M 209 364 158 459\" stroke=\"gray\" stroke-width=\"0.2\"/><path d=\"M 209 364 58 406\" stroke=\"gray\" stroke-width=\"0.2\"/><path d=\"M 177 497 128 504\" stroke=\"gray\" stroke-width=\"0.2\"/><path d=\"M 177 497 204 436\" stroke=\"gray\" stroke-width=\"0.2\"/><path d=\"M 177 497 158 459\" stroke=\"gray\" stroke-width=\"0.2\"/><path d=\"M 177 497 179 520\" stroke=\"gray\" stroke-width=\"0.2\"/><path d=\"M 307 500 345 481\" stroke=\"gray\" stroke-width=\"0.2\"/><path d=\"M 307 500 331 453\" stroke=\"gray\" stroke-width=\"0.2\"/><path d=\"M 307 500 204 436\" stroke=\"gray\" stroke-width=\"0.2\"/><path d=\"M 307 500 295 473\" stroke=\"gray\" stroke-width=\"0.2\"/><path d=\"M 647 282 688 291\" stroke=\"gray\" stroke-width=\"0.2\"/><path d=\"M 647 282 694 260\" stroke=\"gray\" stroke-width=\"0.2\"/><path d=\"M 647 282 576 220\" stroke=\"gray\" stroke-width=\"0.2\"/><path d=\"M 368 53 331 38\" stroke=\"gray\" stroke-width=\"0.2\"/><path d=\"M 368 53 442 100\" stroke=\"gray\" stroke-width=\"0.2\"/><path d=\"M 368 53 321 72\" stroke=\"gray\" stroke-width=\"0.2\"/><path d=\"M 576 220 688 291\" stroke=\"gray\" stroke-width=\"0.2\"/><path d=\"M 576 220 442 100\" stroke=\"gray\" stroke-width=\"0.2\"/><path d=\"M 576 220 694 260\" stroke=\"gray\" stroke-width=\"0.2\"/><path d=\"M 576 220 647 282\" stroke=\"gray\" stroke-width=\"0.2\"/><path d=\"M 576 220 537 138\" stroke=\"gray\" stroke-width=\"0.2\"/><path d=\"M 576 220 702 185\" stroke=\"gray\" stroke-width=\"0.2\"/><path d=\"M 576 220 523 272\" stroke=\"gray\" stroke-width=\"0.2\"/><path d=\"M 576 220 411 287\" stroke=\"gray\" stroke-width=\"0.2\"/><path d=\"M 576 220 492 234\" stroke=\"gray\" stroke-width=\"0.2\"/><path d=\"M 576 220 720 215\" stroke=\"gray\" stroke-width=\"0.2\"/><path d=\"M 576 220 489 258\" stroke=\"gray\" stroke-width=\"0.2\"/><path d=\"M 331 453 345 481\" stroke=\"gray\" stroke-width=\"0.2\"/><path d=\"M 331 453 307 500\" stroke=\"gray\" stroke-width=\"0.2\"/><path d=\"M 331 453 204 436\" stroke=\"gray\" stroke-width=\"0.2\"/><path d=\"M 331 453 295 473\" stroke=\"gray\" stroke-width=\"0.2\"/><path d=\"M 537 138 442 100\" stroke=\"gray\" stroke-width=\"0.2\"/><path d=\"M 537 138 576 220\" stroke=\"gray\" stroke-width=\"0.2\"/><path d=\"M 204 436 345 481\" stroke=\"gray\" stroke-width=\"0.2\"/><path d=\"M 204 436 140 371\" stroke=\"gray\" stroke-width=\"0.2\"/><path d=\"M 204 436 128 504\" stroke=\"gray\" stroke-width=\"0.2\"/><path d=\"M 204 436 177 497\" stroke=\"gray\" stroke-width=\"0.2\"/><path d=\"M 204 436 307 500\" stroke=\"gray\" stroke-width=\"0.2\"/><path d=\"M 204 436 331 453\" stroke=\"gray\" stroke-width=\"0.2\"/><path d=\"M 204 436 295 473\" stroke=\"gray\" stroke-width=\"0.2\"/><path d=\"M 204 436 87 336\" stroke=\"gray\" stroke-width=\"0.2\"/><path d=\"M 204 436 158 459\" stroke=\"gray\" stroke-width=\"0.2\"/><path d=\"M 204 436 114 325\" stroke=\"gray\" stroke-width=\"0.2\"/><path d=\"M 204 436 179 520\" stroke=\"gray\" stroke-width=\"0.2\"/><path d=\"M 295 473 345 481\" stroke=\"gray\" stroke-width=\"0.2\"/><path d=\"M 295 473 307 500\" stroke=\"gray\" stroke-width=\"0.2\"/><path d=\"M 295 473 331 453\" stroke=\"gray\" stroke-width=\"0.2\"/><path d=\"M 295 473 204 436\" stroke=\"gray\" stroke-width=\"0.2\"/><path d=\"M 702 185 576 220\" stroke=\"gray\" stroke-width=\"0.2\"/><path d=\"M 702 185 720 215\" stroke=\"gray\" stroke-width=\"0.2\"/><path d=\"M 87 336 38 269\" stroke=\"gray\" stroke-width=\"0.2\"/><path d=\"M 87 336 140 371\" stroke=\"gray\" stroke-width=\"0.2\"/><path d=\"M 87 336 204 436\" stroke=\"gray\" stroke-width=\"0.2\"/><path d=\"M 87 336 20 292\" stroke=\"gray\" stroke-width=\"0.2\"/><path d=\"M 87 336 78 270\" stroke=\"gray\" stroke-width=\"0.2\"/><path d=\"M 87 336 114 325\" stroke=\"gray\" stroke-width=\"0.2\"/><path d=\"M 43 377 209 364\" stroke=\"gray\" stroke-width=\"0.2\"/><path d=\"M 43 377 58 406\" stroke=\"gray\" stroke-width=\"0.2\"/><path d=\"M 437 20 442 100\" stroke=\"gray\" stroke-width=\"0.2\"/><path d=\"M 523 272 576 220\" stroke=\"gray\" stroke-width=\"0.2\"/><path d=\"M 523 272 411 287\" stroke=\"gray\" stroke-width=\"0.2\"/><path d=\"M 523 272 492 234\" stroke=\"gray\" stroke-width=\"0.2\"/><path d=\"M 523 272 489 258\" stroke=\"gray\" stroke-width=\"0.2\"/><path d=\"M 411 287 209 364\" stroke=\"gray\" stroke-width=\"0.2\"/><path d=\"M 411 287 576 220\" stroke=\"gray\" stroke-width=\"0.2\"/><path d=\"M 411 287 523 272\" stroke=\"gray\" stroke-width=\"0.2\"/><path d=\"M 411 287 308 320\" stroke=\"gray\" stroke-width=\"0.2\"/><path d=\"M 411 287 492 234\" stroke=\"gray\" stroke-width=\"0.2\"/><path d=\"M 411 287 489 258\" stroke=\"gray\" stroke-width=\"0.2\"/><path d=\"M 20 292 38 269\" stroke=\"gray\" stroke-width=\"0.2\"/><path d=\"M 20 292 87 336\" stroke=\"gray\" stroke-width=\"0.2\"/><path d=\"M 20 292 78 270\" stroke=\"gray\" stroke-width=\"0.2\"/><path d=\"M 20 292 114 325\" stroke=\"gray\" stroke-width=\"0.2\"/><path d=\"M 308 320 209 364\" stroke=\"gray\" stroke-width=\"0.2\"/><path d=\"M 308 320 411 287\" stroke=\"gray\" stroke-width=\"0.2\"/><path d=\"M 158 459 128 504\" stroke=\"gray\" stroke-width=\"0.2\"/><path d=\"M 158 459 209 364\" stroke=\"gray\" stroke-width=\"0.2\"/><path d=\"M 158 459 177 497\" stroke=\"gray\" stroke-width=\"0.2\"/><path d=\"M 158 459 204 436\" stroke=\"gray\" stroke-width=\"0.2\"/><path d=\"M 158 459 179 520\" stroke=\"gray\" stroke-width=\"0.2\"/><path d=\"M 492 234 576 220\" stroke=\"gray\" stroke-width=\"0.2\"/><path d=\"M 492 234 523 272\" stroke=\"gray\" stroke-width=\"0.2\"/><path d=\"M 492 234 411 287\" stroke=\"gray\" stroke-width=\"0.2\"/><path d=\"M 492 234 489 258\" stroke=\"gray\" stroke-width=\"0.2\"/><path d=\"M 78 270 38 269\" stroke=\"gray\" stroke-width=\"0.2\"/><path d=\"M 78 270 87 336\" stroke=\"gray\" stroke-width=\"0.2\"/><path d=\"M 78 270 20 292\" stroke=\"gray\" stroke-width=\"0.2\"/><path d=\"M 78 270 114 325\" stroke=\"gray\" stroke-width=\"0.2\"/><path d=\"M 114 325 38 269\" stroke=\"gray\" stroke-width=\"0.2\"/><path d=\"M 114 325 140 371\" stroke=\"gray\" stroke-width=\"0.2\"/><path d=\"M 114 325 204 436\" stroke=\"gray\" stroke-width=\"0.2\"/><path d=\"M 114 325 87 336\" stroke=\"gray\" stroke-width=\"0.2\"/><path d=\"M 114 325 20 292\" stroke=\"gray\" stroke-width=\"0.2\"/><path d=\"M 114 325 78 270\" stroke=\"gray\" stroke-width=\"0.2\"/><path d=\"M 321 72 331 38\" stroke=\"gray\" stroke-width=\"0.2\"/><path d=\"M 321 72 442 100\" stroke=\"gray\" stroke-width=\"0.2\"/><path d=\"M 321 72 368 53\" stroke=\"gray\" stroke-width=\"0.2\"/><path d=\"M 720 215 576 220\" stroke=\"gray\" stroke-width=\"0.2\"/><path d=\"M 720 215 702 185\" stroke=\"gray\" stroke-width=\"0.2\"/><path d=\"M 489 258 576 220\" stroke=\"gray\" stroke-width=\"0.2\"/><path d=\"M 489 258 523 272\" stroke=\"gray\" stroke-width=\"0.2\"/><path d=\"M 489 258 411 287\" stroke=\"gray\" stroke-width=\"0.2\"/><path d=\"M 489 258 492 234\" stroke=\"gray\" stroke-width=\"0.2\"/><path d=\"M 179 520 128 504\" stroke=\"gray\" stroke-width=\"0.2\"/><path d=\"M 179 520 177 497\" stroke=\"gray\" stroke-width=\"0.2\"/><path d=\"M 179 520 204 436\" stroke=\"gray\" stroke-width=\"0.2\"/><path d=\"M 179 520 158 459\" stroke=\"gray\" stroke-width=\"0.2\"/><path d=\"M 58 406 209 364\" stroke=\"gray\" stroke-width=\"0.2\"/><path d=\"M 58 406 43 377\" stroke=\"gray\" stroke-width=\"0.2\"/><circle cx=\"345\" cy=\"481\" r=\"3.0\" style=\"fill:rgb(123, 158, 248);stroke:black;stroke-width:1.0\"/><circle cx=\"688\" cy=\"291\" r=\"3.0\" style=\"fill:rgb(116, 151, 245);stroke:black;stroke-width:1.0\"/><circle cx=\"38\" cy=\"269\" r=\"3.0\" style=\"fill:rgb(123, 158, 248);stroke:black;stroke-width:1.0\"/><circle cx=\"331\" cy=\"38\" r=\"3.0\" style=\"fill:rgb(127, 162, 250);stroke:black;stroke-width:1.0\"/><circle cx=\"140\" cy=\"371\" r=\"3.0\" style=\"fill:rgb(92, 123, 229);stroke:black;stroke-width:1.0\"/><circle cx=\"442\" cy=\"100\" r=\"3.0\" style=\"fill:rgb(236, 210, 196);stroke:black;stroke-width:1.0\"/><circle cx=\"694\" cy=\"260\" r=\"3.0\" style=\"fill:rgb(116, 151, 245);stroke:black;stroke-width:1.0\"/><circle cx=\"128\" cy=\"504\" r=\"3.0\" style=\"fill:rgb(123, 158, 248);stroke:black;stroke-width:1.0\"/><circle cx=\"209\" cy=\"364\" r=\"3.0\" style=\"fill:rgb(197, 213, 242);stroke:black;stroke-width:1.0\"/><circle cx=\"177\" cy=\"497\" r=\"3.0\" style=\"fill:rgb(123, 158, 248);stroke:black;stroke-width:1.0\"/><circle cx=\"307\" cy=\"500\" r=\"3.0\" style=\"fill:rgb(123, 158, 248);stroke:black;stroke-width:1.0\"/><circle cx=\"647\" cy=\"282\" r=\"3.0\" style=\"fill:rgb(116, 151, 245);stroke:black;stroke-width:1.0\"/><circle cx=\"368\" cy=\"53\" r=\"3.0\" style=\"fill:rgb(127, 162, 250);stroke:black;stroke-width:1.0\"/><circle cx=\"576\" cy=\"220\" r=\"3.0\" style=\"fill:rgb(179, 3, 38);stroke:black;stroke-width:1.0\"/><circle cx=\"331\" cy=\"453\" r=\"3.0\" style=\"fill:rgb(123, 158, 248);stroke:black;stroke-width:1.0\"/><circle cx=\"537\" cy=\"138\" r=\"3.0\" style=\"fill:rgb(82, 110, 220);stroke:black;stroke-width:1.0\"/><circle cx=\"204\" cy=\"436\" r=\"3.0\" style=\"fill:rgb(243, 150, 120);stroke:black;stroke-width:1.0\"/><circle cx=\"295\" cy=\"473\" r=\"3.0\" style=\"fill:rgb(123, 158, 248);stroke:black;stroke-width:1.0\"/><circle cx=\"702\" cy=\"185\" r=\"3.0\" style=\"fill:rgb(86, 115, 224);stroke:black;stroke-width:1.0\"/><circle cx=\"87\" cy=\"336\" r=\"3.0\" style=\"fill:rgb(176, 203, 251);stroke:black;stroke-width:1.0\"/><circle cx=\"43\" cy=\"377\" r=\"3.0\" style=\"fill:rgb(92, 123, 229);stroke:black;stroke-width:1.0\"/><circle cx=\"437\" cy=\"20\" r=\"3.0\" style=\"fill:rgb(58, 76, 192);stroke:black;stroke-width:1.0\"/><circle cx=\"523\" cy=\"272\" r=\"3.0\" style=\"fill:rgb(141, 175, 253);stroke:black;stroke-width:1.0\"/><circle cx=\"411\" cy=\"287\" r=\"3.0\" style=\"fill:rgb(208, 218, 233);stroke:black;stroke-width:1.0\"/><circle cx=\"20\" cy=\"292\" r=\"3.0\" style=\"fill:rgb(123, 158, 248);stroke:black;stroke-width:1.0\"/><circle cx=\"308\" cy=\"320\" r=\"3.0\" style=\"fill:rgb(82, 110, 220);stroke:black;stroke-width:1.0\"/><circle cx=\"158\" cy=\"459\" r=\"3.0\" style=\"fill:rgb(159, 190, 254);stroke:black;stroke-width:1.0\"/><circle cx=\"492\" cy=\"234\" r=\"3.0\" style=\"fill:rgb(141, 175, 253);stroke:black;stroke-width:1.0\"/><circle cx=\"78\" cy=\"270\" r=\"3.0\" style=\"fill:rgb(123, 158, 248);stroke:black;stroke-width:1.0\"/><circle cx=\"114\" cy=\"325\" r=\"3.0\" style=\"fill:rgb(176, 203, 251);stroke:black;stroke-width:1.0\"/><circle cx=\"321\" cy=\"72\" r=\"3.0\" style=\"fill:rgb(127, 162, 250);stroke:black;stroke-width:1.0\"/><circle cx=\"720\" cy=\"215\" r=\"3.0\" style=\"fill:rgb(86, 115, 224);stroke:black;stroke-width:1.0\"/><circle cx=\"489\" cy=\"258\" r=\"3.0\" style=\"fill:rgb(141, 175, 253);stroke:black;stroke-width:1.0\"/><circle cx=\"179\" cy=\"520\" r=\"3.0\" style=\"fill:rgb(123, 158, 248);stroke:black;stroke-width:1.0\"/><circle cx=\"58\" cy=\"406\" r=\"3.0\" style=\"fill:rgb(92, 123, 229);stroke:black;stroke-width:1.0\"/><text font-size=\"10\" x=\"351\" y=\"484\">Thanh T. Nguyen</text><text font-size=\"10\" x=\"694\" y=\"294\">Reinhard Gentz</text><text font-size=\"10\" x=\"44\" y=\"272\">Hung T. Nguyen</text><text font-size=\"10\" x=\"337\" y=\"41\">Koki Yamada</text><text font-size=\"10\" x=\"146\" y=\"374\">Alan Kuhnle</text><text font-size=\"10\" x=\"448\" y=\"103\">Hoi-To Wai</text><text font-size=\"10\" x=\"700\" y=\"263\">Lorenzo Ferrari</text><text font-size=\"10\" x=\"134\" y=\"507\">Huiling Zhang</text><text font-size=\"10\" x=\"215\" y=\"367\">Ceyhun Eksin</text><text font-size=\"10\" x=\"183\" y=\"500\">Huiyuan Zhang</text><text font-size=\"10\" x=\"313\" y=\"503\">Hieu V. Duong</text><text font-size=\"10\" x=\"653\" y=\"285\">Yao-Win Peter Hong</text><text font-size=\"10\" x=\"374\" y=\"56\">Yuichi Tanaka</text><text font-size=\"10\" x=\"582\" y=\"223\">Anna Scaglione</text><text font-size=\"10\" x=\"337\" y=\"456\">Phuong N. H. Pham</text><text font-size=\"10\" x=\"543\" y=\"141\">Raksha Ramakrishna</text><text font-size=\"10\" x=\"210\" y=\"439\">My T. Thai</text><text font-size=\"10\" x=\"301\" y=\"476\">Canh V. Pham</text><text font-size=\"10\" x=\"708\" y=\"188\">Mahdi Jamei</text><text font-size=\"10\" x=\"93\" y=\"339\">Thang N. Dinh</text><text font-size=\"10\" x=\"49\" y=\"380\">Sina Arefizadeh</text><text font-size=\"10\" x=\"443\" y=\"23\">T. Mitchell Roddenberry</text><text font-size=\"10\" x=\"529\" y=\"275\">Alexandros G. Dimakis</text><text font-size=\"10\" x=\"417\" y=\"290\">Soummya Kar</text><text font-size=\"10\" x=\"26\" y=\"295\">Tam Vu</text><text font-size=\"10\" x=\"314\" y=\"323\">Brian Swenson</text><text font-size=\"10\" x=\"164\" y=\"462\">Soham Das</text><text font-size=\"10\" x=\"498\" y=\"237\">Michael G. Rabbat</text><text font-size=\"10\" x=\"84\" y=\"273\">Huan X. Hoang</text><text font-size=\"10\" x=\"120\" y=\"328\">Nam P. Nguyen</text><text font-size=\"10\" x=\"327\" y=\"75\">Katsuki Fukumoto</text><text font-size=\"10\" x=\"726\" y=\"218\">Sean Peisert</text><text font-size=\"10\" x=\"495\" y=\"261\">Jose M. F. Moura</text><text font-size=\"10\" x=\"185\" y=\"523\">Dung T. Nguyen</text><text font-size=\"10\" x=\"64\" y=\"409\">Sarper Aydin</text></svg>"
      ],
      "text/plain": [
       "<IPython.core.display.SVG object>"
      ]
     },
     "execution_count": 47,
     "metadata": {},
     "output_type": "execute_result"
    }
   ],
   "source": [
    "G_check = community_context_dict[communities[2]]['G']\n",
    "draw_community(G_check)"
   ]
  },
  {
   "cell_type": "code",
   "execution_count": 48,
   "id": "f677b9c8",
   "metadata": {},
   "outputs": [
    {
     "data": {
      "text/plain": [
       "['A User Guide to Low-Pass Graph Signal Processing and its Applications',\n",
       " 'Average submodularity of maximizing anticoordination in network games',\n",
       " 'Clustering of Time-Varying Graphs Based on Temporal Label Smoothness',\n",
       " 'Control of learning in anti-coordination network games',\n",
       " 'Convergence Results on Pulse Coupled Oscillator Protocols in Locally Connected Networks',\n",
       " 'Cost-aware Targeted Viral Marketing: Approximation with Less Samples',\n",
       " 'Decentralized Fictitious Play Converges Near a Nash Equilibrium in Near-Potential Games',\n",
       " 'Distributed Inertial Best-Response Dynamics',\n",
       " 'Exact Blind Community Detection from Signals on Multiple Graphs',\n",
       " 'Finding Community Structure with Performance Guarantees in Complex Networks',\n",
       " 'Gossip Algorithms for Distributed Signal Processing',\n",
       " 'Groups Influence with Minimum Cost in Social Networks',\n",
       " 'Information Preferences of Individual Agents in Linear-Quadratic-Gaussian Network Games',\n",
       " 'Least Cost Influence Maximization Across Multiple Social Networks',\n",
       " 'Low-Resolution Fault Localization Using Phasor Measurement Units with Community Detection',\n",
       " 'Network Clustering via Maximizing Modularity: Approximation Algorithms and Theoretical Limits',\n",
       " 'Physical Education and English Language Arts Based K-12 Engineering Outreach in Software Defined Networking (Extended Version)',\n",
       " 'Transitivity Demolition and the Falls of Social Networks',\n",
       " 'Vulnerability of Clustering under Node Failure in Complex Networks']"
      ]
     },
     "execution_count": 48,
     "metadata": {},
     "output_type": "execute_result"
    }
   ],
   "source": [
    "show_author_papers(df, G_check)"
   ]
  },
  {
   "cell_type": "code",
   "execution_count": 49,
   "id": "9ca31eed",
   "metadata": {},
   "outputs": [
    {
     "name": "stdout",
     "output_type": "stream",
     "text": [
      "Density: 0.1737891737891738\n",
      "Node Count: 27\n"
     ]
    },
    {
     "data": {
      "image/svg+xml": [
       "<svg height=\"540\" width=\"840.0\" xmlns=\"http://www.w3.org/2000/svg\"><path d=\"M 192 329 353 382\" stroke=\"gray\" stroke-width=\"0.2\"/><path d=\"M 192 329 122 226\" stroke=\"gray\" stroke-width=\"0.2\"/><path d=\"M 192 329 20 432\" stroke=\"gray\" stroke-width=\"0.2\"/><path d=\"M 192 329 476 264\" stroke=\"gray\" stroke-width=\"0.2\"/><path d=\"M 192 329 100 279\" stroke=\"gray\" stroke-width=\"0.2\"/><path d=\"M 192 329 334 282\" stroke=\"gray\" stroke-width=\"0.2\"/><path d=\"M 192 329 278 226\" stroke=\"gray\" stroke-width=\"0.2\"/><path d=\"M 192 329 51 238\" stroke=\"gray\" stroke-width=\"0.2\"/><path d=\"M 192 329 45 475\" stroke=\"gray\" stroke-width=\"0.2\"/><path d=\"M 192 329 215 176\" stroke=\"gray\" stroke-width=\"0.2\"/><path d=\"M 192 329 108 481\" stroke=\"gray\" stroke-width=\"0.2\"/><path d=\"M 491 518 353 382\" stroke=\"gray\" stroke-width=\"0.2\"/><path d=\"M 491 518 420 520\" stroke=\"gray\" stroke-width=\"0.2\"/><path d=\"M 491 518 498 471\" stroke=\"gray\" stroke-width=\"0.2\"/><path d=\"M 353 382 192 329\" stroke=\"gray\" stroke-width=\"0.2\"/><path d=\"M 353 382 491 518\" stroke=\"gray\" stroke-width=\"0.2\"/><path d=\"M 353 382 476 264\" stroke=\"gray\" stroke-width=\"0.2\"/><path d=\"M 353 382 334 282\" stroke=\"gray\" stroke-width=\"0.2\"/><path d=\"M 353 382 420 520\" stroke=\"gray\" stroke-width=\"0.2\"/><path d=\"M 353 382 498 471\" stroke=\"gray\" stroke-width=\"0.2\"/><path d=\"M 353 382 215 176\" stroke=\"gray\" stroke-width=\"0.2\"/><path d=\"M 353 382 205 435\" stroke=\"gray\" stroke-width=\"0.2\"/><path d=\"M 353 382 264 484\" stroke=\"gray\" stroke-width=\"0.2\"/><path d=\"M 186 29 108 20\" stroke=\"gray\" stroke-width=\"0.2\"/><path d=\"M 186 29 296 30\" stroke=\"gray\" stroke-width=\"0.2\"/><path d=\"M 186 29 148 62\" stroke=\"gray\" stroke-width=\"0.2\"/><path d=\"M 186 29 89 84\" stroke=\"gray\" stroke-width=\"0.2\"/><path d=\"M 186 29 57 51\" stroke=\"gray\" stroke-width=\"0.2\"/><path d=\"M 186 29 215 176\" stroke=\"gray\" stroke-width=\"0.2\"/><path d=\"M 108 20 186 29\" stroke=\"gray\" stroke-width=\"0.2\"/><path d=\"M 108 20 148 62\" stroke=\"gray\" stroke-width=\"0.2\"/><path d=\"M 108 20 89 84\" stroke=\"gray\" stroke-width=\"0.2\"/><path d=\"M 108 20 57 51\" stroke=\"gray\" stroke-width=\"0.2\"/><path d=\"M 108 20 215 176\" stroke=\"gray\" stroke-width=\"0.2\"/><path d=\"M 122 226 192 329\" stroke=\"gray\" stroke-width=\"0.2\"/><path d=\"M 122 226 51 238\" stroke=\"gray\" stroke-width=\"0.2\"/><path d=\"M 122 226 215 176\" stroke=\"gray\" stroke-width=\"0.2\"/><path d=\"M 720 254 476 264\" stroke=\"gray\" stroke-width=\"0.2\"/><path d=\"M 720 254 674 286\" stroke=\"gray\" stroke-width=\"0.2\"/><path d=\"M 720 254 690 204\" stroke=\"gray\" stroke-width=\"0.2\"/><path d=\"M 720 254 642 232\" stroke=\"gray\" stroke-width=\"0.2\"/><path d=\"M 20 432 192 329\" stroke=\"gray\" stroke-width=\"0.2\"/><path d=\"M 20 432 45 475\" stroke=\"gray\" stroke-width=\"0.2\"/><path d=\"M 20 432 108 481\" stroke=\"gray\" stroke-width=\"0.2\"/><path d=\"M 476 264 192 329\" stroke=\"gray\" stroke-width=\"0.2\"/><path d=\"M 476 264 353 382\" stroke=\"gray\" stroke-width=\"0.2\"/><path d=\"M 476 264 720 254\" stroke=\"gray\" stroke-width=\"0.2\"/><path d=\"M 476 264 674 286\" stroke=\"gray\" stroke-width=\"0.2\"/><path d=\"M 476 264 334 282\" stroke=\"gray\" stroke-width=\"0.2\"/><path d=\"M 476 264 690 204\" stroke=\"gray\" stroke-width=\"0.2\"/><path d=\"M 476 264 642 232\" stroke=\"gray\" stroke-width=\"0.2\"/><path d=\"M 476 264 215 176\" stroke=\"gray\" stroke-width=\"0.2\"/><path d=\"M 674 286 720 254\" stroke=\"gray\" stroke-width=\"0.2\"/><path d=\"M 674 286 476 264\" stroke=\"gray\" stroke-width=\"0.2\"/><path d=\"M 674 286 690 204\" stroke=\"gray\" stroke-width=\"0.2\"/><path d=\"M 674 286 642 232\" stroke=\"gray\" stroke-width=\"0.2\"/><path d=\"M 100 279 192 329\" stroke=\"gray\" stroke-width=\"0.2\"/><path d=\"M 100 279 215 176\" stroke=\"gray\" stroke-width=\"0.2\"/><path d=\"M 334 282 192 329\" stroke=\"gray\" stroke-width=\"0.2\"/><path d=\"M 334 282 353 382\" stroke=\"gray\" stroke-width=\"0.2\"/><path d=\"M 334 282 476 264\" stroke=\"gray\" stroke-width=\"0.2\"/><path d=\"M 334 282 215 176\" stroke=\"gray\" stroke-width=\"0.2\"/><path d=\"M 278 226 192 329\" stroke=\"gray\" stroke-width=\"0.2\"/><path d=\"M 278 226 215 176\" stroke=\"gray\" stroke-width=\"0.2\"/><path d=\"M 296 30 186 29\" stroke=\"gray\" stroke-width=\"0.2\"/><path d=\"M 296 30 215 176\" stroke=\"gray\" stroke-width=\"0.2\"/><path d=\"M 148 62 186 29\" stroke=\"gray\" stroke-width=\"0.2\"/><path d=\"M 148 62 108 20\" stroke=\"gray\" stroke-width=\"0.2\"/><path d=\"M 148 62 89 84\" stroke=\"gray\" stroke-width=\"0.2\"/><path d=\"M 148 62 57 51\" stroke=\"gray\" stroke-width=\"0.2\"/><path d=\"M 148 62 215 176\" stroke=\"gray\" stroke-width=\"0.2\"/><path d=\"M 89 84 186 29\" stroke=\"gray\" stroke-width=\"0.2\"/><path d=\"M 89 84 108 20\" stroke=\"gray\" stroke-width=\"0.2\"/><path d=\"M 89 84 148 62\" stroke=\"gray\" stroke-width=\"0.2\"/><path d=\"M 89 84 57 51\" stroke=\"gray\" stroke-width=\"0.2\"/><path d=\"M 89 84 215 176\" stroke=\"gray\" stroke-width=\"0.2\"/><path d=\"M 690 204 720 254\" stroke=\"gray\" stroke-width=\"0.2\"/><path d=\"M 690 204 476 264\" stroke=\"gray\" stroke-width=\"0.2\"/><path d=\"M 690 204 674 286\" stroke=\"gray\" stroke-width=\"0.2\"/><path d=\"M 690 204 642 232\" stroke=\"gray\" stroke-width=\"0.2\"/><path d=\"M 642 232 720 254\" stroke=\"gray\" stroke-width=\"0.2\"/><path d=\"M 642 232 476 264\" stroke=\"gray\" stroke-width=\"0.2\"/><path d=\"M 642 232 674 286\" stroke=\"gray\" stroke-width=\"0.2\"/><path d=\"M 642 232 690 204\" stroke=\"gray\" stroke-width=\"0.2\"/><path d=\"M 420 520 491 518\" stroke=\"gray\" stroke-width=\"0.2\"/><path d=\"M 420 520 353 382\" stroke=\"gray\" stroke-width=\"0.2\"/><path d=\"M 420 520 498 471\" stroke=\"gray\" stroke-width=\"0.2\"/><path d=\"M 51 238 192 329\" stroke=\"gray\" stroke-width=\"0.2\"/><path d=\"M 51 238 122 226\" stroke=\"gray\" stroke-width=\"0.2\"/><path d=\"M 51 238 215 176\" stroke=\"gray\" stroke-width=\"0.2\"/><path d=\"M 498 471 491 518\" stroke=\"gray\" stroke-width=\"0.2\"/><path d=\"M 498 471 353 382\" stroke=\"gray\" stroke-width=\"0.2\"/><path d=\"M 498 471 420 520\" stroke=\"gray\" stroke-width=\"0.2\"/><path d=\"M 57 51 186 29\" stroke=\"gray\" stroke-width=\"0.2\"/><path d=\"M 57 51 108 20\" stroke=\"gray\" stroke-width=\"0.2\"/><path d=\"M 57 51 148 62\" stroke=\"gray\" stroke-width=\"0.2\"/><path d=\"M 57 51 89 84\" stroke=\"gray\" stroke-width=\"0.2\"/><path d=\"M 57 51 215 176\" stroke=\"gray\" stroke-width=\"0.2\"/><path d=\"M 45 475 192 329\" stroke=\"gray\" stroke-width=\"0.2\"/><path d=\"M 45 475 20 432\" stroke=\"gray\" stroke-width=\"0.2\"/><path d=\"M 45 475 108 481\" stroke=\"gray\" stroke-width=\"0.2\"/><path d=\"M 215 176 192 329\" stroke=\"gray\" stroke-width=\"0.2\"/><path d=\"M 215 176 353 382\" stroke=\"gray\" stroke-width=\"0.2\"/><path d=\"M 215 176 186 29\" stroke=\"gray\" stroke-width=\"0.2\"/><path d=\"M 215 176 108 20\" stroke=\"gray\" stroke-width=\"0.2\"/><path d=\"M 215 176 122 226\" stroke=\"gray\" stroke-width=\"0.2\"/><path d=\"M 215 176 476 264\" stroke=\"gray\" stroke-width=\"0.2\"/><path d=\"M 215 176 100 279\" stroke=\"gray\" stroke-width=\"0.2\"/><path d=\"M 215 176 334 282\" stroke=\"gray\" stroke-width=\"0.2\"/><path d=\"M 215 176 278 226\" stroke=\"gray\" stroke-width=\"0.2\"/><path d=\"M 215 176 296 30\" stroke=\"gray\" stroke-width=\"0.2\"/><path d=\"M 215 176 148 62\" stroke=\"gray\" stroke-width=\"0.2\"/><path d=\"M 215 176 89 84\" stroke=\"gray\" stroke-width=\"0.2\"/><path d=\"M 215 176 51 238\" stroke=\"gray\" stroke-width=\"0.2\"/><path d=\"M 215 176 57 51\" stroke=\"gray\" stroke-width=\"0.2\"/><path d=\"M 108 481 192 329\" stroke=\"gray\" stroke-width=\"0.2\"/><path d=\"M 108 481 20 432\" stroke=\"gray\" stroke-width=\"0.2\"/><path d=\"M 108 481 45 475\" stroke=\"gray\" stroke-width=\"0.2\"/><path d=\"M 205 435 353 382\" stroke=\"gray\" stroke-width=\"0.2\"/><path d=\"M 205 435 264 484\" stroke=\"gray\" stroke-width=\"0.2\"/><path d=\"M 264 484 353 382\" stroke=\"gray\" stroke-width=\"0.2\"/><path d=\"M 264 484 205 435\" stroke=\"gray\" stroke-width=\"0.2\"/><circle cx=\"192\" cy=\"329\" r=\"3.0\" style=\"fill:rgb(236, 128, 100);stroke:black;stroke-width:1.0\"/><circle cx=\"491\" cy=\"518\" r=\"3.0\" style=\"fill:rgb(99, 131, 234);stroke:black;stroke-width:1.0\"/><circle cx=\"353\" cy=\"382\" r=\"3.0\" style=\"fill:rgb(247, 177, 148);stroke:black;stroke-width:1.0\"/><circle cx=\"186\" cy=\"29\" r=\"3.0\" style=\"fill:rgb(163, 193, 254);stroke:black;stroke-width:1.0\"/><circle cx=\"108\" cy=\"20\" r=\"3.0\" style=\"fill:rgb(130, 165, 251);stroke:black;stroke-width:1.0\"/><circle cx=\"122\" cy=\"226\" r=\"3.0\" style=\"fill:rgb(86, 115, 224);stroke:black;stroke-width:1.0\"/><circle cx=\"720\" cy=\"254\" r=\"3.0\" style=\"fill:rgb(112, 147, 243);stroke:black;stroke-width:1.0\"/><circle cx=\"20\" cy=\"432\" r=\"3.0\" style=\"fill:rgb(96, 128, 232);stroke:black;stroke-width:1.0\"/><circle cx=\"476\" cy=\"264\" r=\"3.0\" style=\"fill:rgb(222, 219, 218);stroke:black;stroke-width:1.0\"/><circle cx=\"674\" cy=\"286\" r=\"3.0\" style=\"fill:rgb(112, 147, 243);stroke:black;stroke-width:1.0\"/><circle cx=\"100\" cy=\"279\" r=\"3.0\" style=\"fill:rgb(58, 76, 192);stroke:black;stroke-width:1.0\"/><circle cx=\"334\" cy=\"282\" r=\"3.0\" style=\"fill:rgb(109, 144, 241);stroke:black;stroke-width:1.0\"/><circle cx=\"278\" cy=\"226\" r=\"3.0\" style=\"fill:rgb(58, 76, 192);stroke:black;stroke-width:1.0\"/><circle cx=\"296\" cy=\"30\" r=\"3.0\" style=\"fill:rgb(58, 76, 192);stroke:black;stroke-width:1.0\"/><circle cx=\"148\" cy=\"62\" r=\"3.0\" style=\"fill:rgb(130, 165, 251);stroke:black;stroke-width:1.0\"/><circle cx=\"89\" cy=\"84\" r=\"3.0\" style=\"fill:rgb(130, 165, 251);stroke:black;stroke-width:1.0\"/><circle cx=\"690\" cy=\"204\" r=\"3.0\" style=\"fill:rgb(112, 147, 243);stroke:black;stroke-width:1.0\"/><circle cx=\"642\" cy=\"232\" r=\"3.0\" style=\"fill:rgb(112, 147, 243);stroke:black;stroke-width:1.0\"/><circle cx=\"420\" cy=\"520\" r=\"3.0\" style=\"fill:rgb(99, 131, 234);stroke:black;stroke-width:1.0\"/><circle cx=\"51\" cy=\"238\" r=\"3.0\" style=\"fill:rgb(86, 115, 224);stroke:black;stroke-width:1.0\"/><circle cx=\"498\" cy=\"471\" r=\"3.0\" style=\"fill:rgb(99, 131, 234);stroke:black;stroke-width:1.0\"/><circle cx=\"57\" cy=\"51\" r=\"3.0\" style=\"fill:rgb(130, 165, 251);stroke:black;stroke-width:1.0\"/><circle cx=\"45\" cy=\"475\" r=\"3.0\" style=\"fill:rgb(96, 128, 232);stroke:black;stroke-width:1.0\"/><circle cx=\"215\" cy=\"176\" r=\"3.0\" style=\"fill:rgb(179, 3, 38);stroke:black;stroke-width:1.0\"/><circle cx=\"108\" cy=\"481\" r=\"3.0\" style=\"fill:rgb(96, 128, 232);stroke:black;stroke-width:1.0\"/><circle cx=\"205\" cy=\"435\" r=\"3.0\" style=\"fill:rgb(70, 93, 207);stroke:black;stroke-width:1.0\"/><circle cx=\"264\" cy=\"484\" r=\"3.0\" style=\"fill:rgb(70, 93, 207);stroke:black;stroke-width:1.0\"/><text font-size=\"10\" x=\"198\" y=\"332\">Jan Niklas Fuhg</text><text font-size=\"10\" x=\"497\" y=\"521\">H. Keo Springer</text><text font-size=\"10\" x=\"359\" y=\"385\">Teeratorn Kadeethum</text><text font-size=\"10\" x=\"192\" y=\"32\">Jan N. Fuhg</text><text font-size=\"10\" x=\"114\" y=\"23\">Matthew Kasemer</text><text font-size=\"10\" x=\"128\" y=\"229\">Amélie Fau</text><text font-size=\"10\" x=\"726\" y=\"257\">Junshik Hwang</text><text font-size=\"10\" x=\"26\" y=\"435\">Peter Wriggers</text><text font-size=\"10\" x=\"482\" y=\"267\">Hongkyu Yoon</text><text font-size=\"10\" x=\"680\" y=\"289\">Sung Eun Kim</text><text font-size=\"10\" x=\"106\" y=\"282\">Michele Marino</text><text font-size=\"10\" x=\"340\" y=\"285\">Arnav Karmarkar</text><text font-size=\"10\" x=\"284\" y=\"229\">Adnan Eghtesad</text><text font-size=\"10\" x=\"302\" y=\"33\">Reese E. Jones</text><text font-size=\"10\" x=\"154\" y=\"65\">Mark Obstalecki</text><text font-size=\"10\" x=\"95\" y=\"87\">Paul Shade</text><text font-size=\"10\" x=\"696\" y=\"207\">Yongwon Seo</text><text font-size=\"10\" x=\"648\" y=\"235\">Jonghyun Lee</text><text font-size=\"10\" x=\"426\" y=\"523\">Siu Wun Cheung</text><text font-size=\"10\" x=\"57\" y=\"241\">Ioannis Kalogeris</text><text font-size=\"10\" x=\"504\" y=\"474\">Youngsoo Choi</text><text font-size=\"10\" x=\"63\" y=\"54\">Lloyd van Wees</text><text font-size=\"10\" x=\"51\" y=\"478\">Dengpeng Huang</text><text font-size=\"10\" x=\"221\" y=\"179\">Nikolaos Bouklas</text><text font-size=\"10\" x=\"114\" y=\"484\">Christian Weißenfels</text><text font-size=\"10\" x=\"211\" y=\"438\">Thomas M Jorgensen</text><text font-size=\"10\" x=\"270\" y=\"487\">Hamidreza M Nick</text></svg>"
      ],
      "text/plain": [
       "<IPython.core.display.SVG object>"
      ]
     },
     "execution_count": 49,
     "metadata": {},
     "output_type": "execute_result"
    }
   ],
   "source": [
    "G_check = community_context_dict[communities[3]]['G']\n",
    "draw_community(G_check)"
   ]
  },
  {
   "cell_type": "code",
   "execution_count": 50,
   "id": "7a9b992e",
   "metadata": {},
   "outputs": [
    {
     "data": {
      "text/plain": [
       "['A machine learning based plasticity model using proper orthogonal decomposition',\n",
       " 'Connectivity-informed Drainage Network Generation using Deep Convolution Generative Adversarial Networks',\n",
       " 'Data-scarce surrogate modeling of shock-induced pore collapse process',\n",
       " 'Deep Convolutional Ritz Method: Parametric PDE surrogates without labeled data',\n",
       " 'Extreme sparsification of physics-augmented neural networks for interpretable model discovery in mechanics',\n",
       " 'Interval and fuzzy physics-informed neural networks for uncertain fields',\n",
       " 'Learning hyperelastic anisotropy from data via a tensor basis neural network',\n",
       " 'Local approximate Gaussian process regression for data-driven constitutive laws: Development and comparison with neural networks',\n",
       " 'Machine-learning convex and texture-dependent macroscopic yield from crystal plasticity simulations',\n",
       " 'NN-EVP: A physics informed neural network-based elasto-viscoplastic framework for predictions of grain size-aware flow response under large deformations',\n",
       " 'On physics-informed data-driven isotropic and anisotropic constitutive models through probabilistic machine learning and space-filling sampling',\n",
       " \"Physics-informed Neural Networks for Solving Nonlinear Diffusivity and Biot's equations\",\n",
       " 'The mixed deep energy method for resolving concentration features in finite strain hyperelasticity']"
      ]
     },
     "execution_count": 50,
     "metadata": {},
     "output_type": "execute_result"
    }
   ],
   "source": [
    "show_author_papers(df, G_check)"
   ]
  },
  {
   "cell_type": "code",
   "execution_count": 51,
   "id": "2b37f91e",
   "metadata": {},
   "outputs": [
    {
     "name": "stdout",
     "output_type": "stream",
     "text": [
      "Density: 0.1906906906906907\n",
      "Node Count: 37\n"
     ]
    },
    {
     "data": {
      "image/svg+xml": [
       "<svg height=\"540\" width=\"825.0\" xmlns=\"http://www.w3.org/2000/svg\"><path d=\"M 574 83 477 87\" stroke=\"gray\" stroke-width=\"0.2\"/><path d=\"M 574 83 720 74\" stroke=\"gray\" stroke-width=\"0.2\"/><path d=\"M 574 83 386 131\" stroke=\"gray\" stroke-width=\"0.2\"/><path d=\"M 574 83 535 102\" stroke=\"gray\" stroke-width=\"0.2\"/><path d=\"M 574 83 522 74\" stroke=\"gray\" stroke-width=\"0.2\"/><path d=\"M 574 83 497 105\" stroke=\"gray\" stroke-width=\"0.2\"/><path d=\"M 574 83 494 64\" stroke=\"gray\" stroke-width=\"0.2\"/><path d=\"M 574 83 500 130\" stroke=\"gray\" stroke-width=\"0.2\"/><path d=\"M 574 83 533 129\" stroke=\"gray\" stroke-width=\"0.2\"/><path d=\"M 574 83 702 31\" stroke=\"gray\" stroke-width=\"0.2\"/><path d=\"M 377 235 317 248\" stroke=\"gray\" stroke-width=\"0.2\"/><path d=\"M 377 235 314 202\" stroke=\"gray\" stroke-width=\"0.2\"/><path d=\"M 377 235 386 131\" stroke=\"gray\" stroke-width=\"0.2\"/><path d=\"M 377 235 408 284\" stroke=\"gray\" stroke-width=\"0.2\"/><path d=\"M 377 235 349 251\" stroke=\"gray\" stroke-width=\"0.2\"/><path d=\"M 377 235 348 198\" stroke=\"gray\" stroke-width=\"0.2\"/><path d=\"M 377 235 338 224\" stroke=\"gray\" stroke-width=\"0.2\"/><path d=\"M 377 235 377 212\" stroke=\"gray\" stroke-width=\"0.2\"/><path d=\"M 377 235 302 226\" stroke=\"gray\" stroke-width=\"0.2\"/><path d=\"M 317 248 377 235\" stroke=\"gray\" stroke-width=\"0.2\"/><path d=\"M 317 248 314 202\" stroke=\"gray\" stroke-width=\"0.2\"/><path d=\"M 317 248 386 131\" stroke=\"gray\" stroke-width=\"0.2\"/><path d=\"M 317 248 408 284\" stroke=\"gray\" stroke-width=\"0.2\"/><path d=\"M 317 248 349 251\" stroke=\"gray\" stroke-width=\"0.2\"/><path d=\"M 317 248 348 198\" stroke=\"gray\" stroke-width=\"0.2\"/><path d=\"M 317 248 338 224\" stroke=\"gray\" stroke-width=\"0.2\"/><path d=\"M 317 248 377 212\" stroke=\"gray\" stroke-width=\"0.2\"/><path d=\"M 317 248 302 226\" stroke=\"gray\" stroke-width=\"0.2\"/><path d=\"M 257 41 282 62\" stroke=\"gray\" stroke-width=\"0.2\"/><path d=\"M 257 41 208 94\" stroke=\"gray\" stroke-width=\"0.2\"/><path d=\"M 257 41 315 50\" stroke=\"gray\" stroke-width=\"0.2\"/><path d=\"M 257 41 280 20\" stroke=\"gray\" stroke-width=\"0.2\"/><path d=\"M 257 41 386 131\" stroke=\"gray\" stroke-width=\"0.2\"/><path d=\"M 257 41 314 22\" stroke=\"gray\" stroke-width=\"0.2\"/><path d=\"M 282 62 257 41\" stroke=\"gray\" stroke-width=\"0.2\"/><path d=\"M 282 62 208 94\" stroke=\"gray\" stroke-width=\"0.2\"/><path d=\"M 282 62 315 50\" stroke=\"gray\" stroke-width=\"0.2\"/><path d=\"M 282 62 280 20\" stroke=\"gray\" stroke-width=\"0.2\"/><path d=\"M 282 62 386 131\" stroke=\"gray\" stroke-width=\"0.2\"/><path d=\"M 282 62 314 22\" stroke=\"gray\" stroke-width=\"0.2\"/><path d=\"M 208 94 257 41\" stroke=\"gray\" stroke-width=\"0.2\"/><path d=\"M 208 94 282 62\" stroke=\"gray\" stroke-width=\"0.2\"/><path d=\"M 208 94 315 50\" stroke=\"gray\" stroke-width=\"0.2\"/><path d=\"M 208 94 280 20\" stroke=\"gray\" stroke-width=\"0.2\"/><path d=\"M 208 94 98 132\" stroke=\"gray\" stroke-width=\"0.2\"/><path d=\"M 208 94 386 131\" stroke=\"gray\" stroke-width=\"0.2\"/><path d=\"M 208 94 314 22\" stroke=\"gray\" stroke-width=\"0.2\"/><path d=\"M 208 94 63 124\" stroke=\"gray\" stroke-width=\"0.2\"/><path d=\"M 208 94 81 211\" stroke=\"gray\" stroke-width=\"0.2\"/><path d=\"M 315 50 257 41\" stroke=\"gray\" stroke-width=\"0.2\"/><path d=\"M 315 50 282 62\" stroke=\"gray\" stroke-width=\"0.2\"/><path d=\"M 315 50 208 94\" stroke=\"gray\" stroke-width=\"0.2\"/><path d=\"M 315 50 280 20\" stroke=\"gray\" stroke-width=\"0.2\"/><path d=\"M 315 50 386 131\" stroke=\"gray\" stroke-width=\"0.2\"/><path d=\"M 315 50 314 22\" stroke=\"gray\" stroke-width=\"0.2\"/><path d=\"M 522 360 483 364\" stroke=\"gray\" stroke-width=\"0.2\"/><path d=\"M 522 360 459 390\" stroke=\"gray\" stroke-width=\"0.2\"/><path d=\"M 522 360 408 284\" stroke=\"gray\" stroke-width=\"0.2\"/><path d=\"M 522 360 520 420\" stroke=\"gray\" stroke-width=\"0.2\"/><path d=\"M 477 87 574 83\" stroke=\"gray\" stroke-width=\"0.2\"/><path d=\"M 477 87 386 131\" stroke=\"gray\" stroke-width=\"0.2\"/><path d=\"M 477 87 535 102\" stroke=\"gray\" stroke-width=\"0.2\"/><path d=\"M 477 87 522 74\" stroke=\"gray\" stroke-width=\"0.2\"/><path d=\"M 477 87 497 105\" stroke=\"gray\" stroke-width=\"0.2\"/><path d=\"M 477 87 494 64\" stroke=\"gray\" stroke-width=\"0.2\"/><path d=\"M 477 87 500 130\" stroke=\"gray\" stroke-width=\"0.2\"/><path d=\"M 477 87 533 129\" stroke=\"gray\" stroke-width=\"0.2\"/><path d=\"M 20 313 65 329\" stroke=\"gray\" stroke-width=\"0.2\"/><path d=\"M 20 313 81 211\" stroke=\"gray\" stroke-width=\"0.2\"/><path d=\"M 314 202 377 235\" stroke=\"gray\" stroke-width=\"0.2\"/><path d=\"M 314 202 317 248\" stroke=\"gray\" stroke-width=\"0.2\"/><path d=\"M 314 202 386 131\" stroke=\"gray\" stroke-width=\"0.2\"/><path d=\"M 314 202 408 284\" stroke=\"gray\" stroke-width=\"0.2\"/><path d=\"M 314 202 349 251\" stroke=\"gray\" stroke-width=\"0.2\"/><path d=\"M 314 202 348 198\" stroke=\"gray\" stroke-width=\"0.2\"/><path d=\"M 314 202 338 224\" stroke=\"gray\" stroke-width=\"0.2\"/><path d=\"M 314 202 377 212\" stroke=\"gray\" stroke-width=\"0.2\"/><path d=\"M 314 202 302 226\" stroke=\"gray\" stroke-width=\"0.2\"/><path d=\"M 65 329 20 313\" stroke=\"gray\" stroke-width=\"0.2\"/><path d=\"M 65 329 81 211\" stroke=\"gray\" stroke-width=\"0.2\"/><path d=\"M 280 20 257 41\" stroke=\"gray\" stroke-width=\"0.2\"/><path d=\"M 280 20 282 62\" stroke=\"gray\" stroke-width=\"0.2\"/><path d=\"M 280 20 208 94\" stroke=\"gray\" stroke-width=\"0.2\"/><path d=\"M 280 20 315 50\" stroke=\"gray\" stroke-width=\"0.2\"/><path d=\"M 280 20 386 131\" stroke=\"gray\" stroke-width=\"0.2\"/><path d=\"M 280 20 314 22\" stroke=\"gray\" stroke-width=\"0.2\"/><path d=\"M 720 74 574 83\" stroke=\"gray\" stroke-width=\"0.2\"/><path d=\"M 720 74 702 31\" stroke=\"gray\" stroke-width=\"0.2\"/><path d=\"M 483 364 522 360\" stroke=\"gray\" stroke-width=\"0.2\"/><path d=\"M 483 364 459 390\" stroke=\"gray\" stroke-width=\"0.2\"/><path d=\"M 483 364 408 284\" stroke=\"gray\" stroke-width=\"0.2\"/><path d=\"M 483 364 520 420\" stroke=\"gray\" stroke-width=\"0.2\"/><path d=\"M 98 132 208 94\" stroke=\"gray\" stroke-width=\"0.2\"/><path d=\"M 98 132 63 124\" stroke=\"gray\" stroke-width=\"0.2\"/><path d=\"M 98 132 81 211\" stroke=\"gray\" stroke-width=\"0.2\"/><path d=\"M 386 131 574 83\" stroke=\"gray\" stroke-width=\"0.2\"/><path d=\"M 386 131 377 235\" stroke=\"gray\" stroke-width=\"0.2\"/><path d=\"M 386 131 317 248\" stroke=\"gray\" stroke-width=\"0.2\"/><path d=\"M 386 131 257 41\" stroke=\"gray\" stroke-width=\"0.2\"/><path d=\"M 386 131 282 62\" stroke=\"gray\" stroke-width=\"0.2\"/><path d=\"M 386 131 208 94\" stroke=\"gray\" stroke-width=\"0.2\"/><path d=\"M 386 131 315 50\" stroke=\"gray\" stroke-width=\"0.2\"/><path d=\"M 386 131 477 87\" stroke=\"gray\" stroke-width=\"0.2\"/><path d=\"M 386 131 314 202\" stroke=\"gray\" stroke-width=\"0.2\"/><path d=\"M 386 131 280 20\" stroke=\"gray\" stroke-width=\"0.2\"/><path d=\"M 386 131 535 102\" stroke=\"gray\" stroke-width=\"0.2\"/><path d=\"M 386 131 522 74\" stroke=\"gray\" stroke-width=\"0.2\"/><path d=\"M 386 131 314 22\" stroke=\"gray\" stroke-width=\"0.2\"/><path d=\"M 386 131 408 284\" stroke=\"gray\" stroke-width=\"0.2\"/><path d=\"M 386 131 497 105\" stroke=\"gray\" stroke-width=\"0.2\"/><path d=\"M 386 131 349 251\" stroke=\"gray\" stroke-width=\"0.2\"/><path d=\"M 386 131 494 64\" stroke=\"gray\" stroke-width=\"0.2\"/><path d=\"M 386 131 500 130\" stroke=\"gray\" stroke-width=\"0.2\"/><path d=\"M 386 131 348 198\" stroke=\"gray\" stroke-width=\"0.2\"/><path d=\"M 386 131 533 129\" stroke=\"gray\" stroke-width=\"0.2\"/><path d=\"M 386 131 338 224\" stroke=\"gray\" stroke-width=\"0.2\"/><path d=\"M 386 131 377 212\" stroke=\"gray\" stroke-width=\"0.2\"/><path d=\"M 386 131 302 226\" stroke=\"gray\" stroke-width=\"0.2\"/><path d=\"M 535 102 574 83\" stroke=\"gray\" stroke-width=\"0.2\"/><path d=\"M 535 102 477 87\" stroke=\"gray\" stroke-width=\"0.2\"/><path d=\"M 535 102 386 131\" stroke=\"gray\" stroke-width=\"0.2\"/><path d=\"M 535 102 522 74\" stroke=\"gray\" stroke-width=\"0.2\"/><path d=\"M 535 102 497 105\" stroke=\"gray\" stroke-width=\"0.2\"/><path d=\"M 535 102 494 64\" stroke=\"gray\" stroke-width=\"0.2\"/><path d=\"M 535 102 500 130\" stroke=\"gray\" stroke-width=\"0.2\"/><path d=\"M 535 102 533 129\" stroke=\"gray\" stroke-width=\"0.2\"/><path d=\"M 522 74 574 83\" stroke=\"gray\" stroke-width=\"0.2\"/><path d=\"M 522 74 477 87\" stroke=\"gray\" stroke-width=\"0.2\"/><path d=\"M 522 74 386 131\" stroke=\"gray\" stroke-width=\"0.2\"/><path d=\"M 522 74 535 102\" stroke=\"gray\" stroke-width=\"0.2\"/><path d=\"M 522 74 497 105\" stroke=\"gray\" stroke-width=\"0.2\"/><path d=\"M 522 74 494 64\" stroke=\"gray\" stroke-width=\"0.2\"/><path d=\"M 522 74 500 130\" stroke=\"gray\" stroke-width=\"0.2\"/><path d=\"M 522 74 533 129\" stroke=\"gray\" stroke-width=\"0.2\"/><path d=\"M 615 496 567 520\" stroke=\"gray\" stroke-width=\"0.2\"/><path d=\"M 615 496 520 420\" stroke=\"gray\" stroke-width=\"0.2\"/><path d=\"M 459 390 522 360\" stroke=\"gray\" stroke-width=\"0.2\"/><path d=\"M 459 390 483 364\" stroke=\"gray\" stroke-width=\"0.2\"/><path d=\"M 459 390 408 284\" stroke=\"gray\" stroke-width=\"0.2\"/><path d=\"M 459 390 520 420\" stroke=\"gray\" stroke-width=\"0.2\"/><path d=\"M 314 22 257 41\" stroke=\"gray\" stroke-width=\"0.2\"/><path d=\"M 314 22 282 62\" stroke=\"gray\" stroke-width=\"0.2\"/><path d=\"M 314 22 208 94\" stroke=\"gray\" stroke-width=\"0.2\"/><path d=\"M 314 22 315 50\" stroke=\"gray\" stroke-width=\"0.2\"/><path d=\"M 314 22 280 20\" stroke=\"gray\" stroke-width=\"0.2\"/><path d=\"M 314 22 386 131\" stroke=\"gray\" stroke-width=\"0.2\"/><path d=\"M 63 124 208 94\" stroke=\"gray\" stroke-width=\"0.2\"/><path d=\"M 63 124 98 132\" stroke=\"gray\" stroke-width=\"0.2\"/><path d=\"M 63 124 81 211\" stroke=\"gray\" stroke-width=\"0.2\"/><path d=\"M 408 284 377 235\" stroke=\"gray\" stroke-width=\"0.2\"/><path d=\"M 408 284 317 248\" stroke=\"gray\" stroke-width=\"0.2\"/><path d=\"M 408 284 522 360\" stroke=\"gray\" stroke-width=\"0.2\"/><path d=\"M 408 284 314 202\" stroke=\"gray\" stroke-width=\"0.2\"/><path d=\"M 408 284 483 364\" stroke=\"gray\" stroke-width=\"0.2\"/><path d=\"M 408 284 386 131\" stroke=\"gray\" stroke-width=\"0.2\"/><path d=\"M 408 284 459 390\" stroke=\"gray\" stroke-width=\"0.2\"/><path d=\"M 408 284 349 251\" stroke=\"gray\" stroke-width=\"0.2\"/><path d=\"M 408 284 348 198\" stroke=\"gray\" stroke-width=\"0.2\"/><path d=\"M 408 284 520 420\" stroke=\"gray\" stroke-width=\"0.2\"/><path d=\"M 408 284 338 224\" stroke=\"gray\" stroke-width=\"0.2\"/><path d=\"M 408 284 377 212\" stroke=\"gray\" stroke-width=\"0.2\"/><path d=\"M 408 284 302 226\" stroke=\"gray\" stroke-width=\"0.2\"/><path d=\"M 567 520 615 496\" stroke=\"gray\" stroke-width=\"0.2\"/><path d=\"M 567 520 520 420\" stroke=\"gray\" stroke-width=\"0.2\"/><path d=\"M 497 105 574 83\" stroke=\"gray\" stroke-width=\"0.2\"/><path d=\"M 497 105 477 87\" stroke=\"gray\" stroke-width=\"0.2\"/><path d=\"M 497 105 386 131\" stroke=\"gray\" stroke-width=\"0.2\"/><path d=\"M 497 105 535 102\" stroke=\"gray\" stroke-width=\"0.2\"/><path d=\"M 497 105 522 74\" stroke=\"gray\" stroke-width=\"0.2\"/><path d=\"M 497 105 494 64\" stroke=\"gray\" stroke-width=\"0.2\"/><path d=\"M 497 105 500 130\" stroke=\"gray\" stroke-width=\"0.2\"/><path d=\"M 497 105 533 129\" stroke=\"gray\" stroke-width=\"0.2\"/><path d=\"M 349 251 377 235\" stroke=\"gray\" stroke-width=\"0.2\"/><path d=\"M 349 251 317 248\" stroke=\"gray\" stroke-width=\"0.2\"/><path d=\"M 349 251 314 202\" stroke=\"gray\" stroke-width=\"0.2\"/><path d=\"M 349 251 386 131\" stroke=\"gray\" stroke-width=\"0.2\"/><path d=\"M 349 251 408 284\" stroke=\"gray\" stroke-width=\"0.2\"/><path d=\"M 349 251 348 198\" stroke=\"gray\" stroke-width=\"0.2\"/><path d=\"M 349 251 338 224\" stroke=\"gray\" stroke-width=\"0.2\"/><path d=\"M 349 251 377 212\" stroke=\"gray\" stroke-width=\"0.2\"/><path d=\"M 349 251 302 226\" stroke=\"gray\" stroke-width=\"0.2\"/><path d=\"M 494 64 574 83\" stroke=\"gray\" stroke-width=\"0.2\"/><path d=\"M 494 64 477 87\" stroke=\"gray\" stroke-width=\"0.2\"/><path d=\"M 494 64 386 131\" stroke=\"gray\" stroke-width=\"0.2\"/><path d=\"M 494 64 535 102\" stroke=\"gray\" stroke-width=\"0.2\"/><path d=\"M 494 64 522 74\" stroke=\"gray\" stroke-width=\"0.2\"/><path d=\"M 494 64 497 105\" stroke=\"gray\" stroke-width=\"0.2\"/><path d=\"M 494 64 500 130\" stroke=\"gray\" stroke-width=\"0.2\"/><path d=\"M 494 64 533 129\" stroke=\"gray\" stroke-width=\"0.2\"/><path d=\"M 81 211 208 94\" stroke=\"gray\" stroke-width=\"0.2\"/><path d=\"M 81 211 20 313\" stroke=\"gray\" stroke-width=\"0.2\"/><path d=\"M 81 211 65 329\" stroke=\"gray\" stroke-width=\"0.2\"/><path d=\"M 81 211 98 132\" stroke=\"gray\" stroke-width=\"0.2\"/><path d=\"M 81 211 63 124\" stroke=\"gray\" stroke-width=\"0.2\"/><path d=\"M 500 130 574 83\" stroke=\"gray\" stroke-width=\"0.2\"/><path d=\"M 500 130 477 87\" stroke=\"gray\" stroke-width=\"0.2\"/><path d=\"M 500 130 386 131\" stroke=\"gray\" stroke-width=\"0.2\"/><path d=\"M 500 130 535 102\" stroke=\"gray\" stroke-width=\"0.2\"/><path d=\"M 500 130 522 74\" stroke=\"gray\" stroke-width=\"0.2\"/><path d=\"M 500 130 497 105\" stroke=\"gray\" stroke-width=\"0.2\"/><path d=\"M 500 130 494 64\" stroke=\"gray\" stroke-width=\"0.2\"/><path d=\"M 500 130 533 129\" stroke=\"gray\" stroke-width=\"0.2\"/><path d=\"M 348 198 377 235\" stroke=\"gray\" stroke-width=\"0.2\"/><path d=\"M 348 198 317 248\" stroke=\"gray\" stroke-width=\"0.2\"/><path d=\"M 348 198 314 202\" stroke=\"gray\" stroke-width=\"0.2\"/><path d=\"M 348 198 386 131\" stroke=\"gray\" stroke-width=\"0.2\"/><path d=\"M 348 198 408 284\" stroke=\"gray\" stroke-width=\"0.2\"/><path d=\"M 348 198 349 251\" stroke=\"gray\" stroke-width=\"0.2\"/><path d=\"M 348 198 338 224\" stroke=\"gray\" stroke-width=\"0.2\"/><path d=\"M 348 198 377 212\" stroke=\"gray\" stroke-width=\"0.2\"/><path d=\"M 348 198 302 226\" stroke=\"gray\" stroke-width=\"0.2\"/><path d=\"M 520 420 522 360\" stroke=\"gray\" stroke-width=\"0.2\"/><path d=\"M 520 420 483 364\" stroke=\"gray\" stroke-width=\"0.2\"/><path d=\"M 520 420 615 496\" stroke=\"gray\" stroke-width=\"0.2\"/><path d=\"M 520 420 459 390\" stroke=\"gray\" stroke-width=\"0.2\"/><path d=\"M 520 420 408 284\" stroke=\"gray\" stroke-width=\"0.2\"/><path d=\"M 520 420 567 520\" stroke=\"gray\" stroke-width=\"0.2\"/><path d=\"M 533 129 574 83\" stroke=\"gray\" stroke-width=\"0.2\"/><path d=\"M 533 129 477 87\" stroke=\"gray\" stroke-width=\"0.2\"/><path d=\"M 533 129 386 131\" stroke=\"gray\" stroke-width=\"0.2\"/><path d=\"M 533 129 535 102\" stroke=\"gray\" stroke-width=\"0.2\"/><path d=\"M 533 129 522 74\" stroke=\"gray\" stroke-width=\"0.2\"/><path d=\"M 533 129 497 105\" stroke=\"gray\" stroke-width=\"0.2\"/><path d=\"M 533 129 494 64\" stroke=\"gray\" stroke-width=\"0.2\"/><path d=\"M 533 129 500 130\" stroke=\"gray\" stroke-width=\"0.2\"/><path d=\"M 702 31 574 83\" stroke=\"gray\" stroke-width=\"0.2\"/><path d=\"M 702 31 720 74\" stroke=\"gray\" stroke-width=\"0.2\"/><path d=\"M 338 224 377 235\" stroke=\"gray\" stroke-width=\"0.2\"/><path d=\"M 338 224 317 248\" stroke=\"gray\" stroke-width=\"0.2\"/><path d=\"M 338 224 314 202\" stroke=\"gray\" stroke-width=\"0.2\"/><path d=\"M 338 224 386 131\" stroke=\"gray\" stroke-width=\"0.2\"/><path d=\"M 338 224 408 284\" stroke=\"gray\" stroke-width=\"0.2\"/><path d=\"M 338 224 349 251\" stroke=\"gray\" stroke-width=\"0.2\"/><path d=\"M 338 224 348 198\" stroke=\"gray\" stroke-width=\"0.2\"/><path d=\"M 338 224 377 212\" stroke=\"gray\" stroke-width=\"0.2\"/><path d=\"M 338 224 302 226\" stroke=\"gray\" stroke-width=\"0.2\"/><path d=\"M 377 212 377 235\" stroke=\"gray\" stroke-width=\"0.2\"/><path d=\"M 377 212 317 248\" stroke=\"gray\" stroke-width=\"0.2\"/><path d=\"M 377 212 314 202\" stroke=\"gray\" stroke-width=\"0.2\"/><path d=\"M 377 212 386 131\" stroke=\"gray\" stroke-width=\"0.2\"/><path d=\"M 377 212 408 284\" stroke=\"gray\" stroke-width=\"0.2\"/><path d=\"M 377 212 349 251\" stroke=\"gray\" stroke-width=\"0.2\"/><path d=\"M 377 212 348 198\" stroke=\"gray\" stroke-width=\"0.2\"/><path d=\"M 377 212 338 224\" stroke=\"gray\" stroke-width=\"0.2\"/><path d=\"M 377 212 302 226\" stroke=\"gray\" stroke-width=\"0.2\"/><path d=\"M 302 226 377 235\" stroke=\"gray\" stroke-width=\"0.2\"/><path d=\"M 302 226 317 248\" stroke=\"gray\" stroke-width=\"0.2\"/><path d=\"M 302 226 314 202\" stroke=\"gray\" stroke-width=\"0.2\"/><path d=\"M 302 226 386 131\" stroke=\"gray\" stroke-width=\"0.2\"/><path d=\"M 302 226 408 284\" stroke=\"gray\" stroke-width=\"0.2\"/><path d=\"M 302 226 349 251\" stroke=\"gray\" stroke-width=\"0.2\"/><path d=\"M 302 226 348 198\" stroke=\"gray\" stroke-width=\"0.2\"/><path d=\"M 302 226 338 224\" stroke=\"gray\" stroke-width=\"0.2\"/><path d=\"M 302 226 377 212\" stroke=\"gray\" stroke-width=\"0.2\"/><circle cx=\"574\" cy=\"83\" r=\"3.0\" style=\"fill:rgb(197, 213, 242);stroke:black;stroke-width:1.0\"/><circle cx=\"377\" cy=\"235\" r=\"3.0\" style=\"fill:rgb(145, 179, 254);stroke:black;stroke-width:1.0\"/><circle cx=\"317\" cy=\"248\" r=\"3.0\" style=\"fill:rgb(145, 179, 254);stroke:black;stroke-width:1.0\"/><circle cx=\"257\" cy=\"41\" r=\"3.0\" style=\"fill:rgb(120, 155, 247);stroke:black;stroke-width:1.0\"/><circle cx=\"282\" cy=\"62\" r=\"3.0\" style=\"fill:rgb(120, 155, 247);stroke:black;stroke-width:1.0\"/><circle cx=\"208\" cy=\"94\" r=\"3.0\" style=\"fill:rgb(208, 218, 233);stroke:black;stroke-width:1.0\"/><circle cx=\"315\" cy=\"50\" r=\"3.0\" style=\"fill:rgb(120, 155, 247);stroke:black;stroke-width:1.0\"/><circle cx=\"522\" cy=\"360\" r=\"3.0\" style=\"fill:rgb(96, 128, 232);stroke:black;stroke-width:1.0\"/><circle cx=\"477\" cy=\"87\" r=\"3.0\" style=\"fill:rgb(138, 173, 253);stroke:black;stroke-width:1.0\"/><circle cx=\"20\" cy=\"313\" r=\"3.0\" style=\"fill:rgb(76, 102, 214);stroke:black;stroke-width:1.0\"/><circle cx=\"314\" cy=\"202\" r=\"3.0\" style=\"fill:rgb(145, 179, 254);stroke:black;stroke-width:1.0\"/><circle cx=\"65\" cy=\"329\" r=\"3.0\" style=\"fill:rgb(76, 102, 214);stroke:black;stroke-width:1.0\"/><circle cx=\"280\" cy=\"20\" r=\"3.0\" style=\"fill:rgb(120, 155, 247);stroke:black;stroke-width:1.0\"/><circle cx=\"720\" cy=\"74\" r=\"3.0\" style=\"fill:rgb(58, 76, 192);stroke:black;stroke-width:1.0\"/><circle cx=\"483\" cy=\"364\" r=\"3.0\" style=\"fill:rgb(96, 128, 232);stroke:black;stroke-width:1.0\"/><circle cx=\"98\" cy=\"132\" r=\"3.0\" style=\"fill:rgb(88, 118, 226);stroke:black;stroke-width:1.0\"/><circle cx=\"386\" cy=\"131\" r=\"3.0\" style=\"fill:rgb(179, 3, 38);stroke:black;stroke-width:1.0\"/><circle cx=\"535\" cy=\"102\" r=\"3.0\" style=\"fill:rgb(138, 173, 253);stroke:black;stroke-width:1.0\"/><circle cx=\"522\" cy=\"74\" r=\"3.0\" style=\"fill:rgb(138, 173, 253);stroke:black;stroke-width:1.0\"/><circle cx=\"615\" cy=\"496\" r=\"3.0\" style=\"fill:rgb(70, 93, 207);stroke:black;stroke-width:1.0\"/><circle cx=\"459\" cy=\"390\" r=\"3.0\" style=\"fill:rgb(96, 128, 232);stroke:black;stroke-width:1.0\"/><circle cx=\"314\" cy=\"22\" r=\"3.0\" style=\"fill:rgb(120, 155, 247);stroke:black;stroke-width:1.0\"/><circle cx=\"63\" cy=\"124\" r=\"3.0\" style=\"fill:rgb(88, 118, 226);stroke:black;stroke-width:1.0\"/><circle cx=\"408\" cy=\"284\" r=\"3.0\" style=\"fill:rgb(231, 214, 204);stroke:black;stroke-width:1.0\"/><circle cx=\"567\" cy=\"520\" r=\"3.0\" style=\"fill:rgb(70, 93, 207);stroke:black;stroke-width:1.0\"/><circle cx=\"497\" cy=\"105\" r=\"3.0\" style=\"fill:rgb(138, 173, 253);stroke:black;stroke-width:1.0\"/><circle cx=\"349\" cy=\"251\" r=\"3.0\" style=\"fill:rgb(145, 179, 254);stroke:black;stroke-width:1.0\"/><circle cx=\"494\" cy=\"64\" r=\"3.0\" style=\"fill:rgb(138, 173, 253);stroke:black;stroke-width:1.0\"/><circle cx=\"81\" cy=\"211\" r=\"3.0\" style=\"fill:rgb(170, 198, 253);stroke:black;stroke-width:1.0\"/><circle cx=\"500\" cy=\"130\" r=\"3.0\" style=\"fill:rgb(138, 173, 253);stroke:black;stroke-width:1.0\"/><circle cx=\"348\" cy=\"198\" r=\"3.0\" style=\"fill:rgb(145, 179, 254);stroke:black;stroke-width:1.0\"/><circle cx=\"520\" cy=\"420\" r=\"3.0\" style=\"fill:rgb(170, 198, 253);stroke:black;stroke-width:1.0\"/><circle cx=\"533\" cy=\"129\" r=\"3.0\" style=\"fill:rgb(138, 173, 253);stroke:black;stroke-width:1.0\"/><circle cx=\"702\" cy=\"31\" r=\"3.0\" style=\"fill:rgb(58, 76, 192);stroke:black;stroke-width:1.0\"/><circle cx=\"338\" cy=\"224\" r=\"3.0\" style=\"fill:rgb(145, 179, 254);stroke:black;stroke-width:1.0\"/><circle cx=\"377\" cy=\"212\" r=\"3.0\" style=\"fill:rgb(145, 179, 254);stroke:black;stroke-width:1.0\"/><circle cx=\"302\" cy=\"226\" r=\"3.0\" style=\"fill:rgb(145, 179, 254);stroke:black;stroke-width:1.0\"/><text font-size=\"10\" x=\"580\" y=\"86\">Liang Ma</text><text font-size=\"10\" x=\"383\" y=\"238\">Yun Chen</text><text font-size=\"10\" x=\"323\" y=\"251\">Shuwei Qiu</text><text font-size=\"10\" x=\"263\" y=\"44\">Wenbo Hu</text><text font-size=\"10\" x=\"288\" y=\"65\">Baocai Yin</text><text font-size=\"10\" x=\"214\" y=\"97\">Dawei Wang</text><text font-size=\"10\" x=\"321\" y=\"53\">Lijing Zhao</text><text font-size=\"10\" x=\"528\" y=\"363\">Hongzhi Wang</text><text font-size=\"10\" x=\"483\" y=\"90\">Guangtao Liu</text><text font-size=\"10\" x=\"26\" y=\"316\">Qiang Ling</text><text font-size=\"10\" x=\"320\" y=\"205\">Ya Yu</text><text font-size=\"10\" x=\"71\" y=\"332\">Wenyi Zhang</text><text font-size=\"10\" x=\"286\" y=\"23\">Xiaopeng Wei</text><text font-size=\"10\" x=\"726\" y=\"77\">Mudhakar Srivatsa</text><text font-size=\"10\" x=\"489\" y=\"367\">Jianzhong Li</text><text font-size=\"10\" x=\"104\" y=\"135\">Danni Wei</text><text font-size=\"10\" x=\"392\" y=\"134\">Xin Yang</text><text font-size=\"10\" x=\"541\" y=\"105\">Jinqun Cai</text><text font-size=\"10\" x=\"528\" y=\"77\">Guochun Yang</text><text font-size=\"10\" x=\"621\" y=\"499\">Dongyang Kuang</text><text font-size=\"10\" x=\"465\" y=\"393\">Mengwen Chen</text><text font-size=\"10\" x=\"320\" y=\"25\">Hongbo Fu</text><text font-size=\"10\" x=\"69\" y=\"127\">Jiale Zhang</text><text font-size=\"10\" x=\"414\" y=\"287\">Hong Gao</text><text font-size=\"10\" x=\"573\" y=\"523\">Craig Michoski</text><text font-size=\"10\" x=\"503\" y=\"108\">Hongbo Wang</text><text font-size=\"10\" x=\"355\" y=\"254\">Jinwen Wang</text><text font-size=\"10\" x=\"500\" y=\"67\">Hanyu Liu</text><text font-size=\"10\" x=\"87\" y=\"214\">Feng Zhang</text><text font-size=\"10\" x=\"506\" y=\"133\">Hui Wang</text><text font-size=\"10\" x=\"354\" y=\"201\">Dong Wei</text><text font-size=\"10\" x=\"526\" y=\"423\">Rui Guo</text><text font-size=\"10\" x=\"539\" y=\"132\">Mi Zhou</text><text font-size=\"10\" x=\"708\" y=\"34\">Ziyao Zhang</text><text font-size=\"10\" x=\"344\" y=\"227\">Fuli Li</text><text font-size=\"10\" x=\"383\" y=\"215\">Chengyuan Wang</text><text font-size=\"10\" x=\"308\" y=\"229\">Mingtao Cao</text></svg>"
      ],
      "text/plain": [
       "<IPython.core.display.SVG object>"
      ]
     },
     "execution_count": 51,
     "metadata": {},
     "output_type": "execute_result"
    }
   ],
   "source": [
    "G_check = community_context_dict[communities[4]]['G']\n",
    "draw_community(G_check)"
   ]
  },
  {
   "cell_type": "code",
   "execution_count": 52,
   "id": "9c4528ab",
   "metadata": {},
   "outputs": [
    {
     "data": {
      "text/plain": [
       "['A Monotonicity Constrained Attention Module for Emotion Classification with Limited EEG Data',\n",
       " 'Competition Between Wireless Service Providers: Pricing, Equilibrium and Efficiency',\n",
       " 'DEMC: A Deep Dual-Encoder Network for Denoising Monte Carlo Rendering',\n",
       " 'Design and Synthesis of Clathrate LaB8 with Superconductivity',\n",
       " 'Emergence of Symmetry in Complex Networks',\n",
       " 'Forgetting Prevention for Cross-regional Fraud Detection with Heterogeneous Trade Graph',\n",
       " 'KAM -- a Kernel Attention Module for Emotion Classification with EEG Data',\n",
       " 'Network Quotients: Structural Skeletons of Complex Systems',\n",
       " 'Neural Network Tomography',\n",
       " 'Non-cooperative Game For Capacity Offload',\n",
       " 'Parallelization in Extracting Fresh Information from Online Social Network',\n",
       " 'Query Answering via Decentralized Search',\n",
       " 'Robustness of Complex Networks against Attacks Guided by Damage',\n",
       " 'Structural phase transition of two-dimensional monolayer SnTe from artificial neural network',\n",
       " 'Symmetry based Structure Entropy of Complex Networks',\n",
       " 'Synchronization Analysis in Physical Layer Network Coding',\n",
       " 'Towards efficient quantum memory of orbital angular momentum qubits in cold atoms']"
      ]
     },
     "execution_count": 52,
     "metadata": {},
     "output_type": "execute_result"
    }
   ],
   "source": [
    "show_author_papers(df, G_check)"
   ]
  },
  {
   "cell_type": "code",
   "execution_count": 53,
   "id": "4b8c31db",
   "metadata": {},
   "outputs": [
    {
     "name": "stdout",
     "output_type": "stream",
     "text": [
      "Density: 0.2044334975369458\n",
      "Node Count: 29\n"
     ]
    },
    {
     "data": {
      "image/svg+xml": [
       "<svg height=\"540\" width=\"920.0\" xmlns=\"http://www.w3.org/2000/svg\"><path d=\"M 383 170 300 154\" stroke=\"gray\" stroke-width=\"0.2\"/><path d=\"M 383 170 498 181\" stroke=\"gray\" stroke-width=\"0.2\"/><path d=\"M 383 170 365 141\" stroke=\"gray\" stroke-width=\"0.2\"/><path d=\"M 383 170 370 201\" stroke=\"gray\" stroke-width=\"0.2\"/><path d=\"M 383 170 265 229\" stroke=\"gray\" stroke-width=\"0.2\"/><path d=\"M 227 125 300 154\" stroke=\"gray\" stroke-width=\"0.2\"/><path d=\"M 227 125 168 150\" stroke=\"gray\" stroke-width=\"0.2\"/><path d=\"M 227 125 199 170\" stroke=\"gray\" stroke-width=\"0.2\"/><path d=\"M 227 125 190 116\" stroke=\"gray\" stroke-width=\"0.2\"/><path d=\"M 227 125 265 229\" stroke=\"gray\" stroke-width=\"0.2\"/><path d=\"M 300 154 383 170\" stroke=\"gray\" stroke-width=\"0.2\"/><path d=\"M 300 154 227 125\" stroke=\"gray\" stroke-width=\"0.2\"/><path d=\"M 300 154 168 150\" stroke=\"gray\" stroke-width=\"0.2\"/><path d=\"M 300 154 498 181\" stroke=\"gray\" stroke-width=\"0.2\"/><path d=\"M 300 154 365 141\" stroke=\"gray\" stroke-width=\"0.2\"/><path d=\"M 300 154 199 170\" stroke=\"gray\" stroke-width=\"0.2\"/><path d=\"M 300 154 190 116\" stroke=\"gray\" stroke-width=\"0.2\"/><path d=\"M 300 154 370 201\" stroke=\"gray\" stroke-width=\"0.2\"/><path d=\"M 300 154 265 229\" stroke=\"gray\" stroke-width=\"0.2\"/><path d=\"M 168 150 227 125\" stroke=\"gray\" stroke-width=\"0.2\"/><path d=\"M 168 150 300 154\" stroke=\"gray\" stroke-width=\"0.2\"/><path d=\"M 168 150 199 170\" stroke=\"gray\" stroke-width=\"0.2\"/><path d=\"M 168 150 190 116\" stroke=\"gray\" stroke-width=\"0.2\"/><path d=\"M 168 150 265 229\" stroke=\"gray\" stroke-width=\"0.2\"/><path d=\"M 94 484 48 514\" stroke=\"gray\" stroke-width=\"0.2\"/><path d=\"M 94 484 94 520\" stroke=\"gray\" stroke-width=\"0.2\"/><path d=\"M 94 484 20 484\" stroke=\"gray\" stroke-width=\"0.2\"/><path d=\"M 94 484 132 404\" stroke=\"gray\" stroke-width=\"0.2\"/><path d=\"M 94 484 47 459\" stroke=\"gray\" stroke-width=\"0.2\"/><path d=\"M 498 181 383 170\" stroke=\"gray\" stroke-width=\"0.2\"/><path d=\"M 498 181 300 154\" stroke=\"gray\" stroke-width=\"0.2\"/><path d=\"M 498 181 606 252\" stroke=\"gray\" stroke-width=\"0.2\"/><path d=\"M 498 181 365 141\" stroke=\"gray\" stroke-width=\"0.2\"/><path d=\"M 498 181 640 93\" stroke=\"gray\" stroke-width=\"0.2\"/><path d=\"M 498 181 612 211\" stroke=\"gray\" stroke-width=\"0.2\"/><path d=\"M 498 181 642 242\" stroke=\"gray\" stroke-width=\"0.2\"/><path d=\"M 498 181 620 60\" stroke=\"gray\" stroke-width=\"0.2\"/><path d=\"M 498 181 370 201\" stroke=\"gray\" stroke-width=\"0.2\"/><path d=\"M 498 181 606 284\" stroke=\"gray\" stroke-width=\"0.2\"/><path d=\"M 498 181 562 274\" stroke=\"gray\" stroke-width=\"0.2\"/><path d=\"M 498 181 565 73\" stroke=\"gray\" stroke-width=\"0.2\"/><path d=\"M 498 181 568 233\" stroke=\"gray\" stroke-width=\"0.2\"/><path d=\"M 498 181 265 229\" stroke=\"gray\" stroke-width=\"0.2\"/><path d=\"M 48 514 94 484\" stroke=\"gray\" stroke-width=\"0.2\"/><path d=\"M 48 514 94 520\" stroke=\"gray\" stroke-width=\"0.2\"/><path d=\"M 48 514 20 484\" stroke=\"gray\" stroke-width=\"0.2\"/><path d=\"M 48 514 132 404\" stroke=\"gray\" stroke-width=\"0.2\"/><path d=\"M 48 514 47 459\" stroke=\"gray\" stroke-width=\"0.2\"/><path d=\"M 606 252 498 181\" stroke=\"gray\" stroke-width=\"0.2\"/><path d=\"M 606 252 612 211\" stroke=\"gray\" stroke-width=\"0.2\"/><path d=\"M 606 252 642 242\" stroke=\"gray\" stroke-width=\"0.2\"/><path d=\"M 606 252 606 284\" stroke=\"gray\" stroke-width=\"0.2\"/><path d=\"M 606 252 562 274\" stroke=\"gray\" stroke-width=\"0.2\"/><path d=\"M 606 252 568 233\" stroke=\"gray\" stroke-width=\"0.2\"/><path d=\"M 365 141 383 170\" stroke=\"gray\" stroke-width=\"0.2\"/><path d=\"M 365 141 300 154\" stroke=\"gray\" stroke-width=\"0.2\"/><path d=\"M 365 141 498 181\" stroke=\"gray\" stroke-width=\"0.2\"/><path d=\"M 365 141 370 201\" stroke=\"gray\" stroke-width=\"0.2\"/><path d=\"M 365 141 265 229\" stroke=\"gray\" stroke-width=\"0.2\"/><path d=\"M 199 170 227 125\" stroke=\"gray\" stroke-width=\"0.2\"/><path d=\"M 199 170 300 154\" stroke=\"gray\" stroke-width=\"0.2\"/><path d=\"M 199 170 168 150\" stroke=\"gray\" stroke-width=\"0.2\"/><path d=\"M 199 170 190 116\" stroke=\"gray\" stroke-width=\"0.2\"/><path d=\"M 199 170 265 229\" stroke=\"gray\" stroke-width=\"0.2\"/><path d=\"M 94 520 94 484\" stroke=\"gray\" stroke-width=\"0.2\"/><path d=\"M 94 520 48 514\" stroke=\"gray\" stroke-width=\"0.2\"/><path d=\"M 94 520 20 484\" stroke=\"gray\" stroke-width=\"0.2\"/><path d=\"M 94 520 132 404\" stroke=\"gray\" stroke-width=\"0.2\"/><path d=\"M 94 520 47 459\" stroke=\"gray\" stroke-width=\"0.2\"/><path d=\"M 640 93 498 181\" stroke=\"gray\" stroke-width=\"0.2\"/><path d=\"M 640 93 720 20\" stroke=\"gray\" stroke-width=\"0.2\"/><path d=\"M 640 93 620 60\" stroke=\"gray\" stroke-width=\"0.2\"/><path d=\"M 640 93 565 73\" stroke=\"gray\" stroke-width=\"0.2\"/><path d=\"M 190 116 227 125\" stroke=\"gray\" stroke-width=\"0.2\"/><path d=\"M 190 116 300 154\" stroke=\"gray\" stroke-width=\"0.2\"/><path d=\"M 190 116 168 150\" stroke=\"gray\" stroke-width=\"0.2\"/><path d=\"M 190 116 199 170\" stroke=\"gray\" stroke-width=\"0.2\"/><path d=\"M 190 116 265 229\" stroke=\"gray\" stroke-width=\"0.2\"/><path d=\"M 612 211 498 181\" stroke=\"gray\" stroke-width=\"0.2\"/><path d=\"M 612 211 606 252\" stroke=\"gray\" stroke-width=\"0.2\"/><path d=\"M 612 211 642 242\" stroke=\"gray\" stroke-width=\"0.2\"/><path d=\"M 612 211 606 284\" stroke=\"gray\" stroke-width=\"0.2\"/><path d=\"M 612 211 562 274\" stroke=\"gray\" stroke-width=\"0.2\"/><path d=\"M 612 211 568 233\" stroke=\"gray\" stroke-width=\"0.2\"/><path d=\"M 20 484 94 484\" stroke=\"gray\" stroke-width=\"0.2\"/><path d=\"M 20 484 48 514\" stroke=\"gray\" stroke-width=\"0.2\"/><path d=\"M 20 484 94 520\" stroke=\"gray\" stroke-width=\"0.2\"/><path d=\"M 20 484 132 404\" stroke=\"gray\" stroke-width=\"0.2\"/><path d=\"M 20 484 47 459\" stroke=\"gray\" stroke-width=\"0.2\"/><path d=\"M 642 242 498 181\" stroke=\"gray\" stroke-width=\"0.2\"/><path d=\"M 642 242 606 252\" stroke=\"gray\" stroke-width=\"0.2\"/><path d=\"M 642 242 612 211\" stroke=\"gray\" stroke-width=\"0.2\"/><path d=\"M 642 242 606 284\" stroke=\"gray\" stroke-width=\"0.2\"/><path d=\"M 642 242 562 274\" stroke=\"gray\" stroke-width=\"0.2\"/><path d=\"M 642 242 568 233\" stroke=\"gray\" stroke-width=\"0.2\"/><path d=\"M 208 325 132 404\" stroke=\"gray\" stroke-width=\"0.2\"/><path d=\"M 208 325 163 318\" stroke=\"gray\" stroke-width=\"0.2\"/><path d=\"M 208 325 222 356\" stroke=\"gray\" stroke-width=\"0.2\"/><path d=\"M 208 325 265 229\" stroke=\"gray\" stroke-width=\"0.2\"/><path d=\"M 132 404 94 484\" stroke=\"gray\" stroke-width=\"0.2\"/><path d=\"M 132 404 48 514\" stroke=\"gray\" stroke-width=\"0.2\"/><path d=\"M 132 404 94 520\" stroke=\"gray\" stroke-width=\"0.2\"/><path d=\"M 132 404 20 484\" stroke=\"gray\" stroke-width=\"0.2\"/><path d=\"M 132 404 208 325\" stroke=\"gray\" stroke-width=\"0.2\"/><path d=\"M 132 404 47 459\" stroke=\"gray\" stroke-width=\"0.2\"/><path d=\"M 132 404 163 318\" stroke=\"gray\" stroke-width=\"0.2\"/><path d=\"M 132 404 222 356\" stroke=\"gray\" stroke-width=\"0.2\"/><path d=\"M 132 404 265 229\" stroke=\"gray\" stroke-width=\"0.2\"/><path d=\"M 720 20 640 93\" stroke=\"gray\" stroke-width=\"0.2\"/><path d=\"M 720 20 620 60\" stroke=\"gray\" stroke-width=\"0.2\"/><path d=\"M 620 60 498 181\" stroke=\"gray\" stroke-width=\"0.2\"/><path d=\"M 620 60 640 93\" stroke=\"gray\" stroke-width=\"0.2\"/><path d=\"M 620 60 720 20\" stroke=\"gray\" stroke-width=\"0.2\"/><path d=\"M 620 60 565 73\" stroke=\"gray\" stroke-width=\"0.2\"/><path d=\"M 47 459 94 484\" stroke=\"gray\" stroke-width=\"0.2\"/><path d=\"M 47 459 48 514\" stroke=\"gray\" stroke-width=\"0.2\"/><path d=\"M 47 459 94 520\" stroke=\"gray\" stroke-width=\"0.2\"/><path d=\"M 47 459 20 484\" stroke=\"gray\" stroke-width=\"0.2\"/><path d=\"M 47 459 132 404\" stroke=\"gray\" stroke-width=\"0.2\"/><path d=\"M 370 201 383 170\" stroke=\"gray\" stroke-width=\"0.2\"/><path d=\"M 370 201 300 154\" stroke=\"gray\" stroke-width=\"0.2\"/><path d=\"M 370 201 498 181\" stroke=\"gray\" stroke-width=\"0.2\"/><path d=\"M 370 201 365 141\" stroke=\"gray\" stroke-width=\"0.2\"/><path d=\"M 370 201 265 229\" stroke=\"gray\" stroke-width=\"0.2\"/><path d=\"M 163 318 208 325\" stroke=\"gray\" stroke-width=\"0.2\"/><path d=\"M 163 318 132 404\" stroke=\"gray\" stroke-width=\"0.2\"/><path d=\"M 163 318 222 356\" stroke=\"gray\" stroke-width=\"0.2\"/><path d=\"M 163 318 265 229\" stroke=\"gray\" stroke-width=\"0.2\"/><path d=\"M 222 356 208 325\" stroke=\"gray\" stroke-width=\"0.2\"/><path d=\"M 222 356 132 404\" stroke=\"gray\" stroke-width=\"0.2\"/><path d=\"M 222 356 163 318\" stroke=\"gray\" stroke-width=\"0.2\"/><path d=\"M 222 356 265 229\" stroke=\"gray\" stroke-width=\"0.2\"/><path d=\"M 606 284 498 181\" stroke=\"gray\" stroke-width=\"0.2\"/><path d=\"M 606 284 606 252\" stroke=\"gray\" stroke-width=\"0.2\"/><path d=\"M 606 284 612 211\" stroke=\"gray\" stroke-width=\"0.2\"/><path d=\"M 606 284 642 242\" stroke=\"gray\" stroke-width=\"0.2\"/><path d=\"M 606 284 562 274\" stroke=\"gray\" stroke-width=\"0.2\"/><path d=\"M 606 284 568 233\" stroke=\"gray\" stroke-width=\"0.2\"/><path d=\"M 562 274 498 181\" stroke=\"gray\" stroke-width=\"0.2\"/><path d=\"M 562 274 606 252\" stroke=\"gray\" stroke-width=\"0.2\"/><path d=\"M 562 274 612 211\" stroke=\"gray\" stroke-width=\"0.2\"/><path d=\"M 562 274 642 242\" stroke=\"gray\" stroke-width=\"0.2\"/><path d=\"M 562 274 606 284\" stroke=\"gray\" stroke-width=\"0.2\"/><path d=\"M 562 274 568 233\" stroke=\"gray\" stroke-width=\"0.2\"/><path d=\"M 565 73 498 181\" stroke=\"gray\" stroke-width=\"0.2\"/><path d=\"M 565 73 640 93\" stroke=\"gray\" stroke-width=\"0.2\"/><path d=\"M 565 73 620 60\" stroke=\"gray\" stroke-width=\"0.2\"/><path d=\"M 568 233 498 181\" stroke=\"gray\" stroke-width=\"0.2\"/><path d=\"M 568 233 606 252\" stroke=\"gray\" stroke-width=\"0.2\"/><path d=\"M 568 233 612 211\" stroke=\"gray\" stroke-width=\"0.2\"/><path d=\"M 568 233 642 242\" stroke=\"gray\" stroke-width=\"0.2\"/><path d=\"M 568 233 606 284\" stroke=\"gray\" stroke-width=\"0.2\"/><path d=\"M 568 233 562 274\" stroke=\"gray\" stroke-width=\"0.2\"/><path d=\"M 265 229 383 170\" stroke=\"gray\" stroke-width=\"0.2\"/><path d=\"M 265 229 227 125\" stroke=\"gray\" stroke-width=\"0.2\"/><path d=\"M 265 229 300 154\" stroke=\"gray\" stroke-width=\"0.2\"/><path d=\"M 265 229 168 150\" stroke=\"gray\" stroke-width=\"0.2\"/><path d=\"M 265 229 498 181\" stroke=\"gray\" stroke-width=\"0.2\"/><path d=\"M 265 229 365 141\" stroke=\"gray\" stroke-width=\"0.2\"/><path d=\"M 265 229 199 170\" stroke=\"gray\" stroke-width=\"0.2\"/><path d=\"M 265 229 190 116\" stroke=\"gray\" stroke-width=\"0.2\"/><path d=\"M 265 229 208 325\" stroke=\"gray\" stroke-width=\"0.2\"/><path d=\"M 265 229 132 404\" stroke=\"gray\" stroke-width=\"0.2\"/><path d=\"M 265 229 370 201\" stroke=\"gray\" stroke-width=\"0.2\"/><path d=\"M 265 229 163 318\" stroke=\"gray\" stroke-width=\"0.2\"/><path d=\"M 265 229 222 356\" stroke=\"gray\" stroke-width=\"0.2\"/><circle cx=\"383\" cy=\"170\" r=\"3.0\" style=\"fill:rgb(112, 147, 243);stroke:black;stroke-width:1.0\"/><circle cx=\"227\" cy=\"125\" r=\"3.0\" style=\"fill:rgb(116, 151, 245);stroke:black;stroke-width:1.0\"/><circle cx=\"300\" cy=\"154\" r=\"3.0\" style=\"fill:rgb(224, 218, 215);stroke:black;stroke-width:1.0\"/><circle cx=\"168\" cy=\"150\" r=\"3.0\" style=\"fill:rgb(116, 151, 245);stroke:black;stroke-width:1.0\"/><circle cx=\"94\" cy=\"484\" r=\"3.0\" style=\"fill:rgb(130, 165, 251);stroke:black;stroke-width:1.0\"/><circle cx=\"498\" cy=\"181\" r=\"3.0\" style=\"fill:rgb(179, 3, 38);stroke:black;stroke-width:1.0\"/><circle cx=\"48\" cy=\"514\" r=\"3.0\" style=\"fill:rgb(130, 165, 251);stroke:black;stroke-width:1.0\"/><circle cx=\"606\" cy=\"252\" r=\"3.0\" style=\"fill:rgb(141, 175, 253);stroke:black;stroke-width:1.0\"/><circle cx=\"365\" cy=\"141\" r=\"3.0\" style=\"fill:rgb(112, 147, 243);stroke:black;stroke-width:1.0\"/><circle cx=\"199\" cy=\"170\" r=\"3.0\" style=\"fill:rgb(116, 151, 245);stroke:black;stroke-width:1.0\"/><circle cx=\"94\" cy=\"520\" r=\"3.0\" style=\"fill:rgb(130, 165, 251);stroke:black;stroke-width:1.0\"/><circle cx=\"640\" cy=\"93\" r=\"3.0\" style=\"fill:rgb(123, 158, 248);stroke:black;stroke-width:1.0\"/><circle cx=\"190\" cy=\"116\" r=\"3.0\" style=\"fill:rgb(116, 151, 245);stroke:black;stroke-width:1.0\"/><circle cx=\"612\" cy=\"211\" r=\"3.0\" style=\"fill:rgb(141, 175, 253);stroke:black;stroke-width:1.0\"/><circle cx=\"20\" cy=\"484\" r=\"3.0\" style=\"fill:rgb(130, 165, 251);stroke:black;stroke-width:1.0\"/><circle cx=\"642\" cy=\"242\" r=\"3.0\" style=\"fill:rgb(141, 175, 253);stroke:black;stroke-width:1.0\"/><circle cx=\"208\" cy=\"325\" r=\"3.0\" style=\"fill:rgb(96, 128, 232);stroke:black;stroke-width:1.0\"/><circle cx=\"132\" cy=\"404\" r=\"3.0\" style=\"fill:rgb(239, 206, 188);stroke:black;stroke-width:1.0\"/><circle cx=\"720\" cy=\"20\" r=\"3.0\" style=\"fill:rgb(58, 76, 192);stroke:black;stroke-width:1.0\"/><circle cx=\"620\" cy=\"60\" r=\"3.0\" style=\"fill:rgb(123, 158, 248);stroke:black;stroke-width:1.0\"/><circle cx=\"47\" cy=\"459\" r=\"3.0\" style=\"fill:rgb(130, 165, 251);stroke:black;stroke-width:1.0\"/><circle cx=\"370\" cy=\"201\" r=\"3.0\" style=\"fill:rgb(112, 147, 243);stroke:black;stroke-width:1.0\"/><circle cx=\"163\" cy=\"318\" r=\"3.0\" style=\"fill:rgb(96, 128, 232);stroke:black;stroke-width:1.0\"/><circle cx=\"222\" cy=\"356\" r=\"3.0\" style=\"fill:rgb(96, 128, 232);stroke:black;stroke-width:1.0\"/><circle cx=\"606\" cy=\"284\" r=\"3.0\" style=\"fill:rgb(141, 175, 253);stroke:black;stroke-width:1.0\"/><circle cx=\"562\" cy=\"274\" r=\"3.0\" style=\"fill:rgb(141, 175, 253);stroke:black;stroke-width:1.0\"/><circle cx=\"565\" cy=\"73\" r=\"3.0\" style=\"fill:rgb(80, 107, 218);stroke:black;stroke-width:1.0\"/><circle cx=\"568\" cy=\"233\" r=\"3.0\" style=\"fill:rgb(141, 175, 253);stroke:black;stroke-width:1.0\"/><circle cx=\"265\" cy=\"229\" r=\"3.0\" style=\"fill:rgb(220, 94, 75);stroke:black;stroke-width:1.0\"/><text font-size=\"10\" x=\"389\" y=\"173\">Scott Gigante</text><text font-size=\"10\" x=\"233\" y=\"128\">Alexander Tong</text><text font-size=\"10\" x=\"306\" y=\"157\">Smita Krishnaswamy</text><text font-size=\"10\" x=\"174\" y=\"153\">Aarthi Venkat</text><text font-size=\"10\" x=\"100\" y=\"487\">Kwang Jin Kim</text><text font-size=\"10\" x=\"504\" y=\"184\">David van Dijk</text><text font-size=\"10\" x=\"54\" y=\"517\">Xavier Brumwell</text><text font-size=\"10\" x=\"612\" y=\"255\">Andrew Henry Moberly</text><text font-size=\"10\" x=\"371\" y=\"144\">Kevin Moon</text><text font-size=\"10\" x=\"205\" y=\"173\">Samuel Leone</text><text font-size=\"10\" x=\"100\" y=\"523\">Michael W. Swift</text><text font-size=\"10\" x=\"646\" y=\"96\">Arijit Sehanobish</text><text font-size=\"10\" x=\"196\" y=\"119\">Guillaume Huguet</text><text font-size=\"10\" x=\"618\" y=\"214\">Emanuele Zappala</text><text font-size=\"10\" x=\"26\" y=\"487\">Paul Sinz</text><text font-size=\"10\" x=\"648\" y=\"245\">Chadi Abdallah</text><text font-size=\"10\" x=\"214\" y=\"328\">Frederik Wenkel</text><text font-size=\"10\" x=\"138\" y=\"407\">Matthew Hirn</text><text font-size=\"10\" x=\"726\" y=\"23\">Hector H Corzo</text><text font-size=\"10\" x=\"626\" y=\"63\">Onur Kara</text><text font-size=\"10\" x=\"53\" y=\"462\">Yue Qi</text><text font-size=\"10\" x=\"376\" y=\"204\">Alexander Strzalkowski</text><text font-size=\"10\" x=\"169\" y=\"321\">Yimeng Min</text><text font-size=\"10\" x=\"228\" y=\"359\">Michael Perlmutter</text><text font-size=\"10\" x=\"612\" y=\"287\">Antonio Henrique de Oliveira Fonseca</text><text font-size=\"10\" x=\"568\" y=\"277\">Michael James Higley</text><text font-size=\"10\" x=\"571\" y=\"76\">Hector H. Corzo</text><text font-size=\"10\" x=\"574\" y=\"236\">Jessica Cardin</text><text font-size=\"10\" x=\"271\" y=\"232\">Guy Wolf</text></svg>"
      ],
      "text/plain": [
       "<IPython.core.display.SVG object>"
      ]
     },
     "execution_count": 53,
     "metadata": {},
     "output_type": "execute_result"
    }
   ],
   "source": [
    "G_check = community_context_dict[communities[5]]['G']\n",
    "draw_community(G_check)"
   ]
  },
  {
   "cell_type": "code",
   "execution_count": 54,
   "id": "202cd434",
   "metadata": {},
   "outputs": [
    {
     "data": {
      "text/plain": [
       "['Fine-tuning Vision Transformers for the Prediction of State Variables in Ising Models',\n",
       " 'Graph Fourier MMD for Signals on Graphs',\n",
       " 'Learning Full Configuration Interaction Electron Correlations with Deep Learning',\n",
       " 'Learning Potentials of Quantum Systems using Deep Neural Networks',\n",
       " 'Modeling Global Dynamics from Local Snapshots with Deep Generative Neural Networks',\n",
       " 'Neural Integro-Differential Equations',\n",
       " 'Overcoming Oversmoothness in Graph Convolutional Networks via Hybrid Scattering Networks',\n",
       " 'Wavelet Scattering Networks for Atomistic Systems with Extrapolation of Material Properties']"
      ]
     },
     "execution_count": 54,
     "metadata": {},
     "output_type": "execute_result"
    }
   ],
   "source": [
    "show_author_papers(df, G_check)"
   ]
  },
  {
   "cell_type": "code",
   "execution_count": 55,
   "id": "1dc8c070",
   "metadata": {},
   "outputs": [
    {
     "name": "stdout",
     "output_type": "stream",
     "text": [
      "Density: 0.20923076923076922\n",
      "Node Count: 26\n"
     ]
    },
    {
     "data": {
      "image/svg+xml": [
       "<svg height=\"540\" width=\"860.0\" xmlns=\"http://www.w3.org/2000/svg\"><path d=\"M 485 475 477 520\" stroke=\"gray\" stroke-width=\"0.2\"/><path d=\"M 485 475 400 384\" stroke=\"gray\" stroke-width=\"0.2\"/><path d=\"M 485 475 432 518\" stroke=\"gray\" stroke-width=\"0.2\"/><path d=\"M 239 297 313 309\" stroke=\"gray\" stroke-width=\"0.2\"/><path d=\"M 239 297 347 262\" stroke=\"gray\" stroke-width=\"0.2\"/><path d=\"M 239 297 347 325\" stroke=\"gray\" stroke-width=\"0.2\"/><path d=\"M 239 297 327 348\" stroke=\"gray\" stroke-width=\"0.2\"/><path d=\"M 239 297 291 338\" stroke=\"gray\" stroke-width=\"0.2\"/><path d=\"M 239 297 108 264\" stroke=\"gray\" stroke-width=\"0.2\"/><path d=\"M 239 297 102 147\" stroke=\"gray\" stroke-width=\"0.2\"/><path d=\"M 239 297 293 373\" stroke=\"gray\" stroke-width=\"0.2\"/><path d=\"M 239 297 400 384\" stroke=\"gray\" stroke-width=\"0.2\"/><path d=\"M 239 297 134 221\" stroke=\"gray\" stroke-width=\"0.2\"/><path d=\"M 239 297 325 379\" stroke=\"gray\" stroke-width=\"0.2\"/><path d=\"M 239 297 112 344\" stroke=\"gray\" stroke-width=\"0.2\"/><path d=\"M 720 398 717 340\" stroke=\"gray\" stroke-width=\"0.2\"/><path d=\"M 720 398 600 376\" stroke=\"gray\" stroke-width=\"0.2\"/><path d=\"M 313 309 239 297\" stroke=\"gray\" stroke-width=\"0.2\"/><path d=\"M 313 309 347 262\" stroke=\"gray\" stroke-width=\"0.2\"/><path d=\"M 313 309 347 325\" stroke=\"gray\" stroke-width=\"0.2\"/><path d=\"M 313 309 327 348\" stroke=\"gray\" stroke-width=\"0.2\"/><path d=\"M 313 309 291 338\" stroke=\"gray\" stroke-width=\"0.2\"/><path d=\"M 313 309 293 373\" stroke=\"gray\" stroke-width=\"0.2\"/><path d=\"M 313 309 400 384\" stroke=\"gray\" stroke-width=\"0.2\"/><path d=\"M 313 309 325 379\" stroke=\"gray\" stroke-width=\"0.2\"/><path d=\"M 347 262 239 297\" stroke=\"gray\" stroke-width=\"0.2\"/><path d=\"M 347 262 313 309\" stroke=\"gray\" stroke-width=\"0.2\"/><path d=\"M 347 262 419 160\" stroke=\"gray\" stroke-width=\"0.2\"/><path d=\"M 347 262 347 325\" stroke=\"gray\" stroke-width=\"0.2\"/><path d=\"M 347 262 327 348\" stroke=\"gray\" stroke-width=\"0.2\"/><path d=\"M 347 262 291 338\" stroke=\"gray\" stroke-width=\"0.2\"/><path d=\"M 347 262 293 373\" stroke=\"gray\" stroke-width=\"0.2\"/><path d=\"M 347 262 397 119\" stroke=\"gray\" stroke-width=\"0.2\"/><path d=\"M 347 262 400 384\" stroke=\"gray\" stroke-width=\"0.2\"/><path d=\"M 347 262 356 134\" stroke=\"gray\" stroke-width=\"0.2\"/><path d=\"M 347 262 325 379\" stroke=\"gray\" stroke-width=\"0.2\"/><path d=\"M 419 160 347 262\" stroke=\"gray\" stroke-width=\"0.2\"/><path d=\"M 419 160 397 119\" stroke=\"gray\" stroke-width=\"0.2\"/><path d=\"M 419 160 356 134\" stroke=\"gray\" stroke-width=\"0.2\"/><path d=\"M 347 325 239 297\" stroke=\"gray\" stroke-width=\"0.2\"/><path d=\"M 347 325 313 309\" stroke=\"gray\" stroke-width=\"0.2\"/><path d=\"M 347 325 347 262\" stroke=\"gray\" stroke-width=\"0.2\"/><path d=\"M 347 325 327 348\" stroke=\"gray\" stroke-width=\"0.2\"/><path d=\"M 347 325 291 338\" stroke=\"gray\" stroke-width=\"0.2\"/><path d=\"M 347 325 293 373\" stroke=\"gray\" stroke-width=\"0.2\"/><path d=\"M 347 325 400 384\" stroke=\"gray\" stroke-width=\"0.2\"/><path d=\"M 347 325 325 379\" stroke=\"gray\" stroke-width=\"0.2\"/><path d=\"M 327 348 239 297\" stroke=\"gray\" stroke-width=\"0.2\"/><path d=\"M 327 348 313 309\" stroke=\"gray\" stroke-width=\"0.2\"/><path d=\"M 327 348 347 262\" stroke=\"gray\" stroke-width=\"0.2\"/><path d=\"M 327 348 347 325\" stroke=\"gray\" stroke-width=\"0.2\"/><path d=\"M 327 348 291 338\" stroke=\"gray\" stroke-width=\"0.2\"/><path d=\"M 327 348 293 373\" stroke=\"gray\" stroke-width=\"0.2\"/><path d=\"M 327 348 400 384\" stroke=\"gray\" stroke-width=\"0.2\"/><path d=\"M 327 348 325 379\" stroke=\"gray\" stroke-width=\"0.2\"/><path d=\"M 477 520 485 475\" stroke=\"gray\" stroke-width=\"0.2\"/><path d=\"M 477 520 400 384\" stroke=\"gray\" stroke-width=\"0.2\"/><path d=\"M 477 520 432 518\" stroke=\"gray\" stroke-width=\"0.2\"/><path d=\"M 291 338 239 297\" stroke=\"gray\" stroke-width=\"0.2\"/><path d=\"M 291 338 313 309\" stroke=\"gray\" stroke-width=\"0.2\"/><path d=\"M 291 338 347 262\" stroke=\"gray\" stroke-width=\"0.2\"/><path d=\"M 291 338 347 325\" stroke=\"gray\" stroke-width=\"0.2\"/><path d=\"M 291 338 327 348\" stroke=\"gray\" stroke-width=\"0.2\"/><path d=\"M 291 338 293 373\" stroke=\"gray\" stroke-width=\"0.2\"/><path d=\"M 291 338 400 384\" stroke=\"gray\" stroke-width=\"0.2\"/><path d=\"M 291 338 325 379\" stroke=\"gray\" stroke-width=\"0.2\"/><path d=\"M 108 264 239 297\" stroke=\"gray\" stroke-width=\"0.2\"/><path d=\"M 108 264 102 147\" stroke=\"gray\" stroke-width=\"0.2\"/><path d=\"M 108 264 134 221\" stroke=\"gray\" stroke-width=\"0.2\"/><path d=\"M 108 264 112 344\" stroke=\"gray\" stroke-width=\"0.2\"/><path d=\"M 20 65 102 147\" stroke=\"gray\" stroke-width=\"0.2\"/><path d=\"M 20 65 39 20\" stroke=\"gray\" stroke-width=\"0.2\"/><path d=\"M 20 65 80 32\" stroke=\"gray\" stroke-width=\"0.2\"/><path d=\"M 102 147 239 297\" stroke=\"gray\" stroke-width=\"0.2\"/><path d=\"M 102 147 108 264\" stroke=\"gray\" stroke-width=\"0.2\"/><path d=\"M 102 147 20 65\" stroke=\"gray\" stroke-width=\"0.2\"/><path d=\"M 102 147 39 20\" stroke=\"gray\" stroke-width=\"0.2\"/><path d=\"M 102 147 134 221\" stroke=\"gray\" stroke-width=\"0.2\"/><path d=\"M 102 147 80 32\" stroke=\"gray\" stroke-width=\"0.2\"/><path d=\"M 293 373 239 297\" stroke=\"gray\" stroke-width=\"0.2\"/><path d=\"M 293 373 313 309\" stroke=\"gray\" stroke-width=\"0.2\"/><path d=\"M 293 373 347 262\" stroke=\"gray\" stroke-width=\"0.2\"/><path d=\"M 293 373 347 325\" stroke=\"gray\" stroke-width=\"0.2\"/><path d=\"M 293 373 327 348\" stroke=\"gray\" stroke-width=\"0.2\"/><path d=\"M 293 373 291 338\" stroke=\"gray\" stroke-width=\"0.2\"/><path d=\"M 293 373 400 384\" stroke=\"gray\" stroke-width=\"0.2\"/><path d=\"M 293 373 325 379\" stroke=\"gray\" stroke-width=\"0.2\"/><path d=\"M 529 371 400 384\" stroke=\"gray\" stroke-width=\"0.2\"/><path d=\"M 529 371 600 376\" stroke=\"gray\" stroke-width=\"0.2\"/><path d=\"M 39 20 20 65\" stroke=\"gray\" stroke-width=\"0.2\"/><path d=\"M 39 20 102 147\" stroke=\"gray\" stroke-width=\"0.2\"/><path d=\"M 39 20 80 32\" stroke=\"gray\" stroke-width=\"0.2\"/><path d=\"M 397 119 347 262\" stroke=\"gray\" stroke-width=\"0.2\"/><path d=\"M 397 119 419 160\" stroke=\"gray\" stroke-width=\"0.2\"/><path d=\"M 397 119 356 134\" stroke=\"gray\" stroke-width=\"0.2\"/><path d=\"M 400 384 485 475\" stroke=\"gray\" stroke-width=\"0.2\"/><path d=\"M 400 384 239 297\" stroke=\"gray\" stroke-width=\"0.2\"/><path d=\"M 400 384 313 309\" stroke=\"gray\" stroke-width=\"0.2\"/><path d=\"M 400 384 347 262\" stroke=\"gray\" stroke-width=\"0.2\"/><path d=\"M 400 384 347 325\" stroke=\"gray\" stroke-width=\"0.2\"/><path d=\"M 400 384 327 348\" stroke=\"gray\" stroke-width=\"0.2\"/><path d=\"M 400 384 477 520\" stroke=\"gray\" stroke-width=\"0.2\"/><path d=\"M 400 384 291 338\" stroke=\"gray\" stroke-width=\"0.2\"/><path d=\"M 400 384 293 373\" stroke=\"gray\" stroke-width=\"0.2\"/><path d=\"M 400 384 529 371\" stroke=\"gray\" stroke-width=\"0.2\"/><path d=\"M 400 384 325 379\" stroke=\"gray\" stroke-width=\"0.2\"/><path d=\"M 400 384 600 376\" stroke=\"gray\" stroke-width=\"0.2\"/><path d=\"M 400 384 432 518\" stroke=\"gray\" stroke-width=\"0.2\"/><path d=\"M 717 340 720 398\" stroke=\"gray\" stroke-width=\"0.2\"/><path d=\"M 717 340 600 376\" stroke=\"gray\" stroke-width=\"0.2\"/><path d=\"M 356 134 347 262\" stroke=\"gray\" stroke-width=\"0.2\"/><path d=\"M 356 134 419 160\" stroke=\"gray\" stroke-width=\"0.2\"/><path d=\"M 356 134 397 119\" stroke=\"gray\" stroke-width=\"0.2\"/><path d=\"M 134 221 239 297\" stroke=\"gray\" stroke-width=\"0.2\"/><path d=\"M 134 221 108 264\" stroke=\"gray\" stroke-width=\"0.2\"/><path d=\"M 134 221 102 147\" stroke=\"gray\" stroke-width=\"0.2\"/><path d=\"M 325 379 239 297\" stroke=\"gray\" stroke-width=\"0.2\"/><path d=\"M 325 379 313 309\" stroke=\"gray\" stroke-width=\"0.2\"/><path d=\"M 325 379 347 262\" stroke=\"gray\" stroke-width=\"0.2\"/><path d=\"M 325 379 347 325\" stroke=\"gray\" stroke-width=\"0.2\"/><path d=\"M 325 379 327 348\" stroke=\"gray\" stroke-width=\"0.2\"/><path d=\"M 325 379 291 338\" stroke=\"gray\" stroke-width=\"0.2\"/><path d=\"M 325 379 293 373\" stroke=\"gray\" stroke-width=\"0.2\"/><path d=\"M 325 379 400 384\" stroke=\"gray\" stroke-width=\"0.2\"/><path d=\"M 600 376 720 398\" stroke=\"gray\" stroke-width=\"0.2\"/><path d=\"M 600 376 529 371\" stroke=\"gray\" stroke-width=\"0.2\"/><path d=\"M 600 376 400 384\" stroke=\"gray\" stroke-width=\"0.2\"/><path d=\"M 600 376 717 340\" stroke=\"gray\" stroke-width=\"0.2\"/><path d=\"M 432 518 485 475\" stroke=\"gray\" stroke-width=\"0.2\"/><path d=\"M 432 518 477 520\" stroke=\"gray\" stroke-width=\"0.2\"/><path d=\"M 432 518 400 384\" stroke=\"gray\" stroke-width=\"0.2\"/><path d=\"M 112 344 239 297\" stroke=\"gray\" stroke-width=\"0.2\"/><path d=\"M 112 344 108 264\" stroke=\"gray\" stroke-width=\"0.2\"/><path d=\"M 80 32 20 65\" stroke=\"gray\" stroke-width=\"0.2\"/><path d=\"M 80 32 102 147\" stroke=\"gray\" stroke-width=\"0.2\"/><path d=\"M 80 32 39 20\" stroke=\"gray\" stroke-width=\"0.2\"/><circle cx=\"485\" cy=\"475\" r=\"3.0\" style=\"fill:rgb(92, 123, 229);stroke:black;stroke-width:1.0\"/><circle cx=\"239\" cy=\"297\" r=\"3.0\" style=\"fill:rgb(230, 114, 89);stroke:black;stroke-width:1.0\"/><circle cx=\"720\" cy=\"398\" r=\"3.0\" style=\"fill:rgb(88, 118, 226);stroke:black;stroke-width:1.0\"/><circle cx=\"313\" cy=\"309\" r=\"3.0\" style=\"fill:rgb(197, 213, 242);stroke:black;stroke-width:1.0\"/><circle cx=\"347\" cy=\"262\" r=\"3.0\" style=\"fill:rgb(245, 161, 130);stroke:black;stroke-width:1.0\"/><circle cx=\"419\" cy=\"160\" r=\"3.0\" style=\"fill:rgb(88, 118, 226);stroke:black;stroke-width:1.0\"/><circle cx=\"347\" cy=\"325\" r=\"3.0\" style=\"fill:rgb(197, 213, 242);stroke:black;stroke-width:1.0\"/><circle cx=\"327\" cy=\"348\" r=\"3.0\" style=\"fill:rgb(197, 213, 242);stroke:black;stroke-width:1.0\"/><circle cx=\"477\" cy=\"520\" r=\"3.0\" style=\"fill:rgb(92, 123, 229);stroke:black;stroke-width:1.0\"/><circle cx=\"291\" cy=\"338\" r=\"3.0\" style=\"fill:rgb(197, 213, 242);stroke:black;stroke-width:1.0\"/><circle cx=\"108\" cy=\"264\" r=\"3.0\" style=\"fill:rgb(130, 165, 251);stroke:black;stroke-width:1.0\"/><circle cx=\"20\" cy=\"65\" r=\"3.0\" style=\"fill:rgb(112, 147, 243);stroke:black;stroke-width:1.0\"/><circle cx=\"102\" cy=\"147\" r=\"3.0\" style=\"fill:rgb(214, 219, 228);stroke:black;stroke-width:1.0\"/><circle cx=\"293\" cy=\"373\" r=\"3.0\" style=\"fill:rgb(197, 213, 242);stroke:black;stroke-width:1.0\"/><circle cx=\"529\" cy=\"371\" r=\"3.0\" style=\"fill:rgb(66, 88, 202);stroke:black;stroke-width:1.0\"/><circle cx=\"39\" cy=\"20\" r=\"3.0\" style=\"fill:rgb(112, 147, 243);stroke:black;stroke-width:1.0\"/><circle cx=\"397\" cy=\"119\" r=\"3.0\" style=\"fill:rgb(88, 118, 226);stroke:black;stroke-width:1.0\"/><circle cx=\"400\" cy=\"384\" r=\"3.0\" style=\"fill:rgb(179, 3, 38);stroke:black;stroke-width:1.0\"/><circle cx=\"717\" cy=\"340\" r=\"3.0\" style=\"fill:rgb(88, 118, 226);stroke:black;stroke-width:1.0\"/><circle cx=\"356\" cy=\"134\" r=\"3.0\" style=\"fill:rgb(88, 118, 226);stroke:black;stroke-width:1.0\"/><circle cx=\"134\" cy=\"221\" r=\"3.0\" style=\"fill:rgb(88, 118, 226);stroke:black;stroke-width:1.0\"/><circle cx=\"325\" cy=\"379\" r=\"3.0\" style=\"fill:rgb(197, 213, 242);stroke:black;stroke-width:1.0\"/><circle cx=\"600\" cy=\"376\" r=\"3.0\" style=\"fill:rgb(172, 200, 252);stroke:black;stroke-width:1.0\"/><circle cx=\"432\" cy=\"518\" r=\"3.0\" style=\"fill:rgb(92, 123, 229);stroke:black;stroke-width:1.0\"/><circle cx=\"112\" cy=\"344\" r=\"3.0\" style=\"fill:rgb(58, 76, 192);stroke:black;stroke-width:1.0\"/><circle cx=\"80\" cy=\"32\" r=\"3.0\" style=\"fill:rgb(112, 147, 243);stroke:black;stroke-width:1.0\"/><text font-size=\"10\" x=\"491\" y=\"478\">Rowan Kloti</text><text font-size=\"10\" x=\"245\" y=\"300\">kc claffy</text><text font-size=\"10\" x=\"726\" y=\"401\">Ageliki Tsioliaridou</text><text font-size=\"10\" x=\"319\" y=\"312\">Alex C. Snoeren</text><text font-size=\"10\" x=\"353\" y=\"265\">Alberto Dainotti</text><text font-size=\"10\" x=\"425\" y=\"163\">Jackson Sippe</text><text font-size=\"10\" x=\"353\" y=\"328\">Alessandro Finamore</text><text font-size=\"10\" x=\"333\" y=\"351\">Karyn Benson</text><text font-size=\"10\" x=\"483\" y=\"523\">Vasileios Kotronis</text><text font-size=\"10\" x=\"297\" y=\"341\">Philipp Richter</text><text font-size=\"10\" x=\"114\" y=\"267\">Marina Fomenkov</text><text font-size=\"10\" x=\"26\" y=\"68\">David J. Galas</text><text font-size=\"10\" x=\"108\" y=\"150\">Fan Chung</text><text font-size=\"10\" x=\"299\" y=\"376\">Alistair King</text><text font-size=\"10\" x=\"535\" y=\"374\">Emmanouil Lakiotakis</text><text font-size=\"10\" x=\"45\" y=\"23\">T. Gregory Dewey</text><text font-size=\"10\" x=\"403\" y=\"122\">Michalis Kallitsis</text><text font-size=\"10\" x=\"406\" y=\"387\">Xenofontas Dimitropoulos</text><text font-size=\"10\" x=\"723\" y=\"343\">Sotiris Ioannidis</text><text font-size=\"10\" x=\"362\" y=\"137\">Aniket Anand</text><text font-size=\"10\" x=\"140\" y=\"224\">Walter Willinger</text><text font-size=\"10\" x=\"331\" y=\"382\">Eduard Glatz</text><text font-size=\"10\" x=\"606\" y=\"379\">Christos Liaskos</text><text font-size=\"10\" x=\"438\" y=\"521\">Bernhard Ager</text><text font-size=\"10\" x=\"118\" y=\"347\">Ryan Koga</text><text font-size=\"10\" x=\"86\" y=\"35\">Linyuan Lu</text></svg>"
      ],
      "text/plain": [
       "<IPython.core.display.SVG object>"
      ]
     },
     "execution_count": 55,
     "metadata": {},
     "output_type": "execute_result"
    }
   ],
   "source": [
    "G_check = community_context_dict[communities[6]]['G']\n",
    "draw_community(G_check)"
   ]
  },
  {
   "cell_type": "code",
   "execution_count": 56,
   "id": "97e20914",
   "metadata": {},
   "outputs": [
    {
     "data": {
      "text/plain": [
       "['Aggressive Internet-Wide Scanners: Network Impact and Longitudinal Characterization',\n",
       " 'Coarse Graining for Synchronization in Directed Networks',\n",
       " 'Duplication Models for Biological Networks',\n",
       " 'Evolution of the Internet AS-Level Ecosystem',\n",
       " 'Improving Networked Music Performance Systems Using Application-Network Collaboration',\n",
       " 'Link Prediction in Complex Networks: A Survey',\n",
       " 'Lost in Space: Improving Inference of IPv4 Address Space Utilization',\n",
       " 'Navigability of Complex Networks',\n",
       " 'Policy-Compliant Path Diversity and Bisection Bandwidth',\n",
       " 'Predicting Missing Links via Local Information',\n",
       " 'The Socket Store: An App Model for the Application-Network Interaction',\n",
       " 'The Workshop on Internet Topology (WIT) Report']"
      ]
     },
     "execution_count": 56,
     "metadata": {},
     "output_type": "execute_result"
    }
   ],
   "source": [
    "show_author_papers(df, G_check)"
   ]
  },
  {
   "cell_type": "code",
   "execution_count": 57,
   "id": "d9f6d485",
   "metadata": {},
   "outputs": [
    {
     "name": "stdout",
     "output_type": "stream",
     "text": [
      "Density: 0.2276923076923077\n",
      "Node Count: 26\n"
     ]
    },
    {
     "data": {
      "image/svg+xml": [
       "<svg height=\"540\" width=\"810.0\" xmlns=\"http://www.w3.org/2000/svg\"><path d=\"M 274 360 328 408\" stroke=\"gray\" stroke-width=\"0.2\"/><path d=\"M 274 360 160 374\" stroke=\"gray\" stroke-width=\"0.2\"/><path d=\"M 274 360 416 382\" stroke=\"gray\" stroke-width=\"0.2\"/><path d=\"M 274 360 281 410\" stroke=\"gray\" stroke-width=\"0.2\"/><path d=\"M 274 360 322 353\" stroke=\"gray\" stroke-width=\"0.2\"/><path d=\"M 595 389 603 337\" stroke=\"gray\" stroke-width=\"0.2\"/><path d=\"M 595 389 566 422\" stroke=\"gray\" stroke-width=\"0.2\"/><path d=\"M 595 389 416 382\" stroke=\"gray\" stroke-width=\"0.2\"/><path d=\"M 108 152 160 374\" stroke=\"gray\" stroke-width=\"0.2\"/><path d=\"M 108 152 194 202\" stroke=\"gray\" stroke-width=\"0.2\"/><path d=\"M 108 152 143 44\" stroke=\"gray\" stroke-width=\"0.2\"/><path d=\"M 108 152 109 20\" stroke=\"gray\" stroke-width=\"0.2\"/><path d=\"M 108 152 41 60\" stroke=\"gray\" stroke-width=\"0.2\"/><path d=\"M 108 152 106 226\" stroke=\"gray\" stroke-width=\"0.2\"/><path d=\"M 108 152 111 103\" stroke=\"gray\" stroke-width=\"0.2\"/><path d=\"M 108 152 56 27\" stroke=\"gray\" stroke-width=\"0.2\"/><path d=\"M 328 408 274 360\" stroke=\"gray\" stroke-width=\"0.2\"/><path d=\"M 328 408 160 374\" stroke=\"gray\" stroke-width=\"0.2\"/><path d=\"M 328 408 416 382\" stroke=\"gray\" stroke-width=\"0.2\"/><path d=\"M 328 408 281 410\" stroke=\"gray\" stroke-width=\"0.2\"/><path d=\"M 328 408 322 353\" stroke=\"gray\" stroke-width=\"0.2\"/><path d=\"M 71 463 50 511\" stroke=\"gray\" stroke-width=\"0.2\"/><path d=\"M 71 463 30 451\" stroke=\"gray\" stroke-width=\"0.2\"/><path d=\"M 71 463 160 374\" stroke=\"gray\" stroke-width=\"0.2\"/><path d=\"M 71 463 20 486\" stroke=\"gray\" stroke-width=\"0.2\"/><path d=\"M 71 463 131 502\" stroke=\"gray\" stroke-width=\"0.2\"/><path d=\"M 71 463 115 470\" stroke=\"gray\" stroke-width=\"0.2\"/><path d=\"M 71 463 93 520\" stroke=\"gray\" stroke-width=\"0.2\"/><path d=\"M 50 511 71 463\" stroke=\"gray\" stroke-width=\"0.2\"/><path d=\"M 50 511 30 451\" stroke=\"gray\" stroke-width=\"0.2\"/><path d=\"M 50 511 160 374\" stroke=\"gray\" stroke-width=\"0.2\"/><path d=\"M 50 511 20 486\" stroke=\"gray\" stroke-width=\"0.2\"/><path d=\"M 50 511 131 502\" stroke=\"gray\" stroke-width=\"0.2\"/><path d=\"M 50 511 115 470\" stroke=\"gray\" stroke-width=\"0.2\"/><path d=\"M 50 511 93 520\" stroke=\"gray\" stroke-width=\"0.2\"/><path d=\"M 30 451 71 463\" stroke=\"gray\" stroke-width=\"0.2\"/><path d=\"M 30 451 50 511\" stroke=\"gray\" stroke-width=\"0.2\"/><path d=\"M 30 451 160 374\" stroke=\"gray\" stroke-width=\"0.2\"/><path d=\"M 30 451 20 486\" stroke=\"gray\" stroke-width=\"0.2\"/><path d=\"M 30 451 131 502\" stroke=\"gray\" stroke-width=\"0.2\"/><path d=\"M 30 451 115 470\" stroke=\"gray\" stroke-width=\"0.2\"/><path d=\"M 30 451 93 520\" stroke=\"gray\" stroke-width=\"0.2\"/><path d=\"M 160 374 274 360\" stroke=\"gray\" stroke-width=\"0.2\"/><path d=\"M 160 374 108 152\" stroke=\"gray\" stroke-width=\"0.2\"/><path d=\"M 160 374 328 408\" stroke=\"gray\" stroke-width=\"0.2\"/><path d=\"M 160 374 71 463\" stroke=\"gray\" stroke-width=\"0.2\"/><path d=\"M 160 374 50 511\" stroke=\"gray\" stroke-width=\"0.2\"/><path d=\"M 160 374 30 451\" stroke=\"gray\" stroke-width=\"0.2\"/><path d=\"M 160 374 194 202\" stroke=\"gray\" stroke-width=\"0.2\"/><path d=\"M 160 374 20 486\" stroke=\"gray\" stroke-width=\"0.2\"/><path d=\"M 160 374 131 502\" stroke=\"gray\" stroke-width=\"0.2\"/><path d=\"M 160 374 115 470\" stroke=\"gray\" stroke-width=\"0.2\"/><path d=\"M 160 374 416 382\" stroke=\"gray\" stroke-width=\"0.2\"/><path d=\"M 160 374 281 410\" stroke=\"gray\" stroke-width=\"0.2\"/><path d=\"M 160 374 106 226\" stroke=\"gray\" stroke-width=\"0.2\"/><path d=\"M 160 374 322 353\" stroke=\"gray\" stroke-width=\"0.2\"/><path d=\"M 160 374 93 520\" stroke=\"gray\" stroke-width=\"0.2\"/><path d=\"M 194 202 108 152\" stroke=\"gray\" stroke-width=\"0.2\"/><path d=\"M 194 202 160 374\" stroke=\"gray\" stroke-width=\"0.2\"/><path d=\"M 194 202 106 226\" stroke=\"gray\" stroke-width=\"0.2\"/><path d=\"M 194 202 339 114\" stroke=\"gray\" stroke-width=\"0.2\"/><path d=\"M 194 202 111 103\" stroke=\"gray\" stroke-width=\"0.2\"/><path d=\"M 143 44 108 152\" stroke=\"gray\" stroke-width=\"0.2\"/><path d=\"M 143 44 109 20\" stroke=\"gray\" stroke-width=\"0.2\"/><path d=\"M 143 44 41 60\" stroke=\"gray\" stroke-width=\"0.2\"/><path d=\"M 143 44 111 103\" stroke=\"gray\" stroke-width=\"0.2\"/><path d=\"M 143 44 56 27\" stroke=\"gray\" stroke-width=\"0.2\"/><path d=\"M 20 486 71 463\" stroke=\"gray\" stroke-width=\"0.2\"/><path d=\"M 20 486 50 511\" stroke=\"gray\" stroke-width=\"0.2\"/><path d=\"M 20 486 30 451\" stroke=\"gray\" stroke-width=\"0.2\"/><path d=\"M 20 486 160 374\" stroke=\"gray\" stroke-width=\"0.2\"/><path d=\"M 20 486 131 502\" stroke=\"gray\" stroke-width=\"0.2\"/><path d=\"M 20 486 115 470\" stroke=\"gray\" stroke-width=\"0.2\"/><path d=\"M 20 486 93 520\" stroke=\"gray\" stroke-width=\"0.2\"/><path d=\"M 603 337 595 389\" stroke=\"gray\" stroke-width=\"0.2\"/><path d=\"M 603 337 720 259\" stroke=\"gray\" stroke-width=\"0.2\"/><path d=\"M 603 337 566 422\" stroke=\"gray\" stroke-width=\"0.2\"/><path d=\"M 603 337 416 382\" stroke=\"gray\" stroke-width=\"0.2\"/><path d=\"M 720 259 603 337\" stroke=\"gray\" stroke-width=\"0.2\"/><path d=\"M 566 422 595 389\" stroke=\"gray\" stroke-width=\"0.2\"/><path d=\"M 566 422 603 337\" stroke=\"gray\" stroke-width=\"0.2\"/><path d=\"M 566 422 416 382\" stroke=\"gray\" stroke-width=\"0.2\"/><path d=\"M 131 502 71 463\" stroke=\"gray\" stroke-width=\"0.2\"/><path d=\"M 131 502 50 511\" stroke=\"gray\" stroke-width=\"0.2\"/><path d=\"M 131 502 30 451\" stroke=\"gray\" stroke-width=\"0.2\"/><path d=\"M 131 502 160 374\" stroke=\"gray\" stroke-width=\"0.2\"/><path d=\"M 131 502 20 486\" stroke=\"gray\" stroke-width=\"0.2\"/><path d=\"M 131 502 115 470\" stroke=\"gray\" stroke-width=\"0.2\"/><path d=\"M 131 502 93 520\" stroke=\"gray\" stroke-width=\"0.2\"/><path d=\"M 115 470 71 463\" stroke=\"gray\" stroke-width=\"0.2\"/><path d=\"M 115 470 50 511\" stroke=\"gray\" stroke-width=\"0.2\"/><path d=\"M 115 470 30 451\" stroke=\"gray\" stroke-width=\"0.2\"/><path d=\"M 115 470 160 374\" stroke=\"gray\" stroke-width=\"0.2\"/><path d=\"M 115 470 20 486\" stroke=\"gray\" stroke-width=\"0.2\"/><path d=\"M 115 470 131 502\" stroke=\"gray\" stroke-width=\"0.2\"/><path d=\"M 115 470 93 520\" stroke=\"gray\" stroke-width=\"0.2\"/><path d=\"M 109 20 108 152\" stroke=\"gray\" stroke-width=\"0.2\"/><path d=\"M 109 20 143 44\" stroke=\"gray\" stroke-width=\"0.2\"/><path d=\"M 109 20 41 60\" stroke=\"gray\" stroke-width=\"0.2\"/><path d=\"M 109 20 111 103\" stroke=\"gray\" stroke-width=\"0.2\"/><path d=\"M 109 20 56 27\" stroke=\"gray\" stroke-width=\"0.2\"/><path d=\"M 416 382 274 360\" stroke=\"gray\" stroke-width=\"0.2\"/><path d=\"M 416 382 595 389\" stroke=\"gray\" stroke-width=\"0.2\"/><path d=\"M 416 382 328 408\" stroke=\"gray\" stroke-width=\"0.2\"/><path d=\"M 416 382 160 374\" stroke=\"gray\" stroke-width=\"0.2\"/><path d=\"M 416 382 603 337\" stroke=\"gray\" stroke-width=\"0.2\"/><path d=\"M 416 382 566 422\" stroke=\"gray\" stroke-width=\"0.2\"/><path d=\"M 416 382 281 410\" stroke=\"gray\" stroke-width=\"0.2\"/><path d=\"M 416 382 322 353\" stroke=\"gray\" stroke-width=\"0.2\"/><path d=\"M 41 60 108 152\" stroke=\"gray\" stroke-width=\"0.2\"/><path d=\"M 41 60 143 44\" stroke=\"gray\" stroke-width=\"0.2\"/><path d=\"M 41 60 109 20\" stroke=\"gray\" stroke-width=\"0.2\"/><path d=\"M 41 60 111 103\" stroke=\"gray\" stroke-width=\"0.2\"/><path d=\"M 41 60 56 27\" stroke=\"gray\" stroke-width=\"0.2\"/><path d=\"M 281 410 274 360\" stroke=\"gray\" stroke-width=\"0.2\"/><path d=\"M 281 410 328 408\" stroke=\"gray\" stroke-width=\"0.2\"/><path d=\"M 281 410 160 374\" stroke=\"gray\" stroke-width=\"0.2\"/><path d=\"M 281 410 416 382\" stroke=\"gray\" stroke-width=\"0.2\"/><path d=\"M 281 410 322 353\" stroke=\"gray\" stroke-width=\"0.2\"/><path d=\"M 106 226 108 152\" stroke=\"gray\" stroke-width=\"0.2\"/><path d=\"M 106 226 160 374\" stroke=\"gray\" stroke-width=\"0.2\"/><path d=\"M 106 226 194 202\" stroke=\"gray\" stroke-width=\"0.2\"/><path d=\"M 106 226 111 103\" stroke=\"gray\" stroke-width=\"0.2\"/><path d=\"M 322 353 274 360\" stroke=\"gray\" stroke-width=\"0.2\"/><path d=\"M 322 353 328 408\" stroke=\"gray\" stroke-width=\"0.2\"/><path d=\"M 322 353 160 374\" stroke=\"gray\" stroke-width=\"0.2\"/><path d=\"M 322 353 416 382\" stroke=\"gray\" stroke-width=\"0.2\"/><path d=\"M 322 353 281 410\" stroke=\"gray\" stroke-width=\"0.2\"/><path d=\"M 339 114 194 202\" stroke=\"gray\" stroke-width=\"0.2\"/><path d=\"M 111 103 108 152\" stroke=\"gray\" stroke-width=\"0.2\"/><path d=\"M 111 103 194 202\" stroke=\"gray\" stroke-width=\"0.2\"/><path d=\"M 111 103 143 44\" stroke=\"gray\" stroke-width=\"0.2\"/><path d=\"M 111 103 109 20\" stroke=\"gray\" stroke-width=\"0.2\"/><path d=\"M 111 103 41 60\" stroke=\"gray\" stroke-width=\"0.2\"/><path d=\"M 111 103 106 226\" stroke=\"gray\" stroke-width=\"0.2\"/><path d=\"M 111 103 56 27\" stroke=\"gray\" stroke-width=\"0.2\"/><path d=\"M 56 27 108 152\" stroke=\"gray\" stroke-width=\"0.2\"/><path d=\"M 56 27 143 44\" stroke=\"gray\" stroke-width=\"0.2\"/><path d=\"M 56 27 109 20\" stroke=\"gray\" stroke-width=\"0.2\"/><path d=\"M 56 27 41 60\" stroke=\"gray\" stroke-width=\"0.2\"/><path d=\"M 56 27 111 103\" stroke=\"gray\" stroke-width=\"0.2\"/><path d=\"M 93 520 71 463\" stroke=\"gray\" stroke-width=\"0.2\"/><path d=\"M 93 520 50 511\" stroke=\"gray\" stroke-width=\"0.2\"/><path d=\"M 93 520 30 451\" stroke=\"gray\" stroke-width=\"0.2\"/><path d=\"M 93 520 160 374\" stroke=\"gray\" stroke-width=\"0.2\"/><path d=\"M 93 520 20 486\" stroke=\"gray\" stroke-width=\"0.2\"/><path d=\"M 93 520 131 502\" stroke=\"gray\" stroke-width=\"0.2\"/><path d=\"M 93 520 115 470\" stroke=\"gray\" stroke-width=\"0.2\"/><circle cx=\"274\" cy=\"360\" r=\"3.0\" style=\"fill:rgb(155, 187, 254);stroke:black;stroke-width:1.0\"/><circle cx=\"595\" cy=\"389\" r=\"3.0\" style=\"fill:rgb(130, 165, 251);stroke:black;stroke-width:1.0\"/><circle cx=\"108\" cy=\"152\" r=\"3.0\" style=\"fill:rgb(230, 215, 207);stroke:black;stroke-width:1.0\"/><circle cx=\"328\" cy=\"408\" r=\"3.0\" style=\"fill:rgb(155, 187, 254);stroke:black;stroke-width:1.0\"/><circle cx=\"71\" cy=\"463\" r=\"3.0\" style=\"fill:rgb(176, 203, 251);stroke:black;stroke-width:1.0\"/><circle cx=\"50\" cy=\"511\" r=\"3.0\" style=\"fill:rgb(176, 203, 251);stroke:black;stroke-width:1.0\"/><circle cx=\"30\" cy=\"451\" r=\"3.0\" style=\"fill:rgb(176, 203, 251);stroke:black;stroke-width:1.0\"/><circle cx=\"160\" cy=\"374\" r=\"3.0\" style=\"fill:rgb(179, 3, 38);stroke:black;stroke-width:1.0\"/><circle cx=\"194\" cy=\"202\" r=\"3.0\" style=\"fill:rgb(172, 200, 252);stroke:black;stroke-width:1.0\"/><circle cx=\"143\" cy=\"44\" r=\"3.0\" style=\"fill:rgb(159, 190, 254);stroke:black;stroke-width:1.0\"/><circle cx=\"20\" cy=\"486\" r=\"3.0\" style=\"fill:rgb(176, 203, 251);stroke:black;stroke-width:1.0\"/><circle cx=\"603\" cy=\"337\" r=\"3.0\" style=\"fill:rgb(183, 207, 249);stroke:black;stroke-width:1.0\"/><circle cx=\"720\" cy=\"259\" r=\"3.0\" style=\"fill:rgb(64, 84, 199);stroke:black;stroke-width:1.0\"/><circle cx=\"566\" cy=\"422\" r=\"3.0\" style=\"fill:rgb(130, 165, 251);stroke:black;stroke-width:1.0\"/><circle cx=\"131\" cy=\"502\" r=\"3.0\" style=\"fill:rgb(176, 203, 251);stroke:black;stroke-width:1.0\"/><circle cx=\"115\" cy=\"470\" r=\"3.0\" style=\"fill:rgb(176, 203, 251);stroke:black;stroke-width:1.0\"/><circle cx=\"109\" cy=\"20\" r=\"3.0\" style=\"fill:rgb(159, 190, 254);stroke:black;stroke-width:1.0\"/><circle cx=\"416\" cy=\"382\" r=\"3.0\" style=\"fill:rgb(244, 195, 171);stroke:black;stroke-width:1.0\"/><circle cx=\"41\" cy=\"60\" r=\"3.0\" style=\"fill:rgb(159, 190, 254);stroke:black;stroke-width:1.0\"/><circle cx=\"281\" cy=\"410\" r=\"3.0\" style=\"fill:rgb(155, 187, 254);stroke:black;stroke-width:1.0\"/><circle cx=\"106\" cy=\"226\" r=\"3.0\" style=\"fill:rgb(127, 162, 250);stroke:black;stroke-width:1.0\"/><circle cx=\"322\" cy=\"353\" r=\"3.0\" style=\"fill:rgb(155, 187, 254);stroke:black;stroke-width:1.0\"/><circle cx=\"339\" cy=\"114\" r=\"3.0\" style=\"fill:rgb(58, 76, 192);stroke:black;stroke-width:1.0\"/><circle cx=\"111\" cy=\"103\" r=\"3.0\" style=\"fill:rgb(214, 219, 228);stroke:black;stroke-width:1.0\"/><circle cx=\"56\" cy=\"27\" r=\"3.0\" style=\"fill:rgb(159, 190, 254);stroke:black;stroke-width:1.0\"/><circle cx=\"93\" cy=\"520\" r=\"3.0\" style=\"fill:rgb(176, 203, 251);stroke:black;stroke-width:1.0\"/><text font-size=\"10\" x=\"280\" y=\"363\">Qiyu Zeng</text><text font-size=\"10\" x=\"601\" y=\"392\">Hua Bao</text><text font-size=\"10\" x=\"114\" y=\"155\">Xujin Chen</text><text font-size=\"10\" x=\"334\" y=\"411\">Dongdong Kang</text><text font-size=\"10\" x=\"77\" y=\"466\">Dongliang Chu</text><text font-size=\"10\" x=\"56\" y=\"514\">Peng Li</text><text font-size=\"10\" x=\"36\" y=\"454\">Yue Shen</text><text font-size=\"10\" x=\"166\" y=\"377\">Bo Chen</text><text font-size=\"10\" x=\"200\" y=\"205\">Zhigang Cao</text><text font-size=\"10\" x=\"149\" y=\"47\">Benjamin Doerr</text><text font-size=\"10\" x=\"26\" y=\"489\">Li Du</text><text font-size=\"10\" x=\"609\" y=\"340\">Nuo Yang</text><text font-size=\"10\" x=\"726\" y=\"262\">Nianbei Li</text><text font-size=\"10\" x=\"572\" y=\"425\">Shouhang Li</text><text font-size=\"10\" x=\"137\" y=\"505\">Menglong Zhu</text><text font-size=\"10\" x=\"121\" y=\"473\">Lirui Xiao</text><text font-size=\"10\" x=\"115\" y=\"23\">Weidong Ma</text><text font-size=\"10\" x=\"422\" y=\"385\">Xiaoxiang Yu</text><text font-size=\"10\" x=\"47\" y=\"63\">Rob van Stee</text><text font-size=\"10\" x=\"287\" y=\"413\">Shen Zhang</text><text font-size=\"10\" x=\"112\" y=\"229\">Changjun Wang</text><text font-size=\"10\" x=\"328\" y=\"356\">Jiayu Dai</text><text font-size=\"10\" x=\"345\" y=\"117\">Tian Zhang</text><text font-size=\"10\" x=\"117\" y=\"106\">Xiaodong Hu</text><text font-size=\"10\" x=\"62\" y=\"30\">Carola Winzen</text><text font-size=\"10\" x=\"99\" y=\"523\">Guhong Nie</text></svg>"
      ],
      "text/plain": [
       "<IPython.core.display.SVG object>"
      ]
     },
     "execution_count": 57,
     "metadata": {},
     "output_type": "execute_result"
    }
   ],
   "source": [
    "G_check = community_context_dict[communities[7]]['G']\n",
    "draw_community(G_check)"
   ]
  },
  {
   "cell_type": "code",
   "execution_count": 58,
   "id": "5b1ef366",
   "metadata": {},
   "outputs": [
    {
     "data": {
      "text/plain": [
       "['A Network Game of Dynamic Traffic',\n",
       " 'Binary Neural Networks as a general-propose compute paradigm for on-device computer vision',\n",
       " 'Coalitional Game Theoretic Approach for Cooperative Transmission in Vehicular Networks',\n",
       " 'Data offloading in mobile edge computing: A coalitional game based pricing approach',\n",
       " 'East Asian VLBI Network Observations of Active Galactic Nuclei Jets: Imaging with KaVA+Tianma+Nanshan',\n",
       " 'Full-scale ab initio simulations of laser-driven atomistic dynamics',\n",
       " 'Fully Hyperbolic Neural Networks',\n",
       " 'Hierarchic Power Allocation for Spectrum Sharing in OFDM-Based Cognitive Radio Networks',\n",
       " 'High thermal conductivity of bulk epoxy resin by bottom-up parallel-linking and strain: a molecular dynamics study',\n",
       " 'How to Schedule the Marketing of Products with Negative Externalities',\n",
       " 'Pricing in Social Networks with Negative Externalities',\n",
       " 'Providing Probabilistic Robustness Guarantee for Crowdsensing',\n",
       " 'The Price of Anarchy for Selfish Ring Routing is Two',\n",
       " 'Thermal rectification and negative differential thermal resistance in lattices with mass gradient',\n",
       " 'Towards Large-Scale and Spatio-temporally Resolved Diagnosis of Electronic Density of States by Deep Learning']"
      ]
     },
     "execution_count": 58,
     "metadata": {},
     "output_type": "execute_result"
    }
   ],
   "source": [
    "show_author_papers(df, G_check)"
   ]
  },
  {
   "cell_type": "code",
   "execution_count": 59,
   "id": "1712913d",
   "metadata": {},
   "outputs": [
    {
     "name": "stdout",
     "output_type": "stream",
     "text": [
      "Density: 0.22794117647058823\n",
      "Node Count: 17\n"
     ]
    },
    {
     "data": {
      "image/svg+xml": [
       "<svg height=\"540\" width=\"840.0\" xmlns=\"http://www.w3.org/2000/svg\"><path d=\"M 159 20 140 76\" stroke=\"gray\" stroke-width=\"0.2\"/><path d=\"M 159 20 225 23\" stroke=\"gray\" stroke-width=\"0.2\"/><path d=\"M 159 20 218 81\" stroke=\"gray\" stroke-width=\"0.2\"/><path d=\"M 159 20 206 211\" stroke=\"gray\" stroke-width=\"0.2\"/><path d=\"M 140 76 159 20\" stroke=\"gray\" stroke-width=\"0.2\"/><path d=\"M 140 76 225 23\" stroke=\"gray\" stroke-width=\"0.2\"/><path d=\"M 140 76 218 81\" stroke=\"gray\" stroke-width=\"0.2\"/><path d=\"M 140 76 206 211\" stroke=\"gray\" stroke-width=\"0.2\"/><path d=\"M 46 201 20 259\" stroke=\"gray\" stroke-width=\"0.2\"/><path d=\"M 46 201 63 302\" stroke=\"gray\" stroke-width=\"0.2\"/><path d=\"M 46 201 206 211\" stroke=\"gray\" stroke-width=\"0.2\"/><path d=\"M 616 400 720 520\" stroke=\"gray\" stroke-width=\"0.2\"/><path d=\"M 616 400 609 284\" stroke=\"gray\" stroke-width=\"0.2\"/><path d=\"M 616 400 449 291\" stroke=\"gray\" stroke-width=\"0.2\"/><path d=\"M 616 400 570 339\" stroke=\"gray\" stroke-width=\"0.2\"/><path d=\"M 190 399 151 347\" stroke=\"gray\" stroke-width=\"0.2\"/><path d=\"M 190 399 206 211\" stroke=\"gray\" stroke-width=\"0.2\"/><path d=\"M 333 305 449 291\" stroke=\"gray\" stroke-width=\"0.2\"/><path d=\"M 333 305 206 211\" stroke=\"gray\" stroke-width=\"0.2\"/><path d=\"M 225 23 159 20\" stroke=\"gray\" stroke-width=\"0.2\"/><path d=\"M 225 23 140 76\" stroke=\"gray\" stroke-width=\"0.2\"/><path d=\"M 225 23 218 81\" stroke=\"gray\" stroke-width=\"0.2\"/><path d=\"M 225 23 206 211\" stroke=\"gray\" stroke-width=\"0.2\"/><path d=\"M 218 81 159 20\" stroke=\"gray\" stroke-width=\"0.2\"/><path d=\"M 218 81 140 76\" stroke=\"gray\" stroke-width=\"0.2\"/><path d=\"M 218 81 225 23\" stroke=\"gray\" stroke-width=\"0.2\"/><path d=\"M 218 81 206 211\" stroke=\"gray\" stroke-width=\"0.2\"/><path d=\"M 151 347 190 399\" stroke=\"gray\" stroke-width=\"0.2\"/><path d=\"M 151 347 206 211\" stroke=\"gray\" stroke-width=\"0.2\"/><path d=\"M 720 520 616 400\" stroke=\"gray\" stroke-width=\"0.2\"/><path d=\"M 609 284 616 400\" stroke=\"gray\" stroke-width=\"0.2\"/><path d=\"M 609 284 449 291\" stroke=\"gray\" stroke-width=\"0.2\"/><path d=\"M 609 284 570 339\" stroke=\"gray\" stroke-width=\"0.2\"/><path d=\"M 20 259 46 201\" stroke=\"gray\" stroke-width=\"0.2\"/><path d=\"M 20 259 63 302\" stroke=\"gray\" stroke-width=\"0.2\"/><path d=\"M 20 259 206 211\" stroke=\"gray\" stroke-width=\"0.2\"/><path d=\"M 63 302 46 201\" stroke=\"gray\" stroke-width=\"0.2\"/><path d=\"M 63 302 20 259\" stroke=\"gray\" stroke-width=\"0.2\"/><path d=\"M 63 302 206 211\" stroke=\"gray\" stroke-width=\"0.2\"/><path d=\"M 449 291 616 400\" stroke=\"gray\" stroke-width=\"0.2\"/><path d=\"M 449 291 333 305\" stroke=\"gray\" stroke-width=\"0.2\"/><path d=\"M 449 291 609 284\" stroke=\"gray\" stroke-width=\"0.2\"/><path d=\"M 449 291 206 211\" stroke=\"gray\" stroke-width=\"0.2\"/><path d=\"M 449 291 363 199\" stroke=\"gray\" stroke-width=\"0.2\"/><path d=\"M 449 291 570 339\" stroke=\"gray\" stroke-width=\"0.2\"/><path d=\"M 206 211 159 20\" stroke=\"gray\" stroke-width=\"0.2\"/><path d=\"M 206 211 140 76\" stroke=\"gray\" stroke-width=\"0.2\"/><path d=\"M 206 211 46 201\" stroke=\"gray\" stroke-width=\"0.2\"/><path d=\"M 206 211 190 399\" stroke=\"gray\" stroke-width=\"0.2\"/><path d=\"M 206 211 333 305\" stroke=\"gray\" stroke-width=\"0.2\"/><path d=\"M 206 211 225 23\" stroke=\"gray\" stroke-width=\"0.2\"/><path d=\"M 206 211 218 81\" stroke=\"gray\" stroke-width=\"0.2\"/><path d=\"M 206 211 151 347\" stroke=\"gray\" stroke-width=\"0.2\"/><path d=\"M 206 211 20 259\" stroke=\"gray\" stroke-width=\"0.2\"/><path d=\"M 206 211 63 302\" stroke=\"gray\" stroke-width=\"0.2\"/><path d=\"M 206 211 449 291\" stroke=\"gray\" stroke-width=\"0.2\"/><path d=\"M 206 211 363 199\" stroke=\"gray\" stroke-width=\"0.2\"/><path d=\"M 363 199 449 291\" stroke=\"gray\" stroke-width=\"0.2\"/><path d=\"M 363 199 206 211\" stroke=\"gray\" stroke-width=\"0.2\"/><path d=\"M 570 339 616 400\" stroke=\"gray\" stroke-width=\"0.2\"/><path d=\"M 570 339 609 284\" stroke=\"gray\" stroke-width=\"0.2\"/><path d=\"M 570 339 449 291\" stroke=\"gray\" stroke-width=\"0.2\"/><circle cx=\"159\" cy=\"20\" r=\"3.0\" style=\"fill:rgb(130, 165, 251);stroke:black;stroke-width:1.0\"/><circle cx=\"140\" cy=\"76\" r=\"3.0\" style=\"fill:rgb(130, 165, 251);stroke:black;stroke-width:1.0\"/><circle cx=\"46\" cy=\"201\" r=\"3.0\" style=\"fill:rgb(109, 144, 241);stroke:black;stroke-width:1.0\"/><circle cx=\"616\" cy=\"400\" r=\"3.0\" style=\"fill:rgb(166, 195, 253);stroke:black;stroke-width:1.0\"/><circle cx=\"190\" cy=\"399\" r=\"3.0\" style=\"fill:rgb(82, 110, 220);stroke:black;stroke-width:1.0\"/><circle cx=\"333\" cy=\"305\" r=\"3.0\" style=\"fill:rgb(76, 102, 214);stroke:black;stroke-width:1.0\"/><circle cx=\"225\" cy=\"23\" r=\"3.0\" style=\"fill:rgb(130, 165, 251);stroke:black;stroke-width:1.0\"/><circle cx=\"218\" cy=\"81\" r=\"3.0\" style=\"fill:rgb(130, 165, 251);stroke:black;stroke-width:1.0\"/><circle cx=\"151\" cy=\"347\" r=\"3.0\" style=\"fill:rgb(82, 110, 220);stroke:black;stroke-width:1.0\"/><circle cx=\"720\" cy=\"520\" r=\"3.0\" style=\"fill:rgb(58, 76, 192);stroke:black;stroke-width:1.0\"/><circle cx=\"609\" cy=\"284\" r=\"3.0\" style=\"fill:rgb(120, 155, 247);stroke:black;stroke-width:1.0\"/><circle cx=\"20\" cy=\"259\" r=\"3.0\" style=\"fill:rgb(109, 144, 241);stroke:black;stroke-width:1.0\"/><circle cx=\"63\" cy=\"302\" r=\"3.0\" style=\"fill:rgb(109, 144, 241);stroke:black;stroke-width:1.0\"/><circle cx=\"449\" cy=\"291\" r=\"3.0\" style=\"fill:rgb(214, 219, 228);stroke:black;stroke-width:1.0\"/><circle cx=\"206\" cy=\"211\" r=\"3.0\" style=\"fill:rgb(179, 3, 38);stroke:black;stroke-width:1.0\"/><circle cx=\"363\" cy=\"199\" r=\"3.0\" style=\"fill:rgb(76, 102, 214);stroke:black;stroke-width:1.0\"/><circle cx=\"570\" cy=\"339\" r=\"3.0\" style=\"fill:rgb(120, 155, 247);stroke:black;stroke-width:1.0\"/><text font-size=\"10\" x=\"165\" y=\"23\">Alex Dikopoltsev</text><text font-size=\"10\" x=\"146\" y=\"79\">Tom Zahavy</text><text font-size=\"10\" x=\"52\" y=\"204\">Elad Gilboa</text><text font-size=\"10\" x=\"622\" y=\"403\">Iftah Gamzu</text><text font-size=\"10\" x=\"196\" y=\"402\">Asaf Cassel</text><text font-size=\"10\" x=\"339\" y=\"308\">Eli. A. Meirom</text><text font-size=\"10\" x=\"231\" y=\"26\">Mordechai Segev</text><text font-size=\"10\" x=\"224\" y=\"84\">Oren Cohen</text><text font-size=\"10\" x=\"157\" y=\"350\">Guy Tennenholtz</text><text font-size=\"10\" x=\"726\" y=\"523\">Shai Gutner</text><text font-size=\"10\" x=\"615\" y=\"287\">Gideon Blocq</text><text font-size=\"10\" x=\"26\" y=\"262\">Louis Wehenkel</text><text font-size=\"10\" x=\"69\" y=\"305\">Gal Dalal</text><text font-size=\"10\" x=\"455\" y=\"294\">Ariel Orda</text><text font-size=\"10\" x=\"212\" y=\"214\">Shie Mannor</text><text font-size=\"10\" x=\"369\" y=\"202\">Eli A. Meirom</text><text font-size=\"10\" x=\"576\" y=\"342\">Noa Avigdor-Elgrabli</text></svg>"
      ],
      "text/plain": [
       "<IPython.core.display.SVG object>"
      ]
     },
     "execution_count": 59,
     "metadata": {},
     "output_type": "execute_result"
    }
   ],
   "source": [
    "G_check = community_context_dict[communities[8]]['G']\n",
    "draw_community(G_check)"
   ]
  },
  {
   "cell_type": "code",
   "execution_count": 60,
   "id": "e980d956",
   "metadata": {},
   "outputs": [
    {
     "data": {
      "text/plain": [
       "['A Sublogarithmic Approximation for Highway and Tollbooth Pricing',\n",
       " 'Chance-Constrained Outage Scheduling using a Machine Learning Proxy',\n",
       " 'Coalitions in Routing Games: A Worst-Case Perspective',\n",
       " 'Deep Learning Reconstruction of Ultra-Short Pulses',\n",
       " 'Efficiency Loss in a Network Resource Allocation Game: The Case of Elastic Supply',\n",
       " 'Formation Games of Reliable Networks',\n",
       " 'How Good is Bargained Routing?',\n",
       " 'Network Formation Games with Heterogeneous Players and the Internet Structure',\n",
       " 'Offline and Online Models of Budget Allocation for Maximizing Influence Spread',\n",
       " 'Strategic Formation of Heterogeneous Networks',\n",
       " 'The Pendulum Arrangement: Maximizing the Escape Time of Heterogeneous Random Walks',\n",
       " 'Truthful Unsplittable Flow for Large Capacity Networks']"
      ]
     },
     "execution_count": 60,
     "metadata": {},
     "output_type": "execute_result"
    }
   ],
   "source": [
    "show_author_papers(df, G_check)"
   ]
  },
  {
   "cell_type": "code",
   "execution_count": 66,
   "id": "0a2d6caa",
   "metadata": {},
   "outputs": [
    {
     "name": "stdout",
     "output_type": "stream",
     "text": [
      "Density: 0.2833333333333333\n",
      "Node Count: 16\n"
     ]
    },
    {
     "data": {
      "image/svg+xml": [
       "<svg height=\"540\" width=\"855.0\" xmlns=\"http://www.w3.org/2000/svg\"><path d=\"M 208 490 246 520\" stroke=\"gray\" stroke-width=\"0.2\"/><path d=\"M 208 490 309 507\" stroke=\"gray\" stroke-width=\"0.2\"/><path d=\"M 208 490 277 470\" stroke=\"gray\" stroke-width=\"0.2\"/><path d=\"M 208 490 344 417\" stroke=\"gray\" stroke-width=\"0.2\"/><path d=\"M 208 490 183 451\" stroke=\"gray\" stroke-width=\"0.2\"/><path d=\"M 246 520 208 490\" stroke=\"gray\" stroke-width=\"0.2\"/><path d=\"M 246 520 309 507\" stroke=\"gray\" stroke-width=\"0.2\"/><path d=\"M 246 520 277 470\" stroke=\"gray\" stroke-width=\"0.2\"/><path d=\"M 246 520 344 417\" stroke=\"gray\" stroke-width=\"0.2\"/><path d=\"M 246 520 183 451\" stroke=\"gray\" stroke-width=\"0.2\"/><path d=\"M 309 507 208 490\" stroke=\"gray\" stroke-width=\"0.2\"/><path d=\"M 309 507 246 520\" stroke=\"gray\" stroke-width=\"0.2\"/><path d=\"M 309 507 277 470\" stroke=\"gray\" stroke-width=\"0.2\"/><path d=\"M 309 507 344 417\" stroke=\"gray\" stroke-width=\"0.2\"/><path d=\"M 309 507 183 451\" stroke=\"gray\" stroke-width=\"0.2\"/><path d=\"M 277 470 208 490\" stroke=\"gray\" stroke-width=\"0.2\"/><path d=\"M 277 470 246 520\" stroke=\"gray\" stroke-width=\"0.2\"/><path d=\"M 277 470 309 507\" stroke=\"gray\" stroke-width=\"0.2\"/><path d=\"M 277 470 344 417\" stroke=\"gray\" stroke-width=\"0.2\"/><path d=\"M 277 470 183 451\" stroke=\"gray\" stroke-width=\"0.2\"/><path d=\"M 590 201 508 177\" stroke=\"gray\" stroke-width=\"0.2\"/><path d=\"M 590 201 605 126\" stroke=\"gray\" stroke-width=\"0.2\"/><path d=\"M 590 201 489 269\" stroke=\"gray\" stroke-width=\"0.2\"/><path d=\"M 486 365 344 417\" stroke=\"gray\" stroke-width=\"0.2\"/><path d=\"M 486 365 415 339\" stroke=\"gray\" stroke-width=\"0.2\"/><path d=\"M 486 365 489 269\" stroke=\"gray\" stroke-width=\"0.2\"/><path d=\"M 344 417 208 490\" stroke=\"gray\" stroke-width=\"0.2\"/><path d=\"M 344 417 246 520\" stroke=\"gray\" stroke-width=\"0.2\"/><path d=\"M 344 417 309 507\" stroke=\"gray\" stroke-width=\"0.2\"/><path d=\"M 344 417 277 470\" stroke=\"gray\" stroke-width=\"0.2\"/><path d=\"M 344 417 486 365\" stroke=\"gray\" stroke-width=\"0.2\"/><path d=\"M 344 417 415 339\" stroke=\"gray\" stroke-width=\"0.2\"/><path d=\"M 344 417 489 269\" stroke=\"gray\" stroke-width=\"0.2\"/><path d=\"M 344 417 183 451\" stroke=\"gray\" stroke-width=\"0.2\"/><path d=\"M 617 30 605 126\" stroke=\"gray\" stroke-width=\"0.2\"/><path d=\"M 617 30 691 20\" stroke=\"gray\" stroke-width=\"0.2\"/><path d=\"M 617 30 720 61\" stroke=\"gray\" stroke-width=\"0.2\"/><path d=\"M 508 177 590 201\" stroke=\"gray\" stroke-width=\"0.2\"/><path d=\"M 508 177 605 126\" stroke=\"gray\" stroke-width=\"0.2\"/><path d=\"M 508 177 489 269\" stroke=\"gray\" stroke-width=\"0.2\"/><path d=\"M 605 126 590 201\" stroke=\"gray\" stroke-width=\"0.2\"/><path d=\"M 605 126 617 30\" stroke=\"gray\" stroke-width=\"0.2\"/><path d=\"M 605 126 508 177\" stroke=\"gray\" stroke-width=\"0.2\"/><path d=\"M 605 126 691 20\" stroke=\"gray\" stroke-width=\"0.2\"/><path d=\"M 605 126 489 269\" stroke=\"gray\" stroke-width=\"0.2\"/><path d=\"M 605 126 720 61\" stroke=\"gray\" stroke-width=\"0.2\"/><path d=\"M 415 339 486 365\" stroke=\"gray\" stroke-width=\"0.2\"/><path d=\"M 415 339 344 417\" stroke=\"gray\" stroke-width=\"0.2\"/><path d=\"M 415 339 489 269\" stroke=\"gray\" stroke-width=\"0.2\"/><path d=\"M 691 20 617 30\" stroke=\"gray\" stroke-width=\"0.2\"/><path d=\"M 691 20 605 126\" stroke=\"gray\" stroke-width=\"0.2\"/><path d=\"M 691 20 720 61\" stroke=\"gray\" stroke-width=\"0.2\"/><path d=\"M 20 408 183 451\" stroke=\"gray\" stroke-width=\"0.2\"/><path d=\"M 489 269 590 201\" stroke=\"gray\" stroke-width=\"0.2\"/><path d=\"M 489 269 486 365\" stroke=\"gray\" stroke-width=\"0.2\"/><path d=\"M 489 269 344 417\" stroke=\"gray\" stroke-width=\"0.2\"/><path d=\"M 489 269 508 177\" stroke=\"gray\" stroke-width=\"0.2\"/><path d=\"M 489 269 605 126\" stroke=\"gray\" stroke-width=\"0.2\"/><path d=\"M 489 269 415 339\" stroke=\"gray\" stroke-width=\"0.2\"/><path d=\"M 183 451 208 490\" stroke=\"gray\" stroke-width=\"0.2\"/><path d=\"M 183 451 246 520\" stroke=\"gray\" stroke-width=\"0.2\"/><path d=\"M 183 451 309 507\" stroke=\"gray\" stroke-width=\"0.2\"/><path d=\"M 183 451 277 470\" stroke=\"gray\" stroke-width=\"0.2\"/><path d=\"M 183 451 344 417\" stroke=\"gray\" stroke-width=\"0.2\"/><path d=\"M 183 451 20 408\" stroke=\"gray\" stroke-width=\"0.2\"/><path d=\"M 720 61 617 30\" stroke=\"gray\" stroke-width=\"0.2\"/><path d=\"M 720 61 605 126\" stroke=\"gray\" stroke-width=\"0.2\"/><path d=\"M 720 61 691 20\" stroke=\"gray\" stroke-width=\"0.2\"/><circle cx=\"208\" cy=\"490\" r=\"3.0\" style=\"fill:rgb(230, 215, 207);stroke:black;stroke-width:1.0\"/><circle cx=\"246\" cy=\"520\" r=\"3.0\" style=\"fill:rgb(230, 215, 207);stroke:black;stroke-width:1.0\"/><circle cx=\"309\" cy=\"507\" r=\"3.0\" style=\"fill:rgb(230, 215, 207);stroke:black;stroke-width:1.0\"/><circle cx=\"277\" cy=\"470\" r=\"3.0\" style=\"fill:rgb(230, 215, 207);stroke:black;stroke-width:1.0\"/><circle cx=\"590\" cy=\"201\" r=\"3.0\" style=\"fill:rgb(170, 198, 253);stroke:black;stroke-width:1.0\"/><circle cx=\"486\" cy=\"365\" r=\"3.0\" style=\"fill:rgb(155, 187, 254);stroke:black;stroke-width:1.0\"/><circle cx=\"344\" cy=\"417\" r=\"3.0\" style=\"fill:rgb(179, 3, 38);stroke:black;stroke-width:1.0\"/><circle cx=\"617\" cy=\"30\" r=\"3.0\" style=\"fill:rgb(183, 207, 249);stroke:black;stroke-width:1.0\"/><circle cx=\"508\" cy=\"177\" r=\"3.0\" style=\"fill:rgb(170, 198, 253);stroke:black;stroke-width:1.0\"/><circle cx=\"605\" cy=\"126\" r=\"3.0\" style=\"fill:rgb(220, 94, 75);stroke:black;stroke-width:1.0\"/><circle cx=\"415\" cy=\"339\" r=\"3.0\" style=\"fill:rgb(155, 187, 254);stroke:black;stroke-width:1.0\"/><circle cx=\"691\" cy=\"20\" r=\"3.0\" style=\"fill:rgb(183, 207, 249);stroke:black;stroke-width:1.0\"/><circle cx=\"20\" cy=\"408\" r=\"3.0\" style=\"fill:rgb(58, 76, 192);stroke:black;stroke-width:1.0\"/><circle cx=\"489\" cy=\"269\" r=\"3.0\" style=\"fill:rgb(237, 132, 103);stroke:black;stroke-width:1.0\"/><circle cx=\"183\" cy=\"451\" r=\"3.0\" style=\"fill:rgb(245, 158, 127);stroke:black;stroke-width:1.0\"/><circle cx=\"720\" cy=\"61\" r=\"3.0\" style=\"fill:rgb(183, 207, 249);stroke:black;stroke-width:1.0\"/><text font-size=\"10\" x=\"214\" y=\"493\">Juan Carlos Farah</text><text font-size=\"10\" x=\"252\" y=\"523\">Adam B. Barrett</text><text font-size=\"10\" x=\"315\" y=\"510\">Murray Shanahan</text><text font-size=\"10\" x=\"283\" y=\"473\">Daniel Bor</text><text font-size=\"10\" x=\"596\" y=\"204\">Cong Bao</text><text font-size=\"10\" x=\"492\" y=\"368\">Noor Sajid</text><text font-size=\"10\" x=\"350\" y=\"420\">Pedro A. M. Mediano</text><text font-size=\"10\" x=\"623\" y=\"33\">Youngjun Cho</text><text font-size=\"10\" x=\"514\" y=\"180\">Temitayo Olugbade</text><text font-size=\"10\" x=\"611\" y=\"129\">Nadia Bianchi-Berthouze</text><text font-size=\"10\" x=\"421\" y=\"342\">Karl Friston</text><text font-size=\"10\" x=\"697\" y=\"23\">Simon J. Julier</text><text font-size=\"10\" x=\"26\" y=\"411\">Vaiva Vasiliauskaite</text><text font-size=\"10\" x=\"495\" y=\"272\">Zafeirios Fountas</text><text font-size=\"10\" x=\"189\" y=\"454\">Fernando E. Rosas</text><text font-size=\"10\" x=\"726\" y=\"64\">Nicolai Marquardt</text></svg>"
      ],
      "text/plain": [
       "<IPython.core.display.SVG object>"
      ]
     },
     "execution_count": 66,
     "metadata": {},
     "output_type": "execute_result"
    }
   ],
   "source": [
    "G_check = community_context_dict[communities[9]]['G']\n",
    "draw_community(G_check)"
   ]
  },
  {
   "cell_type": "code",
   "execution_count": 62,
   "id": "ea542ad2",
   "metadata": {},
   "outputs": [
    {
     "data": {
      "text/plain": [
       "['Deep Thermal Imaging: Proximate Material Type Recognition in the Wild through Deep Learning of Spatial Surface Temperature Patterns',\n",
       " 'Deep active inference agents using Monte-Carlo methods',\n",
       " 'Integrated information as a common signature of dynamical and information-processing complexity',\n",
       " 'Making Communities Show Respect for Order',\n",
       " 'Multimodal Data Fusion based on the Global Workspace Theory',\n",
       " 'Understanding complexity via network theory: a gentle introduction']"
      ]
     },
     "execution_count": 62,
     "metadata": {},
     "output_type": "execute_result"
    }
   ],
   "source": [
    "show_author_papers(df, G_check)"
   ]
  },
  {
   "cell_type": "code",
   "execution_count": null,
   "id": "eb3af479",
   "metadata": {},
   "outputs": [],
   "source": []
  },
  {
   "cell_type": "code",
   "execution_count": 63,
   "id": "53151e52",
   "metadata": {},
   "outputs": [],
   "source": [
    "# seems to be that...\n",
    "# more dense: collaborative papers but fewer\n",
    "# less dense: more single author papers causing network sparcity\n",
    "\n",
    "# 'Online-updated High-order Collaborative Networks for Single Image Deraining',\n",
    "# found a paper about collaborative papers while studying author collaboration :D"
   ]
  },
  {
   "cell_type": "code",
   "execution_count": null,
   "id": "389ab02e",
   "metadata": {},
   "outputs": [],
   "source": []
  }
 ],
 "metadata": {
  "kernelspec": {
   "display_name": "Python 3",
   "language": "python",
   "name": "python3"
  },
  "language_info": {
   "codemirror_mode": {
    "name": "ipython",
    "version": 3
   },
   "file_extension": ".py",
   "mimetype": "text/x-python",
   "name": "python",
   "nbconvert_exporter": "python",
   "pygments_lexer": "ipython3",
   "version": "3.7.16"
  }
 },
 "nbformat": 4,
 "nbformat_minor": 5
}
