{
 "cells": [
  {
   "cell_type": "code",
   "execution_count": 1,
   "id": "bfacb0ba",
   "metadata": {},
   "outputs": [],
   "source": [
    "#!pip install arxiv --upgrade --user"
   ]
  },
  {
   "cell_type": "code",
   "execution_count": 2,
   "id": "5ad512df",
   "metadata": {},
   "outputs": [],
   "source": [
    "import pandas as pd\n",
    "import arxiv"
   ]
  },
  {
   "cell_type": "code",
   "execution_count": 3,
   "id": "81141bbc",
   "metadata": {},
   "outputs": [],
   "source": [
    "# i only use these if I want to remove annoying deprecation warnings from my analysis\n",
    "import warnings\n",
    "warnings.filterwarnings('ignore')"
   ]
  },
  {
   "cell_type": "code",
   "execution_count": 4,
   "id": "4d25a4b2",
   "metadata": {},
   "outputs": [],
   "source": [
    "# troubleshooting: https://github.com/lukasschwab/arxiv.py/issues/43\n",
    "\n",
    "def search_arxiv(query, max_results=10):\n",
    "\n",
    "    data = {}\n",
    "    i = 0\n",
    "    \n",
    "    client = arxiv.Client()\n",
    "\n",
    "    search = arxiv.Search(query=query, max_results=max_results)\n",
    "    \n",
    "    results = client.results(search)\n",
    "\n",
    "    #for result in search.results():\n",
    "    for result in results:\n",
    "        \n",
    "        try:\n",
    "\n",
    "            data[i] = {}\n",
    "\n",
    "            data[i]['title'] = result.title\n",
    "            data[i]['date_published'] = result.published\n",
    "            data[i]['authors'] = [a.name for a in result.authors]\n",
    "            data[i]['summary'] = result.summary\n",
    "            data[i]['url'] = result.pdf_url\n",
    "            data[i]['category'] = result.primary_category\n",
    "        \n",
    "        except:\n",
    "            \n",
    "            print('weird arxiv error')\n",
    "        \n",
    "        # there are more fields that can be added; add as many as you need\n",
    "\n",
    "        i += 1\n",
    "\n",
    "    df = pd.DataFrame(data).T\n",
    "    df = df[['date_published', 'title', 'authors', 'summary', 'url', 'category']]\n",
    "    df['date_published'] = pd.to_datetime(df['date_published'])\n",
    "    df.sort_values('date_published', ascending=False, inplace=True)\n",
    "    df.reset_index(drop=True, inplace=True)\n",
    "    return df"
   ]
  },
  {
   "cell_type": "code",
   "execution_count": 12,
   "id": "92615d2a",
   "metadata": {},
   "outputs": [
    {
     "data": {
      "text/html": [
       "<div>\n",
       "<style scoped>\n",
       "    .dataframe tbody tr th:only-of-type {\n",
       "        vertical-align: middle;\n",
       "    }\n",
       "\n",
       "    .dataframe tbody tr th {\n",
       "        vertical-align: top;\n",
       "    }\n",
       "\n",
       "    .dataframe thead th {\n",
       "        text-align: right;\n",
       "    }\n",
       "</style>\n",
       "<table border=\"1\" class=\"dataframe\">\n",
       "  <thead>\n",
       "    <tr style=\"text-align: right;\">\n",
       "      <th></th>\n",
       "      <th>date_published</th>\n",
       "      <th>title</th>\n",
       "      <th>authors</th>\n",
       "      <th>summary</th>\n",
       "      <th>url</th>\n",
       "      <th>category</th>\n",
       "    </tr>\n",
       "  </thead>\n",
       "  <tbody>\n",
       "    <tr>\n",
       "      <th>0</th>\n",
       "      <td>2023-10-16 00:41:13+00:00</td>\n",
       "      <td>Network Analysis of the iNaturalist Citizen Sc...</td>\n",
       "      <td>[Yu Lu Liu, Thomas Jiralerspong]</td>\n",
       "      <td>In recent years, citizen science has become a ...</td>\n",
       "      <td>http://arxiv.org/pdf/2310.10693v1</td>\n",
       "      <td>cs.SI</td>\n",
       "    </tr>\n",
       "    <tr>\n",
       "      <th>1</th>\n",
       "      <td>2023-05-05 18:55:32+00:00</td>\n",
       "      <td>Materials Informatics: An Algorithmic Design Rule</td>\n",
       "      <td>[Bhupesh Bishnoi]</td>\n",
       "      <td>Materials informatics, data-enabled investigat...</td>\n",
       "      <td>http://arxiv.org/pdf/2305.03797v1</td>\n",
       "      <td>cond-mat.mtrl-sci</td>\n",
       "    </tr>\n",
       "    <tr>\n",
       "      <th>2</th>\n",
       "      <td>2023-01-12 06:03:57+00:00</td>\n",
       "      <td>A Network Science perspective of Graph Convolu...</td>\n",
       "      <td>[Mingshan Jia, Bogdan Gabrys, Katarzyna Musial]</td>\n",
       "      <td>The mining and exploitation of graph structura...</td>\n",
       "      <td>http://arxiv.org/pdf/2301.04824v1</td>\n",
       "      <td>cs.SI</td>\n",
       "    </tr>\n",
       "    <tr>\n",
       "      <th>3</th>\n",
       "      <td>2022-08-25 08:27:36+00:00</td>\n",
       "      <td>Motif-Based Visual Analysis of Dynamic Networks</td>\n",
       "      <td>[Eren Cakmak, Johannes Fuchs, Dominik Jäckle, ...</td>\n",
       "      <td>Many data analysis problems rely on dynamic ne...</td>\n",
       "      <td>http://arxiv.org/pdf/2208.11932v1</td>\n",
       "      <td>cs.SI</td>\n",
       "    </tr>\n",
       "    <tr>\n",
       "      <th>4</th>\n",
       "      <td>2022-08-20 11:25:54+00:00</td>\n",
       "      <td>From Time Series to Networks in R with the ts2...</td>\n",
       "      <td>[Leonardo N. Ferreira]</td>\n",
       "      <td>Network science established itself as a promin...</td>\n",
       "      <td>http://arxiv.org/pdf/2208.09660v1</td>\n",
       "      <td>cs.SI</td>\n",
       "    </tr>\n",
       "  </tbody>\n",
       "</table>\n",
       "</div>"
      ],
      "text/plain": [
       "             date_published  \\\n",
       "0 2023-10-16 00:41:13+00:00   \n",
       "1 2023-05-05 18:55:32+00:00   \n",
       "2 2023-01-12 06:03:57+00:00   \n",
       "3 2022-08-25 08:27:36+00:00   \n",
       "4 2022-08-20 11:25:54+00:00   \n",
       "\n",
       "                                               title  \\\n",
       "0  Network Analysis of the iNaturalist Citizen Sc...   \n",
       "1  Materials Informatics: An Algorithmic Design Rule   \n",
       "2  A Network Science perspective of Graph Convolu...   \n",
       "3    Motif-Based Visual Analysis of Dynamic Networks   \n",
       "4  From Time Series to Networks in R with the ts2...   \n",
       "\n",
       "                                             authors  \\\n",
       "0                   [Yu Lu Liu, Thomas Jiralerspong]   \n",
       "1                                  [Bhupesh Bishnoi]   \n",
       "2    [Mingshan Jia, Bogdan Gabrys, Katarzyna Musial]   \n",
       "3  [Eren Cakmak, Johannes Fuchs, Dominik Jäckle, ...   \n",
       "4                             [Leonardo N. Ferreira]   \n",
       "\n",
       "                                             summary  \\\n",
       "0  In recent years, citizen science has become a ...   \n",
       "1  Materials informatics, data-enabled investigat...   \n",
       "2  The mining and exploitation of graph structura...   \n",
       "3  Many data analysis problems rely on dynamic ne...   \n",
       "4  Network science established itself as a promin...   \n",
       "\n",
       "                                 url           category  \n",
       "0  http://arxiv.org/pdf/2310.10693v1              cs.SI  \n",
       "1  http://arxiv.org/pdf/2305.03797v1  cond-mat.mtrl-sci  \n",
       "2  http://arxiv.org/pdf/2301.04824v1              cs.SI  \n",
       "3  http://arxiv.org/pdf/2208.11932v1              cs.SI  \n",
       "4  http://arxiv.org/pdf/2208.09660v1              cs.SI  "
      ]
     },
     "execution_count": 12,
     "metadata": {},
     "output_type": "execute_result"
    }
   ],
   "source": [
    "# sometimes, it'll hit a weird error and crash; supposedly, that is on arxiv's end, not the python library used\n",
    "# just reduce max_results. 100 goes very fast, 1000 goes slower, 10000 takes a few minutes, more than that is luck\n",
    "\n",
    "query = 'Network Science'\n",
    "\n",
    "max_results = 100\n",
    "    \n",
    "df = search_arxiv(query, max_results) \n",
    "df.head()"
   ]
  },
  {
   "cell_type": "code",
   "execution_count": 13,
   "id": "26b9e534",
   "metadata": {},
   "outputs": [
    {
     "data": {
      "text/plain": [
       "(100, 6)"
      ]
     },
     "execution_count": 13,
     "metadata": {},
     "output_type": "execute_result"
    }
   ],
   "source": [
    "df.shape"
   ]
  },
  {
   "cell_type": "code",
   "execution_count": 11,
   "id": "46b3d673",
   "metadata": {},
   "outputs": [],
   "source": [
    "outfile = 'data/arxiv_network_science_data.csv'\n",
    "\n",
    "df.to_csv(outfile, index=False)"
   ]
  },
  {
   "cell_type": "code",
   "execution_count": null,
   "id": "a87a58e4",
   "metadata": {},
   "outputs": [],
   "source": [
    "# occasionally randomly crashes; need to find a fix; maybe others can help"
   ]
  }
 ],
 "metadata": {
  "kernelspec": {
   "display_name": "Python 3",
   "language": "python",
   "name": "python3"
  },
  "language_info": {
   "codemirror_mode": {
    "name": "ipython",
    "version": 3
   },
   "file_extension": ".py",
   "mimetype": "text/x-python",
   "name": "python",
   "nbconvert_exporter": "python",
   "pygments_lexer": "ipython3",
   "version": "3.7.16"
  }
 },
 "nbformat": 4,
 "nbformat_minor": 5
}
