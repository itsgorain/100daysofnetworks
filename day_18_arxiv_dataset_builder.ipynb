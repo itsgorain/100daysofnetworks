{
 "cells": [
  {
   "cell_type": "code",
   "execution_count": 1,
   "id": "bfacb0ba",
   "metadata": {},
   "outputs": [],
   "source": [
    "#!pip install arxiv --upgrade --user"
   ]
  },
  {
   "cell_type": "code",
   "execution_count": 1,
   "id": "5ad512df",
   "metadata": {},
   "outputs": [],
   "source": [
    "import pandas as pd\n",
    "import arxiv"
   ]
  },
  {
   "cell_type": "code",
   "execution_count": 2,
   "id": "81141bbc",
   "metadata": {},
   "outputs": [],
   "source": [
    "# i only use these if I want to remove annoying deprecation warnings from my analysis\n",
    "import warnings\n",
    "warnings.filterwarnings('ignore')"
   ]
  },
  {
   "cell_type": "code",
   "execution_count": 3,
   "id": "4d25a4b2",
   "metadata": {},
   "outputs": [],
   "source": [
    "# troubleshooting: https://github.com/lukasschwab/arxiv.py/issues/43\n",
    "\n",
    "def search_arxiv(query, max_results=10):\n",
    "\n",
    "    data = {}\n",
    "    i = 0\n",
    "    \n",
    "    client = arxiv.Client()\n",
    "\n",
    "    search = arxiv.Search(query=query, max_results=max_results)\n",
    "    \n",
    "    results = client.results(search)\n",
    "\n",
    "    #for result in search.results():\n",
    "    for result in results:\n",
    "        \n",
    "        try:\n",
    "\n",
    "            data[i] = {}\n",
    "\n",
    "            data[i]['title'] = result.title\n",
    "            data[i]['date_published'] = result.published\n",
    "            data[i]['authors'] = [a.name for a in result.authors]\n",
    "            data[i]['summary'] = result.summary\n",
    "            data[i]['url'] = result.pdf_url\n",
    "            data[i]['category'] = result.primary_category\n",
    "        \n",
    "        except:\n",
    "            \n",
    "            print('weird arxiv error')\n",
    "        \n",
    "        # there are more fields that can be added; add as many as you need\n",
    "\n",
    "        i += 1\n",
    "\n",
    "    df = pd.DataFrame(data).T\n",
    "    df = df[['date_published', 'title', 'authors', 'summary', 'url', 'category']]\n",
    "    df['date_published'] = pd.to_datetime(df['date_published'])\n",
    "    df.sort_values('date_published', ascending=False, inplace=True)\n",
    "    df.reset_index(drop=True, inplace=True)\n",
    "    return df"
   ]
  },
  {
   "cell_type": "code",
   "execution_count": 4,
   "id": "92615d2a",
   "metadata": {},
   "outputs": [
    {
     "data": {
      "text/html": [
       "<div>\n",
       "<style scoped>\n",
       "    .dataframe tbody tr th:only-of-type {\n",
       "        vertical-align: middle;\n",
       "    }\n",
       "\n",
       "    .dataframe tbody tr th {\n",
       "        vertical-align: top;\n",
       "    }\n",
       "\n",
       "    .dataframe thead th {\n",
       "        text-align: right;\n",
       "    }\n",
       "</style>\n",
       "<table border=\"1\" class=\"dataframe\">\n",
       "  <thead>\n",
       "    <tr style=\"text-align: right;\">\n",
       "      <th></th>\n",
       "      <th>date_published</th>\n",
       "      <th>title</th>\n",
       "      <th>authors</th>\n",
       "      <th>summary</th>\n",
       "      <th>url</th>\n",
       "      <th>category</th>\n",
       "    </tr>\n",
       "  </thead>\n",
       "  <tbody>\n",
       "    <tr>\n",
       "      <th>0</th>\n",
       "      <td>2023-10-03 11:42:29+00:00</td>\n",
       "      <td>Online Multimedia Verification with Computatio...</td>\n",
       "      <td>[Sohail Ahmed Khan, Jan Gunnar Furuly, Henrik ...</td>\n",
       "      <td>This paper investigates the use of computation...</td>\n",
       "      <td>http://arxiv.org/pdf/2310.01978v1</td>\n",
       "      <td>cs.MM</td>\n",
       "    </tr>\n",
       "    <tr>\n",
       "      <th>1</th>\n",
       "      <td>2023-09-06 19:03:49+00:00</td>\n",
       "      <td>C-CLIP: Contrastive Image-Text Encoders to Clo...</td>\n",
       "      <td>[William Theisen, Walter Scheirer]</td>\n",
       "      <td>The interplay between the image and comment on...</td>\n",
       "      <td>http://arxiv.org/pdf/2309.03921v1</td>\n",
       "      <td>cs.CV</td>\n",
       "    </tr>\n",
       "    <tr>\n",
       "      <th>2</th>\n",
       "      <td>2023-07-27 23:03:57+00:00</td>\n",
       "      <td>A Secure Open-Source Intelligence Framework Fo...</td>\n",
       "      <td>[Sylvia Worlali Azumah, Victor Adewopo, Zag El...</td>\n",
       "      <td>Cyberbullying has become a pervasive issue bas...</td>\n",
       "      <td>http://arxiv.org/pdf/2307.15225v2</td>\n",
       "      <td>cs.CY</td>\n",
       "    </tr>\n",
       "    <tr>\n",
       "      <th>3</th>\n",
       "      <td>2023-06-09 18:18:58+00:00</td>\n",
       "      <td>The Use of Public Data and Free Tools in Natio...</td>\n",
       "      <td>[Sharifah Roziah Binti Mohd Kassim, Shujun Li,...</td>\n",
       "      <td>Many CSIRTs, including national CSIRTs, routin...</td>\n",
       "      <td>http://arxiv.org/pdf/2306.07988v1</td>\n",
       "      <td>cs.DL</td>\n",
       "    </tr>\n",
       "    <tr>\n",
       "      <th>4</th>\n",
       "      <td>2023-04-24 09:53:33+00:00</td>\n",
       "      <td>ThreatCrawl: A BERT-based Focused Crawler for ...</td>\n",
       "      <td>[Philipp Kuehn, Mike Schmidt, Markus Bayer, Ch...</td>\n",
       "      <td>Publicly available information contains valuab...</td>\n",
       "      <td>http://arxiv.org/pdf/2304.11960v2</td>\n",
       "      <td>cs.CR</td>\n",
       "    </tr>\n",
       "  </tbody>\n",
       "</table>\n",
       "</div>"
      ],
      "text/plain": [
       "             date_published  \\\n",
       "0 2023-10-03 11:42:29+00:00   \n",
       "1 2023-09-06 19:03:49+00:00   \n",
       "2 2023-07-27 23:03:57+00:00   \n",
       "3 2023-06-09 18:18:58+00:00   \n",
       "4 2023-04-24 09:53:33+00:00   \n",
       "\n",
       "                                               title  \\\n",
       "0  Online Multimedia Verification with Computatio...   \n",
       "1  C-CLIP: Contrastive Image-Text Encoders to Clo...   \n",
       "2  A Secure Open-Source Intelligence Framework Fo...   \n",
       "3  The Use of Public Data and Free Tools in Natio...   \n",
       "4  ThreatCrawl: A BERT-based Focused Crawler for ...   \n",
       "\n",
       "                                             authors  \\\n",
       "0  [Sohail Ahmed Khan, Jan Gunnar Furuly, Henrik ...   \n",
       "1                 [William Theisen, Walter Scheirer]   \n",
       "2  [Sylvia Worlali Azumah, Victor Adewopo, Zag El...   \n",
       "3  [Sharifah Roziah Binti Mohd Kassim, Shujun Li,...   \n",
       "4  [Philipp Kuehn, Mike Schmidt, Markus Bayer, Ch...   \n",
       "\n",
       "                                             summary  \\\n",
       "0  This paper investigates the use of computation...   \n",
       "1  The interplay between the image and comment on...   \n",
       "2  Cyberbullying has become a pervasive issue bas...   \n",
       "3  Many CSIRTs, including national CSIRTs, routin...   \n",
       "4  Publicly available information contains valuab...   \n",
       "\n",
       "                                 url category  \n",
       "0  http://arxiv.org/pdf/2310.01978v1    cs.MM  \n",
       "1  http://arxiv.org/pdf/2309.03921v1    cs.CV  \n",
       "2  http://arxiv.org/pdf/2307.15225v2    cs.CY  \n",
       "3  http://arxiv.org/pdf/2306.07988v1    cs.DL  \n",
       "4  http://arxiv.org/pdf/2304.11960v2    cs.CR  "
      ]
     },
     "execution_count": 4,
     "metadata": {},
     "output_type": "execute_result"
    }
   ],
   "source": [
    "# sometimes, it'll hit a weird error and crash; supposedly, that is on arxiv's end, not the python library used\n",
    "# just reduce max_results. 100 goes very fast, 1000 goes slower, 10000 takes a few minutes, more than that is luck\n",
    "\n",
    "query = 'OSINT'\n",
    "\n",
    "max_results = 30000\n",
    "    \n",
    "df = search_arxiv(query, max_results) \n",
    "df.head()"
   ]
  },
  {
   "cell_type": "code",
   "execution_count": 5,
   "id": "26b9e534",
   "metadata": {},
   "outputs": [
    {
     "data": {
      "text/plain": [
       "(16, 6)"
      ]
     },
     "execution_count": 5,
     "metadata": {},
     "output_type": "execute_result"
    }
   ],
   "source": [
    "df.shape"
   ]
  },
  {
   "cell_type": "code",
   "execution_count": 6,
   "id": "46b3d673",
   "metadata": {},
   "outputs": [],
   "source": [
    "outfile = 'data/arxiv_osint.csv'\n",
    "\n",
    "df.to_csv(outfile, index=False)"
   ]
  },
  {
   "cell_type": "code",
   "execution_count": null,
   "id": "a87a58e4",
   "metadata": {},
   "outputs": [],
   "source": [
    "# occasionally randomly crashes; need to find a fix; maybe others can help"
   ]
  }
 ],
 "metadata": {
  "kernelspec": {
   "display_name": "Python 3",
   "language": "python",
   "name": "python3"
  },
  "language_info": {
   "codemirror_mode": {
    "name": "ipython",
    "version": 3
   },
   "file_extension": ".py",
   "mimetype": "text/x-python",
   "name": "python",
   "nbconvert_exporter": "python",
   "pygments_lexer": "ipython3",
   "version": "3.7.16"
  }
 },
 "nbformat": 4,
 "nbformat_minor": 5
}
