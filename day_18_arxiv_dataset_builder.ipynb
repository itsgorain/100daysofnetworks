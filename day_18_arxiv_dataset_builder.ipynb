{
 "cells": [
  {
   "cell_type": "code",
   "execution_count": 1,
   "id": "bfacb0ba",
   "metadata": {},
   "outputs": [],
   "source": [
    "#!pip install arxiv --upgrade --user"
   ]
  },
  {
   "cell_type": "code",
   "execution_count": 1,
   "id": "5ad512df",
   "metadata": {},
   "outputs": [],
   "source": [
    "import pandas as pd\n",
    "import arxiv"
   ]
  },
  {
   "cell_type": "code",
   "execution_count": 2,
   "id": "81141bbc",
   "metadata": {},
   "outputs": [],
   "source": [
    "# i only use these if I want to remove annoying deprecation warnings from my analysis\n",
    "import warnings\n",
    "warnings.filterwarnings('ignore')"
   ]
  },
  {
   "cell_type": "code",
   "execution_count": 3,
   "id": "4d25a4b2",
   "metadata": {},
   "outputs": [],
   "source": [
    "# troubleshooting: https://github.com/lukasschwab/arxiv.py/issues/43\n",
    "\n",
    "def search_arxiv(query, max_results=10):\n",
    "\n",
    "    data = {}\n",
    "    i = 0\n",
    "    \n",
    "    client = arxiv.Client()\n",
    "\n",
    "    search = arxiv.Search(query=query, max_results=max_results)\n",
    "    \n",
    "    results = client.results(search)\n",
    "\n",
    "    #for result in search.results():\n",
    "    for result in results:\n",
    "        \n",
    "        try:\n",
    "\n",
    "            data[i] = {}\n",
    "\n",
    "            data[i]['title'] = result.title\n",
    "            data[i]['date_published'] = result.published\n",
    "            data[i]['authors'] = [a.name for a in result.authors]\n",
    "            data[i]['summary'] = result.summary\n",
    "            data[i]['url'] = result.pdf_url\n",
    "            data[i]['category'] = result.primary_category\n",
    "        \n",
    "        except:\n",
    "            \n",
    "            print('weird arxiv error')\n",
    "        \n",
    "        # there are more fields that can be added; add as many as you need\n",
    "\n",
    "        i += 1\n",
    "\n",
    "    df = pd.DataFrame(data).T\n",
    "    df = df[['date_published', 'title', 'authors', 'summary', 'url', 'category']]\n",
    "    df['date_published'] = pd.to_datetime(df['date_published'])\n",
    "    df.sort_values('date_published', ascending=False, inplace=True)\n",
    "    df.reset_index(drop=True, inplace=True)\n",
    "    return df"
   ]
  },
  {
   "cell_type": "code",
   "execution_count": 10,
   "id": "92615d2a",
   "metadata": {},
   "outputs": [
    {
     "data": {
      "text/html": [
       "<div>\n",
       "<style scoped>\n",
       "    .dataframe tbody tr th:only-of-type {\n",
       "        vertical-align: middle;\n",
       "    }\n",
       "\n",
       "    .dataframe tbody tr th {\n",
       "        vertical-align: top;\n",
       "    }\n",
       "\n",
       "    .dataframe thead th {\n",
       "        text-align: right;\n",
       "    }\n",
       "</style>\n",
       "<table border=\"1\" class=\"dataframe\">\n",
       "  <thead>\n",
       "    <tr style=\"text-align: right;\">\n",
       "      <th></th>\n",
       "      <th>date_published</th>\n",
       "      <th>title</th>\n",
       "      <th>authors</th>\n",
       "      <th>summary</th>\n",
       "      <th>url</th>\n",
       "      <th>category</th>\n",
       "    </tr>\n",
       "  </thead>\n",
       "  <tbody>\n",
       "    <tr>\n",
       "      <th>0</th>\n",
       "      <td>2023-11-09 16:53:55+00:00</td>\n",
       "      <td>A Comprehensive Survey of Threshold Digital Si...</td>\n",
       "      <td>[Kiarash Sedghighadikolaei, Attila Altay Yavuz]</td>\n",
       "      <td>Threshold digital signatures enable a distribu...</td>\n",
       "      <td>http://arxiv.org/pdf/2311.05514v1</td>\n",
       "      <td>cs.CR</td>\n",
       "    </tr>\n",
       "    <tr>\n",
       "      <th>1</th>\n",
       "      <td>2023-11-09 09:12:31+00:00</td>\n",
       "      <td>Phosphatidylserine transport in cell life and ...</td>\n",
       "      <td>[Alenka {Č}opi{č}, Thibaud Dieudonné, Guillaum...</td>\n",
       "      <td>Phosphatidylserine (PS) is a negatively-charge...</td>\n",
       "      <td>http://arxiv.org/pdf/2311.05223v1</td>\n",
       "      <td>q-bio.SC</td>\n",
       "    </tr>\n",
       "    <tr>\n",
       "      <th>2</th>\n",
       "      <td>2023-11-09 08:54:46+00:00</td>\n",
       "      <td>Tracking and Following a Suspended Moving Obje...</td>\n",
       "      <td>[Michele Ambrosino, Manar Mahmalji, Nicolás Bo...</td>\n",
       "      <td>When robots are able to see and respond to the...</td>\n",
       "      <td>http://arxiv.org/pdf/2311.05213v1</td>\n",
       "      <td>cs.RO</td>\n",
       "    </tr>\n",
       "    <tr>\n",
       "      <th>3</th>\n",
       "      <td>2023-11-09 08:29:55+00:00</td>\n",
       "      <td>Green Resilience of Cyber-Physical Systems</td>\n",
       "      <td>[Diaeddin Rimawi]</td>\n",
       "      <td>Cyber-Physical System (CPS) represents systems...</td>\n",
       "      <td>http://arxiv.org/pdf/2311.05201v1</td>\n",
       "      <td>cs.SE</td>\n",
       "    </tr>\n",
       "    <tr>\n",
       "      <th>4</th>\n",
       "      <td>2023-11-09 03:14:54+00:00</td>\n",
       "      <td>Quranic Conversations: Developing a Semantic S...</td>\n",
       "      <td>[Yasser Shohoud, Maged Shoman, Sarah Abdelazim]</td>\n",
       "      <td>The Holy Book of Quran is believed to be the l...</td>\n",
       "      <td>http://arxiv.org/pdf/2311.05120v1</td>\n",
       "      <td>cs.CL</td>\n",
       "    </tr>\n",
       "  </tbody>\n",
       "</table>\n",
       "</div>"
      ],
      "text/plain": [
       "             date_published  \\\n",
       "0 2023-11-09 16:53:55+00:00   \n",
       "1 2023-11-09 09:12:31+00:00   \n",
       "2 2023-11-09 08:54:46+00:00   \n",
       "3 2023-11-09 08:29:55+00:00   \n",
       "4 2023-11-09 03:14:54+00:00   \n",
       "\n",
       "                                               title  \\\n",
       "0  A Comprehensive Survey of Threshold Digital Si...   \n",
       "1  Phosphatidylserine transport in cell life and ...   \n",
       "2  Tracking and Following a Suspended Moving Obje...   \n",
       "3         Green Resilience of Cyber-Physical Systems   \n",
       "4  Quranic Conversations: Developing a Semantic S...   \n",
       "\n",
       "                                             authors  \\\n",
       "0    [Kiarash Sedghighadikolaei, Attila Altay Yavuz]   \n",
       "1  [Alenka {Č}opi{č}, Thibaud Dieudonné, Guillaum...   \n",
       "2  [Michele Ambrosino, Manar Mahmalji, Nicolás Bo...   \n",
       "3                                  [Diaeddin Rimawi]   \n",
       "4    [Yasser Shohoud, Maged Shoman, Sarah Abdelazim]   \n",
       "\n",
       "                                             summary  \\\n",
       "0  Threshold digital signatures enable a distribu...   \n",
       "1  Phosphatidylserine (PS) is a negatively-charge...   \n",
       "2  When robots are able to see and respond to the...   \n",
       "3  Cyber-Physical System (CPS) represents systems...   \n",
       "4  The Holy Book of Quran is believed to be the l...   \n",
       "\n",
       "                                 url  category  \n",
       "0  http://arxiv.org/pdf/2311.05514v1     cs.CR  \n",
       "1  http://arxiv.org/pdf/2311.05223v1  q-bio.SC  \n",
       "2  http://arxiv.org/pdf/2311.05213v1     cs.RO  \n",
       "3  http://arxiv.org/pdf/2311.05201v1     cs.SE  \n",
       "4  http://arxiv.org/pdf/2311.05120v1     cs.CL  "
      ]
     },
     "execution_count": 10,
     "metadata": {},
     "output_type": "execute_result"
    }
   ],
   "source": [
    "# sometimes, it'll hit a weird error and crash; supposedly, that is on arxiv's end, not the python library used\n",
    "# just reduce max_results. 100 goes very fast, 1000 goes slower, 10000 takes a few minutes, more than that is luck\n",
    "\n",
    "query = 'Network Science'\n",
    "query = 'Artificial Life'\n",
    "\n",
    "max_results = 20000\n",
    "    \n",
    "df = search_arxiv(query, max_results) \n",
    "df.head()"
   ]
  },
  {
   "cell_type": "code",
   "execution_count": 13,
   "id": "26b9e534",
   "metadata": {},
   "outputs": [
    {
     "data": {
      "text/plain": [
       "(20000, 6)"
      ]
     },
     "execution_count": 13,
     "metadata": {},
     "output_type": "execute_result"
    }
   ],
   "source": [
    "df.shape"
   ]
  },
  {
   "cell_type": "code",
   "execution_count": 14,
   "id": "46b3d673",
   "metadata": {},
   "outputs": [],
   "source": [
    "outfile = 'data/arxiv_artificial_life.csv'\n",
    "\n",
    "df.to_csv(outfile, index=False)"
   ]
  },
  {
   "cell_type": "code",
   "execution_count": null,
   "id": "a87a58e4",
   "metadata": {},
   "outputs": [],
   "source": [
    "# occasionally randomly crashes; need to find a fix; maybe others can help"
   ]
  }
 ],
 "metadata": {
  "kernelspec": {
   "display_name": "Python 3",
   "language": "python",
   "name": "python3"
  },
  "language_info": {
   "codemirror_mode": {
    "name": "ipython",
    "version": 3
   },
   "file_extension": ".py",
   "mimetype": "text/x-python",
   "name": "python",
   "nbconvert_exporter": "python",
   "pygments_lexer": "ipython3",
   "version": "3.7.16"
  }
 },
 "nbformat": 4,
 "nbformat_minor": 5
}
