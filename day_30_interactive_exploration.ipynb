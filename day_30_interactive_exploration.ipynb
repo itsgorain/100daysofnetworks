{
 "cells": [
  {
   "cell_type": "code",
   "execution_count": 1,
   "id": "7423be59",
   "metadata": {},
   "outputs": [],
   "source": [
    "import networkx as nx\n",
    "import numpy as np\n",
    "import pandas as pd\n",
    "\n",
    "# for the explode statement; convert string to list\n",
    "from ast import literal_eval\n",
    "\n",
    "# for visualization\n",
    "from IPython.display import SVG \n",
    "from sknetwork.visualization import svg_graph \n",
    "from sknetwork.data import Bunch \n",
    "from sknetwork.ranking import PageRank\n",
    "from scipy.sparse import csr_matrix"
   ]
  },
  {
   "cell_type": "code",
   "execution_count": 2,
   "id": "102626ff",
   "metadata": {},
   "outputs": [],
   "source": [
    "# updated function -- verified 12/27/2023\n",
    "\n",
    "def draw_graph(G, show_names=False, node_size=1, font_size=10, edge_width=0.5):\n",
    "\n",
    "    adjacency = nx.to_scipy_sparse_array(G, nodelist=None, dtype=None, weight='weight', format='csr')\n",
    "    adjacency = csr_matrix(adjacency) # fix to weird sknetwork-csr issue; comment out to troubleshoot\n",
    "    \n",
    "    names = np.array(list(G.nodes))\n",
    "    \n",
    "    graph = Bunch()\n",
    "    graph.adjacency = adjacency\n",
    "    graph.names = np.array(names)\n",
    "    \n",
    "    pagerank = PageRank()\n",
    "    scores = pagerank.fit_transform(adjacency)\n",
    "\n",
    "    if show_names:\n",
    "        \n",
    "        image = svg_graph(graph.adjacency, font_size=font_size, node_size=node_size, names=graph.names, width=700, height=500, scores=scores, edge_width=edge_width)\n",
    "    \n",
    "    else:\n",
    "        \n",
    "        image = svg_graph(graph.adjacency, node_size=node_size, width=700, height=500, scores = scores, edge_width=edge_width)\n",
    "    \n",
    "    return SVG(image)"
   ]
  },
  {
   "cell_type": "markdown",
   "id": "77a12aec",
   "metadata": {},
   "source": [
    "# Create Graph using Bipartite Projection on Arxiv Dataset"
   ]
  },
  {
   "cell_type": "code",
   "execution_count": 119,
   "id": "443c3cd4",
   "metadata": {},
   "outputs": [
    {
     "data": {
      "text/html": [
       "<div>\n",
       "<style scoped>\n",
       "    .dataframe tbody tr th:only-of-type {\n",
       "        vertical-align: middle;\n",
       "    }\n",
       "\n",
       "    .dataframe tbody tr th {\n",
       "        vertical-align: top;\n",
       "    }\n",
       "\n",
       "    .dataframe thead th {\n",
       "        text-align: right;\n",
       "    }\n",
       "</style>\n",
       "<table border=\"1\" class=\"dataframe\">\n",
       "  <thead>\n",
       "    <tr style=\"text-align: right;\">\n",
       "      <th></th>\n",
       "      <th>authors</th>\n",
       "      <th>title</th>\n",
       "    </tr>\n",
       "  </thead>\n",
       "  <tbody>\n",
       "    <tr>\n",
       "      <th>0</th>\n",
       "      <td>Kiarash Sedghighadikolaei</td>\n",
       "      <td>A Comprehensive Survey of Threshold Digital Si...</td>\n",
       "    </tr>\n",
       "    <tr>\n",
       "      <th>1</th>\n",
       "      <td>Attila Altay Yavuz</td>\n",
       "      <td>A Comprehensive Survey of Threshold Digital Si...</td>\n",
       "    </tr>\n",
       "    <tr>\n",
       "      <th>2</th>\n",
       "      <td>Alenka {Č}opi{č}</td>\n",
       "      <td>Phosphatidylserine transport in cell life and ...</td>\n",
       "    </tr>\n",
       "    <tr>\n",
       "      <th>3</th>\n",
       "      <td>Thibaud Dieudonné</td>\n",
       "      <td>Phosphatidylserine transport in cell life and ...</td>\n",
       "    </tr>\n",
       "    <tr>\n",
       "      <th>4</th>\n",
       "      <td>Guillaume Lenoir</td>\n",
       "      <td>Phosphatidylserine transport in cell life and ...</td>\n",
       "    </tr>\n",
       "  </tbody>\n",
       "</table>\n",
       "</div>"
      ],
      "text/plain": [
       "                     authors  \\\n",
       "0  Kiarash Sedghighadikolaei   \n",
       "1         Attila Altay Yavuz   \n",
       "2           Alenka {Č}opi{č}   \n",
       "3          Thibaud Dieudonné   \n",
       "4           Guillaume Lenoir   \n",
       "\n",
       "                                               title  \n",
       "0  A Comprehensive Survey of Threshold Digital Si...  \n",
       "1  A Comprehensive Survey of Threshold Digital Si...  \n",
       "2  Phosphatidylserine transport in cell life and ...  \n",
       "3  Phosphatidylserine transport in cell life and ...  \n",
       "4  Phosphatidylserine transport in cell life and ...  "
      ]
     },
     "execution_count": 119,
     "metadata": {},
     "output_type": "execute_result"
    }
   ],
   "source": [
    "data = r'data\\arxiv_artificial_life.csv'\n",
    "\n",
    "df = pd.read_csv(data)\n",
    "df['authors'] = df['authors'].apply(literal_eval)\n",
    "\n",
    "df = df[['authors', 'title']]\n",
    "df = df.explode('authors')\n",
    "df.reset_index(drop=True, inplace=True)\n",
    "\n",
    "# fix the & so that scikit-network stops crashing\n",
    "df['authors'] = df['authors'].str.replace('&', 'and')\n",
    "df['title'] = df['title'].str.replace('&', 'and')\n",
    "\n",
    "df.head()"
   ]
  },
  {
   "cell_type": "code",
   "execution_count": 120,
   "id": "5a7997ee",
   "metadata": {},
   "outputs": [
    {
     "data": {
      "text/plain": [
       "19989"
      ]
     },
     "execution_count": 120,
     "metadata": {},
     "output_type": "execute_result"
    }
   ],
   "source": [
    "len(set(df['title']))"
   ]
  },
  {
   "cell_type": "code",
   "execution_count": 121,
   "id": "e5726918",
   "metadata": {},
   "outputs": [],
   "source": [
    "from networkx.algorithms import bipartite\n",
    "\n",
    "B = nx.from_pandas_edgelist(df, source='authors', target='title')\n",
    "G = bipartite.projected_graph(B, df['authors'])\n",
    "\n",
    "G = nx.k_core(G, 2) # no isolates or two-node groups"
   ]
  },
  {
   "cell_type": "code",
   "execution_count": 122,
   "id": "fbee3229",
   "metadata": {},
   "outputs": [
    {
     "name": "stdout",
     "output_type": "stream",
     "text": [
      "Graph with 48753 nodes and 273061 edges\n"
     ]
    }
   ],
   "source": [
    "#print(nx.info(G)) # deprecated\n",
    "\n",
    "print(G)"
   ]
  },
  {
   "cell_type": "markdown",
   "id": "f9952d45",
   "metadata": {},
   "source": [
    "# Community Detection + Community Analysis\n",
    "\n",
    "There's two parts to what I am attempting today.\n",
    "- I need to use community detection to identify communities in the network.\n",
    "- I can then use network science and data science to identify interesting communities\n",
    "\n",
    "By interesting, I mean not stars. I am looking for complex ecosystems. So, I will identify communities, then attempt to detect more complex ecosystems by using triangles and density.\n",
    "\n",
    "In this notebook, I am experimenting with a python library for interactive visualization. "
   ]
  },
  {
   "cell_type": "markdown",
   "id": "19d07b3a",
   "metadata": {},
   "source": [
    "## Community Detection"
   ]
  },
  {
   "cell_type": "code",
   "execution_count": 123,
   "id": "6280fb05",
   "metadata": {},
   "outputs": [],
   "source": [
    "#! pip install python-louvain --user"
   ]
  },
  {
   "cell_type": "code",
   "execution_count": 124,
   "id": "46f88f22",
   "metadata": {},
   "outputs": [],
   "source": [
    "import community as community_louvain\n",
    "\n",
    "partition = community_louvain.best_partition(G, resolution=0.01, random_state=1337) # 10 was good for this network"
   ]
  },
  {
   "cell_type": "code",
   "execution_count": 125,
   "id": "9b81c14c",
   "metadata": {},
   "outputs": [
    {
     "data": {
      "text/plain": [
       "community\n",
       "10653    242\n",
       "1770     193\n",
       "957      182\n",
       "9583     163\n",
       "3938     122\n",
       "4788     109\n",
       "10990    108\n",
       "7718      94\n",
       "10344     88\n",
       "5149      86\n",
       "4159      80\n",
       "5323      78\n",
       "8789      74\n",
       "3737      68\n",
       "3826      67\n",
       "9328      67\n",
       "201       65\n",
       "590       59\n",
       "4460      55\n",
       "10993     54\n",
       "Name: count, dtype: int64"
      ]
     },
     "execution_count": 125,
     "metadata": {},
     "output_type": "execute_result"
    }
   ],
   "source": [
    "community_df = pd.DataFrame().from_dict(partition, orient='index')\n",
    "community_df.reset_index(inplace=True)\n",
    "community_df.columns = ['node', 'community']\n",
    "\n",
    "community_df['community'].value_counts()[0:20]"
   ]
  },
  {
   "cell_type": "code",
   "execution_count": 126,
   "id": "5ed70761",
   "metadata": {},
   "outputs": [
    {
     "data": {
      "text/html": [
       "<div>\n",
       "<style scoped>\n",
       "    .dataframe tbody tr th:only-of-type {\n",
       "        vertical-align: middle;\n",
       "    }\n",
       "\n",
       "    .dataframe tbody tr th {\n",
       "        vertical-align: top;\n",
       "    }\n",
       "\n",
       "    .dataframe thead th {\n",
       "        text-align: right;\n",
       "    }\n",
       "</style>\n",
       "<table border=\"1\" class=\"dataframe\">\n",
       "  <thead>\n",
       "    <tr style=\"text-align: right;\">\n",
       "      <th></th>\n",
       "      <th>community</th>\n",
       "      <th>node_count</th>\n",
       "    </tr>\n",
       "  </thead>\n",
       "  <tbody>\n",
       "    <tr>\n",
       "      <th>0</th>\n",
       "      <td>10653</td>\n",
       "      <td>242</td>\n",
       "    </tr>\n",
       "    <tr>\n",
       "      <th>1</th>\n",
       "      <td>1770</td>\n",
       "      <td>193</td>\n",
       "    </tr>\n",
       "    <tr>\n",
       "      <th>2</th>\n",
       "      <td>957</td>\n",
       "      <td>182</td>\n",
       "    </tr>\n",
       "    <tr>\n",
       "      <th>3</th>\n",
       "      <td>9583</td>\n",
       "      <td>163</td>\n",
       "    </tr>\n",
       "    <tr>\n",
       "      <th>4</th>\n",
       "      <td>3938</td>\n",
       "      <td>122</td>\n",
       "    </tr>\n",
       "  </tbody>\n",
       "</table>\n",
       "</div>"
      ],
      "text/plain": [
       "   community  node_count\n",
       "0      10653         242\n",
       "1       1770         193\n",
       "2        957         182\n",
       "3       9583         163\n",
       "4       3938         122"
      ]
     },
     "execution_count": 126,
     "metadata": {},
     "output_type": "execute_result"
    }
   ],
   "source": [
    "community_node_counts = community_df['community'].value_counts()\n",
    "\n",
    "community_size_df = pd.DataFrame(community_node_counts).reset_index()\n",
    "community_size_df.columns = ['community', 'node_count']\n",
    "\n",
    "# just to speed up this experiment\n",
    "community_size_df = community_size_df[community_size_df['node_count'] > 10]\n",
    "\n",
    "community_size_df.head()"
   ]
  },
  {
   "cell_type": "code",
   "execution_count": 127,
   "id": "77719ff7",
   "metadata": {},
   "outputs": [
    {
     "data": {
      "text/plain": [
       "(421, 2)"
      ]
     },
     "execution_count": 127,
     "metadata": {},
     "output_type": "execute_result"
    }
   ],
   "source": [
    "community_size_df.shape"
   ]
  },
  {
   "cell_type": "markdown",
   "id": "65a4daaa",
   "metadata": {},
   "source": [
    "## Capture Community Context"
   ]
  },
  {
   "cell_type": "code",
   "execution_count": 128,
   "id": "88142c5f",
   "metadata": {},
   "outputs": [
    {
     "data": {
      "text/html": [
       "<div>\n",
       "<style scoped>\n",
       "    .dataframe tbody tr th:only-of-type {\n",
       "        vertical-align: middle;\n",
       "    }\n",
       "\n",
       "    .dataframe tbody tr th {\n",
       "        vertical-align: top;\n",
       "    }\n",
       "\n",
       "    .dataframe thead th {\n",
       "        text-align: right;\n",
       "    }\n",
       "</style>\n",
       "<table border=\"1\" class=\"dataframe\">\n",
       "  <thead>\n",
       "    <tr style=\"text-align: right;\">\n",
       "      <th></th>\n",
       "      <th>node</th>\n",
       "      <th>community</th>\n",
       "    </tr>\n",
       "  </thead>\n",
       "  <tbody>\n",
       "    <tr>\n",
       "      <th>0</th>\n",
       "      <td>Alenka {Č}opi{č}</td>\n",
       "      <td>0</td>\n",
       "    </tr>\n",
       "    <tr>\n",
       "      <th>1</th>\n",
       "      <td>Thibaud Dieudonné</td>\n",
       "      <td>0</td>\n",
       "    </tr>\n",
       "    <tr>\n",
       "      <th>2</th>\n",
       "      <td>Guillaume Lenoir</td>\n",
       "      <td>0</td>\n",
       "    </tr>\n",
       "    <tr>\n",
       "      <th>3</th>\n",
       "      <td>Michele Ambrosino</td>\n",
       "      <td>5</td>\n",
       "    </tr>\n",
       "    <tr>\n",
       "      <th>4</th>\n",
       "      <td>Manar Mahmalji</td>\n",
       "      <td>5</td>\n",
       "    </tr>\n",
       "  </tbody>\n",
       "</table>\n",
       "</div>"
      ],
      "text/plain": [
       "                node  community\n",
       "0   Alenka {Č}opi{č}          0\n",
       "1  Thibaud Dieudonné          0\n",
       "2   Guillaume Lenoir          0\n",
       "3  Michele Ambrosino          5\n",
       "4     Manar Mahmalji          5"
      ]
     },
     "execution_count": 128,
     "metadata": {},
     "output_type": "execute_result"
    }
   ],
   "source": [
    "community_df.head()"
   ]
  },
  {
   "cell_type": "code",
   "execution_count": 129,
   "id": "024410cd",
   "metadata": {},
   "outputs": [
    {
     "data": {
      "text/html": [
       "<div>\n",
       "<style scoped>\n",
       "    .dataframe tbody tr th:only-of-type {\n",
       "        vertical-align: middle;\n",
       "    }\n",
       "\n",
       "    .dataframe tbody tr th {\n",
       "        vertical-align: top;\n",
       "    }\n",
       "\n",
       "    .dataframe thead th {\n",
       "        text-align: right;\n",
       "    }\n",
       "</style>\n",
       "<table border=\"1\" class=\"dataframe\">\n",
       "  <thead>\n",
       "    <tr style=\"text-align: right;\">\n",
       "      <th></th>\n",
       "      <th>community</th>\n",
       "      <th>node_count</th>\n",
       "    </tr>\n",
       "  </thead>\n",
       "  <tbody>\n",
       "    <tr>\n",
       "      <th>0</th>\n",
       "      <td>10653</td>\n",
       "      <td>242</td>\n",
       "    </tr>\n",
       "  </tbody>\n",
       "</table>\n",
       "</div>"
      ],
      "text/plain": [
       "   community  node_count\n",
       "0      10653         242"
      ]
     },
     "execution_count": 129,
     "metadata": {},
     "output_type": "execute_result"
    }
   ],
   "source": [
    "community_size_df.head(1)"
   ]
  },
  {
   "cell_type": "code",
   "execution_count": 130,
   "id": "0e3ebd1c",
   "metadata": {},
   "outputs": [],
   "source": [
    "def get_community_nodes(community_df, community):\n",
    "\n",
    "    return sorted(community_df[community_df['community']==community]['node'].values)"
   ]
  },
  {
   "cell_type": "code",
   "execution_count": 131,
   "id": "c8edef19",
   "metadata": {},
   "outputs": [],
   "source": [
    "def get_community_context(community_size_df, community_df, G):\n",
    "\n",
    "    G = G.copy()\n",
    "\n",
    "    communities = {}\n",
    "\n",
    "    for row in community_size_df.iterrows():\n",
    "\n",
    "        data = row[1]\n",
    "        community = data['community']\n",
    "        node_count = data['node_count']\n",
    "        \n",
    "        nodes = get_community_nodes(community_df, community)\n",
    "        G_sub = G.subgraph(nodes)\n",
    "\n",
    "        # starting with density today; will add on more context later\n",
    "        density = nx.density(G_sub)\n",
    "        \n",
    "        communities[community] = {}\n",
    "\n",
    "        communities[community]['G'] = G_sub\n",
    "        communities[community]['density'] = density\n",
    "        communities[community]['node_count'] = len(G_sub.nodes)\n",
    "        \n",
    "    return communities"
   ]
  },
  {
   "cell_type": "code",
   "execution_count": 132,
   "id": "82447ce7",
   "metadata": {},
   "outputs": [],
   "source": [
    "community_context_dict = get_community_context(community_size_df, community_df, G)"
   ]
  },
  {
   "cell_type": "code",
   "execution_count": 133,
   "id": "fb8dc673",
   "metadata": {},
   "outputs": [
    {
     "data": {
      "text/html": [
       "<div>\n",
       "<style scoped>\n",
       "    .dataframe tbody tr th:only-of-type {\n",
       "        vertical-align: middle;\n",
       "    }\n",
       "\n",
       "    .dataframe tbody tr th {\n",
       "        vertical-align: top;\n",
       "    }\n",
       "\n",
       "    .dataframe thead th {\n",
       "        text-align: right;\n",
       "    }\n",
       "</style>\n",
       "<table border=\"1\" class=\"dataframe\">\n",
       "  <thead>\n",
       "    <tr style=\"text-align: right;\">\n",
       "      <th></th>\n",
       "      <th>community</th>\n",
       "      <th>G</th>\n",
       "      <th>density</th>\n",
       "      <th>node_count</th>\n",
       "    </tr>\n",
       "  </thead>\n",
       "  <tbody>\n",
       "    <tr>\n",
       "      <th>0</th>\n",
       "      <td>10653</td>\n",
       "      <td>(C. Capelli, T. O'Donnell, H. Z. Huang, G. Kep...</td>\n",
       "      <td>0.53064</td>\n",
       "      <td>242</td>\n",
       "    </tr>\n",
       "    <tr>\n",
       "      <th>1</th>\n",
       "      <td>1770</td>\n",
       "      <td>(A. D. Ferella, G. Marissens, C. A. Ur, W. Man...</td>\n",
       "      <td>0.585816</td>\n",
       "      <td>193</td>\n",
       "    </tr>\n",
       "    <tr>\n",
       "      <th>2</th>\n",
       "      <td>957</td>\n",
       "      <td>(L. V'ala, V. R. Klavdiienko, I. A. Vanyushin,...</td>\n",
       "      <td>0.512476</td>\n",
       "      <td>182</td>\n",
       "    </tr>\n",
       "    <tr>\n",
       "      <th>3</th>\n",
       "      <td>9583</td>\n",
       "      <td>(C. Chambers, L. J. Wen, M. G. Marino, Q. Xia,...</td>\n",
       "      <td>0.78361</td>\n",
       "      <td>163</td>\n",
       "    </tr>\n",
       "    <tr>\n",
       "      <th>4</th>\n",
       "      <td>3938</td>\n",
       "      <td>(R. den Hartog, P. Chen, N. Elias, R. Waters, ...</td>\n",
       "      <td>0.952175</td>\n",
       "      <td>122</td>\n",
       "    </tr>\n",
       "  </tbody>\n",
       "</table>\n",
       "</div>"
      ],
      "text/plain": [
       "   community                                                  G   density  \\\n",
       "0      10653  (C. Capelli, T. O'Donnell, H. Z. Huang, G. Kep...   0.53064   \n",
       "1       1770  (A. D. Ferella, G. Marissens, C. A. Ur, W. Man...  0.585816   \n",
       "2        957  (L. V'ala, V. R. Klavdiienko, I. A. Vanyushin,...  0.512476   \n",
       "3       9583  (C. Chambers, L. J. Wen, M. G. Marino, Q. Xia,...   0.78361   \n",
       "4       3938  (R. den Hartog, P. Chen, N. Elias, R. Waters, ...  0.952175   \n",
       "\n",
       "  node_count  \n",
       "0        242  \n",
       "1        193  \n",
       "2        182  \n",
       "3        163  \n",
       "4        122  "
      ]
     },
     "execution_count": 133,
     "metadata": {},
     "output_type": "execute_result"
    }
   ],
   "source": [
    "community_context_df = pd.DataFrame(community_context_dict).T.reset_index()\n",
    "community_context_df.columns = ['community', 'G', 'density', 'node_count']\n",
    "\n",
    "community_context_df.head()"
   ]
  },
  {
   "cell_type": "code",
   "execution_count": 134,
   "id": "386bcb66",
   "metadata": {},
   "outputs": [
    {
     "data": {
      "text/plain": [
       "<Axes: ylabel='Frequency'>"
      ]
     },
     "execution_count": 134,
     "metadata": {},
     "output_type": "execute_result"
    },
    {
     "data": {
      "image/png": "[encoded data removed]",
      "text/plain": [
       "<Figure size 1200x800 with 1 Axes>"
      ]
     },
     "metadata": {},
     "output_type": "display_data"
    }
   ],
   "source": [
    "community_context_df['density'].plot.hist(bins=50, figsize=(12,8))"
   ]
  },
  {
   "cell_type": "markdown",
   "id": "bcb83c40",
   "metadata": {},
   "source": [
    "#### Investigate Communities"
   ]
  },
  {
   "cell_type": "code",
   "execution_count": 135,
   "id": "960ade35",
   "metadata": {},
   "outputs": [],
   "source": [
    "def show_author_papers(df, G):\n",
    "    \n",
    "    G = G.copy()\n",
    "    \n",
    "    check_nodes = G.nodes\n",
    "\n",
    "    return sorted(df[df['authors'].isin(check_nodes)]['title'].unique())"
   ]
  },
  {
   "cell_type": "code",
   "execution_count": 136,
   "id": "6b5ec685",
   "metadata": {},
   "outputs": [],
   "source": [
    "def fetch_communities(community_context_df, min_density, max_density, max_nodes=None, n_communities=10):\n",
    "    \n",
    "    if max_nodes==None:\n",
    "        community_context_df['node_count'].sum()\n",
    "    \n",
    "    community_context_df = community_context_df.copy()\n",
    "\n",
    "    mask = (community_context_df['density']>min_density) \\\n",
    "        & (community_context_df['density']<max_density)  \\\n",
    "        & (community_context_df['node_count']<max_nodes)\n",
    "    \n",
    "    community_context_df = community_context_df[mask].copy()\n",
    "    #community_context_df = community_context_df.sample(n_communities) # grabbing ten to see the ranges\n",
    "\n",
    "    community_context_df.sort_values('density', inplace=True)\n",
    "    communities = community_context_df['community'].values[0:n_communities]\n",
    "    \n",
    "    return communities"
   ]
  },
  {
   "cell_type": "code",
   "execution_count": 137,
   "id": "37cedc99",
   "metadata": {},
   "outputs": [],
   "source": [
    "def draw_community(G_check):\n",
    "\n",
    "    print('Density: {}'.format(nx.density(G_check)))\n",
    "    print('Node Count: {}'.format(len(G_check.nodes)))\n",
    "    return draw_graph(G_check, show_names=True, node_size=3, edge_width=0.2)"
   ]
  },
  {
   "cell_type": "code",
   "execution_count": 142,
   "id": "4cd8b228",
   "metadata": {},
   "outputs": [
    {
     "data": {
      "text/plain": [
       "array([ 6686,  6760,  9898,  6745,  3373,  7782,  3993,   957,  1976,\n",
       "         241,  5579, 10653,  5144,  1770,  2920,  1159,  1594,  8286,\n",
       "       10133,  4303], dtype=int64)"
      ]
     },
     "execution_count": 142,
     "metadata": {},
     "output_type": "execute_result"
    }
   ],
   "source": [
    "min_density = 0.4\n",
    "max_density = 0.7\n",
    "max_nodes = 500\n",
    "\n",
    "# .1 to .3 has more papers and more variation\n",
    "# .3 to .6 is very cool\n",
    "# .6 to .8 is cool to describe smaller more densely connected groups\n",
    "\n",
    "# i did several iterations to find titles; sparse communities seem to have more and more interesting papers (opinion)\n",
    "\n",
    "communities = fetch_communities(community_context_df, min_density=min_density, max_density=max_density, max_nodes=max_nodes, n_communities=20)\n",
    "communities"
   ]
  },
  {
   "cell_type": "code",
   "execution_count": 150,
   "id": "b86e905b",
   "metadata": {},
   "outputs": [
    {
     "name": "stdout",
     "output_type": "stream",
     "text": [
      "Density: 0.44166666666666665\n",
      "Node Count: 16\n"
     ]
    },
    {
     "data": {
      "image/svg+xml": [
       "<svg xmlns=\"http://www.w3.org/2000/svg\" width=\"920.0\" height=\"540\">\n",
       "<path stroke-width=\"0.2\" stroke=\"gray\" d=\"M 195 20 370 281\"/>\n",
       "<path stroke-width=\"0.2\" stroke=\"gray\" d=\"M 403 104 555 175\"/>\n",
       "<path stroke-width=\"0.2\" stroke=\"gray\" d=\"M 403 104 505 91\"/>\n",
       "<path stroke-width=\"0.2\" stroke=\"gray\" d=\"M 403 104 458 341\"/>\n",
       "<path stroke-width=\"0.2\" stroke=\"gray\" d=\"M 188 385 387 500\"/>\n",
       "<path stroke-width=\"0.2\" stroke=\"gray\" d=\"M 188 385 282 520\"/>\n",
       "<path stroke-width=\"0.2\" stroke=\"gray\" d=\"M 188 385 268 257\"/>\n",
       "<path stroke-width=\"0.2\" stroke=\"gray\" d=\"M 188 385 370 281\"/>\n",
       "<path stroke-width=\"0.2\" stroke=\"gray\" d=\"M 188 385 208 468\"/>\n",
       "<path stroke-width=\"0.2\" stroke=\"gray\" d=\"M 188 385 333 428\"/>\n",
       "<path stroke-width=\"0.2\" stroke=\"gray\" d=\"M 188 385 20 293\"/>\n",
       "<path stroke-width=\"0.2\" stroke=\"gray\" d=\"M 403 104 370 281\"/>\n",
       "<path stroke-width=\"0.2\" stroke=\"gray\" d=\"M 188 385 458 341\"/>\n",
       "<path stroke-width=\"0.2\" stroke=\"gray\" d=\"M 80 96 370 281\"/>\n",
       "<path stroke-width=\"0.2\" stroke=\"gray\" d=\"M 80 96 195 20\"/>\n",
       "<path stroke-width=\"0.2\" stroke=\"gray\" d=\"M 370 281 387 500\"/>\n",
       "<path stroke-width=\"0.2\" stroke=\"gray\" d=\"M 370 281 282 520\"/>\n",
       "<path stroke-width=\"0.2\" stroke=\"gray\" d=\"M 370 281 268 257\"/>\n",
       "<path stroke-width=\"0.2\" stroke=\"gray\" d=\"M 370 281 403 104\"/>\n",
       "<path stroke-width=\"0.2\" stroke=\"gray\" d=\"M 370 281 188 385\"/>\n",
       "<path stroke-width=\"0.2\" stroke=\"gray\" d=\"M 370 281 80 96\"/>\n",
       "<path stroke-width=\"0.2\" stroke=\"gray\" d=\"M 370 281 208 468\"/>\n",
       "<path stroke-width=\"0.2\" stroke=\"gray\" d=\"M 370 281 555 175\"/>\n",
       "<path stroke-width=\"0.2\" stroke=\"gray\" d=\"M 80 96 268 257\"/>\n",
       "<path stroke-width=\"0.2\" stroke=\"gray\" d=\"M 403 104 268 257\"/>\n",
       "<path stroke-width=\"0.2\" stroke=\"gray\" d=\"M 268 257 195 20\"/>\n",
       "<path stroke-width=\"0.2\" stroke=\"gray\" d=\"M 268 257 458 341\"/>\n",
       "<path stroke-width=\"0.2\" stroke=\"gray\" d=\"M 387 500 188 385\"/>\n",
       "<path stroke-width=\"0.2\" stroke=\"gray\" d=\"M 387 500 370 281\"/>\n",
       "<path stroke-width=\"0.2\" stroke=\"gray\" d=\"M 387 500 208 468\"/>\n",
       "<path stroke-width=\"0.2\" stroke=\"gray\" d=\"M 387 500 333 428\"/>\n",
       "<path stroke-width=\"0.2\" stroke=\"gray\" d=\"M 387 500 458 341\"/>\n",
       "<path stroke-width=\"0.2\" stroke=\"gray\" d=\"M 282 520 387 500\"/>\n",
       "<path stroke-width=\"0.2\" stroke=\"gray\" d=\"M 282 520 268 257\"/>\n",
       "<path stroke-width=\"0.2\" stroke=\"gray\" d=\"M 282 520 188 385\"/>\n",
       "<path stroke-width=\"0.2\" stroke=\"gray\" d=\"M 282 520 370 281\"/>\n",
       "<path stroke-width=\"0.2\" stroke=\"gray\" d=\"M 282 520 208 468\"/>\n",
       "<path stroke-width=\"0.2\" stroke=\"gray\" d=\"M 282 520 333 428\"/>\n",
       "<path stroke-width=\"0.2\" stroke=\"gray\" d=\"M 282 520 458 341\"/>\n",
       "<path stroke-width=\"0.2\" stroke=\"gray\" d=\"M 268 257 387 500\"/>\n",
       "<path stroke-width=\"0.2\" stroke=\"gray\" d=\"M 268 257 282 520\"/>\n",
       "<path stroke-width=\"0.2\" stroke=\"gray\" d=\"M 268 257 403 104\"/>\n",
       "<path stroke-width=\"0.2\" stroke=\"gray\" d=\"M 268 257 188 385\"/>\n",
       "<path stroke-width=\"0.2\" stroke=\"gray\" d=\"M 268 257 80 96\"/>\n",
       "<path stroke-width=\"0.2\" stroke=\"gray\" d=\"M 268 257 370 281\"/>\n",
       "<path stroke-width=\"0.2\" stroke=\"gray\" d=\"M 268 257 208 468\"/>\n",
       "<path stroke-width=\"0.2\" stroke=\"gray\" d=\"M 268 257 555 175\"/>\n",
       "<path stroke-width=\"0.2\" stroke=\"gray\" d=\"M 268 257 333 428\"/>\n",
       "<path stroke-width=\"0.2\" stroke=\"gray\" d=\"M 268 257 505 91\"/>\n",
       "<path stroke-width=\"0.2\" stroke=\"gray\" d=\"M 268 257 20 293\"/>\n",
       "<path stroke-width=\"0.2\" stroke=\"gray\" d=\"M 370 281 333 428\"/>\n",
       "<path stroke-width=\"0.2\" stroke=\"gray\" d=\"M 370 281 505 91\"/>\n",
       "<path stroke-width=\"0.2\" stroke=\"gray\" d=\"M 370 281 720 321\"/>\n",
       "<path stroke-width=\"0.2\" stroke=\"gray\" d=\"M 370 281 677 446\"/>\n",
       "<path stroke-width=\"0.2\" stroke=\"gray\" d=\"M 720 321 370 281\"/>\n",
       "<path stroke-width=\"0.2\" stroke=\"gray\" d=\"M 720 321 677 446\"/>\n",
       "<path stroke-width=\"0.2\" stroke=\"gray\" d=\"M 720 321 458 341\"/>\n",
       "<path stroke-width=\"0.2\" stroke=\"gray\" d=\"M 677 446 370 281\"/>\n",
       "<path stroke-width=\"0.2\" stroke=\"gray\" d=\"M 677 446 720 321\"/>\n",
       "<path stroke-width=\"0.2\" stroke=\"gray\" d=\"M 677 446 458 341\"/>\n",
       "<path stroke-width=\"0.2\" stroke=\"gray\" d=\"M 20 293 268 257\"/>\n",
       "<path stroke-width=\"0.2\" stroke=\"gray\" d=\"M 20 293 188 385\"/>\n",
       "<path stroke-width=\"0.2\" stroke=\"gray\" d=\"M 20 293 370 281\"/>\n",
       "<path stroke-width=\"0.2\" stroke=\"gray\" d=\"M 458 341 387 500\"/>\n",
       "<path stroke-width=\"0.2\" stroke=\"gray\" d=\"M 458 341 282 520\"/>\n",
       "<path stroke-width=\"0.2\" stroke=\"gray\" d=\"M 458 341 268 257\"/>\n",
       "<path stroke-width=\"0.2\" stroke=\"gray\" d=\"M 458 341 403 104\"/>\n",
       "<path stroke-width=\"0.2\" stroke=\"gray\" d=\"M 458 341 188 385\"/>\n",
       "<path stroke-width=\"0.2\" stroke=\"gray\" d=\"M 458 341 370 281\"/>\n",
       "<path stroke-width=\"0.2\" stroke=\"gray\" d=\"M 458 341 208 468\"/>\n",
       "<path stroke-width=\"0.2\" stroke=\"gray\" d=\"M 458 341 555 175\"/>\n",
       "<path stroke-width=\"0.2\" stroke=\"gray\" d=\"M 458 341 333 428\"/>\n",
       "<path stroke-width=\"0.2\" stroke=\"gray\" d=\"M 458 341 505 91\"/>\n",
       "<path stroke-width=\"0.2\" stroke=\"gray\" d=\"M 458 341 720 321\"/>\n",
       "<path stroke-width=\"0.2\" stroke=\"gray\" d=\"M 458 341 677 446\"/>\n",
       "<path stroke-width=\"0.2\" stroke=\"gray\" d=\"M 195 20 268 257\"/>\n",
       "<path stroke-width=\"0.2\" stroke=\"gray\" d=\"M 195 20 80 96\"/>\n",
       "<path stroke-width=\"0.2\" stroke=\"gray\" d=\"M 505 91 458 341\"/>\n",
       "<path stroke-width=\"0.2\" stroke=\"gray\" d=\"M 387 500 268 257\"/>\n",
       "<path stroke-width=\"0.2\" stroke=\"gray\" d=\"M 505 91 555 175\"/>\n",
       "<path stroke-width=\"0.2\" stroke=\"gray\" d=\"M 505 91 403 104\"/>\n",
       "<path stroke-width=\"0.2\" stroke=\"gray\" d=\"M 370 281 20 293\"/>\n",
       "<path stroke-width=\"0.2\" stroke=\"gray\" d=\"M 370 281 458 341\"/>\n",
       "<path stroke-width=\"0.2\" stroke=\"gray\" d=\"M 370 281 195 20\"/>\n",
       "<path stroke-width=\"0.2\" stroke=\"gray\" d=\"M 208 468 387 500\"/>\n",
       "<path stroke-width=\"0.2\" stroke=\"gray\" d=\"M 208 468 282 520\"/>\n",
       "<path stroke-width=\"0.2\" stroke=\"gray\" d=\"M 208 468 268 257\"/>\n",
       "<path stroke-width=\"0.2\" stroke=\"gray\" d=\"M 208 468 188 385\"/>\n",
       "<path stroke-width=\"0.2\" stroke=\"gray\" d=\"M 208 468 370 281\"/>\n",
       "<path stroke-width=\"0.2\" stroke=\"gray\" d=\"M 208 468 333 428\"/>\n",
       "<path stroke-width=\"0.2\" stroke=\"gray\" d=\"M 208 468 458 341\"/>\n",
       "<path stroke-width=\"0.2\" stroke=\"gray\" d=\"M 555 175 268 257\"/>\n",
       "<path stroke-width=\"0.2\" stroke=\"gray\" d=\"M 555 175 403 104\"/>\n",
       "<path stroke-width=\"0.2\" stroke=\"gray\" d=\"M 555 175 370 281\"/>\n",
       "<path stroke-width=\"0.2\" stroke=\"gray\" d=\"M 555 175 505 91\"/>\n",
       "<path stroke-width=\"0.2\" stroke=\"gray\" d=\"M 555 175 458 341\"/>\n",
       "<path stroke-width=\"0.2\" stroke=\"gray\" d=\"M 333 428 387 500\"/>\n",
       "<path stroke-width=\"0.2\" stroke=\"gray\" d=\"M 333 428 282 520\"/>\n",
       "<path stroke-width=\"0.2\" stroke=\"gray\" d=\"M 333 428 268 257\"/>\n",
       "<path stroke-width=\"0.2\" stroke=\"gray\" d=\"M 333 428 188 385\"/>\n",
       "<path stroke-width=\"0.2\" stroke=\"gray\" d=\"M 333 428 370 281\"/>\n",
       "<path stroke-width=\"0.2\" stroke=\"gray\" d=\"M 333 428 208 468\"/>\n",
       "<path stroke-width=\"0.2\" stroke=\"gray\" d=\"M 333 428 458 341\"/>\n",
       "<path stroke-width=\"0.2\" stroke=\"gray\" d=\"M 505 91 268 257\"/>\n",
       "<path stroke-width=\"0.2\" stroke=\"gray\" d=\"M 505 91 370 281\"/>\n",
       "<path stroke-width=\"0.2\" stroke=\"gray\" d=\"M 387 500 282 520\"/>\n",
       "<circle cx=\"195\" cy=\"20\" r=\"3.0\" style=\"fill:rgb(64, 84, 199);stroke:black;stroke-width:1.0\"/>\n",
       "<circle cx=\"458\" cy=\"341\" r=\"3.0\" style=\"fill:rgb(246, 166, 135);stroke:black;stroke-width:1.0\"/>\n",
       "<circle cx=\"20\" cy=\"293\" r=\"3.0\" style=\"fill:rgb(58, 76, 192);stroke:black;stroke-width:1.0\"/>\n",
       "<circle cx=\"677\" cy=\"446\" r=\"3.0\" style=\"fill:rgb(64, 84, 199);stroke:black;stroke-width:1.0\"/>\n",
       "<circle cx=\"720\" cy=\"321\" r=\"3.0\" style=\"fill:rgb(64, 84, 199);stroke:black;stroke-width:1.0\"/>\n",
       "<circle cx=\"505\" cy=\"91\" r=\"3.0\" style=\"fill:rgb(105, 139, 239);stroke:black;stroke-width:1.0\"/>\n",
       "<circle cx=\"333\" cy=\"428\" r=\"3.0\" style=\"fill:rgb(155, 187, 254);stroke:black;stroke-width:1.0\"/>\n",
       "<circle cx=\"555\" cy=\"175\" r=\"3.0\" style=\"fill:rgb(105, 139, 239);stroke:black;stroke-width:1.0\"/>\n",
       "<circle cx=\"208\" cy=\"468\" r=\"3.0\" style=\"fill:rgb(155, 187, 254);stroke:black;stroke-width:1.0\"/>\n",
       "<circle cx=\"370\" cy=\"281\" r=\"3.0\" style=\"fill:rgb(179, 3, 38);stroke:black;stroke-width:1.0\"/>\n",
       "<circle cx=\"80\" cy=\"96\" r=\"3.0\" style=\"fill:rgb(64, 84, 199);stroke:black;stroke-width:1.0\"/>\n",
       "<circle cx=\"188\" cy=\"385\" r=\"3.0\" style=\"fill:rgb(183, 207, 249);stroke:black;stroke-width:1.0\"/>\n",
       "<circle cx=\"403\" cy=\"104\" r=\"3.0\" style=\"fill:rgb(105, 139, 239);stroke:black;stroke-width:1.0\"/>\n",
       "<circle cx=\"268\" cy=\"257\" r=\"3.0\" style=\"fill:rgb(236, 128, 100);stroke:black;stroke-width:1.0\"/>\n",
       "<circle cx=\"282\" cy=\"520\" r=\"3.0\" style=\"fill:rgb(155, 187, 254);stroke:black;stroke-width:1.0\"/>\n",
       "<circle cx=\"387\" cy=\"500\" r=\"3.0\" style=\"fill:rgb(155, 187, 254);stroke:black;stroke-width:1.0\"/>\n",
       "<text text-anchor=\"start\" x=\"201\" y=\"20\" font-size=\"10\">Marcin Przewięźlikowski</text><text text-anchor=\"start\" x=\"464\" y=\"341\" font-size=\"10\">Łukasz Struski</text><text text-anchor=\"start\" x=\"26\" y=\"293\" font-size=\"10\">Filip Szatkowski</text><text text-anchor=\"start\" x=\"683\" y=\"446\" font-size=\"10\">Arkadiusz Lewicki</text><text text-anchor=\"start\" x=\"726\" y=\"321\" font-size=\"10\">Robert Sabiniewicz</text><text text-anchor=\"start\" x=\"511\" y=\"91\" font-size=\"10\">Krzysztof Bucki</text><text text-anchor=\"start\" x=\"339\" y=\"428\" font-size=\"10\">Sławomir Tadeja</text><text text-anchor=\"start\" x=\"561\" y=\"175\" font-size=\"10\">Bartłomiej Cupiał</text><text text-anchor=\"start\" x=\"214\" y=\"468\" font-size=\"10\">Marcin Mazur</text><text text-anchor=\"start\" x=\"376\" y=\"281\" font-size=\"10\">Jacek Tabor</text><text text-anchor=\"start\" x=\"86\" y=\"96\" font-size=\"10\">Marek Śmieja</text><text text-anchor=\"start\" x=\"194\" y=\"385\" font-size=\"10\">Tomasz Trzciński</text><text text-anchor=\"start\" x=\"409\" y=\"104\" font-size=\"10\">Tomasz Urbańczyk</text><text text-anchor=\"start\" x=\"274\" y=\"257\" font-size=\"10\">Przemysław Spurek</text><text text-anchor=\"start\" x=\"288\" y=\"520\" font-size=\"10\">Diana Janik</text><text text-anchor=\"start\" x=\"393\" y=\"500\" font-size=\"10\">Artur Kasymov</text></svg>"
      ],
      "text/plain": [
       "<IPython.core.display.SVG object>"
      ]
     },
     "execution_count": 150,
     "metadata": {},
     "output_type": "execute_result"
    }
   ],
   "source": [
    "G_check = community_context_dict[communities[3]]['G']\n",
    "draw_community(G_check)"
   ]
  },
  {
   "cell_type": "code",
   "execution_count": 151,
   "id": "17a5d5fd",
   "metadata": {},
   "outputs": [
    {
     "data": {
      "text/plain": [
       "['End-to-end Sinkhorn Autoencoder with Noise Generator',\n",
       " 'Extreme Entropy Machines: Robust information theoretic classification',\n",
       " 'Generalized Continual Category Discovery',\n",
       " 'HyperPocket: Generative Point Cloud Completion',\n",
       " 'Hypernetworks build Implicit Neural Representations of Sounds',\n",
       " 'MeVGAN: GAN-based Plugin Model for Video Generation with Applications in Colonoscopy',\n",
       " 'Multiband VAE: Latent Space Alignment for Knowledge Consolidation in Continual Learning',\n",
       " 'Neural Comic Style Transfer: Case Study',\n",
       " 'ProMIL: Probabilistic Multiple Instance Learning for Medical Imaging',\n",
       " 'ProPaLL: Probabilistic Partial Label Learning',\n",
       " 'RegFlow: Probabilistic Flow-based Regression for Future Prediction']"
      ]
     },
     "execution_count": 151,
     "metadata": {},
     "output_type": "execute_result"
    }
   ],
   "source": [
    "show_author_papers(df, G_check)\n",
    "\n",
    "#Efficient Top-k Ego-Betweenness Search\n",
    "#Fast Algorithms for Intimate-Core Group Search in Weighted Graphs\n",
    "#Fine-Grained Emotion Classification of Chinese Microblogs Based on Graph Convolution Networks\n",
    "#Mining Bursting Communities in Temporal Graphs"
   ]
  },
  {
   "cell_type": "markdown",
   "id": "a2419430",
   "metadata": {},
   "source": [
    "# Interactive Exploration\n",
    "\n",
    "I'll use G_check graph with libraries for interactive exploration.\n",
    "\n",
    "So far, not worth the effort of getting it to open in the notebook directly. I get this error. Will open in a tab instead.\n",
    "\n",
    "Error:\n",
    "'charmap' codec can't encode characters in position 263607-263621: character maps to <undefined>"
   ]
  },
  {
   "cell_type": "code",
   "execution_count": 152,
   "id": "476b40c1",
   "metadata": {},
   "outputs": [],
   "source": [
    "#!pip install pyvis --upgrade --user"
   ]
  },
  {
   "cell_type": "code",
   "execution_count": 153,
   "id": "a180bcca",
   "metadata": {},
   "outputs": [],
   "source": [
    "from pyvis.network import Network"
   ]
  },
  {
   "cell_type": "code",
   "execution_count": 155,
   "id": "31fe123d",
   "metadata": {},
   "outputs": [
    {
     "name": "stdout",
     "output_type": "stream",
     "text": [
      "C:/Users/itsgo/PythonCode/100daysofnetworks/pyvis/arxiv_community.html\n"
     ]
    }
   ],
   "source": [
    "# point to the full path or else jupyter might fail to open it even outside of jupyter; edge will try and fail\n",
    "pyvis_file = r'C:/Users/itsgo/PythonCode/100daysofnetworks/pyvis/arxiv_community.html' \n",
    "\n",
    "# flip between communities to explore\n",
    "G_check = community_context_dict[communities[3]]['G']\n",
    "\n",
    "net = Network(height='900px') # tweak for your browser; can also do width\n",
    "net.from_nx(G_check)\n",
    "# net.show_buttons() # gives you additional buttons at the bottom\n",
    "net.show(pyvis_file, notebook=False) # can't get notebook=True to work yet..."
   ]
  },
  {
   "cell_type": "code",
   "execution_count": 112,
   "id": "6bab9c7b",
   "metadata": {},
   "outputs": [
    {
     "name": "stdout",
     "output_type": "stream",
     "text": [
      "Sergey V. Buldyrev\n",
      "Daniele Ietri\n",
      "Xiaoming Xu\n",
      "Cecilia Lagorio\n",
      "Lazaros K. Gallos\n",
      "Nina H. Fefferman\n",
      "Zhenhua Wu\n",
      "Vittoria Colizza\n",
      "Maksim Kitsak\n",
      "Qian Li\n",
      "Massimo Riccaboni\n",
      "Shlomo Havlin\n",
      "Yang Dai\n",
      "Louis Shekhtman\n",
      "Xuqing Huang\n",
      "Paul A. Trunfio\n",
      "Roni Parshani\n",
      "Gerald Paul\n",
      "Yuanhui Ma\n",
      "Lucas D. Valdez\n",
      "H. Eugene Stanley\n",
      "Xingshu Chen\n",
      "Jia Shao\n",
      "Lidia A. Braunstein\n",
      "Cristian E. La Rocca\n",
      "Reuven Cohen\n",
      "Celine Rozenblat\n",
      "Mark Dickison\n",
      "Cesar Ducruet\n"
     ]
    },
    {
     "data": {
      "text/plain": [
       "[None,\n",
       " None,\n",
       " None,\n",
       " None,\n",
       " None,\n",
       " None,\n",
       " None,\n",
       " None,\n",
       " None,\n",
       " None,\n",
       " None,\n",
       " None,\n",
       " None,\n",
       " None,\n",
       " None,\n",
       " None,\n",
       " None,\n",
       " None,\n",
       " None,\n",
       " None,\n",
       " None,\n",
       " None,\n",
       " None,\n",
       " None,\n",
       " None,\n",
       " None,\n",
       " None,\n",
       " None,\n",
       " None]"
      ]
     },
     "execution_count": 112,
     "metadata": {},
     "output_type": "execute_result"
    }
   ],
   "source": [
    "[print(n) for n in G_check.nodes]"
   ]
  },
  {
   "cell_type": "code",
   "execution_count": null,
   "id": "c4a585bf",
   "metadata": {},
   "outputs": [],
   "source": []
  }
 ],
 "metadata": {
  "kernelspec": {
   "display_name": "Python 3 (ipykernel)",
   "language": "python",
   "name": "python3"
  },
  "language_info": {
   "codemirror_mode": {
    "name": "ipython",
    "version": 3
   },
   "file_extension": ".py",
   "mimetype": "text/x-python",
   "name": "python",
   "nbconvert_exporter": "python",
   "pygments_lexer": "ipython3",
   "version": "3.11.5"
  }
 },
 "nbformat": 4,
 "nbformat_minor": 5
}
