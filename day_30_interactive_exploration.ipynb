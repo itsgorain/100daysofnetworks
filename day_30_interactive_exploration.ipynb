{
 "cells": [
  {
   "cell_type": "code",
   "execution_count": 1,
   "id": "7423be59",
   "metadata": {},
   "outputs": [],
   "source": [
    "import networkx as nx\n",
    "import numpy as np\n",
    "import pandas as pd\n",
    "\n",
    "# for the explode statement; convert string to list\n",
    "from ast import literal_eval\n",
    "\n",
    "# for visualization\n",
    "from IPython.display import SVG \n",
    "from sknetwork.visualization import svg_graph \n",
    "from sknetwork.data import Bunch \n",
    "from sknetwork.ranking import PageRank "
   ]
  },
  {
   "cell_type": "code",
   "execution_count": 2,
   "id": "102626ff",
   "metadata": {},
   "outputs": [],
   "source": [
    "def draw_graph(G, show_names=False, node_size=1, font_size=10, edge_width=0.5): \n",
    "\n",
    "    adjacency = nx.to_scipy_sparse_matrix(G, nodelist=None, dtype=None, weight='weight', format='csr') \n",
    "\n",
    "    names = np.array(list(G.nodes())) \n",
    "\n",
    "    graph = Bunch() \n",
    "    graph.adjacency = adjacency \n",
    "    graph.names = np.array(names) \n",
    "\n",
    "    pagerank = PageRank() \n",
    "\n",
    "    scores = pagerank.fit_transform(adjacency) \n",
    "\n",
    "    if show_names: \n",
    "        \n",
    "        image = svg_graph(graph.adjacency, font_size=font_size, node_size=node_size, names=graph.names, width=700, height=500, scores=scores, edge_width=edge_width) \n",
    "\n",
    "    else: \n",
    "\n",
    "        image = svg_graph(graph.adjacency, node_size=node_size, width=700, height=500, scores = scores, edge_width=edge_width) \n",
    "\n",
    "    return SVG(image) "
   ]
  },
  {
   "cell_type": "markdown",
   "id": "77a12aec",
   "metadata": {},
   "source": [
    "# Create Graph using Bipartite Projection on Arxiv Dataset"
   ]
  },
  {
   "cell_type": "code",
   "execution_count": 3,
   "id": "443c3cd4",
   "metadata": {},
   "outputs": [
    {
     "data": {
      "text/html": [
       "<div>\n",
       "<style scoped>\n",
       "    .dataframe tbody tr th:only-of-type {\n",
       "        vertical-align: middle;\n",
       "    }\n",
       "\n",
       "    .dataframe tbody tr th {\n",
       "        vertical-align: top;\n",
       "    }\n",
       "\n",
       "    .dataframe thead th {\n",
       "        text-align: right;\n",
       "    }\n",
       "</style>\n",
       "<table border=\"1\" class=\"dataframe\">\n",
       "  <thead>\n",
       "    <tr style=\"text-align: right;\">\n",
       "      <th></th>\n",
       "      <th>authors</th>\n",
       "      <th>title</th>\n",
       "    </tr>\n",
       "  </thead>\n",
       "  <tbody>\n",
       "    <tr>\n",
       "      <th>0</th>\n",
       "      <td>Kiarash Sedghighadikolaei</td>\n",
       "      <td>A Comprehensive Survey of Threshold Digital Si...</td>\n",
       "    </tr>\n",
       "    <tr>\n",
       "      <th>1</th>\n",
       "      <td>Attila Altay Yavuz</td>\n",
       "      <td>A Comprehensive Survey of Threshold Digital Si...</td>\n",
       "    </tr>\n",
       "    <tr>\n",
       "      <th>2</th>\n",
       "      <td>Alenka {Č}opi{č}</td>\n",
       "      <td>Phosphatidylserine transport in cell life and ...</td>\n",
       "    </tr>\n",
       "    <tr>\n",
       "      <th>3</th>\n",
       "      <td>Thibaud Dieudonné</td>\n",
       "      <td>Phosphatidylserine transport in cell life and ...</td>\n",
       "    </tr>\n",
       "    <tr>\n",
       "      <th>4</th>\n",
       "      <td>Guillaume Lenoir</td>\n",
       "      <td>Phosphatidylserine transport in cell life and ...</td>\n",
       "    </tr>\n",
       "  </tbody>\n",
       "</table>\n",
       "</div>"
      ],
      "text/plain": [
       "                     authors  \\\n",
       "0  Kiarash Sedghighadikolaei   \n",
       "1         Attila Altay Yavuz   \n",
       "2           Alenka {Č}opi{č}   \n",
       "3          Thibaud Dieudonné   \n",
       "4           Guillaume Lenoir   \n",
       "\n",
       "                                               title  \n",
       "0  A Comprehensive Survey of Threshold Digital Si...  \n",
       "1  A Comprehensive Survey of Threshold Digital Si...  \n",
       "2  Phosphatidylserine transport in cell life and ...  \n",
       "3  Phosphatidylserine transport in cell life and ...  \n",
       "4  Phosphatidylserine transport in cell life and ...  "
      ]
     },
     "execution_count": 3,
     "metadata": {},
     "output_type": "execute_result"
    }
   ],
   "source": [
    "data = r'C:\\Users\\groov\\PythonCode\\100daysofnetworks\\data\\arxiv_artificial_life.csv'\n",
    "\n",
    "df = pd.read_csv(data)\n",
    "df['authors'] = df['authors'].apply(literal_eval)\n",
    "\n",
    "df = df[['authors', 'title']]\n",
    "df = df.explode('authors')\n",
    "df.reset_index(drop=True, inplace=True)\n",
    "\n",
    "# fix the & so that scikit-network stops crashing\n",
    "df['authors'] = df['authors'].str.replace('&', 'and')\n",
    "df['title'] = df['title'].str.replace('&', 'and')\n",
    "\n",
    "df.head()"
   ]
  },
  {
   "cell_type": "code",
   "execution_count": 4,
   "id": "5a7997ee",
   "metadata": {},
   "outputs": [
    {
     "data": {
      "text/plain": [
       "19989"
      ]
     },
     "execution_count": 4,
     "metadata": {},
     "output_type": "execute_result"
    }
   ],
   "source": [
    "len(set(df['title']))"
   ]
  },
  {
   "cell_type": "code",
   "execution_count": 5,
   "id": "e5726918",
   "metadata": {},
   "outputs": [],
   "source": [
    "from networkx.algorithms import bipartite\n",
    "\n",
    "B = nx.from_pandas_edgelist(df, source='authors', target='title')\n",
    "G = bipartite.projected_graph(B, df['authors'])\n",
    "\n",
    "G = nx.k_core(G, 2) # no isolates or two-node groups"
   ]
  },
  {
   "cell_type": "code",
   "execution_count": 6,
   "id": "fbee3229",
   "metadata": {},
   "outputs": [
    {
     "name": "stdout",
     "output_type": "stream",
     "text": [
      "Graph with 48753 nodes and 273061 edges\n"
     ]
    }
   ],
   "source": [
    "print(nx.info(G))"
   ]
  },
  {
   "cell_type": "markdown",
   "id": "f9952d45",
   "metadata": {},
   "source": [
    "# Community Detection + Community Analysis\n",
    "\n",
    "There's two parts to what I am attempting today.\n",
    "- I need to use community detection to identify communities in the network.\n",
    "- I can then use network science and data science to identify interesting communities\n",
    "\n",
    "By interesting, I mean not stars. I am looking for complex ecosystems. So, I will identify communities, then attempt to detect more complex ecosystems by using triangles and density.\n",
    "\n",
    "In this notebook, I am experimenting with a python library for interactive visualization. "
   ]
  },
  {
   "cell_type": "markdown",
   "id": "19d07b3a",
   "metadata": {},
   "source": [
    "## Community Detection"
   ]
  },
  {
   "cell_type": "code",
   "execution_count": 7,
   "id": "46f88f22",
   "metadata": {},
   "outputs": [],
   "source": [
    "import community as community_louvain\n",
    "\n",
    "partition = community_louvain.best_partition(G, resolution=0.01, random_state=1337) # 10 was good for this network"
   ]
  },
  {
   "cell_type": "code",
   "execution_count": 8,
   "id": "9b81c14c",
   "metadata": {},
   "outputs": [
    {
     "data": {
      "text/plain": [
       "93      90\n",
       "637     73\n",
       "227     68\n",
       "1488    68\n",
       "1041    67\n",
       "4130    67\n",
       "535     66\n",
       "842     65\n",
       "1285    63\n",
       "20      63\n",
       "89      62\n",
       "65      62\n",
       "1518    61\n",
       "2552    60\n",
       "1546    60\n",
       "230     60\n",
       "1881    60\n",
       "5136    59\n",
       "610     58\n",
       "980     58\n",
       "Name: community, dtype: int64"
      ]
     },
     "execution_count": 8,
     "metadata": {},
     "output_type": "execute_result"
    }
   ],
   "source": [
    "community_df = pd.DataFrame().from_dict(partition, orient='index')\n",
    "community_df.reset_index(inplace=True)\n",
    "community_df.columns = ['node', 'community']\n",
    "\n",
    "community_df['community'].value_counts()[0:20]"
   ]
  },
  {
   "cell_type": "code",
   "execution_count": 9,
   "id": "5ed70761",
   "metadata": {},
   "outputs": [
    {
     "data": {
      "text/html": [
       "<div>\n",
       "<style scoped>\n",
       "    .dataframe tbody tr th:only-of-type {\n",
       "        vertical-align: middle;\n",
       "    }\n",
       "\n",
       "    .dataframe tbody tr th {\n",
       "        vertical-align: top;\n",
       "    }\n",
       "\n",
       "    .dataframe thead th {\n",
       "        text-align: right;\n",
       "    }\n",
       "</style>\n",
       "<table border=\"1\" class=\"dataframe\">\n",
       "  <thead>\n",
       "    <tr style=\"text-align: right;\">\n",
       "      <th></th>\n",
       "      <th>community</th>\n",
       "      <th>node_count</th>\n",
       "    </tr>\n",
       "  </thead>\n",
       "  <tbody>\n",
       "    <tr>\n",
       "      <th>0</th>\n",
       "      <td>93</td>\n",
       "      <td>90</td>\n",
       "    </tr>\n",
       "    <tr>\n",
       "      <th>1</th>\n",
       "      <td>637</td>\n",
       "      <td>73</td>\n",
       "    </tr>\n",
       "    <tr>\n",
       "      <th>2</th>\n",
       "      <td>227</td>\n",
       "      <td>68</td>\n",
       "    </tr>\n",
       "    <tr>\n",
       "      <th>3</th>\n",
       "      <td>1488</td>\n",
       "      <td>68</td>\n",
       "    </tr>\n",
       "    <tr>\n",
       "      <th>4</th>\n",
       "      <td>1041</td>\n",
       "      <td>67</td>\n",
       "    </tr>\n",
       "  </tbody>\n",
       "</table>\n",
       "</div>"
      ],
      "text/plain": [
       "   community  node_count\n",
       "0         93          90\n",
       "1        637          73\n",
       "2        227          68\n",
       "3       1488          68\n",
       "4       1041          67"
      ]
     },
     "execution_count": 9,
     "metadata": {},
     "output_type": "execute_result"
    }
   ],
   "source": [
    "community_node_counts = community_df['community'].value_counts()\n",
    "\n",
    "community_size_df = pd.DataFrame(community_node_counts).reset_index()\n",
    "community_size_df.columns = ['community', 'node_count']\n",
    "\n",
    "# just to speed up this experiment\n",
    "community_size_df = community_size_df[community_size_df['node_count'] > 10]\n",
    "\n",
    "community_size_df.head()"
   ]
  },
  {
   "cell_type": "code",
   "execution_count": 10,
   "id": "77719ff7",
   "metadata": {},
   "outputs": [
    {
     "data": {
      "text/plain": [
       "(956, 2)"
      ]
     },
     "execution_count": 10,
     "metadata": {},
     "output_type": "execute_result"
    }
   ],
   "source": [
    "community_size_df.shape"
   ]
  },
  {
   "cell_type": "markdown",
   "id": "65a4daaa",
   "metadata": {},
   "source": [
    "## Capture Community Context"
   ]
  },
  {
   "cell_type": "code",
   "execution_count": 11,
   "id": "88142c5f",
   "metadata": {},
   "outputs": [
    {
     "data": {
      "text/html": [
       "<div>\n",
       "<style scoped>\n",
       "    .dataframe tbody tr th:only-of-type {\n",
       "        vertical-align: middle;\n",
       "    }\n",
       "\n",
       "    .dataframe tbody tr th {\n",
       "        vertical-align: top;\n",
       "    }\n",
       "\n",
       "    .dataframe thead th {\n",
       "        text-align: right;\n",
       "    }\n",
       "</style>\n",
       "<table border=\"1\" class=\"dataframe\">\n",
       "  <thead>\n",
       "    <tr style=\"text-align: right;\">\n",
       "      <th></th>\n",
       "      <th>node</th>\n",
       "      <th>community</th>\n",
       "    </tr>\n",
       "  </thead>\n",
       "  <tbody>\n",
       "    <tr>\n",
       "      <th>0</th>\n",
       "      <td>Alenka {Č}opi{č}</td>\n",
       "      <td>0</td>\n",
       "    </tr>\n",
       "    <tr>\n",
       "      <th>1</th>\n",
       "      <td>Thibaud Dieudonné</td>\n",
       "      <td>0</td>\n",
       "    </tr>\n",
       "    <tr>\n",
       "      <th>2</th>\n",
       "      <td>Guillaume Lenoir</td>\n",
       "      <td>0</td>\n",
       "    </tr>\n",
       "    <tr>\n",
       "      <th>3</th>\n",
       "      <td>Michele Ambrosino</td>\n",
       "      <td>1</td>\n",
       "    </tr>\n",
       "    <tr>\n",
       "      <th>4</th>\n",
       "      <td>Manar Mahmalji</td>\n",
       "      <td>1</td>\n",
       "    </tr>\n",
       "  </tbody>\n",
       "</table>\n",
       "</div>"
      ],
      "text/plain": [
       "                node  community\n",
       "0   Alenka {Č}opi{č}          0\n",
       "1  Thibaud Dieudonné          0\n",
       "2   Guillaume Lenoir          0\n",
       "3  Michele Ambrosino          1\n",
       "4     Manar Mahmalji          1"
      ]
     },
     "execution_count": 11,
     "metadata": {},
     "output_type": "execute_result"
    }
   ],
   "source": [
    "community_df.head()"
   ]
  },
  {
   "cell_type": "code",
   "execution_count": 12,
   "id": "024410cd",
   "metadata": {},
   "outputs": [
    {
     "data": {
      "text/html": [
       "<div>\n",
       "<style scoped>\n",
       "    .dataframe tbody tr th:only-of-type {\n",
       "        vertical-align: middle;\n",
       "    }\n",
       "\n",
       "    .dataframe tbody tr th {\n",
       "        vertical-align: top;\n",
       "    }\n",
       "\n",
       "    .dataframe thead th {\n",
       "        text-align: right;\n",
       "    }\n",
       "</style>\n",
       "<table border=\"1\" class=\"dataframe\">\n",
       "  <thead>\n",
       "    <tr style=\"text-align: right;\">\n",
       "      <th></th>\n",
       "      <th>community</th>\n",
       "      <th>node_count</th>\n",
       "    </tr>\n",
       "  </thead>\n",
       "  <tbody>\n",
       "    <tr>\n",
       "      <th>0</th>\n",
       "      <td>93</td>\n",
       "      <td>90</td>\n",
       "    </tr>\n",
       "  </tbody>\n",
       "</table>\n",
       "</div>"
      ],
      "text/plain": [
       "   community  node_count\n",
       "0         93          90"
      ]
     },
     "execution_count": 12,
     "metadata": {},
     "output_type": "execute_result"
    }
   ],
   "source": [
    "community_size_df.head(1)"
   ]
  },
  {
   "cell_type": "code",
   "execution_count": 13,
   "id": "0e3ebd1c",
   "metadata": {},
   "outputs": [],
   "source": [
    "def get_community_nodes(community_df, community):\n",
    "\n",
    "    return sorted(community_df[community_df['community']==community]['node'].values)"
   ]
  },
  {
   "cell_type": "code",
   "execution_count": 14,
   "id": "c8edef19",
   "metadata": {},
   "outputs": [],
   "source": [
    "def get_community_context(community_size_df, community_df, G):\n",
    "\n",
    "    G = G.copy()\n",
    "\n",
    "    communities = {}\n",
    "\n",
    "    for row in community_size_df.iterrows():\n",
    "\n",
    "        data = row[1]\n",
    "        community = data['community']\n",
    "        node_count = data['node_count']\n",
    "        \n",
    "        nodes = get_community_nodes(community_df, community)\n",
    "        G_sub = G.subgraph(nodes)\n",
    "\n",
    "        # starting with density today; will add on more context later\n",
    "        density = nx.density(G_sub)\n",
    "        \n",
    "        communities[community] = {}\n",
    "\n",
    "        communities[community]['G'] = G_sub\n",
    "        communities[community]['density'] = density\n",
    "        communities[community]['node_count'] = len(G_sub.nodes)\n",
    "        \n",
    "    return communities"
   ]
  },
  {
   "cell_type": "code",
   "execution_count": 15,
   "id": "82447ce7",
   "metadata": {},
   "outputs": [],
   "source": [
    "community_context_dict = get_community_context(community_size_df, community_df, G)"
   ]
  },
  {
   "cell_type": "code",
   "execution_count": 16,
   "id": "fb8dc673",
   "metadata": {},
   "outputs": [
    {
     "data": {
      "text/html": [
       "<div>\n",
       "<style scoped>\n",
       "    .dataframe tbody tr th:only-of-type {\n",
       "        vertical-align: middle;\n",
       "    }\n",
       "\n",
       "    .dataframe tbody tr th {\n",
       "        vertical-align: top;\n",
       "    }\n",
       "\n",
       "    .dataframe thead th {\n",
       "        text-align: right;\n",
       "    }\n",
       "</style>\n",
       "<table border=\"1\" class=\"dataframe\">\n",
       "  <thead>\n",
       "    <tr style=\"text-align: right;\">\n",
       "      <th></th>\n",
       "      <th>community</th>\n",
       "      <th>G</th>\n",
       "      <th>density</th>\n",
       "      <th>node_count</th>\n",
       "    </tr>\n",
       "  </thead>\n",
       "  <tbody>\n",
       "    <tr>\n",
       "      <th>0</th>\n",
       "      <td>93</td>\n",
       "      <td>(Antonis Bikakis, Veronica Dahl, Julian Padget...</td>\n",
       "      <td>0.073908</td>\n",
       "      <td>90</td>\n",
       "    </tr>\n",
       "    <tr>\n",
       "      <th>1</th>\n",
       "      <td>637</td>\n",
       "      <td>(Alessandro Sperduti, Allar Soo, Bernat Coma-P...</td>\n",
       "      <td>0.085997</td>\n",
       "      <td>73</td>\n",
       "    </tr>\n",
       "    <tr>\n",
       "      <th>2</th>\n",
       "      <td>227</td>\n",
       "      <td>(Chun Chen, Hong Zhang, Javier Llorca, Yonglia...</td>\n",
       "      <td>0.083406</td>\n",
       "      <td>68</td>\n",
       "    </tr>\n",
       "    <tr>\n",
       "      <th>3</th>\n",
       "      <td>1488</td>\n",
       "      <td>(James D. McCalley, Xiaohong Gu, Wei Li, Wayne...</td>\n",
       "      <td>0.084284</td>\n",
       "      <td>68</td>\n",
       "    </tr>\n",
       "    <tr>\n",
       "      <th>4</th>\n",
       "      <td>1041</td>\n",
       "      <td>(Karen I. Perez, David Lipman, J. Emilio Enriq...</td>\n",
       "      <td>0.383085</td>\n",
       "      <td>67</td>\n",
       "    </tr>\n",
       "  </tbody>\n",
       "</table>\n",
       "</div>"
      ],
      "text/plain": [
       "   community                                                  G   density  \\\n",
       "0         93  (Antonis Bikakis, Veronica Dahl, Julian Padget...  0.073908   \n",
       "1        637  (Alessandro Sperduti, Allar Soo, Bernat Coma-P...  0.085997   \n",
       "2        227  (Chun Chen, Hong Zhang, Javier Llorca, Yonglia...  0.083406   \n",
       "3       1488  (James D. McCalley, Xiaohong Gu, Wei Li, Wayne...  0.084284   \n",
       "4       1041  (Karen I. Perez, David Lipman, J. Emilio Enriq...  0.383085   \n",
       "\n",
       "  node_count  \n",
       "0         90  \n",
       "1         73  \n",
       "2         68  \n",
       "3         68  \n",
       "4         67  "
      ]
     },
     "execution_count": 16,
     "metadata": {},
     "output_type": "execute_result"
    }
   ],
   "source": [
    "community_context_df = pd.DataFrame(community_context_dict).T.reset_index()\n",
    "community_context_df.columns = ['community', 'G', 'density', 'node_count']\n",
    "\n",
    "community_context_df.head()"
   ]
  },
  {
   "cell_type": "code",
   "execution_count": 17,
   "id": "386bcb66",
   "metadata": {},
   "outputs": [
    {
     "data": {
      "text/plain": [
       "<AxesSubplot:ylabel='Frequency'>"
      ]
     },
     "execution_count": 17,
     "metadata": {},
     "output_type": "execute_result"
    },
    {
     "data": {
      "image/png": "[encoded data removed]",
      "text/plain": [
       "<Figure size 864x576 with 1 Axes>"
      ]
     },
     "metadata": {
      "needs_background": "light"
     },
     "output_type": "display_data"
    }
   ],
   "source": [
    "community_context_df['density'].plot.hist(bins=50, figsize=(12,8))"
   ]
  },
  {
   "cell_type": "markdown",
   "id": "bcb83c40",
   "metadata": {},
   "source": [
    "#### Investigate Communities"
   ]
  },
  {
   "cell_type": "code",
   "execution_count": 18,
   "id": "05e65d6a",
   "metadata": {},
   "outputs": [],
   "source": [
    "def draw_graph(G, show_names=False, node_size=1, font_size=10, edge_width=0.5): \n",
    "\n",
    "    adjacency = nx.to_scipy_sparse_matrix(G, nodelist=None, dtype=None, weight='weight', format='csr') \n",
    "\n",
    "    names = np.array(list(G.nodes())) \n",
    "\n",
    "    graph = Bunch() \n",
    "    graph.adjacency = adjacency \n",
    "    graph.names = np.array(names) \n",
    "\n",
    "    pagerank = PageRank() \n",
    "\n",
    "    scores = pagerank.fit_transform(adjacency) \n",
    "\n",
    "    if show_names: \n",
    "        \n",
    "        image = svg_graph(graph.adjacency, font_size=font_size, node_size=node_size, names=graph.names, width=700, height=500, scores=scores, edge_width=edge_width) \n",
    "\n",
    "    else: \n",
    "\n",
    "        image = svg_graph(graph.adjacency, node_size=node_size, width=700, height=500, scores = scores, edge_width=edge_width) \n",
    "\n",
    "    return SVG(image) "
   ]
  },
  {
   "cell_type": "code",
   "execution_count": 19,
   "id": "960ade35",
   "metadata": {},
   "outputs": [],
   "source": [
    "def show_author_papers(df, G):\n",
    "    \n",
    "    G = G.copy()\n",
    "    \n",
    "    check_nodes = G.nodes\n",
    "\n",
    "    return sorted(df[df['authors'].isin(check_nodes)]['title'].unique())"
   ]
  },
  {
   "cell_type": "code",
   "execution_count": 20,
   "id": "6b5ec685",
   "metadata": {},
   "outputs": [],
   "source": [
    "def fetch_communities(community_context_df, min_density, max_density, max_nodes=None, n_communities=10):\n",
    "    \n",
    "    if max_nodes==None:\n",
    "        community_context_df['node_count'].sum()\n",
    "    \n",
    "    community_context_df = community_context_df.copy()\n",
    "\n",
    "    mask = (community_context_df['density']>min_density) \\\n",
    "        & (community_context_df['density']<max_density)  \\\n",
    "        & (community_context_df['node_count']<max_nodes)\n",
    "    \n",
    "    community_context_df = community_context_df[mask].copy()\n",
    "    community_context_df = community_context_df.sample(n_communities) # grabbing ten to see the ranges\n",
    "\n",
    "    community_context_df.sort_values('density', inplace=True)\n",
    "    communities = community_context_df['community'].values[0:n_communities]\n",
    "    \n",
    "    return communities"
   ]
  },
  {
   "cell_type": "code",
   "execution_count": 21,
   "id": "37cedc99",
   "metadata": {},
   "outputs": [],
   "source": [
    "def draw_community(G_check):\n",
    "\n",
    "    print('Density: {}'.format(nx.density(G_check)))\n",
    "    print('Node Count: {}'.format(len(G_check.nodes)))\n",
    "    return draw_graph(G_check, show_names=True, node_size=3, edge_width=0.2)"
   ]
  },
  {
   "cell_type": "code",
   "execution_count": 22,
   "id": "4cd8b228",
   "metadata": {},
   "outputs": [
    {
     "data": {
      "text/plain": [
       "array([ 215,  944,  811,  974,   25, 4321,  256, 1874,  927, 1644, 1165,\n",
       "        836,  878,   89,  511, 2427, 1345, 1094, 2464, 1274], dtype=int64)"
      ]
     },
     "execution_count": 22,
     "metadata": {},
     "output_type": "execute_result"
    }
   ],
   "source": [
    "min_density = 0.1\n",
    "max_density = 0.3\n",
    "max_nodes = 100\n",
    "\n",
    "# .1 to .3 has more papers and more variation\n",
    "# .3 to .6 is very cool\n",
    "# .6 to .8 is cool to describe smaller more densely connected groups\n",
    "\n",
    "# i did several iterations to find titles; sparse communities seem to have more and more interesting papers (opinion)\n",
    "\n",
    "communities = fetch_communities(community_context_df, min_density=min_density, max_density=max_density, max_nodes=max_nodes, n_communities=20)\n",
    "communities"
   ]
  },
  {
   "cell_type": "code",
   "execution_count": 23,
   "id": "b86e905b",
   "metadata": {},
   "outputs": [
    {
     "name": "stdout",
     "output_type": "stream",
     "text": [
      "Density: 0.11215686274509803\n",
      "Node Count: 51\n"
     ]
    },
    {
     "data": {
      "image/svg+xml": [
       "<svg height=\"540\" width=\"840.0\" xmlns=\"http://www.w3.org/2000/svg\"><path d=\"M 253 73 131 20\" stroke=\"gray\" stroke-width=\"0.2\"/><path d=\"M 253 73 484 171\" stroke=\"gray\" stroke-width=\"0.2\"/><path d=\"M 253 73 136 45\" stroke=\"gray\" stroke-width=\"0.2\"/><path d=\"M 253 73 93 63\" stroke=\"gray\" stroke-width=\"0.2\"/><path d=\"M 253 73 369 79\" stroke=\"gray\" stroke-width=\"0.2\"/><path d=\"M 253 73 409 72\" stroke=\"gray\" stroke-width=\"0.2\"/><path d=\"M 253 73 84 36\" stroke=\"gray\" stroke-width=\"0.2\"/><path d=\"M 354 188 484 171\" stroke=\"gray\" stroke-width=\"0.2\"/><path d=\"M 354 188 373 131\" stroke=\"gray\" stroke-width=\"0.2\"/><path d=\"M 354 188 269 241\" stroke=\"gray\" stroke-width=\"0.2\"/><path d=\"M 354 188 325 258\" stroke=\"gray\" stroke-width=\"0.2\"/><path d=\"M 354 188 416 127\" stroke=\"gray\" stroke-width=\"0.2\"/><path d=\"M 354 188 348 148\" stroke=\"gray\" stroke-width=\"0.2\"/><path d=\"M 55 421 220 433\" stroke=\"gray\" stroke-width=\"0.2\"/><path d=\"M 55 421 52 468\" stroke=\"gray\" stroke-width=\"0.2\"/><path d=\"M 55 421 94 459\" stroke=\"gray\" stroke-width=\"0.2\"/><path d=\"M 55 421 76 439\" stroke=\"gray\" stroke-width=\"0.2\"/><path d=\"M 55 421 26 445\" stroke=\"gray\" stroke-width=\"0.2\"/><path d=\"M 131 20 253 73\" stroke=\"gray\" stroke-width=\"0.2\"/><path d=\"M 131 20 136 45\" stroke=\"gray\" stroke-width=\"0.2\"/><path d=\"M 131 20 93 63\" stroke=\"gray\" stroke-width=\"0.2\"/><path d=\"M 131 20 84 36\" stroke=\"gray\" stroke-width=\"0.2\"/><path d=\"M 484 171 253 73\" stroke=\"gray\" stroke-width=\"0.2\"/><path d=\"M 484 171 354 188\" stroke=\"gray\" stroke-width=\"0.2\"/><path d=\"M 484 171 554 120\" stroke=\"gray\" stroke-width=\"0.2\"/><path d=\"M 484 171 373 131\" stroke=\"gray\" stroke-width=\"0.2\"/><path d=\"M 484 171 468 144\" stroke=\"gray\" stroke-width=\"0.2\"/><path d=\"M 484 171 369 79\" stroke=\"gray\" stroke-width=\"0.2\"/><path d=\"M 484 171 595 246\" stroke=\"gray\" stroke-width=\"0.2\"/><path d=\"M 484 171 601 301\" stroke=\"gray\" stroke-width=\"0.2\"/><path d=\"M 484 171 409 72\" stroke=\"gray\" stroke-width=\"0.2\"/><path d=\"M 484 171 629 93\" stroke=\"gray\" stroke-width=\"0.2\"/><path d=\"M 484 171 543 228\" stroke=\"gray\" stroke-width=\"0.2\"/><path d=\"M 484 171 539 142\" stroke=\"gray\" stroke-width=\"0.2\"/><path d=\"M 484 171 543 258\" stroke=\"gray\" stroke-width=\"0.2\"/><path d=\"M 484 171 578 76\" stroke=\"gray\" stroke-width=\"0.2\"/><path d=\"M 484 171 416 127\" stroke=\"gray\" stroke-width=\"0.2\"/><path d=\"M 484 171 516 243\" stroke=\"gray\" stroke-width=\"0.2\"/><path d=\"M 484 171 585 228\" stroke=\"gray\" stroke-width=\"0.2\"/><path d=\"M 484 171 348 148\" stroke=\"gray\" stroke-width=\"0.2\"/><path d=\"M 484 171 441 289\" stroke=\"gray\" stroke-width=\"0.2\"/><path d=\"M 484 171 562 244\" stroke=\"gray\" stroke-width=\"0.2\"/><path d=\"M 264 492 312 504\" stroke=\"gray\" stroke-width=\"0.2\"/><path d=\"M 264 492 223 504\" stroke=\"gray\" stroke-width=\"0.2\"/><path d=\"M 264 492 271 520\" stroke=\"gray\" stroke-width=\"0.2\"/><path d=\"M 264 492 298 415\" stroke=\"gray\" stroke-width=\"0.2\"/><path d=\"M 554 120 484 171\" stroke=\"gray\" stroke-width=\"0.2\"/><path d=\"M 554 120 468 144\" stroke=\"gray\" stroke-width=\"0.2\"/><path d=\"M 554 120 539 142\" stroke=\"gray\" stroke-width=\"0.2\"/><path d=\"M 136 45 253 73\" stroke=\"gray\" stroke-width=\"0.2\"/><path d=\"M 136 45 131 20\" stroke=\"gray\" stroke-width=\"0.2\"/><path d=\"M 136 45 93 63\" stroke=\"gray\" stroke-width=\"0.2\"/><path d=\"M 136 45 84 36\" stroke=\"gray\" stroke-width=\"0.2\"/><path d=\"M 672 348 687 364\" stroke=\"gray\" stroke-width=\"0.2\"/><path d=\"M 672 348 643 369\" stroke=\"gray\" stroke-width=\"0.2\"/><path d=\"M 672 348 662 387\" stroke=\"gray\" stroke-width=\"0.2\"/><path d=\"M 672 348 720 359\" stroke=\"gray\" stroke-width=\"0.2\"/><path d=\"M 672 348 601 301\" stroke=\"gray\" stroke-width=\"0.2\"/><path d=\"M 672 348 547 389\" stroke=\"gray\" stroke-width=\"0.2\"/><path d=\"M 672 348 701 383\" stroke=\"gray\" stroke-width=\"0.2\"/><path d=\"M 687 364 672 348\" stroke=\"gray\" stroke-width=\"0.2\"/><path d=\"M 687 364 643 369\" stroke=\"gray\" stroke-width=\"0.2\"/><path d=\"M 687 364 662 387\" stroke=\"gray\" stroke-width=\"0.2\"/><path d=\"M 687 364 720 359\" stroke=\"gray\" stroke-width=\"0.2\"/><path d=\"M 687 364 601 301\" stroke=\"gray\" stroke-width=\"0.2\"/><path d=\"M 687 364 547 389\" stroke=\"gray\" stroke-width=\"0.2\"/><path d=\"M 687 364 701 383\" stroke=\"gray\" stroke-width=\"0.2\"/><path d=\"M 373 131 354 188\" stroke=\"gray\" stroke-width=\"0.2\"/><path d=\"M 373 131 484 171\" stroke=\"gray\" stroke-width=\"0.2\"/><path d=\"M 373 131 416 127\" stroke=\"gray\" stroke-width=\"0.2\"/><path d=\"M 373 131 348 148\" stroke=\"gray\" stroke-width=\"0.2\"/><path d=\"M 93 63 253 73\" stroke=\"gray\" stroke-width=\"0.2\"/><path d=\"M 93 63 131 20\" stroke=\"gray\" stroke-width=\"0.2\"/><path d=\"M 93 63 136 45\" stroke=\"gray\" stroke-width=\"0.2\"/><path d=\"M 93 63 84 36\" stroke=\"gray\" stroke-width=\"0.2\"/><path d=\"M 468 144 484 171\" stroke=\"gray\" stroke-width=\"0.2\"/><path d=\"M 468 144 554 120\" stroke=\"gray\" stroke-width=\"0.2\"/><path d=\"M 468 144 539 142\" stroke=\"gray\" stroke-width=\"0.2\"/><path d=\"M 312 504 264 492\" stroke=\"gray\" stroke-width=\"0.2\"/><path d=\"M 312 504 223 504\" stroke=\"gray\" stroke-width=\"0.2\"/><path d=\"M 312 504 271 520\" stroke=\"gray\" stroke-width=\"0.2\"/><path d=\"M 312 504 298 415\" stroke=\"gray\" stroke-width=\"0.2\"/><path d=\"M 220 433 55 421\" stroke=\"gray\" stroke-width=\"0.2\"/><path d=\"M 220 433 52 468\" stroke=\"gray\" stroke-width=\"0.2\"/><path d=\"M 220 433 547 389\" stroke=\"gray\" stroke-width=\"0.2\"/><path d=\"M 220 433 94 459\" stroke=\"gray\" stroke-width=\"0.2\"/><path d=\"M 220 433 408 438\" stroke=\"gray\" stroke-width=\"0.2\"/><path d=\"M 220 433 76 439\" stroke=\"gray\" stroke-width=\"0.2\"/><path d=\"M 220 433 26 445\" stroke=\"gray\" stroke-width=\"0.2\"/><path d=\"M 52 468 55 421\" stroke=\"gray\" stroke-width=\"0.2\"/><path d=\"M 52 468 220 433\" stroke=\"gray\" stroke-width=\"0.2\"/><path d=\"M 52 468 94 459\" stroke=\"gray\" stroke-width=\"0.2\"/><path d=\"M 52 468 76 439\" stroke=\"gray\" stroke-width=\"0.2\"/><path d=\"M 52 468 26 445\" stroke=\"gray\" stroke-width=\"0.2\"/><path d=\"M 643 369 672 348\" stroke=\"gray\" stroke-width=\"0.2\"/><path d=\"M 643 369 687 364\" stroke=\"gray\" stroke-width=\"0.2\"/><path d=\"M 643 369 662 387\" stroke=\"gray\" stroke-width=\"0.2\"/><path d=\"M 643 369 720 359\" stroke=\"gray\" stroke-width=\"0.2\"/><path d=\"M 643 369 601 301\" stroke=\"gray\" stroke-width=\"0.2\"/><path d=\"M 643 369 547 389\" stroke=\"gray\" stroke-width=\"0.2\"/><path d=\"M 643 369 701 383\" stroke=\"gray\" stroke-width=\"0.2\"/><path d=\"M 662 387 672 348\" stroke=\"gray\" stroke-width=\"0.2\"/><path d=\"M 662 387 687 364\" stroke=\"gray\" stroke-width=\"0.2\"/><path d=\"M 662 387 643 369\" stroke=\"gray\" stroke-width=\"0.2\"/><path d=\"M 662 387 720 359\" stroke=\"gray\" stroke-width=\"0.2\"/><path d=\"M 662 387 601 301\" stroke=\"gray\" stroke-width=\"0.2\"/><path d=\"M 662 387 547 389\" stroke=\"gray\" stroke-width=\"0.2\"/><path d=\"M 662 387 701 383\" stroke=\"gray\" stroke-width=\"0.2\"/><path d=\"M 296 341 210 324\" stroke=\"gray\" stroke-width=\"0.2\"/><path d=\"M 296 341 328 352\" stroke=\"gray\" stroke-width=\"0.2\"/><path d=\"M 296 341 441 289\" stroke=\"gray\" stroke-width=\"0.2\"/><path d=\"M 296 341 298 415\" stroke=\"gray\" stroke-width=\"0.2\"/><path d=\"M 720 359 672 348\" stroke=\"gray\" stroke-width=\"0.2\"/><path d=\"M 720 359 687 364\" stroke=\"gray\" stroke-width=\"0.2\"/><path d=\"M 720 359 643 369\" stroke=\"gray\" stroke-width=\"0.2\"/><path d=\"M 720 359 662 387\" stroke=\"gray\" stroke-width=\"0.2\"/><path d=\"M 720 359 601 301\" stroke=\"gray\" stroke-width=\"0.2\"/><path d=\"M 720 359 547 389\" stroke=\"gray\" stroke-width=\"0.2\"/><path d=\"M 720 359 701 383\" stroke=\"gray\" stroke-width=\"0.2\"/><path d=\"M 369 79 253 73\" stroke=\"gray\" stroke-width=\"0.2\"/><path d=\"M 369 79 484 171\" stroke=\"gray\" stroke-width=\"0.2\"/><path d=\"M 369 79 409 72\" stroke=\"gray\" stroke-width=\"0.2\"/><path d=\"M 595 246 484 171\" stroke=\"gray\" stroke-width=\"0.2\"/><path d=\"M 595 246 601 301\" stroke=\"gray\" stroke-width=\"0.2\"/><path d=\"M 595 246 543 228\" stroke=\"gray\" stroke-width=\"0.2\"/><path d=\"M 595 246 543 258\" stroke=\"gray\" stroke-width=\"0.2\"/><path d=\"M 595 246 516 243\" stroke=\"gray\" stroke-width=\"0.2\"/><path d=\"M 595 246 585 228\" stroke=\"gray\" stroke-width=\"0.2\"/><path d=\"M 595 246 441 289\" stroke=\"gray\" stroke-width=\"0.2\"/><path d=\"M 595 246 562 244\" stroke=\"gray\" stroke-width=\"0.2\"/><path d=\"M 601 301 484 171\" stroke=\"gray\" stroke-width=\"0.2\"/><path d=\"M 601 301 672 348\" stroke=\"gray\" stroke-width=\"0.2\"/><path d=\"M 601 301 687 364\" stroke=\"gray\" stroke-width=\"0.2\"/><path d=\"M 601 301 643 369\" stroke=\"gray\" stroke-width=\"0.2\"/><path d=\"M 601 301 662 387\" stroke=\"gray\" stroke-width=\"0.2\"/><path d=\"M 601 301 720 359\" stroke=\"gray\" stroke-width=\"0.2\"/><path d=\"M 601 301 595 246\" stroke=\"gray\" stroke-width=\"0.2\"/><path d=\"M 601 301 547 389\" stroke=\"gray\" stroke-width=\"0.2\"/><path d=\"M 601 301 543 228\" stroke=\"gray\" stroke-width=\"0.2\"/><path d=\"M 601 301 543 258\" stroke=\"gray\" stroke-width=\"0.2\"/><path d=\"M 601 301 701 383\" stroke=\"gray\" stroke-width=\"0.2\"/><path d=\"M 601 301 516 243\" stroke=\"gray\" stroke-width=\"0.2\"/><path d=\"M 601 301 585 228\" stroke=\"gray\" stroke-width=\"0.2\"/><path d=\"M 601 301 441 289\" stroke=\"gray\" stroke-width=\"0.2\"/><path d=\"M 601 301 562 244\" stroke=\"gray\" stroke-width=\"0.2\"/><path d=\"M 409 72 253 73\" stroke=\"gray\" stroke-width=\"0.2\"/><path d=\"M 409 72 484 171\" stroke=\"gray\" stroke-width=\"0.2\"/><path d=\"M 409 72 369 79\" stroke=\"gray\" stroke-width=\"0.2\"/><path d=\"M 20 303 40 277\" stroke=\"gray\" stroke-width=\"0.2\"/><path d=\"M 20 303 210 324\" stroke=\"gray\" stroke-width=\"0.2\"/><path d=\"M 547 389 672 348\" stroke=\"gray\" stroke-width=\"0.2\"/><path d=\"M 547 389 687 364\" stroke=\"gray\" stroke-width=\"0.2\"/><path d=\"M 547 389 220 433\" stroke=\"gray\" stroke-width=\"0.2\"/><path d=\"M 547 389 643 369\" stroke=\"gray\" stroke-width=\"0.2\"/><path d=\"M 547 389 662 387\" stroke=\"gray\" stroke-width=\"0.2\"/><path d=\"M 547 389 720 359\" stroke=\"gray\" stroke-width=\"0.2\"/><path d=\"M 547 389 601 301\" stroke=\"gray\" stroke-width=\"0.2\"/><path d=\"M 547 389 408 438\" stroke=\"gray\" stroke-width=\"0.2\"/><path d=\"M 547 389 701 383\" stroke=\"gray\" stroke-width=\"0.2\"/><path d=\"M 629 93 484 171\" stroke=\"gray\" stroke-width=\"0.2\"/><path d=\"M 629 93 578 76\" stroke=\"gray\" stroke-width=\"0.2\"/><path d=\"M 40 277 20 303\" stroke=\"gray\" stroke-width=\"0.2\"/><path d=\"M 40 277 210 324\" stroke=\"gray\" stroke-width=\"0.2\"/><path d=\"M 543 228 484 171\" stroke=\"gray\" stroke-width=\"0.2\"/><path d=\"M 543 228 595 246\" stroke=\"gray\" stroke-width=\"0.2\"/><path d=\"M 543 228 601 301\" stroke=\"gray\" stroke-width=\"0.2\"/><path d=\"M 543 228 543 258\" stroke=\"gray\" stroke-width=\"0.2\"/><path d=\"M 543 228 516 243\" stroke=\"gray\" stroke-width=\"0.2\"/><path d=\"M 543 228 585 228\" stroke=\"gray\" stroke-width=\"0.2\"/><path d=\"M 543 228 441 289\" stroke=\"gray\" stroke-width=\"0.2\"/><path d=\"M 543 228 562 244\" stroke=\"gray\" stroke-width=\"0.2\"/><path d=\"M 539 142 484 171\" stroke=\"gray\" stroke-width=\"0.2\"/><path d=\"M 539 142 554 120\" stroke=\"gray\" stroke-width=\"0.2\"/><path d=\"M 539 142 468 144\" stroke=\"gray\" stroke-width=\"0.2\"/><path d=\"M 223 504 264 492\" stroke=\"gray\" stroke-width=\"0.2\"/><path d=\"M 223 504 312 504\" stroke=\"gray\" stroke-width=\"0.2\"/><path d=\"M 223 504 271 520\" stroke=\"gray\" stroke-width=\"0.2\"/><path d=\"M 223 504 298 415\" stroke=\"gray\" stroke-width=\"0.2\"/><path d=\"M 94 459 55 421\" stroke=\"gray\" stroke-width=\"0.2\"/><path d=\"M 94 459 220 433\" stroke=\"gray\" stroke-width=\"0.2\"/><path d=\"M 94 459 52 468\" stroke=\"gray\" stroke-width=\"0.2\"/><path d=\"M 94 459 76 439\" stroke=\"gray\" stroke-width=\"0.2\"/><path d=\"M 94 459 26 445\" stroke=\"gray\" stroke-width=\"0.2\"/><path d=\"M 543 258 484 171\" stroke=\"gray\" stroke-width=\"0.2\"/><path d=\"M 543 258 595 246\" stroke=\"gray\" stroke-width=\"0.2\"/><path d=\"M 543 258 601 301\" stroke=\"gray\" stroke-width=\"0.2\"/><path d=\"M 543 258 543 228\" stroke=\"gray\" stroke-width=\"0.2\"/><path d=\"M 543 258 516 243\" stroke=\"gray\" stroke-width=\"0.2\"/><path d=\"M 543 258 585 228\" stroke=\"gray\" stroke-width=\"0.2\"/><path d=\"M 543 258 441 289\" stroke=\"gray\" stroke-width=\"0.2\"/><path d=\"M 543 258 562 244\" stroke=\"gray\" stroke-width=\"0.2\"/><path d=\"M 578 76 484 171\" stroke=\"gray\" stroke-width=\"0.2\"/><path d=\"M 578 76 629 93\" stroke=\"gray\" stroke-width=\"0.2\"/><path d=\"M 269 241 354 188\" stroke=\"gray\" stroke-width=\"0.2\"/><path d=\"M 269 241 325 258\" stroke=\"gray\" stroke-width=\"0.2\"/><path d=\"M 325 258 354 188\" stroke=\"gray\" stroke-width=\"0.2\"/><path d=\"M 325 258 269 241\" stroke=\"gray\" stroke-width=\"0.2\"/><path d=\"M 271 520 264 492\" stroke=\"gray\" stroke-width=\"0.2\"/><path d=\"M 271 520 312 504\" stroke=\"gray\" stroke-width=\"0.2\"/><path d=\"M 271 520 223 504\" stroke=\"gray\" stroke-width=\"0.2\"/><path d=\"M 271 520 298 415\" stroke=\"gray\" stroke-width=\"0.2\"/><path d=\"M 408 438 220 433\" stroke=\"gray\" stroke-width=\"0.2\"/><path d=\"M 408 438 547 389\" stroke=\"gray\" stroke-width=\"0.2\"/><path d=\"M 701 383 672 348\" stroke=\"gray\" stroke-width=\"0.2\"/><path d=\"M 701 383 687 364\" stroke=\"gray\" stroke-width=\"0.2\"/><path d=\"M 701 383 643 369\" stroke=\"gray\" stroke-width=\"0.2\"/><path d=\"M 701 383 662 387\" stroke=\"gray\" stroke-width=\"0.2\"/><path d=\"M 701 383 720 359\" stroke=\"gray\" stroke-width=\"0.2\"/><path d=\"M 701 383 601 301\" stroke=\"gray\" stroke-width=\"0.2\"/><path d=\"M 701 383 547 389\" stroke=\"gray\" stroke-width=\"0.2\"/><path d=\"M 416 127 354 188\" stroke=\"gray\" stroke-width=\"0.2\"/><path d=\"M 416 127 484 171\" stroke=\"gray\" stroke-width=\"0.2\"/><path d=\"M 416 127 373 131\" stroke=\"gray\" stroke-width=\"0.2\"/><path d=\"M 416 127 348 148\" stroke=\"gray\" stroke-width=\"0.2\"/><path d=\"M 210 324 296 341\" stroke=\"gray\" stroke-width=\"0.2\"/><path d=\"M 210 324 20 303\" stroke=\"gray\" stroke-width=\"0.2\"/><path d=\"M 210 324 40 277\" stroke=\"gray\" stroke-width=\"0.2\"/><path d=\"M 210 324 328 352\" stroke=\"gray\" stroke-width=\"0.2\"/><path d=\"M 210 324 441 289\" stroke=\"gray\" stroke-width=\"0.2\"/><path d=\"M 210 324 298 415\" stroke=\"gray\" stroke-width=\"0.2\"/><path d=\"M 84 36 253 73\" stroke=\"gray\" stroke-width=\"0.2\"/><path d=\"M 84 36 131 20\" stroke=\"gray\" stroke-width=\"0.2\"/><path d=\"M 84 36 136 45\" stroke=\"gray\" stroke-width=\"0.2\"/><path d=\"M 84 36 93 63\" stroke=\"gray\" stroke-width=\"0.2\"/><path d=\"M 516 243 484 171\" stroke=\"gray\" stroke-width=\"0.2\"/><path d=\"M 516 243 595 246\" stroke=\"gray\" stroke-width=\"0.2\"/><path d=\"M 516 243 601 301\" stroke=\"gray\" stroke-width=\"0.2\"/><path d=\"M 516 243 543 228\" stroke=\"gray\" stroke-width=\"0.2\"/><path d=\"M 516 243 543 258\" stroke=\"gray\" stroke-width=\"0.2\"/><path d=\"M 516 243 585 228\" stroke=\"gray\" stroke-width=\"0.2\"/><path d=\"M 516 243 441 289\" stroke=\"gray\" stroke-width=\"0.2\"/><path d=\"M 516 243 562 244\" stroke=\"gray\" stroke-width=\"0.2\"/><path d=\"M 585 228 484 171\" stroke=\"gray\" stroke-width=\"0.2\"/><path d=\"M 585 228 595 246\" stroke=\"gray\" stroke-width=\"0.2\"/><path d=\"M 585 228 601 301\" stroke=\"gray\" stroke-width=\"0.2\"/><path d=\"M 585 228 543 228\" stroke=\"gray\" stroke-width=\"0.2\"/><path d=\"M 585 228 543 258\" stroke=\"gray\" stroke-width=\"0.2\"/><path d=\"M 585 228 516 243\" stroke=\"gray\" stroke-width=\"0.2\"/><path d=\"M 585 228 441 289\" stroke=\"gray\" stroke-width=\"0.2\"/><path d=\"M 585 228 562 244\" stroke=\"gray\" stroke-width=\"0.2\"/><path d=\"M 348 148 354 188\" stroke=\"gray\" stroke-width=\"0.2\"/><path d=\"M 348 148 484 171\" stroke=\"gray\" stroke-width=\"0.2\"/><path d=\"M 348 148 373 131\" stroke=\"gray\" stroke-width=\"0.2\"/><path d=\"M 348 148 416 127\" stroke=\"gray\" stroke-width=\"0.2\"/><path d=\"M 328 352 296 341\" stroke=\"gray\" stroke-width=\"0.2\"/><path d=\"M 328 352 210 324\" stroke=\"gray\" stroke-width=\"0.2\"/><path d=\"M 328 352 441 289\" stroke=\"gray\" stroke-width=\"0.2\"/><path d=\"M 328 352 298 415\" stroke=\"gray\" stroke-width=\"0.2\"/><path d=\"M 441 289 484 171\" stroke=\"gray\" stroke-width=\"0.2\"/><path d=\"M 441 289 296 341\" stroke=\"gray\" stroke-width=\"0.2\"/><path d=\"M 441 289 595 246\" stroke=\"gray\" stroke-width=\"0.2\"/><path d=\"M 441 289 601 301\" stroke=\"gray\" stroke-width=\"0.2\"/><path d=\"M 441 289 543 228\" stroke=\"gray\" stroke-width=\"0.2\"/><path d=\"M 441 289 543 258\" stroke=\"gray\" stroke-width=\"0.2\"/><path d=\"M 441 289 210 324\" stroke=\"gray\" stroke-width=\"0.2\"/><path d=\"M 441 289 516 243\" stroke=\"gray\" stroke-width=\"0.2\"/><path d=\"M 441 289 585 228\" stroke=\"gray\" stroke-width=\"0.2\"/><path d=\"M 441 289 328 352\" stroke=\"gray\" stroke-width=\"0.2\"/><path d=\"M 441 289 298 415\" stroke=\"gray\" stroke-width=\"0.2\"/><path d=\"M 441 289 562 244\" stroke=\"gray\" stroke-width=\"0.2\"/><path d=\"M 298 415 264 492\" stroke=\"gray\" stroke-width=\"0.2\"/><path d=\"M 298 415 312 504\" stroke=\"gray\" stroke-width=\"0.2\"/><path d=\"M 298 415 296 341\" stroke=\"gray\" stroke-width=\"0.2\"/><path d=\"M 298 415 223 504\" stroke=\"gray\" stroke-width=\"0.2\"/><path d=\"M 298 415 271 520\" stroke=\"gray\" stroke-width=\"0.2\"/><path d=\"M 298 415 210 324\" stroke=\"gray\" stroke-width=\"0.2\"/><path d=\"M 298 415 328 352\" stroke=\"gray\" stroke-width=\"0.2\"/><path d=\"M 298 415 441 289\" stroke=\"gray\" stroke-width=\"0.2\"/><path d=\"M 76 439 55 421\" stroke=\"gray\" stroke-width=\"0.2\"/><path d=\"M 76 439 220 433\" stroke=\"gray\" stroke-width=\"0.2\"/><path d=\"M 76 439 52 468\" stroke=\"gray\" stroke-width=\"0.2\"/><path d=\"M 76 439 94 459\" stroke=\"gray\" stroke-width=\"0.2\"/><path d=\"M 76 439 26 445\" stroke=\"gray\" stroke-width=\"0.2\"/><path d=\"M 562 244 484 171\" stroke=\"gray\" stroke-width=\"0.2\"/><path d=\"M 562 244 595 246\" stroke=\"gray\" stroke-width=\"0.2\"/><path d=\"M 562 244 601 301\" stroke=\"gray\" stroke-width=\"0.2\"/><path d=\"M 562 244 543 228\" stroke=\"gray\" stroke-width=\"0.2\"/><path d=\"M 562 244 543 258\" stroke=\"gray\" stroke-width=\"0.2\"/><path d=\"M 562 244 516 243\" stroke=\"gray\" stroke-width=\"0.2\"/><path d=\"M 562 244 585 228\" stroke=\"gray\" stroke-width=\"0.2\"/><path d=\"M 562 244 441 289\" stroke=\"gray\" stroke-width=\"0.2\"/><path d=\"M 26 445 55 421\" stroke=\"gray\" stroke-width=\"0.2\"/><path d=\"M 26 445 220 433\" stroke=\"gray\" stroke-width=\"0.2\"/><path d=\"M 26 445 52 468\" stroke=\"gray\" stroke-width=\"0.2\"/><path d=\"M 26 445 94 459\" stroke=\"gray\" stroke-width=\"0.2\"/><path d=\"M 26 445 76 439\" stroke=\"gray\" stroke-width=\"0.2\"/><circle cx=\"253\" cy=\"73\" r=\"3.0\" style=\"fill:rgb(170, 198, 253);stroke:black;stroke-width:1.0\"/><circle cx=\"354\" cy=\"188\" r=\"3.0\" style=\"fill:rgb(159, 190, 254);stroke:black;stroke-width:1.0\"/><circle cx=\"55\" cy=\"421\" r=\"3.0\" style=\"fill:rgb(112, 147, 243);stroke:black;stroke-width:1.0\"/><circle cx=\"131\" cy=\"20\" r=\"3.0\" style=\"fill:rgb(105, 139, 239);stroke:black;stroke-width:1.0\"/><circle cx=\"484\" cy=\"171\" r=\"3.0\" style=\"fill:rgb(179, 3, 38);stroke:black;stroke-width:1.0\"/><circle cx=\"264\" cy=\"492\" r=\"3.0\" style=\"fill:rgb(103, 136, 237);stroke:black;stroke-width:1.0\"/><circle cx=\"554\" cy=\"120\" r=\"3.0\" style=\"fill:rgb(82, 110, 220);stroke:black;stroke-width:1.0\"/><circle cx=\"136\" cy=\"45\" r=\"3.0\" style=\"fill:rgb(105, 139, 239);stroke:black;stroke-width:1.0\"/><circle cx=\"672\" cy=\"348\" r=\"3.0\" style=\"fill:rgb(116, 151, 245);stroke:black;stroke-width:1.0\"/><circle cx=\"687\" cy=\"364\" r=\"3.0\" style=\"fill:rgb(116, 151, 245);stroke:black;stroke-width:1.0\"/><circle cx=\"373\" cy=\"131\" r=\"3.0\" style=\"fill:rgb(99, 131, 234);stroke:black;stroke-width:1.0\"/><circle cx=\"93\" cy=\"63\" r=\"3.0\" style=\"fill:rgb(105, 139, 239);stroke:black;stroke-width:1.0\"/><circle cx=\"468\" cy=\"144\" r=\"3.0\" style=\"fill:rgb(82, 110, 220);stroke:black;stroke-width:1.0\"/><circle cx=\"312\" cy=\"504\" r=\"3.0\" style=\"fill:rgb(103, 136, 237);stroke:black;stroke-width:1.0\"/><circle cx=\"220\" cy=\"433\" r=\"3.0\" style=\"fill:rgb(148, 181, 254);stroke:black;stroke-width:1.0\"/><circle cx=\"52\" cy=\"468\" r=\"3.0\" style=\"fill:rgb(112, 147, 243);stroke:black;stroke-width:1.0\"/><circle cx=\"643\" cy=\"369\" r=\"3.0\" style=\"fill:rgb(116, 151, 245);stroke:black;stroke-width:1.0\"/><circle cx=\"662\" cy=\"387\" r=\"3.0\" style=\"fill:rgb(116, 151, 245);stroke:black;stroke-width:1.0\"/><circle cx=\"296\" cy=\"341\" r=\"3.0\" style=\"fill:rgb(92, 123, 229);stroke:black;stroke-width:1.0\"/><circle cx=\"720\" cy=\"359\" r=\"3.0\" style=\"fill:rgb(116, 151, 245);stroke:black;stroke-width:1.0\"/><circle cx=\"369\" cy=\"79\" r=\"3.0\" style=\"fill:rgb(80, 107, 218);stroke:black;stroke-width:1.0\"/><circle cx=\"595\" cy=\"246\" r=\"3.0\" style=\"fill:rgb(134, 169, 252);stroke:black;stroke-width:1.0\"/><circle cx=\"601\" cy=\"301\" r=\"3.0\" style=\"fill:rgb(224, 218, 215);stroke:black;stroke-width:1.0\"/><circle cx=\"409\" cy=\"72\" r=\"3.0\" style=\"fill:rgb(80, 107, 218);stroke:black;stroke-width:1.0\"/><circle cx=\"20\" cy=\"303\" r=\"3.0\" style=\"fill:rgb(70, 93, 207);stroke:black;stroke-width:1.0\"/><circle cx=\"547\" cy=\"389\" r=\"3.0\" style=\"fill:rgb(155, 187, 254);stroke:black;stroke-width:1.0\"/><circle cx=\"629\" cy=\"93\" r=\"3.0\" style=\"fill:rgb(64, 84, 199);stroke:black;stroke-width:1.0\"/><circle cx=\"40\" cy=\"277\" r=\"3.0\" style=\"fill:rgb(70, 93, 207);stroke:black;stroke-width:1.0\"/><circle cx=\"543\" cy=\"228\" r=\"3.0\" style=\"fill:rgb(134, 169, 252);stroke:black;stroke-width:1.0\"/><circle cx=\"539\" cy=\"142\" r=\"3.0\" style=\"fill:rgb(82, 110, 220);stroke:black;stroke-width:1.0\"/><circle cx=\"223\" cy=\"504\" r=\"3.0\" style=\"fill:rgb(103, 136, 237);stroke:black;stroke-width:1.0\"/><circle cx=\"94\" cy=\"459\" r=\"3.0\" style=\"fill:rgb(112, 147, 243);stroke:black;stroke-width:1.0\"/><circle cx=\"543\" cy=\"258\" r=\"3.0\" style=\"fill:rgb(134, 169, 252);stroke:black;stroke-width:1.0\"/><circle cx=\"578\" cy=\"76\" r=\"3.0\" style=\"fill:rgb(64, 84, 199);stroke:black;stroke-width:1.0\"/><circle cx=\"269\" cy=\"241\" r=\"3.0\" style=\"fill:rgb(72, 96, 209);stroke:black;stroke-width:1.0\"/><circle cx=\"325\" cy=\"258\" r=\"3.0\" style=\"fill:rgb(72, 96, 209);stroke:black;stroke-width:1.0\"/><circle cx=\"271\" cy=\"520\" r=\"3.0\" style=\"fill:rgb(103, 136, 237);stroke:black;stroke-width:1.0\"/><circle cx=\"408\" cy=\"438\" r=\"3.0\" style=\"fill:rgb(58, 76, 192);stroke:black;stroke-width:1.0\"/><circle cx=\"701\" cy=\"383\" r=\"3.0\" style=\"fill:rgb(116, 151, 245);stroke:black;stroke-width:1.0\"/><circle cx=\"416\" cy=\"127\" r=\"3.0\" style=\"fill:rgb(99, 131, 234);stroke:black;stroke-width:1.0\"/><circle cx=\"210\" cy=\"324\" r=\"3.0\" style=\"fill:rgb(148, 181, 254);stroke:black;stroke-width:1.0\"/><circle cx=\"84\" cy=\"36\" r=\"3.0\" style=\"fill:rgb(105, 139, 239);stroke:black;stroke-width:1.0\"/><circle cx=\"516\" cy=\"243\" r=\"3.0\" style=\"fill:rgb(134, 169, 252);stroke:black;stroke-width:1.0\"/><circle cx=\"585\" cy=\"228\" r=\"3.0\" style=\"fill:rgb(134, 169, 252);stroke:black;stroke-width:1.0\"/><circle cx=\"348\" cy=\"148\" r=\"3.0\" style=\"fill:rgb(99, 131, 234);stroke:black;stroke-width:1.0\"/><circle cx=\"328\" cy=\"352\" r=\"3.0\" style=\"fill:rgb(92, 123, 229);stroke:black;stroke-width:1.0\"/><circle cx=\"441\" cy=\"289\" r=\"3.0\" style=\"fill:rgb(208, 218, 233);stroke:black;stroke-width:1.0\"/><circle cx=\"298\" cy=\"415\" r=\"3.0\" style=\"fill:rgb(180, 205, 250);stroke:black;stroke-width:1.0\"/><circle cx=\"76\" cy=\"439\" r=\"3.0\" style=\"fill:rgb(112, 147, 243);stroke:black;stroke-width:1.0\"/><circle cx=\"562\" cy=\"244\" r=\"3.0\" style=\"fill:rgb(134, 169, 252);stroke:black;stroke-width:1.0\"/><circle cx=\"26\" cy=\"445\" r=\"3.0\" style=\"fill:rgb(112, 147, 243);stroke:black;stroke-width:1.0\"/><text font-size=\"10\" x=\"259\" y=\"76\">Lihong Li</text><text font-size=\"10\" x=\"360\" y=\"191\">Xiaohan Zhang</text><text font-size=\"10\" x=\"61\" y=\"424\">Hailei Yan</text><text font-size=\"10\" x=\"137\" y=\"23\">Yi Chang</text><text font-size=\"10\" x=\"490\" y=\"174\">Qiang Liu</text><text font-size=\"10\" x=\"270\" y=\"495\">Xuange Zhang</text><text font-size=\"10\" x=\"560\" y=\"123\">Yi Hu</text><text font-size=\"10\" x=\"142\" y=\"48\">Zhaohui Zheng</text><text font-size=\"10\" x=\"678\" y=\"351\">Dongxia Wang</text><text font-size=\"10\" x=\"693\" y=\"367\">Xiangyu Liu</text><text font-size=\"10\" x=\"379\" y=\"134\">Yuqian Jiang</text><text font-size=\"10\" x=\"99\" y=\"66\">Wei Chu</text><text font-size=\"10\" x=\"474\" y=\"147\">Richard de Grijs</text><text font-size=\"10\" x=\"318\" y=\"507\">Zhenzhen Jiao</text><text font-size=\"10\" x=\"226\" y=\"436\">Tong Mo</text><text font-size=\"10\" x=\"58\" y=\"471\">Guanglu Wan</text><text font-size=\"10\" x=\"649\" y=\"372\">Huizhong Guo</text><text font-size=\"10\" x=\"668\" y=\"390\">Jingyi Wang</text><text font-size=\"10\" x=\"302\" y=\"344\">Xiongxiong Dong</text><text font-size=\"10\" x=\"726\" y=\"362\">Zehong Hu</text><text font-size=\"10\" x=\"375\" y=\"82\">Denny Zhou</text><text font-size=\"10\" x=\"601\" y=\"249\">Dongyu Hu</text><text font-size=\"10\" x=\"607\" y=\"304\">Jinfeng Li</text><text font-size=\"10\" x=\"415\" y=\"75\">Ali Mousavi</text><text font-size=\"10\" x=\"26\" y=\"306\">Dong Zhao</text><text font-size=\"10\" x=\"553\" y=\"392\">Rong Zhang</text><text font-size=\"10\" x=\"635\" y=\"96\">Ruqi Zhang</text><text font-size=\"10\" x=\"46\" y=\"280\">Xinna Ji</text><text font-size=\"10\" x=\"549\" y=\"231\">Qianjin Guo</text><text font-size=\"10\" x=\"545\" y=\"145\">Licai Deng</text><text font-size=\"10\" x=\"229\" y=\"507\">Jian Jin</text><text font-size=\"10\" x=\"100\" y=\"462\">Shuaipeng Liu</text><text font-size=\"10\" x=\"549\" y=\"261\">Ruiqing Yan</text><text font-size=\"10\" x=\"584\" y=\"79\">Xin T. Tong</text><text font-size=\"10\" x=\"275\" y=\"244\">Jingyuan Sun</text><text font-size=\"10\" x=\"331\" y=\"261\">Marie-Francine Moens</text><text font-size=\"10\" x=\"277\" y=\"523\">Tongtong Yuan</text><text font-size=\"10\" x=\"414\" y=\"441\">Weiping Li</text><text font-size=\"10\" x=\"707\" y=\"386\">Hui Xue</text><text font-size=\"10\" x=\"422\" y=\"130\">Joydeep Biswas</text><text font-size=\"10\" x=\"216\" y=\"327\">Huadong Ma</text><text font-size=\"10\" x=\"90\" y=\"39\">Taesup Moon</text><text font-size=\"10\" x=\"522\" y=\"246\">Linghan Zheng</text><text font-size=\"10\" x=\"591\" y=\"231\">Mengyuan Huang</text><text font-size=\"10\" x=\"354\" y=\"151\">Shiqi Zhang</text><text font-size=\"10\" x=\"334\" y=\"355\">Wenbing Huang</text><text font-size=\"10\" x=\"447\" y=\"292\">Wu Liu</text><text font-size=\"10\" x=\"304\" y=\"418\">Kun Liu</text><text font-size=\"10\" x=\"82\" y=\"442\">Wei Ye</text><text font-size=\"10\" x=\"568\" y=\"247\">Jinrong Jiang</text><text font-size=\"10\" x=\"32\" y=\"448\">Yinyi Wei</text></svg>"
      ],
      "text/plain": [
       "<IPython.core.display.SVG object>"
      ]
     },
     "execution_count": 23,
     "metadata": {},
     "output_type": "execute_result"
    }
   ],
   "source": [
    "G_check = community_context_dict[communities[0]]['G']\n",
    "draw_community(G_check)"
   ]
  },
  {
   "cell_type": "code",
   "execution_count": 24,
   "id": "17a5d5fd",
   "metadata": {},
   "outputs": [
    {
     "data": {
      "text/plain": [
       "['Belief Propagation for Structured Decision Making',\n",
       " 'Black-box Off-policy Estimation for Infinite-Horizon Reinforcement Learning',\n",
       " 'CAINNFlow: Convolutional block Attention modules and Invertible Neural Networks Flow for anomaly detection and localization tasks',\n",
       " 'Data characterization using artificial-star tests: performance evaluation',\n",
       " 'Exploiting Pseudo Future Contexts for Emotion Recognition in Conversations',\n",
       " 'FairRec: Fairness Testing for Deep Recommender Systems',\n",
       " 'Generalized Lottery Trees: Budget-Consistent Incentive Tree Mechanisms for Crowdsourcing',\n",
       " 'Generalized Zero-Shot Learning for Action Recognition with Web-Scale Video Data',\n",
       " 'ICE: Information Credibility Evaluation on Social Media via Representation Learning',\n",
       " 'LLM+P: Empowering Large Language Models with Optimal Planning Proficiency',\n",
       " 'Mining Significant Microblogs for Misinformation Identification: An Attention-based Approach',\n",
       " 'Refining Recency Search Results with User Click Feedback',\n",
       " 'Review of Deep Learning',\n",
       " 'Sampling in Constrained Domains with Orthogonal-Space Variational Gradient Descent',\n",
       " 'Tuning In to Neural Encoding: Linking Human Brain and Artificial Supervised Representations of Language',\n",
       " 'UCF-Crime Annotation: A Benchmark for Surveillance Video-and-Language Understanding',\n",
       " 'Vulnerabilities Mapping based on OWASP-SANS: a Survey for Static Application Security Testing (SAST)']"
      ]
     },
     "execution_count": 24,
     "metadata": {},
     "output_type": "execute_result"
    }
   ],
   "source": [
    "show_author_papers(df, G_check)\n",
    "\n",
    "#Efficient Top-k Ego-Betweenness Search\n",
    "#Fast Algorithms for Intimate-Core Group Search in Weighted Graphs\n",
    "#Fine-Grained Emotion Classification of Chinese Microblogs Based on Graph Convolution Networks\n",
    "#Mining Bursting Communities in Temporal Graphs"
   ]
  },
  {
   "cell_type": "markdown",
   "id": "a2419430",
   "metadata": {},
   "source": [
    "# Interactive Exploration\n",
    "\n",
    "I'll use G_check graph with libraries for interactive exploration."
   ]
  },
  {
   "cell_type": "code",
   "execution_count": 25,
   "id": "476b40c1",
   "metadata": {},
   "outputs": [],
   "source": [
    "#!pip install pyvis --upgrade --user\n",
    "#!pip install pyvis==0.3.1 --user"
   ]
  },
  {
   "cell_type": "code",
   "execution_count": 26,
   "id": "a180bcca",
   "metadata": {},
   "outputs": [],
   "source": [
    "from pyvis.network import Network"
   ]
  },
  {
   "cell_type": "code",
   "execution_count": 69,
   "id": "31fe123d",
   "metadata": {},
   "outputs": [
    {
     "name": "stdout",
     "output_type": "stream",
     "text": [
      "C:\\Users\\groov\\PythonCode\\100daysofnetworks\\pyvis/arxiv_community.html\n"
     ]
    }
   ],
   "source": [
    "pyvis_file = r'C:\\Users\\groov\\PythonCode\\100daysofnetworks\\pyvis/arxiv_community.html'\n",
    "\n",
    "nt = Network()\n",
    "nt.from_nx(G_check)\n",
    "nt.show(pyvis_file, notebook=False)"
   ]
  },
  {
   "cell_type": "code",
   "execution_count": 59,
   "id": "f16c6406",
   "metadata": {},
   "outputs": [],
   "source": [
    "#from IPython.display import display, HTML"
   ]
  },
  {
   "cell_type": "code",
   "execution_count": 60,
   "id": "637dae58",
   "metadata": {},
   "outputs": [],
   "source": [
    "# import IPython\n",
    "# IPython.display.HTML(filename=pyvis_file)"
   ]
  },
  {
   "cell_type": "code",
   "execution_count": null,
   "id": "75a57775",
   "metadata": {},
   "outputs": [],
   "source": []
  }
 ],
 "metadata": {
  "kernelspec": {
   "display_name": "Python 3",
   "language": "python",
   "name": "python3"
  },
  "language_info": {
   "codemirror_mode": {
    "name": "ipython",
    "version": 3
   },
   "file_extension": ".py",
   "mimetype": "text/x-python",
   "name": "python",
   "nbconvert_exporter": "python",
   "pygments_lexer": "ipython3",
   "version": "3.7.16"
  }
 },
 "nbformat": 4,
 "nbformat_minor": 5
}
