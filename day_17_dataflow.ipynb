{
 "cells": [
  {
   "cell_type": "code",
   "execution_count": 1,
   "id": "7d18c815",
   "metadata": {},
   "outputs": [],
   "source": [
    "import networkx as nx\n",
    "import numpy as np\n",
    "import pandas as pd\n",
    "\n",
    "from IPython.display import SVG \n",
    "from sknetwork.visualization import svg_digraph \n",
    "from sknetwork.data import Bunch \n",
    "from sknetwork.ranking import PageRank "
   ]
  },
  {
   "cell_type": "code",
   "execution_count": 2,
   "id": "0e8c36c4",
   "metadata": {},
   "outputs": [],
   "source": [
    "def draw_graph(G, show_names=False, node_size=1, font_size=10, edge_width=0.5): \n",
    "\n",
    "    adjacency = nx.to_scipy_sparse_matrix(G, nodelist=None, dtype=None, weight='weight', format='csr') \n",
    "\n",
    "    names = np.array(list(G.nodes())) \n",
    "\n",
    "    graph = Bunch() \n",
    "    graph.adjacency = adjacency \n",
    "    graph.names = np.array(names) \n",
    "\n",
    "    pagerank = PageRank() \n",
    "\n",
    "    scores = pagerank.fit_transform(adjacency) \n",
    "\n",
    "    if show_names: \n",
    "        \n",
    "        image = svg_digraph(graph.adjacency, font_size=font_size, node_size=node_size, names=graph.names, width=700, height=500, scores=scores, edge_width=edge_width) \n",
    "\n",
    "    else: \n",
    "\n",
    "        image = svg_digraph(graph.adjacency, node_size=node_size, width=700, height=500, scores = scores, edge_width=edge_width) \n",
    "\n",
    "    return SVG(image) "
   ]
  },
  {
   "cell_type": "code",
   "execution_count": 3,
   "id": "b8d9c847",
   "metadata": {},
   "outputs": [],
   "source": [
    "G = nx.DiGraph()\n",
    "\n",
    "G.add_edge('cron', '1.py')\n",
    "G.add_edge('cron', '2.py')\n",
    "G.add_edge('cron', '3.py')\n",
    "G.add_edge('cron', '4.py')\n",
    "G.add_edge('cron', '5.py')\n",
    "G.add_edge('cron', '6.py')\n",
    "\n",
    "# 1.py\n",
    "G.add_edge('1.py', '1_output.json')\n",
    "\n",
    "# 2.py\n",
    "G.add_edge('2.py', '2_output.json')\n",
    "\n",
    "# 3.py\n",
    "G.add_edge('1_output.json', '3.py') # input, script on right file/db on left\n",
    "G.add_edge('2_output.json', '3.py')\n",
    "G.add_edge('3.py', 'mysql') # output, script on left\n",
    "\n",
    "# 4.py\n",
    "G.add_edge('1_output.json', '4.py')\n",
    "G.add_edge('2_output.json', '4.py')\n",
    "G.add_edge('4.py', 'mysql')\n",
    "\n",
    "# 5.py\n",
    "G.add_edge('mysql', '5.py')\n",
    "G.add_edge('5.py', 'extract_thing_1.json')\n",
    "G.add_edge('5.py', 'extract_thing_2.json')\n",
    "\n",
    "# 6.py\n",
    "G.add_edge('extract_thing_1.json', '6.py')\n",
    "G.add_edge('extract_thing_2.json', '6.py')\n",
    "G.add_edge('6.py', 'combined_export.json')"
   ]
  },
  {
   "cell_type": "code",
   "execution_count": 4,
   "id": "e7936819",
   "metadata": {},
   "outputs": [
    {
     "name": "stdout",
     "output_type": "stream",
     "text": [
      "DiGraph with 13 nodes and 20 edges\n"
     ]
    }
   ],
   "source": [
    "print(nx.info(G))"
   ]
  },
  {
   "cell_type": "code",
   "execution_count": 5,
   "id": "c3b2b9ba",
   "metadata": {},
   "outputs": [
    {
     "data": {
      "image/svg+xml": [
       "<svg height=\"540\" width=\"860.0\" xmlns=\"http://www.w3.org/2000/svg\"><defs><marker id=\"arrow\" markerHeight=\"10\" markerWidth=\"10\" orient=\"auto\" refX=\"9\" refY=\"3\"><path d=\"M0,0 L0,6 L9,3 z\" fill=\"gray\"/></marker></defs><path d=\"M 399 222 228 88\" marker-end=\"url(#arrow)\" stroke=\"gray\" stroke-width=\"1\"/><path d=\"M 399 222 718 202\" marker-end=\"url(#arrow)\" stroke=\"gray\" stroke-width=\"1\"/><path d=\"M 399 222 439 100\" marker-end=\"url(#arrow)\" stroke=\"gray\" stroke-width=\"1\"/><path d=\"M 399 222 500 130\" marker-end=\"url(#arrow)\" stroke=\"gray\" stroke-width=\"1\"/><path d=\"M 399 222 164 299\" marker-end=\"url(#arrow)\" stroke=\"gray\" stroke-width=\"1\"/><path d=\"M 399 222 296 389\" marker-end=\"url(#arrow)\" stroke=\"gray\" stroke-width=\"1\"/><path d=\"M 226 87 384 21\" marker-end=\"url(#arrow)\" stroke=\"gray\" stroke-width=\"1\"/><path d=\"M 720 202 712 106\" marker-end=\"url(#arrow)\" stroke=\"gray\" stroke-width=\"1\"/><path d=\"M 439 98 269 177\" marker-end=\"url(#arrow)\" stroke=\"gray\" stroke-width=\"1\"/><path d=\"M 502 128 269 178\" marker-end=\"url(#arrow)\" stroke=\"gray\" stroke-width=\"1\"/><path d=\"M 162 299 22 375\" marker-end=\"url(#arrow)\" stroke=\"gray\" stroke-width=\"1\"/><path d=\"M 162 299 124 423\" marker-end=\"url(#arrow)\" stroke=\"gray\" stroke-width=\"1\"/><path d=\"M 295 391 388 518\" marker-end=\"url(#arrow)\" stroke=\"gray\" stroke-width=\"1\"/><path d=\"M 386 20 438 96\" marker-end=\"url(#arrow)\" stroke=\"gray\" stroke-width=\"1\"/><path d=\"M 386 20 500 126\" marker-end=\"url(#arrow)\" stroke=\"gray\" stroke-width=\"1\"/><path d=\"M 712 104 441 98\" marker-end=\"url(#arrow)\" stroke=\"gray\" stroke-width=\"1\"/><path d=\"M 712 104 504 128\" marker-end=\"url(#arrow)\" stroke=\"gray\" stroke-width=\"1\"/><path d=\"M 267 178 163 297\" marker-end=\"url(#arrow)\" stroke=\"gray\" stroke-width=\"1\"/><path d=\"M 20 376 293 391\" marker-end=\"url(#arrow)\" stroke=\"gray\" stroke-width=\"1\"/><path d=\"M 124 425 293 391\" marker-end=\"url(#arrow)\" stroke=\"gray\" stroke-width=\"1\"/><circle cx=\"399\" cy=\"222\" r=\"3.0\" style=\"fill:rgb(58, 76, 192);stroke:black;stroke-width:1.0\"/><circle cx=\"226\" cy=\"87\" r=\"3.0\" style=\"fill:rgb(58, 76, 192);stroke:black;stroke-width:1.0\"/><circle cx=\"720\" cy=\"202\" r=\"3.0\" style=\"fill:rgb(58, 76, 192);stroke:black;stroke-width:1.0\"/><circle cx=\"439\" cy=\"98\" r=\"3.0\" style=\"fill:rgb(99, 131, 234);stroke:black;stroke-width:1.0\"/><circle cx=\"502\" cy=\"128\" r=\"3.0\" style=\"fill:rgb(99, 131, 234);stroke:black;stroke-width:1.0\"/><circle cx=\"162\" cy=\"299\" r=\"3.0\" style=\"fill:rgb(210, 218, 231);stroke:black;stroke-width:1.0\"/><circle cx=\"295\" cy=\"391\" r=\"3.0\" style=\"fill:rgb(244, 195, 171);stroke:black;stroke-width:1.0\"/><circle cx=\"386\" cy=\"20\" r=\"3.0\" style=\"fill:rgb(76, 102, 214);stroke:black;stroke-width:1.0\"/><circle cx=\"712\" cy=\"104\" r=\"3.0\" style=\"fill:rgb(76, 102, 214);stroke:black;stroke-width:1.0\"/><circle cx=\"267\" cy=\"178\" r=\"3.0\" style=\"fill:rgb(189, 210, 246);stroke:black;stroke-width:1.0\"/><circle cx=\"20\" cy=\"376\" r=\"3.0\" style=\"fill:rgb(145, 179, 254);stroke:black;stroke-width:1.0\"/><circle cx=\"124\" cy=\"425\" r=\"3.0\" style=\"fill:rgb(145, 179, 254);stroke:black;stroke-width:1.0\"/><circle cx=\"389\" cy=\"520\" r=\"3.0\" style=\"fill:rgb(179, 3, 38);stroke:black;stroke-width:1.0\"/><text font-size=\"12\" x=\"412\" y=\"225\">cron</text><text font-size=\"12\" x=\"239\" y=\"90\">1.py</text><text font-size=\"12\" x=\"733\" y=\"205\">2.py</text><text font-size=\"12\" x=\"452\" y=\"101\">3.py</text><text font-size=\"12\" x=\"515\" y=\"131\">4.py</text><text font-size=\"12\" x=\"175\" y=\"302\">5.py</text><text font-size=\"12\" x=\"308\" y=\"394\">6.py</text><text font-size=\"12\" x=\"399\" y=\"23\">1_output.json</text><text font-size=\"12\" x=\"725\" y=\"107\">2_output.json</text><text font-size=\"12\" x=\"280\" y=\"181\">mysql</text><text font-size=\"12\" x=\"33\" y=\"379\">extract_thing_1.json</text><text font-size=\"12\" x=\"137\" y=\"428\">extract_thing_2.json</text><text font-size=\"12\" x=\"402\" y=\"523\">combined_export.json</text></svg>"
      ],
      "text/plain": [
       "<IPython.core.display.SVG object>"
      ]
     },
     "execution_count": 5,
     "metadata": {},
     "output_type": "execute_result"
    }
   ],
   "source": [
    "# imaginary software that uses cron for orchestration and creates one combined export\n",
    "\n",
    "draw_graph(G, node_size=3, show_names=True, edge_width=1, font_size=12)"
   ]
  },
  {
   "cell_type": "markdown",
   "id": "2a957fcd",
   "metadata": {},
   "source": [
    "# Drop Cron to see Different View\n",
    "\n",
    "When I map out software, I like to start at the ORCHESTRATION, as that is the ground truth of what is automated and when it runs. From there, I can find additional dependencies (nested script calls, files used, databases used, and more). I sometimes visualize the graph with 'cron' or the orchestration as part of the network, but sometimes I like to see things without. You can remove the orchestration node for another view, once the network is built. I do recommend starting at the orchestration, though, and that is often cron, in my experience."
   ]
  },
  {
   "cell_type": "code",
   "execution_count": 6,
   "id": "df0a566a",
   "metadata": {},
   "outputs": [],
   "source": [
    "G.remove_node('cron')"
   ]
  },
  {
   "cell_type": "code",
   "execution_count": 12,
   "id": "63ab7b55",
   "metadata": {},
   "outputs": [
    {
     "data": {
      "image/svg+xml": [
       "<svg height=\"540\" width=\"860.0\" xmlns=\"http://www.w3.org/2000/svg\"><defs><marker id=\"arrow\" markerHeight=\"10\" markerWidth=\"10\" orient=\"auto\" refX=\"9\" refY=\"3\"><path d=\"M0,0 L0,6 L9,3 z\" fill=\"gray\"/></marker></defs><path d=\"M 187 20 223 101\" marker-end=\"url(#arrow)\" stroke=\"gray\" stroke-width=\"1\"/><path d=\"M 20 223 139 199\" marker-end=\"url(#arrow)\" stroke=\"gray\" stroke-width=\"1\"/><path d=\"M 241 195 366 240\" marker-end=\"url(#arrow)\" stroke=\"gray\" stroke-width=\"1\"/><path d=\"M 270 168 366 240\" marker-end=\"url(#arrow)\" stroke=\"gray\" stroke-width=\"1\"/><path d=\"M 507 322 566 401\" marker-end=\"url(#arrow)\" stroke=\"gray\" stroke-width=\"1\"/><path d=\"M 507 322 628 367\" marker-end=\"url(#arrow)\" stroke=\"gray\" stroke-width=\"1\"/><path d=\"M 663 447 719 518\" marker-end=\"url(#arrow)\" stroke=\"gray\" stroke-width=\"1\"/><path d=\"M 224 103 241 193\" marker-end=\"url(#arrow)\" stroke=\"gray\" stroke-width=\"1\"/><path d=\"M 224 103 269 166\" marker-end=\"url(#arrow)\" stroke=\"gray\" stroke-width=\"1\"/><path d=\"M 141 199 239 195\" marker-end=\"url(#arrow)\" stroke=\"gray\" stroke-width=\"1\"/><path d=\"M 141 199 268 168\" marker-end=\"url(#arrow)\" stroke=\"gray\" stroke-width=\"1\"/><path d=\"M 368 241 505 321\" marker-end=\"url(#arrow)\" stroke=\"gray\" stroke-width=\"1\"/><path d=\"M 567 403 661 446\" marker-end=\"url(#arrow)\" stroke=\"gray\" stroke-width=\"1\"/><path d=\"M 630 368 662 445\" marker-end=\"url(#arrow)\" stroke=\"gray\" stroke-width=\"1\"/><circle cx=\"187\" cy=\"20\" r=\"3.0\" style=\"fill:rgb(58, 76, 192);stroke:black;stroke-width:1.0\"/><circle cx=\"20\" cy=\"223\" r=\"3.0\" style=\"fill:rgb(58, 76, 192);stroke:black;stroke-width:1.0\"/><circle cx=\"241\" cy=\"195\" r=\"3.0\" style=\"fill:rgb(96, 128, 232);stroke:black;stroke-width:1.0\"/><circle cx=\"270\" cy=\"168\" r=\"3.0\" style=\"fill:rgb(96, 128, 232);stroke:black;stroke-width:1.0\"/><circle cx=\"507\" cy=\"322\" r=\"3.0\" style=\"fill:rgb(205, 217, 236);stroke:black;stroke-width:1.0\"/><circle cx=\"663\" cy=\"447\" r=\"3.0\" style=\"fill:rgb(242, 200, 179);stroke:black;stroke-width:1.0\"/><circle cx=\"224\" cy=\"103\" r=\"3.0\" style=\"fill:rgb(72, 96, 209);stroke:black;stroke-width:1.0\"/><circle cx=\"141\" cy=\"199\" r=\"3.0\" style=\"fill:rgb(72, 96, 209);stroke:black;stroke-width:1.0\"/><circle cx=\"368\" cy=\"241\" r=\"3.0\" style=\"fill:rgb(183, 207, 249);stroke:black;stroke-width:1.0\"/><circle cx=\"567\" cy=\"403\" r=\"3.0\" style=\"fill:rgb(141, 175, 253);stroke:black;stroke-width:1.0\"/><circle cx=\"630\" cy=\"368\" r=\"3.0\" style=\"fill:rgb(141, 175, 253);stroke:black;stroke-width:1.0\"/><circle cx=\"720\" cy=\"520\" r=\"3.0\" style=\"fill:rgb(179, 3, 38);stroke:black;stroke-width:1.0\"/><text font-size=\"12\" x=\"200\" y=\"23\">1.py</text><text font-size=\"12\" x=\"33\" y=\"226\">2.py</text><text font-size=\"12\" x=\"254\" y=\"198\">3.py</text><text font-size=\"12\" x=\"283\" y=\"171\">4.py</text><text font-size=\"12\" x=\"520\" y=\"325\">5.py</text><text font-size=\"12\" x=\"676\" y=\"450\">6.py</text><text font-size=\"12\" x=\"237\" y=\"106\">1_output.json</text><text font-size=\"12\" x=\"154\" y=\"202\">2_output.json</text><text font-size=\"12\" x=\"381\" y=\"244\">mysql</text><text font-size=\"12\" x=\"580\" y=\"406\">extract_thing_1.json</text><text font-size=\"12\" x=\"643\" y=\"371\">extract_thing_2.json</text><text font-size=\"12\" x=\"733\" y=\"523\">combined_export.json</text></svg>"
      ],
      "text/plain": [
       "<IPython.core.display.SVG object>"
      ]
     },
     "execution_count": 12,
     "metadata": {},
     "output_type": "execute_result"
    }
   ],
   "source": [
    "draw_graph(G, node_size=3, show_names=True, edge_width=1, font_size=12)"
   ]
  },
  {
   "cell_type": "markdown",
   "id": "f6e03d8b",
   "metadata": {},
   "source": [
    "# Network Science Goodies are Useful\n",
    "\n",
    "From here, all of the stuff that I have previously written about can be useful. This is just another network that can be analyzed and explored."
   ]
  },
  {
   "cell_type": "code",
   "execution_count": 8,
   "id": "044c255e",
   "metadata": {
    "scrolled": true
   },
   "outputs": [
    {
     "data": {
      "image/svg+xml": [
       "<svg height=\"540\" width=\"770.0\" xmlns=\"http://www.w3.org/2000/svg\"><defs><marker id=\"arrow\" markerHeight=\"10\" markerWidth=\"10\" orient=\"auto\" refX=\"9\" refY=\"3\"><path d=\"M0,0 L0,6 L9,3 z\" fill=\"gray\"/></marker></defs><path d=\"M 555 20 431 297\" marker-end=\"url(#arrow)\" stroke=\"gray\" stroke-width=\"1\"/><path d=\"M 429 301 24 368\" marker-end=\"url(#arrow)\" stroke=\"gray\" stroke-width=\"1\"/><path d=\"M 720 520 432 304\" marker-end=\"url(#arrow)\" stroke=\"gray\" stroke-width=\"1\"/><circle cx=\"555\" cy=\"20\" r=\"5.0\" style=\"fill:rgb(58, 76, 192);stroke:black;stroke-width:1.0\"/><circle cx=\"429\" cy=\"301\" r=\"5.0\" style=\"fill:rgb(138, 173, 253);stroke:black;stroke-width:1.0\"/><circle cx=\"720\" cy=\"520\" r=\"5.0\" style=\"fill:rgb(58, 76, 192);stroke:black;stroke-width:1.0\"/><circle cx=\"20\" cy=\"368\" r=\"5.0\" style=\"fill:rgb(179, 3, 38);stroke:black;stroke-width:1.0\"/><text font-size=\"12\" x=\"570\" y=\"25\">3.py</text><text font-size=\"12\" x=\"444\" y=\"306\">mysql</text><text font-size=\"12\" x=\"735\" y=\"525\">4.py</text><text font-size=\"12\" x=\"35\" y=\"373\">5.py</text></svg>"
      ],
      "text/plain": [
       "<IPython.core.display.SVG object>"
      ]
     },
     "execution_count": 8,
     "metadata": {},
     "output_type": "execute_result"
    }
   ],
   "source": [
    "subgraph_nodes = ['3.py', '4.py', 'mysql', '5.py']\n",
    "\n",
    "G_sub = G.subgraph(subgraph_nodes)\n",
    "\n",
    "draw_graph(G_sub, node_size=5, show_names=True, edge_width=1, font_size=12)"
   ]
  },
  {
   "cell_type": "markdown",
   "id": "80fe19a7",
   "metadata": {},
   "source": [
    "# Critical Nodes\n",
    "\n",
    "Actually, all nodes are critical, but these nodes are situated in a way that if they stop, they will disrupt the most things."
   ]
  },
  {
   "cell_type": "code",
   "execution_count": 13,
   "id": "9cce9d73",
   "metadata": {},
   "outputs": [
    {
     "data": {
      "image/png": "[encoded data removed]",
      "text/plain": [
       "<Figure size 864x432 with 1 Axes>"
      ]
     },
     "metadata": {
      "needs_background": "light"
     },
     "output_type": "display_data"
    }
   ],
   "source": [
    "betw_cent = nx.betweenness_centrality(G)\n",
    "\n",
    "metric_df = pd.DataFrame(betw_cent, index=[0]).T\n",
    "metric_df.columns = ['betw_cent']\n",
    "metric_df.sort_values('betw_cent', ascending=False, inplace=True)\n",
    "\n",
    "metric_df.head(20).plot.barh(title='Node Betweenness Centrality', figsize=(12,6)).invert_yaxis()"
   ]
  },
  {
   "cell_type": "markdown",
   "id": "7491994c",
   "metadata": {},
   "source": [
    "# Look at Inputs\n",
    "\n",
    "Basically, what goes into something? What leads to something? In this case, what leads to data being in MySQL?"
   ]
  },
  {
   "cell_type": "code",
   "execution_count": 10,
   "id": "9cc3028a",
   "metadata": {},
   "outputs": [
    {
     "data": {
      "text/plain": [
       "{'1.py', '1_output.json', '2.py', '2_output.json', '3.py', '4.py'}"
      ]
     },
     "execution_count": 10,
     "metadata": {},
     "output_type": "execute_result"
    }
   ],
   "source": [
    "nx.ancestors(G, 'mysql')"
   ]
  },
  {
   "cell_type": "markdown",
   "id": "5cae8625",
   "metadata": {},
   "source": [
    "# Look at Outputs\n",
    "\n",
    "Basically, what is impacted if something stops working? What is impacted if MySQL goes down?"
   ]
  },
  {
   "cell_type": "code",
   "execution_count": 11,
   "id": "908c9682",
   "metadata": {},
   "outputs": [
    {
     "data": {
      "text/plain": [
       "{'5.py',\n",
       " '6.py',\n",
       " 'combined_export.json',\n",
       " 'extract_thing_1.json',\n",
       " 'extract_thing_2.json'}"
      ]
     },
     "execution_count": 11,
     "metadata": {},
     "output_type": "execute_result"
    }
   ],
   "source": [
    "nx.descendants(G, 'mysql')"
   ]
  },
  {
   "cell_type": "markdown",
   "id": "d9a5bcf4",
   "metadata": {},
   "source": [
    "# I Spent Years on This\n",
    "\n",
    "I spent years developing techniques for Source Code Analysis (SCA) and dataflow mapping. This notebook is only scratching the surface. This is incredibly useful in data operations, if you learn more, but this is enough to get started. I will discuss this more, if there is interest, and potentially write a book on this topic someday as it has been very useful to me.\n",
    "\n",
    "There's a lot further even I could go into this, even with how much time I spent doing this. However, to be effective, you don't really need much. You need to map out the system, and then you can easily interrogate the graph to find what's what.\n",
    "\n",
    "But code and dataflow networks present another opportunity for analysis, and this is also extremely useful in troubleshooting, especially after you have mapped out enough systems."
   ]
  },
  {
   "cell_type": "code",
   "execution_count": null,
   "id": "cf04638f",
   "metadata": {},
   "outputs": [],
   "source": []
  },
  {
   "cell_type": "code",
   "execution_count": null,
   "id": "2fb1bc31",
   "metadata": {},
   "outputs": [],
   "source": []
  }
 ],
 "metadata": {
  "kernelspec": {
   "display_name": "Python 3",
   "language": "python",
   "name": "python3"
  },
  "language_info": {
   "codemirror_mode": {
    "name": "ipython",
    "version": 3
   },
   "file_extension": ".py",
   "mimetype": "text/x-python",
   "name": "python",
   "nbconvert_exporter": "python",
   "pygments_lexer": "ipython3",
   "version": "3.7.16"
  }
 },
 "nbformat": 4,
 "nbformat_minor": 5
}
