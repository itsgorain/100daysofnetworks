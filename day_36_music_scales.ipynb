{
 "cells": [
  {
   "cell_type": "code",
   "execution_count": 248,
   "id": "84922215",
   "metadata": {},
   "outputs": [],
   "source": [
    "import networkx as nx\n",
    "import pandas as pd"
   ]
  },
  {
   "cell_type": "code",
   "execution_count": 249,
   "id": "17ec811d",
   "metadata": {},
   "outputs": [],
   "source": [
    "# for visualization\n",
    "import numpy as np\n",
    "from IPython.display import SVG \n",
    "from sknetwork.visualization import svg_graph \n",
    "from sknetwork.data import Bunch \n",
    "from sknetwork.ranking import PageRank \n",
    "from scipy.sparse import csr_matrix\n",
    "\n",
    "def draw_graph(G, show_names=False, node_size=1, font_size=10, edge_width=0.5, scores=True):\n",
    "\n",
    "    adjacency = nx.to_scipy_sparse_array(G, nodelist=None, dtype=None, weight='weight', format='csr')\n",
    "    adjacency = csr_matrix(adjacency) # fix to weird sknetwork-csr issue; comment out to troubleshoot\n",
    "    \n",
    "    names = np.array(list(G.nodes))\n",
    "    \n",
    "    graph = Bunch()\n",
    "    graph.adjacency = adjacency\n",
    "    graph.names = np.array(names)\n",
    "    \n",
    "    pagerank = PageRank()\n",
    "    scores = pagerank.fit_transform(adjacency)\n",
    "\n",
    "    if show_names:\n",
    "        \n",
    "        image = svg_graph(graph.adjacency, font_size=font_size, node_size=node_size, names=graph.names, width=700, height=500, scores=scores, edge_width=edge_width)\n",
    "    \n",
    "    else:\n",
    "        \n",
    "        image = svg_graph(graph.adjacency, node_size=node_size, width=700, height=500, scores=scores, edge_width=edge_width)\n",
    "    \n",
    "    return SVG(image)"
   ]
  },
  {
   "cell_type": "code",
   "execution_count": 250,
   "id": "6c20194e",
   "metadata": {},
   "outputs": [],
   "source": [
    "scale = ['A', 'B', 'C', 'D', 'E', 'F', 'G']"
   ]
  },
  {
   "cell_type": "code",
   "execution_count": 255,
   "id": "4a7b19df",
   "metadata": {},
   "outputs": [],
   "source": [
    "G = nx.complete_graph(scale)"
   ]
  },
  {
   "cell_type": "code",
   "execution_count": 256,
   "id": "23fd29ff",
   "metadata": {},
   "outputs": [
    {
     "data": {
      "image/svg+xml": [
       "<svg xmlns=\"http://www.w3.org/2000/svg\" width=\"750.0\" height=\"540\">\n",
       "<path stroke-width=\"0.5\" stroke=\"gray\" d=\"M 20 390 29 140\"/>\n",
       "<path stroke-width=\"0.5\" stroke=\"gray\" d=\"M 379 20 710 399\"/>\n",
       "<path stroke-width=\"0.5\" stroke=\"gray\" d=\"M 720 149 20 390\"/>\n",
       "<path stroke-width=\"0.5\" stroke=\"gray\" d=\"M 720 149 29 140\"/>\n",
       "<path stroke-width=\"0.5\" stroke=\"gray\" d=\"M 720 149 361 520\"/>\n",
       "<path stroke-width=\"0.5\" stroke=\"gray\" d=\"M 720 149 379 20\"/>\n",
       "<path stroke-width=\"0.5\" stroke=\"gray\" d=\"M 720 149 369 269\"/>\n",
       "<path stroke-width=\"0.5\" stroke=\"gray\" d=\"M 720 149 710 399\"/>\n",
       "<path stroke-width=\"0.5\" stroke=\"gray\" d=\"M 369 269 20 390\"/>\n",
       "<path stroke-width=\"0.5\" stroke=\"gray\" d=\"M 369 269 29 140\"/>\n",
       "<path stroke-width=\"0.5\" stroke=\"gray\" d=\"M 369 269 361 520\"/>\n",
       "<path stroke-width=\"0.5\" stroke=\"gray\" d=\"M 369 269 379 20\"/>\n",
       "<path stroke-width=\"0.5\" stroke=\"gray\" d=\"M 369 269 720 149\"/>\n",
       "<path stroke-width=\"0.5\" stroke=\"gray\" d=\"M 369 269 710 399\"/>\n",
       "<path stroke-width=\"0.5\" stroke=\"gray\" d=\"M 710 399 20 390\"/>\n",
       "<path stroke-width=\"0.5\" stroke=\"gray\" d=\"M 710 399 29 140\"/>\n",
       "<path stroke-width=\"0.5\" stroke=\"gray\" d=\"M 710 399 361 520\"/>\n",
       "<path stroke-width=\"0.5\" stroke=\"gray\" d=\"M 710 399 379 20\"/>\n",
       "<path stroke-width=\"0.5\" stroke=\"gray\" d=\"M 379 20 369 269\"/>\n",
       "<path stroke-width=\"0.5\" stroke=\"gray\" d=\"M 379 20 720 149\"/>\n",
       "<path stroke-width=\"0.5\" stroke=\"gray\" d=\"M 379 20 361 520\"/>\n",
       "<path stroke-width=\"0.5\" stroke=\"gray\" d=\"M 379 20 29 140\"/>\n",
       "<path stroke-width=\"0.5\" stroke=\"gray\" d=\"M 20 390 361 520\"/>\n",
       "<path stroke-width=\"0.5\" stroke=\"gray\" d=\"M 20 390 379 20\"/>\n",
       "<path stroke-width=\"0.5\" stroke=\"gray\" d=\"M 20 390 720 149\"/>\n",
       "<path stroke-width=\"0.5\" stroke=\"gray\" d=\"M 20 390 369 269\"/>\n",
       "<path stroke-width=\"0.5\" stroke=\"gray\" d=\"M 20 390 710 399\"/>\n",
       "<path stroke-width=\"0.5\" stroke=\"gray\" d=\"M 29 140 20 390\"/>\n",
       "<path stroke-width=\"0.5\" stroke=\"gray\" d=\"M 29 140 361 520\"/>\n",
       "<path stroke-width=\"0.5\" stroke=\"gray\" d=\"M 29 140 379 20\"/>\n",
       "<path stroke-width=\"0.5\" stroke=\"gray\" d=\"M 710 399 720 149\"/>\n",
       "<path stroke-width=\"0.5\" stroke=\"gray\" d=\"M 29 140 720 149\"/>\n",
       "<path stroke-width=\"0.5\" stroke=\"gray\" d=\"M 29 140 710 399\"/>\n",
       "<path stroke-width=\"0.5\" stroke=\"gray\" d=\"M 361 520 20 390\"/>\n",
       "<path stroke-width=\"0.5\" stroke=\"gray\" d=\"M 361 520 29 140\"/>\n",
       "<path stroke-width=\"0.5\" stroke=\"gray\" d=\"M 361 520 379 20\"/>\n",
       "<path stroke-width=\"0.5\" stroke=\"gray\" d=\"M 361 520 720 149\"/>\n",
       "<path stroke-width=\"0.5\" stroke=\"gray\" d=\"M 361 520 369 269\"/>\n",
       "<path stroke-width=\"0.5\" stroke=\"gray\" d=\"M 361 520 710 399\"/>\n",
       "<path stroke-width=\"0.5\" stroke=\"gray\" d=\"M 379 20 20 390\"/>\n",
       "<path stroke-width=\"0.5\" stroke=\"gray\" d=\"M 29 140 369 269\"/>\n",
       "<path stroke-width=\"0.5\" stroke=\"gray\" d=\"M 710 399 369 269\"/>\n",
       "<circle cx=\"20\" cy=\"390\" r=\"10.0\" style=\"fill:rgb(219, 220, 222);stroke:black;stroke-width:1.0\"/>\n",
       "<circle cx=\"29\" cy=\"140\" r=\"10.0\" style=\"fill:rgb(219, 220, 222);stroke:black;stroke-width:1.0\"/>\n",
       "<circle cx=\"361\" cy=\"520\" r=\"10.0\" style=\"fill:rgb(219, 220, 222);stroke:black;stroke-width:1.0\"/>\n",
       "<circle cx=\"379\" cy=\"20\" r=\"10.0\" style=\"fill:rgb(219, 220, 222);stroke:black;stroke-width:1.0\"/>\n",
       "<circle cx=\"720\" cy=\"149\" r=\"10.0\" style=\"fill:rgb(219, 220, 222);stroke:black;stroke-width:1.0\"/>\n",
       "<circle cx=\"369\" cy=\"269\" r=\"10.0\" style=\"fill:rgb(219, 220, 222);stroke:black;stroke-width:1.0\"/>\n",
       "<circle cx=\"710\" cy=\"399\" r=\"10.0\" style=\"fill:rgb(219, 220, 222);stroke:black;stroke-width:1.0\"/>\n",
       "<text text-anchor=\"start\" x=\"33\" y=\"390\" font-size=\"10\">A</text><text text-anchor=\"start\" x=\"42\" y=\"140\" font-size=\"10\">B</text><text text-anchor=\"start\" x=\"374\" y=\"520\" font-size=\"10\">C</text><text text-anchor=\"start\" x=\"392\" y=\"20\" font-size=\"10\">D</text><text text-anchor=\"start\" x=\"733\" y=\"149\" font-size=\"10\">E</text><text text-anchor=\"start\" x=\"382\" y=\"269\" font-size=\"10\">F</text><text text-anchor=\"start\" x=\"723\" y=\"399\" font-size=\"10\">G</text></svg>"
      ],
      "text/plain": [
       "<IPython.core.display.SVG object>"
      ]
     },
     "execution_count": 256,
     "metadata": {},
     "output_type": "execute_result"
    }
   ],
   "source": [
    "draw_graph(G, node_size=10, show_names=True)"
   ]
  },
  {
   "cell_type": "code",
   "execution_count": 275,
   "id": "38783102",
   "metadata": {},
   "outputs": [
    {
     "data": {
      "text/plain": [
       "[['A', 'B', 'A'],\n",
       " ['A', 'B', 'F', 'E', 'C', 'A'],\n",
       " ['A', 'B', 'F', 'E', 'C', 'G', 'D', 'A'],\n",
       " ['A', 'B', 'F', 'E', 'A'],\n",
       " ['A', 'B', 'F', 'A'],\n",
       " ['A', 'B', 'F', 'E', 'C', 'G', 'A']]"
      ]
     },
     "execution_count": 275,
     "metadata": {},
     "output_type": "execute_result"
    }
   ],
   "source": [
    "#nx.shortest_path(G)\n",
    "note_paths = []\n",
    "\n",
    "origin_note = scale[0]\n",
    "\n",
    "for note in scale[1:]:\n",
    "\n",
    "    path = list(nx.all_simple_paths(G, origin_note, note))\n",
    "    note_paths.extend(path)\n",
    "    \n",
    "for path in note_paths: # turn stream into cycle\n",
    "    \n",
    "    path.append(origin_note)\n",
    "    \n",
    "note_paths"
   ]
  },
  {
   "cell_type": "code",
   "execution_count": 276,
   "id": "559a6846",
   "metadata": {},
   "outputs": [
    {
     "data": {
      "text/plain": [
       "7"
      ]
     },
     "execution_count": 276,
     "metadata": {},
     "output_type": "execute_result"
    }
   ],
   "source": [
    "len(scale)"
   ]
  },
  {
   "cell_type": "code",
   "execution_count": 277,
   "id": "8bdebf1f",
   "metadata": {},
   "outputs": [
    {
     "data": {
      "text/plain": [
       "6"
      ]
     },
     "execution_count": 277,
     "metadata": {},
     "output_type": "execute_result"
    }
   ],
   "source": [
    "len(note_paths)"
   ]
  },
  {
   "cell_type": "code",
   "execution_count": 278,
   "id": "e22b2a82",
   "metadata": {},
   "outputs": [
    {
     "data": {
      "text/plain": [
       "[['A', 'B', 'A'],\n",
       " ['A', 'B', 'F', 'E', 'C', 'A'],\n",
       " ['A', 'B', 'F', 'E', 'C', 'G', 'D', 'A'],\n",
       " ['A', 'B', 'F', 'E', 'A'],\n",
       " ['A', 'B', 'F', 'A'],\n",
       " ['A', 'B', 'F', 'E', 'C', 'G', 'A']]"
      ]
     },
     "execution_count": 278,
     "metadata": {},
     "output_type": "execute_result"
    }
   ],
   "source": [
    "note_paths[0:6] # all paths including short paths; options of different lengths for creativity"
   ]
  },
  {
   "cell_type": "code",
   "execution_count": 279,
   "id": "5d95df56",
   "metadata": {},
   "outputs": [],
   "source": [
    "note_paths = [p for p in note_paths if len(p)==8] # full path hitting every note on the way"
   ]
  },
  {
   "cell_type": "code",
   "execution_count": 280,
   "id": "189e2f5b",
   "metadata": {},
   "outputs": [
    {
     "data": {
      "text/plain": [
       "[['A', 'B', 'F', 'E', 'C', 'G', 'D', 'A']]"
      ]
     },
     "execution_count": 280,
     "metadata": {},
     "output_type": "execute_result"
    }
   ],
   "source": [
    "note_paths[0:6]"
   ]
  },
  {
   "cell_type": "code",
   "execution_count": 281,
   "id": "afcd9270",
   "metadata": {},
   "outputs": [],
   "source": [
    "G = nx.path_graph(scale, create_using=nx.DiGraph)"
   ]
  },
  {
   "cell_type": "code",
   "execution_count": 285,
   "id": "919c6b87",
   "metadata": {},
   "outputs": [
    {
     "data": {
      "image/svg+xml": [
       "<svg xmlns=\"http://www.w3.org/2000/svg\" width=\"750.0\" height=\"540\">\n",
       "<defs><marker id=\"arrow-gray\" markerWidth=\"10\" markerHeight=\"10\" refX=\"9\" refY=\"3\" orient=\"auto\">\n",
       "<path d=\"M0,0 L0,6 L9,3 z\" fill=\"gray\"/></marker></defs>\n",
       "<path stroke-width=\"1\" stroke=\"gray\" d=\"M 20 20 78 89\" marker-end=\"url(#arrow-gray)\"/>\n",
       "<path stroke-width=\"1\" stroke=\"gray\" d=\"M 84 96 167 178\" marker-end=\"url(#arrow-gray)\"/>\n",
       "<path stroke-width=\"1\" stroke=\"gray\" d=\"M 174 185 284 272\" marker-end=\"url(#arrow-gray)\"/>\n",
       "<path stroke-width=\"1\" stroke=\"gray\" d=\"M 291 278 420 363\" marker-end=\"url(#arrow-gray)\"/>\n",
       "<path stroke-width=\"1\" stroke=\"gray\" d=\"M 428 368 571 447\" marker-end=\"url(#arrow-gray)\"/>\n",
       "<path stroke-width=\"1\" stroke=\"gray\" d=\"M 579 451 712 516\" marker-end=\"url(#arrow-gray)\"/>\n",
       "<circle cx=\"20\" cy=\"20\" r=\"10.0\" style=\"fill:rgb(58, 76, 192);stroke:black;stroke-width:1.0\"/>\n",
       "<circle cx=\"84\" cy=\"96\" r=\"10.0\" style=\"fill:rgb(80, 107, 218);stroke:black;stroke-width:1.0\"/>\n",
       "<circle cx=\"174\" cy=\"185\" r=\"10.0\" style=\"fill:rgb(109, 144, 241);stroke:black;stroke-width:1.0\"/>\n",
       "<circle cx=\"291\" cy=\"278\" r=\"10.0\" style=\"fill:rgb(141, 175, 253);stroke:black;stroke-width:1.0\"/>\n",
       "<circle cx=\"428\" cy=\"368\" r=\"10.0\" style=\"fill:rgb(176, 203, 251);stroke:black;stroke-width:1.0\"/>\n",
       "<circle cx=\"579\" cy=\"451\" r=\"10.0\" style=\"fill:rgb(210, 218, 231);stroke:black;stroke-width:1.0\"/>\n",
       "<circle cx=\"720\" cy=\"520\" r=\"10.0\" style=\"fill:rgb(179, 3, 38);stroke:black;stroke-width:1.0\"/>\n",
       "<text text-anchor=\"start\" x=\"33\" y=\"20\" font-size=\"10\">A</text><text text-anchor=\"start\" x=\"97\" y=\"96\" font-size=\"10\">B</text><text text-anchor=\"start\" x=\"187\" y=\"185\" font-size=\"10\">C</text><text text-anchor=\"start\" x=\"304\" y=\"278\" font-size=\"10\">D</text><text text-anchor=\"start\" x=\"441\" y=\"368\" font-size=\"10\">E</text><text text-anchor=\"start\" x=\"592\" y=\"451\" font-size=\"10\">F</text><text text-anchor=\"start\" x=\"733\" y=\"520\" font-size=\"10\">G</text></svg>"
      ],
      "text/plain": [
       "<IPython.core.display.SVG object>"
      ]
     },
     "execution_count": 285,
     "metadata": {},
     "output_type": "execute_result"
    }
   ],
   "source": [
    "draw_graph(G, node_size=10, show_names=True, edge_width=1)"
   ]
  },
  {
   "cell_type": "code",
   "execution_count": 265,
   "id": "fe23c4f6",
   "metadata": {},
   "outputs": [
    {
     "name": "stdout",
     "output_type": "stream",
     "text": [
      "Path: ['A', 'C', 'D', 'F', 'G', 'E', 'B', 'A']\n"
     ]
    },
    {
     "data": {
      "image/svg+xml": [
       "<svg xmlns=\"http://www.w3.org/2000/svg\" width=\"754.0\" height=\"540\">\n",
       "<defs><marker id=\"arrow-gray\" markerWidth=\"10\" markerHeight=\"10\" refX=\"9\" refY=\"3\" orient=\"auto\">\n",
       "<path d=\"M0,0 L0,6 L9,3 z\" fill=\"gray\"/></marker></defs>\n",
       "<path stroke-width=\"1\" stroke=\"gray\" d=\"M 329 520 608 446\" marker-end=\"url(#arrow-gray)\"/>\n",
       "<path stroke-width=\"1\" stroke=\"gray\" d=\"M 617 444 716 240\" marker-end=\"url(#arrow-gray)\"/>\n",
       "<path stroke-width=\"1\" stroke=\"gray\" d=\"M 720 231 556 51\" marker-end=\"url(#arrow-gray)\"/>\n",
       "<path stroke-width=\"1\" stroke=\"gray\" d=\"M 550 44 251 20\" marker-end=\"url(#arrow-gray)\"/>\n",
       "<path stroke-width=\"1\" stroke=\"gray\" d=\"M 242 20 28 179\" marker-end=\"url(#arrow-gray)\"/>\n",
       "<path stroke-width=\"1\" stroke=\"gray\" d=\"M 20 184 61 394\" marker-end=\"url(#arrow-gray)\"/>\n",
       "<path stroke-width=\"1\" stroke=\"gray\" d=\"M 62 403 320 517\" marker-end=\"url(#arrow-gray)\"/>\n",
       "<circle cx=\"329\" cy=\"520\" r=\"10.0\" style=\"fill:rgb(219, 220, 222);stroke:black;stroke-width:1.0\"/>\n",
       "<circle cx=\"617\" cy=\"444\" r=\"10.0\" style=\"fill:rgb(219, 220, 222);stroke:black;stroke-width:1.0\"/>\n",
       "<circle cx=\"720\" cy=\"231\" r=\"10.0\" style=\"fill:rgb(219, 220, 222);stroke:black;stroke-width:1.0\"/>\n",
       "<circle cx=\"550\" cy=\"44\" r=\"10.0\" style=\"fill:rgb(219, 220, 222);stroke:black;stroke-width:1.0\"/>\n",
       "<circle cx=\"242\" cy=\"20\" r=\"10.0\" style=\"fill:rgb(219, 220, 222);stroke:black;stroke-width:1.0\"/>\n",
       "<circle cx=\"20\" cy=\"184\" r=\"10.0\" style=\"fill:rgb(219, 220, 222);stroke:black;stroke-width:1.0\"/>\n",
       "<circle cx=\"62\" cy=\"403\" r=\"10.0\" style=\"fill:rgb(219, 220, 222);stroke:black;stroke-width:1.0\"/>\n",
       "<text text-anchor=\"start\" x=\"342\" y=\"520\" font-size=\"14\">A</text><text text-anchor=\"start\" x=\"630\" y=\"444\" font-size=\"14\">C</text><text text-anchor=\"start\" x=\"733\" y=\"231\" font-size=\"14\">D</text><text text-anchor=\"start\" x=\"563\" y=\"44\" font-size=\"14\">F</text><text text-anchor=\"start\" x=\"255\" y=\"20\" font-size=\"14\">G</text><text text-anchor=\"start\" x=\"33\" y=\"184\" font-size=\"14\">E</text><text text-anchor=\"start\" x=\"75\" y=\"403\" font-size=\"14\">B</text></svg>"
      ],
      "text/plain": [
       "<IPython.core.display.SVG object>"
      ]
     },
     "execution_count": 265,
     "metadata": {},
     "output_type": "execute_result"
    }
   ],
   "source": [
    "path = note_paths[3]\n",
    "\n",
    "G = nx.path_graph(path, create_using=nx.DiGraph)\n",
    "print('Path: {}'.format(path))\n",
    "draw_graph(G, node_size=10, show_names=True, edge_width=1, font_size=14)"
   ]
  },
  {
   "cell_type": "code",
   "execution_count": 266,
   "id": "105e3f7b",
   "metadata": {},
   "outputs": [
    {
     "name": "stdout",
     "output_type": "stream",
     "text": [
      "Path: ['A', 'C', 'F', 'E', 'B', 'G', 'D', 'A']\n"
     ]
    },
    {
     "data": {
      "image/svg+xml": [
       "<svg xmlns=\"http://www.w3.org/2000/svg\" width=\"754.0\" height=\"540\">\n",
       "<defs><marker id=\"arrow-gray\" markerWidth=\"10\" markerHeight=\"10\" refX=\"9\" refY=\"3\" orient=\"auto\">\n",
       "<path d=\"M0,0 L0,6 L9,3 z\" fill=\"gray\"/></marker></defs>\n",
       "<path stroke-width=\"1\" stroke=\"gray\" d=\"M 684 400 719 188\" marker-end=\"url(#arrow-gray)\"/>\n",
       "<path stroke-width=\"1\" stroke=\"gray\" d=\"M 720 179 501 25\" marker-end=\"url(#arrow-gray)\"/>\n",
       "<path stroke-width=\"1\" stroke=\"gray\" d=\"M 493 20 199 44\" marker-end=\"url(#arrow-gray)\"/>\n",
       "<path stroke-width=\"1\" stroke=\"gray\" d=\"M 190 44 26 229\" marker-end=\"url(#arrow-gray)\"/>\n",
       "<path stroke-width=\"1\" stroke=\"gray\" d=\"M 20 236 124 439\" marker-end=\"url(#arrow-gray)\"/>\n",
       "<path stroke-width=\"1\" stroke=\"gray\" d=\"M 128 447 410 518\" marker-end=\"url(#arrow-gray)\"/>\n",
       "<path stroke-width=\"1\" stroke=\"gray\" d=\"M 419 520 675 404\" marker-end=\"url(#arrow-gray)\"/>\n",
       "<circle cx=\"684\" cy=\"400\" r=\"10.0\" style=\"fill:rgb(219, 220, 222);stroke:black;stroke-width:1.0\"/>\n",
       "<circle cx=\"720\" cy=\"179\" r=\"10.0\" style=\"fill:rgb(219, 220, 222);stroke:black;stroke-width:1.0\"/>\n",
       "<circle cx=\"493\" cy=\"20\" r=\"10.0\" style=\"fill:rgb(219, 220, 222);stroke:black;stroke-width:1.0\"/>\n",
       "<circle cx=\"190\" cy=\"44\" r=\"10.0\" style=\"fill:rgb(219, 220, 222);stroke:black;stroke-width:1.0\"/>\n",
       "<circle cx=\"20\" cy=\"236\" r=\"10.0\" style=\"fill:rgb(219, 220, 222);stroke:black;stroke-width:1.0\"/>\n",
       "<circle cx=\"128\" cy=\"447\" r=\"10.0\" style=\"fill:rgb(219, 220, 222);stroke:black;stroke-width:1.0\"/>\n",
       "<circle cx=\"419\" cy=\"520\" r=\"10.0\" style=\"fill:rgb(219, 220, 222);stroke:black;stroke-width:1.0\"/>\n",
       "<text text-anchor=\"start\" x=\"697\" y=\"400\" font-size=\"14\">A</text><text text-anchor=\"start\" x=\"733\" y=\"179\" font-size=\"14\">C</text><text text-anchor=\"start\" x=\"506\" y=\"20\" font-size=\"14\">F</text><text text-anchor=\"start\" x=\"203\" y=\"44\" font-size=\"14\">E</text><text text-anchor=\"start\" x=\"33\" y=\"236\" font-size=\"14\">B</text><text text-anchor=\"start\" x=\"141\" y=\"447\" font-size=\"14\">G</text><text text-anchor=\"start\" x=\"432\" y=\"520\" font-size=\"14\">D</text></svg>"
      ],
      "text/plain": [
       "<IPython.core.display.SVG object>"
      ]
     },
     "execution_count": 266,
     "metadata": {},
     "output_type": "execute_result"
    }
   ],
   "source": [
    "from random import choice\n",
    "\n",
    "path = choice(note_paths)\n",
    "\n",
    "G = nx.path_graph(path, create_using=nx.DiGraph)\n",
    "print('Path: {}'.format(path))\n",
    "draw_graph(G, node_size=10, show_names=True, edge_width=1, font_size=14)"
   ]
  },
  {
   "cell_type": "markdown",
   "id": "a20b8b43",
   "metadata": {},
   "source": [
    "# Sequence Play\n",
    "\n",
    "From here, we have a list of sequences that we can choose random sequences from. I would like to programmatically flip through them to listen for inspiration.\n",
    "\n",
    "Playing three or four in a sequence can give an interesting progression.\n",
    "Jumping to the the other side of a graph can help in creating a separate progression.\n",
    "You don't have to play in order. Music and writing use burstiness for effect. "
   ]
  },
  {
   "cell_type": "code",
   "execution_count": 267,
   "id": "4a227ec2",
   "metadata": {},
   "outputs": [],
   "source": [
    "#!pip install sounddevice"
   ]
  },
  {
   "cell_type": "code",
   "execution_count": 268,
   "id": "d2eff78b",
   "metadata": {},
   "outputs": [],
   "source": [
    "import numpy as np\n",
    "import sounddevice as sd\n",
    "\n",
    "def play_note(note, duration=1.0, repeat_times=1):\n",
    "    \n",
    "    notes = {}\n",
    "\n",
    "    notes['A'] = 440\n",
    "    notes['B'] = 493.88\n",
    "    notes['C'] = 261.63\n",
    "    notes['D'] = 293.66\n",
    "    notes['E'] = 329.63\n",
    "    notes['F'] = 349.23\n",
    "    notes['G'] = 392.00\n",
    "\n",
    "    # define parameters for note\n",
    "    frequency = notes[note]  # Frequency of the note in Hz (A4)\n",
    "    sample_rate = 44100  # Samples per second\n",
    "\n",
    "    # generate the note\n",
    "    t = np.linspace(0, duration, int(sample_rate * duration), endpoint=False)\n",
    "    wave = 0.5 * np.sin(2 * np.pi * frequency * t)\n",
    "    \n",
    "    # allow repeats to make more songlike for catching inspiration\n",
    "    for i in range(repeat_times):\n",
    "\n",
    "        # Play the note\n",
    "        sd.play(wave, samplerate=sample_rate)\n",
    "        sd.wait()  # Wait until the note is done playing"
   ]
  },
  {
   "cell_type": "code",
   "execution_count": 269,
   "id": "e69fab68",
   "metadata": {},
   "outputs": [
    {
     "data": {
      "text/plain": [
       "['A', 'C', 'F', 'E', 'B', 'G', 'D', 'A']"
      ]
     },
     "execution_count": 269,
     "metadata": {},
     "output_type": "execute_result"
    }
   ],
   "source": [
    "path"
   ]
  },
  {
   "cell_type": "code",
   "execution_count": 270,
   "id": "c38bbc3a",
   "metadata": {},
   "outputs": [
    {
     "data": {
      "text/plain": [
       "[None, None, None, None, None, None, None, None]"
      ]
     },
     "execution_count": 270,
     "metadata": {},
     "output_type": "execute_result"
    }
   ],
   "source": [
    "[play_note(note, 0.6, repeat_times=2) for note in path]"
   ]
  },
  {
   "cell_type": "markdown",
   "id": "eb873f55",
   "metadata": {},
   "source": [
    "# Randomize the Play"
   ]
  },
  {
   "cell_type": "code",
   "execution_count": 274,
   "id": "498c380e",
   "metadata": {},
   "outputs": [
    {
     "name": "stdout",
     "output_type": "stream",
     "text": [
      "Path: ['A', 'B', 'F', 'E', 'C', 'G', 'D', 'A']\n"
     ]
    },
    {
     "data": {
      "image/svg+xml": [
       "<svg xmlns=\"http://www.w3.org/2000/svg\" width=\"754.0\" height=\"540\">\n",
       "<defs><marker id=\"arrow-gray\" markerWidth=\"10\" markerHeight=\"10\" refX=\"9\" refY=\"3\" orient=\"auto\">\n",
       "<path d=\"M0,0 L0,6 L9,3 z\" fill=\"gray\"/></marker></defs>\n",
       "<path stroke-width=\"1\" stroke=\"gray\" d=\"M 720 327 640 119\" marker-end=\"url(#arrow-gray)\"/>\n",
       "<path stroke-width=\"1\" stroke=\"gray\" d=\"M 637 110 356 22\" marker-end=\"url(#arrow-gray)\"/>\n",
       "<path stroke-width=\"1\" stroke=\"gray\" d=\"M 347 20 83 123\" marker-end=\"url(#arrow-gray)\"/>\n",
       "<path stroke-width=\"1\" stroke=\"gray\" d=\"M 74 126 22 339\" marker-end=\"url(#arrow-gray)\"/>\n",
       "<path stroke-width=\"1\" stroke=\"gray\" d=\"M 20 348 215 514\" marker-end=\"url(#arrow-gray)\"/>\n",
       "<path stroke-width=\"1\" stroke=\"gray\" d=\"M 222 520 529 511\" marker-end=\"url(#arrow-gray)\"/>\n",
       "<path stroke-width=\"1\" stroke=\"gray\" d=\"M 538 511 713 334\" marker-end=\"url(#arrow-gray)\"/>\n",
       "<circle cx=\"720\" cy=\"327\" r=\"10.0\" style=\"fill:rgb(219, 220, 222);stroke:black;stroke-width:1.0\"/>\n",
       "<circle cx=\"637\" cy=\"110\" r=\"10.0\" style=\"fill:rgb(219, 220, 222);stroke:black;stroke-width:1.0\"/>\n",
       "<circle cx=\"347\" cy=\"20\" r=\"10.0\" style=\"fill:rgb(219, 220, 222);stroke:black;stroke-width:1.0\"/>\n",
       "<circle cx=\"74\" cy=\"126\" r=\"10.0\" style=\"fill:rgb(219, 220, 222);stroke:black;stroke-width:1.0\"/>\n",
       "<circle cx=\"20\" cy=\"348\" r=\"10.0\" style=\"fill:rgb(219, 220, 222);stroke:black;stroke-width:1.0\"/>\n",
       "<circle cx=\"222\" cy=\"520\" r=\"10.0\" style=\"fill:rgb(219, 220, 222);stroke:black;stroke-width:1.0\"/>\n",
       "<circle cx=\"538\" cy=\"511\" r=\"10.0\" style=\"fill:rgb(219, 220, 222);stroke:black;stroke-width:1.0\"/>\n",
       "<text text-anchor=\"start\" x=\"733\" y=\"327\" font-size=\"14\">A</text><text text-anchor=\"start\" x=\"650\" y=\"110\" font-size=\"14\">B</text><text text-anchor=\"start\" x=\"360\" y=\"20\" font-size=\"14\">F</text><text text-anchor=\"start\" x=\"87\" y=\"126\" font-size=\"14\">E</text><text text-anchor=\"start\" x=\"33\" y=\"348\" font-size=\"14\">C</text><text text-anchor=\"start\" x=\"235\" y=\"520\" font-size=\"14\">G</text><text text-anchor=\"start\" x=\"551\" y=\"511\" font-size=\"14\">D</text></svg>"
      ],
      "text/plain": [
       "<IPython.core.display.SVG object>"
      ]
     },
     "execution_count": 274,
     "metadata": {},
     "output_type": "execute_result"
    }
   ],
   "source": [
    "path = choice(note_paths)\n",
    "\n",
    "G = nx.path_graph(path, create_using=nx.DiGraph)\n",
    "print('Path: {}'.format(path))\n",
    "draw_graph(G, node_size=10, show_names=True, edge_width=1, font_size=14)"
   ]
  },
  {
   "cell_type": "code",
   "execution_count": 235,
   "id": "2d6615dd",
   "metadata": {},
   "outputs": [
    {
     "data": {
      "text/plain": [
       "[None, None, None, None, None, None, None, None]"
      ]
     },
     "execution_count": 235,
     "metadata": {},
     "output_type": "execute_result"
    }
   ],
   "source": [
    "[play_note(note, 0.6, repeat_times=2) for note in path]"
   ]
  },
  {
   "cell_type": "markdown",
   "id": "d8a62194",
   "metadata": {},
   "source": [
    "# Longer Sequences\n",
    "\n",
    "Let's make a longer sequence and play it, choosing randomly from the graph. We can use simple addition to stich a song together."
   ]
  },
  {
   "cell_type": "code",
   "execution_count": 244,
   "id": "daa5f209",
   "metadata": {},
   "outputs": [
    {
     "data": {
      "text/plain": [
       "['A',\n",
       " 'B',\n",
       " 'C',\n",
       " 'F',\n",
       " 'G',\n",
       " 'D',\n",
       " 'E',\n",
       " 'A',\n",
       " 'A',\n",
       " 'B',\n",
       " 'C',\n",
       " 'F',\n",
       " 'G',\n",
       " 'D',\n",
       " 'E',\n",
       " 'A',\n",
       " 'A',\n",
       " 'C',\n",
       " 'F',\n",
       " 'G',\n",
       " 'B',\n",
       " 'E',\n",
       " 'D',\n",
       " 'A',\n",
       " 'A',\n",
       " 'B',\n",
       " 'C',\n",
       " 'F',\n",
       " 'G',\n",
       " 'D',\n",
       " 'E',\n",
       " 'A',\n",
       " 'A',\n",
       " 'B',\n",
       " 'C',\n",
       " 'F',\n",
       " 'G',\n",
       " 'D',\n",
       " 'E',\n",
       " 'A',\n",
       " 'A',\n",
       " 'C',\n",
       " 'F',\n",
       " 'G',\n",
       " 'B',\n",
       " 'E',\n",
       " 'D',\n",
       " 'A',\n",
       " 'A',\n",
       " 'B',\n",
       " 'C',\n",
       " 'F',\n",
       " 'G',\n",
       " 'D',\n",
       " 'E',\n",
       " 'A']"
      ]
     },
     "execution_count": 244,
     "metadata": {},
     "output_type": "execute_result"
    }
   ],
   "source": [
    "s1 = choice(note_paths)\n",
    "s2 = choice(note_paths)\n",
    "\n",
    "song = s1 + s1 + s2 + s1 + s1 + s2 + s1\n",
    "\n",
    "song"
   ]
  },
  {
   "cell_type": "code",
   "execution_count": 245,
   "id": "b3f4cbad",
   "metadata": {},
   "outputs": [
    {
     "data": {
      "text/plain": [
       "[None,\n",
       " None,\n",
       " None,\n",
       " None,\n",
       " None,\n",
       " None,\n",
       " None,\n",
       " None,\n",
       " None,\n",
       " None,\n",
       " None,\n",
       " None,\n",
       " None,\n",
       " None,\n",
       " None,\n",
       " None,\n",
       " None,\n",
       " None,\n",
       " None,\n",
       " None,\n",
       " None,\n",
       " None,\n",
       " None,\n",
       " None,\n",
       " None,\n",
       " None,\n",
       " None,\n",
       " None,\n",
       " None,\n",
       " None,\n",
       " None,\n",
       " None,\n",
       " None,\n",
       " None,\n",
       " None,\n",
       " None,\n",
       " None,\n",
       " None,\n",
       " None,\n",
       " None,\n",
       " None,\n",
       " None,\n",
       " None,\n",
       " None,\n",
       " None,\n",
       " None,\n",
       " None,\n",
       " None,\n",
       " None,\n",
       " None,\n",
       " None,\n",
       " None,\n",
       " None,\n",
       " None,\n",
       " None,\n",
       " None]"
      ]
     },
     "execution_count": 245,
     "metadata": {},
     "output_type": "execute_result"
    }
   ],
   "source": [
    "[play_note(note, 0.6, repeat_times=2) for note in song]"
   ]
  },
  {
   "cell_type": "code",
   "execution_count": 246,
   "id": "5efcca84",
   "metadata": {},
   "outputs": [
    {
     "data": {
      "text/plain": [
       "['A',\n",
       " 'C',\n",
       " 'D',\n",
       " 'G',\n",
       " 'F',\n",
       " 'B',\n",
       " 'E',\n",
       " 'A',\n",
       " 'A',\n",
       " 'C',\n",
       " 'D',\n",
       " 'G',\n",
       " 'F',\n",
       " 'B',\n",
       " 'E',\n",
       " 'A',\n",
       " 'A',\n",
       " 'E',\n",
       " 'G',\n",
       " 'D',\n",
       " 'F',\n",
       " 'B',\n",
       " 'C',\n",
       " 'A',\n",
       " 'A',\n",
       " 'C',\n",
       " 'D',\n",
       " 'G',\n",
       " 'F',\n",
       " 'B',\n",
       " 'E',\n",
       " 'A',\n",
       " 'A',\n",
       " 'E',\n",
       " 'G',\n",
       " 'D',\n",
       " 'F',\n",
       " 'B',\n",
       " 'C',\n",
       " 'A',\n",
       " 'A',\n",
       " 'E',\n",
       " 'G',\n",
       " 'D',\n",
       " 'F',\n",
       " 'B',\n",
       " 'C',\n",
       " 'A',\n",
       " 'A',\n",
       " 'G',\n",
       " 'B',\n",
       " 'C',\n",
       " 'E',\n",
       " 'D',\n",
       " 'F',\n",
       " 'A']"
      ]
     },
     "execution_count": 246,
     "metadata": {},
     "output_type": "execute_result"
    }
   ],
   "source": [
    "s1 = choice(note_paths)\n",
    "s2 = choice(note_paths)\n",
    "s3 = choice(note_paths)\n",
    "\n",
    "song = s1 + s1 + s2 + s1 + s2 + s2 + s3\n",
    "\n",
    "song"
   ]
  },
  {
   "cell_type": "code",
   "execution_count": 247,
   "id": "f89a17ed",
   "metadata": {},
   "outputs": [
    {
     "data": {
      "text/plain": [
       "[None,\n",
       " None,\n",
       " None,\n",
       " None,\n",
       " None,\n",
       " None,\n",
       " None,\n",
       " None,\n",
       " None,\n",
       " None,\n",
       " None,\n",
       " None,\n",
       " None,\n",
       " None,\n",
       " None,\n",
       " None,\n",
       " None,\n",
       " None,\n",
       " None,\n",
       " None,\n",
       " None,\n",
       " None,\n",
       " None,\n",
       " None,\n",
       " None,\n",
       " None,\n",
       " None,\n",
       " None,\n",
       " None,\n",
       " None,\n",
       " None,\n",
       " None,\n",
       " None,\n",
       " None,\n",
       " None,\n",
       " None,\n",
       " None,\n",
       " None,\n",
       " None,\n",
       " None,\n",
       " None,\n",
       " None,\n",
       " None,\n",
       " None,\n",
       " None,\n",
       " None,\n",
       " None,\n",
       " None,\n",
       " None,\n",
       " None,\n",
       " None,\n",
       " None,\n",
       " None,\n",
       " None,\n",
       " None,\n",
       " None]"
      ]
     },
     "execution_count": 247,
     "metadata": {},
     "output_type": "execute_result"
    }
   ],
   "source": [
    "[play_note(note, 0.6, repeat_times=2) for note in song]"
   ]
  },
  {
   "cell_type": "code",
   "execution_count": null,
   "id": "4b101a5b",
   "metadata": {},
   "outputs": [],
   "source": []
  },
  {
   "cell_type": "markdown",
   "id": "aa73d2eb",
   "metadata": {},
   "source": [
    "# Next Up\n",
    "\n",
    "Next, I will incorporate actual scales. I used ABCDEFG to have a simple start. We need flats and sharps, and the note player needs expanded. I would also like to smooth out the sound to avoid the sharp clicks.\n",
    "\n",
    "This is a fun thing that a musician can play along with, already. Good enough for a first attempt.\n",
    "\n",
    "We have made a graph approach for creating music and exploring sound."
   ]
  },
  {
   "cell_type": "code",
   "execution_count": null,
   "id": "4bc0a44a",
   "metadata": {},
   "outputs": [],
   "source": []
  },
  {
   "cell_type": "code",
   "execution_count": null,
   "id": "35d4c5cb",
   "metadata": {},
   "outputs": [],
   "source": []
  }
 ],
 "metadata": {
  "kernelspec": {
   "display_name": "Python 3 (ipykernel)",
   "language": "python",
   "name": "python3"
  },
  "language_info": {
   "codemirror_mode": {
    "name": "ipython",
    "version": 3
   },
   "file_extension": ".py",
   "mimetype": "text/x-python",
   "name": "python",
   "nbconvert_exporter": "python",
   "pygments_lexer": "ipython3",
   "version": "3.11.5"
  }
 },
 "nbformat": 4,
 "nbformat_minor": 5
}
