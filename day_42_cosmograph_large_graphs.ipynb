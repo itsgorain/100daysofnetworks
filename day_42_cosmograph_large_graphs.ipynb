{
 "cells": [
  {
   "cell_type": "code",
   "execution_count": 24,
   "id": "f2cb948e",
   "metadata": {},
   "outputs": [],
   "source": [
    "import networkx as nx\n",
    "import pandas as pd"
   ]
  },
  {
   "cell_type": "markdown",
   "id": "ae837103",
   "metadata": {},
   "source": [
    "# 100,000 Nodes"
   ]
  },
  {
   "cell_type": "code",
   "execution_count": 25,
   "id": "0da0f879",
   "metadata": {},
   "outputs": [
    {
     "name": "stdout",
     "output_type": "stream",
     "text": [
      "MultiDiGraph with 100000 nodes and 217663 edges\n"
     ]
    }
   ],
   "source": [
    "G = nx.scale_free_graph(100000)\n",
    "\n",
    "print(G)"
   ]
  },
  {
   "cell_type": "code",
   "execution_count": 26,
   "id": "63bf3c8e",
   "metadata": {},
   "outputs": [
    {
     "data": {
      "text/html": [
       "<div>\n",
       "<style scoped>\n",
       "    .dataframe tbody tr th:only-of-type {\n",
       "        vertical-align: middle;\n",
       "    }\n",
       "\n",
       "    .dataframe tbody tr th {\n",
       "        vertical-align: top;\n",
       "    }\n",
       "\n",
       "    .dataframe thead th {\n",
       "        text-align: right;\n",
       "    }\n",
       "</style>\n",
       "<table border=\"1\" class=\"dataframe\">\n",
       "  <thead>\n",
       "    <tr style=\"text-align: right;\">\n",
       "      <th></th>\n",
       "      <th>source</th>\n",
       "      <th>target</th>\n",
       "    </tr>\n",
       "  </thead>\n",
       "  <tbody>\n",
       "    <tr>\n",
       "      <th>0</th>\n",
       "      <td>0</td>\n",
       "      <td>1</td>\n",
       "    </tr>\n",
       "    <tr>\n",
       "      <th>1</th>\n",
       "      <td>0</td>\n",
       "      <td>1</td>\n",
       "    </tr>\n",
       "    <tr>\n",
       "      <th>2</th>\n",
       "      <td>0</td>\n",
       "      <td>0</td>\n",
       "    </tr>\n",
       "    <tr>\n",
       "      <th>3</th>\n",
       "      <td>0</td>\n",
       "      <td>306</td>\n",
       "    </tr>\n",
       "    <tr>\n",
       "      <th>4</th>\n",
       "      <td>0</td>\n",
       "      <td>8685</td>\n",
       "    </tr>\n",
       "  </tbody>\n",
       "</table>\n",
       "</div>"
      ],
      "text/plain": [
       "   source  target\n",
       "0       0       1\n",
       "1       0       1\n",
       "2       0       0\n",
       "3       0     306\n",
       "4       0    8685"
      ]
     },
     "execution_count": 26,
     "metadata": {},
     "output_type": "execute_result"
    }
   ],
   "source": [
    "df = nx.to_pandas_edgelist(G)\n",
    "df.head()"
   ]
  },
  {
   "cell_type": "code",
   "execution_count": 27,
   "id": "cb2f9706",
   "metadata": {},
   "outputs": [],
   "source": [
    "outfile = r'C:\\Users\\itsgo\\PythonCode\\100daysofnetworks\\data\\generated\\scale_free_100k.csv'\n",
    "\n",
    "df.to_csv(outfile, index=False, header=True)"
   ]
  },
  {
   "cell_type": "markdown",
   "id": "a254d1ac",
   "metadata": {},
   "source": [
    "# 200,000 Nodes"
   ]
  },
  {
   "cell_type": "code",
   "execution_count": 28,
   "id": "8664ceda",
   "metadata": {},
   "outputs": [
    {
     "name": "stdout",
     "output_type": "stream",
     "text": [
      "MultiDiGraph with 200000 nodes and 435554 edges\n"
     ]
    }
   ],
   "source": [
    "G = nx.scale_free_graph(200000)\n",
    "\n",
    "print(G)"
   ]
  },
  {
   "cell_type": "code",
   "execution_count": 29,
   "id": "8154d5c4",
   "metadata": {},
   "outputs": [],
   "source": [
    "outfile = r'C:\\Users\\itsgo\\PythonCode\\100daysofnetworks\\data\\generated\\scale_free_200k.csv'\n",
    "\n",
    "df = nx.to_pandas_edgelist(G)\n",
    "df.to_csv(outfile, index=False, header=True)"
   ]
  },
  {
   "cell_type": "markdown",
   "id": "08f891b8",
   "metadata": {},
   "source": [
    "# Smaller: Les Miserables Social Network"
   ]
  },
  {
   "cell_type": "code",
   "execution_count": 30,
   "id": "a80f81bd",
   "metadata": {},
   "outputs": [
    {
     "name": "stdout",
     "output_type": "stream",
     "text": [
      "Graph with 77 nodes and 254 edges\n"
     ]
    }
   ],
   "source": [
    "G = nx.les_miserables_graph()\n",
    "print(G)"
   ]
  },
  {
   "cell_type": "code",
   "execution_count": 31,
   "id": "28c6e8d2",
   "metadata": {},
   "outputs": [],
   "source": [
    "outfile = r'C:\\Users\\itsgo\\PythonCode\\100daysofnetworks\\data\\generated\\les_miserables.csv'\n",
    "\n",
    "df = nx.to_pandas_edgelist(G)\n",
    "df.to_csv(outfile, index=False, header=True)"
   ]
  },
  {
   "cell_type": "markdown",
   "id": "632b4a58",
   "metadata": {},
   "source": [
    "# Upload the data you create to https://cosmograph.app/run/ and explore it!\n",
    "\n",
    "Cosmograph is capable of visualizing 100k with ease, and 200k starts to lag a bit\n",
    "Cosmograph claims to be able to visualize million scale networks\n",
    "\n",
    "This is outstanding, as most other graph visualization software struggles to come close to this."
   ]
  },
  {
   "cell_type": "code",
   "execution_count": null,
   "id": "bcb54b78",
   "metadata": {},
   "outputs": [],
   "source": []
  },
  {
   "cell_type": "code",
   "execution_count": null,
   "id": "d1b500b1",
   "metadata": {},
   "outputs": [],
   "source": []
  }
 ],
 "metadata": {
  "kernelspec": {
   "display_name": "Python 3 (ipykernel)",
   "language": "python",
   "name": "python3"
  },
  "language_info": {
   "codemirror_mode": {
    "name": "ipython",
    "version": 3
   },
   "file_extension": ".py",
   "mimetype": "text/x-python",
   "name": "python",
   "nbconvert_exporter": "python",
   "pygments_lexer": "ipython3",
   "version": "3.11.5"
  }
 },
 "nbformat": 4,
 "nbformat_minor": 5
}
