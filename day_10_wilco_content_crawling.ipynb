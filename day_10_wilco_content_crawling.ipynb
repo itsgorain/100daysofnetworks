{
 "cells": [
  {
   "cell_type": "code",
   "execution_count": 1,
   "id": "7d18c815",
   "metadata": {},
   "outputs": [],
   "source": [
    "import networkx as nx\n",
    "import pandas as pd\n",
    "import wikipedia as w"
   ]
  },
  {
   "cell_type": "code",
   "execution_count": 2,
   "id": "5e7e69f4",
   "metadata": {},
   "outputs": [
    {
     "data": {
      "text/html": [
       "<div>\n",
       "<style scoped>\n",
       "    .dataframe tbody tr th:only-of-type {\n",
       "        vertical-align: middle;\n",
       "    }\n",
       "\n",
       "    .dataframe tbody tr th {\n",
       "        vertical-align: top;\n",
       "    }\n",
       "\n",
       "    .dataframe thead th {\n",
       "        text-align: right;\n",
       "    }\n",
       "</style>\n",
       "<table border=\"1\" class=\"dataframe\">\n",
       "  <thead>\n",
       "    <tr style=\"text-align: right;\">\n",
       "      <th></th>\n",
       "      <th>source</th>\n",
       "      <th>target</th>\n",
       "    </tr>\n",
       "  </thead>\n",
       "  <tbody>\n",
       "    <tr>\n",
       "      <th>0</th>\n",
       "      <td>A.M. (Wilco album)</td>\n",
       "      <td>Jeff Tweedy</td>\n",
       "    </tr>\n",
       "    <tr>\n",
       "      <th>1</th>\n",
       "      <td>A.M. (Wilco album)</td>\n",
       "      <td>Wilco (The Album)</td>\n",
       "    </tr>\n",
       "    <tr>\n",
       "      <th>2</th>\n",
       "      <td>A.M. (Wilco album)</td>\n",
       "      <td>I Am Trying to Break Your Heart: A Film About ...</td>\n",
       "    </tr>\n",
       "    <tr>\n",
       "      <th>3</th>\n",
       "      <td>A.M. (Wilco album)</td>\n",
       "      <td>Being There (Wilco album)</td>\n",
       "    </tr>\n",
       "    <tr>\n",
       "      <th>4</th>\n",
       "      <td>A.M. (Wilco album)</td>\n",
       "      <td>Cruel Country</td>\n",
       "    </tr>\n",
       "  </tbody>\n",
       "</table>\n",
       "</div>"
      ],
      "text/plain": [
       "               source                                             target\n",
       "0  A.M. (Wilco album)                                        Jeff Tweedy\n",
       "1  A.M. (Wilco album)                                  Wilco (The Album)\n",
       "2  A.M. (Wilco album)  I Am Trying to Break Your Heart: A Film About ...\n",
       "3  A.M. (Wilco album)                          Being There (Wilco album)\n",
       "4  A.M. (Wilco album)                                      Cruel Country"
      ]
     },
     "execution_count": 2,
     "metadata": {},
     "output_type": "execute_result"
    }
   ],
   "source": [
    "data = r'data/wilco_edgelist_clean.csv'\n",
    "\n",
    "df = pd.read_csv(data)\n",
    "\n",
    "df.head()"
   ]
  },
  {
   "cell_type": "code",
   "execution_count": 3,
   "id": "5296a3e1",
   "metadata": {},
   "outputs": [],
   "source": [
    "G = nx.from_pandas_edgelist(df)"
   ]
  },
  {
   "cell_type": "code",
   "execution_count": 4,
   "id": "e7936819",
   "metadata": {},
   "outputs": [
    {
     "name": "stdout",
     "output_type": "stream",
     "text": [
      "Graph with 41 nodes and 167 edges\n"
     ]
    }
   ],
   "source": [
    "print(nx.info(G))"
   ]
  },
  {
   "cell_type": "markdown",
   "id": "10aa2232",
   "metadata": {},
   "source": [
    "# Content Crawling\n",
    "\n",
    "Today, we're going to use the cleaned Wilco Edgelist, use it to list Wikipedia pages to crawl, crawl the content, and save the data for downstream use. The first thing we need to do is identify pages to crawl."
   ]
  },
  {
   "cell_type": "code",
   "execution_count": 6,
   "id": "d99ce3f7",
   "metadata": {},
   "outputs": [],
   "source": [
    "def crawl_wiki_pages(pages):\n",
    "\n",
    "    page_data = {}\n",
    "\n",
    "    for i in range(len(pages)):\n",
    "\n",
    "        print('running: {}/{}'.format(i+1, len(pages)))\n",
    "        \n",
    "        try:\n",
    "\n",
    "            page = w.page(pages[i])\n",
    "            title = page.original_title\n",
    "\n",
    "            page_data[title] = {}\n",
    "            page_data[title]['categories'] = page.categories\n",
    "            page_data[title]['content'] = page.content\n",
    "            page_data[title]['images'] = page.images\n",
    "            page_data[title]['links'] = page.links\n",
    "            page_data[title]['web_links'] = sorted(page.references)\n",
    "            \n",
    "        except:\n",
    "            \n",
    "            # if page not found, continue to next\n",
    "            continue\n",
    "\n",
    "    return page_data"
   ]
  },
  {
   "cell_type": "code",
   "execution_count": 7,
   "id": "55cc1be6",
   "metadata": {},
   "outputs": [
    {
     "data": {
      "text/plain": [
       "['A Ghost Is Born',\n",
       " 'A.M. (Wilco album)',\n",
       " 'Being There (Wilco album)',\n",
       " 'Billy Bragg',\n",
       " 'Billy Bragg discography',\n",
       " 'Brewing Up with Billy Bragg',\n",
       " 'Cruel Country',\n",
       " 'Glenn Kotche',\n",
       " 'Grant Showbiz',\n",
       " 'I Am Trying to Break Your Heart: A Film About Wilco',\n",
       " 'Jay Bennett',\n",
       " 'Jay Farrar',\n",
       " 'Jay Farrar discography',\n",
       " 'Jeff Tweedy',\n",
       " 'Jeff Tweedy discography',\n",
       " 'John Stirratt',\n",
       " 'Ken Coomer',\n",
       " 'Kicking Television: Live in Chicago',\n",
       " \"Life's a Riot with Spy vs Spy\",\n",
       " 'Loose Fur',\n",
       " 'Man in the Sand',\n",
       " 'Mermaid Avenue',\n",
       " 'Mermaid Avenue Vol. II',\n",
       " 'Mermaid Avenue: The Complete Sessions',\n",
       " \"Mermaid's Avenue\",\n",
       " 'Mike Heidorn',\n",
       " 'Ode to Joy (Wilco album)',\n",
       " 'Schmilco',\n",
       " 'Sky Blue Sky',\n",
       " 'Son Volt',\n",
       " 'Star Wars (Wilco album)',\n",
       " 'Sukierae',\n",
       " 'Summerteeth',\n",
       " 'Tweedy',\n",
       " 'Tweedy (band)',\n",
       " 'Uncle Tupelo',\n",
       " 'Wilco',\n",
       " 'Wilco (The Album)',\n",
       " 'Wilco discography',\n",
       " 'Woody Guthrie',\n",
       " 'Yankee Hotel Foxtrot']"
      ]
     },
     "execution_count": 7,
     "metadata": {},
     "output_type": "execute_result"
    }
   ],
   "source": [
    "pages = sorted(G.nodes)\n",
    "#pages = pages[0:10]\n",
    "pages"
   ]
  },
  {
   "cell_type": "code",
   "execution_count": 8,
   "id": "2383e87a",
   "metadata": {},
   "outputs": [
    {
     "name": "stdout",
     "output_type": "stream",
     "text": [
      "running: 1/41\n",
      "running: 2/41\n",
      "running: 3/41\n",
      "running: 4/41\n",
      "running: 5/41\n",
      "running: 6/41\n",
      "running: 7/41\n",
      "running: 8/41\n",
      "running: 9/41\n",
      "running: 10/41\n",
      "running: 11/41\n",
      "running: 12/41\n",
      "running: 13/41\n",
      "running: 14/41\n",
      "running: 15/41\n",
      "running: 16/41\n",
      "running: 17/41\n",
      "running: 18/41\n",
      "running: 19/41\n",
      "running: 20/41\n",
      "running: 21/41\n",
      "running: 22/41\n",
      "running: 23/41\n",
      "running: 24/41\n",
      "running: 25/41\n",
      "running: 26/41\n",
      "running: 27/41\n",
      "running: 28/41\n",
      "running: 29/41\n",
      "running: 30/41\n",
      "running: 31/41\n",
      "running: 32/41\n",
      "running: 33/41\n",
      "running: 34/41\n",
      "running: 35/41\n",
      "running: 36/41\n",
      "running: 37/41\n"
     ]
    },
    {
     "name": "stderr",
     "output_type": "stream",
     "text": [
      "C:\\Users\\groov\\AppData\\Roaming\\Python\\Python37\\site-packages\\wikipedia\\wikipedia.py:389: GuessedAtParserWarning: No parser was explicitly specified, so I'm using the best available HTML parser for this system (\"lxml\"). This usually isn't a problem, but if you run this code on another system, or in a different virtual environment, it may use a different parser and behave differently.\n",
      "\n",
      "The code that caused this warning is on line 389 of the file C:\\Users\\groov\\AppData\\Roaming\\Python\\Python37\\site-packages\\wikipedia\\wikipedia.py. To get rid of this warning, pass the additional argument 'features=\"lxml\"' to the BeautifulSoup constructor.\n",
      "\n",
      "  lis = BeautifulSoup(html).find_all('li')\n"
     ]
    },
    {
     "name": "stdout",
     "output_type": "stream",
     "text": [
      "running: 38/41\n",
      "running: 39/41\n",
      "running: 40/41\n",
      "running: 41/41\n"
     ]
    }
   ],
   "source": [
    "page_data = crawl_wiki_pages(pages)"
   ]
  },
  {
   "cell_type": "code",
   "execution_count": 9,
   "id": "788c87fb",
   "metadata": {},
   "outputs": [
    {
     "data": {
      "text/html": [
       "<div>\n",
       "<style scoped>\n",
       "    .dataframe tbody tr th:only-of-type {\n",
       "        vertical-align: middle;\n",
       "    }\n",
       "\n",
       "    .dataframe tbody tr th {\n",
       "        vertical-align: top;\n",
       "    }\n",
       "\n",
       "    .dataframe thead th {\n",
       "        text-align: right;\n",
       "    }\n",
       "</style>\n",
       "<table border=\"1\" class=\"dataframe\">\n",
       "  <thead>\n",
       "    <tr style=\"text-align: right;\">\n",
       "      <th></th>\n",
       "      <th>page</th>\n",
       "      <th>categories</th>\n",
       "      <th>content</th>\n",
       "      <th>images</th>\n",
       "      <th>links</th>\n",
       "      <th>web_links</th>\n",
       "    </tr>\n",
       "  </thead>\n",
       "  <tbody>\n",
       "    <tr>\n",
       "      <th>0</th>\n",
       "      <td>A Ghost Is Born</td>\n",
       "      <td>[2004 albums, Album articles lacking alt text ...</td>\n",
       "      <td>A Ghost Is Born is the fifth studio album by A...</td>\n",
       "      <td>[https://upload.wikimedia.org/wikipedia/common...</td>\n",
       "      <td>[A.M. (Wilco album), ARIA Charts, A Rush of Bl...</td>\n",
       "      <td>[http://acharts.us/album/13436, http://article...</td>\n",
       "    </tr>\n",
       "    <tr>\n",
       "      <th>1</th>\n",
       "      <td>A.M. (Wilco album)</td>\n",
       "      <td>[1995 debut albums, Albums produced by Brian P...</td>\n",
       "      <td>A.M. is the debut studio album by the American...</td>\n",
       "      <td>[https://upload.wikimedia.org/wikipedia/common...</td>\n",
       "      <td>[A Ghost Is Born, Acoustic guitar, Album, AllM...</td>\n",
       "      <td>[http://articles.chicagotribune.com/1995-04-27...</td>\n",
       "    </tr>\n",
       "    <tr>\n",
       "      <th>2</th>\n",
       "      <td>Being There (Wilco album)</td>\n",
       "      <td>[1996 albums, Album articles lacking alt text ...</td>\n",
       "      <td>Being There is the second studio album by the ...</td>\n",
       "      <td>[https://upload.wikimedia.org/wikipedia/common...</td>\n",
       "      <td>[1001 Albums You Must Hear Before You Die, A.M...</td>\n",
       "      <td>[http://www.chicagorecording.com/chrisshepard/...</td>\n",
       "    </tr>\n",
       "    <tr>\n",
       "      <th>3</th>\n",
       "      <td>Billy Bragg discography</td>\n",
       "      <td>[Articles with short description, Billy Bragg,...</td>\n",
       "      <td>The discography of British singer-songwriter B...</td>\n",
       "      <td>[https://upload.wikimedia.org/wikipedia/common...</td>\n",
       "      <td>[ARIA, ARIA Charts, A New England, Alternative...</td>\n",
       "      <td>[http://www.billybragg.co.uk/, https://austral...</td>\n",
       "    </tr>\n",
       "    <tr>\n",
       "      <th>4</th>\n",
       "      <td>Brewing Up with Billy Bragg</td>\n",
       "      <td>[1984 albums, Album articles lacking alt text ...</td>\n",
       "      <td>Brewing Up with Billy Bragg is the second albu...</td>\n",
       "      <td>[https://upload.wikimedia.org/wikipedia/common...</td>\n",
       "      <td>[A New England, Album, AllMusic, Andrew Collin...</td>\n",
       "      <td>[http://hotpress.com/music/reviews/albums/4418...</td>\n",
       "    </tr>\n",
       "  </tbody>\n",
       "</table>\n",
       "</div>"
      ],
      "text/plain": [
       "                          page  \\\n",
       "0              A Ghost Is Born   \n",
       "1           A.M. (Wilco album)   \n",
       "2    Being There (Wilco album)   \n",
       "3      Billy Bragg discography   \n",
       "4  Brewing Up with Billy Bragg   \n",
       "\n",
       "                                          categories  \\\n",
       "0  [2004 albums, Album articles lacking alt text ...   \n",
       "1  [1995 debut albums, Albums produced by Brian P...   \n",
       "2  [1996 albums, Album articles lacking alt text ...   \n",
       "3  [Articles with short description, Billy Bragg,...   \n",
       "4  [1984 albums, Album articles lacking alt text ...   \n",
       "\n",
       "                                             content  \\\n",
       "0  A Ghost Is Born is the fifth studio album by A...   \n",
       "1  A.M. is the debut studio album by the American...   \n",
       "2  Being There is the second studio album by the ...   \n",
       "3  The discography of British singer-songwriter B...   \n",
       "4  Brewing Up with Billy Bragg is the second albu...   \n",
       "\n",
       "                                              images  \\\n",
       "0  [https://upload.wikimedia.org/wikipedia/common...   \n",
       "1  [https://upload.wikimedia.org/wikipedia/common...   \n",
       "2  [https://upload.wikimedia.org/wikipedia/common...   \n",
       "3  [https://upload.wikimedia.org/wikipedia/common...   \n",
       "4  [https://upload.wikimedia.org/wikipedia/common...   \n",
       "\n",
       "                                               links  \\\n",
       "0  [A.M. (Wilco album), ARIA Charts, A Rush of Bl...   \n",
       "1  [A Ghost Is Born, Acoustic guitar, Album, AllM...   \n",
       "2  [1001 Albums You Must Hear Before You Die, A.M...   \n",
       "3  [ARIA, ARIA Charts, A New England, Alternative...   \n",
       "4  [A New England, Album, AllMusic, Andrew Collin...   \n",
       "\n",
       "                                           web_links  \n",
       "0  [http://acharts.us/album/13436, http://article...  \n",
       "1  [http://articles.chicagotribune.com/1995-04-27...  \n",
       "2  [http://www.chicagorecording.com/chrisshepard/...  \n",
       "3  [http://www.billybragg.co.uk/, https://austral...  \n",
       "4  [http://hotpress.com/music/reviews/albums/4418...  "
      ]
     },
     "execution_count": 9,
     "metadata": {},
     "output_type": "execute_result"
    }
   ],
   "source": [
    "df = pd.DataFrame(page_data).T.reset_index()\n",
    "\n",
    "df.columns = ['page', 'categories', 'content', 'images', 'links', 'web_links']\n",
    "\n",
    "df.head()"
   ]
  },
  {
   "cell_type": "code",
   "execution_count": 10,
   "id": "5b1ef256",
   "metadata": {},
   "outputs": [
    {
     "data": {
      "text/plain": [
       "(33, 6)"
      ]
     },
     "execution_count": 10,
     "metadata": {},
     "output_type": "execute_result"
    }
   ],
   "source": [
    "df.shape # most pages came through, some were not actual pages (bad links?)"
   ]
  },
  {
   "cell_type": "markdown",
   "id": "50922885",
   "metadata": {},
   "source": [
    "# Save the Data\n",
    "\n",
    "I prefer to save to json when not creating an edgelist, but you can change to another format if you like."
   ]
  },
  {
   "cell_type": "code",
   "execution_count": 11,
   "id": "d5a36895",
   "metadata": {},
   "outputs": [],
   "source": [
    "outfile = r'data/wikipedia_content_wilco.json'\n",
    "\n",
    "df.to_json(outfile, orient='records')"
   ]
  },
  {
   "cell_type": "code",
   "execution_count": 12,
   "id": "a9866c22",
   "metadata": {},
   "outputs": [
    {
     "data": {
      "text/plain": [
       "(33, 6)"
      ]
     },
     "execution_count": 12,
     "metadata": {},
     "output_type": "execute_result"
    }
   ],
   "source": [
    "df.shape"
   ]
  },
  {
   "cell_type": "code",
   "execution_count": 13,
   "id": "c1d9526a",
   "metadata": {},
   "outputs": [
    {
     "data": {
      "text/html": [
       "<div>\n",
       "<style scoped>\n",
       "    .dataframe tbody tr th:only-of-type {\n",
       "        vertical-align: middle;\n",
       "    }\n",
       "\n",
       "    .dataframe tbody tr th {\n",
       "        vertical-align: top;\n",
       "    }\n",
       "\n",
       "    .dataframe thead th {\n",
       "        text-align: right;\n",
       "    }\n",
       "</style>\n",
       "<table border=\"1\" class=\"dataframe\">\n",
       "  <thead>\n",
       "    <tr style=\"text-align: right;\">\n",
       "      <th></th>\n",
       "      <th>page</th>\n",
       "      <th>categories</th>\n",
       "      <th>content</th>\n",
       "      <th>images</th>\n",
       "      <th>links</th>\n",
       "      <th>web_links</th>\n",
       "    </tr>\n",
       "  </thead>\n",
       "  <tbody>\n",
       "    <tr>\n",
       "      <th>0</th>\n",
       "      <td>A Ghost Is Born</td>\n",
       "      <td>[2004 albums, Album articles lacking alt text ...</td>\n",
       "      <td>A Ghost Is Born is the fifth studio album by A...</td>\n",
       "      <td>[https://upload.wikimedia.org/wikipedia/common...</td>\n",
       "      <td>[A.M. (Wilco album), ARIA Charts, A Rush of Bl...</td>\n",
       "      <td>[http://acharts.us/album/13436, http://article...</td>\n",
       "    </tr>\n",
       "    <tr>\n",
       "      <th>1</th>\n",
       "      <td>A.M. (Wilco album)</td>\n",
       "      <td>[1995 debut albums, Albums produced by Brian P...</td>\n",
       "      <td>A.M. is the debut studio album by the American...</td>\n",
       "      <td>[https://upload.wikimedia.org/wikipedia/common...</td>\n",
       "      <td>[A Ghost Is Born, Acoustic guitar, Album, AllM...</td>\n",
       "      <td>[http://articles.chicagotribune.com/1995-04-27...</td>\n",
       "    </tr>\n",
       "    <tr>\n",
       "      <th>2</th>\n",
       "      <td>Being There (Wilco album)</td>\n",
       "      <td>[1996 albums, Album articles lacking alt text ...</td>\n",
       "      <td>Being There is the second studio album by the ...</td>\n",
       "      <td>[https://upload.wikimedia.org/wikipedia/common...</td>\n",
       "      <td>[1001 Albums You Must Hear Before You Die, A.M...</td>\n",
       "      <td>[http://www.chicagorecording.com/chrisshepard/...</td>\n",
       "    </tr>\n",
       "  </tbody>\n",
       "</table>\n",
       "</div>"
      ],
      "text/plain": [
       "                        page  \\\n",
       "0            A Ghost Is Born   \n",
       "1         A.M. (Wilco album)   \n",
       "2  Being There (Wilco album)   \n",
       "\n",
       "                                          categories  \\\n",
       "0  [2004 albums, Album articles lacking alt text ...   \n",
       "1  [1995 debut albums, Albums produced by Brian P...   \n",
       "2  [1996 albums, Album articles lacking alt text ...   \n",
       "\n",
       "                                             content  \\\n",
       "0  A Ghost Is Born is the fifth studio album by A...   \n",
       "1  A.M. is the debut studio album by the American...   \n",
       "2  Being There is the second studio album by the ...   \n",
       "\n",
       "                                              images  \\\n",
       "0  [https://upload.wikimedia.org/wikipedia/common...   \n",
       "1  [https://upload.wikimedia.org/wikipedia/common...   \n",
       "2  [https://upload.wikimedia.org/wikipedia/common...   \n",
       "\n",
       "                                               links  \\\n",
       "0  [A.M. (Wilco album), ARIA Charts, A Rush of Bl...   \n",
       "1  [A Ghost Is Born, Acoustic guitar, Album, AllM...   \n",
       "2  [1001 Albums You Must Hear Before You Die, A.M...   \n",
       "\n",
       "                                           web_links  \n",
       "0  [http://acharts.us/album/13436, http://article...  \n",
       "1  [http://articles.chicagotribune.com/1995-04-27...  \n",
       "2  [http://www.chicagorecording.com/chrisshepard/...  "
      ]
     },
     "execution_count": 13,
     "metadata": {},
     "output_type": "execute_result"
    }
   ],
   "source": [
    "pd.read_json(outfile).head(3) # spot check that file wrote successfully"
   ]
  },
  {
   "cell_type": "code",
   "execution_count": null,
   "id": "1ed4b7e7",
   "metadata": {},
   "outputs": [],
   "source": []
  },
  {
   "cell_type": "code",
   "execution_count": null,
   "id": "277f2dd9",
   "metadata": {},
   "outputs": [],
   "source": []
  }
 ],
 "metadata": {
  "kernelspec": {
   "display_name": "Python 3",
   "language": "python",
   "name": "python3"
  },
  "language_info": {
   "codemirror_mode": {
    "name": "ipython",
    "version": 3
   },
   "file_extension": ".py",
   "mimetype": "text/x-python",
   "name": "python",
   "nbconvert_exporter": "python",
   "pygments_lexer": "ipython3",
   "version": "3.7.16"
  }
 },
 "nbformat": 4,
 "nbformat_minor": 5
}
