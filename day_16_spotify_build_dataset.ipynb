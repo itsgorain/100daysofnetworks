{
 "cells": [
  {
   "cell_type": "code",
   "execution_count": null,
   "id": "dedef501",
   "metadata": {},
   "outputs": [],
   "source": [
    "#!pip install spotipy --upgrade"
   ]
  },
  {
   "cell_type": "code",
   "execution_count": 1,
   "id": "3facecc3",
   "metadata": {},
   "outputs": [],
   "source": [
    "import pandas as pd\n",
    "\n",
    "from spotipy import Spotify\n",
    "from spotipy.oauth2 import SpotifyClientCredentials\n",
    "\n",
    "from time import sleep"
   ]
  },
  {
   "cell_type": "code",
   "execution_count": 2,
   "id": "f1005df8",
   "metadata": {},
   "outputs": [],
   "source": [
    "def get_artist_name(artist_id):\n",
    "    \n",
    "    return sp.artist(artist_id)['name']"
   ]
  },
  {
   "cell_type": "markdown",
   "id": "ec840268",
   "metadata": {},
   "source": [
    "# Authenticate\n",
    "\n",
    "Read this to learn to use this library, including authentication: https://spotipy.readthedocs.io/en/2.22.1/\n",
    "\n",
    "You're going to need to store your cient_id and client_secret somewhere. There are different ways to do this, but I found this to be simplest. "
   ]
  },
  {
   "cell_type": "code",
   "execution_count": 5,
   "id": "1865f8be",
   "metadata": {},
   "outputs": [],
   "source": [
    "auth_data = '../creds/spotify.csv'\n",
    "\n",
    "auth_df = pd.read_csv(auth_data)\n",
    "ccm = SpotifyClientCredentials(client_id=auth_df['client_id'][0], client_secret=auth_df['client_secret'][0])\n",
    "sp = Spotify(client_credentials_manager=ccm)"
   ]
  },
  {
   "cell_type": "markdown",
   "id": "3c39b0e0",
   "metadata": {},
   "source": [
    "Use this to test that it is working. If you get data back, it's working. Else you will get an ugly error message. You can also look into 'data', but it is a lot, so I am not showing."
   ]
  },
  {
   "cell_type": "code",
   "execution_count": 6,
   "id": "c7e87b92",
   "metadata": {},
   "outputs": [
    {
     "data": {
      "text/plain": [
       "dict_keys(['href', 'items', 'limit', 'next', 'offset', 'previous', 'total'])"
      ]
     },
     "execution_count": 6,
     "metadata": {},
     "output_type": "execute_result"
    }
   ],
   "source": [
    "search_artist = 'Steve Vai'\n",
    "\n",
    "data = sp.search(search_artist)\n",
    "data['tracks'].keys()"
   ]
  },
  {
   "cell_type": "markdown",
   "id": "b9bb0f2f",
   "metadata": {},
   "source": [
    "# Build Edgelist\n",
    "\n",
    "This is going to repeat the 'snowball sampling' approach used in the Wikipedia crawler, but for Spotify. Find all artists that one artist knows, and then find all artists that those artists know."
   ]
  },
  {
   "cell_type": "code",
   "execution_count": 7,
   "id": "48507b66",
   "metadata": {},
   "outputs": [],
   "source": [
    "def search_spotify(search_artists):\n",
    "\n",
    "    source_artists = []\n",
    "    target_artists = []\n",
    "\n",
    "\n",
    "    print('searching artists: {}'.format(search_artists))\n",
    "    \n",
    "    for artist in search_artists:\n",
    "        \n",
    "        print('artist: {}'.format(artist))\n",
    "\n",
    "        try:\n",
    "\n",
    "            data = sp.search(artist)\n",
    "            df = pd.DataFrame(data['tracks']['items'])\n",
    "\n",
    "            found_artists = sorted(set([a[0]['id'] for a in df['artists']]))\n",
    "            found_artists = [get_artist_name(a) for a in found_artists]\n",
    "            found_artists = [a for a in found_artists if artist not in a]\n",
    "\n",
    "            for found_artist in found_artists:\n",
    "\n",
    "                source_artists.append(artist)\n",
    "                target_artists.append(found_artist)\n",
    "\n",
    "        except:\n",
    "\n",
    "            print('not found')\n",
    "\n",
    "        sleep(0.3)\n",
    "        \n",
    "    return source_artists, target_artists"
   ]
  },
  {
   "cell_type": "code",
   "execution_count": 9,
   "id": "2af25875",
   "metadata": {},
   "outputs": [],
   "source": [
    "def create_edgelist_df(seed_search, iterations=3):\n",
    "\n",
    "    completed = []\n",
    "    sources = []\n",
    "    targets = []\n",
    "\n",
    "    for i in range(iterations):\n",
    "        \n",
    "        print('starting iteration: {}'.format(i))\n",
    "        print()\n",
    "\n",
    "        if i == 0:\n",
    "\n",
    "            search_list = seed_searches\n",
    "\n",
    "        origin_pages, found_pages = search_spotify(search_list)\n",
    "                \n",
    "        completed.extend(origin_pages)\n",
    "        sources.extend(origin_pages)\n",
    "        targets.extend(found_pages)\n",
    "\n",
    "        search_list = sorted(set([t for t in targets if t not in completed]))\n",
    "        print()\n",
    "        print(search_list)\n",
    "        print()\n",
    "        \n",
    "    df = pd.DataFrame(list(zip(sources, targets)))\n",
    "    df.columns = ['source', 'target']\n",
    "                  \n",
    "    return df"
   ]
  },
  {
   "cell_type": "code",
   "execution_count": 10,
   "id": "62528e76",
   "metadata": {},
   "outputs": [
    {
     "name": "stdout",
     "output_type": "stream",
     "text": [
      "starting iteration: 0\n",
      "\n",
      "searching artists: ['B.B. King']\n",
      "artist: B.B. King\n",
      "\n",
      "['Big Choze', 'Lil Wayne', 'NEGAPHONE', 'U2', 'WeeBay']\n",
      "\n",
      "starting iteration: 1\n",
      "\n",
      "searching artists: ['Big Choze', 'Lil Wayne', 'NEGAPHONE', 'U2', 'WeeBay']\n",
      "artist: Big Choze\n",
      "artist: Lil Wayne\n",
      "artist: NEGAPHONE\n",
      "artist: U2\n",
      "artist: WeeBay\n",
      "\n",
      "['Abdeelgha4', 'Ace Hood', 'Alexnocap', 'AzChike', 'Baye Mass', 'Big Sean', 'BigChiiffa', 'Clyde Boudreaux', 'Degree', 'Drake', 'Duzzy Funlop', 'Edot Babyy', 'Ian Ewing', 'Jason Aldean', 'Jay Sean', 'Kendrick Lamar', 'Mons', 'Nelyoti', 'ShittyBoyz', 'Tyga', 'Webbie', 'Young Iggz', 'kelseyi', 'sasakure.UK']\n",
      "\n",
      "starting iteration: 2\n",
      "\n",
      "searching artists: ['Abdeelgha4', 'Ace Hood', 'Alexnocap', 'AzChike', 'Baye Mass', 'Big Sean', 'BigChiiffa', 'Clyde Boudreaux', 'Degree', 'Drake', 'Duzzy Funlop', 'Edot Babyy', 'Ian Ewing', 'Jason Aldean', 'Jay Sean', 'Kendrick Lamar', 'Mons', 'Nelyoti', 'ShittyBoyz', 'Tyga', 'Webbie', 'Young Iggz', 'kelseyi', 'sasakure.UK']\n",
      "artist: Abdeelgha4\n",
      "artist: Ace Hood\n",
      "artist: Alexnocap\n",
      "artist: AzChike\n",
      "artist: Baye Mass\n",
      "artist: Big Sean\n",
      "artist: BigChiiffa\n",
      "artist: Clyde Boudreaux\n",
      "artist: Degree\n",
      "artist: Drake\n",
      "artist: Duzzy Funlop\n",
      "artist: Edot Babyy\n",
      "artist: Ian Ewing\n",
      "artist: Jason Aldean\n",
      "artist: Jay Sean\n",
      "artist: Kendrick Lamar\n",
      "artist: Mons\n",
      "artist: Nelyoti\n",
      "artist: ShittyBoyz\n",
      "artist: Tyga\n",
      "artist: Webbie\n",
      "artist: Young Iggz\n",
      "artist: kelseyi\n",
      "artist: sasakure.UK\n",
      "\n",
      "['$uicideboy$', '93FEETOFSMOKE', 'Abdallah Adel', 'Abdel Halim Hafez', 'Abdelli', 'Ace Hood', 'Acito', 'Alex Campos', 'Alex Nocera', 'Alexa Cappelli', 'All Time Low', 'Arno Coleridge', 'AzChike', 'Baye Mass', 'Blue Wednesday', 'Bobby \"Boris\" Pickett', 'Boosie Badazz', 'Braxton Cook', 'Claude Bolling', 'Clyde Brain', 'Clyde Bruce', 'Cola', 'EST Gee', 'Edot Babyy', 'Fuzzy', 'Harry Hudson', 'Huapanguero', 'Isaiah Rashad', 'JEY', 'Jack Harlow', 'Jason Aldean', 'Jesse Novak', 'Justine Skye', 'Kanye West', 'Kelsea Ballerini', 'Koastle', 'LUM!X', 'Lady Gaga', 'Lemuell', 'MadeByVL', 'Metro Station', 'PinocchioP', 'Professor Longhair', 'Rishi Rich', 'Shinedown', 'ShittyBoyz', 'Skillet', 'Strehlow', 'Supereffective', 'Taylor McFerrin', 'Taylor Swift', 'The Architect', 'Toshio Masuda', 'Travis Porter', 'Travis Scott', 'Young Thug', 'sasalasa']\n",
      "\n"
     ]
    }
   ],
   "source": [
    "seed_searches = ['B.B. King']\n",
    "\n",
    "df = create_edgelist_df(seed_searches)"
   ]
  },
  {
   "cell_type": "code",
   "execution_count": 21,
   "id": "b6955ba4",
   "metadata": {},
   "outputs": [
    {
     "data": {
      "text/plain": [
       "(88, 2)"
      ]
     },
     "execution_count": 21,
     "metadata": {},
     "output_type": "execute_result"
    }
   ],
   "source": [
    "df.shape"
   ]
  },
  {
   "cell_type": "code",
   "execution_count": 22,
   "id": "3ee4c749",
   "metadata": {},
   "outputs": [
    {
     "data": {
      "text/html": [
       "<div>\n",
       "<style scoped>\n",
       "    .dataframe tbody tr th:only-of-type {\n",
       "        vertical-align: middle;\n",
       "    }\n",
       "\n",
       "    .dataframe tbody tr th {\n",
       "        vertical-align: top;\n",
       "    }\n",
       "\n",
       "    .dataframe thead th {\n",
       "        text-align: right;\n",
       "    }\n",
       "</style>\n",
       "<table border=\"1\" class=\"dataframe\">\n",
       "  <thead>\n",
       "    <tr style=\"text-align: right;\">\n",
       "      <th></th>\n",
       "      <th>source</th>\n",
       "      <th>target</th>\n",
       "    </tr>\n",
       "  </thead>\n",
       "  <tbody>\n",
       "    <tr>\n",
       "      <th>0</th>\n",
       "      <td>B.B. King</td>\n",
       "      <td>NEGAPHONE</td>\n",
       "    </tr>\n",
       "    <tr>\n",
       "      <th>1</th>\n",
       "      <td>B.B. King</td>\n",
       "      <td>WeeBay</td>\n",
       "    </tr>\n",
       "    <tr>\n",
       "      <th>2</th>\n",
       "      <td>B.B. King</td>\n",
       "      <td>Big Choze</td>\n",
       "    </tr>\n",
       "    <tr>\n",
       "      <th>3</th>\n",
       "      <td>B.B. King</td>\n",
       "      <td>U2</td>\n",
       "    </tr>\n",
       "    <tr>\n",
       "      <th>4</th>\n",
       "      <td>B.B. King</td>\n",
       "      <td>Lil Wayne</td>\n",
       "    </tr>\n",
       "  </tbody>\n",
       "</table>\n",
       "</div>"
      ],
      "text/plain": [
       "      source     target\n",
       "0  B.B. King  NEGAPHONE\n",
       "1  B.B. King     WeeBay\n",
       "2  B.B. King  Big Choze\n",
       "3  B.B. King         U2\n",
       "4  B.B. King  Lil Wayne"
      ]
     },
     "execution_count": 22,
     "metadata": {},
     "output_type": "execute_result"
    }
   ],
   "source": [
    "df.head()"
   ]
  },
  {
   "cell_type": "code",
   "execution_count": 23,
   "id": "bb088a1e",
   "metadata": {},
   "outputs": [],
   "source": [
    "outfile = 'data/spotify_bbking_edgelist.csv'\n",
    "\n",
    "df.to_csv(outfile, index=False)"
   ]
  },
  {
   "cell_type": "code",
   "execution_count": null,
   "id": "009215a2",
   "metadata": {},
   "outputs": [],
   "source": []
  }
 ],
 "metadata": {
  "kernelspec": {
   "display_name": "Python 3",
   "language": "python",
   "name": "python3"
  },
  "language_info": {
   "codemirror_mode": {
    "name": "ipython",
    "version": 3
   },
   "file_extension": ".py",
   "mimetype": "text/x-python",
   "name": "python",
   "nbconvert_exporter": "python",
   "pygments_lexer": "ipython3",
   "version": "3.7.16"
  }
 },
 "nbformat": 4,
 "nbformat_minor": 5
}
