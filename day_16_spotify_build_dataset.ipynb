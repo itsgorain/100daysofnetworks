{
 "cells": [
  {
   "cell_type": "code",
   "execution_count": null,
   "id": "dedef501",
   "metadata": {},
   "outputs": [],
   "source": [
    "#!pip install spotipy --upgrade"
   ]
  },
  {
   "cell_type": "code",
   "execution_count": 1,
   "id": "3facecc3",
   "metadata": {},
   "outputs": [],
   "source": [
    "import pandas as pd\n",
    "\n",
    "from spotipy import Spotify\n",
    "from spotipy.oauth2 import SpotifyClientCredentials\n",
    "\n",
    "from time import sleep"
   ]
  },
  {
   "cell_type": "code",
   "execution_count": 2,
   "id": "f1005df8",
   "metadata": {},
   "outputs": [],
   "source": [
    "def get_artist_name(artist_id):\n",
    "    \n",
    "    return sp.artist(artist_id)['name']"
   ]
  },
  {
   "cell_type": "markdown",
   "id": "ec840268",
   "metadata": {},
   "source": [
    "# Authenticate\n",
    "\n",
    "Read this to learn to use this library, including authentication: https://spotipy.readthedocs.io/en/2.22.1/\n",
    "\n",
    "You're going to need to store your cient_id and client_secret somewhere. There are different ways to do this, but I found this to be simplest. "
   ]
  },
  {
   "cell_type": "code",
   "execution_count": 3,
   "id": "1865f8be",
   "metadata": {},
   "outputs": [],
   "source": [
    "auth_data = '../creds/spotify.csv'\n",
    "\n",
    "auth_df = pd.read_csv(auth_data)\n",
    "ccm = SpotifyClientCredentials(client_id=auth_df['client_id'][0], client_secret=auth_df['client_secret'][0])\n",
    "sp = Spotify(client_credentials_manager=ccm)"
   ]
  },
  {
   "cell_type": "markdown",
   "id": "3c39b0e0",
   "metadata": {},
   "source": [
    "Use this to test that it is working. If you get data back, it's working. Else you will get an ugly error message. You can also look into 'data', but it is a lot, so I am not showing."
   ]
  },
  {
   "cell_type": "code",
   "execution_count": 4,
   "id": "c7e87b92",
   "metadata": {},
   "outputs": [
    {
     "data": {
      "text/plain": [
       "dict_keys(['href', 'items', 'limit', 'next', 'offset', 'previous', 'total'])"
      ]
     },
     "execution_count": 4,
     "metadata": {},
     "output_type": "execute_result"
    }
   ],
   "source": [
    "search_artist = 'Begin'\n",
    "\n",
    "data = sp.search(search_artist)\n",
    "data['tracks'].keys()"
   ]
  },
  {
   "cell_type": "markdown",
   "id": "b9bb0f2f",
   "metadata": {},
   "source": [
    "# Build Edgelist\n",
    "\n",
    "This is going to repeat the 'snowball sampling' approach used in the Wikipedia crawler, but for Spotify. Find all artists that one artist knows, and then find all artists that those artists know."
   ]
  },
  {
   "cell_type": "code",
   "execution_count": 5,
   "id": "48507b66",
   "metadata": {},
   "outputs": [],
   "source": [
    "def search_spotify(search_artists):\n",
    "\n",
    "    source_artists = []\n",
    "    target_artists = []\n",
    "\n",
    "\n",
    "    print('searching artists: {}'.format(search_artists))\n",
    "    \n",
    "    for artist in search_artists:\n",
    "        \n",
    "        print('artist: {}'.format(artist))\n",
    "\n",
    "        try:\n",
    "\n",
    "            data = sp.search(artist)\n",
    "            df = pd.DataFrame(data['tracks']['items'])\n",
    "\n",
    "            found_artists = sorted(set([a[0]['id'] for a in df['artists']]))\n",
    "            found_artists = [get_artist_name(a) for a in found_artists]\n",
    "            found_artists = [a for a in found_artists if artist not in a]\n",
    "\n",
    "            for found_artist in found_artists:\n",
    "\n",
    "                source_artists.append(artist)\n",
    "                target_artists.append(found_artist)\n",
    "\n",
    "        except:\n",
    "\n",
    "            print('not found')\n",
    "\n",
    "        sleep(0.3)\n",
    "        \n",
    "    return source_artists, target_artists"
   ]
  },
  {
   "cell_type": "code",
   "execution_count": 6,
   "id": "2af25875",
   "metadata": {},
   "outputs": [],
   "source": [
    "def create_edgelist_df(seed_search, iterations=3):\n",
    "\n",
    "    completed = []\n",
    "    sources = []\n",
    "    targets = []\n",
    "\n",
    "    for i in range(iterations):\n",
    "        \n",
    "        print('starting iteration: {}'.format(i))\n",
    "        print()\n",
    "\n",
    "        if i == 0:\n",
    "\n",
    "            search_list = seed_searches\n",
    "\n",
    "        origin_pages, found_pages = search_spotify(search_list)\n",
    "                \n",
    "        completed.extend(origin_pages)\n",
    "        sources.extend(origin_pages)\n",
    "        targets.extend(found_pages)\n",
    "\n",
    "        search_list = sorted(set([t for t in targets if t not in completed]))\n",
    "        print()\n",
    "        print(search_list)\n",
    "        print()\n",
    "        \n",
    "    df = pd.DataFrame(list(zip(sources, targets)))\n",
    "    df.columns = ['source', 'target']\n",
    "                  \n",
    "    return df"
   ]
  },
  {
   "cell_type": "code",
   "execution_count": 15,
   "id": "62528e76",
   "metadata": {},
   "outputs": [
    {
     "name": "stdout",
     "output_type": "stream",
     "text": [
      "starting iteration: 0\n",
      "\n",
      "searching artists: ['Namie Amuro', 'Orange Range', 'Southern Allstars', 'Rinken Band', 'サザンオールスターズ', 'ayaka', 'Seibun Tokuhara']\n",
      "artist: Namie Amuro\n",
      "artist: Orange Range\n",
      "artist: Southern Allstars\n",
      "artist: Rinken Band\n",
      "artist: サザンオールスターズ\n",
      "artist: ayaka\n",
      "artist: Seibun Tokuhara\n",
      "\n",
      "['Alex G', 'Benny Dayal', 'Beside Bed', 'Brent Cobb', 'Chimuanya', 'HOYO-MiX', 'Henry Smith', 'Hideaki Tokunaga', 'Jolin Tsai', 'Lilrb', 'Louis Armstrong', 'MIKE', 'ORANGE RANGE', 'Osamuraisan', 'Rockit Music', 'SOUTHERN ALL STARS', 'Sadao China', 'Taeko Onuki', 'Vivid BAD SQUAD', 'WagakkiBand', 'angela', 'xMEIYIN']\n",
      "\n",
      "starting iteration: 1\n",
      "\n",
      "searching artists: ['Alex G', 'Benny Dayal', 'Beside Bed', 'Brent Cobb', 'Chimuanya', 'HOYO-MiX', 'Henry Smith', 'Hideaki Tokunaga', 'Jolin Tsai', 'Lilrb', 'Louis Armstrong', 'MIKE', 'ORANGE RANGE', 'Osamuraisan', 'Rockit Music', 'SOUTHERN ALL STARS', 'Sadao China', 'Taeko Onuki', 'Vivid BAD SQUAD', 'WagakkiBand', 'angela', 'xMEIYIN']\n",
      "artist: Alex G\n",
      "artist: Benny Dayal\n",
      "artist: Beside Bed\n",
      "artist: Brent Cobb\n",
      "artist: Chimuanya\n",
      "artist: HOYO-MiX\n",
      "artist: Henry Smith\n",
      "artist: Hideaki Tokunaga\n",
      "artist: Jolin Tsai\n",
      "artist: Lilrb\n",
      "artist: Louis Armstrong\n",
      "artist: MIKE\n",
      "artist: ORANGE RANGE\n",
      "artist: Osamuraisan\n",
      "artist: Rockit Music\n",
      "artist: SOUTHERN ALL STARS\n",
      "artist: Sadao China\n",
      "artist: Taeko Onuki\n",
      "artist: Vivid BAD SQUAD\n",
      "artist: WagakkiBand\n",
      "artist: angela\n",
      "artist: xMEIYIN\n",
      "\n",
      "['5 Seconds of Summer', 'A-Mei Chang', 'Achichiba', 'Becky G', 'Benny Dawn', 'Benny Friedman', 'Benny Sings', 'Brent Cobb', 'Christopher Jackson', 'Devilish Trio', 'Drake', 'EVADE FROM 宇宙', 'Emmasings', 'Flower Face', 'Freeman HKD', 'Gregory Alan Isakov', 'Henry Smith', 'Herbie Hancock', 'Hideaki Tokunaga', 'Hotel Ugly', 'Ifeoma', 'James Blunt', 'Jolin Tsai', 'Jordy Chandra', 'Lil Baby', 'Los Caminantes', 'Louis Armstrong', 'Marlon Guild', 'Matoma', 'Meychan', 'Mike Posner', 'Mike Sherm', 'Miriamy', 'Myaap', 'Nelly', 'Niontay', 'Nstens1117', 'Onolyriks', 'OsMan', 'Paul Russell', 'Perfeccion', 'Pritam', 'Rinsho Kadekaru', 'SIM-CEE', 'Sadao Watanabe', 'Seijin Noborikawa', 'Soul Armoniko', 'Southall', 'Taeko Onuki', 'The Lumineers', 'Tokyo Machine', 'Torby Brand', 'Vector U', 'Vivid BAD SQUAD', 'WagakkiBand', 'Yu-Peng Chen', 'Yuridia', 'alex_g_offline', 'mike.', 'mimiel', 'pedrolina.', 'Ángela Aguilar', 'サザンオールスターズ', '泰葉', '知名定男']\n",
      "\n",
      "starting iteration: 2\n",
      "\n",
      "searching artists: ['5 Seconds of Summer', 'A-Mei Chang', 'Achichiba', 'Becky G', 'Benny Dawn', 'Benny Friedman', 'Benny Sings', 'Brent Cobb', 'Christopher Jackson', 'Devilish Trio', 'Drake', 'EVADE FROM 宇宙', 'Emmasings', 'Flower Face', 'Freeman HKD', 'Gregory Alan Isakov', 'Henry Smith', 'Herbie Hancock', 'Hideaki Tokunaga', 'Hotel Ugly', 'Ifeoma', 'James Blunt', 'Jolin Tsai', 'Jordy Chandra', 'Lil Baby', 'Los Caminantes', 'Louis Armstrong', 'Marlon Guild', 'Matoma', 'Meychan', 'Mike Posner', 'Mike Sherm', 'Miriamy', 'Myaap', 'Nelly', 'Niontay', 'Nstens1117', 'Onolyriks', 'OsMan', 'Paul Russell', 'Perfeccion', 'Pritam', 'Rinsho Kadekaru', 'SIM-CEE', 'Sadao Watanabe', 'Seijin Noborikawa', 'Soul Armoniko', 'Southall', 'Taeko Onuki', 'The Lumineers', 'Tokyo Machine', 'Torby Brand', 'Vector U', 'Vivid BAD SQUAD', 'WagakkiBand', 'Yu-Peng Chen', 'Yuridia', 'alex_g_offline', 'mike.', 'mimiel', 'pedrolina.', 'Ángela Aguilar', 'サザンオールスターズ', '泰葉', '知名定男']\n",
      "artist: 5 Seconds of Summer\n",
      "artist: A-Mei Chang\n",
      "artist: Achichiba\n",
      "artist: Becky G\n",
      "artist: Benny Dawn\n",
      "artist: Benny Friedman\n",
      "artist: Benny Sings\n",
      "artist: Brent Cobb\n",
      "artist: Christopher Jackson\n",
      "artist: Devilish Trio\n",
      "artist: Drake\n",
      "artist: EVADE FROM 宇宙\n",
      "artist: Emmasings\n",
      "artist: Flower Face\n",
      "artist: Freeman HKD\n",
      "artist: Gregory Alan Isakov\n",
      "artist: Henry Smith\n",
      "artist: Herbie Hancock\n",
      "artist: Hideaki Tokunaga\n",
      "artist: Hotel Ugly\n",
      "artist: Ifeoma\n",
      "artist: James Blunt\n",
      "artist: Jolin Tsai\n",
      "artist: Jordy Chandra\n",
      "artist: Lil Baby\n",
      "artist: Los Caminantes\n",
      "artist: Louis Armstrong\n",
      "artist: Marlon Guild\n",
      "artist: Matoma\n",
      "artist: Meychan\n",
      "artist: Mike Posner\n",
      "artist: Mike Sherm\n",
      "artist: Miriamy\n",
      "artist: Myaap\n",
      "artist: Nelly\n",
      "artist: Niontay\n",
      "artist: Nstens1117\n",
      "artist: Onolyriks\n",
      "artist: OsMan\n",
      "artist: Paul Russell\n",
      "artist: Perfeccion\n",
      "artist: Pritam\n",
      "artist: Rinsho Kadekaru\n",
      "artist: SIM-CEE\n",
      "artist: Sadao Watanabe\n",
      "artist: Seijin Noborikawa\n",
      "artist: Soul Armoniko\n",
      "artist: Southall\n",
      "artist: Taeko Onuki\n",
      "artist: The Lumineers\n",
      "artist: Tokyo Machine\n",
      "artist: Torby Brand\n",
      "artist: Vector U\n",
      "artist: Vivid BAD SQUAD\n",
      "artist: WagakkiBand\n",
      "artist: Yu-Peng Chen\n",
      "artist: Yuridia\n",
      "artist: alex_g_offline\n",
      "artist: mike.\n",
      "artist: mimiel\n",
      "artist: pedrolina.\n",
      "artist: Ángela Aguilar\n",
      "artist: サザンオールスターズ\n",
      "artist: 泰葉\n",
      "artist: 知名定男\n",
      "\n",
      "['$NOT', '4x3', '5 Seconds of Summer', 'Ahmed Alshaiba', 'Alameños de la Sierra', 'Amit Trivedi', 'Apolosi B', 'Arch Enemy', 'Babyface', 'Baltorino Beats', 'Becky G', 'Benny Goodman Sextet', 'Benny L', 'Brent Cobb', 'Calibre 50', 'Cameo', 'Carin Leon', 'Chris Brown', 'Christian Nodal', 'Christopher Jackson', 'Coldplay', 'DJ Sean K', 'Desifx', 'Devilish Trio', 'Didi B', 'Donell Jones', 'Dray', 'Drmartinezvzla', 'EXOTIC SKATES', 'Edicion Especial', 'Eduardo XD', 'Escape the Fate', 'Eve', 'ExQ', 'Ezra Martinez', 'FINANCE', 'Falling In Reverse', 'Felix Jaehn', 'Free Nationals', 'Gregory Alan Isakov', 'Guru', 'HRVY', 'Happy Rattan', 'Henry Smith', 'Herbie Hancock', 'Hideaki Tokunaga', 'Hiroyuki Sawano', 'Hotel Ugly', 'Iam Tongi', 'Ichiko Aoba', 'Idan Balas', 'Isobel Waller-Bridge', 'Jay Chou', 'Jay Wheeler', 'Jephy Jay', 'Jimmy D Psalmist', 'Jolin Tsai', 'Jordi', 'Jordy Searcy', 'Juli Savioli', 'KLIM', 'Kaoru Wada', 'Kewin Cosmos', 'Khaled', 'Kina Shouei Group', 'La Mar-K De Tierra Caliente', 'LaTorre', 'LeeHi', 'Leon Paul-Phillips', 'LiSA', 'Lone Tusker', 'Los Chavalos De La Perla', \"Los Yonic's\", 'Lost Frequencies', 'Louis Armstrong', 'MD DJ', 'MEL GRANDA', 'MIEL', 'Marcy WTF', 'Marlon Funaki', 'Marlon Heins', 'Marlon Williams', 'Marshmello', 'Mato', 'Matooma', 'Matt Dubb', 'Mc Livinho', 'Megadeth', 'Metallica', 'Mike Sherm', 'Mike WiLL Made-It', 'Mikel Erentxun', 'Mikel Ovalle', 'Miriam Modest', 'Mundo Suave', 'Myriam Hernandez', 'NONT TANONT', 'Nicki Minaj', 'Night Tempo', 'Nivel', 'Noony', 'Nstens1117', 'Omarion', 'Onlery', 'Osmani Garcia \"La Voz\"', 'P-Square', 'PEDRO SAMPAIO', 'Passenger 10', 'Pedrina', 'Pedro Infante y la Rondalla del Amor de Saltillo', 'Priya Saraiya', 'RY X', 'Rassim Touffah', 'Rex Orange County', 'Rinshou Kadekaru', 'Rittz', 'Robin Schulz', 'SEKAI NO OWARI', 'Samuel Sim', 'Sanam Marvi', 'Santa Fe Klan', 'Sheddy Rhmx', 'Shreya Ghoshal', 'SiM', 'Sleeping At Last', 'Slushii', 'Soul A', 'Soul ASMR', 'Soul Asylum', 'Steven Price', 'Taeko Onuki', 'Tamrat Desta', 'The Toy Dolls', 'The Vamps', 'Toni Braxton', 'Travis Scott', 'Twinuzis archive', 'Tzarboy', 'Udit Narayan', 'Umu Obiligbo', 'Vargas de Tecalitlan', 'Vector', 'Vector of Underground', 'Vektor', 'Vivid BAD SQUAD', 'Wael Jassar', 'WagakkiBand', 'Yahritza Y Su Esencia', 'Yoko Shimomura', 'Yu-Peng Chen', 'Yuuri', 'Zach Bryan', 'eevee', 'iwamizu', 'jon-YAKITORY', 'mario.da.man', 'natori', 'removeface', 'whaledontsleep', 'Üst Perde', 'サザンオールスターズ']\n",
      "\n"
     ]
    }
   ],
   "source": [
    "# https://open.spotify.com/playlist/7kQFA9hKvkLsmuh4mwoTPi\n",
    "\n",
    "seed_searches = ['Namie Amuro', 'Orange Range', 'Southern Allstars', 'Rinken Band', 'サザンオールスターズ', 'ayaka', 'Seibun Tokuhara']\n",
    "\n",
    "df = create_edgelist_df(seed_searches)"
   ]
  },
  {
   "cell_type": "code",
   "execution_count": 16,
   "id": "b6955ba4",
   "metadata": {},
   "outputs": [
    {
     "data": {
      "text/plain": [
       "(237, 2)"
      ]
     },
     "execution_count": 16,
     "metadata": {},
     "output_type": "execute_result"
    }
   ],
   "source": [
    "df.shape"
   ]
  },
  {
   "cell_type": "code",
   "execution_count": 17,
   "id": "3ee4c749",
   "metadata": {},
   "outputs": [
    {
     "data": {
      "text/html": [
       "<div>\n",
       "<style scoped>\n",
       "    .dataframe tbody tr th:only-of-type {\n",
       "        vertical-align: middle;\n",
       "    }\n",
       "\n",
       "    .dataframe tbody tr th {\n",
       "        vertical-align: top;\n",
       "    }\n",
       "\n",
       "    .dataframe thead th {\n",
       "        text-align: right;\n",
       "    }\n",
       "</style>\n",
       "<table border=\"1\" class=\"dataframe\">\n",
       "  <thead>\n",
       "    <tr style=\"text-align: right;\">\n",
       "      <th></th>\n",
       "      <th>source</th>\n",
       "      <th>target</th>\n",
       "    </tr>\n",
       "  </thead>\n",
       "  <tbody>\n",
       "    <tr>\n",
       "      <th>0</th>\n",
       "      <td>Namie Amuro</td>\n",
       "      <td>Jolin Tsai</td>\n",
       "    </tr>\n",
       "    <tr>\n",
       "      <th>1</th>\n",
       "      <td>Orange Range</td>\n",
       "      <td>Rockit Music</td>\n",
       "    </tr>\n",
       "    <tr>\n",
       "      <th>2</th>\n",
       "      <td>Orange Range</td>\n",
       "      <td>ORANGE RANGE</td>\n",
       "    </tr>\n",
       "    <tr>\n",
       "      <th>3</th>\n",
       "      <td>Orange Range</td>\n",
       "      <td>Benny Dayal</td>\n",
       "    </tr>\n",
       "    <tr>\n",
       "      <th>4</th>\n",
       "      <td>Southern Allstars</td>\n",
       "      <td>Louis Armstrong</td>\n",
       "    </tr>\n",
       "  </tbody>\n",
       "</table>\n",
       "</div>"
      ],
      "text/plain": [
       "              source           target\n",
       "0        Namie Amuro       Jolin Tsai\n",
       "1       Orange Range     Rockit Music\n",
       "2       Orange Range     ORANGE RANGE\n",
       "3       Orange Range      Benny Dayal\n",
       "4  Southern Allstars  Louis Armstrong"
      ]
     },
     "execution_count": 17,
     "metadata": {},
     "output_type": "execute_result"
    }
   ],
   "source": [
    "df.head()"
   ]
  },
  {
   "cell_type": "code",
   "execution_count": 18,
   "id": "bb088a1e",
   "metadata": {},
   "outputs": [],
   "source": [
    "outfile = 'data/spotify_okinawa_edgelist.csv'\n",
    "\n",
    "df.to_csv(outfile, index=False)"
   ]
  },
  {
   "cell_type": "code",
   "execution_count": null,
   "id": "009215a2",
   "metadata": {},
   "outputs": [],
   "source": []
  }
 ],
 "metadata": {
  "kernelspec": {
   "display_name": "Python 3",
   "language": "python",
   "name": "python3"
  },
  "language_info": {
   "codemirror_mode": {
    "name": "ipython",
    "version": 3
   },
   "file_extension": ".py",
   "mimetype": "text/x-python",
   "name": "python",
   "nbconvert_exporter": "python",
   "pygments_lexer": "ipython3",
   "version": "3.7.16"
  }
 },
 "nbformat": 4,
 "nbformat_minor": 5
}
